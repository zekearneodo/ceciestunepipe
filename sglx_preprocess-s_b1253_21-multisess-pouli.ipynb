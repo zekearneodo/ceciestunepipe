{
 "cells": [
  {
   "cell_type": "markdown",
   "metadata": {},
   "source": [
    "# Pre-processing pipeline for spikeglx sessions\n",
    "- For every run in the session:\n",
    " - Load the recordings\n",
    " - Extract wav chan with micrhopohone and make a wav chan with the nidq syn signal\n",
    " - Get the sync events for the nidq sync channel\n",
    " \n",
    " - Do bout detection\n",
    " \n",
    "In another notebook, bout detection is curated\n",
    "- Left to decide where to:\n",
    "    - Sort spikes\n",
    "    - Sync the spikes/lfp/nidq\n",
    "    - make and plot 'bout rasters'"
   ]
  },
  {
   "cell_type": "code",
   "execution_count": 1,
   "metadata": {},
   "outputs": [],
   "source": [
    "%matplotlib inline\n",
    "import os\n",
    "import glob\n",
    "import logging\n",
    "import pickle\n",
    "import numpy as np\n",
    "import pandas as pd\n",
    "from scipy.io import wavfile\n",
    "from scipy import signal\n",
    "import traceback\n",
    "import warnings\n",
    "\n",
    "from matplotlib import pyplot as plt\n",
    "from importlib import reload\n",
    "\n",
    "logger = logging.getLogger()\n",
    "handler = logging.StreamHandler()\n",
    "formatter = logging.Formatter(\n",
    "        '%(asctime)s %(name)-12s %(levelname)-8s %(message)s')\n",
    "handler.setFormatter(formatter)\n",
    "logger.addHandler(handler)\n",
    "logger.setLevel(logging.INFO)\n"
   ]
  },
  {
   "cell_type": "code",
   "execution_count": 2,
   "metadata": {},
   "outputs": [
    {
     "name": "stdout",
     "output_type": "stream",
     "text": [
      "h5py version > 2.10.0. Some extractors might not work properly. It is recommended to downgrade to version 2.10.0: \n",
      ">>> pip install h5py==2.10.0\n"
     ]
    }
   ],
   "source": [
    "from ceciestunepipe.file import bcistructure as et\n",
    "from ceciestunepipe.util import sglxutil as sglu\n",
    "from ceciestunepipe.util import rigutil as ru\n",
    "from ceciestunepipe.util.sound import boutsearch as bs\n",
    "\n",
    "from ceciestunepipe.util.spikeextractors import preprocess as pre\n",
    "from ceciestunepipe.util.spikeextractors.extractors.spikeglxrecordingextractor import readSGLX as rsgl\n",
    "from ceciestunepipe.util.spikeextractors.extractors.spikeglxrecordingextractor import spikeglxrecordingextractor as sglex\n"
   ]
  },
  {
   "cell_type": "code",
   "execution_count": 3,
   "metadata": {},
   "outputs": [
    {
     "name": "stderr",
     "output_type": "stream",
     "text": [
      "2021-09-25 11:38:15,080 root         INFO     all modules loaded\n"
     ]
    }
   ],
   "source": [
    "import spikeinterface as si\n",
    "import spikeinterface.extractors as se\n",
    "import spikeinterface.toolkit as st\n",
    "import spikeinterface.sorters as ss\n",
    "import spikeinterface.comparison as sc\n",
    "import spikeinterface.widgets as sw\n",
    "logger.info('all modules loaded')"
   ]
  },
  {
   "cell_type": "markdown",
   "metadata": {},
   "source": [
    "## Session parameters and raw files"
   ]
  },
  {
   "cell_type": "markdown",
   "metadata": {},
   "source": [
    "#### list all the sessions for this bird"
   ]
  },
  {
   "cell_type": "code",
   "execution_count": 5,
   "metadata": {},
   "outputs": [
    {
     "name": "stderr",
     "output_type": "stream",
     "text": [
      "2021-09-29 22:56:09,383 root         INFO     all sessions for bird are ['2021-05-12', '2021-05-20', '2021-05-21', '2021-05-22', '2021-05-23', '2021-05-24', '2021-05-25', '2021-05-26', '2021-05-27', '2021-05-28', '2021-05-29', '2021-05-30', '2021-05-31', '2021-06-01', '2021-06-02', '2021-06-03', '2021-06-04', '2021-06-05', '2021-06-06', '2021-06-07', '2021-06-08', '2021-06-09', '2021-06-10', '2021-06-11', '2021-06-12', '2021-06-13', '2021-06-14', '2021-06-15', '2021-06-16', '2021-06-17', '2021-06-18', '2021-06-19', '2021-06-20', '2021-06-21', '2021-06-22', '2021-06-23', '2021-06-24', '2021-06-25', '2021-06-26', '2021-06-27', '2021-06-28', '2021-06-29', '2021-06-30', '2021-07-01', '2021-07-02', '2021-07-03', '2021-07-04', '2021-07-05', '2021-07-06', '2021-07-07', '2021-07-08', '2021-07-09', '2021-07-10', '2021-07-11', '2021-07-12', '2021-07-13', '2021-07-14', '2021-07-15', '2021-07-16', '2021-07-17', '2021-07-18', '2021-07-19', '2021-07-20', '2021-07-21', '2021-07-22', '2021-07-23', '2021-07-24', '2021-07-25', '2021-07-26', '2021-07-27', '2021-07-28', '2021-07-29', '2021-07-30', '2021-07-31', '2021-08-01', '2021-08-02', '2021-08-03', '2021-08-04', '2021-08-05', '2021-08-06', '2021-08-07', '2021-08-08', '2021-08-09', '2021-08-10', '2021-08-11', '2021-08-12', '2021-08-13', '2021-08-14', '2021-08-15', '2021-08-16', '2021-08-17', '2021-08-18', '2021-08-19', '2021-08-20', '2021-08-21', '2021-08-22', '2021-08-23', '2021-08-24', '2021-08-25', '2021-08-26', '2021-08-27', '2021-08-28']\n"
     ]
    }
   ],
   "source": [
    "bird = 's_b1253_21'\n",
    "all_bird_sess = et.list_sessions(bird)\n",
    "logger.info('all sessions for bird are {}'.format(all_bird_sess))"
   ]
  },
  {
   "cell_type": "markdown",
   "metadata": {},
   "source": [
    "### set up bird and sessions parameters\n",
    "this will define:\n",
    "- locations of files (for the bird)\n",
    "- signals and channels to look for in the metadata of the files and in the rig.json parameter file: Note that this have to exist in all of the sessions that will be processed\n",
    "- 'sess' is unimportant here, but it comes handy if there is need to debug usin a single session"
   ]
  },
  {
   "cell_type": "code",
   "execution_count": 7,
   "metadata": {},
   "outputs": [],
   "source": [
    "reload(et)\n",
    "# for one example session\n",
    "\n",
    "sess_par = {'bird': 's_b1253_21',\n",
    "           'sess': '2021-07-18',\n",
    "           'probes': ['probe_0'], #probes of interest\n",
    "           'mic_list': ['microphone_0'], #list of mics of interest, by signal name in rig.json\n",
    "           'sort': 2, #label for this sort instance\n",
    "           }\n",
    "\n",
    "exp_struct = et.get_exp_struct(sess_par['bird'], sess_par['sess'], sort=sess_par['sort'])\n",
    "\n",
    "ksort_folder = exp_struct['folders']['ksort']\n",
    "raw_folder = exp_struct['folders']['sglx']"
   ]
  },
  {
   "cell_type": "markdown",
   "metadata": {},
   "source": [
    "list all the epochs in a session, to check that it is finding what it has to find"
   ]
  },
  {
   "cell_type": "code",
   "execution_count": 13,
   "metadata": {},
   "outputs": [
    {
     "name": "stderr",
     "output_type": "stream",
     "text": [
      "2021-09-29 23:04:48,953 ceciestunepipe.file.bcistructure INFO     {'folders': {'bird': '/mnt/sphere/speech_bci/raw_data/s_b1253_21', 'raw': '/mnt/sphere/speech_bci/raw_data/s_b1253_21/2021-07-19', 'sglx': '/mnt/sphere/speech_bci/raw_data/s_b1253_21/2021-07-19/sglx', 'kwik': '/experiment/s_b1253_21/sglx/kwik/2021-07-19', 'processed': '/mnt/sphere/speech_bci/processed_data/s_b1253_21/2021-07-19/sglx', 'derived': '/mnt/sphere/speech_bci/derived_data/s_b1253_21/2021-07-19/sglx', 'tmp': '/experiment/tmp/tmp', 'msort': '/experiment/tmp/s_b1253_21/sglx/msort/2021-07-19', 'ksort': '/experiment/tmp/s_b1253_21/sglx/ksort/2021-07-19'}, 'files': {'par': '/experiment/tmp/s_b1253_21/sglx/ksort/2021-07-19/params.json', 'set': '/mnt/sphere/speech_bci/raw_data/s_b1253_21/2021-07-19/sglx/settings.isf', 'rig': '/mnt/sphere/speech_bci/raw_data/s_b1253_21/2021-07-19/sglx/rig.json', 'kwd': '/experiment/s_b1253_21/sglx/kwik/2021-07-19/stream.kwd', 'kwik': '/experiment/s_b1253_21/sglx/kwik/2021-07-19/sort_2/spikes.kwik', 'kwe': '/experiment/s_b1253_21/sglx/kwik/2021-07-19/events.kwe', 'dat_mic': '/mnt/sphere/speech_bci/processed_data/s_b1253_21/2021-07-19/sglx/dat_mic.mat', 'dat_ap': '/mnt/sphere/speech_bci/processed_data/s_b1253_21/2021-07-19/sglx/dat_ap.mat', 'allevents': '/mnt/sphere/speech_bci/processed_data/s_b1253_21/2021-07-19/sglx/dat_all.pkl', 'wav_mic': '/mnt/sphere/speech_bci/derived_data/s_b1253_21/2021-07-19/sglx/wav_mic.wav', 'mda_raw': '/experiment/tmp/s_b1253_21/sglx/msort/2021-07-19/raw.mda', 'bin_raw': '/experiment/tmp/s_b1253_21/sglx/ksort/2021-07-19/raw.bin'}}\n"
     ]
    },
    {
     "data": {
      "text/plain": [
       "['0440_g0', '0732_g0', '1237_g0', '1617_g0']"
      ]
     },
     "execution_count": 13,
     "metadata": {},
     "output_type": "execute_result"
    }
   ],
   "source": [
    "sess_epochs = et.list_sgl_epochs(sess_par)\n",
    "sess_epochs"
   ]
  },
  {
   "cell_type": "markdown",
   "metadata": {},
   "source": [
    "#### define pre-processing steps for each epoch and for the session"
   ]
  },
  {
   "cell_type": "code",
   "execution_count": 14,
   "metadata": {},
   "outputs": [],
   "source": [
    "from ceciestunepipe.util import wavutil as wu\n",
    "from ceciestunepipe.util import syncutil as su\n",
    "\n",
    "def preprocess_run(sess_par, exp_struct, epoch):\n",
    "    # get the recordings\n",
    "    logger.info('PREPROCESSING sess {} | epoch {}'.format(sess_par['sess'], epoch))\n",
    "    logger.info('getting extractors')\n",
    "    sgl_exp_struct = et.sgl_struct(sess_par, epoch)\n",
    "    run_recs_dict, run_meta_files, files_pd, rig_dict = pre.load_sglx_recordings(sgl_exp_struct, epoch)\n",
    "    \n",
    "    # get the microphone to wav\n",
    "    # get the chans\n",
    "    mic_list = sess_par['mic_list']\n",
    "    logger.info('Getting microphone channel(s) {}'.format(mic_list))\n",
    "    mic_stream = pre.extract_nidq_channels(sess_par, run_recs_dict, rig_dict, mic_list, chan_type='adc')\n",
    "    # get the sampling rate\n",
    "    nidq_s_f = run_recs_dict['nidq'].get_sampling_frequency()\n",
    "    \n",
    "    mic_file_path = os.path.join(sgl_exp_struct['folders']['derived'], 'wav_mic.wav')\n",
    "    wav_s_f = wu.save_wav(mic_stream, nidq_s_f, mic_file_path)\n",
    "    \n",
    "   \n",
    "    # get the syn to wav\n",
    "    # get the chans\n",
    "    sync_list = ['sync']\n",
    "    logger.info('Getting sync channel(s) {}'.format(sync_list))\n",
    "    sync_stream = pre.extract_nidq_channels(sess_par, run_recs_dict, rig_dict, sync_list, chan_type='ttl')\n",
    "    \n",
    "    sync_file_path = os.path.join(sgl_exp_struct['folders']['derived'], 'wav_sync.wav')\n",
    "    wav_s_f = wu.save_wav(sync_stream, nidq_s_f, sync_file_path)\n",
    "    \n",
    "    logger.info('Getting sync events from the wav sync channel')\n",
    "    sync_ev_path = os.path.join(sgl_exp_struct['folders']['derived'], 'wav_sync_evt.npy')\n",
    "    wav_s_f, x_d, ttl_arr = wu.wav_to_syn(sync_file_path)\n",
    "    logger.info('saving sync events of the wav channel to {}'.format(sync_ev_path))\n",
    "    np.save(sync_ev_path, ttl_arr)\n",
    "    \n",
    "    t_0_path = os.path.join(sgl_exp_struct['folders']['derived'], 'wav_t0.npy')\n",
    "    logger.info('saving t0 for wav channel to {}'.format(t_0_path))\n",
    "    np.save(t_0_path, np.arange(sync_stream.size)/wav_s_f)\n",
    "    #make the sync dict\n",
    "    syn_dict = {'s_f': wav_s_f,\n",
    "           't_0_path': t_0_path,\n",
    "           'evt_arr_path': sync_ev_path}\n",
    "    \n",
    "    syn_dict_path = os.path.join(sgl_exp_struct['folders']['derived'],  '{}_sync_dict.pkl'.format('wav'))\n",
    "    syn_dict['path'] = syn_dict_path\n",
    "    logger.info('saving sync dict to ' + syn_dict_path)\n",
    "    with open(syn_dict_path, 'wb') as pf:\n",
    "        pickle.dump(syn_dict, pf)\n",
    "\n",
    "    epoch_dict = {'epoch': epoch,\n",
    "                'files_pd': files_pd,\n",
    "                 'recordings': run_recs_dict,\n",
    "                 'meta': run_meta_files,\n",
    "                 'rig': rig_dict}\n",
    "    \n",
    "    return epoch_dict\n",
    "\n",
    "    \n",
    "#one_epoch_dict = preprocess_run(sess_par, exp_struct, sess_epochs[1])"
   ]
  },
  {
   "cell_type": "code",
   "execution_count": 15,
   "metadata": {
    "scrolled": true
   },
   "outputs": [],
   "source": [
    "### sequentially process all runs of the sessions\n",
    "def preprocess_session(sess_par: dict):\n",
    "    logger.info('pre-process all runs of sess ' + sess_par['sess'])\n",
    "    # get exp struct\n",
    "    sess_struct = et.get_exp_struct(sess_par['bird'], sess_par['sess'], sort=sess_par['sort'])\n",
    "    # list the epochs\n",
    "    sess_epochs = et.list_sgl_epochs(sess_par)\n",
    "    logger.info('found epochs: {}'.format(sess_epochs))\n",
    "    # preprocess all epochs\n",
    "    epoch_dict_list = []\n",
    "    for i_ep, epoch in enumerate(sess_epochs):\n",
    "        try:\n",
    "            exp_struct = et.sgl_struct(sess_par, epoch)\n",
    "            one_epoch_dict = preprocess_run(sess_par, exp_struct, epoch)\n",
    "            epoch_dict_list.append(one_epoch_dict)\n",
    "        except Exception as exc:\n",
    "            warnings.warn('Error in epoch {}'.format(epoch), UserWarning)\n",
    "            logger.info(traceback.format_exc)\n",
    "            logger.info(exc)\n",
    "            logger.info('Session {} epoch {} could not be preprocessed'.format(sess_par['sess'], epoch))\n",
    "        \n",
    "    return epoch_dict_list\n",
    "\n",
    "#all_epoch_list = preprocess_session(sess_par)"
   ]
  },
  {
   "cell_type": "markdown",
   "metadata": {},
   "source": [
    "## Process multiple sessions"
   ]
  },
  {
   "cell_type": "code",
   "execution_count": 16,
   "metadata": {},
   "outputs": [],
   "source": [
    "sess_list = all_bird_sess\n",
    "# fist implant, right hemisphere\n",
    "sess_list = ['2021-06-14', '2021-06-13', '2021-06-15', '2021-06-16', '2021-06-17']\n",
    "\n",
    "# second implant, left hemisphere\n",
    "#sess_list = ['2021-07-17', '2021-07-18', '2021-07-19', '2021-07-20', '2021-07-21', '2021-07-22', '2021-07-23']\n",
    "# and up to 8/4but only up to 19 are on sphere as of 2021-09-09; the rest on tapes\n",
    "sess_list = ['2021-07-17', '2021-07-19']"
   ]
  },
  {
   "cell_type": "code",
   "execution_count": 17,
   "metadata": {
    "tags": []
   },
   "outputs": [
    {
     "name": "stderr",
     "output_type": "stream",
     "text": [
      "2021-09-29 23:04:54,255 root         INFO     pre-process all runs of sess 2021-07-17\n",
      "2021-09-29 23:04:54,257 ceciestunepipe.file.bcistructure INFO     {'folders': {'bird': '/mnt/sphere/speech_bci/raw_data/s_b1253_21', 'raw': '/mnt/sphere/speech_bci/raw_data/s_b1253_21/2021-07-17', 'sglx': '/mnt/sphere/speech_bci/raw_data/s_b1253_21/2021-07-17/sglx', 'kwik': '/experiment/s_b1253_21/sglx/kwik/2021-07-17', 'processed': '/mnt/sphere/speech_bci/processed_data/s_b1253_21/2021-07-17/sglx', 'derived': '/mnt/sphere/speech_bci/derived_data/s_b1253_21/2021-07-17/sglx', 'tmp': '/experiment/tmp/tmp', 'msort': '/experiment/tmp/s_b1253_21/sglx/msort/2021-07-17', 'ksort': '/experiment/tmp/s_b1253_21/sglx/ksort/2021-07-17'}, 'files': {'par': '/experiment/tmp/s_b1253_21/sglx/ksort/2021-07-17/params.json', 'set': '/mnt/sphere/speech_bci/raw_data/s_b1253_21/2021-07-17/sglx/settings.isf', 'rig': '/mnt/sphere/speech_bci/raw_data/s_b1253_21/2021-07-17/sglx/rig.json', 'kwd': '/experiment/s_b1253_21/sglx/kwik/2021-07-17/stream.kwd', 'kwik': '/experiment/s_b1253_21/sglx/kwik/2021-07-17/sort_2/spikes.kwik', 'kwe': '/experiment/s_b1253_21/sglx/kwik/2021-07-17/events.kwe', 'dat_mic': '/mnt/sphere/speech_bci/processed_data/s_b1253_21/2021-07-17/sglx/dat_mic.mat', 'dat_ap': '/mnt/sphere/speech_bci/processed_data/s_b1253_21/2021-07-17/sglx/dat_ap.mat', 'allevents': '/mnt/sphere/speech_bci/processed_data/s_b1253_21/2021-07-17/sglx/dat_all.pkl', 'wav_mic': '/mnt/sphere/speech_bci/derived_data/s_b1253_21/2021-07-17/sglx/wav_mic.wav', 'mda_raw': '/experiment/tmp/s_b1253_21/sglx/msort/2021-07-17/raw.mda', 'bin_raw': '/experiment/tmp/s_b1253_21/sglx/ksort/2021-07-17/raw.bin'}}\n",
      "2021-09-29 23:04:54,322 root         INFO     found epochs: ['0738_g0', '0957_g0', '1206_g0', '1648_g0']\n",
      "2021-09-29 23:04:54,323 root         INFO     PREPROCESSING sess 2021-07-17 | epoch 0738_g0\n",
      "2021-09-29 23:04:54,324 root         INFO     getting extractors\n",
      "2021-09-29 23:04:54,857 root         INFO     Getting microphone channel(s) ['microphone_0']\n",
      "2021-09-29 23:04:54,858 ceciestunepipe.util.wavutil INFO     sampling rate 25000\n",
      "2021-09-29 23:04:54,859 ceciestunepipe.util.wavutil INFO     saving (1, 207854592)-shaped array as wav in /mnt/sphere/speech_bci/derived_data/s_b1253_21/2021-07-17/sglx/0738_g0/wav_mic.wav\n",
      "2021-09-29 23:06:26,641 ceciestunepipe.util.wavutil INFO     saving (1, 207854592)-shaped array as npy in /mnt/sphere/speech_bci/derived_data/s_b1253_21/2021-07-17/sglx/0738_g0/wav_mic.npy\n",
      "2021-09-29 23:06:40,167 root         INFO     Getting sync channel(s) ['sync']\n",
      "2021-09-29 23:06:40,168 ceciestunepipe.util.spikeextractors.extractors.spikeglxrecordingextractor.spikeglxrecordingextractor INFO     getting ttl traces, chan range(0, 7)\n",
      "2021-09-29 23:06:53,451 ceciestunepipe.util.wavutil INFO     sampling rate 25000\n",
      "2021-09-29 23:06:53,451 ceciestunepipe.util.wavutil INFO     saving (1, 207854592)-shaped array as wav in /mnt/sphere/speech_bci/derived_data/s_b1253_21/2021-07-17/sglx/0738_g0/wav_sync.wav\n",
      "2021-09-29 23:07:00,327 ceciestunepipe.util.wavutil INFO     saving (1, 207854592)-shaped array as npy in /mnt/sphere/speech_bci/derived_data/s_b1253_21/2021-07-17/sglx/0738_g0/wav_sync.npy\n",
      "2021-09-29 23:07:04,866 root         INFO     Getting sync events from the wav sync channel\n",
      "2021-09-29 23:07:07,724 root         INFO     saving sync events of the wav channel to /mnt/sphere/speech_bci/derived_data/s_b1253_21/2021-07-17/sglx/0738_g0/wav_sync_evt.npy\n",
      "2021-09-29 23:07:07,838 root         INFO     saving t0 for wav channel to /mnt/sphere/speech_bci/derived_data/s_b1253_21/2021-07-17/sglx/0738_g0/wav_t0.npy\n",
      "2021-09-29 23:07:35,711 root         INFO     saving sync dict to /mnt/sphere/speech_bci/derived_data/s_b1253_21/2021-07-17/sglx/0738_g0/wav_sync_dict.pkl\n",
      "2021-09-29 23:07:35,779 root         INFO     PREPROCESSING sess 2021-07-17 | epoch 0957_g0\n",
      "2021-09-29 23:07:35,780 root         INFO     getting extractors\n",
      "2021-09-29 23:07:35,999 root         INFO     Getting microphone channel(s) ['microphone_0']\n",
      "2021-09-29 23:07:36,000 ceciestunepipe.util.wavutil INFO     sampling rate 25000\n",
      "2021-09-29 23:07:36,001 ceciestunepipe.util.wavutil INFO     saving (1, 190993101)-shaped array as wav in /mnt/sphere/speech_bci/derived_data/s_b1253_21/2021-07-17/sglx/0957_g0/wav_mic.wav\n",
      "2021-09-29 23:08:40,560 ceciestunepipe.util.wavutil INFO     saving (1, 190993101)-shaped array as npy in /mnt/sphere/speech_bci/derived_data/s_b1253_21/2021-07-17/sglx/0957_g0/wav_mic.npy\n",
      "2021-09-29 23:08:51,022 root         INFO     Getting sync channel(s) ['sync']\n",
      "2021-09-29 23:08:51,024 ceciestunepipe.util.spikeextractors.extractors.spikeglxrecordingextractor.spikeglxrecordingextractor INFO     getting ttl traces, chan range(0, 7)\n",
      "2021-09-29 23:09:04,270 ceciestunepipe.util.wavutil INFO     sampling rate 25000\n",
      "2021-09-29 23:09:04,271 ceciestunepipe.util.wavutil INFO     saving (1, 190993101)-shaped array as wav in /mnt/sphere/speech_bci/derived_data/s_b1253_21/2021-07-17/sglx/0957_g0/wav_sync.wav\n",
      "2021-09-29 23:09:10,067 ceciestunepipe.util.wavutil INFO     saving (1, 190993101)-shaped array as npy in /mnt/sphere/speech_bci/derived_data/s_b1253_21/2021-07-17/sglx/0957_g0/wav_sync.npy\n",
      "2021-09-29 23:09:13,907 root         INFO     Getting sync events from the wav sync channel\n",
      "2021-09-29 23:09:16,444 root         INFO     saving sync events of the wav channel to /mnt/sphere/speech_bci/derived_data/s_b1253_21/2021-07-17/sglx/0957_g0/wav_sync_evt.npy\n",
      "2021-09-29 23:09:16,510 root         INFO     saving t0 for wav channel to /mnt/sphere/speech_bci/derived_data/s_b1253_21/2021-07-17/sglx/0957_g0/wav_t0.npy\n",
      "2021-09-29 23:09:47,561 root         INFO     saving sync dict to /mnt/sphere/speech_bci/derived_data/s_b1253_21/2021-07-17/sglx/0957_g0/wav_sync_dict.pkl\n",
      "2021-09-29 23:09:47,636 root         INFO     PREPROCESSING sess 2021-07-17 | epoch 1206_g0\n",
      "2021-09-29 23:09:47,637 root         INFO     getting extractors\n",
      "2021-09-29 23:09:47,892 root         INFO     Getting microphone channel(s) ['microphone_0']\n",
      "2021-09-29 23:09:47,893 ceciestunepipe.util.wavutil INFO     sampling rate 25000\n",
      "2021-09-29 23:09:47,894 ceciestunepipe.util.wavutil INFO     saving (1, 423770982)-shaped array as wav in /mnt/sphere/speech_bci/derived_data/s_b1253_21/2021-07-17/sglx/1206_g0/wav_mic.wav\n",
      "2021-09-29 23:11:49,858 ceciestunepipe.util.wavutil INFO     saving (1, 423770982)-shaped array as npy in /mnt/sphere/speech_bci/derived_data/s_b1253_21/2021-07-17/sglx/1206_g0/wav_mic.npy\n",
      "2021-09-29 23:12:16,612 root         INFO     Getting sync channel(s) ['sync']\n",
      "2021-09-29 23:12:16,613 ceciestunepipe.util.spikeextractors.extractors.spikeglxrecordingextractor.spikeglxrecordingextractor INFO     getting ttl traces, chan range(0, 7)\n",
      "2021-09-29 23:12:25,388 ceciestunepipe.util.wavutil INFO     sampling rate 25000\n",
      "2021-09-29 23:12:25,388 ceciestunepipe.util.wavutil INFO     saving (1, 423770982)-shaped array as wav in /mnt/sphere/speech_bci/derived_data/s_b1253_21/2021-07-17/sglx/1206_g0/wav_sync.wav\n",
      "2021-09-29 23:12:36,548 ceciestunepipe.util.wavutil INFO     saving (1, 423770982)-shaped array as npy in /mnt/sphere/speech_bci/derived_data/s_b1253_21/2021-07-17/sglx/1206_g0/wav_sync.npy\n",
      "2021-09-29 23:12:50,325 root         INFO     Getting sync events from the wav sync channel\n",
      "2021-09-29 23:12:53,021 root         INFO     saving sync events of the wav channel to /mnt/sphere/speech_bci/derived_data/s_b1253_21/2021-07-17/sglx/1206_g0/wav_sync_evt.npy\n",
      "2021-09-29 23:12:53,081 root         INFO     saving t0 for wav channel to /mnt/sphere/speech_bci/derived_data/s_b1253_21/2021-07-17/sglx/1206_g0/wav_t0.npy\n",
      "2021-09-29 23:13:42,778 root         INFO     saving sync dict to /mnt/sphere/speech_bci/derived_data/s_b1253_21/2021-07-17/sglx/1206_g0/wav_sync_dict.pkl\n",
      "2021-09-29 23:13:42,844 root         INFO     PREPROCESSING sess 2021-07-17 | epoch 1648_g0\n",
      "2021-09-29 23:13:42,845 root         INFO     getting extractors\n",
      "2021-09-29 23:13:43,196 root         INFO     Getting microphone channel(s) ['microphone_0']\n",
      "2021-09-29 23:13:43,198 ceciestunepipe.util.wavutil INFO     sampling rate 25000\n",
      "2021-09-29 23:13:43,199 ceciestunepipe.util.wavutil INFO     saving (1, 557951489)-shaped array as wav in /mnt/sphere/speech_bci/derived_data/s_b1253_21/2021-07-17/sglx/1648_g0/wav_mic.wav\n",
      "2021-09-29 23:17:09,456 ceciestunepipe.util.wavutil INFO     saving (1, 557951489)-shaped array as npy in /mnt/sphere/speech_bci/derived_data/s_b1253_21/2021-07-17/sglx/1648_g0/wav_mic.npy\n",
      "2021-09-29 23:17:43,479 root         INFO     Getting sync channel(s) ['sync']\n",
      "2021-09-29 23:17:43,480 ceciestunepipe.util.spikeextractors.extractors.spikeglxrecordingextractor.spikeglxrecordingextractor INFO     getting ttl traces, chan range(0, 7)\n",
      "2021-09-29 23:18:08,070 ceciestunepipe.util.wavutil INFO     sampling rate 25000\n",
      "2021-09-29 23:18:08,071 ceciestunepipe.util.wavutil INFO     saving (1, 557951489)-shaped array as wav in /mnt/sphere/speech_bci/derived_data/s_b1253_21/2021-07-17/sglx/1648_g0/wav_sync.wav\n",
      "2021-09-29 23:18:25,691 ceciestunepipe.util.wavutil INFO     saving (1, 557951489)-shaped array as npy in /mnt/sphere/speech_bci/derived_data/s_b1253_21/2021-07-17/sglx/1648_g0/wav_sync.npy\n",
      "2021-09-29 23:18:50,428 root         INFO     Getting sync events from the wav sync channel\n",
      "2021-09-29 23:18:54,632 root         INFO     saving sync events of the wav channel to /mnt/sphere/speech_bci/derived_data/s_b1253_21/2021-07-17/sglx/1648_g0/wav_sync_evt.npy\n",
      "2021-09-29 23:18:54,666 root         INFO     saving t0 for wav channel to /mnt/sphere/speech_bci/derived_data/s_b1253_21/2021-07-17/sglx/1648_g0/wav_t0.npy\n",
      "2021-09-29 23:20:17,209 root         INFO     saving sync dict to /mnt/sphere/speech_bci/derived_data/s_b1253_21/2021-07-17/sglx/1648_g0/wav_sync_dict.pkl\n",
      "2021-09-29 23:20:17,653 root         INFO     pre-process all runs of sess 2021-07-19\n",
      "2021-09-29 23:20:17,654 ceciestunepipe.file.bcistructure INFO     {'folders': {'bird': '/mnt/sphere/speech_bci/raw_data/s_b1253_21', 'raw': '/mnt/sphere/speech_bci/raw_data/s_b1253_21/2021-07-19', 'sglx': '/mnt/sphere/speech_bci/raw_data/s_b1253_21/2021-07-19/sglx', 'kwik': '/experiment/s_b1253_21/sglx/kwik/2021-07-19', 'processed': '/mnt/sphere/speech_bci/processed_data/s_b1253_21/2021-07-19/sglx', 'derived': '/mnt/sphere/speech_bci/derived_data/s_b1253_21/2021-07-19/sglx', 'tmp': '/experiment/tmp/tmp', 'msort': '/experiment/tmp/s_b1253_21/sglx/msort/2021-07-19', 'ksort': '/experiment/tmp/s_b1253_21/sglx/ksort/2021-07-19'}, 'files': {'par': '/experiment/tmp/s_b1253_21/sglx/ksort/2021-07-19/params.json', 'set': '/mnt/sphere/speech_bci/raw_data/s_b1253_21/2021-07-19/sglx/settings.isf', 'rig': '/mnt/sphere/speech_bci/raw_data/s_b1253_21/2021-07-19/sglx/rig.json', 'kwd': '/experiment/s_b1253_21/sglx/kwik/2021-07-19/stream.kwd', 'kwik': '/experiment/s_b1253_21/sglx/kwik/2021-07-19/sort_2/spikes.kwik', 'kwe': '/experiment/s_b1253_21/sglx/kwik/2021-07-19/events.kwe', 'dat_mic': '/mnt/sphere/speech_bci/processed_data/s_b1253_21/2021-07-19/sglx/dat_mic.mat', 'dat_ap': '/mnt/sphere/speech_bci/processed_data/s_b1253_21/2021-07-19/sglx/dat_ap.mat', 'allevents': '/mnt/sphere/speech_bci/processed_data/s_b1253_21/2021-07-19/sglx/dat_all.pkl', 'wav_mic': '/mnt/sphere/speech_bci/derived_data/s_b1253_21/2021-07-19/sglx/wav_mic.wav', 'mda_raw': '/experiment/tmp/s_b1253_21/sglx/msort/2021-07-19/raw.mda', 'bin_raw': '/experiment/tmp/s_b1253_21/sglx/ksort/2021-07-19/raw.bin'}}\n",
      "2021-09-29 23:20:17,769 root         INFO     found epochs: ['0440_g0', '0732_g0', '1237_g0', '1617_g0']\n",
      "2021-09-29 23:20:17,770 root         INFO     PREPROCESSING sess 2021-07-19 | epoch 0440_g0\n",
      "2021-09-29 23:20:17,771 root         INFO     getting extractors\n",
      "2021-09-29 23:20:18,152 root         INFO     Getting microphone channel(s) ['microphone_0']\n",
      "2021-09-29 23:20:18,154 ceciestunepipe.util.wavutil INFO     sampling rate 25000\n",
      "2021-09-29 23:20:18,155 ceciestunepipe.util.wavutil INFO     saving (1, 257956454)-shaped array as wav in /mnt/sphere/speech_bci/derived_data/s_b1253_21/2021-07-19/sglx/0440_g0/wav_mic.wav\n",
      "2021-09-29 23:21:51,183 ceciestunepipe.util.wavutil INFO     saving (1, 257956454)-shaped array as npy in /mnt/sphere/speech_bci/derived_data/s_b1253_21/2021-07-19/sglx/0440_g0/wav_mic.npy\n",
      "2021-09-29 23:22:06,520 root         INFO     Getting sync channel(s) ['sync']\n",
      "2021-09-29 23:22:06,521 ceciestunepipe.util.spikeextractors.extractors.spikeglxrecordingextractor.spikeglxrecordingextractor INFO     getting ttl traces, chan range(0, 7)\n",
      "2021-09-29 23:22:11,831 ceciestunepipe.util.wavutil INFO     sampling rate 25000\n",
      "2021-09-29 23:22:11,832 ceciestunepipe.util.wavutil INFO     saving (1, 257956454)-shaped array as wav in /mnt/sphere/speech_bci/derived_data/s_b1253_21/2021-07-19/sglx/0440_g0/wav_sync.wav\n",
      "2021-09-29 23:22:17,989 ceciestunepipe.util.wavutil INFO     saving (1, 257956454)-shaped array as npy in /mnt/sphere/speech_bci/derived_data/s_b1253_21/2021-07-19/sglx/0440_g0/wav_sync.npy\n",
      "2021-09-29 23:22:31,860 root         INFO     Getting sync events from the wav sync channel\n",
      "2021-09-29 23:22:33,570 root         INFO     saving sync events of the wav channel to /mnt/sphere/speech_bci/derived_data/s_b1253_21/2021-07-19/sglx/0440_g0/wav_sync_evt.npy\n",
      "2021-09-29 23:22:33,592 root         INFO     saving t0 for wav channel to /mnt/sphere/speech_bci/derived_data/s_b1253_21/2021-07-19/sglx/0440_g0/wav_t0.npy\n",
      "2021-09-29 23:23:11,233 root         INFO     saving sync dict to /mnt/sphere/speech_bci/derived_data/s_b1253_21/2021-07-19/sglx/0440_g0/wav_sync_dict.pkl\n",
      "2021-09-29 23:23:11,292 root         INFO     PREPROCESSING sess 2021-07-19 | epoch 0732_g0\n",
      "2021-09-29 23:23:11,293 root         INFO     getting extractors\n",
      "2021-09-29 23:23:11,669 root         INFO     Getting microphone channel(s) ['microphone_0']\n",
      "2021-09-29 23:23:11,671 ceciestunepipe.util.wavutil INFO     sampling rate 25000\n",
      "2021-09-29 23:23:11,672 ceciestunepipe.util.wavutil INFO     saving (1, 455211059)-shaped array as wav in /mnt/sphere/speech_bci/derived_data/s_b1253_21/2021-07-19/sglx/0732_g0/wav_mic.wav\n",
      "2021-09-29 23:26:05,295 ceciestunepipe.util.wavutil INFO     saving (1, 455211059)-shaped array as npy in /mnt/sphere/speech_bci/derived_data/s_b1253_21/2021-07-19/sglx/0732_g0/wav_mic.npy\n",
      "2021-09-29 23:26:35,974 root         INFO     Getting sync channel(s) ['sync']\n",
      "2021-09-29 23:26:35,975 ceciestunepipe.util.spikeextractors.extractors.spikeglxrecordingextractor.spikeglxrecordingextractor INFO     getting ttl traces, chan range(0, 7)\n",
      "2021-09-29 23:26:50,879 ceciestunepipe.util.wavutil INFO     sampling rate 25000\n",
      "2021-09-29 23:26:50,879 ceciestunepipe.util.wavutil INFO     saving (1, 455211059)-shaped array as wav in /mnt/sphere/speech_bci/derived_data/s_b1253_21/2021-07-19/sglx/0732_g0/wav_sync.wav\n",
      "2021-09-29 23:27:07,979 ceciestunepipe.util.wavutil INFO     saving (1, 455211059)-shaped array as npy in /mnt/sphere/speech_bci/derived_data/s_b1253_21/2021-07-19/sglx/0732_g0/wav_sync.npy\n",
      "2021-09-29 23:27:24,255 root         INFO     Getting sync events from the wav sync channel\n",
      "2021-09-29 23:27:30,797 root         INFO     saving sync events of the wav channel to /mnt/sphere/speech_bci/derived_data/s_b1253_21/2021-07-19/sglx/0732_g0/wav_sync_evt.npy\n",
      "2021-09-29 23:27:30,844 root         INFO     saving t0 for wav channel to /mnt/sphere/speech_bci/derived_data/s_b1253_21/2021-07-19/sglx/0732_g0/wav_t0.npy\n",
      "2021-09-29 23:28:50,975 root         INFO     saving sync dict to /mnt/sphere/speech_bci/derived_data/s_b1253_21/2021-07-19/sglx/0732_g0/wav_sync_dict.pkl\n",
      "2021-09-29 23:28:51,064 root         INFO     PREPROCESSING sess 2021-07-19 | epoch 1237_g0\n",
      "2021-09-29 23:28:51,064 root         INFO     getting extractors\n",
      "2021-09-29 23:28:51,296 root         INFO     Getting microphone channel(s) ['microphone_0']\n",
      "2021-09-29 23:28:51,297 ceciestunepipe.util.wavutil INFO     sampling rate 25000\n",
      "2021-09-29 23:28:51,298 ceciestunepipe.util.wavutil INFO     saving (1, 329807053)-shaped array as wav in /mnt/sphere/speech_bci/derived_data/s_b1253_21/2021-07-19/sglx/1237_g0/wav_mic.wav\n",
      "2021-09-29 23:30:34,808 ceciestunepipe.util.wavutil INFO     saving (1, 329807053)-shaped array as npy in /mnt/sphere/speech_bci/derived_data/s_b1253_21/2021-07-19/sglx/1237_g0/wav_mic.npy\n",
      "2021-09-29 23:30:57,635 root         INFO     Getting sync channel(s) ['sync']\n",
      "2021-09-29 23:30:57,636 ceciestunepipe.util.spikeextractors.extractors.spikeglxrecordingextractor.spikeglxrecordingextractor INFO     getting ttl traces, chan range(0, 7)\n",
      "2021-09-29 23:31:12,415 ceciestunepipe.util.wavutil INFO     sampling rate 25000\n",
      "2021-09-29 23:31:12,416 ceciestunepipe.util.wavutil INFO     saving (1, 329807053)-shaped array as wav in /mnt/sphere/speech_bci/derived_data/s_b1253_21/2021-07-19/sglx/1237_g0/wav_sync.wav\n",
      "2021-09-29 23:31:21,831 ceciestunepipe.util.wavutil INFO     saving (1, 329807053)-shaped array as npy in /mnt/sphere/speech_bci/derived_data/s_b1253_21/2021-07-19/sglx/1237_g0/wav_sync.npy\n",
      "2021-09-29 23:31:34,846 root         INFO     Getting sync events from the wav sync channel\n",
      "2021-09-29 23:32:03,995 root         INFO     saving sync events of the wav channel to /mnt/sphere/speech_bci/derived_data/s_b1253_21/2021-07-19/sglx/1237_g0/wav_sync_evt.npy\n",
      "2021-09-29 23:32:04,070 root         INFO     saving t0 for wav channel to /mnt/sphere/speech_bci/derived_data/s_b1253_21/2021-07-19/sglx/1237_g0/wav_t0.npy\n",
      "2021-09-29 23:32:59,008 root         INFO     saving sync dict to /mnt/sphere/speech_bci/derived_data/s_b1253_21/2021-07-19/sglx/1237_g0/wav_sync_dict.pkl\n",
      "2021-09-29 23:32:59,144 root         INFO     PREPROCESSING sess 2021-07-19 | epoch 1617_g0\n",
      "2021-09-29 23:32:59,145 root         INFO     getting extractors\n",
      "2021-09-29 23:32:59,757 root         INFO     Getting microphone channel(s) ['microphone_0']\n",
      "2021-09-29 23:32:59,759 ceciestunepipe.util.wavutil INFO     sampling rate 25000\n",
      "2021-09-29 23:32:59,760 ceciestunepipe.util.wavutil INFO     saving (1, 389131674)-shaped array as wav in /mnt/sphere/speech_bci/derived_data/s_b1253_21/2021-07-19/sglx/1617_g0/wav_mic.wav\n",
      "2021-09-29 23:36:42,602 ceciestunepipe.util.wavutil INFO     saving (1, 389131674)-shaped array as npy in /mnt/sphere/speech_bci/derived_data/s_b1253_21/2021-07-19/sglx/1617_g0/wav_mic.npy\n",
      "2021-09-29 23:37:13,506 root         INFO     Getting sync channel(s) ['sync']\n",
      "2021-09-29 23:37:13,507 ceciestunepipe.util.spikeextractors.extractors.spikeglxrecordingextractor.spikeglxrecordingextractor INFO     getting ttl traces, chan range(0, 7)\n",
      "2021-09-29 23:37:41,976 ceciestunepipe.util.wavutil INFO     sampling rate 25000\n",
      "2021-09-29 23:37:41,977 ceciestunepipe.util.wavutil INFO     saving (1, 389131674)-shaped array as wav in /mnt/sphere/speech_bci/derived_data/s_b1253_21/2021-07-19/sglx/1617_g0/wav_sync.wav\n",
      "2021-09-29 23:37:54,309 ceciestunepipe.util.wavutil INFO     saving (1, 389131674)-shaped array as npy in /mnt/sphere/speech_bci/derived_data/s_b1253_21/2021-07-19/sglx/1617_g0/wav_sync.npy\n",
      "2021-09-29 23:38:11,930 root         INFO     Getting sync events from the wav sync channel\n",
      "2021-09-29 23:38:15,771 root         INFO     saving sync events of the wav channel to /mnt/sphere/speech_bci/derived_data/s_b1253_21/2021-07-19/sglx/1617_g0/wav_sync_evt.npy\n",
      "2021-09-29 23:38:15,948 root         INFO     saving t0 for wav channel to /mnt/sphere/speech_bci/derived_data/s_b1253_21/2021-07-19/sglx/1617_g0/wav_t0.npy\n",
      "2021-09-29 23:39:24,417 root         INFO     saving sync dict to /mnt/sphere/speech_bci/derived_data/s_b1253_21/2021-07-19/sglx/1617_g0/wav_sync_dict.pkl\n"
     ]
    }
   ],
   "source": [
    "all_sess_dict = {}\n",
    "\n",
    "for one_sess in sess_list[:]:\n",
    "    sess_par['sess'] = one_sess\n",
    "    preprocess_session(sess_par)"
   ]
  },
  {
   "cell_type": "code",
   "execution_count": 15,
   "metadata": {},
   "outputs": [
    {
     "data": {
      "text/plain": [
       "{'bird': 's_b1253_21',\n",
       " 'sess': '2021-07-18',\n",
       " 'probes': ['probe_0'],\n",
       " 'mic_list': ['microphone_0'],\n",
       " 'sort': 2}"
      ]
     },
     "execution_count": 15,
     "metadata": {},
     "output_type": "execute_result"
    }
   ],
   "source": [
    "sess_par"
   ]
  },
  {
   "cell_type": "code",
   "execution_count": 16,
   "metadata": {},
   "outputs": [],
   "source": [
    "# Search bouts"
   ]
  },
  {
   "cell_type": "markdown",
   "metadata": {},
   "source": [
    "## search bouts for those sessions"
   ]
  },
  {
   "cell_type": "code",
   "execution_count": 17,
   "metadata": {},
   "outputs": [],
   "source": [
    "from ceciestunepipe.util.sound import boutsearch as bs\n",
    "from ceciestunepipe.util import wavutil as wu\n",
    "\n",
    "from joblib import Parallel, delayed\n",
    "import pickle\n",
    "import sys"
   ]
  },
  {
   "cell_type": "code",
   "execution_count": 18,
   "metadata": {},
   "outputs": [
    {
     "data": {
      "text/plain": [
       "<module 'ceciestunepipe.util.sound.boutsearch' from '/home/finch/repos/ceciestunepipe/ceciestunepipe/util/sound/boutsearch.py'>"
      ]
     },
     "execution_count": 18,
     "metadata": {},
     "output_type": "execute_result"
    }
   ],
   "source": [
    "reload(bs)"
   ]
  },
  {
   "cell_type": "code",
   "execution_count": 19,
   "metadata": {},
   "outputs": [],
   "source": [
    "def sess_file_id(f_path):\n",
    "    n = int(os.path.split(f_path)[1].split('-')[-1].split('.wav')[0])\n",
    "    return n\n",
    "\n",
    "\n",
    "def get_all_day_bouts(sess_par: dict, hparams:dict, n_jobs: int=12, ephys_software='sglx', \n",
    "                     parallel=True) -> pd.DataFrame:\n",
    "    \n",
    "    logger.info('Will search for bouts through all session {}, {}'.format(sess_par['bird'], sess_par['sess']))\n",
    "    exp_struct = et.get_exp_struct(sess_par['bird'], sess_par['sess'], ephys_software=ephys_software)\n",
    "\n",
    "    # get all the paths to the wav files of the epochs of the day   \n",
    "    source_folder = exp_struct['folders']['derived']\n",
    "    wav_path_list = et.get_sgl_files_epochs(source_folder, file_filter='*wav_mic.wav')\n",
    "    wav_path_list.sort()\n",
    "    logger.info('Found {} files'.format(len(wav_path_list)))\n",
    "    print(wav_path_list)\n",
    "    \n",
    "    get_file_bouts = lambda path: bs.get_epoch_bouts(path, hparams)\n",
    "    # Go parallel through all the paths in the day, get a list of all the pandas dataframes for each file\n",
    "    if parallel:\n",
    "        sess_pd_list = Parallel(n_jobs=n_jobs, verbose=100, prefer='threads')(delayed(get_file_bouts)(i) for i in wav_path_list)\n",
    "    else:\n",
    "        sess_pd_list = [get_file_bouts(i) for i in wav_path_list]\n",
    "    \n",
    "    #concatenate the file and return it, eventually write to a pickle\n",
    "    sess_bout_pd = pd.concat(sess_pd_list)\n",
    "    return sess_bout_pd\n",
    "\n",
    "def save_auto_bouts(sess_bout_pd, sess_par, hparams):\n",
    "    exp_struct = et.get_exp_struct(sess_par['bird'], sess_par['sess'], ephys_software='bouts_sglx')\n",
    "    #sess_bouts_dir = os.path.join(exp_struct['folders']['derived'], 'bouts_ceciestunepipe')\n",
    "    sess_bouts_dir = exp_struct['folders']['derived']\n",
    "\n",
    "    sess_bouts_path = os.path.join(sess_bouts_dir, hparams['bout_auto_file'])\n",
    "    hparams_pickle_path = os.path.join(sess_bouts_dir, 'bout_search_params.pickle')\n",
    "\n",
    "    os.makedirs(sess_bouts_dir, exist_ok=True)\n",
    "    logger.info('saving bouts pandas to ' + sess_bouts_path)\n",
    "    sess_bout_pd.to_pickle(sess_bouts_path)\n",
    "\n",
    "    logger.info('saving bout detect parameters dict to ' + hparams_pickle_path)\n",
    "    with open(hparams_pickle_path, 'wb') as fh:\n",
    "        pickle.dump(hparams, fh)"
   ]
  },
  {
   "cell_type": "code",
   "execution_count": 20,
   "metadata": {},
   "outputs": [],
   "source": [
    "## need to enter 'sample_rate' from the file!\n",
    "hparams = {\n",
    "    # spectrogram\n",
    "    'num_freq':1024, #1024# how many channels to use in a spectrogram #\n",
    "    'preemphasis':0.97, \n",
    "    'frame_shift_ms':5, # step size for fft\n",
    "    'frame_length_ms':10, #128 # frame length for fft FRAME SAMPLES < NUM_FREQ!!!\n",
    "    'min_level_db':-55, # minimum threshold db for computing spe \n",
    "    'ref_level_db':110, # reference db for computing spec\n",
    "    #'sample_rate':None, # sample rate of your data\n",
    "    \n",
    "    # spectrograms\n",
    "    'mel_filter': False, # should a mel filter be used?\n",
    "    'num_mels':1024, # how many channels to use in the mel-spectrogram\n",
    "    'fmin': 500, # low frequency cutoff for mel filter\n",
    "    'fmax': 12000, # high frequency cutoff for mel filter\n",
    "    \n",
    "    # spectrogram inversion\n",
    "    'max_iters':200,\n",
    "    'griffin_lim_iters':20,\n",
    "    'power':1.5,\n",
    "\n",
    "    # Added for the searching\n",
    "    'read_wav_fun': wu.read_wav_chan, # function for loading the wav_like_stream (has to returns fs, ndarray)\n",
    "    'file_order_fun': sess_file_id, # function for extracting the file id within the session\n",
    "    'min_segment': 30, # Minimum length of supra_threshold to consider a 'syllable' (ms)\n",
    "    'min_silence': 2000, # Minmum distance between groups of syllables to consider separate bouts (ms)\n",
    "    'min_bout': 5000, # min bout duration (ms)\n",
    "    'peak_thresh_rms': 0.55, # threshold (rms) for peak acceptance,\n",
    "    'thresh_rms': 0.25, # threshold for detection of syllables\n",
    "    'mean_syl_rms_thresh': 0.3, #threshold for acceptance of mean rms across the syllable (relative to rms of the file)\n",
    "    'max_bout': 120000, #exclude bouts too long\n",
    "    'l_p_r_thresh': 100, # threshold for n of len_ms/peaks (typycally about 2-3 syllable spans\n",
    "    \n",
    "    'waveform_edges': 1000, #get number of ms before and after the edges of the bout for the waveform sample\n",
    "    \n",
    "    'bout_auto_file': 'bout_auto.pickle', # extension for saving the auto found files\n",
    "    'bout_curated_file': 'bout_checked.pickle', #extension for manually curated files (coming soon)\n",
    "    }"
   ]
  },
  {
   "cell_type": "code",
   "execution_count": 21,
   "metadata": {
    "tags": []
   },
   "outputs": [
    {
     "name": "stderr",
     "output_type": "stream",
     "text": [
      "2021-09-22 17:02:56,102 root         INFO     Will search for bouts through all session s_b1253_21, 2021-07-18\n",
      "2021-09-22 17:02:56,183 root         INFO     Found 2 files\n",
      "2021-09-22 17:02:56,185 ceciestunepipe.util.sound.boutsearch INFO     Getting bouts for long file /mnt/sphere/speech_bci/derived_data/s_b1253_21/2021-07-18/sglx/0610_g0/wav_mic.wav\n"
     ]
    },
    {
     "name": "stdout",
     "output_type": "stream",
     "text": [
      "['/mnt/sphere/speech_bci/derived_data/s_b1253_21/2021-07-18/sglx/0610_g0/wav_mic.wav', '/mnt/sphere/speech_bci/derived_data/s_b1253_21/2021-07-18/sglx/1615_g0/wav_mic.wav']\n",
      "tu vieja file /mnt/sphere/speech_bci/derived_data/s_b1253_21/2021-07-18/sglx/0610_g0/wav_mic.wav\n"
     ]
    },
    {
     "name": "stderr",
     "output_type": "stream",
     "text": [
      "2021-09-22 17:02:56,246 ceciestunepipe.util.sound.boutsearch INFO     splitting file into 9 chunks\n"
     ]
    },
    {
     "data": {
      "application/vnd.jupyter.widget-view+json": {
       "model_id": "e19da0761ccd4e19ade98043e1536b4f",
       "version_major": 2,
       "version_minor": 0
      },
      "text/plain": [
       "  0%|          | 0/9 [00:00<?, ?it/s]"
      ]
     },
     "metadata": {},
     "output_type": "display_data"
    },
    {
     "name": "stderr",
     "output_type": "stream",
     "text": [
      "2021-09-22 17:11:38,236 ceciestunepipe.util.sound.boutsearch INFO     saving bout detect parameters dict to /mnt/sphere/speech_bci/derived_data/s_b1253_21/2021-07-18/sglx/0610_g0/bout_search_params.pickle\n",
      "2021-09-22 17:11:38,243 ceciestunepipe.util.sound.boutsearch INFO     saving bouts pandas to /mnt/sphere/speech_bci/derived_data/s_b1253_21/2021-07-18/sglx/0610_g0/bout_auto.pickle\n",
      "2021-09-22 17:11:39,159 ceciestunepipe.util.sound.boutsearch INFO     Getting bouts for long file /mnt/sphere/speech_bci/derived_data/s_b1253_21/2021-07-18/sglx/1615_g0/wav_mic.wav\n"
     ]
    },
    {
     "name": "stdout",
     "output_type": "stream",
     "text": [
      "tu vieja file /mnt/sphere/speech_bci/derived_data/s_b1253_21/2021-07-18/sglx/1615_g0/wav_mic.wav\n"
     ]
    },
    {
     "name": "stderr",
     "output_type": "stream",
     "text": [
      "2021-09-22 17:11:39,163 ceciestunepipe.util.sound.boutsearch INFO     splitting file into 7 chunks\n"
     ]
    },
    {
     "data": {
      "application/vnd.jupyter.widget-view+json": {
       "model_id": "777ee6a1920f46549c9de7b5e5dcf0f8",
       "version_major": 2,
       "version_minor": 0
      },
      "text/plain": [
       "  0%|          | 0/7 [00:00<?, ?it/s]"
      ]
     },
     "metadata": {},
     "output_type": "display_data"
    },
    {
     "name": "stderr",
     "output_type": "stream",
     "text": [
      "2021-09-22 17:18:37,564 ceciestunepipe.util.sound.boutsearch INFO     saving bout detect parameters dict to /mnt/sphere/speech_bci/derived_data/s_b1253_21/2021-07-18/sglx/1615_g0/bout_search_params.pickle\n",
      "2021-09-22 17:18:37,572 ceciestunepipe.util.sound.boutsearch INFO     saving bouts pandas to /mnt/sphere/speech_bci/derived_data/s_b1253_21/2021-07-18/sglx/1615_g0/bout_auto.pickle\n",
      "2021-09-22 17:18:37,886 root         INFO     saving bouts pandas to /mnt/sphere/speech_bci/derived_data/s_b1253_21/2021-07-18/sglx/bouts_ceciestunepipe/bout_auto.pickle\n",
      "2021-09-22 17:18:39,081 root         INFO     saving bout detect parameters dict to /mnt/sphere/speech_bci/derived_data/s_b1253_21/2021-07-18/sglx/bouts_ceciestunepipe/bout_search_params.pickle\n"
     ]
    }
   ],
   "source": [
    "all_sessions = sess_list[:2]\n",
    "all_sessions = ['2021-07-18']\n",
    "\n",
    "for sess in all_sessions:\n",
    "    sess_par['sess'] = sess\n",
    "    sess_bout_pd = get_all_day_bouts(sess_par, hparams, parallel=False)\n",
    "    save_auto_bouts(sess_bout_pd, sess_par, hparams)\n",
    "    sess_bouts_folder = os.path.join(exp_struct['folders']['derived'], 'bouts')\n",
    "    #bouts_to_wavs(sess_bout_pd, sess_par, hparams, sess_bouts_folder)"
   ]
  },
  {
   "cell_type": "code",
   "execution_count": 22,
   "metadata": {},
   "outputs": [
    {
     "name": "stdout",
     "output_type": "stream",
     "text": [
      "<class 'pandas.core.frame.DataFrame'>\n",
      "Int64Index: 103 entries, 0 to 37\n",
      "Data columns (total 17 columns):\n",
      " #   Column        Non-Null Count  Dtype  \n",
      "---  ------        --------------  -----  \n",
      " 0   start_ms      103 non-null    int64  \n",
      " 1   end_ms        103 non-null    int64  \n",
      " 2   start_sample  103 non-null    int64  \n",
      " 3   end_sample    103 non-null    int64  \n",
      " 4   p_step        103 non-null    object \n",
      " 5   rms_p         103 non-null    float64\n",
      " 6   peak_p        103 non-null    float64\n",
      " 7   bout_check    103 non-null    bool   \n",
      " 8   file          103 non-null    object \n",
      " 9   len_ms        103 non-null    int64  \n",
      " 10  syl_in        103 non-null    object \n",
      " 11  n_syl         103 non-null    int64  \n",
      " 12  peaks_p       103 non-null    object \n",
      " 13  n_peaks       103 non-null    int64  \n",
      " 14  l_p_ratio     103 non-null    float64\n",
      " 15  waveform      103 non-null    object \n",
      " 16  confusing     103 non-null    bool   \n",
      "dtypes: bool(2), float64(3), int64(7), object(5)\n",
      "memory usage: 13.1+ KB\n"
     ]
    }
   ],
   "source": [
    "sess_bout_pd.info()"
   ]
  },
  {
   "cell_type": "code",
   "execution_count": 24,
   "metadata": {},
   "outputs": [
    {
     "data": {
      "text/plain": [
       "103"
      ]
     },
     "execution_count": 24,
     "metadata": {},
     "output_type": "execute_result"
    }
   ],
   "source": [
    "np.unique(sess_bout_pd['start_ms']).size"
   ]
  },
  {
   "cell_type": "markdown",
   "metadata": {},
   "source": [
    "# debug"
   ]
  },
  {
   "cell_type": "markdown",
   "metadata": {},
   "source": [
    "## debug search_bout"
   ]
  },
  {
   "cell_type": "code",
   "execution_count": 21,
   "metadata": {},
   "outputs": [
    {
     "name": "stderr",
     "output_type": "stream",
     "text": [
      "2021-09-22 15:13:39,371 root         INFO     Found 4 files\n"
     ]
    },
    {
     "name": "stdout",
     "output_type": "stream",
     "text": [
      "['/mnt/sphere/speech_bci/derived_data/s_b1253_21/2021-06-14/sglx/0712_g0/wav_mic.wav', '/mnt/sphere/speech_bci/derived_data/s_b1253_21/2021-06-14/sglx/1255_g0/wav_mic.wav', '/mnt/sphere/speech_bci/derived_data/s_b1253_21/2021-06-14/sglx/1740_g0/wav_mic.wav', '/mnt/sphere/speech_bci/derived_data/s_b1253_21/2021-06-14/sglx/2118_g0/wav_mic.wav']\n"
     ]
    }
   ],
   "source": [
    "## look for a single file\n",
    "sess = sess_list[0]\n",
    "\n",
    "exp_struct = et.get_exp_struct(sess_par['bird'], sess, ephys_software='sglx')\n",
    "source_folder = exp_struct['folders']['derived']\n",
    "wav_path_list = et.get_sgl_files_epochs(source_folder, file_filter='*wav_mic.wav')\n",
    "wav_path_list.sort()\n",
    "logger.info('Found {} files'.format(len(wav_path_list)))\n",
    "print(wav_path_list)"
   ]
  },
  {
   "cell_type": "code",
   "execution_count": 22,
   "metadata": {},
   "outputs": [],
   "source": [
    "one_file = wav_path_list[0]"
   ]
  },
  {
   "cell_type": "code",
   "execution_count": null,
   "metadata": {},
   "outputs": [
    {
     "name": "stderr",
     "output_type": "stream",
     "text": [
      "2021-09-22 15:13:45,924 ceciestunepipe.util.sound.boutsearch INFO     Getting bouts for long file /mnt/sphere/speech_bci/derived_data/s_b1253_21/2021-06-14/sglx/0712_g0/wav_mic.wav\n"
     ]
    },
    {
     "name": "stdout",
     "output_type": "stream",
     "text": [
      "tu vieja file /mnt/sphere/speech_bci/derived_data/s_b1253_21/2021-06-14/sglx/0712_g0/wav_mic.wav\n"
     ]
    },
    {
     "name": "stderr",
     "output_type": "stream",
     "text": [
      "2021-09-22 15:13:45,962 ceciestunepipe.util.sound.boutsearch INFO     splitting file into 5 chunks\n"
     ]
    },
    {
     "data": {
      "application/vnd.jupyter.widget-view+json": {
       "model_id": "2ee46791b8cc495dae356f151c0a45d0",
       "version_major": 2,
       "version_minor": 0
      },
      "text/plain": [
       "  0%|          | 0/5 [00:00<?, ?it/s]"
      ]
     },
     "metadata": {},
     "output_type": "display_data"
    }
   ],
   "source": [
    "reload(bs)\n",
    "epoch_bout_pd, epoch_wav = bs.get_bouts_in_long_file(wav_path_list[0], hparams)"
   ]
  },
  {
   "cell_type": "code",
   "execution_count": null,
   "metadata": {},
   "outputs": [],
   "source": []
  }
 ],
 "metadata": {
  "kernelspec": {
   "display_name": "ceciestunepipe",
   "language": "python",
   "name": "ceciestunepipe"
  },
  "language_info": {
   "codemirror_mode": {
    "name": "ipython",
    "version": 3
   },
   "file_extension": ".py",
   "mimetype": "text/x-python",
   "name": "python",
   "nbconvert_exporter": "python",
   "pygments_lexer": "ipython3",
   "version": "3.8.10"
  }
 },
 "nbformat": 4,
 "nbformat_minor": 4
}
