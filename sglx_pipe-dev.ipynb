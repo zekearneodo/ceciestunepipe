{
 "cells": [
  {
   "cell_type": "markdown",
   "metadata": {},
   "source": [
    "### Pipeline for a single spikeglx session\n",
    "- Load an exctractor for visualization of the data\n",
    "- Sort it using kilosort"
   ]
  },
  {
   "cell_type": "code",
   "execution_count": 1,
   "metadata": {},
   "outputs": [],
   "source": [
    "%matplotlib inline\n",
    "\n",
    "import os\n",
    "import glob\n",
    "import logging\n",
    "import numpy as np\n",
    "from matplotlib import pyplot as plt\n",
    "from importlib import reload\n",
    "\n",
    "logger = logging.getLogger()\n",
    "handler = logging.StreamHandler()\n",
    "formatter = logging.Formatter(\n",
    "        '%(asctime)s %(name)-12s %(levelname)-8s %(message)s')\n",
    "handler.setFormatter(formatter)\n",
    "logger.addHandler(handler)\n",
    "logger.setLevel(logging.INFO)\n",
    "\n",
    "\n",
    "os.environ[\"KILOSORT2_PATH\"] = '/mnt/cube/earneodo/repos/Kilosort2'\n",
    "os.environ[\"KILOSORT_PATH\"] = '/mnt/cube/earneodo/repos/Kilosort'\n",
    "os.environ[\"NPY_MATLAB_PATH\"] = '/mnt/cube/earneodo/repos/npy-matlab'"
   ]
  },
  {
   "cell_type": "code",
   "execution_count": 2,
   "metadata": {},
   "outputs": [],
   "source": [
    "from ceciestunepipe.file import filestructure as et\n",
    "from ceciestunepipe.util import sglxutil as sglu\n",
    "from ceciestunepipe.util.spikeextractors.extractors.spikeglxrecordingextractor import readSGLX as rsgl\n",
    "from ceciestunepipe.util.spikeextractors.extractors.spikeglxrecordingextractor import spikeglxrecordingextractor as sglex"
   ]
  },
  {
   "cell_type": "code",
   "execution_count": 3,
   "metadata": {},
   "outputs": [
    {
     "name": "stderr",
     "output_type": "stream",
     "text": [
      "2021-01-08 07:33:48,041 root         INFO     all modules loaded\n"
     ]
    }
   ],
   "source": [
    "import spikeinterface as si\n",
    "import spikeinterface.extractors as se\n",
    "import spikeinterface.toolkit as st\n",
    "import spikeinterface.sorters as ss\n",
    "import spikeinterface.comparison as sc\n",
    "import spikeinterface.widgets as sw\n",
    "logger.info('all modules loaded')"
   ]
  },
  {
   "cell_type": "markdown",
   "metadata": {},
   "source": [
    "### Session parameters and raw files"
   ]
  },
  {
   "cell_type": "code",
   "execution_count": 4,
   "metadata": {},
   "outputs": [
    {
     "data": {
      "text/plain": [
       "['20201105', '20201106', '20201104']"
      ]
     },
     "execution_count": 4,
     "metadata": {},
     "output_type": "execute_result"
    }
   ],
   "source": [
    "reload(et)\n",
    "\n",
    "bci_locations_dict = {'mnt': os.path.abspath('/mnt/cube/earneodo/bci_zf/neuropix/birds'),\n",
    "                             'local': os.path.abspath('/mnt/cube/earneodo/scratch/raw_data'),\n",
    "                             'fast': os.path.abspath('/mnt/cube/earneodo/scratch')\n",
    "                             }\n",
    "\n",
    "bird = 'z_w12m7_20'\n",
    "all_bird_sess = et.list_sessions(bird, location_dict=bci_locations_dict)\n",
    "all_bird_sess"
   ]
  },
  {
   "cell_type": "code",
   "execution_count": 5,
   "metadata": {},
   "outputs": [],
   "source": [
    "sess_par = {'bird': 'z_w12m7_20',\n",
    "           'sess': '20201104',\n",
    "           'probe': 'probe_0', # probe to sort ('probe_0', 'probe_1') (to lookup in the rig_par which port to extract)\n",
    "           'sort': 2}\n",
    "\n",
    "exp_struct = et.get_exp_struct(sess_par['bird'], sess_par['sess'], sess_par['sort'],\n",
    "                              location_dict=bci_locations_dict)\n",
    "\n",
    "ksort_folder = exp_struct['folders']['ksort']\n",
    "raw_folder = exp_struct['folders']['raw']"
   ]
  },
  {
   "cell_type": "code",
   "execution_count": 6,
   "metadata": {},
   "outputs": [
    {
     "name": "stderr",
     "output_type": "stream",
     "text": [
      "2021-01-08 07:33:50,659 ceciestunepipe.util.sglxutil INFO     {'folders': {'bird': '/mnt/cube/earneodo/bci_zf/neuropix/birds/z_w12m7_20', 'raw': '/mnt/cube/earneodo/bci_zf/neuropix/birds/z_w12m7_20/Ephys/raw/20201104', 'kwik': '/mnt/cube/earneodo/scratch/raw_data/z_w12m7_20/Ephys/kwik/20201104', 'processed': '/mnt/cube/earneodo/bci_zf/neuropix/birds/z_w12m7_20/Ephys/processed/20201104', 'msort': '/mnt/cube/earneodo/scratch/z_w12m7_20/Ephys/msort/20201104', 'ksort': '/mnt/cube/earneodo/scratch/z_w12m7_20/Ephys/ksort/20201104'}, 'files': {'par': '/mnt/cube/earneodo/scratch/z_w12m7_20/Ephys/ksort/20201104/params.json', 'set': '/mnt/cube/earneodo/bci_zf/neuropix/birds/z_w12m7_20/Ephys/raw/20201104/settings.isf', 'rig': '/mnt/cube/earneodo/bci_zf/neuropix/birds/z_w12m7_20/Ephys/raw/20201104/rig.json', 'kwd': '/mnt/cube/earneodo/scratch/raw_data/z_w12m7_20/Ephys/kwik/20201104/stream.kwd', 'kwik': '/mnt/cube/earneodo/scratch/raw_data/z_w12m7_20/Ephys/kwik/20201104/sort_2/spikes.kwik', 'kwe': '/mnt/cube/earneodo/scratch/raw_data/z_w12m7_20/Ephys/kwik/20201104/events.kwe', 'dat_mic': '/mnt/cube/earneodo/bci_zf/neuropix/birds/z_w12m7_20/Ephys/processed/20201104/dat_mic.mat', 'dat_ap': '/mnt/cube/earneodo/bci_zf/neuropix/birds/z_w12m7_20/Ephys/processed/20201104/dat_ap.mat', 'allevents': '/mnt/cube/earneodo/bci_zf/neuropix/birds/z_w12m7_20/Ephys/processed/20201104/dat_all.pkl', 'mda_raw': '/mnt/cube/earneodo/scratch/z_w12m7_20/Ephys/msort/20201104/raw.mda', 'bin_raw': '/mnt/cube/earneodo/scratch/z_w12m7_20/Ephys/ksort/20201104/raw.bin'}}\n"
     ]
    },
    {
     "data": {
      "text/plain": [
       "['20201104_alles',\n",
       " '2500r250a_3500_dir_g0',\n",
       " '2500r250a_3500_dir_g1',\n",
       " '2500r250a_3500_dir_g2']"
      ]
     },
     "execution_count": 6,
     "metadata": {},
     "output_type": "execute_result"
    }
   ],
   "source": [
    "sess_epochs = sglu.list_sgl_epochs(sess_par, location_dict=bci_locations_dict)\n",
    "sess_epochs"
   ]
  },
  {
   "cell_type": "code",
   "execution_count": 7,
   "metadata": {},
   "outputs": [],
   "source": [
    "### pick a session\n",
    "reload(sglu)\n",
    "epoch = sess_epochs[-2]\n",
    "\n",
    "exp_struct = sglu.sgl_struct(sess_par, epoch)\n",
    "sgl_folders, sgl_files = sglu.sgl_file_struct(exp_struct['folders']['raw'])"
   ]
  },
  {
   "cell_type": "code",
   "execution_count": 8,
   "metadata": {},
   "outputs": [
    {
     "data": {
      "text/plain": [
       "{'nidq': '/mnt/cube/earneodo/bci_zf/neuropix/birds/z_w12m7_20/Ephys/raw/20201104/2500r250a_3500_dir_g1',\n",
       " 'imec_0': '/mnt/cube/earneodo/bci_zf/neuropix/birds/z_w12m7_20/Ephys/raw/20201104/2500r250a_3500_dir_g1/2500r250a_3500_dir_g1_imec0'}"
      ]
     },
     "execution_count": 8,
     "metadata": {},
     "output_type": "execute_result"
    }
   ],
   "source": [
    "sgl_folders"
   ]
  },
  {
   "cell_type": "code",
   "execution_count": 9,
   "metadata": {},
   "outputs": [
    {
     "data": {
      "text/plain": [
       "{'nidq': ['/mnt/cube/earneodo/bci_zf/neuropix/birds/z_w12m7_20/Ephys/raw/20201104/2500r250a_3500_dir_g1/2500r250a_3500_dir_g1_t0.nidq.meta'],\n",
       " 'lf_0': ['/mnt/cube/earneodo/bci_zf/neuropix/birds/z_w12m7_20/Ephys/raw/20201104/2500r250a_3500_dir_g1/2500r250a_3500_dir_g1_imec0/2500r250a_3500_dir_g1_t0.imec0.lf.meta'],\n",
       " 'ap_0': ['/mnt/cube/earneodo/bci_zf/neuropix/birds/z_w12m7_20/Ephys/raw/20201104/2500r250a_3500_dir_g1/2500r250a_3500_dir_g1_imec0/2500r250a_3500_dir_g1_t0.imec0.ap.meta']}"
      ]
     },
     "execution_count": 9,
     "metadata": {},
     "output_type": "execute_result"
    }
   ],
   "source": [
    "sgl_files"
   ]
  },
  {
   "cell_type": "code",
   "execution_count": 10,
   "metadata": {},
   "outputs": [],
   "source": [
    "probe_id = int(sess_par['probe'].split('_')[-1])\n",
    "i_run = 0\n",
    "\n",
    "run_meta_files = {k: v[i_run] for k, v in sgl_files.items()}\n",
    "run_recordings = {k: sglex.SpikeGLXRecordingExtractor(sglu.get_data_meta_path(v)[0]) for k, v in run_meta_files.items()}\n",
    "\n",
    "\n",
    "#probe_data_folder = sgl_folder['imec'][probe_id]\n"
   ]
  },
  {
   "cell_type": "code",
   "execution_count": 11,
   "metadata": {},
   "outputs": [],
   "source": [
    "sglex.SpikeGLXRecordingExtractor?"
   ]
  },
  {
   "cell_type": "code",
   "execution_count": 12,
   "metadata": {},
   "outputs": [],
   "source": [
    "### view the nidaq data"
   ]
  },
  {
   "cell_type": "code",
   "execution_count": 13,
   "metadata": {},
   "outputs": [
    {
     "data": {
      "text/plain": [
       "<ceciestunepipe.util.spikeextractors.extractors.spikeglxrecordingextractor.spikeglxrecordingextractor.SpikeGLXRecordingExtractor at 0x7f4c8c39c3d0>"
      ]
     },
     "execution_count": 13,
     "metadata": {},
     "output_type": "execute_result"
    }
   ],
   "source": [
    "run_recordings['nidq']"
   ]
  },
  {
   "cell_type": "code",
   "execution_count": 14,
   "metadata": {},
   "outputs": [
    {
     "data": {
      "image/png": "[encoded data removed]",
      "text/plain": [
       "<Figure size 432x288 with 1 Axes>"
      ]
     },
     "metadata": {
      "needs_background": "light"
     },
     "output_type": "display_data"
    }
   ],
   "source": [
    "w_ts = sw.plot_timeseries(run_recordings['nidq'], channel_ids=[0, 7], trange=[0,30])"
   ]
  },
  {
   "cell_type": "code",
   "execution_count": 15,
   "metadata": {},
   "outputs": [],
   "source": [
    "nidq_ttl = run_recordings['nidq'].get_ttl_events()"
   ]
  },
  {
   "cell_type": "code",
   "execution_count": 16,
   "metadata": {},
   "outputs": [
    {
     "data": {
      "text/plain": [
       "(385, 2339386)"
      ]
     },
     "execution_count": 16,
     "metadata": {},
     "output_type": "execute_result"
    }
   ],
   "source": [
    "run_recordings['lf_0']._raw.shape"
   ]
  },
  {
   "cell_type": "code",
   "execution_count": 17,
   "metadata": {},
   "outputs": [],
   "source": [
    "import numpy as np\n"
   ]
  },
  {
   "cell_type": "code",
   "execution_count": 18,
   "metadata": {},
   "outputs": [
    {
     "data": {
      "text/plain": [
       "32.00686675905558"
      ]
     },
     "execution_count": 18,
     "metadata": {},
     "output_type": "execute_result"
    }
   ],
   "source": [
    "syn_ch_arr = run_recordings['lf_0']._raw[-1, :]\n",
    "\n",
    "np.mean(syn_ch_arr)"
   ]
  },
  {
   "cell_type": "code",
   "execution_count": 31,
   "metadata": {},
   "outputs": [
    {
     "data": {
      "text/plain": [
       "[<matplotlib.lines.Line2D at 0x7f843c2f6d30>]"
      ]
     },
     "execution_count": 31,
     "metadata": {},
     "output_type": "execute_result"
    },
    {
     "data": {
      "image/png": "[encoded data removed]",
      "text/plain": [
       "<Figure size 432x288 with 1 Axes>"
      ]
     },
     "metadata": {
      "needs_background": "light"
     },
     "output_type": "display_data"
    }
   ],
   "source": [
    "plt.plot(syn_ch_arr[:10000])"
   ]
  },
  {
   "cell_type": "code",
   "execution_count": 23,
   "metadata": {},
   "outputs": [
    {
     "data": {
      "text/plain": [
       "{'acqMnMaXaDw': '0,0,8,1',\n",
       " 'appVersion': '20200520',\n",
       " 'fileCreateTime': '2020-11-04T17:46:52',\n",
       " 'fileName': 'D:/experiment/raw_data/z_w12m7_20/20201104/2500r250a_3500_dir_g1/2500r250a_3500_dir_g1_t0.nidq.bin',\n",
       " 'fileSHA1': 'A0B2FC5E2E55E8FDB87DD650C3D567E861CDF8D3',\n",
       " 'fileSizeBytes': '421084818',\n",
       " 'fileTimeSecs': '935.7555521513954',\n",
       " 'firstSample': '221538367',\n",
       " 'gateMode': 'Immediate',\n",
       " 'nDataDirs': '1',\n",
       " 'nSavedChans': '9',\n",
       " 'niAiRangeMax': '5',\n",
       " 'niAiRangeMin': '-5',\n",
       " 'niAiTermination': 'RSE',\n",
       " 'niClockLine1': 'Internal',\n",
       " 'niClockSource': 'PXI1Slot4_8ch_Int : 25000.000000',\n",
       " 'niDev1': 'PXI1Slot4',\n",
       " 'niDev1ProductName': 'PXIe-6363',\n",
       " 'niMAChans1': '',\n",
       " 'niMAGain': '1',\n",
       " 'niMNChans1': '',\n",
       " 'niMNGain': '200',\n",
       " 'niMuxFactor': '32',\n",
       " 'niSampRate': '24999.692437',\n",
       " 'niStartEnable': 'false',\n",
       " 'niStartLine': 'PXI1Slot4/port0/line0',\n",
       " 'niXAChans1': '0:7',\n",
       " 'niXDBytes1': '1',\n",
       " 'niXDChans1': '0:7',\n",
       " 'snsMnMaXaDw': '0,0,8,1',\n",
       " 'snsSaveChanSubset': 'all',\n",
       " 'syncNiChan': '0',\n",
       " 'syncNiChanType': '0',\n",
       " 'syncNiThresh': '1.1',\n",
       " 'syncSourceIdx': '3',\n",
       " 'syncSourcePeriod': '1',\n",
       " 'trigMode': 'Immediate',\n",
       " 'typeImEnabled': '1',\n",
       " 'typeNiEnabled': '1',\n",
       " 'typeThis': 'nidq',\n",
       " 'userNotes': '',\n",
       " 'snsChanMap': '(0,0,32,8,1)(XA0;0:0)(XA1;1:1)(XA2;2:2)(XA3;3:3)(XA4;4:4)(XA5;5:5)(XA6;6:6)(XA7;7:7)(XD0;8:8)',\n",
       " 'snsShankMap': '(1,2,0)'}"
      ]
     },
     "execution_count": 23,
     "metadata": {},
     "output_type": "execute_result"
    }
   ],
   "source": [
    "run_1recordings['nidq']._meta"
   ]
  },
  {
   "cell_type": "markdown",
   "metadata": {},
   "source": [
    "## The digital and sync channel in the recording\n",
    "- using the new methods in my version of readSGLX, spikeglxrecordingextractor"
   ]
  },
  {
   "cell_type": "code",
   "execution_count": 23,
   "metadata": {},
   "outputs": [
    {
     "data": {
      "text/plain": [
       "[<matplotlib.lines.Line2D at 0x7f451d808070>]"
      ]
     },
     "execution_count": 23,
     "metadata": {},
     "output_type": "execute_result"
    },
    {
     "data": {
      "image/png": "[encoded data removed]",
      "text/plain": [
       "<Figure size 432x288 with 1 Axes>"
      ]
     },
     "metadata": {
      "needs_background": "light"
     },
     "output_type": "display_data"
    }
   ],
   "source": [
    "### the digital chan and the syn extraction of the nidq rec\n",
    "\n",
    "nidq_syn = rsgl.ExtractDigital(run_recordings['nidq']._raw, 0, 100000, 0, [0], run_recordings['nidq']._meta)\n",
    "nidq_syn_ttl = run_recordings['nidq'].get_ttl_events(channel_id=0, end_frame=100000)\n",
    "\n",
    "plt.plot(nidq_syn.flatten())\n",
    "plt.plot(*nidq_syn_ttl, '*')"
   ]
  },
  {
   "cell_type": "code",
   "execution_count": 26,
   "metadata": {},
   "outputs": [
    {
     "data": {
      "text/plain": [
       "[<matplotlib.lines.Line2D at 0x7f451d6c9310>]"
      ]
     },
     "execution_count": 26,
     "metadata": {},
     "output_type": "execute_result"
    },
    {
     "data": {
      "image/png": "[encoded data removed]",
      "text/plain": [
       "<Figure size 432x288 with 1 Axes>"
      ]
     },
     "metadata": {
      "needs_background": "light"
     },
     "output_type": "display_data"
    }
   ],
   "source": [
    "### the digital chan and the syn extraction of the nidq rec\n",
    "ap_syn = rsgl.ExtractDigital(run_recordings['ap_0']._raw, 0, 100000, 0, [0], run_recordings['ap_0']._meta)\n",
    "ap_syn_ttl = run_recordings['ap_0'].get_ttl_events(end_frame=100000)\n",
    "\n",
    "plt.plot(ap_syn.flatten())\n",
    "plt.plot(*ap_syn_ttl, '*')"
   ]
  },
  {
   "cell_type": "code",
   "execution_count": 29,
   "metadata": {},
   "outputs": [],
   "source": [
    "ttl_arr = np.array(ap_syn_ttl)"
   ]
  },
  {
   "cell_type": "code",
   "execution_count": 35,
   "metadata": {},
   "outputs": [
    {
     "data": {
      "text/plain": [
       "array([ True, False,  True, False,  True, False])"
      ]
     },
     "execution_count": 35,
     "metadata": {},
     "output_type": "execute_result"
    }
   ],
   "source": [
    "ttl_arr[1]==-1"
   ]
  },
  {
   "cell_type": "code",
   "execution_count": 39,
   "metadata": {},
   "outputs": [
    {
     "data": {
      "text/plain": [
       "array([30000, 30000])"
      ]
     },
     "execution_count": 39,
     "metadata": {},
     "output_type": "execute_result"
    }
   ],
   "source": [
    "np.diff(ttl_arr[0, ttl_arr[1]==-1])"
   ]
  },
  {
   "cell_type": "markdown",
   "metadata": {},
   "source": [
    "### The time syncronization"
   ]
  },
  {
   "cell_type": "code",
   "execution_count": 42,
   "metadata": {},
   "outputs": [
    {
     "data": {
      "text/plain": [
       "array([30000, 30000, 30000, 30000])"
      ]
     },
     "execution_count": 42,
     "metadata": {},
     "output_type": "execute_result"
    }
   ],
   "source": [
    "def compute_sf(ttl: tuple):\n",
    "    ttl_arr = np.array(ttl)\n",
    "    \n",
    "    # get all the diffs betwenn edge ups and edge donws\n",
    "    all_diff_arr = np.concatenate([np.diff(ttl_arr[0, ttl_arr[1]==j]) for j in [-1, 1]])\n",
    "    \n",
    "    return all_diff_arr\n",
    "\n",
    "compute_sf(ap_syn_ttl)"
   ]
  },
  {
   "cell_type": "code",
   "execution_count": null,
   "metadata": {},
   "outputs": [],
   "source": [
    "def compute_sf(recording)\n",
    "    syn_ttl = recording.get_ttl_events(end_frame=100000)"
   ]
  },
  {
   "cell_type": "markdown",
   "metadata": {},
   "source": [
    "### The sorting"
   ]
  },
  {
   "cell_type": "code",
   "execution_count": 16,
   "metadata": {},
   "outputs": [
    {
     "data": {
      "text/plain": [
       "[spikeextractors.extractors.mdaextractors.mdaextractors.MdaRecordingExtractor,\n",
       " spikeextractors.extractors.biocamrecordingextractor.biocamrecordingextractor.BiocamRecordingExtractor,\n",
       " spikeextractors.extractors.bindatrecordingextractor.bindatrecordingextractor.BinDatRecordingExtractor,\n",
       " spikeextractors.extractors.klustaextractors.klustaextractors.KlustaRecordingExtractor,\n",
       " spikeextractors.extractors.kilosortextractors.kilosortextractors.KiloSortRecordingExtractor,\n",
       " spikeextractors.extractors.spykingcircusextractors.spykingcircusextractors.SpykingCircusRecordingExtractor,\n",
       " spikeextractors.extractors.spikeglxrecordingextractor.spikeglxrecordingextractor.SpikeGLXRecordingExtractor,\n",
       " spikeextractors.extractors.phyextractors.phyextractors.PhyRecordingExtractor,\n",
       " spikeextractors.extractors.maxoneextractors.maxoneextractors.MaxOneRecordingExtractor,\n",
       " spikeextractors.extractors.mea1kextractors.mea1kextractors.Mea1kRecordingExtractor,\n",
       " spikeextractors.extractors.mcsh5recordingextractor.mcsh5recordingextractor.MCSH5RecordingExtractor,\n",
       " spikeextractors.extractors.neoextractors.mcsrawrecordingextractor.MCSRawRecordingExtractor]"
      ]
     },
     "execution_count": 16,
     "metadata": {},
     "output_type": "execute_result"
    }
   ],
   "source": [
    "se.installed_recording_extractor_list"
   ]
  },
  {
   "cell_type": "code",
   "execution_count": 27,
   "metadata": {},
   "outputs": [],
   "source": [
    "se.KiloSortRecordingExtractor?"
   ]
  }
 ],
 "metadata": {
  "kernelspec": {
   "display_name": "cestunepipe",
   "language": "python",
   "name": "cestunepipe"
  },
  "language_info": {
   "codemirror_mode": {
    "name": "ipython",
    "version": 3
   },
   "file_extension": ".py",
   "mimetype": "text/x-python",
   "name": "python",
   "nbconvert_exporter": "python",
   "pygments_lexer": "ipython3",
   "version": "3.8.5"
  }
 },
 "nbformat": 4,
 "nbformat_minor": 4
}
