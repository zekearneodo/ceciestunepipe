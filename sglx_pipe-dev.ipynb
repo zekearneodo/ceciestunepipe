{
 "cells": [
  {
   "cell_type": "markdown",
   "metadata": {},
   "source": [
    "### Pipeline for a single spikeglx session\n",
    "- Load an exctractor for visualization of the data\n",
    "- Sort it using kilosort"
   ]
  },
  {
   "cell_type": "code",
   "execution_count": 1,
   "metadata": {},
   "outputs": [],
   "source": [
    "%matplotlib inline\n",
    "\n",
    "import os\n",
    "import glob\n",
    "import logging\n",
    "import numpy as np\n",
    "from matplotlib import pyplot as plt\n",
    "from importlib import reload\n",
    "\n",
    "logger = logging.getLogger()\n",
    "handler = logging.StreamHandler()\n",
    "formatter = logging.Formatter(\n",
    "        '%(asctime)s %(name)-12s %(levelname)-8s %(message)s')\n",
    "handler.setFormatter(formatter)\n",
    "logger.addHandler(handler)\n",
    "logger.setLevel(logging.INFO)\n",
    "\n",
    "\n",
    "os.environ[\"KILOSORT2_PATH\"] = '/mnt/cube/earneodo/repos/Kilosort2'\n",
    "os.environ[\"KILOSORT_PATH\"] = '/mnt/cube/earneodo/repos/Kilosort'\n",
    "os.environ[\"NPY_MATLAB_PATH\"] = '/mnt/cube/earneodo/repos/npy-matlab'"
   ]
  },
  {
   "cell_type": "code",
   "execution_count": 2,
   "metadata": {},
   "outputs": [],
   "source": [
    "from ceciestunepipe.file import filestructure as et\n",
    "from ceciestunepipe.util import sglxutil as sglu\n",
    "from ceciestunepipe.util.spikeextractors.extractors.spikeglxrecordingextractor import readSGLX as rsgl\n",
    "from ceciestunepipe.util.spikeextractors.extractors.spikeglxrecordingextractor import spikeglxrecordingextractor as sglex"
   ]
  },
  {
   "cell_type": "code",
   "execution_count": 3,
   "metadata": {},
   "outputs": [
    {
     "name": "stderr",
     "output_type": "stream",
     "text": [
      "2021-01-30 11:49:05,219 root         INFO     all modules loaded\n"
     ]
    }
   ],
   "source": [
    "import spikeinterface as si\n",
    "import spikeinterface.extractors as se\n",
    "import spikeinterface.toolkit as st\n",
    "import spikeinterface.sorters as ss\n",
    "import spikeinterface.comparison as sc\n",
    "import spikeinterface.widgets as sw\n",
    "logger.info('all modules loaded')"
   ]
  },
  {
   "cell_type": "markdown",
   "metadata": {},
   "source": [
    "### Session parameters and raw files"
   ]
  },
  {
   "cell_type": "code",
   "execution_count": 74,
   "metadata": {},
   "outputs": [
    {
     "data": {
      "text/plain": [
       "['20201105', '20201106', '20201104']"
      ]
     },
     "execution_count": 74,
     "metadata": {},
     "output_type": "execute_result"
    }
   ],
   "source": [
    "reload(et)\n",
    "\n",
    "\n",
    "bird = 'z_w12m7_20'\n",
    "all_bird_sess = et.list_sessions(bird)\n",
    "all_bird_sess"
   ]
  },
  {
   "cell_type": "code",
   "execution_count": 75,
   "metadata": {},
   "outputs": [],
   "source": [
    "sess_par = {'bird': 'z_w12m7_20',\n",
    "           'sess': '20201104',\n",
    "           'probe': 'probe_0', # probe to sort ('probe_0', 'probe_1') (to lookup in the rig_par which port to extract)\n",
    "           'sort': 2}\n",
    "\n",
    "exp_struct = et.get_exp_struct(sess_par['bird'], sess_par['sess'], sess_par['sort'])\n",
    "\n",
    "ksort_folder = exp_struct['folders']['ksort']\n",
    "raw_folder = exp_struct['folders']['raw']"
   ]
  },
  {
   "cell_type": "code",
   "execution_count": 76,
   "metadata": {},
   "outputs": [
    {
     "data": {
      "text/plain": [
       "<module 'ceciestunepipe.file.filestructure' from '/mnt/cube/earneodo/repos/ceciestunepipe/ceciestunepipe/file/filestructure.py'>"
      ]
     },
     "execution_count": 76,
     "metadata": {},
     "output_type": "execute_result"
    }
   ],
   "source": [
    "et"
   ]
  },
  {
   "cell_type": "code",
   "execution_count": 77,
   "metadata": {},
   "outputs": [
    {
     "data": {
      "text/plain": [
       "'/scratch/earneodo/tmp/tmp'"
      ]
     },
     "execution_count": 77,
     "metadata": {},
     "output_type": "execute_result"
    }
   ],
   "source": [
    "exp_struct['folders']['tmp']"
   ]
  },
  {
   "cell_type": "code",
   "execution_count": 78,
   "metadata": {},
   "outputs": [
    {
     "name": "stdout",
     "output_type": "stream",
     "text": [
      "/scratch/earneodo/tmp/tmp\n"
     ]
    }
   ],
   "source": [
    "print(os.environ['TMP'])"
   ]
  },
  {
   "cell_type": "code",
   "execution_count": 7,
   "metadata": {},
   "outputs": [
    {
     "name": "stderr",
     "output_type": "stream",
     "text": [
      "2021-01-30 11:49:07,822 ceciestunepipe.util.sglxutil INFO     {'folders': {'bird': '/mnt/cube/earneodo/bci_zf/neuropix/birds/z_w12m7_20', 'raw': '/mnt/cube/earneodo/bci_zf/neuropix/birds/z_w12m7_20/Ephys/raw/20201104', 'kwik': '/mnt/sphere/earneodo/bci_zf/ss_data/z_w12m7_20/Ephys/kwik/20201104', 'processed': '/mnt/cube/earneodo/bci_zf/neuropix/birds/z_w12m7_20/Ephys/processed/20201104', 'derived': '/mnt/cube/earneodo/bci_zf/neuropix/birds/z_w12m7_20/Ephys/derived/20201104', 'tmp': '/scratch/earneodo/tmp/tmp', 'msort': '/scratch/earneodo/tmp/z_w12m7_20/Ephys/msort/20201104', 'ksort': '/scratch/earneodo/tmp/z_w12m7_20/Ephys/ksort/20201104'}, 'files': {'par': '/scratch/earneodo/tmp/z_w12m7_20/Ephys/ksort/20201104/params.json', 'set': '/mnt/cube/earneodo/bci_zf/neuropix/birds/z_w12m7_20/Ephys/raw/20201104/settings.isf', 'rig': '/mnt/cube/earneodo/bci_zf/neuropix/birds/z_w12m7_20/Ephys/raw/20201104/rig.json', 'kwd': '/mnt/sphere/earneodo/bci_zf/ss_data/z_w12m7_20/Ephys/kwik/20201104/stream.kwd', 'kwik': '/mnt/sphere/earneodo/bci_zf/ss_data/z_w12m7_20/Ephys/kwik/20201104/sort_2/spikes.kwik', 'kwe': '/mnt/sphere/earneodo/bci_zf/ss_data/z_w12m7_20/Ephys/kwik/20201104/events.kwe', 'dat_mic': '/mnt/cube/earneodo/bci_zf/neuropix/birds/z_w12m7_20/Ephys/processed/20201104/dat_mic.mat', 'dat_ap': '/mnt/cube/earneodo/bci_zf/neuropix/birds/z_w12m7_20/Ephys/processed/20201104/dat_ap.mat', 'allevents': '/mnt/cube/earneodo/bci_zf/neuropix/birds/z_w12m7_20/Ephys/processed/20201104/dat_all.pkl', 'wav_mic': '/mnt/cube/earneodo/bci_zf/neuropix/birds/z_w12m7_20/Ephys/derived/20201104/wav_mic.wav', 'mda_raw': '/scratch/earneodo/tmp/z_w12m7_20/Ephys/msort/20201104/raw.mda', 'bin_raw': '/scratch/earneodo/tmp/z_w12m7_20/Ephys/ksort/20201104/raw.bin'}}\n"
     ]
    },
    {
     "data": {
      "text/plain": [
       "['20201104_alles',\n",
       " '2500r250a_3500_dir_g0',\n",
       " '2500r250a_3500_dir_g1',\n",
       " '2500r250a_3500_dir_g2']"
      ]
     },
     "execution_count": 7,
     "metadata": {},
     "output_type": "execute_result"
    }
   ],
   "source": [
    "sess_epochs = sglu.list_sgl_epochs(sess_par)\n",
    "sess_epochs"
   ]
  },
  {
   "cell_type": "code",
   "execution_count": 79,
   "metadata": {},
   "outputs": [],
   "source": [
    "### pick a session\n",
    "reload(sglu)\n",
    "epoch = sess_epochs[-1] # g2 is the shortest\n",
    "\n",
    "exp_struct = sglu.sgl_struct(sess_par, epoch)\n",
    "sgl_folders, sgl_files = sglu.sgl_file_struct(exp_struct['folders']['raw'])"
   ]
  },
  {
   "cell_type": "code",
   "execution_count": 80,
   "metadata": {},
   "outputs": [
    {
     "data": {
      "text/plain": [
       "{'nidq': '/mnt/cube/earneodo/bci_zf/neuropix/birds/z_w12m7_20/Ephys/raw/20201104/2500r250a_3500_dir_g2',\n",
       " 'imec_0': '/mnt/cube/earneodo/bci_zf/neuropix/birds/z_w12m7_20/Ephys/raw/20201104/2500r250a_3500_dir_g2/2500r250a_3500_dir_g2_imec0'}"
      ]
     },
     "execution_count": 80,
     "metadata": {},
     "output_type": "execute_result"
    }
   ],
   "source": [
    "sgl_folders"
   ]
  },
  {
   "cell_type": "code",
   "execution_count": 81,
   "metadata": {},
   "outputs": [
    {
     "data": {
      "text/plain": [
       "{'nidq': ['/mnt/cube/earneodo/bci_zf/neuropix/birds/z_w12m7_20/Ephys/raw/20201104/2500r250a_3500_dir_g2/2500r250a_3500_dir_g2_t0.nidq.meta'],\n",
       " 'lf_0': ['/mnt/cube/earneodo/bci_zf/neuropix/birds/z_w12m7_20/Ephys/raw/20201104/2500r250a_3500_dir_g2/2500r250a_3500_dir_g2_imec0/2500r250a_3500_dir_g2_t0.imec0.lf.meta'],\n",
       " 'ap_0': ['/mnt/cube/earneodo/bci_zf/neuropix/birds/z_w12m7_20/Ephys/raw/20201104/2500r250a_3500_dir_g2/2500r250a_3500_dir_g2_imec0/2500r250a_3500_dir_g2_t0.imec0.ap.meta']}"
      ]
     },
     "execution_count": 81,
     "metadata": {},
     "output_type": "execute_result"
    }
   ],
   "source": [
    "sgl_files"
   ]
  },
  {
   "cell_type": "code",
   "execution_count": 82,
   "metadata": {},
   "outputs": [],
   "source": [
    "import pandas as pd"
   ]
  },
  {
   "cell_type": "code",
   "execution_count": 83,
   "metadata": {},
   "outputs": [],
   "source": [
    "files_pd = pd.DataFrame(sgl_files)"
   ]
  },
  {
   "cell_type": "code",
   "execution_count": 84,
   "metadata": {},
   "outputs": [
    {
     "data": {
      "text/html": [
       "<div>\n",
       "<style scoped>\n",
       "    .dataframe tbody tr th:only-of-type {\n",
       "        vertical-align: middle;\n",
       "    }\n",
       "\n",
       "    .dataframe tbody tr th {\n",
       "        vertical-align: top;\n",
       "    }\n",
       "\n",
       "    .dataframe thead th {\n",
       "        text-align: right;\n",
       "    }\n",
       "</style>\n",
       "<table border=\"1\" class=\"dataframe\">\n",
       "  <thead>\n",
       "    <tr style=\"text-align: right;\">\n",
       "      <th></th>\n",
       "      <th>nidq</th>\n",
       "      <th>lf_0</th>\n",
       "      <th>ap_0</th>\n",
       "    </tr>\n",
       "  </thead>\n",
       "  <tbody>\n",
       "    <tr>\n",
       "      <th>0</th>\n",
       "      <td>/mnt/cube/earneodo/bci_zf/neuropix/birds/z_w12...</td>\n",
       "      <td>/mnt/cube/earneodo/bci_zf/neuropix/birds/z_w12...</td>\n",
       "      <td>/mnt/cube/earneodo/bci_zf/neuropix/birds/z_w12...</td>\n",
       "    </tr>\n",
       "  </tbody>\n",
       "</table>\n",
       "</div>"
      ],
      "text/plain": [
       "                                                nidq  \\\n",
       "0  /mnt/cube/earneodo/bci_zf/neuropix/birds/z_w12...   \n",
       "\n",
       "                                                lf_0  \\\n",
       "0  /mnt/cube/earneodo/bci_zf/neuropix/birds/z_w12...   \n",
       "\n",
       "                                                ap_0  \n",
       "0  /mnt/cube/earneodo/bci_zf/neuropix/birds/z_w12...  "
      ]
     },
     "execution_count": 84,
     "metadata": {},
     "output_type": "execute_result"
    }
   ],
   "source": [
    "files_pd"
   ]
  },
  {
   "cell_type": "code",
   "execution_count": 85,
   "metadata": {},
   "outputs": [],
   "source": [
    "probe_id = int(sess_par['probe'].split('_')[-1])\n",
    "i_run = 0\n",
    "\n",
    "run_meta_files = {k: v[i_run] for k, v in sgl_files.items()}\n",
    "run_recordings = {k: sglex.SpikeGLXRecordingExtractor(sglu.get_data_meta_path(v)[0]) for k, v in run_meta_files.items()}\n",
    "\n",
    "\n",
    "#probe_data_folder = sgl_folder['imec'][probe_id]\n"
   ]
  },
  {
   "cell_type": "markdown",
   "metadata": {},
   "source": [
    "### view the nidaq data"
   ]
  },
  {
   "cell_type": "code",
   "execution_count": 15,
   "metadata": {},
   "outputs": [
    {
     "data": {
      "text/plain": [
       "<ceciestunepipe.util.spikeextractors.extractors.spikeglxrecordingextractor.spikeglxrecordingextractor.SpikeGLXRecordingExtractor at 0x7f4d0f244f70>"
      ]
     },
     "execution_count": 15,
     "metadata": {},
     "output_type": "execute_result"
    }
   ],
   "source": [
    "run_recordings['nidq']"
   ]
  },
  {
   "cell_type": "code",
   "execution_count": 16,
   "metadata": {},
   "outputs": [
    {
     "data": {
      "image/png": "[encoded data removed]",
      "text/plain": [
       "<Figure size 432x288 with 1 Axes>"
      ]
     },
     "metadata": {
      "needs_background": "light"
     },
     "output_type": "display_data"
    }
   ],
   "source": [
    "w_ts = sw.plot_timeseries(run_recordings['nidq'], channel_ids=[0, 7], trange=[0,30])"
   ]
  },
  {
   "cell_type": "code",
   "execution_count": 17,
   "metadata": {},
   "outputs": [
    {
     "name": "stderr",
     "output_type": "stream",
     "text": [
      "2021-01-30 11:49:11,388 ceciestunepipe.util.spikeextractors.extractors.spikeglxrecordingextractor.spikeglxrecordingextractor INFO     getting ttl events, chan 0\n"
     ]
    }
   ],
   "source": [
    "nidq_ttl = run_recordings['nidq'].get_ttl_events()"
   ]
  },
  {
   "cell_type": "code",
   "execution_count": 18,
   "metadata": {},
   "outputs": [
    {
     "data": {
      "text/plain": [
       "(385, 334007)"
      ]
     },
     "execution_count": 18,
     "metadata": {},
     "output_type": "execute_result"
    }
   ],
   "source": [
    "run_recordings['lf_0']._raw.shape"
   ]
  },
  {
   "cell_type": "code",
   "execution_count": 19,
   "metadata": {},
   "outputs": [
    {
     "data": {
      "text/plain": [
       "32.039951258506555"
      ]
     },
     "execution_count": 19,
     "metadata": {},
     "output_type": "execute_result"
    }
   ],
   "source": [
    "syn_ch_arr = run_recordings['lf_0']._raw[-1, :]\n",
    "\n",
    "np.mean(syn_ch_arr)"
   ]
  },
  {
   "cell_type": "code",
   "execution_count": 20,
   "metadata": {},
   "outputs": [
    {
     "data": {
      "text/plain": [
       "[<matplotlib.lines.Line2D at 0x7f4c3c2e9730>]"
      ]
     },
     "execution_count": 20,
     "metadata": {},
     "output_type": "execute_result"
    },
    {
     "data": {
      "image/png": "[encoded data removed]",
      "text/plain": [
       "<Figure size 432x288 with 1 Axes>"
      ]
     },
     "metadata": {
      "needs_background": "light"
     },
     "output_type": "display_data"
    }
   ],
   "source": [
    "plt.plot(syn_ch_arr[:10000])"
   ]
  },
  {
   "cell_type": "code",
   "execution_count": 21,
   "metadata": {
    "scrolled": true
   },
   "outputs": [
    {
     "data": {
      "text/plain": [
       "{'acqApLfSy': '384,384,1',\n",
       " 'appVersion': '20200520',\n",
       " 'fileCreateTime': '2020-11-04T18:02:34',\n",
       " 'fileName': 'D:/experiment/raw_data/z_w12m7_20/20201104/2500r250a_3500_dir_g2/2500r250a_3500_dir_g2_imec0/2500r250a_3500_dir_g2_t0.imec0.ap.bin',\n",
       " 'fileSHA1': 'FFCFAFF169294CA1BED6B39D5C7940B1CC59F923',\n",
       " 'fileSizeBytes': '3086220060',\n",
       " 'fileTimeSecs': '133.6027459520931',\n",
       " 'firstSample': '294100386',\n",
       " 'gateMode': 'Immediate',\n",
       " 'imAiRangeMax': '0.6',\n",
       " 'imAiRangeMin': '-0.6',\n",
       " 'imCalibrated': 'true',\n",
       " 'imDatApi': '1.20',\n",
       " 'imDatBs_fw': '1.1.123',\n",
       " 'imDatBsc_fw': '1.0.151',\n",
       " 'imDatBsc_hw': '5.1',\n",
       " 'imDatBsc_pn': 'NP2_HS_30',\n",
       " 'imDatBsc_sn': '567',\n",
       " 'imDatFx_hw': '1.2',\n",
       " 'imDatFx_pn': 'NP2_FLEX_0',\n",
       " 'imDatHs_fw': '5.2',\n",
       " 'imDatHs_pn': 'NP2_HS_30',\n",
       " 'imDatHs_sn': '1807',\n",
       " 'imDatPrb_pn': 'PRB_1_4_0480_1',\n",
       " 'imDatPrb_port': '4',\n",
       " 'imDatPrb_slot': '2',\n",
       " 'imDatPrb_sn': '19108322052',\n",
       " 'imDatPrb_type': '0',\n",
       " 'imLEDEnable': 'false',\n",
       " 'imMaxInt': '512',\n",
       " 'imRoFile': 'D:/experiment/raw_data/audio_test/lf_250x_tipref.imro',\n",
       " 'imSampRate': '29999.967227',\n",
       " 'imStdby': '',\n",
       " 'imTrgRising': 'true',\n",
       " 'imTrgSource': '0',\n",
       " 'nDataDirs': '1',\n",
       " 'nSavedChans': '385',\n",
       " 'snsApLfSy': '384,0,1',\n",
       " 'snsSaveChanSubset': '0:383,768',\n",
       " 'syncImInputSlot': '2',\n",
       " 'syncSourceIdx': '3',\n",
       " 'syncSourcePeriod': '1',\n",
       " 'trigMode': 'Immediate',\n",
       " 'typeImEnabled': '1',\n",
       " 'typeNiEnabled': '1',\n",
       " 'typeThis': 'imec',\n",
       " 'userNotes': '',\n",
       " 'imroTbl': '(0,384)(0 0 1 500 250 1)(1 0 1 500 250 1)(2 0 1 500 250 1)(3 0 1 500 250 1)(4 0 1 500 250 1)(5 0 1 500 250 1)(6 0 1 500 250 1)(7 0 1 500 250 1)(8 0 1 500 250 1)(9 0 1 500 250 1)(10 0 1 500 250 1)(11 0 1 500 250 1)(12 0 1 500 250 1)(13 0 1 500 250 1)(14 0 1 500 250 1)(15 0 1 500 250 1)(16 0 1 500 250 1)(17 0 1 500 250 1)(18 0 1 500 250 1)(19 0 1 500 250 1)(20 0 1 500 250 1)(21 0 1 500 250 1)(22 0 1 500 250 1)(23 0 1 500 250 1)(24 0 1 500 250 1)(25 0 1 500 250 1)(26 0 1 500 250 1)(27 0 1 500 250 1)(28 0 1 500 250 1)(29 0 1 500 250 1)(30 0 1 500 250 1)(31 0 1 500 250 1)(32 0 1 500 250 1)(33 0 1 500 250 1)(34 0 1 500 250 1)(35 0 1 500 250 1)(36 0 1 500 250 1)(37 0 1 500 250 1)(38 0 1 500 250 1)(39 0 1 500 250 1)(40 0 1 500 250 1)(41 0 1 500 250 1)(42 0 1 500 250 1)(43 0 1 500 250 1)(44 0 1 500 250 1)(45 0 1 500 250 1)(46 0 1 500 250 1)(47 0 1 500 250 1)(48 0 1 500 250 1)(49 0 1 500 250 1)(50 0 1 500 250 1)(51 0 1 500 250 1)(52 0 1 500 250 1)(53 0 1 500 250 1)(54 0 1 500 250 1)(55 0 1 500 250 1)(56 0 1 500 250 1)(57 0 1 500 250 1)(58 0 1 500 250 1)(59 0 1 500 250 1)(60 0 1 500 250 1)(61 0 1 500 250 1)(62 0 1 500 250 1)(63 0 1 500 250 1)(64 0 1 500 250 1)(65 0 1 500 250 1)(66 0 1 500 250 1)(67 0 1 500 250 1)(68 0 1 500 250 1)(69 0 1 500 250 1)(70 0 1 500 250 1)(71 0 1 500 250 1)(72 0 1 500 250 1)(73 0 1 500 250 1)(74 0 1 500 250 1)(75 0 1 500 250 1)(76 0 1 500 250 1)(77 0 1 500 250 1)(78 0 1 500 250 1)(79 0 1 500 250 1)(80 0 1 500 250 1)(81 0 1 500 250 1)(82 0 1 500 250 1)(83 0 1 500 250 1)(84 0 1 500 250 1)(85 0 1 500 250 1)(86 0 1 500 250 1)(87 0 1 500 250 1)(88 0 1 500 250 1)(89 0 1 500 250 1)(90 0 1 500 250 1)(91 0 1 500 250 1)(92 0 1 500 250 1)(93 0 1 500 250 1)(94 0 1 500 250 1)(95 0 1 500 250 1)(96 0 1 500 250 1)(97 0 1 500 250 1)(98 0 1 500 250 1)(99 0 1 500 250 1)(100 0 1 500 250 1)(101 0 1 500 250 1)(102 0 1 500 250 1)(103 0 1 500 250 1)(104 0 1 500 250 1)(105 0 1 500 250 1)(106 0 1 500 250 1)(107 0 1 500 250 1)(108 0 1 500 250 1)(109 0 1 500 250 1)(110 0 1 500 250 1)(111 0 1 500 250 1)(112 0 1 500 250 1)(113 0 1 500 250 1)(114 0 1 500 250 1)(115 0 1 500 250 1)(116 0 1 500 250 1)(117 0 1 500 250 1)(118 0 1 500 250 1)(119 0 1 500 250 1)(120 0 1 500 250 1)(121 0 1 500 250 1)(122 0 1 500 250 1)(123 0 1 500 250 1)(124 0 1 500 250 1)(125 0 1 500 250 1)(126 0 1 500 250 1)(127 0 1 500 250 1)(128 0 1 500 250 1)(129 0 1 500 250 1)(130 0 1 500 250 1)(131 0 1 500 250 1)(132 0 1 500 250 1)(133 0 1 500 250 1)(134 0 1 500 250 1)(135 0 1 500 250 1)(136 0 1 500 250 1)(137 0 1 500 250 1)(138 0 1 500 250 1)(139 0 1 500 250 1)(140 0 1 500 250 1)(141 0 1 500 250 1)(142 0 1 500 250 1)(143 0 1 500 250 1)(144 0 1 500 250 1)(145 0 1 500 250 1)(146 0 1 500 250 1)(147 0 1 500 250 1)(148 0 1 500 250 1)(149 0 1 500 250 1)(150 0 1 500 250 1)(151 0 1 500 250 1)(152 0 1 500 250 1)(153 0 1 500 250 1)(154 0 1 500 250 1)(155 0 1 500 250 1)(156 0 1 500 250 1)(157 0 1 500 250 1)(158 0 1 500 250 1)(159 0 1 500 250 1)(160 0 1 500 250 1)(161 0 1 500 250 1)(162 0 1 500 250 1)(163 0 1 500 250 1)(164 0 1 500 250 1)(165 0 1 500 250 1)(166 0 1 500 250 1)(167 0 1 500 250 1)(168 0 1 500 250 1)(169 0 1 500 250 1)(170 0 1 500 250 1)(171 0 1 500 250 1)(172 0 1 500 250 1)(173 0 1 500 250 1)(174 0 1 500 250 1)(175 0 1 500 250 1)(176 0 1 500 250 1)(177 0 1 500 250 1)(178 0 1 500 250 1)(179 0 1 500 250 1)(180 0 1 500 250 1)(181 0 1 500 250 1)(182 0 1 500 250 1)(183 0 1 500 250 1)(184 0 1 500 250 1)(185 0 1 500 250 1)(186 0 1 500 250 1)(187 0 1 500 250 1)(188 0 1 500 250 1)(189 0 1 500 250 1)(190 0 1 500 250 1)(191 0 1 500 250 1)(192 0 1 500 250 1)(193 0 1 500 250 1)(194 0 1 500 250 1)(195 0 1 500 250 1)(196 0 1 500 250 1)(197 0 1 500 250 1)(198 0 1 500 250 1)(199 0 1 500 250 1)(200 0 1 500 250 1)(201 0 1 500 250 1)(202 0 1 500 250 1)(203 0 1 500 250 1)(204 0 1 500 250 1)(205 0 1 500 250 1)(206 0 1 500 250 1)(207 0 1 500 250 1)(208 0 1 500 250 1)(209 0 1 500 250 1)(210 0 1 500 250 1)(211 0 1 500 250 1)(212 0 1 500 250 1)(213 0 1 500 250 1)(214 0 1 500 250 1)(215 0 1 500 250 1)(216 0 1 500 250 1)(217 0 1 500 250 1)(218 0 1 500 250 1)(219 0 1 500 250 1)(220 0 1 500 250 1)(221 0 1 500 250 1)(222 0 1 500 250 1)(223 0 1 500 250 1)(224 0 1 500 250 1)(225 0 1 500 250 1)(226 0 1 500 250 1)(227 0 1 500 250 1)(228 0 1 500 250 1)(229 0 1 500 250 1)(230 0 1 500 250 1)(231 0 1 500 250 1)(232 0 1 500 250 1)(233 0 1 500 250 1)(234 0 1 500 250 1)(235 0 1 500 250 1)(236 0 1 500 250 1)(237 0 1 500 250 1)(238 0 1 500 250 1)(239 0 1 500 250 1)(240 0 1 500 250 1)(241 0 1 500 250 1)(242 0 1 500 250 1)(243 0 1 500 250 1)(244 0 1 500 250 1)(245 0 1 500 250 1)(246 0 1 500 250 1)(247 0 1 500 250 1)(248 0 1 500 250 1)(249 0 1 500 250 1)(250 0 1 500 250 1)(251 0 1 500 250 1)(252 0 1 500 250 1)(253 0 1 500 250 1)(254 0 1 500 250 1)(255 0 1 500 250 1)(256 0 1 500 250 1)(257 0 1 500 250 1)(258 0 1 500 250 1)(259 0 1 500 250 1)(260 0 1 500 250 1)(261 0 1 500 250 1)(262 0 1 500 250 1)(263 0 1 500 250 1)(264 0 1 500 250 1)(265 0 1 500 250 1)(266 0 1 500 250 1)(267 0 1 500 250 1)(268 0 1 500 250 1)(269 0 1 500 250 1)(270 0 1 500 250 1)(271 0 1 500 250 1)(272 0 1 500 250 1)(273 0 1 500 250 1)(274 0 1 500 250 1)(275 0 1 500 250 1)(276 0 1 500 250 1)(277 0 1 500 250 1)(278 0 1 500 250 1)(279 0 1 500 250 1)(280 0 1 500 250 1)(281 0 1 500 250 1)(282 0 1 500 250 1)(283 0 1 500 250 1)(284 0 1 500 250 1)(285 0 1 500 250 1)(286 0 1 500 250 1)(287 0 1 500 250 1)(288 0 1 500 250 1)(289 0 1 500 250 1)(290 0 1 500 250 1)(291 0 1 500 250 1)(292 0 1 500 250 1)(293 0 1 500 250 1)(294 0 1 500 250 1)(295 0 1 500 250 1)(296 0 1 500 250 1)(297 0 1 500 250 1)(298 0 1 500 250 1)(299 0 1 500 250 1)(300 0 1 500 250 1)(301 0 1 500 250 1)(302 0 1 500 250 1)(303 0 1 500 250 1)(304 0 1 500 250 1)(305 0 1 500 250 1)(306 0 1 500 250 1)(307 0 1 500 250 1)(308 0 1 500 250 1)(309 0 1 500 250 1)(310 0 1 500 250 1)(311 0 1 500 250 1)(312 0 1 500 250 1)(313 0 1 500 250 1)(314 0 1 500 250 1)(315 0 1 500 250 1)(316 0 1 500 250 1)(317 0 1 500 250 1)(318 0 1 500 250 1)(319 0 1 500 250 1)(320 0 1 500 250 1)(321 0 1 500 250 1)(322 0 1 500 250 1)(323 0 1 500 250 1)(324 0 1 500 250 1)(325 0 1 500 250 1)(326 0 1 500 250 1)(327 0 1 500 250 1)(328 0 1 500 250 1)(329 0 1 500 250 1)(330 0 1 500 250 1)(331 0 1 500 250 1)(332 0 1 500 250 1)(333 0 1 500 250 1)(334 0 1 500 250 1)(335 0 1 500 250 1)(336 0 1 500 250 1)(337 0 1 500 250 1)(338 0 1 500 250 1)(339 0 1 500 250 1)(340 0 1 500 250 1)(341 0 1 500 250 1)(342 0 1 500 250 1)(343 0 1 500 250 1)(344 0 1 500 250 1)(345 0 1 500 250 1)(346 0 1 500 250 1)(347 0 1 500 250 1)(348 0 1 500 250 1)(349 0 1 500 250 1)(350 0 1 500 250 1)(351 0 1 500 250 1)(352 0 1 500 250 1)(353 0 1 500 250 1)(354 0 1 500 250 1)(355 0 1 500 250 1)(356 0 1 500 250 1)(357 0 1 500 250 1)(358 0 1 500 250 1)(359 0 1 500 250 1)(360 0 1 500 250 1)(361 0 1 500 250 1)(362 0 1 500 250 1)(363 0 1 500 250 1)(364 0 1 500 250 1)(365 0 1 500 250 1)(366 0 1 500 250 1)(367 0 1 500 250 1)(368 0 1 500 250 1)(369 0 1 500 250 1)(370 0 1 500 250 1)(371 0 1 500 250 1)(372 0 1 500 250 1)(373 0 1 500 250 1)(374 0 1 500 250 1)(375 0 1 500 250 1)(376 0 1 500 250 1)(377 0 1 500 250 1)(378 0 1 500 250 1)(379 0 1 500 250 1)(380 0 1 500 250 1)(381 0 1 500 250 1)(382 0 1 500 250 1)(383 0 1 500 250 1)',\n",
       " 'snsChanMap': '(384,384,1)(AP0;0:0)(AP1;1:1)(AP2;2:2)(AP3;3:3)(AP4;4:4)(AP5;5:5)(AP6;6:6)(AP7;7:7)(AP8;8:8)(AP9;9:9)(AP10;10:10)(AP11;11:11)(AP12;12:12)(AP13;13:13)(AP14;14:14)(AP15;15:15)(AP16;16:16)(AP17;17:17)(AP18;18:18)(AP19;19:19)(AP20;20:20)(AP21;21:21)(AP22;22:22)(AP23;23:23)(AP24;24:24)(AP25;25:25)(AP26;26:26)(AP27;27:27)(AP28;28:28)(AP29;29:29)(AP30;30:30)(AP31;31:31)(AP32;32:32)(AP33;33:33)(AP34;34:34)(AP35;35:35)(AP36;36:36)(AP37;37:37)(AP38;38:38)(AP39;39:39)(AP40;40:40)(AP41;41:41)(AP42;42:42)(AP43;43:43)(AP44;44:44)(AP45;45:45)(AP46;46:46)(AP47;47:47)(AP48;48:48)(AP49;49:49)(AP50;50:50)(AP51;51:51)(AP52;52:52)(AP53;53:53)(AP54;54:54)(AP55;55:55)(AP56;56:56)(AP57;57:57)(AP58;58:58)(AP59;59:59)(AP60;60:60)(AP61;61:61)(AP62;62:62)(AP63;63:63)(AP64;64:64)(AP65;65:65)(AP66;66:66)(AP67;67:67)(AP68;68:68)(AP69;69:69)(AP70;70:70)(AP71;71:71)(AP72;72:72)(AP73;73:73)(AP74;74:74)(AP75;75:75)(AP76;76:76)(AP77;77:77)(AP78;78:78)(AP79;79:79)(AP80;80:80)(AP81;81:81)(AP82;82:82)(AP83;83:83)(AP84;84:84)(AP85;85:85)(AP86;86:86)(AP87;87:87)(AP88;88:88)(AP89;89:89)(AP90;90:90)(AP91;91:91)(AP92;92:92)(AP93;93:93)(AP94;94:94)(AP95;95:95)(AP96;96:96)(AP97;97:97)(AP98;98:98)(AP99;99:99)(AP100;100:100)(AP101;101:101)(AP102;102:102)(AP103;103:103)(AP104;104:104)(AP105;105:105)(AP106;106:106)(AP107;107:107)(AP108;108:108)(AP109;109:109)(AP110;110:110)(AP111;111:111)(AP112;112:112)(AP113;113:113)(AP114;114:114)(AP115;115:115)(AP116;116:116)(AP117;117:117)(AP118;118:118)(AP119;119:119)(AP120;120:120)(AP121;121:121)(AP122;122:122)(AP123;123:123)(AP124;124:124)(AP125;125:125)(AP126;126:126)(AP127;127:127)(AP128;128:128)(AP129;129:129)(AP130;130:130)(AP131;131:131)(AP132;132:132)(AP133;133:133)(AP134;134:134)(AP135;135:135)(AP136;136:136)(AP137;137:137)(AP138;138:138)(AP139;139:139)(AP140;140:140)(AP141;141:141)(AP142;142:142)(AP143;143:143)(AP144;144:144)(AP145;145:145)(AP146;146:146)(AP147;147:147)(AP148;148:148)(AP149;149:149)(AP150;150:150)(AP151;151:151)(AP152;152:152)(AP153;153:153)(AP154;154:154)(AP155;155:155)(AP156;156:156)(AP157;157:157)(AP158;158:158)(AP159;159:159)(AP160;160:160)(AP161;161:161)(AP162;162:162)(AP163;163:163)(AP164;164:164)(AP165;165:165)(AP166;166:166)(AP167;167:167)(AP168;168:168)(AP169;169:169)(AP170;170:170)(AP171;171:171)(AP172;172:172)(AP173;173:173)(AP174;174:174)(AP175;175:175)(AP176;176:176)(AP177;177:177)(AP178;178:178)(AP179;179:179)(AP180;180:180)(AP181;181:181)(AP182;182:182)(AP183;183:183)(AP184;184:184)(AP185;185:185)(AP186;186:186)(AP187;187:187)(AP188;188:188)(AP189;189:189)(AP190;190:190)(AP191;191:191)(AP192;192:192)(AP193;193:193)(AP194;194:194)(AP195;195:195)(AP196;196:196)(AP197;197:197)(AP198;198:198)(AP199;199:199)(AP200;200:200)(AP201;201:201)(AP202;202:202)(AP203;203:203)(AP204;204:204)(AP205;205:205)(AP206;206:206)(AP207;207:207)(AP208;208:208)(AP209;209:209)(AP210;210:210)(AP211;211:211)(AP212;212:212)(AP213;213:213)(AP214;214:214)(AP215;215:215)(AP216;216:216)(AP217;217:217)(AP218;218:218)(AP219;219:219)(AP220;220:220)(AP221;221:221)(AP222;222:222)(AP223;223:223)(AP224;224:224)(AP225;225:225)(AP226;226:226)(AP227;227:227)(AP228;228:228)(AP229;229:229)(AP230;230:230)(AP231;231:231)(AP232;232:232)(AP233;233:233)(AP234;234:234)(AP235;235:235)(AP236;236:236)(AP237;237:237)(AP238;238:238)(AP239;239:239)(AP240;240:240)(AP241;241:241)(AP242;242:242)(AP243;243:243)(AP244;244:244)(AP245;245:245)(AP246;246:246)(AP247;247:247)(AP248;248:248)(AP249;249:249)(AP250;250:250)(AP251;251:251)(AP252;252:252)(AP253;253:253)(AP254;254:254)(AP255;255:255)(AP256;256:256)(AP257;257:257)(AP258;258:258)(AP259;259:259)(AP260;260:260)(AP261;261:261)(AP262;262:262)(AP263;263:263)(AP264;264:264)(AP265;265:265)(AP266;266:266)(AP267;267:267)(AP268;268:268)(AP269;269:269)(AP270;270:270)(AP271;271:271)(AP272;272:272)(AP273;273:273)(AP274;274:274)(AP275;275:275)(AP276;276:276)(AP277;277:277)(AP278;278:278)(AP279;279:279)(AP280;280:280)(AP281;281:281)(AP282;282:282)(AP283;283:283)(AP284;284:284)(AP285;285:285)(AP286;286:286)(AP287;287:287)(AP288;288:288)(AP289;289:289)(AP290;290:290)(AP291;291:291)(AP292;292:292)(AP293;293:293)(AP294;294:294)(AP295;295:295)(AP296;296:296)(AP297;297:297)(AP298;298:298)(AP299;299:299)(AP300;300:300)(AP301;301:301)(AP302;302:302)(AP303;303:303)(AP304;304:304)(AP305;305:305)(AP306;306:306)(AP307;307:307)(AP308;308:308)(AP309;309:309)(AP310;310:310)(AP311;311:311)(AP312;312:312)(AP313;313:313)(AP314;314:314)(AP315;315:315)(AP316;316:316)(AP317;317:317)(AP318;318:318)(AP319;319:319)(AP320;320:320)(AP321;321:321)(AP322;322:322)(AP323;323:323)(AP324;324:324)(AP325;325:325)(AP326;326:326)(AP327;327:327)(AP328;328:328)(AP329;329:329)(AP330;330:330)(AP331;331:331)(AP332;332:332)(AP333;333:333)(AP334;334:334)(AP335;335:335)(AP336;336:336)(AP337;337:337)(AP338;338:338)(AP339;339:339)(AP340;340:340)(AP341;341:341)(AP342;342:342)(AP343;343:343)(AP344;344:344)(AP345;345:345)(AP346;346:346)(AP347;347:347)(AP348;348:348)(AP349;349:349)(AP350;350:350)(AP351;351:351)(AP352;352:352)(AP353;353:353)(AP354;354:354)(AP355;355:355)(AP356;356:356)(AP357;357:357)(AP358;358:358)(AP359;359:359)(AP360;360:360)(AP361;361:361)(AP362;362:362)(AP363;363:363)(AP364;364:364)(AP365;365:365)(AP366;366:366)(AP367;367:367)(AP368;368:368)(AP369;369:369)(AP370;370:370)(AP371;371:371)(AP372;372:372)(AP373;373:373)(AP374;374:374)(AP375;375:375)(AP376;376:376)(AP377;377:377)(AP378;378:378)(AP379;379:379)(AP380;380:380)(AP381;381:381)(AP382;382:382)(AP383;383:383)(SY0;768:768)',\n",
       " 'snsShankMap': '(1,2,480)(0:0:0:1)(0:1:0:1)(0:0:1:1)(0:1:1:1)(0:0:2:1)(0:1:2:1)(0:0:3:1)(0:1:3:1)(0:0:4:1)(0:1:4:1)(0:0:5:1)(0:1:5:1)(0:0:6:1)(0:1:6:1)(0:0:7:1)(0:1:7:1)(0:0:8:1)(0:1:8:1)(0:0:9:1)(0:1:9:1)(0:0:10:1)(0:1:10:1)(0:0:11:1)(0:1:11:1)(0:0:12:1)(0:1:12:1)(0:0:13:1)(0:1:13:1)(0:0:14:1)(0:1:14:1)(0:0:15:1)(0:1:15:1)(0:0:16:1)(0:1:16:1)(0:0:17:1)(0:1:17:1)(0:0:18:1)(0:1:18:1)(0:0:19:1)(0:1:19:1)(0:0:20:1)(0:1:20:1)(0:0:21:1)(0:1:21:1)(0:0:22:1)(0:1:22:1)(0:0:23:1)(0:1:23:1)(0:0:24:1)(0:1:24:1)(0:0:25:1)(0:1:25:1)(0:0:26:1)(0:1:26:1)(0:0:27:1)(0:1:27:1)(0:0:28:1)(0:1:28:1)(0:0:29:1)(0:1:29:1)(0:0:30:1)(0:1:30:1)(0:0:31:1)(0:1:31:1)(0:0:32:1)(0:1:32:1)(0:0:33:1)(0:1:33:1)(0:0:34:1)(0:1:34:1)(0:0:35:1)(0:1:35:1)(0:0:36:1)(0:1:36:1)(0:0:37:1)(0:1:37:1)(0:0:38:1)(0:1:38:1)(0:0:39:1)(0:1:39:1)(0:0:40:1)(0:1:40:1)(0:0:41:1)(0:1:41:1)(0:0:42:1)(0:1:42:1)(0:0:43:1)(0:1:43:1)(0:0:44:1)(0:1:44:1)(0:0:45:1)(0:1:45:1)(0:0:46:1)(0:1:46:1)(0:0:47:1)(0:1:47:1)(0:0:48:1)(0:1:48:1)(0:0:49:1)(0:1:49:1)(0:0:50:1)(0:1:50:1)(0:0:51:1)(0:1:51:1)(0:0:52:1)(0:1:52:1)(0:0:53:1)(0:1:53:1)(0:0:54:1)(0:1:54:1)(0:0:55:1)(0:1:55:1)(0:0:56:1)(0:1:56:1)(0:0:57:1)(0:1:57:1)(0:0:58:1)(0:1:58:1)(0:0:59:1)(0:1:59:1)(0:0:60:1)(0:1:60:1)(0:0:61:1)(0:1:61:1)(0:0:62:1)(0:1:62:1)(0:0:63:1)(0:1:63:1)(0:0:64:1)(0:1:64:1)(0:0:65:1)(0:1:65:1)(0:0:66:1)(0:1:66:1)(0:0:67:1)(0:1:67:1)(0:0:68:1)(0:1:68:1)(0:0:69:1)(0:1:69:1)(0:0:70:1)(0:1:70:1)(0:0:71:1)(0:1:71:1)(0:0:72:1)(0:1:72:1)(0:0:73:1)(0:1:73:1)(0:0:74:1)(0:1:74:1)(0:0:75:1)(0:1:75:1)(0:0:76:1)(0:1:76:1)(0:0:77:1)(0:1:77:1)(0:0:78:1)(0:1:78:1)(0:0:79:1)(0:1:79:1)(0:0:80:1)(0:1:80:1)(0:0:81:1)(0:1:81:1)(0:0:82:1)(0:1:82:1)(0:0:83:1)(0:1:83:1)(0:0:84:1)(0:1:84:1)(0:0:85:1)(0:1:85:1)(0:0:86:1)(0:1:86:1)(0:0:87:1)(0:1:87:1)(0:0:88:1)(0:1:88:1)(0:0:89:1)(0:1:89:1)(0:0:90:1)(0:1:90:1)(0:0:91:1)(0:1:91:1)(0:0:92:1)(0:1:92:1)(0:0:93:1)(0:1:93:1)(0:0:94:1)(0:1:94:1)(0:0:95:1)(0:1:95:0)(0:0:96:1)(0:1:96:1)(0:0:97:1)(0:1:97:1)(0:0:98:1)(0:1:98:1)(0:0:99:1)(0:1:99:1)(0:0:100:1)(0:1:100:1)(0:0:101:1)(0:1:101:1)(0:0:102:1)(0:1:102:1)(0:0:103:1)(0:1:103:1)(0:0:104:1)(0:1:104:1)(0:0:105:1)(0:1:105:1)(0:0:106:1)(0:1:106:1)(0:0:107:1)(0:1:107:1)(0:0:108:1)(0:1:108:1)(0:0:109:1)(0:1:109:1)(0:0:110:1)(0:1:110:1)(0:0:111:1)(0:1:111:1)(0:0:112:1)(0:1:112:1)(0:0:113:1)(0:1:113:1)(0:0:114:1)(0:1:114:1)(0:0:115:1)(0:1:115:1)(0:0:116:1)(0:1:116:1)(0:0:117:1)(0:1:117:1)(0:0:118:1)(0:1:118:1)(0:0:119:1)(0:1:119:1)(0:0:120:1)(0:1:120:1)(0:0:121:1)(0:1:121:1)(0:0:122:1)(0:1:122:1)(0:0:123:1)(0:1:123:1)(0:0:124:1)(0:1:124:1)(0:0:125:1)(0:1:125:1)(0:0:126:1)(0:1:126:1)(0:0:127:1)(0:1:127:1)(0:0:128:1)(0:1:128:1)(0:0:129:1)(0:1:129:1)(0:0:130:1)(0:1:130:1)(0:0:131:1)(0:1:131:1)(0:0:132:1)(0:1:132:1)(0:0:133:1)(0:1:133:1)(0:0:134:1)(0:1:134:1)(0:0:135:1)(0:1:135:1)(0:0:136:1)(0:1:136:1)(0:0:137:1)(0:1:137:1)(0:0:138:1)(0:1:138:1)(0:0:139:1)(0:1:139:1)(0:0:140:1)(0:1:140:1)(0:0:141:1)(0:1:141:1)(0:0:142:1)(0:1:142:1)(0:0:143:1)(0:1:143:1)(0:0:144:1)(0:1:144:1)(0:0:145:1)(0:1:145:1)(0:0:146:1)(0:1:146:1)(0:0:147:1)(0:1:147:1)(0:0:148:1)(0:1:148:1)(0:0:149:1)(0:1:149:1)(0:0:150:1)(0:1:150:1)(0:0:151:1)(0:1:151:1)(0:0:152:1)(0:1:152:1)(0:0:153:1)(0:1:153:1)(0:0:154:1)(0:1:154:1)(0:0:155:1)(0:1:155:1)(0:0:156:1)(0:1:156:1)(0:0:157:1)(0:1:157:1)(0:0:158:1)(0:1:158:1)(0:0:159:1)(0:1:159:1)(0:0:160:1)(0:1:160:1)(0:0:161:1)(0:1:161:1)(0:0:162:1)(0:1:162:1)(0:0:163:1)(0:1:163:1)(0:0:164:1)(0:1:164:1)(0:0:165:1)(0:1:165:1)(0:0:166:1)(0:1:166:1)(0:0:167:1)(0:1:167:1)(0:0:168:1)(0:1:168:1)(0:0:169:1)(0:1:169:1)(0:0:170:1)(0:1:170:1)(0:0:171:1)(0:1:171:1)(0:0:172:1)(0:1:172:1)(0:0:173:1)(0:1:173:1)(0:0:174:1)(0:1:174:1)(0:0:175:1)(0:1:175:1)(0:0:176:1)(0:1:176:1)(0:0:177:1)(0:1:177:1)(0:0:178:1)(0:1:178:1)(0:0:179:1)(0:1:179:1)(0:0:180:1)(0:1:180:1)(0:0:181:1)(0:1:181:1)(0:0:182:1)(0:1:182:1)(0:0:183:1)(0:1:183:1)(0:0:184:1)(0:1:184:1)(0:0:185:1)(0:1:185:1)(0:0:186:1)(0:1:186:1)(0:0:187:1)(0:1:187:1)(0:0:188:1)(0:1:188:1)(0:0:189:1)(0:1:189:1)(0:0:190:1)(0:1:190:1)(0:0:191:1)(0:1:191:1)'}"
      ]
     },
     "execution_count": 21,
     "metadata": {},
     "output_type": "execute_result"
    }
   ],
   "source": [
    "run_recordings['ap_0']._meta"
   ]
  },
  {
   "cell_type": "markdown",
   "metadata": {},
   "source": [
    "#### file creation time"
   ]
  },
  {
   "cell_type": "code",
   "execution_count": 22,
   "metadata": {},
   "outputs": [
    {
     "name": "stderr",
     "output_type": "stream",
     "text": [
      "2021-01-30 11:49:13,229 root         INFO     file end 2020-11-04 18:04:47.912\n",
      "2021-01-30 11:49:13,231 root         INFO     file start 2020-11-04 18:02:34.309\n"
     ]
    },
    {
     "data": {
      "text/plain": [
       "1604541754.3097029"
      ]
     },
     "execution_count": 22,
     "metadata": {},
     "output_type": "execute_result"
    }
   ],
   "source": [
    "import time\n",
    "import datetime\n",
    "\n",
    "# c_time = time.ctime(os.path.getmtime(bin_file_path))\n",
    "# c_time\n",
    "\n",
    "# timestamp = os.path.getmtime(bin_file_path)\n",
    "# datetime.datetime.fromtimestamp(timestamp).strftime('%Y-%m-%d %H:%M:%S.%f')[:-3]\n",
    "\n",
    "def get_creation_time(sglx_recording):\n",
    "    bin_file_path = sglx_recording._npxfile\n",
    "    \n",
    "    ## file creation time is volatile (esp after copying in windows), \n",
    "    ## compute the start form the last modified and file duration\n",
    "    ## this kind of sucks, but it's the best we have\n",
    "    bin_end_tstamp = os.path.getmtime(bin_file_path)\n",
    "    bin_end_str = datetime.datetime.fromtimestamp(bin_end_tstamp).strftime('%Y-%m-%d %H:%M:%S.%f')[:-3]\n",
    "    logger.info('file end {}'.format(bin_end_str))\n",
    "    \n",
    "    bin_start_tstamp = bin_end_tstamp - float(sglx_recording._meta['fileTimeSecs'])\n",
    "    bin_start_str = datetime.datetime.fromtimestamp(bin_start_tstamp).strftime('%Y-%m-%d %H:%M:%S.%f')[:-3]\n",
    "    logger.info('file start {}'.format(bin_start_str))\n",
    "    \n",
    "    return bin_start_tstamp\n",
    "\n",
    "get_creation_time(run_recordings['ap_0'])\n",
    "    "
   ]
  },
  {
   "cell_type": "markdown",
   "metadata": {},
   "source": [
    "## The digital and sync channel in the recording\n",
    "- using the new methods in my version of readSGLX, spikeglxrecordingextractor"
   ]
  },
  {
   "cell_type": "code",
   "execution_count": 23,
   "metadata": {},
   "outputs": [
    {
     "name": "stderr",
     "output_type": "stream",
     "text": [
      "2021-01-30 11:49:13,789 ceciestunepipe.util.spikeextractors.extractors.spikeglxrecordingextractor.spikeglxrecordingextractor INFO     getting ttl events, chan 0\n"
     ]
    },
    {
     "data": {
      "text/plain": [
       "[<matplotlib.lines.Line2D at 0x7f4c3c250790>]"
      ]
     },
     "execution_count": 23,
     "metadata": {},
     "output_type": "execute_result"
    },
    {
     "data": {
      "image/png": "[encoded data removed]",
      "text/plain": [
       "<Figure size 432x288 with 1 Axes>"
      ]
     },
     "metadata": {
      "needs_background": "light"
     },
     "output_type": "display_data"
    }
   ],
   "source": [
    "### the digital chan and the syn extraction of the nidq rec\n",
    "\n",
    "nidq_syn = rsgl.ExtractDigital(run_recordings['nidq']._raw, 0, 100000, 0, [0], run_recordings['nidq']._meta)\n",
    "nidq_syn_ttl = run_recordings['nidq'].get_ttl_events(channel_id=0, end_frame=100000)\n",
    "\n",
    "plt.plot(nidq_syn.flatten())\n",
    "plt.plot(*nidq_syn_ttl, '*')"
   ]
  },
  {
   "cell_type": "code",
   "execution_count": 24,
   "metadata": {},
   "outputs": [
    {
     "data": {
      "text/plain": [
       "(array([ 5435, 17935, 30435, 42935, 55435, 67935, 80435, 92934]),\n",
       " array([ 1, -1,  1, -1,  1, -1,  1, -1]))"
      ]
     },
     "execution_count": 24,
     "metadata": {},
     "output_type": "execute_result"
    }
   ],
   "source": [
    "nidq_syn_ttl"
   ]
  },
  {
   "cell_type": "code",
   "execution_count": 25,
   "metadata": {},
   "outputs": [
    {
     "name": "stderr",
     "output_type": "stream",
     "text": [
      "2021-01-30 11:49:14,447 ceciestunepipe.util.spikeextractors.extractors.readSGLX INFO     Extracting digital on imec stream: there is only one channel, if any (SYN) and will be converted from an int16 channel \n",
      "2021-01-30 11:49:14,461 ceciestunepipe.util.spikeextractors.extractors.readSGLX INFO     Thresholf for logical hi is 31.02592\n",
      "2021-01-30 11:49:14,462 ceciestunepipe.util.spikeextractors.extractors.spikeglxrecordingextractor.spikeglxrecordingextractor INFO     getting ttl events, chan 0\n",
      "2021-01-30 11:49:14,463 ceciestunepipe.util.spikeextractors.extractors.readSGLX INFO     Extracting digital on imec stream: there is only one channel, if any (SYN) and will be converted from an int16 channel \n",
      "2021-01-30 11:49:14,464 ceciestunepipe.util.spikeextractors.extractors.readSGLX INFO     Thresholf for logical hi is 31.02592\n"
     ]
    },
    {
     "data": {
      "text/plain": [
       "[<matplotlib.lines.Line2D at 0x7f4c3c237430>]"
      ]
     },
     "execution_count": 25,
     "metadata": {},
     "output_type": "execute_result"
    },
    {
     "data": {
      "image/png": "[encoded data removed]",
      "text/plain": [
       "<Figure size 432x288 with 1 Axes>"
      ]
     },
     "metadata": {
      "needs_background": "light"
     },
     "output_type": "display_data"
    }
   ],
   "source": [
    "### the digital chan and the syn extraction of the nidq rec\n",
    "ap_syn = rsgl.ExtractDigital(run_recordings['ap_0']._raw, 0, 100000, 0, [0], run_recordings['ap_0']._meta)\n",
    "ap_syn_ttl = run_recordings['ap_0'].get_ttl_events(end_frame=100000)\n",
    "\n",
    "plt.plot(ap_syn.flatten())\n",
    "plt.plot(*ap_syn_ttl, '*')"
   ]
  },
  {
   "cell_type": "code",
   "execution_count": null,
   "metadata": {},
   "outputs": [],
   "source": []
  },
  {
   "cell_type": "code",
   "execution_count": 26,
   "metadata": {},
   "outputs": [
    {
     "data": {
      "text/plain": [
       "memmap([[  9,   4,  14, ...,  12,  10,  16],\n",
       "        [  9,   1,  -9, ...,   5,   3,   4],\n",
       "        [ -3, -11, -15, ...,  -6, -11, -13],\n",
       "        ...,\n",
       "        [ 39,  37,  37, ...,   2,  -4,   3],\n",
       "        [ 55,  55,  55, ...,  15,  15,  14],\n",
       "        [ 31,  31,  30, ...,  -4,  -6,  -4]], dtype=int16)"
      ]
     },
     "execution_count": 26,
     "metadata": {},
     "output_type": "execute_result"
    }
   ],
   "source": [
    "run_recordings['ap_0'].get_traces()"
   ]
  },
  {
   "cell_type": "code",
   "execution_count": 27,
   "metadata": {},
   "outputs": [],
   "source": [
    "ttl_arr = np.array(ap_syn_ttl)"
   ]
  },
  {
   "cell_type": "code",
   "execution_count": 28,
   "metadata": {},
   "outputs": [
    {
     "data": {
      "text/plain": [
       "array([False,  True, False,  True, False,  True, False])"
      ]
     },
     "execution_count": 28,
     "metadata": {},
     "output_type": "execute_result"
    }
   ],
   "source": [
    "ttl_arr[1]==-1"
   ]
  },
  {
   "cell_type": "code",
   "execution_count": 29,
   "metadata": {},
   "outputs": [
    {
     "data": {
      "text/plain": [
       "array([30000, 30000])"
      ]
     },
     "execution_count": 29,
     "metadata": {},
     "output_type": "execute_result"
    }
   ],
   "source": [
    "np.diff(ttl_arr[0, ttl_arr[1]==-1])"
   ]
  },
  {
   "cell_type": "markdown",
   "metadata": {},
   "source": [
    "### The time syncronization"
   ]
  },
  {
   "cell_type": "code",
   "execution_count": 30,
   "metadata": {},
   "outputs": [],
   "source": [
    "# t_0 is n/s_f (measured s_f)\n",
    "# t_prime is interpolation to a t_ref (the nidaq, for instance, but it should be the one with the highest s_f)"
   ]
  },
  {
   "cell_type": "code",
   "execution_count": 31,
   "metadata": {},
   "outputs": [
    {
     "data": {
      "text/plain": [
       "30000.0"
      ]
     },
     "execution_count": 31,
     "metadata": {},
     "output_type": "execute_result"
    }
   ],
   "source": [
    "def compute_sf(ttl: tuple) -> np.array:\n",
    "    ttl_arr = np.array(ttl)\n",
    "    \n",
    "    # get all the diffs betwenn edge ups and edge donws\n",
    "    all_diff_arr = np.concatenate([np.diff(ttl_arr[0, ttl_arr[1]==j]) for j in [-1, 1]])\n",
    "    \n",
    "    return all_diff_arr\n",
    "\n",
    "np.mean(compute_sf(ap_syn_ttl))"
   ]
  },
  {
   "cell_type": "code",
   "execution_count": 32,
   "metadata": {},
   "outputs": [
    {
     "data": {
      "text/plain": [
       "array([25000, 25000, 24999, 25000, 25000, 25000])"
      ]
     },
     "execution_count": 32,
     "metadata": {},
     "output_type": "execute_result"
    }
   ],
   "source": [
    "compute_sf(nidq_syn_ttl)"
   ]
  },
  {
   "cell_type": "markdown",
   "metadata": {},
   "source": [
    "#### use the imec af as a pattern"
   ]
  },
  {
   "cell_type": "code",
   "execution_count": 33,
   "metadata": {},
   "outputs": [
    {
     "name": "stderr",
     "output_type": "stream",
     "text": [
      "2021-01-30 11:49:22,284 ceciestunepipe.util.spikeextractors.extractors.readSGLX INFO     Extracting digital on imec stream: there is only one channel, if any (SYN) and will be converted from an int16 channel \n",
      "2021-01-30 11:49:22,293 ceciestunepipe.util.spikeextractors.extractors.readSGLX INFO     Thresholf for logical hi is 32.00213333333333\n",
      "2021-01-30 11:49:22,296 ceciestunepipe.util.spikeextractors.extractors.spikeglxrecordingextractor.spikeglxrecordingextractor INFO     getting ttl events, chan 0\n",
      "2021-01-30 11:49:22,297 ceciestunepipe.util.spikeextractors.extractors.readSGLX INFO     Extracting digital on imec stream: there is only one channel, if any (SYN) and will be converted from an int16 channel \n",
      "2021-01-30 11:49:22,299 ceciestunepipe.util.spikeextractors.extractors.readSGLX INFO     Thresholf for logical hi is 32.00213333333333\n"
     ]
    }
   ],
   "source": [
    "signal = 'ap_0'\n",
    "\n",
    "syn_stream = rsgl.ExtractDigital(run_recordings[signal]._raw, 0, 120000, 0, [0], run_recordings[signal]._meta)\n",
    "\n",
    "traces = run_recordings[signal].get_traces(end_frame=120000)\n",
    "n_t = traces.shape[-1]\n",
    "\n",
    "ttl_edge_tuple = run_recordings[signal].get_ttl_events(end_frame=120000)\n",
    "\n",
    "s_f = np.mean(compute_sf(ttl_edge_tuple))\n",
    "\n",
    "\n",
    "t_0 = np.arange(n_t)/s_f\n",
    "\n",
    "t_0_edge = t_0[ttl_edge_tuple[0]]"
   ]
  },
  {
   "cell_type": "code",
   "execution_count": 34,
   "metadata": {},
   "outputs": [],
   "source": [
    "ttl_edge_tuple_pattern = ttl_edge_tuple\n",
    "s_f_pattern = s_f\n",
    "t_pattern = t_0\n",
    "t_pattern_edge = t_0_edge\n",
    "syn_stream_pattern = syn_stream"
   ]
  },
  {
   "cell_type": "code",
   "execution_count": 35,
   "metadata": {},
   "outputs": [
    {
     "data": {
      "text/plain": [
       "[<matplotlib.lines.Line2D at 0x7f4c3c197640>]"
      ]
     },
     "execution_count": 35,
     "metadata": {},
     "output_type": "execute_result"
    },
    {
     "data": {
      "image/png": "[encoded data removed]",
      "text/plain": [
       "<Figure size 432x288 with 1 Axes>"
      ]
     },
     "metadata": {
      "needs_background": "light"
     },
     "output_type": "display_data"
    }
   ],
   "source": [
    "plt.plot(t_0_edge, np.ones_like(t_0_edge), '*')"
   ]
  },
  {
   "cell_type": "code",
   "execution_count": 36,
   "metadata": {},
   "outputs": [],
   "source": [
    "s_f_pattern, t_pattern, ttl_edge_tuple_pattern = run_recordings[signal].get_effective_sf()"
   ]
  },
  {
   "cell_type": "code",
   "execution_count": 37,
   "metadata": {},
   "outputs": [
    {
     "data": {
      "text/plain": [
       "(8,)"
      ]
     },
     "execution_count": 37,
     "metadata": {},
     "output_type": "execute_result"
    }
   ],
   "source": [
    "ttl_edge_tuple_pattern[0].shape"
   ]
  },
  {
   "cell_type": "markdown",
   "metadata": {},
   "source": [
    "#### fit the nidaq to the pattern"
   ]
  },
  {
   "cell_type": "code",
   "execution_count": 38,
   "metadata": {},
   "outputs": [
    {
     "name": "stderr",
     "output_type": "stream",
     "text": [
      "2021-01-30 11:49:25,647 ceciestunepipe.util.spikeextractors.extractors.spikeglxrecordingextractor.spikeglxrecordingextractor INFO     getting ttl events, chan 0\n"
     ]
    }
   ],
   "source": [
    "signal = 'nidq'\n",
    "traces = run_recordings[signal].get_traces(end_frame=100000)\n",
    "syn_stream = rsgl.ExtractDigital(run_recordings[signal]._raw, 0, 100000, 0, [0], run_recordings[signal]._meta)\n",
    "\n",
    "n_t = traces.shape[-1]\n",
    "\n",
    "ttl_edge_tuple = run_recordings[signal].get_ttl_events(end_frame=100000)\n",
    "\n",
    "s_f = np.mean(compute_sf(ttl_edge_tuple))\n",
    "\n",
    "\n",
    "t_0 = np.arange(n_t)/s_f\n",
    "\n",
    "t_0_edge = t_0[ttl_edge_tuple[0]]"
   ]
  },
  {
   "cell_type": "code",
   "execution_count": 39,
   "metadata": {},
   "outputs": [
    {
     "data": {
      "text/plain": [
       "array([5.21733333e-05, 9.21760000e-05, 1.32178667e-04, ...,\n",
       "       1.33619071e+02, 1.33619111e+02, 1.33619151e+02])"
      ]
     },
     "execution_count": 39,
     "metadata": {},
     "output_type": "execute_result"
    }
   ],
   "source": [
    "run_recordings[signal].syn_to_pattern(t_pattern, ttl_edge_tuple_pattern)"
   ]
  },
  {
   "cell_type": "code",
   "execution_count": 40,
   "metadata": {},
   "outputs": [
    {
     "data": {
      "text/plain": [
       "[<matplotlib.lines.Line2D at 0x7f4c3c1ca1f0>]"
      ]
     },
     "execution_count": 40,
     "metadata": {},
     "output_type": "execute_result"
    },
    {
     "data": {
      "image/png": "[encoded data removed]",
      "text/plain": [
       "<Figure size 432x288 with 1 Axes>"
      ]
     },
     "metadata": {
      "needs_background": "light"
     },
     "output_type": "display_data"
    }
   ],
   "source": [
    "plt.plot(run_recordings[signal]._t_prime)"
   ]
  },
  {
   "cell_type": "markdown",
   "metadata": {},
   "source": [
    "### make the time conversions using the syn_to_sgl_rec_exctractor method"
   ]
  },
  {
   "cell_type": "code",
   "execution_count": 41,
   "metadata": {},
   "outputs": [
    {
     "name": "stderr",
     "output_type": "stream",
     "text": [
      "2021-01-30 11:49:30,062 ceciestunepipe.util.spikeextractors.extractors.spikeglxrecordingextractor.spikeglxrecordingextractor INFO     getting ttl events, chan 0\n",
      "2021-01-30 11:49:30,064 ceciestunepipe.util.spikeextractors.extractors.readSGLX INFO     Extracting digital on imec stream: there is only one channel, if any (SYN) and will be converted from an int16 channel \n",
      "2021-01-30 11:49:38,474 ceciestunepipe.util.spikeextractors.extractors.readSGLX INFO     Thresholf for logical hi is 32.042250674762315\n",
      "2021-01-30 11:49:38,550 ceciestunepipe.util.spikeextractors.extractors.spikeglxrecordingextractor.spikeglxrecordingextractor INFO     getting ttl events, chan 0\n",
      "2021-01-30 11:49:38,551 ceciestunepipe.util.spikeextractors.extractors.readSGLX INFO     Extracting digital on imec stream: there is only one channel, if any (SYN) and will be converted from an int16 channel \n",
      "2021-01-30 11:49:38,555 ceciestunepipe.util.spikeextractors.extractors.readSGLX INFO     Thresholf for logical hi is 32.039951258506555\n"
     ]
    }
   ],
   "source": [
    "run_recordings['lf_0'].syn_to_sgl_rec_exctractor(run_recordings['ap_0'], force_ttl=True)"
   ]
  },
  {
   "cell_type": "code",
   "execution_count": 42,
   "metadata": {},
   "outputs": [
    {
     "name": "stderr",
     "output_type": "stream",
     "text": [
      "2021-01-30 11:49:38,573 ceciestunepipe.util.spikeextractors.extractors.spikeglxrecordingextractor.spikeglxrecordingextractor INFO     getting ttl events, chan 0\n",
      "2021-01-30 11:49:38,574 ceciestunepipe.util.spikeextractors.extractors.readSGLX INFO     Extracting digital on imec stream: there is only one channel, if any (SYN) and will be converted from an int16 channel \n",
      "2021-01-30 11:49:38,624 ceciestunepipe.util.spikeextractors.extractors.readSGLX INFO     Thresholf for logical hi is 32.042250674762315\n",
      "2021-01-30 11:49:38,697 ceciestunepipe.util.spikeextractors.extractors.spikeglxrecordingextractor.spikeglxrecordingextractor INFO     getting ttl events, chan 0\n"
     ]
    }
   ],
   "source": [
    "run_recordings['nidq'].syn_to_sgl_rec_exctractor(run_recordings['ap_0'], force_ttl=True)"
   ]
  },
  {
   "cell_type": "code",
   "execution_count": 43,
   "metadata": {},
   "outputs": [
    {
     "name": "stderr",
     "output_type": "stream",
     "text": [
      "2021-01-30 11:49:38,855 ceciestunepipe.util.spikeextractors.extractors.spikeglxrecordingextractor.spikeglxrecordingextractor INFO     getting ttl events, chan 0\n",
      "2021-01-30 11:49:38,855 ceciestunepipe.util.spikeextractors.extractors.readSGLX INFO     Extracting digital on imec stream: there is only one channel, if any (SYN) and will be converted from an int16 channel \n",
      "2021-01-30 11:49:38,906 ceciestunepipe.util.spikeextractors.extractors.readSGLX INFO     Thresholf for logical hi is 32.042250674762315\n",
      "2021-01-30 11:49:38,977 ceciestunepipe.util.spikeextractors.extractors.spikeglxrecordingextractor.spikeglxrecordingextractor INFO     getting ttl events, chan 0\n",
      "2021-01-30 11:49:38,978 ceciestunepipe.util.spikeextractors.extractors.readSGLX INFO     Extracting digital on imec stream: there is only one channel, if any (SYN) and will be converted from an int16 channel \n",
      "2021-01-30 11:49:39,027 ceciestunepipe.util.spikeextractors.extractors.readSGLX INFO     Thresholf for logical hi is 32.042250674762315\n"
     ]
    }
   ],
   "source": [
    "run_recordings['ap_0'].syn_to_sgl_rec_exctractor(run_recordings['ap_0'], force_ttl=True)"
   ]
  },
  {
   "cell_type": "markdown",
   "metadata": {},
   "source": [
    "### Test the sync"
   ]
  },
  {
   "cell_type": "markdown",
   "metadata": {},
   "source": [
    "##### plot all three times\n",
    "should see different slopes, same end point"
   ]
  },
  {
   "cell_type": "code",
   "execution_count": 40,
   "metadata": {},
   "outputs": [
    {
     "data": {
      "text/plain": [
       "[<matplotlib.lines.Line2D at 0x7f10c9d5f610>]"
      ]
     },
     "execution_count": 40,
     "metadata": {},
     "output_type": "execute_result"
    },
    {
     "data": {
      "image/png": "[encoded data removed]",
      "text/plain": [
       "<Figure size 432x288 with 1 Axes>"
      ]
     },
     "metadata": {
      "needs_background": "light"
     },
     "output_type": "display_data"
    }
   ],
   "source": [
    "plt.plot(run_recordings['ap_0']._t_0, '.')\n",
    "plt.plot(run_recordings['ap_0']._t_prime)\n",
    "plt.plot(run_recordings['nidq']._t_prime)\n",
    "plt.plot(run_recordings['lf_0']._t_prime)"
   ]
  },
  {
   "cell_type": "code",
   "execution_count": 41,
   "metadata": {},
   "outputs": [
    {
     "data": {
      "text/plain": [
       "133.60224073604007"
      ]
     },
     "execution_count": 41,
     "metadata": {},
     "output_type": "execute_result"
    }
   ],
   "source": [
    "run_recordings['lf_0']._t_prime[-1]"
   ]
  },
  {
   "cell_type": "code",
   "execution_count": 42,
   "metadata": {},
   "outputs": [
    {
     "data": {
      "text/plain": [
       "133.60253305596652"
      ]
     },
     "execution_count": 42,
     "metadata": {},
     "output_type": "execute_result"
    }
   ],
   "source": [
    "run_recordings['ap_0']._t_prime[-1]"
   ]
  },
  {
   "cell_type": "code",
   "execution_count": 43,
   "metadata": {},
   "outputs": [
    {
     "data": {
      "text/plain": [
       "133.6015515110232"
      ]
     },
     "execution_count": 43,
     "metadata": {},
     "output_type": "execute_result"
    }
   ],
   "source": [
    "run_recordings['nidq']._t_prime[-1]"
   ]
  },
  {
   "cell_type": "code",
   "execution_count": 44,
   "metadata": {},
   "outputs": [
    {
     "ename": "KeyboardInterrupt",
     "evalue": "",
     "output_type": "error",
     "traceback": [
      "\u001b[0;31m---------------------------------------------------------------------------\u001b[0m",
      "\u001b[0;31mKeyboardInterrupt\u001b[0m                         Traceback (most recent call last)",
      "\u001b[0;32m<ipython-input-44-c761920b81b0>\u001b[0m in \u001b[0;36m<module>\u001b[0;34m\u001b[0m\n\u001b[0;32m----> 1\u001b[0;31m \u001b[0;32mraise\u001b[0m \u001b[0mKeyboardInterrupt\u001b[0m\u001b[0;34m\u001b[0m\u001b[0;34m\u001b[0m\u001b[0m\n\u001b[0m",
      "\u001b[0;31mKeyboardInterrupt\u001b[0m: "
     ]
    }
   ],
   "source": [
    "raise KeyboardInterrupt"
   ]
  },
  {
   "cell_type": "markdown",
   "metadata": {},
   "source": [
    "### plot the square syn signals in the three different timescales"
   ]
  },
  {
   "cell_type": "code",
   "execution_count": 47,
   "metadata": {},
   "outputs": [
    {
     "data": {
      "text/plain": [
       "[<matplotlib.lines.Line2D at 0x7fc0e87bb5b0>]"
      ]
     },
     "execution_count": 47,
     "metadata": {},
     "output_type": "execute_result"
    },
    {
     "data": {
      "image/png": "[encoded data removed]",
      "text/plain": [
       "<Figure size 432x288 with 1 Axes>"
      ]
     },
     "metadata": {
      "needs_background": "light"
     },
     "output_type": "display_data"
    }
   ],
   "source": [
    "sig = 'lf_0'\n",
    "t_start_plot = 125\n",
    "\n",
    "t_plot = run_recordings[sig]._t_prime > t_start_plot\n",
    "plt.plot(run_recordings[sig]._t_prime[t_plot], run_recordings[sig]._dig[t_plot])\n",
    "\n",
    "sig = 'ap_0'\n",
    "t_plot = run_recordings[sig]._t_prime > t_start_plot\n",
    "plt.plot(run_recordings[sig]._t_prime[t_plot], run_recordings[sig]._dig[t_plot])\n",
    "\n",
    "sig = 'nidq'\n",
    "t_plot = run_recordings[sig]._t_prime > t_start_plot\n",
    "plt.plot(run_recordings[sig]._t_prime[t_plot], run_recordings[sig]._dig[t_plot])"
   ]
  },
  {
   "cell_type": "markdown",
   "metadata": {},
   "source": [
    "### The sorting"
   ]
  },
  {
   "cell_type": "code",
   "execution_count": 48,
   "metadata": {},
   "outputs": [
    {
     "data": {
      "text/plain": [
       "[spikeextractors.extractors.mdaextractors.mdaextractors.MdaRecordingExtractor,\n",
       " spikeextractors.extractors.biocamrecordingextractor.biocamrecordingextractor.BiocamRecordingExtractor,\n",
       " spikeextractors.extractors.bindatrecordingextractor.bindatrecordingextractor.BinDatRecordingExtractor,\n",
       " spikeextractors.extractors.klustaextractors.klustaextractors.KlustaRecordingExtractor,\n",
       " spikeextractors.extractors.kilosortextractors.kilosortextractors.KiloSortRecordingExtractor,\n",
       " spikeextractors.extractors.spykingcircusextractors.spykingcircusextractors.SpykingCircusRecordingExtractor,\n",
       " spikeextractors.extractors.spikeglxrecordingextractor.spikeglxrecordingextractor.SpikeGLXRecordingExtractor,\n",
       " spikeextractors.extractors.phyextractors.phyextractors.PhyRecordingExtractor,\n",
       " spikeextractors.extractors.maxoneextractors.maxoneextractors.MaxOneRecordingExtractor,\n",
       " spikeextractors.extractors.mea1kextractors.mea1kextractors.Mea1kRecordingExtractor,\n",
       " spikeextractors.extractors.mcsh5recordingextractor.mcsh5recordingextractor.MCSH5RecordingExtractor,\n",
       " spikeextractors.extractors.neoextractors.mcsrawrecordingextractor.MCSRawRecordingExtractor]"
      ]
     },
     "execution_count": 48,
     "metadata": {},
     "output_type": "execute_result"
    }
   ],
   "source": [
    "se.installed_recording_extractor_list"
   ]
  },
  {
   "cell_type": "markdown",
   "metadata": {},
   "source": [
    "##### pick one ap stream, view it after running some of the toolkits"
   ]
  },
  {
   "cell_type": "code",
   "execution_count": 44,
   "metadata": {},
   "outputs": [],
   "source": [
    "ap_extractor = run_recordings['ap_0']"
   ]
  },
  {
   "cell_type": "markdown",
   "metadata": {},
   "source": [
    "###### view it raw"
   ]
  },
  {
   "cell_type": "code",
   "execution_count": 50,
   "metadata": {},
   "outputs": [
    {
     "data": {
      "text/plain": [
       "<spikewidgets.widgets.timeserieswidget.timeserieswidget.TimeseriesWidget at 0x7fc0e87d1820>"
      ]
     },
     "execution_count": 50,
     "metadata": {},
     "output_type": "execute_result"
    },
    {
     "data": {
      "image/png": "[encoded data removed]",
      "text/plain": [
       "<Figure size 432x288 with 1 Axes>"
      ]
     },
     "metadata": {
      "needs_background": "light"
     },
     "output_type": "display_data"
    }
   ],
   "source": [
    "sw.plot_timeseries(ap_extractor, channel_ids=range(40, 50), trange=[100,105])"
   ]
  },
  {
   "cell_type": "markdown",
   "metadata": {},
   "source": [
    "###### filtered"
   ]
  },
  {
   "cell_type": "code",
   "execution_count": 51,
   "metadata": {},
   "outputs": [
    {
     "data": {
      "text/plain": [
       "<spikewidgets.widgets.timeserieswidget.timeserieswidget.TimeseriesWidget at 0x7fc0e8730160>"
      ]
     },
     "execution_count": 51,
     "metadata": {},
     "output_type": "execute_result"
    },
    {
     "data": {
      "image/png": "[encoded data removed]",
      "text/plain": [
       "<Figure size 432x288 with 1 Axes>"
      ]
     },
     "metadata": {
      "needs_background": "light"
     },
     "output_type": "display_data"
    }
   ],
   "source": [
    "ap_extractor_filt = st.preprocessing.bandpass_filter(ap_extractor, freq_max=10000)\n",
    "sw.plot_timeseries(ap_extractor_filt, channel_ids=range(40, 50), trange=[100,105])"
   ]
  },
  {
   "cell_type": "markdown",
   "metadata": {},
   "source": [
    "###### cmr"
   ]
  },
  {
   "cell_type": "code",
   "execution_count": 52,
   "metadata": {},
   "outputs": [
    {
     "data": {
      "text/plain": [
       "<spikewidgets.widgets.timeserieswidget.timeserieswidget.TimeseriesWidget at 0x7fc0e86b8dc0>"
      ]
     },
     "execution_count": 52,
     "metadata": {},
     "output_type": "execute_result"
    },
    {
     "data": {
      "image/png": "[encoded data removed]",
      "text/plain": [
       "<Figure size 432x288 with 1 Axes>"
      ]
     },
     "metadata": {
      "needs_background": "light"
     },
     "output_type": "display_data"
    }
   ],
   "source": [
    "ap_extractor_cmr = st.preprocessing.common_reference(ap_extractor)\n",
    "sw.plot_timeseries(ap_extractor_cmr, channel_ids=range(40, 50), trange=[100,105])"
   ]
  },
  {
   "cell_type": "code",
   "execution_count": 45,
   "metadata": {},
   "outputs": [
    {
     "data": {
      "text/plain": [
       "{'bird': '/mnt/cube/earneodo/bci_zf/neuropix/birds/z_w12m7_20/2500r250a_3500_dir_g2',\n",
       " 'raw': '/mnt/cube/earneodo/bci_zf/neuropix/birds/z_w12m7_20/Ephys/raw/20201104/2500r250a_3500_dir_g2',\n",
       " 'kwik': '/mnt/sphere/earneodo/bci_zf/ss_data/z_w12m7_20/Ephys/kwik/20201104/2500r250a_3500_dir_g2',\n",
       " 'processed': '/mnt/cube/earneodo/bci_zf/neuropix/birds/z_w12m7_20/Ephys/processed/20201104/2500r250a_3500_dir_g2',\n",
       " 'derived': '/mnt/cube/earneodo/bci_zf/neuropix/birds/z_w12m7_20/Ephys/derived/20201104/2500r250a_3500_dir_g2',\n",
       " 'tmp': '/scratch/earneodo/tmp/tmp/2500r250a_3500_dir_g2',\n",
       " 'msort': '/scratch/earneodo/tmp/z_w12m7_20/Ephys/msort/20201104/2500r250a_3500_dir_g2',\n",
       " 'ksort': '/scratch/earneodo/tmp/z_w12m7_20/Ephys/ksort/20201104/2500r250a_3500_dir_g2'}"
      ]
     },
     "execution_count": 45,
     "metadata": {},
     "output_type": "execute_result"
    }
   ],
   "source": [
    "exp_struct['folders']"
   ]
  },
  {
   "cell_type": "code",
   "execution_count": 47,
   "metadata": {},
   "outputs": [],
   "source": [
    "import logging\n",
    "import tempfile\n",
    "import multiprocessing\n",
    "import pickle\n",
    "import os\n",
    "\n",
    "N_JOBS_MAX = multiprocessing.cpu_count()"
   ]
  },
  {
   "cell_type": "code",
   "execution_count": 48,
   "metadata": {},
   "outputs": [],
   "source": [
    "### this is already in sgle.expstruct\n",
    "\n",
    "def run_spikesort(recording_extractor: se.RecordingExtractor, \n",
    "                  logger: logging.Logger,\n",
    "                  sort_pickle_path: str,\n",
    "                  tmp_dir: str, \n",
    "                  grouping_property: str=None,\n",
    "                 sorting_method: str='kilosort2',\n",
    "                 n_jobs_bin: int=N_JOBS_MAX,\n",
    "                 chunk_mb: int=4096, restrict_to_gpu=None,\n",
    "                 **sort_kwargs):\n",
    "\n",
    "    logger.info(\"Grouping property: {}\".format(grouping_property))\n",
    "    logger.info(\"sorting method: {}\".format(sorting_method))\n",
    "    \n",
    "    # try:\n",
    "    if sorting_method == \"kilosort2\":\n",
    "        # perform kilosort sorting\n",
    "        sort_tmp_dir = os.path.join(tmp_dir, 'tmp_ks2')\n",
    "        logger.info('Sorting tmp dir {}'.format(sort_tmp_dir))\n",
    "        \n",
    "        if restrict_to_gpu is not None:\n",
    "            logger.info('Will set visible gpu devices {}'.format(restrict_to_gpu))\n",
    "            os.environ[\"CUDA_DEVICE_ORDER\"] = \"PCI_BUS_ID\"\n",
    "            os.environ[\"CUDA_VISIBLE_DEVICES\"] = \"{}\".format(restrict_to_gpu)\n",
    "\n",
    "            \n",
    "        sort = ss.run_kilosort2(\n",
    "            recording_extractor,\n",
    "            car=True,\n",
    "            output_folder=sort_tmp_dir,\n",
    "            parallel=True,\n",
    "            verbose=True,\n",
    "            grouping_property=grouping_property,\n",
    "            chunk_mb=chunk_mb,\n",
    "            n_jobs_bin=n_jobs_bin,\n",
    "            **sort_kwargs\n",
    "        )\n",
    "        \n",
    "    else:\n",
    "        raise NotImplementedError('Only know how to sort kilosort2 for now, \\\n",
    "                                        will deal with {} later'.format(sorting_method))\n",
    "        \n",
    "    logger.info('done sorting')\n",
    "    \n",
    "    # save sort\n",
    "    logger.info(\"Saving sort {}\".format(sort_pickle_path))\n",
    "    with open(sort_pickle_path, \"wb\") as output:\n",
    "        pickle.dump(sort, output, pickle.HIGHEST_PROTOCOL)\n",
    "    logger.info(\"Sorting output saved to {}\".format(sort_pickle_path))\n",
    "      \n",
    "    # get templates and max channel\n",
    "    logger.info(\"Getting templates\")\n",
    "    templates = st.postprocessing.get_unit_templates(\n",
    "        recording_extractor,\n",
    "        sort,\n",
    "        max_spikes_per_unit=200,\n",
    "        save_as_property=True,\n",
    "        verbose=True,\n",
    "        n_jobs=n_jobs_bin,\n",
    "        grouping_property=grouping_property,\n",
    "    )\n",
    "    \n",
    "    logger.info(\"Getting main channel\")\n",
    "    max_chan = st.postprocessing.get_unit_max_channels(\n",
    "        recording_extractor, \n",
    "        sort, \n",
    "        save_as_property=True, \n",
    "        verbose=True, \n",
    "        n_jobs=n_jobs_bin\n",
    "    )   \n",
    "    \n",
    "    # save sort again with all that processed data\n",
    "    sort_temp_pickle_path = sort_pickle_path + '.dump.pkl'\n",
    "    logger.info(\"Saving sort {}\".format(sort_temp_pickle_path))\n",
    "    sort.dump_to_pickle(sort_temp_pickle_path)\n",
    "    \n",
    "    return sort"
   ]
  },
  {
   "cell_type": "code",
   "execution_count": 49,
   "metadata": {},
   "outputs": [],
   "source": [
    "# ks_params = {'kilo_version': 2,\n",
    "#              'use_gpu': 1,\n",
    "#             'auto_merge': 1,\n",
    "#             'filt_per_chan': 4,\n",
    "#             's_f': int(s_f),\n",
    "#             'n_chan': n_chan,\n",
    "#             'spkTh': -4,\n",
    "#             'minFR': 1/100,\n",
    "#             }"
   ]
  },
  {
   "cell_type": "code",
   "execution_count": 69,
   "metadata": {},
   "outputs": [
    {
     "data": {
      "text/plain": [
       "{'detect_threshold': 6,\n",
       " 'projection_threshold': [10, 4],\n",
       " 'preclust_threshold': 8,\n",
       " 'car': True,\n",
       " 'minFR': 0.1,\n",
       " 'minfr_goodchannels': 0.1,\n",
       " 'freq_min': 150,\n",
       " 'sigmaMask': 30,\n",
       " 'nPCs': 3,\n",
       " 'ntbuff': 64,\n",
       " 'nfilt_factor': 4,\n",
       " 'NT': None,\n",
       " 'keep_good_only': False,\n",
       " 'chunk_mb': 500,\n",
       " 'n_jobs_bin': 1}"
      ]
     },
     "execution_count": 69,
     "metadata": {},
     "output_type": "execute_result"
    }
   ],
   "source": [
    "default_ks2_params = ss.Kilosort2Sorter.default_params()\n",
    "default_ks2_params"
   ]
  },
  {
   "cell_type": "markdown",
   "metadata": {},
   "source": [
    "##### manually enter ksort params"
   ]
  },
  {
   "cell_type": "code",
   "execution_count": 57,
   "metadata": {},
   "outputs": [],
   "source": [
    "ks2_params = {'minFR': 0.01,\n",
    "             'minfr_goodchannels': 0.01}"
   ]
  },
  {
   "cell_type": "code",
   "execution_count": 72,
   "metadata": {},
   "outputs": [],
   "source": [
    "tmp_loc = exp_struct['folders']['ksort']\n"
   ]
  },
  {
   "cell_type": "code",
   "execution_count": 73,
   "metadata": {},
   "outputs": [
    {
     "name": "stderr",
     "output_type": "stream",
     "text": [
      "2021-01-28 08:08:44,837 root         INFO     Grouping property: None\n",
      "2021-01-28 08:08:44,839 root         INFO     sorting method: kilosort2\n",
      "2021-01-28 08:08:44,839 root         INFO     Sorting tmp dir /scratch/earneodo/tmp/z_w12m7_20/Ephys/ksort/20201104/2500r250a_3500_dir_g2/tmp_ks2\n",
      "2021-01-28 08:08:44,840 root         INFO     Will set visible gpu devices 1\n"
     ]
    },
    {
     "name": "stdout",
     "output_type": "stream",
     "text": [
      "kilosort2 run time 166.58s\n"
     ]
    },
    {
     "name": "stderr",
     "output_type": "stream",
     "text": [
      "2021-01-28 08:11:49,209 root         INFO     done sorting\n",
      "2021-01-28 08:11:49,212 root         INFO     Saving sort /scratch/earneodo/tmp/z_w12m7_20/Ephys/ksort/20201104/2500r250a_3500_dir_g2/sort_ks2.pickle\n",
      "2021-01-28 08:11:49,729 root         INFO     Sorting output saved to /scratch/earneodo/tmp/z_w12m7_20/Ephys/ksort/20201104/2500r250a_3500_dir_g2/sort_ks2.pickle\n",
      "2021-01-28 08:11:49,767 root         INFO     Getting templates\n"
     ]
    },
    {
     "name": "stdout",
     "output_type": "stream",
     "text": [
      "Number of chunks: 198 - Number of jobs: 32\n"
     ]
    },
    {
     "name": "stderr",
     "output_type": "stream",
     "text": [
      "2021-01-28 08:22:06,221 root         INFO     Getting main channel\n",
      "2021-01-28 08:22:06,456 root         INFO     Saving sort /scratch/earneodo/tmp/z_w12m7_20/Ephys/ksort/20201104/2500r250a_3500_dir_g2/sort_ks2.pickle.dump.pkl\n"
     ]
    }
   ],
   "source": [
    "sort_pickle_path = os.path.join(exp_struct['folders']['ksort'], 'sort_ks2.pickle')\n",
    "sort = run_spikesort(ap_extractor, logger, sort_pickle_path, tmp_loc, restrict_to_gpu=1, **ks2_params)"
   ]
  },
  {
   "cell_type": "code",
   "execution_count": 78,
   "metadata": {},
   "outputs": [
    {
     "data": {
      "text/plain": [
       "[]"
      ]
     },
     "execution_count": 78,
     "metadata": {},
     "output_type": "execute_result"
    }
   ],
   "source": [
    "sort.get_epoch_names()"
   ]
  },
  {
   "cell_type": "markdown",
   "metadata": {},
   "source": [
    "## Try with sglexp\n",
    "make a pandas dataframe to keep track of epochs (folders), runs within each session, caryying the recording extractors"
   ]
  },
  {
   "cell_type": "code",
   "execution_count": 50,
   "metadata": {},
   "outputs": [],
   "source": [
    "from ceciestunepipe.util import sglxexp as sgle"
   ]
  },
  {
   "cell_type": "code",
   "execution_count": 51,
   "metadata": {},
   "outputs": [],
   "source": [
    "reload(sgle)\n",
    "epoch_pd = sgle.make_sgl_epoch_dict(sess_par, sess_epochs[1])"
   ]
  },
  {
   "cell_type": "code",
   "execution_count": 52,
   "metadata": {},
   "outputs": [
    {
     "data": {
      "text/html": [
       "<div>\n",
       "<style scoped>\n",
       "    .dataframe tbody tr th:only-of-type {\n",
       "        vertical-align: middle;\n",
       "    }\n",
       "\n",
       "    .dataframe tbody tr th {\n",
       "        vertical-align: top;\n",
       "    }\n",
       "\n",
       "    .dataframe thead th {\n",
       "        text-align: right;\n",
       "    }\n",
       "</style>\n",
       "<table border=\"1\" class=\"dataframe\">\n",
       "  <thead>\n",
       "    <tr style=\"text-align: right;\">\n",
       "      <th></th>\n",
       "      <th>bird</th>\n",
       "      <th>sess</th>\n",
       "      <th>epoch</th>\n",
       "      <th>run</th>\n",
       "      <th>nidq</th>\n",
       "      <th>lf_0</th>\n",
       "      <th>ap_0</th>\n",
       "      <th>rec-nidq</th>\n",
       "      <th>rec-lf_0</th>\n",
       "      <th>rec-ap_0</th>\n",
       "    </tr>\n",
       "  </thead>\n",
       "  <tbody>\n",
       "    <tr>\n",
       "      <th>0</th>\n",
       "      <td>z_w12m7_20</td>\n",
       "      <td>20201104</td>\n",
       "      <td>2500r250a_3500_dir_g0</td>\n",
       "      <td>0</td>\n",
       "      <td>/mnt/cube/earneodo/bci_zf/neuropix/birds/z_w12...</td>\n",
       "      <td>/mnt/cube/earneodo/bci_zf/neuropix/birds/z_w12...</td>\n",
       "      <td>/mnt/cube/earneodo/bci_zf/neuropix/birds/z_w12...</td>\n",
       "      <td>&lt;ceciestunepipe.util.spikeextractors.extractor...</td>\n",
       "      <td>&lt;ceciestunepipe.util.spikeextractors.extractor...</td>\n",
       "      <td>&lt;ceciestunepipe.util.spikeextractors.extractor...</td>\n",
       "    </tr>\n",
       "  </tbody>\n",
       "</table>\n",
       "</div>"
      ],
      "text/plain": [
       "         bird      sess                  epoch  run  \\\n",
       "0  z_w12m7_20  20201104  2500r250a_3500_dir_g0    0   \n",
       "\n",
       "                                                nidq  \\\n",
       "0  /mnt/cube/earneodo/bci_zf/neuropix/birds/z_w12...   \n",
       "\n",
       "                                                lf_0  \\\n",
       "0  /mnt/cube/earneodo/bci_zf/neuropix/birds/z_w12...   \n",
       "\n",
       "                                                ap_0  \\\n",
       "0  /mnt/cube/earneodo/bci_zf/neuropix/birds/z_w12...   \n",
       "\n",
       "                                            rec-nidq  \\\n",
       "0  <ceciestunepipe.util.spikeextractors.extractor...   \n",
       "\n",
       "                                            rec-lf_0  \\\n",
       "0  <ceciestunepipe.util.spikeextractors.extractor...   \n",
       "\n",
       "                                            rec-ap_0  \n",
       "0  <ceciestunepipe.util.spikeextractors.extractor...  "
      ]
     },
     "execution_count": 52,
     "metadata": {},
     "output_type": "execute_result"
    }
   ],
   "source": [
    "epoch_pd"
   ]
  },
  {
   "cell_type": "code",
   "execution_count": 53,
   "metadata": {},
   "outputs": [
    {
     "name": "stderr",
     "output_type": "stream",
     "text": [
      "2021-01-30 11:50:29,315 ceciestunepipe.util.sglxutil INFO     {'folders': {'bird': '/mnt/cube/earneodo/bci_zf/neuropix/birds/z_w12m7_20', 'raw': '/mnt/cube/earneodo/bci_zf/neuropix/birds/z_w12m7_20/Ephys/raw/20201104', 'kwik': '/mnt/sphere/earneodo/bci_zf/ss_data/z_w12m7_20/Ephys/kwik/20201104', 'processed': '/mnt/cube/earneodo/bci_zf/neuropix/birds/z_w12m7_20/Ephys/processed/20201104', 'derived': '/mnt/cube/earneodo/bci_zf/neuropix/birds/z_w12m7_20/Ephys/derived/20201104', 'tmp': '/scratch/earneodo/tmp/tmp', 'msort': '/scratch/earneodo/tmp/z_w12m7_20/Ephys/msort/20201104', 'ksort': '/scratch/earneodo/tmp/z_w12m7_20/Ephys/ksort/20201104'}, 'files': {'par': '/scratch/earneodo/tmp/z_w12m7_20/Ephys/ksort/20201104/params.json', 'set': '/mnt/cube/earneodo/bci_zf/neuropix/birds/z_w12m7_20/Ephys/raw/20201104/settings.isf', 'rig': '/mnt/cube/earneodo/bci_zf/neuropix/birds/z_w12m7_20/Ephys/raw/20201104/rig.json', 'kwd': '/mnt/sphere/earneodo/bci_zf/ss_data/z_w12m7_20/Ephys/kwik/20201104/stream.kwd', 'kwik': '/mnt/sphere/earneodo/bci_zf/ss_data/z_w12m7_20/Ephys/kwik/20201104/sort_2/spikes.kwik', 'kwe': '/mnt/sphere/earneodo/bci_zf/ss_data/z_w12m7_20/Ephys/kwik/20201104/events.kwe', 'dat_mic': '/mnt/cube/earneodo/bci_zf/neuropix/birds/z_w12m7_20/Ephys/processed/20201104/dat_mic.mat', 'dat_ap': '/mnt/cube/earneodo/bci_zf/neuropix/birds/z_w12m7_20/Ephys/processed/20201104/dat_ap.mat', 'allevents': '/mnt/cube/earneodo/bci_zf/neuropix/birds/z_w12m7_20/Ephys/processed/20201104/dat_all.pkl', 'wav_mic': '/mnt/cube/earneodo/bci_zf/neuropix/birds/z_w12m7_20/Ephys/derived/20201104/wav_mic.wav', 'mda_raw': '/scratch/earneodo/tmp/z_w12m7_20/Ephys/msort/20201104/raw.mda', 'bin_raw': '/scratch/earneodo/tmp/z_w12m7_20/Ephys/ksort/20201104/raw.bin'}}\n",
      "2021-01-30 11:50:29,317 ceciestunepipe.util.sglexp INFO     session 20201104 has epochs ['2500r250a_3500_dir_g0', '2500r250a_3500_dir_g1', '2500r250a_3500_dir_g2']\n"
     ]
    },
    {
     "data": {
      "text/html": [
       "<div>\n",
       "<style scoped>\n",
       "    .dataframe tbody tr th:only-of-type {\n",
       "        vertical-align: middle;\n",
       "    }\n",
       "\n",
       "    .dataframe tbody tr th {\n",
       "        vertical-align: top;\n",
       "    }\n",
       "\n",
       "    .dataframe thead th {\n",
       "        text-align: right;\n",
       "    }\n",
       "</style>\n",
       "<table border=\"1\" class=\"dataframe\">\n",
       "  <thead>\n",
       "    <tr style=\"text-align: right;\">\n",
       "      <th></th>\n",
       "      <th>bird</th>\n",
       "      <th>sess</th>\n",
       "      <th>epoch</th>\n",
       "      <th>run</th>\n",
       "      <th>nidq</th>\n",
       "      <th>lf_0</th>\n",
       "      <th>ap_0</th>\n",
       "      <th>rec-nidq</th>\n",
       "      <th>rec-lf_0</th>\n",
       "      <th>rec-ap_0</th>\n",
       "    </tr>\n",
       "  </thead>\n",
       "  <tbody>\n",
       "    <tr>\n",
       "      <th>0</th>\n",
       "      <td>z_w12m7_20</td>\n",
       "      <td>20201104</td>\n",
       "      <td>2500r250a_3500_dir_g0</td>\n",
       "      <td>0</td>\n",
       "      <td>/mnt/cube/earneodo/bci_zf/neuropix/birds/z_w12...</td>\n",
       "      <td>/mnt/cube/earneodo/bci_zf/neuropix/birds/z_w12...</td>\n",
       "      <td>/mnt/cube/earneodo/bci_zf/neuropix/birds/z_w12...</td>\n",
       "      <td>&lt;ceciestunepipe.util.spikeextractors.extractor...</td>\n",
       "      <td>&lt;ceciestunepipe.util.spikeextractors.extractor...</td>\n",
       "      <td>&lt;ceciestunepipe.util.spikeextractors.extractor...</td>\n",
       "    </tr>\n",
       "    <tr>\n",
       "      <th>1</th>\n",
       "      <td>z_w12m7_20</td>\n",
       "      <td>20201104</td>\n",
       "      <td>2500r250a_3500_dir_g1</td>\n",
       "      <td>0</td>\n",
       "      <td>/mnt/cube/earneodo/bci_zf/neuropix/birds/z_w12...</td>\n",
       "      <td>/mnt/cube/earneodo/bci_zf/neuropix/birds/z_w12...</td>\n",
       "      <td>/mnt/cube/earneodo/bci_zf/neuropix/birds/z_w12...</td>\n",
       "      <td>&lt;ceciestunepipe.util.spikeextractors.extractor...</td>\n",
       "      <td>&lt;ceciestunepipe.util.spikeextractors.extractor...</td>\n",
       "      <td>&lt;ceciestunepipe.util.spikeextractors.extractor...</td>\n",
       "    </tr>\n",
       "    <tr>\n",
       "      <th>2</th>\n",
       "      <td>z_w12m7_20</td>\n",
       "      <td>20201104</td>\n",
       "      <td>2500r250a_3500_dir_g2</td>\n",
       "      <td>0</td>\n",
       "      <td>/mnt/cube/earneodo/bci_zf/neuropix/birds/z_w12...</td>\n",
       "      <td>/mnt/cube/earneodo/bci_zf/neuropix/birds/z_w12...</td>\n",
       "      <td>/mnt/cube/earneodo/bci_zf/neuropix/birds/z_w12...</td>\n",
       "      <td>&lt;ceciestunepipe.util.spikeextractors.extractor...</td>\n",
       "      <td>&lt;ceciestunepipe.util.spikeextractors.extractor...</td>\n",
       "      <td>&lt;ceciestunepipe.util.spikeextractors.extractor...</td>\n",
       "    </tr>\n",
       "  </tbody>\n",
       "</table>\n",
       "</div>"
      ],
      "text/plain": [
       "         bird      sess                  epoch  run  \\\n",
       "0  z_w12m7_20  20201104  2500r250a_3500_dir_g0    0   \n",
       "1  z_w12m7_20  20201104  2500r250a_3500_dir_g1    0   \n",
       "2  z_w12m7_20  20201104  2500r250a_3500_dir_g2    0   \n",
       "\n",
       "                                                nidq  \\\n",
       "0  /mnt/cube/earneodo/bci_zf/neuropix/birds/z_w12...   \n",
       "1  /mnt/cube/earneodo/bci_zf/neuropix/birds/z_w12...   \n",
       "2  /mnt/cube/earneodo/bci_zf/neuropix/birds/z_w12...   \n",
       "\n",
       "                                                lf_0  \\\n",
       "0  /mnt/cube/earneodo/bci_zf/neuropix/birds/z_w12...   \n",
       "1  /mnt/cube/earneodo/bci_zf/neuropix/birds/z_w12...   \n",
       "2  /mnt/cube/earneodo/bci_zf/neuropix/birds/z_w12...   \n",
       "\n",
       "                                                ap_0  \\\n",
       "0  /mnt/cube/earneodo/bci_zf/neuropix/birds/z_w12...   \n",
       "1  /mnt/cube/earneodo/bci_zf/neuropix/birds/z_w12...   \n",
       "2  /mnt/cube/earneodo/bci_zf/neuropix/birds/z_w12...   \n",
       "\n",
       "                                            rec-nidq  \\\n",
       "0  <ceciestunepipe.util.spikeextractors.extractor...   \n",
       "1  <ceciestunepipe.util.spikeextractors.extractor...   \n",
       "2  <ceciestunepipe.util.spikeextractors.extractor...   \n",
       "\n",
       "                                            rec-lf_0  \\\n",
       "0  <ceciestunepipe.util.spikeextractors.extractor...   \n",
       "1  <ceciestunepipe.util.spikeextractors.extractor...   \n",
       "2  <ceciestunepipe.util.spikeextractors.extractor...   \n",
       "\n",
       "                                            rec-ap_0  \n",
       "0  <ceciestunepipe.util.spikeextractors.extractor...  \n",
       "1  <ceciestunepipe.util.spikeextractors.extractor...  \n",
       "2  <ceciestunepipe.util.spikeextractors.extractor...  "
      ]
     },
     "execution_count": 53,
     "metadata": {},
     "output_type": "execute_result"
    }
   ],
   "source": [
    "reload(sgle)\n",
    "sess_pd = sgle.make_session_pd(sess_par)\n",
    "sess_pd"
   ]
  },
  {
   "cell_type": "markdown",
   "metadata": {},
   "source": [
    "### get some metadata"
   ]
  },
  {
   "cell_type": "code",
   "execution_count": 54,
   "metadata": {},
   "outputs": [],
   "source": [
    "def get_sess_pd_meta(sess_pd: pd.DataFrame) -> pd.DataFrame:\n",
    "    # fields to pick from the sglx metadata\n",
    "    sglx_fields = {}\n",
    "    pass"
   ]
  },
  {
   "cell_type": "markdown",
   "metadata": {},
   "source": [
    "### sort a merged recording extractor with all of the session epochs, runs"
   ]
  },
  {
   "cell_type": "code",
   "execution_count": 55,
   "metadata": {},
   "outputs": [],
   "source": [
    "def merge_pd(sess_pd: pd.DataFrame) -> pd.DataFrame:\n",
    "    \n",
    "    # get the list of existing recordings (one per stream)\n",
    "    rec_list = [c for c in (sess_pd.columns) if 'rec' in c]\n",
    "    \n",
    "    # merge each column\n",
    "    merged_rec_dict = {c: se.MultiRecordingTimeExtractor(recordings=list(sess_pd.loc[:, c].values)) for c in rec_list}\n",
    "    \n",
    "    merged_pd = pd.DataFrame.from_dict(merged_rec_dict, orient='index').T\n",
    "    merged_pd['bird'] = sess_pd['bird']\n",
    "    merged_pd['sess'] = sess_pd['sess']\n",
    "    merged_pd['epoch'] = [list(sess_pd.loc[:, 'epoch'].values)]*len(merged_pd)\n",
    "    merged_pd['run'] = [list(sess_pd.loc[:, 'run'].values)]*len(merged_pd)\n",
    "    \n",
    "    return merged_pd\n",
    "\n",
    "reload(sgle)\n",
    "merged_pd = sgle.merge_session_pd(sess_pd)"
   ]
  },
  {
   "cell_type": "code",
   "execution_count": 56,
   "metadata": {},
   "outputs": [
    {
     "data": {
      "text/html": [
       "<div>\n",
       "<style scoped>\n",
       "    .dataframe tbody tr th:only-of-type {\n",
       "        vertical-align: middle;\n",
       "    }\n",
       "\n",
       "    .dataframe tbody tr th {\n",
       "        vertical-align: top;\n",
       "    }\n",
       "\n",
       "    .dataframe thead th {\n",
       "        text-align: right;\n",
       "    }\n",
       "</style>\n",
       "<table border=\"1\" class=\"dataframe\">\n",
       "  <thead>\n",
       "    <tr style=\"text-align: right;\">\n",
       "      <th></th>\n",
       "      <th>rec-nidq</th>\n",
       "      <th>rec-lf_0</th>\n",
       "      <th>rec-ap_0</th>\n",
       "      <th>bird</th>\n",
       "      <th>sess</th>\n",
       "      <th>epoch</th>\n",
       "      <th>run</th>\n",
       "    </tr>\n",
       "  </thead>\n",
       "  <tbody>\n",
       "    <tr>\n",
       "      <th>0</th>\n",
       "      <td>&lt;spikeextractors.multirecordingtimeextractor.M...</td>\n",
       "      <td>&lt;spikeextractors.multirecordingtimeextractor.M...</td>\n",
       "      <td>&lt;spikeextractors.multirecordingtimeextractor.M...</td>\n",
       "      <td>z_w12m7_20</td>\n",
       "      <td>20201104</td>\n",
       "      <td>[2500r250a_3500_dir_g0, 2500r250a_3500_dir_g1,...</td>\n",
       "      <td>[0, 0, 0]</td>\n",
       "    </tr>\n",
       "  </tbody>\n",
       "</table>\n",
       "</div>"
      ],
      "text/plain": [
       "                                            rec-nidq  \\\n",
       "0  <spikeextractors.multirecordingtimeextractor.M...   \n",
       "\n",
       "                                            rec-lf_0  \\\n",
       "0  <spikeextractors.multirecordingtimeextractor.M...   \n",
       "\n",
       "                                            rec-ap_0        bird      sess  \\\n",
       "0  <spikeextractors.multirecordingtimeextractor.M...  z_w12m7_20  20201104   \n",
       "\n",
       "                                               epoch        run  \n",
       "0  [2500r250a_3500_dir_g0, 2500r250a_3500_dir_g1,...  [0, 0, 0]  "
      ]
     },
     "execution_count": 56,
     "metadata": {},
     "output_type": "execute_result"
    }
   ],
   "source": [
    "merged_pd"
   ]
  },
  {
   "cell_type": "code",
   "execution_count": 57,
   "metadata": {},
   "outputs": [
    {
     "data": {
      "text/plain": [
       "<spikeextractors.multirecordingtimeextractor.MultiRecordingTimeExtractor at 0x7f4c3c1b8f70>"
      ]
     },
     "execution_count": 57,
     "metadata": {},
     "output_type": "execute_result"
    }
   ],
   "source": [
    "merged_pd.loc[0, 'rec-lf_0']"
   ]
  },
  {
   "cell_type": "code",
   "execution_count": 64,
   "metadata": {},
   "outputs": [
    {
     "data": {
      "text/plain": [
       "<module 'ceciestunepipe.util.sglxutil' from '/mnt/cube/earneodo/repos/ceciestunepipe/ceciestunepipe/util/sglxutil.py'>"
      ]
     },
     "execution_count": 64,
     "metadata": {},
     "output_type": "execute_result"
    }
   ],
   "source": [
    "sglu"
   ]
  },
  {
   "cell_type": "code",
   "execution_count": 58,
   "metadata": {},
   "outputs": [
    {
     "data": {
      "text/plain": [
       "{'folders': {'bird': '/mnt/cube/earneodo/bci_zf/neuropix/birds/z_w12m7_20/merge',\n",
       "  'raw': '/mnt/cube/earneodo/bci_zf/neuropix/birds/z_w12m7_20/Ephys/raw/20201104/merge',\n",
       "  'kwik': '/mnt/sphere/earneodo/bci_zf/ss_data/z_w12m7_20/Ephys/kwik/20201104/merge',\n",
       "  'processed': '/mnt/cube/earneodo/bci_zf/neuropix/birds/z_w12m7_20/Ephys/processed/20201104/merge',\n",
       "  'derived': '/mnt/cube/earneodo/bci_zf/neuropix/birds/z_w12m7_20/Ephys/derived/20201104/merge',\n",
       "  'tmp': '/scratch/earneodo/tmp/tmp/merge',\n",
       "  'msort': '/scratch/earneodo/tmp/z_w12m7_20/Ephys/msort/20201104/merge',\n",
       "  'ksort': '/scratch/earneodo/tmp/z_w12m7_20/Ephys/ksort/20201104/merge'},\n",
       " 'files': {'par': '/scratch/earneodo/tmp/z_w12m7_20/Ephys/ksort/20201104/merge/params.json',\n",
       "  'set': '/mnt/cube/earneodo/bci_zf/neuropix/birds/z_w12m7_20/Ephys/raw/20201104/settings.isf',\n",
       "  'rig': '/mnt/cube/earneodo/bci_zf/neuropix/birds/z_w12m7_20/Ephys/raw/20201104/rig.json',\n",
       "  'kwd': '/mnt/sphere/earneodo/bci_zf/ss_data/z_w12m7_20/Ephys/kwik/20201104/merge/stream.kwd',\n",
       "  'kwik': '/mnt/sphere/earneodo/bci_zf/ss_data/z_w12m7_20/Ephys/kwik/20201104/merge/sort_2/spikes.kwik',\n",
       "  'kwe': '/mnt/sphere/earneodo/bci_zf/ss_data/z_w12m7_20/Ephys/kwik/20201104/merge/events.kwe',\n",
       "  'dat_mic': '/mnt/cube/earneodo/bci_zf/neuropix/birds/z_w12m7_20/Ephys/processed/20201104/dat_mic.mat',\n",
       "  'dat_ap': '/mnt/cube/earneodo/bci_zf/neuropix/birds/z_w12m7_20/Ephys/processed/20201104/dat_ap.mat',\n",
       "  'allevents': '/mnt/cube/earneodo/bci_zf/neuropix/birds/z_w12m7_20/Ephys/processed/20201104/dat_all.pkl',\n",
       "  'wav_mic': '/mnt/cube/earneodo/bci_zf/neuropix/birds/z_w12m7_20/Ephys/derived/20201104/wav_mic.wav',\n",
       "  'mda_raw': '/scratch/earneodo/tmp/z_w12m7_20/Ephys/msort/20201104/merge/raw.mda',\n",
       "  'bin_raw': '/scratch/earneodo/tmp/z_w12m7_20/Ephys/ksort/20201104/merge/raw.bin'}}"
      ]
     },
     "execution_count": 58,
     "metadata": {},
     "output_type": "execute_result"
    }
   ],
   "source": [
    "merged_exp_struct = sglu.sgl_struct(sess_par, 'merge')\n",
    "merged_exp_struct"
   ]
  },
  {
   "cell_type": "code",
   "execution_count": 74,
   "metadata": {
    "scrolled": false
   },
   "outputs": [
    {
     "name": "stderr",
     "output_type": "stream",
     "text": [
      "2021-01-30 01:32:06,864 root         INFO     Grouping property: None\n",
      "2021-01-30 01:32:06,866 root         INFO     sorting method: kilosort2\n",
      "2021-01-30 01:32:06,866 root         INFO     Sorting tmp dir /scratch/earneodo/tmp/z_w12m7_20/Ephys/ksort/20201104/merge/tmp_ks2\n",
      "2021-01-30 01:32:06,867 root         INFO     Will set visible gpu devices 1\n"
     ]
    },
    {
     "name": "stdout",
     "output_type": "stream",
     "text": [
      "kilosort2 run time 9213.28s\n"
     ]
    },
    {
     "name": "stderr",
     "output_type": "stream",
     "text": [
      "2021-01-30 04:45:29,722 root         INFO     done sorting\n",
      "2021-01-30 04:45:29,724 root         INFO     Saving sort /scratch/earneodo/tmp/z_w12m7_20/Ephys/ksort/20201104/merge/sort_ks2.pickle\n",
      "2021-01-30 04:46:25,060 root         INFO     Sorting output saved to /scratch/earneodo/tmp/z_w12m7_20/Ephys/ksort/20201104/merge/sort_ks2.pickle\n",
      "2021-01-30 04:46:25,062 root         INFO     Getting templates\n"
     ]
    },
    {
     "name": "stdout",
     "output_type": "stream",
     "text": [
      "Number of chunks: 12846 - Number of jobs: 32\n"
     ]
    },
    {
     "name": "stderr",
     "output_type": "stream",
     "text": [
      "/mnt/cube/earneodo/envs/pakhi/unepipe/lib/python3.8/site-packages/joblib/externals/loky/process_executor.py:688: UserWarning: A worker stopped while some jobs were given to the executor. This can be caused by a too short worker timeout or by a memory leak.\n",
      "  warnings.warn(\n"
     ]
    },
    {
     "ename": "KeyboardInterrupt",
     "evalue": "",
     "output_type": "error",
     "traceback": [
      "\u001b[0;31m---------------------------------------------------------------------------\u001b[0m",
      "\u001b[0;31mKeyboardInterrupt\u001b[0m                         Traceback (most recent call last)",
      "\u001b[0;32m<ipython-input-74-1651f8a03334>\u001b[0m in \u001b[0;36m<module>\u001b[0;34m\u001b[0m\n\u001b[1;32m      3\u001b[0m \u001b[0mtmp_loc\u001b[0m \u001b[0;34m=\u001b[0m \u001b[0mmerged_exp_struct\u001b[0m\u001b[0;34m[\u001b[0m\u001b[0;34m'folders'\u001b[0m\u001b[0;34m]\u001b[0m\u001b[0;34m[\u001b[0m\u001b[0;34m'ksort'\u001b[0m\u001b[0;34m]\u001b[0m\u001b[0;34m\u001b[0m\u001b[0;34m\u001b[0m\u001b[0m\n\u001b[1;32m      4\u001b[0m \u001b[0;34m\u001b[0m\u001b[0m\n\u001b[0;32m----> 5\u001b[0;31m \u001b[0msort\u001b[0m \u001b[0;34m=\u001b[0m \u001b[0msgle\u001b[0m\u001b[0;34m.\u001b[0m\u001b[0mrun_spikesort\u001b[0m\u001b[0;34m(\u001b[0m\u001b[0mmerged_pd\u001b[0m\u001b[0;34m.\u001b[0m\u001b[0mloc\u001b[0m\u001b[0;34m[\u001b[0m\u001b[0;36m0\u001b[0m\u001b[0;34m,\u001b[0m \u001b[0;34m'rec-ap_0'\u001b[0m\u001b[0;34m]\u001b[0m\u001b[0;34m,\u001b[0m \u001b[0mlogger\u001b[0m\u001b[0;34m,\u001b[0m \u001b[0msort_pickle_path\u001b[0m\u001b[0;34m,\u001b[0m \u001b[0mtmp_loc\u001b[0m\u001b[0;34m,\u001b[0m \u001b[0mrestrict_to_gpu\u001b[0m\u001b[0;34m=\u001b[0m\u001b[0;36m1\u001b[0m\u001b[0;34m,\u001b[0m \u001b[0;34m**\u001b[0m\u001b[0mks2_params\u001b[0m\u001b[0;34m)\u001b[0m\u001b[0;34m\u001b[0m\u001b[0;34m\u001b[0m\u001b[0m\n\u001b[0m",
      "\u001b[0;32m/mnt/cube/earneodo/repos/ceciestunepipe/ceciestunepipe/util/sglxexp.py\u001b[0m in \u001b[0;36mrun_spikesort\u001b[0;34m(recording_extractor, logger, sort_pickle_path, tmp_dir, grouping_property, sorting_method, n_jobs_bin, chunk_mb, restrict_to_gpu, **sort_kwargs)\u001b[0m\n\u001b[1;32m    146\u001b[0m     \u001b[0;31m# get templates and max channel\u001b[0m\u001b[0;34m\u001b[0m\u001b[0;34m\u001b[0m\u001b[0;34m\u001b[0m\u001b[0m\n\u001b[1;32m    147\u001b[0m     \u001b[0mlogger\u001b[0m\u001b[0;34m.\u001b[0m\u001b[0minfo\u001b[0m\u001b[0;34m(\u001b[0m\u001b[0;34m\"Getting templates\"\u001b[0m\u001b[0;34m)\u001b[0m\u001b[0;34m\u001b[0m\u001b[0;34m\u001b[0m\u001b[0m\n\u001b[0;32m--> 148\u001b[0;31m     templates = st.postprocessing.get_unit_templates(\n\u001b[0m\u001b[1;32m    149\u001b[0m         \u001b[0mrecording_extractor\u001b[0m\u001b[0;34m,\u001b[0m\u001b[0;34m\u001b[0m\u001b[0;34m\u001b[0m\u001b[0m\n\u001b[1;32m    150\u001b[0m         \u001b[0msort\u001b[0m\u001b[0;34m,\u001b[0m\u001b[0;34m\u001b[0m\u001b[0;34m\u001b[0m\u001b[0m\n",
      "\u001b[0;32m/mnt/cube/earneodo/envs/pakhi/unepipe/lib/python3.8/site-packages/spiketoolkit/postprocessing/postprocessing_tools.py\u001b[0m in \u001b[0;36mget_unit_templates\u001b[0;34m(recording, sorting, unit_ids, channel_ids, mode, _waveforms, **kwargs)\u001b[0m\n\u001b[1;32m    462\u001b[0m     \u001b[0;32melse\u001b[0m\u001b[0;34m:\u001b[0m\u001b[0;34m\u001b[0m\u001b[0;34m\u001b[0m\u001b[0m\n\u001b[1;32m    463\u001b[0m         \u001b[0;32mif\u001b[0m \u001b[0m_waveforms\u001b[0m \u001b[0;32mis\u001b[0m \u001b[0;32mNone\u001b[0m\u001b[0;34m:\u001b[0m\u001b[0;34m\u001b[0m\u001b[0;34m\u001b[0m\u001b[0m\n\u001b[0;32m--> 464\u001b[0;31m             \u001b[0mwaveforms\u001b[0m \u001b[0;34m=\u001b[0m \u001b[0mget_unit_waveforms\u001b[0m\u001b[0;34m(\u001b[0m\u001b[0mrecording\u001b[0m\u001b[0;34m,\u001b[0m \u001b[0msorting\u001b[0m\u001b[0;34m,\u001b[0m \u001b[0munit_ids\u001b[0m\u001b[0;34m,\u001b[0m \u001b[0mchannel_ids\u001b[0m\u001b[0;34m,\u001b[0m \u001b[0mreturn_idxs\u001b[0m\u001b[0;34m=\u001b[0m\u001b[0;32mFalse\u001b[0m\u001b[0;34m,\u001b[0m \u001b[0;34m**\u001b[0m\u001b[0mkwargs\u001b[0m\u001b[0;34m)\u001b[0m\u001b[0;34m\u001b[0m\u001b[0;34m\u001b[0m\u001b[0m\n\u001b[0m\u001b[1;32m    465\u001b[0m         \u001b[0;32melse\u001b[0m\u001b[0;34m:\u001b[0m\u001b[0;34m\u001b[0m\u001b[0;34m\u001b[0m\u001b[0m\n\u001b[1;32m    466\u001b[0m             \u001b[0mwaveforms\u001b[0m \u001b[0;34m=\u001b[0m \u001b[0m_waveforms\u001b[0m\u001b[0;34m\u001b[0m\u001b[0;34m\u001b[0m\u001b[0m\n",
      "\u001b[0;32m/mnt/cube/earneodo/envs/pakhi/unepipe/lib/python3.8/site-packages/spiketoolkit/postprocessing/postprocessing_tools.py\u001b[0m in \u001b[0;36mget_unit_waveforms\u001b[0;34m(recording, sorting, unit_ids, channel_ids, return_idxs, chunk_size, chunk_mb, **kwargs)\u001b[0m\n\u001b[1;32m    267\u001b[0m         \u001b[0;32melse\u001b[0m\u001b[0;34m:\u001b[0m\u001b[0;34m\u001b[0m\u001b[0;34m\u001b[0m\u001b[0m\n\u001b[1;32m    268\u001b[0m             \u001b[0;31m# waveforms are saved directly to the memmap file if\u001b[0m\u001b[0;34m\u001b[0m\u001b[0;34m\u001b[0m\u001b[0;34m\u001b[0m\u001b[0m\n\u001b[0;32m--> 269\u001b[0;31m             unit_waveforms = Parallel(n_jobs=n_jobs, backend=joblib_backend)(\n\u001b[0m\u001b[1;32m    270\u001b[0m                 delayed(_extract_waveforms_one_chunk)(ii, rec_arg, chunks, unit_ids, n_pad,\n\u001b[1;32m    271\u001b[0m                                                       \u001b[0mtimes_in_all_chunks\u001b[0m\u001b[0;34m,\u001b[0m \u001b[0mstart_spike_idxs\u001b[0m\u001b[0;34m,\u001b[0m\u001b[0;34m\u001b[0m\u001b[0;34m\u001b[0m\u001b[0m\n",
      "\u001b[0;32m/mnt/cube/earneodo/envs/pakhi/unepipe/lib/python3.8/site-packages/joblib/parallel.py\u001b[0m in \u001b[0;36m__call__\u001b[0;34m(self, iterable)\u001b[0m\n\u001b[1;32m   1052\u001b[0m \u001b[0;34m\u001b[0m\u001b[0m\n\u001b[1;32m   1053\u001b[0m             \u001b[0;32mwith\u001b[0m \u001b[0mself\u001b[0m\u001b[0;34m.\u001b[0m\u001b[0m_backend\u001b[0m\u001b[0;34m.\u001b[0m\u001b[0mretrieval_context\u001b[0m\u001b[0;34m(\u001b[0m\u001b[0;34m)\u001b[0m\u001b[0;34m:\u001b[0m\u001b[0;34m\u001b[0m\u001b[0;34m\u001b[0m\u001b[0m\n\u001b[0;32m-> 1054\u001b[0;31m                 \u001b[0mself\u001b[0m\u001b[0;34m.\u001b[0m\u001b[0mretrieve\u001b[0m\u001b[0;34m(\u001b[0m\u001b[0;34m)\u001b[0m\u001b[0;34m\u001b[0m\u001b[0;34m\u001b[0m\u001b[0m\n\u001b[0m\u001b[1;32m   1055\u001b[0m             \u001b[0;31m# Make sure that we get a last message telling us we are done\u001b[0m\u001b[0;34m\u001b[0m\u001b[0;34m\u001b[0m\u001b[0;34m\u001b[0m\u001b[0m\n\u001b[1;32m   1056\u001b[0m             \u001b[0melapsed_time\u001b[0m \u001b[0;34m=\u001b[0m \u001b[0mtime\u001b[0m\u001b[0;34m.\u001b[0m\u001b[0mtime\u001b[0m\u001b[0;34m(\u001b[0m\u001b[0;34m)\u001b[0m \u001b[0;34m-\u001b[0m \u001b[0mself\u001b[0m\u001b[0;34m.\u001b[0m\u001b[0m_start_time\u001b[0m\u001b[0;34m\u001b[0m\u001b[0;34m\u001b[0m\u001b[0m\n",
      "\u001b[0;32m/mnt/cube/earneodo/envs/pakhi/unepipe/lib/python3.8/site-packages/joblib/parallel.py\u001b[0m in \u001b[0;36mretrieve\u001b[0;34m(self)\u001b[0m\n\u001b[1;32m    931\u001b[0m             \u001b[0;32mtry\u001b[0m\u001b[0;34m:\u001b[0m\u001b[0;34m\u001b[0m\u001b[0;34m\u001b[0m\u001b[0m\n\u001b[1;32m    932\u001b[0m                 \u001b[0;32mif\u001b[0m \u001b[0mgetattr\u001b[0m\u001b[0;34m(\u001b[0m\u001b[0mself\u001b[0m\u001b[0;34m.\u001b[0m\u001b[0m_backend\u001b[0m\u001b[0;34m,\u001b[0m \u001b[0;34m'supports_timeout'\u001b[0m\u001b[0;34m,\u001b[0m \u001b[0;32mFalse\u001b[0m\u001b[0;34m)\u001b[0m\u001b[0;34m:\u001b[0m\u001b[0;34m\u001b[0m\u001b[0;34m\u001b[0m\u001b[0m\n\u001b[0;32m--> 933\u001b[0;31m                     \u001b[0mself\u001b[0m\u001b[0;34m.\u001b[0m\u001b[0m_output\u001b[0m\u001b[0;34m.\u001b[0m\u001b[0mextend\u001b[0m\u001b[0;34m(\u001b[0m\u001b[0mjob\u001b[0m\u001b[0;34m.\u001b[0m\u001b[0mget\u001b[0m\u001b[0;34m(\u001b[0m\u001b[0mtimeout\u001b[0m\u001b[0;34m=\u001b[0m\u001b[0mself\u001b[0m\u001b[0;34m.\u001b[0m\u001b[0mtimeout\u001b[0m\u001b[0;34m)\u001b[0m\u001b[0;34m)\u001b[0m\u001b[0;34m\u001b[0m\u001b[0;34m\u001b[0m\u001b[0m\n\u001b[0m\u001b[1;32m    934\u001b[0m                 \u001b[0;32melse\u001b[0m\u001b[0;34m:\u001b[0m\u001b[0;34m\u001b[0m\u001b[0;34m\u001b[0m\u001b[0m\n\u001b[1;32m    935\u001b[0m                     \u001b[0mself\u001b[0m\u001b[0;34m.\u001b[0m\u001b[0m_output\u001b[0m\u001b[0;34m.\u001b[0m\u001b[0mextend\u001b[0m\u001b[0;34m(\u001b[0m\u001b[0mjob\u001b[0m\u001b[0;34m.\u001b[0m\u001b[0mget\u001b[0m\u001b[0;34m(\u001b[0m\u001b[0;34m)\u001b[0m\u001b[0;34m)\u001b[0m\u001b[0;34m\u001b[0m\u001b[0;34m\u001b[0m\u001b[0m\n",
      "\u001b[0;32m/mnt/cube/earneodo/envs/pakhi/unepipe/lib/python3.8/site-packages/joblib/_parallel_backends.py\u001b[0m in \u001b[0;36mwrap_future_result\u001b[0;34m(future, timeout)\u001b[0m\n\u001b[1;32m    540\u001b[0m         AsyncResults.get from multiprocessing.\"\"\"\n\u001b[1;32m    541\u001b[0m         \u001b[0;32mtry\u001b[0m\u001b[0;34m:\u001b[0m\u001b[0;34m\u001b[0m\u001b[0;34m\u001b[0m\u001b[0m\n\u001b[0;32m--> 542\u001b[0;31m             \u001b[0;32mreturn\u001b[0m \u001b[0mfuture\u001b[0m\u001b[0;34m.\u001b[0m\u001b[0mresult\u001b[0m\u001b[0;34m(\u001b[0m\u001b[0mtimeout\u001b[0m\u001b[0;34m=\u001b[0m\u001b[0mtimeout\u001b[0m\u001b[0;34m)\u001b[0m\u001b[0;34m\u001b[0m\u001b[0;34m\u001b[0m\u001b[0m\n\u001b[0m\u001b[1;32m    543\u001b[0m         \u001b[0;32mexcept\u001b[0m \u001b[0mCfTimeoutError\u001b[0m \u001b[0;32mas\u001b[0m \u001b[0me\u001b[0m\u001b[0;34m:\u001b[0m\u001b[0;34m\u001b[0m\u001b[0;34m\u001b[0m\u001b[0m\n\u001b[1;32m    544\u001b[0m             \u001b[0;32mraise\u001b[0m \u001b[0mTimeoutError\u001b[0m \u001b[0;32mfrom\u001b[0m \u001b[0me\u001b[0m\u001b[0;34m\u001b[0m\u001b[0;34m\u001b[0m\u001b[0m\n",
      "\u001b[0;32m/mnt/cube/earneodo/envs/pakhi/unepipe/lib/python3.8/concurrent/futures/_base.py\u001b[0m in \u001b[0;36mresult\u001b[0;34m(self, timeout)\u001b[0m\n\u001b[1;32m    432\u001b[0m                 \u001b[0;32mreturn\u001b[0m \u001b[0mself\u001b[0m\u001b[0;34m.\u001b[0m\u001b[0m__get_result\u001b[0m\u001b[0;34m(\u001b[0m\u001b[0;34m)\u001b[0m\u001b[0;34m\u001b[0m\u001b[0;34m\u001b[0m\u001b[0m\n\u001b[1;32m    433\u001b[0m \u001b[0;34m\u001b[0m\u001b[0m\n\u001b[0;32m--> 434\u001b[0;31m             \u001b[0mself\u001b[0m\u001b[0;34m.\u001b[0m\u001b[0m_condition\u001b[0m\u001b[0;34m.\u001b[0m\u001b[0mwait\u001b[0m\u001b[0;34m(\u001b[0m\u001b[0mtimeout\u001b[0m\u001b[0;34m)\u001b[0m\u001b[0;34m\u001b[0m\u001b[0;34m\u001b[0m\u001b[0m\n\u001b[0m\u001b[1;32m    435\u001b[0m \u001b[0;34m\u001b[0m\u001b[0m\n\u001b[1;32m    436\u001b[0m             \u001b[0;32mif\u001b[0m \u001b[0mself\u001b[0m\u001b[0;34m.\u001b[0m\u001b[0m_state\u001b[0m \u001b[0;32min\u001b[0m \u001b[0;34m[\u001b[0m\u001b[0mCANCELLED\u001b[0m\u001b[0;34m,\u001b[0m \u001b[0mCANCELLED_AND_NOTIFIED\u001b[0m\u001b[0;34m]\u001b[0m\u001b[0;34m:\u001b[0m\u001b[0;34m\u001b[0m\u001b[0;34m\u001b[0m\u001b[0m\n",
      "\u001b[0;32m/mnt/cube/earneodo/envs/pakhi/unepipe/lib/python3.8/threading.py\u001b[0m in \u001b[0;36mwait\u001b[0;34m(self, timeout)\u001b[0m\n\u001b[1;32m    300\u001b[0m         \u001b[0;32mtry\u001b[0m\u001b[0;34m:\u001b[0m    \u001b[0;31m# restore state no matter what (e.g., KeyboardInterrupt)\u001b[0m\u001b[0;34m\u001b[0m\u001b[0;34m\u001b[0m\u001b[0m\n\u001b[1;32m    301\u001b[0m             \u001b[0;32mif\u001b[0m \u001b[0mtimeout\u001b[0m \u001b[0;32mis\u001b[0m \u001b[0;32mNone\u001b[0m\u001b[0;34m:\u001b[0m\u001b[0;34m\u001b[0m\u001b[0;34m\u001b[0m\u001b[0m\n\u001b[0;32m--> 302\u001b[0;31m                 \u001b[0mwaiter\u001b[0m\u001b[0;34m.\u001b[0m\u001b[0macquire\u001b[0m\u001b[0;34m(\u001b[0m\u001b[0;34m)\u001b[0m\u001b[0;34m\u001b[0m\u001b[0;34m\u001b[0m\u001b[0m\n\u001b[0m\u001b[1;32m    303\u001b[0m                 \u001b[0mgotit\u001b[0m \u001b[0;34m=\u001b[0m \u001b[0;32mTrue\u001b[0m\u001b[0;34m\u001b[0m\u001b[0;34m\u001b[0m\u001b[0m\n\u001b[1;32m    304\u001b[0m             \u001b[0;32melse\u001b[0m\u001b[0;34m:\u001b[0m\u001b[0;34m\u001b[0m\u001b[0;34m\u001b[0m\u001b[0m\n",
      "\u001b[0;31mKeyboardInterrupt\u001b[0m: "
     ]
    }
   ],
   "source": [
    "reload(sgle)\n",
    "sort_pickle_path = os.path.join(merged_exp_struct['folders']['ksort'], 'sort_ks2.pickle')\n",
    "tmp_loc = merged_exp_struct['folders']['ksort']\n",
    "\n",
    "sort = sgle.run_spikesort(merged_pd.loc[0, 'rec-ap_0'], logger, sort_pickle_path, tmp_loc, \n",
    "                          restrict_to_gpu=1, \n",
    "                          **ks2_params)\n",
    "\n"
   ]
  },
  {
   "cell_type": "code",
   "execution_count": 75,
   "metadata": {},
   "outputs": [
    {
     "ename": "TypeError",
     "evalue": "'KiloSortSortingExtractor' object is not subscriptable",
     "output_type": "error",
     "traceback": [
      "\u001b[0;31m---------------------------------------------------------------------------\u001b[0m",
      "\u001b[0;31mTypeError\u001b[0m                                 Traceback (most recent call last)",
      "\u001b[0;32m<ipython-input-75-ad60276b4e71>\u001b[0m in \u001b[0;36m<module>\u001b[0;34m\u001b[0m\n\u001b[0;32m----> 1\u001b[0;31m \u001b[0mloaded_sort\u001b[0m \u001b[0;34m=\u001b[0m \u001b[0mse\u001b[0m\u001b[0;34m.\u001b[0m\u001b[0mload_extractor_from_pickle\u001b[0m\u001b[0;34m(\u001b[0m\u001b[0msort_pickle_path\u001b[0m\u001b[0;34m)\u001b[0m\u001b[0;34m\u001b[0m\u001b[0;34m\u001b[0m\u001b[0m\n\u001b[0m",
      "\u001b[0;32m/mnt/cube/earneodo/envs/pakhi/unepipe/lib/python3.8/site-packages/spikeextractors/extraction_tools.py\u001b[0m in \u001b[0;36mload_extractor_from_pickle\u001b[0;34m(pkl_file)\u001b[0m\n\u001b[1;32m    733\u001b[0m         \u001b[0mThe\u001b[0m \u001b[0mloaded\u001b[0m \u001b[0mextractor\u001b[0m \u001b[0mobject\u001b[0m\u001b[0;34m\u001b[0m\u001b[0;34m\u001b[0m\u001b[0m\n\u001b[1;32m    734\u001b[0m     '''\n\u001b[0;32m--> 735\u001b[0;31m     \u001b[0;32mreturn\u001b[0m \u001b[0mBaseExtractor\u001b[0m\u001b[0;34m.\u001b[0m\u001b[0mload_extractor_from_pickle\u001b[0m\u001b[0;34m(\u001b[0m\u001b[0mpkl_file\u001b[0m\u001b[0;34m)\u001b[0m\u001b[0;34m\u001b[0m\u001b[0;34m\u001b[0m\u001b[0m\n\u001b[0m\u001b[1;32m    736\u001b[0m \u001b[0;34m\u001b[0m\u001b[0m\n\u001b[1;32m    737\u001b[0m \u001b[0;34m\u001b[0m\u001b[0m\n",
      "\u001b[0;32m/mnt/cube/earneodo/envs/pakhi/unepipe/lib/python3.8/site-packages/spikeextractors/baseextractor.py\u001b[0m in \u001b[0;36mload_extractor_from_pickle\u001b[0;34m(pkl_file)\u001b[0m\n\u001b[1;32m    316\u001b[0m         \u001b[0;32mwith\u001b[0m \u001b[0mopen\u001b[0m\u001b[0;34m(\u001b[0m\u001b[0mstr\u001b[0m\u001b[0;34m(\u001b[0m\u001b[0mpkl_file\u001b[0m\u001b[0;34m)\u001b[0m\u001b[0;34m,\u001b[0m \u001b[0;34m'rb'\u001b[0m\u001b[0;34m)\u001b[0m \u001b[0;32mas\u001b[0m \u001b[0mf\u001b[0m\u001b[0;34m:\u001b[0m\u001b[0;34m\u001b[0m\u001b[0;34m\u001b[0m\u001b[0m\n\u001b[1;32m    317\u001b[0m             \u001b[0md\u001b[0m \u001b[0;34m=\u001b[0m \u001b[0mpickle\u001b[0m\u001b[0;34m.\u001b[0m\u001b[0mload\u001b[0m\u001b[0;34m(\u001b[0m\u001b[0mf\u001b[0m\u001b[0;34m)\u001b[0m\u001b[0;34m\u001b[0m\u001b[0;34m\u001b[0m\u001b[0m\n\u001b[0;32m--> 318\u001b[0;31m         \u001b[0mextractor\u001b[0m \u001b[0;34m=\u001b[0m \u001b[0m_load_extractor_from_dict\u001b[0m\u001b[0;34m(\u001b[0m\u001b[0md\u001b[0m\u001b[0;34m[\u001b[0m\u001b[0;34m'serialized_dict'\u001b[0m\u001b[0;34m]\u001b[0m\u001b[0;34m)\u001b[0m\u001b[0;34m\u001b[0m\u001b[0;34m\u001b[0m\u001b[0m\n\u001b[0m\u001b[1;32m    319\u001b[0m         \u001b[0;32mif\u001b[0m \u001b[0;34m'properties'\u001b[0m \u001b[0;32min\u001b[0m \u001b[0md\u001b[0m\u001b[0;34m.\u001b[0m\u001b[0mkeys\u001b[0m\u001b[0;34m(\u001b[0m\u001b[0;34m)\u001b[0m\u001b[0;34m:\u001b[0m\u001b[0;34m\u001b[0m\u001b[0;34m\u001b[0m\u001b[0m\n\u001b[1;32m    320\u001b[0m             \u001b[0mextractor\u001b[0m\u001b[0;34m.\u001b[0m\u001b[0m_properties\u001b[0m \u001b[0;34m=\u001b[0m \u001b[0md\u001b[0m\u001b[0;34m[\u001b[0m\u001b[0;34m'properties'\u001b[0m\u001b[0;34m]\u001b[0m\u001b[0;34m\u001b[0m\u001b[0;34m\u001b[0m\u001b[0m\n",
      "\u001b[0;31mTypeError\u001b[0m: 'KiloSortSortingExtractor' object is not subscriptable"
     ]
    }
   ],
   "source": [
    "loaded_sort = se.load_extractor_from_pickle(sort_pickle_path)"
   ]
  },
  {
   "cell_type": "markdown",
   "metadata": {},
   "source": [
    "### loading the pickle is different using the pickle package directly than when using the load_from_pickle"
   ]
  },
  {
   "cell_type": "code",
   "execution_count": 87,
   "metadata": {},
   "outputs": [],
   "source": [
    "sort_pickle_path = os.path.join(merged_exp_struct['folders']['ksort'], 'sort_ks2.pickle')\n",
    "with open(sort_pickle_path, 'rb') as input_pickle:\n",
    "    loaded_sort = pickle.load(input_pickle)"
   ]
  },
  {
   "cell_type": "code",
   "execution_count": 88,
   "metadata": {},
   "outputs": [
    {
     "data": {
      "text/plain": [
       "<spikeextractors.extractors.kilosortextractors.kilosortextractors.KiloSortSortingExtractor at 0x7f4c3c15fdf0>"
      ]
     },
     "execution_count": 88,
     "metadata": {},
     "output_type": "execute_result"
    }
   ],
   "source": [
    "loaded_sort"
   ]
  },
  {
   "cell_type": "code",
   "execution_count": 62,
   "metadata": {
    "collapsed": true
   },
   "outputs": [
    {
     "data": {
      "text/plain": [
       "[0,\n",
       " 1,\n",
       " 2,\n",
       " 3,\n",
       " 4,\n",
       " 5,\n",
       " 6,\n",
       " 7,\n",
       " 8,\n",
       " 9,\n",
       " 10,\n",
       " 11,\n",
       " 12,\n",
       " 13,\n",
       " 14,\n",
       " 15,\n",
       " 16,\n",
       " 17,\n",
       " 18,\n",
       " 19,\n",
       " 20,\n",
       " 21,\n",
       " 22,\n",
       " 23,\n",
       " 24,\n",
       " 25,\n",
       " 26,\n",
       " 27,\n",
       " 29,\n",
       " 30,\n",
       " 31,\n",
       " 32,\n",
       " 33,\n",
       " 34,\n",
       " 35,\n",
       " 36,\n",
       " 37,\n",
       " 38,\n",
       " 39,\n",
       " 40,\n",
       " 41,\n",
       " 43,\n",
       " 44,\n",
       " 45,\n",
       " 46,\n",
       " 47,\n",
       " 49,\n",
       " 50,\n",
       " 51,\n",
       " 52,\n",
       " 53,\n",
       " 54,\n",
       " 55,\n",
       " 56,\n",
       " 57,\n",
       " 58,\n",
       " 60,\n",
       " 61,\n",
       " 62,\n",
       " 63,\n",
       " 64,\n",
       " 65,\n",
       " 66,\n",
       " 67,\n",
       " 68,\n",
       " 69,\n",
       " 70,\n",
       " 71,\n",
       " 73,\n",
       " 74,\n",
       " 75,\n",
       " 76,\n",
       " 77,\n",
       " 78,\n",
       " 79,\n",
       " 80,\n",
       " 81,\n",
       " 82,\n",
       " 83,\n",
       " 84,\n",
       " 85,\n",
       " 86,\n",
       " 87,\n",
       " 88,\n",
       " 89,\n",
       " 90,\n",
       " 91,\n",
       " 92,\n",
       " 94,\n",
       " 95,\n",
       " 96,\n",
       " 97,\n",
       " 98,\n",
       " 99,\n",
       " 100,\n",
       " 101,\n",
       " 102,\n",
       " 103,\n",
       " 104,\n",
       " 105,\n",
       " 106,\n",
       " 107,\n",
       " 108,\n",
       " 109,\n",
       " 111,\n",
       " 112,\n",
       " 113,\n",
       " 114,\n",
       " 115,\n",
       " 116,\n",
       " 117,\n",
       " 118,\n",
       " 119,\n",
       " 120,\n",
       " 121,\n",
       " 122,\n",
       " 123,\n",
       " 124,\n",
       " 125,\n",
       " 126,\n",
       " 127,\n",
       " 128,\n",
       " 129,\n",
       " 130,\n",
       " 131,\n",
       " 132,\n",
       " 133,\n",
       " 134,\n",
       " 136,\n",
       " 138,\n",
       " 139,\n",
       " 140,\n",
       " 141,\n",
       " 142,\n",
       " 143,\n",
       " 144,\n",
       " 145,\n",
       " 146,\n",
       " 147,\n",
       " 148,\n",
       " 149,\n",
       " 150,\n",
       " 151,\n",
       " 152,\n",
       " 153,\n",
       " 154,\n",
       " 155,\n",
       " 156,\n",
       " 157,\n",
       " 158,\n",
       " 159,\n",
       " 160,\n",
       " 161,\n",
       " 162,\n",
       " 163,\n",
       " 164,\n",
       " 165,\n",
       " 166,\n",
       " 167,\n",
       " 168,\n",
       " 169,\n",
       " 170,\n",
       " 171,\n",
       " 172,\n",
       " 173,\n",
       " 174,\n",
       " 175,\n",
       " 176,\n",
       " 177,\n",
       " 178,\n",
       " 179,\n",
       " 180,\n",
       " 181,\n",
       " 182,\n",
       " 183,\n",
       " 184,\n",
       " 185,\n",
       " 186,\n",
       " 187,\n",
       " 188,\n",
       " 189,\n",
       " 190,\n",
       " 191,\n",
       " 192,\n",
       " 193,\n",
       " 194,\n",
       " 196,\n",
       " 197,\n",
       " 198,\n",
       " 199,\n",
       " 200,\n",
       " 204,\n",
       " 205,\n",
       " 207,\n",
       " 208,\n",
       " 209,\n",
       " 211,\n",
       " 212,\n",
       " 213,\n",
       " 214,\n",
       " 215,\n",
       " 216,\n",
       " 217,\n",
       " 218,\n",
       " 225,\n",
       " 226,\n",
       " 227,\n",
       " 231,\n",
       " 232,\n",
       " 233,\n",
       " 235,\n",
       " 236,\n",
       " 237,\n",
       " 238,\n",
       " 241,\n",
       " 242,\n",
       " 243,\n",
       " 244,\n",
       " 245,\n",
       " 248,\n",
       " 249,\n",
       " 250,\n",
       " 252,\n",
       " 253,\n",
       " 256,\n",
       " 258,\n",
       " 259,\n",
       " 260,\n",
       " 261,\n",
       " 262,\n",
       " 263,\n",
       " 270,\n",
       " 271,\n",
       " 272,\n",
       " 273,\n",
       " 274,\n",
       " 278,\n",
       " 281,\n",
       " 282,\n",
       " 283,\n",
       " 284,\n",
       " 285,\n",
       " 286,\n",
       " 287,\n",
       " 288,\n",
       " 290,\n",
       " 291,\n",
       " 293,\n",
       " 294,\n",
       " 296,\n",
       " 297,\n",
       " 298,\n",
       " 299,\n",
       " 300,\n",
       " 301,\n",
       " 302,\n",
       " 303,\n",
       " 304,\n",
       " 305,\n",
       " 306,\n",
       " 307,\n",
       " 308,\n",
       " 309,\n",
       " 310,\n",
       " 311,\n",
       " 312,\n",
       " 313,\n",
       " 314,\n",
       " 315,\n",
       " 316,\n",
       " 318,\n",
       " 319,\n",
       " 320,\n",
       " 323,\n",
       " 324,\n",
       " 326,\n",
       " 327,\n",
       " 328,\n",
       " 329,\n",
       " 330,\n",
       " 331,\n",
       " 334,\n",
       " 335,\n",
       " 336,\n",
       " 338,\n",
       " 339,\n",
       " 340,\n",
       " 341,\n",
       " 342,\n",
       " 343,\n",
       " 344,\n",
       " 345,\n",
       " 346,\n",
       " 347,\n",
       " 349,\n",
       " 350,\n",
       " 352,\n",
       " 354,\n",
       " 355,\n",
       " 357,\n",
       " 359,\n",
       " 360,\n",
       " 364,\n",
       " 365,\n",
       " 366,\n",
       " 368,\n",
       " 371,\n",
       " 372,\n",
       " 375,\n",
       " 376,\n",
       " 377,\n",
       " 378,\n",
       " 379,\n",
       " 380,\n",
       " 381,\n",
       " 382,\n",
       " 383,\n",
       " 384,\n",
       " 385,\n",
       " 386,\n",
       " 387,\n",
       " 388,\n",
       " 389,\n",
       " 390,\n",
       " 391,\n",
       " 392,\n",
       " 393,\n",
       " 394,\n",
       " 395,\n",
       " 396,\n",
       " 397,\n",
       " 398,\n",
       " 399,\n",
       " 400,\n",
       " 401,\n",
       " 402,\n",
       " 403,\n",
       " 404,\n",
       " 405,\n",
       " 406,\n",
       " 407,\n",
       " 408,\n",
       " 409,\n",
       " 410,\n",
       " 411,\n",
       " 412,\n",
       " 413,\n",
       " 414,\n",
       " 415,\n",
       " 416,\n",
       " 417,\n",
       " 418,\n",
       " 419,\n",
       " 420,\n",
       " 421,\n",
       " 422,\n",
       " 423,\n",
       " 425,\n",
       " 426,\n",
       " 427,\n",
       " 428,\n",
       " 429,\n",
       " 430,\n",
       " 431,\n",
       " 432,\n",
       " 433,\n",
       " 434,\n",
       " 435,\n",
       " 436,\n",
       " 437,\n",
       " 438,\n",
       " 439,\n",
       " 440,\n",
       " 441,\n",
       " 442,\n",
       " 443,\n",
       " 444,\n",
       " 445,\n",
       " 446,\n",
       " 447,\n",
       " 448,\n",
       " 449,\n",
       " 450,\n",
       " 451,\n",
       " 452,\n",
       " 453,\n",
       " 454,\n",
       " 455,\n",
       " 456,\n",
       " 457,\n",
       " 458,\n",
       " 459,\n",
       " 460,\n",
       " 461,\n",
       " 462,\n",
       " 463,\n",
       " 464,\n",
       " 465,\n",
       " 466,\n",
       " 467,\n",
       " 468,\n",
       " 469,\n",
       " 470,\n",
       " 471,\n",
       " 472,\n",
       " 473,\n",
       " 474,\n",
       " 475,\n",
       " 476,\n",
       " 477,\n",
       " 478,\n",
       " 479,\n",
       " 480,\n",
       " 481,\n",
       " 482,\n",
       " 483,\n",
       " 484,\n",
       " 485,\n",
       " 486,\n",
       " 487,\n",
       " 488,\n",
       " 489,\n",
       " 490,\n",
       " 491,\n",
       " 492,\n",
       " 493,\n",
       " 494,\n",
       " 495,\n",
       " 496,\n",
       " 497,\n",
       " 498,\n",
       " 499,\n",
       " 500,\n",
       " 501,\n",
       " 502,\n",
       " 503,\n",
       " 504,\n",
       " 505,\n",
       " 506,\n",
       " 507,\n",
       " 508,\n",
       " 509,\n",
       " 510,\n",
       " 511,\n",
       " 512,\n",
       " 513,\n",
       " 514,\n",
       " 515,\n",
       " 516,\n",
       " 517,\n",
       " 518,\n",
       " 519,\n",
       " 520,\n",
       " 521,\n",
       " 522,\n",
       " 523,\n",
       " 524,\n",
       " 525,\n",
       " 526,\n",
       " 527,\n",
       " 528,\n",
       " 529,\n",
       " 530,\n",
       " 531,\n",
       " 532,\n",
       " 533,\n",
       " 534,\n",
       " 535,\n",
       " 536,\n",
       " 537,\n",
       " 538,\n",
       " 539,\n",
       " 540,\n",
       " 541,\n",
       " 542,\n",
       " 543,\n",
       " 544,\n",
       " 545,\n",
       " 546,\n",
       " 547,\n",
       " 548,\n",
       " 549,\n",
       " 550,\n",
       " 551,\n",
       " 552,\n",
       " 553,\n",
       " 554,\n",
       " 555,\n",
       " 556,\n",
       " 557,\n",
       " 558,\n",
       " 559,\n",
       " 560,\n",
       " 561,\n",
       " 562,\n",
       " 563,\n",
       " 564,\n",
       " 565,\n",
       " 566,\n",
       " 567,\n",
       " 568,\n",
       " 569,\n",
       " 570,\n",
       " 571,\n",
       " 572,\n",
       " 574,\n",
       " 575,\n",
       " 576,\n",
       " 577,\n",
       " 578,\n",
       " 579,\n",
       " 580,\n",
       " 581,\n",
       " 582,\n",
       " 583,\n",
       " 584,\n",
       " 585,\n",
       " 586,\n",
       " 587,\n",
       " 588,\n",
       " 589,\n",
       " 590,\n",
       " 591,\n",
       " 592,\n",
       " 593,\n",
       " 594,\n",
       " 595,\n",
       " 596,\n",
       " 597,\n",
       " 598,\n",
       " 599,\n",
       " 600,\n",
       " 601,\n",
       " 602,\n",
       " 603,\n",
       " 604,\n",
       " 605,\n",
       " 606,\n",
       " 607,\n",
       " 608,\n",
       " 609,\n",
       " 610,\n",
       " 611,\n",
       " 612,\n",
       " 613,\n",
       " 614,\n",
       " 615,\n",
       " 616,\n",
       " 617,\n",
       " 618,\n",
       " 619,\n",
       " 620,\n",
       " 621,\n",
       " 622,\n",
       " 623,\n",
       " 624,\n",
       " 625,\n",
       " 626,\n",
       " 627,\n",
       " 628,\n",
       " 629,\n",
       " 630,\n",
       " 631,\n",
       " 632,\n",
       " 633,\n",
       " 634,\n",
       " 635,\n",
       " 636,\n",
       " 637,\n",
       " 638,\n",
       " 639,\n",
       " 640,\n",
       " 641,\n",
       " 642,\n",
       " 643,\n",
       " 644,\n",
       " 645,\n",
       " 646,\n",
       " 647,\n",
       " 648,\n",
       " 649,\n",
       " 650,\n",
       " 651,\n",
       " 652,\n",
       " 653,\n",
       " 654,\n",
       " 655,\n",
       " 656,\n",
       " 657,\n",
       " 658,\n",
       " 659,\n",
       " 660,\n",
       " 661,\n",
       " 662,\n",
       " 663,\n",
       " 664,\n",
       " 665,\n",
       " 666,\n",
       " 667,\n",
       " 668,\n",
       " 669,\n",
       " 670,\n",
       " 671,\n",
       " 672,\n",
       " 673,\n",
       " 674,\n",
       " 675,\n",
       " 676,\n",
       " 677,\n",
       " 678,\n",
       " 679,\n",
       " 680,\n",
       " 681,\n",
       " 682,\n",
       " 683,\n",
       " 684,\n",
       " 685,\n",
       " 686,\n",
       " 687,\n",
       " 688,\n",
       " 689,\n",
       " 690,\n",
       " 691,\n",
       " 692,\n",
       " 693,\n",
       " 694,\n",
       " 695,\n",
       " 696,\n",
       " 697,\n",
       " 698,\n",
       " 699,\n",
       " 700,\n",
       " 701,\n",
       " 702,\n",
       " 703,\n",
       " 704,\n",
       " 705,\n",
       " 706,\n",
       " 707,\n",
       " 708,\n",
       " 709,\n",
       " 710,\n",
       " 711,\n",
       " 712,\n",
       " 713,\n",
       " 714,\n",
       " 715,\n",
       " 716,\n",
       " 717,\n",
       " 718,\n",
       " 719,\n",
       " 720,\n",
       " 721,\n",
       " 722,\n",
       " 723,\n",
       " 724,\n",
       " 725,\n",
       " 726,\n",
       " 727,\n",
       " 728,\n",
       " 729,\n",
       " 730,\n",
       " 731,\n",
       " 732,\n",
       " 733,\n",
       " 734,\n",
       " 735,\n",
       " 736,\n",
       " 737,\n",
       " 738,\n",
       " 739,\n",
       " 740,\n",
       " 741,\n",
       " 742,\n",
       " 743,\n",
       " 744,\n",
       " 745,\n",
       " 746,\n",
       " 747,\n",
       " 748,\n",
       " 749,\n",
       " 750,\n",
       " 751,\n",
       " 752,\n",
       " 753,\n",
       " 754,\n",
       " 755,\n",
       " 756,\n",
       " 757,\n",
       " 758,\n",
       " 759,\n",
       " 760,\n",
       " 761,\n",
       " 762,\n",
       " 763,\n",
       " 764,\n",
       " 765,\n",
       " 766,\n",
       " 767,\n",
       " 768,\n",
       " 769,\n",
       " 770,\n",
       " 771,\n",
       " 772,\n",
       " 773,\n",
       " 774,\n",
       " 775,\n",
       " 776,\n",
       " 777,\n",
       " 778,\n",
       " 779,\n",
       " 780,\n",
       " 781,\n",
       " 782,\n",
       " 783,\n",
       " 784,\n",
       " 785,\n",
       " 786,\n",
       " 787,\n",
       " 788,\n",
       " 789,\n",
       " 790,\n",
       " 791,\n",
       " 792,\n",
       " 793,\n",
       " 794,\n",
       " 795,\n",
       " 796,\n",
       " 797,\n",
       " 798,\n",
       " 799,\n",
       " 800,\n",
       " 801,\n",
       " 802,\n",
       " 803,\n",
       " 804,\n",
       " 805,\n",
       " 806,\n",
       " 807,\n",
       " 808,\n",
       " 809,\n",
       " 810,\n",
       " 811,\n",
       " 812,\n",
       " 813,\n",
       " 815,\n",
       " 816,\n",
       " 817,\n",
       " 818,\n",
       " 819,\n",
       " 820,\n",
       " 821,\n",
       " 822,\n",
       " 823,\n",
       " 824,\n",
       " 825,\n",
       " 826,\n",
       " 827,\n",
       " 828,\n",
       " 829,\n",
       " 830,\n",
       " 831,\n",
       " 832,\n",
       " 833,\n",
       " 834,\n",
       " 835,\n",
       " 836,\n",
       " 837,\n",
       " 838,\n",
       " 839,\n",
       " 840,\n",
       " 841,\n",
       " 842,\n",
       " 843,\n",
       " 844,\n",
       " 845,\n",
       " 846,\n",
       " 847,\n",
       " 848,\n",
       " 849,\n",
       " 850,\n",
       " 851,\n",
       " 852,\n",
       " 853,\n",
       " 854,\n",
       " 855,\n",
       " 856,\n",
       " 857,\n",
       " 858,\n",
       " 859,\n",
       " 860,\n",
       " 861,\n",
       " 862,\n",
       " 863,\n",
       " 864,\n",
       " 865,\n",
       " 866,\n",
       " 867,\n",
       " 868,\n",
       " 869,\n",
       " 870,\n",
       " 871,\n",
       " 872,\n",
       " 873,\n",
       " 874,\n",
       " 875,\n",
       " 876,\n",
       " 877,\n",
       " 878,\n",
       " 879,\n",
       " 880,\n",
       " 881,\n",
       " 882,\n",
       " 883,\n",
       " 884,\n",
       " 885,\n",
       " 886,\n",
       " 887,\n",
       " 888,\n",
       " 889,\n",
       " 890,\n",
       " 891,\n",
       " 892,\n",
       " 893,\n",
       " 894,\n",
       " 895,\n",
       " 896,\n",
       " 897,\n",
       " 898,\n",
       " 899,\n",
       " 900,\n",
       " 901,\n",
       " 902,\n",
       " 903,\n",
       " 904,\n",
       " 905,\n",
       " 906,\n",
       " 907,\n",
       " 908,\n",
       " 909,\n",
       " 910,\n",
       " 911,\n",
       " 912,\n",
       " 913,\n",
       " 914,\n",
       " 915,\n",
       " 916,\n",
       " 917,\n",
       " 918,\n",
       " 919,\n",
       " 920,\n",
       " 921,\n",
       " 922,\n",
       " 923,\n",
       " 924,\n",
       " 925,\n",
       " 926,\n",
       " 927,\n",
       " 928,\n",
       " 929,\n",
       " 930,\n",
       " 931,\n",
       " 932,\n",
       " 933,\n",
       " 934,\n",
       " 935,\n",
       " 936,\n",
       " 937,\n",
       " 938,\n",
       " 939,\n",
       " 940,\n",
       " 941,\n",
       " 942,\n",
       " 943,\n",
       " 944,\n",
       " 945,\n",
       " 946,\n",
       " 947,\n",
       " 948,\n",
       " 949,\n",
       " 950,\n",
       " 951,\n",
       " 952,\n",
       " 953,\n",
       " 954,\n",
       " 955,\n",
       " 956,\n",
       " 957,\n",
       " 958,\n",
       " 959,\n",
       " 960,\n",
       " 961,\n",
       " 962,\n",
       " 963,\n",
       " 964,\n",
       " 965,\n",
       " 966,\n",
       " 967,\n",
       " 968,\n",
       " 969,\n",
       " 970,\n",
       " 971,\n",
       " 972,\n",
       " 973,\n",
       " 974,\n",
       " 975,\n",
       " 976,\n",
       " 977,\n",
       " 978,\n",
       " 979,\n",
       " 980,\n",
       " 981,\n",
       " 982,\n",
       " 983,\n",
       " 984,\n",
       " 985,\n",
       " 986,\n",
       " 987,\n",
       " 988,\n",
       " 989,\n",
       " 990,\n",
       " 991,\n",
       " 992,\n",
       " 993,\n",
       " 994,\n",
       " 995,\n",
       " 996,\n",
       " 997,\n",
       " 998,\n",
       " 999,\n",
       " 1000,\n",
       " 1001,\n",
       " 1002,\n",
       " 1003,\n",
       " 1004,\n",
       " 1005,\n",
       " 1006,\n",
       " 1007,\n",
       " 1008,\n",
       " 1009,\n",
       " 1010,\n",
       " 1011,\n",
       " 1012,\n",
       " 1013,\n",
       " 1014,\n",
       " 1015,\n",
       " 1016,\n",
       " 1017,\n",
       " 1018,\n",
       " 1019,\n",
       " 1020,\n",
       " 1021,\n",
       " 1022,\n",
       " 1023,\n",
       " 1024,\n",
       " 1025,\n",
       " 1026,\n",
       " 1027,\n",
       " 1028,\n",
       " 1029,\n",
       " 1030,\n",
       " 1031,\n",
       " 1032,\n",
       " 1033,\n",
       " 1034,\n",
       " 1035,\n",
       " 1036,\n",
       " 1037,\n",
       " 1038,\n",
       " 1039,\n",
       " 1040,\n",
       " 1041,\n",
       " 1042,\n",
       " 1043,\n",
       " 1044,\n",
       " 1045,\n",
       " 1046,\n",
       " 1047,\n",
       " 1048,\n",
       " 1049,\n",
       " 1050,\n",
       " 1051,\n",
       " 1052,\n",
       " 1053,\n",
       " 1054,\n",
       " 1055,\n",
       " 1056,\n",
       " 1057,\n",
       " 1058,\n",
       " 1059,\n",
       " 1060,\n",
       " 1061,\n",
       " 1062,\n",
       " 1063,\n",
       " 1064,\n",
       " 1065,\n",
       " 1066,\n",
       " 1067,\n",
       " 1068,\n",
       " 1069,\n",
       " ...]"
      ]
     },
     "execution_count": 62,
     "metadata": {},
     "output_type": "execute_result"
    }
   ],
   "source": [
    "loaded_sort.get_unit_ids()"
   ]
  },
  {
   "cell_type": "markdown",
   "metadata": {},
   "source": [
    "### get some spike features"
   ]
  },
  {
   "cell_type": "code",
   "execution_count": null,
   "metadata": {},
   "outputs": [],
   "source": [
    "os.environ[\"TMPDIR\"] = exp_struct['folders']['tmp']"
   ]
  },
  {
   "cell_type": "code",
   "execution_count": null,
   "metadata": {},
   "outputs": [
    {
     "name": "stdout",
     "output_type": "stream",
     "text": [
      "Number of chunks: 12846 - Number of jobs: 32\n"
     ]
    },
    {
     "name": "stderr",
     "output_type": "stream",
     "text": [
      "/mnt/cube/earneodo/envs/pakhi/unepipe/lib/python3.8/site-packages/joblib/externals/loky/process_executor.py:688: UserWarning: A worker stopped while some jobs were given to the executor. This can be caused by a too short worker timeout or by a memory leak.\n",
      "  warnings.warn(\n"
     ]
    }
   ],
   "source": [
    "waveforms = st.postprocessing.get_unit_waveforms(merged_pd.loc[0, 'rec-ap_0'], loaded_sort, \n",
    "                                                 max_spikes_per_unit=200,\n",
    "                                                save_as_feature=True,\n",
    "                                                verbose=True,\n",
    "                                                n_jobs=N_JOBS_MAX)"
   ]
  },
  {
   "cell_type": "code",
   "execution_count": null,
   "metadata": {},
   "outputs": [],
   "source": []
  }
 ],
 "metadata": {
  "kernelspec": {
   "display_name": "cestunepipe",
   "language": "python",
   "name": "cestunepipe"
  },
  "language_info": {
   "codemirror_mode": {
    "name": "ipython",
    "version": 3
   },
   "file_extension": ".py",
   "mimetype": "text/x-python",
   "name": "python",
   "nbconvert_exporter": "python",
   "pygments_lexer": "ipython3",
   "version": "3.8.5"
  }
 },
 "nbformat": 4,
 "nbformat_minor": 4
}
