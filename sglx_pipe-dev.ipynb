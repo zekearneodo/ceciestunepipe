{
 "cells": [
  {
   "cell_type": "markdown",
   "metadata": {},
   "source": [
    "### Pipeline for a single spikeglx session\n",
    "- Load an exctractor for visualization of the data\n",
    "- Sort it using kilosort"
   ]
  },
  {
   "cell_type": "code",
   "execution_count": 1,
   "metadata": {},
   "outputs": [],
   "source": [
    "%matplotlib inline\n",
    "\n",
    "import os\n",
    "import glob\n",
    "import logging\n",
    "import numpy as np\n",
    "from matplotlib import pyplot as plt\n",
    "from importlib import reload\n",
    "\n",
    "logger = logging.getLogger()\n",
    "handler = logging.StreamHandler()\n",
    "formatter = logging.Formatter(\n",
    "        '%(asctime)s %(name)-12s %(levelname)-8s %(message)s')\n",
    "handler.setFormatter(formatter)\n",
    "logger.addHandler(handler)\n",
    "logger.setLevel(logging.INFO)\n",
    "\n",
    "\n",
    "os.environ[\"KILOSORT2_PATH\"] = '/mnt/cube/earneodo/repos/Kilosort2'\n",
    "os.environ[\"KILOSORT_PATH\"] = '/mnt/cube/earneodo/repos/Kilosort'\n",
    "os.environ[\"NPY_MATLAB_PATH\"] = '/mnt/cube/earneodo/repos/npy-matlab'"
   ]
  },
  {
   "cell_type": "code",
   "execution_count": 2,
   "metadata": {},
   "outputs": [],
   "source": [
    "from ceciestunepipe.file import filestructure as et\n",
    "from ceciestunepipe.util import sglxutil as sglu\n",
    "from ceciestunepipe.util.spikeextractors.extractors.spikeglxrecordingextractor import readSGLX as rsgl\n",
    "from ceciestunepipe.util.spikeextractors.extractors.spikeglxrecordingextractor import spikeglxrecordingextractor as sglex"
   ]
  },
  {
   "cell_type": "code",
   "execution_count": 3,
   "metadata": {},
   "outputs": [
    {
     "name": "stderr",
     "output_type": "stream",
     "text": [
      "2021-01-24 12:30:16,289 root         INFO     all modules loaded\n"
     ]
    }
   ],
   "source": [
    "import spikeinterface as si\n",
    "import spikeinterface.extractors as se\n",
    "import spikeinterface.toolkit as st\n",
    "import spikeinterface.sorters as ss\n",
    "import spikeinterface.comparison as sc\n",
    "import spikeinterface.widgets as sw\n",
    "logger.info('all modules loaded')"
   ]
  },
  {
   "cell_type": "markdown",
   "metadata": {},
   "source": [
    "### Session parameters and raw files"
   ]
  },
  {
   "cell_type": "code",
   "execution_count": 4,
   "metadata": {},
   "outputs": [
    {
     "data": {
      "text/plain": [
       "['20201105', '20201106', '20201104']"
      ]
     },
     "execution_count": 4,
     "metadata": {},
     "output_type": "execute_result"
    }
   ],
   "source": [
    "reload(et)\n",
    "\n",
    "bci_locations_dict = {'mnt': os.path.abspath('/mnt/cube/earneodo/bci_zf/neuropix/birds'),\n",
    "                             'local': os.path.abspath('/mnt/cube/earneodo/scratch/raw_data'),\n",
    "                             'fast': os.path.abspath('/mnt/cube/earneodo/scratch')\n",
    "                             }\n",
    "\n",
    "bird = 'z_w12m7_20'\n",
    "all_bird_sess = et.list_sessions(bird, location_dict=bci_locations_dict)\n",
    "all_bird_sess"
   ]
  },
  {
   "cell_type": "code",
   "execution_count": 5,
   "metadata": {},
   "outputs": [],
   "source": [
    "sess_par = {'bird': 'z_w12m7_20',\n",
    "           'sess': '20201104',\n",
    "           'probe': 'probe_0', # probe to sort ('probe_0', 'probe_1') (to lookup in the rig_par which port to extract)\n",
    "           'sort': 2}\n",
    "\n",
    "exp_struct = et.get_exp_struct(sess_par['bird'], sess_par['sess'], sess_par['sort'],\n",
    "                              location_dict=bci_locations_dict)\n",
    "\n",
    "ksort_folder = exp_struct['folders']['ksort']\n",
    "raw_folder = exp_struct['folders']['raw']"
   ]
  },
  {
   "cell_type": "code",
   "execution_count": 6,
   "metadata": {},
   "outputs": [
    {
     "name": "stderr",
     "output_type": "stream",
     "text": [
      "2021-01-24 12:30:16,424 ceciestunepipe.util.sglxutil INFO     {'folders': {'bird': '/mnt/cube/earneodo/bci_zf/neuropix/birds/z_w12m7_20', 'raw': '/mnt/cube/earneodo/bci_zf/neuropix/birds/z_w12m7_20/Ephys/raw/20201104', 'kwik': '/mnt/cube/earneodo/scratch/raw_data/z_w12m7_20/Ephys/kwik/20201104', 'processed': '/mnt/cube/earneodo/bci_zf/neuropix/birds/z_w12m7_20/Ephys/processed/20201104', 'msort': '/mnt/cube/earneodo/scratch/z_w12m7_20/Ephys/msort/20201104', 'ksort': '/mnt/cube/earneodo/scratch/z_w12m7_20/Ephys/ksort/20201104'}, 'files': {'par': '/mnt/cube/earneodo/scratch/z_w12m7_20/Ephys/ksort/20201104/params.json', 'set': '/mnt/cube/earneodo/bci_zf/neuropix/birds/z_w12m7_20/Ephys/raw/20201104/settings.isf', 'rig': '/mnt/cube/earneodo/bci_zf/neuropix/birds/z_w12m7_20/Ephys/raw/20201104/rig.json', 'kwd': '/mnt/cube/earneodo/scratch/raw_data/z_w12m7_20/Ephys/kwik/20201104/stream.kwd', 'kwik': '/mnt/cube/earneodo/scratch/raw_data/z_w12m7_20/Ephys/kwik/20201104/sort_2/spikes.kwik', 'kwe': '/mnt/cube/earneodo/scratch/raw_data/z_w12m7_20/Ephys/kwik/20201104/events.kwe', 'dat_mic': '/mnt/cube/earneodo/bci_zf/neuropix/birds/z_w12m7_20/Ephys/processed/20201104/dat_mic.mat', 'dat_ap': '/mnt/cube/earneodo/bci_zf/neuropix/birds/z_w12m7_20/Ephys/processed/20201104/dat_ap.mat', 'allevents': '/mnt/cube/earneodo/bci_zf/neuropix/birds/z_w12m7_20/Ephys/processed/20201104/dat_all.pkl', 'mda_raw': '/mnt/cube/earneodo/scratch/z_w12m7_20/Ephys/msort/20201104/raw.mda', 'bin_raw': '/mnt/cube/earneodo/scratch/z_w12m7_20/Ephys/ksort/20201104/raw.bin'}}\n"
     ]
    },
    {
     "data": {
      "text/plain": [
       "['20201104_alles',\n",
       " '2500r250a_3500_dir_g0',\n",
       " '2500r250a_3500_dir_g1',\n",
       " '2500r250a_3500_dir_g2']"
      ]
     },
     "execution_count": 6,
     "metadata": {},
     "output_type": "execute_result"
    }
   ],
   "source": [
    "sess_epochs = sglu.list_sgl_epochs(sess_par, location_dict=bci_locations_dict)\n",
    "sess_epochs"
   ]
  },
  {
   "cell_type": "code",
   "execution_count": 7,
   "metadata": {},
   "outputs": [],
   "source": [
    "### pick a session\n",
    "reload(sglu)\n",
    "epoch = sess_epochs[-1] # g2 is the shortest\n",
    "\n",
    "exp_struct = sglu.sgl_struct(sess_par, epoch)\n",
    "sgl_folders, sgl_files = sglu.sgl_file_struct(exp_struct['folders']['raw'])"
   ]
  },
  {
   "cell_type": "code",
   "execution_count": 8,
   "metadata": {},
   "outputs": [
    {
     "data": {
      "text/plain": [
       "{'nidq': '/mnt/cube/earneodo/bci_zf/neuropix/birds/z_w12m7_20/Ephys/raw/20201104/2500r250a_3500_dir_g2',\n",
       " 'imec_0': '/mnt/cube/earneodo/bci_zf/neuropix/birds/z_w12m7_20/Ephys/raw/20201104/2500r250a_3500_dir_g2/2500r250a_3500_dir_g2_imec0'}"
      ]
     },
     "execution_count": 8,
     "metadata": {},
     "output_type": "execute_result"
    }
   ],
   "source": [
    "sgl_folders"
   ]
  },
  {
   "cell_type": "code",
   "execution_count": 9,
   "metadata": {},
   "outputs": [
    {
     "data": {
      "text/plain": [
       "{'nidq': ['/mnt/cube/earneodo/bci_zf/neuropix/birds/z_w12m7_20/Ephys/raw/20201104/2500r250a_3500_dir_g2/2500r250a_3500_dir_g2_t0.nidq.meta'],\n",
       " 'lf_0': ['/mnt/cube/earneodo/bci_zf/neuropix/birds/z_w12m7_20/Ephys/raw/20201104/2500r250a_3500_dir_g2/2500r250a_3500_dir_g2_imec0/2500r250a_3500_dir_g2_t0.imec0.lf.meta'],\n",
       " 'ap_0': ['/mnt/cube/earneodo/bci_zf/neuropix/birds/z_w12m7_20/Ephys/raw/20201104/2500r250a_3500_dir_g2/2500r250a_3500_dir_g2_imec0/2500r250a_3500_dir_g2_t0.imec0.ap.meta']}"
      ]
     },
     "execution_count": 9,
     "metadata": {},
     "output_type": "execute_result"
    }
   ],
   "source": [
    "sgl_files"
   ]
  },
  {
   "cell_type": "code",
   "execution_count": 10,
   "metadata": {},
   "outputs": [],
   "source": [
    "probe_id = int(sess_par['probe'].split('_')[-1])\n",
    "i_run = 0\n",
    "\n",
    "run_meta_files = {k: v[i_run] for k, v in sgl_files.items()}\n",
    "run_recordings = {k: sglex.SpikeGLXRecordingExtractor(sglu.get_data_meta_path(v)[0]) for k, v in run_meta_files.items()}\n",
    "\n",
    "\n",
    "#probe_data_folder = sgl_folder['imec'][probe_id]\n"
   ]
  },
  {
   "cell_type": "markdown",
   "metadata": {},
   "source": [
    "### view the nidaq data"
   ]
  },
  {
   "cell_type": "code",
   "execution_count": 11,
   "metadata": {},
   "outputs": [
    {
     "data": {
      "text/plain": [
       "<ceciestunepipe.util.spikeextractors.extractors.spikeglxrecordingextractor.spikeglxrecordingextractor.SpikeGLXRecordingExtractor at 0x7f2c699c5220>"
      ]
     },
     "execution_count": 11,
     "metadata": {},
     "output_type": "execute_result"
    }
   ],
   "source": [
    "run_recordings['nidq']"
   ]
  },
  {
   "cell_type": "code",
   "execution_count": 12,
   "metadata": {},
   "outputs": [
    {
     "data": {
      "image/png": "[encoded data removed]",
      "text/plain": [
       "<Figure size 432x288 with 1 Axes>"
      ]
     },
     "metadata": {
      "needs_background": "light"
     },
     "output_type": "display_data"
    }
   ],
   "source": [
    "w_ts = sw.plot_timeseries(run_recordings['nidq'], channel_ids=[0, 7], trange=[0,30])"
   ]
  },
  {
   "cell_type": "code",
   "execution_count": 13,
   "metadata": {},
   "outputs": [
    {
     "name": "stderr",
     "output_type": "stream",
     "text": [
      "2021-01-24 12:30:17,097 ceciestunepipe.util.spikeextractors.extractors.spikeglxrecordingextractor.spikeglxrecordingextractor INFO     getting ttl events, chan 0\n"
     ]
    }
   ],
   "source": [
    "nidq_ttl = run_recordings['nidq'].get_ttl_events()"
   ]
  },
  {
   "cell_type": "code",
   "execution_count": 14,
   "metadata": {},
   "outputs": [
    {
     "data": {
      "text/plain": [
       "(385, 334007)"
      ]
     },
     "execution_count": 14,
     "metadata": {},
     "output_type": "execute_result"
    }
   ],
   "source": [
    "run_recordings['lf_0']._raw.shape"
   ]
  },
  {
   "cell_type": "code",
   "execution_count": 15,
   "metadata": {},
   "outputs": [
    {
     "data": {
      "text/plain": [
       "32.039951258506555"
      ]
     },
     "execution_count": 15,
     "metadata": {},
     "output_type": "execute_result"
    }
   ],
   "source": [
    "syn_ch_arr = run_recordings['lf_0']._raw[-1, :]\n",
    "\n",
    "np.mean(syn_ch_arr)"
   ]
  },
  {
   "cell_type": "code",
   "execution_count": 16,
   "metadata": {},
   "outputs": [
    {
     "data": {
      "text/plain": [
       "[<matplotlib.lines.Line2D at 0x7f2b9eb9ba60>]"
      ]
     },
     "execution_count": 16,
     "metadata": {},
     "output_type": "execute_result"
    },
    {
     "data": {
      "image/png": "[encoded data removed]",
      "text/plain": [
       "<Figure size 432x288 with 1 Axes>"
      ]
     },
     "metadata": {
      "needs_background": "light"
     },
     "output_type": "display_data"
    }
   ],
   "source": [
    "plt.plot(syn_ch_arr[:10000])"
   ]
  },
  {
   "cell_type": "code",
   "execution_count": 17,
   "metadata": {},
   "outputs": [
    {
     "data": {
      "text/plain": [
       "{'acqMnMaXaDw': '0,0,8,1',\n",
       " 'appVersion': '20200520',\n",
       " 'fileCreateTime': '2020-11-04T18:02:34',\n",
       " 'fileName': 'D:/experiment/raw_data/z_w12m7_20/20201104/2500r250a_3500_dir_g2/2500r250a_3500_dir_g2_t0.nidq.bin',\n",
       " 'fileSHA1': 'CC5AD211813880AC8B5E381E13E6D358E27D6DCD',\n",
       " 'fileSizeBytes': '60120000',\n",
       " 'fileTimeSecs': '133.60164363689287',\n",
       " 'firstSample': '245080800',\n",
       " 'gateMode': 'Immediate',\n",
       " 'nDataDirs': '1',\n",
       " 'nSavedChans': '9',\n",
       " 'niAiRangeMax': '5',\n",
       " 'niAiRangeMin': '-5',\n",
       " 'niAiTermination': 'RSE',\n",
       " 'niClockLine1': 'Internal',\n",
       " 'niClockSource': 'PXI1Slot4_8ch_Int : 25000.000000',\n",
       " 'niDev1': 'PXI1Slot4',\n",
       " 'niDev1ProductName': 'PXIe-6363',\n",
       " 'niMAChans1': '',\n",
       " 'niMAGain': '1',\n",
       " 'niMNChans1': '',\n",
       " 'niMNGain': '200',\n",
       " 'niMuxFactor': '32',\n",
       " 'niSampRate': '24999.692437',\n",
       " 'niStartEnable': 'false',\n",
       " 'niStartLine': 'PXI1Slot4/port0/line0',\n",
       " 'niXAChans1': '0:7',\n",
       " 'niXDBytes1': '1',\n",
       " 'niXDChans1': '0:7',\n",
       " 'snsMnMaXaDw': '0,0,8,1',\n",
       " 'snsSaveChanSubset': 'all',\n",
       " 'syncNiChan': '0',\n",
       " 'syncNiChanType': '0',\n",
       " 'syncNiThresh': '1.1',\n",
       " 'syncSourceIdx': '3',\n",
       " 'syncSourcePeriod': '1',\n",
       " 'trigMode': 'Immediate',\n",
       " 'typeImEnabled': '1',\n",
       " 'typeNiEnabled': '1',\n",
       " 'typeThis': 'nidq',\n",
       " 'userNotes': '',\n",
       " 'snsChanMap': '(0,0,32,8,1)(XA0;0:0)(XA1;1:1)(XA2;2:2)(XA3;3:3)(XA4;4:4)(XA5;5:5)(XA6;6:6)(XA7;7:7)(XD0;8:8)',\n",
       " 'snsShankMap': '(1,2,0)'}"
      ]
     },
     "execution_count": 17,
     "metadata": {},
     "output_type": "execute_result"
    }
   ],
   "source": [
    "run_recordings['nidq']._meta"
   ]
  },
  {
   "cell_type": "markdown",
   "metadata": {},
   "source": [
    "## The digital and sync channel in the recording\n",
    "- using the new methods in my version of readSGLX, spikeglxrecordingextractor"
   ]
  },
  {
   "cell_type": "code",
   "execution_count": 18,
   "metadata": {},
   "outputs": [
    {
     "name": "stderr",
     "output_type": "stream",
     "text": [
      "2021-01-24 12:30:17,279 ceciestunepipe.util.spikeextractors.extractors.spikeglxrecordingextractor.spikeglxrecordingextractor INFO     getting ttl events, chan 0\n"
     ]
    },
    {
     "data": {
      "text/plain": [
       "[<matplotlib.lines.Line2D at 0x7f2b96a49190>]"
      ]
     },
     "execution_count": 18,
     "metadata": {},
     "output_type": "execute_result"
    },
    {
     "data": {
      "image/png": "[encoded data removed]",
      "text/plain": [
       "<Figure size 432x288 with 1 Axes>"
      ]
     },
     "metadata": {
      "needs_background": "light"
     },
     "output_type": "display_data"
    }
   ],
   "source": [
    "### the digital chan and the syn extraction of the nidq rec\n",
    "\n",
    "nidq_syn = rsgl.ExtractDigital(run_recordings['nidq']._raw, 0, 100000, 0, [0], run_recordings['nidq']._meta)\n",
    "nidq_syn_ttl = run_recordings['nidq'].get_ttl_events(channel_id=0, end_frame=100000)\n",
    "\n",
    "plt.plot(nidq_syn.flatten())\n",
    "plt.plot(*nidq_syn_ttl, '*')"
   ]
  },
  {
   "cell_type": "code",
   "execution_count": 19,
   "metadata": {},
   "outputs": [
    {
     "data": {
      "text/plain": [
       "(array([ 5435, 17935, 30435, 42935, 55435, 67935, 80435, 92934]),\n",
       " array([ 1, -1,  1, -1,  1, -1,  1, -1]))"
      ]
     },
     "execution_count": 19,
     "metadata": {},
     "output_type": "execute_result"
    }
   ],
   "source": [
    "nidq_syn_ttl"
   ]
  },
  {
   "cell_type": "code",
   "execution_count": 20,
   "metadata": {},
   "outputs": [
    {
     "name": "stderr",
     "output_type": "stream",
     "text": [
      "2021-01-24 12:30:17,496 ceciestunepipe.util.spikeextractors.extractors.readSGLX INFO     Extracting digital on imec stream: there is only one channel, if any (SYN) and will be converted from an int16 channel \n",
      "2021-01-24 12:30:17,501 ceciestunepipe.util.spikeextractors.extractors.readSGLX INFO     Thresholf for logical hi is 31.02592\n",
      "2021-01-24 12:30:17,502 ceciestunepipe.util.spikeextractors.extractors.spikeglxrecordingextractor.spikeglxrecordingextractor INFO     getting ttl events, chan 0\n",
      "2021-01-24 12:30:17,503 ceciestunepipe.util.spikeextractors.extractors.readSGLX INFO     Extracting digital on imec stream: there is only one channel, if any (SYN) and will be converted from an int16 channel \n",
      "2021-01-24 12:30:17,504 ceciestunepipe.util.spikeextractors.extractors.readSGLX INFO     Thresholf for logical hi is 31.02592\n"
     ]
    },
    {
     "data": {
      "text/plain": [
       "[<matplotlib.lines.Line2D at 0x7f2b969b2130>]"
      ]
     },
     "execution_count": 20,
     "metadata": {},
     "output_type": "execute_result"
    },
    {
     "data": {
      "image/png": "[encoded data removed]",
      "text/plain": [
       "<Figure size 432x288 with 1 Axes>"
      ]
     },
     "metadata": {
      "needs_background": "light"
     },
     "output_type": "display_data"
    }
   ],
   "source": [
    "### the digital chan and the syn extraction of the nidq rec\n",
    "ap_syn = rsgl.ExtractDigital(run_recordings['ap_0']._raw, 0, 100000, 0, [0], run_recordings['ap_0']._meta)\n",
    "ap_syn_ttl = run_recordings['ap_0'].get_ttl_events(end_frame=100000)\n",
    "\n",
    "plt.plot(ap_syn.flatten())\n",
    "plt.plot(*ap_syn_ttl, '*')"
   ]
  },
  {
   "cell_type": "code",
   "execution_count": null,
   "metadata": {},
   "outputs": [],
   "source": []
  },
  {
   "cell_type": "code",
   "execution_count": 21,
   "metadata": {},
   "outputs": [
    {
     "data": {
      "text/plain": [
       "(5, 7)"
      ]
     },
     "execution_count": 21,
     "metadata": {},
     "output_type": "execute_result"
    }
   ],
   "source": [
    "tuple([5, 7])"
   ]
  },
  {
   "cell_type": "code",
   "execution_count": 22,
   "metadata": {},
   "outputs": [
    {
     "data": {
      "text/plain": [
       "memmap([[  9,   4,  14, ...,  12,  10,  16],\n",
       "        [  9,   1,  -9, ...,   5,   3,   4],\n",
       "        [ -3, -11, -15, ...,  -6, -11, -13],\n",
       "        ...,\n",
       "        [ 39,  37,  37, ...,   2,  -4,   3],\n",
       "        [ 55,  55,  55, ...,  15,  15,  14],\n",
       "        [ 31,  31,  30, ...,  -4,  -6,  -4]], dtype=int16)"
      ]
     },
     "execution_count": 22,
     "metadata": {},
     "output_type": "execute_result"
    }
   ],
   "source": [
    "run_recordings['ap_0'].get_traces()"
   ]
  },
  {
   "cell_type": "code",
   "execution_count": 23,
   "metadata": {},
   "outputs": [],
   "source": [
    "ttl_arr = np.array(ap_syn_ttl)"
   ]
  },
  {
   "cell_type": "code",
   "execution_count": 24,
   "metadata": {},
   "outputs": [
    {
     "data": {
      "text/plain": [
       "array([False,  True, False,  True, False,  True, False])"
      ]
     },
     "execution_count": 24,
     "metadata": {},
     "output_type": "execute_result"
    }
   ],
   "source": [
    "ttl_arr[1]==-1"
   ]
  },
  {
   "cell_type": "code",
   "execution_count": 25,
   "metadata": {},
   "outputs": [
    {
     "data": {
      "text/plain": [
       "array([30000, 30000])"
      ]
     },
     "execution_count": 25,
     "metadata": {},
     "output_type": "execute_result"
    }
   ],
   "source": [
    "np.diff(ttl_arr[0, ttl_arr[1]==-1])"
   ]
  },
  {
   "cell_type": "markdown",
   "metadata": {},
   "source": [
    "### The time syncronization"
   ]
  },
  {
   "cell_type": "code",
   "execution_count": 26,
   "metadata": {},
   "outputs": [],
   "source": [
    "# t_0 is n/s_f (measured s_f)\n",
    "# t_prime is interpolation to a t_ref (the nidaq, for instance, but it should be the one with the highest s_f)"
   ]
  },
  {
   "cell_type": "code",
   "execution_count": 27,
   "metadata": {},
   "outputs": [
    {
     "data": {
      "text/plain": [
       "30000.0"
      ]
     },
     "execution_count": 27,
     "metadata": {},
     "output_type": "execute_result"
    }
   ],
   "source": [
    "def compute_sf(ttl: tuple) -> np.array:\n",
    "    ttl_arr = np.array(ttl)\n",
    "    \n",
    "    # get all the diffs betwenn edge ups and edge donws\n",
    "    all_diff_arr = np.concatenate([np.diff(ttl_arr[0, ttl_arr[1]==j]) for j in [-1, 1]])\n",
    "    \n",
    "    return all_diff_arr\n",
    "\n",
    "np.mean(compute_sf(ap_syn_ttl))"
   ]
  },
  {
   "cell_type": "code",
   "execution_count": 28,
   "metadata": {},
   "outputs": [
    {
     "data": {
      "text/plain": [
       "array([25000, 25000, 24999, 25000, 25000, 25000])"
      ]
     },
     "execution_count": 28,
     "metadata": {},
     "output_type": "execute_result"
    }
   ],
   "source": [
    "compute_sf(nidq_syn_ttl)"
   ]
  },
  {
   "cell_type": "code",
   "execution_count": null,
   "metadata": {},
   "outputs": [],
   "source": []
  },
  {
   "cell_type": "code",
   "execution_count": null,
   "metadata": {},
   "outputs": [],
   "source": []
  },
  {
   "cell_type": "markdown",
   "metadata": {},
   "source": [
    "#### use the imec af as a pattern"
   ]
  },
  {
   "cell_type": "code",
   "execution_count": 29,
   "metadata": {},
   "outputs": [
    {
     "name": "stderr",
     "output_type": "stream",
     "text": [
      "2021-01-24 12:30:17,714 ceciestunepipe.util.spikeextractors.extractors.readSGLX INFO     Extracting digital on imec stream: there is only one channel, if any (SYN) and will be converted from an int16 channel \n",
      "2021-01-24 12:30:17,717 ceciestunepipe.util.spikeextractors.extractors.readSGLX INFO     Thresholf for logical hi is 32.00213333333333\n",
      "2021-01-24 12:30:17,719 ceciestunepipe.util.spikeextractors.extractors.spikeglxrecordingextractor.spikeglxrecordingextractor INFO     getting ttl events, chan 0\n",
      "2021-01-24 12:30:17,720 ceciestunepipe.util.spikeextractors.extractors.readSGLX INFO     Extracting digital on imec stream: there is only one channel, if any (SYN) and will be converted from an int16 channel \n",
      "2021-01-24 12:30:17,721 ceciestunepipe.util.spikeextractors.extractors.readSGLX INFO     Thresholf for logical hi is 32.00213333333333\n"
     ]
    }
   ],
   "source": [
    "signal = 'ap_0'\n",
    "\n",
    "syn_stream = rsgl.ExtractDigital(run_recordings[signal]._raw, 0, 120000, 0, [0], run_recordings[signal]._meta)\n",
    "\n",
    "traces = run_recordings[signal].get_traces(end_frame=120000)\n",
    "n_t = traces.shape[-1]\n",
    "\n",
    "ttl_edge_tuple = run_recordings[signal].get_ttl_events(end_frame=120000)\n",
    "\n",
    "s_f = np.mean(compute_sf(ttl_edge_tuple))\n",
    "\n",
    "\n",
    "t_0 = np.arange(n_t)/s_f\n",
    "\n",
    "t_0_edge = t_0[ttl_edge_tuple[0]]"
   ]
  },
  {
   "cell_type": "code",
   "execution_count": 30,
   "metadata": {},
   "outputs": [],
   "source": [
    "ttl_edge_tuple_pattern = ttl_edge_tuple\n",
    "s_f_pattern = s_f\n",
    "t_pattern = t_0\n",
    "t_pattern_edge = t_0_edge\n",
    "syn_stream_pattern = syn_stream"
   ]
  },
  {
   "cell_type": "code",
   "execution_count": 31,
   "metadata": {},
   "outputs": [
    {
     "data": {
      "text/plain": [
       "[<matplotlib.lines.Line2D at 0x7f2b969968b0>]"
      ]
     },
     "execution_count": 31,
     "metadata": {},
     "output_type": "execute_result"
    },
    {
     "data": {
      "image/png": "[encoded data removed]",
      "text/plain": [
       "<Figure size 432x288 with 1 Axes>"
      ]
     },
     "metadata": {
      "needs_background": "light"
     },
     "output_type": "display_data"
    }
   ],
   "source": [
    "plt.plot(t_0_edge, np.ones_like(t_0_edge), '*')"
   ]
  },
  {
   "cell_type": "code",
   "execution_count": 32,
   "metadata": {},
   "outputs": [],
   "source": [
    "s_f_pattern, t_pattern, ttl_edge_tuple_pattern = run_recordings[signal].get_effective_sf()"
   ]
  },
  {
   "cell_type": "code",
   "execution_count": 33,
   "metadata": {},
   "outputs": [
    {
     "data": {
      "text/plain": [
       "(8,)"
      ]
     },
     "execution_count": 33,
     "metadata": {},
     "output_type": "execute_result"
    }
   ],
   "source": [
    "ttl_edge_tuple_pattern[0].shape"
   ]
  },
  {
   "cell_type": "markdown",
   "metadata": {},
   "source": [
    "#### fit the nidaq to the pattern"
   ]
  },
  {
   "cell_type": "code",
   "execution_count": 34,
   "metadata": {},
   "outputs": [
    {
     "name": "stderr",
     "output_type": "stream",
     "text": [
      "2021-01-24 12:30:17,878 ceciestunepipe.util.spikeextractors.extractors.spikeglxrecordingextractor.spikeglxrecordingextractor INFO     getting ttl events, chan 0\n"
     ]
    }
   ],
   "source": [
    "signal = 'nidq'\n",
    "traces = run_recordings[signal].get_traces(end_frame=100000)\n",
    "syn_stream = rsgl.ExtractDigital(run_recordings[signal]._raw, 0, 100000, 0, [0], run_recordings[signal]._meta)\n",
    "\n",
    "n_t = traces.shape[-1]\n",
    "\n",
    "ttl_edge_tuple = run_recordings[signal].get_ttl_events(end_frame=100000)\n",
    "\n",
    "s_f = np.mean(compute_sf(ttl_edge_tuple))\n",
    "\n",
    "\n",
    "t_0 = np.arange(n_t)/s_f\n",
    "\n",
    "t_0_edge = t_0[ttl_edge_tuple[0]]"
   ]
  },
  {
   "cell_type": "code",
   "execution_count": 35,
   "metadata": {},
   "outputs": [
    {
     "data": {
      "text/plain": [
       "array([5.21733333e-05, 9.21760000e-05, 1.32178667e-04, ...,\n",
       "       1.33619071e+02, 1.33619111e+02, 1.33619151e+02])"
      ]
     },
     "execution_count": 35,
     "metadata": {},
     "output_type": "execute_result"
    }
   ],
   "source": [
    "run_recordings[signal].syn_to_pattern(t_pattern, ttl_edge_tuple_pattern)"
   ]
  },
  {
   "cell_type": "code",
   "execution_count": 36,
   "metadata": {},
   "outputs": [
    {
     "data": {
      "text/plain": [
       "[<matplotlib.lines.Line2D at 0x7f2b96954760>]"
      ]
     },
     "execution_count": 36,
     "metadata": {},
     "output_type": "execute_result"
    },
    {
     "data": {
      "image/png": "[encoded data removed]",
      "text/plain": [
       "<Figure size 432x288 with 1 Axes>"
      ]
     },
     "metadata": {
      "needs_background": "light"
     },
     "output_type": "display_data"
    }
   ],
   "source": [
    "plt.plot(run_recordings[signal]._t_prime)"
   ]
  },
  {
   "cell_type": "markdown",
   "metadata": {},
   "source": [
    "### make the time conversions using the syn_to_sgl_rec_exctractor method"
   ]
  },
  {
   "cell_type": "code",
   "execution_count": 37,
   "metadata": {},
   "outputs": [
    {
     "name": "stderr",
     "output_type": "stream",
     "text": [
      "2021-01-24 12:30:18,326 ceciestunepipe.util.spikeextractors.extractors.spikeglxrecordingextractor.spikeglxrecordingextractor INFO     getting ttl events, chan 0\n",
      "2021-01-24 12:30:18,326 ceciestunepipe.util.spikeextractors.extractors.readSGLX INFO     Extracting digital on imec stream: there is only one channel, if any (SYN) and will be converted from an int16 channel \n",
      "2021-01-24 12:30:18,540 ceciestunepipe.util.spikeextractors.extractors.readSGLX INFO     Thresholf for logical hi is 32.042250674762315\n",
      "2021-01-24 12:30:18,617 ceciestunepipe.util.spikeextractors.extractors.spikeglxrecordingextractor.spikeglxrecordingextractor INFO     getting ttl events, chan 0\n",
      "2021-01-24 12:30:18,618 ceciestunepipe.util.spikeextractors.extractors.readSGLX INFO     Extracting digital on imec stream: there is only one channel, if any (SYN) and will be converted from an int16 channel \n",
      "2021-01-24 12:30:18,622 ceciestunepipe.util.spikeextractors.extractors.readSGLX INFO     Thresholf for logical hi is 32.039951258506555\n"
     ]
    }
   ],
   "source": [
    "run_recordings['lf_0'].syn_to_sgl_rec_exctractor(run_recordings['ap_0'], force_ttl=True)"
   ]
  },
  {
   "cell_type": "code",
   "execution_count": 38,
   "metadata": {},
   "outputs": [
    {
     "name": "stderr",
     "output_type": "stream",
     "text": [
      "2021-01-24 12:30:18,641 ceciestunepipe.util.spikeextractors.extractors.spikeglxrecordingextractor.spikeglxrecordingextractor INFO     getting ttl events, chan 0\n",
      "2021-01-24 12:30:18,642 ceciestunepipe.util.spikeextractors.extractors.readSGLX INFO     Extracting digital on imec stream: there is only one channel, if any (SYN) and will be converted from an int16 channel \n",
      "2021-01-24 12:30:18,691 ceciestunepipe.util.spikeextractors.extractors.readSGLX INFO     Thresholf for logical hi is 32.042250674762315\n",
      "2021-01-24 12:30:18,766 ceciestunepipe.util.spikeextractors.extractors.spikeglxrecordingextractor.spikeglxrecordingextractor INFO     getting ttl events, chan 0\n"
     ]
    }
   ],
   "source": [
    "run_recordings['nidq'].syn_to_sgl_rec_exctractor(run_recordings['ap_0'], force_ttl=True)"
   ]
  },
  {
   "cell_type": "code",
   "execution_count": 39,
   "metadata": {},
   "outputs": [
    {
     "name": "stderr",
     "output_type": "stream",
     "text": [
      "2021-01-24 12:30:18,921 ceciestunepipe.util.spikeextractors.extractors.spikeglxrecordingextractor.spikeglxrecordingextractor INFO     getting ttl events, chan 0\n",
      "2021-01-24 12:30:18,922 ceciestunepipe.util.spikeextractors.extractors.readSGLX INFO     Extracting digital on imec stream: there is only one channel, if any (SYN) and will be converted from an int16 channel \n",
      "2021-01-24 12:30:18,971 ceciestunepipe.util.spikeextractors.extractors.readSGLX INFO     Thresholf for logical hi is 32.042250674762315\n",
      "2021-01-24 12:30:19,043 ceciestunepipe.util.spikeextractors.extractors.spikeglxrecordingextractor.spikeglxrecordingextractor INFO     getting ttl events, chan 0\n",
      "2021-01-24 12:30:19,044 ceciestunepipe.util.spikeextractors.extractors.readSGLX INFO     Extracting digital on imec stream: there is only one channel, if any (SYN) and will be converted from an int16 channel \n",
      "2021-01-24 12:30:19,094 ceciestunepipe.util.spikeextractors.extractors.readSGLX INFO     Thresholf for logical hi is 32.042250674762315\n"
     ]
    }
   ],
   "source": [
    "run_recordings['ap_0'].syn_to_sgl_rec_exctractor(run_recordings['ap_0'], force_ttl=True)"
   ]
  },
  {
   "cell_type": "markdown",
   "metadata": {},
   "source": [
    "### Test the sync"
   ]
  },
  {
   "cell_type": "markdown",
   "metadata": {},
   "source": [
    "##### plot all three times\n",
    "should see different slopes, same end point"
   ]
  },
  {
   "cell_type": "code",
   "execution_count": 40,
   "metadata": {},
   "outputs": [
    {
     "data": {
      "text/plain": [
       "[<matplotlib.lines.Line2D at 0x7f2b968d8a00>]"
      ]
     },
     "execution_count": 40,
     "metadata": {},
     "output_type": "execute_result"
    },
    {
     "data": {
      "image/png": "[encoded data removed]",
      "text/plain": [
       "<Figure size 432x288 with 1 Axes>"
      ]
     },
     "metadata": {
      "needs_background": "light"
     },
     "output_type": "display_data"
    }
   ],
   "source": [
    "plt.plot(run_recordings['ap_0']._t_0, '.')\n",
    "plt.plot(run_recordings['ap_0']._t_prime)\n",
    "plt.plot(run_recordings['nidq']._t_prime)\n",
    "plt.plot(run_recordings['lf_0']._t_prime)"
   ]
  },
  {
   "cell_type": "code",
   "execution_count": 41,
   "metadata": {},
   "outputs": [
    {
     "data": {
      "text/plain": [
       "133.60224073604007"
      ]
     },
     "execution_count": 41,
     "metadata": {},
     "output_type": "execute_result"
    }
   ],
   "source": [
    "run_recordings['lf_0']._t_prime[-1]"
   ]
  },
  {
   "cell_type": "code",
   "execution_count": 42,
   "metadata": {},
   "outputs": [
    {
     "data": {
      "text/plain": [
       "133.60253305596652"
      ]
     },
     "execution_count": 42,
     "metadata": {},
     "output_type": "execute_result"
    }
   ],
   "source": [
    "run_recordings['ap_0']._t_prime[-1]"
   ]
  },
  {
   "cell_type": "code",
   "execution_count": 43,
   "metadata": {},
   "outputs": [
    {
     "data": {
      "text/plain": [
       "133.6015515110232"
      ]
     },
     "execution_count": 43,
     "metadata": {},
     "output_type": "execute_result"
    }
   ],
   "source": [
    "run_recordings['nidq']._t_prime[-1]"
   ]
  },
  {
   "cell_type": "code",
   "execution_count": 45,
   "metadata": {},
   "outputs": [
    {
     "ename": "KeyboardInterrupt",
     "evalue": "",
     "output_type": "error",
     "traceback": [
      "\u001b[0;31m---------------------------------------------------------------------------\u001b[0m",
      "\u001b[0;31mKeyboardInterrupt\u001b[0m                         Traceback (most recent call last)",
      "\u001b[0;32m<ipython-input-45-c761920b81b0>\u001b[0m in \u001b[0;36m<module>\u001b[0;34m\u001b[0m\n\u001b[0;32m----> 1\u001b[0;31m \u001b[0;32mraise\u001b[0m \u001b[0mKeyboardInterrupt\u001b[0m\u001b[0;34m\u001b[0m\u001b[0;34m\u001b[0m\u001b[0m\n\u001b[0m",
      "\u001b[0;31mKeyboardInterrupt\u001b[0m: "
     ]
    }
   ],
   "source": [
    "raise KeyboardInterrupt"
   ]
  },
  {
   "cell_type": "markdown",
   "metadata": {},
   "source": [
    "### plot the square syn signals in the three different timescales"
   ]
  },
  {
   "cell_type": "code",
   "execution_count": 53,
   "metadata": {},
   "outputs": [
    {
     "data": {
      "text/plain": [
       "[<matplotlib.lines.Line2D at 0x7f2b964ecf40>]"
      ]
     },
     "execution_count": 53,
     "metadata": {},
     "output_type": "execute_result"
    },
    {
     "data": {
      "image/png": "[encoded data removed]",
      "text/plain": [
       "<Figure size 432x288 with 1 Axes>"
      ]
     },
     "metadata": {
      "needs_background": "light"
     },
     "output_type": "display_data"
    }
   ],
   "source": [
    "sig = 'lf_0'\n",
    "t_start_plot = 125\n",
    "\n",
    "t_plot = run_recordings[sig]._t_prime > t_start_plot\n",
    "plt.plot(run_recordings[sig]._t_prime[t_plot], run_recordings[sig]._dig[t_plot])\n",
    "\n",
    "sig = 'ap_0'\n",
    "t_plot = run_recordings[sig]._t_prime > t_start_plot\n",
    "plt.plot(run_recordings[sig]._t_prime[t_plot], run_recordings[sig]._dig[t_plot])\n",
    "\n",
    "sig = 'nidq'\n",
    "t_plot = run_recordings[sig]._t_prime > t_start_plot\n",
    "plt.plot(run_recordings[sig]._t_prime[t_plot], run_recordings[sig]._dig[t_plot])"
   ]
  },
  {
   "cell_type": "markdown",
   "metadata": {},
   "source": [
    "#### fit the nidaq to the pattern"
   ]
  },
  {
   "cell_type": "code",
   "execution_count": null,
   "metadata": {},
   "outputs": [],
   "source": [
    "signal = 'lf_0'\n",
    "traces = run_recordings[signal].get_traces(end_frame=100000)\n",
    "syn_stream = rsgl.ExtractDigital(run_recordings[signal]._raw, 0, 100000, 0, [0], run_recordings[signal]._meta)\n",
    "\n",
    "n_t = traces.shape[-1]\n",
    "\n",
    "ttl_edge_tuple = run_recordings[signal].get_ttl_events(end_frame=100000)\n",
    "\n",
    "s_f = np.mean(compute_sf(ttl_edge_tuple))\n",
    "\n",
    "\n",
    "t_0 = np.arange(n_t)/s_f\n",
    "\n",
    "t_0_edge = t_0[ttl_edge_tuple[0]]"
   ]
  },
  {
   "cell_type": "code",
   "execution_count": null,
   "metadata": {},
   "outputs": [],
   "source": [
    "ttl_edge_tuple"
   ]
  },
  {
   "cell_type": "code",
   "execution_count": null,
   "metadata": {},
   "outputs": [],
   "source": [
    "## find the points to interpolate"
   ]
  },
  {
   "cell_type": "code",
   "execution_count": null,
   "metadata": {},
   "outputs": [],
   "source": [
    "t_prime = np.interp(np.arange(n_t), ttl_edge_tuple[0][:t_pattern_edge.size], t_pattern_edge)"
   ]
  },
  {
   "cell_type": "code",
   "execution_count": null,
   "metadata": {},
   "outputs": [],
   "source": [
    "t_prime"
   ]
  },
  {
   "cell_type": "code",
   "execution_count": null,
   "metadata": {},
   "outputs": [],
   "source": [
    "np.arange?"
   ]
  },
  {
   "cell_type": "code",
   "execution_count": null,
   "metadata": {},
   "outputs": [],
   "source": [
    "plt.plot(t_prime)"
   ]
  },
  {
   "cell_type": "code",
   "execution_count": null,
   "metadata": {},
   "outputs": [],
   "source": [
    "### try with scipy interp1d"
   ]
  },
  {
   "cell_type": "code",
   "execution_count": null,
   "metadata": {},
   "outputs": [],
   "source": [
    "from scipy.interpolate import interp1d"
   ]
  },
  {
   "cell_type": "code",
   "execution_count": null,
   "metadata": {},
   "outputs": [],
   "source": [
    "t_interp_f = interp1d(ttl_edge_tuple[0][:t_pattern_edge.size], t_pattern_edge, \n",
    "                      assume_sorted=True, fill_value='extrapolate')\n",
    "\n",
    "t_pprime = t_interp_f(np.arange(n_t))"
   ]
  },
  {
   "cell_type": "code",
   "execution_count": null,
   "metadata": {},
   "outputs": [],
   "source": [
    "plt.plot(t_pprime)\n",
    "plt.plot(t_prime)"
   ]
  },
  {
   "cell_type": "code",
   "execution_count": null,
   "metadata": {},
   "outputs": [],
   "source": [
    "## plot them side by side with the same time scale"
   ]
  },
  {
   "cell_type": "code",
   "execution_count": null,
   "metadata": {},
   "outputs": [],
   "source": [
    "plt.plot(t_pprime, syn_stream.flatten())\n",
    "\n",
    "plt.plot(t_pattern, syn_stream_pattern.flatten())"
   ]
  },
  {
   "cell_type": "markdown",
   "metadata": {},
   "source": [
    "### The sorting"
   ]
  },
  {
   "cell_type": "code",
   "execution_count": null,
   "metadata": {},
   "outputs": [],
   "source": [
    "se.installed_recording_extractor_list"
   ]
  },
  {
   "cell_type": "code",
   "execution_count": null,
   "metadata": {},
   "outputs": [],
   "source": [
    "se.KiloSortRecordingExtractor?"
   ]
  }
 ],
 "metadata": {
  "kernelspec": {
   "display_name": "cestunepipe",
   "language": "python",
   "name": "cestunepipe"
  },
  "language_info": {
   "codemirror_mode": {
    "name": "ipython",
    "version": 3
   },
   "file_extension": ".py",
   "mimetype": "text/x-python",
   "name": "python",
   "nbconvert_exporter": "python",
   "pygments_lexer": "ipython3",
   "version": "3.8.5"
  }
 },
 "nbformat": 4,
 "nbformat_minor": 4
}
