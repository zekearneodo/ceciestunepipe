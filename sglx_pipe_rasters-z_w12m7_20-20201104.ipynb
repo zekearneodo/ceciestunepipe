{
 "cells": [
  {
   "cell_type": "markdown",
   "id": "necessary-parts",
   "metadata": {},
   "source": [
    "### Rasters for a single spikeglx session\n",
    "- Load an exctractor for visualization of the data\n",
    "- Load the sorts as in notebook sglx_pipe-dev-sort-rasters--z_w12m7_20-20201104\n",
    "- load the mot_dict\n",
    "- plot rasters\n",
    "- export to npy for brad\n",
    "\n",
    "### SGL spikeextractor needs spikeextractors==0.9.3, spikeinterface==0.12.0. \n",
    "Will break with other versions.\n",
    "TODO: make sure my spikeglxrecordingextractor works with newer spikeextractors or get rid of it and adapt theirs.\n",
    "(the why i did my own is because theirs had an obscure way of reading the digital channels in the nidaqs)."
   ]
  },
  {
   "cell_type": "code",
   "execution_count": 19,
   "id": "indian-anchor",
   "metadata": {},
   "outputs": [],
   "source": [
    "%matplotlib inline\n",
    "\n",
    "import os\n",
    "import glob\n",
    "import logging\n",
    "import numpy as np\n",
    "import pandas as pd\n",
    "from scipy.io import wavfile\n",
    "from scipy import signal\n",
    "import pickle\n",
    "\n",
    "from matplotlib import pyplot as plt\n",
    "from importlib import reload\n",
    "\n",
    "logger = logging.getLogger()\n",
    "handler = logging.StreamHandler()\n",
    "formatter = logging.Formatter(\n",
    "        '%(asctime)s %(name)-12s %(levelname)-8s %(message)s')\n",
    "handler.setFormatter(formatter)\n",
    "logger.addHandler(handler)\n",
    "logger.setLevel(logging.INFO)"
   ]
  },
  {
   "cell_type": "code",
   "execution_count": 2,
   "id": "contained-charles",
   "metadata": {},
   "outputs": [
    {
     "name": "stdout",
     "output_type": "stream",
     "text": [
      "h5py version > 2.10.0. Some extractors might not work properly. It is recommended to downgrade to version 2.10.0: \n",
      ">>> pip install h5py==2.10.0\n"
     ]
    }
   ],
   "source": [
    "from ceciestunepipe.file import filestructure as et\n",
    "from ceciestunepipe.util import sglxutil as sglu\n",
    "from ceciestunepipe.util.spikeextractors.extractors.spikeglxrecordingextractor import readSGLX as rsgl\n",
    "from ceciestunepipe.util.spikeextractors.extractors.spikeglxrecordingextractor import spikeglxrecordingextractor as sglex"
   ]
  },
  {
   "cell_type": "code",
   "execution_count": 3,
   "id": "proud-oxide",
   "metadata": {},
   "outputs": [
    {
     "name": "stderr",
     "output_type": "stream",
     "text": [
      "2021-08-27 13:52:03,131 root         INFO     all modules loaded\n"
     ]
    }
   ],
   "source": [
    "import spikeinterface as si\n",
    "import spikeinterface.extractors as se\n",
    "import spikeinterface.toolkit as st\n",
    "import spikeinterface.sorters as ss\n",
    "import spikeinterface.comparison as sc\n",
    "import spikeinterface.widgets as sw\n",
    "logger.info('all modules loaded')"
   ]
  },
  {
   "cell_type": "code",
   "execution_count": 5,
   "id": "continued-generic",
   "metadata": {},
   "outputs": [
    {
     "name": "stderr",
     "output_type": "stream",
     "text": [
      "2021-08-27 13:52:36,670 ceciestunepipe.util.sglxutil INFO     {'folders': {'bird': '/mnt/cube/earneodo/bci_zf/neuropix/birds/z_w12m7_20', 'raw': '/mnt/cube/earneodo/bci_zf/neuropix/birds/z_w12m7_20/Ephys/raw/20201104', 'kwik': '/mnt/sphere/earneodo/bci_zf/ss_data/z_w12m7_20/Ephys/kwik/20201104', 'processed': '/mnt/cube/earneodo/bci_zf/neuropix/birds/z_w12m7_20/Ephys/processed/20201104', 'derived': '/mnt/cube/earneodo/bci_zf/neuropix/birds/z_w12m7_20/Ephys/derived/20201104', 'tmp': '/scratch/earneodo/tmp/tmp', 'msort': '/scratch/earneodo/tmp/z_w12m7_20/Ephys/msort/20201104', 'ksort': '/scratch/earneodo/tmp/z_w12m7_20/Ephys/ksort/20201104'}, 'files': {'par': '/scratch/earneodo/tmp/z_w12m7_20/Ephys/ksort/20201104/params.json', 'set': '/mnt/cube/earneodo/bci_zf/neuropix/birds/z_w12m7_20/Ephys/raw/20201104/settings.isf', 'rig': '/mnt/cube/earneodo/bci_zf/neuropix/birds/z_w12m7_20/Ephys/raw/20201104/rig.json', 'kwd': '/mnt/sphere/earneodo/bci_zf/ss_data/z_w12m7_20/Ephys/kwik/20201104/stream.kwd', 'kwik': '/mnt/sphere/earneodo/bci_zf/ss_data/z_w12m7_20/Ephys/kwik/20201104/sort_2/spikes.kwik', 'kwe': '/mnt/sphere/earneodo/bci_zf/ss_data/z_w12m7_20/Ephys/kwik/20201104/events.kwe', 'dat_mic': '/mnt/cube/earneodo/bci_zf/neuropix/birds/z_w12m7_20/Ephys/processed/20201104/dat_mic.mat', 'dat_ap': '/mnt/cube/earneodo/bci_zf/neuropix/birds/z_w12m7_20/Ephys/processed/20201104/dat_ap.mat', 'allevents': '/mnt/cube/earneodo/bci_zf/neuropix/birds/z_w12m7_20/Ephys/processed/20201104/dat_all.pkl', 'wav_mic': '/mnt/cube/earneodo/bci_zf/neuropix/birds/z_w12m7_20/Ephys/derived/20201104/wav_mic.wav', 'mda_raw': '/scratch/earneodo/tmp/z_w12m7_20/Ephys/msort/20201104/raw.mda', 'bin_raw': '/scratch/earneodo/tmp/z_w12m7_20/Ephys/ksort/20201104/raw.bin'}}\n"
     ]
    },
    {
     "data": {
      "text/plain": [
       "['20201104_alles',\n",
       " '2500r250a_3500_dir_g0',\n",
       " '2500r250a_3500_dir_g1',\n",
       " '2500r250a_3500_dir_g2']"
      ]
     },
     "execution_count": 5,
     "metadata": {},
     "output_type": "execute_result"
    }
   ],
   "source": [
    "reload(et)\n",
    "\n",
    "sess_par = {'bird': 'z_w12m7_20',\n",
    "           'sess': '20201104',\n",
    "           'probe': 'probe_0', # probe to sort ('probe_0', 'probe_1') (to lookup in the rig_par which port to extract)\n",
    "           'sort': 2}\n",
    "\n",
    "exp_struct = et.get_exp_struct(sess_par['bird'], sess_par['sess'], sess_par['sort'])\n",
    "\n",
    "ksort_folder = exp_struct['folders']['ksort']\n",
    "raw_folder = exp_struct['folders']['raw']\n",
    "\n",
    "sess_epochs = sglu.list_sgl_epochs(sess_par)\n",
    "sess_epochs"
   ]
  },
  {
   "cell_type": "code",
   "execution_count": 7,
   "id": "flexible-wonder",
   "metadata": {},
   "outputs": [],
   "source": [
    "### pick a session\n",
    "reload(et)\n",
    "reload(sglu)\n",
    "epoch = sess_epochs[1] # g2 is the shortest\n",
    "\n",
    "exp_struct = sglu.sgl_struct(sess_par, epoch)\n",
    "sgl_folders, sgl_files = sglu.sgl_file_struct(exp_struct['folders']['raw'])\n",
    "files_pd = pd.DataFrame(sgl_files)"
   ]
  },
  {
   "cell_type": "markdown",
   "id": "split-certification",
   "metadata": {},
   "source": [
    "### get the recordings just in case"
   ]
  },
  {
   "cell_type": "code",
   "execution_count": 9,
   "id": "least-timothy",
   "metadata": {},
   "outputs": [],
   "source": [
    "probe_id = int(sess_par['probe'].split('_')[-1])\n",
    "i_run = 0\n",
    "\n",
    "run_meta_files = {k: v[i_run] for k, v in sgl_files.items()}\n",
    "run_recordings = {k: sglex.SpikeGLXRecordingExtractor(sglu.get_data_meta_path(v)[0]) for k, v in run_meta_files.items()}\n"
   ]
  },
  {
   "cell_type": "markdown",
   "id": "satisfactory-dietary",
   "metadata": {},
   "source": [
    "### load the sort and the motif dictionary"
   ]
  },
  {
   "cell_type": "code",
   "execution_count": 8,
   "id": "front-government",
   "metadata": {},
   "outputs": [],
   "source": [
    "from ceciestunepipe.util.spike import kilosort as ks\n",
    "from ceciestunepipe.util.sound import spectral as sp\n",
    "from ceciestunepipe.util import plotutil as pu\n",
    "plt.rcParams['lines.linewidth'] = 0.1\n",
    "\n",
    "axes_pars = {'axes.labelpad': 5,\n",
    "             'axes.titlepad': 5,\n",
    "             'axes.titlesize': 'small',\n",
    "             'axes.grid': False,\n",
    "             'axes.xmargin': 0,\n",
    "             'axes.ymargin': 0}\n",
    "\n",
    "plt.rcParams.update(axes_pars)"
   ]
  },
  {
   "cell_type": "markdown",
   "id": "accurate-insertion",
   "metadata": {},
   "source": [
    "###### load sort"
   ]
  },
  {
   "cell_type": "code",
   "execution_count": 20,
   "id": "immune-vietnamese",
   "metadata": {},
   "outputs": [],
   "source": [
    "spike_pickle_path = os.path.join(exp_struct['folders']['processed'], 'spk_df.pkl')\n",
    "clu_pickle_path = os.path.join(exp_struct['folders']['processed'], 'clu_df.pkl')\n",
    "\n",
    "spk_df = pd.read_pickle(spike_pickle_path)\n",
    "clu_df = pd.read_pickle(clu_pickle_path)"
   ]
  },
  {
   "cell_type": "markdown",
   "id": "charitable-reward",
   "metadata": {},
   "source": [
    "##### load motif dictionary"
   ]
  },
  {
   "cell_type": "code",
   "execution_count": 18,
   "id": "undefined-playlist",
   "metadata": {},
   "outputs": [
    {
     "name": "stderr",
     "output_type": "stream",
     "text": [
      "2021-08-27 14:23:39,729 root         INFO     Loading mot_dict from /mnt/cube/earneodo/bci_zf/neuropix/birds/z_w12m7_20/Ephys/processed/20201104/2500r250a_3500_dir_g0/mot_dict.pkl\n"
     ]
    },
    {
     "data": {
      "text/plain": [
       "{'template': memmap([ 1650,  1551,   631, ..., -1943, -1825, -1245], dtype=int16),\n",
       " 's_f': 25000,\n",
       " 's_f_nidq': 24999.666666666668,\n",
       " 's_f_ap_0': 30000.0,\n",
       " 'start_ms': array([  12830.17106895,   13350.17800237,   13872.18496247,\n",
       "          14710.19613595,   15556.2074161 ,   16436.21914959,\n",
       "        7315281.53708716, 7316353.55138068, 7317229.56306084,\n",
       "        7318138.575181  ]),\n",
       " 'start_sample_naive': array([   320750,    333750,    346800,    367750,    388900,    410900,\n",
       "        182879600, 182906400, 182928300, 182951025]),\n",
       " 'start_sample_nidq': array([   320751,    333751,    346801,    367751,    388901,    410901,\n",
       "        182879601, 182906401, 182928301, 182951026]),\n",
       " 'start_t_0': array([  12.83021107,   13.350218  ,   13.87222496,   14.71023614,\n",
       "          15.55624742,   16.43625915, 7315.28157709, 7316.35359138,\n",
       "        7317.22960306, 7318.13861518]),\n",
       " 'start_t_ap_0': array([  12.83021251,   13.35023873,   13.87221502,   14.71021434,\n",
       "          15.55626437,   16.43627212, 7315.26699596, 7316.33899532,\n",
       "        7317.21499361, 7318.12398729]),\n",
       " 'start_sample_ap_0': array([   384907,    400508,    416167,    441307,    466689,    493089,\n",
       "        219458073, 219490233, 219516513, 219543782])}"
      ]
     },
     "execution_count": 18,
     "metadata": {},
     "output_type": "execute_result"
    }
   ],
   "source": [
    "mot_dict_path = os.path.join(exp_struct['folders']['processed'], 'mot_dict.pkl')\n",
    "logger.info('Loading mot_dict from {}'.format(mot_dict_path))\n",
    "\n",
    "with open(mot_dict_path, 'rb') as handle:\n",
    "    mot_dict = pickle.load(handle)\n",
    "\n",
    "mot_dict"
   ]
  },
  {
   "cell_type": "markdown",
   "id": "deadly-plastic",
   "metadata": {},
   "source": [
    "#####  make a raster"
   ]
  },
  {
   "cell_type": "code",
   "execution_count": 29,
   "id": "armed-calcium",
   "metadata": {},
   "outputs": [],
   "source": [
    "## the start times synched to the spike time base (ap_0, comes from sglx_pipe-dev-sort-rasters notebook)\n",
    "mot_samples = mot_dict['start_sample_ap_0']\n",
    "mot_s_f = mot_dict['s_f']\n",
    "ap_s_f = mot_dict['s_f_ap_0']"
   ]
  },
  {
   "cell_type": "code",
   "execution_count": 30,
   "id": "graduate-devil",
   "metadata": {},
   "outputs": [
    {
     "data": {
      "text/plain": [
       "array([   384907,    400508,    416167,    441307,    466689,    493089,\n",
       "       219458073, 219490233, 219516513, 219543782])"
      ]
     },
     "execution_count": 30,
     "metadata": {},
     "output_type": "execute_result"
    }
   ],
   "source": [
    "mot_samples"
   ]
  },
  {
   "cell_type": "code",
   "execution_count": 31,
   "id": "efficient-birthday",
   "metadata": {},
   "outputs": [],
   "source": [
    "## get the actural raster for some clusters\n",
    "def get_window_spikes(spk_df, clu_list, start_sample, end_sample):\n",
    "    onset = start_sample\n",
    "    offset = end_sample\n",
    "    \n",
    "    spk_t = spk_df.loc[spk_df['times'].between(onset, offset, inclusive=False)]\n",
    "    \n",
    "    spk_arr = np.zeros((clu_list.size, offset - onset))\n",
    "\n",
    "    for i, clu_id in enumerate(clu_list):\n",
    "        clu_spk_t = spk_t.loc[spk_t['clusters']==clu_id, 'times'].values\n",
    "        spk_arr[i, clu_spk_t - onset] = 1\n",
    "    return spk_arr\n",
    "    \n",
    "def get_rasters(spk_df, clu_list, start_samp_arr, span_samples):\n",
    "    # returns np.array([n_clu, n_sample, n_trial])\n",
    "    \n",
    "    # get the window spikes for all of the clusters, for each of the start_samp_arr\n",
    "    spk_arr_list = [get_window_spikes(spk_df, clu_list, x, x+span_samples) for x in start_samp_arr]\n",
    "    return np.stack(spk_arr_list, axis=-1)"
   ]
  },
  {
   "cell_type": "markdown",
   "id": "differential-feedback",
   "metadata": {},
   "source": [
    "##### collect all good, ra units"
   ]
  },
  {
   "cell_type": "code",
   "execution_count": 34,
   "id": "otherwise-arrow",
   "metadata": {},
   "outputs": [],
   "source": [
    "t_pre = - 0.5\n",
    "t_post = 1.5\n",
    "t_pre_samp = int(t_pre * ap_s_f)\n",
    "t_post_samp = int(t_post * ap_s_f)"
   ]
  },
  {
   "cell_type": "code",
   "execution_count": 35,
   "id": "ongoing-amateur",
   "metadata": {},
   "outputs": [],
   "source": [
    "clu_list = np.unique(clu_df.loc[(clu_df['KSLabel']=='good') & (clu_df['nucleus'].isin(['ra'])), \n",
    "                                'cluster_id'])\n",
    "\n"
   ]
  },
  {
   "cell_type": "code",
   "execution_count": 36,
   "id": "pending-arlington",
   "metadata": {},
   "outputs": [
    {
     "name": "stderr",
     "output_type": "stream",
     "text": [
      "2021-08-27 14:43:52,784 numexpr.utils INFO     Note: NumExpr detected 32 cores but \"NUMEXPR_MAX_THREADS\" not set, so enforcing safe limit of 8.\n",
      "2021-08-27 14:43:52,784 numexpr.utils INFO     Note: NumExpr detected 32 cores but \"NUMEXPR_MAX_THREADS\" not set, so enforcing safe limit of 8.\n",
      "2021-08-27 14:43:52,785 numexpr.utils INFO     NumExpr defaulting to 8 threads.\n",
      "2021-08-27 14:43:52,785 numexpr.utils INFO     NumExpr defaulting to 8 threads.\n"
     ]
    }
   ],
   "source": [
    "rast_arr = get_rasters(spk_df, clu_list, mot_dict['start_sample_ap_0'] + t_pre_samp, t_post_samp - t_pre_samp)"
   ]
  },
  {
   "cell_type": "code",
   "execution_count": 37,
   "id": "fifty-fitting",
   "metadata": {
    "collapsed": true
   },
   "outputs": [
    {
     "ename": "NameError",
     "evalue": "name 'ap_start' is not defined",
     "output_type": "error",
     "traceback": [
      "\u001b[0;31m---------------------------------------------------------------------------\u001b[0m",
      "\u001b[0;31mNameError\u001b[0m                                 Traceback (most recent call last)",
      "\u001b[0;32m<ipython-input-37-2c44d1ee4803>\u001b[0m in \u001b[0;36m<module>\u001b[0;34m\u001b[0m\n\u001b[1;32m     18\u001b[0m     \u001b[0;32mreturn\u001b[0m \u001b[0max\u001b[0m\u001b[0;34m\u001b[0m\u001b[0;34m\u001b[0m\u001b[0m\n\u001b[1;32m     19\u001b[0m \u001b[0;34m\u001b[0m\u001b[0m\n\u001b[0;32m---> 20\u001b[0;31m \u001b[0mspk_arr\u001b[0m \u001b[0;34m=\u001b[0m \u001b[0mget_window_spikes\u001b[0m\u001b[0;34m(\u001b[0m\u001b[0mspk_df\u001b[0m\u001b[0;34m,\u001b[0m \u001b[0mclu_list\u001b[0m\u001b[0;34m,\u001b[0m \u001b[0mint\u001b[0m\u001b[0;34m(\u001b[0m\u001b[0map_start\u001b[0m \u001b[0;34m+\u001b[0m \u001b[0mpre_sec\u001b[0m\u001b[0;34m*\u001b[0m\u001b[0map_sf\u001b[0m\u001b[0;34m)\u001b[0m\u001b[0;34m,\u001b[0m \u001b[0mint\u001b[0m\u001b[0;34m(\u001b[0m\u001b[0map_start\u001b[0m \u001b[0;34m+\u001b[0m \u001b[0mpost_sec\u001b[0m\u001b[0;34m*\u001b[0m\u001b[0map_sf\u001b[0m\u001b[0;34m)\u001b[0m\u001b[0;34m)\u001b[0m\u001b[0;34m\u001b[0m\u001b[0;34m\u001b[0m\u001b[0m\n\u001b[0m\u001b[1;32m     21\u001b[0m \u001b[0;34m\u001b[0m\u001b[0m\n\u001b[1;32m     22\u001b[0m \u001b[0mfig\u001b[0m\u001b[0;34m,\u001b[0m \u001b[0max\u001b[0m \u001b[0;34m=\u001b[0m \u001b[0mplt\u001b[0m\u001b[0;34m.\u001b[0m\u001b[0msubplots\u001b[0m\u001b[0;34m(\u001b[0m\u001b[0mnrows\u001b[0m\u001b[0;34m=\u001b[0m\u001b[0;36m2\u001b[0m\u001b[0;34m,\u001b[0m \u001b[0mgridspec_kw\u001b[0m\u001b[0;34m=\u001b[0m\u001b[0;34m{\u001b[0m\u001b[0;34m'height_ratios'\u001b[0m\u001b[0;34m:\u001b[0m \u001b[0;34m[\u001b[0m\u001b[0;36m1\u001b[0m\u001b[0;34m,\u001b[0m \u001b[0;36m10\u001b[0m\u001b[0;34m]\u001b[0m\u001b[0;34m}\u001b[0m\u001b[0;34m,\u001b[0m \u001b[0mfigsize\u001b[0m\u001b[0;34m=\u001b[0m\u001b[0;34m(\u001b[0m\u001b[0;36m10\u001b[0m\u001b[0;34m,\u001b[0m \u001b[0;36m22\u001b[0m\u001b[0;34m)\u001b[0m\u001b[0;34m)\u001b[0m\u001b[0;34m\u001b[0m\u001b[0;34m\u001b[0m\u001b[0m\n",
      "\u001b[0;31mNameError\u001b[0m: name 'ap_start' is not defined"
     ]
    }
   ],
   "source": [
    "def plot_as_raster(x, ax=None, t_0=None):\n",
    "    #x is [n_events, n_timestamps] array\n",
    "    n_y, n_t = x.shape\n",
    "    \n",
    "    row = np.ones(n_t) + 1\n",
    "    t = np.arange(n_t)\n",
    "    col = np.arange(n_y)\n",
    "    \n",
    "    frame = col[:, np.newaxis] + row[np.newaxis, :]\n",
    "    x[x==0] = np.nan\n",
    "    \n",
    "    if ax is None:\n",
    "        fig, ax = plt.subplots()\n",
    "    \n",
    "    raster = ax.scatter(t * x, frame * x, marker='.', facecolor='k', s=1, rasterized=False)\n",
    "    if t_0 is not None:\n",
    "        ax.axvline(x=t_0, color='red')\n",
    "    return ax\n",
    "\n",
    "spk_arr = get_window_spikes(spk_df, clu_list, int(ap_start + pre_sec*ap_sf), int(ap_start + post_sec*ap_sf))\n",
    "\n",
    "fig, ax = plt.subplots(nrows=2, gridspec_kw={'height_ratios': [1, 10]}, figsize=(10, 22))\n",
    "\n",
    "f, t, sxx = sp.ms_spectrogram(mic_arr.flatten(), nidq_sf)\n",
    "\n",
    "#ax[0].plot(mic_arr.flatten())\n",
    "\n",
    "ax[0].pcolormesh(t, f, np.log(sxx), cmap='inferno')\n",
    "\n",
    "plot_as_raster(spk_arr, t_0=int(-pre_sec*ap_sf), ax=ax[1])\n",
    "plt.tight_layout()"
   ]
  },
  {
   "cell_type": "code",
   "execution_count": 38,
   "id": "horizontal-appliance",
   "metadata": {
    "collapsed": true
   },
   "outputs": [
    {
     "data": {
      "image/png": "[encoded data removed]",
      "text/plain": [
       "<Figure size 720x1080 with 10 Axes>"
      ]
     },
     "metadata": {
      "needs_background": "light"
     },
     "output_type": "display_data"
    }
   ],
   "source": [
    "fig, ax_arr = plt.subplots(nrows=10, figsize=[10, 15], sharex=True)\n",
    "\n",
    "for i_rast, clu_idx in enumerate(range(20, 30)):    \n",
    "    #one_raster_ms = coarse(rast_arr[clu_idx].T, samples_in_ms)\n",
    "    #plt.imshow(one_raster_ms[::-1], aspect='auto', cmap='inferno')\n",
    "    plot_as_raster(rast_arr[clu_idx].T, t_0=-t_pre_samp, ax=ax_arr[i_rast])"
   ]
  },
  {
   "cell_type": "markdown",
   "id": "lesser-intermediate",
   "metadata": {},
   "source": [
    "##### export to npy arrays"
   ]
  },
  {
   "cell_type": "code",
   "execution_count": 102,
   "id": "female-jumping",
   "metadata": {},
   "outputs": [],
   "source": [
    "def export_spikes_array(spk_df, clu_list, start_samples, span_samples, file_path, bin_size=None):\n",
    "    # get the raster for the clu_list\n",
    "    # if necessary, bin it\n",
    "    # save it as numpy\n",
    "    rast_arr = get_rasters(spk_df, clu_list, start_samples, span_samples)\n",
    "    \n",
    "    if bin_size:\n",
    "        logger.info('Getting binned spikes with {} sample bins'.format(bin_size))\n",
    "        rate_arr = pu.coarse(np.transpose(rast_arr, axes=[0, 2, 1]), n_coarse=bin_size)\n",
    "        # switch back axes to [clu, t, trial]\n",
    "        export_arr = np.transpose(rate_arr, axes=[0, 2, 1])\n",
    "        #export_arr = rate_arr\n",
    "    else:\n",
    "        export_arr = rast_arr\n",
    "    \n",
    "    logger.info('saving spikes as {}'.format(file_path))\n",
    "    np.save(file_path, export_arr)\n",
    "    return export_arr\n",
    "\n"
   ]
  },
  {
   "cell_type": "code",
   "execution_count": null,
   "id": "inside-asian",
   "metadata": {},
   "outputs": [],
   "source": [
    "rast_arr = get_rasters(spk_df, clu_list, mot_dict['start_sample_ap_0'] + t_pre_samp, t_post_samp - t_pre_samp)"
   ]
  },
  {
   "cell_type": "code",
   "execution_count": 130,
   "id": "virgin-cache",
   "metadata": {},
   "outputs": [
    {
     "name": "stderr",
     "output_type": "stream",
     "text": [
      "2021-08-27 16:26:54,973 root         INFO     saving spikes as /mnt/cube/earneodo/bci_zf/neuropix/birds/z_w12m7_20/Ephys/processed/20201104/2500r250a_3500_dir_g0/fr_arr-hvc-0ms.pkl\n",
      "2021-08-27 16:26:54,973 root         INFO     saving spikes as /mnt/cube/earneodo/bci_zf/neuropix/birds/z_w12m7_20/Ephys/processed/20201104/2500r250a_3500_dir_g0/fr_arr-hvc-0ms.pkl\n",
      "2021-08-27 16:26:58,612 root         INFO     saving spikes as /mnt/cube/earneodo/bci_zf/neuropix/birds/z_w12m7_20/Ephys/processed/20201104/2500r250a_3500_dir_g0/fr_arr-hvc-0ms.pkl\n",
      "2021-08-27 16:26:58,612 root         INFO     saving spikes as /mnt/cube/earneodo/bci_zf/neuropix/birds/z_w12m7_20/Ephys/processed/20201104/2500r250a_3500_dir_g0/fr_arr-hvc-0ms.pkl\n",
      "2021-08-27 16:26:59,373 root         INFO     saving spikes as /mnt/cube/earneodo/bci_zf/neuropix/birds/z_w12m7_20/Ephys/processed/20201104/2500r250a_3500_dir_g0/fr_arr-ra-0ms.pkl\n",
      "2021-08-27 16:26:59,373 root         INFO     saving spikes as /mnt/cube/earneodo/bci_zf/neuropix/birds/z_w12m7_20/Ephys/processed/20201104/2500r250a_3500_dir_g0/fr_arr-ra-0ms.pkl\n",
      "2021-08-27 16:27:03,355 root         INFO     saving spikes as /mnt/cube/earneodo/bci_zf/neuropix/birds/z_w12m7_20/Ephys/processed/20201104/2500r250a_3500_dir_g0/fr_arr-ra-0ms.pkl\n",
      "2021-08-27 16:27:03,355 root         INFO     saving spikes as /mnt/cube/earneodo/bci_zf/neuropix/birds/z_w12m7_20/Ephys/processed/20201104/2500r250a_3500_dir_g0/fr_arr-ra-0ms.pkl\n"
     ]
    }
   ],
   "source": [
    "mot_len = mot_dict['template'].size\n",
    "mot_len_s = mot_len / mot_s_f\n",
    "t_pre = - 0.5\n",
    "t_post = 0.5 + mot_len_s\n",
    "bin_ms = 0\n",
    "\n",
    "t_pre_samp = int(t_pre * ap_s_f)\n",
    "t_post_samp = int(t_post * ap_s_f)\n",
    "bin_samp = int(bin_ms * ap_s_f * 0.001)\n",
    "\n",
    "spk_arr_list = []\n",
    "for nucleus in ['hvc', 'ra']:\n",
    "    # get the cluster list\n",
    "    clu_list = np.unique(clu_df.loc[(clu_df['KSLabel']=='good') & (clu_df['nucleus'].isin([nucleus])), \n",
    "                                'cluster_id'])\n",
    "    # make the file path\n",
    "    file_path = os.path.join(exp_struct['folders']['processed'], \n",
    "                             'fr_arr-{}-{}ms.pkl'.format(nucleus, bin_ms))\n",
    "    logger.info('saving spikes as {}'.format(file_path))\n",
    "    \n",
    "    # get the spikes to the file\n",
    "    spk_arr = export_spikes_array(spk_df, \n",
    "                                  clu_list, \n",
    "                                  mot_dict['start_sample_ap_0'] + t_pre_samp, \n",
    "                                  t_post_samp - t_pre_samp, \n",
    "                                  file_path, \n",
    "                                  bin_samp)\n",
    "    spk_arr_list.append(spk_arr)"
   ]
  },
  {
   "cell_type": "code",
   "execution_count": 131,
   "id": "instant-joining",
   "metadata": {},
   "outputs": [
    {
     "data": {
      "text/plain": [
       "(145, 46498, 10)"
      ]
     },
     "execution_count": 131,
     "metadata": {},
     "output_type": "execute_result"
    }
   ],
   "source": [
    "spk_arr.shape"
   ]
  },
  {
   "cell_type": "markdown",
   "id": "compatible-recording",
   "metadata": {},
   "source": [
    "#### plot one spk_arr together with a motif"
   ]
  },
  {
   "cell_type": "code",
   "execution_count": 129,
   "id": "artificial-ethiopia",
   "metadata": {},
   "outputs": [
    {
     "data": {
      "text/plain": [
       "<matplotlib.image.AxesImage at 0x7ee6a911bc70>"
      ]
     },
     "execution_count": 129,
     "metadata": {},
     "output_type": "execute_result"
    },
    {
     "data": {
      "image/png": "[encoded data removed]",
      "text/plain": [
       "<Figure size 432x288 with 1 Axes>"
      ]
     },
     "metadata": {
      "needs_background": "light"
     },
     "output_type": "display_data"
    }
   ],
   "source": [
    "spk_arr = spk_arr_list[1]\n",
    "plt.imshow(spk_arr[32, :, :].T, aspect='auto', cmap='inferno')"
   ]
  },
  {
   "cell_type": "code",
   "execution_count": 101,
   "id": "fifth-hungary",
   "metadata": {},
   "outputs": [
    {
     "data": {
      "text/plain": [
       "(145, 774, 10)"
      ]
     },
     "execution_count": 101,
     "metadata": {},
     "output_type": "execute_result"
    }
   ],
   "source": [
    "np.transpose(spk_arr, axes=[0, 2, 1]).shape"
   ]
  },
  {
   "cell_type": "code",
   "execution_count": null,
   "id": "affected-performance",
   "metadata": {},
   "outputs": [],
   "source": [
    "plt.plot(spk_arr[0].sum(axis=1))"
   ]
  },
  {
   "cell_type": "code",
   "execution_count": 57,
   "id": "dressed-brighton",
   "metadata": {},
   "outputs": [
    {
     "data": {
      "text/plain": [
       "(145, 10, 60000)"
      ]
     },
     "execution_count": 57,
     "metadata": {},
     "output_type": "execute_result"
    }
   ],
   "source": [
    "np.transpose(rast_arr, axes=[0, 2, 1]).shape"
   ]
  },
  {
   "cell_type": "code",
   "execution_count": 79,
   "id": "individual-likelihood",
   "metadata": {},
   "outputs": [
    {
     "data": {
      "text/plain": [
       "(145, 46498, 10)"
      ]
     },
     "execution_count": 79,
     "metadata": {},
     "output_type": "execute_result"
    }
   ],
   "source": [
    "spk_arr.shape"
   ]
  },
  {
   "cell_type": "code",
   "execution_count": 84,
   "id": "associate-poster",
   "metadata": {},
   "outputs": [],
   "source": [
    "mot_len = mot_dict['template'].size\n",
    "mot_len_s = mot_len / mot_s_f\n",
    "t_pre = - 0.5\n",
    "t_post = 0.5 + mot_len_s\n",
    "bin_ms = 2\n",
    "\n",
    "t_pre_samp = int(t_pre * ap_s_f)\n",
    "t_post_samp = int(t_post * ap_s_f)\n",
    "bin_samp = int(bin_ms * ap_s_f * 0.001)"
   ]
  },
  {
   "cell_type": "code",
   "execution_count": 112,
   "id": "compound-thong",
   "metadata": {},
   "outputs": [
    {
     "data": {
      "text/plain": [
       "0.54996"
      ]
     },
     "execution_count": 112,
     "metadata": {},
     "output_type": "execute_result"
    }
   ],
   "source": [
    "mot_len_s"
   ]
  },
  {
   "cell_type": "code",
   "execution_count": 85,
   "id": "nearby-february",
   "metadata": {},
   "outputs": [
    {
     "name": "stderr",
     "output_type": "stream",
     "text": [
      "/mnt/cube/earneodo/repos/ceciestunepipe/ceciestunepipe/util/plotutil.py:66: RuntimeWarning: Mean of empty slice\n",
      "  coarse_x = np.nanmean(exploded_x, axis=-1)\n"
     ]
    },
    {
     "data": {
      "text/plain": [
       "(145, 10, 1000)"
      ]
     },
     "execution_count": 85,
     "metadata": {},
     "output_type": "execute_result"
    }
   ],
   "source": [
    "fr_arr = pu.coarse(np.transpose(rast_arr, axes=[0, 2, 1]), n_coarse=bin_samp)\n",
    "fr_arr.shape"
   ]
  },
  {
   "cell_type": "code",
   "execution_count": 134,
   "id": "every-youth",
   "metadata": {},
   "outputs": [
    {
     "data": {
      "image/png": "[encoded data removed]",
      "text/plain": [
       "<Figure size 720x1080 with 10 Axes>"
      ]
     },
     "metadata": {
      "needs_background": "light"
     },
     "output_type": "display_data"
    }
   ],
   "source": [
    "fig, ax_arr = plt.subplots(nrows=10, figsize=[10, 15], sharex=True)\n",
    "\n",
    "for i_rast, clu_idx in enumerate(range(50, 60)):    \n",
    "    #one_raster_ms = coarse(rast_arr[clu_idx].T, samples_in_ms)\n",
    "    #plt.imshow(one_raster_ms[::-1], aspect='auto', cmap='inferno')\n",
    "    plot_as_raster(spk_arr[clu_idx].T, t_0=-t_pre_samp, ax=ax_arr[i_rast])"
   ]
  },
  {
   "cell_type": "code",
   "execution_count": null,
   "id": "finnish-convenience",
   "metadata": {},
   "outputs": [],
   "source": []
  }
 ],
 "metadata": {
  "kernelspec": {
   "display_name": "otrepipe",
   "language": "python",
   "name": "otrepipe"
  },
  "language_info": {
   "codemirror_mode": {
    "name": "ipython",
    "version": 3
   },
   "file_extension": ".py",
   "mimetype": "text/x-python",
   "name": "python",
   "nbconvert_exporter": "python",
   "pygments_lexer": "ipython3",
   "version": "3.8.3"
  }
 },
 "nbformat": 4,
 "nbformat_minor": 5
}
