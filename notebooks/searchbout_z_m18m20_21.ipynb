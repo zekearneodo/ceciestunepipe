{
 "cells": [
  {
   "cell_type": "markdown",
   "id": "american-landing",
   "metadata": {},
   "source": [
    "## Searching for bouts for a day of alsa recording"
   ]
  },
  {
   "cell_type": "code",
   "execution_count": 1,
   "id": "republican-aquarium",
   "metadata": {},
   "outputs": [
    {
     "name": "stderr",
     "output_type": "stream",
     "text": [
      "2022-01-10 10:00:04,270 root         INFO     Running on pakhi\n"
     ]
    }
   ],
   "source": [
    "%matplotlib inline\n",
    "import os\n",
    "import glob\n",
    "import socket\n",
    "import logging\n",
    "import numpy as np\n",
    "import pandas as pd\n",
    "from scipy.io import wavfile\n",
    "from scipy import signal\n",
    "\n",
    "from matplotlib import pyplot as plt\n",
    "\n",
    "from importlib import reload\n",
    "\n",
    "logger = logging.getLogger()\n",
    "handler = logging.StreamHandler()\n",
    "formatter = logging.Formatter(\n",
    "        '%(asctime)s %(name)-12s %(levelname)-8s %(message)s')\n",
    "handler.setFormatter(formatter)\n",
    "logger.addHandler(handler)\n",
    "logger.setLevel(logging.INFO)\n",
    "\n",
    "logger.info('Running on {}'.format(socket.gethostname()))"
   ]
  },
  {
   "cell_type": "code",
   "execution_count": 2,
   "id": "convertible-closing",
   "metadata": {},
   "outputs": [],
   "source": [
    "from ceciestunepipe.file import bcistructure as et"
   ]
  },
  {
   "cell_type": "markdown",
   "id": "dedicated-speaker",
   "metadata": {},
   "source": [
    "### Get the file locations for a session (day) of recordings"
   ]
  },
  {
   "cell_type": "code",
   "execution_count": 3,
   "id": "african-waters",
   "metadata": {},
   "outputs": [],
   "source": [
    "reload(et)\n",
    "sess_par = {'bird': 'z_m18m20_21',\n",
    "           'sess': '2022-01-08'}\n",
    "\n",
    "\n",
    "exp_struct = et.get_exp_struct(sess_par['bird'], sess_par['sess'], ephys_software='alsa')\n",
    "\n",
    "raw_folder = exp_struct['folders']['alsa']"
   ]
  },
  {
   "cell_type": "code",
   "execution_count": 4,
   "id": "nervous-afternoon",
   "metadata": {},
   "outputs": [
    {
     "data": {
      "text/plain": [
       "{'bird': '/mnt/sphere/speech_bci/raw_data/z_m18m20_21',\n",
       " 'raw': '/mnt/sphere/speech_bci/raw_data/z_m18m20_21/2022-01-08',\n",
       " 'alsa': '/mnt/sphere/speech_bci/raw_data/z_m18m20_21/2022-01-08/alsa',\n",
       " 'kwik': '/scratch/earneodo/z_m18m20_21/alsa/kwik/2022-01-08',\n",
       " 'processed': '/mnt/sphere/speech_bci/processed_data/z_m18m20_21/2022-01-08/alsa',\n",
       " 'derived': '/mnt/sphere/speech_bci/derived_data/z_m18m20_21/2022-01-08/alsa',\n",
       " 'tmp': '/scratch/earneodo/tmp',\n",
       " 'msort': '/scratch/earneodo/z_m18m20_21/alsa/msort/2022-01-08',\n",
       " 'ksort': '/scratch/earneodo/z_m18m20_21/alsa/ksort/2022-01-08/',\n",
       " 'sort': '/mnt/sphere/speech_bci/derived_data/z_m18m20_21/2022-01-08/alsa/'}"
      ]
     },
     "execution_count": 4,
     "metadata": {},
     "output_type": "execute_result"
    }
   ],
   "source": [
    "exp_struct['folders']"
   ]
  },
  {
   "cell_type": "markdown",
   "id": "empirical-alloy",
   "metadata": {},
   "source": [
    "#### search parameters\n",
    "Spectrograms are computed using librosa\n",
    "\n",
    "Additional parameters are for bout search criteria and functions to read the data"
   ]
  },
  {
   "cell_type": "code",
   "execution_count": 5,
   "id": "relevant-saturday",
   "metadata": {},
   "outputs": [],
   "source": [
    "# function for getting one channel out of a wave file\n",
    "def read_wav_chan(wav_path: str, chan_id: int=0) -> tuple:\n",
    "    s_f, x = wavfile.read(wav_path, mmap=True)\n",
    "    return s_f, x[:, chan_id]\n",
    "\n",
    "def sess_file_id(f_path):\n",
    "    n = int(os.path.split(f_path)[1].split('-')[-1].split('.wav')[0])\n",
    "    return n\n",
    "\n",
    "hparams = {\n",
    "    # spectrogram\n",
    "    'num_freq':1024, #1024# how many channels to use in a spectrogram #\n",
    "    'preemphasis':0.97, \n",
    "    'frame_shift_ms':5, # step size for fft\n",
    "    'frame_length_ms':10, #128 # frame length for fft FRAME SAMPLES < NUM_FREQ!!!\n",
    "    'min_level_db':-55, # minimum threshold db for computing spe \n",
    "    'ref_level_db':110, # reference db for computing spec\n",
    "    'sample_rate':None, # sample rate of your data\n",
    "    \n",
    "    # spectrograms\n",
    "    'mel_filter': False, # should a mel filter be used?\n",
    "    'num_mels':1024, # how many channels to use in the mel-spectrogram\n",
    "    'fmin': 300, # low frequency cutoff for mel filter\n",
    "    'fmax': 7000, # high frequency cutoff for mel filter\n",
    "    \n",
    "    # spectrogram inversion\n",
    "    'max_iters':200,\n",
    "    'griffin_lim_iters':20,\n",
    "    'power':1.5,\n",
    "\n",
    "    # Added for the searching\n",
    "    'read_wav_fun': read_wav_chan, # function for loading the wav_like_stream (has to returns fs, ndarray)\n",
    "    'file_order_fun': sess_file_id, # function for extracting the file id within the session\n",
    "    'min_segment': 20, # Minimum length of supra_threshold to consider a 'syllable' (ms)\n",
    "    'min_silence': 1500, # Minmum distance between groups of syllables to consider separate bouts (ms)\n",
    "    'min_bout': 100, # min bout duration (ms)\n",
    "    'peak_thresh_rms': 0.55, # threshold (rms) for peak acceptance,\n",
    "    'thresh_rms': 0.25, # threshold for detection of syllables\n",
    "    'mean_syl_rms_thresh': 0.3, #threshold for acceptance of mean rms across the syllable (relative to rms of the file)\n",
    "    'max_bout': 5000, #exclude bouts too long\n",
    "    'l_p_r_thresh': 60, # threshold for n of len_ms/peaks (typycally about 2-3 syllable spans\n",
    "    \n",
    "    'waveform_edges': 1000, #get number of ms before and after the edges of the bout for the waveform sample\n",
    "    \n",
    "    'bout_auto_file': 'bout_auto.pickle', # extension for saving the auto found files\n",
    "    'bout_curated_file': 'bout_checked.pickle', #extension for manually curated files (coming soon)\n",
    "    }"
   ]
  },
  {
   "cell_type": "markdown",
   "id": "nasty-housing",
   "metadata": {},
   "source": [
    "#### Get one wave file"
   ]
  },
  {
   "cell_type": "code",
   "execution_count": 6,
   "id": "touched-staff",
   "metadata": {},
   "outputs": [],
   "source": [
    "one_wav_path = os.path.join(exp_struct['folders']['alsa'], '07-00-01-02.wav')\n",
    "\n",
    "s_f, x = read_wav_chan(one_wav_path)\n",
    "\n",
    "hparams['sample_rate'] = s_f"
   ]
  },
  {
   "cell_type": "code",
   "execution_count": 7,
   "id": "liable-gazette",
   "metadata": {},
   "outputs": [
    {
     "data": {
      "text/plain": [
       "(81600000,)"
      ]
     },
     "execution_count": 7,
     "metadata": {},
     "output_type": "execute_result"
    }
   ],
   "source": [
    "x.shape"
   ]
  },
  {
   "cell_type": "code",
   "execution_count": 8,
   "id": "several-jefferson",
   "metadata": {},
   "outputs": [
    {
     "data": {
      "text/plain": [
       "[<matplotlib.lines.Line2D at 0x7f30b4139b20>]"
      ]
     },
     "execution_count": 8,
     "metadata": {},
     "output_type": "execute_result"
    },
    {
     "data": {
      "image/png": "[encoded data removed]",
      "text/plain": [
       "<Figure size 432x288 with 1 Axes>"
      ]
     },
     "metadata": {
      "needs_background": "light"
     },
     "output_type": "display_data"
    }
   ],
   "source": [
    "plt.plot(x[:50000])"
   ]
  },
  {
   "cell_type": "markdown",
   "id": "weekly-poland",
   "metadata": {},
   "source": [
    "### try the function to search for bouts in the file"
   ]
  },
  {
   "cell_type": "code",
   "execution_count": 9,
   "id": "separated-minimum",
   "metadata": {},
   "outputs": [],
   "source": [
    "from ceciestunepipe.util.sound import boutsearch as bs"
   ]
  },
  {
   "cell_type": "code",
   "execution_count": 10,
   "id": "ordered-america",
   "metadata": {},
   "outputs": [
    {
     "name": "stderr",
     "output_type": "stream",
     "text": [
      "2022-01-10 10:02:17,578 ceciestunepipe.util.sound.boutsearch INFO     Getting bouts for file /mnt/sphere/speech_bci/raw_data/z_m18m20_21/2022-01-08/alsa/07-00-01-02.wav\n"
     ]
    },
    {
     "name": "stdout",
     "output_type": "stream",
     "text": [
      "tu vieja file /mnt/sphere/speech_bci/raw_data/z_m18m20_21/2022-01-08/alsa/07-00-01-02.wav\n"
     ]
    }
   ],
   "source": [
    "bpd, x, p = bs.get_bouts_in_file(one_wav_path, hparams)"
   ]
  },
  {
   "cell_type": "code",
   "execution_count": 11,
   "id": "revised-intersection",
   "metadata": {},
   "outputs": [
    {
     "data": {
      "text/html": [
       "<div>\n",
       "<style scoped>\n",
       "    .dataframe tbody tr th:only-of-type {\n",
       "        vertical-align: middle;\n",
       "    }\n",
       "\n",
       "    .dataframe tbody tr th {\n",
       "        vertical-align: top;\n",
       "    }\n",
       "\n",
       "    .dataframe thead th {\n",
       "        text-align: right;\n",
       "    }\n",
       "</style>\n",
       "<table border=\"1\" class=\"dataframe\">\n",
       "  <thead>\n",
       "    <tr style=\"text-align: right;\">\n",
       "      <th></th>\n",
       "      <th>start_ms</th>\n",
       "      <th>end_ms</th>\n",
       "      <th>start_sample</th>\n",
       "      <th>end_sample</th>\n",
       "      <th>p_step</th>\n",
       "      <th>rms_p</th>\n",
       "      <th>peak_p</th>\n",
       "      <th>bout_check</th>\n",
       "      <th>file</th>\n",
       "      <th>len_ms</th>\n",
       "      <th>syl_in</th>\n",
       "      <th>n_syl</th>\n",
       "      <th>peaks_p</th>\n",
       "      <th>n_peaks</th>\n",
       "      <th>l_p_ratio</th>\n",
       "      <th>waveform</th>\n",
       "    </tr>\n",
       "  </thead>\n",
       "  <tbody>\n",
       "    <tr>\n",
       "      <th>0</th>\n",
       "      <td>1104595</td>\n",
       "      <td>1109110</td>\n",
       "      <td>53020560</td>\n",
       "      <td>53237280</td>\n",
       "      <td>[0.3332896099066227, 0.3997395187092817, 1.013...</td>\n",
       "      <td>0.387231</td>\n",
       "      <td>8.714867</td>\n",
       "      <td>True</td>\n",
       "      <td>/mnt/sphere/speech_bci/raw_data/z_m18m20_21/20...</td>\n",
       "      <td>4515</td>\n",
       "      <td>[[1104595, 1104655], [1105845, 1105870], [1105...</td>\n",
       "      <td>22</td>\n",
       "      <td>[3, 11, 253, 262, 271, 285, 299, 340, 347, 354...</td>\n",
       "      <td>41</td>\n",
       "      <td>110.121951</td>\n",
       "      <td>[-3, -5, -4, -4, -3, -3, -4, -4, -3, -3, -4, -...</td>\n",
       "    </tr>\n",
       "    <tr>\n",
       "      <th>1</th>\n",
       "      <td>1140795</td>\n",
       "      <td>1142175</td>\n",
       "      <td>54758160</td>\n",
       "      <td>54824400</td>\n",
       "      <td>[0.23053957533336494, 0.7976663474412168, 1.53...</td>\n",
       "      <td>0.387231</td>\n",
       "      <td>2.199865</td>\n",
       "      <td>True</td>\n",
       "      <td>/mnt/sphere/speech_bci/raw_data/z_m18m20_21/20...</td>\n",
       "      <td>1380</td>\n",
       "      <td>[[1140795, 1140855], [1142105, 1142175]]</td>\n",
       "      <td>2</td>\n",
       "      <td>[3, 8, 268]</td>\n",
       "      <td>3</td>\n",
       "      <td>460.000000</td>\n",
       "      <td>[-5, -6, -5, -6, -7, -7, -6, -6, -7, -6, -6, -...</td>\n",
       "    </tr>\n",
       "    <tr>\n",
       "      <th>2</th>\n",
       "      <td>1297705</td>\n",
       "      <td>1298325</td>\n",
       "      <td>62289840</td>\n",
       "      <td>62319600</td>\n",
       "      <td>[3.4594913163872247, 5.97914886378902, 6.39336...</td>\n",
       "      <td>0.387231</td>\n",
       "      <td>9.404134</td>\n",
       "      <td>True</td>\n",
       "      <td>/mnt/sphere/speech_bci/raw_data/z_m18m20_21/20...</td>\n",
       "      <td>620</td>\n",
       "      <td>[[1297705, 1297790], [1298250, 1298325]]</td>\n",
       "      <td>2</td>\n",
       "      <td>[6, 13, 70, 110, 118]</td>\n",
       "      <td>5</td>\n",
       "      <td>124.000000</td>\n",
       "      <td>[-10, -10, -9, -9, -10, -12, -12, -11, -10, -1...</td>\n",
       "    </tr>\n",
       "    <tr>\n",
       "      <th>3</th>\n",
       "      <td>1479060</td>\n",
       "      <td>1483475</td>\n",
       "      <td>70994880</td>\n",
       "      <td>71206800</td>\n",
       "      <td>[0.9311107271111801, 0.32773324487697686, 1.10...</td>\n",
       "      <td>0.387231</td>\n",
       "      <td>19.999210</td>\n",
       "      <td>True</td>\n",
       "      <td>/mnt/sphere/speech_bci/raw_data/z_m18m20_21/20...</td>\n",
       "      <td>4415</td>\n",
       "      <td>[[1479060, 1479130], [1479235, 1479310], [1479...</td>\n",
       "      <td>27</td>\n",
       "      <td>[5, 10, 43, 73, 81, 112, 121, 141, 150, 174, 1...</td>\n",
       "      <td>63</td>\n",
       "      <td>70.079365</td>\n",
       "      <td>[1, 2, 2, 1, 0, 0, 2, 1, 0, 1, 1, 1, 1, 0, 0, ...</td>\n",
       "    </tr>\n",
       "    <tr>\n",
       "      <th>4</th>\n",
       "      <td>1505165</td>\n",
       "      <td>1508580</td>\n",
       "      <td>72247920</td>\n",
       "      <td>72411840</td>\n",
       "      <td>[0.2610870440821144, 1.6839679608355962, 5.787...</td>\n",
       "      <td>0.387231</td>\n",
       "      <td>9.462058</td>\n",
       "      <td>True</td>\n",
       "      <td>/mnt/sphere/speech_bci/raw_data/z_m18m20_21/20...</td>\n",
       "      <td>3415</td>\n",
       "      <td>[[1505165, 1505210], [1505220, 1505285], [1505...</td>\n",
       "      <td>25</td>\n",
       "      <td>[4, 9, 14, 20, 35, 49, 61, 90, 103, 124, 141, ...</td>\n",
       "      <td>52</td>\n",
       "      <td>65.673077</td>\n",
       "      <td>[1, 3, 3, 1, 0, 1, 4, 3, 1, 0, 1, 2, 2, 1, -1,...</td>\n",
       "    </tr>\n",
       "    <tr>\n",
       "      <th>5</th>\n",
       "      <td>1647025</td>\n",
       "      <td>1651530</td>\n",
       "      <td>79057200</td>\n",
       "      <td>79273440</td>\n",
       "      <td>[1.6585077635139078, 3.184966903293377, 4.0825...</td>\n",
       "      <td>0.387231</td>\n",
       "      <td>8.752881</td>\n",
       "      <td>True</td>\n",
       "      <td>/mnt/sphere/speech_bci/raw_data/z_m18m20_21/20...</td>\n",
       "      <td>4505</td>\n",
       "      <td>[[1647025, 1647050], [1647080, 1647140], [1647...</td>\n",
       "      <td>27</td>\n",
       "      <td>[2, 13, 19, 35, 48, 94, 99, 104, 121, 126, 144...</td>\n",
       "      <td>57</td>\n",
       "      <td>79.035088</td>\n",
       "      <td>[2, 2, 4, 4, 4, 3, 3, 4, 4, 3, 1, 3, 4, 3, 3, ...</td>\n",
       "    </tr>\n",
       "  </tbody>\n",
       "</table>\n",
       "</div>"
      ],
      "text/plain": [
       "   start_ms   end_ms  start_sample  end_sample  \\\n",
       "0   1104595  1109110      53020560    53237280   \n",
       "1   1140795  1142175      54758160    54824400   \n",
       "2   1297705  1298325      62289840    62319600   \n",
       "3   1479060  1483475      70994880    71206800   \n",
       "4   1505165  1508580      72247920    72411840   \n",
       "5   1647025  1651530      79057200    79273440   \n",
       "\n",
       "                                              p_step     rms_p     peak_p  \\\n",
       "0  [0.3332896099066227, 0.3997395187092817, 1.013...  0.387231   8.714867   \n",
       "1  [0.23053957533336494, 0.7976663474412168, 1.53...  0.387231   2.199865   \n",
       "2  [3.4594913163872247, 5.97914886378902, 6.39336...  0.387231   9.404134   \n",
       "3  [0.9311107271111801, 0.32773324487697686, 1.10...  0.387231  19.999210   \n",
       "4  [0.2610870440821144, 1.6839679608355962, 5.787...  0.387231   9.462058   \n",
       "5  [1.6585077635139078, 3.184966903293377, 4.0825...  0.387231   8.752881   \n",
       "\n",
       "   bout_check                                               file  len_ms  \\\n",
       "0        True  /mnt/sphere/speech_bci/raw_data/z_m18m20_21/20...    4515   \n",
       "1        True  /mnt/sphere/speech_bci/raw_data/z_m18m20_21/20...    1380   \n",
       "2        True  /mnt/sphere/speech_bci/raw_data/z_m18m20_21/20...     620   \n",
       "3        True  /mnt/sphere/speech_bci/raw_data/z_m18m20_21/20...    4415   \n",
       "4        True  /mnt/sphere/speech_bci/raw_data/z_m18m20_21/20...    3415   \n",
       "5        True  /mnt/sphere/speech_bci/raw_data/z_m18m20_21/20...    4505   \n",
       "\n",
       "                                              syl_in  n_syl  \\\n",
       "0  [[1104595, 1104655], [1105845, 1105870], [1105...     22   \n",
       "1           [[1140795, 1140855], [1142105, 1142175]]      2   \n",
       "2           [[1297705, 1297790], [1298250, 1298325]]      2   \n",
       "3  [[1479060, 1479130], [1479235, 1479310], [1479...     27   \n",
       "4  [[1505165, 1505210], [1505220, 1505285], [1505...     25   \n",
       "5  [[1647025, 1647050], [1647080, 1647140], [1647...     27   \n",
       "\n",
       "                                             peaks_p  n_peaks   l_p_ratio  \\\n",
       "0  [3, 11, 253, 262, 271, 285, 299, 340, 347, 354...       41  110.121951   \n",
       "1                                        [3, 8, 268]        3  460.000000   \n",
       "2                              [6, 13, 70, 110, 118]        5  124.000000   \n",
       "3  [5, 10, 43, 73, 81, 112, 121, 141, 150, 174, 1...       63   70.079365   \n",
       "4  [4, 9, 14, 20, 35, 49, 61, 90, 103, 124, 141, ...       52   65.673077   \n",
       "5  [2, 13, 19, 35, 48, 94, 99, 104, 121, 126, 144...       57   79.035088   \n",
       "\n",
       "                                            waveform  \n",
       "0  [-3, -5, -4, -4, -3, -3, -4, -4, -3, -3, -4, -...  \n",
       "1  [-5, -6, -5, -6, -7, -7, -6, -6, -7, -6, -6, -...  \n",
       "2  [-10, -10, -9, -9, -10, -12, -12, -11, -10, -1...  \n",
       "3  [1, 2, 2, 1, 0, 0, 2, 1, 0, 1, 1, 1, 1, 0, 0, ...  \n",
       "4  [1, 3, 3, 1, 0, 1, 4, 3, 1, 0, 1, 2, 2, 1, -1,...  \n",
       "5  [2, 2, 4, 4, 4, 3, 3, 4, 4, 3, 1, 3, 4, 3, 3, ...  "
      ]
     },
     "execution_count": 11,
     "metadata": {},
     "output_type": "execute_result"
    }
   ],
   "source": [
    "bpd"
   ]
  },
  {
   "cell_type": "code",
   "execution_count": 12,
   "id": "frank-nicaragua",
   "metadata": {},
   "outputs": [
    {
     "data": {
      "text/plain": [
       "[<matplotlib.lines.Line2D at 0x7f305e7527f0>]"
      ]
     },
     "execution_count": 12,
     "metadata": {},
     "output_type": "execute_result"
    },
    {
     "data": {
      "image/png": "[encoded data removed]",
      "text/plain": [
       "<Figure size 432x288 with 1 Axes>"
      ]
     },
     "metadata": {
      "needs_background": "light"
     },
     "output_type": "display_data"
    }
   ],
   "source": [
    "plt.plot(bpd['waveform'].values[0])"
   ]
  },
  {
   "cell_type": "code",
   "execution_count": 13,
   "id": "molecular-means",
   "metadata": {},
   "outputs": [
    {
     "data": {
      "text/html": [
       "<div>\n",
       "<style scoped>\n",
       "    .dataframe tbody tr th:only-of-type {\n",
       "        vertical-align: middle;\n",
       "    }\n",
       "\n",
       "    .dataframe tbody tr th {\n",
       "        vertical-align: top;\n",
       "    }\n",
       "\n",
       "    .dataframe thead th {\n",
       "        text-align: right;\n",
       "    }\n",
       "</style>\n",
       "<table border=\"1\" class=\"dataframe\">\n",
       "  <thead>\n",
       "    <tr style=\"text-align: right;\">\n",
       "      <th></th>\n",
       "      <th>start_ms</th>\n",
       "      <th>end_ms</th>\n",
       "      <th>start_sample</th>\n",
       "      <th>end_sample</th>\n",
       "      <th>p_step</th>\n",
       "      <th>rms_p</th>\n",
       "      <th>peak_p</th>\n",
       "      <th>bout_check</th>\n",
       "      <th>file</th>\n",
       "      <th>len_ms</th>\n",
       "      <th>syl_in</th>\n",
       "      <th>n_syl</th>\n",
       "      <th>peaks_p</th>\n",
       "      <th>n_peaks</th>\n",
       "      <th>l_p_ratio</th>\n",
       "      <th>waveform</th>\n",
       "    </tr>\n",
       "  </thead>\n",
       "  <tbody>\n",
       "    <tr>\n",
       "      <th>0</th>\n",
       "      <td>1104595</td>\n",
       "      <td>1109110</td>\n",
       "      <td>53020560</td>\n",
       "      <td>53237280</td>\n",
       "      <td>[0.3332896099066227, 0.3997395187092817, 1.013...</td>\n",
       "      <td>0.387231</td>\n",
       "      <td>8.714867</td>\n",
       "      <td>True</td>\n",
       "      <td>/mnt/sphere/speech_bci/raw_data/z_m18m20_21/20...</td>\n",
       "      <td>4515</td>\n",
       "      <td>[[1104595, 1104655], [1105845, 1105870], [1105...</td>\n",
       "      <td>22</td>\n",
       "      <td>[3, 11, 253, 262, 271, 285, 299, 340, 347, 354...</td>\n",
       "      <td>41</td>\n",
       "      <td>110.121951</td>\n",
       "      <td>[-3, -5, -4, -4, -3, -3, -4, -4, -3, -3, -4, -...</td>\n",
       "    </tr>\n",
       "    <tr>\n",
       "      <th>1</th>\n",
       "      <td>1140795</td>\n",
       "      <td>1142175</td>\n",
       "      <td>54758160</td>\n",
       "      <td>54824400</td>\n",
       "      <td>[0.23053957533336494, 0.7976663474412168, 1.53...</td>\n",
       "      <td>0.387231</td>\n",
       "      <td>2.199865</td>\n",
       "      <td>True</td>\n",
       "      <td>/mnt/sphere/speech_bci/raw_data/z_m18m20_21/20...</td>\n",
       "      <td>1380</td>\n",
       "      <td>[[1140795, 1140855], [1142105, 1142175]]</td>\n",
       "      <td>2</td>\n",
       "      <td>[3, 8, 268]</td>\n",
       "      <td>3</td>\n",
       "      <td>460.000000</td>\n",
       "      <td>[-5, -6, -5, -6, -7, -7, -6, -6, -7, -6, -6, -...</td>\n",
       "    </tr>\n",
       "    <tr>\n",
       "      <th>2</th>\n",
       "      <td>1297705</td>\n",
       "      <td>1298325</td>\n",
       "      <td>62289840</td>\n",
       "      <td>62319600</td>\n",
       "      <td>[3.4594913163872247, 5.97914886378902, 6.39336...</td>\n",
       "      <td>0.387231</td>\n",
       "      <td>9.404134</td>\n",
       "      <td>True</td>\n",
       "      <td>/mnt/sphere/speech_bci/raw_data/z_m18m20_21/20...</td>\n",
       "      <td>620</td>\n",
       "      <td>[[1297705, 1297790], [1298250, 1298325]]</td>\n",
       "      <td>2</td>\n",
       "      <td>[6, 13, 70, 110, 118]</td>\n",
       "      <td>5</td>\n",
       "      <td>124.000000</td>\n",
       "      <td>[-10, -10, -9, -9, -10, -12, -12, -11, -10, -1...</td>\n",
       "    </tr>\n",
       "    <tr>\n",
       "      <th>3</th>\n",
       "      <td>1479060</td>\n",
       "      <td>1483475</td>\n",
       "      <td>70994880</td>\n",
       "      <td>71206800</td>\n",
       "      <td>[0.9311107271111801, 0.32773324487697686, 1.10...</td>\n",
       "      <td>0.387231</td>\n",
       "      <td>19.999210</td>\n",
       "      <td>True</td>\n",
       "      <td>/mnt/sphere/speech_bci/raw_data/z_m18m20_21/20...</td>\n",
       "      <td>4415</td>\n",
       "      <td>[[1479060, 1479130], [1479235, 1479310], [1479...</td>\n",
       "      <td>27</td>\n",
       "      <td>[5, 10, 43, 73, 81, 112, 121, 141, 150, 174, 1...</td>\n",
       "      <td>63</td>\n",
       "      <td>70.079365</td>\n",
       "      <td>[1, 2, 2, 1, 0, 0, 2, 1, 0, 1, 1, 1, 1, 0, 0, ...</td>\n",
       "    </tr>\n",
       "    <tr>\n",
       "      <th>4</th>\n",
       "      <td>1505165</td>\n",
       "      <td>1508580</td>\n",
       "      <td>72247920</td>\n",
       "      <td>72411840</td>\n",
       "      <td>[0.2610870440821144, 1.6839679608355962, 5.787...</td>\n",
       "      <td>0.387231</td>\n",
       "      <td>9.462058</td>\n",
       "      <td>True</td>\n",
       "      <td>/mnt/sphere/speech_bci/raw_data/z_m18m20_21/20...</td>\n",
       "      <td>3415</td>\n",
       "      <td>[[1505165, 1505210], [1505220, 1505285], [1505...</td>\n",
       "      <td>25</td>\n",
       "      <td>[4, 9, 14, 20, 35, 49, 61, 90, 103, 124, 141, ...</td>\n",
       "      <td>52</td>\n",
       "      <td>65.673077</td>\n",
       "      <td>[1, 3, 3, 1, 0, 1, 4, 3, 1, 0, 1, 2, 2, 1, -1,...</td>\n",
       "    </tr>\n",
       "    <tr>\n",
       "      <th>5</th>\n",
       "      <td>1647025</td>\n",
       "      <td>1651530</td>\n",
       "      <td>79057200</td>\n",
       "      <td>79273440</td>\n",
       "      <td>[1.6585077635139078, 3.184966903293377, 4.0825...</td>\n",
       "      <td>0.387231</td>\n",
       "      <td>8.752881</td>\n",
       "      <td>True</td>\n",
       "      <td>/mnt/sphere/speech_bci/raw_data/z_m18m20_21/20...</td>\n",
       "      <td>4505</td>\n",
       "      <td>[[1647025, 1647050], [1647080, 1647140], [1647...</td>\n",
       "      <td>27</td>\n",
       "      <td>[2, 13, 19, 35, 48, 94, 99, 104, 121, 126, 144...</td>\n",
       "      <td>57</td>\n",
       "      <td>79.035088</td>\n",
       "      <td>[2, 2, 4, 4, 4, 3, 3, 4, 4, 3, 1, 3, 4, 3, 3, ...</td>\n",
       "    </tr>\n",
       "  </tbody>\n",
       "</table>\n",
       "</div>"
      ],
      "text/plain": [
       "   start_ms   end_ms  start_sample  end_sample  \\\n",
       "0   1104595  1109110      53020560    53237280   \n",
       "1   1140795  1142175      54758160    54824400   \n",
       "2   1297705  1298325      62289840    62319600   \n",
       "3   1479060  1483475      70994880    71206800   \n",
       "4   1505165  1508580      72247920    72411840   \n",
       "5   1647025  1651530      79057200    79273440   \n",
       "\n",
       "                                              p_step     rms_p     peak_p  \\\n",
       "0  [0.3332896099066227, 0.3997395187092817, 1.013...  0.387231   8.714867   \n",
       "1  [0.23053957533336494, 0.7976663474412168, 1.53...  0.387231   2.199865   \n",
       "2  [3.4594913163872247, 5.97914886378902, 6.39336...  0.387231   9.404134   \n",
       "3  [0.9311107271111801, 0.32773324487697686, 1.10...  0.387231  19.999210   \n",
       "4  [0.2610870440821144, 1.6839679608355962, 5.787...  0.387231   9.462058   \n",
       "5  [1.6585077635139078, 3.184966903293377, 4.0825...  0.387231   8.752881   \n",
       "\n",
       "   bout_check                                               file  len_ms  \\\n",
       "0        True  /mnt/sphere/speech_bci/raw_data/z_m18m20_21/20...    4515   \n",
       "1        True  /mnt/sphere/speech_bci/raw_data/z_m18m20_21/20...    1380   \n",
       "2        True  /mnt/sphere/speech_bci/raw_data/z_m18m20_21/20...     620   \n",
       "3        True  /mnt/sphere/speech_bci/raw_data/z_m18m20_21/20...    4415   \n",
       "4        True  /mnt/sphere/speech_bci/raw_data/z_m18m20_21/20...    3415   \n",
       "5        True  /mnt/sphere/speech_bci/raw_data/z_m18m20_21/20...    4505   \n",
       "\n",
       "                                              syl_in  n_syl  \\\n",
       "0  [[1104595, 1104655], [1105845, 1105870], [1105...     22   \n",
       "1           [[1140795, 1140855], [1142105, 1142175]]      2   \n",
       "2           [[1297705, 1297790], [1298250, 1298325]]      2   \n",
       "3  [[1479060, 1479130], [1479235, 1479310], [1479...     27   \n",
       "4  [[1505165, 1505210], [1505220, 1505285], [1505...     25   \n",
       "5  [[1647025, 1647050], [1647080, 1647140], [1647...     27   \n",
       "\n",
       "                                             peaks_p  n_peaks   l_p_ratio  \\\n",
       "0  [3, 11, 253, 262, 271, 285, 299, 340, 347, 354...       41  110.121951   \n",
       "1                                        [3, 8, 268]        3  460.000000   \n",
       "2                              [6, 13, 70, 110, 118]        5  124.000000   \n",
       "3  [5, 10, 43, 73, 81, 112, 121, 141, 150, 174, 1...       63   70.079365   \n",
       "4  [4, 9, 14, 20, 35, 49, 61, 90, 103, 124, 141, ...       52   65.673077   \n",
       "5  [2, 13, 19, 35, 48, 94, 99, 104, 121, 126, 144...       57   79.035088   \n",
       "\n",
       "                                            waveform  \n",
       "0  [-3, -5, -4, -4, -3, -3, -4, -4, -3, -3, -4, -...  \n",
       "1  [-5, -6, -5, -6, -7, -7, -6, -6, -7, -6, -6, -...  \n",
       "2  [-10, -10, -9, -9, -10, -12, -12, -11, -10, -1...  \n",
       "3  [1, 2, 2, 1, 0, 0, 2, 1, 0, 1, 1, 1, 1, 0, 0, ...  \n",
       "4  [1, 3, 3, 1, 0, 1, 4, 3, 1, 0, 1, 2, 2, 1, -1,...  \n",
       "5  [2, 2, 4, 4, 4, 3, 3, 4, 4, 3, 1, 3, 4, 3, 3, ...  "
      ]
     },
     "execution_count": 13,
     "metadata": {},
     "output_type": "execute_result"
    }
   ],
   "source": [
    "bpd"
   ]
  },
  {
   "cell_type": "code",
   "execution_count": 14,
   "id": "alien-treat",
   "metadata": {},
   "outputs": [
    {
     "data": {
      "text/plain": [
       "{'num_freq': 1024,\n",
       " 'preemphasis': 0.97,\n",
       " 'frame_shift_ms': 5,\n",
       " 'frame_length_ms': 10,\n",
       " 'min_level_db': -55,\n",
       " 'ref_level_db': 110,\n",
       " 'sample_rate': 48000,\n",
       " 'mel_filter': False,\n",
       " 'num_mels': 1024,\n",
       " 'fmin': 300,\n",
       " 'fmax': 7000,\n",
       " 'max_iters': 200,\n",
       " 'griffin_lim_iters': 20,\n",
       " 'power': 1.5,\n",
       " 'read_wav_fun': <function __main__.read_wav_chan(wav_path: str, chan_id: int = 0) -> tuple>,\n",
       " 'file_order_fun': <function __main__.sess_file_id(f_path)>,\n",
       " 'min_segment': 20,\n",
       " 'min_silence': 1500,\n",
       " 'min_bout': 100,\n",
       " 'peak_thresh_rms': 0.55,\n",
       " 'thresh_rms': 0.25,\n",
       " 'mean_syl_rms_thresh': 0.3,\n",
       " 'max_bout': 5000,\n",
       " 'l_p_r_thresh': 60,\n",
       " 'waveform_edges': 1000,\n",
       " 'bout_auto_file': 'bout_auto.pickle',\n",
       " 'bout_curated_file': 'bout_checked.pickle'}"
      ]
     },
     "execution_count": 14,
     "metadata": {},
     "output_type": "execute_result"
    }
   ],
   "source": [
    "hparams"
   ]
  },
  {
   "cell_type": "markdown",
   "id": "dried-bachelor",
   "metadata": {},
   "source": [
    "### get all bouts of the day"
   ]
  },
  {
   "cell_type": "code",
   "execution_count": 15,
   "id": "paperback-tulsa",
   "metadata": {},
   "outputs": [],
   "source": [
    "from joblib import Parallel, delayed"
   ]
  },
  {
   "cell_type": "code",
   "execution_count": 16,
   "id": "union-county",
   "metadata": {},
   "outputs": [
    {
     "data": {
      "text/plain": [
       "<module 'ceciestunepipe.util.sound.boutsearch' from '/mnt/cube/earneodo/repos/ceciestunepipe/ceciestunepipe/util/sound/boutsearch.py'>"
      ]
     },
     "execution_count": 16,
     "metadata": {},
     "output_type": "execute_result"
    }
   ],
   "source": [
    "reload(bs)"
   ]
  },
  {
   "cell_type": "code",
   "execution_count": 17,
   "id": "royal-wilderness",
   "metadata": {},
   "outputs": [
    {
     "name": "stderr",
     "output_type": "stream",
     "text": [
      "2022-01-10 10:05:18,101 root         INFO     Will search for bouts through all session z_m18m20_21, 2022-01-08\n",
      "2022-01-10 10:05:18,138 root         INFO     Found 26 files\n"
     ]
    },
    {
     "name": "stdout",
     "output_type": "stream",
     "text": [
      "[Parallel(n_jobs=28)]: Using backend LokyBackend with 28 concurrent workers.\n",
      "[Parallel(n_jobs=28)]: Done   1 tasks      | elapsed:   28.1s\n",
      "[Parallel(n_jobs=28)]: Done   2 out of  26 | elapsed:  9.0min remaining: 108.5min\n",
      "[Parallel(n_jobs=28)]: Done   3 out of  26 | elapsed:  9.2min remaining: 70.9min\n",
      "[Parallel(n_jobs=28)]: Done   4 out of  26 | elapsed:  9.5min remaining: 52.1min\n",
      "[Parallel(n_jobs=28)]: Done   5 out of  26 | elapsed:  9.8min remaining: 41.3min\n",
      "[Parallel(n_jobs=28)]: Done   6 out of  26 | elapsed: 10.2min remaining: 34.2min\n",
      "[Parallel(n_jobs=28)]: Done   7 out of  26 | elapsed: 10.3min remaining: 27.9min\n",
      "[Parallel(n_jobs=28)]: Done   8 out of  26 | elapsed: 10.3min remaining: 23.2min\n",
      "[Parallel(n_jobs=28)]: Done   9 out of  26 | elapsed: 10.3min remaining: 19.5min\n",
      "[Parallel(n_jobs=28)]: Done  10 out of  26 | elapsed: 10.3min remaining: 16.6min\n",
      "[Parallel(n_jobs=28)]: Done  11 out of  26 | elapsed: 10.3min remaining: 14.1min\n",
      "[Parallel(n_jobs=28)]: Done  12 out of  26 | elapsed: 10.4min remaining: 12.2min\n",
      "[Parallel(n_jobs=28)]: Done  13 out of  26 | elapsed: 10.4min remaining: 10.4min\n",
      "[Parallel(n_jobs=28)]: Done  14 out of  26 | elapsed: 10.4min remaining:  8.9min\n",
      "[Parallel(n_jobs=28)]: Done  15 out of  26 | elapsed: 10.4min remaining:  7.6min\n",
      "[Parallel(n_jobs=28)]: Done  16 out of  26 | elapsed: 10.4min remaining:  6.5min\n",
      "[Parallel(n_jobs=28)]: Done  17 out of  26 | elapsed: 10.5min remaining:  5.5min\n",
      "[Parallel(n_jobs=28)]: Done  18 out of  26 | elapsed: 10.5min remaining:  4.7min\n",
      "[Parallel(n_jobs=28)]: Done  19 out of  26 | elapsed: 10.5min remaining:  3.9min\n",
      "[Parallel(n_jobs=28)]: Done  20 out of  26 | elapsed: 10.5min remaining:  3.1min\n",
      "[Parallel(n_jobs=28)]: Done  21 out of  26 | elapsed: 10.5min remaining:  2.5min\n",
      "[Parallel(n_jobs=28)]: Done  22 out of  26 | elapsed: 10.5min remaining:  1.9min\n",
      "[Parallel(n_jobs=28)]: Done  23 out of  26 | elapsed: 10.5min remaining:  1.4min\n",
      "[Parallel(n_jobs=28)]: Done  24 out of  26 | elapsed: 10.5min remaining:   52.6s\n",
      "[Parallel(n_jobs=28)]: Done  26 out of  26 | elapsed: 10.5min remaining:    0.0s\n",
      "[Parallel(n_jobs=28)]: Done  26 out of  26 | elapsed: 10.5min finished\n"
     ]
    }
   ],
   "source": [
    "def get_all_day_bouts(sess_par: dict, hparams:dict, n_jobs: int=12) -> pd.DataFrame:\n",
    "    \n",
    "    logger.info('Will search for bouts through all session {}, {}'.format(sess_par['bird'], sess_par['sess']))\n",
    "    exp_struct = et.get_exp_struct(sess_par['bird'], sess_par['sess'], ephys_software='alsa')\n",
    "\n",
    "    # get all the paths to the wav files of the day\n",
    "    raw_folder = exp_struct['folders']['alsa']\n",
    "    wav_path_list = glob.glob(os.path.join(exp_struct['folders']['alsa'], '*.wav'))\n",
    "    wav_path_list.sort()\n",
    "    logger.info('Found {} files'.format(len(wav_path_list)))\n",
    "    \n",
    "    def get_file_bouts(i_path):\n",
    "        return bs.get_bouts_in_file(i_path, hparams)[0]\n",
    "    \n",
    "    # Go parallel through all the paths in the day, get a list of all the pandas dataframes for each file\n",
    "    sess_pd_list = Parallel(n_jobs=n_jobs, verbose=100, backend=None)(delayed(get_file_bouts)(i) for i in wav_path_list)\n",
    "    \n",
    "    #sess_pd_list = [bs.get_bouts_in_file(i, hparams)[0] for i in wav_path_list]\n",
    "    \n",
    "    # concatenate the file and return it, eventually write to a pickle\n",
    "    sess_bout_pd = pd.concat(sess_pd_list)\n",
    "    return sess_bout_pd\n",
    "\n",
    "sess_bout_pd = get_all_day_bouts(sess_par, hparams, n_jobs=28)"
   ]
  },
  {
   "cell_type": "code",
   "execution_count": 18,
   "id": "creative-python",
   "metadata": {},
   "outputs": [],
   "source": [
    "import sys\n",
    "sys.stdout.flush()"
   ]
  },
  {
   "cell_type": "code",
   "execution_count": 19,
   "id": "declared-corps",
   "metadata": {},
   "outputs": [
    {
     "data": {
      "text/plain": [
       "(176, 16)"
      ]
     },
     "execution_count": 19,
     "metadata": {},
     "output_type": "execute_result"
    }
   ],
   "source": [
    "sess_bout_pd.shape"
   ]
  },
  {
   "cell_type": "markdown",
   "id": "associate-integration",
   "metadata": {},
   "source": [
    "### save the pandas for the day as a pickle"
   ]
  },
  {
   "cell_type": "code",
   "execution_count": 20,
   "id": "boring-sharp",
   "metadata": {},
   "outputs": [],
   "source": [
    "import pickle\n",
    "import sys"
   ]
  },
  {
   "cell_type": "code",
   "execution_count": 22,
   "id": "downtown-platinum",
   "metadata": {},
   "outputs": [
    {
     "name": "stderr",
     "output_type": "stream",
     "text": [
      "2022-01-10 12:14:43,616 root         INFO     saving bouts pandas to /mnt/sphere/speech_bci/derived_data/z_m18m20_21/2022-01-08/alsa/bouts_ceciestunepipe/bout_auto.pickle\n",
      "2022-01-10 12:14:43,749 root         INFO     saving bout detect parameters dict to /mnt/sphere/speech_bci/derived_data/z_m18m20_21/2022-01-08/alsa/bouts_ceciestunepipe/bout_search_params.pickle\n"
     ]
    }
   ],
   "source": [
    "def save_auto_bouts(sess_bout_pd, sess_par, hparams):\n",
    "    exp_struct = et.get_exp_struct(sess_par['bird'], sess_par['sess'], ephys_software='alsa')\n",
    "    sess_bouts_dir = os.path.join(exp_struct['folders']['derived'], 'bouts_ceciestunepipe')\n",
    "\n",
    "    sess_bouts_path = os.path.join(sess_bouts_dir, hparams['bout_auto_file'])\n",
    "    hparams_pickle_path = os.path.join(sess_bouts_dir, 'bout_search_params.pickle')\n",
    "\n",
    "    os.makedirs(sess_bouts_dir, exist_ok=True)\n",
    "    logger.info('saving bouts pandas to ' + sess_bouts_path)\n",
    "    sess_bout_pd.to_pickle(sess_bouts_path)\n",
    "\n",
    "    logger.info('saving bout detect parameters dict to ' + hparams_pickle_path)\n",
    "    with open(hparams_pickle_path, 'wb') as fh:\n",
    "        pickle.dump(hparams, fh)\n",
    "        \n",
    "save_auto_bouts(sess_bout_pd, sess_par, hparams)"
   ]
  },
  {
   "cell_type": "code",
   "execution_count": 23,
   "id": "general-terry",
   "metadata": {},
   "outputs": [
    {
     "data": {
      "text/html": [
       "<div>\n",
       "<style scoped>\n",
       "    .dataframe tbody tr th:only-of-type {\n",
       "        vertical-align: middle;\n",
       "    }\n",
       "\n",
       "    .dataframe tbody tr th {\n",
       "        vertical-align: top;\n",
       "    }\n",
       "\n",
       "    .dataframe thead th {\n",
       "        text-align: right;\n",
       "    }\n",
       "</style>\n",
       "<table border=\"1\" class=\"dataframe\">\n",
       "  <thead>\n",
       "    <tr style=\"text-align: right;\">\n",
       "      <th></th>\n",
       "      <th>start_ms</th>\n",
       "      <th>end_ms</th>\n",
       "      <th>start_sample</th>\n",
       "      <th>end_sample</th>\n",
       "      <th>p_step</th>\n",
       "      <th>rms_p</th>\n",
       "      <th>peak_p</th>\n",
       "      <th>bout_check</th>\n",
       "      <th>file</th>\n",
       "      <th>len_ms</th>\n",
       "      <th>syl_in</th>\n",
       "      <th>n_syl</th>\n",
       "      <th>peaks_p</th>\n",
       "      <th>n_peaks</th>\n",
       "      <th>l_p_ratio</th>\n",
       "      <th>waveform</th>\n",
       "    </tr>\n",
       "  </thead>\n",
       "  <tbody>\n",
       "    <tr>\n",
       "      <th>0</th>\n",
       "      <td>1104595</td>\n",
       "      <td>1109110</td>\n",
       "      <td>53020560</td>\n",
       "      <td>53237280</td>\n",
       "      <td>[0.3332896099066227, 0.3997395187092817, 1.013...</td>\n",
       "      <td>0.387231</td>\n",
       "      <td>8.714867</td>\n",
       "      <td>True</td>\n",
       "      <td>/mnt/sphere/speech_bci/raw_data/z_m18m20_21/20...</td>\n",
       "      <td>4515</td>\n",
       "      <td>[[1104595, 1104655], [1105845, 1105870], [1105...</td>\n",
       "      <td>22</td>\n",
       "      <td>[3, 11, 253, 262, 271, 285, 299, 340, 347, 354...</td>\n",
       "      <td>41</td>\n",
       "      <td>110.121951</td>\n",
       "      <td>[-3, -5, -4, -4, -3, -3, -4, -4, -3, -3, -4, -...</td>\n",
       "    </tr>\n",
       "  </tbody>\n",
       "</table>\n",
       "</div>"
      ],
      "text/plain": [
       "   start_ms   end_ms  start_sample  end_sample  \\\n",
       "0   1104595  1109110      53020560    53237280   \n",
       "\n",
       "                                              p_step     rms_p    peak_p  \\\n",
       "0  [0.3332896099066227, 0.3997395187092817, 1.013...  0.387231  8.714867   \n",
       "\n",
       "   bout_check                                               file  len_ms  \\\n",
       "0        True  /mnt/sphere/speech_bci/raw_data/z_m18m20_21/20...    4515   \n",
       "\n",
       "                                              syl_in  n_syl  \\\n",
       "0  [[1104595, 1104655], [1105845, 1105870], [1105...     22   \n",
       "\n",
       "                                             peaks_p  n_peaks   l_p_ratio  \\\n",
       "0  [3, 11, 253, 262, 271, 285, 299, 340, 347, 354...       41  110.121951   \n",
       "\n",
       "                                            waveform  \n",
       "0  [-3, -5, -4, -4, -3, -3, -4, -4, -3, -3, -4, -...  "
      ]
     },
     "execution_count": 23,
     "metadata": {},
     "output_type": "execute_result"
    }
   ],
   "source": [
    "sess_bout_pd.head(1)"
   ]
  },
  {
   "cell_type": "markdown",
   "id": "unsigned-consent",
   "metadata": {},
   "source": [
    "### save the bouts of a pandas as wavs"
   ]
  },
  {
   "cell_type": "code",
   "execution_count": 44,
   "id": "hearing-needle",
   "metadata": {},
   "outputs": [
    {
     "data": {
      "text/plain": [
       "'/mnt/sphere/speech_bci/processed_data/s_b1253_21/bouts_wav'"
      ]
     },
     "execution_count": 44,
     "metadata": {},
     "output_type": "execute_result"
    }
   ],
   "source": [
    "bird_bouts_folder = os.path.abspath('/mnt/sphere/speech_bci/processed_data/s_b1253_21/bouts_wav')\n",
    "bird_bouts_folder"
   ]
  },
  {
   "cell_type": "code",
   "execution_count": 45,
   "id": "characteristic-fundamentals",
   "metadata": {},
   "outputs": [],
   "source": [
    "os.makedirs(bird_bouts_folder, exist_ok=True)"
   ]
  },
  {
   "cell_type": "code",
   "execution_count": 46,
   "id": "compressed-iceland",
   "metadata": {},
   "outputs": [],
   "source": [
    "a_bout = sess_bout_pd.iloc[0]"
   ]
  },
  {
   "cell_type": "code",
   "execution_count": 47,
   "id": "religious-miniature",
   "metadata": {},
   "outputs": [
    {
     "data": {
      "text/plain": [
       "'/mnt/sphere/speech_bci/raw_data/s_b1253_21/2021-08-01/alsa/07-00-02-01.wav'"
      ]
     },
     "execution_count": 47,
     "metadata": {},
     "output_type": "execute_result"
    }
   ],
   "source": [
    "a_bout['file']"
   ]
  },
  {
   "cell_type": "code",
   "execution_count": 43,
   "id": "joint-photographer",
   "metadata": {},
   "outputs": [],
   "source": [
    "def bout_to_wav(a_bout: pd.Series, sess_par, hparams, dest_dir):\n",
    "    file_name = '{}_{}_{}.wav'.format(sess_par['sess'],\n",
    "                                      os.path.split(a_bout['file'])[-1].split('.wav')[0],\n",
    "                                      a_bout['start_ms'])\n",
    "    file_path = os.path.join(dest_dir, file_name)\n",
    "    x = a_bout['waveform']\n",
    "    \n",
    "    wavfile.write(file_path, hparams['sample_rate'], x)\n",
    "    return file_path                                                      \n",
    "    \n",
    "def bouts_to_wavs(sess_bout_pd, sess_par, hparams, dest_dir):\n",
    "    # make the dest_dir if does not exist\n",
    "    logger.info('Saving all session bouts to folder ' + dest_dir)\n",
    "    os.makedirs(dest_dir, exist_ok=True)\n",
    "    # write all the motifs to wavs\n",
    "    sess_bout_pd.apply(lambda x: bout_to_wav(x, sess_par, hparams, dest_dir), axis=1)\n",
    "    # write the hparams as pickle\n",
    "    hparams_pickle_path = os.path.join(dest_dir, 'bout_search_params_{}.pickle'.format(sess_par['sess']))\n",
    "    \n",
    "    logger.info('saving bout detect parameters dict to ' + hparams_pickle_path)\n",
    "    with open(hparams_pickle_path, 'wb') as fh:\n",
    "        pickle.dump(hparams, fh)\n",
    "    \n",
    "# one example\n",
    "sess_bouts_folder = os.path.join(bird_bouts_folder, sess_par['sess'])\n",
    "os.makedirs(sess_bouts_folder, exist_ok=True)\n",
    "#bout_to_wav(a_bout, sess_par, hparams, bout_folder)\n",
    "\n",
    "# all the bouts in the sess\n",
    "#bouts_to_wavs(sess_bout_pd, sess_par, hparams, bird_bouts_folder)"
   ]
  },
  {
   "cell_type": "markdown",
   "id": "sitting-turkey",
   "metadata": {},
   "source": [
    "## Run this for all sessions of the bird with alsa recordings"
   ]
  },
  {
   "cell_type": "markdown",
   "id": "serial-league",
   "metadata": {},
   "source": [
    "#### list all sessions"
   ]
  },
  {
   "cell_type": "code",
   "execution_count": 12,
   "id": "logical-immune",
   "metadata": {},
   "outputs": [
    {
     "data": {
      "text/plain": [
       "<module 'ceciestunepipe.file.bcistructure' from '/mnt/cube/earneodo/repos/ceciestunepipe/ceciestunepipe/file/bcistructure.py'>"
      ]
     },
     "execution_count": 12,
     "metadata": {},
     "output_type": "execute_result"
    }
   ],
   "source": [
    "reload(et)"
   ]
  },
  {
   "cell_type": "code",
   "execution_count": 13,
   "id": "compact-geometry",
   "metadata": {
    "collapsed": true,
    "jupyter": {
     "outputs_hidden": true
    }
   },
   "outputs": [
    {
     "data": {
      "text/plain": [
       "['2021-05-12',\n",
       " '2021-05-20',\n",
       " '2021-05-21',\n",
       " '2021-05-22',\n",
       " '2021-05-23',\n",
       " '2021-05-24',\n",
       " '2021-05-25',\n",
       " '2021-05-26',\n",
       " '2021-05-27',\n",
       " '2021-05-28',\n",
       " '2021-05-29',\n",
       " '2021-05-30',\n",
       " '2021-05-31',\n",
       " '2021-06-01',\n",
       " '2021-06-02',\n",
       " '2021-06-03',\n",
       " '2021-06-04',\n",
       " '2021-06-05',\n",
       " '2021-06-06',\n",
       " '2021-06-07',\n",
       " '2021-06-08',\n",
       " '2021-06-09',\n",
       " '2021-06-10',\n",
       " '2021-06-11',\n",
       " '2021-06-12',\n",
       " '2021-06-13',\n",
       " '2021-06-14',\n",
       " '2021-06-15',\n",
       " '2021-06-16',\n",
       " '2021-06-17',\n",
       " '2021-06-18',\n",
       " '2021-06-19',\n",
       " '2021-06-20',\n",
       " '2021-06-21',\n",
       " '2021-06-22',\n",
       " '2021-06-23',\n",
       " '2021-06-24',\n",
       " '2021-06-25',\n",
       " '2021-06-26',\n",
       " '2021-06-27',\n",
       " '2021-06-28',\n",
       " '2021-06-29',\n",
       " '2021-06-30',\n",
       " '2021-07-01',\n",
       " '2021-07-02',\n",
       " '2021-07-03',\n",
       " '2021-07-04',\n",
       " '2021-07-05',\n",
       " '2021-07-06',\n",
       " '2021-07-07',\n",
       " '2021-07-08',\n",
       " '2021-07-09',\n",
       " '2021-07-10',\n",
       " '2021-07-11',\n",
       " '2021-07-12',\n",
       " '2021-07-13',\n",
       " '2021-07-14',\n",
       " '2021-07-15',\n",
       " '2021-07-16',\n",
       " '2021-07-17',\n",
       " '2021-07-18',\n",
       " '2021-07-19',\n",
       " '2021-07-20',\n",
       " '2021-07-21',\n",
       " '2021-07-22',\n",
       " '2021-07-23',\n",
       " '2021-07-24',\n",
       " '2021-07-25',\n",
       " '2021-07-26',\n",
       " '2021-07-27',\n",
       " '2021-07-28',\n",
       " '2021-07-29',\n",
       " '2021-07-30',\n",
       " '2021-07-31',\n",
       " '2021-08-01',\n",
       " '2021-08-02',\n",
       " '2021-08-03',\n",
       " '2021-08-04',\n",
       " '2021-08-05',\n",
       " '2021-08-06',\n",
       " '2021-08-07',\n",
       " '2021-08-08',\n",
       " '2021-08-09',\n",
       " '2021-08-10',\n",
       " '2021-08-11',\n",
       " '2021-08-12',\n",
       " '2021-08-13',\n",
       " '2021-08-14',\n",
       " '2021-08-15',\n",
       " '2021-08-16',\n",
       " '2021-08-17',\n",
       " '2021-08-18',\n",
       " '2021-08-19',\n",
       " '2021-08-20',\n",
       " '2021-08-21',\n",
       " '2021-08-22',\n",
       " '2021-08-23',\n",
       " '2021-08-24',\n",
       " '2021-08-25',\n",
       " '2021-08-26']"
      ]
     },
     "execution_count": 13,
     "metadata": {},
     "output_type": "execute_result"
    }
   ],
   "source": [
    "all_sessions = et.list_sessions(sess_par['bird'], section='raw', ephys_software='alsa')\n",
    "all_sessions.sort()\n",
    "all_sessions"
   ]
  },
  {
   "cell_type": "code",
   "execution_count": 19,
   "id": "numerical-april",
   "metadata": {},
   "outputs": [
    {
     "data": {
      "text/plain": [
       "['2021-08-01', '2021-08-02', '2021-08-03', '2021-08-04', '2021-08-05']"
      ]
     },
     "execution_count": 19,
     "metadata": {},
     "output_type": "execute_result"
    }
   ],
   "source": [
    "all_sessions[-26:-21]"
   ]
  },
  {
   "cell_type": "code",
   "execution_count": null,
   "id": "bacterial-address",
   "metadata": {},
   "outputs": [],
   "source": []
  },
  {
   "cell_type": "code",
   "execution_count": 48,
   "id": "sapphire-mining",
   "metadata": {},
   "outputs": [
    {
     "name": "stderr",
     "output_type": "stream",
     "text": [
      "2021-08-27 13:31:24,503 root         INFO     Will search for bouts through all session s_b1253_21, 2021-08-02\n",
      "2021-08-27 13:31:24,769 root         INFO     Found 28 files\n"
     ]
    },
    {
     "name": "stdout",
     "output_type": "stream",
     "text": [
      "[Parallel(n_jobs=28)]: Using backend LokyBackend with 28 concurrent workers.\n",
      "[Parallel(n_jobs=28)]: Done   1 tasks      | elapsed: 57.7min\n",
      "[Parallel(n_jobs=28)]: Done   2 out of  28 | elapsed: 57.7min remaining: 750.4min\n",
      "[Parallel(n_jobs=28)]: Done   3 out of  28 | elapsed: 57.7min remaining: 481.0min\n",
      "[Parallel(n_jobs=28)]: Done   4 out of  28 | elapsed: 57.7min remaining: 346.3min\n",
      "[Parallel(n_jobs=28)]: Done   5 out of  28 | elapsed: 57.7min remaining: 265.5min\n",
      "[Parallel(n_jobs=28)]: Done   6 out of  28 | elapsed: 57.7min remaining: 211.6min\n",
      "[Parallel(n_jobs=28)]: Done   7 out of  28 | elapsed: 57.7min remaining: 173.2min\n",
      "[Parallel(n_jobs=28)]: Done   8 out of  28 | elapsed: 57.7min remaining: 144.3min\n",
      "[Parallel(n_jobs=28)]: Done   9 out of  28 | elapsed: 57.7min remaining: 121.9min\n",
      "[Parallel(n_jobs=28)]: Done  10 out of  28 | elapsed: 57.7min remaining: 103.9min\n",
      "[Parallel(n_jobs=28)]: Done  11 out of  28 | elapsed: 57.7min remaining: 89.2min\n",
      "[Parallel(n_jobs=28)]: Done  12 out of  28 | elapsed: 57.7min remaining: 77.0min\n",
      "[Parallel(n_jobs=28)]: Done  13 out of  28 | elapsed: 57.7min remaining: 66.6min\n",
      "[Parallel(n_jobs=28)]: Done  14 out of  28 | elapsed: 57.7min remaining: 57.7min\n",
      "[Parallel(n_jobs=28)]: Done  15 out of  28 | elapsed: 57.7min remaining: 50.0min\n",
      "[Parallel(n_jobs=28)]: Done  16 out of  28 | elapsed: 57.7min remaining: 43.3min\n",
      "[Parallel(n_jobs=28)]: Done  17 out of  28 | elapsed: 57.7min remaining: 37.3min\n",
      "[Parallel(n_jobs=28)]: Done  18 out of  28 | elapsed: 57.7min remaining: 32.1min\n",
      "[Parallel(n_jobs=28)]: Done  19 out of  28 | elapsed: 57.7min remaining: 27.3min\n",
      "[Parallel(n_jobs=28)]: Done  20 out of  28 | elapsed: 57.7min remaining: 23.1min\n",
      "[Parallel(n_jobs=28)]: Done  21 out of  28 | elapsed: 57.7min remaining: 19.2min\n",
      "[Parallel(n_jobs=28)]: Done  22 out of  28 | elapsed: 57.7min remaining: 15.7min\n",
      "[Parallel(n_jobs=28)]: Done  23 out of  28 | elapsed: 57.7min remaining: 12.5min\n",
      "[Parallel(n_jobs=28)]: Done  24 out of  28 | elapsed: 57.7min remaining:  9.6min\n",
      "[Parallel(n_jobs=28)]: Done  25 out of  28 | elapsed: 57.7min remaining:  6.9min\n",
      "[Parallel(n_jobs=28)]: Done  26 out of  28 | elapsed: 57.7min remaining:  4.4min\n",
      "[Parallel(n_jobs=28)]: Done  28 out of  28 | elapsed: 57.7min remaining:    0.0s\n"
     ]
    },
    {
     "name": "stderr",
     "output_type": "stream",
     "text": [
      "2021-08-27 14:29:47,329 root         INFO     Something went wrong in session 2021-08-02\n",
      "2021-08-27 14:29:47,330 root         INFO     Error <class 'joblib.externals.loky.process_executor.TerminatedWorkerError'>\n",
      "2021-08-27 14:29:47,331 root         INFO     Will search for bouts through all session s_b1253_21, 2021-08-03\n",
      "2021-08-27 14:30:01,101 root         INFO     Found 28 files\n"
     ]
    },
    {
     "name": "stdout",
     "output_type": "stream",
     "text": [
      "[Parallel(n_jobs=28)]: Using backend LokyBackend with 28 concurrent workers.\n",
      "[Parallel(n_jobs=28)]: Done   1 tasks      | elapsed: 20.3min\n",
      "[Parallel(n_jobs=28)]: Done   2 out of  28 | elapsed: 20.3min remaining: 263.7min\n",
      "[Parallel(n_jobs=28)]: Done   3 out of  28 | elapsed: 20.3min remaining: 169.0min\n",
      "[Parallel(n_jobs=28)]: Done   4 out of  28 | elapsed: 20.3min remaining: 121.7min\n",
      "[Parallel(n_jobs=28)]: Done   5 out of  28 | elapsed: 20.3min remaining: 93.3min\n",
      "[Parallel(n_jobs=28)]: Done   6 out of  28 | elapsed: 20.3min remaining: 74.4min\n",
      "[Parallel(n_jobs=28)]: Done   7 out of  28 | elapsed: 20.3min remaining: 60.9min\n",
      "[Parallel(n_jobs=28)]: Done   8 out of  28 | elapsed: 20.3min remaining: 50.7min\n",
      "[Parallel(n_jobs=28)]: Done   9 out of  28 | elapsed: 20.3min remaining: 42.8min\n",
      "[Parallel(n_jobs=28)]: Done  10 out of  28 | elapsed: 20.3min remaining: 36.5min\n",
      "[Parallel(n_jobs=28)]: Done  11 out of  28 | elapsed: 20.3min remaining: 31.4min\n",
      "[Parallel(n_jobs=28)]: Done  12 out of  28 | elapsed: 20.3min remaining: 27.0min\n",
      "[Parallel(n_jobs=28)]: Done  13 out of  28 | elapsed: 20.3min remaining: 23.4min\n",
      "[Parallel(n_jobs=28)]: Done  14 out of  28 | elapsed: 20.3min remaining: 20.3min\n",
      "[Parallel(n_jobs=28)]: Done  15 out of  28 | elapsed: 20.3min remaining: 17.6min\n",
      "[Parallel(n_jobs=28)]: Done  16 out of  28 | elapsed: 20.3min remaining: 15.2min\n",
      "[Parallel(n_jobs=28)]: Done  17 out of  28 | elapsed: 20.3min remaining: 13.1min\n",
      "[Parallel(n_jobs=28)]: Done  18 out of  28 | elapsed: 20.3min remaining: 11.3min\n",
      "[Parallel(n_jobs=28)]: Done  19 out of  28 | elapsed: 20.3min remaining:  9.6min\n",
      "[Parallel(n_jobs=28)]: Done  20 out of  28 | elapsed: 20.3min remaining:  8.1min\n",
      "[Parallel(n_jobs=28)]: Done  21 out of  28 | elapsed: 20.3min remaining:  6.8min\n",
      "[Parallel(n_jobs=28)]: Done  22 out of  28 | elapsed: 20.3min remaining:  5.5min\n",
      "[Parallel(n_jobs=28)]: Done  23 out of  28 | elapsed: 20.3min remaining:  4.4min\n",
      "[Parallel(n_jobs=28)]: Done  24 out of  28 | elapsed: 20.3min remaining:  3.4min\n",
      "[Parallel(n_jobs=28)]: Done  25 out of  28 | elapsed: 20.3min remaining:  2.4min\n",
      "[Parallel(n_jobs=28)]: Done  26 out of  28 | elapsed: 20.3min remaining:  1.6min\n",
      "[Parallel(n_jobs=28)]: Done  28 out of  28 | elapsed: 20.3min remaining:    0.0s\n"
     ]
    },
    {
     "name": "stderr",
     "output_type": "stream",
     "text": [
      "2021-08-27 14:50:43,714 root         INFO     Something went wrong in session 2021-08-03\n",
      "2021-08-27 14:50:43,716 root         INFO     Error <class 'joblib.externals.loky.process_executor.TerminatedWorkerError'>\n",
      "2021-08-27 14:50:43,722 root         INFO     Will search for bouts through all session s_b1253_21, 2021-08-04\n",
      "2021-08-27 14:50:43,789 root         INFO     Found 28 files\n"
     ]
    },
    {
     "name": "stdout",
     "output_type": "stream",
     "text": [
      "[Parallel(n_jobs=28)]: Using backend LokyBackend with 28 concurrent workers.\n",
      "[Parallel(n_jobs=28)]: Done   1 tasks      | elapsed: 22.0min\n",
      "[Parallel(n_jobs=28)]: Done   2 out of  28 | elapsed: 23.7min remaining: 307.7min\n",
      "[Parallel(n_jobs=28)]: Done   3 out of  28 | elapsed: 23.7min remaining: 197.3min\n",
      "[Parallel(n_jobs=28)]: Done   4 out of  28 | elapsed: 23.7min remaining: 142.1min\n",
      "[Parallel(n_jobs=28)]: Done   5 out of  28 | elapsed: 23.8min remaining: 109.3min\n",
      "[Parallel(n_jobs=28)]: Done   6 out of  28 | elapsed: 27.0min remaining: 99.1min\n",
      "[Parallel(n_jobs=28)]: Done   7 out of  28 | elapsed: 30.4min remaining: 91.3min\n",
      "[Parallel(n_jobs=28)]: Done   8 out of  28 | elapsed: 31.4min remaining: 78.5min\n",
      "[Parallel(n_jobs=28)]: Done   9 out of  28 | elapsed: 31.4min remaining: 66.3min\n",
      "[Parallel(n_jobs=28)]: Done  10 out of  28 | elapsed: 31.4min remaining: 56.5min\n",
      "[Parallel(n_jobs=28)]: Done  11 out of  28 | elapsed: 31.4min remaining: 48.5min\n",
      "[Parallel(n_jobs=28)]: Done  12 out of  28 | elapsed: 31.4min remaining: 41.9min\n",
      "[Parallel(n_jobs=28)]: Done  13 out of  28 | elapsed: 31.4min remaining: 36.3min\n",
      "[Parallel(n_jobs=28)]: Done  14 out of  28 | elapsed: 31.4min remaining: 31.4min\n",
      "[Parallel(n_jobs=28)]: Done  15 out of  28 | elapsed: 31.4min remaining: 27.2min\n",
      "[Parallel(n_jobs=28)]: Done  16 out of  28 | elapsed: 31.5min remaining: 23.6min\n",
      "[Parallel(n_jobs=28)]: Done  17 out of  28 | elapsed: 31.5min remaining: 20.4min\n",
      "[Parallel(n_jobs=28)]: Done  18 out of  28 | elapsed: 31.5min remaining: 17.5min\n",
      "[Parallel(n_jobs=28)]: Done  19 out of  28 | elapsed: 31.6min remaining: 14.9min\n",
      "[Parallel(n_jobs=28)]: Done  20 out of  28 | elapsed: 31.6min remaining: 12.6min\n",
      "[Parallel(n_jobs=28)]: Done  21 out of  28 | elapsed: 31.6min remaining: 10.5min\n",
      "[Parallel(n_jobs=28)]: Done  22 out of  28 | elapsed: 31.6min remaining:  8.6min\n",
      "[Parallel(n_jobs=28)]: Done  23 out of  28 | elapsed: 31.6min remaining:  6.9min\n",
      "[Parallel(n_jobs=28)]: Done  24 out of  28 | elapsed: 31.7min remaining:  5.3min\n",
      "[Parallel(n_jobs=28)]: Done  25 out of  28 | elapsed: 31.7min remaining:  3.8min\n",
      "[Parallel(n_jobs=28)]: Done  26 out of  28 | elapsed: 31.7min remaining:  2.4min\n"
     ]
    },
    {
     "name": "stderr",
     "output_type": "stream",
     "text": [
      "2021-08-27 15:22:25,337 root         INFO     saving bouts pandas to /mnt/sphere/speech_bci/derived_data/s_b1253_21/2021-08-04/alsa/bouts_ceciestunepipe/bout_auto.pickle\n"
     ]
    },
    {
     "name": "stdout",
     "output_type": "stream",
     "text": [
      "[Parallel(n_jobs=28)]: Done  28 out of  28 | elapsed: 31.7min remaining:    0.0s\n",
      "[Parallel(n_jobs=28)]: Done  28 out of  28 | elapsed: 31.7min finished\n"
     ]
    },
    {
     "name": "stderr",
     "output_type": "stream",
     "text": [
      "2021-08-27 15:22:26,204 root         INFO     saving bout detect parameters dict to /mnt/sphere/speech_bci/derived_data/s_b1253_21/2021-08-04/alsa/bouts_ceciestunepipe/bout_search_params.pickle\n",
      "2021-08-27 15:22:26,207 root         INFO     Something went wrong in session 2021-08-04\n",
      "2021-08-27 15:22:26,209 root         INFO     Error <class 'NameError'>\n",
      "2021-08-27 15:22:26,209 root         INFO     Will search for bouts through all session s_b1253_21, 2021-08-05\n",
      "2021-08-27 15:22:26,286 root         INFO     Found 28 files\n"
     ]
    },
    {
     "name": "stdout",
     "output_type": "stream",
     "text": [
      "[Parallel(n_jobs=28)]: Using backend LokyBackend with 28 concurrent workers.\n",
      "[Parallel(n_jobs=28)]: Done   1 tasks      | elapsed: 15.6min\n",
      "[Parallel(n_jobs=28)]: Done   2 out of  28 | elapsed: 15.6min remaining: 203.0min\n",
      "[Parallel(n_jobs=28)]: Done   3 out of  28 | elapsed: 15.6min remaining: 130.1min\n",
      "[Parallel(n_jobs=28)]: Done   4 out of  28 | elapsed: 15.6min remaining: 93.7min\n",
      "[Parallel(n_jobs=28)]: Done   5 out of  28 | elapsed: 15.6min remaining: 71.8min\n",
      "[Parallel(n_jobs=28)]: Done   6 out of  28 | elapsed: 15.6min remaining: 57.3min\n",
      "[Parallel(n_jobs=28)]: Done   7 out of  28 | elapsed: 15.6min remaining: 46.8min\n",
      "[Parallel(n_jobs=28)]: Done   8 out of  28 | elapsed: 15.6min remaining: 39.0min\n",
      "[Parallel(n_jobs=28)]: Done   9 out of  28 | elapsed: 15.6min remaining: 33.0min\n",
      "[Parallel(n_jobs=28)]: Done  10 out of  28 | elapsed: 15.6min remaining: 28.1min\n",
      "[Parallel(n_jobs=28)]: Done  11 out of  28 | elapsed: 15.6min remaining: 24.1min\n",
      "[Parallel(n_jobs=28)]: Done  12 out of  28 | elapsed: 15.6min remaining: 20.8min\n",
      "[Parallel(n_jobs=28)]: Done  13 out of  28 | elapsed: 15.6min remaining: 18.0min\n",
      "[Parallel(n_jobs=28)]: Done  14 out of  28 | elapsed: 15.6min remaining: 15.6min\n",
      "[Parallel(n_jobs=28)]: Done  15 out of  28 | elapsed: 15.6min remaining: 13.5min\n",
      "[Parallel(n_jobs=28)]: Done  16 out of  28 | elapsed: 15.6min remaining: 11.7min\n",
      "[Parallel(n_jobs=28)]: Done  17 out of  28 | elapsed: 15.6min remaining: 10.1min\n",
      "[Parallel(n_jobs=28)]: Done  18 out of  28 | elapsed: 15.6min remaining:  8.7min\n",
      "[Parallel(n_jobs=28)]: Done  19 out of  28 | elapsed: 15.6min remaining:  7.4min\n",
      "[Parallel(n_jobs=28)]: Done  20 out of  28 | elapsed: 15.6min remaining:  6.2min\n",
      "[Parallel(n_jobs=28)]: Done  21 out of  28 | elapsed: 15.6min remaining:  5.2min\n",
      "[Parallel(n_jobs=28)]: Done  22 out of  28 | elapsed: 15.6min remaining:  4.3min\n",
      "[Parallel(n_jobs=28)]: Done  23 out of  28 | elapsed: 15.6min remaining:  3.4min\n",
      "[Parallel(n_jobs=28)]: Done  24 out of  28 | elapsed: 15.6min remaining:  2.6min\n",
      "[Parallel(n_jobs=28)]: Done  25 out of  28 | elapsed: 15.6min remaining:  1.9min\n",
      "[Parallel(n_jobs=28)]: Done  26 out of  28 | elapsed: 15.6min remaining:  1.2min\n",
      "[Parallel(n_jobs=28)]: Done  28 out of  28 | elapsed: 15.6min remaining:    0.0s\n"
     ]
    },
    {
     "name": "stderr",
     "output_type": "stream",
     "text": [
      "2021-08-27 15:38:19,742 root         INFO     Something went wrong in session 2021-08-05\n",
      "2021-08-27 15:38:19,742 root         INFO     Error <class 'joblib.externals.loky.process_executor.TerminatedWorkerError'>\n"
     ]
    }
   ],
   "source": [
    "for sess in all_sessions[-25:-21]:\n",
    "    try:\n",
    "        sess_par['sess'] = sess\n",
    "        sess_bout_pd = get_all_day_bouts(sess_par, hparams, n_jobs=28)\n",
    "        save_auto_bouts(sess_bout_pd, sess_par, hparams)\n",
    "        sess_bouts_folder = os.path.join(bird_bouts_folder, sess)\n",
    "        bouts_to_wavs(sess_bout_pd, sess_par, hparams, sess_bouts_folder)\n",
    "    except:\n",
    "        logger.info('Something went wrong in session ' + sess)\n",
    "        logger.info('Error {}'.format(sys.exc_info()[0]))\n",
    "        "
   ]
  },
  {
   "cell_type": "code",
   "execution_count": null,
   "id": "attached-watch",
   "metadata": {},
   "outputs": [],
   "source": []
  }
 ],
 "metadata": {
  "kernelspec": {
   "display_name": "unepipe",
   "language": "python",
   "name": "unepipe"
  },
  "language_info": {
   "codemirror_mode": {
    "name": "ipython",
    "version": 3
   },
   "file_extension": ".py",
   "mimetype": "text/x-python",
   "name": "python",
   "nbconvert_exporter": "python",
   "pygments_lexer": "ipython3",
   "version": "3.8.11"
  }
 },
 "nbformat": 4,
 "nbformat_minor": 5
}
