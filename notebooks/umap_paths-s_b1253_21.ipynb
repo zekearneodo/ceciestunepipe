{
 "cells": [
  {
   "cell_type": "code",
   "execution_count": 1,
   "id": "urban-edmonton",
   "metadata": {},
   "outputs": [
    {
     "name": "stderr",
     "output_type": "stream",
     "text": [
      "2021-08-14 09:19:28,112 - root - INFO - Logger set\n",
      "2021-08-14 09:19:28,113 - root - INFO - Hostname pakhi\n"
     ]
    }
   ],
   "source": [
    "%matplotlib inline\n",
    "\n",
    "import os\n",
    "import glob\n",
    "import logging\n",
    "import pickle\n",
    "import numpy as np\n",
    "import pandas as pd\n",
    "from scipy.io import wavfile\n",
    "from scipy import signal\n",
    "\n",
    "from matplotlib import pyplot as plt\n",
    "from importlib import reload\n",
    "\n",
    "logger = logging.getLogger()\n",
    "handler = logging.StreamHandler()\n",
    "formatter = logging.Formatter(\n",
    "        '%(asctime)s %(name)-12s %(levelname)-8s %(message)s')\n",
    "handler.setFormatter(formatter)\n",
    "logger.addHandler(handler)\n",
    "logger.setLevel(logging.INFO)"
   ]
  },
  {
   "cell_type": "markdown",
   "id": "affected-stretch",
   "metadata": {},
   "source": [
    "### Load the data for the bird\n",
    "- sorted spikes\n",
    "- micropphone data"
   ]
  },
  {
   "cell_type": "code",
   "execution_count": null,
   "id": "resident-agreement",
   "metadata": {},
   "outputs": [],
   "source": []
  }
 ],
 "metadata": {
  "kernelspec": {
   "display_name": "otrepipe",
   "language": "python",
   "name": "otrepipe"
  },
  "language_info": {
   "codemirror_mode": {
    "name": "ipython",
    "version": 3
   },
   "file_extension": ".py",
   "mimetype": "text/x-python",
   "name": "python",
   "nbconvert_exporter": "python",
   "pygments_lexer": "ipython3",
   "version": "3.8.3"
  }
 },
 "nbformat": 4,
 "nbformat_minor": 5
}
