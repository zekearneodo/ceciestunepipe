{
 "cells": [
  {
   "cell_type": "markdown",
   "id": "senior-washer",
   "metadata": {},
   "source": [
    "## Searching for bouts for a day of alsa recording"
   ]
  },
  {
   "cell_type": "code",
   "execution_count": 1,
   "id": "affected-moldova",
   "metadata": {},
   "outputs": [
    {
     "name": "stderr",
     "output_type": "stream",
     "text": [
      "2021-07-18 23:22:33,115 root         INFO     Running on pakhi\n"
     ]
    }
   ],
   "source": [
    "%matplotlib inline\n",
    "import os\n",
    "import glob\n",
    "import socket\n",
    "import logging\n",
    "import numpy as np\n",
    "import pandas as pd\n",
    "from scipy.io import wavfile\n",
    "from scipy import signal\n",
    "\n",
    "from matplotlib import pyplot as plt\n",
    "\n",
    "from importlib import reload\n",
    "\n",
    "logger = logging.getLogger()\n",
    "handler = logging.StreamHandler()\n",
    "formatter = logging.Formatter(\n",
    "        '%(asctime)s %(name)-12s %(levelname)-8s %(message)s')\n",
    "handler.setFormatter(formatter)\n",
    "logger.addHandler(handler)\n",
    "logger.setLevel(logging.INFO)\n",
    "\n",
    "logger.info('Running on {}'.format(socket.gethostname()))"
   ]
  },
  {
   "cell_type": "code",
   "execution_count": 2,
   "id": "public-founder",
   "metadata": {},
   "outputs": [],
   "source": [
    "from ceciestunepipe.file import bcistructure as et"
   ]
  },
  {
   "cell_type": "markdown",
   "id": "bronze-transparency",
   "metadata": {},
   "source": [
    "### Get the file locations for a session (day) of recordings"
   ]
  },
  {
   "cell_type": "code",
   "execution_count": 3,
   "id": "acceptable-oregon",
   "metadata": {},
   "outputs": [],
   "source": [
    "reload(et)\n",
    "sess_par = {'bird': 's_b1253_21',\n",
    "           'sess': '2021-07-16'}\n",
    "\n",
    "\n",
    "exp_struct = et.get_exp_struct(sess_par['bird'], sess_par['sess'], ephys_software='alsa')\n",
    "\n",
    "raw_folder = exp_struct['folders']['alsa']"
   ]
  },
  {
   "cell_type": "code",
   "execution_count": 4,
   "id": "important-tuning",
   "metadata": {},
   "outputs": [
    {
     "data": {
      "text/plain": [
       "{'bird': '/mnt/sphere/speech_bci/raw_data/s_b1253_21',\n",
       " 'raw': '/mnt/sphere/speech_bci/raw_data/s_b1253_21/2021-07-16',\n",
       " 'alsa': '/mnt/sphere/speech_bci/raw_data/s_b1253_21/2021-07-16/alsa',\n",
       " 'kwik': '/scratch/earneodo/s_b1253_21/alsa/kwik/2021-07-16',\n",
       " 'processed': '/mnt/sphere/speech_bci/processed_data/s_b1253_21/2021-07-16/alsa',\n",
       " 'derived': '/mnt/sphere/speech_bci/derived_data/s_b1253_21/2021-07-16/alsa',\n",
       " 'tmp': '/scratch/earneodo/tmp',\n",
       " 'msort': '/scratch/earneodo/s_b1253_21/alsa/msort/2021-07-16',\n",
       " 'ksort': '/scratch/earneodo/s_b1253_21/alsa/ksort/2021-07-16'}"
      ]
     },
     "execution_count": 4,
     "metadata": {},
     "output_type": "execute_result"
    }
   ],
   "source": [
    "exp_struct['folders']"
   ]
  },
  {
   "cell_type": "markdown",
   "id": "portuguese-essay",
   "metadata": {},
   "source": [
    "#### search parameters\n",
    "Spectrograms are computed using librosa\n",
    "\n",
    "Additional parameters are for bout search criteria and functions to read the data"
   ]
  },
  {
   "cell_type": "code",
   "execution_count": 5,
   "id": "activated-jamaica",
   "metadata": {},
   "outputs": [],
   "source": [
    "# function for getting one channel out of a wave file\n",
    "def read_wav_chan(wav_path: str, chan_id: int=0) -> tuple:\n",
    "    s_f, x = wavfile.read(wav_path, mmap=True)\n",
    "    return s_f, x[:, chan_id]\n",
    "\n",
    "def sess_file_id(f_path):\n",
    "    n = int(os.path.split(f_path)[1].split('-')[-1].split('.wav')[0])\n",
    "    return n\n",
    "\n",
    "hparams = {\n",
    "    # spectrogram\n",
    "    'num_freq':1024, #1024# how many channels to use in a spectrogram #\n",
    "    'preemphasis':0.97, \n",
    "    'frame_shift_ms':5, # step size for fft\n",
    "    'frame_length_ms':10, #128 # frame length for fft FRAME SAMPLES < NUM_FREQ!!!\n",
    "    'min_level_db':-55, # minimum threshold db for computing spe \n",
    "    'ref_level_db':110, # reference db for computing spec\n",
    "    'sample_rate':None, # sample rate of your data\n",
    "    \n",
    "    # spectrograms\n",
    "    'mel_filter': False, # should a mel filter be used?\n",
    "    'num_mels':1024, # how many channels to use in the mel-spectrogram\n",
    "    'fmin': 500, # low frequency cutoff for mel filter\n",
    "    'fmax': 12000, # high frequency cutoff for mel filter\n",
    "    \n",
    "    # spectrogram inversion\n",
    "    'max_iters':200,\n",
    "    'griffin_lim_iters':20,\n",
    "    'power':1.5,\n",
    "\n",
    "    # Added for the searching\n",
    "    'read_wav_fun': read_wav_chan, # function for loading the wav_like_stream (has to returns fs, ndarray)\n",
    "    'file_order_fun': sess_file_id, # function for extracting the file id within the session\n",
    "    'min_segment': 30, # Minimum length of supra_threshold to consider a 'syllable' (ms)\n",
    "    'min_silence': 2000, # Minmum distance between groups of syllables to consider separate bouts (ms)\n",
    "    'min_bout': 5000, # min bout duration (ms)\n",
    "    'peak_thresh_rms': 0.55, # threshold (rms) for peak acceptance,\n",
    "    'thresh_rms': 0.25, # threshold for detection of syllables\n",
    "    'mean_syl_rms_thresh': 0.3, #threshold for acceptance of mean rms across the syllable (relative to rms of the file)\n",
    "    'max_bout': 120000, #exclude bouts too long\n",
    "    'l_p_r_thresh': 100, # threshold for n of len_ms/peaks (typycally about 2-3 syllable spans\n",
    "    \n",
    "    'waveform_edges': 1000, #get number of ms before and after the edges of the bout for the waveform sample\n",
    "    \n",
    "    'bout_auto_file': 'bout_auto.pickle', # extension for saving the auto found files\n",
    "    'bout_curated_file': 'bout_checked.pickle', #extension for manually curated files (coming soon)\n",
    "    }"
   ]
  },
  {
   "cell_type": "markdown",
   "id": "starting-discretion",
   "metadata": {},
   "source": [
    "#### Get one wave file"
   ]
  },
  {
   "cell_type": "code",
   "execution_count": 6,
   "id": "cellular-glenn",
   "metadata": {},
   "outputs": [],
   "source": [
    "one_wav_path = os.path.join(exp_struct['folders']['alsa'], '07-00-01-02.wav')\n",
    "\n",
    "s_f, x = read_wav_chan(one_wav_path)\n",
    "\n",
    "hparams['sample_rate'] = s_f"
   ]
  },
  {
   "cell_type": "code",
   "execution_count": 7,
   "id": "descending-translator",
   "metadata": {},
   "outputs": [
    {
     "data": {
      "text/plain": [
       "(81600000,)"
      ]
     },
     "execution_count": 7,
     "metadata": {},
     "output_type": "execute_result"
    }
   ],
   "source": [
    "x.shape"
   ]
  },
  {
   "cell_type": "code",
   "execution_count": 8,
   "id": "motivated-shanghai",
   "metadata": {},
   "outputs": [
    {
     "data": {
      "text/plain": [
       "[<matplotlib.lines.Line2D at 0x7fb422611640>]"
      ]
     },
     "execution_count": 8,
     "metadata": {},
     "output_type": "execute_result"
    },
    {
     "data": {
      "image/png": "[encoded data removed]",
      "text/plain": [
       "<Figure size 432x288 with 1 Axes>"
      ]
     },
     "metadata": {
      "needs_background": "light"
     },
     "output_type": "display_data"
    }
   ],
   "source": [
    "plt.plot(x[:50000])"
   ]
  },
  {
   "cell_type": "markdown",
   "id": "meaning-principal",
   "metadata": {},
   "source": [
    "### try the function to search for bouts in the file"
   ]
  },
  {
   "cell_type": "code",
   "execution_count": 9,
   "id": "excited-pressure",
   "metadata": {},
   "outputs": [],
   "source": [
    "from ceciestunepipe.util.sound import boutsearch as bs"
   ]
  },
  {
   "cell_type": "code",
   "execution_count": 44,
   "id": "alpine-fitting",
   "metadata": {},
   "outputs": [
    {
     "name": "stderr",
     "output_type": "stream",
     "text": [
      "2021-07-18 15:39:16,212 ceciestunepipe.util.sound.boutsearch INFO     Getting bouts for file /mnt/sphere/speech_bci/raw_data/s_b1253_21/2021-07-16/alsa/07-00-01-02.wav\n"
     ]
    }
   ],
   "source": [
    "bpd, x, p = bs.get_bouts_in_file(one_wav_path, hparams)"
   ]
  },
  {
   "cell_type": "code",
   "execution_count": 45,
   "id": "executive-pride",
   "metadata": {},
   "outputs": [
    {
     "ename": "KeyError",
     "evalue": "'waveform'",
     "output_type": "error",
     "traceback": [
      "\u001b[0;31m---------------------------------------------------------------------------\u001b[0m",
      "\u001b[0;31mKeyError\u001b[0m                                  Traceback (most recent call last)",
      "\u001b[0;32m~/anaconda3/lib/python3.8/site-packages/pandas/core/indexes/base.py\u001b[0m in \u001b[0;36mget_loc\u001b[0;34m(self, key, method, tolerance)\u001b[0m\n\u001b[1;32m   3080\u001b[0m             \u001b[0;32mtry\u001b[0m\u001b[0;34m:\u001b[0m\u001b[0;34m\u001b[0m\u001b[0;34m\u001b[0m\u001b[0m\n\u001b[0;32m-> 3081\u001b[0;31m                 \u001b[0;32mreturn\u001b[0m \u001b[0mself\u001b[0m\u001b[0;34m.\u001b[0m\u001b[0m_engine\u001b[0m\u001b[0;34m.\u001b[0m\u001b[0mget_loc\u001b[0m\u001b[0;34m(\u001b[0m\u001b[0mcasted_key\u001b[0m\u001b[0;34m)\u001b[0m\u001b[0;34m\u001b[0m\u001b[0;34m\u001b[0m\u001b[0m\n\u001b[0m\u001b[1;32m   3082\u001b[0m             \u001b[0;32mexcept\u001b[0m \u001b[0mKeyError\u001b[0m \u001b[0;32mas\u001b[0m \u001b[0merr\u001b[0m\u001b[0;34m:\u001b[0m\u001b[0;34m\u001b[0m\u001b[0;34m\u001b[0m\u001b[0m\n",
      "\u001b[0;32mpandas/_libs/index.pyx\u001b[0m in \u001b[0;36mpandas._libs.index.IndexEngine.get_loc\u001b[0;34m()\u001b[0m\n",
      "\u001b[0;32mpandas/_libs/index.pyx\u001b[0m in \u001b[0;36mpandas._libs.index.IndexEngine.get_loc\u001b[0;34m()\u001b[0m\n",
      "\u001b[0;32mpandas/_libs/hashtable_class_helper.pxi\u001b[0m in \u001b[0;36mpandas._libs.hashtable.PyObjectHashTable.get_item\u001b[0;34m()\u001b[0m\n",
      "\u001b[0;32mpandas/_libs/hashtable_class_helper.pxi\u001b[0m in \u001b[0;36mpandas._libs.hashtable.PyObjectHashTable.get_item\u001b[0;34m()\u001b[0m\n",
      "\u001b[0;31mKeyError\u001b[0m: 'waveform'",
      "\nThe above exception was the direct cause of the following exception:\n",
      "\u001b[0;31mKeyError\u001b[0m                                  Traceback (most recent call last)",
      "\u001b[0;32m<ipython-input-45-e2ae6568b9b5>\u001b[0m in \u001b[0;36m<module>\u001b[0;34m\u001b[0m\n\u001b[0;32m----> 1\u001b[0;31m \u001b[0mplt\u001b[0m\u001b[0;34m.\u001b[0m\u001b[0mplot\u001b[0m\u001b[0;34m(\u001b[0m\u001b[0mbpd\u001b[0m\u001b[0;34m[\u001b[0m\u001b[0;34m'waveform'\u001b[0m\u001b[0;34m]\u001b[0m\u001b[0;34m.\u001b[0m\u001b[0mvalues\u001b[0m\u001b[0;34m[\u001b[0m\u001b[0;36m0\u001b[0m\u001b[0;34m]\u001b[0m\u001b[0;34m)\u001b[0m\u001b[0;34m\u001b[0m\u001b[0;34m\u001b[0m\u001b[0m\n\u001b[0m",
      "\u001b[0;32m~/anaconda3/lib/python3.8/site-packages/pandas/core/frame.py\u001b[0m in \u001b[0;36m__getitem__\u001b[0;34m(self, key)\u001b[0m\n\u001b[1;32m   3022\u001b[0m             \u001b[0;32mif\u001b[0m \u001b[0mself\u001b[0m\u001b[0;34m.\u001b[0m\u001b[0mcolumns\u001b[0m\u001b[0;34m.\u001b[0m\u001b[0mnlevels\u001b[0m \u001b[0;34m>\u001b[0m \u001b[0;36m1\u001b[0m\u001b[0;34m:\u001b[0m\u001b[0;34m\u001b[0m\u001b[0;34m\u001b[0m\u001b[0m\n\u001b[1;32m   3023\u001b[0m                 \u001b[0;32mreturn\u001b[0m \u001b[0mself\u001b[0m\u001b[0;34m.\u001b[0m\u001b[0m_getitem_multilevel\u001b[0m\u001b[0;34m(\u001b[0m\u001b[0mkey\u001b[0m\u001b[0;34m)\u001b[0m\u001b[0;34m\u001b[0m\u001b[0;34m\u001b[0m\u001b[0m\n\u001b[0;32m-> 3024\u001b[0;31m             \u001b[0mindexer\u001b[0m \u001b[0;34m=\u001b[0m \u001b[0mself\u001b[0m\u001b[0;34m.\u001b[0m\u001b[0mcolumns\u001b[0m\u001b[0;34m.\u001b[0m\u001b[0mget_loc\u001b[0m\u001b[0;34m(\u001b[0m\u001b[0mkey\u001b[0m\u001b[0;34m)\u001b[0m\u001b[0;34m\u001b[0m\u001b[0;34m\u001b[0m\u001b[0m\n\u001b[0m\u001b[1;32m   3025\u001b[0m             \u001b[0;32mif\u001b[0m \u001b[0mis_integer\u001b[0m\u001b[0;34m(\u001b[0m\u001b[0mindexer\u001b[0m\u001b[0;34m)\u001b[0m\u001b[0;34m:\u001b[0m\u001b[0;34m\u001b[0m\u001b[0;34m\u001b[0m\u001b[0m\n\u001b[1;32m   3026\u001b[0m                 \u001b[0mindexer\u001b[0m \u001b[0;34m=\u001b[0m \u001b[0;34m[\u001b[0m\u001b[0mindexer\u001b[0m\u001b[0;34m]\u001b[0m\u001b[0;34m\u001b[0m\u001b[0;34m\u001b[0m\u001b[0m\n",
      "\u001b[0;32m~/anaconda3/lib/python3.8/site-packages/pandas/core/indexes/base.py\u001b[0m in \u001b[0;36mget_loc\u001b[0;34m(self, key, method, tolerance)\u001b[0m\n\u001b[1;32m   3081\u001b[0m                 \u001b[0;32mreturn\u001b[0m \u001b[0mself\u001b[0m\u001b[0;34m.\u001b[0m\u001b[0m_engine\u001b[0m\u001b[0;34m.\u001b[0m\u001b[0mget_loc\u001b[0m\u001b[0;34m(\u001b[0m\u001b[0mcasted_key\u001b[0m\u001b[0;34m)\u001b[0m\u001b[0;34m\u001b[0m\u001b[0;34m\u001b[0m\u001b[0m\n\u001b[1;32m   3082\u001b[0m             \u001b[0;32mexcept\u001b[0m \u001b[0mKeyError\u001b[0m \u001b[0;32mas\u001b[0m \u001b[0merr\u001b[0m\u001b[0;34m:\u001b[0m\u001b[0;34m\u001b[0m\u001b[0;34m\u001b[0m\u001b[0m\n\u001b[0;32m-> 3083\u001b[0;31m                 \u001b[0;32mraise\u001b[0m \u001b[0mKeyError\u001b[0m\u001b[0;34m(\u001b[0m\u001b[0mkey\u001b[0m\u001b[0;34m)\u001b[0m \u001b[0;32mfrom\u001b[0m \u001b[0merr\u001b[0m\u001b[0;34m\u001b[0m\u001b[0;34m\u001b[0m\u001b[0m\n\u001b[0m\u001b[1;32m   3084\u001b[0m \u001b[0;34m\u001b[0m\u001b[0m\n\u001b[1;32m   3085\u001b[0m         \u001b[0;32mif\u001b[0m \u001b[0mtolerance\u001b[0m \u001b[0;32mis\u001b[0m \u001b[0;32mnot\u001b[0m \u001b[0;32mNone\u001b[0m\u001b[0;34m:\u001b[0m\u001b[0;34m\u001b[0m\u001b[0;34m\u001b[0m\u001b[0m\n",
      "\u001b[0;31mKeyError\u001b[0m: 'waveform'"
     ]
    }
   ],
   "source": [
    "plt.plot(bpd['waveform'].values[0])"
   ]
  },
  {
   "cell_type": "code",
   "execution_count": 46,
   "id": "challenging-albuquerque",
   "metadata": {},
   "outputs": [
    {
     "data": {
      "text/html": [
       "<div>\n",
       "<style scoped>\n",
       "    .dataframe tbody tr th:only-of-type {\n",
       "        vertical-align: middle;\n",
       "    }\n",
       "\n",
       "    .dataframe tbody tr th {\n",
       "        vertical-align: top;\n",
       "    }\n",
       "\n",
       "    .dataframe thead th {\n",
       "        text-align: right;\n",
       "    }\n",
       "</style>\n",
       "<table border=\"1\" class=\"dataframe\">\n",
       "  <thead>\n",
       "    <tr style=\"text-align: right;\">\n",
       "      <th></th>\n",
       "    </tr>\n",
       "  </thead>\n",
       "  <tbody>\n",
       "  </tbody>\n",
       "</table>\n",
       "</div>"
      ],
      "text/plain": [
       "Empty DataFrame\n",
       "Columns: []\n",
       "Index: []"
      ]
     },
     "execution_count": 46,
     "metadata": {},
     "output_type": "execute_result"
    }
   ],
   "source": [
    "bpd"
   ]
  },
  {
   "cell_type": "code",
   "execution_count": 47,
   "id": "responsible-wagon",
   "metadata": {},
   "outputs": [
    {
     "data": {
      "text/plain": [
       "{'num_freq': 1024,\n",
       " 'preemphasis': 0.97,\n",
       " 'frame_shift_ms': 5,\n",
       " 'frame_length_ms': 10,\n",
       " 'min_level_db': -55,\n",
       " 'ref_level_db': 110,\n",
       " 'sample_rate': 48000,\n",
       " 'mel_filter': False,\n",
       " 'num_mels': 1024,\n",
       " 'fmin': 500,\n",
       " 'fmax': 12000,\n",
       " 'max_iters': 200,\n",
       " 'griffin_lim_iters': 20,\n",
       " 'power': 1.5,\n",
       " 'read_wav_fun': <function __main__.read_wav_chan(wav_path: str, chan_id: int = 0) -> tuple>,\n",
       " 'file_order_fun': <function __main__.sess_file_id(f_path)>,\n",
       " 'min_segment': 30,\n",
       " 'min_silence': 2000,\n",
       " 'min_bout': 5000,\n",
       " 'peak_thresh_rms': 0.55,\n",
       " 'thresh_rms': 0.25,\n",
       " 'mean_syl_rms_thresh': 0.3,\n",
       " 'max_bout': 120000,\n",
       " 'l_p_r_thresh': 100,\n",
       " 'waveform_edges': 1000,\n",
       " 'bout_auto_file': 'bout_auto.pickle',\n",
       " 'bout_curated_file': 'bout_checked.pickle'}"
      ]
     },
     "execution_count": 47,
     "metadata": {},
     "output_type": "execute_result"
    }
   ],
   "source": [
    "hparams"
   ]
  },
  {
   "cell_type": "markdown",
   "id": "approved-immigration",
   "metadata": {},
   "source": [
    "### get all bouts of the day"
   ]
  },
  {
   "cell_type": "code",
   "execution_count": 10,
   "id": "academic-manchester",
   "metadata": {},
   "outputs": [],
   "source": [
    "from joblib import Parallel, delayed"
   ]
  },
  {
   "cell_type": "code",
   "execution_count": 18,
   "id": "moral-casting",
   "metadata": {},
   "outputs": [
    {
     "data": {
      "text/plain": [
       "<module 'ceciestunepipe.util.sound.boutsearch' from '/mnt/cube/earneodo/repos/ceciestunepipe/ceciestunepipe/util/sound/boutsearch.py'>"
      ]
     },
     "execution_count": 18,
     "metadata": {},
     "output_type": "execute_result"
    }
   ],
   "source": [
    "reload(bs)"
   ]
  },
  {
   "cell_type": "code",
   "execution_count": 19,
   "id": "pacific-pharmacy",
   "metadata": {},
   "outputs": [
    {
     "name": "stderr",
     "output_type": "stream",
     "text": [
      "2021-07-18 23:36:35,811 root         INFO     Will search for bouts through all session s_b1253_21, 2021-07-16\n",
      "2021-07-18 23:36:35,813 root         INFO     Found 28 files\n"
     ]
    }
   ],
   "source": [
    "def get_all_day_bouts(sess_par: dict, hparams:dict, n_jobs: int=8) -> pd.DataFrame:\n",
    "    \n",
    "    logger.info('Will search for bouts through all session {}, {}'.format(sess_par['bird'], sess_par['sess']))\n",
    "    exp_struct = et.get_exp_struct(sess_par['bird'], sess_par['sess'], ephys_software='alsa')\n",
    "\n",
    "    # get all the paths to the wav files of the day\n",
    "    raw_folder = exp_struct['folders']['alsa']\n",
    "    wav_path_list = glob.glob(os.path.join(exp_struct['folders']['alsa'], '*.wav'))\n",
    "    wav_path_list.sort()\n",
    "    logger.info('Found {} files'.format(len(wav_path_list)))\n",
    "    \n",
    "    # Go parallel through all the paths in the day, get a list of all the pandas dataframes for each file\n",
    "    sess_pd_list = Parallel(n_jobs=n_jobs)(delayed(lambda i: bs.get_bouts_in_file(i, hparams)[0])(i) for i in wav_path_list)\n",
    "    \n",
    "    # concatenate the file and return it, eventually write to a pickle\n",
    "    sess_bout_pd = pd.concat(sess_pd_list)\n",
    "    return sess_bout_pd\n",
    "\n",
    "sess_bout_pd = get_all_day_bouts(sess_par, hparams)"
   ]
  },
  {
   "cell_type": "code",
   "execution_count": 20,
   "id": "impaired-jumping",
   "metadata": {},
   "outputs": [],
   "source": [
    "import sys\n",
    "sys.stdout.flush()"
   ]
  },
  {
   "cell_type": "code",
   "execution_count": 21,
   "id": "recovered-polymer",
   "metadata": {},
   "outputs": [
    {
     "data": {
      "text/plain": [
       "(9, 16)"
      ]
     },
     "execution_count": 21,
     "metadata": {},
     "output_type": "execute_result"
    }
   ],
   "source": [
    "sess_bout_pd.shape"
   ]
  },
  {
   "cell_type": "markdown",
   "id": "multiple-worth",
   "metadata": {},
   "source": [
    "### save the pandas for the day as a pickle"
   ]
  },
  {
   "cell_type": "code",
   "execution_count": 22,
   "id": "empirical-transsexual",
   "metadata": {},
   "outputs": [],
   "source": [
    "import pickle\n",
    "import sys"
   ]
  },
  {
   "cell_type": "code",
   "execution_count": 23,
   "id": "sunrise-reach",
   "metadata": {},
   "outputs": [
    {
     "name": "stderr",
     "output_type": "stream",
     "text": [
      "2021-07-18 23:46:38,587 root         INFO     saving bouts pandas to /mnt/sphere/speech_bci/derived_data/s_b1253_21/2021-07-16/alsa/bouts_ceciestunepipe/bout_auto.pickle\n",
      "2021-07-18 23:46:38,612 root         INFO     saving bout detect parameters dict to /mnt/sphere/speech_bci/derived_data/s_b1253_21/2021-07-16/alsa/bouts_ceciestunepipe/bout_search_params.pickle\n"
     ]
    }
   ],
   "source": [
    "def save_auto_bouts(sess_bout_pd, sess_par, hparams):\n",
    "    exp_struct = et.get_exp_struct(sess_par['bird'], sess_par['sess'], ephys_software='alsa')\n",
    "    sess_bouts_dir = os.path.join(exp_struct['folders']['derived'], 'bouts_ceciestunepipe')\n",
    "\n",
    "    sess_bouts_path = os.path.join(sess_bouts_dir, hparams['bout_auto_file'])\n",
    "    hparams_pickle_path = os.path.join(sess_bouts_dir, 'bout_search_params.pickle')\n",
    "\n",
    "    os.makedirs(sess_bouts_dir, exist_ok=True)\n",
    "    logger.info('saving bouts pandas to ' + sess_bouts_path)\n",
    "    sess_bout_pd.to_pickle(sess_bouts_path)\n",
    "\n",
    "    logger.info('saving bout detect parameters dict to ' + hparams_pickle_path)\n",
    "    with open(hparams_pickle_path, 'wb') as fh:\n",
    "        pickle.dump(hparams, fh)\n",
    "        \n",
    "save_auto_bouts(sess_bout_pd, sess_par, hparams)"
   ]
  },
  {
   "cell_type": "code",
   "execution_count": 24,
   "id": "driving-looking",
   "metadata": {},
   "outputs": [
    {
     "data": {
      "text/html": [
       "<div>\n",
       "<style scoped>\n",
       "    .dataframe tbody tr th:only-of-type {\n",
       "        vertical-align: middle;\n",
       "    }\n",
       "\n",
       "    .dataframe tbody tr th {\n",
       "        vertical-align: top;\n",
       "    }\n",
       "\n",
       "    .dataframe thead th {\n",
       "        text-align: right;\n",
       "    }\n",
       "</style>\n",
       "<table border=\"1\" class=\"dataframe\">\n",
       "  <thead>\n",
       "    <tr style=\"text-align: right;\">\n",
       "      <th></th>\n",
       "      <th>start_ms</th>\n",
       "      <th>end_ms</th>\n",
       "      <th>start_sample</th>\n",
       "      <th>end_sample</th>\n",
       "      <th>p_step</th>\n",
       "      <th>rms_p</th>\n",
       "      <th>peak_p</th>\n",
       "      <th>bout_check</th>\n",
       "      <th>file</th>\n",
       "      <th>len_ms</th>\n",
       "      <th>syl_in</th>\n",
       "      <th>n_syl</th>\n",
       "      <th>peaks_p</th>\n",
       "      <th>n_peaks</th>\n",
       "      <th>l_p_ratio</th>\n",
       "      <th>waveform</th>\n",
       "    </tr>\n",
       "  </thead>\n",
       "  <tbody>\n",
       "    <tr>\n",
       "      <th>0</th>\n",
       "      <td>623460</td>\n",
       "      <td>631525</td>\n",
       "      <td>29926080</td>\n",
       "      <td>30313200</td>\n",
       "      <td>[1.4092918071904401, 2.099341895186389, 34.882...</td>\n",
       "      <td>2.007119</td>\n",
       "      <td>214.691782</td>\n",
       "      <td>True</td>\n",
       "      <td>/mnt/sphere/speech_bci/raw_data/s_b1253_21/202...</td>\n",
       "      <td>8065</td>\n",
       "      <td>[[623460, 623520], [624805, 624850], [625240, ...</td>\n",
       "      <td>12</td>\n",
       "      <td>[2, 51, 164, 227, 270, 358, 376, 574, 623, 670...</td>\n",
       "      <td>34</td>\n",
       "      <td>237.205882</td>\n",
       "      <td>[2, 2, 0, -1, 0, 0, 0, 0, 1, 0, 0, 0, 0, 0, 0,...</td>\n",
       "    </tr>\n",
       "  </tbody>\n",
       "</table>\n",
       "</div>"
      ],
      "text/plain": [
       "   start_ms  end_ms  start_sample  end_sample  \\\n",
       "0    623460  631525      29926080    30313200   \n",
       "\n",
       "                                              p_step     rms_p      peak_p  \\\n",
       "0  [1.4092918071904401, 2.099341895186389, 34.882...  2.007119  214.691782   \n",
       "\n",
       "   bout_check                                               file  len_ms  \\\n",
       "0        True  /mnt/sphere/speech_bci/raw_data/s_b1253_21/202...    8065   \n",
       "\n",
       "                                              syl_in  n_syl  \\\n",
       "0  [[623460, 623520], [624805, 624850], [625240, ...     12   \n",
       "\n",
       "                                             peaks_p  n_peaks   l_p_ratio  \\\n",
       "0  [2, 51, 164, 227, 270, 358, 376, 574, 623, 670...       34  237.205882   \n",
       "\n",
       "                                            waveform  \n",
       "0  [2, 2, 0, -1, 0, 0, 0, 0, 1, 0, 0, 0, 0, 0, 0,...  "
      ]
     },
     "execution_count": 24,
     "metadata": {},
     "output_type": "execute_result"
    }
   ],
   "source": [
    "sess_bout_pd.head(1)"
   ]
  },
  {
   "cell_type": "markdown",
   "id": "promising-royalty",
   "metadata": {},
   "source": [
    "### save the bouts of a pandas as wavs"
   ]
  },
  {
   "cell_type": "code",
   "execution_count": 25,
   "id": "opened-circus",
   "metadata": {},
   "outputs": [
    {
     "data": {
      "text/plain": [
       "'/mnt/sphere/speech_bci/processed_data/s_b1253_21/bouts_wav'"
      ]
     },
     "execution_count": 25,
     "metadata": {},
     "output_type": "execute_result"
    }
   ],
   "source": [
    "bird_bouts_folder = os.path.abspath('/mnt/sphere/speech_bci/processed_data/s_b1253_21/bouts_wav')\n",
    "bird_bouts_folder"
   ]
  },
  {
   "cell_type": "code",
   "execution_count": 26,
   "id": "pleased-genre",
   "metadata": {},
   "outputs": [],
   "source": [
    "os.makedirs(bird_bouts_folder, exist_ok=True)"
   ]
  },
  {
   "cell_type": "code",
   "execution_count": 27,
   "id": "spiritual-privacy",
   "metadata": {},
   "outputs": [],
   "source": [
    "a_bout = sess_bout_pd.iloc[0]"
   ]
  },
  {
   "cell_type": "code",
   "execution_count": 28,
   "id": "sharing-homeless",
   "metadata": {},
   "outputs": [
    {
     "data": {
      "text/plain": [
       "'/mnt/sphere/speech_bci/raw_data/s_b1253_21/2021-07-16/alsa/07-00-01-01.wav'"
      ]
     },
     "execution_count": 28,
     "metadata": {},
     "output_type": "execute_result"
    }
   ],
   "source": [
    "a_bout['file']"
   ]
  },
  {
   "cell_type": "code",
   "execution_count": 29,
   "id": "suffering-medline",
   "metadata": {},
   "outputs": [],
   "source": [
    "def bout_to_wav(a_bout: pd.Series, sess_par, hparams, dest_dir):\n",
    "    file_name = '{}_{}_{}.wav'.format(sess_par['sess'],\n",
    "                                      os.path.split(a_bout['file'])[-1].split('.wav')[0],\n",
    "                                      a_bout['start_ms'])\n",
    "    file_path = os.path.join(dest_dir, file_name)\n",
    "    x = a_bout['waveform']\n",
    "    \n",
    "    wavfile.write(file_path, hparams['sample_rate'], x)\n",
    "    return file_path                                                      \n",
    "    \n",
    "def bouts_to_wavs(sess_bout_pd, sess_par, hparams, dest_dir):\n",
    "    # make the dest_dir if does not exist\n",
    "    logger.info('Saving all session bouts to folder ' + dest_dir)\n",
    "    os.makedirs(dest_dir, exist_ok=True)\n",
    "    # write all the motifs to wavs\n",
    "    sess_bout_pd.apply(lambda x: bout_to_wav(x, sess_par, hparams, dest_dir), axis=1)\n",
    "    # write the hparams as pickle\n",
    "    hparams_pickle_path = os.path.join(dest_dir, 'bout_search_params_{}.pickle'.format(sess_par['sess']))\n",
    "    \n",
    "    logger.info('saving bout detect parameters dict to ' + hparams_pickle_path)\n",
    "    with open(hparams_pickle_path, 'wb') as fh:\n",
    "        pickle.dump(hparams, fh)\n",
    "    \n",
    "# one example\n",
    "sess_bouts_folder = os.path.join(bird_bouts_folder, sess_par['sess'])\n",
    "os.makedirs(sess_bouts_folder, exist_ok=True)\n",
    "#bout_to_wav(a_bout, sess_par, hparams, bout_folder)\n",
    "\n",
    "# all the bouts in the sess\n",
    "#bouts_to_wavs(sess_bout_pd, sess_par, hparams, bird_bouts_folder)"
   ]
  },
  {
   "cell_type": "markdown",
   "id": "expired-dress",
   "metadata": {},
   "source": [
    "## Run this for all sessions of the bird with alsa recordings"
   ]
  },
  {
   "cell_type": "markdown",
   "id": "mounted-pressure",
   "metadata": {},
   "source": [
    "#### list all sessions"
   ]
  },
  {
   "cell_type": "code",
   "execution_count": 30,
   "id": "disturbed-biotechnology",
   "metadata": {},
   "outputs": [
    {
     "data": {
      "text/plain": [
       "<module 'ceciestunepipe.file.bcistructure' from '/mnt/cube/earneodo/repos/ceciestunepipe/ceciestunepipe/file/bcistructure.py'>"
      ]
     },
     "execution_count": 30,
     "metadata": {},
     "output_type": "execute_result"
    }
   ],
   "source": [
    "reload(et)"
   ]
  },
  {
   "cell_type": "code",
   "execution_count": 35,
   "id": "lesser-michigan",
   "metadata": {
    "scrolled": true
   },
   "outputs": [
    {
     "data": {
      "text/plain": [
       "['2021-05-12',\n",
       " '2021-05-20',\n",
       " '2021-05-21',\n",
       " '2021-05-22',\n",
       " '2021-05-23',\n",
       " '2021-05-24',\n",
       " '2021-05-25',\n",
       " '2021-05-26',\n",
       " '2021-05-27',\n",
       " '2021-05-28',\n",
       " '2021-05-29',\n",
       " '2021-05-30',\n",
       " '2021-05-31',\n",
       " '2021-06-01',\n",
       " '2021-06-02',\n",
       " '2021-06-03',\n",
       " '2021-06-04',\n",
       " '2021-06-05',\n",
       " '2021-06-06',\n",
       " '2021-06-07',\n",
       " '2021-06-08',\n",
       " '2021-06-09',\n",
       " '2021-06-10',\n",
       " '2021-06-11',\n",
       " '2021-06-12',\n",
       " '2021-06-13',\n",
       " '2021-06-14',\n",
       " '2021-06-15',\n",
       " '2021-06-16',\n",
       " '2021-06-17',\n",
       " '2021-06-18',\n",
       " '2021-06-19',\n",
       " '2021-06-20',\n",
       " '2021-06-21',\n",
       " '2021-06-22',\n",
       " '2021-06-23',\n",
       " '2021-06-24',\n",
       " '2021-06-25',\n",
       " '2021-06-26',\n",
       " '2021-06-27',\n",
       " '2021-06-28',\n",
       " '2021-06-29',\n",
       " '2021-06-30',\n",
       " '2021-07-01',\n",
       " '2021-07-02',\n",
       " '2021-07-03',\n",
       " '2021-07-04',\n",
       " '2021-07-05',\n",
       " '2021-07-06',\n",
       " '2021-07-07',\n",
       " '2021-07-08',\n",
       " '2021-07-09',\n",
       " '2021-07-10',\n",
       " '2021-07-11',\n",
       " '2021-07-12',\n",
       " '2021-07-13',\n",
       " '2021-07-14',\n",
       " '2021-07-15',\n",
       " '2021-07-16',\n",
       " '2021-07-17',\n",
       " '2021-07-18',\n",
       " '2021-07-19']"
      ]
     },
     "execution_count": 35,
     "metadata": {},
     "output_type": "execute_result"
    }
   ],
   "source": [
    "all_sessions = et.list_sessions(sess_par['bird'], section='raw', ephys_software='alsa')\n",
    "all_sessions.sort()\n",
    "all_sessions"
   ]
  },
  {
   "cell_type": "code",
   "execution_count": 36,
   "id": "filled-tribune",
   "metadata": {},
   "outputs": [
    {
     "data": {
      "text/plain": [
       "['2021-07-19']"
      ]
     },
     "execution_count": 36,
     "metadata": {},
     "output_type": "execute_result"
    }
   ],
   "source": [
    "all_sessions[-1:]"
   ]
  },
  {
   "cell_type": "code",
   "execution_count": null,
   "id": "indie-difference",
   "metadata": {},
   "outputs": [],
   "source": []
  },
  {
   "cell_type": "code",
   "execution_count": 37,
   "id": "suspended-barcelona",
   "metadata": {},
   "outputs": [
    {
     "name": "stderr",
     "output_type": "stream",
     "text": [
      "2021-07-19 22:08:03,595 root         INFO     Will search for bouts through all session s_b1253_21, 2021-07-19\n",
      "2021-07-19 22:08:03,663 root         INFO     Found 28 files\n",
      "2021-07-19 22:15:32,710 root         INFO     saving bouts pandas to /mnt/sphere/speech_bci/derived_data/s_b1253_21/2021-07-19/alsa/bouts_ceciestunepipe/bout_auto.pickle\n",
      "2021-07-19 22:15:32,875 root         INFO     saving bout detect parameters dict to /mnt/sphere/speech_bci/derived_data/s_b1253_21/2021-07-19/alsa/bouts_ceciestunepipe/bout_search_params.pickle\n",
      "2021-07-19 22:15:32,877 root         INFO     Saving all session bouts to folder /mnt/sphere/speech_bci/processed_data/s_b1253_21/bouts_wav/2021-07-19\n",
      "2021-07-19 22:15:33,014 root         INFO     saving bout detect parameters dict to /mnt/sphere/speech_bci/processed_data/s_b1253_21/bouts_wav/2021-07-19/bout_search_params_2021-07-19.pickle\n"
     ]
    }
   ],
   "source": [
    "for sess in all_sessions[-1:]:\n",
    "    try:\n",
    "        sess_par['sess'] = sess\n",
    "        sess_bout_pd = get_all_day_bouts(sess_par, hparams, n_jobs=28)\n",
    "        save_auto_bouts(sess_bout_pd, sess_par, hparams)\n",
    "        sess_bouts_folder = os.path.join(bird_bouts_folder, sess)\n",
    "        bouts_to_wavs(sess_bout_pd, sess_par, hparams, sess_bouts_folder)\n",
    "    except:\n",
    "        logger.info('Something went wrong in session ' + sess)\n",
    "        logger.info('Error {}'.format(sys.exc_info()[0]))\n",
    "        "
   ]
  },
  {
   "cell_type": "code",
   "execution_count": null,
   "id": "insured-trademark",
   "metadata": {},
   "outputs": [],
   "source": []
  }
 ],
 "metadata": {
  "kernelspec": {
   "display_name": "otrepipe",
   "language": "python",
   "name": "otrepipe"
  },
  "language_info": {
   "codemirror_mode": {
    "name": "ipython",
    "version": 3
   },
   "file_extension": ".py",
   "mimetype": "text/x-python",
   "name": "python",
   "nbconvert_exporter": "python",
   "pygments_lexer": "ipython3",
   "version": "3.8.3"
  }
 },
 "nbformat": 4,
 "nbformat_minor": 5
}
