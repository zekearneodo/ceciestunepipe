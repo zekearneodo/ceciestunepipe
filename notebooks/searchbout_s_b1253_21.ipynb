{
 "cells": [
  {
   "cell_type": "markdown",
   "id": "affecting-chess",
   "metadata": {},
   "source": [
    "## Searching for bouts for a day of alsa recording"
   ]
  },
  {
   "cell_type": "code",
   "execution_count": 1,
   "id": "indonesian-seafood",
   "metadata": {},
   "outputs": [
    {
     "name": "stderr",
     "output_type": "stream",
     "text": [
      "2022-01-10 08:33:43,265 root         INFO     Running on pakhi\n"
     ]
    }
   ],
   "source": [
    "%matplotlib inline\n",
    "import os\n",
    "import glob\n",
    "import socket\n",
    "import logging\n",
    "import numpy as np\n",
    "import pandas as pd\n",
    "from scipy.io import wavfile\n",
    "from scipy import signal\n",
    "\n",
    "from matplotlib import pyplot as plt\n",
    "\n",
    "from importlib import reload\n",
    "\n",
    "logger = logging.getLogger()\n",
    "handler = logging.StreamHandler()\n",
    "formatter = logging.Formatter(\n",
    "        '%(asctime)s %(name)-12s %(levelname)-8s %(message)s')\n",
    "handler.setFormatter(formatter)\n",
    "logger.addHandler(handler)\n",
    "logger.setLevel(logging.INFO)\n",
    "\n",
    "logger.info('Running on {}'.format(socket.gethostname()))"
   ]
  },
  {
   "cell_type": "code",
   "execution_count": 3,
   "id": "downtown-rover",
   "metadata": {},
   "outputs": [],
   "source": [
    "from ceciestunepipe.file import bcistructure as et"
   ]
  },
  {
   "cell_type": "markdown",
   "id": "handy-priest",
   "metadata": {},
   "source": [
    "### Get the file locations for a session (day) of recordings"
   ]
  },
  {
   "cell_type": "code",
   "execution_count": 49,
   "id": "scheduled-paris",
   "metadata": {},
   "outputs": [],
   "source": [
    "reload(et)\n",
    "sess_par = {'bird': 's_b1253_21',\n",
    "           'sess': '2021-08-02'}\n",
    "\n",
    "\n",
    "exp_struct = et.get_exp_struct(sess_par['bird'], sess_par['sess'], ephys_software='alsa')\n",
    "\n",
    "raw_folder = exp_struct['folders']['alsa']"
   ]
  },
  {
   "cell_type": "code",
   "execution_count": 23,
   "id": "intermediate-liver",
   "metadata": {},
   "outputs": [
    {
     "data": {
      "text/plain": [
       "{'bird': '/mnt/sphere/speech_bci/raw_data/s_b1253_21',\n",
       " 'raw': '/mnt/sphere/speech_bci/raw_data/s_b1253_21/2021-08-01',\n",
       " 'alsa': '/mnt/sphere/speech_bci/raw_data/s_b1253_21/2021-08-01/alsa',\n",
       " 'kwik': '/scratch/earneodo/s_b1253_21/alsa/kwik/2021-08-01',\n",
       " 'processed': '/mnt/sphere/speech_bci/processed_data/s_b1253_21/2021-08-01/alsa',\n",
       " 'derived': '/mnt/sphere/speech_bci/derived_data/s_b1253_21/2021-08-01/alsa',\n",
       " 'tmp': '/scratch/earneodo/tmp',\n",
       " 'msort': '/scratch/earneodo/s_b1253_21/alsa/msort/2021-08-01',\n",
       " 'ksort': '/scratch/earneodo/s_b1253_21/alsa/ksort/2021-08-01'}"
      ]
     },
     "execution_count": 23,
     "metadata": {},
     "output_type": "execute_result"
    }
   ],
   "source": [
    "exp_struct['folders']"
   ]
  },
  {
   "cell_type": "markdown",
   "id": "stylish-system",
   "metadata": {},
   "source": [
    "#### search parameters\n",
    "Spectrograms are computed using librosa\n",
    "\n",
    "Additional parameters are for bout search criteria and functions to read the data"
   ]
  },
  {
   "cell_type": "code",
   "execution_count": 24,
   "id": "contemporary-miracle",
   "metadata": {},
   "outputs": [],
   "source": [
    "# function for getting one channel out of a wave file\n",
    "def read_wav_chan(wav_path: str, chan_id: int=0) -> tuple:\n",
    "    s_f, x = wavfile.read(wav_path, mmap=True)\n",
    "    return s_f, x[:, chan_id]\n",
    "\n",
    "def sess_file_id(f_path):\n",
    "    n = int(os.path.split(f_path)[1].split('-')[-1].split('.wav')[0])\n",
    "    return n\n",
    "\n",
    "hparams = {\n",
    "    # spectrogram\n",
    "    'num_freq':1024, #1024# how many channels to use in a spectrogram #\n",
    "    'preemphasis':0.97, \n",
    "    'frame_shift_ms':5, # step size for fft\n",
    "    'frame_length_ms':10, #128 # frame length for fft FRAME SAMPLES < NUM_FREQ!!!\n",
    "    'min_level_db':-55, # minimum threshold db for computing spe \n",
    "    'ref_level_db':110, # reference db for computing spec\n",
    "    'sample_rate':None, # sample rate of your data\n",
    "    \n",
    "    # spectrograms\n",
    "    'mel_filter': False, # should a mel filter be used?\n",
    "    'num_mels':1024, # how many channels to use in the mel-spectrogram\n",
    "    'fmin': 500, # low frequency cutoff for mel filter\n",
    "    'fmax': 12000, # high frequency cutoff for mel filter\n",
    "    \n",
    "    # spectrogram inversion\n",
    "    'max_iters':200,\n",
    "    'griffin_lim_iters':20,\n",
    "    'power':1.5,\n",
    "\n",
    "    # Added for the searching\n",
    "    'read_wav_fun': read_wav_chan, # function for loading the wav_like_stream (has to returns fs, ndarray)\n",
    "    'file_order_fun': sess_file_id, # function for extracting the file id within the session\n",
    "    'min_segment': 30, # Minimum length of supra_threshold to consider a 'syllable' (ms)\n",
    "    'min_silence': 2000, # Minmum distance between groups of syllables to consider separate bouts (ms)\n",
    "    'min_bout': 5000, # min bout duration (ms)\n",
    "    'peak_thresh_rms': 0.55, # threshold (rms) for peak acceptance,\n",
    "    'thresh_rms': 0.25, # threshold for detection of syllables\n",
    "    'mean_syl_rms_thresh': 0.3, #threshold for acceptance of mean rms across the syllable (relative to rms of the file)\n",
    "    'max_bout': 120000, #exclude bouts too long\n",
    "    'l_p_r_thresh': 100, # threshold for n of len_ms/peaks (typycally about 2-3 syllable spans\n",
    "    \n",
    "    'waveform_edges': 1000, #get number of ms before and after the edges of the bout for the waveform sample\n",
    "    \n",
    "    'bout_auto_file': 'bout_auto.pickle', # extension for saving the auto found files\n",
    "    'bout_curated_file': 'bout_checked.pickle', #extension for manually curated files (coming soon)\n",
    "    }"
   ]
  },
  {
   "cell_type": "markdown",
   "id": "collectible-running",
   "metadata": {},
   "source": [
    "#### Get one wave file"
   ]
  },
  {
   "cell_type": "code",
   "execution_count": 27,
   "id": "determined-george",
   "metadata": {},
   "outputs": [],
   "source": [
    "one_wav_path = os.path.join(exp_struct['folders']['alsa'], '07-00-02-02.wav')\n",
    "\n",
    "s_f, x = read_wav_chan(one_wav_path)\n",
    "\n",
    "hparams['sample_rate'] = s_f"
   ]
  },
  {
   "cell_type": "code",
   "execution_count": 36,
   "id": "applicable-carbon",
   "metadata": {},
   "outputs": [
    {
     "data": {
      "text/plain": [
       "(81600000,)"
      ]
     },
     "execution_count": 36,
     "metadata": {},
     "output_type": "execute_result"
    }
   ],
   "source": [
    "x.shape"
   ]
  },
  {
   "cell_type": "code",
   "execution_count": 29,
   "id": "comic-repair",
   "metadata": {},
   "outputs": [
    {
     "data": {
      "text/plain": [
       "[<matplotlib.lines.Line2D at 0x7fbd96268040>]"
      ]
     },
     "execution_count": 29,
     "metadata": {},
     "output_type": "execute_result"
    },
    {
     "data": {
      "image/png": "[encoded data removed]",
      "text/plain": [
       "<Figure size 432x288 with 1 Axes>"
      ]
     },
     "metadata": {
      "needs_background": "light"
     },
     "output_type": "display_data"
    }
   ],
   "source": [
    "plt.plot(x[:50000])"
   ]
  },
  {
   "cell_type": "markdown",
   "id": "integrated-backup",
   "metadata": {},
   "source": [
    "### try the function to search for bouts in the file"
   ]
  },
  {
   "cell_type": "code",
   "execution_count": 38,
   "id": "norwegian-monster",
   "metadata": {},
   "outputs": [],
   "source": [
    "from ceciestunepipe.util.sound import boutsearch as bs"
   ]
  },
  {
   "cell_type": "code",
   "execution_count": 10,
   "id": "sophisticated-scottish",
   "metadata": {},
   "outputs": [
    {
     "name": "stderr",
     "output_type": "stream",
     "text": [
      "2021-07-21 12:13:19,377 ceciestunepipe.util.sound.boutsearch INFO     Getting bouts for file /mnt/sphere/speech_bci/raw_data/s_b1253_21/2021-07-21/alsa/07-00-01-02.wav\n"
     ]
    },
    {
     "name": "stdout",
     "output_type": "stream",
     "text": [
      "tu vieja file /mnt/sphere/speech_bci/raw_data/s_b1253_21/2021-07-21/alsa/07-00-01-02.wav\n"
     ]
    }
   ],
   "source": [
    "bpd, x, p = bs.get_bouts_in_file(one_wav_path, hparams)"
   ]
  },
  {
   "cell_type": "code",
   "execution_count": 37,
   "id": "third-charity",
   "metadata": {},
   "outputs": [
    {
     "ename": "NameError",
     "evalue": "name 'bpd' is not defined",
     "output_type": "error",
     "traceback": [
      "\u001b[0;31m---------------------------------------------------------------------------\u001b[0m",
      "\u001b[0;31mNameError\u001b[0m                                 Traceback (most recent call last)",
      "\u001b[0;32m<ipython-input-37-939639182faa>\u001b[0m in \u001b[0;36m<module>\u001b[0;34m\u001b[0m\n\u001b[0;32m----> 1\u001b[0;31m \u001b[0mbpd\u001b[0m\u001b[0;34m\u001b[0m\u001b[0;34m\u001b[0m\u001b[0m\n\u001b[0m",
      "\u001b[0;31mNameError\u001b[0m: name 'bpd' is not defined"
     ]
    }
   ],
   "source": [
    "bpd"
   ]
  },
  {
   "cell_type": "code",
   "execution_count": 12,
   "id": "simple-welcome",
   "metadata": {
    "collapsed": true,
    "jupyter": {
     "outputs_hidden": true
    }
   },
   "outputs": [
    {
     "ename": "KeyError",
     "evalue": "'waveform'",
     "output_type": "error",
     "traceback": [
      "\u001b[0;31m---------------------------------------------------------------------------\u001b[0m",
      "\u001b[0;31mKeyError\u001b[0m                                  Traceback (most recent call last)",
      "\u001b[0;32m~/anaconda3/lib/python3.8/site-packages/pandas/core/indexes/base.py\u001b[0m in \u001b[0;36mget_loc\u001b[0;34m(self, key, method, tolerance)\u001b[0m\n\u001b[1;32m   3080\u001b[0m             \u001b[0;32mtry\u001b[0m\u001b[0;34m:\u001b[0m\u001b[0;34m\u001b[0m\u001b[0;34m\u001b[0m\u001b[0m\n\u001b[0;32m-> 3081\u001b[0;31m                 \u001b[0;32mreturn\u001b[0m \u001b[0mself\u001b[0m\u001b[0;34m.\u001b[0m\u001b[0m_engine\u001b[0m\u001b[0;34m.\u001b[0m\u001b[0mget_loc\u001b[0m\u001b[0;34m(\u001b[0m\u001b[0mcasted_key\u001b[0m\u001b[0;34m)\u001b[0m\u001b[0;34m\u001b[0m\u001b[0;34m\u001b[0m\u001b[0m\n\u001b[0m\u001b[1;32m   3082\u001b[0m             \u001b[0;32mexcept\u001b[0m \u001b[0mKeyError\u001b[0m \u001b[0;32mas\u001b[0m \u001b[0merr\u001b[0m\u001b[0;34m:\u001b[0m\u001b[0;34m\u001b[0m\u001b[0;34m\u001b[0m\u001b[0m\n",
      "\u001b[0;32mpandas/_libs/index.pyx\u001b[0m in \u001b[0;36mpandas._libs.index.IndexEngine.get_loc\u001b[0;34m()\u001b[0m\n",
      "\u001b[0;32mpandas/_libs/index.pyx\u001b[0m in \u001b[0;36mpandas._libs.index.IndexEngine.get_loc\u001b[0;34m()\u001b[0m\n",
      "\u001b[0;32mpandas/_libs/hashtable_class_helper.pxi\u001b[0m in \u001b[0;36mpandas._libs.hashtable.PyObjectHashTable.get_item\u001b[0;34m()\u001b[0m\n",
      "\u001b[0;32mpandas/_libs/hashtable_class_helper.pxi\u001b[0m in \u001b[0;36mpandas._libs.hashtable.PyObjectHashTable.get_item\u001b[0;34m()\u001b[0m\n",
      "\u001b[0;31mKeyError\u001b[0m: 'waveform'",
      "\nThe above exception was the direct cause of the following exception:\n",
      "\u001b[0;31mKeyError\u001b[0m                                  Traceback (most recent call last)",
      "\u001b[0;32m<ipython-input-12-e2ae6568b9b5>\u001b[0m in \u001b[0;36m<module>\u001b[0;34m\u001b[0m\n\u001b[0;32m----> 1\u001b[0;31m \u001b[0mplt\u001b[0m\u001b[0;34m.\u001b[0m\u001b[0mplot\u001b[0m\u001b[0;34m(\u001b[0m\u001b[0mbpd\u001b[0m\u001b[0;34m[\u001b[0m\u001b[0;34m'waveform'\u001b[0m\u001b[0;34m]\u001b[0m\u001b[0;34m.\u001b[0m\u001b[0mvalues\u001b[0m\u001b[0;34m[\u001b[0m\u001b[0;36m0\u001b[0m\u001b[0;34m]\u001b[0m\u001b[0;34m)\u001b[0m\u001b[0;34m\u001b[0m\u001b[0;34m\u001b[0m\u001b[0m\n\u001b[0m",
      "\u001b[0;32m~/anaconda3/lib/python3.8/site-packages/pandas/core/frame.py\u001b[0m in \u001b[0;36m__getitem__\u001b[0;34m(self, key)\u001b[0m\n\u001b[1;32m   3022\u001b[0m             \u001b[0;32mif\u001b[0m \u001b[0mself\u001b[0m\u001b[0;34m.\u001b[0m\u001b[0mcolumns\u001b[0m\u001b[0;34m.\u001b[0m\u001b[0mnlevels\u001b[0m \u001b[0;34m>\u001b[0m \u001b[0;36m1\u001b[0m\u001b[0;34m:\u001b[0m\u001b[0;34m\u001b[0m\u001b[0;34m\u001b[0m\u001b[0m\n\u001b[1;32m   3023\u001b[0m                 \u001b[0;32mreturn\u001b[0m \u001b[0mself\u001b[0m\u001b[0;34m.\u001b[0m\u001b[0m_getitem_multilevel\u001b[0m\u001b[0;34m(\u001b[0m\u001b[0mkey\u001b[0m\u001b[0;34m)\u001b[0m\u001b[0;34m\u001b[0m\u001b[0;34m\u001b[0m\u001b[0m\n\u001b[0;32m-> 3024\u001b[0;31m             \u001b[0mindexer\u001b[0m \u001b[0;34m=\u001b[0m \u001b[0mself\u001b[0m\u001b[0;34m.\u001b[0m\u001b[0mcolumns\u001b[0m\u001b[0;34m.\u001b[0m\u001b[0mget_loc\u001b[0m\u001b[0;34m(\u001b[0m\u001b[0mkey\u001b[0m\u001b[0;34m)\u001b[0m\u001b[0;34m\u001b[0m\u001b[0;34m\u001b[0m\u001b[0m\n\u001b[0m\u001b[1;32m   3025\u001b[0m             \u001b[0;32mif\u001b[0m \u001b[0mis_integer\u001b[0m\u001b[0;34m(\u001b[0m\u001b[0mindexer\u001b[0m\u001b[0;34m)\u001b[0m\u001b[0;34m:\u001b[0m\u001b[0;34m\u001b[0m\u001b[0;34m\u001b[0m\u001b[0m\n\u001b[1;32m   3026\u001b[0m                 \u001b[0mindexer\u001b[0m \u001b[0;34m=\u001b[0m \u001b[0;34m[\u001b[0m\u001b[0mindexer\u001b[0m\u001b[0;34m]\u001b[0m\u001b[0;34m\u001b[0m\u001b[0;34m\u001b[0m\u001b[0m\n",
      "\u001b[0;32m~/anaconda3/lib/python3.8/site-packages/pandas/core/indexes/base.py\u001b[0m in \u001b[0;36mget_loc\u001b[0;34m(self, key, method, tolerance)\u001b[0m\n\u001b[1;32m   3081\u001b[0m                 \u001b[0;32mreturn\u001b[0m \u001b[0mself\u001b[0m\u001b[0;34m.\u001b[0m\u001b[0m_engine\u001b[0m\u001b[0;34m.\u001b[0m\u001b[0mget_loc\u001b[0m\u001b[0;34m(\u001b[0m\u001b[0mcasted_key\u001b[0m\u001b[0;34m)\u001b[0m\u001b[0;34m\u001b[0m\u001b[0;34m\u001b[0m\u001b[0m\n\u001b[1;32m   3082\u001b[0m             \u001b[0;32mexcept\u001b[0m \u001b[0mKeyError\u001b[0m \u001b[0;32mas\u001b[0m \u001b[0merr\u001b[0m\u001b[0;34m:\u001b[0m\u001b[0;34m\u001b[0m\u001b[0;34m\u001b[0m\u001b[0m\n\u001b[0;32m-> 3083\u001b[0;31m                 \u001b[0;32mraise\u001b[0m \u001b[0mKeyError\u001b[0m\u001b[0;34m(\u001b[0m\u001b[0mkey\u001b[0m\u001b[0;34m)\u001b[0m \u001b[0;32mfrom\u001b[0m \u001b[0merr\u001b[0m\u001b[0;34m\u001b[0m\u001b[0;34m\u001b[0m\u001b[0m\n\u001b[0m\u001b[1;32m   3084\u001b[0m \u001b[0;34m\u001b[0m\u001b[0m\n\u001b[1;32m   3085\u001b[0m         \u001b[0;32mif\u001b[0m \u001b[0mtolerance\u001b[0m \u001b[0;32mis\u001b[0m \u001b[0;32mnot\u001b[0m \u001b[0;32mNone\u001b[0m\u001b[0;34m:\u001b[0m\u001b[0;34m\u001b[0m\u001b[0;34m\u001b[0m\u001b[0m\n",
      "\u001b[0;31mKeyError\u001b[0m: 'waveform'"
     ]
    }
   ],
   "source": [
    "plt.plot(bpd['waveform'].values[0])"
   ]
  },
  {
   "cell_type": "code",
   "execution_count": 25,
   "id": "major-silence",
   "metadata": {},
   "outputs": [
    {
     "data": {
      "text/html": [
       "<div>\n",
       "<style scoped>\n",
       "    .dataframe tbody tr th:only-of-type {\n",
       "        vertical-align: middle;\n",
       "    }\n",
       "\n",
       "    .dataframe tbody tr th {\n",
       "        vertical-align: top;\n",
       "    }\n",
       "\n",
       "    .dataframe thead th {\n",
       "        text-align: right;\n",
       "    }\n",
       "</style>\n",
       "<table border=\"1\" class=\"dataframe\">\n",
       "  <thead>\n",
       "    <tr style=\"text-align: right;\">\n",
       "      <th></th>\n",
       "    </tr>\n",
       "  </thead>\n",
       "  <tbody>\n",
       "  </tbody>\n",
       "</table>\n",
       "</div>"
      ],
      "text/plain": [
       "Empty DataFrame\n",
       "Columns: []\n",
       "Index: []"
      ]
     },
     "execution_count": 25,
     "metadata": {},
     "output_type": "execute_result"
    }
   ],
   "source": [
    "bpd"
   ]
  },
  {
   "cell_type": "code",
   "execution_count": 26,
   "id": "applicable-loading",
   "metadata": {},
   "outputs": [
    {
     "data": {
      "text/plain": [
       "{'num_freq': 1024,\n",
       " 'preemphasis': 0.97,\n",
       " 'frame_shift_ms': 5,\n",
       " 'frame_length_ms': 10,\n",
       " 'min_level_db': -55,\n",
       " 'ref_level_db': 110,\n",
       " 'sample_rate': 48000,\n",
       " 'mel_filter': False,\n",
       " 'num_mels': 1024,\n",
       " 'fmin': 500,\n",
       " 'fmax': 12000,\n",
       " 'max_iters': 200,\n",
       " 'griffin_lim_iters': 20,\n",
       " 'power': 1.5,\n",
       " 'read_wav_fun': <function __main__.read_wav_chan(wav_path: str, chan_id: int = 0) -> tuple>,\n",
       " 'file_order_fun': <function __main__.sess_file_id(f_path)>,\n",
       " 'min_segment': 30,\n",
       " 'min_silence': 2000,\n",
       " 'min_bout': 5000,\n",
       " 'peak_thresh_rms': 0.55,\n",
       " 'thresh_rms': 0.25,\n",
       " 'mean_syl_rms_thresh': 0.3,\n",
       " 'max_bout': 120000,\n",
       " 'l_p_r_thresh': 100,\n",
       " 'waveform_edges': 1000,\n",
       " 'bout_auto_file': 'bout_auto.pickle',\n",
       " 'bout_curated_file': 'bout_checked.pickle'}"
      ]
     },
     "execution_count": 26,
     "metadata": {},
     "output_type": "execute_result"
    }
   ],
   "source": [
    "hparams"
   ]
  },
  {
   "cell_type": "markdown",
   "id": "floating-latin",
   "metadata": {},
   "source": [
    "### get all bouts of the day"
   ]
  },
  {
   "cell_type": "code",
   "execution_count": 31,
   "id": "addressed-support",
   "metadata": {},
   "outputs": [],
   "source": [
    "from joblib import Parallel, delayed"
   ]
  },
  {
   "cell_type": "code",
   "execution_count": 32,
   "id": "actual-singles",
   "metadata": {},
   "outputs": [
    {
     "data": {
      "text/plain": [
       "<module 'ceciestunepipe.util.sound.boutsearch' from '/mnt/cube/earneodo/repos/ceciestunepipe/ceciestunepipe/util/sound/boutsearch.py'>"
      ]
     },
     "execution_count": 32,
     "metadata": {},
     "output_type": "execute_result"
    }
   ],
   "source": [
    "reload(bs)"
   ]
  },
  {
   "cell_type": "code",
   "execution_count": 50,
   "id": "broke-bride",
   "metadata": {},
   "outputs": [
    {
     "name": "stderr",
     "output_type": "stream",
     "text": [
      "2021-08-27 16:54:13,601 root         INFO     Will search for bouts through all session s_b1253_21, 2021-08-02\n",
      "2021-08-27 16:54:13,883 root         INFO     Found 28 files\n"
     ]
    },
    {
     "name": "stdout",
     "output_type": "stream",
     "text": [
      "[Parallel(n_jobs=28)]: Using backend LokyBackend with 28 concurrent workers.\n",
      "[Parallel(n_jobs=28)]: Done   1 tasks      | elapsed: 37.7min\n",
      "[Parallel(n_jobs=28)]: Done   2 out of  28 | elapsed: 41.2min remaining: 535.3min\n",
      "[Parallel(n_jobs=28)]: Done   3 out of  28 | elapsed: 41.2min remaining: 343.2min\n",
      "[Parallel(n_jobs=28)]: Done   4 out of  28 | elapsed: 41.2min remaining: 247.1min\n",
      "[Parallel(n_jobs=28)]: Done   5 out of  28 | elapsed: 41.2min remaining: 189.4min\n",
      "[Parallel(n_jobs=28)]: Done   6 out of  28 | elapsed: 41.2min remaining: 151.0min\n",
      "[Parallel(n_jobs=28)]: Done   7 out of  28 | elapsed: 41.2min remaining: 123.5min\n",
      "[Parallel(n_jobs=28)]: Done   8 out of  28 | elapsed: 41.2min remaining: 102.9min\n",
      "[Parallel(n_jobs=28)]: Done   9 out of  28 | elapsed: 41.2min remaining: 86.9min\n",
      "[Parallel(n_jobs=28)]: Done  10 out of  28 | elapsed: 41.2min remaining: 74.1min\n",
      "[Parallel(n_jobs=28)]: Done  11 out of  28 | elapsed: 41.2min remaining: 63.6min\n",
      "[Parallel(n_jobs=28)]: Done  12 out of  28 | elapsed: 41.2min remaining: 54.9min\n",
      "[Parallel(n_jobs=28)]: Done  13 out of  28 | elapsed: 41.2min remaining: 47.5min\n",
      "[Parallel(n_jobs=28)]: Done  14 out of  28 | elapsed: 41.2min remaining: 41.2min\n",
      "[Parallel(n_jobs=28)]: Done  15 out of  28 | elapsed: 41.2min remaining: 35.7min\n",
      "[Parallel(n_jobs=28)]: Done  16 out of  28 | elapsed: 41.2min remaining: 30.9min\n",
      "[Parallel(n_jobs=28)]: Done  17 out of  28 | elapsed: 41.2min remaining: 26.6min\n",
      "[Parallel(n_jobs=28)]: Done  18 out of  28 | elapsed: 41.2min remaining: 22.9min\n",
      "[Parallel(n_jobs=28)]: Done  19 out of  28 | elapsed: 41.2min remaining: 19.5min\n",
      "[Parallel(n_jobs=28)]: Done  20 out of  28 | elapsed: 41.2min remaining: 16.5min\n",
      "[Parallel(n_jobs=28)]: Done  21 out of  28 | elapsed: 41.2min remaining: 13.7min\n",
      "[Parallel(n_jobs=28)]: Done  22 out of  28 | elapsed: 41.2min remaining: 11.2min\n",
      "[Parallel(n_jobs=28)]: Done  23 out of  28 | elapsed: 41.2min remaining:  9.0min\n",
      "[Parallel(n_jobs=28)]: Done  24 out of  28 | elapsed: 41.2min remaining:  6.9min\n",
      "[Parallel(n_jobs=28)]: Done  25 out of  28 | elapsed: 41.2min remaining:  4.9min\n",
      "[Parallel(n_jobs=28)]: Done  26 out of  28 | elapsed: 41.2min remaining:  3.2min\n",
      "[Parallel(n_jobs=28)]: Done  28 out of  28 | elapsed: 41.2min remaining:    0.0s\n"
     ]
    },
    {
     "ename": "TerminatedWorkerError",
     "evalue": "A worker process managed by the executor was unexpectedly terminated. This could be caused by a segmentation fault while calling the function or by an excessive memory usage causing the Operating System to kill the worker.\n\nThe exit codes of the workers are {SIGKILL(-9)}",
     "output_type": "error",
     "traceback": [
      "\u001b[0;31m---------------------------------------------------------------------------\u001b[0m",
      "\u001b[0;31mTerminatedWorkerError\u001b[0m                     Traceback (most recent call last)",
      "\u001b[0;32m<ipython-input-50-74ef752b88a1>\u001b[0m in \u001b[0;36m<module>\u001b[0;34m\u001b[0m\n\u001b[1;32m     22\u001b[0m     \u001b[0;32mreturn\u001b[0m \u001b[0msess_bout_pd\u001b[0m\u001b[0;34m\u001b[0m\u001b[0;34m\u001b[0m\u001b[0m\n\u001b[1;32m     23\u001b[0m \u001b[0;34m\u001b[0m\u001b[0m\n\u001b[0;32m---> 24\u001b[0;31m \u001b[0msess_bout_pd\u001b[0m \u001b[0;34m=\u001b[0m \u001b[0mget_all_day_bouts\u001b[0m\u001b[0;34m(\u001b[0m\u001b[0msess_par\u001b[0m\u001b[0;34m,\u001b[0m \u001b[0mhparams\u001b[0m\u001b[0;34m,\u001b[0m \u001b[0mn_jobs\u001b[0m\u001b[0;34m=\u001b[0m\u001b[0;36m28\u001b[0m\u001b[0;34m)\u001b[0m\u001b[0;34m\u001b[0m\u001b[0;34m\u001b[0m\u001b[0m\n\u001b[0m",
      "\u001b[0;32m<ipython-input-50-74ef752b88a1>\u001b[0m in \u001b[0;36mget_all_day_bouts\u001b[0;34m(sess_par, hparams, n_jobs)\u001b[0m\n\u001b[1;32m     14\u001b[0m \u001b[0;34m\u001b[0m\u001b[0m\n\u001b[1;32m     15\u001b[0m     \u001b[0;31m# Go parallel through all the paths in the day, get a list of all the pandas dataframes for each file\u001b[0m\u001b[0;34m\u001b[0m\u001b[0;34m\u001b[0m\u001b[0;34m\u001b[0m\u001b[0m\n\u001b[0;32m---> 16\u001b[0;31m     \u001b[0msess_pd_list\u001b[0m \u001b[0;34m=\u001b[0m \u001b[0mParallel\u001b[0m\u001b[0;34m(\u001b[0m\u001b[0mn_jobs\u001b[0m\u001b[0;34m=\u001b[0m\u001b[0mn_jobs\u001b[0m\u001b[0;34m,\u001b[0m \u001b[0mverbose\u001b[0m\u001b[0;34m=\u001b[0m\u001b[0;36m100\u001b[0m\u001b[0;34m,\u001b[0m \u001b[0mbackend\u001b[0m\u001b[0;34m=\u001b[0m\u001b[0;32mNone\u001b[0m\u001b[0;34m)\u001b[0m\u001b[0;34m(\u001b[0m\u001b[0mdelayed\u001b[0m\u001b[0;34m(\u001b[0m\u001b[0mget_file_bouts\u001b[0m\u001b[0;34m)\u001b[0m\u001b[0;34m(\u001b[0m\u001b[0mi\u001b[0m\u001b[0;34m)\u001b[0m \u001b[0;32mfor\u001b[0m \u001b[0mi\u001b[0m \u001b[0;32min\u001b[0m \u001b[0mwav_path_list\u001b[0m\u001b[0;34m)\u001b[0m\u001b[0;34m\u001b[0m\u001b[0;34m\u001b[0m\u001b[0m\n\u001b[0m\u001b[1;32m     17\u001b[0m \u001b[0;34m\u001b[0m\u001b[0m\n\u001b[1;32m     18\u001b[0m     \u001b[0;31m#sess_pd_list = [bs.get_bouts_in_file(i, hparams)[0] for i in wav_path_list]\u001b[0m\u001b[0;34m\u001b[0m\u001b[0;34m\u001b[0m\u001b[0;34m\u001b[0m\u001b[0m\n",
      "\u001b[0;32m~/anaconda3/lib/python3.8/site-packages/joblib/parallel.py\u001b[0m in \u001b[0;36m__call__\u001b[0;34m(self, iterable)\u001b[0m\n\u001b[1;32m   1052\u001b[0m \u001b[0;34m\u001b[0m\u001b[0m\n\u001b[1;32m   1053\u001b[0m             \u001b[0;32mwith\u001b[0m \u001b[0mself\u001b[0m\u001b[0;34m.\u001b[0m\u001b[0m_backend\u001b[0m\u001b[0;34m.\u001b[0m\u001b[0mretrieval_context\u001b[0m\u001b[0;34m(\u001b[0m\u001b[0;34m)\u001b[0m\u001b[0;34m:\u001b[0m\u001b[0;34m\u001b[0m\u001b[0;34m\u001b[0m\u001b[0m\n\u001b[0;32m-> 1054\u001b[0;31m                 \u001b[0mself\u001b[0m\u001b[0;34m.\u001b[0m\u001b[0mretrieve\u001b[0m\u001b[0;34m(\u001b[0m\u001b[0;34m)\u001b[0m\u001b[0;34m\u001b[0m\u001b[0;34m\u001b[0m\u001b[0m\n\u001b[0m\u001b[1;32m   1055\u001b[0m             \u001b[0;31m# Make sure that we get a last message telling us we are done\u001b[0m\u001b[0;34m\u001b[0m\u001b[0;34m\u001b[0m\u001b[0;34m\u001b[0m\u001b[0m\n\u001b[1;32m   1056\u001b[0m             \u001b[0melapsed_time\u001b[0m \u001b[0;34m=\u001b[0m \u001b[0mtime\u001b[0m\u001b[0;34m.\u001b[0m\u001b[0mtime\u001b[0m\u001b[0;34m(\u001b[0m\u001b[0;34m)\u001b[0m \u001b[0;34m-\u001b[0m \u001b[0mself\u001b[0m\u001b[0;34m.\u001b[0m\u001b[0m_start_time\u001b[0m\u001b[0;34m\u001b[0m\u001b[0;34m\u001b[0m\u001b[0m\n",
      "\u001b[0;32m~/anaconda3/lib/python3.8/site-packages/joblib/parallel.py\u001b[0m in \u001b[0;36mretrieve\u001b[0;34m(self)\u001b[0m\n\u001b[1;32m    931\u001b[0m             \u001b[0;32mtry\u001b[0m\u001b[0;34m:\u001b[0m\u001b[0;34m\u001b[0m\u001b[0;34m\u001b[0m\u001b[0m\n\u001b[1;32m    932\u001b[0m                 \u001b[0;32mif\u001b[0m \u001b[0mgetattr\u001b[0m\u001b[0;34m(\u001b[0m\u001b[0mself\u001b[0m\u001b[0;34m.\u001b[0m\u001b[0m_backend\u001b[0m\u001b[0;34m,\u001b[0m \u001b[0;34m'supports_timeout'\u001b[0m\u001b[0;34m,\u001b[0m \u001b[0;32mFalse\u001b[0m\u001b[0;34m)\u001b[0m\u001b[0;34m:\u001b[0m\u001b[0;34m\u001b[0m\u001b[0;34m\u001b[0m\u001b[0m\n\u001b[0;32m--> 933\u001b[0;31m                     \u001b[0mself\u001b[0m\u001b[0;34m.\u001b[0m\u001b[0m_output\u001b[0m\u001b[0;34m.\u001b[0m\u001b[0mextend\u001b[0m\u001b[0;34m(\u001b[0m\u001b[0mjob\u001b[0m\u001b[0;34m.\u001b[0m\u001b[0mget\u001b[0m\u001b[0;34m(\u001b[0m\u001b[0mtimeout\u001b[0m\u001b[0;34m=\u001b[0m\u001b[0mself\u001b[0m\u001b[0;34m.\u001b[0m\u001b[0mtimeout\u001b[0m\u001b[0;34m)\u001b[0m\u001b[0;34m)\u001b[0m\u001b[0;34m\u001b[0m\u001b[0;34m\u001b[0m\u001b[0m\n\u001b[0m\u001b[1;32m    934\u001b[0m                 \u001b[0;32melse\u001b[0m\u001b[0;34m:\u001b[0m\u001b[0;34m\u001b[0m\u001b[0;34m\u001b[0m\u001b[0m\n\u001b[1;32m    935\u001b[0m                     \u001b[0mself\u001b[0m\u001b[0;34m.\u001b[0m\u001b[0m_output\u001b[0m\u001b[0;34m.\u001b[0m\u001b[0mextend\u001b[0m\u001b[0;34m(\u001b[0m\u001b[0mjob\u001b[0m\u001b[0;34m.\u001b[0m\u001b[0mget\u001b[0m\u001b[0;34m(\u001b[0m\u001b[0;34m)\u001b[0m\u001b[0;34m)\u001b[0m\u001b[0;34m\u001b[0m\u001b[0;34m\u001b[0m\u001b[0m\n",
      "\u001b[0;32m~/anaconda3/lib/python3.8/site-packages/joblib/_parallel_backends.py\u001b[0m in \u001b[0;36mwrap_future_result\u001b[0;34m(future, timeout)\u001b[0m\n\u001b[1;32m    540\u001b[0m         AsyncResults.get from multiprocessing.\"\"\"\n\u001b[1;32m    541\u001b[0m         \u001b[0;32mtry\u001b[0m\u001b[0;34m:\u001b[0m\u001b[0;34m\u001b[0m\u001b[0;34m\u001b[0m\u001b[0m\n\u001b[0;32m--> 542\u001b[0;31m             \u001b[0;32mreturn\u001b[0m \u001b[0mfuture\u001b[0m\u001b[0;34m.\u001b[0m\u001b[0mresult\u001b[0m\u001b[0;34m(\u001b[0m\u001b[0mtimeout\u001b[0m\u001b[0;34m=\u001b[0m\u001b[0mtimeout\u001b[0m\u001b[0;34m)\u001b[0m\u001b[0;34m\u001b[0m\u001b[0;34m\u001b[0m\u001b[0m\n\u001b[0m\u001b[1;32m    543\u001b[0m         \u001b[0;32mexcept\u001b[0m \u001b[0mCfTimeoutError\u001b[0m \u001b[0;32mas\u001b[0m \u001b[0me\u001b[0m\u001b[0;34m:\u001b[0m\u001b[0;34m\u001b[0m\u001b[0;34m\u001b[0m\u001b[0m\n\u001b[1;32m    544\u001b[0m             \u001b[0;32mraise\u001b[0m \u001b[0mTimeoutError\u001b[0m \u001b[0;32mfrom\u001b[0m \u001b[0me\u001b[0m\u001b[0;34m\u001b[0m\u001b[0;34m\u001b[0m\u001b[0m\n",
      "\u001b[0;32m~/anaconda3/lib/python3.8/concurrent/futures/_base.py\u001b[0m in \u001b[0;36mresult\u001b[0;34m(self, timeout)\u001b[0m\n\u001b[1;32m    437\u001b[0m                 \u001b[0;32mraise\u001b[0m \u001b[0mCancelledError\u001b[0m\u001b[0;34m(\u001b[0m\u001b[0;34m)\u001b[0m\u001b[0;34m\u001b[0m\u001b[0;34m\u001b[0m\u001b[0m\n\u001b[1;32m    438\u001b[0m             \u001b[0;32melif\u001b[0m \u001b[0mself\u001b[0m\u001b[0;34m.\u001b[0m\u001b[0m_state\u001b[0m \u001b[0;34m==\u001b[0m \u001b[0mFINISHED\u001b[0m\u001b[0;34m:\u001b[0m\u001b[0;34m\u001b[0m\u001b[0;34m\u001b[0m\u001b[0m\n\u001b[0;32m--> 439\u001b[0;31m                 \u001b[0;32mreturn\u001b[0m \u001b[0mself\u001b[0m\u001b[0;34m.\u001b[0m\u001b[0m__get_result\u001b[0m\u001b[0;34m(\u001b[0m\u001b[0;34m)\u001b[0m\u001b[0;34m\u001b[0m\u001b[0;34m\u001b[0m\u001b[0m\n\u001b[0m\u001b[1;32m    440\u001b[0m             \u001b[0;32melse\u001b[0m\u001b[0;34m:\u001b[0m\u001b[0;34m\u001b[0m\u001b[0;34m\u001b[0m\u001b[0m\n\u001b[1;32m    441\u001b[0m                 \u001b[0;32mraise\u001b[0m \u001b[0mTimeoutError\u001b[0m\u001b[0;34m(\u001b[0m\u001b[0;34m)\u001b[0m\u001b[0;34m\u001b[0m\u001b[0;34m\u001b[0m\u001b[0m\n",
      "\u001b[0;32m~/anaconda3/lib/python3.8/concurrent/futures/_base.py\u001b[0m in \u001b[0;36m__get_result\u001b[0;34m(self)\u001b[0m\n\u001b[1;32m    386\u001b[0m     \u001b[0;32mdef\u001b[0m \u001b[0m__get_result\u001b[0m\u001b[0;34m(\u001b[0m\u001b[0mself\u001b[0m\u001b[0;34m)\u001b[0m\u001b[0;34m:\u001b[0m\u001b[0;34m\u001b[0m\u001b[0;34m\u001b[0m\u001b[0m\n\u001b[1;32m    387\u001b[0m         \u001b[0;32mif\u001b[0m \u001b[0mself\u001b[0m\u001b[0;34m.\u001b[0m\u001b[0m_exception\u001b[0m\u001b[0;34m:\u001b[0m\u001b[0;34m\u001b[0m\u001b[0;34m\u001b[0m\u001b[0m\n\u001b[0;32m--> 388\u001b[0;31m             \u001b[0;32mraise\u001b[0m \u001b[0mself\u001b[0m\u001b[0;34m.\u001b[0m\u001b[0m_exception\u001b[0m\u001b[0;34m\u001b[0m\u001b[0;34m\u001b[0m\u001b[0m\n\u001b[0m\u001b[1;32m    389\u001b[0m         \u001b[0;32melse\u001b[0m\u001b[0;34m:\u001b[0m\u001b[0;34m\u001b[0m\u001b[0;34m\u001b[0m\u001b[0m\n\u001b[1;32m    390\u001b[0m             \u001b[0;32mreturn\u001b[0m \u001b[0mself\u001b[0m\u001b[0;34m.\u001b[0m\u001b[0m_result\u001b[0m\u001b[0;34m\u001b[0m\u001b[0;34m\u001b[0m\u001b[0m\n",
      "\u001b[0;31mTerminatedWorkerError\u001b[0m: A worker process managed by the executor was unexpectedly terminated. This could be caused by a segmentation fault while calling the function or by an excessive memory usage causing the Operating System to kill the worker.\n\nThe exit codes of the workers are {SIGKILL(-9)}"
     ]
    }
   ],
   "source": [
    "def get_all_day_bouts(sess_par: dict, hparams:dict, n_jobs: int=12) -> pd.DataFrame:\n",
    "    \n",
    "    logger.info('Will search for bouts through all session {}, {}'.format(sess_par['bird'], sess_par['sess']))\n",
    "    exp_struct = et.get_exp_struct(sess_par['bird'], sess_par['sess'], ephys_software='alsa')\n",
    "\n",
    "    # get all the paths to the wav files of the day\n",
    "    raw_folder = exp_struct['folders']['alsa']\n",
    "    wav_path_list = glob.glob(os.path.join(exp_struct['folders']['alsa'], '*.wav'))\n",
    "    wav_path_list.sort()\n",
    "    logger.info('Found {} files'.format(len(wav_path_list)))\n",
    "    \n",
    "    def get_file_bouts(i_path):\n",
    "        return bs.get_bouts_in_file(i_path, hparams)[0]\n",
    "    \n",
    "    # Go parallel through all the paths in the day, get a list of all the pandas dataframes for each file\n",
    "    sess_pd_list = Parallel(n_jobs=n_jobs, verbose=100, backend=None)(delayed(get_file_bouts)(i) for i in wav_path_list)\n",
    "    \n",
    "    #sess_pd_list = [bs.get_bouts_in_file(i, hparams)[0] for i in wav_path_list]\n",
    "    \n",
    "    # concatenate the file and return it, eventually write to a pickle\n",
    "    sess_bout_pd = pd.concat(sess_pd_list)\n",
    "    return sess_bout_pd\n",
    "\n",
    "sess_bout_pd = get_all_day_bouts(sess_par, hparams, n_jobs=28)"
   ]
  },
  {
   "cell_type": "code",
   "execution_count": 39,
   "id": "dietary-portrait",
   "metadata": {},
   "outputs": [],
   "source": [
    "import sys\n",
    "sys.stdout.flush()"
   ]
  },
  {
   "cell_type": "code",
   "execution_count": 40,
   "id": "laughing-victoria",
   "metadata": {},
   "outputs": [
    {
     "data": {
      "text/plain": [
       "(108, 16)"
      ]
     },
     "execution_count": 40,
     "metadata": {},
     "output_type": "execute_result"
    }
   ],
   "source": [
    "sess_bout_pd.shape"
   ]
  },
  {
   "cell_type": "markdown",
   "id": "breathing-constant",
   "metadata": {},
   "source": [
    "### save the pandas for the day as a pickle"
   ]
  },
  {
   "cell_type": "code",
   "execution_count": 41,
   "id": "egyptian-dietary",
   "metadata": {},
   "outputs": [],
   "source": [
    "import pickle\n",
    "import sys"
   ]
  },
  {
   "cell_type": "code",
   "execution_count": 42,
   "id": "unnecessary-entrepreneur",
   "metadata": {},
   "outputs": [
    {
     "name": "stderr",
     "output_type": "stream",
     "text": [
      "2021-08-27 13:30:30,366 root         INFO     saving bouts pandas to /mnt/sphere/speech_bci/derived_data/s_b1253_21/2021-08-01/alsa/bouts_ceciestunepipe/bout_auto.pickle\n",
      "2021-08-27 13:30:31,394 root         INFO     saving bout detect parameters dict to /mnt/sphere/speech_bci/derived_data/s_b1253_21/2021-08-01/alsa/bouts_ceciestunepipe/bout_search_params.pickle\n"
     ]
    }
   ],
   "source": [
    "def save_auto_bouts(sess_bout_pd, sess_par, hparams):\n",
    "    exp_struct = et.get_exp_struct(sess_par['bird'], sess_par['sess'], ephys_software='alsa')\n",
    "    sess_bouts_dir = os.path.join(exp_struct['folders']['derived'], 'bouts_ceciestunepipe')\n",
    "\n",
    "    sess_bouts_path = os.path.join(sess_bouts_dir, hparams['bout_auto_file'])\n",
    "    hparams_pickle_path = os.path.join(sess_bouts_dir, 'bout_search_params.pickle')\n",
    "\n",
    "    os.makedirs(sess_bouts_dir, exist_ok=True)\n",
    "    logger.info('saving bouts pandas to ' + sess_bouts_path)\n",
    "    sess_bout_pd.to_pickle(sess_bouts_path)\n",
    "\n",
    "    logger.info('saving bout detect parameters dict to ' + hparams_pickle_path)\n",
    "    with open(hparams_pickle_path, 'wb') as fh:\n",
    "        pickle.dump(hparams, fh)\n",
    "        \n",
    "save_auto_bouts(sess_bout_pd, sess_par, hparams)"
   ]
  },
  {
   "cell_type": "code",
   "execution_count": 43,
   "id": "breathing-circuit",
   "metadata": {},
   "outputs": [
    {
     "data": {
      "text/html": [
       "<div>\n",
       "<style scoped>\n",
       "    .dataframe tbody tr th:only-of-type {\n",
       "        vertical-align: middle;\n",
       "    }\n",
       "\n",
       "    .dataframe tbody tr th {\n",
       "        vertical-align: top;\n",
       "    }\n",
       "\n",
       "    .dataframe thead th {\n",
       "        text-align: right;\n",
       "    }\n",
       "</style>\n",
       "<table border=\"1\" class=\"dataframe\">\n",
       "  <thead>\n",
       "    <tr style=\"text-align: right;\">\n",
       "      <th></th>\n",
       "      <th>start_ms</th>\n",
       "      <th>end_ms</th>\n",
       "      <th>start_sample</th>\n",
       "      <th>end_sample</th>\n",
       "      <th>p_step</th>\n",
       "      <th>rms_p</th>\n",
       "      <th>peak_p</th>\n",
       "      <th>bout_check</th>\n",
       "      <th>file</th>\n",
       "      <th>len_ms</th>\n",
       "      <th>syl_in</th>\n",
       "      <th>n_syl</th>\n",
       "      <th>peaks_p</th>\n",
       "      <th>n_peaks</th>\n",
       "      <th>l_p_ratio</th>\n",
       "      <th>waveform</th>\n",
       "    </tr>\n",
       "  </thead>\n",
       "  <tbody>\n",
       "    <tr>\n",
       "      <th>0</th>\n",
       "      <td>640020</td>\n",
       "      <td>646860</td>\n",
       "      <td>30720960</td>\n",
       "      <td>31049280</td>\n",
       "      <td>[13.11680323658035, 3.9368365665931906, 11.897...</td>\n",
       "      <td>1.522809</td>\n",
       "      <td>73.493699</td>\n",
       "      <td>True</td>\n",
       "      <td>/mnt/sphere/speech_bci/raw_data/s_b1253_21/202...</td>\n",
       "      <td>6840</td>\n",
       "      <td>[[640020, 640070], [640890, 640925], [641635, ...</td>\n",
       "      <td>11</td>\n",
       "      <td>[4, 99, 113, 142, 176, 190, 304, 323, 331, 344...</td>\n",
       "      <td>47</td>\n",
       "      <td>145.531915</td>\n",
       "      <td>[6, 5, 5, 5, 5, 5, 6, 6, 6, 6, 7, 6, 5, 5, 6, ...</td>\n",
       "    </tr>\n",
       "  </tbody>\n",
       "</table>\n",
       "</div>"
      ],
      "text/plain": [
       "   start_ms  end_ms  start_sample  end_sample  \\\n",
       "0    640020  646860      30720960    31049280   \n",
       "\n",
       "                                              p_step     rms_p     peak_p  \\\n",
       "0  [13.11680323658035, 3.9368365665931906, 11.897...  1.522809  73.493699   \n",
       "\n",
       "   bout_check                                               file  len_ms  \\\n",
       "0        True  /mnt/sphere/speech_bci/raw_data/s_b1253_21/202...    6840   \n",
       "\n",
       "                                              syl_in  n_syl  \\\n",
       "0  [[640020, 640070], [640890, 640925], [641635, ...     11   \n",
       "\n",
       "                                             peaks_p  n_peaks   l_p_ratio  \\\n",
       "0  [4, 99, 113, 142, 176, 190, 304, 323, 331, 344...       47  145.531915   \n",
       "\n",
       "                                            waveform  \n",
       "0  [6, 5, 5, 5, 5, 5, 6, 6, 6, 6, 7, 6, 5, 5, 6, ...  "
      ]
     },
     "execution_count": 43,
     "metadata": {},
     "output_type": "execute_result"
    }
   ],
   "source": [
    "sess_bout_pd.head(1)"
   ]
  },
  {
   "cell_type": "markdown",
   "id": "adjusted-metabolism",
   "metadata": {},
   "source": [
    "### save the bouts of a pandas as wavs"
   ]
  },
  {
   "cell_type": "code",
   "execution_count": 44,
   "id": "fiscal-fourth",
   "metadata": {},
   "outputs": [
    {
     "data": {
      "text/plain": [
       "'/mnt/sphere/speech_bci/processed_data/s_b1253_21/bouts_wav'"
      ]
     },
     "execution_count": 44,
     "metadata": {},
     "output_type": "execute_result"
    }
   ],
   "source": [
    "bird_bouts_folder = os.path.abspath('/mnt/sphere/speech_bci/processed_data/s_b1253_21/bouts_wav')\n",
    "bird_bouts_folder"
   ]
  },
  {
   "cell_type": "code",
   "execution_count": 45,
   "id": "exempt-force",
   "metadata": {},
   "outputs": [],
   "source": [
    "os.makedirs(bird_bouts_folder, exist_ok=True)"
   ]
  },
  {
   "cell_type": "code",
   "execution_count": 46,
   "id": "loose-lawrence",
   "metadata": {},
   "outputs": [],
   "source": [
    "a_bout = sess_bout_pd.iloc[0]"
   ]
  },
  {
   "cell_type": "code",
   "execution_count": 47,
   "id": "integral-check",
   "metadata": {},
   "outputs": [
    {
     "data": {
      "text/plain": [
       "'/mnt/sphere/speech_bci/raw_data/s_b1253_21/2021-08-01/alsa/07-00-02-01.wav'"
      ]
     },
     "execution_count": 47,
     "metadata": {},
     "output_type": "execute_result"
    }
   ],
   "source": [
    "a_bout['file']"
   ]
  },
  {
   "cell_type": "code",
   "execution_count": 43,
   "id": "lightweight-tradition",
   "metadata": {},
   "outputs": [],
   "source": [
    "def bout_to_wav(a_bout: pd.Series, sess_par, hparams, dest_dir):\n",
    "    file_name = '{}_{}_{}.wav'.format(sess_par['sess'],\n",
    "                                      os.path.split(a_bout['file'])[-1].split('.wav')[0],\n",
    "                                      a_bout['start_ms'])\n",
    "    file_path = os.path.join(dest_dir, file_name)\n",
    "    x = a_bout['waveform']\n",
    "    \n",
    "    wavfile.write(file_path, hparams['sample_rate'], x)\n",
    "    return file_path                                                      \n",
    "    \n",
    "def bouts_to_wavs(sess_bout_pd, sess_par, hparams, dest_dir):\n",
    "    # make the dest_dir if does not exist\n",
    "    logger.info('Saving all session bouts to folder ' + dest_dir)\n",
    "    os.makedirs(dest_dir, exist_ok=True)\n",
    "    # write all the motifs to wavs\n",
    "    sess_bout_pd.apply(lambda x: bout_to_wav(x, sess_par, hparams, dest_dir), axis=1)\n",
    "    # write the hparams as pickle\n",
    "    hparams_pickle_path = os.path.join(dest_dir, 'bout_search_params_{}.pickle'.format(sess_par['sess']))\n",
    "    \n",
    "    logger.info('saving bout detect parameters dict to ' + hparams_pickle_path)\n",
    "    with open(hparams_pickle_path, 'wb') as fh:\n",
    "        pickle.dump(hparams, fh)\n",
    "    \n",
    "# one example\n",
    "sess_bouts_folder = os.path.join(bird_bouts_folder, sess_par['sess'])\n",
    "os.makedirs(sess_bouts_folder, exist_ok=True)\n",
    "#bout_to_wav(a_bout, sess_par, hparams, bout_folder)\n",
    "\n",
    "# all the bouts in the sess\n",
    "#bouts_to_wavs(sess_bout_pd, sess_par, hparams, bird_bouts_folder)"
   ]
  },
  {
   "cell_type": "markdown",
   "id": "collectible-square",
   "metadata": {},
   "source": [
    "## Run this for all sessions of the bird with alsa recordings"
   ]
  },
  {
   "cell_type": "markdown",
   "id": "thrown-surface",
   "metadata": {},
   "source": [
    "#### list all sessions"
   ]
  },
  {
   "cell_type": "code",
   "execution_count": 12,
   "id": "healthy-robertson",
   "metadata": {},
   "outputs": [
    {
     "data": {
      "text/plain": [
       "<module 'ceciestunepipe.file.bcistructure' from '/mnt/cube/earneodo/repos/ceciestunepipe/ceciestunepipe/file/bcistructure.py'>"
      ]
     },
     "execution_count": 12,
     "metadata": {},
     "output_type": "execute_result"
    }
   ],
   "source": [
    "reload(et)"
   ]
  },
  {
   "cell_type": "code",
   "execution_count": 13,
   "id": "detailed-proposal",
   "metadata": {
    "collapsed": true,
    "jupyter": {
     "outputs_hidden": true
    }
   },
   "outputs": [
    {
     "data": {
      "text/plain": [
       "['2021-05-12',\n",
       " '2021-05-20',\n",
       " '2021-05-21',\n",
       " '2021-05-22',\n",
       " '2021-05-23',\n",
       " '2021-05-24',\n",
       " '2021-05-25',\n",
       " '2021-05-26',\n",
       " '2021-05-27',\n",
       " '2021-05-28',\n",
       " '2021-05-29',\n",
       " '2021-05-30',\n",
       " '2021-05-31',\n",
       " '2021-06-01',\n",
       " '2021-06-02',\n",
       " '2021-06-03',\n",
       " '2021-06-04',\n",
       " '2021-06-05',\n",
       " '2021-06-06',\n",
       " '2021-06-07',\n",
       " '2021-06-08',\n",
       " '2021-06-09',\n",
       " '2021-06-10',\n",
       " '2021-06-11',\n",
       " '2021-06-12',\n",
       " '2021-06-13',\n",
       " '2021-06-14',\n",
       " '2021-06-15',\n",
       " '2021-06-16',\n",
       " '2021-06-17',\n",
       " '2021-06-18',\n",
       " '2021-06-19',\n",
       " '2021-06-20',\n",
       " '2021-06-21',\n",
       " '2021-06-22',\n",
       " '2021-06-23',\n",
       " '2021-06-24',\n",
       " '2021-06-25',\n",
       " '2021-06-26',\n",
       " '2021-06-27',\n",
       " '2021-06-28',\n",
       " '2021-06-29',\n",
       " '2021-06-30',\n",
       " '2021-07-01',\n",
       " '2021-07-02',\n",
       " '2021-07-03',\n",
       " '2021-07-04',\n",
       " '2021-07-05',\n",
       " '2021-07-06',\n",
       " '2021-07-07',\n",
       " '2021-07-08',\n",
       " '2021-07-09',\n",
       " '2021-07-10',\n",
       " '2021-07-11',\n",
       " '2021-07-12',\n",
       " '2021-07-13',\n",
       " '2021-07-14',\n",
       " '2021-07-15',\n",
       " '2021-07-16',\n",
       " '2021-07-17',\n",
       " '2021-07-18',\n",
       " '2021-07-19',\n",
       " '2021-07-20',\n",
       " '2021-07-21',\n",
       " '2021-07-22',\n",
       " '2021-07-23',\n",
       " '2021-07-24',\n",
       " '2021-07-25',\n",
       " '2021-07-26',\n",
       " '2021-07-27',\n",
       " '2021-07-28',\n",
       " '2021-07-29',\n",
       " '2021-07-30',\n",
       " '2021-07-31',\n",
       " '2021-08-01',\n",
       " '2021-08-02',\n",
       " '2021-08-03',\n",
       " '2021-08-04',\n",
       " '2021-08-05',\n",
       " '2021-08-06',\n",
       " '2021-08-07',\n",
       " '2021-08-08',\n",
       " '2021-08-09',\n",
       " '2021-08-10',\n",
       " '2021-08-11',\n",
       " '2021-08-12',\n",
       " '2021-08-13',\n",
       " '2021-08-14',\n",
       " '2021-08-15',\n",
       " '2021-08-16',\n",
       " '2021-08-17',\n",
       " '2021-08-18',\n",
       " '2021-08-19',\n",
       " '2021-08-20',\n",
       " '2021-08-21',\n",
       " '2021-08-22',\n",
       " '2021-08-23',\n",
       " '2021-08-24',\n",
       " '2021-08-25',\n",
       " '2021-08-26']"
      ]
     },
     "execution_count": 13,
     "metadata": {},
     "output_type": "execute_result"
    }
   ],
   "source": [
    "all_sessions = et.list_sessions(sess_par['bird'], section='raw', ephys_software='alsa')\n",
    "all_sessions.sort()\n",
    "all_sessions"
   ]
  },
  {
   "cell_type": "code",
   "execution_count": 19,
   "id": "julian-fourth",
   "metadata": {},
   "outputs": [
    {
     "data": {
      "text/plain": [
       "['2021-08-01', '2021-08-02', '2021-08-03', '2021-08-04', '2021-08-05']"
      ]
     },
     "execution_count": 19,
     "metadata": {},
     "output_type": "execute_result"
    }
   ],
   "source": [
    "all_sessions[-26:-21]"
   ]
  },
  {
   "cell_type": "code",
   "execution_count": null,
   "id": "congressional-float",
   "metadata": {},
   "outputs": [],
   "source": []
  },
  {
   "cell_type": "code",
   "execution_count": 48,
   "id": "overall-founder",
   "metadata": {},
   "outputs": [
    {
     "name": "stderr",
     "output_type": "stream",
     "text": [
      "2021-08-27 13:31:24,503 root         INFO     Will search for bouts through all session s_b1253_21, 2021-08-02\n",
      "2021-08-27 13:31:24,769 root         INFO     Found 28 files\n"
     ]
    },
    {
     "name": "stdout",
     "output_type": "stream",
     "text": [
      "[Parallel(n_jobs=28)]: Using backend LokyBackend with 28 concurrent workers.\n",
      "[Parallel(n_jobs=28)]: Done   1 tasks      | elapsed: 57.7min\n",
      "[Parallel(n_jobs=28)]: Done   2 out of  28 | elapsed: 57.7min remaining: 750.4min\n",
      "[Parallel(n_jobs=28)]: Done   3 out of  28 | elapsed: 57.7min remaining: 481.0min\n",
      "[Parallel(n_jobs=28)]: Done   4 out of  28 | elapsed: 57.7min remaining: 346.3min\n",
      "[Parallel(n_jobs=28)]: Done   5 out of  28 | elapsed: 57.7min remaining: 265.5min\n",
      "[Parallel(n_jobs=28)]: Done   6 out of  28 | elapsed: 57.7min remaining: 211.6min\n",
      "[Parallel(n_jobs=28)]: Done   7 out of  28 | elapsed: 57.7min remaining: 173.2min\n",
      "[Parallel(n_jobs=28)]: Done   8 out of  28 | elapsed: 57.7min remaining: 144.3min\n",
      "[Parallel(n_jobs=28)]: Done   9 out of  28 | elapsed: 57.7min remaining: 121.9min\n",
      "[Parallel(n_jobs=28)]: Done  10 out of  28 | elapsed: 57.7min remaining: 103.9min\n",
      "[Parallel(n_jobs=28)]: Done  11 out of  28 | elapsed: 57.7min remaining: 89.2min\n",
      "[Parallel(n_jobs=28)]: Done  12 out of  28 | elapsed: 57.7min remaining: 77.0min\n",
      "[Parallel(n_jobs=28)]: Done  13 out of  28 | elapsed: 57.7min remaining: 66.6min\n",
      "[Parallel(n_jobs=28)]: Done  14 out of  28 | elapsed: 57.7min remaining: 57.7min\n",
      "[Parallel(n_jobs=28)]: Done  15 out of  28 | elapsed: 57.7min remaining: 50.0min\n",
      "[Parallel(n_jobs=28)]: Done  16 out of  28 | elapsed: 57.7min remaining: 43.3min\n",
      "[Parallel(n_jobs=28)]: Done  17 out of  28 | elapsed: 57.7min remaining: 37.3min\n",
      "[Parallel(n_jobs=28)]: Done  18 out of  28 | elapsed: 57.7min remaining: 32.1min\n",
      "[Parallel(n_jobs=28)]: Done  19 out of  28 | elapsed: 57.7min remaining: 27.3min\n",
      "[Parallel(n_jobs=28)]: Done  20 out of  28 | elapsed: 57.7min remaining: 23.1min\n",
      "[Parallel(n_jobs=28)]: Done  21 out of  28 | elapsed: 57.7min remaining: 19.2min\n",
      "[Parallel(n_jobs=28)]: Done  22 out of  28 | elapsed: 57.7min remaining: 15.7min\n",
      "[Parallel(n_jobs=28)]: Done  23 out of  28 | elapsed: 57.7min remaining: 12.5min\n",
      "[Parallel(n_jobs=28)]: Done  24 out of  28 | elapsed: 57.7min remaining:  9.6min\n",
      "[Parallel(n_jobs=28)]: Done  25 out of  28 | elapsed: 57.7min remaining:  6.9min\n",
      "[Parallel(n_jobs=28)]: Done  26 out of  28 | elapsed: 57.7min remaining:  4.4min\n",
      "[Parallel(n_jobs=28)]: Done  28 out of  28 | elapsed: 57.7min remaining:    0.0s\n"
     ]
    },
    {
     "name": "stderr",
     "output_type": "stream",
     "text": [
      "2021-08-27 14:29:47,329 root         INFO     Something went wrong in session 2021-08-02\n",
      "2021-08-27 14:29:47,330 root         INFO     Error <class 'joblib.externals.loky.process_executor.TerminatedWorkerError'>\n",
      "2021-08-27 14:29:47,331 root         INFO     Will search for bouts through all session s_b1253_21, 2021-08-03\n",
      "2021-08-27 14:30:01,101 root         INFO     Found 28 files\n"
     ]
    },
    {
     "name": "stdout",
     "output_type": "stream",
     "text": [
      "[Parallel(n_jobs=28)]: Using backend LokyBackend with 28 concurrent workers.\n",
      "[Parallel(n_jobs=28)]: Done   1 tasks      | elapsed: 20.3min\n",
      "[Parallel(n_jobs=28)]: Done   2 out of  28 | elapsed: 20.3min remaining: 263.7min\n",
      "[Parallel(n_jobs=28)]: Done   3 out of  28 | elapsed: 20.3min remaining: 169.0min\n",
      "[Parallel(n_jobs=28)]: Done   4 out of  28 | elapsed: 20.3min remaining: 121.7min\n",
      "[Parallel(n_jobs=28)]: Done   5 out of  28 | elapsed: 20.3min remaining: 93.3min\n",
      "[Parallel(n_jobs=28)]: Done   6 out of  28 | elapsed: 20.3min remaining: 74.4min\n",
      "[Parallel(n_jobs=28)]: Done   7 out of  28 | elapsed: 20.3min remaining: 60.9min\n",
      "[Parallel(n_jobs=28)]: Done   8 out of  28 | elapsed: 20.3min remaining: 50.7min\n",
      "[Parallel(n_jobs=28)]: Done   9 out of  28 | elapsed: 20.3min remaining: 42.8min\n",
      "[Parallel(n_jobs=28)]: Done  10 out of  28 | elapsed: 20.3min remaining: 36.5min\n",
      "[Parallel(n_jobs=28)]: Done  11 out of  28 | elapsed: 20.3min remaining: 31.4min\n",
      "[Parallel(n_jobs=28)]: Done  12 out of  28 | elapsed: 20.3min remaining: 27.0min\n",
      "[Parallel(n_jobs=28)]: Done  13 out of  28 | elapsed: 20.3min remaining: 23.4min\n",
      "[Parallel(n_jobs=28)]: Done  14 out of  28 | elapsed: 20.3min remaining: 20.3min\n",
      "[Parallel(n_jobs=28)]: Done  15 out of  28 | elapsed: 20.3min remaining: 17.6min\n",
      "[Parallel(n_jobs=28)]: Done  16 out of  28 | elapsed: 20.3min remaining: 15.2min\n",
      "[Parallel(n_jobs=28)]: Done  17 out of  28 | elapsed: 20.3min remaining: 13.1min\n",
      "[Parallel(n_jobs=28)]: Done  18 out of  28 | elapsed: 20.3min remaining: 11.3min\n",
      "[Parallel(n_jobs=28)]: Done  19 out of  28 | elapsed: 20.3min remaining:  9.6min\n",
      "[Parallel(n_jobs=28)]: Done  20 out of  28 | elapsed: 20.3min remaining:  8.1min\n",
      "[Parallel(n_jobs=28)]: Done  21 out of  28 | elapsed: 20.3min remaining:  6.8min\n",
      "[Parallel(n_jobs=28)]: Done  22 out of  28 | elapsed: 20.3min remaining:  5.5min\n",
      "[Parallel(n_jobs=28)]: Done  23 out of  28 | elapsed: 20.3min remaining:  4.4min\n",
      "[Parallel(n_jobs=28)]: Done  24 out of  28 | elapsed: 20.3min remaining:  3.4min\n",
      "[Parallel(n_jobs=28)]: Done  25 out of  28 | elapsed: 20.3min remaining:  2.4min\n",
      "[Parallel(n_jobs=28)]: Done  26 out of  28 | elapsed: 20.3min remaining:  1.6min\n",
      "[Parallel(n_jobs=28)]: Done  28 out of  28 | elapsed: 20.3min remaining:    0.0s\n"
     ]
    },
    {
     "name": "stderr",
     "output_type": "stream",
     "text": [
      "2021-08-27 14:50:43,714 root         INFO     Something went wrong in session 2021-08-03\n",
      "2021-08-27 14:50:43,716 root         INFO     Error <class 'joblib.externals.loky.process_executor.TerminatedWorkerError'>\n",
      "2021-08-27 14:50:43,722 root         INFO     Will search for bouts through all session s_b1253_21, 2021-08-04\n",
      "2021-08-27 14:50:43,789 root         INFO     Found 28 files\n"
     ]
    },
    {
     "name": "stdout",
     "output_type": "stream",
     "text": [
      "[Parallel(n_jobs=28)]: Using backend LokyBackend with 28 concurrent workers.\n",
      "[Parallel(n_jobs=28)]: Done   1 tasks      | elapsed: 22.0min\n",
      "[Parallel(n_jobs=28)]: Done   2 out of  28 | elapsed: 23.7min remaining: 307.7min\n",
      "[Parallel(n_jobs=28)]: Done   3 out of  28 | elapsed: 23.7min remaining: 197.3min\n",
      "[Parallel(n_jobs=28)]: Done   4 out of  28 | elapsed: 23.7min remaining: 142.1min\n",
      "[Parallel(n_jobs=28)]: Done   5 out of  28 | elapsed: 23.8min remaining: 109.3min\n",
      "[Parallel(n_jobs=28)]: Done   6 out of  28 | elapsed: 27.0min remaining: 99.1min\n",
      "[Parallel(n_jobs=28)]: Done   7 out of  28 | elapsed: 30.4min remaining: 91.3min\n",
      "[Parallel(n_jobs=28)]: Done   8 out of  28 | elapsed: 31.4min remaining: 78.5min\n",
      "[Parallel(n_jobs=28)]: Done   9 out of  28 | elapsed: 31.4min remaining: 66.3min\n",
      "[Parallel(n_jobs=28)]: Done  10 out of  28 | elapsed: 31.4min remaining: 56.5min\n",
      "[Parallel(n_jobs=28)]: Done  11 out of  28 | elapsed: 31.4min remaining: 48.5min\n",
      "[Parallel(n_jobs=28)]: Done  12 out of  28 | elapsed: 31.4min remaining: 41.9min\n",
      "[Parallel(n_jobs=28)]: Done  13 out of  28 | elapsed: 31.4min remaining: 36.3min\n",
      "[Parallel(n_jobs=28)]: Done  14 out of  28 | elapsed: 31.4min remaining: 31.4min\n",
      "[Parallel(n_jobs=28)]: Done  15 out of  28 | elapsed: 31.4min remaining: 27.2min\n",
      "[Parallel(n_jobs=28)]: Done  16 out of  28 | elapsed: 31.5min remaining: 23.6min\n",
      "[Parallel(n_jobs=28)]: Done  17 out of  28 | elapsed: 31.5min remaining: 20.4min\n",
      "[Parallel(n_jobs=28)]: Done  18 out of  28 | elapsed: 31.5min remaining: 17.5min\n",
      "[Parallel(n_jobs=28)]: Done  19 out of  28 | elapsed: 31.6min remaining: 14.9min\n",
      "[Parallel(n_jobs=28)]: Done  20 out of  28 | elapsed: 31.6min remaining: 12.6min\n",
      "[Parallel(n_jobs=28)]: Done  21 out of  28 | elapsed: 31.6min remaining: 10.5min\n",
      "[Parallel(n_jobs=28)]: Done  22 out of  28 | elapsed: 31.6min remaining:  8.6min\n",
      "[Parallel(n_jobs=28)]: Done  23 out of  28 | elapsed: 31.6min remaining:  6.9min\n",
      "[Parallel(n_jobs=28)]: Done  24 out of  28 | elapsed: 31.7min remaining:  5.3min\n",
      "[Parallel(n_jobs=28)]: Done  25 out of  28 | elapsed: 31.7min remaining:  3.8min\n",
      "[Parallel(n_jobs=28)]: Done  26 out of  28 | elapsed: 31.7min remaining:  2.4min\n"
     ]
    },
    {
     "name": "stderr",
     "output_type": "stream",
     "text": [
      "2021-08-27 15:22:25,337 root         INFO     saving bouts pandas to /mnt/sphere/speech_bci/derived_data/s_b1253_21/2021-08-04/alsa/bouts_ceciestunepipe/bout_auto.pickle\n"
     ]
    },
    {
     "name": "stdout",
     "output_type": "stream",
     "text": [
      "[Parallel(n_jobs=28)]: Done  28 out of  28 | elapsed: 31.7min remaining:    0.0s\n",
      "[Parallel(n_jobs=28)]: Done  28 out of  28 | elapsed: 31.7min finished\n"
     ]
    },
    {
     "name": "stderr",
     "output_type": "stream",
     "text": [
      "2021-08-27 15:22:26,204 root         INFO     saving bout detect parameters dict to /mnt/sphere/speech_bci/derived_data/s_b1253_21/2021-08-04/alsa/bouts_ceciestunepipe/bout_search_params.pickle\n",
      "2021-08-27 15:22:26,207 root         INFO     Something went wrong in session 2021-08-04\n",
      "2021-08-27 15:22:26,209 root         INFO     Error <class 'NameError'>\n",
      "2021-08-27 15:22:26,209 root         INFO     Will search for bouts through all session s_b1253_21, 2021-08-05\n",
      "2021-08-27 15:22:26,286 root         INFO     Found 28 files\n"
     ]
    },
    {
     "name": "stdout",
     "output_type": "stream",
     "text": [
      "[Parallel(n_jobs=28)]: Using backend LokyBackend with 28 concurrent workers.\n",
      "[Parallel(n_jobs=28)]: Done   1 tasks      | elapsed: 15.6min\n",
      "[Parallel(n_jobs=28)]: Done   2 out of  28 | elapsed: 15.6min remaining: 203.0min\n",
      "[Parallel(n_jobs=28)]: Done   3 out of  28 | elapsed: 15.6min remaining: 130.1min\n",
      "[Parallel(n_jobs=28)]: Done   4 out of  28 | elapsed: 15.6min remaining: 93.7min\n",
      "[Parallel(n_jobs=28)]: Done   5 out of  28 | elapsed: 15.6min remaining: 71.8min\n",
      "[Parallel(n_jobs=28)]: Done   6 out of  28 | elapsed: 15.6min remaining: 57.3min\n",
      "[Parallel(n_jobs=28)]: Done   7 out of  28 | elapsed: 15.6min remaining: 46.8min\n",
      "[Parallel(n_jobs=28)]: Done   8 out of  28 | elapsed: 15.6min remaining: 39.0min\n",
      "[Parallel(n_jobs=28)]: Done   9 out of  28 | elapsed: 15.6min remaining: 33.0min\n",
      "[Parallel(n_jobs=28)]: Done  10 out of  28 | elapsed: 15.6min remaining: 28.1min\n",
      "[Parallel(n_jobs=28)]: Done  11 out of  28 | elapsed: 15.6min remaining: 24.1min\n",
      "[Parallel(n_jobs=28)]: Done  12 out of  28 | elapsed: 15.6min remaining: 20.8min\n",
      "[Parallel(n_jobs=28)]: Done  13 out of  28 | elapsed: 15.6min remaining: 18.0min\n",
      "[Parallel(n_jobs=28)]: Done  14 out of  28 | elapsed: 15.6min remaining: 15.6min\n",
      "[Parallel(n_jobs=28)]: Done  15 out of  28 | elapsed: 15.6min remaining: 13.5min\n",
      "[Parallel(n_jobs=28)]: Done  16 out of  28 | elapsed: 15.6min remaining: 11.7min\n",
      "[Parallel(n_jobs=28)]: Done  17 out of  28 | elapsed: 15.6min remaining: 10.1min\n",
      "[Parallel(n_jobs=28)]: Done  18 out of  28 | elapsed: 15.6min remaining:  8.7min\n",
      "[Parallel(n_jobs=28)]: Done  19 out of  28 | elapsed: 15.6min remaining:  7.4min\n",
      "[Parallel(n_jobs=28)]: Done  20 out of  28 | elapsed: 15.6min remaining:  6.2min\n",
      "[Parallel(n_jobs=28)]: Done  21 out of  28 | elapsed: 15.6min remaining:  5.2min\n",
      "[Parallel(n_jobs=28)]: Done  22 out of  28 | elapsed: 15.6min remaining:  4.3min\n",
      "[Parallel(n_jobs=28)]: Done  23 out of  28 | elapsed: 15.6min remaining:  3.4min\n",
      "[Parallel(n_jobs=28)]: Done  24 out of  28 | elapsed: 15.6min remaining:  2.6min\n",
      "[Parallel(n_jobs=28)]: Done  25 out of  28 | elapsed: 15.6min remaining:  1.9min\n",
      "[Parallel(n_jobs=28)]: Done  26 out of  28 | elapsed: 15.6min remaining:  1.2min\n",
      "[Parallel(n_jobs=28)]: Done  28 out of  28 | elapsed: 15.6min remaining:    0.0s\n"
     ]
    },
    {
     "name": "stderr",
     "output_type": "stream",
     "text": [
      "2021-08-27 15:38:19,742 root         INFO     Something went wrong in session 2021-08-05\n",
      "2021-08-27 15:38:19,742 root         INFO     Error <class 'joblib.externals.loky.process_executor.TerminatedWorkerError'>\n"
     ]
    }
   ],
   "source": [
    "for sess in all_sessions[-25:-21]:\n",
    "    try:\n",
    "        sess_par['sess'] = sess\n",
    "        sess_bout_pd = get_all_day_bouts(sess_par, hparams, n_jobs=28)\n",
    "        save_auto_bouts(sess_bout_pd, sess_par, hparams)\n",
    "        sess_bouts_folder = os.path.join(bird_bouts_folder, sess)\n",
    "        bouts_to_wavs(sess_bout_pd, sess_par, hparams, sess_bouts_folder)\n",
    "    except:\n",
    "        logger.info('Something went wrong in session ' + sess)\n",
    "        logger.info('Error {}'.format(sys.exc_info()[0]))\n",
    "        "
   ]
  },
  {
   "cell_type": "code",
   "execution_count": null,
   "id": "solved-blade",
   "metadata": {},
   "outputs": [],
   "source": []
  }
 ],
 "metadata": {
  "kernelspec": {
   "display_name": "unepipe",
   "language": "python",
   "name": "unepipe"
  },
  "language_info": {
   "codemirror_mode": {
    "name": "ipython",
    "version": 3
   },
   "file_extension": ".py",
   "mimetype": "text/x-python",
   "name": "python",
   "nbconvert_exporter": "python",
   "pygments_lexer": "ipython3",
   "version": "3.8.11"
  }
 },
 "nbformat": 4,
 "nbformat_minor": 5
}
