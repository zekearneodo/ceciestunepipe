{
 "cells": [
  {
   "cell_type": "code",
   "execution_count": 3,
   "id": "03ff9c24",
   "metadata": {},
   "outputs": [
    {
     "name": "stderr",
     "output_type": "stream",
     "text": [
      "2022-08-08 10:52:05,571 root         INFO     Running on pakhi\n"
     ]
    }
   ],
   "source": [
    "import os\n",
    "import glob\n",
    "import socket\n",
    "import logging\n",
    "import pickle\n",
    "import numpy as np\n",
    "import pandas as pd\n",
    "from scipy.io import wavfile\n",
    "from scipy import signal\n",
    "\n",
    "### Fuck matplotlib, I'm using poltly now\n",
    "from plotly.subplots import make_subplots\n",
    "import plotly.graph_objects as go\n",
    "\n",
    "from importlib import reload\n",
    "\n",
    "logger = logging.getLogger()\n",
    "handler = logging.StreamHandler()\n",
    "formatter = logging.Formatter(\n",
    "        '%(asctime)s %(name)-12s %(levelname)-8s %(message)s')\n",
    "handler.setFormatter(formatter)\n",
    "logger.addHandler(handler)\n",
    "logger.setLevel(logging.INFO)\n",
    "\n",
    "logger.info('Running on {}'.format(socket.gethostname()))"
   ]
  },
  {
   "cell_type": "code",
   "execution_count": 4,
   "id": "90d2d733",
   "metadata": {},
   "outputs": [],
   "source": [
    "file_path = '/mnt/sphere/speech_bci/raw_data/s_b1555_22/2022-08-07/alsa/08-00-01-02.wav'"
   ]
  },
  {
   "cell_type": "code",
   "execution_count": 5,
   "id": "4cdfcd02",
   "metadata": {},
   "outputs": [
    {
     "ename": "ValueError",
     "evalue": "cannot reshape array of size 536870911 into shape (8)",
     "output_type": "error",
     "traceback": [
      "\u001b[0;31m---------------------------------------------------------------------------\u001b[0m",
      "\u001b[0;31mValueError\u001b[0m                                Traceback (most recent call last)",
      "Input \u001b[0;32mIn [5]\u001b[0m, in \u001b[0;36m<cell line: 1>\u001b[0;34m()\u001b[0m\n\u001b[0;32m----> 1\u001b[0m \u001b[43mwavfile\u001b[49m\u001b[38;5;241;43m.\u001b[39;49m\u001b[43mread\u001b[49m\u001b[43m(\u001b[49m\u001b[43mfile_path\u001b[49m\u001b[43m)\u001b[49m\n",
      "File \u001b[0;32m~/anaconda3/envs/unepipe/lib/python3.8/site-packages/scipy/io/wavfile.py:689\u001b[0m, in \u001b[0;36mread\u001b[0;34m(filename, mmap)\u001b[0m\n\u001b[1;32m    687\u001b[0m     \u001b[38;5;28;01mif\u001b[39;00m \u001b[38;5;129;01mnot\u001b[39;00m fmt_chunk_received:\n\u001b[1;32m    688\u001b[0m         \u001b[38;5;28;01mraise\u001b[39;00m \u001b[38;5;167;01mValueError\u001b[39;00m(\u001b[38;5;124m\"\u001b[39m\u001b[38;5;124mNo fmt chunk before data\u001b[39m\u001b[38;5;124m\"\u001b[39m)\n\u001b[0;32m--> 689\u001b[0m     data \u001b[38;5;241m=\u001b[39m \u001b[43m_read_data_chunk\u001b[49m\u001b[43m(\u001b[49m\u001b[43mfid\u001b[49m\u001b[43m,\u001b[49m\u001b[43m \u001b[49m\u001b[43mformat_tag\u001b[49m\u001b[43m,\u001b[49m\u001b[43m \u001b[49m\u001b[43mchannels\u001b[49m\u001b[43m,\u001b[49m\u001b[43m \u001b[49m\u001b[43mbit_depth\u001b[49m\u001b[43m,\u001b[49m\n\u001b[1;32m    690\u001b[0m \u001b[43m                            \u001b[49m\u001b[43mis_big_endian\u001b[49m\u001b[43m,\u001b[49m\u001b[43m \u001b[49m\u001b[43mblock_align\u001b[49m\u001b[43m,\u001b[49m\u001b[43m \u001b[49m\u001b[43mmmap\u001b[49m\u001b[43m)\u001b[49m\n\u001b[1;32m    691\u001b[0m \u001b[38;5;28;01melif\u001b[39;00m chunk_id \u001b[38;5;241m==\u001b[39m \u001b[38;5;124mb\u001b[39m\u001b[38;5;124m'\u001b[39m\u001b[38;5;124mLIST\u001b[39m\u001b[38;5;124m'\u001b[39m:\n\u001b[1;32m    692\u001b[0m     \u001b[38;5;66;03m# Someday this could be handled properly but for now skip it\u001b[39;00m\n\u001b[1;32m    693\u001b[0m     _skip_unknown_chunk(fid, is_big_endian)\n",
      "File \u001b[0;32m~/anaconda3/envs/unepipe/lib/python3.8/site-packages/scipy/io/wavfile.py:490\u001b[0m, in \u001b[0;36m_read_data_chunk\u001b[0;34m(fid, format_tag, channels, bit_depth, is_big_endian, block_align, mmap)\u001b[0m\n\u001b[1;32m    487\u001b[0m _handle_pad_byte(fid, size)\n\u001b[1;32m    489\u001b[0m \u001b[38;5;28;01mif\u001b[39;00m channels \u001b[38;5;241m>\u001b[39m \u001b[38;5;241m1\u001b[39m:\n\u001b[0;32m--> 490\u001b[0m     data \u001b[38;5;241m=\u001b[39m \u001b[43mdata\u001b[49m\u001b[38;5;241;43m.\u001b[39;49m\u001b[43mreshape\u001b[49m\u001b[43m(\u001b[49m\u001b[38;5;241;43m-\u001b[39;49m\u001b[38;5;241;43m1\u001b[39;49m\u001b[43m,\u001b[49m\u001b[43m \u001b[49m\u001b[43mchannels\u001b[49m\u001b[43m)\u001b[49m\n\u001b[1;32m    491\u001b[0m \u001b[38;5;28;01mreturn\u001b[39;00m data\n",
      "\u001b[0;31mValueError\u001b[0m: cannot reshape array of size 536870911 into shape (8)"
     ]
    }
   ],
   "source": [
    "wavfile.read(file_path)"
   ]
  },
  {
   "cell_type": "code",
   "execution_count": 16,
   "id": "9a4e7674",
   "metadata": {},
   "outputs": [
    {
     "data": {
      "text/plain": [
       "(array([0.00071188, 0.00106045, 0.00092664, ..., 0.00047803, 0.00043447,\n",
       "        0.        ], dtype=float32),\n",
       " 22050)"
      ]
     },
     "execution_count": 16,
     "metadata": {},
     "output_type": "execute_result"
    }
   ],
   "source": [
    "librosa.load(file_path)"
   ]
  },
  {
   "cell_type": "code",
   "execution_count": 14,
   "id": "a40ab122",
   "metadata": {},
   "outputs": [],
   "source": [
    "import librosa"
   ]
  },
  {
   "cell_type": "code",
   "execution_count": 1,
   "id": "ba123517",
   "metadata": {},
   "outputs": [],
   "source": [
    "import scipy\n"
   ]
  },
  {
   "cell_type": "code",
   "execution_count": 2,
   "id": "2dbf75b3",
   "metadata": {},
   "outputs": [
    {
     "data": {
      "text/plain": [
       "'1.9.0'"
      ]
     },
     "execution_count": 2,
     "metadata": {},
     "output_type": "execute_result"
    }
   ],
   "source": [
    "scipy.__version__"
   ]
  },
  {
   "cell_type": "code",
   "execution_count": null,
   "id": "d77330b5",
   "metadata": {},
   "outputs": [],
   "source": []
  }
 ],
 "metadata": {
  "kernelspec": {
   "display_name": "unepipe",
   "language": "python",
   "name": "unepipe"
  },
  "language_info": {
   "codemirror_mode": {
    "name": "ipython",
    "version": 3
   },
   "file_extension": ".py",
   "mimetype": "text/x-python",
   "name": "python",
   "nbconvert_exporter": "python",
   "pygments_lexer": "ipython3",
   "version": "3.8.11"
  }
 },
 "nbformat": 4,
 "nbformat_minor": 5
}
