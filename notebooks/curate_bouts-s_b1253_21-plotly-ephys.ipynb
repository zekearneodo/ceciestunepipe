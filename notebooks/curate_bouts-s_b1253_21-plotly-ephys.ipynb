{
 "cells": [
  {
   "cell_type": "markdown",
   "id": "athletic-binding",
   "metadata": {},
   "source": [
    "## Searching for bouts for a day of ephys recording\n",
    "- microphone wav file is first exported in sglx_pipe-dev-sort-bouts-s_b1253_21-20210614\n",
    "- bouts are extracted in searchbout_s_b1253_21-ephys"
   ]
  },
  {
   "cell_type": "code",
   "execution_count": 1,
   "id": "animal-admission",
   "metadata": {},
   "outputs": [
    {
     "name": "stderr",
     "output_type": "stream",
     "text": [
      "2021-09-22 11:14:53,806 root         INFO     Running on pakhi\n"
     ]
    }
   ],
   "source": [
    "import os\n",
    "import glob\n",
    "import socket\n",
    "import logging\n",
    "import pickle\n",
    "import numpy as np\n",
    "import pandas as pd\n",
    "from scipy.io import wavfile\n",
    "from scipy import signal\n",
    "\n",
    "### Fuck matplotlib, I'm using poltly now\n",
    "from plotly.subplots import make_subplots\n",
    "import plotly.graph_objects as go\n",
    "\n",
    "from importlib import reload\n",
    "\n",
    "logger = logging.getLogger()\n",
    "handler = logging.StreamHandler()\n",
    "formatter = logging.Formatter(\n",
    "        '%(asctime)s %(name)-12s %(levelname)-8s %(message)s')\n",
    "handler.setFormatter(formatter)\n",
    "logger.addHandler(handler)\n",
    "logger.setLevel(logging.INFO)\n",
    "\n",
    "logger.info('Running on {}'.format(socket.gethostname()))"
   ]
  },
  {
   "cell_type": "code",
   "execution_count": 2,
   "id": "weird-england",
   "metadata": {},
   "outputs": [],
   "source": [
    "from ceciestunepipe.file import bcistructure as et\n",
    "from ceciestunepipe.util.sound import boutsearch as bs"
   ]
  },
  {
   "cell_type": "markdown",
   "id": "framed-survivor",
   "metadata": {},
   "source": [
    "### Get the file locations for a session (day) of recordings"
   ]
  },
  {
   "cell_type": "code",
   "execution_count": 3,
   "id": "sonic-movie",
   "metadata": {},
   "outputs": [],
   "source": [
    "reload(et)\n",
    "sess_par = {'bird': 's_b1253_21',\n",
    "           'sess': '2021-07-18',\n",
    "           'sort': 2}\n",
    "\n",
    "\n",
    "exp_struct = et.get_exp_struct(sess_par['bird'], sess_par['sess'], ephys_software='sglx')\n",
    "\n",
    "raw_folder = exp_struct['folders']['sglx']\n",
    "\n",
    "derived_folder = exp_struct['folders']['derived']\n",
    "\n",
    "bouts_folder = os.path.join(derived_folder, 'bouts_ceciestunepipe')\n",
    "\n",
    "sess_bouts_file = os.path.join(bouts_folder, 'bout_sess_auto.pickle')\n",
    "sess_bouts_curated_file = os.path.join(bouts_folder, 'bout_curated.pickle')\n",
    "\n",
    "os.makedirs(bouts_folder, exist_ok=True)"
   ]
  },
  {
   "cell_type": "code",
   "execution_count": 4,
   "id": "polyphonic-reward",
   "metadata": {},
   "outputs": [
    {
     "data": {
      "text/plain": [
       "{'bird': '/mnt/sphere/speech_bci/raw_data/s_b1253_21',\n",
       " 'raw': '/mnt/sphere/speech_bci/raw_data/s_b1253_21/2021-07-18',\n",
       " 'sglx': '/mnt/sphere/speech_bci/raw_data/s_b1253_21/2021-07-18/sglx',\n",
       " 'kwik': '/scratch/earneodo/s_b1253_21/sglx/kwik/2021-07-18',\n",
       " 'processed': '/mnt/sphere/speech_bci/processed_data/s_b1253_21/2021-07-18/sglx',\n",
       " 'derived': '/mnt/sphere/speech_bci/derived_data/s_b1253_21/2021-07-18/sglx',\n",
       " 'tmp': '/scratch/earneodo/tmp',\n",
       " 'msort': '/scratch/earneodo/s_b1253_21/sglx/msort/2021-07-18',\n",
       " 'ksort': '/scratch/earneodo/s_b1253_21/sglx/ksort/2021-07-18'}"
      ]
     },
     "execution_count": 4,
     "metadata": {},
     "output_type": "execute_result"
    }
   ],
   "source": [
    "exp_struct['folders']"
   ]
  },
  {
   "cell_type": "code",
   "execution_count": 5,
   "id": "moving-florence",
   "metadata": {},
   "outputs": [
    {
     "data": {
      "text/plain": [
       "'1.2.5'"
      ]
     },
     "execution_count": 5,
     "metadata": {},
     "output_type": "execute_result"
    }
   ],
   "source": [
    "pd.__version__"
   ]
  },
  {
   "cell_type": "markdown",
   "id": "hawaiian-survival",
   "metadata": {},
   "source": [
    "### load concatenated the files of the session"
   ]
  },
  {
   "cell_type": "code",
   "execution_count": 5,
   "id": "operational-devon",
   "metadata": {},
   "outputs": [
    {
     "name": "stdout",
     "output_type": "stream",
     "text": [
      "['/mnt/sphere/speech_bci/derived_data/s_b1253_21/2021-07-18/sglx/0610_g0/bout_auto.pickle', '/mnt/sphere/speech_bci/derived_data/s_b1253_21/2021-07-18/sglx/1615_g0/bout_auto.pickle', '/mnt/sphere/speech_bci/derived_data/s_b1253_21/2021-07-18/sglx/bouts_ceciestunepipe/bout_auto.pickle']\n"
     ]
    },
    {
     "ename": "AttributeError",
     "evalue": "Can't get attribute 'new_block' on <module 'pandas.core.internals.blocks' from '/home/earneodo/anaconda3/lib/python3.8/site-packages/pandas/core/internals/blocks.py'>",
     "output_type": "error",
     "traceback": [
      "\u001b[0;31m---------------------------------------------------------------------------\u001b[0m",
      "\u001b[0;31mAttributeError\u001b[0m                            Traceback (most recent call last)",
      "\u001b[0;32m<ipython-input-5-ec14e5af7541>\u001b[0m in \u001b[0;36m<module>\u001b[0;34m\u001b[0m\n\u001b[1;32m     16\u001b[0m     \u001b[0;32mreturn\u001b[0m \u001b[0mbout_pd\u001b[0m\u001b[0;34m,\u001b[0m \u001b[0mhparams\u001b[0m\u001b[0;34m\u001b[0m\u001b[0;34m\u001b[0m\u001b[0m\n\u001b[1;32m     17\u001b[0m \u001b[0;34m\u001b[0m\u001b[0m\n\u001b[0;32m---> 18\u001b[0;31m \u001b[0mbout_pd\u001b[0m\u001b[0;34m,\u001b[0m \u001b[0mhparams\u001b[0m \u001b[0;34m=\u001b[0m \u001b[0mread_session_auto_bouts\u001b[0m\u001b[0;34m(\u001b[0m\u001b[0mexp_struct\u001b[0m\u001b[0;34m)\u001b[0m\u001b[0;34m\u001b[0m\u001b[0;34m\u001b[0m\u001b[0m\n\u001b[0m",
      "\u001b[0;32m<ipython-input-5-ec14e5af7541>\u001b[0m in \u001b[0;36mread_session_auto_bouts\u001b[0;34m(exp_struct)\u001b[0m\n\u001b[1;32m     12\u001b[0m         \u001b[0mhparams\u001b[0m \u001b[0;34m=\u001b[0m \u001b[0mpickle\u001b[0m\u001b[0;34m.\u001b[0m\u001b[0mload\u001b[0m\u001b[0;34m(\u001b[0m\u001b[0mfh\u001b[0m\u001b[0;34m)\u001b[0m\u001b[0;34m\u001b[0m\u001b[0;34m\u001b[0m\u001b[0m\n\u001b[1;32m     13\u001b[0m \u001b[0;34m\u001b[0m\u001b[0m\n\u001b[0;32m---> 14\u001b[0;31m     \u001b[0mbout_pd\u001b[0m \u001b[0;34m=\u001b[0m \u001b[0mpd\u001b[0m\u001b[0;34m.\u001b[0m\u001b[0mconcat\u001b[0m\u001b[0;34m(\u001b[0m\u001b[0;34m[\u001b[0m\u001b[0mpd\u001b[0m\u001b[0;34m.\u001b[0m\u001b[0mread_pickle\u001b[0m\u001b[0;34m(\u001b[0m\u001b[0mp\u001b[0m\u001b[0;34m)\u001b[0m \u001b[0;32mfor\u001b[0m \u001b[0mp\u001b[0m \u001b[0;32min\u001b[0m \u001b[0mbout_pd_files\u001b[0m\u001b[0;34m[\u001b[0m\u001b[0;34m:\u001b[0m\u001b[0;34m]\u001b[0m\u001b[0;34m]\u001b[0m\u001b[0;34m)\u001b[0m\u001b[0;34m\u001b[0m\u001b[0;34m\u001b[0m\u001b[0m\n\u001b[0m\u001b[1;32m     15\u001b[0m \u001b[0;34m\u001b[0m\u001b[0m\n\u001b[1;32m     16\u001b[0m     \u001b[0;32mreturn\u001b[0m \u001b[0mbout_pd\u001b[0m\u001b[0;34m,\u001b[0m \u001b[0mhparams\u001b[0m\u001b[0;34m\u001b[0m\u001b[0;34m\u001b[0m\u001b[0m\n",
      "\u001b[0;32m<ipython-input-5-ec14e5af7541>\u001b[0m in \u001b[0;36m<listcomp>\u001b[0;34m(.0)\u001b[0m\n\u001b[1;32m     12\u001b[0m         \u001b[0mhparams\u001b[0m \u001b[0;34m=\u001b[0m \u001b[0mpickle\u001b[0m\u001b[0;34m.\u001b[0m\u001b[0mload\u001b[0m\u001b[0;34m(\u001b[0m\u001b[0mfh\u001b[0m\u001b[0;34m)\u001b[0m\u001b[0;34m\u001b[0m\u001b[0;34m\u001b[0m\u001b[0m\n\u001b[1;32m     13\u001b[0m \u001b[0;34m\u001b[0m\u001b[0m\n\u001b[0;32m---> 14\u001b[0;31m     \u001b[0mbout_pd\u001b[0m \u001b[0;34m=\u001b[0m \u001b[0mpd\u001b[0m\u001b[0;34m.\u001b[0m\u001b[0mconcat\u001b[0m\u001b[0;34m(\u001b[0m\u001b[0;34m[\u001b[0m\u001b[0mpd\u001b[0m\u001b[0;34m.\u001b[0m\u001b[0mread_pickle\u001b[0m\u001b[0;34m(\u001b[0m\u001b[0mp\u001b[0m\u001b[0;34m)\u001b[0m \u001b[0;32mfor\u001b[0m \u001b[0mp\u001b[0m \u001b[0;32min\u001b[0m \u001b[0mbout_pd_files\u001b[0m\u001b[0;34m[\u001b[0m\u001b[0;34m:\u001b[0m\u001b[0;34m]\u001b[0m\u001b[0;34m]\u001b[0m\u001b[0;34m)\u001b[0m\u001b[0;34m\u001b[0m\u001b[0;34m\u001b[0m\u001b[0m\n\u001b[0m\u001b[1;32m     15\u001b[0m \u001b[0;34m\u001b[0m\u001b[0m\n\u001b[1;32m     16\u001b[0m     \u001b[0;32mreturn\u001b[0m \u001b[0mbout_pd\u001b[0m\u001b[0;34m,\u001b[0m \u001b[0mhparams\u001b[0m\u001b[0;34m\u001b[0m\u001b[0;34m\u001b[0m\u001b[0m\n",
      "\u001b[0;32m~/anaconda3/lib/python3.8/site-packages/pandas/io/pickle.py\u001b[0m in \u001b[0;36mread_pickle\u001b[0;34m(filepath_or_buffer, compression, storage_options)\u001b[0m\n\u001b[1;32m    206\u001b[0m                 \u001b[0;31m#  \"No module named 'pandas.core.sparse.series'\"\u001b[0m\u001b[0;34m\u001b[0m\u001b[0;34m\u001b[0m\u001b[0;34m\u001b[0m\u001b[0m\n\u001b[1;32m    207\u001b[0m                 \u001b[0;31m#  \"Can't get attribute '__nat_unpickle' on <module 'pandas._libs.tslib\"\u001b[0m\u001b[0;34m\u001b[0m\u001b[0;34m\u001b[0m\u001b[0;34m\u001b[0m\u001b[0m\n\u001b[0;32m--> 208\u001b[0;31m                 \u001b[0;32mreturn\u001b[0m \u001b[0mpc\u001b[0m\u001b[0;34m.\u001b[0m\u001b[0mload\u001b[0m\u001b[0;34m(\u001b[0m\u001b[0mhandles\u001b[0m\u001b[0;34m.\u001b[0m\u001b[0mhandle\u001b[0m\u001b[0;34m,\u001b[0m \u001b[0mencoding\u001b[0m\u001b[0;34m=\u001b[0m\u001b[0;32mNone\u001b[0m\u001b[0;34m)\u001b[0m\u001b[0;34m\u001b[0m\u001b[0;34m\u001b[0m\u001b[0m\n\u001b[0m\u001b[1;32m    209\u001b[0m         \u001b[0;32mexcept\u001b[0m \u001b[0mUnicodeDecodeError\u001b[0m\u001b[0;34m:\u001b[0m\u001b[0;34m\u001b[0m\u001b[0;34m\u001b[0m\u001b[0m\n\u001b[1;32m    210\u001b[0m             \u001b[0;31m# e.g. can occur for files written in py27; see GH#28645 and GH#31988\u001b[0m\u001b[0;34m\u001b[0m\u001b[0;34m\u001b[0m\u001b[0;34m\u001b[0m\u001b[0m\n",
      "\u001b[0;32m~/anaconda3/lib/python3.8/site-packages/pandas/compat/pickle_compat.py\u001b[0m in \u001b[0;36mload\u001b[0;34m(fh, encoding, is_verbose)\u001b[0m\n\u001b[1;32m    247\u001b[0m         \u001b[0mup\u001b[0m\u001b[0;34m.\u001b[0m\u001b[0mis_verbose\u001b[0m \u001b[0;34m=\u001b[0m \u001b[0mis_verbose\u001b[0m\u001b[0;34m\u001b[0m\u001b[0;34m\u001b[0m\u001b[0m\n\u001b[1;32m    248\u001b[0m \u001b[0;34m\u001b[0m\u001b[0m\n\u001b[0;32m--> 249\u001b[0;31m         \u001b[0;32mreturn\u001b[0m \u001b[0mup\u001b[0m\u001b[0;34m.\u001b[0m\u001b[0mload\u001b[0m\u001b[0;34m(\u001b[0m\u001b[0;34m)\u001b[0m\u001b[0;34m\u001b[0m\u001b[0;34m\u001b[0m\u001b[0m\n\u001b[0m\u001b[1;32m    250\u001b[0m     \u001b[0;32mexcept\u001b[0m \u001b[0;34m(\u001b[0m\u001b[0mValueError\u001b[0m\u001b[0;34m,\u001b[0m \u001b[0mTypeError\u001b[0m\u001b[0;34m)\u001b[0m\u001b[0;34m:\u001b[0m\u001b[0;34m\u001b[0m\u001b[0;34m\u001b[0m\u001b[0m\n\u001b[1;32m    251\u001b[0m         \u001b[0;32mraise\u001b[0m\u001b[0;34m\u001b[0m\u001b[0;34m\u001b[0m\u001b[0m\n",
      "\u001b[0;32m~/anaconda3/lib/python3.8/pickle.py\u001b[0m in \u001b[0;36mload\u001b[0;34m(self)\u001b[0m\n\u001b[1;32m   1208\u001b[0m                     \u001b[0;32mraise\u001b[0m \u001b[0mEOFError\u001b[0m\u001b[0;34m\u001b[0m\u001b[0;34m\u001b[0m\u001b[0m\n\u001b[1;32m   1209\u001b[0m                 \u001b[0;32massert\u001b[0m \u001b[0misinstance\u001b[0m\u001b[0;34m(\u001b[0m\u001b[0mkey\u001b[0m\u001b[0;34m,\u001b[0m \u001b[0mbytes_types\u001b[0m\u001b[0;34m)\u001b[0m\u001b[0;34m\u001b[0m\u001b[0;34m\u001b[0m\u001b[0m\n\u001b[0;32m-> 1210\u001b[0;31m                 \u001b[0mdispatch\u001b[0m\u001b[0;34m[\u001b[0m\u001b[0mkey\u001b[0m\u001b[0;34m[\u001b[0m\u001b[0;36m0\u001b[0m\u001b[0;34m]\u001b[0m\u001b[0;34m]\u001b[0m\u001b[0;34m(\u001b[0m\u001b[0mself\u001b[0m\u001b[0;34m)\u001b[0m\u001b[0;34m\u001b[0m\u001b[0;34m\u001b[0m\u001b[0m\n\u001b[0m\u001b[1;32m   1211\u001b[0m         \u001b[0;32mexcept\u001b[0m \u001b[0m_Stop\u001b[0m \u001b[0;32mas\u001b[0m \u001b[0mstopinst\u001b[0m\u001b[0;34m:\u001b[0m\u001b[0;34m\u001b[0m\u001b[0;34m\u001b[0m\u001b[0m\n\u001b[1;32m   1212\u001b[0m             \u001b[0;32mreturn\u001b[0m \u001b[0mstopinst\u001b[0m\u001b[0;34m.\u001b[0m\u001b[0mvalue\u001b[0m\u001b[0;34m\u001b[0m\u001b[0;34m\u001b[0m\u001b[0m\n",
      "\u001b[0;32m~/anaconda3/lib/python3.8/pickle.py\u001b[0m in \u001b[0;36mload_stack_global\u001b[0;34m(self)\u001b[0m\n\u001b[1;32m   1533\u001b[0m         \u001b[0;32mif\u001b[0m \u001b[0mtype\u001b[0m\u001b[0;34m(\u001b[0m\u001b[0mname\u001b[0m\u001b[0;34m)\u001b[0m \u001b[0;32mis\u001b[0m \u001b[0;32mnot\u001b[0m \u001b[0mstr\u001b[0m \u001b[0;32mor\u001b[0m \u001b[0mtype\u001b[0m\u001b[0;34m(\u001b[0m\u001b[0mmodule\u001b[0m\u001b[0;34m)\u001b[0m \u001b[0;32mis\u001b[0m \u001b[0;32mnot\u001b[0m \u001b[0mstr\u001b[0m\u001b[0;34m:\u001b[0m\u001b[0;34m\u001b[0m\u001b[0;34m\u001b[0m\u001b[0m\n\u001b[1;32m   1534\u001b[0m             \u001b[0;32mraise\u001b[0m \u001b[0mUnpicklingError\u001b[0m\u001b[0;34m(\u001b[0m\u001b[0;34m\"STACK_GLOBAL requires str\"\u001b[0m\u001b[0;34m)\u001b[0m\u001b[0;34m\u001b[0m\u001b[0;34m\u001b[0m\u001b[0m\n\u001b[0;32m-> 1535\u001b[0;31m         \u001b[0mself\u001b[0m\u001b[0;34m.\u001b[0m\u001b[0mappend\u001b[0m\u001b[0;34m(\u001b[0m\u001b[0mself\u001b[0m\u001b[0;34m.\u001b[0m\u001b[0mfind_class\u001b[0m\u001b[0;34m(\u001b[0m\u001b[0mmodule\u001b[0m\u001b[0;34m,\u001b[0m \u001b[0mname\u001b[0m\u001b[0;34m)\u001b[0m\u001b[0;34m)\u001b[0m\u001b[0;34m\u001b[0m\u001b[0;34m\u001b[0m\u001b[0m\n\u001b[0m\u001b[1;32m   1536\u001b[0m     \u001b[0mdispatch\u001b[0m\u001b[0;34m[\u001b[0m\u001b[0mSTACK_GLOBAL\u001b[0m\u001b[0;34m[\u001b[0m\u001b[0;36m0\u001b[0m\u001b[0;34m]\u001b[0m\u001b[0;34m]\u001b[0m \u001b[0;34m=\u001b[0m \u001b[0mload_stack_global\u001b[0m\u001b[0;34m\u001b[0m\u001b[0;34m\u001b[0m\u001b[0m\n\u001b[1;32m   1537\u001b[0m \u001b[0;34m\u001b[0m\u001b[0m\n",
      "\u001b[0;32m~/anaconda3/lib/python3.8/site-packages/pandas/compat/pickle_compat.py\u001b[0m in \u001b[0;36mfind_class\u001b[0;34m(self, module, name)\u001b[0m\n\u001b[1;32m    187\u001b[0m         \u001b[0mkey\u001b[0m \u001b[0;34m=\u001b[0m \u001b[0;34m(\u001b[0m\u001b[0mmodule\u001b[0m\u001b[0;34m,\u001b[0m \u001b[0mname\u001b[0m\u001b[0;34m)\u001b[0m\u001b[0;34m\u001b[0m\u001b[0;34m\u001b[0m\u001b[0m\n\u001b[1;32m    188\u001b[0m         \u001b[0mmodule\u001b[0m\u001b[0;34m,\u001b[0m \u001b[0mname\u001b[0m \u001b[0;34m=\u001b[0m \u001b[0m_class_locations_map\u001b[0m\u001b[0;34m.\u001b[0m\u001b[0mget\u001b[0m\u001b[0;34m(\u001b[0m\u001b[0mkey\u001b[0m\u001b[0;34m,\u001b[0m \u001b[0mkey\u001b[0m\u001b[0;34m)\u001b[0m\u001b[0;34m\u001b[0m\u001b[0;34m\u001b[0m\u001b[0m\n\u001b[0;32m--> 189\u001b[0;31m         \u001b[0;32mreturn\u001b[0m \u001b[0msuper\u001b[0m\u001b[0;34m(\u001b[0m\u001b[0;34m)\u001b[0m\u001b[0;34m.\u001b[0m\u001b[0mfind_class\u001b[0m\u001b[0;34m(\u001b[0m\u001b[0mmodule\u001b[0m\u001b[0;34m,\u001b[0m \u001b[0mname\u001b[0m\u001b[0;34m)\u001b[0m\u001b[0;34m\u001b[0m\u001b[0;34m\u001b[0m\u001b[0m\n\u001b[0m\u001b[1;32m    190\u001b[0m \u001b[0;34m\u001b[0m\u001b[0m\n\u001b[1;32m    191\u001b[0m \u001b[0;34m\u001b[0m\u001b[0m\n",
      "\u001b[0;32m~/anaconda3/lib/python3.8/pickle.py\u001b[0m in \u001b[0;36mfind_class\u001b[0;34m(self, module, name)\u001b[0m\n\u001b[1;32m   1577\u001b[0m         \u001b[0m__import__\u001b[0m\u001b[0;34m(\u001b[0m\u001b[0mmodule\u001b[0m\u001b[0;34m,\u001b[0m \u001b[0mlevel\u001b[0m\u001b[0;34m=\u001b[0m\u001b[0;36m0\u001b[0m\u001b[0;34m)\u001b[0m\u001b[0;34m\u001b[0m\u001b[0;34m\u001b[0m\u001b[0m\n\u001b[1;32m   1578\u001b[0m         \u001b[0;32mif\u001b[0m \u001b[0mself\u001b[0m\u001b[0;34m.\u001b[0m\u001b[0mproto\u001b[0m \u001b[0;34m>=\u001b[0m \u001b[0;36m4\u001b[0m\u001b[0;34m:\u001b[0m\u001b[0;34m\u001b[0m\u001b[0;34m\u001b[0m\u001b[0m\n\u001b[0;32m-> 1579\u001b[0;31m             \u001b[0;32mreturn\u001b[0m \u001b[0m_getattribute\u001b[0m\u001b[0;34m(\u001b[0m\u001b[0msys\u001b[0m\u001b[0;34m.\u001b[0m\u001b[0mmodules\u001b[0m\u001b[0;34m[\u001b[0m\u001b[0mmodule\u001b[0m\u001b[0;34m]\u001b[0m\u001b[0;34m,\u001b[0m \u001b[0mname\u001b[0m\u001b[0;34m)\u001b[0m\u001b[0;34m[\u001b[0m\u001b[0;36m0\u001b[0m\u001b[0;34m]\u001b[0m\u001b[0;34m\u001b[0m\u001b[0;34m\u001b[0m\u001b[0m\n\u001b[0m\u001b[1;32m   1580\u001b[0m         \u001b[0;32melse\u001b[0m\u001b[0;34m:\u001b[0m\u001b[0;34m\u001b[0m\u001b[0;34m\u001b[0m\u001b[0m\n\u001b[1;32m   1581\u001b[0m             \u001b[0;32mreturn\u001b[0m \u001b[0mgetattr\u001b[0m\u001b[0;34m(\u001b[0m\u001b[0msys\u001b[0m\u001b[0;34m.\u001b[0m\u001b[0mmodules\u001b[0m\u001b[0;34m[\u001b[0m\u001b[0mmodule\u001b[0m\u001b[0;34m]\u001b[0m\u001b[0;34m,\u001b[0m \u001b[0mname\u001b[0m\u001b[0;34m)\u001b[0m\u001b[0;34m\u001b[0m\u001b[0;34m\u001b[0m\u001b[0m\n",
      "\u001b[0;32m~/anaconda3/lib/python3.8/pickle.py\u001b[0m in \u001b[0;36m_getattribute\u001b[0;34m(obj, name)\u001b[0m\n\u001b[1;32m    329\u001b[0m             \u001b[0mobj\u001b[0m \u001b[0;34m=\u001b[0m \u001b[0mgetattr\u001b[0m\u001b[0;34m(\u001b[0m\u001b[0mobj\u001b[0m\u001b[0;34m,\u001b[0m \u001b[0msubpath\u001b[0m\u001b[0;34m)\u001b[0m\u001b[0;34m\u001b[0m\u001b[0;34m\u001b[0m\u001b[0m\n\u001b[1;32m    330\u001b[0m         \u001b[0;32mexcept\u001b[0m \u001b[0mAttributeError\u001b[0m\u001b[0;34m:\u001b[0m\u001b[0;34m\u001b[0m\u001b[0;34m\u001b[0m\u001b[0m\n\u001b[0;32m--> 331\u001b[0;31m             raise AttributeError(\"Can't get attribute {!r} on {!r}\"\n\u001b[0m\u001b[1;32m    332\u001b[0m                                  .format(name, obj)) from None\n\u001b[1;32m    333\u001b[0m     \u001b[0;32mreturn\u001b[0m \u001b[0mobj\u001b[0m\u001b[0;34m,\u001b[0m \u001b[0mparent\u001b[0m\u001b[0;34m\u001b[0m\u001b[0;34m\u001b[0m\u001b[0m\n",
      "\u001b[0;31mAttributeError\u001b[0m: Can't get attribute 'new_block' on <module 'pandas.core.internals.blocks' from '/home/earneodo/anaconda3/lib/python3.8/site-packages/pandas/core/internals/blocks.py'>"
     ]
    }
   ],
   "source": [
    "def read_session_auto_bouts(exp_struct):\n",
    "    # list all files of the session\n",
    "    # read into list of pandas dataframes and concatenate\n",
    "    # read the search parameters of the first session\n",
    "    # return the big pd and the search params\n",
    "    derived_folder = exp_struct['folders']['derived']\n",
    "    bout_pd_files = et.get_sgl_files_epochs(derived_folder, file_filter='bout_auto.pickle')\n",
    "    search_params_files = et.get_sgl_files_epochs(derived_folder, file_filter='bout_search_params.pickle')\n",
    "    print(bout_pd_files)\n",
    "    hparams=None\n",
    "    with open(search_params_files[0], 'rb') as fh:\n",
    "        hparams = pickle.load(fh)\n",
    "    \n",
    "    bout_pd = pd.concat([pd.read_pickle(p) for p in bout_pd_files[:]])\n",
    "    \n",
    "    return bout_pd, hparams\n",
    "\n",
    "bout_pd, hparams = read_session_auto_bouts(exp_struct)"
   ]
  },
  {
   "cell_type": "code",
   "execution_count": 6,
   "id": "tested-consultation",
   "metadata": {
    "scrolled": false
   },
   "outputs": [
    {
     "ename": "NameError",
     "evalue": "name 'bout_pd' is not defined",
     "output_type": "error",
     "traceback": [
      "\u001b[0;31m---------------------------------------------------------------------------\u001b[0m",
      "\u001b[0;31mNameError\u001b[0m                                 Traceback (most recent call last)",
      "\u001b[0;32m<ipython-input-6-641bdd738c25>\u001b[0m in \u001b[0;36m<module>\u001b[0;34m\u001b[0m\n\u001b[0;32m----> 1\u001b[0;31m \u001b[0mbout_pd\u001b[0m\u001b[0;34m\u001b[0m\u001b[0;34m\u001b[0m\u001b[0m\n\u001b[0m",
      "\u001b[0;31mNameError\u001b[0m: name 'bout_pd' is not defined"
     ]
    }
   ],
   "source": [
    "bout_pd"
   ]
  },
  {
   "cell_type": "code",
   "execution_count": 47,
   "id": "minute-french",
   "metadata": {},
   "outputs": [
    {
     "data": {
      "text/plain": [
       "array(['/mnt/sphere/speech_bci/derived_data/s_b1253_21/2021-07-18/sglx/0610_g0/wav_mic.wav',\n",
       "       '/mnt/sphere/speech_bci/derived_data/s_b1253_21/2021-07-18/sglx/1615_g0/wav_mic.wav'],\n",
       "      dtype=object)"
      ]
     },
     "execution_count": 47,
     "metadata": {},
     "output_type": "execute_result"
    }
   ],
   "source": [
    "np.unique(bout_pd['file'])"
   ]
  },
  {
   "cell_type": "markdown",
   "id": "incorrect-manhattan",
   "metadata": {},
   "source": [
    "###### if it wasnt saved (which is a bad mistake), read the sampling rate from the first file in the session"
   ]
  },
  {
   "cell_type": "code",
   "execution_count": 32,
   "id": "bulgarian-crazy",
   "metadata": {},
   "outputs": [],
   "source": [
    "def sample_rate_from_wav(wav_path):\n",
    "    x, sample_rate = wavfile.read(wav_path)\n",
    "    return sample_rate\n",
    "\n",
    "if hparams['sample_rate'] is None:\n",
    "    one_wav_path = bpd.loc[0, 'file']\n",
    "    logger.info('Sample rate not saved in parameters dict, searching it in ' + one_wav_path)\n",
    "    hparams['sample_rate'] = sample_rate_from_wav(one_wav_path)"
   ]
  },
  {
   "cell_type": "code",
   "execution_count": 50,
   "id": "combined-silver",
   "metadata": {},
   "outputs": [],
   "source": [
    "def cleanup(bout_pd: pd.DataFrame):\n",
    "    ## check for empty waveforms (how woudld THAT happen???)\n",
    "    bout_pd['valid_waveform'] = bout_pd['waveform'].apply(lambda x: (False if x.size==0 else True))\n",
    "    \n",
    "    # valid is & of all the validated criteria\n",
    "    bout_pd['valid'] = bout_pd['valid_waveform']\n",
    "    \n",
    "    ## fill in the epoch\n",
    "    bout_pd['epoch'] = bout_pd['file'].apply(lambda x: et.split_path(x)[-2])\n",
    "    \n",
    "    # drop not valid and reset index\n",
    "    bout_pd.drop(bout_pd[bout_pd['valid']==False].index, inplace=True)\n",
    "    bout_pd.reset_index(drop=True, inplace=True)\n",
    "    \n",
    "    # set all to 'confusing' (unchecked) and 'bout_check' false (not a bout)\n",
    "    bout_pd['confusing'] = True\n",
    "    bout_pd['bout_check'] = False\n",
    "\n",
    "cleanup(bout_pd)"
   ]
  },
  {
   "cell_type": "code",
   "execution_count": 51,
   "id": "proper-archive",
   "metadata": {
    "scrolled": true
   },
   "outputs": [
    {
     "data": {
      "text/plain": [
       "array(['/mnt/sphere/speech_bci/derived_data/s_b1253_21/2021-07-18/sglx/0610_g0/wav_mic.wav'],\n",
       "      dtype=object)"
      ]
     },
     "execution_count": 51,
     "metadata": {},
     "output_type": "execute_result"
    }
   ],
   "source": [
    "np.unique(bout_pd['file'])"
   ]
  },
  {
   "cell_type": "code",
   "execution_count": 35,
   "id": "numeric-accident",
   "metadata": {},
   "outputs": [
    {
     "data": {
      "text/plain": [
       "<module 'ceciestunepipe.file.bcistructure' from '/mnt/cube/earneodo/repos/ceciestunepipe/ceciestunepipe/file/bcistructure.py'>"
      ]
     },
     "execution_count": 35,
     "metadata": {},
     "output_type": "execute_result"
    }
   ],
   "source": [
    "reload(et)"
   ]
  },
  {
   "cell_type": "markdown",
   "id": "fleet-reservoir",
   "metadata": {},
   "source": [
    "#### compute the spectrograms"
   ]
  },
  {
   "cell_type": "code",
   "execution_count": 36,
   "id": "instructional-valuable",
   "metadata": {},
   "outputs": [
    {
     "name": "stderr",
     "output_type": "stream",
     "text": [
      "2021-09-21 18:00:10,747 root         INFO     saving bout pandas with spectrogram to /mnt/sphere/speech_bci/derived_data/s_b1253_21/2021-07-18/sglx/bouts_ceciestunepipe/bout_sess_auto.pickle\n"
     ]
    }
   ],
   "source": [
    "bout_pd['spectrogram'] = bout_pd['waveform'].apply(lambda x: bs.gimmepower(x, hparams)[2])\n",
    "logger.info('saving bout pandas with spectrogram to ' + sess_bouts_file)\n",
    "bout_pd.to_pickle(sess_bouts_file)"
   ]
  },
  {
   "cell_type": "code",
   "execution_count": 37,
   "id": "developed-footage",
   "metadata": {},
   "outputs": [
    {
     "data": {
      "text/html": [
       "<div>\n",
       "<style scoped>\n",
       "    .dataframe tbody tr th:only-of-type {\n",
       "        vertical-align: middle;\n",
       "    }\n",
       "\n",
       "    .dataframe tbody tr th {\n",
       "        vertical-align: top;\n",
       "    }\n",
       "\n",
       "    .dataframe thead th {\n",
       "        text-align: right;\n",
       "    }\n",
       "</style>\n",
       "<table border=\"1\" class=\"dataframe\">\n",
       "  <thead>\n",
       "    <tr style=\"text-align: right;\">\n",
       "      <th></th>\n",
       "      <th>start_ms</th>\n",
       "      <th>end_ms</th>\n",
       "      <th>start_sample</th>\n",
       "      <th>end_sample</th>\n",
       "      <th>p_step</th>\n",
       "      <th>rms_p</th>\n",
       "      <th>peak_p</th>\n",
       "      <th>bout_check</th>\n",
       "      <th>file</th>\n",
       "      <th>len_ms</th>\n",
       "      <th>...</th>\n",
       "      <th>n_syl</th>\n",
       "      <th>peaks_p</th>\n",
       "      <th>n_peaks</th>\n",
       "      <th>l_p_ratio</th>\n",
       "      <th>waveform</th>\n",
       "      <th>valid_waveform</th>\n",
       "      <th>valid</th>\n",
       "      <th>epoch</th>\n",
       "      <th>confusing</th>\n",
       "      <th>spectrogram</th>\n",
       "    </tr>\n",
       "  </thead>\n",
       "  <tbody>\n",
       "    <tr>\n",
       "      <th>0</th>\n",
       "      <td>4539970</td>\n",
       "      <td>4545905</td>\n",
       "      <td>113499250</td>\n",
       "      <td>113647625</td>\n",
       "      <td>[21.011606223298124, 42.12113172158324, 10.393...</td>\n",
       "      <td>25.943562</td>\n",
       "      <td>341.681207</td>\n",
       "      <td>False</td>\n",
       "      <td>/mnt/sphere/speech_bci/derived_data/s_b1253_21...</td>\n",
       "      <td>5935</td>\n",
       "      <td>...</td>\n",
       "      <td>12</td>\n",
       "      <td>[6, 15, 37, 45, 76, 96, 195, 219, 232, 249, 26...</td>\n",
       "      <td>42</td>\n",
       "      <td>141.309524</td>\n",
       "      <td>[-39, -29, -36, -39, -39, -49, -16, -26, -29, ...</td>\n",
       "      <td>True</td>\n",
       "      <td>True</td>\n",
       "      <td>0610_g0</td>\n",
       "      <td>True</td>\n",
       "      <td>[[0.0, 0.0, 0.0, 0.0, 0.0, 0.0, 0.0, 0.0, 0.0,...</td>\n",
       "    </tr>\n",
       "    <tr>\n",
       "      <th>1</th>\n",
       "      <td>4746765</td>\n",
       "      <td>4758305</td>\n",
       "      <td>118669125</td>\n",
       "      <td>118957625</td>\n",
       "      <td>[45.74815033265438, 82.1746515082166, 44.94570...</td>\n",
       "      <td>25.943562</td>\n",
       "      <td>286.314774</td>\n",
       "      <td>False</td>\n",
       "      <td>/mnt/sphere/speech_bci/derived_data/s_b1253_21...</td>\n",
       "      <td>11540</td>\n",
       "      <td>...</td>\n",
       "      <td>28</td>\n",
       "      <td>[1, 16, 28, 35, 48, 87, 175, 215, 254, 315, 33...</td>\n",
       "      <td>67</td>\n",
       "      <td>172.238806</td>\n",
       "      <td>[-79, -67, -72, -71, -53, -57, -59, -55, -68, ...</td>\n",
       "      <td>True</td>\n",
       "      <td>True</td>\n",
       "      <td>0610_g0</td>\n",
       "      <td>True</td>\n",
       "      <td>[[0.0, 0.0, 0.0, 0.0, 0.0, 0.0, 0.0, 0.0, 0.0,...</td>\n",
       "    </tr>\n",
       "  </tbody>\n",
       "</table>\n",
       "<p>2 rows × 21 columns</p>\n",
       "</div>"
      ],
      "text/plain": [
       "   start_ms   end_ms  start_sample  end_sample  \\\n",
       "0   4539970  4545905     113499250   113647625   \n",
       "1   4746765  4758305     118669125   118957625   \n",
       "\n",
       "                                              p_step      rms_p      peak_p  \\\n",
       "0  [21.011606223298124, 42.12113172158324, 10.393...  25.943562  341.681207   \n",
       "1  [45.74815033265438, 82.1746515082166, 44.94570...  25.943562  286.314774   \n",
       "\n",
       "   bout_check                                               file  len_ms  ...  \\\n",
       "0       False  /mnt/sphere/speech_bci/derived_data/s_b1253_21...    5935  ...   \n",
       "1       False  /mnt/sphere/speech_bci/derived_data/s_b1253_21...   11540  ...   \n",
       "\n",
       "  n_syl                                            peaks_p n_peaks  \\\n",
       "0    12  [6, 15, 37, 45, 76, 96, 195, 219, 232, 249, 26...      42   \n",
       "1    28  [1, 16, 28, 35, 48, 87, 175, 215, 254, 315, 33...      67   \n",
       "\n",
       "    l_p_ratio                                           waveform  \\\n",
       "0  141.309524  [-39, -29, -36, -39, -39, -49, -16, -26, -29, ...   \n",
       "1  172.238806  [-79, -67, -72, -71, -53, -57, -59, -55, -68, ...   \n",
       "\n",
       "  valid_waveform  valid    epoch confusing  \\\n",
       "0           True   True  0610_g0      True   \n",
       "1           True   True  0610_g0      True   \n",
       "\n",
       "                                         spectrogram  \n",
       "0  [[0.0, 0.0, 0.0, 0.0, 0.0, 0.0, 0.0, 0.0, 0.0,...  \n",
       "1  [[0.0, 0.0, 0.0, 0.0, 0.0, 0.0, 0.0, 0.0, 0.0,...  \n",
       "\n",
       "[2 rows x 21 columns]"
      ]
     },
     "execution_count": 37,
     "metadata": {},
     "output_type": "execute_result"
    }
   ],
   "source": [
    "bout_pd.head(2)"
   ]
  },
  {
   "cell_type": "code",
   "execution_count": 45,
   "id": "pressing-depth",
   "metadata": {},
   "outputs": [
    {
     "name": "stdout",
     "output_type": "stream",
     "text": [
      "<class 'pandas.core.frame.DataFrame'>\n",
      "RangeIndex: 50 entries, 0 to 49\n",
      "Data columns (total 21 columns):\n",
      " #   Column          Non-Null Count  Dtype  \n",
      "---  ------          --------------  -----  \n",
      " 0   start_ms        50 non-null     int64  \n",
      " 1   end_ms          50 non-null     int64  \n",
      " 2   start_sample    50 non-null     int64  \n",
      " 3   end_sample      50 non-null     int64  \n",
      " 4   p_step          50 non-null     object \n",
      " 5   rms_p           50 non-null     float64\n",
      " 6   peak_p          50 non-null     float64\n",
      " 7   bout_check      50 non-null     bool   \n",
      " 8   file            50 non-null     object \n",
      " 9   len_ms          50 non-null     int64  \n",
      " 10  syl_in          50 non-null     object \n",
      " 11  n_syl           50 non-null     int64  \n",
      " 12  peaks_p         50 non-null     object \n",
      " 13  n_peaks         50 non-null     int64  \n",
      " 14  l_p_ratio       50 non-null     float64\n",
      " 15  waveform        50 non-null     object \n",
      " 16  valid_waveform  50 non-null     bool   \n",
      " 17  valid           50 non-null     bool   \n",
      " 18  epoch           50 non-null     object \n",
      " 19  confusing       50 non-null     bool   \n",
      " 20  spectrogram     50 non-null     object \n",
      "dtypes: bool(4), float64(3), int64(7), object(7)\n",
      "memory usage: 7.0+ KB\n"
     ]
    }
   ],
   "source": [
    "bout_pd.info()"
   ]
  },
  {
   "cell_type": "code",
   "execution_count": 43,
   "id": "sophisticated-latter",
   "metadata": {},
   "outputs": [
    {
     "data": {
      "text/plain": [
       "array(['/mnt/sphere/speech_bci/derived_data/s_b1253_21/2021-07-18/sglx/0610_g0/wav_mic.wav'],\n",
       "      dtype=object)"
      ]
     },
     "execution_count": 43,
     "metadata": {},
     "output_type": "execute_result"
    }
   ],
   "source": [
    "np.unique(bout_pd['file'])"
   ]
  },
  {
   "cell_type": "markdown",
   "id": "aging-wrapping",
   "metadata": {},
   "source": [
    "## inspect the bouts and curate them"
   ]
  },
  {
   "cell_type": "markdown",
   "id": "traditional-plaza",
   "metadata": {},
   "source": [
    "#### visualize one bout"
   ]
  },
  {
   "cell_type": "code",
   "execution_count": 39,
   "id": "adjusted-relative",
   "metadata": {},
   "outputs": [
    {
     "data": {
      "text/plain": [
       "start_ms                                                    4539970\n",
       "end_ms                                                      4545905\n",
       "start_sample                                              113499250\n",
       "end_sample                                                113647625\n",
       "p_step            [21.011606223298124, 42.12113172158324, 10.393...\n",
       "rms_p                                                     25.943562\n",
       "peak_p                                                   341.681207\n",
       "bout_check                                                    False\n",
       "file              /mnt/sphere/speech_bci/derived_data/s_b1253_21...\n",
       "len_ms                                                         5935\n",
       "syl_in            [[4539970, 4540015], [4540150, 4540185], [4540...\n",
       "n_syl                                                            12\n",
       "peaks_p           [6, 15, 37, 45, 76, 96, 195, 219, 232, 249, 26...\n",
       "n_peaks                                                          42\n",
       "l_p_ratio                                                141.309524\n",
       "waveform          [-39, -29, -36, -39, -39, -49, -16, -26, -29, ...\n",
       "valid_waveform                                                 True\n",
       "valid                                                          True\n",
       "epoch                                                       0610_g0\n",
       "confusing                                                      True\n",
       "spectrogram       [[0.0, 0.0, 0.0, 0.0, 0.0, 0.0, 0.0, 0.0, 0.0,...\n",
       "Name: 0, dtype: object"
      ]
     },
     "execution_count": 39,
     "metadata": {},
     "output_type": "execute_result"
    }
   ],
   "source": [
    "bout_pd.iloc[0]"
   ]
  },
  {
   "cell_type": "code",
   "execution_count": 40,
   "id": "explicit-turkey",
   "metadata": {},
   "outputs": [],
   "source": [
    "import plotly.express as px\n",
    "import plotly.graph_objects as go\n",
    "\n",
    "from ipywidgets import widgets"
   ]
  },
  {
   "cell_type": "code",
   "execution_count": 41,
   "id": "dying-apartment",
   "metadata": {},
   "outputs": [
    {
     "data": {
      "application/vnd.jupyter.widget-view+json": {
       "model_id": "50b1d520b47c4f10a19ff2560370242f",
       "version_major": 2,
       "version_minor": 0
      },
      "text/plain": [
       "VBox(children=(FigureWidget({\n",
       "    'data': [{'type': 'scatter',\n",
       "              'uid': '58013a47-c4aa-4f38-81aa-7…"
      ]
     },
     "metadata": {},
     "output_type": "display_data"
    }
   ],
   "source": [
    "def viz_one_bout(df: pd.Series, sub_sample=1):\n",
    "    # get the power and the spectrogram\n",
    "    sxx = df['spectrogram'][:, ::sub_sample]\n",
    "    x = df['waveform'][::sub_sample]\n",
    "    \n",
    "    # the trace\n",
    "    tr_waveform = go.Scatter(y=x)\n",
    "    figwidg_waveform = go.FigureWidget(data=[tr_waveform],\n",
    "                                      layout= {'height': 300,'width':1000})\n",
    "\n",
    "    # the spectrogram\n",
    "    fig_spectrogram = px.imshow(sxx, \n",
    "                                     labels={}, \n",
    "                                     color_continuous_scale='Inferno',\n",
    "                                    aspect='auto')\n",
    "\n",
    "    fig_spectrogram.update_layout(width=1000, height=300, coloraxis_showscale=False)\n",
    "    fig_spectrogram.update_xaxes(showticklabels=False)\n",
    "    fig_spectrogram.update_yaxes(showticklabels=False)\n",
    "    \n",
    "    \n",
    "    figwidg_spectrogram = go.FigureWidget(fig_spectrogram)\n",
    "    \n",
    "    display(widgets.VBox([figwidg_waveform,\n",
    "              figwidg_spectrogram]))\n",
    "    \n",
    "\n",
    "viz_one_bout(bout_pd.iloc[24])"
   ]
  },
  {
   "cell_type": "code",
   "execution_count": 42,
   "id": "advanced-symbol",
   "metadata": {},
   "outputs": [
    {
     "data": {
      "text/html": [
       "<div>\n",
       "<style scoped>\n",
       "    .dataframe tbody tr th:only-of-type {\n",
       "        vertical-align: middle;\n",
       "    }\n",
       "\n",
       "    .dataframe tbody tr th {\n",
       "        vertical-align: top;\n",
       "    }\n",
       "\n",
       "    .dataframe thead th {\n",
       "        text-align: right;\n",
       "    }\n",
       "</style>\n",
       "<table border=\"1\" class=\"dataframe\">\n",
       "  <thead>\n",
       "    <tr style=\"text-align: right;\">\n",
       "      <th></th>\n",
       "      <th>start_ms</th>\n",
       "      <th>end_ms</th>\n",
       "      <th>start_sample</th>\n",
       "      <th>end_sample</th>\n",
       "      <th>p_step</th>\n",
       "      <th>rms_p</th>\n",
       "      <th>peak_p</th>\n",
       "      <th>bout_check</th>\n",
       "      <th>file</th>\n",
       "      <th>len_ms</th>\n",
       "      <th>...</th>\n",
       "      <th>n_syl</th>\n",
       "      <th>peaks_p</th>\n",
       "      <th>n_peaks</th>\n",
       "      <th>l_p_ratio</th>\n",
       "      <th>waveform</th>\n",
       "      <th>valid_waveform</th>\n",
       "      <th>valid</th>\n",
       "      <th>epoch</th>\n",
       "      <th>confusing</th>\n",
       "      <th>spectrogram</th>\n",
       "    </tr>\n",
       "  </thead>\n",
       "  <tbody>\n",
       "    <tr>\n",
       "      <th>0</th>\n",
       "      <td>4539970</td>\n",
       "      <td>4545905</td>\n",
       "      <td>113499250</td>\n",
       "      <td>113647625</td>\n",
       "      <td>[21.011606223298124, 42.12113172158324, 10.393...</td>\n",
       "      <td>25.943562</td>\n",
       "      <td>341.681207</td>\n",
       "      <td>False</td>\n",
       "      <td>/mnt/sphere/speech_bci/derived_data/s_b1253_21...</td>\n",
       "      <td>5935</td>\n",
       "      <td>...</td>\n",
       "      <td>12</td>\n",
       "      <td>[6, 15, 37, 45, 76, 96, 195, 219, 232, 249, 26...</td>\n",
       "      <td>42</td>\n",
       "      <td>141.309524</td>\n",
       "      <td>[-39, -29, -36, -39, -39, -49, -16, -26, -29, ...</td>\n",
       "      <td>True</td>\n",
       "      <td>True</td>\n",
       "      <td>0610_g0</td>\n",
       "      <td>True</td>\n",
       "      <td>[[0.0, 0.0, 0.0, 0.0, 0.0, 0.0, 0.0, 0.0, 0.0,...</td>\n",
       "    </tr>\n",
       "    <tr>\n",
       "      <th>1</th>\n",
       "      <td>4746765</td>\n",
       "      <td>4758305</td>\n",
       "      <td>118669125</td>\n",
       "      <td>118957625</td>\n",
       "      <td>[45.74815033265438, 82.1746515082166, 44.94570...</td>\n",
       "      <td>25.943562</td>\n",
       "      <td>286.314774</td>\n",
       "      <td>False</td>\n",
       "      <td>/mnt/sphere/speech_bci/derived_data/s_b1253_21...</td>\n",
       "      <td>11540</td>\n",
       "      <td>...</td>\n",
       "      <td>28</td>\n",
       "      <td>[1, 16, 28, 35, 48, 87, 175, 215, 254, 315, 33...</td>\n",
       "      <td>67</td>\n",
       "      <td>172.238806</td>\n",
       "      <td>[-79, -67, -72, -71, -53, -57, -59, -55, -68, ...</td>\n",
       "      <td>True</td>\n",
       "      <td>True</td>\n",
       "      <td>0610_g0</td>\n",
       "      <td>True</td>\n",
       "      <td>[[0.0, 0.0, 0.0, 0.0, 0.0, 0.0, 0.0, 0.0, 0.0,...</td>\n",
       "    </tr>\n",
       "  </tbody>\n",
       "</table>\n",
       "<p>2 rows × 21 columns</p>\n",
       "</div>"
      ],
      "text/plain": [
       "   start_ms   end_ms  start_sample  end_sample  \\\n",
       "0   4539970  4545905     113499250   113647625   \n",
       "1   4746765  4758305     118669125   118957625   \n",
       "\n",
       "                                              p_step      rms_p      peak_p  \\\n",
       "0  [21.011606223298124, 42.12113172158324, 10.393...  25.943562  341.681207   \n",
       "1  [45.74815033265438, 82.1746515082166, 44.94570...  25.943562  286.314774   \n",
       "\n",
       "   bout_check                                               file  len_ms  ...  \\\n",
       "0       False  /mnt/sphere/speech_bci/derived_data/s_b1253_21...    5935  ...   \n",
       "1       False  /mnt/sphere/speech_bci/derived_data/s_b1253_21...   11540  ...   \n",
       "\n",
       "  n_syl                                            peaks_p n_peaks  \\\n",
       "0    12  [6, 15, 37, 45, 76, 96, 195, 219, 232, 249, 26...      42   \n",
       "1    28  [1, 16, 28, 35, 48, 87, 175, 215, 254, 315, 33...      67   \n",
       "\n",
       "    l_p_ratio                                           waveform  \\\n",
       "0  141.309524  [-39, -29, -36, -39, -39, -49, -16, -26, -29, ...   \n",
       "1  172.238806  [-79, -67, -72, -71, -53, -57, -59, -55, -68, ...   \n",
       "\n",
       "  valid_waveform  valid    epoch confusing  \\\n",
       "0           True   True  0610_g0      True   \n",
       "1           True   True  0610_g0      True   \n",
       "\n",
       "                                         spectrogram  \n",
       "0  [[0.0, 0.0, 0.0, 0.0, 0.0, 0.0, 0.0, 0.0, 0.0,...  \n",
       "1  [[0.0, 0.0, 0.0, 0.0, 0.0, 0.0, 0.0, 0.0, 0.0,...  \n",
       "\n",
       "[2 rows x 21 columns]"
      ]
     },
     "execution_count": 42,
     "metadata": {},
     "output_type": "execute_result"
    }
   ],
   "source": [
    "bout_pd.head(2)"
   ]
  },
  {
   "cell_type": "markdown",
   "id": "eleven-respect",
   "metadata": {},
   "source": [
    "## use it in a widget\n"
   ]
  },
  {
   "cell_type": "markdown",
   "id": "meaningful-cycling",
   "metadata": {},
   "source": [
    "#### add a 'confusing' label, for not/sure/mixed.\n",
    "we want to avoid having things we are not sure of in the training dataset"
   ]
  },
  {
   "cell_type": "code",
   "execution_count": 17,
   "id": "champion-crest",
   "metadata": {},
   "outputs": [],
   "source": [
    "bout_pd.reset_index(drop=True, inplace=True)"
   ]
  },
  {
   "cell_type": "code",
   "execution_count": 18,
   "id": "democratic-swiss",
   "metadata": {},
   "outputs": [],
   "source": [
    "## Set confusing by default, will only be False once asserted bout/or not\n",
    "bout_pd['confusing'] = True\n",
    "bout_pd['bout_check'] = False"
   ]
  },
  {
   "cell_type": "code",
   "execution_count": 19,
   "id": "unable-employee",
   "metadata": {},
   "outputs": [],
   "source": [
    "### Create a counter object (count goes 1:1 to DataFrame index)\n",
    "from traitlets import CInt, link\n",
    "\n",
    "class Counter(widgets.DOMWidget):\n",
    "    value = CInt(0)\n",
    "    value.tag(sync=True)"
   ]
  },
  {
   "cell_type": "code",
   "execution_count": 20,
   "id": "organized-think",
   "metadata": {},
   "outputs": [
    {
     "data": {
      "application/vnd.jupyter.widget-view+json": {
       "model_id": "8613b4f37d034d7ba2dc4cfc032b2069",
       "version_major": 2,
       "version_minor": 0
      },
      "text/plain": [
       "VBox(children=(HBox(children=(HBox(children=(VBox(children=(Button(button_style='warning', description='Prev',…"
      ]
     },
     "metadata": {},
     "output_type": "display_data"
    }
   ],
   "source": [
    "class VizBout():\n",
    "    def __init__(self, hparams, bouts_pd):\n",
    "        self.bout = None\n",
    "        self.bouts_pd = bouts_pd\n",
    "        self.bout_series = None\n",
    "        self.is_bout = None\n",
    "        self.is_confusing = None\n",
    "        \n",
    "        self.bout_counter = None\n",
    "        self.bout_id = None\n",
    "        \n",
    "        self.buttons = {}\n",
    "        self.m_pick = None\n",
    "        \n",
    "        \n",
    "        self.fig_waveform = None\n",
    "        self.fig_spectrogram = None\n",
    "        \n",
    "        self.figwidg_waveform = None\n",
    "        self.figwidg_spectrogram = None\n",
    "        \n",
    "        self.fig_width = 2\n",
    "        self.sub_sample = 10\n",
    "        \n",
    "        self.x = None\n",
    "        self.sxx = None\n",
    "        self.tr_waveform = None\n",
    "        \n",
    "        self.s_f = hparams['sample_rate']\n",
    "        \n",
    "        self.init_fig()\n",
    "        self.init_widget()\n",
    "        self.show()\n",
    "        \n",
    "    def init_fig(self):\n",
    "        # the trace\n",
    "        self.tr_waveform = go.Scatter(y=np.zeros(500))\n",
    "        self.figwidg_waveform = go.FigureWidget(data=[self.tr_waveform],\n",
    "                                               layout={'width': 1000, 'height':300})\n",
    "        \n",
    "        # the spectrogram\n",
    "        self.fig_spectrogram = px.imshow(np.random.rand(500, 500), \n",
    "                                         labels={}, \n",
    "                                         color_continuous_scale='Inferno',\n",
    "                                        aspect='auto')\n",
    "        \n",
    "        self.fig_spectrogram.update_layout(width=1000, height=300, coloraxis_showscale=False)\n",
    "        self.fig_spectrogram.update_xaxes(showticklabels=False)\n",
    "        self.fig_spectrogram.update_yaxes(showticklabels=False)\n",
    "        self.figwidg_spectrogram = go.FigureWidget(self.fig_spectrogram)\n",
    "        \n",
    "        \n",
    "    def init_widget(self):\n",
    "        # declare elements\n",
    "        # lay them out\n",
    "        #\n",
    "        \n",
    "        self.bout_counter = Counter()\n",
    "        self.is_bout = widgets.Checkbox(description='is bout')\n",
    "        self.is_confusing = widgets.Checkbox(description='Not sure or mixed')\n",
    "        \n",
    "        self.buttons['Next'] = widgets.Button(description=\"Next\", button_style='info',\n",
    "                                              icon='plus')   \n",
    "        self.buttons['Prev'] = widgets.Button(description=\"Prev\", button_style='warning',\n",
    "                                              icon='minus')\n",
    "        self.buttons['Check'] = widgets.Button(description=\"Check\", button_style='success', \n",
    "                                               icon='check')\n",
    "        self.buttons['Uncheck'] = widgets.Button(description=\"Uncheck\", button_style='danger',\n",
    "                                                 icon='wrong')\n",
    "        \n",
    "        [b.on_click(self.button_click) for b in self.buttons.values()]\n",
    "        \n",
    "        left_box = widgets.VBox([self.buttons['Prev'], self.buttons['Uncheck']])\n",
    "        right_box = widgets.VBox([self.buttons['Next'], self.buttons['Check']])\n",
    "        button_box = widgets.HBox([left_box, right_box])\n",
    "\n",
    "        self.m_pick = widgets.IntSlider(value=0, min=0, max=self.bouts_pd.index.size-1,step=1, \n",
    "                                        description=\"Bout candidate index\")\n",
    "        \n",
    "        \n",
    "        control_box = widgets.HBox([button_box,\n",
    "                                  widgets.VBox([self.is_bout, self.is_confusing]),\n",
    "                                    self.m_pick])\n",
    "        \n",
    "        link((self.m_pick, 'value'), (self.bout_counter, 'value'))\n",
    "\n",
    "        self.update_bout()\n",
    "        \n",
    "        self.is_bout.observe(self.bout_checked, names='value')\n",
    "        self.is_confusing.observe(self.confusing_checked, names='value')\n",
    "        self.m_pick.observe(self.slider_change, names='value')\n",
    "        \n",
    "        all_containers = widgets.VBox([control_box, \n",
    "                                       self.figwidg_waveform, self.figwidg_spectrogram])\n",
    "        display(all_containers)\n",
    "#         display(button_box)\n",
    "#         display(self.m_pick)\n",
    "#         display(self.is_bout)\n",
    "#         display(self.fig)\n",
    "        \n",
    "    def button_click(self, button):        \n",
    "        self.bout_id = self.bout_counter.value\n",
    "        curr_bout = self.bout_counter\n",
    "        \n",
    "        if button.description == 'Next':\n",
    "            curr_bout.value += 1\n",
    "        elif button.description == 'Prev':\n",
    "            curr_bout.value -= 1\n",
    "        elif button.description == 'Check':\n",
    "            self.bouts_pd.loc[self.bout_id, 'bout_check'] = True\n",
    "            self.bouts_pd.loc[self.bout_id, 'confusing'] = False\n",
    "            curr_bout.value += 1\n",
    "        elif button.description == 'Uncheck':\n",
    "            self.bouts_pd.loc[self.bout_id, 'bout_check'] = False\n",
    "            self.bouts_pd.loc[self.bout_id, 'confusing'] = False\n",
    "            curr_bout.value += 1\n",
    "        \n",
    "        # handle the edges of the counter\n",
    "        if curr_bout.value > self.m_pick.max:\n",
    "            curr_bout.value = 0\n",
    "            \n",
    "        if curr_bout.value < self.m_pick.min:\n",
    "            curr_bout.value = self.m_pick.max\n",
    "    \n",
    "    def slider_change(self, change):\n",
    "        #logger.info('slider changed')\n",
    "        #self.bout_counter = change.new\n",
    "        #clear_output(True)\n",
    "        self.update_bout()\n",
    "        self.show()\n",
    "            \n",
    "    def bout_checked(self, bc):\n",
    "#         print \"bout checked\"\n",
    "#         print bc['new']\n",
    "#         print self.motiff\n",
    "        self.bouts_pd.loc[self.bout_id, 'bout_check'] = bc['new']\n",
    "    \n",
    "    def confusing_checked(self, bc):\n",
    "#         print \"bout checked\"\n",
    "#         print bc['new']\n",
    "#         print self.motiff\n",
    "        self.bouts_pd.loc[self.bout_id, 'confusing'] = bc['new']\n",
    "    \n",
    "    def update_bout(self):\n",
    "        self.bout_id = self.bout_counter.value\n",
    "        self.bout_series = self.bouts_pd.iloc[self.bout_id]\n",
    "        \n",
    "        self.is_bout.value = bool(self.bout_series['bout_check'])\n",
    "        self.is_confusing.value = bool(self.bout_series['confusing'])\n",
    "        \n",
    "        self.x = self.bout_series['waveform'][::self.sub_sample]\n",
    "        self.sxx = self.bout_series['spectrogram'][::self.sub_sample]\n",
    "        \n",
    "    def show(self):\n",
    "        #self.fig.clf()\n",
    "        #self.init_fig()\n",
    "        # update\n",
    "#         self.update_bout()\n",
    "        #plot\n",
    "        #logger.info('showing')\n",
    "        \n",
    "        # Show the figures\n",
    "        with self.figwidg_waveform.batch_update():\n",
    "            self.figwidg_waveform.data[0].y = self.x\n",
    "            self.figwidg_waveform.data[0].x = np.arange(self.x.size) * self.sub_sample / self.s_f \n",
    "            \n",
    "        with self.figwidg_spectrogram.batch_update():\n",
    "            self.figwidg_spectrogram.data[0].z = np.sqrt(self.sxx[::-1])\n",
    "            \n",
    "        \n",
    "\n",
    "viz_bout = VizBout(hparams, bout_pd)"
   ]
  },
  {
   "cell_type": "code",
   "execution_count": 22,
   "id": "intensive-satin",
   "metadata": {},
   "outputs": [
    {
     "data": {
      "text/plain": [
       "34"
      ]
     },
     "execution_count": 22,
     "metadata": {},
     "output_type": "execute_result"
    }
   ],
   "source": [
    "np.where(viz_bout.bouts_pd['bout_check']==True)[0].size"
   ]
  },
  {
   "cell_type": "markdown",
   "id": "phantom-scene",
   "metadata": {},
   "source": [
    "### save it"
   ]
  },
  {
   "cell_type": "code",
   "execution_count": 23,
   "id": "vital-above",
   "metadata": {},
   "outputs": [
    {
     "data": {
      "text/plain": [
       "{'num_freq': 1024,\n",
       " 'preemphasis': 0.97,\n",
       " 'frame_shift_ms': 5,\n",
       " 'frame_length_ms': 10,\n",
       " 'min_level_db': -55,\n",
       " 'ref_level_db': 110,\n",
       " 'sample_rate': 20000,\n",
       " 'mel_filter': False,\n",
       " 'num_mels': 1024,\n",
       " 'fmin': 500,\n",
       " 'fmax': 12000,\n",
       " 'max_iters': 200,\n",
       " 'griffin_lim_iters': 20,\n",
       " 'power': 1.5,\n",
       " 'read_wav_fun': 'read_wav_chan',\n",
       " 'file_order_fun': 'sess_file_id',\n",
       " 'min_segment': 30,\n",
       " 'min_silence': 2000,\n",
       " 'min_bout': 5000,\n",
       " 'peak_thresh_rms': 0.55,\n",
       " 'thresh_rms': 0.25,\n",
       " 'mean_syl_rms_thresh': 0.3,\n",
       " 'max_bout': 120000,\n",
       " 'l_p_r_thresh': 100,\n",
       " 'waveform_edges': 1000,\n",
       " 'bout_auto_file': 'bout_auto.pickle',\n",
       " 'bout_curated_file': 'bout_checked.pickle'}"
      ]
     },
     "execution_count": 23,
     "metadata": {},
     "output_type": "execute_result"
    }
   ],
   "source": [
    "hparams"
   ]
  },
  {
   "cell_type": "code",
   "execution_count": 24,
   "id": "corresponding-seeking",
   "metadata": {},
   "outputs": [
    {
     "name": "stderr",
     "output_type": "stream",
     "text": [
      "2021-09-21 11:51:54,780 root         INFO     saved curated bout pandas to pickle /mnt/sphere/speech_bci/derived_data/s_b1253_21/2021-06-14/sglx/bouts_ceciestunepipe/bout_curated.pickle\n"
     ]
    }
   ],
   "source": [
    "### get the curated file path\n",
    "##save to the curated file path\n",
    "viz_bout.bouts_pd.to_pickle(sess_bouts_curated_file)\n",
    "logger.info('saved curated bout pandas to pickle {}'.format(sess_bouts_curated_file))"
   ]
  },
  {
   "cell_type": "code",
   "execution_count": 25,
   "id": "frequent-export",
   "metadata": {},
   "outputs": [
    {
     "data": {
      "text/plain": [
       "'/mnt/sphere/speech_bci/derived_data/s_b1253_21/2021-06-14/sglx/0712_g0/wav_mic.wav'"
      ]
     },
     "execution_count": 25,
     "metadata": {},
     "output_type": "execute_result"
    }
   ],
   "source": [
    "viz_bout.bouts_pd['file'][0]"
   ]
  },
  {
   "cell_type": "code",
   "execution_count": 36,
   "id": "parliamentary-result",
   "metadata": {},
   "outputs": [
    {
     "data": {
      "text/html": [
       "<div>\n",
       "<style scoped>\n",
       "    .dataframe tbody tr th:only-of-type {\n",
       "        vertical-align: middle;\n",
       "    }\n",
       "\n",
       "    .dataframe tbody tr th {\n",
       "        vertical-align: top;\n",
       "    }\n",
       "\n",
       "    .dataframe thead th {\n",
       "        text-align: right;\n",
       "    }\n",
       "</style>\n",
       "<table border=\"1\" class=\"dataframe\">\n",
       "  <thead>\n",
       "    <tr style=\"text-align: right;\">\n",
       "      <th></th>\n",
       "      <th>start_ms</th>\n",
       "      <th>end_ms</th>\n",
       "      <th>start_sample</th>\n",
       "      <th>end_sample</th>\n",
       "      <th>p_step</th>\n",
       "      <th>rms_p</th>\n",
       "      <th>peak_p</th>\n",
       "      <th>bout_check</th>\n",
       "      <th>file</th>\n",
       "      <th>len_ms</th>\n",
       "      <th>syl_in</th>\n",
       "      <th>n_syl</th>\n",
       "      <th>peaks_p</th>\n",
       "      <th>n_peaks</th>\n",
       "      <th>l_p_ratio</th>\n",
       "      <th>waveform</th>\n",
       "      <th>valid_waveform</th>\n",
       "      <th>valid</th>\n",
       "      <th>spectrogram</th>\n",
       "      <th>confusing</th>\n",
       "    </tr>\n",
       "  </thead>\n",
       "  <tbody>\n",
       "    <tr>\n",
       "      <th>0</th>\n",
       "      <td>6340</td>\n",
       "      <td>12610</td>\n",
       "      <td>126800</td>\n",
       "      <td>252200</td>\n",
       "      <td>[279.1424913127069, 237.28552677964962, 154.69...</td>\n",
       "      <td>32.49787</td>\n",
       "      <td>318.396805</td>\n",
       "      <td>False</td>\n",
       "      <td>/mnt/sphere/speech_bci/derived_data/s_b1253_21...</td>\n",
       "      <td>6270</td>\n",
       "      <td>[[6340, 6385], [6560, 6605], [6695, 6740], [67...</td>\n",
       "      <td>14</td>\n",
       "      <td>[13, 20, 35, 45, 59, 72, 85, 103, 121, 133, 14...</td>\n",
       "      <td>50</td>\n",
       "      <td>125.400000</td>\n",
       "      <td>[-1847, -1860, -1872, -1873, -1852, -1881, -19...</td>\n",
       "      <td>True</td>\n",
       "      <td>True</td>\n",
       "      <td>[[0.18799011171509866, 0.0, 0.0, 0.0, 0.0, 0.0...</td>\n",
       "      <td>False</td>\n",
       "    </tr>\n",
       "    <tr>\n",
       "      <th>1</th>\n",
       "      <td>15795</td>\n",
       "      <td>52345</td>\n",
       "      <td>315900</td>\n",
       "      <td>1046900</td>\n",
       "      <td>[8.715509956604388, 15.467898681663929, 16.472...</td>\n",
       "      <td>32.49787</td>\n",
       "      <td>579.375792</td>\n",
       "      <td>True</td>\n",
       "      <td>/mnt/sphere/speech_bci/derived_data/s_b1253_21...</td>\n",
       "      <td>36550</td>\n",
       "      <td>[[15795, 15870], [16290, 16340], [16415, 16685...</td>\n",
       "      <td>116</td>\n",
       "      <td>[9, 100, 131, 142, 150, 157, 164, 175, 202, 21...</td>\n",
       "      <td>556</td>\n",
       "      <td>65.737410</td>\n",
       "      <td>[906, 885, 877, 872, 864, 848, 856, 834, 859, ...</td>\n",
       "      <td>True</td>\n",
       "      <td>True</td>\n",
       "      <td>[[0.05077423732344499, 0.0, 0.0, 0.0, 0.0, 0.0...</td>\n",
       "      <td>False</td>\n",
       "    </tr>\n",
       "    <tr>\n",
       "      <th>2</th>\n",
       "      <td>64885</td>\n",
       "      <td>94510</td>\n",
       "      <td>1297700</td>\n",
       "      <td>1890200</td>\n",
       "      <td>[21.00765130413882, 49.58913937705543, 62.7825...</td>\n",
       "      <td>32.49787</td>\n",
       "      <td>569.916908</td>\n",
       "      <td>True</td>\n",
       "      <td>/mnt/sphere/speech_bci/derived_data/s_b1253_21...</td>\n",
       "      <td>29625</td>\n",
       "      <td>[[64885, 65000], [65665, 66735], [67660, 67740...</td>\n",
       "      <td>93</td>\n",
       "      <td>[6, 14, 169, 176, 187, 196, 205, 212, 219, 228...</td>\n",
       "      <td>475</td>\n",
       "      <td>62.368421</td>\n",
       "      <td>[-2531, -2499, -2505, -2555, -2489, -2501, -24...</td>\n",
       "      <td>True</td>\n",
       "      <td>True</td>\n",
       "      <td>[[0.23090914678582755, 0.0, 0.0, 0.0, 0.0, 0.0...</td>\n",
       "      <td>False</td>\n",
       "    </tr>\n",
       "    <tr>\n",
       "      <th>3</th>\n",
       "      <td>111180</td>\n",
       "      <td>146365</td>\n",
       "      <td>2223600</td>\n",
       "      <td>2927300</td>\n",
       "      <td>[14.034488055830133, 13.201362167647732, 19.38...</td>\n",
       "      <td>32.49787</td>\n",
       "      <td>659.472493</td>\n",
       "      <td>True</td>\n",
       "      <td>/mnt/sphere/speech_bci/derived_data/s_b1253_21...</td>\n",
       "      <td>35185</td>\n",
       "      <td>[[111180, 111500], [112865, 113230], [114070, ...</td>\n",
       "      <td>109</td>\n",
       "      <td>[3, 12, 26, 38, 47, 55, 346, 357, 364, 371, 37...</td>\n",
       "      <td>544</td>\n",
       "      <td>64.678309</td>\n",
       "      <td>[665, 665, 674, 704, 703, 701, 698, 732, 703, ...</td>\n",
       "      <td>True</td>\n",
       "      <td>True</td>\n",
       "      <td>[[0.043878495887350835, 0.0, 0.0, 0.0, 0.0, 0....</td>\n",
       "      <td>False</td>\n",
       "    </tr>\n",
       "    <tr>\n",
       "      <th>4</th>\n",
       "      <td>190090</td>\n",
       "      <td>216300</td>\n",
       "      <td>3801800</td>\n",
       "      <td>4326000</td>\n",
       "      <td>[11.342407418537071, 21.848205777005244, 29.74...</td>\n",
       "      <td>32.49787</td>\n",
       "      <td>550.972064</td>\n",
       "      <td>True</td>\n",
       "      <td>/mnt/sphere/speech_bci/derived_data/s_b1253_21...</td>\n",
       "      <td>26210</td>\n",
       "      <td>[[190090, 190455], [191630, 192265], [192275, ...</td>\n",
       "      <td>92</td>\n",
       "      <td>[9, 20, 33, 46, 53, 63, 312, 330, 339, 346, 35...</td>\n",
       "      <td>379</td>\n",
       "      <td>69.155673</td>\n",
       "      <td>[-400, -392, -419, -429, -404, -386, -367, -36...</td>\n",
       "      <td>True</td>\n",
       "      <td>True</td>\n",
       "      <td>[[0.0, 0.0, 0.0, 0.0, 0.0, 0.0, 0.0, 0.0, 0.0,...</td>\n",
       "      <td>False</td>\n",
       "    </tr>\n",
       "  </tbody>\n",
       "</table>\n",
       "</div>"
      ],
      "text/plain": [
       "   start_ms  end_ms  start_sample  end_sample  \\\n",
       "0      6340   12610        126800      252200   \n",
       "1     15795   52345        315900     1046900   \n",
       "2     64885   94510       1297700     1890200   \n",
       "3    111180  146365       2223600     2927300   \n",
       "4    190090  216300       3801800     4326000   \n",
       "\n",
       "                                              p_step     rms_p      peak_p  \\\n",
       "0  [279.1424913127069, 237.28552677964962, 154.69...  32.49787  318.396805   \n",
       "1  [8.715509956604388, 15.467898681663929, 16.472...  32.49787  579.375792   \n",
       "2  [21.00765130413882, 49.58913937705543, 62.7825...  32.49787  569.916908   \n",
       "3  [14.034488055830133, 13.201362167647732, 19.38...  32.49787  659.472493   \n",
       "4  [11.342407418537071, 21.848205777005244, 29.74...  32.49787  550.972064   \n",
       "\n",
       "   bout_check                                               file  len_ms  \\\n",
       "0       False  /mnt/sphere/speech_bci/derived_data/s_b1253_21...    6270   \n",
       "1        True  /mnt/sphere/speech_bci/derived_data/s_b1253_21...   36550   \n",
       "2        True  /mnt/sphere/speech_bci/derived_data/s_b1253_21...   29625   \n",
       "3        True  /mnt/sphere/speech_bci/derived_data/s_b1253_21...   35185   \n",
       "4        True  /mnt/sphere/speech_bci/derived_data/s_b1253_21...   26210   \n",
       "\n",
       "                                              syl_in  n_syl  \\\n",
       "0  [[6340, 6385], [6560, 6605], [6695, 6740], [67...     14   \n",
       "1  [[15795, 15870], [16290, 16340], [16415, 16685...    116   \n",
       "2  [[64885, 65000], [65665, 66735], [67660, 67740...     93   \n",
       "3  [[111180, 111500], [112865, 113230], [114070, ...    109   \n",
       "4  [[190090, 190455], [191630, 192265], [192275, ...     92   \n",
       "\n",
       "                                             peaks_p  n_peaks   l_p_ratio  \\\n",
       "0  [13, 20, 35, 45, 59, 72, 85, 103, 121, 133, 14...       50  125.400000   \n",
       "1  [9, 100, 131, 142, 150, 157, 164, 175, 202, 21...      556   65.737410   \n",
       "2  [6, 14, 169, 176, 187, 196, 205, 212, 219, 228...      475   62.368421   \n",
       "3  [3, 12, 26, 38, 47, 55, 346, 357, 364, 371, 37...      544   64.678309   \n",
       "4  [9, 20, 33, 46, 53, 63, 312, 330, 339, 346, 35...      379   69.155673   \n",
       "\n",
       "                                            waveform  valid_waveform  valid  \\\n",
       "0  [-1847, -1860, -1872, -1873, -1852, -1881, -19...            True   True   \n",
       "1  [906, 885, 877, 872, 864, 848, 856, 834, 859, ...            True   True   \n",
       "2  [-2531, -2499, -2505, -2555, -2489, -2501, -24...            True   True   \n",
       "3  [665, 665, 674, 704, 703, 701, 698, 732, 703, ...            True   True   \n",
       "4  [-400, -392, -419, -429, -404, -386, -367, -36...            True   True   \n",
       "\n",
       "                                         spectrogram  confusing  \n",
       "0  [[0.18799011171509866, 0.0, 0.0, 0.0, 0.0, 0.0...      False  \n",
       "1  [[0.05077423732344499, 0.0, 0.0, 0.0, 0.0, 0.0...      False  \n",
       "2  [[0.23090914678582755, 0.0, 0.0, 0.0, 0.0, 0.0...      False  \n",
       "3  [[0.043878495887350835, 0.0, 0.0, 0.0, 0.0, 0....      False  \n",
       "4  [[0.0, 0.0, 0.0, 0.0, 0.0, 0.0, 0.0, 0.0, 0.0,...      False  "
      ]
     },
     "execution_count": 36,
     "metadata": {},
     "output_type": "execute_result"
    }
   ],
   "source": [
    "viz_bout.bouts_pd.head(5)"
   ]
  },
  {
   "cell_type": "code",
   "execution_count": null,
   "id": "dying-handy",
   "metadata": {},
   "outputs": [],
   "source": []
  },
  {
   "cell_type": "code",
   "execution_count": 27,
   "id": "neural-novelty",
   "metadata": {},
   "outputs": [
    {
     "data": {
      "text/plain": [
       "array(['/mnt/sphere/speech_bci/derived_data/s_b1253_21/2021-06-14/sglx/0712_g0/wav_mic.wav'],\n",
       "      dtype=object)"
      ]
     },
     "execution_count": 27,
     "metadata": {},
     "output_type": "execute_result"
    }
   ],
   "source": [
    "np.unique(viz_bout.bouts_pd['file'])"
   ]
  },
  {
   "cell_type": "code",
   "execution_count": null,
   "id": "applicable-disability",
   "metadata": {},
   "outputs": [],
   "source": []
  }
 ],
 "metadata": {
  "kernelspec": {
   "display_name": "otrepipe",
   "language": "python",
   "name": "otrepipe"
  },
  "language_info": {
   "codemirror_mode": {
    "name": "ipython",
    "version": 3
   },
   "file_extension": ".py",
   "mimetype": "text/x-python",
   "name": "python",
   "nbconvert_exporter": "python",
   "pygments_lexer": "ipython3",
   "version": "3.8.3"
  }
 },
 "nbformat": 4,
 "nbformat_minor": 5
}
