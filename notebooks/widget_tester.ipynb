{
 "cells": [
  {
   "cell_type": "code",
   "execution_count": 1,
   "id": "97108021-27ff-4af0-afb8-1da98cbf901a",
   "metadata": {},
   "outputs": [],
   "source": [
    "import ipywidgets as widgets"
   ]
  },
  {
   "cell_type": "code",
   "execution_count": 2,
   "id": "b49d3aa1-c70d-41e4-b1ec-a46a78e92ed9",
   "metadata": {},
   "outputs": [
    {
     "data": {
      "application/vnd.jupyter.widget-view+json": {
       "model_id": "e5a2f9ba8c82421ebebe2f56f8185f0c",
       "version_major": 2,
       "version_minor": 0
      },
      "text/plain": [
       "IntSlider(value=0)"
      ]
     },
     "metadata": {},
     "output_type": "display_data"
    }
   ],
   "source": [
    "widgets.IntSlider()"
   ]
  },
  {
   "cell_type": "code",
   "execution_count": 3,
   "id": "b3dfd416-d529-4a73-98cc-889424fe0e11",
   "metadata": {},
   "outputs": [
    {
     "data": {
      "application/vnd.jupyter.widget-view+json": {
       "model_id": "bcfe2644fe884f86aa33100d698dc8dc",
       "version_major": 2,
       "version_minor": 0
      },
      "text/plain": [
       "IntSlider(value=0)"
      ]
     },
     "metadata": {},
     "output_type": "display_data"
    }
   ],
   "source": [
    "from IPython.display import display\n",
    "w = widgets.IntSlider()\n",
    "display(w)"
   ]
  },
  {
   "cell_type": "code",
   "execution_count": 4,
   "id": "af3c3d2b-8846-4bb9-bfd3-f524878959be",
   "metadata": {},
   "outputs": [
    {
     "data": {
      "application/vnd.jupyter.widget-view+json": {
       "model_id": "4ac1fa33993b443d887ad9788c837691",
       "version_major": 2,
       "version_minor": 0
      },
      "text/plain": [
       "Text(value='Hello World!', disabled=True)"
      ]
     },
     "metadata": {},
     "output_type": "display_data"
    }
   ],
   "source": [
    "widgets.Text(value='Hello World!', disabled=True)"
   ]
  },
  {
   "cell_type": "code",
   "execution_count": 5,
   "id": "ff83d5bd-4d69-4661-af64-86127e9ae087",
   "metadata": {},
   "outputs": [],
   "source": [
    "import numpy as np\n",
    "from plotly.subplots import make_subplots\n",
    "\n",
    "import plotly.express as px\n",
    "import plotly.graph_objects as go\n",
    "\n",
    "from ipywidgets import widgets"
   ]
  },
  {
   "cell_type": "code",
   "execution_count": 6,
   "id": "deb47b1e-691d-45e6-9962-980fac96300a",
   "metadata": {},
   "outputs": [
    {
     "data": {
      "application/vnd.jupyter.widget-view+json": {
       "model_id": "8a06ab690b1b47b58176b58f5b0c96d7",
       "version_major": 2,
       "version_minor": 0
      },
      "text/plain": [
       "VBox(children=(FigureWidget({\n",
       "    'data': [{'type': 'scatter',\n",
       "              'uid': '328b9f7c-8bfd-4d62-9c9a-a…"
      ]
     },
     "metadata": {},
     "output_type": "display_data"
    }
   ],
   "source": [
    "\n",
    "sxx = np.random.rand(20, 30)\n",
    "x = np.random.rand(4000)\n",
    "\n",
    "# the trace\n",
    "tr_waveform = go.Scatter(y=x)\n",
    "figwidg_waveform = go.FigureWidget(data=[tr_waveform],\n",
    "                                  layout= {'height': 300,'width':1000})\n",
    "\n",
    "# the spectrogram\n",
    "fig_spectrogram = px.imshow(sxx, \n",
    "                                 labels={}, \n",
    "                                 color_continuous_scale='Inferno',\n",
    "                                aspect='auto')\n",
    "\n",
    "fig_spectrogram.update_layout(width=1000, height=300, coloraxis_showscale=False)\n",
    "fig_spectrogram.update_xaxes(showticklabels=False)\n",
    "fig_spectrogram.update_yaxes(showticklabels=False)\n",
    "\n",
    "\n",
    "figwidg_spectrogram = go.FigureWidget(fig_spectrogram)\n",
    "\n",
    "display(widgets.VBox([figwidg_waveform,\n",
    "          figwidg_spectrogram]))"
   ]
  },
  {
   "cell_type": "code",
   "execution_count": null,
   "id": "4763c682-91a0-4ef0-a50b-21bb52641ec7",
   "metadata": {},
   "outputs": [],
   "source": []
  },
  {
   "cell_type": "code",
   "execution_count": null,
   "id": "5385e942-9f08-48d9-bba8-47bb68394498",
   "metadata": {},
   "outputs": [],
   "source": []
  }
 ],
 "metadata": {
  "kernelspec": {
   "display_name": "ceciestunepipe",
   "language": "python",
   "name": "ceciestunepipe"
  },
  "language_info": {
   "codemirror_mode": {
    "name": "ipython",
    "version": 3
   },
   "file_extension": ".py",
   "mimetype": "text/x-python",
   "name": "python",
   "nbconvert_exporter": "python",
   "pygments_lexer": "ipython3",
   "version": "3.8.10"
  }
 },
 "nbformat": 4,
 "nbformat_minor": 5
}
