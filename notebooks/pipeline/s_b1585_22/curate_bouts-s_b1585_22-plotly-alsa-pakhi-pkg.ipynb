{
 "cells": [
  {
   "cell_type": "markdown",
   "id": "communist-sacrifice",
   "metadata": {},
   "source": [
    "## Searching for bouts for a day of alsa recording"
   ]
  },
  {
   "cell_type": "code",
   "execution_count": 1,
   "id": "applicable-destruction",
   "metadata": {},
   "outputs": [
    {
     "name": "stderr",
     "output_type": "stream",
     "text": [
      "2022-02-25 11:24:31,823 root         INFO     Running on pakhi\n"
     ]
    }
   ],
   "source": [
    "import os\n",
    "import glob\n",
    "import socket\n",
    "import logging\n",
    "import pickle\n",
    "import numpy as np\n",
    "import pandas as pd\n",
    "from scipy.io import wavfile\n",
    "from scipy import signal\n",
    "\n",
    "### Fuck matplotlib, I'm using poltly now\n",
    "from plotly.subplots import make_subplots\n",
    "import plotly.graph_objects as go\n",
    "\n",
    "from importlib import reload\n",
    "\n",
    "logger = logging.getLogger()\n",
    "handler = logging.StreamHandler()\n",
    "formatter = logging.Formatter(\n",
    "        '%(asctime)s %(name)-12s %(levelname)-8s %(message)s')\n",
    "handler.setFormatter(formatter)\n",
    "logger.addHandler(handler)\n",
    "logger.setLevel(logging.INFO)\n",
    "\n",
    "logger.info('Running on {}'.format(socket.gethostname()))"
   ]
  },
  {
   "cell_type": "code",
   "execution_count": 2,
   "id": "worse-trademark",
   "metadata": {},
   "outputs": [],
   "source": [
    "from ceciestunepipe.file import bcistructure as et\n",
    "from ceciestunepipe.util.sound import boutsearch as bs\n",
    "from ceciestunepipe.pipeline import searchbout as sb"
   ]
  },
  {
   "cell_type": "markdown",
   "id": "separate-japan",
   "metadata": {},
   "source": [
    "### Get the file locations for a session (day) of recordings"
   ]
  },
  {
   "cell_type": "code",
   "execution_count": 3,
   "id": "premier-enough",
   "metadata": {},
   "outputs": [],
   "source": [
    "reload(et)\n",
    "sess_par = {'bird': 's_b1238_22',\n",
    "           'sess': '2022-02-07'}\n",
    "\n",
    "\n",
    "exp_struct = et.get_exp_struct(sess_par['bird'], sess_par['sess'], ephys_software='alsa')\n",
    "\n",
    "raw_folder = exp_struct['folders']['alsa']\n",
    "bouts_folder = os.path.join(exp_struct['folders']['derived'], 'bouts_ceciestunepipe')"
   ]
  },
  {
   "cell_type": "code",
   "execution_count": 4,
   "id": "conscious-symposium",
   "metadata": {},
   "outputs": [
    {
     "data": {
      "text/plain": [
       "{'bird': '/mnt/sphere/speech_bci/raw_data/s_b1238_22',\n",
       " 'raw': '/mnt/sphere/speech_bci/raw_data/s_b1238_22/2022-02-07',\n",
       " 'alsa': '/mnt/sphere/speech_bci/raw_data/s_b1238_22/2022-02-07/alsa',\n",
       " 'kwik': '/scratch/earneodo/s_b1238_22/alsa/kwik/2022-02-07',\n",
       " 'processed': '/mnt/sphere/speech_bci/processed_data/s_b1238_22/2022-02-07/alsa',\n",
       " 'derived': '/mnt/sphere/speech_bci/derived_data/s_b1238_22/2022-02-07/alsa',\n",
       " 'tmp': '/scratch/earneodo/tmp',\n",
       " 'msort': '/scratch/earneodo/s_b1238_22/alsa/msort/2022-02-07',\n",
       " 'ksort': '/scratch/earneodo/s_b1238_22/alsa/ksort/2022-02-07/',\n",
       " 'sort': '/mnt/sphere/speech_bci/derived_data/s_b1238_22/2022-02-07/alsa/'}"
      ]
     },
     "execution_count": 4,
     "metadata": {},
     "output_type": "execute_result"
    }
   ],
   "source": [
    "exp_struct['folders']"
   ]
  },
  {
   "cell_type": "markdown",
   "id": "further-miracle",
   "metadata": {},
   "source": [
    "### read a session's bouts pandas\n",
    "- get the location of the file\n",
    "- load the pandas pickle\n",
    "- load the search/spectrogram parameters"
   ]
  },
  {
   "cell_type": "code",
   "execution_count": 11,
   "id": "nasty-iraqi",
   "metadata": {},
   "outputs": [
    {
     "name": "stderr",
     "output_type": "stream",
     "text": [
      "2022-02-25 11:30:09,712 ceciestunepipe.pipeline.searchbout INFO     No spectrograms in here, will compute...\n"
     ]
    }
   ],
   "source": [
    "reload(sb)\n",
    "hparams, bpd = sb.read_session_bouts(sess_par['bird'], sess_par['sess'], recording_software='alsa', curated=False)"
   ]
  },
  {
   "cell_type": "code",
   "execution_count": 12,
   "id": "prescribed-diameter",
   "metadata": {
    "scrolled": true,
    "tags": []
   },
   "outputs": [
    {
     "data": {
      "text/html": [
       "<div>\n",
       "<style scoped>\n",
       "    .dataframe tbody tr th:only-of-type {\n",
       "        vertical-align: middle;\n",
       "    }\n",
       "\n",
       "    .dataframe tbody tr th {\n",
       "        vertical-align: top;\n",
       "    }\n",
       "\n",
       "    .dataframe thead th {\n",
       "        text-align: right;\n",
       "    }\n",
       "</style>\n",
       "<table border=\"1\" class=\"dataframe\">\n",
       "  <thead>\n",
       "    <tr style=\"text-align: right;\">\n",
       "      <th></th>\n",
       "      <th>start_ms</th>\n",
       "      <th>end_ms</th>\n",
       "      <th>start_sample</th>\n",
       "      <th>end_sample</th>\n",
       "      <th>p_step</th>\n",
       "      <th>rms_p</th>\n",
       "      <th>peak_p</th>\n",
       "      <th>bout_check</th>\n",
       "      <th>file</th>\n",
       "      <th>len_ms</th>\n",
       "      <th>syl_in</th>\n",
       "      <th>n_syl</th>\n",
       "      <th>peaks_p</th>\n",
       "      <th>n_peaks</th>\n",
       "      <th>l_p_ratio</th>\n",
       "      <th>waveform</th>\n",
       "      <th>valid_waveform</th>\n",
       "      <th>valid</th>\n",
       "      <th>spectrogram</th>\n",
       "      <th>confusing</th>\n",
       "    </tr>\n",
       "  </thead>\n",
       "  <tbody>\n",
       "    <tr>\n",
       "      <th>0</th>\n",
       "      <td>170010</td>\n",
       "      <td>177070</td>\n",
       "      <td>8160480</td>\n",
       "      <td>8499360</td>\n",
       "      <td>[3.1099215238058577, 27.148119136857115, 15.81...</td>\n",
       "      <td>4.099033</td>\n",
       "      <td>108.123583</td>\n",
       "      <td>True</td>\n",
       "      <td>/mnt/sphere/speech_bci/raw_data/s_b1238_22/202...</td>\n",
       "      <td>7060</td>\n",
       "      <td>[[170010, 170050], [170255, 170320], [170840, ...</td>\n",
       "      <td>12</td>\n",
       "      <td>[1, 11, 50, 61, 167, 263, 299, 316, 326, 585, ...</td>\n",
       "      <td>26</td>\n",
       "      <td>271.538462</td>\n",
       "      <td>[37, 25, 27, 29, 25, 35, 45, 41, 39, 44, 25, 3...</td>\n",
       "      <td>True</td>\n",
       "      <td>True</td>\n",
       "      <td>[[0.0, 0.0, 0.0, 0.0, 0.0, 0.0, 0.0, 0.0, 0.0,...</td>\n",
       "      <td>True</td>\n",
       "    </tr>\n",
       "  </tbody>\n",
       "</table>\n",
       "</div>"
      ],
      "text/plain": [
       "   start_ms  end_ms  start_sample  end_sample  \\\n",
       "0    170010  177070       8160480     8499360   \n",
       "\n",
       "                                              p_step     rms_p      peak_p  \\\n",
       "0  [3.1099215238058577, 27.148119136857115, 15.81...  4.099033  108.123583   \n",
       "\n",
       "   bout_check                                               file  len_ms  \\\n",
       "0        True  /mnt/sphere/speech_bci/raw_data/s_b1238_22/202...    7060   \n",
       "\n",
       "                                              syl_in  n_syl  \\\n",
       "0  [[170010, 170050], [170255, 170320], [170840, ...     12   \n",
       "\n",
       "                                             peaks_p  n_peaks   l_p_ratio  \\\n",
       "0  [1, 11, 50, 61, 167, 263, 299, 316, 326, 585, ...       26  271.538462   \n",
       "\n",
       "                                            waveform  valid_waveform  valid  \\\n",
       "0  [37, 25, 27, 29, 25, 35, 45, 41, 39, 44, 25, 3...            True   True   \n",
       "\n",
       "                                         spectrogram  confusing  \n",
       "0  [[0.0, 0.0, 0.0, 0.0, 0.0, 0.0, 0.0, 0.0, 0.0,...       True  "
      ]
     },
     "execution_count": 12,
     "metadata": {},
     "output_type": "execute_result"
    }
   ],
   "source": [
    "bpd.head(1)"
   ]
  },
  {
   "cell_type": "markdown",
   "id": "delayed-boundary",
   "metadata": {},
   "source": [
    "###### if it wasnt saved (which is a bad mistake), read the sampling rate from the first file in the session"
   ]
  },
  {
   "cell_type": "markdown",
   "id": "given-campbell",
   "metadata": {},
   "source": [
    "## inspect the bouts and curate them"
   ]
  },
  {
   "cell_type": "markdown",
   "id": "skilled-hampton",
   "metadata": {},
   "source": [
    "#### visualize one bout"
   ]
  },
  {
   "cell_type": "code",
   "execution_count": 15,
   "id": "computational-sewing",
   "metadata": {},
   "outputs": [],
   "source": [
    "import plotly.express as px\n",
    "import plotly.graph_objects as go\n",
    "\n",
    "from ipywidgets import widgets"
   ]
  },
  {
   "cell_type": "code",
   "execution_count": 16,
   "id": "average-keeping",
   "metadata": {},
   "outputs": [],
   "source": [
    "def viz_one_bout(df: pd.Series, sub_sample=1):\n",
    "    # get the power and the spectrogram\n",
    "    sxx = df['spectrogram'][:, ::sub_sample]\n",
    "    x = df['waveform'][::sub_sample]\n",
    "    \n",
    "    # the trace\n",
    "    tr_waveform = go.Scatter(y=x)\n",
    "    figwidg_waveform = go.FigureWidget(data=[tr_waveform],\n",
    "                                      layout= {'height': 300,'width':1000})\n",
    "\n",
    "    # the spectrogram\n",
    "    fig_spectrogram = px.imshow(sxx, \n",
    "                                     labels={}, \n",
    "                                     color_continuous_scale='Inferno',\n",
    "                                    aspect='auto')\n",
    "\n",
    "    fig_spectrogram.update_layout(width=1000, height=300, coloraxis_showscale=False)\n",
    "    fig_spectrogram.update_xaxes(showticklabels=False)\n",
    "    fig_spectrogram.update_yaxes(showticklabels=False)\n",
    "    \n",
    "    \n",
    "    figwidg_spectrogram = go.FigureWidget(fig_spectrogram)\n",
    "    \n",
    "    display(widgets.VBox([figwidg_waveform,\n",
    "              figwidg_spectrogram]))\n",
    "    \n",
    "\n",
    "#viz_one_bout(bpd.iloc[1])"
   ]
  },
  {
   "cell_type": "markdown",
   "id": "generous-cruise",
   "metadata": {},
   "source": [
    "## use it in a widget\n"
   ]
  },
  {
   "cell_type": "code",
   "execution_count": 17,
   "id": "employed-insulin",
   "metadata": {},
   "outputs": [],
   "source": [
    "### Create a counter object (count goes 1:1 to DataFrame index)\n",
    "from traitlets import CInt, link\n",
    "\n",
    "class Counter(widgets.DOMWidget):\n",
    "    value = CInt(0)\n",
    "    value.tag(sync=True)"
   ]
  },
  {
   "cell_type": "code",
   "execution_count": 18,
   "id": "suspended-identity",
   "metadata": {},
   "outputs": [
    {
     "data": {
      "application/vnd.jupyter.widget-view+json": {
       "model_id": "4d7a5223f8e2464ab06e562b93b7a318",
       "version_major": 2,
       "version_minor": 0
      },
      "text/plain": [
       "VBox(children=(HBox(children=(HBox(children=(VBox(children=(Button(button_style='warning', description='Prev',…"
      ]
     },
     "metadata": {},
     "output_type": "display_data"
    }
   ],
   "source": [
    "class VizBout():\n",
    "    def __init__(self, hparams, bouts_pd):\n",
    "        self.bout = None\n",
    "        self.bouts_pd = bouts_pd\n",
    "        self.bout_series = None\n",
    "        self.is_bout = None\n",
    "        self.is_confusing = None\n",
    "        \n",
    "        self.bout_counter = None\n",
    "        self.bout_id = None\n",
    "        \n",
    "        self.buttons = {}\n",
    "        self.m_pick = None\n",
    "        \n",
    "        \n",
    "        self.fig_waveform = None\n",
    "        self.fig_spectrogram = None\n",
    "        \n",
    "        self.figwidg_waveform = None\n",
    "        self.figwidg_spectrogram = None\n",
    "        \n",
    "        self.fig_width = 2\n",
    "        self.sub_sample = 10\n",
    "        \n",
    "        self.x = None\n",
    "        self.sxx = None\n",
    "        self.tr_waveform = None\n",
    "        \n",
    "        self.s_f = hparams['sample_rate']\n",
    "        \n",
    "        self.init_fig()\n",
    "        self.init_widget()\n",
    "        self.show()\n",
    "        \n",
    "    def init_fig(self):\n",
    "        # the trace\n",
    "        self.tr_waveform = go.Scatter(y=np.zeros(500))\n",
    "        self.figwidg_waveform = go.FigureWidget(data=[self.tr_waveform],\n",
    "                                               layout={'width': 1000, 'height':300})\n",
    "        \n",
    "        # the spectrogram\n",
    "        self.fig_spectrogram = px.imshow(np.random.rand(500, 500), \n",
    "                                         labels={}, \n",
    "                                         color_continuous_scale='Inferno',\n",
    "                                        aspect='auto')\n",
    "        \n",
    "        self.fig_spectrogram.update_layout(width=1000, height=300, coloraxis_showscale=False)\n",
    "        self.fig_spectrogram.update_xaxes(showticklabels=False)\n",
    "        self.fig_spectrogram.update_yaxes(showticklabels=False)\n",
    "        self.figwidg_spectrogram = go.FigureWidget(self.fig_spectrogram)\n",
    "        \n",
    "        \n",
    "    def init_widget(self):\n",
    "        # declare elements\n",
    "        # lay them out\n",
    "        #\n",
    "        \n",
    "        self.bout_counter = Counter()\n",
    "        self.is_bout = widgets.Checkbox(description='is bout')\n",
    "        self.is_confusing = widgets.Checkbox(description='Not sure or mixed')\n",
    "        \n",
    "        self.buttons['Next'] = widgets.Button(description=\"Next\", button_style='info',\n",
    "                                              icon='plus')   \n",
    "        self.buttons['Prev'] = widgets.Button(description=\"Prev\", button_style='warning',\n",
    "                                              icon='minus')\n",
    "        self.buttons['Check'] = widgets.Button(description=\"Check\", button_style='success', \n",
    "                                               icon='check')\n",
    "        self.buttons['Uncheck'] = widgets.Button(description=\"Uncheck\", button_style='danger',\n",
    "                                                 icon='wrong')\n",
    "        \n",
    "        [b.on_click(self.button_click) for b in self.buttons.values()]\n",
    "        \n",
    "        left_box = widgets.VBox([self.buttons['Prev'], self.buttons['Uncheck']])\n",
    "        right_box = widgets.VBox([self.buttons['Next'], self.buttons['Check']])\n",
    "        button_box = widgets.HBox([left_box, right_box])\n",
    "\n",
    "        self.m_pick = widgets.IntSlider(value=0, min=0, max=self.bouts_pd.index.size-1,step=1, \n",
    "                                        description=\"Bout candidate index\")\n",
    "        \n",
    "        \n",
    "        control_box = widgets.HBox([button_box,\n",
    "                                  widgets.VBox([self.is_bout, self.is_confusing]),\n",
    "                                    self.m_pick])\n",
    "        \n",
    "        link((self.m_pick, 'value'), (self.bout_counter, 'value'))\n",
    "\n",
    "        self.update_bout()\n",
    "        \n",
    "        self.is_bout.observe(self.bout_checked, names='value')\n",
    "        self.is_confusing.observe(self.confusing_checked, names='value')\n",
    "        self.m_pick.observe(self.slider_change, names='value')\n",
    "        \n",
    "        all_containers = widgets.VBox([control_box, \n",
    "                                       self.figwidg_waveform, self.figwidg_spectrogram])\n",
    "        display(all_containers)\n",
    "#         display(button_box)\n",
    "#         display(self.m_pick)\n",
    "#         display(self.is_bout)\n",
    "#         display(self.fig)\n",
    "        \n",
    "    def button_click(self, button):        \n",
    "        self.bout_id = self.bout_counter.value\n",
    "        curr_bout = self.bout_counter\n",
    "        \n",
    "        if button.description == 'Next':\n",
    "            curr_bout.value += 1\n",
    "        elif button.description == 'Prev':\n",
    "            curr_bout.value -= 1\n",
    "        elif button.description == 'Check':\n",
    "            self.bouts_pd.loc[self.bout_id, 'bout_check'] = True\n",
    "            self.bouts_pd.loc[self.bout_id, 'confusing'] = False\n",
    "            curr_bout.value += 1\n",
    "        elif button.description == 'Uncheck':\n",
    "            self.bouts_pd.loc[self.bout_id, 'bout_check'] = False\n",
    "            self.bouts_pd.loc[self.bout_id, 'confusing'] = False\n",
    "            curr_bout.value += 1\n",
    "        \n",
    "        # handle the edges of the counter\n",
    "        if curr_bout.value > self.m_pick.max:\n",
    "            curr_bout.value = 0\n",
    "            \n",
    "        if curr_bout.value < self.m_pick.min:\n",
    "            curr_bout.value = self.m_pick.max\n",
    "    \n",
    "    def slider_change(self, change):\n",
    "        #logger.info('slider changed')\n",
    "        #self.bout_counter = change.new\n",
    "        #clear_output(True)\n",
    "        self.update_bout()\n",
    "        self.show()\n",
    "            \n",
    "    def bout_checked(self, bc):\n",
    "#         print \"bout checked\"\n",
    "#         print bc['new']\n",
    "#         print self.motiff\n",
    "        self.bouts_pd.loc[self.bout_id, 'bout_check'] = bc['new']\n",
    "    \n",
    "    def confusing_checked(self, bc):\n",
    "#         print \"bout checked\"\n",
    "#         print bc['new']\n",
    "#         print self.motiff\n",
    "        self.bouts_pd.loc[self.bout_id, 'confusing'] = bc['new']\n",
    "    \n",
    "    def update_bout(self):\n",
    "        self.bout_id = self.bout_counter.value\n",
    "        self.bout_series = self.bouts_pd.iloc[self.bout_id]\n",
    "        \n",
    "        self.is_bout.value = bool(self.bout_series['bout_check'])\n",
    "        self.is_confusing.value = bool(self.bout_series['confusing'])\n",
    "        \n",
    "        self.x = self.bout_series['waveform'][::self.sub_sample]\n",
    "        self.sxx = self.bout_series['spectrogram'][::self.sub_sample]\n",
    "        \n",
    "    def show(self):\n",
    "        #self.fig.clf()\n",
    "        #self.init_fig()\n",
    "        # update\n",
    "#         self.update_bout()\n",
    "        #plot\n",
    "        #logger.info('showing')\n",
    "        \n",
    "        # Show the figures\n",
    "        with self.figwidg_waveform.batch_update():\n",
    "            self.figwidg_waveform.data[0].y = self.x\n",
    "            self.figwidg_waveform.data[0].x = np.arange(self.x.size) * self.sub_sample / self.s_f \n",
    "            \n",
    "        with self.figwidg_spectrogram.batch_update():\n",
    "            self.figwidg_spectrogram.data[0].z = np.sqrt(self.sxx[::-1])\n",
    "            \n",
    "        \n",
    "\n",
    "viz_bout = VizBout(hparams, bpd)"
   ]
  },
  {
   "cell_type": "code",
   "execution_count": 22,
   "id": "living-armor",
   "metadata": {},
   "outputs": [
    {
     "data": {
      "text/plain": [
       "54"
      ]
     },
     "execution_count": 22,
     "metadata": {},
     "output_type": "execute_result"
    }
   ],
   "source": [
    "np.where(viz_bout.bouts_pd['bout_check']==True)[0].size"
   ]
  },
  {
   "cell_type": "markdown",
   "id": "mature-germany",
   "metadata": {},
   "source": [
    "### save it"
   ]
  },
  {
   "cell_type": "code",
   "execution_count": 23,
   "id": "explicit-friend",
   "metadata": {},
   "outputs": [
    {
     "name": "stderr",
     "output_type": "stream",
     "text": [
      "2022-02-08 11:55:44,428 root         INFO     saved curated bout pandas to pickle /mnt/sphere/speech_bci/derived_data/s_b1238_22/2022-02-07/alsa/bouts_ceciestunepipe/bout_checked.pickle\n"
     ]
    }
   ],
   "source": [
    "### get the curated file path\n",
    "##save to the curated file path\n",
    "bouts_curated_file_path = os.path.join(bouts_folder, hparams['bout_curated_file'])\n",
    "\n",
    "os.makedirs(bouts_folder, exist_ok=True, mode=0o777)\n",
    "\n",
    "viz_bout.bouts_pd.to_pickle(bouts_curated_file_path)\n",
    "logger.info('saved curated bout pandas to pickle {}'.format(bouts_curated_file_path))"
   ]
  },
  {
   "cell_type": "code",
   "execution_count": 38,
   "id": "spanish-thriller",
   "metadata": {},
   "outputs": [
    {
     "data": {
      "text/plain": [
       "'/mnt/sphere/speech_bci/raw_data/s_b1238_22/2022-02-06/alsa/07-00-01-01.wav'"
      ]
     },
     "execution_count": 38,
     "metadata": {},
     "output_type": "execute_result"
    }
   ],
   "source": [
    "viz_bout.bouts_pd['file'][0]"
   ]
  },
  {
   "cell_type": "code",
   "execution_count": 24,
   "id": "surgical-frost",
   "metadata": {
    "collapsed": true,
    "jupyter": {
     "outputs_hidden": true
    },
    "tags": []
   },
   "outputs": [
    {
     "data": {
      "text/plain": [
       "array(['/mnt/sphere/speech_bci/raw_data/s_b1238_22/2022-02-07/alsa/09-00-01-01.wav',\n",
       "       '/mnt/sphere/speech_bci/raw_data/s_b1238_22/2022-02-07/alsa/09-00-01-02.wav',\n",
       "       '/mnt/sphere/speech_bci/raw_data/s_b1238_22/2022-02-07/alsa/11-00-01-01.wav',\n",
       "       '/mnt/sphere/speech_bci/raw_data/s_b1238_22/2022-02-07/alsa/11-00-01-01.wav',\n",
       "       '/mnt/sphere/speech_bci/raw_data/s_b1238_22/2022-02-07/alsa/11-00-01-01.wav',\n",
       "       '/mnt/sphere/speech_bci/raw_data/s_b1238_22/2022-02-07/alsa/11-00-01-01.wav',\n",
       "       '/mnt/sphere/speech_bci/raw_data/s_b1238_22/2022-02-07/alsa/11-00-01-01.wav',\n",
       "       '/mnt/sphere/speech_bci/raw_data/s_b1238_22/2022-02-07/alsa/11-00-01-01.wav',\n",
       "       '/mnt/sphere/speech_bci/raw_data/s_b1238_22/2022-02-07/alsa/11-00-01-01.wav',\n",
       "       '/mnt/sphere/speech_bci/raw_data/s_b1238_22/2022-02-07/alsa/11-00-01-01.wav',\n",
       "       '/mnt/sphere/speech_bci/raw_data/s_b1238_22/2022-02-07/alsa/11-00-01-01.wav',\n",
       "       '/mnt/sphere/speech_bci/raw_data/s_b1238_22/2022-02-07/alsa/11-00-01-01.wav',\n",
       "       '/mnt/sphere/speech_bci/raw_data/s_b1238_22/2022-02-07/alsa/11-00-01-01.wav',\n",
       "       '/mnt/sphere/speech_bci/raw_data/s_b1238_22/2022-02-07/alsa/11-00-01-01.wav',\n",
       "       '/mnt/sphere/speech_bci/raw_data/s_b1238_22/2022-02-07/alsa/11-00-01-01.wav',\n",
       "       '/mnt/sphere/speech_bci/raw_data/s_b1238_22/2022-02-07/alsa/11-00-01-01.wav',\n",
       "       '/mnt/sphere/speech_bci/raw_data/s_b1238_22/2022-02-07/alsa/11-00-01-01.wav',\n",
       "       '/mnt/sphere/speech_bci/raw_data/s_b1238_22/2022-02-07/alsa/11-00-01-01.wav',\n",
       "       '/mnt/sphere/speech_bci/raw_data/s_b1238_22/2022-02-07/alsa/11-00-01-01.wav',\n",
       "       '/mnt/sphere/speech_bci/raw_data/s_b1238_22/2022-02-07/alsa/11-00-01-02.wav',\n",
       "       '/mnt/sphere/speech_bci/raw_data/s_b1238_22/2022-02-07/alsa/11-00-01-02.wav',\n",
       "       '/mnt/sphere/speech_bci/raw_data/s_b1238_22/2022-02-07/alsa/11-00-01-02.wav',\n",
       "       '/mnt/sphere/speech_bci/raw_data/s_b1238_22/2022-02-07/alsa/11-00-01-02.wav',\n",
       "       '/mnt/sphere/speech_bci/raw_data/s_b1238_22/2022-02-07/alsa/11-00-01-02.wav',\n",
       "       '/mnt/sphere/speech_bci/raw_data/s_b1238_22/2022-02-07/alsa/11-00-01-02.wav',\n",
       "       '/mnt/sphere/speech_bci/raw_data/s_b1238_22/2022-02-07/alsa/11-00-01-02.wav',\n",
       "       '/mnt/sphere/speech_bci/raw_data/s_b1238_22/2022-02-07/alsa/11-00-01-02.wav',\n",
       "       '/mnt/sphere/speech_bci/raw_data/s_b1238_22/2022-02-07/alsa/12-00-01-01.wav',\n",
       "       '/mnt/sphere/speech_bci/raw_data/s_b1238_22/2022-02-07/alsa/12-00-01-01.wav',\n",
       "       '/mnt/sphere/speech_bci/raw_data/s_b1238_22/2022-02-07/alsa/12-00-01-01.wav',\n",
       "       '/mnt/sphere/speech_bci/raw_data/s_b1238_22/2022-02-07/alsa/12-00-01-01.wav',\n",
       "       '/mnt/sphere/speech_bci/raw_data/s_b1238_22/2022-02-07/alsa/12-00-01-01.wav',\n",
       "       '/mnt/sphere/speech_bci/raw_data/s_b1238_22/2022-02-07/alsa/12-00-01-01.wav',\n",
       "       '/mnt/sphere/speech_bci/raw_data/s_b1238_22/2022-02-07/alsa/12-00-01-02.wav',\n",
       "       '/mnt/sphere/speech_bci/raw_data/s_b1238_22/2022-02-07/alsa/12-00-01-02.wav',\n",
       "       '/mnt/sphere/speech_bci/raw_data/s_b1238_22/2022-02-07/alsa/12-00-01-02.wav',\n",
       "       '/mnt/sphere/speech_bci/raw_data/s_b1238_22/2022-02-07/alsa/12-00-01-02.wav',\n",
       "       '/mnt/sphere/speech_bci/raw_data/s_b1238_22/2022-02-07/alsa/12-00-01-02.wav',\n",
       "       '/mnt/sphere/speech_bci/raw_data/s_b1238_22/2022-02-07/alsa/12-00-01-02.wav',\n",
       "       '/mnt/sphere/speech_bci/raw_data/s_b1238_22/2022-02-07/alsa/12-00-01-02.wav',\n",
       "       '/mnt/sphere/speech_bci/raw_data/s_b1238_22/2022-02-07/alsa/12-00-01-02.wav',\n",
       "       '/mnt/sphere/speech_bci/raw_data/s_b1238_22/2022-02-07/alsa/12-00-01-02.wav',\n",
       "       '/mnt/sphere/speech_bci/raw_data/s_b1238_22/2022-02-07/alsa/13-00-01-01.wav',\n",
       "       '/mnt/sphere/speech_bci/raw_data/s_b1238_22/2022-02-07/alsa/13-00-01-01.wav',\n",
       "       '/mnt/sphere/speech_bci/raw_data/s_b1238_22/2022-02-07/alsa/13-00-01-01.wav',\n",
       "       '/mnt/sphere/speech_bci/raw_data/s_b1238_22/2022-02-07/alsa/13-00-01-02.wav',\n",
       "       '/mnt/sphere/speech_bci/raw_data/s_b1238_22/2022-02-07/alsa/13-00-01-02.wav',\n",
       "       '/mnt/sphere/speech_bci/raw_data/s_b1238_22/2022-02-07/alsa/13-00-01-02.wav',\n",
       "       '/mnt/sphere/speech_bci/raw_data/s_b1238_22/2022-02-07/alsa/13-00-01-02.wav',\n",
       "       '/mnt/sphere/speech_bci/raw_data/s_b1238_22/2022-02-07/alsa/14-00-01-01.wav',\n",
       "       '/mnt/sphere/speech_bci/raw_data/s_b1238_22/2022-02-07/alsa/14-00-01-02.wav',\n",
       "       '/mnt/sphere/speech_bci/raw_data/s_b1238_22/2022-02-07/alsa/14-00-01-02.wav',\n",
       "       '/mnt/sphere/speech_bci/raw_data/s_b1238_22/2022-02-07/alsa/16-00-01-01.wav',\n",
       "       '/mnt/sphere/speech_bci/raw_data/s_b1238_22/2022-02-07/alsa/16-00-01-01.wav'],\n",
       "      dtype=object)"
      ]
     },
     "execution_count": 24,
     "metadata": {},
     "output_type": "execute_result"
    }
   ],
   "source": [
    "viz_bout.bouts_pd[viz_bout.bouts_pd['bout_check']==True]['file'].values"
   ]
  },
  {
   "cell_type": "code",
   "execution_count": 87,
   "id": "specific-masters",
   "metadata": {
    "collapsed": true,
    "jupyter": {
     "outputs_hidden": true
    },
    "tags": []
   },
   "outputs": [
    {
     "data": {
      "text/html": [
       "<div>\n",
       "<style scoped>\n",
       "    .dataframe tbody tr th:only-of-type {\n",
       "        vertical-align: middle;\n",
       "    }\n",
       "\n",
       "    .dataframe tbody tr th {\n",
       "        vertical-align: top;\n",
       "    }\n",
       "\n",
       "    .dataframe thead th {\n",
       "        text-align: right;\n",
       "    }\n",
       "</style>\n",
       "<table border=\"1\" class=\"dataframe\">\n",
       "  <thead>\n",
       "    <tr style=\"text-align: right;\">\n",
       "      <th></th>\n",
       "      <th>start_ms</th>\n",
       "      <th>end_ms</th>\n",
       "      <th>start_sample</th>\n",
       "      <th>end_sample</th>\n",
       "      <th>p_step</th>\n",
       "      <th>rms_p</th>\n",
       "      <th>peak_p</th>\n",
       "      <th>bout_check</th>\n",
       "      <th>file</th>\n",
       "      <th>len_ms</th>\n",
       "      <th>syl_in</th>\n",
       "      <th>n_syl</th>\n",
       "      <th>peaks_p</th>\n",
       "      <th>n_peaks</th>\n",
       "      <th>l_p_ratio</th>\n",
       "      <th>waveform</th>\n",
       "      <th>valid_waveform</th>\n",
       "      <th>valid</th>\n",
       "      <th>spectrogram</th>\n",
       "      <th>confusing</th>\n",
       "    </tr>\n",
       "  </thead>\n",
       "  <tbody>\n",
       "    <tr>\n",
       "      <th>0</th>\n",
       "      <td>1772690</td>\n",
       "      <td>1781715</td>\n",
       "      <td>85089120</td>\n",
       "      <td>85522320</td>\n",
       "      <td>[0.8992322534584924, 9.897367501899893, 9.4748...</td>\n",
       "      <td>2.359551</td>\n",
       "      <td>182.680045</td>\n",
       "      <td>False</td>\n",
       "      <td>/mnt/sphere/speech_bci/raw_data/s_b1238_22/202...</td>\n",
       "      <td>9025</td>\n",
       "      <td>[[1772690, 1772740], [1772845, 1772910], [1773...</td>\n",
       "      <td>18</td>\n",
       "      <td>[1, 9, 33, 42, 61, 102, 121, 239, 247, 254, 34...</td>\n",
       "      <td>54</td>\n",
       "      <td>167.129630</td>\n",
       "      <td>[6, 5, 5, 5, 4, 5, 5, 5, 5, 5, 5, 6, 5, 4, 3, ...</td>\n",
       "      <td>True</td>\n",
       "      <td>True</td>\n",
       "      <td>[[0.0, 0.0, 0.0, 0.0, 0.0, 0.0, 0.0, 0.0, 0.0,...</td>\n",
       "      <td>False</td>\n",
       "    </tr>\n",
       "    <tr>\n",
       "      <th>1</th>\n",
       "      <td>1793070</td>\n",
       "      <td>1799925</td>\n",
       "      <td>86067360</td>\n",
       "      <td>86396400</td>\n",
       "      <td>[6.184213799374133, 5.3566748510823565, 13.362...</td>\n",
       "      <td>2.359551</td>\n",
       "      <td>267.096691</td>\n",
       "      <td>False</td>\n",
       "      <td>/mnt/sphere/speech_bci/raw_data/s_b1238_22/202...</td>\n",
       "      <td>6855</td>\n",
       "      <td>[[1793070, 1793125], [1793165, 1793350], [1793...</td>\n",
       "      <td>20</td>\n",
       "      <td>[5, 14, 22, 31, 38, 52, 61, 68, 79, 105, 135, ...</td>\n",
       "      <td>58</td>\n",
       "      <td>118.189655</td>\n",
       "      <td>[12, 11, 11, 12, 12, 12, 12, 11, 10, 8, 8, 9, ...</td>\n",
       "      <td>True</td>\n",
       "      <td>True</td>\n",
       "      <td>[[0.0, 0.0, 0.0, 0.0, 0.0, 0.0, 0.0, 0.0, 0.0,...</td>\n",
       "      <td>False</td>\n",
       "    </tr>\n",
       "    <tr>\n",
       "      <th>2</th>\n",
       "      <td>3005</td>\n",
       "      <td>10460</td>\n",
       "      <td>144240</td>\n",
       "      <td>502080</td>\n",
       "      <td>[0.887261381666812, 1.3398271004562607, 4.4853...</td>\n",
       "      <td>1.675094</td>\n",
       "      <td>120.070598</td>\n",
       "      <td>False</td>\n",
       "      <td>/mnt/sphere/speech_bci/raw_data/s_b1238_22/202...</td>\n",
       "      <td>7455</td>\n",
       "      <td>[[3005, 3045], [4665, 4765], [5290, 5330], [53...</td>\n",
       "      <td>15</td>\n",
       "      <td>[3, 334, 343, 355, 371, 396, 407, 458, 478, 49...</td>\n",
       "      <td>59</td>\n",
       "      <td>126.355932</td>\n",
       "      <td>[-3, -2, -3, -2, -6, -9, -8, -10, -12, -14, -1...</td>\n",
       "      <td>True</td>\n",
       "      <td>True</td>\n",
       "      <td>[[0.0, 0.0, 0.0, 0.0, 0.0, 0.0, 0.0, 0.0, 0.0,...</td>\n",
       "      <td>False</td>\n",
       "    </tr>\n",
       "    <tr>\n",
       "      <th>3</th>\n",
       "      <td>144815</td>\n",
       "      <td>157165</td>\n",
       "      <td>6951120</td>\n",
       "      <td>7543920</td>\n",
       "      <td>[0.41380735035998034, 0.5234897127529178, 0.58...</td>\n",
       "      <td>1.098511</td>\n",
       "      <td>5.122523</td>\n",
       "      <td>False</td>\n",
       "      <td>/mnt/sphere/speech_bci/raw_data/s_b1238_22/202...</td>\n",
       "      <td>12350</td>\n",
       "      <td>[[144815, 145765], [146815, 147765], [148815, ...</td>\n",
       "      <td>11</td>\n",
       "      <td>[3, 12, 33, 40, 47, 54, 61, 72, 82, 89, 100, 1...</td>\n",
       "      <td>94</td>\n",
       "      <td>131.382979</td>\n",
       "      <td>[11, 10, 10, 7, 6, 5, 3, 2, 2, 3, 2, 3, 4, 3, ...</td>\n",
       "      <td>True</td>\n",
       "      <td>True</td>\n",
       "      <td>[[0.0, 0.0, 0.0, 0.0, 0.0, 0.0, 0.0, 0.0, 0.0,...</td>\n",
       "      <td>False</td>\n",
       "    </tr>\n",
       "    <tr>\n",
       "      <th>4</th>\n",
       "      <td>1647115</td>\n",
       "      <td>1656980</td>\n",
       "      <td>79061520</td>\n",
       "      <td>79535040</td>\n",
       "      <td>[1.1034896530762963, 1.261074910541601, 1.2935...</td>\n",
       "      <td>1.641276</td>\n",
       "      <td>124.312637</td>\n",
       "      <td>False</td>\n",
       "      <td>/mnt/sphere/speech_bci/raw_data/s_b1238_22/202...</td>\n",
       "      <td>9865</td>\n",
       "      <td>[[1647115, 1647150], [1648060, 1648090], [1648...</td>\n",
       "      <td>20</td>\n",
       "      <td>[3, 122, 132, 150, 172, 194, 289, 344, 358, 36...</td>\n",
       "      <td>91</td>\n",
       "      <td>108.406593</td>\n",
       "      <td>[-7, -5, -4, -5, -1, -1, -3, -8, -12, -10, -10...</td>\n",
       "      <td>True</td>\n",
       "      <td>True</td>\n",
       "      <td>[[0.0, 0.0, 0.0, 0.0, 0.0, 0.0, 0.0, 0.0, 0.0,...</td>\n",
       "      <td>False</td>\n",
       "    </tr>\n",
       "  </tbody>\n",
       "</table>\n",
       "</div>"
      ],
      "text/plain": [
       "   start_ms   end_ms  start_sample  end_sample  \\\n",
       "0   1772690  1781715      85089120    85522320   \n",
       "1   1793070  1799925      86067360    86396400   \n",
       "2      3005    10460        144240      502080   \n",
       "3    144815   157165       6951120     7543920   \n",
       "4   1647115  1656980      79061520    79535040   \n",
       "\n",
       "                                              p_step     rms_p      peak_p  \\\n",
       "0  [0.8992322534584924, 9.897367501899893, 9.4748...  2.359551  182.680045   \n",
       "1  [6.184213799374133, 5.3566748510823565, 13.362...  2.359551  267.096691   \n",
       "2  [0.887261381666812, 1.3398271004562607, 4.4853...  1.675094  120.070598   \n",
       "3  [0.41380735035998034, 0.5234897127529178, 0.58...  1.098511    5.122523   \n",
       "4  [1.1034896530762963, 1.261074910541601, 1.2935...  1.641276  124.312637   \n",
       "\n",
       "   bout_check                                               file  len_ms  \\\n",
       "0       False  /mnt/sphere/speech_bci/raw_data/s_b1238_22/202...    9025   \n",
       "1       False  /mnt/sphere/speech_bci/raw_data/s_b1238_22/202...    6855   \n",
       "2       False  /mnt/sphere/speech_bci/raw_data/s_b1238_22/202...    7455   \n",
       "3       False  /mnt/sphere/speech_bci/raw_data/s_b1238_22/202...   12350   \n",
       "4       False  /mnt/sphere/speech_bci/raw_data/s_b1238_22/202...    9865   \n",
       "\n",
       "                                              syl_in  n_syl  \\\n",
       "0  [[1772690, 1772740], [1772845, 1772910], [1773...     18   \n",
       "1  [[1793070, 1793125], [1793165, 1793350], [1793...     20   \n",
       "2  [[3005, 3045], [4665, 4765], [5290, 5330], [53...     15   \n",
       "3  [[144815, 145765], [146815, 147765], [148815, ...     11   \n",
       "4  [[1647115, 1647150], [1648060, 1648090], [1648...     20   \n",
       "\n",
       "                                             peaks_p  n_peaks   l_p_ratio  \\\n",
       "0  [1, 9, 33, 42, 61, 102, 121, 239, 247, 254, 34...       54  167.129630   \n",
       "1  [5, 14, 22, 31, 38, 52, 61, 68, 79, 105, 135, ...       58  118.189655   \n",
       "2  [3, 334, 343, 355, 371, 396, 407, 458, 478, 49...       59  126.355932   \n",
       "3  [3, 12, 33, 40, 47, 54, 61, 72, 82, 89, 100, 1...       94  131.382979   \n",
       "4  [3, 122, 132, 150, 172, 194, 289, 344, 358, 36...       91  108.406593   \n",
       "\n",
       "                                            waveform  valid_waveform  valid  \\\n",
       "0  [6, 5, 5, 5, 4, 5, 5, 5, 5, 5, 5, 6, 5, 4, 3, ...            True   True   \n",
       "1  [12, 11, 11, 12, 12, 12, 12, 11, 10, 8, 8, 9, ...            True   True   \n",
       "2  [-3, -2, -3, -2, -6, -9, -8, -10, -12, -14, -1...            True   True   \n",
       "3  [11, 10, 10, 7, 6, 5, 3, 2, 2, 3, 2, 3, 4, 3, ...            True   True   \n",
       "4  [-7, -5, -4, -5, -1, -1, -3, -8, -12, -10, -10...            True   True   \n",
       "\n",
       "                                         spectrogram  confusing  \n",
       "0  [[0.0, 0.0, 0.0, 0.0, 0.0, 0.0, 0.0, 0.0, 0.0,...      False  \n",
       "1  [[0.0, 0.0, 0.0, 0.0, 0.0, 0.0, 0.0, 0.0, 0.0,...      False  \n",
       "2  [[0.0, 0.0, 0.0, 0.0, 0.0, 0.0, 0.0, 0.0, 0.0,...      False  \n",
       "3  [[0.0, 0.0, 0.0, 0.0, 0.0, 0.0, 0.0, 0.0, 0.0,...      False  \n",
       "4  [[0.0, 0.0, 0.0, 0.0, 0.0, 0.0, 0.0, 0.0, 0.0,...      False  "
      ]
     },
     "execution_count": 87,
     "metadata": {},
     "output_type": "execute_result"
    }
   ],
   "source": [
    "viz_bout.bouts_pd.head(5)"
   ]
  },
  {
   "cell_type": "code",
   "execution_count": null,
   "id": "third-yorkshire",
   "metadata": {},
   "outputs": [],
   "source": []
  },
  {
   "cell_type": "code",
   "execution_count": null,
   "id": "sticky-status",
   "metadata": {},
   "outputs": [],
   "source": []
  }
 ],
 "metadata": {
  "kernelspec": {
   "display_name": "tuputapipe",
   "language": "python",
   "name": "ceciestunepipe"
  },
  "language_info": {
   "codemirror_mode": {
    "name": "ipython",
    "version": 3
   },
   "file_extension": ".py",
   "mimetype": "text/x-python",
   "name": "python",
   "nbconvert_exporter": "python",
   "pygments_lexer": "ipython3",
   "version": "3.8.11"
  }
 },
 "nbformat": 4,
 "nbformat_minor": 5
}
