{
 "cells": [
  {
   "cell_type": "markdown",
   "id": "enhanced-advertising",
   "metadata": {},
   "source": [
    "## Searching for bouts for a day of alsa recording"
   ]
  },
  {
   "cell_type": "code",
   "execution_count": 1,
   "id": "successful-termination",
   "metadata": {},
   "outputs": [
    {
     "name": "stderr",
     "output_type": "stream",
     "text": [
      "2022-03-08 10:42:26,968 root         INFO     Running on pakhi\n"
     ]
    }
   ],
   "source": [
    "%matplotlib inline\n",
    "import os\n",
    "import glob\n",
    "import socket\n",
    "import logging\n",
    "import numpy as np\n",
    "import pandas as pd\n",
    "from scipy.io import wavfile\n",
    "from scipy import signal\n",
    "\n",
    "from matplotlib import pyplot as plt\n",
    "\n",
    "from importlib import reload\n",
    "\n",
    "logger = logging.getLogger()\n",
    "handler = logging.StreamHandler()\n",
    "formatter = logging.Formatter(\n",
    "        '%(asctime)s %(name)-12s %(levelname)-8s %(message)s')\n",
    "handler.setFormatter(formatter)\n",
    "logger.addHandler(handler)\n",
    "logger.setLevel(logging.INFO)\n",
    "\n",
    "logger.info('Running on {}'.format(socket.gethostname()))"
   ]
  },
  {
   "cell_type": "code",
   "execution_count": 2,
   "id": "current-router",
   "metadata": {},
   "outputs": [],
   "source": [
    "from ceciestunepipe.file import bcistructure as et\n",
    "from ceciestunepipe.util.sound import boutsearch as bs\n",
    "from ceciestunepipe.pipeline import searchbout as sb"
   ]
  },
  {
   "cell_type": "markdown",
   "id": "tribal-junior",
   "metadata": {},
   "source": [
    "### Get the file locations for a session (day) of recordings"
   ]
  },
  {
   "cell_type": "code",
   "execution_count": 3,
   "id": "senior-adoption",
   "metadata": {},
   "outputs": [],
   "source": [
    "reload(et)\n",
    "sess_par = {'bird': 's_b1585_22',\n",
    "           'sess': '2022-02-23'}\n",
    "\n",
    "\n",
    "exp_struct = et.get_exp_struct(sess_par['bird'], sess_par['sess'], ephys_software='alsa')\n",
    "\n",
    "raw_folder = exp_struct['folders']['alsa']"
   ]
  },
  {
   "cell_type": "code",
   "execution_count": 4,
   "id": "cleared-canyon",
   "metadata": {},
   "outputs": [
    {
     "data": {
      "text/plain": [
       "{'bird': '/mnt/sphere/speech_bci/raw_data/s_b1585_22',\n",
       " 'raw': '/mnt/sphere/speech_bci/raw_data/s_b1585_22/2022-02-23',\n",
       " 'alsa': '/mnt/sphere/speech_bci/raw_data/s_b1585_22/2022-02-23/alsa',\n",
       " 'kwik': '/scratch/earneodo/s_b1585_22/alsa/kwik/2022-02-23',\n",
       " 'processed': '/mnt/sphere/speech_bci/processed_data/s_b1585_22/2022-02-23/alsa',\n",
       " 'derived': '/mnt/sphere/speech_bci/derived_data/s_b1585_22/2022-02-23/alsa',\n",
       " 'tmp': '/scratch/earneodo/tmp',\n",
       " 'msort': '/scratch/earneodo/s_b1585_22/alsa/msort/2022-02-23',\n",
       " 'ksort': '/scratch/earneodo/s_b1585_22/alsa/ksort/2022-02-23/',\n",
       " 'sort': '/mnt/sphere/speech_bci/derived_data/s_b1585_22/2022-02-23/alsa/'}"
      ]
     },
     "execution_count": 4,
     "metadata": {},
     "output_type": "execute_result"
    }
   ],
   "source": [
    "exp_struct['folders']"
   ]
  },
  {
   "cell_type": "markdown",
   "id": "theoretical-bridge",
   "metadata": {},
   "source": [
    "#### search parameters\n",
    "Spectrograms are computed using librosa\n",
    "\n",
    "Additional parameters are for bout search criteria and functions to read the data"
   ]
  },
  {
   "cell_type": "code",
   "execution_count": 5,
   "id": "august-segment",
   "metadata": {},
   "outputs": [],
   "source": [
    "hparams = {\n",
    "    # spectrogram\n",
    "    'num_freq':1024, #1024# how many channels to use in a spectrogram #\n",
    "    'preemphasis':0.97, \n",
    "    'frame_shift_ms':5, # step size for fft\n",
    "    'frame_length_ms':10, #128 # frame length for fft FRAME SAMPLES < NUM_FREQ!!!\n",
    "    'min_level_db':-55, # minimum threshold db for computing spe \n",
    "    'ref_level_db':110, # reference db for computing spec\n",
    "    'sample_rate':None, # sample rate of your data\n",
    "    \n",
    "    # spectrograms\n",
    "    'mel_filter': False, # should a mel filter be used?\n",
    "    'num_mels':1024, # how many channels to use in the mel-spectrogram\n",
    "    'fmin': 500, # low frequency cutoff for mel filter\n",
    "    'fmax': 12000, # high frequency cutoff for mel filter\n",
    "    \n",
    "    # spectrogram inversion\n",
    "    'max_iters':200,\n",
    "    'griffin_lim_iters':20,\n",
    "    'power':1.5,\n",
    "\n",
    "    # Added for the searching\n",
    "    'read_wav_fun': bs.read_wav_chan, # function for loading the wav_like_stream (has to returns fs, ndarray)\n",
    "    'file_order_fun': bs.sess_file_id, # function for extracting the file id within the session\n",
    "    'min_segment': 30, # Minimum length of supra_threshold to consider a 'syllable' (ms)\n",
    "    'min_silence': 2000, # Minmum distance between groups of syllables to consider separate bouts (ms)\n",
    "    'min_bout': 5000, # min bout duration (ms)\n",
    "    'peak_thresh_rms': 0.55, # threshold (rms) for peak acceptance,\n",
    "    'thresh_rms': 0.25, # threshold for detection of syllables\n",
    "    'mean_syl_rms_thresh': 0.3, #threshold for acceptance of mean rms across the syllable (relative to rms of the file)\n",
    "    'max_bout': 120000, #exclude bouts too long\n",
    "    'l_p_r_thresh': 100, # threshold for n of len_ms/peaks (typycally about 2-3 syllable spans\n",
    "    \n",
    "    'waveform_edges': 1000, #get number of ms before and after the edges of the bout for the waveform sample\n",
    "    \n",
    "    'bout_auto_file': 'bout_auto.pickle', # extension for saving the auto found files\n",
    "    'bout_curated_file': 'bout_checked.pickle', #extension for manually curated files (coming soon)\n",
    "    }"
   ]
  },
  {
   "cell_type": "markdown",
   "id": "split-solution",
   "metadata": {},
   "source": [
    "## Use hi level funcitons to get all bouts for a list of sessions\n",
    " - list the sessions\n",
    " - check if bouts exist for that session\n",
    "     - if yes, do nothing (or summary)\n",
    "     - if not, get the bouts\n",
    "     "
   ]
  },
  {
   "cell_type": "markdown",
   "id": "differential-steal",
   "metadata": {},
   "source": [
    "### search for an explicit list of sessions"
   ]
  },
  {
   "cell_type": "code",
   "execution_count": 6,
   "id": "liked-knock",
   "metadata": {},
   "outputs": [
    {
     "name": "stdout",
     "output_type": "stream",
     "text": [
      "['2022-02-16', '2022-02-17', '2022-02-18', '2022-02-19', '2022-02-20', '2022-02-21', '2022-02-22', '2022-02-23', '2022-02-24', '2022-02-26', '2022-02-27', '2022-02-28', '2022-03-01', '2022-03-02', '2022-03-03', '2022-03-04', '2022-03-05', '2022-03-06', '2022-03-07', '2022-03-08']\n"
     ]
    }
   ],
   "source": [
    "all_sessions = et.list_sessions(sess_par['bird'], section='raw', ephys_software='alsa')\n",
    "all_sessions.sort()\n",
    "print(all_sessions)"
   ]
  },
  {
   "cell_type": "code",
   "execution_count": 11,
   "id": "million-shopper",
   "metadata": {
    "collapsed": true,
    "jupyter": {
     "outputs_hidden": true
    }
   },
   "outputs": [
    {
     "name": "stderr",
     "output_type": "stream",
     "text": [
      "2022-02-24 09:43:22,744 ceciestunepipe.pipeline.searchbout INFO     Getting all bouts in bird s_b1585_22 sessions ['2022-02-16', '2022-02-17', '2022-02-18', '2022-02-19', '2022-02-20', '2022-02-21', '2022-02-22', '2022-02-23', '2022-02-24']\n",
      "2022-02-24 09:43:22,745 ceciestunepipe.pipeline.searchbout INFO     Search/bouts file not found in /mnt/sphere/speech_bci/derived_data/s_b1585_22/2022-02-16/alsa/bouts_ceciestunepipe\n",
      "2022-02-24 09:43:22,746 ceciestunepipe.pipeline.searchbout INFO     Will search bouts for Bird s_b1585_22 - sess 2022-02-16\n",
      "2022-02-24 09:43:22,746 ceciestunepipe.pipeline.searchbout INFO     Will search for bouts through all session s_b1585_22, 2022-02-16\n",
      "2022-02-24 09:43:22,763 ceciestunepipe.pipeline.searchbout INFO     Found 10 files\n"
     ]
    },
    {
     "name": "stdout",
     "output_type": "stream",
     "text": [
      "[Parallel(n_jobs=12)]: Using backend LokyBackend with 12 concurrent workers.\n",
      "[Parallel(n_jobs=12)]: Done   1 tasks      | elapsed:   10.2s\n",
      "[Parallel(n_jobs=12)]: Done   2 out of  10 | elapsed:   10.2s remaining:   40.8s\n",
      "[Parallel(n_jobs=12)]: Done   3 out of  10 | elapsed:   10.2s remaining:   23.8s\n",
      "[Parallel(n_jobs=12)]: Done   4 out of  10 | elapsed:   10.2s remaining:   15.3s\n",
      "[Parallel(n_jobs=12)]: Done   5 out of  10 | elapsed:   10.2s remaining:   10.2s\n",
      "[Parallel(n_jobs=12)]: Done   6 out of  10 | elapsed:   10.2s remaining:    6.8s\n",
      "[Parallel(n_jobs=12)]: Done   7 out of  10 | elapsed:   10.2s remaining:    4.4s\n",
      "[Parallel(n_jobs=12)]: Done   8 out of  10 | elapsed:   10.2s remaining:    2.5s\n",
      "[Parallel(n_jobs=12)]: Done  10 out of  10 | elapsed:   10.2s remaining:    0.0s\n"
     ]
    },
    {
     "ename": "KeyboardInterrupt",
     "evalue": "",
     "output_type": "error",
     "traceback": [
      "\u001b[0;31m---------------------------------------------------------------------------\u001b[0m",
      "\u001b[0;31mKeyboardInterrupt\u001b[0m                         Traceback (most recent call last)",
      "\u001b[0;32m~/anaconda3/envs/unepipe/lib/python3.8/site-packages/joblib/parallel.py\u001b[0m in \u001b[0;36mretrieve\u001b[0;34m(self)\u001b[0m\n\u001b[1;32m    932\u001b[0m                 \u001b[0;32mif\u001b[0m \u001b[0mgetattr\u001b[0m\u001b[0;34m(\u001b[0m\u001b[0mself\u001b[0m\u001b[0;34m.\u001b[0m\u001b[0m_backend\u001b[0m\u001b[0;34m,\u001b[0m \u001b[0;34m'supports_timeout'\u001b[0m\u001b[0;34m,\u001b[0m \u001b[0;32mFalse\u001b[0m\u001b[0;34m)\u001b[0m\u001b[0;34m:\u001b[0m\u001b[0;34m\u001b[0m\u001b[0;34m\u001b[0m\u001b[0m\n\u001b[0;32m--> 933\u001b[0;31m                     \u001b[0mself\u001b[0m\u001b[0;34m.\u001b[0m\u001b[0m_output\u001b[0m\u001b[0;34m.\u001b[0m\u001b[0mextend\u001b[0m\u001b[0;34m(\u001b[0m\u001b[0mjob\u001b[0m\u001b[0;34m.\u001b[0m\u001b[0mget\u001b[0m\u001b[0;34m(\u001b[0m\u001b[0mtimeout\u001b[0m\u001b[0;34m=\u001b[0m\u001b[0mself\u001b[0m\u001b[0;34m.\u001b[0m\u001b[0mtimeout\u001b[0m\u001b[0;34m)\u001b[0m\u001b[0;34m)\u001b[0m\u001b[0;34m\u001b[0m\u001b[0;34m\u001b[0m\u001b[0m\n\u001b[0m\u001b[1;32m    934\u001b[0m                 \u001b[0;32melse\u001b[0m\u001b[0;34m:\u001b[0m\u001b[0;34m\u001b[0m\u001b[0;34m\u001b[0m\u001b[0m\n",
      "\u001b[0;32m~/anaconda3/envs/unepipe/lib/python3.8/site-packages/joblib/_parallel_backends.py\u001b[0m in \u001b[0;36mwrap_future_result\u001b[0;34m(future, timeout)\u001b[0m\n\u001b[1;32m    541\u001b[0m         \u001b[0;32mtry\u001b[0m\u001b[0;34m:\u001b[0m\u001b[0;34m\u001b[0m\u001b[0;34m\u001b[0m\u001b[0m\n\u001b[0;32m--> 542\u001b[0;31m             \u001b[0;32mreturn\u001b[0m \u001b[0mfuture\u001b[0m\u001b[0;34m.\u001b[0m\u001b[0mresult\u001b[0m\u001b[0;34m(\u001b[0m\u001b[0mtimeout\u001b[0m\u001b[0;34m=\u001b[0m\u001b[0mtimeout\u001b[0m\u001b[0;34m)\u001b[0m\u001b[0;34m\u001b[0m\u001b[0;34m\u001b[0m\u001b[0m\n\u001b[0m\u001b[1;32m    543\u001b[0m         \u001b[0;32mexcept\u001b[0m \u001b[0mCfTimeoutError\u001b[0m \u001b[0;32mas\u001b[0m \u001b[0me\u001b[0m\u001b[0;34m:\u001b[0m\u001b[0;34m\u001b[0m\u001b[0;34m\u001b[0m\u001b[0m\n",
      "\u001b[0;32m~/anaconda3/envs/unepipe/lib/python3.8/concurrent/futures/_base.py\u001b[0m in \u001b[0;36mresult\u001b[0;34m(self, timeout)\u001b[0m\n\u001b[1;32m    438\u001b[0m \u001b[0;34m\u001b[0m\u001b[0m\n\u001b[0;32m--> 439\u001b[0;31m                 \u001b[0mself\u001b[0m\u001b[0;34m.\u001b[0m\u001b[0m_condition\u001b[0m\u001b[0;34m.\u001b[0m\u001b[0mwait\u001b[0m\u001b[0;34m(\u001b[0m\u001b[0mtimeout\u001b[0m\u001b[0;34m)\u001b[0m\u001b[0;34m\u001b[0m\u001b[0;34m\u001b[0m\u001b[0m\n\u001b[0m\u001b[1;32m    440\u001b[0m \u001b[0;34m\u001b[0m\u001b[0m\n",
      "\u001b[0;32m~/anaconda3/envs/unepipe/lib/python3.8/threading.py\u001b[0m in \u001b[0;36mwait\u001b[0;34m(self, timeout)\u001b[0m\n\u001b[1;32m    301\u001b[0m             \u001b[0;32mif\u001b[0m \u001b[0mtimeout\u001b[0m \u001b[0;32mis\u001b[0m \u001b[0;32mNone\u001b[0m\u001b[0;34m:\u001b[0m\u001b[0;34m\u001b[0m\u001b[0;34m\u001b[0m\u001b[0m\n\u001b[0;32m--> 302\u001b[0;31m                 \u001b[0mwaiter\u001b[0m\u001b[0;34m.\u001b[0m\u001b[0macquire\u001b[0m\u001b[0;34m(\u001b[0m\u001b[0;34m)\u001b[0m\u001b[0;34m\u001b[0m\u001b[0;34m\u001b[0m\u001b[0m\n\u001b[0m\u001b[1;32m    303\u001b[0m                 \u001b[0mgotit\u001b[0m \u001b[0;34m=\u001b[0m \u001b[0;32mTrue\u001b[0m\u001b[0;34m\u001b[0m\u001b[0;34m\u001b[0m\u001b[0m\n",
      "\u001b[0;31mKeyboardInterrupt\u001b[0m: ",
      "\nDuring handling of the above exception, another exception occurred:\n",
      "\u001b[0;31mKeyboardInterrupt\u001b[0m                         Traceback (most recent call last)",
      "\u001b[0;32m<ipython-input-11-897b66fc5456>\u001b[0m in \u001b[0;36m<module>\u001b[0;34m\u001b[0m\n\u001b[1;32m      1\u001b[0m \u001b[0mreload\u001b[0m\u001b[0;34m(\u001b[0m\u001b[0msb\u001b[0m\u001b[0;34m)\u001b[0m\u001b[0;34m\u001b[0m\u001b[0;34m\u001b[0m\u001b[0m\n\u001b[0;32m----> 2\u001b[0;31m \u001b[0msb\u001b[0m\u001b[0;34m.\u001b[0m\u001b[0msearch_bird_bouts\u001b[0m\u001b[0;34m(\u001b[0m\u001b[0msess_par\u001b[0m\u001b[0;34m[\u001b[0m\u001b[0;34m'bird'\u001b[0m\u001b[0;34m]\u001b[0m\u001b[0;34m,\u001b[0m \u001b[0mall_sessions\u001b[0m\u001b[0;34m,\u001b[0m \u001b[0mhparams\u001b[0m\u001b[0;34m,\u001b[0m \u001b[0mephys_software\u001b[0m\u001b[0;34m=\u001b[0m\u001b[0;34m'alsa'\u001b[0m\u001b[0;34m,\u001b[0m \u001b[0mn_jobs\u001b[0m\u001b[0;34m=\u001b[0m\u001b[0;36m12\u001b[0m\u001b[0;34m)\u001b[0m\u001b[0;34m\u001b[0m\u001b[0;34m\u001b[0m\u001b[0m\n\u001b[0m",
      "\u001b[0;32m/mnt/cube/earneodo/repos/ceciestunepipe/ceciestunepipe/pipeline/searchbout.py\u001b[0m in \u001b[0;36msearch_bird_bouts\u001b[0;34m(bird, sess_list, hparams, ephys_software, n_jobs)\u001b[0m\n\u001b[1;32m    185\u001b[0m         \u001b[0;32melse\u001b[0m\u001b[0;34m:\u001b[0m\u001b[0;34m\u001b[0m\u001b[0;34m\u001b[0m\u001b[0m\n\u001b[1;32m    186\u001b[0m             \u001b[0mlogger\u001b[0m\u001b[0;34m.\u001b[0m\u001b[0minfo\u001b[0m\u001b[0;34m(\u001b[0m\u001b[0;34m'Will search bouts for Bird {} - sess {}'\u001b[0m\u001b[0;34m.\u001b[0m\u001b[0mformat\u001b[0m\u001b[0;34m(\u001b[0m\u001b[0mbird\u001b[0m\u001b[0;34m,\u001b[0m \u001b[0msess\u001b[0m\u001b[0;34m)\u001b[0m\u001b[0;34m)\u001b[0m\u001b[0;34m\u001b[0m\u001b[0;34m\u001b[0m\u001b[0m\n\u001b[0;32m--> 187\u001b[0;31m             \u001b[0msess_bout_pd\u001b[0m \u001b[0;34m=\u001b[0m \u001b[0mget_all_day_bouts\u001b[0m\u001b[0;34m(\u001b[0m\u001b[0msess_par\u001b[0m\u001b[0;34m,\u001b[0m \u001b[0mhparams\u001b[0m\u001b[0;34m,\u001b[0m \u001b[0mephys_software\u001b[0m\u001b[0;34m=\u001b[0m \u001b[0mephys_software\u001b[0m\u001b[0;34m,\u001b[0m \u001b[0mn_jobs\u001b[0m\u001b[0;34m=\u001b[0m\u001b[0mn_jobs\u001b[0m\u001b[0;34m)\u001b[0m\u001b[0;34m\u001b[0m\u001b[0;34m\u001b[0m\u001b[0m\n\u001b[0m\u001b[1;32m    188\u001b[0m \u001b[0;34m\u001b[0m\u001b[0m\n\u001b[1;32m    189\u001b[0m     \u001b[0;32mreturn\u001b[0m \u001b[0;36m0\u001b[0m\u001b[0;34m\u001b[0m\u001b[0;34m\u001b[0m\u001b[0m\n",
      "\u001b[0;32m/mnt/cube/earneodo/repos/ceciestunepipe/ceciestunepipe/pipeline/searchbout.py\u001b[0m in \u001b[0;36mget_all_day_bouts\u001b[0;34m(sess_par, hparams, ephys_software, n_jobs)\u001b[0m\n\u001b[1;32m     61\u001b[0m \u001b[0;34m\u001b[0m\u001b[0m\n\u001b[1;32m     62\u001b[0m     \u001b[0;31m# Go parallel through all the paths in the day, get a list of all the pandas dataframes for each file\u001b[0m\u001b[0;34m\u001b[0m\u001b[0;34m\u001b[0m\u001b[0;34m\u001b[0m\u001b[0m\n\u001b[0;32m---> 63\u001b[0;31m     sess_pd_list = Parallel(n_jobs=n_jobs, verbose=100, backend=None)(\n\u001b[0m\u001b[1;32m     64\u001b[0m         delayed(get_file_bouts)(i) for i in wav_path_list)\n\u001b[1;32m     65\u001b[0m \u001b[0;34m\u001b[0m\u001b[0m\n",
      "\u001b[0;32m~/anaconda3/envs/unepipe/lib/python3.8/site-packages/joblib/parallel.py\u001b[0m in \u001b[0;36m__call__\u001b[0;34m(self, iterable)\u001b[0m\n\u001b[1;32m   1052\u001b[0m \u001b[0;34m\u001b[0m\u001b[0m\n\u001b[1;32m   1053\u001b[0m             \u001b[0;32mwith\u001b[0m \u001b[0mself\u001b[0m\u001b[0;34m.\u001b[0m\u001b[0m_backend\u001b[0m\u001b[0;34m.\u001b[0m\u001b[0mretrieval_context\u001b[0m\u001b[0;34m(\u001b[0m\u001b[0;34m)\u001b[0m\u001b[0;34m:\u001b[0m\u001b[0;34m\u001b[0m\u001b[0;34m\u001b[0m\u001b[0m\n\u001b[0;32m-> 1054\u001b[0;31m                 \u001b[0mself\u001b[0m\u001b[0;34m.\u001b[0m\u001b[0mretrieve\u001b[0m\u001b[0;34m(\u001b[0m\u001b[0;34m)\u001b[0m\u001b[0;34m\u001b[0m\u001b[0;34m\u001b[0m\u001b[0m\n\u001b[0m\u001b[1;32m   1055\u001b[0m             \u001b[0;31m# Make sure that we get a last message telling us we are done\u001b[0m\u001b[0;34m\u001b[0m\u001b[0;34m\u001b[0m\u001b[0;34m\u001b[0m\u001b[0m\n\u001b[1;32m   1056\u001b[0m             \u001b[0melapsed_time\u001b[0m \u001b[0;34m=\u001b[0m \u001b[0mtime\u001b[0m\u001b[0;34m.\u001b[0m\u001b[0mtime\u001b[0m\u001b[0;34m(\u001b[0m\u001b[0;34m)\u001b[0m \u001b[0;34m-\u001b[0m \u001b[0mself\u001b[0m\u001b[0;34m.\u001b[0m\u001b[0m_start_time\u001b[0m\u001b[0;34m\u001b[0m\u001b[0;34m\u001b[0m\u001b[0m\n",
      "\u001b[0;32m~/anaconda3/envs/unepipe/lib/python3.8/site-packages/joblib/parallel.py\u001b[0m in \u001b[0;36mretrieve\u001b[0;34m(self)\u001b[0m\n\u001b[1;32m    953\u001b[0m                     \u001b[0;31m# scheduling.\u001b[0m\u001b[0;34m\u001b[0m\u001b[0;34m\u001b[0m\u001b[0;34m\u001b[0m\u001b[0m\n\u001b[1;32m    954\u001b[0m                     \u001b[0mensure_ready\u001b[0m \u001b[0;34m=\u001b[0m \u001b[0mself\u001b[0m\u001b[0;34m.\u001b[0m\u001b[0m_managed_backend\u001b[0m\u001b[0;34m\u001b[0m\u001b[0;34m\u001b[0m\u001b[0m\n\u001b[0;32m--> 955\u001b[0;31m                     \u001b[0mbackend\u001b[0m\u001b[0;34m.\u001b[0m\u001b[0mabort_everything\u001b[0m\u001b[0;34m(\u001b[0m\u001b[0mensure_ready\u001b[0m\u001b[0;34m=\u001b[0m\u001b[0mensure_ready\u001b[0m\u001b[0;34m)\u001b[0m\u001b[0;34m\u001b[0m\u001b[0;34m\u001b[0m\u001b[0m\n\u001b[0m\u001b[1;32m    956\u001b[0m                 \u001b[0;32mraise\u001b[0m\u001b[0;34m\u001b[0m\u001b[0;34m\u001b[0m\u001b[0m\n\u001b[1;32m    957\u001b[0m \u001b[0;34m\u001b[0m\u001b[0m\n",
      "\u001b[0;32m~/anaconda3/envs/unepipe/lib/python3.8/site-packages/joblib/_parallel_backends.py\u001b[0m in \u001b[0;36mabort_everything\u001b[0;34m(self, ensure_ready)\u001b[0m\n\u001b[1;32m    559\u001b[0m         \"\"\"Shutdown the workers and restart a new one with the same parameters\n\u001b[1;32m    560\u001b[0m         \"\"\"\n\u001b[0;32m--> 561\u001b[0;31m         \u001b[0mself\u001b[0m\u001b[0;34m.\u001b[0m\u001b[0m_workers\u001b[0m\u001b[0;34m.\u001b[0m\u001b[0mterminate\u001b[0m\u001b[0;34m(\u001b[0m\u001b[0mkill_workers\u001b[0m\u001b[0;34m=\u001b[0m\u001b[0;32mTrue\u001b[0m\u001b[0;34m)\u001b[0m\u001b[0;34m\u001b[0m\u001b[0;34m\u001b[0m\u001b[0m\n\u001b[0m\u001b[1;32m    562\u001b[0m         \u001b[0mself\u001b[0m\u001b[0;34m.\u001b[0m\u001b[0m_workers\u001b[0m \u001b[0;34m=\u001b[0m \u001b[0;32mNone\u001b[0m\u001b[0;34m\u001b[0m\u001b[0;34m\u001b[0m\u001b[0m\n\u001b[1;32m    563\u001b[0m \u001b[0;34m\u001b[0m\u001b[0m\n",
      "\u001b[0;32m~/anaconda3/envs/unepipe/lib/python3.8/site-packages/joblib/executor.py\u001b[0m in \u001b[0;36mterminate\u001b[0;34m(self, kill_workers)\u001b[0m\n\u001b[1;32m     72\u001b[0m \u001b[0;34m\u001b[0m\u001b[0m\n\u001b[1;32m     73\u001b[0m     \u001b[0;32mdef\u001b[0m \u001b[0mterminate\u001b[0m\u001b[0;34m(\u001b[0m\u001b[0mself\u001b[0m\u001b[0;34m,\u001b[0m \u001b[0mkill_workers\u001b[0m\u001b[0;34m=\u001b[0m\u001b[0;32mFalse\u001b[0m\u001b[0;34m)\u001b[0m\u001b[0;34m:\u001b[0m\u001b[0;34m\u001b[0m\u001b[0;34m\u001b[0m\u001b[0m\n\u001b[0;32m---> 74\u001b[0;31m         \u001b[0mself\u001b[0m\u001b[0;34m.\u001b[0m\u001b[0mshutdown\u001b[0m\u001b[0;34m(\u001b[0m\u001b[0mkill_workers\u001b[0m\u001b[0;34m=\u001b[0m\u001b[0mkill_workers\u001b[0m\u001b[0;34m)\u001b[0m\u001b[0;34m\u001b[0m\u001b[0;34m\u001b[0m\u001b[0m\n\u001b[0m\u001b[1;32m     75\u001b[0m         \u001b[0;32mif\u001b[0m \u001b[0mkill_workers\u001b[0m\u001b[0;34m:\u001b[0m\u001b[0;34m\u001b[0m\u001b[0;34m\u001b[0m\u001b[0m\n\u001b[1;32m     76\u001b[0m             \u001b[0;31m# When workers are killed in such a brutal manner, they cannot\u001b[0m\u001b[0;34m\u001b[0m\u001b[0;34m\u001b[0m\u001b[0;34m\u001b[0m\u001b[0m\n",
      "\u001b[0;32m~/anaconda3/envs/unepipe/lib/python3.8/site-packages/joblib/externals/loky/process_executor.py\u001b[0m in \u001b[0;36mshutdown\u001b[0;34m(self, wait, kill_workers)\u001b[0m\n\u001b[1;32m   1169\u001b[0m \u001b[0;34m\u001b[0m\u001b[0m\n\u001b[1;32m   1170\u001b[0m         \u001b[0;32mif\u001b[0m \u001b[0mexecutor_manager_thread\u001b[0m \u001b[0;32mis\u001b[0m \u001b[0;32mnot\u001b[0m \u001b[0;32mNone\u001b[0m \u001b[0;32mand\u001b[0m \u001b[0mwait\u001b[0m\u001b[0;34m:\u001b[0m\u001b[0;34m\u001b[0m\u001b[0;34m\u001b[0m\u001b[0m\n\u001b[0;32m-> 1171\u001b[0;31m             \u001b[0mexecutor_manager_thread\u001b[0m\u001b[0;34m.\u001b[0m\u001b[0mjoin\u001b[0m\u001b[0;34m(\u001b[0m\u001b[0;34m)\u001b[0m\u001b[0;34m\u001b[0m\u001b[0;34m\u001b[0m\u001b[0m\n\u001b[0m\u001b[1;32m   1172\u001b[0m \u001b[0;34m\u001b[0m\u001b[0m\n\u001b[1;32m   1173\u001b[0m         \u001b[0;31m# To reduce the risk of opening too many files, remove references to\u001b[0m\u001b[0;34m\u001b[0m\u001b[0;34m\u001b[0m\u001b[0;34m\u001b[0m\u001b[0m\n",
      "\u001b[0;32m~/anaconda3/envs/unepipe/lib/python3.8/threading.py\u001b[0m in \u001b[0;36mjoin\u001b[0;34m(self, timeout)\u001b[0m\n\u001b[1;32m   1009\u001b[0m \u001b[0;34m\u001b[0m\u001b[0m\n\u001b[1;32m   1010\u001b[0m         \u001b[0;32mif\u001b[0m \u001b[0mtimeout\u001b[0m \u001b[0;32mis\u001b[0m \u001b[0;32mNone\u001b[0m\u001b[0;34m:\u001b[0m\u001b[0;34m\u001b[0m\u001b[0;34m\u001b[0m\u001b[0m\n\u001b[0;32m-> 1011\u001b[0;31m             \u001b[0mself\u001b[0m\u001b[0;34m.\u001b[0m\u001b[0m_wait_for_tstate_lock\u001b[0m\u001b[0;34m(\u001b[0m\u001b[0;34m)\u001b[0m\u001b[0;34m\u001b[0m\u001b[0;34m\u001b[0m\u001b[0m\n\u001b[0m\u001b[1;32m   1012\u001b[0m         \u001b[0;32melse\u001b[0m\u001b[0;34m:\u001b[0m\u001b[0;34m\u001b[0m\u001b[0;34m\u001b[0m\u001b[0m\n\u001b[1;32m   1013\u001b[0m             \u001b[0;31m# the behavior of a negative timeout isn't documented, but\u001b[0m\u001b[0;34m\u001b[0m\u001b[0;34m\u001b[0m\u001b[0;34m\u001b[0m\u001b[0m\n",
      "\u001b[0;32m~/anaconda3/envs/unepipe/lib/python3.8/threading.py\u001b[0m in \u001b[0;36m_wait_for_tstate_lock\u001b[0;34m(self, block, timeout)\u001b[0m\n\u001b[1;32m   1025\u001b[0m         \u001b[0;32mif\u001b[0m \u001b[0mlock\u001b[0m \u001b[0;32mis\u001b[0m \u001b[0;32mNone\u001b[0m\u001b[0;34m:\u001b[0m  \u001b[0;31m# already determined that the C code is done\u001b[0m\u001b[0;34m\u001b[0m\u001b[0;34m\u001b[0m\u001b[0m\n\u001b[1;32m   1026\u001b[0m             \u001b[0;32massert\u001b[0m \u001b[0mself\u001b[0m\u001b[0;34m.\u001b[0m\u001b[0m_is_stopped\u001b[0m\u001b[0;34m\u001b[0m\u001b[0;34m\u001b[0m\u001b[0m\n\u001b[0;32m-> 1027\u001b[0;31m         \u001b[0;32melif\u001b[0m \u001b[0mlock\u001b[0m\u001b[0;34m.\u001b[0m\u001b[0macquire\u001b[0m\u001b[0;34m(\u001b[0m\u001b[0mblock\u001b[0m\u001b[0;34m,\u001b[0m \u001b[0mtimeout\u001b[0m\u001b[0;34m)\u001b[0m\u001b[0;34m:\u001b[0m\u001b[0;34m\u001b[0m\u001b[0;34m\u001b[0m\u001b[0m\n\u001b[0m\u001b[1;32m   1028\u001b[0m             \u001b[0mlock\u001b[0m\u001b[0;34m.\u001b[0m\u001b[0mrelease\u001b[0m\u001b[0;34m(\u001b[0m\u001b[0;34m)\u001b[0m\u001b[0;34m\u001b[0m\u001b[0;34m\u001b[0m\u001b[0m\n\u001b[1;32m   1029\u001b[0m             \u001b[0mself\u001b[0m\u001b[0;34m.\u001b[0m\u001b[0m_stop\u001b[0m\u001b[0;34m(\u001b[0m\u001b[0;34m)\u001b[0m\u001b[0;34m\u001b[0m\u001b[0;34m\u001b[0m\u001b[0m\n",
      "\u001b[0;31mKeyboardInterrupt\u001b[0m: "
     ]
    }
   ],
   "source": [
    "reload(sb)\n",
    "sb.search_bird_bouts(sess_par['bird'], all_sessions, hparams, ephys_software='alsa', n_jobs=12)"
   ]
  },
  {
   "cell_type": "markdown",
   "id": "finnish-obligation",
   "metadata": {},
   "source": [
    "### search for days before"
   ]
  },
  {
   "cell_type": "code",
   "execution_count": 12,
   "id": "geographic-indie",
   "metadata": {},
   "outputs": [
    {
     "name": "stderr",
     "output_type": "stream",
     "text": [
      "2022-02-24 09:43:39,040 ceciestunepipe.pipeline.searchbout INFO     Getting all bouts for bird s_b1585_22 from date 2022-02-19 onward\n",
      "2022-02-24 09:43:39,042 ceciestunepipe.pipeline.searchbout INFO     Getting all bouts in bird s_b1585_22 sessions ['2022-02-20', '2022-02-21', '2022-02-22', '2022-02-23', '2022-02-24']\n",
      "2022-02-24 09:43:39,043 ceciestunepipe.pipeline.searchbout INFO     Bird s_b1585_22 already had a bouts file in sess 2022-02-20\n",
      "2022-02-24 09:43:39,045 ceciestunepipe.pipeline.searchbout INFO     Bird s_b1585_22 already had a bouts file in sess 2022-02-21\n",
      "2022-02-24 09:43:39,047 ceciestunepipe.pipeline.searchbout INFO     Bird s_b1585_22 already had a bouts file in sess 2022-02-22\n",
      "2022-02-24 09:43:39,048 ceciestunepipe.pipeline.searchbout INFO     Bird s_b1585_22 already had a bouts file in sess 2022-02-23\n",
      "2022-02-24 09:43:39,048 ceciestunepipe.pipeline.searchbout INFO     Search/bouts file not found in /mnt/sphere/speech_bci/derived_data/s_b1585_22/2022-02-24/alsa/bouts_ceciestunepipe\n",
      "2022-02-24 09:43:39,049 ceciestunepipe.pipeline.searchbout INFO     Will search bouts for Bird s_b1585_22 - sess 2022-02-24\n",
      "2022-02-24 09:43:39,049 ceciestunepipe.pipeline.searchbout INFO     Will search for bouts through all session s_b1585_22, 2022-02-24\n",
      "2022-02-24 09:43:39,050 ceciestunepipe.pipeline.searchbout INFO     Found 4 files\n"
     ]
    },
    {
     "name": "stdout",
     "output_type": "stream",
     "text": [
      "[Parallel(n_jobs=12)]: Using backend LokyBackend with 12 concurrent workers.\n",
      "[Parallel(n_jobs=12)]: Done   1 tasks      | elapsed:   29.9s\n",
      "[Parallel(n_jobs=12)]: Done   2 out of   4 | elapsed:   30.1s remaining:   30.1s\n"
     ]
    },
    {
     "name": "stderr",
     "output_type": "stream",
     "text": [
      "2022-02-24 09:44:10,399 ceciestunepipe.pipeline.searchbout INFO     getting spectrograms\n"
     ]
    },
    {
     "name": "stdout",
     "output_type": "stream",
     "text": [
      "[Parallel(n_jobs=12)]: Done   4 out of   4 | elapsed:   31.3s remaining:    0.0s\n",
      "[Parallel(n_jobs=12)]: Done   4 out of   4 | elapsed:   31.3s finished\n"
     ]
    },
    {
     "name": "stderr",
     "output_type": "stream",
     "text": [
      "2022-02-24 09:44:31,375 ceciestunepipe.pipeline.searchbout INFO     saving bouts pandas to /mnt/sphere/speech_bci/derived_data/s_b1585_22/2022-02-24/alsa/bouts_ceciestunepipe/bout_auto.pickle\n",
      "2022-02-24 09:44:33,099 ceciestunepipe.pipeline.searchbout INFO     saving bout detect parameters dict to /mnt/sphere/speech_bci/derived_data/s_b1585_22/2022-02-24/alsa/bouts_ceciestunepipe/bout_search_params.pickle\n"
     ]
    },
    {
     "data": {
      "text/plain": [
       "0"
      ]
     },
     "execution_count": 12,
     "metadata": {},
     "output_type": "execute_result"
    }
   ],
   "source": [
    "reload(sb)\n",
    "sb.all_bird_bouts_search(sess_par['bird'], 3, hparams, ephys_software='alsa', n_jobs=12)"
   ]
  },
  {
   "cell_type": "code",
   "execution_count": 12,
   "id": "absent-gothic",
   "metadata": {},
   "outputs": [
    {
     "data": {
      "text/plain": [
       "Index(['start_ms', 'end_ms', 'start_sample', 'end_sample', 'p_step', 'rms_p',\n",
       "       'peak_p', 'bout_check', 'file', 'len_ms', 'syl_in', 'n_syl', 'peaks_p',\n",
       "       'n_peaks', 'l_p_ratio', 'waveform', 'valid_waveform', 'valid',\n",
       "       'spectrogram'],\n",
       "      dtype='object')"
      ]
     },
     "execution_count": 12,
     "metadata": {},
     "output_type": "execute_result"
    }
   ],
   "source": [
    "lpd = pd.read_pickle('/mnt/sphere/speech_bci/derived_data/s_b1585_22/2022-02-24/alsa/bouts_ceciestunepipe/bout_auto.pickle')\n",
    "lpd.keys()"
   ]
  },
  {
   "cell_type": "code",
   "execution_count": 10,
   "id": "eastern-colombia",
   "metadata": {},
   "outputs": [
    {
     "data": {
      "text/plain": [
       "0"
      ]
     },
     "execution_count": 10,
     "metadata": {},
     "output_type": "execute_result"
    }
   ],
   "source": [
    "epd = pd.DataFrame()\n",
    "epd.index.size"
   ]
  },
  {
   "cell_type": "code",
   "execution_count": 28,
   "id": "forced-entrance",
   "metadata": {},
   "outputs": [
    {
     "data": {
      "text/html": [
       "<div>\n",
       "<style scoped>\n",
       "    .dataframe tbody tr th:only-of-type {\n",
       "        vertical-align: middle;\n",
       "    }\n",
       "\n",
       "    .dataframe tbody tr th {\n",
       "        vertical-align: top;\n",
       "    }\n",
       "\n",
       "    .dataframe thead th {\n",
       "        text-align: right;\n",
       "    }\n",
       "</style>\n",
       "<table border=\"1\" class=\"dataframe\">\n",
       "  <thead>\n",
       "    <tr style=\"text-align: right;\">\n",
       "      <th></th>\n",
       "      <th>index</th>\n",
       "    </tr>\n",
       "  </thead>\n",
       "  <tbody>\n",
       "  </tbody>\n",
       "</table>\n",
       "</div>"
      ],
      "text/plain": [
       "Empty DataFrame\n",
       "Columns: [index]\n",
       "Index: []"
      ]
     },
     "execution_count": 28,
     "metadata": {},
     "output_type": "execute_result"
    }
   ],
   "source": [
    "epd.reset_index()"
   ]
  },
  {
   "cell_type": "code",
   "execution_count": 13,
   "id": "english-practice",
   "metadata": {},
   "outputs": [
    {
     "data": {
      "text/plain": [
       "84"
      ]
     },
     "execution_count": 13,
     "metadata": {},
     "output_type": "execute_result"
    }
   ],
   "source": [
    "lpd.index.size"
   ]
  },
  {
   "cell_type": "markdown",
   "id": "ignored-coast",
   "metadata": {},
   "source": [
    "### example of search of one bird, one session with force=True/False"
   ]
  },
  {
   "cell_type": "code",
   "execution_count": 8,
   "id": "russian-darwin",
   "metadata": {},
   "outputs": [
    {
     "name": "stderr",
     "output_type": "stream",
     "text": [
      "2022-03-08 10:46:08,787 ceciestunepipe.pipeline.searchbout INFO     Getting all bouts in bird s_b1585_22 sessions ['2022-03-07']\n",
      "2022-03-08 10:46:08,788 ceciestunepipe.pipeline.searchbout INFO     Will search bouts for Bird s_b1585_22 - sess 2022-03-07\n",
      "2022-03-08 10:46:08,789 ceciestunepipe.pipeline.searchbout INFO     Will search for bouts through all session s_b1585_22, 2022-03-07\n",
      "2022-03-08 10:46:08,793 ceciestunepipe.pipeline.searchbout INFO     Found 30 files\n"
     ]
    },
    {
     "name": "stdout",
     "output_type": "stream",
     "text": [
      "[Parallel(n_jobs=12)]: Using backend LokyBackend with 12 concurrent workers.\n",
      "[Parallel(n_jobs=12)]: Done   1 tasks      | elapsed: 18.5min\n",
      "[Parallel(n_jobs=12)]: Done   2 tasks      | elapsed: 19.0min\n",
      "[Parallel(n_jobs=12)]: Done   3 tasks      | elapsed: 19.1min\n",
      "[Parallel(n_jobs=12)]: Done   4 tasks      | elapsed: 19.1min\n",
      "[Parallel(n_jobs=12)]: Done   5 tasks      | elapsed: 19.1min\n",
      "[Parallel(n_jobs=12)]: Done   6 tasks      | elapsed: 19.1min\n",
      "[Parallel(n_jobs=12)]: Done   7 tasks      | elapsed: 19.2min\n",
      "[Parallel(n_jobs=12)]: Done   8 out of  30 | elapsed: 19.2min remaining: 52.8min\n",
      "[Parallel(n_jobs=12)]: Done   9 out of  30 | elapsed: 19.2min remaining: 44.9min\n",
      "[Parallel(n_jobs=12)]: Done  10 out of  30 | elapsed: 19.3min remaining: 38.5min\n",
      "[Parallel(n_jobs=12)]: Done  11 out of  30 | elapsed: 19.3min remaining: 33.3min\n",
      "[Parallel(n_jobs=12)]: Done  12 out of  30 | elapsed: 19.4min remaining: 29.1min\n",
      "[Parallel(n_jobs=12)]: Done  13 out of  30 | elapsed: 19.5min remaining: 25.5min\n",
      "[Parallel(n_jobs=12)]: Done  14 out of  30 | elapsed: 19.8min remaining: 22.7min\n",
      "[Parallel(n_jobs=12)]: Done  15 out of  30 | elapsed: 19.9min remaining: 19.9min\n",
      "[Parallel(n_jobs=12)]: Done  16 out of  30 | elapsed: 19.9min remaining: 17.4min\n",
      "[Parallel(n_jobs=12)]: Done  17 out of  30 | elapsed: 23.9min remaining: 18.3min\n",
      "[Parallel(n_jobs=12)]: Done  18 out of  30 | elapsed: 23.9min remaining: 15.9min\n",
      "[Parallel(n_jobs=12)]: Done  19 out of  30 | elapsed: 23.9min remaining: 13.8min\n",
      "[Parallel(n_jobs=12)]: Done  20 out of  30 | elapsed: 23.9min remaining: 12.0min\n",
      "[Parallel(n_jobs=12)]: Done  21 out of  30 | elapsed: 24.0min remaining: 10.3min\n",
      "[Parallel(n_jobs=12)]: Done  22 out of  30 | elapsed: 24.0min remaining:  8.7min\n",
      "[Parallel(n_jobs=12)]: Done  23 out of  30 | elapsed: 24.0min remaining:  7.3min\n",
      "[Parallel(n_jobs=12)]: Done  24 out of  30 | elapsed: 24.0min remaining:  6.0min\n",
      "[Parallel(n_jobs=12)]: Done  25 out of  30 | elapsed: 24.1min remaining:  4.8min\n",
      "[Parallel(n_jobs=12)]: Done  26 out of  30 | elapsed: 24.2min remaining:  3.7min\n",
      "[Parallel(n_jobs=12)]: Done  27 out of  30 | elapsed: 24.2min remaining:  2.7min\n",
      "[Parallel(n_jobs=12)]: Done  28 out of  30 | elapsed: 24.3min remaining:  1.7min\n",
      "[Parallel(n_jobs=12)]: Done  30 out of  30 | elapsed: 24.4min remaining:    0.0s\n",
      "[Parallel(n_jobs=12)]: Done  30 out of  30 | elapsed: 24.4min finished\n"
     ]
    },
    {
     "name": "stderr",
     "output_type": "stream",
     "text": [
      "2022-03-08 11:10:36,845 ceciestunepipe.pipeline.searchbout INFO     getting spectrograms\n",
      "2022-03-08 11:11:34,003 ceciestunepipe.pipeline.searchbout INFO     saving bouts pandas to /mnt/sphere/speech_bci/derived_data/s_b1585_22/2022-03-07/alsa/bouts_ceciestunepipe/bout_auto.pickle\n",
      "2022-03-08 11:11:38,675 ceciestunepipe.pipeline.searchbout INFO     saving bout detect parameters dict to /mnt/sphere/speech_bci/derived_data/s_b1585_22/2022-03-07/alsa/bouts_ceciestunepipe/bout_search_params.pickle\n"
     ]
    },
    {
     "data": {
      "text/plain": [
       "0"
      ]
     },
     "execution_count": 8,
     "metadata": {},
     "output_type": "execute_result"
    }
   ],
   "source": [
    "reload(sb)\n",
    "sb.search_bird_bouts('s_b1585_22', ['2022-03-07'], hparams, ephys_software='alsa', n_jobs=12, force=True)"
   ]
  },
  {
   "cell_type": "code",
   "execution_count": 31,
   "id": "exempt-definition",
   "metadata": {},
   "outputs": [
    {
     "data": {
      "text/plain": [
       "True"
      ]
     },
     "execution_count": 31,
     "metadata": {},
     "output_type": "execute_result"
    }
   ],
   "source": [
    "bird = 's_b1238_22'\n",
    "bird.split('_')[0] == 's'"
   ]
  },
  {
   "cell_type": "code",
   "execution_count": 34,
   "id": "usual-musician",
   "metadata": {},
   "outputs": [
    {
     "data": {
      "text/plain": [
       "True"
      ]
     },
     "execution_count": 34,
     "metadata": {},
     "output_type": "execute_result"
    }
   ],
   "source": [
    "'spectrogram' in lpd.keys()"
   ]
  },
  {
   "cell_type": "code",
   "execution_count": 14,
   "id": "recorded-termination",
   "metadata": {},
   "outputs": [
    {
     "data": {
      "text/plain": [
       "Index(['start_ms', 'end_ms', 'start_sample', 'end_sample', 'p_step', 'rms_p',\n",
       "       'peak_p', 'bout_check', 'file', 'len_ms', 'syl_in', 'n_syl', 'peaks_p',\n",
       "       'n_peaks', 'l_p_ratio', 'waveform', 'valid_waveform', 'valid',\n",
       "       'spectrogram'],\n",
       "      dtype='object')"
      ]
     },
     "execution_count": 14,
     "metadata": {},
     "output_type": "execute_result"
    }
   ],
   "source": [
    "lpd = pd.read_pickle('/mnt/sphere/speech_bci/derived_data/s_b1585_22/2022-03-07/alsa/bouts_ceciestunepipe/bout_auto.pickle')\n",
    "lpd.keys()"
   ]
  },
  {
   "cell_type": "code",
   "execution_count": 15,
   "id": "entertaining-quebec",
   "metadata": {},
   "outputs": [
    {
     "data": {
      "text/plain": [
       "157"
      ]
     },
     "execution_count": 15,
     "metadata": {},
     "output_type": "execute_result"
    }
   ],
   "source": [
    "lpd.index.size"
   ]
  },
  {
   "cell_type": "code",
   "execution_count": null,
   "id": "republican-publicity",
   "metadata": {},
   "outputs": [],
   "source": []
  }
 ],
 "metadata": {
  "kernelspec": {
   "display_name": "tuputapipe",
   "language": "python",
   "name": "ceciestunepipe"
  },
  "language_info": {
   "codemirror_mode": {
    "name": "ipython",
    "version": 3
   },
   "file_extension": ".py",
   "mimetype": "text/x-python",
   "name": "python",
   "nbconvert_exporter": "python",
   "pygments_lexer": "ipython3",
   "version": "3.8.11"
  }
 },
 "nbformat": 4,
 "nbformat_minor": 5
}
