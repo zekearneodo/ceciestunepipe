{
 "cells": [
  {
   "cell_type": "markdown",
   "metadata": {},
   "source": [
    "# Pre-processing pipeline for spikeglx sessions, zebra finch/starling\n",
    "- For every run in the session:\n",
    " - Load the recordings\n",
    " - Extract wav chan with micrhopohone and make a wav chan with the nidq syn signal\n",
    " - Get the sync events for the nidq sync channel\n",
    " \n",
    " - Do bout detection\n",
    " \n",
    "In another notebook, bout detection is curated\n",
    "- Left to decide where to:\n",
    "    - Sort spikes\n",
    "    - Sync the spikes/lfp/nidq\n",
    "    - make and plot 'bout rasters'"
   ]
  },
  {
   "cell_type": "code",
   "execution_count": 1,
   "metadata": {},
   "outputs": [
    {
     "name": "stderr",
     "output_type": "stream",
     "text": [
      "2023-03-07 11:28:37,117 root         INFO     Running on pakhi.ucsd.edu\n"
     ]
    }
   ],
   "source": [
    "%matplotlib inline\n",
    "import os\n",
    "import glob\n",
    "import logging\n",
    "import pickle\n",
    "import numpy as np\n",
    "import pandas as pd\n",
    "from scipy.io import wavfile\n",
    "from scipy import signal\n",
    "import traceback\n",
    "import warnings\n",
    "import socket\n",
    "\n",
    "from matplotlib import pyplot as plt\n",
    "from importlib import reload\n",
    "\n",
    "logger = logging.getLogger()\n",
    "handler = logging.StreamHandler()\n",
    "formatter = logging.Formatter(\n",
    "        '%(asctime)s %(name)-12s %(levelname)-8s %(message)s')\n",
    "handler.setFormatter(formatter)\n",
    "logger.addHandler(handler)\n",
    "logger.setLevel(logging.INFO)\n",
    "logger.info('Running on {}'.format(socket.gethostname()))"
   ]
  },
  {
   "cell_type": "code",
   "execution_count": 2,
   "metadata": {},
   "outputs": [],
   "source": [
    "from ceciestunepipe.file import bcistructure as et\n",
    "from ceciestunepipe.util import sglxutil as sglu\n",
    "from ceciestunepipe.util import rigutil as ru\n",
    "from ceciestunepipe.util import wavutil as wu\n",
    "from ceciestunepipe.util import syncutil as su\n",
    "\n",
    "from ceciestunepipe.util.sound import boutsearch as bs\n",
    "from ceciestunepipe.pipeline import searchbout as sb\n",
    "\n",
    "from ceciestunepipe.util.spikeextractors import preprocess as pre\n",
    "from ceciestunepipe.util.spikeextractors.extractors.spikeglxrecordingextractor import readSGLX as rsgl\n",
    "from ceciestunepipe.util.spikeextractors.extractors.spikeglxrecordingextractor import spikeglxrecordingextractor as sglex"
   ]
  },
  {
   "cell_type": "code",
   "execution_count": 3,
   "metadata": {},
   "outputs": [
    {
     "name": "stderr",
     "output_type": "stream",
     "text": [
      "2023-03-07 11:28:57,351 root         INFO     all modules loaded\n"
     ]
    }
   ],
   "source": [
    "import spikeinterface as si\n",
    "import spikeinterface.extractors as se\n",
    "import spikeinterface.toolkit as st\n",
    "import spikeinterface.sorters as ss\n",
    "import spikeinterface.comparison as sc\n",
    "import spikeinterface.widgets as sw\n",
    "logger.info('all modules loaded')"
   ]
  },
  {
   "cell_type": "markdown",
   "metadata": {},
   "source": [
    "## Session parameters and raw files"
   ]
  },
  {
   "cell_type": "markdown",
   "metadata": {},
   "source": [
    "#### list all the sessions for this bird"
   ]
  },
  {
   "cell_type": "code",
   "execution_count": 4,
   "metadata": {},
   "outputs": [],
   "source": [
    "bird = 's_b1515_23'\n",
    "all_bird_sess = et.list_sessions(bird)\n",
    "#logger.info('all sessions for bird are {}'.format(all_bird_sess))"
   ]
  },
  {
   "cell_type": "markdown",
   "metadata": {},
   "source": [
    "### set up bird and sessions parameters\n",
    "this will define:\n",
    "- locations of files (for the bird)\n",
    "- signals and channels to look for in the metadata of the files and in the rig.json parameter file: Note that this have to exist in all of the sessions that will be processed\n",
    "- 'sess' is unimportant here, but it comes handy if there is need to debug usin a single session"
   ]
  },
  {
   "cell_type": "code",
   "execution_count": 6,
   "metadata": {},
   "outputs": [],
   "source": [
    "reload(et)\n",
    "# for one example session\n",
    "\n",
    "sess_par = {'bird': bird,\n",
    "           'sess': '2023-03-02',\n",
    "           'probes': [], #['probe_0'], #probes of interest\n",
    "           'mic_list': ['microphone_0', 'microphone_1'], #list of mics of interest, by signal name in rig.json\n",
    "           'adc_list': ['pressure'],\n",
    "           'stim_list': [], #['wav_syn', 'wav_stim'], # list of adc chans with the stimulus\n",
    "           'nidq_ttl_list': [], #['wav_ttl'], # list of TTL signals form the nidq digital inputs to extract (besides the 'sync')\n",
    "           'sort': 0, #label for this sort instance\n",
    "            'skip_wav': True # skip wavefiles and save streams as npy + dict (for wu.save_wav and long recordings not to blow up)\n",
    "           }\n",
    "\n",
    "exp_struct = et.get_exp_struct(sess_par['bird'], sess_par['sess'], sort=sess_par['sort'])\n",
    "\n",
    "ksort_folder = exp_struct['folders']['ksort']\n",
    "raw_folder = exp_struct['folders']['sglx']"
   ]
  },
  {
   "cell_type": "markdown",
   "metadata": {},
   "source": [
    "list all the epochs in a session, to check that it is finding what it has to find"
   ]
  },
  {
   "cell_type": "code",
   "execution_count": 7,
   "metadata": {},
   "outputs": [
    {
     "name": "stderr",
     "output_type": "stream",
     "text": [
      "2023-03-07 11:29:01,312 ceciestunepipe.file.bcistructure INFO     {'folders': {'bird': '/mnt/sphere/speech_bci/raw_data/s_b1515_23', 'raw': '/mnt/sphere/speech_bci/raw_data/s_b1515_23/2023-03-02', 'sglx': '/mnt/sphere/speech_bci/raw_data/s_b1515_23/2023-03-02/sglx', 'kwik': '/scratch/earneodo/s_b1515_23/sglx/kwik/2023-03-02', 'processed': '/mnt/sphere/speech_bci/processed_data/s_b1515_23/2023-03-02/sglx', 'derived': '/mnt/sphere/speech_bci/derived_data/s_b1515_23/2023-03-02/sglx', 'tmp': '/scratch/earneodo/tmp', 'msort': '/scratch/earneodo/s_b1515_23/sglx/msort/2023-03-02', 'ksort': '/scratch/earneodo/s_b1515_23/sglx/ksort/2023-03-02/0', 'sort': '/mnt/sphere/speech_bci/derived_data/s_b1515_23/2023-03-02/sglx/0'}, 'files': {'par': '/scratch/earneodo/s_b1515_23/sglx/ksort/2023-03-02/0/params.json', 'set': '/mnt/sphere/speech_bci/raw_data/s_b1515_23/2023-03-02/sglx/settings.isf', 'rig': '/mnt/sphere/speech_bci/raw_data/s_b1515_23/2023-03-02/sglx/rig.json', 'kwd': '/scratch/earneodo/s_b1515_23/sglx/kwik/2023-03-02/stream.kwd', 'kwik': '/scratch/earneodo/s_b1515_23/sglx/kwik/2023-03-02/sort_0/spikes.kwik', 'kwe': '/scratch/earneodo/s_b1515_23/sglx/kwik/2023-03-02/events.kwe', 'dat_mic': '/mnt/sphere/speech_bci/processed_data/s_b1515_23/2023-03-02/sglx/dat_mic.mat', 'dat_ap': '/mnt/sphere/speech_bci/processed_data/s_b1515_23/2023-03-02/sglx/dat_ap.mat', 'allevents': '/mnt/sphere/speech_bci/processed_data/s_b1515_23/2023-03-02/sglx/dat_all.pkl', 'wav_mic': '/mnt/sphere/speech_bci/derived_data/s_b1515_23/2023-03-02/sglx/wav_mic.wav', 'mda_raw': '/scratch/earneodo/s_b1515_23/sglx/msort/2023-03-02/raw.mda', 'bin_raw': '/scratch/earneodo/s_b1515_23/sglx/ksort/2023-03-02/0/raw.bin'}}\n"
     ]
    },
    {
     "data": {
      "text/plain": [
       "['0831_g0', '1708_g0']"
      ]
     },
     "execution_count": 7,
     "metadata": {},
     "output_type": "execute_result"
    }
   ],
   "source": [
    "sess_epochs = et.list_sgl_epochs(sess_par)\n",
    "sess_epochs"
   ]
  },
  {
   "cell_type": "markdown",
   "metadata": {},
   "source": [
    "#### define pre-processing steps for each epoch and for the session"
   ]
  },
  {
   "cell_type": "code",
   "execution_count": 20,
   "metadata": {
    "tags": []
   },
   "outputs": [
    {
     "name": "stderr",
     "output_type": "stream",
     "text": [
      "2023-03-06 08:51:59,606 ceciestunepipe.util.spikeextractors.preprocess INFO     PREPROCESSING sess 2023-03-02 | epoch 0831_g0\n",
      "2023-03-06 08:51:59,607 ceciestunepipe.util.spikeextractors.preprocess INFO     getting extractors\n",
      "2023-03-06 08:51:59,612 ceciestunepipe.util.spikeextractors.preprocess INFO     Got sglx recordings for keys ['nidq']\n",
      "2023-03-06 08:51:59,613 ceciestunepipe.util.spikeextractors.preprocess INFO     Getting microphone channel(s) ['microphone_0', 'microphone_1']\n",
      "2023-03-06 08:52:04,948 ceciestunepipe.util.wavutil INFO     sampling rate 40000\n",
      "2023-03-06 08:52:04,950 ceciestunepipe.util.wavutil INFO     saving (2, 1241739564)-shaped array as wav in /mnt/sphere/speech_bci/derived_data/s_b1515_23/2023-03-02/sglx/0831_g0/wav_mic.wav\n",
      "2023-03-06 08:52:04,954 ceciestunepipe.util.wavutil INFO     Not saving the file as wav, going straight to numpy + dict\n",
      "2023-03-06 08:52:04,955 ceciestunepipe.util.wavutil INFO     saving (2, 1241739564)-shaped array as npy in /mnt/sphere/speech_bci/derived_data/s_b1515_23/2023-03-02/sglx/0831_g0/wav_mic.npy\n",
      "2023-03-06 08:52:04,956 ceciestunepipe.util.wavutil INFO     saving (1241739564, 2)-shaped array as npy in /mnt/sphere/speech_bci/derived_data/s_b1515_23/2023-03-02/sglx/0831_g0/wav_mic.npy\n",
      "2023-03-06 08:52:13,882 ceciestunepipe.util.wavutil INFO     Saving meta of npy array to /mnt/sphere/speech_bci/derived_data/s_b1515_23/2023-03-02/sglx/0831_g0/wav_mic-npy_meta.json\n",
      "2023-03-06 08:52:13,899 ceciestunepipe.util.wavutil INFO     Saving meta of npy array to /mnt/sphere/speech_bci/derived_data/s_b1515_23/2023-03-02/sglx/0831_g0/wav_mic-npy_meta.pickle\n",
      "2023-03-06 08:52:13,901 ceciestunepipe.util.spikeextractors.preprocess INFO     Getting adc channel(s) ['pressure']\n",
      "2023-03-06 08:52:13,902 ceciestunepipe.util.wavutil INFO     sampling rate 40000\n",
      "2023-03-06 08:52:13,903 ceciestunepipe.util.wavutil INFO     saving (1, 1241739564)-shaped array as wav in /mnt/sphere/speech_bci/derived_data/s_b1515_23/2023-03-02/sglx/0831_g0/wav_adc.wav\n",
      "2023-03-06 08:52:13,904 ceciestunepipe.util.wavutil INFO     Not saving the file as wav, going straight to numpy + dict\n",
      "2023-03-06 08:52:13,905 ceciestunepipe.util.wavutil INFO     saving (1, 1241739564)-shaped array as npy in /mnt/sphere/speech_bci/derived_data/s_b1515_23/2023-03-02/sglx/0831_g0/wav_adc.npy\n",
      "2023-03-06 08:52:13,906 ceciestunepipe.util.wavutil INFO     saving (1241739564, 1)-shaped array as npy in /mnt/sphere/speech_bci/derived_data/s_b1515_23/2023-03-02/sglx/0831_g0/wav_adc.npy\n",
      "2023-03-06 08:52:39,595 ceciestunepipe.util.wavutil INFO     Saving meta of npy array to /mnt/sphere/speech_bci/derived_data/s_b1515_23/2023-03-02/sglx/0831_g0/wav_adc-npy_meta.json\n",
      "2023-03-06 08:52:39,619 ceciestunepipe.util.wavutil INFO     Saving meta of npy array to /mnt/sphere/speech_bci/derived_data/s_b1515_23/2023-03-02/sglx/0831_g0/wav_adc-npy_meta.pickle\n",
      "2023-03-06 08:53:03,376 ceciestunepipe.util.spikeextractors.preprocess INFO     Getting sync channel(s) from nidaq streams: ['sync']\n",
      "2023-03-06 08:53:03,380 ceciestunepipe.util.spikeextractors.extractors.spikeglxrecordingextractor.spikeglxrecordingextractor INFO     getting ttl traces, chan [0 1 2 3 4 5 6 7]\n",
      "2023-03-06 08:53:39,516 ceciestunepipe.util.wavutil INFO     sampling rate 40000\n",
      "2023-03-06 08:53:39,518 ceciestunepipe.util.wavutil INFO     saving (1, 1241739564)-shaped array as wav in /mnt/sphere/speech_bci/derived_data/s_b1515_23/2023-03-02/sglx/0831_g0/wav_sync.wav\n",
      "2023-03-06 08:53:39,520 ceciestunepipe.util.wavutil INFO     Not saving the file as wav, going straight to numpy + dict\n",
      "2023-03-06 08:53:39,521 ceciestunepipe.util.wavutil INFO     saving (1, 1241739564)-shaped array as npy in /mnt/sphere/speech_bci/derived_data/s_b1515_23/2023-03-02/sglx/0831_g0/wav_sync.npy\n",
      "2023-03-06 08:53:39,522 ceciestunepipe.util.wavutil INFO     saving (1241739564, 1)-shaped array as npy in /mnt/sphere/speech_bci/derived_data/s_b1515_23/2023-03-02/sglx/0831_g0/wav_sync.npy\n",
      "2023-03-06 08:53:43,647 ceciestunepipe.util.wavutil INFO     Saving meta of npy array to /mnt/sphere/speech_bci/derived_data/s_b1515_23/2023-03-02/sglx/0831_g0/wav_sync-npy_meta.json\n",
      "2023-03-06 08:53:43,678 ceciestunepipe.util.wavutil INFO     Saving meta of npy array to /mnt/sphere/speech_bci/derived_data/s_b1515_23/2023-03-02/sglx/0831_g0/wav_sync-npy_meta.pickle\n",
      "2023-03-06 08:53:43,680 ceciestunepipe.util.spikeextractors.preprocess INFO     Getting sync events from the wav sync channel\n",
      "/mnt/cube/earneodo/repos/ceciestunepipe/ceciestunepipe/util/wavutil.py:87: UserWarning: Did not find wav file /mnt/sphere/speech_bci/derived_data/s_b1515_23/2023-03-02/sglx/0831_g0/wav_sync.wav. Will try loading npy + dict\n",
      "  warnings.warn('Did not find wav file {}. Will try loading npy + dict'.format(wav_path))\n",
      "2023-03-06 08:53:43,682 ceciestunepipe.util.wavutil INFO     skipping wav, loading npy instead from /mnt/sphere/speech_bci/derived_data/s_b1515_23/2023-03-02/sglx/0831_g0/wav_sync.npy\n",
      "2023-03-06 08:53:43,683 ceciestunepipe.util.wavutil INFO     loading npy array from /mnt/sphere/speech_bci/derived_data/s_b1515_23/2023-03-02/sglx/0831_g0/wav_sync.npy\n",
      "2023-03-06 08:53:53,236 ceciestunepipe.util.spikeextractors.preprocess INFO     saving sync events of the wav channel to /mnt/sphere/speech_bci/derived_data/s_b1515_23/2023-03-02/sglx/0831_g0/wav_sync_evt.npy\n",
      "2023-03-06 08:53:53,239 ceciestunepipe.util.spikeextractors.preprocess INFO     saving t0 for wav channel to /mnt/sphere/speech_bci/derived_data/s_b1515_23/2023-03-02/sglx/0831_g0/wav_t0.npy\n",
      "2023-03-06 08:54:21,782 ceciestunepipe.util.spikeextractors.preprocess INFO     saving sync nidaq dict to /mnt/sphere/speech_bci/derived_data/s_b1515_23/2023-03-02/sglx/0831_g0/wav_sync_dict.pkl\n",
      "2023-03-06 08:54:21,786 ceciestunepipe.util.spikeextractors.preprocess INFO     Getting sync signals for imec streams: []\n",
      "2023-03-06 08:54:21,787 ceciestunepipe.util.spikeextractors.preprocess INFO     getting syn patterns for nidq\n",
      "2023-03-06 08:54:21,788 ceciestunepipe.util.spikeextractors.preprocess INFO     File /mnt/sphere/speech_bci/derived_data/s_b1515_23/2023-03-02/sglx/0831_g0/nidq_sync_dict.pkl not found or forced computation, getting the events\n",
      "2023-03-06 08:54:21,789 ceciestunepipe.util.spikeextractors.extractors.spikeglxrecordingextractor.spikeglxrecordingextractor INFO     getting ttl events, chan 0\n",
      "/mnt/cube/earneodo/envs/pakhi/ceciestunepipe/lib/python3.8/site-packages/numpy/core/fromnumeric.py:3440: RuntimeWarning: Mean of empty slice.\n",
      "  return _methods._mean(a, axis=axis, dtype=dtype,\n",
      "/mnt/cube/earneodo/envs/pakhi/ceciestunepipe/lib/python3.8/site-packages/numpy/core/_methods.py:189: RuntimeWarning: invalid value encountered in double_scalars\n",
      "  ret = ret.dtype.type(ret / rcount)\n",
      "2023-03-06 08:54:44,424 ceciestunepipe.util.spikeextractors.preprocess INFO     saving events array to /mnt/sphere/speech_bci/derived_data/s_b1515_23/2023-03-02/sglx/0831_g0/nidq_sync_evt.npy\n",
      "2023-03-06 08:54:44,427 ceciestunepipe.util.spikeextractors.preprocess INFO     saving t_0 array to /mnt/sphere/speech_bci/derived_data/s_b1515_23/2023-03-02/sglx/0831_g0/nidq_t0.npy\n",
      "2023-03-06 08:54:59,079 ceciestunepipe.util.spikeextractors.preprocess INFO     saving sync dict to /mnt/sphere/speech_bci/derived_data/s_b1515_23/2023-03-02/sglx/0831_g0/nidq_sync_dict.pkl\n",
      "2023-03-06 08:54:59,081 ceciestunepipe.util.spikeextractors.preprocess INFO     loading syn_dict from /mnt/sphere/speech_bci/derived_data/s_b1515_23/2023-03-02/sglx/0831_g0/nidq_sync_dict.pkl\n",
      "2023-03-06 08:54:59,086 ceciestunepipe.util.spikeextractors.preprocess INFO     getting syn patterns for wav\n",
      "2023-03-06 08:54:59,087 ceciestunepipe.util.spikeextractors.preprocess INFO     loading syn_dict from /mnt/sphere/speech_bci/derived_data/s_b1515_23/2023-03-02/sglx/0831_g0/wav_sync_dict.pkl\n",
      "2023-03-06 08:54:59,095 ceciestunepipe.util.spikeextractors.preprocess INFO     saved epoch preprocessing parameters to /mnt/sphere/speech_bci/derived_data/s_b1515_23/2023-03-02/sglx/0831_g0/preprocess_par.pickle\n"
     ]
    }
   ],
   "source": [
    "reload(wu)\n",
    "reload(pre)\n",
    "one_epoch_dict = pre.preprocess_run(sess_par, exp_struct, sess_epochs[0], skip_wav=sess_par['skip_wav'])"
   ]
  },
  {
   "cell_type": "code",
   "execution_count": 22,
   "metadata": {},
   "outputs": [
    {
     "name": "stdout",
     "output_type": "stream",
     "text": [
      "nidq_sync_dict.pkl\t wav_stim.npy\n",
      "nidq_sync_evt.npy\t wav_stimnpy_meta.json\n",
      "nidq_t0.npy\t\t wav_stimnpy_meta.pickle\n",
      "preprocess_par.pickle\t wav_stim_sync_sine_ttl_evt.npy\n",
      "wav_adc.npy\t\t wav_stim_sync_sine_ttl.npy\n",
      "wav_adc-npy_meta.json\t wav_stim_sync_sine_ttl_t.npy\n",
      "wav_adcnpy_meta.json\t wav_sync_dict.pkl\n",
      "wav_adc-npy_meta.pickle  wav_sync_evt.npy\n",
      "wav_adcnpy_meta.pickle\t wav_sync.npy\n",
      "wav_mic.npy\t\t wav_sync-npy_meta.json\n",
      "wav_mic-npy_meta.json\t wav_syncnpy_meta.json\n",
      "wav_micnpy_meta.json\t wav_sync-npy_meta.pickle\n",
      "wav_mic-npy_meta.pickle  wav_syncnpy_meta.pickle\n",
      "wav_micnpy_meta.pickle\t wav_t0.npy\n",
      "wav_mic.wav\n"
     ]
    }
   ],
   "source": [
    "!ls /mnt/sphere/speech_bci/derived_data/s_b1515_23/2023-03-02/sglx/0831_g0/"
   ]
  },
  {
   "cell_type": "code",
   "execution_count": 23,
   "metadata": {},
   "outputs": [],
   "source": [
    "wav_path = '/mnt/sphere/speech_bci/derived_data/s_b1515_23/2023-03-02/sglx/0831_g0/wav_mic.wav'\n",
    "npy_path = '/mnt/sphere/speech_bci/derived_data/s_b1515_23/2023-03-02/sglx/0831_g0/wav_mic.npy'\n",
    "pkl_path = '/mnt/sphere/speech_bci/derived_data/s_b1515_23/2023-03-02/sglx/0831_g0/wav_mic-npy_meta.pickle'"
   ]
  },
  {
   "cell_type": "code",
   "execution_count": 24,
   "metadata": {},
   "outputs": [
    {
     "name": "stdout",
     "output_type": "stream",
     "text": [
      "Automatic pdb calling has been turned OFF\n"
     ]
    }
   ],
   "source": [
    "pdb"
   ]
  },
  {
   "cell_type": "code",
   "execution_count": 25,
   "metadata": {},
   "outputs": [
    {
     "name": "stderr",
     "output_type": "stream",
     "text": [
      "2023-03-06 08:57:58,210 ceciestunepipe.util.wavutil INFO     skipping wav, loading npy instead from /mnt/sphere/speech_bci/derived_data/s_b1515_23/2023-03-02/sglx/0831_g0/wav_mic.npy\n",
      "2023-03-06 08:57:58,212 ceciestunepipe.util.wavutil INFO     loading npy array from /mnt/sphere/speech_bci/derived_data/s_b1515_23/2023-03-02/sglx/0831_g0/wav_mic.npy\n"
     ]
    },
    {
     "data": {
      "text/plain": [
       "(40000, array([-63,  94,   5, ..., -14,  95, -38], dtype=int16))"
      ]
     },
     "execution_count": 25,
     "metadata": {},
     "output_type": "execute_result"
    }
   ],
   "source": [
    "wu.read_wav_chan(wav_path, skip_wav=True)"
   ]
  },
  {
   "cell_type": "code",
   "execution_count": 27,
   "metadata": {
    "tags": []
   },
   "outputs": [
    {
     "name": "stderr",
     "output_type": "stream",
     "text": [
      "2023-03-06 09:00:26,401 root         INFO     pre-process all runs of sess 2023-03-02\n",
      "2023-03-06 09:00:26,403 ceciestunepipe.file.bcistructure INFO     {'folders': {'bird': '/mnt/sphere/speech_bci/raw_data/s_b1515_23', 'raw': '/mnt/sphere/speech_bci/raw_data/s_b1515_23/2023-03-02', 'sglx': '/mnt/sphere/speech_bci/raw_data/s_b1515_23/2023-03-02/sglx', 'kwik': '/scratch/earneodo/s_b1515_23/sglx/kwik/2023-03-02', 'processed': '/mnt/sphere/speech_bci/processed_data/s_b1515_23/2023-03-02/sglx', 'derived': '/mnt/sphere/speech_bci/derived_data/s_b1515_23/2023-03-02/sglx', 'tmp': '/scratch/earneodo/tmp', 'msort': '/scratch/earneodo/s_b1515_23/sglx/msort/2023-03-02', 'ksort': '/scratch/earneodo/s_b1515_23/sglx/ksort/2023-03-02/0', 'sort': '/mnt/sphere/speech_bci/derived_data/s_b1515_23/2023-03-02/sglx/0'}, 'files': {'par': '/scratch/earneodo/s_b1515_23/sglx/ksort/2023-03-02/0/params.json', 'set': '/mnt/sphere/speech_bci/raw_data/s_b1515_23/2023-03-02/sglx/settings.isf', 'rig': '/mnt/sphere/speech_bci/raw_data/s_b1515_23/2023-03-02/sglx/rig.json', 'kwd': '/scratch/earneodo/s_b1515_23/sglx/kwik/2023-03-02/stream.kwd', 'kwik': '/scratch/earneodo/s_b1515_23/sglx/kwik/2023-03-02/sort_0/spikes.kwik', 'kwe': '/scratch/earneodo/s_b1515_23/sglx/kwik/2023-03-02/events.kwe', 'dat_mic': '/mnt/sphere/speech_bci/processed_data/s_b1515_23/2023-03-02/sglx/dat_mic.mat', 'dat_ap': '/mnt/sphere/speech_bci/processed_data/s_b1515_23/2023-03-02/sglx/dat_ap.mat', 'allevents': '/mnt/sphere/speech_bci/processed_data/s_b1515_23/2023-03-02/sglx/dat_all.pkl', 'wav_mic': '/mnt/sphere/speech_bci/derived_data/s_b1515_23/2023-03-02/sglx/wav_mic.wav', 'mda_raw': '/scratch/earneodo/s_b1515_23/sglx/msort/2023-03-02/raw.mda', 'bin_raw': '/scratch/earneodo/s_b1515_23/sglx/ksort/2023-03-02/0/raw.bin'}}\n",
      "2023-03-06 09:00:26,406 root         INFO     found epochs: ['0831_g0', '1708_g0']\n",
      "2023-03-06 09:00:26,407 ceciestunepipe.util.spikeextractors.preprocess INFO     PREPROCESSING sess 2023-03-02 | epoch 0831_g0\n",
      "2023-03-06 09:00:26,407 ceciestunepipe.util.spikeextractors.preprocess INFO     getting extractors\n",
      "2023-03-06 09:00:26,413 ceciestunepipe.util.spikeextractors.preprocess INFO     Got sglx recordings for keys ['nidq']\n",
      "2023-03-06 09:00:26,414 ceciestunepipe.util.spikeextractors.preprocess INFO     Getting microphone channel(s) ['microphone_0', 'microphone_1']\n",
      "2023-03-06 09:00:31,692 ceciestunepipe.util.wavutil INFO     sampling rate 40000\n",
      "2023-03-06 09:00:31,694 ceciestunepipe.util.wavutil INFO     saving (2, 1241739564)-shaped array as wav in /mnt/sphere/speech_bci/derived_data/s_b1515_23/2023-03-02/sglx/0831_g0/wav_mic.wav\n",
      "2023-03-06 09:00:31,695 ceciestunepipe.util.wavutil INFO     Not saving the file as wav, going straight to numpy + dict\n",
      "2023-03-06 09:00:31,696 ceciestunepipe.util.wavutil INFO     saving (2, 1241739564)-shaped array as npy in /mnt/sphere/speech_bci/derived_data/s_b1515_23/2023-03-02/sglx/0831_g0/wav_mic.npy\n",
      "2023-03-06 09:00:31,697 ceciestunepipe.util.wavutil INFO     saving (1241739564, 2)-shaped array as npy in /mnt/sphere/speech_bci/derived_data/s_b1515_23/2023-03-02/sglx/0831_g0/wav_mic.npy\n",
      "2023-03-06 09:00:39,300 ceciestunepipe.util.wavutil INFO     Saving meta of npy array to /mnt/sphere/speech_bci/derived_data/s_b1515_23/2023-03-02/sglx/0831_g0/wav_mic-npy_meta.json\n",
      "2023-03-06 09:00:39,303 ceciestunepipe.util.wavutil INFO     Saving meta of npy array to /mnt/sphere/speech_bci/derived_data/s_b1515_23/2023-03-02/sglx/0831_g0/wav_mic-npy_meta.pickle\n",
      "2023-03-06 09:00:39,305 ceciestunepipe.util.spikeextractors.preprocess INFO     Getting adc channel(s) ['pressure']\n",
      "2023-03-06 09:00:39,306 ceciestunepipe.util.wavutil INFO     sampling rate 40000\n",
      "2023-03-06 09:00:39,306 ceciestunepipe.util.wavutil INFO     saving (1, 1241739564)-shaped array as wav in /mnt/sphere/speech_bci/derived_data/s_b1515_23/2023-03-02/sglx/0831_g0/wav_adc.wav\n",
      "2023-03-06 09:00:39,308 ceciestunepipe.util.wavutil INFO     Not saving the file as wav, going straight to numpy + dict\n",
      "2023-03-06 09:00:39,309 ceciestunepipe.util.wavutil INFO     saving (1, 1241739564)-shaped array as npy in /mnt/sphere/speech_bci/derived_data/s_b1515_23/2023-03-02/sglx/0831_g0/wav_adc.npy\n",
      "2023-03-06 09:00:39,310 ceciestunepipe.util.wavutil INFO     saving (1241739564, 1)-shaped array as npy in /mnt/sphere/speech_bci/derived_data/s_b1515_23/2023-03-02/sglx/0831_g0/wav_adc.npy\n",
      "2023-03-06 09:01:03,572 ceciestunepipe.util.wavutil INFO     Saving meta of npy array to /mnt/sphere/speech_bci/derived_data/s_b1515_23/2023-03-02/sglx/0831_g0/wav_adc-npy_meta.json\n",
      "2023-03-06 09:01:03,581 ceciestunepipe.util.wavutil INFO     Saving meta of npy array to /mnt/sphere/speech_bci/derived_data/s_b1515_23/2023-03-02/sglx/0831_g0/wav_adc-npy_meta.pickle\n",
      "2023-03-06 09:01:27,176 ceciestunepipe.util.spikeextractors.preprocess INFO     Getting sync channel(s) from nidaq streams: ['sync']\n",
      "2023-03-06 09:01:27,180 ceciestunepipe.util.spikeextractors.extractors.spikeglxrecordingextractor.spikeglxrecordingextractor INFO     getting ttl traces, chan [0 1 2 3 4 5 6 7]\n",
      "2023-03-06 09:01:56,595 ceciestunepipe.util.wavutil INFO     sampling rate 40000\n",
      "2023-03-06 09:01:56,596 ceciestunepipe.util.wavutil INFO     saving (1, 1241739564)-shaped array as wav in /mnt/sphere/speech_bci/derived_data/s_b1515_23/2023-03-02/sglx/0831_g0/wav_sync.wav\n",
      "2023-03-06 09:01:56,599 ceciestunepipe.util.wavutil INFO     Not saving the file as wav, going straight to numpy + dict\n",
      "2023-03-06 09:01:56,600 ceciestunepipe.util.wavutil INFO     saving (1, 1241739564)-shaped array as npy in /mnt/sphere/speech_bci/derived_data/s_b1515_23/2023-03-02/sglx/0831_g0/wav_sync.npy\n",
      "2023-03-06 09:01:56,600 ceciestunepipe.util.wavutil INFO     saving (1241739564, 1)-shaped array as npy in /mnt/sphere/speech_bci/derived_data/s_b1515_23/2023-03-02/sglx/0831_g0/wav_sync.npy\n",
      "2023-03-06 09:02:00,439 ceciestunepipe.util.wavutil INFO     Saving meta of npy array to /mnt/sphere/speech_bci/derived_data/s_b1515_23/2023-03-02/sglx/0831_g0/wav_sync-npy_meta.json\n",
      "2023-03-06 09:02:00,463 ceciestunepipe.util.wavutil INFO     Saving meta of npy array to /mnt/sphere/speech_bci/derived_data/s_b1515_23/2023-03-02/sglx/0831_g0/wav_sync-npy_meta.pickle\n",
      "2023-03-06 09:02:00,465 ceciestunepipe.util.spikeextractors.preprocess INFO     Getting sync events from the wav sync channel\n",
      "/mnt/cube/earneodo/repos/ceciestunepipe/ceciestunepipe/util/wavutil.py:87: UserWarning: Did not find wav file /mnt/sphere/speech_bci/derived_data/s_b1515_23/2023-03-02/sglx/0831_g0/wav_sync.wav. Will try loading npy + dict\n",
      "  warnings.warn('Did not find wav file {}. Will try loading npy + dict'.format(wav_path))\n",
      "2023-03-06 09:02:00,467 ceciestunepipe.util.wavutil INFO     skipping wav, loading npy instead from /mnt/sphere/speech_bci/derived_data/s_b1515_23/2023-03-02/sglx/0831_g0/wav_sync.npy\n",
      "2023-03-06 09:02:00,468 ceciestunepipe.util.wavutil INFO     loading npy array from /mnt/sphere/speech_bci/derived_data/s_b1515_23/2023-03-02/sglx/0831_g0/wav_sync.npy\n",
      "2023-03-06 09:02:06,156 ceciestunepipe.util.spikeextractors.preprocess INFO     saving sync events of the wav channel to /mnt/sphere/speech_bci/derived_data/s_b1515_23/2023-03-02/sglx/0831_g0/wav_sync_evt.npy\n",
      "2023-03-06 09:02:06,158 ceciestunepipe.util.spikeextractors.preprocess INFO     saving t0 for wav channel to /mnt/sphere/speech_bci/derived_data/s_b1515_23/2023-03-02/sglx/0831_g0/wav_t0.npy\n",
      "2023-03-06 09:02:24,301 ceciestunepipe.util.spikeextractors.preprocess INFO     saving sync nidaq dict to /mnt/sphere/speech_bci/derived_data/s_b1515_23/2023-03-02/sglx/0831_g0/wav_sync_dict.pkl\n",
      "2023-03-06 09:02:24,306 ceciestunepipe.util.spikeextractors.preprocess INFO     Getting sync signals for imec streams: []\n",
      "2023-03-06 09:02:24,307 ceciestunepipe.util.spikeextractors.preprocess INFO     getting syn patterns for nidq\n",
      "2023-03-06 09:02:24,307 ceciestunepipe.util.spikeextractors.preprocess INFO     loading syn_dict from /mnt/sphere/speech_bci/derived_data/s_b1515_23/2023-03-02/sglx/0831_g0/nidq_sync_dict.pkl\n",
      "2023-03-06 09:02:24,313 ceciestunepipe.util.spikeextractors.preprocess INFO     getting syn patterns for wav\n",
      "2023-03-06 09:02:24,313 ceciestunepipe.util.spikeextractors.preprocess INFO     loading syn_dict from /mnt/sphere/speech_bci/derived_data/s_b1515_23/2023-03-02/sglx/0831_g0/wav_sync_dict.pkl\n",
      "2023-03-06 09:02:24,318 ceciestunepipe.util.spikeextractors.preprocess INFO     saved epoch preprocessing parameters to /mnt/sphere/speech_bci/derived_data/s_b1515_23/2023-03-02/sglx/0831_g0/preprocess_par.pickle\n",
      "2023-03-06 09:02:24,341 ceciestunepipe.util.spikeextractors.preprocess INFO     PREPROCESSING sess 2023-03-02 | epoch 1708_g0\n",
      "2023-03-06 09:02:24,341 ceciestunepipe.util.spikeextractors.preprocess INFO     getting extractors\n",
      "2023-03-06 09:02:24,346 ceciestunepipe.util.spikeextractors.preprocess INFO     Got sglx recordings for keys ['nidq']\n",
      "2023-03-06 09:02:24,347 ceciestunepipe.util.spikeextractors.preprocess INFO     Getting microphone channel(s) ['microphone_0', 'microphone_1']\n",
      "2023-03-06 09:02:30,409 ceciestunepipe.util.wavutil INFO     sampling rate 40000\n",
      "2023-03-06 09:02:30,411 ceciestunepipe.util.wavutil INFO     saving (2, 2152721750)-shaped array as wav in /mnt/sphere/speech_bci/derived_data/s_b1515_23/2023-03-02/sglx/1708_g0/wav_mic.wav\n",
      "2023-03-06 09:02:30,413 ceciestunepipe.util.wavutil INFO     Not saving the file as wav, going straight to numpy + dict\n",
      "2023-03-06 09:02:30,413 ceciestunepipe.util.wavutil INFO     saving (2, 2152721750)-shaped array as npy in /mnt/sphere/speech_bci/derived_data/s_b1515_23/2023-03-02/sglx/1708_g0/wav_mic.npy\n",
      "2023-03-06 09:02:30,414 ceciestunepipe.util.wavutil INFO     saving (2152721750, 2)-shaped array as npy in /mnt/sphere/speech_bci/derived_data/s_b1515_23/2023-03-02/sglx/1708_g0/wav_mic.npy\n",
      "2023-03-06 09:02:42,423 ceciestunepipe.util.wavutil INFO     Saving meta of npy array to /mnt/sphere/speech_bci/derived_data/s_b1515_23/2023-03-02/sglx/1708_g0/wav_mic-npy_meta.json\n",
      "2023-03-06 09:02:42,425 ceciestunepipe.util.wavutil INFO     Saving meta of npy array to /mnt/sphere/speech_bci/derived_data/s_b1515_23/2023-03-02/sglx/1708_g0/wav_mic-npy_meta.pickle\n",
      "2023-03-06 09:02:42,446 ceciestunepipe.util.spikeextractors.preprocess INFO     Getting adc channel(s) ['pressure']\n",
      "2023-03-06 09:02:42,448 ceciestunepipe.util.wavutil INFO     sampling rate 40000\n",
      "2023-03-06 09:02:42,448 ceciestunepipe.util.wavutil INFO     saving (1, 2152721750)-shaped array as wav in /mnt/sphere/speech_bci/derived_data/s_b1515_23/2023-03-02/sglx/1708_g0/wav_adc.wav\n",
      "2023-03-06 09:02:42,450 ceciestunepipe.util.wavutil INFO     Not saving the file as wav, going straight to numpy + dict\n",
      "2023-03-06 09:02:42,450 ceciestunepipe.util.wavutil INFO     saving (1, 2152721750)-shaped array as npy in /mnt/sphere/speech_bci/derived_data/s_b1515_23/2023-03-02/sglx/1708_g0/wav_adc.npy\n",
      "2023-03-06 09:02:42,451 ceciestunepipe.util.wavutil INFO     saving (2152721750, 1)-shaped array as npy in /mnt/sphere/speech_bci/derived_data/s_b1515_23/2023-03-02/sglx/1708_g0/wav_adc.npy\n",
      "2023-03-06 09:03:25,052 ceciestunepipe.util.wavutil INFO     Saving meta of npy array to /mnt/sphere/speech_bci/derived_data/s_b1515_23/2023-03-02/sglx/1708_g0/wav_adc-npy_meta.json\n",
      "2023-03-06 09:03:25,069 ceciestunepipe.util.wavutil INFO     Saving meta of npy array to /mnt/sphere/speech_bci/derived_data/s_b1515_23/2023-03-02/sglx/1708_g0/wav_adc-npy_meta.pickle\n",
      "2023-03-06 09:04:07,582 ceciestunepipe.util.spikeextractors.preprocess INFO     Getting sync channel(s) from nidaq streams: ['sync']\n",
      "2023-03-06 09:04:07,585 ceciestunepipe.util.spikeextractors.extractors.spikeglxrecordingextractor.spikeglxrecordingextractor INFO     getting ttl traces, chan [0 1 2 3 4 5 6 7]\n",
      "2023-03-06 09:04:56,542 ceciestunepipe.util.wavutil INFO     sampling rate 40000\n",
      "2023-03-06 09:04:56,544 ceciestunepipe.util.wavutil INFO     saving (1, 2152721750)-shaped array as wav in /mnt/sphere/speech_bci/derived_data/s_b1515_23/2023-03-02/sglx/1708_g0/wav_sync.wav\n",
      "2023-03-06 09:04:56,548 ceciestunepipe.util.wavutil INFO     Not saving the file as wav, going straight to numpy + dict\n",
      "2023-03-06 09:04:56,549 ceciestunepipe.util.wavutil INFO     saving (1, 2152721750)-shaped array as npy in /mnt/sphere/speech_bci/derived_data/s_b1515_23/2023-03-02/sglx/1708_g0/wav_sync.npy\n",
      "2023-03-06 09:04:56,549 ceciestunepipe.util.wavutil INFO     saving (2152721750, 1)-shaped array as npy in /mnt/sphere/speech_bci/derived_data/s_b1515_23/2023-03-02/sglx/1708_g0/wav_sync.npy\n",
      "2023-03-06 09:05:02,745 ceciestunepipe.util.wavutil INFO     Saving meta of npy array to /mnt/sphere/speech_bci/derived_data/s_b1515_23/2023-03-02/sglx/1708_g0/wav_sync-npy_meta.json\n",
      "2023-03-06 09:05:02,747 ceciestunepipe.util.wavutil INFO     Saving meta of npy array to /mnt/sphere/speech_bci/derived_data/s_b1515_23/2023-03-02/sglx/1708_g0/wav_sync-npy_meta.pickle\n",
      "2023-03-06 09:05:02,750 ceciestunepipe.util.spikeextractors.preprocess INFO     Getting sync events from the wav sync channel\n",
      "/mnt/cube/earneodo/repos/ceciestunepipe/ceciestunepipe/util/wavutil.py:87: UserWarning: Did not find wav file /mnt/sphere/speech_bci/derived_data/s_b1515_23/2023-03-02/sglx/1708_g0/wav_sync.wav. Will try loading npy + dict\n",
      "  warnings.warn('Did not find wav file {}. Will try loading npy + dict'.format(wav_path))\n",
      "2023-03-06 09:05:02,752 ceciestunepipe.util.wavutil INFO     skipping wav, loading npy instead from /mnt/sphere/speech_bci/derived_data/s_b1515_23/2023-03-02/sglx/1708_g0/wav_sync.npy\n",
      "2023-03-06 09:05:02,752 ceciestunepipe.util.wavutil INFO     loading npy array from /mnt/sphere/speech_bci/derived_data/s_b1515_23/2023-03-02/sglx/1708_g0/wav_sync.npy\n",
      "2023-03-06 09:05:14,957 ceciestunepipe.util.spikeextractors.preprocess INFO     saving sync events of the wav channel to /mnt/sphere/speech_bci/derived_data/s_b1515_23/2023-03-02/sglx/1708_g0/wav_sync_evt.npy\n",
      "2023-03-06 09:05:14,965 ceciestunepipe.util.spikeextractors.preprocess INFO     saving t0 for wav channel to /mnt/sphere/speech_bci/derived_data/s_b1515_23/2023-03-02/sglx/1708_g0/wav_t0.npy\n",
      "2023-03-06 09:05:48,049 ceciestunepipe.util.spikeextractors.preprocess INFO     saving sync nidaq dict to /mnt/sphere/speech_bci/derived_data/s_b1515_23/2023-03-02/sglx/1708_g0/wav_sync_dict.pkl\n",
      "2023-03-06 09:05:48,054 ceciestunepipe.util.spikeextractors.preprocess INFO     Getting sync signals for imec streams: []\n",
      "2023-03-06 09:05:48,055 ceciestunepipe.util.spikeextractors.preprocess INFO     getting syn patterns for nidq\n",
      "2023-03-06 09:05:48,056 ceciestunepipe.util.spikeextractors.preprocess INFO     File /mnt/sphere/speech_bci/derived_data/s_b1515_23/2023-03-02/sglx/1708_g0/nidq_sync_dict.pkl not found or forced computation, getting the events\n",
      "2023-03-06 09:05:48,058 ceciestunepipe.util.spikeextractors.extractors.spikeglxrecordingextractor.spikeglxrecordingextractor INFO     getting ttl events, chan 0\n",
      "/mnt/cube/earneodo/envs/pakhi/ceciestunepipe/lib/python3.8/site-packages/numpy/core/fromnumeric.py:3440: RuntimeWarning: Mean of empty slice.\n",
      "  return _methods._mean(a, axis=axis, dtype=dtype,\n",
      "/mnt/cube/earneodo/envs/pakhi/ceciestunepipe/lib/python3.8/site-packages/numpy/core/_methods.py:189: RuntimeWarning: invalid value encountered in double_scalars\n",
      "  ret = ret.dtype.type(ret / rcount)\n",
      "2023-03-06 09:06:21,961 ceciestunepipe.util.spikeextractors.preprocess INFO     saving events array to /mnt/sphere/speech_bci/derived_data/s_b1515_23/2023-03-02/sglx/1708_g0/nidq_sync_evt.npy\n",
      "2023-03-06 09:06:21,981 ceciestunepipe.util.spikeextractors.preprocess INFO     saving t_0 array to /mnt/sphere/speech_bci/derived_data/s_b1515_23/2023-03-02/sglx/1708_g0/nidq_t0.npy\n",
      "2023-03-06 09:06:43,711 ceciestunepipe.util.spikeextractors.preprocess INFO     saving sync dict to /mnt/sphere/speech_bci/derived_data/s_b1515_23/2023-03-02/sglx/1708_g0/nidq_sync_dict.pkl\n",
      "2023-03-06 09:06:43,713 ceciestunepipe.util.spikeextractors.preprocess INFO     loading syn_dict from /mnt/sphere/speech_bci/derived_data/s_b1515_23/2023-03-02/sglx/1708_g0/nidq_sync_dict.pkl\n",
      "2023-03-06 09:06:43,719 ceciestunepipe.util.spikeextractors.preprocess INFO     getting syn patterns for wav\n",
      "2023-03-06 09:06:43,720 ceciestunepipe.util.spikeextractors.preprocess INFO     loading syn_dict from /mnt/sphere/speech_bci/derived_data/s_b1515_23/2023-03-02/sglx/1708_g0/wav_sync_dict.pkl\n",
      "2023-03-06 09:06:43,725 ceciestunepipe.util.spikeextractors.preprocess INFO     saved epoch preprocessing parameters to /mnt/sphere/speech_bci/derived_data/s_b1515_23/2023-03-02/sglx/1708_g0/preprocess_par.pickle\n"
     ]
    }
   ],
   "source": [
    "### sequentially process all runs of the sessions\n",
    "def preprocess_session(sess_par: dict):\n",
    "    logger.info('pre-process all runs of sess ' + sess_par['sess'])\n",
    "    # get exp struct\n",
    "    sess_struct = et.get_exp_struct(sess_par['bird'], sess_par['sess'], sort=sess_par['sort'])\n",
    "    # list the epochs\n",
    "    sess_epochs = et.list_sgl_epochs(sess_par)\n",
    "    logger.info('found epochs: {}'.format(sess_epochs))\n",
    "    # preprocess all epochs\n",
    "    epoch_dict_list = []\n",
    "    for i_ep, epoch in enumerate(sess_epochs):\n",
    "        try:\n",
    "            exp_struct = et.sgl_struct(sess_par, epoch)\n",
    "            one_epoch_dict = pre.preprocess_run(sess_par, exp_struct, epoch, skip_wav=sess_par['skip_wav'])\n",
    "            epoch_dict_list.append(one_epoch_dict)\n",
    "        except Exception as exc:\n",
    "            warnings.warn('Error in epoch {}'.format(epoch), UserWarning)\n",
    "            logger.info(traceback.format_exc)\n",
    "            logger.info(exc)\n",
    "            logger.info('Session {} epoch {} could not be preprocessed'.format(sess_par['sess'], epoch))\n",
    "        \n",
    "    return epoch_dict_list\n",
    "\n",
    "all_epoch_list = preprocess_session(sess_par)"
   ]
  },
  {
   "cell_type": "markdown",
   "metadata": {},
   "source": [
    "## Process multiple sessions"
   ]
  },
  {
   "cell_type": "code",
   "execution_count": 8,
   "metadata": {
    "tags": []
   },
   "outputs": [],
   "source": [
    "sess_list = all_bird_sess\n",
    "# fist implant, right hemisphere\n",
    "#sess_list = ['2021-06-24', '2021-06-25', '2021-06-26', '2021-06-27', '2021-06-28', '2021-06-29', '2021-06-30']\n",
    "sess_list = ['2023-03-02'] # pressure \n",
    "sess_list = ['2023-02-22', '2023-02-23', '2023-02-24', '2023-02-27',\n",
    "            '2023-03-03', '2023-03-04', '2023-03-05'] # pressure "
   ]
  },
  {
   "cell_type": "code",
   "execution_count": 55,
   "metadata": {
    "tags": []
   },
   "outputs": [
    {
     "name": "stderr",
     "output_type": "stream",
     "text": [
      "2023-03-06 10:10:49,329 root         INFO     pre-process all runs of sess 2023-02-22\n",
      "2023-03-06 10:10:49,331 ceciestunepipe.file.bcistructure INFO     {'folders': {'bird': '/mnt/sphere/speech_bci/raw_data/s_b1515_23', 'raw': '/mnt/sphere/speech_bci/raw_data/s_b1515_23/2023-02-22', 'sglx': '/mnt/sphere/speech_bci/raw_data/s_b1515_23/2023-02-22/sglx', 'kwik': '/scratch/earneodo/s_b1515_23/sglx/kwik/2023-02-22', 'processed': '/mnt/sphere/speech_bci/processed_data/s_b1515_23/2023-02-22/sglx', 'derived': '/mnt/sphere/speech_bci/derived_data/s_b1515_23/2023-02-22/sglx', 'tmp': '/scratch/earneodo/tmp', 'msort': '/scratch/earneodo/s_b1515_23/sglx/msort/2023-02-22', 'ksort': '/scratch/earneodo/s_b1515_23/sglx/ksort/2023-02-22/0', 'sort': '/mnt/sphere/speech_bci/derived_data/s_b1515_23/2023-02-22/sglx/0'}, 'files': {'par': '/scratch/earneodo/s_b1515_23/sglx/ksort/2023-02-22/0/params.json', 'set': '/mnt/sphere/speech_bci/raw_data/s_b1515_23/2023-02-22/sglx/settings.isf', 'rig': '/mnt/sphere/speech_bci/raw_data/s_b1515_23/2023-02-22/sglx/rig.json', 'kwd': '/scratch/earneodo/s_b1515_23/sglx/kwik/2023-02-22/stream.kwd', 'kwik': '/scratch/earneodo/s_b1515_23/sglx/kwik/2023-02-22/sort_0/spikes.kwik', 'kwe': '/scratch/earneodo/s_b1515_23/sglx/kwik/2023-02-22/events.kwe', 'dat_mic': '/mnt/sphere/speech_bci/processed_data/s_b1515_23/2023-02-22/sglx/dat_mic.mat', 'dat_ap': '/mnt/sphere/speech_bci/processed_data/s_b1515_23/2023-02-22/sglx/dat_ap.mat', 'allevents': '/mnt/sphere/speech_bci/processed_data/s_b1515_23/2023-02-22/sglx/dat_all.pkl', 'wav_mic': '/mnt/sphere/speech_bci/derived_data/s_b1515_23/2023-02-22/sglx/wav_mic.wav', 'mda_raw': '/scratch/earneodo/s_b1515_23/sglx/msort/2023-02-22/raw.mda', 'bin_raw': '/scratch/earneodo/s_b1515_23/sglx/ksort/2023-02-22/0/raw.bin'}}\n",
      "2023-03-06 10:10:49,355 root         INFO     found epochs: ['1429_g0']\n",
      "2023-03-06 10:10:49,356 ceciestunepipe.util.spikeextractors.preprocess INFO     PREPROCESSING sess 2023-02-22 | epoch 1429_g0\n",
      "2023-03-06 10:10:49,357 ceciestunepipe.util.spikeextractors.preprocess INFO     getting extractors\n",
      "2023-03-06 10:10:49,442 ceciestunepipe.util.spikeextractors.preprocess INFO     Got sglx recordings for keys ['nidq']\n",
      "2023-03-06 10:10:49,443 ceciestunepipe.util.spikeextractors.preprocess INFO     Getting microphone channel(s) ['microphone_0', 'microphone_1']\n",
      "2023-03-06 10:11:05,141 ceciestunepipe.util.wavutil INFO     sampling rate 40000\n",
      "2023-03-06 10:11:05,143 ceciestunepipe.util.wavutil INFO     saving (2, 557604950)-shaped array as wav in /mnt/sphere/speech_bci/derived_data/s_b1515_23/2023-02-22/sglx/1429_g0/wav_mic.wav\n",
      "2023-03-06 10:11:05,148 ceciestunepipe.util.wavutil INFO     Not saving the file as wav, going straight to numpy + dict\n",
      "2023-03-06 10:11:05,148 ceciestunepipe.util.wavutil INFO     saving (2, 557604950)-shaped array as npy in /mnt/sphere/speech_bci/derived_data/s_b1515_23/2023-02-22/sglx/1429_g0/wav_mic.npy\n",
      "2023-03-06 10:11:05,149 ceciestunepipe.util.wavutil INFO     saving (557604950, 2)-shaped array as npy in /mnt/sphere/speech_bci/derived_data/s_b1515_23/2023-02-22/sglx/1429_g0/wav_mic.npy\n",
      "2023-03-06 10:11:08,380 ceciestunepipe.util.wavutil INFO     Saving meta of npy array to /mnt/sphere/speech_bci/derived_data/s_b1515_23/2023-02-22/sglx/1429_g0/wav_mic-npy_meta.json\n",
      "2023-03-06 10:11:08,383 ceciestunepipe.util.wavutil INFO     Saving meta of npy array to /mnt/sphere/speech_bci/derived_data/s_b1515_23/2023-02-22/sglx/1429_g0/wav_mic-npy_meta.pickle\n",
      "2023-03-06 10:11:08,398 ceciestunepipe.util.spikeextractors.preprocess INFO     Getting adc channel(s) ['pressure']\n",
      "2023-03-06 10:11:08,399 ceciestunepipe.util.wavutil INFO     sampling rate 40000\n",
      "2023-03-06 10:11:08,400 ceciestunepipe.util.wavutil INFO     saving (1, 557604950)-shaped array as wav in /mnt/sphere/speech_bci/derived_data/s_b1515_23/2023-02-22/sglx/1429_g0/wav_adc.wav\n",
      "2023-03-06 10:11:08,402 ceciestunepipe.util.wavutil INFO     Not saving the file as wav, going straight to numpy + dict\n",
      "2023-03-06 10:11:08,403 ceciestunepipe.util.wavutil INFO     saving (1, 557604950)-shaped array as npy in /mnt/sphere/speech_bci/derived_data/s_b1515_23/2023-02-22/sglx/1429_g0/wav_adc.npy\n",
      "2023-03-06 10:11:08,403 ceciestunepipe.util.wavutil INFO     saving (557604950, 1)-shaped array as npy in /mnt/sphere/speech_bci/derived_data/s_b1515_23/2023-02-22/sglx/1429_g0/wav_adc.npy\n",
      "2023-03-06 10:11:19,381 ceciestunepipe.util.wavutil INFO     Saving meta of npy array to /mnt/sphere/speech_bci/derived_data/s_b1515_23/2023-02-22/sglx/1429_g0/wav_adc-npy_meta.json\n",
      "2023-03-06 10:11:19,403 ceciestunepipe.util.wavutil INFO     Saving meta of npy array to /mnt/sphere/speech_bci/derived_data/s_b1515_23/2023-02-22/sglx/1429_g0/wav_adc-npy_meta.pickle\n",
      "2023-03-06 10:11:30,279 ceciestunepipe.util.spikeextractors.preprocess INFO     Getting sync channel(s) from nidaq streams: ['sync']\n",
      "2023-03-06 10:11:30,282 ceciestunepipe.util.spikeextractors.extractors.spikeglxrecordingextractor.spikeglxrecordingextractor INFO     getting ttl traces, chan [0 1 2 3 4 5 6 7]\n",
      "2023-03-06 10:11:50,171 ceciestunepipe.util.wavutil INFO     sampling rate 40000\n",
      "2023-03-06 10:11:50,173 ceciestunepipe.util.wavutil INFO     saving (1, 557604950)-shaped array as wav in /mnt/sphere/speech_bci/derived_data/s_b1515_23/2023-02-22/sglx/1429_g0/wav_sync.wav\n",
      "2023-03-06 10:11:50,175 ceciestunepipe.util.wavutil INFO     Not saving the file as wav, going straight to numpy + dict\n",
      "2023-03-06 10:11:50,175 ceciestunepipe.util.wavutil INFO     saving (1, 557604950)-shaped array as npy in /mnt/sphere/speech_bci/derived_data/s_b1515_23/2023-02-22/sglx/1429_g0/wav_sync.npy\n",
      "2023-03-06 10:11:50,176 ceciestunepipe.util.wavutil INFO     saving (557604950, 1)-shaped array as npy in /mnt/sphere/speech_bci/derived_data/s_b1515_23/2023-02-22/sglx/1429_g0/wav_sync.npy\n",
      "2023-03-06 10:11:51,788 ceciestunepipe.util.wavutil INFO     Saving meta of npy array to /mnt/sphere/speech_bci/derived_data/s_b1515_23/2023-02-22/sglx/1429_g0/wav_sync-npy_meta.json\n",
      "2023-03-06 10:11:51,807 ceciestunepipe.util.wavutil INFO     Saving meta of npy array to /mnt/sphere/speech_bci/derived_data/s_b1515_23/2023-02-22/sglx/1429_g0/wav_sync-npy_meta.pickle\n",
      "2023-03-06 10:11:51,830 ceciestunepipe.util.spikeextractors.preprocess INFO     Getting sync events from the wav sync channel\n",
      "/mnt/cube/earneodo/repos/ceciestunepipe/ceciestunepipe/util/wavutil.py:87: UserWarning: Did not find wav file /mnt/sphere/speech_bci/derived_data/s_b1515_23/2023-02-22/sglx/1429_g0/wav_sync.wav. Will try loading npy + dict\n",
      "  warnings.warn('Did not find wav file {}. Will try loading npy + dict'.format(wav_path))\n",
      "2023-03-06 10:11:51,831 ceciestunepipe.util.wavutil INFO     skipping wav, loading npy instead from /mnt/sphere/speech_bci/derived_data/s_b1515_23/2023-02-22/sglx/1429_g0/wav_sync.npy\n",
      "2023-03-06 10:11:51,831 ceciestunepipe.util.wavutil INFO     loading npy array from /mnt/sphere/speech_bci/derived_data/s_b1515_23/2023-02-22/sglx/1429_g0/wav_sync.npy\n",
      "2023-03-06 10:11:56,298 ceciestunepipe.util.spikeextractors.preprocess INFO     saving sync events of the wav channel to /mnt/sphere/speech_bci/derived_data/s_b1515_23/2023-02-22/sglx/1429_g0/wav_sync_evt.npy\n",
      "2023-03-06 10:11:56,301 ceciestunepipe.util.spikeextractors.preprocess INFO     saving t0 for wav channel to /mnt/sphere/speech_bci/derived_data/s_b1515_23/2023-02-22/sglx/1429_g0/wav_t0.npy\n",
      "2023-03-06 10:12:12,343 ceciestunepipe.util.spikeextractors.preprocess INFO     saving sync nidaq dict to /mnt/sphere/speech_bci/derived_data/s_b1515_23/2023-02-22/sglx/1429_g0/wav_sync_dict.pkl\n",
      "2023-03-06 10:12:12,345 ceciestunepipe.util.spikeextractors.preprocess INFO     Getting sync signals for imec streams: []\n",
      "2023-03-06 10:12:12,346 ceciestunepipe.util.spikeextractors.preprocess INFO     getting syn patterns for nidq\n",
      "2023-03-06 10:12:12,347 ceciestunepipe.util.spikeextractors.preprocess INFO     File /mnt/sphere/speech_bci/derived_data/s_b1515_23/2023-02-22/sglx/1429_g0/nidq_sync_dict.pkl not found or forced computation, getting the events\n",
      "2023-03-06 10:12:12,348 ceciestunepipe.util.spikeextractors.extractors.spikeglxrecordingextractor.spikeglxrecordingextractor INFO     getting ttl events, chan 0\n",
      "/mnt/cube/earneodo/envs/pakhi/ceciestunepipe/lib/python3.8/site-packages/numpy/core/fromnumeric.py:3440: RuntimeWarning: Mean of empty slice.\n",
      "  return _methods._mean(a, axis=axis, dtype=dtype,\n",
      "/mnt/cube/earneodo/envs/pakhi/ceciestunepipe/lib/python3.8/site-packages/numpy/core/_methods.py:189: RuntimeWarning: invalid value encountered in double_scalars\n",
      "  ret = ret.dtype.type(ret / rcount)\n",
      "2023-03-06 10:12:23,499 ceciestunepipe.util.spikeextractors.preprocess INFO     saving events array to /mnt/sphere/speech_bci/derived_data/s_b1515_23/2023-02-22/sglx/1429_g0/nidq_sync_evt.npy\n",
      "2023-03-06 10:12:23,514 ceciestunepipe.util.spikeextractors.preprocess INFO     saving t_0 array to /mnt/sphere/speech_bci/derived_data/s_b1515_23/2023-02-22/sglx/1429_g0/nidq_t0.npy\n",
      "2023-03-06 10:12:29,683 ceciestunepipe.util.spikeextractors.preprocess INFO     saving sync dict to /mnt/sphere/speech_bci/derived_data/s_b1515_23/2023-02-22/sglx/1429_g0/nidq_sync_dict.pkl\n",
      "2023-03-06 10:12:29,685 ceciestunepipe.util.spikeextractors.preprocess INFO     loading syn_dict from /mnt/sphere/speech_bci/derived_data/s_b1515_23/2023-02-22/sglx/1429_g0/nidq_sync_dict.pkl\n",
      "2023-03-06 10:12:29,690 ceciestunepipe.util.spikeextractors.preprocess INFO     getting syn patterns for wav\n",
      "2023-03-06 10:12:29,691 ceciestunepipe.util.spikeextractors.preprocess INFO     loading syn_dict from /mnt/sphere/speech_bci/derived_data/s_b1515_23/2023-02-22/sglx/1429_g0/wav_sync_dict.pkl\n",
      "2023-03-06 10:12:29,695 ceciestunepipe.util.spikeextractors.preprocess INFO     saved epoch preprocessing parameters to /mnt/sphere/speech_bci/derived_data/s_b1515_23/2023-02-22/sglx/1429_g0/preprocess_par.pickle\n",
      "2023-03-06 10:12:29,887 root         INFO     pre-process all runs of sess 2023-02-23\n",
      "2023-03-06 10:12:29,888 ceciestunepipe.file.bcistructure INFO     {'folders': {'bird': '/mnt/sphere/speech_bci/raw_data/s_b1515_23', 'raw': '/mnt/sphere/speech_bci/raw_data/s_b1515_23/2023-02-23', 'sglx': '/mnt/sphere/speech_bci/raw_data/s_b1515_23/2023-02-23/sglx', 'kwik': '/scratch/earneodo/s_b1515_23/sglx/kwik/2023-02-23', 'processed': '/mnt/sphere/speech_bci/processed_data/s_b1515_23/2023-02-23/sglx', 'derived': '/mnt/sphere/speech_bci/derived_data/s_b1515_23/2023-02-23/sglx', 'tmp': '/scratch/earneodo/tmp', 'msort': '/scratch/earneodo/s_b1515_23/sglx/msort/2023-02-23', 'ksort': '/scratch/earneodo/s_b1515_23/sglx/ksort/2023-02-23/0', 'sort': '/mnt/sphere/speech_bci/derived_data/s_b1515_23/2023-02-23/sglx/0'}, 'files': {'par': '/scratch/earneodo/s_b1515_23/sglx/ksort/2023-02-23/0/params.json', 'set': '/mnt/sphere/speech_bci/raw_data/s_b1515_23/2023-02-23/sglx/settings.isf', 'rig': '/mnt/sphere/speech_bci/raw_data/s_b1515_23/2023-02-23/sglx/rig.json', 'kwd': '/scratch/earneodo/s_b1515_23/sglx/kwik/2023-02-23/stream.kwd', 'kwik': '/scratch/earneodo/s_b1515_23/sglx/kwik/2023-02-23/sort_0/spikes.kwik', 'kwe': '/scratch/earneodo/s_b1515_23/sglx/kwik/2023-02-23/events.kwe', 'dat_mic': '/mnt/sphere/speech_bci/processed_data/s_b1515_23/2023-02-23/sglx/dat_mic.mat', 'dat_ap': '/mnt/sphere/speech_bci/processed_data/s_b1515_23/2023-02-23/sglx/dat_ap.mat', 'allevents': '/mnt/sphere/speech_bci/processed_data/s_b1515_23/2023-02-23/sglx/dat_all.pkl', 'wav_mic': '/mnt/sphere/speech_bci/derived_data/s_b1515_23/2023-02-23/sglx/wav_mic.wav', 'mda_raw': '/scratch/earneodo/s_b1515_23/sglx/msort/2023-02-23/raw.mda', 'bin_raw': '/scratch/earneodo/s_b1515_23/sglx/ksort/2023-02-23/0/raw.bin'}}\n",
      "2023-03-06 10:12:29,890 root         INFO     found epochs: ['0826_g0', '1432_g0']\n",
      "2023-03-06 10:12:29,891 ceciestunepipe.util.spikeextractors.preprocess INFO     PREPROCESSING sess 2023-02-23 | epoch 0826_g0\n",
      "2023-03-06 10:12:29,891 ceciestunepipe.util.spikeextractors.preprocess INFO     getting extractors\n",
      "2023-03-06 10:12:29,916 ceciestunepipe.util.spikeextractors.preprocess INFO     Got sglx recordings for keys ['nidq']\n",
      "2023-03-06 10:12:29,917 ceciestunepipe.util.spikeextractors.preprocess INFO     Getting microphone channel(s) ['microphone_0', 'microphone_1']\n",
      "2023-03-06 10:12:30,032 ceciestunepipe.util.wavutil INFO     sampling rate 40000\n",
      "2023-03-06 10:12:30,032 ceciestunepipe.util.wavutil INFO     saving (2, 462507)-shaped array as wav in /mnt/sphere/speech_bci/derived_data/s_b1515_23/2023-02-23/sglx/0826_g0/wav_mic.wav\n",
      "2023-03-06 10:12:30,061 ceciestunepipe.util.wavutil INFO     Not saving the file as wav, going straight to numpy + dict\n",
      "2023-03-06 10:12:30,062 ceciestunepipe.util.wavutil INFO     saving (2, 462507)-shaped array as npy in /mnt/sphere/speech_bci/derived_data/s_b1515_23/2023-02-23/sglx/0826_g0/wav_mic.npy\n",
      "2023-03-06 10:12:30,062 ceciestunepipe.util.wavutil INFO     saving (462507, 2)-shaped array as npy in /mnt/sphere/speech_bci/derived_data/s_b1515_23/2023-02-23/sglx/0826_g0/wav_mic.npy\n",
      "2023-03-06 10:12:30,068 ceciestunepipe.util.wavutil INFO     Saving meta of npy array to /mnt/sphere/speech_bci/derived_data/s_b1515_23/2023-02-23/sglx/0826_g0/wav_mic-npy_meta.json\n",
      "2023-03-06 10:12:30,069 ceciestunepipe.util.wavutil INFO     Saving meta of npy array to /mnt/sphere/speech_bci/derived_data/s_b1515_23/2023-02-23/sglx/0826_g0/wav_mic-npy_meta.pickle\n",
      "2023-03-06 10:12:30,070 ceciestunepipe.util.spikeextractors.preprocess INFO     Getting adc channel(s) ['pressure']\n",
      "2023-03-06 10:12:30,070 ceciestunepipe.util.wavutil INFO     sampling rate 40000\n",
      "2023-03-06 10:12:30,071 ceciestunepipe.util.wavutil INFO     saving (1, 462507)-shaped array as wav in /mnt/sphere/speech_bci/derived_data/s_b1515_23/2023-02-23/sglx/0826_g0/wav_adc.wav\n",
      "2023-03-06 10:12:30,072 ceciestunepipe.util.wavutil INFO     Not saving the file as wav, going straight to numpy + dict\n",
      "2023-03-06 10:12:30,072 ceciestunepipe.util.wavutil INFO     saving (1, 462507)-shaped array as npy in /mnt/sphere/speech_bci/derived_data/s_b1515_23/2023-02-23/sglx/0826_g0/wav_adc.npy\n",
      "2023-03-06 10:12:30,073 ceciestunepipe.util.wavutil INFO     saving (462507, 1)-shaped array as npy in /mnt/sphere/speech_bci/derived_data/s_b1515_23/2023-02-23/sglx/0826_g0/wav_adc.npy\n",
      "2023-03-06 10:12:30,086 ceciestunepipe.util.wavutil INFO     Saving meta of npy array to /mnt/sphere/speech_bci/derived_data/s_b1515_23/2023-02-23/sglx/0826_g0/wav_adc-npy_meta.json\n",
      "2023-03-06 10:12:30,087 ceciestunepipe.util.wavutil INFO     Saving meta of npy array to /mnt/sphere/speech_bci/derived_data/s_b1515_23/2023-02-23/sglx/0826_g0/wav_adc-npy_meta.pickle\n",
      "2023-03-06 10:12:30,101 ceciestunepipe.util.spikeextractors.preprocess INFO     Getting sync channel(s) from nidaq streams: ['sync']\n",
      "2023-03-06 10:12:30,102 ceciestunepipe.util.spikeextractors.extractors.spikeglxrecordingextractor.spikeglxrecordingextractor INFO     getting ttl traces, chan [0 1 2 3 4 5 6 7]\n",
      "2023-03-06 10:12:30,106 ceciestunepipe.util.wavutil INFO     sampling rate 40000\n",
      "2023-03-06 10:12:30,106 ceciestunepipe.util.wavutil INFO     saving (1, 462507)-shaped array as wav in /mnt/sphere/speech_bci/derived_data/s_b1515_23/2023-02-23/sglx/0826_g0/wav_sync.wav\n",
      "2023-03-06 10:12:30,107 ceciestunepipe.util.wavutil INFO     Not saving the file as wav, going straight to numpy + dict\n",
      "2023-03-06 10:12:30,108 ceciestunepipe.util.wavutil INFO     saving (1, 462507)-shaped array as npy in /mnt/sphere/speech_bci/derived_data/s_b1515_23/2023-02-23/sglx/0826_g0/wav_sync.npy\n",
      "2023-03-06 10:12:30,108 ceciestunepipe.util.wavutil INFO     saving (462507, 1)-shaped array as npy in /mnt/sphere/speech_bci/derived_data/s_b1515_23/2023-02-23/sglx/0826_g0/wav_sync.npy\n",
      "2023-03-06 10:12:30,111 ceciestunepipe.util.wavutil INFO     Saving meta of npy array to /mnt/sphere/speech_bci/derived_data/s_b1515_23/2023-02-23/sglx/0826_g0/wav_sync-npy_meta.json\n",
      "2023-03-06 10:12:30,113 ceciestunepipe.util.wavutil INFO     Saving meta of npy array to /mnt/sphere/speech_bci/derived_data/s_b1515_23/2023-02-23/sglx/0826_g0/wav_sync-npy_meta.pickle\n",
      "2023-03-06 10:12:30,114 ceciestunepipe.util.spikeextractors.preprocess INFO     Getting sync events from the wav sync channel\n",
      "/mnt/cube/earneodo/repos/ceciestunepipe/ceciestunepipe/util/wavutil.py:87: UserWarning: Did not find wav file /mnt/sphere/speech_bci/derived_data/s_b1515_23/2023-02-23/sglx/0826_g0/wav_sync.wav. Will try loading npy + dict\n",
      "  warnings.warn('Did not find wav file {}. Will try loading npy + dict'.format(wav_path))\n",
      "2023-03-06 10:12:30,114 ceciestunepipe.util.wavutil INFO     skipping wav, loading npy instead from /mnt/sphere/speech_bci/derived_data/s_b1515_23/2023-02-23/sglx/0826_g0/wav_sync.npy\n",
      "2023-03-06 10:12:30,115 ceciestunepipe.util.wavutil INFO     loading npy array from /mnt/sphere/speech_bci/derived_data/s_b1515_23/2023-02-23/sglx/0826_g0/wav_sync.npy\n",
      "2023-03-06 10:12:30,119 ceciestunepipe.util.spikeextractors.preprocess INFO     saving sync events of the wav channel to /mnt/sphere/speech_bci/derived_data/s_b1515_23/2023-02-23/sglx/0826_g0/wav_sync_evt.npy\n",
      "2023-03-06 10:12:30,120 ceciestunepipe.util.spikeextractors.preprocess INFO     saving t0 for wav channel to /mnt/sphere/speech_bci/derived_data/s_b1515_23/2023-02-23/sglx/0826_g0/wav_t0.npy\n",
      "2023-03-06 10:12:30,146 ceciestunepipe.util.spikeextractors.preprocess INFO     saving sync nidaq dict to /mnt/sphere/speech_bci/derived_data/s_b1515_23/2023-02-23/sglx/0826_g0/wav_sync_dict.pkl\n",
      "2023-03-06 10:12:30,147 ceciestunepipe.util.spikeextractors.preprocess INFO     Getting sync signals for imec streams: []\n",
      "2023-03-06 10:12:30,148 ceciestunepipe.util.spikeextractors.preprocess INFO     getting syn patterns for nidq\n",
      "2023-03-06 10:12:30,149 ceciestunepipe.util.spikeextractors.preprocess INFO     File /mnt/sphere/speech_bci/derived_data/s_b1515_23/2023-02-23/sglx/0826_g0/nidq_sync_dict.pkl not found or forced computation, getting the events\n",
      "2023-03-06 10:12:30,149 ceciestunepipe.util.spikeextractors.extractors.spikeglxrecordingextractor.spikeglxrecordingextractor INFO     getting ttl events, chan 0\n",
      "2023-03-06 10:12:30,154 ceciestunepipe.util.spikeextractors.preprocess INFO     saving events array to /mnt/sphere/speech_bci/derived_data/s_b1515_23/2023-02-23/sglx/0826_g0/nidq_sync_evt.npy\n",
      "2023-03-06 10:12:30,155 ceciestunepipe.util.spikeextractors.preprocess INFO     saving t_0 array to /mnt/sphere/speech_bci/derived_data/s_b1515_23/2023-02-23/sglx/0826_g0/nidq_t0.npy\n",
      "2023-03-06 10:12:30,162 ceciestunepipe.util.spikeextractors.preprocess INFO     saving sync dict to /mnt/sphere/speech_bci/derived_data/s_b1515_23/2023-02-23/sglx/0826_g0/nidq_sync_dict.pkl\n",
      "2023-03-06 10:12:30,163 ceciestunepipe.util.spikeextractors.preprocess INFO     loading syn_dict from /mnt/sphere/speech_bci/derived_data/s_b1515_23/2023-02-23/sglx/0826_g0/nidq_sync_dict.pkl\n",
      "2023-03-06 10:12:30,166 ceciestunepipe.util.spikeextractors.preprocess INFO     getting syn patterns for wav\n",
      "2023-03-06 10:12:30,166 ceciestunepipe.util.spikeextractors.preprocess INFO     loading syn_dict from /mnt/sphere/speech_bci/derived_data/s_b1515_23/2023-02-23/sglx/0826_g0/wav_sync_dict.pkl\n",
      "2023-03-06 10:12:30,169 ceciestunepipe.util.spikeextractors.preprocess INFO     saved epoch preprocessing parameters to /mnt/sphere/speech_bci/derived_data/s_b1515_23/2023-02-23/sglx/0826_g0/preprocess_par.pickle\n",
      "2023-03-06 10:12:30,170 ceciestunepipe.util.spikeextractors.preprocess INFO     PREPROCESSING sess 2023-02-23 | epoch 1432_g0\n",
      "2023-03-06 10:12:30,170 ceciestunepipe.util.spikeextractors.preprocess INFO     getting extractors\n",
      "2023-03-06 10:12:30,194 ceciestunepipe.util.spikeextractors.preprocess INFO     Got sglx recordings for keys ['nidq']\n",
      "2023-03-06 10:12:30,195 ceciestunepipe.util.spikeextractors.preprocess INFO     Getting microphone channel(s) ['microphone_0', 'microphone_1']\n",
      "2023-03-06 10:13:11,646 ceciestunepipe.util.wavutil INFO     sampling rate 40000\n",
      "2023-03-06 10:13:11,648 ceciestunepipe.util.wavutil INFO     saving (2, 1382393772)-shaped array as wav in /mnt/sphere/speech_bci/derived_data/s_b1515_23/2023-02-23/sglx/1432_g0/wav_mic.wav\n",
      "2023-03-06 10:13:11,669 ceciestunepipe.util.wavutil INFO     Not saving the file as wav, going straight to numpy + dict\n",
      "2023-03-06 10:13:11,670 ceciestunepipe.util.wavutil INFO     saving (2, 1382393772)-shaped array as npy in /mnt/sphere/speech_bci/derived_data/s_b1515_23/2023-02-23/sglx/1432_g0/wav_mic.npy\n",
      "2023-03-06 10:13:11,670 ceciestunepipe.util.wavutil INFO     saving (1382393772, 2)-shaped array as npy in /mnt/sphere/speech_bci/derived_data/s_b1515_23/2023-02-23/sglx/1432_g0/wav_mic.npy\n",
      "2023-03-06 10:13:19,738 ceciestunepipe.util.wavutil INFO     Saving meta of npy array to /mnt/sphere/speech_bci/derived_data/s_b1515_23/2023-02-23/sglx/1432_g0/wav_mic-npy_meta.json\n",
      "2023-03-06 10:13:19,740 ceciestunepipe.util.wavutil INFO     Saving meta of npy array to /mnt/sphere/speech_bci/derived_data/s_b1515_23/2023-02-23/sglx/1432_g0/wav_mic-npy_meta.pickle\n",
      "2023-03-06 10:13:19,748 ceciestunepipe.util.spikeextractors.preprocess INFO     Getting adc channel(s) ['pressure']\n",
      "2023-03-06 10:13:19,749 ceciestunepipe.util.wavutil INFO     sampling rate 40000\n",
      "2023-03-06 10:13:19,750 ceciestunepipe.util.wavutil INFO     saving (1, 1382393772)-shaped array as wav in /mnt/sphere/speech_bci/derived_data/s_b1515_23/2023-02-23/sglx/1432_g0/wav_adc.wav\n",
      "2023-03-06 10:13:19,751 ceciestunepipe.util.wavutil INFO     Not saving the file as wav, going straight to numpy + dict\n",
      "2023-03-06 10:13:19,752 ceciestunepipe.util.wavutil INFO     saving (1, 1382393772)-shaped array as npy in /mnt/sphere/speech_bci/derived_data/s_b1515_23/2023-02-23/sglx/1432_g0/wav_adc.npy\n",
      "2023-03-06 10:13:19,752 ceciestunepipe.util.wavutil INFO     saving (1382393772, 1)-shaped array as npy in /mnt/sphere/speech_bci/derived_data/s_b1515_23/2023-02-23/sglx/1432_g0/wav_adc.npy\n",
      "2023-03-06 10:13:46,549 ceciestunepipe.util.wavutil INFO     Saving meta of npy array to /mnt/sphere/speech_bci/derived_data/s_b1515_23/2023-02-23/sglx/1432_g0/wav_adc-npy_meta.json\n",
      "2023-03-06 10:13:46,615 ceciestunepipe.util.wavutil INFO     Saving meta of npy array to /mnt/sphere/speech_bci/derived_data/s_b1515_23/2023-02-23/sglx/1432_g0/wav_adc-npy_meta.pickle\n",
      "2023-03-06 10:14:13,852 ceciestunepipe.util.spikeextractors.preprocess INFO     Getting sync channel(s) from nidaq streams: ['sync']\n",
      "2023-03-06 10:14:13,855 ceciestunepipe.util.spikeextractors.extractors.spikeglxrecordingextractor.spikeglxrecordingextractor INFO     getting ttl traces, chan [0 1 2 3 4 5 6 7]\n",
      "2023-03-06 10:15:11,117 ceciestunepipe.util.wavutil INFO     sampling rate 40000\n",
      "2023-03-06 10:15:11,119 ceciestunepipe.util.wavutil INFO     saving (1, 1382393772)-shaped array as wav in /mnt/sphere/speech_bci/derived_data/s_b1515_23/2023-02-23/sglx/1432_g0/wav_sync.wav\n",
      "2023-03-06 10:15:11,124 ceciestunepipe.util.wavutil INFO     Not saving the file as wav, going straight to numpy + dict\n",
      "2023-03-06 10:15:11,125 ceciestunepipe.util.wavutil INFO     saving (1, 1382393772)-shaped array as npy in /mnt/sphere/speech_bci/derived_data/s_b1515_23/2023-02-23/sglx/1432_g0/wav_sync.npy\n",
      "2023-03-06 10:15:11,126 ceciestunepipe.util.wavutil INFO     saving (1382393772, 1)-shaped array as npy in /mnt/sphere/speech_bci/derived_data/s_b1515_23/2023-02-23/sglx/1432_g0/wav_sync.npy\n",
      "2023-03-06 10:15:15,147 ceciestunepipe.util.wavutil INFO     Saving meta of npy array to /mnt/sphere/speech_bci/derived_data/s_b1515_23/2023-02-23/sglx/1432_g0/wav_sync-npy_meta.json\n",
      "2023-03-06 10:15:15,163 ceciestunepipe.util.wavutil INFO     Saving meta of npy array to /mnt/sphere/speech_bci/derived_data/s_b1515_23/2023-02-23/sglx/1432_g0/wav_sync-npy_meta.pickle\n",
      "2023-03-06 10:15:15,165 ceciestunepipe.util.spikeextractors.preprocess INFO     Getting sync events from the wav sync channel\n",
      "/mnt/cube/earneodo/repos/ceciestunepipe/ceciestunepipe/util/wavutil.py:87: UserWarning: Did not find wav file /mnt/sphere/speech_bci/derived_data/s_b1515_23/2023-02-23/sglx/1432_g0/wav_sync.wav. Will try loading npy + dict\n",
      "  warnings.warn('Did not find wav file {}. Will try loading npy + dict'.format(wav_path))\n",
      "2023-03-06 10:15:15,166 ceciestunepipe.util.wavutil INFO     skipping wav, loading npy instead from /mnt/sphere/speech_bci/derived_data/s_b1515_23/2023-02-23/sglx/1432_g0/wav_sync.npy\n",
      "2023-03-06 10:15:15,167 ceciestunepipe.util.wavutil INFO     loading npy array from /mnt/sphere/speech_bci/derived_data/s_b1515_23/2023-02-23/sglx/1432_g0/wav_sync.npy\n",
      "2023-03-06 10:15:25,825 ceciestunepipe.util.spikeextractors.preprocess INFO     saving sync events of the wav channel to /mnt/sphere/speech_bci/derived_data/s_b1515_23/2023-02-23/sglx/1432_g0/wav_sync_evt.npy\n",
      "2023-03-06 10:15:25,827 ceciestunepipe.util.spikeextractors.preprocess INFO     saving t0 for wav channel to /mnt/sphere/speech_bci/derived_data/s_b1515_23/2023-02-23/sglx/1432_g0/wav_t0.npy\n",
      "2023-03-06 10:16:12,150 ceciestunepipe.util.spikeextractors.preprocess INFO     saving sync nidaq dict to /mnt/sphere/speech_bci/derived_data/s_b1515_23/2023-02-23/sglx/1432_g0/wav_sync_dict.pkl\n",
      "2023-03-06 10:16:12,154 ceciestunepipe.util.spikeextractors.preprocess INFO     Getting sync signals for imec streams: []\n",
      "2023-03-06 10:16:12,154 ceciestunepipe.util.spikeextractors.preprocess INFO     getting syn patterns for nidq\n",
      "2023-03-06 10:16:12,156 ceciestunepipe.util.spikeextractors.preprocess INFO     File /mnt/sphere/speech_bci/derived_data/s_b1515_23/2023-02-23/sglx/1432_g0/nidq_sync_dict.pkl not found or forced computation, getting the events\n",
      "2023-03-06 10:16:12,156 ceciestunepipe.util.spikeextractors.extractors.spikeglxrecordingextractor.spikeglxrecordingextractor INFO     getting ttl events, chan 0\n",
      "2023-03-06 10:16:57,306 ceciestunepipe.util.spikeextractors.preprocess INFO     saving events array to /mnt/sphere/speech_bci/derived_data/s_b1515_23/2023-02-23/sglx/1432_g0/nidq_sync_evt.npy\n",
      "2023-03-06 10:16:57,332 ceciestunepipe.util.spikeextractors.preprocess INFO     saving t_0 array to /mnt/sphere/speech_bci/derived_data/s_b1515_23/2023-02-23/sglx/1432_g0/nidq_t0.npy\n",
      "2023-03-06 10:17:12,137 ceciestunepipe.util.spikeextractors.preprocess INFO     saving sync dict to /mnt/sphere/speech_bci/derived_data/s_b1515_23/2023-02-23/sglx/1432_g0/nidq_sync_dict.pkl\n",
      "2023-03-06 10:17:12,139 ceciestunepipe.util.spikeextractors.preprocess INFO     loading syn_dict from /mnt/sphere/speech_bci/derived_data/s_b1515_23/2023-02-23/sglx/1432_g0/nidq_sync_dict.pkl\n",
      "2023-03-06 10:17:12,144 ceciestunepipe.util.spikeextractors.preprocess INFO     getting syn patterns for wav\n",
      "2023-03-06 10:17:12,146 ceciestunepipe.util.spikeextractors.preprocess INFO     loading syn_dict from /mnt/sphere/speech_bci/derived_data/s_b1515_23/2023-02-23/sglx/1432_g0/wav_sync_dict.pkl\n",
      "2023-03-06 10:17:12,149 ceciestunepipe.util.spikeextractors.preprocess INFO     saved epoch preprocessing parameters to /mnt/sphere/speech_bci/derived_data/s_b1515_23/2023-02-23/sglx/1432_g0/preprocess_par.pickle\n",
      "2023-03-06 10:17:12,541 root         INFO     pre-process all runs of sess 2023-02-24\n",
      "2023-03-06 10:17:12,543 ceciestunepipe.file.bcistructure INFO     {'folders': {'bird': '/mnt/sphere/speech_bci/raw_data/s_b1515_23', 'raw': '/mnt/sphere/speech_bci/raw_data/s_b1515_23/2023-02-24', 'sglx': '/mnt/sphere/speech_bci/raw_data/s_b1515_23/2023-02-24/sglx', 'kwik': '/scratch/earneodo/s_b1515_23/sglx/kwik/2023-02-24', 'processed': '/mnt/sphere/speech_bci/processed_data/s_b1515_23/2023-02-24/sglx', 'derived': '/mnt/sphere/speech_bci/derived_data/s_b1515_23/2023-02-24/sglx', 'tmp': '/scratch/earneodo/tmp', 'msort': '/scratch/earneodo/s_b1515_23/sglx/msort/2023-02-24', 'ksort': '/scratch/earneodo/s_b1515_23/sglx/ksort/2023-02-24/0', 'sort': '/mnt/sphere/speech_bci/derived_data/s_b1515_23/2023-02-24/sglx/0'}, 'files': {'par': '/scratch/earneodo/s_b1515_23/sglx/ksort/2023-02-24/0/params.json', 'set': '/mnt/sphere/speech_bci/raw_data/s_b1515_23/2023-02-24/sglx/settings.isf', 'rig': '/mnt/sphere/speech_bci/raw_data/s_b1515_23/2023-02-24/sglx/rig.json', 'kwd': '/scratch/earneodo/s_b1515_23/sglx/kwik/2023-02-24/stream.kwd', 'kwik': '/scratch/earneodo/s_b1515_23/sglx/kwik/2023-02-24/sort_0/spikes.kwik', 'kwe': '/scratch/earneodo/s_b1515_23/sglx/kwik/2023-02-24/events.kwe', 'dat_mic': '/mnt/sphere/speech_bci/processed_data/s_b1515_23/2023-02-24/sglx/dat_mic.mat', 'dat_ap': '/mnt/sphere/speech_bci/processed_data/s_b1515_23/2023-02-24/sglx/dat_ap.mat', 'allevents': '/mnt/sphere/speech_bci/processed_data/s_b1515_23/2023-02-24/sglx/dat_all.pkl', 'wav_mic': '/mnt/sphere/speech_bci/derived_data/s_b1515_23/2023-02-24/sglx/wav_mic.wav', 'mda_raw': '/scratch/earneodo/s_b1515_23/sglx/msort/2023-02-24/raw.mda', 'bin_raw': '/scratch/earneodo/s_b1515_23/sglx/ksort/2023-02-24/0/raw.bin'}}\n",
      "2023-03-06 10:17:12,546 root         INFO     found epochs: ['0816_g0']\n",
      "2023-03-06 10:17:12,547 ceciestunepipe.util.spikeextractors.preprocess INFO     PREPROCESSING sess 2023-02-24 | epoch 0816_g0\n",
      "2023-03-06 10:17:12,548 ceciestunepipe.util.spikeextractors.preprocess INFO     getting extractors\n",
      "2023-03-06 10:17:12,600 ceciestunepipe.util.spikeextractors.preprocess INFO     Got sglx recordings for keys ['nidq']\n",
      "2023-03-06 10:17:12,600 ceciestunepipe.util.spikeextractors.preprocess INFO     Getting microphone channel(s) ['microphone_0', 'microphone_1']\n",
      "2023-03-06 10:17:55,135 ceciestunepipe.util.wavutil INFO     sampling rate 40000\n",
      "2023-03-06 10:17:55,136 ceciestunepipe.util.wavutil INFO     saving (2, 911975381)-shaped array as wav in /mnt/sphere/speech_bci/derived_data/s_b1515_23/2023-02-24/sglx/0816_g0/wav_mic.wav\n",
      "2023-03-06 10:17:55,156 ceciestunepipe.util.wavutil INFO     Not saving the file as wav, going straight to numpy + dict\n",
      "2023-03-06 10:17:55,157 ceciestunepipe.util.wavutil INFO     saving (2, 911975381)-shaped array as npy in /mnt/sphere/speech_bci/derived_data/s_b1515_23/2023-02-24/sglx/0816_g0/wav_mic.npy\n",
      "2023-03-06 10:17:55,157 ceciestunepipe.util.wavutil INFO     saving (911975381, 2)-shaped array as npy in /mnt/sphere/speech_bci/derived_data/s_b1515_23/2023-02-24/sglx/0816_g0/wav_mic.npy\n",
      "2023-03-06 10:18:00,222 ceciestunepipe.util.wavutil INFO     Saving meta of npy array to /mnt/sphere/speech_bci/derived_data/s_b1515_23/2023-02-24/sglx/0816_g0/wav_mic-npy_meta.json\n",
      "2023-03-06 10:18:00,225 ceciestunepipe.util.wavutil INFO     Saving meta of npy array to /mnt/sphere/speech_bci/derived_data/s_b1515_23/2023-02-24/sglx/0816_g0/wav_mic-npy_meta.pickle\n",
      "2023-03-06 10:18:00,237 ceciestunepipe.util.spikeextractors.preprocess INFO     Getting adc channel(s) ['pressure']\n",
      "2023-03-06 10:18:00,238 ceciestunepipe.util.wavutil INFO     sampling rate 40000\n",
      "2023-03-06 10:18:00,239 ceciestunepipe.util.wavutil INFO     saving (1, 911975381)-shaped array as wav in /mnt/sphere/speech_bci/derived_data/s_b1515_23/2023-02-24/sglx/0816_g0/wav_adc.wav\n",
      "2023-03-06 10:18:00,241 ceciestunepipe.util.wavutil INFO     Not saving the file as wav, going straight to numpy + dict\n",
      "2023-03-06 10:18:00,241 ceciestunepipe.util.wavutil INFO     saving (1, 911975381)-shaped array as npy in /mnt/sphere/speech_bci/derived_data/s_b1515_23/2023-02-24/sglx/0816_g0/wav_adc.npy\n",
      "2023-03-06 10:18:00,242 ceciestunepipe.util.wavutil INFO     saving (911975381, 1)-shaped array as npy in /mnt/sphere/speech_bci/derived_data/s_b1515_23/2023-02-24/sglx/0816_g0/wav_adc.npy\n",
      "2023-03-06 10:18:17,867 ceciestunepipe.util.wavutil INFO     Saving meta of npy array to /mnt/sphere/speech_bci/derived_data/s_b1515_23/2023-02-24/sglx/0816_g0/wav_adc-npy_meta.json\n",
      "2023-03-06 10:18:17,883 ceciestunepipe.util.wavutil INFO     Saving meta of npy array to /mnt/sphere/speech_bci/derived_data/s_b1515_23/2023-02-24/sglx/0816_g0/wav_adc-npy_meta.pickle\n",
      "2023-03-06 10:18:35,281 ceciestunepipe.util.spikeextractors.preprocess INFO     Getting sync channel(s) from nidaq streams: ['sync']\n",
      "2023-03-06 10:18:35,284 ceciestunepipe.util.spikeextractors.extractors.spikeglxrecordingextractor.spikeglxrecordingextractor INFO     getting ttl traces, chan [0 1 2 3 4 5 6 7]\n",
      "2023-03-06 10:18:52,153 ceciestunepipe.util.wavutil INFO     sampling rate 40000\n",
      "2023-03-06 10:18:52,155 ceciestunepipe.util.wavutil INFO     saving (1, 911975381)-shaped array as wav in /mnt/sphere/speech_bci/derived_data/s_b1515_23/2023-02-24/sglx/0816_g0/wav_sync.wav\n",
      "2023-03-06 10:18:52,158 ceciestunepipe.util.wavutil INFO     Not saving the file as wav, going straight to numpy + dict\n",
      "2023-03-06 10:18:52,159 ceciestunepipe.util.wavutil INFO     saving (1, 911975381)-shaped array as npy in /mnt/sphere/speech_bci/derived_data/s_b1515_23/2023-02-24/sglx/0816_g0/wav_sync.npy\n",
      "2023-03-06 10:18:52,160 ceciestunepipe.util.wavutil INFO     saving (911975381, 1)-shaped array as npy in /mnt/sphere/speech_bci/derived_data/s_b1515_23/2023-02-24/sglx/0816_g0/wav_sync.npy\n",
      "2023-03-06 10:18:54,583 ceciestunepipe.util.wavutil INFO     Saving meta of npy array to /mnt/sphere/speech_bci/derived_data/s_b1515_23/2023-02-24/sglx/0816_g0/wav_sync-npy_meta.json\n",
      "2023-03-06 10:18:54,586 ceciestunepipe.util.wavutil INFO     Saving meta of npy array to /mnt/sphere/speech_bci/derived_data/s_b1515_23/2023-02-24/sglx/0816_g0/wav_sync-npy_meta.pickle\n",
      "2023-03-06 10:18:54,588 ceciestunepipe.util.spikeextractors.preprocess INFO     Getting sync events from the wav sync channel\n",
      "/mnt/cube/earneodo/repos/ceciestunepipe/ceciestunepipe/util/wavutil.py:87: UserWarning: Did not find wav file /mnt/sphere/speech_bci/derived_data/s_b1515_23/2023-02-24/sglx/0816_g0/wav_sync.wav. Will try loading npy + dict\n",
      "  warnings.warn('Did not find wav file {}. Will try loading npy + dict'.format(wav_path))\n",
      "2023-03-06 10:18:54,589 ceciestunepipe.util.wavutil INFO     skipping wav, loading npy instead from /mnt/sphere/speech_bci/derived_data/s_b1515_23/2023-02-24/sglx/0816_g0/wav_sync.npy\n",
      "2023-03-06 10:18:54,590 ceciestunepipe.util.wavutil INFO     loading npy array from /mnt/sphere/speech_bci/derived_data/s_b1515_23/2023-02-24/sglx/0816_g0/wav_sync.npy\n",
      "2023-03-06 10:18:59,316 ceciestunepipe.util.spikeextractors.preprocess INFO     saving sync events of the wav channel to /mnt/sphere/speech_bci/derived_data/s_b1515_23/2023-02-24/sglx/0816_g0/wav_sync_evt.npy\n",
      "2023-03-06 10:18:59,319 ceciestunepipe.util.spikeextractors.preprocess INFO     saving t0 for wav channel to /mnt/sphere/speech_bci/derived_data/s_b1515_23/2023-02-24/sglx/0816_g0/wav_t0.npy\n",
      "2023-03-06 10:19:23,341 ceciestunepipe.util.spikeextractors.preprocess INFO     saving sync nidaq dict to /mnt/sphere/speech_bci/derived_data/s_b1515_23/2023-02-24/sglx/0816_g0/wav_sync_dict.pkl\n",
      "2023-03-06 10:19:23,344 ceciestunepipe.util.spikeextractors.preprocess INFO     Getting sync signals for imec streams: []\n",
      "2023-03-06 10:19:23,344 ceciestunepipe.util.spikeextractors.preprocess INFO     getting syn patterns for nidq\n",
      "2023-03-06 10:19:23,346 ceciestunepipe.util.spikeextractors.preprocess INFO     File /mnt/sphere/speech_bci/derived_data/s_b1515_23/2023-02-24/sglx/0816_g0/nidq_sync_dict.pkl not found or forced computation, getting the events\n",
      "2023-03-06 10:19:23,347 ceciestunepipe.util.spikeextractors.extractors.spikeglxrecordingextractor.spikeglxrecordingextractor INFO     getting ttl events, chan 0\n",
      "2023-03-06 10:19:42,884 ceciestunepipe.util.spikeextractors.preprocess INFO     saving events array to /mnt/sphere/speech_bci/derived_data/s_b1515_23/2023-02-24/sglx/0816_g0/nidq_sync_evt.npy\n",
      "2023-03-06 10:19:42,888 ceciestunepipe.util.spikeextractors.preprocess INFO     saving t_0 array to /mnt/sphere/speech_bci/derived_data/s_b1515_23/2023-02-24/sglx/0816_g0/nidq_t0.npy\n",
      "2023-03-06 10:19:52,915 ceciestunepipe.util.spikeextractors.preprocess INFO     saving sync dict to /mnt/sphere/speech_bci/derived_data/s_b1515_23/2023-02-24/sglx/0816_g0/nidq_sync_dict.pkl\n",
      "2023-03-06 10:19:52,918 ceciestunepipe.util.spikeextractors.preprocess INFO     loading syn_dict from /mnt/sphere/speech_bci/derived_data/s_b1515_23/2023-02-24/sglx/0816_g0/nidq_sync_dict.pkl\n",
      "2023-03-06 10:19:52,923 ceciestunepipe.util.spikeextractors.preprocess INFO     getting syn patterns for wav\n",
      "2023-03-06 10:19:52,924 ceciestunepipe.util.spikeextractors.preprocess INFO     loading syn_dict from /mnt/sphere/speech_bci/derived_data/s_b1515_23/2023-02-24/sglx/0816_g0/wav_sync_dict.pkl\n",
      "2023-03-06 10:19:52,928 ceciestunepipe.util.spikeextractors.preprocess INFO     saved epoch preprocessing parameters to /mnt/sphere/speech_bci/derived_data/s_b1515_23/2023-02-24/sglx/0816_g0/preprocess_par.pickle\n",
      "2023-03-06 10:19:53,140 root         INFO     pre-process all runs of sess 2023-02-27\n",
      "2023-03-06 10:19:53,141 ceciestunepipe.file.bcistructure INFO     {'folders': {'bird': '/mnt/sphere/speech_bci/raw_data/s_b1515_23', 'raw': '/mnt/sphere/speech_bci/raw_data/s_b1515_23/2023-02-27', 'sglx': '/mnt/sphere/speech_bci/raw_data/s_b1515_23/2023-02-27/sglx', 'kwik': '/scratch/earneodo/s_b1515_23/sglx/kwik/2023-02-27', 'processed': '/mnt/sphere/speech_bci/processed_data/s_b1515_23/2023-02-27/sglx', 'derived': '/mnt/sphere/speech_bci/derived_data/s_b1515_23/2023-02-27/sglx', 'tmp': '/scratch/earneodo/tmp', 'msort': '/scratch/earneodo/s_b1515_23/sglx/msort/2023-02-27', 'ksort': '/scratch/earneodo/s_b1515_23/sglx/ksort/2023-02-27/0', 'sort': '/mnt/sphere/speech_bci/derived_data/s_b1515_23/2023-02-27/sglx/0'}, 'files': {'par': '/scratch/earneodo/s_b1515_23/sglx/ksort/2023-02-27/0/params.json', 'set': '/mnt/sphere/speech_bci/raw_data/s_b1515_23/2023-02-27/sglx/settings.isf', 'rig': '/mnt/sphere/speech_bci/raw_data/s_b1515_23/2023-02-27/sglx/rig.json', 'kwd': '/scratch/earneodo/s_b1515_23/sglx/kwik/2023-02-27/stream.kwd', 'kwik': '/scratch/earneodo/s_b1515_23/sglx/kwik/2023-02-27/sort_0/spikes.kwik', 'kwe': '/scratch/earneodo/s_b1515_23/sglx/kwik/2023-02-27/events.kwe', 'dat_mic': '/mnt/sphere/speech_bci/processed_data/s_b1515_23/2023-02-27/sglx/dat_mic.mat', 'dat_ap': '/mnt/sphere/speech_bci/processed_data/s_b1515_23/2023-02-27/sglx/dat_ap.mat', 'allevents': '/mnt/sphere/speech_bci/processed_data/s_b1515_23/2023-02-27/sglx/dat_all.pkl', 'wav_mic': '/mnt/sphere/speech_bci/derived_data/s_b1515_23/2023-02-27/sglx/wav_mic.wav', 'mda_raw': '/scratch/earneodo/s_b1515_23/sglx/msort/2023-02-27/raw.mda', 'bin_raw': '/scratch/earneodo/s_b1515_23/sglx/ksort/2023-02-27/0/raw.bin'}}\n",
      "2023-03-06 10:19:53,143 root         INFO     found epochs: ['1214_g0', '1503_g0']\n",
      "2023-03-06 10:19:53,144 ceciestunepipe.util.spikeextractors.preprocess INFO     PREPROCESSING sess 2023-02-27 | epoch 1214_g0\n",
      "2023-03-06 10:19:53,145 ceciestunepipe.util.spikeextractors.preprocess INFO     getting extractors\n",
      "2023-03-06 10:19:53,195 ceciestunepipe.util.spikeextractors.preprocess INFO     Got sglx recordings for keys ['nidq']\n",
      "2023-03-06 10:19:53,196 ceciestunepipe.util.spikeextractors.preprocess INFO     Getting microphone channel(s) ['microphone_0', 'microphone_1']\n",
      "2023-03-06 10:19:54,859 ceciestunepipe.util.wavutil INFO     sampling rate 40000\n",
      "2023-03-06 10:19:54,861 ceciestunepipe.util.wavutil INFO     saving (2, 58842410)-shaped array as wav in /mnt/sphere/speech_bci/derived_data/s_b1515_23/2023-02-27/sglx/1214_g0/wav_mic.wav\n",
      "2023-03-06 10:19:54,875 ceciestunepipe.util.wavutil INFO     Not saving the file as wav, going straight to numpy + dict\n",
      "2023-03-06 10:19:54,875 ceciestunepipe.util.wavutil INFO     saving (2, 58842410)-shaped array as npy in /mnt/sphere/speech_bci/derived_data/s_b1515_23/2023-02-27/sglx/1214_g0/wav_mic.npy\n",
      "2023-03-06 10:19:54,876 ceciestunepipe.util.wavutil INFO     saving (58842410, 2)-shaped array as npy in /mnt/sphere/speech_bci/derived_data/s_b1515_23/2023-02-27/sglx/1214_g0/wav_mic.npy\n",
      "2023-03-06 10:19:55,192 ceciestunepipe.util.wavutil INFO     Saving meta of npy array to /mnt/sphere/speech_bci/derived_data/s_b1515_23/2023-02-27/sglx/1214_g0/wav_mic-npy_meta.json\n",
      "2023-03-06 10:19:55,193 ceciestunepipe.util.wavutil INFO     Saving meta of npy array to /mnt/sphere/speech_bci/derived_data/s_b1515_23/2023-02-27/sglx/1214_g0/wav_mic-npy_meta.pickle\n",
      "2023-03-06 10:19:55,200 ceciestunepipe.util.spikeextractors.preprocess INFO     Getting adc channel(s) ['pressure']\n",
      "2023-03-06 10:19:55,201 ceciestunepipe.util.wavutil INFO     sampling rate 40000\n",
      "2023-03-06 10:19:55,202 ceciestunepipe.util.wavutil INFO     saving (1, 58842410)-shaped array as wav in /mnt/sphere/speech_bci/derived_data/s_b1515_23/2023-02-27/sglx/1214_g0/wav_adc.wav\n",
      "2023-03-06 10:19:55,203 ceciestunepipe.util.wavutil INFO     Not saving the file as wav, going straight to numpy + dict\n",
      "2023-03-06 10:19:55,203 ceciestunepipe.util.wavutil INFO     saving (1, 58842410)-shaped array as npy in /mnt/sphere/speech_bci/derived_data/s_b1515_23/2023-02-27/sglx/1214_g0/wav_adc.npy\n",
      "2023-03-06 10:19:55,204 ceciestunepipe.util.wavutil INFO     saving (58842410, 1)-shaped array as npy in /mnt/sphere/speech_bci/derived_data/s_b1515_23/2023-02-27/sglx/1214_g0/wav_adc.npy\n",
      "2023-03-06 10:19:56,341 ceciestunepipe.util.wavutil INFO     Saving meta of npy array to /mnt/sphere/speech_bci/derived_data/s_b1515_23/2023-02-27/sglx/1214_g0/wav_adc-npy_meta.json\n",
      "2023-03-06 10:19:56,344 ceciestunepipe.util.wavutil INFO     Saving meta of npy array to /mnt/sphere/speech_bci/derived_data/s_b1515_23/2023-02-27/sglx/1214_g0/wav_adc-npy_meta.pickle\n",
      "2023-03-06 10:19:57,488 ceciestunepipe.util.spikeextractors.preprocess INFO     Getting sync channel(s) from nidaq streams: ['sync']\n",
      "2023-03-06 10:19:57,490 ceciestunepipe.util.spikeextractors.extractors.spikeglxrecordingextractor.spikeglxrecordingextractor INFO     getting ttl traces, chan [0 1 2 3 4 5 6 7]\n",
      "2023-03-06 10:19:58,397 ceciestunepipe.util.wavutil INFO     sampling rate 40000\n",
      "2023-03-06 10:19:58,399 ceciestunepipe.util.wavutil INFO     saving (1, 58842410)-shaped array as wav in /mnt/sphere/speech_bci/derived_data/s_b1515_23/2023-02-27/sglx/1214_g0/wav_sync.wav\n",
      "2023-03-06 10:19:58,400 ceciestunepipe.util.wavutil INFO     Not saving the file as wav, going straight to numpy + dict\n",
      "2023-03-06 10:19:58,400 ceciestunepipe.util.wavutil INFO     saving (1, 58842410)-shaped array as npy in /mnt/sphere/speech_bci/derived_data/s_b1515_23/2023-02-27/sglx/1214_g0/wav_sync.npy\n",
      "2023-03-06 10:19:58,401 ceciestunepipe.util.wavutil INFO     saving (58842410, 1)-shaped array as npy in /mnt/sphere/speech_bci/derived_data/s_b1515_23/2023-02-27/sglx/1214_g0/wav_sync.npy\n",
      "2023-03-06 10:19:58,561 ceciestunepipe.util.wavutil INFO     Saving meta of npy array to /mnt/sphere/speech_bci/derived_data/s_b1515_23/2023-02-27/sglx/1214_g0/wav_sync-npy_meta.json\n",
      "2023-03-06 10:19:58,563 ceciestunepipe.util.wavutil INFO     Saving meta of npy array to /mnt/sphere/speech_bci/derived_data/s_b1515_23/2023-02-27/sglx/1214_g0/wav_sync-npy_meta.pickle\n",
      "2023-03-06 10:19:58,565 ceciestunepipe.util.spikeextractors.preprocess INFO     Getting sync events from the wav sync channel\n",
      "/mnt/cube/earneodo/repos/ceciestunepipe/ceciestunepipe/util/wavutil.py:87: UserWarning: Did not find wav file /mnt/sphere/speech_bci/derived_data/s_b1515_23/2023-02-27/sglx/1214_g0/wav_sync.wav. Will try loading npy + dict\n",
      "  warnings.warn('Did not find wav file {}. Will try loading npy + dict'.format(wav_path))\n",
      "2023-03-06 10:19:58,566 ceciestunepipe.util.wavutil INFO     skipping wav, loading npy instead from /mnt/sphere/speech_bci/derived_data/s_b1515_23/2023-02-27/sglx/1214_g0/wav_sync.npy\n",
      "2023-03-06 10:19:58,567 ceciestunepipe.util.wavutil INFO     loading npy array from /mnt/sphere/speech_bci/derived_data/s_b1515_23/2023-02-27/sglx/1214_g0/wav_sync.npy\n",
      "2023-03-06 10:19:58,836 ceciestunepipe.util.spikeextractors.preprocess INFO     saving sync events of the wav channel to /mnt/sphere/speech_bci/derived_data/s_b1515_23/2023-02-27/sglx/1214_g0/wav_sync_evt.npy\n",
      "2023-03-06 10:19:58,847 ceciestunepipe.util.spikeextractors.preprocess INFO     saving t0 for wav channel to /mnt/sphere/speech_bci/derived_data/s_b1515_23/2023-02-27/sglx/1214_g0/wav_t0.npy\n",
      "2023-03-06 10:19:59,642 ceciestunepipe.util.spikeextractors.preprocess INFO     saving sync nidaq dict to /mnt/sphere/speech_bci/derived_data/s_b1515_23/2023-02-27/sglx/1214_g0/wav_sync_dict.pkl\n",
      "2023-03-06 10:19:59,644 ceciestunepipe.util.spikeextractors.preprocess INFO     Getting sync signals for imec streams: []\n",
      "2023-03-06 10:19:59,644 ceciestunepipe.util.spikeextractors.preprocess INFO     getting syn patterns for nidq\n",
      "2023-03-06 10:19:59,645 ceciestunepipe.util.spikeextractors.preprocess INFO     File /mnt/sphere/speech_bci/derived_data/s_b1515_23/2023-02-27/sglx/1214_g0/nidq_sync_dict.pkl not found or forced computation, getting the events\n",
      "2023-03-06 10:19:59,645 ceciestunepipe.util.spikeextractors.extractors.spikeglxrecordingextractor.spikeglxrecordingextractor INFO     getting ttl events, chan 0\n",
      "2023-03-06 10:20:00,295 ceciestunepipe.util.spikeextractors.preprocess INFO     saving events array to /mnt/sphere/speech_bci/derived_data/s_b1515_23/2023-02-27/sglx/1214_g0/nidq_sync_evt.npy\n",
      "2023-03-06 10:20:00,297 ceciestunepipe.util.spikeextractors.preprocess INFO     saving t_0 array to /mnt/sphere/speech_bci/derived_data/s_b1515_23/2023-02-27/sglx/1214_g0/nidq_t0.npy\n",
      "2023-03-06 10:20:00,987 ceciestunepipe.util.spikeextractors.preprocess INFO     saving sync dict to /mnt/sphere/speech_bci/derived_data/s_b1515_23/2023-02-27/sglx/1214_g0/nidq_sync_dict.pkl\n",
      "2023-03-06 10:20:00,989 ceciestunepipe.util.spikeextractors.preprocess INFO     loading syn_dict from /mnt/sphere/speech_bci/derived_data/s_b1515_23/2023-02-27/sglx/1214_g0/nidq_sync_dict.pkl\n",
      "2023-03-06 10:20:00,993 ceciestunepipe.util.spikeextractors.preprocess INFO     getting syn patterns for wav\n",
      "2023-03-06 10:20:00,994 ceciestunepipe.util.spikeextractors.preprocess INFO     loading syn_dict from /mnt/sphere/speech_bci/derived_data/s_b1515_23/2023-02-27/sglx/1214_g0/wav_sync_dict.pkl\n",
      "2023-03-06 10:20:00,998 ceciestunepipe.util.spikeextractors.preprocess INFO     saved epoch preprocessing parameters to /mnt/sphere/speech_bci/derived_data/s_b1515_23/2023-02-27/sglx/1214_g0/preprocess_par.pickle\n",
      "2023-03-06 10:20:01,000 ceciestunepipe.util.spikeextractors.preprocess INFO     PREPROCESSING sess 2023-02-27 | epoch 1503_g0\n",
      "2023-03-06 10:20:01,000 ceciestunepipe.util.spikeextractors.preprocess INFO     getting extractors\n",
      "2023-03-06 10:20:01,035 ceciestunepipe.util.spikeextractors.preprocess INFO     Got sglx recordings for keys ['nidq']\n",
      "2023-03-06 10:20:01,035 ceciestunepipe.util.spikeextractors.preprocess INFO     Getting microphone channel(s) ['microphone_0', 'microphone_1']\n",
      "2023-03-06 10:21:49,507 ceciestunepipe.util.wavutil INFO     sampling rate 40000\n",
      "2023-03-06 10:21:49,509 ceciestunepipe.util.wavutil INFO     saving (2, 3373090176)-shaped array as wav in /mnt/sphere/speech_bci/derived_data/s_b1515_23/2023-02-27/sglx/1503_g0/wav_mic.wav\n",
      "2023-03-06 10:21:49,516 ceciestunepipe.util.wavutil INFO     Not saving the file as wav, going straight to numpy + dict\n",
      "2023-03-06 10:21:49,516 ceciestunepipe.util.wavutil INFO     saving (2, 3373090176)-shaped array as npy in /mnt/sphere/speech_bci/derived_data/s_b1515_23/2023-02-27/sglx/1503_g0/wav_mic.npy\n",
      "2023-03-06 10:21:49,517 ceciestunepipe.util.wavutil INFO     saving (3373090176, 2)-shaped array as npy in /mnt/sphere/speech_bci/derived_data/s_b1515_23/2023-02-27/sglx/1503_g0/wav_mic.npy\n",
      "2023-03-06 10:22:08,352 ceciestunepipe.util.wavutil INFO     Saving meta of npy array to /mnt/sphere/speech_bci/derived_data/s_b1515_23/2023-02-27/sglx/1503_g0/wav_mic-npy_meta.json\n",
      "2023-03-06 10:22:08,366 ceciestunepipe.util.wavutil INFO     Saving meta of npy array to /mnt/sphere/speech_bci/derived_data/s_b1515_23/2023-02-27/sglx/1503_g0/wav_mic-npy_meta.pickle\n",
      "2023-03-06 10:22:08,368 ceciestunepipe.util.spikeextractors.preprocess INFO     Getting adc channel(s) ['pressure']\n",
      "2023-03-06 10:22:08,369 ceciestunepipe.util.wavutil INFO     sampling rate 40000\n",
      "2023-03-06 10:22:08,370 ceciestunepipe.util.wavutil INFO     saving (1, 3373090176)-shaped array as wav in /mnt/sphere/speech_bci/derived_data/s_b1515_23/2023-02-27/sglx/1503_g0/wav_adc.wav\n",
      "2023-03-06 10:22:08,372 ceciestunepipe.util.wavutil INFO     Not saving the file as wav, going straight to numpy + dict\n",
      "2023-03-06 10:22:08,372 ceciestunepipe.util.wavutil INFO     saving (1, 3373090176)-shaped array as npy in /mnt/sphere/speech_bci/derived_data/s_b1515_23/2023-02-27/sglx/1503_g0/wav_adc.npy\n",
      "2023-03-06 10:22:08,373 ceciestunepipe.util.wavutil INFO     saving (3373090176, 1)-shaped array as npy in /mnt/sphere/speech_bci/derived_data/s_b1515_23/2023-02-27/sglx/1503_g0/wav_adc.npy\n",
      "2023-03-06 10:23:13,496 ceciestunepipe.util.wavutil INFO     Saving meta of npy array to /mnt/sphere/speech_bci/derived_data/s_b1515_23/2023-02-27/sglx/1503_g0/wav_adc-npy_meta.json\n",
      "2023-03-06 10:23:13,516 ceciestunepipe.util.wavutil INFO     Saving meta of npy array to /mnt/sphere/speech_bci/derived_data/s_b1515_23/2023-02-27/sglx/1503_g0/wav_adc-npy_meta.pickle\n",
      "2023-03-06 10:24:18,432 ceciestunepipe.util.spikeextractors.preprocess INFO     Getting sync channel(s) from nidaq streams: ['sync']\n",
      "2023-03-06 10:24:18,434 ceciestunepipe.util.spikeextractors.extractors.spikeglxrecordingextractor.spikeglxrecordingextractor INFO     getting ttl traces, chan [0 1 2 3 4 5 6 7]\n",
      "2023-03-06 10:26:39,192 ceciestunepipe.util.wavutil INFO     sampling rate 40000\n",
      "2023-03-06 10:26:39,194 ceciestunepipe.util.wavutil INFO     saving (1, 3373090176)-shaped array as wav in /mnt/sphere/speech_bci/derived_data/s_b1515_23/2023-02-27/sglx/1503_g0/wav_sync.wav\n",
      "2023-03-06 10:26:39,227 ceciestunepipe.util.wavutil INFO     Not saving the file as wav, going straight to numpy + dict\n",
      "2023-03-06 10:26:39,228 ceciestunepipe.util.wavutil INFO     saving (1, 3373090176)-shaped array as npy in /mnt/sphere/speech_bci/derived_data/s_b1515_23/2023-02-27/sglx/1503_g0/wav_sync.npy\n",
      "2023-03-06 10:26:39,229 ceciestunepipe.util.wavutil INFO     saving (3373090176, 1)-shaped array as npy in /mnt/sphere/speech_bci/derived_data/s_b1515_23/2023-02-27/sglx/1503_g0/wav_sync.npy\n",
      "2023-03-06 10:26:49,091 ceciestunepipe.util.wavutil INFO     Saving meta of npy array to /mnt/sphere/speech_bci/derived_data/s_b1515_23/2023-02-27/sglx/1503_g0/wav_sync-npy_meta.json\n",
      "2023-03-06 10:26:49,094 ceciestunepipe.util.wavutil INFO     Saving meta of npy array to /mnt/sphere/speech_bci/derived_data/s_b1515_23/2023-02-27/sglx/1503_g0/wav_sync-npy_meta.pickle\n",
      "2023-03-06 10:26:49,096 ceciestunepipe.util.spikeextractors.preprocess INFO     Getting sync events from the wav sync channel\n",
      "/mnt/cube/earneodo/repos/ceciestunepipe/ceciestunepipe/util/wavutil.py:87: UserWarning: Did not find wav file /mnt/sphere/speech_bci/derived_data/s_b1515_23/2023-02-27/sglx/1503_g0/wav_sync.wav. Will try loading npy + dict\n",
      "  warnings.warn('Did not find wav file {}. Will try loading npy + dict'.format(wav_path))\n",
      "2023-03-06 10:26:49,097 ceciestunepipe.util.wavutil INFO     skipping wav, loading npy instead from /mnt/sphere/speech_bci/derived_data/s_b1515_23/2023-02-27/sglx/1503_g0/wav_sync.npy\n",
      "2023-03-06 10:26:49,098 ceciestunepipe.util.wavutil INFO     loading npy array from /mnt/sphere/speech_bci/derived_data/s_b1515_23/2023-02-27/sglx/1503_g0/wav_sync.npy\n",
      "2023-03-06 10:27:09,841 ceciestunepipe.util.spikeextractors.preprocess INFO     saving sync events of the wav channel to /mnt/sphere/speech_bci/derived_data/s_b1515_23/2023-02-27/sglx/1503_g0/wav_sync_evt.npy\n",
      "2023-03-06 10:27:09,863 ceciestunepipe.util.spikeextractors.preprocess INFO     saving t0 for wav channel to /mnt/sphere/speech_bci/derived_data/s_b1515_23/2023-02-27/sglx/1503_g0/wav_t0.npy\n",
      "2023-03-06 10:30:23,907 ceciestunepipe.util.spikeextractors.preprocess INFO     saving sync nidaq dict to /mnt/sphere/speech_bci/derived_data/s_b1515_23/2023-02-27/sglx/1503_g0/wav_sync_dict.pkl\n",
      "2023-03-06 10:30:23,916 ceciestunepipe.util.spikeextractors.preprocess INFO     Getting sync signals for imec streams: []\n",
      "2023-03-06 10:30:23,916 ceciestunepipe.util.spikeextractors.preprocess INFO     getting syn patterns for nidq\n",
      "2023-03-06 10:30:23,917 ceciestunepipe.util.spikeextractors.preprocess INFO     File /mnt/sphere/speech_bci/derived_data/s_b1515_23/2023-02-27/sglx/1503_g0/nidq_sync_dict.pkl not found or forced computation, getting the events\n",
      "2023-03-06 10:30:23,918 ceciestunepipe.util.spikeextractors.extractors.spikeglxrecordingextractor.spikeglxrecordingextractor INFO     getting ttl events, chan 0\n",
      "2023-03-06 10:35:19,747 ceciestunepipe.util.spikeextractors.preprocess INFO     saving events array to /mnt/sphere/speech_bci/derived_data/s_b1515_23/2023-02-27/sglx/1503_g0/nidq_sync_evt.npy\n",
      "2023-03-06 10:35:19,756 ceciestunepipe.util.spikeextractors.preprocess INFO     saving t_0 array to /mnt/sphere/speech_bci/derived_data/s_b1515_23/2023-02-27/sglx/1503_g0/nidq_t0.npy\n",
      "2023-03-06 10:35:51,589 ceciestunepipe.util.spikeextractors.preprocess INFO     saving sync dict to /mnt/sphere/speech_bci/derived_data/s_b1515_23/2023-02-27/sglx/1503_g0/nidq_sync_dict.pkl\n",
      "2023-03-06 10:35:51,591 ceciestunepipe.util.spikeextractors.preprocess INFO     loading syn_dict from /mnt/sphere/speech_bci/derived_data/s_b1515_23/2023-02-27/sglx/1503_g0/nidq_sync_dict.pkl\n",
      "2023-03-06 10:35:51,598 ceciestunepipe.util.spikeextractors.preprocess INFO     getting syn patterns for wav\n",
      "2023-03-06 10:35:51,599 ceciestunepipe.util.spikeextractors.preprocess INFO     loading syn_dict from /mnt/sphere/speech_bci/derived_data/s_b1515_23/2023-02-27/sglx/1503_g0/wav_sync_dict.pkl\n",
      "2023-03-06 10:35:51,612 ceciestunepipe.util.spikeextractors.preprocess INFO     saved epoch preprocessing parameters to /mnt/sphere/speech_bci/derived_data/s_b1515_23/2023-02-27/sglx/1503_g0/preprocess_par.pickle\n",
      "2023-03-06 10:35:52,058 root         INFO     pre-process all runs of sess 2023-03-03\n",
      "2023-03-06 10:35:52,059 ceciestunepipe.file.bcistructure INFO     {'folders': {'bird': '/mnt/sphere/speech_bci/raw_data/s_b1515_23', 'raw': '/mnt/sphere/speech_bci/raw_data/s_b1515_23/2023-03-03', 'sglx': '/mnt/sphere/speech_bci/raw_data/s_b1515_23/2023-03-03/sglx', 'kwik': '/scratch/earneodo/s_b1515_23/sglx/kwik/2023-03-03', 'processed': '/mnt/sphere/speech_bci/processed_data/s_b1515_23/2023-03-03/sglx', 'derived': '/mnt/sphere/speech_bci/derived_data/s_b1515_23/2023-03-03/sglx', 'tmp': '/scratch/earneodo/tmp', 'msort': '/scratch/earneodo/s_b1515_23/sglx/msort/2023-03-03', 'ksort': '/scratch/earneodo/s_b1515_23/sglx/ksort/2023-03-03/0', 'sort': '/mnt/sphere/speech_bci/derived_data/s_b1515_23/2023-03-03/sglx/0'}, 'files': {'par': '/scratch/earneodo/s_b1515_23/sglx/ksort/2023-03-03/0/params.json', 'set': '/mnt/sphere/speech_bci/raw_data/s_b1515_23/2023-03-03/sglx/settings.isf', 'rig': '/mnt/sphere/speech_bci/raw_data/s_b1515_23/2023-03-03/sglx/rig.json', 'kwd': '/scratch/earneodo/s_b1515_23/sglx/kwik/2023-03-03/stream.kwd', 'kwik': '/scratch/earneodo/s_b1515_23/sglx/kwik/2023-03-03/sort_0/spikes.kwik', 'kwe': '/scratch/earneodo/s_b1515_23/sglx/kwik/2023-03-03/events.kwe', 'dat_mic': '/mnt/sphere/speech_bci/processed_data/s_b1515_23/2023-03-03/sglx/dat_mic.mat', 'dat_ap': '/mnt/sphere/speech_bci/processed_data/s_b1515_23/2023-03-03/sglx/dat_ap.mat', 'allevents': '/mnt/sphere/speech_bci/processed_data/s_b1515_23/2023-03-03/sglx/dat_all.pkl', 'wav_mic': '/mnt/sphere/speech_bci/derived_data/s_b1515_23/2023-03-03/sglx/wav_mic.wav', 'mda_raw': '/scratch/earneodo/s_b1515_23/sglx/msort/2023-03-03/raw.mda', 'bin_raw': '/scratch/earneodo/s_b1515_23/sglx/ksort/2023-03-03/0/raw.bin'}}\n",
      "2023-03-06 10:35:52,136 root         INFO     found epochs: ['1417_g0', '1708_g0']\n",
      "2023-03-06 10:35:52,137 ceciestunepipe.util.spikeextractors.preprocess INFO     PREPROCESSING sess 2023-03-03 | epoch 1417_g0\n",
      "2023-03-06 10:35:52,138 ceciestunepipe.util.spikeextractors.preprocess INFO     getting extractors\n",
      "2023-03-06 10:35:52,214 ceciestunepipe.util.spikeextractors.preprocess INFO     Got sglx recordings for keys ['nidq']\n",
      "2023-03-06 10:35:52,215 ceciestunepipe.util.spikeextractors.preprocess INFO     Getting microphone channel(s) ['microphone_0', 'microphone_1']\n",
      "2023-03-06 10:37:28,079 ceciestunepipe.util.wavutil INFO     sampling rate 40000\n",
      "2023-03-06 10:37:28,081 ceciestunepipe.util.wavutil INFO     saving (2, 2644101419)-shaped array as wav in /mnt/sphere/speech_bci/derived_data/s_b1515_23/2023-03-03/sglx/1417_g0/wav_mic.wav\n",
      "2023-03-06 10:37:28,098 ceciestunepipe.util.wavutil INFO     Not saving the file as wav, going straight to numpy + dict\n",
      "2023-03-06 10:37:28,098 ceciestunepipe.util.wavutil INFO     saving (2, 2644101419)-shaped array as npy in /mnt/sphere/speech_bci/derived_data/s_b1515_23/2023-03-03/sglx/1417_g0/wav_mic.npy\n",
      "2023-03-06 10:37:28,099 ceciestunepipe.util.wavutil INFO     saving (2644101419, 2)-shaped array as npy in /mnt/sphere/speech_bci/derived_data/s_b1515_23/2023-03-03/sglx/1417_g0/wav_mic.npy\n",
      "2023-03-06 10:37:43,238 ceciestunepipe.util.wavutil INFO     Saving meta of npy array to /mnt/sphere/speech_bci/derived_data/s_b1515_23/2023-03-03/sglx/1417_g0/wav_mic-npy_meta.json\n",
      "2023-03-06 10:37:43,240 ceciestunepipe.util.wavutil INFO     Saving meta of npy array to /mnt/sphere/speech_bci/derived_data/s_b1515_23/2023-03-03/sglx/1417_g0/wav_mic-npy_meta.pickle\n",
      "2023-03-06 10:37:43,256 ceciestunepipe.util.spikeextractors.preprocess INFO     Getting adc channel(s) ['pressure']\n",
      "2023-03-06 10:37:43,257 ceciestunepipe.util.wavutil INFO     sampling rate 40000\n",
      "2023-03-06 10:37:43,258 ceciestunepipe.util.wavutil INFO     saving (1, 2644101419)-shaped array as wav in /mnt/sphere/speech_bci/derived_data/s_b1515_23/2023-03-03/sglx/1417_g0/wav_adc.wav\n",
      "2023-03-06 10:37:43,260 ceciestunepipe.util.wavutil INFO     Not saving the file as wav, going straight to numpy + dict\n",
      "2023-03-06 10:37:43,261 ceciestunepipe.util.wavutil INFO     saving (1, 2644101419)-shaped array as npy in /mnt/sphere/speech_bci/derived_data/s_b1515_23/2023-03-03/sglx/1417_g0/wav_adc.npy\n",
      "2023-03-06 10:37:43,262 ceciestunepipe.util.wavutil INFO     saving (2644101419, 1)-shaped array as npy in /mnt/sphere/speech_bci/derived_data/s_b1515_23/2023-03-03/sglx/1417_g0/wav_adc.npy\n",
      "2023-03-06 10:38:33,378 ceciestunepipe.util.wavutil INFO     Saving meta of npy array to /mnt/sphere/speech_bci/derived_data/s_b1515_23/2023-03-03/sglx/1417_g0/wav_adc-npy_meta.json\n",
      "2023-03-06 10:38:33,417 ceciestunepipe.util.wavutil INFO     Saving meta of npy array to /mnt/sphere/speech_bci/derived_data/s_b1515_23/2023-03-03/sglx/1417_g0/wav_adc-npy_meta.pickle\n",
      "2023-03-06 10:39:23,478 ceciestunepipe.util.spikeextractors.preprocess INFO     Getting sync channel(s) from nidaq streams: ['sync']\n",
      "2023-03-06 10:39:23,481 ceciestunepipe.util.spikeextractors.extractors.spikeglxrecordingextractor.spikeglxrecordingextractor INFO     getting ttl traces, chan [0 1 2 3 4 5 6 7]\n",
      "2023-03-06 10:40:15,870 ceciestunepipe.util.wavutil INFO     sampling rate 40000\n",
      "2023-03-06 10:40:15,872 ceciestunepipe.util.wavutil INFO     saving (1, 2644101419)-shaped array as wav in /mnt/sphere/speech_bci/derived_data/s_b1515_23/2023-03-03/sglx/1417_g0/wav_sync.wav\n",
      "2023-03-06 10:40:15,876 ceciestunepipe.util.wavutil INFO     Not saving the file as wav, going straight to numpy + dict\n",
      "2023-03-06 10:40:15,876 ceciestunepipe.util.wavutil INFO     saving (1, 2644101419)-shaped array as npy in /mnt/sphere/speech_bci/derived_data/s_b1515_23/2023-03-03/sglx/1417_g0/wav_sync.npy\n",
      "2023-03-06 10:40:15,877 ceciestunepipe.util.wavutil INFO     saving (2644101419, 1)-shaped array as npy in /mnt/sphere/speech_bci/derived_data/s_b1515_23/2023-03-03/sglx/1417_g0/wav_sync.npy\n",
      "2023-03-06 10:40:23,199 ceciestunepipe.util.wavutil INFO     Saving meta of npy array to /mnt/sphere/speech_bci/derived_data/s_b1515_23/2023-03-03/sglx/1417_g0/wav_sync-npy_meta.json\n",
      "2023-03-06 10:40:23,202 ceciestunepipe.util.wavutil INFO     Saving meta of npy array to /mnt/sphere/speech_bci/derived_data/s_b1515_23/2023-03-03/sglx/1417_g0/wav_sync-npy_meta.pickle\n",
      "2023-03-06 10:40:23,204 ceciestunepipe.util.spikeextractors.preprocess INFO     Getting sync events from the wav sync channel\n",
      "/mnt/cube/earneodo/repos/ceciestunepipe/ceciestunepipe/util/wavutil.py:87: UserWarning: Did not find wav file /mnt/sphere/speech_bci/derived_data/s_b1515_23/2023-03-03/sglx/1417_g0/wav_sync.wav. Will try loading npy + dict\n",
      "  warnings.warn('Did not find wav file {}. Will try loading npy + dict'.format(wav_path))\n",
      "2023-03-06 10:40:23,205 ceciestunepipe.util.wavutil INFO     skipping wav, loading npy instead from /mnt/sphere/speech_bci/derived_data/s_b1515_23/2023-03-03/sglx/1417_g0/wav_sync.npy\n",
      "2023-03-06 10:40:23,206 ceciestunepipe.util.wavutil INFO     loading npy array from /mnt/sphere/speech_bci/derived_data/s_b1515_23/2023-03-03/sglx/1417_g0/wav_sync.npy\n",
      "2023-03-06 10:40:37,990 ceciestunepipe.util.spikeextractors.preprocess INFO     saving sync events of the wav channel to /mnt/sphere/speech_bci/derived_data/s_b1515_23/2023-03-03/sglx/1417_g0/wav_sync_evt.npy\n",
      "2023-03-06 10:40:38,007 ceciestunepipe.util.spikeextractors.preprocess INFO     saving t0 for wav channel to /mnt/sphere/speech_bci/derived_data/s_b1515_23/2023-03-03/sglx/1417_g0/wav_t0.npy\n",
      "2023-03-06 10:42:30,258 ceciestunepipe.util.spikeextractors.preprocess INFO     saving sync nidaq dict to /mnt/sphere/speech_bci/derived_data/s_b1515_23/2023-03-03/sglx/1417_g0/wav_sync_dict.pkl\n",
      "2023-03-06 10:42:30,316 ceciestunepipe.util.spikeextractors.preprocess INFO     Getting sync signals for imec streams: []\n",
      "2023-03-06 10:42:30,317 ceciestunepipe.util.spikeextractors.preprocess INFO     getting syn patterns for nidq\n",
      "2023-03-06 10:42:30,318 ceciestunepipe.util.spikeextractors.preprocess INFO     File /mnt/sphere/speech_bci/derived_data/s_b1515_23/2023-03-03/sglx/1417_g0/nidq_sync_dict.pkl not found or forced computation, getting the events\n",
      "2023-03-06 10:42:30,319 ceciestunepipe.util.spikeextractors.extractors.spikeglxrecordingextractor.spikeglxrecordingextractor INFO     getting ttl events, chan 0\n",
      "2023-03-06 10:44:52,893 ceciestunepipe.util.spikeextractors.preprocess INFO     saving events array to /mnt/sphere/speech_bci/derived_data/s_b1515_23/2023-03-03/sglx/1417_g0/nidq_sync_evt.npy\n",
      "2023-03-06 10:44:52,899 ceciestunepipe.util.spikeextractors.preprocess INFO     saving t_0 array to /mnt/sphere/speech_bci/derived_data/s_b1515_23/2023-03-03/sglx/1417_g0/nidq_t0.npy\n",
      "2023-03-06 10:45:21,508 ceciestunepipe.util.spikeextractors.preprocess INFO     saving sync dict to /mnt/sphere/speech_bci/derived_data/s_b1515_23/2023-03-03/sglx/1417_g0/nidq_sync_dict.pkl\n",
      "2023-03-06 10:45:21,511 ceciestunepipe.util.spikeextractors.preprocess INFO     loading syn_dict from /mnt/sphere/speech_bci/derived_data/s_b1515_23/2023-03-03/sglx/1417_g0/nidq_sync_dict.pkl\n",
      "2023-03-06 10:45:21,516 ceciestunepipe.util.spikeextractors.preprocess INFO     getting syn patterns for wav\n",
      "2023-03-06 10:45:21,517 ceciestunepipe.util.spikeextractors.preprocess INFO     loading syn_dict from /mnt/sphere/speech_bci/derived_data/s_b1515_23/2023-03-03/sglx/1417_g0/wav_sync_dict.pkl\n",
      "2023-03-06 10:45:21,545 ceciestunepipe.util.spikeextractors.preprocess INFO     saved epoch preprocessing parameters to /mnt/sphere/speech_bci/derived_data/s_b1515_23/2023-03-03/sglx/1417_g0/preprocess_par.pickle\n",
      "2023-03-06 10:45:21,581 ceciestunepipe.util.spikeextractors.preprocess INFO     PREPROCESSING sess 2023-03-03 | epoch 1708_g0\n",
      "2023-03-06 10:45:21,582 ceciestunepipe.util.spikeextractors.preprocess INFO     getting extractors\n",
      "2023-03-06 10:45:21,640 ceciestunepipe.util.spikeextractors.preprocess INFO     Got sglx recordings for keys ['nidq']\n",
      "2023-03-06 10:45:21,640 ceciestunepipe.util.spikeextractors.preprocess INFO     Getting microphone channel(s) ['microphone_0', 'microphone_1']\n",
      "2023-03-06 10:45:56,626 ceciestunepipe.util.wavutil INFO     sampling rate 40000\n",
      "2023-03-06 10:45:56,627 ceciestunepipe.util.wavutil INFO     saving (2, 888929152)-shaped array as wav in /mnt/sphere/speech_bci/derived_data/s_b1515_23/2023-03-03/sglx/1708_g0/wav_mic.wav\n",
      "2023-03-06 10:45:56,646 ceciestunepipe.util.wavutil INFO     Not saving the file as wav, going straight to numpy + dict\n",
      "2023-03-06 10:45:56,647 ceciestunepipe.util.wavutil INFO     saving (2, 888929152)-shaped array as npy in /mnt/sphere/speech_bci/derived_data/s_b1515_23/2023-03-03/sglx/1708_g0/wav_mic.npy\n",
      "2023-03-06 10:45:56,648 ceciestunepipe.util.wavutil INFO     saving (888929152, 2)-shaped array as npy in /mnt/sphere/speech_bci/derived_data/s_b1515_23/2023-03-03/sglx/1708_g0/wav_mic.npy\n",
      "2023-03-06 10:46:01,780 ceciestunepipe.util.wavutil INFO     Saving meta of npy array to /mnt/sphere/speech_bci/derived_data/s_b1515_23/2023-03-03/sglx/1708_g0/wav_mic-npy_meta.json\n",
      "2023-03-06 10:46:01,782 ceciestunepipe.util.wavutil INFO     Saving meta of npy array to /mnt/sphere/speech_bci/derived_data/s_b1515_23/2023-03-03/sglx/1708_g0/wav_mic-npy_meta.pickle\n",
      "2023-03-06 10:46:01,784 ceciestunepipe.util.spikeextractors.preprocess INFO     Getting adc channel(s) ['pressure']\n",
      "2023-03-06 10:46:01,785 ceciestunepipe.util.wavutil INFO     sampling rate 40000\n",
      "2023-03-06 10:46:01,786 ceciestunepipe.util.wavutil INFO     saving (1, 888929152)-shaped array as wav in /mnt/sphere/speech_bci/derived_data/s_b1515_23/2023-03-03/sglx/1708_g0/wav_adc.wav\n",
      "2023-03-06 10:46:01,787 ceciestunepipe.util.wavutil INFO     Not saving the file as wav, going straight to numpy + dict\n",
      "2023-03-06 10:46:01,788 ceciestunepipe.util.wavutil INFO     saving (1, 888929152)-shaped array as npy in /mnt/sphere/speech_bci/derived_data/s_b1515_23/2023-03-03/sglx/1708_g0/wav_adc.npy\n",
      "2023-03-06 10:46:01,789 ceciestunepipe.util.wavutil INFO     saving (888929152, 1)-shaped array as npy in /mnt/sphere/speech_bci/derived_data/s_b1515_23/2023-03-03/sglx/1708_g0/wav_adc.npy\n",
      "2023-03-06 10:46:19,096 ceciestunepipe.util.wavutil INFO     Saving meta of npy array to /mnt/sphere/speech_bci/derived_data/s_b1515_23/2023-03-03/sglx/1708_g0/wav_adc-npy_meta.json\n",
      "2023-03-06 10:46:19,117 ceciestunepipe.util.wavutil INFO     Saving meta of npy array to /mnt/sphere/speech_bci/derived_data/s_b1515_23/2023-03-03/sglx/1708_g0/wav_adc-npy_meta.pickle\n",
      "2023-03-06 10:46:36,136 ceciestunepipe.util.spikeextractors.preprocess INFO     Getting sync channel(s) from nidaq streams: ['sync']\n",
      "2023-03-06 10:46:36,139 ceciestunepipe.util.spikeextractors.extractors.spikeglxrecordingextractor.spikeglxrecordingextractor INFO     getting ttl traces, chan [0 1 2 3 4 5 6 7]\n",
      "2023-03-06 10:47:09,438 ceciestunepipe.util.wavutil INFO     sampling rate 40000\n",
      "2023-03-06 10:47:09,441 ceciestunepipe.util.wavutil INFO     saving (1, 888929152)-shaped array as wav in /mnt/sphere/speech_bci/derived_data/s_b1515_23/2023-03-03/sglx/1708_g0/wav_sync.wav\n",
      "2023-03-06 10:47:09,443 ceciestunepipe.util.wavutil INFO     Not saving the file as wav, going straight to numpy + dict\n",
      "2023-03-06 10:47:09,444 ceciestunepipe.util.wavutil INFO     saving (1, 888929152)-shaped array as npy in /mnt/sphere/speech_bci/derived_data/s_b1515_23/2023-03-03/sglx/1708_g0/wav_sync.npy\n",
      "2023-03-06 10:47:09,445 ceciestunepipe.util.wavutil INFO     saving (888929152, 1)-shaped array as npy in /mnt/sphere/speech_bci/derived_data/s_b1515_23/2023-03-03/sglx/1708_g0/wav_sync.npy\n",
      "2023-03-06 10:47:11,856 ceciestunepipe.util.wavutil INFO     Saving meta of npy array to /mnt/sphere/speech_bci/derived_data/s_b1515_23/2023-03-03/sglx/1708_g0/wav_sync-npy_meta.json\n",
      "2023-03-06 10:47:11,858 ceciestunepipe.util.wavutil INFO     Saving meta of npy array to /mnt/sphere/speech_bci/derived_data/s_b1515_23/2023-03-03/sglx/1708_g0/wav_sync-npy_meta.pickle\n",
      "2023-03-06 10:47:11,860 ceciestunepipe.util.spikeextractors.preprocess INFO     Getting sync events from the wav sync channel\n",
      "/mnt/cube/earneodo/repos/ceciestunepipe/ceciestunepipe/util/wavutil.py:87: UserWarning: Did not find wav file /mnt/sphere/speech_bci/derived_data/s_b1515_23/2023-03-03/sglx/1708_g0/wav_sync.wav. Will try loading npy + dict\n",
      "  warnings.warn('Did not find wav file {}. Will try loading npy + dict'.format(wav_path))\n",
      "2023-03-06 10:47:11,862 ceciestunepipe.util.wavutil INFO     skipping wav, loading npy instead from /mnt/sphere/speech_bci/derived_data/s_b1515_23/2023-03-03/sglx/1708_g0/wav_sync.npy\n",
      "2023-03-06 10:47:11,863 ceciestunepipe.util.wavutil INFO     loading npy array from /mnt/sphere/speech_bci/derived_data/s_b1515_23/2023-03-03/sglx/1708_g0/wav_sync.npy\n",
      "2023-03-06 10:47:20,026 ceciestunepipe.util.spikeextractors.preprocess INFO     saving sync events of the wav channel to /mnt/sphere/speech_bci/derived_data/s_b1515_23/2023-03-03/sglx/1708_g0/wav_sync_evt.npy\n",
      "2023-03-06 10:47:20,029 ceciestunepipe.util.spikeextractors.preprocess INFO     saving t0 for wav channel to /mnt/sphere/speech_bci/derived_data/s_b1515_23/2023-03-03/sglx/1708_g0/wav_t0.npy\n",
      "2023-03-06 10:47:55,019 ceciestunepipe.util.spikeextractors.preprocess INFO     saving sync nidaq dict to /mnt/sphere/speech_bci/derived_data/s_b1515_23/2023-03-03/sglx/1708_g0/wav_sync_dict.pkl\n",
      "2023-03-06 10:47:55,022 ceciestunepipe.util.spikeextractors.preprocess INFO     Getting sync signals for imec streams: []\n",
      "2023-03-06 10:47:55,023 ceciestunepipe.util.spikeextractors.preprocess INFO     getting syn patterns for nidq\n",
      "2023-03-06 10:47:55,024 ceciestunepipe.util.spikeextractors.preprocess INFO     File /mnt/sphere/speech_bci/derived_data/s_b1515_23/2023-03-03/sglx/1708_g0/nidq_sync_dict.pkl not found or forced computation, getting the events\n",
      "2023-03-06 10:47:55,025 ceciestunepipe.util.spikeextractors.extractors.spikeglxrecordingextractor.spikeglxrecordingextractor INFO     getting ttl events, chan 0\n",
      "2023-03-06 10:48:41,267 ceciestunepipe.util.spikeextractors.preprocess INFO     saving events array to /mnt/sphere/speech_bci/derived_data/s_b1515_23/2023-03-03/sglx/1708_g0/nidq_sync_evt.npy\n",
      "2023-03-06 10:48:41,273 ceciestunepipe.util.spikeextractors.preprocess INFO     saving t_0 array to /mnt/sphere/speech_bci/derived_data/s_b1515_23/2023-03-03/sglx/1708_g0/nidq_t0.npy\n",
      "2023-03-06 10:48:51,361 ceciestunepipe.util.spikeextractors.preprocess INFO     saving sync dict to /mnt/sphere/speech_bci/derived_data/s_b1515_23/2023-03-03/sglx/1708_g0/nidq_sync_dict.pkl\n",
      "2023-03-06 10:48:51,363 ceciestunepipe.util.spikeextractors.preprocess INFO     loading syn_dict from /mnt/sphere/speech_bci/derived_data/s_b1515_23/2023-03-03/sglx/1708_g0/nidq_sync_dict.pkl\n",
      "2023-03-06 10:48:51,369 ceciestunepipe.util.spikeextractors.preprocess INFO     getting syn patterns for wav\n",
      "2023-03-06 10:48:51,370 ceciestunepipe.util.spikeextractors.preprocess INFO     loading syn_dict from /mnt/sphere/speech_bci/derived_data/s_b1515_23/2023-03-03/sglx/1708_g0/wav_sync_dict.pkl\n",
      "2023-03-06 10:48:51,374 ceciestunepipe.util.spikeextractors.preprocess INFO     saved epoch preprocessing parameters to /mnt/sphere/speech_bci/derived_data/s_b1515_23/2023-03-03/sglx/1708_g0/preprocess_par.pickle\n",
      "2023-03-06 10:48:52,176 root         INFO     pre-process all runs of sess 2023-03-04\n",
      "2023-03-06 10:48:52,178 ceciestunepipe.file.bcistructure INFO     {'folders': {'bird': '/mnt/sphere/speech_bci/raw_data/s_b1515_23', 'raw': '/mnt/sphere/speech_bci/raw_data/s_b1515_23/2023-03-04', 'sglx': '/mnt/sphere/speech_bci/raw_data/s_b1515_23/2023-03-04/sglx', 'kwik': '/scratch/earneodo/s_b1515_23/sglx/kwik/2023-03-04', 'processed': '/mnt/sphere/speech_bci/processed_data/s_b1515_23/2023-03-04/sglx', 'derived': '/mnt/sphere/speech_bci/derived_data/s_b1515_23/2023-03-04/sglx', 'tmp': '/scratch/earneodo/tmp', 'msort': '/scratch/earneodo/s_b1515_23/sglx/msort/2023-03-04', 'ksort': '/scratch/earneodo/s_b1515_23/sglx/ksort/2023-03-04/0', 'sort': '/mnt/sphere/speech_bci/derived_data/s_b1515_23/2023-03-04/sglx/0'}, 'files': {'par': '/scratch/earneodo/s_b1515_23/sglx/ksort/2023-03-04/0/params.json', 'set': '/mnt/sphere/speech_bci/raw_data/s_b1515_23/2023-03-04/sglx/settings.isf', 'rig': '/mnt/sphere/speech_bci/raw_data/s_b1515_23/2023-03-04/sglx/rig.json', 'kwd': '/scratch/earneodo/s_b1515_23/sglx/kwik/2023-03-04/stream.kwd', 'kwik': '/scratch/earneodo/s_b1515_23/sglx/kwik/2023-03-04/sort_0/spikes.kwik', 'kwe': '/scratch/earneodo/s_b1515_23/sglx/kwik/2023-03-04/events.kwe', 'dat_mic': '/mnt/sphere/speech_bci/processed_data/s_b1515_23/2023-03-04/sglx/dat_mic.mat', 'dat_ap': '/mnt/sphere/speech_bci/processed_data/s_b1515_23/2023-03-04/sglx/dat_ap.mat', 'allevents': '/mnt/sphere/speech_bci/processed_data/s_b1515_23/2023-03-04/sglx/dat_all.pkl', 'wav_mic': '/mnt/sphere/speech_bci/derived_data/s_b1515_23/2023-03-04/sglx/wav_mic.wav', 'mda_raw': '/scratch/earneodo/s_b1515_23/sglx/msort/2023-03-04/raw.mda', 'bin_raw': '/scratch/earneodo/s_b1515_23/sglx/ksort/2023-03-04/0/raw.bin'}}\n",
      "2023-03-06 10:48:52,180 root         INFO     found epochs: ['0839_g0', '1431_g0', '2123_g0']\n",
      "2023-03-06 10:48:52,181 ceciestunepipe.util.spikeextractors.preprocess INFO     PREPROCESSING sess 2023-03-04 | epoch 0839_g0\n",
      "2023-03-06 10:48:52,182 ceciestunepipe.util.spikeextractors.preprocess INFO     getting extractors\n",
      "2023-03-06 10:48:52,193 ceciestunepipe.util.spikeextractors.preprocess INFO     Got sglx recordings for keys ['nidq']\n",
      "2023-03-06 10:48:52,194 ceciestunepipe.util.spikeextractors.preprocess INFO     Getting microphone channel(s) ['microphone_0', 'microphone_1']\n",
      "2023-03-06 10:49:24,075 ceciestunepipe.util.wavutil INFO     sampling rate 40000\n",
      "2023-03-06 10:49:24,077 ceciestunepipe.util.wavutil INFO     saving (2, 844772311)-shaped array as wav in /mnt/sphere/speech_bci/derived_data/s_b1515_23/2023-03-04/sglx/0839_g0/wav_mic.wav\n",
      "2023-03-06 10:49:24,079 ceciestunepipe.util.wavutil INFO     Not saving the file as wav, going straight to numpy + dict\n",
      "2023-03-06 10:49:24,080 ceciestunepipe.util.wavutil INFO     saving (2, 844772311)-shaped array as npy in /mnt/sphere/speech_bci/derived_data/s_b1515_23/2023-03-04/sglx/0839_g0/wav_mic.npy\n",
      "2023-03-06 10:49:24,081 ceciestunepipe.util.wavutil INFO     saving (844772311, 2)-shaped array as npy in /mnt/sphere/speech_bci/derived_data/s_b1515_23/2023-03-04/sglx/0839_g0/wav_mic.npy\n",
      "2023-03-06 10:49:28,677 ceciestunepipe.util.wavutil INFO     Saving meta of npy array to /mnt/sphere/speech_bci/derived_data/s_b1515_23/2023-03-04/sglx/0839_g0/wav_mic-npy_meta.json\n",
      "2023-03-06 10:49:28,679 ceciestunepipe.util.wavutil INFO     Saving meta of npy array to /mnt/sphere/speech_bci/derived_data/s_b1515_23/2023-03-04/sglx/0839_g0/wav_mic-npy_meta.pickle\n",
      "2023-03-06 10:49:28,681 ceciestunepipe.util.spikeextractors.preprocess INFO     Getting adc channel(s) ['pressure']\n",
      "2023-03-06 10:49:28,682 ceciestunepipe.util.wavutil INFO     sampling rate 40000\n",
      "2023-03-06 10:49:28,683 ceciestunepipe.util.wavutil INFO     saving (1, 844772311)-shaped array as wav in /mnt/sphere/speech_bci/derived_data/s_b1515_23/2023-03-04/sglx/0839_g0/wav_adc.wav\n",
      "2023-03-06 10:49:28,685 ceciestunepipe.util.wavutil INFO     Not saving the file as wav, going straight to numpy + dict\n",
      "2023-03-06 10:49:28,685 ceciestunepipe.util.wavutil INFO     saving (1, 844772311)-shaped array as npy in /mnt/sphere/speech_bci/derived_data/s_b1515_23/2023-03-04/sglx/0839_g0/wav_adc.npy\n",
      "2023-03-06 10:49:28,686 ceciestunepipe.util.wavutil INFO     saving (844772311, 1)-shaped array as npy in /mnt/sphere/speech_bci/derived_data/s_b1515_23/2023-03-04/sglx/0839_g0/wav_adc.npy\n",
      "2023-03-06 10:49:45,025 ceciestunepipe.util.wavutil INFO     Saving meta of npy array to /mnt/sphere/speech_bci/derived_data/s_b1515_23/2023-03-04/sglx/0839_g0/wav_adc-npy_meta.json\n",
      "2023-03-06 10:49:45,031 ceciestunepipe.util.wavutil INFO     Saving meta of npy array to /mnt/sphere/speech_bci/derived_data/s_b1515_23/2023-03-04/sglx/0839_g0/wav_adc-npy_meta.pickle\n",
      "2023-03-06 10:50:01,429 ceciestunepipe.util.spikeextractors.preprocess INFO     Getting sync channel(s) from nidaq streams: ['sync']\n",
      "2023-03-06 10:50:01,434 ceciestunepipe.util.spikeextractors.extractors.spikeglxrecordingextractor.spikeglxrecordingextractor INFO     getting ttl traces, chan [0 1 2 3 4 5 6 7]\n",
      "2023-03-06 10:50:20,030 ceciestunepipe.util.wavutil INFO     sampling rate 40000\n",
      "2023-03-06 10:50:20,032 ceciestunepipe.util.wavutil INFO     saving (1, 844772311)-shaped array as wav in /mnt/sphere/speech_bci/derived_data/s_b1515_23/2023-03-04/sglx/0839_g0/wav_sync.wav\n",
      "2023-03-06 10:50:20,037 ceciestunepipe.util.wavutil INFO     Not saving the file as wav, going straight to numpy + dict\n",
      "2023-03-06 10:50:20,037 ceciestunepipe.util.wavutil INFO     saving (1, 844772311)-shaped array as npy in /mnt/sphere/speech_bci/derived_data/s_b1515_23/2023-03-04/sglx/0839_g0/wav_sync.npy\n",
      "2023-03-06 10:50:20,038 ceciestunepipe.util.wavutil INFO     saving (844772311, 1)-shaped array as npy in /mnt/sphere/speech_bci/derived_data/s_b1515_23/2023-03-04/sglx/0839_g0/wav_sync.npy\n",
      "2023-03-06 10:50:22,620 ceciestunepipe.util.wavutil INFO     Saving meta of npy array to /mnt/sphere/speech_bci/derived_data/s_b1515_23/2023-03-04/sglx/0839_g0/wav_sync-npy_meta.json\n",
      "2023-03-06 10:50:22,641 ceciestunepipe.util.wavutil INFO     Saving meta of npy array to /mnt/sphere/speech_bci/derived_data/s_b1515_23/2023-03-04/sglx/0839_g0/wav_sync-npy_meta.pickle\n",
      "2023-03-06 10:50:22,643 ceciestunepipe.util.spikeextractors.preprocess INFO     Getting sync events from the wav sync channel\n",
      "/mnt/cube/earneodo/repos/ceciestunepipe/ceciestunepipe/util/wavutil.py:87: UserWarning: Did not find wav file /mnt/sphere/speech_bci/derived_data/s_b1515_23/2023-03-04/sglx/0839_g0/wav_sync.wav. Will try loading npy + dict\n",
      "  warnings.warn('Did not find wav file {}. Will try loading npy + dict'.format(wav_path))\n",
      "2023-03-06 10:50:22,644 ceciestunepipe.util.wavutil INFO     skipping wav, loading npy instead from /mnt/sphere/speech_bci/derived_data/s_b1515_23/2023-03-04/sglx/0839_g0/wav_sync.npy\n",
      "2023-03-06 10:50:22,645 ceciestunepipe.util.wavutil INFO     loading npy array from /mnt/sphere/speech_bci/derived_data/s_b1515_23/2023-03-04/sglx/0839_g0/wav_sync.npy\n",
      "2023-03-06 10:50:27,352 ceciestunepipe.util.spikeextractors.preprocess INFO     saving sync events of the wav channel to /mnt/sphere/speech_bci/derived_data/s_b1515_23/2023-03-04/sglx/0839_g0/wav_sync_evt.npy\n",
      "2023-03-06 10:50:27,356 ceciestunepipe.util.spikeextractors.preprocess INFO     saving t0 for wav channel to /mnt/sphere/speech_bci/derived_data/s_b1515_23/2023-03-04/sglx/0839_g0/wav_t0.npy\n",
      "2023-03-06 10:50:40,224 ceciestunepipe.util.spikeextractors.preprocess INFO     saving sync nidaq dict to /mnt/sphere/speech_bci/derived_data/s_b1515_23/2023-03-04/sglx/0839_g0/wav_sync_dict.pkl\n",
      "2023-03-06 10:50:40,245 ceciestunepipe.util.spikeextractors.preprocess INFO     Getting sync signals for imec streams: []\n",
      "2023-03-06 10:50:40,247 ceciestunepipe.util.spikeextractors.preprocess INFO     getting syn patterns for nidq\n",
      "2023-03-06 10:50:40,248 ceciestunepipe.util.spikeextractors.preprocess INFO     File /mnt/sphere/speech_bci/derived_data/s_b1515_23/2023-03-04/sglx/0839_g0/nidq_sync_dict.pkl not found or forced computation, getting the events\n",
      "2023-03-06 10:50:40,249 ceciestunepipe.util.spikeextractors.extractors.spikeglxrecordingextractor.spikeglxrecordingextractor INFO     getting ttl events, chan 0\n",
      "2023-03-06 10:50:49,957 ceciestunepipe.util.spikeextractors.preprocess INFO     saving events array to /mnt/sphere/speech_bci/derived_data/s_b1515_23/2023-03-04/sglx/0839_g0/nidq_sync_evt.npy\n",
      "2023-03-06 10:50:49,960 ceciestunepipe.util.spikeextractors.preprocess INFO     saving t_0 array to /mnt/sphere/speech_bci/derived_data/s_b1515_23/2023-03-04/sglx/0839_g0/nidq_t0.npy\n",
      "2023-03-06 10:50:59,243 ceciestunepipe.util.spikeextractors.preprocess INFO     saving sync dict to /mnt/sphere/speech_bci/derived_data/s_b1515_23/2023-03-04/sglx/0839_g0/nidq_sync_dict.pkl\n",
      "2023-03-06 10:50:59,246 ceciestunepipe.util.spikeextractors.preprocess INFO     loading syn_dict from /mnt/sphere/speech_bci/derived_data/s_b1515_23/2023-03-04/sglx/0839_g0/nidq_sync_dict.pkl\n",
      "2023-03-06 10:50:59,251 ceciestunepipe.util.spikeextractors.preprocess INFO     getting syn patterns for wav\n",
      "2023-03-06 10:50:59,253 ceciestunepipe.util.spikeextractors.preprocess INFO     loading syn_dict from /mnt/sphere/speech_bci/derived_data/s_b1515_23/2023-03-04/sglx/0839_g0/wav_sync_dict.pkl\n",
      "2023-03-06 10:50:59,257 ceciestunepipe.util.spikeextractors.preprocess INFO     saved epoch preprocessing parameters to /mnt/sphere/speech_bci/derived_data/s_b1515_23/2023-03-04/sglx/0839_g0/preprocess_par.pickle\n",
      "2023-03-06 10:50:59,272 ceciestunepipe.util.spikeextractors.preprocess INFO     PREPROCESSING sess 2023-03-04 | epoch 1431_g0\n",
      "2023-03-06 10:50:59,273 ceciestunepipe.util.spikeextractors.preprocess INFO     getting extractors\n",
      "2023-03-06 10:50:59,284 ceciestunepipe.util.spikeextractors.preprocess INFO     Got sglx recordings for keys ['nidq']\n",
      "2023-03-06 10:50:59,285 ceciestunepipe.util.spikeextractors.preprocess INFO     Getting microphone channel(s) ['microphone_0', 'microphone_1']\n",
      "2023-03-06 10:51:45,715 ceciestunepipe.util.wavutil INFO     sampling rate 40000\n",
      "2023-03-06 10:51:45,718 ceciestunepipe.util.wavutil INFO     saving (2, 987794817)-shaped array as wav in /mnt/sphere/speech_bci/derived_data/s_b1515_23/2023-03-04/sglx/1431_g0/wav_mic.wav\n",
      "2023-03-06 10:51:45,745 ceciestunepipe.util.wavutil INFO     Not saving the file as wav, going straight to numpy + dict\n",
      "2023-03-06 10:51:45,746 ceciestunepipe.util.wavutil INFO     saving (2, 987794817)-shaped array as npy in /mnt/sphere/speech_bci/derived_data/s_b1515_23/2023-03-04/sglx/1431_g0/wav_mic.npy\n",
      "2023-03-06 10:51:45,747 ceciestunepipe.util.wavutil INFO     saving (987794817, 2)-shaped array as npy in /mnt/sphere/speech_bci/derived_data/s_b1515_23/2023-03-04/sglx/1431_g0/wav_mic.npy\n",
      "2023-03-06 10:51:51,272 ceciestunepipe.util.wavutil INFO     Saving meta of npy array to /mnt/sphere/speech_bci/derived_data/s_b1515_23/2023-03-04/sglx/1431_g0/wav_mic-npy_meta.json\n",
      "2023-03-06 10:51:51,275 ceciestunepipe.util.wavutil INFO     Saving meta of npy array to /mnt/sphere/speech_bci/derived_data/s_b1515_23/2023-03-04/sglx/1431_g0/wav_mic-npy_meta.pickle\n",
      "2023-03-06 10:51:51,277 ceciestunepipe.util.spikeextractors.preprocess INFO     Getting adc channel(s) ['pressure']\n",
      "2023-03-06 10:51:51,279 ceciestunepipe.util.wavutil INFO     sampling rate 40000\n",
      "2023-03-06 10:51:51,279 ceciestunepipe.util.wavutil INFO     saving (1, 987794817)-shaped array as wav in /mnt/sphere/speech_bci/derived_data/s_b1515_23/2023-03-04/sglx/1431_g0/wav_adc.wav\n",
      "2023-03-06 10:51:51,280 ceciestunepipe.util.wavutil INFO     Not saving the file as wav, going straight to numpy + dict\n",
      "2023-03-06 10:51:51,281 ceciestunepipe.util.wavutil INFO     saving (1, 987794817)-shaped array as npy in /mnt/sphere/speech_bci/derived_data/s_b1515_23/2023-03-04/sglx/1431_g0/wav_adc.npy\n",
      "2023-03-06 10:51:51,281 ceciestunepipe.util.wavutil INFO     saving (987794817, 1)-shaped array as npy in /mnt/sphere/speech_bci/derived_data/s_b1515_23/2023-03-04/sglx/1431_g0/wav_adc.npy\n",
      "2023-03-06 10:52:10,326 ceciestunepipe.util.wavutil INFO     Saving meta of npy array to /mnt/sphere/speech_bci/derived_data/s_b1515_23/2023-03-04/sglx/1431_g0/wav_adc-npy_meta.json\n",
      "2023-03-06 10:52:10,333 ceciestunepipe.util.wavutil INFO     Saving meta of npy array to /mnt/sphere/speech_bci/derived_data/s_b1515_23/2023-03-04/sglx/1431_g0/wav_adc-npy_meta.pickle\n",
      "2023-03-06 10:52:29,323 ceciestunepipe.util.spikeextractors.preprocess INFO     Getting sync channel(s) from nidaq streams: ['sync']\n",
      "2023-03-06 10:52:29,326 ceciestunepipe.util.spikeextractors.extractors.spikeglxrecordingextractor.spikeglxrecordingextractor INFO     getting ttl traces, chan [0 1 2 3 4 5 6 7]\n",
      "2023-03-06 10:52:44,862 ceciestunepipe.util.wavutil INFO     sampling rate 40000\n",
      "2023-03-06 10:52:44,864 ceciestunepipe.util.wavutil INFO     saving (1, 987794817)-shaped array as wav in /mnt/sphere/speech_bci/derived_data/s_b1515_23/2023-03-04/sglx/1431_g0/wav_sync.wav\n",
      "2023-03-06 10:52:44,868 ceciestunepipe.util.wavutil INFO     Not saving the file as wav, going straight to numpy + dict\n",
      "2023-03-06 10:52:44,869 ceciestunepipe.util.wavutil INFO     saving (1, 987794817)-shaped array as npy in /mnt/sphere/speech_bci/derived_data/s_b1515_23/2023-03-04/sglx/1431_g0/wav_sync.npy\n",
      "2023-03-06 10:52:44,870 ceciestunepipe.util.wavutil INFO     saving (987794817, 1)-shaped array as npy in /mnt/sphere/speech_bci/derived_data/s_b1515_23/2023-03-04/sglx/1431_g0/wav_sync.npy\n",
      "2023-03-06 10:52:47,658 ceciestunepipe.util.wavutil INFO     Saving meta of npy array to /mnt/sphere/speech_bci/derived_data/s_b1515_23/2023-03-04/sglx/1431_g0/wav_sync-npy_meta.json\n",
      "2023-03-06 10:52:47,662 ceciestunepipe.util.wavutil INFO     Saving meta of npy array to /mnt/sphere/speech_bci/derived_data/s_b1515_23/2023-03-04/sglx/1431_g0/wav_sync-npy_meta.pickle\n",
      "2023-03-06 10:52:47,663 ceciestunepipe.util.spikeextractors.preprocess INFO     Getting sync events from the wav sync channel\n",
      "/mnt/cube/earneodo/repos/ceciestunepipe/ceciestunepipe/util/wavutil.py:87: UserWarning: Did not find wav file /mnt/sphere/speech_bci/derived_data/s_b1515_23/2023-03-04/sglx/1431_g0/wav_sync.wav. Will try loading npy + dict\n",
      "  warnings.warn('Did not find wav file {}. Will try loading npy + dict'.format(wav_path))\n",
      "2023-03-06 10:52:47,664 ceciestunepipe.util.wavutil INFO     skipping wav, loading npy instead from /mnt/sphere/speech_bci/derived_data/s_b1515_23/2023-03-04/sglx/1431_g0/wav_sync.npy\n",
      "2023-03-06 10:52:47,664 ceciestunepipe.util.wavutil INFO     loading npy array from /mnt/sphere/speech_bci/derived_data/s_b1515_23/2023-03-04/sglx/1431_g0/wav_sync.npy\n",
      "2023-03-06 10:52:53,088 ceciestunepipe.util.spikeextractors.preprocess INFO     saving sync events of the wav channel to /mnt/sphere/speech_bci/derived_data/s_b1515_23/2023-03-04/sglx/1431_g0/wav_sync_evt.npy\n",
      "2023-03-06 10:52:53,090 ceciestunepipe.util.spikeextractors.preprocess INFO     saving t0 for wav channel to /mnt/sphere/speech_bci/derived_data/s_b1515_23/2023-03-04/sglx/1431_g0/wav_t0.npy\n",
      "2023-03-06 10:53:18,011 ceciestunepipe.util.spikeextractors.preprocess INFO     saving sync nidaq dict to /mnt/sphere/speech_bci/derived_data/s_b1515_23/2023-03-04/sglx/1431_g0/wav_sync_dict.pkl\n",
      "2023-03-06 10:53:18,014 ceciestunepipe.util.spikeextractors.preprocess INFO     Getting sync signals for imec streams: []\n",
      "2023-03-06 10:53:18,015 ceciestunepipe.util.spikeextractors.preprocess INFO     getting syn patterns for nidq\n",
      "2023-03-06 10:53:18,016 ceciestunepipe.util.spikeextractors.preprocess INFO     File /mnt/sphere/speech_bci/derived_data/s_b1515_23/2023-03-04/sglx/1431_g0/nidq_sync_dict.pkl not found or forced computation, getting the events\n",
      "2023-03-06 10:53:18,016 ceciestunepipe.util.spikeextractors.extractors.spikeglxrecordingextractor.spikeglxrecordingextractor INFO     getting ttl events, chan 0\n",
      "2023-03-06 10:53:38,880 ceciestunepipe.util.spikeextractors.preprocess INFO     saving events array to /mnt/sphere/speech_bci/derived_data/s_b1515_23/2023-03-04/sglx/1431_g0/nidq_sync_evt.npy\n",
      "2023-03-06 10:53:38,885 ceciestunepipe.util.spikeextractors.preprocess INFO     saving t_0 array to /mnt/sphere/speech_bci/derived_data/s_b1515_23/2023-03-04/sglx/1431_g0/nidq_t0.npy\n",
      "2023-03-06 10:53:49,512 ceciestunepipe.util.spikeextractors.preprocess INFO     saving sync dict to /mnt/sphere/speech_bci/derived_data/s_b1515_23/2023-03-04/sglx/1431_g0/nidq_sync_dict.pkl\n",
      "2023-03-06 10:53:49,515 ceciestunepipe.util.spikeextractors.preprocess INFO     loading syn_dict from /mnt/sphere/speech_bci/derived_data/s_b1515_23/2023-03-04/sglx/1431_g0/nidq_sync_dict.pkl\n",
      "2023-03-06 10:53:49,520 ceciestunepipe.util.spikeextractors.preprocess INFO     getting syn patterns for wav\n",
      "2023-03-06 10:53:49,521 ceciestunepipe.util.spikeextractors.preprocess INFO     loading syn_dict from /mnt/sphere/speech_bci/derived_data/s_b1515_23/2023-03-04/sglx/1431_g0/wav_sync_dict.pkl\n",
      "2023-03-06 10:53:49,525 ceciestunepipe.util.spikeextractors.preprocess INFO     saved epoch preprocessing parameters to /mnt/sphere/speech_bci/derived_data/s_b1515_23/2023-03-04/sglx/1431_g0/preprocess_par.pickle\n",
      "2023-03-06 10:53:49,539 ceciestunepipe.util.spikeextractors.preprocess INFO     PREPROCESSING sess 2023-03-04 | epoch 2123_g0\n",
      "2023-03-06 10:53:49,540 ceciestunepipe.util.spikeextractors.preprocess INFO     getting extractors\n",
      "2023-03-06 10:53:49,576 ceciestunepipe.util.spikeextractors.preprocess INFO     Got sglx recordings for keys ['nidq']\n",
      "2023-03-06 10:53:49,577 ceciestunepipe.util.spikeextractors.preprocess INFO     Getting microphone channel(s) ['microphone_0', 'microphone_1']\n",
      "2023-03-06 10:54:10,152 ceciestunepipe.util.wavutil INFO     sampling rate 40000\n",
      "2023-03-06 10:54:10,153 ceciestunepipe.util.wavutil INFO     saving (2, 453814058)-shaped array as wav in /mnt/sphere/speech_bci/derived_data/s_b1515_23/2023-03-04/sglx/2123_g0/wav_mic.wav\n",
      "2023-03-06 10:54:10,157 ceciestunepipe.util.wavutil INFO     Not saving the file as wav, going straight to numpy + dict\n",
      "2023-03-06 10:54:10,158 ceciestunepipe.util.wavutil INFO     saving (2, 453814058)-shaped array as npy in /mnt/sphere/speech_bci/derived_data/s_b1515_23/2023-03-04/sglx/2123_g0/wav_mic.npy\n",
      "2023-03-06 10:54:10,158 ceciestunepipe.util.wavutil INFO     saving (453814058, 2)-shaped array as npy in /mnt/sphere/speech_bci/derived_data/s_b1515_23/2023-03-04/sglx/2123_g0/wav_mic.npy\n",
      "2023-03-06 10:54:13,171 ceciestunepipe.util.wavutil INFO     Saving meta of npy array to /mnt/sphere/speech_bci/derived_data/s_b1515_23/2023-03-04/sglx/2123_g0/wav_mic-npy_meta.json\n",
      "2023-03-06 10:54:13,174 ceciestunepipe.util.wavutil INFO     Saving meta of npy array to /mnt/sphere/speech_bci/derived_data/s_b1515_23/2023-03-04/sglx/2123_g0/wav_mic-npy_meta.pickle\n",
      "2023-03-06 10:54:13,175 ceciestunepipe.util.spikeextractors.preprocess INFO     Getting adc channel(s) ['pressure']\n",
      "2023-03-06 10:54:13,176 ceciestunepipe.util.wavutil INFO     sampling rate 40000\n",
      "2023-03-06 10:54:13,177 ceciestunepipe.util.wavutil INFO     saving (1, 453814058)-shaped array as wav in /mnt/sphere/speech_bci/derived_data/s_b1515_23/2023-03-04/sglx/2123_g0/wav_adc.wav\n",
      "2023-03-06 10:54:13,179 ceciestunepipe.util.wavutil INFO     Not saving the file as wav, going straight to numpy + dict\n",
      "2023-03-06 10:54:13,179 ceciestunepipe.util.wavutil INFO     saving (1, 453814058)-shaped array as npy in /mnt/sphere/speech_bci/derived_data/s_b1515_23/2023-03-04/sglx/2123_g0/wav_adc.npy\n",
      "2023-03-06 10:54:13,180 ceciestunepipe.util.wavutil INFO     saving (453814058, 1)-shaped array as npy in /mnt/sphere/speech_bci/derived_data/s_b1515_23/2023-03-04/sglx/2123_g0/wav_adc.npy\n",
      "2023-03-06 10:54:22,156 ceciestunepipe.util.wavutil INFO     Saving meta of npy array to /mnt/sphere/speech_bci/derived_data/s_b1515_23/2023-03-04/sglx/2123_g0/wav_adc-npy_meta.json\n",
      "2023-03-06 10:54:22,159 ceciestunepipe.util.wavutil INFO     Saving meta of npy array to /mnt/sphere/speech_bci/derived_data/s_b1515_23/2023-03-04/sglx/2123_g0/wav_adc-npy_meta.pickle\n",
      "2023-03-06 10:54:31,042 ceciestunepipe.util.spikeextractors.preprocess INFO     Getting sync channel(s) from nidaq streams: ['sync']\n",
      "2023-03-06 10:54:31,045 ceciestunepipe.util.spikeextractors.extractors.spikeglxrecordingextractor.spikeglxrecordingextractor INFO     getting ttl traces, chan [0 1 2 3 4 5 6 7]\n",
      "2023-03-06 10:54:51,480 ceciestunepipe.util.wavutil INFO     sampling rate 40000\n",
      "2023-03-06 10:54:51,482 ceciestunepipe.util.wavutil INFO     saving (1, 453814058)-shaped array as wav in /mnt/sphere/speech_bci/derived_data/s_b1515_23/2023-03-04/sglx/2123_g0/wav_sync.wav\n",
      "2023-03-06 10:54:51,487 ceciestunepipe.util.wavutil INFO     Not saving the file as wav, going straight to numpy + dict\n",
      "2023-03-06 10:54:51,488 ceciestunepipe.util.wavutil INFO     saving (1, 453814058)-shaped array as npy in /mnt/sphere/speech_bci/derived_data/s_b1515_23/2023-03-04/sglx/2123_g0/wav_sync.npy\n",
      "2023-03-06 10:54:51,489 ceciestunepipe.util.wavutil INFO     saving (453814058, 1)-shaped array as npy in /mnt/sphere/speech_bci/derived_data/s_b1515_23/2023-03-04/sglx/2123_g0/wav_sync.npy\n",
      "2023-03-06 10:54:52,738 ceciestunepipe.util.wavutil INFO     Saving meta of npy array to /mnt/sphere/speech_bci/derived_data/s_b1515_23/2023-03-04/sglx/2123_g0/wav_sync-npy_meta.json\n",
      "2023-03-06 10:54:52,740 ceciestunepipe.util.wavutil INFO     Saving meta of npy array to /mnt/sphere/speech_bci/derived_data/s_b1515_23/2023-03-04/sglx/2123_g0/wav_sync-npy_meta.pickle\n",
      "2023-03-06 10:54:52,742 ceciestunepipe.util.spikeextractors.preprocess INFO     Getting sync events from the wav sync channel\n",
      "/mnt/cube/earneodo/repos/ceciestunepipe/ceciestunepipe/util/wavutil.py:87: UserWarning: Did not find wav file /mnt/sphere/speech_bci/derived_data/s_b1515_23/2023-03-04/sglx/2123_g0/wav_sync.wav. Will try loading npy + dict\n",
      "  warnings.warn('Did not find wav file {}. Will try loading npy + dict'.format(wav_path))\n",
      "2023-03-06 10:54:52,743 ceciestunepipe.util.wavutil INFO     skipping wav, loading npy instead from /mnt/sphere/speech_bci/derived_data/s_b1515_23/2023-03-04/sglx/2123_g0/wav_sync.npy\n",
      "2023-03-06 10:54:52,744 ceciestunepipe.util.wavutil INFO     loading npy array from /mnt/sphere/speech_bci/derived_data/s_b1515_23/2023-03-04/sglx/2123_g0/wav_sync.npy\n",
      "2023-03-06 10:54:55,706 ceciestunepipe.util.spikeextractors.preprocess INFO     saving sync events of the wav channel to /mnt/sphere/speech_bci/derived_data/s_b1515_23/2023-03-04/sglx/2123_g0/wav_sync_evt.npy\n",
      "2023-03-06 10:54:55,709 ceciestunepipe.util.spikeextractors.preprocess INFO     saving t0 for wav channel to /mnt/sphere/speech_bci/derived_data/s_b1515_23/2023-03-04/sglx/2123_g0/wav_t0.npy\n",
      "2023-03-06 10:55:10,203 ceciestunepipe.util.spikeextractors.preprocess INFO     saving sync nidaq dict to /mnt/sphere/speech_bci/derived_data/s_b1515_23/2023-03-04/sglx/2123_g0/wav_sync_dict.pkl\n",
      "2023-03-06 10:55:10,205 ceciestunepipe.util.spikeextractors.preprocess INFO     Getting sync signals for imec streams: []\n",
      "2023-03-06 10:55:10,206 ceciestunepipe.util.spikeextractors.preprocess INFO     getting syn patterns for nidq\n",
      "2023-03-06 10:55:10,207 ceciestunepipe.util.spikeextractors.preprocess INFO     File /mnt/sphere/speech_bci/derived_data/s_b1515_23/2023-03-04/sglx/2123_g0/nidq_sync_dict.pkl not found or forced computation, getting the events\n",
      "2023-03-06 10:55:10,208 ceciestunepipe.util.spikeextractors.extractors.spikeglxrecordingextractor.spikeglxrecordingextractor INFO     getting ttl events, chan 0\n",
      "2023-03-06 10:55:26,604 ceciestunepipe.util.spikeextractors.preprocess INFO     saving events array to /mnt/sphere/speech_bci/derived_data/s_b1515_23/2023-03-04/sglx/2123_g0/nidq_sync_evt.npy\n",
      "2023-03-06 10:55:26,609 ceciestunepipe.util.spikeextractors.preprocess INFO     saving t_0 array to /mnt/sphere/speech_bci/derived_data/s_b1515_23/2023-03-04/sglx/2123_g0/nidq_t0.npy\n",
      "2023-03-06 10:55:31,419 ceciestunepipe.util.spikeextractors.preprocess INFO     saving sync dict to /mnt/sphere/speech_bci/derived_data/s_b1515_23/2023-03-04/sglx/2123_g0/nidq_sync_dict.pkl\n",
      "2023-03-06 10:55:31,421 ceciestunepipe.util.spikeextractors.preprocess INFO     loading syn_dict from /mnt/sphere/speech_bci/derived_data/s_b1515_23/2023-03-04/sglx/2123_g0/nidq_sync_dict.pkl\n",
      "2023-03-06 10:55:31,427 ceciestunepipe.util.spikeextractors.preprocess INFO     getting syn patterns for wav\n",
      "2023-03-06 10:55:31,428 ceciestunepipe.util.spikeextractors.preprocess INFO     loading syn_dict from /mnt/sphere/speech_bci/derived_data/s_b1515_23/2023-03-04/sglx/2123_g0/wav_sync_dict.pkl\n",
      "2023-03-06 10:55:31,432 ceciestunepipe.util.spikeextractors.preprocess INFO     saved epoch preprocessing parameters to /mnt/sphere/speech_bci/derived_data/s_b1515_23/2023-03-04/sglx/2123_g0/preprocess_par.pickle\n",
      "2023-03-06 10:55:31,932 root         INFO     pre-process all runs of sess 2023-03-05\n",
      "2023-03-06 10:55:31,934 ceciestunepipe.file.bcistructure INFO     {'folders': {'bird': '/mnt/sphere/speech_bci/raw_data/s_b1515_23', 'raw': '/mnt/sphere/speech_bci/raw_data/s_b1515_23/2023-03-05', 'sglx': '/mnt/sphere/speech_bci/raw_data/s_b1515_23/2023-03-05/sglx', 'kwik': '/scratch/earneodo/s_b1515_23/sglx/kwik/2023-03-05', 'processed': '/mnt/sphere/speech_bci/processed_data/s_b1515_23/2023-03-05/sglx', 'derived': '/mnt/sphere/speech_bci/derived_data/s_b1515_23/2023-03-05/sglx', 'tmp': '/scratch/earneodo/tmp', 'msort': '/scratch/earneodo/s_b1515_23/sglx/msort/2023-03-05', 'ksort': '/scratch/earneodo/s_b1515_23/sglx/ksort/2023-03-05/0', 'sort': '/mnt/sphere/speech_bci/derived_data/s_b1515_23/2023-03-05/sglx/0'}, 'files': {'par': '/scratch/earneodo/s_b1515_23/sglx/ksort/2023-03-05/0/params.json', 'set': '/mnt/sphere/speech_bci/raw_data/s_b1515_23/2023-03-05/sglx/settings.isf', 'rig': '/mnt/sphere/speech_bci/raw_data/s_b1515_23/2023-03-05/sglx/rig.json', 'kwd': '/scratch/earneodo/s_b1515_23/sglx/kwik/2023-03-05/stream.kwd', 'kwik': '/scratch/earneodo/s_b1515_23/sglx/kwik/2023-03-05/sort_0/spikes.kwik', 'kwe': '/scratch/earneodo/s_b1515_23/sglx/kwik/2023-03-05/events.kwe', 'dat_mic': '/mnt/sphere/speech_bci/processed_data/s_b1515_23/2023-03-05/sglx/dat_mic.mat', 'dat_ap': '/mnt/sphere/speech_bci/processed_data/s_b1515_23/2023-03-05/sglx/dat_ap.mat', 'allevents': '/mnt/sphere/speech_bci/processed_data/s_b1515_23/2023-03-05/sglx/dat_all.pkl', 'wav_mic': '/mnt/sphere/speech_bci/derived_data/s_b1515_23/2023-03-05/sglx/wav_mic.wav', 'mda_raw': '/scratch/earneodo/s_b1515_23/sglx/msort/2023-03-05/raw.mda', 'bin_raw': '/scratch/earneodo/s_b1515_23/sglx/ksort/2023-03-05/0/raw.bin'}}\n",
      "2023-03-06 10:55:31,967 root         INFO     found epochs: ['0918_g0', '1538_g0']\n",
      "2023-03-06 10:55:31,968 ceciestunepipe.util.spikeextractors.preprocess INFO     PREPROCESSING sess 2023-03-05 | epoch 0918_g0\n",
      "2023-03-06 10:55:31,968 ceciestunepipe.util.spikeextractors.preprocess INFO     getting extractors\n",
      "2023-03-06 10:55:32,008 ceciestunepipe.util.spikeextractors.preprocess INFO     Got sglx recordings for keys ['nidq']\n",
      "2023-03-06 10:55:32,009 ceciestunepipe.util.spikeextractors.preprocess INFO     Getting microphone channel(s) ['microphone_0', 'microphone_1']\n",
      "2023-03-06 10:56:12,310 ceciestunepipe.util.wavutil INFO     sampling rate 40000\n",
      "2023-03-06 10:56:12,313 ceciestunepipe.util.wavutil INFO     saving (2, 909806976)-shaped array as wav in /mnt/sphere/speech_bci/derived_data/s_b1515_23/2023-03-05/sglx/0918_g0/wav_mic.wav\n",
      "2023-03-06 10:56:12,345 ceciestunepipe.util.wavutil INFO     Not saving the file as wav, going straight to numpy + dict\n",
      "2023-03-06 10:56:12,346 ceciestunepipe.util.wavutil INFO     saving (2, 909806976)-shaped array as npy in /mnt/sphere/speech_bci/derived_data/s_b1515_23/2023-03-05/sglx/0918_g0/wav_mic.npy\n",
      "2023-03-06 10:56:12,347 ceciestunepipe.util.wavutil INFO     saving (909806976, 2)-shaped array as npy in /mnt/sphere/speech_bci/derived_data/s_b1515_23/2023-03-05/sglx/0918_g0/wav_mic.npy\n",
      "2023-03-06 10:56:17,519 ceciestunepipe.util.wavutil INFO     Saving meta of npy array to /mnt/sphere/speech_bci/derived_data/s_b1515_23/2023-03-05/sglx/0918_g0/wav_mic-npy_meta.json\n",
      "2023-03-06 10:56:17,521 ceciestunepipe.util.wavutil INFO     Saving meta of npy array to /mnt/sphere/speech_bci/derived_data/s_b1515_23/2023-03-05/sglx/0918_g0/wav_mic-npy_meta.pickle\n",
      "2023-03-06 10:56:17,523 ceciestunepipe.util.spikeextractors.preprocess INFO     Getting adc channel(s) ['pressure']\n",
      "2023-03-06 10:56:17,524 ceciestunepipe.util.wavutil INFO     sampling rate 40000\n",
      "2023-03-06 10:56:17,524 ceciestunepipe.util.wavutil INFO     saving (1, 909806976)-shaped array as wav in /mnt/sphere/speech_bci/derived_data/s_b1515_23/2023-03-05/sglx/0918_g0/wav_adc.wav\n",
      "2023-03-06 10:56:17,526 ceciestunepipe.util.wavutil INFO     Not saving the file as wav, going straight to numpy + dict\n",
      "2023-03-06 10:56:17,526 ceciestunepipe.util.wavutil INFO     saving (1, 909806976)-shaped array as npy in /mnt/sphere/speech_bci/derived_data/s_b1515_23/2023-03-05/sglx/0918_g0/wav_adc.npy\n",
      "2023-03-06 10:56:17,527 ceciestunepipe.util.wavutil INFO     saving (909806976, 1)-shaped array as npy in /mnt/sphere/speech_bci/derived_data/s_b1515_23/2023-03-05/sglx/0918_g0/wav_adc.npy\n",
      "2023-03-06 10:56:35,066 ceciestunepipe.util.wavutil INFO     Saving meta of npy array to /mnt/sphere/speech_bci/derived_data/s_b1515_23/2023-03-05/sglx/0918_g0/wav_adc-npy_meta.json\n",
      "2023-03-06 10:56:35,072 ceciestunepipe.util.wavutil INFO     Saving meta of npy array to /mnt/sphere/speech_bci/derived_data/s_b1515_23/2023-03-05/sglx/0918_g0/wav_adc-npy_meta.pickle\n",
      "2023-03-06 10:56:52,383 ceciestunepipe.util.spikeextractors.preprocess INFO     Getting sync channel(s) from nidaq streams: ['sync']\n",
      "2023-03-06 10:56:52,386 ceciestunepipe.util.spikeextractors.extractors.spikeglxrecordingextractor.spikeglxrecordingextractor INFO     getting ttl traces, chan [0 1 2 3 4 5 6 7]\n",
      "2023-03-06 10:57:05,969 ceciestunepipe.util.wavutil INFO     sampling rate 40000\n",
      "2023-03-06 10:57:05,971 ceciestunepipe.util.wavutil INFO     saving (1, 909806976)-shaped array as wav in /mnt/sphere/speech_bci/derived_data/s_b1515_23/2023-03-05/sglx/0918_g0/wav_sync.wav\n",
      "2023-03-06 10:57:05,976 ceciestunepipe.util.wavutil INFO     Not saving the file as wav, going straight to numpy + dict\n",
      "2023-03-06 10:57:05,977 ceciestunepipe.util.wavutil INFO     saving (1, 909806976)-shaped array as npy in /mnt/sphere/speech_bci/derived_data/s_b1515_23/2023-03-05/sglx/0918_g0/wav_sync.npy\n",
      "2023-03-06 10:57:05,977 ceciestunepipe.util.wavutil INFO     saving (909806976, 1)-shaped array as npy in /mnt/sphere/speech_bci/derived_data/s_b1515_23/2023-03-05/sglx/0918_g0/wav_sync.npy\n",
      "2023-03-06 10:57:08,431 ceciestunepipe.util.wavutil INFO     Saving meta of npy array to /mnt/sphere/speech_bci/derived_data/s_b1515_23/2023-03-05/sglx/0918_g0/wav_sync-npy_meta.json\n",
      "2023-03-06 10:57:08,445 ceciestunepipe.util.wavutil INFO     Saving meta of npy array to /mnt/sphere/speech_bci/derived_data/s_b1515_23/2023-03-05/sglx/0918_g0/wav_sync-npy_meta.pickle\n",
      "2023-03-06 10:57:08,446 ceciestunepipe.util.spikeextractors.preprocess INFO     Getting sync events from the wav sync channel\n",
      "/mnt/cube/earneodo/repos/ceciestunepipe/ceciestunepipe/util/wavutil.py:87: UserWarning: Did not find wav file /mnt/sphere/speech_bci/derived_data/s_b1515_23/2023-03-05/sglx/0918_g0/wav_sync.wav. Will try loading npy + dict\n",
      "  warnings.warn('Did not find wav file {}. Will try loading npy + dict'.format(wav_path))\n",
      "2023-03-06 10:57:08,448 ceciestunepipe.util.wavutil INFO     skipping wav, loading npy instead from /mnt/sphere/speech_bci/derived_data/s_b1515_23/2023-03-05/sglx/0918_g0/wav_sync.npy\n",
      "2023-03-06 10:57:08,449 ceciestunepipe.util.wavutil INFO     loading npy array from /mnt/sphere/speech_bci/derived_data/s_b1515_23/2023-03-05/sglx/0918_g0/wav_sync.npy\n",
      "2023-03-06 10:57:12,462 ceciestunepipe.util.spikeextractors.preprocess INFO     saving sync events of the wav channel to /mnt/sphere/speech_bci/derived_data/s_b1515_23/2023-03-05/sglx/0918_g0/wav_sync_evt.npy\n",
      "2023-03-06 10:57:12,475 ceciestunepipe.util.spikeextractors.preprocess INFO     saving t0 for wav channel to /mnt/sphere/speech_bci/derived_data/s_b1515_23/2023-03-05/sglx/0918_g0/wav_t0.npy\n",
      "2023-03-06 10:57:26,513 ceciestunepipe.util.spikeextractors.preprocess INFO     saving sync nidaq dict to /mnt/sphere/speech_bci/derived_data/s_b1515_23/2023-03-05/sglx/0918_g0/wav_sync_dict.pkl\n",
      "2023-03-06 10:57:26,516 ceciestunepipe.util.spikeextractors.preprocess INFO     Getting sync signals for imec streams: []\n",
      "2023-03-06 10:57:26,516 ceciestunepipe.util.spikeextractors.preprocess INFO     getting syn patterns for nidq\n",
      "2023-03-06 10:57:26,518 ceciestunepipe.util.spikeextractors.preprocess INFO     File /mnt/sphere/speech_bci/derived_data/s_b1515_23/2023-03-05/sglx/0918_g0/nidq_sync_dict.pkl not found or forced computation, getting the events\n",
      "2023-03-06 10:57:26,518 ceciestunepipe.util.spikeextractors.extractors.spikeglxrecordingextractor.spikeglxrecordingextractor INFO     getting ttl events, chan 0\n",
      "2023-03-06 10:57:46,555 ceciestunepipe.util.spikeextractors.preprocess INFO     saving events array to /mnt/sphere/speech_bci/derived_data/s_b1515_23/2023-03-05/sglx/0918_g0/nidq_sync_evt.npy\n",
      "2023-03-06 10:57:46,578 ceciestunepipe.util.spikeextractors.preprocess INFO     saving t_0 array to /mnt/sphere/speech_bci/derived_data/s_b1515_23/2023-03-05/sglx/0918_g0/nidq_t0.npy\n",
      "2023-03-06 10:57:57,360 ceciestunepipe.util.spikeextractors.preprocess INFO     saving sync dict to /mnt/sphere/speech_bci/derived_data/s_b1515_23/2023-03-05/sglx/0918_g0/nidq_sync_dict.pkl\n",
      "2023-03-06 10:57:57,362 ceciestunepipe.util.spikeextractors.preprocess INFO     loading syn_dict from /mnt/sphere/speech_bci/derived_data/s_b1515_23/2023-03-05/sglx/0918_g0/nidq_sync_dict.pkl\n",
      "2023-03-06 10:57:57,367 ceciestunepipe.util.spikeextractors.preprocess INFO     getting syn patterns for wav\n",
      "2023-03-06 10:57:57,368 ceciestunepipe.util.spikeextractors.preprocess INFO     loading syn_dict from /mnt/sphere/speech_bci/derived_data/s_b1515_23/2023-03-05/sglx/0918_g0/wav_sync_dict.pkl\n",
      "2023-03-06 10:57:57,372 ceciestunepipe.util.spikeextractors.preprocess INFO     saved epoch preprocessing parameters to /mnt/sphere/speech_bci/derived_data/s_b1515_23/2023-03-05/sglx/0918_g0/preprocess_par.pickle\n",
      "2023-03-06 10:57:57,383 ceciestunepipe.util.spikeextractors.preprocess INFO     PREPROCESSING sess 2023-03-05 | epoch 1538_g0\n",
      "2023-03-06 10:57:57,384 ceciestunepipe.util.spikeextractors.preprocess INFO     getting extractors\n",
      "2023-03-06 10:57:57,494 ceciestunepipe.util.spikeextractors.preprocess INFO     Got sglx recordings for keys ['nidq']\n",
      "2023-03-06 10:57:57,494 ceciestunepipe.util.spikeextractors.preprocess INFO     Getting microphone channel(s) ['microphone_0', 'microphone_1']\n",
      "2023-03-06 10:58:49,376 ceciestunepipe.util.wavutil INFO     sampling rate 40000\n",
      "2023-03-06 10:58:49,378 ceciestunepipe.util.wavutil INFO     saving (2, 1232693163)-shaped array as wav in /mnt/sphere/speech_bci/derived_data/s_b1515_23/2023-03-05/sglx/1538_g0/wav_mic.wav\n",
      "2023-03-06 10:58:49,414 ceciestunepipe.util.wavutil INFO     Not saving the file as wav, going straight to numpy + dict\n",
      "2023-03-06 10:58:49,414 ceciestunepipe.util.wavutil INFO     saving (2, 1232693163)-shaped array as npy in /mnt/sphere/speech_bci/derived_data/s_b1515_23/2023-03-05/sglx/1538_g0/wav_mic.npy\n",
      "2023-03-06 10:58:49,415 ceciestunepipe.util.wavutil INFO     saving (1232693163, 2)-shaped array as npy in /mnt/sphere/speech_bci/derived_data/s_b1515_23/2023-03-05/sglx/1538_g0/wav_mic.npy\n",
      "2023-03-06 10:58:56,602 ceciestunepipe.util.wavutil INFO     Saving meta of npy array to /mnt/sphere/speech_bci/derived_data/s_b1515_23/2023-03-05/sglx/1538_g0/wav_mic-npy_meta.json\n",
      "2023-03-06 10:58:56,604 ceciestunepipe.util.wavutil INFO     Saving meta of npy array to /mnt/sphere/speech_bci/derived_data/s_b1515_23/2023-03-05/sglx/1538_g0/wav_mic-npy_meta.pickle\n",
      "2023-03-06 10:58:56,606 ceciestunepipe.util.spikeextractors.preprocess INFO     Getting adc channel(s) ['pressure']\n",
      "2023-03-06 10:58:56,607 ceciestunepipe.util.wavutil INFO     sampling rate 40000\n",
      "2023-03-06 10:58:56,608 ceciestunepipe.util.wavutil INFO     saving (1, 1232693163)-shaped array as wav in /mnt/sphere/speech_bci/derived_data/s_b1515_23/2023-03-05/sglx/1538_g0/wav_adc.wav\n",
      "2023-03-06 10:58:56,609 ceciestunepipe.util.wavutil INFO     Not saving the file as wav, going straight to numpy + dict\n",
      "2023-03-06 10:58:56,610 ceciestunepipe.util.wavutil INFO     saving (1, 1232693163)-shaped array as npy in /mnt/sphere/speech_bci/derived_data/s_b1515_23/2023-03-05/sglx/1538_g0/wav_adc.npy\n",
      "2023-03-06 10:58:56,610 ceciestunepipe.util.wavutil INFO     saving (1232693163, 1)-shaped array as npy in /mnt/sphere/speech_bci/derived_data/s_b1515_23/2023-03-05/sglx/1538_g0/wav_adc.npy\n",
      "2023-03-06 10:59:20,832 ceciestunepipe.util.wavutil INFO     Saving meta of npy array to /mnt/sphere/speech_bci/derived_data/s_b1515_23/2023-03-05/sglx/1538_g0/wav_adc-npy_meta.json\n",
      "2023-03-06 10:59:20,925 ceciestunepipe.util.wavutil INFO     Saving meta of npy array to /mnt/sphere/speech_bci/derived_data/s_b1515_23/2023-03-05/sglx/1538_g0/wav_adc-npy_meta.pickle\n",
      "2023-03-06 10:59:44,985 ceciestunepipe.util.spikeextractors.preprocess INFO     Getting sync channel(s) from nidaq streams: ['sync']\n",
      "2023-03-06 10:59:44,988 ceciestunepipe.util.spikeextractors.extractors.spikeglxrecordingextractor.spikeglxrecordingextractor INFO     getting ttl traces, chan [0 1 2 3 4 5 6 7]\n",
      "2023-03-06 11:00:43,238 ceciestunepipe.util.wavutil INFO     sampling rate 40000\n",
      "2023-03-06 11:00:43,239 ceciestunepipe.util.wavutil INFO     saving (1, 1232693163)-shaped array as wav in /mnt/sphere/speech_bci/derived_data/s_b1515_23/2023-03-05/sglx/1538_g0/wav_sync.wav\n",
      "2023-03-06 11:00:43,242 ceciestunepipe.util.wavutil INFO     Not saving the file as wav, going straight to numpy + dict\n",
      "2023-03-06 11:00:43,243 ceciestunepipe.util.wavutil INFO     saving (1, 1232693163)-shaped array as npy in /mnt/sphere/speech_bci/derived_data/s_b1515_23/2023-03-05/sglx/1538_g0/wav_sync.npy\n",
      "2023-03-06 11:00:43,243 ceciestunepipe.util.wavutil INFO     saving (1232693163, 1)-shaped array as npy in /mnt/sphere/speech_bci/derived_data/s_b1515_23/2023-03-05/sglx/1538_g0/wav_sync.npy\n",
      "2023-03-06 11:00:46,554 ceciestunepipe.util.wavutil INFO     Saving meta of npy array to /mnt/sphere/speech_bci/derived_data/s_b1515_23/2023-03-05/sglx/1538_g0/wav_sync-npy_meta.json\n",
      "2023-03-06 11:00:46,556 ceciestunepipe.util.wavutil INFO     Saving meta of npy array to /mnt/sphere/speech_bci/derived_data/s_b1515_23/2023-03-05/sglx/1538_g0/wav_sync-npy_meta.pickle\n",
      "2023-03-06 11:00:46,558 ceciestunepipe.util.spikeextractors.preprocess INFO     Getting sync events from the wav sync channel\n",
      "/mnt/cube/earneodo/repos/ceciestunepipe/ceciestunepipe/util/wavutil.py:87: UserWarning: Did not find wav file /mnt/sphere/speech_bci/derived_data/s_b1515_23/2023-03-05/sglx/1538_g0/wav_sync.wav. Will try loading npy + dict\n",
      "  warnings.warn('Did not find wav file {}. Will try loading npy + dict'.format(wav_path))\n",
      "2023-03-06 11:00:46,559 ceciestunepipe.util.wavutil INFO     skipping wav, loading npy instead from /mnt/sphere/speech_bci/derived_data/s_b1515_23/2023-03-05/sglx/1538_g0/wav_sync.npy\n",
      "2023-03-06 11:00:46,560 ceciestunepipe.util.wavutil INFO     loading npy array from /mnt/sphere/speech_bci/derived_data/s_b1515_23/2023-03-05/sglx/1538_g0/wav_sync.npy\n",
      "2023-03-06 11:00:55,122 ceciestunepipe.util.spikeextractors.preprocess INFO     saving sync events of the wav channel to /mnt/sphere/speech_bci/derived_data/s_b1515_23/2023-03-05/sglx/1538_g0/wav_sync_evt.npy\n",
      "2023-03-06 11:00:55,126 ceciestunepipe.util.spikeextractors.preprocess INFO     saving t0 for wav channel to /mnt/sphere/speech_bci/derived_data/s_b1515_23/2023-03-05/sglx/1538_g0/wav_t0.npy\n",
      "2023-03-06 11:01:47,430 ceciestunepipe.util.spikeextractors.preprocess INFO     saving sync nidaq dict to /mnt/sphere/speech_bci/derived_data/s_b1515_23/2023-03-05/sglx/1538_g0/wav_sync_dict.pkl\n",
      "2023-03-06 11:01:47,455 ceciestunepipe.util.spikeextractors.preprocess INFO     Getting sync signals for imec streams: []\n",
      "2023-03-06 11:01:47,456 ceciestunepipe.util.spikeextractors.preprocess INFO     getting syn patterns for nidq\n",
      "2023-03-06 11:01:47,457 ceciestunepipe.util.spikeextractors.preprocess INFO     File /mnt/sphere/speech_bci/derived_data/s_b1515_23/2023-03-05/sglx/1538_g0/nidq_sync_dict.pkl not found or forced computation, getting the events\n",
      "2023-03-06 11:01:47,458 ceciestunepipe.util.spikeextractors.extractors.spikeglxrecordingextractor.spikeglxrecordingextractor INFO     getting ttl events, chan 0\n",
      "2023-03-06 11:02:26,917 ceciestunepipe.util.spikeextractors.preprocess INFO     saving events array to /mnt/sphere/speech_bci/derived_data/s_b1515_23/2023-03-05/sglx/1538_g0/nidq_sync_evt.npy\n",
      "2023-03-06 11:02:26,922 ceciestunepipe.util.spikeextractors.preprocess INFO     saving t_0 array to /mnt/sphere/speech_bci/derived_data/s_b1515_23/2023-03-05/sglx/1538_g0/nidq_t0.npy\n",
      "2023-03-06 11:02:40,234 ceciestunepipe.util.spikeextractors.preprocess INFO     saving sync dict to /mnt/sphere/speech_bci/derived_data/s_b1515_23/2023-03-05/sglx/1538_g0/nidq_sync_dict.pkl\n",
      "2023-03-06 11:02:40,237 ceciestunepipe.util.spikeextractors.preprocess INFO     loading syn_dict from /mnt/sphere/speech_bci/derived_data/s_b1515_23/2023-03-05/sglx/1538_g0/nidq_sync_dict.pkl\n",
      "2023-03-06 11:02:40,242 ceciestunepipe.util.spikeextractors.preprocess INFO     getting syn patterns for wav\n",
      "2023-03-06 11:02:40,243 ceciestunepipe.util.spikeextractors.preprocess INFO     loading syn_dict from /mnt/sphere/speech_bci/derived_data/s_b1515_23/2023-03-05/sglx/1538_g0/wav_sync_dict.pkl\n",
      "2023-03-06 11:02:40,247 ceciestunepipe.util.spikeextractors.preprocess INFO     saved epoch preprocessing parameters to /mnt/sphere/speech_bci/derived_data/s_b1515_23/2023-03-05/sglx/1538_g0/preprocess_par.pickle\n"
     ]
    }
   ],
   "source": [
    "all_sess_dict = {}\n",
    "\n",
    "for one_sess in sess_list[:]:\n",
    "    sess_par['sess'] = one_sess\n",
    "    preprocess_session(sess_par)"
   ]
  },
  {
   "cell_type": "markdown",
   "metadata": {},
   "source": [
    "## search bouts for those sessions"
   ]
  },
  {
   "cell_type": "code",
   "execution_count": 45,
   "metadata": {},
   "outputs": [
    {
     "data": {
      "text/plain": [
       "<module 'ceciestunepipe.util.sound.boutsearch' from '/mnt/cube/earneodo/repos/ceciestunepipe/ceciestunepipe/util/sound/boutsearch.py'>"
      ]
     },
     "execution_count": 45,
     "metadata": {},
     "output_type": "execute_result"
    }
   ],
   "source": [
    "reload(wu)\n",
    "reload(sb)\n",
    "reload(bs)"
   ]
  },
  {
   "cell_type": "code",
   "execution_count": 9,
   "metadata": {},
   "outputs": [],
   "source": [
    "hparams = { # default parameters work well for starling\n",
    "    # spectrogram\n",
    "    'num_freq':1024, #1024# how many channels to use in a spectrogram #\n",
    "    'preemphasis':0.97, \n",
    "    'frame_shift_ms':5, # step size for fft\n",
    "    'frame_length_ms':10, #128 # frame length for fft FRAME SAMPLES < NUM_FREQ!!!\n",
    "    'min_level_db':-55, # minimum threshold db for computing spe \n",
    "    'ref_level_db':110, # reference db for computing spec\n",
    "    'sample_rate':None, # sample rate of your data\n",
    "    \n",
    "    # spectrograms\n",
    "    'mel_filter': False, # should a mel filter be used?\n",
    "    'num_mels':1024, # how many channels to use in the mel-spectrogram\n",
    "    'fmin': 500, # low frequency cutoff for mel filter\n",
    "    'fmax': 12000, # high frequency cutoff for mel filter\n",
    "    \n",
    "    # spectrogram inversion\n",
    "    'max_iters':200,\n",
    "    'griffin_lim_iters':20,\n",
    "    'power':1.5,\n",
    "\n",
    "    # Added for the searching\n",
    "    'read_wav_fun': bs.read_npy_chan, # function for loading the wav_like_stream (has to returns fs, ndarray)\n",
    "    'file_order_fun': bs.sess_file_id, # function for extracting the file id within the session\n",
    "    'min_segment': 30, # Minimum length of supra_threshold to consider a 'syllable' (ms)\n",
    "    'min_silence': 3000, # Minmum distance between groups of syllables to consider separate bouts (ms)\n",
    "    'min_bout': 3000, # min bout duration (ms)\n",
    "    'peak_thresh_rms': 0.55, # threshold (rms) for peak acceptance,\n",
    "    'thresh_rms': 0.25, # threshold for detection of syllables\n",
    "    'mean_syl_rms_thresh': 0.3, #threshold for acceptance of mean rms across the syllable (relative to rms of the file)\n",
    "    'max_bout': 180000, #exclude bouts too long\n",
    "    'l_p_r_thresh': 100, # threshold for n of len_ms/peaks (typycally about 2-3 syllable spans\n",
    "    \n",
    "    'waveform_edges': 1000, #get number of ms before and after the edges of the bout for the waveform sample\n",
    "    \n",
    "    'bout_auto_file': 'bout_auto.pickle', # extension for saving the auto found files\n",
    "    'bout_curated_file': 'bout_checked.pickle', #extension for manually curated files (coming soon)\n",
    "    }"
   ]
  },
  {
   "cell_type": "code",
   "execution_count": null,
   "metadata": {},
   "outputs": [],
   "source": []
  },
  {
   "cell_type": "code",
   "execution_count": 10,
   "metadata": {},
   "outputs": [],
   "source": [
    "#pick sessions to do the bout searching\n",
    "# bout_sessions = sess_list[-1:]\n",
    "# bout_sessions = ['2022-07-16']\n",
    "bout_sessions = sess_list"
   ]
  },
  {
   "cell_type": "code",
   "execution_count": 11,
   "metadata": {},
   "outputs": [
    {
     "name": "stdout",
     "output_type": "stream",
     "text": [
      "Automatic pdb calling has been turned ON\n"
     ]
    }
   ],
   "source": [
    "pdb"
   ]
  },
  {
   "cell_type": "code",
   "execution_count": 12,
   "metadata": {},
   "outputs": [
    {
     "data": {
      "text/plain": [
       "'2023-02-22'"
      ]
     },
     "execution_count": 12,
     "metadata": {},
     "output_type": "execute_result"
    }
   ],
   "source": [
    "bout_sessions[0]"
   ]
  },
  {
   "cell_type": "code",
   "execution_count": 14,
   "metadata": {},
   "outputs": [
    {
     "data": {
      "text/plain": [
       "<module 'ceciestunepipe.pipeline.searchbout' from '/mnt/cube/earneodo/repos/ceciestunepipe/ceciestunepipe/pipeline/searchbout.py'>"
      ]
     },
     "execution_count": 14,
     "metadata": {},
     "output_type": "execute_result"
    }
   ],
   "source": [
    "reload(sb)"
   ]
  },
  {
   "cell_type": "code",
   "execution_count": 15,
   "metadata": {
    "tags": []
   },
   "outputs": [
    {
     "name": "stderr",
     "output_type": "stream",
     "text": [
      "2023-03-07 11:36:53,107 ceciestunepipe.pipeline.searchbout INFO     Will search for bouts through all session s_b1515_23, 2023-02-22\n",
      "2023-03-07 11:36:53,563 ceciestunepipe.pipeline.searchbout INFO     getting npy files from /mnt/sphere/speech_bci/derived_data/s_b1515_23/2023-02-22/sglx\n",
      "2023-03-07 11:36:53,564 ceciestunepipe.pipeline.searchbout INFO     Found 1 files\n",
      "2023-03-07 11:36:53,566 ceciestunepipe.util.sound.boutsearch INFO     Getting bouts for long file /mnt/sphere/speech_bci/derived_data/s_b1515_23/2023-02-22/sglx/1429_g0/wav_mic.npy\n",
      "2023-03-07 11:36:53,567 ceciestunepipe.util.wavutil INFO     skipping wav, loading npy instead from /mnt/sphere/speech_bci/derived_data/s_b1515_23/2023-02-22/sglx/1429_g0/wav_mic.npy\n",
      "2023-03-07 11:36:53,568 ceciestunepipe.util.wavutil INFO     loading npy array from /mnt/sphere/speech_bci/derived_data/s_b1515_23/2023-02-22/sglx/1429_g0/wav_mic.npy\n",
      "2023-03-07 11:37:00,504 ceciestunepipe.util.sound.boutsearch INFO     splitting file into 7 chunks\n"
     ]
    },
    {
     "data": {
      "application/vnd.jupyter.widget-view+json": {
       "model_id": "a0fa6aa67a3c49038106cfed0947fb4e",
       "version_major": 2,
       "version_minor": 0
      },
      "text/plain": [
       "  0%|          | 0/7 [00:00<?, ?it/s]"
      ]
     },
     "metadata": {},
     "output_type": "display_data"
    },
    {
     "name": "stderr",
     "output_type": "stream",
     "text": [
      "2023-03-07 11:40:29,135 ceciestunepipe.pipeline.searchbout INFO     could not get rate from file /mnt/sphere/speech_bci/derived_data/s_b1515_23/2023-02-22/sglx/1429_g0/wav_mic.npy\n",
      "2023-03-07 11:40:29,138 ceciestunepipe.pipeline.searchbout INFO     getting spectrograms\n",
      "2023-03-07 11:41:39,198 ceciestunepipe.pipeline.searchbout INFO     saving bouts pandas to /mnt/sphere/speech_bci/derived_data/s_b1515_23/2023-02-22/bouts_sglx/bout_auto.pickle\n",
      "2023-03-07 11:41:48,122 ceciestunepipe.pipeline.searchbout INFO     saving bout detect parameters dict to /mnt/sphere/speech_bci/derived_data/s_b1515_23/2023-02-22/bouts_sglx/bout_search_params.pickle\n",
      "2023-03-07 11:41:48,123 ceciestunepipe.util.sound.boutsearch INFO     saving bout detect parameters dict to /mnt/sphere/speech_bci/derived_data/s_b1515_23/2023-02-22/bouts_sglx/bout_search_params.pickle\n",
      "2023-03-07 11:41:48,133 ceciestunepipe.pipeline.searchbout INFO     saving bouts pandas to /mnt/sphere/speech_bci/derived_data/s_b1515_23/2023-02-22/bouts_sglx/bout_auto.pickle\n",
      "2023-03-07 11:41:57,360 ceciestunepipe.pipeline.searchbout INFO     saving bout detect parameters dict to /mnt/sphere/speech_bci/derived_data/s_b1515_23/2023-02-22/bouts_sglx/bout_search_params.pickle\n",
      "2023-03-07 11:41:57,361 ceciestunepipe.util.sound.boutsearch INFO     saving bout detect parameters dict to /mnt/sphere/speech_bci/derived_data/s_b1515_23/2023-02-22/bouts_sglx/bout_search_params.pickle\n",
      "2023-03-07 11:41:57,363 ceciestunepipe.pipeline.searchbout INFO     Will search for bouts through all session s_b1515_23, 2023-02-23\n",
      "2023-03-07 11:41:57,538 ceciestunepipe.pipeline.searchbout INFO     getting npy files from /mnt/sphere/speech_bci/derived_data/s_b1515_23/2023-02-23/sglx\n",
      "2023-03-07 11:41:57,539 ceciestunepipe.pipeline.searchbout INFO     Found 2 files\n",
      "2023-03-07 11:41:57,540 ceciestunepipe.util.sound.boutsearch INFO     Getting bouts for long file /mnt/sphere/speech_bci/derived_data/s_b1515_23/2023-02-23/sglx/0826_g0/wav_mic.npy\n",
      "2023-03-07 11:41:57,542 ceciestunepipe.util.wavutil INFO     skipping wav, loading npy instead from /mnt/sphere/speech_bci/derived_data/s_b1515_23/2023-02-23/sglx/0826_g0/wav_mic.npy\n",
      "2023-03-07 11:41:57,543 ceciestunepipe.util.wavutil INFO     loading npy array from /mnt/sphere/speech_bci/derived_data/s_b1515_23/2023-02-23/sglx/0826_g0/wav_mic.npy\n",
      "2023-03-07 11:41:57,635 ceciestunepipe.util.sound.boutsearch INFO     splitting file into 1 chunks\n"
     ]
    },
    {
     "data": {
      "application/vnd.jupyter.widget-view+json": {
       "model_id": "594923f90a7d4d20b1e5f1a4f73a78fe",
       "version_major": 2,
       "version_minor": 0
      },
      "text/plain": [
       "  0%|          | 0/1 [00:00<?, ?it/s]"
      ]
     },
     "metadata": {},
     "output_type": "display_data"
    },
    {
     "name": "stderr",
     "output_type": "stream",
     "text": [
      "2023-03-07 11:41:57,839 ceciestunepipe.util.sound.boutsearch INFO     Getting bouts for long file /mnt/sphere/speech_bci/derived_data/s_b1515_23/2023-02-23/sglx/1432_g0/wav_mic.npy\n",
      "2023-03-07 11:41:57,841 ceciestunepipe.util.wavutil INFO     skipping wav, loading npy instead from /mnt/sphere/speech_bci/derived_data/s_b1515_23/2023-02-23/sglx/1432_g0/wav_mic.npy\n",
      "2023-03-07 11:41:57,841 ceciestunepipe.util.wavutil INFO     loading npy array from /mnt/sphere/speech_bci/derived_data/s_b1515_23/2023-02-23/sglx/1432_g0/wav_mic.npy\n",
      "2023-03-07 11:42:21,365 ceciestunepipe.util.sound.boutsearch INFO     splitting file into 16 chunks\n"
     ]
    },
    {
     "data": {
      "application/vnd.jupyter.widget-view+json": {
       "model_id": "03d584733a504784bfa9bf4f1e738dda",
       "version_major": 2,
       "version_minor": 0
      },
      "text/plain": [
       "  0%|          | 0/16 [00:00<?, ?it/s]"
      ]
     },
     "metadata": {},
     "output_type": "display_data"
    },
    {
     "name": "stderr",
     "output_type": "stream",
     "text": [
      "2023-03-07 11:50:58,981 ceciestunepipe.pipeline.searchbout INFO     could not get rate from file /mnt/sphere/speech_bci/derived_data/s_b1515_23/2023-02-23/sglx/0826_g0/wav_mic.npy\n",
      "2023-03-07 11:50:59,008 ceciestunepipe.pipeline.searchbout INFO     could not get rate from file /mnt/sphere/speech_bci/derived_data/s_b1515_23/2023-02-23/sglx/1432_g0/wav_mic.npy\n",
      "2023-03-07 11:50:59,011 ceciestunepipe.pipeline.searchbout INFO     getting spectrograms\n",
      "2023-03-07 11:51:41,139 ceciestunepipe.pipeline.searchbout INFO     saving bouts pandas to /mnt/sphere/speech_bci/derived_data/s_b1515_23/2023-02-23/bouts_sglx/bout_auto.pickle\n",
      "2023-03-07 11:51:45,615 ceciestunepipe.pipeline.searchbout INFO     saving bout detect parameters dict to /mnt/sphere/speech_bci/derived_data/s_b1515_23/2023-02-23/bouts_sglx/bout_search_params.pickle\n",
      "2023-03-07 11:51:45,616 ceciestunepipe.util.sound.boutsearch INFO     saving bout detect parameters dict to /mnt/sphere/speech_bci/derived_data/s_b1515_23/2023-02-23/bouts_sglx/bout_search_params.pickle\n",
      "2023-03-07 11:51:45,626 ceciestunepipe.pipeline.searchbout INFO     saving bouts pandas to /mnt/sphere/speech_bci/derived_data/s_b1515_23/2023-02-23/bouts_sglx/bout_auto.pickle\n",
      "2023-03-07 11:51:50,201 ceciestunepipe.pipeline.searchbout INFO     saving bout detect parameters dict to /mnt/sphere/speech_bci/derived_data/s_b1515_23/2023-02-23/bouts_sglx/bout_search_params.pickle\n",
      "2023-03-07 11:51:50,202 ceciestunepipe.util.sound.boutsearch INFO     saving bout detect parameters dict to /mnt/sphere/speech_bci/derived_data/s_b1515_23/2023-02-23/bouts_sglx/bout_search_params.pickle\n",
      "2023-03-07 11:51:50,204 ceciestunepipe.pipeline.searchbout INFO     Will search for bouts through all session s_b1515_23, 2023-02-24\n",
      "2023-03-07 11:51:50,302 ceciestunepipe.pipeline.searchbout INFO     getting npy files from /mnt/sphere/speech_bci/derived_data/s_b1515_23/2023-02-24/sglx\n",
      "2023-03-07 11:51:50,302 ceciestunepipe.pipeline.searchbout INFO     Found 1 files\n",
      "2023-03-07 11:51:50,304 ceciestunepipe.util.sound.boutsearch INFO     Getting bouts for long file /mnt/sphere/speech_bci/derived_data/s_b1515_23/2023-02-24/sglx/0816_g0/wav_mic.npy\n",
      "2023-03-07 11:51:50,306 ceciestunepipe.util.wavutil INFO     skipping wav, loading npy instead from /mnt/sphere/speech_bci/derived_data/s_b1515_23/2023-02-24/sglx/0816_g0/wav_mic.npy\n",
      "2023-03-07 11:51:50,306 ceciestunepipe.util.wavutil INFO     loading npy array from /mnt/sphere/speech_bci/derived_data/s_b1515_23/2023-02-24/sglx/0816_g0/wav_mic.npy\n",
      "2023-03-07 11:52:01,181 ceciestunepipe.util.sound.boutsearch INFO     splitting file into 11 chunks\n"
     ]
    },
    {
     "data": {
      "application/vnd.jupyter.widget-view+json": {
       "model_id": "4ff59ee421a2486293bdeb29303aa2f2",
       "version_major": 2,
       "version_minor": 0
      },
      "text/plain": [
       "  0%|          | 0/11 [00:00<?, ?it/s]"
      ]
     },
     "metadata": {},
     "output_type": "display_data"
    },
    {
     "name": "stderr",
     "output_type": "stream",
     "text": [
      "2023-03-07 11:57:42,486 ceciestunepipe.pipeline.searchbout INFO     could not get rate from file /mnt/sphere/speech_bci/derived_data/s_b1515_23/2023-02-24/sglx/0816_g0/wav_mic.npy\n",
      "2023-03-07 11:57:42,490 ceciestunepipe.pipeline.searchbout INFO     getting spectrograms\n",
      "2023-03-07 11:58:18,008 ceciestunepipe.pipeline.searchbout INFO     saving bouts pandas to /mnt/sphere/speech_bci/derived_data/s_b1515_23/2023-02-24/bouts_sglx/bout_auto.pickle\n",
      "2023-03-07 11:58:22,625 ceciestunepipe.pipeline.searchbout INFO     saving bout detect parameters dict to /mnt/sphere/speech_bci/derived_data/s_b1515_23/2023-02-24/bouts_sglx/bout_search_params.pickle\n",
      "2023-03-07 11:58:22,626 ceciestunepipe.util.sound.boutsearch INFO     saving bout detect parameters dict to /mnt/sphere/speech_bci/derived_data/s_b1515_23/2023-02-24/bouts_sglx/bout_search_params.pickle\n",
      "2023-03-07 11:58:22,630 ceciestunepipe.pipeline.searchbout INFO     saving bouts pandas to /mnt/sphere/speech_bci/derived_data/s_b1515_23/2023-02-24/bouts_sglx/bout_auto.pickle\n",
      "2023-03-07 11:58:27,560 ceciestunepipe.pipeline.searchbout INFO     saving bout detect parameters dict to /mnt/sphere/speech_bci/derived_data/s_b1515_23/2023-02-24/bouts_sglx/bout_search_params.pickle\n",
      "2023-03-07 11:58:27,561 ceciestunepipe.util.sound.boutsearch INFO     saving bout detect parameters dict to /mnt/sphere/speech_bci/derived_data/s_b1515_23/2023-02-24/bouts_sglx/bout_search_params.pickle\n",
      "2023-03-07 11:58:27,562 ceciestunepipe.pipeline.searchbout INFO     Will search for bouts through all session s_b1515_23, 2023-02-27\n",
      "2023-03-07 11:58:27,749 ceciestunepipe.pipeline.searchbout INFO     getting npy files from /mnt/sphere/speech_bci/derived_data/s_b1515_23/2023-02-27/sglx\n",
      "2023-03-07 11:58:27,750 ceciestunepipe.pipeline.searchbout INFO     Found 2 files\n",
      "2023-03-07 11:58:27,752 ceciestunepipe.util.sound.boutsearch INFO     Getting bouts for long file /mnt/sphere/speech_bci/derived_data/s_b1515_23/2023-02-27/sglx/1214_g0/wav_mic.npy\n",
      "2023-03-07 11:58:27,753 ceciestunepipe.util.wavutil INFO     skipping wav, loading npy instead from /mnt/sphere/speech_bci/derived_data/s_b1515_23/2023-02-27/sglx/1214_g0/wav_mic.npy\n",
      "2023-03-07 11:58:27,754 ceciestunepipe.util.wavutil INFO     loading npy array from /mnt/sphere/speech_bci/derived_data/s_b1515_23/2023-02-27/sglx/1214_g0/wav_mic.npy\n",
      "2023-03-07 11:58:28,359 ceciestunepipe.util.sound.boutsearch INFO     splitting file into 1 chunks\n"
     ]
    },
    {
     "data": {
      "application/vnd.jupyter.widget-view+json": {
       "model_id": "996bff04a0a649028f297277e8fe8007",
       "version_major": 2,
       "version_minor": 0
      },
      "text/plain": [
       "  0%|          | 0/1 [00:00<?, ?it/s]"
      ]
     },
     "metadata": {},
     "output_type": "display_data"
    },
    {
     "name": "stderr",
     "output_type": "stream",
     "text": [
      "2023-03-07 11:58:51,220 ceciestunepipe.util.sound.boutsearch INFO     Getting bouts for long file /mnt/sphere/speech_bci/derived_data/s_b1515_23/2023-02-27/sglx/1503_g0/wav_mic.npy\n",
      "2023-03-07 11:58:51,222 ceciestunepipe.util.wavutil INFO     skipping wav, loading npy instead from /mnt/sphere/speech_bci/derived_data/s_b1515_23/2023-02-27/sglx/1503_g0/wav_mic.npy\n",
      "2023-03-07 11:58:51,222 ceciestunepipe.util.wavutil INFO     loading npy array from /mnt/sphere/speech_bci/derived_data/s_b1515_23/2023-02-27/sglx/1503_g0/wav_mic.npy\n",
      "2023-03-07 11:59:31,606 ceciestunepipe.util.sound.boutsearch INFO     splitting file into 38 chunks\n"
     ]
    },
    {
     "data": {
      "application/vnd.jupyter.widget-view+json": {
       "model_id": "e007179112a3481e9676695ac1108421",
       "version_major": 2,
       "version_minor": 0
      },
      "text/plain": [
       "  0%|          | 0/38 [00:00<?, ?it/s]"
      ]
     },
     "metadata": {},
     "output_type": "display_data"
    },
    {
     "name": "stderr",
     "output_type": "stream",
     "text": [
      "2023-03-07 12:21:19,491 ceciestunepipe.pipeline.searchbout INFO     could not get rate from file /mnt/sphere/speech_bci/derived_data/s_b1515_23/2023-02-27/sglx/1214_g0/wav_mic.npy\n",
      "2023-03-07 12:21:19,493 ceciestunepipe.pipeline.searchbout INFO     could not get rate from file /mnt/sphere/speech_bci/derived_data/s_b1515_23/2023-02-27/sglx/1503_g0/wav_mic.npy\n",
      "2023-03-07 12:21:19,500 ceciestunepipe.pipeline.searchbout INFO     getting spectrograms\n",
      "2023-03-07 12:26:09,439 ceciestunepipe.pipeline.searchbout INFO     saving bouts pandas to /mnt/sphere/speech_bci/derived_data/s_b1515_23/2023-02-27/bouts_sglx/bout_auto.pickle\n",
      "2023-03-07 12:26:44,324 ceciestunepipe.pipeline.searchbout INFO     saving bout detect parameters dict to /mnt/sphere/speech_bci/derived_data/s_b1515_23/2023-02-27/bouts_sglx/bout_search_params.pickle\n",
      "2023-03-07 12:26:44,327 ceciestunepipe.util.sound.boutsearch INFO     saving bout detect parameters dict to /mnt/sphere/speech_bci/derived_data/s_b1515_23/2023-02-27/bouts_sglx/bout_search_params.pickle\n",
      "2023-03-07 12:26:44,384 ceciestunepipe.pipeline.searchbout INFO     saving bouts pandas to /mnt/sphere/speech_bci/derived_data/s_b1515_23/2023-02-27/bouts_sglx/bout_auto.pickle\n",
      "2023-03-07 12:27:19,559 ceciestunepipe.pipeline.searchbout INFO     saving bout detect parameters dict to /mnt/sphere/speech_bci/derived_data/s_b1515_23/2023-02-27/bouts_sglx/bout_search_params.pickle\n",
      "2023-03-07 12:27:19,560 ceciestunepipe.util.sound.boutsearch INFO     saving bout detect parameters dict to /mnt/sphere/speech_bci/derived_data/s_b1515_23/2023-02-27/bouts_sglx/bout_search_params.pickle\n",
      "2023-03-07 12:27:19,562 ceciestunepipe.pipeline.searchbout INFO     Will search for bouts through all session s_b1515_23, 2023-03-03\n",
      "2023-03-07 12:27:19,722 ceciestunepipe.pipeline.searchbout INFO     getting npy files from /mnt/sphere/speech_bci/derived_data/s_b1515_23/2023-03-03/sglx\n",
      "2023-03-07 12:27:19,723 ceciestunepipe.pipeline.searchbout INFO     Found 2 files\n",
      "2023-03-07 12:27:19,724 ceciestunepipe.util.sound.boutsearch INFO     Getting bouts for long file /mnt/sphere/speech_bci/derived_data/s_b1515_23/2023-03-03/sglx/1417_g0/wav_mic.npy\n",
      "2023-03-07 12:27:19,726 ceciestunepipe.util.wavutil INFO     skipping wav, loading npy instead from /mnt/sphere/speech_bci/derived_data/s_b1515_23/2023-03-03/sglx/1417_g0/wav_mic.npy\n",
      "2023-03-07 12:27:19,727 ceciestunepipe.util.wavutil INFO     loading npy array from /mnt/sphere/speech_bci/derived_data/s_b1515_23/2023-03-03/sglx/1417_g0/wav_mic.npy\n",
      "2023-03-07 12:27:46,583 ceciestunepipe.util.sound.boutsearch INFO     splitting file into 30 chunks\n"
     ]
    },
    {
     "data": {
      "application/vnd.jupyter.widget-view+json": {
       "model_id": "b32aabdbfca6423984b21ae705533b19",
       "version_major": 2,
       "version_minor": 0
      },
      "text/plain": [
       "  0%|          | 0/30 [00:00<?, ?it/s]"
      ]
     },
     "metadata": {},
     "output_type": "display_data"
    },
    {
     "name": "stderr",
     "output_type": "stream",
     "text": [
      "2023-03-07 12:44:28,724 ceciestunepipe.util.sound.boutsearch INFO     Getting bouts for long file /mnt/sphere/speech_bci/derived_data/s_b1515_23/2023-03-03/sglx/1708_g0/wav_mic.npy\n",
      "2023-03-07 12:44:28,726 ceciestunepipe.util.wavutil INFO     skipping wav, loading npy instead from /mnt/sphere/speech_bci/derived_data/s_b1515_23/2023-03-03/sglx/1708_g0/wav_mic.npy\n",
      "2023-03-07 12:44:28,726 ceciestunepipe.util.wavutil INFO     loading npy array from /mnt/sphere/speech_bci/derived_data/s_b1515_23/2023-03-03/sglx/1708_g0/wav_mic.npy\n",
      "2023-03-07 12:44:41,363 ceciestunepipe.util.sound.boutsearch INFO     splitting file into 10 chunks\n"
     ]
    },
    {
     "data": {
      "application/vnd.jupyter.widget-view+json": {
       "model_id": "e865af57c727485d9eb76d50bac66153",
       "version_major": 2,
       "version_minor": 0
      },
      "text/plain": [
       "  0%|          | 0/10 [00:00<?, ?it/s]"
      ]
     },
     "metadata": {},
     "output_type": "display_data"
    },
    {
     "name": "stderr",
     "output_type": "stream",
     "text": [
      "2023-03-07 12:50:21,089 ceciestunepipe.pipeline.searchbout INFO     could not get rate from file /mnt/sphere/speech_bci/derived_data/s_b1515_23/2023-03-03/sglx/1417_g0/wav_mic.npy\n",
      "2023-03-07 12:50:21,091 ceciestunepipe.pipeline.searchbout INFO     could not get rate from file /mnt/sphere/speech_bci/derived_data/s_b1515_23/2023-03-03/sglx/1708_g0/wav_mic.npy\n",
      "2023-03-07 12:50:21,097 ceciestunepipe.pipeline.searchbout INFO     getting spectrograms\n",
      "2023-03-07 12:53:19,792 ceciestunepipe.pipeline.searchbout INFO     saving bouts pandas to /mnt/sphere/speech_bci/derived_data/s_b1515_23/2023-03-03/bouts_sglx/bout_auto.pickle\n",
      "2023-03-07 12:53:42,389 ceciestunepipe.pipeline.searchbout INFO     saving bout detect parameters dict to /mnt/sphere/speech_bci/derived_data/s_b1515_23/2023-03-03/bouts_sglx/bout_search_params.pickle\n",
      "2023-03-07 12:53:42,391 ceciestunepipe.util.sound.boutsearch INFO     saving bout detect parameters dict to /mnt/sphere/speech_bci/derived_data/s_b1515_23/2023-03-03/bouts_sglx/bout_search_params.pickle\n",
      "2023-03-07 12:53:42,415 ceciestunepipe.pipeline.searchbout INFO     saving bouts pandas to /mnt/sphere/speech_bci/derived_data/s_b1515_23/2023-03-03/bouts_sglx/bout_auto.pickle\n",
      "2023-03-07 12:54:05,322 ceciestunepipe.pipeline.searchbout INFO     saving bout detect parameters dict to /mnt/sphere/speech_bci/derived_data/s_b1515_23/2023-03-03/bouts_sglx/bout_search_params.pickle\n",
      "2023-03-07 12:54:05,324 ceciestunepipe.util.sound.boutsearch INFO     saving bout detect parameters dict to /mnt/sphere/speech_bci/derived_data/s_b1515_23/2023-03-03/bouts_sglx/bout_search_params.pickle\n",
      "2023-03-07 12:54:05,326 ceciestunepipe.pipeline.searchbout INFO     Will search for bouts through all session s_b1515_23, 2023-03-04\n",
      "2023-03-07 12:54:05,455 ceciestunepipe.pipeline.searchbout INFO     getting npy files from /mnt/sphere/speech_bci/derived_data/s_b1515_23/2023-03-04/sglx\n",
      "2023-03-07 12:54:05,456 ceciestunepipe.pipeline.searchbout INFO     Found 3 files\n",
      "2023-03-07 12:54:05,457 ceciestunepipe.util.sound.boutsearch INFO     Getting bouts for long file /mnt/sphere/speech_bci/derived_data/s_b1515_23/2023-03-04/sglx/0839_g0/wav_mic.npy\n",
      "2023-03-07 12:54:05,459 ceciestunepipe.util.wavutil INFO     skipping wav, loading npy instead from /mnt/sphere/speech_bci/derived_data/s_b1515_23/2023-03-04/sglx/0839_g0/wav_mic.npy\n",
      "2023-03-07 12:54:05,460 ceciestunepipe.util.wavutil INFO     loading npy array from /mnt/sphere/speech_bci/derived_data/s_b1515_23/2023-03-04/sglx/0839_g0/wav_mic.npy\n",
      "2023-03-07 12:54:16,055 ceciestunepipe.util.sound.boutsearch INFO     splitting file into 10 chunks\n"
     ]
    },
    {
     "data": {
      "application/vnd.jupyter.widget-view+json": {
       "model_id": "9354c14a8b214ecf880ef4e673702506",
       "version_major": 2,
       "version_minor": 0
      },
      "text/plain": [
       "  0%|          | 0/10 [00:00<?, ?it/s]"
      ]
     },
     "metadata": {},
     "output_type": "display_data"
    },
    {
     "name": "stderr",
     "output_type": "stream",
     "text": [
      "2023-03-07 12:59:28,918 ceciestunepipe.util.sound.boutsearch INFO     Getting bouts for long file /mnt/sphere/speech_bci/derived_data/s_b1515_23/2023-03-04/sglx/1431_g0/wav_mic.npy\n",
      "2023-03-07 12:59:28,920 ceciestunepipe.util.wavutil INFO     skipping wav, loading npy instead from /mnt/sphere/speech_bci/derived_data/s_b1515_23/2023-03-04/sglx/1431_g0/wav_mic.npy\n",
      "2023-03-07 12:59:28,920 ceciestunepipe.util.wavutil INFO     loading npy array from /mnt/sphere/speech_bci/derived_data/s_b1515_23/2023-03-04/sglx/1431_g0/wav_mic.npy\n",
      "2023-03-07 12:59:41,270 ceciestunepipe.util.sound.boutsearch INFO     splitting file into 11 chunks\n"
     ]
    },
    {
     "data": {
      "application/vnd.jupyter.widget-view+json": {
       "model_id": "eea8ef26812c4aaea469635842fe164a",
       "version_major": 2,
       "version_minor": 0
      },
      "text/plain": [
       "  0%|          | 0/11 [00:00<?, ?it/s]"
      ]
     },
     "metadata": {},
     "output_type": "display_data"
    },
    {
     "name": "stderr",
     "output_type": "stream",
     "text": [
      "2023-03-07 13:05:51,419 ceciestunepipe.util.sound.boutsearch INFO     Getting bouts for long file /mnt/sphere/speech_bci/derived_data/s_b1515_23/2023-03-04/sglx/2123_g0/wav_mic.npy\n",
      "2023-03-07 13:05:51,421 ceciestunepipe.util.wavutil INFO     skipping wav, loading npy instead from /mnt/sphere/speech_bci/derived_data/s_b1515_23/2023-03-04/sglx/2123_g0/wav_mic.npy\n",
      "2023-03-07 13:05:51,421 ceciestunepipe.util.wavutil INFO     loading npy array from /mnt/sphere/speech_bci/derived_data/s_b1515_23/2023-03-04/sglx/2123_g0/wav_mic.npy\n",
      "2023-03-07 13:05:57,251 ceciestunepipe.util.sound.boutsearch INFO     splitting file into 6 chunks\n"
     ]
    },
    {
     "data": {
      "application/vnd.jupyter.widget-view+json": {
       "model_id": "0ff3eff4886e4baeb4170766c0fed825",
       "version_major": 2,
       "version_minor": 0
      },
      "text/plain": [
       "  0%|          | 0/6 [00:00<?, ?it/s]"
      ]
     },
     "metadata": {},
     "output_type": "display_data"
    },
    {
     "name": "stderr",
     "output_type": "stream",
     "text": [
      "2023-03-07 13:08:50,707 ceciestunepipe.pipeline.searchbout INFO     could not get rate from file /mnt/sphere/speech_bci/derived_data/s_b1515_23/2023-03-04/sglx/0839_g0/wav_mic.npy\n",
      "2023-03-07 13:08:50,924 ceciestunepipe.pipeline.searchbout INFO     could not get rate from file /mnt/sphere/speech_bci/derived_data/s_b1515_23/2023-03-04/sglx/1431_g0/wav_mic.npy\n",
      "2023-03-07 13:08:50,925 ceciestunepipe.pipeline.searchbout INFO     could not get rate from file /mnt/sphere/speech_bci/derived_data/s_b1515_23/2023-03-04/sglx/2123_g0/wav_mic.npy\n",
      "2023-03-07 13:08:50,932 ceciestunepipe.pipeline.searchbout INFO     getting spectrograms\n",
      "2023-03-07 13:11:48,474 ceciestunepipe.pipeline.searchbout INFO     saving bouts pandas to /mnt/sphere/speech_bci/derived_data/s_b1515_23/2023-03-04/bouts_sglx/bout_auto.pickle\n",
      "2023-03-07 13:12:11,468 ceciestunepipe.pipeline.searchbout INFO     saving bout detect parameters dict to /mnt/sphere/speech_bci/derived_data/s_b1515_23/2023-03-04/bouts_sglx/bout_search_params.pickle\n",
      "2023-03-07 13:12:11,470 ceciestunepipe.util.sound.boutsearch INFO     saving bout detect parameters dict to /mnt/sphere/speech_bci/derived_data/s_b1515_23/2023-03-04/bouts_sglx/bout_search_params.pickle\n",
      "2023-03-07 13:12:11,480 ceciestunepipe.pipeline.searchbout INFO     saving bouts pandas to /mnt/sphere/speech_bci/derived_data/s_b1515_23/2023-03-04/bouts_sglx/bout_auto.pickle\n",
      "2023-03-07 13:12:34,782 ceciestunepipe.pipeline.searchbout INFO     saving bout detect parameters dict to /mnt/sphere/speech_bci/derived_data/s_b1515_23/2023-03-04/bouts_sglx/bout_search_params.pickle\n",
      "2023-03-07 13:12:34,783 ceciestunepipe.util.sound.boutsearch INFO     saving bout detect parameters dict to /mnt/sphere/speech_bci/derived_data/s_b1515_23/2023-03-04/bouts_sglx/bout_search_params.pickle\n",
      "2023-03-07 13:12:34,787 ceciestunepipe.pipeline.searchbout INFO     Will search for bouts through all session s_b1515_23, 2023-03-05\n",
      "2023-03-07 13:12:34,952 ceciestunepipe.pipeline.searchbout INFO     getting npy files from /mnt/sphere/speech_bci/derived_data/s_b1515_23/2023-03-05/sglx\n",
      "2023-03-07 13:12:34,952 ceciestunepipe.pipeline.searchbout INFO     Found 2 files\n",
      "2023-03-07 13:12:34,954 ceciestunepipe.util.sound.boutsearch INFO     Getting bouts for long file /mnt/sphere/speech_bci/derived_data/s_b1515_23/2023-03-05/sglx/0918_g0/wav_mic.npy\n",
      "2023-03-07 13:12:34,956 ceciestunepipe.util.wavutil INFO     skipping wav, loading npy instead from /mnt/sphere/speech_bci/derived_data/s_b1515_23/2023-03-05/sglx/0918_g0/wav_mic.npy\n",
      "2023-03-07 13:12:34,957 ceciestunepipe.util.wavutil INFO     loading npy array from /mnt/sphere/speech_bci/derived_data/s_b1515_23/2023-03-05/sglx/0918_g0/wav_mic.npy\n",
      "2023-03-07 13:12:45,567 ceciestunepipe.util.sound.boutsearch INFO     splitting file into 11 chunks\n"
     ]
    },
    {
     "data": {
      "application/vnd.jupyter.widget-view+json": {
       "model_id": "fbe959626cf24aeda795112e80ed9c2d",
       "version_major": 2,
       "version_minor": 0
      },
      "text/plain": [
       "  0%|          | 0/11 [00:00<?, ?it/s]"
      ]
     },
     "metadata": {},
     "output_type": "display_data"
    },
    {
     "name": "stderr",
     "output_type": "stream",
     "text": [
      "2023-03-07 13:18:18,291 ceciestunepipe.util.sound.boutsearch INFO     Getting bouts for long file /mnt/sphere/speech_bci/derived_data/s_b1515_23/2023-03-05/sglx/1538_g0/wav_mic.npy\n",
      "2023-03-07 13:18:18,293 ceciestunepipe.util.wavutil INFO     skipping wav, loading npy instead from /mnt/sphere/speech_bci/derived_data/s_b1515_23/2023-03-05/sglx/1538_g0/wav_mic.npy\n",
      "2023-03-07 13:18:18,294 ceciestunepipe.util.wavutil INFO     loading npy array from /mnt/sphere/speech_bci/derived_data/s_b1515_23/2023-03-05/sglx/1538_g0/wav_mic.npy\n",
      "2023-03-07 13:18:31,030 ceciestunepipe.util.sound.boutsearch INFO     splitting file into 14 chunks\n"
     ]
    },
    {
     "data": {
      "application/vnd.jupyter.widget-view+json": {
       "model_id": "64b400bd3527483bb4454819099279c7",
       "version_major": 2,
       "version_minor": 0
      },
      "text/plain": [
       "  0%|          | 0/14 [00:00<?, ?it/s]"
      ]
     },
     "metadata": {},
     "output_type": "display_data"
    },
    {
     "name": "stderr",
     "output_type": "stream",
     "text": [
      "2023-03-07 13:26:14,281 ceciestunepipe.pipeline.searchbout INFO     could not get rate from file /mnt/sphere/speech_bci/derived_data/s_b1515_23/2023-03-05/sglx/0918_g0/wav_mic.npy\n",
      "2023-03-07 13:26:14,282 ceciestunepipe.pipeline.searchbout INFO     could not get rate from file /mnt/sphere/speech_bci/derived_data/s_b1515_23/2023-03-05/sglx/1538_g0/wav_mic.npy\n",
      "2023-03-07 13:26:14,289 ceciestunepipe.pipeline.searchbout INFO     getting spectrograms\n",
      "2023-03-07 13:28:43,886 ceciestunepipe.pipeline.searchbout INFO     saving bouts pandas to /mnt/sphere/speech_bci/derived_data/s_b1515_23/2023-03-05/bouts_sglx/bout_auto.pickle\n",
      "2023-03-07 13:29:03,223 ceciestunepipe.pipeline.searchbout INFO     saving bout detect parameters dict to /mnt/sphere/speech_bci/derived_data/s_b1515_23/2023-03-05/bouts_sglx/bout_search_params.pickle\n",
      "2023-03-07 13:29:03,225 ceciestunepipe.util.sound.boutsearch INFO     saving bout detect parameters dict to /mnt/sphere/speech_bci/derived_data/s_b1515_23/2023-03-05/bouts_sglx/bout_search_params.pickle\n",
      "2023-03-07 13:29:03,231 ceciestunepipe.pipeline.searchbout INFO     saving bouts pandas to /mnt/sphere/speech_bci/derived_data/s_b1515_23/2023-03-05/bouts_sglx/bout_auto.pickle\n",
      "2023-03-07 13:29:22,369 ceciestunepipe.pipeline.searchbout INFO     saving bout detect parameters dict to /mnt/sphere/speech_bci/derived_data/s_b1515_23/2023-03-05/bouts_sglx/bout_search_params.pickle\n",
      "2023-03-07 13:29:22,372 ceciestunepipe.util.sound.boutsearch INFO     saving bout detect parameters dict to /mnt/sphere/speech_bci/derived_data/s_b1515_23/2023-03-05/bouts_sglx/bout_search_params.pickle\n"
     ]
    }
   ],
   "source": [
    "#all_sessions = sess_list[-1:]\n",
    "#all_sessions = ['2021-06-15']\n",
    "for sess in bout_sessions:\n",
    "    sess_par['sess'] = sess\n",
    "    sess_bout_pd = sb.get_all_day_bouts(sess_par, hparams, n_jobs=1, ephys_software='sglx', file_ext='npy')\n",
    "    sb.save_auto_bouts(sess_bout_pd, sess_par, hparams, software='sglx')\n",
    "    #sess_bouts_folder = os.path.join(exp_struct['folders']['derived'], 'bouts')\n",
    "    #bouts_to_wavs(sess_bout_pd, sess_par, hparams, sess_bouts_folder)"
   ]
  },
  {
   "cell_type": "code",
   "execution_count": 50,
   "metadata": {
    "collapsed": true,
    "jupyter": {
     "outputs_hidden": true
    },
    "tags": []
   },
   "outputs": [
    {
     "name": "stdout",
     "output_type": "stream",
     "text": [
      "<class 'pandas.core.frame.DataFrame'>\n",
      "RangeIndex: 1062 entries, 0 to 1061\n",
      "Data columns (total 20 columns):\n",
      " #   Column          Non-Null Count  Dtype  \n",
      "---  ------          --------------  -----  \n",
      " 0   start_ms        1062 non-null   int64  \n",
      " 1   end_ms          1062 non-null   int64  \n",
      " 2   start_sample    1062 non-null   int64  \n",
      " 3   end_sample      1062 non-null   int64  \n",
      " 4   p_step          1062 non-null   object \n",
      " 5   rms_p           1062 non-null   float64\n",
      " 6   peak_p          1062 non-null   float64\n",
      " 7   bout_check      1062 non-null   bool   \n",
      " 8   file            1062 non-null   object \n",
      " 9   len_ms          1062 non-null   int64  \n",
      " 10  syl_in          1062 non-null   object \n",
      " 11  n_syl           1062 non-null   int64  \n",
      " 12  peaks_p         1062 non-null   object \n",
      " 13  n_peaks         1062 non-null   int64  \n",
      " 14  l_p_ratio       1062 non-null   float64\n",
      " 15  waveform        1062 non-null   object \n",
      " 16  confusing       1062 non-null   bool   \n",
      " 17  valid_waveform  1062 non-null   bool   \n",
      " 18  valid           1062 non-null   bool   \n",
      " 19  spectrogram     1062 non-null   object \n",
      "dtypes: bool(4), float64(3), int64(7), object(6)\n",
      "memory usage: 137.0+ KB\n"
     ]
    }
   ],
   "source": [
    "sess_bout_pd.info()"
   ]
  },
  {
   "cell_type": "code",
   "execution_count": 15,
   "metadata": {},
   "outputs": [
    {
     "data": {
      "text/plain": [
       "883"
      ]
     },
     "execution_count": 15,
     "metadata": {},
     "output_type": "execute_result"
    }
   ],
   "source": [
    "np.unique(sess_bout_pd['start_ms']).size"
   ]
  },
  {
   "cell_type": "markdown",
   "metadata": {},
   "source": [
    "# debug"
   ]
  },
  {
   "cell_type": "markdown",
   "metadata": {},
   "source": [
    "## debug search_bout"
   ]
  },
  {
   "cell_type": "code",
   "execution_count": 21,
   "metadata": {},
   "outputs": [
    {
     "name": "stderr",
     "output_type": "stream",
     "text": [
      "2021-09-22 15:13:39,371 root         INFO     Found 4 files\n"
     ]
    },
    {
     "name": "stdout",
     "output_type": "stream",
     "text": [
      "['/mnt/sphere/speech_bci/derived_data/s_b1253_21/2021-06-14/sglx/0712_g0/wav_mic.wav', '/mnt/sphere/speech_bci/derived_data/s_b1253_21/2021-06-14/sglx/1255_g0/wav_mic.wav', '/mnt/sphere/speech_bci/derived_data/s_b1253_21/2021-06-14/sglx/1740_g0/wav_mic.wav', '/mnt/sphere/speech_bci/derived_data/s_b1253_21/2021-06-14/sglx/2118_g0/wav_mic.wav']\n"
     ]
    }
   ],
   "source": [
    "## look for a single file\n",
    "sess = sess_list[0]\n",
    "\n",
    "exp_struct = et.get_exp_struct(sess_par['bird'], sess, ephys_software='sglx')\n",
    "source_folder = exp_struct['folders']['derived']\n",
    "wav_path_list = et.get_sgl_files_epochs(source_folder, file_filter='*wav_mic.wav')\n",
    "wav_path_list.sort()\n",
    "logger.info('Found {} files'.format(len(wav_path_list)))\n",
    "print(wav_path_list)"
   ]
  },
  {
   "cell_type": "code",
   "execution_count": 22,
   "metadata": {},
   "outputs": [],
   "source": [
    "one_file = wav_path_list[0]"
   ]
  },
  {
   "cell_type": "code",
   "execution_count": null,
   "metadata": {},
   "outputs": [
    {
     "name": "stderr",
     "output_type": "stream",
     "text": [
      "2021-09-22 15:13:45,924 ceciestunepipe.util.sound.boutsearch INFO     Getting bouts for long file /mnt/sphere/speech_bci/derived_data/s_b1253_21/2021-06-14/sglx/0712_g0/wav_mic.wav\n"
     ]
    },
    {
     "name": "stdout",
     "output_type": "stream",
     "text": [
      "tu vieja file /mnt/sphere/speech_bci/derived_data/s_b1253_21/2021-06-14/sglx/0712_g0/wav_mic.wav\n"
     ]
    },
    {
     "name": "stderr",
     "output_type": "stream",
     "text": [
      "2021-09-22 15:13:45,962 ceciestunepipe.util.sound.boutsearch INFO     splitting file into 5 chunks\n"
     ]
    },
    {
     "data": {
      "application/vnd.jupyter.widget-view+json": {
       "model_id": "2ee46791b8cc495dae356f151c0a45d0",
       "version_major": 2,
       "version_minor": 0
      },
      "text/plain": [
       "  0%|          | 0/5 [00:00<?, ?it/s]"
      ]
     },
     "metadata": {},
     "output_type": "display_data"
    }
   ],
   "source": [
    "reload(bs)\n",
    "epoch_bout_pd, epoch_wav = bs.get_bouts_in_long_file(wav_path_list[0], hparams)"
   ]
  },
  {
   "cell_type": "code",
   "execution_count": null,
   "metadata": {},
   "outputs": [],
   "source": []
  }
 ],
 "metadata": {
  "kernelspec": {
   "display_name": "ceciestunepipe (cube)",
   "language": "python",
   "name": "unepipe-cube"
  },
  "language_info": {
   "codemirror_mode": {
    "name": "ipython",
    "version": 3
   },
   "file_extension": ".py",
   "mimetype": "text/x-python",
   "name": "python",
   "nbconvert_exporter": "python",
   "pygments_lexer": "ipython3",
   "version": "3.8.11"
  }
 },
 "nbformat": 4,
 "nbformat_minor": 4
}
