{
 "cells": [
  {
   "cell_type": "markdown",
   "metadata": {},
   "source": [
    "# Pre-processing pipeline for openephys sessions, starling\n",
    "- For every run in the session:\n",
    " - Load the recordings\n",
    " - Extract wav chan with micrhopohone and make a wav chan with the nidq syn signal\n",
    " - Get the sync events for the nidq sync channel\n",
    " \n",
    " - Do bout detection\n",
    " \n",
    "In another notebook, bout detection is curated\n",
    "- Left to decide where to:\n",
    "    - Sort spikes\n",
    "    - Sync the spikes/lfp/nidq\n",
    "    - make and plot 'bout rasters'"
   ]
  },
  {
   "cell_type": "code",
   "execution_count": 1,
   "metadata": {},
   "outputs": [],
   "source": [
    "%matplotlib inline\n",
    "import os\n",
    "import glob\n",
    "import logging\n",
    "import pickle\n",
    "import numpy as np\n",
    "import pandas as pd\n",
    "from scipy.io import wavfile\n",
    "from scipy import signal\n",
    "import traceback\n",
    "import warnings\n",
    "import json\n",
    "\n",
    "from matplotlib import pyplot as plt\n",
    "from importlib import reload\n",
    "\n",
    "logger = logging.getLogger()\n",
    "handler = logging.StreamHandler()\n",
    "formatter = logging.Formatter(\n",
    "        '%(asctime)s %(name)-12s %(levelname)-8s %(message)s')\n",
    "handler.setFormatter(formatter)\n",
    "logger.addHandler(handler)\n",
    "logger.setLevel(logging.INFO)\n"
   ]
  },
  {
   "cell_type": "code",
   "execution_count": 2,
   "metadata": {},
   "outputs": [],
   "source": [
    "from ceciestunepipe.file import bcistructure as et\n",
    "from ceciestunepipe.util import sglxutil as sglu\n",
    "from ceciestunepipe.util import oelegacy as oel\n",
    "from ceciestunepipe.util import rigutil as ru\n",
    "from ceciestunepipe.util import wavutil as wu\n",
    "from ceciestunepipe.util import syncutil as su\n",
    "from ceciestunepipe.util import fileutil as fu\n",
    "\n",
    "from ceciestunepipe.util.sound import boutsearch as bs\n",
    "from ceciestunepipe.util.sound import spectral as sp\n",
    "\n",
    "from ceciestunepipe.pipeline import searchbout as sb\n",
    "\n",
    "from ceciestunepipe.util.spikeextractors import preprocess as pre\n"
   ]
  },
  {
   "cell_type": "code",
   "execution_count": 3,
   "metadata": {},
   "outputs": [
    {
     "name": "stderr",
     "output_type": "stream",
     "text": [
      "2022-09-02 08:55:54,829 root         INFO     all modules loaded\n"
     ]
    }
   ],
   "source": [
    "from spikeinterface import core as sc\n",
    "\n",
    "import spikeinterface as si\n",
    "import spikeinterface.extractors as se\n",
    "import spikeinterface.toolkit as st\n",
    "import spikeinterface.sorters as ss\n",
    "import spikeinterface.widgets as sw\n",
    "logger.info('all modules loaded')"
   ]
  },
  {
   "cell_type": "markdown",
   "metadata": {},
   "source": [
    "## Session parameters and raw files"
   ]
  },
  {
   "cell_type": "markdown",
   "metadata": {},
   "source": [
    "#### list all the sessions for this bird"
   ]
  },
  {
   "cell_type": "code",
   "execution_count": 4,
   "metadata": {},
   "outputs": [
    {
     "name": "stderr",
     "output_type": "stream",
     "text": [
      "2022-09-02 08:55:54,856 root         INFO     all sessions for bird are ['2022-08-30']\n"
     ]
    }
   ],
   "source": [
    "bird = 's_b1312_22'\n",
    "all_bird_sess = et.list_sessions(bird)\n",
    "logger.info('all sessions for bird are {}'.format(all_bird_sess))"
   ]
  },
  {
   "cell_type": "markdown",
   "metadata": {},
   "source": [
    "### set up bird and sessions parameters\n",
    "this will define:\n",
    "- locations of files (for the bird)\n",
    "- signals and channels to look for in the metadata of the files and in the rig.json parameter file: Note that this have to exist in all of the sessions that will be processed\n",
    "- 'sess' is unimportant here, but it comes handy if there is need to debug usin a single session"
   ]
  },
  {
   "cell_type": "code",
   "execution_count": 5,
   "metadata": {},
   "outputs": [],
   "source": [
    "reload(et)\n",
    "# for one example session\n",
    "\n",
    "sess_par = {'bird': bird,\n",
    "           'sess': '2022-08-30',\n",
    "           'probes': ['probe_0'], #probes of interest\n",
    "           'mic_list': ['led_intensity_0'], #list of mics of interest, by signal name in rig.json\n",
    "           'sort': 0, #label for this sort instance\n",
    "            \n",
    "            'processor': 'Acquisition_Board-100.Rhythm Data',\n",
    "            'record_node': 'Record Node 101',\n",
    "            'experiment': 'experiment1',\n",
    "           }\n",
    "\n",
    "exp_struct = et.get_exp_struct(sess_par['bird'], sess_par['sess'], sort=sess_par['sort'], ephys_software='oe')\n",
    "\n",
    "ksort_folder = exp_struct['folders']['ksort']\n",
    "raw_folder = exp_struct['folders']['oe']"
   ]
  },
  {
   "cell_type": "markdown",
   "metadata": {},
   "source": [
    "list all the epochs in a session, to check that it is finding what it has to find"
   ]
  },
  {
   "cell_type": "code",
   "execution_count": 6,
   "metadata": {},
   "outputs": [],
   "source": [
    "import json"
   ]
  },
  {
   "cell_type": "code",
   "execution_count": 7,
   "metadata": {},
   "outputs": [],
   "source": [
    "# this should go to eciestunepipe.file.bcistructure (as et here)\n",
    "def list_oe_epochs(exp_struct):\n",
    "    sess_path = os.path.join(exp_struct['folders']['oe'])\n",
    "    epoch_list = [os.path.split(f.path)[-1] for f in os.scandir(sess_path) if f.is_dir()]\n",
    "    return epoch_list\n",
    "\n",
    "def list_nodes(epoch_path):\n",
    "    return [f.path for f in os.scandir(epoch_path) if f.is_dir()]\n",
    "\n",
    "def list_experiments(node_path):\n",
    "    return [f.path for f in os.scandir(node_path) if f.is_dir()]\n",
    "\n",
    "def list_recordings(experiment_path):\n",
    "    return [f.path for f in os.scandir(experiment_path) if f.is_dir()]\n",
    "\n",
    "def list_processors(signal_path):\n",
    "    return [f.path for f in os.scandir(signal_path) if f.is_dir()]\n",
    "\n",
    "def get_rec_meta(rec_path):\n",
    "    rec_meta_path = os.path.join(rec_path, 'structure.oebin')\n",
    "    with open(rec_meta_path, 'r') as meta_file:\n",
    "        meta = json.load(meta_file)\n",
    "    return meta\n",
    "\n",
    "def get_continous_files_list(rec_path, processor='Rhythm_FPGA-100.0'):\n",
    "    cont_raw_list = glob.glob(os.path.join(rec_path, 'continuous', processor, 'continuous.dat'))\n",
    "    return cont_raw_list\n",
    "\n",
    "def oe_list_bin_files(epoch_path):\n",
    "    return glob.glob(os.path.join(epoch_path, 'experiment*.dat'))\n",
    "\n",
    "def get_default_node(exp_struct, epoch, rec_index=0):\n",
    "    # get the first rec node, the first experiment, and ith index of recording\n",
    "    r_path = os.path.join(os.path.join(exp_struct['folders']['oe'], epoch))\n",
    "    node = list_nodes(r_path)[0]\n",
    "    \n",
    "    r_path = os.path.join(r_path, node)\n",
    "    experiment = list_experiments(r_path)[0]\n",
    "    \n",
    "    return r_path\n",
    "\n",
    "def get_default_recording(node_path):\n",
    "    experiment = list_experiments(node_path)[0]\n",
    "    r_path = os.path.join(node_path, experiment)\n",
    "    \n",
    "    recording = list_recordings(r_path)[0]\n",
    "    r_path = os.path.join(r_path, recording)\n",
    "    return r_path\n",
    "\n",
    "def get_default_continuous(rec_path):\n",
    "    processor = list_processors(os.path.join(rec_path, 'continuous'))[0]\n",
    "    r_path = os.path.join(rec_path, processor)\n",
    "    return r_path"
   ]
  },
  {
   "cell_type": "code",
   "execution_count": 8,
   "metadata": {},
   "outputs": [],
   "source": [
    "def get_oe_sample_rate(rec_meta_dict: dict) -> float:\n",
    "    return float(rec_meta_dict['continuous'][0]['sample_rate'])\n",
    "\n",
    "\n",
    "def build_chan_info_pd(oe_meta_dict: dict, processor_order: int=0) -> pd.DataFrame:\n",
    "    # read all channels names, numbers, and whether they were recorded\n",
    "    rec_chan_meta = oe_meta_dict['continuous'][processor_order]['channels']\n",
    "    \n",
    "    all_chan_meta = []\n",
    "    for i, a_chan_meta in enumerate(rec_chan_meta):\n",
    "        all_chan_meta.append({'number': i,\n",
    "                              'recorded': 1,\n",
    "                             'name': a_chan_meta['channel_name'],\n",
    "                             'gain': float(a_chan_meta['bit_volts'])})\n",
    "        \n",
    "    all_chan_pd = pd.DataFrame(all_chan_meta)\n",
    "    return all_chan_pd\n",
    "\n",
    "def find_chan_order(chan_info_pd: pd.DataFrame, chan_name: str) -> int:\n",
    "    recorded_block_pd = chan_info_pd[chan_info_pd['recorded']==1]\n",
    "    recorded_block_pd.reset_index(inplace=True, drop=True)\n",
    "    return recorded_block_pd[recorded_block_pd['name']==chan_name].index[0]"
   ]
  },
  {
   "cell_type": "code",
   "execution_count": 9,
   "metadata": {},
   "outputs": [
    {
     "data": {
      "text/plain": [
       "['2690R210A250z_2022-08-30_14-06-31_3v3',\n",
       " '2590R670A380z_2022-08-30_13-08-30_2v3',\n",
       " '2570R550A750_2022-08-30_12-04-20_1V5',\n",
       " '3190R320A520z_2022-08-30_16-27-58_2v4',\n",
       " '2590R670A1150z_2022-08-30_13-30-29_2v3',\n",
       " '2590R670A1150z_2022-08-30_13-29-44_2v3',\n",
       " '2690R210A690z_2022-08-30_14-39-47_2v0',\n",
       " '2570R550A750_2022-08-30_11-35-04_2V4',\n",
       " '3000R320A665z_2022-08-30_15-59-06_2v6']"
      ]
     },
     "execution_count": 9,
     "metadata": {},
     "output_type": "execute_result"
    }
   ],
   "source": [
    "sess_epochs = list_oe_epochs(exp_struct)\n",
    "sess_epochs"
   ]
  },
  {
   "cell_type": "code",
   "execution_count": 10,
   "metadata": {},
   "outputs": [
    {
     "data": {
      "text/plain": [
       "'/mnt/sphere/speech_bci/raw_data/s_b1312_22/2022-08-30/oe/3000R320A665z_2022-08-30_15-59-06_2v6'"
      ]
     },
     "execution_count": 10,
     "metadata": {},
     "output_type": "execute_result"
    }
   ],
   "source": [
    "epoch = sess_epochs[8] # 2 may have had somethng tini?\n",
    "\n",
    "epoch_path = os.path.join(raw_folder, epoch)\n",
    "epoch_path"
   ]
  },
  {
   "cell_type": "markdown",
   "metadata": {},
   "source": [
    "## read the openephys data format, because yes I was that stupid."
   ]
  },
  {
   "cell_type": "code",
   "execution_count": 11,
   "metadata": {},
   "outputs": [],
   "source": [
    "import spikeinterface.extractors as se\n",
    "\n",
    "oe_folder = os.path.join(epoch_path, 'Record Node 106')"
   ]
  },
  {
   "cell_type": "code",
   "execution_count": 12,
   "metadata": {},
   "outputs": [
    {
     "name": "stdout",
     "output_type": "stream",
     "text": [
      "Loading continuous data...\n",
      "Loading continuous data...\n",
      "Loading continuous data...\n",
      "Loading continuous data...\n",
      "Loading continuous data...\n",
      "Loading continuous data...\n",
      "Loading continuous data...\n",
      "Loading continuous data...\n",
      "Loading continuous data...\n",
      "Loading continuous data...\n",
      "Loading continuous data...\n",
      "Loading continuous data...\n",
      "Loading continuous data...\n",
      "Loading continuous data...\n",
      "Loading continuous data...\n",
      "Loading continuous data...\n",
      "Loading continuous data...\n",
      "Loading continuous data...\n",
      "Loading continuous data...\n",
      "Loading continuous data...\n",
      "Loading continuous data...\n",
      "Loading continuous data...\n",
      "Loading continuous data...\n",
      "Loading continuous data...\n",
      "Loading continuous data...\n",
      "Loading continuous data...\n",
      "Loading continuous data...\n",
      "Loading continuous data...\n",
      "Loading continuous data...\n",
      "Loading continuous data...\n",
      "Loading continuous data...\n",
      "Loading continuous data...\n",
      "Loading continuous data...\n",
      "Loading continuous data...\n",
      "Loading continuous data...\n",
      "Loading continuous data...\n",
      "Loading continuous data...\n",
      "Loading continuous data...\n",
      "Loading continuous data...\n",
      "Loading continuous data...\n",
      "Avg. Load Time: 1.562771850824356 sec\n",
      "Total Load Time: 62.51098418235779 sec\n"
     ]
    }
   ],
   "source": [
    "oe_dict = oel.loadFolder(oe_folder)"
   ]
  },
  {
   "cell_type": "code",
   "execution_count": 13,
   "metadata": {},
   "outputs": [],
   "source": [
    "ch_names = np.array(list(oe_dict.keys()))\n",
    "chan_list = np.array([int(x.split('_')[-1]) for x in ch_names])\n",
    "np.argsort(chan_list)\n",
    "sorted_chan_list = ch_names[np.argsort(chan_list)]"
   ]
  },
  {
   "cell_type": "code",
   "execution_count": 14,
   "metadata": {},
   "outputs": [],
   "source": [
    "## get the data into an array and into a rec\n",
    "s_f = int(oe_dict[ch_names[0]]['header']['sampleRate'])\n",
    "\n",
    "data_arr = np.vstack([oe_dict[c]['data'] for c in sorted_chan_list])\n",
    "t_block = np.arange(1024)\n",
    "data_t = np.hstack([t_block + t_i for t_i in oe_dict[sorted_chan_list[0]]['timestamps']]).astype(int)\n",
    "oe_rec = sc.numpyextractors.NumpyRecording(data_arr.T, s_f, channel_ids=sorted_chan_list)"
   ]
  },
  {
   "cell_type": "markdown",
   "metadata": {},
   "source": [
    "### get the events"
   ]
  },
  {
   "cell_type": "code",
   "execution_count": 15,
   "metadata": {},
   "outputs": [
    {
     "name": "stdout",
     "output_type": "stream",
     "text": [
      "loading events...\n"
     ]
    }
   ],
   "source": [
    "oe_evt_dict = oel.loadEvents(os.path.join(oe_folder, 'all_channels.events'))\n",
    "keys_to_df = ['channel', 'timestamps', 'eventType', 'eventId', '']\n",
    "oe_evt_df = pd.DataFrame.from_dict({k: v for k, v in oe_evt_dict.items() if k in keys_to_df})"
   ]
  },
  {
   "cell_type": "code",
   "execution_count": 16,
   "metadata": {},
   "outputs": [
    {
     "data": {
      "text/html": [
       "<div>\n",
       "<style scoped>\n",
       "    .dataframe tbody tr th:only-of-type {\n",
       "        vertical-align: middle;\n",
       "    }\n",
       "\n",
       "    .dataframe tbody tr th {\n",
       "        vertical-align: top;\n",
       "    }\n",
       "\n",
       "    .dataframe thead th {\n",
       "        text-align: right;\n",
       "    }\n",
       "</style>\n",
       "<table border=\"1\" class=\"dataframe\">\n",
       "  <thead>\n",
       "    <tr style=\"text-align: right;\">\n",
       "      <th></th>\n",
       "      <th>channel</th>\n",
       "      <th>timestamps</th>\n",
       "      <th>eventType</th>\n",
       "      <th>eventId</th>\n",
       "    </tr>\n",
       "  </thead>\n",
       "  <tbody>\n",
       "    <tr>\n",
       "      <th>0</th>\n",
       "      <td>3.0</td>\n",
       "      <td>70378023.0</td>\n",
       "      <td>3.0</td>\n",
       "      <td>1.0</td>\n",
       "    </tr>\n",
       "    <tr>\n",
       "      <th>1</th>\n",
       "      <td>3.0</td>\n",
       "      <td>70423055.0</td>\n",
       "      <td>3.0</td>\n",
       "      <td>0.0</td>\n",
       "    </tr>\n",
       "    <tr>\n",
       "      <th>2</th>\n",
       "      <td>3.0</td>\n",
       "      <td>71040698.0</td>\n",
       "      <td>3.0</td>\n",
       "      <td>1.0</td>\n",
       "    </tr>\n",
       "    <tr>\n",
       "      <th>3</th>\n",
       "      <td>3.0</td>\n",
       "      <td>71085730.0</td>\n",
       "      <td>3.0</td>\n",
       "      <td>0.0</td>\n",
       "    </tr>\n",
       "    <tr>\n",
       "      <th>4</th>\n",
       "      <td>3.0</td>\n",
       "      <td>71598073.0</td>\n",
       "      <td>3.0</td>\n",
       "      <td>1.0</td>\n",
       "    </tr>\n",
       "    <tr>\n",
       "      <th>...</th>\n",
       "      <td>...</td>\n",
       "      <td>...</td>\n",
       "      <td>...</td>\n",
       "      <td>...</td>\n",
       "    </tr>\n",
       "    <tr>\n",
       "      <th>92</th>\n",
       "      <td>3.0</td>\n",
       "      <td>99319347.0</td>\n",
       "      <td>3.0</td>\n",
       "      <td>1.0</td>\n",
       "    </tr>\n",
       "    <tr>\n",
       "      <th>93</th>\n",
       "      <td>3.0</td>\n",
       "      <td>99364379.0</td>\n",
       "      <td>3.0</td>\n",
       "      <td>0.0</td>\n",
       "    </tr>\n",
       "    <tr>\n",
       "      <th>94</th>\n",
       "      <td>3.0</td>\n",
       "      <td>99453797.0</td>\n",
       "      <td>3.0</td>\n",
       "      <td>1.0</td>\n",
       "    </tr>\n",
       "    <tr>\n",
       "      <th>95</th>\n",
       "      <td>3.0</td>\n",
       "      <td>99498829.0</td>\n",
       "      <td>3.0</td>\n",
       "      <td>0.0</td>\n",
       "    </tr>\n",
       "    <tr>\n",
       "      <th>96</th>\n",
       "      <td>3.0</td>\n",
       "      <td>99586789.0</td>\n",
       "      <td>3.0</td>\n",
       "      <td>1.0</td>\n",
       "    </tr>\n",
       "  </tbody>\n",
       "</table>\n",
       "<p>97 rows × 4 columns</p>\n",
       "</div>"
      ],
      "text/plain": [
       "    channel  timestamps  eventType  eventId\n",
       "0       3.0  70378023.0        3.0      1.0\n",
       "1       3.0  70423055.0        3.0      0.0\n",
       "2       3.0  71040698.0        3.0      1.0\n",
       "3       3.0  71085730.0        3.0      0.0\n",
       "4       3.0  71598073.0        3.0      1.0\n",
       "..      ...         ...        ...      ...\n",
       "92      3.0  99319347.0        3.0      1.0\n",
       "93      3.0  99364379.0        3.0      0.0\n",
       "94      3.0  99453797.0        3.0      1.0\n",
       "95      3.0  99498829.0        3.0      0.0\n",
       "96      3.0  99586789.0        3.0      1.0\n",
       "\n",
       "[97 rows x 4 columns]"
      ]
     },
     "execution_count": 16,
     "metadata": {},
     "output_type": "execute_result"
    }
   ],
   "source": [
    "oe_evt_df"
   ]
  },
  {
   "cell_type": "code",
   "execution_count": 17,
   "metadata": {},
   "outputs": [],
   "source": [
    "# get onsets/onsets\n",
    "ev_ttl_chan = 3\n",
    "ch_filter = oe_evt_df['channel']==ev_ttl_chan\n",
    "\n",
    "all_on_arr = oe_evt_df.loc[ch_filter & (oe_evt_df['eventId']==1), 'timestamps'].to_numpy().astype(int)\n",
    "all_off_arr = oe_evt_df.loc[ch_filter & (oe_evt_df['eventId']==0), 'timestamps'].to_numpy().astype(int)\n",
    "\n",
    "if all_on_arr[-1] > all_off_arr[-1]:\n",
    "    all_on_arr = all_on_arr[:-1]\n",
    "\n",
    "off_arr = np.array([all_off_arr[all_off_arr>x][0] for x in all_on_arr])\n",
    "onoff_arr = np.vstack([all_on_arr, off_arr]).astype(int).T"
   ]
  },
  {
   "cell_type": "markdown",
   "metadata": {},
   "source": [
    "#### get the triggers for the ttl"
   ]
  },
  {
   "cell_type": "code",
   "execution_count": 18,
   "metadata": {},
   "outputs": [],
   "source": [
    "## get the start timestamps and unique duration within the recording (index in data_t)\n",
    "on_idx = np.array([np.where(data_t==x)[0][0] for x in onoff_arr[:, 0]])\n",
    "off_idx = np.array([np.where(data_t==x)[0][0] for x in onoff_arr[:, 1]])\n",
    "\n",
    "led_df = pd.DataFrame(np.vstack([onoff_arr.T, on_idx, off_idx]).T, \n",
    "                     columns=['t_on', 't_off', 'idx_on', 'idx_off'])\n",
    "led_df['len'] = led_df['idx_off'] - led_df['idx_on']"
   ]
  },
  {
   "cell_type": "code",
   "execution_count": 19,
   "metadata": {},
   "outputs": [
    {
     "data": {
      "text/html": [
       "<div>\n",
       "<style scoped>\n",
       "    .dataframe tbody tr th:only-of-type {\n",
       "        vertical-align: middle;\n",
       "    }\n",
       "\n",
       "    .dataframe tbody tr th {\n",
       "        vertical-align: top;\n",
       "    }\n",
       "\n",
       "    .dataframe thead th {\n",
       "        text-align: right;\n",
       "    }\n",
       "</style>\n",
       "<table border=\"1\" class=\"dataframe\">\n",
       "  <thead>\n",
       "    <tr style=\"text-align: right;\">\n",
       "      <th></th>\n",
       "      <th>t_on</th>\n",
       "      <th>t_off</th>\n",
       "      <th>idx_on</th>\n",
       "      <th>idx_off</th>\n",
       "      <th>len</th>\n",
       "    </tr>\n",
       "  </thead>\n",
       "  <tbody>\n",
       "    <tr>\n",
       "      <th>0</th>\n",
       "      <td>70378023</td>\n",
       "      <td>70423055</td>\n",
       "      <td>262951</td>\n",
       "      <td>307983</td>\n",
       "      <td>45032</td>\n",
       "    </tr>\n",
       "    <tr>\n",
       "      <th>1</th>\n",
       "      <td>71040698</td>\n",
       "      <td>71085730</td>\n",
       "      <td>925626</td>\n",
       "      <td>970658</td>\n",
       "      <td>45032</td>\n",
       "    </tr>\n",
       "    <tr>\n",
       "      <th>2</th>\n",
       "      <td>71598073</td>\n",
       "      <td>71643105</td>\n",
       "      <td>1483001</td>\n",
       "      <td>1528033</td>\n",
       "      <td>45032</td>\n",
       "    </tr>\n",
       "    <tr>\n",
       "      <th>3</th>\n",
       "      <td>72219099</td>\n",
       "      <td>72264131</td>\n",
       "      <td>2104027</td>\n",
       "      <td>2149059</td>\n",
       "      <td>45032</td>\n",
       "    </tr>\n",
       "    <tr>\n",
       "      <th>4</th>\n",
       "      <td>72815121</td>\n",
       "      <td>72860153</td>\n",
       "      <td>2700049</td>\n",
       "      <td>2745081</td>\n",
       "      <td>45032</td>\n",
       "    </tr>\n",
       "    <tr>\n",
       "      <th>5</th>\n",
       "      <td>73411277</td>\n",
       "      <td>73456309</td>\n",
       "      <td>3296205</td>\n",
       "      <td>3341237</td>\n",
       "      <td>45032</td>\n",
       "    </tr>\n",
       "    <tr>\n",
       "      <th>6</th>\n",
       "      <td>73928394</td>\n",
       "      <td>73973426</td>\n",
       "      <td>3813322</td>\n",
       "      <td>3858354</td>\n",
       "      <td>45032</td>\n",
       "    </tr>\n",
       "    <tr>\n",
       "      <th>7</th>\n",
       "      <td>74496925</td>\n",
       "      <td>74541957</td>\n",
       "      <td>4381853</td>\n",
       "      <td>4426885</td>\n",
       "      <td>45032</td>\n",
       "    </tr>\n",
       "    <tr>\n",
       "      <th>8</th>\n",
       "      <td>75036196</td>\n",
       "      <td>75081228</td>\n",
       "      <td>4921124</td>\n",
       "      <td>4966156</td>\n",
       "      <td>45032</td>\n",
       "    </tr>\n",
       "    <tr>\n",
       "      <th>9</th>\n",
       "      <td>75553278</td>\n",
       "      <td>75598310</td>\n",
       "      <td>5438206</td>\n",
       "      <td>5483238</td>\n",
       "      <td>45032</td>\n",
       "    </tr>\n",
       "    <tr>\n",
       "      <th>10</th>\n",
       "      <td>76182439</td>\n",
       "      <td>76227471</td>\n",
       "      <td>6067367</td>\n",
       "      <td>6112399</td>\n",
       "      <td>45032</td>\n",
       "    </tr>\n",
       "    <tr>\n",
       "      <th>11</th>\n",
       "      <td>76777261</td>\n",
       "      <td>76822293</td>\n",
       "      <td>6662189</td>\n",
       "      <td>6707221</td>\n",
       "      <td>45032</td>\n",
       "    </tr>\n",
       "    <tr>\n",
       "      <th>12</th>\n",
       "      <td>77296752</td>\n",
       "      <td>77341784</td>\n",
       "      <td>7181680</td>\n",
       "      <td>7226712</td>\n",
       "      <td>45032</td>\n",
       "    </tr>\n",
       "    <tr>\n",
       "      <th>13</th>\n",
       "      <td>77896266</td>\n",
       "      <td>77941298</td>\n",
       "      <td>7781194</td>\n",
       "      <td>7826226</td>\n",
       "      <td>45032</td>\n",
       "    </tr>\n",
       "    <tr>\n",
       "      <th>14</th>\n",
       "      <td>78524241</td>\n",
       "      <td>78569273</td>\n",
       "      <td>8409169</td>\n",
       "      <td>8454201</td>\n",
       "      <td>45032</td>\n",
       "    </tr>\n",
       "    <tr>\n",
       "      <th>15</th>\n",
       "      <td>79111982</td>\n",
       "      <td>79157014</td>\n",
       "      <td>8996910</td>\n",
       "      <td>9041942</td>\n",
       "      <td>45032</td>\n",
       "    </tr>\n",
       "    <tr>\n",
       "      <th>16</th>\n",
       "      <td>79666136</td>\n",
       "      <td>79711168</td>\n",
       "      <td>9551064</td>\n",
       "      <td>9596096</td>\n",
       "      <td>45032</td>\n",
       "    </tr>\n",
       "    <tr>\n",
       "      <th>17</th>\n",
       "      <td>80275615</td>\n",
       "      <td>80320647</td>\n",
       "      <td>10160543</td>\n",
       "      <td>10205575</td>\n",
       "      <td>45032</td>\n",
       "    </tr>\n",
       "    <tr>\n",
       "      <th>18</th>\n",
       "      <td>80779408</td>\n",
       "      <td>80824440</td>\n",
       "      <td>10664336</td>\n",
       "      <td>10709368</td>\n",
       "      <td>45032</td>\n",
       "    </tr>\n",
       "    <tr>\n",
       "      <th>19</th>\n",
       "      <td>81321792</td>\n",
       "      <td>81366824</td>\n",
       "      <td>11206720</td>\n",
       "      <td>11251752</td>\n",
       "      <td>45032</td>\n",
       "    </tr>\n",
       "    <tr>\n",
       "      <th>20</th>\n",
       "      <td>81865140</td>\n",
       "      <td>81910172</td>\n",
       "      <td>11750068</td>\n",
       "      <td>11795100</td>\n",
       "      <td>45032</td>\n",
       "    </tr>\n",
       "    <tr>\n",
       "      <th>21</th>\n",
       "      <td>82452163</td>\n",
       "      <td>82497195</td>\n",
       "      <td>12337091</td>\n",
       "      <td>12382123</td>\n",
       "      <td>45032</td>\n",
       "    </tr>\n",
       "    <tr>\n",
       "      <th>22</th>\n",
       "      <td>82985199</td>\n",
       "      <td>83030231</td>\n",
       "      <td>12870127</td>\n",
       "      <td>12915159</td>\n",
       "      <td>45032</td>\n",
       "    </tr>\n",
       "    <tr>\n",
       "      <th>23</th>\n",
       "      <td>83489565</td>\n",
       "      <td>83534598</td>\n",
       "      <td>13374493</td>\n",
       "      <td>13419526</td>\n",
       "      <td>45033</td>\n",
       "    </tr>\n",
       "    <tr>\n",
       "      <th>24</th>\n",
       "      <td>84122915</td>\n",
       "      <td>84167947</td>\n",
       "      <td>14007843</td>\n",
       "      <td>14052875</td>\n",
       "      <td>45032</td>\n",
       "    </tr>\n",
       "    <tr>\n",
       "      <th>25</th>\n",
       "      <td>84633521</td>\n",
       "      <td>84678553</td>\n",
       "      <td>14518449</td>\n",
       "      <td>14563481</td>\n",
       "      <td>45032</td>\n",
       "    </tr>\n",
       "    <tr>\n",
       "      <th>26</th>\n",
       "      <td>85272394</td>\n",
       "      <td>85317426</td>\n",
       "      <td>15157322</td>\n",
       "      <td>15202354</td>\n",
       "      <td>45032</td>\n",
       "    </tr>\n",
       "    <tr>\n",
       "      <th>27</th>\n",
       "      <td>85884144</td>\n",
       "      <td>85929176</td>\n",
       "      <td>15769072</td>\n",
       "      <td>15814104</td>\n",
       "      <td>45032</td>\n",
       "    </tr>\n",
       "    <tr>\n",
       "      <th>28</th>\n",
       "      <td>86469170</td>\n",
       "      <td>86514202</td>\n",
       "      <td>16354098</td>\n",
       "      <td>16399130</td>\n",
       "      <td>45032</td>\n",
       "    </tr>\n",
       "    <tr>\n",
       "      <th>29</th>\n",
       "      <td>87007825</td>\n",
       "      <td>87052857</td>\n",
       "      <td>16892753</td>\n",
       "      <td>16937785</td>\n",
       "      <td>45032</td>\n",
       "    </tr>\n",
       "    <tr>\n",
       "      <th>30</th>\n",
       "      <td>87564514</td>\n",
       "      <td>87609546</td>\n",
       "      <td>17449442</td>\n",
       "      <td>17494474</td>\n",
       "      <td>45032</td>\n",
       "    </tr>\n",
       "    <tr>\n",
       "      <th>31</th>\n",
       "      <td>93244360</td>\n",
       "      <td>93289392</td>\n",
       "      <td>23129288</td>\n",
       "      <td>23174320</td>\n",
       "      <td>45032</td>\n",
       "    </tr>\n",
       "    <tr>\n",
       "      <th>32</th>\n",
       "      <td>96045253</td>\n",
       "      <td>96090285</td>\n",
       "      <td>25930181</td>\n",
       "      <td>25975213</td>\n",
       "      <td>45032</td>\n",
       "    </tr>\n",
       "    <tr>\n",
       "      <th>33</th>\n",
       "      <td>96190977</td>\n",
       "      <td>96236009</td>\n",
       "      <td>26075905</td>\n",
       "      <td>26120937</td>\n",
       "      <td>45032</td>\n",
       "    </tr>\n",
       "    <tr>\n",
       "      <th>34</th>\n",
       "      <td>96424337</td>\n",
       "      <td>96469369</td>\n",
       "      <td>26309265</td>\n",
       "      <td>26354297</td>\n",
       "      <td>45032</td>\n",
       "    </tr>\n",
       "    <tr>\n",
       "      <th>35</th>\n",
       "      <td>96783150</td>\n",
       "      <td>96828182</td>\n",
       "      <td>26668078</td>\n",
       "      <td>26713110</td>\n",
       "      <td>45032</td>\n",
       "    </tr>\n",
       "    <tr>\n",
       "      <th>36</th>\n",
       "      <td>96966053</td>\n",
       "      <td>97011085</td>\n",
       "      <td>26850981</td>\n",
       "      <td>26896013</td>\n",
       "      <td>45032</td>\n",
       "    </tr>\n",
       "    <tr>\n",
       "      <th>37</th>\n",
       "      <td>97132585</td>\n",
       "      <td>97177617</td>\n",
       "      <td>27017513</td>\n",
       "      <td>27062545</td>\n",
       "      <td>45032</td>\n",
       "    </tr>\n",
       "    <tr>\n",
       "      <th>38</th>\n",
       "      <td>97342101</td>\n",
       "      <td>97387133</td>\n",
       "      <td>27227029</td>\n",
       "      <td>27272061</td>\n",
       "      <td>45032</td>\n",
       "    </tr>\n",
       "    <tr>\n",
       "      <th>39</th>\n",
       "      <td>98280448</td>\n",
       "      <td>98325480</td>\n",
       "      <td>28165376</td>\n",
       "      <td>28210408</td>\n",
       "      <td>45032</td>\n",
       "    </tr>\n",
       "    <tr>\n",
       "      <th>40</th>\n",
       "      <td>98544349</td>\n",
       "      <td>98589381</td>\n",
       "      <td>28429277</td>\n",
       "      <td>28474309</td>\n",
       "      <td>45032</td>\n",
       "    </tr>\n",
       "    <tr>\n",
       "      <th>41</th>\n",
       "      <td>98739580</td>\n",
       "      <td>98784612</td>\n",
       "      <td>28624508</td>\n",
       "      <td>28669540</td>\n",
       "      <td>45032</td>\n",
       "    </tr>\n",
       "    <tr>\n",
       "      <th>42</th>\n",
       "      <td>98842267</td>\n",
       "      <td>98887299</td>\n",
       "      <td>28727195</td>\n",
       "      <td>28772227</td>\n",
       "      <td>45032</td>\n",
       "    </tr>\n",
       "    <tr>\n",
       "      <th>43</th>\n",
       "      <td>98946388</td>\n",
       "      <td>98991420</td>\n",
       "      <td>28831316</td>\n",
       "      <td>28876348</td>\n",
       "      <td>45032</td>\n",
       "    </tr>\n",
       "    <tr>\n",
       "      <th>44</th>\n",
       "      <td>99110133</td>\n",
       "      <td>99155165</td>\n",
       "      <td>28995061</td>\n",
       "      <td>29040093</td>\n",
       "      <td>45032</td>\n",
       "    </tr>\n",
       "    <tr>\n",
       "      <th>45</th>\n",
       "      <td>99209614</td>\n",
       "      <td>99254646</td>\n",
       "      <td>29094542</td>\n",
       "      <td>29139574</td>\n",
       "      <td>45032</td>\n",
       "    </tr>\n",
       "    <tr>\n",
       "      <th>46</th>\n",
       "      <td>99319347</td>\n",
       "      <td>99364379</td>\n",
       "      <td>29204275</td>\n",
       "      <td>29249307</td>\n",
       "      <td>45032</td>\n",
       "    </tr>\n",
       "    <tr>\n",
       "      <th>47</th>\n",
       "      <td>99453797</td>\n",
       "      <td>99498829</td>\n",
       "      <td>29338725</td>\n",
       "      <td>29383757</td>\n",
       "      <td>45032</td>\n",
       "    </tr>\n",
       "  </tbody>\n",
       "</table>\n",
       "</div>"
      ],
      "text/plain": [
       "        t_on     t_off    idx_on   idx_off    len\n",
       "0   70378023  70423055    262951    307983  45032\n",
       "1   71040698  71085730    925626    970658  45032\n",
       "2   71598073  71643105   1483001   1528033  45032\n",
       "3   72219099  72264131   2104027   2149059  45032\n",
       "4   72815121  72860153   2700049   2745081  45032\n",
       "5   73411277  73456309   3296205   3341237  45032\n",
       "6   73928394  73973426   3813322   3858354  45032\n",
       "7   74496925  74541957   4381853   4426885  45032\n",
       "8   75036196  75081228   4921124   4966156  45032\n",
       "9   75553278  75598310   5438206   5483238  45032\n",
       "10  76182439  76227471   6067367   6112399  45032\n",
       "11  76777261  76822293   6662189   6707221  45032\n",
       "12  77296752  77341784   7181680   7226712  45032\n",
       "13  77896266  77941298   7781194   7826226  45032\n",
       "14  78524241  78569273   8409169   8454201  45032\n",
       "15  79111982  79157014   8996910   9041942  45032\n",
       "16  79666136  79711168   9551064   9596096  45032\n",
       "17  80275615  80320647  10160543  10205575  45032\n",
       "18  80779408  80824440  10664336  10709368  45032\n",
       "19  81321792  81366824  11206720  11251752  45032\n",
       "20  81865140  81910172  11750068  11795100  45032\n",
       "21  82452163  82497195  12337091  12382123  45032\n",
       "22  82985199  83030231  12870127  12915159  45032\n",
       "23  83489565  83534598  13374493  13419526  45033\n",
       "24  84122915  84167947  14007843  14052875  45032\n",
       "25  84633521  84678553  14518449  14563481  45032\n",
       "26  85272394  85317426  15157322  15202354  45032\n",
       "27  85884144  85929176  15769072  15814104  45032\n",
       "28  86469170  86514202  16354098  16399130  45032\n",
       "29  87007825  87052857  16892753  16937785  45032\n",
       "30  87564514  87609546  17449442  17494474  45032\n",
       "31  93244360  93289392  23129288  23174320  45032\n",
       "32  96045253  96090285  25930181  25975213  45032\n",
       "33  96190977  96236009  26075905  26120937  45032\n",
       "34  96424337  96469369  26309265  26354297  45032\n",
       "35  96783150  96828182  26668078  26713110  45032\n",
       "36  96966053  97011085  26850981  26896013  45032\n",
       "37  97132585  97177617  27017513  27062545  45032\n",
       "38  97342101  97387133  27227029  27272061  45032\n",
       "39  98280448  98325480  28165376  28210408  45032\n",
       "40  98544349  98589381  28429277  28474309  45032\n",
       "41  98739580  98784612  28624508  28669540  45032\n",
       "42  98842267  98887299  28727195  28772227  45032\n",
       "43  98946388  98991420  28831316  28876348  45032\n",
       "44  99110133  99155165  28995061  29040093  45032\n",
       "45  99209614  99254646  29094542  29139574  45032\n",
       "46  99319347  99364379  29204275  29249307  45032\n",
       "47  99453797  99498829  29338725  29383757  45032"
      ]
     },
     "execution_count": 19,
     "metadata": {},
     "output_type": "execute_result"
    }
   ],
   "source": [
    "led_df"
   ]
  },
  {
   "cell_type": "code",
   "execution_count": 20,
   "metadata": {},
   "outputs": [],
   "source": [
    "led_df = led_df.drop([0])"
   ]
  },
  {
   "cell_type": "markdown",
   "metadata": {},
   "source": [
    "#### just get all neural channels for these boundaries"
   ]
  },
  {
   "cell_type": "code",
   "execution_count": 21,
   "metadata": {},
   "outputs": [
    {
     "data": {
      "text/plain": [
       "(40, 38672384)"
      ]
     },
     "execution_count": 21,
     "metadata": {},
     "output_type": "execute_result"
    }
   ],
   "source": [
    "data_arr.shape"
   ]
  },
  {
   "cell_type": "code",
   "execution_count": 22,
   "metadata": {},
   "outputs": [],
   "source": [
    "## collect all the epochs into the datafram\n",
    "pre_sec = -2\n",
    "post_sec = 2\n",
    "\n",
    "pre_samp = int(s_f * pre_sec)\n",
    "post_samp = int(s_f * post_sec)\n",
    "len_samp = int(np.median(np.diff(onoff_arr)))\n",
    "post_samp += len_samp\n",
    "\n",
    "led_df['streams'] = led_df['idx_on'].apply(lambda x: data_arr[:32, x + pre_samp: x + post_samp])\n",
    "\n",
    "\n"
   ]
  },
  {
   "cell_type": "code",
   "execution_count": 23,
   "metadata": {},
   "outputs": [
    {
     "data": {
      "text/plain": [
       "[<matplotlib.lines.Line2D at 0x7f9bf788b190>]"
      ]
     },
     "execution_count": 23,
     "metadata": {},
     "output_type": "execute_result"
    },
    {
     "data": {
      "image/png": "[encoded data removed]",
      "text/plain": [
       "<Figure size 432x288 with 1 Axes>"
      ]
     },
     "metadata": {
      "needs_background": "light"
     },
     "output_type": "display_data"
    }
   ],
   "source": [
    "plt.plot((led_df.loc[2, 'streams']).sum(axis=0))"
   ]
  },
  {
   "cell_type": "code",
   "execution_count": 24,
   "metadata": {},
   "outputs": [
    {
     "data": {
      "text/plain": [
       "(47, 32, 165032)"
      ]
     },
     "execution_count": 24,
     "metadata": {},
     "output_type": "execute_result"
    }
   ],
   "source": [
    "np.stack(led_df['streams'], axis=0).shape"
   ]
  },
  {
   "cell_type": "code",
   "execution_count": 25,
   "metadata": {},
   "outputs": [],
   "source": [
    "# all averages\n",
    "all_stream_arr = np.stack(led_df['streams'], axis=0)"
   ]
  },
  {
   "cell_type": "code",
   "execution_count": 26,
   "metadata": {},
   "outputs": [
    {
     "data": {
      "text/plain": [
       "[<matplotlib.lines.Line2D at 0x7f9bf77fb400>]"
      ]
     },
     "execution_count": 26,
     "metadata": {},
     "output_type": "execute_result"
    },
    {
     "data": {
      "image/png": "[encoded data removed]",
      "text/plain": [
       "<Figure size 432x288 with 1 Axes>"
      ]
     },
     "metadata": {
      "needs_background": "light"
     },
     "output_type": "display_data"
    }
   ],
   "source": [
    "plt.plot((all_stream_arr).sum(axis=(0, 1)))"
   ]
  },
  {
   "cell_type": "markdown",
   "metadata": {},
   "source": [
    "### apply a filter, see some channels, etcetera"
   ]
  },
  {
   "cell_type": "code",
   "execution_count": 27,
   "metadata": {},
   "outputs": [
    {
     "data": {
      "text/plain": [
       "[<matplotlib.lines.Line2D at 0x7f9bf7766700>]"
      ]
     },
     "execution_count": 27,
     "metadata": {},
     "output_type": "execute_result"
    },
    {
     "data": {
      "image/png": "[encoded data removed]",
      "text/plain": [
       "<Figure size 432x288 with 1 Axes>"
      ]
     },
     "metadata": {
      "needs_background": "light"
     },
     "output_type": "display_data"
    }
   ],
   "source": [
    "plt.plot(all_stream_arr[0, 5,:])"
   ]
  },
  {
   "cell_type": "code",
   "execution_count": 28,
   "metadata": {},
   "outputs": [
    {
     "data": {
      "text/plain": [
       "(47, 32, 165032)"
      ]
     },
     "execution_count": 28,
     "metadata": {},
     "output_type": "execute_result"
    }
   ],
   "source": [
    "all_stream_arr.shape"
   ]
  },
  {
   "cell_type": "code",
   "execution_count": 29,
   "metadata": {},
   "outputs": [],
   "source": [
    "filt_pars = sp.make_butter_bandpass(s_f, 300, 12500)\n",
    "all_stream_arr_filt = sp.apply_butter_bandpass(all_stream_arr, filt_pars, axis=-1)"
   ]
  },
  {
   "cell_type": "code",
   "execution_count": 30,
   "metadata": {},
   "outputs": [
    {
     "data": {
      "text/plain": [
       "[<matplotlib.lines.Line2D at 0x7f9bf777ddc0>]"
      ]
     },
     "execution_count": 30,
     "metadata": {},
     "output_type": "execute_result"
    },
    {
     "data": {
      "image/png": "[encoded data removed]",
      "text/plain": [
       "<Figure size 432x288 with 1 Axes>"
      ]
     },
     "metadata": {
      "needs_background": "light"
     },
     "output_type": "display_data"
    }
   ],
   "source": [
    "plt.plot(all_stream_arr_filt[0, 0,:])"
   ]
  },
  {
   "cell_type": "code",
   "execution_count": 31,
   "metadata": {},
   "outputs": [
    {
     "data": {
      "text/plain": [
       "(32, 165032)"
      ]
     },
     "execution_count": 31,
     "metadata": {},
     "output_type": "execute_result"
    }
   ],
   "source": [
    "(all_stream_arr_filt).sum(axis=(0)).shape"
   ]
  },
  {
   "cell_type": "code",
   "execution_count": 32,
   "metadata": {},
   "outputs": [
    {
     "data": {
      "text/plain": [
       "[<matplotlib.lines.Line2D at 0x7f9bf76b9670>]"
      ]
     },
     "execution_count": 32,
     "metadata": {},
     "output_type": "execute_result"
    },
    {
     "data": {
      "image/png": "[encoded data removed]",
      "text/plain": [
       "<Figure size 432x288 with 1 Axes>"
      ]
     },
     "metadata": {
      "needs_background": "light"
     },
     "output_type": "display_data"
    }
   ],
   "source": [
    "plt.plot((all_stream_arr_filt).sum(axis=(0))[6])"
   ]
  },
  {
   "cell_type": "code",
   "execution_count": 33,
   "metadata": {},
   "outputs": [
    {
     "data": {
      "text/plain": [
       "[<matplotlib.lines.Line2D at 0x7f9bf7621670>]"
      ]
     },
     "execution_count": 33,
     "metadata": {},
     "output_type": "execute_result"
    },
    {
     "data": {
      "image/png": "[encoded data removed]",
      "text/plain": [
       "<Figure size 432x288 with 1 Axes>"
      ]
     },
     "metadata": {
      "needs_background": "light"
     },
     "output_type": "display_data"
    }
   ],
   "source": [
    "plt.plot((all_stream_arr_filt).sum(axis=(0, 1)))"
   ]
  },
  {
   "cell_type": "code",
   "execution_count": 34,
   "metadata": {},
   "outputs": [
    {
     "ename": "KeyboardInterrupt",
     "evalue": "",
     "output_type": "error",
     "traceback": [
      "\u001b[0;31m---------------------------------------------------------------------------\u001b[0m",
      "\u001b[0;31mKeyboardInterrupt\u001b[0m                         Traceback (most recent call last)",
      "Input \u001b[0;32mIn [34]\u001b[0m, in \u001b[0;36m<cell line: 1>\u001b[0;34m()\u001b[0m\n\u001b[0;32m----> 1\u001b[0m \u001b[38;5;28;01mraise\u001b[39;00m \u001b[38;5;167;01mKeyboardInterrupt\u001b[39;00m\n",
      "\u001b[0;31mKeyboardInterrupt\u001b[0m: "
     ]
    }
   ],
   "source": [
    "raise KeyboardInterrupt"
   ]
  },
  {
   "cell_type": "markdown",
   "metadata": {},
   "source": [
    "# quick and dirty, do my thing and se the binary recording"
   ]
  },
  {
   "cell_type": "code",
   "execution_count": null,
   "metadata": {},
   "outputs": [],
   "source": [
    "class oeRecordingExtractor(se.BinDatRecordingExtractor):\n",
    "    extractor_name = 'oeContinuousRecordingExtractor'\n",
    "    has_default_locations = True\n",
    "    installed = True  # check at class level if installed or not\n",
    "    is_writable = False\n",
    "    mode = 'file'\n",
    "    # error message when not installed\n",
    "    installation_mesg = \"To use the SpikeGLXRecordingExtractor run:\\n\\n pip install mtscomp\\n\\n\"\n",
    "\n",
    "    _ttl_events = None  # The ttl events\n",
    "    _t_0 = None # time computed naively (n/s_f_0)\n",
    "    _t_prime = None # time synchronized to a pattern ('master') reference\n",
    "    _s_f_0 = None # measured samplin rate (using the syn signal)\n",
    "    _syn_chan_id = None # digital channel for signal id (for nidaq; automatic last channel in lf/ap streams)\n",
    "    _dig = None # the digital signal\n",
    "    _start_sample = None # start sample from the beginning of the run\n",
    "    _start_t = None # start t (absolute in the machine)\n",
    "    \n",
    "    _meta_dict = None # dictionary with metadata of the recording\n",
    "    _chan_pd = None # pandas dataframe with channel ids\n",
    "    \n",
    "    def __init__(self, rec_path: str, processor, dtype: str = 'int16', syn_chan_id=0):\n",
    "        # dtype should come from the meta but for now its ok\n",
    "        # rec_path is the path to the recording\n",
    "        self._meta_dict = get_rec_meta(rec_path)\n",
    "        self._chan_pd = build_chan_info_pd(self._meta_dict)\n",
    "        self._s_f_0 = get_oe_sample_rate(self._meta_dict)\n",
    "        \n",
    "        cont_path = os.path.join(rec_path, 'continuous', processor, 'continuous.dat')\n",
    "        \n",
    "        n_chan = self._chan_pd['recorded'].sum()\n",
    "        se.BinDatRecordingExtractor.__init__(self, cont_path, self._s_f_0, n_chan, np.int16)\n",
    "        \n",
    "        self._chan_names = np.array(self._chan_pd .loc[self._chan_pd ['recorded']==True, 'name'])"
   ]
  },
  {
   "cell_type": "code",
   "execution_count": null,
   "metadata": {},
   "outputs": [],
   "source": [
    "oe_recording = oeRecordingExtractor(rec_path, 'Acquisition_Board-100.Rhythm Data')"
   ]
  },
  {
   "cell_type": "code",
   "execution_count": null,
   "metadata": {},
   "outputs": [],
   "source": [
    "list_processors(rec_path)"
   ]
  },
  {
   "cell_type": "markdown",
   "metadata": {},
   "source": [
    "#### define pre-processing steps for each epoch and for the session"
   ]
  },
  {
   "cell_type": "code",
   "execution_count": null,
   "metadata": {},
   "outputs": [],
   "source": [
    "def chan_to_wav(single_bin_path, chan_name, oe_meta_dict, wav_path):\n",
    "    # get the file n of channels\n",
    "    chan_info_pd = build_chan_info_pd(oe_meta_dict)\n",
    "    n_channels = chan_info_pd['recorded'].sum()\n",
    "    logger.info(n_channels)\n",
    "    chan_pos = find_chan_order(chan_info_pd, chan_name)\n",
    "    logger.info(chan_pos)\n",
    "    # read the file\n",
    "    bin_fp = np.memmap(single_bin_path, dtype='<i2', mode='r').reshape(-1, n_channels)\n",
    "    \n",
    "    #save as wav\n",
    "    sample_rate = int(get_oe_sample_rate(oe_meta_dict))\n",
    "    logger.info('writing wave file {}'.format(wav_path))\n",
    "    wavfile.write(wav_path, sample_rate, bin_fp.T[chan_pos])"
   ]
  },
  {
   "cell_type": "code",
   "execution_count": null,
   "metadata": {},
   "outputs": [],
   "source": [
    "def preprocess_run(sess_par: dict, exp_struct: dict, epoch:str, do_sync_to_stream=None) -> dict:\n",
    "    # get the recording files\n",
    "    # dump the microphone file into a wav file\n",
    "    # that's it for now\n",
    "    \n",
    "    logger.info('PREPROCESSING sess {} | epoch {}'.format(sess_par['sess'], epoch))\n",
    "    \n",
    "    epoch_path = os.path.join(raw_folder, epoch)\n",
    "    node_path = get_default_node(exp_struct, epoch)\n",
    "    rec_path = get_default_recording(node_path)\n",
    "    cont_path = os.path.join(get_default_continuous(rec_path), 'continuous.dat')\n",
    "    \n",
    "    rec_meta = get_rec_meta(rec_path)\n",
    "    logger.info('getting the recording file ' + cont_path)\n",
    "    \n",
    "    # get the rig parameters\n",
    "    # get the mic channel name in the channels recorded\n",
    "    # make the folder for the derived data\n",
    "    # toss the wav file in there\n",
    "    \n",
    "    rig_par = et.get_rig_par(exp_struct)\n",
    "    \n",
    "    mic_ch_name = rig_par['chan']['adc']['microphone_0']\n",
    "    \n",
    "    derived_path = os.path.join(exp_struct['folders']['derived'], epoch)\n",
    "    fu.makedirs(derived_path)\n",
    "    wav_path = os.path.join(derived_path, 'wav_mic.wav')\n",
    "    logger.info('get microphone from ch {}'.format(wav_path))\n",
    "    chan_to_wav(cont_path, mic_ch_name, rec_meta, wav_path)\n",
    "    \n",
    "    return rec_meta"
   ]
  },
  {
   "cell_type": "code",
   "execution_count": null,
   "metadata": {
    "tags": []
   },
   "outputs": [],
   "source": [
    "reload(pre)\n",
    "one_epoch_dict = preprocess_run(sess_par, exp_struct, sess_epochs[0])"
   ]
  },
  {
   "cell_type": "code",
   "execution_count": null,
   "metadata": {
    "jupyter": {
     "outputs_hidden": true
    },
    "tags": []
   },
   "outputs": [],
   "source": [
    "### sequentially process all runs of the sessions\n",
    "# def preprocess_session(sess_par: dict):\n",
    "#     logger.info('pre-process all runs of sess ' + sess_par['sess'])\n",
    "#     # get exp struct\n",
    "#     sess_struct = et.get_exp_struct(sess_par['bird'], sess_par['sess'], sort=sess_par['sort'])\n",
    "#     # list the epochs\n",
    "#     sess_epochs = et.list_sgl_epochs(sess_par)\n",
    "#     logger.info('found epochs: {}'.format(sess_epochs))\n",
    "#     # preprocess all epochs\n",
    "#     epoch_dict_list = []\n",
    "#     for i_ep, epoch in enumerate(sess_epochs):\n",
    "#         try:\n",
    "#             exp_struct = et.sgl_struct(sess_par, epoch)\n",
    "#             one_epoch_dict = pre.preprocess_run(sess_par, exp_struct, epoch)\n",
    "#             epoch_dict_list.append(one_epoch_dict)\n",
    "#         except Exception as exc:\n",
    "#             warnings.warn('Error in epoch {}'.format(epoch), UserWarning)\n",
    "#             logger.info(traceback.format_exc)\n",
    "#             logger.info(exc)\n",
    "#             logger.info('Session {} epoch {} could not be preprocessed'.format(sess_par['sess'], epoch))\n",
    "        \n",
    "#     return epoch_dict_list\n",
    "\n",
    "# all_epoch_list = preprocess_session(sess_par)"
   ]
  },
  {
   "cell_type": "markdown",
   "metadata": {},
   "source": [
    "## Process multiple sessions"
   ]
  },
  {
   "cell_type": "code",
   "execution_count": null,
   "metadata": {
    "tags": []
   },
   "outputs": [],
   "source": [
    "# sess_list = all_bird_sess\n",
    "# # fist implant, right hemisphere\n",
    "# #sess_list = ['2021-06-24', '2021-06-25', '2021-06-26', '2021-06-27', '2021-06-28', '2021-06-29', '2021-06-30']\n",
    "# sess_list = ['2022-04-16', '2022-04-17', '2022-04-18', '2022-04-24', \n",
    "#             '2022-04-28', '2022-04-29'] #pressure with HSCDLNN001PDAA3 sensor"
   ]
  },
  {
   "cell_type": "code",
   "execution_count": null,
   "metadata": {
    "scrolled": true,
    "tags": []
   },
   "outputs": [],
   "source": [
    "# all_sess_dict = {}\n",
    "\n",
    "# for one_sess in sess_list[-1:]:\n",
    "#     sess_par['sess'] = one_sess\n",
    "#     preprocess_session(sess_par)"
   ]
  },
  {
   "cell_type": "markdown",
   "metadata": {},
   "source": [
    "## search bouts for those sessions"
   ]
  },
  {
   "cell_type": "code",
   "execution_count": null,
   "metadata": {},
   "outputs": [],
   "source": [
    "hparams = { # default parameters work well for starling\n",
    "    # spectrogram\n",
    "    'num_freq':1024, #1024# how many channels to use in a spectrogram #\n",
    "    'preemphasis':0.97, \n",
    "    'frame_shift_ms':5, # step size for fft\n",
    "    'frame_length_ms':10, #128 # frame length for fft FRAME SAMPLES < NUM_FREQ!!!\n",
    "    'min_level_db':-55, # minimum threshold db for computing spe \n",
    "    'ref_level_db':110, # reference db for computing spec\n",
    "    'sample_rate':None, # sample rate of your data\n",
    "    \n",
    "    # spectrograms\n",
    "    'mel_filter': False, # should a mel filter be used?\n",
    "    'num_mels':1024, # how many channels to use in the mel-spectrogram\n",
    "    'fmin': 500, # low frequency cutoff for mel filter\n",
    "    'fmax': 12000, # high frequency cutoff for mel filter\n",
    "    \n",
    "    # spectrogram inversion\n",
    "    'max_iters':200,\n",
    "    'griffin_lim_iters':20,\n",
    "    'power':1.5,\n",
    "\n",
    "    # Added for the searching\n",
    "    'read_wav_fun': bs.read_wav_chan, # function for loading the wav_like_stream (has to returns fs, ndarray)\n",
    "    'file_order_fun': bs.sess_file_id, # function for extracting the file id within the session\n",
    "    'min_segment': 30, # Minimum length of supra_threshold to consider a 'syllable' (ms)\n",
    "    'min_silence': 3000, # Minmum distance between groups of syllables to consider separate bouts (ms)\n",
    "    'min_bout': 3000, # min bout duration (ms)\n",
    "    'peak_thresh_rms': 0.55, # threshold (rms) for peak acceptance,\n",
    "    'thresh_rms': 0.25, # threshold for detection of syllables\n",
    "    'mean_syl_rms_thresh': 0.3, #threshold for acceptance of mean rms across the syllable (relative to rms of the file)\n",
    "    'max_bout': 180000, #exclude bouts too long\n",
    "    'l_p_r_thresh': 100, # threshold for n of len_ms/peaks (typycally about 2-3 syllable spans\n",
    "    \n",
    "    'waveform_edges': 1000, #get number of ms before and after the edges of the bout for the waveform sample\n",
    "    \n",
    "    'bout_auto_file': 'bout_auto.pickle', # extension for saving the auto found files\n",
    "    'bout_curated_file': 'bout_checked.pickle', #extension for manually curated files (coming soon)\n",
    "    }"
   ]
  },
  {
   "cell_type": "code",
   "execution_count": null,
   "metadata": {},
   "outputs": [],
   "source": [
    "sess_list = ['2022-08-17', #first implant, RH, pressure + RA\n",
    "            '2022-07-16', #second implant, LH, pressure + RA, but pressure in the first epoch had a HF noise\n",
    "            ]"
   ]
  },
  {
   "cell_type": "code",
   "execution_count": null,
   "metadata": {},
   "outputs": [],
   "source": [
    "#pick sessions to do the bout searching\n",
    "bout_sessions = sess_list[:1]\n",
    "bout_sessions"
   ]
  },
  {
   "cell_type": "code",
   "execution_count": null,
   "metadata": {},
   "outputs": [],
   "source": [
    "reload(sb)"
   ]
  },
  {
   "cell_type": "code",
   "execution_count": null,
   "metadata": {
    "scrolled": true,
    "tags": []
   },
   "outputs": [],
   "source": [
    "#all_sessions = sess_list[-1:]\n",
    "#all_sessions = ['2021-06-15']\n",
    "\n",
    "for sess in bout_sessions:\n",
    "    sess_par['sess'] = sess\n",
    "    sess_bout_pd = sb.get_all_day_bouts(sess_par, hparams, n_jobs=4, ephys_software='oe', save=True)\n",
    "    #sb.save_auto_bouts(sess_bout_pd, sess_par, hparams, software='oe')\n",
    "    #sess_bouts_folder = os.path.join(exp_struct['folders']['derived'], 'bouts')\n",
    "    #bouts_to_wavs(sess_bout_pd, sess_par, hparams, sess_bouts_folder)"
   ]
  },
  {
   "cell_type": "code",
   "execution_count": null,
   "metadata": {},
   "outputs": [],
   "source": [
    "sb.save_auto_bouts(sess_bout_pd, sess_par, hparams, software='oe')"
   ]
  },
  {
   "cell_type": "code",
   "execution_count": null,
   "metadata": {},
   "outputs": [],
   "source": [
    "sess_bout_pd.info()"
   ]
  },
  {
   "cell_type": "code",
   "execution_count": null,
   "metadata": {},
   "outputs": [],
   "source": [
    "np.unique(sess_bout_pd['start_ms']).size"
   ]
  },
  {
   "cell_type": "markdown",
   "metadata": {},
   "source": [
    "# debug"
   ]
  },
  {
   "cell_type": "markdown",
   "metadata": {},
   "source": [
    "## debug search_bout"
   ]
  },
  {
   "cell_type": "code",
   "execution_count": null,
   "metadata": {},
   "outputs": [],
   "source": [
    "## look for a single file\n",
    "sess = sess_list[0]\n",
    "\n",
    "exp_struct = et.get_exp_struct(sess_par['bird'], sess, ephys_software='sglx')\n",
    "source_folder = exp_struct['folders']['derived']\n",
    "wav_path_list = et.get_sgl_files_epochs(source_folder, file_filter='*wav_mic.wav')\n",
    "wav_path_list.sort()\n",
    "logger.info('Found {} files'.format(len(wav_path_list)))\n",
    "print(wav_path_list)"
   ]
  },
  {
   "cell_type": "code",
   "execution_count": null,
   "metadata": {},
   "outputs": [],
   "source": [
    "one_file = wav_path_list[0]"
   ]
  },
  {
   "cell_type": "code",
   "execution_count": null,
   "metadata": {},
   "outputs": [],
   "source": [
    "reload(bs)\n",
    "epoch_bout_pd, epoch_wav = bs.get_bouts_in_long_file(wav_path_list[0], hparams)"
   ]
  },
  {
   "cell_type": "code",
   "execution_count": null,
   "metadata": {},
   "outputs": [],
   "source": []
  }
 ],
 "metadata": {
  "kernelspec": {
   "display_name": "tuputapipe",
   "language": "python",
   "name": "ceciestunepipe"
  },
  "language_info": {
   "codemirror_mode": {
    "name": "ipython",
    "version": 3
   },
   "file_extension": ".py",
   "mimetype": "text/x-python",
   "name": "python",
   "nbconvert_exporter": "python",
   "pygments_lexer": "ipython3",
   "version": "3.8.11"
  }
 },
 "nbformat": 4,
 "nbformat_minor": 4
}
