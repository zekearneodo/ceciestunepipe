{
 "cells": [
  {
   "cell_type": "markdown",
   "id": "36640c24-f5ff-4656-a01c-364658bb84ac",
   "metadata": {},
   "source": [
    "# Make a summary of the bouts of a bird (alsa for now), curated and non-curated\n",
    "- Make a df of all the files, days, (auto, curated)\n",
    "- Load all the files (exclude the raw, spectrogram)\n",
    "- Get the timestamps for each\n",
    "- Plot spectrograms by day, and within day"
   ]
  },
  {
   "cell_type": "code",
   "execution_count": 1,
   "id": "c423c3b9-6d0b-4d89-90ed-231d28d101f5",
   "metadata": {},
   "outputs": [
    {
     "name": "stderr",
     "output_type": "stream",
     "text": [
      "2022-12-28 10:46:54,266 root         INFO     Running on pakhi.ucsd.edu\n"
     ]
    }
   ],
   "source": [
    "import os\n",
    "import glob\n",
    "import socket\n",
    "import logging\n",
    "import pickle\n",
    "import numpy as np\n",
    "import pandas as pd\n",
    "\n",
    "from importlib import reload\n",
    "\n",
    "logger = logging.getLogger()\n",
    "handler = logging.StreamHandler()\n",
    "formatter = logging.Formatter(\n",
    "        '%(asctime)s %(name)-12s %(levelname)-8s %(message)s')\n",
    "handler.setFormatter(formatter)\n",
    "logger.addHandler(handler)\n",
    "logger.setLevel(logging.INFO)\n",
    "\n",
    "logger.info('Running on {}'.format(socket.gethostname()))"
   ]
  },
  {
   "cell_type": "code",
   "execution_count": 2,
   "id": "91cf948e-a0eb-43ae-bb87-abb1b7971bfb",
   "metadata": {},
   "outputs": [],
   "source": [
    "from ceciestunepipe.file import bcistructure as et\n",
    "from ceciestunepipe.util.sound import boutsearch as bs\n",
    "from ceciestunepipe.pipeline import searchbout as sb"
   ]
  },
  {
   "cell_type": "code",
   "execution_count": 209,
   "id": "04be9f91-6843-41ad-8079-d518e22c02bc",
   "metadata": {},
   "outputs": [],
   "source": [
    "reload(et)\n",
    "sess_par = {'bird': 's_b1321_22',\n",
    "           'acq_software': 'alsa',\n",
    "           'derived_folder': 'bouts_ceciestunepipe',\n",
    "           'auto_file': 'bout_auto_file',\n",
    "           'curated_file': 'bout_curated_file',\n",
    "           'super_session': 'all-sess-01'}\n",
    "\n"
   ]
  },
  {
   "cell_type": "code",
   "execution_count": 23,
   "id": "422257f2-fd6c-4d6f-9a3e-0241b56cd0ec",
   "metadata": {},
   "outputs": [
    {
     "data": {
      "text/plain": [
       "array(['2022-10-10', '2022-10-11'], dtype='<U10')"
      ]
     },
     "execution_count": 23,
     "metadata": {},
     "output_type": "execute_result"
    }
   ],
   "source": [
    "def list_sessions(sess_par: dict) -> np.array:\n",
    "    sess_arr = np.array(et.list_sessions(sess_par['bird'], section='raw', \n",
    "                                     ephys_software=sess_par['acq_software']))\n",
    "    sess_arr.sort()\n",
    "    return sess_arr\n",
    "\n",
    "sess_arr = list_sessions(sess_par)\n",
    "sess_arr[:2]"
   ]
  },
  {
   "cell_type": "code",
   "execution_count": 31,
   "id": "2cfd82a6-a703-4941-86bc-9b6748a0a3aa",
   "metadata": {},
   "outputs": [
    {
     "name": "stderr",
     "output_type": "stream",
     "text": [
      "2022-12-28 11:15:58,611 ceciestunepipe.pipeline.searchbout INFO     Search/bouts file not found in /mnt/sphere/speech_bci/derived_data/s_b1321_22/2022-12-28/alsa/bouts_ceciestunepipe\n",
      "2022-12-28 11:15:58,636 ceciestunepipe.pipeline.searchbout INFO     Search/bouts file not found in /mnt/sphere/speech_bci/derived_data/s_b1321_22/2022-12-28/alsa/bouts_ceciestunepipe\n"
     ]
    },
    {
     "data": {
      "text/html": [
       "<div>\n",
       "<style scoped>\n",
       "    .dataframe tbody tr th:only-of-type {\n",
       "        vertical-align: middle;\n",
       "    }\n",
       "\n",
       "    .dataframe tbody tr th {\n",
       "        vertical-align: top;\n",
       "    }\n",
       "\n",
       "    .dataframe thead th {\n",
       "        text-align: right;\n",
       "    }\n",
       "</style>\n",
       "<table border=\"1\" class=\"dataframe\">\n",
       "  <thead>\n",
       "    <tr style=\"text-align: right;\">\n",
       "      <th></th>\n",
       "      <th>sess</th>\n",
       "      <th>acq_soft</th>\n",
       "      <th>has_auto_bouts</th>\n",
       "      <th>has_curated_bouts</th>\n",
       "    </tr>\n",
       "  </thead>\n",
       "  <tbody>\n",
       "    <tr>\n",
       "      <th>0</th>\n",
       "      <td>2022-10-10</td>\n",
       "      <td>alsa</td>\n",
       "      <td>True</td>\n",
       "      <td>True</td>\n",
       "    </tr>\n",
       "    <tr>\n",
       "      <th>1</th>\n",
       "      <td>2022-10-11</td>\n",
       "      <td>alsa</td>\n",
       "      <td>True</td>\n",
       "      <td>True</td>\n",
       "    </tr>\n",
       "    <tr>\n",
       "      <th>2</th>\n",
       "      <td>2022-10-12</td>\n",
       "      <td>alsa</td>\n",
       "      <td>True</td>\n",
       "      <td>True</td>\n",
       "    </tr>\n",
       "    <tr>\n",
       "      <th>3</th>\n",
       "      <td>2022-10-13</td>\n",
       "      <td>alsa</td>\n",
       "      <td>True</td>\n",
       "      <td>True</td>\n",
       "    </tr>\n",
       "    <tr>\n",
       "      <th>4</th>\n",
       "      <td>2022-10-14</td>\n",
       "      <td>alsa</td>\n",
       "      <td>True</td>\n",
       "      <td>True</td>\n",
       "    </tr>\n",
       "  </tbody>\n",
       "</table>\n",
       "</div>"
      ],
      "text/plain": [
       "         sess acq_soft  has_auto_bouts  has_curated_bouts\n",
       "0  2022-10-10     alsa            True               True\n",
       "1  2022-10-11     alsa            True               True\n",
       "2  2022-10-12     alsa            True               True\n",
       "3  2022-10-13     alsa            True               True\n",
       "4  2022-10-14     alsa            True               True"
      ]
     },
     "execution_count": 31,
     "metadata": {},
     "output_type": "execute_result"
    }
   ],
   "source": [
    "def get_bird_sess_pd(sess_par: dict) -> pd.DataFrame:\n",
    "    # go through all sessions with raw data and check which one has auto bouts, curated bouts.\n",
    "    # get the sess_arr of raw, which ever raw is\n",
    "    sess_arr = list_sessions(sess_par)\n",
    "    sess_pd = pd.DataFrame({'sess': sess_arr})\n",
    "    sess_pd['acq_soft'] = sess_par['acq_software']\n",
    "    \n",
    "    # see which has auto bouts\n",
    "    sess_pd['has_auto_bouts'] = sess_pd['sess'].apply(lambda x: sb.has_bouts_file(sess_par['bird'], x, sess_par['acq_software'],\n",
    "                                                                                  derived_folder=sess_par['derived_folder'],\n",
    "                                                                                  bout_type=sess_par['auto_file'])\n",
    "                                                     )\n",
    "    \n",
    "    if 'curated_file' in sess_par.keys():\n",
    "        sess_pd['has_curated_bouts'] = sess_pd['sess'].apply(lambda x: sb.has_bouts_file(sess_par['bird'], x, sess_par['acq_software'],\n",
    "                                                                                  derived_folder=sess_par['derived_folder'],\n",
    "                                                                                  bout_type=sess_par['curated_file'])\n",
    "                                                     )\n",
    "    else:\n",
    "        sess_pd['has_curated_bouts'] = None\n",
    "\n",
    "    return sess_pd\n",
    "\n",
    "spd = get_bird_sess_pd(sess_par)\n",
    "spd.head()"
   ]
  },
  {
   "cell_type": "code",
   "execution_count": 32,
   "id": "58003648-c0d1-492f-9ce0-7f207c8dc845",
   "metadata": {},
   "outputs": [
    {
     "data": {
      "text/plain": [
       "77"
      ]
     },
     "execution_count": 32,
     "metadata": {},
     "output_type": "execute_result"
    }
   ],
   "source": [
    "np.sum(spd['has_auto_bouts']==True)"
   ]
  },
  {
   "cell_type": "code",
   "execution_count": 45,
   "id": "eef3edb4-871a-4216-90d1-78570b785c0e",
   "metadata": {},
   "outputs": [
    {
     "data": {
      "text/plain": [
       "<module 'ceciestunepipe.util.sound.boutsearch' from '/mnt/cube/earneodo/repos/ceciestunepipe/ceciestunepipe/util/sound/boutsearch.py'>"
      ]
     },
     "execution_count": 45,
     "metadata": {},
     "output_type": "execute_result"
    }
   ],
   "source": [
    "reload(bs)"
   ]
  },
  {
   "cell_type": "code",
   "execution_count": 112,
   "id": "4f8b87d2-34e5-4952-99d6-d7857a75acd0",
   "metadata": {},
   "outputs": [
    {
     "data": {
      "text/html": [
       "<div>\n",
       "<style scoped>\n",
       "    .dataframe tbody tr th:only-of-type {\n",
       "        vertical-align: middle;\n",
       "    }\n",
       "\n",
       "    .dataframe tbody tr th {\n",
       "        vertical-align: top;\n",
       "    }\n",
       "\n",
       "    .dataframe thead th {\n",
       "        text-align: right;\n",
       "    }\n",
       "</style>\n",
       "<table border=\"1\" class=\"dataframe\">\n",
       "  <thead>\n",
       "    <tr style=\"text-align: right;\">\n",
       "      <th></th>\n",
       "      <th>start_ms</th>\n",
       "      <th>end_ms</th>\n",
       "      <th>start_sample</th>\n",
       "      <th>end_sample</th>\n",
       "      <th>p_step</th>\n",
       "      <th>rms_p</th>\n",
       "      <th>peak_p</th>\n",
       "      <th>bout_check</th>\n",
       "      <th>file</th>\n",
       "      <th>len_ms</th>\n",
       "      <th>syl_in</th>\n",
       "      <th>n_syl</th>\n",
       "      <th>peaks_p</th>\n",
       "      <th>n_peaks</th>\n",
       "      <th>l_p_ratio</th>\n",
       "      <th>valid_waveform</th>\n",
       "      <th>valid</th>\n",
       "      <th>sess</th>\n",
       "    </tr>\n",
       "  </thead>\n",
       "  <tbody>\n",
       "    <tr>\n",
       "      <th>0</th>\n",
       "      <td>1167630</td>\n",
       "      <td>1176065</td>\n",
       "      <td>56046240</td>\n",
       "      <td>56451120</td>\n",
       "      <td>[1.167264651184038, 1.17760917174465, 4.185401...</td>\n",
       "      <td>0.652903</td>\n",
       "      <td>81.330653</td>\n",
       "      <td>True</td>\n",
       "      <td>/mnt/sphere/speech_bci/raw_data/s_b1321_22/202...</td>\n",
       "      <td>8435</td>\n",
       "      <td>[[1167630, 1167685], [1167700, 1167735], [1167...</td>\n",
       "      <td>11</td>\n",
       "      <td>[4, 18, 30, 37, 48, 56, 65, 73, 81, 103, 114, ...</td>\n",
       "      <td>26</td>\n",
       "      <td>324.423077</td>\n",
       "      <td>True</td>\n",
       "      <td>True</td>\n",
       "      <td>2022-10-10</td>\n",
       "    </tr>\n",
       "  </tbody>\n",
       "</table>\n",
       "</div>"
      ],
      "text/plain": [
       "   start_ms   end_ms  start_sample  end_sample  \\\n",
       "0   1167630  1176065      56046240    56451120   \n",
       "\n",
       "                                              p_step     rms_p     peak_p  \\\n",
       "0  [1.167264651184038, 1.17760917174465, 4.185401...  0.652903  81.330653   \n",
       "\n",
       "   bout_check                                               file  len_ms  \\\n",
       "0        True  /mnt/sphere/speech_bci/raw_data/s_b1321_22/202...    8435   \n",
       "\n",
       "                                              syl_in  n_syl  \\\n",
       "0  [[1167630, 1167685], [1167700, 1167735], [1167...     11   \n",
       "\n",
       "                                             peaks_p  n_peaks   l_p_ratio  \\\n",
       "0  [4, 18, 30, 37, 48, 56, 65, 73, 81, 103, 114, ...       26  324.423077   \n",
       "\n",
       "   valid_waveform  valid        sess  \n",
       "0            True   True  2022-10-10  "
      ]
     },
     "execution_count": 112,
     "metadata": {},
     "output_type": "execute_result"
    }
   ],
   "source": [
    "def load_bouts_ds(s_ds: pd.Series, sess_par: dict, \n",
    "                  file_key: str='auto_file', exclude_cols=[]) -> pd.DataFrame:\n",
    "    # Load the bouts for a data series, exclude the cols, if any and return the loaded bout\n",
    "    hparams, b_pd = sb.load_bouts(sess_par['bird'], s_ds['sess'], sess_par['acq_software'],\n",
    "                                  derived_folder = sess_par['derived_folder'],\n",
    "                                  bout_file_key = sess_par[file_key])\n",
    "    b_pd['sess'] = s_ds['sess']\n",
    "    \n",
    "    return b_pd.drop(columns=exclude_cols)\n",
    "\n",
    "one_sess_bpd = load_bouts_ds(spd.iloc[0], sess_par, exclude_cols=['waveform', 'spectrogram'])\n",
    "one_sess_bpd.head(1)"
   ]
  },
  {
   "cell_type": "code",
   "execution_count": 51,
   "id": "58c4a7f9-5064-4941-b0a8-0a2e50606199",
   "metadata": {
    "collapsed": true,
    "jupyter": {
     "outputs_hidden": true
    },
    "tags": []
   },
   "outputs": [
    {
     "ename": "NameError",
     "evalue": "name 'exclude_cols' is not defined",
     "output_type": "error",
     "traceback": [
      "\u001b[0;31m---------------------------------------------------------------------------\u001b[0m",
      "\u001b[0;31mNameError\u001b[0m                                 Traceback (most recent call last)",
      "Input \u001b[0;32mIn [51]\u001b[0m, in \u001b[0;36m<cell line: 1>\u001b[0;34m()\u001b[0m\n\u001b[0;32m----> 1\u001b[0m \u001b[43mspd\u001b[49m\u001b[38;5;241;43m.\u001b[39;49m\u001b[43mloc\u001b[49m\u001b[43m[\u001b[49m\u001b[43mspd\u001b[49m\u001b[43m[\u001b[49m\u001b[38;5;124;43m'\u001b[39;49m\u001b[38;5;124;43mhas_auto_bouts\u001b[39;49m\u001b[38;5;124;43m'\u001b[39;49m\u001b[43m]\u001b[49m\u001b[43m]\u001b[49m\u001b[38;5;241;43m.\u001b[39;49m\u001b[43mapply\u001b[49m\u001b[43m(\u001b[49m\u001b[38;5;28;43;01mlambda\u001b[39;49;00m\u001b[43m \u001b[49m\u001b[43ms\u001b[49m\u001b[43m:\u001b[49m\u001b[43m \u001b[49m\u001b[43mload_bouts_ds\u001b[49m\u001b[43m(\u001b[49m\u001b[43ms\u001b[49m\u001b[43m,\u001b[49m\u001b[43m \u001b[49m\u001b[43msess_par\u001b[49m\u001b[43m,\u001b[49m\u001b[43m \u001b[49m\u001b[43mexclude_cols\u001b[49m\u001b[38;5;241;43m=\u001b[39;49m\u001b[43mexclude_cols\u001b[49m\u001b[43m)\u001b[49m\u001b[43m)\u001b[49m\n",
      "File \u001b[0;32m/mnt/cube/earneodo/envs/pakhi/ceciestunepipe/lib/python3.8/site-packages/pandas/core/frame.py:8839\u001b[0m, in \u001b[0;36mDataFrame.apply\u001b[0;34m(self, func, axis, raw, result_type, args, **kwargs)\u001b[0m\n\u001b[1;32m   8828\u001b[0m \u001b[38;5;28;01mfrom\u001b[39;00m \u001b[38;5;21;01mpandas\u001b[39;00m\u001b[38;5;21;01m.\u001b[39;00m\u001b[38;5;21;01mcore\u001b[39;00m\u001b[38;5;21;01m.\u001b[39;00m\u001b[38;5;21;01mapply\u001b[39;00m \u001b[38;5;28;01mimport\u001b[39;00m frame_apply\n\u001b[1;32m   8830\u001b[0m op \u001b[38;5;241m=\u001b[39m frame_apply(\n\u001b[1;32m   8831\u001b[0m     \u001b[38;5;28mself\u001b[39m,\n\u001b[1;32m   8832\u001b[0m     func\u001b[38;5;241m=\u001b[39mfunc,\n\u001b[0;32m   (...)\u001b[0m\n\u001b[1;32m   8837\u001b[0m     kwargs\u001b[38;5;241m=\u001b[39mkwargs,\n\u001b[1;32m   8838\u001b[0m )\n\u001b[0;32m-> 8839\u001b[0m \u001b[38;5;28;01mreturn\u001b[39;00m \u001b[43mop\u001b[49m\u001b[38;5;241;43m.\u001b[39;49m\u001b[43mapply\u001b[49m\u001b[43m(\u001b[49m\u001b[43m)\u001b[49m\u001b[38;5;241m.\u001b[39m__finalize__(\u001b[38;5;28mself\u001b[39m, method\u001b[38;5;241m=\u001b[39m\u001b[38;5;124m\"\u001b[39m\u001b[38;5;124mapply\u001b[39m\u001b[38;5;124m\"\u001b[39m)\n",
      "File \u001b[0;32m/mnt/cube/earneodo/envs/pakhi/ceciestunepipe/lib/python3.8/site-packages/pandas/core/apply.py:727\u001b[0m, in \u001b[0;36mFrameApply.apply\u001b[0;34m(self)\u001b[0m\n\u001b[1;32m    724\u001b[0m \u001b[38;5;28;01melif\u001b[39;00m \u001b[38;5;28mself\u001b[39m\u001b[38;5;241m.\u001b[39mraw:\n\u001b[1;32m    725\u001b[0m     \u001b[38;5;28;01mreturn\u001b[39;00m \u001b[38;5;28mself\u001b[39m\u001b[38;5;241m.\u001b[39mapply_raw()\n\u001b[0;32m--> 727\u001b[0m \u001b[38;5;28;01mreturn\u001b[39;00m \u001b[38;5;28;43mself\u001b[39;49m\u001b[38;5;241;43m.\u001b[39;49m\u001b[43mapply_standard\u001b[49m\u001b[43m(\u001b[49m\u001b[43m)\u001b[49m\n",
      "File \u001b[0;32m/mnt/cube/earneodo/envs/pakhi/ceciestunepipe/lib/python3.8/site-packages/pandas/core/apply.py:851\u001b[0m, in \u001b[0;36mFrameApply.apply_standard\u001b[0;34m(self)\u001b[0m\n\u001b[1;32m    850\u001b[0m \u001b[38;5;28;01mdef\u001b[39;00m \u001b[38;5;21mapply_standard\u001b[39m(\u001b[38;5;28mself\u001b[39m):\n\u001b[0;32m--> 851\u001b[0m     results, res_index \u001b[38;5;241m=\u001b[39m \u001b[38;5;28;43mself\u001b[39;49m\u001b[38;5;241;43m.\u001b[39;49m\u001b[43mapply_series_generator\u001b[49m\u001b[43m(\u001b[49m\u001b[43m)\u001b[49m\n\u001b[1;32m    853\u001b[0m     \u001b[38;5;66;03m# wrap results\u001b[39;00m\n\u001b[1;32m    854\u001b[0m     \u001b[38;5;28;01mreturn\u001b[39;00m \u001b[38;5;28mself\u001b[39m\u001b[38;5;241m.\u001b[39mwrap_results(results, res_index)\n",
      "File \u001b[0;32m/mnt/cube/earneodo/envs/pakhi/ceciestunepipe/lib/python3.8/site-packages/pandas/core/apply.py:867\u001b[0m, in \u001b[0;36mFrameApply.apply_series_generator\u001b[0;34m(self)\u001b[0m\n\u001b[1;32m    864\u001b[0m \u001b[38;5;28;01mwith\u001b[39;00m option_context(\u001b[38;5;124m\"\u001b[39m\u001b[38;5;124mmode.chained_assignment\u001b[39m\u001b[38;5;124m\"\u001b[39m, \u001b[38;5;28;01mNone\u001b[39;00m):\n\u001b[1;32m    865\u001b[0m     \u001b[38;5;28;01mfor\u001b[39;00m i, v \u001b[38;5;129;01min\u001b[39;00m \u001b[38;5;28menumerate\u001b[39m(series_gen):\n\u001b[1;32m    866\u001b[0m         \u001b[38;5;66;03m# ignore SettingWithCopy here in case the user mutates\u001b[39;00m\n\u001b[0;32m--> 867\u001b[0m         results[i] \u001b[38;5;241m=\u001b[39m \u001b[38;5;28;43mself\u001b[39;49m\u001b[38;5;241;43m.\u001b[39;49m\u001b[43mf\u001b[49m\u001b[43m(\u001b[49m\u001b[43mv\u001b[49m\u001b[43m)\u001b[49m\n\u001b[1;32m    868\u001b[0m         \u001b[38;5;28;01mif\u001b[39;00m \u001b[38;5;28misinstance\u001b[39m(results[i], ABCSeries):\n\u001b[1;32m    869\u001b[0m             \u001b[38;5;66;03m# If we have a view on v, we need to make a copy because\u001b[39;00m\n\u001b[1;32m    870\u001b[0m             \u001b[38;5;66;03m#  series_generator will swap out the underlying data\u001b[39;00m\n\u001b[1;32m    871\u001b[0m             results[i] \u001b[38;5;241m=\u001b[39m results[i]\u001b[38;5;241m.\u001b[39mcopy(deep\u001b[38;5;241m=\u001b[39m\u001b[38;5;28;01mFalse\u001b[39;00m)\n",
      "Input \u001b[0;32mIn [51]\u001b[0m, in \u001b[0;36m<lambda>\u001b[0;34m(s)\u001b[0m\n\u001b[0;32m----> 1\u001b[0m spd\u001b[38;5;241m.\u001b[39mloc[spd[\u001b[38;5;124m'\u001b[39m\u001b[38;5;124mhas_auto_bouts\u001b[39m\u001b[38;5;124m'\u001b[39m]]\u001b[38;5;241m.\u001b[39mapply(\u001b[38;5;28;01mlambda\u001b[39;00m s: load_bouts_ds(s, sess_par, exclude_cols\u001b[38;5;241m=\u001b[39m\u001b[43mexclude_cols\u001b[49m))\n",
      "\u001b[0;31mNameError\u001b[0m: name 'exclude_cols' is not defined"
     ]
    }
   ],
   "source": [
    "spd.loc[spd['has_auto_bouts']].apply(lambda s: load_bouts_ds(s, sess_par, exclude_cols=exclude_cols))"
   ]
  },
  {
   "cell_type": "code",
   "execution_count": 133,
   "id": "62c1abd1-f058-4ddc-a0ca-8eaeb57878b1",
   "metadata": {},
   "outputs": [
    {
     "name": "stderr",
     "output_type": "stream",
     "text": [
      "2022-12-28 13:21:24,057 root         INFO     Looking for all sessions with bouts detected/curated for bird s_b1321_22\n",
      "2022-12-28 13:21:24,195 ceciestunepipe.pipeline.searchbout INFO     Search/bouts file not found in /mnt/sphere/speech_bci/derived_data/s_b1321_22/2022-12-28/alsa/bouts_ceciestunepipe\n",
      "2022-12-28 13:21:24,222 ceciestunepipe.pipeline.searchbout INFO     Search/bouts file not found in /mnt/sphere/speech_bci/derived_data/s_b1321_22/2022-12-28/alsa/bouts_ceciestunepipe\n",
      "2022-12-28 13:21:24,224 root         INFO     Found 77 sessions with detected, 35 with curated bouts\n",
      "2022-12-28 13:22:31,851 ceciestunepipe.util.sound.boutsearch WARNING  Non split recording detected in file /mnt/sphere/speech_bci/raw_data/s_b1321_22/2022-11-23/alsa/12-00-01.wav\n",
      "2022-12-28 13:22:31,853 ceciestunepipe.util.sound.boutsearch WARNING  Non split recording detected in file /mnt/sphere/speech_bci/raw_data/s_b1321_22/2022-11-23/alsa/12-00-01.wav\n"
     ]
    }
   ],
   "source": [
    "def load_all_bouts(sess_par: dict, exclude_cols: list=['waveform', 'spectrogram', 'p_step']) -> tuple:\n",
    "    # get the pandas with the sessions\n",
    "    logger.info('Looking for all sessions with bouts detected/curated for bird {}'.format(sess_par['bird']))\n",
    "    s_pd = get_bird_sess_pd(sess_par)\n",
    "    n_auto = np.sum(spd['has_auto_bouts']==True)\n",
    "    n_curated = np.sum(spd['has_curated_bouts']==True)\n",
    "    logger.info('Found {} sessions with detected, {} with curated bouts'.format(n_auto, n_curated))\n",
    "    \n",
    "    # load all curated, drop the\n",
    "    sel_auto = s_pd['has_auto_bouts']\n",
    "    auto_bout_pd_list = list(s_pd.loc[sel_auto].apply(lambda s: load_bouts_ds(s, sess_par, \n",
    "                                                                              exclude_cols=exclude_cols,\n",
    "                                                                             file_key='auto_file'), \n",
    "                                                      axis=1))\n",
    "    auto_bout_pd = pd.concat(auto_bout_pd_list).rename(columns={'bout_check': 'bout_auto'})    \n",
    "    if sess_par['acq_software'] == 'alsa':\n",
    "        auto_bout_pd = bs.alsa_bout_time_stamps(auto_bout_pd)\n",
    "    \n",
    "    \n",
    "    # auto bout ready to merge with curated bouts, wherever they exist\n",
    "    # load the curated, wherever they exist, and if it is within the session parameters plan\n",
    "    if 'curated_file' in sess_par.keys():\n",
    "        sel_curated = s_pd['has_curated_bouts']\n",
    "        check_bout_pd_list = list(s_pd.loc[sel_curated].apply(lambda s: load_bouts_ds(s, sess_par, \n",
    "                                                                                   exclude_cols=exclude_cols,\n",
    "                                                                                  file_key='curated_file'), \n",
    "                                                           axis=1))\n",
    "        check_bout_pd = pd.concat(check_bout_pd_list)\n",
    "        if sess_par['acq_software'] == 'alsa':\n",
    "            check_bout_pd = bs.alsa_bout_time_stamps(check_bout_pd)\n",
    "        \n",
    "        # do the merge now\n",
    "        bout_pd = auto_bout_pd.merge(check_bout_pd[['t_stamp', 'is_call', 'confusing', 'bout_check']], \n",
    "                                     on='t_stamp', \n",
    "                                     how='outer')\n",
    "    else:\n",
    "        bout_pd = auto_bout_pd\n",
    "\n",
    "    bout_pd['datetime'] = pd.to_datetime(bout_pd['t_stamp'])\n",
    "    bout_pd['day'] = bout_pd['datetime'].apply(lambda dt: dt.strftime('%Y-%m-%d'))\n",
    "    bout_pd['hour'] = bout_pd['datetime'].apply(lambda x: x.hour)\n",
    "    return bout_pd\n",
    "                                                \n",
    "all_bout_pd = load_all_bouts(sess_par)"
   ]
  },
  {
   "cell_type": "code",
   "execution_count": 207,
   "id": "8ef0b283-8e94-4995-a2a9-57d9d0dfab2e",
   "metadata": {},
   "outputs": [
    {
     "data": {
      "text/plain": [
       "{'folders': {'bird': '/mnt/sphere/speech_bci/raw_data/s_b1321_22',\n",
       "  'raw': '/mnt/sphere/speech_bci/raw_data/s_b1321_22/',\n",
       "  'alsa': '/mnt/sphere/speech_bci/raw_data/s_b1321_22/alsa',\n",
       "  'kwik': '/scratch/earneodo/s_b1321_22/alsa/kwik/',\n",
       "  'processed': '/mnt/sphere/speech_bci/processed_data/s_b1321_22/alsa',\n",
       "  'derived': '/mnt/sphere/speech_bci/derived_data/s_b1321_22/alsa',\n",
       "  'tmp': '/scratch/earneodo/tmp',\n",
       "  'msort': '/scratch/earneodo/s_b1321_22/alsa/msort/',\n",
       "  'ksort': '/scratch/earneodo/s_b1321_22/alsa/ksort/',\n",
       "  'sort': '/mnt/sphere/speech_bci/derived_data/s_b1321_22/alsa/'},\n",
       " 'files': {'par': '/scratch/earneodo/s_b1321_22/alsa/ksort/params.json',\n",
       "  'set': '/mnt/sphere/speech_bci/raw_data/s_b1321_22/alsa/settings.isf',\n",
       "  'rig': '/mnt/sphere/speech_bci/raw_data/s_b1321_22/alsa/rig.json',\n",
       "  'kwd': '/scratch/earneodo/s_b1321_22/alsa/kwik/stream.kwd',\n",
       "  'kwik': '/scratch/earneodo/s_b1321_22/alsa/kwik/sort_/spikes.kwik',\n",
       "  'kwe': '/scratch/earneodo/s_b1321_22/alsa/kwik/events.kwe',\n",
       "  'dat_mic': '/mnt/sphere/speech_bci/processed_data/s_b1321_22/alsa/dat_mic.mat',\n",
       "  'dat_ap': '/mnt/sphere/speech_bci/processed_data/s_b1321_22/alsa/dat_ap.mat',\n",
       "  'allevents': '/mnt/sphere/speech_bci/processed_data/s_b1321_22/alsa/dat_all.pkl',\n",
       "  'wav_mic': '/mnt/sphere/speech_bci/derived_data/s_b1321_22/alsa/wav_mic.wav',\n",
       "  'mda_raw': '/scratch/earneodo/s_b1321_22/alsa/msort/raw.mda',\n",
       "  'bin_raw': '/scratch/earneodo/s_b1321_22/alsa/ksort/raw.bin'}}"
      ]
     },
     "execution_count": 207,
     "metadata": {},
     "output_type": "execute_result"
    }
   ],
   "source": [
    "et.get_exp_struct(sess_par['bird'], '', ephys_software='alsa')"
   ]
  },
  {
   "cell_type": "code",
   "execution_count": null,
   "id": "c76e2ddd-1208-416e-87ed-89c787e7ce87",
   "metadata": {},
   "outputs": [],
   "source": [
    "def load_all_bouts_file("
   ]
  },
  {
   "cell_type": "code",
   "execution_count": 175,
   "id": "b9cd9409-9d88-4826-bb06-210fdc61b270",
   "metadata": {},
   "outputs": [
    {
     "data": {
      "text/html": [
       "<div>\n",
       "<style scoped>\n",
       "    .dataframe tbody tr th:only-of-type {\n",
       "        vertical-align: middle;\n",
       "    }\n",
       "\n",
       "    .dataframe tbody tr th {\n",
       "        vertical-align: top;\n",
       "    }\n",
       "\n",
       "    .dataframe thead th {\n",
       "        text-align: right;\n",
       "    }\n",
       "</style>\n",
       "<table border=\"1\" class=\"dataframe\">\n",
       "  <thead>\n",
       "    <tr style=\"text-align: right;\">\n",
       "      <th></th>\n",
       "      <th>start_ms</th>\n",
       "      <th>end_ms</th>\n",
       "      <th>start_sample</th>\n",
       "      <th>end_sample</th>\n",
       "      <th>rms_p</th>\n",
       "      <th>peak_p</th>\n",
       "      <th>bout_auto</th>\n",
       "      <th>file</th>\n",
       "      <th>len_ms</th>\n",
       "      <th>syl_in</th>\n",
       "      <th>...</th>\n",
       "      <th>sess</th>\n",
       "      <th>t_stamp</th>\n",
       "      <th>is_call</th>\n",
       "      <th>confusing</th>\n",
       "      <th>bout_check</th>\n",
       "      <th>datetime</th>\n",
       "      <th>day</th>\n",
       "      <th>time</th>\n",
       "      <th>min</th>\n",
       "      <th>hour</th>\n",
       "    </tr>\n",
       "  </thead>\n",
       "  <tbody>\n",
       "    <tr>\n",
       "      <th>0</th>\n",
       "      <td>1167630</td>\n",
       "      <td>1176065</td>\n",
       "      <td>56046240</td>\n",
       "      <td>56451120</td>\n",
       "      <td>0.652903</td>\n",
       "      <td>81.330653</td>\n",
       "      <td>True</td>\n",
       "      <td>/mnt/sphere/speech_bci/raw_data/s_b1321_22/202...</td>\n",
       "      <td>8435</td>\n",
       "      <td>[[1167630, 1167685], [1167700, 1167735], [1167...</td>\n",
       "      <td>...</td>\n",
       "      <td>2022-10-10</td>\n",
       "      <td>2022-10-10 17:19:28.630</td>\n",
       "      <td>True</td>\n",
       "      <td>False</td>\n",
       "      <td>True</td>\n",
       "      <td>2022-10-10 17:19:28.630</td>\n",
       "      <td>2022-10-10</td>\n",
       "      <td>17-10-28</td>\n",
       "      <td>1677-09-21 00:12:43.145224193</td>\n",
       "      <td>17</td>\n",
       "    </tr>\n",
       "    <tr>\n",
       "      <th>1</th>\n",
       "      <td>1003915</td>\n",
       "      <td>1007215</td>\n",
       "      <td>48187920</td>\n",
       "      <td>48346320</td>\n",
       "      <td>0.809800</td>\n",
       "      <td>59.454740</td>\n",
       "      <td>True</td>\n",
       "      <td>/mnt/sphere/speech_bci/raw_data/s_b1321_22/202...</td>\n",
       "      <td>3300</td>\n",
       "      <td>[[1003915, 1003950], [1003975, 1004045], [1004...</td>\n",
       "      <td>...</td>\n",
       "      <td>2022-10-10</td>\n",
       "      <td>2022-10-10 18:46:44.915</td>\n",
       "      <td>True</td>\n",
       "      <td>False</td>\n",
       "      <td>True</td>\n",
       "      <td>2022-10-10 18:46:44.915</td>\n",
       "      <td>2022-10-10</td>\n",
       "      <td>18-10-44</td>\n",
       "      <td>1677-09-21 00:12:43.145224193</td>\n",
       "      <td>18</td>\n",
       "    </tr>\n",
       "  </tbody>\n",
       "</table>\n",
       "<p>2 rows × 26 columns</p>\n",
       "</div>"
      ],
      "text/plain": [
       "   start_ms   end_ms  start_sample  end_sample     rms_p     peak_p  \\\n",
       "0   1167630  1176065      56046240    56451120  0.652903  81.330653   \n",
       "1   1003915  1007215      48187920    48346320  0.809800  59.454740   \n",
       "\n",
       "   bout_auto                                               file  len_ms  \\\n",
       "0       True  /mnt/sphere/speech_bci/raw_data/s_b1321_22/202...    8435   \n",
       "1       True  /mnt/sphere/speech_bci/raw_data/s_b1321_22/202...    3300   \n",
       "\n",
       "                                              syl_in  ...        sess  \\\n",
       "0  [[1167630, 1167685], [1167700, 1167735], [1167...  ...  2022-10-10   \n",
       "1  [[1003915, 1003950], [1003975, 1004045], [1004...  ...  2022-10-10   \n",
       "\n",
       "                  t_stamp  is_call  confusing  bout_check  \\\n",
       "0 2022-10-10 17:19:28.630     True      False        True   \n",
       "1 2022-10-10 18:46:44.915     True      False        True   \n",
       "\n",
       "                 datetime         day      time                           min  \\\n",
       "0 2022-10-10 17:19:28.630  2022-10-10  17-10-28 1677-09-21 00:12:43.145224193   \n",
       "1 2022-10-10 18:46:44.915  2022-10-10  18-10-44 1677-09-21 00:12:43.145224193   \n",
       "\n",
       "  hour  \n",
       "0   17  \n",
       "1   18  \n",
       "\n",
       "[2 rows x 26 columns]"
      ]
     },
     "execution_count": 175,
     "metadata": {},
     "output_type": "execute_result"
    }
   ],
   "source": [
    "all_bout_pd.head(2)"
   ]
  },
  {
   "cell_type": "code",
   "execution_count": 210,
   "id": "68760bac-92c9-4350-b765-b8928bb022e5",
   "metadata": {},
   "outputs": [
    {
     "name": "stderr",
     "output_type": "stream",
     "text": [
      "2022-12-29 00:01:35,150 ceciestunepipe.pipeline.searchbout INFO     Saving bout summary dataframe\n",
      "2022-12-29 00:01:35,151 ceciestunepipe.pipeline.searchbout INFO     Bout summary path is /mnt/sphere/speech_bci/processed_data/s_b1321_22/alsa/bouts_ceciestunepipe/bout_summary_df.pickle\n"
     ]
    },
    {
     "data": {
      "text/plain": [
       "'/mnt/sphere/speech_bci/processed_data/s_b1321_22/alsa/bouts_ceciestunepipe/bout_summary_df.pickle'"
      ]
     },
     "execution_count": 210,
     "metadata": {},
     "output_type": "execute_result"
    }
   ],
   "source": [
    "reload(sb)\n",
    "sb.save_bouts_summary(all_bout_pd, sess_par['bird'],\n",
    "                      sess=sess_par['super_session'],\n",
    "                      acq_soft=sess_par['acq_software'],\n",
    "                      derived_folder=sess_par['derived_folder'])"
   ]
  },
  {
   "cell_type": "code",
   "execution_count": null,
   "id": "a97c03f6-5a2a-4c48-8e00-afdadf51fc3d",
   "metadata": {},
   "outputs": [],
   "source": [
    "abdf = sb.load_bouts_summary(sess_par['bird'],\n",
    "                      sess=sess_par['super_session'],\n",
    "                      acq_soft=sess_par['acq_software'],\n",
    "                      derived_folder=sess_par['derived_folder'])"
   ]
  },
  {
   "cell_type": "code",
   "execution_count": 141,
   "id": "fdfa0d37-024e-4310-9df5-d9f5fe08c1c0",
   "metadata": {},
   "outputs": [
    {
     "data": {
      "text/plain": [
       "86"
      ]
     },
     "execution_count": 141,
     "metadata": {},
     "output_type": "execute_result"
    }
   ],
   "source": [
    "np.sum(all_bout_pd['confusing']==True)"
   ]
  },
  {
   "cell_type": "code",
   "execution_count": 148,
   "id": "b2009fa1-2864-41b5-947a-0807a0afb4f7",
   "metadata": {},
   "outputs": [],
   "source": [
    "from matplotlib import pyplot as plt\n",
    "%matplotlib inline"
   ]
  },
  {
   "cell_type": "code",
   "execution_count": 203,
   "id": "55d6fcef-20fc-4625-8fac-f67244c4f7d8",
   "metadata": {},
   "outputs": [
    {
     "data": {
      "text/plain": [
       "<AxesSubplot:xlabel='datetime'>"
      ]
     },
     "execution_count": 203,
     "metadata": {},
     "output_type": "execute_result"
    },
    {
     "data": {
      "image/png": "[encoded data removed]",
      "text/plain": [
       "<Figure size 1152x288 with 1 Axes>"
      ]
     },
     "metadata": {
      "needs_background": "light"
     },
     "output_type": "display_data"
    }
   ],
   "source": [
    "fig, axs = plt.subplots(figsize=(16, 4))\n",
    "all_bout_pd['bout_check'].fillna(False, inplace=True)\n",
    "all_bout_pd.groupby(all_bout_pd['datetime'].dt.hour)['bout_auto'].sum().plot(kind='bar', ax=axs, alpha=0.5)\n",
    "all_bout_pd.groupby(all_bout_pd['datetime'].dt.hour)['bout_check'].sum().plot(kind='bar', ax=axs, alpha=0.5, color='red')"
   ]
  },
  {
   "cell_type": "code",
   "execution_count": 202,
   "id": "1fb11a26-f7a0-4097-9bbd-3ed734bbc582",
   "metadata": {},
   "outputs": [
    {
     "data": {
      "text/plain": [
       "<AxesSubplot:xlabel='datetime'>"
      ]
     },
     "execution_count": 202,
     "metadata": {},
     "output_type": "execute_result"
    },
    {
     "data": {
      "image/png": "[encoded data removed]",
      "text/plain": [
       "<Figure size 1152x288 with 1 Axes>"
      ]
     },
     "metadata": {
      "needs_background": "light"
     },
     "output_type": "display_data"
    }
   ],
   "source": [
    "fig, axs = plt.subplots(figsize=(16, 4))\n",
    "all_bout_pd['bout_check'].fillna(False, inplace=True)\n",
    "all_bout_pd.groupby(all_bout_pd['datetime'].dt.date)['bout_auto'].sum().plot(kind='bar', ax=axs, alpha=0.5)\n",
    "all_bout_pd.groupby(all_bout_pd['datetime'].dt.date)['bout_check'].sum().plot(kind='bar', ax=axs, alpha=0.5, color='red')"
   ]
  }
 ],
 "metadata": {
  "kernelspec": {
   "display_name": "ceciestunepipe (cube)",
   "language": "python",
   "name": "unepipe-cube"
  },
  "language_info": {
   "codemirror_mode": {
    "name": "ipython",
    "version": 3
   },
   "file_extension": ".py",
   "mimetype": "text/x-python",
   "name": "python",
   "nbconvert_exporter": "python",
   "pygments_lexer": "ipython3",
   "version": "3.8.11"
  }
 },
 "nbformat": 4,
 "nbformat_minor": 5
}
