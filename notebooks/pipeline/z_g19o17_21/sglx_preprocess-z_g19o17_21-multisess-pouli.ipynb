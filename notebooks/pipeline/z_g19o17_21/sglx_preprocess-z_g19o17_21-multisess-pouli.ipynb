{
 "cells": [
  {
   "cell_type": "markdown",
   "metadata": {},
   "source": [
    "# Pre-processing pipeline for spikeglx sessions, zebra finch\n",
    "- For every run in the session:\n",
    " - Load the recordings\n",
    " - Extract wav chan with micrhopohone and make a wav chan with the nidq syn signal\n",
    " - Get the sync events for the nidq sync channel\n",
    " \n",
    " - Do bout detection\n",
    " \n",
    "In another notebook, bout detection is curated\n",
    "- Left to decide where to:\n",
    "    - Sort spikes\n",
    "    - Sync the spikes/lfp/nidq\n",
    "    - make and plot 'bout rasters'"
   ]
  },
  {
   "cell_type": "code",
   "execution_count": 1,
   "metadata": {},
   "outputs": [],
   "source": [
    "%matplotlib inline\n",
    "import os\n",
    "import glob\n",
    "import logging\n",
    "import pickle\n",
    "import numpy as np\n",
    "import pandas as pd\n",
    "from scipy.io import wavfile\n",
    "from scipy import signal\n",
    "import traceback\n",
    "import warnings\n",
    "\n",
    "from matplotlib import pyplot as plt\n",
    "from importlib import reload\n",
    "\n",
    "logger = logging.getLogger()\n",
    "handler = logging.StreamHandler()\n",
    "formatter = logging.Formatter(\n",
    "        '%(asctime)s %(name)-12s %(levelname)-8s %(message)s')\n",
    "handler.setFormatter(formatter)\n",
    "logger.addHandler(handler)\n",
    "logger.setLevel(logging.INFO)\n"
   ]
  },
  {
   "cell_type": "code",
   "execution_count": 2,
   "metadata": {},
   "outputs": [
    {
     "name": "stdout",
     "output_type": "stream",
     "text": [
      "h5py version > 2.10.0. Some extractors might not work properly. It is recommended to downgrade to version 2.10.0: \n",
      ">>> pip install h5py==2.10.0\n"
     ]
    }
   ],
   "source": [
    "from ceciestunepipe.file import bcistructure as et\n",
    "from ceciestunepipe.util import sglxutil as sglu\n",
    "from ceciestunepipe.util import rigutil as ru\n",
    "from ceciestunepipe.util import wavutil as wu\n",
    "from ceciestunepipe.util import syncutil as su\n",
    "\n",
    "from ceciestunepipe.util.sound import boutsearch as bs\n",
    "\n",
    "from ceciestunepipe.util.spikeextractors import preprocess as pre\n",
    "from ceciestunepipe.util.spikeextractors.extractors.spikeglxrecordingextractor import readSGLX as rsgl\n",
    "from ceciestunepipe.util.spikeextractors.extractors.spikeglxrecordingextractor import spikeglxrecordingextractor as sglex"
   ]
  },
  {
   "cell_type": "code",
   "execution_count": 3,
   "metadata": {},
   "outputs": [
    {
     "name": "stderr",
     "output_type": "stream",
     "text": [
      "2021-11-23 15:53:15,522 root         INFO     all modules loaded\n"
     ]
    }
   ],
   "source": [
    "import spikeinterface as si\n",
    "import spikeinterface.extractors as se\n",
    "import spikeinterface.toolkit as st\n",
    "import spikeinterface.sorters as ss\n",
    "import spikeinterface.comparison as sc\n",
    "import spikeinterface.widgets as sw\n",
    "logger.info('all modules loaded')"
   ]
  },
  {
   "cell_type": "markdown",
   "metadata": {},
   "source": [
    "## Session parameters and raw files"
   ]
  },
  {
   "cell_type": "markdown",
   "metadata": {},
   "source": [
    "#### list all the sessions for this bird"
   ]
  },
  {
   "cell_type": "code",
   "execution_count": 5,
   "metadata": {},
   "outputs": [
    {
     "name": "stderr",
     "output_type": "stream",
     "text": [
      "2021-11-23 15:53:48,394 root         INFO     all sessions for bird are ['2021-03-26', '2021-03-27', '2021-03-28', '2021-03-29', '2021-03-30', '2021-03-31', '2021-04-01', '2021-04-02', '2021-04-03', '2021-04-04', '2021-04-05', '2021-04-06', '2021-04-07', '2021-04-08', '2021-04-09', '2021-04-10', '2021-04-11', '2021-04-12', '2021-04-13', '2021-04-14', '2021-04-15', '2021-04-16', '2021-04-17', '2021-04-18', '2021-04-19', '2021-04-20', '2021-04-21', '2021-04-22', '2021-04-23', '2021-04-24', '2021-04-25', '2021-04-26', '2021-04-27', '2021-04-28', '2021-04-29', '2021-04-30', '2021-05-01', '2021-05-02', '2021-05-03', '2021-05-04', '2021-05-05', '2021-05-06', '2021-05-07', '2021-05-08', '2021-05-09', '2021-05-10', '2021-05-11', '2021-05-12', '2021-05-13', '2021-05-14']\n"
     ]
    }
   ],
   "source": [
    "bird = 'z_g19o17_21'\n",
    "all_bird_sess = et.list_sessions(bird)\n",
    "logger.info('all sessions for bird are {}'.format(all_bird_sess))"
   ]
  },
  {
   "cell_type": "markdown",
   "metadata": {},
   "source": [
    "### set up bird and sessions parameters\n",
    "this will define:\n",
    "- locations of files (for the bird)\n",
    "- signals and channels to look for in the metadata of the files and in the rig.json parameter file: Note that this have to exist in all of the sessions that will be processed\n",
    "- 'sess' is unimportant here, but it comes handy if there is need to debug usin a single session"
   ]
  },
  {
   "cell_type": "code",
   "execution_count": 6,
   "metadata": {},
   "outputs": [],
   "source": [
    "reload(et)\n",
    "# for one example session\n",
    "\n",
    "sess_par = {'bird': 'z_g19o17_21',\n",
    "           'sess': '2021-04-21',\n",
    "           'probes': ['probe_0'], #probes of interest\n",
    "           'mic_list': ['microphone_0'], #list of mics of interest, by signal name in rig.json\n",
    "           'sort': 2, #label for this sort instance\n",
    "           }\n",
    "\n",
    "exp_struct = et.get_exp_struct(sess_par['bird'], sess_par['sess'], sort=sess_par['sort'])\n",
    "\n",
    "ksort_folder = exp_struct['folders']['ksort']\n",
    "raw_folder = exp_struct['folders']['sglx']"
   ]
  },
  {
   "cell_type": "markdown",
   "metadata": {},
   "source": [
    "list all the epochs in a session, to check that it is finding what it has to find"
   ]
  },
  {
   "cell_type": "code",
   "execution_count": 7,
   "metadata": {},
   "outputs": [
    {
     "name": "stderr",
     "output_type": "stream",
     "text": [
      "2021-11-23 15:55:22,060 ceciestunepipe.file.bcistructure INFO     {'folders': {'bird': '/mnt/sphere/speech_bci/raw_data/z_g19o17_21', 'raw': '/mnt/sphere/speech_bci/raw_data/z_g19o17_21/2021-04-21', 'sglx': '/mnt/sphere/speech_bci/raw_data/z_g19o17_21/2021-04-21/sglx', 'kwik': '/experiment/z_g19o17_21/sglx/kwik/2021-04-21', 'processed': '/mnt/sphere/speech_bci/processed_data/z_g19o17_21/2021-04-21/sglx', 'derived': '/mnt/sphere/speech_bci/derived_data/z_g19o17_21/2021-04-21/sglx', 'tmp': '/experiment/tmp/tmp', 'msort': '/experiment/tmp/z_g19o17_21/sglx/msort/2021-04-21', 'ksort': '/experiment/tmp/z_g19o17_21/sglx/ksort/2021-04-21/2', 'sort': '/mnt/sphere/speech_bci/derived_data/z_g19o17_21/2021-04-21/sglx/2'}, 'files': {'par': '/experiment/tmp/z_g19o17_21/sglx/ksort/2021-04-21/2/params.json', 'set': '/mnt/sphere/speech_bci/raw_data/z_g19o17_21/2021-04-21/sglx/settings.isf', 'rig': '/mnt/sphere/speech_bci/raw_data/z_g19o17_21/2021-04-21/sglx/rig.json', 'kwd': '/experiment/z_g19o17_21/sglx/kwik/2021-04-21/stream.kwd', 'kwik': '/experiment/z_g19o17_21/sglx/kwik/2021-04-21/sort_2/spikes.kwik', 'kwe': '/experiment/z_g19o17_21/sglx/kwik/2021-04-21/events.kwe', 'dat_mic': '/mnt/sphere/speech_bci/processed_data/z_g19o17_21/2021-04-21/sglx/dat_mic.mat', 'dat_ap': '/mnt/sphere/speech_bci/processed_data/z_g19o17_21/2021-04-21/sglx/dat_ap.mat', 'allevents': '/mnt/sphere/speech_bci/processed_data/z_g19o17_21/2021-04-21/sglx/dat_all.pkl', 'wav_mic': '/mnt/sphere/speech_bci/derived_data/z_g19o17_21/2021-04-21/sglx/wav_mic.wav', 'mda_raw': '/experiment/tmp/z_g19o17_21/sglx/msort/2021-04-21/raw.mda', 'bin_raw': '/experiment/tmp/z_g19o17_21/sglx/ksort/2021-04-21/2/raw.bin'}}\n"
     ]
    },
    {
     "data": {
      "text/plain": [
       "['first_plug_g0']"
      ]
     },
     "execution_count": 7,
     "metadata": {},
     "output_type": "execute_result"
    }
   ],
   "source": [
    "sess_epochs = et.list_sgl_epochs(sess_par)\n",
    "sess_epochs"
   ]
  },
  {
   "cell_type": "markdown",
   "metadata": {},
   "source": [
    "#### define pre-processing steps for each epoch and for the session"
   ]
  },
  {
   "cell_type": "code",
   "execution_count": 8,
   "metadata": {},
   "outputs": [
    {
     "name": "stderr",
     "output_type": "stream",
     "text": [
      "2021-11-23 15:56:20,867 root         INFO     PREPROCESSING sess 2021-04-21 | epoch first_plug_g0\n",
      "2021-11-23 15:56:20,868 root         INFO     getting extractors\n",
      "2021-11-23 15:56:20,984 root         INFO     Getting microphone channel(s) ['microphone_0']\n",
      "2021-11-23 15:56:20,985 ceciestunepipe.util.wavutil INFO     sampling rate 25000\n",
      "2021-11-23 15:56:20,986 ceciestunepipe.util.wavutil INFO     saving (1, 29929184)-shaped array as wav in /mnt/sphere/speech_bci/derived_data/z_g19o17_21/2021-04-21/sglx/first_plug_g0/wav_mic.wav\n",
      "2021-11-23 15:56:26,545 ceciestunepipe.util.wavutil INFO     saving (1, 29929184)-shaped array as npy in /mnt/sphere/speech_bci/derived_data/z_g19o17_21/2021-04-21/sglx/first_plug_g0/wav_mic.npy\n",
      "2021-11-23 15:56:28,171 root         INFO     Getting sync channel(s) ['sync']\n",
      "2021-11-23 15:56:28,173 ceciestunepipe.util.spikeextractors.extractors.spikeglxrecordingextractor.spikeglxrecordingextractor INFO     getting ttl traces, chan range(0, 7)\n",
      "2021-11-23 15:56:28,863 ceciestunepipe.util.wavutil INFO     sampling rate 25000\n",
      "2021-11-23 15:56:28,864 ceciestunepipe.util.wavutil INFO     saving (1, 29929184)-shaped array as wav in /mnt/sphere/speech_bci/derived_data/z_g19o17_21/2021-04-21/sglx/first_plug_g0/wav_sync.wav\n",
      "2021-11-23 15:56:29,420 ceciestunepipe.util.wavutil INFO     saving (1, 29929184)-shaped array as npy in /mnt/sphere/speech_bci/derived_data/z_g19o17_21/2021-04-21/sglx/first_plug_g0/wav_sync.npy\n",
      "2021-11-23 15:56:30,003 root         INFO     Getting sync events from the wav sync channel\n",
      "2021-11-23 15:56:30,232 root         INFO     saving sync events of the wav channel to /mnt/sphere/speech_bci/derived_data/z_g19o17_21/2021-04-21/sglx/first_plug_g0/wav_sync_evt.npy\n",
      "2021-11-23 15:56:30,257 root         INFO     saving t0 for wav channel to /mnt/sphere/speech_bci/derived_data/z_g19o17_21/2021-04-21/sglx/first_plug_g0/wav_t0.npy\n",
      "2021-11-23 15:56:32,616 root         INFO     saving sync dict to /mnt/sphere/speech_bci/derived_data/z_g19o17_21/2021-04-21/sglx/first_plug_g0/wav_sync_dict.pkl\n"
     ]
    }
   ],
   "source": [
    "def preprocess_run(sess_par, exp_struct, epoch):\n",
    "    # get the recordings\n",
    "    logger.info('PREPROCESSING sess {} | epoch {}'.format(sess_par['sess'], epoch))\n",
    "    logger.info('getting extractors')\n",
    "    sgl_exp_struct = et.sgl_struct(sess_par, epoch)\n",
    "    run_recs_dict, run_meta_files, files_pd, rig_dict = pre.load_sglx_recordings(sgl_exp_struct, epoch)\n",
    "    \n",
    "    # get the microphone to wav\n",
    "    # get the chans\n",
    "    mic_list = sess_par['mic_list']\n",
    "    logger.info('Getting microphone channel(s) {}'.format(mic_list))\n",
    "    mic_stream = pre.extract_nidq_channels(sess_par, run_recs_dict, rig_dict, mic_list, chan_type='adc')\n",
    "    # get the sampling rate\n",
    "    nidq_s_f = run_recs_dict['nidq'].get_sampling_frequency()\n",
    "    \n",
    "    mic_file_path = os.path.join(sgl_exp_struct['folders']['derived'], 'wav_mic.wav')\n",
    "    wav_s_f = wu.save_wav(mic_stream, nidq_s_f, mic_file_path)\n",
    "    \n",
    "   \n",
    "    # get the syn to wav\n",
    "    # get the chans\n",
    "    sync_list = ['sync']\n",
    "    logger.info('Getting sync channel(s) {}'.format(sync_list))\n",
    "    sync_stream = pre.extract_nidq_channels(sess_par, run_recs_dict, rig_dict, sync_list, chan_type='ttl')\n",
    "    \n",
    "    sync_file_path = os.path.join(sgl_exp_struct['folders']['derived'], 'wav_sync.wav')\n",
    "    wav_s_f = wu.save_wav(sync_stream, nidq_s_f, sync_file_path)\n",
    "    \n",
    "    logger.info('Getting sync events from the wav sync channel')\n",
    "    sync_ev_path = os.path.join(sgl_exp_struct['folders']['derived'], 'wav_sync_evt.npy')\n",
    "    wav_s_f, x_d, ttl_arr = wu.wav_to_syn(sync_file_path)\n",
    "    logger.info('saving sync events of the wav channel to {}'.format(sync_ev_path))\n",
    "    np.save(sync_ev_path, ttl_arr)\n",
    "    \n",
    "    t_0_path = os.path.join(sgl_exp_struct['folders']['derived'], 'wav_t0.npy')\n",
    "    logger.info('saving t0 for wav channel to {}'.format(t_0_path))\n",
    "    np.save(t_0_path, np.arange(sync_stream.size)/wav_s_f)\n",
    "    #make the sync dict\n",
    "    syn_dict = {'s_f': wav_s_f,\n",
    "           't_0_path': t_0_path,\n",
    "           'evt_arr_path': sync_ev_path}\n",
    "    \n",
    "    syn_dict_path = os.path.join(sgl_exp_struct['folders']['derived'],  '{}_sync_dict.pkl'.format('wav'))\n",
    "    syn_dict['path'] = syn_dict_path\n",
    "    logger.info('saving sync dict to ' + syn_dict_path)\n",
    "    with open(syn_dict_path, 'wb') as pf:\n",
    "        pickle.dump(syn_dict, pf)\n",
    "\n",
    "    epoch_dict = {'epoch': epoch,\n",
    "                'files_pd': files_pd,\n",
    "                 'recordings': run_recs_dict,\n",
    "                 'meta': run_meta_files,\n",
    "                 'rig': rig_dict}\n",
    "    \n",
    "    return epoch_dict\n",
    "\n",
    "    \n",
    "#one_epoch_dict = preprocess_run(sess_par, exp_struct, sess_epochs[0])"
   ]
  },
  {
   "cell_type": "code",
   "execution_count": 9,
   "metadata": {
    "scrolled": true
   },
   "outputs": [
    {
     "name": "stderr",
     "output_type": "stream",
     "text": [
      "2021-11-23 15:58:10,010 root         INFO     pre-process all runs of sess 2021-04-21\n",
      "2021-11-23 15:58:10,011 ceciestunepipe.file.bcistructure INFO     {'folders': {'bird': '/mnt/sphere/speech_bci/raw_data/z_g19o17_21', 'raw': '/mnt/sphere/speech_bci/raw_data/z_g19o17_21/2021-04-21', 'sglx': '/mnt/sphere/speech_bci/raw_data/z_g19o17_21/2021-04-21/sglx', 'kwik': '/experiment/z_g19o17_21/sglx/kwik/2021-04-21', 'processed': '/mnt/sphere/speech_bci/processed_data/z_g19o17_21/2021-04-21/sglx', 'derived': '/mnt/sphere/speech_bci/derived_data/z_g19o17_21/2021-04-21/sglx', 'tmp': '/experiment/tmp/tmp', 'msort': '/experiment/tmp/z_g19o17_21/sglx/msort/2021-04-21', 'ksort': '/experiment/tmp/z_g19o17_21/sglx/ksort/2021-04-21/2', 'sort': '/mnt/sphere/speech_bci/derived_data/z_g19o17_21/2021-04-21/sglx/2'}, 'files': {'par': '/experiment/tmp/z_g19o17_21/sglx/ksort/2021-04-21/2/params.json', 'set': '/mnt/sphere/speech_bci/raw_data/z_g19o17_21/2021-04-21/sglx/settings.isf', 'rig': '/mnt/sphere/speech_bci/raw_data/z_g19o17_21/2021-04-21/sglx/rig.json', 'kwd': '/experiment/z_g19o17_21/sglx/kwik/2021-04-21/stream.kwd', 'kwik': '/experiment/z_g19o17_21/sglx/kwik/2021-04-21/sort_2/spikes.kwik', 'kwe': '/experiment/z_g19o17_21/sglx/kwik/2021-04-21/events.kwe', 'dat_mic': '/mnt/sphere/speech_bci/processed_data/z_g19o17_21/2021-04-21/sglx/dat_mic.mat', 'dat_ap': '/mnt/sphere/speech_bci/processed_data/z_g19o17_21/2021-04-21/sglx/dat_ap.mat', 'allevents': '/mnt/sphere/speech_bci/processed_data/z_g19o17_21/2021-04-21/sglx/dat_all.pkl', 'wav_mic': '/mnt/sphere/speech_bci/derived_data/z_g19o17_21/2021-04-21/sglx/wav_mic.wav', 'mda_raw': '/experiment/tmp/z_g19o17_21/sglx/msort/2021-04-21/raw.mda', 'bin_raw': '/experiment/tmp/z_g19o17_21/sglx/ksort/2021-04-21/2/raw.bin'}}\n",
      "2021-11-23 15:58:10,033 root         INFO     found epochs: ['first_plug_g0']\n",
      "2021-11-23 15:58:10,034 root         INFO     PREPROCESSING sess 2021-04-21 | epoch first_plug_g0\n",
      "2021-11-23 15:58:10,035 root         INFO     getting extractors\n",
      "2021-11-23 15:58:10,087 root         INFO     Getting microphone channel(s) ['microphone_0']\n",
      "2021-11-23 15:58:10,088 ceciestunepipe.util.wavutil INFO     sampling rate 25000\n",
      "2021-11-23 15:58:10,089 ceciestunepipe.util.wavutil INFO     saving (1, 29929184)-shaped array as wav in /mnt/sphere/speech_bci/derived_data/z_g19o17_21/2021-04-21/sglx/first_plug_g0/wav_mic.wav\n",
      "2021-11-23 15:58:10,766 ceciestunepipe.util.wavutil INFO     saving (1, 29929184)-shaped array as npy in /mnt/sphere/speech_bci/derived_data/z_g19o17_21/2021-04-21/sglx/first_plug_g0/wav_mic.npy\n",
      "2021-11-23 15:58:12,256 root         INFO     Getting sync channel(s) ['sync']\n",
      "2021-11-23 15:58:12,257 ceciestunepipe.util.spikeextractors.extractors.spikeglxrecordingextractor.spikeglxrecordingextractor INFO     getting ttl traces, chan range(0, 7)\n",
      "2021-11-23 15:58:12,886 ceciestunepipe.util.wavutil INFO     sampling rate 25000\n",
      "2021-11-23 15:58:12,887 ceciestunepipe.util.wavutil INFO     saving (1, 29929184)-shaped array as wav in /mnt/sphere/speech_bci/derived_data/z_g19o17_21/2021-04-21/sglx/first_plug_g0/wav_sync.wav\n",
      "2021-11-23 15:58:13,447 ceciestunepipe.util.wavutil INFO     saving (1, 29929184)-shaped array as npy in /mnt/sphere/speech_bci/derived_data/z_g19o17_21/2021-04-21/sglx/first_plug_g0/wav_sync.npy\n",
      "2021-11-23 15:58:14,014 root         INFO     Getting sync events from the wav sync channel\n",
      "2021-11-23 15:58:14,244 root         INFO     saving sync events of the wav channel to /mnt/sphere/speech_bci/derived_data/z_g19o17_21/2021-04-21/sglx/first_plug_g0/wav_sync_evt.npy\n",
      "2021-11-23 15:58:14,249 root         INFO     saving t0 for wav channel to /mnt/sphere/speech_bci/derived_data/z_g19o17_21/2021-04-21/sglx/first_plug_g0/wav_t0.npy\n",
      "2021-11-23 15:58:16,616 root         INFO     saving sync dict to /mnt/sphere/speech_bci/derived_data/z_g19o17_21/2021-04-21/sglx/first_plug_g0/wav_sync_dict.pkl\n"
     ]
    }
   ],
   "source": [
    "### sequentially process all runs of the sessions\n",
    "def preprocess_session(sess_par: dict):\n",
    "    logger.info('pre-process all runs of sess ' + sess_par['sess'])\n",
    "    # get exp struct\n",
    "    sess_struct = et.get_exp_struct(sess_par['bird'], sess_par['sess'], sort=sess_par['sort'])\n",
    "    # list the epochs\n",
    "    sess_epochs = et.list_sgl_epochs(sess_par)\n",
    "    logger.info('found epochs: {}'.format(sess_epochs))\n",
    "    # preprocess all epochs\n",
    "    epoch_dict_list = []\n",
    "    for i_ep, epoch in enumerate(sess_epochs):\n",
    "        try:\n",
    "            exp_struct = et.sgl_struct(sess_par, epoch)\n",
    "            one_epoch_dict = preprocess_run(sess_par, exp_struct, epoch)\n",
    "            epoch_dict_list.append(one_epoch_dict)\n",
    "        except Exception as exc:\n",
    "            warnings.warn('Error in epoch {}'.format(epoch), UserWarning)\n",
    "            logger.info(traceback.format_exc)\n",
    "            logger.info(exc)\n",
    "            logger.info('Session {} epoch {} could not be preprocessed'.format(sess_par['sess'], epoch))\n",
    "        \n",
    "    return epoch_dict_list\n",
    "\n",
    "all_epoch_list = preprocess_session(sess_par)"
   ]
  },
  {
   "cell_type": "markdown",
   "metadata": {},
   "source": [
    "## Process multiple sessions"
   ]
  },
  {
   "cell_type": "code",
   "execution_count": 15,
   "metadata": {},
   "outputs": [],
   "source": [
    "sess_list = all_bird_sess\n",
    "# fist implant, right hemisphere\n",
    "sess_list = ['2021-04-21', '2021-04-23', '2021-04-24', '2021-04-25', '2021-04-26', '2021-04-27', '2021-04-28', \n",
    "             '2021-04-29', '2021-04-30', '2021-05-03']"
   ]
  },
  {
   "cell_type": "code",
   "execution_count": 16,
   "metadata": {
    "tags": []
   },
   "outputs": [
    {
     "name": "stderr",
     "output_type": "stream",
     "text": [
      "2021-11-23 16:16:20,507 root         INFO     pre-process all runs of sess 2021-04-21\n",
      "2021-11-23 16:16:20,509 ceciestunepipe.file.bcistructure INFO     {'folders': {'bird': '/mnt/sphere/speech_bci/raw_data/z_g19o17_21', 'raw': '/mnt/sphere/speech_bci/raw_data/z_g19o17_21/2021-04-21', 'sglx': '/mnt/sphere/speech_bci/raw_data/z_g19o17_21/2021-04-21/sglx', 'kwik': '/experiment/z_g19o17_21/sglx/kwik/2021-04-21', 'processed': '/mnt/sphere/speech_bci/processed_data/z_g19o17_21/2021-04-21/sglx', 'derived': '/mnt/sphere/speech_bci/derived_data/z_g19o17_21/2021-04-21/sglx', 'tmp': '/experiment/tmp/tmp', 'msort': '/experiment/tmp/z_g19o17_21/sglx/msort/2021-04-21', 'ksort': '/experiment/tmp/z_g19o17_21/sglx/ksort/2021-04-21/2', 'sort': '/mnt/sphere/speech_bci/derived_data/z_g19o17_21/2021-04-21/sglx/2'}, 'files': {'par': '/experiment/tmp/z_g19o17_21/sglx/ksort/2021-04-21/2/params.json', 'set': '/mnt/sphere/speech_bci/raw_data/z_g19o17_21/2021-04-21/sglx/settings.isf', 'rig': '/mnt/sphere/speech_bci/raw_data/z_g19o17_21/2021-04-21/sglx/rig.json', 'kwd': '/experiment/z_g19o17_21/sglx/kwik/2021-04-21/stream.kwd', 'kwik': '/experiment/z_g19o17_21/sglx/kwik/2021-04-21/sort_2/spikes.kwik', 'kwe': '/experiment/z_g19o17_21/sglx/kwik/2021-04-21/events.kwe', 'dat_mic': '/mnt/sphere/speech_bci/processed_data/z_g19o17_21/2021-04-21/sglx/dat_mic.mat', 'dat_ap': '/mnt/sphere/speech_bci/processed_data/z_g19o17_21/2021-04-21/sglx/dat_ap.mat', 'allevents': '/mnt/sphere/speech_bci/processed_data/z_g19o17_21/2021-04-21/sglx/dat_all.pkl', 'wav_mic': '/mnt/sphere/speech_bci/derived_data/z_g19o17_21/2021-04-21/sglx/wav_mic.wav', 'mda_raw': '/experiment/tmp/z_g19o17_21/sglx/msort/2021-04-21/raw.mda', 'bin_raw': '/experiment/tmp/z_g19o17_21/sglx/ksort/2021-04-21/2/raw.bin'}}\n",
      "2021-11-23 16:16:20,532 root         INFO     found epochs: ['first_plug_g0']\n",
      "2021-11-23 16:16:20,533 root         INFO     PREPROCESSING sess 2021-04-21 | epoch first_plug_g0\n",
      "2021-11-23 16:16:20,534 root         INFO     getting extractors\n",
      "2021-11-23 16:16:20,638 root         INFO     Getting microphone channel(s) ['microphone_0']\n",
      "2021-11-23 16:16:20,639 ceciestunepipe.util.wavutil INFO     sampling rate 25000\n",
      "2021-11-23 16:16:20,639 ceciestunepipe.util.wavutil INFO     saving (1, 29929184)-shaped array as wav in /mnt/sphere/speech_bci/derived_data/z_g19o17_21/2021-04-21/sglx/first_plug_g0/wav_mic.wav\n",
      "2021-11-23 16:16:21,486 ceciestunepipe.util.wavutil INFO     saving (1, 29929184)-shaped array as npy in /mnt/sphere/speech_bci/derived_data/z_g19o17_21/2021-04-21/sglx/first_plug_g0/wav_mic.npy\n",
      "2021-11-23 16:16:23,052 root         INFO     Getting sync channel(s) ['sync']\n",
      "2021-11-23 16:16:23,053 ceciestunepipe.util.spikeextractors.extractors.spikeglxrecordingextractor.spikeglxrecordingextractor INFO     getting ttl traces, chan range(0, 7)\n",
      "2021-11-23 16:16:23,711 ceciestunepipe.util.wavutil INFO     sampling rate 25000\n",
      "2021-11-23 16:16:23,712 ceciestunepipe.util.wavutil INFO     saving (1, 29929184)-shaped array as wav in /mnt/sphere/speech_bci/derived_data/z_g19o17_21/2021-04-21/sglx/first_plug_g0/wav_sync.wav\n",
      "2021-11-23 16:16:24,297 ceciestunepipe.util.wavutil INFO     saving (1, 29929184)-shaped array as npy in /mnt/sphere/speech_bci/derived_data/z_g19o17_21/2021-04-21/sglx/first_plug_g0/wav_sync.npy\n",
      "2021-11-23 16:16:24,895 root         INFO     Getting sync events from the wav sync channel\n",
      "2021-11-23 16:16:25,109 root         INFO     saving sync events of the wav channel to /mnt/sphere/speech_bci/derived_data/z_g19o17_21/2021-04-21/sglx/first_plug_g0/wav_sync_evt.npy\n",
      "2021-11-23 16:16:25,114 root         INFO     saving t0 for wav channel to /mnt/sphere/speech_bci/derived_data/z_g19o17_21/2021-04-21/sglx/first_plug_g0/wav_t0.npy\n",
      "2021-11-23 16:16:27,523 root         INFO     saving sync dict to /mnt/sphere/speech_bci/derived_data/z_g19o17_21/2021-04-21/sglx/first_plug_g0/wav_sync_dict.pkl\n",
      "2021-11-23 16:16:27,542 root         INFO     pre-process all runs of sess 2021-04-23\n",
      "2021-11-23 16:16:27,543 ceciestunepipe.file.bcistructure INFO     {'folders': {'bird': '/mnt/sphere/speech_bci/raw_data/z_g19o17_21', 'raw': '/mnt/sphere/speech_bci/raw_data/z_g19o17_21/2021-04-23', 'sglx': '/mnt/sphere/speech_bci/raw_data/z_g19o17_21/2021-04-23/sglx', 'kwik': '/experiment/z_g19o17_21/sglx/kwik/2021-04-23', 'processed': '/mnt/sphere/speech_bci/processed_data/z_g19o17_21/2021-04-23/sglx', 'derived': '/mnt/sphere/speech_bci/derived_data/z_g19o17_21/2021-04-23/sglx', 'tmp': '/experiment/tmp/tmp', 'msort': '/experiment/tmp/z_g19o17_21/sglx/msort/2021-04-23', 'ksort': '/experiment/tmp/z_g19o17_21/sglx/ksort/2021-04-23/2', 'sort': '/mnt/sphere/speech_bci/derived_data/z_g19o17_21/2021-04-23/sglx/2'}, 'files': {'par': '/experiment/tmp/z_g19o17_21/sglx/ksort/2021-04-23/2/params.json', 'set': '/mnt/sphere/speech_bci/raw_data/z_g19o17_21/2021-04-23/sglx/settings.isf', 'rig': '/mnt/sphere/speech_bci/raw_data/z_g19o17_21/2021-04-23/sglx/rig.json', 'kwd': '/experiment/z_g19o17_21/sglx/kwik/2021-04-23/stream.kwd', 'kwik': '/experiment/z_g19o17_21/sglx/kwik/2021-04-23/sort_2/spikes.kwik', 'kwe': '/experiment/z_g19o17_21/sglx/kwik/2021-04-23/events.kwe', 'dat_mic': '/mnt/sphere/speech_bci/processed_data/z_g19o17_21/2021-04-23/sglx/dat_mic.mat', 'dat_ap': '/mnt/sphere/speech_bci/processed_data/z_g19o17_21/2021-04-23/sglx/dat_ap.mat', 'allevents': '/mnt/sphere/speech_bci/processed_data/z_g19o17_21/2021-04-23/sglx/dat_all.pkl', 'wav_mic': '/mnt/sphere/speech_bci/derived_data/z_g19o17_21/2021-04-23/sglx/wav_mic.wav', 'mda_raw': '/experiment/tmp/z_g19o17_21/sglx/msort/2021-04-23/raw.mda', 'bin_raw': '/experiment/tmp/z_g19o17_21/sglx/ksort/2021-04-23/2/raw.bin'}}\n",
      "2021-11-23 16:16:27,548 root         INFO     found epochs: ['first_plug_g0']\n",
      "2021-11-23 16:16:27,549 root         INFO     PREPROCESSING sess 2021-04-23 | epoch first_plug_g0\n",
      "2021-11-23 16:16:27,550 root         INFO     getting extractors\n",
      "2021-11-23 16:16:27,691 root         INFO     Getting microphone channel(s) ['microphone_0']\n",
      "2021-11-23 16:16:27,692 ceciestunepipe.util.wavutil INFO     sampling rate 25000\n",
      "2021-11-23 16:16:27,693 ceciestunepipe.util.wavutil INFO     saving (1, 193320480)-shaped array as wav in /mnt/sphere/speech_bci/derived_data/z_g19o17_21/2021-04-23/sglx/first_plug_g0/wav_mic.wav\n",
      "2021-11-23 16:17:02,083 ceciestunepipe.util.wavutil INFO     saving (1, 193320480)-shaped array as npy in /mnt/sphere/speech_bci/derived_data/z_g19o17_21/2021-04-23/sglx/first_plug_g0/wav_mic.npy\n",
      "2021-11-23 16:17:11,614 root         INFO     Getting sync channel(s) ['sync']\n",
      "2021-11-23 16:17:11,615 ceciestunepipe.util.spikeextractors.extractors.spikeglxrecordingextractor.spikeglxrecordingextractor INFO     getting ttl traces, chan range(0, 7)\n",
      "2021-11-23 16:17:15,637 ceciestunepipe.util.wavutil INFO     sampling rate 25000\n",
      "2021-11-23 16:17:15,638 ceciestunepipe.util.wavutil INFO     saving (1, 193320480)-shaped array as wav in /mnt/sphere/speech_bci/derived_data/z_g19o17_21/2021-04-23/sglx/first_plug_g0/wav_sync.wav\n",
      "2021-11-23 16:17:19,186 ceciestunepipe.util.wavutil INFO     saving (1, 193320480)-shaped array as npy in /mnt/sphere/speech_bci/derived_data/z_g19o17_21/2021-04-23/sglx/first_plug_g0/wav_sync.npy\n",
      "2021-11-23 16:17:22,789 root         INFO     Getting sync events from the wav sync channel\n",
      "2021-11-23 16:17:24,021 root         INFO     saving sync events of the wav channel to /mnt/sphere/speech_bci/derived_data/z_g19o17_21/2021-04-23/sglx/first_plug_g0/wav_sync_evt.npy\n",
      "2021-11-23 16:17:24,047 root         INFO     saving t0 for wav channel to /mnt/sphere/speech_bci/derived_data/z_g19o17_21/2021-04-23/sglx/first_plug_g0/wav_t0.npy\n",
      "2021-11-23 16:17:39,155 root         INFO     saving sync dict to /mnt/sphere/speech_bci/derived_data/z_g19o17_21/2021-04-23/sglx/first_plug_g0/wav_sync_dict.pkl\n",
      "2021-11-23 16:17:39,291 root         INFO     pre-process all runs of sess 2021-04-24\n",
      "2021-11-23 16:17:39,292 ceciestunepipe.file.bcistructure INFO     {'folders': {'bird': '/mnt/sphere/speech_bci/raw_data/z_g19o17_21', 'raw': '/mnt/sphere/speech_bci/raw_data/z_g19o17_21/2021-04-24', 'sglx': '/mnt/sphere/speech_bci/raw_data/z_g19o17_21/2021-04-24/sglx', 'kwik': '/experiment/z_g19o17_21/sglx/kwik/2021-04-24', 'processed': '/mnt/sphere/speech_bci/processed_data/z_g19o17_21/2021-04-24/sglx', 'derived': '/mnt/sphere/speech_bci/derived_data/z_g19o17_21/2021-04-24/sglx', 'tmp': '/experiment/tmp/tmp', 'msort': '/experiment/tmp/z_g19o17_21/sglx/msort/2021-04-24', 'ksort': '/experiment/tmp/z_g19o17_21/sglx/ksort/2021-04-24/2', 'sort': '/mnt/sphere/speech_bci/derived_data/z_g19o17_21/2021-04-24/sglx/2'}, 'files': {'par': '/experiment/tmp/z_g19o17_21/sglx/ksort/2021-04-24/2/params.json', 'set': '/mnt/sphere/speech_bci/raw_data/z_g19o17_21/2021-04-24/sglx/settings.isf', 'rig': '/mnt/sphere/speech_bci/raw_data/z_g19o17_21/2021-04-24/sglx/rig.json', 'kwd': '/experiment/z_g19o17_21/sglx/kwik/2021-04-24/stream.kwd', 'kwik': '/experiment/z_g19o17_21/sglx/kwik/2021-04-24/sort_2/spikes.kwik', 'kwe': '/experiment/z_g19o17_21/sglx/kwik/2021-04-24/events.kwe', 'dat_mic': '/mnt/sphere/speech_bci/processed_data/z_g19o17_21/2021-04-24/sglx/dat_mic.mat', 'dat_ap': '/mnt/sphere/speech_bci/processed_data/z_g19o17_21/2021-04-24/sglx/dat_ap.mat', 'allevents': '/mnt/sphere/speech_bci/processed_data/z_g19o17_21/2021-04-24/sglx/dat_all.pkl', 'wav_mic': '/mnt/sphere/speech_bci/derived_data/z_g19o17_21/2021-04-24/sglx/wav_mic.wav', 'mda_raw': '/experiment/tmp/z_g19o17_21/sglx/msort/2021-04-24/raw.mda', 'bin_raw': '/experiment/tmp/z_g19o17_21/sglx/ksort/2021-04-24/2/raw.bin'}}\n",
      "2021-11-23 16:17:39,363 root         INFO     found epochs: ['1029_dir_g1', '1635_dir_g0', 'first_plug_g0', 'first_plug_g1', 'first_plug_second_run_g0']\n",
      "2021-11-23 16:17:39,364 root         INFO     PREPROCESSING sess 2021-04-24 | epoch 1029_dir_g1\n",
      "2021-11-23 16:17:39,365 root         INFO     getting extractors\n",
      "2021-11-23 16:17:39,487 root         INFO     Getting microphone channel(s) ['microphone_0']\n",
      "2021-11-23 16:17:39,488 ceciestunepipe.util.wavutil INFO     sampling rate 25000\n",
      "2021-11-23 16:17:39,489 ceciestunepipe.util.wavutil INFO     saving (1, 183456385)-shaped array as wav in /mnt/sphere/speech_bci/derived_data/z_g19o17_21/2021-04-24/sglx/1029_dir_g1/wav_mic.wav\n",
      "2021-11-23 16:18:11,908 ceciestunepipe.util.wavutil INFO     saving (1, 183456385)-shaped array as npy in /mnt/sphere/speech_bci/derived_data/z_g19o17_21/2021-04-24/sglx/1029_dir_g1/wav_mic.npy\n",
      "2021-11-23 16:18:21,003 root         INFO     Getting sync channel(s) ['sync']\n",
      "2021-11-23 16:18:21,004 ceciestunepipe.util.spikeextractors.extractors.spikeglxrecordingextractor.spikeglxrecordingextractor INFO     getting ttl traces, chan range(0, 7)\n",
      "2021-11-23 16:18:24,942 ceciestunepipe.util.wavutil INFO     sampling rate 25000\n",
      "2021-11-23 16:18:24,943 ceciestunepipe.util.wavutil INFO     saving (1, 183456385)-shaped array as wav in /mnt/sphere/speech_bci/derived_data/z_g19o17_21/2021-04-24/sglx/1029_dir_g1/wav_sync.wav\n",
      "2021-11-23 16:18:28,346 ceciestunepipe.util.wavutil INFO     saving (1, 183456385)-shaped array as npy in /mnt/sphere/speech_bci/derived_data/z_g19o17_21/2021-04-24/sglx/1029_dir_g1/wav_sync.npy\n",
      "2021-11-23 16:18:31,725 root         INFO     Getting sync events from the wav sync channel\n",
      "2021-11-23 16:18:32,867 root         INFO     saving sync events of the wav channel to /mnt/sphere/speech_bci/derived_data/z_g19o17_21/2021-04-24/sglx/1029_dir_g1/wav_sync_evt.npy\n",
      "2021-11-23 16:18:32,896 root         INFO     saving t0 for wav channel to /mnt/sphere/speech_bci/derived_data/z_g19o17_21/2021-04-24/sglx/1029_dir_g1/wav_t0.npy\n",
      "2021-11-23 16:18:47,257 root         INFO     saving sync dict to /mnt/sphere/speech_bci/derived_data/z_g19o17_21/2021-04-24/sglx/1029_dir_g1/wav_sync_dict.pkl\n",
      "2021-11-23 16:18:47,264 root         INFO     PREPROCESSING sess 2021-04-24 | epoch 1635_dir_g0\n",
      "2021-11-23 16:18:47,265 root         INFO     getting extractors\n",
      "<ipython-input-9-806dc1939534>:17: UserWarning: Error in epoch 1635_dir_g0\n",
      "  warnings.warn('Error in epoch {}'.format(epoch), UserWarning)\n",
      "2021-11-23 16:18:47,356 root         INFO     <function format_exc at 0x7f9faeb55430>\n",
      "2021-11-23 16:18:47,357 root         INFO     'fileSizeBytes'\n",
      "2021-11-23 16:18:47,358 root         INFO     Session 2021-04-24 epoch 1635_dir_g0 could not be preprocessed\n",
      "2021-11-23 16:18:47,359 root         INFO     PREPROCESSING sess 2021-04-24 | epoch first_plug_g0\n",
      "2021-11-23 16:18:47,360 root         INFO     getting extractors\n",
      "2021-11-23 16:18:47,509 root         INFO     Getting microphone channel(s) ['microphone_0']\n",
      "2021-11-23 16:18:47,510 ceciestunepipe.util.wavutil INFO     sampling rate 25000\n",
      "2021-11-23 16:18:47,512 ceciestunepipe.util.wavutil INFO     saving (1, 1671808)-shaped array as wav in /mnt/sphere/speech_bci/derived_data/z_g19o17_21/2021-04-24/sglx/first_plug_g0/wav_mic.wav\n",
      "2021-11-23 16:18:47,897 ceciestunepipe.util.wavutil INFO     saving (1, 1671808)-shaped array as npy in /mnt/sphere/speech_bci/derived_data/z_g19o17_21/2021-04-24/sglx/first_plug_g0/wav_mic.npy\n",
      "2021-11-23 16:18:48,020 root         INFO     Getting sync channel(s) ['sync']\n",
      "2021-11-23 16:18:48,021 ceciestunepipe.util.spikeextractors.extractors.spikeglxrecordingextractor.spikeglxrecordingextractor INFO     getting ttl traces, chan range(0, 7)\n",
      "2021-11-23 16:18:48,054 ceciestunepipe.util.wavutil INFO     sampling rate 25000\n",
      "2021-11-23 16:18:48,054 ceciestunepipe.util.wavutil INFO     saving (1, 1671808)-shaped array as wav in /mnt/sphere/speech_bci/derived_data/z_g19o17_21/2021-04-24/sglx/first_plug_g0/wav_sync.wav\n",
      "2021-11-23 16:18:48,090 ceciestunepipe.util.wavutil INFO     saving (1, 1671808)-shaped array as npy in /mnt/sphere/speech_bci/derived_data/z_g19o17_21/2021-04-24/sglx/first_plug_g0/wav_sync.npy\n",
      "2021-11-23 16:18:48,148 root         INFO     Getting sync events from the wav sync channel\n",
      "2021-11-23 16:18:48,163 root         INFO     saving sync events of the wav channel to /mnt/sphere/speech_bci/derived_data/z_g19o17_21/2021-04-24/sglx/first_plug_g0/wav_sync_evt.npy\n",
      "2021-11-23 16:18:48,166 root         INFO     saving t0 for wav channel to /mnt/sphere/speech_bci/derived_data/z_g19o17_21/2021-04-24/sglx/first_plug_g0/wav_t0.npy\n",
      "2021-11-23 16:18:48,305 root         INFO     saving sync dict to /mnt/sphere/speech_bci/derived_data/z_g19o17_21/2021-04-24/sglx/first_plug_g0/wav_sync_dict.pkl\n",
      "2021-11-23 16:18:48,308 root         INFO     PREPROCESSING sess 2021-04-24 | epoch first_plug_g1\n",
      "2021-11-23 16:18:48,309 root         INFO     getting extractors\n",
      "2021-11-23 16:18:48,455 root         INFO     Getting microphone channel(s) ['microphone_0']\n",
      "2021-11-23 16:18:48,456 ceciestunepipe.util.wavutil INFO     sampling rate 25000\n",
      "2021-11-23 16:18:48,456 ceciestunepipe.util.wavutil INFO     saving (1, 4791553)-shaped array as wav in /mnt/sphere/speech_bci/derived_data/z_g19o17_21/2021-04-24/sglx/first_plug_g1/wav_mic.wav\n",
      "2021-11-23 16:18:49,406 ceciestunepipe.util.wavutil INFO     saving (1, 4791553)-shaped array as npy in /mnt/sphere/speech_bci/derived_data/z_g19o17_21/2021-04-24/sglx/first_plug_g1/wav_mic.npy\n",
      "2021-11-23 16:18:49,698 root         INFO     Getting sync channel(s) ['sync']\n",
      "2021-11-23 16:18:49,699 ceciestunepipe.util.spikeextractors.extractors.spikeglxrecordingextractor.spikeglxrecordingextractor INFO     getting ttl traces, chan range(0, 7)\n",
      "2021-11-23 16:18:49,819 ceciestunepipe.util.wavutil INFO     sampling rate 25000\n",
      "2021-11-23 16:18:49,820 ceciestunepipe.util.wavutil INFO     saving (1, 4791553)-shaped array as wav in /mnt/sphere/speech_bci/derived_data/z_g19o17_21/2021-04-24/sglx/first_plug_g1/wav_sync.wav\n",
      "2021-11-23 16:18:49,912 ceciestunepipe.util.wavutil INFO     saving (1, 4791553)-shaped array as npy in /mnt/sphere/speech_bci/derived_data/z_g19o17_21/2021-04-24/sglx/first_plug_g1/wav_sync.npy\n",
      "2021-11-23 16:18:50,006 root         INFO     Getting sync events from the wav sync channel\n",
      "2021-11-23 16:18:50,046 root         INFO     saving sync events of the wav channel to /mnt/sphere/speech_bci/derived_data/z_g19o17_21/2021-04-24/sglx/first_plug_g1/wav_sync_evt.npy\n",
      "2021-11-23 16:18:50,050 root         INFO     saving t0 for wav channel to /mnt/sphere/speech_bci/derived_data/z_g19o17_21/2021-04-24/sglx/first_plug_g1/wav_t0.npy\n",
      "2021-11-23 16:18:50,444 root         INFO     saving sync dict to /mnt/sphere/speech_bci/derived_data/z_g19o17_21/2021-04-24/sglx/first_plug_g1/wav_sync_dict.pkl\n",
      "2021-11-23 16:18:50,447 root         INFO     PREPROCESSING sess 2021-04-24 | epoch first_plug_second_run_g0\n",
      "2021-11-23 16:18:50,448 root         INFO     getting extractors\n",
      "2021-11-23 16:18:50,578 root         INFO     Getting microphone channel(s) ['microphone_0']\n",
      "2021-11-23 16:18:50,579 ceciestunepipe.util.wavutil INFO     sampling rate 25000\n",
      "2021-11-23 16:18:50,580 ceciestunepipe.util.wavutil INFO     saving (1, 3889889)-shaped array as wav in /mnt/sphere/speech_bci/derived_data/z_g19o17_21/2021-04-24/sglx/first_plug_second_run_g0/wav_mic.wav\n",
      "2021-11-23 16:18:51,342 ceciestunepipe.util.wavutil INFO     saving (1, 3889889)-shaped array as npy in /mnt/sphere/speech_bci/derived_data/z_g19o17_21/2021-04-24/sglx/first_plug_second_run_g0/wav_mic.npy\n",
      "2021-11-23 16:18:51,580 root         INFO     Getting sync channel(s) ['sync']\n",
      "2021-11-23 16:18:51,581 ceciestunepipe.util.spikeextractors.extractors.spikeglxrecordingextractor.spikeglxrecordingextractor INFO     getting ttl traces, chan range(0, 7)\n",
      "2021-11-23 16:18:51,668 ceciestunepipe.util.wavutil INFO     sampling rate 25000\n",
      "2021-11-23 16:18:51,668 ceciestunepipe.util.wavutil INFO     saving (1, 3889889)-shaped array as wav in /mnt/sphere/speech_bci/derived_data/z_g19o17_21/2021-04-24/sglx/first_plug_second_run_g0/wav_sync.wav\n",
      "2021-11-23 16:18:51,744 ceciestunepipe.util.wavutil INFO     saving (1, 3889889)-shaped array as npy in /mnt/sphere/speech_bci/derived_data/z_g19o17_21/2021-04-24/sglx/first_plug_second_run_g0/wav_sync.npy\n",
      "2021-11-23 16:18:51,823 root         INFO     Getting sync events from the wav sync channel\n",
      "2021-11-23 16:18:51,857 root         INFO     saving sync events of the wav channel to /mnt/sphere/speech_bci/derived_data/z_g19o17_21/2021-04-24/sglx/first_plug_second_run_g0/wav_sync_evt.npy\n",
      "2021-11-23 16:18:51,861 root         INFO     saving t0 for wav channel to /mnt/sphere/speech_bci/derived_data/z_g19o17_21/2021-04-24/sglx/first_plug_second_run_g0/wav_t0.npy\n",
      "2021-11-23 16:18:52,178 root         INFO     saving sync dict to /mnt/sphere/speech_bci/derived_data/z_g19o17_21/2021-04-24/sglx/first_plug_second_run_g0/wav_sync_dict.pkl\n",
      "2021-11-23 16:18:52,309 root         INFO     pre-process all runs of sess 2021-04-25\n",
      "2021-11-23 16:18:52,310 ceciestunepipe.file.bcistructure INFO     {'folders': {'bird': '/mnt/sphere/speech_bci/raw_data/z_g19o17_21', 'raw': '/mnt/sphere/speech_bci/raw_data/z_g19o17_21/2021-04-25', 'sglx': '/mnt/sphere/speech_bci/raw_data/z_g19o17_21/2021-04-25/sglx', 'kwik': '/experiment/z_g19o17_21/sglx/kwik/2021-04-25', 'processed': '/mnt/sphere/speech_bci/processed_data/z_g19o17_21/2021-04-25/sglx', 'derived': '/mnt/sphere/speech_bci/derived_data/z_g19o17_21/2021-04-25/sglx', 'tmp': '/experiment/tmp/tmp', 'msort': '/experiment/tmp/z_g19o17_21/sglx/msort/2021-04-25', 'ksort': '/experiment/tmp/z_g19o17_21/sglx/ksort/2021-04-25/2', 'sort': '/mnt/sphere/speech_bci/derived_data/z_g19o17_21/2021-04-25/sglx/2'}, 'files': {'par': '/experiment/tmp/z_g19o17_21/sglx/ksort/2021-04-25/2/params.json', 'set': '/mnt/sphere/speech_bci/raw_data/z_g19o17_21/2021-04-25/sglx/settings.isf', 'rig': '/mnt/sphere/speech_bci/raw_data/z_g19o17_21/2021-04-25/sglx/rig.json', 'kwd': '/experiment/z_g19o17_21/sglx/kwik/2021-04-25/stream.kwd', 'kwik': '/experiment/z_g19o17_21/sglx/kwik/2021-04-25/sort_2/spikes.kwik', 'kwe': '/experiment/z_g19o17_21/sglx/kwik/2021-04-25/events.kwe', 'dat_mic': '/mnt/sphere/speech_bci/processed_data/z_g19o17_21/2021-04-25/sglx/dat_mic.mat', 'dat_ap': '/mnt/sphere/speech_bci/processed_data/z_g19o17_21/2021-04-25/sglx/dat_ap.mat', 'allevents': '/mnt/sphere/speech_bci/processed_data/z_g19o17_21/2021-04-25/sglx/dat_all.pkl', 'wav_mic': '/mnt/sphere/speech_bci/derived_data/z_g19o17_21/2021-04-25/sglx/wav_mic.wav', 'mda_raw': '/experiment/tmp/z_g19o17_21/sglx/msort/2021-04-25/raw.mda', 'bin_raw': '/experiment/tmp/z_g19o17_21/sglx/ksort/2021-04-25/2/raw.bin'}}\n",
      "2021-11-23 16:18:52,331 root         INFO     found epochs: ['1025_undir_g0']\n",
      "2021-11-23 16:18:52,332 root         INFO     PREPROCESSING sess 2021-04-25 | epoch 1025_undir_g0\n",
      "2021-11-23 16:18:52,333 root         INFO     getting extractors\n",
      "2021-11-23 16:18:52,499 root         INFO     Getting microphone channel(s) ['microphone_0']\n",
      "2021-11-23 16:18:52,500 ceciestunepipe.util.wavutil INFO     sampling rate 25000\n",
      "2021-11-23 16:18:52,501 ceciestunepipe.util.wavutil INFO     saving (1, 193689345)-shaped array as wav in /mnt/sphere/speech_bci/derived_data/z_g19o17_21/2021-04-25/sglx/1025_undir_g0/wav_mic.wav\n",
      "2021-11-23 16:19:26,489 ceciestunepipe.util.wavutil INFO     saving (1, 193689345)-shaped array as npy in /mnt/sphere/speech_bci/derived_data/z_g19o17_21/2021-04-25/sglx/1025_undir_g0/wav_mic.npy\n",
      "2021-11-23 16:19:35,976 root         INFO     Getting sync channel(s) ['sync']\n",
      "2021-11-23 16:19:35,977 ceciestunepipe.util.spikeextractors.extractors.spikeglxrecordingextractor.spikeglxrecordingextractor INFO     getting ttl traces, chan range(0, 7)\n",
      "2021-11-23 16:19:40,019 ceciestunepipe.util.wavutil INFO     sampling rate 25000\n",
      "2021-11-23 16:19:40,019 ceciestunepipe.util.wavutil INFO     saving (1, 193689345)-shaped array as wav in /mnt/sphere/speech_bci/derived_data/z_g19o17_21/2021-04-25/sglx/1025_undir_g0/wav_sync.wav\n",
      "2021-11-23 16:19:43,596 ceciestunepipe.util.wavutil INFO     saving (1, 193689345)-shaped array as npy in /mnt/sphere/speech_bci/derived_data/z_g19o17_21/2021-04-25/sglx/1025_undir_g0/wav_sync.npy\n",
      "2021-11-23 16:19:47,159 root         INFO     Getting sync events from the wav sync channel\n",
      "2021-11-23 16:19:48,387 root         INFO     saving sync events of the wav channel to /mnt/sphere/speech_bci/derived_data/z_g19o17_21/2021-04-25/sglx/1025_undir_g0/wav_sync_evt.npy\n",
      "2021-11-23 16:19:48,393 root         INFO     saving t0 for wav channel to /mnt/sphere/speech_bci/derived_data/z_g19o17_21/2021-04-25/sglx/1025_undir_g0/wav_t0.npy\n",
      "2021-11-23 16:20:03,527 root         INFO     saving sync dict to /mnt/sphere/speech_bci/derived_data/z_g19o17_21/2021-04-25/sglx/1025_undir_g0/wav_sync_dict.pkl\n",
      "2021-11-23 16:20:03,666 root         INFO     pre-process all runs of sess 2021-04-26\n",
      "2021-11-23 16:20:03,667 ceciestunepipe.file.bcistructure INFO     {'folders': {'bird': '/mnt/sphere/speech_bci/raw_data/z_g19o17_21', 'raw': '/mnt/sphere/speech_bci/raw_data/z_g19o17_21/2021-04-26', 'sglx': '/mnt/sphere/speech_bci/raw_data/z_g19o17_21/2021-04-26/sglx', 'kwik': '/experiment/z_g19o17_21/sglx/kwik/2021-04-26', 'processed': '/mnt/sphere/speech_bci/processed_data/z_g19o17_21/2021-04-26/sglx', 'derived': '/mnt/sphere/speech_bci/derived_data/z_g19o17_21/2021-04-26/sglx', 'tmp': '/experiment/tmp/tmp', 'msort': '/experiment/tmp/z_g19o17_21/sglx/msort/2021-04-26', 'ksort': '/experiment/tmp/z_g19o17_21/sglx/ksort/2021-04-26/2', 'sort': '/mnt/sphere/speech_bci/derived_data/z_g19o17_21/2021-04-26/sglx/2'}, 'files': {'par': '/experiment/tmp/z_g19o17_21/sglx/ksort/2021-04-26/2/params.json', 'set': '/mnt/sphere/speech_bci/raw_data/z_g19o17_21/2021-04-26/sglx/settings.isf', 'rig': '/mnt/sphere/speech_bci/raw_data/z_g19o17_21/2021-04-26/sglx/rig.json', 'kwd': '/experiment/z_g19o17_21/sglx/kwik/2021-04-26/stream.kwd', 'kwik': '/experiment/z_g19o17_21/sglx/kwik/2021-04-26/sort_2/spikes.kwik', 'kwe': '/experiment/z_g19o17_21/sglx/kwik/2021-04-26/events.kwe', 'dat_mic': '/mnt/sphere/speech_bci/processed_data/z_g19o17_21/2021-04-26/sglx/dat_mic.mat', 'dat_ap': '/mnt/sphere/speech_bci/processed_data/z_g19o17_21/2021-04-26/sglx/dat_ap.mat', 'allevents': '/mnt/sphere/speech_bci/processed_data/z_g19o17_21/2021-04-26/sglx/dat_all.pkl', 'wav_mic': '/mnt/sphere/speech_bci/derived_data/z_g19o17_21/2021-04-26/sglx/wav_mic.wav', 'mda_raw': '/experiment/tmp/z_g19o17_21/sglx/msort/2021-04-26/raw.mda', 'bin_raw': '/experiment/tmp/z_g19o17_21/sglx/ksort/2021-04-26/2/raw.bin'}}\n",
      "2021-11-23 16:20:03,767 root         INFO     found epochs: ['1227_undir_g0', '1259_dir_g0', '1701_female_dig_pin_g0']\n",
      "2021-11-23 16:20:03,768 root         INFO     PREPROCESSING sess 2021-04-26 | epoch 1227_undir_g0\n",
      "2021-11-23 16:20:03,769 root         INFO     getting extractors\n",
      "2021-11-23 16:20:04,022 root         INFO     Getting microphone channel(s) ['microphone_0']\n",
      "2021-11-23 16:20:04,023 ceciestunepipe.util.wavutil INFO     sampling rate 25000\n",
      "2021-11-23 16:20:04,023 ceciestunepipe.util.wavutil INFO     saving (1, 137328065)-shaped array as wav in /mnt/sphere/speech_bci/derived_data/z_g19o17_21/2021-04-26/sglx/1227_undir_g0/wav_mic.wav\n",
      "2021-11-23 16:20:28,256 ceciestunepipe.util.wavutil INFO     saving (1, 137328065)-shaped array as npy in /mnt/sphere/speech_bci/derived_data/z_g19o17_21/2021-04-26/sglx/1227_undir_g0/wav_mic.npy\n",
      "2021-11-23 16:20:35,073 root         INFO     Getting sync channel(s) ['sync']\n",
      "2021-11-23 16:20:35,074 ceciestunepipe.util.spikeextractors.extractors.spikeglxrecordingextractor.spikeglxrecordingextractor INFO     getting ttl traces, chan range(0, 7)\n",
      "2021-11-23 16:20:37,964 ceciestunepipe.util.wavutil INFO     sampling rate 25000\n",
      "2021-11-23 16:20:37,965 ceciestunepipe.util.wavutil INFO     saving (1, 137328065)-shaped array as wav in /mnt/sphere/speech_bci/derived_data/z_g19o17_21/2021-04-26/sglx/1227_undir_g0/wav_sync.wav\n",
      "2021-11-23 16:20:40,506 ceciestunepipe.util.wavutil INFO     saving (1, 137328065)-shaped array as npy in /mnt/sphere/speech_bci/derived_data/z_g19o17_21/2021-04-26/sglx/1227_undir_g0/wav_sync.npy\n",
      "2021-11-23 16:20:43,053 root         INFO     Getting sync events from the wav sync channel\n",
      "2021-11-23 16:20:43,960 root         INFO     saving sync events of the wav channel to /mnt/sphere/speech_bci/derived_data/z_g19o17_21/2021-04-26/sglx/1227_undir_g0/wav_sync_evt.npy\n",
      "2021-11-23 16:20:43,982 root         INFO     saving t0 for wav channel to /mnt/sphere/speech_bci/derived_data/z_g19o17_21/2021-04-26/sglx/1227_undir_g0/wav_t0.npy\n",
      "2021-11-23 16:20:54,740 root         INFO     saving sync dict to /mnt/sphere/speech_bci/derived_data/z_g19o17_21/2021-04-26/sglx/1227_undir_g0/wav_sync_dict.pkl\n",
      "2021-11-23 16:20:54,746 root         INFO     PREPROCESSING sess 2021-04-26 | epoch 1259_dir_g0\n",
      "2021-11-23 16:20:54,746 root         INFO     getting extractors\n",
      "<ipython-input-9-806dc1939534>:17: UserWarning: Error in epoch 1259_dir_g0\n",
      "  warnings.warn('Error in epoch {}'.format(epoch), UserWarning)\n",
      "2021-11-23 16:20:54,962 root         INFO     <function format_exc at 0x7f9faeb55430>\n",
      "2021-11-23 16:20:54,963 root         INFO     'fileSizeBytes'\n",
      "2021-11-23 16:20:54,963 root         INFO     Session 2021-04-26 epoch 1259_dir_g0 could not be preprocessed\n",
      "2021-11-23 16:20:54,964 root         INFO     PREPROCESSING sess 2021-04-26 | epoch 1701_female_dig_pin_g0\n",
      "2021-11-23 16:20:54,965 root         INFO     getting extractors\n",
      "2021-11-23 16:20:55,284 root         INFO     Getting microphone channel(s) ['microphone_0']\n",
      "2021-11-23 16:20:55,285 ceciestunepipe.util.wavutil INFO     sampling rate 25000\n",
      "2021-11-23 16:20:55,286 ceciestunepipe.util.wavutil INFO     saving (1, 219754753)-shaped array as wav in /mnt/sphere/speech_bci/derived_data/z_g19o17_21/2021-04-26/sglx/1701_female_dig_pin_g0/wav_mic.wav\n",
      "2021-11-23 16:21:33,780 ceciestunepipe.util.wavutil INFO     saving (1, 219754753)-shaped array as npy in /mnt/sphere/speech_bci/derived_data/z_g19o17_21/2021-04-26/sglx/1701_female_dig_pin_g0/wav_mic.npy\n",
      "2021-11-23 16:21:44,564 root         INFO     Getting sync channel(s) ['sync']\n",
      "2021-11-23 16:21:44,565 ceciestunepipe.util.spikeextractors.extractors.spikeglxrecordingextractor.spikeglxrecordingextractor INFO     getting ttl traces, chan range(0, 7)\n",
      "2021-11-23 16:21:49,163 ceciestunepipe.util.wavutil INFO     sampling rate 25000\n",
      "2021-11-23 16:21:49,164 ceciestunepipe.util.wavutil INFO     saving (1, 219754753)-shaped array as wav in /mnt/sphere/speech_bci/derived_data/z_g19o17_21/2021-04-26/sglx/1701_female_dig_pin_g0/wav_sync.wav\n",
      "2021-11-23 16:21:53,180 ceciestunepipe.util.wavutil INFO     saving (1, 219754753)-shaped array as npy in /mnt/sphere/speech_bci/derived_data/z_g19o17_21/2021-04-26/sglx/1701_female_dig_pin_g0/wav_sync.npy\n",
      "2021-11-23 16:21:57,252 root         INFO     Getting sync events from the wav sync channel\n",
      "2021-11-23 16:21:58,631 root         INFO     saving sync events of the wav channel to /mnt/sphere/speech_bci/derived_data/z_g19o17_21/2021-04-26/sglx/1701_female_dig_pin_g0/wav_sync_evt.npy\n",
      "2021-11-23 16:21:58,653 root         INFO     saving t0 for wav channel to /mnt/sphere/speech_bci/derived_data/z_g19o17_21/2021-04-26/sglx/1701_female_dig_pin_g0/wav_t0.npy\n",
      "2021-11-23 16:22:15,831 root         INFO     saving sync dict to /mnt/sphere/speech_bci/derived_data/z_g19o17_21/2021-04-26/sglx/1701_female_dig_pin_g0/wav_sync_dict.pkl\n",
      "2021-11-23 16:22:15,977 root         INFO     pre-process all runs of sess 2021-04-27\n",
      "2021-11-23 16:22:15,978 ceciestunepipe.file.bcistructure INFO     {'folders': {'bird': '/mnt/sphere/speech_bci/raw_data/z_g19o17_21', 'raw': '/mnt/sphere/speech_bci/raw_data/z_g19o17_21/2021-04-27', 'sglx': '/mnt/sphere/speech_bci/raw_data/z_g19o17_21/2021-04-27/sglx', 'kwik': '/experiment/z_g19o17_21/sglx/kwik/2021-04-27', 'processed': '/mnt/sphere/speech_bci/processed_data/z_g19o17_21/2021-04-27/sglx', 'derived': '/mnt/sphere/speech_bci/derived_data/z_g19o17_21/2021-04-27/sglx', 'tmp': '/experiment/tmp/tmp', 'msort': '/experiment/tmp/z_g19o17_21/sglx/msort/2021-04-27', 'ksort': '/experiment/tmp/z_g19o17_21/sglx/ksort/2021-04-27/2', 'sort': '/mnt/sphere/speech_bci/derived_data/z_g19o17_21/2021-04-27/sglx/2'}, 'files': {'par': '/experiment/tmp/z_g19o17_21/sglx/ksort/2021-04-27/2/params.json', 'set': '/mnt/sphere/speech_bci/raw_data/z_g19o17_21/2021-04-27/sglx/settings.isf', 'rig': '/mnt/sphere/speech_bci/raw_data/z_g19o17_21/2021-04-27/sglx/rig.json', 'kwd': '/experiment/z_g19o17_21/sglx/kwik/2021-04-27/stream.kwd', 'kwik': '/experiment/z_g19o17_21/sglx/kwik/2021-04-27/sort_2/spikes.kwik', 'kwe': '/experiment/z_g19o17_21/sglx/kwik/2021-04-27/events.kwe', 'dat_mic': '/mnt/sphere/speech_bci/processed_data/z_g19o17_21/2021-04-27/sglx/dat_mic.mat', 'dat_ap': '/mnt/sphere/speech_bci/processed_data/z_g19o17_21/2021-04-27/sglx/dat_ap.mat', 'allevents': '/mnt/sphere/speech_bci/processed_data/z_g19o17_21/2021-04-27/sglx/dat_all.pkl', 'wav_mic': '/mnt/sphere/speech_bci/derived_data/z_g19o17_21/2021-04-27/sglx/wav_mic.wav', 'mda_raw': '/experiment/tmp/z_g19o17_21/sglx/msort/2021-04-27/raw.mda', 'bin_raw': '/experiment/tmp/z_g19o17_21/sglx/ksort/2021-04-27/2/raw.bin'}}\n",
      "2021-11-23 16:22:16,047 root         INFO     found epochs: ['1114_female_dig_pin_g0', '1252_female_dig_pin_g0', '1500_female_dig_pin_g0']\n",
      "2021-11-23 16:22:16,048 root         INFO     PREPROCESSING sess 2021-04-27 | epoch 1114_female_dig_pin_g0\n",
      "2021-11-23 16:22:16,049 root         INFO     getting extractors\n",
      "2021-11-23 16:22:16,197 root         INFO     Getting microphone channel(s) ['microphone_0']\n",
      "2021-11-23 16:22:16,198 ceciestunepipe.util.wavutil INFO     sampling rate 25000\n",
      "2021-11-23 16:22:16,199 ceciestunepipe.util.wavutil INFO     saving (1, 146224032)-shaped array as wav in /mnt/sphere/speech_bci/derived_data/z_g19o17_21/2021-04-27/sglx/1114_female_dig_pin_g0/wav_mic.wav\n",
      "2021-11-23 16:22:42,204 ceciestunepipe.util.wavutil INFO     saving (1, 146224032)-shaped array as npy in /mnt/sphere/speech_bci/derived_data/z_g19o17_21/2021-04-27/sglx/1114_female_dig_pin_g0/wav_mic.npy\n",
      "2021-11-23 16:22:49,402 root         INFO     Getting sync channel(s) ['sync']\n",
      "2021-11-23 16:22:49,403 ceciestunepipe.util.spikeextractors.extractors.spikeglxrecordingextractor.spikeglxrecordingextractor INFO     getting ttl traces, chan range(0, 7)\n",
      "2021-11-23 16:22:52,459 ceciestunepipe.util.wavutil INFO     sampling rate 25000\n",
      "2021-11-23 16:22:52,459 ceciestunepipe.util.wavutil INFO     saving (1, 146224032)-shaped array as wav in /mnt/sphere/speech_bci/derived_data/z_g19o17_21/2021-04-27/sglx/1114_female_dig_pin_g0/wav_sync.wav\n",
      "2021-11-23 16:22:55,138 ceciestunepipe.util.wavutil INFO     saving (1, 146224032)-shaped array as npy in /mnt/sphere/speech_bci/derived_data/z_g19o17_21/2021-04-27/sglx/1114_female_dig_pin_g0/wav_sync.npy\n",
      "2021-11-23 16:22:57,852 root         INFO     Getting sync events from the wav sync channel\n",
      "2021-11-23 16:22:58,795 root         INFO     saving sync events of the wav channel to /mnt/sphere/speech_bci/derived_data/z_g19o17_21/2021-04-27/sglx/1114_female_dig_pin_g0/wav_sync_evt.npy\n",
      "2021-11-23 16:22:58,804 root         INFO     saving t0 for wav channel to /mnt/sphere/speech_bci/derived_data/z_g19o17_21/2021-04-27/sglx/1114_female_dig_pin_g0/wav_t0.npy\n",
      "2021-11-23 16:23:10,246 root         INFO     saving sync dict to /mnt/sphere/speech_bci/derived_data/z_g19o17_21/2021-04-27/sglx/1114_female_dig_pin_g0/wav_sync_dict.pkl\n",
      "2021-11-23 16:23:10,251 root         INFO     PREPROCESSING sess 2021-04-27 | epoch 1252_female_dig_pin_g0\n",
      "2021-11-23 16:23:10,252 root         INFO     getting extractors\n",
      "2021-11-23 16:23:10,423 root         INFO     Getting microphone channel(s) ['microphone_0']\n",
      "2021-11-23 16:23:10,424 ceciestunepipe.util.wavutil INFO     sampling rate 25000\n",
      "2021-11-23 16:23:10,425 ceciestunepipe.util.wavutil INFO     saving (1, 191813472)-shaped array as wav in /mnt/sphere/speech_bci/derived_data/z_g19o17_21/2021-04-27/sglx/1252_female_dig_pin_g0/wav_mic.wav\n",
      "2021-11-23 16:23:44,190 ceciestunepipe.util.wavutil INFO     saving (1, 191813472)-shaped array as npy in /mnt/sphere/speech_bci/derived_data/z_g19o17_21/2021-04-27/sglx/1252_female_dig_pin_g0/wav_mic.npy\n",
      "2021-11-23 16:23:53,660 root         INFO     Getting sync channel(s) ['sync']\n",
      "2021-11-23 16:23:53,661 ceciestunepipe.util.spikeextractors.extractors.spikeglxrecordingextractor.spikeglxrecordingextractor INFO     getting ttl traces, chan range(0, 7)\n",
      "2021-11-23 16:23:57,642 ceciestunepipe.util.wavutil INFO     sampling rate 25000\n",
      "2021-11-23 16:23:57,643 ceciestunepipe.util.wavutil INFO     saving (1, 191813472)-shaped array as wav in /mnt/sphere/speech_bci/derived_data/z_g19o17_21/2021-04-27/sglx/1252_female_dig_pin_g0/wav_sync.wav\n",
      "2021-11-23 16:24:01,237 ceciestunepipe.util.wavutil INFO     saving (1, 191813472)-shaped array as npy in /mnt/sphere/speech_bci/derived_data/z_g19o17_21/2021-04-27/sglx/1252_female_dig_pin_g0/wav_sync.npy\n",
      "2021-11-23 16:24:04,791 root         INFO     Getting sync events from the wav sync channel\n",
      "2021-11-23 16:24:06,028 root         INFO     saving sync events of the wav channel to /mnt/sphere/speech_bci/derived_data/z_g19o17_21/2021-04-27/sglx/1252_female_dig_pin_g0/wav_sync_evt.npy\n",
      "2021-11-23 16:24:06,045 root         INFO     saving t0 for wav channel to /mnt/sphere/speech_bci/derived_data/z_g19o17_21/2021-04-27/sglx/1252_female_dig_pin_g0/wav_t0.npy\n",
      "2021-11-23 16:24:21,037 root         INFO     saving sync dict to /mnt/sphere/speech_bci/derived_data/z_g19o17_21/2021-04-27/sglx/1252_female_dig_pin_g0/wav_sync_dict.pkl\n",
      "2021-11-23 16:24:21,056 root         INFO     PREPROCESSING sess 2021-04-27 | epoch 1500_female_dig_pin_g0\n",
      "2021-11-23 16:24:21,056 root         INFO     getting extractors\n",
      "<ipython-input-9-806dc1939534>:17: UserWarning: Error in epoch 1500_female_dig_pin_g0\n",
      "  warnings.warn('Error in epoch {}'.format(epoch), UserWarning)\n",
      "2021-11-23 16:24:21,204 root         INFO     <function format_exc at 0x7f9faeb55430>\n",
      "2021-11-23 16:24:21,204 root         INFO     'fileSizeBytes'\n",
      "2021-11-23 16:24:21,205 root         INFO     Session 2021-04-27 epoch 1500_female_dig_pin_g0 could not be preprocessed\n",
      "2021-11-23 16:24:21,364 root         INFO     pre-process all runs of sess 2021-04-28\n",
      "2021-11-23 16:24:21,364 ceciestunepipe.file.bcistructure INFO     {'folders': {'bird': '/mnt/sphere/speech_bci/raw_data/z_g19o17_21', 'raw': '/mnt/sphere/speech_bci/raw_data/z_g19o17_21/2021-04-28', 'sglx': '/mnt/sphere/speech_bci/raw_data/z_g19o17_21/2021-04-28/sglx', 'kwik': '/experiment/z_g19o17_21/sglx/kwik/2021-04-28', 'processed': '/mnt/sphere/speech_bci/processed_data/z_g19o17_21/2021-04-28/sglx', 'derived': '/mnt/sphere/speech_bci/derived_data/z_g19o17_21/2021-04-28/sglx', 'tmp': '/experiment/tmp/tmp', 'msort': '/experiment/tmp/z_g19o17_21/sglx/msort/2021-04-28', 'ksort': '/experiment/tmp/z_g19o17_21/sglx/ksort/2021-04-28/2', 'sort': '/mnt/sphere/speech_bci/derived_data/z_g19o17_21/2021-04-28/sglx/2'}, 'files': {'par': '/experiment/tmp/z_g19o17_21/sglx/ksort/2021-04-28/2/params.json', 'set': '/mnt/sphere/speech_bci/raw_data/z_g19o17_21/2021-04-28/sglx/settings.isf', 'rig': '/mnt/sphere/speech_bci/raw_data/z_g19o17_21/2021-04-28/sglx/rig.json', 'kwd': '/experiment/z_g19o17_21/sglx/kwik/2021-04-28/stream.kwd', 'kwik': '/experiment/z_g19o17_21/sglx/kwik/2021-04-28/sort_2/spikes.kwik', 'kwe': '/experiment/z_g19o17_21/sglx/kwik/2021-04-28/events.kwe', 'dat_mic': '/mnt/sphere/speech_bci/processed_data/z_g19o17_21/2021-04-28/sglx/dat_mic.mat', 'dat_ap': '/mnt/sphere/speech_bci/processed_data/z_g19o17_21/2021-04-28/sglx/dat_ap.mat', 'allevents': '/mnt/sphere/speech_bci/processed_data/z_g19o17_21/2021-04-28/sglx/dat_all.pkl', 'wav_mic': '/mnt/sphere/speech_bci/derived_data/z_g19o17_21/2021-04-28/sglx/wav_mic.wav', 'mda_raw': '/experiment/tmp/z_g19o17_21/sglx/msort/2021-04-28/raw.mda', 'bin_raw': '/experiment/tmp/z_g19o17_21/sglx/ksort/2021-04-28/2/raw.bin'}}\n",
      "2021-11-23 16:24:21,397 root         INFO     found epochs: ['1006_female_dig_pin_g0', '1246_female_dig_pin_g0']\n",
      "2021-11-23 16:24:21,398 root         INFO     PREPROCESSING sess 2021-04-28 | epoch 1006_female_dig_pin_g0\n",
      "2021-11-23 16:24:21,399 root         INFO     getting extractors\n",
      "2021-11-23 16:24:21,529 root         INFO     Getting microphone channel(s) ['microphone_0']\n",
      "2021-11-23 16:24:21,530 ceciestunepipe.util.wavutil INFO     sampling rate 25000\n",
      "2021-11-23 16:24:21,531 ceciestunepipe.util.wavutil INFO     saving (1, 239330464)-shaped array as wav in /mnt/sphere/speech_bci/derived_data/z_g19o17_21/2021-04-28/sglx/1006_female_dig_pin_g0/wav_mic.wav\n",
      "2021-11-23 16:25:03,585 ceciestunepipe.util.wavutil INFO     saving (1, 239330464)-shaped array as npy in /mnt/sphere/speech_bci/derived_data/z_g19o17_21/2021-04-28/sglx/1006_female_dig_pin_g0/wav_mic.npy\n",
      "2021-11-23 16:25:15,392 root         INFO     Getting sync channel(s) ['sync']\n",
      "2021-11-23 16:25:15,393 ceciestunepipe.util.spikeextractors.extractors.spikeglxrecordingextractor.spikeglxrecordingextractor INFO     getting ttl traces, chan range(0, 7)\n",
      "2021-11-23 16:25:20,376 ceciestunepipe.util.wavutil INFO     sampling rate 25000\n",
      "2021-11-23 16:25:20,377 ceciestunepipe.util.wavutil INFO     saving (1, 239330464)-shaped array as wav in /mnt/sphere/speech_bci/derived_data/z_g19o17_21/2021-04-28/sglx/1006_female_dig_pin_g0/wav_sync.wav\n",
      "2021-11-23 16:25:24,756 ceciestunepipe.util.wavutil INFO     saving (1, 239330464)-shaped array as npy in /mnt/sphere/speech_bci/derived_data/z_g19o17_21/2021-04-28/sglx/1006_female_dig_pin_g0/wav_sync.npy\n",
      "2021-11-23 16:25:29,164 root         INFO     Getting sync events from the wav sync channel\n",
      "2021-11-23 16:25:30,677 root         INFO     saving sync events of the wav channel to /mnt/sphere/speech_bci/derived_data/z_g19o17_21/2021-04-28/sglx/1006_female_dig_pin_g0/wav_sync_evt.npy\n",
      "2021-11-23 16:25:30,700 root         INFO     saving t0 for wav channel to /mnt/sphere/speech_bci/derived_data/z_g19o17_21/2021-04-28/sglx/1006_female_dig_pin_g0/wav_t0.npy\n",
      "2021-11-23 16:25:49,400 root         INFO     saving sync dict to /mnt/sphere/speech_bci/derived_data/z_g19o17_21/2021-04-28/sglx/1006_female_dig_pin_g0/wav_sync_dict.pkl\n",
      "2021-11-23 16:25:49,406 root         INFO     PREPROCESSING sess 2021-04-28 | epoch 1246_female_dig_pin_g0\n",
      "2021-11-23 16:25:49,407 root         INFO     getting extractors\n",
      "2021-11-23 16:25:49,650 root         INFO     Getting microphone channel(s) ['microphone_0']\n",
      "2021-11-23 16:25:49,651 ceciestunepipe.util.wavutil INFO     sampling rate 25000\n",
      "2021-11-23 16:25:49,652 ceciestunepipe.util.wavutil INFO     saving (1, 143040384)-shaped array as wav in /mnt/sphere/speech_bci/derived_data/z_g19o17_21/2021-04-28/sglx/1246_female_dig_pin_g0/wav_mic.wav\n",
      "2021-11-23 16:26:15,066 ceciestunepipe.util.wavutil INFO     saving (1, 143040384)-shaped array as npy in /mnt/sphere/speech_bci/derived_data/z_g19o17_21/2021-04-28/sglx/1246_female_dig_pin_g0/wav_mic.npy\n",
      "2021-11-23 16:26:22,060 root         INFO     Getting sync channel(s) ['sync']\n",
      "2021-11-23 16:26:22,061 ceciestunepipe.util.spikeextractors.extractors.spikeglxrecordingextractor.spikeglxrecordingextractor INFO     getting ttl traces, chan range(0, 7)\n",
      "2021-11-23 16:26:25,061 ceciestunepipe.util.wavutil INFO     sampling rate 25000\n",
      "2021-11-23 16:26:25,062 ceciestunepipe.util.wavutil INFO     saving (1, 143040384)-shaped array as wav in /mnt/sphere/speech_bci/derived_data/z_g19o17_21/2021-04-28/sglx/1246_female_dig_pin_g0/wav_sync.wav\n",
      "2021-11-23 16:26:27,683 ceciestunepipe.util.wavutil INFO     saving (1, 143040384)-shaped array as npy in /mnt/sphere/speech_bci/derived_data/z_g19o17_21/2021-04-28/sglx/1246_female_dig_pin_g0/wav_sync.npy\n",
      "2021-11-23 16:26:30,318 root         INFO     Getting sync events from the wav sync channel\n",
      "2021-11-23 16:26:31,242 root         INFO     saving sync events of the wav channel to /mnt/sphere/speech_bci/derived_data/z_g19o17_21/2021-04-28/sglx/1246_female_dig_pin_g0/wav_sync_evt.npy\n",
      "2021-11-23 16:26:31,264 root         INFO     saving t0 for wav channel to /mnt/sphere/speech_bci/derived_data/z_g19o17_21/2021-04-28/sglx/1246_female_dig_pin_g0/wav_t0.npy\n",
      "2021-11-23 16:26:42,458 root         INFO     saving sync dict to /mnt/sphere/speech_bci/derived_data/z_g19o17_21/2021-04-28/sglx/1246_female_dig_pin_g0/wav_sync_dict.pkl\n",
      "2021-11-23 16:26:42,661 root         INFO     pre-process all runs of sess 2021-04-29\n",
      "2021-11-23 16:26:42,662 ceciestunepipe.file.bcistructure INFO     {'folders': {'bird': '/mnt/sphere/speech_bci/raw_data/z_g19o17_21', 'raw': '/mnt/sphere/speech_bci/raw_data/z_g19o17_21/2021-04-29', 'sglx': '/mnt/sphere/speech_bci/raw_data/z_g19o17_21/2021-04-29/sglx', 'kwik': '/experiment/z_g19o17_21/sglx/kwik/2021-04-29', 'processed': '/mnt/sphere/speech_bci/processed_data/z_g19o17_21/2021-04-29/sglx', 'derived': '/mnt/sphere/speech_bci/derived_data/z_g19o17_21/2021-04-29/sglx', 'tmp': '/experiment/tmp/tmp', 'msort': '/experiment/tmp/z_g19o17_21/sglx/msort/2021-04-29', 'ksort': '/experiment/tmp/z_g19o17_21/sglx/ksort/2021-04-29/2', 'sort': '/mnt/sphere/speech_bci/derived_data/z_g19o17_21/2021-04-29/sglx/2'}, 'files': {'par': '/experiment/tmp/z_g19o17_21/sglx/ksort/2021-04-29/2/params.json', 'set': '/mnt/sphere/speech_bci/raw_data/z_g19o17_21/2021-04-29/sglx/settings.isf', 'rig': '/mnt/sphere/speech_bci/raw_data/z_g19o17_21/2021-04-29/sglx/rig.json', 'kwd': '/experiment/z_g19o17_21/sglx/kwik/2021-04-29/stream.kwd', 'kwik': '/experiment/z_g19o17_21/sglx/kwik/2021-04-29/sort_2/spikes.kwik', 'kwe': '/experiment/z_g19o17_21/sglx/kwik/2021-04-29/events.kwe', 'dat_mic': '/mnt/sphere/speech_bci/processed_data/z_g19o17_21/2021-04-29/sglx/dat_mic.mat', 'dat_ap': '/mnt/sphere/speech_bci/processed_data/z_g19o17_21/2021-04-29/sglx/dat_ap.mat', 'allevents': '/mnt/sphere/speech_bci/processed_data/z_g19o17_21/2021-04-29/sglx/dat_all.pkl', 'wav_mic': '/mnt/sphere/speech_bci/derived_data/z_g19o17_21/2021-04-29/sglx/wav_mic.wav', 'mda_raw': '/experiment/tmp/z_g19o17_21/sglx/msort/2021-04-29/raw.mda', 'bin_raw': '/experiment/tmp/z_g19o17_21/sglx/ksort/2021-04-29/2/raw.bin'}}\n",
      "2021-11-23 16:26:42,714 root         INFO     found epochs: ['803_female_dig_pin_g0']\n",
      "2021-11-23 16:26:42,715 root         INFO     PREPROCESSING sess 2021-04-29 | epoch 803_female_dig_pin_g0\n",
      "2021-11-23 16:26:42,716 root         INFO     getting extractors\n",
      "2021-11-23 16:26:42,927 root         INFO     Getting microphone channel(s) ['microphone_0']\n",
      "2021-11-23 16:26:42,928 ceciestunepipe.util.wavutil INFO     sampling rate 25000\n",
      "2021-11-23 16:26:42,928 ceciestunepipe.util.wavutil INFO     saving (1, 447356863)-shaped array as wav in /mnt/sphere/speech_bci/derived_data/z_g19o17_21/2021-04-29/sglx/803_female_dig_pin_g0/wav_mic.wav\n",
      "2021-11-23 16:28:01,279 ceciestunepipe.util.wavutil INFO     saving (1, 447356863)-shaped array as npy in /mnt/sphere/speech_bci/derived_data/z_g19o17_21/2021-04-29/sglx/803_female_dig_pin_g0/wav_mic.npy\n",
      "2021-11-23 16:28:23,205 root         INFO     Getting sync channel(s) ['sync']\n",
      "2021-11-23 16:28:23,206 ceciestunepipe.util.spikeextractors.extractors.spikeglxrecordingextractor.spikeglxrecordingextractor INFO     getting ttl traces, chan range(0, 7)\n",
      "2021-11-23 16:28:37,954 ceciestunepipe.util.wavutil INFO     sampling rate 25000\n",
      "2021-11-23 16:28:37,955 ceciestunepipe.util.wavutil INFO     saving (1, 447356863)-shaped array as wav in /mnt/sphere/speech_bci/derived_data/z_g19o17_21/2021-04-29/sglx/803_female_dig_pin_g0/wav_sync.wav\n",
      "2021-11-23 16:28:46,183 ceciestunepipe.util.wavutil INFO     saving (1, 447356863)-shaped array as npy in /mnt/sphere/speech_bci/derived_data/z_g19o17_21/2021-04-29/sglx/803_female_dig_pin_g0/wav_sync.npy\n",
      "2021-11-23 16:28:54,396 root         INFO     Getting sync events from the wav sync channel\n",
      "2021-11-23 16:28:57,310 root         INFO     saving sync events of the wav channel to /mnt/sphere/speech_bci/derived_data/z_g19o17_21/2021-04-29/sglx/803_female_dig_pin_g0/wav_sync_evt.npy\n",
      "2021-11-23 16:28:57,322 root         INFO     saving t0 for wav channel to /mnt/sphere/speech_bci/derived_data/z_g19o17_21/2021-04-29/sglx/803_female_dig_pin_g0/wav_t0.npy\n",
      "2021-11-23 16:29:37,503 root         INFO     saving sync dict to /mnt/sphere/speech_bci/derived_data/z_g19o17_21/2021-04-29/sglx/803_female_dig_pin_g0/wav_sync_dict.pkl\n",
      "2021-11-23 16:29:37,691 root         INFO     pre-process all runs of sess 2021-04-30\n",
      "2021-11-23 16:29:37,692 ceciestunepipe.file.bcistructure INFO     {'folders': {'bird': '/mnt/sphere/speech_bci/raw_data/z_g19o17_21', 'raw': '/mnt/sphere/speech_bci/raw_data/z_g19o17_21/2021-04-30', 'sglx': '/mnt/sphere/speech_bci/raw_data/z_g19o17_21/2021-04-30/sglx', 'kwik': '/experiment/z_g19o17_21/sglx/kwik/2021-04-30', 'processed': '/mnt/sphere/speech_bci/processed_data/z_g19o17_21/2021-04-30/sglx', 'derived': '/mnt/sphere/speech_bci/derived_data/z_g19o17_21/2021-04-30/sglx', 'tmp': '/experiment/tmp/tmp', 'msort': '/experiment/tmp/z_g19o17_21/sglx/msort/2021-04-30', 'ksort': '/experiment/tmp/z_g19o17_21/sglx/ksort/2021-04-30/2', 'sort': '/mnt/sphere/speech_bci/derived_data/z_g19o17_21/2021-04-30/sglx/2'}, 'files': {'par': '/experiment/tmp/z_g19o17_21/sglx/ksort/2021-04-30/2/params.json', 'set': '/mnt/sphere/speech_bci/raw_data/z_g19o17_21/2021-04-30/sglx/settings.isf', 'rig': '/mnt/sphere/speech_bci/raw_data/z_g19o17_21/2021-04-30/sglx/rig.json', 'kwd': '/experiment/z_g19o17_21/sglx/kwik/2021-04-30/stream.kwd', 'kwik': '/experiment/z_g19o17_21/sglx/kwik/2021-04-30/sort_2/spikes.kwik', 'kwe': '/experiment/z_g19o17_21/sglx/kwik/2021-04-30/events.kwe', 'dat_mic': '/mnt/sphere/speech_bci/processed_data/z_g19o17_21/2021-04-30/sglx/dat_mic.mat', 'dat_ap': '/mnt/sphere/speech_bci/processed_data/z_g19o17_21/2021-04-30/sglx/dat_ap.mat', 'allevents': '/mnt/sphere/speech_bci/processed_data/z_g19o17_21/2021-04-30/sglx/dat_all.pkl', 'wav_mic': '/mnt/sphere/speech_bci/derived_data/z_g19o17_21/2021-04-30/sglx/wav_mic.wav', 'mda_raw': '/experiment/tmp/z_g19o17_21/sglx/msort/2021-04-30/raw.mda', 'bin_raw': '/experiment/tmp/z_g19o17_21/sglx/ksort/2021-04-30/2/raw.bin'}}\n",
      "2021-11-23 16:29:37,780 root         INFO     found epochs: ['1144_doric_femalepin_g0', '1247_doric_femalepin_g0']\n",
      "2021-11-23 16:29:37,782 root         INFO     PREPROCESSING sess 2021-04-30 | epoch 1144_doric_femalepin_g0\n",
      "2021-11-23 16:29:37,783 root         INFO     getting extractors\n",
      "2021-11-23 16:29:37,979 root         INFO     Getting microphone channel(s) ['microphone_0']\n",
      "2021-11-23 16:29:37,980 ceciestunepipe.util.wavutil INFO     sampling rate 25000\n",
      "2021-11-23 16:29:37,981 ceciestunepipe.util.wavutil INFO     saving (1, 94203489)-shaped array as wav in /mnt/sphere/speech_bci/derived_data/z_g19o17_21/2021-04-30/sglx/1144_doric_femalepin_g0/wav_mic.wav\n",
      "2021-11-23 16:29:54,595 ceciestunepipe.util.wavutil INFO     saving (1, 94203489)-shaped array as npy in /mnt/sphere/speech_bci/derived_data/z_g19o17_21/2021-04-30/sglx/1144_doric_femalepin_g0/wav_mic.npy\n",
      "2021-11-23 16:29:59,327 root         INFO     Getting sync channel(s) ['sync']\n",
      "2021-11-23 16:29:59,328 ceciestunepipe.util.spikeextractors.extractors.spikeglxrecordingextractor.spikeglxrecordingextractor INFO     getting ttl traces, chan range(0, 7)\n",
      "2021-11-23 16:30:01,302 ceciestunepipe.util.wavutil INFO     sampling rate 25000\n",
      "2021-11-23 16:30:01,302 ceciestunepipe.util.wavutil INFO     saving (1, 94203489)-shaped array as wav in /mnt/sphere/speech_bci/derived_data/z_g19o17_21/2021-04-30/sglx/1144_doric_femalepin_g0/wav_sync.wav\n",
      "2021-11-23 16:30:03,037 ceciestunepipe.util.wavutil INFO     saving (1, 94203489)-shaped array as npy in /mnt/sphere/speech_bci/derived_data/z_g19o17_21/2021-04-30/sglx/1144_doric_femalepin_g0/wav_sync.npy\n",
      "2021-11-23 16:30:04,783 root         INFO     Getting sync events from the wav sync channel\n",
      "2021-11-23 16:30:05,418 root         INFO     saving sync events of the wav channel to /mnt/sphere/speech_bci/derived_data/z_g19o17_21/2021-04-30/sglx/1144_doric_femalepin_g0/wav_sync_evt.npy\n",
      "2021-11-23 16:30:05,424 root         INFO     saving t0 for wav channel to /mnt/sphere/speech_bci/derived_data/z_g19o17_21/2021-04-30/sglx/1144_doric_femalepin_g0/wav_t0.npy\n",
      "2021-11-23 16:30:12,798 root         INFO     saving sync dict to /mnt/sphere/speech_bci/derived_data/z_g19o17_21/2021-04-30/sglx/1144_doric_femalepin_g0/wav_sync_dict.pkl\n",
      "2021-11-23 16:30:12,803 root         INFO     PREPROCESSING sess 2021-04-30 | epoch 1247_doric_femalepin_g0\n",
      "2021-11-23 16:30:12,804 root         INFO     getting extractors\n",
      "2021-11-23 16:30:13,080 root         INFO     Getting microphone channel(s) ['microphone_0']\n",
      "2021-11-23 16:30:13,081 ceciestunepipe.util.wavutil INFO     sampling rate 25000\n",
      "2021-11-23 16:30:13,081 ceciestunepipe.util.wavutil INFO     saving (1, 167525504)-shaped array as wav in /mnt/sphere/speech_bci/derived_data/z_g19o17_21/2021-04-30/sglx/1247_doric_femalepin_g0/wav_mic.wav\n",
      "2021-11-23 16:30:42,724 ceciestunepipe.util.wavutil INFO     saving (1, 167525504)-shaped array as npy in /mnt/sphere/speech_bci/derived_data/z_g19o17_21/2021-04-30/sglx/1247_doric_femalepin_g0/wav_mic.npy\n",
      "2021-11-23 16:30:51,034 root         INFO     Getting sync channel(s) ['sync']\n",
      "2021-11-23 16:30:51,035 ceciestunepipe.util.spikeextractors.extractors.spikeglxrecordingextractor.spikeglxrecordingextractor INFO     getting ttl traces, chan range(0, 7)\n",
      "2021-11-23 16:30:54,522 ceciestunepipe.util.wavutil INFO     sampling rate 25000\n",
      "2021-11-23 16:30:54,523 ceciestunepipe.util.wavutil INFO     saving (1, 167525504)-shaped array as wav in /mnt/sphere/speech_bci/derived_data/z_g19o17_21/2021-04-30/sglx/1247_doric_femalepin_g0/wav_sync.wav\n",
      "2021-11-23 16:30:57,592 ceciestunepipe.util.wavutil INFO     saving (1, 167525504)-shaped array as npy in /mnt/sphere/speech_bci/derived_data/z_g19o17_21/2021-04-30/sglx/1247_doric_femalepin_g0/wav_sync.npy\n",
      "2021-11-23 16:31:00,714 root         INFO     Getting sync events from the wav sync channel\n",
      "2021-11-23 16:31:01,812 root         INFO     saving sync events of the wav channel to /mnt/sphere/speech_bci/derived_data/z_g19o17_21/2021-04-30/sglx/1247_doric_femalepin_g0/wav_sync_evt.npy\n",
      "2021-11-23 16:31:01,833 root         INFO     saving t0 for wav channel to /mnt/sphere/speech_bci/derived_data/z_g19o17_21/2021-04-30/sglx/1247_doric_femalepin_g0/wav_t0.npy\n",
      "2021-11-23 16:31:15,295 root         INFO     saving sync dict to /mnt/sphere/speech_bci/derived_data/z_g19o17_21/2021-04-30/sglx/1247_doric_femalepin_g0/wav_sync_dict.pkl\n",
      "2021-11-23 16:31:15,439 root         INFO     pre-process all runs of sess 2021-05-03\n",
      "2021-11-23 16:31:15,440 ceciestunepipe.file.bcistructure INFO     {'folders': {'bird': '/mnt/sphere/speech_bci/raw_data/z_g19o17_21', 'raw': '/mnt/sphere/speech_bci/raw_data/z_g19o17_21/2021-05-03', 'sglx': '/mnt/sphere/speech_bci/raw_data/z_g19o17_21/2021-05-03/sglx', 'kwik': '/experiment/z_g19o17_21/sglx/kwik/2021-05-03', 'processed': '/mnt/sphere/speech_bci/processed_data/z_g19o17_21/2021-05-03/sglx', 'derived': '/mnt/sphere/speech_bci/derived_data/z_g19o17_21/2021-05-03/sglx', 'tmp': '/experiment/tmp/tmp', 'msort': '/experiment/tmp/z_g19o17_21/sglx/msort/2021-05-03', 'ksort': '/experiment/tmp/z_g19o17_21/sglx/ksort/2021-05-03/2', 'sort': '/mnt/sphere/speech_bci/derived_data/z_g19o17_21/2021-05-03/sglx/2'}, 'files': {'par': '/experiment/tmp/z_g19o17_21/sglx/ksort/2021-05-03/2/params.json', 'set': '/mnt/sphere/speech_bci/raw_data/z_g19o17_21/2021-05-03/sglx/settings.isf', 'rig': '/mnt/sphere/speech_bci/raw_data/z_g19o17_21/2021-05-03/sglx/rig.json', 'kwd': '/experiment/z_g19o17_21/sglx/kwik/2021-05-03/stream.kwd', 'kwik': '/experiment/z_g19o17_21/sglx/kwik/2021-05-03/sort_2/spikes.kwik', 'kwe': '/experiment/z_g19o17_21/sglx/kwik/2021-05-03/events.kwe', 'dat_mic': '/mnt/sphere/speech_bci/processed_data/z_g19o17_21/2021-05-03/sglx/dat_mic.mat', 'dat_ap': '/mnt/sphere/speech_bci/processed_data/z_g19o17_21/2021-05-03/sglx/dat_ap.mat', 'allevents': '/mnt/sphere/speech_bci/processed_data/z_g19o17_21/2021-05-03/sglx/dat_all.pkl', 'wav_mic': '/mnt/sphere/speech_bci/derived_data/z_g19o17_21/2021-05-03/sglx/wav_mic.wav', 'mda_raw': '/experiment/tmp/z_g19o17_21/sglx/msort/2021-05-03/raw.mda', 'bin_raw': '/experiment/tmp/z_g19o17_21/sglx/ksort/2021-05-03/2/raw.bin'}}\n",
      "2021-11-23 16:31:15,495 root         INFO     found epochs: ['1323_femalepin_g0', '1454_femalepin_g0']\n",
      "2021-11-23 16:31:15,496 root         INFO     PREPROCESSING sess 2021-05-03 | epoch 1323_femalepin_g0\n",
      "2021-11-23 16:31:15,497 root         INFO     getting extractors\n",
      "2021-11-23 16:31:15,664 root         INFO     Getting microphone channel(s) ['microphone_0']\n",
      "2021-11-23 16:31:15,665 ceciestunepipe.util.wavutil INFO     sampling rate 25000\n",
      "2021-11-23 16:31:15,666 ceciestunepipe.util.wavutil INFO     saving (1, 129378433)-shaped array as wav in /mnt/sphere/speech_bci/derived_data/z_g19o17_21/2021-05-03/sglx/1323_femalepin_g0/wav_mic.wav\n",
      "2021-11-23 16:31:38,458 ceciestunepipe.util.wavutil INFO     saving (1, 129378433)-shaped array as npy in /mnt/sphere/speech_bci/derived_data/z_g19o17_21/2021-05-03/sglx/1323_femalepin_g0/wav_mic.npy\n",
      "2021-11-23 16:31:44,863 root         INFO     Getting sync channel(s) ['sync']\n",
      "2021-11-23 16:31:44,864 ceciestunepipe.util.spikeextractors.extractors.spikeglxrecordingextractor.spikeglxrecordingextractor INFO     getting ttl traces, chan range(0, 7)\n",
      "2021-11-23 16:31:47,619 ceciestunepipe.util.wavutil INFO     sampling rate 25000\n",
      "2021-11-23 16:31:47,620 ceciestunepipe.util.wavutil INFO     saving (1, 129378433)-shaped array as wav in /mnt/sphere/speech_bci/derived_data/z_g19o17_21/2021-05-03/sglx/1323_femalepin_g0/wav_sync.wav\n",
      "2021-11-23 16:31:49,995 ceciestunepipe.util.wavutil INFO     saving (1, 129378433)-shaped array as npy in /mnt/sphere/speech_bci/derived_data/z_g19o17_21/2021-05-03/sglx/1323_femalepin_g0/wav_sync.npy\n",
      "2021-11-23 16:31:52,396 root         INFO     Getting sync events from the wav sync channel\n",
      "2021-11-23 16:31:53,255 root         INFO     saving sync events of the wav channel to /mnt/sphere/speech_bci/derived_data/z_g19o17_21/2021-05-03/sglx/1323_femalepin_g0/wav_sync_evt.npy\n",
      "2021-11-23 16:31:53,280 root         INFO     saving t0 for wav channel to /mnt/sphere/speech_bci/derived_data/z_g19o17_21/2021-05-03/sglx/1323_femalepin_g0/wav_t0.npy\n",
      "2021-11-23 16:32:03,813 root         INFO     saving sync dict to /mnt/sphere/speech_bci/derived_data/z_g19o17_21/2021-05-03/sglx/1323_femalepin_g0/wav_sync_dict.pkl\n",
      "2021-11-23 16:32:03,817 root         INFO     PREPROCESSING sess 2021-05-03 | epoch 1454_femalepin_g0\n",
      "2021-11-23 16:32:03,818 root         INFO     getting extractors\n",
      "2021-11-23 16:32:04,033 root         INFO     Getting microphone channel(s) ['microphone_0']\n",
      "2021-11-23 16:32:04,034 ceciestunepipe.util.wavutil INFO     sampling rate 25000\n",
      "2021-11-23 16:32:04,034 ceciestunepipe.util.wavutil INFO     saving (1, 69109632)-shaped array as wav in /mnt/sphere/speech_bci/derived_data/z_g19o17_21/2021-05-03/sglx/1454_femalepin_g0/wav_mic.wav\n",
      "2021-11-23 16:32:16,382 ceciestunepipe.util.wavutil INFO     saving (1, 69109632)-shaped array as npy in /mnt/sphere/speech_bci/derived_data/z_g19o17_21/2021-05-03/sglx/1454_femalepin_g0/wav_mic.npy\n",
      "2021-11-23 16:32:19,939 root         INFO     Getting sync channel(s) ['sync']\n",
      "2021-11-23 16:32:19,940 ceciestunepipe.util.spikeextractors.extractors.spikeglxrecordingextractor.spikeglxrecordingextractor INFO     getting ttl traces, chan range(0, 7)\n",
      "2021-11-23 16:32:21,504 ceciestunepipe.util.wavutil INFO     sampling rate 25000\n",
      "2021-11-23 16:32:21,505 ceciestunepipe.util.wavutil INFO     saving (1, 69109632)-shaped array as wav in /mnt/sphere/speech_bci/derived_data/z_g19o17_21/2021-05-03/sglx/1454_femalepin_g0/wav_sync.wav\n",
      "2021-11-23 16:32:22,780 ceciestunepipe.util.wavutil INFO     saving (1, 69109632)-shaped array as npy in /mnt/sphere/speech_bci/derived_data/z_g19o17_21/2021-05-03/sglx/1454_femalepin_g0/wav_sync.npy\n",
      "2021-11-23 16:32:24,057 root         INFO     Getting sync events from the wav sync channel\n",
      "2021-11-23 16:32:24,548 root         INFO     saving sync events of the wav channel to /mnt/sphere/speech_bci/derived_data/z_g19o17_21/2021-05-03/sglx/1454_femalepin_g0/wav_sync_evt.npy\n",
      "2021-11-23 16:32:24,571 root         INFO     saving t0 for wav channel to /mnt/sphere/speech_bci/derived_data/z_g19o17_21/2021-05-03/sglx/1454_femalepin_g0/wav_t0.npy\n",
      "2021-11-23 16:32:30,147 root         INFO     saving sync dict to /mnt/sphere/speech_bci/derived_data/z_g19o17_21/2021-05-03/sglx/1454_femalepin_g0/wav_sync_dict.pkl\n"
     ]
    }
   ],
   "source": [
    "all_sess_dict = {}\n",
    "\n",
    "for one_sess in sess_list[:]:\n",
    "    sess_par['sess'] = one_sess\n",
    "    preprocess_session(sess_par)"
   ]
  },
  {
   "cell_type": "code",
   "execution_count": 17,
   "metadata": {},
   "outputs": [
    {
     "data": {
      "text/plain": [
       "{'bird': 'z_g19o17_21',\n",
       " 'sess': '2021-05-03',\n",
       " 'probes': ['probe_0'],\n",
       " 'mic_list': ['microphone_0'],\n",
       " 'sort': 2}"
      ]
     },
     "execution_count": 17,
     "metadata": {},
     "output_type": "execute_result"
    }
   ],
   "source": [
    "sess_par"
   ]
  },
  {
   "cell_type": "code",
   "execution_count": 16,
   "metadata": {},
   "outputs": [],
   "source": [
    "# Search bouts"
   ]
  },
  {
   "cell_type": "markdown",
   "metadata": {},
   "source": [
    "## search bouts for those sessions"
   ]
  },
  {
   "cell_type": "code",
   "execution_count": 10,
   "metadata": {},
   "outputs": [],
   "source": [
    "from ceciestunepipe.util.sound import boutsearch as bs\n",
    "from ceciestunepipe.util import wavutil as wu\n",
    "\n",
    "from joblib import Parallel, delayed\n",
    "import pickle\n",
    "import sys"
   ]
  },
  {
   "cell_type": "code",
   "execution_count": 18,
   "metadata": {},
   "outputs": [
    {
     "data": {
      "text/plain": [
       "<module 'ceciestunepipe.util.sound.boutsearch' from '/home/finch/repos/ceciestunepipe/ceciestunepipe/util/sound/boutsearch.py'>"
      ]
     },
     "execution_count": 18,
     "metadata": {},
     "output_type": "execute_result"
    }
   ],
   "source": [
    "reload(bs)"
   ]
  },
  {
   "cell_type": "code",
   "execution_count": 11,
   "metadata": {},
   "outputs": [],
   "source": [
    "def sess_file_id(f_path):\n",
    "    n = int(os.path.split(f_path)[1].split('-')[-1].split('.wav')[0])\n",
    "    return n\n",
    "\n",
    "\n",
    "def get_all_day_bouts(sess_par: dict, hparams:dict, n_jobs: int=12, ephys_software='sglx', \n",
    "                     parallel=True) -> pd.DataFrame:\n",
    "    \n",
    "    logger.info('Will search for bouts through all session {}, {}'.format(sess_par['bird'], sess_par['sess']))\n",
    "    exp_struct = et.get_exp_struct(sess_par['bird'], sess_par['sess'], ephys_software=ephys_software)\n",
    "\n",
    "    # get all the paths to the wav files of the epochs of the day   \n",
    "    source_folder = exp_struct['folders']['derived']\n",
    "    wav_path_list = et.get_sgl_files_epochs(source_folder, file_filter='*wav_mic.wav')\n",
    "    wav_path_list.sort()\n",
    "    logger.info('Found {} files'.format(len(wav_path_list)))\n",
    "    print(wav_path_list)\n",
    "    \n",
    "    get_file_bouts = lambda path: bs.get_epoch_bouts(path, hparams)\n",
    "    # Go parallel through all the paths in the day, get a list of all the pandas dataframes for each file\n",
    "    if parallel:\n",
    "        sess_pd_list = Parallel(n_jobs=n_jobs, verbose=100, prefer='threads')(delayed(get_file_bouts)(i) for i in wav_path_list)\n",
    "    else:\n",
    "        sess_pd_list = [get_file_bouts(i) for i in wav_path_list]\n",
    "    \n",
    "    #concatenate the file and return it, eventually write to a pickle\n",
    "    sess_bout_pd = pd.concat(sess_pd_list)\n",
    "    return sess_bout_pd\n",
    "\n",
    "def save_auto_bouts(sess_bout_pd, sess_par, hparams):\n",
    "    exp_struct = et.get_exp_struct(sess_par['bird'], sess_par['sess'], ephys_software='bouts_sglx')\n",
    "    #sess_bouts_dir = os.path.join(exp_struct['folders']['derived'], 'bouts_ceciestunepipe')\n",
    "    sess_bouts_dir = exp_struct['folders']['derived']\n",
    "\n",
    "    sess_bouts_path = os.path.join(sess_bouts_dir, hparams['bout_auto_file'])\n",
    "    hparams_pickle_path = os.path.join(sess_bouts_dir, 'bout_search_params.pickle')\n",
    "\n",
    "    os.makedirs(sess_bouts_dir, exist_ok=True)\n",
    "    logger.info('saving bouts pandas to ' + sess_bouts_path)\n",
    "    sess_bout_pd.to_pickle(sess_bouts_path)\n",
    "\n",
    "    logger.info('saving bout detect parameters dict to ' + hparams_pickle_path)\n",
    "    with open(hparams_pickle_path, 'wb') as fh:\n",
    "        pickle.dump(hparams, fh)"
   ]
  },
  {
   "cell_type": "code",
   "execution_count": 12,
   "metadata": {},
   "outputs": [],
   "source": [
    "## need to enter 'sample_rate' from the file!\n",
    "hparams = {\n",
    "    # spectrogram\n",
    "    'num_freq':1024, #1024# how many channels to use in a spectrogram #\n",
    "    'preemphasis':0.97, \n",
    "    'frame_shift_ms':5, # step size for fft\n",
    "    'frame_length_ms':10, #128 # frame length for fft FRAME SAMPLES < NUM_FREQ!!!\n",
    "    'min_level_db':-55, # minimum threshold db for computing spe \n",
    "    'ref_level_db':110, # reference db for computing spec\n",
    "    #'sample_rate':None, # sample rate of your data\n",
    "    \n",
    "    # spectrograms\n",
    "    'mel_filter': False, # should a mel filter be used?\n",
    "    'num_mels':1024, # how many channels to use in the mel-spectrogram\n",
    "    'fmin': 500, # low frequency cutoff for mel filter\n",
    "    'fmax': 12000, # high frequency cutoff for mel filter\n",
    "    \n",
    "    # spectrogram inversion\n",
    "    'max_iters':200,\n",
    "    'griffin_lim_iters':20,\n",
    "    'power':1.5,\n",
    "\n",
    "    # Added for the searching\n",
    "    'read_wav_fun': wu.read_wav_chan, # function for loading the wav_like_stream (has to returns fs, ndarray)\n",
    "    'file_order_fun': sess_file_id, # function for extracting the file id within the session\n",
    "    'min_segment': 30, # Minimum length of supra_threshold to consider a 'syllable' (ms)\n",
    "    'min_silence': 2000, # Minmum distance between groups of syllables to consider separate bouts (ms)\n",
    "    'min_bout': 5000, # min bout duration (ms)\n",
    "    'peak_thresh_rms': 0.55, # threshold (rms) for peak acceptance,\n",
    "    'thresh_rms': 0.25, # threshold for detection of syllables\n",
    "    'mean_syl_rms_thresh': 0.3, #threshold for acceptance of mean rms across the syllable (relative to rms of the file)\n",
    "    'max_bout': 120000, #exclude bouts too long\n",
    "    'l_p_r_thresh': 100, # threshold for n of len_ms/peaks (typycally about 2-3 syllable spans\n",
    "    \n",
    "    'waveform_edges': 1000, #get number of ms before and after the edges of the bout for the waveform sample\n",
    "    \n",
    "    'bout_auto_file': 'bout_auto.pickle', # extension for saving the auto found files\n",
    "    'bout_curated_file': 'bout_checked.pickle', #extension for manually curated files (coming soon)\n",
    "    }"
   ]
  },
  {
   "cell_type": "code",
   "execution_count": 14,
   "metadata": {
    "tags": []
   },
   "outputs": [
    {
     "name": "stderr",
     "output_type": "stream",
     "text": [
      "2021-11-23 15:59:15,873 root         INFO     Will search for bouts through all session z_g19o17_21, 2021-04-21\n",
      "2021-11-23 15:59:16,019 root         INFO     Found 1 files\n",
      "2021-11-23 15:59:16,020 ceciestunepipe.util.sound.boutsearch INFO     Getting bouts for long file /mnt/sphere/speech_bci/derived_data/z_g19o17_21/2021-04-21/sglx/first_plug_g0/wav_mic.wav\n"
     ]
    },
    {
     "name": "stdout",
     "output_type": "stream",
     "text": [
      "['/mnt/sphere/speech_bci/derived_data/z_g19o17_21/2021-04-21/sglx/first_plug_g0/wav_mic.wav']\n",
      "tu vieja file /mnt/sphere/speech_bci/derived_data/z_g19o17_21/2021-04-21/sglx/first_plug_g0/wav_mic.wav\n"
     ]
    },
    {
     "name": "stderr",
     "output_type": "stream",
     "text": [
      "2021-11-23 15:59:16,024 ceciestunepipe.util.sound.boutsearch INFO     splitting file into 1 chunks\n"
     ]
    },
    {
     "data": {
      "application/vnd.jupyter.widget-view+json": {
       "model_id": "0e2c7508909345b3a996f220f9d80381",
       "version_major": 2,
       "version_minor": 0
      },
      "text/plain": [
       "  0%|          | 0/1 [00:00<?, ?it/s]"
      ]
     },
     "metadata": {},
     "output_type": "display_data"
    },
    {
     "name": "stderr",
     "output_type": "stream",
     "text": [
      "2021-11-23 15:59:35,972 ceciestunepipe.util.sound.boutsearch INFO     saving bout detect parameters dict to /mnt/sphere/speech_bci/derived_data/z_g19o17_21/2021-04-21/sglx/first_plug_g0/bout_search_params.pickle\n",
      "2021-11-23 15:59:35,977 ceciestunepipe.util.sound.boutsearch INFO     saving bouts pandas to /mnt/sphere/speech_bci/derived_data/z_g19o17_21/2021-04-21/sglx/first_plug_g0/bout_auto.pickle\n",
      "2021-11-23 15:59:36,080 root         INFO     saving bouts pandas to /mnt/sphere/speech_bci/derived_data/z_g19o17_21/2021-04-21/bouts_sglx/bout_auto.pickle\n",
      "2021-11-23 15:59:36,122 root         INFO     saving bout detect parameters dict to /mnt/sphere/speech_bci/derived_data/z_g19o17_21/2021-04-21/bouts_sglx/bout_search_params.pickle\n"
     ]
    }
   ],
   "source": [
    "#all_sessions = sess_list[:2]\n",
    "all_sessions = ['2021-04-21']\n",
    "\n",
    "for sess in all_sessions:\n",
    "    sess_par['sess'] = sess\n",
    "    sess_bout_pd = get_all_day_bouts(sess_par, hparams, parallel=False)\n",
    "    save_auto_bouts(sess_bout_pd, sess_par, hparams)\n",
    "    sess_bouts_folder = os.path.join(exp_struct['folders']['derived'], 'bouts')\n",
    "    #bouts_to_wavs(sess_bout_pd, sess_par, hparams, sess_bouts_folder)"
   ]
  },
  {
   "cell_type": "code",
   "execution_count": 22,
   "metadata": {},
   "outputs": [
    {
     "name": "stdout",
     "output_type": "stream",
     "text": [
      "<class 'pandas.core.frame.DataFrame'>\n",
      "Int64Index: 103 entries, 0 to 37\n",
      "Data columns (total 17 columns):\n",
      " #   Column        Non-Null Count  Dtype  \n",
      "---  ------        --------------  -----  \n",
      " 0   start_ms      103 non-null    int64  \n",
      " 1   end_ms        103 non-null    int64  \n",
      " 2   start_sample  103 non-null    int64  \n",
      " 3   end_sample    103 non-null    int64  \n",
      " 4   p_step        103 non-null    object \n",
      " 5   rms_p         103 non-null    float64\n",
      " 6   peak_p        103 non-null    float64\n",
      " 7   bout_check    103 non-null    bool   \n",
      " 8   file          103 non-null    object \n",
      " 9   len_ms        103 non-null    int64  \n",
      " 10  syl_in        103 non-null    object \n",
      " 11  n_syl         103 non-null    int64  \n",
      " 12  peaks_p       103 non-null    object \n",
      " 13  n_peaks       103 non-null    int64  \n",
      " 14  l_p_ratio     103 non-null    float64\n",
      " 15  waveform      103 non-null    object \n",
      " 16  confusing     103 non-null    bool   \n",
      "dtypes: bool(2), float64(3), int64(7), object(5)\n",
      "memory usage: 13.1+ KB\n"
     ]
    }
   ],
   "source": [
    "sess_bout_pd.info()"
   ]
  },
  {
   "cell_type": "code",
   "execution_count": 24,
   "metadata": {},
   "outputs": [
    {
     "data": {
      "text/plain": [
       "103"
      ]
     },
     "execution_count": 24,
     "metadata": {},
     "output_type": "execute_result"
    }
   ],
   "source": [
    "np.unique(sess_bout_pd['start_ms']).size"
   ]
  },
  {
   "cell_type": "markdown",
   "metadata": {},
   "source": [
    "# debug"
   ]
  },
  {
   "cell_type": "markdown",
   "metadata": {},
   "source": [
    "## debug search_bout"
   ]
  },
  {
   "cell_type": "code",
   "execution_count": 21,
   "metadata": {},
   "outputs": [
    {
     "name": "stderr",
     "output_type": "stream",
     "text": [
      "2021-09-22 15:13:39,371 root         INFO     Found 4 files\n"
     ]
    },
    {
     "name": "stdout",
     "output_type": "stream",
     "text": [
      "['/mnt/sphere/speech_bci/derived_data/s_b1253_21/2021-06-14/sglx/0712_g0/wav_mic.wav', '/mnt/sphere/speech_bci/derived_data/s_b1253_21/2021-06-14/sglx/1255_g0/wav_mic.wav', '/mnt/sphere/speech_bci/derived_data/s_b1253_21/2021-06-14/sglx/1740_g0/wav_mic.wav', '/mnt/sphere/speech_bci/derived_data/s_b1253_21/2021-06-14/sglx/2118_g0/wav_mic.wav']\n"
     ]
    }
   ],
   "source": [
    "## look for a single file\n",
    "sess = sess_list[0]\n",
    "\n",
    "exp_struct = et.get_exp_struct(sess_par['bird'], sess, ephys_software='sglx')\n",
    "source_folder = exp_struct['folders']['derived']\n",
    "wav_path_list = et.get_sgl_files_epochs(source_folder, file_filter='*wav_mic.wav')\n",
    "wav_path_list.sort()\n",
    "logger.info('Found {} files'.format(len(wav_path_list)))\n",
    "print(wav_path_list)"
   ]
  },
  {
   "cell_type": "code",
   "execution_count": 22,
   "metadata": {},
   "outputs": [],
   "source": [
    "one_file = wav_path_list[0]"
   ]
  },
  {
   "cell_type": "code",
   "execution_count": null,
   "metadata": {},
   "outputs": [
    {
     "name": "stderr",
     "output_type": "stream",
     "text": [
      "2021-09-22 15:13:45,924 ceciestunepipe.util.sound.boutsearch INFO     Getting bouts for long file /mnt/sphere/speech_bci/derived_data/s_b1253_21/2021-06-14/sglx/0712_g0/wav_mic.wav\n"
     ]
    },
    {
     "name": "stdout",
     "output_type": "stream",
     "text": [
      "tu vieja file /mnt/sphere/speech_bci/derived_data/s_b1253_21/2021-06-14/sglx/0712_g0/wav_mic.wav\n"
     ]
    },
    {
     "name": "stderr",
     "output_type": "stream",
     "text": [
      "2021-09-22 15:13:45,962 ceciestunepipe.util.sound.boutsearch INFO     splitting file into 5 chunks\n"
     ]
    },
    {
     "data": {
      "application/vnd.jupyter.widget-view+json": {
       "model_id": "2ee46791b8cc495dae356f151c0a45d0",
       "version_major": 2,
       "version_minor": 0
      },
      "text/plain": [
       "  0%|          | 0/5 [00:00<?, ?it/s]"
      ]
     },
     "metadata": {},
     "output_type": "display_data"
    }
   ],
   "source": [
    "reload(bs)\n",
    "epoch_bout_pd, epoch_wav = bs.get_bouts_in_long_file(wav_path_list[0], hparams)"
   ]
  },
  {
   "cell_type": "code",
   "execution_count": null,
   "metadata": {},
   "outputs": [],
   "source": []
  }
 ],
 "metadata": {
  "kernelspec": {
   "display_name": "ceciestunepipe",
   "language": "python",
   "name": "ceciestunepipe"
  },
  "language_info": {
   "codemirror_mode": {
    "name": "ipython",
    "version": 3
   },
   "file_extension": ".py",
   "mimetype": "text/x-python",
   "name": "python",
   "nbconvert_exporter": "python",
   "pygments_lexer": "ipython3",
   "version": "3.8.10"
  }
 },
 "nbformat": 4,
 "nbformat_minor": 4
}
