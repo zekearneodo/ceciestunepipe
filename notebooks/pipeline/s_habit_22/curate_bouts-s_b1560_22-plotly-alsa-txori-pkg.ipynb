{
 "cells": [
  {
   "cell_type": "markdown",
   "metadata": {},
   "source": [
    "## Searching for bouts for a day of alsa recording"
   ]
  },
  {
   "cell_type": "code",
   "execution_count": 1,
   "metadata": {},
   "outputs": [
    {
     "name": "stderr",
     "output_type": "stream",
     "text": [
      "2022-12-29 12:23:16,569 root         INFO     Running on txori.ucsd.edu\n"
     ]
    }
   ],
   "source": [
    "import os\n",
    "import glob\n",
    "import socket\n",
    "import logging\n",
    "import pickle\n",
    "import numpy as np\n",
    "import pandas as pd\n",
    "from scipy.io import wavfile\n",
    "from scipy import signal\n",
    "\n",
    "### Fuck matplotlib, I'm using poltly now\n",
    "from plotly.subplots import make_subplots\n",
    "import plotly.graph_objects as go\n",
    "\n",
    "from importlib import reload\n",
    "\n",
    "logger = logging.getLogger()\n",
    "handler = logging.StreamHandler()\n",
    "formatter = logging.Formatter(\n",
    "        '%(asctime)s %(name)-12s %(levelname)-8s %(message)s')\n",
    "handler.setFormatter(formatter)\n",
    "logger.addHandler(handler)\n",
    "logger.setLevel(logging.INFO)\n",
    "\n",
    "logger.info('Running on {}'.format(socket.gethostname()))"
   ]
  },
  {
   "cell_type": "code",
   "execution_count": 2,
   "metadata": {},
   "outputs": [],
   "source": [
    "from ceciestunepipe.file import bcistructure as et\n",
    "from ceciestunepipe.util.sound import boutsearch as bs\n",
    "from ceciestunepipe.pipeline import searchbout as sb"
   ]
  },
  {
   "cell_type": "markdown",
   "metadata": {},
   "source": [
    "### Get the file locations for a session (day) of recordings"
   ]
  },
  {
   "cell_type": "code",
   "execution_count": 3,
   "metadata": {},
   "outputs": [],
   "source": [
    "##### reload(et)\n",
    "sess_par = {'bird': 's_b1560_22',\n",
    "           'sess': '2022-12-28',\n",
    "                       'acq_software': 'alsa',\n",
    "           'derived_folder': 'bouts_ceciestunepipe',\n",
    "           'auto_file': 'bout_auto_file',\n",
    "           'curated_file': 'bout_curated_file',\n",
    "           'super_session': 'all-sess-01'}\n",
    "\n",
    "exp_struct = et.get_exp_struct(sess_par['bird'], sess_par['sess'], ephys_software='alsa')\n",
    "\n",
    "raw_folder = exp_struct['folders']['alsa']\n",
    "bouts_folder = os.path.join(exp_struct['folders']['derived'], 'bouts_ceciestunepipe')"
   ]
  },
  {
   "cell_type": "code",
   "execution_count": 4,
   "metadata": {},
   "outputs": [
    {
     "data": {
      "text/plain": [
       "'txori'"
      ]
     },
     "execution_count": 4,
     "metadata": {},
     "output_type": "execute_result"
    }
   ],
   "source": [
    "socket.gethostname().split('.')[0]"
   ]
  },
  {
   "cell_type": "code",
   "execution_count": 5,
   "metadata": {},
   "outputs": [
    {
     "data": {
      "text/plain": [
       "{'bird': '/mnt/sphere/speech_bci/raw_data/s_b1560_22',\n",
       " 'raw': '/mnt/sphere/speech_bci/raw_data/s_b1560_22/2022-12-28',\n",
       " 'alsa': '/mnt/sphere/speech_bci/raw_data/s_b1560_22/2022-12-28/alsa',\n",
       " 'kwik': '/scratch/earneodo/s_b1560_22/alsa/kwik/2022-12-28',\n",
       " 'processed': '/mnt/sphere/speech_bci/processed_data/s_b1560_22/2022-12-28/alsa',\n",
       " 'derived': '/mnt/sphere/speech_bci/derived_data/s_b1560_22/2022-12-28/alsa',\n",
       " 'tmp': '/scratch/earneodo/tmp',\n",
       " 'msort': '/scratch/earneodo/s_b1560_22/alsa/msort/2022-12-28',\n",
       " 'ksort': '/scratch/earneodo/s_b1560_22/alsa/ksort/2022-12-28/',\n",
       " 'sort': '/mnt/sphere/speech_bci/derived_data/s_b1560_22/2022-12-28/alsa/'}"
      ]
     },
     "execution_count": 5,
     "metadata": {},
     "output_type": "execute_result"
    }
   ],
   "source": [
    "exp_struct['folders']"
   ]
  },
  {
   "cell_type": "markdown",
   "metadata": {},
   "source": [
    "### read a session's bouts pandas\n",
    "- get the location of the file\n",
    "- load the pandas pickle\n",
    "- load the search/spectrogram parameters"
   ]
  },
  {
   "cell_type": "code",
   "execution_count": 6,
   "metadata": {},
   "outputs": [
    {
     "data": {
      "text/plain": [
       "'1.4.2'"
      ]
     },
     "execution_count": 6,
     "metadata": {},
     "output_type": "execute_result"
    }
   ],
   "source": [
    "pd.__version__"
   ]
  },
  {
   "cell_type": "code",
   "execution_count": 7,
   "metadata": {},
   "outputs": [],
   "source": [
    "reload(sb)\n",
    "hparams, bpd = sb.read_session_bouts(sess_par['bird'], sess_par['sess'], recording_software='alsa', curated=False)"
   ]
  },
  {
   "cell_type": "code",
   "execution_count": 8,
   "metadata": {
    "scrolled": true,
    "tags": []
   },
   "outputs": [
    {
     "data": {
      "text/html": [
       "<div>\n",
       "<style scoped>\n",
       "    .dataframe tbody tr th:only-of-type {\n",
       "        vertical-align: middle;\n",
       "    }\n",
       "\n",
       "    .dataframe tbody tr th {\n",
       "        vertical-align: top;\n",
       "    }\n",
       "\n",
       "    .dataframe thead th {\n",
       "        text-align: right;\n",
       "    }\n",
       "</style>\n",
       "<table border=\"1\" class=\"dataframe\">\n",
       "  <thead>\n",
       "    <tr style=\"text-align: right;\">\n",
       "      <th></th>\n",
       "      <th>start_ms</th>\n",
       "      <th>end_ms</th>\n",
       "      <th>start_sample</th>\n",
       "      <th>end_sample</th>\n",
       "      <th>p_step</th>\n",
       "      <th>rms_p</th>\n",
       "      <th>peak_p</th>\n",
       "      <th>bout_check</th>\n",
       "      <th>file</th>\n",
       "      <th>len_ms</th>\n",
       "      <th>syl_in</th>\n",
       "      <th>n_syl</th>\n",
       "      <th>peaks_p</th>\n",
       "      <th>n_peaks</th>\n",
       "      <th>l_p_ratio</th>\n",
       "      <th>waveform</th>\n",
       "      <th>valid_waveform</th>\n",
       "      <th>valid</th>\n",
       "      <th>spectrogram</th>\n",
       "      <th>confusing</th>\n",
       "    </tr>\n",
       "  </thead>\n",
       "  <tbody>\n",
       "    <tr>\n",
       "      <th>0</th>\n",
       "      <td>314365</td>\n",
       "      <td>317695</td>\n",
       "      <td>15089520</td>\n",
       "      <td>15249360</td>\n",
       "      <td>[1.4117186405310838, 3.0730244875213435, 0.875...</td>\n",
       "      <td>0.780334</td>\n",
       "      <td>77.744311</td>\n",
       "      <td>True</td>\n",
       "      <td>/mnt/sphere/speech_bci/raw_data/s_b1560_22/202...</td>\n",
       "      <td>3330</td>\n",
       "      <td>[[314365, 314425], [316075, 316115], [317650, ...</td>\n",
       "      <td>3</td>\n",
       "      <td>[1, 10, 22, 38, 45, 153, 316, 346, 563, 641, 660]</td>\n",
       "      <td>11</td>\n",
       "      <td>302.727273</td>\n",
       "      <td>[1, 1, 2, 1, 1, 0, 0, -1, -1, 0, 0, 1, 0, 1, 1...</td>\n",
       "      <td>True</td>\n",
       "      <td>True</td>\n",
       "      <td>[[0.0, 0.0, 0.0, 0.0, 0.0, 0.0, 0.0, 0.0, 0.0,...</td>\n",
       "      <td>True</td>\n",
       "    </tr>\n",
       "    <tr>\n",
       "      <th>1</th>\n",
       "      <td>345675</td>\n",
       "      <td>349315</td>\n",
       "      <td>16592400</td>\n",
       "      <td>16767120</td>\n",
       "      <td>[0.46419505782424836, 3.559744884939225, 0.998...</td>\n",
       "      <td>1.802673</td>\n",
       "      <td>137.539140</td>\n",
       "      <td>True</td>\n",
       "      <td>/mnt/sphere/speech_bci/raw_data/s_b1560_22/202...</td>\n",
       "      <td>3640</td>\n",
       "      <td>[[345675, 345715], [345745, 345780], [346005, ...</td>\n",
       "      <td>20</td>\n",
       "      <td>[5, 18, 30, 41, 55, 70, 81, 96, 110, 122, 134,...</td>\n",
       "      <td>58</td>\n",
       "      <td>62.758621</td>\n",
       "      <td>[-5, -4, -6, -5, -4, -5, -4, -5, -5, -5, -7, -...</td>\n",
       "      <td>True</td>\n",
       "      <td>True</td>\n",
       "      <td>[[0.0, 0.0, 0.0, 0.0, 0.0, 0.0, 0.0, 0.0, 0.0,...</td>\n",
       "      <td>True</td>\n",
       "    </tr>\n",
       "    <tr>\n",
       "      <th>2</th>\n",
       "      <td>595555</td>\n",
       "      <td>598610</td>\n",
       "      <td>28586640</td>\n",
       "      <td>28733280</td>\n",
       "      <td>[5.525953469275859, 12.560532307632892, 2.7299...</td>\n",
       "      <td>0.941782</td>\n",
       "      <td>59.876015</td>\n",
       "      <td>True</td>\n",
       "      <td>/mnt/sphere/speech_bci/raw_data/s_b1560_22/202...</td>\n",
       "      <td>3055</td>\n",
       "      <td>[[595555, 595585], [598580, 598610]]</td>\n",
       "      <td>2</td>\n",
       "      <td>[3, 19, 399, 606]</td>\n",
       "      <td>4</td>\n",
       "      <td>763.750000</td>\n",
       "      <td>[8, 8, 9, 8, 8, 9, 8, 9, 9, 8, 9, 8, 8, 7, 8, ...</td>\n",
       "      <td>True</td>\n",
       "      <td>True</td>\n",
       "      <td>[[0.0, 0.0, 0.0, 0.0, 0.0, 0.0, 0.0, 0.0, 0.0,...</td>\n",
       "      <td>True</td>\n",
       "    </tr>\n",
       "    <tr>\n",
       "      <th>3</th>\n",
       "      <td>1229670</td>\n",
       "      <td>1234825</td>\n",
       "      <td>59024160</td>\n",
       "      <td>59271600</td>\n",
       "      <td>[3.6348203465881066, 57.63128043020802, 52.082...</td>\n",
       "      <td>1.213456</td>\n",
       "      <td>90.933550</td>\n",
       "      <td>True</td>\n",
       "      <td>/mnt/sphere/speech_bci/raw_data/s_b1560_22/202...</td>\n",
       "      <td>5155</td>\n",
       "      <td>[[1229670, 1229710], [1229745, 1229790], [1229...</td>\n",
       "      <td>13</td>\n",
       "      <td>[1, 16, 23, 32, 41, 57, 65, 74, 310, 317, 365,...</td>\n",
       "      <td>55</td>\n",
       "      <td>93.727273</td>\n",
       "      <td>[0, -5, -8, -7, -2, -7, -11, -8, -10, -4, -5, ...</td>\n",
       "      <td>True</td>\n",
       "      <td>True</td>\n",
       "      <td>[[0.0, 0.0, 0.0, 0.0, 0.0, 0.0, 0.0, 0.0, 0.0,...</td>\n",
       "      <td>True</td>\n",
       "    </tr>\n",
       "    <tr>\n",
       "      <th>4</th>\n",
       "      <td>275820</td>\n",
       "      <td>279975</td>\n",
       "      <td>13239360</td>\n",
       "      <td>13438800</td>\n",
       "      <td>[3.7505790236703396, 7.812023459517659, 19.565...</td>\n",
       "      <td>0.630179</td>\n",
       "      <td>55.682701</td>\n",
       "      <td>True</td>\n",
       "      <td>/mnt/sphere/speech_bci/raw_data/s_b1560_22/202...</td>\n",
       "      <td>4155</td>\n",
       "      <td>[[275820, 275850], [278290, 278320], [279935, ...</td>\n",
       "      <td>3</td>\n",
       "      <td>[2, 11, 35, 82, 145, 249, 257, 273, 303, 311, ...</td>\n",
       "      <td>21</td>\n",
       "      <td>197.857143</td>\n",
       "      <td>[-10, -10, -10, -9, -9, -10, -8, -10, -12, -11...</td>\n",
       "      <td>True</td>\n",
       "      <td>True</td>\n",
       "      <td>[[0.0, 0.0, 0.0, 0.0, 0.0, 0.0, 0.0, 0.0, 0.0,...</td>\n",
       "      <td>True</td>\n",
       "    </tr>\n",
       "  </tbody>\n",
       "</table>\n",
       "</div>"
      ],
      "text/plain": [
       "   start_ms   end_ms  start_sample  end_sample  \\\n",
       "0    314365   317695      15089520    15249360   \n",
       "1    345675   349315      16592400    16767120   \n",
       "2    595555   598610      28586640    28733280   \n",
       "3   1229670  1234825      59024160    59271600   \n",
       "4    275820   279975      13239360    13438800   \n",
       "\n",
       "                                              p_step     rms_p      peak_p  \\\n",
       "0  [1.4117186405310838, 3.0730244875213435, 0.875...  0.780334   77.744311   \n",
       "1  [0.46419505782424836, 3.559744884939225, 0.998...  1.802673  137.539140   \n",
       "2  [5.525953469275859, 12.560532307632892, 2.7299...  0.941782   59.876015   \n",
       "3  [3.6348203465881066, 57.63128043020802, 52.082...  1.213456   90.933550   \n",
       "4  [3.7505790236703396, 7.812023459517659, 19.565...  0.630179   55.682701   \n",
       "\n",
       "   bout_check                                               file  len_ms  \\\n",
       "0        True  /mnt/sphere/speech_bci/raw_data/s_b1560_22/202...    3330   \n",
       "1        True  /mnt/sphere/speech_bci/raw_data/s_b1560_22/202...    3640   \n",
       "2        True  /mnt/sphere/speech_bci/raw_data/s_b1560_22/202...    3055   \n",
       "3        True  /mnt/sphere/speech_bci/raw_data/s_b1560_22/202...    5155   \n",
       "4        True  /mnt/sphere/speech_bci/raw_data/s_b1560_22/202...    4155   \n",
       "\n",
       "                                              syl_in  n_syl  \\\n",
       "0  [[314365, 314425], [316075, 316115], [317650, ...      3   \n",
       "1  [[345675, 345715], [345745, 345780], [346005, ...     20   \n",
       "2               [[595555, 595585], [598580, 598610]]      2   \n",
       "3  [[1229670, 1229710], [1229745, 1229790], [1229...     13   \n",
       "4  [[275820, 275850], [278290, 278320], [279935, ...      3   \n",
       "\n",
       "                                             peaks_p  n_peaks   l_p_ratio  \\\n",
       "0  [1, 10, 22, 38, 45, 153, 316, 346, 563, 641, 660]       11  302.727273   \n",
       "1  [5, 18, 30, 41, 55, 70, 81, 96, 110, 122, 134,...       58   62.758621   \n",
       "2                                  [3, 19, 399, 606]        4  763.750000   \n",
       "3  [1, 16, 23, 32, 41, 57, 65, 74, 310, 317, 365,...       55   93.727273   \n",
       "4  [2, 11, 35, 82, 145, 249, 257, 273, 303, 311, ...       21  197.857143   \n",
       "\n",
       "                                            waveform  valid_waveform  valid  \\\n",
       "0  [1, 1, 2, 1, 1, 0, 0, -1, -1, 0, 0, 1, 0, 1, 1...            True   True   \n",
       "1  [-5, -4, -6, -5, -4, -5, -4, -5, -5, -5, -7, -...            True   True   \n",
       "2  [8, 8, 9, 8, 8, 9, 8, 9, 9, 8, 9, 8, 8, 7, 8, ...            True   True   \n",
       "3  [0, -5, -8, -7, -2, -7, -11, -8, -10, -4, -5, ...            True   True   \n",
       "4  [-10, -10, -10, -9, -9, -10, -8, -10, -12, -11...            True   True   \n",
       "\n",
       "                                         spectrogram  confusing  \n",
       "0  [[0.0, 0.0, 0.0, 0.0, 0.0, 0.0, 0.0, 0.0, 0.0,...       True  \n",
       "1  [[0.0, 0.0, 0.0, 0.0, 0.0, 0.0, 0.0, 0.0, 0.0,...       True  \n",
       "2  [[0.0, 0.0, 0.0, 0.0, 0.0, 0.0, 0.0, 0.0, 0.0,...       True  \n",
       "3  [[0.0, 0.0, 0.0, 0.0, 0.0, 0.0, 0.0, 0.0, 0.0,...       True  \n",
       "4  [[0.0, 0.0, 0.0, 0.0, 0.0, 0.0, 0.0, 0.0, 0.0,...       True  "
      ]
     },
     "execution_count": 8,
     "metadata": {},
     "output_type": "execute_result"
    }
   ],
   "source": [
    "bpd.head(5)"
   ]
  },
  {
   "cell_type": "code",
   "execution_count": 9,
   "metadata": {},
   "outputs": [
    {
     "data": {
      "text/plain": [
       "6"
      ]
     },
     "execution_count": 9,
     "metadata": {},
     "output_type": "execute_result"
    }
   ],
   "source": [
    "bpd.index.size"
   ]
  },
  {
   "cell_type": "markdown",
   "metadata": {},
   "source": [
    "###### if it wasnt saved (which is a bad mistake), read the sampling rate from the first file in the session"
   ]
  },
  {
   "cell_type": "markdown",
   "metadata": {},
   "source": [
    "## inspect the bouts and curate them"
   ]
  },
  {
   "cell_type": "markdown",
   "metadata": {},
   "source": [
    "#### visualize one bout"
   ]
  },
  {
   "cell_type": "code",
   "execution_count": 10,
   "metadata": {},
   "outputs": [],
   "source": [
    "import plotly.express as px\n",
    "import plotly.graph_objects as go\n",
    "\n",
    "from ipywidgets import widgets"
   ]
  },
  {
   "cell_type": "code",
   "execution_count": 11,
   "metadata": {},
   "outputs": [],
   "source": [
    "def viz_one_bout(df: pd.Series, sub_sample=1):\n",
    "    # get the power and the spectrogram\n",
    "    sxx = df['spectrogram'][:, ::sub_sample]\n",
    "    x = df['waveform'][::sub_sample]\n",
    "    \n",
    "    # the trace\n",
    "    tr_waveform = go.Scatter(y=x)\n",
    "    figwidg_waveform = go.FigureWidget(data=[tr_waveform],\n",
    "                                      layout= {'height': 300,'width':1000})\n",
    "\n",
    "    # the spectrogram\n",
    "    fig_spectrogram = px.imshow(sxx, \n",
    "                                     labels={}, \n",
    "                                     color_continuous_scale='Inferno',\n",
    "                                    aspect='auto')\n",
    "\n",
    "    fig_spectrogram.update_layout(width=1000, height=300, coloraxis_showscale=False)\n",
    "    fig_spectrogram.update_xaxes(showticklabels=False)\n",
    "    fig_spectrogram.update_yaxes(showticklabels=False)\n",
    "    \n",
    "    \n",
    "    figwidg_spectrogram = go.FigureWidget(fig_spectrogram)\n",
    "    \n",
    "    display(widgets.VBox([figwidg_waveform,\n",
    "              figwidg_spectrogram]))\n",
    "    \n",
    "\n",
    "#viz_one_bout(bpd.iloc[1])"
   ]
  },
  {
   "cell_type": "markdown",
   "metadata": {},
   "source": [
    "## use it in a widget\n"
   ]
  },
  {
   "cell_type": "code",
   "execution_count": 12,
   "metadata": {},
   "outputs": [],
   "source": [
    "bpd.sort_values('len_ms', ascending=False, inplace=True)\n",
    "bpd.reset_index(drop=True, inplace=True)"
   ]
  },
  {
   "cell_type": "code",
   "execution_count": 13,
   "metadata": {},
   "outputs": [],
   "source": [
    "### Create a counter object (count goes 1:1 to DataFrame index)\n",
    "from traitlets import CInt, link\n",
    "\n",
    "class Counter(widgets.DOMWidget):\n",
    "    value = CInt(0)\n",
    "    value.tag(sync=True)"
   ]
  },
  {
   "cell_type": "code",
   "execution_count": 14,
   "metadata": {
    "tags": []
   },
   "outputs": [
    {
     "data": {
      "application/vnd.jupyter.widget-view+json": {
       "model_id": "1d8e6ec9bfce4599ad60c09f8d28294a",
       "version_major": 2,
       "version_minor": 0
      },
      "text/plain": [
       "VBox(children=(HBox(children=(VBox(children=(HBox(children=(Button(button_style='warning', description='Prev',…"
      ]
     },
     "metadata": {},
     "output_type": "display_data"
    }
   ],
   "source": [
    "class VizBout():\n",
    "    def __init__(self, hparams, bouts_pd):\n",
    "        self.bout = None\n",
    "        self.bouts_pd = bouts_pd\n",
    "        self.bout_series = None\n",
    "        self.is_bout = None\n",
    "        self.is_call = None\n",
    "        self.is_confusing = None\n",
    "                \n",
    "        self.bout_counter = None\n",
    "        self.bout_id = None\n",
    "        \n",
    "        self.buttons = {}\n",
    "        self.m_pick = None\n",
    "        \n",
    "        self.audio = None\n",
    "        \n",
    "        self.fig_waveform = None\n",
    "        self.fig_spectrogram = None\n",
    "        \n",
    "        self.figwidg_waveform = None\n",
    "        self.figwidg_spectrogram = None\n",
    "        \n",
    "        self.fig_width = 2\n",
    "        self.sub_sample = 10\n",
    "        \n",
    "        self.x = None\n",
    "        self.sxx = None\n",
    "        self.tr_waveform = None\n",
    "        \n",
    "        self.s_f = hparams['sample_rate']\n",
    "        \n",
    "        self.init_fig()\n",
    "        self.init_widget()\n",
    "        self.show()\n",
    "        \n",
    "    def init_fig(self):\n",
    "        # the trace\n",
    "        self.tr_waveform = go.Scatter(y=np.zeros(500))\n",
    "        self.figwidg_waveform = go.FigureWidget(data=[self.tr_waveform],\n",
    "                                               layout={'width': 1000, 'height':300})\n",
    "        \n",
    "        # the spectrogram\n",
    "        self.fig_spectrogram = px.imshow(np.random.rand(500, 500), \n",
    "                                         labels={}, \n",
    "                                         color_continuous_scale='Inferno',\n",
    "                                        aspect='auto')\n",
    "        \n",
    "        self.fig_spectrogram.update_layout(width=1000, height=300, coloraxis_showscale=False)\n",
    "        self.fig_spectrogram.update_xaxes(showticklabels=False)\n",
    "        self.fig_spectrogram.update_yaxes(showticklabels=False)\n",
    "        self.figwidg_spectrogram = go.FigureWidget(self.fig_spectrogram)\n",
    "        \n",
    "        \n",
    "    def init_widget(self):\n",
    "        # declare elements\n",
    "        # lay them out\n",
    "        #\n",
    "        \n",
    "        # is this the best place for this?\n",
    "        self.bouts_pd['is_call'] = False\n",
    "        \n",
    "        self.bout_counter = Counter()\n",
    "        self.is_bout = widgets.Checkbox(description='is bout')\n",
    "        self.is_call = widgets.Checkbox(description='calls')\n",
    "        self.is_confusing = widgets.Checkbox(description='confusing')\n",
    "        \n",
    "        self.buttons['Next'] = widgets.Button(description=\"Next\", button_style='info',\n",
    "                                              icon='plus')   \n",
    "        self.buttons['Prev'] = widgets.Button(description=\"Prev\", button_style='warning',\n",
    "                                              icon='minus')\n",
    "        self.buttons['Check'] = widgets.Button(description=\"Song\", button_style='success', \n",
    "                                               icon='check')\n",
    "        self.buttons['Uncheck'] = widgets.Button(description=\"Noise\", button_style='danger',\n",
    "                                                 icon='wrong')\n",
    "        self.buttons['Call'] = widgets.Button(description=\"Calls\")\n",
    "        \n",
    "        [b.on_click(self.button_click) for b in self.buttons.values()]\n",
    "        \n",
    "        \n",
    "        top_box = widgets.HBox([self.buttons['Prev'], self.buttons['Next']])\n",
    "        bottom_box = widgets.HBox([self.buttons['Uncheck'], self.buttons['Check'], self.buttons['Call']])\n",
    "        button_box = widgets.VBox([top_box, bottom_box])\n",
    "\n",
    "        self.m_pick = widgets.IntSlider(value=0, min=0, max=self.bouts_pd.index.size-1, step=1, \n",
    "                                        description=\"Bout candidate index\")\n",
    "        \n",
    "        \n",
    "        #self.audio = Audio(data=np.zeros(100), rate=self.s_f)\n",
    "        \n",
    "        control_box = widgets.HBox([button_box,\n",
    "                                  widgets.VBox([self.is_bout, self.is_confusing, self.is_call]),\n",
    "                                  widgets.VBox([self.m_pick])]\n",
    "                                  )\n",
    "        \n",
    "        link((self.m_pick, 'value'), (self.bout_counter, 'value'))\n",
    "\n",
    "        self.update_bout()\n",
    "        \n",
    "        self.is_bout.observe(self.bout_checked, names='value')\n",
    "        self.is_call.observe(self.call_checked, names='value')\n",
    "        self.is_confusing.observe(self.confusing_checked, names='value')\n",
    "        \n",
    "        self.m_pick.observe(self.slider_change, names='value')\n",
    "        \n",
    "        all_containers = widgets.VBox([control_box, \n",
    "                                       self.figwidg_waveform, self.figwidg_spectrogram])\n",
    "        display(all_containers)\n",
    "#         display(button_box)\n",
    "#         display(self.m_pick)\n",
    "#         display(self.is_bout)\n",
    "#         display(self.fig)\n",
    "        \n",
    "    def button_click(self, button):        \n",
    "        self.bout_id = self.bout_counter.value\n",
    "        curr_bout = self.bout_counter\n",
    "        \n",
    "        if button.description == 'Next':\n",
    "            curr_bout.value += 1\n",
    "        elif button.description == 'Prev':\n",
    "            #print('prev clicked')\n",
    "            curr_bout.value -= 1\n",
    "        \n",
    "        elif button.description == 'Song':\n",
    "            #print('check clicked')\n",
    "            self.bouts_pd.loc[self.bout_id, 'bout_check'] = True\n",
    "            self.bouts_pd.loc[self.bout_id, 'confusing'] = False\n",
    "            self.bouts_pd.loc[self.bout_id, 'is_call'] = False\n",
    "            curr_bout.value += 1\n",
    "        \n",
    "        elif button.description == 'Noise':\n",
    "            self.bouts_pd.loc[self.bout_id, 'bout_check'] = False\n",
    "            self.bouts_pd.loc[self.bout_id, 'confusing'] = False\n",
    "            self.bouts_pd.loc[self.bout_id, 'is_call'] = False\n",
    "            curr_bout.value += 1\n",
    "        \n",
    "        elif button.description == 'Calls':\n",
    "            self.bouts_pd.loc[self.bout_id, 'bout_check'] = True\n",
    "            self.bouts_pd.loc[self.bout_id, 'confusing'] = False\n",
    "            self.bouts_pd.loc[self.bout_id, 'is_call'] = True\n",
    "            curr_bout.value += 1\n",
    "        \n",
    "        # handle the edges of the counter\n",
    "        if curr_bout.value > self.m_pick.max:\n",
    "            curr_bout.value = 0\n",
    "            \n",
    "        if curr_bout.value < self.m_pick.min:\n",
    "            curr_bout.value = self.m_pick.max\n",
    "    \n",
    "    def slider_change(self, change):\n",
    "        #logger.info('slider changed')\n",
    "        #self.bout_counter = change.new\n",
    "        #clear_output(True)\n",
    "        self.update_bout()\n",
    "        self.show()\n",
    "            \n",
    "    def bout_checked(self, bc):\n",
    "#         print \"bout checked\"\n",
    "#         print bc['new']\n",
    "#         print self.motiff\n",
    "        self.bouts_pd.loc[self.bout_id, 'bout_check'] = bc['new']\n",
    "        #self.bouts_pd.loc[self.bout_id, 'is_call'] = False # if it is \n",
    "    \n",
    "    def call_checked(self, bc):\n",
    "#         print \"bout checked\"\n",
    "#         print bc['new']\n",
    "#         print self.motiff\n",
    "        self.bouts_pd.loc[self.bout_id, 'is_call'] = bc['new']\n",
    "    \n",
    "    def confusing_checked(self, bc):\n",
    "#         print \"bout checked\"\n",
    "#         print bc['new']\n",
    "#         print self.motiff\n",
    "        self.bouts_pd.loc[self.bout_id, 'confusing'] = bc['new']\n",
    "    \n",
    "    \n",
    "    \n",
    "    def update_bout(self):\n",
    "        self.bout_id = self.bout_counter.value\n",
    "        self.bout_series = self.bouts_pd.iloc[self.bout_id]\n",
    "        \n",
    "        self.is_bout.value = bool(self.bout_series['bout_check'])\n",
    "        self.is_call.value = bool(self.bout_series['is_call'])\n",
    "        self.is_confusing.value = bool(self.bout_series['confusing'])\n",
    "                \n",
    "        self.x = self.bout_series['waveform'][::self.sub_sample]\n",
    "        self.sxx = self.bout_series['spectrogram'][::self.sub_sample]\n",
    "        \n",
    "        #self.audio = Audio(data=self.x.flatten(), rate=self.s_f)\n",
    "        \n",
    "    def show(self):\n",
    "        #self.fig.clf()\n",
    "        #self.init_fig()\n",
    "        # update\n",
    "#         self.update_bout()\n",
    "        #plot\n",
    "        #logger.info('showing')\n",
    "        \n",
    "        # Show the figures\n",
    "        with self.figwidg_waveform.batch_update():\n",
    "            self.figwidg_waveform.data[0].y = self.x\n",
    "            self.figwidg_waveform.data[0].x = np.arange(self.x.size) * self.sub_sample / self.s_f \n",
    "            \n",
    "        with self.figwidg_spectrogram.batch_update():\n",
    "            self.figwidg_spectrogram.data[0].z = np.sqrt(self.sxx[::-1])\n",
    "            \n",
    "        \n",
    "\n",
    "viz_bout = VizBout(hparams, bpd)"
   ]
  },
  {
   "cell_type": "code",
   "execution_count": 15,
   "metadata": {},
   "outputs": [
    {
     "ename": "KeyboardInterrupt",
     "evalue": "",
     "output_type": "error",
     "traceback": [
      "\u001b[0;31m---------------------------------------------------------------------------\u001b[0m",
      "\u001b[0;31mKeyboardInterrupt\u001b[0m                         Traceback (most recent call last)",
      "Input \u001b[0;32mIn [15]\u001b[0m, in \u001b[0;36m<cell line: 1>\u001b[0;34m()\u001b[0m\n\u001b[0;32m----> 1\u001b[0m \u001b[38;5;28;01mraise\u001b[39;00m \u001b[38;5;167;01mKeyboardInterrupt\u001b[39;00m\n",
      "\u001b[0;31mKeyboardInterrupt\u001b[0m: "
     ]
    }
   ],
   "source": [
    "raise KeyboardInterrupt"
   ]
  },
  {
   "cell_type": "code",
   "execution_count": 16,
   "metadata": {},
   "outputs": [
    {
     "data": {
      "text/plain": [
       "0"
      ]
     },
     "execution_count": 16,
     "metadata": {},
     "output_type": "execute_result"
    }
   ],
   "source": [
    "np.where((viz_bout.bouts_pd['bout_check']==True) & (viz_bout.bouts_pd['confusing']==False) & (bpd['len_ms']>10000))[0].size"
   ]
  },
  {
   "cell_type": "markdown",
   "metadata": {},
   "source": [
    "### save it"
   ]
  },
  {
   "cell_type": "code",
   "execution_count": 17,
   "metadata": {},
   "outputs": [
    {
     "name": "stderr",
     "output_type": "stream",
     "text": [
      "2022-12-29 12:23:43,077 root         INFO     saved curated bout pandas to pickle /mnt/sphere/speech_bci/derived_data/s_b1560_22/2022-12-28/alsa/bouts_ceciestunepipe/bout_checked.pickle\n"
     ]
    }
   ],
   "source": [
    "### get the curated file path\n",
    "##save to the curated file path\n",
    "bouts_curated_file_path = os.path.join(bouts_folder, hparams['bout_curated_file'])\n",
    "\n",
    "os.makedirs(bouts_folder, exist_ok=True, mode=0o777)\n",
    "\n",
    "viz_bout.bouts_pd.to_pickle(bouts_curated_file_path)\n",
    "logger.info('saved curated bout pandas to pickle {}'.format(bouts_curated_file_path))"
   ]
  },
  {
   "cell_type": "markdown",
   "metadata": {},
   "source": [
    "### Curated bouts longer than 10 seconds"
   ]
  },
  {
   "cell_type": "code",
   "execution_count": 18,
   "metadata": {},
   "outputs": [
    {
     "name": "stderr",
     "output_type": "stream",
     "text": [
      "2022-12-29 12:23:48,267 root         INFO     Number of bouts: 0\n",
      "2022-12-29 12:23:48,268 root         INFO     Length of all bouts (minutes): 0.0\n"
     ]
    }
   ],
   "source": [
    "def sess_bout_summary(bout_pd: pd.DataFrame, ax_dict: dict=None, bouts_type='curated', min_len_ms=7000) -> pd.DataFrame:\n",
    "    ## make and plot a summary of the bird's bout.\n",
    "    # get lengths of the bouts\n",
    "    # get estimate timestamps of bouts\n",
    "    # plot histogram length of bouts\n",
    "    # histogram of time of bouts\n",
    "    bout_sel = (bout_pd['valid']==True) & (bout_pd['len_ms'] > min_len_ms);\n",
    "    if bouts_type=='curated':\n",
    "        bout_sel = bout_sel & (bout_pd['bout_check']==True) & (bout_pd['confusing']==False);\n",
    "    \n",
    "    # len/time? (when do they sing the longest?)\n",
    "    logger.info('Number of bouts: {}'.format(bout_pd.loc[bout_sel].index.size))\n",
    "    logger.info('Length of all bouts (minutes): {}'.format(bout_pd.loc[bout_sel, 'len_ms'].values.sum()/60000))\n",
    "    \n",
    "    if ax_dict is None:\n",
    "        bout_pd.loc[bout_sel].hist(column='len_ms')\n",
    "    return bout_pd\n",
    "\n",
    "bpd = sess_bout_summary(bpd)"
   ]
  },
  {
   "cell_type": "markdown",
   "metadata": {},
   "source": [
    "### Update and plot the summary so far"
   ]
  },
  {
   "cell_type": "code",
   "execution_count": 19,
   "metadata": {},
   "outputs": [],
   "source": [
    "%matplotlib inline"
   ]
  },
  {
   "cell_type": "code",
   "execution_count": 35,
   "metadata": {},
   "outputs": [
    {
     "name": "stderr",
     "output_type": "stream",
     "text": [
      "2022-12-29 12:35:51,400 ceciestunepipe.pipeline.searchbout INFO     Looking for all sessions with bouts detected/curated for bird s_b1560_22\n",
      "2022-12-29 12:35:51,401 ceciestunepipe.pipeline.searchbout INFO     Loading bout summary dataframe\n",
      "2022-12-29 12:35:51,402 ceciestunepipe.pipeline.searchbout INFO     Meta, bout summary path is /mnt/sphere/speech_bci/processed_data/s_b1560_22/all-sess-01/alsa/bouts_ceciestunepipe/bout_meta_df.pickle, /mnt/sphere/speech_bci/processed_data/s_b1560_22/all-sess-01/alsa/bouts_ceciestunepipe/bout_summary_df.pickle\n",
      "2022-12-29 12:35:51,430 ceciestunepipe.pipeline.searchbout INFO     Search/bouts file not found in /mnt/sphere/speech_bci/derived_data/s_b1560_22/2022-12-29/alsa/bouts_ceciestunepipe\n",
      "2022-12-29 12:35:51,439 ceciestunepipe.pipeline.searchbout INFO     Search/bouts file not found in /mnt/sphere/speech_bci/derived_data/s_b1560_22/2022-12-29/alsa/bouts_ceciestunepipe\n",
      "2022-12-29 12:35:51,444 ceciestunepipe.pipeline.searchbout INFO     Nothing to update\n"
     ]
    }
   ],
   "source": [
    "reload(sb)\n",
    "#all_meta_pd, all_bout_pd = sb.load_all_bouts(sess_par)\n",
    "all_meta_pd, all_bout_pd = sb.update_bouts(sess_par)"
   ]
  },
  {
   "cell_type": "code",
   "execution_count": 36,
   "metadata": {},
   "outputs": [
    {
     "data": {
      "image/png": "[encoded data removed]",
      "text/plain": [
       "<Figure size 1152x576 with 2 Axes>"
      ]
     },
     "metadata": {
      "needs_background": "light"
     },
     "output_type": "display_data"
    }
   ],
   "source": [
    "ax_dict = sb.plot_bout_stats(all_bout_pd, zoom_days=20)"
   ]
  }
 ],
 "metadata": {
  "kernelspec": {
   "display_name": "ceciestunepipe (cube)",
   "language": "python",
   "name": "ceciestunepipe"
  },
  "language_info": {
   "codemirror_mode": {
    "name": "ipython",
    "version": 3
   },
   "file_extension": ".py",
   "mimetype": "text/x-python",
   "name": "python",
   "nbconvert_exporter": "python",
   "pygments_lexer": "ipython3",
   "version": "3.8.11"
  }
 },
 "nbformat": 4,
 "nbformat_minor": 5
}
