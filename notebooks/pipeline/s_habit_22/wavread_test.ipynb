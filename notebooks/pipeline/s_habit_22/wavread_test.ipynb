{
 "cells": [
  {
   "cell_type": "code",
   "execution_count": 1,
   "id": "7376a4f0",
   "metadata": {},
   "outputs": [
    {
     "name": "stderr",
     "output_type": "stream",
     "text": [
      "<frozen importlib._bootstrap>:219: RuntimeWarning: scipy._lib.messagestream.MessageStream size changed, may indicate binary incompatibility. Expected 56 from C header, got 64 from PyObject\n",
      "2022-07-29 14:45:41,587 root         INFO     Running on pouli\n"
     ]
    }
   ],
   "source": [
    "import os\n",
    "import glob\n",
    "import socket\n",
    "import logging\n",
    "import pickle\n",
    "import numpy as np\n",
    "import pandas as pd\n",
    "from scipy.io import wavfile\n",
    "from scipy import signal\n",
    "\n",
    "### Fuck matplotlib, I'm using poltly now\n",
    "from plotly.subplots import make_subplots\n",
    "import plotly.graph_objects as go\n",
    "\n",
    "from importlib import reload\n",
    "\n",
    "logger = logging.getLogger()\n",
    "handler = logging.StreamHandler()\n",
    "formatter = logging.Formatter(\n",
    "        '%(asctime)s %(name)-12s %(levelname)-8s %(message)s')\n",
    "handler.setFormatter(formatter)\n",
    "logger.addHandler(handler)\n",
    "logger.setLevel(logging.INFO)\n",
    "\n",
    "logger.info('Running on {}'.format(socket.gethostname()))"
   ]
  },
  {
   "cell_type": "code",
   "execution_count": null,
   "id": "06043286",
   "metadata": {},
   "outputs": [
    {
     "name": "stdout",
     "output_type": "stream",
     "text": [
      "Collecting package metadata (current_repodata.json): done\n",
      "Solving environment: | \n",
      "\n",
      "Updating scipy is constricted by \n",
      "\n",
      "anaconda -> requires scipy==1.6.2=py38had2a1c9_1\n",
      "\n",
      "If you are sure you want an update of your package either try `conda update --all` or install a specific version of the package you want using `conda install <pkg>=<version>`\n",
      "\n",
      "done\n",
      "\n",
      "## Package Plan ##\n",
      "\n",
      "  environment location: /home/finch/anaconda3\n",
      "\n",
      "  added / updated specs:\n",
      "    - scipy\n",
      "\n",
      "\n",
      "The following packages will be downloaded:\n",
      "\n",
      "    package                    |            build\n",
      "    ---------------------------|-----------------\n",
      "    ansi2html-1.5.2            |   py38h06a4308_0         265 KB\n",
      "    brotli-python-1.0.9        |   py38heb0550a_2         340 KB\n",
      "    conda-4.13.0               |   py38h06a4308_0         896 KB\n",
      "    conda-content-trust-0.1.3  |   py38h06a4308_0          70 KB\n",
      "    conda-package-handling-1.8.1|   py38h7f8727e_0         885 KB\n",
      "    conda-repo-cli-1.0.5       |   py38h06a4308_0         107 KB\n",
      "    dash-1.19.0                |     pyhd3eb1b0_0          69 KB\n",
      "    dash-core-components-1.3.1 |             py_0         1.6 MB\n",
      "    dash-html-components-1.0.1 |             py_0         149 KB\n",
      "    dash-renderer-1.1.2        |             py_0         902 KB\n",
      "    dash-table-4.4.1           |     pyhd3eb1b0_0         1.3 MB\n",
      "    flask-compress-1.10.1      |     pyhd3eb1b0_0          14 KB\n",
      "    pathlib-1.0.1              |     pyhd3eb1b0_1          17 KB\n",
      "    plotly-5.9.0               |   py38h06a4308_0         4.0 MB\n",
      "    retrying-1.3.3             |     pyhd3eb1b0_2          14 KB\n",
      "    tenacity-8.0.1             |   py38h06a4308_1          34 KB\n",
      "    xmltodict-0.12.0           |     pyhd3eb1b0_0          13 KB\n",
      "    ------------------------------------------------------------\n",
      "                                           Total:        10.6 MB\n",
      "\n",
      "The following NEW packages will be INSTALLED:\n",
      "\n",
      "  dash-core-compone~ pkgs/main/noarch::dash-core-components-1.3.1-py_0\n",
      "  dash-html-compone~ pkgs/main/noarch::dash-html-components-1.0.1-py_0\n",
      "  dash-renderer      pkgs/main/noarch::dash-renderer-1.1.2-py_0\n",
      "  dash-table         pkgs/main/noarch::dash-table-4.4.1-pyhd3eb1b0_0\n",
      "  pathlib            pkgs/main/noarch::pathlib-1.0.1-pyhd3eb1b0_1\n",
      "\n",
      "The following packages will be REMOVED:\n",
      "\n",
      "  python_abi-3.8-2_cp38\n",
      "\n",
      "The following packages will be UPDATED:\n",
      "\n",
      "  conda              conda-forge::conda-4.10.3-py38h578d9b~ --> pkgs/main::conda-4.13.0-py38h06a4308_0\n",
      "  conda-content-tru~ pkgs/main/noarch::conda-content-trust~ --> pkgs/main/linux-64::conda-content-trust-0.1.3-py38h06a4308_0\n",
      "  conda-package-han~                   1.7.3-py38h27cfd23_1 --> 1.8.1-py38h7f8727e_0\n",
      "  conda-repo-cli     pkgs/main/noarch::conda-repo-cli-1.0.~ --> pkgs/main/linux-64::conda-repo-cli-1.0.5-py38h06a4308_0\n",
      "  plotly             conda-forge/noarch::plotly-5.3.1-pyhd~ --> pkgs/main/linux-64::plotly-5.9.0-py38h06a4308_0\n",
      "  tenacity           conda-forge/noarch::tenacity-8.0.1-py~ --> pkgs/main/linux-64::tenacity-8.0.1-py38h06a4308_1\n",
      "\n",
      "The following packages will be SUPERSEDED by a higher-priority channel:\n",
      "\n",
      "  ansi2html          conda-forge::ansi2html-1.6.0-py38h578~ --> pkgs/main::ansi2html-1.5.2-py38h06a4308_0\n",
      "  brotli-python      conda-forge::brotli-python-1.0.9-py38~ --> pkgs/main::brotli-python-1.0.9-py38heb0550a_2\n",
      "  dash                 conda-forge::dash-2.0.0-pyhd8ed1ab_0 --> pkgs/main::dash-1.19.0-pyhd3eb1b0_0\n",
      "  flask-compress     conda-forge::flask-compress-1.10.1-py~ --> pkgs/main::flask-compress-1.10.1-pyhd3eb1b0_0\n",
      "  retrying                 conda-forge::retrying-1.3.3-py_2 --> pkgs/main::retrying-1.3.3-pyhd3eb1b0_2\n",
      "\n",
      "The following packages will be DOWNGRADED:\n",
      "\n",
      "  xmltodict                                     0.12.0-py_0 --> 0.12.0-pyhd3eb1b0_0\n",
      "\n",
      "\n",
      "Proceed ([y]/n)? "
     ]
    }
   ],
   "source": [
    "!conda update scipy"
   ]
  },
  {
   "cell_type": "code",
   "execution_count": 2,
   "id": "ae3433d7",
   "metadata": {},
   "outputs": [
    {
     "data": {
      "text/plain": [
       "'1.9.0'"
      ]
     },
     "execution_count": 2,
     "metadata": {},
     "output_type": "execute_result"
    }
   ],
   "source": [
    "import scipy\n",
    "scipy.__version__"
   ]
  },
  {
   "cell_type": "code",
   "execution_count": 12,
   "id": "073984fd",
   "metadata": {},
   "outputs": [
    {
     "ename": "ValueError",
     "evalue": "mmap length is greater than file size",
     "output_type": "error",
     "traceback": [
      "\u001b[0;31m---------------------------------------------------------------------------\u001b[0m",
      "\u001b[0;31mValueError\u001b[0m                                Traceback (most recent call last)",
      "Input \u001b[0;32mIn [12]\u001b[0m, in \u001b[0;36m<module>\u001b[0;34m\u001b[0m\n\u001b[1;32m      1\u001b[0m file_path \u001b[38;5;241m=\u001b[39m \u001b[38;5;124m'\u001b[39m\u001b[38;5;124m/mnt/sphere/speech_bci/raw_data/s_b1312_21/2022-07-28/alsa/09-00-01.wav\u001b[39m\u001b[38;5;124m'\u001b[39m\n\u001b[0;32m----> 3\u001b[0m \u001b[48;5;17mwavfile\u001b[49m\u001b[38;5;241;48;5;17m.\u001b[39;49m\u001b[48;5;17mread\u001b[49m\u001b[48;5;17m(\u001b[49m\u001b[48;5;17mfile_path\u001b[49m\u001b[48;5;17m,\u001b[49m\u001b[48;5;17m \u001b[49m\u001b[48;5;17mmmap\u001b[49m\u001b[38;5;241;48;5;17m=\u001b[39;49m\u001b[38;5;28;48;5;17;01mTrue\u001b[39;49;00m\u001b[48;5;17m)\u001b[49m\n",
      "File \u001b[0;32m~/anaconda3/envs/ceciestunepipe/lib/python3.8/site-packages/scipy/io/wavfile.py\u001b[0m, in \u001b[0;36mread\u001b[0;34m(filename, mmap)\u001b[0m\n\u001b[1;32m    687\u001b[0m     \u001b[38;5;28;01mif\u001b[39;00m \u001b[38;5;129;01mnot\u001b[39;00m fmt_chunk_received:\n\u001b[1;32m    688\u001b[0m         \u001b[38;5;28;01mraise\u001b[39;00m \u001b[38;5;167;01mValueError\u001b[39;00m(\u001b[38;5;124m\"\u001b[39m\u001b[38;5;124mNo fmt chunk before data\u001b[39m\u001b[38;5;124m\"\u001b[39m)\n\u001b[0;32m--> 689\u001b[0m     data \u001b[38;5;241m=\u001b[39m \u001b[48;5;17m_read_data_chunk\u001b[49m\u001b[48;5;17m(\u001b[49m\u001b[48;5;17mfid\u001b[49m\u001b[48;5;17m,\u001b[49m\u001b[48;5;17m \u001b[49m\u001b[48;5;17mformat_tag\u001b[49m\u001b[48;5;17m,\u001b[49m\u001b[48;5;17m \u001b[49m\u001b[48;5;17mchannels\u001b[49m\u001b[48;5;17m,\u001b[49m\u001b[48;5;17m \u001b[49m\u001b[48;5;17mbit_depth\u001b[49m\u001b[48;5;17m,\u001b[49m\n\u001b[1;32m    690\u001b[0m \u001b[48;5;17m                            \u001b[49m\u001b[48;5;17mis_big_endian\u001b[49m\u001b[48;5;17m,\u001b[49m\u001b[48;5;17m \u001b[49m\u001b[48;5;17mblock_align\u001b[49m\u001b[48;5;17m,\u001b[49m\u001b[48;5;17m \u001b[49m\u001b[48;5;17mmmap\u001b[49m\u001b[48;5;17m)\u001b[49m\n\u001b[1;32m    691\u001b[0m \u001b[38;5;28;01melif\u001b[39;00m chunk_id \u001b[38;5;241m==\u001b[39m \u001b[38;5;124mb\u001b[39m\u001b[38;5;124m'\u001b[39m\u001b[38;5;124mLIST\u001b[39m\u001b[38;5;124m'\u001b[39m:\n\u001b[1;32m    692\u001b[0m     \u001b[38;5;66;03m# Someday this could be handled properly but for now skip it\u001b[39;00m\n\u001b[1;32m    693\u001b[0m     _skip_unknown_chunk(fid, is_big_endian)\n",
      "File \u001b[0;32m~/anaconda3/envs/ceciestunepipe/lib/python3.8/site-packages/scipy/io/wavfile.py\u001b[0m, in \u001b[0;36m_read_data_chunk\u001b[0;34m(fid, format_tag, channels, bit_depth, is_big_endian, block_align, mmap)\u001b[0m\n\u001b[1;32m    478\u001b[0m \u001b[38;5;28;01mif\u001b[39;00m bytes_per_sample \u001b[38;5;129;01min\u001b[39;00m {\u001b[38;5;241m1\u001b[39m, \u001b[38;5;241m2\u001b[39m, \u001b[38;5;241m4\u001b[39m, \u001b[38;5;241m8\u001b[39m}:\n\u001b[1;32m    479\u001b[0m     start \u001b[38;5;241m=\u001b[39m fid\u001b[38;5;241m.\u001b[39mtell()\n\u001b[0;32m--> 480\u001b[0m     data \u001b[38;5;241m=\u001b[39m \u001b[48;5;17mnumpy\u001b[49m\u001b[38;5;241;48;5;17m.\u001b[39;49m\u001b[48;5;17mmemmap\u001b[49m\u001b[48;5;17m(\u001b[49m\u001b[48;5;17mfid\u001b[49m\u001b[48;5;17m,\u001b[49m\u001b[48;5;17m \u001b[49m\u001b[48;5;17mdtype\u001b[49m\u001b[38;5;241;48;5;17m=\u001b[39;49m\u001b[48;5;17mdtype\u001b[49m\u001b[48;5;17m,\u001b[49m\u001b[48;5;17m \u001b[49m\u001b[48;5;17mmode\u001b[49m\u001b[38;5;241;48;5;17m=\u001b[39;49m\u001b[38;5;124;48;5;17m'\u001b[39;49m\u001b[38;5;124;48;5;17mc\u001b[39;49m\u001b[38;5;124;48;5;17m'\u001b[39;49m\u001b[48;5;17m,\u001b[49m\u001b[48;5;17m \u001b[49m\u001b[48;5;17moffset\u001b[49m\u001b[38;5;241;48;5;17m=\u001b[39;49m\u001b[48;5;17mstart\u001b[49m\u001b[48;5;17m,\u001b[49m\n\u001b[1;32m    481\u001b[0m \u001b[48;5;17m                        \u001b[49m\u001b[48;5;17mshape\u001b[49m\u001b[38;5;241;48;5;17m=\u001b[39;49m\u001b[48;5;17m(\u001b[49m\u001b[48;5;17mn_samples\u001b[49m\u001b[48;5;17m,\u001b[49m\u001b[48;5;17m)\u001b[49m\u001b[48;5;17m)\u001b[49m\n\u001b[1;32m    482\u001b[0m     fid\u001b[38;5;241m.\u001b[39mseek(start \u001b[38;5;241m+\u001b[39m size)\n\u001b[1;32m    483\u001b[0m \u001b[38;5;28;01melse\u001b[39;00m:\n",
      "File \u001b[0;32m~/.local/lib/python3.8/site-packages/numpy/core/memmap.py\u001b[0m, in \u001b[0;36mmemmap.__new__\u001b[0;34m(subtype, filename, dtype, mode, offset, shape, order)\u001b[0m\n\u001b[1;32m    265\u001b[0m \u001b[38;5;28mbytes\u001b[39m \u001b[38;5;241m-\u001b[39m\u001b[38;5;241m=\u001b[39m start\n\u001b[1;32m    266\u001b[0m array_offset \u001b[38;5;241m=\u001b[39m offset \u001b[38;5;241m-\u001b[39m start\n\u001b[0;32m--> 267\u001b[0m mm \u001b[38;5;241m=\u001b[39m \u001b[48;5;17mmmap\u001b[49m\u001b[38;5;241;48;5;17m.\u001b[39;49m\u001b[48;5;17mmmap\u001b[49m\u001b[48;5;17m(\u001b[49m\u001b[48;5;17mfid\u001b[49m\u001b[38;5;241;48;5;17m.\u001b[39;49m\u001b[48;5;17mfileno\u001b[49m\u001b[48;5;17m(\u001b[49m\u001b[48;5;17m)\u001b[49m\u001b[48;5;17m,\u001b[49m\u001b[48;5;17m \u001b[49m\u001b[38;5;28;48;5;17mbytes\u001b[39;49m\u001b[48;5;17m,\u001b[49m\u001b[48;5;17m \u001b[49m\u001b[48;5;17maccess\u001b[49m\u001b[38;5;241;48;5;17m=\u001b[39;49m\u001b[48;5;17macc\u001b[49m\u001b[48;5;17m,\u001b[49m\u001b[48;5;17m \u001b[49m\u001b[48;5;17moffset\u001b[49m\u001b[38;5;241;48;5;17m=\u001b[39;49m\u001b[48;5;17mstart\u001b[49m\u001b[48;5;17m)\u001b[49m\n\u001b[1;32m    269\u001b[0m \u001b[38;5;28mself\u001b[39m \u001b[38;5;241m=\u001b[39m ndarray\u001b[38;5;241m.\u001b[39m\u001b[38;5;21m__new__\u001b[39m(subtype, shape, dtype\u001b[38;5;241m=\u001b[39mdescr, buffer\u001b[38;5;241m=\u001b[39mmm,\n\u001b[1;32m    270\u001b[0m                        offset\u001b[38;5;241m=\u001b[39marray_offset, order\u001b[38;5;241m=\u001b[39morder)\n\u001b[1;32m    271\u001b[0m \u001b[38;5;28mself\u001b[39m\u001b[38;5;241m.\u001b[39m_mmap \u001b[38;5;241m=\u001b[39m mm\n",
      "\u001b[0;31mValueError\u001b[0m: mmap length is greater than file size"
     ]
    }
   ],
   "source": [
    "file_path = '/mnt/sphere/speech_bci/raw_data/s_b1312_21/2022-07-28/alsa/09-00-01.wav'\n",
    "\n",
    "wavfile.read(file_path, mmap=True)"
   ]
  },
  {
   "cell_type": "code",
   "execution_count": 6,
   "id": "2215c514",
   "metadata": {},
   "outputs": [],
   "source": [
    "wavfile.read?"
   ]
  },
  {
   "cell_type": "code",
   "execution_count": null,
   "id": "bff6fb3f",
   "metadata": {},
   "outputs": [],
   "source": []
  }
 ],
 "metadata": {
  "kernelspec": {
   "display_name": "ceciestunepipe",
   "language": "python",
   "name": "ceciestunepipe"
  },
  "language_info": {
   "codemirror_mode": {
    "name": "ipython",
    "version": 3
   },
   "file_extension": ".py",
   "mimetype": "text/x-python",
   "name": "python",
   "nbconvert_exporter": "python",
   "pygments_lexer": "ipython3",
   "version": "3.8.10"
  }
 },
 "nbformat": 4,
 "nbformat_minor": 5
}
