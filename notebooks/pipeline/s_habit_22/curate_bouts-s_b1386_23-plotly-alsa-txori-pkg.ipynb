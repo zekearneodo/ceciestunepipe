{
 "cells": [
  {
   "cell_type": "markdown",
   "metadata": {},
   "source": [
    "## Searching for bouts for a day of alsa recording"
   ]
  },
  {
   "cell_type": "code",
   "execution_count": 190,
   "metadata": {},
   "outputs": [
    {
     "name": "stderr",
     "output_type": "stream",
     "text": [
      "2023-03-06 10:17:14,500 root         INFO     Running on txori.ucsd.edu\n",
      "2023-03-06 10:17:14,500 root         INFO     Running on txori.ucsd.edu\n",
      "2023-03-06 10:17:14,500 root         INFO     Running on txori.ucsd.edu\n",
      "2023-03-06 10:17:14,500 root         INFO     Running on txori.ucsd.edu\n"
     ]
    }
   ],
   "source": [
    "%matplotlib inline\n",
    "\n",
    "import os\n",
    "import glob\n",
    "import socket\n",
    "import logging\n",
    "import pickle\n",
    "import numpy as np\n",
    "import pandas as pd\n",
    "\n",
    "from scipy.io import wavfile\n",
    "from scipy import signal\n",
    "\n",
    "### Fuck matplotlib, I'm using poltly now\n",
    "from plotly.subplots import make_subplots\n",
    "import plotly.graph_objects as go\n",
    "\n",
    "from importlib import reload\n",
    "\n",
    "logger = logging.getLogger()\n",
    "handler = logging.StreamHandler()\n",
    "formatter = logging.Formatter(\n",
    "        '%(asctime)s %(name)-12s %(levelname)-8s %(message)s')\n",
    "handler.setFormatter(formatter)\n",
    "logger.addHandler(handler)\n",
    "logger.setLevel(logging.INFO)\n",
    "\n",
    "logger.info('Running on {}'.format(socket.gethostname()))"
   ]
  },
  {
   "cell_type": "code",
   "execution_count": 191,
   "metadata": {},
   "outputs": [],
   "source": [
    "from ceciestunepipe.file import bcistructure as et\n",
    "from ceciestunepipe.util.sound import boutsearch as bs\n",
    "from ceciestunepipe.pipeline import searchbout as sb"
   ]
  },
  {
   "cell_type": "markdown",
   "metadata": {},
   "source": [
    "### Get the file locations for a session (day) of recordings"
   ]
  },
  {
   "cell_type": "code",
   "execution_count": 249,
   "metadata": {},
   "outputs": [],
   "source": [
    "##### reload(et)\n",
    "sess_par = {'bird': 's_b1386_23',\n",
    "           'sess': '2023-03-06',\n",
    "            'acq_software': 'alsa',\n",
    "           'derived_folder': 'bouts_ceciestunepipe',\n",
    "           'auto_file': 'bout_auto_file',\n",
    "           'curated_file': 'bout_curated_file',\n",
    "           'super_session': 'all-sess-01'}\n",
    "\n",
    "exp_struct = et.get_exp_struct(sess_par['bird'], sess_par['sess'], ephys_software='alsa')\n",
    "\n",
    "raw_folder = exp_struct['folders']['alsa']\n",
    "bouts_folder = os.path.join(exp_struct['folders']['derived'], 'bouts_ceciestunepipe')"
   ]
  },
  {
   "cell_type": "code",
   "execution_count": 250,
   "metadata": {},
   "outputs": [
    {
     "data": {
      "text/plain": [
       "'txori'"
      ]
     },
     "execution_count": 250,
     "metadata": {},
     "output_type": "execute_result"
    }
   ],
   "source": [
    "socket.gethostname().split('.')[0]"
   ]
  },
  {
   "cell_type": "code",
   "execution_count": 251,
   "metadata": {},
   "outputs": [
    {
     "data": {
      "text/plain": [
       "{'bird': '/mnt/sphere/speech_bci/raw_data/s_b1386_23',\n",
       " 'raw': '/mnt/sphere/speech_bci/raw_data/s_b1386_23/2023-03-06',\n",
       " 'alsa': '/mnt/sphere/speech_bci/raw_data/s_b1386_23/2023-03-06/alsa',\n",
       " 'kwik': '/scratch/earneodo/s_b1386_23/alsa/kwik/2023-03-06',\n",
       " 'processed': '/mnt/sphere/speech_bci/processed_data/s_b1386_23/2023-03-06/alsa',\n",
       " 'derived': '/mnt/sphere/speech_bci/derived_data/s_b1386_23/2023-03-06/alsa',\n",
       " 'tmp': '/scratch/earneodo/tmp',\n",
       " 'msort': '/scratch/earneodo/s_b1386_23/alsa/msort/2023-03-06',\n",
       " 'ksort': '/scratch/earneodo/s_b1386_23/alsa/ksort/2023-03-06/',\n",
       " 'sort': '/mnt/sphere/speech_bci/derived_data/s_b1386_23/2023-03-06/alsa/'}"
      ]
     },
     "execution_count": 251,
     "metadata": {},
     "output_type": "execute_result"
    }
   ],
   "source": [
    "exp_struct['folders']"
   ]
  },
  {
   "cell_type": "markdown",
   "metadata": {},
   "source": [
    "### read a session's bouts pandas\n",
    "- get the location of the file\n",
    "- load the pandas pickle\n",
    "- load the search/spectrogram parameters"
   ]
  },
  {
   "cell_type": "code",
   "execution_count": 252,
   "metadata": {},
   "outputs": [
    {
     "data": {
      "text/plain": [
       "'1.4.2'"
      ]
     },
     "execution_count": 252,
     "metadata": {},
     "output_type": "execute_result"
    }
   ],
   "source": [
    "pd.__version__"
   ]
  },
  {
   "cell_type": "code",
   "execution_count": 253,
   "metadata": {},
   "outputs": [],
   "source": [
    "reload(sb)\n",
    "hparams, bpd = sb.read_session_bouts(sess_par['bird'], sess_par['sess'], recording_software='alsa', curated=False)"
   ]
  },
  {
   "cell_type": "code",
   "execution_count": 254,
   "metadata": {
    "scrolled": true,
    "tags": []
   },
   "outputs": [
    {
     "data": {
      "text/html": [
       "<div>\n",
       "<style scoped>\n",
       "    .dataframe tbody tr th:only-of-type {\n",
       "        vertical-align: middle;\n",
       "    }\n",
       "\n",
       "    .dataframe tbody tr th {\n",
       "        vertical-align: top;\n",
       "    }\n",
       "\n",
       "    .dataframe thead th {\n",
       "        text-align: right;\n",
       "    }\n",
       "</style>\n",
       "<table border=\"1\" class=\"dataframe\">\n",
       "  <thead>\n",
       "    <tr style=\"text-align: right;\">\n",
       "      <th></th>\n",
       "      <th>start_ms</th>\n",
       "      <th>end_ms</th>\n",
       "      <th>start_sample</th>\n",
       "      <th>end_sample</th>\n",
       "      <th>p_step</th>\n",
       "      <th>rms_p</th>\n",
       "      <th>peak_p</th>\n",
       "      <th>bout_check</th>\n",
       "      <th>file</th>\n",
       "      <th>len_ms</th>\n",
       "      <th>syl_in</th>\n",
       "      <th>n_syl</th>\n",
       "      <th>peaks_p</th>\n",
       "      <th>n_peaks</th>\n",
       "      <th>l_p_ratio</th>\n",
       "      <th>waveform</th>\n",
       "      <th>valid_waveform</th>\n",
       "      <th>valid</th>\n",
       "      <th>spectrogram</th>\n",
       "      <th>confusing</th>\n",
       "    </tr>\n",
       "  </thead>\n",
       "  <tbody>\n",
       "    <tr>\n",
       "      <th>0</th>\n",
       "      <td>42550</td>\n",
       "      <td>46055</td>\n",
       "      <td>2042400</td>\n",
       "      <td>2210640</td>\n",
       "      <td>[33.09856400122699, 39.169237701035605, 34.814...</td>\n",
       "      <td>5.707036</td>\n",
       "      <td>39.169238</td>\n",
       "      <td>True</td>\n",
       "      <td>/mnt/sphere/speech_bci/raw_data/s_b1386_23/202...</td>\n",
       "      <td>3505</td>\n",
       "      <td>[[42550, 42635], [43715, 43745], [43765, 43825...</td>\n",
       "      <td>8</td>\n",
       "      <td>[1, 10, 235, 243, 250, 298, 498, 550, 560, 614...</td>\n",
       "      <td>12</td>\n",
       "      <td>292.083333</td>\n",
       "      <td>[-3, -3, -2, -3, -3, -2, -3, -3, -2, -2, -3, -...</td>\n",
       "      <td>True</td>\n",
       "      <td>True</td>\n",
       "      <td>[[0.0, 0.0, 0.0, 0.0, 0.0, 0.0, 0.0, 0.0, 0.0,...</td>\n",
       "      <td>True</td>\n",
       "    </tr>\n",
       "    <tr>\n",
       "      <th>1</th>\n",
       "      <td>59480</td>\n",
       "      <td>62650</td>\n",
       "      <td>2855040</td>\n",
       "      <td>3007200</td>\n",
       "      <td>[16.98217840914668, 24.957415909343403, 23.891...</td>\n",
       "      <td>5.707036</td>\n",
       "      <td>34.574872</td>\n",
       "      <td>True</td>\n",
       "      <td>/mnt/sphere/speech_bci/raw_data/s_b1386_23/202...</td>\n",
       "      <td>3170</td>\n",
       "      <td>[[59480, 59530], [59805, 59890], [61495, 61540...</td>\n",
       "      <td>4</td>\n",
       "      <td>[1, 66, 77, 98, 128, 225, 405, 418, 630]</td>\n",
       "      <td>9</td>\n",
       "      <td>352.222222</td>\n",
       "      <td>[-5, -6, -6, -7, -7, -5, -5, -5, -4, -5, -6, -...</td>\n",
       "      <td>True</td>\n",
       "      <td>True</td>\n",
       "      <td>[[0.0, 0.0, 0.0, 0.0, 0.0, 0.0, 0.0, 0.0, 0.0,...</td>\n",
       "      <td>True</td>\n",
       "    </tr>\n",
       "    <tr>\n",
       "      <th>2</th>\n",
       "      <td>65755</td>\n",
       "      <td>70185</td>\n",
       "      <td>3156240</td>\n",
       "      <td>3368880</td>\n",
       "      <td>[3.267835809782178, 2.528468905319251, 8.67923...</td>\n",
       "      <td>5.707036</td>\n",
       "      <td>20.486740</td>\n",
       "      <td>True</td>\n",
       "      <td>/mnt/sphere/speech_bci/raw_data/s_b1386_23/202...</td>\n",
       "      <td>4430</td>\n",
       "      <td>[[65755, 65800], [67645, 67685], [68575, 68610...</td>\n",
       "      <td>4</td>\n",
       "      <td>[3, 274, 328, 380, 565, 880]</td>\n",
       "      <td>6</td>\n",
       "      <td>738.333333</td>\n",
       "      <td>[6, 6, 5, 6, 7, 5, 6, 6, 5, 6, 6, 5, 5, 6, 6, ...</td>\n",
       "      <td>True</td>\n",
       "      <td>True</td>\n",
       "      <td>[[0.0, 0.0, 0.0, 0.0, 0.0, 0.0, 0.0, 0.0, 0.0,...</td>\n",
       "      <td>True</td>\n",
       "    </tr>\n",
       "    <tr>\n",
       "      <th>3</th>\n",
       "      <td>95545</td>\n",
       "      <td>104220</td>\n",
       "      <td>4586160</td>\n",
       "      <td>5002560</td>\n",
       "      <td>[3.3934387195136426, 12.594630940458712, 14.92...</td>\n",
       "      <td>5.707036</td>\n",
       "      <td>63.480639</td>\n",
       "      <td>True</td>\n",
       "      <td>/mnt/sphere/speech_bci/raw_data/s_b1386_23/202...</td>\n",
       "      <td>8675</td>\n",
       "      <td>[[95545, 95580], [95625, 95665], [96325, 96375...</td>\n",
       "      <td>12</td>\n",
       "      <td>[2, 17, 138, 158, 196, 219, 273, 281, 844, 876...</td>\n",
       "      <td>21</td>\n",
       "      <td>413.095238</td>\n",
       "      <td>[11, -26, -6, 21, 2, -9, 30, -2, -7, 33, -2, -...</td>\n",
       "      <td>True</td>\n",
       "      <td>True</td>\n",
       "      <td>[[0.0, 0.0, 0.0, 0.0, 0.0, 0.0, 0.0, 0.0, 0.0,...</td>\n",
       "      <td>True</td>\n",
       "    </tr>\n",
       "    <tr>\n",
       "      <th>4</th>\n",
       "      <td>121850</td>\n",
       "      <td>127575</td>\n",
       "      <td>5848800</td>\n",
       "      <td>6123600</td>\n",
       "      <td>[2.8224189914459727, 15.770951724285998, 18.10...</td>\n",
       "      <td>5.707036</td>\n",
       "      <td>37.364713</td>\n",
       "      <td>True</td>\n",
       "      <td>/mnt/sphere/speech_bci/raw_data/s_b1386_23/202...</td>\n",
       "      <td>5725</td>\n",
       "      <td>[[121850, 121895], [122835, 122915], [125100, ...</td>\n",
       "      <td>7</td>\n",
       "      <td>[2, 118, 125, 204, 610, 651, 762, 1019, 1096, ...</td>\n",
       "      <td>10</td>\n",
       "      <td>572.500000</td>\n",
       "      <td>[-10, -3, -5, -12, -12, -10, -9, -13, -13, -8,...</td>\n",
       "      <td>True</td>\n",
       "      <td>True</td>\n",
       "      <td>[[0.0, 0.0, 0.0, 0.0, 0.0, 0.0, 0.0, 0.0, 0.0,...</td>\n",
       "      <td>True</td>\n",
       "    </tr>\n",
       "  </tbody>\n",
       "</table>\n",
       "</div>"
      ],
      "text/plain": [
       "   start_ms  end_ms  start_sample  end_sample  \\\n",
       "0     42550   46055       2042400     2210640   \n",
       "1     59480   62650       2855040     3007200   \n",
       "2     65755   70185       3156240     3368880   \n",
       "3     95545  104220       4586160     5002560   \n",
       "4    121850  127575       5848800     6123600   \n",
       "\n",
       "                                              p_step     rms_p     peak_p  \\\n",
       "0  [33.09856400122699, 39.169237701035605, 34.814...  5.707036  39.169238   \n",
       "1  [16.98217840914668, 24.957415909343403, 23.891...  5.707036  34.574872   \n",
       "2  [3.267835809782178, 2.528468905319251, 8.67923...  5.707036  20.486740   \n",
       "3  [3.3934387195136426, 12.594630940458712, 14.92...  5.707036  63.480639   \n",
       "4  [2.8224189914459727, 15.770951724285998, 18.10...  5.707036  37.364713   \n",
       "\n",
       "   bout_check                                               file  len_ms  \\\n",
       "0        True  /mnt/sphere/speech_bci/raw_data/s_b1386_23/202...    3505   \n",
       "1        True  /mnt/sphere/speech_bci/raw_data/s_b1386_23/202...    3170   \n",
       "2        True  /mnt/sphere/speech_bci/raw_data/s_b1386_23/202...    4430   \n",
       "3        True  /mnt/sphere/speech_bci/raw_data/s_b1386_23/202...    8675   \n",
       "4        True  /mnt/sphere/speech_bci/raw_data/s_b1386_23/202...    5725   \n",
       "\n",
       "                                              syl_in  n_syl  \\\n",
       "0  [[42550, 42635], [43715, 43745], [43765, 43825...      8   \n",
       "1  [[59480, 59530], [59805, 59890], [61495, 61540...      4   \n",
       "2  [[65755, 65800], [67645, 67685], [68575, 68610...      4   \n",
       "3  [[95545, 95580], [95625, 95665], [96325, 96375...     12   \n",
       "4  [[121850, 121895], [122835, 122915], [125100, ...      7   \n",
       "\n",
       "                                             peaks_p  n_peaks   l_p_ratio  \\\n",
       "0  [1, 10, 235, 243, 250, 298, 498, 550, 560, 614...       12  292.083333   \n",
       "1           [1, 66, 77, 98, 128, 225, 405, 418, 630]        9  352.222222   \n",
       "2                       [3, 274, 328, 380, 565, 880]        6  738.333333   \n",
       "3  [2, 17, 138, 158, 196, 219, 273, 281, 844, 876...       21  413.095238   \n",
       "4  [2, 118, 125, 204, 610, 651, 762, 1019, 1096, ...       10  572.500000   \n",
       "\n",
       "                                            waveform  valid_waveform  valid  \\\n",
       "0  [-3, -3, -2, -3, -3, -2, -3, -3, -2, -2, -3, -...            True   True   \n",
       "1  [-5, -6, -6, -7, -7, -5, -5, -5, -4, -5, -6, -...            True   True   \n",
       "2  [6, 6, 5, 6, 7, 5, 6, 6, 5, 6, 6, 5, 5, 6, 6, ...            True   True   \n",
       "3  [11, -26, -6, 21, 2, -9, 30, -2, -7, 33, -2, -...            True   True   \n",
       "4  [-10, -3, -5, -12, -12, -10, -9, -13, -13, -8,...            True   True   \n",
       "\n",
       "                                         spectrogram  confusing  \n",
       "0  [[0.0, 0.0, 0.0, 0.0, 0.0, 0.0, 0.0, 0.0, 0.0,...       True  \n",
       "1  [[0.0, 0.0, 0.0, 0.0, 0.0, 0.0, 0.0, 0.0, 0.0,...       True  \n",
       "2  [[0.0, 0.0, 0.0, 0.0, 0.0, 0.0, 0.0, 0.0, 0.0,...       True  \n",
       "3  [[0.0, 0.0, 0.0, 0.0, 0.0, 0.0, 0.0, 0.0, 0.0,...       True  \n",
       "4  [[0.0, 0.0, 0.0, 0.0, 0.0, 0.0, 0.0, 0.0, 0.0,...       True  "
      ]
     },
     "execution_count": 254,
     "metadata": {},
     "output_type": "execute_result"
    }
   ],
   "source": [
    "bpd.head(5)"
   ]
  },
  {
   "cell_type": "code",
   "execution_count": 255,
   "metadata": {},
   "outputs": [
    {
     "data": {
      "text/plain": [
       "579"
      ]
     },
     "execution_count": 255,
     "metadata": {},
     "output_type": "execute_result"
    }
   ],
   "source": [
    "bpd.index.size"
   ]
  },
  {
   "cell_type": "markdown",
   "metadata": {},
   "source": [
    "###### if it wasnt saved (which is a bad mistake), read the sampling rate from the first file in the session"
   ]
  },
  {
   "cell_type": "markdown",
   "metadata": {},
   "source": [
    "## inspect the bouts and curate them"
   ]
  },
  {
   "cell_type": "markdown",
   "metadata": {},
   "source": [
    "#### visualize one bout"
   ]
  },
  {
   "cell_type": "code",
   "execution_count": 256,
   "metadata": {},
   "outputs": [],
   "source": [
    "import plotly.express as px\n",
    "import plotly.graph_objects as go\n",
    "import IPython\n",
    "from ipywidgets import widgets"
   ]
  },
  {
   "cell_type": "code",
   "execution_count": 257,
   "metadata": {},
   "outputs": [],
   "source": [
    "def viz_one_bout(df: pd.Series, sub_sample=1):\n",
    "    # get the power and the spectrogram\n",
    "    sxx = df['spectrogram'][:, ::sub_sample]\n",
    "    x = df['waveform'][::sub_sample]\n",
    "    \n",
    "    # the trace\n",
    "    tr_waveform = go.Scatter(y=x)\n",
    "    figwidg_waveform = go.FigureWidget(data=[tr_waveform],\n",
    "                                      layout= {'height': 300,'width':1000})\n",
    "\n",
    "    # the spectrogram\n",
    "    fig_spectrogram = px.imshow(sxx, \n",
    "                                     labels={}, \n",
    "                                     color_continuous_scale='Inferno',\n",
    "                                    aspect='auto')\n",
    "\n",
    "    fig_spectrogram.update_layout(width=1000, height=300, coloraxis_showscale=False)\n",
    "    fig_spectrogram.update_xaxes(showticklabels=False)\n",
    "    fig_spectrogram.update_yaxes(showticklabels=False)\n",
    "    \n",
    "    \n",
    "    figwidg_spectrogram = go.FigureWidget(fig_spectrogram)\n",
    "    \n",
    "    display(widgets.VBox([figwidg_waveform,\n",
    "              figwidg_spectrogram]))\n",
    "    \n",
    "\n",
    "#viz_one_bout(bpd.iloc[1])"
   ]
  },
  {
   "cell_type": "markdown",
   "metadata": {},
   "source": [
    "### look & listen to specific bouts"
   ]
  },
  {
   "cell_type": "code",
   "execution_count": 258,
   "metadata": {},
   "outputs": [],
   "source": [
    "def vizlisten_one_bout(df: pd.Series, hparams, sub_sample=1):\n",
    "    # get the power and the spectrogram\n",
    "    sxx = df['spectrogram'][:, ::sub_sample]\n",
    "    x = df['waveform'][::sub_sample]\n",
    "    \n",
    "    # the trace\n",
    "    tr_waveform = go.Scatter(y=x)\n",
    "    figwidg_waveform = go.FigureWidget(data=[tr_waveform],\n",
    "                                      layout= {'height': 300,'width':1000})\n",
    "\n",
    "    # the spectrogram\n",
    "    fig_spectrogram = px.imshow(sxx, \n",
    "                                     labels={}, \n",
    "                                     color_continuous_scale='Inferno',\n",
    "                                    aspect='auto')\n",
    "\n",
    "    fig_spectrogram.update_layout(width=1000, height=300, coloraxis_showscale=False)\n",
    "    fig_spectrogram.update_xaxes(showticklabels=False)\n",
    "    fig_spectrogram.update_yaxes(showticklabels=False)\n",
    "    \n",
    "    \n",
    "    figwidg_spectrogram = go.FigureWidget(fig_spectrogram)\n",
    "    \n",
    "    display(widgets.VBox([figwidg_waveform,\n",
    "              figwidg_spectrogram]))\n",
    "    \n",
    "    #the listening widget\n",
    "    IPython.display.display(IPython.display.Audio(x, rate = hparams['sample_rate']))\n",
    "\n",
    "#bout_num = 86\n",
    "#vizlisten_one_bout(bpd.iloc[bout_num], hparams)"
   ]
  },
  {
   "cell_type": "markdown",
   "metadata": {},
   "source": [
    "## use it in a widget\n"
   ]
  },
  {
   "cell_type": "code",
   "execution_count": 259,
   "metadata": {},
   "outputs": [],
   "source": [
    "bpd.sort_values('len_ms', ascending=False, inplace=True)\n",
    "bpd.reset_index(drop=True, inplace=True)"
   ]
  },
  {
   "cell_type": "code",
   "execution_count": 260,
   "metadata": {},
   "outputs": [],
   "source": [
    "### Create a counter object (count goes 1:1 to DataFrame index)\n",
    "from traitlets import CInt, link\n",
    "\n",
    "class Counter(widgets.DOMWidget):\n",
    "    value = CInt(0)\n",
    "    value.tag(sync=True)"
   ]
  },
  {
   "cell_type": "code",
   "execution_count": 261,
   "metadata": {
    "tags": []
   },
   "outputs": [
    {
     "data": {
      "application/vnd.jupyter.widget-view+json": {
       "model_id": "22a1a928ce0c4ba1867b6fd76cad2d4b",
       "version_major": 2,
       "version_minor": 0
      },
      "text/plain": [
       "VBox(children=(HBox(children=(VBox(children=(HBox(children=(Button(button_style='warning', description='Prev',…"
      ]
     },
     "metadata": {},
     "output_type": "display_data"
    }
   ],
   "source": [
    "class VizBout():\n",
    "    def __init__(self, hparams, bouts_pd):\n",
    "        self.bout = None\n",
    "        self.bouts_pd = bouts_pd\n",
    "        self.bout_series = None\n",
    "        self.is_bout = None\n",
    "        self.is_call = None\n",
    "        self.is_confusing = None\n",
    "                \n",
    "        self.bout_counter = None\n",
    "        self.bout_id = None\n",
    "        \n",
    "        self.buttons = {}\n",
    "        self.m_pick = None\n",
    "        \n",
    "        self.audio = None\n",
    "        \n",
    "        self.fig_waveform = None\n",
    "        self.fig_spectrogram = None\n",
    "        \n",
    "        self.figwidg_waveform = None\n",
    "        self.figwidg_spectrogram = None\n",
    "        \n",
    "        self.fig_width = 2\n",
    "        self.sub_sample = 10\n",
    "        \n",
    "        self.x = None\n",
    "        self.sxx = None\n",
    "        self.tr_waveform = None\n",
    "        \n",
    "        self.s_f = hparams['sample_rate']\n",
    "        \n",
    "        self.init_fig()\n",
    "        self.init_widget()\n",
    "        self.show()\n",
    "        \n",
    "    def init_fig(self):\n",
    "        # the trace\n",
    "        self.tr_waveform = go.Scatter(y=np.zeros(500))\n",
    "        self.figwidg_waveform = go.FigureWidget(data=[self.tr_waveform],\n",
    "                                               layout={'width': 1000, 'height':300})\n",
    "        \n",
    "        # the spectrogram\n",
    "        self.fig_spectrogram = px.imshow(np.random.rand(500, 500), \n",
    "                                         labels={}, \n",
    "                                         color_continuous_scale='Inferno',\n",
    "                                        aspect='auto')\n",
    "        \n",
    "        self.fig_spectrogram.update_layout(width=1000, height=300, coloraxis_showscale=False)\n",
    "        self.fig_spectrogram.update_xaxes(showticklabels=False)\n",
    "        self.fig_spectrogram.update_yaxes(showticklabels=False)\n",
    "        self.figwidg_spectrogram = go.FigureWidget(self.fig_spectrogram)\n",
    "        \n",
    "        \n",
    "    def init_widget(self):\n",
    "        # declare elements\n",
    "        # lay them out\n",
    "        #\n",
    "        \n",
    "        # is this the best place for this?\n",
    "        self.bouts_pd['is_call'] = False\n",
    "        \n",
    "        self.bout_counter = Counter()\n",
    "        self.is_bout = widgets.Checkbox(description='is bout')\n",
    "        self.is_call = widgets.Checkbox(description='calls')\n",
    "        self.is_confusing = widgets.Checkbox(description='confusing')\n",
    "        \n",
    "        self.buttons['Next'] = widgets.Button(description=\"Next\", button_style='info',\n",
    "                                              icon='plus')   \n",
    "        self.buttons['Prev'] = widgets.Button(description=\"Prev\", button_style='warning',\n",
    "                                              icon='minus')\n",
    "        self.buttons['Check'] = widgets.Button(description=\"Song\", button_style='success', \n",
    "                                               icon='check')\n",
    "        self.buttons['Uncheck'] = widgets.Button(description=\"Noise\", button_style='danger',\n",
    "                                                 icon='wrong')\n",
    "        self.buttons['Call'] = widgets.Button(description=\"Calls\")\n",
    "        \n",
    "        [b.on_click(self.button_click) for b in self.buttons.values()]\n",
    "        \n",
    "        \n",
    "        top_box = widgets.HBox([self.buttons['Prev'], self.buttons['Next']])\n",
    "        bottom_box = widgets.HBox([self.buttons['Uncheck'], self.buttons['Check'], self.buttons['Call']])\n",
    "        button_box = widgets.VBox([top_box, bottom_box])\n",
    "\n",
    "        self.m_pick = widgets.IntSlider(value=0, min=0, max=self.bouts_pd.index.size-1, step=1, \n",
    "                                        description=\"Bout candidate index\")\n",
    "        \n",
    "        \n",
    "        #self.audio = Audio(data=np.zeros(100), rate=self.s_f)\n",
    "        \n",
    "        control_box = widgets.HBox([button_box,\n",
    "                                  widgets.VBox([self.is_bout, self.is_confusing, self.is_call]),\n",
    "                                  widgets.VBox([self.m_pick])]\n",
    "                                  )\n",
    "        \n",
    "        link((self.m_pick, 'value'), (self.bout_counter, 'value'))\n",
    "\n",
    "        self.update_bout()\n",
    "        \n",
    "        self.is_bout.observe(self.bout_checked, names='value')\n",
    "        self.is_call.observe(self.call_checked, names='value')\n",
    "        self.is_confusing.observe(self.confusing_checked, names='value')\n",
    "        \n",
    "        self.m_pick.observe(self.slider_change, names='value')\n",
    "        \n",
    "        all_containers = widgets.VBox([control_box, \n",
    "                                       self.figwidg_waveform, self.figwidg_spectrogram])\n",
    "        display(all_containers)\n",
    "#         display(button_box)\n",
    "#         display(self.m_pick)\n",
    "#         display(self.is_bout)\n",
    "#         display(self.fig)\n",
    "        \n",
    "    def button_click(self, button):        \n",
    "        self.bout_id = self.bout_counter.value\n",
    "        curr_bout = self.bout_counter\n",
    "        \n",
    "        if button.description == 'Next':\n",
    "            curr_bout.value += 1\n",
    "        elif button.description == 'Prev':\n",
    "            #print('prev clicked')\n",
    "            curr_bout.value -= 1\n",
    "        \n",
    "        elif button.description == 'Song':\n",
    "            #print('check clicked')\n",
    "            self.bouts_pd.loc[self.bout_id, 'bout_check'] = True\n",
    "            self.bouts_pd.loc[self.bout_id, 'confusing'] = False\n",
    "            self.bouts_pd.loc[self.bout_id, 'is_call'] = False\n",
    "            curr_bout.value += 1\n",
    "        \n",
    "        elif button.description == 'Noise':\n",
    "            self.bouts_pd.loc[self.bout_id, 'bout_check'] = False\n",
    "            self.bouts_pd.loc[self.bout_id, 'confusing'] = False\n",
    "            self.bouts_pd.loc[self.bout_id, 'is_call'] = False\n",
    "            curr_bout.value += 1\n",
    "        \n",
    "        elif button.description == 'Calls':\n",
    "            self.bouts_pd.loc[self.bout_id, 'bout_check'] = True\n",
    "            self.bouts_pd.loc[self.bout_id, 'confusing'] = False\n",
    "            self.bouts_pd.loc[self.bout_id, 'is_call'] = True\n",
    "            curr_bout.value += 1\n",
    "        \n",
    "        # handle the edges of the counter\n",
    "        if curr_bout.value > self.m_pick.max:\n",
    "            curr_bout.value = 0\n",
    "            \n",
    "        if curr_bout.value < self.m_pick.min:\n",
    "            curr_bout.value = self.m_pick.max\n",
    "    \n",
    "    def slider_change(self, change):\n",
    "        #logger.info('slider changed')\n",
    "        #self.bout_counter = change.new\n",
    "        #clear_output(True)\n",
    "        self.update_bout()\n",
    "        self.show()\n",
    "            \n",
    "    def bout_checked(self, bc):\n",
    "#         print \"bout checked\"\n",
    "#         print bc['new']\n",
    "#         print self.motiff\n",
    "        self.bouts_pd.loc[self.bout_id, 'bout_check'] = bc['new']\n",
    "        #self.bouts_pd.loc[self.bout_id, 'is_call'] = False # if it is \n",
    "    \n",
    "    def call_checked(self, bc):\n",
    "#         print \"bout checked\"\n",
    "#         print bc['new']\n",
    "#         print self.motiff\n",
    "        self.bouts_pd.loc[self.bout_id, 'is_call'] = bc['new']\n",
    "    \n",
    "    def confusing_checked(self, bc):\n",
    "#         print \"bout checked\"\n",
    "#         print bc['new']\n",
    "#         print self.motiff\n",
    "        self.bouts_pd.loc[self.bout_id, 'confusing'] = bc['new']\n",
    "    \n",
    "    \n",
    "    \n",
    "    def update_bout(self):\n",
    "        self.bout_id = self.bout_counter.value\n",
    "        self.bout_series = self.bouts_pd.iloc[self.bout_id]\n",
    "        \n",
    "        self.is_bout.value = bool(self.bout_series['bout_check'])\n",
    "        self.is_call.value = bool(self.bout_series['is_call'])\n",
    "        self.is_confusing.value = bool(self.bout_series['confusing'])\n",
    "                \n",
    "        self.x = self.bout_series['waveform'][::self.sub_sample]\n",
    "        self.sxx = self.bout_series['spectrogram'][::self.sub_sample]\n",
    "        \n",
    "        #self.audio = Audio(data=self.x.flatten(), rate=self.s_f)\n",
    "        \n",
    "    def show(self):\n",
    "        #self.fig.clf()\n",
    "        #self.init_fig()\n",
    "        # update\n",
    "#         self.update_bout()\n",
    "        #plot\n",
    "        #logger.info('showing')\n",
    "        \n",
    "        # Show the figures\n",
    "        with self.figwidg_waveform.batch_update():\n",
    "            self.figwidg_waveform.data[0].y = self.x\n",
    "            self.figwidg_waveform.data[0].x = np.arange(self.x.size) * self.sub_sample / self.s_f \n",
    "            \n",
    "        with self.figwidg_spectrogram.batch_update():\n",
    "            self.figwidg_spectrogram.data[0].z = np.sqrt(self.sxx[::-1])\n",
    "            \n",
    "        \n",
    "\n",
    "viz_bout = VizBout(hparams, bpd)"
   ]
  },
  {
   "cell_type": "code",
   "execution_count": 242,
   "metadata": {},
   "outputs": [
    {
     "ename": "KeyboardInterrupt",
     "evalue": "",
     "output_type": "error",
     "traceback": [
      "\u001b[0;31m---------------------------------------------------------------------------\u001b[0m",
      "\u001b[0;31mKeyboardInterrupt\u001b[0m                         Traceback (most recent call last)",
      "Input \u001b[0;32mIn [242]\u001b[0m, in \u001b[0;36m<cell line: 1>\u001b[0;34m()\u001b[0m\n\u001b[0;32m----> 1\u001b[0m \u001b[38;5;28;01mraise\u001b[39;00m \u001b[38;5;167;01mKeyboardInterrupt\u001b[39;00m\n",
      "\u001b[0;31mKeyboardInterrupt\u001b[0m: "
     ]
    }
   ],
   "source": [
    "raise KeyboardInterrupt"
   ]
  },
  {
   "cell_type": "code",
   "execution_count": 262,
   "metadata": {},
   "outputs": [
    {
     "data": {
      "text/plain": [
       "41"
      ]
     },
     "execution_count": 262,
     "metadata": {},
     "output_type": "execute_result"
    }
   ],
   "source": [
    "np.where((viz_bout\n",
    "          .bouts_pd\n",
    "          ['bout_check']==True) & (\n",
    "    viz_bout.bouts_pd['confusing']==False) & (bpd['len_ms']>10000))[0].size"
   ]
  },
  {
   "cell_type": "markdown",
   "metadata": {},
   "source": [
    "### save it"
   ]
  },
  {
   "cell_type": "code",
   "execution_count": 263,
   "metadata": {},
   "outputs": [
    {
     "name": "stderr",
     "output_type": "stream",
     "text": [
      "2023-03-07 09:58:58,294 root         INFO     saved curated bout pandas to pickle /mnt/sphere/speech_bci/derived_data/s_b1386_23/2023-03-06/alsa/bouts_ceciestunepipe/bout_checked.pickle\n",
      "2023-03-07 09:58:58,294 root         INFO     saved curated bout pandas to pickle /mnt/sphere/speech_bci/derived_data/s_b1386_23/2023-03-06/alsa/bouts_ceciestunepipe/bout_checked.pickle\n",
      "2023-03-07 09:58:58,294 root         INFO     saved curated bout pandas to pickle /mnt/sphere/speech_bci/derived_data/s_b1386_23/2023-03-06/alsa/bouts_ceciestunepipe/bout_checked.pickle\n",
      "2023-03-07 09:58:58,294 root         INFO     saved curated bout pandas to pickle /mnt/sphere/speech_bci/derived_data/s_b1386_23/2023-03-06/alsa/bouts_ceciestunepipe/bout_checked.pickle\n"
     ]
    }
   ],
   "source": [
    "### get the curated file path\n",
    "##save to the curated file path \n",
    "bouts_curated_file_path = os.path.join(bouts_folder, hparams['bout_curated_file'])\n",
    "\n",
    "os.makedirs(bouts_folder, exist_ok=True, mode=0o777)\n",
    "\n",
    "viz_bout.bouts_pd.to_pickle(bouts_curated_file_path)\n",
    "logger.info('saved curated bout pandas to pickle {}'.format(bouts_curated_file_path))"
   ]
  },
  {
   "cell_type": "markdown",
   "metadata": {},
   "source": [
    "### Curated bouts longer than 10 seconds"
   ]
  },
  {
   "cell_type": "code",
   "execution_count": 264,
   "metadata": {},
   "outputs": [
    {
     "name": "stderr",
     "output_type": "stream",
     "text": [
      "2023-03-07 09:58:58,314 root         INFO     Number of bouts: 49\n",
      "2023-03-07 09:58:58,314 root         INFO     Number of bouts: 49\n",
      "2023-03-07 09:58:58,314 root         INFO     Number of bouts: 49\n",
      "2023-03-07 09:58:58,314 root         INFO     Number of bouts: 49\n",
      "2023-03-07 09:58:58,318 root         INFO     Length of all bouts (minutes): 14.324166666666667\n",
      "2023-03-07 09:58:58,318 root         INFO     Length of all bouts (minutes): 14.324166666666667\n",
      "2023-03-07 09:58:58,318 root         INFO     Length of all bouts (minutes): 14.324166666666667\n",
      "2023-03-07 09:58:58,318 root         INFO     Length of all bouts (minutes): 14.324166666666667\n"
     ]
    },
    {
     "data": {
      "image/png": "[encoded data removed]",
      "text/plain": [
       "<Figure size 432x288 with 1 Axes>"
      ]
     },
     "metadata": {
      "needs_background": "light"
     },
     "output_type": "display_data"
    }
   ],
   "source": [
    "def sess_bout_summary(bout_pd: pd.DataFrame, ax_dict: dict=None, bouts_type='curated', min_len_ms=7000) -> pd.DataFrame:\n",
    "    ## make and plot a summary of the bird's bout.\n",
    "    # get lengths of the bouts\n",
    "    # get estimate timestamps of bouts\n",
    "    # plot histogram length of bouts\n",
    "    # histogram of time of bouts\n",
    "    bout_sel = (bout_pd['valid']==True) & (bout_pd['len_ms'] > min_len_ms);\n",
    "    if bouts_type=='curated':\n",
    "        bout_sel = bout_sel & (bout_pd['bout_check']==True) & (bout_pd['confusing']==False);\n",
    "    \n",
    "    # len/time? (when do they sing the longest?)\n",
    "    logger.info('Number of bouts: {}'.format(bout_pd.loc[bout_sel].index.size))\n",
    "    logger.info('Length of all bouts (minutes): {}'.format(bout_pd.loc[bout_sel, 'len_ms'].values.sum()/60000))\n",
    "    \n",
    "    if ax_dict is None:\n",
    "        bout_pd.loc[bout_sel].hist(column='len_ms')\n",
    "    return bout_pd\n",
    "\n",
    "bpd = sess_bout_summary(bpd)"
   ]
  },
  {
   "cell_type": "markdown",
   "metadata": {},
   "source": [
    "### Update and plot the summary so far"
   ]
  },
  {
   "cell_type": "code",
   "execution_count": 265,
   "metadata": {},
   "outputs": [],
   "source": [
    "%matplotlib inline"
   ]
  },
  {
   "cell_type": "code",
   "execution_count": 266,
   "metadata": {},
   "outputs": [
    {
     "name": "stderr",
     "output_type": "stream",
     "text": [
      "2023-03-07 09:58:58,532 ceciestunepipe.pipeline.searchbout INFO     Looking for all sessions with bouts detected/curated for bird s_b1386_23\n",
      "2023-03-07 09:58:58,532 ceciestunepipe.pipeline.searchbout INFO     Looking for all sessions with bouts detected/curated for bird s_b1386_23\n",
      "2023-03-07 09:58:58,532 ceciestunepipe.pipeline.searchbout INFO     Looking for all sessions with bouts detected/curated for bird s_b1386_23\n",
      "2023-03-07 09:58:58,532 ceciestunepipe.pipeline.searchbout INFO     Looking for all sessions with bouts detected/curated for bird s_b1386_23\n",
      "2023-03-07 09:58:58,535 ceciestunepipe.pipeline.searchbout INFO     Loading bout summary dataframe\n",
      "2023-03-07 09:58:58,535 ceciestunepipe.pipeline.searchbout INFO     Loading bout summary dataframe\n",
      "2023-03-07 09:58:58,535 ceciestunepipe.pipeline.searchbout INFO     Loading bout summary dataframe\n",
      "2023-03-07 09:58:58,535 ceciestunepipe.pipeline.searchbout INFO     Loading bout summary dataframe\n",
      "2023-03-07 09:58:58,539 ceciestunepipe.pipeline.searchbout INFO     Meta, bout summary path is /mnt/sphere/speech_bci/processed_data/s_b1386_23/all-sess-01/alsa/bouts_ceciestunepipe/bout_meta_df.pickle, /mnt/sphere/speech_bci/processed_data/s_b1386_23/all-sess-01/alsa/bouts_ceciestunepipe/bout_summary_df.pickle\n",
      "2023-03-07 09:58:58,539 ceciestunepipe.pipeline.searchbout INFO     Meta, bout summary path is /mnt/sphere/speech_bci/processed_data/s_b1386_23/all-sess-01/alsa/bouts_ceciestunepipe/bout_meta_df.pickle, /mnt/sphere/speech_bci/processed_data/s_b1386_23/all-sess-01/alsa/bouts_ceciestunepipe/bout_summary_df.pickle\n",
      "2023-03-07 09:58:58,539 ceciestunepipe.pipeline.searchbout INFO     Meta, bout summary path is /mnt/sphere/speech_bci/processed_data/s_b1386_23/all-sess-01/alsa/bouts_ceciestunepipe/bout_meta_df.pickle, /mnt/sphere/speech_bci/processed_data/s_b1386_23/all-sess-01/alsa/bouts_ceciestunepipe/bout_summary_df.pickle\n",
      "2023-03-07 09:58:58,539 ceciestunepipe.pipeline.searchbout INFO     Meta, bout summary path is /mnt/sphere/speech_bci/processed_data/s_b1386_23/all-sess-01/alsa/bouts_ceciestunepipe/bout_meta_df.pickle, /mnt/sphere/speech_bci/processed_data/s_b1386_23/all-sess-01/alsa/bouts_ceciestunepipe/bout_summary_df.pickle\n",
      "2023-03-07 09:58:59,091 ceciestunepipe.pipeline.searchbout INFO     Search/bouts file not found in /mnt/sphere/speech_bci/derived_data/s_b1386_23/2023-02-21/alsa/bouts_ceciestunepipe\n",
      "2023-03-07 09:58:59,091 ceciestunepipe.pipeline.searchbout INFO     Search/bouts file not found in /mnt/sphere/speech_bci/derived_data/s_b1386_23/2023-02-21/alsa/bouts_ceciestunepipe\n",
      "2023-03-07 09:58:59,091 ceciestunepipe.pipeline.searchbout INFO     Search/bouts file not found in /mnt/sphere/speech_bci/derived_data/s_b1386_23/2023-02-21/alsa/bouts_ceciestunepipe\n",
      "2023-03-07 09:58:59,091 ceciestunepipe.pipeline.searchbout INFO     Search/bouts file not found in /mnt/sphere/speech_bci/derived_data/s_b1386_23/2023-02-21/alsa/bouts_ceciestunepipe\n",
      "2023-03-07 09:58:59,349 ceciestunepipe.pipeline.searchbout INFO     Search/bouts file not found in /mnt/sphere/speech_bci/derived_data/s_b1386_23/2023-03-07/alsa/bouts_ceciestunepipe\n",
      "2023-03-07 09:58:59,349 ceciestunepipe.pipeline.searchbout INFO     Search/bouts file not found in /mnt/sphere/speech_bci/derived_data/s_b1386_23/2023-03-07/alsa/bouts_ceciestunepipe\n",
      "2023-03-07 09:58:59,349 ceciestunepipe.pipeline.searchbout INFO     Search/bouts file not found in /mnt/sphere/speech_bci/derived_data/s_b1386_23/2023-03-07/alsa/bouts_ceciestunepipe\n",
      "2023-03-07 09:58:59,349 ceciestunepipe.pipeline.searchbout INFO     Search/bouts file not found in /mnt/sphere/speech_bci/derived_data/s_b1386_23/2023-03-07/alsa/bouts_ceciestunepipe\n",
      "2023-03-07 09:58:59,376 ceciestunepipe.pipeline.searchbout INFO     Search/bouts file not found in /mnt/sphere/speech_bci/derived_data/s_b1386_23/2023-02-21/alsa/bouts_ceciestunepipe\n",
      "2023-03-07 09:58:59,376 ceciestunepipe.pipeline.searchbout INFO     Search/bouts file not found in /mnt/sphere/speech_bci/derived_data/s_b1386_23/2023-02-21/alsa/bouts_ceciestunepipe\n",
      "2023-03-07 09:58:59,376 ceciestunepipe.pipeline.searchbout INFO     Search/bouts file not found in /mnt/sphere/speech_bci/derived_data/s_b1386_23/2023-02-21/alsa/bouts_ceciestunepipe\n",
      "2023-03-07 09:58:59,376 ceciestunepipe.pipeline.searchbout INFO     Search/bouts file not found in /mnt/sphere/speech_bci/derived_data/s_b1386_23/2023-02-21/alsa/bouts_ceciestunepipe\n",
      "2023-03-07 09:58:59,431 ceciestunepipe.pipeline.searchbout INFO     Search/bouts file not found in /mnt/sphere/speech_bci/derived_data/s_b1386_23/2023-03-07/alsa/bouts_ceciestunepipe\n",
      "2023-03-07 09:58:59,431 ceciestunepipe.pipeline.searchbout INFO     Search/bouts file not found in /mnt/sphere/speech_bci/derived_data/s_b1386_23/2023-03-07/alsa/bouts_ceciestunepipe\n",
      "2023-03-07 09:58:59,431 ceciestunepipe.pipeline.searchbout INFO     Search/bouts file not found in /mnt/sphere/speech_bci/derived_data/s_b1386_23/2023-03-07/alsa/bouts_ceciestunepipe\n",
      "2023-03-07 09:58:59,431 ceciestunepipe.pipeline.searchbout INFO     Search/bouts file not found in /mnt/sphere/speech_bci/derived_data/s_b1386_23/2023-03-07/alsa/bouts_ceciestunepipe\n",
      "2023-03-07 09:58:59,445 ceciestunepipe.pipeline.searchbout INFO     Will revisit sessions ['2023-03-06' '2023-03-07']\n",
      "2023-03-07 09:58:59,445 ceciestunepipe.pipeline.searchbout INFO     Will revisit sessions ['2023-03-06' '2023-03-07']\n",
      "2023-03-07 09:58:59,445 ceciestunepipe.pipeline.searchbout INFO     Will revisit sessions ['2023-03-06' '2023-03-07']\n",
      "2023-03-07 09:58:59,445 ceciestunepipe.pipeline.searchbout INFO     Will revisit sessions ['2023-03-06' '2023-03-07']\n",
      "2023-03-07 09:58:59,457 ceciestunepipe.pipeline.searchbout INFO     There are 2 sessions to update\n",
      "2023-03-07 09:58:59,457 ceciestunepipe.pipeline.searchbout INFO     There are 2 sessions to update\n",
      "2023-03-07 09:58:59,457 ceciestunepipe.pipeline.searchbout INFO     There are 2 sessions to update\n",
      "2023-03-07 09:58:59,457 ceciestunepipe.pipeline.searchbout INFO     There are 2 sessions to update\n",
      "2023-03-07 09:58:59,460 ceciestunepipe.pipeline.searchbout INFO     Looking for all sessions with bouts detected/curated for bird s_b1386_23\n",
      "2023-03-07 09:58:59,460 ceciestunepipe.pipeline.searchbout INFO     Looking for all sessions with bouts detected/curated for bird s_b1386_23\n",
      "2023-03-07 09:58:59,460 ceciestunepipe.pipeline.searchbout INFO     Looking for all sessions with bouts detected/curated for bird s_b1386_23\n",
      "2023-03-07 09:58:59,460 ceciestunepipe.pipeline.searchbout INFO     Looking for all sessions with bouts detected/curated for bird s_b1386_23\n",
      "2023-03-07 09:58:59,462 ceciestunepipe.pipeline.searchbout INFO     Will only do sessions ['2023-03-06', '2023-03-07']\n",
      "2023-03-07 09:58:59,462 ceciestunepipe.pipeline.searchbout INFO     Will only do sessions ['2023-03-06', '2023-03-07']\n",
      "2023-03-07 09:58:59,462 ceciestunepipe.pipeline.searchbout INFO     Will only do sessions ['2023-03-06', '2023-03-07']\n",
      "2023-03-07 09:58:59,462 ceciestunepipe.pipeline.searchbout INFO     Will only do sessions ['2023-03-06', '2023-03-07']\n",
      "2023-03-07 09:58:59,466 ceciestunepipe.pipeline.searchbout INFO     Found 1 sessions with detected, 1 with curated bouts\n",
      "2023-03-07 09:58:59,466 ceciestunepipe.pipeline.searchbout INFO     Found 1 sessions with detected, 1 with curated bouts\n",
      "2023-03-07 09:58:59,466 ceciestunepipe.pipeline.searchbout INFO     Found 1 sessions with detected, 1 with curated bouts\n",
      "2023-03-07 09:58:59,466 ceciestunepipe.pipeline.searchbout INFO     Found 1 sessions with detected, 1 with curated bouts\n",
      "2023-03-07 09:59:43,885 ceciestunepipe.pipeline.searchbout INFO     Saving bout summary dataframe\n",
      "2023-03-07 09:59:43,885 ceciestunepipe.pipeline.searchbout INFO     Saving bout summary dataframe\n",
      "2023-03-07 09:59:43,885 ceciestunepipe.pipeline.searchbout INFO     Saving bout summary dataframe\n",
      "2023-03-07 09:59:43,885 ceciestunepipe.pipeline.searchbout INFO     Saving bout summary dataframe\n",
      "2023-03-07 09:59:43,888 ceciestunepipe.pipeline.searchbout INFO     Meta, bout summary path is /mnt/sphere/speech_bci/processed_data/s_b1386_23/all-sess-01/alsa/bouts_ceciestunepipe/bout_meta_df.pickle, /mnt/sphere/speech_bci/processed_data/s_b1386_23/all-sess-01/alsa/bouts_ceciestunepipe/bout_summary_df.pickle\n"
     ]
    },
    {
     "name": "stderr",
     "output_type": "stream",
     "text": [
      "2023-03-07 09:59:43,888 ceciestunepipe.pipeline.searchbout INFO     Meta, bout summary path is /mnt/sphere/speech_bci/processed_data/s_b1386_23/all-sess-01/alsa/bouts_ceciestunepipe/bout_meta_df.pickle, /mnt/sphere/speech_bci/processed_data/s_b1386_23/all-sess-01/alsa/bouts_ceciestunepipe/bout_summary_df.pickle\n",
      "2023-03-07 09:59:43,888 ceciestunepipe.pipeline.searchbout INFO     Meta, bout summary path is /mnt/sphere/speech_bci/processed_data/s_b1386_23/all-sess-01/alsa/bouts_ceciestunepipe/bout_meta_df.pickle, /mnt/sphere/speech_bci/processed_data/s_b1386_23/all-sess-01/alsa/bouts_ceciestunepipe/bout_summary_df.pickle\n",
      "2023-03-07 09:59:43,888 ceciestunepipe.pipeline.searchbout INFO     Meta, bout summary path is /mnt/sphere/speech_bci/processed_data/s_b1386_23/all-sess-01/alsa/bouts_ceciestunepipe/bout_meta_df.pickle, /mnt/sphere/speech_bci/processed_data/s_b1386_23/all-sess-01/alsa/bouts_ceciestunepipe/bout_summary_df.pickle\n"
     ]
    }
   ],
   "source": [
    "reload(sb)\n",
    "#all_meta_pd, all_bout_pd = sb.load_all_bouts(sess_par)\n",
    "all_meta_pd, all_bout_pd = sb.update_bouts(sess_par)"
   ]
  },
  {
   "cell_type": "code",
   "execution_count": 267,
   "metadata": {},
   "outputs": [
    {
     "name": "stdout",
     "output_type": "stream",
     "text": [
      "s_b1386_23\n"
     ]
    },
    {
     "data": {
      "image/png": "[encoded data removed]",
      "text/plain": [
       "<Figure size 864x648 with 4 Axes>"
      ]
     },
     "metadata": {
      "needs_background": "light"
     },
     "output_type": "display_data"
    }
   ],
   "source": [
    "print(sess_par['bird'])\n",
    "ax_dict = sb.plot_bout_stats(all_bout_pd, zoom_days=20)"
   ]
  },
  {
   "cell_type": "markdown",
   "metadata": {},
   "source": [
    "##### "
   ]
  },
  {
   "cell_type": "code",
   "execution_count": null,
   "metadata": {},
   "outputs": [],
   "source": []
  },
  {
   "cell_type": "code",
   "execution_count": null,
   "metadata": {},
   "outputs": [],
   "source": []
  },
  {
   "cell_type": "code",
   "execution_count": null,
   "metadata": {},
   "outputs": [],
   "source": []
  }
 ],
 "metadata": {
  "kernelspec": {
   "display_name": "ceciestunepipe (cube)",
   "language": "python",
   "name": "ceciestunepipe"
  },
  "language_info": {
   "codemirror_mode": {
    "name": "ipython",
    "version": 3
   },
   "file_extension": ".py",
   "mimetype": "text/x-python",
   "name": "python",
   "nbconvert_exporter": "python",
   "pygments_lexer": "ipython3",
   "version": "3.8.11"
  }
 },
 "nbformat": 4,
 "nbformat_minor": 5
}
