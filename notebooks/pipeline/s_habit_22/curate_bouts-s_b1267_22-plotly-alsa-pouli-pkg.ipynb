{
 "cells": [
  {
   "cell_type": "markdown",
   "metadata": {},
   "source": [
    "## Searching for bouts for a day of alsa recording"
   ]
  },
  {
   "cell_type": "code",
   "execution_count": 21,
   "metadata": {},
   "outputs": [
    {
     "name": "stderr",
     "output_type": "stream",
     "text": [
      "2022-03-25 01:19:01,776 root         INFO     Running on pouli\n",
      "2022-03-25 01:19:01,776 root         INFO     Running on pouli\n"
     ]
    }
   ],
   "source": [
    "import os\n",
    "import glob\n",
    "import socket\n",
    "import logging\n",
    "import pickle\n",
    "import numpy as np\n",
    "import pandas as pd\n",
    "from scipy.io import wavfile\n",
    "from scipy import signal\n",
    "\n",
    "### Fuck matplotlib, I'm using poltly now\n",
    "from plotly.subplots import make_subplots\n",
    "import plotly.graph_objects as go\n",
    "\n",
    "from importlib import reload\n",
    "\n",
    "logger = logging.getLogger()\n",
    "handler = logging.StreamHandler()\n",
    "formatter = logging.Formatter(\n",
    "        '%(asctime)s %(name)-12s %(levelname)-8s %(message)s')\n",
    "handler.setFormatter(formatter)\n",
    "logger.addHandler(handler)\n",
    "logger.setLevel(logging.INFO)\n",
    "\n",
    "logger.info('Running on {}'.format(socket.gethostname()))"
   ]
  },
  {
   "cell_type": "code",
   "execution_count": 22,
   "metadata": {},
   "outputs": [],
   "source": [
    "from ceciestunepipe.file import bcistructure as et\n",
    "from ceciestunepipe.util.sound import boutsearch as bs\n",
    "from ceciestunepipe.pipeline import searchbout as sb"
   ]
  },
  {
   "cell_type": "markdown",
   "metadata": {},
   "source": [
    "### Get the file locations for a session (day) of recordings"
   ]
  },
  {
   "cell_type": "code",
   "execution_count": 23,
   "metadata": {},
   "outputs": [],
   "source": [
    "reload(et)\n",
    "sess_par = {'bird': 's_b1267_22',\n",
    "           'sess': '2022-03-24'}\n",
    "\n",
    "\n",
    "exp_struct = et.get_exp_struct(sess_par['bird'], sess_par['sess'], ephys_software='alsa')\n",
    "\n",
    "raw_folder = exp_struct['folders']['alsa']\n",
    "bouts_folder = os.path.join(exp_struct['folders']['derived'], 'bouts_ceciestunepipe')"
   ]
  },
  {
   "cell_type": "code",
   "execution_count": 24,
   "metadata": {},
   "outputs": [
    {
     "data": {
      "text/plain": [
       "{'bird': '/mnt/sphere/speech_bci/raw_data/s_b1267_22',\n",
       " 'raw': '/mnt/sphere/speech_bci/raw_data/s_b1267_22/2022-03-24',\n",
       " 'alsa': '/mnt/sphere/speech_bci/raw_data/s_b1267_22/2022-03-24/alsa',\n",
       " 'kwik': '/experiment/s_b1267_22/alsa/kwik/2022-03-24',\n",
       " 'processed': '/mnt/sphere/speech_bci/processed_data/s_b1267_22/2022-03-24/alsa',\n",
       " 'derived': '/mnt/sphere/speech_bci/derived_data/s_b1267_22/2022-03-24/alsa',\n",
       " 'tmp': '/experiment/tmp/tmp',\n",
       " 'msort': '/experiment/tmp/s_b1267_22/alsa/msort/2022-03-24',\n",
       " 'ksort': '/experiment/tmp/s_b1267_22/alsa/ksort/2022-03-24/',\n",
       " 'sort': '/mnt/sphere/speech_bci/derived_data/s_b1267_22/2022-03-24/alsa/'}"
      ]
     },
     "execution_count": 24,
     "metadata": {},
     "output_type": "execute_result"
    }
   ],
   "source": [
    "exp_struct['folders']"
   ]
  },
  {
   "cell_type": "markdown",
   "metadata": {},
   "source": [
    "### read a session's bouts pandas\n",
    "- get the location of the file\n",
    "- load the pandas pickle\n",
    "- load the search/spectrogram parameters"
   ]
  },
  {
   "cell_type": "code",
   "execution_count": 25,
   "metadata": {},
   "outputs": [],
   "source": [
    "reload(sb)\n",
    "hparams, bpd = sb.read_session_bouts(sess_par['bird'], sess_par['sess'], recording_software='alsa', curated=False)"
   ]
  },
  {
   "cell_type": "code",
   "execution_count": 26,
   "metadata": {
    "scrolled": true,
    "tags": []
   },
   "outputs": [
    {
     "data": {
      "text/html": [
       "<div>\n",
       "<style scoped>\n",
       "    .dataframe tbody tr th:only-of-type {\n",
       "        vertical-align: middle;\n",
       "    }\n",
       "\n",
       "    .dataframe tbody tr th {\n",
       "        vertical-align: top;\n",
       "    }\n",
       "\n",
       "    .dataframe thead th {\n",
       "        text-align: right;\n",
       "    }\n",
       "</style>\n",
       "<table border=\"1\" class=\"dataframe\">\n",
       "  <thead>\n",
       "    <tr style=\"text-align: right;\">\n",
       "      <th></th>\n",
       "      <th>start_ms</th>\n",
       "      <th>end_ms</th>\n",
       "      <th>start_sample</th>\n",
       "      <th>end_sample</th>\n",
       "      <th>p_step</th>\n",
       "      <th>rms_p</th>\n",
       "      <th>peak_p</th>\n",
       "      <th>bout_check</th>\n",
       "      <th>file</th>\n",
       "      <th>len_ms</th>\n",
       "      <th>syl_in</th>\n",
       "      <th>n_syl</th>\n",
       "      <th>peaks_p</th>\n",
       "      <th>n_peaks</th>\n",
       "      <th>l_p_ratio</th>\n",
       "      <th>waveform</th>\n",
       "      <th>valid_waveform</th>\n",
       "      <th>valid</th>\n",
       "      <th>spectrogram</th>\n",
       "      <th>confusing</th>\n",
       "    </tr>\n",
       "  </thead>\n",
       "  <tbody>\n",
       "    <tr>\n",
       "      <th>0</th>\n",
       "      <td>1017030</td>\n",
       "      <td>1022560</td>\n",
       "      <td>48817440</td>\n",
       "      <td>49082880</td>\n",
       "      <td>[0.8933419972796475, 3.8511135729521118, 4.651...</td>\n",
       "      <td>0.894015</td>\n",
       "      <td>93.515268</td>\n",
       "      <td>True</td>\n",
       "      <td>/mnt/sphere/speech_bci/raw_data/s_b1267_22/202...</td>\n",
       "      <td>5530</td>\n",
       "      <td>[[1017030, 1017160], [1017715, 1017770], [1018...</td>\n",
       "      <td>17</td>\n",
       "      <td>[3, 10, 21, 140, 199, 206, 215, 226, 236, 243,...</td>\n",
       "      <td>58</td>\n",
       "      <td>95.344828</td>\n",
       "      <td>[-3, -2, -2, -2, -3, -4, -4, -4, -4, -5, -6, -...</td>\n",
       "      <td>True</td>\n",
       "      <td>True</td>\n",
       "      <td>[[0.0, 0.0, 0.0, 0.0, 0.0, 0.0, 0.0, 0.0, 0.0,...</td>\n",
       "      <td>True</td>\n",
       "    </tr>\n",
       "    <tr>\n",
       "      <th>1</th>\n",
       "      <td>650030</td>\n",
       "      <td>657875</td>\n",
       "      <td>31201440</td>\n",
       "      <td>31578000</td>\n",
       "      <td>[0.9234548419776489, 2.164746983418609, 2.4988...</td>\n",
       "      <td>3.260104</td>\n",
       "      <td>97.669336</td>\n",
       "      <td>True</td>\n",
       "      <td>/mnt/sphere/speech_bci/raw_data/s_b1267_22/202...</td>\n",
       "      <td>7845</td>\n",
       "      <td>[[650030, 650390], [652345, 652440], [653680, ...</td>\n",
       "      <td>10</td>\n",
       "      <td>[12, 25, 32, 44, 52, 60, 70, 471, 480, 730, 73...</td>\n",
       "      <td>56</td>\n",
       "      <td>140.089286</td>\n",
       "      <td>[-3, -4, -5, -5, -6, -6, -6, -5, -3, -3, -2, -...</td>\n",
       "      <td>True</td>\n",
       "      <td>True</td>\n",
       "      <td>[[0.0, 0.0, 0.0, 0.0, 0.0, 0.0, 0.0, 0.0, 0.0,...</td>\n",
       "      <td>True</td>\n",
       "    </tr>\n",
       "    <tr>\n",
       "      <th>2</th>\n",
       "      <td>665605</td>\n",
       "      <td>678435</td>\n",
       "      <td>31949040</td>\n",
       "      <td>32564880</td>\n",
       "      <td>[8.65376102719656, 18.660414083504023, 22.9122...</td>\n",
       "      <td>3.260104</td>\n",
       "      <td>110.935921</td>\n",
       "      <td>True</td>\n",
       "      <td>/mnt/sphere/speech_bci/raw_data/s_b1267_22/202...</td>\n",
       "      <td>12830</td>\n",
       "      <td>[[665605, 665665], [665780, 665925], [665945, ...</td>\n",
       "      <td>54</td>\n",
       "      <td>[3, 53, 61, 69, 82, 148, 193, 202, 246, 257, 2...</td>\n",
       "      <td>159</td>\n",
       "      <td>80.691824</td>\n",
       "      <td>[1, 1, 1, 2, 1, 1, 1, 1, 0, 0, 2, 2, 1, 2, 3, ...</td>\n",
       "      <td>True</td>\n",
       "      <td>True</td>\n",
       "      <td>[[0.0, 0.0, 0.0, 0.0, 0.0, 0.0, 0.0, 0.0, 0.0,...</td>\n",
       "      <td>True</td>\n",
       "    </tr>\n",
       "    <tr>\n",
       "      <th>3</th>\n",
       "      <td>1278920</td>\n",
       "      <td>1290210</td>\n",
       "      <td>61388160</td>\n",
       "      <td>61930080</td>\n",
       "      <td>[1.9607897985679723, 1.5181693614365859, 3.202...</td>\n",
       "      <td>3.260104</td>\n",
       "      <td>108.519652</td>\n",
       "      <td>True</td>\n",
       "      <td>/mnt/sphere/speech_bci/raw_data/s_b1267_22/202...</td>\n",
       "      <td>11290</td>\n",
       "      <td>[[1278920, 1278980], [1280730, 1280820], [1280...</td>\n",
       "      <td>23</td>\n",
       "      <td>[5, 367, 376, 406, 413, 422, 432, 443, 450, 46...</td>\n",
       "      <td>80</td>\n",
       "      <td>141.125000</td>\n",
       "      <td>[-24, -24, -23, -24, -23, -22, -22, -21, -19, ...</td>\n",
       "      <td>True</td>\n",
       "      <td>True</td>\n",
       "      <td>[[0.0, 0.0, 0.0, 0.0, 0.0, 0.0, 0.0, 0.0, 0.0,...</td>\n",
       "      <td>True</td>\n",
       "    </tr>\n",
       "    <tr>\n",
       "      <th>4</th>\n",
       "      <td>13310</td>\n",
       "      <td>32670</td>\n",
       "      <td>638880</td>\n",
       "      <td>1568160</td>\n",
       "      <td>[1.5719644835004982, 1.9296255524218635, 2.629...</td>\n",
       "      <td>5.824891</td>\n",
       "      <td>94.551948</td>\n",
       "      <td>True</td>\n",
       "      <td>/mnt/sphere/speech_bci/raw_data/s_b1267_22/202...</td>\n",
       "      <td>19360</td>\n",
       "      <td>[[13310, 13555], [13565, 13665], [14325, 14910...</td>\n",
       "      <td>60</td>\n",
       "      <td>[8, 18, 28, 45, 54, 62, 71, 209, 219, 226, 237...</td>\n",
       "      <td>194</td>\n",
       "      <td>99.793814</td>\n",
       "      <td>[4, 5, 4, 3, 4, 5, 3, 2, 3, 4, 7, 6, 5, 6, 7, ...</td>\n",
       "      <td>True</td>\n",
       "      <td>True</td>\n",
       "      <td>[[0.0, 0.0, 0.0, 0.0, 0.0, 0.0, 0.0, 0.0, 0.0,...</td>\n",
       "      <td>True</td>\n",
       "    </tr>\n",
       "  </tbody>\n",
       "</table>\n",
       "</div>"
      ],
      "text/plain": [
       "   start_ms   end_ms  start_sample  end_sample  \\\n",
       "0   1017030  1022560      48817440    49082880   \n",
       "1    650030   657875      31201440    31578000   \n",
       "2    665605   678435      31949040    32564880   \n",
       "3   1278920  1290210      61388160    61930080   \n",
       "4     13310    32670        638880     1568160   \n",
       "\n",
       "                                              p_step     rms_p      peak_p  \\\n",
       "0  [0.8933419972796475, 3.8511135729521118, 4.651...  0.894015   93.515268   \n",
       "1  [0.9234548419776489, 2.164746983418609, 2.4988...  3.260104   97.669336   \n",
       "2  [8.65376102719656, 18.660414083504023, 22.9122...  3.260104  110.935921   \n",
       "3  [1.9607897985679723, 1.5181693614365859, 3.202...  3.260104  108.519652   \n",
       "4  [1.5719644835004982, 1.9296255524218635, 2.629...  5.824891   94.551948   \n",
       "\n",
       "   bout_check                                               file  len_ms  \\\n",
       "0        True  /mnt/sphere/speech_bci/raw_data/s_b1267_22/202...    5530   \n",
       "1        True  /mnt/sphere/speech_bci/raw_data/s_b1267_22/202...    7845   \n",
       "2        True  /mnt/sphere/speech_bci/raw_data/s_b1267_22/202...   12830   \n",
       "3        True  /mnt/sphere/speech_bci/raw_data/s_b1267_22/202...   11290   \n",
       "4        True  /mnt/sphere/speech_bci/raw_data/s_b1267_22/202...   19360   \n",
       "\n",
       "                                              syl_in  n_syl  \\\n",
       "0  [[1017030, 1017160], [1017715, 1017770], [1018...     17   \n",
       "1  [[650030, 650390], [652345, 652440], [653680, ...     10   \n",
       "2  [[665605, 665665], [665780, 665925], [665945, ...     54   \n",
       "3  [[1278920, 1278980], [1280730, 1280820], [1280...     23   \n",
       "4  [[13310, 13555], [13565, 13665], [14325, 14910...     60   \n",
       "\n",
       "                                             peaks_p  n_peaks   l_p_ratio  \\\n",
       "0  [3, 10, 21, 140, 199, 206, 215, 226, 236, 243,...       58   95.344828   \n",
       "1  [12, 25, 32, 44, 52, 60, 70, 471, 480, 730, 73...       56  140.089286   \n",
       "2  [3, 53, 61, 69, 82, 148, 193, 202, 246, 257, 2...      159   80.691824   \n",
       "3  [5, 367, 376, 406, 413, 422, 432, 443, 450, 46...       80  141.125000   \n",
       "4  [8, 18, 28, 45, 54, 62, 71, 209, 219, 226, 237...      194   99.793814   \n",
       "\n",
       "                                            waveform  valid_waveform  valid  \\\n",
       "0  [-3, -2, -2, -2, -3, -4, -4, -4, -4, -5, -6, -...            True   True   \n",
       "1  [-3, -4, -5, -5, -6, -6, -6, -5, -3, -3, -2, -...            True   True   \n",
       "2  [1, 1, 1, 2, 1, 1, 1, 1, 0, 0, 2, 2, 1, 2, 3, ...            True   True   \n",
       "3  [-24, -24, -23, -24, -23, -22, -22, -21, -19, ...            True   True   \n",
       "4  [4, 5, 4, 3, 4, 5, 3, 2, 3, 4, 7, 6, 5, 6, 7, ...            True   True   \n",
       "\n",
       "                                         spectrogram  confusing  \n",
       "0  [[0.0, 0.0, 0.0, 0.0, 0.0, 0.0, 0.0, 0.0, 0.0,...       True  \n",
       "1  [[0.0, 0.0, 0.0, 0.0, 0.0, 0.0, 0.0, 0.0, 0.0,...       True  \n",
       "2  [[0.0, 0.0, 0.0, 0.0, 0.0, 0.0, 0.0, 0.0, 0.0,...       True  \n",
       "3  [[0.0, 0.0, 0.0, 0.0, 0.0, 0.0, 0.0, 0.0, 0.0,...       True  \n",
       "4  [[0.0, 0.0, 0.0, 0.0, 0.0, 0.0, 0.0, 0.0, 0.0,...       True  "
      ]
     },
     "execution_count": 26,
     "metadata": {},
     "output_type": "execute_result"
    }
   ],
   "source": [
    "bpd.head(5)"
   ]
  },
  {
   "cell_type": "code",
   "execution_count": 27,
   "metadata": {},
   "outputs": [
    {
     "data": {
      "text/plain": [
       "75"
      ]
     },
     "execution_count": 27,
     "metadata": {},
     "output_type": "execute_result"
    }
   ],
   "source": [
    "bpd.index.size"
   ]
  },
  {
   "cell_type": "markdown",
   "metadata": {},
   "source": [
    "###### if it wasnt saved (which is a bad mistake), read the sampling rate from the first file in the session"
   ]
  },
  {
   "cell_type": "markdown",
   "metadata": {},
   "source": [
    "## inspect the bouts and curate them"
   ]
  },
  {
   "cell_type": "markdown",
   "metadata": {},
   "source": [
    "#### visualize one bout"
   ]
  },
  {
   "cell_type": "code",
   "execution_count": 28,
   "metadata": {},
   "outputs": [],
   "source": [
    "import plotly.express as px\n",
    "import plotly.graph_objects as go\n",
    "\n",
    "from ipywidgets import widgets"
   ]
  },
  {
   "cell_type": "code",
   "execution_count": 29,
   "metadata": {},
   "outputs": [],
   "source": [
    "def viz_one_bout(df: pd.Series, sub_sample=1):\n",
    "    # get the power and the spectrogram\n",
    "    sxx = df['spectrogram'][:, ::sub_sample]\n",
    "    x = df['waveform'][::sub_sample]\n",
    "    \n",
    "    # the trace\n",
    "    tr_waveform = go.Scatter(y=x)\n",
    "    figwidg_waveform = go.FigureWidget(data=[tr_waveform],\n",
    "                                      layout= {'height': 300,'width':1000})\n",
    "\n",
    "    # the spectrogram\n",
    "    fig_spectrogram = px.imshow(sxx, \n",
    "                                     labels={}, \n",
    "                                     color_continuous_scale='Inferno',\n",
    "                                    aspect='auto')\n",
    "\n",
    "    fig_spectrogram.update_layout(width=1000, height=300, coloraxis_showscale=False)\n",
    "    fig_spectrogram.update_xaxes(showticklabels=False)\n",
    "    fig_spectrogram.update_yaxes(showticklabels=False)\n",
    "    \n",
    "    \n",
    "    figwidg_spectrogram = go.FigureWidget(fig_spectrogram)\n",
    "    \n",
    "    display(widgets.VBox([figwidg_waveform,\n",
    "              figwidg_spectrogram]))\n",
    "    \n",
    "\n",
    "#viz_one_bout(bpd.iloc[1])"
   ]
  },
  {
   "cell_type": "markdown",
   "metadata": {},
   "source": [
    "## use it in a widget\n"
   ]
  },
  {
   "cell_type": "code",
   "execution_count": 30,
   "metadata": {},
   "outputs": [],
   "source": [
    "### Create a counter object (count goes 1:1 to DataFrame index)\n",
    "from traitlets import CInt, link\n",
    "\n",
    "class Counter(widgets.DOMWidget):\n",
    "    value = CInt(0)\n",
    "    value.tag(sync=True)"
   ]
  },
  {
   "cell_type": "code",
   "execution_count": 31,
   "metadata": {
    "tags": []
   },
   "outputs": [
    {
     "data": {
      "application/vnd.jupyter.widget-view+json": {
       "model_id": "9374fe6b2b3b466c8584a79db718b74e",
       "version_major": 2,
       "version_minor": 0
      },
      "text/plain": [
       "VBox(children=(HBox(children=(HBox(children=(VBox(children=(Button(button_style='warning', description='Prev',…"
      ]
     },
     "metadata": {},
     "output_type": "display_data"
    }
   ],
   "source": [
    "class VizBout():\n",
    "    def __init__(self, hparams, bouts_pd):\n",
    "        self.bout = None\n",
    "        self.bouts_pd = bouts_pd\n",
    "        self.bout_series = None\n",
    "        self.is_bout = None\n",
    "        self.is_confusing = None\n",
    "        \n",
    "        self.bout_counter = None\n",
    "        self.bout_id = None\n",
    "        \n",
    "        self.buttons = {}\n",
    "        self.m_pick = None\n",
    "        \n",
    "        self.audio = None\n",
    "        \n",
    "        \n",
    "        self.fig_waveform = None\n",
    "        self.fig_spectrogram = None\n",
    "        \n",
    "        self.figwidg_waveform = None\n",
    "        self.figwidg_spectrogram = None\n",
    "        \n",
    "        self.fig_width = 2\n",
    "        self.sub_sample = 10\n",
    "        \n",
    "        self.x = None\n",
    "        self.sxx = None\n",
    "        self.tr_waveform = None\n",
    "        \n",
    "        self.s_f = hparams['sample_rate']\n",
    "        \n",
    "        self.init_fig()\n",
    "        self.init_widget()\n",
    "        self.show()\n",
    "        \n",
    "    def init_fig(self):\n",
    "        # the trace\n",
    "        self.tr_waveform = go.Scatter(y=np.zeros(500))\n",
    "        self.figwidg_waveform = go.FigureWidget(data=[self.tr_waveform],\n",
    "                                               layout={'width': 1000, 'height':300})\n",
    "        \n",
    "        # the spectrogram\n",
    "        self.fig_spectrogram = px.imshow(np.random.rand(500, 500), \n",
    "                                         labels={}, \n",
    "                                         color_continuous_scale='Inferno',\n",
    "                                        aspect='auto')\n",
    "        \n",
    "        self.fig_spectrogram.update_layout(width=1000, height=300, coloraxis_showscale=False)\n",
    "        self.fig_spectrogram.update_xaxes(showticklabels=False)\n",
    "        self.fig_spectrogram.update_yaxes(showticklabels=False)\n",
    "        self.figwidg_spectrogram = go.FigureWidget(self.fig_spectrogram)\n",
    "        \n",
    "        \n",
    "    def init_widget(self):\n",
    "        # declare elements\n",
    "        # lay them out\n",
    "        #\n",
    "        \n",
    "        self.bout_counter = Counter()\n",
    "        self.is_bout = widgets.Checkbox(description='is bout')\n",
    "        self.is_confusing = widgets.Checkbox(description='Not sure or mixed')\n",
    "        \n",
    "        self.buttons['Next'] = widgets.Button(description=\"Next\", button_style='info',\n",
    "                                              icon='plus')   \n",
    "        self.buttons['Prev'] = widgets.Button(description=\"Prev\", button_style='warning',\n",
    "                                              icon='minus')\n",
    "        self.buttons['Check'] = widgets.Button(description=\"Check\", button_style='success', \n",
    "                                               icon='check')\n",
    "        self.buttons['Uncheck'] = widgets.Button(description=\"Uncheck\", button_style='danger',\n",
    "                                                 icon='wrong')\n",
    "        \n",
    "        [b.on_click(self.button_click) for b in self.buttons.values()]\n",
    "        \n",
    "        \n",
    "        left_box = widgets.VBox([self.buttons['Prev'], self.buttons['Uncheck']])\n",
    "        right_box = widgets.VBox([self.buttons['Next'], self.buttons['Check']])\n",
    "        button_box = widgets.HBox([left_box, right_box])\n",
    "\n",
    "        self.m_pick = widgets.IntSlider(value=0, min=0, max=self.bouts_pd.index.size-1,step=1, \n",
    "                                        description=\"Bout candidate index\")\n",
    "        \n",
    "        \n",
    "        #self.audio = Audio(data=np.zeros(100), rate=self.s_f)\n",
    "        \n",
    "        control_box = widgets.HBox([button_box,\n",
    "                                  widgets.VBox([self.is_bout, self.is_confusing]),\n",
    "                                  widgets.VBox([self.m_pick])]\n",
    "                                  )\n",
    "        \n",
    "        link((self.m_pick, 'value'), (self.bout_counter, 'value'))\n",
    "\n",
    "        self.update_bout()\n",
    "        \n",
    "        self.is_bout.observe(self.bout_checked, names='value')\n",
    "        self.is_confusing.observe(self.confusing_checked, names='value')\n",
    "        self.m_pick.observe(self.slider_change, names='value')\n",
    "        \n",
    "        all_containers = widgets.VBox([control_box, \n",
    "                                       self.figwidg_waveform, self.figwidg_spectrogram])\n",
    "        display(all_containers)\n",
    "#         display(button_box)\n",
    "#         display(self.m_pick)\n",
    "#         display(self.is_bout)\n",
    "#         display(self.fig)\n",
    "        \n",
    "    def button_click(self, button):        \n",
    "        self.bout_id = self.bout_counter.value\n",
    "        curr_bout = self.bout_counter\n",
    "        \n",
    "        if button.description == 'Next':\n",
    "            curr_bout.value += 1\n",
    "        elif button.description == 'Prev':\n",
    "            curr_bout.value -= 1\n",
    "        elif button.description == 'Check':\n",
    "            self.bouts_pd.loc[self.bout_id, 'bout_check'] = True\n",
    "            self.bouts_pd.loc[self.bout_id, 'confusing'] = False\n",
    "            curr_bout.value += 1\n",
    "        elif button.description == 'Uncheck':\n",
    "            self.bouts_pd.loc[self.bout_id, 'bout_check'] = False\n",
    "            self.bouts_pd.loc[self.bout_id, 'confusing'] = False\n",
    "            curr_bout.value += 1\n",
    "        \n",
    "        # handle the edges of the counter\n",
    "        if curr_bout.value > self.m_pick.max:\n",
    "            curr_bout.value = 0\n",
    "            \n",
    "        if curr_bout.value < self.m_pick.min:\n",
    "            curr_bout.value = self.m_pick.max\n",
    "    \n",
    "    def slider_change(self, change):\n",
    "        #logger.info('slider changed')\n",
    "        #self.bout_counter = change.new\n",
    "        #clear_output(True)\n",
    "        self.update_bout()\n",
    "        self.show()\n",
    "            \n",
    "    def bout_checked(self, bc):\n",
    "#         print \"bout checked\"\n",
    "#         print bc['new']\n",
    "#         print self.motiff\n",
    "        self.bouts_pd.loc[self.bout_id, 'bout_check'] = bc['new']\n",
    "    \n",
    "    def confusing_checked(self, bc):\n",
    "#         print \"bout checked\"\n",
    "#         print bc['new']\n",
    "#         print self.motiff\n",
    "        self.bouts_pd.loc[self.bout_id, 'confusing'] = bc['new']\n",
    "    \n",
    "    def update_bout(self):\n",
    "        self.bout_id = self.bout_counter.value\n",
    "        self.bout_series = self.bouts_pd.iloc[self.bout_id]\n",
    "        \n",
    "        self.is_bout.value = bool(self.bout_series['bout_check'])\n",
    "        self.is_confusing.value = bool(self.bout_series['confusing'])\n",
    "        \n",
    "        self.x = self.bout_series['waveform'][::self.sub_sample]\n",
    "        self.sxx = self.bout_series['spectrogram'][::self.sub_sample]\n",
    "        \n",
    "        #self.audio = Audio(data=self.x.flatten(), rate=self.s_f)\n",
    "        \n",
    "    def show(self):\n",
    "        #self.fig.clf()\n",
    "        #self.init_fig()\n",
    "        # update\n",
    "#         self.update_bout()\n",
    "        #plot\n",
    "        #logger.info('showing')\n",
    "        \n",
    "        # Show the figures\n",
    "        with self.figwidg_waveform.batch_update():\n",
    "            self.figwidg_waveform.data[0].y = self.x\n",
    "            self.figwidg_waveform.data[0].x = np.arange(self.x.size) * self.sub_sample / self.s_f \n",
    "            \n",
    "        with self.figwidg_spectrogram.batch_update():\n",
    "            self.figwidg_spectrogram.data[0].z = np.sqrt(self.sxx[::-1])\n",
    "            \n",
    "        \n",
    "\n",
    "viz_bout = VizBout(hparams, bpd)"
   ]
  },
  {
   "cell_type": "code",
   "execution_count": 35,
   "metadata": {},
   "outputs": [
    {
     "ename": "KeyboardInterrupt",
     "evalue": "",
     "output_type": "error",
     "traceback": [
      "\u001b[0;31m---------------------------------------------------------------------------\u001b[0m",
      "\u001b[0;31mKeyboardInterrupt\u001b[0m                         Traceback (most recent call last)",
      "Input \u001b[0;32mIn [35]\u001b[0m, in \u001b[0;36m<module>\u001b[0;34m\u001b[0m\n\u001b[0;32m----> 1\u001b[0m \u001b[38;5;28;01mraise\u001b[39;00m \u001b[38;5;167;01mKeyboardInterrupt\u001b[39;00m\n",
      "\u001b[0;31mKeyboardInterrupt\u001b[0m: "
     ]
    }
   ],
   "source": [
    "raise KeyboardInterrupt"
   ]
  },
  {
   "cell_type": "code",
   "execution_count": 36,
   "metadata": {},
   "outputs": [
    {
     "data": {
      "text/html": [
       "<div>\n",
       "<style scoped>\n",
       "    .dataframe tbody tr th:only-of-type {\n",
       "        vertical-align: middle;\n",
       "    }\n",
       "\n",
       "    .dataframe tbody tr th {\n",
       "        vertical-align: top;\n",
       "    }\n",
       "\n",
       "    .dataframe thead th {\n",
       "        text-align: right;\n",
       "    }\n",
       "</style>\n",
       "<table border=\"1\" class=\"dataframe\">\n",
       "  <thead>\n",
       "    <tr style=\"text-align: right;\">\n",
       "      <th></th>\n",
       "      <th>start_ms</th>\n",
       "      <th>end_ms</th>\n",
       "      <th>start_sample</th>\n",
       "      <th>end_sample</th>\n",
       "      <th>p_step</th>\n",
       "      <th>rms_p</th>\n",
       "      <th>peak_p</th>\n",
       "      <th>bout_check</th>\n",
       "      <th>file</th>\n",
       "      <th>len_ms</th>\n",
       "      <th>syl_in</th>\n",
       "      <th>n_syl</th>\n",
       "      <th>peaks_p</th>\n",
       "      <th>n_peaks</th>\n",
       "      <th>l_p_ratio</th>\n",
       "      <th>waveform</th>\n",
       "      <th>valid_waveform</th>\n",
       "      <th>valid</th>\n",
       "      <th>spectrogram</th>\n",
       "      <th>confusing</th>\n",
       "    </tr>\n",
       "  </thead>\n",
       "  <tbody>\n",
       "    <tr>\n",
       "      <th>0</th>\n",
       "      <td>1017030</td>\n",
       "      <td>1022560</td>\n",
       "      <td>48817440</td>\n",
       "      <td>49082880</td>\n",
       "      <td>[0.8933419972796475, 3.8511135729521118, 4.651...</td>\n",
       "      <td>0.894015</td>\n",
       "      <td>93.515268</td>\n",
       "      <td>True</td>\n",
       "      <td>/mnt/sphere/speech_bci/raw_data/s_b1267_22/202...</td>\n",
       "      <td>5530</td>\n",
       "      <td>[[1017030, 1017160], [1017715, 1017770], [1018...</td>\n",
       "      <td>17</td>\n",
       "      <td>[3, 10, 21, 140, 199, 206, 215, 226, 236, 243,...</td>\n",
       "      <td>58</td>\n",
       "      <td>95.344828</td>\n",
       "      <td>[-3, -2, -2, -2, -3, -4, -4, -4, -4, -5, -6, -...</td>\n",
       "      <td>True</td>\n",
       "      <td>True</td>\n",
       "      <td>[[0.0, 0.0, 0.0, 0.0, 0.0, 0.0, 0.0, 0.0, 0.0,...</td>\n",
       "      <td>False</td>\n",
       "    </tr>\n",
       "  </tbody>\n",
       "</table>\n",
       "</div>"
      ],
      "text/plain": [
       "   start_ms   end_ms  start_sample  end_sample  \\\n",
       "0   1017030  1022560      48817440    49082880   \n",
       "\n",
       "                                              p_step     rms_p     peak_p  \\\n",
       "0  [0.8933419972796475, 3.8511135729521118, 4.651...  0.894015  93.515268   \n",
       "\n",
       "   bout_check                                               file  len_ms  \\\n",
       "0        True  /mnt/sphere/speech_bci/raw_data/s_b1267_22/202...    5530   \n",
       "\n",
       "                                              syl_in  n_syl  \\\n",
       "0  [[1017030, 1017160], [1017715, 1017770], [1018...     17   \n",
       "\n",
       "                                             peaks_p  n_peaks  l_p_ratio  \\\n",
       "0  [3, 10, 21, 140, 199, 206, 215, 226, 236, 243,...       58  95.344828   \n",
       "\n",
       "                                            waveform  valid_waveform  valid  \\\n",
       "0  [-3, -2, -2, -2, -3, -4, -4, -4, -4, -5, -6, -...            True   True   \n",
       "\n",
       "                                         spectrogram  confusing  \n",
       "0  [[0.0, 0.0, 0.0, 0.0, 0.0, 0.0, 0.0, 0.0, 0.0,...      False  "
      ]
     },
     "execution_count": 36,
     "metadata": {},
     "output_type": "execute_result"
    }
   ],
   "source": [
    "viz_bout.bouts_pd.head(1)"
   ]
  },
  {
   "cell_type": "code",
   "execution_count": 37,
   "metadata": {},
   "outputs": [
    {
     "data": {
      "text/plain": [
       "66"
      ]
     },
     "execution_count": 37,
     "metadata": {},
     "output_type": "execute_result"
    }
   ],
   "source": [
    "np.where((viz_bout.bouts_pd['bout_check']==True) & (viz_bout.bouts_pd['confusing']==False))[0].size"
   ]
  },
  {
   "cell_type": "markdown",
   "metadata": {},
   "source": [
    "### save it"
   ]
  },
  {
   "cell_type": "code",
   "execution_count": 40,
   "metadata": {},
   "outputs": [
    {
     "name": "stderr",
     "output_type": "stream",
     "text": [
      "2022-03-25 11:07:30,022 root         INFO     saved curated bout pandas to pickle /mnt/sphere/speech_bci/derived_data/s_b1267_22/2022-03-24/alsa/bouts_ceciestunepipe/bout_checked.pickle\n",
      "2022-03-25 11:07:30,022 root         INFO     saved curated bout pandas to pickle /mnt/sphere/speech_bci/derived_data/s_b1267_22/2022-03-24/alsa/bouts_ceciestunepipe/bout_checked.pickle\n"
     ]
    }
   ],
   "source": [
    "### get the curated file path\n",
    "##save to the curated file path\n",
    "bouts_curated_file_path = os.path.join(bouts_folder, hparams['bout_curated_file'])\n",
    "\n",
    "os.makedirs(bouts_folder, exist_ok=True, mode=0o777)\n",
    "\n",
    "viz_bout.bouts_pd.to_pickle(bouts_curated_file_path)\n",
    "logger.info('saved curated bout pandas to pickle {}'.format(bouts_curated_file_path))"
   ]
  },
  {
   "cell_type": "code",
   "execution_count": null,
   "metadata": {},
   "outputs": [],
   "source": [
    "viz_bout.bouts_pd['file'][0]"
   ]
  },
  {
   "cell_type": "code",
   "execution_count": 41,
   "metadata": {
    "tags": []
   },
   "outputs": [
    {
     "data": {
      "text/plain": [
       "array(['/mnt/sphere/speech_bci/raw_data/s_b1267_22/2022-03-24/alsa/07-00-01-02.wav',\n",
       "       '/mnt/sphere/speech_bci/raw_data/s_b1267_22/2022-03-24/alsa/08-00-01-01.wav',\n",
       "       '/mnt/sphere/speech_bci/raw_data/s_b1267_22/2022-03-24/alsa/08-00-01-01.wav',\n",
       "       '/mnt/sphere/speech_bci/raw_data/s_b1267_22/2022-03-24/alsa/08-00-01-01.wav',\n",
       "       '/mnt/sphere/speech_bci/raw_data/s_b1267_22/2022-03-24/alsa/08-00-01-02.wav',\n",
       "       '/mnt/sphere/speech_bci/raw_data/s_b1267_22/2022-03-24/alsa/08-00-01-02.wav',\n",
       "       '/mnt/sphere/speech_bci/raw_data/s_b1267_22/2022-03-24/alsa/08-00-01-02.wav',\n",
       "       '/mnt/sphere/speech_bci/raw_data/s_b1267_22/2022-03-24/alsa/08-00-01-02.wav',\n",
       "       '/mnt/sphere/speech_bci/raw_data/s_b1267_22/2022-03-24/alsa/08-00-01-02.wav',\n",
       "       '/mnt/sphere/speech_bci/raw_data/s_b1267_22/2022-03-24/alsa/08-00-01-02.wav',\n",
       "       '/mnt/sphere/speech_bci/raw_data/s_b1267_22/2022-03-24/alsa/08-00-01-02.wav',\n",
       "       '/mnt/sphere/speech_bci/raw_data/s_b1267_22/2022-03-24/alsa/08-00-01-02.wav',\n",
       "       '/mnt/sphere/speech_bci/raw_data/s_b1267_22/2022-03-24/alsa/08-00-01-02.wav',\n",
       "       '/mnt/sphere/speech_bci/raw_data/s_b1267_22/2022-03-24/alsa/09-00-01-01.wav',\n",
       "       '/mnt/sphere/speech_bci/raw_data/s_b1267_22/2022-03-24/alsa/09-00-01-02.wav',\n",
       "       '/mnt/sphere/speech_bci/raw_data/s_b1267_22/2022-03-24/alsa/09-00-01-02.wav',\n",
       "       '/mnt/sphere/speech_bci/raw_data/s_b1267_22/2022-03-24/alsa/09-00-01-02.wav',\n",
       "       '/mnt/sphere/speech_bci/raw_data/s_b1267_22/2022-03-24/alsa/10-00-01-01.wav',\n",
       "       '/mnt/sphere/speech_bci/raw_data/s_b1267_22/2022-03-24/alsa/10-00-01-01.wav',\n",
       "       '/mnt/sphere/speech_bci/raw_data/s_b1267_22/2022-03-24/alsa/10-00-01-01.wav',\n",
       "       '/mnt/sphere/speech_bci/raw_data/s_b1267_22/2022-03-24/alsa/10-00-01-01.wav',\n",
       "       '/mnt/sphere/speech_bci/raw_data/s_b1267_22/2022-03-24/alsa/10-00-01-01.wav',\n",
       "       '/mnt/sphere/speech_bci/raw_data/s_b1267_22/2022-03-24/alsa/10-00-01-01.wav',\n",
       "       '/mnt/sphere/speech_bci/raw_data/s_b1267_22/2022-03-24/alsa/10-00-01-02.wav',\n",
       "       '/mnt/sphere/speech_bci/raw_data/s_b1267_22/2022-03-24/alsa/10-00-01-02.wav',\n",
       "       '/mnt/sphere/speech_bci/raw_data/s_b1267_22/2022-03-24/alsa/10-00-01-02.wav',\n",
       "       '/mnt/sphere/speech_bci/raw_data/s_b1267_22/2022-03-24/alsa/10-00-01-02.wav',\n",
       "       '/mnt/sphere/speech_bci/raw_data/s_b1267_22/2022-03-24/alsa/10-00-01-02.wav',\n",
       "       '/mnt/sphere/speech_bci/raw_data/s_b1267_22/2022-03-24/alsa/10-00-01-02.wav',\n",
       "       '/mnt/sphere/speech_bci/raw_data/s_b1267_22/2022-03-24/alsa/10-00-01-02.wav',\n",
       "       '/mnt/sphere/speech_bci/raw_data/s_b1267_22/2022-03-24/alsa/10-00-01-02.wav',\n",
       "       '/mnt/sphere/speech_bci/raw_data/s_b1267_22/2022-03-24/alsa/11-00-01-01.wav',\n",
       "       '/mnt/sphere/speech_bci/raw_data/s_b1267_22/2022-03-24/alsa/11-00-01-01.wav',\n",
       "       '/mnt/sphere/speech_bci/raw_data/s_b1267_22/2022-03-24/alsa/11-00-01-01.wav',\n",
       "       '/mnt/sphere/speech_bci/raw_data/s_b1267_22/2022-03-24/alsa/11-00-01-01.wav',\n",
       "       '/mnt/sphere/speech_bci/raw_data/s_b1267_22/2022-03-24/alsa/11-00-01-01.wav',\n",
       "       '/mnt/sphere/speech_bci/raw_data/s_b1267_22/2022-03-24/alsa/11-00-01-01.wav',\n",
       "       '/mnt/sphere/speech_bci/raw_data/s_b1267_22/2022-03-24/alsa/11-00-01-01.wav',\n",
       "       '/mnt/sphere/speech_bci/raw_data/s_b1267_22/2022-03-24/alsa/11-00-01-01.wav',\n",
       "       '/mnt/sphere/speech_bci/raw_data/s_b1267_22/2022-03-24/alsa/11-00-01-01.wav',\n",
       "       '/mnt/sphere/speech_bci/raw_data/s_b1267_22/2022-03-24/alsa/11-00-01-01.wav',\n",
       "       '/mnt/sphere/speech_bci/raw_data/s_b1267_22/2022-03-24/alsa/11-00-01-01.wav',\n",
       "       '/mnt/sphere/speech_bci/raw_data/s_b1267_22/2022-03-24/alsa/11-00-01-01.wav',\n",
       "       '/mnt/sphere/speech_bci/raw_data/s_b1267_22/2022-03-24/alsa/11-00-01-01.wav',\n",
       "       '/mnt/sphere/speech_bci/raw_data/s_b1267_22/2022-03-24/alsa/11-00-01-01.wav',\n",
       "       '/mnt/sphere/speech_bci/raw_data/s_b1267_22/2022-03-24/alsa/11-00-01-01.wav',\n",
       "       '/mnt/sphere/speech_bci/raw_data/s_b1267_22/2022-03-24/alsa/11-00-01-01.wav',\n",
       "       '/mnt/sphere/speech_bci/raw_data/s_b1267_22/2022-03-24/alsa/11-00-01-01.wav',\n",
       "       '/mnt/sphere/speech_bci/raw_data/s_b1267_22/2022-03-24/alsa/11-00-01-01.wav',\n",
       "       '/mnt/sphere/speech_bci/raw_data/s_b1267_22/2022-03-24/alsa/11-00-01-01.wav',\n",
       "       '/mnt/sphere/speech_bci/raw_data/s_b1267_22/2022-03-24/alsa/11-00-01-01.wav',\n",
       "       '/mnt/sphere/speech_bci/raw_data/s_b1267_22/2022-03-24/alsa/11-00-01-01.wav',\n",
       "       '/mnt/sphere/speech_bci/raw_data/s_b1267_22/2022-03-24/alsa/11-00-01-01.wav',\n",
       "       '/mnt/sphere/speech_bci/raw_data/s_b1267_22/2022-03-24/alsa/11-00-01-01.wav',\n",
       "       '/mnt/sphere/speech_bci/raw_data/s_b1267_22/2022-03-24/alsa/11-00-01-01.wav',\n",
       "       '/mnt/sphere/speech_bci/raw_data/s_b1267_22/2022-03-24/alsa/11-00-01-01.wav',\n",
       "       '/mnt/sphere/speech_bci/raw_data/s_b1267_22/2022-03-24/alsa/11-00-01-02.wav',\n",
       "       '/mnt/sphere/speech_bci/raw_data/s_b1267_22/2022-03-24/alsa/11-00-01-02.wav',\n",
       "       '/mnt/sphere/speech_bci/raw_data/s_b1267_22/2022-03-24/alsa/11-00-01-02.wav',\n",
       "       '/mnt/sphere/speech_bci/raw_data/s_b1267_22/2022-03-24/alsa/11-00-01-02.wav',\n",
       "       '/mnt/sphere/speech_bci/raw_data/s_b1267_22/2022-03-24/alsa/12-00-01-02.wav',\n",
       "       '/mnt/sphere/speech_bci/raw_data/s_b1267_22/2022-03-24/alsa/12-00-01-02.wav',\n",
       "       '/mnt/sphere/speech_bci/raw_data/s_b1267_22/2022-03-24/alsa/12-00-01-02.wav',\n",
       "       '/mnt/sphere/speech_bci/raw_data/s_b1267_22/2022-03-24/alsa/12-00-01-02.wav',\n",
       "       '/mnt/sphere/speech_bci/raw_data/s_b1267_22/2022-03-24/alsa/12-00-01-02.wav',\n",
       "       '/mnt/sphere/speech_bci/raw_data/s_b1267_22/2022-03-24/alsa/12-00-01-02.wav',\n",
       "       '/mnt/sphere/speech_bci/raw_data/s_b1267_22/2022-03-24/alsa/16-00-01-01.wav'],\n",
       "      dtype=object)"
      ]
     },
     "execution_count": 41,
     "metadata": {},
     "output_type": "execute_result"
    }
   ],
   "source": [
    "viz_bout.bouts_pd[viz_bout.bouts_pd['bout_check']==True]['file'].values"
   ]
  },
  {
   "cell_type": "code",
   "execution_count": null,
   "metadata": {
    "tags": []
   },
   "outputs": [],
   "source": [
    "viz_bout.bouts_pd.head(5)"
   ]
  },
  {
   "cell_type": "markdown",
   "metadata": {},
   "source": [
    "### attempts at audio playing within the widget"
   ]
  },
  {
   "cell_type": "code",
   "execution_count": null,
   "metadata": {},
   "outputs": [],
   "source": [
    "a = widgets.Audio()\n",
    "a.value = bytes(viz_bout.x)"
   ]
  }
 ],
 "metadata": {
  "kernelspec": {
   "display_name": "ceciestunepipe (cube)",
   "language": "python",
   "name": "ceciestunepipe"
  },
  "language_info": {
   "codemirror_mode": {
    "name": "ipython",
    "version": 3
   },
   "file_extension": ".py",
   "mimetype": "text/x-python",
   "name": "python",
   "nbconvert_exporter": "python",
   "pygments_lexer": "ipython3",
   "version": "3.8.10"
  }
 },
 "nbformat": 4,
 "nbformat_minor": 5
}
