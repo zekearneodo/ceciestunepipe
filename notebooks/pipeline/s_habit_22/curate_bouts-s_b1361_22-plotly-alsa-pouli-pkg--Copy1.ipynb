{
 "cells": [
  {
   "cell_type": "markdown",
   "id": "primary-gambling",
   "metadata": {},
   "source": [
    "## Searching for bouts for a day of alsa recording"
   ]
  },
  {
   "cell_type": "code",
   "execution_count": 1,
   "id": "speaking-philosophy",
   "metadata": {},
   "outputs": [
    {
     "name": "stderr",
     "output_type": "stream",
     "text": [
      "2022-07-18 09:12:11,467 root         INFO     Running on pouli\n"
     ]
    }
   ],
   "source": [
    "import os\n",
    "import glob\n",
    "import socket\n",
    "import logging\n",
    "import pickle\n",
    "import numpy as np\n",
    "import pandas as pd\n",
    "from scipy.io import wavfile\n",
    "from scipy import signal\n",
    "\n",
    "### Fuck matplotlib, I'm using poltly now\n",
    "from plotly.subplots import make_subplots\n",
    "import plotly.graph_objects as go\n",
    "\n",
    "from importlib import reload\n",
    "\n",
    "logger = logging.getLogger()\n",
    "handler = logging.StreamHandler()\n",
    "formatter = logging.Formatter(\n",
    "        '%(asctime)s %(name)-12s %(levelname)-8s %(message)s')\n",
    "handler.setFormatter(formatter)\n",
    "logger.addHandler(handler)\n",
    "logger.setLevel(logging.INFO)\n",
    "\n",
    "logger.info('Running on {}'.format(socket.gethostname()))"
   ]
  },
  {
   "cell_type": "code",
   "execution_count": 2,
   "id": "distinct-spare",
   "metadata": {},
   "outputs": [],
   "source": [
    "from ceciestunepipe.file import bcistructure as et\n",
    "from ceciestunepipe.util.sound import boutsearch as bs\n",
    "from ceciestunepipe.pipeline import searchbout as sb"
   ]
  },
  {
   "cell_type": "markdown",
   "id": "addressed-buffalo",
   "metadata": {},
   "source": [
    "### Get the file locations for a session (day) of recordings"
   ]
  },
  {
   "cell_type": "code",
   "execution_count": 3,
   "id": "beneficial-restaurant",
   "metadata": {},
   "outputs": [],
   "source": [
    "reload(et)\n",
    "sess_par = {'bird': 's_b1361_22',\n",
    "           'sess': '2022-07-17'}\n",
    "\n",
    "exp_struct = et.get_exp_struct(sess_par['bird'], sess_par['sess'], ephys_software='alsa')\n",
    "\n",
    "raw_folder = exp_struct['folders']['alsa']\n",
    "bouts_folder = os.path.join(exp_struct['folders']['derived'], 'bouts_ceciestunepipe')"
   ]
  },
  {
   "cell_type": "code",
   "execution_count": 4,
   "id": "raising-heath",
   "metadata": {},
   "outputs": [
    {
     "data": {
      "text/plain": [
       "{'bird': '/mnt/sphere/speech_bci/raw_data/s_b1361_22',\n",
       " 'raw': '/mnt/sphere/speech_bci/raw_data/s_b1361_22/2022-07-17',\n",
       " 'alsa': '/mnt/sphere/speech_bci/raw_data/s_b1361_22/2022-07-17/alsa',\n",
       " 'kwik': '/experiment/s_b1361_22/alsa/kwik/2022-07-17',\n",
       " 'processed': '/mnt/sphere/speech_bci/processed_data/s_b1361_22/2022-07-17/alsa',\n",
       " 'derived': '/mnt/sphere/speech_bci/derived_data/s_b1361_22/2022-07-17/alsa',\n",
       " 'tmp': '/experiment/tmp/tmp',\n",
       " 'msort': '/experiment/tmp/s_b1361_22/alsa/msort/2022-07-17',\n",
       " 'ksort': '/experiment/tmp/s_b1361_22/alsa/ksort/2022-07-17/',\n",
       " 'sort': '/mnt/sphere/speech_bci/derived_data/s_b1361_22/2022-07-17/alsa/'}"
      ]
     },
     "execution_count": 4,
     "metadata": {},
     "output_type": "execute_result"
    }
   ],
   "source": [
    "exp_struct['folders']"
   ]
  },
  {
   "cell_type": "markdown",
   "id": "historic-blink",
   "metadata": {},
   "source": [
    "### read a session's bouts pandas\n",
    "- get the location of the file\n",
    "- load the pandas pickle\n",
    "- load the search/spectrogram parameters"
   ]
  },
  {
   "cell_type": "code",
   "execution_count": 5,
   "id": "ea4e820d",
   "metadata": {},
   "outputs": [
    {
     "data": {
      "text/plain": [
       "'1.4.2'"
      ]
     },
     "execution_count": 5,
     "metadata": {},
     "output_type": "execute_result"
    }
   ],
   "source": [
    "pd.__version__"
   ]
  },
  {
   "cell_type": "code",
   "execution_count": 6,
   "id": "perceived-chester",
   "metadata": {},
   "outputs": [],
   "source": [
    "reload(sb)\n",
    "hparams, bpd = sb.read_session_bouts(sess_par['bird'], sess_par['sess'], recording_software='alsa', curated=False)"
   ]
  },
  {
   "cell_type": "code",
   "execution_count": 7,
   "id": "vocational-phrase",
   "metadata": {
    "scrolled": true,
    "tags": []
   },
   "outputs": [
    {
     "data": {
      "text/html": [
       "<div>\n",
       "<style scoped>\n",
       "    .dataframe tbody tr th:only-of-type {\n",
       "        vertical-align: middle;\n",
       "    }\n",
       "\n",
       "    .dataframe tbody tr th {\n",
       "        vertical-align: top;\n",
       "    }\n",
       "\n",
       "    .dataframe thead th {\n",
       "        text-align: right;\n",
       "    }\n",
       "</style>\n",
       "<table border=\"1\" class=\"dataframe\">\n",
       "  <thead>\n",
       "    <tr style=\"text-align: right;\">\n",
       "      <th></th>\n",
       "      <th>start_ms</th>\n",
       "      <th>end_ms</th>\n",
       "      <th>start_sample</th>\n",
       "      <th>end_sample</th>\n",
       "      <th>p_step</th>\n",
       "      <th>rms_p</th>\n",
       "      <th>peak_p</th>\n",
       "      <th>bout_check</th>\n",
       "      <th>file</th>\n",
       "      <th>len_ms</th>\n",
       "      <th>syl_in</th>\n",
       "      <th>n_syl</th>\n",
       "      <th>peaks_p</th>\n",
       "      <th>n_peaks</th>\n",
       "      <th>l_p_ratio</th>\n",
       "      <th>waveform</th>\n",
       "      <th>valid_waveform</th>\n",
       "      <th>valid</th>\n",
       "      <th>spectrogram</th>\n",
       "      <th>confusing</th>\n",
       "    </tr>\n",
       "  </thead>\n",
       "  <tbody>\n",
       "    <tr>\n",
       "      <th>0</th>\n",
       "      <td>48130</td>\n",
       "      <td>55610</td>\n",
       "      <td>2310240</td>\n",
       "      <td>2669280</td>\n",
       "      <td>[24.609424645234455, 60.84913868241483, 89.615...</td>\n",
       "      <td>13.963474</td>\n",
       "      <td>106.876189</td>\n",
       "      <td>True</td>\n",
       "      <td>/mnt/sphere/speech_bci/raw_data/s_b1361_22/202...</td>\n",
       "      <td>7480</td>\n",
       "      <td>[[48130, 48260], [48620, 48795], [48805, 48915...</td>\n",
       "      <td>11</td>\n",
       "      <td>[3, 17, 93, 102, 109, 117, 127, 142, 153, 511,...</td>\n",
       "      <td>29</td>\n",
       "      <td>257.931034</td>\n",
       "      <td>[-14, -14, -13, -12, -11, -11, -12, -13, -14, ...</td>\n",
       "      <td>True</td>\n",
       "      <td>True</td>\n",
       "      <td>[[0.0, 0.0, 0.0, 0.0, 0.0, 0.0, 0.0, 0.0, 0.0,...</td>\n",
       "      <td>True</td>\n",
       "    </tr>\n",
       "    <tr>\n",
       "      <th>1</th>\n",
       "      <td>343505</td>\n",
       "      <td>348285</td>\n",
       "      <td>16488240</td>\n",
       "      <td>16717680</td>\n",
       "      <td>[4.789509967319818, 6.821087127952939, 5.00535...</td>\n",
       "      <td>13.963474</td>\n",
       "      <td>124.327331</td>\n",
       "      <td>True</td>\n",
       "      <td>/mnt/sphere/speech_bci/raw_data/s_b1361_22/202...</td>\n",
       "      <td>4780</td>\n",
       "      <td>[[343505, 343535], [344000, 344105], [344470, ...</td>\n",
       "      <td>9</td>\n",
       "      <td>[3, 82, 103, 114, 197, 252, 280, 294, 333, 415...</td>\n",
       "      <td>23</td>\n",
       "      <td>207.826087</td>\n",
       "      <td>[21, 22, 22, 22, 20, 18, 17, 17, 17, 17, 17, 1...</td>\n",
       "      <td>True</td>\n",
       "      <td>True</td>\n",
       "      <td>[[0.0, 0.0, 0.0, 0.0, 0.0, 0.0, 0.0, 0.0, 0.0,...</td>\n",
       "      <td>True</td>\n",
       "    </tr>\n",
       "    <tr>\n",
       "      <th>2</th>\n",
       "      <td>351430</td>\n",
       "      <td>356675</td>\n",
       "      <td>16868640</td>\n",
       "      <td>17120400</td>\n",
       "      <td>[4.494829538027885, 7.329838545341398, 10.5644...</td>\n",
       "      <td>13.963474</td>\n",
       "      <td>150.272225</td>\n",
       "      <td>True</td>\n",
       "      <td>/mnt/sphere/speech_bci/raw_data/s_b1361_22/202...</td>\n",
       "      <td>5245</td>\n",
       "      <td>[[351430, 351570], [351670, 352000], [352755, ...</td>\n",
       "      <td>10</td>\n",
       "      <td>[4, 16, 27, 51, 60, 69, 78, 86, 100, 108, 271,...</td>\n",
       "      <td>28</td>\n",
       "      <td>187.321429</td>\n",
       "      <td>[-20, -19, -19, -19, -20, -20, -19, -18, -18, ...</td>\n",
       "      <td>True</td>\n",
       "      <td>True</td>\n",
       "      <td>[[0.0, 0.0, 0.0, 0.0, 0.0, 0.0, 0.0, 0.0, 0.0,...</td>\n",
       "      <td>True</td>\n",
       "    </tr>\n",
       "    <tr>\n",
       "      <th>3</th>\n",
       "      <td>371275</td>\n",
       "      <td>377080</td>\n",
       "      <td>17821200</td>\n",
       "      <td>18099840</td>\n",
       "      <td>[8.384373649421633, 5.2373287504326465, 12.869...</td>\n",
       "      <td>13.963474</td>\n",
       "      <td>169.674052</td>\n",
       "      <td>True</td>\n",
       "      <td>/mnt/sphere/speech_bci/raw_data/s_b1361_22/202...</td>\n",
       "      <td>5805</td>\n",
       "      <td>[[371275, 371390], [371475, 371775], [371945, ...</td>\n",
       "      <td>10</td>\n",
       "      <td>[5, 16, 23, 33, 45, 53, 61, 78, 94, 137, 731, ...</td>\n",
       "      <td>23</td>\n",
       "      <td>252.391304</td>\n",
       "      <td>[30, 30, 32, 33, 33, 32, 31, 29, 28, 27, 27, 2...</td>\n",
       "      <td>True</td>\n",
       "      <td>True</td>\n",
       "      <td>[[0.0, 0.0, 0.0, 0.0, 0.0, 0.0, 0.0, 0.0, 0.0,...</td>\n",
       "      <td>True</td>\n",
       "    </tr>\n",
       "    <tr>\n",
       "      <th>4</th>\n",
       "      <td>401050</td>\n",
       "      <td>408075</td>\n",
       "      <td>19250400</td>\n",
       "      <td>19587600</td>\n",
       "      <td>[14.089811609890601, 10.324049620012781, 19.22...</td>\n",
       "      <td>13.963474</td>\n",
       "      <td>119.870308</td>\n",
       "      <td>True</td>\n",
       "      <td>/mnt/sphere/speech_bci/raw_data/s_b1361_22/202...</td>\n",
       "      <td>7025</td>\n",
       "      <td>[[401050, 401095], [401125, 401185], [401230, ...</td>\n",
       "      <td>10</td>\n",
       "      <td>[3, 19, 40, 48, 95, 263, 274, 282, 289, 301, 3...</td>\n",
       "      <td>37</td>\n",
       "      <td>189.864865</td>\n",
       "      <td>[-27, -28, -27, -26, -24, -23, -22, -21, -21, ...</td>\n",
       "      <td>True</td>\n",
       "      <td>True</td>\n",
       "      <td>[[0.0, 0.0, 0.0, 0.0, 0.0, 0.0, 0.0, 0.0, 0.0,...</td>\n",
       "      <td>True</td>\n",
       "    </tr>\n",
       "  </tbody>\n",
       "</table>\n",
       "</div>"
      ],
      "text/plain": [
       "   start_ms  end_ms  start_sample  end_sample  \\\n",
       "0     48130   55610       2310240     2669280   \n",
       "1    343505  348285      16488240    16717680   \n",
       "2    351430  356675      16868640    17120400   \n",
       "3    371275  377080      17821200    18099840   \n",
       "4    401050  408075      19250400    19587600   \n",
       "\n",
       "                                              p_step      rms_p      peak_p  \\\n",
       "0  [24.609424645234455, 60.84913868241483, 89.615...  13.963474  106.876189   \n",
       "1  [4.789509967319818, 6.821087127952939, 5.00535...  13.963474  124.327331   \n",
       "2  [4.494829538027885, 7.329838545341398, 10.5644...  13.963474  150.272225   \n",
       "3  [8.384373649421633, 5.2373287504326465, 12.869...  13.963474  169.674052   \n",
       "4  [14.089811609890601, 10.324049620012781, 19.22...  13.963474  119.870308   \n",
       "\n",
       "   bout_check                                               file  len_ms  \\\n",
       "0        True  /mnt/sphere/speech_bci/raw_data/s_b1361_22/202...    7480   \n",
       "1        True  /mnt/sphere/speech_bci/raw_data/s_b1361_22/202...    4780   \n",
       "2        True  /mnt/sphere/speech_bci/raw_data/s_b1361_22/202...    5245   \n",
       "3        True  /mnt/sphere/speech_bci/raw_data/s_b1361_22/202...    5805   \n",
       "4        True  /mnt/sphere/speech_bci/raw_data/s_b1361_22/202...    7025   \n",
       "\n",
       "                                              syl_in  n_syl  \\\n",
       "0  [[48130, 48260], [48620, 48795], [48805, 48915...     11   \n",
       "1  [[343505, 343535], [344000, 344105], [344470, ...      9   \n",
       "2  [[351430, 351570], [351670, 352000], [352755, ...     10   \n",
       "3  [[371275, 371390], [371475, 371775], [371945, ...     10   \n",
       "4  [[401050, 401095], [401125, 401185], [401230, ...     10   \n",
       "\n",
       "                                             peaks_p  n_peaks   l_p_ratio  \\\n",
       "0  [3, 17, 93, 102, 109, 117, 127, 142, 153, 511,...       29  257.931034   \n",
       "1  [3, 82, 103, 114, 197, 252, 280, 294, 333, 415...       23  207.826087   \n",
       "2  [4, 16, 27, 51, 60, 69, 78, 86, 100, 108, 271,...       28  187.321429   \n",
       "3  [5, 16, 23, 33, 45, 53, 61, 78, 94, 137, 731, ...       23  252.391304   \n",
       "4  [3, 19, 40, 48, 95, 263, 274, 282, 289, 301, 3...       37  189.864865   \n",
       "\n",
       "                                            waveform  valid_waveform  valid  \\\n",
       "0  [-14, -14, -13, -12, -11, -11, -12, -13, -14, ...            True   True   \n",
       "1  [21, 22, 22, 22, 20, 18, 17, 17, 17, 17, 17, 1...            True   True   \n",
       "2  [-20, -19, -19, -19, -20, -20, -19, -18, -18, ...            True   True   \n",
       "3  [30, 30, 32, 33, 33, 32, 31, 29, 28, 27, 27, 2...            True   True   \n",
       "4  [-27, -28, -27, -26, -24, -23, -22, -21, -21, ...            True   True   \n",
       "\n",
       "                                         spectrogram  confusing  \n",
       "0  [[0.0, 0.0, 0.0, 0.0, 0.0, 0.0, 0.0, 0.0, 0.0,...       True  \n",
       "1  [[0.0, 0.0, 0.0, 0.0, 0.0, 0.0, 0.0, 0.0, 0.0,...       True  \n",
       "2  [[0.0, 0.0, 0.0, 0.0, 0.0, 0.0, 0.0, 0.0, 0.0,...       True  \n",
       "3  [[0.0, 0.0, 0.0, 0.0, 0.0, 0.0, 0.0, 0.0, 0.0,...       True  \n",
       "4  [[0.0, 0.0, 0.0, 0.0, 0.0, 0.0, 0.0, 0.0, 0.0,...       True  "
      ]
     },
     "execution_count": 7,
     "metadata": {},
     "output_type": "execute_result"
    }
   ],
   "source": [
    "bpd.head(5)"
   ]
  },
  {
   "cell_type": "code",
   "execution_count": 8,
   "id": "bd91428a-7ea4-4504-aab2-5bb4ce13ce3e",
   "metadata": {},
   "outputs": [
    {
     "data": {
      "text/plain": [
       "363"
      ]
     },
     "execution_count": 8,
     "metadata": {},
     "output_type": "execute_result"
    }
   ],
   "source": [
    "bpd.index.size"
   ]
  },
  {
   "cell_type": "markdown",
   "id": "received-deadline",
   "metadata": {},
   "source": [
    "###### if it wasnt saved (which is a bad mistake), read the sampling rate from the first file in the session"
   ]
  },
  {
   "cell_type": "markdown",
   "id": "adjustable-asian",
   "metadata": {},
   "source": [
    "## inspect the bouts and curate them"
   ]
  },
  {
   "cell_type": "markdown",
   "id": "enhanced-actress",
   "metadata": {},
   "source": [
    "#### visualize one bout"
   ]
  },
  {
   "cell_type": "code",
   "execution_count": 9,
   "id": "cardiac-casino",
   "metadata": {},
   "outputs": [],
   "source": [
    "import plotly.express as px\n",
    "import plotly.graph_objects as go\n",
    "\n",
    "from ipywidgets import widgets"
   ]
  },
  {
   "cell_type": "code",
   "execution_count": 10,
   "id": "preliminary-mattress",
   "metadata": {},
   "outputs": [],
   "source": [
    "def viz_one_bout(df: pd.Series, sub_sample=1):\n",
    "    # get the power and the spectrogram\n",
    "    sxx = df['spectrogram'][:, ::sub_sample]\n",
    "    x = df['waveform'][::sub_sample]\n",
    "    \n",
    "    # the trace\n",
    "    tr_waveform = go.Scatter(y=x)\n",
    "    figwidg_waveform = go.FigureWidget(data=[tr_waveform],\n",
    "                                      layout= {'height': 300,'width':1000})\n",
    "\n",
    "    # the spectrogram\n",
    "    fig_spectrogram = px.imshow(sxx, \n",
    "                                     labels={}, \n",
    "                                     color_continuous_scale='Inferno',\n",
    "                                    aspect='auto')\n",
    "\n",
    "    fig_spectrogram.update_layout(width=1000, height=300, coloraxis_showscale=False)\n",
    "    fig_spectrogram.update_xaxes(showticklabels=False)\n",
    "    fig_spectrogram.update_yaxes(showticklabels=False)\n",
    "    \n",
    "    \n",
    "    figwidg_spectrogram = go.FigureWidget(fig_spectrogram)\n",
    "    \n",
    "    display(widgets.VBox([figwidg_waveform,\n",
    "              figwidg_spectrogram]))\n",
    "    \n",
    "\n",
    "#viz_one_bout(bpd.iloc[1])"
   ]
  },
  {
   "cell_type": "markdown",
   "id": "steady-might",
   "metadata": {},
   "source": [
    "## use it in a widget\n"
   ]
  },
  {
   "cell_type": "code",
   "execution_count": 11,
   "id": "59720108-b7c4-4d8f-b5f8-21492450e3be",
   "metadata": {},
   "outputs": [],
   "source": [
    "bpd.sort_values('len_ms', ascending=False, inplace=True)\n",
    "bpd.reset_index(drop=True, inplace=True)"
   ]
  },
  {
   "cell_type": "code",
   "execution_count": 12,
   "id": "wound-consolidation",
   "metadata": {},
   "outputs": [],
   "source": [
    "### Create a counter object (count goes 1:1 to DataFrame index)\n",
    "from traitlets import CInt, link\n",
    "\n",
    "class Counter(widgets.DOMWidget):\n",
    "    value = CInt(0)\n",
    "    value.tag(sync=True)"
   ]
  },
  {
   "cell_type": "code",
   "execution_count": 13,
   "id": "opened-momentum",
   "metadata": {
    "tags": []
   },
   "outputs": [
    {
     "data": {
      "application/vnd.jupyter.widget-view+json": {
       "model_id": "18325077a5764aa79e0379947480d540",
       "version_major": 2,
       "version_minor": 0
      },
      "text/plain": [
       "VBox(children=(HBox(children=(VBox(children=(HBox(children=(Button(button_style='warning', description='Prev',…"
      ]
     },
     "metadata": {},
     "output_type": "display_data"
    }
   ],
   "source": [
    "class VizBout():\n",
    "    def __init__(self, hparams, bouts_pd):\n",
    "        self.bout = None\n",
    "        self.bouts_pd = bouts_pd\n",
    "        self.bout_series = None\n",
    "        self.is_bout = None\n",
    "        self.is_call = None\n",
    "        self.is_confusing = None\n",
    "                \n",
    "        self.bout_counter = None\n",
    "        self.bout_id = None\n",
    "        \n",
    "        self.buttons = {}\n",
    "        self.m_pick = None\n",
    "        \n",
    "        self.audio = None\n",
    "        \n",
    "        self.fig_waveform = None\n",
    "        self.fig_spectrogram = None\n",
    "        \n",
    "        self.figwidg_waveform = None\n",
    "        self.figwidg_spectrogram = None\n",
    "        \n",
    "        self.fig_width = 2\n",
    "        self.sub_sample = 10\n",
    "        \n",
    "        self.x = None\n",
    "        self.sxx = None\n",
    "        self.tr_waveform = None\n",
    "        \n",
    "        self.s_f = hparams['sample_rate']\n",
    "        \n",
    "        self.init_fig()\n",
    "        self.init_widget()\n",
    "        self.show()\n",
    "        \n",
    "    def init_fig(self):\n",
    "        # the trace\n",
    "        self.tr_waveform = go.Scatter(y=np.zeros(500))\n",
    "        self.figwidg_waveform = go.FigureWidget(data=[self.tr_waveform],\n",
    "                                               layout={'width': 1000, 'height':300})\n",
    "        \n",
    "        # the spectrogram\n",
    "        self.fig_spectrogram = px.imshow(np.random.rand(500, 500), \n",
    "                                         labels={}, \n",
    "                                         color_continuous_scale='Inferno',\n",
    "                                        aspect='auto')\n",
    "        \n",
    "        self.fig_spectrogram.update_layout(width=1000, height=300, coloraxis_showscale=False)\n",
    "        self.fig_spectrogram.update_xaxes(showticklabels=False)\n",
    "        self.fig_spectrogram.update_yaxes(showticklabels=False)\n",
    "        self.figwidg_spectrogram = go.FigureWidget(self.fig_spectrogram)\n",
    "        \n",
    "        \n",
    "    def init_widget(self):\n",
    "        # declare elements\n",
    "        # lay them out\n",
    "        #\n",
    "        \n",
    "        # is this the best place for this?\n",
    "        self.bouts_pd['is_call'] = False\n",
    "        \n",
    "        self.bout_counter = Counter()\n",
    "        self.is_bout = widgets.Checkbox(description='is bout')\n",
    "        self.is_call = widgets.Checkbox(description='calls')\n",
    "        self.is_confusing = widgets.Checkbox(description='confusing')\n",
    "        \n",
    "        self.buttons['Next'] = widgets.Button(description=\"Next\", button_style='info',\n",
    "                                              icon='plus')   \n",
    "        self.buttons['Prev'] = widgets.Button(description=\"Prev\", button_style='warning',\n",
    "                                              icon='minus')\n",
    "        self.buttons['Check'] = widgets.Button(description=\"Song\", button_style='success', \n",
    "                                               icon='check')\n",
    "        self.buttons['Uncheck'] = widgets.Button(description=\"Noise\", button_style='danger',\n",
    "                                                 icon='wrong')\n",
    "        self.buttons['Call'] = widgets.Button(description=\"Calls\")\n",
    "        \n",
    "        [b.on_click(self.button_click) for b in self.buttons.values()]\n",
    "        \n",
    "        \n",
    "        top_box = widgets.HBox([self.buttons['Prev'], self.buttons['Next']])\n",
    "        bottom_box = widgets.HBox([self.buttons['Uncheck'], self.buttons['Check'], self.buttons['Call']])\n",
    "        button_box = widgets.VBox([top_box, bottom_box])\n",
    "\n",
    "        self.m_pick = widgets.IntSlider(value=0, min=0, max=self.bouts_pd.index.size-1, step=1, \n",
    "                                        description=\"Bout candidate index\")\n",
    "        \n",
    "        \n",
    "        #self.audio = Audio(data=np.zeros(100), rate=self.s_f)\n",
    "        \n",
    "        control_box = widgets.HBox([button_box,\n",
    "                                  widgets.VBox([self.is_bout, self.is_confusing, self.is_call]),\n",
    "                                  widgets.VBox([self.m_pick])]\n",
    "                                  )\n",
    "        \n",
    "        link((self.m_pick, 'value'), (self.bout_counter, 'value'))\n",
    "\n",
    "        self.update_bout()\n",
    "        \n",
    "        self.is_bout.observe(self.bout_checked, names='value')\n",
    "        self.is_call.observe(self.call_checked, names='value')\n",
    "        self.is_confusing.observe(self.confusing_checked, names='value')\n",
    "        \n",
    "        self.m_pick.observe(self.slider_change, names='value')\n",
    "        \n",
    "        all_containers = widgets.VBox([control_box, \n",
    "                                       self.figwidg_waveform, self.figwidg_spectrogram])\n",
    "        display(all_containers)\n",
    "#         display(button_box)\n",
    "#         display(self.m_pick)\n",
    "#         display(self.is_bout)\n",
    "#         display(self.fig)\n",
    "        \n",
    "    def button_click(self, button):        \n",
    "        self.bout_id = self.bout_counter.value\n",
    "        curr_bout = self.bout_counter\n",
    "        \n",
    "        if button.description == 'Next':\n",
    "            curr_bout.value += 1\n",
    "        elif button.description == 'Prev':\n",
    "            #print('prev clicked')\n",
    "            curr_bout.value -= 1\n",
    "        \n",
    "        elif button.description == 'Song':\n",
    "            #print('check clicked')\n",
    "            self.bouts_pd.loc[self.bout_id, 'bout_check'] = True\n",
    "            self.bouts_pd.loc[self.bout_id, 'confusing'] = False\n",
    "            self.bouts_pd.loc[self.bout_id, 'is_call'] = False\n",
    "            curr_bout.value += 1\n",
    "        \n",
    "        elif button.description == 'Noise':\n",
    "            self.bouts_pd.loc[self.bout_id, 'bout_check'] = False\n",
    "            self.bouts_pd.loc[self.bout_id, 'confusing'] = False\n",
    "            self.bouts_pd.loc[self.bout_id, 'is_call'] = False\n",
    "            curr_bout.value += 1\n",
    "        \n",
    "        elif button.description == 'Calls':\n",
    "            self.bouts_pd.loc[self.bout_id, 'bout_check'] = True\n",
    "            self.bouts_pd.loc[self.bout_id, 'confusing'] = False\n",
    "            self.bouts_pd.loc[self.bout_id, 'is_call'] = True\n",
    "            curr_bout.value += 1\n",
    "        \n",
    "        # handle the edges of the counter\n",
    "        if curr_bout.value > self.m_pick.max:\n",
    "            curr_bout.value = 0\n",
    "            \n",
    "        if curr_bout.value < self.m_pick.min:\n",
    "            curr_bout.value = self.m_pick.max\n",
    "    \n",
    "    def slider_change(self, change):\n",
    "        #logger.info('slider changed')\n",
    "        #self.bout_counter = change.new\n",
    "        #clear_output(True)\n",
    "        self.update_bout()\n",
    "        self.show()\n",
    "            \n",
    "    def bout_checked(self, bc):\n",
    "#         print \"bout checked\"\n",
    "#         print bc['new']\n",
    "#         print self.motiff\n",
    "        self.bouts_pd.loc[self.bout_id, 'bout_check'] = bc['new']\n",
    "        #self.bouts_pd.loc[self.bout_id, 'is_call'] = False # if it is \n",
    "    \n",
    "    def call_checked(self, bc):\n",
    "#         print \"bout checked\"\n",
    "#         print bc['new']\n",
    "#         print self.motiff\n",
    "        self.bouts_pd.loc[self.bout_id, 'is_call'] = bc['new']\n",
    "    \n",
    "    def confusing_checked(self, bc):\n",
    "#         print \"bout checked\"\n",
    "#         print bc['new']\n",
    "#         print self.motiff\n",
    "        self.bouts_pd.loc[self.bout_id, 'confusing'] = bc['new']\n",
    "    \n",
    "    \n",
    "    \n",
    "    def update_bout(self):\n",
    "        self.bout_id = self.bout_counter.value\n",
    "        self.bout_series = self.bouts_pd.iloc[self.bout_id]\n",
    "        \n",
    "        self.is_bout.value = bool(self.bout_series['bout_check'])\n",
    "        self.is_call.value = bool(self.bout_series['is_call'])\n",
    "        self.is_confusing.value = bool(self.bout_series['confusing'])\n",
    "                \n",
    "        self.x = self.bout_series['waveform'][::self.sub_sample]\n",
    "        self.sxx = self.bout_series['spectrogram'][::self.sub_sample]\n",
    "        \n",
    "        #self.audio = Audio(data=self.x.flatten(), rate=self.s_f)\n",
    "        \n",
    "    def show(self):\n",
    "        #self.fig.clf()\n",
    "        #self.init_fig()\n",
    "        # update\n",
    "#         self.update_bout()\n",
    "        #plot\n",
    "        #logger.info('showing')\n",
    "        \n",
    "        # Show the figures\n",
    "        with self.figwidg_waveform.batch_update():\n",
    "            self.figwidg_waveform.data[0].y = self.x\n",
    "            self.figwidg_waveform.data[0].x = np.arange(self.x.size) * self.sub_sample / self.s_f \n",
    "            \n",
    "        with self.figwidg_spectrogram.batch_update():\n",
    "            self.figwidg_spectrogram.data[0].z = np.sqrt(self.sxx[::-1])\n",
    "            \n",
    "        \n",
    "\n",
    "viz_bout = VizBout(hparams, bpd)"
   ]
  },
  {
   "cell_type": "code",
   "execution_count": 14,
   "id": "d01d1a08-cd10-43ca-95d8-b99ec3cd03f0",
   "metadata": {},
   "outputs": [
    {
     "ename": "KeyboardInterrupt",
     "evalue": "",
     "output_type": "error",
     "traceback": [
      "\u001b[0;31m---------------------------------------------------------------------------\u001b[0m",
      "\u001b[0;31mKeyboardInterrupt\u001b[0m                         Traceback (most recent call last)",
      "Input \u001b[0;32mIn [14]\u001b[0m, in \u001b[0;36m<module>\u001b[0;34m\u001b[0m\n\u001b[0;32m----> 1\u001b[0m \u001b[38;5;28;01mraise\u001b[39;00m \u001b[38;5;167;01mKeyboardInterrupt\u001b[39;00m\n",
      "\u001b[0;31mKeyboardInterrupt\u001b[0m: "
     ]
    }
   ],
   "source": [
    "raise KeyboardInterrupt"
   ]
  },
  {
   "cell_type": "code",
   "execution_count": null,
   "id": "special-guest",
   "metadata": {},
   "outputs": [],
   "source": [
    "np.where((viz_bout.bouts_pd['bout_check']==True) & (viz_bout.bouts_pd['confusing']==False) & (bpd['len_ms']>10000))[0].size"
   ]
  },
  {
   "cell_type": "markdown",
   "id": "qualified-devon",
   "metadata": {},
   "source": [
    "### save it"
   ]
  },
  {
   "cell_type": "code",
   "execution_count": null,
   "id": "legendary-lesbian",
   "metadata": {},
   "outputs": [],
   "source": [
    "### get the curated file path\n",
    "##save to the curated file path\n",
    "bouts_curated_file_path = os.path.join(bouts_folder, hparams['bout_curated_file'])\n",
    "\n",
    "os.makedirs(bouts_folder, exist_ok=True, mode=0o777)\n",
    "\n",
    "viz_bout.bouts_pd.to_pickle(bouts_curated_file_path)\n",
    "logger.info('saved curated bout pandas to pickle {}'.format(bouts_curated_file_path))"
   ]
  },
  {
   "cell_type": "markdown",
   "id": "ce7e641e-506e-4111-9dee-e74ff824a656",
   "metadata": {},
   "source": [
    "### Curated bouts longer than 10 seconds"
   ]
  },
  {
   "cell_type": "code",
   "execution_count": null,
   "id": "ebfabdbf-0ec4-4932-8229-3f529ff30e29",
   "metadata": {},
   "outputs": [],
   "source": [
    "def sess_bout_summary(bout_pd: pd.DataFrame, ax_dict: dict=None, bouts_type='curated', min_len_ms=10000) -> pd.DataFrame:\n",
    "    ## make and plot a summary of the bird's bout.\n",
    "    # get lengths of the bouts\n",
    "    # get estimate timestamps of bouts\n",
    "    # plot histogram length of bouts\n",
    "    # histogram of time of bouts\n",
    "    bout_sel = (bout_pd['valid']==True) & (bout_pd['len_ms'] > min_len_ms);\n",
    "    if bouts_type=='curated':\n",
    "        bout_sel = bout_sel & (bout_pd['bout_check']==True) & (bout_pd['confusing']==False) & (bout_pd['is_call']==False);\n",
    "    \n",
    "    # len/time? (when do they sing the longest?)\n",
    "    logger.info('Number of bouts: {}'.format(bout_pd.loc[bout_sel].index.size))\n",
    "    logger.info('Length of all bouts (minutes): {}'.format(bout_pd.loc[bout_sel, 'len_ms'].values.sum()/60000))\n",
    "    \n",
    "    if ax_dict is None:\n",
    "        bout_pd.loc[bout_sel].hist(column='len_ms')\n",
    "    return bout_pd\n",
    "\n",
    "bpd = sess_bout_summary(bpd)"
   ]
  },
  {
   "cell_type": "code",
   "execution_count": null,
   "id": "structural-orbit",
   "metadata": {},
   "outputs": [],
   "source": [
    "viz_bout.bouts_pd['file'][0]"
   ]
  },
  {
   "cell_type": "code",
   "execution_count": null,
   "id": "frank-kazakhstan",
   "metadata": {
    "tags": []
   },
   "outputs": [],
   "source": [
    "viz_bout.bouts_pd[viz_bout.bouts_pd['bout_check']==True]['file'].values"
   ]
  },
  {
   "cell_type": "code",
   "execution_count": null,
   "id": "impressive-folks",
   "metadata": {
    "tags": []
   },
   "outputs": [],
   "source": [
    "viz_bout.bouts_pd.head(1)"
   ]
  }
 ],
 "metadata": {
  "kernelspec": {
   "display_name": "ceciestunepipe",
   "language": "python",
   "name": "ceciestunepipe"
  },
  "language_info": {
   "codemirror_mode": {
    "name": "ipython",
    "version": 3
   },
   "file_extension": ".py",
   "mimetype": "text/x-python",
   "name": "python",
   "nbconvert_exporter": "python",
   "pygments_lexer": "ipython3",
   "version": "3.8.10"
  }
 },
 "nbformat": 4,
 "nbformat_minor": 5
}
