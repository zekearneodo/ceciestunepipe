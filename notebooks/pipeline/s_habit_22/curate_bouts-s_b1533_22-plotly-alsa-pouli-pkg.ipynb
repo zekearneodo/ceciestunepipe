{
 "cells": [
  {
   "cell_type": "markdown",
   "id": "primary-gambling",
   "metadata": {},
   "source": [
    "## Searching for bouts for a day of alsa recording"
   ]
  },
  {
   "cell_type": "code",
   "execution_count": 1,
   "id": "speaking-philosophy",
   "metadata": {},
   "outputs": [
    {
     "name": "stderr",
     "output_type": "stream",
     "text": [
      "2022-05-03 11:15:15,013 root         INFO     Running on pouli\n"
     ]
    }
   ],
   "source": [
    "import os\n",
    "import glob\n",
    "import socket\n",
    "import logging\n",
    "import pickle\n",
    "import numpy as np\n",
    "import pandas as pd\n",
    "from scipy.io import wavfile\n",
    "from scipy import signal\n",
    "\n",
    "### Fuck matplotlib, I'm using poltly now\n",
    "from plotly.subplots import make_subplots\n",
    "import plotly.graph_objects as go\n",
    "\n",
    "from importlib import reload\n",
    "\n",
    "logger = logging.getLogger()\n",
    "handler = logging.StreamHandler()\n",
    "formatter = logging.Formatter(\n",
    "        '%(asctime)s %(name)-12s %(levelname)-8s %(message)s')\n",
    "handler.setFormatter(formatter)\n",
    "logger.addHandler(handler)\n",
    "logger.setLevel(logging.INFO)\n",
    "\n",
    "logger.info('Running on {}'.format(socket.gethostname()))"
   ]
  },
  {
   "cell_type": "code",
   "execution_count": 2,
   "id": "distinct-spare",
   "metadata": {},
   "outputs": [],
   "source": [
    "from ceciestunepipe.file import bcistructure as et\n",
    "from ceciestunepipe.util.sound import boutsearch as bs\n",
    "from ceciestunepipe.pipeline import searchbout as sb"
   ]
  },
  {
   "cell_type": "markdown",
   "id": "addressed-buffalo",
   "metadata": {},
   "source": [
    "### Get the file locations for a session (day) of recordings"
   ]
  },
  {
   "cell_type": "code",
   "execution_count": 3,
   "id": "beneficial-restaurant",
   "metadata": {},
   "outputs": [],
   "source": [
    "reload(et)\n",
    "sess_par = {'bird': 's_b1533_22',\n",
    "           'sess': '2022-05-02'}\n",
    "\n",
    "\n",
    "exp_struct = et.get_exp_struct(sess_par['bird'], sess_par['sess'], ephys_software='alsa')\n",
    "\n",
    "raw_folder = exp_struct['folders']['alsa']\n",
    "bouts_folder = os.path.join(exp_struct['folders']['derived'], 'bouts_ceciestunepipe')"
   ]
  },
  {
   "cell_type": "code",
   "execution_count": 4,
   "id": "raising-heath",
   "metadata": {},
   "outputs": [
    {
     "data": {
      "text/plain": [
       "{'bird': '/mnt/sphere/speech_bci/raw_data/s_b1533_22',\n",
       " 'raw': '/mnt/sphere/speech_bci/raw_data/s_b1533_22/2022-05-02',\n",
       " 'alsa': '/mnt/sphere/speech_bci/raw_data/s_b1533_22/2022-05-02/alsa',\n",
       " 'kwik': '/experiment/s_b1533_22/alsa/kwik/2022-05-02',\n",
       " 'processed': '/mnt/sphere/speech_bci/processed_data/s_b1533_22/2022-05-02/alsa',\n",
       " 'derived': '/mnt/sphere/speech_bci/derived_data/s_b1533_22/2022-05-02/alsa',\n",
       " 'tmp': '/experiment/tmp/tmp',\n",
       " 'msort': '/experiment/tmp/s_b1533_22/alsa/msort/2022-05-02',\n",
       " 'ksort': '/experiment/tmp/s_b1533_22/alsa/ksort/2022-05-02/',\n",
       " 'sort': '/mnt/sphere/speech_bci/derived_data/s_b1533_22/2022-05-02/alsa/'}"
      ]
     },
     "execution_count": 4,
     "metadata": {},
     "output_type": "execute_result"
    }
   ],
   "source": [
    "exp_struct['folders']"
   ]
  },
  {
   "cell_type": "markdown",
   "id": "historic-blink",
   "metadata": {},
   "source": [
    "### read a session's bouts pandas\n",
    "- get the location of the file\n",
    "- load the pandas pickle\n",
    "- load the search/spectrogram parameters"
   ]
  },
  {
   "cell_type": "code",
   "execution_count": 5,
   "id": "perceived-chester",
   "metadata": {},
   "outputs": [],
   "source": [
    "reload(sb)\n",
    "hparams, bpd = sb.read_session_bouts(sess_par['bird'], sess_par['sess'], recording_software='alsa', curated=False)"
   ]
  },
  {
   "cell_type": "code",
   "execution_count": 6,
   "id": "vocational-phrase",
   "metadata": {
    "scrolled": true,
    "tags": []
   },
   "outputs": [
    {
     "data": {
      "text/html": [
       "<div>\n",
       "<style scoped>\n",
       "    .dataframe tbody tr th:only-of-type {\n",
       "        vertical-align: middle;\n",
       "    }\n",
       "\n",
       "    .dataframe tbody tr th {\n",
       "        vertical-align: top;\n",
       "    }\n",
       "\n",
       "    .dataframe thead th {\n",
       "        text-align: right;\n",
       "    }\n",
       "</style>\n",
       "<table border=\"1\" class=\"dataframe\">\n",
       "  <thead>\n",
       "    <tr style=\"text-align: right;\">\n",
       "      <th></th>\n",
       "      <th>start_ms</th>\n",
       "      <th>end_ms</th>\n",
       "      <th>start_sample</th>\n",
       "      <th>end_sample</th>\n",
       "      <th>p_step</th>\n",
       "      <th>rms_p</th>\n",
       "      <th>peak_p</th>\n",
       "      <th>bout_check</th>\n",
       "      <th>file</th>\n",
       "      <th>len_ms</th>\n",
       "      <th>syl_in</th>\n",
       "      <th>n_syl</th>\n",
       "      <th>peaks_p</th>\n",
       "      <th>n_peaks</th>\n",
       "      <th>l_p_ratio</th>\n",
       "      <th>waveform</th>\n",
       "      <th>valid_waveform</th>\n",
       "      <th>valid</th>\n",
       "      <th>spectrogram</th>\n",
       "      <th>confusing</th>\n",
       "    </tr>\n",
       "  </thead>\n",
       "  <tbody>\n",
       "    <tr>\n",
       "      <th>0</th>\n",
       "      <td>1765945</td>\n",
       "      <td>1776290</td>\n",
       "      <td>84765360</td>\n",
       "      <td>85261920</td>\n",
       "      <td>[12.079567602628211, 75.19555295014142, 25.650...</td>\n",
       "      <td>0.800442</td>\n",
       "      <td>89.686115</td>\n",
       "      <td>True</td>\n",
       "      <td>/mnt/sphere/speech_bci/raw_data/s_b1533_22/202...</td>\n",
       "      <td>10345</td>\n",
       "      <td>[[1765945, 1766010], [1766245, 1766275], [1766...</td>\n",
       "      <td>10</td>\n",
       "      <td>[1, 8, 20, 32, 45, 64, 73, 87, 99, 113, 127, 1...</td>\n",
       "      <td>56</td>\n",
       "      <td>184.732143</td>\n",
       "      <td>[3, 1, 4, 3, 2, 5, 4, 3, 6, 4, 6, 5, 3, 6, 4, ...</td>\n",
       "      <td>True</td>\n",
       "      <td>True</td>\n",
       "      <td>[[0.0, 0.0, 0.0, 0.0, 0.0, 0.0, 0.0, 0.0, 0.0,...</td>\n",
       "      <td>True</td>\n",
       "    </tr>\n",
       "    <tr>\n",
       "      <th>1</th>\n",
       "      <td>1495290</td>\n",
       "      <td>1498635</td>\n",
       "      <td>71773920</td>\n",
       "      <td>71934480</td>\n",
       "      <td>[0.6958295255660808, 0.4536538901133741, 0.490...</td>\n",
       "      <td>1.068784</td>\n",
       "      <td>4.813669</td>\n",
       "      <td>True</td>\n",
       "      <td>/mnt/sphere/speech_bci/raw_data/s_b1533_22/202...</td>\n",
       "      <td>3345</td>\n",
       "      <td>[[1495290, 1495350], [1495390, 1495455], [1498...</td>\n",
       "      <td>3</td>\n",
       "      <td>[9, 16, 27, 611, 618, 632, 639, 653, 660, 667]</td>\n",
       "      <td>10</td>\n",
       "      <td>334.500000</td>\n",
       "      <td>[11, 10, 10, 11, 9, 7, 8, 8, 8, 9, 8, 11, 11, ...</td>\n",
       "      <td>True</td>\n",
       "      <td>True</td>\n",
       "      <td>[[0.0, 0.0, 0.0, 0.0, 0.0, 0.0, 0.0, 0.0, 0.0,...</td>\n",
       "      <td>True</td>\n",
       "    </tr>\n",
       "    <tr>\n",
       "      <th>2</th>\n",
       "      <td>1679030</td>\n",
       "      <td>1682040</td>\n",
       "      <td>80593440</td>\n",
       "      <td>80737920</td>\n",
       "      <td>[2.184305282052452, 5.3192872351557146, 4.0201...</td>\n",
       "      <td>1.068784</td>\n",
       "      <td>37.808213</td>\n",
       "      <td>True</td>\n",
       "      <td>/mnt/sphere/speech_bci/raw_data/s_b1533_22/202...</td>\n",
       "      <td>3010</td>\n",
       "      <td>[[1679030, 1679060], [1679080, 1679110], [1681...</td>\n",
       "      <td>5</td>\n",
       "      <td>[1, 11, 107, 203, 254, 570, 580, 596]</td>\n",
       "      <td>8</td>\n",
       "      <td>376.250000</td>\n",
       "      <td>[1, 0, -3, -1, -2, -2, -1, -3, 0, -1, -3, 1, -...</td>\n",
       "      <td>True</td>\n",
       "      <td>True</td>\n",
       "      <td>[[0.0, 0.0, 0.0, 0.0, 0.0, 0.0, 0.0, 0.0, 0.0,...</td>\n",
       "      <td>True</td>\n",
       "    </tr>\n",
       "    <tr>\n",
       "      <th>3</th>\n",
       "      <td>40965</td>\n",
       "      <td>43980</td>\n",
       "      <td>1966320</td>\n",
       "      <td>2111040</td>\n",
       "      <td>[0.8832490708784263, 0.32338447864557185, 7.84...</td>\n",
       "      <td>1.185774</td>\n",
       "      <td>36.996370</td>\n",
       "      <td>True</td>\n",
       "      <td>/mnt/sphere/speech_bci/raw_data/s_b1533_22/202...</td>\n",
       "      <td>3015</td>\n",
       "      <td>[[40965, 41030], [43615, 43655], [43940, 43980]]</td>\n",
       "      <td>3</td>\n",
       "      <td>[8, 31, 464, 475, 503, 512, 527, 535, 542, 596]</td>\n",
       "      <td>10</td>\n",
       "      <td>301.500000</td>\n",
       "      <td>[2, -1, 0, -1, -2, 0, -1, -2, 1, -1, -2, 0, -2...</td>\n",
       "      <td>True</td>\n",
       "      <td>True</td>\n",
       "      <td>[[0.0, 0.0, 0.0, 0.0, 0.0, 0.0, 0.0, 0.0, 0.0,...</td>\n",
       "      <td>True</td>\n",
       "    </tr>\n",
       "    <tr>\n",
       "      <th>4</th>\n",
       "      <td>340745</td>\n",
       "      <td>345045</td>\n",
       "      <td>16355760</td>\n",
       "      <td>16562160</td>\n",
       "      <td>[1.0828844786373115, 1.250268971789783, 0.3885...</td>\n",
       "      <td>1.185774</td>\n",
       "      <td>8.782263</td>\n",
       "      <td>True</td>\n",
       "      <td>/mnt/sphere/speech_bci/raw_data/s_b1533_22/202...</td>\n",
       "      <td>4300</td>\n",
       "      <td>[[340745, 340805], [340815, 340860], [340870, ...</td>\n",
       "      <td>6</td>\n",
       "      <td>[6, 16, 28, 36, 44, 55, 571, 578, 591, 599, 82...</td>\n",
       "      <td>14</td>\n",
       "      <td>307.142857</td>\n",
       "      <td>[-2, -1, -1, -1, -1, -3, 1, 0, -2, 0, 0, -1, -...</td>\n",
       "      <td>True</td>\n",
       "      <td>True</td>\n",
       "      <td>[[0.0, 0.0, 0.0, 0.0, 0.0, 0.0, 0.0, 0.0, 0.0,...</td>\n",
       "      <td>True</td>\n",
       "    </tr>\n",
       "  </tbody>\n",
       "</table>\n",
       "</div>"
      ],
      "text/plain": [
       "   start_ms   end_ms  start_sample  end_sample  \\\n",
       "0   1765945  1776290      84765360    85261920   \n",
       "1   1495290  1498635      71773920    71934480   \n",
       "2   1679030  1682040      80593440    80737920   \n",
       "3     40965    43980       1966320     2111040   \n",
       "4    340745   345045      16355760    16562160   \n",
       "\n",
       "                                              p_step     rms_p     peak_p  \\\n",
       "0  [12.079567602628211, 75.19555295014142, 25.650...  0.800442  89.686115   \n",
       "1  [0.6958295255660808, 0.4536538901133741, 0.490...  1.068784   4.813669   \n",
       "2  [2.184305282052452, 5.3192872351557146, 4.0201...  1.068784  37.808213   \n",
       "3  [0.8832490708784263, 0.32338447864557185, 7.84...  1.185774  36.996370   \n",
       "4  [1.0828844786373115, 1.250268971789783, 0.3885...  1.185774   8.782263   \n",
       "\n",
       "   bout_check                                               file  len_ms  \\\n",
       "0        True  /mnt/sphere/speech_bci/raw_data/s_b1533_22/202...   10345   \n",
       "1        True  /mnt/sphere/speech_bci/raw_data/s_b1533_22/202...    3345   \n",
       "2        True  /mnt/sphere/speech_bci/raw_data/s_b1533_22/202...    3010   \n",
       "3        True  /mnt/sphere/speech_bci/raw_data/s_b1533_22/202...    3015   \n",
       "4        True  /mnt/sphere/speech_bci/raw_data/s_b1533_22/202...    4300   \n",
       "\n",
       "                                              syl_in  n_syl  \\\n",
       "0  [[1765945, 1766010], [1766245, 1766275], [1766...     10   \n",
       "1  [[1495290, 1495350], [1495390, 1495455], [1498...      3   \n",
       "2  [[1679030, 1679060], [1679080, 1679110], [1681...      5   \n",
       "3   [[40965, 41030], [43615, 43655], [43940, 43980]]      3   \n",
       "4  [[340745, 340805], [340815, 340860], [340870, ...      6   \n",
       "\n",
       "                                             peaks_p  n_peaks   l_p_ratio  \\\n",
       "0  [1, 8, 20, 32, 45, 64, 73, 87, 99, 113, 127, 1...       56  184.732143   \n",
       "1     [9, 16, 27, 611, 618, 632, 639, 653, 660, 667]       10  334.500000   \n",
       "2              [1, 11, 107, 203, 254, 570, 580, 596]        8  376.250000   \n",
       "3    [8, 31, 464, 475, 503, 512, 527, 535, 542, 596]       10  301.500000   \n",
       "4  [6, 16, 28, 36, 44, 55, 571, 578, 591, 599, 82...       14  307.142857   \n",
       "\n",
       "                                            waveform  valid_waveform  valid  \\\n",
       "0  [3, 1, 4, 3, 2, 5, 4, 3, 6, 4, 6, 5, 3, 6, 4, ...            True   True   \n",
       "1  [11, 10, 10, 11, 9, 7, 8, 8, 8, 9, 8, 11, 11, ...            True   True   \n",
       "2  [1, 0, -3, -1, -2, -2, -1, -3, 0, -1, -3, 1, -...            True   True   \n",
       "3  [2, -1, 0, -1, -2, 0, -1, -2, 1, -1, -2, 0, -2...            True   True   \n",
       "4  [-2, -1, -1, -1, -1, -3, 1, 0, -2, 0, 0, -1, -...            True   True   \n",
       "\n",
       "                                         spectrogram  confusing  \n",
       "0  [[0.0, 0.0, 0.0, 0.0, 0.0, 0.0, 0.0, 0.0, 0.0,...       True  \n",
       "1  [[0.0, 0.0, 0.0, 0.0, 0.0, 0.0, 0.0, 0.0, 0.0,...       True  \n",
       "2  [[0.0, 0.0, 0.0, 0.0, 0.0, 0.0, 0.0, 0.0, 0.0,...       True  \n",
       "3  [[0.0, 0.0, 0.0, 0.0, 0.0, 0.0, 0.0, 0.0, 0.0,...       True  \n",
       "4  [[0.0, 0.0, 0.0, 0.0, 0.0, 0.0, 0.0, 0.0, 0.0,...       True  "
      ]
     },
     "execution_count": 6,
     "metadata": {},
     "output_type": "execute_result"
    }
   ],
   "source": [
    "bpd.head(5)"
   ]
  },
  {
   "cell_type": "code",
   "execution_count": 7,
   "id": "7f040a3a-c743-41d2-bd43-3e6bd19eba2a",
   "metadata": {},
   "outputs": [
    {
     "data": {
      "text/plain": [
       "start_ms                                                    1765945\n",
       "end_ms                                                      1776290\n",
       "start_sample                                               84765360\n",
       "end_sample                                                 85261920\n",
       "p_step            [12.079567602628211, 75.19555295014142, 25.650...\n",
       "rms_p                                                      0.800442\n",
       "peak_p                                                    89.686115\n",
       "bout_check                                                     True\n",
       "file              /mnt/sphere/speech_bci/raw_data/s_b1533_22/202...\n",
       "len_ms                                                        10345\n",
       "syl_in            [[1765945, 1766010], [1766245, 1766275], [1766...\n",
       "n_syl                                                            10\n",
       "peaks_p           [1, 8, 20, 32, 45, 64, 73, 87, 99, 113, 127, 1...\n",
       "n_peaks                                                          56\n",
       "l_p_ratio                                                184.732143\n",
       "waveform          [3, 1, 4, 3, 2, 5, 4, 3, 6, 4, 6, 5, 3, 6, 4, ...\n",
       "valid_waveform                                                 True\n",
       "valid                                                          True\n",
       "spectrogram       [[0.0, 0.0, 0.0, 0.0, 0.0, 0.0, 0.0, 0.0, 0.0,...\n",
       "confusing                                                      True\n",
       "Name: 0, dtype: object"
      ]
     },
     "execution_count": 7,
     "metadata": {},
     "output_type": "execute_result"
    }
   ],
   "source": [
    "bpd.loc[0]"
   ]
  },
  {
   "cell_type": "code",
   "execution_count": 8,
   "id": "dd93b073-d4c0-4b67-b5ea-50b7a76d610d",
   "metadata": {},
   "outputs": [
    {
     "data": {
      "text/plain": [
       "'/mnt/sphere/speech_bci/raw_data/s_b1533_22/2022-05-02/alsa/07-00-01-01.wav'"
      ]
     },
     "execution_count": 8,
     "metadata": {},
     "output_type": "execute_result"
    }
   ],
   "source": [
    "bpd.loc[0, 'file']"
   ]
  },
  {
   "cell_type": "code",
   "execution_count": 9,
   "id": "bd91428a-7ea4-4504-aab2-5bb4ce13ce3e",
   "metadata": {},
   "outputs": [
    {
     "data": {
      "text/plain": [
       "19"
      ]
     },
     "execution_count": 9,
     "metadata": {},
     "output_type": "execute_result"
    }
   ],
   "source": [
    "bpd.index.size"
   ]
  },
  {
   "cell_type": "markdown",
   "id": "received-deadline",
   "metadata": {},
   "source": [
    "###### if it wasnt saved (which is a bad mistake), read the sampling rate from the first file in the session"
   ]
  },
  {
   "cell_type": "markdown",
   "id": "adjustable-asian",
   "metadata": {},
   "source": [
    "## inspect the bouts and curate them"
   ]
  },
  {
   "cell_type": "markdown",
   "id": "enhanced-actress",
   "metadata": {},
   "source": [
    "#### visualize one bout"
   ]
  },
  {
   "cell_type": "code",
   "execution_count": 10,
   "id": "cardiac-casino",
   "metadata": {},
   "outputs": [],
   "source": [
    "import plotly.express as px\n",
    "import plotly.graph_objects as go\n",
    "\n",
    "from ipywidgets import widgets"
   ]
  },
  {
   "cell_type": "code",
   "execution_count": 11,
   "id": "preliminary-mattress",
   "metadata": {},
   "outputs": [],
   "source": [
    "def viz_one_bout(df: pd.Series, sub_sample=1):\n",
    "    # get the power and the spectrogram\n",
    "    sxx = df['spectrogram'][:, ::sub_sample]\n",
    "    x = df['waveform'][::sub_sample]\n",
    "    \n",
    "    # the trace\n",
    "    tr_waveform = go.Scatter(y=x)\n",
    "    figwidg_waveform = go.FigureWidget(data=[tr_waveform],\n",
    "                                      layout= {'height': 300,'width':1000})\n",
    "\n",
    "    # the spectrogram\n",
    "    fig_spectrogram = px.imshow(sxx, \n",
    "                                     labels={}, \n",
    "                                     color_continuous_scale='Inferno',\n",
    "                                    aspect='auto')\n",
    "\n",
    "    fig_spectrogram.update_layout(width=1000, height=300, coloraxis_showscale=False)\n",
    "    fig_spectrogram.update_xaxes(showticklabels=False)\n",
    "    fig_spectrogram.update_yaxes(showticklabels=False)\n",
    "    \n",
    "    \n",
    "    figwidg_spectrogram = go.FigureWidget(fig_spectrogram)\n",
    "    \n",
    "    display(widgets.VBox([figwidg_waveform,\n",
    "              figwidg_spectrogram]))\n",
    "    \n",
    "\n",
    "#viz_one_bout(bpd.iloc[1])"
   ]
  },
  {
   "cell_type": "markdown",
   "id": "steady-might",
   "metadata": {},
   "source": [
    "## use it in a widget\n"
   ]
  },
  {
   "cell_type": "code",
   "execution_count": 12,
   "id": "fcc62283-0d2f-4535-93fb-281999249ae3",
   "metadata": {},
   "outputs": [],
   "source": [
    "bpd.sort_values('len_ms', ascending=False, inplace=True)\n",
    "bpd.reset_index(drop=True, inplace=True)"
   ]
  },
  {
   "cell_type": "code",
   "execution_count": 13,
   "id": "wound-consolidation",
   "metadata": {},
   "outputs": [],
   "source": [
    "### Create a counter object (count goes 1:1 to DataFrame index)\n",
    "from traitlets import CInt, link\n",
    "\n",
    "class Counter(widgets.DOMWidget):\n",
    "    value = CInt(0)\n",
    "    value.tag(sync=True)"
   ]
  },
  {
   "cell_type": "code",
   "execution_count": 14,
   "id": "opened-momentum",
   "metadata": {
    "tags": []
   },
   "outputs": [
    {
     "data": {
      "application/vnd.jupyter.widget-view+json": {
       "model_id": "e0824ac4328a46f3bd5628e740fc5cea",
       "version_major": 2,
       "version_minor": 0
      },
      "text/plain": [
       "VBox(children=(HBox(children=(HBox(children=(VBox(children=(Button(button_style='warning', description='Prev',…"
      ]
     },
     "metadata": {},
     "output_type": "display_data"
    }
   ],
   "source": [
    "class VizBout():\n",
    "    def __init__(self, hparams, bouts_pd):\n",
    "        self.bout = None\n",
    "        self.bouts_pd = bouts_pd\n",
    "        self.bout_series = None\n",
    "        self.is_bout = None\n",
    "        self.is_confusing = None\n",
    "        \n",
    "        self.bout_counter = None\n",
    "        self.bout_id = None\n",
    "        \n",
    "        self.buttons = {}\n",
    "        self.m_pick = None\n",
    "        \n",
    "        self.audio = None\n",
    "        \n",
    "        \n",
    "        self.fig_waveform = None\n",
    "        self.fig_spectrogram = None\n",
    "        \n",
    "        self.figwidg_waveform = None\n",
    "        self.figwidg_spectrogram = None\n",
    "        \n",
    "        self.fig_width = 2\n",
    "        self.sub_sample = 10\n",
    "        \n",
    "        self.x = None\n",
    "        self.sxx = None\n",
    "        self.tr_waveform = None\n",
    "        \n",
    "        self.s_f = hparams['sample_rate']\n",
    "        \n",
    "        self.init_fig()\n",
    "        self.init_widget()\n",
    "        self.show()\n",
    "        \n",
    "    def init_fig(self):\n",
    "        # the trace\n",
    "        self.tr_waveform = go.Scatter(y=np.zeros(500))\n",
    "        self.figwidg_waveform = go.FigureWidget(data=[self.tr_waveform],\n",
    "                                               layout={'width': 1000, 'height':300})\n",
    "        \n",
    "        # the spectrogram\n",
    "        self.fig_spectrogram = px.imshow(np.random.rand(500, 500), \n",
    "                                         labels={}, \n",
    "                                         color_continuous_scale='Inferno',\n",
    "                                        aspect='auto')\n",
    "        \n",
    "        self.fig_spectrogram.update_layout(width=1000, height=300, coloraxis_showscale=False)\n",
    "        self.fig_spectrogram.update_xaxes(showticklabels=False)\n",
    "        self.fig_spectrogram.update_yaxes(showticklabels=False)\n",
    "        self.figwidg_spectrogram = go.FigureWidget(self.fig_spectrogram)\n",
    "        \n",
    "        \n",
    "    def init_widget(self):\n",
    "        # declare elements\n",
    "        # lay them out\n",
    "        #\n",
    "        \n",
    "        self.bout_counter = Counter()\n",
    "        self.is_bout = widgets.Checkbox(description='is bout')\n",
    "        self.is_confusing = widgets.Checkbox(description='Not sure or mixed')\n",
    "        \n",
    "        self.buttons['Next'] = widgets.Button(description=\"Next\", button_style='info',\n",
    "                                              icon='plus')   \n",
    "        self.buttons['Prev'] = widgets.Button(description=\"Prev\", button_style='warning',\n",
    "                                              icon='minus')\n",
    "        self.buttons['Check'] = widgets.Button(description=\"Check\", button_style='success', \n",
    "                                               icon='check')\n",
    "        self.buttons['Uncheck'] = widgets.Button(description=\"Uncheck\", button_style='danger',\n",
    "                                                 icon='wrong')\n",
    "        \n",
    "        [b.on_click(self.button_click) for b in self.buttons.values()]\n",
    "        \n",
    "        \n",
    "        left_box = widgets.VBox([self.buttons['Prev'], self.buttons['Uncheck']])\n",
    "        right_box = widgets.VBox([self.buttons['Next'], self.buttons['Check']])\n",
    "        button_box = widgets.HBox([left_box, right_box])\n",
    "\n",
    "        self.m_pick = widgets.IntSlider(value=0, min=0, max=self.bouts_pd.index.size-1,step=1, \n",
    "                                        description=\"Bout candidate index\")\n",
    "        \n",
    "        \n",
    "        #self.audio = Audio(data=np.zeros(100), rate=self.s_f)\n",
    "        \n",
    "        control_box = widgets.HBox([button_box,\n",
    "                                  widgets.VBox([self.is_bout, self.is_confusing]),\n",
    "                                  widgets.VBox([self.m_pick])]\n",
    "                                  )\n",
    "        \n",
    "        link((self.m_pick, 'value'), (self.bout_counter, 'value'))\n",
    "\n",
    "        self.update_bout()\n",
    "        \n",
    "        self.is_bout.observe(self.bout_checked, names='value')\n",
    "        self.is_confusing.observe(self.confusing_checked, names='value')\n",
    "        self.m_pick.observe(self.slider_change, names='value')\n",
    "        \n",
    "        all_containers = widgets.VBox([control_box, \n",
    "                                       self.figwidg_waveform, self.figwidg_spectrogram])\n",
    "        display(all_containers)\n",
    "#         display(button_box)\n",
    "#         display(self.m_pick)\n",
    "#         display(self.is_bout)\n",
    "#         display(self.fig)\n",
    "        \n",
    "    def button_click(self, button):        \n",
    "        self.bout_id = self.bout_counter.value\n",
    "        curr_bout = self.bout_counter\n",
    "        \n",
    "        if button.description == 'Next':\n",
    "            curr_bout.value += 1\n",
    "        elif button.description == 'Prev':\n",
    "            curr_bout.value -= 1\n",
    "        elif button.description == 'Check':\n",
    "            self.bouts_pd.loc[self.bout_id, 'bout_check'] = True\n",
    "            self.bouts_pd.loc[self.bout_id, 'confusing'] = False\n",
    "            curr_bout.value += 1\n",
    "        elif button.description == 'Uncheck':\n",
    "            self.bouts_pd.loc[self.bout_id, 'bout_check'] = False\n",
    "            self.bouts_pd.loc[self.bout_id, 'confusing'] = False\n",
    "            curr_bout.value += 1\n",
    "        \n",
    "        # handle the edges of the counter\n",
    "        if curr_bout.value > self.m_pick.max:\n",
    "            curr_bout.value = 0\n",
    "            \n",
    "        if curr_bout.value < self.m_pick.min:\n",
    "            curr_bout.value = self.m_pick.max\n",
    "    \n",
    "    def slider_change(self, change):\n",
    "        #logger.info('slider changed')\n",
    "        #self.bout_counter = change.new\n",
    "        #clear_output(True)\n",
    "        self.update_bout()\n",
    "        self.show()\n",
    "            \n",
    "    def bout_checked(self, bc):\n",
    "#         print \"bout checked\"\n",
    "#         print bc['new']\n",
    "#         print self.motiff\n",
    "        self.bouts_pd.loc[self.bout_id, 'bout_check'] = bc['new']\n",
    "    \n",
    "    def confusing_checked(self, bc):\n",
    "#         print \"bout checked\"\n",
    "#         print bc['new']\n",
    "#         print self.motiff\n",
    "        self.bouts_pd.loc[self.bout_id, 'confusing'] = bc['new']\n",
    "    \n",
    "    def update_bout(self):\n",
    "        self.bout_id = self.bout_counter.value\n",
    "        self.bout_series = self.bouts_pd.iloc[self.bout_id]\n",
    "        \n",
    "        self.is_bout.value = bool(self.bout_series['bout_check'])\n",
    "        self.is_confusing.value = bool(self.bout_series['confusing'])\n",
    "        \n",
    "        self.x = self.bout_series['waveform'][::self.sub_sample]\n",
    "        self.sxx = self.bout_series['spectrogram'][::self.sub_sample]\n",
    "        \n",
    "        #self.audio = Audio(data=self.x.flatten(), rate=self.s_f)\n",
    "        \n",
    "    def show(self):\n",
    "        #self.fig.clf()\n",
    "        #self.init_fig()\n",
    "        # update\n",
    "#         self.update_bout()\n",
    "        #plot\n",
    "        #logger.info('showing')\n",
    "        \n",
    "        # Show the figures\n",
    "        with self.figwidg_waveform.batch_update():\n",
    "            self.figwidg_waveform.data[0].y = self.x\n",
    "            self.figwidg_waveform.data[0].x = np.arange(self.x.size) * self.sub_sample / self.s_f \n",
    "            \n",
    "        with self.figwidg_spectrogram.batch_update():\n",
    "            self.figwidg_spectrogram.data[0].z = np.sqrt(self.sxx[::-1])\n",
    "            \n",
    "        \n",
    "\n",
    "viz_bout = VizBout(hparams, bpd)"
   ]
  },
  {
   "cell_type": "code",
   "execution_count": 15,
   "id": "d01d1a08-cd10-43ca-95d8-b99ec3cd03f0",
   "metadata": {},
   "outputs": [
    {
     "ename": "KeyboardInterrupt",
     "evalue": "",
     "output_type": "error",
     "traceback": [
      "\u001b[0;31m---------------------------------------------------------------------------\u001b[0m",
      "\u001b[0;31mKeyboardInterrupt\u001b[0m                         Traceback (most recent call last)",
      "Input \u001b[0;32mIn [15]\u001b[0m, in \u001b[0;36m<module>\u001b[0;34m\u001b[0m\n\u001b[0;32m----> 1\u001b[0m \u001b[38;5;28;01mraise\u001b[39;00m \u001b[38;5;167;01mKeyboardInterrupt\u001b[39;00m\n",
      "\u001b[0;31mKeyboardInterrupt\u001b[0m: "
     ]
    }
   ],
   "source": [
    "raise KeyboardInterrupt"
   ]
  },
  {
   "cell_type": "code",
   "execution_count": 16,
   "id": "special-guest",
   "metadata": {},
   "outputs": [
    {
     "data": {
      "text/plain": [
       "6"
      ]
     },
     "execution_count": 16,
     "metadata": {},
     "output_type": "execute_result"
    }
   ],
   "source": [
    "np.where((viz_bout.bouts_pd['bout_check']==True) & (viz_bout.bouts_pd['confusing']==False))[0].size"
   ]
  },
  {
   "cell_type": "markdown",
   "id": "qualified-devon",
   "metadata": {},
   "source": [
    "\n",
    "### save it"
   ]
  },
  {
   "cell_type": "code",
   "execution_count": 17,
   "id": "legendary-lesbian",
   "metadata": {},
   "outputs": [
    {
     "name": "stderr",
     "output_type": "stream",
     "text": [
      "2022-05-03 11:32:50,791 root         INFO     saved curated bout pandas to pickle /mnt/sphere/speech_bci/derived_data/s_b1533_22/2022-05-02/alsa/bouts_ceciestunepipe/bout_checked.pickle\n"
     ]
    }
   ],
   "source": [
    "### get the curated file path\n",
    "##save to the curated file path\n",
    "bouts_curated_file_path = os.path.join(bouts_folder, hparams['bout_curated_file'])\n",
    "\n",
    "os.makedirs(bouts_folder, exist_ok=True, mode=0o777)\n",
    "\n",
    "viz_bout.bouts_pd.to_pickle(bouts_curated_file_path)\n",
    "logger.info('saved curated bout pandas to pickle {}'.format(bouts_curated_file_path))"
   ]
  },
  {
   "cell_type": "code",
   "execution_count": 18,
   "id": "structural-orbit",
   "metadata": {},
   "outputs": [
    {
     "data": {
      "text/plain": [
       "'/mnt/sphere/speech_bci/raw_data/s_b1533_22/2022-05-02/alsa/16-00-01-02.wav'"
      ]
     },
     "execution_count": 18,
     "metadata": {},
     "output_type": "execute_result"
    }
   ],
   "source": [
    "viz_bout.bouts_pd['file'][0]"
   ]
  },
  {
   "cell_type": "code",
   "execution_count": 19,
   "id": "frank-kazakhstan",
   "metadata": {
    "tags": []
   },
   "outputs": [
    {
     "data": {
      "text/plain": [
       "array(['/mnt/sphere/speech_bci/raw_data/s_b1533_22/2022-05-02/alsa/16-00-01-02.wav',\n",
       "       '/mnt/sphere/speech_bci/raw_data/s_b1533_22/2022-05-02/alsa/07-00-01-01.wav',\n",
       "       '/mnt/sphere/speech_bci/raw_data/s_b1533_22/2022-05-02/alsa/16-00-01-02.wav',\n",
       "       '/mnt/sphere/speech_bci/raw_data/s_b1533_22/2022-05-02/alsa/08-00-01-02.wav',\n",
       "       '/mnt/sphere/speech_bci/raw_data/s_b1533_22/2022-05-02/alsa/19-00-01-02.wav',\n",
       "       '/mnt/sphere/speech_bci/raw_data/s_b1533_22/2022-05-02/alsa/08-00-01-01.wav'],\n",
       "      dtype=object)"
      ]
     },
     "execution_count": 19,
     "metadata": {},
     "output_type": "execute_result"
    }
   ],
   "source": [
    "viz_bout.bouts_pd[viz_bout.bouts_pd['bout_check']==True]['file'].values"
   ]
  },
  {
   "cell_type": "code",
   "execution_count": null,
   "id": "b3f4235d-4cb9-472e-8238-7608d95cba50",
   "metadata": {},
   "outputs": [],
   "source": []
  },
  {
   "cell_type": "markdown",
   "id": "66cffcce-2b62-46f8-bdb5-38796f18175a",
   "metadata": {},
   "source": [
    "### summary of the curated bouts"
   ]
  },
  {
   "cell_type": "code",
   "execution_count": 20,
   "id": "35d684ff-5a91-4425-9bac-8b3361baf90a",
   "metadata": {},
   "outputs": [
    {
     "name": "stderr",
     "output_type": "stream",
     "text": [
      "2022-05-03 11:32:51,326 root         INFO     Number of bouts: 2\n",
      "2022-05-03 11:32:51,328 root         INFO     Length of all bouts (minutes): 0.52425\n"
     ]
    },
    {
     "data": {
      "image/png": "[encoded data removed]",
      "text/plain": [
       "<Figure size 432x288 with 1 Axes>"
      ]
     },
     "metadata": {
      "needs_background": "light"
     },
     "output_type": "display_data"
    }
   ],
   "source": [
    "def sess_bout_summary(bout_pd: pd.DataFrame, ax_dict: dict=None, bouts_type='curated', min_len_ms=10000) -> pd.DataFrame:\n",
    "    ## make and plot a summary of the bird's bout.\n",
    "    # get lengths of the bouts\n",
    "    # get estimate timestamps of bouts\n",
    "    # plot histogram length of bouts\n",
    "    # histogram of time of bouts\n",
    "    bout_sel = (bout_pd['valid']==True) & (bout_pd['len_ms'] > min_len_ms);\n",
    "    if bouts_type=='curated':\n",
    "        bout_sel = bout_sel & (bout_pd['bout_check']==True) & (bout_pd['confusing']==False);\n",
    "    \n",
    "    # len/time? (when do they sing the longest?)\n",
    "    logger.info('Number of bouts: {}'.format(bout_pd.loc[bout_sel].index.size))\n",
    "    logger.info('Length of all bouts (minutes): {}'.format(bout_pd.loc[bout_sel, 'len_ms'].values.sum()/60000))\n",
    "    \n",
    "    if ax_dict is None:\n",
    "        bout_pd.loc[bout_sel].hist(column='len_ms')\n",
    "    return bout_pd\n",
    "\n",
    "bpd = sess_bout_summary(bpd)"
   ]
  },
  {
   "cell_type": "code",
   "execution_count": null,
   "id": "2ba5c658-2839-4c29-b2df-dab6c4713e23",
   "metadata": {},
   "outputs": [],
   "source": [
    "curated_filter = (viz_bout.bouts_pd['bout_check']==True) & (viz_bout.bouts_pd['confusing']==False)\n",
    "curated_df = viz_bout.bouts_pd\n",
    "curated_df.head()\n",
    "\n",
    "curated_df.loc[curated_filter, 'len_ms'].sum()*0.001"
   ]
  },
  {
   "cell_type": "markdown",
   "id": "dd2818af-3713-4c5f-965b-1d3bce61b5a6",
   "metadata": {},
   "source": [
    "### attempts at audio playing within the widget"
   ]
  },
  {
   "cell_type": "code",
   "execution_count": null,
   "id": "c8e5bee5-1b20-4a6b-bd74-d966ca1eb671",
   "metadata": {},
   "outputs": [],
   "source": [
    "a = widgets.Audio()\n",
    "a.value = bytes(viz_bout.x)"
   ]
  },
  {
   "cell_type": "code",
   "execution_count": null,
   "id": "c27518f8",
   "metadata": {},
   "outputs": [],
   "source": [
    "!ls"
   ]
  },
  {
   "cell_type": "code",
   "execution_count": null,
   "id": "2959f649",
   "metadata": {},
   "outputs": [],
   "source": []
  }
 ],
 "metadata": {
  "kernelspec": {
   "display_name": "ceciestunepipe",
   "language": "python",
   "name": "ceciestunepipe"
  },
  "language_info": {
   "codemirror_mode": {
    "name": "ipython",
    "version": 3
   },
   "file_extension": ".py",
   "mimetype": "text/x-python",
   "name": "python",
   "nbconvert_exporter": "python",
   "pygments_lexer": "ipython3",
   "version": "3.8.10"
  }
 },
 "nbformat": 4,
 "nbformat_minor": 5
}
