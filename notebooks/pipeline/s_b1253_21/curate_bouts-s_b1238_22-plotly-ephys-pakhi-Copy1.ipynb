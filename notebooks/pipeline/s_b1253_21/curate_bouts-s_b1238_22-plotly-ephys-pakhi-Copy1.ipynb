{
 "cells": [
  {
   "cell_type": "markdown",
   "id": "unavailable-waterproof",
   "metadata": {},
   "source": [
    "## Searching for bouts for a day of ephys recording\n",
    "- mircophone chan and sync data and bouts are extracted in sglx_preprocess-s_b1253_21-multisess-pouli-ephys"
   ]
  },
  {
   "cell_type": "code",
   "execution_count": 2,
   "id": "sized-marijuana",
   "metadata": {},
   "outputs": [
    {
     "name": "stderr",
     "output_type": "stream",
     "text": [
      "2022-05-14 21:01:08,735 root         INFO     Running on pakhi\n"
     ]
    }
   ],
   "source": [
    "import os\n",
    "import glob\n",
    "import socket\n",
    "import logging\n",
    "import pickle\n",
    "import numpy as np\n",
    "import pandas as pd\n",
    "from scipy.io import wavfile\n",
    "from scipy import signal\n",
    "\n",
    "### Fuck matplotlib, I'm using poltly now\n",
    "from plotly.subplots import make_subplots\n",
    "import plotly.graph_objects as go\n",
    "\n",
    "from importlib import reload\n",
    "\n",
    "logger = logging.getLogger()\n",
    "handler = logging.StreamHandler()\n",
    "formatter = logging.Formatter(\n",
    "        '%(asctime)s %(name)-12s %(levelname)-8s %(message)s')\n",
    "handler.setFormatter(formatter)\n",
    "logger.addHandler(handler)\n",
    "logger.setLevel(logging.INFO)\n",
    "\n",
    "logger.info('Running on {}'.format(socket.gethostname()))"
   ]
  },
  {
   "cell_type": "code",
   "execution_count": 3,
   "id": "stable-inspection",
   "metadata": {},
   "outputs": [],
   "source": [
    "from ceciestunepipe.file import bcistructure as et\n",
    "from ceciestunepipe.util.sound import boutsearch as bs\n",
    "from ceciestunepipe.pipeline import searchbout as sb"
   ]
  },
  {
   "cell_type": "markdown",
   "id": "inner-machinery",
   "metadata": {},
   "source": [
    "### Get the file locations for a session (day) of recordings"
   ]
  },
  {
   "cell_type": "code",
   "execution_count": 4,
   "id": "steady-burner",
   "metadata": {},
   "outputs": [],
   "source": [
    "reload(et)\n",
    "sess_par = {'bird': 's_b1238_22',\n",
    "           'sess': '2022-01-27',\n",
    "           'sort': 2}\n",
    "\n",
    "\n",
    "exp_struct = et.get_exp_struct(sess_par['bird'], sess_par['sess'], ephys_software='sglx')\n",
    "\n",
    "raw_folder = exp_struct['folders']['sglx']\n",
    "\n",
    "derived_folder = exp_struct['folders']['derived']\n",
    "\n",
    "bouts_folder = os.path.join(os.path.split(derived_folder)[0], 'bouts_sglx')\n",
    "\n",
    "sess_bouts_file = os.path.join(bouts_folder, 'bout_sess_auto.pickle')\n",
    "sess_bouts_curated_file = os.path.join(bouts_folder, 'bout_curated.pickle')\n",
    "\n",
    "#os.makedirs(bouts_folder, exist_ok=True)"
   ]
  },
  {
   "cell_type": "code",
   "execution_count": 5,
   "id": "bronze-certificate",
   "metadata": {},
   "outputs": [
    {
     "data": {
      "text/plain": [
       "{'bird': '/mnt/sphere/speech_bci/raw_data/s_b1238_22',\n",
       " 'raw': '/mnt/sphere/speech_bci/raw_data/s_b1238_22/2022-01-27',\n",
       " 'sglx': '/mnt/sphere/speech_bci/raw_data/s_b1238_22/2022-01-27/sglx',\n",
       " 'kwik': '/scratch/earneodo/s_b1238_22/sglx/kwik/2022-01-27',\n",
       " 'processed': '/mnt/sphere/speech_bci/processed_data/s_b1238_22/2022-01-27/sglx',\n",
       " 'derived': '/mnt/sphere/speech_bci/derived_data/s_b1238_22/2022-01-27/sglx',\n",
       " 'tmp': '/scratch/earneodo/tmp',\n",
       " 'msort': '/scratch/earneodo/s_b1238_22/sglx/msort/2022-01-27',\n",
       " 'ksort': '/scratch/earneodo/s_b1238_22/sglx/ksort/2022-01-27/',\n",
       " 'sort': '/mnt/sphere/speech_bci/derived_data/s_b1238_22/2022-01-27/sglx/'}"
      ]
     },
     "execution_count": 5,
     "metadata": {},
     "output_type": "execute_result"
    }
   ],
   "source": [
    "exp_struct['folders']"
   ]
  },
  {
   "cell_type": "markdown",
   "id": "american-composer",
   "metadata": {},
   "source": [
    "### load concatenated the files of the session"
   ]
  },
  {
   "cell_type": "code",
   "execution_count": 6,
   "id": "informal-liabilities",
   "metadata": {},
   "outputs": [],
   "source": [
    "hparams, bout_pd = sb.load_bouts(sess_par['bird'], sess_par['sess'], '', \n",
    "                                 derived_folder = 'bouts_sglx', bout_file_key='bout_auto_file')"
   ]
  },
  {
   "cell_type": "code",
   "execution_count": 7,
   "id": "b9cb08ed-d137-4b23-9503-98d10ed2599b",
   "metadata": {},
   "outputs": [
    {
     "data": {
      "text/plain": [
       "array(['/mnt/sphere/speech_bci/derived_data/s_b1238_22/2022-01-27/sglx/0605_g0/wav_mic.wav'],\n",
       "      dtype=object)"
      ]
     },
     "execution_count": 7,
     "metadata": {},
     "output_type": "execute_result"
    }
   ],
   "source": [
    "### list all the source files\n",
    "sess_wav_files = np.unique(bout_pd['file'].values)\n",
    "sess_wav_files"
   ]
  },
  {
   "cell_type": "markdown",
   "id": "47eb2841-69bf-4a05-ad36-2417844608b5",
   "metadata": {
    "tags": []
   },
   "source": [
    "####  drop the stim recordings, if any\n",
    "you want to drop the sessions where the stimulus was playing, to avoid counting the stimuli as produced song, since they were recorded in the microphone.\n",
    "\n",
    "TODO: mask the epochs where stimulus was playing, or tell apart what was stim and what whas coming from the bird.\n"
   ]
  },
  {
   "cell_type": "code",
   "execution_count": 8,
   "id": "84eb564d-0165-4007-a476-0aa5d3449e81",
   "metadata": {},
   "outputs": [
    {
     "ename": "IndexError",
     "evalue": "index 1 is out of bounds for axis 0 with size 1",
     "output_type": "error",
     "traceback": [
      "\u001b[0;31m---------------------------------------------------------------------------\u001b[0m",
      "\u001b[0;31mIndexError\u001b[0m                                Traceback (most recent call last)",
      "Input \u001b[0;32mIn [8]\u001b[0m, in \u001b[0;36m<cell line: 1>\u001b[0;34m()\u001b[0m\n\u001b[0;32m----> 1\u001b[0m stim_epochs \u001b[38;5;241m=\u001b[39m \u001b[43msess_wav_files\u001b[49m\u001b[43m[\u001b[49m\u001b[43m[\u001b[49m\u001b[38;5;241;43m1\u001b[39;49m\u001b[43m]\u001b[49m\u001b[43m]\u001b[49m\n\u001b[1;32m      3\u001b[0m logger\u001b[38;5;241m.\u001b[39minfo(\u001b[38;5;124m'\u001b[39m\u001b[38;5;124mleaving out detected bouts from files \u001b[39m\u001b[38;5;132;01m{}\u001b[39;00m\u001b[38;5;124m'\u001b[39m\u001b[38;5;241m.\u001b[39mformat(\u001b[38;5;28mlist\u001b[39m(stim_epochs)))\n\u001b[1;32m      4\u001b[0m bout_pd\u001b[38;5;241m.\u001b[39mdrop(bout_pd[bout_pd[\u001b[38;5;124m'\u001b[39m\u001b[38;5;124mfile\u001b[39m\u001b[38;5;124m'\u001b[39m]\u001b[38;5;241m.\u001b[39misin(stim_epochs)]\u001b[38;5;241m.\u001b[39mindex, inplace\u001b[38;5;241m=\u001b[39m\u001b[38;5;28;01mTrue\u001b[39;00m)\n",
      "\u001b[0;31mIndexError\u001b[0m: index 1 is out of bounds for axis 0 with size 1"
     ]
    }
   ],
   "source": [
    "stim_epochs = sess_wav_files[[1]]\n",
    "\n",
    "logger.info('leaving out detected bouts from files {}'.format(list(stim_epochs)))\n",
    "bout_pd.drop(bout_pd[bout_pd['file'].isin(stim_epochs)].index, inplace=True)\n"
   ]
  },
  {
   "cell_type": "code",
   "execution_count": 9,
   "id": "resident-thanks",
   "metadata": {},
   "outputs": [
    {
     "data": {
      "text/plain": [
       "array(['/mnt/sphere/speech_bci/derived_data/s_b1238_22/2022-01-27/sglx/0605_g0/wav_mic.wav'],\n",
       "      dtype=object)"
      ]
     },
     "execution_count": 9,
     "metadata": {},
     "output_type": "execute_result"
    }
   ],
   "source": [
    "np.unique(bout_pd['file'].values)"
   ]
  },
  {
   "cell_type": "code",
   "execution_count": 10,
   "id": "bb36170c-014d-4b7b-ad45-196480dce6b1",
   "metadata": {
    "tags": []
   },
   "outputs": [
    {
     "name": "stdout",
     "output_type": "stream",
     "text": [
      "<class 'pandas.core.frame.DataFrame'>\n",
      "RangeIndex: 96 entries, 0 to 95\n",
      "Data columns (total 17 columns):\n",
      " #   Column        Non-Null Count  Dtype  \n",
      "---  ------        --------------  -----  \n",
      " 0   start_ms      96 non-null     int64  \n",
      " 1   end_ms        96 non-null     int64  \n",
      " 2   start_sample  96 non-null     int64  \n",
      " 3   end_sample    96 non-null     int64  \n",
      " 4   p_step        96 non-null     object \n",
      " 5   rms_p         96 non-null     float64\n",
      " 6   peak_p        96 non-null     float64\n",
      " 7   bout_check    96 non-null     bool   \n",
      " 8   file          96 non-null     object \n",
      " 9   len_ms        96 non-null     int64  \n",
      " 10  syl_in        96 non-null     object \n",
      " 11  n_syl         96 non-null     int64  \n",
      " 12  peaks_p       96 non-null     object \n",
      " 13  n_peaks       96 non-null     int64  \n",
      " 14  l_p_ratio     96 non-null     float64\n",
      " 15  waveform      96 non-null     object \n",
      " 16  confusing     96 non-null     bool   \n",
      "dtypes: bool(2), float64(3), int64(7), object(5)\n",
      "memory usage: 11.6+ KB\n"
     ]
    }
   ],
   "source": [
    "bout_pd.info()"
   ]
  },
  {
   "cell_type": "code",
   "execution_count": 38,
   "id": "d851cb8a-97de-41fb-87fa-9cf6bdc000e7",
   "metadata": {},
   "outputs": [
    {
     "data": {
      "text/plain": [
       "1062"
      ]
     },
     "execution_count": 38,
     "metadata": {},
     "output_type": "execute_result"
    }
   ],
   "source": [
    "np.unique(bout_pd['start_ms']).size"
   ]
  },
  {
   "cell_type": "markdown",
   "id": "specified-cache",
   "metadata": {},
   "source": [
    "## inspect the bouts and curate them"
   ]
  },
  {
   "cell_type": "markdown",
   "id": "practical-finish",
   "metadata": {},
   "source": [
    "#### visualize one bout"
   ]
  },
  {
   "cell_type": "code",
   "execution_count": 39,
   "id": "greek-protein",
   "metadata": {},
   "outputs": [
    {
     "data": {
      "text/plain": [
       "start_ms                                                      15670\n",
       "end_ms                                                        23865\n",
       "start_sample                                                 626800\n",
       "end_sample                                                   954600\n",
       "p_step            [12.426594779175346, 15.346236536485952, 55.49...\n",
       "rms_p                                                     11.019281\n",
       "peak_p                                                   241.030983\n",
       "bout_check                                                    False\n",
       "file              /mnt/sphere/speech_bci/derived_data/s_b1238_22...\n",
       "len_ms                                                         8195\n",
       "syl_in            [[15670, 15700], [15820, 15910], [16340, 16395...\n",
       "n_syl                                                            11\n",
       "peaks_p           [2, 13, 27, 39, 75, 122, 136, 147, 161, 170, 1...\n",
       "n_peaks                                                          46\n",
       "l_p_ratio                                                178.152174\n",
       "waveform          [74, 147, 145, 99, 112, 88, 56, 98, 126, 142, ...\n",
       "confusing                                                      True\n",
       "valid_waveform                                                 True\n",
       "valid                                                          True\n",
       "spectrogram       [[0.0, 0.0, 0.0, 0.0, 0.0, 0.0, 0.0, 0.0, 0.0,...\n",
       "Name: 0, dtype: object"
      ]
     },
     "execution_count": 39,
     "metadata": {},
     "output_type": "execute_result"
    }
   ],
   "source": [
    "bout_pd.iloc[0]"
   ]
  },
  {
   "cell_type": "code",
   "execution_count": 40,
   "id": "favorite-abortion",
   "metadata": {},
   "outputs": [],
   "source": [
    "import plotly.express as px\n",
    "import plotly.graph_objects as go\n",
    "\n",
    "from ipywidgets import widgets"
   ]
  },
  {
   "cell_type": "code",
   "execution_count": 41,
   "id": "sound-wyoming",
   "metadata": {},
   "outputs": [
    {
     "data": {
      "application/vnd.jupyter.widget-view+json": {
       "model_id": "68bac010dcb14033aa76742c85b2dab7",
       "version_major": 2,
       "version_minor": 0
      },
      "text/plain": [
       "VBox(children=(FigureWidget({\n",
       "    'data': [{'type': 'scatter',\n",
       "              'uid': '1ed5a141-a456-4976-937c-8…"
      ]
     },
     "metadata": {},
     "output_type": "display_data"
    }
   ],
   "source": [
    "def viz_one_bout(df: pd.Series, sub_sample=1):\n",
    "    # get the power and the spectrogram\n",
    "    sxx = df['spectrogram'][:, ::sub_sample]\n",
    "    x = df['waveform'][::sub_sample]\n",
    "    \n",
    "    # the trace\n",
    "    tr_waveform = go.Scatter(y=x)\n",
    "    figwidg_waveform = go.FigureWidget(data=[tr_waveform],\n",
    "                                      layout= {'height': 300,'width':1000})\n",
    "\n",
    "    # the spectrogram\n",
    "    fig_spectrogram = px.imshow(sxx, \n",
    "                                     labels={}, \n",
    "                                     color_continuous_scale='Inferno',\n",
    "                                    aspect='auto')\n",
    "\n",
    "    fig_spectrogram.update_layout(width=1000, height=300, coloraxis_showscale=False)\n",
    "    fig_spectrogram.update_xaxes(showticklabels=False)\n",
    "    fig_spectrogram.update_yaxes(showticklabels=False)\n",
    "    \n",
    "    \n",
    "    figwidg_spectrogram = go.FigureWidget(fig_spectrogram)\n",
    "    \n",
    "    display(widgets.VBox([figwidg_waveform,\n",
    "              figwidg_spectrogram]))\n",
    "    \n",
    "\n",
    "viz_one_bout(bout_pd.iloc[24])"
   ]
  },
  {
   "cell_type": "code",
   "execution_count": 42,
   "id": "existing-therapist",
   "metadata": {},
   "outputs": [
    {
     "data": {
      "text/html": [
       "<div>\n",
       "<style scoped>\n",
       "    .dataframe tbody tr th:only-of-type {\n",
       "        vertical-align: middle;\n",
       "    }\n",
       "\n",
       "    .dataframe tbody tr th {\n",
       "        vertical-align: top;\n",
       "    }\n",
       "\n",
       "    .dataframe thead th {\n",
       "        text-align: right;\n",
       "    }\n",
       "</style>\n",
       "<table border=\"1\" class=\"dataframe\">\n",
       "  <thead>\n",
       "    <tr style=\"text-align: right;\">\n",
       "      <th></th>\n",
       "      <th>start_ms</th>\n",
       "      <th>end_ms</th>\n",
       "      <th>start_sample</th>\n",
       "      <th>end_sample</th>\n",
       "      <th>p_step</th>\n",
       "      <th>rms_p</th>\n",
       "      <th>peak_p</th>\n",
       "      <th>bout_check</th>\n",
       "      <th>file</th>\n",
       "      <th>len_ms</th>\n",
       "      <th>syl_in</th>\n",
       "      <th>n_syl</th>\n",
       "      <th>peaks_p</th>\n",
       "      <th>n_peaks</th>\n",
       "      <th>l_p_ratio</th>\n",
       "      <th>waveform</th>\n",
       "      <th>confusing</th>\n",
       "      <th>valid_waveform</th>\n",
       "      <th>valid</th>\n",
       "      <th>spectrogram</th>\n",
       "    </tr>\n",
       "  </thead>\n",
       "  <tbody>\n",
       "    <tr>\n",
       "      <th>0</th>\n",
       "      <td>15670</td>\n",
       "      <td>23865</td>\n",
       "      <td>626800</td>\n",
       "      <td>954600</td>\n",
       "      <td>[12.426594779175346, 15.346236536485952, 55.49...</td>\n",
       "      <td>11.019281</td>\n",
       "      <td>241.030983</td>\n",
       "      <td>False</td>\n",
       "      <td>/mnt/sphere/speech_bci/derived_data/s_b1238_22...</td>\n",
       "      <td>8195</td>\n",
       "      <td>[[15670, 15700], [15820, 15910], [16340, 16395...</td>\n",
       "      <td>11</td>\n",
       "      <td>[2, 13, 27, 39, 75, 122, 136, 147, 161, 170, 1...</td>\n",
       "      <td>46</td>\n",
       "      <td>178.152174</td>\n",
       "      <td>[74, 147, 145, 99, 112, 88, 56, 98, 126, 142, ...</td>\n",
       "      <td>True</td>\n",
       "      <td>True</td>\n",
       "      <td>True</td>\n",
       "      <td>[[0.0, 0.0, 0.0, 0.0, 0.0, 0.0, 0.0, 0.0, 0.0,...</td>\n",
       "    </tr>\n",
       "    <tr>\n",
       "      <th>1</th>\n",
       "      <td>32475</td>\n",
       "      <td>38055</td>\n",
       "      <td>1299000</td>\n",
       "      <td>1522200</td>\n",
       "      <td>[10.02672970768318, 15.310227594990456, 15.155...</td>\n",
       "      <td>11.019281</td>\n",
       "      <td>168.335634</td>\n",
       "      <td>False</td>\n",
       "      <td>/mnt/sphere/speech_bci/derived_data/s_b1238_22...</td>\n",
       "      <td>5580</td>\n",
       "      <td>[[32475, 32570], [32590, 32680], [34200, 34245...</td>\n",
       "      <td>9</td>\n",
       "      <td>[7, 14, 26, 33, 126, 316, 347, 363, 383, 513, ...</td>\n",
       "      <td>29</td>\n",
       "      <td>192.413793</td>\n",
       "      <td>[21, 22, 20, 1, 18, 20, 4, 0, -24, -14, -6, -2...</td>\n",
       "      <td>True</td>\n",
       "      <td>True</td>\n",
       "      <td>True</td>\n",
       "      <td>[[0.0, 0.0, 0.0, 0.0, 0.0, 0.0, 0.0, 0.0, 0.0,...</td>\n",
       "    </tr>\n",
       "  </tbody>\n",
       "</table>\n",
       "</div>"
      ],
      "text/plain": [
       "   start_ms  end_ms  start_sample  end_sample  \\\n",
       "0     15670   23865        626800      954600   \n",
       "1     32475   38055       1299000     1522200   \n",
       "\n",
       "                                              p_step      rms_p      peak_p  \\\n",
       "0  [12.426594779175346, 15.346236536485952, 55.49...  11.019281  241.030983   \n",
       "1  [10.02672970768318, 15.310227594990456, 15.155...  11.019281  168.335634   \n",
       "\n",
       "   bout_check                                               file  len_ms  \\\n",
       "0       False  /mnt/sphere/speech_bci/derived_data/s_b1238_22...    8195   \n",
       "1       False  /mnt/sphere/speech_bci/derived_data/s_b1238_22...    5580   \n",
       "\n",
       "                                              syl_in  n_syl  \\\n",
       "0  [[15670, 15700], [15820, 15910], [16340, 16395...     11   \n",
       "1  [[32475, 32570], [32590, 32680], [34200, 34245...      9   \n",
       "\n",
       "                                             peaks_p  n_peaks   l_p_ratio  \\\n",
       "0  [2, 13, 27, 39, 75, 122, 136, 147, 161, 170, 1...       46  178.152174   \n",
       "1  [7, 14, 26, 33, 126, 316, 347, 363, 383, 513, ...       29  192.413793   \n",
       "\n",
       "                                            waveform  confusing  \\\n",
       "0  [74, 147, 145, 99, 112, 88, 56, 98, 126, 142, ...       True   \n",
       "1  [21, 22, 20, 1, 18, 20, 4, 0, -24, -14, -6, -2...       True   \n",
       "\n",
       "   valid_waveform  valid                                        spectrogram  \n",
       "0            True   True  [[0.0, 0.0, 0.0, 0.0, 0.0, 0.0, 0.0, 0.0, 0.0,...  \n",
       "1            True   True  [[0.0, 0.0, 0.0, 0.0, 0.0, 0.0, 0.0, 0.0, 0.0,...  "
      ]
     },
     "execution_count": 42,
     "metadata": {},
     "output_type": "execute_result"
    }
   ],
   "source": [
    "bout_pd.head(2)"
   ]
  },
  {
   "cell_type": "markdown",
   "id": "coastal-cooperation",
   "metadata": {},
   "source": [
    "## use it in a widget\n"
   ]
  },
  {
   "cell_type": "code",
   "execution_count": 43,
   "id": "charged-rouge",
   "metadata": {},
   "outputs": [],
   "source": [
    "## sort them by duration, which is going to make the curation a bit easier\n",
    "bout_pd.sort_values('len_ms', ascending=False, inplace=True)\n",
    "bout_pd.reset_index(drop=True, inplace=True)"
   ]
  },
  {
   "cell_type": "code",
   "execution_count": 44,
   "id": "functional-dressing",
   "metadata": {},
   "outputs": [],
   "source": [
    "### Create a counter object (count goes 1:1 to DataFrame index)\n",
    "from traitlets import CInt, link\n",
    "\n",
    "class Counter(widgets.DOMWidget):\n",
    "    value = CInt(0)\n",
    "    value.tag(sync=True)"
   ]
  },
  {
   "cell_type": "code",
   "execution_count": 45,
   "id": "growing-queue",
   "metadata": {},
   "outputs": [
    {
     "data": {
      "application/vnd.jupyter.widget-view+json": {
       "model_id": "b8136526ff47462ca188efabdba1fc79",
       "version_major": 2,
       "version_minor": 0
      },
      "text/plain": [
       "VBox(children=(HBox(children=(HBox(children=(VBox(children=(Button(button_style='warning', description='Prev',…"
      ]
     },
     "metadata": {},
     "output_type": "display_data"
    }
   ],
   "source": [
    "class VizBout():\n",
    "    def __init__(self, hparams, bouts_pd):\n",
    "        self.bout = None\n",
    "        self.bouts_pd = bouts_pd\n",
    "        self.bout_series = None\n",
    "        self.is_bout = None\n",
    "        self.is_confusing = None\n",
    "        \n",
    "        self.bout_counter = None\n",
    "        self.bout_id = None\n",
    "        \n",
    "        self.buttons = {}\n",
    "        self.m_pick = None\n",
    "        \n",
    "        \n",
    "        self.fig_waveform = None\n",
    "        self.fig_spectrogram = None\n",
    "        \n",
    "        self.figwidg_waveform = None\n",
    "        self.figwidg_spectrogram = None\n",
    "        \n",
    "        self.fig_width = 2\n",
    "        self.sub_sample = 10\n",
    "        \n",
    "        self.x = None\n",
    "        self.sxx = None\n",
    "        self.tr_waveform = None\n",
    "        \n",
    "        self.s_f = hparams['sample_rate']\n",
    "        \n",
    "        self.init_fig()\n",
    "        self.init_widget()\n",
    "        self.show()\n",
    "        \n",
    "    def init_fig(self):\n",
    "        # the trace\n",
    "        self.tr_waveform = go.Scatter(y=np.zeros(500))\n",
    "        self.figwidg_waveform = go.FigureWidget(data=[self.tr_waveform],\n",
    "                                               layout={'width': 1000, 'height':300})\n",
    "        \n",
    "        # the spectrogram\n",
    "        self.fig_spectrogram = px.imshow(np.random.rand(500, 500), \n",
    "                                         labels={}, \n",
    "                                         color_continuous_scale='Inferno',\n",
    "                                        aspect='auto')\n",
    "        \n",
    "        self.fig_spectrogram.update_layout(width=1000, height=300, coloraxis_showscale=False)\n",
    "        self.fig_spectrogram.update_xaxes(showticklabels=False)\n",
    "        self.fig_spectrogram.update_yaxes(showticklabels=False)\n",
    "        self.figwidg_spectrogram = go.FigureWidget(self.fig_spectrogram)\n",
    "        \n",
    "        \n",
    "    def init_widget(self):\n",
    "        # declare elements\n",
    "        # lay them out\n",
    "        #\n",
    "        \n",
    "        self.bout_counter = Counter()\n",
    "        self.is_bout = widgets.Checkbox(description='is bout')\n",
    "        self.is_confusing = widgets.Checkbox(description='Not sure or mixed')\n",
    "        \n",
    "        self.buttons['Next'] = widgets.Button(description=\"Next\", button_style='info',\n",
    "                                              icon='plus')   \n",
    "        self.buttons['Prev'] = widgets.Button(description=\"Prev\", button_style='warning',\n",
    "                                              icon='minus')\n",
    "        self.buttons['Check'] = widgets.Button(description=\"Check\", button_style='success', \n",
    "                                               icon='check')\n",
    "        self.buttons['Uncheck'] = widgets.Button(description=\"Uncheck\", button_style='danger',\n",
    "                                                 icon='wrong')\n",
    "        \n",
    "        [b.on_click(self.button_click) for b in self.buttons.values()]\n",
    "        \n",
    "        left_box = widgets.VBox([self.buttons['Prev'], self.buttons['Uncheck']])\n",
    "        right_box = widgets.VBox([self.buttons['Next'], self.buttons['Check']])\n",
    "        button_box = widgets.HBox([left_box, right_box])\n",
    "\n",
    "        self.m_pick = widgets.IntSlider(value=0, min=0, max=self.bouts_pd.index.size-1,step=1, \n",
    "                                        description=\"Bout candidate index\")\n",
    "        \n",
    "        \n",
    "        control_box = widgets.HBox([button_box,\n",
    "                                  widgets.VBox([self.is_bout, self.is_confusing]),\n",
    "                                    self.m_pick])\n",
    "        \n",
    "        link((self.m_pick, 'value'), (self.bout_counter, 'value'))\n",
    "\n",
    "        self.update_bout()\n",
    "        \n",
    "        self.is_bout.observe(self.bout_checked, names='value')\n",
    "        self.is_confusing.observe(self.confusing_checked, names='value')\n",
    "        self.m_pick.observe(self.slider_change, names='value')\n",
    "        \n",
    "        all_containers = widgets.VBox([control_box, \n",
    "                                       self.figwidg_waveform, self.figwidg_spectrogram])\n",
    "        display(all_containers)\n",
    "#         display(button_box)\n",
    "#         display(self.m_pick)\n",
    "#         display(self.is_bout)\n",
    "#         display(self.fig)\n",
    "        \n",
    "    def button_click(self, button):        \n",
    "        self.bout_id = self.bout_counter.value\n",
    "        curr_bout = self.bout_counter\n",
    "        \n",
    "        if button.description == 'Next':\n",
    "            curr_bout.value += 1\n",
    "        elif button.description == 'Prev':\n",
    "            curr_bout.value -= 1\n",
    "        elif button.description == 'Check':\n",
    "            self.bouts_pd.loc[self.bout_id, 'bout_check'] = True\n",
    "            self.bouts_pd.loc[self.bout_id, 'confusing'] = False\n",
    "            curr_bout.value += 1\n",
    "        elif button.description == 'Uncheck':\n",
    "            self.bouts_pd.loc[self.bout_id, 'bout_check'] = False\n",
    "            self.bouts_pd.loc[self.bout_id, 'confusing'] = False\n",
    "            curr_bout.value += 1\n",
    "        \n",
    "        # handle the edges of the counter\n",
    "        if curr_bout.value > self.m_pick.max:\n",
    "            curr_bout.value = 0\n",
    "            \n",
    "        if curr_bout.value < self.m_pick.min:\n",
    "            curr_bout.value = self.m_pick.max\n",
    "    \n",
    "    def slider_change(self, change):\n",
    "        #logger.info('slider changed')\n",
    "        #self.bout_counter = change.new\n",
    "        #clear_output(True)\n",
    "        self.update_bout()\n",
    "        self.show()\n",
    "            \n",
    "    def bout_checked(self, bc):\n",
    "#         print \"bout checked\"\n",
    "#         print bc['new']\n",
    "#         print self.motiff\n",
    "        self.bouts_pd.loc[self.bout_id, 'bout_check'] = bc['new']\n",
    "    \n",
    "    def confusing_checked(self, bc):\n",
    "#         print \"bout checked\"\n",
    "#         print bc['new']\n",
    "#         print self.motiff\n",
    "        self.bouts_pd.loc[self.bout_id, 'confusing'] = bc['new']\n",
    "    \n",
    "    def update_bout(self):\n",
    "        self.bout_id = self.bout_counter.value\n",
    "        self.bout_series = self.bouts_pd.iloc[self.bout_id]\n",
    "        \n",
    "        self.is_bout.value = bool(self.bout_series['bout_check'])\n",
    "        self.is_confusing.value = bool(self.bout_series['confusing'])\n",
    "        \n",
    "        self.x = self.bout_series['waveform'][::self.sub_sample]\n",
    "        self.sxx = self.bout_series['spectrogram'][::self.sub_sample]\n",
    "        \n",
    "    def show(self):\n",
    "        #self.fig.clf()\n",
    "        #self.init_fig()\n",
    "        # update\n",
    "#         self.update_bout()\n",
    "        #plot\n",
    "        #logger.info('showing')\n",
    "        \n",
    "        # Show the figures\n",
    "        with self.figwidg_waveform.batch_update():\n",
    "            self.figwidg_waveform.data[0].y = self.x\n",
    "            self.figwidg_waveform.data[0].x = np.arange(self.x.size) * self.sub_sample / self.s_f \n",
    "            \n",
    "        with self.figwidg_spectrogram.batch_update():\n",
    "            self.figwidg_spectrogram.data[0].z = np.sqrt(self.sxx[::-1])\n",
    "            \n",
    "        \n",
    "\n",
    "viz_bout = VizBout(hparams, bout_pd)"
   ]
  },
  {
   "cell_type": "markdown",
   "id": "parallel-guatemala",
   "metadata": {},
   "source": [
    "### save it"
   ]
  },
  {
   "cell_type": "code",
   "execution_count": 25,
   "id": "political-tower",
   "metadata": {
    "tags": []
   },
   "outputs": [
    {
     "data": {
      "text/plain": [
       "{'num_freq': 1024,\n",
       " 'preemphasis': 0.97,\n",
       " 'frame_shift_ms': 5,\n",
       " 'frame_length_ms': 10,\n",
       " 'min_level_db': -55,\n",
       " 'ref_level_db': 110,\n",
       " 'sample_rate': 40000,\n",
       " 'mel_filter': False,\n",
       " 'num_mels': 1024,\n",
       " 'fmin': 500,\n",
       " 'fmax': 12000,\n",
       " 'max_iters': 200,\n",
       " 'griffin_lim_iters': 20,\n",
       " 'power': 1.5,\n",
       " 'read_wav_fun': <function ceciestunepipe.util.sound.boutsearch.read_wav_chan(wav_path: str, chan_id: int = 0) -> tuple>,\n",
       " 'file_order_fun': <function ceciestunepipe.util.sound.boutsearch.sess_file_id(f_path)>,\n",
       " 'min_segment': 30,\n",
       " 'min_silence': 3000,\n",
       " 'min_bout': 3000,\n",
       " 'peak_thresh_rms': 0.55,\n",
       " 'thresh_rms': 0.25,\n",
       " 'mean_syl_rms_thresh': 0.3,\n",
       " 'max_bout': 180000,\n",
       " 'l_p_r_thresh': 100,\n",
       " 'waveform_edges': 1000,\n",
       " 'bout_auto_file': 'bout_auto.pickle',\n",
       " 'bout_curated_file': 'bout_checked.pickle'}"
      ]
     },
     "execution_count": 25,
     "metadata": {},
     "output_type": "execute_result"
    }
   ],
   "source": [
    "hparams"
   ]
  },
  {
   "cell_type": "code",
   "execution_count": 26,
   "id": "numeric-kazakhstan",
   "metadata": {},
   "outputs": [
    {
     "name": "stderr",
     "output_type": "stream",
     "text": [
      "2022-04-12 16:52:32,657 ceciestunepipe.pipeline.searchbout INFO     saving bouts pandas to /mnt/sphere/speech_bci/derived_data/s_b1238_22/2022-02-12/bouts_sglx/bout_checked.pickle\n",
      "2022-04-12 16:52:48,670 ceciestunepipe.pipeline.searchbout INFO     saving bout detect parameters dict to /mnt/sphere/speech_bci/derived_data/s_b1238_22/2022-02-12/bouts_sglx/bout_search_params.pickle\n",
      "2022-04-12 16:52:48,671 ceciestunepipe.util.sound.boutsearch INFO     saving bout detect parameters dict to /mnt/sphere/speech_bci/derived_data/s_b1238_22/2022-02-12/bouts_sglx/bout_search_params.pickle\n"
     ]
    }
   ],
   "source": [
    "##save to the curated file path\n",
    "viz_bout.bouts_pd.to_pickle(sess_bouts_curated_file)\n",
    "sb.save_auto_bouts(viz_bout.bouts_pd, sess_par, hparams, software='sglx', \n",
    "                   bout_file_key='bout_curated_file')"
   ]
  },
  {
   "cell_type": "markdown",
   "id": "f894c378-df68-43cf-8812-c660de190a19",
   "metadata": {},
   "source": [
    "### summary of where the good bouts are along the session"
   ]
  },
  {
   "cell_type": "code",
   "execution_count": 46,
   "id": "a82d42ab-1fc3-44d9-98af-5224925e2cd3",
   "metadata": {},
   "outputs": [
    {
     "data": {
      "text/plain": [
       "{'/mnt/sphere/speech_bci/derived_data/s_b1238_22/2022-02-12/sglx/0716_g0/wav_mic.wav': 0,\n",
       " '/mnt/sphere/speech_bci/derived_data/s_b1238_22/2022-02-12/sglx/1607_g0/wav_mic.wav': 0}"
      ]
     },
     "execution_count": 46,
     "metadata": {},
     "output_type": "execute_result"
    }
   ],
   "source": [
    "def give_summary(bpd: pd.DataFrame):\n",
    "    all_files = np.unique(bpd['file'])\n",
    "    summary_dict = {f: np.where((bpd['bout_check']==True) & (bpd['file']==f))[0].size for f in all_files}\n",
    "    return summary_dict\n",
    "\n",
    "sum_dict = give_summary(viz_bout.bouts_pd)\n",
    "sum_dict"
   ]
  },
  {
   "cell_type": "markdown",
   "id": "6ac7b3b9-2752-446b-9d6f-eedbe1b60348",
   "metadata": {},
   "source": [
    "## Some helper functions for somewhere down the line"
   ]
  },
  {
   "cell_type": "code",
   "execution_count": 54,
   "id": "aac48fa9-0cda-4a91-a867-f59ed331915f",
   "metadata": {},
   "outputs": [],
   "source": [
    "sess_par_e = dict.copy(sess_par)\n",
    "sess_par_e['epoch'] = '0610_g0' "
   ]
  },
  {
   "cell_type": "code",
   "execution_count": 61,
   "id": "53c398ef-97a9-46ae-b983-6ee7b1be4812",
   "metadata": {
    "collapsed": true,
    "jupyter": {
     "outputs_hidden": true,
     "source_hidden": true
    },
    "tags": []
   },
   "outputs": [
    {
     "data": {
      "text/html": [
       "<div>\n",
       "<style scoped>\n",
       "    .dataframe tbody tr th:only-of-type {\n",
       "        vertical-align: middle;\n",
       "    }\n",
       "\n",
       "    .dataframe tbody tr th {\n",
       "        vertical-align: top;\n",
       "    }\n",
       "\n",
       "    .dataframe thead th {\n",
       "        text-align: right;\n",
       "    }\n",
       "</style>\n",
       "<table border=\"1\" class=\"dataframe\">\n",
       "  <thead>\n",
       "    <tr style=\"text-align: right;\">\n",
       "      <th></th>\n",
       "      <th>start_ms</th>\n",
       "      <th>end_ms</th>\n",
       "      <th>start_sample</th>\n",
       "      <th>end_sample</th>\n",
       "      <th>p_step</th>\n",
       "      <th>rms_p</th>\n",
       "      <th>peak_p</th>\n",
       "      <th>bout_check</th>\n",
       "      <th>file</th>\n",
       "      <th>len_ms</th>\n",
       "      <th>...</th>\n",
       "      <th>n_syl</th>\n",
       "      <th>peaks_p</th>\n",
       "      <th>n_peaks</th>\n",
       "      <th>l_p_ratio</th>\n",
       "      <th>waveform</th>\n",
       "      <th>confusing</th>\n",
       "      <th>valid_waveform</th>\n",
       "      <th>valid</th>\n",
       "      <th>epoch</th>\n",
       "      <th>spectrogram</th>\n",
       "    </tr>\n",
       "  </thead>\n",
       "  <tbody>\n",
       "    <tr>\n",
       "      <th>0</th>\n",
       "      <td>2764745</td>\n",
       "      <td>2770765</td>\n",
       "      <td>69118625</td>\n",
       "      <td>69269125</td>\n",
       "      <td>[137.18250603801323, 166.1364744613515, 46.022...</td>\n",
       "      <td>12.20809</td>\n",
       "      <td>338.931800</td>\n",
       "      <td>False</td>\n",
       "      <td>/mnt/sphere/speech_bci/derived_data/s_b1253_21...</td>\n",
       "      <td>6020</td>\n",
       "      <td>...</td>\n",
       "      <td>14</td>\n",
       "      <td>[1, 25, 35, 48, 57, 75, 275, 285, 349, 358, 37...</td>\n",
       "      <td>49</td>\n",
       "      <td>122.857143</td>\n",
       "      <td>[-74, -123, -103, -104, -91, -103, -85, -79, -...</td>\n",
       "      <td>True</td>\n",
       "      <td>True</td>\n",
       "      <td>True</td>\n",
       "      <td>0610_g0</td>\n",
       "      <td>[[0.0, 0.0, 0.0, 0.0, 0.0, 0.0, 0.0, 0.0, 0.0,...</td>\n",
       "    </tr>\n",
       "    <tr>\n",
       "      <th>1</th>\n",
       "      <td>2821180</td>\n",
       "      <td>2830650</td>\n",
       "      <td>70529500</td>\n",
       "      <td>70766250</td>\n",
       "      <td>[73.89770606840956, 76.71229477152468, 50.9882...</td>\n",
       "      <td>12.20809</td>\n",
       "      <td>323.989772</td>\n",
       "      <td>False</td>\n",
       "      <td>/mnt/sphere/speech_bci/derived_data/s_b1253_21...</td>\n",
       "      <td>9470</td>\n",
       "      <td>...</td>\n",
       "      <td>10</td>\n",
       "      <td>[1, 49, 87, 123, 131, 141, 168, 197, 210, 218,...</td>\n",
       "      <td>47</td>\n",
       "      <td>201.489362</td>\n",
       "      <td>[33, 36, 31, 17, 38, 26, 35, 24, 21, 34, 27, 2...</td>\n",
       "      <td>True</td>\n",
       "      <td>True</td>\n",
       "      <td>True</td>\n",
       "      <td>0610_g0</td>\n",
       "      <td>[[0.0, 0.0, 0.0, 0.0, 0.0, 0.0, 0.0, 0.0, 0.0,...</td>\n",
       "    </tr>\n",
       "    <tr>\n",
       "      <th>2</th>\n",
       "      <td>2890955</td>\n",
       "      <td>2897000</td>\n",
       "      <td>72273875</td>\n",
       "      <td>72425000</td>\n",
       "      <td>[5.723650048239091, 20.093294098403362, 40.008...</td>\n",
       "      <td>12.20809</td>\n",
       "      <td>385.427078</td>\n",
       "      <td>False</td>\n",
       "      <td>/mnt/sphere/speech_bci/derived_data/s_b1253_21...</td>\n",
       "      <td>6045</td>\n",
       "      <td>...</td>\n",
       "      <td>18</td>\n",
       "      <td>[12, 19, 26, 37, 49, 155, 169, 181, 196, 208, ...</td>\n",
       "      <td>58</td>\n",
       "      <td>104.224138</td>\n",
       "      <td>[37, 34, 48, 23, 45, 44, 48, 56, 47, 64, 55, 5...</td>\n",
       "      <td>True</td>\n",
       "      <td>True</td>\n",
       "      <td>True</td>\n",
       "      <td>0610_g0</td>\n",
       "      <td>[[0.0, 0.0, 0.0, 0.0, 0.0, 0.0, 0.0, 0.0, 0.0,...</td>\n",
       "    </tr>\n",
       "    <tr>\n",
       "      <th>3</th>\n",
       "      <td>3022775</td>\n",
       "      <td>3030175</td>\n",
       "      <td>75569375</td>\n",
       "      <td>75754375</td>\n",
       "      <td>[10.760223359304039, 14.367538094139961, 38.22...</td>\n",
       "      <td>12.20809</td>\n",
       "      <td>250.017320</td>\n",
       "      <td>False</td>\n",
       "      <td>/mnt/sphere/speech_bci/derived_data/s_b1253_21...</td>\n",
       "      <td>7400</td>\n",
       "      <td>...</td>\n",
       "      <td>25</td>\n",
       "      <td>[2, 28, 37, 86, 100, 111, 137, 144, 157, 173, ...</td>\n",
       "      <td>64</td>\n",
       "      <td>115.625000</td>\n",
       "      <td>[-105, -115, -130, -129, -143, -135, -149, -14...</td>\n",
       "      <td>True</td>\n",
       "      <td>True</td>\n",
       "      <td>True</td>\n",
       "      <td>0610_g0</td>\n",
       "      <td>[[0.0, 0.0, 0.0, 0.0, 0.0, 0.0, 0.0, 0.0, 0.0,...</td>\n",
       "    </tr>\n",
       "    <tr>\n",
       "      <th>4</th>\n",
       "      <td>3052560</td>\n",
       "      <td>3060680</td>\n",
       "      <td>76314000</td>\n",
       "      <td>76517000</td>\n",
       "      <td>[84.90921288692883, 71.8622817106007, 22.56276...</td>\n",
       "      <td>12.20809</td>\n",
       "      <td>349.395052</td>\n",
       "      <td>False</td>\n",
       "      <td>/mnt/sphere/speech_bci/derived_data/s_b1253_21...</td>\n",
       "      <td>8120</td>\n",
       "      <td>...</td>\n",
       "      <td>23</td>\n",
       "      <td>[4, 14, 73, 89, 100, 116, 136, 148, 160, 171, ...</td>\n",
       "      <td>74</td>\n",
       "      <td>109.729730</td>\n",
       "      <td>[-27, -40, -36, -37, -40, -32, -32, -28, -30, ...</td>\n",
       "      <td>True</td>\n",
       "      <td>True</td>\n",
       "      <td>True</td>\n",
       "      <td>0610_g0</td>\n",
       "      <td>[[0.0, 0.0, 0.0, 0.0, 0.0, 0.0, 0.0, 0.0, 0.0,...</td>\n",
       "    </tr>\n",
       "  </tbody>\n",
       "</table>\n",
       "<p>5 rows × 21 columns</p>\n",
       "</div>"
      ],
      "text/plain": [
       "   start_ms   end_ms  start_sample  end_sample  \\\n",
       "0   2764745  2770765      69118625    69269125   \n",
       "1   2821180  2830650      70529500    70766250   \n",
       "2   2890955  2897000      72273875    72425000   \n",
       "3   3022775  3030175      75569375    75754375   \n",
       "4   3052560  3060680      76314000    76517000   \n",
       "\n",
       "                                              p_step     rms_p      peak_p  \\\n",
       "0  [137.18250603801323, 166.1364744613515, 46.022...  12.20809  338.931800   \n",
       "1  [73.89770606840956, 76.71229477152468, 50.9882...  12.20809  323.989772   \n",
       "2  [5.723650048239091, 20.093294098403362, 40.008...  12.20809  385.427078   \n",
       "3  [10.760223359304039, 14.367538094139961, 38.22...  12.20809  250.017320   \n",
       "4  [84.90921288692883, 71.8622817106007, 22.56276...  12.20809  349.395052   \n",
       "\n",
       "   bout_check                                               file  len_ms  ...  \\\n",
       "0       False  /mnt/sphere/speech_bci/derived_data/s_b1253_21...    6020  ...   \n",
       "1       False  /mnt/sphere/speech_bci/derived_data/s_b1253_21...    9470  ...   \n",
       "2       False  /mnt/sphere/speech_bci/derived_data/s_b1253_21...    6045  ...   \n",
       "3       False  /mnt/sphere/speech_bci/derived_data/s_b1253_21...    7400  ...   \n",
       "4       False  /mnt/sphere/speech_bci/derived_data/s_b1253_21...    8120  ...   \n",
       "\n",
       "  n_syl                                            peaks_p n_peaks  \\\n",
       "0    14  [1, 25, 35, 48, 57, 75, 275, 285, 349, 358, 37...      49   \n",
       "1    10  [1, 49, 87, 123, 131, 141, 168, 197, 210, 218,...      47   \n",
       "2    18  [12, 19, 26, 37, 49, 155, 169, 181, 196, 208, ...      58   \n",
       "3    25  [2, 28, 37, 86, 100, 111, 137, 144, 157, 173, ...      64   \n",
       "4    23  [4, 14, 73, 89, 100, 116, 136, 148, 160, 171, ...      74   \n",
       "\n",
       "    l_p_ratio                                           waveform confusing  \\\n",
       "0  122.857143  [-74, -123, -103, -104, -91, -103, -85, -79, -...      True   \n",
       "1  201.489362  [33, 36, 31, 17, 38, 26, 35, 24, 21, 34, 27, 2...      True   \n",
       "2  104.224138  [37, 34, 48, 23, 45, 44, 48, 56, 47, 64, 55, 5...      True   \n",
       "3  115.625000  [-105, -115, -130, -129, -143, -135, -149, -14...      True   \n",
       "4  109.729730  [-27, -40, -36, -37, -40, -32, -32, -28, -30, ...      True   \n",
       "\n",
       "   valid_waveform  valid    epoch  \\\n",
       "0            True   True  0610_g0   \n",
       "1            True   True  0610_g0   \n",
       "2            True   True  0610_g0   \n",
       "3            True   True  0610_g0   \n",
       "4            True   True  0610_g0   \n",
       "\n",
       "                                         spectrogram  \n",
       "0  [[0.0, 0.0, 0.0, 0.0, 0.0, 0.0, 0.0, 0.0, 0.0,...  \n",
       "1  [[0.0, 0.0, 0.0, 0.0, 0.0, 0.0, 0.0, 0.0, 0.0,...  \n",
       "2  [[0.0, 0.0, 0.0, 0.0, 0.0, 0.0, 0.0, 0.0, 0.0,...  \n",
       "3  [[0.0, 0.0, 0.0, 0.0, 0.0, 0.0, 0.0, 0.0, 0.0,...  \n",
       "4  [[0.0, 0.0, 0.0, 0.0, 0.0, 0.0, 0.0, 0.0, 0.0,...  \n",
       "\n",
       "[5 rows x 21 columns]"
      ]
     },
     "execution_count": 61,
     "metadata": {},
     "output_type": "execute_result"
    }
   ],
   "source": [
    "bpd.head()"
   ]
  },
  {
   "cell_type": "code",
   "execution_count": 92,
   "id": "2a064efc-24f8-42b1-a14a-db4470622083",
   "metadata": {},
   "outputs": [
    {
     "name": "stderr",
     "output_type": "stream",
     "text": [
      "2021-09-24 18:39:39,171 ceciestunepipe.file.bcistructure INFO     loading curated bouts for session 2021-07-18 from /mnt/sphere/speech_bci/derived_data/s_b1253_21/2021-07-18/sglx/bouts_ceciestunepipe/bout_curated.pickle\n",
      "2021-09-24 18:39:42,038 ceciestunepipe.file.bcistructure INFO     Filtering bouts for epoch 0610_g0\n",
      "2021-09-24 18:39:42,196 ceciestunepipe.file.bcistructure INFO     Filtering also only manually curated bouts\n"
     ]
    }
   ],
   "source": [
    "reload(et)\n",
    "bpd = et.get_epoch_bout_pd(sess_par_e, only_curated=True)\n",
    "bpd.head()"
   ]
  },
  {
   "cell_type": "code",
   "execution_count": 94,
   "id": "5473489b-580d-4d3f-ba98-7ecd48141323",
   "metadata": {},
   "outputs": [
    {
     "data": {
      "text/html": [
       "<div>\n",
       "<style scoped>\n",
       "    .dataframe tbody tr th:only-of-type {\n",
       "        vertical-align: middle;\n",
       "    }\n",
       "\n",
       "    .dataframe tbody tr th {\n",
       "        vertical-align: top;\n",
       "    }\n",
       "\n",
       "    .dataframe thead th {\n",
       "        text-align: right;\n",
       "    }\n",
       "</style>\n",
       "<table border=\"1\" class=\"dataframe\">\n",
       "  <thead>\n",
       "    <tr style=\"text-align: right;\">\n",
       "      <th></th>\n",
       "      <th>start_ms</th>\n",
       "      <th>end_ms</th>\n",
       "      <th>start_sample</th>\n",
       "      <th>end_sample</th>\n",
       "      <th>p_step</th>\n",
       "      <th>rms_p</th>\n",
       "      <th>peak_p</th>\n",
       "      <th>bout_check</th>\n",
       "      <th>file</th>\n",
       "      <th>len_ms</th>\n",
       "      <th>...</th>\n",
       "      <th>n_peaks</th>\n",
       "      <th>l_p_ratio</th>\n",
       "      <th>waveform</th>\n",
       "      <th>confusing</th>\n",
       "      <th>valid_waveform</th>\n",
       "      <th>valid</th>\n",
       "      <th>epoch</th>\n",
       "      <th>spectrogram</th>\n",
       "      <th>bird</th>\n",
       "      <th>sess</th>\n",
       "    </tr>\n",
       "  </thead>\n",
       "  <tbody>\n",
       "    <tr>\n",
       "      <th>0</th>\n",
       "      <td>6300478</td>\n",
       "      <td>6351243</td>\n",
       "      <td>157511950</td>\n",
       "      <td>158781075</td>\n",
       "      <td>[7.886206128106227, 15.074117306094267, 18.369...</td>\n",
       "      <td>22.351748</td>\n",
       "      <td>553.969334</td>\n",
       "      <td>True</td>\n",
       "      <td>/mnt/sphere/speech_bci/derived_data/s_b1253_21...</td>\n",
       "      <td>50765</td>\n",
       "      <td>...</td>\n",
       "      <td>829</td>\n",
       "      <td>61.236429</td>\n",
       "      <td>[13, -7, 0, 9, -8, 2, -7, -10, -4, -13, -1, 2,...</td>\n",
       "      <td>False</td>\n",
       "      <td>True</td>\n",
       "      <td>True</td>\n",
       "      <td>0610_g0</td>\n",
       "      <td>[[0.0, 0.0, 0.0, 0.0, 0.0, 0.0, 0.0, 0.0, 0.0,...</td>\n",
       "      <td>s_b1253_21</td>\n",
       "      <td>2021-07-18</td>\n",
       "    </tr>\n",
       "  </tbody>\n",
       "</table>\n",
       "<p>1 rows × 23 columns</p>\n",
       "</div>"
      ],
      "text/plain": [
       "   start_ms   end_ms  start_sample  end_sample  \\\n",
       "0   6300478  6351243     157511950   158781075   \n",
       "\n",
       "                                              p_step      rms_p      peak_p  \\\n",
       "0  [7.886206128106227, 15.074117306094267, 18.369...  22.351748  553.969334   \n",
       "\n",
       "   bout_check                                               file  len_ms  ...  \\\n",
       "0        True  /mnt/sphere/speech_bci/derived_data/s_b1253_21...   50765  ...   \n",
       "\n",
       "  n_peaks  l_p_ratio                                           waveform  \\\n",
       "0     829  61.236429  [13, -7, 0, 9, -8, 2, -7, -10, -4, -13, -1, 2,...   \n",
       "\n",
       "   confusing  valid_waveform valid    epoch  \\\n",
       "0      False            True  True  0610_g0   \n",
       "\n",
       "                                         spectrogram        bird        sess  \n",
       "0  [[0.0, 0.0, 0.0, 0.0, 0.0, 0.0, 0.0, 0.0, 0.0,...  s_b1253_21  2021-07-18  \n",
       "\n",
       "[1 rows x 23 columns]"
      ]
     },
     "execution_count": 94,
     "metadata": {},
     "output_type": "execute_result"
    }
   ],
   "source": [
    "bpd.head(1)"
   ]
  },
  {
   "cell_type": "code",
   "execution_count": 96,
   "id": "d2fbe605-2351-4fc3-b828-6f3577ea7076",
   "metadata": {},
   "outputs": [
    {
     "data": {
      "text/plain": [
       "array([ 6300478,  7102501,  7180616,  7245376,  7661606,  8031581,\n",
       "        8128521,  8202321,  8442876,  9853004, 11014954, 12578659,\n",
       "       14212972, 15410472, 15496242, 17104694, 18395779, 20073717,\n",
       "       20107052, 21557542, 21939152, 23513780, 23676120, 23753090,\n",
       "       23766770, 24457160, 24816190, 27239488, 27308728, 27405768,\n",
       "       27495628, 27737218, 28437448, 29355223])"
      ]
     },
     "execution_count": 96,
     "metadata": {},
     "output_type": "execute_result"
    }
   ],
   "source": [
    "bpd['start_ms'].values"
   ]
  },
  {
   "cell_type": "code",
   "execution_count": 97,
   "id": "e463c85a-b5b0-418a-a4c6-6af06b99cedf",
   "metadata": {},
   "outputs": [
    {
     "data": {
      "text/plain": [
       "array([50765, 38435, 31900, 44620, 55725, 47565, 39805, 34070, 60000,\n",
       "       45875, 45460, 41365, 39195, 58425, 52140, 46640, 21695, 17460,\n",
       "       39010, 47655, 52790, 23410, 42345,  9165, 18225, 51855, 57915,\n",
       "       34420, 42935, 35810, 40380, 51640, 63155, 19065])"
      ]
     },
     "execution_count": 97,
     "metadata": {},
     "output_type": "execute_result"
    }
   ],
   "source": [
    "bpd['end_ms'].values - bpd['start_ms'].values"
   ]
  },
  {
   "cell_type": "code",
   "execution_count": 1,
   "id": "a775f104-f3bd-4c47-8fa3-46a741d3942e",
   "metadata": {},
   "outputs": [
    {
     "ename": "NameError",
     "evalue": "name 'bpd' is not defined",
     "output_type": "error",
     "traceback": [
      "\u001b[0;31m---------------------------------------------------------------------------\u001b[0m",
      "\u001b[0;31mNameError\u001b[0m                                 Traceback (most recent call last)",
      "\u001b[0;32m<ipython-input-1-939639182faa>\u001b[0m in \u001b[0;36m<module>\u001b[0;34m\u001b[0m\n\u001b[0;32m----> 1\u001b[0;31m \u001b[0mbpd\u001b[0m\u001b[0;34m\u001b[0m\u001b[0;34m\u001b[0m\u001b[0m\n\u001b[0m",
      "\u001b[0;31mNameError\u001b[0m: name 'bpd' is not defined"
     ]
    }
   ],
   "source": [
    "bpd"
   ]
  },
  {
   "cell_type": "code",
   "execution_count": null,
   "id": "734a3a3e-22dd-4acb-ab03-e69abbd899ac",
   "metadata": {},
   "outputs": [],
   "source": []
  }
 ],
 "metadata": {
  "kernelspec": {
   "display_name": "tuputapipe",
   "language": "python",
   "name": "ceciestunepipe"
  },
  "language_info": {
   "codemirror_mode": {
    "name": "ipython",
    "version": 3
   },
   "file_extension": ".py",
   "mimetype": "text/x-python",
   "name": "python",
   "nbconvert_exporter": "python",
   "pygments_lexer": "ipython3",
   "version": "3.8.11"
  }
 },
 "nbformat": 4,
 "nbformat_minor": 5
}
