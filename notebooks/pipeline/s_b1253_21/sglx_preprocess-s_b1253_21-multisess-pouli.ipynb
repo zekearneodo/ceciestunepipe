{
 "cells": [
  {
   "cell_type": "markdown",
   "metadata": {},
   "source": [
    "# Pre-processing pipeline for spikeglx sessions, zebra finch\n",
    "- For every run in the session:\n",
    " - Load the recordings\n",
    " - Extract wav chan with micrhopohone and make a wav chan with the nidq syn signal\n",
    " - Get the sync events for the nidq sync channel\n",
    " \n",
    " - Do bout detection\n",
    " \n",
    "In another notebook, bout detection is curated\n",
    "- Left to decide where to:\n",
    "    - Sort spikes\n",
    "    - Sync the spikes/lfp/nidq\n",
    "    - make and plot 'bout rasters'"
   ]
  },
  {
   "cell_type": "code",
   "execution_count": 50,
   "metadata": {},
   "outputs": [],
   "source": [
    "%matplotlib inline\n",
    "import os\n",
    "import glob\n",
    "import logging\n",
    "import pickle\n",
    "import numpy as np\n",
    "import pandas as pd\n",
    "from scipy.io import wavfile\n",
    "from scipy import signal\n",
    "import traceback\n",
    "import warnings\n",
    "\n",
    "from matplotlib import pyplot as plt\n",
    "from importlib import reload\n",
    "\n",
    "logger = logging.getLogger()\n",
    "handler = logging.StreamHandler()\n",
    "formatter = logging.Formatter(\n",
    "        '%(asctime)s %(name)-12s %(levelname)-8s %(message)s')\n",
    "handler.setFormatter(formatter)\n",
    "logger.addHandler(handler)\n",
    "logger.setLevel(logging.INFO)\n"
   ]
  },
  {
   "cell_type": "code",
   "execution_count": 51,
   "metadata": {},
   "outputs": [],
   "source": [
    "from ceciestunepipe.file import bcistructure as et\n",
    "from ceciestunepipe.util import sglxutil as sglu\n",
    "from ceciestunepipe.util import rigutil as ru\n",
    "from ceciestunepipe.util import wavutil as wu\n",
    "from ceciestunepipe.util import syncutil as su\n",
    "\n",
    "from ceciestunepipe.util.sound import boutsearch as bs\n",
    "\n",
    "from ceciestunepipe.util.spikeextractors import preprocess as pre\n",
    "from ceciestunepipe.util.spikeextractors.extractors.spikeglxrecordingextractor import readSGLX as rsgl\n",
    "from ceciestunepipe.util.spikeextractors.extractors.spikeglxrecordingextractor import spikeglxrecordingextractor as sglex"
   ]
  },
  {
   "cell_type": "code",
   "execution_count": 52,
   "metadata": {},
   "outputs": [
    {
     "name": "stderr",
     "output_type": "stream",
     "text": [
      "2021-12-10 11:21:48,197 root         INFO     all modules loaded\n",
      "2021-12-10 11:21:48,197 root         INFO     all modules loaded\n"
     ]
    }
   ],
   "source": [
    "import spikeinterface as si\n",
    "import spikeinterface.extractors as se\n",
    "import spikeinterface.toolkit as st\n",
    "import spikeinterface.sorters as ss\n",
    "import spikeinterface.comparison as sc\n",
    "import spikeinterface.widgets as sw\n",
    "logger.info('all modules loaded')"
   ]
  },
  {
   "cell_type": "markdown",
   "metadata": {},
   "source": [
    "## Session parameters and raw files"
   ]
  },
  {
   "cell_type": "markdown",
   "metadata": {},
   "source": [
    "#### list all the sessions for this bird"
   ]
  },
  {
   "cell_type": "code",
   "execution_count": 53,
   "metadata": {},
   "outputs": [
    {
     "name": "stderr",
     "output_type": "stream",
     "text": [
      "2021-12-10 11:21:49,280 root         INFO     all sessions for bird are ['2021-05-12', '2021-05-20', '2021-05-21', '2021-05-22', '2021-05-23', '2021-05-24', '2021-05-25', '2021-05-26', '2021-05-27', '2021-05-28', '2021-05-29', '2021-05-30', '2021-05-31', '2021-06-01', '2021-06-02', '2021-06-03', '2021-06-04', '2021-06-05', '2021-06-06', '2021-06-07', '2021-06-08', '2021-06-09', '2021-06-10', '2021-06-11', '2021-06-12', '2021-06-13', '2021-06-14', '2021-06-15', '2021-06-16', '2021-06-17', '2021-06-18', '2021-06-19', '2021-06-20', '2021-06-21', '2021-06-22', '2021-06-23', '2021-06-24', '2021-06-25', '2021-06-26', '2021-06-27', '2021-06-28', '2021-06-29', '2021-06-30', '2021-07-01', '2021-07-02', '2021-07-03', '2021-07-04', '2021-07-05', '2021-07-06', '2021-07-07', '2021-07-08', '2021-07-09', '2021-07-10', '2021-07-11', '2021-07-12', '2021-07-13', '2021-07-14', '2021-07-15', '2021-07-16', '2021-07-17', '2021-07-18', '2021-07-19', '2021-07-20', '2021-07-21', '2021-07-22', '2021-07-23', '2021-07-24', '2021-07-25', '2021-07-26', '2021-07-27', '2021-07-28', '2021-07-29', '2021-07-30', '2021-07-31', '2021-08-01', '2021-08-02', '2021-08-03', '2021-08-04', '2021-08-05', '2021-08-06', '2021-08-07', '2021-08-08', '2021-08-09', '2021-08-10', '2021-08-11', '2021-08-12', '2021-08-13', '2021-08-14', '2021-08-15', '2021-08-16', '2021-08-17', '2021-08-18', '2021-08-19', '2021-08-20', '2021-08-21', '2021-08-22', '2021-08-23', '2021-08-24', '2021-08-25', '2021-08-26', '2021-08-27', '2021-08-28']\n",
      "2021-12-10 11:21:49,280 root         INFO     all sessions for bird are ['2021-05-12', '2021-05-20', '2021-05-21', '2021-05-22', '2021-05-23', '2021-05-24', '2021-05-25', '2021-05-26', '2021-05-27', '2021-05-28', '2021-05-29', '2021-05-30', '2021-05-31', '2021-06-01', '2021-06-02', '2021-06-03', '2021-06-04', '2021-06-05', '2021-06-06', '2021-06-07', '2021-06-08', '2021-06-09', '2021-06-10', '2021-06-11', '2021-06-12', '2021-06-13', '2021-06-14', '2021-06-15', '2021-06-16', '2021-06-17', '2021-06-18', '2021-06-19', '2021-06-20', '2021-06-21', '2021-06-22', '2021-06-23', '2021-06-24', '2021-06-25', '2021-06-26', '2021-06-27', '2021-06-28', '2021-06-29', '2021-06-30', '2021-07-01', '2021-07-02', '2021-07-03', '2021-07-04', '2021-07-05', '2021-07-06', '2021-07-07', '2021-07-08', '2021-07-09', '2021-07-10', '2021-07-11', '2021-07-12', '2021-07-13', '2021-07-14', '2021-07-15', '2021-07-16', '2021-07-17', '2021-07-18', '2021-07-19', '2021-07-20', '2021-07-21', '2021-07-22', '2021-07-23', '2021-07-24', '2021-07-25', '2021-07-26', '2021-07-27', '2021-07-28', '2021-07-29', '2021-07-30', '2021-07-31', '2021-08-01', '2021-08-02', '2021-08-03', '2021-08-04', '2021-08-05', '2021-08-06', '2021-08-07', '2021-08-08', '2021-08-09', '2021-08-10', '2021-08-11', '2021-08-12', '2021-08-13', '2021-08-14', '2021-08-15', '2021-08-16', '2021-08-17', '2021-08-18', '2021-08-19', '2021-08-20', '2021-08-21', '2021-08-22', '2021-08-23', '2021-08-24', '2021-08-25', '2021-08-26', '2021-08-27', '2021-08-28']\n"
     ]
    }
   ],
   "source": [
    "bird = 's_b1253_21'\n",
    "all_bird_sess = et.list_sessions(bird)\n",
    "logger.info('all sessions for bird are {}'.format(all_bird_sess))"
   ]
  },
  {
   "cell_type": "markdown",
   "metadata": {},
   "source": [
    "### set up bird and sessions parameters\n",
    "this will define:\n",
    "- locations of files (for the bird)\n",
    "- signals and channels to look for in the metadata of the files and in the rig.json parameter file: Note that this have to exist in all of the sessions that will be processed\n",
    "- 'sess' is unimportant here, but it comes handy if there is need to debug usin a single session"
   ]
  },
  {
   "cell_type": "code",
   "execution_count": 54,
   "metadata": {},
   "outputs": [],
   "source": [
    "reload(et)\n",
    "# for one example session\n",
    "\n",
    "sess_par = {'bird': 's_b1253_21',\n",
    "           'sess': '2021-06-14',\n",
    "           'probes': ['probe_0'], #probes of interest\n",
    "           'mic_list': ['microphone_0'], #list of mics of interest, by signal name in rig.json\n",
    "           'stim_list': ['wav_stim', 'wav_syn'], # list of adc chans with the stimulus\n",
    "           'nidq_ttl_list': ['wav_ttl'], # list of TTL signals form the nidq digital inputs to extract (besides the 'sync')\n",
    "           'sort': 2, #label for this sort instance\n",
    "           }\n",
    "\n",
    "exp_struct = et.get_exp_struct(sess_par['bird'], sess_par['sess'], sort=sess_par['sort'])\n",
    "\n",
    "ksort_folder = exp_struct['folders']['ksort']\n",
    "raw_folder = exp_struct['folders']['sglx']"
   ]
  },
  {
   "cell_type": "markdown",
   "metadata": {},
   "source": [
    "list all the epochs in a session, to check that it is finding what it has to find"
   ]
  },
  {
   "cell_type": "code",
   "execution_count": 55,
   "metadata": {},
   "outputs": [
    {
     "name": "stderr",
     "output_type": "stream",
     "text": [
      "2021-12-10 11:22:11,025 ceciestunepipe.file.bcistructure INFO     {'folders': {'bird': '/mnt/sphere/speech_bci/raw_data/s_b1253_21', 'raw': '/mnt/sphere/speech_bci/raw_data/s_b1253_21/2021-06-14', 'sglx': '/mnt/sphere/speech_bci/raw_data/s_b1253_21/2021-06-14/sglx', 'kwik': '/experiment/s_b1253_21/sglx/kwik/2021-06-14', 'processed': '/mnt/sphere/speech_bci/processed_data/s_b1253_21/2021-06-14/sglx', 'derived': '/mnt/sphere/speech_bci/derived_data/s_b1253_21/2021-06-14/sglx', 'tmp': '/experiment/tmp/tmp', 'msort': '/experiment/tmp/s_b1253_21/sglx/msort/2021-06-14', 'ksort': '/experiment/tmp/s_b1253_21/sglx/ksort/2021-06-14/2', 'sort': '/mnt/sphere/speech_bci/derived_data/s_b1253_21/2021-06-14/sglx/2'}, 'files': {'par': '/experiment/tmp/s_b1253_21/sglx/ksort/2021-06-14/2/params.json', 'set': '/mnt/sphere/speech_bci/raw_data/s_b1253_21/2021-06-14/sglx/settings.isf', 'rig': '/mnt/sphere/speech_bci/raw_data/s_b1253_21/2021-06-14/sglx/rig.json', 'kwd': '/experiment/s_b1253_21/sglx/kwik/2021-06-14/stream.kwd', 'kwik': '/experiment/s_b1253_21/sglx/kwik/2021-06-14/sort_2/spikes.kwik', 'kwe': '/experiment/s_b1253_21/sglx/kwik/2021-06-14/events.kwe', 'dat_mic': '/mnt/sphere/speech_bci/processed_data/s_b1253_21/2021-06-14/sglx/dat_mic.mat', 'dat_ap': '/mnt/sphere/speech_bci/processed_data/s_b1253_21/2021-06-14/sglx/dat_ap.mat', 'allevents': '/mnt/sphere/speech_bci/processed_data/s_b1253_21/2021-06-14/sglx/dat_all.pkl', 'wav_mic': '/mnt/sphere/speech_bci/derived_data/s_b1253_21/2021-06-14/sglx/wav_mic.wav', 'mda_raw': '/experiment/tmp/s_b1253_21/sglx/msort/2021-06-14/raw.mda', 'bin_raw': '/experiment/tmp/s_b1253_21/sglx/ksort/2021-06-14/2/raw.bin'}}\n",
      "2021-12-10 11:22:11,025 ceciestunepipe.file.bcistructure INFO     {'folders': {'bird': '/mnt/sphere/speech_bci/raw_data/s_b1253_21', 'raw': '/mnt/sphere/speech_bci/raw_data/s_b1253_21/2021-06-14', 'sglx': '/mnt/sphere/speech_bci/raw_data/s_b1253_21/2021-06-14/sglx', 'kwik': '/experiment/s_b1253_21/sglx/kwik/2021-06-14', 'processed': '/mnt/sphere/speech_bci/processed_data/s_b1253_21/2021-06-14/sglx', 'derived': '/mnt/sphere/speech_bci/derived_data/s_b1253_21/2021-06-14/sglx', 'tmp': '/experiment/tmp/tmp', 'msort': '/experiment/tmp/s_b1253_21/sglx/msort/2021-06-14', 'ksort': '/experiment/tmp/s_b1253_21/sglx/ksort/2021-06-14/2', 'sort': '/mnt/sphere/speech_bci/derived_data/s_b1253_21/2021-06-14/sglx/2'}, 'files': {'par': '/experiment/tmp/s_b1253_21/sglx/ksort/2021-06-14/2/params.json', 'set': '/mnt/sphere/speech_bci/raw_data/s_b1253_21/2021-06-14/sglx/settings.isf', 'rig': '/mnt/sphere/speech_bci/raw_data/s_b1253_21/2021-06-14/sglx/rig.json', 'kwd': '/experiment/s_b1253_21/sglx/kwik/2021-06-14/stream.kwd', 'kwik': '/experiment/s_b1253_21/sglx/kwik/2021-06-14/sort_2/spikes.kwik', 'kwe': '/experiment/s_b1253_21/sglx/kwik/2021-06-14/events.kwe', 'dat_mic': '/mnt/sphere/speech_bci/processed_data/s_b1253_21/2021-06-14/sglx/dat_mic.mat', 'dat_ap': '/mnt/sphere/speech_bci/processed_data/s_b1253_21/2021-06-14/sglx/dat_ap.mat', 'allevents': '/mnt/sphere/speech_bci/processed_data/s_b1253_21/2021-06-14/sglx/dat_all.pkl', 'wav_mic': '/mnt/sphere/speech_bci/derived_data/s_b1253_21/2021-06-14/sglx/wav_mic.wav', 'mda_raw': '/experiment/tmp/s_b1253_21/sglx/msort/2021-06-14/raw.mda', 'bin_raw': '/experiment/tmp/s_b1253_21/sglx/ksort/2021-06-14/2/raw.bin'}}\n"
     ]
    },
    {
     "data": {
      "text/plain": [
       "['0712_g0', '1255_g0', '1740_g0', '2118_g0']"
      ]
     },
     "execution_count": 55,
     "metadata": {},
     "output_type": "execute_result"
    }
   ],
   "source": [
    "sess_epochs = et.list_sgl_epochs(sess_par)\n",
    "sess_epochs"
   ]
  },
  {
   "cell_type": "markdown",
   "metadata": {},
   "source": [
    "#### define pre-processing steps for each epoch and for the session"
   ]
  },
  {
   "cell_type": "code",
   "execution_count": 56,
   "metadata": {
    "tags": []
   },
   "outputs": [
    {
     "name": "stderr",
     "output_type": "stream",
     "text": [
      "2021-12-10 11:22:19,473 ceciestunepipe.util.spikeextractors.preprocess INFO     PREPROCESSING sess 2021-06-14 | epoch 2118_g0\n",
      "2021-12-10 11:22:19,473 ceciestunepipe.util.spikeextractors.preprocess INFO     PREPROCESSING sess 2021-06-14 | epoch 2118_g0\n",
      "2021-12-10 11:22:19,474 ceciestunepipe.util.spikeextractors.preprocess INFO     getting extractors\n",
      "2021-12-10 11:22:19,474 ceciestunepipe.util.spikeextractors.preprocess INFO     getting extractors\n",
      "2021-12-10 11:22:19,783 ceciestunepipe.util.spikeextractors.preprocess INFO     Getting microphone channel(s) ['microphone_0']\n",
      "2021-12-10 11:22:19,783 ceciestunepipe.util.spikeextractors.preprocess INFO     Getting microphone channel(s) ['microphone_0']\n",
      "2021-12-10 11:22:19,785 ceciestunepipe.util.wavutil INFO     sampling rate 20000\n",
      "2021-12-10 11:22:19,785 ceciestunepipe.util.wavutil INFO     sampling rate 20000\n",
      "2021-12-10 11:22:19,786 ceciestunepipe.util.wavutil INFO     saving (1, 416132237)-shaped array as wav in /mnt/sphere/speech_bci/derived_data/s_b1253_21/2021-06-14/sglx/2118_g0/wav_mic.wav\n",
      "2021-12-10 11:22:19,786 ceciestunepipe.util.wavutil INFO     saving (1, 416132237)-shaped array as wav in /mnt/sphere/speech_bci/derived_data/s_b1253_21/2021-06-14/sglx/2118_g0/wav_mic.wav\n",
      "2021-12-10 11:23:11,956 ceciestunepipe.util.wavutil INFO     saving (1, 416132237)-shaped array as npy in /mnt/sphere/speech_bci/derived_data/s_b1253_21/2021-06-14/sglx/2118_g0/wav_mic.npy\n",
      "2021-12-10 11:23:11,956 ceciestunepipe.util.wavutil INFO     saving (1, 416132237)-shaped array as npy in /mnt/sphere/speech_bci/derived_data/s_b1253_21/2021-06-14/sglx/2118_g0/wav_mic.npy\n",
      "2021-12-10 11:23:32,725 ceciestunepipe.util.spikeextractors.preprocess INFO     Getting stimulus channel(s) ['wav_stim', 'wav_syn']\n",
      "2021-12-10 11:23:32,725 ceciestunepipe.util.spikeextractors.preprocess INFO     Getting stimulus channel(s) ['wav_stim', 'wav_syn']\n",
      "2021-12-10 11:23:32,728 ceciestunepipe.util.wavutil INFO     sampling rate 20000\n",
      "2021-12-10 11:23:32,728 ceciestunepipe.util.wavutil INFO     sampling rate 20000\n",
      "2021-12-10 11:23:32,729 ceciestunepipe.util.wavutil INFO     saving (2, 416132237)-shaped array as wav in /mnt/sphere/speech_bci/derived_data/s_b1253_21/2021-06-14/sglx/2118_g0/wav_stim.wav\n",
      "2021-12-10 11:23:32,729 ceciestunepipe.util.wavutil INFO     saving (2, 416132237)-shaped array as wav in /mnt/sphere/speech_bci/derived_data/s_b1253_21/2021-06-14/sglx/2118_g0/wav_stim.wav\n",
      "2021-12-10 11:23:52,639 ceciestunepipe.util.wavutil INFO     saving (2, 416132237)-shaped array as npy in /mnt/sphere/speech_bci/derived_data/s_b1253_21/2021-06-14/sglx/2118_g0/wav_stim.npy\n",
      "2021-12-10 11:23:52,639 ceciestunepipe.util.wavutil INFO     saving (2, 416132237)-shaped array as npy in /mnt/sphere/speech_bci/derived_data/s_b1253_21/2021-06-14/sglx/2118_g0/wav_stim.npy\n",
      "2021-12-10 11:24:33,576 ceciestunepipe.util.spikeextractors.preprocess INFO     Getting sync channel(s) ['sync']\n",
      "2021-12-10 11:24:33,576 ceciestunepipe.util.spikeextractors.preprocess INFO     Getting sync channel(s) ['sync']\n",
      "2021-12-10 11:24:33,577 ceciestunepipe.util.spikeextractors.extractors.spikeglxrecordingextractor.spikeglxrecordingextractor INFO     getting ttl traces, chan range(0, 7)\n",
      "2021-12-10 11:24:33,577 ceciestunepipe.util.spikeextractors.extractors.spikeglxrecordingextractor.spikeglxrecordingextractor INFO     getting ttl traces, chan range(0, 7)\n",
      "2021-12-10 11:24:42,343 ceciestunepipe.util.wavutil INFO     sampling rate 20000\n",
      "2021-12-10 11:24:42,343 ceciestunepipe.util.wavutil INFO     sampling rate 20000\n",
      "2021-12-10 11:24:42,345 ceciestunepipe.util.wavutil INFO     saving (1, 416132237)-shaped array as wav in /mnt/sphere/speech_bci/derived_data/s_b1253_21/2021-06-14/sglx/2118_g0/wav_sync.wav\n",
      "2021-12-10 11:24:42,345 ceciestunepipe.util.wavutil INFO     saving (1, 416132237)-shaped array as wav in /mnt/sphere/speech_bci/derived_data/s_b1253_21/2021-06-14/sglx/2118_g0/wav_sync.wav\n",
      "2021-12-10 11:24:50,141 ceciestunepipe.util.wavutil INFO     saving (1, 416132237)-shaped array as npy in /mnt/sphere/speech_bci/derived_data/s_b1253_21/2021-06-14/sglx/2118_g0/wav_sync.npy\n",
      "2021-12-10 11:24:50,141 ceciestunepipe.util.wavutil INFO     saving (1, 416132237)-shaped array as npy in /mnt/sphere/speech_bci/derived_data/s_b1253_21/2021-06-14/sglx/2118_g0/wav_sync.npy\n",
      "2021-12-10 11:24:57,864 ceciestunepipe.util.spikeextractors.preprocess INFO     Getting sync events from the wav sync channel\n",
      "2021-12-10 11:24:57,864 ceciestunepipe.util.spikeextractors.preprocess INFO     Getting sync events from the wav sync channel\n",
      "2021-12-10 11:25:00,651 ceciestunepipe.util.spikeextractors.preprocess INFO     saving sync events of the wav channel to /mnt/sphere/speech_bci/derived_data/s_b1253_21/2021-06-14/sglx/2118_g0/wav_sync_evt.npy\n",
      "2021-12-10 11:25:00,651 ceciestunepipe.util.spikeextractors.preprocess INFO     saving sync events of the wav channel to /mnt/sphere/speech_bci/derived_data/s_b1253_21/2021-06-14/sglx/2118_g0/wav_sync_evt.npy\n",
      "2021-12-10 11:25:00,812 ceciestunepipe.util.spikeextractors.preprocess INFO     saving t0 for wav channel to /mnt/sphere/speech_bci/derived_data/s_b1253_21/2021-06-14/sglx/2118_g0/wav_t0.npy\n",
      "2021-12-10 11:25:00,812 ceciestunepipe.util.spikeextractors.preprocess INFO     saving t0 for wav channel to /mnt/sphere/speech_bci/derived_data/s_b1253_21/2021-06-14/sglx/2118_g0/wav_t0.npy\n",
      "2021-12-10 11:25:43,910 ceciestunepipe.util.spikeextractors.preprocess INFO     Will get 1 ttl signals\n",
      "2021-12-10 11:25:43,910 ceciestunepipe.util.spikeextractors.preprocess INFO     Will get 1 ttl signals\n",
      "2021-12-10 11:25:43,912 ceciestunepipe.util.spikeextractors.preprocess INFO     looking for signal wav_ttl in the nidaq channels\n",
      "2021-12-10 11:25:43,912 ceciestunepipe.util.spikeextractors.preprocess INFO     looking for signal wav_ttl in the nidaq channels\n",
      "2021-12-10 11:25:43,913 ceciestunepipe.util.spikeextractors.preprocess INFO     found in chan 2\n",
      "2021-12-10 11:25:43,913 ceciestunepipe.util.spikeextractors.preprocess INFO     found in chan 2\n",
      "2021-12-10 11:25:43,915 ceciestunepipe.util.spikeextractors.extractors.spikeglxrecordingextractor.spikeglxrecordingextractor INFO     getting ttl events, chan 2\n",
      "2021-12-10 11:25:43,915 ceciestunepipe.util.spikeextractors.extractors.spikeglxrecordingextractor.spikeglxrecordingextractor INFO     getting ttl events, chan 2\n",
      "2021-12-10 11:25:55,820 ceciestunepipe.util.spikeextractors.preprocess INFO     saving (840, 2)-shaped array as npy in /mnt/sphere/speech_bci/derived_data/s_b1253_21/2021-06-14/sglx/2118_g0/wav_ttl_evt.npy\n",
      "2021-12-10 11:25:55,820 ceciestunepipe.util.spikeextractors.preprocess INFO     saving (840, 2)-shaped array as npy in /mnt/sphere/speech_bci/derived_data/s_b1253_21/2021-06-14/sglx/2118_g0/wav_ttl_evt.npy\n",
      "2021-12-10 11:25:56,118 ceciestunepipe.util.spikeextractors.preprocess INFO     saving sync dict to /mnt/sphere/speech_bci/derived_data/s_b1253_21/2021-06-14/sglx/2118_g0/wav_sync_dict.pkl\n",
      "2021-12-10 11:25:56,118 ceciestunepipe.util.spikeextractors.preprocess INFO     saving sync dict to /mnt/sphere/speech_bci/derived_data/s_b1253_21/2021-06-14/sglx/2118_g0/wav_sync_dict.pkl\n"
     ]
    }
   ],
   "source": [
    "reload(pre)\n",
    "one_epoch_dict = pre.preprocess_run(sess_par, exp_struct, sess_epochs[3])"
   ]
  },
  {
   "cell_type": "code",
   "execution_count": 57,
   "metadata": {
    "tags": []
   },
   "outputs": [
    {
     "data": {
      "text/plain": [
       "{'epoch': '2118_g0',\n",
       " 'files_pd':                                                 nidq  \\\n",
       " 0  /mnt/sphere/speech_bci/raw_data/s_b1253_21/202...   \n",
       " \n",
       "                                                 lf_0  \\\n",
       " 0  /mnt/sphere/speech_bci/raw_data/s_b1253_21/202...   \n",
       " \n",
       "                                                 ap_0  \n",
       " 0  /mnt/sphere/speech_bci/raw_data/s_b1253_21/202...  ,\n",
       " 'recordings': {'nidq': <ceciestunepipe.util.spikeextractors.extractors.spikeglxrecordingextractor.spikeglxrecordingextractor.SpikeGLXRecordingExtractor at 0x7f28cab86400>,\n",
       "  'lf_0': <ceciestunepipe.util.spikeextractors.extractors.spikeglxrecordingextractor.spikeglxrecordingextractor.SpikeGLXRecordingExtractor at 0x7f28e7132a30>,\n",
       "  'ap_0': <ceciestunepipe.util.spikeextractors.extractors.spikeglxrecordingextractor.spikeglxrecordingextractor.SpikeGLXRecordingExtractor at 0x7f28ca595220>},\n",
       " 'meta': {'nidq': '/mnt/sphere/speech_bci/raw_data/s_b1253_21/2021-06-14/sglx/2118_g0/2118_g0_t0.nidq.meta',\n",
       "  'lf_0': '/mnt/sphere/speech_bci/raw_data/s_b1253_21/2021-06-14/sglx/2118_g0/2118_g0_imec0/2118_g0_t0.imec0.lf.meta',\n",
       "  'ap_0': '/mnt/sphere/speech_bci/raw_data/s_b1253_21/2021-06-14/sglx/2118_g0/2118_g0_imec0/2118_g0_t0.imec0.ap.meta'},\n",
       " 'rig': {'chan': {'ttl': {'sync': 'DIN-00', 'wav_ttl': 'DIN-02'},\n",
       "   'adc': {'microphone_0': 'adc-00',\n",
       "    'wav_stim': 'adc-01',\n",
       "    'wav_syn': 'adc-02'},\n",
       "   'port': {'probe_0': 'A-'}},\n",
       "  'probe': {'probe_0': {'model': 'neuropix-3b',\n",
       "    'serial': '19108322052',\n",
       "    'headstage': 'neuropix-3b'}}}}"
      ]
     },
     "execution_count": 57,
     "metadata": {},
     "output_type": "execute_result"
    }
   ],
   "source": [
    "one_epoch_dict"
   ]
  },
  {
   "cell_type": "code",
   "execution_count": 58,
   "metadata": {
    "scrolled": true,
    "tags": []
   },
   "outputs": [
    {
     "name": "stderr",
     "output_type": "stream",
     "text": [
      "2021-12-10 11:25:56,359 root         INFO     pre-process all runs of sess 2021-06-14\n",
      "2021-12-10 11:25:56,359 root         INFO     pre-process all runs of sess 2021-06-14\n",
      "2021-12-10 11:25:56,362 ceciestunepipe.file.bcistructure INFO     {'folders': {'bird': '/mnt/sphere/speech_bci/raw_data/s_b1253_21', 'raw': '/mnt/sphere/speech_bci/raw_data/s_b1253_21/2021-06-14', 'sglx': '/mnt/sphere/speech_bci/raw_data/s_b1253_21/2021-06-14/sglx', 'kwik': '/experiment/s_b1253_21/sglx/kwik/2021-06-14', 'processed': '/mnt/sphere/speech_bci/processed_data/s_b1253_21/2021-06-14/sglx', 'derived': '/mnt/sphere/speech_bci/derived_data/s_b1253_21/2021-06-14/sglx', 'tmp': '/experiment/tmp/tmp', 'msort': '/experiment/tmp/s_b1253_21/sglx/msort/2021-06-14', 'ksort': '/experiment/tmp/s_b1253_21/sglx/ksort/2021-06-14/2', 'sort': '/mnt/sphere/speech_bci/derived_data/s_b1253_21/2021-06-14/sglx/2'}, 'files': {'par': '/experiment/tmp/s_b1253_21/sglx/ksort/2021-06-14/2/params.json', 'set': '/mnt/sphere/speech_bci/raw_data/s_b1253_21/2021-06-14/sglx/settings.isf', 'rig': '/mnt/sphere/speech_bci/raw_data/s_b1253_21/2021-06-14/sglx/rig.json', 'kwd': '/experiment/s_b1253_21/sglx/kwik/2021-06-14/stream.kwd', 'kwik': '/experiment/s_b1253_21/sglx/kwik/2021-06-14/sort_2/spikes.kwik', 'kwe': '/experiment/s_b1253_21/sglx/kwik/2021-06-14/events.kwe', 'dat_mic': '/mnt/sphere/speech_bci/processed_data/s_b1253_21/2021-06-14/sglx/dat_mic.mat', 'dat_ap': '/mnt/sphere/speech_bci/processed_data/s_b1253_21/2021-06-14/sglx/dat_ap.mat', 'allevents': '/mnt/sphere/speech_bci/processed_data/s_b1253_21/2021-06-14/sglx/dat_all.pkl', 'wav_mic': '/mnt/sphere/speech_bci/derived_data/s_b1253_21/2021-06-14/sglx/wav_mic.wav', 'mda_raw': '/experiment/tmp/s_b1253_21/sglx/msort/2021-06-14/raw.mda', 'bin_raw': '/experiment/tmp/s_b1253_21/sglx/ksort/2021-06-14/2/raw.bin'}}\n",
      "2021-12-10 11:25:56,362 ceciestunepipe.file.bcistructure INFO     {'folders': {'bird': '/mnt/sphere/speech_bci/raw_data/s_b1253_21', 'raw': '/mnt/sphere/speech_bci/raw_data/s_b1253_21/2021-06-14', 'sglx': '/mnt/sphere/speech_bci/raw_data/s_b1253_21/2021-06-14/sglx', 'kwik': '/experiment/s_b1253_21/sglx/kwik/2021-06-14', 'processed': '/mnt/sphere/speech_bci/processed_data/s_b1253_21/2021-06-14/sglx', 'derived': '/mnt/sphere/speech_bci/derived_data/s_b1253_21/2021-06-14/sglx', 'tmp': '/experiment/tmp/tmp', 'msort': '/experiment/tmp/s_b1253_21/sglx/msort/2021-06-14', 'ksort': '/experiment/tmp/s_b1253_21/sglx/ksort/2021-06-14/2', 'sort': '/mnt/sphere/speech_bci/derived_data/s_b1253_21/2021-06-14/sglx/2'}, 'files': {'par': '/experiment/tmp/s_b1253_21/sglx/ksort/2021-06-14/2/params.json', 'set': '/mnt/sphere/speech_bci/raw_data/s_b1253_21/2021-06-14/sglx/settings.isf', 'rig': '/mnt/sphere/speech_bci/raw_data/s_b1253_21/2021-06-14/sglx/rig.json', 'kwd': '/experiment/s_b1253_21/sglx/kwik/2021-06-14/stream.kwd', 'kwik': '/experiment/s_b1253_21/sglx/kwik/2021-06-14/sort_2/spikes.kwik', 'kwe': '/experiment/s_b1253_21/sglx/kwik/2021-06-14/events.kwe', 'dat_mic': '/mnt/sphere/speech_bci/processed_data/s_b1253_21/2021-06-14/sglx/dat_mic.mat', 'dat_ap': '/mnt/sphere/speech_bci/processed_data/s_b1253_21/2021-06-14/sglx/dat_ap.mat', 'allevents': '/mnt/sphere/speech_bci/processed_data/s_b1253_21/2021-06-14/sglx/dat_all.pkl', 'wav_mic': '/mnt/sphere/speech_bci/derived_data/s_b1253_21/2021-06-14/sglx/wav_mic.wav', 'mda_raw': '/experiment/tmp/s_b1253_21/sglx/msort/2021-06-14/raw.mda', 'bin_raw': '/experiment/tmp/s_b1253_21/sglx/ksort/2021-06-14/2/raw.bin'}}\n",
      "2021-12-10 11:25:56,486 root         INFO     found epochs: ['0712_g0', '1255_g0', '1740_g0', '2118_g0']\n",
      "2021-12-10 11:25:56,486 root         INFO     found epochs: ['0712_g0', '1255_g0', '1740_g0', '2118_g0']\n",
      "2021-12-10 11:25:56,488 ceciestunepipe.util.spikeextractors.preprocess INFO     PREPROCESSING sess 2021-06-14 | epoch 0712_g0\n",
      "2021-12-10 11:25:56,488 ceciestunepipe.util.spikeextractors.preprocess INFO     PREPROCESSING sess 2021-06-14 | epoch 0712_g0\n",
      "2021-12-10 11:25:56,490 ceciestunepipe.util.spikeextractors.preprocess INFO     getting extractors\n",
      "2021-12-10 11:25:56,490 ceciestunepipe.util.spikeextractors.preprocess INFO     getting extractors\n",
      "2021-12-10 11:25:56,653 ceciestunepipe.util.spikeextractors.preprocess INFO     Getting microphone channel(s) ['microphone_0']\n",
      "2021-12-10 11:25:56,653 ceciestunepipe.util.spikeextractors.preprocess INFO     Getting microphone channel(s) ['microphone_0']\n",
      "2021-12-10 11:25:56,655 ceciestunepipe.util.wavutil INFO     sampling rate 20000\n",
      "2021-12-10 11:25:56,655 ceciestunepipe.util.wavutil INFO     sampling rate 20000\n",
      "2021-12-10 11:25:56,657 ceciestunepipe.util.wavutil INFO     saving (1, 411700466)-shaped array as wav in /mnt/sphere/speech_bci/derived_data/s_b1253_21/2021-06-14/sglx/0712_g0/wav_mic.wav\n",
      "2021-12-10 11:25:56,657 ceciestunepipe.util.wavutil INFO     saving (1, 411700466)-shaped array as wav in /mnt/sphere/speech_bci/derived_data/s_b1253_21/2021-06-14/sglx/0712_g0/wav_mic.wav\n"
     ]
    },
    {
     "ename": "KeyboardInterrupt",
     "evalue": "",
     "output_type": "error",
     "traceback": [
      "\u001b[0;31m---------------------------------------------------------------------------\u001b[0m",
      "\u001b[0;31mKeyboardInterrupt\u001b[0m                         Traceback (most recent call last)",
      "\u001b[0;32m<ipython-input-58-745b24e6b90f>\u001b[0m in \u001b[0;36m<module>\u001b[0;34m\u001b[0m\n\u001b[1;32m     22\u001b[0m     \u001b[0;32mreturn\u001b[0m \u001b[0mepoch_dict_list\u001b[0m\u001b[0;34m\u001b[0m\u001b[0;34m\u001b[0m\u001b[0m\n\u001b[1;32m     23\u001b[0m \u001b[0;34m\u001b[0m\u001b[0m\n\u001b[0;32m---> 24\u001b[0;31m \u001b[0mall_epoch_list\u001b[0m \u001b[0;34m=\u001b[0m \u001b[0mpreprocess_session\u001b[0m\u001b[0;34m(\u001b[0m\u001b[0msess_par\u001b[0m\u001b[0;34m)\u001b[0m\u001b[0;34m\u001b[0m\u001b[0;34m\u001b[0m\u001b[0m\n\u001b[0m",
      "\u001b[0;32m<ipython-input-58-745b24e6b90f>\u001b[0m in \u001b[0;36mpreprocess_session\u001b[0;34m(sess_par)\u001b[0m\n\u001b[1;32m     12\u001b[0m         \u001b[0;32mtry\u001b[0m\u001b[0;34m:\u001b[0m\u001b[0;34m\u001b[0m\u001b[0;34m\u001b[0m\u001b[0m\n\u001b[1;32m     13\u001b[0m             \u001b[0mexp_struct\u001b[0m \u001b[0;34m=\u001b[0m \u001b[0met\u001b[0m\u001b[0;34m.\u001b[0m\u001b[0msgl_struct\u001b[0m\u001b[0;34m(\u001b[0m\u001b[0msess_par\u001b[0m\u001b[0;34m,\u001b[0m \u001b[0mepoch\u001b[0m\u001b[0;34m)\u001b[0m\u001b[0;34m\u001b[0m\u001b[0;34m\u001b[0m\u001b[0m\n\u001b[0;32m---> 14\u001b[0;31m             \u001b[0mone_epoch_dict\u001b[0m \u001b[0;34m=\u001b[0m \u001b[0mpre\u001b[0m\u001b[0;34m.\u001b[0m\u001b[0mpreprocess_run\u001b[0m\u001b[0;34m(\u001b[0m\u001b[0msess_par\u001b[0m\u001b[0;34m,\u001b[0m \u001b[0mexp_struct\u001b[0m\u001b[0;34m,\u001b[0m \u001b[0mepoch\u001b[0m\u001b[0;34m)\u001b[0m\u001b[0;34m\u001b[0m\u001b[0;34m\u001b[0m\u001b[0m\n\u001b[0m\u001b[1;32m     15\u001b[0m             \u001b[0mepoch_dict_list\u001b[0m\u001b[0;34m.\u001b[0m\u001b[0mappend\u001b[0m\u001b[0;34m(\u001b[0m\u001b[0mone_epoch_dict\u001b[0m\u001b[0;34m)\u001b[0m\u001b[0;34m\u001b[0m\u001b[0;34m\u001b[0m\u001b[0m\n\u001b[1;32m     16\u001b[0m         \u001b[0;32mexcept\u001b[0m \u001b[0mException\u001b[0m \u001b[0;32mas\u001b[0m \u001b[0mexc\u001b[0m\u001b[0;34m:\u001b[0m\u001b[0;34m\u001b[0m\u001b[0;34m\u001b[0m\u001b[0m\n",
      "\u001b[0;32m~/repos/ceciestunepipe/ceciestunepipe/util/spikeextractors/preprocess.py\u001b[0m in \u001b[0;36mpreprocess_run\u001b[0;34m(sess_par, exp_struct, epoch)\u001b[0m\n\u001b[1;32m    115\u001b[0m     \u001b[0mmic_stream\u001b[0m \u001b[0;34m=\u001b[0m \u001b[0mextract_nidq_channels\u001b[0m\u001b[0;34m(\u001b[0m\u001b[0msess_par\u001b[0m\u001b[0;34m,\u001b[0m \u001b[0mrun_recs_dict\u001b[0m\u001b[0;34m,\u001b[0m \u001b[0mrig_dict\u001b[0m\u001b[0;34m,\u001b[0m \u001b[0mmic_list\u001b[0m\u001b[0;34m,\u001b[0m \u001b[0mchan_type\u001b[0m\u001b[0;34m=\u001b[0m\u001b[0;34m'adc'\u001b[0m\u001b[0;34m)\u001b[0m\u001b[0;34m\u001b[0m\u001b[0;34m\u001b[0m\u001b[0m\n\u001b[1;32m    116\u001b[0m     \u001b[0mmic_file_path\u001b[0m \u001b[0;34m=\u001b[0m \u001b[0mos\u001b[0m\u001b[0;34m.\u001b[0m\u001b[0mpath\u001b[0m\u001b[0;34m.\u001b[0m\u001b[0mjoin\u001b[0m\u001b[0;34m(\u001b[0m\u001b[0msgl_exp_struct\u001b[0m\u001b[0;34m[\u001b[0m\u001b[0;34m'folders'\u001b[0m\u001b[0;34m]\u001b[0m\u001b[0;34m[\u001b[0m\u001b[0;34m'derived'\u001b[0m\u001b[0;34m]\u001b[0m\u001b[0;34m,\u001b[0m \u001b[0;34m'wav_mic.wav'\u001b[0m\u001b[0;34m)\u001b[0m\u001b[0;34m\u001b[0m\u001b[0;34m\u001b[0m\u001b[0m\n\u001b[0;32m--> 117\u001b[0;31m     \u001b[0mwav_s_f\u001b[0m \u001b[0;34m=\u001b[0m \u001b[0mwu\u001b[0m\u001b[0;34m.\u001b[0m\u001b[0msave_wav\u001b[0m\u001b[0;34m(\u001b[0m\u001b[0mmic_stream\u001b[0m\u001b[0;34m,\u001b[0m \u001b[0mnidq_s_f\u001b[0m\u001b[0;34m,\u001b[0m \u001b[0mmic_file_path\u001b[0m\u001b[0;34m)\u001b[0m\u001b[0;34m\u001b[0m\u001b[0;34m\u001b[0m\u001b[0m\n\u001b[0m\u001b[1;32m    118\u001b[0m \u001b[0;34m\u001b[0m\u001b[0m\n\u001b[1;32m    119\u001b[0m     \u001b[0;31m### if there were other adc channels (stim, for instance)\u001b[0m\u001b[0;34m\u001b[0m\u001b[0;34m\u001b[0m\u001b[0;34m\u001b[0m\u001b[0m\n",
      "\u001b[0;32m~/repos/ceciestunepipe/ceciestunepipe/util/wavutil.py\u001b[0m in \u001b[0;36msave_wav\u001b[0;34m(stream, s_f, wav_path)\u001b[0m\n\u001b[1;32m     26\u001b[0m \u001b[0;34m\u001b[0m\u001b[0m\n\u001b[1;32m     27\u001b[0m     \u001b[0mos\u001b[0m\u001b[0;34m.\u001b[0m\u001b[0mmakedirs\u001b[0m\u001b[0;34m(\u001b[0m\u001b[0mos\u001b[0m\u001b[0;34m.\u001b[0m\u001b[0mpath\u001b[0m\u001b[0;34m.\u001b[0m\u001b[0msplit\u001b[0m\u001b[0;34m(\u001b[0m\u001b[0mwav_path\u001b[0m\u001b[0;34m)\u001b[0m\u001b[0;34m[\u001b[0m\u001b[0;36m0\u001b[0m\u001b[0;34m]\u001b[0m\u001b[0;34m,\u001b[0m \u001b[0mexist_ok\u001b[0m\u001b[0;34m=\u001b[0m\u001b[0;32mTrue\u001b[0m\u001b[0;34m)\u001b[0m\u001b[0;34m\u001b[0m\u001b[0;34m\u001b[0m\u001b[0m\n\u001b[0;32m---> 28\u001b[0;31m     \u001b[0mwavfile\u001b[0m\u001b[0;34m.\u001b[0m\u001b[0mwrite\u001b[0m\u001b[0;34m(\u001b[0m\u001b[0mwav_path\u001b[0m\u001b[0;34m,\u001b[0m \u001b[0mwav_s_f\u001b[0m\u001b[0;34m,\u001b[0m \u001b[0mstream\u001b[0m\u001b[0;34m.\u001b[0m\u001b[0mT\u001b[0m\u001b[0;34m)\u001b[0m\u001b[0;34m\u001b[0m\u001b[0;34m\u001b[0m\u001b[0m\n\u001b[0m\u001b[1;32m     29\u001b[0m \u001b[0;34m\u001b[0m\u001b[0m\n\u001b[1;32m     30\u001b[0m     \u001b[0;31m## also save as numpy\u001b[0m\u001b[0;34m\u001b[0m\u001b[0;34m\u001b[0m\u001b[0;34m\u001b[0m\u001b[0m\n",
      "\u001b[0;32m~/anaconda3/envs/ceciestunepipe/lib/python3.8/site-packages/scipy/io/wavfile.py\u001b[0m in \u001b[0;36mwrite\u001b[0;34m(filename, rate, data)\u001b[0m\n\u001b[1;32m    820\u001b[0m                                            sys.byteorder == 'big'):\n\u001b[1;32m    821\u001b[0m             \u001b[0mdata\u001b[0m \u001b[0;34m=\u001b[0m \u001b[0mdata\u001b[0m\u001b[0;34m.\u001b[0m\u001b[0mbyteswap\u001b[0m\u001b[0;34m(\u001b[0m\u001b[0;34m)\u001b[0m\u001b[0;34m\u001b[0m\u001b[0;34m\u001b[0m\u001b[0m\n\u001b[0;32m--> 822\u001b[0;31m         \u001b[0m_array_tofile\u001b[0m\u001b[0;34m(\u001b[0m\u001b[0mfid\u001b[0m\u001b[0;34m,\u001b[0m \u001b[0mdata\u001b[0m\u001b[0;34m)\u001b[0m\u001b[0;34m\u001b[0m\u001b[0;34m\u001b[0m\u001b[0m\n\u001b[0m\u001b[1;32m    823\u001b[0m \u001b[0;34m\u001b[0m\u001b[0m\n\u001b[1;32m    824\u001b[0m         \u001b[0;31m# Determine file size and place it in correct\u001b[0m\u001b[0;34m\u001b[0m\u001b[0;34m\u001b[0m\u001b[0;34m\u001b[0m\u001b[0m\n",
      "\u001b[0;32m~/anaconda3/envs/ceciestunepipe/lib/python3.8/site-packages/scipy/io/wavfile.py\u001b[0m in \u001b[0;36m_array_tofile\u001b[0;34m(fid, data)\u001b[0m\n\u001b[1;32m    837\u001b[0m \u001b[0;32mdef\u001b[0m \u001b[0m_array_tofile\u001b[0m\u001b[0;34m(\u001b[0m\u001b[0mfid\u001b[0m\u001b[0;34m,\u001b[0m \u001b[0mdata\u001b[0m\u001b[0;34m)\u001b[0m\u001b[0;34m:\u001b[0m\u001b[0;34m\u001b[0m\u001b[0;34m\u001b[0m\u001b[0m\n\u001b[1;32m    838\u001b[0m     \u001b[0;31m# ravel gives a c-contiguous buffer\u001b[0m\u001b[0;34m\u001b[0m\u001b[0;34m\u001b[0m\u001b[0;34m\u001b[0m\u001b[0m\n\u001b[0;32m--> 839\u001b[0;31m     \u001b[0mfid\u001b[0m\u001b[0;34m.\u001b[0m\u001b[0mwrite\u001b[0m\u001b[0;34m(\u001b[0m\u001b[0mdata\u001b[0m\u001b[0;34m.\u001b[0m\u001b[0mravel\u001b[0m\u001b[0;34m(\u001b[0m\u001b[0;34m)\u001b[0m\u001b[0;34m.\u001b[0m\u001b[0mview\u001b[0m\u001b[0;34m(\u001b[0m\u001b[0;34m'b'\u001b[0m\u001b[0;34m)\u001b[0m\u001b[0;34m.\u001b[0m\u001b[0mdata\u001b[0m\u001b[0;34m)\u001b[0m\u001b[0;34m\u001b[0m\u001b[0;34m\u001b[0m\u001b[0m\n\u001b[0m",
      "\u001b[0;31mKeyboardInterrupt\u001b[0m: "
     ]
    }
   ],
   "source": [
    "### sequentially process all runs of the sessions\n",
    "def preprocess_session(sess_par: dict):\n",
    "    logger.info('pre-process all runs of sess ' + sess_par['sess'])\n",
    "    # get exp struct\n",
    "    sess_struct = et.get_exp_struct(sess_par['bird'], sess_par['sess'], sort=sess_par['sort'])\n",
    "    # list the epochs\n",
    "    sess_epochs = et.list_sgl_epochs(sess_par)\n",
    "    logger.info('found epochs: {}'.format(sess_epochs))\n",
    "    # preprocess all epochs\n",
    "    epoch_dict_list = []\n",
    "    for i_ep, epoch in enumerate(sess_epochs):\n",
    "        try:\n",
    "            exp_struct = et.sgl_struct(sess_par, epoch)\n",
    "            one_epoch_dict = pre.preprocess_run(sess_par, exp_struct, epoch)\n",
    "            epoch_dict_list.append(one_epoch_dict)\n",
    "        except Exception as exc:\n",
    "            warnings.warn('Error in epoch {}'.format(epoch), UserWarning)\n",
    "            logger.info(traceback.format_exc)\n",
    "            logger.info(exc)\n",
    "            logger.info('Session {} epoch {} could not be preprocessed'.format(sess_par['sess'], epoch))\n",
    "        \n",
    "    return epoch_dict_list\n",
    "\n",
    "all_epoch_list = preprocess_session(sess_par)"
   ]
  },
  {
   "cell_type": "markdown",
   "metadata": {},
   "source": [
    "## Process multiple sessions"
   ]
  },
  {
   "cell_type": "code",
   "execution_count": 43,
   "metadata": {
    "tags": []
   },
   "outputs": [],
   "source": [
    "sess_list = all_bird_sess\n",
    "# fist implant, right hemisphere\n",
    "sess_list = ['2021-06-24', '2021-06-25', '2021-06-26', '2021-06-27', '2021-06-28', '2021-06-29', '2021-06-30']\n",
    "sess_list = ['2021-06-12', '2021-06-13']"
   ]
  },
  {
   "cell_type": "code",
   "execution_count": 44,
   "metadata": {
    "tags": []
   },
   "outputs": [
    {
     "name": "stderr",
     "output_type": "stream",
     "text": [
      "2021-12-03 14:49:35,871 root         INFO     pre-process all runs of sess 2021-06-12\n",
      "2021-12-03 14:49:35,873 ceciestunepipe.file.bcistructure INFO     {'folders': {'bird': '/mnt/sphere/speech_bci/raw_data/s_b1253_21', 'raw': '/mnt/sphere/speech_bci/raw_data/s_b1253_21/2021-06-12', 'sglx': '/mnt/sphere/speech_bci/raw_data/s_b1253_21/2021-06-12/sglx', 'kwik': '/experiment/s_b1253_21/sglx/kwik/2021-06-12', 'processed': '/mnt/sphere/speech_bci/processed_data/s_b1253_21/2021-06-12/sglx', 'derived': '/mnt/sphere/speech_bci/derived_data/s_b1253_21/2021-06-12/sglx', 'tmp': '/experiment/tmp/tmp', 'msort': '/experiment/tmp/s_b1253_21/sglx/msort/2021-06-12', 'ksort': '/experiment/tmp/s_b1253_21/sglx/ksort/2021-06-12/2', 'sort': '/mnt/sphere/speech_bci/derived_data/s_b1253_21/2021-06-12/sglx/2'}, 'files': {'par': '/experiment/tmp/s_b1253_21/sglx/ksort/2021-06-12/2/params.json', 'set': '/mnt/sphere/speech_bci/raw_data/s_b1253_21/2021-06-12/sglx/settings.isf', 'rig': '/mnt/sphere/speech_bci/raw_data/s_b1253_21/2021-06-12/sglx/rig.json', 'kwd': '/experiment/s_b1253_21/sglx/kwik/2021-06-12/stream.kwd', 'kwik': '/experiment/s_b1253_21/sglx/kwik/2021-06-12/sort_2/spikes.kwik', 'kwe': '/experiment/s_b1253_21/sglx/kwik/2021-06-12/events.kwe', 'dat_mic': '/mnt/sphere/speech_bci/processed_data/s_b1253_21/2021-06-12/sglx/dat_mic.mat', 'dat_ap': '/mnt/sphere/speech_bci/processed_data/s_b1253_21/2021-06-12/sglx/dat_ap.mat', 'allevents': '/mnt/sphere/speech_bci/processed_data/s_b1253_21/2021-06-12/sglx/dat_all.pkl', 'wav_mic': '/mnt/sphere/speech_bci/derived_data/s_b1253_21/2021-06-12/sglx/wav_mic.wav', 'mda_raw': '/experiment/tmp/s_b1253_21/sglx/msort/2021-06-12/raw.mda', 'bin_raw': '/experiment/tmp/s_b1253_21/sglx/ksort/2021-06-12/2/raw.bin'}}\n",
      "2021-12-03 14:49:35,985 root         INFO     found epochs: ['1132_g0', '1631_g0', '714_g0']\n",
      "2021-12-03 14:49:35,986 ceciestunepipe.util.spikeextractors.preprocess INFO     PREPROCESSING sess 2021-06-12 | epoch 1132_g0\n",
      "2021-12-03 14:49:35,987 ceciestunepipe.util.spikeextractors.preprocess INFO     getting extractors\n",
      "2021-12-03 14:49:36,096 ceciestunepipe.util.spikeextractors.preprocess INFO     Getting microphone channel(s) ['microphone_0']\n",
      "2021-12-03 14:49:36,097 ceciestunepipe.util.wavutil INFO     sampling rate 20000\n",
      "2021-12-03 14:49:36,098 ceciestunepipe.util.wavutil INFO     saving (1, 110332786)-shaped array as wav in /mnt/sphere/speech_bci/derived_data/s_b1253_21/2021-06-12/sglx/1132_g0/wav_mic.wav\n",
      "2021-12-03 14:49:50,087 ceciestunepipe.util.wavutil INFO     saving (1, 110332786)-shaped array as npy in /mnt/sphere/speech_bci/derived_data/s_b1253_21/2021-06-12/sglx/1132_g0/wav_mic.npy\n",
      "2021-12-03 14:49:55,376 ceciestunepipe.util.spikeextractors.preprocess INFO     Getting stimulus channel(s) ['wav_stim', 'wav_syn']\n",
      "<ipython-input-42-745b24e6b90f>:17: UserWarning: Error in epoch 1132_g0\n",
      "  warnings.warn('Error in epoch {}'.format(epoch), UserWarning)\n",
      "2021-12-03 14:49:55,377 root         INFO     <function format_exc at 0x7f2927067430>\n",
      "2021-12-03 14:49:55,378 root         INFO     invalid literal for int() with base 10: ''\n",
      "2021-12-03 14:49:55,380 root         INFO     Session 2021-06-12 epoch 1132_g0 could not be preprocessed\n",
      "2021-12-03 14:49:55,421 ceciestunepipe.util.spikeextractors.preprocess INFO     PREPROCESSING sess 2021-06-12 | epoch 1631_g0\n",
      "2021-12-03 14:49:55,422 ceciestunepipe.util.spikeextractors.preprocess INFO     getting extractors\n",
      "2021-12-03 14:49:55,550 ceciestunepipe.util.spikeextractors.preprocess INFO     Getting microphone channel(s) ['microphone_0']\n",
      "2021-12-03 14:49:55,551 ceciestunepipe.util.wavutil INFO     sampling rate 20000\n",
      "2021-12-03 14:49:55,552 ceciestunepipe.util.wavutil INFO     saving (1, 276178281)-shaped array as wav in /mnt/sphere/speech_bci/derived_data/s_b1253_21/2021-06-12/sglx/1631_g0/wav_mic.wav\n",
      "2021-12-03 14:50:29,802 ceciestunepipe.util.wavutil INFO     saving (1, 276178281)-shaped array as npy in /mnt/sphere/speech_bci/derived_data/s_b1253_21/2021-06-12/sglx/1631_g0/wav_mic.npy\n",
      "2021-12-03 14:50:42,977 ceciestunepipe.util.spikeextractors.preprocess INFO     Getting stimulus channel(s) ['wav_stim', 'wav_syn']\n",
      "<ipython-input-42-745b24e6b90f>:17: UserWarning: Error in epoch 1631_g0\n",
      "  warnings.warn('Error in epoch {}'.format(epoch), UserWarning)\n",
      "2021-12-03 14:50:42,978 root         INFO     <function format_exc at 0x7f2927067430>\n",
      "2021-12-03 14:50:42,979 root         INFO     invalid literal for int() with base 10: ''\n",
      "2021-12-03 14:50:42,980 root         INFO     Session 2021-06-12 epoch 1631_g0 could not be preprocessed\n",
      "2021-12-03 14:50:43,078 ceciestunepipe.util.spikeextractors.preprocess INFO     PREPROCESSING sess 2021-06-12 | epoch 714_g0\n",
      "2021-12-03 14:50:43,078 ceciestunepipe.util.spikeextractors.preprocess INFO     getting extractors\n",
      "2021-12-03 14:50:43,176 ceciestunepipe.util.spikeextractors.preprocess INFO     Getting microphone channel(s) ['microphone_0']\n",
      "2021-12-03 14:50:43,177 ceciestunepipe.util.wavutil INFO     sampling rate 20000\n",
      "2021-12-03 14:50:43,178 ceciestunepipe.util.wavutil INFO     saving (1, 309897239)-shaped array as wav in /mnt/sphere/speech_bci/derived_data/s_b1253_21/2021-06-12/sglx/714_g0/wav_mic.wav\n",
      "2021-12-03 14:51:21,955 ceciestunepipe.util.wavutil INFO     saving (1, 309897239)-shaped array as npy in /mnt/sphere/speech_bci/derived_data/s_b1253_21/2021-06-12/sglx/714_g0/wav_mic.npy\n",
      "2021-12-03 14:51:36,698 ceciestunepipe.util.spikeextractors.preprocess INFO     Getting stimulus channel(s) ['wav_stim', 'wav_syn']\n",
      "<ipython-input-42-745b24e6b90f>:17: UserWarning: Error in epoch 714_g0\n",
      "  warnings.warn('Error in epoch {}'.format(epoch), UserWarning)\n",
      "2021-12-03 14:51:36,699 root         INFO     <function format_exc at 0x7f2927067430>\n",
      "2021-12-03 14:51:36,700 root         INFO     invalid literal for int() with base 10: ''\n",
      "2021-12-03 14:51:36,701 root         INFO     Session 2021-06-12 epoch 714_g0 could not be preprocessed\n",
      "2021-12-03 14:51:36,800 root         INFO     pre-process all runs of sess 2021-06-13\n",
      "2021-12-03 14:51:36,802 ceciestunepipe.file.bcistructure INFO     {'folders': {'bird': '/mnt/sphere/speech_bci/raw_data/s_b1253_21', 'raw': '/mnt/sphere/speech_bci/raw_data/s_b1253_21/2021-06-13', 'sglx': '/mnt/sphere/speech_bci/raw_data/s_b1253_21/2021-06-13/sglx', 'kwik': '/experiment/s_b1253_21/sglx/kwik/2021-06-13', 'processed': '/mnt/sphere/speech_bci/processed_data/s_b1253_21/2021-06-13/sglx', 'derived': '/mnt/sphere/speech_bci/derived_data/s_b1253_21/2021-06-13/sglx', 'tmp': '/experiment/tmp/tmp', 'msort': '/experiment/tmp/s_b1253_21/sglx/msort/2021-06-13', 'ksort': '/experiment/tmp/s_b1253_21/sglx/ksort/2021-06-13/2', 'sort': '/mnt/sphere/speech_bci/derived_data/s_b1253_21/2021-06-13/sglx/2'}, 'files': {'par': '/experiment/tmp/s_b1253_21/sglx/ksort/2021-06-13/2/params.json', 'set': '/mnt/sphere/speech_bci/raw_data/s_b1253_21/2021-06-13/sglx/settings.isf', 'rig': '/mnt/sphere/speech_bci/raw_data/s_b1253_21/2021-06-13/sglx/rig.json', 'kwd': '/experiment/s_b1253_21/sglx/kwik/2021-06-13/stream.kwd', 'kwik': '/experiment/s_b1253_21/sglx/kwik/2021-06-13/sort_2/spikes.kwik', 'kwe': '/experiment/s_b1253_21/sglx/kwik/2021-06-13/events.kwe', 'dat_mic': '/mnt/sphere/speech_bci/processed_data/s_b1253_21/2021-06-13/sglx/dat_mic.mat', 'dat_ap': '/mnt/sphere/speech_bci/processed_data/s_b1253_21/2021-06-13/sglx/dat_ap.mat', 'allevents': '/mnt/sphere/speech_bci/processed_data/s_b1253_21/2021-06-13/sglx/dat_all.pkl', 'wav_mic': '/mnt/sphere/speech_bci/derived_data/s_b1253_21/2021-06-13/sglx/wav_mic.wav', 'mda_raw': '/experiment/tmp/s_b1253_21/sglx/msort/2021-06-13/raw.mda', 'bin_raw': '/experiment/tmp/s_b1253_21/sglx/ksort/2021-06-13/2/raw.bin'}}\n",
      "2021-12-03 14:51:36,823 root         INFO     found epochs: ['0709_g0', '1148_g0', '1227_g0', '1533_g0', '1819_g0', '2342_g0', '713_g0']\n",
      "2021-12-03 14:51:36,824 ceciestunepipe.util.spikeextractors.preprocess INFO     PREPROCESSING sess 2021-06-13 | epoch 0709_g0\n",
      "2021-12-03 14:51:36,825 ceciestunepipe.util.spikeextractors.preprocess INFO     getting extractors\n",
      "2021-12-03 14:51:36,848 ceciestunepipe.util.spikeextractors.preprocess INFO     Getting microphone channel(s) ['microphone_0']\n",
      "2021-12-03 14:51:36,849 ceciestunepipe.util.wavutil INFO     sampling rate 20000\n",
      "2021-12-03 14:51:36,850 ceciestunepipe.util.wavutil INFO     saving (1, 3147059)-shaped array as wav in /mnt/sphere/speech_bci/derived_data/s_b1253_21/2021-06-13/sglx/0709_g0/wav_mic.wav\n",
      "2021-12-03 14:51:36,972 ceciestunepipe.util.wavutil INFO     saving (1, 3147059)-shaped array as npy in /mnt/sphere/speech_bci/derived_data/s_b1253_21/2021-06-13/sglx/0709_g0/wav_mic.npy\n",
      "2021-12-03 14:51:37,134 ceciestunepipe.util.spikeextractors.preprocess INFO     Getting stimulus channel(s) ['wav_stim', 'wav_syn']\n",
      "2021-12-03 14:51:37,135 ceciestunepipe.util.wavutil INFO     sampling rate 20000\n",
      "2021-12-03 14:51:37,136 ceciestunepipe.util.wavutil INFO     saving (2, 3147059)-shaped array as wav in /mnt/sphere/speech_bci/derived_data/s_b1253_21/2021-06-13/sglx/0709_g0/wav_stim.wav\n",
      "2021-12-03 14:51:37,293 ceciestunepipe.util.wavutil INFO     saving (2, 3147059)-shaped array as npy in /mnt/sphere/speech_bci/derived_data/s_b1253_21/2021-06-13/sglx/0709_g0/wav_stim.npy\n",
      "2021-12-03 14:51:37,604 ceciestunepipe.util.spikeextractors.preprocess INFO     Getting sync channel(s) ['sync']\n",
      "2021-12-03 14:51:37,605 ceciestunepipe.util.spikeextractors.extractors.spikeglxrecordingextractor.spikeglxrecordingextractor INFO     getting ttl traces, chan range(0, 7)\n",
      "2021-12-03 14:51:38,554 ceciestunepipe.util.wavutil INFO     sampling rate 20000\n",
      "2021-12-03 14:51:38,555 ceciestunepipe.util.wavutil INFO     saving (1, 3147059)-shaped array as wav in /mnt/sphere/speech_bci/derived_data/s_b1253_21/2021-06-13/sglx/0709_g0/wav_sync.wav\n",
      "2021-12-03 14:51:38,619 ceciestunepipe.util.wavutil INFO     saving (1, 3147059)-shaped array as npy in /mnt/sphere/speech_bci/derived_data/s_b1253_21/2021-06-13/sglx/0709_g0/wav_sync.npy\n",
      "2021-12-03 14:51:38,686 ceciestunepipe.util.spikeextractors.preprocess INFO     Getting sync events from the wav sync channel\n",
      "2021-12-03 14:51:38,710 ceciestunepipe.util.spikeextractors.preprocess INFO     saving sync events of the wav channel to /mnt/sphere/speech_bci/derived_data/s_b1253_21/2021-06-13/sglx/0709_g0/wav_sync_evt.npy\n",
      "2021-12-03 14:51:38,713 ceciestunepipe.util.spikeextractors.preprocess INFO     saving t0 for wav channel to /mnt/sphere/speech_bci/derived_data/s_b1253_21/2021-06-13/sglx/0709_g0/wav_t0.npy\n",
      "2021-12-03 14:51:39,001 ceciestunepipe.util.spikeextractors.preprocess INFO     Will get 2 ttl signals\n",
      "2021-12-03 14:51:39,002 ceciestunepipe.util.spikeextractors.preprocess INFO     looking for signal wav_stim in the nidaq channels\n",
      "2021-12-03 14:51:39,003 ceciestunepipe.util.spikeextractors.preprocess INFO     found in chan 1\n",
      "2021-12-03 14:51:39,004 ceciestunepipe.util.spikeextractors.extractors.spikeglxrecordingextractor.spikeglxrecordingextractor INFO     getting ttl events, chan 1\n",
      "2021-12-03 14:51:39,078 ceciestunepipe.util.spikeextractors.preprocess INFO     saving (0, 2)-shaped array as npy in /mnt/sphere/speech_bci/derived_data/s_b1253_21/2021-06-13/sglx/0709_g0/wav_stim_evt.npy\n",
      "2021-12-03 14:51:39,081 ceciestunepipe.util.spikeextractors.preprocess INFO     looking for signal wav_syn in the nidaq channels\n",
      "2021-12-03 14:51:39,081 ceciestunepipe.util.spikeextractors.preprocess INFO     found in chan 2\n",
      "2021-12-03 14:51:39,082 ceciestunepipe.util.spikeextractors.extractors.spikeglxrecordingextractor.spikeglxrecordingextractor INFO     getting ttl events, chan 2\n",
      "2021-12-03 14:51:39,119 ceciestunepipe.util.spikeextractors.preprocess INFO     saving (0, 2)-shaped array as npy in /mnt/sphere/speech_bci/derived_data/s_b1253_21/2021-06-13/sglx/0709_g0/wav_syn_evt.npy\n",
      "2021-12-03 14:51:39,121 ceciestunepipe.util.spikeextractors.preprocess INFO     saving sync dict to /mnt/sphere/speech_bci/derived_data/s_b1253_21/2021-06-13/sglx/0709_g0/wav_sync_dict.pkl\n",
      "2021-12-03 14:51:39,124 ceciestunepipe.util.spikeextractors.preprocess INFO     PREPROCESSING sess 2021-06-13 | epoch 1148_g0\n",
      "2021-12-03 14:51:39,124 ceciestunepipe.util.spikeextractors.preprocess INFO     getting extractors\n",
      "<ipython-input-42-745b24e6b90f>:17: UserWarning: Error in epoch 1148_g0\n",
      "  warnings.warn('Error in epoch {}'.format(epoch), UserWarning)\n",
      "2021-12-03 14:51:39,128 root         INFO     <function format_exc at 0x7f2927067430>\n",
      "2021-12-03 14:51:39,128 root         INFO     All arrays must be of the same length\n",
      "2021-12-03 14:51:39,129 root         INFO     Session 2021-06-13 epoch 1148_g0 could not be preprocessed\n",
      "2021-12-03 14:51:39,130 ceciestunepipe.util.spikeextractors.preprocess INFO     PREPROCESSING sess 2021-06-13 | epoch 1227_g0\n",
      "2021-12-03 14:51:39,130 ceciestunepipe.util.spikeextractors.preprocess INFO     getting extractors\n",
      "2021-12-03 14:51:39,175 ceciestunepipe.util.spikeextractors.preprocess INFO     Getting microphone channel(s) ['microphone_0']\n",
      "2021-12-03 14:51:39,176 ceciestunepipe.util.wavutil INFO     sampling rate 20000\n",
      "2021-12-03 14:51:39,177 ceciestunepipe.util.wavutil INFO     saving (1, 222951146)-shaped array as wav in /mnt/sphere/speech_bci/derived_data/s_b1253_21/2021-06-13/sglx/1227_g0/wav_mic.wav\n",
      "2021-12-03 14:51:43,695 ceciestunepipe.util.wavutil INFO     saving (1, 222951146)-shaped array as npy in /mnt/sphere/speech_bci/derived_data/s_b1253_21/2021-06-13/sglx/1227_g0/wav_mic.npy\n",
      "2021-12-03 14:51:54,403 ceciestunepipe.util.spikeextractors.preprocess INFO     Getting stimulus channel(s) ['wav_stim', 'wav_syn']\n",
      "2021-12-03 14:51:54,404 ceciestunepipe.util.wavutil INFO     sampling rate 20000\n",
      "2021-12-03 14:51:54,405 ceciestunepipe.util.wavutil INFO     saving (2, 222951146)-shaped array as wav in /mnt/sphere/speech_bci/derived_data/s_b1253_21/2021-06-13/sglx/1227_g0/wav_stim.wav\n",
      "2021-12-03 14:52:05,908 ceciestunepipe.util.wavutil INFO     saving (2, 222951146)-shaped array as npy in /mnt/sphere/speech_bci/derived_data/s_b1253_21/2021-06-13/sglx/1227_g0/wav_stim.npy\n",
      "2021-12-03 14:52:27,398 ceciestunepipe.util.spikeextractors.preprocess INFO     Getting sync channel(s) ['sync']\n",
      "2021-12-03 14:52:27,400 ceciestunepipe.util.spikeextractors.extractors.spikeglxrecordingextractor.spikeglxrecordingextractor INFO     getting ttl traces, chan range(0, 7)\n",
      "2021-12-03 14:52:35,979 ceciestunepipe.util.wavutil INFO     sampling rate 20000\n",
      "2021-12-03 14:52:35,980 ceciestunepipe.util.wavutil INFO     saving (1, 222951146)-shaped array as wav in /mnt/sphere/speech_bci/derived_data/s_b1253_21/2021-06-13/sglx/1227_g0/wav_sync.wav\n",
      "2021-12-03 14:52:40,202 ceciestunepipe.util.wavutil INFO     saving (1, 222951146)-shaped array as npy in /mnt/sphere/speech_bci/derived_data/s_b1253_21/2021-06-13/sglx/1227_g0/wav_sync.npy\n",
      "2021-12-03 14:52:44,389 ceciestunepipe.util.spikeextractors.preprocess INFO     Getting sync events from the wav sync channel\n",
      "2021-12-03 14:52:46,663 ceciestunepipe.util.spikeextractors.preprocess INFO     saving sync events of the wav channel to /mnt/sphere/speech_bci/derived_data/s_b1253_21/2021-06-13/sglx/1227_g0/wav_sync_evt.npy\n",
      "2021-12-03 14:52:46,706 ceciestunepipe.util.spikeextractors.preprocess INFO     saving t0 for wav channel to /mnt/sphere/speech_bci/derived_data/s_b1253_21/2021-06-13/sglx/1227_g0/wav_t0.npy\n",
      "2021-12-03 14:53:06,945 ceciestunepipe.util.spikeextractors.preprocess INFO     Will get 2 ttl signals\n",
      "2021-12-03 14:53:06,946 ceciestunepipe.util.spikeextractors.preprocess INFO     looking for signal wav_stim in the nidaq channels\n",
      "2021-12-03 14:53:06,946 ceciestunepipe.util.spikeextractors.preprocess INFO     found in chan 1\n",
      "2021-12-03 14:53:06,947 ceciestunepipe.util.spikeextractors.extractors.spikeglxrecordingextractor.spikeglxrecordingextractor INFO     getting ttl events, chan 1\n",
      "2021-12-03 14:53:10,851 ceciestunepipe.util.spikeextractors.preprocess INFO     saving (0, 2)-shaped array as npy in /mnt/sphere/speech_bci/derived_data/s_b1253_21/2021-06-13/sglx/1227_g0/wav_stim_evt.npy\n",
      "2021-12-03 14:53:10,908 ceciestunepipe.util.spikeextractors.preprocess INFO     looking for signal wav_syn in the nidaq channels\n",
      "2021-12-03 14:53:10,909 ceciestunepipe.util.spikeextractors.preprocess INFO     found in chan 2\n",
      "2021-12-03 14:53:10,910 ceciestunepipe.util.spikeextractors.extractors.spikeglxrecordingextractor.spikeglxrecordingextractor INFO     getting ttl events, chan 2\n",
      "2021-12-03 14:53:13,563 ceciestunepipe.util.spikeextractors.preprocess INFO     saving (0, 2)-shaped array as npy in /mnt/sphere/speech_bci/derived_data/s_b1253_21/2021-06-13/sglx/1227_g0/wav_syn_evt.npy\n",
      "2021-12-03 14:53:13,580 ceciestunepipe.util.spikeextractors.preprocess INFO     saving sync dict to /mnt/sphere/speech_bci/derived_data/s_b1253_21/2021-06-13/sglx/1227_g0/wav_sync_dict.pkl\n",
      "2021-12-03 14:53:13,594 ceciestunepipe.util.spikeextractors.preprocess INFO     PREPROCESSING sess 2021-06-13 | epoch 1533_g0\n",
      "2021-12-03 14:53:13,595 ceciestunepipe.util.spikeextractors.preprocess INFO     getting extractors\n",
      "<ipython-input-42-745b24e6b90f>:17: UserWarning: Error in epoch 1533_g0\n",
      "  warnings.warn('Error in epoch {}'.format(epoch), UserWarning)\n",
      "2021-12-03 14:53:13,737 root         INFO     <function format_exc at 0x7f2927067430>\n",
      "2021-12-03 14:53:13,738 root         INFO     'fileSizeBytes'\n",
      "2021-12-03 14:53:13,739 root         INFO     Session 2021-06-13 epoch 1533_g0 could not be preprocessed\n",
      "2021-12-03 14:53:13,740 ceciestunepipe.util.spikeextractors.preprocess INFO     PREPROCESSING sess 2021-06-13 | epoch 1819_g0\n",
      "2021-12-03 14:53:13,741 ceciestunepipe.util.spikeextractors.preprocess INFO     getting extractors\n",
      "2021-12-03 14:53:13,844 ceciestunepipe.util.spikeextractors.preprocess INFO     Getting microphone channel(s) ['microphone_0']\n",
      "2021-12-03 14:53:13,845 ceciestunepipe.util.wavutil INFO     sampling rate 20000\n",
      "2021-12-03 14:53:13,846 ceciestunepipe.util.wavutil INFO     saving (1, 184594559)-shaped array as wav in /mnt/sphere/speech_bci/derived_data/s_b1253_21/2021-06-13/sglx/1819_g0/wav_mic.wav\n",
      "2021-12-03 14:53:36,814 ceciestunepipe.util.wavutil INFO     saving (1, 184594559)-shaped array as npy in /mnt/sphere/speech_bci/derived_data/s_b1253_21/2021-06-13/sglx/1819_g0/wav_mic.npy\n",
      "2021-12-03 14:53:46,125 ceciestunepipe.util.spikeextractors.preprocess INFO     Getting stimulus channel(s) ['wav_stim', 'wav_syn']\n",
      "2021-12-03 14:53:46,126 ceciestunepipe.util.wavutil INFO     sampling rate 20000\n",
      "2021-12-03 14:53:46,127 ceciestunepipe.util.wavutil INFO     saving (2, 184594559)-shaped array as wav in /mnt/sphere/speech_bci/derived_data/s_b1253_21/2021-06-13/sglx/1819_g0/wav_stim.wav\n",
      "2021-12-03 14:53:54,765 ceciestunepipe.util.wavutil INFO     saving (2, 184594559)-shaped array as npy in /mnt/sphere/speech_bci/derived_data/s_b1253_21/2021-06-13/sglx/1819_g0/wav_stim.npy\n",
      "2021-12-03 14:54:12,339 ceciestunepipe.util.spikeextractors.preprocess INFO     Getting sync channel(s) ['sync']\n",
      "2021-12-03 14:54:12,340 ceciestunepipe.util.spikeextractors.extractors.spikeglxrecordingextractor.spikeglxrecordingextractor INFO     getting ttl traces, chan range(0, 7)\n",
      "2021-12-03 14:54:16,124 ceciestunepipe.util.wavutil INFO     sampling rate 20000\n",
      "2021-12-03 14:54:16,124 ceciestunepipe.util.wavutil INFO     saving (1, 184594559)-shaped array as wav in /mnt/sphere/speech_bci/derived_data/s_b1253_21/2021-06-13/sglx/1819_g0/wav_sync.wav\n",
      "2021-12-03 14:54:19,579 ceciestunepipe.util.wavutil INFO     saving (1, 184594559)-shaped array as npy in /mnt/sphere/speech_bci/derived_data/s_b1253_21/2021-06-13/sglx/1819_g0/wav_sync.npy\n",
      "2021-12-03 14:54:23,052 ceciestunepipe.util.spikeextractors.preprocess INFO     Getting sync events from the wav sync channel\n",
      "2021-12-03 14:54:24,253 ceciestunepipe.util.spikeextractors.preprocess INFO     saving sync events of the wav channel to /mnt/sphere/speech_bci/derived_data/s_b1253_21/2021-06-13/sglx/1819_g0/wav_sync_evt.npy\n",
      "2021-12-03 14:54:24,277 ceciestunepipe.util.spikeextractors.preprocess INFO     saving t0 for wav channel to /mnt/sphere/speech_bci/derived_data/s_b1253_21/2021-06-13/sglx/1819_g0/wav_t0.npy\n",
      "2021-12-03 14:54:42,691 ceciestunepipe.util.spikeextractors.preprocess INFO     Will get 2 ttl signals\n",
      "2021-12-03 14:54:42,692 ceciestunepipe.util.spikeextractors.preprocess INFO     looking for signal wav_stim in the nidaq channels\n",
      "2021-12-03 14:54:42,693 ceciestunepipe.util.spikeextractors.preprocess INFO     found in chan 1\n",
      "2021-12-03 14:54:42,694 ceciestunepipe.util.spikeextractors.extractors.spikeglxrecordingextractor.spikeglxrecordingextractor INFO     getting ttl events, chan 1\n",
      "2021-12-03 14:54:46,504 ceciestunepipe.util.spikeextractors.preprocess INFO     saving (4, 2)-shaped array as npy in /mnt/sphere/speech_bci/derived_data/s_b1253_21/2021-06-13/sglx/1819_g0/wav_stim_evt.npy\n",
      "2021-12-03 14:54:46,565 ceciestunepipe.util.spikeextractors.preprocess INFO     looking for signal wav_syn in the nidaq channels\n",
      "2021-12-03 14:54:46,566 ceciestunepipe.util.spikeextractors.preprocess INFO     found in chan 2\n",
      "2021-12-03 14:54:46,567 ceciestunepipe.util.spikeextractors.extractors.spikeglxrecordingextractor.spikeglxrecordingextractor INFO     getting ttl events, chan 2\n",
      "2021-12-03 14:54:48,727 ceciestunepipe.util.spikeextractors.preprocess INFO     saving (0, 2)-shaped array as npy in /mnt/sphere/speech_bci/derived_data/s_b1253_21/2021-06-13/sglx/1819_g0/wav_syn_evt.npy\n",
      "2021-12-03 14:54:48,744 ceciestunepipe.util.spikeextractors.preprocess INFO     saving sync dict to /mnt/sphere/speech_bci/derived_data/s_b1253_21/2021-06-13/sglx/1819_g0/wav_sync_dict.pkl\n",
      "2021-12-03 14:54:48,765 ceciestunepipe.util.spikeextractors.preprocess INFO     PREPROCESSING sess 2021-06-13 | epoch 2342_g0\n",
      "2021-12-03 14:54:48,766 ceciestunepipe.util.spikeextractors.preprocess INFO     getting extractors\n",
      "2021-12-03 14:54:48,879 ceciestunepipe.util.spikeextractors.preprocess INFO     Getting microphone channel(s) ['microphone_0']\n",
      "2021-12-03 14:54:48,880 ceciestunepipe.util.wavutil INFO     sampling rate 20000\n",
      "2021-12-03 14:54:48,881 ceciestunepipe.util.wavutil INFO     saving (1, 374284700)-shaped array as wav in /mnt/sphere/speech_bci/derived_data/s_b1253_21/2021-06-13/sglx/2342_g0/wav_mic.wav\n",
      "2021-12-03 14:54:56,482 ceciestunepipe.util.wavutil INFO     saving (1, 374284700)-shaped array as npy in /mnt/sphere/speech_bci/derived_data/s_b1253_21/2021-06-13/sglx/2342_g0/wav_mic.npy\n",
      "2021-12-03 14:55:14,320 ceciestunepipe.util.spikeextractors.preprocess INFO     Getting stimulus channel(s) ['wav_stim', 'wav_syn']\n",
      "2021-12-03 14:55:14,321 ceciestunepipe.util.wavutil INFO     sampling rate 20000\n",
      "2021-12-03 14:55:14,322 ceciestunepipe.util.wavutil INFO     saving (2, 374284700)-shaped array as wav in /mnt/sphere/speech_bci/derived_data/s_b1253_21/2021-06-13/sglx/2342_g0/wav_stim.wav\n",
      "2021-12-03 14:55:31,972 ceciestunepipe.util.wavutil INFO     saving (2, 374284700)-shaped array as npy in /mnt/sphere/speech_bci/derived_data/s_b1253_21/2021-06-13/sglx/2342_g0/wav_stim.npy\n",
      "2021-12-03 14:56:07,453 ceciestunepipe.util.spikeextractors.preprocess INFO     Getting sync channel(s) ['sync']\n",
      "2021-12-03 14:56:07,454 ceciestunepipe.util.spikeextractors.extractors.spikeglxrecordingextractor.spikeglxrecordingextractor INFO     getting ttl traces, chan range(0, 7)\n",
      "2021-12-03 14:56:15,936 ceciestunepipe.util.wavutil INFO     sampling rate 20000\n",
      "2021-12-03 14:56:15,937 ceciestunepipe.util.wavutil INFO     saving (1, 374284700)-shaped array as wav in /mnt/sphere/speech_bci/derived_data/s_b1253_21/2021-06-13/sglx/2342_g0/wav_sync.wav\n",
      "2021-12-03 14:56:22,839 ceciestunepipe.util.wavutil INFO     saving (1, 374284700)-shaped array as npy in /mnt/sphere/speech_bci/derived_data/s_b1253_21/2021-06-13/sglx/2342_g0/wav_sync.npy\n",
      "2021-12-03 14:56:29,789 ceciestunepipe.util.spikeextractors.preprocess INFO     Getting sync events from the wav sync channel\n",
      "2021-12-03 14:56:32,103 ceciestunepipe.util.spikeextractors.preprocess INFO     saving sync events of the wav channel to /mnt/sphere/speech_bci/derived_data/s_b1253_21/2021-06-13/sglx/2342_g0/wav_sync_evt.npy\n",
      "2021-12-03 14:56:32,114 ceciestunepipe.util.spikeextractors.preprocess INFO     saving t0 for wav channel to /mnt/sphere/speech_bci/derived_data/s_b1253_21/2021-06-13/sglx/2342_g0/wav_t0.npy\n",
      "2021-12-03 14:57:03,316 ceciestunepipe.util.spikeextractors.preprocess INFO     Will get 2 ttl signals\n",
      "2021-12-03 14:57:03,317 ceciestunepipe.util.spikeextractors.preprocess INFO     looking for signal wav_stim in the nidaq channels\n",
      "2021-12-03 14:57:03,317 ceciestunepipe.util.spikeextractors.preprocess INFO     found in chan 1\n",
      "2021-12-03 14:57:03,318 ceciestunepipe.util.spikeextractors.extractors.spikeglxrecordingextractor.spikeglxrecordingextractor INFO     getting ttl events, chan 1\n",
      "2021-12-03 14:57:08,154 ceciestunepipe.util.spikeextractors.preprocess INFO     saving (0, 2)-shaped array as npy in /mnt/sphere/speech_bci/derived_data/s_b1253_21/2021-06-13/sglx/2342_g0/wav_stim_evt.npy\n",
      "2021-12-03 14:57:08,157 ceciestunepipe.util.spikeextractors.preprocess INFO     looking for signal wav_syn in the nidaq channels\n",
      "2021-12-03 14:57:08,158 ceciestunepipe.util.spikeextractors.preprocess INFO     found in chan 2\n",
      "2021-12-03 14:57:08,159 ceciestunepipe.util.spikeextractors.extractors.spikeglxrecordingextractor.spikeglxrecordingextractor INFO     getting ttl events, chan 2\n",
      "2021-12-03 14:57:12,606 ceciestunepipe.util.spikeextractors.preprocess INFO     saving (660, 2)-shaped array as npy in /mnt/sphere/speech_bci/derived_data/s_b1253_21/2021-06-13/sglx/2342_g0/wav_syn_evt.npy\n",
      "2021-12-03 14:57:12,611 ceciestunepipe.util.spikeextractors.preprocess INFO     saving sync dict to /mnt/sphere/speech_bci/derived_data/s_b1253_21/2021-06-13/sglx/2342_g0/wav_sync_dict.pkl\n",
      "2021-12-03 14:57:12,617 ceciestunepipe.util.spikeextractors.preprocess INFO     PREPROCESSING sess 2021-06-13 | epoch 713_g0\n",
      "2021-12-03 14:57:12,618 ceciestunepipe.util.spikeextractors.preprocess INFO     getting extractors\n",
      "2021-12-03 14:57:12,799 ceciestunepipe.util.spikeextractors.preprocess INFO     Getting microphone channel(s) ['microphone_0']\n",
      "2021-12-03 14:57:12,800 ceciestunepipe.util.wavutil INFO     sampling rate 20000\n",
      "2021-12-03 14:57:12,801 ceciestunepipe.util.wavutil INFO     saving (1, 376432983)-shaped array as wav in /mnt/sphere/speech_bci/derived_data/s_b1253_21/2021-06-13/sglx/713_g0/wav_mic.wav\n",
      "2021-12-03 14:57:59,482 ceciestunepipe.util.wavutil INFO     saving (1, 376432983)-shaped array as npy in /mnt/sphere/speech_bci/derived_data/s_b1253_21/2021-06-13/sglx/713_g0/wav_mic.npy\n",
      "2021-12-03 14:58:17,614 ceciestunepipe.util.spikeextractors.preprocess INFO     Getting stimulus channel(s) ['wav_stim', 'wav_syn']\n",
      "2021-12-03 14:58:17,616 ceciestunepipe.util.wavutil INFO     sampling rate 20000\n",
      "2021-12-03 14:58:17,616 ceciestunepipe.util.wavutil INFO     saving (2, 376432983)-shaped array as wav in /mnt/sphere/speech_bci/derived_data/s_b1253_21/2021-06-13/sglx/713_g0/wav_stim.wav\n",
      "2021-12-03 14:58:35,211 ceciestunepipe.util.wavutil INFO     saving (2, 376432983)-shaped array as npy in /mnt/sphere/speech_bci/derived_data/s_b1253_21/2021-06-13/sglx/713_g0/wav_stim.npy\n",
      "2021-12-03 14:59:10,835 ceciestunepipe.util.spikeextractors.preprocess INFO     Getting sync channel(s) ['sync']\n",
      "2021-12-03 14:59:10,836 ceciestunepipe.util.spikeextractors.extractors.spikeglxrecordingextractor.spikeglxrecordingextractor INFO     getting ttl traces, chan range(0, 7)\n",
      "2021-12-03 14:59:23,622 ceciestunepipe.util.wavutil INFO     sampling rate 20000\n",
      "2021-12-03 14:59:23,623 ceciestunepipe.util.wavutil INFO     saving (1, 376432983)-shaped array as wav in /mnt/sphere/speech_bci/derived_data/s_b1253_21/2021-06-13/sglx/713_g0/wav_sync.wav\n",
      "2021-12-03 14:59:30,632 ceciestunepipe.util.wavutil INFO     saving (1, 376432983)-shaped array as npy in /mnt/sphere/speech_bci/derived_data/s_b1253_21/2021-06-13/sglx/713_g0/wav_sync.npy\n",
      "2021-12-03 14:59:37,622 ceciestunepipe.util.spikeextractors.preprocess INFO     Getting sync events from the wav sync channel\n",
      "2021-12-03 14:59:42,120 ceciestunepipe.util.spikeextractors.preprocess INFO     saving sync events of the wav channel to /mnt/sphere/speech_bci/derived_data/s_b1253_21/2021-06-13/sglx/713_g0/wav_sync_evt.npy\n",
      "2021-12-03 14:59:42,153 ceciestunepipe.util.spikeextractors.preprocess INFO     saving t0 for wav channel to /mnt/sphere/speech_bci/derived_data/s_b1253_21/2021-06-13/sglx/713_g0/wav_t0.npy\n",
      "2021-12-03 15:00:18,247 ceciestunepipe.util.spikeextractors.preprocess INFO     Will get 2 ttl signals\n",
      "2021-12-03 15:00:18,248 ceciestunepipe.util.spikeextractors.preprocess INFO     looking for signal wav_stim in the nidaq channels\n",
      "2021-12-03 15:00:18,248 ceciestunepipe.util.spikeextractors.preprocess INFO     found in chan 1\n",
      "2021-12-03 15:00:18,249 ceciestunepipe.util.spikeextractors.extractors.spikeglxrecordingextractor.spikeglxrecordingextractor INFO     getting ttl events, chan 1\n",
      "2021-12-03 15:00:26,690 ceciestunepipe.util.spikeextractors.preprocess INFO     saving (0, 2)-shaped array as npy in /mnt/sphere/speech_bci/derived_data/s_b1253_21/2021-06-13/sglx/713_g0/wav_stim_evt.npy\n",
      "2021-12-03 15:00:26,811 ceciestunepipe.util.spikeextractors.preprocess INFO     looking for signal wav_syn in the nidaq channels\n",
      "2021-12-03 15:00:26,812 ceciestunepipe.util.spikeextractors.preprocess INFO     found in chan 2\n",
      "2021-12-03 15:00:26,813 ceciestunepipe.util.spikeextractors.extractors.spikeglxrecordingextractor.spikeglxrecordingextractor INFO     getting ttl events, chan 2\n",
      "2021-12-03 15:00:31,219 ceciestunepipe.util.spikeextractors.preprocess INFO     saving (0, 2)-shaped array as npy in /mnt/sphere/speech_bci/derived_data/s_b1253_21/2021-06-13/sglx/713_g0/wav_syn_evt.npy\n",
      "2021-12-03 15:00:31,222 ceciestunepipe.util.spikeextractors.preprocess INFO     saving sync dict to /mnt/sphere/speech_bci/derived_data/s_b1253_21/2021-06-13/sglx/713_g0/wav_sync_dict.pkl\n"
     ]
    }
   ],
   "source": [
    "all_sess_dict = {}\n",
    "\n",
    "for one_sess in sess_list[:]:\n",
    "    sess_par['sess'] = one_sess\n",
    "    preprocess_session(sess_par)"
   ]
  },
  {
   "cell_type": "code",
   "execution_count": 15,
   "metadata": {},
   "outputs": [
    {
     "data": {
      "text/plain": [
       "{'bird': 's_b1253_21',\n",
       " 'sess': '2021-07-18',\n",
       " 'probes': ['probe_0'],\n",
       " 'mic_list': ['microphone_0'],\n",
       " 'sort': 2}"
      ]
     },
     "execution_count": 15,
     "metadata": {},
     "output_type": "execute_result"
    }
   ],
   "source": [
    "sess_par"
   ]
  },
  {
   "cell_type": "code",
   "execution_count": 16,
   "metadata": {},
   "outputs": [],
   "source": [
    "# Search bouts"
   ]
  },
  {
   "cell_type": "markdown",
   "metadata": {},
   "source": [
    "## search bouts for those sessions"
   ]
  },
  {
   "cell_type": "code",
   "execution_count": 45,
   "metadata": {},
   "outputs": [],
   "source": [
    "from ceciestunepipe.util.sound import boutsearch as bs\n",
    "from ceciestunepipe.util import wavutil as wu\n",
    "\n",
    "from joblib import Parallel, delayed\n",
    "import pickle\n",
    "import sys"
   ]
  },
  {
   "cell_type": "code",
   "execution_count": 46,
   "metadata": {},
   "outputs": [],
   "source": [
    "def sess_file_id(f_path):\n",
    "    n = int(os.path.split(f_path)[1].split('-')[-1].split('.wav')[0])\n",
    "    return n\n",
    "\n",
    "\n",
    "def get_all_day_bouts(sess_par: dict, hparams:dict, n_jobs: int=12, ephys_software='sglx', \n",
    "                     parallel=True) -> pd.DataFrame:\n",
    "    \n",
    "    logger.info('Will search for bouts through all session {}, {}'.format(sess_par['bird'], sess_par['sess']))\n",
    "    exp_struct = et.get_exp_struct(sess_par['bird'], sess_par['sess'], ephys_software=ephys_software)\n",
    "\n",
    "    # get all the paths to the wav files of the epochs of the day   \n",
    "    source_folder = exp_struct['folders']['derived']\n",
    "    wav_path_list = et.get_sgl_files_epochs(source_folder, file_filter='*wav_mic.wav')\n",
    "    wav_path_list.sort()\n",
    "    logger.info('Found {} files'.format(len(wav_path_list)))\n",
    "    print(wav_path_list)\n",
    "    \n",
    "    get_file_bouts = lambda path: bs.get_epoch_bouts(path, hparams)\n",
    "    # Go parallel through all the paths in the day, get a list of all the pandas dataframes for each file\n",
    "    if parallel:\n",
    "        sess_pd_list = Parallel(n_jobs=n_jobs, verbose=100, prefer='threads')(delayed(get_file_bouts)(i) for i in wav_path_list)\n",
    "    else:\n",
    "        sess_pd_list = [get_file_bouts(i) for i in wav_path_list]\n",
    "    \n",
    "    #concatenate the file and return it, eventually write to a pickle\n",
    "    sess_bout_pd = pd.concat(sess_pd_list)\n",
    "    return sess_bout_pd\n",
    "\n",
    "def save_auto_bouts(sess_bout_pd, sess_par, hparams):\n",
    "    exp_struct = et.get_exp_struct(sess_par['bird'], sess_par['sess'], ephys_software='bouts_sglx')\n",
    "    #sess_bouts_dir = os.path.join(exp_struct['folders']['derived'], 'bouts_ceciestunepipe')\n",
    "    sess_bouts_dir = exp_struct['folders']['derived']\n",
    "\n",
    "    sess_bouts_path = os.path.join(sess_bouts_dir, hparams['bout_auto_file'])\n",
    "    hparams_pickle_path = os.path.join(sess_bouts_dir, 'bout_search_params.pickle')\n",
    "\n",
    "    os.makedirs(sess_bouts_dir, exist_ok=True)\n",
    "    logger.info('saving bouts pandas to ' + sess_bouts_path)\n",
    "    sess_bout_pd.to_pickle(sess_bouts_path)\n",
    "\n",
    "    logger.info('saving bout detect parameters dict to ' + hparams_pickle_path)\n",
    "    with open(hparams_pickle_path, 'wb') as fh:\n",
    "        pickle.dump(hparams, fh)"
   ]
  },
  {
   "cell_type": "code",
   "execution_count": 47,
   "metadata": {},
   "outputs": [],
   "source": [
    "hparams = {\n",
    "    # spectrogram\n",
    "    'num_freq':1024, #1024# how many channels to use in a spectrogram #\n",
    "    'preemphasis':0.97, \n",
    "    'frame_shift_ms':5, # step size for fft\n",
    "    'frame_length_ms':10, #128 # frame length for fft FRAME SAMPLES < NUM_FREQ!!!\n",
    "    'min_level_db':-55, # minimum threshold db for computing spe \n",
    "    'ref_level_db':110, # reference db for computing spec\n",
    "    #'sample_rate':None, # sample rate of your data\n",
    "    \n",
    "    # spectrograms\n",
    "    'mel_filter': False, # should a mel filter be used?\n",
    "    'num_mels':1024, # how many channels to use in the mel-spectrogram\n",
    "    'fmin': 500, # low frequency cutoff for mel filter\n",
    "    'fmax': 12000, # high frequency cutoff for mel filter\n",
    "    \n",
    "    # spectrogram inversion\n",
    "    'max_iters':200,\n",
    "    'griffin_lim_iters':20,\n",
    "    'power':1.5,\n",
    "\n",
    "    # Added for the searching\n",
    "    'read_wav_fun': wu.read_wav_chan, # function for loading the wav_like_stream (has to returns fs, ndarray)\n",
    "    'file_order_fun': sess_file_id, # function for extracting the file id within the session\n",
    "    'min_segment': 30, # Minimum length of supra_threshold to consider a 'syllable' (ms)\n",
    "    'min_silence': 2000, # Minmum distance between groups of syllables to consider separate bouts (ms)\n",
    "    'min_bout': 5000, # min bout duration (ms)\n",
    "    'peak_thresh_rms': 0.55, # threshold (rms) for peak acceptance,\n",
    "    'thresh_rms': 0.25, # threshold for detection of syllables\n",
    "    'mean_syl_rms_thresh': 0.3, #threshold for acceptance of mean rms across the syllable (relative to rms of the file)\n",
    "    'max_bout': 120000, #exclude bouts too long\n",
    "    'l_p_r_thresh': 100, # threshold for n of len_ms/peaks (typycally about 2-3 syllable spans\n",
    "    \n",
    "    'waveform_edges': 1000, #get number of ms before and after the edges of the bout for the waveform sample\n",
    "    \n",
    "    'bout_auto_file': 'bout_auto.pickle', # extension for saving the auto found files\n",
    "    'bout_curated_file': 'bout_checked.pickle', #extension for manually curated files (coming soon)\n",
    "    }"
   ]
  },
  {
   "cell_type": "code",
   "execution_count": 48,
   "metadata": {
    "tags": []
   },
   "outputs": [
    {
     "name": "stderr",
     "output_type": "stream",
     "text": [
      "2021-12-03 16:54:27,329 root         INFO     Will search for bouts through all session s_b1253_21, 2021-06-12\n",
      "2021-12-03 16:54:27,615 root         INFO     Found 3 files\n",
      "2021-12-03 16:54:27,616 ceciestunepipe.util.sound.boutsearch INFO     Getting bouts for long file /mnt/sphere/speech_bci/derived_data/s_b1253_21/2021-06-12/sglx/1132_g0/wav_mic.wav\n"
     ]
    },
    {
     "name": "stdout",
     "output_type": "stream",
     "text": [
      "['/mnt/sphere/speech_bci/derived_data/s_b1253_21/2021-06-12/sglx/1132_g0/wav_mic.wav', '/mnt/sphere/speech_bci/derived_data/s_b1253_21/2021-06-12/sglx/1631_g0/wav_mic.wav', '/mnt/sphere/speech_bci/derived_data/s_b1253_21/2021-06-12/sglx/714_g0/wav_mic.wav']\n",
      "tu vieja file /mnt/sphere/speech_bci/derived_data/s_b1253_21/2021-06-12/sglx/1132_g0/wav_mic.wav\n"
     ]
    },
    {
     "name": "stderr",
     "output_type": "stream",
     "text": [
      "2021-12-03 16:54:27,699 ceciestunepipe.util.sound.boutsearch INFO     splitting file into 2 chunks\n"
     ]
    },
    {
     "data": {
      "application/vnd.jupyter.widget-view+json": {
       "model_id": "c8f38106ef344f92b826be46921212a9",
       "version_major": 2,
       "version_minor": 0
      },
      "text/plain": [
       "  0%|          | 0/2 [00:00<?, ?it/s]"
      ]
     },
     "metadata": {},
     "output_type": "display_data"
    },
    {
     "name": "stderr",
     "output_type": "stream",
     "text": [
      "2021-12-03 16:56:09,773 ceciestunepipe.util.sound.boutsearch INFO     saving bout detect parameters dict to /mnt/sphere/speech_bci/derived_data/s_b1253_21/2021-06-12/sglx/1132_g0/bout_search_params.pickle\n",
      "2021-12-03 16:56:09,841 ceciestunepipe.util.sound.boutsearch INFO     saving bouts pandas to /mnt/sphere/speech_bci/derived_data/s_b1253_21/2021-06-12/sglx/1132_g0/bout_auto.pickle\n",
      "2021-12-03 16:56:09,903 ceciestunepipe.util.sound.boutsearch INFO     Getting bouts for long file /mnt/sphere/speech_bci/derived_data/s_b1253_21/2021-06-12/sglx/1631_g0/wav_mic.wav\n"
     ]
    },
    {
     "name": "stdout",
     "output_type": "stream",
     "text": [
      "tu vieja file /mnt/sphere/speech_bci/derived_data/s_b1253_21/2021-06-12/sglx/1631_g0/wav_mic.wav\n"
     ]
    },
    {
     "name": "stderr",
     "output_type": "stream",
     "text": [
      "2021-12-03 16:56:10,022 ceciestunepipe.util.sound.boutsearch INFO     splitting file into 4 chunks\n"
     ]
    },
    {
     "data": {
      "application/vnd.jupyter.widget-view+json": {
       "model_id": "b1b20c28e6d84bebbe3d85201121660b",
       "version_major": 2,
       "version_minor": 0
      },
      "text/plain": [
       "  0%|          | 0/4 [00:00<?, ?it/s]"
      ]
     },
     "metadata": {},
     "output_type": "display_data"
    },
    {
     "name": "stderr",
     "output_type": "stream",
     "text": [
      "2021-12-03 17:01:39,870 ceciestunepipe.util.sound.boutsearch INFO     saving bout detect parameters dict to /mnt/sphere/speech_bci/derived_data/s_b1253_21/2021-06-12/sglx/1631_g0/bout_search_params.pickle\n",
      "2021-12-03 17:01:40,038 ceciestunepipe.util.sound.boutsearch INFO     saving bouts pandas to /mnt/sphere/speech_bci/derived_data/s_b1253_21/2021-06-12/sglx/1631_g0/bout_auto.pickle\n",
      "2021-12-03 17:01:40,210 ceciestunepipe.util.sound.boutsearch INFO     Getting bouts for long file /mnt/sphere/speech_bci/derived_data/s_b1253_21/2021-06-12/sglx/714_g0/wav_mic.wav\n"
     ]
    },
    {
     "name": "stdout",
     "output_type": "stream",
     "text": [
      "tu vieja file /mnt/sphere/speech_bci/derived_data/s_b1253_21/2021-06-12/sglx/714_g0/wav_mic.wav\n"
     ]
    },
    {
     "name": "stderr",
     "output_type": "stream",
     "text": [
      "2021-12-03 17:01:40,274 ceciestunepipe.util.sound.boutsearch INFO     splitting file into 4 chunks\n"
     ]
    },
    {
     "data": {
      "application/vnd.jupyter.widget-view+json": {
       "model_id": "2782d58892c24e7a88416005b9f75491",
       "version_major": 2,
       "version_minor": 0
      },
      "text/plain": [
       "  0%|          | 0/4 [00:00<?, ?it/s]"
      ]
     },
     "metadata": {},
     "output_type": "display_data"
    },
    {
     "name": "stderr",
     "output_type": "stream",
     "text": [
      "2021-12-03 17:07:15,074 ceciestunepipe.util.sound.boutsearch INFO     saving bout detect parameters dict to /mnt/sphere/speech_bci/derived_data/s_b1253_21/2021-06-12/sglx/714_g0/bout_search_params.pickle\n",
      "2021-12-03 17:07:15,202 ceciestunepipe.util.sound.boutsearch INFO     saving bouts pandas to /mnt/sphere/speech_bci/derived_data/s_b1253_21/2021-06-12/sglx/714_g0/bout_auto.pickle\n",
      "2021-12-03 17:07:15,660 root         INFO     saving bouts pandas to /mnt/sphere/speech_bci/derived_data/s_b1253_21/2021-06-12/bouts_sglx/bout_auto.pickle\n",
      "2021-12-03 17:07:16,285 root         INFO     saving bout detect parameters dict to /mnt/sphere/speech_bci/derived_data/s_b1253_21/2021-06-12/bouts_sglx/bout_search_params.pickle\n",
      "2021-12-03 17:07:16,288 root         INFO     Will search for bouts through all session s_b1253_21, 2021-06-13\n",
      "2021-12-03 17:07:16,760 root         INFO     Found 5 files\n",
      "2021-12-03 17:07:16,761 ceciestunepipe.util.sound.boutsearch INFO     Getting bouts for long file /mnt/sphere/speech_bci/derived_data/s_b1253_21/2021-06-13/sglx/0709_g0/wav_mic.wav\n"
     ]
    },
    {
     "name": "stdout",
     "output_type": "stream",
     "text": [
      "['/mnt/sphere/speech_bci/derived_data/s_b1253_21/2021-06-13/sglx/0709_g0/wav_mic.wav', '/mnt/sphere/speech_bci/derived_data/s_b1253_21/2021-06-13/sglx/1227_g0/wav_mic.wav', '/mnt/sphere/speech_bci/derived_data/s_b1253_21/2021-06-13/sglx/1819_g0/wav_mic.wav', '/mnt/sphere/speech_bci/derived_data/s_b1253_21/2021-06-13/sglx/2342_g0/wav_mic.wav', '/mnt/sphere/speech_bci/derived_data/s_b1253_21/2021-06-13/sglx/713_g0/wav_mic.wav']\n",
      "tu vieja file /mnt/sphere/speech_bci/derived_data/s_b1253_21/2021-06-13/sglx/0709_g0/wav_mic.wav\n"
     ]
    },
    {
     "name": "stderr",
     "output_type": "stream",
     "text": [
      "2021-12-03 17:07:16,812 ceciestunepipe.util.sound.boutsearch INFO     splitting file into 1 chunks\n"
     ]
    },
    {
     "data": {
      "application/vnd.jupyter.widget-view+json": {
       "model_id": "3c3ba655f99c48dc95502caedef7dc49",
       "version_major": 2,
       "version_minor": 0
      },
      "text/plain": [
       "  0%|          | 0/1 [00:00<?, ?it/s]"
      ]
     },
     "metadata": {},
     "output_type": "display_data"
    },
    {
     "name": "stderr",
     "output_type": "stream",
     "text": [
      "2021-12-03 17:07:19,653 ceciestunepipe.util.sound.boutsearch INFO     saving bout detect parameters dict to /mnt/sphere/speech_bci/derived_data/s_b1253_21/2021-06-13/sglx/0709_g0/bout_search_params.pickle\n",
      "2021-12-03 17:07:19,671 ceciestunepipe.util.sound.boutsearch INFO     saving bouts pandas to /mnt/sphere/speech_bci/derived_data/s_b1253_21/2021-06-13/sglx/0709_g0/bout_auto.pickle\n",
      "2021-12-03 17:07:19,708 ceciestunepipe.util.sound.boutsearch INFO     Getting bouts for long file /mnt/sphere/speech_bci/derived_data/s_b1253_21/2021-06-13/sglx/1227_g0/wav_mic.wav\n"
     ]
    },
    {
     "name": "stdout",
     "output_type": "stream",
     "text": [
      "tu vieja file /mnt/sphere/speech_bci/derived_data/s_b1253_21/2021-06-13/sglx/1227_g0/wav_mic.wav\n"
     ]
    },
    {
     "name": "stderr",
     "output_type": "stream",
     "text": [
      "2021-12-03 17:07:19,762 ceciestunepipe.util.sound.boutsearch INFO     splitting file into 3 chunks\n"
     ]
    },
    {
     "data": {
      "application/vnd.jupyter.widget-view+json": {
       "model_id": "6d4cf616407f46f1a0a82561c0b6372b",
       "version_major": 2,
       "version_minor": 0
      },
      "text/plain": [
       "  0%|          | 0/3 [00:00<?, ?it/s]"
      ]
     },
     "metadata": {},
     "output_type": "display_data"
    },
    {
     "name": "stderr",
     "output_type": "stream",
     "text": [
      "2021-12-03 17:10:29,324 ceciestunepipe.util.sound.boutsearch INFO     saving bout detect parameters dict to /mnt/sphere/speech_bci/derived_data/s_b1253_21/2021-06-13/sglx/1227_g0/bout_search_params.pickle\n",
      "2021-12-03 17:10:29,560 ceciestunepipe.util.sound.boutsearch INFO     saving bouts pandas to /mnt/sphere/speech_bci/derived_data/s_b1253_21/2021-06-13/sglx/1227_g0/bout_auto.pickle\n",
      "2021-12-03 17:10:29,853 ceciestunepipe.util.sound.boutsearch INFO     Getting bouts for long file /mnt/sphere/speech_bci/derived_data/s_b1253_21/2021-06-13/sglx/1819_g0/wav_mic.wav\n"
     ]
    },
    {
     "name": "stdout",
     "output_type": "stream",
     "text": [
      "tu vieja file /mnt/sphere/speech_bci/derived_data/s_b1253_21/2021-06-13/sglx/1819_g0/wav_mic.wav\n"
     ]
    },
    {
     "name": "stderr",
     "output_type": "stream",
     "text": [
      "2021-12-03 17:10:29,924 ceciestunepipe.util.sound.boutsearch INFO     splitting file into 3 chunks\n"
     ]
    },
    {
     "data": {
      "application/vnd.jupyter.widget-view+json": {
       "model_id": "d5715db0927a48e988bafc623bbe1262",
       "version_major": 2,
       "version_minor": 0
      },
      "text/plain": [
       "  0%|          | 0/3 [00:00<?, ?it/s]"
      ]
     },
     "metadata": {},
     "output_type": "display_data"
    },
    {
     "name": "stderr",
     "output_type": "stream",
     "text": [
      "2021-12-03 17:13:08,877 ceciestunepipe.util.sound.boutsearch INFO     saving bout detect parameters dict to /mnt/sphere/speech_bci/derived_data/s_b1253_21/2021-06-13/sglx/1819_g0/bout_search_params.pickle\n",
      "2021-12-03 17:13:09,010 ceciestunepipe.util.sound.boutsearch INFO     saving bouts pandas to /mnt/sphere/speech_bci/derived_data/s_b1253_21/2021-06-13/sglx/1819_g0/bout_auto.pickle\n",
      "2021-12-03 17:13:09,157 ceciestunepipe.util.sound.boutsearch INFO     Getting bouts for long file /mnt/sphere/speech_bci/derived_data/s_b1253_21/2021-06-13/sglx/2342_g0/wav_mic.wav\n"
     ]
    },
    {
     "name": "stdout",
     "output_type": "stream",
     "text": [
      "tu vieja file /mnt/sphere/speech_bci/derived_data/s_b1253_21/2021-06-13/sglx/2342_g0/wav_mic.wav\n"
     ]
    },
    {
     "name": "stderr",
     "output_type": "stream",
     "text": [
      "2021-12-03 17:13:09,214 ceciestunepipe.util.sound.boutsearch INFO     splitting file into 5 chunks\n"
     ]
    },
    {
     "data": {
      "application/vnd.jupyter.widget-view+json": {
       "model_id": "0f1d4af2f33e4320a7c2b438b917edad",
       "version_major": 2,
       "version_minor": 0
      },
      "text/plain": [
       "  0%|          | 0/5 [00:00<?, ?it/s]"
      ]
     },
     "metadata": {},
     "output_type": "display_data"
    },
    {
     "name": "stderr",
     "output_type": "stream",
     "text": [
      "2021-12-03 17:18:32,419 ceciestunepipe.util.sound.boutsearch INFO     saving bout detect parameters dict to /mnt/sphere/speech_bci/derived_data/s_b1253_21/2021-06-13/sglx/2342_g0/bout_search_params.pickle\n",
      "2021-12-03 17:18:32,535 ceciestunepipe.util.sound.boutsearch INFO     saving bouts pandas to /mnt/sphere/speech_bci/derived_data/s_b1253_21/2021-06-13/sglx/2342_g0/bout_auto.pickle\n",
      "2021-12-03 17:18:34,546 ceciestunepipe.util.sound.boutsearch INFO     Getting bouts for long file /mnt/sphere/speech_bci/derived_data/s_b1253_21/2021-06-13/sglx/713_g0/wav_mic.wav\n"
     ]
    },
    {
     "name": "stdout",
     "output_type": "stream",
     "text": [
      "tu vieja file /mnt/sphere/speech_bci/derived_data/s_b1253_21/2021-06-13/sglx/713_g0/wav_mic.wav\n"
     ]
    },
    {
     "name": "stderr",
     "output_type": "stream",
     "text": [
      "2021-12-03 17:18:34,558 ceciestunepipe.util.sound.boutsearch INFO     splitting file into 5 chunks\n"
     ]
    },
    {
     "data": {
      "application/vnd.jupyter.widget-view+json": {
       "model_id": "4676662a32ed4ccd9197dcfe5196cf25",
       "version_major": 2,
       "version_minor": 0
      },
      "text/plain": [
       "  0%|          | 0/5 [00:00<?, ?it/s]"
      ]
     },
     "metadata": {},
     "output_type": "display_data"
    },
    {
     "name": "stderr",
     "output_type": "stream",
     "text": [
      "2021-12-03 17:23:52,669 ceciestunepipe.util.sound.boutsearch INFO     saving bout detect parameters dict to /mnt/sphere/speech_bci/derived_data/s_b1253_21/2021-06-13/sglx/713_g0/bout_search_params.pickle\n",
      "2021-12-03 17:23:52,883 ceciestunepipe.util.sound.boutsearch INFO     saving bouts pandas to /mnt/sphere/speech_bci/derived_data/s_b1253_21/2021-06-13/sglx/713_g0/bout_auto.pickle\n",
      "2021-12-03 17:23:53,465 root         INFO     saving bouts pandas to /mnt/sphere/speech_bci/derived_data/s_b1253_21/2021-06-13/bouts_sglx/bout_auto.pickle\n",
      "2021-12-03 17:23:56,417 root         INFO     saving bout detect parameters dict to /mnt/sphere/speech_bci/derived_data/s_b1253_21/2021-06-13/bouts_sglx/bout_search_params.pickle\n"
     ]
    }
   ],
   "source": [
    "all_sessions = sess_list[:2]\n",
    "#all_sessions = ['2021-06-15']\n",
    "\n",
    "for sess in all_sessions:\n",
    "    sess_par['sess'] = sess\n",
    "    sess_bout_pd = get_all_day_bouts(sess_par, hparams, parallel=False)\n",
    "    save_auto_bouts(sess_bout_pd, sess_par, hparams)\n",
    "    sess_bouts_folder = os.path.join(exp_struct['folders']['derived'], 'bouts')\n",
    "    #bouts_to_wavs(sess_bout_pd, sess_par, hparams, sess_bouts_folder)"
   ]
  },
  {
   "cell_type": "code",
   "execution_count": 22,
   "metadata": {},
   "outputs": [
    {
     "name": "stdout",
     "output_type": "stream",
     "text": [
      "<class 'pandas.core.frame.DataFrame'>\n",
      "Int64Index: 103 entries, 0 to 37\n",
      "Data columns (total 17 columns):\n",
      " #   Column        Non-Null Count  Dtype  \n",
      "---  ------        --------------  -----  \n",
      " 0   start_ms      103 non-null    int64  \n",
      " 1   end_ms        103 non-null    int64  \n",
      " 2   start_sample  103 non-null    int64  \n",
      " 3   end_sample    103 non-null    int64  \n",
      " 4   p_step        103 non-null    object \n",
      " 5   rms_p         103 non-null    float64\n",
      " 6   peak_p        103 non-null    float64\n",
      " 7   bout_check    103 non-null    bool   \n",
      " 8   file          103 non-null    object \n",
      " 9   len_ms        103 non-null    int64  \n",
      " 10  syl_in        103 non-null    object \n",
      " 11  n_syl         103 non-null    int64  \n",
      " 12  peaks_p       103 non-null    object \n",
      " 13  n_peaks       103 non-null    int64  \n",
      " 14  l_p_ratio     103 non-null    float64\n",
      " 15  waveform      103 non-null    object \n",
      " 16  confusing     103 non-null    bool   \n",
      "dtypes: bool(2), float64(3), int64(7), object(5)\n",
      "memory usage: 13.1+ KB\n"
     ]
    }
   ],
   "source": [
    "sess_bout_pd.info()"
   ]
  },
  {
   "cell_type": "code",
   "execution_count": 24,
   "metadata": {},
   "outputs": [
    {
     "data": {
      "text/plain": [
       "103"
      ]
     },
     "execution_count": 24,
     "metadata": {},
     "output_type": "execute_result"
    }
   ],
   "source": [
    "np.unique(sess_bout_pd['start_ms']).size"
   ]
  },
  {
   "cell_type": "markdown",
   "metadata": {},
   "source": [
    "# debug"
   ]
  },
  {
   "cell_type": "markdown",
   "metadata": {},
   "source": [
    "## debug search_bout"
   ]
  },
  {
   "cell_type": "code",
   "execution_count": 21,
   "metadata": {},
   "outputs": [
    {
     "name": "stderr",
     "output_type": "stream",
     "text": [
      "2021-09-22 15:13:39,371 root         INFO     Found 4 files\n"
     ]
    },
    {
     "name": "stdout",
     "output_type": "stream",
     "text": [
      "['/mnt/sphere/speech_bci/derived_data/s_b1253_21/2021-06-14/sglx/0712_g0/wav_mic.wav', '/mnt/sphere/speech_bci/derived_data/s_b1253_21/2021-06-14/sglx/1255_g0/wav_mic.wav', '/mnt/sphere/speech_bci/derived_data/s_b1253_21/2021-06-14/sglx/1740_g0/wav_mic.wav', '/mnt/sphere/speech_bci/derived_data/s_b1253_21/2021-06-14/sglx/2118_g0/wav_mic.wav']\n"
     ]
    }
   ],
   "source": [
    "## look for a single file\n",
    "sess = sess_list[0]\n",
    "\n",
    "exp_struct = et.get_exp_struct(sess_par['bird'], sess, ephys_software='sglx')\n",
    "source_folder = exp_struct['folders']['derived']\n",
    "wav_path_list = et.get_sgl_files_epochs(source_folder, file_filter='*wav_mic.wav')\n",
    "wav_path_list.sort()\n",
    "logger.info('Found {} files'.format(len(wav_path_list)))\n",
    "print(wav_path_list)"
   ]
  },
  {
   "cell_type": "code",
   "execution_count": 22,
   "metadata": {},
   "outputs": [],
   "source": [
    "one_file = wav_path_list[0]"
   ]
  },
  {
   "cell_type": "code",
   "execution_count": null,
   "metadata": {},
   "outputs": [
    {
     "name": "stderr",
     "output_type": "stream",
     "text": [
      "2021-09-22 15:13:45,924 ceciestunepipe.util.sound.boutsearch INFO     Getting bouts for long file /mnt/sphere/speech_bci/derived_data/s_b1253_21/2021-06-14/sglx/0712_g0/wav_mic.wav\n"
     ]
    },
    {
     "name": "stdout",
     "output_type": "stream",
     "text": [
      "tu vieja file /mnt/sphere/speech_bci/derived_data/s_b1253_21/2021-06-14/sglx/0712_g0/wav_mic.wav\n"
     ]
    },
    {
     "name": "stderr",
     "output_type": "stream",
     "text": [
      "2021-09-22 15:13:45,962 ceciestunepipe.util.sound.boutsearch INFO     splitting file into 5 chunks\n"
     ]
    },
    {
     "data": {
      "application/vnd.jupyter.widget-view+json": {
       "model_id": "2ee46791b8cc495dae356f151c0a45d0",
       "version_major": 2,
       "version_minor": 0
      },
      "text/plain": [
       "  0%|          | 0/5 [00:00<?, ?it/s]"
      ]
     },
     "metadata": {},
     "output_type": "display_data"
    }
   ],
   "source": [
    "reload(bs)\n",
    "epoch_bout_pd, epoch_wav = bs.get_bouts_in_long_file(wav_path_list[0], hparams)"
   ]
  },
  {
   "cell_type": "code",
   "execution_count": null,
   "metadata": {},
   "outputs": [],
   "source": []
  }
 ],
 "metadata": {
  "kernelspec": {
   "display_name": "ceciestunepipe",
   "language": "python",
   "name": "ceciestunepipe"
  },
  "language_info": {
   "codemirror_mode": {
    "name": "ipython",
    "version": 3
   },
   "file_extension": ".py",
   "mimetype": "text/x-python",
   "name": "python",
   "nbconvert_exporter": "python",
   "pygments_lexer": "ipython3",
   "version": "3.8.10"
  }
 },
 "nbformat": 4,
 "nbformat_minor": 4
}
