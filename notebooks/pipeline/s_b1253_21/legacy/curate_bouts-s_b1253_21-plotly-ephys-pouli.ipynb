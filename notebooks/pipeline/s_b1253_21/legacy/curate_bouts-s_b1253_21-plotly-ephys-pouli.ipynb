{
 "cells": [
  {
   "cell_type": "markdown",
   "id": "unavailable-waterproof",
   "metadata": {},
   "source": [
    "## Searching for bouts for a day of ephys recording\n",
    "- mircophone chan and sync data and bouts are extracted in sglx_preprocess-s_b1253_21-multisess-pouli-ephys"
   ]
  },
  {
   "cell_type": "code",
   "execution_count": 1,
   "id": "sized-marijuana",
   "metadata": {},
   "outputs": [
    {
     "name": "stderr",
     "output_type": "stream",
     "text": [
      "2021-12-03 17:35:33,971 root         INFO     Running on pouli\n"
     ]
    }
   ],
   "source": [
    "import os\n",
    "import glob\n",
    "import socket\n",
    "import logging\n",
    "import pickle\n",
    "import numpy as np\n",
    "import pandas as pd\n",
    "from scipy.io import wavfile\n",
    "from scipy import signal\n",
    "\n",
    "### Fuck matplotlib, I'm using poltly now\n",
    "from plotly.subplots import make_subplots\n",
    "import plotly.graph_objects as go\n",
    "\n",
    "from importlib import reload\n",
    "\n",
    "logger = logging.getLogger()\n",
    "handler = logging.StreamHandler()\n",
    "formatter = logging.Formatter(\n",
    "        '%(asctime)s %(name)-12s %(levelname)-8s %(message)s')\n",
    "handler.setFormatter(formatter)\n",
    "logger.addHandler(handler)\n",
    "logger.setLevel(logging.INFO)\n",
    "\n",
    "logger.info('Running on {}'.format(socket.gethostname()))"
   ]
  },
  {
   "cell_type": "code",
   "execution_count": 2,
   "id": "stable-inspection",
   "metadata": {},
   "outputs": [],
   "source": [
    "from ceciestunepipe.file import bcistructure as et\n",
    "from ceciestunepipe.util.sound import boutsearch as bs"
   ]
  },
  {
   "cell_type": "markdown",
   "id": "inner-machinery",
   "metadata": {},
   "source": [
    "### Get the file locations for a session (day) of recordings"
   ]
  },
  {
   "cell_type": "code",
   "execution_count": 3,
   "id": "steady-burner",
   "metadata": {},
   "outputs": [],
   "source": [
    "reload(et)\n",
    "sess_par = {'bird': 's_b1253_21',\n",
    "           'sess': '2021-06-13',\n",
    "           'sort': 2}\n",
    "\n",
    "\n",
    "exp_struct = et.get_exp_struct(sess_par['bird'], sess_par['sess'], ephys_software='sglx')\n",
    "\n",
    "raw_folder = exp_struct['folders']['sglx']\n",
    "\n",
    "derived_folder = exp_struct['folders']['derived']\n",
    "\n",
    "bouts_folder = os.path.join(os.path.split(derived_folder)[0], 'bouts_sglx')\n",
    "\n",
    "sess_bouts_file = os.path.join(bouts_folder, 'bout_sess_auto.pickle')\n",
    "sess_bouts_curated_file = os.path.join(bouts_folder, 'bout_curated.pickle')\n",
    "\n",
    "#os.makedirs(bouts_folder, exist_ok=True)"
   ]
  },
  {
   "cell_type": "code",
   "execution_count": 4,
   "id": "bronze-certificate",
   "metadata": {},
   "outputs": [
    {
     "data": {
      "text/plain": [
       "{'bird': '/mnt/sphere/speech_bci/raw_data/s_b1253_21',\n",
       " 'raw': '/mnt/sphere/speech_bci/raw_data/s_b1253_21/2021-06-13',\n",
       " 'sglx': '/mnt/sphere/speech_bci/raw_data/s_b1253_21/2021-06-13/sglx',\n",
       " 'kwik': '/experiment/s_b1253_21/sglx/kwik/2021-06-13',\n",
       " 'processed': '/mnt/sphere/speech_bci/processed_data/s_b1253_21/2021-06-13/sglx',\n",
       " 'derived': '/mnt/sphere/speech_bci/derived_data/s_b1253_21/2021-06-13/sglx',\n",
       " 'tmp': '/experiment/tmp/tmp',\n",
       " 'msort': '/experiment/tmp/s_b1253_21/sglx/msort/2021-06-13',\n",
       " 'ksort': '/experiment/tmp/s_b1253_21/sglx/ksort/2021-06-13/',\n",
       " 'sort': '/mnt/sphere/speech_bci/derived_data/s_b1253_21/2021-06-13/sglx/'}"
      ]
     },
     "execution_count": 4,
     "metadata": {},
     "output_type": "execute_result"
    }
   ],
   "source": [
    "exp_struct['folders']"
   ]
  },
  {
   "cell_type": "markdown",
   "id": "american-composer",
   "metadata": {},
   "source": [
    "### load concatenated the files of the session"
   ]
  },
  {
   "cell_type": "code",
   "execution_count": 5,
   "id": "waiting-motel",
   "metadata": {},
   "outputs": [],
   "source": [
    "def read_session_auto_bouts(exp_struct):\n",
    "    # list all files of the session\n",
    "    # read into list of pandas dataframes and concatenate\n",
    "    # read the search parameters of the first session\n",
    "    # return the big pd and the search params\n",
    "    derived_folder = exp_struct['folders']['derived']\n",
    "    \n",
    "    search_params_files = et.get_sgl_files_epochs(derived_folder, file_filter='bout_search_params.pickle')\n",
    "    hparams=None\n",
    "    with open(search_params_files[0], 'rb') as fh:\n",
    "        hparams = pickle.load(fh)\n",
    "    \n",
    "    sess_bout_pd_file = os.path.join(os.path.split(derived_folder)[0], 'bouts_sglx', 'bout_auto.pickle')\n",
    "    try:\n",
    "        bout_pd = pd.read_pickle(sess_bout_pd_file)\n",
    "    except FileNotFoundError:\n",
    "        logger.info('Not found session pandas file {}, loading each epoch file and concatenating'.format(sess_bout_pd_file))\n",
    "        bout_pd_files = et.get_sgl_files_epochs(derived_folder, file_filter='bout_auto.pickle')\n",
    "        logger.info('Files to load {}'.format(bout_pd_files))\n",
    "        bout_pd = pd.concat([pd.read_pickle(p) for p in bout_pd_files[:]])\n",
    "    \n",
    "    bout_pd.reset_index(inplace=True, drop=True)\n",
    "    return bout_pd, hparams\n",
    "\n",
    "bout_pd, hparams = read_session_auto_bouts(exp_struct)"
   ]
  },
  {
   "cell_type": "code",
   "execution_count": 6,
   "id": "dd455625-746c-47a4-be5e-52c8722dd2f4",
   "metadata": {},
   "outputs": [
    {
     "name": "stdout",
     "output_type": "stream",
     "text": [
      "<class 'pandas.core.frame.DataFrame'>\n",
      "RangeIndex: 414 entries, 0 to 413\n",
      "Data columns (total 17 columns):\n",
      " #   Column        Non-Null Count  Dtype  \n",
      "---  ------        --------------  -----  \n",
      " 0   start_ms      414 non-null    int64  \n",
      " 1   end_ms        414 non-null    int64  \n",
      " 2   start_sample  414 non-null    int64  \n",
      " 3   end_sample    414 non-null    int64  \n",
      " 4   p_step        414 non-null    object \n",
      " 5   rms_p         414 non-null    float64\n",
      " 6   peak_p        414 non-null    float64\n",
      " 7   bout_check    414 non-null    bool   \n",
      " 8   file          414 non-null    object \n",
      " 9   len_ms        414 non-null    int64  \n",
      " 10  syl_in        414 non-null    object \n",
      " 11  n_syl         414 non-null    int64  \n",
      " 12  peaks_p       414 non-null    object \n",
      " 13  n_peaks       414 non-null    int64  \n",
      " 14  l_p_ratio     414 non-null    float64\n",
      " 15  waveform      414 non-null    object \n",
      " 16  confusing     414 non-null    bool   \n",
      "dtypes: bool(2), float64(3), int64(7), object(5)\n",
      "memory usage: 49.4+ KB\n"
     ]
    }
   ],
   "source": [
    "bout_pd.info()"
   ]
  },
  {
   "cell_type": "code",
   "execution_count": 7,
   "id": "97a9713a-193f-4cac-94a6-f5b8208cb0cb",
   "metadata": {},
   "outputs": [
    {
     "data": {
      "text/plain": [
       "(414,)"
      ]
     },
     "execution_count": 7,
     "metadata": {},
     "output_type": "execute_result"
    }
   ],
   "source": [
    "np.unique(bout_pd['start_ms']).shape"
   ]
  },
  {
   "cell_type": "code",
   "execution_count": 8,
   "id": "b9cb08ed-d137-4b23-9503-98d10ed2599b",
   "metadata": {},
   "outputs": [
    {
     "data": {
      "text/plain": [
       "array(['/mnt/sphere/speech_bci/derived_data/s_b1253_21/2021-06-13/sglx/0709_g0/wav_mic.wav',\n",
       "       '/mnt/sphere/speech_bci/derived_data/s_b1253_21/2021-06-13/sglx/1227_g0/wav_mic.wav',\n",
       "       '/mnt/sphere/speech_bci/derived_data/s_b1253_21/2021-06-13/sglx/1819_g0/wav_mic.wav',\n",
       "       '/mnt/sphere/speech_bci/derived_data/s_b1253_21/2021-06-13/sglx/2342_g0/wav_mic.wav',\n",
       "       '/mnt/sphere/speech_bci/derived_data/s_b1253_21/2021-06-13/sglx/713_g0/wav_mic.wav'],\n",
       "      dtype=object)"
      ]
     },
     "execution_count": 8,
     "metadata": {},
     "output_type": "execute_result"
    }
   ],
   "source": [
    "### list all the source files\n",
    "sess_wav_files = np.unique(bout_pd['file'].values)\n",
    "sess_wav_files"
   ]
  },
  {
   "cell_type": "markdown",
   "id": "47eb2841-69bf-4a05-ad36-2417844608b5",
   "metadata": {
    "tags": []
   },
   "source": [
    "#### optional: drop the night recordings"
   ]
  },
  {
   "cell_type": "code",
   "execution_count": 9,
   "id": "84eb564d-0165-4007-a476-0aa5d3449e81",
   "metadata": {},
   "outputs": [
    {
     "name": "stdout",
     "output_type": "stream",
     "text": [
      "/mnt/sphere/speech_bci/derived_data/s_b1253_21/2021-06-13/sglx/2342_g0/wav_mic.wav\n"
     ]
    }
   ],
   "source": [
    "night_file = sess_wav_files[-2]\n",
    "bout_pd.drop(bout_pd[bout_pd['file']==night_file].index, inplace=True)\n",
    "print(night_file)"
   ]
  },
  {
   "cell_type": "code",
   "execution_count": 10,
   "id": "resident-thanks",
   "metadata": {},
   "outputs": [
    {
     "data": {
      "text/plain": [
       "array(['/mnt/sphere/speech_bci/derived_data/s_b1253_21/2021-06-13/sglx/0709_g0/wav_mic.wav',\n",
       "       '/mnt/sphere/speech_bci/derived_data/s_b1253_21/2021-06-13/sglx/1227_g0/wav_mic.wav',\n",
       "       '/mnt/sphere/speech_bci/derived_data/s_b1253_21/2021-06-13/sglx/1819_g0/wav_mic.wav',\n",
       "       '/mnt/sphere/speech_bci/derived_data/s_b1253_21/2021-06-13/sglx/713_g0/wav_mic.wav'],\n",
       "      dtype=object)"
      ]
     },
     "execution_count": 10,
     "metadata": {},
     "output_type": "execute_result"
    }
   ],
   "source": [
    "np.unique(bout_pd['file'].values)"
   ]
  },
  {
   "cell_type": "code",
   "execution_count": 11,
   "id": "bb36170c-014d-4b7b-ad45-196480dce6b1",
   "metadata": {
    "tags": []
   },
   "outputs": [
    {
     "name": "stdout",
     "output_type": "stream",
     "text": [
      "<class 'pandas.core.frame.DataFrame'>\n",
      "Int64Index: 193 entries, 0 to 413\n",
      "Data columns (total 17 columns):\n",
      " #   Column        Non-Null Count  Dtype  \n",
      "---  ------        --------------  -----  \n",
      " 0   start_ms      193 non-null    int64  \n",
      " 1   end_ms        193 non-null    int64  \n",
      " 2   start_sample  193 non-null    int64  \n",
      " 3   end_sample    193 non-null    int64  \n",
      " 4   p_step        193 non-null    object \n",
      " 5   rms_p         193 non-null    float64\n",
      " 6   peak_p        193 non-null    float64\n",
      " 7   bout_check    193 non-null    bool   \n",
      " 8   file          193 non-null    object \n",
      " 9   len_ms        193 non-null    int64  \n",
      " 10  syl_in        193 non-null    object \n",
      " 11  n_syl         193 non-null    int64  \n",
      " 12  peaks_p       193 non-null    object \n",
      " 13  n_peaks       193 non-null    int64  \n",
      " 14  l_p_ratio     193 non-null    float64\n",
      " 15  waveform      193 non-null    object \n",
      " 16  confusing     193 non-null    bool   \n",
      "dtypes: bool(2), float64(3), int64(7), object(5)\n",
      "memory usage: 24.5+ KB\n"
     ]
    }
   ],
   "source": [
    "bout_pd.info()"
   ]
  },
  {
   "cell_type": "code",
   "execution_count": 12,
   "id": "d851cb8a-97de-41fb-87fa-9cf6bdc000e7",
   "metadata": {},
   "outputs": [
    {
     "data": {
      "text/plain": [
       "193"
      ]
     },
     "execution_count": 12,
     "metadata": {},
     "output_type": "execute_result"
    }
   ],
   "source": [
    "np.unique(bout_pd['start_ms']).size"
   ]
  },
  {
   "cell_type": "markdown",
   "id": "signal-experience",
   "metadata": {},
   "source": [
    "###### if it wasnt saved (which is a bad mistake), read the sampling rate from the first file in the session"
   ]
  },
  {
   "cell_type": "code",
   "execution_count": 13,
   "id": "vital-singapore",
   "metadata": {},
   "outputs": [],
   "source": [
    "def sample_rate_from_wav(wav_path):\n",
    "    x, sample_rate = wavfile.read(wav_path)\n",
    "    return sample_rate\n",
    "\n",
    "if hparams['sample_rate'] is None:\n",
    "    one_wav_path = bpd.loc[0, 'file']\n",
    "    logger.info('Sample rate not saved in parameters dict, searching it in ' + one_wav_path)\n",
    "    hparams['sample_rate'] = sample_rate_from_wav(one_wav_path)"
   ]
  },
  {
   "cell_type": "code",
   "execution_count": 14,
   "id": "infinite-membrane",
   "metadata": {},
   "outputs": [],
   "source": [
    "def cleanup(bout_pd: pd.DataFrame):\n",
    "    ## check for empty waveforms (how woudld THAT happen???)\n",
    "    bout_pd['valid_waveform'] = bout_pd['waveform'].apply(lambda x: (False if x.size==0 else True))\n",
    "    \n",
    "    # valid is & of all the validated criteria\n",
    "    bout_pd['valid'] = bout_pd['valid_waveform']\n",
    "    \n",
    "    ## fill in the epoch\n",
    "    bout_pd['epoch'] = bout_pd['file'].apply(lambda x: et.split_path(x)[-2])\n",
    "    \n",
    "    # drop not valid and reset index\n",
    "    bout_pd.drop(bout_pd[bout_pd['valid']==False].index, inplace=True)\n",
    "    bout_pd.reset_index(drop=True, inplace=True)\n",
    "    \n",
    "    # set all to 'confusing' (unchecked) and 'bout_check' false (not a bout)\n",
    "    bout_pd['confusing'] = True\n",
    "    bout_pd['bout_check'] = False\n",
    "\n",
    "cleanup(bout_pd)"
   ]
  },
  {
   "cell_type": "code",
   "execution_count": 15,
   "id": "aec7951c-54e7-47c9-b06f-dc160fc3b0f5",
   "metadata": {
    "tags": []
   },
   "outputs": [
    {
     "name": "stdout",
     "output_type": "stream",
     "text": [
      "<class 'pandas.core.frame.DataFrame'>\n",
      "RangeIndex: 192 entries, 0 to 191\n",
      "Data columns (total 20 columns):\n",
      " #   Column          Non-Null Count  Dtype  \n",
      "---  ------          --------------  -----  \n",
      " 0   start_ms        192 non-null    int64  \n",
      " 1   end_ms          192 non-null    int64  \n",
      " 2   start_sample    192 non-null    int64  \n",
      " 3   end_sample      192 non-null    int64  \n",
      " 4   p_step          192 non-null    object \n",
      " 5   rms_p           192 non-null    float64\n",
      " 6   peak_p          192 non-null    float64\n",
      " 7   bout_check      192 non-null    bool   \n",
      " 8   file            192 non-null    object \n",
      " 9   len_ms          192 non-null    int64  \n",
      " 10  syl_in          192 non-null    object \n",
      " 11  n_syl           192 non-null    int64  \n",
      " 12  peaks_p         192 non-null    object \n",
      " 13  n_peaks         192 non-null    int64  \n",
      " 14  l_p_ratio       192 non-null    float64\n",
      " 15  waveform        192 non-null    object \n",
      " 16  confusing       192 non-null    bool   \n",
      " 17  valid_waveform  192 non-null    bool   \n",
      " 18  valid           192 non-null    bool   \n",
      " 19  epoch           192 non-null    object \n",
      "dtypes: bool(4), float64(3), int64(7), object(6)\n",
      "memory usage: 24.9+ KB\n"
     ]
    }
   ],
   "source": [
    "bout_pd.info()"
   ]
  },
  {
   "cell_type": "code",
   "execution_count": 16,
   "id": "2cd9a3d3-7eb3-477c-8bab-22dc30c2f6ff",
   "metadata": {},
   "outputs": [
    {
     "data": {
      "text/plain": [
       "(192,)"
      ]
     },
     "execution_count": 16,
     "metadata": {},
     "output_type": "execute_result"
    }
   ],
   "source": [
    "np.unique(bout_pd['start_ms']).shape"
   ]
  },
  {
   "cell_type": "code",
   "execution_count": 17,
   "id": "wireless-catholic",
   "metadata": {
    "scrolled": true,
    "tags": []
   },
   "outputs": [
    {
     "data": {
      "text/html": [
       "<div>\n",
       "<style scoped>\n",
       "    .dataframe tbody tr th:only-of-type {\n",
       "        vertical-align: middle;\n",
       "    }\n",
       "\n",
       "    .dataframe tbody tr th {\n",
       "        vertical-align: top;\n",
       "    }\n",
       "\n",
       "    .dataframe thead th {\n",
       "        text-align: right;\n",
       "    }\n",
       "</style>\n",
       "<table border=\"1\" class=\"dataframe\">\n",
       "  <thead>\n",
       "    <tr style=\"text-align: right;\">\n",
       "      <th></th>\n",
       "      <th>start_ms</th>\n",
       "      <th>end_ms</th>\n",
       "      <th>start_sample</th>\n",
       "      <th>end_sample</th>\n",
       "      <th>p_step</th>\n",
       "      <th>rms_p</th>\n",
       "      <th>peak_p</th>\n",
       "      <th>bout_check</th>\n",
       "      <th>file</th>\n",
       "      <th>len_ms</th>\n",
       "      <th>syl_in</th>\n",
       "      <th>n_syl</th>\n",
       "      <th>peaks_p</th>\n",
       "      <th>n_peaks</th>\n",
       "      <th>l_p_ratio</th>\n",
       "      <th>waveform</th>\n",
       "      <th>confusing</th>\n",
       "      <th>valid_waveform</th>\n",
       "      <th>valid</th>\n",
       "      <th>epoch</th>\n",
       "    </tr>\n",
       "  </thead>\n",
       "  <tbody>\n",
       "    <tr>\n",
       "      <th>0</th>\n",
       "      <td>21460</td>\n",
       "      <td>32220</td>\n",
       "      <td>429200</td>\n",
       "      <td>644400</td>\n",
       "      <td>[8.713733042828666, 130.93567831255595, 233.87...</td>\n",
       "      <td>21.222267</td>\n",
       "      <td>359.953578</td>\n",
       "      <td>False</td>\n",
       "      <td>/mnt/sphere/speech_bci/derived_data/s_b1253_21...</td>\n",
       "      <td>10760</td>\n",
       "      <td>[[21460, 21495], [22305, 22340], [24145, 24190...</td>\n",
       "      <td>17</td>\n",
       "      <td>[2, 30, 105, 128, 172, 180, 198, 211, 540, 609...</td>\n",
       "      <td>58</td>\n",
       "      <td>185.517241</td>\n",
       "      <td>[1065, 1076, 1081, 1095, 1083, 1103, 1086, 108...</td>\n",
       "      <td>True</td>\n",
       "      <td>True</td>\n",
       "      <td>True</td>\n",
       "      <td>0709_g0</td>\n",
       "    </tr>\n",
       "    <tr>\n",
       "      <th>1</th>\n",
       "      <td>40125</td>\n",
       "      <td>54645</td>\n",
       "      <td>802500</td>\n",
       "      <td>1092900</td>\n",
       "      <td>[13.096523956130605, 9.062461794160846, 31.203...</td>\n",
       "      <td>21.222267</td>\n",
       "      <td>310.517498</td>\n",
       "      <td>False</td>\n",
       "      <td>/mnt/sphere/speech_bci/derived_data/s_b1253_21...</td>\n",
       "      <td>14520</td>\n",
       "      <td>[[40125, 40155], [41055, 41095], [42120, 42165...</td>\n",
       "      <td>18</td>\n",
       "      <td>[4, 11, 18, 178, 187, 200, 400, 414, 432, 465,...</td>\n",
       "      <td>60</td>\n",
       "      <td>242.000000</td>\n",
       "      <td>[-2703, -2690, -2701, -2726, -2720, -2701, -27...</td>\n",
       "      <td>True</td>\n",
       "      <td>True</td>\n",
       "      <td>True</td>\n",
       "      <td>0709_g0</td>\n",
       "    </tr>\n",
       "    <tr>\n",
       "      <th>2</th>\n",
       "      <td>61775</td>\n",
       "      <td>70325</td>\n",
       "      <td>1235500</td>\n",
       "      <td>1406500</td>\n",
       "      <td>[34.87362769543909, 35.6706262340847, 18.02458...</td>\n",
       "      <td>21.222267</td>\n",
       "      <td>271.346975</td>\n",
       "      <td>False</td>\n",
       "      <td>/mnt/sphere/speech_bci/derived_data/s_b1253_21...</td>\n",
       "      <td>8550</td>\n",
       "      <td>[[61775, 61810], [62245, 62280], [63085, 63130...</td>\n",
       "      <td>17</td>\n",
       "      <td>[1, 10, 80, 96, 180, 188, 203, 262, 270, 438, ...</td>\n",
       "      <td>47</td>\n",
       "      <td>181.914894</td>\n",
       "      <td>[-210, -209, -209, -186, -204, -176, -188, -17...</td>\n",
       "      <td>True</td>\n",
       "      <td>True</td>\n",
       "      <td>True</td>\n",
       "      <td>0709_g0</td>\n",
       "    </tr>\n",
       "    <tr>\n",
       "      <th>3</th>\n",
       "      <td>81850</td>\n",
       "      <td>93050</td>\n",
       "      <td>1637000</td>\n",
       "      <td>1861000</td>\n",
       "      <td>[44.421253705652624, 85.13879158820612, 34.138...</td>\n",
       "      <td>21.222267</td>\n",
       "      <td>179.841336</td>\n",
       "      <td>False</td>\n",
       "      <td>/mnt/sphere/speech_bci/derived_data/s_b1253_21...</td>\n",
       "      <td>11200</td>\n",
       "      <td>[[81850, 81880], [83065, 83100], [83420, 83455...</td>\n",
       "      <td>13</td>\n",
       "      <td>[1, 16, 77, 89, 152, 164, 175, 232, 244, 255, ...</td>\n",
       "      <td>69</td>\n",
       "      <td>162.318841</td>\n",
       "      <td>[-1076, -1089, -1089, -1087, -1074, -1085, -10...</td>\n",
       "      <td>True</td>\n",
       "      <td>True</td>\n",
       "      <td>True</td>\n",
       "      <td>0709_g0</td>\n",
       "    </tr>\n",
       "    <tr>\n",
       "      <th>4</th>\n",
       "      <td>96090</td>\n",
       "      <td>101120</td>\n",
       "      <td>1921800</td>\n",
       "      <td>2022400</td>\n",
       "      <td>[10.181296921242865, 93.68222195050916, 60.404...</td>\n",
       "      <td>21.222267</td>\n",
       "      <td>180.797063</td>\n",
       "      <td>False</td>\n",
       "      <td>/mnt/sphere/speech_bci/derived_data/s_b1253_21...</td>\n",
       "      <td>5030</td>\n",
       "      <td>[[96090, 96145], [96835, 96865], [96895, 96930...</td>\n",
       "      <td>8</td>\n",
       "      <td>[4, 74, 82, 89, 104, 150, 162, 232, 245, 253, ...</td>\n",
       "      <td>28</td>\n",
       "      <td>179.642857</td>\n",
       "      <td>[-467, -468, -477, -492, -499, -492, -444, -44...</td>\n",
       "      <td>True</td>\n",
       "      <td>True</td>\n",
       "      <td>True</td>\n",
       "      <td>0709_g0</td>\n",
       "    </tr>\n",
       "    <tr>\n",
       "      <th>...</th>\n",
       "      <td>...</td>\n",
       "      <td>...</td>\n",
       "      <td>...</td>\n",
       "      <td>...</td>\n",
       "      <td>...</td>\n",
       "      <td>...</td>\n",
       "      <td>...</td>\n",
       "      <td>...</td>\n",
       "      <td>...</td>\n",
       "      <td>...</td>\n",
       "      <td>...</td>\n",
       "      <td>...</td>\n",
       "      <td>...</td>\n",
       "      <td>...</td>\n",
       "      <td>...</td>\n",
       "      <td>...</td>\n",
       "      <td>...</td>\n",
       "      <td>...</td>\n",
       "      <td>...</td>\n",
       "      <td>...</td>\n",
       "    </tr>\n",
       "    <tr>\n",
       "      <th>187</th>\n",
       "      <td>18218469</td>\n",
       "      <td>18223479</td>\n",
       "      <td>364369380</td>\n",
       "      <td>364469580</td>\n",
       "      <td>[3.8887064750841964, 4.543270917366302, 8.5394...</td>\n",
       "      <td>12.549355</td>\n",
       "      <td>303.313564</td>\n",
       "      <td>False</td>\n",
       "      <td>/mnt/sphere/speech_bci/derived_data/s_b1253_21...</td>\n",
       "      <td>5010</td>\n",
       "      <td>[[18218469, 18218514], [18218734, 18218764], [...</td>\n",
       "      <td>7</td>\n",
       "      <td>[5, 56, 97, 162, 193, 202, 281, 323, 346, 368,...</td>\n",
       "      <td>26</td>\n",
       "      <td>192.692308</td>\n",
       "      <td>[-47, -66, -37, -53, -61, -66, -39, -40, -41, ...</td>\n",
       "      <td>True</td>\n",
       "      <td>True</td>\n",
       "      <td>True</td>\n",
       "      <td>713_g0</td>\n",
       "    </tr>\n",
       "    <tr>\n",
       "      <th>188</th>\n",
       "      <td>18234059</td>\n",
       "      <td>18242729</td>\n",
       "      <td>364681180</td>\n",
       "      <td>364854580</td>\n",
       "      <td>[3.2825189335835696, 41.6172687192349, 43.4294...</td>\n",
       "      <td>12.549355</td>\n",
       "      <td>307.420424</td>\n",
       "      <td>False</td>\n",
       "      <td>/mnt/sphere/speech_bci/derived_data/s_b1253_21...</td>\n",
       "      <td>8670</td>\n",
       "      <td>[[18234059, 18234094], [18234309, 18234354], [...</td>\n",
       "      <td>12</td>\n",
       "      <td>[5, 51, 83, 105, 161, 208, 268, 302, 311, 322,...</td>\n",
       "      <td>43</td>\n",
       "      <td>201.627907</td>\n",
       "      <td>[-62, -36, -21, -31, 16, 19, -47, -52, -58, -3...</td>\n",
       "      <td>True</td>\n",
       "      <td>True</td>\n",
       "      <td>True</td>\n",
       "      <td>713_g0</td>\n",
       "    </tr>\n",
       "    <tr>\n",
       "      <th>189</th>\n",
       "      <td>18252874</td>\n",
       "      <td>18273224</td>\n",
       "      <td>365057480</td>\n",
       "      <td>365464480</td>\n",
       "      <td>[5.661038630094994, 71.5871505671681, 98.33510...</td>\n",
       "      <td>12.549355</td>\n",
       "      <td>345.299606</td>\n",
       "      <td>False</td>\n",
       "      <td>/mnt/sphere/speech_bci/derived_data/s_b1253_21...</td>\n",
       "      <td>20350</td>\n",
       "      <td>[[18252874, 18252914], [18253299, 18253334], [...</td>\n",
       "      <td>35</td>\n",
       "      <td>[2, 11, 21, 79, 86, 105, 140, 152, 160, 202, 2...</td>\n",
       "      <td>128</td>\n",
       "      <td>158.984375</td>\n",
       "      <td>[-3947, -3977, -3970, -3951, -4023, -3975, -39...</td>\n",
       "      <td>True</td>\n",
       "      <td>True</td>\n",
       "      <td>True</td>\n",
       "      <td>713_g0</td>\n",
       "    </tr>\n",
       "    <tr>\n",
       "      <th>190</th>\n",
       "      <td>18303094</td>\n",
       "      <td>18313359</td>\n",
       "      <td>366061880</td>\n",
       "      <td>366267180</td>\n",
       "      <td>[21.683543331608792, 41.82099792411847, 28.592...</td>\n",
       "      <td>12.549355</td>\n",
       "      <td>237.611099</td>\n",
       "      <td>False</td>\n",
       "      <td>/mnt/sphere/speech_bci/derived_data/s_b1253_21...</td>\n",
       "      <td>10265</td>\n",
       "      <td>[[18303094, 18303129], [18303664, 18303724], [...</td>\n",
       "      <td>19</td>\n",
       "      <td>[6, 17, 33, 49, 62, 103, 114, 125, 148, 158, 2...</td>\n",
       "      <td>60</td>\n",
       "      <td>171.083333</td>\n",
       "      <td>[684, 702, 675, 706, 698, 701, 718, 700, 690, ...</td>\n",
       "      <td>True</td>\n",
       "      <td>True</td>\n",
       "      <td>True</td>\n",
       "      <td>713_g0</td>\n",
       "    </tr>\n",
       "    <tr>\n",
       "      <th>191</th>\n",
       "      <td>18362634</td>\n",
       "      <td>18367974</td>\n",
       "      <td>367252680</td>\n",
       "      <td>367359480</td>\n",
       "      <td>[3.2795130386913653, 8.05700151113566, 9.94558...</td>\n",
       "      <td>12.549355</td>\n",
       "      <td>389.919830</td>\n",
       "      <td>False</td>\n",
       "      <td>/mnt/sphere/speech_bci/derived_data/s_b1253_21...</td>\n",
       "      <td>5340</td>\n",
       "      <td>[[18362634, 18362704], [18362849, 18362959], [...</td>\n",
       "      <td>13</td>\n",
       "      <td>[2, 10, 27, 43, 54, 61, 82, 89, 96, 107, 132, ...</td>\n",
       "      <td>45</td>\n",
       "      <td>118.666667</td>\n",
       "      <td>[-1831, -1870, -1856, -1943, -1913, -1944, -19...</td>\n",
       "      <td>True</td>\n",
       "      <td>True</td>\n",
       "      <td>True</td>\n",
       "      <td>713_g0</td>\n",
       "    </tr>\n",
       "  </tbody>\n",
       "</table>\n",
       "<p>192 rows × 20 columns</p>\n",
       "</div>"
      ],
      "text/plain": [
       "     start_ms    end_ms  start_sample  end_sample  \\\n",
       "0       21460     32220        429200      644400   \n",
       "1       40125     54645        802500     1092900   \n",
       "2       61775     70325       1235500     1406500   \n",
       "3       81850     93050       1637000     1861000   \n",
       "4       96090    101120       1921800     2022400   \n",
       "..        ...       ...           ...         ...   \n",
       "187  18218469  18223479     364369380   364469580   \n",
       "188  18234059  18242729     364681180   364854580   \n",
       "189  18252874  18273224     365057480   365464480   \n",
       "190  18303094  18313359     366061880   366267180   \n",
       "191  18362634  18367974     367252680   367359480   \n",
       "\n",
       "                                                p_step      rms_p      peak_p  \\\n",
       "0    [8.713733042828666, 130.93567831255595, 233.87...  21.222267  359.953578   \n",
       "1    [13.096523956130605, 9.062461794160846, 31.203...  21.222267  310.517498   \n",
       "2    [34.87362769543909, 35.6706262340847, 18.02458...  21.222267  271.346975   \n",
       "3    [44.421253705652624, 85.13879158820612, 34.138...  21.222267  179.841336   \n",
       "4    [10.181296921242865, 93.68222195050916, 60.404...  21.222267  180.797063   \n",
       "..                                                 ...        ...         ...   \n",
       "187  [3.8887064750841964, 4.543270917366302, 8.5394...  12.549355  303.313564   \n",
       "188  [3.2825189335835696, 41.6172687192349, 43.4294...  12.549355  307.420424   \n",
       "189  [5.661038630094994, 71.5871505671681, 98.33510...  12.549355  345.299606   \n",
       "190  [21.683543331608792, 41.82099792411847, 28.592...  12.549355  237.611099   \n",
       "191  [3.2795130386913653, 8.05700151113566, 9.94558...  12.549355  389.919830   \n",
       "\n",
       "     bout_check                                               file  len_ms  \\\n",
       "0         False  /mnt/sphere/speech_bci/derived_data/s_b1253_21...   10760   \n",
       "1         False  /mnt/sphere/speech_bci/derived_data/s_b1253_21...   14520   \n",
       "2         False  /mnt/sphere/speech_bci/derived_data/s_b1253_21...    8550   \n",
       "3         False  /mnt/sphere/speech_bci/derived_data/s_b1253_21...   11200   \n",
       "4         False  /mnt/sphere/speech_bci/derived_data/s_b1253_21...    5030   \n",
       "..          ...                                                ...     ...   \n",
       "187       False  /mnt/sphere/speech_bci/derived_data/s_b1253_21...    5010   \n",
       "188       False  /mnt/sphere/speech_bci/derived_data/s_b1253_21...    8670   \n",
       "189       False  /mnt/sphere/speech_bci/derived_data/s_b1253_21...   20350   \n",
       "190       False  /mnt/sphere/speech_bci/derived_data/s_b1253_21...   10265   \n",
       "191       False  /mnt/sphere/speech_bci/derived_data/s_b1253_21...    5340   \n",
       "\n",
       "                                                syl_in  n_syl  \\\n",
       "0    [[21460, 21495], [22305, 22340], [24145, 24190...     17   \n",
       "1    [[40125, 40155], [41055, 41095], [42120, 42165...     18   \n",
       "2    [[61775, 61810], [62245, 62280], [63085, 63130...     17   \n",
       "3    [[81850, 81880], [83065, 83100], [83420, 83455...     13   \n",
       "4    [[96090, 96145], [96835, 96865], [96895, 96930...      8   \n",
       "..                                                 ...    ...   \n",
       "187  [[18218469, 18218514], [18218734, 18218764], [...      7   \n",
       "188  [[18234059, 18234094], [18234309, 18234354], [...     12   \n",
       "189  [[18252874, 18252914], [18253299, 18253334], [...     35   \n",
       "190  [[18303094, 18303129], [18303664, 18303724], [...     19   \n",
       "191  [[18362634, 18362704], [18362849, 18362959], [...     13   \n",
       "\n",
       "                                               peaks_p  n_peaks   l_p_ratio  \\\n",
       "0    [2, 30, 105, 128, 172, 180, 198, 211, 540, 609...       58  185.517241   \n",
       "1    [4, 11, 18, 178, 187, 200, 400, 414, 432, 465,...       60  242.000000   \n",
       "2    [1, 10, 80, 96, 180, 188, 203, 262, 270, 438, ...       47  181.914894   \n",
       "3    [1, 16, 77, 89, 152, 164, 175, 232, 244, 255, ...       69  162.318841   \n",
       "4    [4, 74, 82, 89, 104, 150, 162, 232, 245, 253, ...       28  179.642857   \n",
       "..                                                 ...      ...         ...   \n",
       "187  [5, 56, 97, 162, 193, 202, 281, 323, 346, 368,...       26  192.692308   \n",
       "188  [5, 51, 83, 105, 161, 208, 268, 302, 311, 322,...       43  201.627907   \n",
       "189  [2, 11, 21, 79, 86, 105, 140, 152, 160, 202, 2...      128  158.984375   \n",
       "190  [6, 17, 33, 49, 62, 103, 114, 125, 148, 158, 2...       60  171.083333   \n",
       "191  [2, 10, 27, 43, 54, 61, 82, 89, 96, 107, 132, ...       45  118.666667   \n",
       "\n",
       "                                              waveform  confusing  \\\n",
       "0    [1065, 1076, 1081, 1095, 1083, 1103, 1086, 108...       True   \n",
       "1    [-2703, -2690, -2701, -2726, -2720, -2701, -27...       True   \n",
       "2    [-210, -209, -209, -186, -204, -176, -188, -17...       True   \n",
       "3    [-1076, -1089, -1089, -1087, -1074, -1085, -10...       True   \n",
       "4    [-467, -468, -477, -492, -499, -492, -444, -44...       True   \n",
       "..                                                 ...        ...   \n",
       "187  [-47, -66, -37, -53, -61, -66, -39, -40, -41, ...       True   \n",
       "188  [-62, -36, -21, -31, 16, 19, -47, -52, -58, -3...       True   \n",
       "189  [-3947, -3977, -3970, -3951, -4023, -3975, -39...       True   \n",
       "190  [684, 702, 675, 706, 698, 701, 718, 700, 690, ...       True   \n",
       "191  [-1831, -1870, -1856, -1943, -1913, -1944, -19...       True   \n",
       "\n",
       "     valid_waveform  valid    epoch  \n",
       "0              True   True  0709_g0  \n",
       "1              True   True  0709_g0  \n",
       "2              True   True  0709_g0  \n",
       "3              True   True  0709_g0  \n",
       "4              True   True  0709_g0  \n",
       "..              ...    ...      ...  \n",
       "187            True   True   713_g0  \n",
       "188            True   True   713_g0  \n",
       "189            True   True   713_g0  \n",
       "190            True   True   713_g0  \n",
       "191            True   True   713_g0  \n",
       "\n",
       "[192 rows x 20 columns]"
      ]
     },
     "execution_count": 17,
     "metadata": {},
     "output_type": "execute_result"
    }
   ],
   "source": [
    "bout_pd"
   ]
  },
  {
   "cell_type": "markdown",
   "id": "eight-pillow",
   "metadata": {},
   "source": [
    "#### compute the spectrograms"
   ]
  },
  {
   "cell_type": "code",
   "execution_count": 18,
   "id": "different-flower",
   "metadata": {
    "tags": []
   },
   "outputs": [],
   "source": [
    "# but don't compute if they were already computed\n",
    "# try:\n",
    "#     bout_pd = pd.read_pickle(sess_bouts_file) ## make it jump if there is no sess_bouts file\n",
    "#     one_spec = bout_pd['spectrogram'][0] ## make it jump if there is no spectrogram key\n",
    "#     logger.info('loaded bout pandas with spectrograms from ' + sess_bouts_file)\n",
    "# except KeyError:\n",
    "#     logger.info('Computing spectrograms')\n",
    "#     bout_pd['spectrogram'] = bout_pd['waveform'].apply(lambda x: bs.gimmepower(x, hparams)[2])\n",
    "#     logger.info('saving bout pandas with spectrogram to ' + sess_bouts_file)\n",
    "#     bout_pd.to_pickle(sess_bouts_file)"
   ]
  },
  {
   "cell_type": "code",
   "execution_count": 19,
   "id": "e9da24fc-7dc8-479f-b162-9e452f79b8b7",
   "metadata": {},
   "outputs": [
    {
     "name": "stderr",
     "output_type": "stream",
     "text": [
      "2021-12-03 17:35:50,604 root         INFO     Computing spectrograms\n",
      "2021-12-03 17:36:26,317 root         INFO     saving bout pandas with spectrogram to /mnt/sphere/speech_bci/derived_data/s_b1253_21/2021-06-13/bouts_sglx/bout_sess_auto.pickle\n"
     ]
    }
   ],
   "source": [
    "# just compute them alright?\n",
    "logger.info('Computing spectrograms')\n",
    "bout_pd['spectrogram'] = bout_pd['waveform'].apply(lambda x: bs.gimmepower(x, hparams)[2])\n",
    "logger.info('saving bout pandas with spectrogram to ' + sess_bouts_file)\n",
    "bout_pd.to_pickle(sess_bouts_file)"
   ]
  },
  {
   "cell_type": "code",
   "execution_count": 20,
   "id": "incorporated-pitch",
   "metadata": {},
   "outputs": [
    {
     "data": {
      "text/html": [
       "<div>\n",
       "<style scoped>\n",
       "    .dataframe tbody tr th:only-of-type {\n",
       "        vertical-align: middle;\n",
       "    }\n",
       "\n",
       "    .dataframe tbody tr th {\n",
       "        vertical-align: top;\n",
       "    }\n",
       "\n",
       "    .dataframe thead th {\n",
       "        text-align: right;\n",
       "    }\n",
       "</style>\n",
       "<table border=\"1\" class=\"dataframe\">\n",
       "  <thead>\n",
       "    <tr style=\"text-align: right;\">\n",
       "      <th></th>\n",
       "      <th>start_ms</th>\n",
       "      <th>end_ms</th>\n",
       "      <th>start_sample</th>\n",
       "      <th>end_sample</th>\n",
       "      <th>p_step</th>\n",
       "      <th>rms_p</th>\n",
       "      <th>peak_p</th>\n",
       "      <th>bout_check</th>\n",
       "      <th>file</th>\n",
       "      <th>len_ms</th>\n",
       "      <th>...</th>\n",
       "      <th>n_syl</th>\n",
       "      <th>peaks_p</th>\n",
       "      <th>n_peaks</th>\n",
       "      <th>l_p_ratio</th>\n",
       "      <th>waveform</th>\n",
       "      <th>confusing</th>\n",
       "      <th>valid_waveform</th>\n",
       "      <th>valid</th>\n",
       "      <th>epoch</th>\n",
       "      <th>spectrogram</th>\n",
       "    </tr>\n",
       "  </thead>\n",
       "  <tbody>\n",
       "    <tr>\n",
       "      <th>0</th>\n",
       "      <td>21460</td>\n",
       "      <td>32220</td>\n",
       "      <td>429200</td>\n",
       "      <td>644400</td>\n",
       "      <td>[8.713733042828666, 130.93567831255595, 233.87...</td>\n",
       "      <td>21.222267</td>\n",
       "      <td>359.953578</td>\n",
       "      <td>False</td>\n",
       "      <td>/mnt/sphere/speech_bci/derived_data/s_b1253_21...</td>\n",
       "      <td>10760</td>\n",
       "      <td>...</td>\n",
       "      <td>17</td>\n",
       "      <td>[2, 30, 105, 128, 172, 180, 198, 211, 540, 609...</td>\n",
       "      <td>58</td>\n",
       "      <td>185.517241</td>\n",
       "      <td>[1065, 1076, 1081, 1095, 1083, 1103, 1086, 108...</td>\n",
       "      <td>True</td>\n",
       "      <td>True</td>\n",
       "      <td>True</td>\n",
       "      <td>0709_g0</td>\n",
       "      <td>[[0.09833268862151824, 0.0, 0.0, 0.0, 0.0, 0.0...</td>\n",
       "    </tr>\n",
       "    <tr>\n",
       "      <th>1</th>\n",
       "      <td>40125</td>\n",
       "      <td>54645</td>\n",
       "      <td>802500</td>\n",
       "      <td>1092900</td>\n",
       "      <td>[13.096523956130605, 9.062461794160846, 31.203...</td>\n",
       "      <td>21.222267</td>\n",
       "      <td>310.517498</td>\n",
       "      <td>False</td>\n",
       "      <td>/mnt/sphere/speech_bci/derived_data/s_b1253_21...</td>\n",
       "      <td>14520</td>\n",
       "      <td>...</td>\n",
       "      <td>18</td>\n",
       "      <td>[4, 11, 18, 178, 187, 200, 400, 414, 432, 465,...</td>\n",
       "      <td>60</td>\n",
       "      <td>242.000000</td>\n",
       "      <td>[-2703, -2690, -2701, -2726, -2720, -2701, -27...</td>\n",
       "      <td>True</td>\n",
       "      <td>True</td>\n",
       "      <td>True</td>\n",
       "      <td>0709_g0</td>\n",
       "      <td>[[0.24300522397366095, 0.0, 0.0, 0.0, 0.0, 0.0...</td>\n",
       "    </tr>\n",
       "  </tbody>\n",
       "</table>\n",
       "<p>2 rows × 21 columns</p>\n",
       "</div>"
      ],
      "text/plain": [
       "   start_ms  end_ms  start_sample  end_sample  \\\n",
       "0     21460   32220        429200      644400   \n",
       "1     40125   54645        802500     1092900   \n",
       "\n",
       "                                              p_step      rms_p      peak_p  \\\n",
       "0  [8.713733042828666, 130.93567831255595, 233.87...  21.222267  359.953578   \n",
       "1  [13.096523956130605, 9.062461794160846, 31.203...  21.222267  310.517498   \n",
       "\n",
       "   bout_check                                               file  len_ms  ...  \\\n",
       "0       False  /mnt/sphere/speech_bci/derived_data/s_b1253_21...   10760  ...   \n",
       "1       False  /mnt/sphere/speech_bci/derived_data/s_b1253_21...   14520  ...   \n",
       "\n",
       "  n_syl                                            peaks_p n_peaks  \\\n",
       "0    17  [2, 30, 105, 128, 172, 180, 198, 211, 540, 609...      58   \n",
       "1    18  [4, 11, 18, 178, 187, 200, 400, 414, 432, 465,...      60   \n",
       "\n",
       "    l_p_ratio                                           waveform confusing  \\\n",
       "0  185.517241  [1065, 1076, 1081, 1095, 1083, 1103, 1086, 108...      True   \n",
       "1  242.000000  [-2703, -2690, -2701, -2726, -2720, -2701, -27...      True   \n",
       "\n",
       "   valid_waveform  valid    epoch  \\\n",
       "0            True   True  0709_g0   \n",
       "1            True   True  0709_g0   \n",
       "\n",
       "                                         spectrogram  \n",
       "0  [[0.09833268862151824, 0.0, 0.0, 0.0, 0.0, 0.0...  \n",
       "1  [[0.24300522397366095, 0.0, 0.0, 0.0, 0.0, 0.0...  \n",
       "\n",
       "[2 rows x 21 columns]"
      ]
     },
     "execution_count": 20,
     "metadata": {},
     "output_type": "execute_result"
    }
   ],
   "source": [
    "bout_pd.head(2)"
   ]
  },
  {
   "cell_type": "code",
   "execution_count": 21,
   "id": "loose-fluid",
   "metadata": {},
   "outputs": [
    {
     "data": {
      "text/plain": [
       "'/mnt/sphere/speech_bci/derived_data/s_b1253_21/2021-06-13/sglx/0709_g0/wav_mic.wav'"
      ]
     },
     "execution_count": 21,
     "metadata": {},
     "output_type": "execute_result"
    }
   ],
   "source": [
    "bout_pd['file'][0]"
   ]
  },
  {
   "cell_type": "markdown",
   "id": "specified-cache",
   "metadata": {},
   "source": [
    "## inspect the bouts and curate them"
   ]
  },
  {
   "cell_type": "markdown",
   "id": "practical-finish",
   "metadata": {},
   "source": [
    "#### visualize one bout"
   ]
  },
  {
   "cell_type": "code",
   "execution_count": 22,
   "id": "greek-protein",
   "metadata": {},
   "outputs": [
    {
     "data": {
      "text/plain": [
       "start_ms                                                      21460\n",
       "end_ms                                                        32220\n",
       "start_sample                                                 429200\n",
       "end_sample                                                   644400\n",
       "p_step            [8.713733042828666, 130.93567831255595, 233.87...\n",
       "rms_p                                                     21.222267\n",
       "peak_p                                                   359.953578\n",
       "bout_check                                                    False\n",
       "file              /mnt/sphere/speech_bci/derived_data/s_b1253_21...\n",
       "len_ms                                                        10760\n",
       "syl_in            [[21460, 21495], [22305, 22340], [24145, 24190...\n",
       "n_syl                                                            17\n",
       "peaks_p           [2, 30, 105, 128, 172, 180, 198, 211, 540, 609...\n",
       "n_peaks                                                          58\n",
       "l_p_ratio                                                185.517241\n",
       "waveform          [1065, 1076, 1081, 1095, 1083, 1103, 1086, 108...\n",
       "confusing                                                      True\n",
       "valid_waveform                                                 True\n",
       "valid                                                          True\n",
       "epoch                                                       0709_g0\n",
       "spectrogram       [[0.09833268862151824, 0.0, 0.0, 0.0, 0.0, 0.0...\n",
       "Name: 0, dtype: object"
      ]
     },
     "execution_count": 22,
     "metadata": {},
     "output_type": "execute_result"
    }
   ],
   "source": [
    "bout_pd.iloc[0]"
   ]
  },
  {
   "cell_type": "code",
   "execution_count": 23,
   "id": "favorite-abortion",
   "metadata": {},
   "outputs": [],
   "source": [
    "import plotly.express as px\n",
    "import plotly.graph_objects as go\n",
    "\n",
    "from ipywidgets import widgets"
   ]
  },
  {
   "cell_type": "code",
   "execution_count": 24,
   "id": "sound-wyoming",
   "metadata": {},
   "outputs": [
    {
     "data": {
      "application/vnd.jupyter.widget-view+json": {
       "model_id": "2d9245876eac45d3b270938da9507df8",
       "version_major": 2,
       "version_minor": 0
      },
      "text/plain": [
       "VBox(children=(FigureWidget({\n",
       "    'data': [{'type': 'scatter',\n",
       "              'uid': '5a22f824-8088-48e8-a451-c…"
      ]
     },
     "metadata": {},
     "output_type": "display_data"
    }
   ],
   "source": [
    "def viz_one_bout(df: pd.Series, sub_sample=1):\n",
    "    # get the power and the spectrogram\n",
    "    sxx = df['spectrogram'][:, ::sub_sample]\n",
    "    x = df['waveform'][::sub_sample]\n",
    "    \n",
    "    # the trace\n",
    "    tr_waveform = go.Scatter(y=x)\n",
    "    figwidg_waveform = go.FigureWidget(data=[tr_waveform],\n",
    "                                      layout= {'height': 300,'width':1000})\n",
    "\n",
    "    # the spectrogram\n",
    "    fig_spectrogram = px.imshow(sxx, \n",
    "                                     labels={}, \n",
    "                                     color_continuous_scale='Inferno',\n",
    "                                    aspect='auto')\n",
    "\n",
    "    fig_spectrogram.update_layout(width=1000, height=300, coloraxis_showscale=False)\n",
    "    fig_spectrogram.update_xaxes(showticklabels=False)\n",
    "    fig_spectrogram.update_yaxes(showticklabels=False)\n",
    "    \n",
    "    \n",
    "    figwidg_spectrogram = go.FigureWidget(fig_spectrogram)\n",
    "    \n",
    "    display(widgets.VBox([figwidg_waveform,\n",
    "              figwidg_spectrogram]))\n",
    "    \n",
    "\n",
    "viz_one_bout(bout_pd.iloc[24])"
   ]
  },
  {
   "cell_type": "code",
   "execution_count": 25,
   "id": "existing-therapist",
   "metadata": {},
   "outputs": [
    {
     "data": {
      "text/html": [
       "<div>\n",
       "<style scoped>\n",
       "    .dataframe tbody tr th:only-of-type {\n",
       "        vertical-align: middle;\n",
       "    }\n",
       "\n",
       "    .dataframe tbody tr th {\n",
       "        vertical-align: top;\n",
       "    }\n",
       "\n",
       "    .dataframe thead th {\n",
       "        text-align: right;\n",
       "    }\n",
       "</style>\n",
       "<table border=\"1\" class=\"dataframe\">\n",
       "  <thead>\n",
       "    <tr style=\"text-align: right;\">\n",
       "      <th></th>\n",
       "      <th>start_ms</th>\n",
       "      <th>end_ms</th>\n",
       "      <th>start_sample</th>\n",
       "      <th>end_sample</th>\n",
       "      <th>p_step</th>\n",
       "      <th>rms_p</th>\n",
       "      <th>peak_p</th>\n",
       "      <th>bout_check</th>\n",
       "      <th>file</th>\n",
       "      <th>len_ms</th>\n",
       "      <th>...</th>\n",
       "      <th>n_syl</th>\n",
       "      <th>peaks_p</th>\n",
       "      <th>n_peaks</th>\n",
       "      <th>l_p_ratio</th>\n",
       "      <th>waveform</th>\n",
       "      <th>confusing</th>\n",
       "      <th>valid_waveform</th>\n",
       "      <th>valid</th>\n",
       "      <th>epoch</th>\n",
       "      <th>spectrogram</th>\n",
       "    </tr>\n",
       "  </thead>\n",
       "  <tbody>\n",
       "    <tr>\n",
       "      <th>0</th>\n",
       "      <td>21460</td>\n",
       "      <td>32220</td>\n",
       "      <td>429200</td>\n",
       "      <td>644400</td>\n",
       "      <td>[8.713733042828666, 130.93567831255595, 233.87...</td>\n",
       "      <td>21.222267</td>\n",
       "      <td>359.953578</td>\n",
       "      <td>False</td>\n",
       "      <td>/mnt/sphere/speech_bci/derived_data/s_b1253_21...</td>\n",
       "      <td>10760</td>\n",
       "      <td>...</td>\n",
       "      <td>17</td>\n",
       "      <td>[2, 30, 105, 128, 172, 180, 198, 211, 540, 609...</td>\n",
       "      <td>58</td>\n",
       "      <td>185.517241</td>\n",
       "      <td>[1065, 1076, 1081, 1095, 1083, 1103, 1086, 108...</td>\n",
       "      <td>True</td>\n",
       "      <td>True</td>\n",
       "      <td>True</td>\n",
       "      <td>0709_g0</td>\n",
       "      <td>[[0.09833268862151824, 0.0, 0.0, 0.0, 0.0, 0.0...</td>\n",
       "    </tr>\n",
       "    <tr>\n",
       "      <th>1</th>\n",
       "      <td>40125</td>\n",
       "      <td>54645</td>\n",
       "      <td>802500</td>\n",
       "      <td>1092900</td>\n",
       "      <td>[13.096523956130605, 9.062461794160846, 31.203...</td>\n",
       "      <td>21.222267</td>\n",
       "      <td>310.517498</td>\n",
       "      <td>False</td>\n",
       "      <td>/mnt/sphere/speech_bci/derived_data/s_b1253_21...</td>\n",
       "      <td>14520</td>\n",
       "      <td>...</td>\n",
       "      <td>18</td>\n",
       "      <td>[4, 11, 18, 178, 187, 200, 400, 414, 432, 465,...</td>\n",
       "      <td>60</td>\n",
       "      <td>242.000000</td>\n",
       "      <td>[-2703, -2690, -2701, -2726, -2720, -2701, -27...</td>\n",
       "      <td>True</td>\n",
       "      <td>True</td>\n",
       "      <td>True</td>\n",
       "      <td>0709_g0</td>\n",
       "      <td>[[0.24300522397366095, 0.0, 0.0, 0.0, 0.0, 0.0...</td>\n",
       "    </tr>\n",
       "  </tbody>\n",
       "</table>\n",
       "<p>2 rows × 21 columns</p>\n",
       "</div>"
      ],
      "text/plain": [
       "   start_ms  end_ms  start_sample  end_sample  \\\n",
       "0     21460   32220        429200      644400   \n",
       "1     40125   54645        802500     1092900   \n",
       "\n",
       "                                              p_step      rms_p      peak_p  \\\n",
       "0  [8.713733042828666, 130.93567831255595, 233.87...  21.222267  359.953578   \n",
       "1  [13.096523956130605, 9.062461794160846, 31.203...  21.222267  310.517498   \n",
       "\n",
       "   bout_check                                               file  len_ms  ...  \\\n",
       "0       False  /mnt/sphere/speech_bci/derived_data/s_b1253_21...   10760  ...   \n",
       "1       False  /mnt/sphere/speech_bci/derived_data/s_b1253_21...   14520  ...   \n",
       "\n",
       "  n_syl                                            peaks_p n_peaks  \\\n",
       "0    17  [2, 30, 105, 128, 172, 180, 198, 211, 540, 609...      58   \n",
       "1    18  [4, 11, 18, 178, 187, 200, 400, 414, 432, 465,...      60   \n",
       "\n",
       "    l_p_ratio                                           waveform confusing  \\\n",
       "0  185.517241  [1065, 1076, 1081, 1095, 1083, 1103, 1086, 108...      True   \n",
       "1  242.000000  [-2703, -2690, -2701, -2726, -2720, -2701, -27...      True   \n",
       "\n",
       "   valid_waveform  valid    epoch  \\\n",
       "0            True   True  0709_g0   \n",
       "1            True   True  0709_g0   \n",
       "\n",
       "                                         spectrogram  \n",
       "0  [[0.09833268862151824, 0.0, 0.0, 0.0, 0.0, 0.0...  \n",
       "1  [[0.24300522397366095, 0.0, 0.0, 0.0, 0.0, 0.0...  \n",
       "\n",
       "[2 rows x 21 columns]"
      ]
     },
     "execution_count": 25,
     "metadata": {},
     "output_type": "execute_result"
    }
   ],
   "source": [
    "bout_pd.head(2)"
   ]
  },
  {
   "cell_type": "markdown",
   "id": "coastal-cooperation",
   "metadata": {},
   "source": [
    "## use it in a widget\n"
   ]
  },
  {
   "cell_type": "markdown",
   "id": "attempted-elimination",
   "metadata": {},
   "source": [
    "#### add a 'confusing' label, for not/sure/mixed.\n",
    "we want to avoid having things we are not sure of in the training dataset"
   ]
  },
  {
   "cell_type": "code",
   "execution_count": 26,
   "id": "balanced-newport",
   "metadata": {},
   "outputs": [],
   "source": [
    "bout_pd.reset_index(drop=True, inplace=True)"
   ]
  },
  {
   "cell_type": "code",
   "execution_count": 27,
   "id": "satisfied-australian",
   "metadata": {},
   "outputs": [],
   "source": [
    "## Set confusing by default, will only be False once asserted bout/or not\n",
    "bout_pd['confusing'] = True\n",
    "bout_pd['bout_check'] = False"
   ]
  },
  {
   "cell_type": "code",
   "execution_count": 28,
   "id": "functional-dressing",
   "metadata": {},
   "outputs": [],
   "source": [
    "### Create a counter object (count goes 1:1 to DataFrame index)\n",
    "from traitlets import CInt, link\n",
    "\n",
    "class Counter(widgets.DOMWidget):\n",
    "    value = CInt(0)\n",
    "    value.tag(sync=True)"
   ]
  },
  {
   "cell_type": "code",
   "execution_count": 29,
   "id": "growing-queue",
   "metadata": {},
   "outputs": [
    {
     "data": {
      "application/vnd.jupyter.widget-view+json": {
       "model_id": "7eb7a928297c4fd4aa49ef3171c25cd4",
       "version_major": 2,
       "version_minor": 0
      },
      "text/plain": [
       "VBox(children=(HBox(children=(HBox(children=(VBox(children=(Button(button_style='warning', description='Prev',…"
      ]
     },
     "metadata": {},
     "output_type": "display_data"
    }
   ],
   "source": [
    "class VizBout():\n",
    "    def __init__(self, hparams, bouts_pd):\n",
    "        self.bout = None\n",
    "        self.bouts_pd = bouts_pd\n",
    "        self.bout_series = None\n",
    "        self.is_bout = None\n",
    "        self.is_confusing = None\n",
    "        \n",
    "        self.bout_counter = None\n",
    "        self.bout_id = None\n",
    "        \n",
    "        self.buttons = {}\n",
    "        self.m_pick = None\n",
    "        \n",
    "        \n",
    "        self.fig_waveform = None\n",
    "        self.fig_spectrogram = None\n",
    "        \n",
    "        self.figwidg_waveform = None\n",
    "        self.figwidg_spectrogram = None\n",
    "        \n",
    "        self.fig_width = 2\n",
    "        self.sub_sample = 10\n",
    "        \n",
    "        self.x = None\n",
    "        self.sxx = None\n",
    "        self.tr_waveform = None\n",
    "        \n",
    "        self.s_f = hparams['sample_rate']\n",
    "        \n",
    "        self.init_fig()\n",
    "        self.init_widget()\n",
    "        self.show()\n",
    "        \n",
    "    def init_fig(self):\n",
    "        # the trace\n",
    "        self.tr_waveform = go.Scatter(y=np.zeros(500))\n",
    "        self.figwidg_waveform = go.FigureWidget(data=[self.tr_waveform],\n",
    "                                               layout={'width': 1000, 'height':300})\n",
    "        \n",
    "        # the spectrogram\n",
    "        self.fig_spectrogram = px.imshow(np.random.rand(500, 500), \n",
    "                                         labels={}, \n",
    "                                         color_continuous_scale='Inferno',\n",
    "                                        aspect='auto')\n",
    "        \n",
    "        self.fig_spectrogram.update_layout(width=1000, height=300, coloraxis_showscale=False)\n",
    "        self.fig_spectrogram.update_xaxes(showticklabels=False)\n",
    "        self.fig_spectrogram.update_yaxes(showticklabels=False)\n",
    "        self.figwidg_spectrogram = go.FigureWidget(self.fig_spectrogram)\n",
    "        \n",
    "        \n",
    "    def init_widget(self):\n",
    "        # declare elements\n",
    "        # lay them out\n",
    "        #\n",
    "        \n",
    "        self.bout_counter = Counter()\n",
    "        self.is_bout = widgets.Checkbox(description='is bout')\n",
    "        self.is_confusing = widgets.Checkbox(description='Not sure or mixed')\n",
    "        \n",
    "        self.buttons['Next'] = widgets.Button(description=\"Next\", button_style='info',\n",
    "                                              icon='plus')   \n",
    "        self.buttons['Prev'] = widgets.Button(description=\"Prev\", button_style='warning',\n",
    "                                              icon='minus')\n",
    "        self.buttons['Check'] = widgets.Button(description=\"Check\", button_style='success', \n",
    "                                               icon='check')\n",
    "        self.buttons['Uncheck'] = widgets.Button(description=\"Uncheck\", button_style='danger',\n",
    "                                                 icon='wrong')\n",
    "        \n",
    "        [b.on_click(self.button_click) for b in self.buttons.values()]\n",
    "        \n",
    "        left_box = widgets.VBox([self.buttons['Prev'], self.buttons['Uncheck']])\n",
    "        right_box = widgets.VBox([self.buttons['Next'], self.buttons['Check']])\n",
    "        button_box = widgets.HBox([left_box, right_box])\n",
    "\n",
    "        self.m_pick = widgets.IntSlider(value=0, min=0, max=self.bouts_pd.index.size-1,step=1, \n",
    "                                        description=\"Bout candidate index\")\n",
    "        \n",
    "        \n",
    "        control_box = widgets.HBox([button_box,\n",
    "                                  widgets.VBox([self.is_bout, self.is_confusing]),\n",
    "                                    self.m_pick])\n",
    "        \n",
    "        link((self.m_pick, 'value'), (self.bout_counter, 'value'))\n",
    "\n",
    "        self.update_bout()\n",
    "        \n",
    "        self.is_bout.observe(self.bout_checked, names='value')\n",
    "        self.is_confusing.observe(self.confusing_checked, names='value')\n",
    "        self.m_pick.observe(self.slider_change, names='value')\n",
    "        \n",
    "        all_containers = widgets.VBox([control_box, \n",
    "                                       self.figwidg_waveform, self.figwidg_spectrogram])\n",
    "        display(all_containers)\n",
    "#         display(button_box)\n",
    "#         display(self.m_pick)\n",
    "#         display(self.is_bout)\n",
    "#         display(self.fig)\n",
    "        \n",
    "    def button_click(self, button):        \n",
    "        self.bout_id = self.bout_counter.value\n",
    "        curr_bout = self.bout_counter\n",
    "        \n",
    "        if button.description == 'Next':\n",
    "            curr_bout.value += 1\n",
    "        elif button.description == 'Prev':\n",
    "            curr_bout.value -= 1\n",
    "        elif button.description == 'Check':\n",
    "            self.bouts_pd.loc[self.bout_id, 'bout_check'] = True\n",
    "            self.bouts_pd.loc[self.bout_id, 'confusing'] = False\n",
    "            curr_bout.value += 1\n",
    "        elif button.description == 'Uncheck':\n",
    "            self.bouts_pd.loc[self.bout_id, 'bout_check'] = False\n",
    "            self.bouts_pd.loc[self.bout_id, 'confusing'] = False\n",
    "            curr_bout.value += 1\n",
    "        \n",
    "        # handle the edges of the counter\n",
    "        if curr_bout.value > self.m_pick.max:\n",
    "            curr_bout.value = 0\n",
    "            \n",
    "        if curr_bout.value < self.m_pick.min:\n",
    "            curr_bout.value = self.m_pick.max\n",
    "    \n",
    "    def slider_change(self, change):\n",
    "        #logger.info('slider changed')\n",
    "        #self.bout_counter = change.new\n",
    "        #clear_output(True)\n",
    "        self.update_bout()\n",
    "        self.show()\n",
    "            \n",
    "    def bout_checked(self, bc):\n",
    "#         print \"bout checked\"\n",
    "#         print bc['new']\n",
    "#         print self.motiff\n",
    "        self.bouts_pd.loc[self.bout_id, 'bout_check'] = bc['new']\n",
    "    \n",
    "    def confusing_checked(self, bc):\n",
    "#         print \"bout checked\"\n",
    "#         print bc['new']\n",
    "#         print self.motiff\n",
    "        self.bouts_pd.loc[self.bout_id, 'confusing'] = bc['new']\n",
    "    \n",
    "    def update_bout(self):\n",
    "        self.bout_id = self.bout_counter.value\n",
    "        self.bout_series = self.bouts_pd.iloc[self.bout_id]\n",
    "        \n",
    "        self.is_bout.value = bool(self.bout_series['bout_check'])\n",
    "        self.is_confusing.value = bool(self.bout_series['confusing'])\n",
    "        \n",
    "        self.x = self.bout_series['waveform'][::self.sub_sample]\n",
    "        self.sxx = self.bout_series['spectrogram'][::self.sub_sample]\n",
    "        \n",
    "    def show(self):\n",
    "        #self.fig.clf()\n",
    "        #self.init_fig()\n",
    "        # update\n",
    "#         self.update_bout()\n",
    "        #plot\n",
    "        #logger.info('showing')\n",
    "        \n",
    "        # Show the figures\n",
    "        with self.figwidg_waveform.batch_update():\n",
    "            self.figwidg_waveform.data[0].y = self.x\n",
    "            self.figwidg_waveform.data[0].x = np.arange(self.x.size) * self.sub_sample / self.s_f \n",
    "            \n",
    "        with self.figwidg_spectrogram.batch_update():\n",
    "            self.figwidg_spectrogram.data[0].z = np.sqrt(self.sxx[::-1])\n",
    "            \n",
    "        \n",
    "\n",
    "viz_bout = VizBout(hparams, bout_pd)"
   ]
  },
  {
   "cell_type": "markdown",
   "id": "parallel-guatemala",
   "metadata": {},
   "source": [
    "### save it"
   ]
  },
  {
   "cell_type": "code",
   "execution_count": 30,
   "id": "political-tower",
   "metadata": {
    "tags": []
   },
   "outputs": [
    {
     "data": {
      "text/plain": [
       "{'num_freq': 1024,\n",
       " 'preemphasis': 0.97,\n",
       " 'frame_shift_ms': 5,\n",
       " 'frame_length_ms': 10,\n",
       " 'min_level_db': -55,\n",
       " 'ref_level_db': 110,\n",
       " 'mel_filter': False,\n",
       " 'num_mels': 1024,\n",
       " 'fmin': 500,\n",
       " 'fmax': 12000,\n",
       " 'max_iters': 200,\n",
       " 'griffin_lim_iters': 20,\n",
       " 'power': 1.5,\n",
       " 'read_wav_fun': 'read_wav_chan',\n",
       " 'file_order_fun': 'sess_file_id',\n",
       " 'min_segment': 30,\n",
       " 'min_silence': 2000,\n",
       " 'min_bout': 5000,\n",
       " 'peak_thresh_rms': 0.55,\n",
       " 'thresh_rms': 0.25,\n",
       " 'mean_syl_rms_thresh': 0.3,\n",
       " 'max_bout': 120000,\n",
       " 'l_p_r_thresh': 100,\n",
       " 'waveform_edges': 1000,\n",
       " 'bout_auto_file': 'bout_auto.pickle',\n",
       " 'bout_curated_file': 'bout_checked.pickle',\n",
       " 'sample_rate': 20000}"
      ]
     },
     "execution_count": 30,
     "metadata": {},
     "output_type": "execute_result"
    }
   ],
   "source": [
    "hparams"
   ]
  },
  {
   "cell_type": "code",
   "execution_count": 31,
   "id": "numeric-kazakhstan",
   "metadata": {},
   "outputs": [
    {
     "name": "stderr",
     "output_type": "stream",
     "text": [
      "2021-12-03 17:44:59,743 root         INFO     saved curated bout pandas to pickle /mnt/sphere/speech_bci/derived_data/s_b1253_21/2021-06-13/bouts_sglx/bout_curated.pickle\n"
     ]
    }
   ],
   "source": [
    "### get the curated file path\n",
    "##save to the curated file path\n",
    "viz_bout.bouts_pd.to_pickle(sess_bouts_curated_file)\n",
    "logger.info('saved curated bout pandas to pickle {}'.format(sess_bouts_curated_file))"
   ]
  },
  {
   "cell_type": "markdown",
   "id": "f894c378-df68-43cf-8812-c660de190a19",
   "metadata": {},
   "source": [
    "### summary of where the good bouts are along the session"
   ]
  },
  {
   "cell_type": "code",
   "execution_count": 32,
   "id": "a82d42ab-1fc3-44d9-98af-5224925e2cd3",
   "metadata": {},
   "outputs": [
    {
     "data": {
      "text/plain": [
       "{'/mnt/sphere/speech_bci/derived_data/s_b1253_21/2021-06-13/sglx/0709_g0/wav_mic.wav': 0,\n",
       " '/mnt/sphere/speech_bci/derived_data/s_b1253_21/2021-06-13/sglx/1227_g0/wav_mic.wav': 1,\n",
       " '/mnt/sphere/speech_bci/derived_data/s_b1253_21/2021-06-13/sglx/1819_g0/wav_mic.wav': 1,\n",
       " '/mnt/sphere/speech_bci/derived_data/s_b1253_21/2021-06-13/sglx/713_g0/wav_mic.wav': 3}"
      ]
     },
     "execution_count": 32,
     "metadata": {},
     "output_type": "execute_result"
    }
   ],
   "source": [
    "def give_summary(bpd: pd.DataFrame):\n",
    "    all_files = np.unique(bpd['file'])\n",
    "    summary_dict = {f: np.where((bpd['bout_check']==True) & (bpd['file']==f))[0].size for f in all_files}\n",
    "    return summary_dict\n",
    "\n",
    "sum_dict = give_summary(viz_bout.bouts_pd)\n",
    "sum_dict"
   ]
  },
  {
   "cell_type": "markdown",
   "id": "6ac7b3b9-2752-446b-9d6f-eedbe1b60348",
   "metadata": {},
   "source": [
    "## Some helper functions for somewhere down the line"
   ]
  },
  {
   "cell_type": "code",
   "execution_count": 54,
   "id": "aac48fa9-0cda-4a91-a867-f59ed331915f",
   "metadata": {},
   "outputs": [],
   "source": [
    "sess_par_e = dict.copy(sess_par)\n",
    "sess_par_e['epoch'] = '0610_g0' "
   ]
  },
  {
   "cell_type": "code",
   "execution_count": 61,
   "id": "53c398ef-97a9-46ae-b983-6ee7b1be4812",
   "metadata": {
    "collapsed": true,
    "jupyter": {
     "outputs_hidden": true,
     "source_hidden": true
    },
    "tags": []
   },
   "outputs": [
    {
     "data": {
      "text/html": [
       "<div>\n",
       "<style scoped>\n",
       "    .dataframe tbody tr th:only-of-type {\n",
       "        vertical-align: middle;\n",
       "    }\n",
       "\n",
       "    .dataframe tbody tr th {\n",
       "        vertical-align: top;\n",
       "    }\n",
       "\n",
       "    .dataframe thead th {\n",
       "        text-align: right;\n",
       "    }\n",
       "</style>\n",
       "<table border=\"1\" class=\"dataframe\">\n",
       "  <thead>\n",
       "    <tr style=\"text-align: right;\">\n",
       "      <th></th>\n",
       "      <th>start_ms</th>\n",
       "      <th>end_ms</th>\n",
       "      <th>start_sample</th>\n",
       "      <th>end_sample</th>\n",
       "      <th>p_step</th>\n",
       "      <th>rms_p</th>\n",
       "      <th>peak_p</th>\n",
       "      <th>bout_check</th>\n",
       "      <th>file</th>\n",
       "      <th>len_ms</th>\n",
       "      <th>...</th>\n",
       "      <th>n_syl</th>\n",
       "      <th>peaks_p</th>\n",
       "      <th>n_peaks</th>\n",
       "      <th>l_p_ratio</th>\n",
       "      <th>waveform</th>\n",
       "      <th>confusing</th>\n",
       "      <th>valid_waveform</th>\n",
       "      <th>valid</th>\n",
       "      <th>epoch</th>\n",
       "      <th>spectrogram</th>\n",
       "    </tr>\n",
       "  </thead>\n",
       "  <tbody>\n",
       "    <tr>\n",
       "      <th>0</th>\n",
       "      <td>2764745</td>\n",
       "      <td>2770765</td>\n",
       "      <td>69118625</td>\n",
       "      <td>69269125</td>\n",
       "      <td>[137.18250603801323, 166.1364744613515, 46.022...</td>\n",
       "      <td>12.20809</td>\n",
       "      <td>338.931800</td>\n",
       "      <td>False</td>\n",
       "      <td>/mnt/sphere/speech_bci/derived_data/s_b1253_21...</td>\n",
       "      <td>6020</td>\n",
       "      <td>...</td>\n",
       "      <td>14</td>\n",
       "      <td>[1, 25, 35, 48, 57, 75, 275, 285, 349, 358, 37...</td>\n",
       "      <td>49</td>\n",
       "      <td>122.857143</td>\n",
       "      <td>[-74, -123, -103, -104, -91, -103, -85, -79, -...</td>\n",
       "      <td>True</td>\n",
       "      <td>True</td>\n",
       "      <td>True</td>\n",
       "      <td>0610_g0</td>\n",
       "      <td>[[0.0, 0.0, 0.0, 0.0, 0.0, 0.0, 0.0, 0.0, 0.0,...</td>\n",
       "    </tr>\n",
       "    <tr>\n",
       "      <th>1</th>\n",
       "      <td>2821180</td>\n",
       "      <td>2830650</td>\n",
       "      <td>70529500</td>\n",
       "      <td>70766250</td>\n",
       "      <td>[73.89770606840956, 76.71229477152468, 50.9882...</td>\n",
       "      <td>12.20809</td>\n",
       "      <td>323.989772</td>\n",
       "      <td>False</td>\n",
       "      <td>/mnt/sphere/speech_bci/derived_data/s_b1253_21...</td>\n",
       "      <td>9470</td>\n",
       "      <td>...</td>\n",
       "      <td>10</td>\n",
       "      <td>[1, 49, 87, 123, 131, 141, 168, 197, 210, 218,...</td>\n",
       "      <td>47</td>\n",
       "      <td>201.489362</td>\n",
       "      <td>[33, 36, 31, 17, 38, 26, 35, 24, 21, 34, 27, 2...</td>\n",
       "      <td>True</td>\n",
       "      <td>True</td>\n",
       "      <td>True</td>\n",
       "      <td>0610_g0</td>\n",
       "      <td>[[0.0, 0.0, 0.0, 0.0, 0.0, 0.0, 0.0, 0.0, 0.0,...</td>\n",
       "    </tr>\n",
       "    <tr>\n",
       "      <th>2</th>\n",
       "      <td>2890955</td>\n",
       "      <td>2897000</td>\n",
       "      <td>72273875</td>\n",
       "      <td>72425000</td>\n",
       "      <td>[5.723650048239091, 20.093294098403362, 40.008...</td>\n",
       "      <td>12.20809</td>\n",
       "      <td>385.427078</td>\n",
       "      <td>False</td>\n",
       "      <td>/mnt/sphere/speech_bci/derived_data/s_b1253_21...</td>\n",
       "      <td>6045</td>\n",
       "      <td>...</td>\n",
       "      <td>18</td>\n",
       "      <td>[12, 19, 26, 37, 49, 155, 169, 181, 196, 208, ...</td>\n",
       "      <td>58</td>\n",
       "      <td>104.224138</td>\n",
       "      <td>[37, 34, 48, 23, 45, 44, 48, 56, 47, 64, 55, 5...</td>\n",
       "      <td>True</td>\n",
       "      <td>True</td>\n",
       "      <td>True</td>\n",
       "      <td>0610_g0</td>\n",
       "      <td>[[0.0, 0.0, 0.0, 0.0, 0.0, 0.0, 0.0, 0.0, 0.0,...</td>\n",
       "    </tr>\n",
       "    <tr>\n",
       "      <th>3</th>\n",
       "      <td>3022775</td>\n",
       "      <td>3030175</td>\n",
       "      <td>75569375</td>\n",
       "      <td>75754375</td>\n",
       "      <td>[10.760223359304039, 14.367538094139961, 38.22...</td>\n",
       "      <td>12.20809</td>\n",
       "      <td>250.017320</td>\n",
       "      <td>False</td>\n",
       "      <td>/mnt/sphere/speech_bci/derived_data/s_b1253_21...</td>\n",
       "      <td>7400</td>\n",
       "      <td>...</td>\n",
       "      <td>25</td>\n",
       "      <td>[2, 28, 37, 86, 100, 111, 137, 144, 157, 173, ...</td>\n",
       "      <td>64</td>\n",
       "      <td>115.625000</td>\n",
       "      <td>[-105, -115, -130, -129, -143, -135, -149, -14...</td>\n",
       "      <td>True</td>\n",
       "      <td>True</td>\n",
       "      <td>True</td>\n",
       "      <td>0610_g0</td>\n",
       "      <td>[[0.0, 0.0, 0.0, 0.0, 0.0, 0.0, 0.0, 0.0, 0.0,...</td>\n",
       "    </tr>\n",
       "    <tr>\n",
       "      <th>4</th>\n",
       "      <td>3052560</td>\n",
       "      <td>3060680</td>\n",
       "      <td>76314000</td>\n",
       "      <td>76517000</td>\n",
       "      <td>[84.90921288692883, 71.8622817106007, 22.56276...</td>\n",
       "      <td>12.20809</td>\n",
       "      <td>349.395052</td>\n",
       "      <td>False</td>\n",
       "      <td>/mnt/sphere/speech_bci/derived_data/s_b1253_21...</td>\n",
       "      <td>8120</td>\n",
       "      <td>...</td>\n",
       "      <td>23</td>\n",
       "      <td>[4, 14, 73, 89, 100, 116, 136, 148, 160, 171, ...</td>\n",
       "      <td>74</td>\n",
       "      <td>109.729730</td>\n",
       "      <td>[-27, -40, -36, -37, -40, -32, -32, -28, -30, ...</td>\n",
       "      <td>True</td>\n",
       "      <td>True</td>\n",
       "      <td>True</td>\n",
       "      <td>0610_g0</td>\n",
       "      <td>[[0.0, 0.0, 0.0, 0.0, 0.0, 0.0, 0.0, 0.0, 0.0,...</td>\n",
       "    </tr>\n",
       "  </tbody>\n",
       "</table>\n",
       "<p>5 rows × 21 columns</p>\n",
       "</div>"
      ],
      "text/plain": [
       "   start_ms   end_ms  start_sample  end_sample  \\\n",
       "0   2764745  2770765      69118625    69269125   \n",
       "1   2821180  2830650      70529500    70766250   \n",
       "2   2890955  2897000      72273875    72425000   \n",
       "3   3022775  3030175      75569375    75754375   \n",
       "4   3052560  3060680      76314000    76517000   \n",
       "\n",
       "                                              p_step     rms_p      peak_p  \\\n",
       "0  [137.18250603801323, 166.1364744613515, 46.022...  12.20809  338.931800   \n",
       "1  [73.89770606840956, 76.71229477152468, 50.9882...  12.20809  323.989772   \n",
       "2  [5.723650048239091, 20.093294098403362, 40.008...  12.20809  385.427078   \n",
       "3  [10.760223359304039, 14.367538094139961, 38.22...  12.20809  250.017320   \n",
       "4  [84.90921288692883, 71.8622817106007, 22.56276...  12.20809  349.395052   \n",
       "\n",
       "   bout_check                                               file  len_ms  ...  \\\n",
       "0       False  /mnt/sphere/speech_bci/derived_data/s_b1253_21...    6020  ...   \n",
       "1       False  /mnt/sphere/speech_bci/derived_data/s_b1253_21...    9470  ...   \n",
       "2       False  /mnt/sphere/speech_bci/derived_data/s_b1253_21...    6045  ...   \n",
       "3       False  /mnt/sphere/speech_bci/derived_data/s_b1253_21...    7400  ...   \n",
       "4       False  /mnt/sphere/speech_bci/derived_data/s_b1253_21...    8120  ...   \n",
       "\n",
       "  n_syl                                            peaks_p n_peaks  \\\n",
       "0    14  [1, 25, 35, 48, 57, 75, 275, 285, 349, 358, 37...      49   \n",
       "1    10  [1, 49, 87, 123, 131, 141, 168, 197, 210, 218,...      47   \n",
       "2    18  [12, 19, 26, 37, 49, 155, 169, 181, 196, 208, ...      58   \n",
       "3    25  [2, 28, 37, 86, 100, 111, 137, 144, 157, 173, ...      64   \n",
       "4    23  [4, 14, 73, 89, 100, 116, 136, 148, 160, 171, ...      74   \n",
       "\n",
       "    l_p_ratio                                           waveform confusing  \\\n",
       "0  122.857143  [-74, -123, -103, -104, -91, -103, -85, -79, -...      True   \n",
       "1  201.489362  [33, 36, 31, 17, 38, 26, 35, 24, 21, 34, 27, 2...      True   \n",
       "2  104.224138  [37, 34, 48, 23, 45, 44, 48, 56, 47, 64, 55, 5...      True   \n",
       "3  115.625000  [-105, -115, -130, -129, -143, -135, -149, -14...      True   \n",
       "4  109.729730  [-27, -40, -36, -37, -40, -32, -32, -28, -30, ...      True   \n",
       "\n",
       "   valid_waveform  valid    epoch  \\\n",
       "0            True   True  0610_g0   \n",
       "1            True   True  0610_g0   \n",
       "2            True   True  0610_g0   \n",
       "3            True   True  0610_g0   \n",
       "4            True   True  0610_g0   \n",
       "\n",
       "                                         spectrogram  \n",
       "0  [[0.0, 0.0, 0.0, 0.0, 0.0, 0.0, 0.0, 0.0, 0.0,...  \n",
       "1  [[0.0, 0.0, 0.0, 0.0, 0.0, 0.0, 0.0, 0.0, 0.0,...  \n",
       "2  [[0.0, 0.0, 0.0, 0.0, 0.0, 0.0, 0.0, 0.0, 0.0,...  \n",
       "3  [[0.0, 0.0, 0.0, 0.0, 0.0, 0.0, 0.0, 0.0, 0.0,...  \n",
       "4  [[0.0, 0.0, 0.0, 0.0, 0.0, 0.0, 0.0, 0.0, 0.0,...  \n",
       "\n",
       "[5 rows x 21 columns]"
      ]
     },
     "execution_count": 61,
     "metadata": {},
     "output_type": "execute_result"
    }
   ],
   "source": [
    "bpd.head()"
   ]
  },
  {
   "cell_type": "code",
   "execution_count": 92,
   "id": "2a064efc-24f8-42b1-a14a-db4470622083",
   "metadata": {},
   "outputs": [
    {
     "name": "stderr",
     "output_type": "stream",
     "text": [
      "2021-09-24 18:39:39,171 ceciestunepipe.file.bcistructure INFO     loading curated bouts for session 2021-07-18 from /mnt/sphere/speech_bci/derived_data/s_b1253_21/2021-07-18/sglx/bouts_ceciestunepipe/bout_curated.pickle\n",
      "2021-09-24 18:39:42,038 ceciestunepipe.file.bcistructure INFO     Filtering bouts for epoch 0610_g0\n",
      "2021-09-24 18:39:42,196 ceciestunepipe.file.bcistructure INFO     Filtering also only manually curated bouts\n"
     ]
    }
   ],
   "source": [
    "reload(et)\n",
    "bpd = et.get_epoch_bout_pd(sess_par_e, only_curated=True)\n",
    "bpd.head()"
   ]
  },
  {
   "cell_type": "code",
   "execution_count": 94,
   "id": "5473489b-580d-4d3f-ba98-7ecd48141323",
   "metadata": {},
   "outputs": [
    {
     "data": {
      "text/html": [
       "<div>\n",
       "<style scoped>\n",
       "    .dataframe tbody tr th:only-of-type {\n",
       "        vertical-align: middle;\n",
       "    }\n",
       "\n",
       "    .dataframe tbody tr th {\n",
       "        vertical-align: top;\n",
       "    }\n",
       "\n",
       "    .dataframe thead th {\n",
       "        text-align: right;\n",
       "    }\n",
       "</style>\n",
       "<table border=\"1\" class=\"dataframe\">\n",
       "  <thead>\n",
       "    <tr style=\"text-align: right;\">\n",
       "      <th></th>\n",
       "      <th>start_ms</th>\n",
       "      <th>end_ms</th>\n",
       "      <th>start_sample</th>\n",
       "      <th>end_sample</th>\n",
       "      <th>p_step</th>\n",
       "      <th>rms_p</th>\n",
       "      <th>peak_p</th>\n",
       "      <th>bout_check</th>\n",
       "      <th>file</th>\n",
       "      <th>len_ms</th>\n",
       "      <th>...</th>\n",
       "      <th>n_peaks</th>\n",
       "      <th>l_p_ratio</th>\n",
       "      <th>waveform</th>\n",
       "      <th>confusing</th>\n",
       "      <th>valid_waveform</th>\n",
       "      <th>valid</th>\n",
       "      <th>epoch</th>\n",
       "      <th>spectrogram</th>\n",
       "      <th>bird</th>\n",
       "      <th>sess</th>\n",
       "    </tr>\n",
       "  </thead>\n",
       "  <tbody>\n",
       "    <tr>\n",
       "      <th>0</th>\n",
       "      <td>6300478</td>\n",
       "      <td>6351243</td>\n",
       "      <td>157511950</td>\n",
       "      <td>158781075</td>\n",
       "      <td>[7.886206128106227, 15.074117306094267, 18.369...</td>\n",
       "      <td>22.351748</td>\n",
       "      <td>553.969334</td>\n",
       "      <td>True</td>\n",
       "      <td>/mnt/sphere/speech_bci/derived_data/s_b1253_21...</td>\n",
       "      <td>50765</td>\n",
       "      <td>...</td>\n",
       "      <td>829</td>\n",
       "      <td>61.236429</td>\n",
       "      <td>[13, -7, 0, 9, -8, 2, -7, -10, -4, -13, -1, 2,...</td>\n",
       "      <td>False</td>\n",
       "      <td>True</td>\n",
       "      <td>True</td>\n",
       "      <td>0610_g0</td>\n",
       "      <td>[[0.0, 0.0, 0.0, 0.0, 0.0, 0.0, 0.0, 0.0, 0.0,...</td>\n",
       "      <td>s_b1253_21</td>\n",
       "      <td>2021-07-18</td>\n",
       "    </tr>\n",
       "  </tbody>\n",
       "</table>\n",
       "<p>1 rows × 23 columns</p>\n",
       "</div>"
      ],
      "text/plain": [
       "   start_ms   end_ms  start_sample  end_sample  \\\n",
       "0   6300478  6351243     157511950   158781075   \n",
       "\n",
       "                                              p_step      rms_p      peak_p  \\\n",
       "0  [7.886206128106227, 15.074117306094267, 18.369...  22.351748  553.969334   \n",
       "\n",
       "   bout_check                                               file  len_ms  ...  \\\n",
       "0        True  /mnt/sphere/speech_bci/derived_data/s_b1253_21...   50765  ...   \n",
       "\n",
       "  n_peaks  l_p_ratio                                           waveform  \\\n",
       "0     829  61.236429  [13, -7, 0, 9, -8, 2, -7, -10, -4, -13, -1, 2,...   \n",
       "\n",
       "   confusing  valid_waveform valid    epoch  \\\n",
       "0      False            True  True  0610_g0   \n",
       "\n",
       "                                         spectrogram        bird        sess  \n",
       "0  [[0.0, 0.0, 0.0, 0.0, 0.0, 0.0, 0.0, 0.0, 0.0,...  s_b1253_21  2021-07-18  \n",
       "\n",
       "[1 rows x 23 columns]"
      ]
     },
     "execution_count": 94,
     "metadata": {},
     "output_type": "execute_result"
    }
   ],
   "source": [
    "bpd.head(1)"
   ]
  },
  {
   "cell_type": "code",
   "execution_count": 96,
   "id": "d2fbe605-2351-4fc3-b828-6f3577ea7076",
   "metadata": {},
   "outputs": [
    {
     "data": {
      "text/plain": [
       "array([ 6300478,  7102501,  7180616,  7245376,  7661606,  8031581,\n",
       "        8128521,  8202321,  8442876,  9853004, 11014954, 12578659,\n",
       "       14212972, 15410472, 15496242, 17104694, 18395779, 20073717,\n",
       "       20107052, 21557542, 21939152, 23513780, 23676120, 23753090,\n",
       "       23766770, 24457160, 24816190, 27239488, 27308728, 27405768,\n",
       "       27495628, 27737218, 28437448, 29355223])"
      ]
     },
     "execution_count": 96,
     "metadata": {},
     "output_type": "execute_result"
    }
   ],
   "source": [
    "bpd['start_ms'].values"
   ]
  },
  {
   "cell_type": "code",
   "execution_count": 97,
   "id": "e463c85a-b5b0-418a-a4c6-6af06b99cedf",
   "metadata": {},
   "outputs": [
    {
     "data": {
      "text/plain": [
       "array([50765, 38435, 31900, 44620, 55725, 47565, 39805, 34070, 60000,\n",
       "       45875, 45460, 41365, 39195, 58425, 52140, 46640, 21695, 17460,\n",
       "       39010, 47655, 52790, 23410, 42345,  9165, 18225, 51855, 57915,\n",
       "       34420, 42935, 35810, 40380, 51640, 63155, 19065])"
      ]
     },
     "execution_count": 97,
     "metadata": {},
     "output_type": "execute_result"
    }
   ],
   "source": [
    "bpd['end_ms'].values - bpd['start_ms'].values"
   ]
  },
  {
   "cell_type": "code",
   "execution_count": 1,
   "id": "a775f104-f3bd-4c47-8fa3-46a741d3942e",
   "metadata": {},
   "outputs": [
    {
     "ename": "NameError",
     "evalue": "name 'bpd' is not defined",
     "output_type": "error",
     "traceback": [
      "\u001b[0;31m---------------------------------------------------------------------------\u001b[0m",
      "\u001b[0;31mNameError\u001b[0m                                 Traceback (most recent call last)",
      "\u001b[0;32m<ipython-input-1-939639182faa>\u001b[0m in \u001b[0;36m<module>\u001b[0;34m\u001b[0m\n\u001b[0;32m----> 1\u001b[0;31m \u001b[0mbpd\u001b[0m\u001b[0;34m\u001b[0m\u001b[0;34m\u001b[0m\u001b[0m\n\u001b[0m",
      "\u001b[0;31mNameError\u001b[0m: name 'bpd' is not defined"
     ]
    }
   ],
   "source": [
    "bpd"
   ]
  },
  {
   "cell_type": "code",
   "execution_count": null,
   "id": "734a3a3e-22dd-4acb-ab03-e69abbd899ac",
   "metadata": {},
   "outputs": [],
   "source": []
  }
 ],
 "metadata": {
  "kernelspec": {
   "display_name": "ceciestunepipe",
   "language": "python",
   "name": "ceciestunepipe"
  },
  "language_info": {
   "codemirror_mode": {
    "name": "ipython",
    "version": 3
   },
   "file_extension": ".py",
   "mimetype": "text/x-python",
   "name": "python",
   "nbconvert_exporter": "python",
   "pygments_lexer": "ipython3",
   "version": "3.8.10"
  }
 },
 "nbformat": 4,
 "nbformat_minor": 5
}
