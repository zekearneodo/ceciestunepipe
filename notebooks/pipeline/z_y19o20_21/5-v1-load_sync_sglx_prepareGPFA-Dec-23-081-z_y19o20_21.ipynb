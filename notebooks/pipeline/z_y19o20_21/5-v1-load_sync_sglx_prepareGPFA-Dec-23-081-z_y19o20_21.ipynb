{
 "cells": [
  {
   "cell_type": "code",
   "execution_count": 62,
   "id": "54825fec-5833-4f41-9a9b-786079ee3577",
   "metadata": {},
   "outputs": [
    {
     "name": "stderr",
     "output_type": "stream",
     "text": [
      "2022-02-01 19:19:56,445 root         INFO     all modules loaded\n",
      "2022-02-01 19:19:56,445 root         INFO     all modules loaded\n"
     ]
    }
   ],
   "source": [
    "%matplotlib inline\n",
    "\n",
    "import os\n",
    "import glob\n",
    "import logging\n",
    "import pickle\n",
    "import numpy as np\n",
    "import pandas as pd\n",
    "from scipy.io import wavfile\n",
    "from scipy import signal\n",
    "import pickle\n",
    "\n",
    "from matplotlib import pyplot as plt\n",
    "from importlib import reload\n",
    "\n",
    "from scipy.interpolate import interp1d\n",
    "\n",
    "logger = logging.getLogger()\n",
    "handler = logging.StreamHandler()\n",
    "formatter = logging.Formatter(\n",
    "        '%(asctime)s %(name)-12s %(levelname)-8s %(message)s')\n",
    "handler.setFormatter(formatter)\n",
    "logger.addHandler(handler)\n",
    "logger.setLevel(logging.INFO)\n",
    "\n",
    "\n",
    "os.environ[\"KILOSORT2_PATH\"] = '/mnt/cube/earneodo/repos/Kilosort2'\n",
    "os.environ[\"KILOSORT3_PATH\"] = '/home/finch/repos/Kilosort'\n",
    "os.environ[\"NPY_MATLAB_PATH\"] = '/mnt/cube/earneodo/repos/npy-matlab'\n",
    "\n",
    "from ceciestunepipe.file import bcistructure as et\n",
    "from ceciestunepipe.util import sglxutil as sglu\n",
    "from ceciestunepipe.util.spikeextractors.extractors.spikeglxrecordingextractor import readSGLX as rsgl\n",
    "from ceciestunepipe.util.spikeextractors.extractors.spikeglxrecordingextractor import spikeglxrecordingextractor as sglex\n",
    "from ceciestunepipe.util import plotutil as pu\n",
    "from ceciestunepipe.util.spike import kilosort as ks\n",
    "from ceciestunepipe.util import wavutil as wu\n",
    "from ceciestunepipe.util.sound import spectral as sp\n",
    "from ceciestunepipe.util import plotutil as pu\n",
    "\n",
    "import spikeinterface as si\n",
    "import spikeinterface.extractors as se\n",
    "import spikeinterface.toolkit as st\n",
    "import spikeinterface.sorters as ss\n",
    "import spikeinterface.comparison as sc\n",
    "import spikeinterface.widgets as sw\n",
    "logger.info('all modules loaded')\n",
    "\n",
    "# import spikefinder\n",
    "import spikefinder\n",
    "import spikefinder.spike_analysis_helper as sh\n",
    "import spikefinder.filtering_helper as fh"
   ]
  },
  {
   "cell_type": "code",
   "execution_count": 63,
   "id": "respected-gilbert",
   "metadata": {},
   "outputs": [],
   "source": [
    "import os\n",
    "import matplotlib.pyplot as plt\n",
    "import numpy as np\n",
    "import pickle as pkl\n",
    "from math import ceil"
   ]
  },
  {
   "cell_type": "markdown",
   "id": "vocational-sheet",
   "metadata": {},
   "source": [
    "# Load sync files and Kilosort Metadata"
   ]
  },
  {
   "cell_type": "code",
   "execution_count": 64,
   "id": "ce92b5b9-75b7-45f8-93f1-46aee093aa5f",
   "metadata": {},
   "outputs": [],
   "source": [
    "reload(et)\n",
    "sess_par = {'bird': 'z_y19o20_21',\n",
    "           'sess': '2021-10-27',\n",
    "           'probe': 'probe_0',\n",
    "           'sort': 'sort_pt'}\n",
    "\n",
    "exp_struct = et.get_exp_struct(sess_par['bird'], sess_par['sess'], sort=sess_par['sort'])\n",
    "\n",
    "ksort_folder = exp_struct['folders']['ksort']\n",
    "raw_folder = exp_struct['folders']['sglx']"
   ]
  },
  {
   "cell_type": "code",
   "execution_count": 65,
   "id": "ca0d0897-70cf-4a2c-a0d7-c531ca2d4602",
   "metadata": {},
   "outputs": [
    {
     "data": {
      "text/plain": [
       "{'folders': {'bird': '/mnt/sphere/speech_bci/raw_data/z_y19o20_21',\n",
       "  'raw': '/mnt/sphere/speech_bci/raw_data/z_y19o20_21/2021-10-27',\n",
       "  'sglx': '/mnt/sphere/speech_bci/raw_data/z_y19o20_21/2021-10-27/sglx',\n",
       "  'kwik': '/experiment/z_y19o20_21/sglx/kwik/2021-10-27',\n",
       "  'processed': '/mnt/sphere/speech_bci/processed_data/z_y19o20_21/2021-10-27/sglx',\n",
       "  'derived': '/mnt/sphere/speech_bci/derived_data/z_y19o20_21/2021-10-27/sglx',\n",
       "  'tmp': '/experiment/tmp/tmp',\n",
       "  'msort': '/experiment/tmp/z_y19o20_21/sglx/msort/2021-10-27',\n",
       "  'ksort': '/experiment/tmp/z_y19o20_21/sglx/ksort/2021-10-27/sort_pt',\n",
       "  'sort': '/mnt/sphere/speech_bci/derived_data/z_y19o20_21/2021-10-27/sglx/sort_pt'},\n",
       " 'files': {'par': '/experiment/tmp/z_y19o20_21/sglx/ksort/2021-10-27/sort_pt/params.json',\n",
       "  'set': '/mnt/sphere/speech_bci/raw_data/z_y19o20_21/2021-10-27/sglx/settings.isf',\n",
       "  'rig': '/mnt/sphere/speech_bci/raw_data/z_y19o20_21/2021-10-27/sglx/rig.json',\n",
       "  'kwd': '/experiment/z_y19o20_21/sglx/kwik/2021-10-27/stream.kwd',\n",
       "  'kwik': '/experiment/z_y19o20_21/sglx/kwik/2021-10-27/sort_sort_pt/spikes.kwik',\n",
       "  'kwe': '/experiment/z_y19o20_21/sglx/kwik/2021-10-27/events.kwe',\n",
       "  'dat_mic': '/mnt/sphere/speech_bci/processed_data/z_y19o20_21/2021-10-27/sglx/dat_mic.mat',\n",
       "  'dat_ap': '/mnt/sphere/speech_bci/processed_data/z_y19o20_21/2021-10-27/sglx/dat_ap.mat',\n",
       "  'allevents': '/mnt/sphere/speech_bci/processed_data/z_y19o20_21/2021-10-27/sglx/dat_all.pkl',\n",
       "  'wav_mic': '/mnt/sphere/speech_bci/derived_data/z_y19o20_21/2021-10-27/sglx/wav_mic.wav',\n",
       "  'mda_raw': '/experiment/tmp/z_y19o20_21/sglx/msort/2021-10-27/raw.mda',\n",
       "  'bin_raw': '/experiment/tmp/z_y19o20_21/sglx/ksort/2021-10-27/sort_pt/raw.bin'}}"
      ]
     },
     "execution_count": 65,
     "metadata": {},
     "output_type": "execute_result"
    }
   ],
   "source": [
    "exp_struct"
   ]
  },
  {
   "cell_type": "code",
   "execution_count": 66,
   "id": "01b62cda-3ada-448a-ac6b-229e8f6e6819",
   "metadata": {},
   "outputs": [
    {
     "name": "stderr",
     "output_type": "stream",
     "text": [
      "2022-02-01 19:20:12,174 ceciestunepipe.file.bcistructure INFO     {'folders': {'bird': '/mnt/sphere/speech_bci/raw_data/z_y19o20_21', 'raw': '/mnt/sphere/speech_bci/raw_data/z_y19o20_21/2021-10-27', 'sglx': '/mnt/sphere/speech_bci/raw_data/z_y19o20_21/2021-10-27/sglx', 'kwik': '/experiment/z_y19o20_21/sglx/kwik/2021-10-27', 'processed': '/mnt/sphere/speech_bci/processed_data/z_y19o20_21/2021-10-27/sglx', 'derived': '/mnt/sphere/speech_bci/derived_data/z_y19o20_21/2021-10-27/sglx', 'tmp': '/experiment/tmp/tmp', 'msort': '/experiment/tmp/z_y19o20_21/sglx/msort/2021-10-27', 'ksort': '/experiment/tmp/z_y19o20_21/sglx/ksort/2021-10-27/sort_pt', 'sort': '/mnt/sphere/speech_bci/derived_data/z_y19o20_21/2021-10-27/sglx/sort_pt'}, 'files': {'par': '/experiment/tmp/z_y19o20_21/sglx/ksort/2021-10-27/sort_pt/params.json', 'set': '/mnt/sphere/speech_bci/raw_data/z_y19o20_21/2021-10-27/sglx/settings.isf', 'rig': '/mnt/sphere/speech_bci/raw_data/z_y19o20_21/2021-10-27/sglx/rig.json', 'kwd': '/experiment/z_y19o20_21/sglx/kwik/2021-10-27/stream.kwd', 'kwik': '/experiment/z_y19o20_21/sglx/kwik/2021-10-27/sort_sort_pt/spikes.kwik', 'kwe': '/experiment/z_y19o20_21/sglx/kwik/2021-10-27/events.kwe', 'dat_mic': '/mnt/sphere/speech_bci/processed_data/z_y19o20_21/2021-10-27/sglx/dat_mic.mat', 'dat_ap': '/mnt/sphere/speech_bci/processed_data/z_y19o20_21/2021-10-27/sglx/dat_ap.mat', 'allevents': '/mnt/sphere/speech_bci/processed_data/z_y19o20_21/2021-10-27/sglx/dat_all.pkl', 'wav_mic': '/mnt/sphere/speech_bci/derived_data/z_y19o20_21/2021-10-27/sglx/wav_mic.wav', 'mda_raw': '/experiment/tmp/z_y19o20_21/sglx/msort/2021-10-27/raw.mda', 'bin_raw': '/experiment/tmp/z_y19o20_21/sglx/ksort/2021-10-27/sort_pt/raw.bin'}}\n",
      "2022-02-01 19:20:12,174 ceciestunepipe.file.bcistructure INFO     {'folders': {'bird': '/mnt/sphere/speech_bci/raw_data/z_y19o20_21', 'raw': '/mnt/sphere/speech_bci/raw_data/z_y19o20_21/2021-10-27', 'sglx': '/mnt/sphere/speech_bci/raw_data/z_y19o20_21/2021-10-27/sglx', 'kwik': '/experiment/z_y19o20_21/sglx/kwik/2021-10-27', 'processed': '/mnt/sphere/speech_bci/processed_data/z_y19o20_21/2021-10-27/sglx', 'derived': '/mnt/sphere/speech_bci/derived_data/z_y19o20_21/2021-10-27/sglx', 'tmp': '/experiment/tmp/tmp', 'msort': '/experiment/tmp/z_y19o20_21/sglx/msort/2021-10-27', 'ksort': '/experiment/tmp/z_y19o20_21/sglx/ksort/2021-10-27/sort_pt', 'sort': '/mnt/sphere/speech_bci/derived_data/z_y19o20_21/2021-10-27/sglx/sort_pt'}, 'files': {'par': '/experiment/tmp/z_y19o20_21/sglx/ksort/2021-10-27/sort_pt/params.json', 'set': '/mnt/sphere/speech_bci/raw_data/z_y19o20_21/2021-10-27/sglx/settings.isf', 'rig': '/mnt/sphere/speech_bci/raw_data/z_y19o20_21/2021-10-27/sglx/rig.json', 'kwd': '/experiment/z_y19o20_21/sglx/kwik/2021-10-27/stream.kwd', 'kwik': '/experiment/z_y19o20_21/sglx/kwik/2021-10-27/sort_sort_pt/spikes.kwik', 'kwe': '/experiment/z_y19o20_21/sglx/kwik/2021-10-27/events.kwe', 'dat_mic': '/mnt/sphere/speech_bci/processed_data/z_y19o20_21/2021-10-27/sglx/dat_mic.mat', 'dat_ap': '/mnt/sphere/speech_bci/processed_data/z_y19o20_21/2021-10-27/sglx/dat_ap.mat', 'allevents': '/mnt/sphere/speech_bci/processed_data/z_y19o20_21/2021-10-27/sglx/dat_all.pkl', 'wav_mic': '/mnt/sphere/speech_bci/derived_data/z_y19o20_21/2021-10-27/sglx/wav_mic.wav', 'mda_raw': '/experiment/tmp/z_y19o20_21/sglx/msort/2021-10-27/raw.mda', 'bin_raw': '/experiment/tmp/z_y19o20_21/sglx/ksort/2021-10-27/sort_pt/raw.bin'}}\n"
     ]
    },
    {
     "data": {
      "text/plain": [
       "['0815_unidrected_g0',\n",
       " '0900_unidrected_g0',\n",
       " '0930_directed_g0',\n",
       " '1033_undirected_g0',\n",
       " '1142_directed_g0',\n",
       " '1225_directed_g0',\n",
       " '1519_undirected_g0',\n",
       " '1550_undirected_g0',\n",
       " '1607_undirected_g0',\n",
       " '1635_directed_g0']"
      ]
     },
     "execution_count": 66,
     "metadata": {},
     "output_type": "execute_result"
    }
   ],
   "source": [
    "sess_epochs = et.list_sgl_epochs(sess_par)\n",
    "sess_epochs"
   ]
  },
  {
   "cell_type": "code",
   "execution_count": 6,
   "id": "posted-ceramic",
   "metadata": {},
   "outputs": [],
   "source": [
    "# raw_neuropix_data_g0 = '/net2/expData/speech_bci/raw_data/z_y19o20_21/2021-10-27/sglx/0815_unidrected_g0/' \n",
    "# sync_neuropix_data_g0 = '/net2/expData/speech_bci/derived_data/z_y19o20_21/2021-10-27/bout_rasters/0815_undirected_g0/' \n",
    "# sort_folder = '/net2/expData/speech_bci/derived_data/z_y19o20_21/2021-10-27/bout_rasters/0815_undirected_g0/sort_0/' \n",
    "\n",
    "# # [print(x[0]) for x in os.walk(sync_neuropix_data_g0)]\n",
    "\n",
    "# os.chdir(sync_neuropix_data_g0)"
   ]
  },
  {
   "cell_type": "code",
   "execution_count": 83,
   "id": "proved-concentrate",
   "metadata": {},
   "outputs": [],
   "source": [
    "\n",
    "### pick a session, epoch\n",
    "reload(et)\n",
    "reload(sglu)\n",
    "epoch = sess_epochs[0] \n",
    "sess_par['epoch'] = epoch\n",
    "\n",
    "exp_struct = et.sgl_struct(sess_par, epoch)\n",
    "sgl_folders, sgl_files = sglu.sgl_file_struct(exp_struct['folders']['sglx'])\n",
    "\n",
    "\n",
    "# os.listdir(exp_struct['folders']['derived'])"
   ]
  },
  {
   "cell_type": "code",
   "execution_count": 84,
   "id": "593dad6a-e3c9-4ecd-8a87-0f5552484712",
   "metadata": {},
   "outputs": [
    {
     "data": {
      "text/plain": [
       "{'folders': {'bird': '/mnt/sphere/speech_bci/raw_data/z_y19o20_21/0815_unidrected_g0',\n",
       "  'raw': '/mnt/sphere/speech_bci/raw_data/z_y19o20_21/2021-10-27/0815_unidrected_g0',\n",
       "  'sglx': '/mnt/sphere/speech_bci/raw_data/z_y19o20_21/2021-10-27/sglx/0815_unidrected_g0',\n",
       "  'kwik': '/experiment/z_y19o20_21/sglx/kwik/2021-10-27/0815_unidrected_g0',\n",
       "  'processed': '/mnt/sphere/speech_bci/processed_data/z_y19o20_21/2021-10-27/sglx/0815_unidrected_g0',\n",
       "  'derived': '/mnt/sphere/speech_bci/derived_data/z_y19o20_21/2021-10-27/sglx/0815_unidrected_g0',\n",
       "  'tmp': '/experiment/tmp/tmp/0815_unidrected_g0',\n",
       "  'msort': '/experiment/tmp/z_y19o20_21/sglx/msort/2021-10-27/0815_unidrected_g0',\n",
       "  'ksort': '/experiment/tmp/z_y19o20_21/sglx/ksort/2021-10-27/0815_unidrected_g0/sort_pt',\n",
       "  'sort': '/mnt/sphere/speech_bci/derived_data/z_y19o20_21/2021-10-27/sglx/0815_unidrected_g0/sort_pt'},\n",
       " 'files': {'par': '/experiment/tmp/z_y19o20_21/sglx/ksort/2021-10-27/0815_unidrected_g0/params.json',\n",
       "  'set': '/mnt/sphere/speech_bci/raw_data/z_y19o20_21/2021-10-27/sglx/settings.isf',\n",
       "  'rig': '/mnt/sphere/speech_bci/raw_data/z_y19o20_21/2021-10-27/sglx/rig.json',\n",
       "  'kwd': '/experiment/z_y19o20_21/sglx/kwik/2021-10-27/0815_unidrected_g0/stream.kwd',\n",
       "  'kwik': '/experiment/z_y19o20_21/sglx/kwik/2021-10-27/sort_/0815_unidrected_g0/sort_sort_pt/spikes.kwik',\n",
       "  'kwe': '/experiment/z_y19o20_21/sglx/kwik/2021-10-27/0815_unidrected_g0/events.kwe',\n",
       "  'dat_mic': '/mnt/sphere/speech_bci/processed_data/z_y19o20_21/2021-10-27/sglx/dat_mic.mat',\n",
       "  'dat_ap': '/mnt/sphere/speech_bci/processed_data/z_y19o20_21/2021-10-27/sglx/dat_ap.mat',\n",
       "  'allevents': '/mnt/sphere/speech_bci/processed_data/z_y19o20_21/2021-10-27/sglx/dat_all.pkl',\n",
       "  'wav_mic': '/mnt/sphere/speech_bci/derived_data/z_y19o20_21/2021-10-27/sglx/0815_unidrected_g0/wav_mic.wav',\n",
       "  'mda_raw': '/experiment/tmp/z_y19o20_21/sglx/msort/2021-10-27/0815_unidrected_g0/raw.mda',\n",
       "  'bin_raw': '/experiment/tmp/z_y19o20_21/sglx/ksort/2021-10-27/0815_unidrected_g0/raw.bin'}}"
      ]
     },
     "execution_count": 84,
     "metadata": {},
     "output_type": "execute_result"
    }
   ],
   "source": [
    "exp_struct"
   ]
  },
  {
   "cell_type": "code",
   "execution_count": 97,
   "id": "d261a200-603d-4a4d-b24c-b73ff49f349a",
   "metadata": {},
   "outputs": [],
   "source": [
    "os.chdir(exp_struct['folders']['derived'])"
   ]
  },
  {
   "cell_type": "markdown",
   "id": "jewish-shoot",
   "metadata": {},
   "source": [
    "# mot_dict.pkl - dictionary with motif data / metadata\n",
    "\n",
    "**‘template’**: np.array, template used to find motifs in raw recordings <br>\n",
    "**‘s_f’**: int, sample_rate of the stream used to find the template <br>\n",
    "**‘s_f_nidq’**: int, sample_rate of the ‘nidq’ imec binary file (and the wav_mic.npy), computed from the syn square signal <br>\n",
    "**‘s_f_ap_0’**: int, sample rate of the ‘ap0’ imec binary file, computed from the syn square signal <br>\n",
    "**‘start_ms’**: list, start in ms in the time scale of the wav_mic.wav file <br>\n",
    "**‘start_sample_naive’**: np.array, (for debugging: start sample expected from resampling start_ms to the nidq sample rate) <br>\n",
    "**‘start_sample_nidq’**: np.array, start sample in the binary (‘nidq’) imec file (= wav_mic.npy) <br>\n",
    "**‘start_t_0’**:  np.array, start in sec, relative to the binary (‘nidq’) imec file <br>\n",
    "**‘start_sample_ap_0’**: np.array, start sample corresponding in the probe binary imec file (‘ap0’) <br>\n",
    "**‘start_t_ap_0’**: np.array, start in sec, relative to the probe binary imec file (‘ap0’) \n"
   ]
  },
  {
   "cell_type": "code",
   "execution_count": 98,
   "id": "former-transportation",
   "metadata": {},
   "outputs": [
    {
     "ename": "FileNotFoundError",
     "evalue": "[Errno 2] No such file or directory: 'mot_dict_ap0.pkl'",
     "output_type": "error",
     "traceback": [
      "\u001b[0;31m---------------------------------------------------------------------------\u001b[0m",
      "\u001b[0;31mFileNotFoundError\u001b[0m                         Traceback (most recent call last)",
      "Input \u001b[0;32mIn [98]\u001b[0m, in \u001b[0;36m<module>\u001b[0;34m\u001b[0m\n\u001b[0;32m----> 1\u001b[0m \u001b[38;5;28;01mwith\u001b[39;00m \u001b[38;5;28;48;5;17mopen\u001b[39;49m\u001b[48;5;17m(\u001b[49m\u001b[38;5;124;48;5;17m'\u001b[39;49m\u001b[38;5;124;48;5;17mmot_dict_ap0.pkl\u001b[39;49m\u001b[38;5;124;48;5;17m'\u001b[39;49m\u001b[48;5;17m,\u001b[49m\u001b[48;5;17m \u001b[49m\u001b[38;5;124;48;5;17m'\u001b[39;49m\u001b[38;5;124;48;5;17mrb\u001b[39;49m\u001b[38;5;124;48;5;17m'\u001b[39;49m\u001b[48;5;17m)\u001b[49m \u001b[38;5;28;01mas\u001b[39;00m f:\n\u001b[1;32m      2\u001b[0m     mot_dict \u001b[38;5;241m=\u001b[39m pkl\u001b[38;5;241m.\u001b[39mload(f)\n\u001b[1;32m      4\u001b[0m mot_dict\n",
      "\u001b[0;31mFileNotFoundError\u001b[0m: [Errno 2] No such file or directory: 'mot_dict_ap0.pkl'"
     ]
    }
   ],
   "source": [
    "with open('mot_dict_ap0.pkl', 'rb') as f:\n",
    "    mot_dict = pkl.load(f)\n",
    "\n",
    "mot_dict"
   ]
  },
  {
   "cell_type": "code",
   "execution_count": 99,
   "id": "separated-england",
   "metadata": {},
   "outputs": [
    {
     "name": "stdout",
     "output_type": "stream",
     "text": [
      "[11940016 11954747 11978296 12002776 33575627 33589967 33613848 40941210\n",
      " 40964251 40988250]\n",
      "[15919546 15939186 15970585 16003225 44766165 44785284 44817124 54586648\n",
      " 54617367 54649367]\n"
     ]
    }
   ],
   "source": [
    "print(mot_dict['start_sample_ap_0'])\n",
    "print(mot_dict['start_sample_nidq'])"
   ]
  },
  {
   "cell_type": "code",
   "execution_count": 100,
   "id": "american-advancement",
   "metadata": {},
   "outputs": [],
   "source": [
    "# template = mot_dict['template']\n",
    "# plt.plot(template)"
   ]
  },
  {
   "cell_type": "markdown",
   "id": "olympic-distributor",
   "metadata": {},
   "source": [
    "# spk_df.pkl - pandas dataframe with clusters data\n",
    "\n",
    "**‘times’**: int, time in samples rel to the probe binary imec file (‘ap0’) <br>\n",
    "**‘clusters’**: int, cluster ids <br>\n"
   ]
  },
  {
   "cell_type": "code",
   "execution_count": 105,
   "id": "southern-istanbul",
   "metadata": {},
   "outputs": [
    {
     "data": {
      "text/html": [
       "<div>\n",
       "<style scoped>\n",
       "    .dataframe tbody tr th:only-of-type {\n",
       "        vertical-align: middle;\n",
       "    }\n",
       "\n",
       "    .dataframe tbody tr th {\n",
       "        vertical-align: top;\n",
       "    }\n",
       "\n",
       "    .dataframe thead th {\n",
       "        text-align: right;\n",
       "    }\n",
       "</style>\n",
       "<table border=\"1\" class=\"dataframe\">\n",
       "  <thead>\n",
       "    <tr style=\"text-align: right;\">\n",
       "      <th></th>\n",
       "      <th>times</th>\n",
       "      <th>clusters</th>\n",
       "      <th>cluster_id</th>\n",
       "      <th>nucelus</th>\n",
       "      <th>main_chan</th>\n",
       "      <th>kslabel</th>\n",
       "    </tr>\n",
       "  </thead>\n",
       "  <tbody>\n",
       "    <tr>\n",
       "      <th>0</th>\n",
       "      <td>137</td>\n",
       "      <td>139</td>\n",
       "      <td>139</td>\n",
       "      <td>ra</td>\n",
       "      <td>66</td>\n",
       "      <td>good</td>\n",
       "    </tr>\n",
       "    <tr>\n",
       "      <th>1</th>\n",
       "      <td>140</td>\n",
       "      <td>320</td>\n",
       "      <td>320</td>\n",
       "      <td>NaN</td>\n",
       "      <td>197</td>\n",
       "      <td>good</td>\n",
       "    </tr>\n",
       "    <tr>\n",
       "      <th>2</th>\n",
       "      <td>189</td>\n",
       "      <td>175</td>\n",
       "      <td>175</td>\n",
       "      <td>ra</td>\n",
       "      <td>84</td>\n",
       "      <td>good</td>\n",
       "    </tr>\n",
       "    <tr>\n",
       "      <th>3</th>\n",
       "      <td>206</td>\n",
       "      <td>93</td>\n",
       "      <td>93</td>\n",
       "      <td>ra</td>\n",
       "      <td>52</td>\n",
       "      <td>good</td>\n",
       "    </tr>\n",
       "    <tr>\n",
       "      <th>4</th>\n",
       "      <td>206</td>\n",
       "      <td>177</td>\n",
       "      <td>177</td>\n",
       "      <td>ra</td>\n",
       "      <td>91</td>\n",
       "      <td>good</td>\n",
       "    </tr>\n",
       "    <tr>\n",
       "      <th>...</th>\n",
       "      <td>...</td>\n",
       "      <td>...</td>\n",
       "      <td>...</td>\n",
       "      <td>...</td>\n",
       "      <td>...</td>\n",
       "      <td>...</td>\n",
       "    </tr>\n",
       "    <tr>\n",
       "      <th>5777461</th>\n",
       "      <td>56635865</td>\n",
       "      <td>156</td>\n",
       "      <td>156</td>\n",
       "      <td>ra</td>\n",
       "      <td>75</td>\n",
       "      <td>mua</td>\n",
       "    </tr>\n",
       "    <tr>\n",
       "      <th>5777462</th>\n",
       "      <td>56635866</td>\n",
       "      <td>104</td>\n",
       "      <td>104</td>\n",
       "      <td>ra</td>\n",
       "      <td>58</td>\n",
       "      <td>good</td>\n",
       "    </tr>\n",
       "    <tr>\n",
       "      <th>5777463</th>\n",
       "      <td>56635868</td>\n",
       "      <td>222</td>\n",
       "      <td>222</td>\n",
       "      <td>ra</td>\n",
       "      <td>107</td>\n",
       "      <td>mua</td>\n",
       "    </tr>\n",
       "    <tr>\n",
       "      <th>5777464</th>\n",
       "      <td>56635875</td>\n",
       "      <td>139</td>\n",
       "      <td>139</td>\n",
       "      <td>ra</td>\n",
       "      <td>66</td>\n",
       "      <td>good</td>\n",
       "    </tr>\n",
       "    <tr>\n",
       "      <th>5777465</th>\n",
       "      <td>56635876</td>\n",
       "      <td>173</td>\n",
       "      <td>173</td>\n",
       "      <td>ra</td>\n",
       "      <td>88</td>\n",
       "      <td>good</td>\n",
       "    </tr>\n",
       "  </tbody>\n",
       "</table>\n",
       "<p>5777466 rows × 6 columns</p>\n",
       "</div>"
      ],
      "text/plain": [
       "            times  clusters  cluster_id nucelus  main_chan kslabel\n",
       "0             137       139         139      ra         66    good\n",
       "1             140       320         320     NaN        197    good\n",
       "2             189       175         175      ra         84    good\n",
       "3             206        93          93      ra         52    good\n",
       "4             206       177         177      ra         91    good\n",
       "...           ...       ...         ...     ...        ...     ...\n",
       "5777461  56635865       156         156      ra         75     mua\n",
       "5777462  56635866       104         104      ra         58    good\n",
       "5777463  56635868       222         222      ra        107     mua\n",
       "5777464  56635875       139         139      ra         66    good\n",
       "5777465  56635876       173         173      ra         88    good\n",
       "\n",
       "[5777466 rows x 6 columns]"
      ]
     },
     "execution_count": 105,
     "metadata": {},
     "output_type": "execute_result"
    }
   ],
   "source": [
    "with open('spk_df.pickle', 'rb') as f:\n",
    "    spk_df = pkl.load(f)\n",
    "\n",
    "spk_df"
   ]
  },
  {
   "cell_type": "code",
   "execution_count": 106,
   "id": "rocky-family",
   "metadata": {},
   "outputs": [
    {
     "data": {
      "text/plain": [
       "52              709\n",
       "114            1412\n",
       "282            3063\n",
       "350            3736\n",
       "405            4248\n",
       "             ...   \n",
       "5777055    56631601\n",
       "5777162    56632712\n",
       "5777259    56633686\n",
       "5777357    56634624\n",
       "5777419    56635430\n",
       "Name: times, Length: 60826, dtype: uint64"
      ]
     },
     "execution_count": 106,
     "metadata": {},
     "output_type": "execute_result"
    }
   ],
   "source": [
    "# get all the times when a spike occurs in a given cluster (time is sample in ap_0 timescale)\n",
    "spk_df[spk_df['clusters']==50]['times']"
   ]
  },
  {
   "cell_type": "markdown",
   "id": "athletic-strengthening",
   "metadata": {},
   "source": [
    "# clu_df.pkl - pandas dataframe with clusters metadata\n",
    "\n",
    "**cluster_id**: int <br>\n",
    "**KSLabel**: str ‘good’, ‘mua’ KSLabel: str ‘good’, ‘mua’ <br>\n",
    "**template**: np.array, template of the spike waveform <br>\n",
    "**max_chans**: np.array, channels ordered by amplitude of the waveform <br>\n",
    "**main_chan**: np.array ,channel with maximum amplitude <br>\n",
    "**main_7**: 7 highest amplitude channels <br>\n",
    "**main_wav_7**: template in 7 highest amplitude channels <br>\n",
    "**nucleus**: str / NAN, ‘hvc’, ‘ra’, NAN <br>\n"
   ]
  },
  {
   "cell_type": "code",
   "execution_count": 108,
   "id": "proper-south",
   "metadata": {},
   "outputs": [
    {
     "data": {
      "text/html": [
       "<div>\n",
       "<style scoped>\n",
       "    .dataframe tbody tr th:only-of-type {\n",
       "        vertical-align: middle;\n",
       "    }\n",
       "\n",
       "    .dataframe tbody tr th {\n",
       "        vertical-align: top;\n",
       "    }\n",
       "\n",
       "    .dataframe thead th {\n",
       "        text-align: right;\n",
       "    }\n",
       "</style>\n",
       "<table border=\"1\" class=\"dataframe\">\n",
       "  <thead>\n",
       "    <tr style=\"text-align: right;\">\n",
       "      <th></th>\n",
       "      <th>cluster_id</th>\n",
       "      <th>Amplitude</th>\n",
       "      <th>ContamPct</th>\n",
       "      <th>KSLabel</th>\n",
       "      <th>amp</th>\n",
       "      <th>ch</th>\n",
       "      <th>depth</th>\n",
       "      <th>fr</th>\n",
       "      <th>group</th>\n",
       "      <th>n_spikes</th>\n",
       "      <th>sh</th>\n",
       "      <th>main_chan</th>\n",
       "      <th>MSLabel</th>\n",
       "      <th>has_template</th>\n",
       "      <th>template</th>\n",
       "      <th>max_chans</th>\n",
       "      <th>main_7</th>\n",
       "      <th>main_wav_7</th>\n",
       "      <th>nucleus</th>\n",
       "    </tr>\n",
       "  </thead>\n",
       "  <tbody>\n",
       "    <tr>\n",
       "      <th>3</th>\n",
       "      <td>3</td>\n",
       "      <td>2203.8</td>\n",
       "      <td>100.0</td>\n",
       "      <td>good</td>\n",
       "      <td>94.135460</td>\n",
       "      <td>5</td>\n",
       "      <td>40.0</td>\n",
       "      <td>0.671127</td>\n",
       "      <td>good</td>\n",
       "      <td>1267</td>\n",
       "      <td>0</td>\n",
       "      <td>5</td>\n",
       "      <td>good</td>\n",
       "      <td>True</td>\n",
       "      <td>[[0.0, 0.0, 0.0, 0.0, 0.0, 0.0, 0.0, 0.0, 0.0,...</td>\n",
       "      <td>[5, 3, 4, 7, 6, 2, 1, 8, 9, 0, 10, 12, 14, 11,...</td>\n",
       "      <td>[1, 2, 3, 4, 5, 6, 7]</td>\n",
       "      <td>[[0.0, 0.0, 0.0, 0.0, 0.0, 0.0, 0.0], [0.0, 0....</td>\n",
       "      <td>NaN</td>\n",
       "    </tr>\n",
       "    <tr>\n",
       "      <th>424</th>\n",
       "      <td>511</td>\n",
       "      <td>1702.4</td>\n",
       "      <td>100.0</td>\n",
       "      <td>good</td>\n",
       "      <td>75.986816</td>\n",
       "      <td>6</td>\n",
       "      <td>60.0</td>\n",
       "      <td>0.208171</td>\n",
       "      <td>good</td>\n",
       "      <td>393</td>\n",
       "      <td>0</td>\n",
       "      <td>6</td>\n",
       "      <td>good</td>\n",
       "      <td>False</td>\n",
       "      <td>[[0.0, 0.0, 0.0, 0.0, 0.0, 0.0, 0.0, 0.0, 0.0,...</td>\n",
       "      <td>NaN</td>\n",
       "      <td>NaN</td>\n",
       "      <td>NaN</td>\n",
       "      <td>NaN</td>\n",
       "    </tr>\n",
       "    <tr>\n",
       "      <th>425</th>\n",
       "      <td>513</td>\n",
       "      <td>1736.4</td>\n",
       "      <td>100.0</td>\n",
       "      <td>good</td>\n",
       "      <td>73.471085</td>\n",
       "      <td>25</td>\n",
       "      <td>240.0</td>\n",
       "      <td>0.452362</td>\n",
       "      <td>good</td>\n",
       "      <td>854</td>\n",
       "      <td>0</td>\n",
       "      <td>25</td>\n",
       "      <td>good</td>\n",
       "      <td>False</td>\n",
       "      <td>[[0.0, 0.0, 0.0, 0.0, 0.0, 0.0, 0.0, 0.0, 0.0,...</td>\n",
       "      <td>NaN</td>\n",
       "      <td>NaN</td>\n",
       "      <td>NaN</td>\n",
       "      <td>ra</td>\n",
       "    </tr>\n",
       "    <tr>\n",
       "      <th>11</th>\n",
       "      <td>16</td>\n",
       "      <td>2657.0</td>\n",
       "      <td>100.0</td>\n",
       "      <td>good</td>\n",
       "      <td>87.184921</td>\n",
       "      <td>27</td>\n",
       "      <td>260.0</td>\n",
       "      <td>2.806340</td>\n",
       "      <td>good</td>\n",
       "      <td>5298</td>\n",
       "      <td>0</td>\n",
       "      <td>27</td>\n",
       "      <td>good</td>\n",
       "      <td>True</td>\n",
       "      <td>[[0.0, 0.0, 0.0, 0.0, 0.0, 0.0, 0.0, 0.0, 0.0,...</td>\n",
       "      <td>[27, 29, 28, 25, 24, 31, 26, 23, 21, 19, 30, 2...</td>\n",
       "      <td>[24, 25, 26, 27, 28, 29, 31]</td>\n",
       "      <td>[[0.0, 0.0, 0.0, 0.0, 0.0, 0.0, 0.0], [0.0, 0....</td>\n",
       "      <td>ra</td>\n",
       "    </tr>\n",
       "    <tr>\n",
       "      <th>14</th>\n",
       "      <td>20</td>\n",
       "      <td>2036.0</td>\n",
       "      <td>100.0</td>\n",
       "      <td>mua</td>\n",
       "      <td>87.493256</td>\n",
       "      <td>29</td>\n",
       "      <td>280.0</td>\n",
       "      <td>1.510169</td>\n",
       "      <td>good</td>\n",
       "      <td>2851</td>\n",
       "      <td>0</td>\n",
       "      <td>29</td>\n",
       "      <td>good</td>\n",
       "      <td>True</td>\n",
       "      <td>[[0.0, 0.0, 0.0, 0.0, 0.0, 0.0, 0.0, 0.0, 0.0,...</td>\n",
       "      <td>[29, 31, 33, 27, 28, 32, 26, 24, 35, 25, 30, 3...</td>\n",
       "      <td>[26, 27, 28, 29, 31, 32, 33]</td>\n",
       "      <td>[[0.0, 0.0, 0.0, 0.0, 0.0, 0.0, 0.0], [0.0, 0....</td>\n",
       "      <td>ra</td>\n",
       "    </tr>\n",
       "    <tr>\n",
       "      <th>...</th>\n",
       "      <td>...</td>\n",
       "      <td>...</td>\n",
       "      <td>...</td>\n",
       "      <td>...</td>\n",
       "      <td>...</td>\n",
       "      <td>...</td>\n",
       "      <td>...</td>\n",
       "      <td>...</td>\n",
       "      <td>...</td>\n",
       "      <td>...</td>\n",
       "      <td>...</td>\n",
       "      <td>...</td>\n",
       "      <td>...</td>\n",
       "      <td>...</td>\n",
       "      <td>...</td>\n",
       "      <td>...</td>\n",
       "      <td>...</td>\n",
       "      <td>...</td>\n",
       "      <td>...</td>\n",
       "    </tr>\n",
       "    <tr>\n",
       "      <th>331</th>\n",
       "      <td>408</td>\n",
       "      <td>1101.2</td>\n",
       "      <td>100.0</td>\n",
       "      <td>mua</td>\n",
       "      <td>44.421074</td>\n",
       "      <td>260</td>\n",
       "      <td>2600.0</td>\n",
       "      <td>0.056148</td>\n",
       "      <td>NaN</td>\n",
       "      <td>106</td>\n",
       "      <td>0</td>\n",
       "      <td>260</td>\n",
       "      <td>NaN</td>\n",
       "      <td>True</td>\n",
       "      <td>[[0.0, 0.0, 0.0, 0.0, 0.0, 0.0, 0.0, 0.0, 0.0,...</td>\n",
       "      <td>[260, 264, 263, 262, 258, 261, 259, 267, 265, ...</td>\n",
       "      <td>[258, 259, 260, 261, 262, 263, 264]</td>\n",
       "      <td>[[0.0, 0.0, 0.0, 0.0, 0.0, 0.0, 0.0], [0.0, 0....</td>\n",
       "      <td>NaN</td>\n",
       "    </tr>\n",
       "    <tr>\n",
       "      <th>364</th>\n",
       "      <td>449</td>\n",
       "      <td>2769.1</td>\n",
       "      <td>100.0</td>\n",
       "      <td>good</td>\n",
       "      <td>41.386757</td>\n",
       "      <td>306</td>\n",
       "      <td>3060.0</td>\n",
       "      <td>0.184865</td>\n",
       "      <td>NaN</td>\n",
       "      <td>349</td>\n",
       "      <td>0</td>\n",
       "      <td>306</td>\n",
       "      <td>NaN</td>\n",
       "      <td>True</td>\n",
       "      <td>[[0.0, 0.0, 0.0, 0.0, 0.0, 0.0, 0.0, 0.0, 0.0,...</td>\n",
       "      <td>[306, 308, 309, 311, 304, 316, 313, 310, 312, ...</td>\n",
       "      <td>[304, 306, 308, 309, 311, 313, 316]</td>\n",
       "      <td>[[0.0, 0.0, 0.0, 0.0, 0.0, 0.0, 0.0], [0.0, 0....</td>\n",
       "      <td>NaN</td>\n",
       "    </tr>\n",
       "    <tr>\n",
       "      <th>366</th>\n",
       "      <td>451</td>\n",
       "      <td>816.0</td>\n",
       "      <td>100.0</td>\n",
       "      <td>good</td>\n",
       "      <td>41.838512</td>\n",
       "      <td>306</td>\n",
       "      <td>3060.0</td>\n",
       "      <td>29.731419</td>\n",
       "      <td>NaN</td>\n",
       "      <td>56129</td>\n",
       "      <td>0</td>\n",
       "      <td>306</td>\n",
       "      <td>NaN</td>\n",
       "      <td>True</td>\n",
       "      <td>[[0.0, 0.0, 0.0, 0.0, 0.0, 0.0, 0.0, 0.0, 0.0,...</td>\n",
       "      <td>[306, 308, 309, 310, 311, 307, 304, 314, 313, ...</td>\n",
       "      <td>[304, 306, 307, 308, 309, 310, 311]</td>\n",
       "      <td>[[0.0, 0.0, 0.0, 0.0, 0.0, 0.0, 0.0], [0.0, 0....</td>\n",
       "      <td>NaN</td>\n",
       "    </tr>\n",
       "    <tr>\n",
       "      <th>372</th>\n",
       "      <td>457</td>\n",
       "      <td>3259.1</td>\n",
       "      <td>100.0</td>\n",
       "      <td>good</td>\n",
       "      <td>41.657963</td>\n",
       "      <td>316</td>\n",
       "      <td>3160.0</td>\n",
       "      <td>0.161028</td>\n",
       "      <td>NaN</td>\n",
       "      <td>304</td>\n",
       "      <td>0</td>\n",
       "      <td>316</td>\n",
       "      <td>NaN</td>\n",
       "      <td>True</td>\n",
       "      <td>[[0.0, 0.0, 0.0, 0.0, 0.0, 0.0, 0.0, 0.0, 0.0,...</td>\n",
       "      <td>[316, 314, 321, 320, 310, 318, 323, 319, 311, ...</td>\n",
       "      <td>[310, 314, 316, 318, 320, 321, 323]</td>\n",
       "      <td>[[0.0, 0.0, 0.0, 0.0, 0.0, 0.0, 0.0], [0.0, 0....</td>\n",
       "      <td>NaN</td>\n",
       "    </tr>\n",
       "    <tr>\n",
       "      <th>385</th>\n",
       "      <td>472</td>\n",
       "      <td>811.2</td>\n",
       "      <td>100.0</td>\n",
       "      <td>good</td>\n",
       "      <td>40.734623</td>\n",
       "      <td>321</td>\n",
       "      <td>3200.0</td>\n",
       "      <td>40.136277</td>\n",
       "      <td>NaN</td>\n",
       "      <td>75772</td>\n",
       "      <td>0</td>\n",
       "      <td>321</td>\n",
       "      <td>NaN</td>\n",
       "      <td>True</td>\n",
       "      <td>[[0.0, 0.0, 0.0, 0.0, 0.0, 0.0, 0.0, 0.0, 0.0,...</td>\n",
       "      <td>[321, 325, 323, 319, 320, 318, 316, 314, 327, ...</td>\n",
       "      <td>[316, 318, 319, 320, 321, 323, 325]</td>\n",
       "      <td>[[0.0, 0.0, 0.0, 0.0, 0.0, 0.0, 0.0], [0.0, 0....</td>\n",
       "      <td>NaN</td>\n",
       "    </tr>\n",
       "  </tbody>\n",
       "</table>\n",
       "<p>435 rows × 19 columns</p>\n",
       "</div>"
      ],
      "text/plain": [
       "     cluster_id  Amplitude  ContamPct KSLabel        amp   ch   depth  \\\n",
       "3             3     2203.8      100.0    good  94.135460    5    40.0   \n",
       "424         511     1702.4      100.0    good  75.986816    6    60.0   \n",
       "425         513     1736.4      100.0    good  73.471085   25   240.0   \n",
       "11           16     2657.0      100.0    good  87.184921   27   260.0   \n",
       "14           20     2036.0      100.0     mua  87.493256   29   280.0   \n",
       "..          ...        ...        ...     ...        ...  ...     ...   \n",
       "331         408     1101.2      100.0     mua  44.421074  260  2600.0   \n",
       "364         449     2769.1      100.0    good  41.386757  306  3060.0   \n",
       "366         451      816.0      100.0    good  41.838512  306  3060.0   \n",
       "372         457     3259.1      100.0    good  41.657963  316  3160.0   \n",
       "385         472      811.2      100.0    good  40.734623  321  3200.0   \n",
       "\n",
       "            fr group  n_spikes  sh  main_chan MSLabel  has_template  \\\n",
       "3     0.671127  good      1267   0          5    good          True   \n",
       "424   0.208171  good       393   0          6    good         False   \n",
       "425   0.452362  good       854   0         25    good         False   \n",
       "11    2.806340  good      5298   0         27    good          True   \n",
       "14    1.510169  good      2851   0         29    good          True   \n",
       "..         ...   ...       ...  ..        ...     ...           ...   \n",
       "331   0.056148   NaN       106   0        260     NaN          True   \n",
       "364   0.184865   NaN       349   0        306     NaN          True   \n",
       "366  29.731419   NaN     56129   0        306     NaN          True   \n",
       "372   0.161028   NaN       304   0        316     NaN          True   \n",
       "385  40.136277   NaN     75772   0        321     NaN          True   \n",
       "\n",
       "                                              template  \\\n",
       "3    [[0.0, 0.0, 0.0, 0.0, 0.0, 0.0, 0.0, 0.0, 0.0,...   \n",
       "424  [[0.0, 0.0, 0.0, 0.0, 0.0, 0.0, 0.0, 0.0, 0.0,...   \n",
       "425  [[0.0, 0.0, 0.0, 0.0, 0.0, 0.0, 0.0, 0.0, 0.0,...   \n",
       "11   [[0.0, 0.0, 0.0, 0.0, 0.0, 0.0, 0.0, 0.0, 0.0,...   \n",
       "14   [[0.0, 0.0, 0.0, 0.0, 0.0, 0.0, 0.0, 0.0, 0.0,...   \n",
       "..                                                 ...   \n",
       "331  [[0.0, 0.0, 0.0, 0.0, 0.0, 0.0, 0.0, 0.0, 0.0,...   \n",
       "364  [[0.0, 0.0, 0.0, 0.0, 0.0, 0.0, 0.0, 0.0, 0.0,...   \n",
       "366  [[0.0, 0.0, 0.0, 0.0, 0.0, 0.0, 0.0, 0.0, 0.0,...   \n",
       "372  [[0.0, 0.0, 0.0, 0.0, 0.0, 0.0, 0.0, 0.0, 0.0,...   \n",
       "385  [[0.0, 0.0, 0.0, 0.0, 0.0, 0.0, 0.0, 0.0, 0.0,...   \n",
       "\n",
       "                                             max_chans  \\\n",
       "3    [5, 3, 4, 7, 6, 2, 1, 8, 9, 0, 10, 12, 14, 11,...   \n",
       "424                                                NaN   \n",
       "425                                                NaN   \n",
       "11   [27, 29, 28, 25, 24, 31, 26, 23, 21, 19, 30, 2...   \n",
       "14   [29, 31, 33, 27, 28, 32, 26, 24, 35, 25, 30, 3...   \n",
       "..                                                 ...   \n",
       "331  [260, 264, 263, 262, 258, 261, 259, 267, 265, ...   \n",
       "364  [306, 308, 309, 311, 304, 316, 313, 310, 312, ...   \n",
       "366  [306, 308, 309, 310, 311, 307, 304, 314, 313, ...   \n",
       "372  [316, 314, 321, 320, 310, 318, 323, 319, 311, ...   \n",
       "385  [321, 325, 323, 319, 320, 318, 316, 314, 327, ...   \n",
       "\n",
       "                                  main_7  \\\n",
       "3                  [1, 2, 3, 4, 5, 6, 7]   \n",
       "424                                  NaN   \n",
       "425                                  NaN   \n",
       "11          [24, 25, 26, 27, 28, 29, 31]   \n",
       "14          [26, 27, 28, 29, 31, 32, 33]   \n",
       "..                                   ...   \n",
       "331  [258, 259, 260, 261, 262, 263, 264]   \n",
       "364  [304, 306, 308, 309, 311, 313, 316]   \n",
       "366  [304, 306, 307, 308, 309, 310, 311]   \n",
       "372  [310, 314, 316, 318, 320, 321, 323]   \n",
       "385  [316, 318, 319, 320, 321, 323, 325]   \n",
       "\n",
       "                                            main_wav_7 nucleus  \n",
       "3    [[0.0, 0.0, 0.0, 0.0, 0.0, 0.0, 0.0], [0.0, 0....     NaN  \n",
       "424                                                NaN     NaN  \n",
       "425                                                NaN      ra  \n",
       "11   [[0.0, 0.0, 0.0, 0.0, 0.0, 0.0, 0.0], [0.0, 0....      ra  \n",
       "14   [[0.0, 0.0, 0.0, 0.0, 0.0, 0.0, 0.0], [0.0, 0....      ra  \n",
       "..                                                 ...     ...  \n",
       "331  [[0.0, 0.0, 0.0, 0.0, 0.0, 0.0, 0.0], [0.0, 0....     NaN  \n",
       "364  [[0.0, 0.0, 0.0, 0.0, 0.0, 0.0, 0.0], [0.0, 0....     NaN  \n",
       "366  [[0.0, 0.0, 0.0, 0.0, 0.0, 0.0, 0.0], [0.0, 0....     NaN  \n",
       "372  [[0.0, 0.0, 0.0, 0.0, 0.0, 0.0, 0.0], [0.0, 0....     NaN  \n",
       "385  [[0.0, 0.0, 0.0, 0.0, 0.0, 0.0, 0.0], [0.0, 0....     NaN  \n",
       "\n",
       "[435 rows x 19 columns]"
      ]
     },
     "execution_count": 108,
     "metadata": {},
     "output_type": "execute_result"
    }
   ],
   "source": [
    "with open('clu_df.pickle', 'rb') as f:\n",
    "    clu_df = pkl.load(f)\n",
    "\n",
    "clu_df"
   ]
  },
  {
   "cell_type": "code",
   "execution_count": 109,
   "id": "tender-rebecca",
   "metadata": {},
   "outputs": [
    {
     "name": "stdout",
     "output_type": "stream",
     "text": [
      "[nan 'ra']\n",
      "['good' 'mua']\n",
      "[  3 511 513  16  20  19  22  28  23  27  32  33  35  36  37  38  52  53\n",
      "  39  55  57  50  51  56  60  40  54  63  78  81 515 519  64  92 518  93\n",
      "  65  68  72  99 101 102 103  94 111 116 104 106 120 105 107 108 133 136\n",
      " 138 134 137 126 145 135 139 141 144 151 152 167 169 175 174 173 172 178\n",
      " 176 177 188 196 200 191 202 201 208 210 203 212 218 221 225 231 232 233\n",
      " 253 258 252 257 271 281 274 278 288 291 295 294 305 311 313 298 323 324\n",
      " 322 320 327 330 337 333 336 343 342 349 354 351 353 362 350 363 364 358\n",
      " 367 368 366 374 377 378 384 386 388 392 399 400 404 405 407 406 420   0\n",
      "   1   2   4   9  10  11  13  15  18  21  26 514  62  84  87 516  79 112\n",
      " 117 524 147 153 155 154 156 158 157 168 170 171 182 185 181 192 194 198\n",
      " 186 187 189 204 209 214 215 211 213 217 220 222 223 228 229 224 230 234\n",
      " 235 236 241 238 242 244 246 250 256 254 259 255 261 262 264 260 268 270\n",
      " 266 265 272 273 277 282 284 276 285 296 287 293 300 302 303 315 297 308\n",
      " 310 301 312 316 325 319 321 326 329 331 332 338 334 348 344 346 340 345\n",
      " 352 355 365 361 356 371 373 376 382 375 379 381 383 385 391 389 390 387\n",
      " 393 394 398 402 401 403 414 523 522 416 417 418 520 422 427 434 431 435\n",
      " 438 436 439 440 441 442 446 454 474 477 484 490 495 497 498 499 501 502\n",
      "  12 148 179 183 184 190 197 216 240 237 239 243 245 247 248 251 263 279\n",
      " 280 283 314 299 306 317 335 357 360 370 395 397 409 426 428 429 430 423\n",
      " 424 425 432 433 437 444 445 443 448 452 450 453 455 458 456 459 460 464\n",
      " 465 462 466 467 468 470 473 463 469 475 476 482 478 481 483 479 487 485\n",
      " 486 489 480 488 491 492 493 494 496 500 506 507 503 509 505 504 508  58\n",
      " 118 269 307 309 328 510  34 119 122 130 131 149 150 166 159 163 164 165\n",
      " 180 199 219 226 227 249 286 292 290 318 347 341 372 369 380 396 408 449\n",
      " 451 457 472]\n"
     ]
    }
   ],
   "source": [
    "print(clu_df['nucleus'].unique())\n",
    "print(clu_df['KSLabel'].unique())\n",
    "print(clu_df['cluster_id'].unique())"
   ]
  },
  {
   "cell_type": "markdown",
   "id": "rapid-stage",
   "metadata": {},
   "source": [
    "# wav_mic.npy - Microphone waveform directly from the binary imec file 'nidq'"
   ]
  },
  {
   "cell_type": "code",
   "execution_count": 110,
   "id": "supported-depth",
   "metadata": {},
   "outputs": [
    {
     "ename": "FileNotFoundError",
     "evalue": "[Errno 2] No such file or directory: 'wav_mic.npy'",
     "output_type": "error",
     "traceback": [
      "\u001b[0;31m---------------------------------------------------------------------------\u001b[0m",
      "\u001b[0;31mFileNotFoundError\u001b[0m                         Traceback (most recent call last)",
      "Input \u001b[0;32mIn [110]\u001b[0m, in \u001b[0;36m<module>\u001b[0;34m\u001b[0m\n\u001b[1;32m      1\u001b[0m \u001b[38;5;66;03m# wav_mic.npy - Microphone waveform directly from the binary imec file 'nidq'\u001b[39;00m\n\u001b[0;32m----> 3\u001b[0m npy_mic \u001b[38;5;241m=\u001b[39m \u001b[48;5;17mnp\u001b[49m\u001b[38;5;241;48;5;17m.\u001b[39;49m\u001b[48;5;17mload\u001b[49m\u001b[48;5;17m(\u001b[49m\u001b[38;5;124;48;5;17m'\u001b[39;49m\u001b[38;5;124;48;5;17mwav_mic.npy\u001b[39;49m\u001b[38;5;124;48;5;17m'\u001b[39;49m\u001b[48;5;17m)\u001b[49m\n\u001b[1;32m      5\u001b[0m \u001b[38;5;28;01mfrom\u001b[39;00m \u001b[38;5;21;01mscipy\u001b[39;00m\u001b[38;5;21;01m.\u001b[39;00m\u001b[38;5;21;01mio\u001b[39;00m \u001b[38;5;28;01mimport\u001b[39;00m wavfile\n\u001b[1;32m      6\u001b[0m samplerate, wav_mic \u001b[38;5;241m=\u001b[39m wavfile\u001b[38;5;241m.\u001b[39mread(\u001b[38;5;124m'\u001b[39m\u001b[38;5;124mwav_mic.wav\u001b[39m\u001b[38;5;124m'\u001b[39m)\n",
      "File \u001b[0;32m~/.local/lib/python3.8/site-packages/numpy/lib/npyio.py\u001b[0m, in \u001b[0;36mload\u001b[0;34m(file, mmap_mode, allow_pickle, fix_imports, encoding)\u001b[0m\n\u001b[1;32m    405\u001b[0m     own_fid \u001b[38;5;241m=\u001b[39m \u001b[38;5;28;01mFalse\u001b[39;00m\n\u001b[1;32m    406\u001b[0m \u001b[38;5;28;01melse\u001b[39;00m:\n\u001b[0;32m--> 407\u001b[0m     fid \u001b[38;5;241m=\u001b[39m stack\u001b[38;5;241m.\u001b[39menter_context(\u001b[38;5;28;48;5;17mopen\u001b[39;49m\u001b[48;5;17m(\u001b[49m\u001b[48;5;17mos_fspath\u001b[49m\u001b[48;5;17m(\u001b[49m\u001b[48;5;17mfile\u001b[49m\u001b[48;5;17m)\u001b[49m\u001b[48;5;17m,\u001b[49m\u001b[48;5;17m \u001b[49m\u001b[38;5;124;48;5;17m\"\u001b[39;49m\u001b[38;5;124;48;5;17mrb\u001b[39;49m\u001b[38;5;124;48;5;17m\"\u001b[39;49m\u001b[48;5;17m)\u001b[49m)\n\u001b[1;32m    408\u001b[0m     own_fid \u001b[38;5;241m=\u001b[39m \u001b[38;5;28;01mTrue\u001b[39;00m\n\u001b[1;32m    410\u001b[0m \u001b[38;5;66;03m# Code to distinguish from NumPy binary files and pickles.\u001b[39;00m\n",
      "\u001b[0;31mFileNotFoundError\u001b[0m: [Errno 2] No such file or directory: 'wav_mic.npy'"
     ]
    }
   ],
   "source": [
    "# wav_mic.npy - Microphone waveform directly from the binary imec file 'nidq'\n",
    "\n",
    "npy_mic = np.load('wav_mic.npy')\n",
    "\n",
    "from scipy.io import wavfile\n",
    "samplerate, wav_mic = wavfile.read('wav_mic.wav')\n",
    "\n",
    "plt.plot(wav_mic)\n",
    "\n",
    "print(len(npy_mic))\n",
    "print(len(wav_mic))\n"
   ]
  },
  {
   "cell_type": "code",
   "execution_count": 111,
   "id": "express-maintenance",
   "metadata": {},
   "outputs": [
    {
     "data": {
      "text/plain": [
       "40000"
      ]
     },
     "execution_count": 111,
     "metadata": {},
     "output_type": "execute_result"
    }
   ],
   "source": [
    "samplerate"
   ]
  },
  {
   "cell_type": "markdown",
   "id": "entire-pierre",
   "metadata": {},
   "source": [
    "# Load Raw Neural Neuropixel Data"
   ]
  },
  {
   "cell_type": "code",
   "execution_count": 112,
   "id": "electric-stability",
   "metadata": {},
   "outputs": [
    {
     "ename": "NameError",
     "evalue": "name 'raw_neuropix_data_g0' is not defined",
     "output_type": "error",
     "traceback": [
      "\u001b[0;31m---------------------------------------------------------------------------\u001b[0m",
      "\u001b[0;31mNameError\u001b[0m                                 Traceback (most recent call last)",
      "Input \u001b[0;32mIn [112]\u001b[0m, in \u001b[0;36m<module>\u001b[0;34m\u001b[0m\n\u001b[0;32m----> 1\u001b[0m run_meta_files \u001b[38;5;241m=\u001b[39m {\u001b[38;5;124m'\u001b[39m\u001b[38;5;124mnidq\u001b[39m\u001b[38;5;124m'\u001b[39m: \u001b[48;5;17mraw_neuropix_data_g0\u001b[49m \u001b[38;5;241m+\u001b[39m \u001b[38;5;124m'\u001b[39m\u001b[38;5;124m0815_unidrected_g0_t0.nidq.meta\u001b[39m\u001b[38;5;124m'\u001b[39m,\n\u001b[1;32m      2\u001b[0m  \u001b[38;5;124m'\u001b[39m\u001b[38;5;124mlf_0\u001b[39m\u001b[38;5;124m'\u001b[39m: raw_neuropix_data_g0 \u001b[38;5;241m+\u001b[39m \u001b[38;5;124m'\u001b[39m\u001b[38;5;124m0815_unidrected_g0_imec0/0815_unidrected_g0_t0.imec0.lf.meta\u001b[39m\u001b[38;5;124m'\u001b[39m,\n\u001b[1;32m      3\u001b[0m  \u001b[38;5;124m'\u001b[39m\u001b[38;5;124map_0\u001b[39m\u001b[38;5;124m'\u001b[39m: raw_neuropix_data_g0 \u001b[38;5;241m+\u001b[39m \u001b[38;5;124m'\u001b[39m\u001b[38;5;124m0815_unidrected_g0_imec0/0815_unidrected_g0_t0.imec0.ap.meta\u001b[39m\u001b[38;5;124m'\u001b[39m}\n\u001b[1;32m      5\u001b[0m [\u001b[38;5;28mprint\u001b[39m(k,v) \u001b[38;5;28;01mfor\u001b[39;00m k, v \u001b[38;5;129;01min\u001b[39;00m run_meta_files\u001b[38;5;241m.\u001b[39mitems()]\n",
      "\u001b[0;31mNameError\u001b[0m: name 'raw_neuropix_data_g0' is not defined"
     ]
    }
   ],
   "source": [
    "run_meta_files = {'nidq': raw_neuropix_data_g0 + '0815_unidrected_g0_t0.nidq.meta',\n",
    " 'lf_0': raw_neuropix_data_g0 + '0815_unidrected_g0_imec0/0815_unidrected_g0_t0.imec0.lf.meta',\n",
    " 'ap_0': raw_neuropix_data_g0 + '0815_unidrected_g0_imec0/0815_unidrected_g0_t0.imec0.ap.meta'}\n",
    "\n",
    "[print(k,v) for k, v in run_meta_files.items()]"
   ]
  },
  {
   "cell_type": "code",
   "execution_count": 113,
   "id": "infrared-spirit",
   "metadata": {},
   "outputs": [
    {
     "ename": "NameError",
     "evalue": "name 'run_meta_files' is not defined",
     "output_type": "error",
     "traceback": [
      "\u001b[0;31m---------------------------------------------------------------------------\u001b[0m",
      "\u001b[0;31mNameError\u001b[0m                                 Traceback (most recent call last)",
      "Input \u001b[0;32mIn [113]\u001b[0m, in \u001b[0;36m<module>\u001b[0;34m\u001b[0m\n\u001b[0;32m----> 1\u001b[0m run_recordings \u001b[38;5;241m=\u001b[39m {k: sglex\u001b[38;5;241m.\u001b[39mSpikeGLXRecordingExtractor(sglu\u001b[38;5;241m.\u001b[39mget_data_meta_path(v)[\u001b[38;5;241m0\u001b[39m]) \u001b[38;5;28;01mfor\u001b[39;00m k, v \u001b[38;5;129;01min\u001b[39;00m \u001b[48;5;17mrun_meta_files\u001b[49m\u001b[38;5;241m.\u001b[39mitems()}\n",
      "\u001b[0;31mNameError\u001b[0m: name 'run_meta_files' is not defined"
     ]
    }
   ],
   "source": [
    "run_recordings = {k: sglex.SpikeGLXRecordingExtractor(sglu.get_data_meta_path(v)[0]) for k, v in run_meta_files.items()}"
   ]
  },
  {
   "cell_type": "markdown",
   "id": "saved-adventure",
   "metadata": {},
   "source": [
    "## Get the raster matrix for GOOD clusters (units) that sit in HVC or RA"
   ]
  },
  {
   "cell_type": "code",
   "execution_count": 114,
   "id": "induced-victory",
   "metadata": {},
   "outputs": [],
   "source": [
    "# clu_df.loc[clu_df['nucleus'].isnull() & (clu_df['KSLabel']=='good') | (clu_df['KSLabel']=='mua')]"
   ]
  },
  {
   "cell_type": "code",
   "execution_count": 115,
   "id": "conventional-aerospace",
   "metadata": {},
   "outputs": [
    {
     "name": "stdout",
     "output_type": "stream",
     "text": [
      "RA GOOD:  82\n",
      "RA MUA:  80\n",
      "HVC GOOD:  0\n",
      "HVC MUA:  0\n"
     ]
    }
   ],
   "source": [
    "print('RA GOOD: ', len(np.unique(clu_df.loc[((clu_df['KSLabel']=='good')) & (clu_df['nucleus'].isin(['ra'])), 'cluster_id'])))\n",
    "print('RA MUA: ', len(np.unique(clu_df.loc[((clu_df['KSLabel']=='mua')) & (clu_df['nucleus'].isin(['ra'])), 'cluster_id'])))\n",
    "print('HVC GOOD: ', len(np.unique(clu_df.loc[((clu_df['KSLabel']=='good')) & (clu_df['nucleus'].isin(['hvc'])), 'cluster_id'])))\n",
    "print('HVC MUA: ', len(np.unique(clu_df.loc[((clu_df['KSLabel']=='mua')) & (clu_df['nucleus'].isin(['hvc'])), 'cluster_id'])))\n"
   ]
  },
  {
   "cell_type": "code",
   "execution_count": 40,
   "id": "proper-delay",
   "metadata": {},
   "outputs": [],
   "source": [
    "#  np.unique(clu_df.loc[(clu_df['nucleus'].isnull(), 'cluster_id')])"
   ]
  },
  {
   "cell_type": "code",
   "execution_count": 31,
   "id": "painted-induction",
   "metadata": {},
   "outputs": [
    {
     "name": "stdout",
     "output_type": "stream",
     "text": [
      "46 neurons found\n"
     ]
    }
   ],
   "source": [
    "# Get the raster matrix for GOOD clusters (units) that sit in HVC or RA\n",
    "\n",
    "def get_window_spikes(spk_df, clu_list, start_sample, end_sample):\n",
    "    onset = start_sample\n",
    "    offset = end_sample\n",
    "    \n",
    "    spk_t = spk_df.loc[spk_df['times'].between(onset, offset, \"neither\")]\n",
    "    \n",
    "    spk_arr = np.zeros((clu_list.size, offset - onset))\n",
    "\n",
    "    for i, clu_id in enumerate(clu_list):\n",
    "        clu_spk_t = spk_t.loc[spk_t['clusters']==clu_id, 'times'].values\n",
    "        spk_arr[i, clu_spk_t - onset] = 1\n",
    "    return spk_arr\n",
    "    \n",
    "def get_rasters(spk_df, clu_list, start_samp_arr, span_samples):\n",
    "    # returns np.array([n_clu, n_sample, n_trial])\n",
    "    \n",
    "    # get the window spikes for all of the clusters, for each of the start_samp_arr\n",
    "    spk_arr_list = [get_window_spikes(spk_df, clu_list, x, x+span_samples) for x in start_samp_arr]\n",
    "    return np.stack(spk_arr_list, axis=-1)\n",
    "    \n",
    "# Get 'good units' ids in HVC or RA\n",
    "clu_list = np.unique(clu_df.loc[((clu_df['KSLabel']=='good') | (clu_df['KSLabel']=='mua')) & (clu_df['nucleus'].isin(['hvc'])), \n",
    "                                'cluster_id'])\n",
    "print('{} neurons found'.format(len(clu_list)))\n",
    "\n",
    "# clu_list = np.unique(clu_df.loc[((clu_df['KSLabel']=='good')),  \n",
    "#                                 'cluster_id'])\n",
    "\n",
    "# Choose the time pre & post onset of motif that you wish to observe\n",
    "t_pre = -1\n",
    "t_post = 4\n",
    "\n",
    "# s_f_ap = run_recordings['ap_0']._s_f_0\n",
    "fs_ap = mot_dict['s_f_ap_0']\n",
    "# fs_ap = run_recordings['ap_0'].get_sampling_frequency()\n",
    "t_pre_samp = int(t_pre * fs_ap)\n",
    "t_post_samp = int(t_post * fs_ap)\n",
    "\n",
    "\n",
    "rast_arr = get_rasters(spk_df, clu_list, mot_dict['start_sample_ap_0'] + t_pre_samp, t_post_samp - t_pre_samp) # neurons x time x epochs"
   ]
  },
  {
   "cell_type": "code",
   "execution_count": 32,
   "id": "weekly-andrew",
   "metadata": {},
   "outputs": [
    {
     "data": {
      "text/plain": [
       "array([ 11678784,  11707765,  11734196,  11761016,  11841807,  15882938,\n",
       "        15912188,  62300532,  62326123,  62355613,  62382674,  62429565,\n",
       "        64409629,  64435009,  64464800,  64491470,  91204599,  91230610,\n",
       "        91257250, 102722701, 102748350, 186772167, 186797518, 186827398,\n",
       "       249852439, 249876530, 249902060, 280780251, 280809561, 289456254,\n",
       "       289481275, 289516825, 296010080, 314544887, 314570027, 314638789,\n",
       "       336416083, 336443083])"
      ]
     },
     "execution_count": 32,
     "metadata": {},
     "output_type": "execute_result"
    }
   ],
   "source": [
    "mot_dict['start_sample_ap_0']\n",
    "# mot_dict['start_sample_nidq']"
   ]
  },
  {
   "cell_type": "code",
   "execution_count": 33,
   "id": "pursuant-friendly",
   "metadata": {},
   "outputs": [
    {
     "data": {
      "text/plain": [
       "30000.035174165183"
      ]
     },
     "execution_count": 33,
     "metadata": {},
     "output_type": "execute_result"
    }
   ],
   "source": [
    "fs_ap"
   ]
  },
  {
   "cell_type": "code",
   "execution_count": 34,
   "id": "ruled-rwanda",
   "metadata": {},
   "outputs": [
    {
     "name": "stdout",
     "output_type": "stream",
     "text": [
      "-30000\n",
      "120000\n"
     ]
    }
   ],
   "source": [
    "print(t_pre_samp)\n",
    "print(t_post_samp)"
   ]
  },
  {
   "cell_type": "code",
   "execution_count": 35,
   "id": "medical-training",
   "metadata": {},
   "outputs": [
    {
     "name": "stdout",
     "output_type": "stream",
     "text": [
      "30000.035174165183\n",
      "(46,)\n",
      "(46, 150000, 38)\n"
     ]
    }
   ],
   "source": [
    "print(fs_ap)\n",
    "print(clu_list.shape)\n",
    "print(np.shape(rast_arr))"
   ]
  },
  {
   "cell_type": "code",
   "execution_count": 36,
   "id": "measured-young",
   "metadata": {},
   "outputs": [],
   "source": [
    "# Get the all of the motifs for which we have calculated the rasters:\n",
    "def get_window_audio(wav_mic_npy, start_sample_list, span_samples):\n",
    "    audio_arr_list = [wav_mic_npy[start_sample_list[i] : start_sample_list[i]+span_samples] for i in range(len(start_sample_list))]\n",
    "    return(np.array(audio_arr_list).squeeze().tolist())\n",
    "\n",
    "# Load continuous audio    \n",
    "mic_audio = np.load('wav_mic.npy')\n",
    "\n",
    "# fs_audio = mot_dict['s_f_nidq']\n",
    "fs_audio = mot_dict['s_f']\n",
    "\n",
    "t_pre_samp = int(t_pre * fs_audio)\n",
    "t_post_samp = int(t_post * fs_audio)\n",
    "\n",
    "audio_motifs = get_window_audio(mic_audio, mot_dict['start_sample_nidq'] + t_pre_samp, t_post_samp - t_pre_samp)"
   ]
  },
  {
   "cell_type": "code",
   "execution_count": 37,
   "id": "northern-command",
   "metadata": {},
   "outputs": [
    {
     "name": "stdout",
     "output_type": "stream",
     "text": [
      "(38, 200000)\n",
      "40000\n",
      "-40000\n",
      "160000\n"
     ]
    }
   ],
   "source": [
    "print(np.array(audio_motifs).shape)\n",
    "print(fs_audio)\n",
    "print(t_pre_samp)\n",
    "print(t_post_samp)"
   ]
  },
  {
   "cell_type": "markdown",
   "id": "turned-seven",
   "metadata": {},
   "source": [
    "### Load handlabels from TextGrid"
   ]
  },
  {
   "cell_type": "code",
   "execution_count": 39,
   "id": "novel-mounting",
   "metadata": {},
   "outputs": [
    {
     "ename": "FileNotFoundError",
     "evalue": "[Errno 2] No such file or directory: 'wav_mic2.TextGrid'",
     "output_type": "error",
     "traceback": [
      "\u001b[0;31m---------------------------------------------------------------------------\u001b[0m",
      "\u001b[0;31mFileNotFoundError\u001b[0m                         Traceback (most recent call last)",
      "\u001b[0;32m<ipython-input-39-a488935c615f>\u001b[0m in \u001b[0;36m<module>\u001b[0;34m\u001b[0m\n\u001b[1;32m      2\u001b[0m \u001b[0;32mfrom\u001b[0m \u001b[0mpraatio\u001b[0m \u001b[0;32mimport\u001b[0m \u001b[0mtgio\u001b[0m\u001b[0;34m\u001b[0m\u001b[0;34m\u001b[0m\u001b[0m\n\u001b[1;32m      3\u001b[0m \u001b[0;34m\u001b[0m\u001b[0m\n\u001b[0;32m----> 4\u001b[0;31m \u001b[0mtg\u001b[0m \u001b[0;34m=\u001b[0m \u001b[0mtgio\u001b[0m\u001b[0;34m.\u001b[0m\u001b[0mopenTextgrid\u001b[0m\u001b[0;34m(\u001b[0m\u001b[0;34m\"wav_mic2.TextGrid\"\u001b[0m\u001b[0;34m)\u001b[0m\u001b[0;34m\u001b[0m\u001b[0;34m\u001b[0m\u001b[0m\n\u001b[0m\u001b[1;32m      5\u001b[0m \u001b[0mentryList\u001b[0m \u001b[0;34m=\u001b[0m \u001b[0mtg\u001b[0m\u001b[0;34m.\u001b[0m\u001b[0mtierDict\u001b[0m\u001b[0;34m[\u001b[0m\u001b[0;34m\"syllables\"\u001b[0m\u001b[0;34m]\u001b[0m\u001b[0;34m.\u001b[0m\u001b[0mentryList\u001b[0m \u001b[0;31m# Get all intervals\u001b[0m\u001b[0;34m\u001b[0m\u001b[0;34m\u001b[0m\u001b[0m\n\u001b[1;32m      6\u001b[0m \u001b[0;31m# entryList2 = tg.tierDict[\"syllables\"].find(\"a\") # Get the indicies of all occurrences of 'a'\u001b[0m\u001b[0;34m\u001b[0m\u001b[0;34m\u001b[0m\u001b[0;34m\u001b[0m\u001b[0m\n",
      "\u001b[0;32m~/.local/lib/python3.8/site-packages/praatio/tgio.py\u001b[0m in \u001b[0;36mopenTextgrid\u001b[0;34m(fnFullPath, readRaw, readAsJson)\u001b[0m\n\u001b[1;32m   1849\u001b[0m     \"\"\"\n\u001b[1;32m   1850\u001b[0m     \u001b[0;32mtry\u001b[0m\u001b[0;34m:\u001b[0m\u001b[0;34m\u001b[0m\u001b[0;34m\u001b[0m\u001b[0m\n\u001b[0;32m-> 1851\u001b[0;31m         \u001b[0;32mwith\u001b[0m \u001b[0mio\u001b[0m\u001b[0;34m.\u001b[0m\u001b[0mopen\u001b[0m\u001b[0;34m(\u001b[0m\u001b[0mfnFullPath\u001b[0m\u001b[0;34m,\u001b[0m \u001b[0;34m\"r\"\u001b[0m\u001b[0;34m,\u001b[0m \u001b[0mencoding\u001b[0m\u001b[0;34m=\u001b[0m\u001b[0;34m\"utf-16\"\u001b[0m\u001b[0;34m)\u001b[0m \u001b[0;32mas\u001b[0m \u001b[0mfd\u001b[0m\u001b[0;34m:\u001b[0m\u001b[0;34m\u001b[0m\u001b[0;34m\u001b[0m\u001b[0m\n\u001b[0m\u001b[1;32m   1852\u001b[0m             \u001b[0mdata\u001b[0m \u001b[0;34m=\u001b[0m \u001b[0mfd\u001b[0m\u001b[0;34m.\u001b[0m\u001b[0mread\u001b[0m\u001b[0;34m(\u001b[0m\u001b[0;34m)\u001b[0m\u001b[0;34m\u001b[0m\u001b[0;34m\u001b[0m\u001b[0m\n\u001b[1;32m   1853\u001b[0m     \u001b[0;32mexcept\u001b[0m \u001b[0mUnicodeError\u001b[0m\u001b[0;34m:\u001b[0m\u001b[0;34m\u001b[0m\u001b[0;34m\u001b[0m\u001b[0m\n",
      "\u001b[0;31mFileNotFoundError\u001b[0m: [Errno 2] No such file or directory: 'wav_mic2.TextGrid'"
     ]
    }
   ],
   "source": [
    "# doc -> https://pypi.org/project/praatio/\n",
    "from praatio import tgio\n",
    "\n",
    "tg = tgio.openTextgrid(\"wav_mic2.TextGrid\")\n",
    "entryList = tg.tierDict[\"syllables\"].entryList # Get all intervals\n",
    "# entryList2 = tg.tierDict[\"syllables\"].find(\"a\") # Get the indicies of all occurrences of 'a'\n",
    "\n",
    "# Create list of handlabels\n",
    "handlabels = []\n",
    "\n",
    "for i, interval in enumerate(entryList):\n",
    "    #print(i, round(interval.start*fs_audio), round(interval.end*fs_audio), interval.label)\n",
    "    # ! I had to round the fs_audio & the interval times (for number of samples in handlabels and audio array to match)\n",
    "    handlabels.extend([interval.label for n in range(round(interval.end*round(fs_audio)) - round(interval.start*round(fs_audio)))])\n",
    "\n",
    "audio_labels  = get_window_audio(handlabels, mot_dict['start_sample_nidq'] + t_pre_samp, t_post_samp - t_pre_samp)"
   ]
  },
  {
   "cell_type": "code",
   "execution_count": 40,
   "id": "featured-curtis",
   "metadata": {},
   "outputs": [
    {
     "data": {
      "text/plain": [
       "40000"
      ]
     },
     "execution_count": 40,
     "metadata": {},
     "output_type": "execute_result"
    }
   ],
   "source": [
    "fs_audio"
   ]
  },
  {
   "cell_type": "code",
   "execution_count": 42,
   "id": "olive-diploma",
   "metadata": {},
   "outputs": [
    {
     "name": "stdout",
     "output_type": "stream",
     "text": [
      "75507609\n",
      "75507609\n",
      "1887.690225\n"
     ]
    },
    {
     "ename": "NameError",
     "evalue": "name 'handlabels' is not defined",
     "output_type": "error",
     "traceback": [
      "\u001b[0;31m---------------------------------------------------------------------------\u001b[0m",
      "\u001b[0;31mNameError\u001b[0m                                 Traceback (most recent call last)",
      "\u001b[0;32m<ipython-input-42-57b8efedb82c>\u001b[0m in \u001b[0;36m<module>\u001b[0;34m\u001b[0m\n\u001b[1;32m      3\u001b[0m \u001b[0mprint\u001b[0m\u001b[0;34m(\u001b[0m\u001b[0mlen\u001b[0m\u001b[0;34m(\u001b[0m\u001b[0mmic_audio\u001b[0m\u001b[0;34m)\u001b[0m\u001b[0;34m/\u001b[0m\u001b[0mfs_audio\u001b[0m\u001b[0;34m)\u001b[0m\u001b[0;34m\u001b[0m\u001b[0;34m\u001b[0m\u001b[0m\n\u001b[1;32m      4\u001b[0m \u001b[0;34m\u001b[0m\u001b[0m\n\u001b[0;32m----> 5\u001b[0;31m \u001b[0mprint\u001b[0m\u001b[0;34m(\u001b[0m\u001b[0mlen\u001b[0m\u001b[0;34m(\u001b[0m\u001b[0mhandlabels\u001b[0m\u001b[0;34m)\u001b[0m\u001b[0;34m)\u001b[0m\u001b[0;34m\u001b[0m\u001b[0;34m\u001b[0m\u001b[0m\n\u001b[0m\u001b[1;32m      6\u001b[0m \u001b[0mprint\u001b[0m\u001b[0;34m(\u001b[0m\u001b[0mlen\u001b[0m\u001b[0;34m(\u001b[0m\u001b[0mhandlabels\u001b[0m\u001b[0;34m)\u001b[0m\u001b[0;34m/\u001b[0m\u001b[0mfs_audio\u001b[0m\u001b[0;34m)\u001b[0m\u001b[0;34m\u001b[0m\u001b[0;34m\u001b[0m\u001b[0m\n",
      "\u001b[0;31mNameError\u001b[0m: name 'handlabels' is not defined"
     ]
    }
   ],
   "source": [
    "print(len(wav_mic))\n",
    "print(len(mic_audio))\n",
    "print(len(mic_audio)/fs_audio)\n",
    "\n",
    "print(len(handlabels))\n",
    "print(len(handlabels)/fs_audio)"
   ]
  },
  {
   "cell_type": "code",
   "execution_count": 43,
   "id": "spatial-sphere",
   "metadata": {},
   "outputs": [
    {
     "ename": "NameError",
     "evalue": "name 'audio_labels' is not defined",
     "output_type": "error",
     "traceback": [
      "\u001b[0;31m---------------------------------------------------------------------------\u001b[0m",
      "\u001b[0;31mNameError\u001b[0m                                 Traceback (most recent call last)",
      "\u001b[0;32m<ipython-input-43-901678c35c7f>\u001b[0m in \u001b[0;36m<module>\u001b[0;34m\u001b[0m\n\u001b[0;32m----> 1\u001b[0;31m \u001b[0;32mfor\u001b[0m \u001b[0mmot\u001b[0m \u001b[0;32min\u001b[0m \u001b[0mrange\u001b[0m\u001b[0;34m(\u001b[0m\u001b[0mlen\u001b[0m\u001b[0;34m(\u001b[0m\u001b[0maudio_labels\u001b[0m\u001b[0;34m)\u001b[0m\u001b[0;34m)\u001b[0m\u001b[0;34m:\u001b[0m\u001b[0;34m\u001b[0m\u001b[0;34m\u001b[0m\u001b[0m\n\u001b[0m\u001b[1;32m      2\u001b[0m     \u001b[0mprint\u001b[0m\u001b[0;34m(\u001b[0m\u001b[0mnp\u001b[0m\u001b[0;34m.\u001b[0m\u001b[0munique\u001b[0m\u001b[0;34m(\u001b[0m\u001b[0maudio_labels\u001b[0m\u001b[0;34m[\u001b[0m\u001b[0mmot\u001b[0m\u001b[0;34m]\u001b[0m\u001b[0;34m)\u001b[0m\u001b[0;34m)\u001b[0m\u001b[0;34m\u001b[0m\u001b[0;34m\u001b[0m\u001b[0m\n",
      "\u001b[0;31mNameError\u001b[0m: name 'audio_labels' is not defined"
     ]
    }
   ],
   "source": [
    "for mot in range(len(audio_labels)):\n",
    "    print(np.unique(audio_labels[mot]))"
   ]
  },
  {
   "cell_type": "code",
   "execution_count": 31,
   "id": "running-lightweight",
   "metadata": {},
   "outputs": [],
   "source": [
    "for mot in range(len(audio_labels)):\n",
    "    audio_labels[mot] = [12 if x=='u' else x for x in audio_labels[mot]]            # Unlabeled period to label 12\n",
    "    audio_labels[mot] = [10 if x=='I' or x=='i' else x for x in audio_labels[mot]]  # Introductory notes to label 10\n",
    "    audio_labels[mot] = [7 if x=='7`' else x for x in audio_labels[mot]]            # Fix label '7''\n",
    "    audio_labels[mot] = [11 if x=='C' or x=='c' else x for x in audio_labels[mot]]  # Calls to label 11\n",
    "    audio_labels[mot] = [int(x) for x in audio_labels[mot]]                         # Convert to integer labels"
   ]
  },
  {
   "cell_type": "code",
   "execution_count": 32,
   "id": "public-physics",
   "metadata": {},
   "outputs": [
    {
     "name": "stdout",
     "output_type": "stream",
     "text": [
      "[ 1  2  3  4  5  7  8  9 10 11 12]\n",
      "[ 1  2  3  4  5  7  8  9 10 11 12]\n",
      "[ 1  2  3  4  5  7  8  9 10 11 12]\n",
      "[ 1  2  3  4  5  7  8  9 10 11 12]\n",
      "[ 1  2  3  4  5  7  8  9 11 12]\n",
      "[ 1  2  3  4  5  7  8  9 11 12]\n",
      "[ 1  2  3  4  5  7  8  9 10 11 12]\n",
      "[ 1  2  3  4  5  7  8  9 10 11 12]\n",
      "[ 1  2  3  4  5  7  8  9 10 11 12]\n",
      "[ 1  2  3  4  5  7  8  9 11 12]\n"
     ]
    }
   ],
   "source": [
    "for mot in range(len(audio_labels)):\n",
    "    print(np.unique(audio_labels[mot]))"
   ]
  },
  {
   "cell_type": "code",
   "execution_count": 35,
   "id": "gorgeous-biography",
   "metadata": {},
   "outputs": [],
   "source": [
    "# import matplotlib\n",
    "# import matplotlib.pyplot as plt\n",
    "# import numpy as np\n",
    "\n",
    "# # [0, 1, 2, 3, 4, 5]-Syllables.  [7]-Silence within bout.  [8]-Silence outside bout.  [9]-Intramotif Note.  [10]-Intro Note.  [11]-Call.  [12]-Unlabeled.\n",
    "\n",
    "# mot = 8\n",
    "\n",
    "# plt.figure()\n",
    "# plt.scatter(np.linspace(0, len(audio_labels[mot]), num=len(audio_labels[mot])), audio_labels[mot])\n",
    "\n",
    "# plt.figure()\n",
    "# #           S1       S2      S3        S4        S5                               InSil     \n",
    "# colors = ['brown', 'red', 'orange', 'yellow', 'green', 'blue', 'purple', 'grey', 'black', 'pink', 'cyan', 'turquoise', 'grey']\n",
    "\n",
    "# # colors = {1:'brown', 2:'red', 3:'orange', 4:'yellow', 5:'green', 6:'blue',\n",
    "# #           7:'purple', 8:'grey', 9:'black', 10:'pink', 11:'cyan', 12:'turquoise', 13:'grey'}\n",
    "\n",
    "\n",
    "# fig = plt.figure(figsize=(8,8))\n",
    "\n",
    "# plt.scatter(np.linspace(0, len(audio_labels[mot]), num=len(audio_labels[mot])), audio_motifs[mot], c=audio_labels[mot], cmap=matplotlib.colors.ListedColormap(colors))\n",
    "# # plt.scatter(np.linspace(0, len(audio_labels), num=len(audio_labels)), audio_motifs[1], c=audio_labels[mot], cmap=matplotlib.colors.ListedColormap(colors))\n",
    "\n",
    "# # cb = plt.colorbar()\n",
    "# # loc = np.arange(0,max(audio_labels[mot]),max(audio_labels[mot])/float(len(colors)))\n",
    "# # cb.set_ticks(loc)\n",
    "# # cb.set_ticklabels(colors)"
   ]
  },
  {
   "cell_type": "code",
   "execution_count": 36,
   "id": "faced-feedback",
   "metadata": {},
   "outputs": [],
   "source": [
    "# def plot_motif_array(mot_list, t_0=None):\n",
    "    \n",
    "#     num_motifs = len(mot_list)\n",
    "#     fig, ax_arr = plt.subplots(nrows=num_motifs, figsize=[5, 30], sharex=True)\n",
    "    \n",
    "#     for mot in range(num_motifs):\n",
    "#         ax = ax_arr[mot]\n",
    "#         ax.plot(mot_list[mot])        \n",
    "    \n",
    "#         if t_0 is not None:\n",
    "#             ax.axvline(x=t_0, color='red')\n",
    "\n",
    "# plot_motif_array(audio_motifs, t_0=-t_pre_samp)"
   ]
  },
  {
   "cell_type": "code",
   "execution_count": 37,
   "id": "verified-postage",
   "metadata": {},
   "outputs": [],
   "source": [
    "# num_motifs = len(audio_motifs)\n",
    "\n",
    "# for mot in range(num_motifs):\n",
    "#     plt.plot(audio_motifs[mot])"
   ]
  },
  {
   "cell_type": "code",
   "execution_count": 38,
   "id": "spiritual-cooperation",
   "metadata": {},
   "outputs": [],
   "source": [
    "# import scipy\n",
    "\n",
    "# num_motifs = len(audio_motifs)\n",
    "\n",
    "# for mot in range(num_motifs):\n",
    "#     scipy.io.wavfile.write('motif_' + str(mot) + '.wav', round(fs_audio), np.array(audio_motifs[mot]).astype(np.int16))\n",
    "    "
   ]
  },
  {
   "cell_type": "markdown",
   "id": "quarterly-quick",
   "metadata": {},
   "source": [
    "# Prepare numpy arrays to feed into GPFA"
   ]
  },
  {
   "cell_type": "code",
   "execution_count": 38,
   "id": "nutritional-sleeping",
   "metadata": {},
   "outputs": [],
   "source": [
    "# np.reshape(spikes_motifs, [2,0,1])\n",
    "spikes_motifs = np.transpose(rast_arr, axes=(2, 0, 1)).tolist() "
   ]
  },
  {
   "cell_type": "code",
   "execution_count": 39,
   "id": "married-latino",
   "metadata": {},
   "outputs": [
    {
     "name": "stdout",
     "output_type": "stream",
     "text": [
      "Motifs x Neurons x time (SPIKE DOMAIN):  (38, 46, 150000) type:  <class 'list'>\n",
      "motifs x time (AUDIO DOMAIN):  (38, 200000) type:  <class 'list'>\n"
     ]
    }
   ],
   "source": [
    "print('Motifs x Neurons x time (SPIKE DOMAIN): ', np.shape(spikes_motifs), 'type: ', type(spikes_motifs))\n",
    "print('motifs x time (AUDIO DOMAIN): ', np.shape(audio_motifs), 'type: ', type(audio_motifs))\n",
    "if (\"audio_labels\" in locals()): print('motifs x time (LABELS DOMAIN): ', np.shape(audio_labels), 'type: ', type(audio_labels))"
   ]
  },
  {
   "cell_type": "markdown",
   "id": "color-hollywood",
   "metadata": {},
   "source": [
    "## Downsample to 1ms bins"
   ]
  },
  {
   "cell_type": "code",
   "execution_count": 44,
   "id": "historical-button",
   "metadata": {},
   "outputs": [],
   "source": [
    "len(spikes_motifs)\n",
    "\n",
    "bin_ms = 1 # miliseconds\n",
    "bin_samples_audio = round(bin_ms/1000 * fs_audio)\n",
    "bin_samples_spikes = round(bin_ms/1000 * fs_ap)\n",
    "\n",
    "# BIN RASTERS\n",
    "# Downsample spikes using the sum of spikes in each bins. Can be converted to spike rates\n",
    "bin_spikes_motifs = []\n",
    "for mot in range(len(spikes_motifs)):\n",
    "    bin_spikes_motifs.append(sh.downsample_list_2d(spikes_motifs[mot], bin_samples_spikes, mode='sum')) \n",
    "    \n",
    "# BIN AUDIO\n",
    "# Downsample audio using the mean of the signal\n",
    "bin_audio_motifs = sh.downsample_list_2d(audio_motifs, bin_samples_audio, mode='mean')\n",
    "\n",
    "# BIN LABLES\n",
    "# Downsample labels using the mode (highest repeated label) at syllable edges\n",
    "if (\"audio_labels\" in locals()):\n",
    "    bin_motif_labels = sh.downsample_list_2d(audio_labels, bin_samples_audio, mode='mode')"
   ]
  },
  {
   "cell_type": "code",
   "execution_count": 45,
   "id": "correct-trance",
   "metadata": {},
   "outputs": [],
   "source": [
    "if (\"audio_labels\" in locals()): print(np.unique(audio_labels[0]))\n",
    "if (\"bin_motif_labels\" in locals()): print(np.unique(bin_motif_labels[0]))"
   ]
  },
  {
   "cell_type": "code",
   "execution_count": 46,
   "id": "foster-electric",
   "metadata": {},
   "outputs": [],
   "source": [
    "# cl_bn_spike_motifs = np.array(clean_spikeRaster_noisyEvents_3d(bin_spikes_motifs, coocurrence_threshold=4))\n",
    "cl_bn_spike_motifs = np.array(bin_spikes_motifs)"
   ]
  },
  {
   "cell_type": "code",
   "execution_count": 47,
   "id": "established-vector",
   "metadata": {},
   "outputs": [
    {
     "name": "stdout",
     "output_type": "stream",
     "text": [
      "<class 'numpy.ndarray'> (38, 46, 5000)\n",
      "<class 'numpy.ndarray'> (38, 5000)\n"
     ]
    }
   ],
   "source": [
    "print(type(cl_bn_spike_motifs), np.shape(cl_bn_spike_motifs))\n",
    "print(type(bin_audio_motifs), np.shape(bin_audio_motifs))\n",
    "if (\"bin_motif_labels\" in locals()): print(type(bin_motif_labels), np.shape(bin_motif_labels))"
   ]
  },
  {
   "cell_type": "code",
   "execution_count": 63,
   "id": "orange-pakistan",
   "metadata": {},
   "outputs": [],
   "source": [
    "# from matplotlib import cm\n",
    "# magma = cm.get_cmap('magma', 12)\n",
    "# cmap = magma\n",
    "\n",
    "# # PLOT MOTIFS & RASTERS\n",
    "# num_motifs2plot = 10\n",
    "# spacing = 2000\n",
    "\n",
    "# for mot in range(num_motifs2plot):\n",
    "        \n",
    "#     # Audio\n",
    "#     audio_mot = audio_motifs[mot]\n",
    "    \n",
    "#     plt.figure()\n",
    "#     plt.plot(audio_mot)\n",
    "#     plt.xticks(np.arange(0, len(audio_mot), step=fs_audio*10), [int(i) for i in np.arange(0, len(audio_mot)/(fs_audio), step=10)])\n",
    "#     plt.xlabel('Time(s)')\n",
    "#     plt.ylabel('Amplitude')\n",
    "#     # plt.title('Bird {}, sess {}, mot {}'.format(bird_id, session, mot))\n",
    "    \n",
    "#     # SPIKE RASTERS\n",
    "#     spike_mot = cl_bn_spike_motifs[mot]\n",
    "    \n",
    "#     f, ax = plt.subplots(1, 1)\n",
    "#     psm = ax.pcolormesh(spike_mot, cmap=cmap, rasterized=True)\n",
    "#     f.colorbar(psm, ax=ax, orientation=\"horizontal\")\n",
    "\n",
    "#     ax.set_ylabel('Channel #')\n",
    "#     ax.set_xlabel('Time(ms)')"
   ]
  },
  {
   "cell_type": "markdown",
   "id": "0336bdd7-69e6-4c7a-885f-477051785d1e",
   "metadata": {},
   "source": [
    "# Save matrices to feed to GPFA"
   ]
  },
  {
   "cell_type": "code",
   "execution_count": 48,
   "id": "22744591-5d80-4913-86ff-f194bb14448b",
   "metadata": {},
   "outputs": [
    {
     "data": {
      "text/plain": [
       "'/mnt/sphere/speech_bci/derived_data/z_y19o20_21/2021-12-23/sglx/1512_female_pin-directed_g0'"
      ]
     },
     "execution_count": 48,
     "metadata": {},
     "output_type": "execute_result"
    }
   ],
   "source": [
    "os.getcwd()"
   ]
  },
  {
   "cell_type": "code",
   "execution_count": 60,
   "id": "f18380bb-c10d-4fca-88d6-c814d8c823aa",
   "metadata": {},
   "outputs": [
    {
     "data": {
      "text/plain": [
       "'GPFA_z_y19o20_21_2021-12-23_1512_female_pin-directed_g0_38motifs_1msBin_SpikeSorted-GOOD+MUA-1s_to_4swindow-HVC.mat'"
      ]
     },
     "execution_count": 60,
     "metadata": {},
     "output_type": "execute_result"
    }
   ],
   "source": [
    "file_name = 'GPFA_' + sess_par['bird'] + '_' + sess_par['sess'] + '_' + sess_par['epoch'] + \\\n",
    "              '_38motifs_1msBin_SpikeSorted-GOOD+MUA-1s_to_4swindow-HVC.mat' \n",
    "file_name"
   ]
  },
  {
   "cell_type": "code",
   "execution_count": 61,
   "id": "offensive-topic",
   "metadata": {},
   "outputs": [],
   "source": [
    "\n",
    "# file_name = ('GPFA_z_y19o20_21-2020_10_27-0815-10_bin_motifs_1msBin_SpikeSorted-GOOD-1s_to_4swindow-RA.mat')\n",
    "\n",
    "import scipy.io as sio\n",
    "\n",
    "# If there are labels:\n",
    "if (\"bin_motif_labels\" in locals()):   \n",
    "    sio.savemat(file_name, {'bin_motif_spikes':cl_bn_spike_motifs, 'bin_motif_audio':bin_audio_motifs, 'bin_motif_labels':bin_motif_labels,\n",
    "                        'audio_motifs':audio_motifs, 'audio_labels':audio_labels})\n",
    "else:\n",
    "    sio.savemat(file_name, {'bin_motif_spikes':cl_bn_spike_motifs, 'bin_motif_audio':bin_audio_motifs,\n",
    "                        'audio_motifs':audio_motifs})\n"
   ]
  },
  {
   "cell_type": "code",
   "execution_count": null,
   "id": "loving-buying",
   "metadata": {},
   "outputs": [],
   "source": []
  },
  {
   "cell_type": "code",
   "execution_count": null,
   "id": "thirty-cooling",
   "metadata": {},
   "outputs": [],
   "source": []
  },
  {
   "cell_type": "code",
   "execution_count": null,
   "id": "combined-contributor",
   "metadata": {},
   "outputs": [],
   "source": []
  },
  {
   "cell_type": "code",
   "execution_count": null,
   "id": "dated-overview",
   "metadata": {},
   "outputs": [],
   "source": []
  }
 ],
 "metadata": {
  "kernelspec": {
   "display_name": "ceciestunepipe",
   "language": "python",
   "name": "ceciestunepipe"
  },
  "language_info": {
   "codemirror_mode": {
    "name": "ipython",
    "version": 3
   },
   "file_extension": ".py",
   "mimetype": "text/x-python",
   "name": "python",
   "nbconvert_exporter": "python",
   "pygments_lexer": "ipython3",
   "version": "3.8.10"
  }
 },
 "nbformat": 4,
 "nbformat_minor": 5
}
