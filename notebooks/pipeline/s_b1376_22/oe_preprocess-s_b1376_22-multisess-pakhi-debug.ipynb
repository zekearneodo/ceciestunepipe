{
 "cells": [
  {
   "cell_type": "markdown",
   "metadata": {},
   "source": [
    "# Pre-processing pipeline for openephys sessions, starling\n",
    "- For every run in the session:\n",
    " - Load the recordings\n",
    " - Extract wav chan with micrhopohone and make a wav chan with the nidq syn signal\n",
    " - Get the sync events for the nidq sync channel\n",
    " \n",
    " - Do bout detection\n",
    " \n",
    "In another notebook, bout detection is curated\n",
    "- Left to decide where to:\n",
    "    - Sort spikes\n",
    "    - Sync the spikes/lfp/nidq\n",
    "    - make and plot 'bout rasters'"
   ]
  },
  {
   "cell_type": "code",
   "execution_count": 1,
   "metadata": {},
   "outputs": [],
   "source": [
    "%matplotlib inline\n",
    "import os\n",
    "import glob\n",
    "import logging\n",
    "import pickle\n",
    "import numpy as np\n",
    "import pandas as pd\n",
    "from scipy.io import wavfile\n",
    "from scipy import signal\n",
    "import traceback\n",
    "import warnings\n",
    "import json\n",
    "\n",
    "from matplotlib import pyplot as plt\n",
    "from importlib import reload\n",
    "\n",
    "logger = logging.getLogger()\n",
    "handler = logging.StreamHandler()\n",
    "formatter = logging.Formatter(\n",
    "        '%(asctime)s %(name)-12s %(levelname)-8s %(message)s')\n",
    "handler.setFormatter(formatter)\n",
    "logger.addHandler(handler)\n",
    "logger.setLevel(logging.INFO)\n"
   ]
  },
  {
   "cell_type": "code",
   "execution_count": 2,
   "metadata": {},
   "outputs": [],
   "source": [
    "from ceciestunepipe.file import bcistructure as et\n",
    "from ceciestunepipe.util import sglxutil as sglu\n",
    "from ceciestunepipe.util import rigutil as ru\n",
    "from ceciestunepipe.util import wavutil as wu\n",
    "from ceciestunepipe.util import syncutil as su\n",
    "from ceciestunepipe.util import fileutil as fu\n",
    "\n",
    "from ceciestunepipe.util.sound import boutsearch as bs\n",
    "from ceciestunepipe.pipeline import searchbout as sb\n",
    "\n",
    "from ceciestunepipe.util.spikeextractors import preprocess as pre"
   ]
  },
  {
   "cell_type": "code",
   "execution_count": 3,
   "metadata": {},
   "outputs": [
    {
     "name": "stderr",
     "output_type": "stream",
     "text": [
      "2022-09-23 10:59:35,420 root         INFO     all modules loaded\n"
     ]
    }
   ],
   "source": [
    "import spikeinterface as si\n",
    "import spikeinterface.extractors as se\n",
    "import spikeinterface.toolkit as st\n",
    "import spikeinterface.sorters as ss\n",
    "import spikeinterface.comparison as sc\n",
    "import spikeinterface.widgets as sw\n",
    "logger.info('all modules loaded')"
   ]
  },
  {
   "cell_type": "markdown",
   "metadata": {},
   "source": [
    "## Session parameters and raw files"
   ]
  },
  {
   "cell_type": "markdown",
   "metadata": {},
   "source": [
    "#### list all the sessions for this bird"
   ]
  },
  {
   "cell_type": "code",
   "execution_count": 6,
   "metadata": {},
   "outputs": [
    {
     "name": "stderr",
     "output_type": "stream",
     "text": [
      "2022-09-23 10:59:58,636 root         INFO     all sessions for bird are ['2022-07-06', '2022-07-07', '2022-07-08', '2022-07-09', '2022-07-10', '2022-07-11', '2022-07-12', '2022-07-13', '2022-07-14', '2022-07-15', '2022-07-16', '2022-07-17', '2022-07-18', '2022-07-19', '2022-07-20', '2022-07-21', '2022-07-22', '2022-07-23', '2022-07-24', '2022-07-25', '2022-07-26', '2022-07-27', '2022-07-28', '2022-07-29', '2022-07-30', '2022-07-31', '2022-08-01', '2022-08-02', '2022-08-03', '2022-08-04', '2022-08-05', '2022-08-06', '2022-08-07', '2022-08-08', '2022-08-09', '2022-08-10', '2022-08-11', '2022-08-12', '2022-08-13', '2022-08-14', '2022-08-15', '2022-08-16', '2022-08-17', '2022-08-18', '2022-08-19', '2022-08-20', '2022-08-21', '2022-08-22', '2022-08-23', '2022-08-24', '2022-08-25', '2022-08-26', '2022-08-27', '2022-08-28', '2022-08-29', '2022-08-30', '2022-08-31', '2022-09-01', '2022-09-02', '2022-09-03', '2022-09-04', '2022-09-05', '2022-09-06', '2022-09-07', '2022-09-08', '2022-09-09', '2022-09-10', '2022-09-11', '2022-09-12', '2022-09-13', '2022-09-14', '2022-09-15', '2022-09-16', '2022-09-17', '2022-09-18', '2022-09-19', '2022-09-20', '2022-09-21', '2022-09-22', '2022-09-23']\n"
     ]
    }
   ],
   "source": [
    "bird = 's_b1376_22'\n",
    "all_bird_sess = et.list_sessions(bird)\n",
    "logger.info('all sessions for bird are {}'.format(all_bird_sess))"
   ]
  },
  {
   "cell_type": "markdown",
   "metadata": {},
   "source": [
    "### set up bird and sessions parameters\n",
    "this will define:\n",
    "- locations of files (for the bird)\n",
    "- signals and channels to look for in the metadata of the files and in the rig.json parameter file: Note that this have to exist in all of the sessions that will be processed\n",
    "- 'sess' is unimportant here, but it comes handy if there is need to debug usin a single session"
   ]
  },
  {
   "cell_type": "code",
   "execution_count": 58,
   "metadata": {},
   "outputs": [],
   "source": [
    "reload(et)\n",
    "# for one example session\n",
    "\n",
    "sess_par = {'bird': bird,\n",
    "           'sess': '2022-09-22',\n",
    "           'probes': [], #probes of interest\n",
    "           'mic_list': ['microphone_0'], #list of mics of interest, by signal name in rig.json\n",
    "            'adc_list': ['pressure'],\n",
    "           'sort': 0, #label for this sort instance\n",
    "            \n",
    "            'processor': 'Acquisition_Board-100.Rhythm Data',\n",
    "            'record_node': 'Record Node 101',\n",
    "            'experiment': 'experiment1',\n",
    "           }\n",
    "\n",
    "exp_struct = et.get_exp_struct(sess_par['bird'], sess_par['sess'], sort=sess_par['sort'], ephys_software='oe')\n",
    "\n",
    "ksort_folder = exp_struct['folders']['ksort']\n",
    "raw_folder = exp_struct['folders']['oe']"
   ]
  },
  {
   "cell_type": "markdown",
   "metadata": {},
   "source": [
    "list all the epochs in a session, to check that it is finding what it has to find"
   ]
  },
  {
   "cell_type": "code",
   "execution_count": 27,
   "metadata": {},
   "outputs": [],
   "source": [
    "import json"
   ]
  },
  {
   "cell_type": "code",
   "execution_count": 28,
   "metadata": {},
   "outputs": [],
   "source": [
    "# this should go to eciestunepipe.file.bcistructure (as et here)\n",
    "def list_oe_epochs(exp_struct):\n",
    "    sess_path = os.path.join(exp_struct['folders']['oe'])\n",
    "    epoch_list = [os.path.split(f.path)[-1] for f in os.scandir(sess_path) if f.is_dir()]\n",
    "    return epoch_list\n",
    "\n",
    "def list_nodes(epoch_path):\n",
    "    return [f.path for f in os.scandir(epoch_path) if f.is_dir()]\n",
    "\n",
    "def list_experiments(node_path):\n",
    "    return [f.path for f in os.scandir(node_path) if f.is_dir()]\n",
    "\n",
    "def list_recordings(experiment_path):\n",
    "    return [f.path for f in os.scandir(experiment_path) if f.is_dir()]\n",
    "\n",
    "def list_processors(signal_path):\n",
    "    return [f.path for f in os.scandir(signal_path) if f.is_dir()]\n",
    "\n",
    "def get_rec_meta(rec_path):\n",
    "    rec_meta_path = os.path.join(rec_path, 'structure.oebin')\n",
    "    with open(rec_meta_path, 'r') as meta_file:\n",
    "        meta = json.load(meta_file)\n",
    "    return meta\n",
    "\n",
    "def get_continous_files_list(rec_path, processor='Rhythm_FPGA-100.0'):\n",
    "    cont_raw_list = glob.glob(os.path.join(rec_path, 'continuous', processor, 'continuous.dat'))\n",
    "    return cont_raw_list\n",
    "\n",
    "def oe_list_bin_files(epoch_path):\n",
    "    return glob.glob(os.path.join(epoch_path, 'experiment*.dat'))\n",
    "\n",
    "def get_default_node(exp_struct, epoch, rec_index=0):\n",
    "    # get the first rec node, the first experiment, and ith index of recording\n",
    "    r_path = os.path.join(os.path.join(exp_struct['folders']['oe'], epoch))\n",
    "    node = list_nodes(r_path)[0]\n",
    "    \n",
    "    r_path = os.path.join(r_path, node)\n",
    "    experiment = list_experiments(r_path)[0]\n",
    "    \n",
    "    return r_path\n",
    "\n",
    "def get_default_recording(node_path):\n",
    "    experiment = list_experiments(node_path)[0]\n",
    "    r_path = os.path.join(node_path, experiment)\n",
    "    \n",
    "    recording = list_recordings(r_path)[0]\n",
    "    r_path = os.path.join(r_path, recording)\n",
    "    return r_path\n",
    "\n",
    "def get_default_continuous(rec_path):\n",
    "    processor = list_processors(os.path.join(rec_path, 'continuous'))[0]\n",
    "    r_path = os.path.join(rec_path, processor)\n",
    "    return r_path"
   ]
  },
  {
   "cell_type": "code",
   "execution_count": 29,
   "metadata": {},
   "outputs": [],
   "source": [
    "def get_oe_sample_rate(rec_meta_dict: dict) -> float:\n",
    "    return float(rec_meta_dict['continuous'][0]['sample_rate'])\n",
    "\n",
    "\n",
    "def build_chan_info_pd(oe_meta_dict: dict, processor_order: int=0) -> pd.DataFrame:\n",
    "    # read all channels names, numbers, and whether they were recorded\n",
    "    rec_chan_meta = oe_meta_dict['continuous'][processor_order]['channels']\n",
    "    \n",
    "    all_chan_meta = []\n",
    "    for i, a_chan_meta in enumerate(rec_chan_meta):\n",
    "        all_chan_meta.append({'number': i,\n",
    "                              'recorded': 1,\n",
    "                             'name': a_chan_meta['channel_name'],\n",
    "                             'gain': float(a_chan_meta['bit_volts'])})\n",
    "        \n",
    "    all_chan_pd = pd.DataFrame(all_chan_meta)\n",
    "    return all_chan_pd\n",
    "\n",
    "def find_chan_order(chan_info_pd: pd.DataFrame, chan_name: str) -> int:\n",
    "    recorded_block_pd = chan_info_pd[chan_info_pd['recorded']==1]\n",
    "    recorded_block_pd.reset_index(inplace=True, drop=True)\n",
    "    return recorded_block_pd[recorded_block_pd['name']==chan_name].index[0]"
   ]
  },
  {
   "cell_type": "code",
   "execution_count": 30,
   "metadata": {},
   "outputs": [
    {
     "data": {
      "text/plain": [
       "['2022-09-22_07-24-41',\n",
       " '2022-09-22_09-41-21',\n",
       " '2022-09-22_13-31-30',\n",
       " '2022-09-22_16-54-40',\n",
       " '2022-09-22_18-17-35']"
      ]
     },
     "execution_count": 30,
     "metadata": {},
     "output_type": "execute_result"
    }
   ],
   "source": [
    "sess_epochs = list_oe_epochs(exp_struct)\n",
    "sess_epochs.sort()\n",
    "sess_epochs"
   ]
  },
  {
   "cell_type": "code",
   "execution_count": 31,
   "metadata": {},
   "outputs": [
    {
     "data": {
      "text/plain": [
       "'/mnt/sphere/speech_bci/raw_data/s_b1376_22/2022-09-22/oe/2022-09-22_07-24-41'"
      ]
     },
     "execution_count": 31,
     "metadata": {},
     "output_type": "execute_result"
    }
   ],
   "source": [
    "epoch = sess_epochs[0]\n",
    "\n",
    "epoch_path = os.path.join(raw_folder, epoch)\n",
    "epoch_path"
   ]
  },
  {
   "cell_type": "code",
   "execution_count": 32,
   "metadata": {},
   "outputs": [
    {
     "data": {
      "text/plain": [
       "'/mnt/sphere/speech_bci/raw_data/s_b1376_22/2022-09-22/oe/2022-09-22_07-24-41/Record Node 101'"
      ]
     },
     "execution_count": 32,
     "metadata": {},
     "output_type": "execute_result"
    }
   ],
   "source": [
    "node_path = get_default_node(exp_struct, epoch)\n",
    "node_path"
   ]
  },
  {
   "cell_type": "code",
   "execution_count": 33,
   "metadata": {},
   "outputs": [
    {
     "data": {
      "text/plain": [
       "'/mnt/sphere/speech_bci/raw_data/s_b1376_22/2022-09-22/oe/2022-09-22_07-24-41/Record Node 101/experiment1/recording1'"
      ]
     },
     "execution_count": 33,
     "metadata": {},
     "output_type": "execute_result"
    }
   ],
   "source": [
    "rec_path = get_default_recording(node_path)\n",
    "rec_path"
   ]
  },
  {
   "cell_type": "code",
   "execution_count": 34,
   "metadata": {},
   "outputs": [
    {
     "data": {
      "text/plain": [
       "'/mnt/sphere/speech_bci/raw_data/s_b1376_22/2022-09-22/oe/2022-09-22_07-24-41/Record Node 101/experiment1/recording1/continuous/Acquisition_Board-100.Rhythm Data'"
      ]
     },
     "execution_count": 34,
     "metadata": {},
     "output_type": "execute_result"
    }
   ],
   "source": [
    "cont_path = get_default_continuous(rec_path)\n",
    "cont_path"
   ]
  },
  {
   "cell_type": "markdown",
   "metadata": {},
   "source": [
    "# quick and dirty, do my thing and se the binary recording"
   ]
  },
  {
   "cell_type": "code",
   "execution_count": 35,
   "metadata": {},
   "outputs": [],
   "source": [
    "class oeRecordingExtractor(se.BinaryRecordingExtractor):\n",
    "    extractor_name = 'oeContinuousRecordingExtractor'\n",
    "    has_default_locations = True\n",
    "    installed = True  # check at class level if installed or not\n",
    "    is_writable = False\n",
    "    mode = 'file'\n",
    "    # error message when not installed\n",
    "    installation_mesg = \"To use the SpikeGLXRecordingExtractor run:\\n\\n pip install mtscomp\\n\\n\"\n",
    "\n",
    "    _ttl_events = None  # The ttl events\n",
    "    _t_0 = None # time computed naively (n/s_f_0)\n",
    "    _t_prime = None # time synchronized to a pattern ('master') reference\n",
    "    _s_f_0 = None # measured samplin rate (using the syn signal)\n",
    "    _syn_chan_id = None # digital channel for signal id (for nidaq; automatic last channel in lf/ap streams)\n",
    "    _dig = None # the digital signal\n",
    "    _start_sample = None # start sample from the beginning of the run\n",
    "    _start_t = None # start t (absolute in the machine)\n",
    "    \n",
    "    _meta_dict = None # dictionary with metadata of the recording\n",
    "    _chan_pd = None # pandas dataframe with channel ids\n",
    "    \n",
    "    def __init__(self, rec_path: str, processor, dtype: str = 'int16', syn_chan_id=0):\n",
    "        # dtype should come from the meta but for now its ok\n",
    "        # rec_path is the path to the recording\n",
    "        self._meta_dict = get_rec_meta(rec_path)\n",
    "        self._chan_pd = build_chan_info_pd(self._meta_dict)\n",
    "        self._s_f_0 = get_oe_sample_rate(self._meta_dict)\n",
    "        \n",
    "        cont_path = os.path.join(rec_path, 'continuous', processor, 'continuous.dat')\n",
    "        \n",
    "        n_chan = self._chan_pd['recorded'].sum()\n",
    "        se.BinaryRecordingExtractor.__init__(self, cont_path, self._s_f_0, n_chan, np.int16)\n",
    "        \n",
    "        self._chan_names = np.array(self._chan_pd .loc[self._chan_pd ['recorded']==True, 'name'])"
   ]
  },
  {
   "cell_type": "code",
   "execution_count": 36,
   "metadata": {},
   "outputs": [
    {
     "data": {
      "text/plain": [
       "spikeinterface.core.binaryrecordingextractor.BinaryRecordingExtractor"
      ]
     },
     "execution_count": 36,
     "metadata": {},
     "output_type": "execute_result"
    }
   ],
   "source": [
    "se.BinaryRecordingExtractor"
   ]
  },
  {
   "cell_type": "code",
   "execution_count": 37,
   "metadata": {},
   "outputs": [],
   "source": [
    "oe_recording = oeRecordingExtractor(rec_path, 'Acquisition_Board-100.Rhythm Data')"
   ]
  },
  {
   "cell_type": "code",
   "execution_count": 38,
   "metadata": {},
   "outputs": [
    {
     "data": {
      "text/plain": [
       "['/mnt/sphere/speech_bci/raw_data/s_b1376_22/2022-09-22/oe/2022-09-22_07-24-41/Record Node 101/experiment1/recording1/continuous',\n",
       " '/mnt/sphere/speech_bci/raw_data/s_b1376_22/2022-09-22/oe/2022-09-22_07-24-41/Record Node 101/experiment1/recording1/events']"
      ]
     },
     "execution_count": 38,
     "metadata": {},
     "output_type": "execute_result"
    }
   ],
   "source": [
    "list_processors(rec_path)"
   ]
  },
  {
   "cell_type": "markdown",
   "metadata": {},
   "source": [
    "#### define pre-processing steps for each epoch and for the session"
   ]
  },
  {
   "cell_type": "code",
   "execution_count": 39,
   "metadata": {},
   "outputs": [],
   "source": [
    "def chan_to_wav(single_bin_path, chan_name, oe_meta_dict, wav_path):\n",
    "    # get the file n of channels\n",
    "    chan_info_pd = build_chan_info_pd(oe_meta_dict)\n",
    "    n_channels = chan_info_pd['recorded'].sum()\n",
    "    logger.info(n_channels)\n",
    "    chan_pos = find_chan_order(chan_info_pd, chan_name)\n",
    "    logger.info(chan_pos)\n",
    "    # read the file\n",
    "    bin_fp = np.memmap(single_bin_path, dtype='<i2', mode='r').reshape(-1, n_channels)\n",
    "    \n",
    "    #save as wav\n",
    "    sample_rate = int(get_oe_sample_rate(oe_meta_dict))\n",
    "    logger.info('writing wave file {}'.format(wav_path))\n",
    "    wavfile.write(wav_path, sample_rate, bin_fp.T[chan_pos])"
   ]
  },
  {
   "cell_type": "markdown",
   "metadata": {},
   "source": [
    "#### test the extracting of channels\n"
   ]
  },
  {
   "cell_type": "code",
   "execution_count": 51,
   "metadata": {},
   "outputs": [
    {
     "name": "stderr",
     "output_type": "stream",
     "text": [
      "2022-09-23 11:15:57,642 root         INFO     meta for sess 2022-09-22 | epoch 2022-09-22_07-24-41\n",
      "2022-09-23 11:15:57,647 root         INFO     getting the recording file /mnt/sphere/speech_bci/raw_data/s_b1376_22/2022-09-22/oe/2022-09-22_07-24-41/Record Node 101/experiment1/recording1/continuous/Acquisition_Board-100.Rhythm Data/continuous.dat\n"
     ]
    }
   ],
   "source": [
    "def run_meta(sess_par: dict, exp_struct: dict, epoch:str, do_sync_to_stream=None) -> dict:\n",
    "    # get the recording files\n",
    "    # dump the microphone file into a wav file\n",
    "    # that's it for now\n",
    "    \n",
    "    logger.info('meta for sess {} | epoch {}'.format(sess_par['sess'], epoch))\n",
    "    \n",
    "    epoch_path = os.path.join(raw_folder, epoch)\n",
    "    node_path = get_default_node(exp_struct, epoch)\n",
    "    rec_path = get_default_recording(node_path)\n",
    "    cont_path = os.path.join(get_default_continuous(rec_path), 'continuous.dat')\n",
    "    \n",
    "    rec_meta = get_rec_meta(rec_path)\n",
    "    logger.info('getting the recording file ' + cont_path)\n",
    "    \n",
    "    # get the rig parameters\n",
    "    # get the mic channel name in the channels recorded\n",
    "    # make the folder for the derived data\n",
    "    # toss the wav file in there\n",
    "    \n",
    "    rig_par = et.get_rig_par(exp_struct)\n",
    "    return rec_meta, rig_par, cont_path\n",
    "\n",
    "rec_meta, rig_par, single_bin_path = run_meta(sess_par, exp_struct, sess_epochs[0])"
   ]
  },
  {
   "cell_type": "code",
   "execution_count": 46,
   "metadata": {},
   "outputs": [],
   "source": [
    "chan_info_pd = build_chan_info_pd(rec_meta)"
   ]
  },
  {
   "cell_type": "code",
   "execution_count": 47,
   "metadata": {},
   "outputs": [
    {
     "data": {
      "text/html": [
       "<div>\n",
       "<style scoped>\n",
       "    .dataframe tbody tr th:only-of-type {\n",
       "        vertical-align: middle;\n",
       "    }\n",
       "\n",
       "    .dataframe tbody tr th {\n",
       "        vertical-align: top;\n",
       "    }\n",
       "\n",
       "    .dataframe thead th {\n",
       "        text-align: right;\n",
       "    }\n",
       "</style>\n",
       "<table border=\"1\" class=\"dataframe\">\n",
       "  <thead>\n",
       "    <tr style=\"text-align: right;\">\n",
       "      <th></th>\n",
       "      <th>number</th>\n",
       "      <th>recorded</th>\n",
       "      <th>name</th>\n",
       "      <th>gain</th>\n",
       "    </tr>\n",
       "  </thead>\n",
       "  <tbody>\n",
       "    <tr>\n",
       "      <th>0</th>\n",
       "      <td>0</td>\n",
       "      <td>1</td>\n",
       "      <td>ADC1</td>\n",
       "      <td>0.000153</td>\n",
       "    </tr>\n",
       "    <tr>\n",
       "      <th>1</th>\n",
       "      <td>1</td>\n",
       "      <td>1</td>\n",
       "      <td>ADC2</td>\n",
       "      <td>0.000153</td>\n",
       "    </tr>\n",
       "  </tbody>\n",
       "</table>\n",
       "</div>"
      ],
      "text/plain": [
       "   number  recorded  name      gain\n",
       "0       0         1  ADC1  0.000153\n",
       "1       1         1  ADC2  0.000153"
      ]
     },
     "execution_count": 47,
     "metadata": {},
     "output_type": "execute_result"
    }
   ],
   "source": [
    "chan_info_pd"
   ]
  },
  {
   "cell_type": "code",
   "execution_count": 49,
   "metadata": {},
   "outputs": [
    {
     "name": "stderr",
     "output_type": "stream",
     "text": [
      "2022-09-23 11:14:16,444 root         INFO     2\n",
      "2022-09-23 11:14:16,447 root         INFO     1\n"
     ]
    }
   ],
   "source": [
    "chan_name = 'ADC2'\n",
    "n_channels = chan_info_pd['recorded'].sum()\n",
    "logger.info(n_channels)\n",
    "chan_pos = find_chan_order(chan_info_pd, chan_name)\n",
    "logger.info(chan_pos)"
   ]
  },
  {
   "cell_type": "code",
   "execution_count": 52,
   "metadata": {},
   "outputs": [],
   "source": [
    "bin_fp = np.memmap(single_bin_path, dtype='<i2', mode='r').reshape(-1, n_channels)"
   ]
  },
  {
   "cell_type": "code",
   "execution_count": 55,
   "metadata": {},
   "outputs": [
    {
     "data": {
      "text/plain": [
       "(69116416, 2)"
      ]
     },
     "execution_count": 55,
     "metadata": {},
     "output_type": "execute_result"
    }
   ],
   "source": [
    "bin_fp.shape"
   ]
  },
  {
   "cell_type": "code",
   "execution_count": 57,
   "metadata": {},
   "outputs": [
    {
     "data": {
      "text/plain": [
       "memmap([10787, 10791, 10787, ..., 10943, 10935, 10915], dtype=int16)"
      ]
     },
     "execution_count": 57,
     "metadata": {},
     "output_type": "execute_result"
    }
   ],
   "source": [
    "bin_fp.T[1]"
   ]
  },
  {
   "cell_type": "code",
   "execution_count": 62,
   "metadata": {},
   "outputs": [],
   "source": [
    "def preprocess_run(sess_par: dict, exp_struct: dict, epoch:str, do_sync_to_stream=None) -> dict:\n",
    "    # get the recording files\n",
    "    # dump the microphone file into a wav file\n",
    "    # that's it for now\n",
    "    \n",
    "    logger.info('PREPROCESSING sess {} | epoch {}'.format(sess_par['sess'], epoch))\n",
    "    \n",
    "    epoch_path = os.path.join(raw_folder, epoch)\n",
    "    node_path = get_default_node(exp_struct, epoch)\n",
    "    rec_path = get_default_recording(node_path)\n",
    "    cont_path = os.path.join(get_default_continuous(rec_path), 'continuous.dat')\n",
    "    \n",
    "    rec_meta = get_rec_meta(rec_path)\n",
    "    logger.info('getting the recording file ' + cont_path)\n",
    "    \n",
    "    # get the rig parameters\n",
    "    # get the mic channel name in the channels recorded\n",
    "    # make the folder for the derived data\n",
    "    # toss the wav file in there\n",
    "    \n",
    "    rig_par = et.get_rig_par(exp_struct)\n",
    "    \n",
    "    derived_path = os.path.join(exp_struct['folders']['derived'], epoch)\n",
    "    fu.makedirs(derived_path)\n",
    "    \n",
    "    # get the microphone, then the adc channels\n",
    "    #microhpone\n",
    "    mic_ch_name = rig_par['chan']['adc']['microphone_0']\n",
    "    wav_path = os.path.join(derived_path, 'wav_mic.wav')\n",
    "    logger.info('get microphone from ch {} to wav {}'.format(mic_ch_name, wav_path))\n",
    "    chan_to_wav(cont_path, mic_ch_name, rec_meta, wav_path)\n",
    "    \n",
    "    # adc channels\n",
    "    for adc_chan in sess_par['adc_list']:\n",
    "        ch_name = rig_par['chan']['adc'][adc_chan]\n",
    "        wav_path = os.path.join(derived_path, 'wav_{}.wav'.format(adc_chan))     \n",
    "        logger.info('get adc chan {} from ch {} to wav file {}'.format(adc_chan, ch_name, wav_path))\n",
    "        chan_to_wav(cont_path, ch_name, rec_meta, wav_path)\n",
    "        \n",
    "    return rec_meta"
   ]
  },
  {
   "cell_type": "code",
   "execution_count": 63,
   "metadata": {},
   "outputs": [
    {
     "data": {
      "text/plain": [
       "['pressure']"
      ]
     },
     "execution_count": 63,
     "metadata": {},
     "output_type": "execute_result"
    }
   ],
   "source": [
    "sess_par['adc_list']"
   ]
  },
  {
   "cell_type": "code",
   "execution_count": 68,
   "metadata": {
    "tags": []
   },
   "outputs": [
    {
     "name": "stderr",
     "output_type": "stream",
     "text": [
      "2022-09-23 11:20:46,047 root         INFO     PREPROCESSING sess 2022-09-22 | epoch 2022-09-22_18-17-35\n",
      "2022-09-23 11:20:46,081 root         INFO     getting the recording file /mnt/sphere/speech_bci/raw_data/s_b1376_22/2022-09-22/oe/2022-09-22_18-17-35/Record Node 101/experiment1/recording2/continuous/Acquisition_Board-100.Rhythm Data/continuous.dat\n",
      "2022-09-23 11:20:46,084 root         INFO     get microphone from ch ADC1 to wav /mnt/sphere/speech_bci/derived_data/s_b1376_22/2022-09-22/oe/2022-09-22_18-17-35/wav_mic.wav\n",
      "2022-09-23 11:20:46,086 root         INFO     8\n",
      "2022-09-23 11:20:46,090 root         INFO     0\n",
      "2022-09-23 11:20:46,108 root         INFO     writing wave file /mnt/sphere/speech_bci/derived_data/s_b1376_22/2022-09-22/oe/2022-09-22_18-17-35/wav_mic.wav\n",
      "2022-09-23 11:20:49,865 root         INFO     get adc chan pressure from ch ADC2 to wav file /mnt/sphere/speech_bci/derived_data/s_b1376_22/2022-09-22/oe/2022-09-22_18-17-35/wav_pressure.wav\n",
      "2022-09-23 11:20:49,867 root         INFO     8\n",
      "2022-09-23 11:20:49,869 root         INFO     1\n",
      "2022-09-23 11:20:49,870 root         INFO     writing wave file /mnt/sphere/speech_bci/derived_data/s_b1376_22/2022-09-22/oe/2022-09-22_18-17-35/wav_pressure.wav\n"
     ]
    }
   ],
   "source": [
    "reload(pre)\n",
    "one_epoch_dict = preprocess_run(sess_par, exp_struct, sess_epochs[4])"
   ]
  },
  {
   "cell_type": "code",
   "execution_count": 11,
   "metadata": {
    "collapsed": true,
    "jupyter": {
     "outputs_hidden": true
    },
    "tags": []
   },
   "outputs": [
    {
     "name": "stderr",
     "output_type": "stream",
     "text": [
      "2022-04-25 11:28:43,627 root         INFO     pre-process all runs of sess 2022-04-24\n",
      "2022-04-25 11:28:43,629 ceciestunepipe.file.bcistructure INFO     {'folders': {'bird': '/mnt/sphere/speech_bci/raw_data/s_b1555_22', 'raw': '/mnt/sphere/speech_bci/raw_data/s_b1555_22/2022-04-24', 'sglx': '/mnt/sphere/speech_bci/raw_data/s_b1555_22/2022-04-24/sglx', 'kwik': '/scratch/earneodo/s_b1555_22/sglx/kwik/2022-04-24', 'processed': '/mnt/sphere/speech_bci/processed_data/s_b1555_22/2022-04-24/sglx', 'derived': '/mnt/sphere/speech_bci/derived_data/s_b1555_22/2022-04-24/sglx', 'tmp': '/scratch/earneodo/tmp', 'msort': '/scratch/earneodo/s_b1555_22/sglx/msort/2022-04-24', 'ksort': '/scratch/earneodo/s_b1555_22/sglx/ksort/2022-04-24/2', 'sort': '/mnt/sphere/speech_bci/derived_data/s_b1555_22/2022-04-24/sglx/2'}, 'files': {'par': '/scratch/earneodo/s_b1555_22/sglx/ksort/2022-04-24/2/params.json', 'set': '/mnt/sphere/speech_bci/raw_data/s_b1555_22/2022-04-24/sglx/settings.isf', 'rig': '/mnt/sphere/speech_bci/raw_data/s_b1555_22/2022-04-24/sglx/rig.json', 'kwd': '/scratch/earneodo/s_b1555_22/sglx/kwik/2022-04-24/stream.kwd', 'kwik': '/scratch/earneodo/s_b1555_22/sglx/kwik/2022-04-24/sort_2/spikes.kwik', 'kwe': '/scratch/earneodo/s_b1555_22/sglx/kwik/2022-04-24/events.kwe', 'dat_mic': '/mnt/sphere/speech_bci/processed_data/s_b1555_22/2022-04-24/sglx/dat_mic.mat', 'dat_ap': '/mnt/sphere/speech_bci/processed_data/s_b1555_22/2022-04-24/sglx/dat_ap.mat', 'allevents': '/mnt/sphere/speech_bci/processed_data/s_b1555_22/2022-04-24/sglx/dat_all.pkl', 'wav_mic': '/mnt/sphere/speech_bci/derived_data/s_b1555_22/2022-04-24/sglx/wav_mic.wav', 'mda_raw': '/scratch/earneodo/s_b1555_22/sglx/msort/2022-04-24/raw.mda', 'bin_raw': '/scratch/earneodo/s_b1555_22/sglx/ksort/2022-04-24/2/raw.bin'}}\n",
      "2022-04-25 11:28:43,630 root         INFO     found epochs: ['0853_g0', '1846_g0']\n",
      "2022-04-25 11:28:43,631 ceciestunepipe.util.spikeextractors.preprocess INFO     PREPROCESSING sess 2022-04-24 | epoch 0853_g0\n",
      "2022-04-25 11:28:43,631 ceciestunepipe.util.spikeextractors.preprocess INFO     getting extractors\n",
      "2022-04-25 11:28:43,649 ceciestunepipe.util.spikeextractors.preprocess INFO     Got sglx recordings for keys ['nidq']\n",
      "2022-04-25 11:28:43,649 ceciestunepipe.util.spikeextractors.preprocess INFO     Getting microphone channel(s) ['microphone_0']\n",
      "2022-04-25 11:28:43,650 ceciestunepipe.util.wavutil INFO     sampling rate 40000\n",
      "2022-04-25 11:28:43,651 ceciestunepipe.util.wavutil INFO     saving (1, 1426337587)-shaped array as wav in /mnt/sphere/speech_bci/derived_data/s_b1555_22/2022-04-24/sglx/0853_g0/wav_mic.wav\n",
      "2022-04-25 11:29:04,200 ceciestunepipe.util.wavutil INFO     saving (1, 1426337587)-shaped array as npy in /mnt/sphere/speech_bci/derived_data/s_b1555_22/2022-04-24/sglx/0853_g0/wav_mic.npy\n",
      "2022-04-25 11:29:31,844 ceciestunepipe.util.spikeextractors.preprocess INFO     Getting adc channel(s) ['pressure']\n",
      "2022-04-25 11:29:31,847 ceciestunepipe.util.wavutil INFO     sampling rate 40000\n",
      "2022-04-25 11:29:31,848 ceciestunepipe.util.wavutil INFO     saving (1, 1426337587)-shaped array as wav in /mnt/sphere/speech_bci/derived_data/s_b1555_22/2022-04-24/sglx/0853_g0/wav_adc.wav\n",
      "2022-04-25 11:29:38,453 ceciestunepipe.util.wavutil INFO     saving (1, 1426337587)-shaped array as npy in /mnt/sphere/speech_bci/derived_data/s_b1555_22/2022-04-24/sglx/0853_g0/wav_adc.npy\n",
      "2022-04-25 11:30:33,641 ceciestunepipe.util.spikeextractors.preprocess INFO     Getting sync channel(s) from nidaq streams: ['sync']\n",
      "2022-04-25 11:30:33,644 ceciestunepipe.util.spikeextractors.extractors.spikeglxrecordingextractor.spikeglxrecordingextractor INFO     getting ttl traces, chan [0 1 2 3 4 5 6 7]\n",
      "2022-04-25 11:31:00,445 ceciestunepipe.util.wavutil INFO     sampling rate 40000\n",
      "2022-04-25 11:31:00,447 ceciestunepipe.util.wavutil INFO     saving (1, 1426337587)-shaped array as wav in /mnt/sphere/speech_bci/derived_data/s_b1555_22/2022-04-24/sglx/0853_g0/wav_sync.wav\n",
      "2022-04-25 11:31:04,479 ceciestunepipe.util.wavutil INFO     saving (1, 1426337587)-shaped array as npy in /mnt/sphere/speech_bci/derived_data/s_b1555_22/2022-04-24/sglx/0853_g0/wav_sync.npy\n",
      "2022-04-25 11:31:08,488 ceciestunepipe.util.spikeextractors.preprocess INFO     Getting sync events from the wav sync channel\n",
      "2022-04-25 11:31:14,488 ceciestunepipe.util.spikeextractors.preprocess INFO     saving sync events of the wav channel to /mnt/sphere/speech_bci/derived_data/s_b1555_22/2022-04-24/sglx/0853_g0/wav_sync_evt.npy\n",
      "2022-04-25 11:31:14,491 ceciestunepipe.util.spikeextractors.preprocess INFO     saving t0 for wav channel to /mnt/sphere/speech_bci/derived_data/s_b1555_22/2022-04-24/sglx/0853_g0/wav_t0.npy\n",
      "2022-04-25 11:33:40,318 ceciestunepipe.util.spikeextractors.preprocess INFO     Will get 1 ttl signals\n",
      "2022-04-25 11:33:40,321 ceciestunepipe.util.spikeextractors.preprocess INFO     looking for signal wav_ttl in the nidaq channels\n",
      "2022-04-25 11:33:40,321 ceciestunepipe.util.spikeextractors.preprocess INFO     found in chan 2\n",
      "2022-04-25 11:33:40,322 ceciestunepipe.util.spikeextractors.extractors.spikeglxrecordingextractor.spikeglxrecordingextractor INFO     getting ttl events, chan 2\n",
      "2022-04-25 11:36:46,792 ceciestunepipe.util.spikeextractors.preprocess INFO     saving (0, 2)-shaped array as npy in /mnt/sphere/speech_bci/derived_data/s_b1555_22/2022-04-24/sglx/0853_g0/wav_ttl_evt.npy\n",
      "2022-04-25 11:36:47,012 ceciestunepipe.util.spikeextractors.preprocess INFO     saving sync nidaq dict to /mnt/sphere/speech_bci/derived_data/s_b1555_22/2022-04-24/sglx/0853_g0/wav_sync_dict.pkl\n",
      "2022-04-25 11:36:47,014 ceciestunepipe.util.spikeextractors.preprocess INFO     Getting sync signals for imec streams: []\n",
      "2022-04-25 11:36:47,014 ceciestunepipe.util.spikeextractors.preprocess INFO     getting syn patterns for nidq\n",
      "2022-04-25 11:36:47,015 ceciestunepipe.util.spikeextractors.preprocess INFO     File /mnt/sphere/speech_bci/derived_data/s_b1555_22/2022-04-24/sglx/0853_g0/nidq_sync_dict.pkl not found or forced computation, getting the events\n",
      "2022-04-25 11:36:47,016 ceciestunepipe.util.spikeextractors.extractors.spikeglxrecordingextractor.spikeglxrecordingextractor INFO     getting ttl events, chan 0\n",
      "/home/earneodo/anaconda3/envs/unepipe/lib/python3.8/site-packages/numpy/core/fromnumeric.py:3419: RuntimeWarning: Mean of empty slice.\n",
      "  return _methods._mean(a, axis=axis, dtype=dtype,\n",
      "/home/earneodo/anaconda3/envs/unepipe/lib/python3.8/site-packages/numpy/core/_methods.py:188: RuntimeWarning: invalid value encountered in double_scalars\n",
      "  ret = ret.dtype.type(ret / rcount)\n",
      "2022-04-25 11:39:10,866 ceciestunepipe.util.spikeextractors.preprocess INFO     saving events array to /mnt/sphere/speech_bci/derived_data/s_b1555_22/2022-04-24/sglx/0853_g0/nidq_sync_evt.npy\n",
      "2022-04-25 11:39:10,870 ceciestunepipe.util.spikeextractors.preprocess INFO     saving t_0 array to /mnt/sphere/speech_bci/derived_data/s_b1555_22/2022-04-24/sglx/0853_g0/nidq_t0.npy\n",
      "2022-04-25 11:39:27,698 ceciestunepipe.util.spikeextractors.preprocess INFO     saving sync dict to /mnt/sphere/speech_bci/derived_data/s_b1555_22/2022-04-24/sglx/0853_g0/nidq_sync_dict.pkl\n",
      "2022-04-25 11:39:27,700 ceciestunepipe.util.spikeextractors.preprocess INFO     loading syn_dict from /mnt/sphere/speech_bci/derived_data/s_b1555_22/2022-04-24/sglx/0853_g0/nidq_sync_dict.pkl\n",
      "2022-04-25 11:39:27,706 ceciestunepipe.util.spikeextractors.preprocess INFO     getting syn patterns for wav\n",
      "2022-04-25 11:39:27,707 ceciestunepipe.util.spikeextractors.preprocess INFO     loading syn_dict from /mnt/sphere/speech_bci/derived_data/s_b1555_22/2022-04-24/sglx/0853_g0/wav_sync_dict.pkl\n",
      "2022-04-25 11:42:06,309 ceciestunepipe.util.spikeextractors.preprocess INFO     saved epoch preprocessing parameters to /mnt/sphere/speech_bci/derived_data/s_b1555_22/2022-04-24/sglx/0853_g0/preprocess_par.pickle\n",
      "2022-04-25 11:42:06,326 ceciestunepipe.util.spikeextractors.preprocess INFO     PREPROCESSING sess 2022-04-24 | epoch 1846_g0\n",
      "2022-04-25 11:42:06,326 ceciestunepipe.util.spikeextractors.preprocess INFO     getting extractors\n",
      "2022-04-25 11:42:06,383 ceciestunepipe.util.spikeextractors.preprocess INFO     Got sglx recordings for keys ['nidq']\n",
      "2022-04-25 11:42:06,383 ceciestunepipe.util.spikeextractors.preprocess INFO     Getting microphone channel(s) ['microphone_0']\n",
      "2022-04-25 11:42:06,385 ceciestunepipe.util.wavutil INFO     sampling rate 40000\n",
      "2022-04-25 11:42:06,385 ceciestunepipe.util.wavutil INFO     saving (1, 923100979)-shaped array as wav in /mnt/sphere/speech_bci/derived_data/s_b1555_22/2022-04-24/sglx/1846_g0/wav_mic.wav\n",
      "2022-04-25 11:42:25,829 ceciestunepipe.util.wavutil INFO     saving (1, 923100979)-shaped array as npy in /mnt/sphere/speech_bci/derived_data/s_b1555_22/2022-04-24/sglx/1846_g0/wav_mic.npy\n",
      "2022-04-25 11:42:43,646 ceciestunepipe.util.spikeextractors.preprocess INFO     Getting adc channel(s) ['pressure']\n",
      "2022-04-25 11:42:43,649 ceciestunepipe.util.wavutil INFO     sampling rate 40000\n",
      "2022-04-25 11:42:43,650 ceciestunepipe.util.wavutil INFO     saving (1, 923100979)-shaped array as wav in /mnt/sphere/speech_bci/derived_data/s_b1555_22/2022-04-24/sglx/1846_g0/wav_adc.wav\n",
      "2022-04-25 11:42:47,163 ceciestunepipe.util.wavutil INFO     saving (1, 923100979)-shaped array as npy in /mnt/sphere/speech_bci/derived_data/s_b1555_22/2022-04-24/sglx/1846_g0/wav_adc.npy\n",
      "2022-04-25 11:43:22,268 ceciestunepipe.util.spikeextractors.preprocess INFO     Getting sync channel(s) from nidaq streams: ['sync']\n",
      "2022-04-25 11:43:22,270 ceciestunepipe.util.spikeextractors.extractors.spikeglxrecordingextractor.spikeglxrecordingextractor INFO     getting ttl traces, chan [0 1 2 3 4 5 6 7]\n",
      "2022-04-25 11:43:40,669 ceciestunepipe.util.wavutil INFO     sampling rate 40000\n",
      "2022-04-25 11:43:40,671 ceciestunepipe.util.wavutil INFO     saving (1, 923100979)-shaped array as wav in /mnt/sphere/speech_bci/derived_data/s_b1555_22/2022-04-24/sglx/1846_g0/wav_sync.wav\n",
      "2022-04-25 11:43:43,340 ceciestunepipe.util.wavutil INFO     saving (1, 923100979)-shaped array as npy in /mnt/sphere/speech_bci/derived_data/s_b1555_22/2022-04-24/sglx/1846_g0/wav_sync.npy\n",
      "2022-04-25 11:43:45,831 ceciestunepipe.util.spikeextractors.preprocess INFO     Getting sync events from the wav sync channel\n",
      "2022-04-25 11:43:50,876 ceciestunepipe.util.spikeextractors.preprocess INFO     saving sync events of the wav channel to /mnt/sphere/speech_bci/derived_data/s_b1555_22/2022-04-24/sglx/1846_g0/wav_sync_evt.npy\n",
      "2022-04-25 11:43:50,922 ceciestunepipe.util.spikeextractors.preprocess INFO     saving t0 for wav channel to /mnt/sphere/speech_bci/derived_data/s_b1555_22/2022-04-24/sglx/1846_g0/wav_t0.npy\n",
      "2022-04-25 11:44:13,967 ceciestunepipe.util.spikeextractors.preprocess INFO     Will get 1 ttl signals\n",
      "2022-04-25 11:44:13,968 ceciestunepipe.util.spikeextractors.preprocess INFO     looking for signal wav_ttl in the nidaq channels\n",
      "2022-04-25 11:44:13,969 ceciestunepipe.util.spikeextractors.preprocess INFO     found in chan 2\n",
      "2022-04-25 11:44:13,970 ceciestunepipe.util.spikeextractors.extractors.spikeglxrecordingextractor.spikeglxrecordingextractor INFO     getting ttl events, chan 2\n",
      "2022-04-25 11:44:27,193 ceciestunepipe.util.spikeextractors.preprocess INFO     saving (0, 2)-shaped array as npy in /mnt/sphere/speech_bci/derived_data/s_b1555_22/2022-04-24/sglx/1846_g0/wav_ttl_evt.npy\n",
      "2022-04-25 11:44:27,242 ceciestunepipe.util.spikeextractors.preprocess INFO     saving sync nidaq dict to /mnt/sphere/speech_bci/derived_data/s_b1555_22/2022-04-24/sglx/1846_g0/wav_sync_dict.pkl\n",
      "2022-04-25 11:44:27,244 ceciestunepipe.util.spikeextractors.preprocess INFO     Getting sync signals for imec streams: []\n",
      "2022-04-25 11:44:27,245 ceciestunepipe.util.spikeextractors.preprocess INFO     getting syn patterns for nidq\n",
      "2022-04-25 11:44:27,246 ceciestunepipe.util.spikeextractors.preprocess INFO     File /mnt/sphere/speech_bci/derived_data/s_b1555_22/2022-04-24/sglx/1846_g0/nidq_sync_dict.pkl not found or forced computation, getting the events\n",
      "2022-04-25 11:44:27,247 ceciestunepipe.util.spikeextractors.extractors.spikeglxrecordingextractor.spikeglxrecordingextractor INFO     getting ttl events, chan 0\n",
      "2022-04-25 11:44:41,272 ceciestunepipe.util.spikeextractors.preprocess INFO     saving events array to /mnt/sphere/speech_bci/derived_data/s_b1555_22/2022-04-24/sglx/1846_g0/nidq_sync_evt.npy\n",
      "2022-04-25 11:44:41,321 ceciestunepipe.util.spikeextractors.preprocess INFO     saving t_0 array to /mnt/sphere/speech_bci/derived_data/s_b1555_22/2022-04-24/sglx/1846_g0/nidq_t0.npy\n",
      "2022-04-25 11:44:51,102 ceciestunepipe.util.spikeextractors.preprocess INFO     saving sync dict to /mnt/sphere/speech_bci/derived_data/s_b1555_22/2022-04-24/sglx/1846_g0/nidq_sync_dict.pkl\n",
      "2022-04-25 11:44:51,131 ceciestunepipe.util.spikeextractors.preprocess INFO     loading syn_dict from /mnt/sphere/speech_bci/derived_data/s_b1555_22/2022-04-24/sglx/1846_g0/nidq_sync_dict.pkl\n",
      "2022-04-25 11:44:51,136 ceciestunepipe.util.spikeextractors.preprocess INFO     getting syn patterns for wav\n",
      "2022-04-25 11:44:51,137 ceciestunepipe.util.spikeextractors.preprocess INFO     loading syn_dict from /mnt/sphere/speech_bci/derived_data/s_b1555_22/2022-04-24/sglx/1846_g0/wav_sync_dict.pkl\n",
      "2022-04-25 11:46:19,114 ceciestunepipe.util.spikeextractors.preprocess INFO     saved epoch preprocessing parameters to /mnt/sphere/speech_bci/derived_data/s_b1555_22/2022-04-24/sglx/1846_g0/preprocess_par.pickle\n"
     ]
    }
   ],
   "source": [
    "### sequentially process all runs of the sessions\n",
    "# def preprocess_session(sess_par: dict):\n",
    "#     logger.info('pre-process all runs of sess ' + sess_par['sess'])\n",
    "#     # get exp struct\n",
    "#     sess_struct = et.get_exp_struct(sess_par['bird'], sess_par['sess'], sort=sess_par['sort'])\n",
    "#     # list the epochs\n",
    "#     sess_epochs = et.list_sgl_epochs(sess_par)\n",
    "#     logger.info('found epochs: {}'.format(sess_epochs))\n",
    "#     # preprocess all epochs\n",
    "#     epoch_dict_list = []\n",
    "#     for i_ep, epoch in enumerate(sess_epochs):\n",
    "#         try:\n",
    "#             exp_struct = et.sgl_struct(sess_par, epoch)\n",
    "#             one_epoch_dict = pre.preprocess_run(sess_par, exp_struct, epoch)\n",
    "#             epoch_dict_list.append(one_epoch_dict)\n",
    "#         except Exception as exc:\n",
    "#             warnings.warn('Error in epoch {}'.format(epoch), UserWarning)\n",
    "#             logger.info(traceback.format_exc)\n",
    "#             logger.info(exc)\n",
    "#             logger.info('Session {} epoch {} could not be preprocessed'.format(sess_par['sess'], epoch))\n",
    "        \n",
    "#     return epoch_dict_list\n",
    "\n",
    "# all_epoch_list = preprocess_session(sess_par)"
   ]
  },
  {
   "cell_type": "markdown",
   "metadata": {},
   "source": [
    "## Process multiple sessions"
   ]
  },
  {
   "cell_type": "code",
   "execution_count": 11,
   "metadata": {
    "tags": []
   },
   "outputs": [],
   "source": [
    "# sess_list = all_bird_sess\n",
    "# # fist implant, right hemisphere\n",
    "# #sess_list = ['2021-06-24', '2021-06-25', '2021-06-26', '2021-06-27', '2021-06-28', '2021-06-29', '2021-06-30']\n",
    "# sess_list = ['2022-04-16', '2022-04-17', '2022-04-18', '2022-04-24', \n",
    "#             '2022-04-28', '2022-04-29'] #pressure with HSCDLNN001PDAA3 sensor"
   ]
  },
  {
   "cell_type": "code",
   "execution_count": 141,
   "metadata": {
    "scrolled": true,
    "tags": []
   },
   "outputs": [],
   "source": [
    "# all_sess_dict = {}\n",
    "\n",
    "# for one_sess in sess_list[-1:]:\n",
    "#     sess_par['sess'] = one_sess\n",
    "#     preprocess_session(sess_par)"
   ]
  },
  {
   "cell_type": "markdown",
   "metadata": {},
   "source": [
    "## search bouts for those sessions"
   ]
  },
  {
   "cell_type": "code",
   "execution_count": 146,
   "metadata": {},
   "outputs": [],
   "source": [
    "hparams = { # default parameters work well for starling\n",
    "    # spectrogram\n",
    "    'num_freq':1024, #1024# how many channels to use in a spectrogram #\n",
    "    'preemphasis':0.97, \n",
    "    'frame_shift_ms':5, # step size for fft\n",
    "    'frame_length_ms':10, #128 # frame length for fft FRAME SAMPLES < NUM_FREQ!!!\n",
    "    'min_level_db':-55, # minimum threshold db for computing spe \n",
    "    'ref_level_db':110, # reference db for computing spec\n",
    "    'sample_rate':None, # sample rate of your data\n",
    "    \n",
    "    # spectrograms\n",
    "    'mel_filter': False, # should a mel filter be used?\n",
    "    'num_mels':1024, # how many channels to use in the mel-spectrogram\n",
    "    'fmin': 500, # low frequency cutoff for mel filter\n",
    "    'fmax': 12000, # high frequency cutoff for mel filter\n",
    "    \n",
    "    # spectrogram inversion\n",
    "    'max_iters':200,\n",
    "    'griffin_lim_iters':20,\n",
    "    'power':1.5,\n",
    "\n",
    "    # Added for the searching\n",
    "    'read_wav_fun': bs.read_wav_chan, # function for loading the wav_like_stream (has to returns fs, ndarray)\n",
    "    'file_order_fun': bs.sess_file_id, # function for extracting the file id within the session\n",
    "    'min_segment': 30, # Minimum length of supra_threshold to consider a 'syllable' (ms)\n",
    "    'min_silence': 3000, # Minmum distance between groups of syllables to consider separate bouts (ms)\n",
    "    'min_bout': 3000, # min bout duration (ms)\n",
    "    'peak_thresh_rms': 0.55, # threshold (rms) for peak acceptance,\n",
    "    'thresh_rms': 0.25, # threshold for detection of syllables\n",
    "    'mean_syl_rms_thresh': 0.3, #threshold for acceptance of mean rms across the syllable (relative to rms of the file)\n",
    "    'max_bout': 180000, #exclude bouts too long\n",
    "    'l_p_r_thresh': 100, # threshold for n of len_ms/peaks (typycally about 2-3 syllable spans\n",
    "    \n",
    "    'waveform_edges': 1000, #get number of ms before and after the edges of the bout for the waveform sample\n",
    "    \n",
    "    'bout_auto_file': 'bout_auto.pickle', # extension for saving the auto found files\n",
    "    'bout_curated_file': 'bout_checked.pickle', #extension for manually curated files (coming soon)\n",
    "    }"
   ]
  },
  {
   "cell_type": "code",
   "execution_count": 147,
   "metadata": {},
   "outputs": [],
   "source": [
    "sess_list = ['2022-08-17', #first implant, RH, pressure + RA\n",
    "            '2022-07-16', #second implant, LH, pressure + RA, but pressure in the first epoch had a HF noise\n",
    "            ]"
   ]
  },
  {
   "cell_type": "code",
   "execution_count": 148,
   "metadata": {},
   "outputs": [
    {
     "data": {
      "text/plain": [
       "['2022-08-17']"
      ]
     },
     "execution_count": 148,
     "metadata": {},
     "output_type": "execute_result"
    }
   ],
   "source": [
    "#pick sessions to do the bout searching\n",
    "bout_sessions = sess_list[:1]\n",
    "bout_sessions"
   ]
  },
  {
   "cell_type": "code",
   "execution_count": 155,
   "metadata": {},
   "outputs": [
    {
     "data": {
      "text/plain": [
       "<module 'ceciestunepipe.pipeline.searchbout' from '/mnt/cube/earneodo/repos/ceciestunepipe/ceciestunepipe/pipeline/searchbout.py'>"
      ]
     },
     "execution_count": 155,
     "metadata": {},
     "output_type": "execute_result"
    }
   ],
   "source": [
    "reload(sb)"
   ]
  },
  {
   "cell_type": "code",
   "execution_count": 151,
   "metadata": {
    "scrolled": true,
    "tags": []
   },
   "outputs": [
    {
     "name": "stderr",
     "output_type": "stream",
     "text": [
      "2022-08-18 09:11:50,443 ceciestunepipe.pipeline.searchbout INFO     Will search for bouts through all session s_b1555_22, 2022-08-17\n",
      "2022-08-18 09:11:50,448 ceciestunepipe.pipeline.searchbout INFO     getting wav files from/mnt/sphere/speech_bci/derived_data/s_b1555_22/2022-08-17/oe\n",
      "2022-08-18 09:11:50,449 ceciestunepipe.pipeline.searchbout INFO     Found 1 files\n"
     ]
    },
    {
     "name": "stdout",
     "output_type": "stream",
     "text": [
      "[Parallel(n_jobs=4)]: Using backend LokyBackend with 4 concurrent workers.\n"
     ]
    },
    {
     "name": "stderr",
     "output_type": "stream",
     "text": [
      "2022-08-18 09:14:55,002 ceciestunepipe.pipeline.searchbout INFO     getting spectrograms\n"
     ]
    },
    {
     "name": "stdout",
     "output_type": "stream",
     "text": [
      "[Parallel(n_jobs=4)]: Done   1 tasks      | elapsed:  3.1min\n",
      "[Parallel(n_jobs=4)]: Done   1 out of   1 | elapsed:  3.1min finished\n"
     ]
    },
    {
     "ename": "UnboundLocalError",
     "evalue": "local variable 'sess_bouts_dir' referenced before assignment",
     "output_type": "error",
     "traceback": [
      "\u001b[0;31m---------------------------------------------------------------------------\u001b[0m",
      "\u001b[0;31mUnboundLocalError\u001b[0m                         Traceback (most recent call last)",
      "Input \u001b[0;32mIn [151]\u001b[0m, in \u001b[0;36m<cell line: 4>\u001b[0;34m()\u001b[0m\n\u001b[1;32m      5\u001b[0m sess_par[\u001b[38;5;124m'\u001b[39m\u001b[38;5;124msess\u001b[39m\u001b[38;5;124m'\u001b[39m] \u001b[38;5;241m=\u001b[39m sess\n\u001b[1;32m      6\u001b[0m sess_bout_pd \u001b[38;5;241m=\u001b[39m sb\u001b[38;5;241m.\u001b[39mget_all_day_bouts(sess_par, hparams, n_jobs\u001b[38;5;241m=\u001b[39m\u001b[38;5;241m4\u001b[39m, ephys_software\u001b[38;5;241m=\u001b[39m\u001b[38;5;124m'\u001b[39m\u001b[38;5;124moe\u001b[39m\u001b[38;5;124m'\u001b[39m, save\u001b[38;5;241m=\u001b[39m\u001b[38;5;28;01mFalse\u001b[39;00m)\n\u001b[0;32m----> 7\u001b[0m \u001b[43msb\u001b[49m\u001b[38;5;241;43m.\u001b[39;49m\u001b[43msave_auto_bouts\u001b[49m\u001b[43m(\u001b[49m\u001b[43msess_bout_pd\u001b[49m\u001b[43m,\u001b[49m\u001b[43m \u001b[49m\u001b[43msess_par\u001b[49m\u001b[43m,\u001b[49m\u001b[43m \u001b[49m\u001b[43mhparams\u001b[49m\u001b[43m,\u001b[49m\u001b[43m \u001b[49m\u001b[43msoftware\u001b[49m\u001b[38;5;241;43m=\u001b[39;49m\u001b[38;5;124;43m'\u001b[39;49m\u001b[38;5;124;43moe\u001b[39;49m\u001b[38;5;124;43m'\u001b[39;49m\u001b[43m)\u001b[49m\n",
      "File \u001b[0;32m/mnt/cube/earneodo/repos/ceciestunepipe/ceciestunepipe/pipeline/searchbout.py:137\u001b[0m, in \u001b[0;36msave_auto_bouts\u001b[0;34m(sess_bout_pd, sess_par, hparams, software, bout_file_key)\u001b[0m\n\u001b[1;32m    133\u001b[0m     exp_struct \u001b[38;5;241m=\u001b[39m et\u001b[38;5;241m.\u001b[39mget_exp_struct(sess_par[\u001b[38;5;124m'\u001b[39m\u001b[38;5;124mbird\u001b[39m\u001b[38;5;124m'\u001b[39m], sess_par[\u001b[38;5;124m'\u001b[39m\u001b[38;5;124msess\u001b[39m\u001b[38;5;124m'\u001b[39m],\n\u001b[1;32m    134\u001b[0m                                    ephys_software\u001b[38;5;241m=\u001b[39m\u001b[38;5;124m'\u001b[39m\u001b[38;5;124mbouts_sglx\u001b[39m\u001b[38;5;124m'\u001b[39m)\n\u001b[1;32m    135\u001b[0m     sess_bouts_dir \u001b[38;5;241m=\u001b[39m exp_struct[\u001b[38;5;124m'\u001b[39m\u001b[38;5;124mfolders\u001b[39m\u001b[38;5;124m'\u001b[39m][\u001b[38;5;124m'\u001b[39m\u001b[38;5;124mderived\u001b[39m\u001b[38;5;124m'\u001b[39m]\n\u001b[0;32m--> 137\u001b[0m sess_bouts_path \u001b[38;5;241m=\u001b[39m os\u001b[38;5;241m.\u001b[39mpath\u001b[38;5;241m.\u001b[39mjoin(\u001b[43msess_bouts_dir\u001b[49m, hparams[bout_file_key])\n\u001b[1;32m    138\u001b[0m hparams_file_name \u001b[38;5;241m=\u001b[39m \u001b[38;5;124m'\u001b[39m\u001b[38;5;124mbout_search_params.pickle\u001b[39m\u001b[38;5;124m'\u001b[39m\n\u001b[1;32m    140\u001b[0m hparams_pickle_path \u001b[38;5;241m=\u001b[39m os\u001b[38;5;241m.\u001b[39mpath\u001b[38;5;241m.\u001b[39mjoin(\n\u001b[1;32m    141\u001b[0m     sess_bouts_dir, hparams_file_name)\n",
      "\u001b[0;31mUnboundLocalError\u001b[0m: local variable 'sess_bouts_dir' referenced before assignment"
     ]
    }
   ],
   "source": [
    "#all_sessions = sess_list[-1:]\n",
    "#all_sessions = ['2021-06-15']\n",
    "\n",
    "for sess in bout_sessions:\n",
    "    sess_par['sess'] = sess\n",
    "    sess_bout_pd = sb.get_all_day_bouts(sess_par, hparams, n_jobs=4, ephys_software='oe', save=True)\n",
    "    #sb.save_auto_bouts(sess_bout_pd, sess_par, hparams, software='oe')\n",
    "    #sess_bouts_folder = os.path.join(exp_struct['folders']['derived'], 'bouts')\n",
    "    #bouts_to_wavs(sess_bout_pd, sess_par, hparams, sess_bouts_folder)"
   ]
  },
  {
   "cell_type": "code",
   "execution_count": 156,
   "metadata": {},
   "outputs": [
    {
     "name": "stderr",
     "output_type": "stream",
     "text": [
      "2022-08-18 09:26:10,883 ceciestunepipe.pipeline.searchbout INFO     saving bouts pandas to /mnt/sphere/speech_bci/derived_data/s_b1555_22/2022-08-17/bouts_oe/bout_auto.pickle\n",
      "2022-08-18 09:26:15,269 ceciestunepipe.pipeline.searchbout INFO     saving bout detect parameters dict to /mnt/sphere/speech_bci/derived_data/s_b1555_22/2022-08-17/bouts_oe/bout_search_params.pickle\n",
      "2022-08-18 09:26:15,270 ceciestunepipe.util.sound.boutsearch INFO     saving bout detect parameters dict to /mnt/sphere/speech_bci/derived_data/s_b1555_22/2022-08-17/bouts_oe/bout_search_params.pickle\n"
     ]
    }
   ],
   "source": [
    "sb.save_auto_bouts(sess_bout_pd, sess_par, hparams, software='oe')"
   ]
  },
  {
   "cell_type": "code",
   "execution_count": 14,
   "metadata": {},
   "outputs": [
    {
     "name": "stdout",
     "output_type": "stream",
     "text": [
      "<class 'pandas.core.frame.DataFrame'>\n",
      "RangeIndex: 883 entries, 0 to 882\n",
      "Data columns (total 20 columns):\n",
      " #   Column          Non-Null Count  Dtype  \n",
      "---  ------          --------------  -----  \n",
      " 0   start_ms        883 non-null    int64  \n",
      " 1   end_ms          883 non-null    int64  \n",
      " 2   start_sample    883 non-null    int64  \n",
      " 3   end_sample      883 non-null    int64  \n",
      " 4   p_step          883 non-null    object \n",
      " 5   rms_p           883 non-null    float64\n",
      " 6   peak_p          883 non-null    float64\n",
      " 7   bout_check      883 non-null    bool   \n",
      " 8   file            883 non-null    object \n",
      " 9   len_ms          883 non-null    int64  \n",
      " 10  syl_in          883 non-null    object \n",
      " 11  n_syl           883 non-null    int64  \n",
      " 12  peaks_p         883 non-null    object \n",
      " 13  n_peaks         883 non-null    int64  \n",
      " 14  l_p_ratio       883 non-null    float64\n",
      " 15  waveform        883 non-null    object \n",
      " 16  confusing       883 non-null    bool   \n",
      " 17  valid_waveform  883 non-null    bool   \n",
      " 18  valid           883 non-null    bool   \n",
      " 19  spectrogram     883 non-null    object \n",
      "dtypes: bool(4), float64(3), int64(7), object(6)\n",
      "memory usage: 113.9+ KB\n"
     ]
    }
   ],
   "source": [
    "sess_bout_pd.info()"
   ]
  },
  {
   "cell_type": "code",
   "execution_count": 15,
   "metadata": {},
   "outputs": [
    {
     "data": {
      "text/plain": [
       "883"
      ]
     },
     "execution_count": 15,
     "metadata": {},
     "output_type": "execute_result"
    }
   ],
   "source": [
    "np.unique(sess_bout_pd['start_ms']).size"
   ]
  },
  {
   "cell_type": "markdown",
   "metadata": {},
   "source": [
    "# debug"
   ]
  },
  {
   "cell_type": "markdown",
   "metadata": {},
   "source": [
    "## debug search_bout"
   ]
  },
  {
   "cell_type": "code",
   "execution_count": 21,
   "metadata": {},
   "outputs": [
    {
     "name": "stderr",
     "output_type": "stream",
     "text": [
      "2021-09-22 15:13:39,371 root         INFO     Found 4 files\n"
     ]
    },
    {
     "name": "stdout",
     "output_type": "stream",
     "text": [
      "['/mnt/sphere/speech_bci/derived_data/s_b1253_21/2021-06-14/sglx/0712_g0/wav_mic.wav', '/mnt/sphere/speech_bci/derived_data/s_b1253_21/2021-06-14/sglx/1255_g0/wav_mic.wav', '/mnt/sphere/speech_bci/derived_data/s_b1253_21/2021-06-14/sglx/1740_g0/wav_mic.wav', '/mnt/sphere/speech_bci/derived_data/s_b1253_21/2021-06-14/sglx/2118_g0/wav_mic.wav']\n"
     ]
    }
   ],
   "source": [
    "## look for a single file\n",
    "sess = sess_list[0]\n",
    "\n",
    "exp_struct = et.get_exp_struct(sess_par['bird'], sess, ephys_software='sglx')\n",
    "source_folder = exp_struct['folders']['derived']\n",
    "wav_path_list = et.get_sgl_files_epochs(source_folder, file_filter='*wav_mic.wav')\n",
    "wav_path_list.sort()\n",
    "logger.info('Found {} files'.format(len(wav_path_list)))\n",
    "print(wav_path_list)"
   ]
  },
  {
   "cell_type": "code",
   "execution_count": 22,
   "metadata": {},
   "outputs": [],
   "source": [
    "one_file = wav_path_list[0]"
   ]
  },
  {
   "cell_type": "code",
   "execution_count": null,
   "metadata": {},
   "outputs": [
    {
     "name": "stderr",
     "output_type": "stream",
     "text": [
      "2021-09-22 15:13:45,924 ceciestunepipe.util.sound.boutsearch INFO     Getting bouts for long file /mnt/sphere/speech_bci/derived_data/s_b1253_21/2021-06-14/sglx/0712_g0/wav_mic.wav\n"
     ]
    },
    {
     "name": "stdout",
     "output_type": "stream",
     "text": [
      "tu vieja file /mnt/sphere/speech_bci/derived_data/s_b1253_21/2021-06-14/sglx/0712_g0/wav_mic.wav\n"
     ]
    },
    {
     "name": "stderr",
     "output_type": "stream",
     "text": [
      "2021-09-22 15:13:45,962 ceciestunepipe.util.sound.boutsearch INFO     splitting file into 5 chunks\n"
     ]
    },
    {
     "data": {
      "application/vnd.jupyter.widget-view+json": {
       "model_id": "2ee46791b8cc495dae356f151c0a45d0",
       "version_major": 2,
       "version_minor": 0
      },
      "text/plain": [
       "  0%|          | 0/5 [00:00<?, ?it/s]"
      ]
     },
     "metadata": {},
     "output_type": "display_data"
    }
   ],
   "source": [
    "reload(bs)\n",
    "epoch_bout_pd, epoch_wav = bs.get_bouts_in_long_file(wav_path_list[0], hparams)"
   ]
  },
  {
   "cell_type": "code",
   "execution_count": null,
   "metadata": {},
   "outputs": [],
   "source": []
  }
 ],
 "metadata": {
  "kernelspec": {
   "display_name": "ceciestunepipe (cube)",
   "language": "python",
   "name": "unepipe-cube"
  },
  "language_info": {
   "codemirror_mode": {
    "name": "ipython",
    "version": 3
   },
   "file_extension": ".py",
   "mimetype": "text/x-python",
   "name": "python",
   "nbconvert_exporter": "python",
   "pygments_lexer": "ipython3",
   "version": "3.8.11"
  }
 },
 "nbformat": 4,
 "nbformat_minor": 4
}
