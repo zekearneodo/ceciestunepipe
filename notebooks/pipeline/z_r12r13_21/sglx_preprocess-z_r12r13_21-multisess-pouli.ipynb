{
 "cells": [
  {
   "cell_type": "markdown",
   "metadata": {},
   "source": [
    "# Pre-processing pipeline for spikeglx sessions, zebra finch\n",
    "- For every run in the session:\n",
    " - Load the recordings\n",
    " - Extract wav chan with micrhopohone and make a wav chan with the nidq syn signal\n",
    " - Get the sync events for the nidq sync channel\n",
    " \n",
    " - Do bout detection\n",
    " \n",
    "In another notebook, bout detection is curated\n",
    "- Left to decide where to:\n",
    "    - Sort spikes\n",
    "    - Sync the spikes/lfp/nidq\n",
    "    - make and plot 'bout rasters'"
   ]
  },
  {
   "cell_type": "code",
   "execution_count": 3,
   "metadata": {},
   "outputs": [],
   "source": [
    "%matplotlib inline\n",
    "import os\n",
    "import glob\n",
    "import logging\n",
    "import pickle\n",
    "import numpy as np\n",
    "import pandas as pd\n",
    "from scipy.io import wavfile\n",
    "from scipy import signal\n",
    "import traceback\n",
    "import warnings\n",
    "\n",
    "from matplotlib import pyplot as plt\n",
    "from importlib import reload\n",
    "\n",
    "logger = logging.getLogger()\n",
    "handler = logging.StreamHandler()\n",
    "formatter = logging.Formatter(\n",
    "        '%(asctime)s %(name)-12s %(levelname)-8s %(message)s')\n",
    "handler.setFormatter(formatter)\n",
    "logger.addHandler(handler)\n",
    "logger.setLevel(logging.INFO)\n"
   ]
  },
  {
   "cell_type": "code",
   "execution_count": 4,
   "metadata": {},
   "outputs": [
    {
     "name": "stdout",
     "output_type": "stream",
     "text": [
      "h5py version > 2.10.0. Some extractors might not work properly. It is recommended to downgrade to version 2.10.0: \n",
      ">>> pip install h5py==2.10.0\n"
     ]
    }
   ],
   "source": [
    "from ceciestunepipe.file import bcistructure as et\n",
    "from ceciestunepipe.util import sglxutil as sglu\n",
    "from ceciestunepipe.util import rigutil as ru\n",
    "from ceciestunepipe.util import wavutil as wu\n",
    "from ceciestunepipe.util import syncutil as su\n",
    "\n",
    "from ceciestunepipe.util.sound import boutsearch as bs\n",
    "\n",
    "from ceciestunepipe.util.spikeextractors import preprocess as pre\n",
    "from ceciestunepipe.util.spikeextractors.extractors.spikeglxrecordingextractor import readSGLX as rsgl\n",
    "from ceciestunepipe.util.spikeextractors.extractors.spikeglxrecordingextractor import spikeglxrecordingextractor as sglex"
   ]
  },
  {
   "cell_type": "code",
   "execution_count": 5,
   "metadata": {},
   "outputs": [
    {
     "name": "stderr",
     "output_type": "stream",
     "text": [
      "2022-01-31 16:11:18,599 root         INFO     all modules loaded\n"
     ]
    }
   ],
   "source": [
    "import spikeinterface as si\n",
    "import spikeinterface.extractors as se\n",
    "import spikeinterface.toolkit as st\n",
    "import spikeinterface.sorters as ss\n",
    "import spikeinterface.comparison as sc\n",
    "import spikeinterface.widgets as sw\n",
    "logger.info('all modules loaded')"
   ]
  },
  {
   "cell_type": "markdown",
   "metadata": {},
   "source": [
    "## Session parameters and raw files"
   ]
  },
  {
   "cell_type": "markdown",
   "metadata": {},
   "source": [
    "#### list all the sessions for this bird"
   ]
  },
  {
   "cell_type": "code",
   "execution_count": 4,
   "metadata": {},
   "outputs": [
    {
     "name": "stderr",
     "output_type": "stream",
     "text": [
      "2021-12-13 18:12:42,697 root         INFO     all sessions for bird are ['2021-04-23', '2021-04-24', '2021-04-25', '2021-04-26', '2021-05-03', '2021-05-04', '2021-05-05', '2021-05-06', '2021-05-07', '2021-05-08', '2021-05-09', '2021-05-10', '2021-05-11', '2021-05-12', '2021-05-13', '2021-05-14', '2021-05-15', '2021-05-16', '2021-05-17', '2021-05-18', '2021-05-19', '2021-05-20', '2021-05-21', '2021-05-23', '2021-05-24', '2021-05-25', '2021-05-26', '2021-05-27', '2021-05-28', '2021-05-29', '2021-05-30', '2021-05-31', '2021-06-01', '2021-06-02', '2021-06-03', '2021-06-04', '2021-06-05', '2021-06-06', '2021-06-07', '2021-06-08', '2021-06-09', '2021-06-10', '2021-06-11', '2021-06-12', '2021-06-13', '2021-06-14', '2021-06-15', '2021-06-16', '2021-06-17', '2021-06-18', '2021-06-19', '2021-06-20', '2021-06-21', '2021-06-22', '2021-06-23', '2021-06-24', '2021-06-25', '2021-06-26', '2021-06-27', '2021-06-28', '2021-06-29', '2021-06-30', '2021-07-01', '2021-07-02', '2021-07-03', '2021-07-04', '2021-07-05', '2021-07-06', '2021-07-07', '2021-07-08', '2021-07-09', '2021-07-10', '2021-07-11', '2021-07-12']\n"
     ]
    }
   ],
   "source": [
    "bird = 'z_r12r13_21'\n",
    "all_bird_sess = et.list_sessions(bird)\n",
    "logger.info('all sessions for bird are {}'.format(all_bird_sess))"
   ]
  },
  {
   "cell_type": "markdown",
   "metadata": {},
   "source": [
    "### set up bird and sessions parameters\n",
    "this will define:\n",
    "- locations of files (for the bird)\n",
    "- signals and channels to look for in the metadata of the files and in the rig.json parameter file: Note that this have to exist in all of the sessions that will be processed\n",
    "- 'sess' is unimportant here, but it comes handy if there is need to debug usin a single session"
   ]
  },
  {
   "cell_type": "code",
   "execution_count": 5,
   "metadata": {},
   "outputs": [],
   "source": [
    "reload(et)\n",
    "# for one example session\n",
    "\n",
    "sess_par = {'bird': 'z_r12r13_21',\n",
    "           'sess': '2021-06-28',\n",
    "           'probes': ['probe_0'], #probes of interest\n",
    "           'mic_list': ['microphone_0'], #list of mics of interest, by signal name in rig.json\n",
    "           'stim_list': ['wav_stim', 'wav_syn'], # list of adc chans with the stimulus\n",
    "           'nidq_ttl_list': ['wav_ttl'], # list of TTL signals form the nidq digital inputs to extract (besides the 'sync')\n",
    "           'sort': 2, #label for this sort instance\n",
    "           }\n",
    "\n",
    "exp_struct = et.get_exp_struct(sess_par['bird'], sess_par['sess'], sort=sess_par['sort'])\n",
    "\n",
    "ksort_folder = exp_struct['folders']['ksort']\n",
    "raw_folder = exp_struct['folders']['sglx']"
   ]
  },
  {
   "cell_type": "markdown",
   "metadata": {},
   "source": [
    "list all the epochs in a session, to check that it is finding what it has to find"
   ]
  },
  {
   "cell_type": "code",
   "execution_count": 6,
   "metadata": {},
   "outputs": [
    {
     "name": "stderr",
     "output_type": "stream",
     "text": [
      "2021-12-13 18:12:45,702 ceciestunepipe.file.bcistructure INFO     {'folders': {'bird': '/mnt/sphere/speech_bci/raw_data/z_r12r13_21', 'raw': '/mnt/sphere/speech_bci/raw_data/z_r12r13_21/2021-06-28', 'sglx': '/mnt/sphere/speech_bci/raw_data/z_r12r13_21/2021-06-28/sglx', 'kwik': '/experiment/z_r12r13_21/sglx/kwik/2021-06-28', 'processed': '/mnt/sphere/speech_bci/processed_data/z_r12r13_21/2021-06-28/sglx', 'derived': '/mnt/sphere/speech_bci/derived_data/z_r12r13_21/2021-06-28/sglx', 'tmp': '/experiment/tmp/tmp', 'msort': '/experiment/tmp/z_r12r13_21/sglx/msort/2021-06-28', 'ksort': '/experiment/tmp/z_r12r13_21/sglx/ksort/2021-06-28/2', 'sort': '/mnt/sphere/speech_bci/derived_data/z_r12r13_21/2021-06-28/sglx/2'}, 'files': {'par': '/experiment/tmp/z_r12r13_21/sglx/ksort/2021-06-28/2/params.json', 'set': '/mnt/sphere/speech_bci/raw_data/z_r12r13_21/2021-06-28/sglx/settings.isf', 'rig': '/mnt/sphere/speech_bci/raw_data/z_r12r13_21/2021-06-28/sglx/rig.json', 'kwd': '/experiment/z_r12r13_21/sglx/kwik/2021-06-28/stream.kwd', 'kwik': '/experiment/z_r12r13_21/sglx/kwik/2021-06-28/sort_2/spikes.kwik', 'kwe': '/experiment/z_r12r13_21/sglx/kwik/2021-06-28/events.kwe', 'dat_mic': '/mnt/sphere/speech_bci/processed_data/z_r12r13_21/2021-06-28/sglx/dat_mic.mat', 'dat_ap': '/mnt/sphere/speech_bci/processed_data/z_r12r13_21/2021-06-28/sglx/dat_ap.mat', 'allevents': '/mnt/sphere/speech_bci/processed_data/z_r12r13_21/2021-06-28/sglx/dat_all.pkl', 'wav_mic': '/mnt/sphere/speech_bci/derived_data/z_r12r13_21/2021-06-28/sglx/wav_mic.wav', 'mda_raw': '/experiment/tmp/z_r12r13_21/sglx/msort/2021-06-28/raw.mda', 'bin_raw': '/experiment/tmp/z_r12r13_21/sglx/ksort/2021-06-28/2/raw.bin'}}\n"
     ]
    },
    {
     "data": {
      "text/plain": [
       "['0153_g0', '023_g0', '0701_g0', '1006_g0', '1201_g0', '1459_g0', '1806_g0']"
      ]
     },
     "execution_count": 6,
     "metadata": {},
     "output_type": "execute_result"
    }
   ],
   "source": [
    "sess_epochs = et.list_sgl_epochs(sess_par)\n",
    "sess_epochs"
   ]
  },
  {
   "cell_type": "markdown",
   "metadata": {},
   "source": [
    "#### define pre-processing steps for each epoch and for the session"
   ]
  },
  {
   "cell_type": "code",
   "execution_count": 6,
   "metadata": {},
   "outputs": [
    {
     "data": {
      "text/plain": [
       "\u001b[0;31mSignature:\u001b[0m \u001b[0mpre\u001b[0m\u001b[0;34m.\u001b[0m\u001b[0mpreprocess_run\u001b[0m\u001b[0;34m(\u001b[0m\u001b[0msess_par\u001b[0m\u001b[0;34m:\u001b[0m \u001b[0mdict\u001b[0m\u001b[0;34m,\u001b[0m \u001b[0mexp_struct\u001b[0m\u001b[0;34m:\u001b[0m \u001b[0mdict\u001b[0m\u001b[0;34m,\u001b[0m \u001b[0mepoch\u001b[0m\u001b[0;34m:\u001b[0m \u001b[0mstr\u001b[0m\u001b[0;34m)\u001b[0m \u001b[0;34m->\u001b[0m \u001b[0mdict\u001b[0m\u001b[0;34m\u001b[0m\u001b[0;34m\u001b[0m\u001b[0m\n",
       "\u001b[0;31mDocstring:\u001b[0m <no docstring>\n",
       "\u001b[0;31mSource:\u001b[0m   \n",
       "\u001b[0;32mdef\u001b[0m \u001b[0mpreprocess_run\u001b[0m\u001b[0;34m(\u001b[0m\u001b[0msess_par\u001b[0m\u001b[0;34m:\u001b[0m \u001b[0mdict\u001b[0m\u001b[0;34m,\u001b[0m \u001b[0mexp_struct\u001b[0m\u001b[0;34m:\u001b[0m \u001b[0mdict\u001b[0m\u001b[0;34m,\u001b[0m \u001b[0mepoch\u001b[0m\u001b[0;34m:\u001b[0m\u001b[0mstr\u001b[0m\u001b[0;34m)\u001b[0m \u001b[0;34m->\u001b[0m \u001b[0mdict\u001b[0m\u001b[0;34m:\u001b[0m\u001b[0;34m\u001b[0m\n",
       "\u001b[0;34m\u001b[0m    \u001b[0;31m# get the recordings\u001b[0m\u001b[0;34m\u001b[0m\n",
       "\u001b[0;34m\u001b[0m    \u001b[0mlogger\u001b[0m\u001b[0;34m.\u001b[0m\u001b[0minfo\u001b[0m\u001b[0;34m(\u001b[0m\u001b[0;34m'PREPROCESSING sess {} | epoch {}'\u001b[0m\u001b[0;34m.\u001b[0m\u001b[0mformat\u001b[0m\u001b[0;34m(\u001b[0m\u001b[0msess_par\u001b[0m\u001b[0;34m[\u001b[0m\u001b[0;34m'sess'\u001b[0m\u001b[0;34m]\u001b[0m\u001b[0;34m,\u001b[0m \u001b[0mepoch\u001b[0m\u001b[0;34m)\u001b[0m\u001b[0;34m)\u001b[0m\u001b[0;34m\u001b[0m\n",
       "\u001b[0;34m\u001b[0m    \u001b[0mlogger\u001b[0m\u001b[0;34m.\u001b[0m\u001b[0minfo\u001b[0m\u001b[0;34m(\u001b[0m\u001b[0;34m'getting extractors'\u001b[0m\u001b[0;34m)\u001b[0m\u001b[0;34m\u001b[0m\n",
       "\u001b[0;34m\u001b[0m    \u001b[0msgl_exp_struct\u001b[0m \u001b[0;34m=\u001b[0m \u001b[0met\u001b[0m\u001b[0;34m.\u001b[0m\u001b[0msgl_struct\u001b[0m\u001b[0;34m(\u001b[0m\u001b[0msess_par\u001b[0m\u001b[0;34m,\u001b[0m \u001b[0mepoch\u001b[0m\u001b[0;34m)\u001b[0m\u001b[0;34m\u001b[0m\n",
       "\u001b[0;34m\u001b[0m    \u001b[0mrun_recs_dict\u001b[0m\u001b[0;34m,\u001b[0m \u001b[0mrun_meta_files\u001b[0m\u001b[0;34m,\u001b[0m \u001b[0mfiles_pd\u001b[0m\u001b[0;34m,\u001b[0m \u001b[0mrig_dict\u001b[0m \u001b[0;34m=\u001b[0m \u001b[0mload_sglx_recordings\u001b[0m\u001b[0;34m(\u001b[0m\u001b[0msgl_exp_struct\u001b[0m\u001b[0;34m,\u001b[0m \u001b[0mepoch\u001b[0m\u001b[0;34m)\u001b[0m\u001b[0;34m\u001b[0m\n",
       "\u001b[0;34m\u001b[0m    \u001b[0;34m\u001b[0m\n",
       "\u001b[0;34m\u001b[0m    \u001b[0;31m# go through the sglx files of the session extracting data and events, according to the metadata found \u001b[0m\u001b[0;34m\u001b[0m\n",
       "\u001b[0;34m\u001b[0m    \u001b[0;31m# in the rig.json file\u001b[0m\u001b[0;34m\u001b[0m\n",
       "\u001b[0;34m\u001b[0m\u001b[0;34m\u001b[0m\n",
       "\u001b[0;34m\u001b[0m    \u001b[0;31m### For all the nidaq channels:\u001b[0m\u001b[0;34m\u001b[0m\n",
       "\u001b[0;34m\u001b[0m    \u001b[0;31m# get the sampling rate\u001b[0m\u001b[0;34m\u001b[0m\n",
       "\u001b[0;34m\u001b[0m    \u001b[0mnidq_s_f\u001b[0m \u001b[0;34m=\u001b[0m \u001b[0mrun_recs_dict\u001b[0m\u001b[0;34m[\u001b[0m\u001b[0;34m'nidq'\u001b[0m\u001b[0;34m]\u001b[0m\u001b[0;34m.\u001b[0m\u001b[0mget_sampling_frequency\u001b[0m\u001b[0;34m(\u001b[0m\u001b[0;34m)\u001b[0m\u001b[0;34m\u001b[0m\n",
       "\u001b[0;34m\u001b[0m    \u001b[0;34m\u001b[0m\n",
       "\u001b[0;34m\u001b[0m    \u001b[0;31m## get the microphone(s) to wav\u001b[0m\u001b[0;34m\u001b[0m\n",
       "\u001b[0;34m\u001b[0m    \u001b[0;31m# get the chans\u001b[0m\u001b[0;34m\u001b[0m\n",
       "\u001b[0;34m\u001b[0m    \u001b[0mmic_list\u001b[0m \u001b[0;34m=\u001b[0m \u001b[0msess_par\u001b[0m\u001b[0;34m[\u001b[0m\u001b[0;34m'mic_list'\u001b[0m\u001b[0;34m]\u001b[0m\u001b[0;34m\u001b[0m\n",
       "\u001b[0;34m\u001b[0m    \u001b[0;34m\u001b[0m\n",
       "\u001b[0;34m\u001b[0m    \u001b[0mlogger\u001b[0m\u001b[0;34m.\u001b[0m\u001b[0minfo\u001b[0m\u001b[0;34m(\u001b[0m\u001b[0;34m'Getting microphone channel(s) {}'\u001b[0m\u001b[0;34m.\u001b[0m\u001b[0mformat\u001b[0m\u001b[0;34m(\u001b[0m\u001b[0mmic_list\u001b[0m\u001b[0;34m)\u001b[0m\u001b[0;34m)\u001b[0m\u001b[0;34m\u001b[0m\n",
       "\u001b[0;34m\u001b[0m    \u001b[0mmic_stream\u001b[0m \u001b[0;34m=\u001b[0m \u001b[0mextract_nidq_channels\u001b[0m\u001b[0;34m(\u001b[0m\u001b[0msess_par\u001b[0m\u001b[0;34m,\u001b[0m \u001b[0mrun_recs_dict\u001b[0m\u001b[0;34m,\u001b[0m \u001b[0mrig_dict\u001b[0m\u001b[0;34m,\u001b[0m \u001b[0mmic_list\u001b[0m\u001b[0;34m,\u001b[0m \u001b[0mchan_type\u001b[0m\u001b[0;34m=\u001b[0m\u001b[0;34m'adc'\u001b[0m\u001b[0;34m)\u001b[0m\u001b[0;34m\u001b[0m\n",
       "\u001b[0;34m\u001b[0m    \u001b[0mmic_file_path\u001b[0m \u001b[0;34m=\u001b[0m \u001b[0mos\u001b[0m\u001b[0;34m.\u001b[0m\u001b[0mpath\u001b[0m\u001b[0;34m.\u001b[0m\u001b[0mjoin\u001b[0m\u001b[0;34m(\u001b[0m\u001b[0msgl_exp_struct\u001b[0m\u001b[0;34m[\u001b[0m\u001b[0;34m'folders'\u001b[0m\u001b[0;34m]\u001b[0m\u001b[0;34m[\u001b[0m\u001b[0;34m'derived'\u001b[0m\u001b[0;34m]\u001b[0m\u001b[0;34m,\u001b[0m \u001b[0;34m'wav_mic.wav'\u001b[0m\u001b[0;34m)\u001b[0m\u001b[0;34m\u001b[0m\n",
       "\u001b[0;34m\u001b[0m    \u001b[0mwav_s_f\u001b[0m \u001b[0;34m=\u001b[0m \u001b[0mwu\u001b[0m\u001b[0;34m.\u001b[0m\u001b[0msave_wav\u001b[0m\u001b[0;34m(\u001b[0m\u001b[0mmic_stream\u001b[0m\u001b[0;34m,\u001b[0m \u001b[0mnidq_s_f\u001b[0m\u001b[0;34m,\u001b[0m \u001b[0mmic_file_path\u001b[0m\u001b[0;34m)\u001b[0m\u001b[0;34m\u001b[0m\n",
       "\u001b[0;34m\u001b[0m    \u001b[0;34m\u001b[0m\n",
       "\u001b[0;34m\u001b[0m    \u001b[0;31m### if there were other adc channels (stim, for instance)\u001b[0m\u001b[0;34m\u001b[0m\n",
       "\u001b[0;34m\u001b[0m    \u001b[0;31m### get the stimulus signals to wav\u001b[0m\u001b[0;34m\u001b[0m\n",
       "\u001b[0;34m\u001b[0m    \u001b[0;32mif\u001b[0m \u001b[0;34m'stim_list'\u001b[0m \u001b[0;32min\u001b[0m \u001b[0msess_par\u001b[0m\u001b[0;34m:\u001b[0m\u001b[0;34m\u001b[0m\n",
       "\u001b[0;34m\u001b[0m        \u001b[0mstim_list\u001b[0m \u001b[0;34m=\u001b[0m \u001b[0msess_par\u001b[0m\u001b[0;34m[\u001b[0m\u001b[0;34m'stim_list'\u001b[0m\u001b[0;34m]\u001b[0m\u001b[0;34m\u001b[0m\n",
       "\u001b[0;34m\u001b[0m    \u001b[0;32melse\u001b[0m\u001b[0;34m:\u001b[0m\u001b[0;34m\u001b[0m\n",
       "\u001b[0;34m\u001b[0m        \u001b[0mstim_list\u001b[0m \u001b[0;34m=\u001b[0m \u001b[0;34m[\u001b[0m\u001b[0;34m]\u001b[0m\u001b[0;34m\u001b[0m\n",
       "\u001b[0;34m\u001b[0m    \u001b[0;32mif\u001b[0m \u001b[0mlen\u001b[0m\u001b[0;34m(\u001b[0m\u001b[0mstim_list\u001b[0m\u001b[0;34m)\u001b[0m \u001b[0;34m>\u001b[0m \u001b[0;36m0\u001b[0m\u001b[0;34m:\u001b[0m\u001b[0;34m\u001b[0m\n",
       "\u001b[0;34m\u001b[0m        \u001b[0mlogger\u001b[0m\u001b[0;34m.\u001b[0m\u001b[0minfo\u001b[0m\u001b[0;34m(\u001b[0m\u001b[0;34m'Getting stimulus channel(s) {}'\u001b[0m\u001b[0;34m.\u001b[0m\u001b[0mformat\u001b[0m\u001b[0;34m(\u001b[0m\u001b[0mstim_list\u001b[0m\u001b[0;34m)\u001b[0m\u001b[0;34m)\u001b[0m\u001b[0;34m\u001b[0m\n",
       "\u001b[0;34m\u001b[0m\u001b[0;34m\u001b[0m\n",
       "\u001b[0;34m\u001b[0m        \u001b[0mstim_stream\u001b[0m \u001b[0;34m=\u001b[0m \u001b[0mextract_nidq_channels\u001b[0m\u001b[0;34m(\u001b[0m\u001b[0msess_par\u001b[0m\u001b[0;34m,\u001b[0m \u001b[0mrun_recs_dict\u001b[0m\u001b[0;34m,\u001b[0m \u001b[0mrig_dict\u001b[0m\u001b[0;34m,\u001b[0m \u001b[0mstim_list\u001b[0m\u001b[0;34m,\u001b[0m \u001b[0mchan_type\u001b[0m\u001b[0;34m=\u001b[0m\u001b[0;34m'adc'\u001b[0m\u001b[0;34m)\u001b[0m\u001b[0;34m\u001b[0m\n",
       "\u001b[0;34m\u001b[0m        \u001b[0mstim_file_path\u001b[0m \u001b[0;34m=\u001b[0m \u001b[0mos\u001b[0m\u001b[0;34m.\u001b[0m\u001b[0mpath\u001b[0m\u001b[0;34m.\u001b[0m\u001b[0mjoin\u001b[0m\u001b[0;34m(\u001b[0m\u001b[0msgl_exp_struct\u001b[0m\u001b[0;34m[\u001b[0m\u001b[0;34m'folders'\u001b[0m\u001b[0;34m]\u001b[0m\u001b[0;34m[\u001b[0m\u001b[0;34m'derived'\u001b[0m\u001b[0;34m]\u001b[0m\u001b[0;34m,\u001b[0m \u001b[0;34m'wav_stim.wav'\u001b[0m\u001b[0;34m)\u001b[0m\u001b[0;34m\u001b[0m\n",
       "\u001b[0;34m\u001b[0m        \u001b[0mwav_s_f\u001b[0m \u001b[0;34m=\u001b[0m \u001b[0mwu\u001b[0m\u001b[0;34m.\u001b[0m\u001b[0msave_wav\u001b[0m\u001b[0;34m(\u001b[0m\u001b[0mstim_stream\u001b[0m\u001b[0;34m,\u001b[0m \u001b[0mnidq_s_f\u001b[0m\u001b[0;34m,\u001b[0m \u001b[0mstim_file_path\u001b[0m\u001b[0;34m)\u001b[0m\u001b[0;34m\u001b[0m\n",
       "\u001b[0;34m\u001b[0m        \u001b[0;34m\u001b[0m\n",
       "\u001b[0;34m\u001b[0m    \u001b[0;31m# get the syn (from whatever TTL it was in) to wav\u001b[0m\u001b[0;34m\u001b[0m\n",
       "\u001b[0;34m\u001b[0m    \u001b[0msync_list\u001b[0m \u001b[0;34m=\u001b[0m \u001b[0;34m[\u001b[0m\u001b[0;34m'sync'\u001b[0m\u001b[0;34m]\u001b[0m\u001b[0;34m\u001b[0m\n",
       "\u001b[0;34m\u001b[0m    \u001b[0mlogger\u001b[0m\u001b[0;34m.\u001b[0m\u001b[0minfo\u001b[0m\u001b[0;34m(\u001b[0m\u001b[0;34m'Getting sync channel(s) {}'\u001b[0m\u001b[0;34m.\u001b[0m\u001b[0mformat\u001b[0m\u001b[0;34m(\u001b[0m\u001b[0msync_list\u001b[0m\u001b[0;34m)\u001b[0m\u001b[0;34m)\u001b[0m\u001b[0;34m\u001b[0m\n",
       "\u001b[0;34m\u001b[0m    \u001b[0msync_stream\u001b[0m \u001b[0;34m=\u001b[0m \u001b[0mextract_nidq_channels\u001b[0m\u001b[0;34m(\u001b[0m\u001b[0msess_par\u001b[0m\u001b[0;34m,\u001b[0m \u001b[0mrun_recs_dict\u001b[0m\u001b[0;34m,\u001b[0m \u001b[0mrig_dict\u001b[0m\u001b[0;34m,\u001b[0m \u001b[0msync_list\u001b[0m\u001b[0;34m,\u001b[0m \u001b[0mchan_type\u001b[0m\u001b[0;34m=\u001b[0m\u001b[0;34m'ttl'\u001b[0m\u001b[0;34m)\u001b[0m  \u001b[0;34m\u001b[0m\n",
       "\u001b[0;34m\u001b[0m    \u001b[0msync_file_path\u001b[0m \u001b[0;34m=\u001b[0m \u001b[0mos\u001b[0m\u001b[0;34m.\u001b[0m\u001b[0mpath\u001b[0m\u001b[0;34m.\u001b[0m\u001b[0mjoin\u001b[0m\u001b[0;34m(\u001b[0m\u001b[0msgl_exp_struct\u001b[0m\u001b[0;34m[\u001b[0m\u001b[0;34m'folders'\u001b[0m\u001b[0;34m]\u001b[0m\u001b[0;34m[\u001b[0m\u001b[0;34m'derived'\u001b[0m\u001b[0;34m]\u001b[0m\u001b[0;34m,\u001b[0m \u001b[0;34m'wav_sync.wav'\u001b[0m\u001b[0;34m)\u001b[0m\u001b[0;34m\u001b[0m\n",
       "\u001b[0;34m\u001b[0m    \u001b[0mwav_s_f\u001b[0m \u001b[0;34m=\u001b[0m \u001b[0mwu\u001b[0m\u001b[0;34m.\u001b[0m\u001b[0msave_wav\u001b[0m\u001b[0;34m(\u001b[0m\u001b[0msync_stream\u001b[0m\u001b[0;34m,\u001b[0m \u001b[0mnidq_s_f\u001b[0m\u001b[0;34m,\u001b[0m \u001b[0msync_file_path\u001b[0m\u001b[0;34m)\u001b[0m\u001b[0;34m\u001b[0m\n",
       "\u001b[0;34m\u001b[0m    \u001b[0;34m\u001b[0m\n",
       "\u001b[0;34m\u001b[0m    \u001b[0mlogger\u001b[0m\u001b[0;34m.\u001b[0m\u001b[0minfo\u001b[0m\u001b[0;34m(\u001b[0m\u001b[0;34m'Getting sync events from the wav sync channel'\u001b[0m\u001b[0;34m)\u001b[0m\u001b[0;34m\u001b[0m\n",
       "\u001b[0;34m\u001b[0m    \u001b[0msync_ev_path\u001b[0m \u001b[0;34m=\u001b[0m \u001b[0mos\u001b[0m\u001b[0;34m.\u001b[0m\u001b[0mpath\u001b[0m\u001b[0;34m.\u001b[0m\u001b[0mjoin\u001b[0m\u001b[0;34m(\u001b[0m\u001b[0msgl_exp_struct\u001b[0m\u001b[0;34m[\u001b[0m\u001b[0;34m'folders'\u001b[0m\u001b[0;34m]\u001b[0m\u001b[0;34m[\u001b[0m\u001b[0;34m'derived'\u001b[0m\u001b[0;34m]\u001b[0m\u001b[0;34m,\u001b[0m \u001b[0;34m'wav_sync_evt.npy'\u001b[0m\u001b[0;34m)\u001b[0m\u001b[0;34m\u001b[0m\n",
       "\u001b[0;34m\u001b[0m    \u001b[0mwav_s_f\u001b[0m\u001b[0;34m,\u001b[0m \u001b[0mx_d\u001b[0m\u001b[0;34m,\u001b[0m \u001b[0mttl_arr\u001b[0m \u001b[0;34m=\u001b[0m \u001b[0mwu\u001b[0m\u001b[0;34m.\u001b[0m\u001b[0mwav_to_syn\u001b[0m\u001b[0;34m(\u001b[0m\u001b[0msync_file_path\u001b[0m\u001b[0;34m)\u001b[0m\u001b[0;34m\u001b[0m\n",
       "\u001b[0;34m\u001b[0m    \u001b[0mlogger\u001b[0m\u001b[0;34m.\u001b[0m\u001b[0minfo\u001b[0m\u001b[0;34m(\u001b[0m\u001b[0;34m'saving sync events of the wav channel to {}'\u001b[0m\u001b[0;34m.\u001b[0m\u001b[0mformat\u001b[0m\u001b[0;34m(\u001b[0m\u001b[0msync_ev_path\u001b[0m\u001b[0;34m)\u001b[0m\u001b[0;34m)\u001b[0m\u001b[0;34m\u001b[0m\n",
       "\u001b[0;34m\u001b[0m    \u001b[0mnp\u001b[0m\u001b[0;34m.\u001b[0m\u001b[0msave\u001b[0m\u001b[0;34m(\u001b[0m\u001b[0msync_ev_path\u001b[0m\u001b[0;34m,\u001b[0m \u001b[0mttl_arr\u001b[0m\u001b[0;34m)\u001b[0m\u001b[0;34m\u001b[0m\n",
       "\u001b[0;34m\u001b[0m    \u001b[0;34m\u001b[0m\n",
       "\u001b[0;34m\u001b[0m    \u001b[0mt_0_path\u001b[0m \u001b[0;34m=\u001b[0m \u001b[0mos\u001b[0m\u001b[0;34m.\u001b[0m\u001b[0mpath\u001b[0m\u001b[0;34m.\u001b[0m\u001b[0mjoin\u001b[0m\u001b[0;34m(\u001b[0m\u001b[0msgl_exp_struct\u001b[0m\u001b[0;34m[\u001b[0m\u001b[0;34m'folders'\u001b[0m\u001b[0;34m]\u001b[0m\u001b[0;34m[\u001b[0m\u001b[0;34m'derived'\u001b[0m\u001b[0;34m]\u001b[0m\u001b[0;34m,\u001b[0m \u001b[0;34m'wav_t0.npy'\u001b[0m\u001b[0;34m)\u001b[0m\u001b[0;34m\u001b[0m\n",
       "\u001b[0;34m\u001b[0m    \u001b[0mlogger\u001b[0m\u001b[0;34m.\u001b[0m\u001b[0minfo\u001b[0m\u001b[0;34m(\u001b[0m\u001b[0;34m'saving t0 for wav channel to {}'\u001b[0m\u001b[0;34m.\u001b[0m\u001b[0mformat\u001b[0m\u001b[0;34m(\u001b[0m\u001b[0mt_0_path\u001b[0m\u001b[0;34m)\u001b[0m\u001b[0;34m)\u001b[0m\u001b[0;34m\u001b[0m\n",
       "\u001b[0;34m\u001b[0m    \u001b[0mnp\u001b[0m\u001b[0;34m.\u001b[0m\u001b[0msave\u001b[0m\u001b[0;34m(\u001b[0m\u001b[0mt_0_path\u001b[0m\u001b[0;34m,\u001b[0m \u001b[0mnp\u001b[0m\u001b[0;34m.\u001b[0m\u001b[0marange\u001b[0m\u001b[0;34m(\u001b[0m\u001b[0msync_stream\u001b[0m\u001b[0;34m.\u001b[0m\u001b[0msize\u001b[0m\u001b[0;34m)\u001b[0m\u001b[0;34m/\u001b[0m\u001b[0mwav_s_f\u001b[0m\u001b[0;34m)\u001b[0m\u001b[0;34m\u001b[0m\n",
       "\u001b[0;34m\u001b[0m    \u001b[0;34m\u001b[0m\n",
       "\u001b[0;34m\u001b[0m    \u001b[0;31m# Get other digital channels\u001b[0m\u001b[0;34m\u001b[0m\n",
       "\u001b[0;34m\u001b[0m    \u001b[0;32mif\u001b[0m \u001b[0;34m'nidq_ttl_list'\u001b[0m \u001b[0;32min\u001b[0m \u001b[0msess_par\u001b[0m\u001b[0;34m:\u001b[0m\u001b[0;34m\u001b[0m\n",
       "\u001b[0;34m\u001b[0m        \u001b[0mstim_list\u001b[0m \u001b[0;34m=\u001b[0m \u001b[0msess_par\u001b[0m\u001b[0;34m[\u001b[0m\u001b[0;34m'nidq_ttl_list'\u001b[0m\u001b[0;34m]\u001b[0m\u001b[0;34m\u001b[0m\n",
       "\u001b[0;34m\u001b[0m    \u001b[0;32melse\u001b[0m\u001b[0;34m:\u001b[0m\u001b[0;34m\u001b[0m\n",
       "\u001b[0;34m\u001b[0m        \u001b[0mstim_list\u001b[0m \u001b[0;34m=\u001b[0m \u001b[0;34m[\u001b[0m\u001b[0;34m]\u001b[0m\u001b[0;34m\u001b[0m\n",
       "\u001b[0;34m\u001b[0m    \u001b[0;32mif\u001b[0m \u001b[0mlen\u001b[0m\u001b[0;34m(\u001b[0m\u001b[0mstim_list\u001b[0m\u001b[0;34m)\u001b[0m \u001b[0;34m>\u001b[0m \u001b[0;36m0\u001b[0m\u001b[0;34m:\u001b[0m\u001b[0;34m\u001b[0m\n",
       "\u001b[0;34m\u001b[0m        \u001b[0mlogger\u001b[0m\u001b[0;34m.\u001b[0m\u001b[0minfo\u001b[0m\u001b[0;34m(\u001b[0m\u001b[0;34m'Will get {} ttl signals'\u001b[0m\u001b[0;34m.\u001b[0m\u001b[0mformat\u001b[0m\u001b[0;34m(\u001b[0m\u001b[0mlen\u001b[0m\u001b[0;34m(\u001b[0m\u001b[0mstim_list\u001b[0m\u001b[0;34m)\u001b[0m\u001b[0;34m)\u001b[0m\u001b[0;34m)\u001b[0m\u001b[0;34m\u001b[0m\n",
       "\u001b[0;34m\u001b[0m    \u001b[0;34m\u001b[0m\n",
       "\u001b[0;34m\u001b[0m    \u001b[0;32mfor\u001b[0m \u001b[0msignal_name\u001b[0m \u001b[0;32min\u001b[0m \u001b[0mstim_list\u001b[0m\u001b[0;34m:\u001b[0m\u001b[0;34m\u001b[0m\n",
       "\u001b[0;34m\u001b[0m        \u001b[0msig_npy_path\u001b[0m \u001b[0;34m=\u001b[0m \u001b[0mos\u001b[0m\u001b[0;34m.\u001b[0m\u001b[0mpath\u001b[0m\u001b[0;34m.\u001b[0m\u001b[0mjoin\u001b[0m\u001b[0;34m(\u001b[0m\u001b[0msgl_exp_struct\u001b[0m\u001b[0;34m[\u001b[0m\u001b[0;34m'folders'\u001b[0m\u001b[0;34m]\u001b[0m\u001b[0;34m[\u001b[0m\u001b[0;34m'derived'\u001b[0m\u001b[0;34m]\u001b[0m\u001b[0;34m,\u001b[0m \u001b[0;34m'{}_evt.npy'\u001b[0m\u001b[0;34m.\u001b[0m\u001b[0mformat\u001b[0m\u001b[0;34m(\u001b[0m\u001b[0msignal_name\u001b[0m\u001b[0;34m)\u001b[0m\u001b[0;34m)\u001b[0m\u001b[0;34m\u001b[0m\n",
       "\u001b[0;34m\u001b[0m        \u001b[0mttl_signal_to_npy\u001b[0m\u001b[0;34m(\u001b[0m\u001b[0mrun_recs_dict\u001b[0m\u001b[0;34m[\u001b[0m\u001b[0;34m'nidq'\u001b[0m\u001b[0;34m]\u001b[0m\u001b[0;34m,\u001b[0m \u001b[0mrig_dict\u001b[0m\u001b[0;34m,\u001b[0m \u001b[0msignal_name\u001b[0m\u001b[0;34m,\u001b[0m \u001b[0msig_npy_path\u001b[0m\u001b[0;34m)\u001b[0m\u001b[0;34m\u001b[0m\n",
       "\u001b[0;34m\u001b[0m\u001b[0;34m\u001b[0m\n",
       "\u001b[0;34m\u001b[0m    \u001b[0;31m#make the sync dict\u001b[0m\u001b[0;34m\u001b[0m\n",
       "\u001b[0;34m\u001b[0m    \u001b[0msyn_dict\u001b[0m \u001b[0;34m=\u001b[0m \u001b[0;34m{\u001b[0m\u001b[0;34m's_f'\u001b[0m\u001b[0;34m:\u001b[0m \u001b[0mwav_s_f\u001b[0m\u001b[0;34m,\u001b[0m\u001b[0;34m\u001b[0m\n",
       "\u001b[0;34m\u001b[0m           \u001b[0;34m't_0_path'\u001b[0m\u001b[0;34m:\u001b[0m \u001b[0mt_0_path\u001b[0m\u001b[0;34m,\u001b[0m\u001b[0;34m\u001b[0m\n",
       "\u001b[0;34m\u001b[0m           \u001b[0;34m'evt_arr_path'\u001b[0m\u001b[0;34m:\u001b[0m \u001b[0msync_ev_path\u001b[0m\u001b[0;34m}\u001b[0m\u001b[0;34m\u001b[0m\n",
       "\u001b[0;34m\u001b[0m    \u001b[0;34m\u001b[0m\n",
       "\u001b[0;34m\u001b[0m    \u001b[0msyn_dict_path\u001b[0m \u001b[0;34m=\u001b[0m \u001b[0mos\u001b[0m\u001b[0;34m.\u001b[0m\u001b[0mpath\u001b[0m\u001b[0;34m.\u001b[0m\u001b[0mjoin\u001b[0m\u001b[0;34m(\u001b[0m\u001b[0msgl_exp_struct\u001b[0m\u001b[0;34m[\u001b[0m\u001b[0;34m'folders'\u001b[0m\u001b[0;34m]\u001b[0m\u001b[0;34m[\u001b[0m\u001b[0;34m'derived'\u001b[0m\u001b[0;34m]\u001b[0m\u001b[0;34m,\u001b[0m  \u001b[0;34m'{}_sync_dict.pkl'\u001b[0m\u001b[0;34m.\u001b[0m\u001b[0mformat\u001b[0m\u001b[0;34m(\u001b[0m\u001b[0;34m'wav'\u001b[0m\u001b[0;34m)\u001b[0m\u001b[0;34m)\u001b[0m\u001b[0;34m\u001b[0m\n",
       "\u001b[0;34m\u001b[0m    \u001b[0msyn_dict\u001b[0m\u001b[0;34m[\u001b[0m\u001b[0;34m'path'\u001b[0m\u001b[0;34m]\u001b[0m \u001b[0;34m=\u001b[0m \u001b[0msyn_dict_path\u001b[0m\u001b[0;34m\u001b[0m\n",
       "\u001b[0;34m\u001b[0m    \u001b[0mlogger\u001b[0m\u001b[0;34m.\u001b[0m\u001b[0minfo\u001b[0m\u001b[0;34m(\u001b[0m\u001b[0;34m'saving sync dict to '\u001b[0m \u001b[0;34m+\u001b[0m \u001b[0msyn_dict_path\u001b[0m\u001b[0;34m)\u001b[0m\u001b[0;34m\u001b[0m\n",
       "\u001b[0;34m\u001b[0m    \u001b[0;32mwith\u001b[0m \u001b[0mopen\u001b[0m\u001b[0;34m(\u001b[0m\u001b[0msyn_dict_path\u001b[0m\u001b[0;34m,\u001b[0m \u001b[0;34m'wb'\u001b[0m\u001b[0;34m)\u001b[0m \u001b[0;32mas\u001b[0m \u001b[0mpf\u001b[0m\u001b[0;34m:\u001b[0m\u001b[0;34m\u001b[0m\n",
       "\u001b[0;34m\u001b[0m        \u001b[0mpickle\u001b[0m\u001b[0;34m.\u001b[0m\u001b[0mdump\u001b[0m\u001b[0;34m(\u001b[0m\u001b[0msyn_dict\u001b[0m\u001b[0;34m,\u001b[0m \u001b[0mpf\u001b[0m\u001b[0;34m)\u001b[0m\u001b[0;34m\u001b[0m\n",
       "\u001b[0;34m\u001b[0m\u001b[0;34m\u001b[0m\n",
       "\u001b[0;34m\u001b[0m    \u001b[0mepoch_dict\u001b[0m \u001b[0;34m=\u001b[0m \u001b[0;34m{\u001b[0m\u001b[0;34m'epoch'\u001b[0m\u001b[0;34m:\u001b[0m \u001b[0mepoch\u001b[0m\u001b[0;34m,\u001b[0m\u001b[0;34m\u001b[0m\n",
       "\u001b[0;34m\u001b[0m                \u001b[0;34m'files_pd'\u001b[0m\u001b[0;34m:\u001b[0m \u001b[0mfiles_pd\u001b[0m\u001b[0;34m,\u001b[0m\u001b[0;34m\u001b[0m\n",
       "\u001b[0;34m\u001b[0m                 \u001b[0;34m'recordings'\u001b[0m\u001b[0;34m:\u001b[0m \u001b[0mrun_recs_dict\u001b[0m\u001b[0;34m,\u001b[0m\u001b[0;34m\u001b[0m\n",
       "\u001b[0;34m\u001b[0m                 \u001b[0;34m'meta'\u001b[0m\u001b[0;34m:\u001b[0m \u001b[0mrun_meta_files\u001b[0m\u001b[0;34m,\u001b[0m\u001b[0;34m\u001b[0m\n",
       "\u001b[0;34m\u001b[0m                 \u001b[0;34m'rig'\u001b[0m\u001b[0;34m:\u001b[0m \u001b[0mrig_dict\u001b[0m\u001b[0;34m}\u001b[0m\u001b[0;34m\u001b[0m\n",
       "\u001b[0;34m\u001b[0m    \u001b[0;34m\u001b[0m\n",
       "\u001b[0;34m\u001b[0m    \u001b[0;32mreturn\u001b[0m \u001b[0mepoch_dict\u001b[0m\u001b[0;34m\u001b[0m\u001b[0;34m\u001b[0m\u001b[0m\n",
       "\u001b[0;31mFile:\u001b[0m      ~/repos/ceciestunepipe/ceciestunepipe/util/spikeextractors/preprocess.py\n",
       "\u001b[0;31mType:\u001b[0m      function\n"
      ]
     },
     "metadata": {},
     "output_type": "display_data"
    }
   ],
   "source": [
    "pre.preprocess_run??"
   ]
  },
  {
   "cell_type": "code",
   "execution_count": 8,
   "metadata": {
    "tags": []
   },
   "outputs": [
    {
     "name": "stderr",
     "output_type": "stream",
     "text": [
      "2021-12-13 18:19:52,999 ceciestunepipe.util.spikeextractors.preprocess INFO     PREPROCESSING sess 2021-06-28 | epoch 0153_g0\n",
      "2021-12-13 18:19:53,000 ceciestunepipe.util.spikeextractors.preprocess INFO     getting extractors\n",
      "2021-12-13 18:19:53,222 ceciestunepipe.util.spikeextractors.preprocess INFO     Getting microphone channel(s) ['microphone_0']\n",
      "2021-12-13 18:19:53,223 ceciestunepipe.util.wavutil INFO     sampling rate 25000\n",
      "2021-12-13 18:19:53,224 ceciestunepipe.util.wavutil INFO     saving (1, 460577383)-shaped array as wav in /mnt/sphere/speech_bci/derived_data/z_r12r13_21/2021-06-28/sglx/0153_g0/wav_mic.wav\n",
      "2021-12-13 18:20:37,278 ceciestunepipe.util.wavutil INFO     saving (1, 460577383)-shaped array as npy in /mnt/sphere/speech_bci/derived_data/z_r12r13_21/2021-06-28/sglx/0153_g0/wav_mic.npy\n",
      "2021-12-13 18:21:00,847 ceciestunepipe.util.spikeextractors.preprocess INFO     Getting stimulus channel(s) ['wav_stim', 'wav_syn']\n",
      "2021-12-13 18:21:00,848 ceciestunepipe.util.wavutil INFO     sampling rate 25000\n",
      "2021-12-13 18:21:00,849 ceciestunepipe.util.wavutil INFO     saving (2, 460577383)-shaped array as wav in /mnt/sphere/speech_bci/derived_data/z_r12r13_21/2021-06-28/sglx/0153_g0/wav_stim.wav\n",
      "2021-12-13 18:21:27,649 ceciestunepipe.util.wavutil INFO     saving (2, 460577383)-shaped array as npy in /mnt/sphere/speech_bci/derived_data/z_r12r13_21/2021-06-28/sglx/0153_g0/wav_stim.npy\n",
      "2021-12-13 18:22:20,441 ceciestunepipe.util.spikeextractors.preprocess INFO     Getting sync channel(s) ['sync']\n",
      "2021-12-13 18:22:20,442 ceciestunepipe.util.spikeextractors.extractors.spikeglxrecordingextractor.spikeglxrecordingextractor INFO     getting ttl traces, chan range(0, 7)\n",
      "2021-12-13 18:22:32,385 ceciestunepipe.util.wavutil INFO     sampling rate 25000\n",
      "2021-12-13 18:22:32,386 ceciestunepipe.util.wavutil INFO     saving (1, 460577383)-shaped array as wav in /mnt/sphere/speech_bci/derived_data/z_r12r13_21/2021-06-28/sglx/0153_g0/wav_sync.wav\n",
      "2021-12-13 18:22:41,048 ceciestunepipe.util.wavutil INFO     saving (1, 460577383)-shaped array as npy in /mnt/sphere/speech_bci/derived_data/z_r12r13_21/2021-06-28/sglx/0153_g0/wav_sync.npy\n",
      "2021-12-13 18:22:49,661 ceciestunepipe.util.spikeextractors.preprocess INFO     Getting sync events from the wav sync channel\n",
      "2021-12-13 18:22:53,223 ceciestunepipe.util.spikeextractors.preprocess INFO     saving sync events of the wav channel to /mnt/sphere/speech_bci/derived_data/z_r12r13_21/2021-06-28/sglx/0153_g0/wav_sync_evt.npy\n",
      "2021-12-13 18:22:53,234 ceciestunepipe.util.spikeextractors.preprocess INFO     saving t0 for wav channel to /mnt/sphere/speech_bci/derived_data/z_r12r13_21/2021-06-28/sglx/0153_g0/wav_t0.npy\n",
      "2021-12-13 18:23:39,949 ceciestunepipe.util.spikeextractors.preprocess INFO     Will get 1 ttl signals\n",
      "2021-12-13 18:23:39,950 ceciestunepipe.util.spikeextractors.preprocess INFO     looking for signal wav_ttl in the nidaq channels\n",
      "2021-12-13 18:23:39,950 ceciestunepipe.util.spikeextractors.preprocess INFO     found in chan 2\n",
      "2021-12-13 18:23:39,951 ceciestunepipe.util.spikeextractors.extractors.spikeglxrecordingextractor.spikeglxrecordingextractor INFO     getting ttl events, chan 2\n",
      "2021-12-13 18:23:57,242 ceciestunepipe.util.spikeextractors.preprocess INFO     saving (300, 2)-shaped array as npy in /mnt/sphere/speech_bci/derived_data/z_r12r13_21/2021-06-28/sglx/0153_g0/wav_ttl_evt.npy\n",
      "2021-12-13 18:23:57,676 ceciestunepipe.util.spikeextractors.preprocess INFO     saving sync dict to /mnt/sphere/speech_bci/derived_data/z_r12r13_21/2021-06-28/sglx/0153_g0/wav_sync_dict.pkl\n"
     ]
    }
   ],
   "source": [
    "one_epoch_dict = pre.preprocess_run(sess_par, exp_struct, sess_epochs[0])"
   ]
  },
  {
   "cell_type": "code",
   "execution_count": 7,
   "metadata": {
    "scrolled": true
   },
   "outputs": [],
   "source": [
    "### sequentially process all runs of the sessions\n",
    "def preprocess_session(sess_par: dict):\n",
    "    logger.info('pre-process all runs of sess ' + sess_par['sess'])\n",
    "    # get exp struct\n",
    "    sess_struct = et.get_exp_struct(sess_par['bird'], sess_par['sess'], sort=sess_par['sort'])\n",
    "    # list the epochs\n",
    "    sess_epochs = et.list_sgl_epochs(sess_par)\n",
    "    logger.info('found epochs: {}'.format(sess_epochs))\n",
    "    # preprocess all epochs\n",
    "    epoch_dict_list = []\n",
    "    for i_ep, epoch in enumerate(sess_epochs):\n",
    "        try:\n",
    "            exp_struct = et.sgl_struct(sess_par, epoch)\n",
    "            one_epoch_dict = pre.preprocess_run(sess_par, exp_struct, epoch)\n",
    "            epoch_dict_list.append(one_epoch_dict)\n",
    "        except Exception as exc:\n",
    "            warnings.warn('Error in epoch {}'.format(epoch), UserWarning)\n",
    "            logger.info(traceback.format_exc)\n",
    "            logger.info(exc)\n",
    "            logger.info('Session {} epoch {} could not be preprocessed'.format(sess_par['sess'], epoch))\n",
    "        \n",
    "    return epoch_dict_list\n",
    "\n",
    "#all_epoch_list = preprocess_session(sess_par)"
   ]
  },
  {
   "cell_type": "markdown",
   "metadata": {},
   "source": [
    "## Process multiple sessions"
   ]
  },
  {
   "cell_type": "code",
   "execution_count": 2,
   "metadata": {
    "collapsed": true,
    "jupyter": {
     "outputs_hidden": true
    },
    "tags": []
   },
   "outputs": [
    {
     "ename": "NameError",
     "evalue": "name 'all_bird_sess' is not defined",
     "output_type": "error",
     "traceback": [
      "\u001b[0;31m---------------------------------------------------------------------------\u001b[0m",
      "\u001b[0;31mNameError\u001b[0m                                 Traceback (most recent call last)",
      "\u001b[0;32m<ipython-input-2-2d05f5287f25>\u001b[0m in \u001b[0;36m<module>\u001b[0;34m\u001b[0m\n\u001b[0;32m----> 1\u001b[0;31m \u001b[0msess_list\u001b[0m \u001b[0;34m=\u001b[0m \u001b[0mall_bird_sess\u001b[0m\u001b[0;34m\u001b[0m\u001b[0;34m\u001b[0m\u001b[0m\n\u001b[0m\u001b[1;32m      2\u001b[0m \u001b[0;31m# fist implant, right hemisphere\u001b[0m\u001b[0;34m\u001b[0m\u001b[0;34m\u001b[0m\u001b[0;34m\u001b[0m\u001b[0m\n\u001b[1;32m      3\u001b[0m \u001b[0msess_list\u001b[0m \u001b[0;34m=\u001b[0m \u001b[0;34m[\u001b[0m\u001b[0;34m'2021-06-24'\u001b[0m\u001b[0;34m,\u001b[0m \u001b[0;34m'2021-06-25'\u001b[0m\u001b[0;34m,\u001b[0m \u001b[0;34m'2021-06-26'\u001b[0m\u001b[0;34m,\u001b[0m \u001b[0;34m'2021-06-27'\u001b[0m\u001b[0;34m,\u001b[0m \u001b[0;34m'2021-06-28'\u001b[0m\u001b[0;34m,\u001b[0m \u001b[0;34m'2021-06-29'\u001b[0m\u001b[0;34m,\u001b[0m \u001b[0;34m'2021-06-30'\u001b[0m\u001b[0;34m]\u001b[0m\u001b[0;34m\u001b[0m\u001b[0;34m\u001b[0m\u001b[0m\n",
      "\u001b[0;31mNameError\u001b[0m: name 'all_bird_sess' is not defined"
     ]
    }
   ],
   "source": [
    "sess_list = all_bird_sess\n",
    "# fist implant, right hemisphere\n",
    "sess_list = ['2021-06-24', '2021-06-25', '2021-06-26', '2021-06-27', '2021-06-28', '2021-06-29', '2021-06-30']"
   ]
  },
  {
   "cell_type": "code",
   "execution_count": 9,
   "metadata": {
    "collapsed": true,
    "jupyter": {
     "outputs_hidden": true
    },
    "tags": []
   },
   "outputs": [
    {
     "name": "stderr",
     "output_type": "stream",
     "text": [
      "2021-09-29 23:34:25,531 root         INFO     pre-process all runs of sess 2021-06-24\n",
      "2021-09-29 23:34:25,533 ceciestunepipe.file.bcistructure INFO     {'folders': {'bird': '/mnt/sphere/speech_bci/raw_data/z_r12r13_21', 'raw': '/mnt/sphere/speech_bci/raw_data/z_r12r13_21/2021-06-24', 'sglx': '/mnt/sphere/speech_bci/raw_data/z_r12r13_21/2021-06-24/sglx', 'kwik': '/experiment/z_r12r13_21/sglx/kwik/2021-06-24', 'processed': '/mnt/sphere/speech_bci/processed_data/z_r12r13_21/2021-06-24/sglx', 'derived': '/mnt/sphere/speech_bci/derived_data/z_r12r13_21/2021-06-24/sglx', 'tmp': '/experiment/tmp/tmp', 'msort': '/experiment/tmp/z_r12r13_21/sglx/msort/2021-06-24', 'ksort': '/experiment/tmp/z_r12r13_21/sglx/ksort/2021-06-24'}, 'files': {'par': '/experiment/tmp/z_r12r13_21/sglx/ksort/2021-06-24/params.json', 'set': '/mnt/sphere/speech_bci/raw_data/z_r12r13_21/2021-06-24/sglx/settings.isf', 'rig': '/mnt/sphere/speech_bci/raw_data/z_r12r13_21/2021-06-24/sglx/rig.json', 'kwd': '/experiment/z_r12r13_21/sglx/kwik/2021-06-24/stream.kwd', 'kwik': '/experiment/z_r12r13_21/sglx/kwik/2021-06-24/sort_2/spikes.kwik', 'kwe': '/experiment/z_r12r13_21/sglx/kwik/2021-06-24/events.kwe', 'dat_mic': '/mnt/sphere/speech_bci/processed_data/z_r12r13_21/2021-06-24/sglx/dat_mic.mat', 'dat_ap': '/mnt/sphere/speech_bci/processed_data/z_r12r13_21/2021-06-24/sglx/dat_ap.mat', 'allevents': '/mnt/sphere/speech_bci/processed_data/z_r12r13_21/2021-06-24/sglx/dat_all.pkl', 'wav_mic': '/mnt/sphere/speech_bci/derived_data/z_r12r13_21/2021-06-24/sglx/wav_mic.wav', 'mda_raw': '/experiment/tmp/z_r12r13_21/sglx/msort/2021-06-24/raw.mda', 'bin_raw': '/experiment/tmp/z_r12r13_21/sglx/ksort/2021-06-24/raw.bin'}}\n",
      "2021-09-29 23:34:25,643 root         INFO     found epochs: ['1741_g0']\n",
      "2021-09-29 23:34:25,645 root         INFO     PREPROCESSING sess 2021-06-24 | epoch 1741_g0\n",
      "2021-09-29 23:34:25,646 root         INFO     getting extractors\n",
      "2021-09-29 23:34:26,481 root         INFO     Getting microphone channel(s) ['microphone_0']\n",
      "2021-09-29 23:34:26,483 ceciestunepipe.util.wavutil INFO     sampling rate 25000\n",
      "2021-09-29 23:34:26,484 ceciestunepipe.util.wavutil INFO     saving (1, 118362061)-shaped array as wav in /mnt/sphere/speech_bci/derived_data/z_r12r13_21/2021-06-24/sglx/1741_g0/wav_mic.wav\n",
      "2021-09-29 23:35:34,680 ceciestunepipe.util.wavutil INFO     saving (1, 118362061)-shaped array as npy in /mnt/sphere/speech_bci/derived_data/z_r12r13_21/2021-06-24/sglx/1741_g0/wav_mic.npy\n",
      "2021-09-29 23:35:41,640 root         INFO     Getting sync channel(s) ['sync']\n",
      "2021-09-29 23:35:41,642 ceciestunepipe.util.spikeextractors.extractors.spikeglxrecordingextractor.spikeglxrecordingextractor INFO     getting ttl traces, chan range(0, 7)\n",
      "2021-09-29 23:35:44,243 ceciestunepipe.util.wavutil INFO     sampling rate 25000\n",
      "2021-09-29 23:35:44,244 ceciestunepipe.util.wavutil INFO     saving (1, 118362061)-shaped array as wav in /mnt/sphere/speech_bci/derived_data/z_r12r13_21/2021-06-24/sglx/1741_g0/wav_sync.wav\n",
      "2021-09-29 23:35:47,099 ceciestunepipe.util.wavutil INFO     saving (1, 118362061)-shaped array as npy in /mnt/sphere/speech_bci/derived_data/z_r12r13_21/2021-06-24/sglx/1741_g0/wav_sync.npy\n",
      "2021-09-29 23:35:50,500 root         INFO     Getting sync events from the wav sync channel\n",
      "2021-09-29 23:35:51,296 root         INFO     saving sync events of the wav channel to /mnt/sphere/speech_bci/derived_data/z_r12r13_21/2021-06-24/sglx/1741_g0/wav_sync_evt.npy\n",
      "2021-09-29 23:35:51,468 root         INFO     saving t0 for wav channel to /mnt/sphere/speech_bci/derived_data/z_r12r13_21/2021-06-24/sglx/1741_g0/wav_t0.npy\n",
      "2021-09-29 23:36:05,991 root         INFO     saving sync dict to /mnt/sphere/speech_bci/derived_data/z_r12r13_21/2021-06-24/sglx/1741_g0/wav_sync_dict.pkl\n",
      "2021-09-29 23:36:06,109 root         INFO     pre-process all runs of sess 2021-06-25\n",
      "2021-09-29 23:36:06,110 ceciestunepipe.file.bcistructure INFO     {'folders': {'bird': '/mnt/sphere/speech_bci/raw_data/z_r12r13_21', 'raw': '/mnt/sphere/speech_bci/raw_data/z_r12r13_21/2021-06-25', 'sglx': '/mnt/sphere/speech_bci/raw_data/z_r12r13_21/2021-06-25/sglx', 'kwik': '/experiment/z_r12r13_21/sglx/kwik/2021-06-25', 'processed': '/mnt/sphere/speech_bci/processed_data/z_r12r13_21/2021-06-25/sglx', 'derived': '/mnt/sphere/speech_bci/derived_data/z_r12r13_21/2021-06-25/sglx', 'tmp': '/experiment/tmp/tmp', 'msort': '/experiment/tmp/z_r12r13_21/sglx/msort/2021-06-25', 'ksort': '/experiment/tmp/z_r12r13_21/sglx/ksort/2021-06-25'}, 'files': {'par': '/experiment/tmp/z_r12r13_21/sglx/ksort/2021-06-25/params.json', 'set': '/mnt/sphere/speech_bci/raw_data/z_r12r13_21/2021-06-25/sglx/settings.isf', 'rig': '/mnt/sphere/speech_bci/raw_data/z_r12r13_21/2021-06-25/sglx/rig.json', 'kwd': '/experiment/z_r12r13_21/sglx/kwik/2021-06-25/stream.kwd', 'kwik': '/experiment/z_r12r13_21/sglx/kwik/2021-06-25/sort_2/spikes.kwik', 'kwe': '/experiment/z_r12r13_21/sglx/kwik/2021-06-25/events.kwe', 'dat_mic': '/mnt/sphere/speech_bci/processed_data/z_r12r13_21/2021-06-25/sglx/dat_mic.mat', 'dat_ap': '/mnt/sphere/speech_bci/processed_data/z_r12r13_21/2021-06-25/sglx/dat_ap.mat', 'allevents': '/mnt/sphere/speech_bci/processed_data/z_r12r13_21/2021-06-25/sglx/dat_all.pkl', 'wav_mic': '/mnt/sphere/speech_bci/derived_data/z_r12r13_21/2021-06-25/sglx/wav_mic.wav', 'mda_raw': '/experiment/tmp/z_r12r13_21/sglx/msort/2021-06-25/raw.mda', 'bin_raw': '/experiment/tmp/z_r12r13_21/sglx/ksort/2021-06-25/raw.bin'}}\n",
      "2021-09-29 23:36:06,362 root         INFO     found epochs: ['0838_g0', '1039_g0', '1348_g0', '1416_g0', '1535_g0']\n",
      "2021-09-29 23:36:06,363 root         INFO     PREPROCESSING sess 2021-06-25 | epoch 0838_g0\n",
      "2021-09-29 23:36:06,364 root         INFO     getting extractors\n",
      "2021-09-29 23:36:07,229 root         INFO     Getting microphone channel(s) ['microphone_0']\n",
      "2021-09-29 23:36:07,231 ceciestunepipe.util.wavutil INFO     sampling rate 25000\n",
      "2021-09-29 23:36:07,232 ceciestunepipe.util.wavutil INFO     saving (1, 177916826)-shaped array as wav in /mnt/sphere/speech_bci/derived_data/z_r12r13_21/2021-06-25/sglx/0838_g0/wav_mic.wav\n",
      "2021-09-29 23:39:16,351 ceciestunepipe.util.wavutil INFO     saving (1, 177916826)-shaped array as npy in /mnt/sphere/speech_bci/derived_data/z_r12r13_21/2021-06-25/sglx/0838_g0/wav_mic.npy\n",
      "2021-09-29 23:40:13,330 root         INFO     Getting sync channel(s) ['sync']\n",
      "2021-09-29 23:40:13,331 ceciestunepipe.util.spikeextractors.extractors.spikeglxrecordingextractor.spikeglxrecordingextractor INFO     getting ttl traces, chan range(0, 7)\n",
      "2021-09-29 23:40:17,147 ceciestunepipe.util.wavutil INFO     sampling rate 25000\n",
      "2021-09-29 23:40:17,148 ceciestunepipe.util.wavutil INFO     saving (1, 177916826)-shaped array as wav in /mnt/sphere/speech_bci/derived_data/z_r12r13_21/2021-06-25/sglx/0838_g0/wav_sync.wav\n",
      "2021-09-29 23:40:26,874 ceciestunepipe.util.wavutil INFO     saving (1, 177916826)-shaped array as npy in /mnt/sphere/speech_bci/derived_data/z_r12r13_21/2021-06-25/sglx/0838_g0/wav_sync.npy\n",
      "2021-09-29 23:40:34,048 root         INFO     Getting sync events from the wav sync channel\n",
      "2021-09-29 23:40:35,193 root         INFO     saving sync events of the wav channel to /mnt/sphere/speech_bci/derived_data/z_r12r13_21/2021-06-25/sglx/0838_g0/wav_sync_evt.npy\n",
      "2021-09-29 23:40:35,209 root         INFO     saving t0 for wav channel to /mnt/sphere/speech_bci/derived_data/z_r12r13_21/2021-06-25/sglx/0838_g0/wav_t0.npy\n",
      "2021-09-29 23:41:02,594 root         INFO     saving sync dict to /mnt/sphere/speech_bci/derived_data/z_r12r13_21/2021-06-25/sglx/0838_g0/wav_sync_dict.pkl\n",
      "2021-09-29 23:41:02,669 root         INFO     PREPROCESSING sess 2021-06-25 | epoch 1039_g0\n",
      "2021-09-29 23:41:02,670 root         INFO     getting extractors\n",
      "2021-09-29 23:41:03,275 root         INFO     Getting microphone channel(s) ['microphone_0']\n",
      "2021-09-29 23:41:03,277 ceciestunepipe.util.wavutil INFO     sampling rate 25000\n",
      "2021-09-29 23:41:03,278 ceciestunepipe.util.wavutil INFO     saving (1, 99970150)-shaped array as wav in /mnt/sphere/speech_bci/derived_data/z_r12r13_21/2021-06-25/sglx/1039_g0/wav_mic.wav\n",
      "2021-09-29 23:41:41,439 ceciestunepipe.util.wavutil INFO     saving (1, 99970150)-shaped array as npy in /mnt/sphere/speech_bci/derived_data/z_r12r13_21/2021-06-25/sglx/1039_g0/wav_mic.npy\n",
      "2021-09-29 23:41:52,641 root         INFO     Getting sync channel(s) ['sync']\n",
      "2021-09-29 23:41:52,642 ceciestunepipe.util.spikeextractors.extractors.spikeglxrecordingextractor.spikeglxrecordingextractor INFO     getting ttl traces, chan range(0, 7)\n",
      "2021-09-29 23:41:54,777 ceciestunepipe.util.wavutil INFO     sampling rate 25000\n",
      "2021-09-29 23:41:54,778 ceciestunepipe.util.wavutil INFO     saving (1, 99970150)-shaped array as wav in /mnt/sphere/speech_bci/derived_data/z_r12r13_21/2021-06-25/sglx/1039_g0/wav_sync.wav\n",
      "2021-09-29 23:42:05,843 ceciestunepipe.util.wavutil INFO     saving (1, 99970150)-shaped array as npy in /mnt/sphere/speech_bci/derived_data/z_r12r13_21/2021-06-25/sglx/1039_g0/wav_sync.npy\n",
      "2021-09-29 23:42:14,068 root         INFO     Getting sync events from the wav sync channel\n",
      "2021-09-29 23:42:14,706 root         INFO     saving sync events of the wav channel to /mnt/sphere/speech_bci/derived_data/z_r12r13_21/2021-06-25/sglx/1039_g0/wav_sync_evt.npy\n",
      "2021-09-29 23:42:14,743 root         INFO     saving t0 for wav channel to /mnt/sphere/speech_bci/derived_data/z_r12r13_21/2021-06-25/sglx/1039_g0/wav_t0.npy\n",
      "2021-09-29 23:42:41,814 root         INFO     saving sync dict to /mnt/sphere/speech_bci/derived_data/z_r12r13_21/2021-06-25/sglx/1039_g0/wav_sync_dict.pkl\n",
      "2021-09-29 23:42:41,982 root         INFO     PREPROCESSING sess 2021-06-25 | epoch 1348_g0\n",
      "2021-09-29 23:42:41,983 root         INFO     getting extractors\n",
      "2021-09-29 23:42:42,683 root         INFO     Getting microphone channel(s) ['microphone_0']\n",
      "2021-09-29 23:42:42,685 ceciestunepipe.util.wavutil INFO     sampling rate 25000\n",
      "2021-09-29 23:42:42,686 ceciestunepipe.util.wavutil INFO     saving (1, 15927552)-shaped array as wav in /mnt/sphere/speech_bci/derived_data/z_r12r13_21/2021-06-25/sglx/1348_g0/wav_mic.wav\n",
      "2021-09-29 23:42:59,469 ceciestunepipe.util.wavutil INFO     saving (1, 15927552)-shaped array as npy in /mnt/sphere/speech_bci/derived_data/z_r12r13_21/2021-06-25/sglx/1348_g0/wav_mic.npy\n",
      "2021-09-29 23:43:01,360 root         INFO     Getting sync channel(s) ['sync']\n",
      "2021-09-29 23:43:01,361 ceciestunepipe.util.spikeextractors.extractors.spikeglxrecordingextractor.spikeglxrecordingextractor INFO     getting ttl traces, chan range(0, 7)\n",
      "2021-09-29 23:43:01,688 ceciestunepipe.util.wavutil INFO     sampling rate 25000\n",
      "2021-09-29 23:43:01,689 ceciestunepipe.util.wavutil INFO     saving (1, 15927552)-shaped array as wav in /mnt/sphere/speech_bci/derived_data/z_r12r13_21/2021-06-25/sglx/1348_g0/wav_sync.wav\n",
      "2021-09-29 23:43:03,358 ceciestunepipe.util.wavutil INFO     saving (1, 15927552)-shaped array as npy in /mnt/sphere/speech_bci/derived_data/z_r12r13_21/2021-06-25/sglx/1348_g0/wav_sync.npy\n",
      "2021-09-29 23:43:04,624 root         INFO     Getting sync events from the wav sync channel\n",
      "2021-09-29 23:43:04,759 root         INFO     saving sync events of the wav channel to /mnt/sphere/speech_bci/derived_data/z_r12r13_21/2021-06-25/sglx/1348_g0/wav_sync_evt.npy\n",
      "2021-09-29 23:43:04,814 root         INFO     saving t0 for wav channel to /mnt/sphere/speech_bci/derived_data/z_r12r13_21/2021-06-25/sglx/1348_g0/wav_t0.npy\n",
      "2021-09-29 23:43:09,006 root         INFO     saving sync dict to /mnt/sphere/speech_bci/derived_data/z_r12r13_21/2021-06-25/sglx/1348_g0/wav_sync_dict.pkl\n",
      "2021-09-29 23:43:09,046 root         INFO     PREPROCESSING sess 2021-06-25 | epoch 1416_g0\n",
      "2021-09-29 23:43:09,047 root         INFO     getting extractors\n",
      "2021-09-29 23:43:09,265 root         INFO     Getting microphone channel(s) ['microphone_0']\n",
      "2021-09-29 23:43:09,266 ceciestunepipe.util.wavutil INFO     sampling rate 25000\n",
      "2021-09-29 23:43:09,267 ceciestunepipe.util.wavutil INFO     saving (1, 75419802)-shaped array as wav in /mnt/sphere/speech_bci/derived_data/z_r12r13_21/2021-06-25/sglx/1416_g0/wav_mic.wav\n",
      "2021-09-29 23:43:50,170 ceciestunepipe.util.wavutil INFO     saving (1, 75419802)-shaped array as npy in /mnt/sphere/speech_bci/derived_data/z_r12r13_21/2021-06-25/sglx/1416_g0/wav_mic.npy\n",
      "2021-09-29 23:43:54,677 root         INFO     Getting sync channel(s) ['sync']\n",
      "2021-09-29 23:43:54,678 ceciestunepipe.util.spikeextractors.extractors.spikeglxrecordingextractor.spikeglxrecordingextractor INFO     getting ttl traces, chan range(0, 7)\n",
      "2021-09-29 23:43:56,226 ceciestunepipe.util.wavutil INFO     sampling rate 25000\n",
      "2021-09-29 23:43:56,227 ceciestunepipe.util.wavutil INFO     saving (1, 75419802)-shaped array as wav in /mnt/sphere/speech_bci/derived_data/z_r12r13_21/2021-06-25/sglx/1416_g0/wav_sync.wav\n",
      "2021-09-29 23:43:57,793 ceciestunepipe.util.wavutil INFO     saving (1, 75419802)-shaped array as npy in /mnt/sphere/speech_bci/derived_data/z_r12r13_21/2021-06-25/sglx/1416_g0/wav_sync.npy\n",
      "2021-09-29 23:44:00,966 root         INFO     Getting sync events from the wav sync channel\n",
      "2021-09-29 23:44:01,517 root         INFO     saving sync events of the wav channel to /mnt/sphere/speech_bci/derived_data/z_r12r13_21/2021-06-25/sglx/1416_g0/wav_sync_evt.npy\n",
      "2021-09-29 23:44:01,628 root         INFO     saving t0 for wav channel to /mnt/sphere/speech_bci/derived_data/z_r12r13_21/2021-06-25/sglx/1416_g0/wav_t0.npy\n",
      "2021-09-29 23:44:20,989 root         INFO     saving sync dict to /mnt/sphere/speech_bci/derived_data/z_r12r13_21/2021-06-25/sglx/1416_g0/wav_sync_dict.pkl\n",
      "2021-09-29 23:44:21,024 root         INFO     PREPROCESSING sess 2021-06-25 | epoch 1535_g0\n",
      "2021-09-29 23:44:21,025 root         INFO     getting extractors\n",
      "2021-09-29 23:44:21,553 root         INFO     Getting microphone channel(s) ['microphone_0']\n",
      "2021-09-29 23:44:21,555 ceciestunepipe.util.wavutil INFO     sampling rate 25000\n",
      "2021-09-29 23:44:21,556 ceciestunepipe.util.wavutil INFO     saving (1, 417967104)-shaped array as wav in /mnt/sphere/speech_bci/derived_data/z_r12r13_21/2021-06-25/sglx/1535_g0/wav_mic.wav\n",
      "2021-09-29 23:47:11,320 ceciestunepipe.util.wavutil INFO     saving (1, 417967104)-shaped array as npy in /mnt/sphere/speech_bci/derived_data/z_r12r13_21/2021-06-25/sglx/1535_g0/wav_mic.npy\n",
      "2021-09-29 23:47:36,827 root         INFO     Getting sync channel(s) ['sync']\n",
      "2021-09-29 23:47:36,828 ceciestunepipe.util.spikeextractors.extractors.spikeglxrecordingextractor.spikeglxrecordingextractor INFO     getting ttl traces, chan range(0, 7)\n",
      "2021-09-29 23:48:05,210 ceciestunepipe.util.wavutil INFO     sampling rate 25000\n",
      "2021-09-29 23:48:05,211 ceciestunepipe.util.wavutil INFO     saving (1, 417967104)-shaped array as wav in /mnt/sphere/speech_bci/derived_data/z_r12r13_21/2021-06-25/sglx/1535_g0/wav_sync.wav\n",
      "2021-09-29 23:48:21,669 ceciestunepipe.util.wavutil INFO     saving (1, 417967104)-shaped array as npy in /mnt/sphere/speech_bci/derived_data/z_r12r13_21/2021-06-25/sglx/1535_g0/wav_sync.npy\n",
      "2021-09-29 23:48:35,455 root         INFO     Getting sync events from the wav sync channel\n",
      "2021-09-29 23:48:42,281 root         INFO     saving sync events of the wav channel to /mnt/sphere/speech_bci/derived_data/z_r12r13_21/2021-06-25/sglx/1535_g0/wav_sync_evt.npy\n",
      "2021-09-29 23:48:42,363 root         INFO     saving t0 for wav channel to /mnt/sphere/speech_bci/derived_data/z_r12r13_21/2021-06-25/sglx/1535_g0/wav_t0.npy\n",
      "2021-09-29 23:49:52,661 root         INFO     saving sync dict to /mnt/sphere/speech_bci/derived_data/z_r12r13_21/2021-06-25/sglx/1535_g0/wav_sync_dict.pkl\n",
      "2021-09-29 23:49:52,886 root         INFO     pre-process all runs of sess 2021-06-26\n",
      "2021-09-29 23:49:52,887 ceciestunepipe.file.bcistructure INFO     {'folders': {'bird': '/mnt/sphere/speech_bci/raw_data/z_r12r13_21', 'raw': '/mnt/sphere/speech_bci/raw_data/z_r12r13_21/2021-06-26', 'sglx': '/mnt/sphere/speech_bci/raw_data/z_r12r13_21/2021-06-26/sglx', 'kwik': '/experiment/z_r12r13_21/sglx/kwik/2021-06-26', 'processed': '/mnt/sphere/speech_bci/processed_data/z_r12r13_21/2021-06-26/sglx', 'derived': '/mnt/sphere/speech_bci/derived_data/z_r12r13_21/2021-06-26/sglx', 'tmp': '/experiment/tmp/tmp', 'msort': '/experiment/tmp/z_r12r13_21/sglx/msort/2021-06-26', 'ksort': '/experiment/tmp/z_r12r13_21/sglx/ksort/2021-06-26'}, 'files': {'par': '/experiment/tmp/z_r12r13_21/sglx/ksort/2021-06-26/params.json', 'set': '/mnt/sphere/speech_bci/raw_data/z_r12r13_21/2021-06-26/sglx/settings.isf', 'rig': '/mnt/sphere/speech_bci/raw_data/z_r12r13_21/2021-06-26/sglx/rig.json', 'kwd': '/experiment/z_r12r13_21/sglx/kwik/2021-06-26/stream.kwd', 'kwik': '/experiment/z_r12r13_21/sglx/kwik/2021-06-26/sort_2/spikes.kwik', 'kwe': '/experiment/z_r12r13_21/sglx/kwik/2021-06-26/events.kwe', 'dat_mic': '/mnt/sphere/speech_bci/processed_data/z_r12r13_21/2021-06-26/sglx/dat_mic.mat', 'dat_ap': '/mnt/sphere/speech_bci/processed_data/z_r12r13_21/2021-06-26/sglx/dat_ap.mat', 'allevents': '/mnt/sphere/speech_bci/processed_data/z_r12r13_21/2021-06-26/sglx/dat_all.pkl', 'wav_mic': '/mnt/sphere/speech_bci/derived_data/z_r12r13_21/2021-06-26/sglx/wav_mic.wav', 'mda_raw': '/experiment/tmp/z_r12r13_21/sglx/msort/2021-06-26/raw.mda', 'bin_raw': '/experiment/tmp/z_r12r13_21/sglx/ksort/2021-06-26/raw.bin'}}\n",
      "2021-09-29 23:49:52,905 root         INFO     found epochs: ['0726_g0', '1056_g0', '1428_g0', '1816_g0']\n",
      "2021-09-29 23:49:52,906 root         INFO     PREPROCESSING sess 2021-06-26 | epoch 0726_g0\n",
      "2021-09-29 23:49:52,907 root         INFO     getting extractors\n",
      "2021-09-29 23:49:53,193 root         INFO     Getting microphone channel(s) ['microphone_0']\n",
      "2021-09-29 23:49:53,194 ceciestunepipe.util.wavutil INFO     sampling rate 25000\n",
      "2021-09-29 23:49:53,195 ceciestunepipe.util.wavutil INFO     saving (1, 311930369)-shaped array as wav in /mnt/sphere/speech_bci/derived_data/z_r12r13_21/2021-06-26/sglx/0726_g0/wav_mic.wav\n",
      "2021-09-29 23:51:57,428 ceciestunepipe.util.wavutil INFO     saving (1, 311930369)-shaped array as npy in /mnt/sphere/speech_bci/derived_data/z_r12r13_21/2021-06-26/sglx/0726_g0/wav_mic.npy\n",
      "2021-09-29 23:52:15,273 root         INFO     Getting sync channel(s) ['sync']\n",
      "2021-09-29 23:52:15,274 ceciestunepipe.util.spikeextractors.extractors.spikeglxrecordingextractor.spikeglxrecordingextractor INFO     getting ttl traces, chan range(0, 7)\n",
      "2021-09-29 23:52:21,701 ceciestunepipe.util.wavutil INFO     sampling rate 25000\n",
      "2021-09-29 23:52:21,702 ceciestunepipe.util.wavutil INFO     saving (1, 311930369)-shaped array as wav in /mnt/sphere/speech_bci/derived_data/z_r12r13_21/2021-06-26/sglx/0726_g0/wav_sync.wav\n",
      "2021-09-29 23:52:33,810 ceciestunepipe.util.wavutil INFO     saving (1, 311930369)-shaped array as npy in /mnt/sphere/speech_bci/derived_data/z_r12r13_21/2021-06-26/sglx/0726_g0/wav_sync.npy\n",
      "2021-09-29 23:52:40,846 root         INFO     Getting sync events from the wav sync channel\n",
      "2021-09-29 23:52:42,885 root         INFO     saving sync events of the wav channel to /mnt/sphere/speech_bci/derived_data/z_r12r13_21/2021-06-26/sglx/0726_g0/wav_sync_evt.npy\n",
      "2021-09-29 23:52:42,965 root         INFO     saving t0 for wav channel to /mnt/sphere/speech_bci/derived_data/z_r12r13_21/2021-06-26/sglx/0726_g0/wav_t0.npy\n",
      "2021-09-29 23:53:25,981 root         INFO     saving sync dict to /mnt/sphere/speech_bci/derived_data/z_r12r13_21/2021-06-26/sglx/0726_g0/wav_sync_dict.pkl\n",
      "2021-09-29 23:53:25,989 root         INFO     PREPROCESSING sess 2021-06-26 | epoch 1056_g0\n",
      "2021-09-29 23:53:25,990 root         INFO     getting extractors\n",
      "2021-09-29 23:53:26,249 root         INFO     Getting microphone channel(s) ['microphone_0']\n",
      "2021-09-29 23:53:26,250 ceciestunepipe.util.wavutil INFO     sampling rate 25000\n",
      "2021-09-29 23:53:26,251 ceciestunepipe.util.wavutil INFO     saving (1, 317539636)-shaped array as wav in /mnt/sphere/speech_bci/derived_data/z_r12r13_21/2021-06-26/sglx/1056_g0/wav_mic.wav\n",
      "2021-09-29 23:55:12,269 ceciestunepipe.util.wavutil INFO     saving (1, 317539636)-shaped array as npy in /mnt/sphere/speech_bci/derived_data/z_r12r13_21/2021-06-26/sglx/1056_g0/wav_mic.npy\n",
      "2021-09-29 23:55:33,851 root         INFO     Getting sync channel(s) ['sync']\n",
      "2021-09-29 23:55:33,852 ceciestunepipe.util.spikeextractors.extractors.spikeglxrecordingextractor.spikeglxrecordingextractor INFO     getting ttl traces, chan range(0, 7)\n",
      "2021-09-29 23:55:54,332 ceciestunepipe.util.wavutil INFO     sampling rate 25000\n",
      "2021-09-29 23:55:54,333 ceciestunepipe.util.wavutil INFO     saving (1, 317539636)-shaped array as wav in /mnt/sphere/speech_bci/derived_data/z_r12r13_21/2021-06-26/sglx/1056_g0/wav_sync.wav\n",
      "2021-09-29 23:56:01,861 ceciestunepipe.util.wavutil INFO     saving (1, 317539636)-shaped array as npy in /mnt/sphere/speech_bci/derived_data/z_r12r13_21/2021-06-26/sglx/1056_g0/wav_sync.npy\n",
      "2021-09-29 23:56:12,141 root         INFO     Getting sync events from the wav sync channel\n",
      "2021-09-29 23:56:16,231 root         INFO     saving sync events of the wav channel to /mnt/sphere/speech_bci/derived_data/z_r12r13_21/2021-06-26/sglx/1056_g0/wav_sync_evt.npy\n",
      "2021-09-29 23:56:16,260 root         INFO     saving t0 for wav channel to /mnt/sphere/speech_bci/derived_data/z_r12r13_21/2021-06-26/sglx/1056_g0/wav_t0.npy\n",
      "2021-09-29 23:57:07,010 root         INFO     saving sync dict to /mnt/sphere/speech_bci/derived_data/z_r12r13_21/2021-06-26/sglx/1056_g0/wav_sync_dict.pkl\n",
      "2021-09-29 23:57:07,061 root         INFO     PREPROCESSING sess 2021-06-26 | epoch 1428_g0\n",
      "2021-09-29 23:57:07,061 root         INFO     getting extractors\n",
      "2021-09-29 23:57:07,286 root         INFO     Getting microphone channel(s) ['microphone_0']\n",
      "2021-09-29 23:57:07,286 ceciestunepipe.util.wavutil INFO     sampling rate 25000\n",
      "2021-09-29 23:57:07,287 ceciestunepipe.util.wavutil INFO     saving (1, 317322292)-shaped array as wav in /mnt/sphere/speech_bci/derived_data/z_r12r13_21/2021-06-26/sglx/1428_g0/wav_mic.wav\n",
      "2021-09-29 23:59:09,473 ceciestunepipe.util.wavutil INFO     saving (1, 317322292)-shaped array as npy in /mnt/sphere/speech_bci/derived_data/z_r12r13_21/2021-06-26/sglx/1428_g0/wav_mic.npy\n",
      "2021-09-29 23:59:28,033 root         INFO     Getting sync channel(s) ['sync']\n",
      "2021-09-29 23:59:28,033 ceciestunepipe.util.spikeextractors.extractors.spikeglxrecordingextractor.spikeglxrecordingextractor INFO     getting ttl traces, chan range(0, 7)\n",
      "2021-09-29 23:59:51,666 ceciestunepipe.util.wavutil INFO     sampling rate 25000\n",
      "2021-09-29 23:59:51,667 ceciestunepipe.util.wavutil INFO     saving (1, 317322292)-shaped array as wav in /mnt/sphere/speech_bci/derived_data/z_r12r13_21/2021-06-26/sglx/1428_g0/wav_sync.wav\n",
      "2021-09-30 00:00:05,694 ceciestunepipe.util.wavutil INFO     saving (1, 317322292)-shaped array as npy in /mnt/sphere/speech_bci/derived_data/z_r12r13_21/2021-06-26/sglx/1428_g0/wav_sync.npy\n",
      "2021-09-30 00:00:14,312 root         INFO     Getting sync events from the wav sync channel\n",
      "2021-09-30 00:00:19,073 root         INFO     saving sync events of the wav channel to /mnt/sphere/speech_bci/derived_data/z_r12r13_21/2021-06-26/sglx/1428_g0/wav_sync_evt.npy\n",
      "2021-09-30 00:00:19,097 root         INFO     saving t0 for wav channel to /mnt/sphere/speech_bci/derived_data/z_r12r13_21/2021-06-26/sglx/1428_g0/wav_t0.npy\n",
      "2021-09-30 00:01:07,729 root         INFO     saving sync dict to /mnt/sphere/speech_bci/derived_data/z_r12r13_21/2021-06-26/sglx/1428_g0/wav_sync_dict.pkl\n",
      "2021-09-30 00:01:07,823 root         INFO     PREPROCESSING sess 2021-06-26 | epoch 1816_g0\n",
      "2021-09-30 00:01:07,824 root         INFO     getting extractors\n",
      "2021-09-30 00:01:08,322 root         INFO     Getting microphone channel(s) ['microphone_0']\n",
      "2021-09-30 00:01:08,323 ceciestunepipe.util.wavutil INFO     sampling rate 25000\n",
      "2021-09-30 00:01:08,324 ceciestunepipe.util.wavutil INFO     saving (1, 170344653)-shaped array as wav in /mnt/sphere/speech_bci/derived_data/z_r12r13_21/2021-06-26/sglx/1816_g0/wav_mic.wav\n",
      "2021-09-30 00:02:04,007 ceciestunepipe.util.wavutil INFO     saving (1, 170344653)-shaped array as npy in /mnt/sphere/speech_bci/derived_data/z_r12r13_21/2021-06-26/sglx/1816_g0/wav_mic.npy\n",
      "2021-09-30 00:02:17,298 root         INFO     Getting sync channel(s) ['sync']\n",
      "2021-09-30 00:02:17,299 ceciestunepipe.util.spikeextractors.extractors.spikeglxrecordingextractor.spikeglxrecordingextractor INFO     getting ttl traces, chan range(0, 7)\n",
      "2021-09-30 00:02:29,088 ceciestunepipe.util.wavutil INFO     sampling rate 25000\n",
      "2021-09-30 00:02:29,089 ceciestunepipe.util.wavutil INFO     saving (1, 170344653)-shaped array as wav in /mnt/sphere/speech_bci/derived_data/z_r12r13_21/2021-06-26/sglx/1816_g0/wav_sync.wav\n",
      "2021-09-30 00:02:34,638 ceciestunepipe.util.wavutil INFO     saving (1, 170344653)-shaped array as npy in /mnt/sphere/speech_bci/derived_data/z_r12r13_21/2021-06-26/sglx/1816_g0/wav_sync.npy\n",
      "2021-09-30 00:02:41,389 root         INFO     Getting sync events from the wav sync channel\n",
      "2021-09-30 00:02:43,456 root         INFO     saving sync events of the wav channel to /mnt/sphere/speech_bci/derived_data/z_r12r13_21/2021-06-26/sglx/1816_g0/wav_sync_evt.npy\n",
      "2021-09-30 00:02:43,579 root         INFO     saving t0 for wav channel to /mnt/sphere/speech_bci/derived_data/z_r12r13_21/2021-06-26/sglx/1816_g0/wav_t0.npy\n",
      "2021-09-30 00:03:06,962 root         INFO     saving sync dict to /mnt/sphere/speech_bci/derived_data/z_r12r13_21/2021-06-26/sglx/1816_g0/wav_sync_dict.pkl\n",
      "2021-09-30 00:03:07,354 root         INFO     pre-process all runs of sess 2021-06-27\n",
      "2021-09-30 00:03:07,355 ceciestunepipe.file.bcistructure INFO     {'folders': {'bird': '/mnt/sphere/speech_bci/raw_data/z_r12r13_21', 'raw': '/mnt/sphere/speech_bci/raw_data/z_r12r13_21/2021-06-27', 'sglx': '/mnt/sphere/speech_bci/raw_data/z_r12r13_21/2021-06-27/sglx', 'kwik': '/experiment/z_r12r13_21/sglx/kwik/2021-06-27', 'processed': '/mnt/sphere/speech_bci/processed_data/z_r12r13_21/2021-06-27/sglx', 'derived': '/mnt/sphere/speech_bci/derived_data/z_r12r13_21/2021-06-27/sglx', 'tmp': '/experiment/tmp/tmp', 'msort': '/experiment/tmp/z_r12r13_21/sglx/msort/2021-06-27', 'ksort': '/experiment/tmp/z_r12r13_21/sglx/ksort/2021-06-27'}, 'files': {'par': '/experiment/tmp/z_r12r13_21/sglx/ksort/2021-06-27/params.json', 'set': '/mnt/sphere/speech_bci/raw_data/z_r12r13_21/2021-06-27/sglx/settings.isf', 'rig': '/mnt/sphere/speech_bci/raw_data/z_r12r13_21/2021-06-27/sglx/rig.json', 'kwd': '/experiment/z_r12r13_21/sglx/kwik/2021-06-27/stream.kwd', 'kwik': '/experiment/z_r12r13_21/sglx/kwik/2021-06-27/sort_2/spikes.kwik', 'kwe': '/experiment/z_r12r13_21/sglx/kwik/2021-06-27/events.kwe', 'dat_mic': '/mnt/sphere/speech_bci/processed_data/z_r12r13_21/2021-06-27/sglx/dat_mic.mat', 'dat_ap': '/mnt/sphere/speech_bci/processed_data/z_r12r13_21/2021-06-27/sglx/dat_ap.mat', 'allevents': '/mnt/sphere/speech_bci/processed_data/z_r12r13_21/2021-06-27/sglx/dat_all.pkl', 'wav_mic': '/mnt/sphere/speech_bci/derived_data/z_r12r13_21/2021-06-27/sglx/wav_mic.wav', 'mda_raw': '/experiment/tmp/z_r12r13_21/sglx/msort/2021-06-27/raw.mda', 'bin_raw': '/experiment/tmp/z_r12r13_21/sglx/ksort/2021-06-27/raw.bin'}}\n",
      "2021-09-30 00:03:07,459 root         INFO     found epochs: ['0727_g0', '1305_g0', '1430_g0']\n",
      "2021-09-30 00:03:07,460 root         INFO     PREPROCESSING sess 2021-06-27 | epoch 0727_g0\n",
      "2021-09-30 00:03:07,461 root         INFO     getting extractors\n",
      "2021-09-30 00:03:07,767 root         INFO     Getting microphone channel(s) ['microphone_0']\n",
      "2021-09-30 00:03:07,769 ceciestunepipe.util.wavutil INFO     sampling rate 25000\n",
      "2021-09-30 00:03:07,769 ceciestunepipe.util.wavutil INFO     saving (1, 252735233)-shaped array as wav in /mnt/sphere/speech_bci/derived_data/z_r12r13_21/2021-06-27/sglx/0727_g0/wav_mic.wav\n",
      "2021-09-30 00:04:51,651 ceciestunepipe.util.wavutil INFO     saving (1, 252735233)-shaped array as npy in /mnt/sphere/speech_bci/derived_data/z_r12r13_21/2021-06-27/sglx/0727_g0/wav_mic.npy\n",
      "2021-09-30 00:05:09,730 root         INFO     Getting sync channel(s) ['sync']\n",
      "2021-09-30 00:05:09,731 ceciestunepipe.util.spikeextractors.extractors.spikeglxrecordingextractor.spikeglxrecordingextractor INFO     getting ttl traces, chan range(0, 7)\n",
      "2021-09-30 00:05:14,969 ceciestunepipe.util.wavutil INFO     sampling rate 25000\n",
      "2021-09-30 00:05:14,970 ceciestunepipe.util.wavutil INFO     saving (1, 252735233)-shaped array as wav in /mnt/sphere/speech_bci/derived_data/z_r12r13_21/2021-06-27/sglx/0727_g0/wav_sync.wav\n",
      "2021-09-30 00:05:25,420 ceciestunepipe.util.wavutil INFO     saving (1, 252735233)-shaped array as npy in /mnt/sphere/speech_bci/derived_data/z_r12r13_21/2021-06-27/sglx/0727_g0/wav_sync.npy\n",
      "2021-09-30 00:05:33,961 root         INFO     Getting sync events from the wav sync channel\n",
      "2021-09-30 00:05:35,642 root         INFO     saving sync events of the wav channel to /mnt/sphere/speech_bci/derived_data/z_r12r13_21/2021-06-27/sglx/0727_g0/wav_sync_evt.npy\n",
      "2021-09-30 00:05:35,709 root         INFO     saving t0 for wav channel to /mnt/sphere/speech_bci/derived_data/z_r12r13_21/2021-06-27/sglx/0727_g0/wav_t0.npy\n",
      "2021-09-30 00:06:10,961 root         INFO     saving sync dict to /mnt/sphere/speech_bci/derived_data/z_r12r13_21/2021-06-27/sglx/0727_g0/wav_sync_dict.pkl\n",
      "2021-09-30 00:06:11,019 root         INFO     PREPROCESSING sess 2021-06-27 | epoch 1305_g0\n",
      "2021-09-30 00:06:11,020 root         INFO     getting extractors\n",
      "2021-09-30 00:06:11,269 root         INFO     Getting microphone channel(s) ['microphone_0']\n",
      "2021-09-30 00:06:11,270 ceciestunepipe.util.wavutil INFO     sampling rate 25000\n",
      "2021-09-30 00:06:11,271 ceciestunepipe.util.wavutil INFO     saving (1, 117421364)-shaped array as wav in /mnt/sphere/speech_bci/derived_data/z_r12r13_21/2021-06-27/sglx/1305_g0/wav_mic.wav\n",
      "2021-09-30 00:06:39,732 ceciestunepipe.util.wavutil INFO     saving (1, 117421364)-shaped array as npy in /mnt/sphere/speech_bci/derived_data/z_r12r13_21/2021-06-27/sglx/1305_g0/wav_mic.npy\n",
      "2021-09-30 00:06:47,836 root         INFO     Getting sync channel(s) ['sync']\n",
      "2021-09-30 00:06:47,837 ceciestunepipe.util.spikeextractors.extractors.spikeglxrecordingextractor.spikeglxrecordingextractor INFO     getting ttl traces, chan range(0, 7)\n",
      "2021-09-30 00:06:52,058 ceciestunepipe.util.wavutil INFO     sampling rate 25000\n",
      "2021-09-30 00:06:52,058 ceciestunepipe.util.wavutil INFO     saving (1, 117421364)-shaped array as wav in /mnt/sphere/speech_bci/derived_data/z_r12r13_21/2021-06-27/sglx/1305_g0/wav_sync.wav\n",
      "2021-09-30 00:06:56,227 ceciestunepipe.util.wavutil INFO     saving (1, 117421364)-shaped array as npy in /mnt/sphere/speech_bci/derived_data/z_r12r13_21/2021-06-27/sglx/1305_g0/wav_sync.npy\n",
      "2021-09-30 00:06:58,484 root         INFO     Getting sync events from the wav sync channel\n",
      "2021-09-30 00:07:00,193 root         INFO     saving sync events of the wav channel to /mnt/sphere/speech_bci/derived_data/z_r12r13_21/2021-06-27/sglx/1305_g0/wav_sync_evt.npy\n",
      "2021-09-30 00:07:00,224 root         INFO     saving t0 for wav channel to /mnt/sphere/speech_bci/derived_data/z_r12r13_21/2021-06-27/sglx/1305_g0/wav_t0.npy\n",
      "2021-09-30 00:07:18,726 root         INFO     saving sync dict to /mnt/sphere/speech_bci/derived_data/z_r12r13_21/2021-06-27/sglx/1305_g0/wav_sync_dict.pkl\n",
      "2021-09-30 00:07:18,791 root         INFO     PREPROCESSING sess 2021-06-27 | epoch 1430_g0\n",
      "2021-09-30 00:07:18,793 root         INFO     getting extractors\n",
      "2021-09-30 00:07:19,363 root         INFO     Getting microphone channel(s) ['microphone_0']\n",
      "2021-09-30 00:07:19,365 ceciestunepipe.util.wavutil INFO     sampling rate 25000\n",
      "2021-09-30 00:07:19,366 ceciestunepipe.util.wavutil INFO     saving (1, 492714958)-shaped array as wav in /mnt/sphere/speech_bci/derived_data/z_r12r13_21/2021-06-27/sglx/1430_g0/wav_mic.wav\n",
      "2021-09-30 00:10:06,981 ceciestunepipe.util.wavutil INFO     saving (1, 492714958)-shaped array as npy in /mnt/sphere/speech_bci/derived_data/z_r12r13_21/2021-06-27/sglx/1430_g0/wav_mic.npy\n",
      "2021-09-30 00:10:38,961 root         INFO     Getting sync channel(s) ['sync']\n",
      "2021-09-30 00:10:38,962 ceciestunepipe.util.spikeextractors.extractors.spikeglxrecordingextractor.spikeglxrecordingextractor INFO     getting ttl traces, chan range(0, 7)\n",
      "2021-09-30 00:12:22,275 ceciestunepipe.util.wavutil INFO     sampling rate 25000\n",
      "2021-09-30 00:12:22,360 ceciestunepipe.util.wavutil INFO     saving (1, 492714958)-shaped array as wav in /mnt/sphere/speech_bci/derived_data/z_r12r13_21/2021-06-27/sglx/1430_g0/wav_sync.wav\n",
      "2021-09-30 00:12:41,633 ceciestunepipe.util.wavutil INFO     saving (1, 492714958)-shaped array as npy in /mnt/sphere/speech_bci/derived_data/z_r12r13_21/2021-06-27/sglx/1430_g0/wav_sync.npy\n",
      "2021-09-30 00:12:56,487 root         INFO     Getting sync events from the wav sync channel\n",
      "2021-09-30 00:13:03,271 root         INFO     saving sync events of the wav channel to /mnt/sphere/speech_bci/derived_data/z_r12r13_21/2021-06-27/sglx/1430_g0/wav_sync_evt.npy\n",
      "2021-09-30 00:13:03,335 root         INFO     saving t0 for wav channel to /mnt/sphere/speech_bci/derived_data/z_r12r13_21/2021-06-27/sglx/1430_g0/wav_t0.npy\n",
      "2021-09-30 00:14:09,812 root         INFO     saving sync dict to /mnt/sphere/speech_bci/derived_data/z_r12r13_21/2021-06-27/sglx/1430_g0/wav_sync_dict.pkl\n",
      "2021-09-30 00:14:10,274 root         INFO     pre-process all runs of sess 2021-06-28\n",
      "2021-09-30 00:14:10,300 ceciestunepipe.file.bcistructure INFO     {'folders': {'bird': '/mnt/sphere/speech_bci/raw_data/z_r12r13_21', 'raw': '/mnt/sphere/speech_bci/raw_data/z_r12r13_21/2021-06-28', 'sglx': '/mnt/sphere/speech_bci/raw_data/z_r12r13_21/2021-06-28/sglx', 'kwik': '/experiment/z_r12r13_21/sglx/kwik/2021-06-28', 'processed': '/mnt/sphere/speech_bci/processed_data/z_r12r13_21/2021-06-28/sglx', 'derived': '/mnt/sphere/speech_bci/derived_data/z_r12r13_21/2021-06-28/sglx', 'tmp': '/experiment/tmp/tmp', 'msort': '/experiment/tmp/z_r12r13_21/sglx/msort/2021-06-28', 'ksort': '/experiment/tmp/z_r12r13_21/sglx/ksort/2021-06-28'}, 'files': {'par': '/experiment/tmp/z_r12r13_21/sglx/ksort/2021-06-28/params.json', 'set': '/mnt/sphere/speech_bci/raw_data/z_r12r13_21/2021-06-28/sglx/settings.isf', 'rig': '/mnt/sphere/speech_bci/raw_data/z_r12r13_21/2021-06-28/sglx/rig.json', 'kwd': '/experiment/z_r12r13_21/sglx/kwik/2021-06-28/stream.kwd', 'kwik': '/experiment/z_r12r13_21/sglx/kwik/2021-06-28/sort_2/spikes.kwik', 'kwe': '/experiment/z_r12r13_21/sglx/kwik/2021-06-28/events.kwe', 'dat_mic': '/mnt/sphere/speech_bci/processed_data/z_r12r13_21/2021-06-28/sglx/dat_mic.mat', 'dat_ap': '/mnt/sphere/speech_bci/processed_data/z_r12r13_21/2021-06-28/sglx/dat_ap.mat', 'allevents': '/mnt/sphere/speech_bci/processed_data/z_r12r13_21/2021-06-28/sglx/dat_all.pkl', 'wav_mic': '/mnt/sphere/speech_bci/derived_data/z_r12r13_21/2021-06-28/sglx/wav_mic.wav', 'mda_raw': '/experiment/tmp/z_r12r13_21/sglx/msort/2021-06-28/raw.mda', 'bin_raw': '/experiment/tmp/z_r12r13_21/sglx/ksort/2021-06-28/raw.bin'}}\n",
      "2021-09-30 00:14:10,402 root         INFO     found epochs: ['0153_g0', '023_g0', '0701_g0', '1006_g0', '1201_g0', '1459_g0', '1806_g0']\n",
      "2021-09-30 00:14:10,403 root         INFO     PREPROCESSING sess 2021-06-28 | epoch 0153_g0\n",
      "2021-09-30 00:14:10,403 root         INFO     getting extractors\n",
      "2021-09-30 00:14:10,835 root         INFO     Getting microphone channel(s) ['microphone_0']\n",
      "2021-09-30 00:14:10,858 ceciestunepipe.util.wavutil INFO     sampling rate 25000\n",
      "2021-09-30 00:14:10,859 ceciestunepipe.util.wavutil INFO     saving (1, 460577383)-shaped array as wav in /mnt/sphere/speech_bci/derived_data/z_r12r13_21/2021-06-28/sglx/0153_g0/wav_mic.wav\n",
      "2021-09-30 00:17:17,293 ceciestunepipe.util.wavutil INFO     saving (1, 460577383)-shaped array as npy in /mnt/sphere/speech_bci/derived_data/z_r12r13_21/2021-06-28/sglx/0153_g0/wav_mic.npy\n",
      "2021-09-30 00:17:54,866 root         INFO     Getting sync channel(s) ['sync']\n",
      "2021-09-30 00:17:54,867 ceciestunepipe.util.spikeextractors.extractors.spikeglxrecordingextractor.spikeglxrecordingextractor INFO     getting ttl traces, chan range(0, 7)\n",
      "2021-09-30 00:18:13,827 ceciestunepipe.util.wavutil INFO     sampling rate 25000\n",
      "2021-09-30 00:18:13,886 ceciestunepipe.util.wavutil INFO     saving (1, 460577383)-shaped array as wav in /mnt/sphere/speech_bci/derived_data/z_r12r13_21/2021-06-28/sglx/0153_g0/wav_sync.wav\n",
      "2021-09-30 00:18:29,444 ceciestunepipe.util.wavutil INFO     saving (1, 460577383)-shaped array as npy in /mnt/sphere/speech_bci/derived_data/z_r12r13_21/2021-06-28/sglx/0153_g0/wav_sync.npy\n",
      "2021-09-30 00:18:52,483 root         INFO     Getting sync events from the wav sync channel\n",
      "2021-09-30 00:18:58,800 root         INFO     saving sync events of the wav channel to /mnt/sphere/speech_bci/derived_data/z_r12r13_21/2021-06-28/sglx/0153_g0/wav_sync_evt.npy\n",
      "2021-09-30 00:18:58,879 root         INFO     saving t0 for wav channel to /mnt/sphere/speech_bci/derived_data/z_r12r13_21/2021-06-28/sglx/0153_g0/wav_t0.npy\n",
      "2021-09-30 00:20:15,481 root         INFO     saving sync dict to /mnt/sphere/speech_bci/derived_data/z_r12r13_21/2021-06-28/sglx/0153_g0/wav_sync_dict.pkl\n",
      "2021-09-30 00:20:15,519 root         INFO     PREPROCESSING sess 2021-06-28 | epoch 023_g0\n",
      "2021-09-30 00:20:15,520 root         INFO     getting extractors\n",
      "2021-09-30 00:20:15,800 root         INFO     Getting microphone channel(s) ['microphone_0']\n",
      "2021-09-30 00:20:15,801 ceciestunepipe.util.wavutil INFO     sampling rate 25000\n",
      "2021-09-30 00:20:15,801 ceciestunepipe.util.wavutil INFO     saving (1, 135550260)-shaped array as wav in /mnt/sphere/speech_bci/derived_data/z_r12r13_21/2021-06-28/sglx/023_g0/wav_mic.wav\n",
      "2021-09-30 00:20:58,308 ceciestunepipe.util.wavutil INFO     saving (1, 135550260)-shaped array as npy in /mnt/sphere/speech_bci/derived_data/z_r12r13_21/2021-06-28/sglx/023_g0/wav_mic.npy\n",
      "2021-09-30 00:21:08,413 root         INFO     Getting sync channel(s) ['sync']\n",
      "2021-09-30 00:21:08,414 ceciestunepipe.util.spikeextractors.extractors.spikeglxrecordingextractor.spikeglxrecordingextractor INFO     getting ttl traces, chan range(0, 7)\n",
      "2021-09-30 00:21:11,337 ceciestunepipe.util.wavutil INFO     sampling rate 25000\n",
      "2021-09-30 00:21:11,337 ceciestunepipe.util.wavutil INFO     saving (1, 135550260)-shaped array as wav in /mnt/sphere/speech_bci/derived_data/z_r12r13_21/2021-06-28/sglx/023_g0/wav_sync.wav\n",
      "2021-09-30 00:21:14,947 ceciestunepipe.util.wavutil INFO     saving (1, 135550260)-shaped array as npy in /mnt/sphere/speech_bci/derived_data/z_r12r13_21/2021-06-28/sglx/023_g0/wav_sync.npy\n",
      "2021-09-30 00:21:19,454 root         INFO     Getting sync events from the wav sync channel\n",
      "2021-09-30 00:21:20,367 root         INFO     saving sync events of the wav channel to /mnt/sphere/speech_bci/derived_data/z_r12r13_21/2021-06-28/sglx/023_g0/wav_sync_evt.npy\n",
      "2021-09-30 00:21:20,403 root         INFO     saving t0 for wav channel to /mnt/sphere/speech_bci/derived_data/z_r12r13_21/2021-06-28/sglx/023_g0/wav_t0.npy\n",
      "2021-09-30 00:21:46,048 root         INFO     saving sync dict to /mnt/sphere/speech_bci/derived_data/z_r12r13_21/2021-06-28/sglx/023_g0/wav_sync_dict.pkl\n",
      "2021-09-30 00:21:46,073 root         INFO     PREPROCESSING sess 2021-06-28 | epoch 0701_g0\n",
      "2021-09-30 00:21:46,074 root         INFO     getting extractors\n",
      "<ipython-input-7-47a41efa92fc>:17: UserWarning: Error in epoch 0701_g0\n",
      "  warnings.warn('Error in epoch {}'.format(epoch), UserWarning)\n",
      "2021-09-30 00:21:46,200 root         INFO     <function format_exc at 0x7f9b2f05d430>\n",
      "2021-09-30 00:21:46,201 root         INFO     'nSavedChans'\n",
      "2021-09-30 00:21:46,202 root         INFO     Session 2021-06-28 epoch 0701_g0 could not be preprocessed\n",
      "2021-09-30 00:21:46,204 root         INFO     PREPROCESSING sess 2021-06-28 | epoch 1006_g0\n",
      "2021-09-30 00:21:46,205 root         INFO     getting extractors\n",
      "2021-09-30 00:21:46,430 root         INFO     Getting microphone channel(s) ['microphone_0']\n",
      "2021-09-30 00:21:46,431 ceciestunepipe.util.wavutil INFO     sampling rate 25000\n",
      "2021-09-30 00:21:46,432 ceciestunepipe.util.wavutil INFO     saving (1, 107639604)-shaped array as wav in /mnt/sphere/speech_bci/derived_data/z_r12r13_21/2021-06-28/sglx/1006_g0/wav_mic.wav\n",
      "2021-09-30 00:22:34,099 ceciestunepipe.util.wavutil INFO     saving (1, 107639604)-shaped array as npy in /mnt/sphere/speech_bci/derived_data/z_r12r13_21/2021-06-28/sglx/1006_g0/wav_mic.npy\n",
      "2021-09-30 00:22:41,371 root         INFO     Getting sync channel(s) ['sync']\n",
      "2021-09-30 00:22:41,372 ceciestunepipe.util.spikeextractors.extractors.spikeglxrecordingextractor.spikeglxrecordingextractor INFO     getting ttl traces, chan range(0, 7)\n",
      "2021-09-30 00:22:43,656 ceciestunepipe.util.wavutil INFO     sampling rate 25000\n",
      "2021-09-30 00:22:43,657 ceciestunepipe.util.wavutil INFO     saving (1, 107639604)-shaped array as wav in /mnt/sphere/speech_bci/derived_data/z_r12r13_21/2021-06-28/sglx/1006_g0/wav_sync.wav\n",
      "2021-09-30 00:22:47,561 ceciestunepipe.util.wavutil INFO     saving (1, 107639604)-shaped array as npy in /mnt/sphere/speech_bci/derived_data/z_r12r13_21/2021-06-28/sglx/1006_g0/wav_sync.npy\n",
      "2021-09-30 00:22:49,677 root         INFO     Getting sync events from the wav sync channel\n",
      "2021-09-30 00:22:50,372 root         INFO     saving sync events of the wav channel to /mnt/sphere/speech_bci/derived_data/z_r12r13_21/2021-06-28/sglx/1006_g0/wav_sync_evt.npy\n",
      "2021-09-30 00:22:50,393 root         INFO     saving t0 for wav channel to /mnt/sphere/speech_bci/derived_data/z_r12r13_21/2021-06-28/sglx/1006_g0/wav_t0.npy\n",
      "2021-09-30 00:23:07,534 root         INFO     saving sync dict to /mnt/sphere/speech_bci/derived_data/z_r12r13_21/2021-06-28/sglx/1006_g0/wav_sync_dict.pkl\n",
      "2021-09-30 00:23:07,558 root         INFO     PREPROCESSING sess 2021-06-28 | epoch 1201_g0\n",
      "2021-09-30 00:23:07,559 root         INFO     getting extractors\n",
      "2021-09-30 00:23:07,822 root         INFO     Getting microphone channel(s) ['microphone_0']\n",
      "2021-09-30 00:23:07,824 ceciestunepipe.util.wavutil INFO     sampling rate 25000\n",
      "2021-09-30 00:23:07,825 ceciestunepipe.util.wavutil INFO     saving (1, 263186227)-shaped array as wav in /mnt/sphere/speech_bci/derived_data/z_r12r13_21/2021-06-28/sglx/1201_g0/wav_mic.wav\n",
      "2021-09-30 00:25:18,292 ceciestunepipe.util.wavutil INFO     saving (1, 263186227)-shaped array as npy in /mnt/sphere/speech_bci/derived_data/z_r12r13_21/2021-06-28/sglx/1201_g0/wav_mic.npy\n",
      "2021-09-30 00:25:37,892 root         INFO     Getting sync channel(s) ['sync']\n",
      "2021-09-30 00:25:37,893 ceciestunepipe.util.spikeextractors.extractors.spikeglxrecordingextractor.spikeglxrecordingextractor INFO     getting ttl traces, chan range(0, 7)\n",
      "2021-09-30 00:25:43,779 ceciestunepipe.util.wavutil INFO     sampling rate 25000\n",
      "2021-09-30 00:25:43,780 ceciestunepipe.util.wavutil INFO     saving (1, 263186227)-shaped array as wav in /mnt/sphere/speech_bci/derived_data/z_r12r13_21/2021-06-28/sglx/1201_g0/wav_sync.wav\n",
      "2021-09-30 00:25:54,258 ceciestunepipe.util.wavutil INFO     saving (1, 263186227)-shaped array as npy in /mnt/sphere/speech_bci/derived_data/z_r12r13_21/2021-06-28/sglx/1201_g0/wav_sync.npy\n",
      "2021-09-30 00:26:01,542 root         INFO     Getting sync events from the wav sync channel\n",
      "2021-09-30 00:26:03,423 root         INFO     saving sync events of the wav channel to /mnt/sphere/speech_bci/derived_data/z_r12r13_21/2021-06-28/sglx/1201_g0/wav_sync_evt.npy\n",
      "2021-09-30 00:26:03,447 root         INFO     saving t0 for wav channel to /mnt/sphere/speech_bci/derived_data/z_r12r13_21/2021-06-28/sglx/1201_g0/wav_t0.npy\n",
      "2021-09-30 00:26:37,100 root         INFO     saving sync dict to /mnt/sphere/speech_bci/derived_data/z_r12r13_21/2021-06-28/sglx/1201_g0/wav_sync_dict.pkl\n",
      "2021-09-30 00:26:37,379 root         INFO     PREPROCESSING sess 2021-06-28 | epoch 1459_g0\n",
      "2021-09-30 00:26:37,380 root         INFO     getting extractors\n",
      "2021-09-30 00:26:38,244 root         INFO     Getting microphone channel(s) ['microphone_0']\n",
      "2021-09-30 00:26:38,245 ceciestunepipe.util.wavutil INFO     sampling rate 25000\n",
      "2021-09-30 00:26:38,246 ceciestunepipe.util.wavutil INFO     saving (1, 279883981)-shaped array as wav in /mnt/sphere/speech_bci/derived_data/z_r12r13_21/2021-06-28/sglx/1459_g0/wav_mic.wav\n",
      "2021-09-30 00:30:02,878 ceciestunepipe.util.wavutil INFO     saving (1, 279883981)-shaped array as npy in /mnt/sphere/speech_bci/derived_data/z_r12r13_21/2021-06-28/sglx/1459_g0/wav_mic.npy\n",
      "2021-09-30 00:30:22,189 root         INFO     Getting sync channel(s) ['sync']\n",
      "2021-09-30 00:30:22,190 ceciestunepipe.util.spikeextractors.extractors.spikeglxrecordingextractor.spikeglxrecordingextractor INFO     getting ttl traces, chan range(0, 7)\n",
      "2021-09-30 00:30:38,289 ceciestunepipe.util.wavutil INFO     sampling rate 25000\n",
      "2021-09-30 00:30:38,290 ceciestunepipe.util.wavutil INFO     saving (1, 279883981)-shaped array as wav in /mnt/sphere/speech_bci/derived_data/z_r12r13_21/2021-06-28/sglx/1459_g0/wav_sync.wav\n",
      "2021-09-30 00:30:50,016 ceciestunepipe.util.wavutil INFO     saving (1, 279883981)-shaped array as npy in /mnt/sphere/speech_bci/derived_data/z_r12r13_21/2021-06-28/sglx/1459_g0/wav_sync.npy\n",
      "2021-09-30 00:30:59,960 root         INFO     Getting sync events from the wav sync channel\n",
      "2021-09-30 00:31:04,051 root         INFO     saving sync events of the wav channel to /mnt/sphere/speech_bci/derived_data/z_r12r13_21/2021-06-28/sglx/1459_g0/wav_sync_evt.npy\n",
      "2021-09-30 00:31:04,219 root         INFO     saving t0 for wav channel to /mnt/sphere/speech_bci/derived_data/z_r12r13_21/2021-06-28/sglx/1459_g0/wav_t0.npy\n",
      "2021-09-30 00:31:49,556 root         INFO     saving sync dict to /mnt/sphere/speech_bci/derived_data/z_r12r13_21/2021-06-28/sglx/1459_g0/wav_sync_dict.pkl\n",
      "2021-09-30 00:31:49,639 root         INFO     PREPROCESSING sess 2021-06-28 | epoch 1806_g0\n",
      "2021-09-30 00:31:49,639 root         INFO     getting extractors\n",
      "2021-09-30 00:31:50,095 root         INFO     Getting microphone channel(s) ['microphone_0']\n",
      "2021-09-30 00:31:50,096 ceciestunepipe.util.wavutil INFO     sampling rate 25000\n",
      "2021-09-30 00:31:50,097 ceciestunepipe.util.wavutil INFO     saving (1, 175221299)-shaped array as wav in /mnt/sphere/speech_bci/derived_data/z_r12r13_21/2021-06-28/sglx/1806_g0/wav_mic.wav\n",
      "2021-09-30 00:33:46,960 ceciestunepipe.util.wavutil INFO     saving (1, 175221299)-shaped array as npy in /mnt/sphere/speech_bci/derived_data/z_r12r13_21/2021-06-28/sglx/1806_g0/wav_mic.npy\n",
      "2021-09-30 00:33:59,950 root         INFO     Getting sync channel(s) ['sync']\n",
      "2021-09-30 00:33:59,951 ceciestunepipe.util.spikeextractors.extractors.spikeglxrecordingextractor.spikeglxrecordingextractor INFO     getting ttl traces, chan range(0, 7)\n",
      "2021-09-30 00:34:10,370 ceciestunepipe.util.wavutil INFO     sampling rate 25000\n",
      "2021-09-30 00:34:10,370 ceciestunepipe.util.wavutil INFO     saving (1, 175221299)-shaped array as wav in /mnt/sphere/speech_bci/derived_data/z_r12r13_21/2021-06-28/sglx/1806_g0/wav_sync.wav\n",
      "2021-09-30 00:34:14,455 ceciestunepipe.util.wavutil INFO     saving (1, 175221299)-shaped array as npy in /mnt/sphere/speech_bci/derived_data/z_r12r13_21/2021-06-28/sglx/1806_g0/wav_sync.npy\n",
      "2021-09-30 00:34:20,895 root         INFO     Getting sync events from the wav sync channel\n",
      "2021-09-30 00:34:24,052 root         INFO     saving sync events of the wav channel to /mnt/sphere/speech_bci/derived_data/z_r12r13_21/2021-06-28/sglx/1806_g0/wav_sync_evt.npy\n",
      "2021-09-30 00:34:24,249 root         INFO     saving t0 for wav channel to /mnt/sphere/speech_bci/derived_data/z_r12r13_21/2021-06-28/sglx/1806_g0/wav_t0.npy\n",
      "2021-09-30 00:34:51,564 root         INFO     saving sync dict to /mnt/sphere/speech_bci/derived_data/z_r12r13_21/2021-06-28/sglx/1806_g0/wav_sync_dict.pkl\n",
      "2021-09-30 00:34:51,913 root         INFO     pre-process all runs of sess 2021-06-29\n",
      "2021-09-30 00:34:51,914 ceciestunepipe.file.bcistructure INFO     {'folders': {'bird': '/mnt/sphere/speech_bci/raw_data/z_r12r13_21', 'raw': '/mnt/sphere/speech_bci/raw_data/z_r12r13_21/2021-06-29', 'sglx': '/mnt/sphere/speech_bci/raw_data/z_r12r13_21/2021-06-29/sglx', 'kwik': '/experiment/z_r12r13_21/sglx/kwik/2021-06-29', 'processed': '/mnt/sphere/speech_bci/processed_data/z_r12r13_21/2021-06-29/sglx', 'derived': '/mnt/sphere/speech_bci/derived_data/z_r12r13_21/2021-06-29/sglx', 'tmp': '/experiment/tmp/tmp', 'msort': '/experiment/tmp/z_r12r13_21/sglx/msort/2021-06-29', 'ksort': '/experiment/tmp/z_r12r13_21/sglx/ksort/2021-06-29'}, 'files': {'par': '/experiment/tmp/z_r12r13_21/sglx/ksort/2021-06-29/params.json', 'set': '/mnt/sphere/speech_bci/raw_data/z_r12r13_21/2021-06-29/sglx/settings.isf', 'rig': '/mnt/sphere/speech_bci/raw_data/z_r12r13_21/2021-06-29/sglx/rig.json', 'kwd': '/experiment/z_r12r13_21/sglx/kwik/2021-06-29/stream.kwd', 'kwik': '/experiment/z_r12r13_21/sglx/kwik/2021-06-29/sort_2/spikes.kwik', 'kwe': '/experiment/z_r12r13_21/sglx/kwik/2021-06-29/events.kwe', 'dat_mic': '/mnt/sphere/speech_bci/processed_data/z_r12r13_21/2021-06-29/sglx/dat_mic.mat', 'dat_ap': '/mnt/sphere/speech_bci/processed_data/z_r12r13_21/2021-06-29/sglx/dat_ap.mat', 'allevents': '/mnt/sphere/speech_bci/processed_data/z_r12r13_21/2021-06-29/sglx/dat_all.pkl', 'wav_mic': '/mnt/sphere/speech_bci/derived_data/z_r12r13_21/2021-06-29/sglx/wav_mic.wav', 'mda_raw': '/experiment/tmp/z_r12r13_21/sglx/msort/2021-06-29/raw.mda', 'bin_raw': '/experiment/tmp/z_r12r13_21/sglx/ksort/2021-06-29/raw.bin'}}\n",
      "2021-09-30 00:34:52,041 root         INFO     found epochs: ['0713_g0', '1246_g0', '1728_g0', '1821_g0', '1842_g0']\n",
      "2021-09-30 00:34:52,042 root         INFO     PREPROCESSING sess 2021-06-29 | epoch 0713_g0\n",
      "2021-09-30 00:34:52,043 root         INFO     getting extractors\n",
      "<ipython-input-7-47a41efa92fc>:17: UserWarning: Error in epoch 0713_g0\n",
      "  warnings.warn('Error in epoch {}'.format(epoch), UserWarning)\n",
      "2021-09-30 00:34:52,107 root         INFO     <function format_exc at 0x7f9b2f05d430>\n",
      "2021-09-30 00:34:52,108 root         INFO     'nSavedChans'\n",
      "2021-09-30 00:34:52,108 root         INFO     Session 2021-06-29 epoch 0713_g0 could not be preprocessed\n",
      "2021-09-30 00:34:52,109 root         INFO     PREPROCESSING sess 2021-06-29 | epoch 1246_g0\n",
      "2021-09-30 00:34:52,110 root         INFO     getting extractors\n",
      "2021-09-30 00:34:52,406 root         INFO     Getting microphone channel(s) ['microphone_0']\n",
      "2021-09-30 00:34:52,407 ceciestunepipe.util.wavutil INFO     sampling rate 25000\n",
      "2021-09-30 00:34:52,408 ceciestunepipe.util.wavutil INFO     saving (1, 417359770)-shaped array as wav in /mnt/sphere/speech_bci/derived_data/z_r12r13_21/2021-06-29/sglx/1246_g0/wav_mic.wav\n",
      "2021-09-30 00:38:31,553 ceciestunepipe.util.wavutil INFO     saving (1, 417359770)-shaped array as npy in /mnt/sphere/speech_bci/derived_data/z_r12r13_21/2021-06-29/sglx/1246_g0/wav_mic.npy\n",
      "2021-09-30 00:38:56,087 root         INFO     Getting sync channel(s) ['sync']\n",
      "2021-09-30 00:38:56,088 ceciestunepipe.util.spikeextractors.extractors.spikeglxrecordingextractor.spikeglxrecordingextractor INFO     getting ttl traces, chan range(0, 7)\n",
      "2021-09-30 00:39:12,245 ceciestunepipe.util.wavutil INFO     sampling rate 25000\n",
      "2021-09-30 00:39:12,247 ceciestunepipe.util.wavutil INFO     saving (1, 417359770)-shaped array as wav in /mnt/sphere/speech_bci/derived_data/z_r12r13_21/2021-06-29/sglx/1246_g0/wav_sync.wav\n",
      "2021-09-30 00:39:26,065 ceciestunepipe.util.wavutil INFO     saving (1, 417359770)-shaped array as npy in /mnt/sphere/speech_bci/derived_data/z_r12r13_21/2021-06-29/sglx/1246_g0/wav_sync.npy\n",
      "2021-09-30 00:39:44,659 root         INFO     Getting sync events from the wav sync channel\n",
      "2021-09-30 00:39:47,605 root         INFO     saving sync events of the wav channel to /mnt/sphere/speech_bci/derived_data/z_r12r13_21/2021-06-29/sglx/1246_g0/wav_sync_evt.npy\n",
      "2021-09-30 00:39:47,683 root         INFO     saving t0 for wav channel to /mnt/sphere/speech_bci/derived_data/z_r12r13_21/2021-06-29/sglx/1246_g0/wav_t0.npy\n",
      "2021-09-30 00:40:42,813 root         INFO     saving sync dict to /mnt/sphere/speech_bci/derived_data/z_r12r13_21/2021-06-29/sglx/1246_g0/wav_sync_dict.pkl\n",
      "2021-09-30 00:40:42,918 root         INFO     PREPROCESSING sess 2021-06-29 | epoch 1728_g0\n",
      "2021-09-30 00:40:42,919 root         INFO     getting extractors\n",
      "<ipython-input-7-47a41efa92fc>:17: UserWarning: Error in epoch 1728_g0\n",
      "  warnings.warn('Error in epoch {}'.format(epoch), UserWarning)\n",
      "2021-09-30 00:40:43,316 root         INFO     <function format_exc at 0x7f9b2f05d430>\n",
      "2021-09-30 00:40:43,317 root         INFO     mmap length is greater than file size\n",
      "2021-09-30 00:40:43,318 root         INFO     Session 2021-06-29 epoch 1728_g0 could not be preprocessed\n",
      "2021-09-30 00:40:43,319 root         INFO     PREPROCESSING sess 2021-06-29 | epoch 1821_g0\n",
      "2021-09-30 00:40:43,320 root         INFO     getting extractors\n",
      "2021-09-30 00:40:44,317 root         INFO     Getting microphone channel(s) ['microphone_0']\n",
      "2021-09-30 00:40:44,318 ceciestunepipe.util.wavutil INFO     sampling rate 25000\n",
      "2021-09-30 00:40:44,319 ceciestunepipe.util.wavutil INFO     saving (1, 22627176)-shaped array as wav in /mnt/sphere/speech_bci/derived_data/z_r12r13_21/2021-06-29/sglx/1821_g0/wav_mic.wav\n",
      "2021-09-30 00:40:55,659 ceciestunepipe.util.wavutil INFO     saving (1, 22627176)-shaped array as npy in /mnt/sphere/speech_bci/derived_data/z_r12r13_21/2021-06-29/sglx/1821_g0/wav_mic.npy\n",
      "2021-09-30 00:40:58,214 root         INFO     Getting sync channel(s) ['sync']\n",
      "2021-09-30 00:40:58,215 ceciestunepipe.util.spikeextractors.extractors.spikeglxrecordingextractor.spikeglxrecordingextractor INFO     getting ttl traces, chan range(0, 7)\n",
      "2021-09-30 00:40:58,771 ceciestunepipe.util.wavutil INFO     sampling rate 25000\n",
      "2021-09-30 00:40:58,772 ceciestunepipe.util.wavutil INFO     saving (1, 22627176)-shaped array as wav in /mnt/sphere/speech_bci/derived_data/z_r12r13_21/2021-06-29/sglx/1821_g0/wav_sync.wav\n",
      "2021-09-30 00:41:00,997 ceciestunepipe.util.wavutil INFO     saving (1, 22627176)-shaped array as npy in /mnt/sphere/speech_bci/derived_data/z_r12r13_21/2021-06-29/sglx/1821_g0/wav_sync.npy\n",
      "2021-09-30 00:41:02,748 root         INFO     Getting sync events from the wav sync channel\n",
      "2021-09-30 00:41:02,952 root         INFO     saving sync events of the wav channel to /mnt/sphere/speech_bci/derived_data/z_r12r13_21/2021-06-29/sglx/1821_g0/wav_sync_evt.npy\n",
      "2021-09-30 00:41:03,007 root         INFO     saving t0 for wav channel to /mnt/sphere/speech_bci/derived_data/z_r12r13_21/2021-06-29/sglx/1821_g0/wav_t0.npy\n",
      "2021-09-30 00:41:07,256 root         INFO     saving sync dict to /mnt/sphere/speech_bci/derived_data/z_r12r13_21/2021-06-29/sglx/1821_g0/wav_sync_dict.pkl\n",
      "2021-09-30 00:41:07,273 root         INFO     PREPROCESSING sess 2021-06-29 | epoch 1842_g0\n",
      "2021-09-30 00:41:07,274 root         INFO     getting extractors\n",
      "2021-09-30 00:41:07,384 root         INFO     Getting microphone channel(s) ['microphone_0']\n",
      "2021-09-30 00:41:07,386 ceciestunepipe.util.wavutil INFO     sampling rate 25000\n",
      "2021-09-30 00:41:07,386 ceciestunepipe.util.wavutil INFO     saving (1, 120564891)-shaped array as wav in /mnt/sphere/speech_bci/derived_data/z_r12r13_21/2021-06-29/sglx/1842_g0/wav_mic.wav\n",
      "2021-09-30 00:42:01,813 ceciestunepipe.util.wavutil INFO     saving (1, 120564891)-shaped array as npy in /mnt/sphere/speech_bci/derived_data/z_r12r13_21/2021-06-29/sglx/1842_g0/wav_mic.npy\n",
      "2021-09-30 00:42:09,942 root         INFO     Getting sync channel(s) ['sync']\n",
      "2021-09-30 00:42:09,943 ceciestunepipe.util.spikeextractors.extractors.spikeglxrecordingextractor.spikeglxrecordingextractor INFO     getting ttl traces, chan range(0, 7)\n",
      "2021-09-30 00:42:20,147 ceciestunepipe.util.wavutil INFO     sampling rate 25000\n",
      "2021-09-30 00:42:20,147 ceciestunepipe.util.wavutil INFO     saving (1, 120564891)-shaped array as wav in /mnt/sphere/speech_bci/derived_data/z_r12r13_21/2021-06-29/sglx/1842_g0/wav_sync.wav\n",
      "2021-09-30 00:42:28,740 ceciestunepipe.util.wavutil INFO     saving (1, 120564891)-shaped array as npy in /mnt/sphere/speech_bci/derived_data/z_r12r13_21/2021-06-29/sglx/1842_g0/wav_sync.npy\n",
      "2021-09-30 00:42:32,392 root         INFO     Getting sync events from the wav sync channel\n",
      "2021-09-30 00:42:34,224 root         INFO     saving sync events of the wav channel to /mnt/sphere/speech_bci/derived_data/z_r12r13_21/2021-06-29/sglx/1842_g0/wav_sync_evt.npy\n",
      "2021-09-30 00:42:34,266 root         INFO     saving t0 for wav channel to /mnt/sphere/speech_bci/derived_data/z_r12r13_21/2021-06-29/sglx/1842_g0/wav_t0.npy\n",
      "2021-09-30 00:42:52,600 root         INFO     saving sync dict to /mnt/sphere/speech_bci/derived_data/z_r12r13_21/2021-06-29/sglx/1842_g0/wav_sync_dict.pkl\n",
      "2021-09-30 00:42:52,799 root         INFO     pre-process all runs of sess 2021-06-30\n",
      "2021-09-30 00:42:52,800 ceciestunepipe.file.bcistructure INFO     {'folders': {'bird': '/mnt/sphere/speech_bci/raw_data/z_r12r13_21', 'raw': '/mnt/sphere/speech_bci/raw_data/z_r12r13_21/2021-06-30', 'sglx': '/mnt/sphere/speech_bci/raw_data/z_r12r13_21/2021-06-30/sglx', 'kwik': '/experiment/z_r12r13_21/sglx/kwik/2021-06-30', 'processed': '/mnt/sphere/speech_bci/processed_data/z_r12r13_21/2021-06-30/sglx', 'derived': '/mnt/sphere/speech_bci/derived_data/z_r12r13_21/2021-06-30/sglx', 'tmp': '/experiment/tmp/tmp', 'msort': '/experiment/tmp/z_r12r13_21/sglx/msort/2021-06-30', 'ksort': '/experiment/tmp/z_r12r13_21/sglx/ksort/2021-06-30'}, 'files': {'par': '/experiment/tmp/z_r12r13_21/sglx/ksort/2021-06-30/params.json', 'set': '/mnt/sphere/speech_bci/raw_data/z_r12r13_21/2021-06-30/sglx/settings.isf', 'rig': '/mnt/sphere/speech_bci/raw_data/z_r12r13_21/2021-06-30/sglx/rig.json', 'kwd': '/experiment/z_r12r13_21/sglx/kwik/2021-06-30/stream.kwd', 'kwik': '/experiment/z_r12r13_21/sglx/kwik/2021-06-30/sort_2/spikes.kwik', 'kwe': '/experiment/z_r12r13_21/sglx/kwik/2021-06-30/events.kwe', 'dat_mic': '/mnt/sphere/speech_bci/processed_data/z_r12r13_21/2021-06-30/sglx/dat_mic.mat', 'dat_ap': '/mnt/sphere/speech_bci/processed_data/z_r12r13_21/2021-06-30/sglx/dat_ap.mat', 'allevents': '/mnt/sphere/speech_bci/processed_data/z_r12r13_21/2021-06-30/sglx/dat_all.pkl', 'wav_mic': '/mnt/sphere/speech_bci/derived_data/z_r12r13_21/2021-06-30/sglx/wav_mic.wav', 'mda_raw': '/experiment/tmp/z_r12r13_21/sglx/msort/2021-06-30/raw.mda', 'bin_raw': '/experiment/tmp/z_r12r13_21/sglx/ksort/2021-06-30/raw.bin'}}\n",
      "2021-09-30 00:42:52,871 root         INFO     found epochs: ['1150_g0', '1526_g0', '1842_g0']\n",
      "2021-09-30 00:42:52,872 root         INFO     PREPROCESSING sess 2021-06-30 | epoch 1150_g0\n",
      "2021-09-30 00:42:52,873 root         INFO     getting extractors\n",
      "<ipython-input-7-47a41efa92fc>:17: UserWarning: Error in epoch 1150_g0\n",
      "  warnings.warn('Error in epoch {}'.format(epoch), UserWarning)\n",
      "2021-09-30 00:42:52,904 root         INFO     <function format_exc at 0x7f9b2f05d430>\n",
      "2021-09-30 00:42:52,905 root         INFO     'nSavedChans'\n",
      "2021-09-30 00:42:52,905 root         INFO     Session 2021-06-30 epoch 1150_g0 could not be preprocessed\n",
      "2021-09-30 00:42:52,906 root         INFO     PREPROCESSING sess 2021-06-30 | epoch 1526_g0\n",
      "2021-09-30 00:42:52,907 root         INFO     getting extractors\n",
      "2021-09-30 00:42:53,067 root         INFO     Getting microphone channel(s) ['microphone_0']\n",
      "2021-09-30 00:42:53,068 ceciestunepipe.util.wavutil INFO     sampling rate 25000\n",
      "2021-09-30 00:42:53,068 ceciestunepipe.util.wavutil INFO     saving (1, 452611431)-shaped array as wav in /mnt/sphere/speech_bci/derived_data/z_r12r13_21/2021-06-30/sglx/1526_g0/wav_mic.wav\n",
      "2021-09-30 00:46:35,637 ceciestunepipe.util.wavutil INFO     saving (1, 452611431)-shaped array as npy in /mnt/sphere/speech_bci/derived_data/z_r12r13_21/2021-06-30/sglx/1526_g0/wav_mic.npy\n",
      "2021-09-30 00:46:59,517 root         INFO     Getting sync channel(s) ['sync']\n",
      "2021-09-30 00:46:59,518 ceciestunepipe.util.spikeextractors.extractors.spikeglxrecordingextractor.spikeglxrecordingextractor INFO     getting ttl traces, chan range(0, 7)\n",
      "2021-09-30 00:47:27,115 ceciestunepipe.util.wavutil INFO     sampling rate 25000\n",
      "2021-09-30 00:47:27,116 ceciestunepipe.util.wavutil INFO     saving (1, 452611431)-shaped array as wav in /mnt/sphere/speech_bci/derived_data/z_r12r13_21/2021-06-30/sglx/1526_g0/wav_sync.wav\n",
      "2021-09-30 00:47:39,395 ceciestunepipe.util.wavutil INFO     saving (1, 452611431)-shaped array as npy in /mnt/sphere/speech_bci/derived_data/z_r12r13_21/2021-06-30/sglx/1526_g0/wav_sync.npy\n",
      "2021-09-30 00:47:49,037 root         INFO     Getting sync events from the wav sync channel\n",
      "2021-09-30 00:47:56,237 root         INFO     saving sync events of the wav channel to /mnt/sphere/speech_bci/derived_data/z_r12r13_21/2021-06-30/sglx/1526_g0/wav_sync_evt.npy\n",
      "2021-09-30 00:47:56,292 root         INFO     saving t0 for wav channel to /mnt/sphere/speech_bci/derived_data/z_r12r13_21/2021-06-30/sglx/1526_g0/wav_t0.npy\n",
      "2021-09-30 00:48:53,573 root         INFO     saving sync dict to /mnt/sphere/speech_bci/derived_data/z_r12r13_21/2021-06-30/sglx/1526_g0/wav_sync_dict.pkl\n",
      "2021-09-30 00:48:53,754 root         INFO     PREPROCESSING sess 2021-06-30 | epoch 1842_g0\n",
      "2021-09-30 00:48:53,755 root         INFO     getting extractors\n",
      "2021-09-30 00:48:54,538 root         INFO     Getting microphone channel(s) ['microphone_0']\n",
      "2021-09-30 00:48:54,540 ceciestunepipe.util.wavutil INFO     sampling rate 25000\n",
      "2021-09-30 00:48:54,541 ceciestunepipe.util.wavutil INFO     saving (1, 490907649)-shaped array as wav in /mnt/sphere/speech_bci/derived_data/z_r12r13_21/2021-06-30/sglx/1842_g0/wav_mic.wav\n",
      "2021-09-30 00:53:44,452 ceciestunepipe.util.wavutil INFO     saving (1, 490907649)-shaped array as npy in /mnt/sphere/speech_bci/derived_data/z_r12r13_21/2021-06-30/sglx/1842_g0/wav_mic.npy\n",
      "2021-09-30 00:55:16,633 root         INFO     Getting sync channel(s) ['sync']\n",
      "2021-09-30 00:55:16,634 ceciestunepipe.util.spikeextractors.extractors.spikeglxrecordingextractor.spikeglxrecordingextractor INFO     getting ttl traces, chan range(0, 7)\n",
      "2021-09-30 00:55:52,476 ceciestunepipe.util.wavutil INFO     sampling rate 25000\n",
      "2021-09-30 00:55:52,477 ceciestunepipe.util.wavutil INFO     saving (1, 490907649)-shaped array as wav in /mnt/sphere/speech_bci/derived_data/z_r12r13_21/2021-06-30/sglx/1842_g0/wav_sync.wav\n",
      "2021-09-30 00:56:06,364 ceciestunepipe.util.wavutil INFO     saving (1, 490907649)-shaped array as npy in /mnt/sphere/speech_bci/derived_data/z_r12r13_21/2021-06-30/sglx/1842_g0/wav_sync.npy\n",
      "2021-09-30 00:56:18,498 root         INFO     Getting sync events from the wav sync channel\n",
      "2021-09-30 00:56:25,554 root         INFO     saving sync events of the wav channel to /mnt/sphere/speech_bci/derived_data/z_r12r13_21/2021-06-30/sglx/1842_g0/wav_sync_evt.npy\n",
      "2021-09-30 00:56:25,638 root         INFO     saving t0 for wav channel to /mnt/sphere/speech_bci/derived_data/z_r12r13_21/2021-06-30/sglx/1842_g0/wav_t0.npy\n",
      "2021-09-30 00:57:24,145 root         INFO     saving sync dict to /mnt/sphere/speech_bci/derived_data/z_r12r13_21/2021-06-30/sglx/1842_g0/wav_sync_dict.pkl\n"
     ]
    }
   ],
   "source": [
    "all_sess_dict = {}\n",
    "\n",
    "for one_sess in sess_list[:]:\n",
    "    sess_par['sess'] = one_sess\n",
    "    preprocess_session(sess_par)"
   ]
  },
  {
   "cell_type": "code",
   "execution_count": 15,
   "metadata": {},
   "outputs": [
    {
     "data": {
      "text/plain": [
       "{'bird': 's_b1253_21',\n",
       " 'sess': '2021-07-18',\n",
       " 'probes': ['probe_0'],\n",
       " 'mic_list': ['microphone_0'],\n",
       " 'sort': 2}"
      ]
     },
     "execution_count": 15,
     "metadata": {},
     "output_type": "execute_result"
    }
   ],
   "source": [
    "sess_par"
   ]
  },
  {
   "cell_type": "code",
   "execution_count": 16,
   "metadata": {},
   "outputs": [],
   "source": [
    "# Search bouts"
   ]
  },
  {
   "cell_type": "markdown",
   "metadata": {},
   "source": [
    "## search bouts for those sessions"
   ]
  },
  {
   "cell_type": "code",
   "execution_count": 17,
   "metadata": {},
   "outputs": [],
   "source": [
    "from ceciestunepipe.util.sound import boutsearch as bs\n",
    "from ceciestunepipe.util import wavutil as wu\n",
    "\n",
    "from joblib import Parallel, delayed\n",
    "import pickle\n",
    "import sys"
   ]
  },
  {
   "cell_type": "code",
   "execution_count": 18,
   "metadata": {},
   "outputs": [
    {
     "data": {
      "text/plain": [
       "<module 'ceciestunepipe.util.sound.boutsearch' from '/home/finch/repos/ceciestunepipe/ceciestunepipe/util/sound/boutsearch.py'>"
      ]
     },
     "execution_count": 18,
     "metadata": {},
     "output_type": "execute_result"
    }
   ],
   "source": [
    "reload(bs)"
   ]
  },
  {
   "cell_type": "code",
   "execution_count": 19,
   "metadata": {},
   "outputs": [],
   "source": [
    "def sess_file_id(f_path):\n",
    "    n = int(os.path.split(f_path)[1].split('-')[-1].split('.wav')[0])\n",
    "    return n\n",
    "\n",
    "\n",
    "def get_all_day_bouts(sess_par: dict, hparams:dict, n_jobs: int=12, ephys_software='sglx', \n",
    "                     parallel=True) -> pd.DataFrame:\n",
    "    \n",
    "    logger.info('Will search for bouts through all session {}, {}'.format(sess_par['bird'], sess_par['sess']))\n",
    "    exp_struct = et.get_exp_struct(sess_par['bird'], sess_par['sess'], ephys_software=ephys_software)\n",
    "\n",
    "    # get all the paths to the wav files of the epochs of the day   \n",
    "    source_folder = exp_struct['folders']['derived']\n",
    "    wav_path_list = et.get_sgl_files_epochs(source_folder, file_filter='*wav_mic.wav')\n",
    "    wav_path_list.sort()\n",
    "    logger.info('Found {} files'.format(len(wav_path_list)))\n",
    "    print(wav_path_list)\n",
    "    \n",
    "    get_file_bouts = lambda path: bs.get_epoch_bouts(path, hparams)\n",
    "    # Go parallel through all the paths in the day, get a list of all the pandas dataframes for each file\n",
    "    if parallel:\n",
    "        sess_pd_list = Parallel(n_jobs=n_jobs, verbose=100, prefer='threads')(delayed(get_file_bouts)(i) for i in wav_path_list)\n",
    "    else:\n",
    "        sess_pd_list = [get_file_bouts(i) for i in wav_path_list]\n",
    "    \n",
    "    #concatenate the file and return it, eventually write to a pickle\n",
    "    sess_bout_pd = pd.concat(sess_pd_list)\n",
    "    return sess_bout_pd\n",
    "\n",
    "def save_auto_bouts(sess_bout_pd, sess_par, hparams):\n",
    "    exp_struct = et.get_exp_struct(sess_par['bird'], sess_par['sess'], ephys_software='bouts_sglx')\n",
    "    #sess_bouts_dir = os.path.join(exp_struct['folders']['derived'], 'bouts_ceciestunepipe')\n",
    "    sess_bouts_dir = exp_struct['folders']['derived']\n",
    "\n",
    "    sess_bouts_path = os.path.join(sess_bouts_dir, hparams['bout_auto_file'])\n",
    "    hparams_pickle_path = os.path.join(sess_bouts_dir, 'bout_search_params.pickle')\n",
    "\n",
    "    os.makedirs(sess_bouts_dir, exist_ok=True)\n",
    "    logger.info('saving bouts pandas to ' + sess_bouts_path)\n",
    "    sess_bout_pd.to_pickle(sess_bouts_path)\n",
    "\n",
    "    logger.info('saving bout detect parameters dict to ' + hparams_pickle_path)\n",
    "    with open(hparams_pickle_path, 'wb') as fh:\n",
    "        pickle.dump(hparams, fh)"
   ]
  },
  {
   "cell_type": "code",
   "execution_count": 20,
   "metadata": {},
   "outputs": [],
   "source": [
    "## need to enter 'sample_rate' from the file!\n",
    "hparams = {\n",
    "    # spectrogram\n",
    "    'num_freq':1024, #1024# how many channels to use in a spectrogram #\n",
    "    'preemphasis':0.97, \n",
    "    'frame_shift_ms':5, # step size for fft\n",
    "    'frame_length_ms':10, #128 # frame length for fft FRAME SAMPLES < NUM_FREQ!!!\n",
    "    'min_level_db':-55, # minimum threshold db for computing spe \n",
    "    'ref_level_db':110, # reference db for computing spec\n",
    "    #'sample_rate':None, # sample rate of your data\n",
    "    \n",
    "    # spectrograms\n",
    "    'mel_filter': False, # should a mel filter be used?\n",
    "    'num_mels':1024, # how many channels to use in the mel-spectrogram\n",
    "    'fmin': 500, # low frequency cutoff for mel filter\n",
    "    'fmax': 12000, # high frequency cutoff for mel filter\n",
    "    \n",
    "    # spectrogram inversion\n",
    "    'max_iters':200,\n",
    "    'griffin_lim_iters':20,\n",
    "    'power':1.5,\n",
    "\n",
    "    # Added for the searching\n",
    "    'read_wav_fun': wu.read_wav_chan, # function for loading the wav_like_stream (has to returns fs, ndarray)\n",
    "    'file_order_fun': sess_file_id, # function for extracting the file id within the session\n",
    "    'min_segment': 30, # Minimum length of supra_threshold to consider a 'syllable' (ms)\n",
    "    'min_silence': 2000, # Minmum distance between groups of syllables to consider separate bouts (ms)\n",
    "    'min_bout': 5000, # min bout duration (ms)\n",
    "    'peak_thresh_rms': 0.55, # threshold (rms) for peak acceptance,\n",
    "    'thresh_rms': 0.25, # threshold for detection of syllables\n",
    "    'mean_syl_rms_thresh': 0.3, #threshold for acceptance of mean rms across the syllable (relative to rms of the file)\n",
    "    'max_bout': 120000, #exclude bouts too long\n",
    "    'l_p_r_thresh': 100, # threshold for n of len_ms/peaks (typycally about 2-3 syllable spans\n",
    "    \n",
    "    'waveform_edges': 1000, #get number of ms before and after the edges of the bout for the waveform sample\n",
    "    \n",
    "    'bout_auto_file': 'bout_auto.pickle', # extension for saving the auto found files\n",
    "    'bout_curated_file': 'bout_checked.pickle', #extension for manually curated files (coming soon)\n",
    "    }"
   ]
  },
  {
   "cell_type": "code",
   "execution_count": 1,
   "metadata": {
    "tags": []
   },
   "outputs": [
    {
     "ename": "NameError",
     "evalue": "name 'sess_list' is not defined",
     "output_type": "error",
     "traceback": [
      "\u001b[0;31m---------------------------------------------------------------------------\u001b[0m",
      "\u001b[0;31mNameError\u001b[0m                                 Traceback (most recent call last)",
      "\u001b[0;32m<ipython-input-1-4b49557f19cd>\u001b[0m in \u001b[0;36m<module>\u001b[0;34m\u001b[0m\n\u001b[0;32m----> 1\u001b[0;31m \u001b[0mall_sessions\u001b[0m \u001b[0;34m=\u001b[0m \u001b[0msess_list\u001b[0m\u001b[0;34m[\u001b[0m\u001b[0;34m:\u001b[0m\u001b[0;36m2\u001b[0m\u001b[0;34m]\u001b[0m\u001b[0;34m\u001b[0m\u001b[0;34m\u001b[0m\u001b[0m\n\u001b[0m\u001b[1;32m      2\u001b[0m \u001b[0mall_sessions\u001b[0m \u001b[0;34m=\u001b[0m \u001b[0;34m[\u001b[0m\u001b[0;34m'2021-07-18'\u001b[0m\u001b[0;34m]\u001b[0m\u001b[0;34m\u001b[0m\u001b[0;34m\u001b[0m\u001b[0m\n\u001b[1;32m      3\u001b[0m \u001b[0;34m\u001b[0m\u001b[0m\n\u001b[1;32m      4\u001b[0m \u001b[0;32mfor\u001b[0m \u001b[0msess\u001b[0m \u001b[0;32min\u001b[0m \u001b[0mall_sessions\u001b[0m\u001b[0;34m:\u001b[0m\u001b[0;34m\u001b[0m\u001b[0;34m\u001b[0m\u001b[0m\n\u001b[1;32m      5\u001b[0m     \u001b[0msess_par\u001b[0m\u001b[0;34m[\u001b[0m\u001b[0;34m'sess'\u001b[0m\u001b[0;34m]\u001b[0m \u001b[0;34m=\u001b[0m \u001b[0msess\u001b[0m\u001b[0;34m\u001b[0m\u001b[0;34m\u001b[0m\u001b[0m\n",
      "\u001b[0;31mNameError\u001b[0m: name 'sess_list' is not defined"
     ]
    }
   ],
   "source": [
    "all_sessions = sess_list[:2]\n",
    "all_sessions = ['2021-07-18']\n",
    "\n",
    "for sess in all_sessions:\n",
    "    sess_par['sess'] = sess\n",
    "    sess_bout_pd = get_all_day_bouts(sess_par, hparams, parallel=False)\n",
    "    save_auto_bouts(sess_bout_pd, sess_par, hparams)\n",
    "    sess_bouts_folder = os.path.join(exp_struct['folders']['derived'], 'bouts')\n",
    "    #bouts_to_wavs(sess_bout_pd, sess_par, hparams, sess_bouts_folder)"
   ]
  },
  {
   "cell_type": "code",
   "execution_count": 22,
   "metadata": {},
   "outputs": [
    {
     "name": "stdout",
     "output_type": "stream",
     "text": [
      "<class 'pandas.core.frame.DataFrame'>\n",
      "Int64Index: 103 entries, 0 to 37\n",
      "Data columns (total 17 columns):\n",
      " #   Column        Non-Null Count  Dtype  \n",
      "---  ------        --------------  -----  \n",
      " 0   start_ms      103 non-null    int64  \n",
      " 1   end_ms        103 non-null    int64  \n",
      " 2   start_sample  103 non-null    int64  \n",
      " 3   end_sample    103 non-null    int64  \n",
      " 4   p_step        103 non-null    object \n",
      " 5   rms_p         103 non-null    float64\n",
      " 6   peak_p        103 non-null    float64\n",
      " 7   bout_check    103 non-null    bool   \n",
      " 8   file          103 non-null    object \n",
      " 9   len_ms        103 non-null    int64  \n",
      " 10  syl_in        103 non-null    object \n",
      " 11  n_syl         103 non-null    int64  \n",
      " 12  peaks_p       103 non-null    object \n",
      " 13  n_peaks       103 non-null    int64  \n",
      " 14  l_p_ratio     103 non-null    float64\n",
      " 15  waveform      103 non-null    object \n",
      " 16  confusing     103 non-null    bool   \n",
      "dtypes: bool(2), float64(3), int64(7), object(5)\n",
      "memory usage: 13.1+ KB\n"
     ]
    }
   ],
   "source": [
    "sess_bout_pd.info()"
   ]
  },
  {
   "cell_type": "code",
   "execution_count": 24,
   "metadata": {},
   "outputs": [
    {
     "data": {
      "text/plain": [
       "103"
      ]
     },
     "execution_count": 24,
     "metadata": {},
     "output_type": "execute_result"
    }
   ],
   "source": [
    "np.unique(sess_bout_pd['start_ms']).size"
   ]
  },
  {
   "cell_type": "markdown",
   "metadata": {},
   "source": [
    "# debug"
   ]
  },
  {
   "cell_type": "markdown",
   "metadata": {},
   "source": [
    "## debug search_bout"
   ]
  },
  {
   "cell_type": "code",
   "execution_count": 21,
   "metadata": {},
   "outputs": [
    {
     "name": "stderr",
     "output_type": "stream",
     "text": [
      "2021-09-22 15:13:39,371 root         INFO     Found 4 files\n"
     ]
    },
    {
     "name": "stdout",
     "output_type": "stream",
     "text": [
      "['/mnt/sphere/speech_bci/derived_data/s_b1253_21/2021-06-14/sglx/0712_g0/wav_mic.wav', '/mnt/sphere/speech_bci/derived_data/s_b1253_21/2021-06-14/sglx/1255_g0/wav_mic.wav', '/mnt/sphere/speech_bci/derived_data/s_b1253_21/2021-06-14/sglx/1740_g0/wav_mic.wav', '/mnt/sphere/speech_bci/derived_data/s_b1253_21/2021-06-14/sglx/2118_g0/wav_mic.wav']\n"
     ]
    }
   ],
   "source": [
    "## look for a single file\n",
    "sess = sess_list[0]\n",
    "\n",
    "exp_struct = et.get_exp_struct(sess_par['bird'], sess, ephys_software='sglx')\n",
    "source_folder = exp_struct['folders']['derived']\n",
    "wav_path_list = et.get_sgl_files_epochs(source_folder, file_filter='*wav_mic.wav')\n",
    "wav_path_list.sort()\n",
    "logger.info('Found {} files'.format(len(wav_path_list)))\n",
    "print(wav_path_list)"
   ]
  },
  {
   "cell_type": "code",
   "execution_count": 22,
   "metadata": {},
   "outputs": [],
   "source": [
    "one_file = wav_path_list[0]"
   ]
  },
  {
   "cell_type": "code",
   "execution_count": null,
   "metadata": {},
   "outputs": [
    {
     "name": "stderr",
     "output_type": "stream",
     "text": [
      "2021-09-22 15:13:45,924 ceciestunepipe.util.sound.boutsearch INFO     Getting bouts for long file /mnt/sphere/speech_bci/derived_data/s_b1253_21/2021-06-14/sglx/0712_g0/wav_mic.wav\n"
     ]
    },
    {
     "name": "stdout",
     "output_type": "stream",
     "text": [
      "tu vieja file /mnt/sphere/speech_bci/derived_data/s_b1253_21/2021-06-14/sglx/0712_g0/wav_mic.wav\n"
     ]
    },
    {
     "name": "stderr",
     "output_type": "stream",
     "text": [
      "2021-09-22 15:13:45,962 ceciestunepipe.util.sound.boutsearch INFO     splitting file into 5 chunks\n"
     ]
    },
    {
     "data": {
      "application/vnd.jupyter.widget-view+json": {
       "model_id": "2ee46791b8cc495dae356f151c0a45d0",
       "version_major": 2,
       "version_minor": 0
      },
      "text/plain": [
       "  0%|          | 0/5 [00:00<?, ?it/s]"
      ]
     },
     "metadata": {},
     "output_type": "display_data"
    }
   ],
   "source": [
    "reload(bs)\n",
    "epoch_bout_pd, epoch_wav = bs.get_bouts_in_long_file(wav_path_list[0], hparams)"
   ]
  },
  {
   "cell_type": "code",
   "execution_count": null,
   "metadata": {},
   "outputs": [],
   "source": []
  }
 ],
 "metadata": {
  "kernelspec": {
   "display_name": "ceciestunepipe",
   "language": "python",
   "name": "ceciestunepipe"
  },
  "language_info": {
   "codemirror_mode": {
    "name": "ipython",
    "version": 3
   },
   "file_extension": ".py",
   "mimetype": "text/x-python",
   "name": "python",
   "nbconvert_exporter": "python",
   "pygments_lexer": "ipython3",
   "version": "3.8.10"
  }
 },
 "nbformat": 4,
 "nbformat_minor": 4
}
