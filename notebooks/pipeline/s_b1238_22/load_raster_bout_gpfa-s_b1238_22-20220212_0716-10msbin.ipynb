{
 "cells": [
  {
   "cell_type": "markdown",
   "metadata": {},
   "source": [
    "# Get sorted spikes and bouts and make rasters/gpfa\n",
    "\n",
    "For every run in the session:\n",
    " - Load the recordings\n",
    " - Get the sync events for the nidq, ap, lf sync channels -> to npy for further synching \n",
    " - Sort spikes\n",
    " - Get the bouts/mots and align them to the ap_0 time scale\n",
    " - make and view some 'bout rasters'\n",
    " \n",
    "\n",
    "Assumes that preprocessing has occured:\n",
    "- sglx_preprocess:\n",
    "    - extraction of microphone streams\n",
    "    - bout detections\n",
    "- curate_bouts-bird-plotly-ephys:\n",
    "    - manual curation of detected bouts\n",
    "- sort_raster_bout:\n",
    "    - syncrhonization of nidaq/ap time events\n",
    "    - spike sorting\n",
    "    - labeling of sorted units for their corresponding nucleus\n",
    "    - inspection of rasters\n",
    "    \n",
    "This notebook should not depend on the raw_data"
   ]
  },
  {
   "cell_type": "code",
   "execution_count": 1,
   "metadata": {},
   "outputs": [
    {
     "name": "stderr",
     "output_type": "stream",
     "text": [
      "2023-01-26 09:20:08,389 root         INFO     Running on pakhi.ucsd.edu\n"
     ]
    }
   ],
   "source": [
    "%matplotlib inline\n",
    "\n",
    "import os\n",
    "import glob\n",
    "import logging\n",
    "import pickle\n",
    "import socket\n",
    "import tempfile\n",
    "import multiprocessing\n",
    "import threading\n",
    "import json\n",
    "\n",
    "import numpy as np\n",
    "import pandas as pd\n",
    "\n",
    "import scipy\n",
    "from scipy.io import wavfile\n",
    "from scipy import signal\n",
    "from matplotlib import pyplot as plt\n",
    "from sklearn.decomposition import PCA\n",
    "\n",
    "from importlib import reload\n",
    "\n",
    "logger = logging.getLogger()\n",
    "handler = logging.StreamHandler()\n",
    "formatter = logging.Formatter(\n",
    "        '%(asctime)s %(name)-12s %(levelname)-8s %(message)s')\n",
    "handler.setFormatter(formatter)\n",
    "logger.addHandler(handler)\n",
    "logger.setLevel(logging.INFO)\n",
    "\n",
    "N_JOBS_MAX = multiprocessing.cpu_count()\n",
    "\n",
    "logger.info('Running on {}'.format(socket.gethostname()))"
   ]
  },
  {
   "cell_type": "code",
   "execution_count": 2,
   "metadata": {},
   "outputs": [
    {
     "name": "stderr",
     "output_type": "stream",
     "text": [
      "2023-01-26 09:20:09,860 root         INFO     all modules loaded\n"
     ]
    }
   ],
   "source": [
    "from ceciestunepipe.file import bcistructure as et\n",
    "\n",
    "from ceciestunepipe.util import sglxutil as sglu\n",
    "from ceciestunepipe.util import sglxsync as sy\n",
    "from ceciestunepipe.util import stimutil as su\n",
    "from ceciestunepipe.util import plotutil as pu\n",
    "from ceciestunepipe.util import wavutil as wu\n",
    "from ceciestunepipe.util import fileutil as fu\n",
    "from ceciestunepipe.util import h5util as h5u\n",
    "from ceciestunepipe.util.spike import kilosort as ks\n",
    "from ceciestunepipe.util.sound import spectral as sp\n",
    "from ceciestunepipe.util.spikeextractors.extractors.spikeglxrecordingextractor import readSGLX as rsgl\n",
    "from ceciestunepipe.util.spikeextractors.extractors.spikeglxrecordingextractor import spikeglxrecordingextractor as sglex\n",
    "\n",
    "from ceciestunepipe.pipeline import searchbout as sb\n",
    "\n",
    "import spikeinterface as si\n",
    "import spikeinterface.extractors as se\n",
    "import spikeinterface.toolkit as st\n",
    "import spikeinterface.sorters as ss\n",
    "import spikeinterface.comparison as sc\n",
    "import spikeinterface.widgets as sw\n",
    "logger.info('all modules loaded')"
   ]
  },
  {
   "cell_type": "markdown",
   "metadata": {},
   "source": [
    "### Session parameters"
   ]
  },
  {
   "cell_type": "code",
   "execution_count": 3,
   "metadata": {
    "tags": []
   },
   "outputs": [],
   "source": [
    "reload(et)\n",
    "\n",
    "bird = 's_b1238_22'\n",
    "all_bird_sess = et.list_sessions(bird)\n",
    "#all_bird_sess"
   ]
  },
  {
   "cell_type": "code",
   "execution_count": 4,
   "metadata": {},
   "outputs": [],
   "source": [
    "reload(et)\n",
    "\n",
    "sess_par = {'bird': bird,\n",
    "           'sess': '2022-02-12',\n",
    "           'probe': 'probe_0',\n",
    "           'sort': 'sort_0',\n",
    "           'trial_tag_chan': 0, # what whas the tag channel in the stimulus wave (this should come from meta et. al)\n",
    "            'on_signal': 1, # whether singnal on is hi or lo\n",
    "            'ref_stream': 'ap_0', #what to syncrhonize everything to\n",
    "           'stim_sess': None, # if there was a stimulus epoch, where the stimuli were coming from\n",
    "           'mic_chan': 0, # where the microphone is in the wav_mic.npy array\n",
    "           'pre_chan': 0} # where the pressure is in the wav_adc.npy array\n",
    "\n",
    "\n"
   ]
  },
  {
   "cell_type": "code",
   "execution_count": 5,
   "metadata": {},
   "outputs": [
    {
     "name": "stderr",
     "output_type": "stream",
     "text": [
      "2023-01-26 09:20:09,896 ceciestunepipe.file.bcistructure INFO     {'folders': {'bird': '/mnt/sphere/speech_bci/raw_data/s_b1238_22', 'raw': '/mnt/sphere/speech_bci/raw_data/s_b1238_22/2022-02-12', 'sglx': '/mnt/sphere/speech_bci/raw_data/s_b1238_22/2022-02-12/sglx', 'kwik': '/scratch/earneodo/s_b1238_22/sglx/kwik/2022-02-12', 'processed': '/mnt/sphere/speech_bci/processed_data/s_b1238_22/2022-02-12/sglx', 'derived': '/mnt/sphere/speech_bci/derived_data/s_b1238_22/2022-02-12/sglx', 'tmp': '/scratch/earneodo/tmp', 'msort': '/scratch/earneodo/s_b1238_22/sglx/msort/2022-02-12', 'ksort': '/scratch/earneodo/s_b1238_22/sglx/ksort/2022-02-12/sort_0', 'sort': '/mnt/sphere/speech_bci/derived_data/s_b1238_22/2022-02-12/sglx/sort_0'}, 'files': {'par': '/scratch/earneodo/s_b1238_22/sglx/ksort/2022-02-12/sort_0/params.json', 'set': '/mnt/sphere/speech_bci/raw_data/s_b1238_22/2022-02-12/sglx/settings.isf', 'rig': '/mnt/sphere/speech_bci/raw_data/s_b1238_22/2022-02-12/sglx/rig.json', 'kwd': '/scratch/earneodo/s_b1238_22/sglx/kwik/2022-02-12/stream.kwd', 'kwik': '/scratch/earneodo/s_b1238_22/sglx/kwik/2022-02-12/sort_sort_0/spikes.kwik', 'kwe': '/scratch/earneodo/s_b1238_22/sglx/kwik/2022-02-12/events.kwe', 'dat_mic': '/mnt/sphere/speech_bci/processed_data/s_b1238_22/2022-02-12/sglx/dat_mic.mat', 'dat_ap': '/mnt/sphere/speech_bci/processed_data/s_b1238_22/2022-02-12/sglx/dat_ap.mat', 'allevents': '/mnt/sphere/speech_bci/processed_data/s_b1238_22/2022-02-12/sglx/dat_all.pkl', 'wav_mic': '/mnt/sphere/speech_bci/derived_data/s_b1238_22/2022-02-12/sglx/wav_mic.wav', 'mda_raw': '/scratch/earneodo/s_b1238_22/sglx/msort/2022-02-12/raw.mda', 'bin_raw': '/scratch/earneodo/s_b1238_22/sglx/ksort/2022-02-12/sort_0/raw.bin'}}\n"
     ]
    },
    {
     "data": {
      "text/plain": [
       "['0716_g0', '1141_stim_g0', '1607_g0', '2212_g0']"
      ]
     },
     "execution_count": 5,
     "metadata": {},
     "output_type": "execute_result"
    }
   ],
   "source": [
    "exp_struct = et.get_exp_struct(sess_par['bird'], sess_par['sess'], sort=sess_par['sort'])\n",
    "sess_epochs = et.list_sgl_epochs(sess_par)\n",
    "sess_epochs"
   ]
  },
  {
   "cell_type": "code",
   "execution_count": 6,
   "metadata": {},
   "outputs": [],
   "source": [
    "### pick a session, epoch\n",
    "reload(et)\n",
    "reload(sglu)\n",
    "epoch = sess_epochs[0] #\n",
    "sess_par['epoch'] = epoch\n",
    "\n",
    "exp_struct = et.sgl_struct(sess_par, epoch)\n",
    "sgl_folders, sgl_files = sglu.sgl_file_struct(exp_struct['folders']['sglx'])\n",
    "\n",
    "derived_folder = exp_struct['folders']['derived']"
   ]
  },
  {
   "cell_type": "code",
   "execution_count": 7,
   "metadata": {},
   "outputs": [
    {
     "data": {
      "text/plain": [
       "{'folders': {'bird': '/mnt/sphere/speech_bci/raw_data/s_b1238_22/0716_g0',\n",
       "  'raw': '/mnt/sphere/speech_bci/raw_data/s_b1238_22/2022-02-12/0716_g0',\n",
       "  'sglx': '/mnt/sphere/speech_bci/raw_data/s_b1238_22/2022-02-12/sglx/0716_g0',\n",
       "  'kwik': '/scratch/earneodo/s_b1238_22/sglx/kwik/2022-02-12/0716_g0',\n",
       "  'processed': '/mnt/sphere/speech_bci/processed_data/s_b1238_22/2022-02-12/sglx/0716_g0',\n",
       "  'derived': '/mnt/sphere/speech_bci/derived_data/s_b1238_22/2022-02-12/sglx/0716_g0',\n",
       "  'tmp': '/scratch/earneodo/tmp/0716_g0',\n",
       "  'msort': '/scratch/earneodo/s_b1238_22/sglx/msort/2022-02-12/0716_g0',\n",
       "  'ksort': '/scratch/earneodo/s_b1238_22/sglx/ksort/2022-02-12/0716_g0/sort_0',\n",
       "  'sort': '/mnt/sphere/speech_bci/derived_data/s_b1238_22/2022-02-12/sglx/0716_g0/sort_0'},\n",
       " 'files': {'par': '/scratch/earneodo/s_b1238_22/sglx/ksort/2022-02-12/0716_g0/params.json',\n",
       "  'set': '/mnt/sphere/speech_bci/raw_data/s_b1238_22/2022-02-12/sglx/settings.isf',\n",
       "  'rig': '/mnt/sphere/speech_bci/raw_data/s_b1238_22/2022-02-12/sglx/rig.json',\n",
       "  'kwd': '/scratch/earneodo/s_b1238_22/sglx/kwik/2022-02-12/0716_g0/stream.kwd',\n",
       "  'kwik': '/scratch/earneodo/s_b1238_22/sglx/kwik/2022-02-12/sort_/0716_g0/sort_sort_0/spikes.kwik',\n",
       "  'kwe': '/scratch/earneodo/s_b1238_22/sglx/kwik/2022-02-12/0716_g0/events.kwe',\n",
       "  'dat_mic': '/mnt/sphere/speech_bci/processed_data/s_b1238_22/2022-02-12/sglx/dat_mic.mat',\n",
       "  'dat_ap': '/mnt/sphere/speech_bci/processed_data/s_b1238_22/2022-02-12/sglx/dat_ap.mat',\n",
       "  'allevents': '/mnt/sphere/speech_bci/processed_data/s_b1238_22/2022-02-12/sglx/dat_all.pkl',\n",
       "  'wav_mic': '/mnt/sphere/speech_bci/derived_data/s_b1238_22/2022-02-12/sglx/0716_g0/wav_mic.wav',\n",
       "  'mda_raw': '/scratch/earneodo/s_b1238_22/sglx/msort/2022-02-12/0716_g0/raw.mda',\n",
       "  'bin_raw': '/scratch/earneodo/s_b1238_22/sglx/ksort/2022-02-12/0716_g0/raw.bin'}}"
      ]
     },
     "execution_count": 7,
     "metadata": {},
     "output_type": "execute_result"
    }
   ],
   "source": [
    "exp_struct"
   ]
  },
  {
   "cell_type": "markdown",
   "metadata": {},
   "source": [
    "### load epoch files"
   ]
  },
  {
   "cell_type": "code",
   "execution_count": 8,
   "metadata": {},
   "outputs": [
    {
     "name": "stderr",
     "output_type": "stream",
     "text": [
      "2023-01-26 09:20:09,941 root         INFO     Loading sort files from /mnt/sphere/speech_bci/derived_data/s_b1238_22/2022-02-12/sglx/0716_g0/sort_0\n",
      "2023-01-26 09:20:10,928 root         INFO     loading synced bout and dict and pandas dataframe from /mnt/sphere/speech_bci/derived_data/s_b1238_22/2022-02-12/sglx/0716_g0/bout_dict_ap0.pkl, /mnt/sphere/speech_bci/derived_data/s_b1238_22/2022-02-12/sglx/0716_g0/bout_pd_ap0.pkl\n"
     ]
    }
   ],
   "source": [
    "### get the spikes df, clu df, bouts and syncrhonization files\n",
    "\n",
    "## the sort\n",
    "sort_folder = os.path.join(exp_struct['folders']['derived'], sess_par['sort'])\n",
    "\n",
    "logger.info('Loading sort files from ' + sort_folder)\n",
    "\n",
    "clu_df_path = os.path.join(sort_folder, 'clu_df.pickle')\n",
    "clu_df = pd.read_pickle(clu_df_path)\n",
    "\n",
    "spk_df_path = os.path.join(sort_folder, 'spk_df.pickle')\n",
    "spk_df = pd.read_pickle(spk_df_path)\n",
    "\n",
    "\n",
    "## the bout/stim\n",
    "bout_dict_path = os.path.join(exp_struct['folders']['derived'], 'bout_dict_ap0.pkl')\n",
    "bout_df_path = os.path.join(exp_struct['folders']['derived'], 'bout_pd_ap0.pkl')\n",
    "\n",
    "logger.info('loading synced bout and dict and pandas dataframe from {}, {}'.format(bout_dict_path, bout_df_path))\n",
    "with open(bout_dict_path, 'rb') as handle:\n",
    "    bout_dict = pickle.load(handle)\n",
    "bout_df = pd.read_pickle(bout_df_path)\n",
    "\n",
    "#load the mic, pressure if any\n",
    "mic_path = os.path.join(exp_struct['folders']['derived'], 'wav_mic.wav')\n",
    "adc_path = os.path.join(exp_struct['folders']['derived'], 'wav_adc.wav')\n",
    "\n",
    "s_f_wav, mic_stream = wu.read_wav_chan(exp_struct['files']['wav_mic'], sess_par['mic_chan'])\n",
    "\n",
    "#s_f_wav, pre_stream = wu.read_wav_chan(adc_path, sess_par['pre_chan'])\n",
    "pre_stream = np.abs(mic_stream)\n",
    "\n",
    "ap_sf = bout_dict['s_f_ap_0']"
   ]
  },
  {
   "cell_type": "markdown",
   "metadata": {},
   "source": [
    "### set other parameters"
   ]
  },
  {
   "cell_type": "code",
   "execution_count": 9,
   "metadata": {},
   "outputs": [],
   "source": [
    "# cut_off for spike filer\n",
    "spk_fr_cutoff = 0.00001 #spikes/sec\n",
    "bout_dict['nuclei_list'] = ['ncm']\n",
    "\n",
    "# collection edges of the bouts\n",
    "bout_dict['t_pre'] = -10\n",
    "bout_dict['t_post'] = 10\n",
    "\n",
    "# specify fitting parameters\n",
    "bout_dict['gpfa_bin_ms'] = 15\n",
    "#bin_size = gpfa_bin_ms * pq.ms\n",
    "bout_dict['gpfa_xdim'] = 8\n",
    "\n",
    "bout_dict['h5_fname'] = 'bout_df_gpfa-{}ms_longtail.h5'.format(bout_dict['gpfa_bin_ms'])"
   ]
  },
  {
   "cell_type": "code",
   "execution_count": 10,
   "metadata": {},
   "outputs": [
    {
     "data": {
      "text/plain": [
       "'/mnt/sphere/speech_bci/derived_data/s_b1238_22/2022-02-12/sglx/0716_g0/bout_dict_ap0.pkl'"
      ]
     },
     "execution_count": 10,
     "metadata": {},
     "output_type": "execute_result"
    }
   ],
   "source": [
    "bout_dict_path"
   ]
  },
  {
   "cell_type": "code",
   "execution_count": 11,
   "metadata": {},
   "outputs": [],
   "source": [
    "# #load the mic, pressure if any\n",
    "# mic_path = os.path.join(exp_struct['folders']['derived'], 'wav_mic.npy')\n",
    "# adc_path = os.path.join(exp_struct['folders']['derived'], 'wav_adc.npy')\n",
    "\n",
    "# mic_stream = np.memmap(adc_path)"
   ]
  },
  {
   "cell_type": "code",
   "execution_count": 12,
   "metadata": {},
   "outputs": [
    {
     "data": {
      "text/plain": [
       "Index(['start_ms', 'end_ms', 'start_sample', 'end_sample', 'p_step', 'rms_p',\n",
       "       'peak_p', 'bout_check', 'file', 'len_ms', 'syl_in', 'n_syl', 'peaks_p',\n",
       "       'n_peaks', 'l_p_ratio', 'waveform', 'confusing', 'valid_waveform',\n",
       "       'valid', 'spectrogram', 'start_ms_ap_0', 'start_sample_ap_0',\n",
       "       'start_sample_naive'],\n",
       "      dtype='object')"
      ]
     },
     "execution_count": 12,
     "metadata": {},
     "output_type": "execute_result"
    }
   ],
   "source": [
    "bout_df.keys()"
   ]
  },
  {
   "cell_type": "code",
   "execution_count": 13,
   "metadata": {},
   "outputs": [
    {
     "data": {
      "text/plain": [
       "dict_keys(['s_f', 's_f_nidq', 's_f_ap_0', 'start_ms', 'len_ms', 'start_sample_naive', 'start_sample_nidq', 'start_sample_wav', 'start_ms_ap_0', 'start_sample_ap_0', 'end_sample_ap_0', 't_pre', 't_post', 'gpfa_bin_ms', 'gpfa_xdim', 'h5_fname'])"
      ]
     },
     "execution_count": 13,
     "metadata": {},
     "output_type": "execute_result"
    }
   ],
   "source": [
    "bout_dict.keys()"
   ]
  },
  {
   "cell_type": "code",
   "execution_count": 14,
   "metadata": {},
   "outputs": [
    {
     "data": {
      "text/html": [
       "<div>\n",
       "<style scoped>\n",
       "    .dataframe tbody tr th:only-of-type {\n",
       "        vertical-align: middle;\n",
       "    }\n",
       "\n",
       "    .dataframe tbody tr th {\n",
       "        vertical-align: top;\n",
       "    }\n",
       "\n",
       "    .dataframe thead th {\n",
       "        text-align: right;\n",
       "    }\n",
       "</style>\n",
       "<table border=\"1\" class=\"dataframe\">\n",
       "  <thead>\n",
       "    <tr style=\"text-align: right;\">\n",
       "      <th></th>\n",
       "      <th>times</th>\n",
       "      <th>clusters</th>\n",
       "      <th>cluster_id</th>\n",
       "      <th>nucelus</th>\n",
       "      <th>main_chan</th>\n",
       "      <th>kslabel</th>\n",
       "    </tr>\n",
       "  </thead>\n",
       "  <tbody>\n",
       "    <tr>\n",
       "      <th>0</th>\n",
       "      <td>192</td>\n",
       "      <td>487</td>\n",
       "      <td>487</td>\n",
       "      <td>ncm</td>\n",
       "      <td>359</td>\n",
       "      <td>mua</td>\n",
       "    </tr>\n",
       "    <tr>\n",
       "      <th>1</th>\n",
       "      <td>239</td>\n",
       "      <td>45</td>\n",
       "      <td>45</td>\n",
       "      <td>NaN</td>\n",
       "      <td>56</td>\n",
       "      <td>mua</td>\n",
       "    </tr>\n",
       "  </tbody>\n",
       "</table>\n",
       "</div>"
      ],
      "text/plain": [
       "   times  clusters  cluster_id nucelus  main_chan kslabel\n",
       "0    192       487         487     ncm        359     mua\n",
       "1    239        45          45     NaN         56     mua"
      ]
     },
     "execution_count": 14,
     "metadata": {},
     "output_type": "execute_result"
    }
   ],
   "source": [
    "spk_df.head(2)"
   ]
  },
  {
   "cell_type": "code",
   "execution_count": 15,
   "metadata": {},
   "outputs": [
    {
     "data": {
      "text/html": [
       "<div>\n",
       "<style scoped>\n",
       "    .dataframe tbody tr th:only-of-type {\n",
       "        vertical-align: middle;\n",
       "    }\n",
       "\n",
       "    .dataframe tbody tr th {\n",
       "        vertical-align: top;\n",
       "    }\n",
       "\n",
       "    .dataframe thead th {\n",
       "        text-align: right;\n",
       "    }\n",
       "</style>\n",
       "<table border=\"1\" class=\"dataframe\">\n",
       "  <thead>\n",
       "    <tr style=\"text-align: right;\">\n",
       "      <th></th>\n",
       "      <th>cluster_id</th>\n",
       "      <th>KSLabel</th>\n",
       "      <th>group</th>\n",
       "      <th>MSLabel</th>\n",
       "      <th>has_template</th>\n",
       "      <th>template</th>\n",
       "      <th>max_chans</th>\n",
       "      <th>main_chan</th>\n",
       "      <th>main_7</th>\n",
       "      <th>main_wav_7</th>\n",
       "      <th>nucleus</th>\n",
       "    </tr>\n",
       "  </thead>\n",
       "  <tbody>\n",
       "    <tr>\n",
       "      <th>40</th>\n",
       "      <td>40</td>\n",
       "      <td>good</td>\n",
       "      <td>good</td>\n",
       "      <td>None</td>\n",
       "      <td>True</td>\n",
       "      <td>[[0.0, 0.0, 0.0, 0.0, 0.0, 0.0, 0.0, 0.0, 0.0,...</td>\n",
       "      <td>[52, 55, 63, 54, 58, 51, 49, 47, 59, 57, 56, 6...</td>\n",
       "      <td>52</td>\n",
       "      <td>[49, 51, 52, 54, 55, 58, 63]</td>\n",
       "      <td>[[0.0, 0.0, 0.0, 0.0, 0.0, 0.0, 0.0], [0.0, 0....</td>\n",
       "      <td>NaN</td>\n",
       "    </tr>\n",
       "    <tr>\n",
       "      <th>41</th>\n",
       "      <td>41</td>\n",
       "      <td>good</td>\n",
       "      <td>good</td>\n",
       "      <td>None</td>\n",
       "      <td>True</td>\n",
       "      <td>[[0.0, 0.0, 0.0, 0.0, 0.0, 0.0, 0.0, 0.0, 0.0,...</td>\n",
       "      <td>[55, 53, 52, 63, 49, 61, 50, 51, 54, 57, 58, 4...</td>\n",
       "      <td>55</td>\n",
       "      <td>[49, 50, 52, 53, 55, 61, 63]</td>\n",
       "      <td>[[0.0, 0.0, 0.0, 0.0, 0.0, 0.0, 0.0], [0.0, 0....</td>\n",
       "      <td>NaN</td>\n",
       "    </tr>\n",
       "  </tbody>\n",
       "</table>\n",
       "</div>"
      ],
      "text/plain": [
       "    cluster_id KSLabel group MSLabel  has_template  \\\n",
       "40          40    good  good    None          True   \n",
       "41          41    good  good    None          True   \n",
       "\n",
       "                                             template  \\\n",
       "40  [[0.0, 0.0, 0.0, 0.0, 0.0, 0.0, 0.0, 0.0, 0.0,...   \n",
       "41  [[0.0, 0.0, 0.0, 0.0, 0.0, 0.0, 0.0, 0.0, 0.0,...   \n",
       "\n",
       "                                            max_chans  main_chan  \\\n",
       "40  [52, 55, 63, 54, 58, 51, 49, 47, 59, 57, 56, 6...         52   \n",
       "41  [55, 53, 52, 63, 49, 61, 50, 51, 54, 57, 58, 4...         55   \n",
       "\n",
       "                          main_7  \\\n",
       "40  [49, 51, 52, 54, 55, 58, 63]   \n",
       "41  [49, 50, 52, 53, 55, 61, 63]   \n",
       "\n",
       "                                           main_wav_7 nucleus  \n",
       "40  [[0.0, 0.0, 0.0, 0.0, 0.0, 0.0, 0.0], [0.0, 0....     NaN  \n",
       "41  [[0.0, 0.0, 0.0, 0.0, 0.0, 0.0, 0.0], [0.0, 0....     NaN  "
      ]
     },
     "execution_count": 15,
     "metadata": {},
     "output_type": "execute_result"
    }
   ],
   "source": [
    "clu_df.head(2)"
   ]
  },
  {
   "cell_type": "code",
   "execution_count": 16,
   "metadata": {},
   "outputs": [
    {
     "data": {
      "text/plain": [
       "0"
      ]
     },
     "execution_count": 16,
     "metadata": {},
     "output_type": "execute_result"
    }
   ],
   "source": [
    "def clu_n_spike(spk_df, cluster_id):\n",
    "    spk_clu = spk_df[spk_df['cluster_id']==cluster_id]\n",
    "    \n",
    "    n_spike = spk_clu.index.size\n",
    "    return n_spike\n",
    "\n",
    "clu_n_spike(spk_df, 564)"
   ]
  },
  {
   "cell_type": "code",
   "execution_count": 17,
   "metadata": {},
   "outputs": [],
   "source": [
    "def fill_clu_meta(clu_df, spk_df):\n",
    "    # mean FR\n",
    "    clu_df['n_spike'] = clu_df['cluster_id'].apply(lambda x: clu_n_spike(spk_df, x))\n",
    "\n",
    "fill_clu_meta(clu_df, spk_df)"
   ]
  },
  {
   "cell_type": "code",
   "execution_count": 18,
   "metadata": {},
   "outputs": [
    {
     "data": {
      "text/plain": [
       "4743.507957860245"
      ]
     },
     "execution_count": 18,
     "metadata": {},
     "output_type": "execute_result"
    }
   ],
   "source": [
    "t_rec = mic_stream.shape[0]/bout_dict['s_f']\n",
    "total_ap_samp = t_rec * bout_dict['s_f_ap_0']\n",
    "\n",
    "#total_ap_samp\n",
    "n_spk_cutoff = total_ap_samp * spk_fr_cutoff\n",
    "n_spk_cutoff"
   ]
  },
  {
   "cell_type": "markdown",
   "metadata": {},
   "source": [
    "#### just drop the units without spikes"
   ]
  },
  {
   "cell_type": "code",
   "execution_count": 19,
   "metadata": {},
   "outputs": [],
   "source": [
    "clu_df = clu_df[clu_df['n_spike']>n_spk_cutoff]\n",
    "clu_df.reset_index(inplace=True, drop=True)"
   ]
  },
  {
   "cell_type": "markdown",
   "metadata": {},
   "source": [
    "### Visualize a bout together with the neural traces"
   ]
  },
  {
   "cell_type": "code",
   "execution_count": 20,
   "metadata": {},
   "outputs": [],
   "source": [
    "plt.rcParams['lines.linewidth'] = 0.1"
   ]
  },
  {
   "cell_type": "code",
   "execution_count": 21,
   "metadata": {},
   "outputs": [],
   "source": [
    "axes_pars = {'axes.labelpad': 5,\n",
    "             'axes.titlepad': 5,\n",
    "             'axes.titlesize': 'small',\n",
    "             'axes.grid': False,\n",
    "             'axes.xmargin': 0,\n",
    "             'axes.ymargin': 0}\n",
    "\n",
    "plt.rcParams.update(axes_pars)"
   ]
  },
  {
   "cell_type": "markdown",
   "metadata": {},
   "source": [
    "### collect all the bouts"
   ]
  },
  {
   "cell_type": "code",
   "execution_count": 22,
   "metadata": {},
   "outputs": [
    {
     "data": {
      "text/plain": [
       "dict_keys(['s_f', 's_f_nidq', 's_f_ap_0', 'start_ms', 'len_ms', 'start_sample_naive', 'start_sample_nidq', 'start_sample_wav', 'start_ms_ap_0', 'start_sample_ap_0', 'end_sample_ap_0', 't_pre', 't_post', 'gpfa_bin_ms', 'gpfa_xdim', 'h5_fname'])"
      ]
     },
     "execution_count": 22,
     "metadata": {},
     "output_type": "execute_result"
    }
   ],
   "source": [
    "bout_dict.keys()"
   ]
  },
  {
   "cell_type": "code",
   "execution_count": 23,
   "metadata": {},
   "outputs": [],
   "source": [
    "def collect_bouts_df(bout_df, bout_dict, spk_df, clu_list, mic_stream, pre_stream, t_pre=-2, t_post=2):\n",
    "    # get t_pre, t_post in samples for wav, ap\n",
    "    # tet start_end samples for each\n",
    "    # collect the spikes\n",
    "    # collect the streams\n",
    "    bout_dict['t_pre'] = t_pre\n",
    "    bout_dict['t_post'] = t_post\n",
    "    \n",
    "    sf_ap = bout_dict['s_f_ap_0']\n",
    "    sf = bout_dict['s_f']\n",
    "    \n",
    "    pre_ap, post_ap = [int(x * sf_ap) for x in [t_pre, t_post]]\n",
    "    pre_wav, post_wav = [int(x * sf) for x in [t_pre, t_post]]\n",
    "    \n",
    "    bout_df['len_sample_ap_0'] = (bout_df['len_ms'] * sf_ap * 0.001).astype(int)\n",
    "    bout_df['end_sample_ap_0'] = bout_df['start_sample_ap_0'] + bout_df['len_sample_ap_0']\n",
    "\n",
    "    bout_df['spk_arr'] = bout_df.apply(lambda x: ks.get_window_spikes(spk_df, clu_list, \n",
    "                                                                      x['start_sample_ap_0'] + pre_ap, \n",
    "                                                                      x['end_sample_ap_0'] + post_ap), \n",
    "                                       axis=1)\n",
    "\n",
    "    bout_df['mic_arr'] = bout_df.apply(lambda x: mic_stream[x['start_sample']+pre_wav: x['end_sample']+post_wav], \n",
    "                                       axis=1)\n",
    "    bout_df['pre_arr'] = bout_df.apply(lambda x: pre_stream[x['start_sample']+pre_wav: x['end_sample']+post_wav], \n",
    "                                       axis=1)\n",
    "    \n",
    "    # while we are at it, compute the spectrograms (ms scale)\n",
    "    bout_df['sxx'] = bout_df['mic_arr'].apply(lambda x: sp.ms_spectrogram(x.flatten(), sf))\n",
    "    \n",
    "    # split the spectrogram to be able to work with hdf5 save/load.\n",
    "    # don't want to be saving tuples, rather arrays\n",
    "    bout_df[['f_xx', 't_xx', 's_xx']] = pd.DataFrame(bout_df['sxx'].tolist(), index=bout_df.index)\n",
    "    \n",
    "    bout_df['clu_id_arr'] = [clu_list for x in bout_df.index]\n",
    "    \n",
    "    return bout_df"
   ]
  },
  {
   "cell_type": "code",
   "execution_count": 24,
   "metadata": {},
   "outputs": [],
   "source": [
    "### one spk_arr\n",
    "# mot_idx = 0\n",
    "\n",
    "# start_ap = bout_df.loc[mot_idx, 'start_sample_ap_0']\n",
    "# end_ap = bout_df.loc[mot_idx, 'end_sample_ap_0']\n",
    "\n",
    "# spk_arr = ks.get_window_spikes(spk_df, clu_list, start_ap - 60000 , end_ap+60000)"
   ]
  },
  {
   "cell_type": "code",
   "execution_count": 25,
   "metadata": {},
   "outputs": [
    {
     "name": "stderr",
     "output_type": "stream",
     "text": [
      "/mnt/cube/earneodo/repos/ceciestunepipe/ceciestunepipe/util/spike/kilosort.py:112: FutureWarning: Boolean inputs to the `inclusive` argument are deprecated in favour of `both` or `neither`.\n",
      "  spk_t = spk_df.loc[spk_df['times'].between(onset, offset, inclusive=False)]\n"
     ]
    }
   ],
   "source": [
    "clu_list = np.unique(clu_df.loc[(clu_df['group']=='good') & (clu_df['nucleus'].isin(bout_dict['nuclei_list']) & (clu_df['n_spike']>n_spk_cutoff)), \n",
    "                                'cluster_id'])\n",
    "\n",
    "bout_df = collect_bouts_df(bout_df, bout_dict, spk_df, clu_list, mic_stream, pre_stream, \n",
    "                           t_pre=bout_dict['t_pre'], t_post=bout_dict['t_post'])"
   ]
  },
  {
   "cell_type": "code",
   "execution_count": 26,
   "metadata": {},
   "outputs": [],
   "source": [
    "ms_sample_ap = int(1*0.001*bout_dict['s_f_ap_0'])\n",
    "bout_df['spk_ms_arr'] = bout_df['spk_arr'].apply(lambda z: np.nan_to_num(pu.coarse(z, ms_sample_ap)))"
   ]
  },
  {
   "cell_type": "code",
   "execution_count": 27,
   "metadata": {},
   "outputs": [
    {
     "data": {
      "text/plain": [
       "20"
      ]
     },
     "execution_count": 27,
     "metadata": {},
     "output_type": "execute_result"
    }
   ],
   "source": [
    "bout_df.index.size"
   ]
  },
  {
   "cell_type": "code",
   "execution_count": 28,
   "metadata": {},
   "outputs": [],
   "source": [
    "def quick_env(x: np.array, avg_bin: int) -> np.array:\n",
    "    x_env = np.convolve(np.abs(x), np.ones(avg_bin), mode='same')\n",
    "    return np.log(x_env)\n",
    "\n",
    "env_ms = 10\n",
    "env_bin = int(env_ms * 0.001 * bout_dict['s_f'])\n",
    "\n",
    "bout_df['pre_arr'] = bout_df['mic_arr'].apply(lambda x: quick_env(x, env_bin))"
   ]
  },
  {
   "cell_type": "markdown",
   "metadata": {},
   "source": [
    "##### sanity check, plot one of the bout-rasters"
   ]
  },
  {
   "cell_type": "code",
   "execution_count": 29,
   "metadata": {
    "tags": []
   },
   "outputs": [
    {
     "data": {
      "image/png": "[encoded data removed]",
      "text/plain": [
       "<Figure size 720x1584 with 3 Axes>"
      ]
     },
     "metadata": {
      "needs_background": "light"
     },
     "output_type": "display_data"
    }
   ],
   "source": [
    "def plot_bout(bout_series, bout_dict):\n",
    "    # get the raster, the spectrogram and the pressure\n",
    "    \n",
    "    t_pre = bout_dict['t_pre']\n",
    "    s_f_ap = bout_dict['s_f_ap_0']\n",
    "    s_f = bout_dict['s_f']\n",
    "    \n",
    "    mic_arr = bout_series['mic_arr']\n",
    "    pre_arr = bout_series['pre_arr']\n",
    "    spk_arr = bout_series['spk_ms_arr']\n",
    "    # plot\n",
    "    \n",
    "    fig, ax = plt.subplots(nrows=3, gridspec_kw={'height_ratios': [1, 1, 10]}, figsize=(10, 22))\n",
    "\n",
    "    f, t, sxx = sp.ms_spectrogram(mic_arr.flatten(), s_f)\n",
    "\n",
    "    #ax[0].plot(mic_arr.flatten())\n",
    "    ax[0].pcolormesh(t, f, np.log(sxx), cmap='inferno')\n",
    "    ax[1].plot(pre_arr.flatten());\n",
    "    pu.plot_as_raster(spk_arr, t_0=int(-t_pre*1000), ax=ax[2])\n",
    "    \n",
    "plot_bout(bout_df.iloc[0], bout_dict)"
   ]
  },
  {
   "cell_type": "markdown",
   "metadata": {},
   "source": [
    "### get all the gpfa"
   ]
  },
  {
   "cell_type": "markdown",
   "metadata": {},
   "source": [
    "#### Make two separate gpfa fits, one for the vocal part of the bout and one for the 'preparatory' part"
   ]
  },
  {
   "cell_type": "code",
   "execution_count": 30,
   "metadata": {},
   "outputs": [],
   "source": [
    "# #complete bouts\n",
    "# bout_df['spk_train'] = bout_df['spk_arr'].apply(lambda x: spike_trains_from_spk_arr(x, bout_dict['s_f_ap_0']))\n",
    "# all_spk_train_list = list(bout_df['spk_train'])\n",
    "\n",
    "# #\n",
    "# bout_spk_train_list = bout_df['spk_arr'].apply(lambda x: spike_trains_from_spk_arr(x, bout_dict['s_f_ap_0'],\n",
    "#                                                                                    t_pre=t_pre, \n",
    "#                                                                                     t_post=t_post)\n",
    "#                                               )"
   ]
  },
  {
   "cell_type": "code",
   "execution_count": 31,
   "metadata": {},
   "outputs": [],
   "source": [
    "# prep_spk_train_list = bout_df['spk_arr'].apply(lambda x: spike_trains_from_spk_arr(x, bout_dict['s_f_ap_0'],\n",
    "#                                                                                    t_pre=0, \n",
    "#                                                                                     t_stop=-t_pre)\n",
    "#                                               )"
   ]
  },
  {
   "cell_type": "markdown",
   "metadata": {},
   "source": [
    "#### fit the vocal part, project all to this fit"
   ]
  },
  {
   "cell_type": "code",
   "execution_count": 32,
   "metadata": {
    "jupyter": {
     "outputs_hidden": true
    },
    "tags": []
   },
   "outputs": [],
   "source": [
    "# gpfa_2dim = GPFA(bin_size=bin_size, x_dim=latent_dimensionality)\n",
    "\n",
    "# #fit\n",
    "# gpfa_2dim.fit(bout_spk_train_list)\n",
    "\n",
    "# #project\n",
    "# bout_fit_list = gpfa_2dim.transform(all_spk_train_list)\n",
    "\n",
    "# # get to the dataframe\n",
    "# bout_df['spk_gpf'] = bout_fit_list"
   ]
  },
  {
   "cell_type": "markdown",
   "metadata": {},
   "source": [
    "#### fit preparatory part, project all to this fit"
   ]
  },
  {
   "cell_type": "code",
   "execution_count": 33,
   "metadata": {
    "jupyter": {
     "outputs_hidden": true
    },
    "tags": []
   },
   "outputs": [],
   "source": [
    "# gpfa_prep = GPFA(bin_size=bin_size, x_dim=latent_dimensionality)\n",
    "\n",
    "# #fit\n",
    "# gpfa_prep.fit(prep_spk_train_list)\n",
    "\n",
    "# #project\n",
    "# prep_fit_list = gpfa_prep.transform(all_spk_train_list)\n",
    "\n",
    "# # get to the dataframe\n",
    "# bout_df['spk_gpf-prep'] = prep_fit_list"
   ]
  },
  {
   "cell_type": "markdown",
   "metadata": {},
   "source": [
    "### alternative gpfas"
   ]
  },
  {
   "cell_type": "code",
   "execution_count": 34,
   "metadata": {},
   "outputs": [],
   "source": [
    "from ceciestunepipe.util.dimension import gpfa"
   ]
  },
  {
   "cell_type": "markdown",
   "metadata": {},
   "source": [
    "# make 4 different fits\n",
    "- one full\n",
    "- one to the prepparatory activity\n",
    "- on to just the bout\n",
    "- one to the post-bout\n"
   ]
  },
  {
   "cell_type": "code",
   "execution_count": 35,
   "metadata": {},
   "outputs": [],
   "source": [
    "spk_train_kwargs_dict = {}\n",
    "\n",
    "#full\n",
    "#spk_train_kwargs_dict['full'] = {'s_f': bout_dict['s_f_ap_0']}\n",
    "\n",
    "#pre\n",
    "#spk_train_kwargs_dict['pre'] = {'s_f': bout_dict['s_f_ap_0'], 't_pre': 0, 't_stop': -t_pre}\n",
    "\n",
    "#bout\n",
    "spk_train_kwargs_dict['bout'] = {'s_f': bout_dict['s_f_ap_0'], 't_pre': bout_dict['t_pre'], \n",
    "                                 't_post': bout_dict['t_post']}\n",
    "\n",
    "#post\n",
    "# fuck you\n",
    "#spk_train_kwargs['bout'] = {'s_f': bout_dict['s_f_ap_0'], t_pre=t_pre, t_post=t_post}"
   ]
  },
  {
   "cell_type": "code",
   "execution_count": 36,
   "metadata": {},
   "outputs": [
    {
     "data": {
      "text/plain": [
       "(20, 34)"
      ]
     },
     "execution_count": 36,
     "metadata": {},
     "output_type": "execute_result"
    }
   ],
   "source": [
    "bout_df.shape"
   ]
  },
  {
   "cell_type": "code",
   "execution_count": 37,
   "metadata": {},
   "outputs": [],
   "source": [
    "bout_df = bout_df"
   ]
  },
  {
   "cell_type": "code",
   "execution_count": 46,
   "metadata": {},
   "outputs": [
    {
     "name": "stderr",
     "output_type": "stream",
     "text": [
      "2023-01-26 11:26:39,926 root         INFO     Getting spectrograms\n",
      "2023-01-26 11:26:53,285 root         INFO     Filtering pressure\n",
      "2023-01-26 11:26:57,426 root         INFO     Fitting for bout\n",
      "2023-01-26 11:26:57,427 ceciestunepipe.util.dimension.gpfa WARNING  Will use sampling frequency of ap_0 channel for spike trains\n",
      "2023-01-26 11:26:57,427 ceciestunepipe.util.dimension.gpfa INFO     Collecting spike trains\n",
      "2023-01-26 11:26:58,746 ceciestunepipe.util.dimension.gpfa INFO     Fitting gpfa model\n",
      "/mnt/cube/earneodo/envs/pakhi/ceciestunepipe/lib/python3.8/site-packages/elephant/conversion.py:1168: UserWarning: Binning discarded 1 last spike(s) of the input spiketrain\n",
      "  warnings.warn(\"Binning discarded {} last spike(s) of the \"\n",
      "/mnt/cube/earneodo/envs/pakhi/ceciestunepipe/lib/python3.8/site-packages/elephant/conversion.py:1168: UserWarning: Binning discarded 4 last spike(s) of the input spiketrain\n",
      "  warnings.warn(\"Binning discarded {} last spike(s) of the \"\n",
      "/mnt/cube/earneodo/envs/pakhi/ceciestunepipe/lib/python3.8/site-packages/elephant/conversion.py:1168: UserWarning: Binning discarded 6 last spike(s) of the input spiketrain\n",
      "  warnings.warn(\"Binning discarded {} last spike(s) of the \"\n",
      "/mnt/cube/earneodo/envs/pakhi/ceciestunepipe/lib/python3.8/site-packages/elephant/conversion.py:1168: UserWarning: Binning discarded 3 last spike(s) of the input spiketrain\n",
      "  warnings.warn(\"Binning discarded {} last spike(s) of the \"\n",
      "/mnt/cube/earneodo/envs/pakhi/ceciestunepipe/lib/python3.8/site-packages/elephant/conversion.py:1168: UserWarning: Binning discarded 5 last spike(s) of the input spiketrain\n",
      "  warnings.warn(\"Binning discarded {} last spike(s) of the \"\n",
      "/mnt/cube/earneodo/envs/pakhi/ceciestunepipe/lib/python3.8/site-packages/elephant/conversion.py:1168: UserWarning: Binning discarded 7 last spike(s) of the input spiketrain\n",
      "  warnings.warn(\"Binning discarded {} last spike(s) of the \"\n",
      "/mnt/cube/earneodo/envs/pakhi/ceciestunepipe/lib/python3.8/site-packages/elephant/conversion.py:1168: UserWarning: Binning discarded 9 last spike(s) of the input spiketrain\n",
      "  warnings.warn(\"Binning discarded {} last spike(s) of the \"\n",
      "/mnt/cube/earneodo/envs/pakhi/ceciestunepipe/lib/python3.8/site-packages/elephant/conversion.py:1168: UserWarning: Binning discarded 2 last spike(s) of the input spiketrain\n",
      "  warnings.warn(\"Binning discarded {} last spike(s) of the \"\n",
      "/mnt/cube/earneodo/envs/pakhi/ceciestunepipe/lib/python3.8/site-packages/elephant/conversion.py:1168: UserWarning: Binning discarded 14 last spike(s) of the input spiketrain\n",
      "  warnings.warn(\"Binning discarded {} last spike(s) of the \"\n"
     ]
    },
    {
     "name": "stdout",
     "output_type": "stream",
     "text": [
      "Initializing parameters using factor analysis...\n",
      "\n",
      "Fitting GPFA model...\n"
     ]
    },
    {
     "name": "stderr",
     "output_type": "stream",
     "text": [
      "2023-01-26 11:30:29,820 ceciestunepipe.util.dimension.gpfa INFO     Projecting to latent dimensions\n",
      "/mnt/cube/earneodo/envs/pakhi/ceciestunepipe/lib/python3.8/site-packages/elephant/conversion.py:1168: UserWarning: Binning discarded 1 last spike(s) of the input spiketrain\n",
      "  warnings.warn(\"Binning discarded {} last spike(s) of the \"\n",
      "/mnt/cube/earneodo/envs/pakhi/ceciestunepipe/lib/python3.8/site-packages/elephant/conversion.py:1168: UserWarning: Binning discarded 4 last spike(s) of the input spiketrain\n",
      "  warnings.warn(\"Binning discarded {} last spike(s) of the \"\n",
      "/mnt/cube/earneodo/envs/pakhi/ceciestunepipe/lib/python3.8/site-packages/elephant/conversion.py:1168: UserWarning: Binning discarded 6 last spike(s) of the input spiketrain\n",
      "  warnings.warn(\"Binning discarded {} last spike(s) of the \"\n",
      "/mnt/cube/earneodo/envs/pakhi/ceciestunepipe/lib/python3.8/site-packages/elephant/conversion.py:1168: UserWarning: Binning discarded 3 last spike(s) of the input spiketrain\n",
      "  warnings.warn(\"Binning discarded {} last spike(s) of the \"\n",
      "/mnt/cube/earneodo/envs/pakhi/ceciestunepipe/lib/python3.8/site-packages/elephant/conversion.py:1168: UserWarning: Binning discarded 5 last spike(s) of the input spiketrain\n",
      "  warnings.warn(\"Binning discarded {} last spike(s) of the \"\n",
      "/mnt/cube/earneodo/envs/pakhi/ceciestunepipe/lib/python3.8/site-packages/elephant/conversion.py:1168: UserWarning: Binning discarded 7 last spike(s) of the input spiketrain\n",
      "  warnings.warn(\"Binning discarded {} last spike(s) of the \"\n",
      "/mnt/cube/earneodo/envs/pakhi/ceciestunepipe/lib/python3.8/site-packages/elephant/conversion.py:1168: UserWarning: Binning discarded 9 last spike(s) of the input spiketrain\n",
      "  warnings.warn(\"Binning discarded {} last spike(s) of the \"\n",
      "/mnt/cube/earneodo/envs/pakhi/ceciestunepipe/lib/python3.8/site-packages/elephant/conversion.py:1168: UserWarning: Binning discarded 2 last spike(s) of the input spiketrain\n",
      "  warnings.warn(\"Binning discarded {} last spike(s) of the \"\n",
      "/mnt/cube/earneodo/envs/pakhi/ceciestunepipe/lib/python3.8/site-packages/elephant/conversion.py:1168: UserWarning: Binning discarded 14 last spike(s) of the input spiketrain\n",
      "  warnings.warn(\"Binning discarded {} last spike(s) of the \"\n",
      "2023-01-26 12:04:15,343 ceciestunepipe.util.dimension.gpfa INFO     Done projecting\n",
      "2023-01-26 12:04:15,597 root         INFO     Saving the gpfa, pca results onto an hdf5 file /mnt/sphere/speech_bci/processed_data/s_b1238_22/2022-02-12/sglx/0716_g0/bout_df_gpfa-15ms_longtail.h5\n"
     ]
    },
    {
     "ename": "TypeError",
     "evalue": "expected str, bytes or os.PathLike object, not list",
     "output_type": "error",
     "traceback": [
      "\u001b[0;31m---------------------------------------------------------------------------\u001b[0m",
      "\u001b[0;31mTypeError\u001b[0m                                 Traceback (most recent call last)",
      "Input \u001b[0;32mIn [46]\u001b[0m, in \u001b[0;36m<cell line: 66>\u001b[0;34m()\u001b[0m\n\u001b[1;32m     63\u001b[0m gpfa_thread \u001b[38;5;241m=\u001b[39m threading\u001b[38;5;241m.\u001b[39mThread(target\u001b[38;5;241m=\u001b[39mfit_bout_gpfa, \n\u001b[1;32m     64\u001b[0m                        args\u001b[38;5;241m=\u001b[39m(bout_df, bout_dict, spk_train_kwargs_dict, bout_dict[\u001b[38;5;124m'\u001b[39m\u001b[38;5;124mh5_fname\u001b[39m\u001b[38;5;124m'\u001b[39m]))\n\u001b[1;32m     65\u001b[0m \u001b[38;5;66;03m#gpfa_thread.start()\u001b[39;00m\n\u001b[0;32m---> 66\u001b[0m \u001b[43mfit_bout_gpfa\u001b[49m\u001b[43m(\u001b[49m\u001b[43mbout_df\u001b[49m\u001b[43m,\u001b[49m\u001b[43m \u001b[49m\u001b[43mbout_dict\u001b[49m\u001b[43m,\u001b[49m\u001b[43m \u001b[49m\u001b[43mspk_train_kwargs_dict\u001b[49m\u001b[43m,\u001b[49m\u001b[43m \u001b[49m\u001b[43mbout_dict\u001b[49m\u001b[43m[\u001b[49m\u001b[38;5;124;43m'\u001b[39;49m\u001b[38;5;124;43mh5_fname\u001b[39;49m\u001b[38;5;124;43m'\u001b[39;49m\u001b[43m]\u001b[49m\u001b[43m)\u001b[49m\n",
      "Input \u001b[0;32mIn [46]\u001b[0m, in \u001b[0;36mfit_bout_gpfa\u001b[0;34m(bout_df, bout_dict, spk_train_kwargs_dict, h5_name)\u001b[0m\n\u001b[1;32m     55\u001b[0m fu\u001b[38;5;241m.\u001b[39mmakedirs(exp_struct[\u001b[38;5;124m'\u001b[39m\u001b[38;5;124mfolders\u001b[39m\u001b[38;5;124m'\u001b[39m][\u001b[38;5;124m'\u001b[39m\u001b[38;5;124mprocessed\u001b[39m\u001b[38;5;124m'\u001b[39m])\n\u001b[1;32m     56\u001b[0m logger\u001b[38;5;241m.\u001b[39minfo(\u001b[38;5;124m'\u001b[39m\u001b[38;5;124mSaving the gpfa, pca results onto an hdf5 file \u001b[39m\u001b[38;5;132;01m{}\u001b[39;00m\u001b[38;5;124m'\u001b[39m\u001b[38;5;241m.\u001b[39mformat(bout_df_path))\n\u001b[0;32m---> 57\u001b[0m \u001b[43mh5u\u001b[49m\u001b[38;5;241;43m.\u001b[39;49m\u001b[43mbouts_to_h5\u001b[49m\u001b[43m(\u001b[49m\u001b[43mbout_df\u001b[49m\u001b[43m,\u001b[49m\u001b[43m \u001b[49m\u001b[43mbout_dict\u001b[49m\u001b[43m,\u001b[49m\u001b[43m \u001b[49m\u001b[43mbout_df_path\u001b[49m\u001b[43m,\u001b[49m\u001b[43m \u001b[49m\n\u001b[1;32m     58\u001b[0m \u001b[43m                \u001b[49m\u001b[43mall_dset_keys\u001b[49m\u001b[43m,\u001b[49m\u001b[43m \u001b[49m\n\u001b[1;32m     59\u001b[0m \u001b[43m                \u001b[49m\u001b[43mattr_keys\u001b[49m\u001b[43m,\u001b[49m\u001b[43m \u001b[49m\n\u001b[1;32m     60\u001b[0m \u001b[43m                \u001b[49m\u001b[43mdict_keys\u001b[49m\u001b[43m)\u001b[49m\n\u001b[1;32m     61\u001b[0m logger\u001b[38;5;241m.\u001b[39minfo(\u001b[38;5;124m'\u001b[39m\u001b[38;5;124mdone\u001b[39m\u001b[38;5;124m'\u001b[39m)\n",
      "File \u001b[0;32m/mnt/cube/earneodo/repos/ceciestunepipe/ceciestunepipe/util/h5util.py:253\u001b[0m, in \u001b[0;36mbouts_to_h5\u001b[0;34m(bout_df, bout_dict, dset_keys, attr_keys, bout_dict_keys, h5_path, root_grp_name)\u001b[0m\n\u001b[1;32m    241\u001b[0m \u001b[38;5;28;01mdef\u001b[39;00m \u001b[38;5;21mbouts_to_h5\u001b[39m(bout_df: pd\u001b[38;5;241m.\u001b[39mDataFrame, bout_dict: \u001b[38;5;28mdict\u001b[39m, dset_keys: \u001b[38;5;28mlist\u001b[39m, attr_keys: \u001b[38;5;28mlist\u001b[39m, bout_dict_keys: \u001b[38;5;28mlist\u001b[39m, \n\u001b[1;32m    242\u001b[0m                 h5_path: \u001b[38;5;28mstr\u001b[39m,\n\u001b[1;32m    243\u001b[0m                root_grp_name: \u001b[38;5;28mstr\u001b[39m\u001b[38;5;241m=\u001b[39m\u001b[38;5;124m'\u001b[39m\u001b[38;5;124mbout_gpfa\u001b[39m\u001b[38;5;124m'\u001b[39m):\n\u001b[0;32m   (...)\u001b[0m\n\u001b[1;32m    250\u001b[0m         \u001b[38;5;66;03m# apend attr_keys with values for the bout as attributes (mostly scalars)\u001b[39;00m\n\u001b[1;32m    251\u001b[0m         \u001b[38;5;66;03m# create datasets for all the long arrays that contain data over time\u001b[39;00m\n\u001b[0;32m--> 253\u001b[0m     \u001b[38;5;28;01mwith\u001b[39;00m \u001b[43mh5py\u001b[49m\u001b[38;5;241;43m.\u001b[39;49m\u001b[43mFile\u001b[49m\u001b[43m(\u001b[49m\u001b[43mh5_path\u001b[49m\u001b[43m,\u001b[49m\u001b[38;5;124;43m'\u001b[39;49m\u001b[38;5;124;43mw\u001b[39;49m\u001b[38;5;124;43m'\u001b[39;49m\u001b[43m)\u001b[49m \u001b[38;5;28;01mas\u001b[39;00m f:\n\u001b[1;32m    254\u001b[0m         df_grp \u001b[38;5;241m=\u001b[39m f\u001b[38;5;241m.\u001b[39mcreate_group(root_grp_name)\n\u001b[1;32m    255\u001b[0m         grp_attr_dict \u001b[38;5;241m=\u001b[39m {k:bout_dict[k] \u001b[38;5;28;01mfor\u001b[39;00m k \u001b[38;5;129;01min\u001b[39;00m bout_dict_keys}\n",
      "File \u001b[0;32m/mnt/cube/earneodo/envs/pakhi/ceciestunepipe/lib/python3.8/site-packages/h5py/_hl/files.py:395\u001b[0m, in \u001b[0;36mFile.__init__\u001b[0;34m(self, name, mode, driver, libver, userblock_size, swmr, rdcc_nslots, rdcc_nbytes, rdcc_w0, track_order, **kwds)\u001b[0m\n\u001b[1;32m    393\u001b[0m     name \u001b[38;5;241m=\u001b[39m \u001b[38;5;28mrepr\u001b[39m(name)\u001b[38;5;241m.\u001b[39mencode(\u001b[38;5;124m'\u001b[39m\u001b[38;5;124mASCII\u001b[39m\u001b[38;5;124m'\u001b[39m, \u001b[38;5;124m'\u001b[39m\u001b[38;5;124mreplace\u001b[39m\u001b[38;5;124m'\u001b[39m)\n\u001b[1;32m    394\u001b[0m \u001b[38;5;28;01melse\u001b[39;00m:\n\u001b[0;32m--> 395\u001b[0m     name \u001b[38;5;241m=\u001b[39m \u001b[43mfilename_encode\u001b[49m\u001b[43m(\u001b[49m\u001b[43mname\u001b[49m\u001b[43m)\u001b[49m\n\u001b[1;32m    397\u001b[0m \u001b[38;5;28;01mif\u001b[39;00m track_order \u001b[38;5;129;01mis\u001b[39;00m \u001b[38;5;28;01mNone\u001b[39;00m:\n\u001b[1;32m    398\u001b[0m     track_order \u001b[38;5;241m=\u001b[39m h5\u001b[38;5;241m.\u001b[39mget_config()\u001b[38;5;241m.\u001b[39mtrack_order\n",
      "File \u001b[0;32m/mnt/cube/earneodo/envs/pakhi/ceciestunepipe/lib/python3.8/site-packages/h5py/_hl/compat.py:111\u001b[0m, in \u001b[0;36mfilename_encode\u001b[0;34m(filename)\u001b[0m\n\u001b[1;32m    103\u001b[0m \u001b[38;5;28;01mdef\u001b[39;00m \u001b[38;5;21mfilename_encode\u001b[39m(filename):\n\u001b[1;32m    104\u001b[0m     \u001b[38;5;124;03m\"\"\"\u001b[39;00m\n\u001b[1;32m    105\u001b[0m \u001b[38;5;124;03m    Encode filename for use in the HDF5 library.\u001b[39;00m\n\u001b[1;32m    106\u001b[0m \n\u001b[0;32m   (...)\u001b[0m\n\u001b[1;32m    109\u001b[0m \u001b[38;5;124;03m    filenames in h5py for more information.\u001b[39;00m\n\u001b[1;32m    110\u001b[0m \u001b[38;5;124;03m    \"\"\"\u001b[39;00m\n\u001b[0;32m--> 111\u001b[0m     filename \u001b[38;5;241m=\u001b[39m \u001b[43mfspath\u001b[49m\u001b[43m(\u001b[49m\u001b[43mfilename\u001b[49m\u001b[43m)\u001b[49m\n\u001b[1;32m    112\u001b[0m     \u001b[38;5;28;01mif\u001b[39;00m sys\u001b[38;5;241m.\u001b[39mplatform \u001b[38;5;241m==\u001b[39m \u001b[38;5;124m\"\u001b[39m\u001b[38;5;124mwin32\u001b[39m\u001b[38;5;124m\"\u001b[39m:\n\u001b[1;32m    113\u001b[0m         \u001b[38;5;28;01mif\u001b[39;00m \u001b[38;5;28misinstance\u001b[39m(filename, six\u001b[38;5;241m.\u001b[39mtext_type):\n",
      "\u001b[0;31mTypeError\u001b[0m: expected str, bytes or os.PathLike object, not list"
     ]
    }
   ],
   "source": [
    "def fit_bout_gpfa(bout_df: pd.DataFrame, bout_dict: dict, spk_train_kwargs_dict, h5_name: str):\n",
    "    # getting ready for making this a process that:\n",
    "    # runs the gpfa models\n",
    "    # gets spectrograms\n",
    "    # saves to h5 file\n",
    "    \n",
    "    # get spectrograms\n",
    "    logger.info('Getting spectrograms')\n",
    "    bout_df['sxx'] = bout_df['mic_arr'].apply(lambda x: sp.ms_spectrogram(x.flatten(), bout_dict['s_f']))\n",
    "    \n",
    "    # get filtered pressure trace\n",
    "    logger.info('Filtering pressure')\n",
    "    b, a = scipy.signal.butter(4, 1000, 'lp', fs=bout_dict['s_f'], output='ba')\n",
    "    bout_df['pre_filt'] = bout_df['pre_arr'].apply(lambda x: signal.filtfilt(b, a, x))\n",
    "    \n",
    "    # get pca\n",
    "    pca = PCA(n_components=3, svd_solver='full')\n",
    "    all_x = np.hstack(bout_df['sxx'].apply(lambda x: x[2]))\n",
    "    all_x[all_x==np.nan] = 1 ### better do a zscore\n",
    "    # fit all\n",
    "    pca.fit(np.log(all_x.T))\n",
    "    # project all\n",
    "    bout_df['sxx_pc'] = bout_df['sxx'].apply(lambda x: pca.transform(np.log(x[2].T)))\n",
    "    \n",
    "    # Get gpfa\n",
    "    gpfa_keys = []\n",
    "    gpfa_model_dict = {}\n",
    "    for k, spk_train_kwargs in spk_train_kwargs_dict.items():\n",
    "        logger.info('Fitting for {}'.format(k))\n",
    "        df_key = 'spk_gpf-{}'.format(k)\n",
    "        gpfa_model_dict[k], bout_df[df_key] = gpfa.gpfa_for_bout(bout_df, bout_dict, \n",
    "                                                                 bin_size_ms=bout_dict['gpfa_bin_ms'], \n",
    "                                                                 x_dim=bout_dict['gpfa_xdim'], \n",
    "                                                                 spk_train_kwargs=spk_train_kwargs)\n",
    "        gpfa_keys.append(df_key)\n",
    "    \n",
    "    attr_keys = ['start_ms', 'end_ms', 'len_ms', \n",
    "             'start_sample', 'end_sample',\n",
    "             'start_ms_ap_0', 'start_sample_ap_0',\n",
    "             'start_sample_naive', 'len_sample_ap_0', 'end_sample_ap_0',\n",
    "             'bout_check', 'confusing', 'file']\n",
    "\n",
    "    dset_keys = ['mic_arr', 'pre_arr', 'pre_filt', 'syl_in',\n",
    "                 'f_xx', 't_xx', 's_xx', 'sxx_pc', \n",
    "                 'spk_arr']\n",
    "    extra_dset_keys = []\n",
    "    \n",
    "    all_dset_keys = dset_keys + gpfa_keys + extra_dset_keys\n",
    "    \n",
    "    # extra dset_keys that will not necessarily always be there\n",
    "    #extra_dset_keys = ['spk_gpf-full', 'spk_gpf-hyb']\n",
    "    dict_keys = ['s_f', 's_f_nidq', 's_f_ap_0', 't_pre', 't_post', 'gpfa_bin_ms', 'gpfa_xdim']\n",
    "\n",
    "    bout_df_path = os.path.join(exp_struct['folders']['processed'], h5_name)\n",
    "    fu.makedirs(exp_struct['folders']['processed'])\n",
    "    logger.info('Saving the gpfa, pca results onto an hdf5 file {}'.format(bout_df_path))\n",
    "    h5u.bouts_to_h5(bout_df, bout_dict, bout_df_path, \n",
    "                    all_dset_keys, \n",
    "                    attr_keys, \n",
    "                    dict_keys)\n",
    "    logger.info('done')\n",
    "\n",
    "gpfa_thread = threading.Thread(target=fit_bout_gpfa, \n",
    "                       args=(bout_df, bout_dict, spk_train_kwargs_dict, bout_dict['h5_fname']))\n",
    "#gpfa_thread.start()\n",
    "fit_bout_gpfa(bout_df, bout_dict, spk_train_kwargs_dict, bout_dict['h5_fname'])"
   ]
  },
  {
   "cell_type": "code",
   "execution_count": 45,
   "metadata": {},
   "outputs": [
    {
     "data": {
      "text/plain": [
       "'bout_df_gpfa-15ms_longtail.h5'"
      ]
     },
     "execution_count": 45,
     "metadata": {},
     "output_type": "execute_result"
    }
   ],
   "source": [
    "bout_dict['h5_fname']"
   ]
  },
  {
   "cell_type": "code",
   "execution_count": 44,
   "metadata": {},
   "outputs": [
    {
     "name": "stdout",
     "output_type": "stream",
     "text": [
      "Automatic pdb calling has been turned OFF\n"
     ]
    }
   ],
   "source": [
    "pdb"
   ]
  },
  {
   "cell_type": "code",
   "execution_count": 39,
   "metadata": {},
   "outputs": [
    {
     "ename": "KeyboardInterrupt",
     "evalue": "",
     "output_type": "error",
     "traceback": [
      "\u001b[0;31m---------------------------------------------------------------------------\u001b[0m",
      "\u001b[0;31mKeyboardInterrupt\u001b[0m                         Traceback (most recent call last)",
      "Input \u001b[0;32mIn [39]\u001b[0m, in \u001b[0;36m<cell line: 1>\u001b[0;34m()\u001b[0m\n\u001b[0;32m----> 1\u001b[0m \u001b[38;5;28;01mraise\u001b[39;00m \u001b[38;5;167;01mKeyboardInterrupt\u001b[39;00m\n",
      "\u001b[0;31mKeyboardInterrupt\u001b[0m: "
     ]
    }
   ],
   "source": [
    "raise KeyboardInterrupt"
   ]
  },
  {
   "cell_type": "code",
   "execution_count": 40,
   "metadata": {},
   "outputs": [
    {
     "data": {
      "text/plain": [
       "False"
      ]
     },
     "execution_count": 40,
     "metadata": {},
     "output_type": "execute_result"
    }
   ],
   "source": [
    "gpfa_thread.is_alive()"
   ]
  },
  {
   "cell_type": "code",
   "execution_count": null,
   "metadata": {},
   "outputs": [],
   "source": []
  },
  {
   "cell_type": "code",
   "execution_count": null,
   "metadata": {},
   "outputs": [],
   "source": [
    "bout_h5_path = os.path.join(exp_struct['folders']['processed'], bout_dict['h5_fname'])\n",
    "#bout_df, bout_dict = h5u.bouts_from_h5(bout_h5_path, exclude_dset=['spk_arr'])\n",
    "# load with everything and spikes to get the pca of the neural traces\n",
    "bout_df, bout_dict = h5u.bouts_from_h5(bout_h5_path, exclude_dset=['spk_arr'])\n",
    "bout_df.sort_values(['len_ms'], ascending=False, inplace=True, ignore_index=False)"
   ]
  },
  {
   "cell_type": "code",
   "execution_count": null,
   "metadata": {},
   "outputs": [],
   "source": [
    "!ls /mnt/sphere/speech_bci/processed_data/s_b1238_22/2022-02-12/sglx/0716_g0/"
   ]
  },
  {
   "cell_type": "code",
   "execution_count": null,
   "metadata": {},
   "outputs": [],
   "source": [
    "%matplotlib inline"
   ]
  },
  {
   "cell_type": "code",
   "execution_count": null,
   "metadata": {},
   "outputs": [
    {
     "name": "stderr",
     "output_type": "stream",
     "text": [
      "2023-01-26 09:21:17,799 root         INFO     Filtering pressure\n",
      "2023-01-26 09:21:22,752 root         INFO     Fitting for bout\n",
      "2023-01-26 09:21:22,754 ceciestunepipe.util.dimension.gpfa WARNING  Will use sampling frequency of ap_0 channel for spike trains\n",
      "2023-01-26 09:21:22,754 ceciestunepipe.util.dimension.gpfa INFO     Collecting spike trains\n",
      "2023-01-26 09:21:23,873 ceciestunepipe.util.dimension.gpfa INFO     Fitting gpfa model\n",
      "/mnt/cube/earneodo/envs/pakhi/ceciestunepipe/lib/python3.8/site-packages/elephant/conversion.py:1168: UserWarning: Binning discarded 1 last spike(s) of the input spiketrain\n",
      "  warnings.warn(\"Binning discarded {} last spike(s) of the \"\n",
      "/mnt/cube/earneodo/envs/pakhi/ceciestunepipe/lib/python3.8/site-packages/elephant/conversion.py:1168: UserWarning: Binning discarded 4 last spike(s) of the input spiketrain\n",
      "  warnings.warn(\"Binning discarded {} last spike(s) of the \"\n",
      "/mnt/cube/earneodo/envs/pakhi/ceciestunepipe/lib/python3.8/site-packages/elephant/conversion.py:1168: UserWarning: Binning discarded 6 last spike(s) of the input spiketrain\n",
      "  warnings.warn(\"Binning discarded {} last spike(s) of the \"\n",
      "/mnt/cube/earneodo/envs/pakhi/ceciestunepipe/lib/python3.8/site-packages/elephant/conversion.py:1168: UserWarning: Binning discarded 3 last spike(s) of the input spiketrain\n",
      "  warnings.warn(\"Binning discarded {} last spike(s) of the \"\n",
      "/mnt/cube/earneodo/envs/pakhi/ceciestunepipe/lib/python3.8/site-packages/elephant/conversion.py:1168: UserWarning: Binning discarded 5 last spike(s) of the input spiketrain\n",
      "  warnings.warn(\"Binning discarded {} last spike(s) of the \"\n",
      "/mnt/cube/earneodo/envs/pakhi/ceciestunepipe/lib/python3.8/site-packages/elephant/conversion.py:1168: UserWarning: Binning discarded 7 last spike(s) of the input spiketrain\n",
      "  warnings.warn(\"Binning discarded {} last spike(s) of the \"\n",
      "/mnt/cube/earneodo/envs/pakhi/ceciestunepipe/lib/python3.8/site-packages/elephant/conversion.py:1168: UserWarning: Binning discarded 9 last spike(s) of the input spiketrain\n",
      "  warnings.warn(\"Binning discarded {} last spike(s) of the \"\n",
      "/mnt/cube/earneodo/envs/pakhi/ceciestunepipe/lib/python3.8/site-packages/elephant/conversion.py:1168: UserWarning: Binning discarded 2 last spike(s) of the input spiketrain\n",
      "  warnings.warn(\"Binning discarded {} last spike(s) of the \"\n",
      "/mnt/cube/earneodo/envs/pakhi/ceciestunepipe/lib/python3.8/site-packages/elephant/conversion.py:1168: UserWarning: Binning discarded 14 last spike(s) of the input spiketrain\n",
      "  warnings.warn(\"Binning discarded {} last spike(s) of the \"\n"
     ]
    },
    {
     "name": "stdout",
     "output_type": "stream",
     "text": [
      "Initializing parameters using factor analysis...\n",
      "\n",
      "Fitting GPFA model...\n"
     ]
    },
    {
     "name": "stderr",
     "output_type": "stream",
     "text": [
      "2023-01-26 09:24:56,346 ceciestunepipe.util.dimension.gpfa INFO     Projecting to latent dimensions\n",
      "/mnt/cube/earneodo/envs/pakhi/ceciestunepipe/lib/python3.8/site-packages/elephant/conversion.py:1168: UserWarning: Binning discarded 1 last spike(s) of the input spiketrain\n",
      "  warnings.warn(\"Binning discarded {} last spike(s) of the \"\n",
      "/mnt/cube/earneodo/envs/pakhi/ceciestunepipe/lib/python3.8/site-packages/elephant/conversion.py:1168: UserWarning: Binning discarded 4 last spike(s) of the input spiketrain\n",
      "  warnings.warn(\"Binning discarded {} last spike(s) of the \"\n",
      "/mnt/cube/earneodo/envs/pakhi/ceciestunepipe/lib/python3.8/site-packages/elephant/conversion.py:1168: UserWarning: Binning discarded 6 last spike(s) of the input spiketrain\n",
      "  warnings.warn(\"Binning discarded {} last spike(s) of the \"\n",
      "/mnt/cube/earneodo/envs/pakhi/ceciestunepipe/lib/python3.8/site-packages/elephant/conversion.py:1168: UserWarning: Binning discarded 3 last spike(s) of the input spiketrain\n",
      "  warnings.warn(\"Binning discarded {} last spike(s) of the \"\n",
      "/mnt/cube/earneodo/envs/pakhi/ceciestunepipe/lib/python3.8/site-packages/elephant/conversion.py:1168: UserWarning: Binning discarded 5 last spike(s) of the input spiketrain\n",
      "  warnings.warn(\"Binning discarded {} last spike(s) of the \"\n",
      "/mnt/cube/earneodo/envs/pakhi/ceciestunepipe/lib/python3.8/site-packages/elephant/conversion.py:1168: UserWarning: Binning discarded 7 last spike(s) of the input spiketrain\n",
      "  warnings.warn(\"Binning discarded {} last spike(s) of the \"\n",
      "/mnt/cube/earneodo/envs/pakhi/ceciestunepipe/lib/python3.8/site-packages/elephant/conversion.py:1168: UserWarning: Binning discarded 9 last spike(s) of the input spiketrain\n",
      "  warnings.warn(\"Binning discarded {} last spike(s) of the \"\n",
      "/mnt/cube/earneodo/envs/pakhi/ceciestunepipe/lib/python3.8/site-packages/elephant/conversion.py:1168: UserWarning: Binning discarded 2 last spike(s) of the input spiketrain\n",
      "  warnings.warn(\"Binning discarded {} last spike(s) of the \"\n",
      "/mnt/cube/earneodo/envs/pakhi/ceciestunepipe/lib/python3.8/site-packages/elephant/conversion.py:1168: UserWarning: Binning discarded 14 last spike(s) of the input spiketrain\n",
      "  warnings.warn(\"Binning discarded {} last spike(s) of the \"\n",
      "2023-01-26 09:59:21,272 ceciestunepipe.util.dimension.gpfa INFO     Done projecting\n",
      "2023-01-26 09:59:22,747 root         INFO     Saving the gpfa, pca results onto an hdf5 file /mnt/sphere/speech_bci/processed_data/s_b1238_22/2022-02-12/sglx/0716_g0/bout_df_gpfa-15ms_longtail.h5\n",
      "Exception in thread Thread-5:\n",
      "Traceback (most recent call last):\n",
      "  File \"/mnt/cube/earneodo/envs/pakhi/ceciestunepipe/lib/python3.8/threading.py\", line 932, in _bootstrap_inner\n",
      "    self.run()\n",
      "  File \"/mnt/cube/earneodo/envs/pakhi/ceciestunepipe/lib/python3.8/threading.py\", line 870, in run\n",
      "    self._target(*self._args, **self._kwargs)\n",
      "  File \"<ipython-input-38-bce37f17cdd8>\", line 57, in fit_bout_gpfa\n",
      "  File \"/mnt/cube/earneodo/repos/ceciestunepipe/ceciestunepipe/util/h5util.py\", line 253, in bouts_to_h5\n",
      "    with h5py.File(h5_path,'w') as f:\n",
      "  File \"/mnt/cube/earneodo/envs/pakhi/ceciestunepipe/lib/python3.8/site-packages/h5py/_hl/files.py\", line 395, in __init__\n",
      "    name = filename_encode(name)\n",
      "  File \"/mnt/cube/earneodo/envs/pakhi/ceciestunepipe/lib/python3.8/site-packages/h5py/_hl/compat.py\", line 111, in filename_encode\n",
      "    filename = fspath(filename)\n",
      "TypeError: expected str, bytes or os.PathLike object, not list\n"
     ]
    }
   ],
   "source": [
    "### se them together all for a bout now\n",
    "def plot_bout_projections(bout_series, gpf_key: str='spk_gpf'):\n",
    "    sxx_pc = bout_series['sxx_pc']\n",
    "    gpf = bout_series[gpf_key]\n",
    "    #gpf_prep = bout_df['spk_gpf-prep']\n",
    "    pre_arr = bout_series['pre_filt']\n",
    "    mic_arr = bout_series['mic_arr']\n",
    "    \n",
    "    sxx = bout_series['s_xx']\n",
    "    t = bout_series['t_xx']\n",
    "    f = bout_series['f_xx']\n",
    "    \n",
    "    \n",
    "    fig, ax = plt.subplots(nrows=5, ncols=1, figsize=(12, 8));\n",
    "\n",
    "    ax[0].pcolormesh(t, f, np.log(sxx), cmap='inferno')\n",
    "    \n",
    "    ax[1].plot((np.abs(mic_arr)), 'k');\n",
    "    ax[1].set_ylabel('sound amplitude (arb)')\n",
    "\n",
    "    ax[2].set_title('RA GPFA full bout')\n",
    "    #ax[2].plot(sxx_pc, lw=1);\n",
    "    ax[2].plot(gpf[:2].T, lw=1);\n",
    "\n",
    "\n",
    "    ax[4].set_title('pressure');\n",
    "    ax[4].plot(pre_arr, lw=1);\n",
    "    \n",
    "    for ax_i in ax[1:]:\n",
    "        ax_i.set_xticks([])\n",
    "        ax_i.set_yticks([])\n",
    "    \n",
    "    return ax\n",
    "\n",
    "plot_bout_projections(bout_df.iloc[3], gpf_key='spk_gpf-bout')"
   ]
  },
  {
   "cell_type": "code",
   "execution_count": null,
   "metadata": {},
   "outputs": [],
   "source": []
  }
 ],
 "metadata": {
  "kernelspec": {
   "display_name": "ceciestunepipe (cube)",
   "language": "python",
   "name": "unepipe-cube"
  },
  "language_info": {
   "codemirror_mode": {
    "name": "ipython",
    "version": 3
   },
   "file_extension": ".py",
   "mimetype": "text/x-python",
   "name": "python",
   "nbconvert_exporter": "python",
   "pygments_lexer": "ipython3",
   "version": "3.8.11"
  }
 },
 "nbformat": 4,
 "nbformat_minor": 4
}
