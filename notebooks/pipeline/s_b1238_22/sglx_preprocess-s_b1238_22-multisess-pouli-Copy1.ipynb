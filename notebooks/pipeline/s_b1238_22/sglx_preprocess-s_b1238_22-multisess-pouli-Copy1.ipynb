{
 "cells": [
  {
   "cell_type": "markdown",
   "metadata": {},
   "source": [
    "# Pre-processing pipeline for spikeglx sessions, zebra finch\n",
    "- For every run in the session:\n",
    " - Load the recordings\n",
    " - Extract wav chan with micrhopohone and make a wav chan with the nidq syn signal\n",
    " - Get the sync events for the nidq sync channel\n",
    " \n",
    " - Do bout detection\n",
    " \n",
    "In another notebook, bout detection is curated\n",
    "- Left to decide where to:\n",
    "    - Sort spikes\n",
    "    - Sync the spikes/lfp/nidq\n",
    "    - make and plot 'bout rasters'"
   ]
  },
  {
   "cell_type": "code",
   "execution_count": 1,
   "metadata": {},
   "outputs": [],
   "source": [
    "%matplotlib inline\n",
    "import os\n",
    "import glob\n",
    "import logging\n",
    "import pickle\n",
    "import numpy as np\n",
    "import pandas as pd\n",
    "from scipy.io import wavfile\n",
    "from scipy import signal\n",
    "import traceback\n",
    "import warnings\n",
    "\n",
    "from matplotlib import pyplot as plt\n",
    "from importlib import reload\n",
    "\n",
    "logger = logging.getLogger()\n",
    "handler = logging.StreamHandler()\n",
    "formatter = logging.Formatter(\n",
    "        '%(asctime)s %(name)-12s %(levelname)-8s %(message)s')\n",
    "handler.setFormatter(formatter)\n",
    "logger.addHandler(handler)\n",
    "logger.setLevel(logging.INFO)\n"
   ]
  },
  {
   "cell_type": "code",
   "execution_count": 2,
   "metadata": {},
   "outputs": [
    {
     "name": "stdout",
     "output_type": "stream",
     "text": [
      "h5py version > 2.10.0. Some extractors might not work properly. It is recommended to downgrade to version 2.10.0: \n",
      ">>> pip install h5py==2.10.0\n"
     ]
    }
   ],
   "source": [
    "from ceciestunepipe.file import bcistructure as et\n",
    "from ceciestunepipe.util import sglxutil as sglu\n",
    "from ceciestunepipe.util import rigutil as ru\n",
    "from ceciestunepipe.util import wavutil as wu\n",
    "from ceciestunepipe.util import syncutil as su\n",
    "\n",
    "from ceciestunepipe.util.sound import boutsearch as bs\n",
    "\n",
    "from ceciestunepipe.util.spikeextractors import preprocess as pre\n",
    "from ceciestunepipe.util.spikeextractors.extractors.spikeglxrecordingextractor import readSGLX as rsgl\n",
    "from ceciestunepipe.util.spikeextractors.extractors.spikeglxrecordingextractor import spikeglxrecordingextractor as sglex"
   ]
  },
  {
   "cell_type": "code",
   "execution_count": 3,
   "metadata": {},
   "outputs": [
    {
     "name": "stderr",
     "output_type": "stream",
     "text": [
      "2022-02-02 14:49:34,876 root         INFO     all modules loaded\n"
     ]
    }
   ],
   "source": [
    "import spikeinterface as si\n",
    "import spikeinterface.extractors as se\n",
    "import spikeinterface.toolkit as st\n",
    "import spikeinterface.sorters as ss\n",
    "import spikeinterface.comparison as sc\n",
    "import spikeinterface.widgets as sw\n",
    "logger.info('all modules loaded')"
   ]
  },
  {
   "cell_type": "markdown",
   "metadata": {},
   "source": [
    "## Session parameters and raw files"
   ]
  },
  {
   "cell_type": "markdown",
   "metadata": {},
   "source": [
    "#### list all the sessions for this bird"
   ]
  },
  {
   "cell_type": "code",
   "execution_count": 4,
   "metadata": {},
   "outputs": [
    {
     "name": "stderr",
     "output_type": "stream",
     "text": [
      "2022-02-02 14:49:38,808 root         INFO     all sessions for bird are ['2022-01-07', '2022-01-08', '2022-01-09', '2022-01-10', '2022-01-11', '2022-01-12', '2022-01-13', '2022-01-14', '2022-01-15', '2022-01-16', '2022-01-17', '2022-01-18', '2022-01-19', '2022-01-20', '2022-01-21', '2022-01-22', '2022-01-23', '2022-01-24', '2022-01-25', '2022-01-26', '2022-01-27', '2022-01-28', '2022-01-29', '2022-01-30', '2022-01-31', '2022-02-01', '2022-02-02']\n"
     ]
    }
   ],
   "source": [
    "bird = 's_b1238_22'\n",
    "all_bird_sess = et.list_sessions(bird)\n",
    "logger.info('all sessions for bird are {}'.format(all_bird_sess))"
   ]
  },
  {
   "cell_type": "markdown",
   "metadata": {},
   "source": [
    "### set up bird and sessions parameters\n",
    "this will define:\n",
    "- locations of files (for the bird)\n",
    "- signals and channels to look for in the metadata of the files and in the rig.json parameter file: Note that this have to exist in all of the sessions that will be processed\n",
    "- 'sess' is unimportant here, but it comes handy if there is need to debug usin a single session"
   ]
  },
  {
   "cell_type": "code",
   "execution_count": 5,
   "metadata": {},
   "outputs": [],
   "source": [
    "reload(et)\n",
    "# for one example session\n",
    "\n",
    "sess_par = {'bird': 's_b1238_22',\n",
    "           'sess': '2022-01-27',\n",
    "           'probes': ['probe_0'], #probes of interest\n",
    "           'mic_list': ['microphone_0', 'microphone_1'], #list of mics of interest, by signal name in rig.json\n",
    "           'stim_list': ['wav_stim', 'wav_syn'], # list of adc chans with the stimulus\n",
    "           'nidq_ttl_list': ['wav_ttl'], # list of TTL signals form the nidq digital inputs to extract (besides the 'sync')\n",
    "           'sort': 2, #label for this sort instance\n",
    "           }\n",
    "\n",
    "exp_struct = et.get_exp_struct(sess_par['bird'], sess_par['sess'], sort=sess_par['sort'])\n",
    "\n",
    "ksort_folder = exp_struct['folders']['ksort']\n",
    "raw_folder = exp_struct['folders']['sglx']"
   ]
  },
  {
   "cell_type": "markdown",
   "metadata": {},
   "source": [
    "list all the epochs in a session, to check that it is finding what it has to find"
   ]
  },
  {
   "cell_type": "code",
   "execution_count": 6,
   "metadata": {},
   "outputs": [
    {
     "name": "stderr",
     "output_type": "stream",
     "text": [
      "2022-02-02 14:49:43,932 ceciestunepipe.file.bcistructure INFO     {'folders': {'bird': '/mnt/sphere/speech_bci/raw_data/s_b1238_22', 'raw': '/mnt/sphere/speech_bci/raw_data/s_b1238_22/2022-01-27', 'sglx': '/mnt/sphere/speech_bci/raw_data/s_b1238_22/2022-01-27/sglx', 'kwik': '/experiment/s_b1238_22/sglx/kwik/2022-01-27', 'processed': '/mnt/sphere/speech_bci/processed_data/s_b1238_22/2022-01-27/sglx', 'derived': '/mnt/sphere/speech_bci/derived_data/s_b1238_22/2022-01-27/sglx', 'tmp': '/experiment/tmp/tmp', 'msort': '/experiment/tmp/s_b1238_22/sglx/msort/2022-01-27', 'ksort': '/experiment/tmp/s_b1238_22/sglx/ksort/2022-01-27/2', 'sort': '/mnt/sphere/speech_bci/derived_data/s_b1238_22/2022-01-27/sglx/2'}, 'files': {'par': '/experiment/tmp/s_b1238_22/sglx/ksort/2022-01-27/2/params.json', 'set': '/mnt/sphere/speech_bci/raw_data/s_b1238_22/2022-01-27/sglx/settings.isf', 'rig': '/mnt/sphere/speech_bci/raw_data/s_b1238_22/2022-01-27/sglx/rig.json', 'kwd': '/experiment/s_b1238_22/sglx/kwik/2022-01-27/stream.kwd', 'kwik': '/experiment/s_b1238_22/sglx/kwik/2022-01-27/sort_2/spikes.kwik', 'kwe': '/experiment/s_b1238_22/sglx/kwik/2022-01-27/events.kwe', 'dat_mic': '/mnt/sphere/speech_bci/processed_data/s_b1238_22/2022-01-27/sglx/dat_mic.mat', 'dat_ap': '/mnt/sphere/speech_bci/processed_data/s_b1238_22/2022-01-27/sglx/dat_ap.mat', 'allevents': '/mnt/sphere/speech_bci/processed_data/s_b1238_22/2022-01-27/sglx/dat_all.pkl', 'wav_mic': '/mnt/sphere/speech_bci/derived_data/s_b1238_22/2022-01-27/sglx/wav_mic.wav', 'mda_raw': '/experiment/tmp/s_b1238_22/sglx/msort/2022-01-27/raw.mda', 'bin_raw': '/experiment/tmp/s_b1238_22/sglx/ksort/2022-01-27/2/raw.bin'}}\n"
     ]
    },
    {
     "data": {
      "text/plain": [
       "['0605_g0', '1154_g0', '1722_g0', '2005_g0', '2135_nightstim_g0']"
      ]
     },
     "execution_count": 6,
     "metadata": {},
     "output_type": "execute_result"
    }
   ],
   "source": [
    "sess_epochs = et.list_sgl_epochs(sess_par)\n",
    "sess_epochs"
   ]
  },
  {
   "cell_type": "markdown",
   "metadata": {},
   "source": [
    "#### define pre-processing steps for each epoch and for the session"
   ]
  },
  {
   "cell_type": "code",
   "execution_count": 7,
   "metadata": {
    "tags": []
   },
   "outputs": [
    {
     "name": "stderr",
     "output_type": "stream",
     "text": [
      "2022-02-02 14:50:01,505 ceciestunepipe.util.spikeextractors.preprocess INFO     PREPROCESSING sess 2022-01-27 | epoch 0605_g0\n",
      "2022-02-02 14:50:01,507 ceciestunepipe.util.spikeextractors.preprocess INFO     getting extractors\n",
      "2022-02-02 14:50:01,689 ceciestunepipe.util.spikeextractors.preprocess INFO     Getting microphone channel(s) ['microphone_0', 'microphone_1']\n",
      "2022-02-02 14:51:32,124 ceciestunepipe.util.wavutil INFO     sampling rate 40000\n",
      "2022-02-02 14:51:32,126 ceciestunepipe.util.wavutil INFO     saving (2, 834494107)-shaped array as wav in /mnt/sphere/speech_bci/derived_data/s_b1238_22/2022-01-27/sglx/0605_g0/wav_mic.wav\n",
      "2022-02-02 14:52:10,999 ceciestunepipe.util.wavutil INFO     saving (2, 834494107)-shaped array as npy in /mnt/sphere/speech_bci/derived_data/s_b1238_22/2022-01-27/sglx/0605_g0/wav_mic.npy\n",
      "2022-02-02 14:52:41,766 ceciestunepipe.util.spikeextractors.preprocess INFO     Getting stimulus channel(s) ['wav_stim', 'wav_syn']\n",
      "2022-02-02 14:52:41,767 ceciestunepipe.util.wavutil INFO     sampling rate 40000\n",
      "2022-02-02 14:52:41,768 ceciestunepipe.util.wavutil INFO     saving (2, 834494107)-shaped array as wav in /mnt/sphere/speech_bci/derived_data/s_b1238_22/2022-01-27/sglx/0605_g0/wav_stim.wav\n",
      "2022-02-02 14:53:20,776 ceciestunepipe.util.wavutil INFO     saving (2, 834494107)-shaped array as npy in /mnt/sphere/speech_bci/derived_data/s_b1238_22/2022-01-27/sglx/0605_g0/wav_stim.npy\n",
      "2022-02-02 14:54:40,116 ceciestunepipe.util.spikeextractors.preprocess INFO     Getting sync channel(s) ['sync']\n",
      "2022-02-02 14:54:40,117 ceciestunepipe.util.spikeextractors.extractors.spikeglxrecordingextractor.spikeglxrecordingextractor INFO     getting ttl traces, chan range(0, 7)\n",
      "2022-02-02 14:55:03,613 ceciestunepipe.util.wavutil INFO     sampling rate 40000\n",
      "2022-02-02 14:55:03,614 ceciestunepipe.util.wavutil INFO     saving (1, 834494107)-shaped array as wav in /mnt/sphere/speech_bci/derived_data/s_b1238_22/2022-01-27/sglx/0605_g0/wav_sync.wav\n",
      "2022-02-02 14:55:19,140 ceciestunepipe.util.wavutil INFO     saving (1, 834494107)-shaped array as npy in /mnt/sphere/speech_bci/derived_data/s_b1238_22/2022-01-27/sglx/0605_g0/wav_sync.npy\n",
      "2022-02-02 14:55:34,517 ceciestunepipe.util.spikeextractors.preprocess INFO     Getting sync events from the wav sync channel\n",
      "2022-02-02 14:55:43,251 ceciestunepipe.util.spikeextractors.preprocess INFO     saving sync events of the wav channel to /mnt/sphere/speech_bci/derived_data/s_b1238_22/2022-01-27/sglx/0605_g0/wav_sync_evt.npy\n",
      "2022-02-02 14:55:43,379 ceciestunepipe.util.spikeextractors.preprocess INFO     saving t0 for wav channel to /mnt/sphere/speech_bci/derived_data/s_b1238_22/2022-01-27/sglx/0605_g0/wav_t0.npy\n",
      "2022-02-02 14:57:00,274 ceciestunepipe.util.spikeextractors.preprocess INFO     Will get 1 ttl signals\n",
      "2022-02-02 14:57:00,275 ceciestunepipe.util.spikeextractors.preprocess INFO     looking for signal wav_ttl in the nidaq channels\n",
      "2022-02-02 14:57:00,276 ceciestunepipe.util.spikeextractors.preprocess INFO     found in chan 2\n",
      "2022-02-02 14:57:00,276 ceciestunepipe.util.spikeextractors.extractors.spikeglxrecordingextractor.spikeglxrecordingextractor INFO     getting ttl events, chan 2\n",
      "2022-02-02 14:57:15,418 ceciestunepipe.util.spikeextractors.preprocess INFO     saving (0, 2)-shaped array as npy in /mnt/sphere/speech_bci/derived_data/s_b1238_22/2022-01-27/sglx/0605_g0/wav_ttl_evt.npy\n",
      "2022-02-02 14:57:15,536 ceciestunepipe.util.spikeextractors.preprocess INFO     saving sync dict to /mnt/sphere/speech_bci/derived_data/s_b1238_22/2022-01-27/sglx/0605_g0/wav_sync_dict.pkl\n"
     ]
    }
   ],
   "source": [
    "reload(pre)\n",
    "one_epoch_dict = pre.preprocess_run(sess_par, exp_struct, sess_epochs[0])"
   ]
  },
  {
   "cell_type": "code",
   "execution_count": 8,
   "metadata": {
    "tags": []
   },
   "outputs": [
    {
     "data": {
      "text/plain": [
       "{'epoch': '0605_g0',\n",
       " 'files_pd':                                                 nidq  \\\n",
       " 0  /mnt/sphere/speech_bci/raw_data/s_b1238_22/202...   \n",
       " \n",
       "                                                 lf_0  \\\n",
       " 0  /mnt/sphere/speech_bci/raw_data/s_b1238_22/202...   \n",
       " \n",
       "                                                 ap_0  \n",
       " 0  /mnt/sphere/speech_bci/raw_data/s_b1238_22/202...  ,\n",
       " 'recordings': {'nidq': <ceciestunepipe.util.spikeextractors.extractors.spikeglxrecordingextractor.spikeglxrecordingextractor.SpikeGLXRecordingExtractor at 0x7f7e848ce490>,\n",
       "  'lf_0': <ceciestunepipe.util.spikeextractors.extractors.spikeglxrecordingextractor.spikeglxrecordingextractor.SpikeGLXRecordingExtractor at 0x7f7eb8111fa0>,\n",
       "  'ap_0': <ceciestunepipe.util.spikeextractors.extractors.spikeglxrecordingextractor.spikeglxrecordingextractor.SpikeGLXRecordingExtractor at 0x7f7e231ce820>},\n",
       " 'meta': {'nidq': '/mnt/sphere/speech_bci/raw_data/s_b1238_22/2022-01-27/sglx/0605_g0/0605_g0_t0.nidq.meta',\n",
       "  'lf_0': '/mnt/sphere/speech_bci/raw_data/s_b1238_22/2022-01-27/sglx/0605_g0/0605_g0_imec0/0605_g0_t0.imec0.lf.meta',\n",
       "  'ap_0': '/mnt/sphere/speech_bci/raw_data/s_b1238_22/2022-01-27/sglx/0605_g0/0605_g0_imec0/0605_g0_t0.imec0.ap.meta'},\n",
       " 'rig': {'chan': {'ttl': {'sync': 'DIN-00', 'wav_ttl': 'DIN-02'},\n",
       "   'adc': {'microphone_0': 'adc-00',\n",
       "    'microphone_1': 'adc-03',\n",
       "    'wav_stim': 'adc-01',\n",
       "    'wav_syn': 'adc-02'},\n",
       "   'port': {'probe_0': 'A-'}},\n",
       "  'probe': {'probe_0': {'model': 'neuropix-3b',\n",
       "    'serial': '19108322052',\n",
       "    'headstage': 'neuropix-3b'}}}}"
      ]
     },
     "execution_count": 8,
     "metadata": {},
     "output_type": "execute_result"
    }
   ],
   "source": [
    "one_epoch_dict"
   ]
  },
  {
   "cell_type": "code",
   "execution_count": 9,
   "metadata": {
    "scrolled": true,
    "tags": []
   },
   "outputs": [
    {
     "name": "stderr",
     "output_type": "stream",
     "text": [
      "2022-01-20 14:02:04,060 root         INFO     pre-process all runs of sess 2022-01-19\n",
      "2022-01-20 14:02:04,062 ceciestunepipe.file.bcistructure INFO     {'folders': {'bird': '/mnt/sphere/speech_bci/raw_data/s_b1238_22', 'raw': '/mnt/sphere/speech_bci/raw_data/s_b1238_22/2022-01-19', 'sglx': '/mnt/sphere/speech_bci/raw_data/s_b1238_22/2022-01-19/sglx', 'kwik': '/experiment/s_b1238_22/sglx/kwik/2022-01-19', 'processed': '/mnt/sphere/speech_bci/processed_data/s_b1238_22/2022-01-19/sglx', 'derived': '/mnt/sphere/speech_bci/derived_data/s_b1238_22/2022-01-19/sglx', 'tmp': '/experiment/tmp/tmp', 'msort': '/experiment/tmp/s_b1238_22/sglx/msort/2022-01-19', 'ksort': '/experiment/tmp/s_b1238_22/sglx/ksort/2022-01-19/2', 'sort': '/mnt/sphere/speech_bci/derived_data/s_b1238_22/2022-01-19/sglx/2'}, 'files': {'par': '/experiment/tmp/s_b1238_22/sglx/ksort/2022-01-19/2/params.json', 'set': '/mnt/sphere/speech_bci/raw_data/s_b1238_22/2022-01-19/sglx/settings.isf', 'rig': '/mnt/sphere/speech_bci/raw_data/s_b1238_22/2022-01-19/sglx/rig.json', 'kwd': '/experiment/s_b1238_22/sglx/kwik/2022-01-19/stream.kwd', 'kwik': '/experiment/s_b1238_22/sglx/kwik/2022-01-19/sort_2/spikes.kwik', 'kwe': '/experiment/s_b1238_22/sglx/kwik/2022-01-19/events.kwe', 'dat_mic': '/mnt/sphere/speech_bci/processed_data/s_b1238_22/2022-01-19/sglx/dat_mic.mat', 'dat_ap': '/mnt/sphere/speech_bci/processed_data/s_b1238_22/2022-01-19/sglx/dat_ap.mat', 'allevents': '/mnt/sphere/speech_bci/processed_data/s_b1238_22/2022-01-19/sglx/dat_all.pkl', 'wav_mic': '/mnt/sphere/speech_bci/derived_data/s_b1238_22/2022-01-19/sglx/wav_mic.wav', 'mda_raw': '/experiment/tmp/s_b1238_22/sglx/msort/2022-01-19/raw.mda', 'bin_raw': '/experiment/tmp/s_b1238_22/sglx/ksort/2022-01-19/2/raw.bin'}}\n",
      "2022-01-20 14:02:04,080 root         INFO     found epochs: ['0355_nightstim_g0', '0711_g0', '1113_g0', '1545_g0']\n",
      "2022-01-20 14:02:04,081 ceciestunepipe.util.spikeextractors.preprocess INFO     PREPROCESSING sess 2022-01-19 | epoch 0355_nightstim_g0\n",
      "2022-01-20 14:02:04,082 ceciestunepipe.util.spikeextractors.preprocess INFO     getting extractors\n",
      "2022-01-20 14:02:04,245 ceciestunepipe.util.spikeextractors.preprocess INFO     Getting microphone channel(s) ['microphone_0', 'microphone_1']\n",
      "2022-01-20 14:02:54,410 ceciestunepipe.util.wavutil INFO     sampling rate 40000\n",
      "2022-01-20 14:02:54,411 ceciestunepipe.util.wavutil INFO     saving (2, 466902938)-shaped array as wav in /mnt/sphere/speech_bci/derived_data/s_b1238_22/2022-01-19/sglx/0355_nightstim_g0/wav_mic.wav\n",
      "2022-01-20 14:03:16,367 ceciestunepipe.util.wavutil INFO     saving (2, 466902938)-shaped array as npy in /mnt/sphere/speech_bci/derived_data/s_b1238_22/2022-01-19/sglx/0355_nightstim_g0/wav_mic.npy\n",
      "2022-01-20 14:03:33,485 ceciestunepipe.util.spikeextractors.preprocess INFO     Getting stimulus channel(s) ['wav_stim', 'wav_syn']\n",
      "2022-01-20 14:03:33,486 ceciestunepipe.util.wavutil INFO     sampling rate 40000\n",
      "2022-01-20 14:03:33,487 ceciestunepipe.util.wavutil INFO     saving (2, 466902938)-shaped array as wav in /mnt/sphere/speech_bci/derived_data/s_b1238_22/2022-01-19/sglx/0355_nightstim_g0/wav_stim.wav\n",
      "2022-01-20 14:03:55,600 ceciestunepipe.util.wavutil INFO     saving (2, 466902938)-shaped array as npy in /mnt/sphere/speech_bci/derived_data/s_b1238_22/2022-01-19/sglx/0355_nightstim_g0/wav_stim.npy\n",
      "2022-01-20 14:04:42,579 ceciestunepipe.util.spikeextractors.preprocess INFO     Getting sync channel(s) ['sync']\n",
      "2022-01-20 14:04:42,580 ceciestunepipe.util.spikeextractors.extractors.spikeglxrecordingextractor.spikeglxrecordingextractor INFO     getting ttl traces, chan range(0, 7)\n",
      "2022-01-20 14:04:52,521 ceciestunepipe.util.wavutil INFO     sampling rate 40000\n",
      "2022-01-20 14:04:52,522 ceciestunepipe.util.wavutil INFO     saving (1, 466902938)-shaped array as wav in /mnt/sphere/speech_bci/derived_data/s_b1238_22/2022-01-19/sglx/0355_nightstim_g0/wav_sync.wav\n",
      "2022-01-20 14:05:01,267 ceciestunepipe.util.wavutil INFO     saving (1, 466902938)-shaped array as npy in /mnt/sphere/speech_bci/derived_data/s_b1238_22/2022-01-19/sglx/0355_nightstim_g0/wav_sync.npy\n",
      "2022-01-20 14:05:09,877 ceciestunepipe.util.spikeextractors.preprocess INFO     Getting sync events from the wav sync channel\n",
      "2022-01-20 14:05:13,224 ceciestunepipe.util.spikeextractors.preprocess INFO     saving sync events of the wav channel to /mnt/sphere/speech_bci/derived_data/s_b1238_22/2022-01-19/sglx/0355_nightstim_g0/wav_sync_evt.npy\n",
      "2022-01-20 14:05:13,243 ceciestunepipe.util.spikeextractors.preprocess INFO     saving t0 for wav channel to /mnt/sphere/speech_bci/derived_data/s_b1238_22/2022-01-19/sglx/0355_nightstim_g0/wav_t0.npy\n",
      "2022-01-20 14:05:55,665 ceciestunepipe.util.spikeextractors.preprocess INFO     Will get 1 ttl signals\n",
      "2022-01-20 14:05:55,666 ceciestunepipe.util.spikeextractors.preprocess INFO     looking for signal wav_ttl in the nidaq channels\n",
      "2022-01-20 14:05:55,667 ceciestunepipe.util.spikeextractors.preprocess INFO     found in chan 2\n",
      "2022-01-20 14:05:55,668 ceciestunepipe.util.spikeextractors.extractors.spikeglxrecordingextractor.spikeglxrecordingextractor INFO     getting ttl events, chan 2\n",
      "2022-01-20 14:06:05,043 ceciestunepipe.util.spikeextractors.preprocess INFO     saving (0, 2)-shaped array as npy in /mnt/sphere/speech_bci/derived_data/s_b1238_22/2022-01-19/sglx/0355_nightstim_g0/wav_ttl_evt.npy\n",
      "2022-01-20 14:06:05,068 ceciestunepipe.util.spikeextractors.preprocess INFO     saving sync dict to /mnt/sphere/speech_bci/derived_data/s_b1238_22/2022-01-19/sglx/0355_nightstim_g0/wav_sync_dict.pkl\n",
      "2022-01-20 14:06:05,083 ceciestunepipe.util.spikeextractors.preprocess INFO     PREPROCESSING sess 2022-01-19 | epoch 0711_g0\n",
      "2022-01-20 14:06:05,084 ceciestunepipe.util.spikeextractors.preprocess INFO     getting extractors\n",
      "2022-01-20 14:06:05,155 ceciestunepipe.util.spikeextractors.preprocess INFO     Getting microphone channel(s) ['microphone_0', 'microphone_1']\n",
      "2022-01-20 14:06:07,013 ceciestunepipe.util.wavutil INFO     sampling rate 40000\n",
      "2022-01-20 14:06:07,014 ceciestunepipe.util.wavutil INFO     saving (2, 575233689)-shaped array as wav in /mnt/sphere/speech_bci/derived_data/s_b1238_22/2022-01-19/sglx/0711_g0/wav_mic.wav\n",
      "2022-01-20 14:06:34,396 ceciestunepipe.util.wavutil INFO     saving (2, 575233689)-shaped array as npy in /mnt/sphere/speech_bci/derived_data/s_b1238_22/2022-01-19/sglx/0711_g0/wav_mic.npy\n",
      "2022-01-20 14:06:55,736 ceciestunepipe.util.spikeextractors.preprocess INFO     Getting stimulus channel(s) ['wav_stim', 'wav_syn']\n",
      "2022-01-20 14:06:55,738 ceciestunepipe.util.wavutil INFO     sampling rate 40000\n",
      "2022-01-20 14:06:55,739 ceciestunepipe.util.wavutil INFO     saving (2, 575233689)-shaped array as wav in /mnt/sphere/speech_bci/derived_data/s_b1238_22/2022-01-19/sglx/0711_g0/wav_stim.wav\n",
      "2022-01-20 14:07:23,367 ceciestunepipe.util.wavutil INFO     saving (2, 575233689)-shaped array as npy in /mnt/sphere/speech_bci/derived_data/s_b1238_22/2022-01-19/sglx/0711_g0/wav_stim.npy\n",
      "2022-01-20 14:08:21,182 ceciestunepipe.util.spikeextractors.preprocess INFO     Getting sync channel(s) ['sync']\n",
      "2022-01-20 14:08:21,183 ceciestunepipe.util.spikeextractors.extractors.spikeglxrecordingextractor.spikeglxrecordingextractor INFO     getting ttl traces, chan range(0, 7)\n",
      "2022-01-20 14:08:33,756 ceciestunepipe.util.wavutil INFO     sampling rate 40000\n",
      "2022-01-20 14:08:33,756 ceciestunepipe.util.wavutil INFO     saving (1, 575233689)-shaped array as wav in /mnt/sphere/speech_bci/derived_data/s_b1238_22/2022-01-19/sglx/0711_g0/wav_sync.wav\n",
      "2022-01-20 14:08:44,499 ceciestunepipe.util.wavutil INFO     saving (1, 575233689)-shaped array as npy in /mnt/sphere/speech_bci/derived_data/s_b1238_22/2022-01-19/sglx/0711_g0/wav_sync.npy\n",
      "2022-01-20 14:08:55,246 ceciestunepipe.util.spikeextractors.preprocess INFO     Getting sync events from the wav sync channel\n",
      "2022-01-20 14:08:59,151 ceciestunepipe.util.spikeextractors.preprocess INFO     saving sync events of the wav channel to /mnt/sphere/speech_bci/derived_data/s_b1238_22/2022-01-19/sglx/0711_g0/wav_sync_evt.npy\n",
      "2022-01-20 14:08:59,177 ceciestunepipe.util.spikeextractors.preprocess INFO     saving t0 for wav channel to /mnt/sphere/speech_bci/derived_data/s_b1238_22/2022-01-19/sglx/0711_g0/wav_t0.npy\n",
      "2022-01-20 14:09:48,117 ceciestunepipe.util.spikeextractors.preprocess INFO     Will get 1 ttl signals\n",
      "2022-01-20 14:09:48,118 ceciestunepipe.util.spikeextractors.preprocess INFO     looking for signal wav_ttl in the nidaq channels\n",
      "2022-01-20 14:09:48,119 ceciestunepipe.util.spikeextractors.preprocess INFO     found in chan 2\n",
      "2022-01-20 14:09:48,120 ceciestunepipe.util.spikeextractors.extractors.spikeglxrecordingextractor.spikeglxrecordingextractor INFO     getting ttl events, chan 2\n",
      "2022-01-20 14:09:58,625 ceciestunepipe.util.spikeextractors.preprocess INFO     saving (0, 2)-shaped array as npy in /mnt/sphere/speech_bci/derived_data/s_b1238_22/2022-01-19/sglx/0711_g0/wav_ttl_evt.npy\n",
      "2022-01-20 14:09:58,738 ceciestunepipe.util.spikeextractors.preprocess INFO     saving sync dict to /mnt/sphere/speech_bci/derived_data/s_b1238_22/2022-01-19/sglx/0711_g0/wav_sync_dict.pkl\n",
      "2022-01-20 14:09:58,757 ceciestunepipe.util.spikeextractors.preprocess INFO     PREPROCESSING sess 2022-01-19 | epoch 1113_g0\n",
      "2022-01-20 14:09:58,758 ceciestunepipe.util.spikeextractors.preprocess INFO     getting extractors\n",
      "2022-01-20 14:09:58,890 ceciestunepipe.util.spikeextractors.preprocess INFO     Getting microphone channel(s) ['microphone_0', 'microphone_1']\n",
      "2022-01-20 14:11:08,559 ceciestunepipe.util.wavutil INFO     sampling rate 40000\n",
      "2022-01-20 14:11:08,560 ceciestunepipe.util.wavutil INFO     saving (2, 650698701)-shaped array as wav in /mnt/sphere/speech_bci/derived_data/s_b1238_22/2022-01-19/sglx/1113_g0/wav_mic.wav\n",
      "2022-01-20 14:11:39,389 ceciestunepipe.util.wavutil INFO     saving (2, 650698701)-shaped array as npy in /mnt/sphere/speech_bci/derived_data/s_b1238_22/2022-01-19/sglx/1113_g0/wav_mic.npy\n",
      "2022-01-20 14:12:03,269 ceciestunepipe.util.spikeextractors.preprocess INFO     Getting stimulus channel(s) ['wav_stim', 'wav_syn']\n",
      "2022-01-20 14:12:03,270 ceciestunepipe.util.wavutil INFO     sampling rate 40000\n",
      "2022-01-20 14:12:03,271 ceciestunepipe.util.wavutil INFO     saving (2, 650698701)-shaped array as wav in /mnt/sphere/speech_bci/derived_data/s_b1238_22/2022-01-19/sglx/1113_g0/wav_stim.wav\n",
      "2022-01-20 14:12:34,367 ceciestunepipe.util.wavutil INFO     saving (2, 650698701)-shaped array as npy in /mnt/sphere/speech_bci/derived_data/s_b1238_22/2022-01-19/sglx/1113_g0/wav_stim.npy\n",
      "2022-01-20 14:13:39,597 ceciestunepipe.util.spikeextractors.preprocess INFO     Getting sync channel(s) ['sync']\n",
      "2022-01-20 14:13:39,598 ceciestunepipe.util.spikeextractors.extractors.spikeglxrecordingextractor.spikeglxrecordingextractor INFO     getting ttl traces, chan range(0, 7)\n",
      "2022-01-20 14:14:03,463 ceciestunepipe.util.wavutil INFO     sampling rate 40000\n",
      "2022-01-20 14:14:03,464 ceciestunepipe.util.wavutil INFO     saving (1, 650698701)-shaped array as wav in /mnt/sphere/speech_bci/derived_data/s_b1238_22/2022-01-19/sglx/1113_g0/wav_sync.wav\n",
      "2022-01-20 14:14:15,577 ceciestunepipe.util.wavutil INFO     saving (1, 650698701)-shaped array as npy in /mnt/sphere/speech_bci/derived_data/s_b1238_22/2022-01-19/sglx/1113_g0/wav_sync.npy\n",
      "2022-01-20 14:14:27,551 ceciestunepipe.util.spikeextractors.preprocess INFO     Getting sync events from the wav sync channel\n",
      "2022-01-20 14:14:32,890 ceciestunepipe.util.spikeextractors.preprocess INFO     saving sync events of the wav channel to /mnt/sphere/speech_bci/derived_data/s_b1238_22/2022-01-19/sglx/1113_g0/wav_sync_evt.npy\n",
      "2022-01-20 14:14:32,918 ceciestunepipe.util.spikeextractors.preprocess INFO     saving t0 for wav channel to /mnt/sphere/speech_bci/derived_data/s_b1238_22/2022-01-19/sglx/1113_g0/wav_t0.npy\n",
      "2022-01-20 14:15:32,925 ceciestunepipe.util.spikeextractors.preprocess INFO     Will get 1 ttl signals\n",
      "2022-01-20 14:15:32,926 ceciestunepipe.util.spikeextractors.preprocess INFO     looking for signal wav_ttl in the nidaq channels\n",
      "2022-01-20 14:15:32,927 ceciestunepipe.util.spikeextractors.preprocess INFO     found in chan 2\n",
      "2022-01-20 14:15:32,928 ceciestunepipe.util.spikeextractors.extractors.spikeglxrecordingextractor.spikeglxrecordingextractor INFO     getting ttl events, chan 2\n",
      "2022-01-20 14:15:50,247 ceciestunepipe.util.spikeextractors.preprocess INFO     saving (0, 2)-shaped array as npy in /mnt/sphere/speech_bci/derived_data/s_b1238_22/2022-01-19/sglx/1113_g0/wav_ttl_evt.npy\n",
      "2022-01-20 14:15:50,298 ceciestunepipe.util.spikeextractors.preprocess INFO     saving sync dict to /mnt/sphere/speech_bci/derived_data/s_b1238_22/2022-01-19/sglx/1113_g0/wav_sync_dict.pkl\n",
      "2022-01-20 14:15:50,331 ceciestunepipe.util.spikeextractors.preprocess INFO     PREPROCESSING sess 2022-01-19 | epoch 1545_g0\n",
      "2022-01-20 14:15:50,332 ceciestunepipe.util.spikeextractors.preprocess INFO     getting extractors\n",
      "2022-01-20 14:15:50,588 ceciestunepipe.util.spikeextractors.preprocess INFO     Getting microphone channel(s) ['microphone_0', 'microphone_1']\n",
      "2022-01-20 14:16:50,443 ceciestunepipe.util.wavutil INFO     sampling rate 40000\n",
      "2022-01-20 14:16:50,444 ceciestunepipe.util.wavutil INFO     saving (2, 553444353)-shaped array as wav in /mnt/sphere/speech_bci/derived_data/s_b1238_22/2022-01-19/sglx/1545_g0/wav_mic.wav\n",
      "2022-01-20 14:17:16,582 ceciestunepipe.util.wavutil INFO     saving (2, 553444353)-shaped array as npy in /mnt/sphere/speech_bci/derived_data/s_b1238_22/2022-01-19/sglx/1545_g0/wav_mic.npy\n",
      "2022-01-20 14:17:36,920 ceciestunepipe.util.spikeextractors.preprocess INFO     Getting stimulus channel(s) ['wav_stim', 'wav_syn']\n",
      "2022-01-20 14:17:36,921 ceciestunepipe.util.wavutil INFO     sampling rate 40000\n",
      "2022-01-20 14:17:36,922 ceciestunepipe.util.wavutil INFO     saving (2, 553444353)-shaped array as wav in /mnt/sphere/speech_bci/derived_data/s_b1238_22/2022-01-19/sglx/1545_g0/wav_stim.wav\n",
      "2022-01-20 14:18:03,834 ceciestunepipe.util.wavutil INFO     saving (2, 553444353)-shaped array as npy in /mnt/sphere/speech_bci/derived_data/s_b1238_22/2022-01-19/sglx/1545_g0/wav_stim.npy\n",
      "2022-01-20 14:18:59,065 ceciestunepipe.util.spikeextractors.preprocess INFO     Getting sync channel(s) ['sync']\n",
      "2022-01-20 14:18:59,066 ceciestunepipe.util.spikeextractors.extractors.spikeglxrecordingextractor.spikeglxrecordingextractor INFO     getting ttl traces, chan range(0, 7)\n",
      "2022-01-20 14:19:19,843 ceciestunepipe.util.wavutil INFO     sampling rate 40000\n",
      "2022-01-20 14:19:19,844 ceciestunepipe.util.wavutil INFO     saving (1, 553444353)-shaped array as wav in /mnt/sphere/speech_bci/derived_data/s_b1238_22/2022-01-19/sglx/1545_g0/wav_sync.wav\n",
      "2022-01-20 14:19:30,068 ceciestunepipe.util.wavutil INFO     saving (1, 553444353)-shaped array as npy in /mnt/sphere/speech_bci/derived_data/s_b1238_22/2022-01-19/sglx/1545_g0/wav_sync.npy\n",
      "2022-01-20 14:19:40,276 ceciestunepipe.util.spikeextractors.preprocess INFO     Getting sync events from the wav sync channel\n",
      "2022-01-20 14:19:45,122 ceciestunepipe.util.spikeextractors.preprocess INFO     saving sync events of the wav channel to /mnt/sphere/speech_bci/derived_data/s_b1238_22/2022-01-19/sglx/1545_g0/wav_sync_evt.npy\n",
      "2022-01-20 14:19:45,146 ceciestunepipe.util.spikeextractors.preprocess INFO     saving t0 for wav channel to /mnt/sphere/speech_bci/derived_data/s_b1238_22/2022-01-19/sglx/1545_g0/wav_t0.npy\n",
      "2022-01-20 14:20:38,992 ceciestunepipe.util.spikeextractors.preprocess INFO     Will get 1 ttl signals\n",
      "2022-01-20 14:20:38,993 ceciestunepipe.util.spikeextractors.preprocess INFO     looking for signal wav_ttl in the nidaq channels\n",
      "2022-01-20 14:20:38,994 ceciestunepipe.util.spikeextractors.preprocess INFO     found in chan 2\n",
      "2022-01-20 14:20:38,994 ceciestunepipe.util.spikeextractors.extractors.spikeglxrecordingextractor.spikeglxrecordingextractor INFO     getting ttl events, chan 2\n",
      "2022-01-20 14:20:55,064 ceciestunepipe.util.spikeextractors.preprocess INFO     saving (0, 2)-shaped array as npy in /mnt/sphere/speech_bci/derived_data/s_b1238_22/2022-01-19/sglx/1545_g0/wav_ttl_evt.npy\n",
      "2022-01-20 14:20:55,144 ceciestunepipe.util.spikeextractors.preprocess INFO     saving sync dict to /mnt/sphere/speech_bci/derived_data/s_b1238_22/2022-01-19/sglx/1545_g0/wav_sync_dict.pkl\n"
     ]
    }
   ],
   "source": [
    "### sequentially process all runs of the sessions\n",
    "def preprocess_session(sess_par: dict):\n",
    "    logger.info('pre-process all runs of sess ' + sess_par['sess'])\n",
    "    # get exp struct\n",
    "    sess_struct = et.get_exp_struct(sess_par['bird'], sess_par['sess'], sort=sess_par['sort'])\n",
    "    # list the epochs\n",
    "    sess_epochs = et.list_sgl_epochs(sess_par)\n",
    "    logger.info('found epochs: {}'.format(sess_epochs))\n",
    "    # preprocess all epochs\n",
    "    epoch_dict_list = []\n",
    "    for i_ep, epoch in enumerate(sess_epochs):\n",
    "        try:\n",
    "            exp_struct = et.sgl_struct(sess_par, epoch)\n",
    "            one_epoch_dict = pre.preprocess_run(sess_par, exp_struct, epoch)\n",
    "            epoch_dict_list.append(one_epoch_dict)\n",
    "        except Exception as exc:\n",
    "            warnings.warn('Error in epoch {}'.format(epoch), UserWarning)\n",
    "            logger.info(traceback.format_exc)\n",
    "            logger.info(exc)\n",
    "            logger.info('Session {} epoch {} could not be preprocessed'.format(sess_par['sess'], epoch))\n",
    "        \n",
    "    return epoch_dict_list\n",
    "\n",
    "all_epoch_list = preprocess_session(sess_par)"
   ]
  },
  {
   "cell_type": "markdown",
   "metadata": {},
   "source": [
    "## Process multiple sessions"
   ]
  },
  {
   "cell_type": "code",
   "execution_count": 16,
   "metadata": {
    "tags": []
   },
   "outputs": [],
   "source": [
    "sess_list = all_bird_sess\n",
    "# fist implant, right hemisphere\n",
    "#sess_list = ['2021-06-24', '2021-06-25', '2021-06-26', '2021-06-27', '2021-06-28', '2021-06-29', '2021-06-30']\n",
    "sess_list = ['2022-01-27']"
   ]
  },
  {
   "cell_type": "code",
   "execution_count": 17,
   "metadata": {
    "tags": []
   },
   "outputs": [
    {
     "name": "stderr",
     "output_type": "stream",
     "text": [
      "2022-01-20 17:05:04,208 root         INFO     pre-process all runs of sess 2022-01-19\n",
      "2022-01-20 17:05:04,210 ceciestunepipe.file.bcistructure INFO     {'folders': {'bird': '/mnt/sphere/speech_bci/raw_data/s_b1238_22', 'raw': '/mnt/sphere/speech_bci/raw_data/s_b1238_22/2022-01-19', 'sglx': '/mnt/sphere/speech_bci/raw_data/s_b1238_22/2022-01-19/sglx', 'kwik': '/experiment/s_b1238_22/sglx/kwik/2022-01-19', 'processed': '/mnt/sphere/speech_bci/processed_data/s_b1238_22/2022-01-19/sglx', 'derived': '/mnt/sphere/speech_bci/derived_data/s_b1238_22/2022-01-19/sglx', 'tmp': '/experiment/tmp/tmp', 'msort': '/experiment/tmp/s_b1238_22/sglx/msort/2022-01-19', 'ksort': '/experiment/tmp/s_b1238_22/sglx/ksort/2022-01-19/2', 'sort': '/mnt/sphere/speech_bci/derived_data/s_b1238_22/2022-01-19/sglx/2'}, 'files': {'par': '/experiment/tmp/s_b1238_22/sglx/ksort/2022-01-19/2/params.json', 'set': '/mnt/sphere/speech_bci/raw_data/s_b1238_22/2022-01-19/sglx/settings.isf', 'rig': '/mnt/sphere/speech_bci/raw_data/s_b1238_22/2022-01-19/sglx/rig.json', 'kwd': '/experiment/s_b1238_22/sglx/kwik/2022-01-19/stream.kwd', 'kwik': '/experiment/s_b1238_22/sglx/kwik/2022-01-19/sort_2/spikes.kwik', 'kwe': '/experiment/s_b1238_22/sglx/kwik/2022-01-19/events.kwe', 'dat_mic': '/mnt/sphere/speech_bci/processed_data/s_b1238_22/2022-01-19/sglx/dat_mic.mat', 'dat_ap': '/mnt/sphere/speech_bci/processed_data/s_b1238_22/2022-01-19/sglx/dat_ap.mat', 'allevents': '/mnt/sphere/speech_bci/processed_data/s_b1238_22/2022-01-19/sglx/dat_all.pkl', 'wav_mic': '/mnt/sphere/speech_bci/derived_data/s_b1238_22/2022-01-19/sglx/wav_mic.wav', 'mda_raw': '/experiment/tmp/s_b1238_22/sglx/msort/2022-01-19/raw.mda', 'bin_raw': '/experiment/tmp/s_b1238_22/sglx/ksort/2022-01-19/2/raw.bin'}}\n",
      "2022-01-20 17:05:04,248 root         INFO     found epochs: ['0355_nightstim_g0', '0711_g0', '1113_g0', '1545_g0']\n",
      "2022-01-20 17:05:04,249 ceciestunepipe.util.spikeextractors.preprocess INFO     PREPROCESSING sess 2022-01-19 | epoch 0355_nightstim_g0\n",
      "2022-01-20 17:05:04,250 ceciestunepipe.util.spikeextractors.preprocess INFO     getting extractors\n",
      "2022-01-20 17:05:04,378 ceciestunepipe.util.spikeextractors.preprocess INFO     Getting microphone channel(s) ['microphone_0', 'microphone_1']\n",
      "2022-01-20 17:05:54,356 ceciestunepipe.util.wavutil INFO     sampling rate 40000\n",
      "2022-01-20 17:05:54,357 ceciestunepipe.util.wavutil INFO     saving (2, 466902938)-shaped array as wav in /mnt/sphere/speech_bci/derived_data/s_b1238_22/2022-01-19/sglx/0355_nightstim_g0/wav_mic.wav\n",
      "2022-01-20 17:06:16,489 ceciestunepipe.util.wavutil INFO     saving (2, 466902938)-shaped array as npy in /mnt/sphere/speech_bci/derived_data/s_b1238_22/2022-01-19/sglx/0355_nightstim_g0/wav_mic.npy\n",
      "2022-01-20 17:06:33,747 ceciestunepipe.util.spikeextractors.preprocess INFO     Getting stimulus channel(s) ['wav_stim', 'wav_syn']\n",
      "2022-01-20 17:06:33,749 ceciestunepipe.util.wavutil INFO     sampling rate 40000\n",
      "2022-01-20 17:06:33,750 ceciestunepipe.util.wavutil INFO     saving (2, 466902938)-shaped array as wav in /mnt/sphere/speech_bci/derived_data/s_b1238_22/2022-01-19/sglx/0355_nightstim_g0/wav_stim.wav\n",
      "2022-01-20 17:06:56,082 ceciestunepipe.util.wavutil INFO     saving (2, 466902938)-shaped array as npy in /mnt/sphere/speech_bci/derived_data/s_b1238_22/2022-01-19/sglx/0355_nightstim_g0/wav_stim.npy\n",
      "2022-01-20 17:07:43,099 ceciestunepipe.util.spikeextractors.preprocess INFO     Getting sync channel(s) ['sync']\n",
      "2022-01-20 17:07:43,100 ceciestunepipe.util.spikeextractors.extractors.spikeglxrecordingextractor.spikeglxrecordingextractor INFO     getting ttl traces, chan range(0, 7)\n",
      "2022-01-20 17:08:09,635 ceciestunepipe.util.wavutil INFO     sampling rate 40000\n",
      "2022-01-20 17:08:09,636 ceciestunepipe.util.wavutil INFO     saving (1, 466902938)-shaped array as wav in /mnt/sphere/speech_bci/derived_data/s_b1238_22/2022-01-19/sglx/0355_nightstim_g0/wav_sync.wav\n",
      "2022-01-20 17:08:18,333 ceciestunepipe.util.wavutil INFO     saving (1, 466902938)-shaped array as npy in /mnt/sphere/speech_bci/derived_data/s_b1238_22/2022-01-19/sglx/0355_nightstim_g0/wav_sync.npy\n",
      "2022-01-20 17:08:27,023 ceciestunepipe.util.spikeextractors.preprocess INFO     Getting sync events from the wav sync channel\n",
      "2022-01-20 17:08:31,477 ceciestunepipe.util.spikeextractors.preprocess INFO     saving sync events of the wav channel to /mnt/sphere/speech_bci/derived_data/s_b1238_22/2022-01-19/sglx/0355_nightstim_g0/wav_sync_evt.npy\n",
      "2022-01-20 17:08:31,506 ceciestunepipe.util.spikeextractors.preprocess INFO     saving t0 for wav channel to /mnt/sphere/speech_bci/derived_data/s_b1238_22/2022-01-19/sglx/0355_nightstim_g0/wav_t0.npy\n",
      "2022-01-20 17:09:21,272 ceciestunepipe.util.spikeextractors.preprocess INFO     Will get 1 ttl signals\n",
      "2022-01-20 17:09:21,273 ceciestunepipe.util.spikeextractors.preprocess INFO     looking for signal wav_ttl in the nidaq channels\n",
      "2022-01-20 17:09:21,273 ceciestunepipe.util.spikeextractors.preprocess INFO     found in chan 2\n",
      "2022-01-20 17:09:21,274 ceciestunepipe.util.spikeextractors.extractors.spikeglxrecordingextractor.spikeglxrecordingextractor INFO     getting ttl events, chan 2\n",
      "2022-01-20 17:09:42,856 ceciestunepipe.util.spikeextractors.preprocess INFO     saving (0, 2)-shaped array as npy in /mnt/sphere/speech_bci/derived_data/s_b1238_22/2022-01-19/sglx/0355_nightstim_g0/wav_ttl_evt.npy\n",
      "2022-01-20 17:09:42,904 ceciestunepipe.util.spikeextractors.preprocess INFO     saving sync dict to /mnt/sphere/speech_bci/derived_data/s_b1238_22/2022-01-19/sglx/0355_nightstim_g0/wav_sync_dict.pkl\n",
      "2022-01-20 17:09:42,919 ceciestunepipe.util.spikeextractors.preprocess INFO     PREPROCESSING sess 2022-01-19 | epoch 0711_g0\n",
      "2022-01-20 17:09:42,920 ceciestunepipe.util.spikeextractors.preprocess INFO     getting extractors\n",
      "2022-01-20 17:09:42,969 ceciestunepipe.util.spikeextractors.preprocess INFO     Getting microphone channel(s) ['microphone_0', 'microphone_1']\n",
      "2022-01-20 17:10:08,794 ceciestunepipe.util.wavutil INFO     sampling rate 40000\n",
      "2022-01-20 17:10:08,795 ceciestunepipe.util.wavutil INFO     saving (2, 575233689)-shaped array as wav in /mnt/sphere/speech_bci/derived_data/s_b1238_22/2022-01-19/sglx/0711_g0/wav_mic.wav\n",
      "2022-01-20 17:10:36,279 ceciestunepipe.util.wavutil INFO     saving (2, 575233689)-shaped array as npy in /mnt/sphere/speech_bci/derived_data/s_b1238_22/2022-01-19/sglx/0711_g0/wav_mic.npy\n",
      "2022-01-20 17:10:57,494 ceciestunepipe.util.spikeextractors.preprocess INFO     Getting stimulus channel(s) ['wav_stim', 'wav_syn']\n",
      "2022-01-20 17:10:57,496 ceciestunepipe.util.wavutil INFO     sampling rate 40000\n",
      "2022-01-20 17:10:57,497 ceciestunepipe.util.wavutil INFO     saving (2, 575233689)-shaped array as wav in /mnt/sphere/speech_bci/derived_data/s_b1238_22/2022-01-19/sglx/0711_g0/wav_stim.wav\n",
      "2022-01-20 17:11:25,209 ceciestunepipe.util.wavutil INFO     saving (2, 575233689)-shaped array as npy in /mnt/sphere/speech_bci/derived_data/s_b1238_22/2022-01-19/sglx/0711_g0/wav_stim.npy\n",
      "2022-01-20 17:12:23,387 ceciestunepipe.util.spikeextractors.preprocess INFO     Getting sync channel(s) ['sync']\n",
      "2022-01-20 17:12:23,388 ceciestunepipe.util.spikeextractors.extractors.spikeglxrecordingextractor.spikeglxrecordingextractor INFO     getting ttl traces, chan range(0, 7)\n",
      "2022-01-20 17:12:52,074 ceciestunepipe.util.wavutil INFO     sampling rate 40000\n",
      "2022-01-20 17:12:52,075 ceciestunepipe.util.wavutil INFO     saving (1, 575233689)-shaped array as wav in /mnt/sphere/speech_bci/derived_data/s_b1238_22/2022-01-19/sglx/0711_g0/wav_sync.wav\n",
      "2022-01-20 17:13:02,756 ceciestunepipe.util.wavutil INFO     saving (1, 575233689)-shaped array as npy in /mnt/sphere/speech_bci/derived_data/s_b1238_22/2022-01-19/sglx/0711_g0/wav_sync.npy\n",
      "2022-01-20 17:13:13,498 ceciestunepipe.util.spikeextractors.preprocess INFO     Getting sync events from the wav sync channel\n",
      "2022-01-20 17:13:22,659 ceciestunepipe.util.spikeextractors.preprocess INFO     saving sync events of the wav channel to /mnt/sphere/speech_bci/derived_data/s_b1238_22/2022-01-19/sglx/0711_g0/wav_sync_evt.npy\n",
      "2022-01-20 17:13:22,685 ceciestunepipe.util.spikeextractors.preprocess INFO     saving t0 for wav channel to /mnt/sphere/speech_bci/derived_data/s_b1238_22/2022-01-19/sglx/0711_g0/wav_t0.npy\n",
      "2022-01-20 17:14:23,721 ceciestunepipe.util.spikeextractors.preprocess INFO     Will get 1 ttl signals\n",
      "2022-01-20 17:14:23,760 ceciestunepipe.util.spikeextractors.preprocess INFO     looking for signal wav_ttl in the nidaq channels\n",
      "2022-01-20 17:14:23,761 ceciestunepipe.util.spikeextractors.preprocess INFO     found in chan 2\n",
      "2022-01-20 17:14:23,780 ceciestunepipe.util.spikeextractors.extractors.spikeglxrecordingextractor.spikeglxrecordingextractor INFO     getting ttl events, chan 2\n",
      "2022-01-20 17:15:17,260 ceciestunepipe.util.spikeextractors.preprocess INFO     saving (0, 2)-shaped array as npy in /mnt/sphere/speech_bci/derived_data/s_b1238_22/2022-01-19/sglx/0711_g0/wav_ttl_evt.npy\n",
      "2022-01-20 17:15:17,302 ceciestunepipe.util.spikeextractors.preprocess INFO     saving sync dict to /mnt/sphere/speech_bci/derived_data/s_b1238_22/2022-01-19/sglx/0711_g0/wav_sync_dict.pkl\n",
      "2022-01-20 17:15:17,324 ceciestunepipe.util.spikeextractors.preprocess INFO     PREPROCESSING sess 2022-01-19 | epoch 1113_g0\n",
      "2022-01-20 17:15:17,325 ceciestunepipe.util.spikeextractors.preprocess INFO     getting extractors\n",
      "2022-01-20 17:15:17,478 ceciestunepipe.util.spikeextractors.preprocess INFO     Getting microphone channel(s) ['microphone_0', 'microphone_1']\n",
      "2022-01-20 17:16:03,038 ceciestunepipe.util.wavutil INFO     sampling rate 40000\n",
      "2022-01-20 17:16:03,039 ceciestunepipe.util.wavutil INFO     saving (2, 650698701)-shaped array as wav in /mnt/sphere/speech_bci/derived_data/s_b1238_22/2022-01-19/sglx/1113_g0/wav_mic.wav\n",
      "2022-01-20 17:16:40,423 ceciestunepipe.util.wavutil INFO     saving (2, 650698701)-shaped array as npy in /mnt/sphere/speech_bci/derived_data/s_b1238_22/2022-01-19/sglx/1113_g0/wav_mic.npy\n",
      "2022-01-20 17:17:05,225 ceciestunepipe.util.spikeextractors.preprocess INFO     Getting stimulus channel(s) ['wav_stim', 'wav_syn']\n",
      "2022-01-20 17:17:05,226 ceciestunepipe.util.wavutil INFO     sampling rate 40000\n",
      "2022-01-20 17:17:05,227 ceciestunepipe.util.wavutil INFO     saving (2, 650698701)-shaped array as wav in /mnt/sphere/speech_bci/derived_data/s_b1238_22/2022-01-19/sglx/1113_g0/wav_stim.wav\n",
      "2022-01-20 17:17:36,465 ceciestunepipe.util.wavutil INFO     saving (2, 650698701)-shaped array as npy in /mnt/sphere/speech_bci/derived_data/s_b1238_22/2022-01-19/sglx/1113_g0/wav_stim.npy\n",
      "2022-01-20 17:18:41,032 ceciestunepipe.util.spikeextractors.preprocess INFO     Getting sync channel(s) ['sync']\n",
      "2022-01-20 17:18:41,034 ceciestunepipe.util.spikeextractors.extractors.spikeglxrecordingextractor.spikeglxrecordingextractor INFO     getting ttl traces, chan range(0, 7)\n",
      "2022-01-20 17:19:19,440 ceciestunepipe.util.wavutil INFO     sampling rate 40000\n",
      "2022-01-20 17:19:19,507 ceciestunepipe.util.wavutil INFO     saving (1, 650698701)-shaped array as wav in /mnt/sphere/speech_bci/derived_data/s_b1238_22/2022-01-19/sglx/1113_g0/wav_sync.wav\n",
      "2022-01-20 17:19:31,687 ceciestunepipe.util.wavutil INFO     saving (1, 650698701)-shaped array as npy in /mnt/sphere/speech_bci/derived_data/s_b1238_22/2022-01-19/sglx/1113_g0/wav_sync.npy\n",
      "2022-01-20 17:19:43,838 ceciestunepipe.util.spikeextractors.preprocess INFO     Getting sync events from the wav sync channel\n",
      "2022-01-20 17:19:54,639 ceciestunepipe.util.spikeextractors.preprocess INFO     saving sync events of the wav channel to /mnt/sphere/speech_bci/derived_data/s_b1238_22/2022-01-19/sglx/1113_g0/wav_sync_evt.npy\n",
      "2022-01-20 17:19:54,661 ceciestunepipe.util.spikeextractors.preprocess INFO     saving t0 for wav channel to /mnt/sphere/speech_bci/derived_data/s_b1238_22/2022-01-19/sglx/1113_g0/wav_t0.npy\n",
      "2022-01-20 17:21:04,795 ceciestunepipe.util.spikeextractors.preprocess INFO     Will get 1 ttl signals\n",
      "2022-01-20 17:21:04,796 ceciestunepipe.util.spikeextractors.preprocess INFO     looking for signal wav_ttl in the nidaq channels\n",
      "2022-01-20 17:21:04,797 ceciestunepipe.util.spikeextractors.preprocess INFO     found in chan 2\n",
      "2022-01-20 17:21:04,816 ceciestunepipe.util.spikeextractors.extractors.spikeglxrecordingextractor.spikeglxrecordingextractor INFO     getting ttl events, chan 2\n",
      "2022-01-20 17:21:50,451 ceciestunepipe.util.spikeextractors.preprocess INFO     saving (0, 2)-shaped array as npy in /mnt/sphere/speech_bci/derived_data/s_b1238_22/2022-01-19/sglx/1113_g0/wav_ttl_evt.npy\n",
      "2022-01-20 17:21:50,491 ceciestunepipe.util.spikeextractors.preprocess INFO     saving sync dict to /mnt/sphere/speech_bci/derived_data/s_b1238_22/2022-01-19/sglx/1113_g0/wav_sync_dict.pkl\n",
      "2022-01-20 17:21:50,557 ceciestunepipe.util.spikeextractors.preprocess INFO     PREPROCESSING sess 2022-01-19 | epoch 1545_g0\n",
      "2022-01-20 17:21:50,558 ceciestunepipe.util.spikeextractors.preprocess INFO     getting extractors\n",
      "2022-01-20 17:21:50,748 ceciestunepipe.util.spikeextractors.preprocess INFO     Getting microphone channel(s) ['microphone_0', 'microphone_1']\n",
      "2022-01-20 17:22:29,917 ceciestunepipe.util.wavutil INFO     sampling rate 40000\n",
      "2022-01-20 17:22:29,918 ceciestunepipe.util.wavutil INFO     saving (2, 553444353)-shaped array as wav in /mnt/sphere/speech_bci/derived_data/s_b1238_22/2022-01-19/sglx/1545_g0/wav_mic.wav\n",
      "2022-01-20 17:22:56,107 ceciestunepipe.util.wavutil INFO     saving (2, 553444353)-shaped array as npy in /mnt/sphere/speech_bci/derived_data/s_b1238_22/2022-01-19/sglx/1545_g0/wav_mic.npy\n",
      "2022-01-20 17:23:16,496 ceciestunepipe.util.spikeextractors.preprocess INFO     Getting stimulus channel(s) ['wav_stim', 'wav_syn']\n",
      "2022-01-20 17:23:16,498 ceciestunepipe.util.wavutil INFO     sampling rate 40000\n",
      "2022-01-20 17:23:16,499 ceciestunepipe.util.wavutil INFO     saving (2, 553444353)-shaped array as wav in /mnt/sphere/speech_bci/derived_data/s_b1238_22/2022-01-19/sglx/1545_g0/wav_stim.wav\n",
      "2022-01-20 17:23:42,886 ceciestunepipe.util.wavutil INFO     saving (2, 553444353)-shaped array as npy in /mnt/sphere/speech_bci/derived_data/s_b1238_22/2022-01-19/sglx/1545_g0/wav_stim.npy\n",
      "2022-01-20 17:24:37,554 ceciestunepipe.util.spikeextractors.preprocess INFO     Getting sync channel(s) ['sync']\n",
      "2022-01-20 17:24:37,555 ceciestunepipe.util.spikeextractors.extractors.spikeglxrecordingextractor.spikeglxrecordingextractor INFO     getting ttl traces, chan range(0, 7)\n",
      "2022-01-20 17:25:00,056 ceciestunepipe.util.wavutil INFO     sampling rate 40000\n",
      "2022-01-20 17:25:00,057 ceciestunepipe.util.wavutil INFO     saving (1, 553444353)-shaped array as wav in /mnt/sphere/speech_bci/derived_data/s_b1238_22/2022-01-19/sglx/1545_g0/wav_sync.wav\n",
      "2022-01-20 17:25:10,310 ceciestunepipe.util.wavutil INFO     saving (1, 553444353)-shaped array as npy in /mnt/sphere/speech_bci/derived_data/s_b1238_22/2022-01-19/sglx/1545_g0/wav_sync.npy\n",
      "2022-01-20 17:25:20,629 ceciestunepipe.util.spikeextractors.preprocess INFO     Getting sync events from the wav sync channel\n",
      "2022-01-20 17:25:29,018 ceciestunepipe.util.spikeextractors.preprocess INFO     saving sync events of the wav channel to /mnt/sphere/speech_bci/derived_data/s_b1238_22/2022-01-19/sglx/1545_g0/wav_sync_evt.npy\n",
      "2022-01-20 17:25:29,029 ceciestunepipe.util.spikeextractors.preprocess INFO     saving t0 for wav channel to /mnt/sphere/speech_bci/derived_data/s_b1238_22/2022-01-19/sglx/1545_g0/wav_t0.npy\n",
      "2022-01-20 17:26:28,733 ceciestunepipe.util.spikeextractors.preprocess INFO     Will get 1 ttl signals\n",
      "2022-01-20 17:26:28,734 ceciestunepipe.util.spikeextractors.preprocess INFO     looking for signal wav_ttl in the nidaq channels\n",
      "2022-01-20 17:26:28,735 ceciestunepipe.util.spikeextractors.preprocess INFO     found in chan 2\n",
      "2022-01-20 17:26:28,735 ceciestunepipe.util.spikeextractors.extractors.spikeglxrecordingextractor.spikeglxrecordingextractor INFO     getting ttl events, chan 2\n",
      "2022-01-20 17:27:35,135 ceciestunepipe.util.spikeextractors.preprocess INFO     saving (0, 2)-shaped array as npy in /mnt/sphere/speech_bci/derived_data/s_b1238_22/2022-01-19/sglx/1545_g0/wav_ttl_evt.npy\n",
      "2022-01-20 17:27:35,194 ceciestunepipe.util.spikeextractors.preprocess INFO     saving sync dict to /mnt/sphere/speech_bci/derived_data/s_b1238_22/2022-01-19/sglx/1545_g0/wav_sync_dict.pkl\n"
     ]
    }
   ],
   "source": [
    "all_sess_dict = {}\n",
    "\n",
    "for one_sess in sess_list[:]:\n",
    "    sess_par['sess'] = one_sess\n",
    "    preprocess_session(sess_par)"
   ]
  },
  {
   "cell_type": "code",
   "execution_count": 17,
   "metadata": {},
   "outputs": [
    {
     "data": {
      "text/plain": [
       "{'bird': 's_b1238_22',\n",
       " 'sess': '2022-01-27',\n",
       " 'probes': ['probe_0'],\n",
       " 'mic_list': ['microphone_0', 'microphone_1'],\n",
       " 'stim_list': ['wav_stim', 'wav_syn'],\n",
       " 'nidq_ttl_list': ['wav_ttl'],\n",
       " 'sort': 2}"
      ]
     },
     "execution_count": 17,
     "metadata": {},
     "output_type": "execute_result"
    }
   ],
   "source": [
    "sess_par"
   ]
  },
  {
   "cell_type": "code",
   "execution_count": 18,
   "metadata": {},
   "outputs": [],
   "source": [
    "# Search bouts"
   ]
  },
  {
   "cell_type": "markdown",
   "metadata": {},
   "source": [
    "## search bouts for those sessions"
   ]
  },
  {
   "cell_type": "code",
   "execution_count": 19,
   "metadata": {},
   "outputs": [],
   "source": [
    "from ceciestunepipe.util.sound import boutsearch as bs\n",
    "from ceciestunepipe.util import wavutil as wu\n",
    "\n",
    "from joblib import Parallel, delayed\n",
    "import pickle\n",
    "import sys"
   ]
  },
  {
   "cell_type": "code",
   "execution_count": 20,
   "metadata": {},
   "outputs": [],
   "source": [
    "def sess_file_id(f_path):\n",
    "    n = int(os.path.split(f_path)[1].split('-')[-1].split('.wav')[0])\n",
    "    return n\n",
    "\n",
    "\n",
    "def get_all_day_bouts(sess_par: dict, hparams:dict, n_jobs: int=12, ephys_software='sglx', \n",
    "                     parallel=True) -> pd.DataFrame:\n",
    "    \n",
    "    logger.info('Will search for bouts through all session {}, {}'.format(sess_par['bird'], sess_par['sess']))\n",
    "    exp_struct = et.get_exp_struct(sess_par['bird'], sess_par['sess'], ephys_software=ephys_software)\n",
    "\n",
    "    # get all the paths to the wav files of the epochs of the day   \n",
    "    source_folder = exp_struct['folders']['derived']\n",
    "    wav_path_list = et.get_sgl_files_epochs(source_folder, file_filter='*wav_mic.wav')\n",
    "    wav_path_list.sort()\n",
    "    logger.info('Found {} files'.format(len(wav_path_list)))\n",
    "    print(wav_path_list)\n",
    "    \n",
    "    get_file_bouts = lambda path: bs.get_epoch_bouts(path, hparams)\n",
    "    # Go parallel through all the paths in the day, get a list of all the pandas dataframes for each file\n",
    "    if parallel:\n",
    "        sess_pd_list = Parallel(n_jobs=n_jobs, verbose=100, prefer='threads')(delayed(get_file_bouts)(i) for i in wav_path_list)\n",
    "    else:\n",
    "        sess_pd_list = [get_file_bouts(i) for i in wav_path_list]\n",
    "    \n",
    "    #concatenate the file and return it, eventually write to a pickle\n",
    "    sess_bout_pd = pd.concat(sess_pd_list)\n",
    "    return sess_bout_pd\n",
    "\n",
    "def save_auto_bouts(sess_bout_pd, sess_par, hparams):\n",
    "    exp_struct = et.get_exp_struct(sess_par['bird'], sess_par['sess'], ephys_software='bouts_sglx')\n",
    "    #sess_bouts_dir = os.path.join(exp_struct['folders']['derived'], 'bouts_ceciestunepipe')\n",
    "    sess_bouts_dir = exp_struct['folders']['derived']\n",
    "\n",
    "    sess_bouts_path = os.path.join(sess_bouts_dir, hparams['bout_auto_file'])\n",
    "    hparams_pickle_path = os.path.join(sess_bouts_dir, 'bout_search_params.pickle')\n",
    "\n",
    "    os.makedirs(sess_bouts_dir, exist_ok=True)\n",
    "    logger.info('saving bouts pandas to ' + sess_bouts_path)\n",
    "    sess_bout_pd.to_pickle(sess_bouts_path)\n",
    "\n",
    "    logger.info('saving bout detect parameters dict to ' + hparams_pickle_path)\n",
    "    with open(hparams_pickle_path, 'wb') as fh:\n",
    "        pickle.dump(hparams, fh)"
   ]
  },
  {
   "cell_type": "code",
   "execution_count": 21,
   "metadata": {},
   "outputs": [],
   "source": [
    "hparams = {\n",
    "    # spectrogram\n",
    "    'num_freq':1024, #1024# how many channels to use in a spectrogram #\n",
    "    'preemphasis':0.97, \n",
    "    'frame_shift_ms':5, # step size for fft\n",
    "    'frame_length_ms':10, #128 # frame length for fft FRAME SAMPLES < NUM_FREQ!!!\n",
    "    'min_level_db':-55, # minimum threshold db for computing spe \n",
    "    'ref_level_db':110, # reference db for computing spec\n",
    "    #'sample_rate':None, # sample rate of your data\n",
    "    \n",
    "    # spectrograms\n",
    "    'mel_filter': False, # should a mel filter be used?\n",
    "    'num_mels':1024, # how many channels to use in the mel-spectrogram\n",
    "    'fmin': 500, # low frequency cutoff for mel filter\n",
    "    'fmax': 12000, # high frequency cutoff for mel filter\n",
    "    \n",
    "    # spectrogram inversion\n",
    "    'max_iters':200,\n",
    "    'griffin_lim_iters':20,\n",
    "    'power':1.5,\n",
    "\n",
    "    # Added for the searching\n",
    "    'read_wav_fun': wu.read_wav_chan, # function for loading the wav_like_stream (has to returns fs, ndarray)\n",
    "    'file_order_fun': sess_file_id, # function for extracting the file id within the session\n",
    "    'min_segment': 30, # Minimum length of supra_threshold to consider a 'syllable' (ms)\n",
    "    'min_silence': 2000, # Minmum distance between groups of syllables to consider separate bouts (ms)\n",
    "    'min_bout': 5000, # min bout duration (ms)\n",
    "    'peak_thresh_rms': 0.55, # threshold (rms) for peak acceptance,\n",
    "    'thresh_rms': 0.25, # threshold for detection of syllables\n",
    "    'mean_syl_rms_thresh': 0.3, #threshold for acceptance of mean rms across the syllable (relative to rms of the file)\n",
    "    'max_bout': 120000, #exclude bouts too long\n",
    "    'l_p_r_thresh': 100, # threshold for n of len_ms/peaks (typycally about 2-3 syllable spans\n",
    "    \n",
    "    'waveform_edges': 1000, #get number of ms before and after the edges of the bout for the waveform sample\n",
    "    \n",
    "    'bout_auto_file': 'bout_auto.pickle', # extension for saving the auto found files\n",
    "    'bout_curated_file': 'bout_checked.pickle', #extension for manually curated files (coming soon)\n",
    "    }"
   ]
  },
  {
   "cell_type": "code",
   "execution_count": 22,
   "metadata": {},
   "outputs": [
    {
     "data": {
      "text/plain": [
       "['2022-01-27']"
      ]
     },
     "execution_count": 22,
     "metadata": {},
     "output_type": "execute_result"
    }
   ],
   "source": [
    "sess_list"
   ]
  },
  {
   "cell_type": "code",
   "execution_count": 23,
   "metadata": {
    "tags": []
   },
   "outputs": [
    {
     "name": "stderr",
     "output_type": "stream",
     "text": [
      "2022-01-28 15:52:12,817 root         INFO     Will search for bouts through all session s_b1238_22, 2022-01-27\n",
      "2022-01-28 15:52:12,907 root         INFO     Found 1 files\n",
      "2022-01-28 15:52:12,908 ceciestunepipe.util.sound.boutsearch INFO     Getting bouts for long file /mnt/sphere/speech_bci/derived_data/s_b1238_22/2022-01-27/sglx/0605_g0/wav_mic.wav\n"
     ]
    },
    {
     "name": "stdout",
     "output_type": "stream",
     "text": [
      "['/mnt/sphere/speech_bci/derived_data/s_b1238_22/2022-01-27/sglx/0605_g0/wav_mic.wav']\n",
      "tu vieja file /mnt/sphere/speech_bci/derived_data/s_b1238_22/2022-01-27/sglx/0605_g0/wav_mic.wav\n"
     ]
    },
    {
     "name": "stderr",
     "output_type": "stream",
     "text": [
      "2022-01-28 15:52:12,912 ceciestunepipe.util.sound.boutsearch INFO     splitting file into 10 chunks\n"
     ]
    },
    {
     "data": {
      "application/vnd.jupyter.widget-view+json": {
       "model_id": "d2c84bb9d534427baf9ecbf21aed13d4",
       "version_major": 2,
       "version_minor": 0
      },
      "text/plain": [
       "  0%|          | 0/10 [00:00<?, ?it/s]"
      ]
     },
     "metadata": {},
     "output_type": "display_data"
    },
    {
     "name": "stderr",
     "output_type": "stream",
     "text": [
      "2022-01-28 15:58:12,195 ceciestunepipe.util.sound.boutsearch INFO     saving bout detect parameters dict to /mnt/sphere/speech_bci/derived_data/s_b1238_22/2022-01-27/sglx/0605_g0/bout_search_params.pickle\n",
      "2022-01-28 15:58:12,204 ceciestunepipe.util.sound.boutsearch INFO     saving bouts pandas to /mnt/sphere/speech_bci/derived_data/s_b1238_22/2022-01-27/sglx/0605_g0/bout_auto.pickle\n",
      "2022-01-28 15:58:14,996 root         INFO     saving bouts pandas to /mnt/sphere/speech_bci/derived_data/s_b1238_22/2022-01-27/bouts_sglx/bout_auto.pickle\n",
      "2022-01-28 15:58:17,800 root         INFO     saving bout detect parameters dict to /mnt/sphere/speech_bci/derived_data/s_b1238_22/2022-01-27/bouts_sglx/bout_search_params.pickle\n"
     ]
    }
   ],
   "source": [
    "all_sessions = sess_list[:]\n",
    "#all_sessions = ['2021-06-15']\n",
    "\n",
    "for sess in all_sessions:\n",
    "    sess_par['sess'] = sess\n",
    "    sess_bout_pd = get_all_day_bouts(sess_par, hparams, parallel=False)\n",
    "    save_auto_bouts(sess_bout_pd, sess_par, hparams)\n",
    "    sess_bouts_folder = os.path.join(exp_struct['folders']['derived'], 'bouts')\n",
    "    #bouts_to_wavs(sess_bout_pd, sess_par, hparams, sess_bouts_folder)"
   ]
  },
  {
   "cell_type": "code",
   "execution_count": 25,
   "metadata": {},
   "outputs": [
    {
     "name": "stdout",
     "output_type": "stream",
     "text": [
      "<class 'pandas.core.frame.DataFrame'>\n",
      "Int64Index: 349 entries, 0 to 75\n",
      "Data columns (total 17 columns):\n",
      " #   Column        Non-Null Count  Dtype  \n",
      "---  ------        --------------  -----  \n",
      " 0   start_ms      349 non-null    int64  \n",
      " 1   end_ms        349 non-null    int64  \n",
      " 2   start_sample  349 non-null    int64  \n",
      " 3   end_sample    349 non-null    int64  \n",
      " 4   p_step        349 non-null    object \n",
      " 5   rms_p         349 non-null    float64\n",
      " 6   peak_p        349 non-null    float64\n",
      " 7   bout_check    349 non-null    bool   \n",
      " 8   file          349 non-null    object \n",
      " 9   len_ms        349 non-null    int64  \n",
      " 10  syl_in        349 non-null    object \n",
      " 11  n_syl         349 non-null    int64  \n",
      " 12  peaks_p       349 non-null    object \n",
      " 13  n_peaks       349 non-null    int64  \n",
      " 14  l_p_ratio     349 non-null    float64\n",
      " 15  waveform      349 non-null    object \n",
      " 16  confusing     349 non-null    bool   \n",
      "dtypes: bool(2), float64(3), int64(7), object(5)\n",
      "memory usage: 44.3+ KB\n"
     ]
    }
   ],
   "source": [
    "sess_bout_pd.info()"
   ]
  },
  {
   "cell_type": "code",
   "execution_count": 24,
   "metadata": {},
   "outputs": [
    {
     "data": {
      "text/plain": [
       "103"
      ]
     },
     "execution_count": 24,
     "metadata": {},
     "output_type": "execute_result"
    }
   ],
   "source": [
    "np.unique(sess_bout_pd['start_ms']).size"
   ]
  },
  {
   "cell_type": "markdown",
   "metadata": {},
   "source": [
    "# debug"
   ]
  },
  {
   "cell_type": "markdown",
   "metadata": {},
   "source": [
    "## debug search_bout"
   ]
  },
  {
   "cell_type": "code",
   "execution_count": 21,
   "metadata": {},
   "outputs": [
    {
     "name": "stderr",
     "output_type": "stream",
     "text": [
      "2021-09-22 15:13:39,371 root         INFO     Found 4 files\n"
     ]
    },
    {
     "name": "stdout",
     "output_type": "stream",
     "text": [
      "['/mnt/sphere/speech_bci/derived_data/s_b1253_21/2021-06-14/sglx/0712_g0/wav_mic.wav', '/mnt/sphere/speech_bci/derived_data/s_b1253_21/2021-06-14/sglx/1255_g0/wav_mic.wav', '/mnt/sphere/speech_bci/derived_data/s_b1253_21/2021-06-14/sglx/1740_g0/wav_mic.wav', '/mnt/sphere/speech_bci/derived_data/s_b1253_21/2021-06-14/sglx/2118_g0/wav_mic.wav']\n"
     ]
    }
   ],
   "source": [
    "## look for a single file\n",
    "sess = sess_list[0]\n",
    "\n",
    "exp_struct = et.get_exp_struct(sess_par['bird'], sess, ephys_software='sglx')\n",
    "source_folder = exp_struct['folders']['derived']\n",
    "wav_path_list = et.get_sgl_files_epochs(source_folder, file_filter='*wav_mic.wav')\n",
    "wav_path_list.sort()\n",
    "logger.info('Found {} files'.format(len(wav_path_list)))\n",
    "print(wav_path_list)"
   ]
  },
  {
   "cell_type": "code",
   "execution_count": 22,
   "metadata": {},
   "outputs": [],
   "source": [
    "one_file = wav_path_list[0]"
   ]
  },
  {
   "cell_type": "code",
   "execution_count": null,
   "metadata": {},
   "outputs": [
    {
     "name": "stderr",
     "output_type": "stream",
     "text": [
      "2021-09-22 15:13:45,924 ceciestunepipe.util.sound.boutsearch INFO     Getting bouts for long file /mnt/sphere/speech_bci/derived_data/s_b1253_21/2021-06-14/sglx/0712_g0/wav_mic.wav\n"
     ]
    },
    {
     "name": "stdout",
     "output_type": "stream",
     "text": [
      "tu vieja file /mnt/sphere/speech_bci/derived_data/s_b1253_21/2021-06-14/sglx/0712_g0/wav_mic.wav\n"
     ]
    },
    {
     "name": "stderr",
     "output_type": "stream",
     "text": [
      "2021-09-22 15:13:45,962 ceciestunepipe.util.sound.boutsearch INFO     splitting file into 5 chunks\n"
     ]
    },
    {
     "data": {
      "application/vnd.jupyter.widget-view+json": {
       "model_id": "2ee46791b8cc495dae356f151c0a45d0",
       "version_major": 2,
       "version_minor": 0
      },
      "text/plain": [
       "  0%|          | 0/5 [00:00<?, ?it/s]"
      ]
     },
     "metadata": {},
     "output_type": "display_data"
    }
   ],
   "source": [
    "reload(bs)\n",
    "epoch_bout_pd, epoch_wav = bs.get_bouts_in_long_file(wav_path_list[0], hparams)"
   ]
  },
  {
   "cell_type": "code",
   "execution_count": null,
   "metadata": {},
   "outputs": [],
   "source": []
  }
 ],
 "metadata": {
  "kernelspec": {
   "display_name": "ceciestunepipe",
   "language": "python",
   "name": "ceciestunepipe"
  },
  "language_info": {
   "codemirror_mode": {
    "name": "ipython",
    "version": 3
   },
   "file_extension": ".py",
   "mimetype": "text/x-python",
   "name": "python",
   "nbconvert_exporter": "python",
   "pygments_lexer": "ipython3",
   "version": "3.8.10"
  }
 },
 "nbformat": 4,
 "nbformat_minor": 4
}
