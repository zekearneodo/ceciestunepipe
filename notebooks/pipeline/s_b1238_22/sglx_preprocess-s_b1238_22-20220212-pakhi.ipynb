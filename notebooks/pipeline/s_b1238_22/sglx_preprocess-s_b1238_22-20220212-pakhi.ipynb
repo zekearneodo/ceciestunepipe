{
 "cells": [
  {
   "cell_type": "markdown",
   "metadata": {},
   "source": [
    "# Pre-processing pipeline for spikeglx sessions, zebra finch / starling\n",
    "- For every run in the session:\n",
    " - Load the recordings\n",
    " - Extract wav chan with micrhopohone and make a wav chan with the nidq syn signal\n",
    " - Get the sync events for the nidq sync channel\n",
    " \n",
    " - Do bout detection\n",
    " \n",
    "In another notebook, bout detection is curated\n",
    "- Left to decide where to:\n",
    "    - Sort spikes\n",
    "    - Sync the spikes/lfp/nidq\n",
    "    - make and plot 'bout rasters'"
   ]
  },
  {
   "cell_type": "code",
   "execution_count": 5,
   "metadata": {},
   "outputs": [],
   "source": [
    "%matplotlib inline\n",
    "import os\n",
    "import glob\n",
    "import logging\n",
    "import pickle\n",
    "import numpy as np\n",
    "import pandas as pd\n",
    "from scipy.io import wavfile\n",
    "from scipy import signal\n",
    "import traceback\n",
    "import warnings\n",
    "\n",
    "from matplotlib import pyplot as plt\n",
    "from importlib import reload\n",
    "\n",
    "logger = logging.getLogger()\n",
    "handler = logging.StreamHandler()\n",
    "formatter = logging.Formatter(\n",
    "        '%(asctime)s %(name)-12s %(levelname)-8s %(message)s')\n",
    "handler.setFormatter(formatter)\n",
    "logger.addHandler(handler)\n",
    "logger.setLevel(logging.INFO)\n"
   ]
  },
  {
   "cell_type": "code",
   "execution_count": 6,
   "metadata": {},
   "outputs": [],
   "source": [
    "from ceciestunepipe.file import bcistructure as et\n",
    "from ceciestunepipe.util import sglxutil as sglu\n",
    "from ceciestunepipe.util import rigutil as ru\n",
    "from ceciestunepipe.util import wavutil as wu\n",
    "from ceciestunepipe.util import syncutil as su\n",
    "from ceciestunepipe.util import stimutil as st\n",
    "from ceciestunepipe.util.sound import boutsearch as bs\n",
    "from ceciestunepipe.pipeline import searchbout as sb\n",
    "\n",
    "from ceciestunepipe.util.spikeextractors import preprocess as pre\n",
    "from ceciestunepipe.util.spikeextractors.extractors.spikeglxrecordingextractor import readSGLX as rsgl\n",
    "from ceciestunepipe.util.spikeextractors.extractors.spikeglxrecordingextractor import spikeglxrecordingextractor as sglex"
   ]
  },
  {
   "cell_type": "code",
   "execution_count": 7,
   "metadata": {},
   "outputs": [
    {
     "name": "stderr",
     "output_type": "stream",
     "text": [
      "2022-04-19 14:07:08,730 root         INFO     all modules loaded\n",
      "2022-04-19 14:07:08,730 root         INFO     all modules loaded\n"
     ]
    }
   ],
   "source": [
    "import spikeinterface as si\n",
    "import spikeinterface.extractors as se\n",
    "import spikeinterface.toolkit as st\n",
    "import spikeinterface.sorters as ss\n",
    "import spikeinterface.comparison as sc\n",
    "import spikeinterface.widgets as sw\n",
    "logger.info('all modules loaded')"
   ]
  },
  {
   "cell_type": "markdown",
   "metadata": {},
   "source": [
    "## Session parameters and raw files"
   ]
  },
  {
   "cell_type": "markdown",
   "metadata": {},
   "source": [
    "#### list all the sessions for this bird"
   ]
  },
  {
   "cell_type": "code",
   "execution_count": 8,
   "metadata": {},
   "outputs": [
    {
     "name": "stderr",
     "output_type": "stream",
     "text": [
      "2022-04-19 14:07:14,279 root         INFO     all sessions for bird are ['2022-01-07', '2022-01-08', '2022-01-09', '2022-01-10', '2022-01-11', '2022-01-12', '2022-01-13', '2022-01-14', '2022-01-15', '2022-01-16', '2022-01-17', '2022-01-18', '2022-01-19', '2022-01-20', '2022-01-21', '2022-01-22', '2022-01-23', '2022-01-24', '2022-01-25', '2022-01-26', '2022-01-27', '2022-01-28', '2022-01-29', '2022-01-30', '2022-01-31', '2022-02-01', '2022-02-02', '2022-02-03', '2022-02-04', '2022-02-05', '2022-02-06', '2022-02-07', '2022-02-08', '2022-02-09', '2022-02-10', '2022-02-11', '2022-02-12', '2022-02-13', '2022-02-14', '2022-02-15', '2022-02-16', '2022-02-17', '2022-02-18', '2022-02-19', '2022-02-20', '2022-02-21', '2022-02-22', '2022-02-23', '2022-02-24', '2022-02-25', '2022-02-26', '2022-02-27', '2022-02-28', '2022-03-01', '2022-03-02', '2022-03-03', '2022-03-04', '2022-03-05', '2022-03-06', '2022-03-07', '2022-03-08', '2022-03-09', '2022-03-10', '2022-03-11', '2022-03-12', '2022-03-13', '2022-03-14', '2022-03-15', '2022-03-16', '2022-03-17']\n",
      "2022-04-19 14:07:14,279 root         INFO     all sessions for bird are ['2022-01-07', '2022-01-08', '2022-01-09', '2022-01-10', '2022-01-11', '2022-01-12', '2022-01-13', '2022-01-14', '2022-01-15', '2022-01-16', '2022-01-17', '2022-01-18', '2022-01-19', '2022-01-20', '2022-01-21', '2022-01-22', '2022-01-23', '2022-01-24', '2022-01-25', '2022-01-26', '2022-01-27', '2022-01-28', '2022-01-29', '2022-01-30', '2022-01-31', '2022-02-01', '2022-02-02', '2022-02-03', '2022-02-04', '2022-02-05', '2022-02-06', '2022-02-07', '2022-02-08', '2022-02-09', '2022-02-10', '2022-02-11', '2022-02-12', '2022-02-13', '2022-02-14', '2022-02-15', '2022-02-16', '2022-02-17', '2022-02-18', '2022-02-19', '2022-02-20', '2022-02-21', '2022-02-22', '2022-02-23', '2022-02-24', '2022-02-25', '2022-02-26', '2022-02-27', '2022-02-28', '2022-03-01', '2022-03-02', '2022-03-03', '2022-03-04', '2022-03-05', '2022-03-06', '2022-03-07', '2022-03-08', '2022-03-09', '2022-03-10', '2022-03-11', '2022-03-12', '2022-03-13', '2022-03-14', '2022-03-15', '2022-03-16', '2022-03-17']\n"
     ]
    }
   ],
   "source": [
    "bird = 's_b1238_22'\n",
    "all_bird_sess = et.list_sessions(bird)\n",
    "logger.info('all sessions for bird are {}'.format(all_bird_sess))"
   ]
  },
  {
   "cell_type": "markdown",
   "metadata": {},
   "source": [
    "### set up bird and sessions parameters\n",
    "this will define:\n",
    "- locations of files (for the bird)\n",
    "- signals and channels to look for in the metadata of the files and in the rig.json parameter file: Note that this have to exist in all of the sessions that will be processed\n",
    "- 'sess' is unimportant here, but it comes handy if there is need to debug usin a single session"
   ]
  },
  {
   "cell_type": "code",
   "execution_count": 9,
   "metadata": {},
   "outputs": [],
   "source": [
    "reload(et)\n",
    "# for one example session\n",
    "\n",
    "sess_par = {'bird': 's_b1238_22',\n",
    "           'sess': '2022-02-12',\n",
    "           'probes': ['probe_0'], #probes of interest\n",
    "           'mic_list': ['microphone_0'], #list of mics of interest, by signal name in rig.json\n",
    "           'stim_list': ['wav_syn'], # list of adc chans with the stimulus\n",
    "           'nidq_ttl_list': ['wav_ttl'], # list of TTL signals form the nidq digital inputs to extract (besides the 'sync')\n",
    "           'sort': 2, #label for this sort instance\n",
    "           }\n",
    "\n",
    "exp_struct = et.get_exp_struct(sess_par['bird'], sess_par['sess'], sort=sess_par['sort'])\n",
    "\n",
    "ksort_folder = exp_struct['folders']['ksort']\n",
    "raw_folder = exp_struct['folders']['sglx']"
   ]
  },
  {
   "cell_type": "markdown",
   "metadata": {},
   "source": [
    "list all the epochs in a session, to check that it is finding what it has to find"
   ]
  },
  {
   "cell_type": "code",
   "execution_count": 10,
   "metadata": {},
   "outputs": [
    {
     "name": "stderr",
     "output_type": "stream",
     "text": [
      "2022-04-19 14:08:32,330 ceciestunepipe.file.bcistructure INFO     {'folders': {'bird': '/mnt/sphere/speech_bci/raw_data/s_b1238_22', 'raw': '/mnt/sphere/speech_bci/raw_data/s_b1238_22/2022-02-12', 'sglx': '/mnt/sphere/speech_bci/raw_data/s_b1238_22/2022-02-12/sglx', 'kwik': '/scratch/earneodo/s_b1238_22/sglx/kwik/2022-02-12', 'processed': '/mnt/sphere/speech_bci/processed_data/s_b1238_22/2022-02-12/sglx', 'derived': '/mnt/sphere/speech_bci/derived_data/s_b1238_22/2022-02-12/sglx', 'tmp': '/scratch/earneodo/tmp', 'msort': '/scratch/earneodo/s_b1238_22/sglx/msort/2022-02-12', 'ksort': '/scratch/earneodo/s_b1238_22/sglx/ksort/2022-02-12/2', 'sort': '/mnt/sphere/speech_bci/derived_data/s_b1238_22/2022-02-12/sglx/2'}, 'files': {'par': '/scratch/earneodo/s_b1238_22/sglx/ksort/2022-02-12/2/params.json', 'set': '/mnt/sphere/speech_bci/raw_data/s_b1238_22/2022-02-12/sglx/settings.isf', 'rig': '/mnt/sphere/speech_bci/raw_data/s_b1238_22/2022-02-12/sglx/rig.json', 'kwd': '/scratch/earneodo/s_b1238_22/sglx/kwik/2022-02-12/stream.kwd', 'kwik': '/scratch/earneodo/s_b1238_22/sglx/kwik/2022-02-12/sort_2/spikes.kwik', 'kwe': '/scratch/earneodo/s_b1238_22/sglx/kwik/2022-02-12/events.kwe', 'dat_mic': '/mnt/sphere/speech_bci/processed_data/s_b1238_22/2022-02-12/sglx/dat_mic.mat', 'dat_ap': '/mnt/sphere/speech_bci/processed_data/s_b1238_22/2022-02-12/sglx/dat_ap.mat', 'allevents': '/mnt/sphere/speech_bci/processed_data/s_b1238_22/2022-02-12/sglx/dat_all.pkl', 'wav_mic': '/mnt/sphere/speech_bci/derived_data/s_b1238_22/2022-02-12/sglx/wav_mic.wav', 'mda_raw': '/scratch/earneodo/s_b1238_22/sglx/msort/2022-02-12/raw.mda', 'bin_raw': '/scratch/earneodo/s_b1238_22/sglx/ksort/2022-02-12/2/raw.bin'}}\n",
      "2022-04-19 14:08:32,330 ceciestunepipe.file.bcistructure INFO     {'folders': {'bird': '/mnt/sphere/speech_bci/raw_data/s_b1238_22', 'raw': '/mnt/sphere/speech_bci/raw_data/s_b1238_22/2022-02-12', 'sglx': '/mnt/sphere/speech_bci/raw_data/s_b1238_22/2022-02-12/sglx', 'kwik': '/scratch/earneodo/s_b1238_22/sglx/kwik/2022-02-12', 'processed': '/mnt/sphere/speech_bci/processed_data/s_b1238_22/2022-02-12/sglx', 'derived': '/mnt/sphere/speech_bci/derived_data/s_b1238_22/2022-02-12/sglx', 'tmp': '/scratch/earneodo/tmp', 'msort': '/scratch/earneodo/s_b1238_22/sglx/msort/2022-02-12', 'ksort': '/scratch/earneodo/s_b1238_22/sglx/ksort/2022-02-12/2', 'sort': '/mnt/sphere/speech_bci/derived_data/s_b1238_22/2022-02-12/sglx/2'}, 'files': {'par': '/scratch/earneodo/s_b1238_22/sglx/ksort/2022-02-12/2/params.json', 'set': '/mnt/sphere/speech_bci/raw_data/s_b1238_22/2022-02-12/sglx/settings.isf', 'rig': '/mnt/sphere/speech_bci/raw_data/s_b1238_22/2022-02-12/sglx/rig.json', 'kwd': '/scratch/earneodo/s_b1238_22/sglx/kwik/2022-02-12/stream.kwd', 'kwik': '/scratch/earneodo/s_b1238_22/sglx/kwik/2022-02-12/sort_2/spikes.kwik', 'kwe': '/scratch/earneodo/s_b1238_22/sglx/kwik/2022-02-12/events.kwe', 'dat_mic': '/mnt/sphere/speech_bci/processed_data/s_b1238_22/2022-02-12/sglx/dat_mic.mat', 'dat_ap': '/mnt/sphere/speech_bci/processed_data/s_b1238_22/2022-02-12/sglx/dat_ap.mat', 'allevents': '/mnt/sphere/speech_bci/processed_data/s_b1238_22/2022-02-12/sglx/dat_all.pkl', 'wav_mic': '/mnt/sphere/speech_bci/derived_data/s_b1238_22/2022-02-12/sglx/wav_mic.wav', 'mda_raw': '/scratch/earneodo/s_b1238_22/sglx/msort/2022-02-12/raw.mda', 'bin_raw': '/scratch/earneodo/s_b1238_22/sglx/ksort/2022-02-12/2/raw.bin'}}\n"
     ]
    },
    {
     "data": {
      "text/plain": [
       "['0716_g0', '1141_stim_g0', '1607_g0', '2212_g0']"
      ]
     },
     "execution_count": 10,
     "metadata": {},
     "output_type": "execute_result"
    }
   ],
   "source": [
    "sess_epochs = et.list_sgl_epochs(sess_par)\n",
    "sess_epochs"
   ]
  },
  {
   "cell_type": "markdown",
   "metadata": {},
   "source": [
    "#### define pre-processing steps for each epoch and for the session"
   ]
  },
  {
   "cell_type": "markdown",
   "metadata": {},
   "source": [
    "###### for preprocessing one single epoch"
   ]
  },
  {
   "cell_type": "code",
   "execution_count": 11,
   "metadata": {
    "scrolled": false,
    "tags": []
   },
   "outputs": [
    {
     "data": {
      "text/plain": [
       "<module 'ceciestunepipe.util.spikeextractors.preprocess' from '/mnt/cube/earneodo/repos/ceciestunepipe/ceciestunepipe/util/spikeextractors/preprocess.py'>"
      ]
     },
     "execution_count": 11,
     "metadata": {},
     "output_type": "execute_result"
    }
   ],
   "source": [
    "reload(pre)\n",
    "#one_epoch_dict = pre.preprocess_run(sess_par, exp_struct, sess_epochs[3])"
   ]
  },
  {
   "cell_type": "code",
   "execution_count": 12,
   "metadata": {
    "scrolled": true,
    "tags": []
   },
   "outputs": [],
   "source": [
    "### sequentially process all runs of the sessions\n",
    "def preprocess_session(sess_par: dict):\n",
    "    logger.info('pre-process all runs of sess ' + sess_par['sess'])\n",
    "    # get exp struct\n",
    "    sess_struct = et.get_exp_struct(sess_par['bird'], sess_par['sess'], sort=sess_par['sort'])\n",
    "    # list the epochs\n",
    "    sess_epochs = et.list_sgl_epochs(sess_par)\n",
    "    logger.info('found epochs: {}'.format(sess_epochs))\n",
    "    # preprocess all epochs\n",
    "    epoch_dict_list = []\n",
    "    for i_ep, epoch in enumerate(sess_epochs):\n",
    "        try:\n",
    "            exp_struct = et.sgl_struct(sess_par, epoch)\n",
    "            one_epoch_dict = pre.preprocess_run(sess_par, exp_struct, epoch)\n",
    "            epoch_dict_list.append(one_epoch_dict)\n",
    "        except Exception as exc:\n",
    "            warnings.warn('Error in epoch {}'.format(epoch), UserWarning)\n",
    "            logger.info(traceback.format_exc)\n",
    "            logger.info(exc)\n",
    "            logger.info('Session {} epoch {} could not be preprocessed'.format(sess_par['sess'], epoch))\n",
    "        \n",
    "    return epoch_dict_list\n",
    "\n",
    "#all_epoch_list = preprocess_session(sess_par)"
   ]
  },
  {
   "cell_type": "markdown",
   "metadata": {},
   "source": [
    "## Process multiple sessions"
   ]
  },
  {
   "cell_type": "code",
   "execution_count": 13,
   "metadata": {
    "tags": []
   },
   "outputs": [],
   "source": [
    "sess_list = all_bird_sess\n",
    "# fist implant, right hemisphere\n",
    "#sess_list = ['2021-06-24', '2021-06-25', '2021-06-26', '2021-06-27', '2021-06-28', '2021-06-29', '2021-06-30']\n",
    "sess_list = ['2022-01-17', '2022-01-18', '2022-01-19', '2022-01-20', # RH RA\n",
    "             '2022-01-26', '2022-01-27','2022-01-28', '2022-01-29', '2022-01-30', #LH RA\n",
    "            '2022-02-11', '2022-01-12', '2022-01-13'] #LH NCM\n",
    "\n",
    "sess_list_ncm = ['2022-02-12']"
   ]
  },
  {
   "cell_type": "code",
   "execution_count": 14,
   "metadata": {},
   "outputs": [],
   "source": [
    "sess_list = sess_list_ncm"
   ]
  },
  {
   "cell_type": "code",
   "execution_count": 15,
   "metadata": {},
   "outputs": [
    {
     "data": {
      "text/plain": [
       "['2022-02-12']"
      ]
     },
     "execution_count": 15,
     "metadata": {},
     "output_type": "execute_result"
    }
   ],
   "source": [
    "sess_list"
   ]
  },
  {
   "cell_type": "code",
   "execution_count": 16,
   "metadata": {
    "scrolled": false,
    "tags": []
   },
   "outputs": [
    {
     "name": "stderr",
     "output_type": "stream",
     "text": [
      "2022-04-19 14:10:53,331 root         INFO     pre-process all runs of sess 2022-02-12\n",
      "2022-04-19 14:10:53,331 root         INFO     pre-process all runs of sess 2022-02-12\n",
      "2022-04-19 14:10:53,333 ceciestunepipe.file.bcistructure INFO     {'folders': {'bird': '/mnt/sphere/speech_bci/raw_data/s_b1238_22', 'raw': '/mnt/sphere/speech_bci/raw_data/s_b1238_22/2022-02-12', 'sglx': '/mnt/sphere/speech_bci/raw_data/s_b1238_22/2022-02-12/sglx', 'kwik': '/scratch/earneodo/s_b1238_22/sglx/kwik/2022-02-12', 'processed': '/mnt/sphere/speech_bci/processed_data/s_b1238_22/2022-02-12/sglx', 'derived': '/mnt/sphere/speech_bci/derived_data/s_b1238_22/2022-02-12/sglx', 'tmp': '/scratch/earneodo/tmp', 'msort': '/scratch/earneodo/s_b1238_22/sglx/msort/2022-02-12', 'ksort': '/scratch/earneodo/s_b1238_22/sglx/ksort/2022-02-12/2', 'sort': '/mnt/sphere/speech_bci/derived_data/s_b1238_22/2022-02-12/sglx/2'}, 'files': {'par': '/scratch/earneodo/s_b1238_22/sglx/ksort/2022-02-12/2/params.json', 'set': '/mnt/sphere/speech_bci/raw_data/s_b1238_22/2022-02-12/sglx/settings.isf', 'rig': '/mnt/sphere/speech_bci/raw_data/s_b1238_22/2022-02-12/sglx/rig.json', 'kwd': '/scratch/earneodo/s_b1238_22/sglx/kwik/2022-02-12/stream.kwd', 'kwik': '/scratch/earneodo/s_b1238_22/sglx/kwik/2022-02-12/sort_2/spikes.kwik', 'kwe': '/scratch/earneodo/s_b1238_22/sglx/kwik/2022-02-12/events.kwe', 'dat_mic': '/mnt/sphere/speech_bci/processed_data/s_b1238_22/2022-02-12/sglx/dat_mic.mat', 'dat_ap': '/mnt/sphere/speech_bci/processed_data/s_b1238_22/2022-02-12/sglx/dat_ap.mat', 'allevents': '/mnt/sphere/speech_bci/processed_data/s_b1238_22/2022-02-12/sglx/dat_all.pkl', 'wav_mic': '/mnt/sphere/speech_bci/derived_data/s_b1238_22/2022-02-12/sglx/wav_mic.wav', 'mda_raw': '/scratch/earneodo/s_b1238_22/sglx/msort/2022-02-12/raw.mda', 'bin_raw': '/scratch/earneodo/s_b1238_22/sglx/ksort/2022-02-12/2/raw.bin'}}\n",
      "2022-04-19 14:10:53,333 ceciestunepipe.file.bcistructure INFO     {'folders': {'bird': '/mnt/sphere/speech_bci/raw_data/s_b1238_22', 'raw': '/mnt/sphere/speech_bci/raw_data/s_b1238_22/2022-02-12', 'sglx': '/mnt/sphere/speech_bci/raw_data/s_b1238_22/2022-02-12/sglx', 'kwik': '/scratch/earneodo/s_b1238_22/sglx/kwik/2022-02-12', 'processed': '/mnt/sphere/speech_bci/processed_data/s_b1238_22/2022-02-12/sglx', 'derived': '/mnt/sphere/speech_bci/derived_data/s_b1238_22/2022-02-12/sglx', 'tmp': '/scratch/earneodo/tmp', 'msort': '/scratch/earneodo/s_b1238_22/sglx/msort/2022-02-12', 'ksort': '/scratch/earneodo/s_b1238_22/sglx/ksort/2022-02-12/2', 'sort': '/mnt/sphere/speech_bci/derived_data/s_b1238_22/2022-02-12/sglx/2'}, 'files': {'par': '/scratch/earneodo/s_b1238_22/sglx/ksort/2022-02-12/2/params.json', 'set': '/mnt/sphere/speech_bci/raw_data/s_b1238_22/2022-02-12/sglx/settings.isf', 'rig': '/mnt/sphere/speech_bci/raw_data/s_b1238_22/2022-02-12/sglx/rig.json', 'kwd': '/scratch/earneodo/s_b1238_22/sglx/kwik/2022-02-12/stream.kwd', 'kwik': '/scratch/earneodo/s_b1238_22/sglx/kwik/2022-02-12/sort_2/spikes.kwik', 'kwe': '/scratch/earneodo/s_b1238_22/sglx/kwik/2022-02-12/events.kwe', 'dat_mic': '/mnt/sphere/speech_bci/processed_data/s_b1238_22/2022-02-12/sglx/dat_mic.mat', 'dat_ap': '/mnt/sphere/speech_bci/processed_data/s_b1238_22/2022-02-12/sglx/dat_ap.mat', 'allevents': '/mnt/sphere/speech_bci/processed_data/s_b1238_22/2022-02-12/sglx/dat_all.pkl', 'wav_mic': '/mnt/sphere/speech_bci/derived_data/s_b1238_22/2022-02-12/sglx/wav_mic.wav', 'mda_raw': '/scratch/earneodo/s_b1238_22/sglx/msort/2022-02-12/raw.mda', 'bin_raw': '/scratch/earneodo/s_b1238_22/sglx/ksort/2022-02-12/2/raw.bin'}}\n",
      "2022-04-19 14:10:53,336 root         INFO     found epochs: ['0716_g0', '1141_stim_g0', '1607_g0', '2212_g0']\n",
      "2022-04-19 14:10:53,336 root         INFO     found epochs: ['0716_g0', '1141_stim_g0', '1607_g0', '2212_g0']\n",
      "2022-04-19 14:10:53,338 ceciestunepipe.util.spikeextractors.preprocess INFO     PREPROCESSING sess 2022-02-12 | epoch 0716_g0\n",
      "2022-04-19 14:10:53,338 ceciestunepipe.util.spikeextractors.preprocess INFO     PREPROCESSING sess 2022-02-12 | epoch 0716_g0\n",
      "2022-04-19 14:10:53,339 ceciestunepipe.util.spikeextractors.preprocess INFO     getting extractors\n",
      "2022-04-19 14:10:53,339 ceciestunepipe.util.spikeextractors.preprocess INFO     getting extractors\n",
      "2022-04-19 14:10:53,518 ceciestunepipe.util.spikeextractors.preprocess INFO     Got sglx recordings for keys ['nidq', 'lf_0', 'ap_0']\n",
      "2022-04-19 14:10:53,518 ceciestunepipe.util.spikeextractors.preprocess INFO     Got sglx recordings for keys ['nidq', 'lf_0', 'ap_0']\n",
      "2022-04-19 14:10:53,520 ceciestunepipe.util.spikeextractors.preprocess INFO     Getting microphone channel(s) ['microphone_0']\n",
      "2022-04-19 14:10:53,520 ceciestunepipe.util.spikeextractors.preprocess INFO     Getting microphone channel(s) ['microphone_0']\n",
      "2022-04-19 14:10:53,521 ceciestunepipe.util.wavutil INFO     sampling rate 40000\n",
      "2022-04-19 14:10:53,521 ceciestunepipe.util.wavutil INFO     sampling rate 40000\n",
      "2022-04-19 14:10:53,523 ceciestunepipe.util.wavutil INFO     saving (1, 632466585)-shaped array as wav in /mnt/sphere/speech_bci/derived_data/s_b1238_22/2022-02-12/sglx/0716_g0/wav_mic.wav\n",
      "2022-04-19 14:10:53,523 ceciestunepipe.util.wavutil INFO     saving (1, 632466585)-shaped array as wav in /mnt/sphere/speech_bci/derived_data/s_b1238_22/2022-02-12/sglx/0716_g0/wav_mic.wav\n",
      "2022-04-19 14:11:03,702 ceciestunepipe.util.wavutil INFO     saving (1, 632466585)-shaped array as npy in /mnt/sphere/speech_bci/derived_data/s_b1238_22/2022-02-12/sglx/0716_g0/wav_mic.npy\n",
      "2022-04-19 14:11:03,702 ceciestunepipe.util.wavutil INFO     saving (1, 632466585)-shaped array as npy in /mnt/sphere/speech_bci/derived_data/s_b1238_22/2022-02-12/sglx/0716_g0/wav_mic.npy\n",
      "2022-04-19 14:11:16,568 ceciestunepipe.util.spikeextractors.preprocess INFO     Getting stimulus channel(s) ['wav_syn']\n",
      "2022-04-19 14:11:16,568 ceciestunepipe.util.spikeextractors.preprocess INFO     Getting stimulus channel(s) ['wav_syn']\n",
      "2022-04-19 14:11:16,571 ceciestunepipe.util.wavutil INFO     sampling rate 40000\n",
      "2022-04-19 14:11:16,571 ceciestunepipe.util.wavutil INFO     sampling rate 40000\n",
      "2022-04-19 14:11:16,572 ceciestunepipe.util.wavutil INFO     saving (1, 632466585)-shaped array as wav in /mnt/sphere/speech_bci/derived_data/s_b1238_22/2022-02-12/sglx/0716_g0/wav_stim.wav\n",
      "2022-04-19 14:11:16,572 ceciestunepipe.util.wavutil INFO     saving (1, 632466585)-shaped array as wav in /mnt/sphere/speech_bci/derived_data/s_b1238_22/2022-02-12/sglx/0716_g0/wav_stim.wav\n",
      "2022-04-19 14:11:21,572 ceciestunepipe.util.wavutil INFO     saving (1, 632466585)-shaped array as npy in /mnt/sphere/speech_bci/derived_data/s_b1238_22/2022-02-12/sglx/0716_g0/wav_stim.npy\n",
      "2022-04-19 14:11:21,572 ceciestunepipe.util.wavutil INFO     saving (1, 632466585)-shaped array as npy in /mnt/sphere/speech_bci/derived_data/s_b1238_22/2022-02-12/sglx/0716_g0/wav_stim.npy\n",
      "2022-04-19 14:11:34,261 ceciestunepipe.util.spikeextractors.preprocess INFO     Getting the onset/offset of stimuli from the 0 extracted analog channel\n",
      "2022-04-19 14:11:34,261 ceciestunepipe.util.spikeextractors.preprocess INFO     Getting the onset/offset of stimuli from the 0 extracted analog channel\n",
      "2022-04-19 14:11:36,005 ceciestunepipe.util.stimutil INFO     found 0.0 events\n",
      "2022-04-19 14:11:36,005 ceciestunepipe.util.stimutil INFO     found 0.0 events\n",
      "2022-04-19 14:11:36,048 ceciestunepipe.util.spikeextractors.preprocess INFO     saved onset/offset of trial events from the sine wave in /mnt/sphere/speech_bci/derived_data/s_b1238_22/2022-02-12/sglx/0716_g0/wav_stim_sync_sine_ttl_evt.npy\n",
      "2022-04-19 14:11:36,048 ceciestunepipe.util.spikeextractors.preprocess INFO     saved onset/offset of trial events from the sine wave in /mnt/sphere/speech_bci/derived_data/s_b1238_22/2022-02-12/sglx/0716_g0/wav_stim_sync_sine_ttl_evt.npy\n",
      "2022-04-19 14:11:36,049 ceciestunepipe.util.spikeextractors.preprocess INFO     Getting sync channel(s) from nidaq streams: ['sync']\n",
      "2022-04-19 14:11:36,049 ceciestunepipe.util.spikeextractors.preprocess INFO     Getting sync channel(s) from nidaq streams: ['sync']\n",
      "2022-04-19 14:11:36,051 ceciestunepipe.util.spikeextractors.extractors.spikeglxrecordingextractor.spikeglxrecordingextractor INFO     getting ttl traces, chan [0 1 2 3 4 5 6 7]\n"
     ]
    },
    {
     "name": "stderr",
     "output_type": "stream",
     "text": [
      "2022-04-19 14:11:36,051 ceciestunepipe.util.spikeextractors.extractors.spikeglxrecordingextractor.spikeglxrecordingextractor INFO     getting ttl traces, chan [0 1 2 3 4 5 6 7]\n",
      "2022-04-19 14:11:54,451 ceciestunepipe.util.wavutil INFO     sampling rate 40000\n",
      "2022-04-19 14:11:54,451 ceciestunepipe.util.wavutil INFO     sampling rate 40000\n",
      "2022-04-19 14:11:54,454 ceciestunepipe.util.wavutil INFO     saving (1, 632466585)-shaped array as wav in /mnt/sphere/speech_bci/derived_data/s_b1238_22/2022-02-12/sglx/0716_g0/wav_sync.wav\n",
      "2022-04-19 14:11:54,454 ceciestunepipe.util.wavutil INFO     saving (1, 632466585)-shaped array as wav in /mnt/sphere/speech_bci/derived_data/s_b1238_22/2022-02-12/sglx/0716_g0/wav_sync.wav\n",
      "2022-04-19 14:11:56,311 ceciestunepipe.util.wavutil INFO     saving (1, 632466585)-shaped array as npy in /mnt/sphere/speech_bci/derived_data/s_b1238_22/2022-02-12/sglx/0716_g0/wav_sync.npy\n",
      "2022-04-19 14:11:56,311 ceciestunepipe.util.wavutil INFO     saving (1, 632466585)-shaped array as npy in /mnt/sphere/speech_bci/derived_data/s_b1238_22/2022-02-12/sglx/0716_g0/wav_sync.npy\n",
      "2022-04-19 14:11:58,109 ceciestunepipe.util.spikeextractors.preprocess INFO     Getting sync events from the wav sync channel\n",
      "2022-04-19 14:11:58,109 ceciestunepipe.util.spikeextractors.preprocess INFO     Getting sync events from the wav sync channel\n",
      "2022-04-19 14:12:01,670 ceciestunepipe.util.spikeextractors.preprocess INFO     saving sync events of the wav channel to /mnt/sphere/speech_bci/derived_data/s_b1238_22/2022-02-12/sglx/0716_g0/wav_sync_evt.npy\n",
      "2022-04-19 14:12:01,670 ceciestunepipe.util.spikeextractors.preprocess INFO     saving sync events of the wav channel to /mnt/sphere/speech_bci/derived_data/s_b1238_22/2022-02-12/sglx/0716_g0/wav_sync_evt.npy\n",
      "2022-04-19 14:12:01,691 ceciestunepipe.util.spikeextractors.preprocess INFO     saving t0 for wav channel to /mnt/sphere/speech_bci/derived_data/s_b1238_22/2022-02-12/sglx/0716_g0/wav_t0.npy\n",
      "2022-04-19 14:12:01,691 ceciestunepipe.util.spikeextractors.preprocess INFO     saving t0 for wav channel to /mnt/sphere/speech_bci/derived_data/s_b1238_22/2022-02-12/sglx/0716_g0/wav_t0.npy\n",
      "2022-04-19 14:12:20,338 ceciestunepipe.util.spikeextractors.preprocess INFO     Will get 1 ttl signals\n",
      "2022-04-19 14:12:20,338 ceciestunepipe.util.spikeextractors.preprocess INFO     Will get 1 ttl signals\n",
      "2022-04-19 14:12:20,339 ceciestunepipe.util.spikeextractors.preprocess INFO     looking for signal wav_ttl in the nidaq channels\n",
      "2022-04-19 14:12:20,339 ceciestunepipe.util.spikeextractors.preprocess INFO     looking for signal wav_ttl in the nidaq channels\n",
      "2022-04-19 14:12:20,341 ceciestunepipe.util.spikeextractors.preprocess INFO     found in chan 2\n",
      "2022-04-19 14:12:20,341 ceciestunepipe.util.spikeextractors.preprocess INFO     found in chan 2\n",
      "2022-04-19 14:12:20,342 ceciestunepipe.util.spikeextractors.extractors.spikeglxrecordingextractor.spikeglxrecordingextractor INFO     getting ttl events, chan 2\n",
      "2022-04-19 14:12:20,342 ceciestunepipe.util.spikeextractors.extractors.spikeglxrecordingextractor.spikeglxrecordingextractor INFO     getting ttl events, chan 2\n",
      "2022-04-19 14:12:28,270 ceciestunepipe.util.spikeextractors.preprocess INFO     saving (0, 2)-shaped array as npy in /mnt/sphere/speech_bci/derived_data/s_b1238_22/2022-02-12/sglx/0716_g0/wav_ttl_evt.npy\n",
      "2022-04-19 14:12:28,270 ceciestunepipe.util.spikeextractors.preprocess INFO     saving (0, 2)-shaped array as npy in /mnt/sphere/speech_bci/derived_data/s_b1238_22/2022-02-12/sglx/0716_g0/wav_ttl_evt.npy\n",
      "2022-04-19 14:12:28,289 ceciestunepipe.util.spikeextractors.preprocess INFO     saving sync nidaq dict to /mnt/sphere/speech_bci/derived_data/s_b1238_22/2022-02-12/sglx/0716_g0/wav_sync_dict.pkl\n",
      "2022-04-19 14:12:28,289 ceciestunepipe.util.spikeextractors.preprocess INFO     saving sync nidaq dict to /mnt/sphere/speech_bci/derived_data/s_b1238_22/2022-02-12/sglx/0716_g0/wav_sync_dict.pkl\n",
      "2022-04-19 14:12:28,367 ceciestunepipe.util.spikeextractors.preprocess INFO     Getting sync signals for imec streams: ['lf_0', 'ap_0']\n",
      "2022-04-19 14:12:28,367 ceciestunepipe.util.spikeextractors.preprocess INFO     Getting sync signals for imec streams: ['lf_0', 'ap_0']\n",
      "2022-04-19 14:12:28,368 ceciestunepipe.util.spikeextractors.preprocess INFO     getting syn patterns for lf_0\n",
      "2022-04-19 14:12:28,368 ceciestunepipe.util.spikeextractors.preprocess INFO     getting syn patterns for lf_0\n",
      "2022-04-19 14:12:28,378 ceciestunepipe.util.spikeextractors.preprocess INFO     File /mnt/sphere/speech_bci/derived_data/s_b1238_22/2022-02-12/sglx/0716_g0/lf_0_sync_dict.pkl not found or forced computation, getting the events\n",
      "2022-04-19 14:12:28,378 ceciestunepipe.util.spikeextractors.preprocess INFO     File /mnt/sphere/speech_bci/derived_data/s_b1238_22/2022-02-12/sglx/0716_g0/lf_0_sync_dict.pkl not found or forced computation, getting the events\n",
      "2022-04-19 14:12:28,379 ceciestunepipe.util.spikeextractors.extractors.spikeglxrecordingextractor.spikeglxrecordingextractor INFO     getting ttl events, chan 0\n",
      "2022-04-19 14:12:28,379 ceciestunepipe.util.spikeextractors.extractors.spikeglxrecordingextractor.spikeglxrecordingextractor INFO     getting ttl events, chan 0\n",
      "2022-04-19 14:12:28,381 ceciestunepipe.util.spikeextractors.extractors.readSGLX INFO     Extracting digital on imec stream: there is only one channel, if any (SYN) and will be converted from an int16 channel \n",
      "2022-04-19 14:12:28,381 ceciestunepipe.util.spikeextractors.extractors.readSGLX INFO     Extracting digital on imec stream: there is only one channel, if any (SYN) and will be converted from an int16 channel \n",
      "2022-04-19 14:12:28,382 ceciestunepipe.util.spikeextractors.extractors.readSGLX INFO     allocated array for syn channel of size (39529927,)\n",
      "2022-04-19 14:12:28,382 ceciestunepipe.util.spikeextractors.extractors.readSGLX INFO     allocated array for syn channel of size (39529927,)\n",
      "2022-04-19 14:13:00,845 ceciestunepipe.util.spikeextractors.extractors.readSGLX INFO     Threshold for logical hi is 0\n",
      "2022-04-19 14:13:00,845 ceciestunepipe.util.spikeextractors.extractors.readSGLX INFO     Threshold for logical hi is 0\n",
      "/mnt/cube/earneodo/repos/ceciestunepipe/ceciestunepipe/util/spikeextractors/extractors/spikeglxrecordingextractor/readSGLX.py:310: UserWarning: There were 4 errors in the recording\n",
      "  warnings.warn('There were {} errors in the recording'.format(n_errors))\n",
      "/mnt/cube/earneodo/repos/ceciestunepipe/ceciestunepipe/util/spikeextractors/extractors/spikeglxrecordingextractor/readSGLX.py:311: UserWarning: You probably want to check those\n",
      "  warnings.warn('You probably want to check those')\n",
      "2022-04-19 14:13:03,193 ceciestunepipe.util.spikeextractors.preprocess INFO     saving events array to /mnt/sphere/speech_bci/derived_data/s_b1238_22/2022-02-12/sglx/0716_g0/lf_0_sync_evt.npy\n",
      "2022-04-19 14:13:03,193 ceciestunepipe.util.spikeextractors.preprocess INFO     saving events array to /mnt/sphere/speech_bci/derived_data/s_b1238_22/2022-02-12/sglx/0716_g0/lf_0_sync_evt.npy\n",
      "2022-04-19 14:13:03,218 ceciestunepipe.util.spikeextractors.preprocess INFO     saving t_0 array to /mnt/sphere/speech_bci/derived_data/s_b1238_22/2022-02-12/sglx/0716_g0/lf_0_t0.npy\n",
      "2022-04-19 14:13:03,218 ceciestunepipe.util.spikeextractors.preprocess INFO     saving t_0 array to /mnt/sphere/speech_bci/derived_data/s_b1238_22/2022-02-12/sglx/0716_g0/lf_0_t0.npy\n",
      "2022-04-19 14:13:03,735 ceciestunepipe.util.spikeextractors.preprocess INFO     saving sync dict to /mnt/sphere/speech_bci/derived_data/s_b1238_22/2022-02-12/sglx/0716_g0/lf_0_sync_dict.pkl\n",
      "2022-04-19 14:13:03,735 ceciestunepipe.util.spikeextractors.preprocess INFO     saving sync dict to /mnt/sphere/speech_bci/derived_data/s_b1238_22/2022-02-12/sglx/0716_g0/lf_0_sync_dict.pkl\n",
      "2022-04-19 14:13:03,803 ceciestunepipe.util.spikeextractors.preprocess INFO     loading syn_dict from /mnt/sphere/speech_bci/derived_data/s_b1238_22/2022-02-12/sglx/0716_g0/lf_0_sync_dict.pkl\n",
      "2022-04-19 14:13:03,803 ceciestunepipe.util.spikeextractors.preprocess INFO     loading syn_dict from /mnt/sphere/speech_bci/derived_data/s_b1238_22/2022-02-12/sglx/0716_g0/lf_0_sync_dict.pkl\n",
      "2022-04-19 14:13:03,810 ceciestunepipe.util.spikeextractors.preprocess INFO     getting syn patterns for ap_0\n"
     ]
    },
    {
     "name": "stderr",
     "output_type": "stream",
     "text": [
      "2022-04-19 14:13:03,810 ceciestunepipe.util.spikeextractors.preprocess INFO     getting syn patterns for ap_0\n",
      "2022-04-19 14:13:03,827 ceciestunepipe.util.spikeextractors.preprocess INFO     File /mnt/sphere/speech_bci/derived_data/s_b1238_22/2022-02-12/sglx/0716_g0/ap_0_sync_dict.pkl not found or forced computation, getting the events\n",
      "2022-04-19 14:13:03,827 ceciestunepipe.util.spikeextractors.preprocess INFO     File /mnt/sphere/speech_bci/derived_data/s_b1238_22/2022-02-12/sglx/0716_g0/ap_0_sync_dict.pkl not found or forced computation, getting the events\n",
      "2022-04-19 14:13:03,829 ceciestunepipe.util.spikeextractors.extractors.spikeglxrecordingextractor.spikeglxrecordingextractor INFO     getting ttl events, chan 0\n",
      "2022-04-19 14:13:03,829 ceciestunepipe.util.spikeextractors.extractors.spikeglxrecordingextractor.spikeglxrecordingextractor INFO     getting ttl events, chan 0\n",
      "2022-04-19 14:13:03,830 ceciestunepipe.util.spikeextractors.extractors.readSGLX INFO     Extracting digital on imec stream: there is only one channel, if any (SYN) and will be converted from an int16 channel \n",
      "2022-04-19 14:13:03,830 ceciestunepipe.util.spikeextractors.extractors.readSGLX INFO     Extracting digital on imec stream: there is only one channel, if any (SYN) and will be converted from an int16 channel \n",
      "2022-04-19 14:13:03,831 ceciestunepipe.util.spikeextractors.extractors.readSGLX INFO     allocated array for syn channel of size (474359121,)\n",
      "2022-04-19 14:13:03,831 ceciestunepipe.util.spikeextractors.extractors.readSGLX INFO     allocated array for syn channel of size (474359121,)\n",
      "2022-04-19 14:20:21,979 ceciestunepipe.util.spikeextractors.extractors.readSGLX INFO     Threshold for logical hi is 0\n",
      "2022-04-19 14:20:21,979 ceciestunepipe.util.spikeextractors.extractors.readSGLX INFO     Threshold for logical hi is 0\n",
      "/mnt/cube/earneodo/repos/ceciestunepipe/ceciestunepipe/util/spikeextractors/extractors/spikeglxrecordingextractor/readSGLX.py:310: UserWarning: There were 39 errors in the recording\n",
      "  warnings.warn('There were {} errors in the recording'.format(n_errors))\n",
      "/mnt/cube/earneodo/repos/ceciestunepipe/ceciestunepipe/util/spikeextractors/extractors/spikeglxrecordingextractor/readSGLX.py:311: UserWarning: You probably want to check those\n",
      "  warnings.warn('You probably want to check those')\n",
      "2022-04-19 14:20:39,054 ceciestunepipe.util.spikeextractors.preprocess INFO     saving events array to /mnt/sphere/speech_bci/derived_data/s_b1238_22/2022-02-12/sglx/0716_g0/ap_0_sync_evt.npy\n",
      "2022-04-19 14:20:39,054 ceciestunepipe.util.spikeextractors.preprocess INFO     saving events array to /mnt/sphere/speech_bci/derived_data/s_b1238_22/2022-02-12/sglx/0716_g0/ap_0_sync_evt.npy\n",
      "2022-04-19 14:20:39,097 ceciestunepipe.util.spikeextractors.preprocess INFO     saving t_0 array to /mnt/sphere/speech_bci/derived_data/s_b1238_22/2022-02-12/sglx/0716_g0/ap_0_t0.npy\n",
      "2022-04-19 14:20:39,097 ceciestunepipe.util.spikeextractors.preprocess INFO     saving t_0 array to /mnt/sphere/speech_bci/derived_data/s_b1238_22/2022-02-12/sglx/0716_g0/ap_0_t0.npy\n",
      "2022-04-19 14:20:44,502 ceciestunepipe.util.spikeextractors.preprocess INFO     saving sync dict to /mnt/sphere/speech_bci/derived_data/s_b1238_22/2022-02-12/sglx/0716_g0/ap_0_sync_dict.pkl\n",
      "2022-04-19 14:20:44,502 ceciestunepipe.util.spikeextractors.preprocess INFO     saving sync dict to /mnt/sphere/speech_bci/derived_data/s_b1238_22/2022-02-12/sglx/0716_g0/ap_0_sync_dict.pkl\n",
      "2022-04-19 14:20:44,534 ceciestunepipe.util.spikeextractors.preprocess INFO     loading syn_dict from /mnt/sphere/speech_bci/derived_data/s_b1238_22/2022-02-12/sglx/0716_g0/ap_0_sync_dict.pkl\n",
      "2022-04-19 14:20:44,534 ceciestunepipe.util.spikeextractors.preprocess INFO     loading syn_dict from /mnt/sphere/speech_bci/derived_data/s_b1238_22/2022-02-12/sglx/0716_g0/ap_0_sync_dict.pkl\n",
      "2022-04-19 14:20:44,540 ceciestunepipe.util.spikeextractors.preprocess INFO     getting syn patterns for nidq\n",
      "2022-04-19 14:20:44,540 ceciestunepipe.util.spikeextractors.preprocess INFO     getting syn patterns for nidq\n",
      "2022-04-19 14:20:44,586 ceciestunepipe.util.spikeextractors.preprocess INFO     loading syn_dict from /mnt/sphere/speech_bci/derived_data/s_b1238_22/2022-02-12/sglx/0716_g0/nidq_sync_dict.pkl\n",
      "2022-04-19 14:20:44,586 ceciestunepipe.util.spikeextractors.preprocess INFO     loading syn_dict from /mnt/sphere/speech_bci/derived_data/s_b1238_22/2022-02-12/sglx/0716_g0/nidq_sync_dict.pkl\n",
      "2022-04-19 14:20:53,216 ceciestunepipe.util.spikeextractors.preprocess INFO     getting syn patterns for wav\n",
      "2022-04-19 14:20:53,216 ceciestunepipe.util.spikeextractors.preprocess INFO     getting syn patterns for wav\n",
      "2022-04-19 14:20:53,239 ceciestunepipe.util.spikeextractors.preprocess INFO     loading syn_dict from /mnt/sphere/speech_bci/derived_data/s_b1238_22/2022-02-12/sglx/0716_g0/wav_sync_dict.pkl\n",
      "2022-04-19 14:20:53,239 ceciestunepipe.util.spikeextractors.preprocess INFO     loading syn_dict from /mnt/sphere/speech_bci/derived_data/s_b1238_22/2022-02-12/sglx/0716_g0/wav_sync_dict.pkl\n",
      "<ipython-input-12-d2f831978e89>:17: UserWarning: Error in epoch 0716_g0\n",
      "  warnings.warn('Error in epoch {}'.format(epoch), UserWarning)\n",
      "2022-04-19 14:34:08,419 root         INFO     <function format_exc at 0x7fbb928f38b0>\n",
      "2022-04-19 14:34:08,419 root         INFO     <function format_exc at 0x7fbb928f38b0>\n",
      "2022-04-19 14:34:08,423 root         INFO     \n",
      "2022-04-19 14:34:08,423 root         INFO     \n",
      "2022-04-19 14:34:08,425 root         INFO     Session 2022-02-12 epoch 0716_g0 could not be preprocessed\n",
      "2022-04-19 14:34:08,425 root         INFO     Session 2022-02-12 epoch 0716_g0 could not be preprocessed\n",
      "2022-04-19 14:34:09,855 ceciestunepipe.util.spikeextractors.preprocess INFO     PREPROCESSING sess 2022-02-12 | epoch 1141_stim_g0\n",
      "2022-04-19 14:34:09,855 ceciestunepipe.util.spikeextractors.preprocess INFO     PREPROCESSING sess 2022-02-12 | epoch 1141_stim_g0\n",
      "2022-04-19 14:34:09,859 ceciestunepipe.util.spikeextractors.preprocess INFO     getting extractors\n",
      "2022-04-19 14:34:09,859 ceciestunepipe.util.spikeextractors.preprocess INFO     getting extractors\n",
      "2022-04-19 14:34:10,062 ceciestunepipe.util.spikeextractors.preprocess INFO     Got sglx recordings for keys ['nidq', 'lf_0', 'ap_0']\n",
      "2022-04-19 14:34:10,062 ceciestunepipe.util.spikeextractors.preprocess INFO     Got sglx recordings for keys ['nidq', 'lf_0', 'ap_0']\n",
      "2022-04-19 14:34:10,064 ceciestunepipe.util.spikeextractors.preprocess INFO     Getting microphone channel(s) ['microphone_0']\n",
      "2022-04-19 14:34:10,064 ceciestunepipe.util.spikeextractors.preprocess INFO     Getting microphone channel(s) ['microphone_0']\n",
      "2022-04-19 14:34:10,067 ceciestunepipe.util.wavutil INFO     sampling rate 40000\n",
      "2022-04-19 14:34:10,067 ceciestunepipe.util.wavutil INFO     sampling rate 40000\n",
      "2022-04-19 14:34:10,068 ceciestunepipe.util.wavutil INFO     saving (1, 611852646)-shaped array as wav in /mnt/sphere/speech_bci/derived_data/s_b1238_22/2022-02-12/sglx/1141_stim_g0/wav_mic.wav\n",
      "2022-04-19 14:34:10,068 ceciestunepipe.util.wavutil INFO     saving (1, 611852646)-shaped array as wav in /mnt/sphere/speech_bci/derived_data/s_b1238_22/2022-02-12/sglx/1141_stim_g0/wav_mic.wav\n",
      "2022-04-19 14:34:24,323 ceciestunepipe.util.wavutil INFO     saving (1, 611852646)-shaped array as npy in /mnt/sphere/speech_bci/derived_data/s_b1238_22/2022-02-12/sglx/1141_stim_g0/wav_mic.npy\n",
      "2022-04-19 14:34:24,323 ceciestunepipe.util.wavutil INFO     saving (1, 611852646)-shaped array as npy in /mnt/sphere/speech_bci/derived_data/s_b1238_22/2022-02-12/sglx/1141_stim_g0/wav_mic.npy\n",
      "2022-04-19 14:34:36,179 ceciestunepipe.util.spikeextractors.preprocess INFO     Getting stimulus channel(s) ['wav_syn']\n",
      "2022-04-19 14:34:36,179 ceciestunepipe.util.spikeextractors.preprocess INFO     Getting stimulus channel(s) ['wav_syn']\n",
      "2022-04-19 14:34:36,184 ceciestunepipe.util.wavutil INFO     sampling rate 40000\n",
      "2022-04-19 14:34:36,184 ceciestunepipe.util.wavutil INFO     sampling rate 40000\n",
      "2022-04-19 14:34:36,185 ceciestunepipe.util.wavutil INFO     saving (1, 611852646)-shaped array as wav in /mnt/sphere/speech_bci/derived_data/s_b1238_22/2022-02-12/sglx/1141_stim_g0/wav_stim.wav\n",
      "2022-04-19 14:34:36,185 ceciestunepipe.util.wavutil INFO     saving (1, 611852646)-shaped array as wav in /mnt/sphere/speech_bci/derived_data/s_b1238_22/2022-02-12/sglx/1141_stim_g0/wav_stim.wav\n"
     ]
    },
    {
     "name": "stderr",
     "output_type": "stream",
     "text": [
      "2022-04-19 14:34:38,524 ceciestunepipe.util.wavutil INFO     saving (1, 611852646)-shaped array as npy in /mnt/sphere/speech_bci/derived_data/s_b1238_22/2022-02-12/sglx/1141_stim_g0/wav_stim.npy\n",
      "2022-04-19 14:34:38,524 ceciestunepipe.util.wavutil INFO     saving (1, 611852646)-shaped array as npy in /mnt/sphere/speech_bci/derived_data/s_b1238_22/2022-02-12/sglx/1141_stim_g0/wav_stim.npy\n",
      "2022-04-19 14:34:50,373 ceciestunepipe.util.spikeextractors.preprocess INFO     Getting the onset/offset of stimuli from the 0 extracted analog channel\n",
      "2022-04-19 14:34:50,373 ceciestunepipe.util.spikeextractors.preprocess INFO     Getting the onset/offset of stimuli from the 0 extracted analog channel\n",
      "2022-04-19 14:34:51,532 ceciestunepipe.util.stimutil INFO     found 142.0 events\n",
      "2022-04-19 14:34:51,532 ceciestunepipe.util.stimutil INFO     found 142.0 events\n",
      "2022-04-19 14:34:51,571 ceciestunepipe.util.spikeextractors.preprocess INFO     saved onset/offset of trial events from the sine wave in /mnt/sphere/speech_bci/derived_data/s_b1238_22/2022-02-12/sglx/1141_stim_g0/wav_stim_sync_sine_ttl_evt.npy\n",
      "2022-04-19 14:34:51,571 ceciestunepipe.util.spikeextractors.preprocess INFO     saved onset/offset of trial events from the sine wave in /mnt/sphere/speech_bci/derived_data/s_b1238_22/2022-02-12/sglx/1141_stim_g0/wav_stim_sync_sine_ttl_evt.npy\n",
      "2022-04-19 14:34:51,572 ceciestunepipe.util.spikeextractors.preprocess INFO     Getting sync channel(s) from nidaq streams: ['sync']\n",
      "2022-04-19 14:34:51,572 ceciestunepipe.util.spikeextractors.preprocess INFO     Getting sync channel(s) from nidaq streams: ['sync']\n",
      "2022-04-19 14:34:51,574 ceciestunepipe.util.spikeextractors.extractors.spikeglxrecordingextractor.spikeglxrecordingextractor INFO     getting ttl traces, chan [0 1 2 3 4 5 6 7]\n",
      "2022-04-19 14:34:51,574 ceciestunepipe.util.spikeextractors.extractors.spikeglxrecordingextractor.spikeglxrecordingextractor INFO     getting ttl traces, chan [0 1 2 3 4 5 6 7]\n",
      "2022-04-19 14:35:01,473 ceciestunepipe.util.wavutil INFO     sampling rate 40000\n",
      "2022-04-19 14:35:01,473 ceciestunepipe.util.wavutil INFO     sampling rate 40000\n",
      "2022-04-19 14:35:01,476 ceciestunepipe.util.wavutil INFO     saving (1, 611852646)-shaped array as wav in /mnt/sphere/speech_bci/derived_data/s_b1238_22/2022-02-12/sglx/1141_stim_g0/wav_sync.wav\n",
      "2022-04-19 14:35:01,476 ceciestunepipe.util.wavutil INFO     saving (1, 611852646)-shaped array as wav in /mnt/sphere/speech_bci/derived_data/s_b1238_22/2022-02-12/sglx/1141_stim_g0/wav_sync.wav\n",
      "2022-04-19 14:35:03,357 ceciestunepipe.util.wavutil INFO     saving (1, 611852646)-shaped array as npy in /mnt/sphere/speech_bci/derived_data/s_b1238_22/2022-02-12/sglx/1141_stim_g0/wav_sync.npy\n",
      "2022-04-19 14:35:03,357 ceciestunepipe.util.wavutil INFO     saving (1, 611852646)-shaped array as npy in /mnt/sphere/speech_bci/derived_data/s_b1238_22/2022-02-12/sglx/1141_stim_g0/wav_sync.npy\n",
      "2022-04-19 14:35:05,181 ceciestunepipe.util.spikeextractors.preprocess INFO     Getting sync events from the wav sync channel\n",
      "2022-04-19 14:35:05,181 ceciestunepipe.util.spikeextractors.preprocess INFO     Getting sync events from the wav sync channel\n",
      "2022-04-19 14:35:08,149 ceciestunepipe.util.spikeextractors.preprocess INFO     saving sync events of the wav channel to /mnt/sphere/speech_bci/derived_data/s_b1238_22/2022-02-12/sglx/1141_stim_g0/wav_sync_evt.npy\n",
      "2022-04-19 14:35:08,149 ceciestunepipe.util.spikeextractors.preprocess INFO     saving sync events of the wav channel to /mnt/sphere/speech_bci/derived_data/s_b1238_22/2022-02-12/sglx/1141_stim_g0/wav_sync_evt.npy\n",
      "2022-04-19 14:35:08,166 ceciestunepipe.util.spikeextractors.preprocess INFO     saving t0 for wav channel to /mnt/sphere/speech_bci/derived_data/s_b1238_22/2022-02-12/sglx/1141_stim_g0/wav_t0.npy\n",
      "2022-04-19 14:35:08,166 ceciestunepipe.util.spikeextractors.preprocess INFO     saving t0 for wav channel to /mnt/sphere/speech_bci/derived_data/s_b1238_22/2022-02-12/sglx/1141_stim_g0/wav_t0.npy\n",
      "2022-04-19 14:35:17,507 ceciestunepipe.util.spikeextractors.preprocess INFO     Will get 1 ttl signals\n",
      "2022-04-19 14:35:17,507 ceciestunepipe.util.spikeextractors.preprocess INFO     Will get 1 ttl signals\n",
      "2022-04-19 14:35:17,508 ceciestunepipe.util.spikeextractors.preprocess INFO     looking for signal wav_ttl in the nidaq channels\n",
      "2022-04-19 14:35:17,508 ceciestunepipe.util.spikeextractors.preprocess INFO     looking for signal wav_ttl in the nidaq channels\n",
      "2022-04-19 14:35:17,509 ceciestunepipe.util.spikeextractors.preprocess INFO     found in chan 2\n",
      "2022-04-19 14:35:17,509 ceciestunepipe.util.spikeextractors.preprocess INFO     found in chan 2\n",
      "2022-04-19 14:35:17,511 ceciestunepipe.util.spikeextractors.extractors.spikeglxrecordingextractor.spikeglxrecordingextractor INFO     getting ttl events, chan 2\n",
      "2022-04-19 14:35:17,511 ceciestunepipe.util.spikeextractors.extractors.spikeglxrecordingextractor.spikeglxrecordingextractor INFO     getting ttl events, chan 2\n",
      "2022-04-19 14:35:22,778 ceciestunepipe.util.spikeextractors.preprocess INFO     saving (0, 2)-shaped array as npy in /mnt/sphere/speech_bci/derived_data/s_b1238_22/2022-02-12/sglx/1141_stim_g0/wav_ttl_evt.npy\n",
      "2022-04-19 14:35:22,778 ceciestunepipe.util.spikeextractors.preprocess INFO     saving (0, 2)-shaped array as npy in /mnt/sphere/speech_bci/derived_data/s_b1238_22/2022-02-12/sglx/1141_stim_g0/wav_ttl_evt.npy\n",
      "2022-04-19 14:35:22,782 ceciestunepipe.util.spikeextractors.preprocess INFO     saving sync nidaq dict to /mnt/sphere/speech_bci/derived_data/s_b1238_22/2022-02-12/sglx/1141_stim_g0/wav_sync_dict.pkl\n",
      "2022-04-19 14:35:22,782 ceciestunepipe.util.spikeextractors.preprocess INFO     saving sync nidaq dict to /mnt/sphere/speech_bci/derived_data/s_b1238_22/2022-02-12/sglx/1141_stim_g0/wav_sync_dict.pkl\n",
      "2022-04-19 14:35:22,803 ceciestunepipe.util.spikeextractors.preprocess INFO     Getting sync signals for imec streams: ['lf_0', 'ap_0']\n",
      "2022-04-19 14:35:22,803 ceciestunepipe.util.spikeextractors.preprocess INFO     Getting sync signals for imec streams: ['lf_0', 'ap_0']\n",
      "2022-04-19 14:35:22,804 ceciestunepipe.util.spikeextractors.preprocess INFO     getting syn patterns for lf_0\n",
      "2022-04-19 14:35:22,804 ceciestunepipe.util.spikeextractors.preprocess INFO     getting syn patterns for lf_0\n",
      "2022-04-19 14:35:22,805 ceciestunepipe.util.spikeextractors.preprocess INFO     File /mnt/sphere/speech_bci/derived_data/s_b1238_22/2022-02-12/sglx/1141_stim_g0/lf_0_sync_dict.pkl not found or forced computation, getting the events\n",
      "2022-04-19 14:35:22,805 ceciestunepipe.util.spikeextractors.preprocess INFO     File /mnt/sphere/speech_bci/derived_data/s_b1238_22/2022-02-12/sglx/1141_stim_g0/lf_0_sync_dict.pkl not found or forced computation, getting the events\n",
      "2022-04-19 14:35:22,806 ceciestunepipe.util.spikeextractors.extractors.spikeglxrecordingextractor.spikeglxrecordingextractor INFO     getting ttl events, chan 0\n",
      "2022-04-19 14:35:22,806 ceciestunepipe.util.spikeextractors.extractors.spikeglxrecordingextractor.spikeglxrecordingextractor INFO     getting ttl events, chan 0\n",
      "2022-04-19 14:35:22,807 ceciestunepipe.util.spikeextractors.extractors.readSGLX INFO     Extracting digital on imec stream: there is only one channel, if any (SYN) and will be converted from an int16 channel \n",
      "2022-04-19 14:35:22,807 ceciestunepipe.util.spikeextractors.extractors.readSGLX INFO     Extracting digital on imec stream: there is only one channel, if any (SYN) and will be converted from an int16 channel \n",
      "2022-04-19 14:35:22,809 ceciestunepipe.util.spikeextractors.extractors.readSGLX INFO     allocated array for syn channel of size (38241540,)\n",
      "2022-04-19 14:35:22,809 ceciestunepipe.util.spikeextractors.extractors.readSGLX INFO     allocated array for syn channel of size (38241540,)\n",
      "2022-04-19 14:36:01,815 ceciestunepipe.util.spikeextractors.extractors.readSGLX INFO     Threshold for logical hi is 0\n",
      "2022-04-19 14:36:01,815 ceciestunepipe.util.spikeextractors.extractors.readSGLX INFO     Threshold for logical hi is 0\n",
      "2022-04-19 14:36:02,316 ceciestunepipe.util.spikeextractors.preprocess INFO     saving events array to /mnt/sphere/speech_bci/derived_data/s_b1238_22/2022-02-12/sglx/1141_stim_g0/lf_0_sync_evt.npy\n",
      "2022-04-19 14:36:02,316 ceciestunepipe.util.spikeextractors.preprocess INFO     saving events array to /mnt/sphere/speech_bci/derived_data/s_b1238_22/2022-02-12/sglx/1141_stim_g0/lf_0_sync_evt.npy\n"
     ]
    },
    {
     "name": "stderr",
     "output_type": "stream",
     "text": [
      "2022-04-19 14:36:02,382 ceciestunepipe.util.spikeextractors.preprocess INFO     saving t_0 array to /mnt/sphere/speech_bci/derived_data/s_b1238_22/2022-02-12/sglx/1141_stim_g0/lf_0_t0.npy\n",
      "2022-04-19 14:36:02,382 ceciestunepipe.util.spikeextractors.preprocess INFO     saving t_0 array to /mnt/sphere/speech_bci/derived_data/s_b1238_22/2022-02-12/sglx/1141_stim_g0/lf_0_t0.npy\n",
      "2022-04-19 14:36:02,955 ceciestunepipe.util.spikeextractors.preprocess INFO     saving sync dict to /mnt/sphere/speech_bci/derived_data/s_b1238_22/2022-02-12/sglx/1141_stim_g0/lf_0_sync_dict.pkl\n",
      "2022-04-19 14:36:02,955 ceciestunepipe.util.spikeextractors.preprocess INFO     saving sync dict to /mnt/sphere/speech_bci/derived_data/s_b1238_22/2022-02-12/sglx/1141_stim_g0/lf_0_sync_dict.pkl\n",
      "2022-04-19 14:36:03,028 ceciestunepipe.util.spikeextractors.preprocess INFO     loading syn_dict from /mnt/sphere/speech_bci/derived_data/s_b1238_22/2022-02-12/sglx/1141_stim_g0/lf_0_sync_dict.pkl\n",
      "2022-04-19 14:36:03,028 ceciestunepipe.util.spikeextractors.preprocess INFO     loading syn_dict from /mnt/sphere/speech_bci/derived_data/s_b1238_22/2022-02-12/sglx/1141_stim_g0/lf_0_sync_dict.pkl\n",
      "2022-04-19 14:36:03,033 ceciestunepipe.util.spikeextractors.preprocess INFO     getting syn patterns for ap_0\n",
      "2022-04-19 14:36:03,033 ceciestunepipe.util.spikeextractors.preprocess INFO     getting syn patterns for ap_0\n",
      "2022-04-19 14:36:03,073 ceciestunepipe.util.spikeextractors.preprocess INFO     File /mnt/sphere/speech_bci/derived_data/s_b1238_22/2022-02-12/sglx/1141_stim_g0/ap_0_sync_dict.pkl not found or forced computation, getting the events\n",
      "2022-04-19 14:36:03,073 ceciestunepipe.util.spikeextractors.preprocess INFO     File /mnt/sphere/speech_bci/derived_data/s_b1238_22/2022-02-12/sglx/1141_stim_g0/ap_0_sync_dict.pkl not found or forced computation, getting the events\n",
      "2022-04-19 14:36:03,075 ceciestunepipe.util.spikeextractors.extractors.spikeglxrecordingextractor.spikeglxrecordingextractor INFO     getting ttl events, chan 0\n",
      "2022-04-19 14:36:03,075 ceciestunepipe.util.spikeextractors.extractors.spikeglxrecordingextractor.spikeglxrecordingextractor INFO     getting ttl events, chan 0\n",
      "2022-04-19 14:36:03,076 ceciestunepipe.util.spikeextractors.extractors.readSGLX INFO     Extracting digital on imec stream: there is only one channel, if any (SYN) and will be converted from an int16 channel \n",
      "2022-04-19 14:36:03,076 ceciestunepipe.util.spikeextractors.extractors.readSGLX INFO     Extracting digital on imec stream: there is only one channel, if any (SYN) and will be converted from an int16 channel \n",
      "2022-04-19 14:36:03,077 ceciestunepipe.util.spikeextractors.extractors.readSGLX INFO     allocated array for syn channel of size (458898469,)\n",
      "2022-04-19 14:36:03,077 ceciestunepipe.util.spikeextractors.extractors.readSGLX INFO     allocated array for syn channel of size (458898469,)\n",
      "2022-04-19 14:43:21,550 ceciestunepipe.util.spikeextractors.extractors.readSGLX INFO     Threshold for logical hi is 0\n",
      "2022-04-19 14:43:21,550 ceciestunepipe.util.spikeextractors.extractors.readSGLX INFO     Threshold for logical hi is 0\n",
      "2022-04-19 14:43:37,557 ceciestunepipe.util.spikeextractors.preprocess INFO     saving events array to /mnt/sphere/speech_bci/derived_data/s_b1238_22/2022-02-12/sglx/1141_stim_g0/ap_0_sync_evt.npy\n",
      "2022-04-19 14:43:37,557 ceciestunepipe.util.spikeextractors.preprocess INFO     saving events array to /mnt/sphere/speech_bci/derived_data/s_b1238_22/2022-02-12/sglx/1141_stim_g0/ap_0_sync_evt.npy\n",
      "2022-04-19 14:43:37,621 ceciestunepipe.util.spikeextractors.preprocess INFO     saving t_0 array to /mnt/sphere/speech_bci/derived_data/s_b1238_22/2022-02-12/sglx/1141_stim_g0/ap_0_t0.npy\n",
      "2022-04-19 14:43:37,621 ceciestunepipe.util.spikeextractors.preprocess INFO     saving t_0 array to /mnt/sphere/speech_bci/derived_data/s_b1238_22/2022-02-12/sglx/1141_stim_g0/ap_0_t0.npy\n",
      "2022-04-19 14:43:42,999 ceciestunepipe.util.spikeextractors.preprocess INFO     saving sync dict to /mnt/sphere/speech_bci/derived_data/s_b1238_22/2022-02-12/sglx/1141_stim_g0/ap_0_sync_dict.pkl\n",
      "2022-04-19 14:43:42,999 ceciestunepipe.util.spikeextractors.preprocess INFO     saving sync dict to /mnt/sphere/speech_bci/derived_data/s_b1238_22/2022-02-12/sglx/1141_stim_g0/ap_0_sync_dict.pkl\n",
      "2022-04-19 14:43:43,014 ceciestunepipe.util.spikeextractors.preprocess INFO     loading syn_dict from /mnt/sphere/speech_bci/derived_data/s_b1238_22/2022-02-12/sglx/1141_stim_g0/ap_0_sync_dict.pkl\n",
      "2022-04-19 14:43:43,014 ceciestunepipe.util.spikeextractors.preprocess INFO     loading syn_dict from /mnt/sphere/speech_bci/derived_data/s_b1238_22/2022-02-12/sglx/1141_stim_g0/ap_0_sync_dict.pkl\n",
      "2022-04-19 14:43:43,019 ceciestunepipe.util.spikeextractors.preprocess INFO     getting syn patterns for nidq\n",
      "2022-04-19 14:43:43,019 ceciestunepipe.util.spikeextractors.preprocess INFO     getting syn patterns for nidq\n",
      "2022-04-19 14:43:43,071 ceciestunepipe.util.spikeextractors.preprocess INFO     loading syn_dict from /mnt/sphere/speech_bci/derived_data/s_b1238_22/2022-02-12/sglx/1141_stim_g0/nidq_sync_dict.pkl\n",
      "2022-04-19 14:43:43,071 ceciestunepipe.util.spikeextractors.preprocess INFO     loading syn_dict from /mnt/sphere/speech_bci/derived_data/s_b1238_22/2022-02-12/sglx/1141_stim_g0/nidq_sync_dict.pkl\n",
      "2022-04-19 14:43:50,680 ceciestunepipe.util.spikeextractors.preprocess INFO     getting syn patterns for wav\n",
      "2022-04-19 14:43:50,680 ceciestunepipe.util.spikeextractors.preprocess INFO     getting syn patterns for wav\n",
      "2022-04-19 14:43:50,701 ceciestunepipe.util.spikeextractors.preprocess INFO     loading syn_dict from /mnt/sphere/speech_bci/derived_data/s_b1238_22/2022-02-12/sglx/1141_stim_g0/wav_sync_dict.pkl\n",
      "2022-04-19 14:43:50,701 ceciestunepipe.util.spikeextractors.preprocess INFO     loading syn_dict from /mnt/sphere/speech_bci/derived_data/s_b1238_22/2022-02-12/sglx/1141_stim_g0/wav_sync_dict.pkl\n",
      "<ipython-input-12-d2f831978e89>:17: UserWarning: Error in epoch 1141_stim_g0\n",
      "  warnings.warn('Error in epoch {}'.format(epoch), UserWarning)\n",
      "2022-04-19 14:57:10,678 root         INFO     <function format_exc at 0x7fbb928f38b0>\n",
      "2022-04-19 14:57:10,678 root         INFO     <function format_exc at 0x7fbb928f38b0>\n",
      "2022-04-19 14:57:10,681 root         INFO     \n",
      "2022-04-19 14:57:10,681 root         INFO     \n",
      "2022-04-19 14:57:10,683 root         INFO     Session 2022-02-12 epoch 1141_stim_g0 could not be preprocessed\n",
      "2022-04-19 14:57:10,683 root         INFO     Session 2022-02-12 epoch 1141_stim_g0 could not be preprocessed\n",
      "2022-04-19 14:57:12,616 ceciestunepipe.util.spikeextractors.preprocess INFO     PREPROCESSING sess 2022-02-12 | epoch 1607_g0\n",
      "2022-04-19 14:57:12,616 ceciestunepipe.util.spikeextractors.preprocess INFO     PREPROCESSING sess 2022-02-12 | epoch 1607_g0\n",
      "2022-04-19 14:57:12,619 ceciestunepipe.util.spikeextractors.preprocess INFO     getting extractors\n",
      "2022-04-19 14:57:12,619 ceciestunepipe.util.spikeextractors.preprocess INFO     getting extractors\n",
      "2022-04-19 14:57:12,884 ceciestunepipe.util.spikeextractors.preprocess INFO     Got sglx recordings for keys ['nidq', 'lf_0', 'ap_0']\n",
      "2022-04-19 14:57:12,884 ceciestunepipe.util.spikeextractors.preprocess INFO     Got sglx recordings for keys ['nidq', 'lf_0', 'ap_0']\n",
      "2022-04-19 14:57:12,885 ceciestunepipe.util.spikeextractors.preprocess INFO     Getting microphone channel(s) ['microphone_0']\n",
      "2022-04-19 14:57:12,885 ceciestunepipe.util.spikeextractors.preprocess INFO     Getting microphone channel(s) ['microphone_0']\n",
      "2022-04-19 14:57:12,887 ceciestunepipe.util.wavutil INFO     sampling rate 40000\n",
      "2022-04-19 14:57:12,887 ceciestunepipe.util.wavutil INFO     sampling rate 40000\n",
      "2022-04-19 14:57:12,888 ceciestunepipe.util.wavutil INFO     saving (1, 872783924)-shaped array as wav in /mnt/sphere/speech_bci/derived_data/s_b1238_22/2022-02-12/sglx/1607_g0/wav_mic.wav\n",
      "2022-04-19 14:57:12,888 ceciestunepipe.util.wavutil INFO     saving (1, 872783924)-shaped array as wav in /mnt/sphere/speech_bci/derived_data/s_b1238_22/2022-02-12/sglx/1607_g0/wav_mic.wav\n",
      "2022-04-19 14:57:29,333 ceciestunepipe.util.wavutil INFO     saving (1, 872783924)-shaped array as npy in /mnt/sphere/speech_bci/derived_data/s_b1238_22/2022-02-12/sglx/1607_g0/wav_mic.npy\n"
     ]
    },
    {
     "name": "stderr",
     "output_type": "stream",
     "text": [
      "2022-04-19 14:57:29,333 ceciestunepipe.util.wavutil INFO     saving (1, 872783924)-shaped array as npy in /mnt/sphere/speech_bci/derived_data/s_b1238_22/2022-02-12/sglx/1607_g0/wav_mic.npy\n",
      "2022-04-19 14:57:46,445 ceciestunepipe.util.spikeextractors.preprocess INFO     Getting stimulus channel(s) ['wav_syn']\n",
      "2022-04-19 14:57:46,445 ceciestunepipe.util.spikeextractors.preprocess INFO     Getting stimulus channel(s) ['wav_syn']\n",
      "2022-04-19 14:57:46,449 ceciestunepipe.util.wavutil INFO     sampling rate 40000\n",
      "2022-04-19 14:57:46,449 ceciestunepipe.util.wavutil INFO     sampling rate 40000\n",
      "2022-04-19 14:57:46,450 ceciestunepipe.util.wavutil INFO     saving (1, 872783924)-shaped array as wav in /mnt/sphere/speech_bci/derived_data/s_b1238_22/2022-02-12/sglx/1607_g0/wav_stim.wav\n",
      "2022-04-19 14:57:46,450 ceciestunepipe.util.wavutil INFO     saving (1, 872783924)-shaped array as wav in /mnt/sphere/speech_bci/derived_data/s_b1238_22/2022-02-12/sglx/1607_g0/wav_stim.wav\n",
      "2022-04-19 14:57:49,919 ceciestunepipe.util.wavutil INFO     saving (1, 872783924)-shaped array as npy in /mnt/sphere/speech_bci/derived_data/s_b1238_22/2022-02-12/sglx/1607_g0/wav_stim.npy\n",
      "2022-04-19 14:57:49,919 ceciestunepipe.util.wavutil INFO     saving (1, 872783924)-shaped array as npy in /mnt/sphere/speech_bci/derived_data/s_b1238_22/2022-02-12/sglx/1607_g0/wav_stim.npy\n",
      "2022-04-19 14:58:06,914 ceciestunepipe.util.spikeextractors.preprocess INFO     Getting the onset/offset of stimuli from the 0 extracted analog channel\n",
      "2022-04-19 14:58:06,914 ceciestunepipe.util.spikeextractors.preprocess INFO     Getting the onset/offset of stimuli from the 0 extracted analog channel\n",
      "2022-04-19 14:58:08,226 ceciestunepipe.util.stimutil INFO     found 0.0 events\n",
      "2022-04-19 14:58:08,226 ceciestunepipe.util.stimutil INFO     found 0.0 events\n",
      "2022-04-19 14:58:08,333 ceciestunepipe.util.spikeextractors.preprocess INFO     saved onset/offset of trial events from the sine wave in /mnt/sphere/speech_bci/derived_data/s_b1238_22/2022-02-12/sglx/1607_g0/wav_stim_sync_sine_ttl_evt.npy\n",
      "2022-04-19 14:58:08,333 ceciestunepipe.util.spikeextractors.preprocess INFO     saved onset/offset of trial events from the sine wave in /mnt/sphere/speech_bci/derived_data/s_b1238_22/2022-02-12/sglx/1607_g0/wav_stim_sync_sine_ttl_evt.npy\n",
      "2022-04-19 14:58:08,334 ceciestunepipe.util.spikeextractors.preprocess INFO     Getting sync channel(s) from nidaq streams: ['sync']\n",
      "2022-04-19 14:58:08,334 ceciestunepipe.util.spikeextractors.preprocess INFO     Getting sync channel(s) from nidaq streams: ['sync']\n",
      "2022-04-19 14:58:08,336 ceciestunepipe.util.spikeextractors.extractors.spikeglxrecordingextractor.spikeglxrecordingextractor INFO     getting ttl traces, chan [0 1 2 3 4 5 6 7]\n",
      "2022-04-19 14:58:08,336 ceciestunepipe.util.spikeextractors.extractors.spikeglxrecordingextractor.spikeglxrecordingextractor INFO     getting ttl traces, chan [0 1 2 3 4 5 6 7]\n",
      "2022-04-19 14:58:21,661 ceciestunepipe.util.wavutil INFO     sampling rate 40000\n",
      "2022-04-19 14:58:21,661 ceciestunepipe.util.wavutil INFO     sampling rate 40000\n",
      "2022-04-19 14:58:21,662 ceciestunepipe.util.wavutil INFO     saving (1, 872783924)-shaped array as wav in /mnt/sphere/speech_bci/derived_data/s_b1238_22/2022-02-12/sglx/1607_g0/wav_sync.wav\n",
      "2022-04-19 14:58:21,662 ceciestunepipe.util.wavutil INFO     saving (1, 872783924)-shaped array as wav in /mnt/sphere/speech_bci/derived_data/s_b1238_22/2022-02-12/sglx/1607_g0/wav_sync.wav\n",
      "2022-04-19 14:58:24,336 ceciestunepipe.util.wavutil INFO     saving (1, 872783924)-shaped array as npy in /mnt/sphere/speech_bci/derived_data/s_b1238_22/2022-02-12/sglx/1607_g0/wav_sync.npy\n",
      "2022-04-19 14:58:24,336 ceciestunepipe.util.wavutil INFO     saving (1, 872783924)-shaped array as npy in /mnt/sphere/speech_bci/derived_data/s_b1238_22/2022-02-12/sglx/1607_g0/wav_sync.npy\n",
      "2022-04-19 14:58:26,892 ceciestunepipe.util.spikeextractors.preprocess INFO     Getting sync events from the wav sync channel\n",
      "2022-04-19 14:58:26,892 ceciestunepipe.util.spikeextractors.preprocess INFO     Getting sync events from the wav sync channel\n",
      "2022-04-19 14:58:31,124 ceciestunepipe.util.spikeextractors.preprocess INFO     saving sync events of the wav channel to /mnt/sphere/speech_bci/derived_data/s_b1238_22/2022-02-12/sglx/1607_g0/wav_sync_evt.npy\n",
      "2022-04-19 14:58:31,124 ceciestunepipe.util.spikeextractors.preprocess INFO     saving sync events of the wav channel to /mnt/sphere/speech_bci/derived_data/s_b1238_22/2022-02-12/sglx/1607_g0/wav_sync_evt.npy\n",
      "2022-04-19 14:58:31,167 ceciestunepipe.util.spikeextractors.preprocess INFO     saving t0 for wav channel to /mnt/sphere/speech_bci/derived_data/s_b1238_22/2022-02-12/sglx/1607_g0/wav_t0.npy\n",
      "2022-04-19 14:58:31,167 ceciestunepipe.util.spikeextractors.preprocess INFO     saving t0 for wav channel to /mnt/sphere/speech_bci/derived_data/s_b1238_22/2022-02-12/sglx/1607_g0/wav_t0.npy\n",
      "2022-04-19 14:58:45,746 ceciestunepipe.util.spikeextractors.preprocess INFO     Will get 1 ttl signals\n",
      "2022-04-19 14:58:45,746 ceciestunepipe.util.spikeextractors.preprocess INFO     Will get 1 ttl signals\n",
      "2022-04-19 14:58:45,747 ceciestunepipe.util.spikeextractors.preprocess INFO     looking for signal wav_ttl in the nidaq channels\n",
      "2022-04-19 14:58:45,747 ceciestunepipe.util.spikeextractors.preprocess INFO     looking for signal wav_ttl in the nidaq channels\n",
      "2022-04-19 14:58:45,748 ceciestunepipe.util.spikeextractors.preprocess INFO     found in chan 2\n",
      "2022-04-19 14:58:45,748 ceciestunepipe.util.spikeextractors.preprocess INFO     found in chan 2\n",
      "2022-04-19 14:58:45,749 ceciestunepipe.util.spikeextractors.extractors.spikeglxrecordingextractor.spikeglxrecordingextractor INFO     getting ttl events, chan 2\n",
      "2022-04-19 14:58:45,749 ceciestunepipe.util.spikeextractors.extractors.spikeglxrecordingextractor.spikeglxrecordingextractor INFO     getting ttl events, chan 2\n",
      "2022-04-19 14:58:54,211 ceciestunepipe.util.spikeextractors.preprocess INFO     saving (0, 2)-shaped array as npy in /mnt/sphere/speech_bci/derived_data/s_b1238_22/2022-02-12/sglx/1607_g0/wav_ttl_evt.npy\n",
      "2022-04-19 14:58:54,211 ceciestunepipe.util.spikeextractors.preprocess INFO     saving (0, 2)-shaped array as npy in /mnt/sphere/speech_bci/derived_data/s_b1238_22/2022-02-12/sglx/1607_g0/wav_ttl_evt.npy\n",
      "2022-04-19 14:58:54,255 ceciestunepipe.util.spikeextractors.preprocess INFO     saving sync nidaq dict to /mnt/sphere/speech_bci/derived_data/s_b1238_22/2022-02-12/sglx/1607_g0/wav_sync_dict.pkl\n",
      "2022-04-19 14:58:54,255 ceciestunepipe.util.spikeextractors.preprocess INFO     saving sync nidaq dict to /mnt/sphere/speech_bci/derived_data/s_b1238_22/2022-02-12/sglx/1607_g0/wav_sync_dict.pkl\n",
      "2022-04-19 14:58:54,309 ceciestunepipe.util.spikeextractors.preprocess INFO     Getting sync signals for imec streams: ['lf_0', 'ap_0']\n",
      "2022-04-19 14:58:54,309 ceciestunepipe.util.spikeextractors.preprocess INFO     Getting sync signals for imec streams: ['lf_0', 'ap_0']\n",
      "2022-04-19 14:58:54,310 ceciestunepipe.util.spikeextractors.preprocess INFO     getting syn patterns for lf_0\n",
      "2022-04-19 14:58:54,310 ceciestunepipe.util.spikeextractors.preprocess INFO     getting syn patterns for lf_0\n",
      "2022-04-19 14:58:54,312 ceciestunepipe.util.spikeextractors.preprocess INFO     File /mnt/sphere/speech_bci/derived_data/s_b1238_22/2022-02-12/sglx/1607_g0/lf_0_sync_dict.pkl not found or forced computation, getting the events\n",
      "2022-04-19 14:58:54,312 ceciestunepipe.util.spikeextractors.preprocess INFO     File /mnt/sphere/speech_bci/derived_data/s_b1238_22/2022-02-12/sglx/1607_g0/lf_0_sync_dict.pkl not found or forced computation, getting the events\n",
      "2022-04-19 14:58:54,313 ceciestunepipe.util.spikeextractors.extractors.spikeglxrecordingextractor.spikeglxrecordingextractor INFO     getting ttl events, chan 0\n",
      "2022-04-19 14:58:54,313 ceciestunepipe.util.spikeextractors.extractors.spikeglxrecordingextractor.spikeglxrecordingextractor INFO     getting ttl events, chan 0\n",
      "2022-04-19 14:58:54,314 ceciestunepipe.util.spikeextractors.extractors.readSGLX INFO     Extracting digital on imec stream: there is only one channel, if any (SYN) and will be converted from an int16 channel \n",
      "2022-04-19 14:58:54,314 ceciestunepipe.util.spikeextractors.extractors.readSGLX INFO     Extracting digital on imec stream: there is only one channel, if any (SYN) and will be converted from an int16 channel \n"
     ]
    },
    {
     "name": "stderr",
     "output_type": "stream",
     "text": [
      "2022-04-19 14:58:54,315 ceciestunepipe.util.spikeextractors.extractors.readSGLX INFO     allocated array for syn channel of size (54550061,)\n",
      "2022-04-19 14:58:54,315 ceciestunepipe.util.spikeextractors.extractors.readSGLX INFO     allocated array for syn channel of size (54550061,)\n",
      "2022-04-19 15:00:07,057 ceciestunepipe.util.spikeextractors.extractors.readSGLX INFO     Threshold for logical hi is 0\n",
      "2022-04-19 15:00:07,057 ceciestunepipe.util.spikeextractors.extractors.readSGLX INFO     Threshold for logical hi is 0\n",
      "/mnt/cube/earneodo/repos/ceciestunepipe/ceciestunepipe/util/spikeextractors/extractors/spikeglxrecordingextractor/readSGLX.py:310: UserWarning: There were 3 errors in the recording\n",
      "  warnings.warn('There were {} errors in the recording'.format(n_errors))\n",
      "/mnt/cube/earneodo/repos/ceciestunepipe/ceciestunepipe/util/spikeextractors/extractors/spikeglxrecordingextractor/readSGLX.py:311: UserWarning: You probably want to check those\n",
      "  warnings.warn('You probably want to check those')\n",
      "2022-04-19 15:00:08,429 ceciestunepipe.util.spikeextractors.preprocess INFO     saving events array to /mnt/sphere/speech_bci/derived_data/s_b1238_22/2022-02-12/sglx/1607_g0/lf_0_sync_evt.npy\n",
      "2022-04-19 15:00:08,429 ceciestunepipe.util.spikeextractors.preprocess INFO     saving events array to /mnt/sphere/speech_bci/derived_data/s_b1238_22/2022-02-12/sglx/1607_g0/lf_0_sync_evt.npy\n",
      "2022-04-19 15:00:08,476 ceciestunepipe.util.spikeextractors.preprocess INFO     saving t_0 array to /mnt/sphere/speech_bci/derived_data/s_b1238_22/2022-02-12/sglx/1607_g0/lf_0_t0.npy\n",
      "2022-04-19 15:00:08,476 ceciestunepipe.util.spikeextractors.preprocess INFO     saving t_0 array to /mnt/sphere/speech_bci/derived_data/s_b1238_22/2022-02-12/sglx/1607_g0/lf_0_t0.npy\n",
      "2022-04-19 15:00:09,265 ceciestunepipe.util.spikeextractors.preprocess INFO     saving sync dict to /mnt/sphere/speech_bci/derived_data/s_b1238_22/2022-02-12/sglx/1607_g0/lf_0_sync_dict.pkl\n",
      "2022-04-19 15:00:09,265 ceciestunepipe.util.spikeextractors.preprocess INFO     saving sync dict to /mnt/sphere/speech_bci/derived_data/s_b1238_22/2022-02-12/sglx/1607_g0/lf_0_sync_dict.pkl\n",
      "2022-04-19 15:00:09,278 ceciestunepipe.util.spikeextractors.preprocess INFO     loading syn_dict from /mnt/sphere/speech_bci/derived_data/s_b1238_22/2022-02-12/sglx/1607_g0/lf_0_sync_dict.pkl\n",
      "2022-04-19 15:00:09,278 ceciestunepipe.util.spikeextractors.preprocess INFO     loading syn_dict from /mnt/sphere/speech_bci/derived_data/s_b1238_22/2022-02-12/sglx/1607_g0/lf_0_sync_dict.pkl\n",
      "2022-04-19 15:00:09,282 ceciestunepipe.util.spikeextractors.preprocess INFO     getting syn patterns for ap_0\n",
      "2022-04-19 15:00:09,282 ceciestunepipe.util.spikeextractors.preprocess INFO     getting syn patterns for ap_0\n",
      "2022-04-19 15:00:09,312 ceciestunepipe.util.spikeextractors.preprocess INFO     File /mnt/sphere/speech_bci/derived_data/s_b1238_22/2022-02-12/sglx/1607_g0/ap_0_sync_dict.pkl not found or forced computation, getting the events\n",
      "2022-04-19 15:00:09,312 ceciestunepipe.util.spikeextractors.preprocess INFO     File /mnt/sphere/speech_bci/derived_data/s_b1238_22/2022-02-12/sglx/1607_g0/ap_0_sync_dict.pkl not found or forced computation, getting the events\n",
      "2022-04-19 15:00:09,313 ceciestunepipe.util.spikeextractors.extractors.spikeglxrecordingextractor.spikeglxrecordingextractor INFO     getting ttl events, chan 0\n",
      "2022-04-19 15:00:09,313 ceciestunepipe.util.spikeextractors.extractors.spikeglxrecordingextractor.spikeglxrecordingextractor INFO     getting ttl events, chan 0\n",
      "2022-04-19 15:00:09,314 ceciestunepipe.util.spikeextractors.extractors.readSGLX INFO     Extracting digital on imec stream: there is only one channel, if any (SYN) and will be converted from an int16 channel \n",
      "2022-04-19 15:00:09,314 ceciestunepipe.util.spikeextractors.extractors.readSGLX INFO     Extracting digital on imec stream: there is only one channel, if any (SYN) and will be converted from an int16 channel \n",
      "2022-04-19 15:00:09,315 ceciestunepipe.util.spikeextractors.extractors.readSGLX INFO     allocated array for syn channel of size (654600727,)\n",
      "2022-04-19 15:00:09,315 ceciestunepipe.util.spikeextractors.extractors.readSGLX INFO     allocated array for syn channel of size (654600727,)\n",
      "2022-04-19 15:12:18,742 ceciestunepipe.util.spikeextractors.extractors.readSGLX INFO     Threshold for logical hi is 0\n",
      "2022-04-19 15:12:18,742 ceciestunepipe.util.spikeextractors.extractors.readSGLX INFO     Threshold for logical hi is 0\n",
      "/mnt/cube/earneodo/repos/ceciestunepipe/ceciestunepipe/util/spikeextractors/extractors/spikeglxrecordingextractor/readSGLX.py:310: UserWarning: There were 12 errors in the recording\n",
      "  warnings.warn('There were {} errors in the recording'.format(n_errors))\n",
      "/mnt/cube/earneodo/repos/ceciestunepipe/ceciestunepipe/util/spikeextractors/extractors/spikeglxrecordingextractor/readSGLX.py:311: UserWarning: You probably want to check those\n",
      "  warnings.warn('You probably want to check those')\n",
      "2022-04-19 15:13:01,297 ceciestunepipe.util.spikeextractors.preprocess INFO     saving events array to /mnt/sphere/speech_bci/derived_data/s_b1238_22/2022-02-12/sglx/1607_g0/ap_0_sync_evt.npy\n",
      "2022-04-19 15:13:01,297 ceciestunepipe.util.spikeextractors.preprocess INFO     saving events array to /mnt/sphere/speech_bci/derived_data/s_b1238_22/2022-02-12/sglx/1607_g0/ap_0_sync_evt.npy\n",
      "2022-04-19 15:13:01,399 ceciestunepipe.util.spikeextractors.preprocess INFO     saving t_0 array to /mnt/sphere/speech_bci/derived_data/s_b1238_22/2022-02-12/sglx/1607_g0/ap_0_t0.npy\n",
      "2022-04-19 15:13:01,399 ceciestunepipe.util.spikeextractors.preprocess INFO     saving t_0 array to /mnt/sphere/speech_bci/derived_data/s_b1238_22/2022-02-12/sglx/1607_g0/ap_0_t0.npy\n",
      "2022-04-19 15:13:08,938 ceciestunepipe.util.spikeextractors.preprocess INFO     saving sync dict to /mnt/sphere/speech_bci/derived_data/s_b1238_22/2022-02-12/sglx/1607_g0/ap_0_sync_dict.pkl\n",
      "2022-04-19 15:13:08,938 ceciestunepipe.util.spikeextractors.preprocess INFO     saving sync dict to /mnt/sphere/speech_bci/derived_data/s_b1238_22/2022-02-12/sglx/1607_g0/ap_0_sync_dict.pkl\n",
      "2022-04-19 15:13:08,966 ceciestunepipe.util.spikeextractors.preprocess INFO     loading syn_dict from /mnt/sphere/speech_bci/derived_data/s_b1238_22/2022-02-12/sglx/1607_g0/ap_0_sync_dict.pkl\n",
      "2022-04-19 15:13:08,966 ceciestunepipe.util.spikeextractors.preprocess INFO     loading syn_dict from /mnt/sphere/speech_bci/derived_data/s_b1238_22/2022-02-12/sglx/1607_g0/ap_0_sync_dict.pkl\n",
      "2022-04-19 15:13:08,972 ceciestunepipe.util.spikeextractors.preprocess INFO     getting syn patterns for nidq\n",
      "2022-04-19 15:13:08,972 ceciestunepipe.util.spikeextractors.preprocess INFO     getting syn patterns for nidq\n",
      "2022-04-19 15:13:08,998 ceciestunepipe.util.spikeextractors.preprocess INFO     loading syn_dict from /mnt/sphere/speech_bci/derived_data/s_b1238_22/2022-02-12/sglx/1607_g0/nidq_sync_dict.pkl\n",
      "2022-04-19 15:13:08,998 ceciestunepipe.util.spikeextractors.preprocess INFO     loading syn_dict from /mnt/sphere/speech_bci/derived_data/s_b1238_22/2022-02-12/sglx/1607_g0/nidq_sync_dict.pkl\n",
      "2022-04-19 15:13:09,771 ceciestunepipe.util.spikeextractors.preprocess INFO     getting syn patterns for wav\n",
      "2022-04-19 15:13:09,771 ceciestunepipe.util.spikeextractors.preprocess INFO     getting syn patterns for wav\n",
      "2022-04-19 15:13:09,781 ceciestunepipe.util.spikeextractors.preprocess INFO     loading syn_dict from /mnt/sphere/speech_bci/derived_data/s_b1238_22/2022-02-12/sglx/1607_g0/wav_sync_dict.pkl\n",
      "2022-04-19 15:13:09,781 ceciestunepipe.util.spikeextractors.preprocess INFO     loading syn_dict from /mnt/sphere/speech_bci/derived_data/s_b1238_22/2022-02-12/sglx/1607_g0/wav_sync_dict.pkl\n",
      "<ipython-input-12-d2f831978e89>:17: UserWarning: Error in epoch 1607_g0\n",
      "  warnings.warn('Error in epoch {}'.format(epoch), UserWarning)\n",
      "2022-04-19 15:33:22,499 root         INFO     <function format_exc at 0x7fbb928f38b0>\n",
      "2022-04-19 15:33:22,499 root         INFO     <function format_exc at 0x7fbb928f38b0>\n",
      "2022-04-19 15:33:22,502 root         INFO     \n",
      "2022-04-19 15:33:22,502 root         INFO     \n",
      "2022-04-19 15:33:22,503 root         INFO     Session 2022-02-12 epoch 1607_g0 could not be preprocessed\n",
      "2022-04-19 15:33:22,503 root         INFO     Session 2022-02-12 epoch 1607_g0 could not be preprocessed\n"
     ]
    },
    {
     "name": "stderr",
     "output_type": "stream",
     "text": [
      "2022-04-19 15:33:23,507 ceciestunepipe.util.spikeextractors.preprocess INFO     PREPROCESSING sess 2022-02-12 | epoch 2212_g0\n",
      "2022-04-19 15:33:23,507 ceciestunepipe.util.spikeextractors.preprocess INFO     PREPROCESSING sess 2022-02-12 | epoch 2212_g0\n",
      "2022-04-19 15:33:23,509 ceciestunepipe.util.spikeextractors.preprocess INFO     getting extractors\n",
      "2022-04-19 15:33:23,509 ceciestunepipe.util.spikeextractors.preprocess INFO     getting extractors\n",
      "2022-04-19 15:33:23,945 ceciestunepipe.util.spikeextractors.preprocess INFO     Got sglx recordings for keys ['nidq', 'lf_0', 'ap_0']\n",
      "2022-04-19 15:33:23,945 ceciestunepipe.util.spikeextractors.preprocess INFO     Got sglx recordings for keys ['nidq', 'lf_0', 'ap_0']\n",
      "2022-04-19 15:33:23,947 ceciestunepipe.util.spikeextractors.preprocess INFO     Getting microphone channel(s) ['microphone_0']\n",
      "2022-04-19 15:33:23,947 ceciestunepipe.util.spikeextractors.preprocess INFO     Getting microphone channel(s) ['microphone_0']\n",
      "2022-04-19 15:33:23,948 ceciestunepipe.util.wavutil INFO     sampling rate 40000\n",
      "2022-04-19 15:33:23,948 ceciestunepipe.util.wavutil INFO     sampling rate 40000\n",
      "2022-04-19 15:33:23,949 ceciestunepipe.util.wavutil INFO     saving (1, 1509497037)-shaped array as wav in /mnt/sphere/speech_bci/derived_data/s_b1238_22/2022-02-12/sglx/2212_g0/wav_mic.wav\n",
      "2022-04-19 15:33:23,949 ceciestunepipe.util.wavutil INFO     saving (1, 1509497037)-shaped array as wav in /mnt/sphere/speech_bci/derived_data/s_b1238_22/2022-02-12/sglx/2212_g0/wav_mic.wav\n",
      "2022-04-19 15:33:57,800 ceciestunepipe.util.wavutil INFO     saving (1, 1509497037)-shaped array as npy in /mnt/sphere/speech_bci/derived_data/s_b1238_22/2022-02-12/sglx/2212_g0/wav_mic.npy\n",
      "2022-04-19 15:33:57,800 ceciestunepipe.util.wavutil INFO     saving (1, 1509497037)-shaped array as npy in /mnt/sphere/speech_bci/derived_data/s_b1238_22/2022-02-12/sglx/2212_g0/wav_mic.npy\n",
      "2022-04-19 15:34:27,143 ceciestunepipe.util.spikeextractors.preprocess INFO     Getting stimulus channel(s) ['wav_syn']\n",
      "2022-04-19 15:34:27,143 ceciestunepipe.util.spikeextractors.preprocess INFO     Getting stimulus channel(s) ['wav_syn']\n",
      "2022-04-19 15:34:27,146 ceciestunepipe.util.wavutil INFO     sampling rate 40000\n",
      "2022-04-19 15:34:27,146 ceciestunepipe.util.wavutil INFO     sampling rate 40000\n",
      "2022-04-19 15:34:27,147 ceciestunepipe.util.wavutil INFO     saving (1, 1509497037)-shaped array as wav in /mnt/sphere/speech_bci/derived_data/s_b1238_22/2022-02-12/sglx/2212_g0/wav_stim.wav\n",
      "2022-04-19 15:34:27,147 ceciestunepipe.util.wavutil INFO     saving (1, 1509497037)-shaped array as wav in /mnt/sphere/speech_bci/derived_data/s_b1238_22/2022-02-12/sglx/2212_g0/wav_stim.wav\n",
      "2022-04-19 15:34:33,129 ceciestunepipe.util.wavutil INFO     saving (1, 1509497037)-shaped array as npy in /mnt/sphere/speech_bci/derived_data/s_b1238_22/2022-02-12/sglx/2212_g0/wav_stim.npy\n",
      "2022-04-19 15:34:33,129 ceciestunepipe.util.wavutil INFO     saving (1, 1509497037)-shaped array as npy in /mnt/sphere/speech_bci/derived_data/s_b1238_22/2022-02-12/sglx/2212_g0/wav_stim.npy\n",
      "2022-04-19 15:35:01,738 ceciestunepipe.util.spikeextractors.preprocess INFO     Getting the onset/offset of stimuli from the 0 extracted analog channel\n",
      "2022-04-19 15:35:01,738 ceciestunepipe.util.spikeextractors.preprocess INFO     Getting the onset/offset of stimuli from the 0 extracted analog channel\n",
      "2022-04-19 15:35:04,364 ceciestunepipe.util.stimutil INFO     found 10.0 events\n",
      "2022-04-19 15:35:04,364 ceciestunepipe.util.stimutil INFO     found 10.0 events\n",
      "2022-04-19 15:35:04,455 ceciestunepipe.util.spikeextractors.preprocess INFO     saved onset/offset of trial events from the sine wave in /mnt/sphere/speech_bci/derived_data/s_b1238_22/2022-02-12/sglx/2212_g0/wav_stim_sync_sine_ttl_evt.npy\n",
      "2022-04-19 15:35:04,455 ceciestunepipe.util.spikeextractors.preprocess INFO     saved onset/offset of trial events from the sine wave in /mnt/sphere/speech_bci/derived_data/s_b1238_22/2022-02-12/sglx/2212_g0/wav_stim_sync_sine_ttl_evt.npy\n",
      "2022-04-19 15:35:04,456 ceciestunepipe.util.spikeextractors.preprocess INFO     Getting sync channel(s) from nidaq streams: ['sync']\n",
      "2022-04-19 15:35:04,456 ceciestunepipe.util.spikeextractors.preprocess INFO     Getting sync channel(s) from nidaq streams: ['sync']\n",
      "2022-04-19 15:35:04,457 ceciestunepipe.util.spikeextractors.extractors.spikeglxrecordingextractor.spikeglxrecordingextractor INFO     getting ttl traces, chan [0 1 2 3 4 5 6 7]\n",
      "2022-04-19 15:35:04,457 ceciestunepipe.util.spikeextractors.extractors.spikeglxrecordingextractor.spikeglxrecordingextractor INFO     getting ttl traces, chan [0 1 2 3 4 5 6 7]\n",
      "2022-04-19 15:35:28,394 ceciestunepipe.util.wavutil INFO     sampling rate 40000\n",
      "2022-04-19 15:35:28,394 ceciestunepipe.util.wavutil INFO     sampling rate 40000\n",
      "2022-04-19 15:35:28,396 ceciestunepipe.util.wavutil INFO     saving (1, 1509497037)-shaped array as wav in /mnt/sphere/speech_bci/derived_data/s_b1238_22/2022-02-12/sglx/2212_g0/wav_sync.wav\n",
      "2022-04-19 15:35:28,396 ceciestunepipe.util.wavutil INFO     saving (1, 1509497037)-shaped array as wav in /mnt/sphere/speech_bci/derived_data/s_b1238_22/2022-02-12/sglx/2212_g0/wav_sync.wav\n",
      "2022-04-19 15:35:32,799 ceciestunepipe.util.wavutil INFO     saving (1, 1509497037)-shaped array as npy in /mnt/sphere/speech_bci/derived_data/s_b1238_22/2022-02-12/sglx/2212_g0/wav_sync.npy\n",
      "2022-04-19 15:35:32,799 ceciestunepipe.util.wavutil INFO     saving (1, 1509497037)-shaped array as npy in /mnt/sphere/speech_bci/derived_data/s_b1238_22/2022-02-12/sglx/2212_g0/wav_sync.npy\n",
      "2022-04-19 15:35:37,054 ceciestunepipe.util.spikeextractors.preprocess INFO     Getting sync events from the wav sync channel\n",
      "2022-04-19 15:35:37,054 ceciestunepipe.util.spikeextractors.preprocess INFO     Getting sync events from the wav sync channel\n",
      "2022-04-19 15:35:44,275 ceciestunepipe.util.spikeextractors.preprocess INFO     saving sync events of the wav channel to /mnt/sphere/speech_bci/derived_data/s_b1238_22/2022-02-12/sglx/2212_g0/wav_sync_evt.npy\n",
      "2022-04-19 15:35:44,275 ceciestunepipe.util.spikeextractors.preprocess INFO     saving sync events of the wav channel to /mnt/sphere/speech_bci/derived_data/s_b1238_22/2022-02-12/sglx/2212_g0/wav_sync_evt.npy\n",
      "2022-04-19 15:35:44,334 ceciestunepipe.util.spikeextractors.preprocess INFO     saving t0 for wav channel to /mnt/sphere/speech_bci/derived_data/s_b1238_22/2022-02-12/sglx/2212_g0/wav_t0.npy\n",
      "2022-04-19 15:35:44,334 ceciestunepipe.util.spikeextractors.preprocess INFO     saving t0 for wav channel to /mnt/sphere/speech_bci/derived_data/s_b1238_22/2022-02-12/sglx/2212_g0/wav_t0.npy\n",
      "2022-04-19 15:36:08,250 ceciestunepipe.util.spikeextractors.preprocess INFO     Will get 1 ttl signals\n",
      "2022-04-19 15:36:08,250 ceciestunepipe.util.spikeextractors.preprocess INFO     Will get 1 ttl signals\n",
      "2022-04-19 15:36:08,252 ceciestunepipe.util.spikeextractors.preprocess INFO     looking for signal wav_ttl in the nidaq channels\n",
      "2022-04-19 15:36:08,252 ceciestunepipe.util.spikeextractors.preprocess INFO     looking for signal wav_ttl in the nidaq channels\n",
      "2022-04-19 15:36:08,253 ceciestunepipe.util.spikeextractors.preprocess INFO     found in chan 2\n",
      "2022-04-19 15:36:08,253 ceciestunepipe.util.spikeextractors.preprocess INFO     found in chan 2\n",
      "2022-04-19 15:36:08,253 ceciestunepipe.util.spikeextractors.extractors.spikeglxrecordingextractor.spikeglxrecordingextractor INFO     getting ttl events, chan 2\n",
      "2022-04-19 15:36:08,253 ceciestunepipe.util.spikeextractors.extractors.spikeglxrecordingextractor.spikeglxrecordingextractor INFO     getting ttl events, chan 2\n",
      "2022-04-19 15:36:21,840 ceciestunepipe.util.spikeextractors.preprocess INFO     saving (0, 2)-shaped array as npy in /mnt/sphere/speech_bci/derived_data/s_b1238_22/2022-02-12/sglx/2212_g0/wav_ttl_evt.npy\n",
      "2022-04-19 15:36:21,840 ceciestunepipe.util.spikeextractors.preprocess INFO     saving (0, 2)-shaped array as npy in /mnt/sphere/speech_bci/derived_data/s_b1238_22/2022-02-12/sglx/2212_g0/wav_ttl_evt.npy\n",
      "2022-04-19 15:36:21,873 ceciestunepipe.util.spikeextractors.preprocess INFO     saving sync nidaq dict to /mnt/sphere/speech_bci/derived_data/s_b1238_22/2022-02-12/sglx/2212_g0/wav_sync_dict.pkl\n",
      "2022-04-19 15:36:21,873 ceciestunepipe.util.spikeextractors.preprocess INFO     saving sync nidaq dict to /mnt/sphere/speech_bci/derived_data/s_b1238_22/2022-02-12/sglx/2212_g0/wav_sync_dict.pkl\n"
     ]
    },
    {
     "name": "stderr",
     "output_type": "stream",
     "text": [
      "2022-04-19 15:36:21,876 ceciestunepipe.util.spikeextractors.preprocess INFO     Getting sync signals for imec streams: ['lf_0', 'ap_0']\n",
      "2022-04-19 15:36:21,876 ceciestunepipe.util.spikeextractors.preprocess INFO     Getting sync signals for imec streams: ['lf_0', 'ap_0']\n",
      "2022-04-19 15:36:21,877 ceciestunepipe.util.spikeextractors.preprocess INFO     getting syn patterns for lf_0\n",
      "2022-04-19 15:36:21,877 ceciestunepipe.util.spikeextractors.preprocess INFO     getting syn patterns for lf_0\n",
      "2022-04-19 15:36:21,910 ceciestunepipe.util.spikeextractors.preprocess INFO     File /mnt/sphere/speech_bci/derived_data/s_b1238_22/2022-02-12/sglx/2212_g0/lf_0_sync_dict.pkl not found or forced computation, getting the events\n",
      "2022-04-19 15:36:21,910 ceciestunepipe.util.spikeextractors.preprocess INFO     File /mnt/sphere/speech_bci/derived_data/s_b1238_22/2022-02-12/sglx/2212_g0/lf_0_sync_dict.pkl not found or forced computation, getting the events\n",
      "2022-04-19 15:36:21,911 ceciestunepipe.util.spikeextractors.extractors.spikeglxrecordingextractor.spikeglxrecordingextractor INFO     getting ttl events, chan 0\n",
      "2022-04-19 15:36:21,911 ceciestunepipe.util.spikeextractors.extractors.spikeglxrecordingextractor.spikeglxrecordingextractor INFO     getting ttl events, chan 0\n",
      "2022-04-19 15:36:21,913 ceciestunepipe.util.spikeextractors.extractors.readSGLX INFO     Extracting digital on imec stream: there is only one channel, if any (SYN) and will be converted from an int16 channel \n",
      "2022-04-19 15:36:21,913 ceciestunepipe.util.spikeextractors.extractors.readSGLX INFO     Extracting digital on imec stream: there is only one channel, if any (SYN) and will be converted from an int16 channel \n",
      "2022-04-19 15:36:21,914 ceciestunepipe.util.spikeextractors.extractors.readSGLX INFO     allocated array for syn channel of size (94345404,)\n",
      "2022-04-19 15:36:21,914 ceciestunepipe.util.spikeextractors.extractors.readSGLX INFO     allocated array for syn channel of size (94345404,)\n",
      "2022-04-19 15:37:45,512 ceciestunepipe.util.spikeextractors.extractors.readSGLX INFO     Threshold for logical hi is 0\n",
      "2022-04-19 15:37:45,512 ceciestunepipe.util.spikeextractors.extractors.readSGLX INFO     Threshold for logical hi is 0\n",
      "/mnt/cube/earneodo/repos/ceciestunepipe/ceciestunepipe/util/spikeextractors/extractors/spikeglxrecordingextractor/readSGLX.py:310: UserWarning: There were 3 errors in the recording\n",
      "  warnings.warn('There were {} errors in the recording'.format(n_errors))\n",
      "/mnt/cube/earneodo/repos/ceciestunepipe/ceciestunepipe/util/spikeextractors/extractors/spikeglxrecordingextractor/readSGLX.py:311: UserWarning: You probably want to check those\n",
      "  warnings.warn('You probably want to check those')\n",
      "2022-04-19 15:37:47,692 ceciestunepipe.util.spikeextractors.preprocess INFO     saving events array to /mnt/sphere/speech_bci/derived_data/s_b1238_22/2022-02-12/sglx/2212_g0/lf_0_sync_evt.npy\n",
      "2022-04-19 15:37:47,692 ceciestunepipe.util.spikeextractors.preprocess INFO     saving events array to /mnt/sphere/speech_bci/derived_data/s_b1238_22/2022-02-12/sglx/2212_g0/lf_0_sync_evt.npy\n",
      "2022-04-19 15:37:47,762 ceciestunepipe.util.spikeextractors.preprocess INFO     saving t_0 array to /mnt/sphere/speech_bci/derived_data/s_b1238_22/2022-02-12/sglx/2212_g0/lf_0_t0.npy\n",
      "2022-04-19 15:37:47,762 ceciestunepipe.util.spikeextractors.preprocess INFO     saving t_0 array to /mnt/sphere/speech_bci/derived_data/s_b1238_22/2022-02-12/sglx/2212_g0/lf_0_t0.npy\n",
      "2022-04-19 15:37:48,908 ceciestunepipe.util.spikeextractors.preprocess INFO     saving sync dict to /mnt/sphere/speech_bci/derived_data/s_b1238_22/2022-02-12/sglx/2212_g0/lf_0_sync_dict.pkl\n",
      "2022-04-19 15:37:48,908 ceciestunepipe.util.spikeextractors.preprocess INFO     saving sync dict to /mnt/sphere/speech_bci/derived_data/s_b1238_22/2022-02-12/sglx/2212_g0/lf_0_sync_dict.pkl\n",
      "2022-04-19 15:37:48,911 ceciestunepipe.util.spikeextractors.preprocess INFO     loading syn_dict from /mnt/sphere/speech_bci/derived_data/s_b1238_22/2022-02-12/sglx/2212_g0/lf_0_sync_dict.pkl\n",
      "2022-04-19 15:37:48,911 ceciestunepipe.util.spikeextractors.preprocess INFO     loading syn_dict from /mnt/sphere/speech_bci/derived_data/s_b1238_22/2022-02-12/sglx/2212_g0/lf_0_sync_dict.pkl\n",
      "2022-04-19 15:37:48,916 ceciestunepipe.util.spikeextractors.preprocess INFO     getting syn patterns for ap_0\n",
      "2022-04-19 15:37:48,916 ceciestunepipe.util.spikeextractors.preprocess INFO     getting syn patterns for ap_0\n",
      "2022-04-19 15:37:48,918 ceciestunepipe.util.spikeextractors.preprocess INFO     File /mnt/sphere/speech_bci/derived_data/s_b1238_22/2022-02-12/sglx/2212_g0/ap_0_sync_dict.pkl not found or forced computation, getting the events\n",
      "2022-04-19 15:37:48,918 ceciestunepipe.util.spikeextractors.preprocess INFO     File /mnt/sphere/speech_bci/derived_data/s_b1238_22/2022-02-12/sglx/2212_g0/ap_0_sync_dict.pkl not found or forced computation, getting the events\n",
      "2022-04-19 15:37:48,919 ceciestunepipe.util.spikeextractors.extractors.spikeglxrecordingextractor.spikeglxrecordingextractor INFO     getting ttl events, chan 0\n",
      "2022-04-19 15:37:48,919 ceciestunepipe.util.spikeextractors.extractors.spikeglxrecordingextractor.spikeglxrecordingextractor INFO     getting ttl events, chan 0\n",
      "2022-04-19 15:37:48,920 ceciestunepipe.util.spikeextractors.extractors.readSGLX INFO     Extracting digital on imec stream: there is only one channel, if any (SYN) and will be converted from an int16 channel \n",
      "2022-04-19 15:37:48,920 ceciestunepipe.util.spikeextractors.extractors.readSGLX INFO     Extracting digital on imec stream: there is only one channel, if any (SYN) and will be converted from an int16 channel \n",
      "2022-04-19 15:37:48,920 ceciestunepipe.util.spikeextractors.extractors.readSGLX INFO     allocated array for syn channel of size (1132144839,)\n",
      "2022-04-19 15:37:48,920 ceciestunepipe.util.spikeextractors.extractors.readSGLX INFO     allocated array for syn channel of size (1132144839,)\n",
      "2022-04-19 15:57:15,644 ceciestunepipe.util.spikeextractors.extractors.readSGLX INFO     Threshold for logical hi is 0\n",
      "2022-04-19 15:57:15,644 ceciestunepipe.util.spikeextractors.extractors.readSGLX INFO     Threshold for logical hi is 0\n",
      "/mnt/cube/earneodo/repos/ceciestunepipe/ceciestunepipe/util/spikeextractors/extractors/spikeglxrecordingextractor/readSGLX.py:310: UserWarning: There were 29 errors in the recording\n",
      "  warnings.warn('There were {} errors in the recording'.format(n_errors))\n",
      "/mnt/cube/earneodo/repos/ceciestunepipe/ceciestunepipe/util/spikeextractors/extractors/spikeglxrecordingextractor/readSGLX.py:311: UserWarning: You probably want to check those\n",
      "  warnings.warn('You probably want to check those')\n",
      "2022-04-19 15:58:38,204 ceciestunepipe.util.spikeextractors.preprocess INFO     saving events array to /mnt/sphere/speech_bci/derived_data/s_b1238_22/2022-02-12/sglx/2212_g0/ap_0_sync_evt.npy\n",
      "2022-04-19 15:58:38,204 ceciestunepipe.util.spikeextractors.preprocess INFO     saving events array to /mnt/sphere/speech_bci/derived_data/s_b1238_22/2022-02-12/sglx/2212_g0/ap_0_sync_evt.npy\n",
      "2022-04-19 15:58:38,280 ceciestunepipe.util.spikeextractors.preprocess INFO     saving t_0 array to /mnt/sphere/speech_bci/derived_data/s_b1238_22/2022-02-12/sglx/2212_g0/ap_0_t0.npy\n",
      "2022-04-19 15:58:38,280 ceciestunepipe.util.spikeextractors.preprocess INFO     saving t_0 array to /mnt/sphere/speech_bci/derived_data/s_b1238_22/2022-02-12/sglx/2212_g0/ap_0_t0.npy\n",
      "2022-04-19 15:58:51,175 ceciestunepipe.util.spikeextractors.preprocess INFO     saving sync dict to /mnt/sphere/speech_bci/derived_data/s_b1238_22/2022-02-12/sglx/2212_g0/ap_0_sync_dict.pkl\n",
      "2022-04-19 15:58:51,175 ceciestunepipe.util.spikeextractors.preprocess INFO     saving sync dict to /mnt/sphere/speech_bci/derived_data/s_b1238_22/2022-02-12/sglx/2212_g0/ap_0_sync_dict.pkl\n",
      "2022-04-19 15:58:51,202 ceciestunepipe.util.spikeextractors.preprocess INFO     loading syn_dict from /mnt/sphere/speech_bci/derived_data/s_b1238_22/2022-02-12/sglx/2212_g0/ap_0_sync_dict.pkl\n",
      "2022-04-19 15:58:51,202 ceciestunepipe.util.spikeextractors.preprocess INFO     loading syn_dict from /mnt/sphere/speech_bci/derived_data/s_b1238_22/2022-02-12/sglx/2212_g0/ap_0_sync_dict.pkl\n",
      "2022-04-19 15:58:51,207 ceciestunepipe.util.spikeextractors.preprocess INFO     getting syn patterns for nidq\n"
     ]
    },
    {
     "name": "stderr",
     "output_type": "stream",
     "text": [
      "2022-04-19 15:58:51,207 ceciestunepipe.util.spikeextractors.preprocess INFO     getting syn patterns for nidq\n",
      "2022-04-19 15:58:51,220 ceciestunepipe.util.spikeextractors.preprocess INFO     loading syn_dict from /mnt/sphere/speech_bci/derived_data/s_b1238_22/2022-02-12/sglx/2212_g0/nidq_sync_dict.pkl\n",
      "2022-04-19 15:58:51,220 ceciestunepipe.util.spikeextractors.preprocess INFO     loading syn_dict from /mnt/sphere/speech_bci/derived_data/s_b1238_22/2022-02-12/sglx/2212_g0/nidq_sync_dict.pkl\n",
      "2022-04-19 15:58:51,372 ceciestunepipe.util.spikeextractors.preprocess INFO     getting syn patterns for wav\n",
      "2022-04-19 15:58:51,372 ceciestunepipe.util.spikeextractors.preprocess INFO     getting syn patterns for wav\n",
      "2022-04-19 15:58:51,400 ceciestunepipe.util.spikeextractors.preprocess INFO     loading syn_dict from /mnt/sphere/speech_bci/derived_data/s_b1238_22/2022-02-12/sglx/2212_g0/wav_sync_dict.pkl\n",
      "2022-04-19 15:58:51,400 ceciestunepipe.util.spikeextractors.preprocess INFO     loading syn_dict from /mnt/sphere/speech_bci/derived_data/s_b1238_22/2022-02-12/sglx/2212_g0/wav_sync_dict.pkl\n",
      "<ipython-input-12-d2f831978e89>:17: UserWarning: Error in epoch 2212_g0\n",
      "  warnings.warn('Error in epoch {}'.format(epoch), UserWarning)\n",
      "2022-04-19 21:51:53,627 root         INFO     <function format_exc at 0x7fbb928f38b0>\n",
      "2022-04-19 21:51:53,627 root         INFO     <function format_exc at 0x7fbb928f38b0>\n",
      "2022-04-19 21:51:53,639 root         INFO     \n",
      "2022-04-19 21:51:53,639 root         INFO     \n",
      "2022-04-19 21:51:53,640 root         INFO     Session 2022-02-12 epoch 2212_g0 could not be preprocessed\n",
      "2022-04-19 21:51:53,640 root         INFO     Session 2022-02-12 epoch 2212_g0 could not be preprocessed\n"
     ]
    }
   ],
   "source": [
    "all_sess_dict = {}\n",
    "\n",
    "for one_sess in sess_list[:]:\n",
    "    sess_par['sess'] = one_sess\n",
    "    preprocess_session(sess_par)"
   ]
  },
  {
   "cell_type": "code",
   "execution_count": 17,
   "metadata": {},
   "outputs": [
    {
     "data": {
      "text/plain": [
       "{'bird': 's_b1238_22',\n",
       " 'sess': '2022-02-12',\n",
       " 'probes': ['probe_0'],\n",
       " 'mic_list': ['microphone_0'],\n",
       " 'stim_list': ['wav_syn'],\n",
       " 'nidq_ttl_list': ['wav_ttl'],\n",
       " 'sort': 2}"
      ]
     },
     "execution_count": 17,
     "metadata": {},
     "output_type": "execute_result"
    }
   ],
   "source": [
    "sess_par"
   ]
  },
  {
   "cell_type": "markdown",
   "metadata": {},
   "source": [
    "## search bouts for those sessions"
   ]
  },
  {
   "cell_type": "code",
   "execution_count": 18,
   "metadata": {},
   "outputs": [],
   "source": [
    "from ceciestunepipe.util.sound import boutsearch as bs\n",
    "from ceciestunepipe.util import wavutil as wu\n",
    "\n",
    "from joblib import Parallel, delayed\n",
    "import pickle\n",
    "import sys"
   ]
  },
  {
   "cell_type": "code",
   "execution_count": 13,
   "metadata": {},
   "outputs": [],
   "source": [
    "hparams = { # default parameters work well for starling\n",
    "    # spectrogram\n",
    "    'num_freq':1024, #1024# how many channels to use in a spectrogram #\n",
    "    'preemphasis':0.97, \n",
    "    'frame_shift_ms':5, # step size for fft\n",
    "    'frame_length_ms':10, #128 # frame length for fft FRAME SAMPLES < NUM_FREQ!!!\n",
    "    'min_level_db':-55, # minimum threshold db for computing spe \n",
    "    'ref_level_db':110, # reference db for computing spec\n",
    "    'sample_rate':None, # sample rate of your data\n",
    "    \n",
    "    # spectrograms\n",
    "    'mel_filter': False, # should a mel filter be used?\n",
    "    'num_mels':1024, # how many channels to use in the mel-spectrogram\n",
    "    'fmin': 500, # low frequency cutoff for mel filter\n",
    "    'fmax': 12000, # high frequency cutoff for mel filter\n",
    "    \n",
    "    # spectrogram inversion\n",
    "    'max_iters':200,\n",
    "    'griffin_lim_iters':20,\n",
    "    'power':1.5,\n",
    "\n",
    "    # Added for the searching\n",
    "    'read_wav_fun': bs.read_wav_chan, # function for loading the wav_like_stream (has to returns fs, ndarray)\n",
    "    'file_order_fun': bs.sess_file_id, # function for extracting the file id within the session\n",
    "    'min_segment': 30, # Minimum length of supra_threshold to consider a 'syllable' (ms)\n",
    "    'min_silence': 3000, # Minmum distance between groups of syllables to consider separate bouts (ms)\n",
    "    'min_bout': 3000, # min bout duration (ms)\n",
    "    'peak_thresh_rms': 0.55, # threshold (rms) for peak acceptance,\n",
    "    'thresh_rms': 0.25, # threshold for detection of syllables\n",
    "    'mean_syl_rms_thresh': 0.3, #threshold for acceptance of mean rms across the syllable (relative to rms of the file)\n",
    "    'max_bout': 180000, #exclude bouts too long\n",
    "    'l_p_r_thresh': 100, # threshold for n of len_ms/peaks (typycally about 2-3 syllable spans\n",
    "    \n",
    "    'waveform_edges': 1000, #get number of ms before and after the edges of the bout for the waveform sample\n",
    "    \n",
    "    'bout_auto_file': 'bout_auto.pickle', # extension for saving the auto found files\n",
    "    'bout_curated_file': 'bout_checked.pickle', #extension for manually curated files (coming soon)\n",
    "    }"
   ]
  },
  {
   "cell_type": "code",
   "execution_count": 14,
   "metadata": {
    "tags": []
   },
   "outputs": [
    {
     "name": "stderr",
     "output_type": "stream",
     "text": [
      "2022-04-12 08:45:36,275 ceciestunepipe.pipeline.searchbout INFO     Will search for bouts through all session s_b1238_22, 2022-02-12\n",
      "2022-04-12 08:45:36,286 ceciestunepipe.pipeline.searchbout INFO     getting wav files from/mnt/sphere/speech_bci/derived_data/s_b1238_22/2022-02-12/sglx\n",
      "2022-04-12 08:45:36,287 ceciestunepipe.pipeline.searchbout INFO     Found 4 files\n",
      "2022-04-12 08:45:36,288 ceciestunepipe.util.sound.boutsearch INFO     Getting bouts for long file /mnt/sphere/speech_bci/derived_data/s_b1238_22/2022-02-12/sglx/0716_g0/wav_mic.wav\n",
      "2022-04-12 08:45:36,312 ceciestunepipe.util.sound.boutsearch INFO     splitting file into 8 chunks\n"
     ]
    },
    {
     "data": {
      "application/vnd.jupyter.widget-view+json": {
       "model_id": "52cafe28383e4e0f832bc3cccf5b7488",
       "version_major": 2,
       "version_minor": 0
      },
      "text/plain": [
       "  0%|          | 0/8 [00:00<?, ?it/s]"
      ]
     },
     "metadata": {},
     "output_type": "display_data"
    },
    {
     "name": "stderr",
     "output_type": "stream",
     "text": [
      "2022-04-12 08:50:11,820 ceciestunepipe.util.sound.boutsearch INFO     Getting bouts for long file /mnt/sphere/speech_bci/derived_data/s_b1238_22/2022-02-12/sglx/1141_stim_g0/wav_mic.wav\n",
      "2022-04-12 08:50:11,823 ceciestunepipe.util.sound.boutsearch INFO     splitting file into 7 chunks\n"
     ]
    },
    {
     "data": {
      "application/vnd.jupyter.widget-view+json": {
       "model_id": "85bfabd766e84e27a906842d5bf91a91",
       "version_major": 2,
       "version_minor": 0
      },
      "text/plain": [
       "  0%|          | 0/7 [00:00<?, ?it/s]"
      ]
     },
     "metadata": {},
     "output_type": "display_data"
    },
    {
     "name": "stderr",
     "output_type": "stream",
     "text": [
      "2022-04-12 08:54:36,112 ceciestunepipe.util.sound.boutsearch INFO     Getting bouts for long file /mnt/sphere/speech_bci/derived_data/s_b1238_22/2022-02-12/sglx/1607_g0/wav_mic.wav\n",
      "2022-04-12 08:54:36,116 ceciestunepipe.util.sound.boutsearch INFO     splitting file into 10 chunks\n"
     ]
    },
    {
     "data": {
      "application/vnd.jupyter.widget-view+json": {
       "model_id": "8c3ea49c0f614a56b8da2e0b54585a90",
       "version_major": 2,
       "version_minor": 0
      },
      "text/plain": [
       "  0%|          | 0/10 [00:00<?, ?it/s]"
      ]
     },
     "metadata": {},
     "output_type": "display_data"
    },
    {
     "name": "stderr",
     "output_type": "stream",
     "text": [
      "2022-04-12 09:00:19,138 ceciestunepipe.util.sound.boutsearch INFO     Getting bouts for long file /mnt/sphere/speech_bci/derived_data/s_b1238_22/2022-02-12/sglx/2212_g0/wav_mic.wav\n",
      "2022-04-12 09:00:19,152 ceciestunepipe.pipeline.searchbout INFO     Error in file /mnt/sphere/speech_bci/derived_data/s_b1238_22/2022-02-12/sglx/2212_g0/wav_mic.wav\n",
      "2022-04-12 09:00:19,158 ceciestunepipe.pipeline.searchbout INFO     Traceback (most recent call last):\n",
      "  File \"/mnt/cube/earneodo/repos/ceciestunepipe/ceciestunepipe/pipeline/searchbout.py\", line 77, in get_file_bouts\n",
      "    bpd, _ = bs.get_bouts_in_long_file(i_path, hparams)\n",
      "  File \"/mnt/cube/earneodo/repos/ceciestunepipe/ceciestunepipe/util/sound/boutsearch.py\", line 279, in get_bouts_in_long_file\n",
      "    s_f, wav_i = hparams['read_wav_fun'](file_path)\n",
      "  File \"/mnt/cube/earneodo/repos/ceciestunepipe/ceciestunepipe/util/sound/boutsearch.py\", line 26, in read_wav_chan\n",
      "    return s_f, x[:, chan_id]\n",
      "  File \"/home/earneodo/anaconda3/envs/unepipe/lib/python3.8/site-packages/numpy/core/memmap.py\", line 334, in __getitem__\n",
      "    res = super(memmap, self).__getitem__(index)\n",
      "IndexError: too many indices for array: array is 1-dimensional, but 2 were indexed\n",
      "\n",
      "2022-04-12 09:00:19,996 ceciestunepipe.pipeline.searchbout INFO     getting spectrograms\n",
      "2022-04-12 09:03:40,970 ceciestunepipe.pipeline.searchbout INFO     saving bouts pandas to /mnt/sphere/speech_bci/derived_data/s_b1238_22/2022-02-12/alsa/bouts_ceciestunepipe/bout_auto.pickle\n",
      "2022-04-12 09:04:05,458 ceciestunepipe.pipeline.searchbout INFO     saving bout detect parameters dict to /mnt/sphere/speech_bci/derived_data/s_b1238_22/2022-02-12/alsa/bouts_ceciestunepipe/bout_search_params.pickle\n",
      "2022-04-12 09:04:05,459 ceciestunepipe.util.sound.boutsearch INFO     saving bout detect parameters dict to /mnt/sphere/speech_bci/derived_data/s_b1238_22/2022-02-12/alsa/bouts_ceciestunepipe/bout_search_params.pickle\n"
     ]
    },
    {
     "ename": "TypeError",
     "evalue": "save_auto_bouts() got an unexpected keyword argument 'ephys_software'",
     "output_type": "error",
     "traceback": [
      "\u001b[0;31m---------------------------------------------------------------------------\u001b[0m",
      "\u001b[0;31mTypeError\u001b[0m                                 Traceback (most recent call last)",
      "\u001b[0;32m<ipython-input-14-0387c8494bbb>\u001b[0m in \u001b[0;36m<module>\u001b[0;34m\u001b[0m\n\u001b[1;32m      5\u001b[0m     \u001b[0msess_par\u001b[0m\u001b[0;34m[\u001b[0m\u001b[0;34m'sess'\u001b[0m\u001b[0;34m]\u001b[0m \u001b[0;34m=\u001b[0m \u001b[0msess\u001b[0m\u001b[0;34m\u001b[0m\u001b[0;34m\u001b[0m\u001b[0m\n\u001b[1;32m      6\u001b[0m     \u001b[0msess_bout_pd\u001b[0m \u001b[0;34m=\u001b[0m \u001b[0msb\u001b[0m\u001b[0;34m.\u001b[0m\u001b[0mget_all_day_bouts\u001b[0m\u001b[0;34m(\u001b[0m\u001b[0msess_par\u001b[0m\u001b[0;34m,\u001b[0m \u001b[0mhparams\u001b[0m\u001b[0;34m,\u001b[0m \u001b[0mn_jobs\u001b[0m\u001b[0;34m=\u001b[0m\u001b[0;36m1\u001b[0m\u001b[0;34m,\u001b[0m \u001b[0mephys_software\u001b[0m\u001b[0;34m=\u001b[0m\u001b[0;34m'sglx'\u001b[0m\u001b[0;34m)\u001b[0m\u001b[0;34m\u001b[0m\u001b[0;34m\u001b[0m\u001b[0m\n\u001b[0;32m----> 7\u001b[0;31m     \u001b[0msb\u001b[0m\u001b[0;34m.\u001b[0m\u001b[0msave_auto_bouts\u001b[0m\u001b[0;34m(\u001b[0m\u001b[0msess_bout_pd\u001b[0m\u001b[0;34m,\u001b[0m \u001b[0msess_par\u001b[0m\u001b[0;34m,\u001b[0m \u001b[0mhparams\u001b[0m\u001b[0;34m,\u001b[0m \u001b[0mephys_software\u001b[0m\u001b[0;34m=\u001b[0m\u001b[0;34m'sglx'\u001b[0m\u001b[0;34m)\u001b[0m\u001b[0;34m\u001b[0m\u001b[0;34m\u001b[0m\u001b[0m\n\u001b[0m\u001b[1;32m      8\u001b[0m     \u001b[0;31m#sess_bouts_folder = os.path.join(exp_struct['folders']['derived'], 'bouts')\u001b[0m\u001b[0;34m\u001b[0m\u001b[0;34m\u001b[0m\u001b[0;34m\u001b[0m\u001b[0m\n\u001b[1;32m      9\u001b[0m     \u001b[0;31m#bouts_to_wavs(sess_bout_pd, sess_par, hparams, sess_bouts_folder)\u001b[0m\u001b[0;34m\u001b[0m\u001b[0;34m\u001b[0m\u001b[0;34m\u001b[0m\u001b[0m\n",
      "\u001b[0;31mTypeError\u001b[0m: save_auto_bouts() got an unexpected keyword argument 'ephys_software'"
     ]
    }
   ],
   "source": [
    "all_sessions = sess_list[:]\n",
    "#all_sessions = ['2021-06-15']\n",
    "\n",
    "for sess in all_sessions:\n",
    "    sess_par['sess'] = sess\n",
    "    sess_bout_pd = sb.get_all_day_bouts(sess_par, hparams, n_jobs=1, ephys_software='sglx')\n",
    "    sb.save_auto_bouts(sess_bout_pd, sess_par, hparams, software='sglx')\n",
    "    #sess_bouts_folder = os.path.join(exp_struct['folders']['derived'], 'bouts')\n",
    "    #bouts_to_wavs(sess_bout_pd, sess_par, hparams, sess_bouts_folder)"
   ]
  },
  {
   "cell_type": "code",
   "execution_count": 17,
   "metadata": {},
   "outputs": [
    {
     "data": {
      "text/html": [
       "<div>\n",
       "<style scoped>\n",
       "    .dataframe tbody tr th:only-of-type {\n",
       "        vertical-align: middle;\n",
       "    }\n",
       "\n",
       "    .dataframe tbody tr th {\n",
       "        vertical-align: top;\n",
       "    }\n",
       "\n",
       "    .dataframe thead th {\n",
       "        text-align: right;\n",
       "    }\n",
       "</style>\n",
       "<table border=\"1\" class=\"dataframe\">\n",
       "  <thead>\n",
       "    <tr style=\"text-align: right;\">\n",
       "      <th></th>\n",
       "      <th>start_ms</th>\n",
       "      <th>end_ms</th>\n",
       "      <th>start_sample</th>\n",
       "      <th>end_sample</th>\n",
       "      <th>p_step</th>\n",
       "      <th>rms_p</th>\n",
       "      <th>peak_p</th>\n",
       "      <th>bout_check</th>\n",
       "      <th>file</th>\n",
       "      <th>len_ms</th>\n",
       "      <th>syl_in</th>\n",
       "      <th>n_syl</th>\n",
       "      <th>peaks_p</th>\n",
       "      <th>n_peaks</th>\n",
       "      <th>l_p_ratio</th>\n",
       "      <th>waveform</th>\n",
       "      <th>confusing</th>\n",
       "      <th>valid_waveform</th>\n",
       "      <th>valid</th>\n",
       "      <th>spectrogram</th>\n",
       "    </tr>\n",
       "  </thead>\n",
       "  <tbody>\n",
       "    <tr>\n",
       "      <th>0</th>\n",
       "      <td>15670</td>\n",
       "      <td>23865</td>\n",
       "      <td>626800</td>\n",
       "      <td>954600</td>\n",
       "      <td>[12.426594779175346, 15.346236536485952, 55.49...</td>\n",
       "      <td>11.019281</td>\n",
       "      <td>241.030983</td>\n",
       "      <td>False</td>\n",
       "      <td>/mnt/sphere/speech_bci/derived_data/s_b1238_22...</td>\n",
       "      <td>8195</td>\n",
       "      <td>[[15670, 15700], [15820, 15910], [16340, 16395...</td>\n",
       "      <td>11</td>\n",
       "      <td>[2, 13, 27, 39, 75, 122, 136, 147, 161, 170, 1...</td>\n",
       "      <td>46</td>\n",
       "      <td>178.152174</td>\n",
       "      <td>[74, 147, 145, 99, 112, 88, 56, 98, 126, 142, ...</td>\n",
       "      <td>True</td>\n",
       "      <td>True</td>\n",
       "      <td>True</td>\n",
       "      <td>[[0.0, 0.0, 0.0, 0.0, 0.0, 0.0, 0.0, 0.0, 0.0,...</td>\n",
       "    </tr>\n",
       "    <tr>\n",
       "      <th>1</th>\n",
       "      <td>32475</td>\n",
       "      <td>38055</td>\n",
       "      <td>1299000</td>\n",
       "      <td>1522200</td>\n",
       "      <td>[10.02672970768318, 15.310227594990456, 15.155...</td>\n",
       "      <td>11.019281</td>\n",
       "      <td>168.335634</td>\n",
       "      <td>False</td>\n",
       "      <td>/mnt/sphere/speech_bci/derived_data/s_b1238_22...</td>\n",
       "      <td>5580</td>\n",
       "      <td>[[32475, 32570], [32590, 32680], [34200, 34245...</td>\n",
       "      <td>9</td>\n",
       "      <td>[7, 14, 26, 33, 126, 316, 347, 363, 383, 513, ...</td>\n",
       "      <td>29</td>\n",
       "      <td>192.413793</td>\n",
       "      <td>[21, 22, 20, 1, 18, 20, 4, 0, -24, -14, -6, -2...</td>\n",
       "      <td>True</td>\n",
       "      <td>True</td>\n",
       "      <td>True</td>\n",
       "      <td>[[0.0, 0.0, 0.0, 0.0, 0.0, 0.0, 0.0, 0.0, 0.0,...</td>\n",
       "    </tr>\n",
       "  </tbody>\n",
       "</table>\n",
       "</div>"
      ],
      "text/plain": [
       "   start_ms  end_ms  start_sample  end_sample  \\\n",
       "0     15670   23865        626800      954600   \n",
       "1     32475   38055       1299000     1522200   \n",
       "\n",
       "                                              p_step      rms_p      peak_p  \\\n",
       "0  [12.426594779175346, 15.346236536485952, 55.49...  11.019281  241.030983   \n",
       "1  [10.02672970768318, 15.310227594990456, 15.155...  11.019281  168.335634   \n",
       "\n",
       "   bout_check                                               file  len_ms  \\\n",
       "0       False  /mnt/sphere/speech_bci/derived_data/s_b1238_22...    8195   \n",
       "1       False  /mnt/sphere/speech_bci/derived_data/s_b1238_22...    5580   \n",
       "\n",
       "                                              syl_in  n_syl  \\\n",
       "0  [[15670, 15700], [15820, 15910], [16340, 16395...     11   \n",
       "1  [[32475, 32570], [32590, 32680], [34200, 34245...      9   \n",
       "\n",
       "                                             peaks_p  n_peaks   l_p_ratio  \\\n",
       "0  [2, 13, 27, 39, 75, 122, 136, 147, 161, 170, 1...       46  178.152174   \n",
       "1  [7, 14, 26, 33, 126, 316, 347, 363, 383, 513, ...       29  192.413793   \n",
       "\n",
       "                                            waveform  confusing  \\\n",
       "0  [74, 147, 145, 99, 112, 88, 56, 98, 126, 142, ...       True   \n",
       "1  [21, 22, 20, 1, 18, 20, 4, 0, -24, -14, -6, -2...       True   \n",
       "\n",
       "   valid_waveform  valid                                        spectrogram  \n",
       "0            True   True  [[0.0, 0.0, 0.0, 0.0, 0.0, 0.0, 0.0, 0.0, 0.0,...  \n",
       "1            True   True  [[0.0, 0.0, 0.0, 0.0, 0.0, 0.0, 0.0, 0.0, 0.0,...  "
      ]
     },
     "execution_count": 17,
     "metadata": {},
     "output_type": "execute_result"
    }
   ],
   "source": [
    "sess_bout_pd.head(2)"
   ]
  },
  {
   "cell_type": "code",
   "execution_count": 18,
   "metadata": {},
   "outputs": [
    {
     "name": "stderr",
     "output_type": "stream",
     "text": [
      "2022-04-12 09:17:02,653 ceciestunepipe.pipeline.searchbout INFO     saving bouts pandas to /mnt/sphere/speech_bci/derived_data/s_b1238_22/2022-02-12/bouts_sglx/bout_auto.pickle\n",
      "2022-04-12 09:17:31,269 ceciestunepipe.pipeline.searchbout INFO     saving bout detect parameters dict to /mnt/sphere/speech_bci/derived_data/s_b1238_22/2022-02-12/bouts_sglx/bout_search_params.pickle\n",
      "2022-04-12 09:17:31,270 ceciestunepipe.util.sound.boutsearch INFO     saving bout detect parameters dict to /mnt/sphere/speech_bci/derived_data/s_b1238_22/2022-02-12/bouts_sglx/bout_search_params.pickle\n"
     ]
    }
   ],
   "source": [
    "sb.save_auto_bouts(sess_bout_pd, sess_par, hparams, software='sglx')"
   ]
  },
  {
   "cell_type": "markdown",
   "metadata": {},
   "source": [
    "# debug"
   ]
  },
  {
   "cell_type": "markdown",
   "metadata": {},
   "source": [
    "## debug search_bout"
   ]
  },
  {
   "cell_type": "code",
   "execution_count": 21,
   "metadata": {},
   "outputs": [
    {
     "name": "stderr",
     "output_type": "stream",
     "text": [
      "2021-09-22 15:13:39,371 root         INFO     Found 4 files\n"
     ]
    },
    {
     "name": "stdout",
     "output_type": "stream",
     "text": [
      "['/mnt/sphere/speech_bci/derived_data/s_b1253_21/2021-06-14/sglx/0712_g0/wav_mic.wav', '/mnt/sphere/speech_bci/derived_data/s_b1253_21/2021-06-14/sglx/1255_g0/wav_mic.wav', '/mnt/sphere/speech_bci/derived_data/s_b1253_21/2021-06-14/sglx/1740_g0/wav_mic.wav', '/mnt/sphere/speech_bci/derived_data/s_b1253_21/2021-06-14/sglx/2118_g0/wav_mic.wav']\n"
     ]
    }
   ],
   "source": [
    "## look for a single file\n",
    "sess = sess_list[0]\n",
    "exp_struct = et.get_exp_struct(sess_par['bird'], sess, ephys_software='sglx')\n",
    "source_folder = exp_struct['folders']['derived']\n",
    "wav_path_list = et.get_sgl_files_epochs(source_folder, file_filter='*wav_mic.wav')\n",
    "wav_path_list.sort()\n",
    "logger.info('Found {} files'.format(len(wav_path_list)))\n",
    "print(wav_path_list)"
   ]
  },
  {
   "cell_type": "code",
   "execution_count": 22,
   "metadata": {},
   "outputs": [],
   "source": [
    "one_file = wav_path_list[0]"
   ]
  },
  {
   "cell_type": "code",
   "execution_count": null,
   "metadata": {},
   "outputs": [
    {
     "name": "stderr",
     "output_type": "stream",
     "text": [
      "2021-09-22 15:13:45,924 ceciestunepipe.util.sound.boutsearch INFO     Getting bouts for long file /mnt/sphere/speech_bci/derived_data/s_b1253_21/2021-06-14/sglx/0712_g0/wav_mic.wav\n"
     ]
    },
    {
     "name": "stdout",
     "output_type": "stream",
     "text": [
      "tu vieja file /mnt/sphere/speech_bci/derived_data/s_b1253_21/2021-06-14/sglx/0712_g0/wav_mic.wav\n"
     ]
    },
    {
     "name": "stderr",
     "output_type": "stream",
     "text": [
      "2021-09-22 15:13:45,962 ceciestunepipe.util.sound.boutsearch INFO     splitting file into 5 chunks\n"
     ]
    },
    {
     "data": {
      "application/vnd.jupyter.widget-view+json": {
       "model_id": "2ee46791b8cc495dae356f151c0a45d0",
       "version_major": 2,
       "version_minor": 0
      },
      "text/plain": [
       "  0%|          | 0/5 [00:00<?, ?it/s]"
      ]
     },
     "metadata": {},
     "output_type": "display_data"
    }
   ],
   "source": [
    "reload(bs)\n",
    "epoch_bout_pd, epoch_wav = bs.get_bouts_in_long_file(wav_path_list[0], hparams)"
   ]
  },
  {
   "cell_type": "code",
   "execution_count": null,
   "metadata": {},
   "outputs": [],
   "source": []
  }
 ],
 "metadata": {
  "kernelspec": {
   "display_name": "tuputapipe",
   "language": "python",
   "name": "ceciestunepipe"
  },
  "language_info": {
   "codemirror_mode": {
    "name": "ipython",
    "version": 3
   },
   "file_extension": ".py",
   "mimetype": "text/x-python",
   "name": "python",
   "nbconvert_exporter": "python",
   "pygments_lexer": "ipython3",
   "version": "3.8.11"
  }
 },
 "nbformat": 4,
 "nbformat_minor": 4
}
