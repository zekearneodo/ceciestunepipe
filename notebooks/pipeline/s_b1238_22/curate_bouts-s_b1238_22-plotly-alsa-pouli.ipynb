{
 "cells": [
  {
   "cell_type": "markdown",
   "id": "unavailable-waterproof",
   "metadata": {},
   "source": [
    "## Searching for bouts for a day of alsa recording"
   ]
  },
  {
   "cell_type": "code",
   "execution_count": 1,
   "id": "sized-marijuana",
   "metadata": {},
   "outputs": [
    {
     "name": "stderr",
     "output_type": "stream",
     "text": [
      "2022-02-08 11:52:01,528 root         INFO     Running on pouli\n"
     ]
    }
   ],
   "source": [
    "import os\n",
    "import glob\n",
    "import socket\n",
    "import logging\n",
    "import pickle\n",
    "import numpy as np\n",
    "import pandas as pd\n",
    "from scipy.io import wavfile\n",
    "from scipy import signal\n",
    "\n",
    "### Fuck matplotlib, I'm using poltly now\n",
    "from plotly.subplots import make_subplots\n",
    "import plotly.graph_objects as go\n",
    "\n",
    "from importlib import reload\n",
    "\n",
    "logger = logging.getLogger()\n",
    "handler = logging.StreamHandler()\n",
    "formatter = logging.Formatter(\n",
    "        '%(asctime)s %(name)-12s %(levelname)-8s %(message)s')\n",
    "handler.setFormatter(formatter)\n",
    "logger.addHandler(handler)\n",
    "logger.setLevel(logging.INFO)\n",
    "\n",
    "logger.info('Running on {}'.format(socket.gethostname()))"
   ]
  },
  {
   "cell_type": "code",
   "execution_count": 2,
   "id": "stable-inspection",
   "metadata": {},
   "outputs": [],
   "source": [
    "from ceciestunepipe.file import bcistructure as et"
   ]
  },
  {
   "cell_type": "markdown",
   "id": "inner-machinery",
   "metadata": {},
   "source": [
    "### Get the file locations for a session (day) of recordings"
   ]
  },
  {
   "cell_type": "code",
   "execution_count": 3,
   "id": "steady-burner",
   "metadata": {},
   "outputs": [],
   "source": [
    "reload(et)\n",
    "sess_par = {'bird': 's_b1238_22',\n",
    "           'sess': '2022-02-07'}\n",
    "\n",
    "\n",
    "exp_struct = et.get_exp_struct(sess_par['bird'], sess_par['sess'], ephys_software='alsa')\n",
    "\n",
    "raw_folder = exp_struct['folders']['alsa']\n",
    "bouts_folder = os.path.join(exp_struct['folders']['derived'], 'bouts_ceciestunepipe')"
   ]
  },
  {
   "cell_type": "code",
   "execution_count": 4,
   "id": "bronze-certificate",
   "metadata": {},
   "outputs": [
    {
     "data": {
      "text/plain": [
       "{'bird': '/mnt/sphere/speech_bci/raw_data/s_b1238_22',\n",
       " 'raw': '/mnt/sphere/speech_bci/raw_data/s_b1238_22/2022-02-07',\n",
       " 'alsa': '/mnt/sphere/speech_bci/raw_data/s_b1238_22/2022-02-07/alsa',\n",
       " 'kwik': '/experiment/s_b1238_22/alsa/kwik/2022-02-07',\n",
       " 'processed': '/mnt/sphere/speech_bci/processed_data/s_b1238_22/2022-02-07/alsa',\n",
       " 'derived': '/mnt/sphere/speech_bci/derived_data/s_b1238_22/2022-02-07/alsa',\n",
       " 'tmp': '/experiment/tmp/tmp',\n",
       " 'msort': '/experiment/tmp/s_b1238_22/alsa/msort/2022-02-07',\n",
       " 'ksort': '/experiment/tmp/s_b1238_22/alsa/ksort/2022-02-07/',\n",
       " 'sort': '/mnt/sphere/speech_bci/derived_data/s_b1238_22/2022-02-07/alsa/'}"
      ]
     },
     "execution_count": 4,
     "metadata": {},
     "output_type": "execute_result"
    }
   ],
   "source": [
    "exp_struct['folders']"
   ]
  },
  {
   "cell_type": "markdown",
   "id": "portable-shareware",
   "metadata": {},
   "source": [
    "### read a session's bouts pandas\n",
    "- get the location of the file\n",
    "- load the pandas pickle\n",
    "- load the search/spectrogram parameters"
   ]
  },
  {
   "cell_type": "code",
   "execution_count": 5,
   "id": "southwest-frost",
   "metadata": {},
   "outputs": [],
   "source": [
    "from ceciestunepipe.util.sound import boutsearch as bs"
   ]
  },
  {
   "cell_type": "code",
   "execution_count": 6,
   "id": "green-romantic",
   "metadata": {},
   "outputs": [],
   "source": [
    "### load the search/spectrogram parameters\n",
    "### these functions are necessary to load the pickle files, which is bad.\n",
    "### need to not write modules/functions in the pickle\n",
    "\n",
    "# function for getting one channel out of a wave file\n",
    "def read_wav_chan(wav_path: str, chan_id: int=0) -> tuple:\n",
    "    s_f, x = wavfile.read(wav_path, mmap=True)\n",
    "    return s_f, x[:, chan_id]\n",
    "\n",
    "def sess_file_id(f_path):\n",
    "    n = int(os.path.split(f_path)[1].split('-')[-1].split('.wav')[0])\n",
    "    return n\n",
    "\n",
    "hparams_file_path = os.path.join(bouts_folder, 'bout_search_params.pickle')\n",
    "with open(hparams_file_path, 'rb') as fh:\n",
    "    hparams = pickle.load(fh)"
   ]
  },
  {
   "cell_type": "code",
   "execution_count": 7,
   "id": "earlier-powder",
   "metadata": {
    "scrolled": true,
    "tags": []
   },
   "outputs": [
    {
     "data": {
      "text/html": [
       "<div>\n",
       "<style scoped>\n",
       "    .dataframe tbody tr th:only-of-type {\n",
       "        vertical-align: middle;\n",
       "    }\n",
       "\n",
       "    .dataframe tbody tr th {\n",
       "        vertical-align: top;\n",
       "    }\n",
       "\n",
       "    .dataframe thead th {\n",
       "        text-align: right;\n",
       "    }\n",
       "</style>\n",
       "<table border=\"1\" class=\"dataframe\">\n",
       "  <thead>\n",
       "    <tr style=\"text-align: right;\">\n",
       "      <th></th>\n",
       "      <th>start_ms</th>\n",
       "      <th>end_ms</th>\n",
       "      <th>start_sample</th>\n",
       "      <th>end_sample</th>\n",
       "      <th>p_step</th>\n",
       "      <th>rms_p</th>\n",
       "      <th>peak_p</th>\n",
       "      <th>bout_check</th>\n",
       "      <th>file</th>\n",
       "      <th>len_ms</th>\n",
       "      <th>syl_in</th>\n",
       "      <th>n_syl</th>\n",
       "      <th>peaks_p</th>\n",
       "      <th>n_peaks</th>\n",
       "      <th>l_p_ratio</th>\n",
       "      <th>waveform</th>\n",
       "    </tr>\n",
       "  </thead>\n",
       "  <tbody>\n",
       "    <tr>\n",
       "      <th>0</th>\n",
       "      <td>170010</td>\n",
       "      <td>177070</td>\n",
       "      <td>8160480</td>\n",
       "      <td>8499360</td>\n",
       "      <td>[3.1099215238058577, 27.148119136857115, 15.81...</td>\n",
       "      <td>4.099033</td>\n",
       "      <td>108.123583</td>\n",
       "      <td>True</td>\n",
       "      <td>/mnt/sphere/speech_bci/raw_data/s_b1238_22/202...</td>\n",
       "      <td>7060</td>\n",
       "      <td>[[170010, 170050], [170255, 170320], [170840, ...</td>\n",
       "      <td>12</td>\n",
       "      <td>[1, 11, 50, 61, 167, 263, 299, 316, 326, 585, ...</td>\n",
       "      <td>26</td>\n",
       "      <td>271.538462</td>\n",
       "      <td>[37, 25, 27, 29, 25, 35, 45, 41, 39, 44, 25, 3...</td>\n",
       "    </tr>\n",
       "  </tbody>\n",
       "</table>\n",
       "</div>"
      ],
      "text/plain": [
       "   start_ms  end_ms  start_sample  end_sample  \\\n",
       "0    170010  177070       8160480     8499360   \n",
       "\n",
       "                                              p_step     rms_p      peak_p  \\\n",
       "0  [3.1099215238058577, 27.148119136857115, 15.81...  4.099033  108.123583   \n",
       "\n",
       "   bout_check                                               file  len_ms  \\\n",
       "0        True  /mnt/sphere/speech_bci/raw_data/s_b1238_22/202...    7060   \n",
       "\n",
       "                                              syl_in  n_syl  \\\n",
       "0  [[170010, 170050], [170255, 170320], [170840, ...     12   \n",
       "\n",
       "                                             peaks_p  n_peaks   l_p_ratio  \\\n",
       "0  [1, 11, 50, 61, 167, 263, 299, 316, 326, 585, ...       26  271.538462   \n",
       "\n",
       "                                            waveform  \n",
       "0  [37, 25, 27, 29, 25, 35, 45, 41, 39, 44, 25, 3...  "
      ]
     },
     "execution_count": 7,
     "metadata": {},
     "output_type": "execute_result"
    }
   ],
   "source": [
    "#bpd, x, p = bs.get_bouts_in_file(one_wav_path, hparams)\n",
    "\n",
    "bouts_auto_file_path = os.path.join(bouts_folder, hparams['bout_auto_file'])\n",
    "\n",
    "#load. It is important to reset index because the manual curation requires unique indexing\n",
    "bpd = pd.read_pickle(bouts_auto_file_path).reset_index(drop=True)\n",
    "bpd.head(1)"
   ]
  },
  {
   "cell_type": "markdown",
   "id": "signal-experience",
   "metadata": {},
   "source": [
    "###### if it wasnt saved (which is a bad mistake), read the sampling rate from the first file in the session"
   ]
  },
  {
   "cell_type": "code",
   "execution_count": 8,
   "id": "vital-singapore",
   "metadata": {},
   "outputs": [],
   "source": [
    "def sample_rate_from_wav(wav_path):\n",
    "    sample_rate, x = wavfile.read(wav_path)\n",
    "    return sample_rate\n",
    "\n",
    "if hparams['sample_rate'] is None:\n",
    "    one_wav_path = bpd.loc[0, 'file']\n",
    "    logger.info('Sample rate not saved in parameters dict, searching it in ' + one_wav_path)\n",
    "    hparams['sample_rate'] = sample_rate_from_wav(one_wav_path)"
   ]
  },
  {
   "cell_type": "code",
   "execution_count": 9,
   "id": "infinite-membrane",
   "metadata": {},
   "outputs": [],
   "source": [
    "def cleanup(bout_pd: pd.DataFrame):\n",
    "    ## check for empty waveforms (how woudld THAT happen???)\n",
    "    bout_pd['valid_waveform'] = bout_pd['waveform'].apply(lambda x: (False if x.size==0 else True))\n",
    "    \n",
    "    # valid is & of all the validated criteria\n",
    "    bout_pd['valid'] = bout_pd['valid_waveform']\n",
    "    \n",
    "    # drop not valid and reset index\n",
    "    bout_pd.drop(bout_pd[bout_pd['valid']==False].index, inplace=True)\n",
    "    bout_pd.reset_index(drop=True, inplace=True)\n",
    "\n",
    "cleanup(bpd)"
   ]
  },
  {
   "cell_type": "code",
   "execution_count": 10,
   "id": "ce15e3e7-2434-4491-bf4f-998e390daec1",
   "metadata": {
    "tags": []
   },
   "outputs": [
    {
     "data": {
      "text/plain": [
       "{'num_freq': 1024,\n",
       " 'preemphasis': 0.97,\n",
       " 'frame_shift_ms': 5,\n",
       " 'frame_length_ms': 10,\n",
       " 'min_level_db': -55,\n",
       " 'ref_level_db': 110,\n",
       " 'sample_rate': 48000,\n",
       " 'mel_filter': False,\n",
       " 'num_mels': 1024,\n",
       " 'fmin': 500,\n",
       " 'fmax': 12000,\n",
       " 'max_iters': 200,\n",
       " 'griffin_lim_iters': 20,\n",
       " 'power': 1.5,\n",
       " 'read_wav_fun': <function __main__.read_wav_chan(wav_path: str, chan_id: int = 0) -> tuple>,\n",
       " 'file_order_fun': <function __main__.sess_file_id(f_path)>,\n",
       " 'min_segment': 30,\n",
       " 'min_silence': 2000,\n",
       " 'min_bout': 5000,\n",
       " 'peak_thresh_rms': 0.55,\n",
       " 'thresh_rms': 0.25,\n",
       " 'mean_syl_rms_thresh': 0.3,\n",
       " 'max_bout': 120000,\n",
       " 'l_p_r_thresh': 100,\n",
       " 'waveform_edges': 1000,\n",
       " 'bout_auto_file': 'bout_auto.pickle',\n",
       " 'bout_curated_file': 'bout_checked.pickle'}"
      ]
     },
     "execution_count": 10,
     "metadata": {},
     "output_type": "execute_result"
    }
   ],
   "source": [
    "hparams"
   ]
  },
  {
   "cell_type": "markdown",
   "id": "eight-pillow",
   "metadata": {},
   "source": [
    "#### compute the spectrograms"
   ]
  },
  {
   "cell_type": "code",
   "execution_count": 11,
   "id": "different-flower",
   "metadata": {},
   "outputs": [
    {
     "name": "stderr",
     "output_type": "stream",
     "text": [
      "2022-02-08 11:52:41,816 root         INFO     saving bout pandas with spectrogram to /mnt/sphere/speech_bci/derived_data/s_b1238_22/2022-02-07/alsa/bouts_ceciestunepipe/bout_auto.pickle\n"
     ]
    }
   ],
   "source": [
    "bpd['spectrogram'] = bpd['waveform'].apply(lambda x: bs.gimmepower(x, hparams)[2])\n",
    "logger.info('saving bout pandas with spectrogram to ' + bouts_auto_file_path)\n",
    "bpd.to_pickle(bouts_auto_file_path)"
   ]
  },
  {
   "cell_type": "code",
   "execution_count": 12,
   "id": "incorporated-pitch",
   "metadata": {
    "tags": []
   },
   "outputs": [
    {
     "data": {
      "text/html": [
       "<div>\n",
       "<style scoped>\n",
       "    .dataframe tbody tr th:only-of-type {\n",
       "        vertical-align: middle;\n",
       "    }\n",
       "\n",
       "    .dataframe tbody tr th {\n",
       "        vertical-align: top;\n",
       "    }\n",
       "\n",
       "    .dataframe thead th {\n",
       "        text-align: right;\n",
       "    }\n",
       "</style>\n",
       "<table border=\"1\" class=\"dataframe\">\n",
       "  <thead>\n",
       "    <tr style=\"text-align: right;\">\n",
       "      <th></th>\n",
       "      <th>start_ms</th>\n",
       "      <th>end_ms</th>\n",
       "      <th>start_sample</th>\n",
       "      <th>end_sample</th>\n",
       "      <th>p_step</th>\n",
       "      <th>rms_p</th>\n",
       "      <th>peak_p</th>\n",
       "      <th>bout_check</th>\n",
       "      <th>file</th>\n",
       "      <th>len_ms</th>\n",
       "      <th>syl_in</th>\n",
       "      <th>n_syl</th>\n",
       "      <th>peaks_p</th>\n",
       "      <th>n_peaks</th>\n",
       "      <th>l_p_ratio</th>\n",
       "      <th>waveform</th>\n",
       "      <th>valid_waveform</th>\n",
       "      <th>valid</th>\n",
       "      <th>spectrogram</th>\n",
       "    </tr>\n",
       "  </thead>\n",
       "  <tbody>\n",
       "    <tr>\n",
       "      <th>0</th>\n",
       "      <td>170010</td>\n",
       "      <td>177070</td>\n",
       "      <td>8160480</td>\n",
       "      <td>8499360</td>\n",
       "      <td>[3.1099215238058577, 27.148119136857115, 15.81...</td>\n",
       "      <td>4.099033</td>\n",
       "      <td>108.123583</td>\n",
       "      <td>True</td>\n",
       "      <td>/mnt/sphere/speech_bci/raw_data/s_b1238_22/202...</td>\n",
       "      <td>7060</td>\n",
       "      <td>[[170010, 170050], [170255, 170320], [170840, ...</td>\n",
       "      <td>12</td>\n",
       "      <td>[1, 11, 50, 61, 167, 263, 299, 316, 326, 585, ...</td>\n",
       "      <td>26</td>\n",
       "      <td>271.538462</td>\n",
       "      <td>[37, 25, 27, 29, 25, 35, 45, 41, 39, 44, 25, 3...</td>\n",
       "      <td>True</td>\n",
       "      <td>True</td>\n",
       "      <td>[[0.0, 0.0, 0.0, 0.0, 0.0, 0.0, 0.0, 0.0, 0.0,...</td>\n",
       "    </tr>\n",
       "  </tbody>\n",
       "</table>\n",
       "</div>"
      ],
      "text/plain": [
       "   start_ms  end_ms  start_sample  end_sample  \\\n",
       "0    170010  177070       8160480     8499360   \n",
       "\n",
       "                                              p_step     rms_p      peak_p  \\\n",
       "0  [3.1099215238058577, 27.148119136857115, 15.81...  4.099033  108.123583   \n",
       "\n",
       "   bout_check                                               file  len_ms  \\\n",
       "0        True  /mnt/sphere/speech_bci/raw_data/s_b1238_22/202...    7060   \n",
       "\n",
       "                                              syl_in  n_syl  \\\n",
       "0  [[170010, 170050], [170255, 170320], [170840, ...     12   \n",
       "\n",
       "                                             peaks_p  n_peaks   l_p_ratio  \\\n",
       "0  [1, 11, 50, 61, 167, 263, 299, 316, 326, 585, ...       26  271.538462   \n",
       "\n",
       "                                            waveform  valid_waveform  valid  \\\n",
       "0  [37, 25, 27, 29, 25, 35, 45, 41, 39, 44, 25, 3...            True   True   \n",
       "\n",
       "                                         spectrogram  \n",
       "0  [[0.0, 0.0, 0.0, 0.0, 0.0, 0.0, 0.0, 0.0, 0.0,...  "
      ]
     },
     "execution_count": 12,
     "metadata": {},
     "output_type": "execute_result"
    }
   ],
   "source": [
    "bpd.head(1)"
   ]
  },
  {
   "cell_type": "code",
   "execution_count": 13,
   "id": "loose-fluid",
   "metadata": {},
   "outputs": [
    {
     "data": {
      "text/plain": [
       "'/mnt/sphere/speech_bci/raw_data/s_b1238_22/2022-02-07/alsa/07-00-01-01.wav'"
      ]
     },
     "execution_count": 13,
     "metadata": {},
     "output_type": "execute_result"
    }
   ],
   "source": [
    "bpd['file'][0]"
   ]
  },
  {
   "cell_type": "markdown",
   "id": "specified-cache",
   "metadata": {},
   "source": [
    "## inspect the bouts and curate them"
   ]
  },
  {
   "cell_type": "markdown",
   "id": "practical-finish",
   "metadata": {},
   "source": [
    "#### visualize one bout"
   ]
  },
  {
   "cell_type": "code",
   "execution_count": 14,
   "id": "greek-protein",
   "metadata": {},
   "outputs": [
    {
     "data": {
      "text/plain": [
       "start_ms                                                     170010\n",
       "end_ms                                                       177070\n",
       "start_sample                                                8160480\n",
       "end_sample                                                  8499360\n",
       "p_step            [3.1099215238058577, 27.148119136857115, 15.81...\n",
       "rms_p                                                      4.099033\n",
       "peak_p                                                   108.123583\n",
       "bout_check                                                     True\n",
       "file              /mnt/sphere/speech_bci/raw_data/s_b1238_22/202...\n",
       "len_ms                                                         7060\n",
       "syl_in            [[170010, 170050], [170255, 170320], [170840, ...\n",
       "n_syl                                                            12\n",
       "peaks_p           [1, 11, 50, 61, 167, 263, 299, 316, 326, 585, ...\n",
       "n_peaks                                                          26\n",
       "l_p_ratio                                                271.538462\n",
       "waveform          [37, 25, 27, 29, 25, 35, 45, 41, 39, 44, 25, 3...\n",
       "valid_waveform                                                 True\n",
       "valid                                                          True\n",
       "spectrogram       [[0.0, 0.0, 0.0, 0.0, 0.0, 0.0, 0.0, 0.0, 0.0,...\n",
       "Name: 0, dtype: object"
      ]
     },
     "execution_count": 14,
     "metadata": {},
     "output_type": "execute_result"
    }
   ],
   "source": [
    "bpd.iloc[0]"
   ]
  },
  {
   "cell_type": "code",
   "execution_count": 15,
   "id": "favorite-abortion",
   "metadata": {},
   "outputs": [],
   "source": [
    "import plotly.express as px\n",
    "import plotly.graph_objects as go\n",
    "\n",
    "from ipywidgets import widgets"
   ]
  },
  {
   "cell_type": "code",
   "execution_count": 16,
   "id": "sound-wyoming",
   "metadata": {},
   "outputs": [
    {
     "data": {
      "application/vnd.jupyter.widget-view+json": {
       "model_id": "f82f72fc6c864f31b7482bbf529b57ba",
       "version_major": 2,
       "version_minor": 0
      },
      "text/plain": [
       "VBox(children=(FigureWidget({\n",
       "    'data': [{'type': 'scatter',\n",
       "              'uid': '6b6403f1-ff74-4f03-bfe7-e…"
      ]
     },
     "metadata": {},
     "output_type": "display_data"
    }
   ],
   "source": [
    "def viz_one_bout(df: pd.Series, sub_sample=1):\n",
    "    # get the power and the spectrogram\n",
    "    sxx = df['spectrogram'][:, ::sub_sample]\n",
    "    x = df['waveform'][::sub_sample]\n",
    "    \n",
    "    # the trace\n",
    "    tr_waveform = go.Scatter(y=x)\n",
    "    figwidg_waveform = go.FigureWidget(data=[tr_waveform],\n",
    "                                      layout= {'height': 300,'width':1000})\n",
    "\n",
    "    # the spectrogram\n",
    "    fig_spectrogram = px.imshow(sxx, \n",
    "                                     labels={}, \n",
    "                                     color_continuous_scale='Inferno',\n",
    "                                    aspect='auto')\n",
    "\n",
    "    fig_spectrogram.update_layout(width=1000, height=300, coloraxis_showscale=False)\n",
    "    fig_spectrogram.update_xaxes(showticklabels=False)\n",
    "    fig_spectrogram.update_yaxes(showticklabels=False)\n",
    "    \n",
    "    \n",
    "    figwidg_spectrogram = go.FigureWidget(fig_spectrogram)\n",
    "    \n",
    "    display(widgets.VBox([figwidg_waveform,\n",
    "              figwidg_spectrogram]))\n",
    "    \n",
    "\n",
    "viz_one_bout(bpd.iloc[1])"
   ]
  },
  {
   "cell_type": "code",
   "execution_count": 17,
   "id": "existing-therapist",
   "metadata": {},
   "outputs": [
    {
     "data": {
      "text/html": [
       "<div>\n",
       "<style scoped>\n",
       "    .dataframe tbody tr th:only-of-type {\n",
       "        vertical-align: middle;\n",
       "    }\n",
       "\n",
       "    .dataframe tbody tr th {\n",
       "        vertical-align: top;\n",
       "    }\n",
       "\n",
       "    .dataframe thead th {\n",
       "        text-align: right;\n",
       "    }\n",
       "</style>\n",
       "<table border=\"1\" class=\"dataframe\">\n",
       "  <thead>\n",
       "    <tr style=\"text-align: right;\">\n",
       "      <th></th>\n",
       "      <th>start_ms</th>\n",
       "      <th>end_ms</th>\n",
       "      <th>start_sample</th>\n",
       "      <th>end_sample</th>\n",
       "      <th>p_step</th>\n",
       "      <th>rms_p</th>\n",
       "      <th>peak_p</th>\n",
       "      <th>bout_check</th>\n",
       "      <th>file</th>\n",
       "      <th>len_ms</th>\n",
       "      <th>syl_in</th>\n",
       "      <th>n_syl</th>\n",
       "      <th>peaks_p</th>\n",
       "      <th>n_peaks</th>\n",
       "      <th>l_p_ratio</th>\n",
       "      <th>waveform</th>\n",
       "      <th>valid_waveform</th>\n",
       "      <th>valid</th>\n",
       "      <th>spectrogram</th>\n",
       "    </tr>\n",
       "  </thead>\n",
       "  <tbody>\n",
       "    <tr>\n",
       "      <th>0</th>\n",
       "      <td>170010</td>\n",
       "      <td>177070</td>\n",
       "      <td>8160480</td>\n",
       "      <td>8499360</td>\n",
       "      <td>[3.1099215238058577, 27.148119136857115, 15.81...</td>\n",
       "      <td>4.099033</td>\n",
       "      <td>108.123583</td>\n",
       "      <td>True</td>\n",
       "      <td>/mnt/sphere/speech_bci/raw_data/s_b1238_22/202...</td>\n",
       "      <td>7060</td>\n",
       "      <td>[[170010, 170050], [170255, 170320], [170840, ...</td>\n",
       "      <td>12</td>\n",
       "      <td>[1, 11, 50, 61, 167, 263, 299, 316, 326, 585, ...</td>\n",
       "      <td>26</td>\n",
       "      <td>271.538462</td>\n",
       "      <td>[37, 25, 27, 29, 25, 35, 45, 41, 39, 44, 25, 3...</td>\n",
       "      <td>True</td>\n",
       "      <td>True</td>\n",
       "      <td>[[0.0, 0.0, 0.0, 0.0, 0.0, 0.0, 0.0, 0.0, 0.0,...</td>\n",
       "    </tr>\n",
       "    <tr>\n",
       "      <th>1</th>\n",
       "      <td>424185</td>\n",
       "      <td>439480</td>\n",
       "      <td>20360880</td>\n",
       "      <td>21095040</td>\n",
       "      <td>[7.737366338043098, 46.54807389322522, 53.9410...</td>\n",
       "      <td>4.099033</td>\n",
       "      <td>114.799852</td>\n",
       "      <td>True</td>\n",
       "      <td>/mnt/sphere/speech_bci/raw_data/s_b1238_22/202...</td>\n",
       "      <td>15295</td>\n",
       "      <td>[[424185, 424230], [424820, 424855], [425270, ...</td>\n",
       "      <td>28</td>\n",
       "      <td>[4, 21, 88, 128, 137, 160, 217, 352, 390, 409,...</td>\n",
       "      <td>74</td>\n",
       "      <td>206.689189</td>\n",
       "      <td>[-25, -27, -27, -25, -25, -27, -28, -27, -26, ...</td>\n",
       "      <td>True</td>\n",
       "      <td>True</td>\n",
       "      <td>[[0.0, 0.0, 0.0, 0.0, 0.0, 0.0, 0.0, 0.0, 0.0,...</td>\n",
       "    </tr>\n",
       "  </tbody>\n",
       "</table>\n",
       "</div>"
      ],
      "text/plain": [
       "   start_ms  end_ms  start_sample  end_sample  \\\n",
       "0    170010  177070       8160480     8499360   \n",
       "1    424185  439480      20360880    21095040   \n",
       "\n",
       "                                              p_step     rms_p      peak_p  \\\n",
       "0  [3.1099215238058577, 27.148119136857115, 15.81...  4.099033  108.123583   \n",
       "1  [7.737366338043098, 46.54807389322522, 53.9410...  4.099033  114.799852   \n",
       "\n",
       "   bout_check                                               file  len_ms  \\\n",
       "0        True  /mnt/sphere/speech_bci/raw_data/s_b1238_22/202...    7060   \n",
       "1        True  /mnt/sphere/speech_bci/raw_data/s_b1238_22/202...   15295   \n",
       "\n",
       "                                              syl_in  n_syl  \\\n",
       "0  [[170010, 170050], [170255, 170320], [170840, ...     12   \n",
       "1  [[424185, 424230], [424820, 424855], [425270, ...     28   \n",
       "\n",
       "                                             peaks_p  n_peaks   l_p_ratio  \\\n",
       "0  [1, 11, 50, 61, 167, 263, 299, 316, 326, 585, ...       26  271.538462   \n",
       "1  [4, 21, 88, 128, 137, 160, 217, 352, 390, 409,...       74  206.689189   \n",
       "\n",
       "                                            waveform  valid_waveform  valid  \\\n",
       "0  [37, 25, 27, 29, 25, 35, 45, 41, 39, 44, 25, 3...            True   True   \n",
       "1  [-25, -27, -27, -25, -25, -27, -28, -27, -26, ...            True   True   \n",
       "\n",
       "                                         spectrogram  \n",
       "0  [[0.0, 0.0, 0.0, 0.0, 0.0, 0.0, 0.0, 0.0, 0.0,...  \n",
       "1  [[0.0, 0.0, 0.0, 0.0, 0.0, 0.0, 0.0, 0.0, 0.0,...  "
      ]
     },
     "execution_count": 17,
     "metadata": {},
     "output_type": "execute_result"
    }
   ],
   "source": [
    "bpd.head(2)"
   ]
  },
  {
   "cell_type": "markdown",
   "id": "coastal-cooperation",
   "metadata": {},
   "source": [
    "## use it in a widget\n"
   ]
  },
  {
   "cell_type": "markdown",
   "id": "attempted-elimination",
   "metadata": {},
   "source": [
    "#### add a 'confusing' label, for not/sure/mixed.\n",
    "we want to avoid having things we are not sure of in the training dataset"
   ]
  },
  {
   "cell_type": "code",
   "execution_count": 18,
   "id": "balanced-newport",
   "metadata": {},
   "outputs": [],
   "source": [
    "bpd.reset_index(drop=True, inplace=True)"
   ]
  },
  {
   "cell_type": "code",
   "execution_count": 19,
   "id": "satisfied-australian",
   "metadata": {},
   "outputs": [],
   "source": [
    "## Set confusing by default, will only be False once asserted bout/or not\n",
    "bpd['confusing'] = True\n",
    "bpd['bout_check'] = False"
   ]
  },
  {
   "cell_type": "code",
   "execution_count": 20,
   "id": "functional-dressing",
   "metadata": {},
   "outputs": [],
   "source": [
    "### Create a counter object (count goes 1:1 to DataFrame index)\n",
    "from traitlets import CInt, link\n",
    "\n",
    "class Counter(widgets.DOMWidget):\n",
    "    value = CInt(0)\n",
    "    value.tag(sync=True)"
   ]
  },
  {
   "cell_type": "code",
   "execution_count": 21,
   "id": "growing-queue",
   "metadata": {},
   "outputs": [
    {
     "data": {
      "application/vnd.jupyter.widget-view+json": {
       "model_id": "44de03ee6fa044c99d4837219f4335d7",
       "version_major": 2,
       "version_minor": 0
      },
      "text/plain": [
       "VBox(children=(HBox(children=(HBox(children=(VBox(children=(Button(button_style='warning', description='Prev',…"
      ]
     },
     "metadata": {},
     "output_type": "display_data"
    }
   ],
   "source": [
    "class VizBout():\n",
    "    def __init__(self, hparams, bouts_pd):\n",
    "        self.bout = None\n",
    "        self.bouts_pd = bouts_pd\n",
    "        self.bout_series = None\n",
    "        self.is_bout = None\n",
    "        self.is_confusing = None\n",
    "        \n",
    "        self.bout_counter = None\n",
    "        self.bout_id = None\n",
    "        \n",
    "        self.buttons = {}\n",
    "        self.m_pick = None\n",
    "        \n",
    "        \n",
    "        self.fig_waveform = None\n",
    "        self.fig_spectrogram = None\n",
    "        \n",
    "        self.figwidg_waveform = None\n",
    "        self.figwidg_spectrogram = None\n",
    "        \n",
    "        self.fig_width = 2\n",
    "        self.sub_sample = 10\n",
    "        \n",
    "        self.x = None\n",
    "        self.sxx = None\n",
    "        self.tr_waveform = None\n",
    "        \n",
    "        self.s_f = hparams['sample_rate']\n",
    "        \n",
    "        self.init_fig()\n",
    "        self.init_widget()\n",
    "        self.show()\n",
    "        \n",
    "    def init_fig(self):\n",
    "        # the trace\n",
    "        self.tr_waveform = go.Scatter(y=np.zeros(500))\n",
    "        self.figwidg_waveform = go.FigureWidget(data=[self.tr_waveform],\n",
    "                                               layout={'width': 1000, 'height':300})\n",
    "        \n",
    "        # the spectrogram\n",
    "        self.fig_spectrogram = px.imshow(np.random.rand(500, 500), \n",
    "                                         labels={}, \n",
    "                                         color_continuous_scale='Inferno',\n",
    "                                        aspect='auto')\n",
    "        \n",
    "        self.fig_spectrogram.update_layout(width=1000, height=300, coloraxis_showscale=False)\n",
    "        self.fig_spectrogram.update_xaxes(showticklabels=False)\n",
    "        self.fig_spectrogram.update_yaxes(showticklabels=False)\n",
    "        self.figwidg_spectrogram = go.FigureWidget(self.fig_spectrogram)\n",
    "        \n",
    "        \n",
    "    def init_widget(self):\n",
    "        # declare elements\n",
    "        # lay them out\n",
    "        #\n",
    "        \n",
    "        self.bout_counter = Counter()\n",
    "        self.is_bout = widgets.Checkbox(description='is bout')\n",
    "        self.is_confusing = widgets.Checkbox(description='Not sure or mixed')\n",
    "        \n",
    "        self.buttons['Next'] = widgets.Button(description=\"Next\", button_style='info',\n",
    "                                              icon='plus')   \n",
    "        self.buttons['Prev'] = widgets.Button(description=\"Prev\", button_style='warning',\n",
    "                                              icon='minus')\n",
    "        self.buttons['Check'] = widgets.Button(description=\"Check\", button_style='success', \n",
    "                                               icon='check')\n",
    "        self.buttons['Uncheck'] = widgets.Button(description=\"Uncheck\", button_style='danger',\n",
    "                                                 icon='wrong')\n",
    "        \n",
    "        [b.on_click(self.button_click) for b in self.buttons.values()]\n",
    "        \n",
    "        left_box = widgets.VBox([self.buttons['Prev'], self.buttons['Uncheck']])\n",
    "        right_box = widgets.VBox([self.buttons['Next'], self.buttons['Check']])\n",
    "        button_box = widgets.HBox([left_box, right_box])\n",
    "\n",
    "        self.m_pick = widgets.IntSlider(value=0, min=0, max=self.bouts_pd.index.size-1,step=1, \n",
    "                                        description=\"Bout candidate index\")\n",
    "        \n",
    "        \n",
    "        control_box = widgets.HBox([button_box,\n",
    "                                  widgets.VBox([self.is_bout, self.is_confusing]),\n",
    "                                    self.m_pick])\n",
    "        \n",
    "        link((self.m_pick, 'value'), (self.bout_counter, 'value'))\n",
    "\n",
    "        self.update_bout()\n",
    "        \n",
    "        self.is_bout.observe(self.bout_checked, names='value')\n",
    "        self.is_confusing.observe(self.confusing_checked, names='value')\n",
    "        self.m_pick.observe(self.slider_change, names='value')\n",
    "        \n",
    "        all_containers = widgets.VBox([control_box, \n",
    "                                       self.figwidg_waveform, self.figwidg_spectrogram])\n",
    "        display(all_containers)\n",
    "#         display(button_box)\n",
    "#         display(self.m_pick)\n",
    "#         display(self.is_bout)\n",
    "#         display(self.fig)\n",
    "        \n",
    "    def button_click(self, button):        \n",
    "        self.bout_id = self.bout_counter.value\n",
    "        curr_bout = self.bout_counter\n",
    "        \n",
    "        if button.description == 'Next':\n",
    "            curr_bout.value += 1\n",
    "        elif button.description == 'Prev':\n",
    "            curr_bout.value -= 1\n",
    "        elif button.description == 'Check':\n",
    "            self.bouts_pd.loc[self.bout_id, 'bout_check'] = True\n",
    "            self.bouts_pd.loc[self.bout_id, 'confusing'] = False\n",
    "            curr_bout.value += 1\n",
    "        elif button.description == 'Uncheck':\n",
    "            self.bouts_pd.loc[self.bout_id, 'bout_check'] = False\n",
    "            self.bouts_pd.loc[self.bout_id, 'confusing'] = False\n",
    "            curr_bout.value += 1\n",
    "        \n",
    "        # handle the edges of the counter\n",
    "        if curr_bout.value > self.m_pick.max:\n",
    "            curr_bout.value = 0\n",
    "            \n",
    "        if curr_bout.value < self.m_pick.min:\n",
    "            curr_bout.value = self.m_pick.max\n",
    "    \n",
    "    def slider_change(self, change):\n",
    "        #logger.info('slider changed')\n",
    "        #self.bout_counter = change.new\n",
    "        #clear_output(True)\n",
    "        self.update_bout()\n",
    "        self.show()\n",
    "            \n",
    "    def bout_checked(self, bc):\n",
    "#         print \"bout checked\"\n",
    "#         print bc['new']\n",
    "#         print self.motiff\n",
    "        self.bouts_pd.loc[self.bout_id, 'bout_check'] = bc['new']\n",
    "    \n",
    "    def confusing_checked(self, bc):\n",
    "#         print \"bout checked\"\n",
    "#         print bc['new']\n",
    "#         print self.motiff\n",
    "        self.bouts_pd.loc[self.bout_id, 'confusing'] = bc['new']\n",
    "    \n",
    "    def update_bout(self):\n",
    "        self.bout_id = self.bout_counter.value\n",
    "        self.bout_series = self.bouts_pd.iloc[self.bout_id]\n",
    "        \n",
    "        self.is_bout.value = bool(self.bout_series['bout_check'])\n",
    "        self.is_confusing.value = bool(self.bout_series['confusing'])\n",
    "        \n",
    "        self.x = self.bout_series['waveform'][::self.sub_sample]\n",
    "        self.sxx = self.bout_series['spectrogram'][::self.sub_sample]\n",
    "        \n",
    "    def show(self):\n",
    "        #self.fig.clf()\n",
    "        #self.init_fig()\n",
    "        # update\n",
    "#         self.update_bout()\n",
    "        #plot\n",
    "        #logger.info('showing')\n",
    "        \n",
    "        # Show the figures\n",
    "        with self.figwidg_waveform.batch_update():\n",
    "            self.figwidg_waveform.data[0].y = self.x\n",
    "            self.figwidg_waveform.data[0].x = np.arange(self.x.size) * self.sub_sample / self.s_f \n",
    "            \n",
    "        with self.figwidg_spectrogram.batch_update():\n",
    "            self.figwidg_spectrogram.data[0].z = np.sqrt(self.sxx[::-1])\n",
    "            \n",
    "        \n",
    "\n",
    "viz_bout = VizBout(hparams, bpd)"
   ]
  },
  {
   "cell_type": "code",
   "execution_count": 22,
   "id": "painted-alfred",
   "metadata": {},
   "outputs": [
    {
     "data": {
      "text/plain": [
       "54"
      ]
     },
     "execution_count": 22,
     "metadata": {},
     "output_type": "execute_result"
    }
   ],
   "source": [
    "np.where(viz_bout.bouts_pd['bout_check']==True)[0].size"
   ]
  },
  {
   "cell_type": "markdown",
   "id": "parallel-guatemala",
   "metadata": {},
   "source": [
    "### save it"
   ]
  },
  {
   "cell_type": "code",
   "execution_count": 23,
   "id": "numeric-kazakhstan",
   "metadata": {},
   "outputs": [
    {
     "name": "stderr",
     "output_type": "stream",
     "text": [
      "2022-02-08 11:55:44,428 root         INFO     saved curated bout pandas to pickle /mnt/sphere/speech_bci/derived_data/s_b1238_22/2022-02-07/alsa/bouts_ceciestunepipe/bout_checked.pickle\n"
     ]
    }
   ],
   "source": [
    "### get the curated file path\n",
    "##save to the curated file path\n",
    "bouts_curated_file_path = os.path.join(bouts_folder, hparams['bout_curated_file'])\n",
    "\n",
    "os.makedirs(bouts_folder, exist_ok=True)\n",
    "\n",
    "viz_bout.bouts_pd.to_pickle(bouts_curated_file_path)\n",
    "logger.info('saved curated bout pandas to pickle {}'.format(bouts_curated_file_path))"
   ]
  },
  {
   "cell_type": "code",
   "execution_count": 38,
   "id": "impressive-fight",
   "metadata": {},
   "outputs": [
    {
     "data": {
      "text/plain": [
       "'/mnt/sphere/speech_bci/raw_data/s_b1238_22/2022-02-06/alsa/07-00-01-01.wav'"
      ]
     },
     "execution_count": 38,
     "metadata": {},
     "output_type": "execute_result"
    }
   ],
   "source": [
    "viz_bout.bouts_pd['file'][0]"
   ]
  },
  {
   "cell_type": "code",
   "execution_count": 24,
   "id": "15dc1f2c-356a-4b27-9adf-6359936d04f7",
   "metadata": {
    "collapsed": true,
    "jupyter": {
     "outputs_hidden": true
    },
    "tags": []
   },
   "outputs": [
    {
     "data": {
      "text/plain": [
       "array(['/mnt/sphere/speech_bci/raw_data/s_b1238_22/2022-02-07/alsa/09-00-01-01.wav',\n",
       "       '/mnt/sphere/speech_bci/raw_data/s_b1238_22/2022-02-07/alsa/09-00-01-02.wav',\n",
       "       '/mnt/sphere/speech_bci/raw_data/s_b1238_22/2022-02-07/alsa/11-00-01-01.wav',\n",
       "       '/mnt/sphere/speech_bci/raw_data/s_b1238_22/2022-02-07/alsa/11-00-01-01.wav',\n",
       "       '/mnt/sphere/speech_bci/raw_data/s_b1238_22/2022-02-07/alsa/11-00-01-01.wav',\n",
       "       '/mnt/sphere/speech_bci/raw_data/s_b1238_22/2022-02-07/alsa/11-00-01-01.wav',\n",
       "       '/mnt/sphere/speech_bci/raw_data/s_b1238_22/2022-02-07/alsa/11-00-01-01.wav',\n",
       "       '/mnt/sphere/speech_bci/raw_data/s_b1238_22/2022-02-07/alsa/11-00-01-01.wav',\n",
       "       '/mnt/sphere/speech_bci/raw_data/s_b1238_22/2022-02-07/alsa/11-00-01-01.wav',\n",
       "       '/mnt/sphere/speech_bci/raw_data/s_b1238_22/2022-02-07/alsa/11-00-01-01.wav',\n",
       "       '/mnt/sphere/speech_bci/raw_data/s_b1238_22/2022-02-07/alsa/11-00-01-01.wav',\n",
       "       '/mnt/sphere/speech_bci/raw_data/s_b1238_22/2022-02-07/alsa/11-00-01-01.wav',\n",
       "       '/mnt/sphere/speech_bci/raw_data/s_b1238_22/2022-02-07/alsa/11-00-01-01.wav',\n",
       "       '/mnt/sphere/speech_bci/raw_data/s_b1238_22/2022-02-07/alsa/11-00-01-01.wav',\n",
       "       '/mnt/sphere/speech_bci/raw_data/s_b1238_22/2022-02-07/alsa/11-00-01-01.wav',\n",
       "       '/mnt/sphere/speech_bci/raw_data/s_b1238_22/2022-02-07/alsa/11-00-01-01.wav',\n",
       "       '/mnt/sphere/speech_bci/raw_data/s_b1238_22/2022-02-07/alsa/11-00-01-01.wav',\n",
       "       '/mnt/sphere/speech_bci/raw_data/s_b1238_22/2022-02-07/alsa/11-00-01-01.wav',\n",
       "       '/mnt/sphere/speech_bci/raw_data/s_b1238_22/2022-02-07/alsa/11-00-01-01.wav',\n",
       "       '/mnt/sphere/speech_bci/raw_data/s_b1238_22/2022-02-07/alsa/11-00-01-02.wav',\n",
       "       '/mnt/sphere/speech_bci/raw_data/s_b1238_22/2022-02-07/alsa/11-00-01-02.wav',\n",
       "       '/mnt/sphere/speech_bci/raw_data/s_b1238_22/2022-02-07/alsa/11-00-01-02.wav',\n",
       "       '/mnt/sphere/speech_bci/raw_data/s_b1238_22/2022-02-07/alsa/11-00-01-02.wav',\n",
       "       '/mnt/sphere/speech_bci/raw_data/s_b1238_22/2022-02-07/alsa/11-00-01-02.wav',\n",
       "       '/mnt/sphere/speech_bci/raw_data/s_b1238_22/2022-02-07/alsa/11-00-01-02.wav',\n",
       "       '/mnt/sphere/speech_bci/raw_data/s_b1238_22/2022-02-07/alsa/11-00-01-02.wav',\n",
       "       '/mnt/sphere/speech_bci/raw_data/s_b1238_22/2022-02-07/alsa/11-00-01-02.wav',\n",
       "       '/mnt/sphere/speech_bci/raw_data/s_b1238_22/2022-02-07/alsa/12-00-01-01.wav',\n",
       "       '/mnt/sphere/speech_bci/raw_data/s_b1238_22/2022-02-07/alsa/12-00-01-01.wav',\n",
       "       '/mnt/sphere/speech_bci/raw_data/s_b1238_22/2022-02-07/alsa/12-00-01-01.wav',\n",
       "       '/mnt/sphere/speech_bci/raw_data/s_b1238_22/2022-02-07/alsa/12-00-01-01.wav',\n",
       "       '/mnt/sphere/speech_bci/raw_data/s_b1238_22/2022-02-07/alsa/12-00-01-01.wav',\n",
       "       '/mnt/sphere/speech_bci/raw_data/s_b1238_22/2022-02-07/alsa/12-00-01-01.wav',\n",
       "       '/mnt/sphere/speech_bci/raw_data/s_b1238_22/2022-02-07/alsa/12-00-01-02.wav',\n",
       "       '/mnt/sphere/speech_bci/raw_data/s_b1238_22/2022-02-07/alsa/12-00-01-02.wav',\n",
       "       '/mnt/sphere/speech_bci/raw_data/s_b1238_22/2022-02-07/alsa/12-00-01-02.wav',\n",
       "       '/mnt/sphere/speech_bci/raw_data/s_b1238_22/2022-02-07/alsa/12-00-01-02.wav',\n",
       "       '/mnt/sphere/speech_bci/raw_data/s_b1238_22/2022-02-07/alsa/12-00-01-02.wav',\n",
       "       '/mnt/sphere/speech_bci/raw_data/s_b1238_22/2022-02-07/alsa/12-00-01-02.wav',\n",
       "       '/mnt/sphere/speech_bci/raw_data/s_b1238_22/2022-02-07/alsa/12-00-01-02.wav',\n",
       "       '/mnt/sphere/speech_bci/raw_data/s_b1238_22/2022-02-07/alsa/12-00-01-02.wav',\n",
       "       '/mnt/sphere/speech_bci/raw_data/s_b1238_22/2022-02-07/alsa/12-00-01-02.wav',\n",
       "       '/mnt/sphere/speech_bci/raw_data/s_b1238_22/2022-02-07/alsa/13-00-01-01.wav',\n",
       "       '/mnt/sphere/speech_bci/raw_data/s_b1238_22/2022-02-07/alsa/13-00-01-01.wav',\n",
       "       '/mnt/sphere/speech_bci/raw_data/s_b1238_22/2022-02-07/alsa/13-00-01-01.wav',\n",
       "       '/mnt/sphere/speech_bci/raw_data/s_b1238_22/2022-02-07/alsa/13-00-01-02.wav',\n",
       "       '/mnt/sphere/speech_bci/raw_data/s_b1238_22/2022-02-07/alsa/13-00-01-02.wav',\n",
       "       '/mnt/sphere/speech_bci/raw_data/s_b1238_22/2022-02-07/alsa/13-00-01-02.wav',\n",
       "       '/mnt/sphere/speech_bci/raw_data/s_b1238_22/2022-02-07/alsa/13-00-01-02.wav',\n",
       "       '/mnt/sphere/speech_bci/raw_data/s_b1238_22/2022-02-07/alsa/14-00-01-01.wav',\n",
       "       '/mnt/sphere/speech_bci/raw_data/s_b1238_22/2022-02-07/alsa/14-00-01-02.wav',\n",
       "       '/mnt/sphere/speech_bci/raw_data/s_b1238_22/2022-02-07/alsa/14-00-01-02.wav',\n",
       "       '/mnt/sphere/speech_bci/raw_data/s_b1238_22/2022-02-07/alsa/16-00-01-01.wav',\n",
       "       '/mnt/sphere/speech_bci/raw_data/s_b1238_22/2022-02-07/alsa/16-00-01-01.wav'],\n",
       "      dtype=object)"
      ]
     },
     "execution_count": 24,
     "metadata": {},
     "output_type": "execute_result"
    }
   ],
   "source": [
    "viz_bout.bouts_pd[viz_bout.bouts_pd['bout_check']==True]['file'].values"
   ]
  },
  {
   "cell_type": "code",
   "execution_count": 87,
   "id": "mediterranean-burner",
   "metadata": {
    "collapsed": true,
    "jupyter": {
     "outputs_hidden": true
    },
    "tags": []
   },
   "outputs": [
    {
     "data": {
      "text/html": [
       "<div>\n",
       "<style scoped>\n",
       "    .dataframe tbody tr th:only-of-type {\n",
       "        vertical-align: middle;\n",
       "    }\n",
       "\n",
       "    .dataframe tbody tr th {\n",
       "        vertical-align: top;\n",
       "    }\n",
       "\n",
       "    .dataframe thead th {\n",
       "        text-align: right;\n",
       "    }\n",
       "</style>\n",
       "<table border=\"1\" class=\"dataframe\">\n",
       "  <thead>\n",
       "    <tr style=\"text-align: right;\">\n",
       "      <th></th>\n",
       "      <th>start_ms</th>\n",
       "      <th>end_ms</th>\n",
       "      <th>start_sample</th>\n",
       "      <th>end_sample</th>\n",
       "      <th>p_step</th>\n",
       "      <th>rms_p</th>\n",
       "      <th>peak_p</th>\n",
       "      <th>bout_check</th>\n",
       "      <th>file</th>\n",
       "      <th>len_ms</th>\n",
       "      <th>syl_in</th>\n",
       "      <th>n_syl</th>\n",
       "      <th>peaks_p</th>\n",
       "      <th>n_peaks</th>\n",
       "      <th>l_p_ratio</th>\n",
       "      <th>waveform</th>\n",
       "      <th>valid_waveform</th>\n",
       "      <th>valid</th>\n",
       "      <th>spectrogram</th>\n",
       "      <th>confusing</th>\n",
       "    </tr>\n",
       "  </thead>\n",
       "  <tbody>\n",
       "    <tr>\n",
       "      <th>0</th>\n",
       "      <td>1772690</td>\n",
       "      <td>1781715</td>\n",
       "      <td>85089120</td>\n",
       "      <td>85522320</td>\n",
       "      <td>[0.8992322534584924, 9.897367501899893, 9.4748...</td>\n",
       "      <td>2.359551</td>\n",
       "      <td>182.680045</td>\n",
       "      <td>False</td>\n",
       "      <td>/mnt/sphere/speech_bci/raw_data/s_b1238_22/202...</td>\n",
       "      <td>9025</td>\n",
       "      <td>[[1772690, 1772740], [1772845, 1772910], [1773...</td>\n",
       "      <td>18</td>\n",
       "      <td>[1, 9, 33, 42, 61, 102, 121, 239, 247, 254, 34...</td>\n",
       "      <td>54</td>\n",
       "      <td>167.129630</td>\n",
       "      <td>[6, 5, 5, 5, 4, 5, 5, 5, 5, 5, 5, 6, 5, 4, 3, ...</td>\n",
       "      <td>True</td>\n",
       "      <td>True</td>\n",
       "      <td>[[0.0, 0.0, 0.0, 0.0, 0.0, 0.0, 0.0, 0.0, 0.0,...</td>\n",
       "      <td>False</td>\n",
       "    </tr>\n",
       "    <tr>\n",
       "      <th>1</th>\n",
       "      <td>1793070</td>\n",
       "      <td>1799925</td>\n",
       "      <td>86067360</td>\n",
       "      <td>86396400</td>\n",
       "      <td>[6.184213799374133, 5.3566748510823565, 13.362...</td>\n",
       "      <td>2.359551</td>\n",
       "      <td>267.096691</td>\n",
       "      <td>False</td>\n",
       "      <td>/mnt/sphere/speech_bci/raw_data/s_b1238_22/202...</td>\n",
       "      <td>6855</td>\n",
       "      <td>[[1793070, 1793125], [1793165, 1793350], [1793...</td>\n",
       "      <td>20</td>\n",
       "      <td>[5, 14, 22, 31, 38, 52, 61, 68, 79, 105, 135, ...</td>\n",
       "      <td>58</td>\n",
       "      <td>118.189655</td>\n",
       "      <td>[12, 11, 11, 12, 12, 12, 12, 11, 10, 8, 8, 9, ...</td>\n",
       "      <td>True</td>\n",
       "      <td>True</td>\n",
       "      <td>[[0.0, 0.0, 0.0, 0.0, 0.0, 0.0, 0.0, 0.0, 0.0,...</td>\n",
       "      <td>False</td>\n",
       "    </tr>\n",
       "    <tr>\n",
       "      <th>2</th>\n",
       "      <td>3005</td>\n",
       "      <td>10460</td>\n",
       "      <td>144240</td>\n",
       "      <td>502080</td>\n",
       "      <td>[0.887261381666812, 1.3398271004562607, 4.4853...</td>\n",
       "      <td>1.675094</td>\n",
       "      <td>120.070598</td>\n",
       "      <td>False</td>\n",
       "      <td>/mnt/sphere/speech_bci/raw_data/s_b1238_22/202...</td>\n",
       "      <td>7455</td>\n",
       "      <td>[[3005, 3045], [4665, 4765], [5290, 5330], [53...</td>\n",
       "      <td>15</td>\n",
       "      <td>[3, 334, 343, 355, 371, 396, 407, 458, 478, 49...</td>\n",
       "      <td>59</td>\n",
       "      <td>126.355932</td>\n",
       "      <td>[-3, -2, -3, -2, -6, -9, -8, -10, -12, -14, -1...</td>\n",
       "      <td>True</td>\n",
       "      <td>True</td>\n",
       "      <td>[[0.0, 0.0, 0.0, 0.0, 0.0, 0.0, 0.0, 0.0, 0.0,...</td>\n",
       "      <td>False</td>\n",
       "    </tr>\n",
       "    <tr>\n",
       "      <th>3</th>\n",
       "      <td>144815</td>\n",
       "      <td>157165</td>\n",
       "      <td>6951120</td>\n",
       "      <td>7543920</td>\n",
       "      <td>[0.41380735035998034, 0.5234897127529178, 0.58...</td>\n",
       "      <td>1.098511</td>\n",
       "      <td>5.122523</td>\n",
       "      <td>False</td>\n",
       "      <td>/mnt/sphere/speech_bci/raw_data/s_b1238_22/202...</td>\n",
       "      <td>12350</td>\n",
       "      <td>[[144815, 145765], [146815, 147765], [148815, ...</td>\n",
       "      <td>11</td>\n",
       "      <td>[3, 12, 33, 40, 47, 54, 61, 72, 82, 89, 100, 1...</td>\n",
       "      <td>94</td>\n",
       "      <td>131.382979</td>\n",
       "      <td>[11, 10, 10, 7, 6, 5, 3, 2, 2, 3, 2, 3, 4, 3, ...</td>\n",
       "      <td>True</td>\n",
       "      <td>True</td>\n",
       "      <td>[[0.0, 0.0, 0.0, 0.0, 0.0, 0.0, 0.0, 0.0, 0.0,...</td>\n",
       "      <td>False</td>\n",
       "    </tr>\n",
       "    <tr>\n",
       "      <th>4</th>\n",
       "      <td>1647115</td>\n",
       "      <td>1656980</td>\n",
       "      <td>79061520</td>\n",
       "      <td>79535040</td>\n",
       "      <td>[1.1034896530762963, 1.261074910541601, 1.2935...</td>\n",
       "      <td>1.641276</td>\n",
       "      <td>124.312637</td>\n",
       "      <td>False</td>\n",
       "      <td>/mnt/sphere/speech_bci/raw_data/s_b1238_22/202...</td>\n",
       "      <td>9865</td>\n",
       "      <td>[[1647115, 1647150], [1648060, 1648090], [1648...</td>\n",
       "      <td>20</td>\n",
       "      <td>[3, 122, 132, 150, 172, 194, 289, 344, 358, 36...</td>\n",
       "      <td>91</td>\n",
       "      <td>108.406593</td>\n",
       "      <td>[-7, -5, -4, -5, -1, -1, -3, -8, -12, -10, -10...</td>\n",
       "      <td>True</td>\n",
       "      <td>True</td>\n",
       "      <td>[[0.0, 0.0, 0.0, 0.0, 0.0, 0.0, 0.0, 0.0, 0.0,...</td>\n",
       "      <td>False</td>\n",
       "    </tr>\n",
       "  </tbody>\n",
       "</table>\n",
       "</div>"
      ],
      "text/plain": [
       "   start_ms   end_ms  start_sample  end_sample  \\\n",
       "0   1772690  1781715      85089120    85522320   \n",
       "1   1793070  1799925      86067360    86396400   \n",
       "2      3005    10460        144240      502080   \n",
       "3    144815   157165       6951120     7543920   \n",
       "4   1647115  1656980      79061520    79535040   \n",
       "\n",
       "                                              p_step     rms_p      peak_p  \\\n",
       "0  [0.8992322534584924, 9.897367501899893, 9.4748...  2.359551  182.680045   \n",
       "1  [6.184213799374133, 5.3566748510823565, 13.362...  2.359551  267.096691   \n",
       "2  [0.887261381666812, 1.3398271004562607, 4.4853...  1.675094  120.070598   \n",
       "3  [0.41380735035998034, 0.5234897127529178, 0.58...  1.098511    5.122523   \n",
       "4  [1.1034896530762963, 1.261074910541601, 1.2935...  1.641276  124.312637   \n",
       "\n",
       "   bout_check                                               file  len_ms  \\\n",
       "0       False  /mnt/sphere/speech_bci/raw_data/s_b1238_22/202...    9025   \n",
       "1       False  /mnt/sphere/speech_bci/raw_data/s_b1238_22/202...    6855   \n",
       "2       False  /mnt/sphere/speech_bci/raw_data/s_b1238_22/202...    7455   \n",
       "3       False  /mnt/sphere/speech_bci/raw_data/s_b1238_22/202...   12350   \n",
       "4       False  /mnt/sphere/speech_bci/raw_data/s_b1238_22/202...    9865   \n",
       "\n",
       "                                              syl_in  n_syl  \\\n",
       "0  [[1772690, 1772740], [1772845, 1772910], [1773...     18   \n",
       "1  [[1793070, 1793125], [1793165, 1793350], [1793...     20   \n",
       "2  [[3005, 3045], [4665, 4765], [5290, 5330], [53...     15   \n",
       "3  [[144815, 145765], [146815, 147765], [148815, ...     11   \n",
       "4  [[1647115, 1647150], [1648060, 1648090], [1648...     20   \n",
       "\n",
       "                                             peaks_p  n_peaks   l_p_ratio  \\\n",
       "0  [1, 9, 33, 42, 61, 102, 121, 239, 247, 254, 34...       54  167.129630   \n",
       "1  [5, 14, 22, 31, 38, 52, 61, 68, 79, 105, 135, ...       58  118.189655   \n",
       "2  [3, 334, 343, 355, 371, 396, 407, 458, 478, 49...       59  126.355932   \n",
       "3  [3, 12, 33, 40, 47, 54, 61, 72, 82, 89, 100, 1...       94  131.382979   \n",
       "4  [3, 122, 132, 150, 172, 194, 289, 344, 358, 36...       91  108.406593   \n",
       "\n",
       "                                            waveform  valid_waveform  valid  \\\n",
       "0  [6, 5, 5, 5, 4, 5, 5, 5, 5, 5, 5, 6, 5, 4, 3, ...            True   True   \n",
       "1  [12, 11, 11, 12, 12, 12, 12, 11, 10, 8, 8, 9, ...            True   True   \n",
       "2  [-3, -2, -3, -2, -6, -9, -8, -10, -12, -14, -1...            True   True   \n",
       "3  [11, 10, 10, 7, 6, 5, 3, 2, 2, 3, 2, 3, 4, 3, ...            True   True   \n",
       "4  [-7, -5, -4, -5, -1, -1, -3, -8, -12, -10, -10...            True   True   \n",
       "\n",
       "                                         spectrogram  confusing  \n",
       "0  [[0.0, 0.0, 0.0, 0.0, 0.0, 0.0, 0.0, 0.0, 0.0,...      False  \n",
       "1  [[0.0, 0.0, 0.0, 0.0, 0.0, 0.0, 0.0, 0.0, 0.0,...      False  \n",
       "2  [[0.0, 0.0, 0.0, 0.0, 0.0, 0.0, 0.0, 0.0, 0.0,...      False  \n",
       "3  [[0.0, 0.0, 0.0, 0.0, 0.0, 0.0, 0.0, 0.0, 0.0,...      False  \n",
       "4  [[0.0, 0.0, 0.0, 0.0, 0.0, 0.0, 0.0, 0.0, 0.0,...      False  "
      ]
     },
     "execution_count": 87,
     "metadata": {},
     "output_type": "execute_result"
    }
   ],
   "source": [
    "viz_bout.bouts_pd.head(5)"
   ]
  },
  {
   "cell_type": "code",
   "execution_count": null,
   "id": "fleet-contract",
   "metadata": {},
   "outputs": [],
   "source": []
  },
  {
   "cell_type": "code",
   "execution_count": null,
   "id": "streaming-stylus",
   "metadata": {},
   "outputs": [],
   "source": []
  }
 ],
 "metadata": {
  "kernelspec": {
   "display_name": "ceciestunepipe",
   "language": "python",
   "name": "ceciestunepipe"
  },
  "language_info": {
   "codemirror_mode": {
    "name": "ipython",
    "version": 3
   },
   "file_extension": ".py",
   "mimetype": "text/x-python",
   "name": "python",
   "nbconvert_exporter": "python",
   "pygments_lexer": "ipython3",
   "version": "3.8.10"
  }
 },
 "nbformat": 4,
 "nbformat_minor": 5
}
