{
 "cells": [
  {
   "cell_type": "markdown",
   "metadata": {},
   "source": [
    "# Pre-processing pipeline for spikeglx sessions, zebra finch / starling\n",
    "- For every run in the session:\n",
    " - Load the recordings\n",
    " - Extract wav chan with micrhopohone and make a wav chan with the nidq syn signal\n",
    " - Get the sync events for the nidq sync channel\n",
    " \n",
    " - Do bout detection\n",
    " \n",
    "In another notebook, bout detection is curated\n",
    "- Left to decide where to:\n",
    "    - Sort spikes\n",
    "    - Sync the spikes/lfp/nidq\n",
    "    - make and plot 'bout rasters'"
   ]
  },
  {
   "cell_type": "code",
   "execution_count": 1,
   "metadata": {},
   "outputs": [],
   "source": [
    "%matplotlib inline\n",
    "import os\n",
    "import glob\n",
    "import logging\n",
    "import pickle\n",
    "import numpy as np\n",
    "import pandas as pd\n",
    "from scipy.io import wavfile\n",
    "from scipy import signal\n",
    "import traceback\n",
    "import warnings\n",
    "\n",
    "from matplotlib import pyplot as plt\n",
    "from importlib import reload\n",
    "\n",
    "logger = logging.getLogger()\n",
    "handler = logging.StreamHandler()\n",
    "formatter = logging.Formatter(\n",
    "        '%(asctime)s %(name)-12s %(levelname)-8s %(message)s')\n",
    "handler.setFormatter(formatter)\n",
    "logger.addHandler(handler)\n",
    "logger.setLevel(logging.INFO)\n"
   ]
  },
  {
   "cell_type": "code",
   "execution_count": 2,
   "metadata": {},
   "outputs": [],
   "source": [
    "from ceciestunepipe.file import bcistructure as et\n",
    "from ceciestunepipe.util import sglxutil as sglu\n",
    "from ceciestunepipe.util import rigutil as ru\n",
    "from ceciestunepipe.util import wavutil as wu\n",
    "from ceciestunepipe.util import syncutil as su\n",
    "from ceciestunepipe.util import stimutil as st\n",
    "from ceciestunepipe.util.sound import boutsearch as bs\n",
    "from ceciestunepipe.pipeline import searchbout as sb\n",
    "\n",
    "from ceciestunepipe.util.spikeextractors import preprocess as pre\n",
    "from ceciestunepipe.util.spikeextractors.extractors.spikeglxrecordingextractor import readSGLX as rsgl\n",
    "from ceciestunepipe.util.spikeextractors.extractors.spikeglxrecordingextractor import spikeglxrecordingextractor as sglex"
   ]
  },
  {
   "cell_type": "code",
   "execution_count": 3,
   "metadata": {},
   "outputs": [
    {
     "name": "stderr",
     "output_type": "stream",
     "text": [
      "2022-05-14 20:41:20,832 root         INFO     all modules loaded\n"
     ]
    }
   ],
   "source": [
    "import spikeinterface as si\n",
    "import spikeinterface.extractors as se\n",
    "import spikeinterface.toolkit as st\n",
    "import spikeinterface.sorters as ss\n",
    "import spikeinterface.comparison as sc\n",
    "import spikeinterface.widgets as sw\n",
    "logger.info('all modules loaded')"
   ]
  },
  {
   "cell_type": "markdown",
   "metadata": {},
   "source": [
    "## Session parameters and raw files"
   ]
  },
  {
   "cell_type": "markdown",
   "metadata": {},
   "source": [
    "#### list all the sessions for this bird"
   ]
  },
  {
   "cell_type": "code",
   "execution_count": 4,
   "metadata": {},
   "outputs": [
    {
     "name": "stderr",
     "output_type": "stream",
     "text": [
      "2022-05-14 20:41:21,359 root         INFO     all sessions for bird are ['2022-01-07', '2022-01-08', '2022-01-09', '2022-01-10', '2022-01-11', '2022-01-12', '2022-01-13', '2022-01-14', '2022-01-15', '2022-01-16', '2022-01-17', '2022-01-18', '2022-01-19', '2022-01-20', '2022-01-21', '2022-01-22', '2022-01-23', '2022-01-24', '2022-01-25', '2022-01-26', '2022-01-27', '2022-01-28', '2022-01-29', '2022-01-30', '2022-01-31', '2022-02-01', '2022-02-02', '2022-02-03', '2022-02-04', '2022-02-05', '2022-02-06', '2022-02-07', '2022-02-08', '2022-02-09', '2022-02-10', '2022-02-11', '2022-02-12', '2022-02-13', '2022-02-14', '2022-02-15', '2022-02-16', '2022-02-17', '2022-02-18', '2022-02-19', '2022-02-20', '2022-02-21', '2022-02-22', '2022-02-23', '2022-02-24', '2022-02-25', '2022-02-26', '2022-02-27', '2022-02-28', '2022-03-01', '2022-03-02', '2022-03-03', '2022-03-04', '2022-03-05', '2022-03-06', '2022-03-07', '2022-03-08', '2022-03-09', '2022-03-10', '2022-03-11', '2022-03-12', '2022-03-13', '2022-03-14', '2022-03-15', '2022-03-16', '2022-03-17']\n"
     ]
    }
   ],
   "source": [
    "bird = 's_b1238_22'\n",
    "all_bird_sess = et.list_sessions(bird)\n",
    "logger.info('all sessions for bird are {}'.format(all_bird_sess))"
   ]
  },
  {
   "cell_type": "markdown",
   "metadata": {},
   "source": [
    "### set up bird and sessions parameters\n",
    "this will define:\n",
    "- locations of files (for the bird)\n",
    "- signals and channels to look for in the metadata of the files and in the rig.json parameter file: Note that this have to exist in all of the sessions that will be processed\n",
    "- 'sess' is unimportant here, but it comes handy if there is need to debug usin a single session"
   ]
  },
  {
   "cell_type": "code",
   "execution_count": 5,
   "metadata": {},
   "outputs": [],
   "source": [
    "reload(et)\n",
    "# for one example session\n",
    "\n",
    "sess_par = {'bird': 's_b1238_22',\n",
    "           'sess': '2022-02-12',\n",
    "           'probes': ['probe_0'], #probes of interest\n",
    "           'mic_list': ['microphone_0'], #list of mics of interest, by signal name in rig.json\n",
    "           'stim_list': ['wav_syn'], # list of adc chans with the stimulus\n",
    "           'nidq_ttl_list': ['wav_ttl'], # list of TTL signals form the nidq digital inputs to extract (besides the 'sync')\n",
    "           'sort': 2, #label for this sort instance\n",
    "           }\n",
    "\n",
    "exp_struct = et.get_exp_struct(sess_par['bird'], sess_par['sess'], sort=sess_par['sort'])\n",
    "\n",
    "ksort_folder = exp_struct['folders']['ksort']\n",
    "raw_folder = exp_struct['folders']['sglx']"
   ]
  },
  {
   "cell_type": "markdown",
   "metadata": {},
   "source": [
    "list all the epochs in a session, to check that it is finding what it has to find"
   ]
  },
  {
   "cell_type": "code",
   "execution_count": 6,
   "metadata": {},
   "outputs": [
    {
     "name": "stderr",
     "output_type": "stream",
     "text": [
      "2022-05-14 20:41:26,829 ceciestunepipe.file.bcistructure INFO     {'folders': {'bird': '/mnt/sphere/speech_bci/raw_data/s_b1238_22', 'raw': '/mnt/sphere/speech_bci/raw_data/s_b1238_22/2022-02-12', 'sglx': '/mnt/sphere/speech_bci/raw_data/s_b1238_22/2022-02-12/sglx', 'kwik': '/scratch/earneodo/s_b1238_22/sglx/kwik/2022-02-12', 'processed': '/mnt/sphere/speech_bci/processed_data/s_b1238_22/2022-02-12/sglx', 'derived': '/mnt/sphere/speech_bci/derived_data/s_b1238_22/2022-02-12/sglx', 'tmp': '/scratch/earneodo/tmp', 'msort': '/scratch/earneodo/s_b1238_22/sglx/msort/2022-02-12', 'ksort': '/scratch/earneodo/s_b1238_22/sglx/ksort/2022-02-12/2', 'sort': '/mnt/sphere/speech_bci/derived_data/s_b1238_22/2022-02-12/sglx/2'}, 'files': {'par': '/scratch/earneodo/s_b1238_22/sglx/ksort/2022-02-12/2/params.json', 'set': '/mnt/sphere/speech_bci/raw_data/s_b1238_22/2022-02-12/sglx/settings.isf', 'rig': '/mnt/sphere/speech_bci/raw_data/s_b1238_22/2022-02-12/sglx/rig.json', 'kwd': '/scratch/earneodo/s_b1238_22/sglx/kwik/2022-02-12/stream.kwd', 'kwik': '/scratch/earneodo/s_b1238_22/sglx/kwik/2022-02-12/sort_2/spikes.kwik', 'kwe': '/scratch/earneodo/s_b1238_22/sglx/kwik/2022-02-12/events.kwe', 'dat_mic': '/mnt/sphere/speech_bci/processed_data/s_b1238_22/2022-02-12/sglx/dat_mic.mat', 'dat_ap': '/mnt/sphere/speech_bci/processed_data/s_b1238_22/2022-02-12/sglx/dat_ap.mat', 'allevents': '/mnt/sphere/speech_bci/processed_data/s_b1238_22/2022-02-12/sglx/dat_all.pkl', 'wav_mic': '/mnt/sphere/speech_bci/derived_data/s_b1238_22/2022-02-12/sglx/wav_mic.wav', 'mda_raw': '/scratch/earneodo/s_b1238_22/sglx/msort/2022-02-12/raw.mda', 'bin_raw': '/scratch/earneodo/s_b1238_22/sglx/ksort/2022-02-12/2/raw.bin'}}\n"
     ]
    },
    {
     "data": {
      "text/plain": [
       "['0716_g0', '1141_stim_g0', '1607_g0', '2212_g0']"
      ]
     },
     "execution_count": 6,
     "metadata": {},
     "output_type": "execute_result"
    }
   ],
   "source": [
    "sess_epochs = et.list_sgl_epochs(sess_par)\n",
    "sess_epochs"
   ]
  },
  {
   "cell_type": "markdown",
   "metadata": {},
   "source": [
    "#### define pre-processing steps for each epoch and for the session"
   ]
  },
  {
   "cell_type": "markdown",
   "metadata": {},
   "source": [
    "###### for preprocessing one single epoch"
   ]
  },
  {
   "cell_type": "code",
   "execution_count": 7,
   "metadata": {
    "scrolled": true,
    "tags": []
   },
   "outputs": [
    {
     "name": "stderr",
     "output_type": "stream",
     "text": [
      "2022-05-14 20:41:35,089 ceciestunepipe.util.spikeextractors.preprocess INFO     PREPROCESSING sess 2022-02-12 | epoch 1607_g0\n",
      "2022-05-14 20:41:35,090 ceciestunepipe.util.spikeextractors.preprocess INFO     getting extractors\n",
      "2022-05-14 20:41:35,124 ceciestunepipe.util.spikeextractors.preprocess INFO     Got sglx recordings for keys ['nidq', 'lf_0', 'ap_0']\n",
      "2022-05-14 20:41:35,125 ceciestunepipe.util.spikeextractors.preprocess INFO     Getting microphone channel(s) ['microphone_0']\n",
      "2022-05-14 20:41:35,126 ceciestunepipe.util.wavutil INFO     sampling rate 40000\n",
      "2022-05-14 20:41:35,126 ceciestunepipe.util.wavutil INFO     saving (1, 872783924)-shaped array as wav in /mnt/sphere/speech_bci/derived_data/s_b1238_22/2022-02-12/sglx/1607_g0/wav_mic.wav\n",
      "2022-05-14 20:41:50,774 ceciestunepipe.util.wavutil INFO     saving (1, 872783924)-shaped array as npy in /mnt/sphere/speech_bci/derived_data/s_b1238_22/2022-02-12/sglx/1607_g0/wav_mic.npy\n",
      "2022-05-14 20:42:07,672 ceciestunepipe.util.spikeextractors.preprocess INFO     Getting stimulus channel(s) ['wav_syn']\n",
      "2022-05-14 20:42:07,674 ceciestunepipe.util.wavutil INFO     sampling rate 40000\n",
      "2022-05-14 20:42:07,675 ceciestunepipe.util.wavutil INFO     saving (1, 872783924)-shaped array as wav in /mnt/sphere/speech_bci/derived_data/s_b1238_22/2022-02-12/sglx/1607_g0/wav_stim.wav\n",
      "2022-05-14 20:42:11,103 ceciestunepipe.util.wavutil INFO     saving (1, 872783924)-shaped array as npy in /mnt/sphere/speech_bci/derived_data/s_b1238_22/2022-02-12/sglx/1607_g0/wav_stim.npy\n",
      "2022-05-14 20:42:28,377 ceciestunepipe.util.spikeextractors.preprocess INFO     Getting the onset/offset of stimuli from the 0 extracted analog channel\n",
      "2022-05-14 20:42:29,700 ceciestunepipe.util.stimutil INFO     found 0.0 events\n",
      "2022-05-14 20:42:29,729 ceciestunepipe.util.spikeextractors.preprocess INFO     saved onset/offset of trial events from the sine wave in /mnt/sphere/speech_bci/derived_data/s_b1238_22/2022-02-12/sglx/1607_g0/wav_stim_sync_sine_ttl_evt.npy\n",
      "2022-05-14 20:42:29,730 ceciestunepipe.util.spikeextractors.preprocess INFO     Getting sync channel(s) from nidaq streams: ['sync']\n",
      "2022-05-14 20:42:29,731 ceciestunepipe.util.spikeextractors.extractors.spikeglxrecordingextractor.spikeglxrecordingextractor INFO     getting ttl traces, chan [0 1 2 3 4 5 6 7]\n",
      "2022-05-14 20:43:58,657 ceciestunepipe.util.wavutil INFO     sampling rate 40000\n",
      "2022-05-14 20:43:58,658 ceciestunepipe.util.wavutil INFO     saving (1, 872783924)-shaped array as wav in /mnt/sphere/speech_bci/derived_data/s_b1238_22/2022-02-12/sglx/1607_g0/wav_sync.wav\n",
      "2022-05-14 20:44:01,175 ceciestunepipe.util.wavutil INFO     saving (1, 872783924)-shaped array as npy in /mnt/sphere/speech_bci/derived_data/s_b1238_22/2022-02-12/sglx/1607_g0/wav_sync.npy\n",
      "2022-05-14 20:44:03,615 ceciestunepipe.util.spikeextractors.preprocess INFO     Getting sync events from the wav sync channel\n",
      "2022-05-14 20:44:15,183 ceciestunepipe.util.spikeextractors.preprocess INFO     saving sync events of the wav channel to /mnt/sphere/speech_bci/derived_data/s_b1238_22/2022-02-12/sglx/1607_g0/wav_sync_evt.npy\n",
      "2022-05-14 20:44:15,208 ceciestunepipe.util.spikeextractors.preprocess INFO     saving t0 for wav channel to /mnt/sphere/speech_bci/derived_data/s_b1238_22/2022-02-12/sglx/1607_g0/wav_t0.npy\n",
      "2022-05-14 20:45:49,119 ceciestunepipe.util.spikeextractors.preprocess INFO     Will get 1 ttl signals\n",
      "2022-05-14 20:45:49,120 ceciestunepipe.util.spikeextractors.preprocess INFO     looking for signal wav_ttl in the nidaq channels\n",
      "2022-05-14 20:45:49,121 ceciestunepipe.util.spikeextractors.preprocess INFO     found in chan 2\n",
      "2022-05-14 20:45:49,122 ceciestunepipe.util.spikeextractors.extractors.spikeglxrecordingextractor.spikeglxrecordingextractor INFO     getting ttl events, chan 2\n",
      "2022-05-14 20:48:45,524 ceciestunepipe.util.spikeextractors.preprocess INFO     saving (0, 2)-shaped array as npy in /mnt/sphere/speech_bci/derived_data/s_b1238_22/2022-02-12/sglx/1607_g0/wav_ttl_evt.npy\n",
      "2022-05-14 20:48:45,548 ceciestunepipe.util.spikeextractors.preprocess INFO     saving sync nidaq dict to /mnt/sphere/speech_bci/derived_data/s_b1238_22/2022-02-12/sglx/1607_g0/wav_sync_dict.pkl\n",
      "2022-05-14 20:48:45,550 ceciestunepipe.util.spikeextractors.preprocess INFO     Getting sync signals for imec streams: ['lf_0', 'ap_0']\n",
      "2022-05-14 20:48:45,551 ceciestunepipe.util.spikeextractors.preprocess INFO     getting syn patterns for lf_0\n",
      "2022-05-14 20:48:45,552 ceciestunepipe.util.spikeextractors.preprocess INFO     File /mnt/sphere/speech_bci/derived_data/s_b1238_22/2022-02-12/sglx/1607_g0/lf_0_sync_dict.pkl not found or forced computation, getting the events\n",
      "2022-05-14 20:48:45,553 ceciestunepipe.util.spikeextractors.extractors.spikeglxrecordingextractor.spikeglxrecordingextractor INFO     getting ttl events, chan 0\n",
      "2022-05-14 20:48:45,554 ceciestunepipe.util.spikeextractors.extractors.readSGLX INFO     Extracting digital on imec stream: there is only one channel, if any (SYN) and will be converted from an int16 channel \n",
      "2022-05-14 20:48:45,556 ceciestunepipe.util.spikeextractors.extractors.readSGLX INFO     allocated array for syn channel of size (54550061,)\n",
      "2022-05-14 20:49:50,579 ceciestunepipe.util.spikeextractors.extractors.readSGLX INFO     Threshold for logical hi is 0\n",
      "/mnt/cube/earneodo/repos/ceciestunepipe/ceciestunepipe/util/spikeextractors/extractors/spikeglxrecordingextractor/readSGLX.py:310: UserWarning: There were 3 errors in the recording\n",
      "  warnings.warn('There were {} errors in the recording'.format(n_errors))\n",
      "/mnt/cube/earneodo/repos/ceciestunepipe/ceciestunepipe/util/spikeextractors/extractors/spikeglxrecordingextractor/readSGLX.py:311: UserWarning: You probably want to check those\n",
      "  warnings.warn('You probably want to check those')\n",
      "2022-05-14 20:50:11,681 ceciestunepipe.util.spikeextractors.preprocess INFO     saving events array to /mnt/sphere/speech_bci/derived_data/s_b1238_22/2022-02-12/sglx/1607_g0/lf_0_sync_evt.npy\n",
      "2022-05-14 20:50:11,692 ceciestunepipe.util.spikeextractors.preprocess INFO     saving t_0 array to /mnt/sphere/speech_bci/derived_data/s_b1238_22/2022-02-12/sglx/1607_g0/lf_0_t0.npy\n",
      "2022-05-14 20:50:12,338 ceciestunepipe.util.spikeextractors.preprocess INFO     saving sync dict to /mnt/sphere/speech_bci/derived_data/s_b1238_22/2022-02-12/sglx/1607_g0/lf_0_sync_dict.pkl\n",
      "2022-05-14 20:50:12,340 ceciestunepipe.util.spikeextractors.preprocess INFO     loading syn_dict from /mnt/sphere/speech_bci/derived_data/s_b1238_22/2022-02-12/sglx/1607_g0/lf_0_sync_dict.pkl\n",
      "2022-05-14 20:50:12,346 ceciestunepipe.util.spikeextractors.preprocess INFO     getting syn patterns for ap_0\n",
      "2022-05-14 20:50:12,347 ceciestunepipe.util.spikeextractors.preprocess INFO     File /mnt/sphere/speech_bci/derived_data/s_b1238_22/2022-02-12/sglx/1607_g0/ap_0_sync_dict.pkl not found or forced computation, getting the events\n",
      "2022-05-14 20:50:12,348 ceciestunepipe.util.spikeextractors.extractors.spikeglxrecordingextractor.spikeglxrecordingextractor INFO     getting ttl events, chan 0\n",
      "2022-05-14 20:50:12,349 ceciestunepipe.util.spikeextractors.extractors.readSGLX INFO     Extracting digital on imec stream: there is only one channel, if any (SYN) and will be converted from an int16 channel \n",
      "2022-05-14 20:50:12,349 ceciestunepipe.util.spikeextractors.extractors.readSGLX INFO     allocated array for syn channel of size (654600727,)\n",
      "2022-05-14 21:03:28,712 ceciestunepipe.util.spikeextractors.extractors.readSGLX INFO     Threshold for logical hi is 0\n",
      "/mnt/cube/earneodo/repos/ceciestunepipe/ceciestunepipe/util/spikeextractors/extractors/spikeglxrecordingextractor/readSGLX.py:310: UserWarning: There were 12 errors in the recording\n",
      "  warnings.warn('There were {} errors in the recording'.format(n_errors))\n",
      "/mnt/cube/earneodo/repos/ceciestunepipe/ceciestunepipe/util/spikeextractors/extractors/spikeglxrecordingextractor/readSGLX.py:311: UserWarning: You probably want to check those\n",
      "  warnings.warn('You probably want to check those')\n",
      "2022-05-14 21:05:00,486 ceciestunepipe.util.spikeextractors.preprocess INFO     saving events array to /mnt/sphere/speech_bci/derived_data/s_b1238_22/2022-02-12/sglx/1607_g0/ap_0_sync_evt.npy\n",
      "2022-05-14 21:05:00,514 ceciestunepipe.util.spikeextractors.preprocess INFO     saving t_0 array to /mnt/sphere/speech_bci/derived_data/s_b1238_22/2022-02-12/sglx/1607_g0/ap_0_t0.npy\n"
     ]
    },
    {
     "name": "stderr",
     "output_type": "stream",
     "text": [
      "2022-05-14 21:05:07,775 ceciestunepipe.util.spikeextractors.preprocess INFO     saving sync dict to /mnt/sphere/speech_bci/derived_data/s_b1238_22/2022-02-12/sglx/1607_g0/ap_0_sync_dict.pkl\n",
      "2022-05-14 21:05:07,777 ceciestunepipe.util.spikeextractors.preprocess INFO     loading syn_dict from /mnt/sphere/speech_bci/derived_data/s_b1238_22/2022-02-12/sglx/1607_g0/ap_0_sync_dict.pkl\n",
      "2022-05-14 21:05:07,782 ceciestunepipe.util.spikeextractors.preprocess INFO     getting syn patterns for nidq\n",
      "2022-05-14 21:05:07,783 ceciestunepipe.util.spikeextractors.preprocess INFO     loading syn_dict from /mnt/sphere/speech_bci/derived_data/s_b1238_22/2022-02-12/sglx/1607_g0/nidq_sync_dict.pkl\n",
      "2022-05-14 21:05:07,905 ceciestunepipe.util.spikeextractors.preprocess INFO     getting syn patterns for wav\n",
      "2022-05-14 21:05:07,930 ceciestunepipe.util.spikeextractors.preprocess INFO     loading syn_dict from /mnt/sphere/speech_bci/derived_data/s_b1238_22/2022-02-12/sglx/1607_g0/wav_sync_dict.pkl\n",
      "2022-05-14 21:05:08,445 ceciestunepipe.util.spikeextractors.preprocess INFO     saved epoch preprocessing parameters to /mnt/sphere/speech_bci/derived_data/s_b1238_22/2022-02-12/sglx/1607_g0/preprocess_par.pickle\n"
     ]
    }
   ],
   "source": [
    "reload(pre)\n",
    "one_epoch_dict = pre.preprocess_run(sess_par, exp_struct, sess_epochs[2])"
   ]
  },
  {
   "cell_type": "code",
   "execution_count": 8,
   "metadata": {
    "scrolled": true,
    "tags": []
   },
   "outputs": [],
   "source": [
    "### sequentially process all runs of the sessions\n",
    "def preprocess_session(sess_par: dict):\n",
    "    logger.info('pre-process all runs of sess ' + sess_par['sess'])\n",
    "    # get exp struct\n",
    "    sess_struct = et.get_exp_struct(sess_par['bird'], sess_par['sess'], sort=sess_par['sort'])\n",
    "    # list the epochs\n",
    "    sess_epochs = et.list_sgl_epochs(sess_par)\n",
    "    logger.info('found epochs: {}'.format(sess_epochs))\n",
    "    # preprocess all epochs\n",
    "    epoch_dict_list = []\n",
    "    for i_ep, epoch in enumerate(sess_epochs):\n",
    "        try:\n",
    "            exp_struct = et.sgl_struct(sess_par, epoch)\n",
    "            one_epoch_dict = pre.preprocess_run(sess_par, exp_struct, epoch)\n",
    "            epoch_dict_list.append(one_epoch_dict)\n",
    "        except Exception as exc:\n",
    "            warnings.warn('Error in epoch {}'.format(epoch), UserWarning)\n",
    "            logger.info(traceback.format_exc)\n",
    "            logger.info(exc)\n",
    "            logger.info('Session {} epoch {} could not be preprocessed'.format(sess_par['sess'], epoch))\n",
    "        \n",
    "    return epoch_dict_list\n",
    "\n",
    "#all_epoch_list = preprocess_session(sess_par)"
   ]
  },
  {
   "cell_type": "markdown",
   "metadata": {},
   "source": [
    "## Process multiple sessions"
   ]
  },
  {
   "cell_type": "code",
   "execution_count": 9,
   "metadata": {
    "tags": []
   },
   "outputs": [],
   "source": [
    "sess_list = all_bird_sess\n",
    "# fist implant, right hemisphere\n",
    "#sess_list = ['2021-06-24', '2021-06-25', '2021-06-26', '2021-06-27', '2021-06-28', '2021-06-29', '2021-06-30']\n",
    "sess_list = ['2022-01-17', '2022-01-18', '2022-01-19', '2022-01-20', # RH RA\n",
    "             '2022-01-26', '2022-01-27','2022-01-28', '2022-01-29', '2022-01-30', #LH RA\n",
    "            '2022-02-11', '2022-01-12', '2022-01-13'] #LH NCM\n",
    "\n",
    "sess_list_ncm = ['2022-02-12']"
   ]
  },
  {
   "cell_type": "code",
   "execution_count": 10,
   "metadata": {},
   "outputs": [],
   "source": [
    "sess_list = [sess_list[5]]"
   ]
  },
  {
   "cell_type": "code",
   "execution_count": 11,
   "metadata": {},
   "outputs": [
    {
     "data": {
      "text/plain": [
       "['2022-01-27']"
      ]
     },
     "execution_count": 11,
     "metadata": {},
     "output_type": "execute_result"
    }
   ],
   "source": [
    "sess_list"
   ]
  },
  {
   "cell_type": "code",
   "execution_count": 12,
   "metadata": {
    "scrolled": false,
    "tags": []
   },
   "outputs": [
    {
     "name": "stderr",
     "output_type": "stream",
     "text": [
      "2022-05-14 21:05:08,512 root         INFO     pre-process all runs of sess 2022-01-27\n",
      "2022-05-14 21:05:08,513 ceciestunepipe.file.bcistructure INFO     {'folders': {'bird': '/mnt/sphere/speech_bci/raw_data/s_b1238_22', 'raw': '/mnt/sphere/speech_bci/raw_data/s_b1238_22/2022-01-27', 'sglx': '/mnt/sphere/speech_bci/raw_data/s_b1238_22/2022-01-27/sglx', 'kwik': '/scratch/earneodo/s_b1238_22/sglx/kwik/2022-01-27', 'processed': '/mnt/sphere/speech_bci/processed_data/s_b1238_22/2022-01-27/sglx', 'derived': '/mnt/sphere/speech_bci/derived_data/s_b1238_22/2022-01-27/sglx', 'tmp': '/scratch/earneodo/tmp', 'msort': '/scratch/earneodo/s_b1238_22/sglx/msort/2022-01-27', 'ksort': '/scratch/earneodo/s_b1238_22/sglx/ksort/2022-01-27/2', 'sort': '/mnt/sphere/speech_bci/derived_data/s_b1238_22/2022-01-27/sglx/2'}, 'files': {'par': '/scratch/earneodo/s_b1238_22/sglx/ksort/2022-01-27/2/params.json', 'set': '/mnt/sphere/speech_bci/raw_data/s_b1238_22/2022-01-27/sglx/settings.isf', 'rig': '/mnt/sphere/speech_bci/raw_data/s_b1238_22/2022-01-27/sglx/rig.json', 'kwd': '/scratch/earneodo/s_b1238_22/sglx/kwik/2022-01-27/stream.kwd', 'kwik': '/scratch/earneodo/s_b1238_22/sglx/kwik/2022-01-27/sort_2/spikes.kwik', 'kwe': '/scratch/earneodo/s_b1238_22/sglx/kwik/2022-01-27/events.kwe', 'dat_mic': '/mnt/sphere/speech_bci/processed_data/s_b1238_22/2022-01-27/sglx/dat_mic.mat', 'dat_ap': '/mnt/sphere/speech_bci/processed_data/s_b1238_22/2022-01-27/sglx/dat_ap.mat', 'allevents': '/mnt/sphere/speech_bci/processed_data/s_b1238_22/2022-01-27/sglx/dat_all.pkl', 'wav_mic': '/mnt/sphere/speech_bci/derived_data/s_b1238_22/2022-01-27/sglx/wav_mic.wav', 'mda_raw': '/scratch/earneodo/s_b1238_22/sglx/msort/2022-01-27/raw.mda', 'bin_raw': '/scratch/earneodo/s_b1238_22/sglx/ksort/2022-01-27/2/raw.bin'}}\n",
      "2022-05-14 21:05:08,517 root         INFO     found epochs: ['0605_g0', '1154_g0', '1722_g0', '2005_g0', '2135_nightstim_g0']\n",
      "2022-05-14 21:05:08,517 ceciestunepipe.util.spikeextractors.preprocess INFO     PREPROCESSING sess 2022-01-27 | epoch 0605_g0\n",
      "2022-05-14 21:05:08,518 ceciestunepipe.util.spikeextractors.preprocess INFO     getting extractors\n",
      "2022-05-14 21:05:08,551 ceciestunepipe.util.spikeextractors.preprocess INFO     Got sglx recordings for keys ['nidq', 'lf_0', 'ap_0']\n",
      "2022-05-14 21:05:08,551 ceciestunepipe.util.spikeextractors.preprocess INFO     Getting microphone channel(s) ['microphone_0']\n",
      "2022-05-14 21:05:08,552 ceciestunepipe.util.wavutil INFO     sampling rate 40000\n",
      "2022-05-14 21:05:08,553 ceciestunepipe.util.wavutil INFO     saving (1, 834494107)-shaped array as wav in /mnt/sphere/speech_bci/derived_data/s_b1238_22/2022-01-27/sglx/0605_g0/wav_mic.wav\n",
      "2022-05-14 21:05:27,433 ceciestunepipe.util.wavutil INFO     saving (1, 834494107)-shaped array as npy in /mnt/sphere/speech_bci/derived_data/s_b1238_22/2022-01-27/sglx/0605_g0/wav_mic.npy\n",
      "2022-05-14 21:05:43,504 ceciestunepipe.util.spikeextractors.preprocess INFO     Getting stimulus channel(s) ['wav_syn']\n",
      "2022-05-14 21:05:43,506 ceciestunepipe.util.wavutil INFO     sampling rate 40000\n",
      "2022-05-14 21:05:43,507 ceciestunepipe.util.wavutil INFO     saving (1, 834494107)-shaped array as wav in /mnt/sphere/speech_bci/derived_data/s_b1238_22/2022-01-27/sglx/0605_g0/wav_stim.wav\n",
      "2022-05-14 21:05:46,724 ceciestunepipe.util.wavutil INFO     saving (1, 834494107)-shaped array as npy in /mnt/sphere/speech_bci/derived_data/s_b1238_22/2022-01-27/sglx/0605_g0/wav_stim.npy\n",
      "2022-05-14 21:06:02,699 ceciestunepipe.util.spikeextractors.preprocess INFO     Getting the onset/offset of stimuli from the 0 extracted analog channel\n",
      "2022-05-14 21:06:29,885 ceciestunepipe.util.stimutil INFO     found 0.0 events\n",
      "2022-05-14 21:06:29,899 ceciestunepipe.util.spikeextractors.preprocess INFO     saved onset/offset of trial events from the sine wave in /mnt/sphere/speech_bci/derived_data/s_b1238_22/2022-01-27/sglx/0605_g0/wav_stim_sync_sine_ttl_evt.npy\n",
      "2022-05-14 21:06:29,899 ceciestunepipe.util.spikeextractors.preprocess INFO     Getting sync channel(s) from nidaq streams: ['sync']\n",
      "2022-05-14 21:06:29,900 ceciestunepipe.util.spikeextractors.extractors.spikeglxrecordingextractor.spikeglxrecordingextractor INFO     getting ttl traces, chan [0 1 2 3 4 5 6 7]\n",
      "2022-05-14 21:09:44,879 ceciestunepipe.util.wavutil INFO     sampling rate 40000\n",
      "2022-05-14 21:09:44,883 ceciestunepipe.util.wavutil INFO     saving (1, 834494107)-shaped array as wav in /mnt/sphere/speech_bci/derived_data/s_b1238_22/2022-01-27/sglx/0605_g0/wav_sync.wav\n",
      "2022-05-14 21:09:47,888 ceciestunepipe.util.wavutil INFO     saving (1, 834494107)-shaped array as npy in /mnt/sphere/speech_bci/derived_data/s_b1238_22/2022-01-27/sglx/0605_g0/wav_sync.npy\n",
      "2022-05-14 21:09:50,232 ceciestunepipe.util.spikeextractors.preprocess INFO     Getting sync events from the wav sync channel\n",
      "2022-05-14 21:10:44,457 ceciestunepipe.util.spikeextractors.preprocess INFO     saving sync events of the wav channel to /mnt/sphere/speech_bci/derived_data/s_b1238_22/2022-01-27/sglx/0605_g0/wav_sync_evt.npy\n",
      "2022-05-14 21:10:44,463 ceciestunepipe.util.spikeextractors.preprocess INFO     saving t0 for wav channel to /mnt/sphere/speech_bci/derived_data/s_b1238_22/2022-01-27/sglx/0605_g0/wav_t0.npy\n",
      "2022-05-14 21:13:41,847 ceciestunepipe.util.spikeextractors.preprocess INFO     Will get 1 ttl signals\n",
      "2022-05-14 21:13:41,856 ceciestunepipe.util.spikeextractors.preprocess INFO     looking for signal wav_ttl in the nidaq channels\n",
      "2022-05-14 21:13:41,857 ceciestunepipe.util.spikeextractors.preprocess INFO     found in chan 2\n",
      "2022-05-14 21:13:41,859 ceciestunepipe.util.spikeextractors.extractors.spikeglxrecordingextractor.spikeglxrecordingextractor INFO     getting ttl events, chan 2\n",
      "2022-05-14 21:17:36,850 ceciestunepipe.util.spikeextractors.preprocess INFO     saving (0, 2)-shaped array as npy in /mnt/sphere/speech_bci/derived_data/s_b1238_22/2022-01-27/sglx/0605_g0/wav_ttl_evt.npy\n",
      "2022-05-14 21:17:36,866 ceciestunepipe.util.spikeextractors.preprocess INFO     saving sync nidaq dict to /mnt/sphere/speech_bci/derived_data/s_b1238_22/2022-01-27/sglx/0605_g0/wav_sync_dict.pkl\n",
      "2022-05-14 21:17:36,868 ceciestunepipe.util.spikeextractors.preprocess INFO     Getting sync signals for imec streams: ['lf_0', 'ap_0']\n",
      "2022-05-14 21:17:36,869 ceciestunepipe.util.spikeextractors.preprocess INFO     getting syn patterns for lf_0\n",
      "2022-05-14 21:17:36,870 ceciestunepipe.util.spikeextractors.preprocess INFO     File /mnt/sphere/speech_bci/derived_data/s_b1238_22/2022-01-27/sglx/0605_g0/lf_0_sync_dict.pkl not found or forced computation, getting the events\n",
      "2022-05-14 21:17:36,870 ceciestunepipe.util.spikeextractors.extractors.spikeglxrecordingextractor.spikeglxrecordingextractor INFO     getting ttl events, chan 0\n",
      "2022-05-14 21:17:36,871 ceciestunepipe.util.spikeextractors.extractors.readSGLX INFO     Extracting digital on imec stream: there is only one channel, if any (SYN) and will be converted from an int16 channel \n",
      "2022-05-14 21:17:36,871 ceciestunepipe.util.spikeextractors.extractors.readSGLX INFO     allocated array for syn channel of size (52156885,)\n",
      "2022-05-14 21:18:28,114 ceciestunepipe.util.spikeextractors.extractors.readSGLX INFO     Threshold for logical hi is 0\n",
      "/mnt/cube/earneodo/repos/ceciestunepipe/ceciestunepipe/util/spikeextractors/extractors/spikeglxrecordingextractor/readSGLX.py:310: UserWarning: There were 2 errors in the recording\n",
      "  warnings.warn('There were {} errors in the recording'.format(n_errors))\n",
      "/mnt/cube/earneodo/repos/ceciestunepipe/ceciestunepipe/util/spikeextractors/extractors/spikeglxrecordingextractor/readSGLX.py:311: UserWarning: You probably want to check those\n",
      "  warnings.warn('You probably want to check those')\n",
      "2022-05-14 21:18:50,303 ceciestunepipe.util.spikeextractors.preprocess INFO     saving events array to /mnt/sphere/speech_bci/derived_data/s_b1238_22/2022-01-27/sglx/0605_g0/lf_0_sync_evt.npy\n",
      "2022-05-14 21:18:50,314 ceciestunepipe.util.spikeextractors.preprocess INFO     saving t_0 array to /mnt/sphere/speech_bci/derived_data/s_b1238_22/2022-01-27/sglx/0605_g0/lf_0_t0.npy\n",
      "2022-05-14 21:18:50,934 ceciestunepipe.util.spikeextractors.preprocess INFO     saving sync dict to /mnt/sphere/speech_bci/derived_data/s_b1238_22/2022-01-27/sglx/0605_g0/lf_0_sync_dict.pkl\n"
     ]
    },
    {
     "name": "stderr",
     "output_type": "stream",
     "text": [
      "2022-05-14 21:18:50,938 ceciestunepipe.util.spikeextractors.preprocess INFO     loading syn_dict from /mnt/sphere/speech_bci/derived_data/s_b1238_22/2022-01-27/sglx/0605_g0/lf_0_sync_dict.pkl\n",
      "2022-05-14 21:18:50,946 ceciestunepipe.util.spikeextractors.preprocess INFO     getting syn patterns for ap_0\n",
      "2022-05-14 21:18:50,948 ceciestunepipe.util.spikeextractors.preprocess INFO     File /mnt/sphere/speech_bci/derived_data/s_b1238_22/2022-01-27/sglx/0605_g0/ap_0_sync_dict.pkl not found or forced computation, getting the events\n",
      "2022-05-14 21:18:50,949 ceciestunepipe.util.spikeextractors.extractors.spikeglxrecordingextractor.spikeglxrecordingextractor INFO     getting ttl events, chan 0\n",
      "2022-05-14 21:18:50,949 ceciestunepipe.util.spikeextractors.extractors.readSGLX INFO     Extracting digital on imec stream: there is only one channel, if any (SYN) and will be converted from an int16 channel \n",
      "2022-05-14 21:18:50,950 ceciestunepipe.util.spikeextractors.extractors.readSGLX INFO     allocated array for syn channel of size (625882618,)\n",
      "2022-05-14 21:30:21,255 ceciestunepipe.util.spikeextractors.extractors.readSGLX INFO     Threshold for logical hi is 0\n",
      "/mnt/cube/earneodo/repos/ceciestunepipe/ceciestunepipe/util/spikeextractors/extractors/spikeglxrecordingextractor/readSGLX.py:310: UserWarning: There were 18 errors in the recording\n",
      "  warnings.warn('There were {} errors in the recording'.format(n_errors))\n",
      "/mnt/cube/earneodo/repos/ceciestunepipe/ceciestunepipe/util/spikeextractors/extractors/spikeglxrecordingextractor/readSGLX.py:311: UserWarning: You probably want to check those\n",
      "  warnings.warn('You probably want to check those')\n",
      "2022-05-14 21:33:35,479 ceciestunepipe.util.spikeextractors.preprocess INFO     saving events array to /mnt/sphere/speech_bci/derived_data/s_b1238_22/2022-01-27/sglx/0605_g0/ap_0_sync_evt.npy\n",
      "2022-05-14 21:33:36,000 ceciestunepipe.util.spikeextractors.preprocess INFO     saving t_0 array to /mnt/sphere/speech_bci/derived_data/s_b1238_22/2022-01-27/sglx/0605_g0/ap_0_t0.npy\n",
      "2022-05-14 21:33:43,781 ceciestunepipe.util.spikeextractors.preprocess INFO     saving sync dict to /mnt/sphere/speech_bci/derived_data/s_b1238_22/2022-01-27/sglx/0605_g0/ap_0_sync_dict.pkl\n",
      "2022-05-14 21:33:43,784 ceciestunepipe.util.spikeextractors.preprocess INFO     loading syn_dict from /mnt/sphere/speech_bci/derived_data/s_b1238_22/2022-01-27/sglx/0605_g0/ap_0_sync_dict.pkl\n",
      "2022-05-14 21:33:43,790 ceciestunepipe.util.spikeextractors.preprocess INFO     getting syn patterns for nidq\n",
      "2022-05-14 21:33:43,813 ceciestunepipe.util.spikeextractors.preprocess INFO     loading syn_dict from /mnt/sphere/speech_bci/derived_data/s_b1238_22/2022-01-27/sglx/0605_g0/nidq_sync_dict.pkl\n",
      "2022-05-14 21:34:08,528 ceciestunepipe.util.spikeextractors.preprocess INFO     getting syn patterns for wav\n",
      "2022-05-14 21:34:08,565 ceciestunepipe.util.spikeextractors.preprocess INFO     loading syn_dict from /mnt/sphere/speech_bci/derived_data/s_b1238_22/2022-01-27/sglx/0605_g0/wav_sync_dict.pkl\n",
      "2022-05-14 21:34:08,737 ceciestunepipe.util.spikeextractors.preprocess INFO     saved epoch preprocessing parameters to /mnt/sphere/speech_bci/derived_data/s_b1238_22/2022-01-27/sglx/0605_g0/preprocess_par.pickle\n",
      "2022-05-14 21:34:08,785 ceciestunepipe.util.spikeextractors.preprocess INFO     PREPROCESSING sess 2022-01-27 | epoch 1154_g0\n",
      "2022-05-14 21:34:08,786 ceciestunepipe.util.spikeextractors.preprocess INFO     getting extractors\n",
      "2022-05-14 21:34:08,971 ceciestunepipe.util.spikeextractors.preprocess INFO     Got sglx recordings for keys ['nidq', 'lf_0', 'ap_0']\n",
      "2022-05-14 21:34:08,972 ceciestunepipe.util.spikeextractors.preprocess INFO     Getting microphone channel(s) ['microphone_0']\n",
      "2022-05-14 21:34:08,973 ceciestunepipe.util.wavutil INFO     sampling rate 40000\n",
      "2022-05-14 21:34:08,973 ceciestunepipe.util.wavutil INFO     saving (1, 787254681)-shaped array as wav in /mnt/sphere/speech_bci/derived_data/s_b1238_22/2022-01-27/sglx/1154_g0/wav_mic.wav\n",
      "2022-05-14 21:34:25,586 ceciestunepipe.util.wavutil INFO     saving (1, 787254681)-shaped array as npy in /mnt/sphere/speech_bci/derived_data/s_b1238_22/2022-01-27/sglx/1154_g0/wav_mic.npy\n",
      "2022-05-14 21:34:42,269 ceciestunepipe.util.spikeextractors.preprocess INFO     Getting stimulus channel(s) ['wav_syn']\n",
      "2022-05-14 21:34:42,271 ceciestunepipe.util.wavutil INFO     sampling rate 40000\n",
      "2022-05-14 21:34:42,272 ceciestunepipe.util.wavutil INFO     saving (1, 787254681)-shaped array as wav in /mnt/sphere/speech_bci/derived_data/s_b1238_22/2022-01-27/sglx/1154_g0/wav_stim.wav\n",
      "2022-05-14 21:34:51,930 ceciestunepipe.util.wavutil INFO     saving (1, 787254681)-shaped array as npy in /mnt/sphere/speech_bci/derived_data/s_b1238_22/2022-01-27/sglx/1154_g0/wav_stim.npy\n",
      "2022-05-14 21:35:08,638 ceciestunepipe.util.spikeextractors.preprocess INFO     Getting the onset/offset of stimuli from the 0 extracted analog channel\n",
      "2022-05-14 21:35:19,020 ceciestunepipe.util.stimutil INFO     found 0.0 events\n",
      "2022-05-14 21:35:19,055 ceciestunepipe.util.spikeextractors.preprocess INFO     saved onset/offset of trial events from the sine wave in /mnt/sphere/speech_bci/derived_data/s_b1238_22/2022-01-27/sglx/1154_g0/wav_stim_sync_sine_ttl_evt.npy\n",
      "2022-05-14 21:35:19,056 ceciestunepipe.util.spikeextractors.preprocess INFO     Getting sync channel(s) from nidaq streams: ['sync']\n",
      "2022-05-14 21:35:19,058 ceciestunepipe.util.spikeextractors.extractors.spikeglxrecordingextractor.spikeglxrecordingextractor INFO     getting ttl traces, chan [0 1 2 3 4 5 6 7]\n",
      "2022-05-14 21:38:05,382 ceciestunepipe.util.wavutil INFO     sampling rate 40000\n",
      "2022-05-14 21:38:05,384 ceciestunepipe.util.wavutil INFO     saving (1, 787254681)-shaped array as wav in /mnt/sphere/speech_bci/derived_data/s_b1238_22/2022-01-27/sglx/1154_g0/wav_sync.wav\n",
      "2022-05-14 21:38:08,471 ceciestunepipe.util.wavutil INFO     saving (1, 787254681)-shaped array as npy in /mnt/sphere/speech_bci/derived_data/s_b1238_22/2022-01-27/sglx/1154_g0/wav_sync.npy\n",
      "2022-05-14 21:38:10,846 ceciestunepipe.util.spikeextractors.preprocess INFO     Getting sync events from the wav sync channel\n",
      "2022-05-14 21:39:04,609 ceciestunepipe.util.spikeextractors.preprocess INFO     saving sync events of the wav channel to /mnt/sphere/speech_bci/derived_data/s_b1238_22/2022-01-27/sglx/1154_g0/wav_sync_evt.npy\n",
      "2022-05-14 21:39:04,643 ceciestunepipe.util.spikeextractors.preprocess INFO     saving t0 for wav channel to /mnt/sphere/speech_bci/derived_data/s_b1238_22/2022-01-27/sglx/1154_g0/wav_t0.npy\n",
      "2022-05-14 21:41:02,684 ceciestunepipe.util.spikeextractors.preprocess INFO     Will get 1 ttl signals\n",
      "2022-05-14 21:41:02,686 ceciestunepipe.util.spikeextractors.preprocess INFO     looking for signal wav_ttl in the nidaq channels\n",
      "2022-05-14 21:41:02,687 ceciestunepipe.util.spikeextractors.preprocess INFO     found in chan 2\n",
      "2022-05-14 21:41:02,688 ceciestunepipe.util.spikeextractors.extractors.spikeglxrecordingextractor.spikeglxrecordingextractor INFO     getting ttl events, chan 2\n",
      "2022-05-14 21:45:01,063 ceciestunepipe.util.spikeextractors.preprocess INFO     saving (0, 2)-shaped array as npy in /mnt/sphere/speech_bci/derived_data/s_b1238_22/2022-01-27/sglx/1154_g0/wav_ttl_evt.npy\n",
      "2022-05-14 21:45:01,068 ceciestunepipe.util.spikeextractors.preprocess INFO     saving sync nidaq dict to /mnt/sphere/speech_bci/derived_data/s_b1238_22/2022-01-27/sglx/1154_g0/wav_sync_dict.pkl\n",
      "2022-05-14 21:45:01,069 ceciestunepipe.util.spikeextractors.preprocess INFO     Getting sync signals for imec streams: ['lf_0', 'ap_0']\n",
      "2022-05-14 21:45:01,070 ceciestunepipe.util.spikeextractors.preprocess INFO     getting syn patterns for lf_0\n",
      "2022-05-14 21:45:01,288 ceciestunepipe.util.spikeextractors.preprocess INFO     File /mnt/sphere/speech_bci/derived_data/s_b1238_22/2022-01-27/sglx/1154_g0/lf_0_sync_dict.pkl not found or forced computation, getting the events\n",
      "2022-05-14 21:45:01,289 ceciestunepipe.util.spikeextractors.extractors.spikeglxrecordingextractor.spikeglxrecordingextractor INFO     getting ttl events, chan 0\n",
      "2022-05-14 21:45:01,290 ceciestunepipe.util.spikeextractors.extractors.readSGLX INFO     Extracting digital on imec stream: there is only one channel, if any (SYN) and will be converted from an int16 channel \n"
     ]
    },
    {
     "name": "stderr",
     "output_type": "stream",
     "text": [
      "2022-05-14 21:45:01,290 ceciestunepipe.util.spikeextractors.extractors.readSGLX INFO     allocated array for syn channel of size (49204354,)\n",
      "2022-05-14 21:45:55,916 ceciestunepipe.util.spikeextractors.extractors.readSGLX INFO     Threshold for logical hi is 0\n",
      "/mnt/cube/earneodo/repos/ceciestunepipe/ceciestunepipe/util/spikeextractors/extractors/spikeglxrecordingextractor/readSGLX.py:310: UserWarning: There were 1 errors in the recording\n",
      "  warnings.warn('There were {} errors in the recording'.format(n_errors))\n",
      "/mnt/cube/earneodo/repos/ceciestunepipe/ceciestunepipe/util/spikeextractors/extractors/spikeglxrecordingextractor/readSGLX.py:311: UserWarning: You probably want to check those\n",
      "  warnings.warn('You probably want to check those')\n",
      "2022-05-14 21:46:13,592 ceciestunepipe.util.spikeextractors.preprocess INFO     saving events array to /mnt/sphere/speech_bci/derived_data/s_b1238_22/2022-01-27/sglx/1154_g0/lf_0_sync_evt.npy\n",
      "2022-05-14 21:46:13,634 ceciestunepipe.util.spikeextractors.preprocess INFO     saving t_0 array to /mnt/sphere/speech_bci/derived_data/s_b1238_22/2022-01-27/sglx/1154_g0/lf_0_t0.npy\n",
      "2022-05-14 21:46:14,192 ceciestunepipe.util.spikeextractors.preprocess INFO     saving sync dict to /mnt/sphere/speech_bci/derived_data/s_b1238_22/2022-01-27/sglx/1154_g0/lf_0_sync_dict.pkl\n",
      "2022-05-14 21:46:14,195 ceciestunepipe.util.spikeextractors.preprocess INFO     loading syn_dict from /mnt/sphere/speech_bci/derived_data/s_b1238_22/2022-01-27/sglx/1154_g0/lf_0_sync_dict.pkl\n",
      "2022-05-14 21:46:14,202 ceciestunepipe.util.spikeextractors.preprocess INFO     getting syn patterns for ap_0\n",
      "2022-05-14 21:46:14,220 ceciestunepipe.util.spikeextractors.preprocess INFO     File /mnt/sphere/speech_bci/derived_data/s_b1238_22/2022-01-27/sglx/1154_g0/ap_0_sync_dict.pkl not found or forced computation, getting the events\n",
      "2022-05-14 21:46:14,221 ceciestunepipe.util.spikeextractors.extractors.spikeglxrecordingextractor.spikeglxrecordingextractor INFO     getting ttl events, chan 0\n",
      "2022-05-14 21:46:14,221 ceciestunepipe.util.spikeextractors.extractors.readSGLX INFO     Extracting digital on imec stream: there is only one channel, if any (SYN) and will be converted from an int16 channel \n",
      "2022-05-14 21:46:14,222 ceciestunepipe.util.spikeextractors.extractors.readSGLX INFO     allocated array for syn channel of size (590452242,)\n",
      "2022-05-14 21:56:23,608 ceciestunepipe.util.spikeextractors.extractors.readSGLX INFO     Threshold for logical hi is 0\n",
      "/mnt/cube/earneodo/repos/ceciestunepipe/ceciestunepipe/util/spikeextractors/extractors/spikeglxrecordingextractor/readSGLX.py:310: UserWarning: There were 9 errors in the recording\n",
      "  warnings.warn('There were {} errors in the recording'.format(n_errors))\n",
      "/mnt/cube/earneodo/repos/ceciestunepipe/ceciestunepipe/util/spikeextractors/extractors/spikeglxrecordingextractor/readSGLX.py:311: UserWarning: You probably want to check those\n",
      "  warnings.warn('You probably want to check those')\n",
      "2022-05-14 22:00:00,814 ceciestunepipe.util.spikeextractors.preprocess INFO     saving events array to /mnt/sphere/speech_bci/derived_data/s_b1238_22/2022-01-27/sglx/1154_g0/ap_0_sync_evt.npy\n",
      "2022-05-14 22:00:00,928 ceciestunepipe.util.spikeextractors.preprocess INFO     saving t_0 array to /mnt/sphere/speech_bci/derived_data/s_b1238_22/2022-01-27/sglx/1154_g0/ap_0_t0.npy\n",
      "2022-05-14 22:00:07,619 ceciestunepipe.util.spikeextractors.preprocess INFO     saving sync dict to /mnt/sphere/speech_bci/derived_data/s_b1238_22/2022-01-27/sglx/1154_g0/ap_0_sync_dict.pkl\n",
      "2022-05-14 22:00:07,639 ceciestunepipe.util.spikeextractors.preprocess INFO     loading syn_dict from /mnt/sphere/speech_bci/derived_data/s_b1238_22/2022-01-27/sglx/1154_g0/ap_0_sync_dict.pkl\n",
      "2022-05-14 22:00:07,644 ceciestunepipe.util.spikeextractors.preprocess INFO     getting syn patterns for nidq\n",
      "2022-05-14 22:00:07,645 ceciestunepipe.util.spikeextractors.preprocess INFO     File /mnt/sphere/speech_bci/derived_data/s_b1238_22/2022-01-27/sglx/1154_g0/nidq_sync_dict.pkl not found or forced computation, getting the events\n",
      "2022-05-14 22:00:07,645 ceciestunepipe.util.spikeextractors.extractors.spikeglxrecordingextractor.spikeglxrecordingextractor INFO     getting ttl events, chan 0\n",
      "2022-05-14 22:05:58,992 ceciestunepipe.util.spikeextractors.preprocess INFO     saving events array to /mnt/sphere/speech_bci/derived_data/s_b1238_22/2022-01-27/sglx/1154_g0/nidq_sync_evt.npy\n",
      "2022-05-14 22:05:59,213 ceciestunepipe.util.spikeextractors.preprocess INFO     saving t_0 array to /mnt/sphere/speech_bci/derived_data/s_b1238_22/2022-01-27/sglx/1154_g0/nidq_t0.npy\n",
      "2022-05-14 22:06:07,746 ceciestunepipe.util.spikeextractors.preprocess INFO     saving sync dict to /mnt/sphere/speech_bci/derived_data/s_b1238_22/2022-01-27/sglx/1154_g0/nidq_sync_dict.pkl\n",
      "2022-05-14 22:06:07,777 ceciestunepipe.util.spikeextractors.preprocess INFO     loading syn_dict from /mnt/sphere/speech_bci/derived_data/s_b1238_22/2022-01-27/sglx/1154_g0/nidq_sync_dict.pkl\n",
      "2022-05-14 22:06:07,782 ceciestunepipe.util.spikeextractors.preprocess INFO     getting syn patterns for wav\n",
      "2022-05-14 22:06:07,783 ceciestunepipe.util.spikeextractors.preprocess INFO     loading syn_dict from /mnt/sphere/speech_bci/derived_data/s_b1238_22/2022-01-27/sglx/1154_g0/wav_sync_dict.pkl\n",
      "2022-05-14 22:06:08,048 ceciestunepipe.util.spikeextractors.preprocess INFO     saved epoch preprocessing parameters to /mnt/sphere/speech_bci/derived_data/s_b1238_22/2022-01-27/sglx/1154_g0/preprocess_par.pickle\n",
      "2022-05-14 22:06:08,141 ceciestunepipe.util.spikeextractors.preprocess INFO     PREPROCESSING sess 2022-01-27 | epoch 1722_g0\n",
      "2022-05-14 22:06:08,141 ceciestunepipe.util.spikeextractors.preprocess INFO     getting extractors\n",
      "2022-05-14 22:06:08,421 ceciestunepipe.util.spikeextractors.preprocess INFO     Got sglx recordings for keys ['nidq', 'lf_0', 'ap_0']\n",
      "2022-05-14 22:06:08,421 ceciestunepipe.util.spikeextractors.preprocess INFO     Getting microphone channel(s) ['microphone_0']\n",
      "2022-05-14 22:06:08,422 ceciestunepipe.util.wavutil INFO     sampling rate 40000\n",
      "2022-05-14 22:06:08,423 ceciestunepipe.util.wavutil INFO     saving (1, 382480744)-shaped array as wav in /mnt/sphere/speech_bci/derived_data/s_b1238_22/2022-01-27/sglx/1722_g0/wav_mic.wav\n",
      "2022-05-14 22:06:17,256 ceciestunepipe.util.wavutil INFO     saving (1, 382480744)-shaped array as npy in /mnt/sphere/speech_bci/derived_data/s_b1238_22/2022-01-27/sglx/1722_g0/wav_mic.npy\n",
      "2022-05-14 22:06:24,821 ceciestunepipe.util.spikeextractors.preprocess INFO     Getting stimulus channel(s) ['wav_syn']\n",
      "2022-05-14 22:06:24,823 ceciestunepipe.util.wavutil INFO     sampling rate 40000\n",
      "2022-05-14 22:06:24,823 ceciestunepipe.util.wavutil INFO     saving (1, 382480744)-shaped array as wav in /mnt/sphere/speech_bci/derived_data/s_b1238_22/2022-01-27/sglx/1722_g0/wav_stim.wav\n",
      "2022-05-14 22:06:32,042 ceciestunepipe.util.wavutil INFO     saving (1, 382480744)-shaped array as npy in /mnt/sphere/speech_bci/derived_data/s_b1238_22/2022-01-27/sglx/1722_g0/wav_stim.npy\n",
      "2022-05-14 22:06:39,633 ceciestunepipe.util.spikeextractors.preprocess INFO     Getting the onset/offset of stimuli from the 0 extracted analog channel\n",
      "<ipython-input-8-d2f831978e89>:17: UserWarning: Error in epoch 1722_g0\n",
      "  warnings.warn('Error in epoch {}'.format(epoch), UserWarning)\n",
      "2022-05-14 22:06:45,967 root         INFO     <function format_exc at 0x7f42b24951f0>\n",
      "2022-05-14 22:06:45,968 root         INFO     all the input array dimensions for the concatenation axis must match exactly, but along dimension 1, the array at index 0 has size 6 and the array at index 1 has size 5\n",
      "2022-05-14 22:06:45,969 root         INFO     Session 2022-01-27 epoch 1722_g0 could not be preprocessed\n",
      "2022-05-14 22:06:46,087 ceciestunepipe.util.spikeextractors.preprocess INFO     PREPROCESSING sess 2022-01-27 | epoch 2005_g0\n",
      "2022-05-14 22:06:46,087 ceciestunepipe.util.spikeextractors.preprocess INFO     getting extractors\n",
      "2022-05-14 22:06:46,253 ceciestunepipe.util.spikeextractors.preprocess INFO     Got sglx recordings for keys ['nidq', 'lf_0', 'ap_0']\n",
      "2022-05-14 22:06:46,253 ceciestunepipe.util.spikeextractors.preprocess INFO     Getting microphone channel(s) ['microphone_0']\n",
      "2022-05-14 22:06:46,254 ceciestunepipe.util.wavutil INFO     sampling rate 40000\n"
     ]
    },
    {
     "name": "stderr",
     "output_type": "stream",
     "text": [
      "2022-05-14 22:06:46,255 ceciestunepipe.util.wavutil INFO     saving (1, 211903796)-shaped array as wav in /mnt/sphere/speech_bci/derived_data/s_b1238_22/2022-01-27/sglx/2005_g0/wav_mic.wav\n",
      "2022-05-14 22:06:52,953 ceciestunepipe.util.wavutil INFO     saving (1, 211903796)-shaped array as npy in /mnt/sphere/speech_bci/derived_data/s_b1238_22/2022-01-27/sglx/2005_g0/wav_mic.npy\n",
      "2022-05-14 22:06:57,427 ceciestunepipe.util.spikeextractors.preprocess INFO     Getting stimulus channel(s) ['wav_syn']\n",
      "2022-05-14 22:06:57,430 ceciestunepipe.util.wavutil INFO     sampling rate 40000\n",
      "2022-05-14 22:06:57,430 ceciestunepipe.util.wavutil INFO     saving (1, 211903796)-shaped array as wav in /mnt/sphere/speech_bci/derived_data/s_b1238_22/2022-01-27/sglx/2005_g0/wav_stim.wav\n",
      "2022-05-14 22:07:01,616 ceciestunepipe.util.wavutil INFO     saving (1, 211903796)-shaped array as npy in /mnt/sphere/speech_bci/derived_data/s_b1238_22/2022-01-27/sglx/2005_g0/wav_stim.npy\n",
      "2022-05-14 22:07:05,852 ceciestunepipe.util.spikeextractors.preprocess INFO     Getting the onset/offset of stimuli from the 0 extracted analog channel\n",
      "2022-05-14 22:07:08,560 ceciestunepipe.util.stimutil INFO     found 0.0 events\n",
      "2022-05-14 22:07:08,597 ceciestunepipe.util.spikeextractors.preprocess INFO     saved onset/offset of trial events from the sine wave in /mnt/sphere/speech_bci/derived_data/s_b1238_22/2022-01-27/sglx/2005_g0/wav_stim_sync_sine_ttl_evt.npy\n",
      "2022-05-14 22:07:08,598 ceciestunepipe.util.spikeextractors.preprocess INFO     Getting sync channel(s) from nidaq streams: ['sync']\n",
      "2022-05-14 22:07:08,599 ceciestunepipe.util.spikeextractors.extractors.spikeglxrecordingextractor.spikeglxrecordingextractor INFO     getting ttl traces, chan [0 1 2 3 4 5 6 7]\n",
      "2022-05-14 22:08:42,135 ceciestunepipe.util.wavutil INFO     sampling rate 40000\n",
      "2022-05-14 22:08:42,137 ceciestunepipe.util.wavutil INFO     saving (1, 211903796)-shaped array as wav in /mnt/sphere/speech_bci/derived_data/s_b1238_22/2022-01-27/sglx/2005_g0/wav_sync.wav\n",
      "2022-05-14 22:08:42,756 ceciestunepipe.util.wavutil INFO     saving (1, 211903796)-shaped array as npy in /mnt/sphere/speech_bci/derived_data/s_b1238_22/2022-01-27/sglx/2005_g0/wav_sync.npy\n",
      "2022-05-14 22:08:43,361 ceciestunepipe.util.spikeextractors.preprocess INFO     Getting sync events from the wav sync channel\n",
      "2022-05-14 22:08:55,075 ceciestunepipe.util.spikeextractors.preprocess INFO     saving sync events of the wav channel to /mnt/sphere/speech_bci/derived_data/s_b1238_22/2022-01-27/sglx/2005_g0/wav_sync_evt.npy\n",
      "2022-05-14 22:08:55,099 ceciestunepipe.util.spikeextractors.preprocess INFO     saving t0 for wav channel to /mnt/sphere/speech_bci/derived_data/s_b1238_22/2022-01-27/sglx/2005_g0/wav_t0.npy\n",
      "2022-05-14 22:09:27,401 ceciestunepipe.util.spikeextractors.preprocess INFO     Will get 1 ttl signals\n",
      "2022-05-14 22:09:27,403 ceciestunepipe.util.spikeextractors.preprocess INFO     looking for signal wav_ttl in the nidaq channels\n",
      "2022-05-14 22:09:27,404 ceciestunepipe.util.spikeextractors.preprocess INFO     found in chan 2\n",
      "2022-05-14 22:09:27,404 ceciestunepipe.util.spikeextractors.extractors.spikeglxrecordingextractor.spikeglxrecordingextractor INFO     getting ttl events, chan 2\n",
      "2022-05-14 22:10:00,430 ceciestunepipe.util.spikeextractors.preprocess INFO     saving (0, 2)-shaped array as npy in /mnt/sphere/speech_bci/derived_data/s_b1238_22/2022-01-27/sglx/2005_g0/wav_ttl_evt.npy\n",
      "2022-05-14 22:10:00,435 ceciestunepipe.util.spikeextractors.preprocess INFO     saving sync nidaq dict to /mnt/sphere/speech_bci/derived_data/s_b1238_22/2022-01-27/sglx/2005_g0/wav_sync_dict.pkl\n",
      "2022-05-14 22:10:00,436 ceciestunepipe.util.spikeextractors.preprocess INFO     Getting sync signals for imec streams: ['lf_0', 'ap_0']\n",
      "2022-05-14 22:10:00,437 ceciestunepipe.util.spikeextractors.preprocess INFO     getting syn patterns for lf_0\n",
      "2022-05-14 22:10:00,438 ceciestunepipe.util.spikeextractors.preprocess INFO     File /mnt/sphere/speech_bci/derived_data/s_b1238_22/2022-01-27/sglx/2005_g0/lf_0_sync_dict.pkl not found or forced computation, getting the events\n",
      "2022-05-14 22:10:00,439 ceciestunepipe.util.spikeextractors.extractors.spikeglxrecordingextractor.spikeglxrecordingextractor INFO     getting ttl events, chan 0\n",
      "2022-05-14 22:10:00,439 ceciestunepipe.util.spikeextractors.extractors.readSGLX INFO     Extracting digital on imec stream: there is only one channel, if any (SYN) and will be converted from an int16 channel \n",
      "2022-05-14 22:10:00,441 ceciestunepipe.util.spikeextractors.extractors.readSGLX INFO     allocated array for syn channel of size (13244237,)\n",
      "2022-05-14 22:10:17,504 ceciestunepipe.util.spikeextractors.extractors.readSGLX INFO     Threshold for logical hi is 0\n",
      "2022-05-14 22:10:21,147 ceciestunepipe.util.spikeextractors.preprocess INFO     saving events array to /mnt/sphere/speech_bci/derived_data/s_b1238_22/2022-01-27/sglx/2005_g0/lf_0_sync_evt.npy\n",
      "2022-05-14 22:10:21,172 ceciestunepipe.util.spikeextractors.preprocess INFO     saving t_0 array to /mnt/sphere/speech_bci/derived_data/s_b1238_22/2022-01-27/sglx/2005_g0/lf_0_t0.npy\n",
      "2022-05-14 22:10:21,334 ceciestunepipe.util.spikeextractors.preprocess INFO     saving sync dict to /mnt/sphere/speech_bci/derived_data/s_b1238_22/2022-01-27/sglx/2005_g0/lf_0_sync_dict.pkl\n",
      "2022-05-14 22:10:21,336 ceciestunepipe.util.spikeextractors.preprocess INFO     loading syn_dict from /mnt/sphere/speech_bci/derived_data/s_b1238_22/2022-01-27/sglx/2005_g0/lf_0_sync_dict.pkl\n",
      "2022-05-14 22:10:21,342 ceciestunepipe.util.spikeextractors.preprocess INFO     getting syn patterns for ap_0\n",
      "2022-05-14 22:10:21,343 ceciestunepipe.util.spikeextractors.preprocess INFO     File /mnt/sphere/speech_bci/derived_data/s_b1238_22/2022-01-27/sglx/2005_g0/ap_0_sync_dict.pkl not found or forced computation, getting the events\n",
      "2022-05-14 22:10:21,344 ceciestunepipe.util.spikeextractors.extractors.spikeglxrecordingextractor.spikeglxrecordingextractor INFO     getting ttl events, chan 0\n",
      "2022-05-14 22:10:21,344 ceciestunepipe.util.spikeextractors.extractors.readSGLX INFO     Extracting digital on imec stream: there is only one channel, if any (SYN) and will be converted from an int16 channel \n",
      "2022-05-14 22:10:21,345 ceciestunepipe.util.spikeextractors.extractors.readSGLX INFO     allocated array for syn channel of size (158930838,)\n",
      "2022-05-14 22:13:15,897 ceciestunepipe.util.spikeextractors.extractors.readSGLX INFO     Threshold for logical hi is 0\n",
      "2022-05-14 22:14:16,080 ceciestunepipe.util.spikeextractors.preprocess INFO     saving events array to /mnt/sphere/speech_bci/derived_data/s_b1238_22/2022-01-27/sglx/2005_g0/ap_0_sync_evt.npy\n",
      "2022-05-14 22:14:16,201 ceciestunepipe.util.spikeextractors.preprocess INFO     saving t_0 array to /mnt/sphere/speech_bci/derived_data/s_b1238_22/2022-01-27/sglx/2005_g0/ap_0_t0.npy\n",
      "2022-05-14 22:14:17,878 ceciestunepipe.util.spikeextractors.preprocess INFO     saving sync dict to /mnt/sphere/speech_bci/derived_data/s_b1238_22/2022-01-27/sglx/2005_g0/ap_0_sync_dict.pkl\n",
      "2022-05-14 22:14:17,880 ceciestunepipe.util.spikeextractors.preprocess INFO     loading syn_dict from /mnt/sphere/speech_bci/derived_data/s_b1238_22/2022-01-27/sglx/2005_g0/ap_0_sync_dict.pkl\n",
      "2022-05-14 22:14:17,885 ceciestunepipe.util.spikeextractors.preprocess INFO     getting syn patterns for nidq\n",
      "2022-05-14 22:14:17,886 ceciestunepipe.util.spikeextractors.preprocess INFO     File /mnt/sphere/speech_bci/derived_data/s_b1238_22/2022-01-27/sglx/2005_g0/nidq_sync_dict.pkl not found or forced computation, getting the events\n",
      "2022-05-14 22:14:17,887 ceciestunepipe.util.spikeextractors.extractors.spikeglxrecordingextractor.spikeglxrecordingextractor INFO     getting ttl events, chan 0\n",
      "2022-05-14 22:16:20,977 ceciestunepipe.util.spikeextractors.preprocess INFO     saving events array to /mnt/sphere/speech_bci/derived_data/s_b1238_22/2022-01-27/sglx/2005_g0/nidq_sync_evt.npy\n",
      "2022-05-14 22:16:21,039 ceciestunepipe.util.spikeextractors.preprocess INFO     saving t_0 array to /mnt/sphere/speech_bci/derived_data/s_b1238_22/2022-01-27/sglx/2005_g0/nidq_t0.npy\n",
      "2022-05-14 22:16:23,351 ceciestunepipe.util.spikeextractors.preprocess INFO     saving sync dict to /mnt/sphere/speech_bci/derived_data/s_b1238_22/2022-01-27/sglx/2005_g0/nidq_sync_dict.pkl\n"
     ]
    },
    {
     "name": "stderr",
     "output_type": "stream",
     "text": [
      "2022-05-14 22:16:23,384 ceciestunepipe.util.spikeextractors.preprocess INFO     loading syn_dict from /mnt/sphere/speech_bci/derived_data/s_b1238_22/2022-01-27/sglx/2005_g0/nidq_sync_dict.pkl\n",
      "2022-05-14 22:16:23,390 ceciestunepipe.util.spikeextractors.preprocess INFO     getting syn patterns for wav\n",
      "2022-05-14 22:16:23,391 ceciestunepipe.util.spikeextractors.preprocess INFO     loading syn_dict from /mnt/sphere/speech_bci/derived_data/s_b1238_22/2022-01-27/sglx/2005_g0/wav_sync_dict.pkl\n",
      "2022-05-14 22:16:23,686 ceciestunepipe.util.spikeextractors.preprocess INFO     saved epoch preprocessing parameters to /mnt/sphere/speech_bci/derived_data/s_b1238_22/2022-01-27/sglx/2005_g0/preprocess_par.pickle\n",
      "2022-05-14 22:16:23,733 ceciestunepipe.util.spikeextractors.preprocess INFO     PREPROCESSING sess 2022-01-27 | epoch 2135_nightstim_g0\n",
      "2022-05-14 22:16:23,733 ceciestunepipe.util.spikeextractors.preprocess INFO     getting extractors\n",
      "2022-05-14 22:16:23,917 ceciestunepipe.util.spikeextractors.preprocess INFO     Got sglx recordings for keys ['nidq', 'lf_0', 'ap_0']\n",
      "2022-05-14 22:16:23,917 ceciestunepipe.util.spikeextractors.preprocess INFO     Getting microphone channel(s) ['microphone_0']\n",
      "2022-05-14 22:16:23,918 ceciestunepipe.util.wavutil INFO     sampling rate 40000\n",
      "2022-05-14 22:16:23,919 ceciestunepipe.util.wavutil INFO     saving (1, 993595137)-shaped array as wav in /mnt/sphere/speech_bci/derived_data/s_b1238_22/2022-01-27/sglx/2135_nightstim_g0/wav_mic.wav\n",
      "2022-05-14 22:17:06,900 ceciestunepipe.util.wavutil INFO     saving (1, 993595137)-shaped array as npy in /mnt/sphere/speech_bci/derived_data/s_b1238_22/2022-01-27/sglx/2135_nightstim_g0/wav_mic.npy\n",
      "2022-05-14 22:17:28,971 ceciestunepipe.util.spikeextractors.preprocess INFO     Getting stimulus channel(s) ['wav_syn']\n",
      "2022-05-14 22:17:28,975 ceciestunepipe.util.wavutil INFO     sampling rate 40000\n",
      "2022-05-14 22:17:28,976 ceciestunepipe.util.wavutil INFO     saving (1, 993595137)-shaped array as wav in /mnt/sphere/speech_bci/derived_data/s_b1238_22/2022-01-27/sglx/2135_nightstim_g0/wav_stim.wav\n",
      "2022-05-14 22:17:54,505 ceciestunepipe.util.wavutil INFO     saving (1, 993595137)-shaped array as npy in /mnt/sphere/speech_bci/derived_data/s_b1238_22/2022-01-27/sglx/2135_nightstim_g0/wav_stim.npy\n",
      "2022-05-14 22:18:15,291 ceciestunepipe.util.spikeextractors.preprocess INFO     Getting the onset/offset of stimuli from the 0 extracted analog channel\n",
      "2022-05-14 22:18:32,067 ceciestunepipe.util.stimutil INFO     found 225.0 events\n",
      "2022-05-14 22:18:32,095 ceciestunepipe.util.spikeextractors.preprocess INFO     saved onset/offset of trial events from the sine wave in /mnt/sphere/speech_bci/derived_data/s_b1238_22/2022-01-27/sglx/2135_nightstim_g0/wav_stim_sync_sine_ttl_evt.npy\n",
      "2022-05-14 22:18:32,096 ceciestunepipe.util.spikeextractors.preprocess INFO     Getting sync channel(s) from nidaq streams: ['sync']\n",
      "2022-05-14 22:18:32,097 ceciestunepipe.util.spikeextractors.extractors.spikeglxrecordingextractor.spikeglxrecordingextractor INFO     getting ttl traces, chan [0 1 2 3 4 5 6 7]\n",
      "2022-05-14 22:24:38,209 ceciestunepipe.util.wavutil INFO     sampling rate 40000\n",
      "2022-05-14 22:24:38,211 ceciestunepipe.util.wavutil INFO     saving (1, 993595137)-shaped array as wav in /mnt/sphere/speech_bci/derived_data/s_b1238_22/2022-01-27/sglx/2135_nightstim_g0/wav_sync.wav\n",
      "2022-05-14 22:24:41,692 ceciestunepipe.util.wavutil INFO     saving (1, 993595137)-shaped array as npy in /mnt/sphere/speech_bci/derived_data/s_b1238_22/2022-01-27/sglx/2135_nightstim_g0/wav_sync.npy\n",
      "2022-05-14 22:24:44,671 ceciestunepipe.util.spikeextractors.preprocess INFO     Getting sync events from the wav sync channel\n",
      "2022-05-14 22:25:43,795 ceciestunepipe.util.spikeextractors.preprocess INFO     saving sync events of the wav channel to /mnt/sphere/speech_bci/derived_data/s_b1238_22/2022-01-27/sglx/2135_nightstim_g0/wav_sync_evt.npy\n",
      "2022-05-14 22:25:43,824 ceciestunepipe.util.spikeextractors.preprocess INFO     saving t0 for wav channel to /mnt/sphere/speech_bci/derived_data/s_b1238_22/2022-01-27/sglx/2135_nightstim_g0/wav_t0.npy\n",
      "2022-05-14 22:28:07,849 ceciestunepipe.util.spikeextractors.preprocess INFO     Will get 1 ttl signals\n",
      "2022-05-14 22:28:07,851 ceciestunepipe.util.spikeextractors.preprocess INFO     looking for signal wav_ttl in the nidaq channels\n",
      "2022-05-14 22:28:07,852 ceciestunepipe.util.spikeextractors.preprocess INFO     found in chan 2\n",
      "2022-05-14 22:28:07,852 ceciestunepipe.util.spikeextractors.extractors.spikeglxrecordingextractor.spikeglxrecordingextractor INFO     getting ttl events, chan 2\n",
      "2022-05-14 22:31:46,330 ceciestunepipe.util.spikeextractors.preprocess INFO     saving (0, 2)-shaped array as npy in /mnt/sphere/speech_bci/derived_data/s_b1238_22/2022-01-27/sglx/2135_nightstim_g0/wav_ttl_evt.npy\n",
      "2022-05-14 22:31:46,553 ceciestunepipe.util.spikeextractors.preprocess INFO     saving sync nidaq dict to /mnt/sphere/speech_bci/derived_data/s_b1238_22/2022-01-27/sglx/2135_nightstim_g0/wav_sync_dict.pkl\n",
      "2022-05-14 22:31:46,555 ceciestunepipe.util.spikeextractors.preprocess INFO     Getting sync signals for imec streams: ['lf_0', 'ap_0']\n",
      "2022-05-14 22:31:46,556 ceciestunepipe.util.spikeextractors.preprocess INFO     getting syn patterns for lf_0\n",
      "2022-05-14 22:31:46,770 ceciestunepipe.util.spikeextractors.preprocess INFO     File /mnt/sphere/speech_bci/derived_data/s_b1238_22/2022-01-27/sglx/2135_nightstim_g0/lf_0_sync_dict.pkl not found or forced computation, getting the events\n",
      "2022-05-14 22:31:46,771 ceciestunepipe.util.spikeextractors.extractors.spikeglxrecordingextractor.spikeglxrecordingextractor INFO     getting ttl events, chan 0\n",
      "2022-05-14 22:31:46,772 ceciestunepipe.util.spikeextractors.extractors.readSGLX INFO     Extracting digital on imec stream: there is only one channel, if any (SYN) and will be converted from an int16 channel \n",
      "2022-05-14 22:31:46,773 ceciestunepipe.util.spikeextractors.extractors.readSGLX INFO     allocated array for syn channel of size (62100885,)\n",
      "2022-05-14 22:32:48,934 ceciestunepipe.util.spikeextractors.extractors.readSGLX INFO     Threshold for logical hi is 0\n",
      "2022-05-14 22:32:51,866 ceciestunepipe.util.spikeextractors.preprocess INFO     saving events array to /mnt/sphere/speech_bci/derived_data/s_b1238_22/2022-01-27/sglx/2135_nightstim_g0/lf_0_sync_evt.npy\n",
      "2022-05-14 22:32:51,982 ceciestunepipe.util.spikeextractors.preprocess INFO     saving t_0 array to /mnt/sphere/speech_bci/derived_data/s_b1238_22/2022-01-27/sglx/2135_nightstim_g0/lf_0_t0.npy\n",
      "2022-05-14 22:32:52,648 ceciestunepipe.util.spikeextractors.preprocess INFO     saving sync dict to /mnt/sphere/speech_bci/derived_data/s_b1238_22/2022-01-27/sglx/2135_nightstim_g0/lf_0_sync_dict.pkl\n",
      "2022-05-14 22:32:52,650 ceciestunepipe.util.spikeextractors.preprocess INFO     loading syn_dict from /mnt/sphere/speech_bci/derived_data/s_b1238_22/2022-01-27/sglx/2135_nightstim_g0/lf_0_sync_dict.pkl\n",
      "2022-05-14 22:32:52,654 ceciestunepipe.util.spikeextractors.preprocess INFO     getting syn patterns for ap_0\n",
      "2022-05-14 22:32:52,655 ceciestunepipe.util.spikeextractors.preprocess INFO     File /mnt/sphere/speech_bci/derived_data/s_b1238_22/2022-01-27/sglx/2135_nightstim_g0/ap_0_sync_dict.pkl not found or forced computation, getting the events\n",
      "2022-05-14 22:32:52,655 ceciestunepipe.util.spikeextractors.extractors.spikeglxrecordingextractor.spikeglxrecordingextractor INFO     getting ttl events, chan 0\n",
      "2022-05-14 22:32:52,656 ceciestunepipe.util.spikeextractors.extractors.readSGLX INFO     Extracting digital on imec stream: there is only one channel, if any (SYN) and will be converted from an int16 channel \n",
      "2022-05-14 22:32:52,657 ceciestunepipe.util.spikeextractors.extractors.readSGLX INFO     allocated array for syn channel of size (745210620,)\n",
      "2022-05-14 22:46:52,388 ceciestunepipe.util.spikeextractors.extractors.readSGLX INFO     Threshold for logical hi is 0\n",
      "2022-05-14 22:50:25,314 ceciestunepipe.util.spikeextractors.preprocess INFO     saving events array to /mnt/sphere/speech_bci/derived_data/s_b1238_22/2022-01-27/sglx/2135_nightstim_g0/ap_0_sync_evt.npy\n",
      "2022-05-14 22:50:25,913 ceciestunepipe.util.spikeextractors.preprocess INFO     saving t_0 array to /mnt/sphere/speech_bci/derived_data/s_b1238_22/2022-01-27/sglx/2135_nightstim_g0/ap_0_t0.npy\n"
     ]
    },
    {
     "name": "stderr",
     "output_type": "stream",
     "text": [
      "2022-05-14 22:50:32,903 ceciestunepipe.util.spikeextractors.preprocess INFO     saving sync dict to /mnt/sphere/speech_bci/derived_data/s_b1238_22/2022-01-27/sglx/2135_nightstim_g0/ap_0_sync_dict.pkl\n",
      "2022-05-14 22:50:32,934 ceciestunepipe.util.spikeextractors.preprocess INFO     loading syn_dict from /mnt/sphere/speech_bci/derived_data/s_b1238_22/2022-01-27/sglx/2135_nightstim_g0/ap_0_sync_dict.pkl\n",
      "2022-05-14 22:50:32,938 ceciestunepipe.util.spikeextractors.preprocess INFO     getting syn patterns for nidq\n",
      "2022-05-14 22:50:32,939 ceciestunepipe.util.spikeextractors.preprocess INFO     File /mnt/sphere/speech_bci/derived_data/s_b1238_22/2022-01-27/sglx/2135_nightstim_g0/nidq_sync_dict.pkl not found or forced computation, getting the events\n",
      "2022-05-14 22:50:32,940 ceciestunepipe.util.spikeextractors.extractors.spikeglxrecordingextractor.spikeglxrecordingextractor INFO     getting ttl events, chan 0\n",
      "2022-05-14 22:56:42,551 ceciestunepipe.util.spikeextractors.preprocess INFO     saving events array to /mnt/sphere/speech_bci/derived_data/s_b1238_22/2022-01-27/sglx/2135_nightstim_g0/nidq_sync_evt.npy\n",
      "2022-05-14 22:56:42,688 ceciestunepipe.util.spikeextractors.preprocess INFO     saving t_0 array to /mnt/sphere/speech_bci/derived_data/s_b1238_22/2022-01-27/sglx/2135_nightstim_g0/nidq_t0.npy\n",
      "2022-05-14 22:56:52,106 ceciestunepipe.util.spikeextractors.preprocess INFO     saving sync dict to /mnt/sphere/speech_bci/derived_data/s_b1238_22/2022-01-27/sglx/2135_nightstim_g0/nidq_sync_dict.pkl\n",
      "2022-05-14 22:56:52,136 ceciestunepipe.util.spikeextractors.preprocess INFO     loading syn_dict from /mnt/sphere/speech_bci/derived_data/s_b1238_22/2022-01-27/sglx/2135_nightstim_g0/nidq_sync_dict.pkl\n",
      "2022-05-14 22:56:52,141 ceciestunepipe.util.spikeextractors.preprocess INFO     getting syn patterns for wav\n",
      "2022-05-14 22:56:52,141 ceciestunepipe.util.spikeextractors.preprocess INFO     loading syn_dict from /mnt/sphere/speech_bci/derived_data/s_b1238_22/2022-01-27/sglx/2135_nightstim_g0/wav_sync_dict.pkl\n",
      "2022-05-14 22:56:52,475 ceciestunepipe.util.spikeextractors.preprocess INFO     saved epoch preprocessing parameters to /mnt/sphere/speech_bci/derived_data/s_b1238_22/2022-01-27/sglx/2135_nightstim_g0/preprocess_par.pickle\n"
     ]
    }
   ],
   "source": [
    "all_sess_dict = {}\n",
    "\n",
    "for one_sess in sess_list[:]:\n",
    "    sess_par['sess'] = one_sess\n",
    "    preprocess_session(sess_par)"
   ]
  },
  {
   "cell_type": "code",
   "execution_count": 13,
   "metadata": {},
   "outputs": [
    {
     "data": {
      "text/plain": [
       "{'bird': 's_b1238_22',\n",
       " 'sess': '2022-01-27',\n",
       " 'probes': ['probe_0'],\n",
       " 'mic_list': ['microphone_0'],\n",
       " 'stim_list': ['wav_syn'],\n",
       " 'nidq_ttl_list': ['wav_ttl'],\n",
       " 'sort': 2}"
      ]
     },
     "execution_count": 13,
     "metadata": {},
     "output_type": "execute_result"
    }
   ],
   "source": [
    "sess_par"
   ]
  },
  {
   "cell_type": "markdown",
   "metadata": {},
   "source": [
    "## search bouts for those sessions"
   ]
  },
  {
   "cell_type": "code",
   "execution_count": 14,
   "metadata": {},
   "outputs": [],
   "source": [
    "from ceciestunepipe.util.sound import boutsearch as bs\n",
    "from ceciestunepipe.util import wavutil as wu\n",
    "\n",
    "from joblib import Parallel, delayed\n",
    "import pickle\n",
    "import sys"
   ]
  },
  {
   "cell_type": "code",
   "execution_count": 15,
   "metadata": {},
   "outputs": [],
   "source": [
    "hparams = { # default parameters work well for starling\n",
    "    # spectrogram\n",
    "    'num_freq':1024, #1024# how many channels to use in a spectrogram #\n",
    "    'preemphasis':0.97, \n",
    "    'frame_shift_ms':5, # step size for fft\n",
    "    'frame_length_ms':10, #128 # frame length for fft FRAME SAMPLES < NUM_FREQ!!!\n",
    "    'min_level_db':-55, # minimum threshold db for computing spe \n",
    "    'ref_level_db':110, # reference db for computing spec\n",
    "    'sample_rate':None, # sample rate of your data\n",
    "    \n",
    "    # spectrograms\n",
    "    'mel_filter': False, # should a mel filter be used?\n",
    "    'num_mels':1024, # how many channels to use in the mel-spectrogram\n",
    "    'fmin': 500, # low frequency cutoff for mel filter\n",
    "    'fmax': 12000, # high frequency cutoff for mel filter\n",
    "    \n",
    "    # spectrogram inversion\n",
    "    'max_iters':200,\n",
    "    'griffin_lim_iters':20,\n",
    "    'power':1.5,\n",
    "\n",
    "    # Added for the searching\n",
    "    'read_wav_fun': bs.read_wav_chan, # function for loading the wav_like_stream (has to returns fs, ndarray)\n",
    "    'file_order_fun': bs.sess_file_id, # function for extracting the file id within the session\n",
    "    'min_segment': 30, # Minimum length of supra_threshold to consider a 'syllable' (ms)\n",
    "    'min_silence': 3000, # Minmum distance between groups of syllables to consider separate bouts (ms)\n",
    "    'min_bout': 3000, # min bout duration (ms)\n",
    "    'peak_thresh_rms': 0.55, # threshold (rms) for peak acceptance,\n",
    "    'thresh_rms': 0.25, # threshold for detection of syllables\n",
    "    'mean_syl_rms_thresh': 0.3, #threshold for acceptance of mean rms across the syllable (relative to rms of the file)\n",
    "    'max_bout': 180000, #exclude bouts too long\n",
    "    'l_p_r_thresh': 100, # threshold for n of len_ms/peaks (typycally about 2-3 syllable spans\n",
    "    \n",
    "    'waveform_edges': 1000, #get number of ms before and after the edges of the bout for the waveform sample\n",
    "    \n",
    "    'bout_auto_file': 'bout_auto.pickle', # extension for saving the auto found files\n",
    "    'bout_curated_file': 'bout_checked.pickle', #extension for manually curated files (coming soon)\n",
    "    }"
   ]
  },
  {
   "cell_type": "code",
   "execution_count": 22,
   "metadata": {},
   "outputs": [
    {
     "data": {
      "text/plain": [
       "<module 'ceciestunepipe.pipeline.searchbout' from '/mnt/cube/earneodo/repos/ceciestunepipe/ceciestunepipe/pipeline/searchbout.py'>"
      ]
     },
     "execution_count": 22,
     "metadata": {},
     "output_type": "execute_result"
    }
   ],
   "source": [
    "reload(sb)"
   ]
  },
  {
   "cell_type": "code",
   "execution_count": 23,
   "metadata": {
    "scrolled": true,
    "tags": []
   },
   "outputs": [
    {
     "name": "stderr",
     "output_type": "stream",
     "text": [
      "2022-05-15 13:22:22,411 ceciestunepipe.pipeline.searchbout INFO     Will search for bouts through all session s_b1238_22, 2022-01-27\n",
      "2022-05-15 13:22:23,133 ceciestunepipe.pipeline.searchbout INFO     getting wav files from/mnt/sphere/speech_bci/derived_data/s_b1238_22/2022-01-27/sglx\n",
      "2022-05-15 13:22:23,133 ceciestunepipe.pipeline.searchbout INFO     Found 5 files\n",
      "2022-05-15 13:22:23,135 ceciestunepipe.util.sound.boutsearch INFO     Getting bouts for long file /mnt/sphere/speech_bci/derived_data/s_b1238_22/2022-01-27/sglx/0605_g0/wav_mic.wav\n",
      "2022-05-15 13:22:23,137 ceciestunepipe.util.sound.boutsearch INFO     splitting file into 10 chunks\n"
     ]
    },
    {
     "data": {
      "application/vnd.jupyter.widget-view+json": {
       "model_id": "8b3bcd587b594d0f9e6960f96b8b240b",
       "version_major": 2,
       "version_minor": 0
      },
      "text/plain": [
       "  0%|          | 0/10 [00:00<?, ?it/s]"
      ]
     },
     "metadata": {},
     "output_type": "display_data"
    },
    {
     "name": "stderr",
     "output_type": "stream",
     "text": [
      "2022-05-15 14:05:37,077 ceciestunepipe.util.sound.boutsearch INFO     Getting bouts for long file /mnt/sphere/speech_bci/derived_data/s_b1238_22/2022-01-27/sglx/1154_g0/wav_mic.wav\n",
      "2022-05-15 14:05:37,094 ceciestunepipe.util.sound.boutsearch INFO     splitting file into 9 chunks\n"
     ]
    },
    {
     "data": {
      "application/vnd.jupyter.widget-view+json": {
       "model_id": "c48e885d20d6472a87137195758ca4b0",
       "version_major": 2,
       "version_minor": 0
      },
      "text/plain": [
       "  0%|          | 0/9 [00:00<?, ?it/s]"
      ]
     },
     "metadata": {},
     "output_type": "display_data"
    },
    {
     "name": "stderr",
     "output_type": "stream",
     "text": [
      "2022-05-15 14:32:39,334 ceciestunepipe.util.sound.boutsearch INFO     Getting bouts for long file /mnt/sphere/speech_bci/derived_data/s_b1238_22/2022-01-27/sglx/1722_g0/wav_mic.wav\n",
      "2022-05-15 14:32:39,339 ceciestunepipe.util.sound.boutsearch INFO     splitting file into 5 chunks\n"
     ]
    },
    {
     "data": {
      "application/vnd.jupyter.widget-view+json": {
       "model_id": "7a5a354bd9b0401aad39ac3164c04b12",
       "version_major": 2,
       "version_minor": 0
      },
      "text/plain": [
       "  0%|          | 0/5 [00:00<?, ?it/s]"
      ]
     },
     "metadata": {},
     "output_type": "display_data"
    },
    {
     "name": "stderr",
     "output_type": "stream",
     "text": [
      "2022-05-15 14:35:10,974 ceciestunepipe.util.sound.boutsearch INFO     Getting bouts for long file /mnt/sphere/speech_bci/derived_data/s_b1238_22/2022-01-27/sglx/2005_g0/wav_mic.wav\n",
      "2022-05-15 14:35:10,978 ceciestunepipe.util.sound.boutsearch INFO     splitting file into 3 chunks\n"
     ]
    },
    {
     "data": {
      "application/vnd.jupyter.widget-view+json": {
       "model_id": "37143ea68f7b4b4b8b304c1158a49473",
       "version_major": 2,
       "version_minor": 0
      },
      "text/plain": [
       "  0%|          | 0/3 [00:00<?, ?it/s]"
      ]
     },
     "metadata": {},
     "output_type": "display_data"
    },
    {
     "name": "stderr",
     "output_type": "stream",
     "text": [
      "2022-05-15 14:36:34,814 ceciestunepipe.util.sound.boutsearch INFO     Getting bouts for long file /mnt/sphere/speech_bci/derived_data/s_b1238_22/2022-01-27/sglx/2135_nightstim_g0/wav_mic.wav\n",
      "2022-05-15 14:36:34,817 ceciestunepipe.util.sound.boutsearch INFO     splitting file into 12 chunks\n"
     ]
    },
    {
     "data": {
      "application/vnd.jupyter.widget-view+json": {
       "model_id": "eca1c3c7b4694c4a8938102d47d38f24",
       "version_major": 2,
       "version_minor": 0
      },
      "text/plain": [
       "  0%|          | 0/12 [00:00<?, ?it/s]"
      ]
     },
     "metadata": {},
     "output_type": "display_data"
    },
    {
     "name": "stderr",
     "output_type": "stream",
     "text": [
      "2022-05-15 14:42:57,260 ceciestunepipe.pipeline.searchbout INFO     getting spectrograms\n",
      "2022-05-15 14:46:15,377 ceciestunepipe.pipeline.searchbout INFO     saving bouts pandas to /mnt/sphere/speech_bci/derived_data/s_b1238_22/2022-01-27/bouts_sglx/bout_auto.pickle\n"
     ]
    },
    {
     "name": "stdout",
     "output_type": "stream",
     "text": [
      "Unexpected exception formatting exception. Falling back to standard exception\n"
     ]
    },
    {
     "name": "stderr",
     "output_type": "stream",
     "text": [
      "Traceback (most recent call last):\n",
      "  File \"/home/earneodo/anaconda3/envs/unepipe/lib/python3.8/site-packages/IPython/core/interactiveshell.py\", line 3369, in run_code\n",
      "    exec(code_obj, self.user_global_ns, self.user_ns)\n",
      "  File \"<ipython-input-23-67427f5c28af>\", line 7, in <cell line: 4>\n",
      "    sb.save_auto_bouts(sess_bout_pd, sess_par, hparams, software='sglx')\n",
      "  File \"/mnt/cube/earneodo/repos/ceciestunepipe/ceciestunepipe/pipeline/searchbout.py\", line 136, in save_auto_bouts\n",
      "    fu.chmod(sess_bouts_path, 0o777)\n",
      "  File \"/mnt/cube/earneodo/repos/ceciestunepipe/ceciestunepipe/util/fileutil.py\", line 22, in chmod\n",
      "    os.chmod(file_path, mode)\n",
      "PermissionError: [Errno 1] Operation not permitted: '/mnt/sphere/speech_bci/derived_data/s_b1238_22/2022-01-27/bouts_sglx/bout_auto.pickle'\n",
      "\n",
      "During handling of the above exception, another exception occurred:\n",
      "\n",
      "Traceback (most recent call last):\n",
      "  File \"/home/earneodo/anaconda3/envs/unepipe/lib/python3.8/site-packages/IPython/core/interactiveshell.py\", line 1982, in showtraceback\n",
      "    stb = self.InteractiveTB.structured_traceback(\n",
      "  File \"/home/earneodo/anaconda3/envs/unepipe/lib/python3.8/site-packages/IPython/core/ultratb.py\", line 1118, in structured_traceback\n",
      "    return FormattedTB.structured_traceback(\n",
      "  File \"/home/earneodo/anaconda3/envs/unepipe/lib/python3.8/site-packages/IPython/core/ultratb.py\", line 1012, in structured_traceback\n",
      "    return VerboseTB.structured_traceback(\n",
      "  File \"/home/earneodo/anaconda3/envs/unepipe/lib/python3.8/site-packages/IPython/core/ultratb.py\", line 865, in structured_traceback\n",
      "    formatted_exception = self.format_exception_as_a_whole(etype, evalue, etb, number_of_lines_of_context,\n",
      "  File \"/home/earneodo/anaconda3/envs/unepipe/lib/python3.8/site-packages/IPython/core/ultratb.py\", line 818, in format_exception_as_a_whole\n",
      "    frames.append(self.format_record(r))\n",
      "  File \"/home/earneodo/anaconda3/envs/unepipe/lib/python3.8/site-packages/IPython/core/ultratb.py\", line 736, in format_record\n",
      "    result += ''.join(_format_traceback_lines(frame_info.lines, Colors, self.has_colors, lvals))\n",
      "  File \"/home/earneodo/anaconda3/envs/unepipe/lib/python3.8/site-packages/stack_data/utils.py\", line 145, in cached_property_wrapper\n",
      "    value = obj.__dict__[self.func.__name__] = self.func(obj)\n",
      "  File \"/home/earneodo/anaconda3/envs/unepipe/lib/python3.8/site-packages/stack_data/core.py\", line 698, in lines\n",
      "    pieces = self.included_pieces\n",
      "  File \"/home/earneodo/anaconda3/envs/unepipe/lib/python3.8/site-packages/stack_data/utils.py\", line 145, in cached_property_wrapper\n",
      "    value = obj.__dict__[self.func.__name__] = self.func(obj)\n",
      "  File \"/home/earneodo/anaconda3/envs/unepipe/lib/python3.8/site-packages/stack_data/core.py\", line 649, in included_pieces\n",
      "    pos = scope_pieces.index(self.executing_piece)\n",
      "  File \"/home/earneodo/anaconda3/envs/unepipe/lib/python3.8/site-packages/stack_data/utils.py\", line 145, in cached_property_wrapper\n",
      "    value = obj.__dict__[self.func.__name__] = self.func(obj)\n",
      "  File \"/home/earneodo/anaconda3/envs/unepipe/lib/python3.8/site-packages/stack_data/core.py\", line 628, in executing_piece\n",
      "    return only(\n",
      "  File \"/home/earneodo/anaconda3/envs/unepipe/lib/python3.8/site-packages/executing/executing.py\", line 164, in only\n",
      "    raise NotOneValueFound('Expected one value, found 0')\n",
      "executing.executing.NotOneValueFound: Expected one value, found 0\n"
     ]
    }
   ],
   "source": [
    "all_sessions = sess_list[:]\n",
    "#all_sessions = ['2021-06-15']\n",
    "\n",
    "for sess in all_sessions:\n",
    "    sess_par['sess'] = sess\n",
    "    sess_bout_pd = sb.get_all_day_bouts(sess_par, hparams, n_jobs=1, ephys_software='sglx', save=False)\n",
    "    sb.save_auto_bouts(sess_bout_pd, sess_par, hparams, software='sglx')\n",
    "    #sess_bouts_folder = os.path.join(exp_struct['folders']['derived'], 'bouts')\n",
    "    #bouts_to_wavs(sess_bout_pd, sess_par, hparams, sess_bouts_folder)"
   ]
  },
  {
   "cell_type": "code",
   "execution_count": 26,
   "metadata": {},
   "outputs": [
    {
     "name": "stderr",
     "output_type": "stream",
     "text": [
      "2022-05-16 07:13:12,155 ceciestunepipe.pipeline.searchbout INFO     saving bouts pandas to /mnt/sphere/speech_bci/derived_data/s_b1238_22/2022-01-27/bouts_sglx/bout_auto.pickle\n",
      "2022-05-16 07:13:28,384 ceciestunepipe.pipeline.searchbout INFO     saving bout detect parameters dict to /mnt/sphere/speech_bci/derived_data/s_b1238_22/2022-01-27/bouts_sglx/bout_search_params.pickle\n",
      "2022-05-16 07:13:28,385 ceciestunepipe.util.sound.boutsearch INFO     saving bout detect parameters dict to /mnt/sphere/speech_bci/derived_data/s_b1238_22/2022-01-27/bouts_sglx/bout_search_params.pickle\n"
     ]
    },
    {
     "ename": "PermissionError",
     "evalue": "[Errno 1] Operation not permitted: '/mnt/sphere/speech_bci/derived_data/s_b1238_22/2022-01-27/bouts_sglx/bout_search_params.pickle'",
     "output_type": "error",
     "traceback": [
      "\u001b[0;31m---------------------------------------------------------------------------\u001b[0m",
      "\u001b[0;31mPermissionError\u001b[0m                           Traceback (most recent call last)",
      "Input \u001b[0;32mIn [26]\u001b[0m, in \u001b[0;36m<cell line: 1>\u001b[0;34m()\u001b[0m\n\u001b[0;32m----> 1\u001b[0m \u001b[43msb\u001b[49m\u001b[38;5;241;43m.\u001b[39;49m\u001b[43msave_auto_bouts\u001b[49m\u001b[43m(\u001b[49m\u001b[43msess_bout_pd\u001b[49m\u001b[43m,\u001b[49m\u001b[43m \u001b[49m\u001b[43msess_par\u001b[49m\u001b[43m,\u001b[49m\u001b[43m \u001b[49m\u001b[43mhparams\u001b[49m\u001b[43m,\u001b[49m\u001b[43m \u001b[49m\u001b[43msoftware\u001b[49m\u001b[38;5;241;43m=\u001b[39;49m\u001b[38;5;124;43m'\u001b[39;49m\u001b[38;5;124;43msglx\u001b[39;49m\u001b[38;5;124;43m'\u001b[39;49m\u001b[43m)\u001b[49m\n",
      "File \u001b[0;32m/mnt/cube/earneodo/repos/ceciestunepipe/ceciestunepipe/pipeline/searchbout.py:139\u001b[0m, in \u001b[0;36msave_auto_bouts\u001b[0;34m(sess_bout_pd, sess_par, hparams, software, bout_file_key)\u001b[0m\n\u001b[1;32m    137\u001b[0m     logger.info('saving bout detect parameters dict to ' + hparams_pickle_path)\n\u001b[1;32m    138\u001b[0m     bs.save_bouts_params_dict(hparams, hparams_pickle_path)\n\u001b[0;32m--> 139\u001b[0m     #with open(hparams_pickle_path, 'wb') as fh:\n\u001b[1;32m    140\u001b[0m     #    pickle.dump(hparams, fh)\n\u001b[1;32m    141\u001b[0m     #fu.chmod(hparams_pickle_path, 0o777)\n\u001b[1;32m    144\u001b[0m def bout_to_wav(a_bout: pd.Series, sess_par, hparams, dest_dir):\n\u001b[1;32m    145\u001b[0m     file_name = '{}_{}_{}.wav'.format(sess_par['sess'],\n\u001b[1;32m    146\u001b[0m                                       os.path.split(\n\u001b[1;32m    147\u001b[0m                                           a_bout['file'])[-1].split('.wav')[0],\n\u001b[1;32m    148\u001b[0m                                       a_bout['start_ms'])\n",
      "File \u001b[0;32m/mnt/cube/earneodo/repos/ceciestunepipe/ceciestunepipe/util/sound/boutsearch.py:460\u001b[0m, in \u001b[0;36msave_bouts_params_dict\u001b[0;34m(hparams, hparams_pickle_path)\u001b[0m\n\u001b[1;32m    458\u001b[0m     pickler \u001b[38;5;241m=\u001b[39m BoutParamsPickler(fh)\n\u001b[1;32m    459\u001b[0m     pickler\u001b[38;5;241m.\u001b[39mdump(saveparams)\n\u001b[0;32m--> 460\u001b[0m \u001b[43mfu\u001b[49m\u001b[38;5;241;43m.\u001b[39;49m\u001b[43mchmod\u001b[49m\u001b[43m(\u001b[49m\u001b[43mhparams_pickle_path\u001b[49m\u001b[43m,\u001b[49m\u001b[43m \u001b[49m\u001b[38;5;241;43m0o777\u001b[39;49m\u001b[43m)\u001b[49m\n",
      "File \u001b[0;32m/mnt/cube/earneodo/repos/ceciestunepipe/ceciestunepipe/util/fileutil.py:22\u001b[0m, in \u001b[0;36mchmod\u001b[0;34m(file_path, mode)\u001b[0m\n\u001b[1;32m     20\u001b[0m \u001b[38;5;28;01mtry\u001b[39;00m:\n\u001b[1;32m     21\u001b[0m     original_mask \u001b[38;5;241m=\u001b[39m os\u001b[38;5;241m.\u001b[39mumask(\u001b[38;5;241m000\u001b[39m)\n\u001b[0;32m---> 22\u001b[0m     \u001b[43mos\u001b[49m\u001b[38;5;241;43m.\u001b[39;49m\u001b[43mchmod\u001b[49m\u001b[43m(\u001b[49m\u001b[43mfile_path\u001b[49m\u001b[43m,\u001b[49m\u001b[43m \u001b[49m\u001b[43mmode\u001b[49m\u001b[43m)\u001b[49m\n\u001b[1;32m     23\u001b[0m \u001b[38;5;28;01mfinally\u001b[39;00m:\n\u001b[1;32m     24\u001b[0m     os\u001b[38;5;241m.\u001b[39mumask(original_mask)\n",
      "\u001b[0;31mPermissionError\u001b[0m: [Errno 1] Operation not permitted: '/mnt/sphere/speech_bci/derived_data/s_b1238_22/2022-01-27/bouts_sglx/bout_search_params.pickle'"
     ]
    }
   ],
   "source": [
    "sb.save_auto_bouts(sess_bout_pd, sess_par, hparams, software='sglx')"
   ]
  },
  {
   "cell_type": "code",
   "execution_count": 24,
   "metadata": {},
   "outputs": [
    {
     "data": {
      "text/html": [
       "<div>\n",
       "<style scoped>\n",
       "    .dataframe tbody tr th:only-of-type {\n",
       "        vertical-align: middle;\n",
       "    }\n",
       "\n",
       "    .dataframe tbody tr th {\n",
       "        vertical-align: top;\n",
       "    }\n",
       "\n",
       "    .dataframe thead th {\n",
       "        text-align: right;\n",
       "    }\n",
       "</style>\n",
       "<table border=\"1\" class=\"dataframe\">\n",
       "  <thead>\n",
       "    <tr style=\"text-align: right;\">\n",
       "      <th></th>\n",
       "      <th>start_ms</th>\n",
       "      <th>end_ms</th>\n",
       "      <th>start_sample</th>\n",
       "      <th>end_sample</th>\n",
       "      <th>p_step</th>\n",
       "      <th>rms_p</th>\n",
       "      <th>peak_p</th>\n",
       "      <th>bout_check</th>\n",
       "      <th>file</th>\n",
       "      <th>len_ms</th>\n",
       "      <th>syl_in</th>\n",
       "      <th>n_syl</th>\n",
       "      <th>peaks_p</th>\n",
       "      <th>n_peaks</th>\n",
       "      <th>l_p_ratio</th>\n",
       "      <th>waveform</th>\n",
       "      <th>confusing</th>\n",
       "      <th>valid_waveform</th>\n",
       "      <th>valid</th>\n",
       "      <th>spectrogram</th>\n",
       "    </tr>\n",
       "  </thead>\n",
       "  <tbody>\n",
       "    <tr>\n",
       "      <th>0</th>\n",
       "      <td>22120</td>\n",
       "      <td>57770</td>\n",
       "      <td>884800</td>\n",
       "      <td>2310800</td>\n",
       "      <td>[9.028354520968774, 11.430471911611551, 13.209...</td>\n",
       "      <td>29.550182</td>\n",
       "      <td>273.312366</td>\n",
       "      <td>False</td>\n",
       "      <td>/mnt/sphere/speech_bci/derived_data/s_b1238_22...</td>\n",
       "      <td>35650</td>\n",
       "      <td>[[22120, 23205], [25700, 25745], [27200, 27250...</td>\n",
       "      <td>89</td>\n",
       "      <td>[5, 13, 20, 31, 40, 52, 67, 74, 85, 97, 104, 1...</td>\n",
       "      <td>381</td>\n",
       "      <td>93.569554</td>\n",
       "      <td>[-47, -54, -43, -49, -65, -50, -57, -56, -55, ...</td>\n",
       "      <td>True</td>\n",
       "      <td>True</td>\n",
       "      <td>True</td>\n",
       "      <td>[[0.0, 0.0, 0.0, 0.0, 0.0, 0.0, 0.0, 0.0, 0.0,...</td>\n",
       "    </tr>\n",
       "    <tr>\n",
       "      <th>1</th>\n",
       "      <td>66030</td>\n",
       "      <td>96410</td>\n",
       "      <td>2641200</td>\n",
       "      <td>3856400</td>\n",
       "      <td>[8.904722885893623, 9.394329271872063, 15.6020...</td>\n",
       "      <td>29.550182</td>\n",
       "      <td>277.671870</td>\n",
       "      <td>False</td>\n",
       "      <td>/mnt/sphere/speech_bci/derived_data/s_b1238_22...</td>\n",
       "      <td>30380</td>\n",
       "      <td>[[66030, 66965], [69505, 69605], [71305, 71350...</td>\n",
       "      <td>72</td>\n",
       "      <td>[18, 26, 37, 44, 52, 60, 71, 81, 104, 117, 129...</td>\n",
       "      <td>344</td>\n",
       "      <td>88.313953</td>\n",
       "      <td>[19, 31, 26, 32, 44, 48, 28, 17, 13, 12, 9, 6,...</td>\n",
       "      <td>True</td>\n",
       "      <td>True</td>\n",
       "      <td>True</td>\n",
       "      <td>[[0.0, 0.0, 0.0, 0.0, 0.0, 0.0, 0.0, 0.0, 0.0,...</td>\n",
       "    </tr>\n",
       "  </tbody>\n",
       "</table>\n",
       "</div>"
      ],
      "text/plain": [
       "   start_ms  end_ms  start_sample  end_sample  \\\n",
       "0     22120   57770        884800     2310800   \n",
       "1     66030   96410       2641200     3856400   \n",
       "\n",
       "                                              p_step      rms_p      peak_p  \\\n",
       "0  [9.028354520968774, 11.430471911611551, 13.209...  29.550182  273.312366   \n",
       "1  [8.904722885893623, 9.394329271872063, 15.6020...  29.550182  277.671870   \n",
       "\n",
       "   bout_check                                               file  len_ms  \\\n",
       "0       False  /mnt/sphere/speech_bci/derived_data/s_b1238_22...   35650   \n",
       "1       False  /mnt/sphere/speech_bci/derived_data/s_b1238_22...   30380   \n",
       "\n",
       "                                              syl_in  n_syl  \\\n",
       "0  [[22120, 23205], [25700, 25745], [27200, 27250...     89   \n",
       "1  [[66030, 66965], [69505, 69605], [71305, 71350...     72   \n",
       "\n",
       "                                             peaks_p  n_peaks  l_p_ratio  \\\n",
       "0  [5, 13, 20, 31, 40, 52, 67, 74, 85, 97, 104, 1...      381  93.569554   \n",
       "1  [18, 26, 37, 44, 52, 60, 71, 81, 104, 117, 129...      344  88.313953   \n",
       "\n",
       "                                            waveform  confusing  \\\n",
       "0  [-47, -54, -43, -49, -65, -50, -57, -56, -55, ...       True   \n",
       "1  [19, 31, 26, 32, 44, 48, 28, 17, 13, 12, 9, 6,...       True   \n",
       "\n",
       "   valid_waveform  valid                                        spectrogram  \n",
       "0            True   True  [[0.0, 0.0, 0.0, 0.0, 0.0, 0.0, 0.0, 0.0, 0.0,...  \n",
       "1            True   True  [[0.0, 0.0, 0.0, 0.0, 0.0, 0.0, 0.0, 0.0, 0.0,...  "
      ]
     },
     "execution_count": 24,
     "metadata": {},
     "output_type": "execute_result"
    }
   ],
   "source": [
    "sess_bout_pd.head(2)"
   ]
  },
  {
   "cell_type": "code",
   "execution_count": 18,
   "metadata": {},
   "outputs": [
    {
     "name": "stderr",
     "output_type": "stream",
     "text": [
      "2022-04-12 09:17:02,653 ceciestunepipe.pipeline.searchbout INFO     saving bouts pandas to /mnt/sphere/speech_bci/derived_data/s_b1238_22/2022-02-12/bouts_sglx/bout_auto.pickle\n",
      "2022-04-12 09:17:31,269 ceciestunepipe.pipeline.searchbout INFO     saving bout detect parameters dict to /mnt/sphere/speech_bci/derived_data/s_b1238_22/2022-02-12/bouts_sglx/bout_search_params.pickle\n",
      "2022-04-12 09:17:31,270 ceciestunepipe.util.sound.boutsearch INFO     saving bout detect parameters dict to /mnt/sphere/speech_bci/derived_data/s_b1238_22/2022-02-12/bouts_sglx/bout_search_params.pickle\n"
     ]
    }
   ],
   "source": [
    "sb.save_auto_bouts(sess_bout_pd, sess_par, hparams, software='sglx')"
   ]
  },
  {
   "cell_type": "markdown",
   "metadata": {},
   "source": [
    "# debug"
   ]
  },
  {
   "cell_type": "markdown",
   "metadata": {},
   "source": [
    "## debug search_bout"
   ]
  },
  {
   "cell_type": "code",
   "execution_count": 21,
   "metadata": {},
   "outputs": [
    {
     "name": "stderr",
     "output_type": "stream",
     "text": [
      "2021-09-22 15:13:39,371 root         INFO     Found 4 files\n"
     ]
    },
    {
     "name": "stdout",
     "output_type": "stream",
     "text": [
      "['/mnt/sphere/speech_bci/derived_data/s_b1253_21/2021-06-14/sglx/0712_g0/wav_mic.wav', '/mnt/sphere/speech_bci/derived_data/s_b1253_21/2021-06-14/sglx/1255_g0/wav_mic.wav', '/mnt/sphere/speech_bci/derived_data/s_b1253_21/2021-06-14/sglx/1740_g0/wav_mic.wav', '/mnt/sphere/speech_bci/derived_data/s_b1253_21/2021-06-14/sglx/2118_g0/wav_mic.wav']\n"
     ]
    }
   ],
   "source": [
    "## look for a single file\n",
    "sess = sess_list[0]\n",
    "\n",
    "exp_struct = et.get_exp_struct(sess_par['bird'], sess, ephys_software='sglx')\n",
    "source_folder = exp_struct['folders']['derived']\n",
    "wav_path_list = et.get_sgl_files_epochs(source_folder, file_filter='*wav_mic.wav')\n",
    "wav_path_list.sort()\n",
    "logger.info('Found {} files'.format(len(wav_path_list)))\n",
    "print(wav_path_list)"
   ]
  },
  {
   "cell_type": "code",
   "execution_count": 22,
   "metadata": {},
   "outputs": [],
   "source": [
    "one_file = wav_path_list[0]"
   ]
  },
  {
   "cell_type": "code",
   "execution_count": null,
   "metadata": {},
   "outputs": [
    {
     "name": "stderr",
     "output_type": "stream",
     "text": [
      "2021-09-22 15:13:45,924 ceciestunepipe.util.sound.boutsearch INFO     Getting bouts for long file /mnt/sphere/speech_bci/derived_data/s_b1253_21/2021-06-14/sglx/0712_g0/wav_mic.wav\n"
     ]
    },
    {
     "name": "stdout",
     "output_type": "stream",
     "text": [
      "tu vieja file /mnt/sphere/speech_bci/derived_data/s_b1253_21/2021-06-14/sglx/0712_g0/wav_mic.wav\n"
     ]
    },
    {
     "name": "stderr",
     "output_type": "stream",
     "text": [
      "2021-09-22 15:13:45,962 ceciestunepipe.util.sound.boutsearch INFO     splitting file into 5 chunks\n"
     ]
    },
    {
     "data": {
      "application/vnd.jupyter.widget-view+json": {
       "model_id": "2ee46791b8cc495dae356f151c0a45d0",
       "version_major": 2,
       "version_minor": 0
      },
      "text/plain": [
       "  0%|          | 0/5 [00:00<?, ?it/s]"
      ]
     },
     "metadata": {},
     "output_type": "display_data"
    }
   ],
   "source": [
    "reload(bs)\n",
    "epoch_bout_pd, epoch_wav = bs.get_bouts_in_long_file(wav_path_list[0], hparams)"
   ]
  },
  {
   "cell_type": "code",
   "execution_count": null,
   "metadata": {},
   "outputs": [],
   "source": []
  }
 ],
 "metadata": {
  "kernelspec": {
   "display_name": "tuputapipe",
   "language": "python",
   "name": "ceciestunepipe"
  },
  "language_info": {
   "codemirror_mode": {
    "name": "ipython",
    "version": 3
   },
   "file_extension": ".py",
   "mimetype": "text/x-python",
   "name": "python",
   "nbconvert_exporter": "python",
   "pygments_lexer": "ipython3",
   "version": "3.8.11"
  }
 },
 "nbformat": 4,
 "nbformat_minor": 4
}
