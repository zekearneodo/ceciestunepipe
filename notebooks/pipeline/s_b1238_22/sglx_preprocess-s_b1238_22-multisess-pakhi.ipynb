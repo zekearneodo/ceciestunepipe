{
 "cells": [
  {
   "cell_type": "markdown",
   "metadata": {},
   "source": [
    "# Pre-processing pipeline for spikeglx sessions, zebra finch\n",
    "- For every run in the session:\n",
    " - Load the recordings\n",
    " - Extract wav chan with micrhopohone and make a wav chan with the nidq syn signal\n",
    " - Get the sync events for the nidq sync channel\n",
    " \n",
    " - Do bout detection\n",
    " \n",
    "In another notebook, bout detection is curated\n",
    "- Left to decide where to:\n",
    "    - Sort spikes\n",
    "    - Sync the spikes/lfp/nidq\n",
    "    - make and plot 'bout rasters'"
   ]
  },
  {
   "cell_type": "code",
   "execution_count": 1,
   "metadata": {},
   "outputs": [],
   "source": [
    "%matplotlib inline\n",
    "import os\n",
    "import glob\n",
    "import logging\n",
    "import pickle\n",
    "import numpy as np\n",
    "import pandas as pd\n",
    "from scipy.io import wavfile\n",
    "from scipy import signal\n",
    "import traceback\n",
    "import warnings\n",
    "\n",
    "from matplotlib import pyplot as plt\n",
    "from importlib import reload\n",
    "\n",
    "logger = logging.getLogger()\n",
    "handler = logging.StreamHandler()\n",
    "formatter = logging.Formatter(\n",
    "        '%(asctime)s %(name)-12s %(levelname)-8s %(message)s')\n",
    "handler.setFormatter(formatter)\n",
    "logger.addHandler(handler)\n",
    "logger.setLevel(logging.INFO)\n"
   ]
  },
  {
   "cell_type": "code",
   "execution_count": 2,
   "metadata": {},
   "outputs": [],
   "source": [
    "from ceciestunepipe.file import bcistructure as et\n",
    "from ceciestunepipe.util import sglxutil as sglu\n",
    "from ceciestunepipe.util import rigutil as ru\n",
    "from ceciestunepipe.util import wavutil as wu\n",
    "from ceciestunepipe.util import syncutil as su\n",
    "\n",
    "from ceciestunepipe.util.sound import boutsearch as bs\n",
    "\n",
    "from ceciestunepipe.util.spikeextractors import preprocess as pre\n",
    "from ceciestunepipe.util.spikeextractors.extractors.spikeglxrecordingextractor import readSGLX as rsgl\n",
    "from ceciestunepipe.util.spikeextractors.extractors.spikeglxrecordingextractor import spikeglxrecordingextractor as sglex"
   ]
  },
  {
   "cell_type": "code",
   "execution_count": 3,
   "metadata": {},
   "outputs": [
    {
     "name": "stderr",
     "output_type": "stream",
     "text": [
      "2022-02-16 05:11:27,306 root         INFO     all modules loaded\n"
     ]
    }
   ],
   "source": [
    "import spikeinterface as si\n",
    "import spikeinterface.extractors as se\n",
    "import spikeinterface.toolkit as st\n",
    "import spikeinterface.sorters as ss\n",
    "import spikeinterface.comparison as sc\n",
    "import spikeinterface.widgets as sw\n",
    "logger.info('all modules loaded')"
   ]
  },
  {
   "cell_type": "markdown",
   "metadata": {},
   "source": [
    "## Session parameters and raw files"
   ]
  },
  {
   "cell_type": "markdown",
   "metadata": {},
   "source": [
    "#### list all the sessions for this bird"
   ]
  },
  {
   "cell_type": "code",
   "execution_count": 4,
   "metadata": {},
   "outputs": [
    {
     "name": "stderr",
     "output_type": "stream",
     "text": [
      "2022-02-16 05:11:29,184 root         INFO     all sessions for bird are ['2022-01-07', '2022-01-08', '2022-01-09', '2022-01-10', '2022-01-11', '2022-01-12', '2022-01-13', '2022-01-14', '2022-01-15', '2022-01-16', '2022-01-17', '2022-01-18', '2022-01-19', '2022-01-20', '2022-01-21', '2022-01-22', '2022-01-23', '2022-01-24', '2022-01-25', '2022-01-26', '2022-01-27', '2022-01-28', '2022-01-29', '2022-01-30', '2022-01-31', '2022-02-01', '2022-02-02', '2022-02-03', '2022-02-04', '2022-02-05', '2022-02-06', '2022-02-07', '2022-02-08', '2022-02-09', '2022-02-10', '2022-02-11', '2022-02-12', '2022-02-13', '2022-02-14', '2022-02-15']\n"
     ]
    }
   ],
   "source": [
    "bird = 's_b1238_22'\n",
    "all_bird_sess = et.list_sessions(bird)\n",
    "logger.info('all sessions for bird are {}'.format(all_bird_sess))"
   ]
  },
  {
   "cell_type": "markdown",
   "metadata": {},
   "source": [
    "### set up bird and sessions parameters\n",
    "this will define:\n",
    "- locations of files (for the bird)\n",
    "- signals and channels to look for in the metadata of the files and in the rig.json parameter file: Note that this have to exist in all of the sessions that will be processed\n",
    "- 'sess' is unimportant here, but it comes handy if there is need to debug usin a single session"
   ]
  },
  {
   "cell_type": "code",
   "execution_count": 5,
   "metadata": {},
   "outputs": [],
   "source": [
    "reload(et)\n",
    "# for one example session\n",
    "\n",
    "sess_par = {'bird': 's_b1238_22',\n",
    "           'sess': '2022-01-27',\n",
    "           'probes': ['probe_0'], #probes of interest\n",
    "           'mic_list': ['microphone_0', 'microphone_1'], #list of mics of interest, by signal name in rig.json\n",
    "           'stim_list': ['wav_stim', 'wav_syn'], # list of adc chans with the stimulus\n",
    "           'nidq_ttl_list': ['wav_ttl'], # list of TTL signals form the nidq digital inputs to extract (besides the 'sync')\n",
    "           'sort': 2, #label for this sort instance\n",
    "           }\n",
    "\n",
    "exp_struct = et.get_exp_struct(sess_par['bird'], sess_par['sess'], sort=sess_par['sort'])\n",
    "\n",
    "ksort_folder = exp_struct['folders']['ksort']\n",
    "raw_folder = exp_struct['folders']['sglx']"
   ]
  },
  {
   "cell_type": "markdown",
   "metadata": {},
   "source": [
    "list all the epochs in a session, to check that it is finding what it has to find"
   ]
  },
  {
   "cell_type": "code",
   "execution_count": 6,
   "metadata": {},
   "outputs": [
    {
     "name": "stderr",
     "output_type": "stream",
     "text": [
      "2022-02-16 05:11:40,178 ceciestunepipe.file.bcistructure INFO     {'folders': {'bird': '/mnt/sphere/speech_bci/raw_data/s_b1238_22', 'raw': '/mnt/sphere/speech_bci/raw_data/s_b1238_22/2022-01-27', 'sglx': '/mnt/sphere/speech_bci/raw_data/s_b1238_22/2022-01-27/sglx', 'kwik': '/scratch/earneodo/s_b1238_22/sglx/kwik/2022-01-27', 'processed': '/mnt/sphere/speech_bci/processed_data/s_b1238_22/2022-01-27/sglx', 'derived': '/mnt/sphere/speech_bci/derived_data/s_b1238_22/2022-01-27/sglx', 'tmp': '/scratch/earneodo/tmp', 'msort': '/scratch/earneodo/s_b1238_22/sglx/msort/2022-01-27', 'ksort': '/scratch/earneodo/s_b1238_22/sglx/ksort/2022-01-27/2', 'sort': '/mnt/sphere/speech_bci/derived_data/s_b1238_22/2022-01-27/sglx/2'}, 'files': {'par': '/scratch/earneodo/s_b1238_22/sglx/ksort/2022-01-27/2/params.json', 'set': '/mnt/sphere/speech_bci/raw_data/s_b1238_22/2022-01-27/sglx/settings.isf', 'rig': '/mnt/sphere/speech_bci/raw_data/s_b1238_22/2022-01-27/sglx/rig.json', 'kwd': '/scratch/earneodo/s_b1238_22/sglx/kwik/2022-01-27/stream.kwd', 'kwik': '/scratch/earneodo/s_b1238_22/sglx/kwik/2022-01-27/sort_2/spikes.kwik', 'kwe': '/scratch/earneodo/s_b1238_22/sglx/kwik/2022-01-27/events.kwe', 'dat_mic': '/mnt/sphere/speech_bci/processed_data/s_b1238_22/2022-01-27/sglx/dat_mic.mat', 'dat_ap': '/mnt/sphere/speech_bci/processed_data/s_b1238_22/2022-01-27/sglx/dat_ap.mat', 'allevents': '/mnt/sphere/speech_bci/processed_data/s_b1238_22/2022-01-27/sglx/dat_all.pkl', 'wav_mic': '/mnt/sphere/speech_bci/derived_data/s_b1238_22/2022-01-27/sglx/wav_mic.wav', 'mda_raw': '/scratch/earneodo/s_b1238_22/sglx/msort/2022-01-27/raw.mda', 'bin_raw': '/scratch/earneodo/s_b1238_22/sglx/ksort/2022-01-27/2/raw.bin'}}\n"
     ]
    },
    {
     "data": {
      "text/plain": [
       "['0605_g0', '1154_g0', '1722_g0', '2005_g0', '2135_nightstim_g0']"
      ]
     },
     "execution_count": 6,
     "metadata": {},
     "output_type": "execute_result"
    }
   ],
   "source": [
    "sess_epochs = et.list_sgl_epochs(sess_par)\n",
    "sess_epochs"
   ]
  },
  {
   "cell_type": "markdown",
   "metadata": {},
   "source": [
    "#### define pre-processing steps for each epoch and for the session"
   ]
  },
  {
   "cell_type": "code",
   "execution_count": 7,
   "metadata": {
    "tags": []
   },
   "outputs": [],
   "source": [
    "#reload(pre)\n",
    "#one_epoch_dict = pre.preprocess_run(sess_par, exp_struct, sess_epochs[0])"
   ]
  },
  {
   "cell_type": "code",
   "execution_count": 8,
   "metadata": {
    "scrolled": true,
    "tags": []
   },
   "outputs": [],
   "source": [
    "### sequentially process all runs of the sessions\n",
    "def preprocess_session(sess_par: dict):\n",
    "    logger.info('pre-process all runs of sess ' + sess_par['sess'])\n",
    "    # get exp struct\n",
    "    sess_struct = et.get_exp_struct(sess_par['bird'], sess_par['sess'], sort=sess_par['sort'])\n",
    "    # list the epochs\n",
    "    sess_epochs = et.list_sgl_epochs(sess_par)\n",
    "    logger.info('found epochs: {}'.format(sess_epochs))\n",
    "    # preprocess all epochs\n",
    "    epoch_dict_list = []\n",
    "    for i_ep, epoch in enumerate(sess_epochs):\n",
    "        try:\n",
    "            exp_struct = et.sgl_struct(sess_par, epoch)\n",
    "            one_epoch_dict = pre.preprocess_run(sess_par, exp_struct, epoch)\n",
    "            epoch_dict_list.append(one_epoch_dict)\n",
    "        except Exception as exc:\n",
    "            warnings.warn('Error in epoch {}'.format(epoch), UserWarning)\n",
    "            logger.info(traceback.format_exc)\n",
    "            logger.info(exc)\n",
    "            logger.info('Session {} epoch {} could not be preprocessed'.format(sess_par['sess'], epoch))\n",
    "        \n",
    "    return epoch_dict_list\n",
    "\n",
    "#all_epoch_list = preprocess_session(sess_par)"
   ]
  },
  {
   "cell_type": "markdown",
   "metadata": {},
   "source": [
    "## Process multiple sessions"
   ]
  },
  {
   "cell_type": "code",
   "execution_count": 10,
   "metadata": {
    "tags": []
   },
   "outputs": [],
   "source": [
    "sess_list = all_bird_sess\n",
    "# fist implant, right hemisphere\n",
    "#sess_list = ['2021-06-24', '2021-06-25', '2021-06-26', '2021-06-27', '2021-06-28', '2021-06-29', '2021-06-30']\n",
    "sess_list = ['2022-01-17', '2022-01-18', '2022-01-19', '2022-01-20', # RH RA\n",
    "             '2022-01-26', '2022-01-27','2022-01-28', '2022-01-29', '2022-01-30', #LH RA\n",
    "            '2022-02-11', '2022-01-12', '2022-01-13'] #LH NCM"
   ]
  },
  {
   "cell_type": "code",
   "execution_count": null,
   "metadata": {
    "tags": []
   },
   "outputs": [
    {
     "name": "stderr",
     "output_type": "stream",
     "text": [
      "2022-02-16 05:13:33,968 root         INFO     pre-process all runs of sess 2022-01-17\n",
      "2022-02-16 05:13:33,970 ceciestunepipe.file.bcistructure INFO     {'folders': {'bird': '/mnt/sphere/speech_bci/raw_data/s_b1238_22', 'raw': '/mnt/sphere/speech_bci/raw_data/s_b1238_22/2022-01-17', 'sglx': '/mnt/sphere/speech_bci/raw_data/s_b1238_22/2022-01-17/sglx', 'kwik': '/scratch/earneodo/s_b1238_22/sglx/kwik/2022-01-17', 'processed': '/mnt/sphere/speech_bci/processed_data/s_b1238_22/2022-01-17/sglx', 'derived': '/mnt/sphere/speech_bci/derived_data/s_b1238_22/2022-01-17/sglx', 'tmp': '/scratch/earneodo/tmp', 'msort': '/scratch/earneodo/s_b1238_22/sglx/msort/2022-01-17', 'ksort': '/scratch/earneodo/s_b1238_22/sglx/ksort/2022-01-17/2', 'sort': '/mnt/sphere/speech_bci/derived_data/s_b1238_22/2022-01-17/sglx/2'}, 'files': {'par': '/scratch/earneodo/s_b1238_22/sglx/ksort/2022-01-17/2/params.json', 'set': '/mnt/sphere/speech_bci/raw_data/s_b1238_22/2022-01-17/sglx/settings.isf', 'rig': '/mnt/sphere/speech_bci/raw_data/s_b1238_22/2022-01-17/sglx/rig.json', 'kwd': '/scratch/earneodo/s_b1238_22/sglx/kwik/2022-01-17/stream.kwd', 'kwik': '/scratch/earneodo/s_b1238_22/sglx/kwik/2022-01-17/sort_2/spikes.kwik', 'kwe': '/scratch/earneodo/s_b1238_22/sglx/kwik/2022-01-17/events.kwe', 'dat_mic': '/mnt/sphere/speech_bci/processed_data/s_b1238_22/2022-01-17/sglx/dat_mic.mat', 'dat_ap': '/mnt/sphere/speech_bci/processed_data/s_b1238_22/2022-01-17/sglx/dat_ap.mat', 'allevents': '/mnt/sphere/speech_bci/processed_data/s_b1238_22/2022-01-17/sglx/dat_all.pkl', 'wav_mic': '/mnt/sphere/speech_bci/derived_data/s_b1238_22/2022-01-17/sglx/wav_mic.wav', 'mda_raw': '/scratch/earneodo/s_b1238_22/sglx/msort/2022-01-17/raw.mda', 'bin_raw': '/scratch/earneodo/s_b1238_22/sglx/ksort/2022-01-17/2/raw.bin'}}\n",
      "2022-02-16 05:13:33,972 root         INFO     found epochs: []\n",
      "2022-02-16 05:13:33,973 root         INFO     pre-process all runs of sess 2022-01-18\n",
      "2022-02-16 05:13:33,974 ceciestunepipe.file.bcistructure INFO     {'folders': {'bird': '/mnt/sphere/speech_bci/raw_data/s_b1238_22', 'raw': '/mnt/sphere/speech_bci/raw_data/s_b1238_22/2022-01-18', 'sglx': '/mnt/sphere/speech_bci/raw_data/s_b1238_22/2022-01-18/sglx', 'kwik': '/scratch/earneodo/s_b1238_22/sglx/kwik/2022-01-18', 'processed': '/mnt/sphere/speech_bci/processed_data/s_b1238_22/2022-01-18/sglx', 'derived': '/mnt/sphere/speech_bci/derived_data/s_b1238_22/2022-01-18/sglx', 'tmp': '/scratch/earneodo/tmp', 'msort': '/scratch/earneodo/s_b1238_22/sglx/msort/2022-01-18', 'ksort': '/scratch/earneodo/s_b1238_22/sglx/ksort/2022-01-18/2', 'sort': '/mnt/sphere/speech_bci/derived_data/s_b1238_22/2022-01-18/sglx/2'}, 'files': {'par': '/scratch/earneodo/s_b1238_22/sglx/ksort/2022-01-18/2/params.json', 'set': '/mnt/sphere/speech_bci/raw_data/s_b1238_22/2022-01-18/sglx/settings.isf', 'rig': '/mnt/sphere/speech_bci/raw_data/s_b1238_22/2022-01-18/sglx/rig.json', 'kwd': '/scratch/earneodo/s_b1238_22/sglx/kwik/2022-01-18/stream.kwd', 'kwik': '/scratch/earneodo/s_b1238_22/sglx/kwik/2022-01-18/sort_2/spikes.kwik', 'kwe': '/scratch/earneodo/s_b1238_22/sglx/kwik/2022-01-18/events.kwe', 'dat_mic': '/mnt/sphere/speech_bci/processed_data/s_b1238_22/2022-01-18/sglx/dat_mic.mat', 'dat_ap': '/mnt/sphere/speech_bci/processed_data/s_b1238_22/2022-01-18/sglx/dat_ap.mat', 'allevents': '/mnt/sphere/speech_bci/processed_data/s_b1238_22/2022-01-18/sglx/dat_all.pkl', 'wav_mic': '/mnt/sphere/speech_bci/derived_data/s_b1238_22/2022-01-18/sglx/wav_mic.wav', 'mda_raw': '/scratch/earneodo/s_b1238_22/sglx/msort/2022-01-18/raw.mda', 'bin_raw': '/scratch/earneodo/s_b1238_22/sglx/ksort/2022-01-18/2/raw.bin'}}\n",
      "2022-02-16 05:13:33,975 root         INFO     found epochs: []\n",
      "2022-02-16 05:13:33,975 root         INFO     pre-process all runs of sess 2022-01-19\n",
      "2022-02-16 05:13:33,976 ceciestunepipe.file.bcistructure INFO     {'folders': {'bird': '/mnt/sphere/speech_bci/raw_data/s_b1238_22', 'raw': '/mnt/sphere/speech_bci/raw_data/s_b1238_22/2022-01-19', 'sglx': '/mnt/sphere/speech_bci/raw_data/s_b1238_22/2022-01-19/sglx', 'kwik': '/scratch/earneodo/s_b1238_22/sglx/kwik/2022-01-19', 'processed': '/mnt/sphere/speech_bci/processed_data/s_b1238_22/2022-01-19/sglx', 'derived': '/mnt/sphere/speech_bci/derived_data/s_b1238_22/2022-01-19/sglx', 'tmp': '/scratch/earneodo/tmp', 'msort': '/scratch/earneodo/s_b1238_22/sglx/msort/2022-01-19', 'ksort': '/scratch/earneodo/s_b1238_22/sglx/ksort/2022-01-19/2', 'sort': '/mnt/sphere/speech_bci/derived_data/s_b1238_22/2022-01-19/sglx/2'}, 'files': {'par': '/scratch/earneodo/s_b1238_22/sglx/ksort/2022-01-19/2/params.json', 'set': '/mnt/sphere/speech_bci/raw_data/s_b1238_22/2022-01-19/sglx/settings.isf', 'rig': '/mnt/sphere/speech_bci/raw_data/s_b1238_22/2022-01-19/sglx/rig.json', 'kwd': '/scratch/earneodo/s_b1238_22/sglx/kwik/2022-01-19/stream.kwd', 'kwik': '/scratch/earneodo/s_b1238_22/sglx/kwik/2022-01-19/sort_2/spikes.kwik', 'kwe': '/scratch/earneodo/s_b1238_22/sglx/kwik/2022-01-19/events.kwe', 'dat_mic': '/mnt/sphere/speech_bci/processed_data/s_b1238_22/2022-01-19/sglx/dat_mic.mat', 'dat_ap': '/mnt/sphere/speech_bci/processed_data/s_b1238_22/2022-01-19/sglx/dat_ap.mat', 'allevents': '/mnt/sphere/speech_bci/processed_data/s_b1238_22/2022-01-19/sglx/dat_all.pkl', 'wav_mic': '/mnt/sphere/speech_bci/derived_data/s_b1238_22/2022-01-19/sglx/wav_mic.wav', 'mda_raw': '/scratch/earneodo/s_b1238_22/sglx/msort/2022-01-19/raw.mda', 'bin_raw': '/scratch/earneodo/s_b1238_22/sglx/ksort/2022-01-19/2/raw.bin'}}\n",
      "2022-02-16 05:13:34,015 root         INFO     found epochs: ['0355_nightstim_g0', '0711_g0', '1113_g0', '1545_g0']\n",
      "2022-02-16 05:13:34,016 ceciestunepipe.util.spikeextractors.preprocess INFO     PREPROCESSING sess 2022-01-19 | epoch 0355_nightstim_g0\n",
      "2022-02-16 05:13:34,017 ceciestunepipe.util.spikeextractors.preprocess INFO     getting extractors\n",
      "2022-02-16 05:13:34,191 ceciestunepipe.util.spikeextractors.preprocess INFO     Got sglx recordings for keys ['nidq', 'lf_0', 'ap_0']\n",
      "2022-02-16 05:13:34,191 ceciestunepipe.util.spikeextractors.preprocess INFO     Getting microphone channel(s) ['microphone_0', 'microphone_1']\n",
      "2022-02-16 05:13:41,386 ceciestunepipe.util.wavutil INFO     sampling rate 40000\n",
      "2022-02-16 05:13:41,387 ceciestunepipe.util.wavutil INFO     saving (2, 466902938)-shaped array as wav in /mnt/sphere/speech_bci/derived_data/s_b1238_22/2022-01-19/sglx/0355_nightstim_g0/wav_mic.wav\n",
      "2022-02-16 05:13:47,299 ceciestunepipe.util.wavutil INFO     saving (2, 466902938)-shaped array as npy in /mnt/sphere/speech_bci/derived_data/s_b1238_22/2022-01-19/sglx/0355_nightstim_g0/wav_mic.npy\n",
      "2022-02-16 05:13:50,279 ceciestunepipe.util.spikeextractors.preprocess INFO     Getting stimulus channel(s) ['wav_stim', 'wav_syn']\n",
      "2022-02-16 05:13:50,280 ceciestunepipe.util.wavutil INFO     sampling rate 40000\n",
      "2022-02-16 05:13:50,281 ceciestunepipe.util.wavutil INFO     saving (2, 466902938)-shaped array as wav in /mnt/sphere/speech_bci/derived_data/s_b1238_22/2022-01-19/sglx/0355_nightstim_g0/wav_stim.wav\n",
      "2022-02-16 05:13:56,345 ceciestunepipe.util.wavutil INFO     saving (2, 466902938)-shaped array as npy in /mnt/sphere/speech_bci/derived_data/s_b1238_22/2022-01-19/sglx/0355_nightstim_g0/wav_stim.npy\n",
      "2022-02-16 05:14:14,506 ceciestunepipe.util.spikeextractors.preprocess INFO     Getting sync channel(s) from nidaq streams: ['sync']\n",
      "2022-02-16 05:14:14,509 ceciestunepipe.util.spikeextractors.extractors.spikeglxrecordingextractor.spikeglxrecordingextractor INFO     getting ttl traces, chan range(0, 7)\n",
      "2022-02-16 05:14:20,937 ceciestunepipe.util.wavutil INFO     sampling rate 40000\n",
      "2022-02-16 05:14:20,938 ceciestunepipe.util.wavutil INFO     saving (1, 466902938)-shaped array as wav in /mnt/sphere/speech_bci/derived_data/s_b1238_22/2022-01-19/sglx/0355_nightstim_g0/wav_sync.wav\n",
      "2022-02-16 05:14:22,261 ceciestunepipe.util.wavutil INFO     saving (1, 466902938)-shaped array as npy in /mnt/sphere/speech_bci/derived_data/s_b1238_22/2022-01-19/sglx/0355_nightstim_g0/wav_sync.npy\n",
      "2022-02-16 05:14:23,641 ceciestunepipe.util.spikeextractors.preprocess INFO     Getting sync events from the wav sync channel\n",
      "2022-02-16 05:14:25,869 ceciestunepipe.util.spikeextractors.preprocess INFO     saving sync events of the wav channel to /mnt/sphere/speech_bci/derived_data/s_b1238_22/2022-01-19/sglx/0355_nightstim_g0/wav_sync_evt.npy\n",
      "2022-02-16 05:14:25,937 ceciestunepipe.util.spikeextractors.preprocess INFO     saving t0 for wav channel to /mnt/sphere/speech_bci/derived_data/s_b1238_22/2022-01-19/sglx/0355_nightstim_g0/wav_t0.npy\n",
      "2022-02-16 05:14:32,701 ceciestunepipe.util.spikeextractors.preprocess INFO     Will get 1 ttl signals\n",
      "2022-02-16 05:14:32,702 ceciestunepipe.util.spikeextractors.preprocess INFO     looking for signal wav_ttl in the nidaq channels\n",
      "2022-02-16 05:14:32,703 ceciestunepipe.util.spikeextractors.preprocess INFO     found in chan 2\n",
      "2022-02-16 05:14:32,704 ceciestunepipe.util.spikeextractors.extractors.spikeglxrecordingextractor.spikeglxrecordingextractor INFO     getting ttl events, chan 2\n",
      "2022-02-16 05:14:36,499 ceciestunepipe.util.spikeextractors.preprocess INFO     saving (0, 2)-shaped array as npy in /mnt/sphere/speech_bci/derived_data/s_b1238_22/2022-01-19/sglx/0355_nightstim_g0/wav_ttl_evt.npy\n",
      "2022-02-16 05:14:36,516 ceciestunepipe.util.spikeextractors.preprocess INFO     saving sync nidaq dict to /mnt/sphere/speech_bci/derived_data/s_b1238_22/2022-01-19/sglx/0355_nightstim_g0/wav_sync_dict.pkl\n",
      "2022-02-16 05:14:36,517 ceciestunepipe.util.spikeextractors.preprocess INFO     Getting sync signals for imec streams: ['lf_0', 'ap_0']\n",
      "2022-02-16 05:14:36,518 ceciestunepipe.util.spikeextractors.preprocess INFO     getting syn patterns for lf_0\n",
      "2022-02-16 05:14:36,525 ceciestunepipe.util.spikeextractors.preprocess INFO     File /mnt/sphere/speech_bci/derived_data/s_b1238_22/2022-01-19/sglx/0355_nightstim_g0/lf_0_sync_dict.pkl not found or forced computation, getting the events\n",
      "2022-02-16 05:14:36,526 ceciestunepipe.util.spikeextractors.extractors.spikeglxrecordingextractor.spikeglxrecordingextractor INFO     getting ttl events, chan 0\n",
      "2022-02-16 05:14:36,527 ceciestunepipe.util.spikeextractors.extractors.readSGLX INFO     Extracting digital on imec stream: there is only one channel, if any (SYN) and will be converted from an int16 channel \n",
      "2022-02-16 05:14:36,528 ceciestunepipe.util.spikeextractors.extractors.readSGLX INFO     allocated array for syn channel of size (29181989,)\n",
      "2022-02-16 05:15:05,488 ceciestunepipe.util.spikeextractors.extractors.readSGLX INFO     Threshold for logical hi is 0\n",
      "2022-02-16 05:15:05,871 ceciestunepipe.util.spikeextractors.preprocess INFO     saving events array to /mnt/sphere/speech_bci/derived_data/s_b1238_22/2022-01-19/sglx/0355_nightstim_g0/lf_0_sync_evt.npy\n",
      "2022-02-16 05:15:05,975 ceciestunepipe.util.spikeextractors.preprocess INFO     saving t_0 array to /mnt/sphere/speech_bci/derived_data/s_b1238_22/2022-01-19/sglx/0355_nightstim_g0/lf_0_t0.npy\n",
      "2022-02-16 05:15:06,344 ceciestunepipe.util.spikeextractors.preprocess INFO     saving sync dict to /mnt/sphere/speech_bci/derived_data/s_b1238_22/2022-01-19/sglx/0355_nightstim_g0/lf_0_sync_dict.pkl\n",
      "2022-02-16 05:15:06,347 ceciestunepipe.util.spikeextractors.preprocess INFO     loading syn_dict from /mnt/sphere/speech_bci/derived_data/s_b1238_22/2022-01-19/sglx/0355_nightstim_g0/lf_0_sync_dict.pkl\n",
      "2022-02-16 05:15:06,351 ceciestunepipe.util.spikeextractors.preprocess INFO     getting syn patterns for ap_0\n",
      "2022-02-16 05:15:06,360 ceciestunepipe.util.spikeextractors.preprocess INFO     File /mnt/sphere/speech_bci/derived_data/s_b1238_22/2022-01-19/sglx/0355_nightstim_g0/ap_0_sync_dict.pkl not found or forced computation, getting the events\n",
      "2022-02-16 05:15:06,361 ceciestunepipe.util.spikeextractors.extractors.spikeglxrecordingextractor.spikeglxrecordingextractor INFO     getting ttl events, chan 0\n",
      "2022-02-16 05:15:06,361 ceciestunepipe.util.spikeextractors.extractors.readSGLX INFO     Extracting digital on imec stream: there is only one channel, if any (SYN) and will be converted from an int16 channel \n",
      "2022-02-16 05:15:06,362 ceciestunepipe.util.spikeextractors.extractors.readSGLX INFO     allocated array for syn channel of size (350183863,)\n",
      "2022-02-16 05:20:46,380 ceciestunepipe.util.spikeextractors.extractors.readSGLX INFO     Threshold for logical hi is 0\n",
      "/mnt/cube/earneodo/repos/ceciestunepipe/ceciestunepipe/util/spikeextractors/extractors/spikeglxrecordingextractor/readSGLX.py:310: UserWarning: There were 8 errors in the recording\n",
      "  warnings.warn('There were {} errors in the recording'.format(n_errors))\n",
      "/mnt/cube/earneodo/repos/ceciestunepipe/ceciestunepipe/util/spikeextractors/extractors/spikeglxrecordingextractor/readSGLX.py:311: UserWarning: You probably want to check those\n",
      "  warnings.warn('You probably want to check those')\n",
      "2022-02-16 05:21:09,038 ceciestunepipe.util.spikeextractors.preprocess INFO     saving events array to /mnt/sphere/speech_bci/derived_data/s_b1238_22/2022-01-19/sglx/0355_nightstim_g0/ap_0_sync_evt.npy\n",
      "2022-02-16 05:21:09,276 ceciestunepipe.util.spikeextractors.preprocess INFO     saving t_0 array to /mnt/sphere/speech_bci/derived_data/s_b1238_22/2022-01-19/sglx/0355_nightstim_g0/ap_0_t0.npy\n",
      "2022-02-16 05:21:13,064 ceciestunepipe.util.spikeextractors.preprocess INFO     saving sync dict to /mnt/sphere/speech_bci/derived_data/s_b1238_22/2022-01-19/sglx/0355_nightstim_g0/ap_0_sync_dict.pkl\n",
      "2022-02-16 05:21:13,095 ceciestunepipe.util.spikeextractors.preprocess INFO     loading syn_dict from /mnt/sphere/speech_bci/derived_data/s_b1238_22/2022-01-19/sglx/0355_nightstim_g0/ap_0_sync_dict.pkl\n",
      "2022-02-16 05:21:13,100 ceciestunepipe.util.spikeextractors.preprocess INFO     getting syn patterns for nidq\n",
      "2022-02-16 05:21:13,101 ceciestunepipe.util.spikeextractors.preprocess INFO     File /mnt/sphere/speech_bci/derived_data/s_b1238_22/2022-01-19/sglx/0355_nightstim_g0/nidq_sync_dict.pkl not found or forced computation, getting the events\n",
      "<ipython-input-8-d2f831978e89>:17: UserWarning: Error in epoch 0355_nightstim_g0\n",
      "  warnings.warn('Error in epoch {}'.format(epoch), UserWarning)\n",
      "2022-02-16 05:21:13,101 root         INFO     <function format_exc at 0x7f00792e18b0>\n",
      "2022-02-16 05:21:13,102 root         INFO     Dont know how to force extraction of syn signals from nidq channels here. Go back to preprocessing\n",
      "2022-02-16 05:21:13,103 root         INFO     Session 2022-01-19 epoch 0355_nightstim_g0 could not be preprocessed\n",
      "2022-02-16 05:21:15,307 ceciestunepipe.util.spikeextractors.preprocess INFO     PREPROCESSING sess 2022-01-19 | epoch 0711_g0\n",
      "2022-02-16 05:21:15,308 ceciestunepipe.util.spikeextractors.preprocess INFO     getting extractors\n",
      "2022-02-16 05:21:15,454 ceciestunepipe.util.spikeextractors.preprocess INFO     Got sglx recordings for keys ['nidq', 'lf_0', 'ap_0']\n",
      "2022-02-16 05:21:15,454 ceciestunepipe.util.spikeextractors.preprocess INFO     Getting microphone channel(s) ['microphone_0', 'microphone_1']\n",
      "2022-02-16 05:21:24,212 ceciestunepipe.util.wavutil INFO     sampling rate 40000\n",
      "2022-02-16 05:21:24,214 ceciestunepipe.util.wavutil INFO     saving (2, 575233689)-shaped array as wav in /mnt/sphere/speech_bci/derived_data/s_b1238_22/2022-01-19/sglx/0711_g0/wav_mic.wav\n",
      "2022-02-16 05:21:31,733 ceciestunepipe.util.wavutil INFO     saving (2, 575233689)-shaped array as npy in /mnt/sphere/speech_bci/derived_data/s_b1238_22/2022-01-19/sglx/0711_g0/wav_mic.npy\n",
      "2022-02-16 05:21:36,484 ceciestunepipe.util.spikeextractors.preprocess INFO     Getting stimulus channel(s) ['wav_stim', 'wav_syn']\n",
      "2022-02-16 05:21:36,486 ceciestunepipe.util.wavutil INFO     sampling rate 40000\n",
      "2022-02-16 05:21:36,487 ceciestunepipe.util.wavutil INFO     saving (2, 575233689)-shaped array as wav in /mnt/sphere/speech_bci/derived_data/s_b1238_22/2022-01-19/sglx/0711_g0/wav_stim.wav\n",
      "2022-02-16 05:21:48,383 ceciestunepipe.util.wavutil INFO     saving (2, 575233689)-shaped array as npy in /mnt/sphere/speech_bci/derived_data/s_b1238_22/2022-01-19/sglx/0711_g0/wav_stim.npy\n",
      "2022-02-16 05:22:11,342 ceciestunepipe.util.spikeextractors.preprocess INFO     Getting sync channel(s) from nidaq streams: ['sync']\n",
      "2022-02-16 05:22:11,344 ceciestunepipe.util.spikeextractors.extractors.spikeglxrecordingextractor.spikeglxrecordingextractor INFO     getting ttl traces, chan range(0, 7)\n",
      "2022-02-16 05:23:24,524 ceciestunepipe.util.wavutil INFO     sampling rate 40000\n",
      "2022-02-16 05:23:24,526 ceciestunepipe.util.wavutil INFO     saving (1, 575233689)-shaped array as wav in /mnt/sphere/speech_bci/derived_data/s_b1238_22/2022-01-19/sglx/0711_g0/wav_sync.wav\n",
      "2022-02-16 05:23:26,372 ceciestunepipe.util.wavutil INFO     saving (1, 575233689)-shaped array as npy in /mnt/sphere/speech_bci/derived_data/s_b1238_22/2022-01-19/sglx/0711_g0/wav_sync.npy\n",
      "2022-02-16 05:23:28,982 ceciestunepipe.util.spikeextractors.preprocess INFO     Getting sync events from the wav sync channel\n",
      "2022-02-16 05:23:33,138 ceciestunepipe.util.spikeextractors.preprocess INFO     saving sync events of the wav channel to /mnt/sphere/speech_bci/derived_data/s_b1238_22/2022-01-19/sglx/0711_g0/wav_sync_evt.npy\n",
      "2022-02-16 05:23:33,291 ceciestunepipe.util.spikeextractors.preprocess INFO     saving t0 for wav channel to /mnt/sphere/speech_bci/derived_data/s_b1238_22/2022-01-19/sglx/0711_g0/wav_t0.npy\n",
      "2022-02-16 05:23:57,858 ceciestunepipe.util.spikeextractors.preprocess INFO     Will get 1 ttl signals\n",
      "2022-02-16 05:23:57,859 ceciestunepipe.util.spikeextractors.preprocess INFO     looking for signal wav_ttl in the nidaq channels\n",
      "2022-02-16 05:23:57,859 ceciestunepipe.util.spikeextractors.preprocess INFO     found in chan 2\n",
      "2022-02-16 05:23:57,859 ceciestunepipe.util.spikeextractors.extractors.spikeglxrecordingextractor.spikeglxrecordingextractor INFO     getting ttl events, chan 2\n",
      "2022-02-16 05:25:34,865 ceciestunepipe.util.spikeextractors.preprocess INFO     saving (0, 2)-shaped array as npy in /mnt/sphere/speech_bci/derived_data/s_b1238_22/2022-01-19/sglx/0711_g0/wav_ttl_evt.npy\n",
      "2022-02-16 05:25:35,247 ceciestunepipe.util.spikeextractors.preprocess INFO     saving sync nidaq dict to /mnt/sphere/speech_bci/derived_data/s_b1238_22/2022-01-19/sglx/0711_g0/wav_sync_dict.pkl\n",
      "2022-02-16 05:25:35,305 ceciestunepipe.util.spikeextractors.preprocess INFO     Getting sync signals for imec streams: ['lf_0', 'ap_0']\n",
      "2022-02-16 05:25:35,306 ceciestunepipe.util.spikeextractors.preprocess INFO     getting syn patterns for lf_0\n",
      "2022-02-16 05:25:35,321 ceciestunepipe.util.spikeextractors.preprocess INFO     File /mnt/sphere/speech_bci/derived_data/s_b1238_22/2022-01-19/sglx/0711_g0/lf_0_sync_dict.pkl not found or forced computation, getting the events\n",
      "2022-02-16 05:25:35,322 ceciestunepipe.util.spikeextractors.extractors.spikeglxrecordingextractor.spikeglxrecordingextractor INFO     getting ttl events, chan 0\n",
      "2022-02-16 05:25:35,323 ceciestunepipe.util.spikeextractors.extractors.readSGLX INFO     Extracting digital on imec stream: there is only one channel, if any (SYN) and will be converted from an int16 channel \n",
      "2022-02-16 05:25:35,323 ceciestunepipe.util.spikeextractors.extractors.readSGLX INFO     allocated array for syn channel of size (35952790,)\n",
      "2022-02-16 05:27:52,290 ceciestunepipe.util.spikeextractors.extractors.readSGLX INFO     Threshold for logical hi is 0\n",
      "2022-02-16 05:27:57,488 ceciestunepipe.util.spikeextractors.preprocess INFO     saving events array to /mnt/sphere/speech_bci/derived_data/s_b1238_22/2022-01-19/sglx/0711_g0/lf_0_sync_evt.npy\n",
      "2022-02-16 05:27:58,265 ceciestunepipe.util.spikeextractors.preprocess INFO     saving t_0 array to /mnt/sphere/speech_bci/derived_data/s_b1238_22/2022-01-19/sglx/0711_g0/lf_0_t0.npy\n",
      "2022-02-16 05:27:59,029 ceciestunepipe.util.spikeextractors.preprocess INFO     saving sync dict to /mnt/sphere/speech_bci/derived_data/s_b1238_22/2022-01-19/sglx/0711_g0/lf_0_sync_dict.pkl\n",
      "2022-02-16 05:27:59,073 ceciestunepipe.util.spikeextractors.preprocess INFO     loading syn_dict from /mnt/sphere/speech_bci/derived_data/s_b1238_22/2022-01-19/sglx/0711_g0/lf_0_sync_dict.pkl\n",
      "2022-02-16 05:27:59,079 ceciestunepipe.util.spikeextractors.preprocess INFO     getting syn patterns for ap_0\n",
      "2022-02-16 05:27:59,092 ceciestunepipe.util.spikeextractors.preprocess INFO     File /mnt/sphere/speech_bci/derived_data/s_b1238_22/2022-01-19/sglx/0711_g0/ap_0_sync_dict.pkl not found or forced computation, getting the events\n",
      "2022-02-16 05:27:59,093 ceciestunepipe.util.spikeextractors.extractors.spikeglxrecordingextractor.spikeglxrecordingextractor INFO     getting ttl events, chan 0\n",
      "2022-02-16 05:27:59,094 ceciestunepipe.util.spikeextractors.extractors.readSGLX INFO     Extracting digital on imec stream: there is only one channel, if any (SYN) and will be converted from an int16 channel \n",
      "2022-02-16 05:27:59,094 ceciestunepipe.util.spikeextractors.extractors.readSGLX INFO     allocated array for syn channel of size (431433475,)\n",
      "2022-02-16 05:45:57,929 ceciestunepipe.util.spikeextractors.extractors.readSGLX INFO     Threshold for logical hi is 0\n",
      "/mnt/cube/earneodo/repos/ceciestunepipe/ceciestunepipe/util/spikeextractors/extractors/spikeglxrecordingextractor/readSGLX.py:310: UserWarning: There were 10 errors in the recording\n",
      "  warnings.warn('There were {} errors in the recording'.format(n_errors))\n",
      "/mnt/cube/earneodo/repos/ceciestunepipe/ceciestunepipe/util/spikeextractors/extractors/spikeglxrecordingextractor/readSGLX.py:311: UserWarning: You probably want to check those\n",
      "  warnings.warn('You probably want to check those')\n",
      "2022-02-16 05:47:43,589 ceciestunepipe.util.spikeextractors.preprocess INFO     saving events array to /mnt/sphere/speech_bci/derived_data/s_b1238_22/2022-01-19/sglx/0711_g0/ap_0_sync_evt.npy\n",
      "2022-02-16 05:47:44,146 ceciestunepipe.util.spikeextractors.preprocess INFO     saving t_0 array to /mnt/sphere/speech_bci/derived_data/s_b1238_22/2022-01-19/sglx/0711_g0/ap_0_t0.npy\n",
      "2022-02-16 05:47:52,027 ceciestunepipe.util.spikeextractors.preprocess INFO     saving sync dict to /mnt/sphere/speech_bci/derived_data/s_b1238_22/2022-01-19/sglx/0711_g0/ap_0_sync_dict.pkl\n",
      "2022-02-16 05:47:52,779 ceciestunepipe.util.spikeextractors.preprocess INFO     loading syn_dict from /mnt/sphere/speech_bci/derived_data/s_b1238_22/2022-01-19/sglx/0711_g0/ap_0_sync_dict.pkl\n",
      "2022-02-16 05:47:52,877 ceciestunepipe.util.spikeextractors.preprocess INFO     getting syn patterns for nidq\n",
      "2022-02-16 05:47:52,913 ceciestunepipe.util.spikeextractors.preprocess INFO     loading syn_dict from /mnt/sphere/speech_bci/derived_data/s_b1238_22/2022-01-19/sglx/0711_g0/nidq_sync_dict.pkl\n",
      "2022-02-16 05:47:53,362 ceciestunepipe.util.spikeextractors.preprocess INFO     getting syn patterns for wav\n",
      "2022-02-16 05:47:53,398 ceciestunepipe.util.spikeextractors.preprocess INFO     loading syn_dict from /mnt/sphere/speech_bci/derived_data/s_b1238_22/2022-01-19/sglx/0711_g0/wav_sync_dict.pkl\n",
      "2022-02-16 05:47:53,912 ceciestunepipe.util.spikeextractors.preprocess INFO     PREPROCESSING sess 2022-01-19 | epoch 1113_g0\n",
      "2022-02-16 05:47:53,913 ceciestunepipe.util.spikeextractors.preprocess INFO     getting extractors\n",
      "2022-02-16 05:47:54,751 ceciestunepipe.util.spikeextractors.preprocess INFO     Got sglx recordings for keys ['nidq', 'lf_0', 'ap_0']\n",
      "2022-02-16 05:47:54,752 ceciestunepipe.util.spikeextractors.preprocess INFO     Getting microphone channel(s) ['microphone_0', 'microphone_1']\n",
      "2022-02-16 05:48:50,387 ceciestunepipe.util.wavutil INFO     sampling rate 40000\n",
      "2022-02-16 05:48:50,389 ceciestunepipe.util.wavutil INFO     saving (2, 650698701)-shaped array as wav in /mnt/sphere/speech_bci/derived_data/s_b1238_22/2022-01-19/sglx/1113_g0/wav_mic.wav\n",
      "2022-02-16 05:49:33,391 ceciestunepipe.util.wavutil INFO     saving (2, 650698701)-shaped array as npy in /mnt/sphere/speech_bci/derived_data/s_b1238_22/2022-01-19/sglx/1113_g0/wav_mic.npy\n",
      "2022-02-16 05:49:39,586 ceciestunepipe.util.spikeextractors.preprocess INFO     Getting stimulus channel(s) ['wav_stim', 'wav_syn']\n",
      "2022-02-16 05:49:39,588 ceciestunepipe.util.wavutil INFO     sampling rate 40000\n",
      "2022-02-16 05:49:39,588 ceciestunepipe.util.wavutil INFO     saving (2, 650698701)-shaped array as wav in /mnt/sphere/speech_bci/derived_data/s_b1238_22/2022-01-19/sglx/1113_g0/wav_stim.wav\n",
      "2022-02-16 05:50:27,480 ceciestunepipe.util.wavutil INFO     saving (2, 650698701)-shaped array as npy in /mnt/sphere/speech_bci/derived_data/s_b1238_22/2022-01-19/sglx/1113_g0/wav_stim.npy\n",
      "2022-02-16 05:50:55,040 ceciestunepipe.util.spikeextractors.preprocess INFO     Getting sync channel(s) from nidaq streams: ['sync']\n",
      "2022-02-16 05:50:55,042 ceciestunepipe.util.spikeextractors.extractors.spikeglxrecordingextractor.spikeglxrecordingextractor INFO     getting ttl traces, chan range(0, 7)\n",
      "2022-02-16 05:53:03,382 ceciestunepipe.util.wavutil INFO     sampling rate 40000\n",
      "2022-02-16 05:53:03,384 ceciestunepipe.util.wavutil INFO     saving (1, 650698701)-shaped array as wav in /mnt/sphere/speech_bci/derived_data/s_b1238_22/2022-01-19/sglx/1113_g0/wav_sync.wav\n",
      "2022-02-16 05:53:05,419 ceciestunepipe.util.wavutil INFO     saving (1, 650698701)-shaped array as npy in /mnt/sphere/speech_bci/derived_data/s_b1238_22/2022-01-19/sglx/1113_g0/wav_sync.npy\n",
      "2022-02-16 05:53:07,470 ceciestunepipe.util.spikeextractors.preprocess INFO     Getting sync events from the wav sync channel\n",
      "2022-02-16 05:53:36,441 ceciestunepipe.util.spikeextractors.preprocess INFO     saving sync events of the wav channel to /mnt/sphere/speech_bci/derived_data/s_b1238_22/2022-01-19/sglx/1113_g0/wav_sync_evt.npy\n",
      "2022-02-16 05:53:36,485 ceciestunepipe.util.spikeextractors.preprocess INFO     saving t0 for wav channel to /mnt/sphere/speech_bci/derived_data/s_b1238_22/2022-01-19/sglx/1113_g0/wav_t0.npy\n",
      "2022-02-16 05:54:50,469 ceciestunepipe.util.spikeextractors.preprocess INFO     Will get 1 ttl signals\n",
      "2022-02-16 05:54:50,471 ceciestunepipe.util.spikeextractors.preprocess INFO     looking for signal wav_ttl in the nidaq channels\n",
      "2022-02-16 05:54:50,472 ceciestunepipe.util.spikeextractors.preprocess INFO     found in chan 2\n",
      "2022-02-16 05:54:50,473 ceciestunepipe.util.spikeextractors.extractors.spikeglxrecordingextractor.spikeglxrecordingextractor INFO     getting ttl events, chan 2\n",
      "2022-02-16 05:55:57,961 ceciestunepipe.util.spikeextractors.preprocess INFO     saving (0, 2)-shaped array as npy in /mnt/sphere/speech_bci/derived_data/s_b1238_22/2022-01-19/sglx/1113_g0/wav_ttl_evt.npy\n",
      "2022-02-16 05:55:58,118 ceciestunepipe.util.spikeextractors.preprocess INFO     saving sync nidaq dict to /mnt/sphere/speech_bci/derived_data/s_b1238_22/2022-01-19/sglx/1113_g0/wav_sync_dict.pkl\n",
      "2022-02-16 05:55:58,126 ceciestunepipe.util.spikeextractors.preprocess INFO     Getting sync signals for imec streams: ['lf_0', 'ap_0']\n",
      "2022-02-16 05:55:58,127 ceciestunepipe.util.spikeextractors.preprocess INFO     getting syn patterns for lf_0\n",
      "2022-02-16 05:55:58,147 ceciestunepipe.util.spikeextractors.preprocess INFO     File /mnt/sphere/speech_bci/derived_data/s_b1238_22/2022-01-19/sglx/1113_g0/lf_0_sync_dict.pkl not found or forced computation, getting the events\n",
      "2022-02-16 05:55:58,148 ceciestunepipe.util.spikeextractors.extractors.spikeglxrecordingextractor.spikeglxrecordingextractor INFO     getting ttl events, chan 0\n",
      "2022-02-16 05:55:58,149 ceciestunepipe.util.spikeextractors.extractors.readSGLX INFO     Extracting digital on imec stream: there is only one channel, if any (SYN) and will be converted from an int16 channel \n",
      "2022-02-16 05:55:58,149 ceciestunepipe.util.spikeextractors.extractors.readSGLX INFO     allocated array for syn channel of size (40669453,)\n",
      "2022-02-16 05:57:04,488 ceciestunepipe.util.spikeextractors.extractors.readSGLX INFO     Threshold for logical hi is 0\n",
      "/mnt/cube/earneodo/repos/ceciestunepipe/ceciestunepipe/util/spikeextractors/extractors/spikeglxrecordingextractor/readSGLX.py:310: UserWarning: There were 1 errors in the recording\n",
      "  warnings.warn('There were {} errors in the recording'.format(n_errors))\n",
      "/mnt/cube/earneodo/repos/ceciestunepipe/ceciestunepipe/util/spikeextractors/extractors/spikeglxrecordingextractor/readSGLX.py:311: UserWarning: You probably want to check those\n",
      "  warnings.warn('You probably want to check those')\n",
      "2022-02-16 05:57:32,708 ceciestunepipe.util.spikeextractors.preprocess INFO     saving events array to /mnt/sphere/speech_bci/derived_data/s_b1238_22/2022-01-19/sglx/1113_g0/lf_0_sync_evt.npy\n",
      "2022-02-16 05:57:32,759 ceciestunepipe.util.spikeextractors.preprocess INFO     saving t_0 array to /mnt/sphere/speech_bci/derived_data/s_b1238_22/2022-01-19/sglx/1113_g0/lf_0_t0.npy\n",
      "2022-02-16 05:57:33,261 ceciestunepipe.util.spikeextractors.preprocess INFO     saving sync dict to /mnt/sphere/speech_bci/derived_data/s_b1238_22/2022-01-19/sglx/1113_g0/lf_0_sync_dict.pkl\n",
      "2022-02-16 05:57:33,264 ceciestunepipe.util.spikeextractors.preprocess INFO     loading syn_dict from /mnt/sphere/speech_bci/derived_data/s_b1238_22/2022-01-19/sglx/1113_g0/lf_0_sync_dict.pkl\n",
      "2022-02-16 05:57:33,268 ceciestunepipe.util.spikeextractors.preprocess INFO     getting syn patterns for ap_0\n",
      "2022-02-16 05:57:33,298 ceciestunepipe.util.spikeextractors.preprocess INFO     File /mnt/sphere/speech_bci/derived_data/s_b1238_22/2022-01-19/sglx/1113_g0/ap_0_sync_dict.pkl not found or forced computation, getting the events\n",
      "2022-02-16 05:57:33,299 ceciestunepipe.util.spikeextractors.extractors.spikeglxrecordingextractor.spikeglxrecordingextractor INFO     getting ttl events, chan 0\n",
      "2022-02-16 05:57:33,299 ceciestunepipe.util.spikeextractors.extractors.readSGLX INFO     Extracting digital on imec stream: there is only one channel, if any (SYN) and will be converted from an int16 channel \n",
      "2022-02-16 05:57:33,301 ceciestunepipe.util.spikeextractors.extractors.readSGLX INFO     allocated array for syn channel of size (488033436,)\n",
      "2022-02-16 06:20:20,634 ceciestunepipe.util.spikeextractors.extractors.readSGLX INFO     Threshold for logical hi is 0\n",
      "/mnt/cube/earneodo/repos/ceciestunepipe/ceciestunepipe/util/spikeextractors/extractors/spikeglxrecordingextractor/readSGLX.py:310: UserWarning: There were 6 errors in the recording\n",
      "  warnings.warn('There were {} errors in the recording'.format(n_errors))\n",
      "/mnt/cube/earneodo/repos/ceciestunepipe/ceciestunepipe/util/spikeextractors/extractors/spikeglxrecordingextractor/readSGLX.py:311: UserWarning: You probably want to check those\n",
      "  warnings.warn('You probably want to check those')\n",
      "2022-02-16 06:25:00,786 ceciestunepipe.util.spikeextractors.preprocess INFO     saving events array to /mnt/sphere/speech_bci/derived_data/s_b1238_22/2022-01-19/sglx/1113_g0/ap_0_sync_evt.npy\n",
      "2022-02-16 06:25:01,509 ceciestunepipe.util.spikeextractors.preprocess INFO     saving t_0 array to /mnt/sphere/speech_bci/derived_data/s_b1238_22/2022-01-19/sglx/1113_g0/ap_0_t0.npy\n",
      "2022-02-16 06:25:18,131 ceciestunepipe.util.spikeextractors.preprocess INFO     saving sync dict to /mnt/sphere/speech_bci/derived_data/s_b1238_22/2022-01-19/sglx/1113_g0/ap_0_sync_dict.pkl\n",
      "2022-02-16 06:25:18,262 ceciestunepipe.util.spikeextractors.preprocess INFO     loading syn_dict from /mnt/sphere/speech_bci/derived_data/s_b1238_22/2022-01-19/sglx/1113_g0/ap_0_sync_dict.pkl\n",
      "2022-02-16 06:25:18,404 ceciestunepipe.util.spikeextractors.preprocess INFO     getting syn patterns for nidq\n",
      "2022-02-16 06:25:18,435 ceciestunepipe.util.spikeextractors.preprocess INFO     File /mnt/sphere/speech_bci/derived_data/s_b1238_22/2022-01-19/sglx/1113_g0/nidq_sync_dict.pkl not found or forced computation, getting the events\n",
      "<ipython-input-8-d2f831978e89>:17: UserWarning: Error in epoch 1113_g0\n",
      "  warnings.warn('Error in epoch {}'.format(epoch), UserWarning)\n",
      "2022-02-16 06:25:18,436 root         INFO     <function format_exc at 0x7f00792e18b0>\n",
      "2022-02-16 06:25:18,437 root         INFO     Dont know how to force extraction of syn signals from nidq channels here. Go back to preprocessing\n",
      "2022-02-16 06:25:18,437 root         INFO     Session 2022-01-19 epoch 1113_g0 could not be preprocessed\n",
      "2022-02-16 06:25:19,270 ceciestunepipe.util.spikeextractors.preprocess INFO     PREPROCESSING sess 2022-01-19 | epoch 1545_g0\n",
      "2022-02-16 06:25:19,271 ceciestunepipe.util.spikeextractors.preprocess INFO     getting extractors\n",
      "2022-02-16 06:25:20,614 ceciestunepipe.util.spikeextractors.preprocess INFO     Got sglx recordings for keys ['nidq', 'lf_0', 'ap_0']\n",
      "2022-02-16 06:25:20,614 ceciestunepipe.util.spikeextractors.preprocess INFO     Getting microphone channel(s) ['microphone_0', 'microphone_1']\n",
      "2022-02-16 06:25:59,035 ceciestunepipe.util.wavutil INFO     sampling rate 40000\n",
      "2022-02-16 06:25:59,036 ceciestunepipe.util.wavutil INFO     saving (2, 553444353)-shaped array as wav in /mnt/sphere/speech_bci/derived_data/s_b1238_22/2022-01-19/sglx/1545_g0/wav_mic.wav\n",
      "2022-02-16 06:26:38,977 ceciestunepipe.util.wavutil INFO     saving (2, 553444353)-shaped array as npy in /mnt/sphere/speech_bci/derived_data/s_b1238_22/2022-01-19/sglx/1545_g0/wav_mic.npy\n",
      "2022-02-16 06:26:45,001 ceciestunepipe.util.spikeextractors.preprocess INFO     Getting stimulus channel(s) ['wav_stim', 'wav_syn']\n",
      "2022-02-16 06:26:45,003 ceciestunepipe.util.wavutil INFO     sampling rate 40000\n",
      "2022-02-16 06:26:45,004 ceciestunepipe.util.wavutil INFO     saving (2, 553444353)-shaped array as wav in /mnt/sphere/speech_bci/derived_data/s_b1238_22/2022-01-19/sglx/1545_g0/wav_stim.wav\n",
      "2022-02-16 06:27:28,156 ceciestunepipe.util.wavutil INFO     saving (2, 553444353)-shaped array as npy in /mnt/sphere/speech_bci/derived_data/s_b1238_22/2022-01-19/sglx/1545_g0/wav_stim.npy\n",
      "2022-02-16 06:27:50,293 ceciestunepipe.util.spikeextractors.preprocess INFO     Getting sync channel(s) from nidaq streams: ['sync']\n",
      "2022-02-16 06:27:50,295 ceciestunepipe.util.spikeextractors.extractors.spikeglxrecordingextractor.spikeglxrecordingextractor INFO     getting ttl traces, chan range(0, 7)\n",
      "2022-02-16 06:29:14,820 ceciestunepipe.util.wavutil INFO     sampling rate 40000\n",
      "2022-02-16 06:29:14,822 ceciestunepipe.util.wavutil INFO     saving (1, 553444353)-shaped array as wav in /mnt/sphere/speech_bci/derived_data/s_b1238_22/2022-01-19/sglx/1545_g0/wav_sync.wav\n",
      "2022-02-16 06:29:17,279 ceciestunepipe.util.wavutil INFO     saving (1, 553444353)-shaped array as npy in /mnt/sphere/speech_bci/derived_data/s_b1238_22/2022-01-19/sglx/1545_g0/wav_sync.npy\n",
      "2022-02-16 06:29:19,966 ceciestunepipe.util.spikeextractors.preprocess INFO     Getting sync events from the wav sync channel\n",
      "2022-02-16 06:29:22,786 ceciestunepipe.util.spikeextractors.preprocess INFO     saving sync events of the wav channel to /mnt/sphere/speech_bci/derived_data/s_b1238_22/2022-01-19/sglx/1545_g0/wav_sync_evt.npy\n",
      "2022-02-16 06:29:23,022 ceciestunepipe.util.spikeextractors.preprocess INFO     saving t0 for wav channel to /mnt/sphere/speech_bci/derived_data/s_b1238_22/2022-01-19/sglx/1545_g0/wav_t0.npy\n",
      "2022-02-16 06:30:58,654 ceciestunepipe.util.spikeextractors.preprocess INFO     Will get 1 ttl signals\n",
      "2022-02-16 06:30:58,655 ceciestunepipe.util.spikeextractors.preprocess INFO     looking for signal wav_ttl in the nidaq channels\n",
      "2022-02-16 06:30:58,656 ceciestunepipe.util.spikeextractors.preprocess INFO     found in chan 2\n",
      "2022-02-16 06:30:58,656 ceciestunepipe.util.spikeextractors.extractors.spikeglxrecordingextractor.spikeglxrecordingextractor INFO     getting ttl events, chan 2\n",
      "2022-02-16 06:33:07,081 ceciestunepipe.util.spikeextractors.preprocess INFO     saving (0, 2)-shaped array as npy in /mnt/sphere/speech_bci/derived_data/s_b1238_22/2022-01-19/sglx/1545_g0/wav_ttl_evt.npy\n",
      "2022-02-16 06:33:07,224 ceciestunepipe.util.spikeextractors.preprocess INFO     saving sync nidaq dict to /mnt/sphere/speech_bci/derived_data/s_b1238_22/2022-01-19/sglx/1545_g0/wav_sync_dict.pkl\n",
      "2022-02-16 06:33:07,226 ceciestunepipe.util.spikeextractors.preprocess INFO     Getting sync signals for imec streams: ['lf_0', 'ap_0']\n",
      "2022-02-16 06:33:07,227 ceciestunepipe.util.spikeextractors.preprocess INFO     getting syn patterns for lf_0\n",
      "2022-02-16 06:33:07,249 ceciestunepipe.util.spikeextractors.preprocess INFO     File /mnt/sphere/speech_bci/derived_data/s_b1238_22/2022-01-19/sglx/1545_g0/lf_0_sync_dict.pkl not found or forced computation, getting the events\n",
      "2022-02-16 06:33:07,250 ceciestunepipe.util.spikeextractors.extractors.spikeglxrecordingextractor.spikeglxrecordingextractor INFO     getting ttl events, chan 0\n",
      "2022-02-16 06:33:07,251 ceciestunepipe.util.spikeextractors.extractors.readSGLX INFO     Extracting digital on imec stream: there is only one channel, if any (SYN) and will be converted from an int16 channel \n",
      "2022-02-16 06:33:07,252 ceciestunepipe.util.spikeextractors.extractors.readSGLX INFO     allocated array for syn channel of size (34590933,)\n",
      "2022-02-16 06:34:11,504 ceciestunepipe.util.spikeextractors.extractors.readSGLX INFO     Threshold for logical hi is 0\n",
      "/mnt/cube/earneodo/repos/ceciestunepipe/ceciestunepipe/util/spikeextractors/extractors/spikeglxrecordingextractor/readSGLX.py:310: UserWarning: There were 1 errors in the recording\n",
      "  warnings.warn('There were {} errors in the recording'.format(n_errors))\n",
      "/mnt/cube/earneodo/repos/ceciestunepipe/ceciestunepipe/util/spikeextractors/extractors/spikeglxrecordingextractor/readSGLX.py:311: UserWarning: You probably want to check those\n",
      "  warnings.warn('You probably want to check those')\n",
      "2022-02-16 06:34:28,091 ceciestunepipe.util.spikeextractors.preprocess INFO     saving events array to /mnt/sphere/speech_bci/derived_data/s_b1238_22/2022-01-19/sglx/1545_g0/lf_0_sync_evt.npy\n",
      "2022-02-16 06:34:28,228 ceciestunepipe.util.spikeextractors.preprocess INFO     saving t_0 array to /mnt/sphere/speech_bci/derived_data/s_b1238_22/2022-01-19/sglx/1545_g0/lf_0_t0.npy\n",
      "2022-02-16 06:34:28,651 ceciestunepipe.util.spikeextractors.preprocess INFO     saving sync dict to /mnt/sphere/speech_bci/derived_data/s_b1238_22/2022-01-19/sglx/1545_g0/lf_0_sync_dict.pkl\n",
      "2022-02-16 06:34:28,703 ceciestunepipe.util.spikeextractors.preprocess INFO     loading syn_dict from /mnt/sphere/speech_bci/derived_data/s_b1238_22/2022-01-19/sglx/1545_g0/lf_0_sync_dict.pkl\n",
      "2022-02-16 06:34:28,707 ceciestunepipe.util.spikeextractors.preprocess INFO     getting syn patterns for ap_0\n",
      "2022-02-16 06:34:28,746 ceciestunepipe.util.spikeextractors.preprocess INFO     File /mnt/sphere/speech_bci/derived_data/s_b1238_22/2022-01-19/sglx/1545_g0/ap_0_sync_dict.pkl not found or forced computation, getting the events\n",
      "2022-02-16 06:34:28,747 ceciestunepipe.util.spikeextractors.extractors.spikeglxrecordingextractor.spikeglxrecordingextractor INFO     getting ttl events, chan 0\n",
      "2022-02-16 06:34:28,748 ceciestunepipe.util.spikeextractors.extractors.readSGLX INFO     Extracting digital on imec stream: there is only one channel, if any (SYN) and will be converted from an int16 channel \n",
      "2022-02-16 06:34:28,748 ceciestunepipe.util.spikeextractors.extractors.readSGLX INFO     allocated array for syn channel of size (415091194,)\n",
      "2022-02-16 06:59:31,246 ceciestunepipe.util.spikeextractors.extractors.readSGLX INFO     Threshold for logical hi is 0\n",
      "/mnt/cube/earneodo/repos/ceciestunepipe/ceciestunepipe/util/spikeextractors/extractors/spikeglxrecordingextractor/readSGLX.py:310: UserWarning: There were 12 errors in the recording\n",
      "  warnings.warn('There were {} errors in the recording'.format(n_errors))\n",
      "/mnt/cube/earneodo/repos/ceciestunepipe/ceciestunepipe/util/spikeextractors/extractors/spikeglxrecordingextractor/readSGLX.py:311: UserWarning: You probably want to check those\n",
      "  warnings.warn('You probably want to check those')\n",
      "2022-02-16 07:03:07,492 ceciestunepipe.util.spikeextractors.preprocess INFO     saving events array to /mnt/sphere/speech_bci/derived_data/s_b1238_22/2022-01-19/sglx/1545_g0/ap_0_sync_evt.npy\n",
      "2022-02-16 07:03:08,309 ceciestunepipe.util.spikeextractors.preprocess INFO     saving t_0 array to /mnt/sphere/speech_bci/derived_data/s_b1238_22/2022-01-19/sglx/1545_g0/ap_0_t0.npy\n",
      "2022-02-16 07:03:16,749 ceciestunepipe.util.spikeextractors.preprocess INFO     saving sync dict to /mnt/sphere/speech_bci/derived_data/s_b1238_22/2022-01-19/sglx/1545_g0/ap_0_sync_dict.pkl\n",
      "2022-02-16 07:03:16,805 ceciestunepipe.util.spikeextractors.preprocess INFO     loading syn_dict from /mnt/sphere/speech_bci/derived_data/s_b1238_22/2022-01-19/sglx/1545_g0/ap_0_sync_dict.pkl\n",
      "2022-02-16 07:03:16,906 ceciestunepipe.util.spikeextractors.preprocess INFO     getting syn patterns for nidq\n",
      "2022-02-16 07:03:16,933 ceciestunepipe.util.spikeextractors.preprocess INFO     File /mnt/sphere/speech_bci/derived_data/s_b1238_22/2022-01-19/sglx/1545_g0/nidq_sync_dict.pkl not found or forced computation, getting the events\n",
      "<ipython-input-8-d2f831978e89>:17: UserWarning: Error in epoch 1545_g0\n",
      "  warnings.warn('Error in epoch {}'.format(epoch), UserWarning)\n",
      "2022-02-16 07:03:16,934 root         INFO     <function format_exc at 0x7f00792e18b0>\n",
      "2022-02-16 07:03:16,934 root         INFO     Dont know how to force extraction of syn signals from nidq channels here. Go back to preprocessing\n",
      "2022-02-16 07:03:16,935 root         INFO     Session 2022-01-19 epoch 1545_g0 could not be preprocessed\n",
      "2022-02-16 07:03:17,993 root         INFO     pre-process all runs of sess 2022-01-20\n",
      "2022-02-16 07:03:17,994 ceciestunepipe.file.bcistructure INFO     {'folders': {'bird': '/mnt/sphere/speech_bci/raw_data/s_b1238_22', 'raw': '/mnt/sphere/speech_bci/raw_data/s_b1238_22/2022-01-20', 'sglx': '/mnt/sphere/speech_bci/raw_data/s_b1238_22/2022-01-20/sglx', 'kwik': '/scratch/earneodo/s_b1238_22/sglx/kwik/2022-01-20', 'processed': '/mnt/sphere/speech_bci/processed_data/s_b1238_22/2022-01-20/sglx', 'derived': '/mnt/sphere/speech_bci/derived_data/s_b1238_22/2022-01-20/sglx', 'tmp': '/scratch/earneodo/tmp', 'msort': '/scratch/earneodo/s_b1238_22/sglx/msort/2022-01-20', 'ksort': '/scratch/earneodo/s_b1238_22/sglx/ksort/2022-01-20/2', 'sort': '/mnt/sphere/speech_bci/derived_data/s_b1238_22/2022-01-20/sglx/2'}, 'files': {'par': '/scratch/earneodo/s_b1238_22/sglx/ksort/2022-01-20/2/params.json', 'set': '/mnt/sphere/speech_bci/raw_data/s_b1238_22/2022-01-20/sglx/settings.isf', 'rig': '/mnt/sphere/speech_bci/raw_data/s_b1238_22/2022-01-20/sglx/rig.json', 'kwd': '/scratch/earneodo/s_b1238_22/sglx/kwik/2022-01-20/stream.kwd', 'kwik': '/scratch/earneodo/s_b1238_22/sglx/kwik/2022-01-20/sort_2/spikes.kwik', 'kwe': '/scratch/earneodo/s_b1238_22/sglx/kwik/2022-01-20/events.kwe', 'dat_mic': '/mnt/sphere/speech_bci/processed_data/s_b1238_22/2022-01-20/sglx/dat_mic.mat', 'dat_ap': '/mnt/sphere/speech_bci/processed_data/s_b1238_22/2022-01-20/sglx/dat_ap.mat', 'allevents': '/mnt/sphere/speech_bci/processed_data/s_b1238_22/2022-01-20/sglx/dat_all.pkl', 'wav_mic': '/mnt/sphere/speech_bci/derived_data/s_b1238_22/2022-01-20/sglx/wav_mic.wav', 'mda_raw': '/scratch/earneodo/s_b1238_22/sglx/msort/2022-01-20/raw.mda', 'bin_raw': '/scratch/earneodo/s_b1238_22/sglx/ksort/2022-01-20/2/raw.bin'}}\n",
      "2022-02-16 07:03:18,075 root         INFO     found epochs: []\n",
      "2022-02-16 07:03:18,076 root         INFO     pre-process all runs of sess 2022-01-26\n",
      "2022-02-16 07:03:18,076 ceciestunepipe.file.bcistructure INFO     {'folders': {'bird': '/mnt/sphere/speech_bci/raw_data/s_b1238_22', 'raw': '/mnt/sphere/speech_bci/raw_data/s_b1238_22/2022-01-26', 'sglx': '/mnt/sphere/speech_bci/raw_data/s_b1238_22/2022-01-26/sglx', 'kwik': '/scratch/earneodo/s_b1238_22/sglx/kwik/2022-01-26', 'processed': '/mnt/sphere/speech_bci/processed_data/s_b1238_22/2022-01-26/sglx', 'derived': '/mnt/sphere/speech_bci/derived_data/s_b1238_22/2022-01-26/sglx', 'tmp': '/scratch/earneodo/tmp', 'msort': '/scratch/earneodo/s_b1238_22/sglx/msort/2022-01-26', 'ksort': '/scratch/earneodo/s_b1238_22/sglx/ksort/2022-01-26/2', 'sort': '/mnt/sphere/speech_bci/derived_data/s_b1238_22/2022-01-26/sglx/2'}, 'files': {'par': '/scratch/earneodo/s_b1238_22/sglx/ksort/2022-01-26/2/params.json', 'set': '/mnt/sphere/speech_bci/raw_data/s_b1238_22/2022-01-26/sglx/settings.isf', 'rig': '/mnt/sphere/speech_bci/raw_data/s_b1238_22/2022-01-26/sglx/rig.json', 'kwd': '/scratch/earneodo/s_b1238_22/sglx/kwik/2022-01-26/stream.kwd', 'kwik': '/scratch/earneodo/s_b1238_22/sglx/kwik/2022-01-26/sort_2/spikes.kwik', 'kwe': '/scratch/earneodo/s_b1238_22/sglx/kwik/2022-01-26/events.kwe', 'dat_mic': '/mnt/sphere/speech_bci/processed_data/s_b1238_22/2022-01-26/sglx/dat_mic.mat', 'dat_ap': '/mnt/sphere/speech_bci/processed_data/s_b1238_22/2022-01-26/sglx/dat_ap.mat', 'allevents': '/mnt/sphere/speech_bci/processed_data/s_b1238_22/2022-01-26/sglx/dat_all.pkl', 'wav_mic': '/mnt/sphere/speech_bci/derived_data/s_b1238_22/2022-01-26/sglx/wav_mic.wav', 'mda_raw': '/scratch/earneodo/s_b1238_22/sglx/msort/2022-01-26/raw.mda', 'bin_raw': '/scratch/earneodo/s_b1238_22/sglx/ksort/2022-01-26/2/raw.bin'}}\n",
      "2022-02-16 07:03:18,145 root         INFO     found epochs: []\n",
      "2022-02-16 07:03:18,145 root         INFO     pre-process all runs of sess 2022-01-27\n",
      "2022-02-16 07:03:18,146 ceciestunepipe.file.bcistructure INFO     {'folders': {'bird': '/mnt/sphere/speech_bci/raw_data/s_b1238_22', 'raw': '/mnt/sphere/speech_bci/raw_data/s_b1238_22/2022-01-27', 'sglx': '/mnt/sphere/speech_bci/raw_data/s_b1238_22/2022-01-27/sglx', 'kwik': '/scratch/earneodo/s_b1238_22/sglx/kwik/2022-01-27', 'processed': '/mnt/sphere/speech_bci/processed_data/s_b1238_22/2022-01-27/sglx', 'derived': '/mnt/sphere/speech_bci/derived_data/s_b1238_22/2022-01-27/sglx', 'tmp': '/scratch/earneodo/tmp', 'msort': '/scratch/earneodo/s_b1238_22/sglx/msort/2022-01-27', 'ksort': '/scratch/earneodo/s_b1238_22/sglx/ksort/2022-01-27/2', 'sort': '/mnt/sphere/speech_bci/derived_data/s_b1238_22/2022-01-27/sglx/2'}, 'files': {'par': '/scratch/earneodo/s_b1238_22/sglx/ksort/2022-01-27/2/params.json', 'set': '/mnt/sphere/speech_bci/raw_data/s_b1238_22/2022-01-27/sglx/settings.isf', 'rig': '/mnt/sphere/speech_bci/raw_data/s_b1238_22/2022-01-27/sglx/rig.json', 'kwd': '/scratch/earneodo/s_b1238_22/sglx/kwik/2022-01-27/stream.kwd', 'kwik': '/scratch/earneodo/s_b1238_22/sglx/kwik/2022-01-27/sort_2/spikes.kwik', 'kwe': '/scratch/earneodo/s_b1238_22/sglx/kwik/2022-01-27/events.kwe', 'dat_mic': '/mnt/sphere/speech_bci/processed_data/s_b1238_22/2022-01-27/sglx/dat_mic.mat', 'dat_ap': '/mnt/sphere/speech_bci/processed_data/s_b1238_22/2022-01-27/sglx/dat_ap.mat', 'allevents': '/mnt/sphere/speech_bci/processed_data/s_b1238_22/2022-01-27/sglx/dat_all.pkl', 'wav_mic': '/mnt/sphere/speech_bci/derived_data/s_b1238_22/2022-01-27/sglx/wav_mic.wav', 'mda_raw': '/scratch/earneodo/s_b1238_22/sglx/msort/2022-01-27/raw.mda', 'bin_raw': '/scratch/earneodo/s_b1238_22/sglx/ksort/2022-01-27/2/raw.bin'}}\n",
      "2022-02-16 07:03:18,503 root         INFO     found epochs: ['0605_g0', '1154_g0', '1722_g0', '2005_g0', '2135_nightstim_g0']\n",
      "2022-02-16 07:03:18,505 ceciestunepipe.util.spikeextractors.preprocess INFO     PREPROCESSING sess 2022-01-27 | epoch 0605_g0\n",
      "2022-02-16 07:03:18,505 ceciestunepipe.util.spikeextractors.preprocess INFO     getting extractors\n",
      "2022-02-16 07:03:19,159 ceciestunepipe.util.spikeextractors.preprocess INFO     Got sglx recordings for keys ['nidq', 'lf_0', 'ap_0']\n",
      "2022-02-16 07:03:19,160 ceciestunepipe.util.spikeextractors.preprocess INFO     Getting microphone channel(s) ['microphone_0', 'microphone_1']\n",
      "2022-02-16 07:04:03,668 ceciestunepipe.util.wavutil INFO     sampling rate 40000\n",
      "2022-02-16 07:04:03,670 ceciestunepipe.util.wavutil INFO     saving (2, 834494107)-shaped array as wav in /mnt/sphere/speech_bci/derived_data/s_b1238_22/2022-01-27/sglx/0605_g0/wav_mic.wav\n",
      "2022-02-16 07:04:45,494 ceciestunepipe.util.wavutil INFO     saving (2, 834494107)-shaped array as npy in /mnt/sphere/speech_bci/derived_data/s_b1238_22/2022-01-27/sglx/0605_g0/wav_mic.npy\n",
      "2022-02-16 07:04:50,299 ceciestunepipe.util.spikeextractors.preprocess INFO     Getting stimulus channel(s) ['wav_stim', 'wav_syn']\n",
      "2022-02-16 07:04:50,301 ceciestunepipe.util.wavutil INFO     sampling rate 40000\n",
      "2022-02-16 07:04:50,301 ceciestunepipe.util.wavutil INFO     saving (2, 834494107)-shaped array as wav in /mnt/sphere/speech_bci/derived_data/s_b1238_22/2022-01-27/sglx/0605_g0/wav_stim.wav\n",
      "2022-02-16 07:06:26,446 ceciestunepipe.util.wavutil INFO     saving (2, 834494107)-shaped array as npy in /mnt/sphere/speech_bci/derived_data/s_b1238_22/2022-01-27/sglx/0605_g0/wav_stim.npy\n",
      "2022-02-16 07:06:59,983 ceciestunepipe.util.spikeextractors.preprocess INFO     Getting sync channel(s) from nidaq streams: ['sync']\n",
      "2022-02-16 07:06:59,985 ceciestunepipe.util.spikeextractors.extractors.spikeglxrecordingextractor.spikeglxrecordingextractor INFO     getting ttl traces, chan range(0, 7)\n",
      "2022-02-16 07:07:32,526 ceciestunepipe.util.wavutil INFO     sampling rate 40000\n",
      "2022-02-16 07:07:32,528 ceciestunepipe.util.wavutil INFO     saving (1, 834494107)-shaped array as wav in /mnt/sphere/speech_bci/derived_data/s_b1238_22/2022-01-27/sglx/0605_g0/wav_sync.wav\n",
      "2022-02-16 07:07:35,217 ceciestunepipe.util.wavutil INFO     saving (1, 834494107)-shaped array as npy in /mnt/sphere/speech_bci/derived_data/s_b1238_22/2022-01-27/sglx/0605_g0/wav_sync.npy\n",
      "2022-02-16 07:07:37,570 ceciestunepipe.util.spikeextractors.preprocess INFO     Getting sync events from the wav sync channel\n",
      "2022-02-16 07:07:41,642 ceciestunepipe.util.spikeextractors.preprocess INFO     saving sync events of the wav channel to /mnt/sphere/speech_bci/derived_data/s_b1238_22/2022-01-27/sglx/0605_g0/wav_sync_evt.npy\n",
      "2022-02-16 07:07:41,725 ceciestunepipe.util.spikeextractors.preprocess INFO     saving t0 for wav channel to /mnt/sphere/speech_bci/derived_data/s_b1238_22/2022-01-27/sglx/0605_g0/wav_t0.npy\n",
      "2022-02-16 07:07:54,182 ceciestunepipe.util.spikeextractors.preprocess INFO     Will get 1 ttl signals\n",
      "2022-02-16 07:07:54,183 ceciestunepipe.util.spikeextractors.preprocess INFO     looking for signal wav_ttl in the nidaq channels\n",
      "2022-02-16 07:07:54,184 ceciestunepipe.util.spikeextractors.preprocess INFO     found in chan 2\n",
      "2022-02-16 07:07:54,185 ceciestunepipe.util.spikeextractors.extractors.spikeglxrecordingextractor.spikeglxrecordingextractor INFO     getting ttl events, chan 2\n",
      "2022-02-16 07:08:02,017 ceciestunepipe.util.spikeextractors.preprocess INFO     saving (0, 2)-shaped array as npy in /mnt/sphere/speech_bci/derived_data/s_b1238_22/2022-01-27/sglx/0605_g0/wav_ttl_evt.npy\n",
      "2022-02-16 07:08:02,116 ceciestunepipe.util.spikeextractors.preprocess INFO     saving sync nidaq dict to /mnt/sphere/speech_bci/derived_data/s_b1238_22/2022-01-27/sglx/0605_g0/wav_sync_dict.pkl\n",
      "2022-02-16 07:08:02,194 ceciestunepipe.util.spikeextractors.preprocess INFO     Getting sync signals for imec streams: ['lf_0', 'ap_0']\n",
      "2022-02-16 07:08:02,194 ceciestunepipe.util.spikeextractors.preprocess INFO     getting syn patterns for lf_0\n",
      "2022-02-16 07:08:02,227 ceciestunepipe.util.spikeextractors.preprocess INFO     File /mnt/sphere/speech_bci/derived_data/s_b1238_22/2022-01-27/sglx/0605_g0/lf_0_sync_dict.pkl not found or forced computation, getting the events\n",
      "2022-02-16 07:08:02,228 ceciestunepipe.util.spikeextractors.extractors.spikeglxrecordingextractor.spikeglxrecordingextractor INFO     getting ttl events, chan 0\n",
      "2022-02-16 07:08:02,228 ceciestunepipe.util.spikeextractors.extractors.readSGLX INFO     Extracting digital on imec stream: there is only one channel, if any (SYN) and will be converted from an int16 channel \n",
      "2022-02-16 07:08:02,229 ceciestunepipe.util.spikeextractors.extractors.readSGLX INFO     allocated array for syn channel of size (52156885,)\n",
      "2022-02-16 07:09:12,546 ceciestunepipe.util.spikeextractors.extractors.readSGLX INFO     Threshold for logical hi is 0\n",
      "/mnt/cube/earneodo/repos/ceciestunepipe/ceciestunepipe/util/spikeextractors/extractors/spikeglxrecordingextractor/readSGLX.py:310: UserWarning: There were 2 errors in the recording\n",
      "  warnings.warn('There were {} errors in the recording'.format(n_errors))\n",
      "/mnt/cube/earneodo/repos/ceciestunepipe/ceciestunepipe/util/spikeextractors/extractors/spikeglxrecordingextractor/readSGLX.py:311: UserWarning: You probably want to check those\n",
      "  warnings.warn('You probably want to check those')\n",
      "2022-02-16 07:09:16,560 ceciestunepipe.util.spikeextractors.preprocess INFO     saving events array to /mnt/sphere/speech_bci/derived_data/s_b1238_22/2022-01-27/sglx/0605_g0/lf_0_sync_evt.npy\n",
      "2022-02-16 07:09:16,747 ceciestunepipe.util.spikeextractors.preprocess INFO     saving t_0 array to /mnt/sphere/speech_bci/derived_data/s_b1238_22/2022-01-27/sglx/0605_g0/lf_0_t0.npy\n",
      "2022-02-16 07:09:17,390 ceciestunepipe.util.spikeextractors.preprocess INFO     saving sync dict to /mnt/sphere/speech_bci/derived_data/s_b1238_22/2022-01-27/sglx/0605_g0/lf_0_sync_dict.pkl\n",
      "2022-02-16 07:09:17,440 ceciestunepipe.util.spikeextractors.preprocess INFO     loading syn_dict from /mnt/sphere/speech_bci/derived_data/s_b1238_22/2022-01-27/sglx/0605_g0/lf_0_sync_dict.pkl\n",
      "2022-02-16 07:09:17,443 ceciestunepipe.util.spikeextractors.preprocess INFO     getting syn patterns for ap_0\n",
      "2022-02-16 07:09:17,459 ceciestunepipe.util.spikeextractors.preprocess INFO     File /mnt/sphere/speech_bci/derived_data/s_b1238_22/2022-01-27/sglx/0605_g0/ap_0_sync_dict.pkl not found or forced computation, getting the events\n",
      "2022-02-16 07:09:17,460 ceciestunepipe.util.spikeextractors.extractors.spikeglxrecordingextractor.spikeglxrecordingextractor INFO     getting ttl events, chan 0\n",
      "2022-02-16 07:09:17,461 ceciestunepipe.util.spikeextractors.extractors.readSGLX INFO     Extracting digital on imec stream: there is only one channel, if any (SYN) and will be converted from an int16 channel \n",
      "2022-02-16 07:09:17,461 ceciestunepipe.util.spikeextractors.extractors.readSGLX INFO     allocated array for syn channel of size (625882618,)\n",
      "2022-02-16 07:45:29,664 ceciestunepipe.util.spikeextractors.extractors.readSGLX INFO     Threshold for logical hi is 0\n",
      "/mnt/cube/earneodo/repos/ceciestunepipe/ceciestunepipe/util/spikeextractors/extractors/spikeglxrecordingextractor/readSGLX.py:310: UserWarning: There were 18 errors in the recording\n",
      "  warnings.warn('There were {} errors in the recording'.format(n_errors))\n",
      "/mnt/cube/earneodo/repos/ceciestunepipe/ceciestunepipe/util/spikeextractors/extractors/spikeglxrecordingextractor/readSGLX.py:311: UserWarning: You probably want to check those\n",
      "  warnings.warn('You probably want to check those')\n",
      "2022-02-16 07:48:04,112 ceciestunepipe.util.spikeextractors.preprocess INFO     saving events array to /mnt/sphere/speech_bci/derived_data/s_b1238_22/2022-01-27/sglx/0605_g0/ap_0_sync_evt.npy\n",
      "2022-02-16 07:48:04,317 ceciestunepipe.util.spikeextractors.preprocess INFO     saving t_0 array to /mnt/sphere/speech_bci/derived_data/s_b1238_22/2022-01-27/sglx/0605_g0/ap_0_t0.npy\n",
      "2022-02-16 07:48:16,181 ceciestunepipe.util.spikeextractors.preprocess INFO     saving sync dict to /mnt/sphere/speech_bci/derived_data/s_b1238_22/2022-01-27/sglx/0605_g0/ap_0_sync_dict.pkl\n",
      "2022-02-16 07:48:16,413 ceciestunepipe.util.spikeextractors.preprocess INFO     loading syn_dict from /mnt/sphere/speech_bci/derived_data/s_b1238_22/2022-01-27/sglx/0605_g0/ap_0_sync_dict.pkl\n",
      "2022-02-16 07:48:16,805 ceciestunepipe.util.spikeextractors.preprocess INFO     getting syn patterns for nidq\n",
      "2022-02-16 07:48:16,900 ceciestunepipe.util.spikeextractors.preprocess INFO     loading syn_dict from /mnt/sphere/speech_bci/derived_data/s_b1238_22/2022-01-27/sglx/0605_g0/nidq_sync_dict.pkl\n",
      "2022-02-16 07:49:11,743 ceciestunepipe.util.spikeextractors.preprocess INFO     getting syn patterns for wav\n",
      "2022-02-16 07:49:11,760 ceciestunepipe.util.spikeextractors.preprocess INFO     loading syn_dict from /mnt/sphere/speech_bci/derived_data/s_b1238_22/2022-01-27/sglx/0605_g0/wav_sync_dict.pkl\n",
      "2022-02-16 07:49:11,978 ceciestunepipe.util.spikeextractors.preprocess INFO     PREPROCESSING sess 2022-01-27 | epoch 1154_g0\n",
      "2022-02-16 07:49:11,979 ceciestunepipe.util.spikeextractors.preprocess INFO     getting extractors\n",
      "2022-02-16 07:49:12,134 ceciestunepipe.util.spikeextractors.preprocess INFO     Got sglx recordings for keys ['nidq', 'lf_0', 'ap_0']\n",
      "2022-02-16 07:49:12,134 ceciestunepipe.util.spikeextractors.preprocess INFO     Getting microphone channel(s) ['microphone_0', 'microphone_1']\n",
      "2022-02-16 07:49:31,898 ceciestunepipe.util.wavutil INFO     sampling rate 40000\n",
      "2022-02-16 07:49:31,901 ceciestunepipe.util.wavutil INFO     saving (2, 787254681)-shaped array as wav in /mnt/sphere/speech_bci/derived_data/s_b1238_22/2022-01-27/sglx/1154_g0/wav_mic.wav\n",
      "2022-02-16 07:50:48,304 ceciestunepipe.util.wavutil INFO     saving (2, 787254681)-shaped array as npy in /mnt/sphere/speech_bci/derived_data/s_b1238_22/2022-01-27/sglx/1154_g0/wav_mic.npy\n",
      "2022-02-16 07:50:53,114 ceciestunepipe.util.spikeextractors.preprocess INFO     Getting stimulus channel(s) ['wav_stim', 'wav_syn']\n",
      "2022-02-16 07:50:53,117 ceciestunepipe.util.wavutil INFO     sampling rate 40000\n",
      "2022-02-16 07:50:53,118 ceciestunepipe.util.wavutil INFO     saving (2, 787254681)-shaped array as wav in /mnt/sphere/speech_bci/derived_data/s_b1238_22/2022-01-27/sglx/1154_g0/wav_stim.wav\n",
      "2022-02-16 07:52:39,624 ceciestunepipe.util.wavutil INFO     saving (2, 787254681)-shaped array as npy in /mnt/sphere/speech_bci/derived_data/s_b1238_22/2022-01-27/sglx/1154_g0/wav_stim.npy\n",
      "2022-02-16 07:53:14,146 ceciestunepipe.util.spikeextractors.preprocess INFO     Getting sync channel(s) from nidaq streams: ['sync']\n",
      "2022-02-16 07:53:14,149 ceciestunepipe.util.spikeextractors.extractors.spikeglxrecordingextractor.spikeglxrecordingextractor INFO     getting ttl traces, chan range(0, 7)\n",
      "2022-02-16 07:58:34,727 ceciestunepipe.util.wavutil INFO     sampling rate 40000\n",
      "2022-02-16 07:58:34,729 ceciestunepipe.util.wavutil INFO     saving (1, 787254681)-shaped array as wav in /mnt/sphere/speech_bci/derived_data/s_b1238_22/2022-01-27/sglx/1154_g0/wav_sync.wav\n",
      "2022-02-16 07:58:38,256 ceciestunepipe.util.wavutil INFO     saving (1, 787254681)-shaped array as npy in /mnt/sphere/speech_bci/derived_data/s_b1238_22/2022-01-27/sglx/1154_g0/wav_sync.npy\n",
      "2022-02-16 07:58:42,528 ceciestunepipe.util.spikeextractors.preprocess INFO     Getting sync events from the wav sync channel\n",
      "2022-02-16 07:59:38,247 ceciestunepipe.util.spikeextractors.preprocess INFO     saving sync events of the wav channel to /mnt/sphere/speech_bci/derived_data/s_b1238_22/2022-01-27/sglx/1154_g0/wav_sync_evt.npy\n",
      "2022-02-16 07:59:39,475 ceciestunepipe.util.spikeextractors.preprocess INFO     saving t0 for wav channel to /mnt/sphere/speech_bci/derived_data/s_b1238_22/2022-01-27/sglx/1154_g0/wav_t0.npy\n",
      "2022-02-16 08:03:06,626 ceciestunepipe.util.spikeextractors.preprocess INFO     Will get 1 ttl signals\n",
      "2022-02-16 08:03:06,628 ceciestunepipe.util.spikeextractors.preprocess INFO     looking for signal wav_ttl in the nidaq channels\n",
      "2022-02-16 08:03:06,629 ceciestunepipe.util.spikeextractors.preprocess INFO     found in chan 2\n",
      "2022-02-16 08:03:06,629 ceciestunepipe.util.spikeextractors.extractors.spikeglxrecordingextractor.spikeglxrecordingextractor INFO     getting ttl events, chan 2\n",
      "2022-02-16 08:09:37,976 ceciestunepipe.util.spikeextractors.preprocess INFO     saving (0, 2)-shaped array as npy in /mnt/sphere/speech_bci/derived_data/s_b1238_22/2022-01-27/sglx/1154_g0/wav_ttl_evt.npy\n",
      "2022-02-16 08:09:38,473 ceciestunepipe.util.spikeextractors.preprocess INFO     saving sync nidaq dict to /mnt/sphere/speech_bci/derived_data/s_b1238_22/2022-01-27/sglx/1154_g0/wav_sync_dict.pkl\n",
      "2022-02-16 08:09:38,529 ceciestunepipe.util.spikeextractors.preprocess INFO     Getting sync signals for imec streams: ['lf_0', 'ap_0']\n",
      "2022-02-16 08:09:38,530 ceciestunepipe.util.spikeextractors.preprocess INFO     getting syn patterns for lf_0\n",
      "2022-02-16 08:09:38,555 ceciestunepipe.util.spikeextractors.preprocess INFO     File /mnt/sphere/speech_bci/derived_data/s_b1238_22/2022-01-27/sglx/1154_g0/lf_0_sync_dict.pkl not found or forced computation, getting the events\n",
      "2022-02-16 08:09:38,556 ceciestunepipe.util.spikeextractors.extractors.spikeglxrecordingextractor.spikeglxrecordingextractor INFO     getting ttl events, chan 0\n",
      "2022-02-16 08:09:38,556 ceciestunepipe.util.spikeextractors.extractors.readSGLX INFO     Extracting digital on imec stream: there is only one channel, if any (SYN) and will be converted from an int16 channel \n",
      "2022-02-16 08:09:38,557 ceciestunepipe.util.spikeextractors.extractors.readSGLX INFO     allocated array for syn channel of size (49204354,)\n",
      "2022-02-16 08:11:14,528 ceciestunepipe.util.spikeextractors.extractors.readSGLX INFO     Threshold for logical hi is 0\n",
      "/mnt/cube/earneodo/repos/ceciestunepipe/ceciestunepipe/util/spikeextractors/extractors/spikeglxrecordingextractor/readSGLX.py:310: UserWarning: There were 1 errors in the recording\n",
      "  warnings.warn('There were {} errors in the recording'.format(n_errors))\n",
      "/mnt/cube/earneodo/repos/ceciestunepipe/ceciestunepipe/util/spikeextractors/extractors/spikeglxrecordingextractor/readSGLX.py:311: UserWarning: You probably want to check those\n",
      "  warnings.warn('You probably want to check those')\n",
      "2022-02-16 08:11:51,838 ceciestunepipe.util.spikeextractors.preprocess INFO     saving events array to /mnt/sphere/speech_bci/derived_data/s_b1238_22/2022-01-27/sglx/1154_g0/lf_0_sync_evt.npy\n",
      "2022-02-16 08:11:52,008 ceciestunepipe.util.spikeextractors.preprocess INFO     saving t_0 array to /mnt/sphere/speech_bci/derived_data/s_b1238_22/2022-01-27/sglx/1154_g0/lf_0_t0.npy\n",
      "2022-02-16 08:11:52,692 ceciestunepipe.util.spikeextractors.preprocess INFO     saving sync dict to /mnt/sphere/speech_bci/derived_data/s_b1238_22/2022-01-27/sglx/1154_g0/lf_0_sync_dict.pkl\n",
      "2022-02-16 08:11:52,695 ceciestunepipe.util.spikeextractors.preprocess INFO     loading syn_dict from /mnt/sphere/speech_bci/derived_data/s_b1238_22/2022-01-27/sglx/1154_g0/lf_0_sync_dict.pkl\n",
      "2022-02-16 08:11:52,701 ceciestunepipe.util.spikeextractors.preprocess INFO     getting syn patterns for ap_0\n",
      "2022-02-16 08:11:52,724 ceciestunepipe.util.spikeextractors.preprocess INFO     File /mnt/sphere/speech_bci/derived_data/s_b1238_22/2022-01-27/sglx/1154_g0/ap_0_sync_dict.pkl not found or forced computation, getting the events\n",
      "2022-02-16 08:11:52,725 ceciestunepipe.util.spikeextractors.extractors.spikeglxrecordingextractor.spikeglxrecordingextractor INFO     getting ttl events, chan 0\n",
      "2022-02-16 08:11:52,726 ceciestunepipe.util.spikeextractors.extractors.readSGLX INFO     Extracting digital on imec stream: there is only one channel, if any (SYN) and will be converted from an int16 channel \n",
      "2022-02-16 08:11:52,726 ceciestunepipe.util.spikeextractors.extractors.readSGLX INFO     allocated array for syn channel of size (590452242,)\n",
      "2022-02-16 08:33:49,980 ceciestunepipe.util.spikeextractors.extractors.readSGLX INFO     Threshold for logical hi is 0\n",
      "/mnt/cube/earneodo/repos/ceciestunepipe/ceciestunepipe/util/spikeextractors/extractors/spikeglxrecordingextractor/readSGLX.py:310: UserWarning: There were 9 errors in the recording\n",
      "  warnings.warn('There were {} errors in the recording'.format(n_errors))\n",
      "/mnt/cube/earneodo/repos/ceciestunepipe/ceciestunepipe/util/spikeextractors/extractors/spikeglxrecordingextractor/readSGLX.py:311: UserWarning: You probably want to check those\n",
      "  warnings.warn('You probably want to check those')\n",
      "2022-02-16 08:38:04,043 ceciestunepipe.util.spikeextractors.preprocess INFO     saving events array to /mnt/sphere/speech_bci/derived_data/s_b1238_22/2022-01-27/sglx/1154_g0/ap_0_sync_evt.npy\n",
      "2022-02-16 08:38:04,563 ceciestunepipe.util.spikeextractors.preprocess INFO     saving t_0 array to /mnt/sphere/speech_bci/derived_data/s_b1238_22/2022-01-27/sglx/1154_g0/ap_0_t0.npy\n",
      "2022-02-16 08:38:13,746 ceciestunepipe.util.spikeextractors.preprocess INFO     saving sync dict to /mnt/sphere/speech_bci/derived_data/s_b1238_22/2022-01-27/sglx/1154_g0/ap_0_sync_dict.pkl\n",
      "2022-02-16 08:38:14,112 ceciestunepipe.util.spikeextractors.preprocess INFO     loading syn_dict from /mnt/sphere/speech_bci/derived_data/s_b1238_22/2022-01-27/sglx/1154_g0/ap_0_sync_dict.pkl\n",
      "2022-02-16 08:38:14,656 ceciestunepipe.util.spikeextractors.preprocess INFO     getting syn patterns for nidq\n",
      "2022-02-16 08:38:14,832 ceciestunepipe.util.spikeextractors.preprocess INFO     File /mnt/sphere/speech_bci/derived_data/s_b1238_22/2022-01-27/sglx/1154_g0/nidq_sync_dict.pkl not found or forced computation, getting the events\n",
      "<ipython-input-8-d2f831978e89>:17: UserWarning: Error in epoch 1154_g0\n",
      "  warnings.warn('Error in epoch {}'.format(epoch), UserWarning)\n",
      "2022-02-16 08:38:14,833 root         INFO     <function format_exc at 0x7f00792e18b0>\n",
      "2022-02-16 08:38:14,833 root         INFO     Dont know how to force extraction of syn signals from nidq channels here. Go back to preprocessing\n",
      "2022-02-16 08:38:14,834 root         INFO     Session 2022-01-27 epoch 1154_g0 could not be preprocessed\n",
      "2022-02-16 08:38:16,315 ceciestunepipe.util.spikeextractors.preprocess INFO     PREPROCESSING sess 2022-01-27 | epoch 1722_g0\n",
      "2022-02-16 08:38:16,316 ceciestunepipe.util.spikeextractors.preprocess INFO     getting extractors\n",
      "2022-02-16 08:38:17,883 ceciestunepipe.util.spikeextractors.preprocess INFO     Got sglx recordings for keys ['nidq', 'lf_0', 'ap_0']\n",
      "2022-02-16 08:38:17,884 ceciestunepipe.util.spikeextractors.preprocess INFO     Getting microphone channel(s) ['microphone_0', 'microphone_1']\n",
      "2022-02-16 08:38:27,023 ceciestunepipe.util.wavutil INFO     sampling rate 40000\n",
      "2022-02-16 08:38:27,025 ceciestunepipe.util.wavutil INFO     saving (2, 382480744)-shaped array as wav in /mnt/sphere/speech_bci/derived_data/s_b1238_22/2022-01-27/sglx/1722_g0/wav_mic.wav\n",
      "2022-02-16 08:38:31,702 ceciestunepipe.util.wavutil INFO     saving (2, 382480744)-shaped array as npy in /mnt/sphere/speech_bci/derived_data/s_b1238_22/2022-01-27/sglx/1722_g0/wav_mic.npy\n",
      "2022-02-16 08:38:33,872 ceciestunepipe.util.spikeextractors.preprocess INFO     Getting stimulus channel(s) ['wav_stim', 'wav_syn']\n",
      "2022-02-16 08:38:33,874 ceciestunepipe.util.wavutil INFO     sampling rate 40000\n",
      "2022-02-16 08:38:33,874 ceciestunepipe.util.wavutil INFO     saving (2, 382480744)-shaped array as wav in /mnt/sphere/speech_bci/derived_data/s_b1238_22/2022-01-27/sglx/1722_g0/wav_stim.wav\n",
      "2022-02-16 08:38:38,848 ceciestunepipe.util.wavutil INFO     saving (2, 382480744)-shaped array as npy in /mnt/sphere/speech_bci/derived_data/s_b1238_22/2022-01-27/sglx/1722_g0/wav_stim.npy\n",
      "2022-02-16 08:38:53,796 ceciestunepipe.util.spikeextractors.preprocess INFO     Getting sync channel(s) from nidaq streams: ['sync']\n",
      "2022-02-16 08:38:53,798 ceciestunepipe.util.spikeextractors.extractors.spikeglxrecordingextractor.spikeglxrecordingextractor INFO     getting ttl traces, chan range(0, 7)\n",
      "2022-02-16 08:39:00,272 ceciestunepipe.util.wavutil INFO     sampling rate 40000\n",
      "2022-02-16 08:39:00,273 ceciestunepipe.util.wavutil INFO     saving (1, 382480744)-shaped array as wav in /mnt/sphere/speech_bci/derived_data/s_b1238_22/2022-01-27/sglx/1722_g0/wav_sync.wav\n",
      "2022-02-16 08:39:02,015 ceciestunepipe.util.wavutil INFO     saving (1, 382480744)-shaped array as npy in /mnt/sphere/speech_bci/derived_data/s_b1238_22/2022-01-27/sglx/1722_g0/wav_sync.npy\n",
      "2022-02-16 08:39:03,107 ceciestunepipe.util.spikeextractors.preprocess INFO     Getting sync events from the wav sync channel\n",
      "2022-02-16 08:39:27,210 ceciestunepipe.util.spikeextractors.preprocess INFO     saving sync events of the wav channel to /mnt/sphere/speech_bci/derived_data/s_b1238_22/2022-01-27/sglx/1722_g0/wav_sync_evt.npy\n",
      "2022-02-16 08:39:27,259 ceciestunepipe.util.spikeextractors.preprocess INFO     saving t0 for wav channel to /mnt/sphere/speech_bci/derived_data/s_b1238_22/2022-01-27/sglx/1722_g0/wav_t0.npy\n",
      "2022-02-16 08:41:23,636 ceciestunepipe.util.spikeextractors.preprocess INFO     Will get 1 ttl signals\n",
      "2022-02-16 08:41:23,638 ceciestunepipe.util.spikeextractors.preprocess INFO     looking for signal wav_ttl in the nidaq channels\n",
      "2022-02-16 08:41:23,638 ceciestunepipe.util.spikeextractors.preprocess INFO     found in chan 2\n",
      "2022-02-16 08:41:23,639 ceciestunepipe.util.spikeextractors.extractors.spikeglxrecordingextractor.spikeglxrecordingextractor INFO     getting ttl events, chan 2\n",
      "2022-02-16 08:42:51,909 ceciestunepipe.util.spikeextractors.preprocess INFO     saving (0, 2)-shaped array as npy in /mnt/sphere/speech_bci/derived_data/s_b1238_22/2022-01-27/sglx/1722_g0/wav_ttl_evt.npy\n",
      "2022-02-16 08:42:51,967 ceciestunepipe.util.spikeextractors.preprocess INFO     saving sync nidaq dict to /mnt/sphere/speech_bci/derived_data/s_b1238_22/2022-01-27/sglx/1722_g0/wav_sync_dict.pkl\n",
      "2022-02-16 08:42:51,969 ceciestunepipe.util.spikeextractors.preprocess INFO     Getting sync signals for imec streams: ['lf_0', 'ap_0']\n",
      "2022-02-16 08:42:51,969 ceciestunepipe.util.spikeextractors.preprocess INFO     getting syn patterns for lf_0\n",
      "2022-02-16 08:42:51,970 ceciestunepipe.util.spikeextractors.preprocess INFO     File /mnt/sphere/speech_bci/derived_data/s_b1238_22/2022-01-27/sglx/1722_g0/lf_0_sync_dict.pkl not found or forced computation, getting the events\n",
      "2022-02-16 08:42:51,971 ceciestunepipe.util.spikeextractors.extractors.spikeglxrecordingextractor.spikeglxrecordingextractor INFO     getting ttl events, chan 0\n",
      "2022-02-16 08:42:51,972 ceciestunepipe.util.spikeextractors.extractors.readSGLX INFO     Extracting digital on imec stream: there is only one channel, if any (SYN) and will be converted from an int16 channel \n",
      "2022-02-16 08:42:51,975 ceciestunepipe.util.spikeextractors.extractors.readSGLX INFO     allocated array for syn channel of size (23905498,)\n",
      "2022-02-16 08:43:57,245 ceciestunepipe.util.spikeextractors.extractors.readSGLX INFO     Threshold for logical hi is 0\n",
      "2022-02-16 08:43:57,756 ceciestunepipe.util.spikeextractors.preprocess INFO     saving events array to /mnt/sphere/speech_bci/derived_data/s_b1238_22/2022-01-27/sglx/1722_g0/lf_0_sync_evt.npy\n",
      "2022-02-16 08:43:58,186 ceciestunepipe.util.spikeextractors.preprocess INFO     saving t_0 array to /mnt/sphere/speech_bci/derived_data/s_b1238_22/2022-01-27/sglx/1722_g0/lf_0_t0.npy\n",
      "2022-02-16 08:43:58,617 ceciestunepipe.util.spikeextractors.preprocess INFO     saving sync dict to /mnt/sphere/speech_bci/derived_data/s_b1238_22/2022-01-27/sglx/1722_g0/lf_0_sync_dict.pkl\n",
      "2022-02-16 08:43:58,690 ceciestunepipe.util.spikeextractors.preprocess INFO     loading syn_dict from /mnt/sphere/speech_bci/derived_data/s_b1238_22/2022-01-27/sglx/1722_g0/lf_0_sync_dict.pkl\n",
      "2022-02-16 08:43:58,835 ceciestunepipe.util.spikeextractors.preprocess INFO     getting syn patterns for ap_0\n",
      "2022-02-16 08:43:58,853 ceciestunepipe.util.spikeextractors.preprocess INFO     File /mnt/sphere/speech_bci/derived_data/s_b1238_22/2022-01-27/sglx/1722_g0/ap_0_sync_dict.pkl not found or forced computation, getting the events\n",
      "2022-02-16 08:43:58,854 ceciestunepipe.util.spikeextractors.extractors.spikeglxrecordingextractor.spikeglxrecordingextractor INFO     getting ttl events, chan 0\n",
      "2022-02-16 08:43:58,855 ceciestunepipe.util.spikeextractors.extractors.readSGLX INFO     Extracting digital on imec stream: there is only one channel, if any (SYN) and will be converted from an int16 channel \n",
      "2022-02-16 08:43:58,855 ceciestunepipe.util.spikeextractors.extractors.readSGLX INFO     allocated array for syn channel of size (286865974,)\n",
      "2022-02-16 09:00:34,919 ceciestunepipe.util.spikeextractors.extractors.readSGLX INFO     Threshold for logical hi is 0\n",
      "/mnt/cube/earneodo/repos/ceciestunepipe/ceciestunepipe/util/spikeextractors/extractors/spikeglxrecordingextractor/readSGLX.py:310: UserWarning: There were 3 errors in the recording\n",
      "  warnings.warn('There were {} errors in the recording'.format(n_errors))\n",
      "/mnt/cube/earneodo/repos/ceciestunepipe/ceciestunepipe/util/spikeextractors/extractors/spikeglxrecordingextractor/readSGLX.py:311: UserWarning: You probably want to check those\n",
      "  warnings.warn('You probably want to check those')\n",
      "2022-02-16 09:01:12,823 ceciestunepipe.util.spikeextractors.preprocess INFO     saving events array to /mnt/sphere/speech_bci/derived_data/s_b1238_22/2022-01-27/sglx/1722_g0/ap_0_sync_evt.npy\n",
      "2022-02-16 09:01:13,558 ceciestunepipe.util.spikeextractors.preprocess INFO     saving t_0 array to /mnt/sphere/speech_bci/derived_data/s_b1238_22/2022-01-27/sglx/1722_g0/ap_0_t0.npy\n",
      "2022-02-16 09:01:20,441 ceciestunepipe.util.spikeextractors.preprocess INFO     saving sync dict to /mnt/sphere/speech_bci/derived_data/s_b1238_22/2022-01-27/sglx/1722_g0/ap_0_sync_dict.pkl\n",
      "2022-02-16 09:01:20,529 ceciestunepipe.util.spikeextractors.preprocess INFO     loading syn_dict from /mnt/sphere/speech_bci/derived_data/s_b1238_22/2022-01-27/sglx/1722_g0/ap_0_sync_dict.pkl\n",
      "2022-02-16 09:01:20,755 ceciestunepipe.util.spikeextractors.preprocess INFO     getting syn patterns for nidq\n",
      "2022-02-16 09:01:20,915 ceciestunepipe.util.spikeextractors.preprocess INFO     File /mnt/sphere/speech_bci/derived_data/s_b1238_22/2022-01-27/sglx/1722_g0/nidq_sync_dict.pkl not found or forced computation, getting the events\n",
      "<ipython-input-8-d2f831978e89>:17: UserWarning: Error in epoch 1722_g0\n",
      "  warnings.warn('Error in epoch {}'.format(epoch), UserWarning)\n",
      "2022-02-16 09:01:20,916 root         INFO     <function format_exc at 0x7f00792e18b0>\n",
      "2022-02-16 09:01:20,917 root         INFO     Dont know how to force extraction of syn signals from nidq channels here. Go back to preprocessing\n",
      "2022-02-16 09:01:20,917 root         INFO     Session 2022-01-27 epoch 1722_g0 could not be preprocessed\n",
      "2022-02-16 09:01:22,064 ceciestunepipe.util.spikeextractors.preprocess INFO     PREPROCESSING sess 2022-01-27 | epoch 2005_g0\n",
      "2022-02-16 09:01:22,065 ceciestunepipe.util.spikeextractors.preprocess INFO     getting extractors\n",
      "2022-02-16 09:01:23,001 ceciestunepipe.util.spikeextractors.preprocess INFO     Got sglx recordings for keys ['nidq', 'lf_0', 'ap_0']\n",
      "2022-02-16 09:01:23,003 ceciestunepipe.util.spikeextractors.preprocess INFO     Getting microphone channel(s) ['microphone_0', 'microphone_1']\n",
      "2022-02-16 09:01:38,590 ceciestunepipe.util.wavutil INFO     sampling rate 40000\n",
      "2022-02-16 09:01:38,591 ceciestunepipe.util.wavutil INFO     saving (2, 211903796)-shaped array as wav in /mnt/sphere/speech_bci/derived_data/s_b1238_22/2022-01-27/sglx/2005_g0/wav_mic.wav\n",
      "2022-02-16 09:01:41,880 ceciestunepipe.util.wavutil INFO     saving (2, 211903796)-shaped array as npy in /mnt/sphere/speech_bci/derived_data/s_b1238_22/2022-01-27/sglx/2005_g0/wav_mic.npy\n",
      "2022-02-16 09:01:44,191 ceciestunepipe.util.spikeextractors.preprocess INFO     Getting stimulus channel(s) ['wav_stim', 'wav_syn']\n",
      "2022-02-16 09:01:44,192 ceciestunepipe.util.wavutil INFO     sampling rate 40000\n",
      "2022-02-16 09:01:44,193 ceciestunepipe.util.wavutil INFO     saving (2, 211903796)-shaped array as wav in /mnt/sphere/speech_bci/derived_data/s_b1238_22/2022-01-27/sglx/2005_g0/wav_stim.wav\n",
      "2022-02-16 09:01:50,510 ceciestunepipe.util.wavutil INFO     saving (2, 211903796)-shaped array as npy in /mnt/sphere/speech_bci/derived_data/s_b1238_22/2022-01-27/sglx/2005_g0/wav_stim.npy\n",
      "2022-02-16 09:01:59,252 ceciestunepipe.util.spikeextractors.preprocess INFO     Getting sync channel(s) from nidaq streams: ['sync']\n",
      "2022-02-16 09:01:59,254 ceciestunepipe.util.spikeextractors.extractors.spikeglxrecordingextractor.spikeglxrecordingextractor INFO     getting ttl traces, chan range(0, 7)\n",
      "2022-02-16 09:03:01,861 ceciestunepipe.util.wavutil INFO     sampling rate 40000\n",
      "2022-02-16 09:03:01,863 ceciestunepipe.util.wavutil INFO     saving (1, 211903796)-shaped array as wav in /mnt/sphere/speech_bci/derived_data/s_b1238_22/2022-01-27/sglx/2005_g0/wav_sync.wav\n",
      "2022-02-16 09:03:03,197 ceciestunepipe.util.wavutil INFO     saving (1, 211903796)-shaped array as npy in /mnt/sphere/speech_bci/derived_data/s_b1238_22/2022-01-27/sglx/2005_g0/wav_sync.npy\n",
      "2022-02-16 09:03:04,442 ceciestunepipe.util.spikeextractors.preprocess INFO     Getting sync events from the wav sync channel\n",
      "2022-02-16 09:03:19,297 ceciestunepipe.util.spikeextractors.preprocess INFO     saving sync events of the wav channel to /mnt/sphere/speech_bci/derived_data/s_b1238_22/2022-01-27/sglx/2005_g0/wav_sync_evt.npy\n",
      "2022-02-16 09:03:19,503 ceciestunepipe.util.spikeextractors.preprocess INFO     saving t0 for wav channel to /mnt/sphere/speech_bci/derived_data/s_b1238_22/2022-01-27/sglx/2005_g0/wav_t0.npy\n",
      "2022-02-16 09:03:28,865 ceciestunepipe.util.spikeextractors.preprocess INFO     Will get 1 ttl signals\n",
      "2022-02-16 09:03:28,866 ceciestunepipe.util.spikeextractors.preprocess INFO     looking for signal wav_ttl in the nidaq channels\n",
      "2022-02-16 09:03:28,867 ceciestunepipe.util.spikeextractors.preprocess INFO     found in chan 2\n",
      "2022-02-16 09:03:28,868 ceciestunepipe.util.spikeextractors.extractors.spikeglxrecordingextractor.spikeglxrecordingextractor INFO     getting ttl events, chan 2\n",
      "2022-02-16 09:04:32,205 ceciestunepipe.util.spikeextractors.preprocess INFO     saving (0, 2)-shaped array as npy in /mnt/sphere/speech_bci/derived_data/s_b1238_22/2022-01-27/sglx/2005_g0/wav_ttl_evt.npy\n",
      "2022-02-16 09:04:32,858 ceciestunepipe.util.spikeextractors.preprocess INFO     saving sync nidaq dict to /mnt/sphere/speech_bci/derived_data/s_b1238_22/2022-01-27/sglx/2005_g0/wav_sync_dict.pkl\n",
      "2022-02-16 09:04:32,920 ceciestunepipe.util.spikeextractors.preprocess INFO     Getting sync signals for imec streams: ['lf_0', 'ap_0']\n",
      "2022-02-16 09:04:32,921 ceciestunepipe.util.spikeextractors.preprocess INFO     getting syn patterns for lf_0\n",
      "2022-02-16 09:04:32,936 ceciestunepipe.util.spikeextractors.preprocess INFO     File /mnt/sphere/speech_bci/derived_data/s_b1238_22/2022-01-27/sglx/2005_g0/lf_0_sync_dict.pkl not found or forced computation, getting the events\n",
      "2022-02-16 09:04:32,936 ceciestunepipe.util.spikeextractors.extractors.spikeglxrecordingextractor.spikeglxrecordingextractor INFO     getting ttl events, chan 0\n",
      "2022-02-16 09:04:32,937 ceciestunepipe.util.spikeextractors.extractors.readSGLX INFO     Extracting digital on imec stream: there is only one channel, if any (SYN) and will be converted from an int16 channel \n",
      "2022-02-16 09:04:32,938 ceciestunepipe.util.spikeextractors.extractors.readSGLX INFO     allocated array for syn channel of size (13244237,)\n",
      "2022-02-16 09:05:17,437 ceciestunepipe.util.spikeextractors.extractors.readSGLX INFO     Threshold for logical hi is 0\n",
      "2022-02-16 09:05:22,639 ceciestunepipe.util.spikeextractors.preprocess INFO     saving events array to /mnt/sphere/speech_bci/derived_data/s_b1238_22/2022-01-27/sglx/2005_g0/lf_0_sync_evt.npy\n",
      "2022-02-16 09:05:22,858 ceciestunepipe.util.spikeextractors.preprocess INFO     saving t_0 array to /mnt/sphere/speech_bci/derived_data/s_b1238_22/2022-01-27/sglx/2005_g0/lf_0_t0.npy\n",
      "2022-02-16 09:05:23,253 ceciestunepipe.util.spikeextractors.preprocess INFO     saving sync dict to /mnt/sphere/speech_bci/derived_data/s_b1238_22/2022-01-27/sglx/2005_g0/lf_0_sync_dict.pkl\n",
      "2022-02-16 09:05:23,375 ceciestunepipe.util.spikeextractors.preprocess INFO     loading syn_dict from /mnt/sphere/speech_bci/derived_data/s_b1238_22/2022-01-27/sglx/2005_g0/lf_0_sync_dict.pkl\n",
      "2022-02-16 09:05:23,553 ceciestunepipe.util.spikeextractors.preprocess INFO     getting syn patterns for ap_0\n",
      "2022-02-16 09:05:23,577 ceciestunepipe.util.spikeextractors.preprocess INFO     File /mnt/sphere/speech_bci/derived_data/s_b1238_22/2022-01-27/sglx/2005_g0/ap_0_sync_dict.pkl not found or forced computation, getting the events\n",
      "2022-02-16 09:05:23,578 ceciestunepipe.util.spikeextractors.extractors.spikeglxrecordingextractor.spikeglxrecordingextractor INFO     getting ttl events, chan 0\n",
      "2022-02-16 09:05:23,579 ceciestunepipe.util.spikeextractors.extractors.readSGLX INFO     Extracting digital on imec stream: there is only one channel, if any (SYN) and will be converted from an int16 channel \n",
      "2022-02-16 09:05:23,579 ceciestunepipe.util.spikeextractors.extractors.readSGLX INFO     allocated array for syn channel of size (158930838,)\n",
      "2022-02-16 09:14:22,628 ceciestunepipe.util.spikeextractors.extractors.readSGLX INFO     Threshold for logical hi is 0\n",
      "2022-02-16 09:15:39,868 ceciestunepipe.util.spikeextractors.preprocess INFO     saving events array to /mnt/sphere/speech_bci/derived_data/s_b1238_22/2022-01-27/sglx/2005_g0/ap_0_sync_evt.npy\n",
      "2022-02-16 09:15:40,134 ceciestunepipe.util.spikeextractors.preprocess INFO     saving t_0 array to /mnt/sphere/speech_bci/derived_data/s_b1238_22/2022-01-27/sglx/2005_g0/ap_0_t0.npy\n",
      "2022-02-16 09:15:42,069 ceciestunepipe.util.spikeextractors.preprocess INFO     saving sync dict to /mnt/sphere/speech_bci/derived_data/s_b1238_22/2022-01-27/sglx/2005_g0/ap_0_sync_dict.pkl\n",
      "2022-02-16 09:15:42,071 ceciestunepipe.util.spikeextractors.preprocess INFO     loading syn_dict from /mnt/sphere/speech_bci/derived_data/s_b1238_22/2022-01-27/sglx/2005_g0/ap_0_sync_dict.pkl\n",
      "2022-02-16 09:15:42,074 ceciestunepipe.util.spikeextractors.preprocess INFO     getting syn patterns for nidq\n",
      "2022-02-16 09:15:42,090 ceciestunepipe.util.spikeextractors.preprocess INFO     File /mnt/sphere/speech_bci/derived_data/s_b1238_22/2022-01-27/sglx/2005_g0/nidq_sync_dict.pkl not found or forced computation, getting the events\n",
      "<ipython-input-8-d2f831978e89>:17: UserWarning: Error in epoch 2005_g0\n",
      "  warnings.warn('Error in epoch {}'.format(epoch), UserWarning)\n",
      "2022-02-16 09:15:42,091 root         INFO     <function format_exc at 0x7f00792e18b0>\n",
      "2022-02-16 09:15:42,091 root         INFO     Dont know how to force extraction of syn signals from nidq channels here. Go back to preprocessing\n",
      "2022-02-16 09:15:42,092 root         INFO     Session 2022-01-27 epoch 2005_g0 could not be preprocessed\n",
      "2022-02-16 09:15:43,023 ceciestunepipe.util.spikeextractors.preprocess INFO     PREPROCESSING sess 2022-01-27 | epoch 2135_nightstim_g0\n",
      "2022-02-16 09:15:43,024 ceciestunepipe.util.spikeextractors.preprocess INFO     getting extractors\n",
      "2022-02-16 09:15:43,388 ceciestunepipe.util.spikeextractors.preprocess INFO     Got sglx recordings for keys ['nidq', 'lf_0', 'ap_0']\n",
      "2022-02-16 09:15:43,388 ceciestunepipe.util.spikeextractors.preprocess INFO     Getting microphone channel(s) ['microphone_0', 'microphone_1']\n",
      "2022-02-16 09:18:16,208 ceciestunepipe.util.wavutil INFO     sampling rate 40000\n",
      "2022-02-16 09:18:16,210 ceciestunepipe.util.wavutil INFO     saving (2, 993595137)-shaped array as wav in /mnt/sphere/speech_bci/derived_data/s_b1238_22/2022-01-27/sglx/2135_nightstim_g0/wav_mic.wav\n",
      "2022-02-16 09:19:56,880 ceciestunepipe.util.wavutil INFO     saving (2, 993595137)-shaped array as npy in /mnt/sphere/speech_bci/derived_data/s_b1238_22/2022-01-27/sglx/2135_nightstim_g0/wav_mic.npy\n",
      "2022-02-16 09:20:05,479 ceciestunepipe.util.spikeextractors.preprocess INFO     Getting stimulus channel(s) ['wav_stim', 'wav_syn']\n",
      "2022-02-16 09:20:05,481 ceciestunepipe.util.wavutil INFO     sampling rate 40000\n",
      "2022-02-16 09:20:05,481 ceciestunepipe.util.wavutil INFO     saving (2, 993595137)-shaped array as wav in /mnt/sphere/speech_bci/derived_data/s_b1238_22/2022-01-27/sglx/2135_nightstim_g0/wav_stim.wav\n",
      "2022-02-16 09:20:30,547 ceciestunepipe.util.wavutil INFO     saving (2, 993595137)-shaped array as npy in /mnt/sphere/speech_bci/derived_data/s_b1238_22/2022-01-27/sglx/2135_nightstim_g0/wav_stim.npy\n",
      "2022-02-16 09:21:13,420 ceciestunepipe.util.spikeextractors.preprocess INFO     Getting sync channel(s) from nidaq streams: ['sync']\n",
      "2022-02-16 09:21:13,422 ceciestunepipe.util.spikeextractors.extractors.spikeglxrecordingextractor.spikeglxrecordingextractor INFO     getting ttl traces, chan range(0, 7)\n",
      "2022-02-16 09:23:20,701 ceciestunepipe.util.wavutil INFO     sampling rate 40000\n",
      "2022-02-16 09:23:20,703 ceciestunepipe.util.wavutil INFO     saving (1, 993595137)-shaped array as wav in /mnt/sphere/speech_bci/derived_data/s_b1238_22/2022-01-27/sglx/2135_nightstim_g0/wav_sync.wav\n",
      "2022-02-16 09:23:26,272 ceciestunepipe.util.wavutil INFO     saving (1, 993595137)-shaped array as npy in /mnt/sphere/speech_bci/derived_data/s_b1238_22/2022-01-27/sglx/2135_nightstim_g0/wav_sync.npy\n",
      "2022-02-16 09:23:31,713 ceciestunepipe.util.spikeextractors.preprocess INFO     Getting sync events from the wav sync channel\n",
      "2022-02-16 09:24:19,926 ceciestunepipe.util.spikeextractors.preprocess INFO     saving sync events of the wav channel to /mnt/sphere/speech_bci/derived_data/s_b1238_22/2022-01-27/sglx/2135_nightstim_g0/wav_sync_evt.npy\n",
      "2022-02-16 09:24:20,061 ceciestunepipe.util.spikeextractors.preprocess INFO     saving t0 for wav channel to /mnt/sphere/speech_bci/derived_data/s_b1238_22/2022-01-27/sglx/2135_nightstim_g0/wav_t0.npy\n",
      "2022-02-16 09:28:00,392 ceciestunepipe.util.spikeextractors.preprocess INFO     Will get 1 ttl signals\n",
      "2022-02-16 09:28:00,394 ceciestunepipe.util.spikeextractors.preprocess INFO     looking for signal wav_ttl in the nidaq channels\n",
      "2022-02-16 09:28:00,395 ceciestunepipe.util.spikeextractors.preprocess INFO     found in chan 2\n",
      "2022-02-16 09:28:00,395 ceciestunepipe.util.spikeextractors.extractors.spikeglxrecordingextractor.spikeglxrecordingextractor INFO     getting ttl events, chan 2\n",
      "2022-02-16 09:32:47,030 ceciestunepipe.util.spikeextractors.preprocess INFO     saving (0, 2)-shaped array as npy in /mnt/sphere/speech_bci/derived_data/s_b1238_22/2022-01-27/sglx/2135_nightstim_g0/wav_ttl_evt.npy\n",
      "2022-02-16 09:32:47,335 ceciestunepipe.util.spikeextractors.preprocess INFO     saving sync nidaq dict to /mnt/sphere/speech_bci/derived_data/s_b1238_22/2022-01-27/sglx/2135_nightstim_g0/wav_sync_dict.pkl\n",
      "2022-02-16 09:32:47,336 ceciestunepipe.util.spikeextractors.preprocess INFO     Getting sync signals for imec streams: ['lf_0', 'ap_0']\n",
      "2022-02-16 09:32:47,337 ceciestunepipe.util.spikeextractors.preprocess INFO     getting syn patterns for lf_0\n",
      "2022-02-16 09:32:47,355 ceciestunepipe.util.spikeextractors.preprocess INFO     File /mnt/sphere/speech_bci/derived_data/s_b1238_22/2022-01-27/sglx/2135_nightstim_g0/lf_0_sync_dict.pkl not found or forced computation, getting the events\n",
      "2022-02-16 09:32:47,356 ceciestunepipe.util.spikeextractors.extractors.spikeglxrecordingextractor.spikeglxrecordingextractor INFO     getting ttl events, chan 0\n",
      "2022-02-16 09:32:47,356 ceciestunepipe.util.spikeextractors.extractors.readSGLX INFO     Extracting digital on imec stream: there is only one channel, if any (SYN) and will be converted from an int16 channel \n",
      "2022-02-16 09:32:47,357 ceciestunepipe.util.spikeextractors.extractors.readSGLX INFO     allocated array for syn channel of size (62100885,)\n",
      "2022-02-16 09:35:42,185 ceciestunepipe.util.spikeextractors.extractors.readSGLX INFO     Threshold for logical hi is 0\n",
      "2022-02-16 09:35:43,567 ceciestunepipe.util.spikeextractors.preprocess INFO     saving events array to /mnt/sphere/speech_bci/derived_data/s_b1238_22/2022-01-27/sglx/2135_nightstim_g0/lf_0_sync_evt.npy\n",
      "2022-02-16 09:35:44,090 ceciestunepipe.util.spikeextractors.preprocess INFO     saving t_0 array to /mnt/sphere/speech_bci/derived_data/s_b1238_22/2022-01-27/sglx/2135_nightstim_g0/lf_0_t0.npy\n",
      "2022-02-16 09:35:45,006 ceciestunepipe.util.spikeextractors.preprocess INFO     saving sync dict to /mnt/sphere/speech_bci/derived_data/s_b1238_22/2022-01-27/sglx/2135_nightstim_g0/lf_0_sync_dict.pkl\n",
      "2022-02-16 09:35:45,128 ceciestunepipe.util.spikeextractors.preprocess INFO     loading syn_dict from /mnt/sphere/speech_bci/derived_data/s_b1238_22/2022-01-27/sglx/2135_nightstim_g0/lf_0_sync_dict.pkl\n",
      "2022-02-16 09:35:45,252 ceciestunepipe.util.spikeextractors.preprocess INFO     getting syn patterns for ap_0\n",
      "2022-02-16 09:35:45,283 ceciestunepipe.util.spikeextractors.preprocess INFO     File /mnt/sphere/speech_bci/derived_data/s_b1238_22/2022-01-27/sglx/2135_nightstim_g0/ap_0_sync_dict.pkl not found or forced computation, getting the events\n",
      "2022-02-16 09:35:45,284 ceciestunepipe.util.spikeextractors.extractors.spikeglxrecordingextractor.spikeglxrecordingextractor INFO     getting ttl events, chan 0\n",
      "2022-02-16 09:35:45,285 ceciestunepipe.util.spikeextractors.extractors.readSGLX INFO     Extracting digital on imec stream: there is only one channel, if any (SYN) and will be converted from an int16 channel \n",
      "2022-02-16 09:35:45,286 ceciestunepipe.util.spikeextractors.extractors.readSGLX INFO     allocated array for syn channel of size (745210620,)\n"
     ]
    }
   ],
   "source": [
    "all_sess_dict = {}\n",
    "\n",
    "for one_sess in sess_list[:]:\n",
    "    sess_par['sess'] = one_sess\n",
    "    preprocess_session(sess_par)"
   ]
  },
  {
   "cell_type": "code",
   "execution_count": 17,
   "metadata": {},
   "outputs": [
    {
     "data": {
      "text/plain": [
       "{'bird': 's_b1238_22',\n",
       " 'sess': '2022-01-27',\n",
       " 'probes': ['probe_0'],\n",
       " 'mic_list': ['microphone_0', 'microphone_1'],\n",
       " 'stim_list': ['wav_stim', 'wav_syn'],\n",
       " 'nidq_ttl_list': ['wav_ttl'],\n",
       " 'sort': 2}"
      ]
     },
     "execution_count": 17,
     "metadata": {},
     "output_type": "execute_result"
    }
   ],
   "source": [
    "sess_par"
   ]
  },
  {
   "cell_type": "code",
   "execution_count": 18,
   "metadata": {},
   "outputs": [],
   "source": [
    "# Search bouts"
   ]
  },
  {
   "cell_type": "markdown",
   "metadata": {},
   "source": [
    "## search bouts for those sessions"
   ]
  },
  {
   "cell_type": "code",
   "execution_count": 19,
   "metadata": {},
   "outputs": [],
   "source": [
    "from ceciestunepipe.util.sound import boutsearch as bs\n",
    "from ceciestunepipe.util import wavutil as wu\n",
    "\n",
    "from joblib import Parallel, delayed\n",
    "import pickle\n",
    "import sys"
   ]
  },
  {
   "cell_type": "code",
   "execution_count": 20,
   "metadata": {},
   "outputs": [],
   "source": [
    "def sess_file_id(f_path):\n",
    "    n = int(os.path.split(f_path)[1].split('-')[-1].split('.wav')[0])\n",
    "    return n\n",
    "\n",
    "\n",
    "def get_all_day_bouts(sess_par: dict, hparams:dict, n_jobs: int=12, ephys_software='sglx', \n",
    "                     parallel=True) -> pd.DataFrame:\n",
    "    \n",
    "    logger.info('Will search for bouts through all session {}, {}'.format(sess_par['bird'], sess_par['sess']))\n",
    "    exp_struct = et.get_exp_struct(sess_par['bird'], sess_par['sess'], ephys_software=ephys_software)\n",
    "\n",
    "    # get all the paths to the wav files of the epochs of the day   \n",
    "    source_folder = exp_struct['folders']['derived']\n",
    "    wav_path_list = et.get_sgl_files_epochs(source_folder, file_filter='*wav_mic.wav')\n",
    "    wav_path_list.sort()\n",
    "    logger.info('Found {} files'.format(len(wav_path_list)))\n",
    "    print(wav_path_list)\n",
    "    \n",
    "    get_file_bouts = lambda path: bs.get_epoch_bouts(path, hparams)\n",
    "    # Go parallel through all the paths in the day, get a list of all the pandas dataframes for each file\n",
    "    if parallel:\n",
    "        sess_pd_list = Parallel(n_jobs=n_jobs, verbose=100, prefer='threads')(delayed(get_file_bouts)(i) for i in wav_path_list)\n",
    "    else:\n",
    "        sess_pd_list = [get_file_bouts(i) for i in wav_path_list]\n",
    "    \n",
    "    #concatenate the file and return it, eventually write to a pickle\n",
    "    sess_bout_pd = pd.concat(sess_pd_list)\n",
    "    return sess_bout_pd\n",
    "\n",
    "def save_auto_bouts(sess_bout_pd, sess_par, hparams):\n",
    "    exp_struct = et.get_exp_struct(sess_par['bird'], sess_par['sess'], ephys_software='bouts_sglx')\n",
    "    #sess_bouts_dir = os.path.join(exp_struct['folders']['derived'], 'bouts_ceciestunepipe')\n",
    "    sess_bouts_dir = exp_struct['folders']['derived']\n",
    "\n",
    "    sess_bouts_path = os.path.join(sess_bouts_dir, hparams['bout_auto_file'])\n",
    "    hparams_pickle_path = os.path.join(sess_bouts_dir, 'bout_search_params.pickle')\n",
    "\n",
    "    os.makedirs(sess_bouts_dir, exist_ok=True)\n",
    "    logger.info('saving bouts pandas to ' + sess_bouts_path)\n",
    "    sess_bout_pd.to_pickle(sess_bouts_path)\n",
    "\n",
    "    logger.info('saving bout detect parameters dict to ' + hparams_pickle_path)\n",
    "    with open(hparams_pickle_path, 'wb') as fh:\n",
    "        pickle.dump(hparams, fh)"
   ]
  },
  {
   "cell_type": "code",
   "execution_count": 21,
   "metadata": {},
   "outputs": [],
   "source": [
    "hparams = {\n",
    "    # spectrogram\n",
    "    'num_freq':1024, #1024# how many channels to use in a spectrogram #\n",
    "    'preemphasis':0.97, \n",
    "    'frame_shift_ms':5, # step size for fft\n",
    "    'frame_length_ms':10, #128 # frame length for fft FRAME SAMPLES < NUM_FREQ!!!\n",
    "    'min_level_db':-55, # minimum threshold db for computing spe \n",
    "    'ref_level_db':110, # reference db for computing spec\n",
    "    #'sample_rate':None, # sample rate of your data\n",
    "    \n",
    "    # spectrograms\n",
    "    'mel_filter': False, # should a mel filter be used?\n",
    "    'num_mels':1024, # how many channels to use in the mel-spectrogram\n",
    "    'fmin': 500, # low frequency cutoff for mel filter\n",
    "    'fmax': 12000, # high frequency cutoff for mel filter\n",
    "    \n",
    "    # spectrogram inversion\n",
    "    'max_iters':200,\n",
    "    'griffin_lim_iters':20,\n",
    "    'power':1.5,\n",
    "\n",
    "    # Added for the searching\n",
    "    'read_wav_fun': wu.read_wav_chan, # function for loading the wav_like_stream (has to returns fs, ndarray)\n",
    "    'file_order_fun': sess_file_id, # function for extracting the file id within the session\n",
    "    'min_segment': 30, # Minimum length of supra_threshold to consider a 'syllable' (ms)\n",
    "    'min_silence': 2000, # Minmum distance between groups of syllables to consider separate bouts (ms)\n",
    "    'min_bout': 5000, # min bout duration (ms)\n",
    "    'peak_thresh_rms': 0.55, # threshold (rms) for peak acceptance,\n",
    "    'thresh_rms': 0.25, # threshold for detection of syllables\n",
    "    'mean_syl_rms_thresh': 0.3, #threshold for acceptance of mean rms across the syllable (relative to rms of the file)\n",
    "    'max_bout': 120000, #exclude bouts too long\n",
    "    'l_p_r_thresh': 100, # threshold for n of len_ms/peaks (typycally about 2-3 syllable spans\n",
    "    \n",
    "    'waveform_edges': 1000, #get number of ms before and after the edges of the bout for the waveform sample\n",
    "    \n",
    "    'bout_auto_file': 'bout_auto.pickle', # extension for saving the auto found files\n",
    "    'bout_curated_file': 'bout_checked.pickle', #extension for manually curated files (coming soon)\n",
    "    }"
   ]
  },
  {
   "cell_type": "code",
   "execution_count": 22,
   "metadata": {},
   "outputs": [
    {
     "data": {
      "text/plain": [
       "['2022-01-27']"
      ]
     },
     "execution_count": 22,
     "metadata": {},
     "output_type": "execute_result"
    }
   ],
   "source": [
    "sess_list"
   ]
  },
  {
   "cell_type": "code",
   "execution_count": 23,
   "metadata": {
    "tags": []
   },
   "outputs": [
    {
     "name": "stderr",
     "output_type": "stream",
     "text": [
      "2022-01-28 15:52:12,817 root         INFO     Will search for bouts through all session s_b1238_22, 2022-01-27\n",
      "2022-01-28 15:52:12,907 root         INFO     Found 1 files\n",
      "2022-01-28 15:52:12,908 ceciestunepipe.util.sound.boutsearch INFO     Getting bouts for long file /mnt/sphere/speech_bci/derived_data/s_b1238_22/2022-01-27/sglx/0605_g0/wav_mic.wav\n"
     ]
    },
    {
     "name": "stdout",
     "output_type": "stream",
     "text": [
      "['/mnt/sphere/speech_bci/derived_data/s_b1238_22/2022-01-27/sglx/0605_g0/wav_mic.wav']\n",
      "tu vieja file /mnt/sphere/speech_bci/derived_data/s_b1238_22/2022-01-27/sglx/0605_g0/wav_mic.wav\n"
     ]
    },
    {
     "name": "stderr",
     "output_type": "stream",
     "text": [
      "2022-01-28 15:52:12,912 ceciestunepipe.util.sound.boutsearch INFO     splitting file into 10 chunks\n"
     ]
    },
    {
     "data": {
      "application/vnd.jupyter.widget-view+json": {
       "model_id": "d2c84bb9d534427baf9ecbf21aed13d4",
       "version_major": 2,
       "version_minor": 0
      },
      "text/plain": [
       "  0%|          | 0/10 [00:00<?, ?it/s]"
      ]
     },
     "metadata": {},
     "output_type": "display_data"
    },
    {
     "name": "stderr",
     "output_type": "stream",
     "text": [
      "2022-01-28 15:58:12,195 ceciestunepipe.util.sound.boutsearch INFO     saving bout detect parameters dict to /mnt/sphere/speech_bci/derived_data/s_b1238_22/2022-01-27/sglx/0605_g0/bout_search_params.pickle\n",
      "2022-01-28 15:58:12,204 ceciestunepipe.util.sound.boutsearch INFO     saving bouts pandas to /mnt/sphere/speech_bci/derived_data/s_b1238_22/2022-01-27/sglx/0605_g0/bout_auto.pickle\n",
      "2022-01-28 15:58:14,996 root         INFO     saving bouts pandas to /mnt/sphere/speech_bci/derived_data/s_b1238_22/2022-01-27/bouts_sglx/bout_auto.pickle\n",
      "2022-01-28 15:58:17,800 root         INFO     saving bout detect parameters dict to /mnt/sphere/speech_bci/derived_data/s_b1238_22/2022-01-27/bouts_sglx/bout_search_params.pickle\n"
     ]
    }
   ],
   "source": [
    "all_sessions = sess_list[:]\n",
    "#all_sessions = ['2021-06-15']\n",
    "\n",
    "for sess in all_sessions:\n",
    "    sess_par['sess'] = sess\n",
    "    sess_bout_pd = get_all_day_bouts(sess_par, hparams, parallel=False)\n",
    "    save_auto_bouts(sess_bout_pd, sess_par, hparams)\n",
    "    sess_bouts_folder = os.path.join(exp_struct['folders']['derived'], 'bouts')\n",
    "    #bouts_to_wavs(sess_bout_pd, sess_par, hparams, sess_bouts_folder)"
   ]
  },
  {
   "cell_type": "code",
   "execution_count": 25,
   "metadata": {},
   "outputs": [
    {
     "name": "stdout",
     "output_type": "stream",
     "text": [
      "<class 'pandas.core.frame.DataFrame'>\n",
      "Int64Index: 349 entries, 0 to 75\n",
      "Data columns (total 17 columns):\n",
      " #   Column        Non-Null Count  Dtype  \n",
      "---  ------        --------------  -----  \n",
      " 0   start_ms      349 non-null    int64  \n",
      " 1   end_ms        349 non-null    int64  \n",
      " 2   start_sample  349 non-null    int64  \n",
      " 3   end_sample    349 non-null    int64  \n",
      " 4   p_step        349 non-null    object \n",
      " 5   rms_p         349 non-null    float64\n",
      " 6   peak_p        349 non-null    float64\n",
      " 7   bout_check    349 non-null    bool   \n",
      " 8   file          349 non-null    object \n",
      " 9   len_ms        349 non-null    int64  \n",
      " 10  syl_in        349 non-null    object \n",
      " 11  n_syl         349 non-null    int64  \n",
      " 12  peaks_p       349 non-null    object \n",
      " 13  n_peaks       349 non-null    int64  \n",
      " 14  l_p_ratio     349 non-null    float64\n",
      " 15  waveform      349 non-null    object \n",
      " 16  confusing     349 non-null    bool   \n",
      "dtypes: bool(2), float64(3), int64(7), object(5)\n",
      "memory usage: 44.3+ KB\n"
     ]
    }
   ],
   "source": [
    "sess_bout_pd.info()"
   ]
  },
  {
   "cell_type": "code",
   "execution_count": 24,
   "metadata": {},
   "outputs": [
    {
     "data": {
      "text/plain": [
       "103"
      ]
     },
     "execution_count": 24,
     "metadata": {},
     "output_type": "execute_result"
    }
   ],
   "source": [
    "np.unique(sess_bout_pd['start_ms']).size"
   ]
  },
  {
   "cell_type": "markdown",
   "metadata": {},
   "source": [
    "# debug"
   ]
  },
  {
   "cell_type": "markdown",
   "metadata": {},
   "source": [
    "## debug search_bout"
   ]
  },
  {
   "cell_type": "code",
   "execution_count": 21,
   "metadata": {},
   "outputs": [
    {
     "name": "stderr",
     "output_type": "stream",
     "text": [
      "2021-09-22 15:13:39,371 root         INFO     Found 4 files\n"
     ]
    },
    {
     "name": "stdout",
     "output_type": "stream",
     "text": [
      "['/mnt/sphere/speech_bci/derived_data/s_b1253_21/2021-06-14/sglx/0712_g0/wav_mic.wav', '/mnt/sphere/speech_bci/derived_data/s_b1253_21/2021-06-14/sglx/1255_g0/wav_mic.wav', '/mnt/sphere/speech_bci/derived_data/s_b1253_21/2021-06-14/sglx/1740_g0/wav_mic.wav', '/mnt/sphere/speech_bci/derived_data/s_b1253_21/2021-06-14/sglx/2118_g0/wav_mic.wav']\n"
     ]
    }
   ],
   "source": [
    "## look for a single file\n",
    "sess = sess_list[0]\n",
    "\n",
    "exp_struct = et.get_exp_struct(sess_par['bird'], sess, ephys_software='sglx')\n",
    "source_folder = exp_struct['folders']['derived']\n",
    "wav_path_list = et.get_sgl_files_epochs(source_folder, file_filter='*wav_mic.wav')\n",
    "wav_path_list.sort()\n",
    "logger.info('Found {} files'.format(len(wav_path_list)))\n",
    "print(wav_path_list)"
   ]
  },
  {
   "cell_type": "code",
   "execution_count": 22,
   "metadata": {},
   "outputs": [],
   "source": [
    "one_file = wav_path_list[0]"
   ]
  },
  {
   "cell_type": "code",
   "execution_count": null,
   "metadata": {},
   "outputs": [
    {
     "name": "stderr",
     "output_type": "stream",
     "text": [
      "2021-09-22 15:13:45,924 ceciestunepipe.util.sound.boutsearch INFO     Getting bouts for long file /mnt/sphere/speech_bci/derived_data/s_b1253_21/2021-06-14/sglx/0712_g0/wav_mic.wav\n"
     ]
    },
    {
     "name": "stdout",
     "output_type": "stream",
     "text": [
      "tu vieja file /mnt/sphere/speech_bci/derived_data/s_b1253_21/2021-06-14/sglx/0712_g0/wav_mic.wav\n"
     ]
    },
    {
     "name": "stderr",
     "output_type": "stream",
     "text": [
      "2021-09-22 15:13:45,962 ceciestunepipe.util.sound.boutsearch INFO     splitting file into 5 chunks\n"
     ]
    },
    {
     "data": {
      "application/vnd.jupyter.widget-view+json": {
       "model_id": "2ee46791b8cc495dae356f151c0a45d0",
       "version_major": 2,
       "version_minor": 0
      },
      "text/plain": [
       "  0%|          | 0/5 [00:00<?, ?it/s]"
      ]
     },
     "metadata": {},
     "output_type": "display_data"
    }
   ],
   "source": [
    "reload(bs)\n",
    "epoch_bout_pd, epoch_wav = bs.get_bouts_in_long_file(wav_path_list[0], hparams)"
   ]
  },
  {
   "cell_type": "code",
   "execution_count": null,
   "metadata": {},
   "outputs": [],
   "source": []
  }
 ],
 "metadata": {
  "kernelspec": {
   "display_name": "tuputapipe",
   "language": "python",
   "name": "ceciestunepipe"
  },
  "language_info": {
   "codemirror_mode": {
    "name": "ipython",
    "version": 3
   },
   "file_extension": ".py",
   "mimetype": "text/x-python",
   "name": "python",
   "nbconvert_exporter": "python",
   "pygments_lexer": "ipython3",
   "version": "3.8.11"
  }
 },
 "nbformat": 4,
 "nbformat_minor": 4
}
