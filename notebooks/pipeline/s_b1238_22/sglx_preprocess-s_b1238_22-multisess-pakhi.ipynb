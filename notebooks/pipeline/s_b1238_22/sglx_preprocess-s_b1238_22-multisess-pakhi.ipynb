{
 "cells": [
  {
   "cell_type": "markdown",
   "metadata": {},
   "source": [
    "# Pre-processing pipeline for spikeglx sessions, zebra finch\n",
    "- For every run in the session:\n",
    " - Load the recordings\n",
    " - Extract wav chan with micrhopohone and make a wav chan with the nidq syn signal\n",
    " - Get the sync events for the nidq sync channel\n",
    " \n",
    " - Do bout detection\n",
    " \n",
    "In another notebook, bout detection is curated\n",
    "- Left to decide where to:\n",
    "    - Sort spikes\n",
    "    - Sync the spikes/lfp/nidq\n",
    "    - make and plot 'bout rasters'"
   ]
  },
  {
   "cell_type": "code",
   "execution_count": 1,
   "metadata": {},
   "outputs": [],
   "source": [
    "%matplotlib inline\n",
    "import os\n",
    "import glob\n",
    "import logging\n",
    "import pickle\n",
    "import numpy as np\n",
    "import pandas as pd\n",
    "from scipy.io import wavfile\n",
    "from scipy import signal\n",
    "import traceback\n",
    "import warnings\n",
    "\n",
    "from matplotlib import pyplot as plt\n",
    "from importlib import reload\n",
    "\n",
    "logger = logging.getLogger()\n",
    "handler = logging.StreamHandler()\n",
    "formatter = logging.Formatter(\n",
    "        '%(asctime)s %(name)-12s %(levelname)-8s %(message)s')\n",
    "handler.setFormatter(formatter)\n",
    "logger.addHandler(handler)\n",
    "logger.setLevel(logging.INFO)\n"
   ]
  },
  {
   "cell_type": "code",
   "execution_count": 2,
   "metadata": {},
   "outputs": [],
   "source": [
    "from ceciestunepipe.file import bcistructure as et\n",
    "from ceciestunepipe.util import sglxutil as sglu\n",
    "from ceciestunepipe.util import rigutil as ru\n",
    "from ceciestunepipe.util import wavutil as wu\n",
    "from ceciestunepipe.util import syncutil as su\n",
    "\n",
    "from ceciestunepipe.util.sound import boutsearch as bs\n",
    "\n",
    "from ceciestunepipe.util.spikeextractors import preprocess as pre\n",
    "from ceciestunepipe.util.spikeextractors.extractors.spikeglxrecordingextractor import readSGLX as rsgl\n",
    "from ceciestunepipe.util.spikeextractors.extractors.spikeglxrecordingextractor import spikeglxrecordingextractor as sglex"
   ]
  },
  {
   "cell_type": "code",
   "execution_count": 3,
   "metadata": {},
   "outputs": [
    {
     "name": "stderr",
     "output_type": "stream",
     "text": [
      "2022-02-15 09:10:34,840 root         INFO     all modules loaded\n"
     ]
    }
   ],
   "source": [
    "import spikeinterface as si\n",
    "import spikeinterface.extractors as se\n",
    "import spikeinterface.toolkit as st\n",
    "import spikeinterface.sorters as ss\n",
    "import spikeinterface.comparison as sc\n",
    "import spikeinterface.widgets as sw\n",
    "logger.info('all modules loaded')"
   ]
  },
  {
   "cell_type": "markdown",
   "metadata": {},
   "source": [
    "## Session parameters and raw files"
   ]
  },
  {
   "cell_type": "markdown",
   "metadata": {},
   "source": [
    "#### list all the sessions for this bird"
   ]
  },
  {
   "cell_type": "code",
   "execution_count": 4,
   "metadata": {},
   "outputs": [
    {
     "name": "stderr",
     "output_type": "stream",
     "text": [
      "2022-02-15 09:10:36,034 root         INFO     all sessions for bird are ['2022-01-07', '2022-01-08', '2022-01-09', '2022-01-10', '2022-01-11', '2022-01-12', '2022-01-13', '2022-01-14', '2022-01-15', '2022-01-16', '2022-01-17', '2022-01-18', '2022-01-19', '2022-01-20', '2022-01-21', '2022-01-22', '2022-01-23', '2022-01-24', '2022-01-25', '2022-01-26', '2022-01-27', '2022-01-28', '2022-01-29', '2022-01-30', '2022-01-31', '2022-02-01', '2022-02-02', '2022-02-03', '2022-02-04', '2022-02-05', '2022-02-06', '2022-02-07', '2022-02-08', '2022-02-09', '2022-02-10', '2022-02-11', '2022-02-12', '2022-02-13', '2022-02-14', '2022-02-15']\n"
     ]
    }
   ],
   "source": [
    "bird = 's_b1238_22'\n",
    "all_bird_sess = et.list_sessions(bird)\n",
    "logger.info('all sessions for bird are {}'.format(all_bird_sess))"
   ]
  },
  {
   "cell_type": "markdown",
   "metadata": {},
   "source": [
    "### set up bird and sessions parameters\n",
    "this will define:\n",
    "- locations of files (for the bird)\n",
    "- signals and channels to look for in the metadata of the files and in the rig.json parameter file: Note that this have to exist in all of the sessions that will be processed\n",
    "- 'sess' is unimportant here, but it comes handy if there is need to debug usin a single session"
   ]
  },
  {
   "cell_type": "code",
   "execution_count": 5,
   "metadata": {},
   "outputs": [],
   "source": [
    "reload(et)\n",
    "# for one example session\n",
    "\n",
    "sess_par = {'bird': 's_b1238_22',\n",
    "           'sess': '2022-01-27',\n",
    "           'probes': ['probe_0'], #probes of interest\n",
    "           'mic_list': ['microphone_0', 'microphone_1'], #list of mics of interest, by signal name in rig.json\n",
    "           'stim_list': ['wav_stim', 'wav_syn'], # list of adc chans with the stimulus\n",
    "           'nidq_ttl_list': ['wav_ttl'], # list of TTL signals form the nidq digital inputs to extract (besides the 'sync')\n",
    "           'sort': 2, #label for this sort instance\n",
    "           }\n",
    "\n",
    "exp_struct = et.get_exp_struct(sess_par['bird'], sess_par['sess'], sort=sess_par['sort'])\n",
    "\n",
    "ksort_folder = exp_struct['folders']['ksort']\n",
    "raw_folder = exp_struct['folders']['sglx']"
   ]
  },
  {
   "cell_type": "markdown",
   "metadata": {},
   "source": [
    "list all the epochs in a session, to check that it is finding what it has to find"
   ]
  },
  {
   "cell_type": "code",
   "execution_count": 6,
   "metadata": {},
   "outputs": [
    {
     "name": "stderr",
     "output_type": "stream",
     "text": [
      "2022-02-15 09:10:41,363 ceciestunepipe.file.bcistructure INFO     {'folders': {'bird': '/mnt/sphere/speech_bci/raw_data/s_b1238_22', 'raw': '/mnt/sphere/speech_bci/raw_data/s_b1238_22/2022-01-27', 'sglx': '/mnt/sphere/speech_bci/raw_data/s_b1238_22/2022-01-27/sglx', 'kwik': '/scratch/earneodo/s_b1238_22/sglx/kwik/2022-01-27', 'processed': '/mnt/sphere/speech_bci/processed_data/s_b1238_22/2022-01-27/sglx', 'derived': '/mnt/sphere/speech_bci/derived_data/s_b1238_22/2022-01-27/sglx', 'tmp': '/scratch/earneodo/tmp', 'msort': '/scratch/earneodo/s_b1238_22/sglx/msort/2022-01-27', 'ksort': '/scratch/earneodo/s_b1238_22/sglx/ksort/2022-01-27/2', 'sort': '/mnt/sphere/speech_bci/derived_data/s_b1238_22/2022-01-27/sglx/2'}, 'files': {'par': '/scratch/earneodo/s_b1238_22/sglx/ksort/2022-01-27/2/params.json', 'set': '/mnt/sphere/speech_bci/raw_data/s_b1238_22/2022-01-27/sglx/settings.isf', 'rig': '/mnt/sphere/speech_bci/raw_data/s_b1238_22/2022-01-27/sglx/rig.json', 'kwd': '/scratch/earneodo/s_b1238_22/sglx/kwik/2022-01-27/stream.kwd', 'kwik': '/scratch/earneodo/s_b1238_22/sglx/kwik/2022-01-27/sort_2/spikes.kwik', 'kwe': '/scratch/earneodo/s_b1238_22/sglx/kwik/2022-01-27/events.kwe', 'dat_mic': '/mnt/sphere/speech_bci/processed_data/s_b1238_22/2022-01-27/sglx/dat_mic.mat', 'dat_ap': '/mnt/sphere/speech_bci/processed_data/s_b1238_22/2022-01-27/sglx/dat_ap.mat', 'allevents': '/mnt/sphere/speech_bci/processed_data/s_b1238_22/2022-01-27/sglx/dat_all.pkl', 'wav_mic': '/mnt/sphere/speech_bci/derived_data/s_b1238_22/2022-01-27/sglx/wav_mic.wav', 'mda_raw': '/scratch/earneodo/s_b1238_22/sglx/msort/2022-01-27/raw.mda', 'bin_raw': '/scratch/earneodo/s_b1238_22/sglx/ksort/2022-01-27/2/raw.bin'}}\n"
     ]
    },
    {
     "data": {
      "text/plain": [
       "['0605_g0', '1154_g0', '1722_g0', '2005_g0', '2135_nightstim_g0']"
      ]
     },
     "execution_count": 6,
     "metadata": {},
     "output_type": "execute_result"
    }
   ],
   "source": [
    "sess_epochs = et.list_sgl_epochs(sess_par)\n",
    "sess_epochs"
   ]
  },
  {
   "cell_type": "code",
   "execution_count": 7,
   "metadata": {},
   "outputs": [
    {
     "data": {
      "text/plain": [
       "['0605_g0', '1154_g0', '1722_g0', '2005_g0', '2135_nightstim_g0']"
      ]
     },
     "execution_count": 7,
     "metadata": {},
     "output_type": "execute_result"
    }
   ],
   "source": [
    "[x for x in sess_epochs if any(y in x for y in ['2', 'g0'])]"
   ]
  },
  {
   "cell_type": "markdown",
   "metadata": {},
   "source": [
    "#### define pre-processing steps for each epoch and for the session"
   ]
  },
  {
   "cell_type": "code",
   "execution_count": 8,
   "metadata": {
    "tags": []
   },
   "outputs": [
    {
     "name": "stderr",
     "output_type": "stream",
     "text": [
      "2022-02-15 09:10:47,345 ceciestunepipe.util.spikeextractors.preprocess INFO     PREPROCESSING sess 2022-01-27 | epoch 0605_g0\n",
      "2022-02-15 09:10:47,346 ceciestunepipe.util.spikeextractors.preprocess INFO     getting extractors\n",
      "2022-02-15 09:10:47,388 ceciestunepipe.util.spikeextractors.preprocess INFO     Got sglx recordings for keys ['nidq', 'lf_0', 'ap_0']\n",
      "2022-02-15 09:10:47,389 ceciestunepipe.util.spikeextractors.preprocess INFO     Getting microphone channel(s) ['microphone_0', 'microphone_1']\n",
      "2022-02-15 09:10:50,680 ceciestunepipe.util.wavutil INFO     sampling rate 40000\n",
      "2022-02-15 09:10:50,681 ceciestunepipe.util.wavutil INFO     saving (2, 834494107)-shaped array as wav in /mnt/sphere/speech_bci/derived_data/s_b1238_22/2022-01-27/sglx/0605_g0/wav_mic.wav\n",
      "2022-02-15 09:11:01,791 ceciestunepipe.util.wavutil INFO     saving (2, 834494107)-shaped array as npy in /mnt/sphere/speech_bci/derived_data/s_b1238_22/2022-01-27/sglx/0605_g0/wav_mic.npy\n",
      "2022-02-15 09:11:07,359 ceciestunepipe.util.spikeextractors.preprocess INFO     Getting stimulus channel(s) ['wav_stim', 'wav_syn']\n",
      "2022-02-15 09:11:07,361 ceciestunepipe.util.wavutil INFO     sampling rate 40000\n",
      "2022-02-15 09:11:07,361 ceciestunepipe.util.wavutil INFO     saving (2, 834494107)-shaped array as wav in /mnt/sphere/speech_bci/derived_data/s_b1238_22/2022-01-27/sglx/0605_g0/wav_stim.wav\n",
      "2022-02-15 09:11:19,227 ceciestunepipe.util.wavutil INFO     saving (2, 834494107)-shaped array as npy in /mnt/sphere/speech_bci/derived_data/s_b1238_22/2022-01-27/sglx/0605_g0/wav_stim.npy\n",
      "2022-02-15 09:11:51,601 ceciestunepipe.util.spikeextractors.preprocess INFO     Getting sync channel(s) from nidaq streams: ['sync']\n",
      "2022-02-15 09:11:51,605 ceciestunepipe.util.spikeextractors.extractors.spikeglxrecordingextractor.spikeglxrecordingextractor INFO     getting ttl traces, chan range(0, 7)\n",
      "2022-02-15 09:12:03,002 ceciestunepipe.util.wavutil INFO     sampling rate 40000\n",
      "2022-02-15 09:12:03,004 ceciestunepipe.util.wavutil INFO     saving (1, 834494107)-shaped array as wav in /mnt/sphere/speech_bci/derived_data/s_b1238_22/2022-01-27/sglx/0605_g0/wav_sync.wav\n",
      "2022-02-15 09:12:05,689 ceciestunepipe.util.wavutil INFO     saving (1, 834494107)-shaped array as npy in /mnt/sphere/speech_bci/derived_data/s_b1238_22/2022-01-27/sglx/0605_g0/wav_sync.npy\n",
      "2022-02-15 09:12:08,277 ceciestunepipe.util.spikeextractors.preprocess INFO     Getting sync events from the wav sync channel\n",
      "2022-02-15 09:12:12,320 ceciestunepipe.util.spikeextractors.preprocess INFO     saving sync events of the wav channel to /mnt/sphere/speech_bci/derived_data/s_b1238_22/2022-01-27/sglx/0605_g0/wav_sync_evt.npy\n",
      "2022-02-15 09:12:12,529 ceciestunepipe.util.spikeextractors.preprocess INFO     saving t0 for wav channel to /mnt/sphere/speech_bci/derived_data/s_b1238_22/2022-01-27/sglx/0605_g0/wav_t0.npy\n",
      "2022-02-15 09:12:25,428 ceciestunepipe.util.spikeextractors.preprocess INFO     Will get 1 ttl signals\n",
      "2022-02-15 09:12:25,429 ceciestunepipe.util.spikeextractors.preprocess INFO     looking for signal wav_ttl in the nidaq channels\n",
      "2022-02-15 09:12:25,430 ceciestunepipe.util.spikeextractors.preprocess INFO     found in chan 2\n",
      "2022-02-15 09:12:25,431 ceciestunepipe.util.spikeextractors.extractors.spikeglxrecordingextractor.spikeglxrecordingextractor INFO     getting ttl events, chan 2\n",
      "2022-02-15 09:12:32,039 ceciestunepipe.util.spikeextractors.preprocess INFO     saving (0, 2)-shaped array as npy in /mnt/sphere/speech_bci/derived_data/s_b1238_22/2022-01-27/sglx/0605_g0/wav_ttl_evt.npy\n",
      "2022-02-15 09:12:32,052 ceciestunepipe.util.spikeextractors.preprocess INFO     saving sync nidaq dict to /mnt/sphere/speech_bci/derived_data/s_b1238_22/2022-01-27/sglx/0605_g0/wav_sync_dict.pkl\n",
      "2022-02-15 09:12:32,086 ceciestunepipe.util.spikeextractors.preprocess INFO     Getting sync signals for imec streams: ['lf_0', 'ap_0']\n",
      "2022-02-15 09:12:32,087 ceciestunepipe.util.spikeextractors.preprocess INFO     getting syn patterns for lf_0\n",
      "2022-02-15 09:12:32,091 ceciestunepipe.util.spikeextractors.preprocess INFO     File /mnt/sphere/speech_bci/derived_data/s_b1238_22/2022-01-27/sglx/lf_0_sync_dict.pkl not found or forced computation, getting the events\n",
      "2022-02-15 09:12:32,092 ceciestunepipe.util.spikeextractors.extractors.spikeglxrecordingextractor.spikeglxrecordingextractor INFO     getting ttl events, chan 0\n",
      "2022-02-15 09:12:32,093 ceciestunepipe.util.spikeextractors.extractors.readSGLX INFO     Extracting digital on imec stream: there is only one channel, if any (SYN) and will be converted from an int16 channel \n",
      "2022-02-15 09:12:32,094 ceciestunepipe.util.spikeextractors.extractors.readSGLX INFO     allocated array for syn channel of size (52156885,)\n",
      "2022-02-15 09:15:15,029 ceciestunepipe.util.spikeextractors.extractors.readSGLX INFO     Threshold for logical hi is 0\n",
      "/mnt/cube/earneodo/repos/ceciestunepipe/ceciestunepipe/util/spikeextractors/extractors/spikeglxrecordingextractor/readSGLX.py:310: UserWarning: There were 2 errors in the recording\n",
      "  warnings.warn('There were {} errors in the recording'.format(n_errors))\n",
      "/mnt/cube/earneodo/repos/ceciestunepipe/ceciestunepipe/util/spikeextractors/extractors/spikeglxrecordingextractor/readSGLX.py:311: UserWarning: You probably want to check those\n",
      "  warnings.warn('You probably want to check those')\n",
      "2022-02-15 09:15:18,685 ceciestunepipe.util.spikeextractors.preprocess INFO     saving events array to /mnt/sphere/speech_bci/derived_data/s_b1238_22/2022-01-27/sglx/lf_0_sync_evt.npy\n",
      "2022-02-15 09:15:18,844 ceciestunepipe.util.spikeextractors.preprocess INFO     saving t_0 array to /mnt/sphere/speech_bci/derived_data/s_b1238_22/2022-01-27/sglx/lf_0_t0.npy\n",
      "2022-02-15 09:15:19,431 ceciestunepipe.util.spikeextractors.preprocess INFO     saving sync dict to /mnt/sphere/speech_bci/derived_data/s_b1238_22/2022-01-27/sglx/lf_0_sync_dict.pkl\n",
      "2022-02-15 09:15:19,654 ceciestunepipe.util.spikeextractors.preprocess INFO     getting syn patterns for ap_0\n",
      "2022-02-15 09:15:19,656 ceciestunepipe.util.spikeextractors.preprocess INFO     File /mnt/sphere/speech_bci/derived_data/s_b1238_22/2022-01-27/sglx/ap_0_sync_dict.pkl not found or forced computation, getting the events\n",
      "2022-02-15 09:15:19,656 ceciestunepipe.util.spikeextractors.extractors.spikeglxrecordingextractor.spikeglxrecordingextractor INFO     getting ttl events, chan 0\n",
      "2022-02-15 09:15:19,657 ceciestunepipe.util.spikeextractors.extractors.readSGLX INFO     Extracting digital on imec stream: there is only one channel, if any (SYN) and will be converted from an int16 channel \n",
      "2022-02-15 09:15:19,658 ceciestunepipe.util.spikeextractors.extractors.readSGLX INFO     allocated array for syn channel of size (625882618,)\n",
      "2022-02-15 09:51:34,873 ceciestunepipe.util.spikeextractors.extractors.readSGLX INFO     Threshold for logical hi is 0\n",
      "/mnt/cube/earneodo/repos/ceciestunepipe/ceciestunepipe/util/spikeextractors/extractors/spikeglxrecordingextractor/readSGLX.py:310: UserWarning: There were 18 errors in the recording\n",
      "  warnings.warn('There were {} errors in the recording'.format(n_errors))\n",
      "/mnt/cube/earneodo/repos/ceciestunepipe/ceciestunepipe/util/spikeextractors/extractors/spikeglxrecordingextractor/readSGLX.py:311: UserWarning: You probably want to check those\n",
      "  warnings.warn('You probably want to check those')\n",
      "2022-02-15 09:51:58,025 ceciestunepipe.util.spikeextractors.preprocess INFO     saving events array to /mnt/sphere/speech_bci/derived_data/s_b1238_22/2022-01-27/sglx/ap_0_sync_evt.npy\n",
      "2022-02-15 09:51:58,447 ceciestunepipe.util.spikeextractors.preprocess INFO     saving t_0 array to /mnt/sphere/speech_bci/derived_data/s_b1238_22/2022-01-27/sglx/ap_0_t0.npy\n",
      "2022-02-15 09:52:05,763 ceciestunepipe.util.spikeextractors.preprocess INFO     saving sync dict to /mnt/sphere/speech_bci/derived_data/s_b1238_22/2022-01-27/sglx/ap_0_sync_dict.pkl\n"
     ]
    }
   ],
   "source": [
    "reload(pre)\n",
    "one_epoch_dict = pre.preprocess_run(sess_par, exp_struct, sess_epochs[0])"
   ]
  },
  {
   "cell_type": "code",
   "execution_count": 11,
   "metadata": {
    "scrolled": true,
    "tags": []
   },
   "outputs": [],
   "source": [
    "### sequentially process all runs of the sessions\n",
    "def preprocess_session(sess_par: dict):\n",
    "    logger.info('pre-process all runs of sess ' + sess_par['sess'])\n",
    "    # get exp struct\n",
    "    sess_struct = et.get_exp_struct(sess_par['bird'], sess_par['sess'], sort=sess_par['sort'])\n",
    "    # list the epochs\n",
    "    sess_epochs = et.list_sgl_epochs(sess_par)\n",
    "    logger.info('found epochs: {}'.format(sess_epochs))\n",
    "    # preprocess all epochs\n",
    "    epoch_dict_list = []\n",
    "    for i_ep, epoch in enumerate(sess_epochs):\n",
    "        try:\n",
    "            exp_struct = et.sgl_struct(sess_par, epoch)\n",
    "            one_epoch_dict = pre.preprocess_run(sess_par, exp_struct, epoch)\n",
    "            epoch_dict_list.append(one_epoch_dict)\n",
    "        except Exception as exc:\n",
    "            warnings.warn('Error in epoch {}'.format(epoch), UserWarning)\n",
    "            logger.info(traceback.format_exc)\n",
    "            logger.info(exc)\n",
    "            logger.info('Session {} epoch {} could not be preprocessed'.format(sess_par['sess'], epoch))\n",
    "        \n",
    "    return epoch_dict_list\n",
    "\n",
    "#all_epoch_list = preprocess_session(sess_par)"
   ]
  },
  {
   "cell_type": "markdown",
   "metadata": {},
   "source": [
    "## Process multiple sessions"
   ]
  },
  {
   "cell_type": "code",
   "execution_count": 12,
   "metadata": {
    "tags": []
   },
   "outputs": [],
   "source": [
    "sess_list = all_bird_sess\n",
    "# fist implant, right hemisphere\n",
    "#sess_list = ['2021-06-24', '2021-06-25', '2021-06-26', '2021-06-27', '2021-06-28', '2021-06-29', '2021-06-30']\n",
    "sess_list = ['2022-01-17', '2022-01-18', '2022-01-19', '2022-01-20', \n",
    "             '2022-01-26', '2022-01-27','2022-01-28', '2022-01-29', '2022-01-30',\n",
    "            '2022-02-11', '2022-01-12', '2022-01-13']"
   ]
  },
  {
   "cell_type": "code",
   "execution_count": null,
   "metadata": {
    "tags": []
   },
   "outputs": [
    {
     "name": "stderr",
     "output_type": "stream",
     "text": [
      "2022-02-15 09:55:02,419 root         INFO     pre-process all runs of sess 2022-01-17\n",
      "2022-02-15 09:55:02,421 ceciestunepipe.file.bcistructure INFO     {'folders': {'bird': '/mnt/sphere/speech_bci/raw_data/s_b1238_22', 'raw': '/mnt/sphere/speech_bci/raw_data/s_b1238_22/2022-01-17', 'sglx': '/mnt/sphere/speech_bci/raw_data/s_b1238_22/2022-01-17/sglx', 'kwik': '/scratch/earneodo/s_b1238_22/sglx/kwik/2022-01-17', 'processed': '/mnt/sphere/speech_bci/processed_data/s_b1238_22/2022-01-17/sglx', 'derived': '/mnt/sphere/speech_bci/derived_data/s_b1238_22/2022-01-17/sglx', 'tmp': '/scratch/earneodo/tmp', 'msort': '/scratch/earneodo/s_b1238_22/sglx/msort/2022-01-17', 'ksort': '/scratch/earneodo/s_b1238_22/sglx/ksort/2022-01-17/2', 'sort': '/mnt/sphere/speech_bci/derived_data/s_b1238_22/2022-01-17/sglx/2'}, 'files': {'par': '/scratch/earneodo/s_b1238_22/sglx/ksort/2022-01-17/2/params.json', 'set': '/mnt/sphere/speech_bci/raw_data/s_b1238_22/2022-01-17/sglx/settings.isf', 'rig': '/mnt/sphere/speech_bci/raw_data/s_b1238_22/2022-01-17/sglx/rig.json', 'kwd': '/scratch/earneodo/s_b1238_22/sglx/kwik/2022-01-17/stream.kwd', 'kwik': '/scratch/earneodo/s_b1238_22/sglx/kwik/2022-01-17/sort_2/spikes.kwik', 'kwe': '/scratch/earneodo/s_b1238_22/sglx/kwik/2022-01-17/events.kwe', 'dat_mic': '/mnt/sphere/speech_bci/processed_data/s_b1238_22/2022-01-17/sglx/dat_mic.mat', 'dat_ap': '/mnt/sphere/speech_bci/processed_data/s_b1238_22/2022-01-17/sglx/dat_ap.mat', 'allevents': '/mnt/sphere/speech_bci/processed_data/s_b1238_22/2022-01-17/sglx/dat_all.pkl', 'wav_mic': '/mnt/sphere/speech_bci/derived_data/s_b1238_22/2022-01-17/sglx/wav_mic.wav', 'mda_raw': '/scratch/earneodo/s_b1238_22/sglx/msort/2022-01-17/raw.mda', 'bin_raw': '/scratch/earneodo/s_b1238_22/sglx/ksort/2022-01-17/2/raw.bin'}}\n",
      "2022-02-15 09:55:02,423 root         INFO     found epochs: []\n",
      "2022-02-15 09:55:02,423 root         INFO     pre-process all runs of sess 2022-01-18\n",
      "2022-02-15 09:55:02,424 ceciestunepipe.file.bcistructure INFO     {'folders': {'bird': '/mnt/sphere/speech_bci/raw_data/s_b1238_22', 'raw': '/mnt/sphere/speech_bci/raw_data/s_b1238_22/2022-01-18', 'sglx': '/mnt/sphere/speech_bci/raw_data/s_b1238_22/2022-01-18/sglx', 'kwik': '/scratch/earneodo/s_b1238_22/sglx/kwik/2022-01-18', 'processed': '/mnt/sphere/speech_bci/processed_data/s_b1238_22/2022-01-18/sglx', 'derived': '/mnt/sphere/speech_bci/derived_data/s_b1238_22/2022-01-18/sglx', 'tmp': '/scratch/earneodo/tmp', 'msort': '/scratch/earneodo/s_b1238_22/sglx/msort/2022-01-18', 'ksort': '/scratch/earneodo/s_b1238_22/sglx/ksort/2022-01-18/2', 'sort': '/mnt/sphere/speech_bci/derived_data/s_b1238_22/2022-01-18/sglx/2'}, 'files': {'par': '/scratch/earneodo/s_b1238_22/sglx/ksort/2022-01-18/2/params.json', 'set': '/mnt/sphere/speech_bci/raw_data/s_b1238_22/2022-01-18/sglx/settings.isf', 'rig': '/mnt/sphere/speech_bci/raw_data/s_b1238_22/2022-01-18/sglx/rig.json', 'kwd': '/scratch/earneodo/s_b1238_22/sglx/kwik/2022-01-18/stream.kwd', 'kwik': '/scratch/earneodo/s_b1238_22/sglx/kwik/2022-01-18/sort_2/spikes.kwik', 'kwe': '/scratch/earneodo/s_b1238_22/sglx/kwik/2022-01-18/events.kwe', 'dat_mic': '/mnt/sphere/speech_bci/processed_data/s_b1238_22/2022-01-18/sglx/dat_mic.mat', 'dat_ap': '/mnt/sphere/speech_bci/processed_data/s_b1238_22/2022-01-18/sglx/dat_ap.mat', 'allevents': '/mnt/sphere/speech_bci/processed_data/s_b1238_22/2022-01-18/sglx/dat_all.pkl', 'wav_mic': '/mnt/sphere/speech_bci/derived_data/s_b1238_22/2022-01-18/sglx/wav_mic.wav', 'mda_raw': '/scratch/earneodo/s_b1238_22/sglx/msort/2022-01-18/raw.mda', 'bin_raw': '/scratch/earneodo/s_b1238_22/sglx/ksort/2022-01-18/2/raw.bin'}}\n",
      "2022-02-15 09:55:02,425 root         INFO     found epochs: []\n",
      "2022-02-15 09:55:02,426 root         INFO     pre-process all runs of sess 2022-01-19\n",
      "2022-02-15 09:55:02,426 ceciestunepipe.file.bcistructure INFO     {'folders': {'bird': '/mnt/sphere/speech_bci/raw_data/s_b1238_22', 'raw': '/mnt/sphere/speech_bci/raw_data/s_b1238_22/2022-01-19', 'sglx': '/mnt/sphere/speech_bci/raw_data/s_b1238_22/2022-01-19/sglx', 'kwik': '/scratch/earneodo/s_b1238_22/sglx/kwik/2022-01-19', 'processed': '/mnt/sphere/speech_bci/processed_data/s_b1238_22/2022-01-19/sglx', 'derived': '/mnt/sphere/speech_bci/derived_data/s_b1238_22/2022-01-19/sglx', 'tmp': '/scratch/earneodo/tmp', 'msort': '/scratch/earneodo/s_b1238_22/sglx/msort/2022-01-19', 'ksort': '/scratch/earneodo/s_b1238_22/sglx/ksort/2022-01-19/2', 'sort': '/mnt/sphere/speech_bci/derived_data/s_b1238_22/2022-01-19/sglx/2'}, 'files': {'par': '/scratch/earneodo/s_b1238_22/sglx/ksort/2022-01-19/2/params.json', 'set': '/mnt/sphere/speech_bci/raw_data/s_b1238_22/2022-01-19/sglx/settings.isf', 'rig': '/mnt/sphere/speech_bci/raw_data/s_b1238_22/2022-01-19/sglx/rig.json', 'kwd': '/scratch/earneodo/s_b1238_22/sglx/kwik/2022-01-19/stream.kwd', 'kwik': '/scratch/earneodo/s_b1238_22/sglx/kwik/2022-01-19/sort_2/spikes.kwik', 'kwe': '/scratch/earneodo/s_b1238_22/sglx/kwik/2022-01-19/events.kwe', 'dat_mic': '/mnt/sphere/speech_bci/processed_data/s_b1238_22/2022-01-19/sglx/dat_mic.mat', 'dat_ap': '/mnt/sphere/speech_bci/processed_data/s_b1238_22/2022-01-19/sglx/dat_ap.mat', 'allevents': '/mnt/sphere/speech_bci/processed_data/s_b1238_22/2022-01-19/sglx/dat_all.pkl', 'wav_mic': '/mnt/sphere/speech_bci/derived_data/s_b1238_22/2022-01-19/sglx/wav_mic.wav', 'mda_raw': '/scratch/earneodo/s_b1238_22/sglx/msort/2022-01-19/raw.mda', 'bin_raw': '/scratch/earneodo/s_b1238_22/sglx/ksort/2022-01-19/2/raw.bin'}}\n",
      "2022-02-15 09:55:02,507 root         INFO     found epochs: ['0355_nightstim_g0', '0711_g0', '1113_g0', '1545_g0']\n",
      "2022-02-15 09:55:02,508 ceciestunepipe.util.spikeextractors.preprocess INFO     PREPROCESSING sess 2022-01-19 | epoch 0355_nightstim_g0\n",
      "2022-02-15 09:55:02,508 ceciestunepipe.util.spikeextractors.preprocess INFO     getting extractors\n",
      "2022-02-15 09:55:02,651 ceciestunepipe.util.spikeextractors.preprocess INFO     Got sglx recordings for keys ['nidq', 'lf_0', 'ap_0']\n",
      "2022-02-15 09:55:02,652 ceciestunepipe.util.spikeextractors.preprocess INFO     Getting microphone channel(s) ['microphone_0', 'microphone_1']\n",
      "2022-02-15 09:55:37,066 ceciestunepipe.util.wavutil INFO     sampling rate 40000\n",
      "2022-02-15 09:55:37,069 ceciestunepipe.util.wavutil INFO     saving (2, 466902938)-shaped array as wav in /mnt/sphere/speech_bci/derived_data/s_b1238_22/2022-01-19/sglx/0355_nightstim_g0/wav_mic.wav\n",
      "2022-02-15 09:55:49,420 ceciestunepipe.util.wavutil INFO     saving (2, 466902938)-shaped array as npy in /mnt/sphere/speech_bci/derived_data/s_b1238_22/2022-01-19/sglx/0355_nightstim_g0/wav_mic.npy\n",
      "2022-02-15 09:55:52,464 ceciestunepipe.util.spikeextractors.preprocess INFO     Getting stimulus channel(s) ['wav_stim', 'wav_syn']\n",
      "2022-02-15 09:55:52,466 ceciestunepipe.util.wavutil INFO     sampling rate 40000\n",
      "2022-02-15 09:55:52,467 ceciestunepipe.util.wavutil INFO     saving (2, 466902938)-shaped array as wav in /mnt/sphere/speech_bci/derived_data/s_b1238_22/2022-01-19/sglx/0355_nightstim_g0/wav_stim.wav\n",
      "2022-02-15 09:56:04,510 ceciestunepipe.util.wavutil INFO     saving (2, 466902938)-shaped array as npy in /mnt/sphere/speech_bci/derived_data/s_b1238_22/2022-01-19/sglx/0355_nightstim_g0/wav_stim.npy\n",
      "2022-02-15 09:56:22,668 ceciestunepipe.util.spikeextractors.preprocess INFO     Getting sync channel(s) from nidaq streams: ['sync']\n",
      "2022-02-15 09:56:22,670 ceciestunepipe.util.spikeextractors.extractors.spikeglxrecordingextractor.spikeglxrecordingextractor INFO     getting ttl traces, chan range(0, 7)\n",
      "2022-02-15 09:56:55,026 ceciestunepipe.util.wavutil INFO     sampling rate 40000\n",
      "2022-02-15 09:56:55,028 ceciestunepipe.util.wavutil INFO     saving (1, 466902938)-shaped array as wav in /mnt/sphere/speech_bci/derived_data/s_b1238_22/2022-01-19/sglx/0355_nightstim_g0/wav_sync.wav\n",
      "2022-02-15 09:56:56,468 ceciestunepipe.util.wavutil INFO     saving (1, 466902938)-shaped array as npy in /mnt/sphere/speech_bci/derived_data/s_b1238_22/2022-01-19/sglx/0355_nightstim_g0/wav_sync.npy\n",
      "2022-02-15 09:56:58,015 ceciestunepipe.util.spikeextractors.preprocess INFO     Getting sync events from the wav sync channel\n",
      "2022-02-15 09:57:12,850 ceciestunepipe.util.spikeextractors.preprocess INFO     saving sync events of the wav channel to /mnt/sphere/speech_bci/derived_data/s_b1238_22/2022-01-19/sglx/0355_nightstim_g0/wav_sync_evt.npy\n",
      "2022-02-15 09:57:12,875 ceciestunepipe.util.spikeextractors.preprocess INFO     saving t0 for wav channel to /mnt/sphere/speech_bci/derived_data/s_b1238_22/2022-01-19/sglx/0355_nightstim_g0/wav_t0.npy\n",
      "2022-02-15 09:57:25,997 ceciestunepipe.util.spikeextractors.preprocess INFO     Will get 1 ttl signals\n",
      "2022-02-15 09:57:25,999 ceciestunepipe.util.spikeextractors.preprocess INFO     looking for signal wav_ttl in the nidaq channels\n",
      "2022-02-15 09:57:26,000 ceciestunepipe.util.spikeextractors.preprocess INFO     found in chan 2\n",
      "2022-02-15 09:57:26,000 ceciestunepipe.util.spikeextractors.extractors.spikeglxrecordingextractor.spikeglxrecordingextractor INFO     getting ttl events, chan 2\n",
      "2022-02-15 09:57:45,737 ceciestunepipe.util.spikeextractors.preprocess INFO     saving (0, 2)-shaped array as npy in /mnt/sphere/speech_bci/derived_data/s_b1238_22/2022-01-19/sglx/0355_nightstim_g0/wav_ttl_evt.npy\n",
      "2022-02-15 09:57:46,012 ceciestunepipe.util.spikeextractors.preprocess INFO     saving sync nidaq dict to /mnt/sphere/speech_bci/derived_data/s_b1238_22/2022-01-19/sglx/0355_nightstim_g0/wav_sync_dict.pkl\n",
      "2022-02-15 09:57:46,014 ceciestunepipe.util.spikeextractors.preprocess INFO     Getting sync signals for imec streams: ['lf_0', 'ap_0']\n",
      "2022-02-15 09:57:46,015 ceciestunepipe.util.spikeextractors.preprocess INFO     getting syn patterns for lf_0\n",
      "2022-02-15 09:57:46,094 ceciestunepipe.util.spikeextractors.preprocess INFO     File /mnt/sphere/speech_bci/derived_data/s_b1238_22/2022-01-19/sglx/0355_nightstim_g0/lf_0_sync_dict.pkl not found or forced computation, getting the events\n",
      "2022-02-15 09:57:46,095 ceciestunepipe.util.spikeextractors.extractors.spikeglxrecordingextractor.spikeglxrecordingextractor INFO     getting ttl events, chan 0\n",
      "2022-02-15 09:57:46,096 ceciestunepipe.util.spikeextractors.extractors.readSGLX INFO     Extracting digital on imec stream: there is only one channel, if any (SYN) and will be converted from an int16 channel \n",
      "2022-02-15 09:57:46,096 ceciestunepipe.util.spikeextractors.extractors.readSGLX INFO     allocated array for syn channel of size (29181989,)\n",
      "2022-02-15 09:59:26,239 ceciestunepipe.util.spikeextractors.extractors.readSGLX INFO     Threshold for logical hi is 0\n",
      "2022-02-15 09:59:28,475 ceciestunepipe.util.spikeextractors.preprocess INFO     saving events array to /mnt/sphere/speech_bci/derived_data/s_b1238_22/2022-01-19/sglx/0355_nightstim_g0/lf_0_sync_evt.npy\n",
      "2022-02-15 09:59:28,510 ceciestunepipe.util.spikeextractors.preprocess INFO     saving t_0 array to /mnt/sphere/speech_bci/derived_data/s_b1238_22/2022-01-19/sglx/0355_nightstim_g0/lf_0_t0.npy\n",
      "2022-02-15 09:59:28,874 ceciestunepipe.util.spikeextractors.preprocess INFO     saving sync dict to /mnt/sphere/speech_bci/derived_data/s_b1238_22/2022-01-19/sglx/0355_nightstim_g0/lf_0_sync_dict.pkl\n",
      "2022-02-15 09:59:28,876 ceciestunepipe.util.spikeextractors.preprocess INFO     getting syn patterns for ap_0\n",
      "2022-02-15 09:59:28,876 ceciestunepipe.util.spikeextractors.preprocess INFO     File /mnt/sphere/speech_bci/derived_data/s_b1238_22/2022-01-19/sglx/0355_nightstim_g0/ap_0_sync_dict.pkl not found or forced computation, getting the events\n",
      "2022-02-15 09:59:28,877 ceciestunepipe.util.spikeextractors.extractors.spikeglxrecordingextractor.spikeglxrecordingextractor INFO     getting ttl events, chan 0\n",
      "2022-02-15 09:59:28,878 ceciestunepipe.util.spikeextractors.extractors.readSGLX INFO     Extracting digital on imec stream: there is only one channel, if any (SYN) and will be converted from an int16 channel \n",
      "2022-02-15 09:59:28,878 ceciestunepipe.util.spikeextractors.extractors.readSGLX INFO     allocated array for syn channel of size (350183863,)\n",
      "2022-02-15 10:20:30,575 ceciestunepipe.util.spikeextractors.extractors.readSGLX INFO     Threshold for logical hi is 0\n",
      "/mnt/cube/earneodo/repos/ceciestunepipe/ceciestunepipe/util/spikeextractors/extractors/spikeglxrecordingextractor/readSGLX.py:310: UserWarning: There were 8 errors in the recording\n",
      "  warnings.warn('There were {} errors in the recording'.format(n_errors))\n",
      "/mnt/cube/earneodo/repos/ceciestunepipe/ceciestunepipe/util/spikeextractors/extractors/spikeglxrecordingextractor/readSGLX.py:311: UserWarning: You probably want to check those\n",
      "  warnings.warn('You probably want to check those')\n",
      "2022-02-15 10:21:10,290 ceciestunepipe.util.spikeextractors.preprocess INFO     saving events array to /mnt/sphere/speech_bci/derived_data/s_b1238_22/2022-01-19/sglx/0355_nightstim_g0/ap_0_sync_evt.npy\n",
      "2022-02-15 10:21:10,518 ceciestunepipe.util.spikeextractors.preprocess INFO     saving t_0 array to /mnt/sphere/speech_bci/derived_data/s_b1238_22/2022-01-19/sglx/0355_nightstim_g0/ap_0_t0.npy\n",
      "2022-02-15 10:21:14,608 ceciestunepipe.util.spikeextractors.preprocess INFO     saving sync dict to /mnt/sphere/speech_bci/derived_data/s_b1238_22/2022-01-19/sglx/0355_nightstim_g0/ap_0_sync_dict.pkl\n",
      "2022-02-15 10:21:14,652 ceciestunepipe.util.spikeextractors.preprocess INFO     PREPROCESSING sess 2022-01-19 | epoch 0711_g0\n",
      "2022-02-15 10:21:14,653 ceciestunepipe.util.spikeextractors.preprocess INFO     getting extractors\n",
      "2022-02-15 10:21:14,750 ceciestunepipe.util.spikeextractors.preprocess INFO     Got sglx recordings for keys ['nidq', 'lf_0', 'ap_0']\n",
      "2022-02-15 10:21:14,751 ceciestunepipe.util.spikeextractors.preprocess INFO     Getting microphone channel(s) ['microphone_0', 'microphone_1']\n",
      "2022-02-15 10:21:47,054 ceciestunepipe.util.wavutil INFO     sampling rate 40000\n",
      "2022-02-15 10:21:47,055 ceciestunepipe.util.wavutil INFO     saving (2, 575233689)-shaped array as wav in /mnt/sphere/speech_bci/derived_data/s_b1238_22/2022-01-19/sglx/0711_g0/wav_mic.wav\n",
      "2022-02-15 10:21:59,195 ceciestunepipe.util.wavutil INFO     saving (2, 575233689)-shaped array as npy in /mnt/sphere/speech_bci/derived_data/s_b1238_22/2022-01-19/sglx/0711_g0/wav_mic.npy\n",
      "2022-02-15 10:22:02,562 ceciestunepipe.util.spikeextractors.preprocess INFO     Getting stimulus channel(s) ['wav_stim', 'wav_syn']\n",
      "2022-02-15 10:22:02,564 ceciestunepipe.util.wavutil INFO     sampling rate 40000\n",
      "2022-02-15 10:22:02,564 ceciestunepipe.util.wavutil INFO     saving (2, 575233689)-shaped array as wav in /mnt/sphere/speech_bci/derived_data/s_b1238_22/2022-01-19/sglx/0711_g0/wav_stim.wav\n",
      "2022-02-15 10:22:10,778 ceciestunepipe.util.wavutil INFO     saving (2, 575233689)-shaped array as npy in /mnt/sphere/speech_bci/derived_data/s_b1238_22/2022-01-19/sglx/0711_g0/wav_stim.npy\n",
      "2022-02-15 10:22:32,886 ceciestunepipe.util.spikeextractors.preprocess INFO     Getting sync channel(s) from nidaq streams: ['sync']\n",
      "2022-02-15 10:22:32,888 ceciestunepipe.util.spikeextractors.extractors.spikeglxrecordingextractor.spikeglxrecordingextractor INFO     getting ttl traces, chan range(0, 7)\n",
      "2022-02-15 10:23:48,451 ceciestunepipe.util.wavutil INFO     sampling rate 40000\n",
      "2022-02-15 10:23:48,453 ceciestunepipe.util.wavutil INFO     saving (1, 575233689)-shaped array as wav in /mnt/sphere/speech_bci/derived_data/s_b1238_22/2022-01-19/sglx/0711_g0/wav_sync.wav\n",
      "2022-02-15 10:23:50,202 ceciestunepipe.util.wavutil INFO     saving (1, 575233689)-shaped array as npy in /mnt/sphere/speech_bci/derived_data/s_b1238_22/2022-01-19/sglx/0711_g0/wav_sync.npy\n",
      "2022-02-15 10:23:51,950 ceciestunepipe.util.spikeextractors.preprocess INFO     Getting sync events from the wav sync channel\n",
      "2022-02-15 10:24:02,527 ceciestunepipe.util.spikeextractors.preprocess INFO     saving sync events of the wav channel to /mnt/sphere/speech_bci/derived_data/s_b1238_22/2022-01-19/sglx/0711_g0/wav_sync_evt.npy\n",
      "2022-02-15 10:24:02,675 ceciestunepipe.util.spikeextractors.preprocess INFO     saving t0 for wav channel to /mnt/sphere/speech_bci/derived_data/s_b1238_22/2022-01-19/sglx/0711_g0/wav_t0.npy\n",
      "2022-02-15 10:24:29,077 ceciestunepipe.util.spikeextractors.preprocess INFO     Will get 1 ttl signals\n",
      "2022-02-15 10:24:29,079 ceciestunepipe.util.spikeextractors.preprocess INFO     looking for signal wav_ttl in the nidaq channels\n",
      "2022-02-15 10:24:29,080 ceciestunepipe.util.spikeextractors.preprocess INFO     found in chan 2\n",
      "2022-02-15 10:24:29,080 ceciestunepipe.util.spikeextractors.extractors.spikeglxrecordingextractor.spikeglxrecordingextractor INFO     getting ttl events, chan 2\n",
      "2022-02-15 10:24:46,866 ceciestunepipe.util.spikeextractors.preprocess INFO     saving (0, 2)-shaped array as npy in /mnt/sphere/speech_bci/derived_data/s_b1238_22/2022-01-19/sglx/0711_g0/wav_ttl_evt.npy\n",
      "2022-02-15 10:24:46,881 ceciestunepipe.util.spikeextractors.preprocess INFO     saving sync nidaq dict to /mnt/sphere/speech_bci/derived_data/s_b1238_22/2022-01-19/sglx/0711_g0/wav_sync_dict.pkl\n",
      "2022-02-15 10:24:46,882 ceciestunepipe.util.spikeextractors.preprocess INFO     Getting sync signals for imec streams: ['lf_0', 'ap_0']\n",
      "2022-02-15 10:24:46,883 ceciestunepipe.util.spikeextractors.preprocess INFO     getting syn patterns for lf_0\n",
      "2022-02-15 10:24:46,904 ceciestunepipe.util.spikeextractors.preprocess INFO     File /mnt/sphere/speech_bci/derived_data/s_b1238_22/2022-01-19/sglx/0711_g0/lf_0_sync_dict.pkl not found or forced computation, getting the events\n",
      "2022-02-15 10:24:46,905 ceciestunepipe.util.spikeextractors.extractors.spikeglxrecordingextractor.spikeglxrecordingextractor INFO     getting ttl events, chan 0\n",
      "2022-02-15 10:24:46,906 ceciestunepipe.util.spikeextractors.extractors.readSGLX INFO     Extracting digital on imec stream: there is only one channel, if any (SYN) and will be converted from an int16 channel \n",
      "2022-02-15 10:24:46,906 ceciestunepipe.util.spikeextractors.extractors.readSGLX INFO     allocated array for syn channel of size (35952790,)\n",
      "2022-02-15 10:27:12,651 ceciestunepipe.util.spikeextractors.extractors.readSGLX INFO     Threshold for logical hi is 0\n",
      "2022-02-15 10:27:17,850 ceciestunepipe.util.spikeextractors.preprocess INFO     saving events array to /mnt/sphere/speech_bci/derived_data/s_b1238_22/2022-01-19/sglx/0711_g0/lf_0_sync_evt.npy\n",
      "2022-02-15 10:27:18,118 ceciestunepipe.util.spikeextractors.preprocess INFO     saving t_0 array to /mnt/sphere/speech_bci/derived_data/s_b1238_22/2022-01-19/sglx/0711_g0/lf_0_t0.npy\n",
      "2022-02-15 10:27:18,615 ceciestunepipe.util.spikeextractors.preprocess INFO     saving sync dict to /mnt/sphere/speech_bci/derived_data/s_b1238_22/2022-01-19/sglx/0711_g0/lf_0_sync_dict.pkl\n",
      "2022-02-15 10:27:18,618 ceciestunepipe.util.spikeextractors.preprocess INFO     getting syn patterns for ap_0\n",
      "2022-02-15 10:27:18,619 ceciestunepipe.util.spikeextractors.preprocess INFO     File /mnt/sphere/speech_bci/derived_data/s_b1238_22/2022-01-19/sglx/0711_g0/ap_0_sync_dict.pkl not found or forced computation, getting the events\n",
      "2022-02-15 10:27:18,620 ceciestunepipe.util.spikeextractors.extractors.spikeglxrecordingextractor.spikeglxrecordingextractor INFO     getting ttl events, chan 0\n",
      "2022-02-15 10:27:18,620 ceciestunepipe.util.spikeextractors.extractors.readSGLX INFO     Extracting digital on imec stream: there is only one channel, if any (SYN) and will be converted from an int16 channel \n",
      "2022-02-15 10:27:18,621 ceciestunepipe.util.spikeextractors.extractors.readSGLX INFO     allocated array for syn channel of size (431433475,)\n",
      "2022-02-15 10:54:43,244 ceciestunepipe.util.spikeextractors.extractors.readSGLX INFO     Threshold for logical hi is 0\n",
      "/mnt/cube/earneodo/repos/ceciestunepipe/ceciestunepipe/util/spikeextractors/extractors/spikeglxrecordingextractor/readSGLX.py:310: UserWarning: There were 10 errors in the recording\n",
      "  warnings.warn('There were {} errors in the recording'.format(n_errors))\n",
      "/mnt/cube/earneodo/repos/ceciestunepipe/ceciestunepipe/util/spikeextractors/extractors/spikeglxrecordingextractor/readSGLX.py:311: UserWarning: You probably want to check those\n",
      "  warnings.warn('You probably want to check those')\n",
      "2022-02-15 10:55:12,356 ceciestunepipe.util.spikeextractors.preprocess INFO     saving events array to /mnt/sphere/speech_bci/derived_data/s_b1238_22/2022-01-19/sglx/0711_g0/ap_0_sync_evt.npy\n",
      "2022-02-15 10:55:12,483 ceciestunepipe.util.spikeextractors.preprocess INFO     saving t_0 array to /mnt/sphere/speech_bci/derived_data/s_b1238_22/2022-01-19/sglx/0711_g0/ap_0_t0.npy\n",
      "2022-02-15 10:55:17,147 ceciestunepipe.util.spikeextractors.preprocess INFO     saving sync dict to /mnt/sphere/speech_bci/derived_data/s_b1238_22/2022-01-19/sglx/0711_g0/ap_0_sync_dict.pkl\n",
      "2022-02-15 10:55:17,160 ceciestunepipe.util.spikeextractors.preprocess INFO     PREPROCESSING sess 2022-01-19 | epoch 1113_g0\n",
      "2022-02-15 10:55:17,161 ceciestunepipe.util.spikeextractors.preprocess INFO     getting extractors\n",
      "2022-02-15 10:55:17,274 ceciestunepipe.util.spikeextractors.preprocess INFO     Got sglx recordings for keys ['nidq', 'lf_0', 'ap_0']\n",
      "2022-02-15 10:55:17,275 ceciestunepipe.util.spikeextractors.preprocess INFO     Getting microphone channel(s) ['microphone_0', 'microphone_1']\n",
      "2022-02-15 10:55:56,110 ceciestunepipe.util.wavutil INFO     sampling rate 40000\n",
      "2022-02-15 10:55:56,112 ceciestunepipe.util.wavutil INFO     saving (2, 650698701)-shaped array as wav in /mnt/sphere/speech_bci/derived_data/s_b1238_22/2022-01-19/sglx/1113_g0/wav_mic.wav\n",
      "2022-02-15 10:56:03,959 ceciestunepipe.util.wavutil INFO     saving (2, 650698701)-shaped array as npy in /mnt/sphere/speech_bci/derived_data/s_b1238_22/2022-01-19/sglx/1113_g0/wav_mic.npy\n",
      "2022-02-15 10:56:07,632 ceciestunepipe.util.spikeextractors.preprocess INFO     Getting stimulus channel(s) ['wav_stim', 'wav_syn']\n",
      "2022-02-15 10:56:07,634 ceciestunepipe.util.wavutil INFO     sampling rate 40000\n",
      "2022-02-15 10:56:07,635 ceciestunepipe.util.wavutil INFO     saving (2, 650698701)-shaped array as wav in /mnt/sphere/speech_bci/derived_data/s_b1238_22/2022-01-19/sglx/1113_g0/wav_stim.wav\n",
      "2022-02-15 10:56:34,446 ceciestunepipe.util.wavutil INFO     saving (2, 650698701)-shaped array as npy in /mnt/sphere/speech_bci/derived_data/s_b1238_22/2022-01-19/sglx/1113_g0/wav_stim.npy\n",
      "2022-02-15 10:57:00,062 ceciestunepipe.util.spikeextractors.preprocess INFO     Getting sync channel(s) from nidaq streams: ['sync']\n",
      "2022-02-15 10:57:00,064 ceciestunepipe.util.spikeextractors.extractors.spikeglxrecordingextractor.spikeglxrecordingextractor INFO     getting ttl traces, chan range(0, 7)\n",
      "2022-02-15 10:57:43,245 ceciestunepipe.util.wavutil INFO     sampling rate 40000\n",
      "2022-02-15 10:57:43,247 ceciestunepipe.util.wavutil INFO     saving (1, 650698701)-shaped array as wav in /mnt/sphere/speech_bci/derived_data/s_b1238_22/2022-01-19/sglx/1113_g0/wav_sync.wav\n",
      "2022-02-15 10:57:45,197 ceciestunepipe.util.wavutil INFO     saving (1, 650698701)-shaped array as npy in /mnt/sphere/speech_bci/derived_data/s_b1238_22/2022-01-19/sglx/1113_g0/wav_sync.npy\n",
      "2022-02-15 10:57:47,089 ceciestunepipe.util.spikeextractors.preprocess INFO     Getting sync events from the wav sync channel\n",
      "2022-02-15 10:57:58,100 ceciestunepipe.util.spikeextractors.preprocess INFO     saving sync events of the wav channel to /mnt/sphere/speech_bci/derived_data/s_b1238_22/2022-01-19/sglx/1113_g0/wav_sync_evt.npy\n",
      "2022-02-15 10:57:58,157 ceciestunepipe.util.spikeextractors.preprocess INFO     saving t0 for wav channel to /mnt/sphere/speech_bci/derived_data/s_b1238_22/2022-01-19/sglx/1113_g0/wav_t0.npy\n",
      "2022-02-15 10:58:35,524 ceciestunepipe.util.spikeextractors.preprocess INFO     Will get 1 ttl signals\n",
      "2022-02-15 10:58:35,526 ceciestunepipe.util.spikeextractors.preprocess INFO     looking for signal wav_ttl in the nidaq channels\n",
      "2022-02-15 10:58:35,527 ceciestunepipe.util.spikeextractors.preprocess INFO     found in chan 2\n",
      "2022-02-15 10:58:35,527 ceciestunepipe.util.spikeextractors.extractors.spikeglxrecordingextractor.spikeglxrecordingextractor INFO     getting ttl events, chan 2\n",
      "2022-02-15 10:59:02,262 ceciestunepipe.util.spikeextractors.preprocess INFO     saving (0, 2)-shaped array as npy in /mnt/sphere/speech_bci/derived_data/s_b1238_22/2022-01-19/sglx/1113_g0/wav_ttl_evt.npy\n",
      "2022-02-15 10:59:02,290 ceciestunepipe.util.spikeextractors.preprocess INFO     saving sync nidaq dict to /mnt/sphere/speech_bci/derived_data/s_b1238_22/2022-01-19/sglx/1113_g0/wav_sync_dict.pkl\n",
      "2022-02-15 10:59:02,292 ceciestunepipe.util.spikeextractors.preprocess INFO     Getting sync signals for imec streams: ['lf_0', 'ap_0']\n",
      "2022-02-15 10:59:02,293 ceciestunepipe.util.spikeextractors.preprocess INFO     getting syn patterns for lf_0\n",
      "2022-02-15 10:59:02,316 ceciestunepipe.util.spikeextractors.preprocess INFO     File /mnt/sphere/speech_bci/derived_data/s_b1238_22/2022-01-19/sglx/1113_g0/lf_0_sync_dict.pkl not found or forced computation, getting the events\n",
      "2022-02-15 10:59:02,317 ceciestunepipe.util.spikeextractors.extractors.spikeglxrecordingextractor.spikeglxrecordingextractor INFO     getting ttl events, chan 0\n",
      "2022-02-15 10:59:02,318 ceciestunepipe.util.spikeextractors.extractors.readSGLX INFO     Extracting digital on imec stream: there is only one channel, if any (SYN) and will be converted from an int16 channel \n",
      "2022-02-15 10:59:02,319 ceciestunepipe.util.spikeextractors.extractors.readSGLX INFO     allocated array for syn channel of size (40669453,)\n",
      "2022-02-15 11:01:47,600 ceciestunepipe.util.spikeextractors.extractors.readSGLX INFO     Threshold for logical hi is 0\n",
      "/mnt/cube/earneodo/repos/ceciestunepipe/ceciestunepipe/util/spikeextractors/extractors/spikeglxrecordingextractor/readSGLX.py:310: UserWarning: There were 1 errors in the recording\n",
      "  warnings.warn('There were {} errors in the recording'.format(n_errors))\n",
      "/mnt/cube/earneodo/repos/ceciestunepipe/ceciestunepipe/util/spikeextractors/extractors/spikeglxrecordingextractor/readSGLX.py:311: UserWarning: You probably want to check those\n",
      "  warnings.warn('You probably want to check those')\n",
      "2022-02-15 11:01:57,309 ceciestunepipe.util.spikeextractors.preprocess INFO     saving events array to /mnt/sphere/speech_bci/derived_data/s_b1238_22/2022-01-19/sglx/1113_g0/lf_0_sync_evt.npy\n",
      "2022-02-15 11:01:57,317 ceciestunepipe.util.spikeextractors.preprocess INFO     saving t_0 array to /mnt/sphere/speech_bci/derived_data/s_b1238_22/2022-01-19/sglx/1113_g0/lf_0_t0.npy\n",
      "2022-02-15 11:01:57,821 ceciestunepipe.util.spikeextractors.preprocess INFO     saving sync dict to /mnt/sphere/speech_bci/derived_data/s_b1238_22/2022-01-19/sglx/1113_g0/lf_0_sync_dict.pkl\n",
      "2022-02-15 11:01:57,823 ceciestunepipe.util.spikeextractors.preprocess INFO     getting syn patterns for ap_0\n",
      "2022-02-15 11:01:57,824 ceciestunepipe.util.spikeextractors.preprocess INFO     File /mnt/sphere/speech_bci/derived_data/s_b1238_22/2022-01-19/sglx/1113_g0/ap_0_sync_dict.pkl not found or forced computation, getting the events\n",
      "2022-02-15 11:01:57,824 ceciestunepipe.util.spikeextractors.extractors.spikeglxrecordingextractor.spikeglxrecordingextractor INFO     getting ttl events, chan 0\n",
      "2022-02-15 11:01:57,825 ceciestunepipe.util.spikeextractors.extractors.readSGLX INFO     Extracting digital on imec stream: there is only one channel, if any (SYN) and will be converted from an int16 channel \n",
      "2022-02-15 11:01:57,826 ceciestunepipe.util.spikeextractors.extractors.readSGLX INFO     allocated array for syn channel of size (488033436,)\n"
     ]
    }
   ],
   "source": [
    "all_sess_dict = {}\n",
    "\n",
    "for one_sess in sess_list[:]:\n",
    "    sess_par['sess'] = one_sess\n",
    "    preprocess_session(sess_par)"
   ]
  },
  {
   "cell_type": "code",
   "execution_count": 17,
   "metadata": {},
   "outputs": [
    {
     "data": {
      "text/plain": [
       "{'bird': 's_b1238_22',\n",
       " 'sess': '2022-01-27',\n",
       " 'probes': ['probe_0'],\n",
       " 'mic_list': ['microphone_0', 'microphone_1'],\n",
       " 'stim_list': ['wav_stim', 'wav_syn'],\n",
       " 'nidq_ttl_list': ['wav_ttl'],\n",
       " 'sort': 2}"
      ]
     },
     "execution_count": 17,
     "metadata": {},
     "output_type": "execute_result"
    }
   ],
   "source": [
    "sess_par"
   ]
  },
  {
   "cell_type": "code",
   "execution_count": 18,
   "metadata": {},
   "outputs": [],
   "source": [
    "# Search bouts"
   ]
  },
  {
   "cell_type": "markdown",
   "metadata": {},
   "source": [
    "## search bouts for those sessions"
   ]
  },
  {
   "cell_type": "code",
   "execution_count": 19,
   "metadata": {},
   "outputs": [],
   "source": [
    "from ceciestunepipe.util.sound import boutsearch as bs\n",
    "from ceciestunepipe.util import wavutil as wu\n",
    "\n",
    "from joblib import Parallel, delayed\n",
    "import pickle\n",
    "import sys"
   ]
  },
  {
   "cell_type": "code",
   "execution_count": 20,
   "metadata": {},
   "outputs": [],
   "source": [
    "def sess_file_id(f_path):\n",
    "    n = int(os.path.split(f_path)[1].split('-')[-1].split('.wav')[0])\n",
    "    return n\n",
    "\n",
    "\n",
    "def get_all_day_bouts(sess_par: dict, hparams:dict, n_jobs: int=12, ephys_software='sglx', \n",
    "                     parallel=True) -> pd.DataFrame:\n",
    "    \n",
    "    logger.info('Will search for bouts through all session {}, {}'.format(sess_par['bird'], sess_par['sess']))\n",
    "    exp_struct = et.get_exp_struct(sess_par['bird'], sess_par['sess'], ephys_software=ephys_software)\n",
    "\n",
    "    # get all the paths to the wav files of the epochs of the day   \n",
    "    source_folder = exp_struct['folders']['derived']\n",
    "    wav_path_list = et.get_sgl_files_epochs(source_folder, file_filter='*wav_mic.wav')\n",
    "    wav_path_list.sort()\n",
    "    logger.info('Found {} files'.format(len(wav_path_list)))\n",
    "    print(wav_path_list)\n",
    "    \n",
    "    get_file_bouts = lambda path: bs.get_epoch_bouts(path, hparams)\n",
    "    # Go parallel through all the paths in the day, get a list of all the pandas dataframes for each file\n",
    "    if parallel:\n",
    "        sess_pd_list = Parallel(n_jobs=n_jobs, verbose=100, prefer='threads')(delayed(get_file_bouts)(i) for i in wav_path_list)\n",
    "    else:\n",
    "        sess_pd_list = [get_file_bouts(i) for i in wav_path_list]\n",
    "    \n",
    "    #concatenate the file and return it, eventually write to a pickle\n",
    "    sess_bout_pd = pd.concat(sess_pd_list)\n",
    "    return sess_bout_pd\n",
    "\n",
    "def save_auto_bouts(sess_bout_pd, sess_par, hparams):\n",
    "    exp_struct = et.get_exp_struct(sess_par['bird'], sess_par['sess'], ephys_software='bouts_sglx')\n",
    "    #sess_bouts_dir = os.path.join(exp_struct['folders']['derived'], 'bouts_ceciestunepipe')\n",
    "    sess_bouts_dir = exp_struct['folders']['derived']\n",
    "\n",
    "    sess_bouts_path = os.path.join(sess_bouts_dir, hparams['bout_auto_file'])\n",
    "    hparams_pickle_path = os.path.join(sess_bouts_dir, 'bout_search_params.pickle')\n",
    "\n",
    "    os.makedirs(sess_bouts_dir, exist_ok=True)\n",
    "    logger.info('saving bouts pandas to ' + sess_bouts_path)\n",
    "    sess_bout_pd.to_pickle(sess_bouts_path)\n",
    "\n",
    "    logger.info('saving bout detect parameters dict to ' + hparams_pickle_path)\n",
    "    with open(hparams_pickle_path, 'wb') as fh:\n",
    "        pickle.dump(hparams, fh)"
   ]
  },
  {
   "cell_type": "code",
   "execution_count": 21,
   "metadata": {},
   "outputs": [],
   "source": [
    "hparams = {\n",
    "    # spectrogram\n",
    "    'num_freq':1024, #1024# how many channels to use in a spectrogram #\n",
    "    'preemphasis':0.97, \n",
    "    'frame_shift_ms':5, # step size for fft\n",
    "    'frame_length_ms':10, #128 # frame length for fft FRAME SAMPLES < NUM_FREQ!!!\n",
    "    'min_level_db':-55, # minimum threshold db for computing spe \n",
    "    'ref_level_db':110, # reference db for computing spec\n",
    "    #'sample_rate':None, # sample rate of your data\n",
    "    \n",
    "    # spectrograms\n",
    "    'mel_filter': False, # should a mel filter be used?\n",
    "    'num_mels':1024, # how many channels to use in the mel-spectrogram\n",
    "    'fmin': 500, # low frequency cutoff for mel filter\n",
    "    'fmax': 12000, # high frequency cutoff for mel filter\n",
    "    \n",
    "    # spectrogram inversion\n",
    "    'max_iters':200,\n",
    "    'griffin_lim_iters':20,\n",
    "    'power':1.5,\n",
    "\n",
    "    # Added for the searching\n",
    "    'read_wav_fun': wu.read_wav_chan, # function for loading the wav_like_stream (has to returns fs, ndarray)\n",
    "    'file_order_fun': sess_file_id, # function for extracting the file id within the session\n",
    "    'min_segment': 30, # Minimum length of supra_threshold to consider a 'syllable' (ms)\n",
    "    'min_silence': 2000, # Minmum distance between groups of syllables to consider separate bouts (ms)\n",
    "    'min_bout': 5000, # min bout duration (ms)\n",
    "    'peak_thresh_rms': 0.55, # threshold (rms) for peak acceptance,\n",
    "    'thresh_rms': 0.25, # threshold for detection of syllables\n",
    "    'mean_syl_rms_thresh': 0.3, #threshold for acceptance of mean rms across the syllable (relative to rms of the file)\n",
    "    'max_bout': 120000, #exclude bouts too long\n",
    "    'l_p_r_thresh': 100, # threshold for n of len_ms/peaks (typycally about 2-3 syllable spans\n",
    "    \n",
    "    'waveform_edges': 1000, #get number of ms before and after the edges of the bout for the waveform sample\n",
    "    \n",
    "    'bout_auto_file': 'bout_auto.pickle', # extension for saving the auto found files\n",
    "    'bout_curated_file': 'bout_checked.pickle', #extension for manually curated files (coming soon)\n",
    "    }"
   ]
  },
  {
   "cell_type": "code",
   "execution_count": 22,
   "metadata": {},
   "outputs": [
    {
     "data": {
      "text/plain": [
       "['2022-01-27']"
      ]
     },
     "execution_count": 22,
     "metadata": {},
     "output_type": "execute_result"
    }
   ],
   "source": [
    "sess_list"
   ]
  },
  {
   "cell_type": "code",
   "execution_count": 23,
   "metadata": {
    "tags": []
   },
   "outputs": [
    {
     "name": "stderr",
     "output_type": "stream",
     "text": [
      "2022-01-28 15:52:12,817 root         INFO     Will search for bouts through all session s_b1238_22, 2022-01-27\n",
      "2022-01-28 15:52:12,907 root         INFO     Found 1 files\n",
      "2022-01-28 15:52:12,908 ceciestunepipe.util.sound.boutsearch INFO     Getting bouts for long file /mnt/sphere/speech_bci/derived_data/s_b1238_22/2022-01-27/sglx/0605_g0/wav_mic.wav\n"
     ]
    },
    {
     "name": "stdout",
     "output_type": "stream",
     "text": [
      "['/mnt/sphere/speech_bci/derived_data/s_b1238_22/2022-01-27/sglx/0605_g0/wav_mic.wav']\n",
      "tu vieja file /mnt/sphere/speech_bci/derived_data/s_b1238_22/2022-01-27/sglx/0605_g0/wav_mic.wav\n"
     ]
    },
    {
     "name": "stderr",
     "output_type": "stream",
     "text": [
      "2022-01-28 15:52:12,912 ceciestunepipe.util.sound.boutsearch INFO     splitting file into 10 chunks\n"
     ]
    },
    {
     "data": {
      "application/vnd.jupyter.widget-view+json": {
       "model_id": "d2c84bb9d534427baf9ecbf21aed13d4",
       "version_major": 2,
       "version_minor": 0
      },
      "text/plain": [
       "  0%|          | 0/10 [00:00<?, ?it/s]"
      ]
     },
     "metadata": {},
     "output_type": "display_data"
    },
    {
     "name": "stderr",
     "output_type": "stream",
     "text": [
      "2022-01-28 15:58:12,195 ceciestunepipe.util.sound.boutsearch INFO     saving bout detect parameters dict to /mnt/sphere/speech_bci/derived_data/s_b1238_22/2022-01-27/sglx/0605_g0/bout_search_params.pickle\n",
      "2022-01-28 15:58:12,204 ceciestunepipe.util.sound.boutsearch INFO     saving bouts pandas to /mnt/sphere/speech_bci/derived_data/s_b1238_22/2022-01-27/sglx/0605_g0/bout_auto.pickle\n",
      "2022-01-28 15:58:14,996 root         INFO     saving bouts pandas to /mnt/sphere/speech_bci/derived_data/s_b1238_22/2022-01-27/bouts_sglx/bout_auto.pickle\n",
      "2022-01-28 15:58:17,800 root         INFO     saving bout detect parameters dict to /mnt/sphere/speech_bci/derived_data/s_b1238_22/2022-01-27/bouts_sglx/bout_search_params.pickle\n"
     ]
    }
   ],
   "source": [
    "all_sessions = sess_list[:]\n",
    "#all_sessions = ['2021-06-15']\n",
    "\n",
    "for sess in all_sessions:\n",
    "    sess_par['sess'] = sess\n",
    "    sess_bout_pd = get_all_day_bouts(sess_par, hparams, parallel=False)\n",
    "    save_auto_bouts(sess_bout_pd, sess_par, hparams)\n",
    "    sess_bouts_folder = os.path.join(exp_struct['folders']['derived'], 'bouts')\n",
    "    #bouts_to_wavs(sess_bout_pd, sess_par, hparams, sess_bouts_folder)"
   ]
  },
  {
   "cell_type": "code",
   "execution_count": 25,
   "metadata": {},
   "outputs": [
    {
     "name": "stdout",
     "output_type": "stream",
     "text": [
      "<class 'pandas.core.frame.DataFrame'>\n",
      "Int64Index: 349 entries, 0 to 75\n",
      "Data columns (total 17 columns):\n",
      " #   Column        Non-Null Count  Dtype  \n",
      "---  ------        --------------  -----  \n",
      " 0   start_ms      349 non-null    int64  \n",
      " 1   end_ms        349 non-null    int64  \n",
      " 2   start_sample  349 non-null    int64  \n",
      " 3   end_sample    349 non-null    int64  \n",
      " 4   p_step        349 non-null    object \n",
      " 5   rms_p         349 non-null    float64\n",
      " 6   peak_p        349 non-null    float64\n",
      " 7   bout_check    349 non-null    bool   \n",
      " 8   file          349 non-null    object \n",
      " 9   len_ms        349 non-null    int64  \n",
      " 10  syl_in        349 non-null    object \n",
      " 11  n_syl         349 non-null    int64  \n",
      " 12  peaks_p       349 non-null    object \n",
      " 13  n_peaks       349 non-null    int64  \n",
      " 14  l_p_ratio     349 non-null    float64\n",
      " 15  waveform      349 non-null    object \n",
      " 16  confusing     349 non-null    bool   \n",
      "dtypes: bool(2), float64(3), int64(7), object(5)\n",
      "memory usage: 44.3+ KB\n"
     ]
    }
   ],
   "source": [
    "sess_bout_pd.info()"
   ]
  },
  {
   "cell_type": "code",
   "execution_count": 24,
   "metadata": {},
   "outputs": [
    {
     "data": {
      "text/plain": [
       "103"
      ]
     },
     "execution_count": 24,
     "metadata": {},
     "output_type": "execute_result"
    }
   ],
   "source": [
    "np.unique(sess_bout_pd['start_ms']).size"
   ]
  },
  {
   "cell_type": "markdown",
   "metadata": {},
   "source": [
    "# debug"
   ]
  },
  {
   "cell_type": "markdown",
   "metadata": {},
   "source": [
    "## debug search_bout"
   ]
  },
  {
   "cell_type": "code",
   "execution_count": 21,
   "metadata": {},
   "outputs": [
    {
     "name": "stderr",
     "output_type": "stream",
     "text": [
      "2021-09-22 15:13:39,371 root         INFO     Found 4 files\n"
     ]
    },
    {
     "name": "stdout",
     "output_type": "stream",
     "text": [
      "['/mnt/sphere/speech_bci/derived_data/s_b1253_21/2021-06-14/sglx/0712_g0/wav_mic.wav', '/mnt/sphere/speech_bci/derived_data/s_b1253_21/2021-06-14/sglx/1255_g0/wav_mic.wav', '/mnt/sphere/speech_bci/derived_data/s_b1253_21/2021-06-14/sglx/1740_g0/wav_mic.wav', '/mnt/sphere/speech_bci/derived_data/s_b1253_21/2021-06-14/sglx/2118_g0/wav_mic.wav']\n"
     ]
    }
   ],
   "source": [
    "## look for a single file\n",
    "sess = sess_list[0]\n",
    "\n",
    "exp_struct = et.get_exp_struct(sess_par['bird'], sess, ephys_software='sglx')\n",
    "source_folder = exp_struct['folders']['derived']\n",
    "wav_path_list = et.get_sgl_files_epochs(source_folder, file_filter='*wav_mic.wav')\n",
    "wav_path_list.sort()\n",
    "logger.info('Found {} files'.format(len(wav_path_list)))\n",
    "print(wav_path_list)"
   ]
  },
  {
   "cell_type": "code",
   "execution_count": 22,
   "metadata": {},
   "outputs": [],
   "source": [
    "one_file = wav_path_list[0]"
   ]
  },
  {
   "cell_type": "code",
   "execution_count": null,
   "metadata": {},
   "outputs": [
    {
     "name": "stderr",
     "output_type": "stream",
     "text": [
      "2021-09-22 15:13:45,924 ceciestunepipe.util.sound.boutsearch INFO     Getting bouts for long file /mnt/sphere/speech_bci/derived_data/s_b1253_21/2021-06-14/sglx/0712_g0/wav_mic.wav\n"
     ]
    },
    {
     "name": "stdout",
     "output_type": "stream",
     "text": [
      "tu vieja file /mnt/sphere/speech_bci/derived_data/s_b1253_21/2021-06-14/sglx/0712_g0/wav_mic.wav\n"
     ]
    },
    {
     "name": "stderr",
     "output_type": "stream",
     "text": [
      "2021-09-22 15:13:45,962 ceciestunepipe.util.sound.boutsearch INFO     splitting file into 5 chunks\n"
     ]
    },
    {
     "data": {
      "application/vnd.jupyter.widget-view+json": {
       "model_id": "2ee46791b8cc495dae356f151c0a45d0",
       "version_major": 2,
       "version_minor": 0
      },
      "text/plain": [
       "  0%|          | 0/5 [00:00<?, ?it/s]"
      ]
     },
     "metadata": {},
     "output_type": "display_data"
    }
   ],
   "source": [
    "reload(bs)\n",
    "epoch_bout_pd, epoch_wav = bs.get_bouts_in_long_file(wav_path_list[0], hparams)"
   ]
  },
  {
   "cell_type": "code",
   "execution_count": null,
   "metadata": {},
   "outputs": [],
   "source": []
  }
 ],
 "metadata": {
  "kernelspec": {
   "display_name": "tuputapipe",
   "language": "python",
   "name": "ceciestunepipe"
  },
  "language_info": {
   "codemirror_mode": {
    "name": "ipython",
    "version": 3
   },
   "file_extension": ".py",
   "mimetype": "text/x-python",
   "name": "python",
   "nbconvert_exporter": "python",
   "pygments_lexer": "ipython3",
   "version": "3.8.11"
  }
 },
 "nbformat": 4,
 "nbformat_minor": 4
}
