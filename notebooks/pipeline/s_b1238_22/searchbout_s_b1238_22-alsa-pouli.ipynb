{
 "cells": [
  {
   "cell_type": "markdown",
   "id": "senior-washer",
   "metadata": {},
   "source": [
    "## Searching for bouts for a day of alsa recording"
   ]
  },
  {
   "cell_type": "code",
   "execution_count": 1,
   "id": "affected-moldova",
   "metadata": {},
   "outputs": [
    {
     "name": "stderr",
     "output_type": "stream",
     "text": [
      "2022-01-27 15:16:31,871 root         INFO     Running on pouli\n"
     ]
    }
   ],
   "source": [
    "%matplotlib inline\n",
    "import os\n",
    "import glob\n",
    "import socket\n",
    "import logging\n",
    "import numpy as np\n",
    "import pandas as pd\n",
    "from scipy.io import wavfile\n",
    "from scipy import signal\n",
    "\n",
    "from matplotlib import pyplot as plt\n",
    "\n",
    "from importlib import reload\n",
    "\n",
    "logger = logging.getLogger()\n",
    "handler = logging.StreamHandler()\n",
    "formatter = logging.Formatter(\n",
    "        '%(asctime)s %(name)-12s %(levelname)-8s %(message)s')\n",
    "handler.setFormatter(formatter)\n",
    "logger.addHandler(handler)\n",
    "logger.setLevel(logging.INFO)\n",
    "\n",
    "logger.info('Running on {}'.format(socket.gethostname()))"
   ]
  },
  {
   "cell_type": "code",
   "execution_count": 2,
   "id": "public-founder",
   "metadata": {},
   "outputs": [],
   "source": [
    "from ceciestunepipe.file import bcistructure as et"
   ]
  },
  {
   "cell_type": "markdown",
   "id": "bronze-transparency",
   "metadata": {},
   "source": [
    "### Get the file locations for a session (day) of recordings"
   ]
  },
  {
   "cell_type": "code",
   "execution_count": 20,
   "id": "acceptable-oregon",
   "metadata": {},
   "outputs": [],
   "source": [
    "reload(et)\n",
    "sess_par = {'bird': 's_b1238_22',\n",
    "           'sess': '2022-01-27'}\n",
    "\n",
    "\n",
    "exp_struct = et.get_exp_struct(sess_par['bird'], sess_par['sess'], ephys_software='alsa')\n",
    "\n",
    "raw_folder = exp_struct['folders']['alsa']"
   ]
  },
  {
   "cell_type": "code",
   "execution_count": 21,
   "id": "important-tuning",
   "metadata": {},
   "outputs": [
    {
     "data": {
      "text/plain": [
       "{'bird': '/mnt/sphere/speech_bci/raw_data/s_b1238_22',\n",
       " 'raw': '/mnt/sphere/speech_bci/raw_data/s_b1238_22/2022-01-27',\n",
       " 'alsa': '/mnt/sphere/speech_bci/raw_data/s_b1238_22/2022-01-27/alsa',\n",
       " 'kwik': '/experiment/s_b1238_22/alsa/kwik/2022-01-27',\n",
       " 'processed': '/mnt/sphere/speech_bci/processed_data/s_b1238_22/2022-01-27/alsa',\n",
       " 'derived': '/mnt/sphere/speech_bci/derived_data/s_b1238_22/2022-01-27/alsa',\n",
       " 'tmp': '/experiment/tmp/tmp',\n",
       " 'msort': '/experiment/tmp/s_b1238_22/alsa/msort/2022-01-27',\n",
       " 'ksort': '/experiment/tmp/s_b1238_22/alsa/ksort/2022-01-27/',\n",
       " 'sort': '/mnt/sphere/speech_bci/derived_data/s_b1238_22/2022-01-27/alsa/'}"
      ]
     },
     "execution_count": 21,
     "metadata": {},
     "output_type": "execute_result"
    }
   ],
   "source": [
    "exp_struct['folders']"
   ]
  },
  {
   "cell_type": "markdown",
   "id": "portuguese-essay",
   "metadata": {},
   "source": [
    "#### search parameters\n",
    "Spectrograms are computed using librosa\n",
    "\n",
    "Additional parameters are for bout search criteria and functions to read the data"
   ]
  },
  {
   "cell_type": "code",
   "execution_count": 22,
   "id": "activated-jamaica",
   "metadata": {},
   "outputs": [],
   "source": [
    "# function for getting one channel out of a wave file\n",
    "def read_wav_chan(wav_path: str, chan_id: int=0) -> tuple:\n",
    "    s_f, x = wavfile.read(wav_path, mmap=True)\n",
    "    return s_f, x[:, chan_id]\n",
    "\n",
    "def sess_file_id(f_path):\n",
    "    n = int(os.path.split(f_path)[1].split('-')[-1].split('.wav')[0])\n",
    "    return n\n",
    "\n",
    "hparams = {\n",
    "    # spectrogram\n",
    "    'num_freq':1024, #1024# how many channels to use in a spectrogram #\n",
    "    'preemphasis':0.97, \n",
    "    'frame_shift_ms':5, # step size for fft\n",
    "    'frame_length_ms':10, #128 # frame length for fft FRAME SAMPLES < NUM_FREQ!!!\n",
    "    'min_level_db':-55, # minimum threshold db for computing spe \n",
    "    'ref_level_db':110, # reference db for computing spec\n",
    "    'sample_rate':None, # sample rate of your data\n",
    "    \n",
    "    # spectrograms\n",
    "    'mel_filter': False, # should a mel filter be used?\n",
    "    'num_mels':1024, # how many channels to use in the mel-spectrogram\n",
    "    'fmin': 500, # low frequency cutoff for mel filter\n",
    "    'fmax': 12000, # high frequency cutoff for mel filter\n",
    "    \n",
    "    # spectrogram inversion\n",
    "    'max_iters':200,\n",
    "    'griffin_lim_iters':20,\n",
    "    'power':1.5,\n",
    "\n",
    "    # Added for the searching\n",
    "    'read_wav_fun': read_wav_chan, # function for loading the wav_like_stream (has to returns fs, ndarray)\n",
    "    'file_order_fun': sess_file_id, # function for extracting the file id within the session\n",
    "    'min_segment': 30, # Minimum length of supra_threshold to consider a 'syllable' (ms)\n",
    "    'min_silence': 2000, # Minmum distance between groups of syllables to consider separate bouts (ms)\n",
    "    'min_bout': 5000, # min bout duration (ms)\n",
    "    'peak_thresh_rms': 0.55, # threshold (rms) for peak acceptance,\n",
    "    'thresh_rms': 0.25, # threshold for detection of syllables\n",
    "    'mean_syl_rms_thresh': 0.3, #threshold for acceptance of mean rms across the syllable (relative to rms of the file)\n",
    "    'max_bout': 120000, #exclude bouts too long\n",
    "    'l_p_r_thresh': 100, # threshold for n of len_ms/peaks (typycally about 2-3 syllable spans\n",
    "    \n",
    "    'waveform_edges': 1000, #get number of ms before and after the edges of the bout for the waveform sample\n",
    "    \n",
    "    'bout_auto_file': 'bout_auto.pickle', # extension for saving the auto found files\n",
    "    'bout_curated_file': 'bout_checked.pickle', #extension for manually curated files (coming soon)\n",
    "    }"
   ]
  },
  {
   "cell_type": "markdown",
   "id": "starting-discretion",
   "metadata": {},
   "source": [
    "#### Get one wave file"
   ]
  },
  {
   "cell_type": "code",
   "execution_count": 23,
   "id": "cellular-glenn",
   "metadata": {},
   "outputs": [],
   "source": [
    "one_wav_path = os.path.join(exp_struct['folders']['alsa'], '07-00-01-01.wav')\n",
    "\n",
    "s_f, x = read_wav_chan(one_wav_path)\n",
    "\n",
    "hparams['sample_rate'] = s_f"
   ]
  },
  {
   "cell_type": "code",
   "execution_count": 24,
   "id": "descending-translator",
   "metadata": {},
   "outputs": [
    {
     "data": {
      "text/plain": [
       "(86400000,)"
      ]
     },
     "execution_count": 24,
     "metadata": {},
     "output_type": "execute_result"
    }
   ],
   "source": [
    "x.shape"
   ]
  },
  {
   "cell_type": "code",
   "execution_count": 25,
   "id": "motivated-shanghai",
   "metadata": {},
   "outputs": [
    {
     "data": {
      "text/plain": [
       "[<matplotlib.lines.Line2D at 0x7f779e65bbb0>]"
      ]
     },
     "execution_count": 25,
     "metadata": {},
     "output_type": "execute_result"
    },
    {
     "data": {
      "image/png": "[encoded data removed]",
      "text/plain": [
       "<Figure size 432x288 with 1 Axes>"
      ]
     },
     "metadata": {
      "needs_background": "light"
     },
     "output_type": "display_data"
    }
   ],
   "source": [
    "plt.plot(x[:50000])"
   ]
  },
  {
   "cell_type": "markdown",
   "id": "meaning-principal",
   "metadata": {},
   "source": [
    "### try the function to search for bouts in the file"
   ]
  },
  {
   "cell_type": "code",
   "execution_count": 26,
   "id": "excited-pressure",
   "metadata": {},
   "outputs": [],
   "source": [
    "from ceciestunepipe.util.sound import boutsearch as bs"
   ]
  },
  {
   "cell_type": "code",
   "execution_count": 27,
   "id": "alpine-fitting",
   "metadata": {},
   "outputs": [
    {
     "name": "stderr",
     "output_type": "stream",
     "text": [
      "2022-01-27 19:34:39,014 ceciestunepipe.util.sound.boutsearch INFO     Getting bouts for file /mnt/sphere/speech_bci/raw_data/s_b1238_22/2022-01-27/alsa/07-00-01-01.wav\n"
     ]
    },
    {
     "name": "stdout",
     "output_type": "stream",
     "text": [
      "tu vieja file /mnt/sphere/speech_bci/raw_data/s_b1238_22/2022-01-27/alsa/07-00-01-01.wav\n"
     ]
    }
   ],
   "source": [
    "bpd, x, p = bs.get_bouts_in_file(one_wav_path, hparams)"
   ]
  },
  {
   "cell_type": "code",
   "execution_count": 28,
   "id": "potential-sphere",
   "metadata": {
    "tags": []
   },
   "outputs": [
    {
     "data": {
      "text/html": [
       "<div>\n",
       "<style scoped>\n",
       "    .dataframe tbody tr th:only-of-type {\n",
       "        vertical-align: middle;\n",
       "    }\n",
       "\n",
       "    .dataframe tbody tr th {\n",
       "        vertical-align: top;\n",
       "    }\n",
       "\n",
       "    .dataframe thead th {\n",
       "        text-align: right;\n",
       "    }\n",
       "</style>\n",
       "<table border=\"1\" class=\"dataframe\">\n",
       "  <thead>\n",
       "    <tr style=\"text-align: right;\">\n",
       "      <th></th>\n",
       "      <th>start_ms</th>\n",
       "      <th>end_ms</th>\n",
       "      <th>start_sample</th>\n",
       "      <th>end_sample</th>\n",
       "      <th>p_step</th>\n",
       "      <th>rms_p</th>\n",
       "      <th>peak_p</th>\n",
       "      <th>bout_check</th>\n",
       "      <th>file</th>\n",
       "      <th>len_ms</th>\n",
       "      <th>syl_in</th>\n",
       "      <th>n_syl</th>\n",
       "      <th>peaks_p</th>\n",
       "      <th>n_peaks</th>\n",
       "      <th>l_p_ratio</th>\n",
       "      <th>waveform</th>\n",
       "    </tr>\n",
       "  </thead>\n",
       "  <tbody>\n",
       "    <tr>\n",
       "      <th>0</th>\n",
       "      <td>1915</td>\n",
       "      <td>42970</td>\n",
       "      <td>91920</td>\n",
       "      <td>2062560</td>\n",
       "      <td>[6.248094832125231, 4.645134390748223, 10.1363...</td>\n",
       "      <td>4.818625</td>\n",
       "      <td>130.168369</td>\n",
       "      <td>True</td>\n",
       "      <td>/mnt/sphere/speech_bci/raw_data/s_b1238_22/202...</td>\n",
       "      <td>41055</td>\n",
       "      <td>[[1915, 1955], [1965, 2505], [4095, 4145], [42...</td>\n",
       "      <td>145</td>\n",
       "      <td>[2, 14, 23, 34, 46, 56, 64, 75, 83, 91, 98, 10...</td>\n",
       "      <td>469</td>\n",
       "      <td>87.537313</td>\n",
       "      <td>[-2, -2, -2, -3, -2, -2, -2, -1, -2, -2, -2, -...</td>\n",
       "    </tr>\n",
       "    <tr>\n",
       "      <th>1</th>\n",
       "      <td>120605</td>\n",
       "      <td>150435</td>\n",
       "      <td>5789040</td>\n",
       "      <td>7220880</td>\n",
       "      <td>[13.192718607075957, 20.420020410463568, 26.30...</td>\n",
       "      <td>4.818625</td>\n",
       "      <td>127.883895</td>\n",
       "      <td>True</td>\n",
       "      <td>/mnt/sphere/speech_bci/raw_data/s_b1238_22/202...</td>\n",
       "      <td>29830</td>\n",
       "      <td>[[120605, 120695], [121120, 121185], [122450, ...</td>\n",
       "      <td>95</td>\n",
       "      <td>[3, 10, 70, 109, 311, 373, 391, 461, 534, 636,...</td>\n",
       "      <td>263</td>\n",
       "      <td>113.422053</td>\n",
       "      <td>[-4, -2, -1, -2, -3, -4, -6, -7, -8, -10, -10,...</td>\n",
       "    </tr>\n",
       "  </tbody>\n",
       "</table>\n",
       "</div>"
      ],
      "text/plain": [
       "   start_ms  end_ms  start_sample  end_sample  \\\n",
       "0      1915   42970         91920     2062560   \n",
       "1    120605  150435       5789040     7220880   \n",
       "\n",
       "                                              p_step     rms_p      peak_p  \\\n",
       "0  [6.248094832125231, 4.645134390748223, 10.1363...  4.818625  130.168369   \n",
       "1  [13.192718607075957, 20.420020410463568, 26.30...  4.818625  127.883895   \n",
       "\n",
       "   bout_check                                               file  len_ms  \\\n",
       "0        True  /mnt/sphere/speech_bci/raw_data/s_b1238_22/202...   41055   \n",
       "1        True  /mnt/sphere/speech_bci/raw_data/s_b1238_22/202...   29830   \n",
       "\n",
       "                                              syl_in  n_syl  \\\n",
       "0  [[1915, 1955], [1965, 2505], [4095, 4145], [42...    145   \n",
       "1  [[120605, 120695], [121120, 121185], [122450, ...     95   \n",
       "\n",
       "                                             peaks_p  n_peaks   l_p_ratio  \\\n",
       "0  [2, 14, 23, 34, 46, 56, 64, 75, 83, 91, 98, 10...      469   87.537313   \n",
       "1  [3, 10, 70, 109, 311, 373, 391, 461, 534, 636,...      263  113.422053   \n",
       "\n",
       "                                            waveform  \n",
       "0  [-2, -2, -2, -3, -2, -2, -2, -1, -2, -2, -2, -...  \n",
       "1  [-4, -2, -1, -2, -3, -4, -6, -7, -8, -10, -10,...  "
      ]
     },
     "execution_count": 28,
     "metadata": {},
     "output_type": "execute_result"
    }
   ],
   "source": [
    "bpd"
   ]
  },
  {
   "cell_type": "code",
   "execution_count": 29,
   "id": "executive-pride",
   "metadata": {
    "tags": []
   },
   "outputs": [
    {
     "data": {
      "text/plain": [
       "[<matplotlib.lines.Line2D at 0x7f779e4f70a0>]"
      ]
     },
     "execution_count": 29,
     "metadata": {},
     "output_type": "execute_result"
    },
    {
     "data": {
      "image/png": "[encoded data removed]",
      "text/plain": [
       "<Figure size 432x288 with 1 Axes>"
      ]
     },
     "metadata": {
      "needs_background": "light"
     },
     "output_type": "display_data"
    }
   ],
   "source": [
    "plt.plot(bpd['waveform'].values[0])"
   ]
  },
  {
   "cell_type": "code",
   "execution_count": 30,
   "id": "challenging-albuquerque",
   "metadata": {},
   "outputs": [
    {
     "data": {
      "text/html": [
       "<div>\n",
       "<style scoped>\n",
       "    .dataframe tbody tr th:only-of-type {\n",
       "        vertical-align: middle;\n",
       "    }\n",
       "\n",
       "    .dataframe tbody tr th {\n",
       "        vertical-align: top;\n",
       "    }\n",
       "\n",
       "    .dataframe thead th {\n",
       "        text-align: right;\n",
       "    }\n",
       "</style>\n",
       "<table border=\"1\" class=\"dataframe\">\n",
       "  <thead>\n",
       "    <tr style=\"text-align: right;\">\n",
       "      <th></th>\n",
       "      <th>start_ms</th>\n",
       "      <th>end_ms</th>\n",
       "      <th>start_sample</th>\n",
       "      <th>end_sample</th>\n",
       "      <th>p_step</th>\n",
       "      <th>rms_p</th>\n",
       "      <th>peak_p</th>\n",
       "      <th>bout_check</th>\n",
       "      <th>file</th>\n",
       "      <th>len_ms</th>\n",
       "      <th>syl_in</th>\n",
       "      <th>n_syl</th>\n",
       "      <th>peaks_p</th>\n",
       "      <th>n_peaks</th>\n",
       "      <th>l_p_ratio</th>\n",
       "      <th>waveform</th>\n",
       "    </tr>\n",
       "  </thead>\n",
       "  <tbody>\n",
       "    <tr>\n",
       "      <th>0</th>\n",
       "      <td>1915</td>\n",
       "      <td>42970</td>\n",
       "      <td>91920</td>\n",
       "      <td>2062560</td>\n",
       "      <td>[6.248094832125231, 4.645134390748223, 10.1363...</td>\n",
       "      <td>4.818625</td>\n",
       "      <td>130.168369</td>\n",
       "      <td>True</td>\n",
       "      <td>/mnt/sphere/speech_bci/raw_data/s_b1238_22/202...</td>\n",
       "      <td>41055</td>\n",
       "      <td>[[1915, 1955], [1965, 2505], [4095, 4145], [42...</td>\n",
       "      <td>145</td>\n",
       "      <td>[2, 14, 23, 34, 46, 56, 64, 75, 83, 91, 98, 10...</td>\n",
       "      <td>469</td>\n",
       "      <td>87.537313</td>\n",
       "      <td>[-2, -2, -2, -3, -2, -2, -2, -1, -2, -2, -2, -...</td>\n",
       "    </tr>\n",
       "    <tr>\n",
       "      <th>1</th>\n",
       "      <td>120605</td>\n",
       "      <td>150435</td>\n",
       "      <td>5789040</td>\n",
       "      <td>7220880</td>\n",
       "      <td>[13.192718607075957, 20.420020410463568, 26.30...</td>\n",
       "      <td>4.818625</td>\n",
       "      <td>127.883895</td>\n",
       "      <td>True</td>\n",
       "      <td>/mnt/sphere/speech_bci/raw_data/s_b1238_22/202...</td>\n",
       "      <td>29830</td>\n",
       "      <td>[[120605, 120695], [121120, 121185], [122450, ...</td>\n",
       "      <td>95</td>\n",
       "      <td>[3, 10, 70, 109, 311, 373, 391, 461, 534, 636,...</td>\n",
       "      <td>263</td>\n",
       "      <td>113.422053</td>\n",
       "      <td>[-4, -2, -1, -2, -3, -4, -6, -7, -8, -10, -10,...</td>\n",
       "    </tr>\n",
       "  </tbody>\n",
       "</table>\n",
       "</div>"
      ],
      "text/plain": [
       "   start_ms  end_ms  start_sample  end_sample  \\\n",
       "0      1915   42970         91920     2062560   \n",
       "1    120605  150435       5789040     7220880   \n",
       "\n",
       "                                              p_step     rms_p      peak_p  \\\n",
       "0  [6.248094832125231, 4.645134390748223, 10.1363...  4.818625  130.168369   \n",
       "1  [13.192718607075957, 20.420020410463568, 26.30...  4.818625  127.883895   \n",
       "\n",
       "   bout_check                                               file  len_ms  \\\n",
       "0        True  /mnt/sphere/speech_bci/raw_data/s_b1238_22/202...   41055   \n",
       "1        True  /mnt/sphere/speech_bci/raw_data/s_b1238_22/202...   29830   \n",
       "\n",
       "                                              syl_in  n_syl  \\\n",
       "0  [[1915, 1955], [1965, 2505], [4095, 4145], [42...    145   \n",
       "1  [[120605, 120695], [121120, 121185], [122450, ...     95   \n",
       "\n",
       "                                             peaks_p  n_peaks   l_p_ratio  \\\n",
       "0  [2, 14, 23, 34, 46, 56, 64, 75, 83, 91, 98, 10...      469   87.537313   \n",
       "1  [3, 10, 70, 109, 311, 373, 391, 461, 534, 636,...      263  113.422053   \n",
       "\n",
       "                                            waveform  \n",
       "0  [-2, -2, -2, -3, -2, -2, -2, -1, -2, -2, -2, -...  \n",
       "1  [-4, -2, -1, -2, -3, -4, -6, -7, -8, -10, -10,...  "
      ]
     },
     "execution_count": 30,
     "metadata": {},
     "output_type": "execute_result"
    }
   ],
   "source": [
    "bpd"
   ]
  },
  {
   "cell_type": "code",
   "execution_count": 31,
   "id": "responsible-wagon",
   "metadata": {},
   "outputs": [
    {
     "data": {
      "text/plain": [
       "{'num_freq': 1024,\n",
       " 'preemphasis': 0.97,\n",
       " 'frame_shift_ms': 5,\n",
       " 'frame_length_ms': 10,\n",
       " 'min_level_db': -55,\n",
       " 'ref_level_db': 110,\n",
       " 'sample_rate': 48000,\n",
       " 'mel_filter': False,\n",
       " 'num_mels': 1024,\n",
       " 'fmin': 500,\n",
       " 'fmax': 12000,\n",
       " 'max_iters': 200,\n",
       " 'griffin_lim_iters': 20,\n",
       " 'power': 1.5,\n",
       " 'read_wav_fun': <function __main__.read_wav_chan(wav_path: str, chan_id: int = 0) -> tuple>,\n",
       " 'file_order_fun': <function __main__.sess_file_id(f_path)>,\n",
       " 'min_segment': 30,\n",
       " 'min_silence': 2000,\n",
       " 'min_bout': 5000,\n",
       " 'peak_thresh_rms': 0.55,\n",
       " 'thresh_rms': 0.25,\n",
       " 'mean_syl_rms_thresh': 0.3,\n",
       " 'max_bout': 120000,\n",
       " 'l_p_r_thresh': 100,\n",
       " 'waveform_edges': 1000,\n",
       " 'bout_auto_file': 'bout_auto.pickle',\n",
       " 'bout_curated_file': 'bout_checked.pickle'}"
      ]
     },
     "execution_count": 31,
     "metadata": {},
     "output_type": "execute_result"
    }
   ],
   "source": [
    "hparams"
   ]
  },
  {
   "cell_type": "markdown",
   "id": "approved-immigration",
   "metadata": {},
   "source": [
    "### get all bouts of the day"
   ]
  },
  {
   "cell_type": "code",
   "execution_count": 32,
   "id": "academic-manchester",
   "metadata": {},
   "outputs": [],
   "source": [
    "from joblib import Parallel, delayed"
   ]
  },
  {
   "cell_type": "code",
   "execution_count": 33,
   "id": "moral-casting",
   "metadata": {},
   "outputs": [
    {
     "data": {
      "text/plain": [
       "<module 'ceciestunepipe.util.sound.boutsearch' from '/home/finch/repos/ceciestunepipe/ceciestunepipe/util/sound/boutsearch.py'>"
      ]
     },
     "execution_count": 33,
     "metadata": {},
     "output_type": "execute_result"
    }
   ],
   "source": [
    "reload(bs)"
   ]
  },
  {
   "cell_type": "code",
   "execution_count": 34,
   "id": "pacific-pharmacy",
   "metadata": {},
   "outputs": [
    {
     "name": "stderr",
     "output_type": "stream",
     "text": [
      "2022-01-27 19:35:25,277 root         INFO     Will search for bouts through all session s_b1238_22, 2022-01-27\n",
      "2022-01-27 19:35:25,342 root         INFO     Found 24 files\n"
     ]
    },
    {
     "name": "stdout",
     "output_type": "stream",
     "text": [
      "[Parallel(n_jobs=4)]: Using backend LokyBackend with 4 concurrent workers.\n",
      "tu vieja file /mnt/sphere/speech_bci/raw_data/s_b1238_22/2022-01-27/alsa/07-00-01-01.wav\n",
      "tu vieja file /mnt/sphere/speech_bci/raw_data/s_b1238_22/2022-01-27/alsa/07-00-01-02.wav\n",
      "tu vieja file /mnt/sphere/speech_bci/raw_data/s_b1238_22/2022-01-27/alsa/08-00-01-01.wav\n",
      "tu vieja file /mnt/sphere/speech_bci/raw_data/s_b1238_22/2022-01-27/alsa/08-00-01-02.wav\n",
      "[Parallel(n_jobs=4)]: Done   1 tasks      | elapsed:   48.4s\n",
      "tu vieja file /mnt/sphere/speech_bci/raw_data/s_b1238_22/2022-01-27/alsa/09-00-01-01.wav\n",
      "[Parallel(n_jobs=4)]: Done   2 tasks      | elapsed:  1.3min\n",
      "tu vieja file /mnt/sphere/speech_bci/raw_data/s_b1238_22/2022-01-27/alsa/09-00-01-02.wav\n",
      "[Parallel(n_jobs=4)]: Done   3 tasks      | elapsed:  1.3min\n",
      "tu vieja file /mnt/sphere/speech_bci/raw_data/s_b1238_22/2022-01-27/alsa/10-00-01-01.wav\n",
      "[Parallel(n_jobs=4)]: Done   4 tasks      | elapsed:  1.4min\n",
      "tu vieja file /mnt/sphere/speech_bci/raw_data/s_b1238_22/2022-01-27/alsa/10-00-01-02.wav\n",
      "[Parallel(n_jobs=4)]: Done   5 tasks      | elapsed:  1.6min\n",
      "tu vieja file /mnt/sphere/speech_bci/raw_data/s_b1238_22/2022-01-27/alsa/11-00-01-01.wav\n",
      "[Parallel(n_jobs=4)]: Done   6 tasks      | elapsed:  2.5min\n",
      "tu vieja file /mnt/sphere/speech_bci/raw_data/s_b1238_22/2022-01-27/alsa/11-00-01-02.wav\n",
      "[Parallel(n_jobs=4)]: Done   7 tasks      | elapsed:  2.6min\n",
      "tu vieja file /mnt/sphere/speech_bci/raw_data/s_b1238_22/2022-01-27/alsa/12-00-01-01.wav\n",
      "[Parallel(n_jobs=4)]: Done   8 tasks      | elapsed:  2.6min\n",
      "tu vieja file /mnt/sphere/speech_bci/raw_data/s_b1238_22/2022-01-27/alsa/12-00-01-02.wav\n",
      "[Parallel(n_jobs=4)]: Done   9 tasks      | elapsed:  2.7min\n",
      "tu vieja file /mnt/sphere/speech_bci/raw_data/s_b1238_22/2022-01-27/alsa/13-00-01-01.wav\n",
      "[Parallel(n_jobs=4)]: Done  10 tasks      | elapsed:  3.6min\n",
      "tu vieja file /mnt/sphere/speech_bci/raw_data/s_b1238_22/2022-01-27/alsa/13-00-01-02.wav\n",
      "[Parallel(n_jobs=4)]: Done  11 tasks      | elapsed:  3.8min\n",
      "tu vieja file /mnt/sphere/speech_bci/raw_data/s_b1238_22/2022-01-27/alsa/14-00-01-01.wav\n",
      "[Parallel(n_jobs=4)]: Done  12 tasks      | elapsed:  3.8min\n",
      "tu vieja file /mnt/sphere/speech_bci/raw_data/s_b1238_22/2022-01-27/alsa/14-00-01-02.wav\n",
      "[Parallel(n_jobs=4)]: Done  13 tasks      | elapsed:  3.9min\n",
      "tu vieja file /mnt/sphere/speech_bci/raw_data/s_b1238_22/2022-01-27/alsa/15-00-01-01.wav\n",
      "[Parallel(n_jobs=4)]: Done  14 tasks      | elapsed:  4.3min\n",
      "tu vieja file /mnt/sphere/speech_bci/raw_data/s_b1238_22/2022-01-27/alsa/15-00-01-02.wav\n",
      "[Parallel(n_jobs=4)]: Done  15 tasks      | elapsed:  4.9min\n",
      "tu vieja file /mnt/sphere/speech_bci/raw_data/s_b1238_22/2022-01-27/alsa/16-00-01-01.wav\n",
      "[Parallel(n_jobs=4)]: Done  16 tasks      | elapsed:  4.9min\n",
      "tu vieja file /mnt/sphere/speech_bci/raw_data/s_b1238_22/2022-01-27/alsa/16-00-01-02.wav\n",
      "[Parallel(n_jobs=4)]: Done  17 tasks      | elapsed:  5.0min\n",
      "tu vieja file /mnt/sphere/speech_bci/raw_data/s_b1238_22/2022-01-27/alsa/17-00-01-01.wav\n",
      "[Parallel(n_jobs=4)]: Done  18 out of  24 | elapsed:  5.1min remaining:  1.7min\n",
      "tu vieja file /mnt/sphere/speech_bci/raw_data/s_b1238_22/2022-01-27/alsa/17-00-01-02.wav\n",
      "[Parallel(n_jobs=4)]: Done  19 out of  24 | elapsed:  6.1min remaining:  1.6min\n",
      "tu vieja file /mnt/sphere/speech_bci/raw_data/s_b1238_22/2022-01-27/alsa/18-00-01-01.wav\n",
      "[Parallel(n_jobs=4)]: Done  20 out of  24 | elapsed:  6.1min remaining:  1.2min\n",
      "tu vieja file /mnt/sphere/speech_bci/raw_data/s_b1238_22/2022-01-27/alsa/18-00-01-02.wav\n",
      "[Parallel(n_jobs=4)]: Done  21 out of  24 | elapsed:  6.2min remaining:   53.1s\n",
      "[Parallel(n_jobs=4)]: Done  22 out of  24 | elapsed:  6.2min remaining:   33.8s\n",
      "[Parallel(n_jobs=4)]: Done  24 out of  24 | elapsed:  7.6min remaining:    0.0s\n",
      "[Parallel(n_jobs=4)]: Done  24 out of  24 | elapsed:  7.6min finished\n"
     ]
    }
   ],
   "source": [
    "def get_all_day_bouts(sess_par: dict, hparams:dict, n_jobs: int=12) -> pd.DataFrame:\n",
    "    \n",
    "    logger.info('Will search for bouts through all session {}, {}'.format(sess_par['bird'], sess_par['sess']))\n",
    "    exp_struct = et.get_exp_struct(sess_par['bird'], sess_par['sess'], ephys_software='alsa')\n",
    "\n",
    "    # get all the paths to the wav files of the day\n",
    "    raw_folder = exp_struct['folders']['alsa']\n",
    "    wav_path_list = glob.glob(os.path.join(exp_struct['folders']['alsa'], '*.wav'))\n",
    "    wav_path_list.sort()\n",
    "    logger.info('Found {} files'.format(len(wav_path_list)))\n",
    "    \n",
    "    def get_file_bouts(i_path):\n",
    "        return bs.get_bouts_in_file(i_path, hparams)[0]\n",
    "    \n",
    "    # Go parallel through all the paths in the day, get a list of all the pandas dataframes for each file\n",
    "    sess_pd_list = Parallel(n_jobs=n_jobs, verbose=100, backend=None)(delayed(get_file_bouts)(i) for i in wav_path_list)\n",
    "    \n",
    "    #sess_pd_list = [bs.get_bouts_in_file(i, hparams)[0] for i in wav_path_list]\n",
    "    \n",
    "    # concatenate the file and return it, eventually write to a pickle\n",
    "    sess_bout_pd = pd.concat(sess_pd_list)\n",
    "    return sess_bout_pd\n",
    "\n",
    "sess_bout_pd = get_all_day_bouts(sess_par, hparams, n_jobs=4)"
   ]
  },
  {
   "cell_type": "code",
   "execution_count": 37,
   "id": "impaired-jumping",
   "metadata": {},
   "outputs": [],
   "source": [
    "import sys\n",
    "sys.stdout.flush()"
   ]
  },
  {
   "cell_type": "code",
   "execution_count": 38,
   "id": "recovered-polymer",
   "metadata": {},
   "outputs": [
    {
     "data": {
      "text/plain": [
       "(49, 16)"
      ]
     },
     "execution_count": 38,
     "metadata": {},
     "output_type": "execute_result"
    }
   ],
   "source": [
    "sess_bout_pd.shape"
   ]
  },
  {
   "cell_type": "markdown",
   "id": "multiple-worth",
   "metadata": {},
   "source": [
    "### save the pandas for the day as a pickle"
   ]
  },
  {
   "cell_type": "code",
   "execution_count": 39,
   "id": "empirical-transsexual",
   "metadata": {},
   "outputs": [],
   "source": [
    "import pickle\n",
    "import sys"
   ]
  },
  {
   "cell_type": "code",
   "execution_count": 41,
   "id": "sunrise-reach",
   "metadata": {},
   "outputs": [
    {
     "name": "stderr",
     "output_type": "stream",
     "text": [
      "2022-01-27 19:45:18,780 root         INFO     saving bouts pandas to /mnt/sphere/speech_bci/derived_data/s_b1238_22/2022-01-27/alsa/bouts_ceciestunepipe/bout_auto.pickle\n",
      "2022-01-27 19:45:20,174 root         INFO     saving bout detect parameters dict to /mnt/sphere/speech_bci/derived_data/s_b1238_22/2022-01-27/alsa/bouts_ceciestunepipe/bout_search_params.pickle\n"
     ]
    }
   ],
   "source": [
    "def save_auto_bouts(sess_bout_pd, sess_par, hparams):\n",
    "    exp_struct = et.get_exp_struct(sess_par['bird'], sess_par['sess'], ephys_software='alsa')\n",
    "    sess_bouts_dir = os.path.join(exp_struct['folders']['derived'], 'bouts_ceciestunepipe')\n",
    "\n",
    "    sess_bouts_path = os.path.join(sess_bouts_dir, hparams['bout_auto_file'])\n",
    "    hparams_pickle_path = os.path.join(sess_bouts_dir, 'bout_search_params.pickle')\n",
    "\n",
    "    os.makedirs(sess_bouts_dir, exist_ok=True)\n",
    "    logger.info('saving bouts pandas to ' + sess_bouts_path)\n",
    "    sess_bout_pd.to_pickle(sess_bouts_path)\n",
    "    os.chmod(sess_bouts_path, 0o777)\n",
    "    \n",
    "\n",
    "    logger.info('saving bout detect parameters dict to ' + hparams_pickle_path)\n",
    "    with open(hparams_pickle_path, 'wb') as fh:\n",
    "        pickle.dump(hparams, fh)\n",
    "    os.chmod(hparams_pickle_path, 0o777)\n",
    "        \n",
    "save_auto_bouts(sess_bout_pd, sess_par, hparams)"
   ]
  },
  {
   "cell_type": "code",
   "execution_count": null,
   "id": "driving-looking",
   "metadata": {},
   "outputs": [],
   "source": [
    "sess_bout_pd.head(1)"
   ]
  },
  {
   "cell_type": "markdown",
   "id": "promising-royalty",
   "metadata": {},
   "source": [
    "### save the bouts of a pandas as wavs"
   ]
  },
  {
   "cell_type": "code",
   "execution_count": 44,
   "id": "opened-circus",
   "metadata": {},
   "outputs": [
    {
     "data": {
      "text/plain": [
       "'/mnt/sphere/speech_bci/processed_data/s_b1253_21/bouts_wav'"
      ]
     },
     "execution_count": 44,
     "metadata": {},
     "output_type": "execute_result"
    }
   ],
   "source": [
    "# bird_bouts_folder = os.path.abspath('/mnt/sphere/speech_bci/processed_data/s_b1253_21/bouts_wav')\n",
    "# bird_bouts_folder"
   ]
  },
  {
   "cell_type": "code",
   "execution_count": 45,
   "id": "pleased-genre",
   "metadata": {},
   "outputs": [],
   "source": [
    "os.makedirs(bird_bouts_folder, exist_ok=True)"
   ]
  },
  {
   "cell_type": "code",
   "execution_count": 46,
   "id": "spiritual-privacy",
   "metadata": {},
   "outputs": [],
   "source": [
    "a_bout = sess_bout_pd.iloc[0]"
   ]
  },
  {
   "cell_type": "code",
   "execution_count": 47,
   "id": "sharing-homeless",
   "metadata": {},
   "outputs": [
    {
     "data": {
      "text/plain": [
       "'/mnt/sphere/speech_bci/raw_data/s_b1253_21/2021-08-01/alsa/07-00-02-01.wav'"
      ]
     },
     "execution_count": 47,
     "metadata": {},
     "output_type": "execute_result"
    }
   ],
   "source": [
    "a_bout['file']"
   ]
  },
  {
   "cell_type": "code",
   "execution_count": 28,
   "id": "suffering-medline",
   "metadata": {},
   "outputs": [],
   "source": [
    "def bout_to_wav(a_bout: pd.Series, sess_par, hparams, dest_dir):\n",
    "    file_name = '{}_{}_{}.wav'.format(sess_par['sess'],\n",
    "                                      os.path.split(a_bout['file'])[-1].split('.wav')[0],\n",
    "                                      a_bout['start_ms'])\n",
    "    file_path = os.path.join(dest_dir, file_name)\n",
    "    x = a_bout['waveform']\n",
    "    \n",
    "    wavfile.write(file_path, hparams['sample_rate'], x)\n",
    "    return file_path                                                      \n",
    "    \n",
    "def bouts_to_wavs(sess_bout_pd, sess_par, hparams, dest_dir):\n",
    "    # make the dest_dir if does not exist\n",
    "    logger.info('Saving all session bouts to folder ' + dest_dir)\n",
    "    os.makedirs(dest_dir, exist_ok=True)\n",
    "    # write all the motifs to wavs\n",
    "    sess_bout_pd.apply(lambda x: bout_to_wav(x, sess_par, hparams, dest_dir), axis=1)\n",
    "    # write the hparams as pickle\n",
    "    hparams_pickle_path = os.path.join(dest_dir, 'bout_search_params_{}.pickle'.format(sess_par['sess']))\n",
    "    \n",
    "    logger.info('saving bout detect parameters dict to ' + hparams_pickle_path)\n",
    "    with open(hparams_pickle_path, 'wb') as fh:\n",
    "        pickle.dump(hparams, fh)\n",
    "    \n",
    "# one example\n",
    "# sess_bouts_folder = os.path.join(bird_bouts_folder, sess_par['sess'])\n",
    "# os.makedirs(sess_bouts_folder, exist_ok=True)\n",
    "#bout_to_wav(a_bout, sess_par, hparams, bout_folder)\n",
    "\n",
    "# all the bouts in the sess\n",
    "#bouts_to_wavs(sess_bout_pd, sess_par, hparams, bird_bouts_folder)"
   ]
  },
  {
   "cell_type": "markdown",
   "id": "expired-dress",
   "metadata": {},
   "source": [
    "## Run this for all sessions of the bird with alsa recordings"
   ]
  },
  {
   "cell_type": "markdown",
   "id": "mounted-pressure",
   "metadata": {},
   "source": [
    "#### list all sessions"
   ]
  },
  {
   "cell_type": "code",
   "execution_count": 13,
   "id": "disturbed-biotechnology",
   "metadata": {},
   "outputs": [
    {
     "data": {
      "text/plain": [
       "<module 'ceciestunepipe.file.bcistructure' from '/home/finch/repos/ceciestunepipe/ceciestunepipe/file/bcistructure.py'>"
      ]
     },
     "execution_count": 13,
     "metadata": {},
     "output_type": "execute_result"
    }
   ],
   "source": [
    "reload(et)"
   ]
  },
  {
   "cell_type": "code",
   "execution_count": 14,
   "id": "lesser-michigan",
   "metadata": {
    "tags": []
   },
   "outputs": [
    {
     "data": {
      "text/plain": [
       "['2022-01-07',\n",
       " '2022-01-08',\n",
       " '2022-01-09',\n",
       " '2022-01-10',\n",
       " '2022-01-11',\n",
       " '2022-01-12',\n",
       " '2022-01-13',\n",
       " '2022-01-14',\n",
       " '2022-01-15',\n",
       " '2022-01-16',\n",
       " '2022-01-17',\n",
       " '2022-01-18',\n",
       " '2022-01-19',\n",
       " '2022-01-20',\n",
       " '2022-01-21',\n",
       " '2022-01-22',\n",
       " '2022-01-23',\n",
       " '2022-01-24',\n",
       " '2022-01-25',\n",
       " '2022-01-26',\n",
       " '2022-01-27']"
      ]
     },
     "execution_count": 14,
     "metadata": {},
     "output_type": "execute_result"
    }
   ],
   "source": [
    "all_sessions = et.list_sessions(sess_par['bird'], section='raw', ephys_software='alsa')\n",
    "all_sessions.sort()\n",
    "all_sessions"
   ]
  },
  {
   "cell_type": "code",
   "execution_count": 15,
   "id": "filled-tribune",
   "metadata": {},
   "outputs": [
    {
     "data": {
      "text/plain": [
       "['2022-01-27']"
      ]
     },
     "execution_count": 15,
     "metadata": {},
     "output_type": "execute_result"
    }
   ],
   "source": [
    "all_sessions[-1:]"
   ]
  },
  {
   "cell_type": "code",
   "execution_count": null,
   "id": "indie-difference",
   "metadata": {},
   "outputs": [],
   "source": []
  },
  {
   "cell_type": "code",
   "execution_count": 19,
   "id": "suspended-barcelona",
   "metadata": {},
   "outputs": [
    {
     "name": "stderr",
     "output_type": "stream",
     "text": [
      "2022-01-27 19:34:21,445 root         INFO     Something went wrong in session 2022-01-27\n",
      "2022-01-27 19:34:21,447 root         INFO     Error <class 'NameError'>\n"
     ]
    }
   ],
   "source": [
    "for sess in all_sessions[-1: ]:\n",
    "    try:\n",
    "        sess_par['sess'] = sess\n",
    "        sess_bout_pd = get_all_day_bouts(sess_par, hparams, n_jobs=28)\n",
    "        save_auto_bouts(sess_bout_pd, sess_par, hparams)\n",
    "        sess_bouts_folder = os.path.join(bird_bouts_folder, sess)\n",
    "        bouts_to_wavs(sess_bout_pd, sess_par, hparams, sess_bouts_folder)\n",
    "    except:\n",
    "        logger.info('Something went wrong in session ' + sess)\n",
    "        logger.info('Error {}'.format(sys.exc_info()[0]))\n",
    "        "
   ]
  },
  {
   "cell_type": "code",
   "execution_count": null,
   "id": "insured-trademark",
   "metadata": {},
   "outputs": [],
   "source": []
  }
 ],
 "metadata": {
  "kernelspec": {
   "display_name": "ceciestunepipe",
   "language": "python",
   "name": "ceciestunepipe"
  },
  "language_info": {
   "codemirror_mode": {
    "name": "ipython",
    "version": 3
   },
   "file_extension": ".py",
   "mimetype": "text/x-python",
   "name": "python",
   "nbconvert_exporter": "python",
   "pygments_lexer": "ipython3",
   "version": "3.8.10"
  }
 },
 "nbformat": 4,
 "nbformat_minor": 5
}
