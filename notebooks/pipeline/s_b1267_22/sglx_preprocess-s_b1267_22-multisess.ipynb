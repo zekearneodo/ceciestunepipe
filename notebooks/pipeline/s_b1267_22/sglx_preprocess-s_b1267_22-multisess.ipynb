{
 "cells": [
  {
   "cell_type": "markdown",
   "metadata": {},
   "source": [
    "# Pre-processing pipeline for spikeglx sessions, zebra finch/starling PAKHI\n",
    "- For every run in the session:\n",
    " - Load the recordings\n",
    " - Extract wav chan with micrhopohone and make a wav chan with the nidq syn signal\n",
    " - Get the sync events for the nidq sync channel\n",
    " \n",
    " - Do bout detection\n",
    " \n",
    "In another notebook, bout detection is curated\n",
    "- Left to decide where to:\n",
    "    - Sort spikes\n",
    "    - Sync the spikes/lfp/nidq\n",
    "    - make and plot 'bout rasters'"
   ]
  },
  {
   "cell_type": "code",
   "execution_count": 1,
   "metadata": {},
   "outputs": [
    {
     "name": "stderr",
     "output_type": "stream",
     "text": [
      "2022-03-28 18:56:14,429 root         INFO     Running on pakhi\n"
     ]
    }
   ],
   "source": [
    "%matplotlib inline\n",
    "import os\n",
    "import glob\n",
    "import logging\n",
    "import pickle\n",
    "import numpy as np\n",
    "import pandas as pd\n",
    "from scipy.io import wavfile\n",
    "from scipy import signal\n",
    "import traceback\n",
    "import warnings\n",
    "import socket\n",
    "\n",
    "from matplotlib import pyplot as plt\n",
    "from importlib import reload\n",
    "\n",
    "logger = logging.getLogger()\n",
    "handler = logging.StreamHandler()\n",
    "formatter = logging.Formatter(\n",
    "        '%(asctime)s %(name)-12s %(levelname)-8s %(message)s')\n",
    "handler.setFormatter(formatter)\n",
    "logger.addHandler(handler)\n",
    "logger.setLevel(logging.INFO)\n",
    "\n",
    "logger.info('Running on {}'.format(socket.gethostname()))"
   ]
  },
  {
   "cell_type": "code",
   "execution_count": 2,
   "metadata": {},
   "outputs": [],
   "source": [
    "from ceciestunepipe.file import bcistructure as et\n",
    "from ceciestunepipe.util import sglxutil as sglu\n",
    "from ceciestunepipe.util import rigutil as ru\n",
    "from ceciestunepipe.util import wavutil as wu\n",
    "from ceciestunepipe.util import syncutil as su\n",
    "\n",
    "from ceciestunepipe.util.sound import boutsearch as bs\n",
    "\n",
    "from ceciestunepipe.util.spikeextractors import preprocess as pre\n",
    "from ceciestunepipe.util.spikeextractors.extractors.spikeglxrecordingextractor import readSGLX as rsgl\n",
    "from ceciestunepipe.util.spikeextractors.extractors.spikeglxrecordingextractor import spikeglxrecordingextractor as sglex"
   ]
  },
  {
   "cell_type": "code",
   "execution_count": 3,
   "metadata": {},
   "outputs": [
    {
     "name": "stderr",
     "output_type": "stream",
     "text": [
      "2022-03-28 18:56:16,202 root         INFO     all modules loaded\n"
     ]
    }
   ],
   "source": [
    "import spikeinterface as si\n",
    "import spikeinterface.extractors as se\n",
    "import spikeinterface.toolkit as st\n",
    "import spikeinterface.sorters as ss\n",
    "import spikeinterface.comparison as sc\n",
    "import spikeinterface.widgets as sw\n",
    "logger.info('all modules loaded')"
   ]
  },
  {
   "cell_type": "markdown",
   "metadata": {},
   "source": [
    "## Session parameters and raw files"
   ]
  },
  {
   "cell_type": "markdown",
   "metadata": {},
   "source": [
    "#### list all the sessions for this bird"
   ]
  },
  {
   "cell_type": "code",
   "execution_count": 4,
   "metadata": {},
   "outputs": [
    {
     "name": "stderr",
     "output_type": "stream",
     "text": [
      "2022-03-28 18:56:18,771 root         INFO     all sessions for bird are ['2022-03-17', '2022-03-18', '2022-03-19', '2022-03-20', '2022-03-21', '2022-03-22', '2022-03-23', '2022-03-24', '2022-03-25', '2022-03-26', '2022-03-27', '2022-03-28']\n"
     ]
    }
   ],
   "source": [
    "bird = 's_b1267_22'\n",
    "all_bird_sess = et.list_sessions(bird)\n",
    "logger.info('all sessions for bird are {}'.format(all_bird_sess))"
   ]
  },
  {
   "cell_type": "markdown",
   "metadata": {},
   "source": [
    "### set up bird and sessions parameters\n",
    "this will define:\n",
    "- locations of files (for the bird)\n",
    "- signals and channels to look for in the metadata of the files and in the rig.json parameter file: Note that this have to exist in all of the sessions that will be processed\n",
    "- 'sess' is unimportant here, but it comes handy if there is need to debug usin a single session"
   ]
  },
  {
   "cell_type": "code",
   "execution_count": 5,
   "metadata": {},
   "outputs": [],
   "source": [
    "reload(et)\n",
    "# for one example session\n",
    "\n",
    "sess_par = {'bird': 's_b1267_22',\n",
    "           'sess': '2022-03-28',\n",
    "           'probes': ['probe_0'], #probes of interest\n",
    "           'mic_list': ['microphone_0', 'microphone_1', 'pressure'], #list of mics of interest, by signal name in rig.json\n",
    "           'stim_list': ['wav_stim', 'wav_syn'], # list of adc chans with the stimulus\n",
    "           'nidq_ttl_list': ['wav_ttl'], # list of TTL signals form the nidq digital inputs to extract (besides the 'sync')\n",
    "           'sort': 2, #label for this sort instance\n",
    "           }\n",
    "\n",
    "exp_struct = et.get_exp_struct(sess_par['bird'], sess_par['sess'], sort=sess_par['sort'])\n",
    "\n",
    "ksort_folder = exp_struct['folders']['ksort']\n",
    "raw_folder = exp_struct['folders']['sglx']"
   ]
  },
  {
   "cell_type": "markdown",
   "metadata": {},
   "source": [
    "list all the epochs in a session, to check that it is finding what it has to find"
   ]
  },
  {
   "cell_type": "code",
   "execution_count": 6,
   "metadata": {},
   "outputs": [
    {
     "name": "stderr",
     "output_type": "stream",
     "text": [
      "2022-03-28 19:31:45,321 ceciestunepipe.file.bcistructure INFO     {'folders': {'bird': '/mnt/sphere/speech_bci/raw_data/s_b1267_22', 'raw': '/mnt/sphere/speech_bci/raw_data/s_b1267_22/2022-03-28', 'sglx': '/mnt/sphere/speech_bci/raw_data/s_b1267_22/2022-03-28/sglx', 'kwik': '/scratch/earneodo/s_b1267_22/sglx/kwik/2022-03-28', 'processed': '/mnt/sphere/speech_bci/processed_data/s_b1267_22/2022-03-28/sglx', 'derived': '/mnt/sphere/speech_bci/derived_data/s_b1267_22/2022-03-28/sglx', 'tmp': '/scratch/earneodo/tmp', 'msort': '/scratch/earneodo/s_b1267_22/sglx/msort/2022-03-28', 'ksort': '/scratch/earneodo/s_b1267_22/sglx/ksort/2022-03-28/2', 'sort': '/mnt/sphere/speech_bci/derived_data/s_b1267_22/2022-03-28/sglx/2'}, 'files': {'par': '/scratch/earneodo/s_b1267_22/sglx/ksort/2022-03-28/2/params.json', 'set': '/mnt/sphere/speech_bci/raw_data/s_b1267_22/2022-03-28/sglx/settings.isf', 'rig': '/mnt/sphere/speech_bci/raw_data/s_b1267_22/2022-03-28/sglx/rig.json', 'kwd': '/scratch/earneodo/s_b1267_22/sglx/kwik/2022-03-28/stream.kwd', 'kwik': '/scratch/earneodo/s_b1267_22/sglx/kwik/2022-03-28/sort_2/spikes.kwik', 'kwe': '/scratch/earneodo/s_b1267_22/sglx/kwik/2022-03-28/events.kwe', 'dat_mic': '/mnt/sphere/speech_bci/processed_data/s_b1267_22/2022-03-28/sglx/dat_mic.mat', 'dat_ap': '/mnt/sphere/speech_bci/processed_data/s_b1267_22/2022-03-28/sglx/dat_ap.mat', 'allevents': '/mnt/sphere/speech_bci/processed_data/s_b1267_22/2022-03-28/sglx/dat_all.pkl', 'wav_mic': '/mnt/sphere/speech_bci/derived_data/s_b1267_22/2022-03-28/sglx/wav_mic.wav', 'mda_raw': '/scratch/earneodo/s_b1267_22/sglx/msort/2022-03-28/raw.mda', 'bin_raw': '/scratch/earneodo/s_b1267_22/sglx/ksort/2022-03-28/2/raw.bin'}}\n"
     ]
    },
    {
     "data": {
      "text/plain": [
       "['1343_g0']"
      ]
     },
     "execution_count": 6,
     "metadata": {},
     "output_type": "execute_result"
    }
   ],
   "source": [
    "sess_epochs = et.list_sgl_epochs(sess_par)\n",
    "sess_epochs"
   ]
  },
  {
   "cell_type": "markdown",
   "metadata": {},
   "source": [
    "#### define pre-processing steps for each epoch and for the session"
   ]
  },
  {
   "cell_type": "code",
   "execution_count": 8,
   "metadata": {
    "tags": []
   },
   "outputs": [
    {
     "name": "stderr",
     "output_type": "stream",
     "text": [
      "2022-03-28 19:37:07,939 ceciestunepipe.util.spikeextractors.preprocess INFO     PREPROCESSING sess 2022-03-28 | epoch 1343_g0\n",
      "2022-03-28 19:37:07,940 ceciestunepipe.util.spikeextractors.preprocess INFO     getting extractors\n",
      "2022-03-28 19:37:07,961 ceciestunepipe.util.spikeextractors.preprocess INFO     Got sglx recordings for keys ['nidq', 'lf_0', 'ap_0']\n",
      "2022-03-28 19:37:07,961 ceciestunepipe.util.spikeextractors.preprocess INFO     Getting microphone channel(s) ['microphone_0', 'microphone_1', 'pressure']\n",
      "2022-03-28 19:37:13,400 ceciestunepipe.util.wavutil INFO     sampling rate 40000\n",
      "2022-03-28 19:37:13,401 ceciestunepipe.util.wavutil INFO     saving (3, 317037927)-shaped array as wav in /mnt/sphere/speech_bci/derived_data/s_b1267_22/2022-03-28/sglx/1343_g0/wav_mic.wav\n",
      "2022-03-28 19:37:17,974 ceciestunepipe.util.wavutil INFO     saving (3, 317037927)-shaped array as npy in /mnt/sphere/speech_bci/derived_data/s_b1267_22/2022-03-28/sglx/1343_g0/wav_mic.npy\n",
      "2022-03-28 19:37:20,434 ceciestunepipe.util.spikeextractors.preprocess INFO     Getting stimulus channel(s) ['wav_stim', 'wav_syn']\n",
      "2022-03-28 19:37:20,435 ceciestunepipe.util.wavutil INFO     sampling rate 40000\n",
      "2022-03-28 19:37:20,436 ceciestunepipe.util.wavutil INFO     saving (2, 317037927)-shaped array as wav in /mnt/sphere/speech_bci/derived_data/s_b1267_22/2022-03-28/sglx/1343_g0/wav_stim.wav\n",
      "2022-03-28 19:37:24,363 ceciestunepipe.util.wavutil INFO     saving (2, 317037927)-shaped array as npy in /mnt/sphere/speech_bci/derived_data/s_b1267_22/2022-03-28/sglx/1343_g0/wav_stim.npy\n",
      "2022-03-28 19:37:36,466 ceciestunepipe.util.spikeextractors.preprocess INFO     Getting sync channel(s) from nidaq streams: ['sync']\n",
      "2022-03-28 19:37:36,467 ceciestunepipe.util.spikeextractors.extractors.spikeglxrecordingextractor.spikeglxrecordingextractor INFO     getting ttl traces, chan range(0, 7)\n",
      "2022-03-28 19:37:40,774 ceciestunepipe.util.wavutil INFO     sampling rate 40000\n",
      "2022-03-28 19:37:40,775 ceciestunepipe.util.wavutil INFO     saving (1, 317037927)-shaped array as wav in /mnt/sphere/speech_bci/derived_data/s_b1267_22/2022-03-28/sglx/1343_g0/wav_sync.wav\n",
      "2022-03-28 19:37:41,616 ceciestunepipe.util.wavutil INFO     saving (1, 317037927)-shaped array as npy in /mnt/sphere/speech_bci/derived_data/s_b1267_22/2022-03-28/sglx/1343_g0/wav_sync.npy\n",
      "2022-03-28 19:37:42,482 ceciestunepipe.util.spikeextractors.preprocess INFO     Getting sync events from the wav sync channel\n",
      "2022-03-28 19:37:43,997 ceciestunepipe.util.spikeextractors.preprocess INFO     saving sync events of the wav channel to /mnt/sphere/speech_bci/derived_data/s_b1267_22/2022-03-28/sglx/1343_g0/wav_sync_evt.npy\n",
      "2022-03-28 19:37:44,001 ceciestunepipe.util.spikeextractors.preprocess INFO     saving t0 for wav channel to /mnt/sphere/speech_bci/derived_data/s_b1267_22/2022-03-28/sglx/1343_g0/wav_t0.npy\n",
      "2022-03-28 19:37:48,561 ceciestunepipe.util.spikeextractors.preprocess INFO     Will get 1 ttl signals\n",
      "2022-03-28 19:37:48,563 ceciestunepipe.util.spikeextractors.preprocess INFO     looking for signal wav_ttl in the nidaq channels\n",
      "2022-03-28 19:37:48,563 ceciestunepipe.util.spikeextractors.preprocess INFO     found in chan 2\n",
      "2022-03-28 19:37:48,564 ceciestunepipe.util.spikeextractors.extractors.spikeglxrecordingextractor.spikeglxrecordingextractor INFO     getting ttl events, chan 2\n",
      "2022-03-28 19:37:51,804 ceciestunepipe.util.spikeextractors.preprocess INFO     saving (0, 2)-shaped array as npy in /mnt/sphere/speech_bci/derived_data/s_b1267_22/2022-03-28/sglx/1343_g0/wav_ttl_evt.npy\n",
      "2022-03-28 19:37:51,806 ceciestunepipe.util.spikeextractors.preprocess INFO     saving sync nidaq dict to /mnt/sphere/speech_bci/derived_data/s_b1267_22/2022-03-28/sglx/1343_g0/wav_sync_dict.pkl\n",
      "2022-03-28 19:37:51,808 ceciestunepipe.util.spikeextractors.preprocess INFO     Getting sync signals for imec streams: ['lf_0', 'ap_0']\n",
      "2022-03-28 19:37:51,808 ceciestunepipe.util.spikeextractors.preprocess INFO     getting syn patterns for lf_0\n",
      "2022-03-28 19:37:51,809 ceciestunepipe.util.spikeextractors.preprocess INFO     File /mnt/sphere/speech_bci/derived_data/s_b1267_22/2022-03-28/sglx/1343_g0/lf_0_sync_dict.pkl not found or forced computation, getting the events\n",
      "2022-03-28 19:37:51,810 ceciestunepipe.util.spikeextractors.extractors.spikeglxrecordingextractor.spikeglxrecordingextractor INFO     getting ttl events, chan 0\n",
      "2022-03-28 19:37:51,811 ceciestunepipe.util.spikeextractors.extractors.readSGLX INFO     Extracting digital on imec stream: there is only one channel, if any (SYN) and will be converted from an int16 channel \n",
      "2022-03-28 19:37:51,812 ceciestunepipe.util.spikeextractors.extractors.readSGLX INFO     allocated array for syn channel of size (19815221,)\n",
      "2022-03-28 19:38:08,118 ceciestunepipe.util.spikeextractors.extractors.readSGLX INFO     Threshold for logical hi is 0\n",
      "2022-03-28 19:38:08,556 ceciestunepipe.util.spikeextractors.preprocess INFO     saving events array to /mnt/sphere/speech_bci/derived_data/s_b1267_22/2022-03-28/sglx/1343_g0/lf_0_sync_evt.npy\n",
      "2022-03-28 19:38:08,561 ceciestunepipe.util.spikeextractors.preprocess INFO     saving t_0 array to /mnt/sphere/speech_bci/derived_data/s_b1267_22/2022-03-28/sglx/1343_g0/lf_0_t0.npy\n",
      "2022-03-28 19:38:08,801 ceciestunepipe.util.spikeextractors.preprocess INFO     saving sync dict to /mnt/sphere/speech_bci/derived_data/s_b1267_22/2022-03-28/sglx/1343_g0/lf_0_sync_dict.pkl\n",
      "2022-03-28 19:38:08,803 ceciestunepipe.util.spikeextractors.preprocess INFO     loading syn_dict from /mnt/sphere/speech_bci/derived_data/s_b1267_22/2022-03-28/sglx/1343_g0/lf_0_sync_dict.pkl\n",
      "2022-03-28 19:38:08,808 ceciestunepipe.util.spikeextractors.preprocess INFO     getting syn patterns for ap_0\n",
      "2022-03-28 19:38:08,809 ceciestunepipe.util.spikeextractors.preprocess INFO     File /mnt/sphere/speech_bci/derived_data/s_b1267_22/2022-03-28/sglx/1343_g0/ap_0_sync_dict.pkl not found or forced computation, getting the events\n",
      "2022-03-28 19:38:08,810 ceciestunepipe.util.spikeextractors.extractors.spikeglxrecordingextractor.spikeglxrecordingextractor INFO     getting ttl events, chan 0\n",
      "2022-03-28 19:38:08,810 ceciestunepipe.util.spikeextractors.extractors.readSGLX INFO     Extracting digital on imec stream: there is only one channel, if any (SYN) and will be converted from an int16 channel \n",
      "2022-03-28 19:38:08,811 ceciestunepipe.util.spikeextractors.extractors.readSGLX INFO     allocated array for syn channel of size (237782652,)\n",
      "2022-03-28 19:41:49,786 ceciestunepipe.util.spikeextractors.extractors.readSGLX INFO     Threshold for logical hi is 0\n",
      "2022-03-28 19:41:56,804 ceciestunepipe.util.spikeextractors.preprocess INFO     saving events array to /mnt/sphere/speech_bci/derived_data/s_b1267_22/2022-03-28/sglx/1343_g0/ap_0_sync_evt.npy\n",
      "2022-03-28 19:41:56,837 ceciestunepipe.util.spikeextractors.preprocess INFO     saving t_0 array to /mnt/sphere/speech_bci/derived_data/s_b1267_22/2022-03-28/sglx/1343_g0/ap_0_t0.npy\n",
      "2022-03-28 19:41:59,424 ceciestunepipe.util.spikeextractors.preprocess INFO     saving sync dict to /mnt/sphere/speech_bci/derived_data/s_b1267_22/2022-03-28/sglx/1343_g0/ap_0_sync_dict.pkl\n",
      "2022-03-28 19:41:59,427 ceciestunepipe.util.spikeextractors.preprocess INFO     loading syn_dict from /mnt/sphere/speech_bci/derived_data/s_b1267_22/2022-03-28/sglx/1343_g0/ap_0_sync_dict.pkl\n",
      "2022-03-28 19:41:59,433 ceciestunepipe.util.spikeextractors.preprocess INFO     getting syn patterns for nidq\n",
      "2022-03-28 19:41:59,434 ceciestunepipe.util.spikeextractors.preprocess INFO     File /mnt/sphere/speech_bci/derived_data/s_b1267_22/2022-03-28/sglx/1343_g0/nidq_sync_dict.pkl not found or forced computation, getting the events\n",
      "/home/earneodo/anaconda3/envs/unepipe/lib/python3.8/site-packages/numpy/core/fromnumeric.py:3419: RuntimeWarning: Mean of empty slice.\n",
      "  return _methods._mean(a, axis=axis, dtype=dtype,\n",
      "/home/earneodo/anaconda3/envs/unepipe/lib/python3.8/site-packages/numpy/core/_methods.py:188: RuntimeWarning: invalid value encountered in double_scalars\n",
      "  ret = ret.dtype.type(ret / rcount)\n",
      "2022-03-28 19:42:02,056 ceciestunepipe.util.spikeextractors.preprocess INFO     saving events array to /mnt/sphere/speech_bci/derived_data/s_b1267_22/2022-03-28/sglx/1343_g0/nidq_sync_evt.npy\n"
     ]
    },
    {
     "name": "stderr",
     "output_type": "stream",
     "text": [
      "2022-03-28 19:42:02,072 ceciestunepipe.util.spikeextractors.preprocess INFO     saving t_0 array to /mnt/sphere/speech_bci/derived_data/s_b1267_22/2022-03-28/sglx/1343_g0/nidq_t0.npy\n",
      "2022-03-28 19:42:05,497 ceciestunepipe.util.spikeextractors.preprocess INFO     saving sync dict to /mnt/sphere/speech_bci/derived_data/s_b1267_22/2022-03-28/sglx/1343_g0/nidq_sync_dict.pkl\n",
      "2022-03-28 19:42:05,499 ceciestunepipe.util.spikeextractors.preprocess INFO     loading syn_dict from /mnt/sphere/speech_bci/derived_data/s_b1267_22/2022-03-28/sglx/1343_g0/nidq_sync_dict.pkl\n",
      "2022-03-28 19:42:05,505 ceciestunepipe.util.spikeextractors.preprocess INFO     getting syn patterns for wav\n",
      "2022-03-28 19:42:05,506 ceciestunepipe.util.spikeextractors.preprocess INFO     loading syn_dict from /mnt/sphere/speech_bci/derived_data/s_b1267_22/2022-03-28/sglx/1343_g0/wav_sync_dict.pkl\n"
     ]
    }
   ],
   "source": [
    "reload(pre)\n",
    "one_epoch_dict = pre.preprocess_run(sess_par, exp_struct, sess_epochs[0])"
   ]
  },
  {
   "cell_type": "code",
   "execution_count": 17,
   "metadata": {
    "scrolled": true,
    "tags": []
   },
   "outputs": [
    {
     "name": "stderr",
     "output_type": "stream",
     "text": [
      "2022-03-26 00:57:19,017 root         INFO     pre-process all runs of sess 2022-03-25\n",
      "2022-03-26 00:57:19,019 ceciestunepipe.file.bcistructure INFO     {'folders': {'bird': '/mnt/sphere/speech_bci/raw_data/s_b1267_22', 'raw': '/mnt/sphere/speech_bci/raw_data/s_b1267_22/2022-03-25', 'sglx': '/mnt/sphere/speech_bci/raw_data/s_b1267_22/2022-03-25/sglx', 'kwik': '/scratch/earneodo/s_b1267_22/sglx/kwik/2022-03-25', 'processed': '/mnt/sphere/speech_bci/processed_data/s_b1267_22/2022-03-25/sglx', 'derived': '/mnt/sphere/speech_bci/derived_data/s_b1267_22/2022-03-25/sglx', 'tmp': '/scratch/earneodo/tmp', 'msort': '/scratch/earneodo/s_b1267_22/sglx/msort/2022-03-25', 'ksort': '/scratch/earneodo/s_b1267_22/sglx/ksort/2022-03-25/2', 'sort': '/mnt/sphere/speech_bci/derived_data/s_b1267_22/2022-03-25/sglx/2'}, 'files': {'par': '/scratch/earneodo/s_b1267_22/sglx/ksort/2022-03-25/2/params.json', 'set': '/mnt/sphere/speech_bci/raw_data/s_b1267_22/2022-03-25/sglx/settings.isf', 'rig': '/mnt/sphere/speech_bci/raw_data/s_b1267_22/2022-03-25/sglx/rig.json', 'kwd': '/scratch/earneodo/s_b1267_22/sglx/kwik/2022-03-25/stream.kwd', 'kwik': '/scratch/earneodo/s_b1267_22/sglx/kwik/2022-03-25/sort_2/spikes.kwik', 'kwe': '/scratch/earneodo/s_b1267_22/sglx/kwik/2022-03-25/events.kwe', 'dat_mic': '/mnt/sphere/speech_bci/processed_data/s_b1267_22/2022-03-25/sglx/dat_mic.mat', 'dat_ap': '/mnt/sphere/speech_bci/processed_data/s_b1267_22/2022-03-25/sglx/dat_ap.mat', 'allevents': '/mnt/sphere/speech_bci/processed_data/s_b1267_22/2022-03-25/sglx/dat_all.pkl', 'wav_mic': '/mnt/sphere/speech_bci/derived_data/s_b1267_22/2022-03-25/sglx/wav_mic.wav', 'mda_raw': '/scratch/earneodo/s_b1267_22/sglx/msort/2022-03-25/raw.mda', 'bin_raw': '/scratch/earneodo/s_b1267_22/sglx/ksort/2022-03-25/2/raw.bin'}}\n",
      "2022-03-26 00:57:19,022 root         INFO     found epochs: ['0807_g0', '1136_g0', '1652_g0']\n",
      "2022-03-26 00:57:19,023 ceciestunepipe.util.spikeextractors.preprocess INFO     PREPROCESSING sess 2022-03-25 | epoch 0807_g0\n",
      "2022-03-26 00:57:19,023 ceciestunepipe.util.spikeextractors.preprocess INFO     getting extractors\n",
      "2022-03-26 00:57:19,028 ceciestunepipe.util.spikeextractors.preprocess INFO     Got sglx recordings for keys ['nidq']\n",
      "2022-03-26 00:57:19,028 ceciestunepipe.util.spikeextractors.preprocess INFO     Getting microphone channel(s) ['microphone_0', 'pressure']\n",
      "2022-03-26 00:57:20,145 ceciestunepipe.util.wavutil INFO     sampling rate 40000\n",
      "2022-03-26 00:57:20,147 ceciestunepipe.util.wavutil INFO     saving (2, 500963328)-shaped array as wav in /mnt/sphere/speech_bci/derived_data/s_b1267_22/2022-03-25/sglx/0807_g0/wav_mic.wav\n",
      "2022-03-26 00:57:26,019 ceciestunepipe.util.wavutil INFO     saving (2, 500963328)-shaped array as npy in /mnt/sphere/speech_bci/derived_data/s_b1267_22/2022-03-25/sglx/0807_g0/wav_mic.npy\n",
      "2022-03-26 00:57:28,928 ceciestunepipe.util.spikeextractors.preprocess INFO     Getting sync channel(s) from nidaq streams: ['sync']\n",
      "2022-03-26 00:57:28,929 ceciestunepipe.util.spikeextractors.extractors.spikeglxrecordingextractor.spikeglxrecordingextractor INFO     getting ttl traces, chan range(0, 7)\n",
      "2022-03-26 00:57:38,570 ceciestunepipe.util.wavutil INFO     sampling rate 40000\n",
      "2022-03-26 00:57:38,573 ceciestunepipe.util.wavutil INFO     saving (1, 500963328)-shaped array as wav in /mnt/sphere/speech_bci/derived_data/s_b1267_22/2022-03-25/sglx/0807_g0/wav_sync.wav\n",
      "2022-03-26 00:57:40,044 ceciestunepipe.util.wavutil INFO     saving (1, 500963328)-shaped array as npy in /mnt/sphere/speech_bci/derived_data/s_b1267_22/2022-03-25/sglx/0807_g0/wav_sync.npy\n",
      "2022-03-26 00:57:41,462 ceciestunepipe.util.spikeextractors.preprocess INFO     Getting sync events from the wav sync channel\n",
      "2022-03-26 00:57:43,633 ceciestunepipe.util.spikeextractors.preprocess INFO     saving sync events of the wav channel to /mnt/sphere/speech_bci/derived_data/s_b1267_22/2022-03-25/sglx/0807_g0/wav_sync_evt.npy\n",
      "2022-03-26 00:57:43,636 ceciestunepipe.util.spikeextractors.preprocess INFO     saving t0 for wav channel to /mnt/sphere/speech_bci/derived_data/s_b1267_22/2022-03-25/sglx/0807_g0/wav_t0.npy\n",
      "2022-03-26 00:57:51,015 ceciestunepipe.util.spikeextractors.preprocess INFO     saving sync nidaq dict to /mnt/sphere/speech_bci/derived_data/s_b1267_22/2022-03-25/sglx/0807_g0/wav_sync_dict.pkl\n",
      "2022-03-26 00:57:51,019 ceciestunepipe.util.spikeextractors.preprocess INFO     Getting sync signals for imec streams: []\n",
      "2022-03-26 00:57:51,019 ceciestunepipe.util.spikeextractors.preprocess INFO     getting syn patterns for nidq\n",
      "2022-03-26 00:57:51,020 ceciestunepipe.util.spikeextractors.preprocess INFO     loading syn_dict from /mnt/sphere/speech_bci/derived_data/s_b1267_22/2022-03-25/sglx/0807_g0/nidq_sync_dict.pkl\n",
      "2022-03-26 00:57:51,024 ceciestunepipe.util.spikeextractors.preprocess INFO     getting syn patterns for wav\n",
      "2022-03-26 00:57:51,024 ceciestunepipe.util.spikeextractors.preprocess INFO     loading syn_dict from /mnt/sphere/speech_bci/derived_data/s_b1267_22/2022-03-25/sglx/0807_g0/wav_sync_dict.pkl\n",
      "2022-03-26 00:57:51,038 ceciestunepipe.util.spikeextractors.preprocess INFO     PREPROCESSING sess 2022-03-25 | epoch 1136_g0\n",
      "2022-03-26 00:57:51,038 ceciestunepipe.util.spikeextractors.preprocess INFO     getting extractors\n",
      "2022-03-26 00:57:51,057 ceciestunepipe.util.spikeextractors.preprocess INFO     Got sglx recordings for keys ['nidq']\n",
      "2022-03-26 00:57:51,058 ceciestunepipe.util.spikeextractors.preprocess INFO     Getting microphone channel(s) ['microphone_0', 'pressure']\n",
      "2022-03-26 00:58:06,585 ceciestunepipe.util.wavutil INFO     sampling rate 40000\n",
      "2022-03-26 00:58:06,586 ceciestunepipe.util.wavutil INFO     saving (2, 758623283)-shaped array as wav in /mnt/sphere/speech_bci/derived_data/s_b1267_22/2022-03-25/sglx/1136_g0/wav_mic.wav\n",
      "2022-03-26 00:58:15,311 ceciestunepipe.util.wavutil INFO     saving (2, 758623283)-shaped array as npy in /mnt/sphere/speech_bci/derived_data/s_b1267_22/2022-03-25/sglx/1136_g0/wav_mic.npy\n",
      "2022-03-26 00:58:19,344 ceciestunepipe.util.spikeextractors.preprocess INFO     Getting sync channel(s) from nidaq streams: ['sync']\n",
      "2022-03-26 00:58:19,345 ceciestunepipe.util.spikeextractors.extractors.spikeglxrecordingextractor.spikeglxrecordingextractor INFO     getting ttl traces, chan range(0, 7)\n",
      "2022-03-26 00:58:31,844 ceciestunepipe.util.wavutil INFO     sampling rate 40000\n",
      "2022-03-26 00:58:31,846 ceciestunepipe.util.wavutil INFO     saving (1, 758623283)-shaped array as wav in /mnt/sphere/speech_bci/derived_data/s_b1267_22/2022-03-25/sglx/1136_g0/wav_sync.wav\n",
      "2022-03-26 00:58:34,171 ceciestunepipe.util.wavutil INFO     saving (1, 758623283)-shaped array as npy in /mnt/sphere/speech_bci/derived_data/s_b1267_22/2022-03-25/sglx/1136_g0/wav_sync.npy\n",
      "2022-03-26 00:58:36,579 ceciestunepipe.util.spikeextractors.preprocess INFO     Getting sync events from the wav sync channel\n",
      "2022-03-26 00:58:40,543 ceciestunepipe.util.spikeextractors.preprocess INFO     saving sync events of the wav channel to /mnt/sphere/speech_bci/derived_data/s_b1267_22/2022-03-25/sglx/1136_g0/wav_sync_evt.npy\n",
      "2022-03-26 00:58:40,546 ceciestunepipe.util.spikeextractors.preprocess INFO     saving t0 for wav channel to /mnt/sphere/speech_bci/derived_data/s_b1267_22/2022-03-25/sglx/1136_g0/wav_t0.npy\n",
      "2022-03-26 00:58:54,164 ceciestunepipe.util.spikeextractors.preprocess INFO     saving sync nidaq dict to /mnt/sphere/speech_bci/derived_data/s_b1267_22/2022-03-25/sglx/1136_g0/wav_sync_dict.pkl\n",
      "2022-03-26 00:58:54,173 ceciestunepipe.util.spikeextractors.preprocess INFO     Getting sync signals for imec streams: []\n",
      "2022-03-26 00:58:54,173 ceciestunepipe.util.spikeextractors.preprocess INFO     getting syn patterns for nidq\n",
      "2022-03-26 00:58:54,174 ceciestunepipe.util.spikeextractors.preprocess INFO     File /mnt/sphere/speech_bci/derived_data/s_b1267_22/2022-03-25/sglx/1136_g0/nidq_sync_dict.pkl not found or forced computation, getting the events\n",
      "2022-03-26 00:58:54,175 ceciestunepipe.util.spikeextractors.extractors.spikeglxrecordingextractor.spikeglxrecordingextractor INFO     getting ttl events, chan 0\n",
      "2022-03-26 00:59:26,507 ceciestunepipe.util.spikeextractors.preprocess INFO     saving events array to /mnt/sphere/speech_bci/derived_data/s_b1267_22/2022-03-25/sglx/1136_g0/nidq_sync_evt.npy\n"
     ]
    },
    {
     "name": "stderr",
     "output_type": "stream",
     "text": [
      "2022-03-26 00:59:26,512 ceciestunepipe.util.spikeextractors.preprocess INFO     saving t_0 array to /mnt/sphere/speech_bci/derived_data/s_b1267_22/2022-03-25/sglx/1136_g0/nidq_t0.npy\n",
      "2022-03-26 00:59:34,771 ceciestunepipe.util.spikeextractors.preprocess INFO     saving sync dict to /mnt/sphere/speech_bci/derived_data/s_b1267_22/2022-03-25/sglx/1136_g0/nidq_sync_dict.pkl\n",
      "2022-03-26 00:59:34,787 ceciestunepipe.util.spikeextractors.preprocess INFO     loading syn_dict from /mnt/sphere/speech_bci/derived_data/s_b1267_22/2022-03-25/sglx/1136_g0/nidq_sync_dict.pkl\n",
      "2022-03-26 00:59:34,792 ceciestunepipe.util.spikeextractors.preprocess INFO     getting syn patterns for wav\n",
      "2022-03-26 00:59:34,793 ceciestunepipe.util.spikeextractors.preprocess INFO     loading syn_dict from /mnt/sphere/speech_bci/derived_data/s_b1267_22/2022-03-25/sglx/1136_g0/wav_sync_dict.pkl\n",
      "2022-03-26 00:59:34,809 ceciestunepipe.util.spikeextractors.preprocess INFO     PREPROCESSING sess 2022-03-25 | epoch 1652_g0\n",
      "2022-03-26 00:59:34,809 ceciestunepipe.util.spikeextractors.preprocess INFO     getting extractors\n",
      "2022-03-26 00:59:34,853 ceciestunepipe.util.spikeextractors.preprocess INFO     Got sglx recordings for keys ['nidq']\n",
      "2022-03-26 00:59:34,853 ceciestunepipe.util.spikeextractors.preprocess INFO     Getting microphone channel(s) ['microphone_0', 'pressure']\n",
      "2022-03-26 00:59:46,507 ceciestunepipe.util.wavutil INFO     sampling rate 40000\n",
      "2022-03-26 00:59:46,507 ceciestunepipe.util.wavutil INFO     saving (2, 568513433)-shaped array as wav in /mnt/sphere/speech_bci/derived_data/s_b1267_22/2022-03-25/sglx/1652_g0/wav_mic.wav\n",
      "2022-03-26 00:59:53,134 ceciestunepipe.util.wavutil INFO     saving (2, 568513433)-shaped array as npy in /mnt/sphere/speech_bci/derived_data/s_b1267_22/2022-03-25/sglx/1652_g0/wav_mic.npy\n",
      "2022-03-26 00:59:56,335 ceciestunepipe.util.spikeextractors.preprocess INFO     Getting sync channel(s) from nidaq streams: ['sync']\n",
      "2022-03-26 00:59:56,336 ceciestunepipe.util.spikeextractors.extractors.spikeglxrecordingextractor.spikeglxrecordingextractor INFO     getting ttl traces, chan range(0, 7)\n",
      "2022-03-26 01:00:35,536 ceciestunepipe.util.wavutil INFO     sampling rate 40000\n",
      "2022-03-26 01:00:35,539 ceciestunepipe.util.wavutil INFO     saving (1, 568513433)-shaped array as wav in /mnt/sphere/speech_bci/derived_data/s_b1267_22/2022-03-25/sglx/1652_g0/wav_sync.wav\n",
      "2022-03-26 01:00:37,206 ceciestunepipe.util.wavutil INFO     saving (1, 568513433)-shaped array as npy in /mnt/sphere/speech_bci/derived_data/s_b1267_22/2022-03-25/sglx/1652_g0/wav_sync.npy\n",
      "2022-03-26 01:00:38,812 ceciestunepipe.util.spikeextractors.preprocess INFO     Getting sync events from the wav sync channel\n",
      "2022-03-26 01:00:42,209 ceciestunepipe.util.spikeextractors.preprocess INFO     saving sync events of the wav channel to /mnt/sphere/speech_bci/derived_data/s_b1267_22/2022-03-25/sglx/1652_g0/wav_sync_evt.npy\n",
      "2022-03-26 01:00:42,213 ceciestunepipe.util.spikeextractors.preprocess INFO     saving t0 for wav channel to /mnt/sphere/speech_bci/derived_data/s_b1267_22/2022-03-25/sglx/1652_g0/wav_t0.npy\n",
      "2022-03-26 01:01:37,856 ceciestunepipe.util.spikeextractors.preprocess INFO     saving sync nidaq dict to /mnt/sphere/speech_bci/derived_data/s_b1267_22/2022-03-25/sglx/1652_g0/wav_sync_dict.pkl\n",
      "2022-03-26 01:01:37,872 ceciestunepipe.util.spikeextractors.preprocess INFO     Getting sync signals for imec streams: []\n",
      "2022-03-26 01:01:37,873 ceciestunepipe.util.spikeextractors.preprocess INFO     getting syn patterns for nidq\n",
      "2022-03-26 01:01:37,874 ceciestunepipe.util.spikeextractors.preprocess INFO     File /mnt/sphere/speech_bci/derived_data/s_b1267_22/2022-03-25/sglx/1652_g0/nidq_sync_dict.pkl not found or forced computation, getting the events\n",
      "2022-03-26 01:01:37,876 ceciestunepipe.util.spikeextractors.extractors.spikeglxrecordingextractor.spikeglxrecordingextractor INFO     getting ttl events, chan 0\n",
      "2022-03-26 01:02:34,467 ceciestunepipe.util.spikeextractors.preprocess INFO     saving events array to /mnt/sphere/speech_bci/derived_data/s_b1267_22/2022-03-25/sglx/1652_g0/nidq_sync_evt.npy\n",
      "2022-03-26 01:02:34,472 ceciestunepipe.util.spikeextractors.preprocess INFO     saving t_0 array to /mnt/sphere/speech_bci/derived_data/s_b1267_22/2022-03-25/sglx/1652_g0/nidq_t0.npy\n",
      "2022-03-26 01:02:40,910 ceciestunepipe.util.spikeextractors.preprocess INFO     saving sync dict to /mnt/sphere/speech_bci/derived_data/s_b1267_22/2022-03-25/sglx/1652_g0/nidq_sync_dict.pkl\n",
      "2022-03-26 01:02:40,919 ceciestunepipe.util.spikeextractors.preprocess INFO     loading syn_dict from /mnt/sphere/speech_bci/derived_data/s_b1267_22/2022-03-25/sglx/1652_g0/nidq_sync_dict.pkl\n",
      "2022-03-26 01:02:40,924 ceciestunepipe.util.spikeextractors.preprocess INFO     getting syn patterns for wav\n",
      "2022-03-26 01:02:40,925 ceciestunepipe.util.spikeextractors.preprocess INFO     loading syn_dict from /mnt/sphere/speech_bci/derived_data/s_b1267_22/2022-03-25/sglx/1652_g0/wav_sync_dict.pkl\n"
     ]
    }
   ],
   "source": [
    "### sequentially process all runs of the sessions\n",
    "def preprocess_session(sess_par: dict):\n",
    "    logger.info('pre-process all runs of sess ' + sess_par['sess'])\n",
    "    # get exp struct\n",
    "    sess_struct = et.get_exp_struct(sess_par['bird'], sess_par['sess'], sort=sess_par['sort'])\n",
    "    # list the epochs\n",
    "    sess_epochs = et.list_sgl_epochs(sess_par)\n",
    "    logger.info('found epochs: {}'.format(sess_epochs))\n",
    "    # preprocess all epochs\n",
    "    epoch_dict_list = []\n",
    "    for i_ep, epoch in enumerate(sess_epochs):\n",
    "        try:\n",
    "            exp_struct = et.sgl_struct(sess_par, epoch)\n",
    "            one_epoch_dict = pre.preprocess_run(sess_par, exp_struct, epoch)\n",
    "            epoch_dict_list.append(one_epoch_dict)\n",
    "        except Exception as exc:\n",
    "            warnings.warn('Error in epoch {}'.format(epoch), UserWarning)\n",
    "            logger.info(traceback.format_exc)\n",
    "            logger.info(exc)\n",
    "            logger.info('Session {} epoch {} could not be preprocessed'.format(sess_par['sess'], epoch))\n",
    "        \n",
    "    return epoch_dict_list\n",
    "\n",
    "all_epoch_list = preprocess_session(sess_par)"
   ]
  },
  {
   "cell_type": "markdown",
   "metadata": {},
   "source": [
    "## Process multiple sessions"
   ]
  },
  {
   "cell_type": "code",
   "execution_count": 18,
   "metadata": {},
   "outputs": [
    {
     "name": "stdout",
     "output_type": "stream",
     "text": [
      "/mnt/sphere/speech_bci/derived_data/s_b1585_22/2022-03-14/sglx/1502_g0/wav_sync_dict.pkl\r\n"
     ]
    }
   ],
   "source": [
    "! ls /mnt/sphere/speech_bci/derived_data/s_b1585_22/2022-03-14/sglx/1502_g0/wav_sync_dict.pkl"
   ]
  },
  {
   "cell_type": "code",
   "execution_count": 19,
   "metadata": {},
   "outputs": [
    {
     "name": "stdout",
     "output_type": "stream",
     "text": [
      "ls: cannot access '/mnt/sphere/speech_bci/derived_data/s_b1585_22/2022-03-14/sglx/1502_g0/nidq_sync_dict.pkl': No such file or directory\r\n"
     ]
    }
   ],
   "source": [
    "!ls /mnt/sphere/speech_bci/derived_data/s_b1585_22/2022-03-14/sglx/1502_g0/nidq_sync_dict.pkl"
   ]
  },
  {
   "cell_type": "code",
   "execution_count": 9,
   "metadata": {
    "tags": []
   },
   "outputs": [],
   "source": [
    "sess_list = all_bird_sess\n",
    "# fist implant, right hemisphere\n",
    "#sess_list = ['2021-06-24', '2021-06-25', '2021-06-26', '2021-06-27', '2021-06-28', '2021-06-29', '2021-06-30']\n",
    "sess_list = ['2022-03-28', # RH RA\n",
    "            ] #LH NCM"
   ]
  },
  {
   "cell_type": "code",
   "execution_count": 19,
   "metadata": {
    "tags": []
   },
   "outputs": [
    {
     "name": "stderr",
     "output_type": "stream",
     "text": [
      "2022-03-26 01:03:32,280 root         INFO     pre-process all runs of sess 2022-03-25\n",
      "2022-03-26 01:03:32,281 ceciestunepipe.file.bcistructure INFO     {'folders': {'bird': '/mnt/sphere/speech_bci/raw_data/s_b1267_22', 'raw': '/mnt/sphere/speech_bci/raw_data/s_b1267_22/2022-03-25', 'sglx': '/mnt/sphere/speech_bci/raw_data/s_b1267_22/2022-03-25/sglx', 'kwik': '/scratch/earneodo/s_b1267_22/sglx/kwik/2022-03-25', 'processed': '/mnt/sphere/speech_bci/processed_data/s_b1267_22/2022-03-25/sglx', 'derived': '/mnt/sphere/speech_bci/derived_data/s_b1267_22/2022-03-25/sglx', 'tmp': '/scratch/earneodo/tmp', 'msort': '/scratch/earneodo/s_b1267_22/sglx/msort/2022-03-25', 'ksort': '/scratch/earneodo/s_b1267_22/sglx/ksort/2022-03-25/2', 'sort': '/mnt/sphere/speech_bci/derived_data/s_b1267_22/2022-03-25/sglx/2'}, 'files': {'par': '/scratch/earneodo/s_b1267_22/sglx/ksort/2022-03-25/2/params.json', 'set': '/mnt/sphere/speech_bci/raw_data/s_b1267_22/2022-03-25/sglx/settings.isf', 'rig': '/mnt/sphere/speech_bci/raw_data/s_b1267_22/2022-03-25/sglx/rig.json', 'kwd': '/scratch/earneodo/s_b1267_22/sglx/kwik/2022-03-25/stream.kwd', 'kwik': '/scratch/earneodo/s_b1267_22/sglx/kwik/2022-03-25/sort_2/spikes.kwik', 'kwe': '/scratch/earneodo/s_b1267_22/sglx/kwik/2022-03-25/events.kwe', 'dat_mic': '/mnt/sphere/speech_bci/processed_data/s_b1267_22/2022-03-25/sglx/dat_mic.mat', 'dat_ap': '/mnt/sphere/speech_bci/processed_data/s_b1267_22/2022-03-25/sglx/dat_ap.mat', 'allevents': '/mnt/sphere/speech_bci/processed_data/s_b1267_22/2022-03-25/sglx/dat_all.pkl', 'wav_mic': '/mnt/sphere/speech_bci/derived_data/s_b1267_22/2022-03-25/sglx/wav_mic.wav', 'mda_raw': '/scratch/earneodo/s_b1267_22/sglx/msort/2022-03-25/raw.mda', 'bin_raw': '/scratch/earneodo/s_b1267_22/sglx/ksort/2022-03-25/2/raw.bin'}}\n",
      "2022-03-26 01:03:32,302 root         INFO     found epochs: ['0807_g0', '1136_g0', '1652_g0']\n",
      "2022-03-26 01:03:32,303 ceciestunepipe.util.spikeextractors.preprocess INFO     PREPROCESSING sess 2022-03-25 | epoch 0807_g0\n",
      "2022-03-26 01:03:32,304 ceciestunepipe.util.spikeextractors.preprocess INFO     getting extractors\n",
      "2022-03-26 01:03:32,326 ceciestunepipe.util.spikeextractors.preprocess INFO     Got sglx recordings for keys ['nidq']\n",
      "2022-03-26 01:03:32,327 ceciestunepipe.util.spikeextractors.preprocess INFO     Getting microphone channel(s) ['microphone_0', 'pressure']\n",
      "2022-03-26 01:03:37,345 ceciestunepipe.util.wavutil INFO     sampling rate 40000\n",
      "2022-03-26 01:03:37,346 ceciestunepipe.util.wavutil INFO     saving (2, 500963328)-shaped array as wav in /mnt/sphere/speech_bci/derived_data/s_b1267_22/2022-03-25/sglx/0807_g0/wav_mic.wav\n",
      "2022-03-26 01:03:43,137 ceciestunepipe.util.wavutil INFO     saving (2, 500963328)-shaped array as npy in /mnt/sphere/speech_bci/derived_data/s_b1267_22/2022-03-25/sglx/0807_g0/wav_mic.npy\n",
      "2022-03-26 01:03:45,967 ceciestunepipe.util.spikeextractors.preprocess INFO     Getting sync channel(s) from nidaq streams: ['sync']\n",
      "2022-03-26 01:03:45,968 ceciestunepipe.util.spikeextractors.extractors.spikeglxrecordingextractor.spikeglxrecordingextractor INFO     getting ttl traces, chan range(0, 7)\n"
     ]
    },
    {
     "ename": "KeyboardInterrupt",
     "evalue": "",
     "output_type": "error",
     "traceback": [
      "\u001b[0;31m---------------------------------------------------------------------------\u001b[0m",
      "\u001b[0;31mKeyboardInterrupt\u001b[0m                         Traceback (most recent call last)",
      "\u001b[0;32m<ipython-input-19-24ec6a1b76da>\u001b[0m in \u001b[0;36m<module>\u001b[0;34m\u001b[0m\n\u001b[1;32m      3\u001b[0m \u001b[0;32mfor\u001b[0m \u001b[0mone_sess\u001b[0m \u001b[0;32min\u001b[0m \u001b[0msess_list\u001b[0m\u001b[0;34m[\u001b[0m\u001b[0;34m:\u001b[0m\u001b[0;34m]\u001b[0m\u001b[0;34m:\u001b[0m\u001b[0;34m\u001b[0m\u001b[0;34m\u001b[0m\u001b[0m\n\u001b[1;32m      4\u001b[0m     \u001b[0msess_par\u001b[0m\u001b[0;34m[\u001b[0m\u001b[0;34m'sess'\u001b[0m\u001b[0;34m]\u001b[0m \u001b[0;34m=\u001b[0m \u001b[0mone_sess\u001b[0m\u001b[0;34m\u001b[0m\u001b[0;34m\u001b[0m\u001b[0m\n\u001b[0;32m----> 5\u001b[0;31m     \u001b[0mpreprocess_session\u001b[0m\u001b[0;34m(\u001b[0m\u001b[0msess_par\u001b[0m\u001b[0;34m)\u001b[0m\u001b[0;34m\u001b[0m\u001b[0;34m\u001b[0m\u001b[0m\n\u001b[0m",
      "\u001b[0;32m<ipython-input-17-745b24e6b90f>\u001b[0m in \u001b[0;36mpreprocess_session\u001b[0;34m(sess_par)\u001b[0m\n\u001b[1;32m     12\u001b[0m         \u001b[0;32mtry\u001b[0m\u001b[0;34m:\u001b[0m\u001b[0;34m\u001b[0m\u001b[0;34m\u001b[0m\u001b[0m\n\u001b[1;32m     13\u001b[0m             \u001b[0mexp_struct\u001b[0m \u001b[0;34m=\u001b[0m \u001b[0met\u001b[0m\u001b[0;34m.\u001b[0m\u001b[0msgl_struct\u001b[0m\u001b[0;34m(\u001b[0m\u001b[0msess_par\u001b[0m\u001b[0;34m,\u001b[0m \u001b[0mepoch\u001b[0m\u001b[0;34m)\u001b[0m\u001b[0;34m\u001b[0m\u001b[0;34m\u001b[0m\u001b[0m\n\u001b[0;32m---> 14\u001b[0;31m             \u001b[0mone_epoch_dict\u001b[0m \u001b[0;34m=\u001b[0m \u001b[0mpre\u001b[0m\u001b[0;34m.\u001b[0m\u001b[0mpreprocess_run\u001b[0m\u001b[0;34m(\u001b[0m\u001b[0msess_par\u001b[0m\u001b[0;34m,\u001b[0m \u001b[0mexp_struct\u001b[0m\u001b[0;34m,\u001b[0m \u001b[0mepoch\u001b[0m\u001b[0;34m)\u001b[0m\u001b[0;34m\u001b[0m\u001b[0;34m\u001b[0m\u001b[0m\n\u001b[0m\u001b[1;32m     15\u001b[0m             \u001b[0mepoch_dict_list\u001b[0m\u001b[0;34m.\u001b[0m\u001b[0mappend\u001b[0m\u001b[0;34m(\u001b[0m\u001b[0mone_epoch_dict\u001b[0m\u001b[0;34m)\u001b[0m\u001b[0;34m\u001b[0m\u001b[0;34m\u001b[0m\u001b[0m\n\u001b[1;32m     16\u001b[0m         \u001b[0;32mexcept\u001b[0m \u001b[0mException\u001b[0m \u001b[0;32mas\u001b[0m \u001b[0mexc\u001b[0m\u001b[0;34m:\u001b[0m\u001b[0;34m\u001b[0m\u001b[0;34m\u001b[0m\u001b[0m\n",
      "\u001b[0;32m/mnt/cube/earneodo/repos/ceciestunepipe/ceciestunepipe/util/spikeextractors/preprocess.py\u001b[0m in \u001b[0;36mpreprocess_run\u001b[0;34m(sess_par, exp_struct, epoch, do_sync_to_stream)\u001b[0m\n\u001b[1;32m    226\u001b[0m     \u001b[0msync_list\u001b[0m \u001b[0;34m=\u001b[0m \u001b[0;34m[\u001b[0m\u001b[0;34m'sync'\u001b[0m\u001b[0;34m]\u001b[0m\u001b[0;34m\u001b[0m\u001b[0;34m\u001b[0m\u001b[0m\n\u001b[1;32m    227\u001b[0m     \u001b[0mlogger\u001b[0m\u001b[0;34m.\u001b[0m\u001b[0minfo\u001b[0m\u001b[0;34m(\u001b[0m\u001b[0;34m'Getting sync channel(s) from nidaq streams: {}'\u001b[0m\u001b[0;34m.\u001b[0m\u001b[0mformat\u001b[0m\u001b[0;34m(\u001b[0m\u001b[0msync_list\u001b[0m\u001b[0;34m)\u001b[0m\u001b[0;34m)\u001b[0m\u001b[0;34m\u001b[0m\u001b[0;34m\u001b[0m\u001b[0m\n\u001b[0;32m--> 228\u001b[0;31m     \u001b[0msync_stream\u001b[0m \u001b[0;34m=\u001b[0m \u001b[0mextract_nidq_channels\u001b[0m\u001b[0;34m(\u001b[0m\u001b[0msess_par\u001b[0m\u001b[0;34m,\u001b[0m \u001b[0mrun_recs_dict\u001b[0m\u001b[0;34m,\u001b[0m \u001b[0mrig_dict\u001b[0m\u001b[0;34m,\u001b[0m \u001b[0msync_list\u001b[0m\u001b[0;34m,\u001b[0m \u001b[0mchan_type\u001b[0m\u001b[0;34m=\u001b[0m\u001b[0;34m'ttl'\u001b[0m\u001b[0;34m)\u001b[0m\u001b[0;34m\u001b[0m\u001b[0;34m\u001b[0m\u001b[0m\n\u001b[0m\u001b[1;32m    229\u001b[0m     \u001b[0msync_file_path\u001b[0m \u001b[0;34m=\u001b[0m \u001b[0mos\u001b[0m\u001b[0;34m.\u001b[0m\u001b[0mpath\u001b[0m\u001b[0;34m.\u001b[0m\u001b[0mjoin\u001b[0m\u001b[0;34m(\u001b[0m\u001b[0msgl_exp_struct\u001b[0m\u001b[0;34m[\u001b[0m\u001b[0;34m'folders'\u001b[0m\u001b[0;34m]\u001b[0m\u001b[0;34m[\u001b[0m\u001b[0;34m'derived'\u001b[0m\u001b[0;34m]\u001b[0m\u001b[0;34m,\u001b[0m \u001b[0;34m'wav_sync.wav'\u001b[0m\u001b[0;34m)\u001b[0m\u001b[0;34m\u001b[0m\u001b[0;34m\u001b[0m\u001b[0m\n\u001b[1;32m    230\u001b[0m     \u001b[0mwav_s_f\u001b[0m \u001b[0;34m=\u001b[0m \u001b[0mwu\u001b[0m\u001b[0;34m.\u001b[0m\u001b[0msave_wav\u001b[0m\u001b[0;34m(\u001b[0m\u001b[0msync_stream\u001b[0m\u001b[0;34m,\u001b[0m \u001b[0mnidq_s_f\u001b[0m\u001b[0;34m,\u001b[0m \u001b[0msync_file_path\u001b[0m\u001b[0;34m)\u001b[0m\u001b[0;34m\u001b[0m\u001b[0;34m\u001b[0m\u001b[0m\n",
      "\u001b[0;32m/mnt/cube/earneodo/repos/ceciestunepipe/ceciestunepipe/util/spikeextractors/preprocess.py\u001b[0m in \u001b[0;36mextract_nidq_channels\u001b[0;34m(sess_par, run_recs_dict, rig_dict, chan_name_list, chan_type)\u001b[0m\n\u001b[1;32m     45\u001b[0m         \u001b[0mstream\u001b[0m \u001b[0;34m=\u001b[0m \u001b[0mrun_recs_dict\u001b[0m\u001b[0;34m[\u001b[0m\u001b[0;34m'nidq'\u001b[0m\u001b[0;34m]\u001b[0m\u001b[0;34m.\u001b[0m\u001b[0mget_traces\u001b[0m\u001b[0;34m(\u001b[0m\u001b[0mchannel_ids\u001b[0m\u001b[0;34m=\u001b[0m\u001b[0mchan_n_list\u001b[0m\u001b[0;34m)\u001b[0m\u001b[0;34m\u001b[0m\u001b[0;34m\u001b[0m\u001b[0m\n\u001b[1;32m     46\u001b[0m     \u001b[0;32melif\u001b[0m \u001b[0mchan_type\u001b[0m\u001b[0;34m==\u001b[0m\u001b[0;34m'ttl'\u001b[0m\u001b[0;34m:\u001b[0m\u001b[0;34m\u001b[0m\u001b[0;34m\u001b[0m\u001b[0m\n\u001b[0;32m---> 47\u001b[0;31m         \u001b[0mstream\u001b[0m \u001b[0;34m=\u001b[0m \u001b[0mrun_recs_dict\u001b[0m\u001b[0;34m[\u001b[0m\u001b[0;34m'nidq'\u001b[0m\u001b[0;34m]\u001b[0m\u001b[0;34m.\u001b[0m\u001b[0mget_ttl_traces\u001b[0m\u001b[0;34m(\u001b[0m\u001b[0;34m)\u001b[0m\u001b[0;34m[\u001b[0m\u001b[0mchan_n_list\u001b[0m\u001b[0;34m,\u001b[0m \u001b[0;34m:\u001b[0m\u001b[0;34m]\u001b[0m\u001b[0;34m\u001b[0m\u001b[0;34m\u001b[0m\u001b[0m\n\u001b[0m\u001b[1;32m     48\u001b[0m     \u001b[0;32melse\u001b[0m\u001b[0;34m:\u001b[0m\u001b[0;34m\u001b[0m\u001b[0;34m\u001b[0m\u001b[0m\n\u001b[1;32m     49\u001b[0m         \u001b[0;32mraise\u001b[0m \u001b[0mNotImplementedError\u001b[0m\u001b[0;34m(\u001b[0m\u001b[0;34m'dont know how to deal with {} channels'\u001b[0m\u001b[0;34m.\u001b[0m\u001b[0mformat\u001b[0m\u001b[0;34m(\u001b[0m\u001b[0mchan_type\u001b[0m\u001b[0;34m)\u001b[0m\u001b[0;34m)\u001b[0m\u001b[0;34m\u001b[0m\u001b[0;34m\u001b[0m\u001b[0m\n",
      "\u001b[0;32m/mnt/cube/earneodo/repos/ceciestunepipe/ceciestunepipe/util/spikeextractors/extractors/spikeglxrecordingextractor/spikeglxrecordingextractor.py\u001b[0m in \u001b[0;36mget_ttl_traces\u001b[0;34m(self, start_frame, end_frame, channel_list)\u001b[0m\n\u001b[1;32m    203\u001b[0m             \u001b[0mn_samples\u001b[0m \u001b[0;34m=\u001b[0m \u001b[0mself\u001b[0m\u001b[0;34m.\u001b[0m\u001b[0mget_traces\u001b[0m\u001b[0;34m(\u001b[0m\u001b[0;34m)\u001b[0m\u001b[0;34m.\u001b[0m\u001b[0mshape\u001b[0m\u001b[0;34m[\u001b[0m\u001b[0;34m-\u001b[0m\u001b[0;36m1\u001b[0m\u001b[0;34m]\u001b[0m\u001b[0;34m\u001b[0m\u001b[0;34m\u001b[0m\u001b[0m\n\u001b[1;32m    204\u001b[0m \u001b[0;34m\u001b[0m\u001b[0m\n\u001b[0;32m--> 205\u001b[0;31m             dig = ExtractDigital(self._raw, firstSamp=0, lastSamp=n_samples, dwReq=dw, dLineList=channel_list,\n\u001b[0m\u001b[1;32m    206\u001b[0m                              meta=self._meta)\n\u001b[1;32m    207\u001b[0m             \u001b[0mself\u001b[0m\u001b[0;34m.\u001b[0m\u001b[0m_dig\u001b[0m \u001b[0;34m=\u001b[0m \u001b[0mnp\u001b[0m\u001b[0;34m.\u001b[0m\u001b[0msqueeze\u001b[0m\u001b[0;34m(\u001b[0m\u001b[0mdig\u001b[0m\u001b[0;34m)\u001b[0m\u001b[0;34m.\u001b[0m\u001b[0mastype\u001b[0m\u001b[0;34m(\u001b[0m\u001b[0mnp\u001b[0m\u001b[0;34m.\u001b[0m\u001b[0mshort\u001b[0m\u001b[0;34m)\u001b[0m\u001b[0;34m\u001b[0m\u001b[0;34m\u001b[0m\u001b[0m\n",
      "\u001b[0;32m/mnt/cube/earneodo/repos/ceciestunepipe/ceciestunepipe/util/spikeextractors/extractors/spikeglxrecordingextractor/readSGLX.py\u001b[0m in \u001b[0;36mExtractDigital\u001b[0;34m(rawData, firstSamp, lastSamp, dwReq, dLineList, meta)\u001b[0m\n\u001b[1;32m    270\u001b[0m             \u001b[0;31m# unpack bits of selectData; unpack bits works with uint8\u001b[0m\u001b[0;34m\u001b[0m\u001b[0;34m\u001b[0m\u001b[0;34m\u001b[0m\u001b[0m\n\u001b[1;32m    271\u001b[0m             \u001b[0;31m# origintal data is int16\u001b[0m\u001b[0;34m\u001b[0m\u001b[0;34m\u001b[0m\u001b[0;34m\u001b[0m\u001b[0m\n\u001b[0;32m--> 272\u001b[0;31m             \u001b[0mbitWiseData\u001b[0m \u001b[0;34m=\u001b[0m \u001b[0mnp\u001b[0m\u001b[0;34m.\u001b[0m\u001b[0munpackbits\u001b[0m\u001b[0;34m(\u001b[0m\u001b[0mselectData\u001b[0m\u001b[0;34m.\u001b[0m\u001b[0mview\u001b[0m\u001b[0;34m(\u001b[0m\u001b[0mdtype\u001b[0m\u001b[0;34m=\u001b[0m\u001b[0;34m'uint8'\u001b[0m\u001b[0;34m)\u001b[0m\u001b[0;34m)\u001b[0m\u001b[0;34m\u001b[0m\u001b[0;34m\u001b[0m\u001b[0m\n\u001b[0m\u001b[1;32m    273\u001b[0m             \u001b[0;31m# output is 1-D array, nSamp*16. Reshape and transpose\u001b[0m\u001b[0;34m\u001b[0m\u001b[0;34m\u001b[0m\u001b[0;34m\u001b[0m\u001b[0m\n\u001b[1;32m    274\u001b[0m             \u001b[0mbitWiseData\u001b[0m \u001b[0;34m=\u001b[0m \u001b[0mnp\u001b[0m\u001b[0;34m.\u001b[0m\u001b[0mtranspose\u001b[0m\u001b[0;34m(\u001b[0m\u001b[0mnp\u001b[0m\u001b[0;34m.\u001b[0m\u001b[0mreshape\u001b[0m\u001b[0;34m(\u001b[0m\u001b[0mbitWiseData\u001b[0m\u001b[0;34m,\u001b[0m \u001b[0;34m(\u001b[0m\u001b[0mnSamp\u001b[0m\u001b[0;34m,\u001b[0m \u001b[0;36m16\u001b[0m\u001b[0;34m)\u001b[0m\u001b[0;34m)\u001b[0m\u001b[0;34m)\u001b[0m\u001b[0;34m\u001b[0m\u001b[0;34m\u001b[0m\u001b[0m\n",
      "\u001b[0;32m<__array_function__ internals>\u001b[0m in \u001b[0;36munpackbits\u001b[0;34m(*args, **kwargs)\u001b[0m\n",
      "\u001b[0;31mKeyboardInterrupt\u001b[0m: "
     ]
    }
   ],
   "source": [
    "all_sess_dict = {}\n",
    "\n",
    "for one_sess in sess_list[:]:\n",
    "    sess_par['sess'] = one_sess\n",
    "    preprocess_session(sess_par)"
   ]
  },
  {
   "cell_type": "code",
   "execution_count": 20,
   "metadata": {},
   "outputs": [
    {
     "data": {
      "text/plain": [
       "{'bird': 's_b1267_22',\n",
       " 'sess': '2022-03-25',\n",
       " 'probes': [],\n",
       " 'mic_list': ['microphone_0', 'pressure'],\n",
       " 'stim_list': [],\n",
       " 'nidq_ttl_list': [],\n",
       " 'sort': 2}"
      ]
     },
     "execution_count": 20,
     "metadata": {},
     "output_type": "execute_result"
    }
   ],
   "source": [
    "sess_par"
   ]
  },
  {
   "cell_type": "code",
   "execution_count": 21,
   "metadata": {},
   "outputs": [],
   "source": [
    "# Search bouts"
   ]
  },
  {
   "cell_type": "markdown",
   "metadata": {},
   "source": [
    "## search bouts for those sessions"
   ]
  },
  {
   "cell_type": "code",
   "execution_count": 10,
   "metadata": {},
   "outputs": [],
   "source": [
    "from ceciestunepipe.util.sound import boutsearch as bs\n",
    "from ceciestunepipe.pipeline import searchbout as sb\n",
    "\n",
    "from ceciestunepipe.util import wavutil as wu\n",
    "\n",
    "from joblib import Parallel, delayed\n",
    "import pickle\n",
    "import sys"
   ]
  },
  {
   "cell_type": "code",
   "execution_count": 11,
   "metadata": {},
   "outputs": [],
   "source": [
    "def sess_file_id(f_path):\n",
    "    n = int(os.path.split(f_path)[1].split('-')[-1].split('.wav')[0])\n",
    "    return n\n",
    "\n",
    "\n",
    "def get_all_day_bouts(sess_par: dict, hparams:dict, n_jobs: int=12, ephys_software='sglx', \n",
    "                     parallel=True) -> pd.DataFrame:\n",
    "    \n",
    "    logger.info('Will search for bouts through all session {}, {}'.format(sess_par['bird'], sess_par['sess']))\n",
    "    exp_struct = et.get_exp_struct(sess_par['bird'], sess_par['sess'], ephys_software=ephys_software)\n",
    "\n",
    "    # get all the paths to the wav files of the epochs of the day   \n",
    "    source_folder = exp_struct['folders']['derived']\n",
    "    wav_path_list = et.get_sgl_files_epochs(source_folder, file_filter='*wav_mic.wav')\n",
    "    wav_path_list.sort()\n",
    "    logger.info('Found {} files'.format(len(wav_path_list)))\n",
    "    print(wav_path_list)\n",
    "    \n",
    "    get_file_bouts = lambda path: bs.get_epoch_bouts(path, hparams)\n",
    "    # Go parallel through all the paths in the day, get a list of all the pandas dataframes for each file\n",
    "    if parallel:\n",
    "        sess_pd_list = Parallel(n_jobs=n_jobs, verbose=100, prefer='threads')(delayed(get_file_bouts)(i) for i in wav_path_list)\n",
    "    else:\n",
    "        sess_pd_list = [get_file_bouts(i) for i in wav_path_list]\n",
    "    \n",
    "    #concatenate the file and return it, eventually write to a pickle\n",
    "    sess_bout_pd = pd.concat(sess_pd_list)\n",
    "    return sess_bout_pd\n",
    "\n",
    "def save_auto_bouts(sess_bout_pd, sess_par, hparams):\n",
    "    exp_struct = et.get_exp_struct(sess_par['bird'], sess_par['sess'], ephys_software='bouts_sglx')\n",
    "    #sess_bouts_dir = os.path.join(exp_struct['folders']['derived'], 'bouts_ceciestunepipe')\n",
    "    sess_bouts_dir = exp_struct['folders']['derived']\n",
    "\n",
    "    sess_bouts_path = os.path.join(sess_bouts_dir, hparams['bout_auto_file'])\n",
    "    hparams_pickle_path = os.path.join(sess_bouts_dir, 'bout_search_params.pickle')\n",
    "\n",
    "    os.makedirs(sess_bouts_dir, exist_ok=True, mode=0o777)\n",
    "    logger.info('saving bouts pandas to ' + sess_bouts_path)\n",
    "    sess_bout_pd.to_pickle(sess_bouts_path)\n",
    "\n",
    "    logger.info('saving bout detect parameters dict to ' + hparams_pickle_path)\n",
    "    with open(hparams_pickle_path, 'wb') as fh:\n",
    "        pickle.dump(hparams, fh)"
   ]
  },
  {
   "cell_type": "code",
   "execution_count": 12,
   "metadata": {},
   "outputs": [],
   "source": [
    "hparams = {\n",
    "    # spectrogram\n",
    "    'num_freq':1024, #1024# how many channels to use in a spectrogram #\n",
    "    'preemphasis':0.97, \n",
    "    'frame_shift_ms':5, # step size for fft\n",
    "    'frame_length_ms':10, #128 # frame length for fft FRAME SAMPLES < NUM_FREQ!!!\n",
    "    'min_level_db':-55, # minimum threshold db for computing spe \n",
    "    'ref_level_db':110, # reference db for computing spec\n",
    "    #'sample_rate':None, # sample rate of your data\n",
    "    \n",
    "    # spectrograms\n",
    "    'mel_filter': False, # should a mel filter be used?\n",
    "    'num_mels':1024, # how many channels to use in the mel-spectrogram\n",
    "    'fmin': 500, # low frequency cutoff for mel filter\n",
    "    'fmax': 12000, # high frequency cutoff for mel filter\n",
    "    \n",
    "    # spectrogram inversion\n",
    "    'max_iters':200,\n",
    "    'griffin_lim_iters':20,\n",
    "    'power':1.5,\n",
    "\n",
    "    # Added for the searching\n",
    "    'read_wav_fun': wu.read_wav_chan, # function for loading the wav_like_stream (has to returns fs, ndarray)\n",
    "    'file_order_fun': sess_file_id, # function for extracting the file id within the session\n",
    "    'min_segment': 30, # Minimum length of supra_threshold to consider a 'syllable' (ms)\n",
    "    'min_silence': 2000, # Minmum distance between groups of syllables to consider separate bouts (ms)\n",
    "    'min_bout': 5000, # min bout duration (ms)\n",
    "    'peak_thresh_rms': 0.55, # threshold (rms) for peak acceptance,\n",
    "    'thresh_rms': 0.25, # threshold for detection of syllables\n",
    "    'mean_syl_rms_thresh': 0.3, #threshold for acceptance of mean rms across the syllable (relative to rms of the file)\n",
    "    'max_bout': 120000, #exclude bouts too long\n",
    "    'l_p_r_thresh': 100, # threshold for n of len_ms/peaks (typycally about 2-3 syllable spans\n",
    "    \n",
    "    'waveform_edges': 1000, #get number of ms before and after the edges of the bout for the waveform sample\n",
    "    \n",
    "    'bout_auto_file': 'bout_auto.pickle', # extension for saving the auto found files\n",
    "    'bout_curated_file': 'bout_checked.pickle', #extension for manually curated files (coming soon)\n",
    "    }"
   ]
  },
  {
   "cell_type": "code",
   "execution_count": 13,
   "metadata": {},
   "outputs": [
    {
     "data": {
      "text/plain": [
       "['2022-03-28']"
      ]
     },
     "execution_count": 13,
     "metadata": {},
     "output_type": "execute_result"
    }
   ],
   "source": [
    "sess_list"
   ]
  },
  {
   "cell_type": "code",
   "execution_count": null,
   "metadata": {},
   "outputs": [],
   "source": []
  },
  {
   "cell_type": "code",
   "execution_count": 14,
   "metadata": {
    "tags": []
   },
   "outputs": [
    {
     "name": "stderr",
     "output_type": "stream",
     "text": [
      "2022-03-28 19:43:10,733 root         INFO     Will search for bouts through all session s_b1267_22, 2022-03-28\n",
      "2022-03-28 19:43:10,756 root         INFO     Found 1 files\n",
      "2022-03-28 19:43:10,765 ceciestunepipe.util.sound.boutsearch INFO     Getting bouts for long file /mnt/sphere/speech_bci/derived_data/s_b1267_22/2022-03-28/sglx/1343_g0/wav_mic.wav\n"
     ]
    },
    {
     "name": "stdout",
     "output_type": "stream",
     "text": [
      "['/mnt/sphere/speech_bci/derived_data/s_b1267_22/2022-03-28/sglx/1343_g0/wav_mic.wav']\n",
      "[Parallel(n_jobs=6)]: Using backend ThreadingBackend with 6 concurrent workers.\n"
     ]
    },
    {
     "name": "stderr",
     "output_type": "stream",
     "text": [
      "2022-03-28 19:43:10,838 ceciestunepipe.util.sound.boutsearch INFO     splitting file into 4 chunks\n"
     ]
    },
    {
     "data": {
      "application/vnd.jupyter.widget-view+json": {
       "model_id": "6b5f04ee5d4c4b70bc0bb6523eab61bd",
       "version_major": 2,
       "version_minor": 0
      },
      "text/plain": [
       "  0%|          | 0/4 [00:00<?, ?it/s]"
      ]
     },
     "metadata": {},
     "output_type": "display_data"
    },
    {
     "name": "stderr",
     "output_type": "stream",
     "text": [
      "2022-03-28 19:46:33,706 ceciestunepipe.util.sound.boutsearch INFO     saving bout detect parameters dict to /mnt/sphere/speech_bci/derived_data/s_b1267_22/2022-03-28/sglx/1343_g0/bout_search_params.pickle\n",
      "2022-03-28 19:46:33,710 ceciestunepipe.util.sound.boutsearch INFO     saving bouts pandas to /mnt/sphere/speech_bci/derived_data/s_b1267_22/2022-03-28/sglx/1343_g0/bout_auto.pickle\n",
      "2022-03-28 19:46:33,878 root         INFO     saving bouts pandas to /mnt/sphere/speech_bci/derived_data/s_b1267_22/2022-03-28/bouts_sglx/bout_auto.pickle\n",
      "2022-03-28 19:46:34,006 root         INFO     saving bout detect parameters dict to /mnt/sphere/speech_bci/derived_data/s_b1267_22/2022-03-28/bouts_sglx/bout_search_params.pickle\n"
     ]
    },
    {
     "name": "stdout",
     "output_type": "stream",
     "text": [
      "[Parallel(n_jobs=6)]: Done   1 tasks      | elapsed:  3.4min\n",
      "[Parallel(n_jobs=6)]: Done   1 out of   1 | elapsed:  3.4min finished\n"
     ]
    }
   ],
   "source": [
    "all_sessions = sess_list[:]\n",
    "#all_sessions = ['2021-06-15']\n",
    "\n",
    "for sess in all_sessions:\n",
    "    sess_par['sess'] = sess\n",
    "    sess_bout_pd = get_all_day_bouts(sess_par, hparams, ephys_software='sglx', n_jobs=6)\n",
    "    save_auto_bouts(sess_bout_pd, sess_par, hparams)\n",
    "    #sess_bouts_folder = os.path.join(exp_struct['folders']['derived'], 'bouts')\n",
    "    #bouts_to_wavs(sess_bout_pd, sess_par, hparams, sess_bouts_folder)"
   ]
  },
  {
   "cell_type": "code",
   "execution_count": 15,
   "metadata": {},
   "outputs": [
    {
     "name": "stdout",
     "output_type": "stream",
     "text": [
      "<class 'pandas.core.frame.DataFrame'>\n",
      "RangeIndex: 49 entries, 0 to 48\n",
      "Data columns (total 17 columns):\n",
      " #   Column        Non-Null Count  Dtype  \n",
      "---  ------        --------------  -----  \n",
      " 0   start_ms      49 non-null     int64  \n",
      " 1   end_ms        49 non-null     int64  \n",
      " 2   start_sample  49 non-null     int64  \n",
      " 3   end_sample    49 non-null     int64  \n",
      " 4   p_step        49 non-null     object \n",
      " 5   rms_p         49 non-null     float64\n",
      " 6   peak_p        49 non-null     float64\n",
      " 7   bout_check    49 non-null     bool   \n",
      " 8   file          49 non-null     object \n",
      " 9   len_ms        49 non-null     int64  \n",
      " 10  syl_in        49 non-null     object \n",
      " 11  n_syl         49 non-null     int64  \n",
      " 12  peaks_p       49 non-null     object \n",
      " 13  n_peaks       49 non-null     int64  \n",
      " 14  l_p_ratio     49 non-null     float64\n",
      " 15  waveform      49 non-null     object \n",
      " 16  confusing     49 non-null     bool   \n",
      "dtypes: bool(2), float64(3), int64(7), object(5)\n",
      "memory usage: 6.0+ KB\n"
     ]
    }
   ],
   "source": [
    "sess_bout_pd.info()"
   ]
  },
  {
   "cell_type": "code",
   "execution_count": 16,
   "metadata": {},
   "outputs": [
    {
     "data": {
      "text/plain": [
       "49"
      ]
     },
     "execution_count": 16,
     "metadata": {},
     "output_type": "execute_result"
    }
   ],
   "source": [
    "np.unique(sess_bout_pd['start_ms']).size"
   ]
  },
  {
   "cell_type": "markdown",
   "metadata": {},
   "source": [
    "# debug"
   ]
  },
  {
   "cell_type": "markdown",
   "metadata": {},
   "source": [
    "## debug search_bout"
   ]
  },
  {
   "cell_type": "code",
   "execution_count": 21,
   "metadata": {},
   "outputs": [
    {
     "name": "stderr",
     "output_type": "stream",
     "text": [
      "2021-09-22 15:13:39,371 root         INFO     Found 4 files\n"
     ]
    },
    {
     "name": "stdout",
     "output_type": "stream",
     "text": [
      "['/mnt/sphere/speech_bci/derived_data/s_b1253_21/2021-06-14/sglx/0712_g0/wav_mic.wav', '/mnt/sphere/speech_bci/derived_data/s_b1253_21/2021-06-14/sglx/1255_g0/wav_mic.wav', '/mnt/sphere/speech_bci/derived_data/s_b1253_21/2021-06-14/sglx/1740_g0/wav_mic.wav', '/mnt/sphere/speech_bci/derived_data/s_b1253_21/2021-06-14/sglx/2118_g0/wav_mic.wav']\n"
     ]
    }
   ],
   "source": [
    "## look for a single file\n",
    "sess = sess_list[0]\n",
    "\n",
    "exp_struct = et.get_exp_struct(sess_par['bird'], sess, ephys_software='sglx')\n",
    "source_folder = exp_struct['folders']['derived']\n",
    "wav_path_list = et.get_sgl_files_epochs(source_folder, file_filter='*wav_mic.wav')\n",
    "wav_path_list.sort()\n",
    "logger.info('Found {} files'.format(len(wav_path_list)))\n",
    "print(wav_path_list)"
   ]
  },
  {
   "cell_type": "code",
   "execution_count": 22,
   "metadata": {},
   "outputs": [],
   "source": [
    "one_file = wav_path_list[0]"
   ]
  },
  {
   "cell_type": "code",
   "execution_count": null,
   "metadata": {},
   "outputs": [
    {
     "name": "stderr",
     "output_type": "stream",
     "text": [
      "2021-09-22 15:13:45,924 ceciestunepipe.util.sound.boutsearch INFO     Getting bouts for long file /mnt/sphere/speech_bci/derived_data/s_b1253_21/2021-06-14/sglx/0712_g0/wav_mic.wav\n"
     ]
    },
    {
     "name": "stdout",
     "output_type": "stream",
     "text": [
      "tu vieja file /mnt/sphere/speech_bci/derived_data/s_b1253_21/2021-06-14/sglx/0712_g0/wav_mic.wav\n"
     ]
    },
    {
     "name": "stderr",
     "output_type": "stream",
     "text": [
      "2021-09-22 15:13:45,962 ceciestunepipe.util.sound.boutsearch INFO     splitting file into 5 chunks\n"
     ]
    },
    {
     "data": {
      "application/vnd.jupyter.widget-view+json": {
       "model_id": "2ee46791b8cc495dae356f151c0a45d0",
       "version_major": 2,
       "version_minor": 0
      },
      "text/plain": [
       "  0%|          | 0/5 [00:00<?, ?it/s]"
      ]
     },
     "metadata": {},
     "output_type": "display_data"
    }
   ],
   "source": [
    "reload(bs)\n",
    "epoch_bout_pd, epoch_wav = bs.get_bouts_in_long_file(wav_path_list[0], hparams)"
   ]
  },
  {
   "cell_type": "code",
   "execution_count": null,
   "metadata": {},
   "outputs": [],
   "source": []
  }
 ],
 "metadata": {
  "kernelspec": {
   "display_name": "tuputapipe",
   "language": "python",
   "name": "ceciestunepipe"
  },
  "language_info": {
   "codemirror_mode": {
    "name": "ipython",
    "version": 3
   },
   "file_extension": ".py",
   "mimetype": "text/x-python",
   "name": "python",
   "nbconvert_exporter": "python",
   "pygments_lexer": "ipython3",
   "version": "3.8.11"
  }
 },
 "nbformat": 4,
 "nbformat_minor": 4
}
