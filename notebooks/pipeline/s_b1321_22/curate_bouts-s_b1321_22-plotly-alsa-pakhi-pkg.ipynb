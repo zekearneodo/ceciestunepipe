{
 "cells": [
  {
   "cell_type": "markdown",
   "id": "4de66cc7",
   "metadata": {},
   "source": [
    "## Searching for bouts for a day of alsa recording"
   ]
  },
  {
   "cell_type": "code",
   "execution_count": 1,
   "id": "69322ea5",
   "metadata": {},
   "outputs": [
    {
     "name": "stderr",
     "output_type": "stream",
     "text": [
      "2022-12-29 10:19:03,308 root         INFO     Running on pakhi.ucsd.edu\n"
     ]
    }
   ],
   "source": [
    "import os\n",
    "import glob\n",
    "import socket\n",
    "import logging\n",
    "import pickle\n",
    "import numpy as np\n",
    "import pandas as pd\n",
    "from scipy.io import wavfile\n",
    "from scipy import signal\n",
    "\n",
    "### Fuck matplotlib, I'm using poltly now\n",
    "from plotly.subplots import make_subplots\n",
    "import plotly.graph_objects as go\n",
    "\n",
    "from importlib import reload\n",
    "\n",
    "logger = logging.getLogger()\n",
    "handler = logging.StreamHandler()\n",
    "formatter = logging.Formatter(\n",
    "        '%(asctime)s %(name)-12s %(levelname)-8s %(message)s')\n",
    "handler.setFormatter(formatter)\n",
    "logger.addHandler(handler)\n",
    "logger.setLevel(logging.INFO)\n",
    "\n",
    "logger.info('Running on {}'.format(socket.gethostname()))"
   ]
  },
  {
   "cell_type": "code",
   "execution_count": 2,
   "id": "0a9d417d",
   "metadata": {},
   "outputs": [],
   "source": [
    "from ceciestunepipe.file import bcistructure as et\n",
    "from ceciestunepipe.util.sound import boutsearch as bs\n",
    "from ceciestunepipe.pipeline import searchbout as sb"
   ]
  },
  {
   "cell_type": "markdown",
   "id": "d5002459",
   "metadata": {},
   "source": [
    "### Get the file locations for a session (day) of recordings"
   ]
  },
  {
   "cell_type": "code",
   "execution_count": 22,
   "id": "11f4be3c",
   "metadata": {},
   "outputs": [],
   "source": [
    "##### reload(et)\n",
    "sess_par = {'bird': 's_b1321_22',\n",
    "           'sess': '2022-12-28',           \n",
    "            'acq_software': 'alsa',\n",
    "           'derived_folder': 'bouts_ceciestunepipe',\n",
    "           'auto_file': 'bout_auto_file',\n",
    "           'curated_file': 'bout_curated_file',\n",
    "           'super_session': 'all-sess-01'}\n",
    "\n",
    "exp_struct = et.get_exp_struct(sess_par['bird'], sess_par['sess'], ephys_software=sess_par['acq_software'])\n",
    "\n",
    "raw_folder = exp_struct['folders'][sess_par['acq_software']]\n",
    "bouts_folder = os.path.join(exp_struct['folders']['derived'], sess_par['derived_folder'])"
   ]
  },
  {
   "cell_type": "code",
   "execution_count": 23,
   "id": "b99ac6ad",
   "metadata": {},
   "outputs": [
    {
     "data": {
      "text/plain": [
       "'pakhi'"
      ]
     },
     "execution_count": 23,
     "metadata": {},
     "output_type": "execute_result"
    }
   ],
   "source": [
    "socket.gethostname().split('.')[0]"
   ]
  },
  {
   "cell_type": "code",
   "execution_count": 24,
   "id": "9224ed7b",
   "metadata": {},
   "outputs": [
    {
     "data": {
      "text/plain": [
       "{'bird': '/mnt/sphere/speech_bci/raw_data/s_b1321_22',\n",
       " 'raw': '/mnt/sphere/speech_bci/raw_data/s_b1321_22/2022-12-28',\n",
       " 'alsa': '/mnt/sphere/speech_bci/raw_data/s_b1321_22/2022-12-28/alsa',\n",
       " 'kwik': '/scratch/earneodo/s_b1321_22/alsa/kwik/2022-12-28',\n",
       " 'processed': '/mnt/sphere/speech_bci/processed_data/s_b1321_22/2022-12-28/alsa',\n",
       " 'derived': '/mnt/sphere/speech_bci/derived_data/s_b1321_22/2022-12-28/alsa',\n",
       " 'tmp': '/scratch/earneodo/tmp',\n",
       " 'msort': '/scratch/earneodo/s_b1321_22/alsa/msort/2022-12-28',\n",
       " 'ksort': '/scratch/earneodo/s_b1321_22/alsa/ksort/2022-12-28/',\n",
       " 'sort': '/mnt/sphere/speech_bci/derived_data/s_b1321_22/2022-12-28/alsa/'}"
      ]
     },
     "execution_count": 24,
     "metadata": {},
     "output_type": "execute_result"
    }
   ],
   "source": [
    "exp_struct['folders']"
   ]
  },
  {
   "cell_type": "markdown",
   "id": "aa14d9a5",
   "metadata": {},
   "source": [
    "### read a session's bouts pandas\n",
    "- get the location of the file\n",
    "- load the pandas pickle\n",
    "- load the search/spectrogram parameters"
   ]
  },
  {
   "cell_type": "code",
   "execution_count": 6,
   "id": "81bd7d84",
   "metadata": {},
   "outputs": [
    {
     "data": {
      "text/plain": [
       "'1.4.2'"
      ]
     },
     "execution_count": 6,
     "metadata": {},
     "output_type": "execute_result"
    }
   ],
   "source": [
    "pd.__version__"
   ]
  },
  {
   "cell_type": "code",
   "execution_count": 7,
   "id": "a310786b",
   "metadata": {},
   "outputs": [],
   "source": [
    "reload(sb)\n",
    "hparams, bpd = sb.read_session_bouts(sess_par['bird'], sess_par['sess'], recording_software='alsa', curated=False)"
   ]
  },
  {
   "cell_type": "code",
   "execution_count": 8,
   "id": "7715f3e4",
   "metadata": {
    "scrolled": true,
    "tags": []
   },
   "outputs": [
    {
     "data": {
      "text/html": [
       "<div>\n",
       "<style scoped>\n",
       "    .dataframe tbody tr th:only-of-type {\n",
       "        vertical-align: middle;\n",
       "    }\n",
       "\n",
       "    .dataframe tbody tr th {\n",
       "        vertical-align: top;\n",
       "    }\n",
       "\n",
       "    .dataframe thead th {\n",
       "        text-align: right;\n",
       "    }\n",
       "</style>\n",
       "<table border=\"1\" class=\"dataframe\">\n",
       "  <thead>\n",
       "    <tr style=\"text-align: right;\">\n",
       "      <th></th>\n",
       "      <th>start_ms</th>\n",
       "      <th>end_ms</th>\n",
       "      <th>start_sample</th>\n",
       "      <th>end_sample</th>\n",
       "      <th>p_step</th>\n",
       "      <th>rms_p</th>\n",
       "      <th>peak_p</th>\n",
       "      <th>bout_check</th>\n",
       "      <th>file</th>\n",
       "      <th>len_ms</th>\n",
       "      <th>syl_in</th>\n",
       "      <th>n_syl</th>\n",
       "      <th>peaks_p</th>\n",
       "      <th>n_peaks</th>\n",
       "      <th>l_p_ratio</th>\n",
       "      <th>waveform</th>\n",
       "      <th>valid_waveform</th>\n",
       "      <th>valid</th>\n",
       "      <th>spectrogram</th>\n",
       "      <th>confusing</th>\n",
       "    </tr>\n",
       "  </thead>\n",
       "  <tbody>\n",
       "    <tr>\n",
       "      <th>0</th>\n",
       "      <td>976205</td>\n",
       "      <td>979410</td>\n",
       "      <td>46857840</td>\n",
       "      <td>47011680</td>\n",
       "      <td>[4.175459839973243, 12.661207722492254, 6.7621...</td>\n",
       "      <td>0.432123</td>\n",
       "      <td>12.661208</td>\n",
       "      <td>True</td>\n",
       "      <td>/mnt/sphere/speech_bci/raw_data/s_b1321_22/202...</td>\n",
       "      <td>3205</td>\n",
       "      <td>[[976205, 976235], [978775, 978810], [979380, ...</td>\n",
       "      <td>3</td>\n",
       "      <td>[1, 8, 25, 38, 514, 587, 635]</td>\n",
       "      <td>7</td>\n",
       "      <td>457.857143</td>\n",
       "      <td>[-2, -1, -2, -2, -2, -3, -2, -1, -3, -2, -2, -...</td>\n",
       "      <td>True</td>\n",
       "      <td>True</td>\n",
       "      <td>[[0.0, 0.0, 0.0, 0.0, 0.0, 0.0, 0.0, 0.0, 0.0,...</td>\n",
       "      <td>True</td>\n",
       "    </tr>\n",
       "    <tr>\n",
       "      <th>1</th>\n",
       "      <td>159405</td>\n",
       "      <td>162480</td>\n",
       "      <td>7651440</td>\n",
       "      <td>7799040</td>\n",
       "      <td>[7.608011219590227, 6.907872833638953, 7.01194...</td>\n",
       "      <td>0.582774</td>\n",
       "      <td>7.608011</td>\n",
       "      <td>True</td>\n",
       "      <td>/mnt/sphere/speech_bci/raw_data/s_b1321_22/202...</td>\n",
       "      <td>3075</td>\n",
       "      <td>[[159405, 159440], [162440, 162480]]</td>\n",
       "      <td>2</td>\n",
       "      <td>[2, 13, 89, 96, 112, 121, 609]</td>\n",
       "      <td>7</td>\n",
       "      <td>439.285714</td>\n",
       "      <td>[1, 1, 0, 2, 1, 1, 1, 0, 2, 2, 1, 2, 2, 1, 2, ...</td>\n",
       "      <td>True</td>\n",
       "      <td>True</td>\n",
       "      <td>[[0.0, 0.0, 0.0, 0.0, 0.0, 0.0, 0.0, 0.0, 0.0,...</td>\n",
       "      <td>True</td>\n",
       "    </tr>\n",
       "    <tr>\n",
       "      <th>2</th>\n",
       "      <td>788495</td>\n",
       "      <td>792520</td>\n",
       "      <td>37847760</td>\n",
       "      <td>38040960</td>\n",
       "      <td>[22.36125557247906, 12.723164704961322, 4.4308...</td>\n",
       "      <td>0.582774</td>\n",
       "      <td>55.088953</td>\n",
       "      <td>True</td>\n",
       "      <td>/mnt/sphere/speech_bci/raw_data/s_b1321_22/202...</td>\n",
       "      <td>4025</td>\n",
       "      <td>[[788495, 788525], [790845, 790875], [792475, ...</td>\n",
       "      <td>3</td>\n",
       "      <td>[5, 12, 24, 470, 652, 797]</td>\n",
       "      <td>6</td>\n",
       "      <td>670.833333</td>\n",
       "      <td>[19, 13, 13, -15, 5, 13, -8, 1, -17, 0, -3, 3,...</td>\n",
       "      <td>True</td>\n",
       "      <td>True</td>\n",
       "      <td>[[0.0, 0.0, 0.0, 0.0, 0.0, 0.0, 0.0, 0.0, 0.0,...</td>\n",
       "      <td>True</td>\n",
       "    </tr>\n",
       "    <tr>\n",
       "      <th>3</th>\n",
       "      <td>1178795</td>\n",
       "      <td>1183725</td>\n",
       "      <td>56582160</td>\n",
       "      <td>56818800</td>\n",
       "      <td>[26.55289265686858, 32.505744144836946, 13.875...</td>\n",
       "      <td>0.495474</td>\n",
       "      <td>32.505744</td>\n",
       "      <td>True</td>\n",
       "      <td>/mnt/sphere/speech_bci/raw_data/s_b1321_22/202...</td>\n",
       "      <td>4930</td>\n",
       "      <td>[[1178795, 1178855], [1178905, 1179010], [1181...</td>\n",
       "      <td>5</td>\n",
       "      <td>[1, 9, 26, 36, 141, 480, 490, 513, 628, 939, 9...</td>\n",
       "      <td>14</td>\n",
       "      <td>352.142857</td>\n",
       "      <td>[-3, -3, -3, -3, -3, -3, -3, -3, -3, -1, -1, -...</td>\n",
       "      <td>True</td>\n",
       "      <td>True</td>\n",
       "      <td>[[0.0, 0.0, 0.0, 0.0, 0.0, 0.0, 0.0, 0.0, 0.0,...</td>\n",
       "      <td>True</td>\n",
       "    </tr>\n",
       "    <tr>\n",
       "      <th>4</th>\n",
       "      <td>534515</td>\n",
       "      <td>538395</td>\n",
       "      <td>25656720</td>\n",
       "      <td>25842960</td>\n",
       "      <td>[1.4093318689793723, 1.0826781882099068, 2.657...</td>\n",
       "      <td>0.704254</td>\n",
       "      <td>27.042502</td>\n",
       "      <td>True</td>\n",
       "      <td>/mnt/sphere/speech_bci/raw_data/s_b1321_22/202...</td>\n",
       "      <td>3880</td>\n",
       "      <td>[[534515, 534555], [537545, 537610], [537640, ...</td>\n",
       "      <td>5</td>\n",
       "      <td>[3, 18, 38, 54, 65, 77, 113, 157, 175, 192, 59...</td>\n",
       "      <td>17</td>\n",
       "      <td>228.235294</td>\n",
       "      <td>[4, 5, 5, 5, 5, 5, 5, 6, 5, 5, 6, 6, 6, 6, 6, ...</td>\n",
       "      <td>True</td>\n",
       "      <td>True</td>\n",
       "      <td>[[0.0, 0.0, 0.0, 0.0, 0.0, 0.0, 0.0, 0.0, 0.0,...</td>\n",
       "      <td>True</td>\n",
       "    </tr>\n",
       "  </tbody>\n",
       "</table>\n",
       "</div>"
      ],
      "text/plain": [
       "   start_ms   end_ms  start_sample  end_sample  \\\n",
       "0    976205   979410      46857840    47011680   \n",
       "1    159405   162480       7651440     7799040   \n",
       "2    788495   792520      37847760    38040960   \n",
       "3   1178795  1183725      56582160    56818800   \n",
       "4    534515   538395      25656720    25842960   \n",
       "\n",
       "                                              p_step     rms_p     peak_p  \\\n",
       "0  [4.175459839973243, 12.661207722492254, 6.7621...  0.432123  12.661208   \n",
       "1  [7.608011219590227, 6.907872833638953, 7.01194...  0.582774   7.608011   \n",
       "2  [22.36125557247906, 12.723164704961322, 4.4308...  0.582774  55.088953   \n",
       "3  [26.55289265686858, 32.505744144836946, 13.875...  0.495474  32.505744   \n",
       "4  [1.4093318689793723, 1.0826781882099068, 2.657...  0.704254  27.042502   \n",
       "\n",
       "   bout_check                                               file  len_ms  \\\n",
       "0        True  /mnt/sphere/speech_bci/raw_data/s_b1321_22/202...    3205   \n",
       "1        True  /mnt/sphere/speech_bci/raw_data/s_b1321_22/202...    3075   \n",
       "2        True  /mnt/sphere/speech_bci/raw_data/s_b1321_22/202...    4025   \n",
       "3        True  /mnt/sphere/speech_bci/raw_data/s_b1321_22/202...    4930   \n",
       "4        True  /mnt/sphere/speech_bci/raw_data/s_b1321_22/202...    3880   \n",
       "\n",
       "                                              syl_in  n_syl  \\\n",
       "0  [[976205, 976235], [978775, 978810], [979380, ...      3   \n",
       "1               [[159405, 159440], [162440, 162480]]      2   \n",
       "2  [[788495, 788525], [790845, 790875], [792475, ...      3   \n",
       "3  [[1178795, 1178855], [1178905, 1179010], [1181...      5   \n",
       "4  [[534515, 534555], [537545, 537610], [537640, ...      5   \n",
       "\n",
       "                                             peaks_p  n_peaks   l_p_ratio  \\\n",
       "0                      [1, 8, 25, 38, 514, 587, 635]        7  457.857143   \n",
       "1                     [2, 13, 89, 96, 112, 121, 609]        7  439.285714   \n",
       "2                         [5, 12, 24, 470, 652, 797]        6  670.833333   \n",
       "3  [1, 9, 26, 36, 141, 480, 490, 513, 628, 939, 9...       14  352.142857   \n",
       "4  [3, 18, 38, 54, 65, 77, 113, 157, 175, 192, 59...       17  228.235294   \n",
       "\n",
       "                                            waveform  valid_waveform  valid  \\\n",
       "0  [-2, -1, -2, -2, -2, -3, -2, -1, -3, -2, -2, -...            True   True   \n",
       "1  [1, 1, 0, 2, 1, 1, 1, 0, 2, 2, 1, 2, 2, 1, 2, ...            True   True   \n",
       "2  [19, 13, 13, -15, 5, 13, -8, 1, -17, 0, -3, 3,...            True   True   \n",
       "3  [-3, -3, -3, -3, -3, -3, -3, -3, -3, -1, -1, -...            True   True   \n",
       "4  [4, 5, 5, 5, 5, 5, 5, 6, 5, 5, 6, 6, 6, 6, 6, ...            True   True   \n",
       "\n",
       "                                         spectrogram  confusing  \n",
       "0  [[0.0, 0.0, 0.0, 0.0, 0.0, 0.0, 0.0, 0.0, 0.0,...       True  \n",
       "1  [[0.0, 0.0, 0.0, 0.0, 0.0, 0.0, 0.0, 0.0, 0.0,...       True  \n",
       "2  [[0.0, 0.0, 0.0, 0.0, 0.0, 0.0, 0.0, 0.0, 0.0,...       True  \n",
       "3  [[0.0, 0.0, 0.0, 0.0, 0.0, 0.0, 0.0, 0.0, 0.0,...       True  \n",
       "4  [[0.0, 0.0, 0.0, 0.0, 0.0, 0.0, 0.0, 0.0, 0.0,...       True  "
      ]
     },
     "execution_count": 8,
     "metadata": {},
     "output_type": "execute_result"
    }
   ],
   "source": [
    "bpd.head(5)"
   ]
  },
  {
   "cell_type": "code",
   "execution_count": 9,
   "id": "40a226f5",
   "metadata": {},
   "outputs": [
    {
     "data": {
      "text/plain": [
       "18"
      ]
     },
     "execution_count": 9,
     "metadata": {},
     "output_type": "execute_result"
    }
   ],
   "source": [
    "bpd.index.size"
   ]
  },
  {
   "cell_type": "markdown",
   "id": "b23339fd",
   "metadata": {},
   "source": [
    "###### if it wasnt saved (which is a bad mistake), read the sampling rate from the first file in the session"
   ]
  },
  {
   "cell_type": "markdown",
   "id": "40a13606",
   "metadata": {},
   "source": [
    "## inspect the bouts and curate them"
   ]
  },
  {
   "cell_type": "markdown",
   "id": "f4201a89",
   "metadata": {},
   "source": [
    "#### visualize one bout"
   ]
  },
  {
   "cell_type": "code",
   "execution_count": 10,
   "id": "fff6526e",
   "metadata": {},
   "outputs": [],
   "source": [
    "import plotly.express as px\n",
    "import plotly.graph_objects as go\n",
    "\n",
    "from ipywidgets import widgets"
   ]
  },
  {
   "cell_type": "code",
   "execution_count": 11,
   "id": "83729295",
   "metadata": {},
   "outputs": [],
   "source": [
    "def viz_one_bout(df: pd.Series, sub_sample=1):\n",
    "    # get the power and the spectrogram\n",
    "    sxx = df['spectrogram'][:, ::sub_sample]\n",
    "    x = df['waveform'][::sub_sample]\n",
    "    \n",
    "    # the trace\n",
    "    tr_waveform = go.Scatter(y=x)\n",
    "    figwidg_waveform = go.FigureWidget(data=[tr_waveform],\n",
    "                                      layout= {'height': 300,'width':1000})\n",
    "\n",
    "    # the spectrogram\n",
    "    fig_spectrogram = px.imshow(sxx, \n",
    "                                     labels={}, \n",
    "                                     color_continuous_scale='Inferno',\n",
    "                                    aspect='auto')\n",
    "\n",
    "    fig_spectrogram.update_layout(width=1000, height=300, coloraxis_showscale=False)\n",
    "    fig_spectrogram.update_xaxes(showticklabels=False)\n",
    "    fig_spectrogram.update_yaxes(showticklabels=False)\n",
    "    \n",
    "    \n",
    "    figwidg_spectrogram = go.FigureWidget(fig_spectrogram)\n",
    "    \n",
    "    display(widgets.VBox([figwidg_waveform,\n",
    "              figwidg_spectrogram]))\n",
    "    \n",
    "\n",
    "#viz_one_bout(bpd.iloc[1])"
   ]
  },
  {
   "cell_type": "markdown",
   "id": "cfdb1060",
   "metadata": {},
   "source": [
    "## use it in a widget\n"
   ]
  },
  {
   "cell_type": "code",
   "execution_count": 12,
   "id": "75d80dbf",
   "metadata": {},
   "outputs": [],
   "source": [
    "bpd.sort_values('len_ms', ascending=False, inplace=True)\n",
    "bpd.reset_index(drop=True, inplace=True)"
   ]
  },
  {
   "cell_type": "code",
   "execution_count": 13,
   "id": "9c7873d8",
   "metadata": {},
   "outputs": [],
   "source": [
    "### Create a counter object (count goes 1:1 to DataFrame index)\n",
    "from traitlets import CInt, link\n",
    "\n",
    "class Counter(widgets.DOMWidget):\n",
    "    value = CInt(0)\n",
    "    value.tag(sync=True)"
   ]
  },
  {
   "cell_type": "code",
   "execution_count": 14,
   "id": "d56cc84d",
   "metadata": {
    "tags": []
   },
   "outputs": [
    {
     "data": {
      "application/vnd.jupyter.widget-view+json": {
       "model_id": "466317d076f2443597ae65977c00bea7",
       "version_major": 2,
       "version_minor": 0
      },
      "text/plain": [
       "VBox(children=(HBox(children=(VBox(children=(HBox(children=(Button(button_style='warning', description='Prev',…"
      ]
     },
     "metadata": {},
     "output_type": "display_data"
    }
   ],
   "source": [
    "class VizBout():\n",
    "    def __init__(self, hparams, bouts_pd):\n",
    "        self.bout = None\n",
    "        self.bouts_pd = bouts_pd\n",
    "        self.bout_series = None\n",
    "        self.is_bout = None\n",
    "        self.is_call = None\n",
    "        self.is_confusing = None\n",
    "                \n",
    "        self.bout_counter = None\n",
    "        self.bout_id = None\n",
    "        \n",
    "        self.buttons = {}\n",
    "        self.m_pick = None\n",
    "        \n",
    "        self.audio = None\n",
    "        \n",
    "        self.fig_waveform = None\n",
    "        self.fig_spectrogram = None\n",
    "        \n",
    "        self.figwidg_waveform = None\n",
    "        self.figwidg_spectrogram = None\n",
    "        \n",
    "        self.fig_width = 2\n",
    "        self.sub_sample = 10\n",
    "        \n",
    "        self.x = None\n",
    "        self.sxx = None\n",
    "        self.tr_waveform = None\n",
    "        \n",
    "        self.s_f = hparams['sample_rate']\n",
    "        \n",
    "        self.init_fig()\n",
    "        self.init_widget()\n",
    "        self.show()\n",
    "        \n",
    "    def init_fig(self):\n",
    "        # the trace\n",
    "        self.tr_waveform = go.Scatter(y=np.zeros(500))\n",
    "        self.figwidg_waveform = go.FigureWidget(data=[self.tr_waveform],\n",
    "                                               layout={'width': 1000, 'height':300})\n",
    "        \n",
    "        # the spectrogram\n",
    "        self.fig_spectrogram = px.imshow(np.random.rand(500, 500), \n",
    "                                         labels={}, \n",
    "                                         color_continuous_scale='Inferno',\n",
    "                                        aspect='auto')\n",
    "        \n",
    "        self.fig_spectrogram.update_layout(width=1000, height=300, coloraxis_showscale=False)\n",
    "        self.fig_spectrogram.update_xaxes(showticklabels=False)\n",
    "        self.fig_spectrogram.update_yaxes(showticklabels=False)\n",
    "        self.figwidg_spectrogram = go.FigureWidget(self.fig_spectrogram)\n",
    "        \n",
    "        \n",
    "    def init_widget(self):\n",
    "        # declare elements\n",
    "        # lay them out\n",
    "        #\n",
    "        \n",
    "        # is this the best place for this?\n",
    "        self.bouts_pd['is_call'] = False\n",
    "        \n",
    "        self.bout_counter = Counter()\n",
    "        self.is_bout = widgets.Checkbox(description='is bout')\n",
    "        self.is_call = widgets.Checkbox(description='calls')\n",
    "        self.is_confusing = widgets.Checkbox(description='confusing')\n",
    "        \n",
    "        self.buttons['Next'] = widgets.Button(description=\"Next\", button_style='info',\n",
    "                                              icon='plus')   \n",
    "        self.buttons['Prev'] = widgets.Button(description=\"Prev\", button_style='warning',\n",
    "                                              icon='minus')\n",
    "        self.buttons['Check'] = widgets.Button(description=\"Song\", button_style='success', \n",
    "                                               icon='check')\n",
    "        self.buttons['Uncheck'] = widgets.Button(description=\"Noise\", button_style='danger',\n",
    "                                                 icon='wrong')\n",
    "        self.buttons['Call'] = widgets.Button(description=\"Calls\")\n",
    "        \n",
    "        [b.on_click(self.button_click) for b in self.buttons.values()]\n",
    "        \n",
    "        \n",
    "        top_box = widgets.HBox([self.buttons['Prev'], self.buttons['Next']])\n",
    "        bottom_box = widgets.HBox([self.buttons['Uncheck'], self.buttons['Check'], self.buttons['Call']])\n",
    "        button_box = widgets.VBox([top_box, bottom_box])\n",
    "\n",
    "        self.m_pick = widgets.IntSlider(value=0, min=0, max=self.bouts_pd.index.size-1, step=1, \n",
    "                                        description=\"Bout candidate index\")\n",
    "        \n",
    "        \n",
    "        #self.audio = Audio(data=np.zeros(100), rate=self.s_f)\n",
    "        \n",
    "        control_box = widgets.HBox([button_box,\n",
    "                                  widgets.VBox([self.is_bout, self.is_confusing, self.is_call]),\n",
    "                                  widgets.VBox([self.m_pick])]\n",
    "                                  )\n",
    "        \n",
    "        link((self.m_pick, 'value'), (self.bout_counter, 'value'))\n",
    "\n",
    "        self.update_bout()\n",
    "        \n",
    "        self.is_bout.observe(self.bout_checked, names='value')\n",
    "        self.is_call.observe(self.call_checked, names='value')\n",
    "        self.is_confusing.observe(self.confusing_checked, names='value')\n",
    "        \n",
    "        self.m_pick.observe(self.slider_change, names='value')\n",
    "        \n",
    "        all_containers = widgets.VBox([control_box, \n",
    "                                       self.figwidg_waveform, self.figwidg_spectrogram])\n",
    "        display(all_containers)\n",
    "#         display(button_box)\n",
    "#         display(self.m_pick)\n",
    "#         display(self.is_bout)\n",
    "#         display(self.fig)\n",
    "        \n",
    "    def button_click(self, button):        \n",
    "        self.bout_id = self.bout_counter.value\n",
    "        curr_bout = self.bout_counter\n",
    "        \n",
    "        if button.description == 'Next':\n",
    "            curr_bout.value += 1\n",
    "        elif button.description == 'Prev':\n",
    "            #print('prev clicked')\n",
    "            curr_bout.value -= 1\n",
    "        \n",
    "        elif button.description == 'Song':\n",
    "            #print('check clicked')\n",
    "            self.bouts_pd.loc[self.bout_id, 'bout_check'] = True\n",
    "            self.bouts_pd.loc[self.bout_id, 'confusing'] = False\n",
    "            self.bouts_pd.loc[self.bout_id, 'is_call'] = False\n",
    "            curr_bout.value += 1\n",
    "        \n",
    "        elif button.description == 'Noise':\n",
    "            self.bouts_pd.loc[self.bout_id, 'bout_check'] = False\n",
    "            self.bouts_pd.loc[self.bout_id, 'confusing'] = False\n",
    "            self.bouts_pd.loc[self.bout_id, 'is_call'] = False\n",
    "            curr_bout.value += 1\n",
    "        \n",
    "        elif button.description == 'Calls':\n",
    "            self.bouts_pd.loc[self.bout_id, 'bout_check'] = True\n",
    "            self.bouts_pd.loc[self.bout_id, 'confusing'] = False\n",
    "            self.bouts_pd.loc[self.bout_id, 'is_call'] = True\n",
    "            curr_bout.value += 1\n",
    "        \n",
    "        # handle the edges of the counter\n",
    "        if curr_bout.value > self.m_pick.max:\n",
    "            curr_bout.value = 0\n",
    "            \n",
    "        if curr_bout.value < self.m_pick.min:\n",
    "            curr_bout.value = self.m_pick.max\n",
    "    \n",
    "    def slider_change(self, change):\n",
    "        #logger.info('slider changed')\n",
    "        #self.bout_counter = change.new\n",
    "        #clear_output(True)\n",
    "        self.update_bout()\n",
    "        self.show()\n",
    "            \n",
    "    def bout_checked(self, bc):\n",
    "#         print \"bout checked\"\n",
    "#         print bc['new']\n",
    "#         print self.motiff\n",
    "        self.bouts_pd.loc[self.bout_id, 'bout_check'] = bc['new']\n",
    "        #self.bouts_pd.loc[self.bout_id, 'is_call'] = False # if it is \n",
    "    \n",
    "    def call_checked(self, bc):\n",
    "#         print \"bout checked\"\n",
    "#         print bc['new']\n",
    "#         print self.motiff\n",
    "        self.bouts_pd.loc[self.bout_id, 'is_call'] = bc['new']\n",
    "    \n",
    "    def confusing_checked(self, bc):\n",
    "#         print \"bout checked\"\n",
    "#         print bc['new']\n",
    "#         print self.motiff\n",
    "        self.bouts_pd.loc[self.bout_id, 'confusing'] = bc['new']\n",
    "    \n",
    "    \n",
    "    \n",
    "    def update_bout(self):\n",
    "        self.bout_id = self.bout_counter.value\n",
    "        self.bout_series = self.bouts_pd.iloc[self.bout_id]\n",
    "        \n",
    "        self.is_bout.value = bool(self.bout_series['bout_check'])\n",
    "        self.is_call.value = bool(self.bout_series['is_call'])\n",
    "        self.is_confusing.value = bool(self.bout_series['confusing'])\n",
    "                \n",
    "        self.x = self.bout_series['waveform'][::self.sub_sample]\n",
    "        self.sxx = self.bout_series['spectrogram'][::self.sub_sample]\n",
    "        \n",
    "        #self.audio = Audio(data=self.x.flatten(), rate=self.s_f)\n",
    "        \n",
    "    def show(self):\n",
    "        #self.fig.clf()\n",
    "        #self.init_fig()\n",
    "        # update\n",
    "#         self.update_bout()\n",
    "        #plot\n",
    "        #logger.info('showing')\n",
    "        \n",
    "        # Show the figures\n",
    "        with self.figwidg_waveform.batch_update():\n",
    "            self.figwidg_waveform.data[0].y = self.x\n",
    "            self.figwidg_waveform.data[0].x = np.arange(self.x.size) * self.sub_sample / self.s_f \n",
    "            \n",
    "        with self.figwidg_spectrogram.batch_update():\n",
    "            self.figwidg_spectrogram.data[0].z = np.sqrt(self.sxx[::-1])\n",
    "            \n",
    "        \n",
    "\n",
    "viz_bout = VizBout(hparams, bpd)"
   ]
  },
  {
   "cell_type": "code",
   "execution_count": 16,
   "id": "58e14fe1",
   "metadata": {},
   "outputs": [
    {
     "ename": "KeyboardInterrupt",
     "evalue": "",
     "output_type": "error",
     "traceback": [
      "\u001b[0;31m---------------------------------------------------------------------------\u001b[0m",
      "\u001b[0;31mKeyboardInterrupt\u001b[0m                         Traceback (most recent call last)",
      "Input \u001b[0;32mIn [16]\u001b[0m, in \u001b[0;36m<cell line: 1>\u001b[0;34m()\u001b[0m\n\u001b[0;32m----> 1\u001b[0m \u001b[38;5;28;01mraise\u001b[39;00m \u001b[38;5;167;01mKeyboardInterrupt\u001b[39;00m\n",
      "\u001b[0;31mKeyboardInterrupt\u001b[0m: "
     ]
    }
   ],
   "source": [
    "raise KeyboardInterrupt"
   ]
  },
  {
   "cell_type": "code",
   "execution_count": 17,
   "id": "67843911",
   "metadata": {},
   "outputs": [
    {
     "data": {
      "text/plain": [
       "1"
      ]
     },
     "execution_count": 17,
     "metadata": {},
     "output_type": "execute_result"
    }
   ],
   "source": [
    "np.where((viz_bout.bouts_pd['bout_check']==True) & (viz_bout.bouts_pd['confusing']==False) & (bpd['len_ms']>10000))[0].size"
   ]
  },
  {
   "cell_type": "markdown",
   "id": "18d2aa36",
   "metadata": {},
   "source": [
    "### save it"
   ]
  },
  {
   "cell_type": "code",
   "execution_count": 18,
   "id": "f6c49b2c",
   "metadata": {},
   "outputs": [
    {
     "name": "stderr",
     "output_type": "stream",
     "text": [
      "2022-12-29 10:20:06,590 root         INFO     saved curated bout pandas to pickle /mnt/sphere/speech_bci/derived_data/s_b1321_22/2022-12-28/alsa/bouts_ceciestunepipe/bout_checked.pickle\n"
     ]
    }
   ],
   "source": [
    "### get the curated file path\n",
    "##save to the curated file path\n",
    "bouts_curated_file_path = os.path.join(bouts_folder, hparams['bout_curated_file'])\n",
    "\n",
    "os.makedirs(bouts_folder, exist_ok=True, mode=0o777)\n",
    "\n",
    "viz_bout.bouts_pd.to_pickle(bouts_curated_file_path)\n",
    "logger.info('saved curated bout pandas to pickle {}'.format(bouts_curated_file_path))"
   ]
  },
  {
   "cell_type": "markdown",
   "id": "bdea62e6",
   "metadata": {},
   "source": [
    "### Curated bouts longer than 10 seconds"
   ]
  },
  {
   "cell_type": "code",
   "execution_count": 19,
   "id": "9562137c",
   "metadata": {},
   "outputs": [
    {
     "name": "stderr",
     "output_type": "stream",
     "text": [
      "2022-12-29 10:20:09,688 root         INFO     Number of bouts: 1\n",
      "2022-12-29 10:20:09,690 root         INFO     Length of all bouts (minutes): 0.25316666666666665\n"
     ]
    }
   ],
   "source": [
    "def sess_bout_summary(bout_pd: pd.DataFrame, ax_dict: dict=None, bouts_type='curated', min_len_ms=7000) -> pd.DataFrame:\n",
    "    ## make and plot a summary of the bird's bout.\n",
    "    # get lengths of the bouts\n",
    "    # get estimate timestamps of bouts\n",
    "    # plot histogram length of bouts\n",
    "    # histogram of time of bouts\n",
    "    bout_sel = (bout_pd['valid']==True) & (bout_pd['len_ms'] > min_len_ms);\n",
    "    if bouts_type=='curated':\n",
    "        bout_sel = bout_sel & (bout_pd['bout_check']==True) & (bout_pd['confusing']==False);\n",
    "    \n",
    "    # len/time? (when do they sing the longest?)\n",
    "    logger.info('Number of bouts: {}'.format(bout_pd.loc[bout_sel].index.size))\n",
    "    logger.info('Length of all bouts (minutes): {}'.format(bout_pd.loc[bout_sel, 'len_ms'].values.sum()/60000))\n",
    "    \n",
    "    if ax_dict is None:\n",
    "        bout_pd.loc[bout_sel].hist(column='len_ms')\n",
    "    return bout_pd\n",
    "\n",
    "bpd = sess_bout_summary(bpd)"
   ]
  },
  {
   "cell_type": "markdown",
   "id": "c4789df8-b3b5-4def-a584-c185b554d2bf",
   "metadata": {},
   "source": [
    "### update bout summary for the bird"
   ]
  },
  {
   "cell_type": "code",
   "execution_count": 25,
   "id": "4c3bc847-e3c5-43ab-a47a-4508bf389eb2",
   "metadata": {},
   "outputs": [
    {
     "name": "stderr",
     "output_type": "stream",
     "text": [
      "2022-12-29 10:30:38,324 ceciestunepipe.pipeline.searchbout INFO     Looking for all sessions with bouts detected/curated for bird s_b1321_22\n",
      "2022-12-29 10:30:38,325 ceciestunepipe.pipeline.searchbout INFO     Loading bout summary dataframe\n",
      "2022-12-29 10:30:38,326 ceciestunepipe.pipeline.searchbout INFO     Meta, bout summary path is /mnt/sphere/speech_bci/processed_data/s_b1321_22/all-sess-01/alsa/bouts_ceciestunepipe/bout_meta_df.pickle, /mnt/sphere/speech_bci/processed_data/s_b1321_22/all-sess-01/alsa/bouts_ceciestunepipe/bout_summary_df.pickle\n",
      "2022-12-29 10:30:38,762 ceciestunepipe.pipeline.searchbout WARNING  Could not load meta/bouts files. Will just make everythin from scratch\n",
      "2022-12-29 10:30:38,763 ceciestunepipe.pipeline.searchbout INFO     Looking for all sessions with bouts detected/curated for bird s_b1321_22\n",
      "2022-12-29 10:30:40,194 ceciestunepipe.pipeline.searchbout INFO     Search/bouts file not found in /mnt/sphere/speech_bci/derived_data/s_b1321_22/2022-12-29/alsa/bouts_ceciestunepipe\n",
      "2022-12-29 10:30:40,248 ceciestunepipe.pipeline.searchbout INFO     Search/bouts file not found in /mnt/sphere/speech_bci/derived_data/s_b1321_22/2022-12-29/alsa/bouts_ceciestunepipe\n",
      "2022-12-29 10:30:40,249 ceciestunepipe.pipeline.searchbout INFO     Found 78 sessions with detected, 36 with curated bouts\n",
      "2022-12-29 10:32:20,014 ceciestunepipe.util.sound.boutsearch WARNING  Non split recording detected in file /mnt/sphere/speech_bci/raw_data/s_b1321_22/2022-11-23/alsa/12-00-01.wav\n",
      "2022-12-29 10:32:20,016 ceciestunepipe.util.sound.boutsearch WARNING  Non split recording detected in file /mnt/sphere/speech_bci/raw_data/s_b1321_22/2022-11-23/alsa/12-00-01.wav\n",
      "2022-12-29 10:35:59,828 ceciestunepipe.pipeline.searchbout INFO     Saving bout summary dataframe\n",
      "2022-12-29 10:35:59,830 ceciestunepipe.pipeline.searchbout INFO     Meta, bout summary path is /mnt/sphere/speech_bci/processed_data/s_b1321_22/all-sess-01/alsa/bouts_ceciestunepipe/bout_meta_df.pickle, /mnt/sphere/speech_bci/processed_data/s_b1321_22/all-sess-01/alsa/bouts_ceciestunepipe/bout_summary_df.pickle\n"
     ]
    }
   ],
   "source": [
    "reload(sb)\n",
    "all_meta_pd, all_bout_pd = sb.update_bouts(sess_par)"
   ]
  },
  {
   "cell_type": "code",
   "execution_count": 61,
   "id": "53d79c55-1263-4b7c-bb0c-df371bd3529e",
   "metadata": {},
   "outputs": [
    {
     "data": {
      "image/png": "[encoded data removed]",
      "text/plain": [
       "<Figure size 1152x576 with 2 Axes>"
      ]
     },
     "metadata": {
      "needs_background": "light"
     },
     "output_type": "display_data"
    }
   ],
   "source": [
    "reload(sb)\n",
    "ax_dict = sb.plot_bout_stats(all_bout_pd, zoom_days=20)"
   ]
  },
  {
   "cell_type": "code",
   "execution_count": null,
   "id": "79285638",
   "metadata": {
    "tags": []
   },
   "outputs": [],
   "source": [
    "viz_bout.bouts_pd[viz_bout.bouts_pd['bout_check']==True]['file'].values"
   ]
  },
  {
   "cell_type": "code",
   "execution_count": null,
   "id": "3095d471",
   "metadata": {
    "tags": []
   },
   "outputs": [],
   "source": [
    "viz_bout.bouts_pd.head(1)"
   ]
  },
  {
   "cell_type": "code",
   "execution_count": null,
   "id": "16810d55",
   "metadata": {},
   "outputs": [],
   "source": [
    "bpd.head(1)"
   ]
  },
  {
   "cell_type": "code",
   "execution_count": null,
   "id": "1d6750b7",
   "metadata": {},
   "outputs": [],
   "source": [
    "file_path = bpd['file'][0]"
   ]
  },
  {
   "cell_type": "code",
   "execution_count": null,
   "id": "a5ca42c6",
   "metadata": {},
   "outputs": [],
   "source": [
    "from ceciestunepipe.util import fileutil as fu\n",
    "import datetime, time"
   ]
  },
  {
   "cell_type": "code",
   "execution_count": null,
   "id": "1edd73df",
   "metadata": {},
   "outputs": [],
   "source": [
    "def get_path_parts(file_path: str):\n",
    "    folders = []\n",
    "    while 1:\n",
    "        file_path, folder = os.path.split(file_path)\n",
    "\n",
    "        if folder != \"\":\n",
    "            folders.append(folder)\n",
    "        elif file_path != \"\":\n",
    "            folders.append(file_path)\n",
    "\n",
    "            break\n",
    "\n",
    "    folders.reverse()\n",
    "    return folders\n",
    "\n",
    "def alsa_timestamp(file_path: str):\n",
    "    logger.debug(file_path)\n",
    "    path_parts = get_path_parts(file_path)\n",
    "    date_str = path_parts[-3]\n",
    "    # alsa time is hh-mm-ss-x where x is the nth file, and files are split every 30min\n",
    "    # see /home/finch/scripts/record_bird.sh for instance\n",
    "    time_str_list = path_parts[-1].split('.wav')[0].split('-')\n",
    "    time_str = '{}:{}:{}'.format(*(time_str_list[:-1]))\n",
    "    \n",
    "    datetime_str = '{}_{}'.format(date_str, time_str)\n",
    "    logger.debug('datetime_str ' + datetime_str)\n",
    "    strp_time = datetime.datetime.strptime(datetime_str, \"%Y-%m-%d_%H:%M:%S\")\n",
    "    \n",
    "    extra_seconds = 1800 * (int(time_str_list[-1]) - 1)\n",
    "    strp_time += datetime.timedelta(seconds=extra_seconds)\n",
    "    #logger.info('strp_time {}'.format(strp_time))\n",
    "    return strp_time\n",
    "\n",
    "def bout_time_stamps(bout_df: pd.DataFrame) -> pd.DataFrame:\n",
    "    bout_df['tstamp'] = bout_df.apply(lambda x: alsa_timestamp(x['file']) + datetime.timedelta(milliseconds=x['start_ms']), \n",
    "                         axis=1)\n",
    "    return bout_df\n",
    "\n",
    "alsa_timestamp(bpd['file'][3])"
   ]
  },
  {
   "cell_type": "code",
   "execution_count": null,
   "id": "26bcf41d",
   "metadata": {},
   "outputs": [],
   "source": []
  }
 ],
 "metadata": {
  "kernelspec": {
   "display_name": "ceciestunepipe (cube)",
   "language": "python",
   "name": "unepipe-cube"
  },
  "language_info": {
   "codemirror_mode": {
    "name": "ipython",
    "version": 3
   },
   "file_extension": ".py",
   "mimetype": "text/x-python",
   "name": "python",
   "nbconvert_exporter": "python",
   "pygments_lexer": "ipython3",
   "version": "3.8.11"
  }
 },
 "nbformat": 4,
 "nbformat_minor": 5
}
