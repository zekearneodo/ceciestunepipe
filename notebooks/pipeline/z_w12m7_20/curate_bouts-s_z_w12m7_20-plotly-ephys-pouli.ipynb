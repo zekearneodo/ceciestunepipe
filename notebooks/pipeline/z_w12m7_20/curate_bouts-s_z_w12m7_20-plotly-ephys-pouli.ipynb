{
 "cells": [
  {
   "cell_type": "markdown",
   "id": "unavailable-waterproof",
   "metadata": {},
   "source": [
    "## Searching for bouts for a day of ephys recording\n",
    "- mircophone chan and sync data and bouts are extracted in sglx_preprocess-s_b1253_21-multisess-pouli-ephys"
   ]
  },
  {
   "cell_type": "code",
   "execution_count": 1,
   "id": "sized-marijuana",
   "metadata": {},
   "outputs": [
    {
     "name": "stderr",
     "output_type": "stream",
     "text": [
      "2021-11-19 10:37:15,434 root         INFO     Running on pouli\n"
     ]
    }
   ],
   "source": [
    "import os\n",
    "import glob\n",
    "import socket\n",
    "import logging\n",
    "import pickle\n",
    "import numpy as np\n",
    "import pandas as pd\n",
    "from scipy.io import wavfile\n",
    "from scipy import signal\n",
    "\n",
    "### Fuck matplotlib, I'm using poltly now\n",
    "from plotly.subplots import make_subplots\n",
    "import plotly.graph_objects as go\n",
    "\n",
    "from importlib import reload\n",
    "\n",
    "logger = logging.getLogger()\n",
    "handler = logging.StreamHandler()\n",
    "formatter = logging.Formatter(\n",
    "        '%(asctime)s %(name)-12s %(levelname)-8s %(message)s')\n",
    "handler.setFormatter(formatter)\n",
    "logger.addHandler(handler)\n",
    "logger.setLevel(logging.INFO)\n",
    "\n",
    "logger.info('Running on {}'.format(socket.gethostname()))"
   ]
  },
  {
   "cell_type": "code",
   "execution_count": 2,
   "id": "stable-inspection",
   "metadata": {},
   "outputs": [],
   "source": [
    "from ceciestunepipe.file import bcistructure as et\n",
    "from ceciestunepipe.util.sound import boutsearch as bs"
   ]
  },
  {
   "cell_type": "markdown",
   "id": "inner-machinery",
   "metadata": {},
   "source": [
    "### Get the file locations for a session (day) of recordings"
   ]
  },
  {
   "cell_type": "code",
   "execution_count": 3,
   "id": "steady-burner",
   "metadata": {},
   "outputs": [],
   "source": [
    "reload(et)\n",
    "sess_par = {'bird': 'z_w12m7_20',\n",
    "           'sess': '2020-11-06',\n",
    "           'sort': 2}\n",
    "\n",
    "\n",
    "exp_struct = et.get_exp_struct(sess_par['bird'], sess_par['sess'], ephys_software='sglx')\n",
    "\n",
    "raw_folder = exp_struct['folders']['sglx']\n",
    "\n",
    "derived_folder = exp_struct['folders']['derived']\n",
    "\n",
    "bouts_folder = os.path.join(os.path.split(derived_folder)[0], 'bouts_sglx')\n",
    "\n",
    "sess_bouts_file = os.path.join(bouts_folder, 'bout_sess_auto.pickle')\n",
    "sess_bouts_curated_file = os.path.join(bouts_folder, 'bout_curated.pickle')\n",
    "\n",
    "#os.makedirs(bouts_folder, exist_ok=True)"
   ]
  },
  {
   "cell_type": "code",
   "execution_count": 4,
   "id": "bronze-certificate",
   "metadata": {},
   "outputs": [
    {
     "data": {
      "text/plain": [
       "{'bird': '/mnt/sphere/speech_bci/raw_data/z_w12m7_20',\n",
       " 'raw': '/mnt/sphere/speech_bci/raw_data/z_w12m7_20/2020-11-06',\n",
       " 'sglx': '/mnt/sphere/speech_bci/raw_data/z_w12m7_20/2020-11-06/sglx',\n",
       " 'kwik': '/experiment/z_w12m7_20/sglx/kwik/2020-11-06',\n",
       " 'processed': '/mnt/sphere/speech_bci/processed_data/z_w12m7_20/2020-11-06/sglx',\n",
       " 'derived': '/mnt/sphere/speech_bci/derived_data/z_w12m7_20/2020-11-06/sglx',\n",
       " 'tmp': '/experiment/tmp/tmp',\n",
       " 'msort': '/experiment/tmp/z_w12m7_20/sglx/msort/2020-11-06',\n",
       " 'ksort': '/experiment/tmp/z_w12m7_20/sglx/ksort/2020-11-06/',\n",
       " 'sort': '/mnt/sphere/speech_bci/derived_data/z_w12m7_20/2020-11-06/sglx/'}"
      ]
     },
     "execution_count": 4,
     "metadata": {},
     "output_type": "execute_result"
    }
   ],
   "source": [
    "exp_struct['folders']"
   ]
  },
  {
   "cell_type": "markdown",
   "id": "american-composer",
   "metadata": {},
   "source": [
    "### load concatenated the files of the session"
   ]
  },
  {
   "cell_type": "code",
   "execution_count": 5,
   "id": "waiting-motel",
   "metadata": {},
   "outputs": [],
   "source": [
    "def read_session_auto_bouts(exp_struct):\n",
    "    # list all files of the session\n",
    "    # read into list of pandas dataframes and concatenate\n",
    "    # read the search parameters of the first session\n",
    "    # return the big pd and the search params\n",
    "    derived_folder = exp_struct['folders']['derived']\n",
    "    \n",
    "    search_params_files = et.get_sgl_files_epochs(derived_folder, file_filter='bout_search_params.pickle')\n",
    "    hparams=None\n",
    "    with open(search_params_files[0], 'rb') as fh:\n",
    "        hparams = pickle.load(fh)\n",
    "    \n",
    "    sess_bout_pd_file = os.path.join(os.path.split(derived_folder)[0], 'bouts_sglx', 'bout_auto.pickle')\n",
    "    try:\n",
    "        bout_pd = pd.read_pickle(sess_bout_pd_file)\n",
    "    except FileNotFoundError:\n",
    "        logger.info('Not found session pandas file {}, loading each epoch file and concatenating'.format(sess_bout_pd_file))\n",
    "        bout_pd_files = et.get_sgl_files_epochs(derived_folder, file_filter='bout_auto.pickle')\n",
    "        logger.info('Files to load {}'.format(bout_pd_files))\n",
    "        bout_pd = pd.concat([pd.read_pickle(p) for p in bout_pd_files[:]])\n",
    "    \n",
    "    bout_pd.reset_index(inplace=True, drop=True)\n",
    "    return bout_pd, hparams\n",
    "\n",
    "bout_pd, hparams = read_session_auto_bouts(exp_struct)"
   ]
  },
  {
   "cell_type": "code",
   "execution_count": 6,
   "id": "dd455625-746c-47a4-be5e-52c8722dd2f4",
   "metadata": {},
   "outputs": [
    {
     "name": "stdout",
     "output_type": "stream",
     "text": [
      "<class 'pandas.core.frame.DataFrame'>\n",
      "RangeIndex: 193 entries, 0 to 192\n",
      "Data columns (total 17 columns):\n",
      " #   Column        Non-Null Count  Dtype  \n",
      "---  ------        --------------  -----  \n",
      " 0   start_ms      193 non-null    int64  \n",
      " 1   end_ms        193 non-null    int64  \n",
      " 2   start_sample  193 non-null    int64  \n",
      " 3   end_sample    193 non-null    int64  \n",
      " 4   p_step        193 non-null    object \n",
      " 5   rms_p         193 non-null    float64\n",
      " 6   peak_p        193 non-null    float64\n",
      " 7   bout_check    193 non-null    bool   \n",
      " 8   file          193 non-null    object \n",
      " 9   len_ms        193 non-null    int64  \n",
      " 10  syl_in        193 non-null    object \n",
      " 11  n_syl         193 non-null    int64  \n",
      " 12  peaks_p       193 non-null    object \n",
      " 13  n_peaks       193 non-null    int64  \n",
      " 14  l_p_ratio     186 non-null    float64\n",
      " 15  waveform      193 non-null    object \n",
      " 16  confusing     193 non-null    bool   \n",
      "dtypes: bool(2), float64(3), int64(7), object(5)\n",
      "memory usage: 23.1+ KB\n"
     ]
    }
   ],
   "source": [
    "bout_pd.info()"
   ]
  },
  {
   "cell_type": "code",
   "execution_count": 7,
   "id": "97a9713a-193f-4cac-94a6-f5b8208cb0cb",
   "metadata": {},
   "outputs": [
    {
     "data": {
      "text/plain": [
       "(193,)"
      ]
     },
     "execution_count": 7,
     "metadata": {},
     "output_type": "execute_result"
    }
   ],
   "source": [
    "np.unique(bout_pd['start_ms']).shape"
   ]
  },
  {
   "cell_type": "code",
   "execution_count": 8,
   "id": "b9cb08ed-d137-4b23-9503-98d10ed2599b",
   "metadata": {},
   "outputs": [
    {
     "data": {
      "text/plain": [
       "array(['/mnt/sphere/speech_bci/derived_data/z_w12m7_20/2020-11-06/sglx/dir_g0/wav_mic.wav'],\n",
       "      dtype=object)"
      ]
     },
     "execution_count": 8,
     "metadata": {},
     "output_type": "execute_result"
    }
   ],
   "source": [
    "### list all the source files\n",
    "sess_wav_files = np.unique(bout_pd['file'].values)\n",
    "sess_wav_files"
   ]
  },
  {
   "cell_type": "markdown",
   "id": "47eb2841-69bf-4a05-ad36-2417844608b5",
   "metadata": {
    "tags": []
   },
   "source": [
    "#### optional: drop the night recordings"
   ]
  },
  {
   "cell_type": "code",
   "execution_count": 9,
   "id": "84eb564d-0165-4007-a476-0aa5d3449e81",
   "metadata": {},
   "outputs": [],
   "source": [
    "# night_file = sess_wav_files[-1]\n",
    "# bout_pd.drop(bout_pd[bout_pd['file']==night_file].index, inplace=True)\n",
    "#print(night_file)"
   ]
  },
  {
   "cell_type": "code",
   "execution_count": 10,
   "id": "resident-thanks",
   "metadata": {},
   "outputs": [
    {
     "data": {
      "text/plain": [
       "array(['/mnt/sphere/speech_bci/derived_data/z_w12m7_20/2020-11-06/sglx/dir_g0/wav_mic.wav'],\n",
       "      dtype=object)"
      ]
     },
     "execution_count": 10,
     "metadata": {},
     "output_type": "execute_result"
    }
   ],
   "source": [
    "np.unique(bout_pd['file'].values)"
   ]
  },
  {
   "cell_type": "code",
   "execution_count": 11,
   "id": "bb36170c-014d-4b7b-ad45-196480dce6b1",
   "metadata": {
    "tags": []
   },
   "outputs": [
    {
     "name": "stdout",
     "output_type": "stream",
     "text": [
      "<class 'pandas.core.frame.DataFrame'>\n",
      "RangeIndex: 193 entries, 0 to 192\n",
      "Data columns (total 17 columns):\n",
      " #   Column        Non-Null Count  Dtype  \n",
      "---  ------        --------------  -----  \n",
      " 0   start_ms      193 non-null    int64  \n",
      " 1   end_ms        193 non-null    int64  \n",
      " 2   start_sample  193 non-null    int64  \n",
      " 3   end_sample    193 non-null    int64  \n",
      " 4   p_step        193 non-null    object \n",
      " 5   rms_p         193 non-null    float64\n",
      " 6   peak_p        193 non-null    float64\n",
      " 7   bout_check    193 non-null    bool   \n",
      " 8   file          193 non-null    object \n",
      " 9   len_ms        193 non-null    int64  \n",
      " 10  syl_in        193 non-null    object \n",
      " 11  n_syl         193 non-null    int64  \n",
      " 12  peaks_p       193 non-null    object \n",
      " 13  n_peaks       193 non-null    int64  \n",
      " 14  l_p_ratio     186 non-null    float64\n",
      " 15  waveform      193 non-null    object \n",
      " 16  confusing     193 non-null    bool   \n",
      "dtypes: bool(2), float64(3), int64(7), object(5)\n",
      "memory usage: 23.1+ KB\n"
     ]
    }
   ],
   "source": [
    "bout_pd.info()"
   ]
  },
  {
   "cell_type": "code",
   "execution_count": 12,
   "id": "d851cb8a-97de-41fb-87fa-9cf6bdc000e7",
   "metadata": {},
   "outputs": [
    {
     "data": {
      "text/plain": [
       "193"
      ]
     },
     "execution_count": 12,
     "metadata": {},
     "output_type": "execute_result"
    }
   ],
   "source": [
    "np.unique(bout_pd['start_ms']).size"
   ]
  },
  {
   "cell_type": "markdown",
   "id": "signal-experience",
   "metadata": {},
   "source": [
    "###### if it wasnt saved (which is a bad mistake), read the sampling rate from the first file in the session"
   ]
  },
  {
   "cell_type": "code",
   "execution_count": 13,
   "id": "vital-singapore",
   "metadata": {},
   "outputs": [],
   "source": [
    "def sample_rate_from_wav(wav_path):\n",
    "    x, sample_rate = wavfile.read(wav_path)\n",
    "    return sample_rate\n",
    "\n",
    "if hparams['sample_rate'] is None:\n",
    "    one_wav_path = bpd.loc[0, 'file']\n",
    "    logger.info('Sample rate not saved in parameters dict, searching it in ' + one_wav_path)\n",
    "    hparams['sample_rate'] = sample_rate_from_wav(one_wav_path)"
   ]
  },
  {
   "cell_type": "code",
   "execution_count": 14,
   "id": "infinite-membrane",
   "metadata": {},
   "outputs": [],
   "source": [
    "def cleanup(bout_pd: pd.DataFrame):\n",
    "    ## check for empty waveforms (how woudld THAT happen???)\n",
    "    bout_pd['valid_waveform'] = bout_pd['waveform'].apply(lambda x: (False if x.size==0 else True))\n",
    "    \n",
    "    # valid is & of all the validated criteria\n",
    "    bout_pd['valid'] = bout_pd['valid_waveform']\n",
    "    \n",
    "    ## fill in the epoch\n",
    "    bout_pd['epoch'] = bout_pd['file'].apply(lambda x: et.split_path(x)[-2])\n",
    "    \n",
    "    # drop not valid and reset index\n",
    "    bout_pd.drop(bout_pd[bout_pd['valid']==False].index, inplace=True)\n",
    "    bout_pd.reset_index(drop=True, inplace=True)\n",
    "    \n",
    "    # set all to 'confusing' (unchecked) and 'bout_check' false (not a bout)\n",
    "    bout_pd['confusing'] = True\n",
    "    bout_pd['bout_check'] = False\n",
    "\n",
    "cleanup(bout_pd)"
   ]
  },
  {
   "cell_type": "code",
   "execution_count": 15,
   "id": "aec7951c-54e7-47c9-b06f-dc160fc3b0f5",
   "metadata": {
    "tags": []
   },
   "outputs": [
    {
     "name": "stdout",
     "output_type": "stream",
     "text": [
      "<class 'pandas.core.frame.DataFrame'>\n",
      "RangeIndex: 193 entries, 0 to 192\n",
      "Data columns (total 20 columns):\n",
      " #   Column          Non-Null Count  Dtype  \n",
      "---  ------          --------------  -----  \n",
      " 0   start_ms        193 non-null    int64  \n",
      " 1   end_ms          193 non-null    int64  \n",
      " 2   start_sample    193 non-null    int64  \n",
      " 3   end_sample      193 non-null    int64  \n",
      " 4   p_step          193 non-null    object \n",
      " 5   rms_p           193 non-null    float64\n",
      " 6   peak_p          193 non-null    float64\n",
      " 7   bout_check      193 non-null    bool   \n",
      " 8   file            193 non-null    object \n",
      " 9   len_ms          193 non-null    int64  \n",
      " 10  syl_in          193 non-null    object \n",
      " 11  n_syl           193 non-null    int64  \n",
      " 12  peaks_p         193 non-null    object \n",
      " 13  n_peaks         193 non-null    int64  \n",
      " 14  l_p_ratio       186 non-null    float64\n",
      " 15  waveform        193 non-null    object \n",
      " 16  confusing       193 non-null    bool   \n",
      " 17  valid_waveform  193 non-null    bool   \n",
      " 18  valid           193 non-null    bool   \n",
      " 19  epoch           193 non-null    object \n",
      "dtypes: bool(4), float64(3), int64(7), object(6)\n",
      "memory usage: 25.0+ KB\n"
     ]
    }
   ],
   "source": [
    "bout_pd.info()"
   ]
  },
  {
   "cell_type": "code",
   "execution_count": 16,
   "id": "2cd9a3d3-7eb3-477c-8bab-22dc30c2f6ff",
   "metadata": {},
   "outputs": [
    {
     "data": {
      "text/plain": [
       "(193,)"
      ]
     },
     "execution_count": 16,
     "metadata": {},
     "output_type": "execute_result"
    }
   ],
   "source": [
    "np.unique(bout_pd['start_ms']).shape"
   ]
  },
  {
   "cell_type": "code",
   "execution_count": 17,
   "id": "wireless-catholic",
   "metadata": {
    "scrolled": true,
    "tags": []
   },
   "outputs": [
    {
     "data": {
      "text/html": [
       "<div>\n",
       "<style scoped>\n",
       "    .dataframe tbody tr th:only-of-type {\n",
       "        vertical-align: middle;\n",
       "    }\n",
       "\n",
       "    .dataframe tbody tr th {\n",
       "        vertical-align: top;\n",
       "    }\n",
       "\n",
       "    .dataframe thead th {\n",
       "        text-align: right;\n",
       "    }\n",
       "</style>\n",
       "<table border=\"1\" class=\"dataframe\">\n",
       "  <thead>\n",
       "    <tr style=\"text-align: right;\">\n",
       "      <th></th>\n",
       "      <th>start_ms</th>\n",
       "      <th>end_ms</th>\n",
       "      <th>start_sample</th>\n",
       "      <th>end_sample</th>\n",
       "      <th>p_step</th>\n",
       "      <th>rms_p</th>\n",
       "      <th>peak_p</th>\n",
       "      <th>bout_check</th>\n",
       "      <th>file</th>\n",
       "      <th>len_ms</th>\n",
       "      <th>syl_in</th>\n",
       "      <th>n_syl</th>\n",
       "      <th>peaks_p</th>\n",
       "      <th>n_peaks</th>\n",
       "      <th>l_p_ratio</th>\n",
       "      <th>waveform</th>\n",
       "      <th>confusing</th>\n",
       "      <th>valid_waveform</th>\n",
       "      <th>valid</th>\n",
       "      <th>epoch</th>\n",
       "    </tr>\n",
       "  </thead>\n",
       "  <tbody>\n",
       "    <tr>\n",
       "      <th>0</th>\n",
       "      <td>3496163</td>\n",
       "      <td>3499168</td>\n",
       "      <td>87404075</td>\n",
       "      <td>87479200</td>\n",
       "      <td>[365.2130651692613, 21.52861785064727, 27.9565...</td>\n",
       "      <td>70.924488</td>\n",
       "      <td>365.213065</td>\n",
       "      <td>False</td>\n",
       "      <td>/mnt/sphere/speech_bci/derived_data/z_w12m7_20...</td>\n",
       "      <td>3005</td>\n",
       "      <td>[[3496163, 3496248], [3497403, 3497493], [3497...</td>\n",
       "      <td>7</td>\n",
       "      <td>[277, 306, 317, 322, 443, 450, 573, 578, 591]</td>\n",
       "      <td>9</td>\n",
       "      <td>333.888889</td>\n",
       "      <td>[3113, 3114, 3092, 3065, 3053, 2939, 2956, 313...</td>\n",
       "      <td>True</td>\n",
       "      <td>True</td>\n",
       "      <td>True</td>\n",
       "      <td>dir_g0</td>\n",
       "    </tr>\n",
       "    <tr>\n",
       "      <th>1</th>\n",
       "      <td>3516398</td>\n",
       "      <td>3517633</td>\n",
       "      <td>87909950</td>\n",
       "      <td>87940825</td>\n",
       "      <td>[24.774312753338904, 21.341322813100255, 22.80...</td>\n",
       "      <td>70.924488</td>\n",
       "      <td>75.910504</td>\n",
       "      <td>False</td>\n",
       "      <td>/mnt/sphere/speech_bci/derived_data/z_w12m7_20...</td>\n",
       "      <td>1235</td>\n",
       "      <td>[[3516398, 3516823], [3516853, 3517633]]</td>\n",
       "      <td>2</td>\n",
       "      <td>[232]</td>\n",
       "      <td>1</td>\n",
       "      <td>1235.000000</td>\n",
       "      <td>[1633, 1576, 1584, 1547, 1632, 1666, 1575, 155...</td>\n",
       "      <td>True</td>\n",
       "      <td>True</td>\n",
       "      <td>True</td>\n",
       "      <td>dir_g0</td>\n",
       "    </tr>\n",
       "    <tr>\n",
       "      <th>2</th>\n",
       "      <td>3523963</td>\n",
       "      <td>3531278</td>\n",
       "      <td>88099075</td>\n",
       "      <td>88281950</td>\n",
       "      <td>[28.109543390680244, 31.73958122888766, 31.890...</td>\n",
       "      <td>70.924488</td>\n",
       "      <td>40.591913</td>\n",
       "      <td>False</td>\n",
       "      <td>/mnt/sphere/speech_bci/derived_data/z_w12m7_20...</td>\n",
       "      <td>7315</td>\n",
       "      <td>[[3523963, 3524073], [3526638, 3526738], [3528...</td>\n",
       "      <td>5</td>\n",
       "      <td>[4, 544, 900]</td>\n",
       "      <td>3</td>\n",
       "      <td>2438.333333</td>\n",
       "      <td>[8037, 7938, 7969, 7962, 7985, 8029, 7946, 794...</td>\n",
       "      <td>True</td>\n",
       "      <td>True</td>\n",
       "      <td>True</td>\n",
       "      <td>dir_g0</td>\n",
       "    </tr>\n",
       "    <tr>\n",
       "      <th>3</th>\n",
       "      <td>3538288</td>\n",
       "      <td>3542738</td>\n",
       "      <td>88457200</td>\n",
       "      <td>88568450</td>\n",
       "      <td>[31.551787644736283, 21.230169338530395, 21.19...</td>\n",
       "      <td>70.924488</td>\n",
       "      <td>46.247367</td>\n",
       "      <td>False</td>\n",
       "      <td>/mnt/sphere/speech_bci/derived_data/z_w12m7_20...</td>\n",
       "      <td>4450</td>\n",
       "      <td>[[3538288, 3538393], [3541288, 3541868], [3541...</td>\n",
       "      <td>4</td>\n",
       "      <td>[19, 709, 843]</td>\n",
       "      <td>3</td>\n",
       "      <td>1483.333333</td>\n",
       "      <td>[-4553, -4606, -4624, -4603, -4616, -4664, -46...</td>\n",
       "      <td>True</td>\n",
       "      <td>True</td>\n",
       "      <td>True</td>\n",
       "      <td>dir_g0</td>\n",
       "    </tr>\n",
       "    <tr>\n",
       "      <th>4</th>\n",
       "      <td>3548518</td>\n",
       "      <td>3564458</td>\n",
       "      <td>88712950</td>\n",
       "      <td>89111450</td>\n",
       "      <td>[22.69540114152416, 29.99044562858022, 28.0426...</td>\n",
       "      <td>70.924488</td>\n",
       "      <td>42.420410</td>\n",
       "      <td>False</td>\n",
       "      <td>/mnt/sphere/speech_bci/derived_data/z_w12m7_20...</td>\n",
       "      <td>15940</td>\n",
       "      <td>[[3548518, 3548568], [3548793, 3548953], [3550...</td>\n",
       "      <td>9</td>\n",
       "      <td>[858, 868, 1330, 1774, 2308, 2708]</td>\n",
       "      <td>6</td>\n",
       "      <td>2656.666667</td>\n",
       "      <td>[2208, 2201, 2050, 2153, 2128, 2199, 2107, 208...</td>\n",
       "      <td>True</td>\n",
       "      <td>True</td>\n",
       "      <td>True</td>\n",
       "      <td>dir_g0</td>\n",
       "    </tr>\n",
       "    <tr>\n",
       "      <th>...</th>\n",
       "      <td>...</td>\n",
       "      <td>...</td>\n",
       "      <td>...</td>\n",
       "      <td>...</td>\n",
       "      <td>...</td>\n",
       "      <td>...</td>\n",
       "      <td>...</td>\n",
       "      <td>...</td>\n",
       "      <td>...</td>\n",
       "      <td>...</td>\n",
       "      <td>...</td>\n",
       "      <td>...</td>\n",
       "      <td>...</td>\n",
       "      <td>...</td>\n",
       "      <td>...</td>\n",
       "      <td>...</td>\n",
       "      <td>...</td>\n",
       "      <td>...</td>\n",
       "      <td>...</td>\n",
       "      <td>...</td>\n",
       "    </tr>\n",
       "    <tr>\n",
       "      <th>188</th>\n",
       "      <td>6948628</td>\n",
       "      <td>6948758</td>\n",
       "      <td>173715700</td>\n",
       "      <td>173718950</td>\n",
       "      <td>[20.80006076339254, 19.650147250971585, 20.174...</td>\n",
       "      <td>70.924488</td>\n",
       "      <td>39.440554</td>\n",
       "      <td>False</td>\n",
       "      <td>/mnt/sphere/speech_bci/derived_data/z_w12m7_20...</td>\n",
       "      <td>130</td>\n",
       "      <td>[[6948628, 6948758]]</td>\n",
       "      <td>1</td>\n",
       "      <td>[5]</td>\n",
       "      <td>1</td>\n",
       "      <td>130.000000</td>\n",
       "      <td>[2357, 2298, 2305, 2303, 2309, 2355, 2272, 232...</td>\n",
       "      <td>True</td>\n",
       "      <td>True</td>\n",
       "      <td>True</td>\n",
       "      <td>dir_g0</td>\n",
       "    </tr>\n",
       "    <tr>\n",
       "      <th>189</th>\n",
       "      <td>6961043</td>\n",
       "      <td>6961138</td>\n",
       "      <td>174026075</td>\n",
       "      <td>174028450</td>\n",
       "      <td>[24.3514303003263, 18.507237825361223, 23.3256...</td>\n",
       "      <td>70.924488</td>\n",
       "      <td>39.151204</td>\n",
       "      <td>False</td>\n",
       "      <td>/mnt/sphere/speech_bci/derived_data/z_w12m7_20...</td>\n",
       "      <td>95</td>\n",
       "      <td>[[6961043, 6961138]]</td>\n",
       "      <td>1</td>\n",
       "      <td>[7]</td>\n",
       "      <td>1</td>\n",
       "      <td>95.000000</td>\n",
       "      <td>[-1003, -973, -865, -916, -900, -844, -950, -1...</td>\n",
       "      <td>True</td>\n",
       "      <td>True</td>\n",
       "      <td>True</td>\n",
       "      <td>dir_g0</td>\n",
       "    </tr>\n",
       "    <tr>\n",
       "      <th>190</th>\n",
       "      <td>6978553</td>\n",
       "      <td>6980813</td>\n",
       "      <td>174463825</td>\n",
       "      <td>174520325</td>\n",
       "      <td>[25.1208058938151, 21.24865622293375, 20.29980...</td>\n",
       "      <td>70.924488</td>\n",
       "      <td>42.780563</td>\n",
       "      <td>False</td>\n",
       "      <td>/mnt/sphere/speech_bci/derived_data/z_w12m7_20...</td>\n",
       "      <td>2260</td>\n",
       "      <td>[[6978553, 6978783], [6980588, 6980813]]</td>\n",
       "      <td>2</td>\n",
       "      <td>[27, 430]</td>\n",
       "      <td>2</td>\n",
       "      <td>1130.000000</td>\n",
       "      <td>[1169, 1236, 1195, 1237, 1170, 1043, 1094, 109...</td>\n",
       "      <td>True</td>\n",
       "      <td>True</td>\n",
       "      <td>True</td>\n",
       "      <td>dir_g0</td>\n",
       "    </tr>\n",
       "    <tr>\n",
       "      <th>191</th>\n",
       "      <td>6987738</td>\n",
       "      <td>6987803</td>\n",
       "      <td>174693450</td>\n",
       "      <td>174695075</td>\n",
       "      <td>[26.671553523831427, 29.949003832174395, 24.35...</td>\n",
       "      <td>70.924488</td>\n",
       "      <td>29.949004</td>\n",
       "      <td>False</td>\n",
       "      <td>/mnt/sphere/speech_bci/derived_data/z_w12m7_20...</td>\n",
       "      <td>65</td>\n",
       "      <td>[[6987738, 6987803]]</td>\n",
       "      <td>1</td>\n",
       "      <td>[]</td>\n",
       "      <td>0</td>\n",
       "      <td>NaN</td>\n",
       "      <td>[-4052, -4042, -4073, -4086, -4125, -4032, -40...</td>\n",
       "      <td>True</td>\n",
       "      <td>True</td>\n",
       "      <td>True</td>\n",
       "      <td>dir_g0</td>\n",
       "    </tr>\n",
       "    <tr>\n",
       "      <th>192</th>\n",
       "      <td>6991598</td>\n",
       "      <td>6992178</td>\n",
       "      <td>174789950</td>\n",
       "      <td>174804450</td>\n",
       "      <td>[25.243912289752444, 27.924280536164275, 20.98...</td>\n",
       "      <td>70.924488</td>\n",
       "      <td>41.280694</td>\n",
       "      <td>False</td>\n",
       "      <td>/mnt/sphere/speech_bci/derived_data/z_w12m7_20...</td>\n",
       "      <td>580</td>\n",
       "      <td>[[6991598, 6991858], [6991878, 6992178]]</td>\n",
       "      <td>2</td>\n",
       "      <td>[80, 84]</td>\n",
       "      <td>2</td>\n",
       "      <td>290.000000</td>\n",
       "      <td>[-834, -790, -775, -777, -687, -585, -716, -61...</td>\n",
       "      <td>True</td>\n",
       "      <td>True</td>\n",
       "      <td>True</td>\n",
       "      <td>dir_g0</td>\n",
       "    </tr>\n",
       "  </tbody>\n",
       "</table>\n",
       "<p>193 rows × 20 columns</p>\n",
       "</div>"
      ],
      "text/plain": [
       "     start_ms   end_ms  start_sample  end_sample  \\\n",
       "0     3496163  3499168      87404075    87479200   \n",
       "1     3516398  3517633      87909950    87940825   \n",
       "2     3523963  3531278      88099075    88281950   \n",
       "3     3538288  3542738      88457200    88568450   \n",
       "4     3548518  3564458      88712950    89111450   \n",
       "..        ...      ...           ...         ...   \n",
       "188   6948628  6948758     173715700   173718950   \n",
       "189   6961043  6961138     174026075   174028450   \n",
       "190   6978553  6980813     174463825   174520325   \n",
       "191   6987738  6987803     174693450   174695075   \n",
       "192   6991598  6992178     174789950   174804450   \n",
       "\n",
       "                                                p_step      rms_p      peak_p  \\\n",
       "0    [365.2130651692613, 21.52861785064727, 27.9565...  70.924488  365.213065   \n",
       "1    [24.774312753338904, 21.341322813100255, 22.80...  70.924488   75.910504   \n",
       "2    [28.109543390680244, 31.73958122888766, 31.890...  70.924488   40.591913   \n",
       "3    [31.551787644736283, 21.230169338530395, 21.19...  70.924488   46.247367   \n",
       "4    [22.69540114152416, 29.99044562858022, 28.0426...  70.924488   42.420410   \n",
       "..                                                 ...        ...         ...   \n",
       "188  [20.80006076339254, 19.650147250971585, 20.174...  70.924488   39.440554   \n",
       "189  [24.3514303003263, 18.507237825361223, 23.3256...  70.924488   39.151204   \n",
       "190  [25.1208058938151, 21.24865622293375, 20.29980...  70.924488   42.780563   \n",
       "191  [26.671553523831427, 29.949003832174395, 24.35...  70.924488   29.949004   \n",
       "192  [25.243912289752444, 27.924280536164275, 20.98...  70.924488   41.280694   \n",
       "\n",
       "     bout_check                                               file  len_ms  \\\n",
       "0         False  /mnt/sphere/speech_bci/derived_data/z_w12m7_20...    3005   \n",
       "1         False  /mnt/sphere/speech_bci/derived_data/z_w12m7_20...    1235   \n",
       "2         False  /mnt/sphere/speech_bci/derived_data/z_w12m7_20...    7315   \n",
       "3         False  /mnt/sphere/speech_bci/derived_data/z_w12m7_20...    4450   \n",
       "4         False  /mnt/sphere/speech_bci/derived_data/z_w12m7_20...   15940   \n",
       "..          ...                                                ...     ...   \n",
       "188       False  /mnt/sphere/speech_bci/derived_data/z_w12m7_20...     130   \n",
       "189       False  /mnt/sphere/speech_bci/derived_data/z_w12m7_20...      95   \n",
       "190       False  /mnt/sphere/speech_bci/derived_data/z_w12m7_20...    2260   \n",
       "191       False  /mnt/sphere/speech_bci/derived_data/z_w12m7_20...      65   \n",
       "192       False  /mnt/sphere/speech_bci/derived_data/z_w12m7_20...     580   \n",
       "\n",
       "                                                syl_in  n_syl  \\\n",
       "0    [[3496163, 3496248], [3497403, 3497493], [3497...      7   \n",
       "1             [[3516398, 3516823], [3516853, 3517633]]      2   \n",
       "2    [[3523963, 3524073], [3526638, 3526738], [3528...      5   \n",
       "3    [[3538288, 3538393], [3541288, 3541868], [3541...      4   \n",
       "4    [[3548518, 3548568], [3548793, 3548953], [3550...      9   \n",
       "..                                                 ...    ...   \n",
       "188                               [[6948628, 6948758]]      1   \n",
       "189                               [[6961043, 6961138]]      1   \n",
       "190           [[6978553, 6978783], [6980588, 6980813]]      2   \n",
       "191                               [[6987738, 6987803]]      1   \n",
       "192           [[6991598, 6991858], [6991878, 6992178]]      2   \n",
       "\n",
       "                                           peaks_p  n_peaks    l_p_ratio  \\\n",
       "0    [277, 306, 317, 322, 443, 450, 573, 578, 591]        9   333.888889   \n",
       "1                                            [232]        1  1235.000000   \n",
       "2                                    [4, 544, 900]        3  2438.333333   \n",
       "3                                   [19, 709, 843]        3  1483.333333   \n",
       "4               [858, 868, 1330, 1774, 2308, 2708]        6  2656.666667   \n",
       "..                                             ...      ...          ...   \n",
       "188                                            [5]        1   130.000000   \n",
       "189                                            [7]        1    95.000000   \n",
       "190                                      [27, 430]        2  1130.000000   \n",
       "191                                             []        0          NaN   \n",
       "192                                       [80, 84]        2   290.000000   \n",
       "\n",
       "                                              waveform  confusing  \\\n",
       "0    [3113, 3114, 3092, 3065, 3053, 2939, 2956, 313...       True   \n",
       "1    [1633, 1576, 1584, 1547, 1632, 1666, 1575, 155...       True   \n",
       "2    [8037, 7938, 7969, 7962, 7985, 8029, 7946, 794...       True   \n",
       "3    [-4553, -4606, -4624, -4603, -4616, -4664, -46...       True   \n",
       "4    [2208, 2201, 2050, 2153, 2128, 2199, 2107, 208...       True   \n",
       "..                                                 ...        ...   \n",
       "188  [2357, 2298, 2305, 2303, 2309, 2355, 2272, 232...       True   \n",
       "189  [-1003, -973, -865, -916, -900, -844, -950, -1...       True   \n",
       "190  [1169, 1236, 1195, 1237, 1170, 1043, 1094, 109...       True   \n",
       "191  [-4052, -4042, -4073, -4086, -4125, -4032, -40...       True   \n",
       "192  [-834, -790, -775, -777, -687, -585, -716, -61...       True   \n",
       "\n",
       "     valid_waveform  valid   epoch  \n",
       "0              True   True  dir_g0  \n",
       "1              True   True  dir_g0  \n",
       "2              True   True  dir_g0  \n",
       "3              True   True  dir_g0  \n",
       "4              True   True  dir_g0  \n",
       "..              ...    ...     ...  \n",
       "188            True   True  dir_g0  \n",
       "189            True   True  dir_g0  \n",
       "190            True   True  dir_g0  \n",
       "191            True   True  dir_g0  \n",
       "192            True   True  dir_g0  \n",
       "\n",
       "[193 rows x 20 columns]"
      ]
     },
     "execution_count": 17,
     "metadata": {},
     "output_type": "execute_result"
    }
   ],
   "source": [
    "bout_pd"
   ]
  },
  {
   "cell_type": "code",
   "execution_count": 18,
   "id": "interested-lincoln",
   "metadata": {},
   "outputs": [
    {
     "data": {
      "text/plain": [
       "<module 'ceciestunepipe.file.bcistructure' from '/home/finch/repos/ceciestunepipe/ceciestunepipe/file/bcistructure.py'>"
      ]
     },
     "execution_count": 18,
     "metadata": {},
     "output_type": "execute_result"
    }
   ],
   "source": [
    "reload(et)"
   ]
  },
  {
   "cell_type": "markdown",
   "id": "eight-pillow",
   "metadata": {},
   "source": [
    "#### compute the spectrograms"
   ]
  },
  {
   "cell_type": "code",
   "execution_count": 19,
   "id": "different-flower",
   "metadata": {
    "tags": []
   },
   "outputs": [],
   "source": [
    "# but don't compute if they were already computed\n",
    "# try:\n",
    "#     bout_pd = pd.read_pickle(sess_bouts_file) ## make it jump if there is no sess_bouts file\n",
    "#     one_spec = bout_pd['spectrogram'][0] ## make it jump if there is no spectrogram key\n",
    "#     logger.info('loaded bout pandas with spectrograms from ' + sess_bouts_file)\n",
    "# except KeyError:\n",
    "#     logger.info('Computing spectrograms')\n",
    "#     bout_pd['spectrogram'] = bout_pd['waveform'].apply(lambda x: bs.gimmepower(x, hparams)[2])\n",
    "#     logger.info('saving bout pandas with spectrogram to ' + sess_bouts_file)\n",
    "#     bout_pd.to_pickle(sess_bouts_file)"
   ]
  },
  {
   "cell_type": "code",
   "execution_count": 20,
   "id": "e9da24fc-7dc8-479f-b162-9e452f79b8b7",
   "metadata": {},
   "outputs": [
    {
     "name": "stderr",
     "output_type": "stream",
     "text": [
      "2021-11-19 10:37:21,087 root         INFO     Computing spectrograms\n",
      "2021-11-19 10:37:37,010 root         INFO     saving bout pandas with spectrogram to /mnt/sphere/speech_bci/derived_data/z_w12m7_20/2020-11-06/bouts_sglx/bout_sess_auto.pickle\n"
     ]
    }
   ],
   "source": [
    "# just compute them alright?\n",
    "logger.info('Computing spectrograms')\n",
    "bout_pd['spectrogram'] = bout_pd['waveform'].apply(lambda x: bs.gimmepower(x, hparams)[2])\n",
    "logger.info('saving bout pandas with spectrogram to ' + sess_bouts_file)\n",
    "bout_pd.to_pickle(sess_bouts_file)"
   ]
  },
  {
   "cell_type": "code",
   "execution_count": 21,
   "id": "incorporated-pitch",
   "metadata": {},
   "outputs": [
    {
     "data": {
      "text/html": [
       "<div>\n",
       "<style scoped>\n",
       "    .dataframe tbody tr th:only-of-type {\n",
       "        vertical-align: middle;\n",
       "    }\n",
       "\n",
       "    .dataframe tbody tr th {\n",
       "        vertical-align: top;\n",
       "    }\n",
       "\n",
       "    .dataframe thead th {\n",
       "        text-align: right;\n",
       "    }\n",
       "</style>\n",
       "<table border=\"1\" class=\"dataframe\">\n",
       "  <thead>\n",
       "    <tr style=\"text-align: right;\">\n",
       "      <th></th>\n",
       "      <th>start_ms</th>\n",
       "      <th>end_ms</th>\n",
       "      <th>start_sample</th>\n",
       "      <th>end_sample</th>\n",
       "      <th>p_step</th>\n",
       "      <th>rms_p</th>\n",
       "      <th>peak_p</th>\n",
       "      <th>bout_check</th>\n",
       "      <th>file</th>\n",
       "      <th>len_ms</th>\n",
       "      <th>...</th>\n",
       "      <th>n_syl</th>\n",
       "      <th>peaks_p</th>\n",
       "      <th>n_peaks</th>\n",
       "      <th>l_p_ratio</th>\n",
       "      <th>waveform</th>\n",
       "      <th>confusing</th>\n",
       "      <th>valid_waveform</th>\n",
       "      <th>valid</th>\n",
       "      <th>epoch</th>\n",
       "      <th>spectrogram</th>\n",
       "    </tr>\n",
       "  </thead>\n",
       "  <tbody>\n",
       "    <tr>\n",
       "      <th>0</th>\n",
       "      <td>3496163</td>\n",
       "      <td>3499168</td>\n",
       "      <td>87404075</td>\n",
       "      <td>87479200</td>\n",
       "      <td>[365.2130651692613, 21.52861785064727, 27.9565...</td>\n",
       "      <td>70.924488</td>\n",
       "      <td>365.213065</td>\n",
       "      <td>False</td>\n",
       "      <td>/mnt/sphere/speech_bci/derived_data/z_w12m7_20...</td>\n",
       "      <td>3005</td>\n",
       "      <td>...</td>\n",
       "      <td>7</td>\n",
       "      <td>[277, 306, 317, 322, 443, 450, 573, 578, 591]</td>\n",
       "      <td>9</td>\n",
       "      <td>333.888889</td>\n",
       "      <td>[3113, 3114, 3092, 3065, 3053, 2939, 2956, 313...</td>\n",
       "      <td>True</td>\n",
       "      <td>True</td>\n",
       "      <td>True</td>\n",
       "      <td>dir_g0</td>\n",
       "      <td>[[0.26846311722804306, 0.0, 0.0, 0.0, 0.0, 0.0...</td>\n",
       "    </tr>\n",
       "    <tr>\n",
       "      <th>1</th>\n",
       "      <td>3516398</td>\n",
       "      <td>3517633</td>\n",
       "      <td>87909950</td>\n",
       "      <td>87940825</td>\n",
       "      <td>[24.774312753338904, 21.341322813100255, 22.80...</td>\n",
       "      <td>70.924488</td>\n",
       "      <td>75.910504</td>\n",
       "      <td>False</td>\n",
       "      <td>/mnt/sphere/speech_bci/derived_data/z_w12m7_20...</td>\n",
       "      <td>1235</td>\n",
       "      <td>...</td>\n",
       "      <td>2</td>\n",
       "      <td>[232]</td>\n",
       "      <td>1</td>\n",
       "      <td>1235.000000</td>\n",
       "      <td>[1633, 1576, 1584, 1547, 1632, 1666, 1575, 155...</td>\n",
       "      <td>True</td>\n",
       "      <td>True</td>\n",
       "      <td>True</td>\n",
       "      <td>dir_g0</td>\n",
       "      <td>[[0.16286924726281934, 0.0, 0.0, 0.0, 0.0, 0.0...</td>\n",
       "    </tr>\n",
       "  </tbody>\n",
       "</table>\n",
       "<p>2 rows × 21 columns</p>\n",
       "</div>"
      ],
      "text/plain": [
       "   start_ms   end_ms  start_sample  end_sample  \\\n",
       "0   3496163  3499168      87404075    87479200   \n",
       "1   3516398  3517633      87909950    87940825   \n",
       "\n",
       "                                              p_step      rms_p      peak_p  \\\n",
       "0  [365.2130651692613, 21.52861785064727, 27.9565...  70.924488  365.213065   \n",
       "1  [24.774312753338904, 21.341322813100255, 22.80...  70.924488   75.910504   \n",
       "\n",
       "   bout_check                                               file  len_ms  ...  \\\n",
       "0       False  /mnt/sphere/speech_bci/derived_data/z_w12m7_20...    3005  ...   \n",
       "1       False  /mnt/sphere/speech_bci/derived_data/z_w12m7_20...    1235  ...   \n",
       "\n",
       "  n_syl                                        peaks_p n_peaks    l_p_ratio  \\\n",
       "0     7  [277, 306, 317, 322, 443, 450, 573, 578, 591]       9   333.888889   \n",
       "1     2                                          [232]       1  1235.000000   \n",
       "\n",
       "                                            waveform confusing  \\\n",
       "0  [3113, 3114, 3092, 3065, 3053, 2939, 2956, 313...      True   \n",
       "1  [1633, 1576, 1584, 1547, 1632, 1666, 1575, 155...      True   \n",
       "\n",
       "   valid_waveform  valid   epoch  \\\n",
       "0            True   True  dir_g0   \n",
       "1            True   True  dir_g0   \n",
       "\n",
       "                                         spectrogram  \n",
       "0  [[0.26846311722804306, 0.0, 0.0, 0.0, 0.0, 0.0...  \n",
       "1  [[0.16286924726281934, 0.0, 0.0, 0.0, 0.0, 0.0...  \n",
       "\n",
       "[2 rows x 21 columns]"
      ]
     },
     "execution_count": 21,
     "metadata": {},
     "output_type": "execute_result"
    }
   ],
   "source": [
    "bout_pd.head(2)"
   ]
  },
  {
   "cell_type": "code",
   "execution_count": 22,
   "id": "loose-fluid",
   "metadata": {},
   "outputs": [
    {
     "data": {
      "text/plain": [
       "'/mnt/sphere/speech_bci/derived_data/z_w12m7_20/2020-11-06/sglx/dir_g0/wav_mic.wav'"
      ]
     },
     "execution_count": 22,
     "metadata": {},
     "output_type": "execute_result"
    }
   ],
   "source": [
    "bout_pd['file'][0]"
   ]
  },
  {
   "cell_type": "markdown",
   "id": "specified-cache",
   "metadata": {},
   "source": [
    "## inspect the bouts and curate them"
   ]
  },
  {
   "cell_type": "markdown",
   "id": "practical-finish",
   "metadata": {},
   "source": [
    "#### visualize one bout"
   ]
  },
  {
   "cell_type": "code",
   "execution_count": 23,
   "id": "greek-protein",
   "metadata": {},
   "outputs": [
    {
     "data": {
      "text/plain": [
       "start_ms                                                    3496163\n",
       "end_ms                                                      3499168\n",
       "start_sample                                               87404075\n",
       "end_sample                                                 87479200\n",
       "p_step            [365.2130651692613, 21.52861785064727, 27.9565...\n",
       "rms_p                                                     70.924488\n",
       "peak_p                                                   365.213065\n",
       "bout_check                                                    False\n",
       "file              /mnt/sphere/speech_bci/derived_data/z_w12m7_20...\n",
       "len_ms                                                         3005\n",
       "syl_in            [[3496163, 3496248], [3497403, 3497493], [3497...\n",
       "n_syl                                                             7\n",
       "peaks_p               [277, 306, 317, 322, 443, 450, 573, 578, 591]\n",
       "n_peaks                                                           9\n",
       "l_p_ratio                                                333.888889\n",
       "waveform          [3113, 3114, 3092, 3065, 3053, 2939, 2956, 313...\n",
       "confusing                                                      True\n",
       "valid_waveform                                                 True\n",
       "valid                                                          True\n",
       "epoch                                                        dir_g0\n",
       "spectrogram       [[0.26846311722804306, 0.0, 0.0, 0.0, 0.0, 0.0...\n",
       "Name: 0, dtype: object"
      ]
     },
     "execution_count": 23,
     "metadata": {},
     "output_type": "execute_result"
    }
   ],
   "source": [
    "bout_pd.iloc[0]"
   ]
  },
  {
   "cell_type": "code",
   "execution_count": 24,
   "id": "favorite-abortion",
   "metadata": {},
   "outputs": [],
   "source": [
    "import plotly.express as px\n",
    "import plotly.graph_objects as go\n",
    "\n",
    "from ipywidgets import widgets"
   ]
  },
  {
   "cell_type": "code",
   "execution_count": 25,
   "id": "sound-wyoming",
   "metadata": {},
   "outputs": [
    {
     "data": {
      "application/vnd.jupyter.widget-view+json": {
       "model_id": "824a51a1f2b14ee9a0792bfa979eade9",
       "version_major": 2,
       "version_minor": 0
      },
      "text/plain": [
       "VBox(children=(FigureWidget({\n",
       "    'data': [{'type': 'scatter',\n",
       "              'uid': 'e7ddce93-073c-4577-b553-c…"
      ]
     },
     "metadata": {},
     "output_type": "display_data"
    }
   ],
   "source": [
    "def viz_one_bout(df: pd.Series, sub_sample=1):\n",
    "    # get the power and the spectrogram\n",
    "    sxx = df['spectrogram'][:, ::sub_sample]\n",
    "    x = df['waveform'][::sub_sample]\n",
    "    \n",
    "    # the trace\n",
    "    tr_waveform = go.Scatter(y=x)\n",
    "    figwidg_waveform = go.FigureWidget(data=[tr_waveform],\n",
    "                                      layout= {'height': 300,'width':1000})\n",
    "\n",
    "    # the spectrogram\n",
    "    fig_spectrogram = px.imshow(sxx, \n",
    "                                     labels={}, \n",
    "                                     color_continuous_scale='Inferno',\n",
    "                                    aspect='auto')\n",
    "\n",
    "    fig_spectrogram.update_layout(width=1000, height=300, coloraxis_showscale=False)\n",
    "    fig_spectrogram.update_xaxes(showticklabels=False)\n",
    "    fig_spectrogram.update_yaxes(showticklabels=False)\n",
    "    \n",
    "    \n",
    "    figwidg_spectrogram = go.FigureWidget(fig_spectrogram)\n",
    "    \n",
    "    display(widgets.VBox([figwidg_waveform,\n",
    "              figwidg_spectrogram]))\n",
    "    \n",
    "\n",
    "viz_one_bout(bout_pd.iloc[24])"
   ]
  },
  {
   "cell_type": "code",
   "execution_count": 26,
   "id": "existing-therapist",
   "metadata": {},
   "outputs": [
    {
     "data": {
      "text/html": [
       "<div>\n",
       "<style scoped>\n",
       "    .dataframe tbody tr th:only-of-type {\n",
       "        vertical-align: middle;\n",
       "    }\n",
       "\n",
       "    .dataframe tbody tr th {\n",
       "        vertical-align: top;\n",
       "    }\n",
       "\n",
       "    .dataframe thead th {\n",
       "        text-align: right;\n",
       "    }\n",
       "</style>\n",
       "<table border=\"1\" class=\"dataframe\">\n",
       "  <thead>\n",
       "    <tr style=\"text-align: right;\">\n",
       "      <th></th>\n",
       "      <th>start_ms</th>\n",
       "      <th>end_ms</th>\n",
       "      <th>start_sample</th>\n",
       "      <th>end_sample</th>\n",
       "      <th>p_step</th>\n",
       "      <th>rms_p</th>\n",
       "      <th>peak_p</th>\n",
       "      <th>bout_check</th>\n",
       "      <th>file</th>\n",
       "      <th>len_ms</th>\n",
       "      <th>...</th>\n",
       "      <th>n_syl</th>\n",
       "      <th>peaks_p</th>\n",
       "      <th>n_peaks</th>\n",
       "      <th>l_p_ratio</th>\n",
       "      <th>waveform</th>\n",
       "      <th>confusing</th>\n",
       "      <th>valid_waveform</th>\n",
       "      <th>valid</th>\n",
       "      <th>epoch</th>\n",
       "      <th>spectrogram</th>\n",
       "    </tr>\n",
       "  </thead>\n",
       "  <tbody>\n",
       "    <tr>\n",
       "      <th>0</th>\n",
       "      <td>3496163</td>\n",
       "      <td>3499168</td>\n",
       "      <td>87404075</td>\n",
       "      <td>87479200</td>\n",
       "      <td>[365.2130651692613, 21.52861785064727, 27.9565...</td>\n",
       "      <td>70.924488</td>\n",
       "      <td>365.213065</td>\n",
       "      <td>False</td>\n",
       "      <td>/mnt/sphere/speech_bci/derived_data/z_w12m7_20...</td>\n",
       "      <td>3005</td>\n",
       "      <td>...</td>\n",
       "      <td>7</td>\n",
       "      <td>[277, 306, 317, 322, 443, 450, 573, 578, 591]</td>\n",
       "      <td>9</td>\n",
       "      <td>333.888889</td>\n",
       "      <td>[3113, 3114, 3092, 3065, 3053, 2939, 2956, 313...</td>\n",
       "      <td>True</td>\n",
       "      <td>True</td>\n",
       "      <td>True</td>\n",
       "      <td>dir_g0</td>\n",
       "      <td>[[0.26846311722804306, 0.0, 0.0, 0.0, 0.0, 0.0...</td>\n",
       "    </tr>\n",
       "    <tr>\n",
       "      <th>1</th>\n",
       "      <td>3516398</td>\n",
       "      <td>3517633</td>\n",
       "      <td>87909950</td>\n",
       "      <td>87940825</td>\n",
       "      <td>[24.774312753338904, 21.341322813100255, 22.80...</td>\n",
       "      <td>70.924488</td>\n",
       "      <td>75.910504</td>\n",
       "      <td>False</td>\n",
       "      <td>/mnt/sphere/speech_bci/derived_data/z_w12m7_20...</td>\n",
       "      <td>1235</td>\n",
       "      <td>...</td>\n",
       "      <td>2</td>\n",
       "      <td>[232]</td>\n",
       "      <td>1</td>\n",
       "      <td>1235.000000</td>\n",
       "      <td>[1633, 1576, 1584, 1547, 1632, 1666, 1575, 155...</td>\n",
       "      <td>True</td>\n",
       "      <td>True</td>\n",
       "      <td>True</td>\n",
       "      <td>dir_g0</td>\n",
       "      <td>[[0.16286924726281934, 0.0, 0.0, 0.0, 0.0, 0.0...</td>\n",
       "    </tr>\n",
       "  </tbody>\n",
       "</table>\n",
       "<p>2 rows × 21 columns</p>\n",
       "</div>"
      ],
      "text/plain": [
       "   start_ms   end_ms  start_sample  end_sample  \\\n",
       "0   3496163  3499168      87404075    87479200   \n",
       "1   3516398  3517633      87909950    87940825   \n",
       "\n",
       "                                              p_step      rms_p      peak_p  \\\n",
       "0  [365.2130651692613, 21.52861785064727, 27.9565...  70.924488  365.213065   \n",
       "1  [24.774312753338904, 21.341322813100255, 22.80...  70.924488   75.910504   \n",
       "\n",
       "   bout_check                                               file  len_ms  ...  \\\n",
       "0       False  /mnt/sphere/speech_bci/derived_data/z_w12m7_20...    3005  ...   \n",
       "1       False  /mnt/sphere/speech_bci/derived_data/z_w12m7_20...    1235  ...   \n",
       "\n",
       "  n_syl                                        peaks_p n_peaks    l_p_ratio  \\\n",
       "0     7  [277, 306, 317, 322, 443, 450, 573, 578, 591]       9   333.888889   \n",
       "1     2                                          [232]       1  1235.000000   \n",
       "\n",
       "                                            waveform confusing  \\\n",
       "0  [3113, 3114, 3092, 3065, 3053, 2939, 2956, 313...      True   \n",
       "1  [1633, 1576, 1584, 1547, 1632, 1666, 1575, 155...      True   \n",
       "\n",
       "   valid_waveform  valid   epoch  \\\n",
       "0            True   True  dir_g0   \n",
       "1            True   True  dir_g0   \n",
       "\n",
       "                                         spectrogram  \n",
       "0  [[0.26846311722804306, 0.0, 0.0, 0.0, 0.0, 0.0...  \n",
       "1  [[0.16286924726281934, 0.0, 0.0, 0.0, 0.0, 0.0...  \n",
       "\n",
       "[2 rows x 21 columns]"
      ]
     },
     "execution_count": 26,
     "metadata": {},
     "output_type": "execute_result"
    }
   ],
   "source": [
    "bout_pd.head(2)"
   ]
  },
  {
   "cell_type": "markdown",
   "id": "coastal-cooperation",
   "metadata": {},
   "source": [
    "## use it in a widget\n"
   ]
  },
  {
   "cell_type": "markdown",
   "id": "attempted-elimination",
   "metadata": {},
   "source": [
    "#### add a 'confusing' label, for not/sure/mixed.\n",
    "we want to avoid having things we are not sure of in the training dataset"
   ]
  },
  {
   "cell_type": "code",
   "execution_count": 27,
   "id": "balanced-newport",
   "metadata": {},
   "outputs": [],
   "source": [
    "bout_pd.reset_index(drop=True, inplace=True)"
   ]
  },
  {
   "cell_type": "code",
   "execution_count": 28,
   "id": "satisfied-australian",
   "metadata": {},
   "outputs": [],
   "source": [
    "## Set confusing by default, will only be False once asserted bout/or not\n",
    "bout_pd['confusing'] = True\n",
    "bout_pd['bout_check'] = False"
   ]
  },
  {
   "cell_type": "code",
   "execution_count": 29,
   "id": "functional-dressing",
   "metadata": {},
   "outputs": [],
   "source": [
    "### Create a counter object (count goes 1:1 to DataFrame index)\n",
    "from traitlets import CInt, link\n",
    "\n",
    "class Counter(widgets.DOMWidget):\n",
    "    value = CInt(0)\n",
    "    value.tag(sync=True)"
   ]
  },
  {
   "cell_type": "code",
   "execution_count": 30,
   "id": "growing-queue",
   "metadata": {},
   "outputs": [
    {
     "data": {
      "application/vnd.jupyter.widget-view+json": {
       "model_id": "d0fc3c0158ba47c9962cca72399d265a",
       "version_major": 2,
       "version_minor": 0
      },
      "text/plain": [
       "VBox(children=(HBox(children=(HBox(children=(VBox(children=(Button(button_style='warning', description='Prev',…"
      ]
     },
     "metadata": {},
     "output_type": "display_data"
    }
   ],
   "source": [
    "class VizBout():\n",
    "    def __init__(self, hparams, bouts_pd):\n",
    "        self.bout = None\n",
    "        self.bouts_pd = bouts_pd\n",
    "        self.bout_series = None\n",
    "        self.is_bout = None\n",
    "        self.is_confusing = None\n",
    "        \n",
    "        self.bout_counter = None\n",
    "        self.bout_id = None\n",
    "        \n",
    "        self.buttons = {}\n",
    "        self.m_pick = None\n",
    "        \n",
    "        \n",
    "        self.fig_waveform = None\n",
    "        self.fig_spectrogram = None\n",
    "        \n",
    "        self.figwidg_waveform = None\n",
    "        self.figwidg_spectrogram = None\n",
    "        \n",
    "        self.fig_width = 2\n",
    "        self.sub_sample = 10\n",
    "        \n",
    "        self.x = None\n",
    "        self.sxx = None\n",
    "        self.tr_waveform = None\n",
    "        \n",
    "        self.s_f = hparams['sample_rate']\n",
    "        \n",
    "        self.init_fig()\n",
    "        self.init_widget()\n",
    "        self.show()\n",
    "        \n",
    "    def init_fig(self):\n",
    "        # the trace\n",
    "        self.tr_waveform = go.Scatter(y=np.zeros(500))\n",
    "        self.figwidg_waveform = go.FigureWidget(data=[self.tr_waveform],\n",
    "                                               layout={'width': 1000, 'height':300})\n",
    "        \n",
    "        # the spectrogram\n",
    "        self.fig_spectrogram = px.imshow(np.random.rand(500, 500), \n",
    "                                         labels={}, \n",
    "                                         color_continuous_scale='Inferno',\n",
    "                                        aspect='auto')\n",
    "        \n",
    "        self.fig_spectrogram.update_layout(width=1000, height=300, coloraxis_showscale=False)\n",
    "        self.fig_spectrogram.update_xaxes(showticklabels=False)\n",
    "        self.fig_spectrogram.update_yaxes(showticklabels=False)\n",
    "        self.figwidg_spectrogram = go.FigureWidget(self.fig_spectrogram)\n",
    "        \n",
    "        \n",
    "    def init_widget(self):\n",
    "        # declare elements\n",
    "        # lay them out\n",
    "        #\n",
    "        \n",
    "        self.bout_counter = Counter()\n",
    "        self.is_bout = widgets.Checkbox(description='is bout')\n",
    "        self.is_confusing = widgets.Checkbox(description='Not sure or mixed')\n",
    "        \n",
    "        self.buttons['Next'] = widgets.Button(description=\"Next\", button_style='info',\n",
    "                                              icon='plus')   \n",
    "        self.buttons['Prev'] = widgets.Button(description=\"Prev\", button_style='warning',\n",
    "                                              icon='minus')\n",
    "        self.buttons['Check'] = widgets.Button(description=\"Check\", button_style='success', \n",
    "                                               icon='check')\n",
    "        self.buttons['Uncheck'] = widgets.Button(description=\"Uncheck\", button_style='danger',\n",
    "                                                 icon='wrong')\n",
    "        \n",
    "        [b.on_click(self.button_click) for b in self.buttons.values()]\n",
    "        \n",
    "        left_box = widgets.VBox([self.buttons['Prev'], self.buttons['Uncheck']])\n",
    "        right_box = widgets.VBox([self.buttons['Next'], self.buttons['Check']])\n",
    "        button_box = widgets.HBox([left_box, right_box])\n",
    "\n",
    "        self.m_pick = widgets.IntSlider(value=0, min=0, max=self.bouts_pd.index.size-1,step=1, \n",
    "                                        description=\"Bout candidate index\")\n",
    "        \n",
    "        \n",
    "        control_box = widgets.HBox([button_box,\n",
    "                                  widgets.VBox([self.is_bout, self.is_confusing]),\n",
    "                                    self.m_pick])\n",
    "        \n",
    "        link((self.m_pick, 'value'), (self.bout_counter, 'value'))\n",
    "\n",
    "        self.update_bout()\n",
    "        \n",
    "        self.is_bout.observe(self.bout_checked, names='value')\n",
    "        self.is_confusing.observe(self.confusing_checked, names='value')\n",
    "        self.m_pick.observe(self.slider_change, names='value')\n",
    "        \n",
    "        all_containers = widgets.VBox([control_box, \n",
    "                                       self.figwidg_waveform, self.figwidg_spectrogram])\n",
    "        display(all_containers)\n",
    "#         display(button_box)\n",
    "#         display(self.m_pick)\n",
    "#         display(self.is_bout)\n",
    "#         display(self.fig)\n",
    "        \n",
    "    def button_click(self, button):        \n",
    "        self.bout_id = self.bout_counter.value\n",
    "        curr_bout = self.bout_counter\n",
    "        \n",
    "        if button.description == 'Next':\n",
    "            curr_bout.value += 1\n",
    "        elif button.description == 'Prev':\n",
    "            curr_bout.value -= 1\n",
    "        elif button.description == 'Check':\n",
    "            self.bouts_pd.loc[self.bout_id, 'bout_check'] = True\n",
    "            self.bouts_pd.loc[self.bout_id, 'confusing'] = False\n",
    "            curr_bout.value += 1\n",
    "        elif button.description == 'Uncheck':\n",
    "            self.bouts_pd.loc[self.bout_id, 'bout_check'] = False\n",
    "            self.bouts_pd.loc[self.bout_id, 'confusing'] = False\n",
    "            curr_bout.value += 1\n",
    "        \n",
    "        # handle the edges of the counter\n",
    "        if curr_bout.value > self.m_pick.max:\n",
    "            curr_bout.value = 0\n",
    "            \n",
    "        if curr_bout.value < self.m_pick.min:\n",
    "            curr_bout.value = self.m_pick.max\n",
    "    \n",
    "    def slider_change(self, change):\n",
    "        #logger.info('slider changed')\n",
    "        #self.bout_counter = change.new\n",
    "        #clear_output(True)\n",
    "        self.update_bout()\n",
    "        self.show()\n",
    "            \n",
    "    def bout_checked(self, bc):\n",
    "#         print \"bout checked\"\n",
    "#         print bc['new']\n",
    "#         print self.motiff\n",
    "        self.bouts_pd.loc[self.bout_id, 'bout_check'] = bc['new']\n",
    "    \n",
    "    def confusing_checked(self, bc):\n",
    "#         print \"bout checked\"\n",
    "#         print bc['new']\n",
    "#         print self.motiff\n",
    "        self.bouts_pd.loc[self.bout_id, 'confusing'] = bc['new']\n",
    "    \n",
    "    def update_bout(self):\n",
    "        self.bout_id = self.bout_counter.value\n",
    "        self.bout_series = self.bouts_pd.iloc[self.bout_id]\n",
    "        \n",
    "        self.is_bout.value = bool(self.bout_series['bout_check'])\n",
    "        self.is_confusing.value = bool(self.bout_series['confusing'])\n",
    "        \n",
    "        self.x = self.bout_series['waveform'][::self.sub_sample]\n",
    "        self.sxx = self.bout_series['spectrogram'][::self.sub_sample]\n",
    "        \n",
    "    def show(self):\n",
    "        #self.fig.clf()\n",
    "        #self.init_fig()\n",
    "        # update\n",
    "#         self.update_bout()\n",
    "        #plot\n",
    "        #logger.info('showing')\n",
    "        \n",
    "        # Show the figures\n",
    "        with self.figwidg_waveform.batch_update():\n",
    "            self.figwidg_waveform.data[0].y = self.x\n",
    "            self.figwidg_waveform.data[0].x = np.arange(self.x.size) * self.sub_sample / self.s_f \n",
    "            \n",
    "        with self.figwidg_spectrogram.batch_update():\n",
    "            self.figwidg_spectrogram.data[0].z = np.sqrt(self.sxx[::-1])\n",
    "            \n",
    "        \n",
    "\n",
    "viz_bout = VizBout(hparams, bout_pd)"
   ]
  },
  {
   "cell_type": "markdown",
   "id": "parallel-guatemala",
   "metadata": {},
   "source": [
    "### save it"
   ]
  },
  {
   "cell_type": "code",
   "execution_count": 31,
   "id": "b207014f-aab4-4fa0-9ba1-daa661a8c3fc",
   "metadata": {},
   "outputs": [
    {
     "ename": "KeyboardInterrupt",
     "evalue": "",
     "output_type": "error",
     "traceback": [
      "\u001b[0;31m---------------------------------------------------------------------------\u001b[0m",
      "\u001b[0;31mKeyboardInterrupt\u001b[0m                         Traceback (most recent call last)",
      "\u001b[0;32m<ipython-input-31-c761920b81b0>\u001b[0m in \u001b[0;36m<module>\u001b[0;34m\u001b[0m\n\u001b[0;32m----> 1\u001b[0;31m \u001b[0;32mraise\u001b[0m \u001b[0mKeyboardInterrupt\u001b[0m\u001b[0;34m\u001b[0m\u001b[0;34m\u001b[0m\u001b[0m\n\u001b[0m",
      "\u001b[0;31mKeyboardInterrupt\u001b[0m: "
     ]
    }
   ],
   "source": [
    "raise KeyboardInterrupt"
   ]
  },
  {
   "cell_type": "code",
   "execution_count": null,
   "id": "political-tower",
   "metadata": {
    "tags": []
   },
   "outputs": [],
   "source": [
    "hparams"
   ]
  },
  {
   "cell_type": "code",
   "execution_count": null,
   "id": "numeric-kazakhstan",
   "metadata": {},
   "outputs": [],
   "source": [
    "### get the curated file path\n",
    "##save to the curated file path\n",
    "viz_bout.bouts_pd.to_pickle(sess_bouts_curated_file)\n",
    "logger.info('saved curated bout pandas to pickle {}'.format(sess_bouts_curated_file))"
   ]
  },
  {
   "cell_type": "markdown",
   "id": "f894c378-df68-43cf-8812-c660de190a19",
   "metadata": {},
   "source": [
    "### summary of where the good bouts are along the session"
   ]
  },
  {
   "cell_type": "code",
   "execution_count": null,
   "id": "a82d42ab-1fc3-44d9-98af-5224925e2cd3",
   "metadata": {},
   "outputs": [],
   "source": [
    "def give_summary(bpd: pd.DataFrame):\n",
    "    all_files = np.unique(bpd['file'])\n",
    "    summary_dict = {f: np.where((bpd['bout_check']==True) & (bpd['file']==f))[0].size for f in all_files}\n",
    "    return summary_dict\n",
    "\n",
    "sum_dict = give_summary(viz_bout.bouts_pd)\n",
    "sum_dict"
   ]
  },
  {
   "cell_type": "markdown",
   "id": "6ac7b3b9-2752-446b-9d6f-eedbe1b60348",
   "metadata": {},
   "source": [
    "## Some helper functions for somewhere down the line"
   ]
  },
  {
   "cell_type": "code",
   "execution_count": null,
   "id": "aac48fa9-0cda-4a91-a867-f59ed331915f",
   "metadata": {},
   "outputs": [],
   "source": [
    "sess_par_e = dict.copy(sess_par)\n",
    "sess_par_e['epoch'] = '0610_g0' "
   ]
  },
  {
   "cell_type": "code",
   "execution_count": null,
   "id": "53c398ef-97a9-46ae-b983-6ee7b1be4812",
   "metadata": {
    "jupyter": {
     "source_hidden": true
    },
    "tags": []
   },
   "outputs": [],
   "source": [
    "bpd.head()"
   ]
  },
  {
   "cell_type": "code",
   "execution_count": null,
   "id": "2a064efc-24f8-42b1-a14a-db4470622083",
   "metadata": {},
   "outputs": [],
   "source": [
    "reload(et)\n",
    "bpd = et.get_epoch_bout_pd(sess_par_e, only_curated=True)\n",
    "bpd.head()"
   ]
  },
  {
   "cell_type": "code",
   "execution_count": null,
   "id": "5473489b-580d-4d3f-ba98-7ecd48141323",
   "metadata": {},
   "outputs": [],
   "source": [
    "bpd.head(1)"
   ]
  },
  {
   "cell_type": "code",
   "execution_count": null,
   "id": "d2fbe605-2351-4fc3-b828-6f3577ea7076",
   "metadata": {},
   "outputs": [],
   "source": [
    "bpd['start_ms'].values"
   ]
  },
  {
   "cell_type": "code",
   "execution_count": null,
   "id": "e463c85a-b5b0-418a-a4c6-6af06b99cedf",
   "metadata": {},
   "outputs": [],
   "source": [
    "bpd['end_ms'].values - bpd['start_ms'].values"
   ]
  },
  {
   "cell_type": "code",
   "execution_count": null,
   "id": "a775f104-f3bd-4c47-8fa3-46a741d3942e",
   "metadata": {},
   "outputs": [],
   "source": [
    "bpd"
   ]
  },
  {
   "cell_type": "code",
   "execution_count": null,
   "id": "734a3a3e-22dd-4acb-ab03-e69abbd899ac",
   "metadata": {},
   "outputs": [],
   "source": []
  }
 ],
 "metadata": {
  "kernelspec": {
   "display_name": "ceciestunepipe",
   "language": "python",
   "name": "ceciestunepipe"
  },
  "language_info": {
   "codemirror_mode": {
    "name": "ipython",
    "version": 3
   },
   "file_extension": ".py",
   "mimetype": "text/x-python",
   "name": "python",
   "nbconvert_exporter": "python",
   "pygments_lexer": "ipython3",
   "version": "3.8.10"
  }
 },
 "nbformat": 4,
 "nbformat_minor": 5
}
