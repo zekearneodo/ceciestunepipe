{
 "cells": [
  {
   "cell_type": "code",
   "execution_count": 4,
   "id": "8018becb-2bc4-406c-bcbf-f026bec0ccee",
   "metadata": {},
   "outputs": [],
   "source": [
    "import numpy as np"
   ]
  },
  {
   "cell_type": "code",
   "execution_count": null,
   "id": "696522bd-dfe9-43c9-a28a-9eccd400649c",
   "metadata": {},
   "outputs": [],
   "source": [
    "### define the probe geometry and the sites, then apply the mapping from sites to channels using the appropriate headstage\n"
   ]
  },
  {
   "cell_type": "code",
   "execution_count": 33,
   "id": "fd8c4e2c-6624-4480-aced-7403d0e82807",
   "metadata": {},
   "outputs": [
    {
     "data": {
      "text/plain": [
       "{0: {'sites': array([ 5,  1,  2,  3,  4,  6, 11,  7, 10,  8,  9, 12, 16, 15, 14, 13])},\n",
       " 1: {'sites': array([21, 17, 18, 19, 20, 22, 27, 23, 26, 24, 25, 28, 32, 31, 30, 29])},\n",
       " 2: {'sites': array([37, 33, 34, 35, 36, 38, 43, 39, 42, 40, 41, 44, 48, 47, 46, 45])},\n",
       " 3: {'sites': array([53, 49, 50, 51, 52, 54, 59, 55, 58, 56, 57, 60, 64, 63, 62, 61])}}"
      ]
     },
     "execution_count": 33,
     "metadata": {},
     "output_type": "execute_result"
    }
   ],
   "source": [
    "# for th a4x16-poly3-5mm-20s-200-16-h64\n",
    "\n",
    "# a single shank sites and positions\n",
    "poly_3_shank_sites = np.array([5, 1, 2, 3, 4, 6, 11, 7, 10, 8, 9, 12, 16, 15, 14, 13])\n",
    "poly_3_shank_geom = [[0, i*20 + 10] for i in range(5)] + [[20, i*20] for i in range(6)] + [[40, i*20] for i in range(5)]\n",
    "poly_3_shank_arr = np.array(poly_2_shank_geom)\n",
    "\n",
    "# the probe site postions\n",
    "a4x16_poly3 = dict()\n",
    "a4x16_poly3['geom'] = np.vstack([poly_3_shank_arr + np.array([200 * i, 0]) for i in range(4)])\n",
    "a4x16_poly3['channel_groups'] = {i: dict({'sites': poly_3_shank_sites + i*16}) for i in np.arange(4)}\n",
    "\n",
    "a4x16_poly3['channel_groups']"
   ]
  },
  {
   "cell_type": "code",
   "execution_count": 88,
   "id": "4f8cc4a5-b4b7-4e76-a3af-34eeda8b7803",
   "metadata": {},
   "outputs": [
    {
     "data": {
      "text/plain": [
       "{'sites': array([34, 43, 44, 45, 33, 46, 47, 48, 17, 18, 19, 32, 20, 21, 22, 31, 42,\n",
       "        41, 40, 35, 39, 38, 37, 36, 29, 28, 27, 26, 30, 25, 24, 23, 64, 62,\n",
       "        60, 58, 56, 54, 52, 50, 15, 13, 11,  9,  7,  5,  3,  1, 63, 61, 59,\n",
       "        57, 55, 53, 51, 49, 16, 14, 12, 10,  8,  6,  4,  2]),\n",
       " 'channels': array([16, 18, 20, 22, 24, 26, 28, 30, 32, 34, 36, 38, 40, 42, 44, 46, 17,\n",
       "        19, 21, 23, 25, 27, 29, 31, 33, 35, 37, 39, 41, 43, 45, 47, 15, 13,\n",
       "        11,  9,  7,  5,  3,  1, 63, 61, 59, 57, 55, 53, 51, 49, 14, 12, 10,\n",
       "         8,  6,  4,  2,  0, 62, 60, 58, 56, 54, 52, 50, 48])}"
      ]
     },
     "execution_count": 88,
     "metadata": {},
     "output_type": "execute_result"
    }
   ],
   "source": [
    "# site to channel\n",
    "nnx64_intan = {'sites' : np.array([34, 43, 44, 45, 33, 46, 47, 48, 17, 18, 19, 32, 20, 21, 22, 31,\n",
    "                          42, 41, 40, 35, 39, 38, 37, 36, 29, 28, 27, 26, 30, 25, 24, 23,\n",
    "                          64, 62, 60, 58, 56, 54, 52, 50, 15, 13, 11, 9, 7, 5, 3, 1, \n",
    "                          63, 61, 59, 57, 55, 53, 51, 49, 16, 14, 12, 10, 8, 6, 4, 2]),\n",
    "               'channels' : np.array(list(range(16, 47, 2)) +  \\\n",
    "                            list(range(17, 48, 2)) + \\\n",
    "                            list(range(15, 0, -2)) + list(range(63, 47, -2)) +\\\n",
    "                            list(range(14, -1, -2)) + list(range(62, 46, -2)))\n",
    "                                    \n",
    "              }\n",
    "\n",
    "nnx64_intan"
   ]
  },
  {
   "cell_type": "code",
   "execution_count": 104,
   "id": "e734eb37-e1c0-442e-babe-041b08c95148",
   "metadata": {},
   "outputs": [
    {
     "name": "stdout",
     "output_type": "stream",
     "text": [
      "(2, 64)\n"
     ]
    }
   ],
   "source": [
    "def get_probe_channels(prb_dict: dict, hs_dict: dict) -> dict:\n",
    "    chgrp = prb_dict['channel_groups']\n",
    "    site_chan_arr = np.vstack([hs_dict['sites'], hs_dict['channels']])\n",
    "    print(site_chan_arr.shape)\n",
    "    # sort by sites\n",
    "    site_chan_arr = site_chan_arr[:, np.argsort(site_chan_arr[0])]\n",
    "    for k, v in chgrp.items():\n",
    "        sites = v['sites']\n",
    "        v['channels'] = np.array([hs_dict['channels'][hs_dict['sites'] == s] for s in sites]).flatten()\n",
    "    \n",
    "    return prb_dict\n",
    "        \n",
    "prb_dict = get_probe_channels(a4x16_poly3, nnx64_intan)"
   ]
  },
  {
   "cell_type": "code",
   "execution_count": 105,
   "id": "0b5d84f5-6d5b-46d1-860a-c502efa2f53e",
   "metadata": {
    "collapsed": true,
    "jupyter": {
     "outputs_hidden": true
    },
    "tags": []
   },
   "outputs": [
    {
     "data": {
      "text/plain": [
       "{'geom': array([[  0,  10],\n",
       "        [  0,  30],\n",
       "        [  0,  50],\n",
       "        [  0,  70],\n",
       "        [  0,  90],\n",
       "        [ 20,   0],\n",
       "        [ 20,  20],\n",
       "        [ 20,  40],\n",
       "        [ 20,  60],\n",
       "        [ 20,  80],\n",
       "        [ 20, 100],\n",
       "        [ 40,   0],\n",
       "        [ 40,  20],\n",
       "        [ 40,  40],\n",
       "        [ 40,  60],\n",
       "        [ 40,  80],\n",
       "        [200,  10],\n",
       "        [200,  30],\n",
       "        [200,  50],\n",
       "        [200,  70],\n",
       "        [200,  90],\n",
       "        [220,   0],\n",
       "        [220,  20],\n",
       "        [220,  40],\n",
       "        [220,  60],\n",
       "        [220,  80],\n",
       "        [220, 100],\n",
       "        [240,   0],\n",
       "        [240,  20],\n",
       "        [240,  40],\n",
       "        [240,  60],\n",
       "        [240,  80],\n",
       "        [400,  10],\n",
       "        [400,  30],\n",
       "        [400,  50],\n",
       "        [400,  70],\n",
       "        [400,  90],\n",
       "        [420,   0],\n",
       "        [420,  20],\n",
       "        [420,  40],\n",
       "        [420,  60],\n",
       "        [420,  80],\n",
       "        [420, 100],\n",
       "        [440,   0],\n",
       "        [440,  20],\n",
       "        [440,  40],\n",
       "        [440,  60],\n",
       "        [440,  80],\n",
       "        [600,  10],\n",
       "        [600,  30],\n",
       "        [600,  50],\n",
       "        [600,  70],\n",
       "        [600,  90],\n",
       "        [620,   0],\n",
       "        [620,  20],\n",
       "        [620,  40],\n",
       "        [620,  60],\n",
       "        [620,  80],\n",
       "        [620, 100],\n",
       "        [640,   0],\n",
       "        [640,  20],\n",
       "        [640,  40],\n",
       "        [640,  60],\n",
       "        [640,  80]]),\n",
       " 'channel_groups': {0: {'sites': array([ 5,  1,  2,  3,  4,  6, 11,  7, 10,  8,  9, 12, 16, 15, 14, 13]),\n",
       "   'channels': array([53, 49, 48, 51, 50, 52, 59, 55, 56, 54, 57, 58, 62, 63, 60, 61])},\n",
       "  1: {'sites': array([21, 17, 18, 19, 20, 22, 27, 23, 26, 24, 25, 28, 32, 31, 30, 29]),\n",
       "   'channels': array([42, 32, 34, 36, 40, 44, 37, 47, 39, 45, 43, 35, 38, 46, 41, 33])},\n",
       "  2: {'sites': array([37, 33, 34, 35, 36, 38, 43, 39, 42, 40, 41, 44, 48, 47, 46, 45]),\n",
       "   'channels': array([29, 24, 16, 23, 31, 27, 18, 25, 17, 21, 19, 20, 30, 28, 26, 22])},\n",
       "  3: {'sites': array([53, 49, 50, 51, 52, 54, 59, 55, 58, 56, 57, 60, 64, 63, 62, 61]),\n",
       "   'channels': array([ 4,  0,  1,  2,  3,  5, 10,  6,  9,  7,  8, 11, 15, 14, 13, 12])}}}"
      ]
     },
     "execution_count": 105,
     "metadata": {},
     "output_type": "execute_result"
    }
   ],
   "source": [
    "prb_dict"
   ]
  },
  {
   "cell_type": "code",
   "execution_count": 98,
   "id": "eb6d17f8-c22a-4bde-b732-a6fda946e497",
   "metadata": {},
   "outputs": [
    {
     "data": {
      "text/plain": [
       "array([4, 6])"
      ]
     },
     "execution_count": 98,
     "metadata": {},
     "output_type": "execute_result"
    }
   ],
   "source": [
    "np.searchsorted(site_chan_arr[0], [5, 7])"
   ]
  },
  {
   "cell_type": "code",
   "execution_count": 83,
   "id": "f1e6274e-5a7f-45a1-8a70-e311380b53f1",
   "metadata": {},
   "outputs": [
    {
     "data": {
      "text/plain": [
       "64"
      ]
     },
     "execution_count": 83,
     "metadata": {},
     "output_type": "execute_result"
    }
   ],
   "source": [
    "(nnx64_intan['sites']).size"
   ]
  },
  {
   "cell_type": "code",
   "execution_count": 90,
   "id": "b88de4f3-e04d-4907-9b2d-6bf9db17f5ab",
   "metadata": {},
   "outputs": [
    {
     "data": {
      "text/plain": [
       "(array([11]),)"
      ]
     },
     "execution_count": 90,
     "metadata": {},
     "output_type": "execute_result"
    }
   ],
   "source": [
    "np.where(nnx64_intan['sites']==32)"
   ]
  },
  {
   "cell_type": "code",
   "execution_count": 74,
   "id": "1e00e660-acfe-41dc-b806-97b9909f686c",
   "metadata": {},
   "outputs": [
    {
     "data": {
      "text/plain": [
       "array([47, 63, 46, 62, 45, 61, 44, 60, 43, 59, 42, 58, 41, 57, 40, 56,  8,\n",
       "        9, 10, 12, 13, 14, 31, 30, 29, 27, 26, 25, 24, 28, 15, 11,  4,  0,\n",
       "       19, 23, 22, 21, 20, 18, 17, 16,  1,  2,  3,  5,  6,  7, 55, 39, 54,\n",
       "       38, 53, 37, 52, 36, 51, 35, 50, 34, 49, 33, 48, 32])"
      ]
     },
     "execution_count": 74,
     "metadata": {},
     "output_type": "execute_result"
    }
   ],
   "source": [
    "orig_idx"
   ]
  },
  {
   "cell_type": "code",
   "execution_count": 93,
   "id": "28231deb-a3bc-4117-a8c0-6794ddf48d91",
   "metadata": {},
   "outputs": [
    {
     "data": {
      "text/plain": [
       "array([30,  3, 21])"
      ]
     },
     "execution_count": 93,
     "metadata": {},
     "output_type": "execute_result"
    }
   ],
   "source": [
    "orig_idx = nnx64_intan['sites'].argsort()\n",
    "np.searchsorted(nnx64_intan['sites'][orig_idx], np.array([31, 4, 22]))"
   ]
  },
  {
   "cell_type": "code",
   "execution_count": 72,
   "id": "f35446f1-ca5c-4525-94bd-226120c016b8",
   "metadata": {},
   "outputs": [
    {
     "data": {
      "text/plain": [
       "array([34, 43, 44, 45, 33, 46, 47, 48, 17, 18, 19, 32, 20, 21, 22, 31, 42,\n",
       "       41, 40, 35, 39, 38, 37, 36, 29, 28, 27, 26, 30, 25, 24, 23, 64, 62,\n",
       "       60, 58, 56, 54, 52, 50, 15, 13, 11,  9,  7,  5,  3,  1, 63, 61, 59,\n",
       "       57, 55, 53, 51, 49, 16, 14, 12, 10,  8,  6,  4,  2])"
      ]
     },
     "execution_count": 72,
     "metadata": {},
     "output_type": "execute_result"
    }
   ],
   "source": [
    "nnx64_intan['sites']"
   ]
  },
  {
   "cell_type": "code",
   "execution_count": 40,
   "id": "36753fda-89f0-4a6a-a592-6fefdebbb9fd",
   "metadata": {
    "collapsed": true,
    "jupyter": {
     "outputs_hidden": true
    },
    "tags": []
   },
   "outputs": [
    {
     "data": {
      "text/plain": [
       "[16,\n",
       " 17,\n",
       " 18,\n",
       " 19,\n",
       " 20,\n",
       " 21,\n",
       " 22,\n",
       " 23,\n",
       " 24,\n",
       " 25,\n",
       " 26,\n",
       " 27,\n",
       " 28,\n",
       " 29,\n",
       " 30,\n",
       " 31,\n",
       " 32,\n",
       " 33,\n",
       " 34,\n",
       " 35,\n",
       " 36,\n",
       " 37,\n",
       " 38,\n",
       " 39,\n",
       " 40,\n",
       " 41,\n",
       " 42,\n",
       " 43,\n",
       " 44,\n",
       " 45,\n",
       " 17,\n",
       " 18,\n",
       " 19,\n",
       " 20,\n",
       " 21,\n",
       " 22,\n",
       " 23,\n",
       " 24,\n",
       " 25,\n",
       " 26,\n",
       " 27,\n",
       " 28,\n",
       " 29,\n",
       " 30,\n",
       " 31,\n",
       " 32,\n",
       " 33,\n",
       " 34,\n",
       " 35,\n",
       " 36,\n",
       " 37,\n",
       " 38,\n",
       " 39,\n",
       " 40,\n",
       " 41,\n",
       " 42,\n",
       " 43,\n",
       " 44,\n",
       " 45,\n",
       " 46,\n",
       " 47]"
      ]
     },
     "execution_count": 40,
     "metadata": {},
     "output_type": "execute_result"
    }
   ],
   "source": [
    "list(range(16, 46)) + \\\n",
    "list(range(17, 48))"
   ]
  },
  {
   "cell_type": "code",
   "execution_count": 8,
   "id": "1d3ed6fe-8a3c-4cf2-9587-5eb405973e08",
   "metadata": {},
   "outputs": [],
   "source": [
    "        \"channel_groups\": {\n",
    "            1: {\"channels\": np.arange(0, 8)},\n",
    "            2: {\"channels\": np.arange(8, 16)},\n",
    "            3: {\"channels\": np.arange(16, 24)},\n",
    "            4: {\"channels\": np.arange(24, 32)},"
   ]
  },
  {
   "cell_type": "code",
   "execution_count": 3,
   "id": "24003883-0a6f-4cd6-a85e-2fec4a42646a",
   "metadata": {},
   "outputs": [
    {
     "ename": "NameError",
     "evalue": "name 'np' is not defined",
     "output_type": "error",
     "traceback": [
      "\u001b[0;31m---------------------------------------------------------------------------\u001b[0m",
      "\u001b[0;31mNameError\u001b[0m                                 Traceback (most recent call last)",
      "Input \u001b[0;32mIn [3]\u001b[0m, in \u001b[0;36m<cell line: 2>\u001b[0;34m()\u001b[0m\n\u001b[1;32m      1\u001b[0m probe_maps \u001b[38;5;241m=\u001b[39m {\n\u001b[1;32m      2\u001b[0m     \u001b[38;5;124m\"\u001b[39m\u001b[38;5;124mBuzsaki32\u001b[39m\u001b[38;5;124m\"\u001b[39m: {\n\u001b[1;32m      3\u001b[0m         \u001b[38;5;124m\"\u001b[39m\u001b[38;5;124mgeom\u001b[39m\u001b[38;5;124m\"\u001b[39m: [\n\u001b[1;32m      4\u001b[0m             [i, j]\n\u001b[1;32m      5\u001b[0m             \u001b[38;5;28;01mfor\u001b[39;00m i, j \u001b[38;5;129;01min\u001b[39;00m \u001b[38;5;28mzip\u001b[39m(\n\u001b[1;32m      6\u001b[0m                 [\n\u001b[1;32m      7\u001b[0m                     \u001b[38;5;241m0\u001b[39m,\n\u001b[1;32m      8\u001b[0m                     \u001b[38;5;241m-\u001b[39m\u001b[38;5;241m13\u001b[39m,\n\u001b[1;32m      9\u001b[0m                     \u001b[38;5;241m13\u001b[39m,\n\u001b[1;32m     10\u001b[0m                     \u001b[38;5;241m-\u001b[39m\u001b[38;5;241m20\u001b[39m,\n\u001b[1;32m     11\u001b[0m                     \u001b[38;5;241m20\u001b[39m,\n\u001b[1;32m     12\u001b[0m                     \u001b[38;5;241m-\u001b[39m\u001b[38;5;241m27\u001b[39m,\n\u001b[1;32m     13\u001b[0m                     \u001b[38;5;241m27\u001b[39m,\n\u001b[1;32m     14\u001b[0m                     \u001b[38;5;241m-\u001b[39m\u001b[38;5;241m34\u001b[39m,\n\u001b[1;32m     15\u001b[0m                     \u001b[38;5;241m200\u001b[39m,\n\u001b[1;32m     16\u001b[0m                     \u001b[38;5;241m187\u001b[39m,\n\u001b[1;32m     17\u001b[0m                     \u001b[38;5;241m213\u001b[39m,\n\u001b[1;32m     18\u001b[0m                     \u001b[38;5;241m180\u001b[39m,\n\u001b[1;32m     19\u001b[0m                     \u001b[38;5;241m220\u001b[39m,\n\u001b[1;32m     20\u001b[0m                     \u001b[38;5;241m173\u001b[39m,\n\u001b[1;32m     21\u001b[0m                     \u001b[38;5;241m227\u001b[39m,\n\u001b[1;32m     22\u001b[0m                     \u001b[38;5;241m166\u001b[39m,\n\u001b[1;32m     23\u001b[0m                     \u001b[38;5;241m400\u001b[39m,\n\u001b[1;32m     24\u001b[0m                     \u001b[38;5;241m387\u001b[39m,\n\u001b[1;32m     25\u001b[0m                     \u001b[38;5;241m413\u001b[39m,\n\u001b[1;32m     26\u001b[0m                     \u001b[38;5;241m380\u001b[39m,\n\u001b[1;32m     27\u001b[0m                     \u001b[38;5;241m420\u001b[39m,\n\u001b[1;32m     28\u001b[0m                     \u001b[38;5;241m373\u001b[39m,\n\u001b[1;32m     29\u001b[0m                     \u001b[38;5;241m427\u001b[39m,\n\u001b[1;32m     30\u001b[0m                     \u001b[38;5;241m366\u001b[39m,\n\u001b[1;32m     31\u001b[0m                     \u001b[38;5;241m600\u001b[39m,\n\u001b[1;32m     32\u001b[0m                     \u001b[38;5;241m587\u001b[39m,\n\u001b[1;32m     33\u001b[0m                     \u001b[38;5;241m613\u001b[39m,\n\u001b[1;32m     34\u001b[0m                     \u001b[38;5;241m580\u001b[39m,\n\u001b[1;32m     35\u001b[0m                     \u001b[38;5;241m620\u001b[39m,\n\u001b[1;32m     36\u001b[0m                     \u001b[38;5;241m573\u001b[39m,\n\u001b[1;32m     37\u001b[0m                     \u001b[38;5;241m627\u001b[39m,\n\u001b[1;32m     38\u001b[0m                     \u001b[38;5;241m566\u001b[39m,\n\u001b[1;32m     39\u001b[0m                 ],\n\u001b[1;32m     40\u001b[0m                 [\n\u001b[1;32m     41\u001b[0m                     \u001b[38;5;241m0\u001b[39m,\n\u001b[1;32m     42\u001b[0m                     \u001b[38;5;241m20\u001b[39m,\n\u001b[1;32m     43\u001b[0m                     \u001b[38;5;241m40\u001b[39m,\n\u001b[1;32m     44\u001b[0m                     \u001b[38;5;241m60\u001b[39m,\n\u001b[1;32m     45\u001b[0m                     \u001b[38;5;241m80\u001b[39m,\n\u001b[1;32m     46\u001b[0m                     \u001b[38;5;241m100\u001b[39m,\n\u001b[1;32m     47\u001b[0m                     \u001b[38;5;241m120\u001b[39m,\n\u001b[1;32m     48\u001b[0m                     \u001b[38;5;241m140\u001b[39m,\n\u001b[1;32m     49\u001b[0m                     \u001b[38;5;241m0\u001b[39m,\n\u001b[1;32m     50\u001b[0m                     \u001b[38;5;241m20\u001b[39m,\n\u001b[1;32m     51\u001b[0m                     \u001b[38;5;241m40\u001b[39m,\n\u001b[1;32m     52\u001b[0m                     \u001b[38;5;241m60\u001b[39m,\n\u001b[1;32m     53\u001b[0m                     \u001b[38;5;241m80\u001b[39m,\n\u001b[1;32m     54\u001b[0m                     \u001b[38;5;241m100\u001b[39m,\n\u001b[1;32m     55\u001b[0m                     \u001b[38;5;241m120\u001b[39m,\n\u001b[1;32m     56\u001b[0m                     \u001b[38;5;241m140\u001b[39m,\n\u001b[1;32m     57\u001b[0m                     \u001b[38;5;241m0\u001b[39m,\n\u001b[1;32m     58\u001b[0m                     \u001b[38;5;241m20\u001b[39m,\n\u001b[1;32m     59\u001b[0m                     \u001b[38;5;241m40\u001b[39m,\n\u001b[1;32m     60\u001b[0m                     \u001b[38;5;241m60\u001b[39m,\n\u001b[1;32m     61\u001b[0m                     \u001b[38;5;241m80\u001b[39m,\n\u001b[1;32m     62\u001b[0m                     \u001b[38;5;241m100\u001b[39m,\n\u001b[1;32m     63\u001b[0m                     \u001b[38;5;241m120\u001b[39m,\n\u001b[1;32m     64\u001b[0m                     \u001b[38;5;241m140\u001b[39m,\n\u001b[1;32m     65\u001b[0m                     \u001b[38;5;241m0\u001b[39m,\n\u001b[1;32m     66\u001b[0m                     \u001b[38;5;241m20\u001b[39m,\n\u001b[1;32m     67\u001b[0m                     \u001b[38;5;241m40\u001b[39m,\n\u001b[1;32m     68\u001b[0m                     \u001b[38;5;241m60\u001b[39m,\n\u001b[1;32m     69\u001b[0m                     \u001b[38;5;241m80\u001b[39m,\n\u001b[1;32m     70\u001b[0m                     \u001b[38;5;241m100\u001b[39m,\n\u001b[1;32m     71\u001b[0m                     \u001b[38;5;241m120\u001b[39m,\n\u001b[1;32m     72\u001b[0m                     \u001b[38;5;241m140\u001b[39m,\n\u001b[1;32m     73\u001b[0m                 ],\n\u001b[1;32m     74\u001b[0m             )\n\u001b[1;32m     75\u001b[0m         ],\n\u001b[1;32m     76\u001b[0m         \u001b[38;5;124m\"\u001b[39m\u001b[38;5;124mchannel_groups\u001b[39m\u001b[38;5;124m\"\u001b[39m: {\n\u001b[0;32m---> 77\u001b[0m             \u001b[38;5;241m1\u001b[39m: {\u001b[38;5;124m\"\u001b[39m\u001b[38;5;124mchannels\u001b[39m\u001b[38;5;124m\"\u001b[39m: \u001b[43mnp\u001b[49m\u001b[38;5;241m.\u001b[39marange(\u001b[38;5;241m0\u001b[39m, \u001b[38;5;241m8\u001b[39m)},\n\u001b[1;32m     78\u001b[0m             \u001b[38;5;241m2\u001b[39m: {\u001b[38;5;124m\"\u001b[39m\u001b[38;5;124mchannels\u001b[39m\u001b[38;5;124m\"\u001b[39m: np\u001b[38;5;241m.\u001b[39marange(\u001b[38;5;241m8\u001b[39m, \u001b[38;5;241m16\u001b[39m)},\n\u001b[1;32m     79\u001b[0m             \u001b[38;5;241m3\u001b[39m: {\u001b[38;5;124m\"\u001b[39m\u001b[38;5;124mchannels\u001b[39m\u001b[38;5;124m\"\u001b[39m: np\u001b[38;5;241m.\u001b[39marange(\u001b[38;5;241m16\u001b[39m, \u001b[38;5;241m24\u001b[39m)},\n\u001b[1;32m     80\u001b[0m             \u001b[38;5;241m4\u001b[39m: {\u001b[38;5;124m\"\u001b[39m\u001b[38;5;124mchannels\u001b[39m\u001b[38;5;124m\"\u001b[39m: np\u001b[38;5;241m.\u001b[39marange(\u001b[38;5;241m24\u001b[39m, \u001b[38;5;241m32\u001b[39m)},\n\u001b[1;32m     81\u001b[0m         },\n\u001b[1;32m     82\u001b[0m     },\n\u001b[1;32m     83\u001b[0m }\n",
      "\u001b[0;31mNameError\u001b[0m: name 'np' is not defined"
     ]
    }
   ],
   "source": [
    "probe_maps = {\n",
    "    \"Buzsaki32\": {\n",
    "        \"geom\": [\n",
    "            [i, j]\n",
    "            for i, j in zip(\n",
    "                [\n",
    "                    0,\n",
    "                    -13,\n",
    "                    13,\n",
    "                    -20,\n",
    "                    20,\n",
    "                    -27,\n",
    "                    27,\n",
    "                    -34,\n",
    "                    200,\n",
    "                    187,\n",
    "                    213,\n",
    "                    180,\n",
    "                    220,\n",
    "                    173,\n",
    "                    227,\n",
    "                    166,\n",
    "                    400,\n",
    "                    387,\n",
    "                    413,\n",
    "                    380,\n",
    "                    420,\n",
    "                    373,\n",
    "                    427,\n",
    "                    366,\n",
    "                    600,\n",
    "                    587,\n",
    "                    613,\n",
    "                    580,\n",
    "                    620,\n",
    "                    573,\n",
    "                    627,\n",
    "                    566,\n",
    "                ],\n",
    "                [\n",
    "                    0,\n",
    "                    20,\n",
    "                    40,\n",
    "                    60,\n",
    "                    80,\n",
    "                    100,\n",
    "                    120,\n",
    "                    140,\n",
    "                    0,\n",
    "                    20,\n",
    "                    40,\n",
    "                    60,\n",
    "                    80,\n",
    "                    100,\n",
    "                    120,\n",
    "                    140,\n",
    "                    0,\n",
    "                    20,\n",
    "                    40,\n",
    "                    60,\n",
    "                    80,\n",
    "                    100,\n",
    "                    120,\n",
    "                    140,\n",
    "                    0,\n",
    "                    20,\n",
    "                    40,\n",
    "                    60,\n",
    "                    80,\n",
    "                    100,\n",
    "                    120,\n",
    "                    140,\n",
    "                ],\n",
    "            )\n",
    "        ],\n",
    "        \"channel_groups\": {\n",
    "            1: {\"channels\": np.arange(0, 8)},\n",
    "            2: {\"channels\": np.arange(8, 16)},\n",
    "            3: {\"channels\": np.arange(16, 24)},\n",
    "            4: {\"channels\": np.arange(24, 32)},\n",
    "        },\n",
    "    },\n",
    "}"
   ]
  },
  {
   "cell_type": "code",
   "execution_count": null,
   "id": "73231d17-fed1-452e-9a64-c7387bdb55a0",
   "metadata": {},
   "outputs": [],
   "source": []
  }
 ],
 "metadata": {
  "kernelspec": {
   "display_name": "unepipe",
   "language": "python",
   "name": "unepipe"
  },
  "language_info": {
   "codemirror_mode": {
    "name": "ipython",
    "version": 3
   },
   "file_extension": ".py",
   "mimetype": "text/x-python",
   "name": "python",
   "nbconvert_exporter": "python",
   "pygments_lexer": "ipython3",
   "version": "3.8.11"
  }
 },
 "nbformat": 4,
 "nbformat_minor": 5
}
