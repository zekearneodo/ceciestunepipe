{
 "cells": [
  {
   "cell_type": "markdown",
   "metadata": {},
   "source": [
    "# Pre-processing pipeline for spikeglx sessions, zebra finch/starling\n",
    "- For every run in the session:\n",
    " - Load the recordings\n",
    " - Extract wav chan with micrhopohone and make a wav chan with the nidq syn signal\n",
    " - Get the sync events for the nidq sync channel\n",
    " \n",
    " - Do bout detection\n",
    " \n",
    "In another notebook, bout detection is curated\n",
    "- Left to decide where to:\n",
    "    - Sort spikes\n",
    "    - Sync the spikes/lfp/nidq\n",
    "    - make and plot 'bout rasters'"
   ]
  },
  {
   "cell_type": "code",
   "execution_count": 1,
   "metadata": {},
   "outputs": [
    {
     "name": "stderr",
     "output_type": "stream",
     "text": [
      "2023-02-22 12:24:55,316 root         INFO     Running on pakhi.ucsd.edu\n"
     ]
    }
   ],
   "source": [
    "%matplotlib inline\n",
    "import os\n",
    "import glob\n",
    "import logging\n",
    "import pickle\n",
    "import numpy as np\n",
    "import pandas as pd\n",
    "from scipy.io import wavfile\n",
    "from scipy import signal\n",
    "import traceback\n",
    "import warnings\n",
    "import socket\n",
    "\n",
    "from matplotlib import pyplot as plt\n",
    "from importlib import reload\n",
    "\n",
    "logger = logging.getLogger()\n",
    "handler = logging.StreamHandler()\n",
    "formatter = logging.Formatter(\n",
    "        '%(asctime)s %(name)-12s %(levelname)-8s %(message)s')\n",
    "handler.setFormatter(formatter)\n",
    "logger.addHandler(handler)\n",
    "logger.setLevel(logging.INFO)\n",
    "logger.info('Running on {}'.format(socket.gethostname()))"
   ]
  },
  {
   "cell_type": "code",
   "execution_count": 2,
   "metadata": {},
   "outputs": [],
   "source": [
    "from ceciestunepipe.file import bcistructure as et\n",
    "from ceciestunepipe.util import sglxutil as sglu\n",
    "from ceciestunepipe.util import rigutil as ru\n",
    "from ceciestunepipe.util import wavutil as wu\n",
    "from ceciestunepipe.util import syncutil as su\n",
    "\n",
    "from ceciestunepipe.util.sound import boutsearch as bs\n",
    "from ceciestunepipe.pipeline import searchbout as sb\n",
    "\n",
    "from ceciestunepipe.util.spikeextractors import preprocess as pre\n",
    "from ceciestunepipe.util.spikeextractors.extractors.spikeglxrecordingextractor import readSGLX as rsgl\n",
    "from ceciestunepipe.util.spikeextractors.extractors.spikeglxrecordingextractor import spikeglxrecordingextractor as sglex"
   ]
  },
  {
   "cell_type": "code",
   "execution_count": 3,
   "metadata": {},
   "outputs": [
    {
     "name": "stderr",
     "output_type": "stream",
     "text": [
      "2023-02-22 12:24:58,476 root         INFO     all modules loaded\n"
     ]
    }
   ],
   "source": [
    "import spikeinterface as si\n",
    "import spikeinterface.extractors as se\n",
    "import spikeinterface.toolkit as st\n",
    "import spikeinterface.sorters as ss\n",
    "import spikeinterface.comparison as sc\n",
    "import spikeinterface.widgets as sw\n",
    "logger.info('all modules loaded')"
   ]
  },
  {
   "cell_type": "markdown",
   "metadata": {},
   "source": [
    "## Session parameters and raw files"
   ]
  },
  {
   "cell_type": "markdown",
   "metadata": {},
   "source": [
    "#### list all the sessions for this bird"
   ]
  },
  {
   "cell_type": "code",
   "execution_count": 4,
   "metadata": {},
   "outputs": [],
   "source": [
    "bird = 's_b1555_22'\n",
    "all_bird_sess = et.list_sessions(bird)\n",
    "#logger.info('all sessions for bird are {}'.format(all_bird_sess))"
   ]
  },
  {
   "cell_type": "markdown",
   "metadata": {},
   "source": [
    "### set up bird and sessions parameters\n",
    "this will define:\n",
    "- locations of files (for the bird)\n",
    "- signals and channels to look for in the metadata of the files and in the rig.json parameter file: Note that this have to exist in all of the sessions that will be processed\n",
    "- 'sess' is unimportant here, but it comes handy if there is need to debug usin a single session"
   ]
  },
  {
   "cell_type": "code",
   "execution_count": 5,
   "metadata": {},
   "outputs": [],
   "source": [
    "reload(et)\n",
    "# for one example session\n",
    "\n",
    "sess_par = {'bird': bird,\n",
    "           'sess': '2022-07-16',\n",
    "           'probes': ['probe_0'], #probes of interest\n",
    "           'mic_list': ['microphone_0'], #list of mics of interest, by signal name in rig.json\n",
    "           'adc_list': ['pressure'],\n",
    "           'stim_list': ['wav_syn', 'wav_stim'], # list of adc chans with the stimulus\n",
    "           'nidq_ttl_list': ['wav_ttl'], # list of TTL signals form the nidq digital inputs to extract (besides the 'sync')\n",
    "           'sort': 0, #label for this sort instance\n",
    "           }\n",
    "\n",
    "exp_struct = et.get_exp_struct(sess_par['bird'], sess_par['sess'], sort=sess_par['sort'])\n",
    "\n",
    "ksort_folder = exp_struct['folders']['ksort']\n",
    "raw_folder = exp_struct['folders']['sglx']"
   ]
  },
  {
   "cell_type": "markdown",
   "metadata": {},
   "source": [
    "list all the epochs in a session, to check that it is finding what it has to find"
   ]
  },
  {
   "cell_type": "code",
   "execution_count": 6,
   "metadata": {},
   "outputs": [
    {
     "name": "stderr",
     "output_type": "stream",
     "text": [
      "2023-02-22 12:25:05,060 ceciestunepipe.file.bcistructure INFO     {'folders': {'bird': '/mnt/sphere/speech_bci/raw_data/s_b1555_22', 'raw': '/mnt/sphere/speech_bci/raw_data/s_b1555_22/2022-07-16', 'sglx': '/mnt/sphere/speech_bci/raw_data/s_b1555_22/2022-07-16/sglx', 'kwik': '/scratch/earneodo/s_b1555_22/sglx/kwik/2022-07-16', 'processed': '/mnt/sphere/speech_bci/processed_data/s_b1555_22/2022-07-16/sglx', 'derived': '/mnt/sphere/speech_bci/derived_data/s_b1555_22/2022-07-16/sglx', 'tmp': '/scratch/earneodo/tmp', 'msort': '/scratch/earneodo/s_b1555_22/sglx/msort/2022-07-16', 'ksort': '/scratch/earneodo/s_b1555_22/sglx/ksort/2022-07-16/0', 'sort': '/mnt/sphere/speech_bci/derived_data/s_b1555_22/2022-07-16/sglx/0'}, 'files': {'par': '/scratch/earneodo/s_b1555_22/sglx/ksort/2022-07-16/0/params.json', 'set': '/mnt/sphere/speech_bci/raw_data/s_b1555_22/2022-07-16/sglx/settings.isf', 'rig': '/mnt/sphere/speech_bci/raw_data/s_b1555_22/2022-07-16/sglx/rig.json', 'kwd': '/scratch/earneodo/s_b1555_22/sglx/kwik/2022-07-16/stream.kwd', 'kwik': '/scratch/earneodo/s_b1555_22/sglx/kwik/2022-07-16/sort_0/spikes.kwik', 'kwe': '/scratch/earneodo/s_b1555_22/sglx/kwik/2022-07-16/events.kwe', 'dat_mic': '/mnt/sphere/speech_bci/processed_data/s_b1555_22/2022-07-16/sglx/dat_mic.mat', 'dat_ap': '/mnt/sphere/speech_bci/processed_data/s_b1555_22/2022-07-16/sglx/dat_ap.mat', 'allevents': '/mnt/sphere/speech_bci/processed_data/s_b1555_22/2022-07-16/sglx/dat_all.pkl', 'wav_mic': '/mnt/sphere/speech_bci/derived_data/s_b1555_22/2022-07-16/sglx/wav_mic.wav', 'mda_raw': '/scratch/earneodo/s_b1555_22/sglx/msort/2022-07-16/raw.mda', 'bin_raw': '/scratch/earneodo/s_b1555_22/sglx/ksort/2022-07-16/0/raw.bin'}}\n"
     ]
    },
    {
     "data": {
      "text/plain": [
       "['0703_g0', '1426_g0']"
      ]
     },
     "execution_count": 6,
     "metadata": {},
     "output_type": "execute_result"
    }
   ],
   "source": [
    "sess_epochs = et.list_sgl_epochs(sess_par)\n",
    "sess_epochs"
   ]
  },
  {
   "cell_type": "markdown",
   "metadata": {},
   "source": [
    "#### define pre-processing steps for each epoch and for the session"
   ]
  },
  {
   "cell_type": "code",
   "execution_count": 9,
   "metadata": {
    "tags": []
   },
   "outputs": [
    {
     "name": "stderr",
     "output_type": "stream",
     "text": [
      "2023-02-22 12:51:27,517 ceciestunepipe.util.spikeextractors.preprocess INFO     PREPROCESSING sess 2022-07-16 | epoch 1426_g0\n",
      "2023-02-22 12:51:27,518 ceciestunepipe.util.spikeextractors.preprocess INFO     getting extractors\n",
      "2023-02-22 12:51:27,862 ceciestunepipe.util.spikeextractors.preprocess INFO     Got sglx recordings for keys ['nidq', 'lf_0', 'ap_0']\n",
      "2023-02-22 12:51:27,862 ceciestunepipe.util.spikeextractors.preprocess INFO     Getting microphone channel(s) ['microphone_0']\n",
      "2023-02-22 12:51:27,864 ceciestunepipe.util.wavutil INFO     sampling rate 40000\n",
      "2023-02-22 12:51:27,864 ceciestunepipe.util.wavutil INFO     saving (1, 888574516)-shaped array as wav in /mnt/sphere/speech_bci/derived_data/s_b1555_22/2022-07-16/sglx/1426_g0/wav_mic.wav\n",
      "2023-02-22 12:51:36,953 ceciestunepipe.util.wavutil INFO     saving (1, 888574516)-shaped array as npy in /mnt/sphere/speech_bci/derived_data/s_b1555_22/2022-07-16/sglx/1426_g0/wav_mic.npy\n",
      "2023-02-22 12:51:36,955 ceciestunepipe.util.wavutil INFO     saving (888574516, 1)-shaped array as npy in /mnt/sphere/speech_bci/derived_data/s_b1555_22/2022-07-16/sglx/1426_g0/wav_mic.npy\n",
      "2023-02-22 12:51:54,550 ceciestunepipe.util.wavutil INFO     Saving meta of npy array to /mnt/sphere/speech_bci/derived_data/s_b1555_22/2022-07-16/sglx/1426_g0/wav_micnpy_meta.json\n",
      "2023-02-22 12:51:54,595 ceciestunepipe.util.wavutil INFO     Saving meta of npy array to /mnt/sphere/speech_bci/derived_data/s_b1555_22/2022-07-16/sglx/1426_g0/wav_micnpy_meta.pickle\n",
      "2023-02-22 12:51:54,617 ceciestunepipe.util.spikeextractors.preprocess INFO     Getting adc channel(s) ['pressure']\n",
      "2023-02-22 12:51:54,619 ceciestunepipe.util.wavutil INFO     sampling rate 40000\n",
      "2023-02-22 12:51:54,620 ceciestunepipe.util.wavutil INFO     saving (1, 888574516)-shaped array as wav in /mnt/sphere/speech_bci/derived_data/s_b1555_22/2022-07-16/sglx/1426_g0/wav_adc.wav\n",
      "2023-02-22 12:51:58,694 ceciestunepipe.util.wavutil INFO     saving (1, 888574516)-shaped array as npy in /mnt/sphere/speech_bci/derived_data/s_b1555_22/2022-07-16/sglx/1426_g0/wav_adc.npy\n",
      "2023-02-22 12:51:58,696 ceciestunepipe.util.wavutil INFO     saving (888574516, 1)-shaped array as npy in /mnt/sphere/speech_bci/derived_data/s_b1555_22/2022-07-16/sglx/1426_g0/wav_adc.npy\n",
      "2023-02-22 12:52:16,181 ceciestunepipe.util.wavutil INFO     Saving meta of npy array to /mnt/sphere/speech_bci/derived_data/s_b1555_22/2022-07-16/sglx/1426_g0/wav_adcnpy_meta.json\n",
      "2023-02-22 12:52:16,185 ceciestunepipe.util.wavutil INFO     Saving meta of npy array to /mnt/sphere/speech_bci/derived_data/s_b1555_22/2022-07-16/sglx/1426_g0/wav_adcnpy_meta.pickle\n",
      "2023-02-22 12:52:33,311 ceciestunepipe.util.spikeextractors.preprocess INFO     Getting stimulus channel(s) ['wav_syn', 'wav_stim']\n",
      "2023-02-22 12:52:35,834 ceciestunepipe.util.wavutil INFO     sampling rate 40000\n",
      "2023-02-22 12:52:35,835 ceciestunepipe.util.wavutil INFO     saving (2, 888574516)-shaped array as wav in /mnt/sphere/speech_bci/derived_data/s_b1555_22/2022-07-16/sglx/1426_g0/wav_stim.wav\n",
      "2023-02-22 12:52:47,581 ceciestunepipe.util.wavutil INFO     saving (2, 888574516)-shaped array as npy in /mnt/sphere/speech_bci/derived_data/s_b1555_22/2022-07-16/sglx/1426_g0/wav_stim.npy\n",
      "2023-02-22 12:52:47,583 ceciestunepipe.util.wavutil INFO     saving (888574516, 2)-shaped array as npy in /mnt/sphere/speech_bci/derived_data/s_b1555_22/2022-07-16/sglx/1426_g0/wav_stim.npy\n",
      "2023-02-22 12:52:53,538 ceciestunepipe.util.wavutil INFO     Saving meta of npy array to /mnt/sphere/speech_bci/derived_data/s_b1555_22/2022-07-16/sglx/1426_g0/wav_stimnpy_meta.json\n",
      "2023-02-22 12:52:53,542 ceciestunepipe.util.wavutil INFO     Saving meta of npy array to /mnt/sphere/speech_bci/derived_data/s_b1555_22/2022-07-16/sglx/1426_g0/wav_stimnpy_meta.pickle\n",
      "2023-02-22 12:52:53,569 ceciestunepipe.util.spikeextractors.preprocess INFO     Getting the onset/offset of stimuli from the 0 extracted analog channel\n",
      "2023-02-22 12:52:54,905 ceciestunepipe.util.stimutil INFO     found 0.0 events\n",
      "2023-02-22 12:52:54,918 ceciestunepipe.util.spikeextractors.preprocess INFO     saved onset/offset of trial events from the sine wave in /mnt/sphere/speech_bci/derived_data/s_b1555_22/2022-07-16/sglx/1426_g0/wav_stim_sync_sine_ttl_evt.npy\n",
      "2023-02-22 12:52:54,919 ceciestunepipe.util.spikeextractors.preprocess INFO     Getting sync channel(s) from nidaq streams: ['sync']\n",
      "2023-02-22 12:52:54,920 ceciestunepipe.util.spikeextractors.extractors.spikeglxrecordingextractor.spikeglxrecordingextractor INFO     getting ttl traces, chan [0 1 2 3 4 5 6 7]\n",
      "2023-02-22 12:53:09,870 ceciestunepipe.util.wavutil INFO     sampling rate 40000\n",
      "2023-02-22 12:53:09,872 ceciestunepipe.util.wavutil INFO     saving (1, 888574516)-shaped array as wav in /mnt/sphere/speech_bci/derived_data/s_b1555_22/2022-07-16/sglx/1426_g0/wav_sync.wav\n",
      "2023-02-22 12:53:12,458 ceciestunepipe.util.wavutil INFO     saving (1, 888574516)-shaped array as npy in /mnt/sphere/speech_bci/derived_data/s_b1555_22/2022-07-16/sglx/1426_g0/wav_sync.npy\n",
      "2023-02-22 12:53:12,459 ceciestunepipe.util.wavutil INFO     saving (888574516, 1)-shaped array as npy in /mnt/sphere/speech_bci/derived_data/s_b1555_22/2022-07-16/sglx/1426_g0/wav_sync.npy\n",
      "2023-02-22 12:53:14,901 ceciestunepipe.util.wavutil INFO     Saving meta of npy array to /mnt/sphere/speech_bci/derived_data/s_b1555_22/2022-07-16/sglx/1426_g0/wav_syncnpy_meta.json\n",
      "2023-02-22 12:53:14,903 ceciestunepipe.util.wavutil INFO     Saving meta of npy array to /mnt/sphere/speech_bci/derived_data/s_b1555_22/2022-07-16/sglx/1426_g0/wav_syncnpy_meta.pickle\n",
      "2023-02-22 12:53:14,905 ceciestunepipe.util.spikeextractors.preprocess INFO     Getting sync events from the wav sync channel\n",
      "2023-02-22 12:53:19,285 ceciestunepipe.util.spikeextractors.preprocess INFO     saving sync events of the wav channel to /mnt/sphere/speech_bci/derived_data/s_b1555_22/2022-07-16/sglx/1426_g0/wav_sync_evt.npy\n",
      "2023-02-22 12:53:19,308 ceciestunepipe.util.spikeextractors.preprocess INFO     saving t0 for wav channel to /mnt/sphere/speech_bci/derived_data/s_b1555_22/2022-07-16/sglx/1426_g0/wav_t0.npy\n",
      "2023-02-22 12:53:33,534 ceciestunepipe.util.spikeextractors.preprocess INFO     Will get 1 ttl signals\n",
      "2023-02-22 12:53:33,536 ceciestunepipe.util.spikeextractors.preprocess INFO     looking for signal wav_ttl in the nidaq channels\n",
      "2023-02-22 12:53:33,536 ceciestunepipe.util.spikeextractors.preprocess INFO     found in chan 2\n",
      "2023-02-22 12:53:33,537 ceciestunepipe.util.spikeextractors.extractors.spikeglxrecordingextractor.spikeglxrecordingextractor INFO     getting ttl events, chan 2\n",
      "2023-02-22 12:53:40,901 ceciestunepipe.util.spikeextractors.preprocess INFO     saving (0, 2)-shaped array as npy in /mnt/sphere/speech_bci/derived_data/s_b1555_22/2022-07-16/sglx/1426_g0/wav_ttl_evt.npy\n",
      "2023-02-22 12:53:40,954 ceciestunepipe.util.spikeextractors.preprocess INFO     saving sync nidaq dict to /mnt/sphere/speech_bci/derived_data/s_b1555_22/2022-07-16/sglx/1426_g0/wav_sync_dict.pkl\n",
      "2023-02-22 12:53:41,060 ceciestunepipe.util.spikeextractors.preprocess INFO     Getting sync signals for imec streams: ['lf_0', 'ap_0']\n",
      "2023-02-22 12:53:41,061 ceciestunepipe.util.spikeextractors.preprocess INFO     getting syn patterns for lf_0\n",
      "2023-02-22 12:53:41,062 ceciestunepipe.util.spikeextractors.preprocess INFO     File /mnt/sphere/speech_bci/derived_data/s_b1555_22/2022-07-16/sglx/1426_g0/lf_0_sync_dict.pkl not found or forced computation, getting the events\n",
      "2023-02-22 12:53:41,063 ceciestunepipe.util.spikeextractors.extractors.spikeglxrecordingextractor.spikeglxrecordingextractor INFO     getting ttl events, chan 0\n",
      "2023-02-22 12:53:41,064 ceciestunepipe.util.spikeextractors.extractors.readSGLX INFO     Extracting digital on imec stream: there is only one channel, if any (SYN) and will be converted from an int16 channel \n",
      "2023-02-22 12:53:41,065 ceciestunepipe.util.spikeextractors.extractors.readSGLX INFO     allocated array for syn channel of size (55536920,)\n",
      "2023-02-22 12:54:34,487 ceciestunepipe.util.spikeextractors.extractors.readSGLX INFO     Threshold for logical hi is 0\n",
      "/mnt/cube/earneodo/repos/ceciestunepipe/ceciestunepipe/util/spikeextractors/extractors/spikeglxrecordingextractor/readSGLX.py:310: UserWarning: There were 4 errors in the recording\n",
      "  warnings.warn('There were {} errors in the recording'.format(n_errors))\n",
      "/mnt/cube/earneodo/repos/ceciestunepipe/ceciestunepipe/util/spikeextractors/extractors/spikeglxrecordingextractor/readSGLX.py:311: UserWarning: You probably want to check those\n",
      "  warnings.warn('You probably want to check those')\n",
      "2023-02-22 12:54:35,369 ceciestunepipe.util.spikeextractors.preprocess INFO     saving events array to /mnt/sphere/speech_bci/derived_data/s_b1555_22/2022-07-16/sglx/1426_g0/lf_0_sync_evt.npy\n",
      "2023-02-22 12:54:35,591 ceciestunepipe.util.spikeextractors.preprocess INFO     saving t_0 array to /mnt/sphere/speech_bci/derived_data/s_b1555_22/2022-07-16/sglx/1426_g0/lf_0_t0.npy\n",
      "2023-02-22 12:54:36,532 ceciestunepipe.util.spikeextractors.preprocess INFO     saving sync dict to /mnt/sphere/speech_bci/derived_data/s_b1555_22/2022-07-16/sglx/1426_g0/lf_0_sync_dict.pkl\n",
      "2023-02-22 12:54:36,628 ceciestunepipe.util.spikeextractors.preprocess INFO     loading syn_dict from /mnt/sphere/speech_bci/derived_data/s_b1555_22/2022-07-16/sglx/1426_g0/lf_0_sync_dict.pkl\n",
      "2023-02-22 12:54:36,634 ceciestunepipe.util.spikeextractors.preprocess INFO     getting syn patterns for ap_0\n",
      "2023-02-22 12:54:36,645 ceciestunepipe.util.spikeextractors.preprocess INFO     File /mnt/sphere/speech_bci/derived_data/s_b1555_22/2022-07-16/sglx/1426_g0/ap_0_sync_dict.pkl not found or forced computation, getting the events\n",
      "2023-02-22 12:54:36,645 ceciestunepipe.util.spikeextractors.extractors.spikeglxrecordingextractor.spikeglxrecordingextractor INFO     getting ttl events, chan 0\n",
      "2023-02-22 12:54:36,646 ceciestunepipe.util.spikeextractors.extractors.readSGLX INFO     Extracting digital on imec stream: there is only one channel, if any (SYN) and will be converted from an int16 channel \n",
      "2023-02-22 12:54:36,647 ceciestunepipe.util.spikeextractors.extractors.readSGLX INFO     allocated array for syn channel of size (666443032,)\n",
      "2023-02-22 13:06:45,076 ceciestunepipe.util.spikeextractors.extractors.readSGLX INFO     Threshold for logical hi is 0\n",
      "/mnt/cube/earneodo/repos/ceciestunepipe/ceciestunepipe/util/spikeextractors/extractors/spikeglxrecordingextractor/readSGLX.py:310: UserWarning: There were 11 errors in the recording\n",
      "  warnings.warn('There were {} errors in the recording'.format(n_errors))\n",
      "/mnt/cube/earneodo/repos/ceciestunepipe/ceciestunepipe/util/spikeextractors/extractors/spikeglxrecordingextractor/readSGLX.py:311: UserWarning: You probably want to check those\n",
      "  warnings.warn('You probably want to check those')\n",
      "2023-02-22 13:07:01,468 ceciestunepipe.util.spikeextractors.preprocess INFO     saving events array to /mnt/sphere/speech_bci/derived_data/s_b1555_22/2022-07-16/sglx/1426_g0/ap_0_sync_evt.npy\n",
      "2023-02-22 13:07:01,689 ceciestunepipe.util.spikeextractors.preprocess INFO     saving t_0 array to /mnt/sphere/speech_bci/derived_data/s_b1555_22/2022-07-16/sglx/1426_g0/ap_0_t0.npy\n",
      "2023-02-22 13:07:09,334 ceciestunepipe.util.spikeextractors.preprocess INFO     saving sync dict to /mnt/sphere/speech_bci/derived_data/s_b1555_22/2022-07-16/sglx/1426_g0/ap_0_sync_dict.pkl\n",
      "2023-02-22 13:07:09,349 ceciestunepipe.util.spikeextractors.preprocess INFO     loading syn_dict from /mnt/sphere/speech_bci/derived_data/s_b1555_22/2022-07-16/sglx/1426_g0/ap_0_sync_dict.pkl\n",
      "2023-02-22 13:07:09,354 ceciestunepipe.util.spikeextractors.preprocess INFO     getting syn patterns for nidq\n",
      "2023-02-22 13:07:09,375 ceciestunepipe.util.spikeextractors.preprocess INFO     loading syn_dict from /mnt/sphere/speech_bci/derived_data/s_b1555_22/2022-07-16/sglx/1426_g0/nidq_sync_dict.pkl\n",
      "2023-02-22 13:07:23,247 ceciestunepipe.util.spikeextractors.preprocess INFO     getting syn patterns for wav\n",
      "2023-02-22 13:07:23,286 ceciestunepipe.util.spikeextractors.preprocess INFO     loading syn_dict from /mnt/sphere/speech_bci/derived_data/s_b1555_22/2022-07-16/sglx/1426_g0/wav_sync_dict.pkl\n",
      "2023-02-22 13:07:23,537 ceciestunepipe.util.spikeextractors.preprocess INFO     saved epoch preprocessing parameters to /mnt/sphere/speech_bci/derived_data/s_b1555_22/2022-07-16/sglx/1426_g0/preprocess_par.pickle\n"
     ]
    }
   ],
   "source": [
    "reload(pre)\n",
    "one_epoch_dict = pre.preprocess_run(sess_par, exp_struct, sess_epochs[1])"
   ]
  },
  {
   "cell_type": "code",
   "execution_count": 8,
   "metadata": {
    "tags": []
   },
   "outputs": [
    {
     "name": "stderr",
     "output_type": "stream",
     "text": [
      "2023-02-22 12:25:14,728 root         INFO     pre-process all runs of sess 2022-07-16\n",
      "2023-02-22 12:25:14,729 ceciestunepipe.file.bcistructure INFO     {'folders': {'bird': '/mnt/sphere/speech_bci/raw_data/s_b1555_22', 'raw': '/mnt/sphere/speech_bci/raw_data/s_b1555_22/2022-07-16', 'sglx': '/mnt/sphere/speech_bci/raw_data/s_b1555_22/2022-07-16/sglx', 'kwik': '/scratch/earneodo/s_b1555_22/sglx/kwik/2022-07-16', 'processed': '/mnt/sphere/speech_bci/processed_data/s_b1555_22/2022-07-16/sglx', 'derived': '/mnt/sphere/speech_bci/derived_data/s_b1555_22/2022-07-16/sglx', 'tmp': '/scratch/earneodo/tmp', 'msort': '/scratch/earneodo/s_b1555_22/sglx/msort/2022-07-16', 'ksort': '/scratch/earneodo/s_b1555_22/sglx/ksort/2022-07-16/0', 'sort': '/mnt/sphere/speech_bci/derived_data/s_b1555_22/2022-07-16/sglx/0'}, 'files': {'par': '/scratch/earneodo/s_b1555_22/sglx/ksort/2022-07-16/0/params.json', 'set': '/mnt/sphere/speech_bci/raw_data/s_b1555_22/2022-07-16/sglx/settings.isf', 'rig': '/mnt/sphere/speech_bci/raw_data/s_b1555_22/2022-07-16/sglx/rig.json', 'kwd': '/scratch/earneodo/s_b1555_22/sglx/kwik/2022-07-16/stream.kwd', 'kwik': '/scratch/earneodo/s_b1555_22/sglx/kwik/2022-07-16/sort_0/spikes.kwik', 'kwe': '/scratch/earneodo/s_b1555_22/sglx/kwik/2022-07-16/events.kwe', 'dat_mic': '/mnt/sphere/speech_bci/processed_data/s_b1555_22/2022-07-16/sglx/dat_mic.mat', 'dat_ap': '/mnt/sphere/speech_bci/processed_data/s_b1555_22/2022-07-16/sglx/dat_ap.mat', 'allevents': '/mnt/sphere/speech_bci/processed_data/s_b1555_22/2022-07-16/sglx/dat_all.pkl', 'wav_mic': '/mnt/sphere/speech_bci/derived_data/s_b1555_22/2022-07-16/sglx/wav_mic.wav', 'mda_raw': '/scratch/earneodo/s_b1555_22/sglx/msort/2022-07-16/raw.mda', 'bin_raw': '/scratch/earneodo/s_b1555_22/sglx/ksort/2022-07-16/0/raw.bin'}}\n",
      "2023-02-22 12:25:14,731 root         INFO     found epochs: ['0703_g0', '1426_g0']\n",
      "2023-02-22 12:25:14,732 ceciestunepipe.util.spikeextractors.preprocess INFO     PREPROCESSING sess 2022-07-16 | epoch 0703_g0\n",
      "2023-02-22 12:25:14,732 ceciestunepipe.util.spikeextractors.preprocess INFO     getting extractors\n",
      "2023-02-22 12:25:14,894 ceciestunepipe.util.spikeextractors.preprocess INFO     Got sglx recordings for keys ['nidq', 'lf_0', 'ap_0']\n",
      "2023-02-22 12:25:14,895 ceciestunepipe.util.spikeextractors.preprocess INFO     Getting microphone channel(s) ['microphone_0']\n",
      "2023-02-22 12:25:14,895 ceciestunepipe.util.wavutil INFO     sampling rate 40000\n",
      "2023-02-22 12:25:14,896 ceciestunepipe.util.wavutil INFO     saving (1, 207488512)-shaped array as wav in /mnt/sphere/speech_bci/derived_data/s_b1555_22/2022-07-16/sglx/0703_g0/wav_mic.wav\n",
      "2023-02-22 12:26:02,984 ceciestunepipe.util.wavutil INFO     saving (1, 207488512)-shaped array as npy in /mnt/sphere/speech_bci/derived_data/s_b1555_22/2022-07-16/sglx/0703_g0/wav_mic.npy\n",
      "2023-02-22 12:26:02,987 ceciestunepipe.util.wavutil INFO     saving (207488512, 1)-shaped array as npy in /mnt/sphere/speech_bci/derived_data/s_b1555_22/2022-07-16/sglx/0703_g0/wav_mic.npy\n",
      "2023-02-22 12:26:09,270 ceciestunepipe.util.wavutil INFO     Saving meta of npy array to /mnt/sphere/speech_bci/derived_data/s_b1555_22/2022-07-16/sglx/0703_g0/wav_micnpy_meta.json\n",
      "2023-02-22 12:26:09,422 ceciestunepipe.util.wavutil INFO     Saving meta of npy array to /mnt/sphere/speech_bci/derived_data/s_b1555_22/2022-07-16/sglx/0703_g0/wav_micnpy_meta.pickle\n",
      "2023-02-22 12:26:09,424 ceciestunepipe.util.spikeextractors.preprocess INFO     Getting adc channel(s) ['pressure']\n",
      "2023-02-22 12:26:09,425 ceciestunepipe.util.wavutil INFO     sampling rate 40000\n",
      "2023-02-22 12:26:09,426 ceciestunepipe.util.wavutil INFO     saving (1, 207488512)-shaped array as wav in /mnt/sphere/speech_bci/derived_data/s_b1555_22/2022-07-16/sglx/0703_g0/wav_adc.wav\n",
      "2023-02-22 12:26:27,480 ceciestunepipe.util.wavutil INFO     saving (1, 207488512)-shaped array as npy in /mnt/sphere/speech_bci/derived_data/s_b1555_22/2022-07-16/sglx/0703_g0/wav_adc.npy\n",
      "2023-02-22 12:26:27,482 ceciestunepipe.util.wavutil INFO     saving (207488512, 1)-shaped array as npy in /mnt/sphere/speech_bci/derived_data/s_b1555_22/2022-07-16/sglx/0703_g0/wav_adc.npy\n",
      "2023-02-22 12:26:32,882 ceciestunepipe.util.wavutil INFO     Saving meta of npy array to /mnt/sphere/speech_bci/derived_data/s_b1555_22/2022-07-16/sglx/0703_g0/wav_adcnpy_meta.json\n",
      "2023-02-22 12:26:32,899 ceciestunepipe.util.wavutil INFO     Saving meta of npy array to /mnt/sphere/speech_bci/derived_data/s_b1555_22/2022-07-16/sglx/0703_g0/wav_adcnpy_meta.pickle\n",
      "2023-02-22 12:26:37,653 ceciestunepipe.util.spikeextractors.preprocess INFO     Getting stimulus channel(s) ['wav_syn', 'wav_stim']\n",
      "2023-02-22 12:28:10,793 ceciestunepipe.util.wavutil INFO     sampling rate 40000\n",
      "2023-02-22 12:28:10,795 ceciestunepipe.util.wavutil INFO     saving (2, 207488512)-shaped array as wav in /mnt/sphere/speech_bci/derived_data/s_b1555_22/2022-07-16/sglx/0703_g0/wav_stim.wav\n",
      "2023-02-22 12:29:30,584 ceciestunepipe.util.wavutil INFO     saving (2, 207488512)-shaped array as npy in /mnt/sphere/speech_bci/derived_data/s_b1555_22/2022-07-16/sglx/0703_g0/wav_stim.npy\n",
      "2023-02-22 12:29:30,586 ceciestunepipe.util.wavutil INFO     saving (207488512, 2)-shaped array as npy in /mnt/sphere/speech_bci/derived_data/s_b1555_22/2022-07-16/sglx/0703_g0/wav_stim.npy\n",
      "2023-02-22 12:29:33,015 ceciestunepipe.util.wavutil INFO     Saving meta of npy array to /mnt/sphere/speech_bci/derived_data/s_b1555_22/2022-07-16/sglx/0703_g0/wav_stimnpy_meta.json\n",
      "2023-02-22 12:29:33,021 ceciestunepipe.util.wavutil INFO     Saving meta of npy array to /mnt/sphere/speech_bci/derived_data/s_b1555_22/2022-07-16/sglx/0703_g0/wav_stimnpy_meta.pickle\n",
      "2023-02-22 12:29:33,023 ceciestunepipe.util.spikeextractors.preprocess INFO     Getting the onset/offset of stimuli from the 0 extracted analog channel\n",
      "2023-02-22 12:29:55,410 ceciestunepipe.util.stimutil INFO     found 1.0 events\n",
      "2023-02-22 12:29:55,453 ceciestunepipe.util.spikeextractors.preprocess INFO     saved onset/offset of trial events from the sine wave in /mnt/sphere/speech_bci/derived_data/s_b1555_22/2022-07-16/sglx/0703_g0/wav_stim_sync_sine_ttl_evt.npy\n",
      "2023-02-22 12:29:55,454 ceciestunepipe.util.spikeextractors.preprocess INFO     Getting sync channel(s) from nidaq streams: ['sync']\n",
      "2023-02-22 12:29:55,455 ceciestunepipe.util.spikeextractors.extractors.spikeglxrecordingextractor.spikeglxrecordingextractor INFO     getting ttl traces, chan [0 1 2 3 4 5 6 7]\n",
      "2023-02-22 12:33:00,518 ceciestunepipe.util.wavutil INFO     sampling rate 40000\n",
      "2023-02-22 12:33:00,520 ceciestunepipe.util.wavutil INFO     saving (1, 207488512)-shaped array as wav in /mnt/sphere/speech_bci/derived_data/s_b1555_22/2022-07-16/sglx/0703_g0/wav_sync.wav\n",
      "2023-02-22 12:33:01,493 ceciestunepipe.util.wavutil INFO     saving (1, 207488512)-shaped array as npy in /mnt/sphere/speech_bci/derived_data/s_b1555_22/2022-07-16/sglx/0703_g0/wav_sync.npy\n",
      "2023-02-22 12:33:01,495 ceciestunepipe.util.wavutil INFO     saving (207488512, 1)-shaped array as npy in /mnt/sphere/speech_bci/derived_data/s_b1555_22/2022-07-16/sglx/0703_g0/wav_sync.npy\n",
      "2023-02-22 12:33:02,220 ceciestunepipe.util.wavutil INFO     Saving meta of npy array to /mnt/sphere/speech_bci/derived_data/s_b1555_22/2022-07-16/sglx/0703_g0/wav_syncnpy_meta.json\n",
      "2023-02-22 12:33:02,239 ceciestunepipe.util.wavutil INFO     Saving meta of npy array to /mnt/sphere/speech_bci/derived_data/s_b1555_22/2022-07-16/sglx/0703_g0/wav_syncnpy_meta.pickle\n",
      "2023-02-22 12:33:02,242 ceciestunepipe.util.spikeextractors.preprocess INFO     Getting sync events from the wav sync channel\n",
      "2023-02-22 12:33:29,085 ceciestunepipe.util.spikeextractors.preprocess INFO     saving sync events of the wav channel to /mnt/sphere/speech_bci/derived_data/s_b1555_22/2022-07-16/sglx/0703_g0/wav_sync_evt.npy\n",
      "2023-02-22 12:33:29,111 ceciestunepipe.util.spikeextractors.preprocess INFO     saving t0 for wav channel to /mnt/sphere/speech_bci/derived_data/s_b1555_22/2022-07-16/sglx/0703_g0/wav_t0.npy\n",
      "2023-02-22 12:34:36,658 ceciestunepipe.util.spikeextractors.preprocess INFO     Will get 1 ttl signals\n",
      "2023-02-22 12:34:36,660 ceciestunepipe.util.spikeextractors.preprocess INFO     looking for signal wav_ttl in the nidaq channels\n",
      "2023-02-22 12:34:36,661 ceciestunepipe.util.spikeextractors.preprocess INFO     found in chan 2\n",
      "2023-02-22 12:34:36,662 ceciestunepipe.util.spikeextractors.extractors.spikeglxrecordingextractor.spikeglxrecordingextractor INFO     getting ttl events, chan 2\n",
      "2023-02-22 12:37:36,017 ceciestunepipe.util.spikeextractors.preprocess INFO     saving (0, 2)-shaped array as npy in /mnt/sphere/speech_bci/derived_data/s_b1555_22/2022-07-16/sglx/0703_g0/wav_ttl_evt.npy\n",
      "2023-02-22 12:37:36,202 ceciestunepipe.util.spikeextractors.preprocess INFO     saving sync nidaq dict to /mnt/sphere/speech_bci/derived_data/s_b1555_22/2022-07-16/sglx/0703_g0/wav_sync_dict.pkl\n",
      "2023-02-22 12:37:36,252 ceciestunepipe.util.spikeextractors.preprocess INFO     Getting sync signals for imec streams: ['lf_0', 'ap_0']\n",
      "2023-02-22 12:37:36,253 ceciestunepipe.util.spikeextractors.preprocess INFO     getting syn patterns for lf_0\n",
      "2023-02-22 12:37:36,255 ceciestunepipe.util.spikeextractors.preprocess INFO     File /mnt/sphere/speech_bci/derived_data/s_b1555_22/2022-07-16/sglx/0703_g0/lf_0_sync_dict.pkl not found or forced computation, getting the events\n",
      "2023-02-22 12:37:36,256 ceciestunepipe.util.spikeextractors.extractors.spikeglxrecordingextractor.spikeglxrecordingextractor INFO     getting ttl events, chan 0\n",
      "2023-02-22 12:37:36,257 ceciestunepipe.util.spikeextractors.extractors.readSGLX INFO     Extracting digital on imec stream: there is only one channel, if any (SYN) and will be converted from an int16 channel \n",
      "2023-02-22 12:37:36,260 ceciestunepipe.util.spikeextractors.extractors.readSGLX INFO     allocated array for syn channel of size (12968265,)\n",
      "2023-02-22 12:37:58,712 ceciestunepipe.util.spikeextractors.extractors.readSGLX INFO     Threshold for logical hi is 0\n",
      "2023-02-22 12:38:15,268 ceciestunepipe.util.spikeextractors.preprocess INFO     saving events array to /mnt/sphere/speech_bci/derived_data/s_b1555_22/2022-07-16/sglx/0703_g0/lf_0_sync_evt.npy\n",
      "2023-02-22 12:38:15,439 ceciestunepipe.util.spikeextractors.preprocess INFO     saving t_0 array to /mnt/sphere/speech_bci/derived_data/s_b1555_22/2022-07-16/sglx/0703_g0/lf_0_t0.npy\n",
      "2023-02-22 12:38:15,645 ceciestunepipe.util.spikeextractors.preprocess INFO     saving sync dict to /mnt/sphere/speech_bci/derived_data/s_b1555_22/2022-07-16/sglx/0703_g0/lf_0_sync_dict.pkl\n",
      "2023-02-22 12:38:15,694 ceciestunepipe.util.spikeextractors.preprocess INFO     loading syn_dict from /mnt/sphere/speech_bci/derived_data/s_b1555_22/2022-07-16/sglx/0703_g0/lf_0_sync_dict.pkl\n",
      "2023-02-22 12:38:15,699 ceciestunepipe.util.spikeextractors.preprocess INFO     getting syn patterns for ap_0\n",
      "2023-02-22 12:38:15,701 ceciestunepipe.util.spikeextractors.preprocess INFO     File /mnt/sphere/speech_bci/derived_data/s_b1555_22/2022-07-16/sglx/0703_g0/ap_0_sync_dict.pkl not found or forced computation, getting the events\n",
      "2023-02-22 12:38:15,701 ceciestunepipe.util.spikeextractors.extractors.spikeglxrecordingextractor.spikeglxrecordingextractor INFO     getting ttl events, chan 0\n",
      "2023-02-22 12:38:15,702 ceciestunepipe.util.spikeextractors.extractors.readSGLX INFO     Extracting digital on imec stream: there is only one channel, if any (SYN) and will be converted from an int16 channel \n",
      "2023-02-22 12:38:15,703 ceciestunepipe.util.spikeextractors.extractors.readSGLX INFO     allocated array for syn channel of size (155619174,)\n",
      "2023-02-22 12:43:16,175 ceciestunepipe.util.spikeextractors.extractors.readSGLX INFO     Threshold for logical hi is 0\n",
      "/mnt/cube/earneodo/repos/ceciestunepipe/ceciestunepipe/util/spikeextractors/extractors/spikeglxrecordingextractor/readSGLX.py:310: UserWarning: There were 1 errors in the recording\n",
      "  warnings.warn('There were {} errors in the recording'.format(n_errors))\n",
      "/mnt/cube/earneodo/repos/ceciestunepipe/ceciestunepipe/util/spikeextractors/extractors/spikeglxrecordingextractor/readSGLX.py:311: UserWarning: You probably want to check those\n",
      "  warnings.warn('You probably want to check those')\n",
      "2023-02-22 12:43:58,028 ceciestunepipe.util.spikeextractors.preprocess INFO     saving events array to /mnt/sphere/speech_bci/derived_data/s_b1555_22/2022-07-16/sglx/0703_g0/ap_0_sync_evt.npy\n",
      "2023-02-22 12:43:58,563 ceciestunepipe.util.spikeextractors.preprocess INFO     saving t_0 array to /mnt/sphere/speech_bci/derived_data/s_b1555_22/2022-07-16/sglx/0703_g0/ap_0_t0.npy\n",
      "2023-02-22 12:44:00,265 ceciestunepipe.util.spikeextractors.preprocess INFO     saving sync dict to /mnt/sphere/speech_bci/derived_data/s_b1555_22/2022-07-16/sglx/0703_g0/ap_0_sync_dict.pkl\n",
      "2023-02-22 12:44:00,664 ceciestunepipe.util.spikeextractors.preprocess INFO     loading syn_dict from /mnt/sphere/speech_bci/derived_data/s_b1555_22/2022-07-16/sglx/0703_g0/ap_0_sync_dict.pkl\n",
      "2023-02-22 12:44:00,671 ceciestunepipe.util.spikeextractors.preprocess INFO     getting syn patterns for nidq\n",
      "2023-02-22 12:44:00,672 ceciestunepipe.util.spikeextractors.preprocess INFO     loading syn_dict from /mnt/sphere/speech_bci/derived_data/s_b1555_22/2022-07-16/sglx/0703_g0/nidq_sync_dict.pkl\n",
      "2023-02-22 12:44:04,021 ceciestunepipe.util.spikeextractors.preprocess INFO     getting syn patterns for wav\n",
      "2023-02-22 12:44:04,023 ceciestunepipe.util.spikeextractors.preprocess INFO     loading syn_dict from /mnt/sphere/speech_bci/derived_data/s_b1555_22/2022-07-16/sglx/0703_g0/wav_sync_dict.pkl\n",
      "2023-02-22 12:44:04,249 ceciestunepipe.util.spikeextractors.preprocess INFO     saved epoch preprocessing parameters to /mnt/sphere/speech_bci/derived_data/s_b1555_22/2022-07-16/sglx/0703_g0/preprocess_par.pickle\n",
      "2023-02-22 12:44:05,476 ceciestunepipe.util.spikeextractors.preprocess INFO     PREPROCESSING sess 2022-07-16 | epoch 1426_g0\n",
      "2023-02-22 12:44:05,477 ceciestunepipe.util.spikeextractors.preprocess INFO     getting extractors\n",
      "2023-02-22 12:44:06,930 ceciestunepipe.util.spikeextractors.preprocess INFO     Got sglx recordings for keys ['nidq', 'lf_0', 'ap_0']\n",
      "2023-02-22 12:44:06,931 ceciestunepipe.util.spikeextractors.preprocess INFO     Getting microphone channel(s) ['microphone_0']\n",
      "2023-02-22 12:44:06,932 ceciestunepipe.util.wavutil INFO     sampling rate 40000\n",
      "2023-02-22 12:44:06,933 ceciestunepipe.util.wavutil INFO     saving (1, 888574516)-shaped array as wav in /mnt/sphere/speech_bci/derived_data/s_b1555_22/2022-07-16/sglx/1426_g0/wav_mic.wav\n",
      "2023-02-22 12:44:27,460 ceciestunepipe.util.wavutil INFO     saving (1, 888574516)-shaped array as npy in /mnt/sphere/speech_bci/derived_data/s_b1555_22/2022-07-16/sglx/1426_g0/wav_mic.npy\n",
      "2023-02-22 12:44:27,462 ceciestunepipe.util.wavutil INFO     saving (888574516, 1)-shaped array as npy in /mnt/sphere/speech_bci/derived_data/s_b1555_22/2022-07-16/sglx/1426_g0/wav_mic.npy\n",
      "2023-02-22 12:44:45,200 ceciestunepipe.util.wavutil INFO     Saving meta of npy array to /mnt/sphere/speech_bci/derived_data/s_b1555_22/2022-07-16/sglx/1426_g0/wav_micnpy_meta.json\n",
      "2023-02-22 12:44:45,225 ceciestunepipe.util.wavutil INFO     Saving meta of npy array to /mnt/sphere/speech_bci/derived_data/s_b1555_22/2022-07-16/sglx/1426_g0/wav_micnpy_meta.pickle\n",
      "2023-02-22 12:44:45,227 ceciestunepipe.util.spikeextractors.preprocess INFO     Getting adc channel(s) ['pressure']\n",
      "2023-02-22 12:44:45,228 ceciestunepipe.util.wavutil INFO     sampling rate 40000\n",
      "2023-02-22 12:44:45,229 ceciestunepipe.util.wavutil INFO     saving (1, 888574516)-shaped array as wav in /mnt/sphere/speech_bci/derived_data/s_b1555_22/2022-07-16/sglx/1426_g0/wav_adc.wav\n",
      "2023-02-22 12:44:50,575 ceciestunepipe.util.wavutil INFO     saving (1, 888574516)-shaped array as npy in /mnt/sphere/speech_bci/derived_data/s_b1555_22/2022-07-16/sglx/1426_g0/wav_adc.npy\n",
      "2023-02-22 12:44:50,576 ceciestunepipe.util.wavutil INFO     saving (888574516, 1)-shaped array as npy in /mnt/sphere/speech_bci/derived_data/s_b1555_22/2022-07-16/sglx/1426_g0/wav_adc.npy\n",
      "2023-02-22 12:45:08,636 ceciestunepipe.util.wavutil INFO     Saving meta of npy array to /mnt/sphere/speech_bci/derived_data/s_b1555_22/2022-07-16/sglx/1426_g0/wav_adcnpy_meta.json\n",
      "2023-02-22 12:45:08,639 ceciestunepipe.util.wavutil INFO     Saving meta of npy array to /mnt/sphere/speech_bci/derived_data/s_b1555_22/2022-07-16/sglx/1426_g0/wav_adcnpy_meta.pickle\n",
      "2023-02-22 12:45:26,169 ceciestunepipe.util.spikeextractors.preprocess INFO     Getting stimulus channel(s) ['wav_syn', 'wav_stim']\n",
      "2023-02-22 12:45:42,122 ceciestunepipe.util.wavutil INFO     sampling rate 40000\n",
      "2023-02-22 12:45:42,124 ceciestunepipe.util.wavutil INFO     saving (2, 888574516)-shaped array as wav in /mnt/sphere/speech_bci/derived_data/s_b1555_22/2022-07-16/sglx/1426_g0/wav_stim.wav\n",
      "2023-02-22 12:46:24,042 ceciestunepipe.util.wavutil INFO     saving (2, 888574516)-shaped array as npy in /mnt/sphere/speech_bci/derived_data/s_b1555_22/2022-07-16/sglx/1426_g0/wav_stim.npy\n",
      "2023-02-22 12:46:24,045 ceciestunepipe.util.wavutil INFO     saving (888574516, 2)-shaped array as npy in /mnt/sphere/speech_bci/derived_data/s_b1555_22/2022-07-16/sglx/1426_g0/wav_stim.npy\n",
      "2023-02-22 12:46:28,085 ceciestunepipe.util.wavutil INFO     Saving meta of npy array to /mnt/sphere/speech_bci/derived_data/s_b1555_22/2022-07-16/sglx/1426_g0/wav_stimnpy_meta.json\n",
      "2023-02-22 12:46:28,088 ceciestunepipe.util.wavutil INFO     Saving meta of npy array to /mnt/sphere/speech_bci/derived_data/s_b1555_22/2022-07-16/sglx/1426_g0/wav_stimnpy_meta.pickle\n",
      "2023-02-22 12:46:28,157 ceciestunepipe.util.spikeextractors.preprocess INFO     Getting the onset/offset of stimuli from the 0 extracted analog channel\n",
      "2023-02-22 12:46:40,594 ceciestunepipe.util.stimutil INFO     found 0.0 events\n",
      "2023-02-22 12:46:40,640 ceciestunepipe.util.spikeextractors.preprocess INFO     saved onset/offset of trial events from the sine wave in /mnt/sphere/speech_bci/derived_data/s_b1555_22/2022-07-16/sglx/1426_g0/wav_stim_sync_sine_ttl_evt.npy\n",
      "2023-02-22 12:46:40,641 ceciestunepipe.util.spikeextractors.preprocess INFO     Getting sync channel(s) from nidaq streams: ['sync']\n",
      "2023-02-22 12:46:40,643 ceciestunepipe.util.spikeextractors.extractors.spikeglxrecordingextractor.spikeglxrecordingextractor INFO     getting ttl traces, chan [0 1 2 3 4 5 6 7]\n",
      "<ipython-input-8-745b24e6b90f>:17: UserWarning: Error in epoch 1426_g0\n",
      "  warnings.warn('Error in epoch {}'.format(epoch), UserWarning)\n",
      "2023-02-22 12:46:56,347 root         INFO     <function format_exc at 0x7f635e671940>\n",
      "2023-02-22 12:46:56,348 root         INFO     Unable to allocate 13.2 GiB for an array with shape (14217192256,) and data type uint8\n",
      "2023-02-22 12:46:56,349 root         INFO     Session 2022-07-16 epoch 1426_g0 could not be preprocessed\n"
     ]
    }
   ],
   "source": [
    "### sequentially process all runs of the sessions\n",
    "def preprocess_session(sess_par: dict):\n",
    "    logger.info('pre-process all runs of sess ' + sess_par['sess'])\n",
    "    # get exp struct\n",
    "    sess_struct = et.get_exp_struct(sess_par['bird'], sess_par['sess'], sort=sess_par['sort'])\n",
    "    # list the epochs\n",
    "    sess_epochs = et.list_sgl_epochs(sess_par)\n",
    "    logger.info('found epochs: {}'.format(sess_epochs))\n",
    "    # preprocess all epochs\n",
    "    epoch_dict_list = []\n",
    "    for i_ep, epoch in enumerate(sess_epochs):\n",
    "        try:\n",
    "            exp_struct = et.sgl_struct(sess_par, epoch)\n",
    "            one_epoch_dict = pre.preprocess_run(sess_par, exp_struct, epoch)\n",
    "            epoch_dict_list.append(one_epoch_dict)\n",
    "        except Exception as exc:\n",
    "            warnings.warn('Error in epoch {}'.format(epoch), UserWarning)\n",
    "            logger.info(traceback.format_exc)\n",
    "            logger.info(exc)\n",
    "            logger.info('Session {} epoch {} could not be preprocessed'.format(sess_par['sess'], epoch))\n",
    "        \n",
    "    return epoch_dict_list\n",
    "\n",
    "all_epoch_list = preprocess_session(sess_par)"
   ]
  },
  {
   "cell_type": "markdown",
   "metadata": {},
   "source": [
    "## Process multiple sessions"
   ]
  },
  {
   "cell_type": "code",
   "execution_count": 9,
   "metadata": {
    "tags": []
   },
   "outputs": [],
   "source": [
    "sess_list = all_bird_sess\n",
    "# fist implant, right hemisphere\n",
    "#sess_list = ['2021-06-24', '2021-06-25', '2021-06-26', '2021-06-27', '2021-06-28', '2021-06-29', '2021-06-30']\n",
    "sess_list = ['2022-04-16', '2022-04-17', '2022-04-18', '2022-04-24', \n",
    "            '2022-04-28',  #pressure with HSCDLNN001PDAA3 sensor\n",
    "             '2022-04-29', #first implant, RH, pressure + RA\n",
    "             '2022-07-16', #second implant, LH, pressure + RA, but pressure in the first epoch had a HF noise\n",
    "            '2022-10-11', '2022-10-12'] # ncm right hemisphere with HSCDLNN001PDAA3 sensor"
   ]
  },
  {
   "cell_type": "code",
   "execution_count": 12,
   "metadata": {
    "collapsed": true,
    "jupyter": {
     "outputs_hidden": true
    },
    "tags": []
   },
   "outputs": [
    {
     "name": "stderr",
     "output_type": "stream",
     "text": [
      "2022-04-19 10:06:06,964 root         INFO     pre-process all runs of sess 2022-04-18\n",
      "2022-04-19 10:06:06,965 ceciestunepipe.file.bcistructure INFO     {'folders': {'bird': '/mnt/sphere/speech_bci/raw_data/s_b1555_22', 'raw': '/mnt/sphere/speech_bci/raw_data/s_b1555_22/2022-04-18', 'sglx': '/mnt/sphere/speech_bci/raw_data/s_b1555_22/2022-04-18/sglx', 'kwik': '/scratch/earneodo/s_b1555_22/sglx/kwik/2022-04-18', 'processed': '/mnt/sphere/speech_bci/processed_data/s_b1555_22/2022-04-18/sglx', 'derived': '/mnt/sphere/speech_bci/derived_data/s_b1555_22/2022-04-18/sglx', 'tmp': '/scratch/earneodo/tmp', 'msort': '/scratch/earneodo/s_b1555_22/sglx/msort/2022-04-18', 'ksort': '/scratch/earneodo/s_b1555_22/sglx/ksort/2022-04-18/2', 'sort': '/mnt/sphere/speech_bci/derived_data/s_b1555_22/2022-04-18/sglx/2'}, 'files': {'par': '/scratch/earneodo/s_b1555_22/sglx/ksort/2022-04-18/2/params.json', 'set': '/mnt/sphere/speech_bci/raw_data/s_b1555_22/2022-04-18/sglx/settings.isf', 'rig': '/mnt/sphere/speech_bci/raw_data/s_b1555_22/2022-04-18/sglx/rig.json', 'kwd': '/scratch/earneodo/s_b1555_22/sglx/kwik/2022-04-18/stream.kwd', 'kwik': '/scratch/earneodo/s_b1555_22/sglx/kwik/2022-04-18/sort_2/spikes.kwik', 'kwe': '/scratch/earneodo/s_b1555_22/sglx/kwik/2022-04-18/events.kwe', 'dat_mic': '/mnt/sphere/speech_bci/processed_data/s_b1555_22/2022-04-18/sglx/dat_mic.mat', 'dat_ap': '/mnt/sphere/speech_bci/processed_data/s_b1555_22/2022-04-18/sglx/dat_ap.mat', 'allevents': '/mnt/sphere/speech_bci/processed_data/s_b1555_22/2022-04-18/sglx/dat_all.pkl', 'wav_mic': '/mnt/sphere/speech_bci/derived_data/s_b1555_22/2022-04-18/sglx/wav_mic.wav', 'mda_raw': '/scratch/earneodo/s_b1555_22/sglx/msort/2022-04-18/raw.mda', 'bin_raw': '/scratch/earneodo/s_b1555_22/sglx/ksort/2022-04-18/2/raw.bin'}}\n",
      "2022-04-19 10:06:06,969 root         INFO     found epochs: ['0817_g0', '1207_g0', '1530_g0', '1834_g0']\n",
      "2022-04-19 10:06:06,970 ceciestunepipe.util.spikeextractors.preprocess INFO     PREPROCESSING sess 2022-04-18 | epoch 0817_g0\n",
      "2022-04-19 10:06:06,971 ceciestunepipe.util.spikeextractors.preprocess INFO     getting extractors\n",
      "2022-04-19 10:06:06,975 ceciestunepipe.util.spikeextractors.preprocess INFO     Got sglx recordings for keys ['nidq']\n",
      "2022-04-19 10:06:06,976 ceciestunepipe.util.spikeextractors.preprocess INFO     Getting microphone channel(s) ['microphone_0']\n",
      "2022-04-19 10:06:06,976 ceciestunepipe.util.wavutil INFO     sampling rate 40000\n",
      "2022-04-19 10:06:06,978 ceciestunepipe.util.wavutil INFO     saving (1, 391135385)-shaped array as wav in /mnt/sphere/speech_bci/derived_data/s_b1555_22/2022-04-18/sglx/0817_g0/wav_mic.wav\n",
      "2022-04-19 10:06:08,824 ceciestunepipe.util.wavutil INFO     saving (1, 391135385)-shaped array as npy in /mnt/sphere/speech_bci/derived_data/s_b1555_22/2022-04-18/sglx/0817_g0/wav_mic.npy\n",
      "2022-04-19 10:06:16,434 ceciestunepipe.util.spikeextractors.preprocess INFO     Getting adc channel(s) ['pressure']\n",
      "2022-04-19 10:06:16,439 ceciestunepipe.util.wavutil INFO     sampling rate 40000\n",
      "2022-04-19 10:06:16,440 ceciestunepipe.util.wavutil INFO     saving (1, 391135385)-shaped array as wav in /mnt/sphere/speech_bci/derived_data/s_b1555_22/2022-04-18/sglx/0817_g0/wav_adc.wav\n",
      "2022-04-19 10:06:18,206 ceciestunepipe.util.wavutil INFO     saving (1, 391135385)-shaped array as npy in /mnt/sphere/speech_bci/derived_data/s_b1555_22/2022-04-18/sglx/0817_g0/wav_adc.npy\n",
      "2022-04-19 10:06:33,313 ceciestunepipe.util.spikeextractors.preprocess INFO     Getting sync channel(s) from nidaq streams: ['sync']\n",
      "2022-04-19 10:06:33,316 ceciestunepipe.util.spikeextractors.extractors.spikeglxrecordingextractor.spikeglxrecordingextractor INFO     getting ttl traces, chan [0 1 2 3 4 5 6 7]\n",
      "2022-04-19 10:06:39,372 ceciestunepipe.util.wavutil INFO     sampling rate 40000\n",
      "2022-04-19 10:06:39,374 ceciestunepipe.util.wavutil INFO     saving (1, 391135385)-shaped array as wav in /mnt/sphere/speech_bci/derived_data/s_b1555_22/2022-04-18/sglx/0817_g0/wav_sync.wav\n",
      "2022-04-19 10:06:40,596 ceciestunepipe.util.wavutil INFO     saving (1, 391135385)-shaped array as npy in /mnt/sphere/speech_bci/derived_data/s_b1555_22/2022-04-18/sglx/0817_g0/wav_sync.npy\n",
      "2022-04-19 10:06:41,763 ceciestunepipe.util.spikeextractors.preprocess INFO     Getting sync events from the wav sync channel\n",
      "2022-04-19 10:06:43,399 ceciestunepipe.util.spikeextractors.preprocess INFO     saving sync events of the wav channel to /mnt/sphere/speech_bci/derived_data/s_b1555_22/2022-04-18/sglx/0817_g0/wav_sync_evt.npy\n",
      "2022-04-19 10:06:43,424 ceciestunepipe.util.spikeextractors.preprocess INFO     saving t0 for wav channel to /mnt/sphere/speech_bci/derived_data/s_b1555_22/2022-04-18/sglx/0817_g0/wav_t0.npy\n",
      "2022-04-19 10:06:49,156 ceciestunepipe.util.spikeextractors.preprocess INFO     Will get 1 ttl signals\n",
      "2022-04-19 10:06:49,157 ceciestunepipe.util.spikeextractors.preprocess INFO     looking for signal wav_ttl in the nidaq channels\n",
      "2022-04-19 10:06:49,158 ceciestunepipe.util.spikeextractors.preprocess INFO     found in chan 2\n",
      "2022-04-19 10:06:49,159 ceciestunepipe.util.spikeextractors.extractors.spikeglxrecordingextractor.spikeglxrecordingextractor INFO     getting ttl events, chan 2\n",
      "2022-04-19 10:06:52,334 ceciestunepipe.util.spikeextractors.preprocess INFO     saving (0, 2)-shaped array as npy in /mnt/sphere/speech_bci/derived_data/s_b1555_22/2022-04-18/sglx/0817_g0/wav_ttl_evt.npy\n",
      "2022-04-19 10:06:52,358 ceciestunepipe.util.spikeextractors.preprocess INFO     saving sync nidaq dict to /mnt/sphere/speech_bci/derived_data/s_b1555_22/2022-04-18/sglx/0817_g0/wav_sync_dict.pkl\n",
      "2022-04-19 10:06:52,360 ceciestunepipe.util.spikeextractors.preprocess INFO     Getting sync signals for imec streams: []\n",
      "2022-04-19 10:06:52,361 ceciestunepipe.util.spikeextractors.preprocess INFO     getting syn patterns for nidq\n",
      "2022-04-19 10:06:52,362 ceciestunepipe.util.spikeextractors.preprocess INFO     File /mnt/sphere/speech_bci/derived_data/s_b1555_22/2022-04-18/sglx/0817_g0/nidq_sync_dict.pkl not found or forced computation, getting the events\n",
      "2022-04-19 10:06:52,363 ceciestunepipe.util.spikeextractors.extractors.spikeglxrecordingextractor.spikeglxrecordingextractor INFO     getting ttl events, chan 0\n",
      "/home/earneodo/anaconda3/envs/unepipe/lib/python3.8/site-packages/numpy/core/fromnumeric.py:3419: RuntimeWarning: Mean of empty slice.\n",
      "  return _methods._mean(a, axis=axis, dtype=dtype,\n",
      "/home/earneodo/anaconda3/envs/unepipe/lib/python3.8/site-packages/numpy/core/_methods.py:188: RuntimeWarning: invalid value encountered in double_scalars\n",
      "  ret = ret.dtype.type(ret / rcount)\n",
      "2022-04-19 10:06:56,898 ceciestunepipe.util.spikeextractors.preprocess INFO     saving events array to /mnt/sphere/speech_bci/derived_data/s_b1555_22/2022-04-18/sglx/0817_g0/nidq_sync_evt.npy\n",
      "2022-04-19 10:06:56,901 ceciestunepipe.util.spikeextractors.preprocess INFO     saving t_0 array to /mnt/sphere/speech_bci/derived_data/s_b1555_22/2022-04-18/sglx/0817_g0/nidq_t0.npy\n",
      "2022-04-19 10:07:01,379 ceciestunepipe.util.spikeextractors.preprocess INFO     saving sync dict to /mnt/sphere/speech_bci/derived_data/s_b1555_22/2022-04-18/sglx/0817_g0/nidq_sync_dict.pkl\n",
      "2022-04-19 10:07:01,389 ceciestunepipe.util.spikeextractors.preprocess INFO     loading syn_dict from /mnt/sphere/speech_bci/derived_data/s_b1555_22/2022-04-18/sglx/0817_g0/nidq_sync_dict.pkl\n",
      "2022-04-19 10:07:01,395 ceciestunepipe.util.spikeextractors.preprocess INFO     getting syn patterns for wav\n",
      "2022-04-19 10:07:01,396 ceciestunepipe.util.spikeextractors.preprocess INFO     loading syn_dict from /mnt/sphere/speech_bci/derived_data/s_b1555_22/2022-04-18/sglx/0817_g0/wav_sync_dict.pkl\n",
      "2022-04-19 10:07:40,108 ceciestunepipe.util.spikeextractors.preprocess INFO     saved epoch preprocessing parameters to /mnt/sphere/speech_bci/derived_data/s_b1555_22/2022-04-18/sglx/0817_g0/preprocess_par.pickle\n",
      "2022-04-19 10:07:40,114 ceciestunepipe.util.spikeextractors.preprocess INFO     PREPROCESSING sess 2022-04-18 | epoch 1207_g0\n",
      "2022-04-19 10:07:40,115 ceciestunepipe.util.spikeextractors.preprocess INFO     getting extractors\n",
      "2022-04-19 10:07:40,123 ceciestunepipe.util.spikeextractors.preprocess INFO     Got sglx recordings for keys ['nidq']\n",
      "2022-04-19 10:07:40,124 ceciestunepipe.util.spikeextractors.preprocess INFO     Getting microphone channel(s) ['microphone_0']\n",
      "2022-04-19 10:07:40,125 ceciestunepipe.util.wavutil INFO     sampling rate 40000\n",
      "2022-04-19 10:07:40,125 ceciestunepipe.util.wavutil INFO     saving (1, 244632116)-shaped array as wav in /mnt/sphere/speech_bci/derived_data/s_b1555_22/2022-04-18/sglx/1207_g0/wav_mic.wav\n",
      "2022-04-19 10:07:44,194 ceciestunepipe.util.wavutil INFO     saving (1, 244632116)-shaped array as npy in /mnt/sphere/speech_bci/derived_data/s_b1555_22/2022-04-18/sglx/1207_g0/wav_mic.npy\n",
      "2022-04-19 10:07:48,937 ceciestunepipe.util.spikeextractors.preprocess INFO     Getting adc channel(s) ['pressure']\n",
      "2022-04-19 10:07:48,938 ceciestunepipe.util.wavutil INFO     sampling rate 40000\n",
      "2022-04-19 10:07:48,939 ceciestunepipe.util.wavutil INFO     saving (1, 244632116)-shaped array as wav in /mnt/sphere/speech_bci/derived_data/s_b1555_22/2022-04-18/sglx/1207_g0/wav_adc.wav\n",
      "2022-04-19 10:07:49,881 ceciestunepipe.util.wavutil INFO     saving (1, 244632116)-shaped array as npy in /mnt/sphere/speech_bci/derived_data/s_b1555_22/2022-04-18/sglx/1207_g0/wav_adc.npy\n",
      "2022-04-19 10:07:59,341 ceciestunepipe.util.spikeextractors.preprocess INFO     Getting sync channel(s) from nidaq streams: ['sync']\n",
      "2022-04-19 10:07:59,343 ceciestunepipe.util.spikeextractors.extractors.spikeglxrecordingextractor.spikeglxrecordingextractor INFO     getting ttl traces, chan [0 1 2 3 4 5 6 7]\n",
      "2022-04-19 10:08:03,002 ceciestunepipe.util.wavutil INFO     sampling rate 40000\n",
      "2022-04-19 10:08:03,004 ceciestunepipe.util.wavutil INFO     saving (1, 244632116)-shaped array as wav in /mnt/sphere/speech_bci/derived_data/s_b1555_22/2022-04-18/sglx/1207_g0/wav_sync.wav\n",
      "2022-04-19 10:08:03,712 ceciestunepipe.util.wavutil INFO     saving (1, 244632116)-shaped array as npy in /mnt/sphere/speech_bci/derived_data/s_b1555_22/2022-04-18/sglx/1207_g0/wav_sync.npy\n",
      "2022-04-19 10:08:04,423 ceciestunepipe.util.spikeextractors.preprocess INFO     Getting sync events from the wav sync channel\n",
      "2022-04-19 10:08:05,460 ceciestunepipe.util.spikeextractors.preprocess INFO     saving sync events of the wav channel to /mnt/sphere/speech_bci/derived_data/s_b1555_22/2022-04-18/sglx/1207_g0/wav_sync_evt.npy\n",
      "2022-04-19 10:08:05,470 ceciestunepipe.util.spikeextractors.preprocess INFO     saving t0 for wav channel to /mnt/sphere/speech_bci/derived_data/s_b1555_22/2022-04-18/sglx/1207_g0/wav_t0.npy\n",
      "2022-04-19 10:08:08,978 ceciestunepipe.util.spikeextractors.preprocess INFO     Will get 1 ttl signals\n",
      "2022-04-19 10:08:08,979 ceciestunepipe.util.spikeextractors.preprocess INFO     looking for signal wav_ttl in the nidaq channels\n",
      "2022-04-19 10:08:08,980 ceciestunepipe.util.spikeextractors.preprocess INFO     found in chan 2\n",
      "2022-04-19 10:08:08,981 ceciestunepipe.util.spikeextractors.extractors.spikeglxrecordingextractor.spikeglxrecordingextractor INFO     getting ttl events, chan 2\n",
      "2022-04-19 10:08:10,893 ceciestunepipe.util.spikeextractors.preprocess INFO     saving (0, 2)-shaped array as npy in /mnt/sphere/speech_bci/derived_data/s_b1555_22/2022-04-18/sglx/1207_g0/wav_ttl_evt.npy\n",
      "2022-04-19 10:08:10,917 ceciestunepipe.util.spikeextractors.preprocess INFO     saving sync nidaq dict to /mnt/sphere/speech_bci/derived_data/s_b1555_22/2022-04-18/sglx/1207_g0/wav_sync_dict.pkl\n",
      "2022-04-19 10:08:10,919 ceciestunepipe.util.spikeextractors.preprocess INFO     Getting sync signals for imec streams: []\n",
      "2022-04-19 10:08:10,919 ceciestunepipe.util.spikeextractors.preprocess INFO     getting syn patterns for nidq\n",
      "2022-04-19 10:08:10,920 ceciestunepipe.util.spikeextractors.preprocess INFO     File /mnt/sphere/speech_bci/derived_data/s_b1555_22/2022-04-18/sglx/1207_g0/nidq_sync_dict.pkl not found or forced computation, getting the events\n",
      "2022-04-19 10:08:10,921 ceciestunepipe.util.spikeextractors.extractors.spikeglxrecordingextractor.spikeglxrecordingextractor INFO     getting ttl events, chan 0\n",
      "2022-04-19 10:08:13,676 ceciestunepipe.util.spikeextractors.preprocess INFO     saving events array to /mnt/sphere/speech_bci/derived_data/s_b1555_22/2022-04-18/sglx/1207_g0/nidq_sync_evt.npy\n",
      "2022-04-19 10:08:13,693 ceciestunepipe.util.spikeextractors.preprocess INFO     saving t_0 array to /mnt/sphere/speech_bci/derived_data/s_b1555_22/2022-04-18/sglx/1207_g0/nidq_t0.npy\n",
      "2022-04-19 10:08:16,546 ceciestunepipe.util.spikeextractors.preprocess INFO     saving sync dict to /mnt/sphere/speech_bci/derived_data/s_b1555_22/2022-04-18/sglx/1207_g0/nidq_sync_dict.pkl\n",
      "2022-04-19 10:08:16,548 ceciestunepipe.util.spikeextractors.preprocess INFO     loading syn_dict from /mnt/sphere/speech_bci/derived_data/s_b1555_22/2022-04-18/sglx/1207_g0/nidq_sync_dict.pkl\n",
      "2022-04-19 10:08:16,553 ceciestunepipe.util.spikeextractors.preprocess INFO     getting syn patterns for wav\n",
      "2022-04-19 10:08:16,553 ceciestunepipe.util.spikeextractors.preprocess INFO     loading syn_dict from /mnt/sphere/speech_bci/derived_data/s_b1555_22/2022-04-18/sglx/1207_g0/wav_sync_dict.pkl\n",
      "2022-04-19 10:08:39,191 ceciestunepipe.util.spikeextractors.preprocess INFO     saved epoch preprocessing parameters to /mnt/sphere/speech_bci/derived_data/s_b1555_22/2022-04-18/sglx/1207_g0/preprocess_par.pickle\n",
      "2022-04-19 10:08:39,198 ceciestunepipe.util.spikeextractors.preprocess INFO     PREPROCESSING sess 2022-04-18 | epoch 1530_g0\n",
      "2022-04-19 10:08:39,199 ceciestunepipe.util.spikeextractors.preprocess INFO     getting extractors\n",
      "2022-04-19 10:08:39,314 ceciestunepipe.util.spikeextractors.preprocess INFO     Got sglx recordings for keys ['nidq']\n",
      "2022-04-19 10:08:39,314 ceciestunepipe.util.spikeextractors.preprocess INFO     Getting microphone channel(s) ['microphone_0']\n",
      "2022-04-19 10:08:39,316 ceciestunepipe.util.wavutil INFO     sampling rate 40000\n",
      "2022-04-19 10:08:39,316 ceciestunepipe.util.wavutil INFO     saving (1, 420239309)-shaped array as wav in /mnt/sphere/speech_bci/derived_data/s_b1555_22/2022-04-18/sglx/1530_g0/wav_mic.wav\n",
      "2022-04-19 10:08:47,871 ceciestunepipe.util.wavutil INFO     saving (1, 420239309)-shaped array as npy in /mnt/sphere/speech_bci/derived_data/s_b1555_22/2022-04-18/sglx/1530_g0/wav_mic.npy\n",
      "2022-04-19 10:08:55,984 ceciestunepipe.util.spikeextractors.preprocess INFO     Getting adc channel(s) ['pressure']\n",
      "2022-04-19 10:08:55,986 ceciestunepipe.util.wavutil INFO     sampling rate 40000\n",
      "2022-04-19 10:08:55,986 ceciestunepipe.util.wavutil INFO     saving (1, 420239309)-shaped array as wav in /mnt/sphere/speech_bci/derived_data/s_b1555_22/2022-04-18/sglx/1530_g0/wav_adc.wav\n",
      "2022-04-19 10:08:57,634 ceciestunepipe.util.wavutil INFO     saving (1, 420239309)-shaped array as npy in /mnt/sphere/speech_bci/derived_data/s_b1555_22/2022-04-18/sglx/1530_g0/wav_adc.npy\n",
      "2022-04-19 10:09:13,912 ceciestunepipe.util.spikeextractors.preprocess INFO     Getting sync channel(s) from nidaq streams: ['sync']\n",
      "2022-04-19 10:09:13,915 ceciestunepipe.util.spikeextractors.extractors.spikeglxrecordingextractor.spikeglxrecordingextractor INFO     getting ttl traces, chan [0 1 2 3 4 5 6 7]\n",
      "2022-04-19 10:09:27,722 ceciestunepipe.util.wavutil INFO     sampling rate 40000\n",
      "2022-04-19 10:09:27,724 ceciestunepipe.util.wavutil INFO     saving (1, 420239309)-shaped array as wav in /mnt/sphere/speech_bci/derived_data/s_b1555_22/2022-04-18/sglx/1530_g0/wav_sync.wav\n",
      "2022-04-19 10:09:29,088 ceciestunepipe.util.wavutil INFO     saving (1, 420239309)-shaped array as npy in /mnt/sphere/speech_bci/derived_data/s_b1555_22/2022-04-18/sglx/1530_g0/wav_sync.npy\n",
      "2022-04-19 10:09:30,423 ceciestunepipe.util.spikeextractors.preprocess INFO     Getting sync events from the wav sync channel\n",
      "2022-04-19 10:09:33,808 ceciestunepipe.util.spikeextractors.preprocess INFO     saving sync events of the wav channel to /mnt/sphere/speech_bci/derived_data/s_b1555_22/2022-04-18/sglx/1530_g0/wav_sync_evt.npy\n",
      "2022-04-19 10:09:33,858 ceciestunepipe.util.spikeextractors.preprocess INFO     saving t0 for wav channel to /mnt/sphere/speech_bci/derived_data/s_b1555_22/2022-04-18/sglx/1530_g0/wav_t0.npy\n",
      "2022-04-19 10:09:47,778 ceciestunepipe.util.spikeextractors.preprocess INFO     Will get 1 ttl signals\n",
      "2022-04-19 10:09:47,779 ceciestunepipe.util.spikeextractors.preprocess INFO     looking for signal wav_ttl in the nidaq channels\n",
      "2022-04-19 10:09:47,780 ceciestunepipe.util.spikeextractors.preprocess INFO     found in chan 2\n",
      "2022-04-19 10:09:47,781 ceciestunepipe.util.spikeextractors.extractors.spikeglxrecordingextractor.spikeglxrecordingextractor INFO     getting ttl events, chan 2\n",
      "2022-04-19 10:09:52,723 ceciestunepipe.util.spikeextractors.preprocess INFO     saving (0, 2)-shaped array as npy in /mnt/sphere/speech_bci/derived_data/s_b1555_22/2022-04-18/sglx/1530_g0/wav_ttl_evt.npy\n",
      "2022-04-19 10:09:52,738 ceciestunepipe.util.spikeextractors.preprocess INFO     saving sync nidaq dict to /mnt/sphere/speech_bci/derived_data/s_b1555_22/2022-04-18/sglx/1530_g0/wav_sync_dict.pkl\n",
      "2022-04-19 10:09:52,740 ceciestunepipe.util.spikeextractors.preprocess INFO     Getting sync signals for imec streams: []\n",
      "2022-04-19 10:09:52,741 ceciestunepipe.util.spikeextractors.preprocess INFO     getting syn patterns for nidq\n",
      "2022-04-19 10:09:52,742 ceciestunepipe.util.spikeextractors.preprocess INFO     File /mnt/sphere/speech_bci/derived_data/s_b1555_22/2022-04-18/sglx/1530_g0/nidq_sync_dict.pkl not found or forced computation, getting the events\n",
      "2022-04-19 10:09:52,743 ceciestunepipe.util.spikeextractors.extractors.spikeglxrecordingextractor.spikeglxrecordingextractor INFO     getting ttl events, chan 0\n",
      "2022-04-19 10:09:57,540 ceciestunepipe.util.spikeextractors.preprocess INFO     saving events array to /mnt/sphere/speech_bci/derived_data/s_b1555_22/2022-04-18/sglx/1530_g0/nidq_sync_evt.npy\n",
      "2022-04-19 10:09:57,544 ceciestunepipe.util.spikeextractors.preprocess INFO     saving t_0 array to /mnt/sphere/speech_bci/derived_data/s_b1555_22/2022-04-18/sglx/1530_g0/nidq_t0.npy\n",
      "2022-04-19 10:10:02,114 ceciestunepipe.util.spikeextractors.preprocess INFO     saving sync dict to /mnt/sphere/speech_bci/derived_data/s_b1555_22/2022-04-18/sglx/1530_g0/nidq_sync_dict.pkl\n",
      "2022-04-19 10:10:02,117 ceciestunepipe.util.spikeextractors.preprocess INFO     loading syn_dict from /mnt/sphere/speech_bci/derived_data/s_b1555_22/2022-04-18/sglx/1530_g0/nidq_sync_dict.pkl\n",
      "2022-04-19 10:10:02,123 ceciestunepipe.util.spikeextractors.preprocess INFO     getting syn patterns for wav\n",
      "2022-04-19 10:10:02,124 ceciestunepipe.util.spikeextractors.preprocess INFO     loading syn_dict from /mnt/sphere/speech_bci/derived_data/s_b1555_22/2022-04-18/sglx/1530_g0/wav_sync_dict.pkl\n",
      "2022-04-19 10:10:43,482 ceciestunepipe.util.spikeextractors.preprocess INFO     saved epoch preprocessing parameters to /mnt/sphere/speech_bci/derived_data/s_b1555_22/2022-04-18/sglx/1530_g0/preprocess_par.pickle\n",
      "2022-04-19 10:10:43,489 ceciestunepipe.util.spikeextractors.preprocess INFO     PREPROCESSING sess 2022-04-18 | epoch 1834_g0\n",
      "2022-04-19 10:10:43,490 ceciestunepipe.util.spikeextractors.preprocess INFO     getting extractors\n",
      "2022-04-19 10:10:43,581 ceciestunepipe.util.spikeextractors.preprocess INFO     Got sglx recordings for keys ['nidq']\n",
      "2022-04-19 10:10:43,582 ceciestunepipe.util.spikeextractors.preprocess INFO     Getting microphone channel(s) ['microphone_0']\n",
      "2022-04-19 10:10:43,583 ceciestunepipe.util.wavutil INFO     sampling rate 40000\n",
      "2022-04-19 10:10:43,583 ceciestunepipe.util.wavutil INFO     saving (1, 229851904)-shaped array as wav in /mnt/sphere/speech_bci/derived_data/s_b1555_22/2022-04-18/sglx/1834_g0/wav_mic.wav\n",
      "2022-04-19 10:10:52,100 ceciestunepipe.util.wavutil INFO     saving (1, 229851904)-shaped array as npy in /mnt/sphere/speech_bci/derived_data/s_b1555_22/2022-04-18/sglx/1834_g0/wav_mic.npy\n",
      "2022-04-19 10:10:56,563 ceciestunepipe.util.spikeextractors.preprocess INFO     Getting adc channel(s) ['pressure']\n",
      "2022-04-19 10:10:56,564 ceciestunepipe.util.wavutil INFO     sampling rate 40000\n",
      "2022-04-19 10:10:56,565 ceciestunepipe.util.wavutil INFO     saving (1, 229851904)-shaped array as wav in /mnt/sphere/speech_bci/derived_data/s_b1555_22/2022-04-18/sglx/1834_g0/wav_adc.wav\n",
      "2022-04-19 10:10:57,446 ceciestunepipe.util.wavutil INFO     saving (1, 229851904)-shaped array as npy in /mnt/sphere/speech_bci/derived_data/s_b1555_22/2022-04-18/sglx/1834_g0/wav_adc.npy\n",
      "2022-04-19 10:11:06,357 ceciestunepipe.util.spikeextractors.preprocess INFO     Getting sync channel(s) from nidaq streams: ['sync']\n",
      "2022-04-19 10:11:06,360 ceciestunepipe.util.spikeextractors.extractors.spikeglxrecordingextractor.spikeglxrecordingextractor INFO     getting ttl traces, chan [0 1 2 3 4 5 6 7]\n",
      "2022-04-19 10:11:09,917 ceciestunepipe.util.wavutil INFO     sampling rate 40000\n",
      "2022-04-19 10:11:09,918 ceciestunepipe.util.wavutil INFO     saving (1, 229851904)-shaped array as wav in /mnt/sphere/speech_bci/derived_data/s_b1555_22/2022-04-18/sglx/1834_g0/wav_sync.wav\n",
      "2022-04-19 10:11:10,607 ceciestunepipe.util.wavutil INFO     saving (1, 229851904)-shaped array as npy in /mnt/sphere/speech_bci/derived_data/s_b1555_22/2022-04-18/sglx/1834_g0/wav_sync.npy\n",
      "2022-04-19 10:11:11,264 ceciestunepipe.util.spikeextractors.preprocess INFO     Getting sync events from the wav sync channel\n",
      "2022-04-19 10:11:12,263 ceciestunepipe.util.spikeextractors.preprocess INFO     saving sync events of the wav channel to /mnt/sphere/speech_bci/derived_data/s_b1555_22/2022-04-18/sglx/1834_g0/wav_sync_evt.npy\n",
      "2022-04-19 10:11:12,266 ceciestunepipe.util.spikeextractors.preprocess INFO     saving t0 for wav channel to /mnt/sphere/speech_bci/derived_data/s_b1555_22/2022-04-18/sglx/1834_g0/wav_t0.npy\n",
      "2022-04-19 10:11:16,200 ceciestunepipe.util.spikeextractors.preprocess INFO     Will get 1 ttl signals\n",
      "2022-04-19 10:11:16,201 ceciestunepipe.util.spikeextractors.preprocess INFO     looking for signal wav_ttl in the nidaq channels\n",
      "2022-04-19 10:11:16,201 ceciestunepipe.util.spikeextractors.preprocess INFO     found in chan 2\n",
      "2022-04-19 10:11:16,202 ceciestunepipe.util.spikeextractors.extractors.spikeglxrecordingextractor.spikeglxrecordingextractor INFO     getting ttl events, chan 2\n",
      "2022-04-19 10:11:19,120 ceciestunepipe.util.spikeextractors.preprocess INFO     saving (0, 2)-shaped array as npy in /mnt/sphere/speech_bci/derived_data/s_b1555_22/2022-04-18/sglx/1834_g0/wav_ttl_evt.npy\n",
      "2022-04-19 10:11:19,149 ceciestunepipe.util.spikeextractors.preprocess INFO     saving sync nidaq dict to /mnt/sphere/speech_bci/derived_data/s_b1555_22/2022-04-18/sglx/1834_g0/wav_sync_dict.pkl\n",
      "2022-04-19 10:11:19,150 ceciestunepipe.util.spikeextractors.preprocess INFO     Getting sync signals for imec streams: []\n",
      "2022-04-19 10:11:19,151 ceciestunepipe.util.spikeextractors.preprocess INFO     getting syn patterns for nidq\n",
      "2022-04-19 10:11:19,152 ceciestunepipe.util.spikeextractors.preprocess INFO     File /mnt/sphere/speech_bci/derived_data/s_b1555_22/2022-04-18/sglx/1834_g0/nidq_sync_dict.pkl not found or forced computation, getting the events\n",
      "2022-04-19 10:11:19,153 ceciestunepipe.util.spikeextractors.extractors.spikeglxrecordingextractor.spikeglxrecordingextractor INFO     getting ttl events, chan 0\n",
      "2022-04-19 10:11:23,190 ceciestunepipe.util.spikeextractors.preprocess INFO     saving events array to /mnt/sphere/speech_bci/derived_data/s_b1555_22/2022-04-18/sglx/1834_g0/nidq_sync_evt.npy\n",
      "2022-04-19 10:11:23,193 ceciestunepipe.util.spikeextractors.preprocess INFO     saving t_0 array to /mnt/sphere/speech_bci/derived_data/s_b1555_22/2022-04-18/sglx/1834_g0/nidq_t0.npy\n",
      "2022-04-19 10:11:25,993 ceciestunepipe.util.spikeextractors.preprocess INFO     saving sync dict to /mnt/sphere/speech_bci/derived_data/s_b1555_22/2022-04-18/sglx/1834_g0/nidq_sync_dict.pkl\n",
      "2022-04-19 10:11:26,028 ceciestunepipe.util.spikeextractors.preprocess INFO     loading syn_dict from /mnt/sphere/speech_bci/derived_data/s_b1555_22/2022-04-18/sglx/1834_g0/nidq_sync_dict.pkl\n",
      "2022-04-19 10:11:26,034 ceciestunepipe.util.spikeextractors.preprocess INFO     getting syn patterns for wav\n",
      "2022-04-19 10:11:26,035 ceciestunepipe.util.spikeextractors.preprocess INFO     loading syn_dict from /mnt/sphere/speech_bci/derived_data/s_b1555_22/2022-04-18/sglx/1834_g0/wav_sync_dict.pkl\n",
      "2022-04-19 10:11:49,122 ceciestunepipe.util.spikeextractors.preprocess INFO     saved epoch preprocessing parameters to /mnt/sphere/speech_bci/derived_data/s_b1555_22/2022-04-18/sglx/1834_g0/preprocess_par.pickle\n"
     ]
    }
   ],
   "source": [
    "all_sess_dict = {}\n",
    "\n",
    "for one_sess in sess_list[-2:-1]:\n",
    "    sess_par['sess'] = one_sess\n",
    "    preprocess_session(sess_par)"
   ]
  },
  {
   "cell_type": "markdown",
   "metadata": {},
   "source": [
    "## search bouts for those sessions"
   ]
  },
  {
   "cell_type": "code",
   "execution_count": 10,
   "metadata": {},
   "outputs": [],
   "source": [
    "hparams = { # default parameters work well for starling\n",
    "    # spectrogram\n",
    "    'num_freq':1024, #1024# how many channels to use in a spectrogram #\n",
    "    'preemphasis':0.97, \n",
    "    'frame_shift_ms':5, # step size for fft\n",
    "    'frame_length_ms':10, #128 # frame length for fft FRAME SAMPLES < NUM_FREQ!!!\n",
    "    'min_level_db':-55, # minimum threshold db for computing spe \n",
    "    'ref_level_db':110, # reference db for computing spec\n",
    "    'sample_rate':None, # sample rate of your data\n",
    "    \n",
    "    # spectrograms\n",
    "    'mel_filter': False, # should a mel filter be used?\n",
    "    'num_mels':1024, # how many channels to use in the mel-spectrogram\n",
    "    'fmin': 500, # low frequency cutoff for mel filter\n",
    "    'fmax': 12000, # high frequency cutoff for mel filter\n",
    "    \n",
    "    # spectrogram inversion\n",
    "    'max_iters':200,\n",
    "    'griffin_lim_iters':20,\n",
    "    'power':1.5,\n",
    "\n",
    "    # Added for the searching\n",
    "    'read_wav_fun': bs.read_wav_chan, # function for loading the wav_like_stream (has to returns fs, ndarray)\n",
    "    'file_order_fun': bs.sess_file_id, # function for extracting the file id within the session\n",
    "    'min_segment': 30, # Minimum length of supra_threshold to consider a 'syllable' (ms)\n",
    "    'min_silence': 3000, # Minmum distance between groups of syllables to consider separate bouts (ms)\n",
    "    'min_bout': 3000, # min bout duration (ms)\n",
    "    'peak_thresh_rms': 0.55, # threshold (rms) for peak acceptance,\n",
    "    'thresh_rms': 0.25, # threshold for detection of syllables\n",
    "    'mean_syl_rms_thresh': 0.3, #threshold for acceptance of mean rms across the syllable (relative to rms of the file)\n",
    "    'max_bout': 180000, #exclude bouts too long\n",
    "    'l_p_r_thresh': 100, # threshold for n of len_ms/peaks (typycally about 2-3 syllable spans\n",
    "    \n",
    "    'waveform_edges': 1000, #get number of ms before and after the edges of the bout for the waveform sample\n",
    "    \n",
    "    'bout_auto_file': 'bout_auto.pickle', # extension for saving the auto found files\n",
    "    'bout_curated_file': 'bout_checked.pickle', #extension for manually curated files (coming soon)\n",
    "    }"
   ]
  },
  {
   "cell_type": "code",
   "execution_count": 11,
   "metadata": {},
   "outputs": [],
   "source": [
    "sess_list = ['2022-04-29', #first implant, RH, pressure + RA\n",
    "            '2022-07-16', #second implant, LH, pressure + RA, but pressure in the first epoch had a HF noise\n",
    "            '2022-10-11', '2022-10-12'] # RH NCM and pressure]"
   ]
  },
  {
   "cell_type": "code",
   "execution_count": 12,
   "metadata": {},
   "outputs": [],
   "source": [
    "#pick sessions to do the bout searching\n",
    "bout_sessions = sess_list[-1:]\n",
    "bout_sessions = ['2022-07-16']"
   ]
  },
  {
   "cell_type": "code",
   "execution_count": 13,
   "metadata": {
    "tags": []
   },
   "outputs": [
    {
     "name": "stderr",
     "output_type": "stream",
     "text": [
      "2023-02-22 13:30:34,307 ceciestunepipe.pipeline.searchbout INFO     Will search for bouts through all session s_b1555_22, 2022-07-16\n",
      "2023-02-22 13:30:34,816 ceciestunepipe.pipeline.searchbout INFO     getting wav files from/mnt/sphere/speech_bci/derived_data/s_b1555_22/2022-07-16/sglx\n",
      "2023-02-22 13:30:34,817 ceciestunepipe.pipeline.searchbout INFO     Found 2 files\n"
     ]
    },
    {
     "name": "stdout",
     "output_type": "stream",
     "text": [
      "[Parallel(n_jobs=4)]: Using backend LokyBackend with 4 concurrent workers.\n",
      "[Parallel(n_jobs=4)]: Done   1 tasks      | elapsed:  1.6min\n"
     ]
    },
    {
     "name": "stderr",
     "output_type": "stream",
     "text": [
      "2023-02-22 13:36:22,713 ceciestunepipe.pipeline.searchbout INFO     getting spectrograms\n"
     ]
    },
    {
     "name": "stdout",
     "output_type": "stream",
     "text": [
      "[Parallel(n_jobs=4)]: Done   2 out of   2 | elapsed:  5.8min remaining:    0.0s\n",
      "[Parallel(n_jobs=4)]: Done   2 out of   2 | elapsed:  5.8min finished\n"
     ]
    },
    {
     "name": "stderr",
     "output_type": "stream",
     "text": [
      "2023-02-22 13:37:17,246 ceciestunepipe.pipeline.searchbout INFO     saving bouts pandas to /mnt/sphere/speech_bci/derived_data/s_b1555_22/2022-07-16/bouts_sglx/bout_auto.pickle\n",
      "2023-02-22 13:37:23,766 ceciestunepipe.pipeline.searchbout INFO     saving bout detect parameters dict to /mnt/sphere/speech_bci/derived_data/s_b1555_22/2022-07-16/bouts_sglx/bout_search_params.pickle\n",
      "2023-02-22 13:37:23,769 ceciestunepipe.util.sound.boutsearch INFO     saving bout detect parameters dict to /mnt/sphere/speech_bci/derived_data/s_b1555_22/2022-07-16/bouts_sglx/bout_search_params.pickle\n",
      "2023-02-22 13:37:23,814 ceciestunepipe.pipeline.searchbout INFO     saving bouts pandas to /mnt/sphere/speech_bci/derived_data/s_b1555_22/2022-07-16/bouts_sglx/bout_auto.pickle\n",
      "2023-02-22 13:37:30,558 ceciestunepipe.pipeline.searchbout INFO     saving bout detect parameters dict to /mnt/sphere/speech_bci/derived_data/s_b1555_22/2022-07-16/bouts_sglx/bout_search_params.pickle\n",
      "2023-02-22 13:37:30,559 ceciestunepipe.util.sound.boutsearch INFO     saving bout detect parameters dict to /mnt/sphere/speech_bci/derived_data/s_b1555_22/2022-07-16/bouts_sglx/bout_search_params.pickle\n"
     ]
    }
   ],
   "source": [
    "#all_sessions = sess_list[-1:]\n",
    "#all_sessions = ['2021-06-15']\n",
    "for sess in bout_sessions:\n",
    "    sess_par['sess'] = sess\n",
    "    sess_bout_pd = sb.get_all_day_bouts(sess_par, hparams, n_jobs=4, ephys_software='sglx')\n",
    "    sb.save_auto_bouts(sess_bout_pd, sess_par, hparams, software='sglx')\n",
    "    #sess_bouts_folder = os.path.join(exp_struct['folders']['derived'], 'bouts')\n",
    "    #bouts_to_wavs(sess_bout_pd, sess_par, hparams, sess_bouts_folder)"
   ]
  },
  {
   "cell_type": "code",
   "execution_count": 14,
   "metadata": {
    "collapsed": true,
    "jupyter": {
     "outputs_hidden": true
    }
   },
   "outputs": [
    {
     "name": "stdout",
     "output_type": "stream",
     "text": [
      "<class 'pandas.core.frame.DataFrame'>\n",
      "RangeIndex: 883 entries, 0 to 882\n",
      "Data columns (total 20 columns):\n",
      " #   Column          Non-Null Count  Dtype  \n",
      "---  ------          --------------  -----  \n",
      " 0   start_ms        883 non-null    int64  \n",
      " 1   end_ms          883 non-null    int64  \n",
      " 2   start_sample    883 non-null    int64  \n",
      " 3   end_sample      883 non-null    int64  \n",
      " 4   p_step          883 non-null    object \n",
      " 5   rms_p           883 non-null    float64\n",
      " 6   peak_p          883 non-null    float64\n",
      " 7   bout_check      883 non-null    bool   \n",
      " 8   file            883 non-null    object \n",
      " 9   len_ms          883 non-null    int64  \n",
      " 10  syl_in          883 non-null    object \n",
      " 11  n_syl           883 non-null    int64  \n",
      " 12  peaks_p         883 non-null    object \n",
      " 13  n_peaks         883 non-null    int64  \n",
      " 14  l_p_ratio       883 non-null    float64\n",
      " 15  waveform        883 non-null    object \n",
      " 16  confusing       883 non-null    bool   \n",
      " 17  valid_waveform  883 non-null    bool   \n",
      " 18  valid           883 non-null    bool   \n",
      " 19  spectrogram     883 non-null    object \n",
      "dtypes: bool(4), float64(3), int64(7), object(6)\n",
      "memory usage: 113.9+ KB\n"
     ]
    }
   ],
   "source": [
    "sess_bout_pd.info()"
   ]
  },
  {
   "cell_type": "code",
   "execution_count": 15,
   "metadata": {},
   "outputs": [
    {
     "data": {
      "text/plain": [
       "883"
      ]
     },
     "execution_count": 15,
     "metadata": {},
     "output_type": "execute_result"
    }
   ],
   "source": [
    "np.unique(sess_bout_pd['start_ms']).size"
   ]
  },
  {
   "cell_type": "markdown",
   "metadata": {},
   "source": [
    "# debug"
   ]
  },
  {
   "cell_type": "markdown",
   "metadata": {},
   "source": [
    "## debug search_bout"
   ]
  },
  {
   "cell_type": "code",
   "execution_count": 21,
   "metadata": {},
   "outputs": [
    {
     "name": "stderr",
     "output_type": "stream",
     "text": [
      "2021-09-22 15:13:39,371 root         INFO     Found 4 files\n"
     ]
    },
    {
     "name": "stdout",
     "output_type": "stream",
     "text": [
      "['/mnt/sphere/speech_bci/derived_data/s_b1253_21/2021-06-14/sglx/0712_g0/wav_mic.wav', '/mnt/sphere/speech_bci/derived_data/s_b1253_21/2021-06-14/sglx/1255_g0/wav_mic.wav', '/mnt/sphere/speech_bci/derived_data/s_b1253_21/2021-06-14/sglx/1740_g0/wav_mic.wav', '/mnt/sphere/speech_bci/derived_data/s_b1253_21/2021-06-14/sglx/2118_g0/wav_mic.wav']\n"
     ]
    }
   ],
   "source": [
    "## look for a single file\n",
    "sess = sess_list[0]\n",
    "\n",
    "exp_struct = et.get_exp_struct(sess_par['bird'], sess, ephys_software='sglx')\n",
    "source_folder = exp_struct['folders']['derived']\n",
    "wav_path_list = et.get_sgl_files_epochs(source_folder, file_filter='*wav_mic.wav')\n",
    "wav_path_list.sort()\n",
    "logger.info('Found {} files'.format(len(wav_path_list)))\n",
    "print(wav_path_list)"
   ]
  },
  {
   "cell_type": "code",
   "execution_count": 22,
   "metadata": {},
   "outputs": [],
   "source": [
    "one_file = wav_path_list[0]"
   ]
  },
  {
   "cell_type": "code",
   "execution_count": null,
   "metadata": {},
   "outputs": [
    {
     "name": "stderr",
     "output_type": "stream",
     "text": [
      "2021-09-22 15:13:45,924 ceciestunepipe.util.sound.boutsearch INFO     Getting bouts for long file /mnt/sphere/speech_bci/derived_data/s_b1253_21/2021-06-14/sglx/0712_g0/wav_mic.wav\n"
     ]
    },
    {
     "name": "stdout",
     "output_type": "stream",
     "text": [
      "tu vieja file /mnt/sphere/speech_bci/derived_data/s_b1253_21/2021-06-14/sglx/0712_g0/wav_mic.wav\n"
     ]
    },
    {
     "name": "stderr",
     "output_type": "stream",
     "text": [
      "2021-09-22 15:13:45,962 ceciestunepipe.util.sound.boutsearch INFO     splitting file into 5 chunks\n"
     ]
    },
    {
     "data": {
      "application/vnd.jupyter.widget-view+json": {
       "model_id": "2ee46791b8cc495dae356f151c0a45d0",
       "version_major": 2,
       "version_minor": 0
      },
      "text/plain": [
       "  0%|          | 0/5 [00:00<?, ?it/s]"
      ]
     },
     "metadata": {},
     "output_type": "display_data"
    }
   ],
   "source": [
    "reload(bs)\n",
    "epoch_bout_pd, epoch_wav = bs.get_bouts_in_long_file(wav_path_list[0], hparams)"
   ]
  },
  {
   "cell_type": "code",
   "execution_count": null,
   "metadata": {},
   "outputs": [],
   "source": []
  }
 ],
 "metadata": {
  "kernelspec": {
   "display_name": "ceciestunepipe (cube)",
   "language": "python",
   "name": "unepipe-cube"
  },
  "language_info": {
   "codemirror_mode": {
    "name": "ipython",
    "version": 3
   },
   "file_extension": ".py",
   "mimetype": "text/x-python",
   "name": "python",
   "nbconvert_exporter": "python",
   "pygments_lexer": "ipython3",
   "version": "3.8.11"
  }
 },
 "nbformat": 4,
 "nbformat_minor": 4
}
