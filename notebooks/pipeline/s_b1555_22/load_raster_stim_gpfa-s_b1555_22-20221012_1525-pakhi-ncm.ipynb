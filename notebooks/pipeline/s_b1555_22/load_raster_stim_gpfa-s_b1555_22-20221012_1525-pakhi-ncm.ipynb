{
 "cells": [
  {
   "cell_type": "markdown",
   "metadata": {},
   "source": [
    "# Get sorted spikes and bouts and make rasters/gpfa\n",
    "\n",
    "For every run in the session:\n",
    " - Load the recordings\n",
    " - Get the sync events for the nidq, ap, lf sync channels -> to npy for further synching \n",
    " - Sort spikes\n",
    " - Get the bouts/mots and align them to the ap_0 time scale\n",
    " - make and view some 'bout rasters'\n",
    " \n",
    "\n",
    "Assumes that preprocessing has occured:\n",
    "- sglx_preprocess:\n",
    "    - extraction of microphone streams\n",
    "    - bout detections\n",
    "- curate_bouts-bird-plotly-ephys:\n",
    "    - manual curation of detected bouts\n",
    "- sort_raster_bout:\n",
    "    - syncrhonization of nidaq/ap time events\n",
    "    - spike sorting\n",
    "    - labeling of sorted units for their corresponding nucleus\n",
    "    - inspection of rasters\n",
    "    \n",
    "This notebook should not depend on the raw_data"
   ]
  },
  {
   "cell_type": "code",
   "execution_count": 1,
   "metadata": {},
   "outputs": [
    {
     "name": "stderr",
     "output_type": "stream",
     "text": [
      "2023-02-22 09:07:44,673 root         INFO     Running on pakhi.ucsd.edu\n"
     ]
    }
   ],
   "source": [
    "%matplotlib inline\n",
    "\n",
    "import os\n",
    "import glob\n",
    "import logging\n",
    "import pickle\n",
    "import socket\n",
    "import tempfile\n",
    "import multiprocessing\n",
    "import json\n",
    "\n",
    "import numpy as np\n",
    "import pandas as pd\n",
    "\n",
    "from scipy.io import wavfile\n",
    "from scipy import signal\n",
    "from matplotlib import pyplot as plt\n",
    "\n",
    "from importlib import reload\n",
    "from multiprocessing import Process\n",
    "\n",
    "\n",
    "logger = logging.getLogger()\n",
    "handler = logging.StreamHandler()\n",
    "formatter = logging.Formatter(\n",
    "        '%(asctime)s %(name)-12s %(levelname)-8s %(message)s')\n",
    "handler.setFormatter(formatter)\n",
    "logger.addHandler(handler)\n",
    "logger.setLevel(logging.INFO)\n",
    "\n",
    "N_JOBS_MAX = multiprocessing.cpu_count()\n",
    "\n",
    "logger.info('Running on {}'.format(socket.gethostname()))"
   ]
  },
  {
   "cell_type": "code",
   "execution_count": 3,
   "metadata": {},
   "outputs": [
    {
     "name": "stderr",
     "output_type": "stream",
     "text": [
      "2023-02-22 09:08:21,854 root         INFO     all modules loaded\n"
     ]
    }
   ],
   "source": [
    "from ceciestunepipe.file import bcistructure as et\n",
    "\n",
    "from ceciestunepipe.util import sglxutil as sglu\n",
    "from ceciestunepipe.util import sglxsync as sy\n",
    "from ceciestunepipe.util import stimutil as su\n",
    "from ceciestunepipe.util import plotutil as pu\n",
    "from ceciestunepipe.util import wavutil as wu\n",
    "from ceciestunepipe.util import fileutil as fu\n",
    "from ceciestunepipe.util.spike import kilosort as ks\n",
    "from ceciestunepipe.util.sound import spectral as sp\n",
    "from ceciestunepipe.util.spikeextractors.extractors.spikeglxrecordingextractor import readSGLX as rsgl\n",
    "from ceciestunepipe.util.spikeextractors.extractors.spikeglxrecordingextractor import spikeglxrecordingextractor as sglex\n",
    "\n",
    "from ceciestunepipe.pipeline import searchbout as sb\n",
    "\n",
    "import spikeinterface as si\n",
    "import spikeinterface.extractors as se\n",
    "import spikeinterface.toolkit as st\n",
    "import spikeinterface.sorters as ss\n",
    "import spikeinterface.comparison as sc\n",
    "import spikeinterface.widgets as sw\n",
    "logger.info('all modules loaded')"
   ]
  },
  {
   "cell_type": "markdown",
   "metadata": {},
   "source": [
    "### Session parameters"
   ]
  },
  {
   "cell_type": "code",
   "execution_count": 4,
   "metadata": {
    "tags": []
   },
   "outputs": [],
   "source": [
    "reload(et)\n",
    "\n",
    "bird = 's_b1555_22'\n",
    "all_bird_sess = et.list_sessions(bird)\n",
    "#all_bird_sess"
   ]
  },
  {
   "cell_type": "code",
   "execution_count": 5,
   "metadata": {},
   "outputs": [],
   "source": [
    "reload(et)\n",
    "\n",
    "sess_par = {'bird': bird,\n",
    "           'sess': '2022-10-12',\n",
    "           'probe': 'probe_0',\n",
    "           'sort': 'sort_0',\n",
    "           'trial_tag_chan': 0, # what whas the tag channel in the stimulus wave (this should come from meta et. al)\n",
    "            'on_signal': 1, # whether singnal on is hi or lo\n",
    "            'ref_stream': 'ap_0', #what to syncrhonize everything to\n",
    "           'stim_sess': None, # if there was a stimulus epoch, where the stimuli were coming from\n",
    "           'mic_chan': 0, # where the microphone is in the wav_mic.npy array\n",
    "           'pre_chan': 0} # where the pressure is in the wav_adc.npy array\n",
    "\n",
    "\n"
   ]
  },
  {
   "cell_type": "code",
   "execution_count": 6,
   "metadata": {},
   "outputs": [
    {
     "name": "stderr",
     "output_type": "stream",
     "text": [
      "2023-02-22 09:08:21,915 ceciestunepipe.file.bcistructure INFO     {'folders': {'bird': '/mnt/sphere/speech_bci/raw_data/s_b1555_22', 'raw': '/mnt/sphere/speech_bci/raw_data/s_b1555_22/2022-10-12', 'sglx': '/mnt/sphere/speech_bci/raw_data/s_b1555_22/2022-10-12/sglx', 'kwik': '/scratch/earneodo/s_b1555_22/sglx/kwik/2022-10-12', 'processed': '/mnt/sphere/speech_bci/processed_data/s_b1555_22/2022-10-12/sglx', 'derived': '/mnt/sphere/speech_bci/derived_data/s_b1555_22/2022-10-12/sglx', 'tmp': '/scratch/earneodo/tmp', 'msort': '/scratch/earneodo/s_b1555_22/sglx/msort/2022-10-12', 'ksort': '/scratch/earneodo/s_b1555_22/sglx/ksort/2022-10-12/sort_0', 'sort': '/mnt/sphere/speech_bci/derived_data/s_b1555_22/2022-10-12/sglx/sort_0'}, 'files': {'par': '/scratch/earneodo/s_b1555_22/sglx/ksort/2022-10-12/sort_0/params.json', 'set': '/mnt/sphere/speech_bci/raw_data/s_b1555_22/2022-10-12/sglx/settings.isf', 'rig': '/mnt/sphere/speech_bci/raw_data/s_b1555_22/2022-10-12/sglx/rig.json', 'kwd': '/scratch/earneodo/s_b1555_22/sglx/kwik/2022-10-12/stream.kwd', 'kwik': '/scratch/earneodo/s_b1555_22/sglx/kwik/2022-10-12/sort_sort_0/spikes.kwik', 'kwe': '/scratch/earneodo/s_b1555_22/sglx/kwik/2022-10-12/events.kwe', 'dat_mic': '/mnt/sphere/speech_bci/processed_data/s_b1555_22/2022-10-12/sglx/dat_mic.mat', 'dat_ap': '/mnt/sphere/speech_bci/processed_data/s_b1555_22/2022-10-12/sglx/dat_ap.mat', 'allevents': '/mnt/sphere/speech_bci/processed_data/s_b1555_22/2022-10-12/sglx/dat_all.pkl', 'wav_mic': '/mnt/sphere/speech_bci/derived_data/s_b1555_22/2022-10-12/sglx/wav_mic.wav', 'mda_raw': '/scratch/earneodo/s_b1555_22/sglx/msort/2022-10-12/raw.mda', 'bin_raw': '/scratch/earneodo/s_b1555_22/sglx/ksort/2022-10-12/sort_0/raw.bin'}}\n"
     ]
    },
    {
     "data": {
      "text/plain": [
       "['0804_g0', '1343_g0', '1525_stim_g0', '1802_g0', '1815_g0']"
      ]
     },
     "execution_count": 6,
     "metadata": {},
     "output_type": "execute_result"
    }
   ],
   "source": [
    "exp_struct = et.get_exp_struct(sess_par['bird'], sess_par['sess'], sort=sess_par['sort'])\n",
    "sess_epochs = et.list_sgl_epochs(sess_par)\n",
    "sess_epochs"
   ]
  },
  {
   "cell_type": "code",
   "execution_count": 24,
   "metadata": {},
   "outputs": [],
   "source": [
    "### pick a session, epoch\n",
    "reload(et)\n",
    "reload(sglu)\n",
    "epoch = sess_epochs[2] # g2 is the shortest\n",
    "sess_par['epoch'] = epoch\n",
    "\n",
    "exp_struct = et.sgl_struct(sess_par, epoch)\n",
    "sgl_folders, sgl_files = sglu.sgl_file_struct(exp_struct['folders']['sglx'])\n",
    "\n",
    "derived_folder = exp_struct['folders']['derived']"
   ]
  },
  {
   "cell_type": "code",
   "execution_count": 25,
   "metadata": {},
   "outputs": [
    {
     "data": {
      "text/plain": [
       "{'folders': {'bird': '/mnt/sphere/speech_bci/raw_data/s_b1555_22/1525_stim_g0',\n",
       "  'raw': '/mnt/sphere/speech_bci/raw_data/s_b1555_22/2022-10-12/1525_stim_g0',\n",
       "  'sglx': '/mnt/sphere/speech_bci/raw_data/s_b1555_22/2022-10-12/sglx/1525_stim_g0',\n",
       "  'kwik': '/scratch/earneodo/s_b1555_22/sglx/kwik/2022-10-12/1525_stim_g0',\n",
       "  'processed': '/mnt/sphere/speech_bci/processed_data/s_b1555_22/2022-10-12/sglx/1525_stim_g0',\n",
       "  'derived': '/mnt/sphere/speech_bci/derived_data/s_b1555_22/2022-10-12/sglx/1525_stim_g0',\n",
       "  'tmp': '/scratch/earneodo/tmp/1525_stim_g0',\n",
       "  'msort': '/scratch/earneodo/s_b1555_22/sglx/msort/2022-10-12/1525_stim_g0',\n",
       "  'ksort': '/scratch/earneodo/s_b1555_22/sglx/ksort/2022-10-12/1525_stim_g0/sort_0',\n",
       "  'sort': '/mnt/sphere/speech_bci/derived_data/s_b1555_22/2022-10-12/sglx/1525_stim_g0/sort_0'},\n",
       " 'files': {'par': '/scratch/earneodo/s_b1555_22/sglx/ksort/2022-10-12/1525_stim_g0/params.json',\n",
       "  'set': '/mnt/sphere/speech_bci/raw_data/s_b1555_22/2022-10-12/sglx/settings.isf',\n",
       "  'rig': '/mnt/sphere/speech_bci/raw_data/s_b1555_22/2022-10-12/sglx/rig.json',\n",
       "  'kwd': '/scratch/earneodo/s_b1555_22/sglx/kwik/2022-10-12/1525_stim_g0/stream.kwd',\n",
       "  'kwik': '/scratch/earneodo/s_b1555_22/sglx/kwik/2022-10-12/sort_/1525_stim_g0/sort_sort_0/spikes.kwik',\n",
       "  'kwe': '/scratch/earneodo/s_b1555_22/sglx/kwik/2022-10-12/1525_stim_g0/events.kwe',\n",
       "  'dat_mic': '/mnt/sphere/speech_bci/processed_data/s_b1555_22/2022-10-12/sglx/dat_mic.mat',\n",
       "  'dat_ap': '/mnt/sphere/speech_bci/processed_data/s_b1555_22/2022-10-12/sglx/dat_ap.mat',\n",
       "  'allevents': '/mnt/sphere/speech_bci/processed_data/s_b1555_22/2022-10-12/sglx/dat_all.pkl',\n",
       "  'wav_mic': '/mnt/sphere/speech_bci/derived_data/s_b1555_22/2022-10-12/sglx/1525_stim_g0/wav_mic.wav',\n",
       "  'mda_raw': '/scratch/earneodo/s_b1555_22/sglx/msort/2022-10-12/1525_stim_g0/raw.mda',\n",
       "  'bin_raw': '/scratch/earneodo/s_b1555_22/sglx/ksort/2022-10-12/1525_stim_g0/raw.bin'}}"
      ]
     },
     "execution_count": 25,
     "metadata": {},
     "output_type": "execute_result"
    }
   ],
   "source": [
    "exp_struct"
   ]
  },
  {
   "cell_type": "markdown",
   "metadata": {},
   "source": [
    "### load epoch files"
   ]
  },
  {
   "cell_type": "code",
   "execution_count": 28,
   "metadata": {},
   "outputs": [
    {
     "name": "stderr",
     "output_type": "stream",
     "text": [
      "2023-02-22 09:11:55,527 root         INFO     Loading sort files from /mnt/sphere/speech_bci/derived_data/s_b1555_22/2022-10-12/sglx/1525_stim_g0/sort_0\n",
      "2023-02-22 09:11:56,051 root         INFO     loading synced bout and dict and pandas dataframe from /mnt/sphere/speech_bci/derived_data/s_b1555_22/2022-10-12/sglx/1525_stim_g0/stim_dict_ap0.pkl, /mnt/sphere/speech_bci/derived_data/s_b1555_22/2022-10-12/sglx/1525_stim_g0/stim_pd_ap0.pkl\n"
     ]
    }
   ],
   "source": [
    "### get the spikes df, clu df, bouts and syncrhonization files\n",
    "\n",
    "## the sort\n",
    "sort_folder = os.path.join(exp_struct['folders']['derived'], sess_par['sort'])\n",
    "\n",
    "logger.info('Loading sort files from ' + sort_folder)\n",
    "\n",
    "clu_df_path = os.path.join(sort_folder, 'clu_df.pickle')\n",
    "clu_df = pd.read_pickle(clu_df_path)\n",
    "\n",
    "spk_df_path = os.path.join(sort_folder, 'spk_df.pickle')\n",
    "spk_df = pd.read_pickle(spk_df_path)\n",
    "\n",
    "\n",
    "## the bout/stim\n",
    "bout_dict_path = os.path.join(exp_struct['folders']['derived'], 'stim_dict_ap0.pkl')\n",
    "bout_df_path = os.path.join(exp_struct['folders']['derived'], 'stim_pd_ap0.pkl')\n",
    "\n",
    "logger.info('loading synced bout and dict and pandas dataframe from {}, {}'.format(bout_dict_path, bout_df_path))\n",
    "with open(bout_dict_path, 'rb') as handle:\n",
    "    bout_dict = pickle.load(handle)\n",
    "bout_df = pd.read_pickle(bout_df_path)\n",
    "\n",
    "\n",
    "#load the mic, pressure if any\n",
    "mic_path = os.path.join(exp_struct['folders']['derived'], 'wav_mic.wav')\n",
    "adc_path = os.path.join(exp_struct['folders']['derived'], 'wav_adc.wav')\n",
    "\n",
    "s_f_wav, mic_stream = wu.read_wav_chan(exp_struct['files']['wav_mic'], sess_par['mic_chan'])\n",
    "s_f_wav, pre_stream = wu.read_wav_chan(adc_path, sess_par['pre_chan'])\n",
    "\n",
    "ap_sf = bout_dict['s_f_ap_0']"
   ]
  },
  {
   "cell_type": "code",
   "execution_count": 29,
   "metadata": {},
   "outputs": [
    {
     "data": {
      "text/plain": [
       "'/mnt/sphere/speech_bci/derived_data/s_b1555_22/2022-10-12/sglx/1525_stim_g0/stim_dict_ap0.pkl'"
      ]
     },
     "execution_count": 29,
     "metadata": {},
     "output_type": "execute_result"
    }
   ],
   "source": [
    "bout_dict_path"
   ]
  },
  {
   "cell_type": "code",
   "execution_count": 30,
   "metadata": {},
   "outputs": [],
   "source": [
    "# #load the mic, pressure if any\n",
    "# mic_path = os.path.join(exp_struct['folders']['derived'], 'wav_mic.npy')\n",
    "# adc_path = os.path.join(exp_struct['folders']['derived'], 'wav_adc.npy')\n",
    "\n",
    "# mic_stream = np.memmap(adc_path)"
   ]
  },
  {
   "cell_type": "code",
   "execution_count": 31,
   "metadata": {},
   "outputs": [
    {
     "data": {
      "text/plain": [
       "Index(['start', 'end', 'tag_freq_int', 'tag_freq', 'stim_name', 'start_ms',\n",
       "       'len_ms', 'start_ms_ap_0', 'start_sample_ap_0', 'start_sample_naive',\n",
       "       'start_sample_nidq'],\n",
       "      dtype='object')"
      ]
     },
     "execution_count": 31,
     "metadata": {},
     "output_type": "execute_result"
    }
   ],
   "source": [
    "bout_df.keys()"
   ]
  },
  {
   "cell_type": "code",
   "execution_count": 32,
   "metadata": {},
   "outputs": [
    {
     "data": {
      "text/plain": [
       "dict_keys(['s_f', 's_f_nidq', 's_f_ap_0', 'start_ms', 'len_ms', 'start_sample_naive', 'start_sample_nidq', 'start_sample_wav', 'start_ms_ap_0', 'start_sample_ap_0', 'end_sample_ap_0', 'tag_freq', 'stim_name'])"
      ]
     },
     "execution_count": 32,
     "metadata": {},
     "output_type": "execute_result"
    }
   ],
   "source": [
    "bout_dict.keys()"
   ]
  },
  {
   "cell_type": "code",
   "execution_count": 33,
   "metadata": {},
   "outputs": [
    {
     "data": {
      "text/html": [
       "<div>\n",
       "<style scoped>\n",
       "    .dataframe tbody tr th:only-of-type {\n",
       "        vertical-align: middle;\n",
       "    }\n",
       "\n",
       "    .dataframe tbody tr th {\n",
       "        vertical-align: top;\n",
       "    }\n",
       "\n",
       "    .dataframe thead th {\n",
       "        text-align: right;\n",
       "    }\n",
       "</style>\n",
       "<table border=\"1\" class=\"dataframe\">\n",
       "  <thead>\n",
       "    <tr style=\"text-align: right;\">\n",
       "      <th></th>\n",
       "      <th>times</th>\n",
       "      <th>clusters</th>\n",
       "      <th>cluster_id</th>\n",
       "      <th>nucelus</th>\n",
       "      <th>main_chan</th>\n",
       "      <th>kslabel</th>\n",
       "    </tr>\n",
       "  </thead>\n",
       "  <tbody>\n",
       "    <tr>\n",
       "      <th>0</th>\n",
       "      <td>148</td>\n",
       "      <td>204</td>\n",
       "      <td>204</td>\n",
       "      <td>ncm</td>\n",
       "      <td>252</td>\n",
       "      <td>good</td>\n",
       "    </tr>\n",
       "    <tr>\n",
       "      <th>1</th>\n",
       "      <td>356</td>\n",
       "      <td>168</td>\n",
       "      <td>168</td>\n",
       "      <td>ncm</td>\n",
       "      <td>230</td>\n",
       "      <td>mua</td>\n",
       "    </tr>\n",
       "  </tbody>\n",
       "</table>\n",
       "</div>"
      ],
      "text/plain": [
       "   times  clusters  cluster_id nucelus  main_chan kslabel\n",
       "0    148       204         204     ncm        252    good\n",
       "1    356       168         168     ncm        230     mua"
      ]
     },
     "execution_count": 33,
     "metadata": {},
     "output_type": "execute_result"
    }
   ],
   "source": [
    "spk_df.head(2)"
   ]
  },
  {
   "cell_type": "code",
   "execution_count": 34,
   "metadata": {},
   "outputs": [
    {
     "data": {
      "text/html": [
       "<div>\n",
       "<style scoped>\n",
       "    .dataframe tbody tr th:only-of-type {\n",
       "        vertical-align: middle;\n",
       "    }\n",
       "\n",
       "    .dataframe tbody tr th {\n",
       "        vertical-align: top;\n",
       "    }\n",
       "\n",
       "    .dataframe thead th {\n",
       "        text-align: right;\n",
       "    }\n",
       "</style>\n",
       "<table border=\"1\" class=\"dataframe\">\n",
       "  <thead>\n",
       "    <tr style=\"text-align: right;\">\n",
       "      <th></th>\n",
       "      <th>cluster_id</th>\n",
       "      <th>KSLabel</th>\n",
       "      <th>group</th>\n",
       "      <th>MSLabel</th>\n",
       "      <th>has_template</th>\n",
       "      <th>template</th>\n",
       "      <th>max_chans</th>\n",
       "      <th>main_chan</th>\n",
       "      <th>main_7</th>\n",
       "      <th>main_wav_7</th>\n",
       "      <th>nucleus</th>\n",
       "    </tr>\n",
       "  </thead>\n",
       "  <tbody>\n",
       "    <tr>\n",
       "      <th>535</th>\n",
       "      <td>535</td>\n",
       "      <td>good</td>\n",
       "      <td>good</td>\n",
       "      <td>None</td>\n",
       "      <td>True</td>\n",
       "      <td>[[0.0, 0.0, 0.0, 0.0, 0.0, 0.0, 0.0, 0.0, 0.0,...</td>\n",
       "      <td>[74, 73, 72, 75, 76, 71, 77, 70, 81, 60, 64, 6...</td>\n",
       "      <td>74</td>\n",
       "      <td>[71, 72, 73, 74, 75, 76, 77]</td>\n",
       "      <td>[[0.0, 0.0, 0.0, 0.0, 0.0, 0.0, 0.0], [0.0, 0....</td>\n",
       "      <td>ncm</td>\n",
       "    </tr>\n",
       "    <tr>\n",
       "      <th>537</th>\n",
       "      <td>537</td>\n",
       "      <td>good</td>\n",
       "      <td>good</td>\n",
       "      <td>None</td>\n",
       "      <td>True</td>\n",
       "      <td>[[0.0, 0.0, 0.0, 0.0, 0.0, 0.0, 0.0, 0.0, 0.0,...</td>\n",
       "      <td>[80, 83, 79, 81, 84, 82, 85, 78, 87, 86, 76, 9...</td>\n",
       "      <td>80</td>\n",
       "      <td>[79, 80, 81, 82, 83, 84, 85]</td>\n",
       "      <td>[[0.0, 0.0, 0.0, 0.0, 0.0, 0.0, 0.0], [0.0, 0....</td>\n",
       "      <td>ncm</td>\n",
       "    </tr>\n",
       "  </tbody>\n",
       "</table>\n",
       "</div>"
      ],
      "text/plain": [
       "     cluster_id KSLabel group MSLabel  has_template  \\\n",
       "535         535    good  good    None          True   \n",
       "537         537    good  good    None          True   \n",
       "\n",
       "                                              template  \\\n",
       "535  [[0.0, 0.0, 0.0, 0.0, 0.0, 0.0, 0.0, 0.0, 0.0,...   \n",
       "537  [[0.0, 0.0, 0.0, 0.0, 0.0, 0.0, 0.0, 0.0, 0.0,...   \n",
       "\n",
       "                                             max_chans  main_chan  \\\n",
       "535  [74, 73, 72, 75, 76, 71, 77, 70, 81, 60, 64, 6...         74   \n",
       "537  [80, 83, 79, 81, 84, 82, 85, 78, 87, 86, 76, 9...         80   \n",
       "\n",
       "                           main_7  \\\n",
       "535  [71, 72, 73, 74, 75, 76, 77]   \n",
       "537  [79, 80, 81, 82, 83, 84, 85]   \n",
       "\n",
       "                                            main_wav_7 nucleus  \n",
       "535  [[0.0, 0.0, 0.0, 0.0, 0.0, 0.0, 0.0], [0.0, 0....     ncm  \n",
       "537  [[0.0, 0.0, 0.0, 0.0, 0.0, 0.0, 0.0], [0.0, 0....     ncm  "
      ]
     },
     "execution_count": 34,
     "metadata": {},
     "output_type": "execute_result"
    }
   ],
   "source": [
    "clu_df.head(2)"
   ]
  },
  {
   "cell_type": "code",
   "execution_count": 36,
   "metadata": {},
   "outputs": [
    {
     "data": {
      "text/plain": [
       "648"
      ]
     },
     "execution_count": 36,
     "metadata": {},
     "output_type": "execute_result"
    }
   ],
   "source": [
    "def clu_n_spike(spk_df, cluster_id):\n",
    "    spk_clu = spk_df[spk_df['cluster_id']==cluster_id]\n",
    "    \n",
    "    n_spike = spk_clu.index.size\n",
    "    return n_spike\n",
    "\n",
    "clu_n_spike(spk_df, 25)"
   ]
  },
  {
   "cell_type": "code",
   "execution_count": 37,
   "metadata": {},
   "outputs": [],
   "source": [
    "def fill_clu_meta(clu_df, spk_df):\n",
    "    # mean FR\n",
    "    clu_df['n_spike'] = clu_df['cluster_id'].apply(lambda x: clu_n_spike(spk_df, x))\n",
    "\n",
    "fill_clu_meta(clu_df, spk_df)"
   ]
  },
  {
   "cell_type": "code",
   "execution_count": 38,
   "metadata": {},
   "outputs": [
    {
     "data": {
      "text/plain": [
       "1411.0005264994497"
      ]
     },
     "execution_count": 38,
     "metadata": {},
     "output_type": "execute_result"
    }
   ],
   "source": [
    "t_rec = mic_stream.shape[0]/bout_dict['s_f']\n",
    "total_ap_samp = t_rec * bout_dict['s_f_ap_0']\n",
    "\n",
    "#total_ap_samp\n",
    "spk_fr_cutoff = 5e-6 #spikes/sec\n",
    "n_spk_cutoff = total_ap_samp * spk_fr_cutoff\n",
    "n_spk_cutoff"
   ]
  },
  {
   "cell_type": "markdown",
   "metadata": {},
   "source": [
    "#### just drop the units without spikes"
   ]
  },
  {
   "cell_type": "code",
   "execution_count": 39,
   "metadata": {},
   "outputs": [],
   "source": [
    "clu_df = clu_df[clu_df['n_spike']>n_spk_cutoff]\n",
    "clu_df.reset_index(inplace=True, drop=True)"
   ]
  },
  {
   "cell_type": "code",
   "execution_count": 40,
   "metadata": {},
   "outputs": [
    {
     "data": {
      "text/plain": [
       "344"
      ]
     },
     "execution_count": 40,
     "metadata": {},
     "output_type": "execute_result"
    }
   ],
   "source": [
    "clu_df.index.size"
   ]
  },
  {
   "cell_type": "markdown",
   "metadata": {},
   "source": [
    "### Visualize a bout together with the neural traces"
   ]
  },
  {
   "cell_type": "code",
   "execution_count": 41,
   "metadata": {},
   "outputs": [],
   "source": [
    "plt.rcParams['lines.linewidth'] = 0.1"
   ]
  },
  {
   "cell_type": "code",
   "execution_count": 42,
   "metadata": {},
   "outputs": [],
   "source": [
    "axes_pars = {'axes.labelpad': 5,\n",
    "             'axes.titlepad': 5,\n",
    "             'axes.titlesize': 'small',\n",
    "             'axes.grid': False,\n",
    "             'axes.xmargin': 0,\n",
    "             'axes.ymargin': 0}\n",
    "\n",
    "plt.rcParams.update(axes_pars)"
   ]
  },
  {
   "cell_type": "markdown",
   "metadata": {},
   "source": [
    "### collect all the bouts"
   ]
  },
  {
   "cell_type": "code",
   "execution_count": 43,
   "metadata": {},
   "outputs": [
    {
     "data": {
      "text/plain": [
       "dict_keys(['s_f', 's_f_nidq', 's_f_ap_0', 'start_ms', 'len_ms', 'start_sample_naive', 'start_sample_nidq', 'start_sample_wav', 'start_ms_ap_0', 'start_sample_ap_0', 'end_sample_ap_0', 'tag_freq', 'stim_name'])"
      ]
     },
     "execution_count": 43,
     "metadata": {},
     "output_type": "execute_result"
    }
   ],
   "source": [
    "bout_dict.keys()"
   ]
  },
  {
   "cell_type": "code",
   "execution_count": 57,
   "metadata": {},
   "outputs": [],
   "source": [
    "bout_dict['start_sample']=bout_dict['start_sample_wav']"
   ]
  },
  {
   "cell_type": "code",
   "execution_count": 62,
   "metadata": {},
   "outputs": [
    {
     "data": {
      "text/plain": [
       "Index(['start_sample', 'end_sample', 'tag_freq_int', 'tag_freq', 'stim_name',\n",
       "       'start_ms', 'len_ms', 'start_ms_ap_0', 'start_sample_ap_0',\n",
       "       'start_sample_naive', 'start_sample_nidq', 'len_sample_ap_0',\n",
       "       'end_sample_ap_0', 'spk_arr', 'start_sample', 'end_sample', 'mic_arr',\n",
       "       'pre_arr', 'sxx', 'f_xx', 't_xx', 's_xx', 'clu_id_arr'],\n",
       "      dtype='object')"
      ]
     },
     "execution_count": 62,
     "metadata": {},
     "output_type": "execute_result"
    }
   ],
   "source": [
    "bout_df.keys()"
   ]
  },
  {
   "cell_type": "code",
   "execution_count": 59,
   "metadata": {},
   "outputs": [],
   "source": [
    "def collect_bouts_df(bout_df, bout_dict, spk_df, clu_list, mic_stream, pre_stream, t_pre=-2, t_post=2):\n",
    "    # get t_pre, t_post in samples for wav, ap\n",
    "    # tet start_end samples for each\n",
    "    # collect the spikes\n",
    "    # collect the streams\n",
    "    bout_dict['t_pre'] = t_pre\n",
    "    bout_dict['t_post'] = t_post\n",
    "    \n",
    "    sf_ap = bout_dict['s_f_ap_0']\n",
    "    sf = bout_dict['s_f']\n",
    "    \n",
    "    pre_ap, post_ap = [int(x * sf_ap) for x in [t_pre, t_post]]\n",
    "    pre_wav, post_wav = [int(x * sf) for x in [t_pre, t_post]]\n",
    "    \n",
    "    bout_df['len_sample_ap_0'] = (bout_df['len_ms'] * sf_ap * 0.001).astype(int)\n",
    "    bout_df['end_sample_ap_0'] = bout_df['start_sample_ap_0'] + bout_df['len_sample_ap_0']\n",
    "\n",
    "    bout_df['spk_arr'] = bout_df.apply(lambda x: ks.get_window_spikes(spk_df, clu_list, \n",
    "                                                                      x['start_sample_ap_0'] + pre_ap, \n",
    "                                                                      x['end_sample_ap_0'] + post_ap), \n",
    "                                       axis=1)\n",
    "\n",
    "    bout_df['mic_arr'] = bout_df.apply(lambda x: mic_stream[x['start_sample']+pre_wav: x['end_sample']+post_wav], \n",
    "                                       axis=1)\n",
    "    bout_df['pre_arr'] = bout_df.apply(lambda x: pre_stream[x['start_sample']+pre_wav: x['end_sample']+post_wav], \n",
    "                                       axis=1)\n",
    "    \n",
    "    # while we are at it, compute the spectrograms (ms scale)\n",
    "    bout_df['sxx'] = bout_df['mic_arr'].apply(lambda x: sp.ms_spectrogram(x.flatten(), sf))\n",
    "    \n",
    "    # split the spectrogram to be able to work with hdf5 save/load.\n",
    "    # don't want to be saving tuples, rather arrays\n",
    "    bout_df[['f_xx', 't_xx', 's_xx']] = pd.DataFrame(bout_df['sxx'].tolist(), index=bout_df.index)\n",
    "    \n",
    "    bout_df['clu_id_arr'] = [clu_list for x in bout_df.index]\n",
    "    \n",
    "    return bout_df"
   ]
  },
  {
   "cell_type": "code",
   "execution_count": 54,
   "metadata": {},
   "outputs": [],
   "source": [
    "### one spk_arr\n",
    "# mot_idx = 0\n",
    "\n",
    "# start_ap = bout_df.loc[mot_idx, 'start_sample_ap_0']\n",
    "# end_ap = bout_df.loc[mot_idx, 'end_sample_ap_0']\n",
    "\n",
    "# spk_arr = ks.get_window_spikes(spk_df, clu_list, start_ap - 60000 , end_ap+60000)"
   ]
  },
  {
   "cell_type": "code",
   "execution_count": 60,
   "metadata": {},
   "outputs": [
    {
     "name": "stderr",
     "output_type": "stream",
     "text": [
      "/mnt/cube/earneodo/repos/ceciestunepipe/ceciestunepipe/util/spike/kilosort.py:112: FutureWarning: Boolean inputs to the `inclusive` argument are deprecated in favour of `both` or `neither`.\n",
      "  spk_t = spk_df.loc[spk_df['times'].between(onset, offset, inclusive=False)]\n"
     ]
    }
   ],
   "source": [
    "clu_list = np.unique(clu_df.loc[(clu_df['group']=='good') & (clu_df['nucleus'].isin(['ncm']) & (clu_df['n_spike']>n_spk_cutoff)), \n",
    "                                'cluster_id'])\n",
    "\n",
    "t_pre = - 3\n",
    "t_post = 3\n",
    "\n",
    "bout_df = collect_bouts_df(bout_df, bout_dict, spk_df, clu_list, mic_stream, pre_stream, \n",
    "                           t_pre=t_pre, t_post=t_post)"
   ]
  },
  {
   "cell_type": "code",
   "execution_count": 63,
   "metadata": {},
   "outputs": [],
   "source": [
    "ms_sample_ap = int(1*0.001*bout_dict['s_f_ap_0'])\n",
    "bout_df['spk_ms_arr'] = bout_df['spk_arr'].apply(lambda z: np.nan_to_num(pu.coarse(z, ms_sample_ap)))"
   ]
  },
  {
   "cell_type": "code",
   "execution_count": 64,
   "metadata": {},
   "outputs": [
    {
     "data": {
      "text/plain": [
       "161"
      ]
     },
     "execution_count": 64,
     "metadata": {},
     "output_type": "execute_result"
    }
   ],
   "source": [
    "bout_df.index.size"
   ]
  },
  {
   "cell_type": "markdown",
   "metadata": {},
   "source": [
    "##### sanity check, plot one of the bout-rasters"
   ]
  },
  {
   "cell_type": "code",
   "execution_count": 65,
   "metadata": {
    "tags": []
   },
   "outputs": [
    {
     "data": {
      "image/png": "[encoded data removed]",
      "text/plain": [
       "<Figure size 720x1584 with 3 Axes>"
      ]
     },
     "metadata": {
      "needs_background": "light"
     },
     "output_type": "display_data"
    }
   ],
   "source": [
    "def plot_bout(bout_series, bout_dict):\n",
    "    # get the raster, the spectrogram and the pressure\n",
    "    \n",
    "    t_pre = bout_dict['t_pre']\n",
    "    s_f_ap = bout_dict['s_f_ap_0']\n",
    "    s_f = bout_dict['s_f']\n",
    "    \n",
    "    mic_arr = bout_series['mic_arr']\n",
    "    pre_arr = bout_series['pre_arr']\n",
    "    spk_arr = bout_series['spk_ms_arr']\n",
    "    # plot\n",
    "    \n",
    "    fig, ax = plt.subplots(nrows=3, gridspec_kw={'height_ratios': [1, 1, 10]}, figsize=(10, 22))\n",
    "\n",
    "    f, t, sxx = sp.ms_spectrogram(mic_arr.flatten(), s_f)\n",
    "\n",
    "    #ax[0].plot(mic_arr.flatten())\n",
    "    ax[0].pcolormesh(t, f, np.log(sxx), cmap='inferno')\n",
    "    ax[1].plot(pre_arr.flatten());\n",
    "    pu.plot_as_raster(spk_arr, t_0=int(-t_pre*1000), ax=ax[2])\n",
    "    \n",
    "plot_bout(bout_df.iloc[20], bout_dict)"
   ]
  },
  {
   "cell_type": "markdown",
   "metadata": {},
   "source": [
    "### get all the gpfa"
   ]
  },
  {
   "cell_type": "code",
   "execution_count": 66,
   "metadata": {},
   "outputs": [],
   "source": [
    "import neo\n",
    "import quantities as pq\n",
    "from elephant.gpfa import GPFA\n",
    "import viziphant as vp"
   ]
  },
  {
   "cell_type": "markdown",
   "metadata": {},
   "source": [
    "Elephant wants nested lists of SpikeTrain objects.\n",
    "[n_trials, n_spiketrains, n_spikes] (each spike is a time where a spike occurred)\n",
    "\n",
    "The strategy is to do all the spiketrains, do the fit, then project each array and store that in the pandas dataframe bout_df"
   ]
  },
  {
   "cell_type": "code",
   "execution_count": 67,
   "metadata": {},
   "outputs": [],
   "source": [
    "def spike_trains_from_spk_arr(spk_arr, s_f=30000, t_pre=0, t_post=0, t_stop=None):\n",
    "    # get the time of the spikes\n",
    "    # make a neo SpikeTrain for each cluster\n",
    "    \n",
    "    # if a fixed time, then a fixed time, if not make it from the trial length\n",
    "    # trim the relevant segments of the array (sample is axis=1)\n",
    "    pre_ap, post_ap = [int(x * s_f) for x in [t_pre, t_post]]\n",
    "    \n",
    "    if t_stop is None:\n",
    "        x_arr = spk_arr[:, -pre_ap:-post_ap] if post_ap>0 else spk_arr[:, -pre_ap:]\n",
    "        t_start = -t_pre\n",
    "        t_stop = t_start + x_arr.shape[1]/s_f\n",
    "    else:\n",
    "        stop_ap = int(t_stop * s_f)\n",
    "        x_arr = spk_arr[:, -pre_ap: stop_ap]\n",
    "        t_start = -t_pre\n",
    "        \n",
    "        \n",
    "    spk_train_list = [neo.SpikeTrain(times=np.where(x==1)[0]/s_f + t_start, \n",
    "                                     units='sec', \n",
    "                                     t_start=t_start, \n",
    "                                     t_stop=t_stop) for x in x_arr]\n",
    "    \n",
    "    return spk_train_list\n",
    "\n",
    "def spike_trains_from_spk_arr(spk_arr, s_f=30000):\n",
    "    # get the time of the spikes\n",
    "    # make a neo SpikeTrain for each cluster\n",
    "    t_stop = spk_arr.shape[1]/s_f\n",
    "    spk_train_list = [neo.SpikeTrain(times=np.where(x==1)[0]/s_f, units='sec', t_stop=t_stop) for x in spk_arr]\n",
    "    \n",
    "    return spk_train_list"
   ]
  },
  {
   "cell_type": "markdown",
   "metadata": {},
   "source": [
    "#### Make one "
   ]
  },
  {
   "cell_type": "code",
   "execution_count": 68,
   "metadata": {},
   "outputs": [],
   "source": [
    "#complete bouts\n",
    "bout_df['spk_train'] = bout_df['spk_arr'].apply(lambda x: spike_trains_from_spk_arr(x, bout_dict['s_f_ap_0']))"
   ]
  },
  {
   "cell_type": "code",
   "execution_count": 69,
   "metadata": {},
   "outputs": [],
   "source": [
    "# specify fitting parameters\n",
    "gpfa_bin_ms = 15\n",
    "bin_size = gpfa_bin_ms * pq.ms\n",
    "latent_dimensionality = 8\n",
    "\n",
    "bout_dict['gpfa_bin_ms'] = gpfa_bin_ms\n",
    "bout_dict['gpfa_xdim'] = latent_dimensionality"
   ]
  },
  {
   "cell_type": "markdown",
   "metadata": {},
   "source": [
    "#### fit the vocal part, project all to this fit"
   ]
  },
  {
   "cell_type": "code",
   "execution_count": null,
   "metadata": {
    "tags": []
   },
   "outputs": [
    {
     "name": "stderr",
     "output_type": "stream",
     "text": [
      "/mnt/cube/earneodo/envs/pakhi/ceciestunepipe/lib/python3.8/site-packages/elephant/conversion.py:1168: UserWarning: Binning discarded 1 last spike(s) of the input spiketrain\n",
      "  warnings.warn(\"Binning discarded {} last spike(s) of the \"\n",
      "/mnt/cube/earneodo/envs/pakhi/ceciestunepipe/lib/python3.8/site-packages/elephant/conversion.py:1168: UserWarning: Binning discarded 7 last spike(s) of the input spiketrain\n",
      "  warnings.warn(\"Binning discarded {} last spike(s) of the \"\n",
      "/mnt/cube/earneodo/envs/pakhi/ceciestunepipe/lib/python3.8/site-packages/elephant/conversion.py:1168: UserWarning: Binning discarded 3 last spike(s) of the input spiketrain\n",
      "  warnings.warn(\"Binning discarded {} last spike(s) of the \"\n",
      "/mnt/cube/earneodo/envs/pakhi/ceciestunepipe/lib/python3.8/site-packages/elephant/conversion.py:1168: UserWarning: Binning discarded 2 last spike(s) of the input spiketrain\n",
      "  warnings.warn(\"Binning discarded {} last spike(s) of the \"\n",
      "/mnt/cube/earneodo/envs/pakhi/ceciestunepipe/lib/python3.8/site-packages/elephant/conversion.py:1168: UserWarning: Binning discarded 4 last spike(s) of the input spiketrain\n",
      "  warnings.warn(\"Binning discarded {} last spike(s) of the \"\n",
      "/mnt/cube/earneodo/envs/pakhi/ceciestunepipe/lib/python3.8/site-packages/elephant/conversion.py:1168: UserWarning: Binning discarded 8 last spike(s) of the input spiketrain\n",
      "  warnings.warn(\"Binning discarded {} last spike(s) of the \"\n",
      "/mnt/cube/earneodo/envs/pakhi/ceciestunepipe/lib/python3.8/site-packages/elephant/conversion.py:1168: UserWarning: Binning discarded 6 last spike(s) of the input spiketrain\n",
      "  warnings.warn(\"Binning discarded {} last spike(s) of the \"\n",
      "/mnt/cube/earneodo/envs/pakhi/ceciestunepipe/lib/python3.8/site-packages/elephant/conversion.py:1168: UserWarning: Binning discarded 5 last spike(s) of the input spiketrain\n",
      "  warnings.warn(\"Binning discarded {} last spike(s) of the \"\n",
      "/mnt/cube/earneodo/envs/pakhi/ceciestunepipe/lib/python3.8/site-packages/elephant/conversion.py:1168: UserWarning: Binning discarded 13 last spike(s) of the input spiketrain\n",
      "  warnings.warn(\"Binning discarded {} last spike(s) of the \"\n",
      "/mnt/cube/earneodo/envs/pakhi/ceciestunepipe/lib/python3.8/site-packages/elephant/conversion.py:1168: UserWarning: Binning discarded 10 last spike(s) of the input spiketrain\n",
      "  warnings.warn(\"Binning discarded {} last spike(s) of the \"\n"
     ]
    },
    {
     "name": "stdout",
     "output_type": "stream",
     "text": [
      "Initializing parameters using factor analysis...\n",
      "\n",
      "Fitting GPFA model...\n"
     ]
    },
    {
     "name": "stderr",
     "output_type": "stream",
     "text": [
      "/mnt/cube/earneodo/envs/pakhi/ceciestunepipe/lib/python3.8/site-packages/elephant/conversion.py:1168: UserWarning: Binning discarded 1 last spike(s) of the input spiketrain\n",
      "  warnings.warn(\"Binning discarded {} last spike(s) of the \"\n",
      "/mnt/cube/earneodo/envs/pakhi/ceciestunepipe/lib/python3.8/site-packages/elephant/conversion.py:1168: UserWarning: Binning discarded 7 last spike(s) of the input spiketrain\n",
      "  warnings.warn(\"Binning discarded {} last spike(s) of the \"\n",
      "/mnt/cube/earneodo/envs/pakhi/ceciestunepipe/lib/python3.8/site-packages/elephant/conversion.py:1168: UserWarning: Binning discarded 3 last spike(s) of the input spiketrain\n",
      "  warnings.warn(\"Binning discarded {} last spike(s) of the \"\n",
      "/mnt/cube/earneodo/envs/pakhi/ceciestunepipe/lib/python3.8/site-packages/elephant/conversion.py:1168: UserWarning: Binning discarded 2 last spike(s) of the input spiketrain\n",
      "  warnings.warn(\"Binning discarded {} last spike(s) of the \"\n",
      "/mnt/cube/earneodo/envs/pakhi/ceciestunepipe/lib/python3.8/site-packages/elephant/conversion.py:1168: UserWarning: Binning discarded 4 last spike(s) of the input spiketrain\n",
      "  warnings.warn(\"Binning discarded {} last spike(s) of the \"\n",
      "/mnt/cube/earneodo/envs/pakhi/ceciestunepipe/lib/python3.8/site-packages/elephant/conversion.py:1168: UserWarning: Binning discarded 8 last spike(s) of the input spiketrain\n",
      "  warnings.warn(\"Binning discarded {} last spike(s) of the \"\n",
      "/mnt/cube/earneodo/envs/pakhi/ceciestunepipe/lib/python3.8/site-packages/elephant/conversion.py:1168: UserWarning: Binning discarded 6 last spike(s) of the input spiketrain\n",
      "  warnings.warn(\"Binning discarded {} last spike(s) of the \"\n",
      "/mnt/cube/earneodo/envs/pakhi/ceciestunepipe/lib/python3.8/site-packages/elephant/conversion.py:1168: UserWarning: Binning discarded 5 last spike(s) of the input spiketrain\n",
      "  warnings.warn(\"Binning discarded {} last spike(s) of the \"\n",
      "/mnt/cube/earneodo/envs/pakhi/ceciestunepipe/lib/python3.8/site-packages/elephant/conversion.py:1168: UserWarning: Binning discarded 13 last spike(s) of the input spiketrain\n",
      "  warnings.warn(\"Binning discarded {} last spike(s) of the \"\n",
      "/mnt/cube/earneodo/envs/pakhi/ceciestunepipe/lib/python3.8/site-packages/elephant/conversion.py:1168: UserWarning: Binning discarded 10 last spike(s) of the input spiketrain\n",
      "  warnings.warn(\"Binning discarded {} last spike(s) of the \"\n"
     ]
    }
   ],
   "source": [
    "gpfa_2dim = GPFA(bin_size=bin_size, x_dim=latent_dimensionality)\n",
    "\n",
    "#fit/project\n",
    "bout_fit_list = gpfa_2dim.fit_transform(list(bout_df['spk_train']))\n",
    "\n",
    "# get to the dataframe\n",
    "bout_df['spk_gpf'] = bout_fit_list"
   ]
  },
  {
   "cell_type": "markdown",
   "metadata": {},
   "source": [
    "#### fit preparatory part, project all to this fit"
   ]
  },
  {
   "cell_type": "code",
   "execution_count": 91,
   "metadata": {
    "collapsed": true,
    "jupyter": {
     "outputs_hidden": true
    },
    "tags": []
   },
   "outputs": [
    {
     "name": "stderr",
     "output_type": "stream",
     "text": [
      "/mnt/cube/earneodo/envs/pakhi/ceciestunepipe/lib/python3.8/site-packages/elephant/conversion.py:1168: UserWarning: Binning discarded 19 last spike(s) of the input spiketrain\n",
      "  warnings.warn(\"Binning discarded {} last spike(s) of the \"\n",
      "/mnt/cube/earneodo/envs/pakhi/ceciestunepipe/lib/python3.8/site-packages/elephant/conversion.py:1168: UserWarning: Binning discarded 6 last spike(s) of the input spiketrain\n",
      "  warnings.warn(\"Binning discarded {} last spike(s) of the \"\n",
      "/mnt/cube/earneodo/envs/pakhi/ceciestunepipe/lib/python3.8/site-packages/elephant/conversion.py:1168: UserWarning: Binning discarded 8 last spike(s) of the input spiketrain\n",
      "  warnings.warn(\"Binning discarded {} last spike(s) of the \"\n",
      "/mnt/cube/earneodo/envs/pakhi/ceciestunepipe/lib/python3.8/site-packages/elephant/conversion.py:1168: UserWarning: Binning discarded 10 last spike(s) of the input spiketrain\n",
      "  warnings.warn(\"Binning discarded {} last spike(s) of the \"\n",
      "/mnt/cube/earneodo/envs/pakhi/ceciestunepipe/lib/python3.8/site-packages/elephant/conversion.py:1168: UserWarning: Binning discarded 13 last spike(s) of the input spiketrain\n",
      "  warnings.warn(\"Binning discarded {} last spike(s) of the \"\n",
      "/mnt/cube/earneodo/envs/pakhi/ceciestunepipe/lib/python3.8/site-packages/elephant/conversion.py:1168: UserWarning: Binning discarded 11 last spike(s) of the input spiketrain\n",
      "  warnings.warn(\"Binning discarded {} last spike(s) of the \"\n",
      "/mnt/cube/earneodo/envs/pakhi/ceciestunepipe/lib/python3.8/site-packages/elephant/conversion.py:1168: UserWarning: Binning discarded 12 last spike(s) of the input spiketrain\n",
      "  warnings.warn(\"Binning discarded {} last spike(s) of the \"\n",
      "/mnt/cube/earneodo/envs/pakhi/ceciestunepipe/lib/python3.8/site-packages/elephant/conversion.py:1168: UserWarning: Binning discarded 20 last spike(s) of the input spiketrain\n",
      "  warnings.warn(\"Binning discarded {} last spike(s) of the \"\n",
      "/mnt/cube/earneodo/envs/pakhi/ceciestunepipe/lib/python3.8/site-packages/elephant/conversion.py:1168: UserWarning: Binning discarded 5 last spike(s) of the input spiketrain\n",
      "  warnings.warn(\"Binning discarded {} last spike(s) of the \"\n",
      "/mnt/cube/earneodo/envs/pakhi/ceciestunepipe/lib/python3.8/site-packages/elephant/conversion.py:1168: UserWarning: Binning discarded 9 last spike(s) of the input spiketrain\n",
      "  warnings.warn(\"Binning discarded {} last spike(s) of the \"\n",
      "/mnt/cube/earneodo/envs/pakhi/ceciestunepipe/lib/python3.8/site-packages/elephant/conversion.py:1168: UserWarning: Binning discarded 15 last spike(s) of the input spiketrain\n",
      "  warnings.warn(\"Binning discarded {} last spike(s) of the \"\n",
      "/mnt/cube/earneodo/envs/pakhi/ceciestunepipe/lib/python3.8/site-packages/elephant/conversion.py:1168: UserWarning: Binning discarded 21 last spike(s) of the input spiketrain\n",
      "  warnings.warn(\"Binning discarded {} last spike(s) of the \"\n",
      "/mnt/cube/earneodo/envs/pakhi/ceciestunepipe/lib/python3.8/site-packages/elephant/conversion.py:1168: UserWarning: Binning discarded 17 last spike(s) of the input spiketrain\n",
      "  warnings.warn(\"Binning discarded {} last spike(s) of the \"\n",
      "/mnt/cube/earneodo/envs/pakhi/ceciestunepipe/lib/python3.8/site-packages/elephant/conversion.py:1168: UserWarning: Binning discarded 16 last spike(s) of the input spiketrain\n",
      "  warnings.warn(\"Binning discarded {} last spike(s) of the \"\n",
      "/mnt/cube/earneodo/envs/pakhi/ceciestunepipe/lib/python3.8/site-packages/elephant/conversion.py:1168: UserWarning: Binning discarded 7 last spike(s) of the input spiketrain\n",
      "  warnings.warn(\"Binning discarded {} last spike(s) of the \"\n",
      "/mnt/cube/earneodo/envs/pakhi/ceciestunepipe/lib/python3.8/site-packages/elephant/conversion.py:1168: UserWarning: Binning discarded 18 last spike(s) of the input spiketrain\n",
      "  warnings.warn(\"Binning discarded {} last spike(s) of the \"\n",
      "/mnt/cube/earneodo/envs/pakhi/ceciestunepipe/lib/python3.8/site-packages/elephant/conversion.py:1168: UserWarning: Binning discarded 14 last spike(s) of the input spiketrain\n",
      "  warnings.warn(\"Binning discarded {} last spike(s) of the \"\n",
      "/mnt/cube/earneodo/envs/pakhi/ceciestunepipe/lib/python3.8/site-packages/elephant/conversion.py:1168: UserWarning: Binning discarded 22 last spike(s) of the input spiketrain\n",
      "  warnings.warn(\"Binning discarded {} last spike(s) of the \"\n"
     ]
    },
    {
     "name": "stdout",
     "output_type": "stream",
     "text": [
      "Initializing parameters using factor analysis...\n",
      "\n",
      "Fitting GPFA model...\n"
     ]
    },
    {
     "name": "stderr",
     "output_type": "stream",
     "text": [
      "/mnt/cube/earneodo/envs/pakhi/ceciestunepipe/lib/python3.8/site-packages/elephant/conversion.py:1168: UserWarning: Binning discarded 21 last spike(s) of the input spiketrain\n",
      "  warnings.warn(\"Binning discarded {} last spike(s) of the \"\n",
      "/mnt/cube/earneodo/envs/pakhi/ceciestunepipe/lib/python3.8/site-packages/elephant/conversion.py:1168: UserWarning: Binning discarded 2 last spike(s) of the input spiketrain\n",
      "  warnings.warn(\"Binning discarded {} last spike(s) of the \"\n",
      "/mnt/cube/earneodo/envs/pakhi/ceciestunepipe/lib/python3.8/site-packages/elephant/conversion.py:1168: UserWarning: Binning discarded 30 last spike(s) of the input spiketrain\n",
      "  warnings.warn(\"Binning discarded {} last spike(s) of the \"\n",
      "/mnt/cube/earneodo/envs/pakhi/ceciestunepipe/lib/python3.8/site-packages/elephant/conversion.py:1168: UserWarning: Binning discarded 7 last spike(s) of the input spiketrain\n",
      "  warnings.warn(\"Binning discarded {} last spike(s) of the \"\n",
      "/mnt/cube/earneodo/envs/pakhi/ceciestunepipe/lib/python3.8/site-packages/elephant/conversion.py:1168: UserWarning: Binning discarded 15 last spike(s) of the input spiketrain\n",
      "  warnings.warn(\"Binning discarded {} last spike(s) of the \"\n",
      "/mnt/cube/earneodo/envs/pakhi/ceciestunepipe/lib/python3.8/site-packages/elephant/conversion.py:1168: UserWarning: Binning discarded 12 last spike(s) of the input spiketrain\n",
      "  warnings.warn(\"Binning discarded {} last spike(s) of the \"\n",
      "/mnt/cube/earneodo/envs/pakhi/ceciestunepipe/lib/python3.8/site-packages/elephant/conversion.py:1168: UserWarning: Binning discarded 13 last spike(s) of the input spiketrain\n",
      "  warnings.warn(\"Binning discarded {} last spike(s) of the \"\n",
      "/mnt/cube/earneodo/envs/pakhi/ceciestunepipe/lib/python3.8/site-packages/elephant/conversion.py:1168: UserWarning: Binning discarded 24 last spike(s) of the input spiketrain\n",
      "  warnings.warn(\"Binning discarded {} last spike(s) of the \"\n",
      "/mnt/cube/earneodo/envs/pakhi/ceciestunepipe/lib/python3.8/site-packages/elephant/conversion.py:1168: UserWarning: Binning discarded 19 last spike(s) of the input spiketrain\n",
      "  warnings.warn(\"Binning discarded {} last spike(s) of the \"\n",
      "/mnt/cube/earneodo/envs/pakhi/ceciestunepipe/lib/python3.8/site-packages/elephant/conversion.py:1168: UserWarning: Binning discarded 26 last spike(s) of the input spiketrain\n",
      "  warnings.warn(\"Binning discarded {} last spike(s) of the \"\n",
      "/mnt/cube/earneodo/envs/pakhi/ceciestunepipe/lib/python3.8/site-packages/elephant/conversion.py:1168: UserWarning: Binning discarded 4 last spike(s) of the input spiketrain\n",
      "  warnings.warn(\"Binning discarded {} last spike(s) of the \"\n",
      "/mnt/cube/earneodo/envs/pakhi/ceciestunepipe/lib/python3.8/site-packages/elephant/conversion.py:1168: UserWarning: Binning discarded 16 last spike(s) of the input spiketrain\n",
      "  warnings.warn(\"Binning discarded {} last spike(s) of the \"\n",
      "/mnt/cube/earneodo/envs/pakhi/ceciestunepipe/lib/python3.8/site-packages/elephant/conversion.py:1168: UserWarning: Binning discarded 18 last spike(s) of the input spiketrain\n",
      "  warnings.warn(\"Binning discarded {} last spike(s) of the \"\n",
      "/mnt/cube/earneodo/envs/pakhi/ceciestunepipe/lib/python3.8/site-packages/elephant/conversion.py:1168: UserWarning: Binning discarded 9 last spike(s) of the input spiketrain\n",
      "  warnings.warn(\"Binning discarded {} last spike(s) of the \"\n",
      "/mnt/cube/earneodo/envs/pakhi/ceciestunepipe/lib/python3.8/site-packages/elephant/conversion.py:1168: UserWarning: Binning discarded 29 last spike(s) of the input spiketrain\n",
      "  warnings.warn(\"Binning discarded {} last spike(s) of the \"\n",
      "/mnt/cube/earneodo/envs/pakhi/ceciestunepipe/lib/python3.8/site-packages/elephant/conversion.py:1168: UserWarning: Binning discarded 11 last spike(s) of the input spiketrain\n",
      "  warnings.warn(\"Binning discarded {} last spike(s) of the \"\n",
      "/mnt/cube/earneodo/envs/pakhi/ceciestunepipe/lib/python3.8/site-packages/elephant/conversion.py:1168: UserWarning: Binning discarded 10 last spike(s) of the input spiketrain\n",
      "  warnings.warn(\"Binning discarded {} last spike(s) of the \"\n",
      "/mnt/cube/earneodo/envs/pakhi/ceciestunepipe/lib/python3.8/site-packages/elephant/conversion.py:1168: UserWarning: Binning discarded 6 last spike(s) of the input spiketrain\n",
      "  warnings.warn(\"Binning discarded {} last spike(s) of the \"\n",
      "/mnt/cube/earneodo/envs/pakhi/ceciestunepipe/lib/python3.8/site-packages/elephant/conversion.py:1168: UserWarning: Binning discarded 25 last spike(s) of the input spiketrain\n",
      "  warnings.warn(\"Binning discarded {} last spike(s) of the \"\n",
      "/mnt/cube/earneodo/envs/pakhi/ceciestunepipe/lib/python3.8/site-packages/elephant/conversion.py:1168: UserWarning: Binning discarded 17 last spike(s) of the input spiketrain\n",
      "  warnings.warn(\"Binning discarded {} last spike(s) of the \"\n",
      "/mnt/cube/earneodo/envs/pakhi/ceciestunepipe/lib/python3.8/site-packages/elephant/conversion.py:1168: UserWarning: Binning discarded 23 last spike(s) of the input spiketrain\n",
      "  warnings.warn(\"Binning discarded {} last spike(s) of the \"\n",
      "/mnt/cube/earneodo/envs/pakhi/ceciestunepipe/lib/python3.8/site-packages/elephant/conversion.py:1168: UserWarning: Binning discarded 5 last spike(s) of the input spiketrain\n",
      "  warnings.warn(\"Binning discarded {} last spike(s) of the \"\n",
      "/mnt/cube/earneodo/envs/pakhi/ceciestunepipe/lib/python3.8/site-packages/elephant/conversion.py:1168: UserWarning: Binning discarded 27 last spike(s) of the input spiketrain\n",
      "  warnings.warn(\"Binning discarded {} last spike(s) of the \"\n",
      "/mnt/cube/earneodo/envs/pakhi/ceciestunepipe/lib/python3.8/site-packages/elephant/conversion.py:1168: UserWarning: Binning discarded 34 last spike(s) of the input spiketrain\n",
      "  warnings.warn(\"Binning discarded {} last spike(s) of the \"\n",
      "/mnt/cube/earneodo/envs/pakhi/ceciestunepipe/lib/python3.8/site-packages/elephant/conversion.py:1168: UserWarning: Binning discarded 3 last spike(s) of the input spiketrain\n",
      "  warnings.warn(\"Binning discarded {} last spike(s) of the \"\n",
      "/mnt/cube/earneodo/envs/pakhi/ceciestunepipe/lib/python3.8/site-packages/elephant/conversion.py:1168: UserWarning: Binning discarded 1 last spike(s) of the input spiketrain\n",
      "  warnings.warn(\"Binning discarded {} last spike(s) of the \"\n",
      "/mnt/cube/earneodo/envs/pakhi/ceciestunepipe/lib/python3.8/site-packages/elephant/conversion.py:1168: UserWarning: Binning discarded 14 last spike(s) of the input spiketrain\n",
      "  warnings.warn(\"Binning discarded {} last spike(s) of the \"\n",
      "/mnt/cube/earneodo/envs/pakhi/ceciestunepipe/lib/python3.8/site-packages/elephant/conversion.py:1168: UserWarning: Binning discarded 22 last spike(s) of the input spiketrain\n",
      "  warnings.warn(\"Binning discarded {} last spike(s) of the \"\n",
      "/mnt/cube/earneodo/envs/pakhi/ceciestunepipe/lib/python3.8/site-packages/elephant/conversion.py:1168: UserWarning: Binning discarded 37 last spike(s) of the input spiketrain\n",
      "  warnings.warn(\"Binning discarded {} last spike(s) of the \"\n",
      "/mnt/cube/earneodo/envs/pakhi/ceciestunepipe/lib/python3.8/site-packages/elephant/conversion.py:1168: UserWarning: Binning discarded 35 last spike(s) of the input spiketrain\n",
      "  warnings.warn(\"Binning discarded {} last spike(s) of the \"\n",
      "/mnt/cube/earneodo/envs/pakhi/ceciestunepipe/lib/python3.8/site-packages/elephant/conversion.py:1168: UserWarning: Binning discarded 38 last spike(s) of the input spiketrain\n",
      "  warnings.warn(\"Binning discarded {} last spike(s) of the \"\n",
      "/mnt/cube/earneodo/envs/pakhi/ceciestunepipe/lib/python3.8/site-packages/elephant/conversion.py:1168: UserWarning: Binning discarded 20 last spike(s) of the input spiketrain\n",
      "  warnings.warn(\"Binning discarded {} last spike(s) of the \"\n",
      "/mnt/cube/earneodo/envs/pakhi/ceciestunepipe/lib/python3.8/site-packages/elephant/conversion.py:1168: UserWarning: Binning discarded 8 last spike(s) of the input spiketrain\n",
      "  warnings.warn(\"Binning discarded {} last spike(s) of the \"\n"
     ]
    }
   ],
   "source": [
    "# gpfa_prep = GPFA(bin_size=bin_size, x_dim=latent_dimensionality)\n",
    "\n",
    "# #fit\n",
    "# gpfa_prep.fit(prep_spk_train_list)\n",
    "\n",
    "# #project\n",
    "# prep_fit_list = gpfa_prep.transform(all_spk_train_list)\n",
    "\n",
    "# # get to the dataframe\n",
    "# bout_df['spk_gpf-prep'] = prep_fit_list"
   ]
  },
  {
   "cell_type": "markdown",
   "metadata": {},
   "source": [
    "### alternative gpfas"
   ]
  },
  {
   "cell_type": "code",
   "execution_count": 51,
   "metadata": {},
   "outputs": [],
   "source": [
    "from ceciestunepipe.util.dimension import gpfa"
   ]
  },
  {
   "cell_type": "markdown",
   "metadata": {},
   "source": [
    "# make 4 different fits\n",
    "- one full\n",
    "- one to the prepparatory activity\n",
    "- on to just the bout\n",
    "- one to the post-bout\n"
   ]
  },
  {
   "cell_type": "code",
   "execution_count": 52,
   "metadata": {},
   "outputs": [],
   "source": [
    "spk_train_kwargs_dict = {}\n",
    "\n",
    "#full\n",
    "spk_train_kwargs_dict['full'] = {'s_f': bout_dict['s_f_ap_0']}\n",
    "\n",
    "#pre\n",
    "# spk_train_kwargs_dict['pre'] = {'s_f': bout_dict['s_f_ap_0'], 't_pre': 0, 't_stop': -t_pre}\n",
    "\n",
    "#bout\n",
    "# spk_train_kwargs_dict['bout'] = {'s_f': bout_dict['s_f_ap_0'], 't_pre': t_pre, 't_post': t_post}\n",
    "\n",
    "#post\n",
    "# fuck you\n",
    "#spk_train_kwargs['bout'] = {'s_f': bout_dict['s_f_ap_0'], t_pre=t_pre, t_post=t_post}"
   ]
  },
  {
   "cell_type": "code",
   "execution_count": null,
   "metadata": {
    "collapsed": true,
    "jupyter": {
     "outputs_hidden": true
    },
    "tags": []
   },
   "outputs": [
    {
     "name": "stderr",
     "output_type": "stream",
     "text": [
      "2023-01-22 14:51:37,914 root         INFO     Fitting for full\n",
      "2023-01-22 14:51:37,915 ceciestunepipe.util.dimension.gpfa WARNING  Will use sampling frequency of ap_0 channel for spike trains\n",
      "2023-01-22 14:51:37,916 ceciestunepipe.util.dimension.gpfa INFO     Collecting spike trains\n",
      "2023-01-22 14:51:43,505 ceciestunepipe.util.dimension.gpfa INFO     Fitting gpfa model\n",
      "/mnt/cube/earneodo/envs/pakhi/ceciestunepipe/lib/python3.8/site-packages/elephant/conversion.py:1168: UserWarning: Binning discarded 16 last spike(s) of the input spiketrain\n",
      "  warnings.warn(\"Binning discarded {} last spike(s) of the \"\n",
      "/mnt/cube/earneodo/envs/pakhi/ceciestunepipe/lib/python3.8/site-packages/elephant/conversion.py:1168: UserWarning: Binning discarded 14 last spike(s) of the input spiketrain\n",
      "  warnings.warn(\"Binning discarded {} last spike(s) of the \"\n",
      "/mnt/cube/earneodo/envs/pakhi/ceciestunepipe/lib/python3.8/site-packages/elephant/conversion.py:1168: UserWarning: Binning discarded 8 last spike(s) of the input spiketrain\n",
      "  warnings.warn(\"Binning discarded {} last spike(s) of the \"\n",
      "/mnt/cube/earneodo/envs/pakhi/ceciestunepipe/lib/python3.8/site-packages/elephant/conversion.py:1168: UserWarning: Binning discarded 7 last spike(s) of the input spiketrain\n",
      "  warnings.warn(\"Binning discarded {} last spike(s) of the \"\n",
      "/mnt/cube/earneodo/envs/pakhi/ceciestunepipe/lib/python3.8/site-packages/elephant/conversion.py:1168: UserWarning: Binning discarded 18 last spike(s) of the input spiketrain\n",
      "  warnings.warn(\"Binning discarded {} last spike(s) of the \"\n",
      "/mnt/cube/earneodo/envs/pakhi/ceciestunepipe/lib/python3.8/site-packages/elephant/conversion.py:1168: UserWarning: Binning discarded 13 last spike(s) of the input spiketrain\n",
      "  warnings.warn(\"Binning discarded {} last spike(s) of the \"\n",
      "/mnt/cube/earneodo/envs/pakhi/ceciestunepipe/lib/python3.8/site-packages/elephant/conversion.py:1168: UserWarning: Binning discarded 4 last spike(s) of the input spiketrain\n",
      "  warnings.warn(\"Binning discarded {} last spike(s) of the \"\n",
      "/mnt/cube/earneodo/envs/pakhi/ceciestunepipe/lib/python3.8/site-packages/elephant/conversion.py:1168: UserWarning: Binning discarded 10 last spike(s) of the input spiketrain\n",
      "  warnings.warn(\"Binning discarded {} last spike(s) of the \"\n",
      "/mnt/cube/earneodo/envs/pakhi/ceciestunepipe/lib/python3.8/site-packages/elephant/conversion.py:1168: UserWarning: Binning discarded 9 last spike(s) of the input spiketrain\n",
      "  warnings.warn(\"Binning discarded {} last spike(s) of the \"\n",
      "/mnt/cube/earneodo/envs/pakhi/ceciestunepipe/lib/python3.8/site-packages/elephant/conversion.py:1168: UserWarning: Binning discarded 11 last spike(s) of the input spiketrain\n",
      "  warnings.warn(\"Binning discarded {} last spike(s) of the \"\n",
      "/mnt/cube/earneodo/envs/pakhi/ceciestunepipe/lib/python3.8/site-packages/elephant/conversion.py:1168: UserWarning: Binning discarded 15 last spike(s) of the input spiketrain\n",
      "  warnings.warn(\"Binning discarded {} last spike(s) of the \"\n",
      "/mnt/cube/earneodo/envs/pakhi/ceciestunepipe/lib/python3.8/site-packages/elephant/conversion.py:1168: UserWarning: Binning discarded 19 last spike(s) of the input spiketrain\n",
      "  warnings.warn(\"Binning discarded {} last spike(s) of the \"\n",
      "/mnt/cube/earneodo/envs/pakhi/ceciestunepipe/lib/python3.8/site-packages/elephant/conversion.py:1168: UserWarning: Binning discarded 5 last spike(s) of the input spiketrain\n",
      "  warnings.warn(\"Binning discarded {} last spike(s) of the \"\n",
      "/mnt/cube/earneodo/envs/pakhi/ceciestunepipe/lib/python3.8/site-packages/elephant/conversion.py:1168: UserWarning: Binning discarded 6 last spike(s) of the input spiketrain\n",
      "  warnings.warn(\"Binning discarded {} last spike(s) of the \"\n",
      "/mnt/cube/earneodo/envs/pakhi/ceciestunepipe/lib/python3.8/site-packages/elephant/conversion.py:1168: UserWarning: Binning discarded 17 last spike(s) of the input spiketrain\n",
      "  warnings.warn(\"Binning discarded {} last spike(s) of the \"\n",
      "/mnt/cube/earneodo/envs/pakhi/ceciestunepipe/lib/python3.8/site-packages/elephant/conversion.py:1168: UserWarning: Binning discarded 20 last spike(s) of the input spiketrain\n",
      "  warnings.warn(\"Binning discarded {} last spike(s) of the \"\n",
      "/mnt/cube/earneodo/envs/pakhi/ceciestunepipe/lib/python3.8/site-packages/elephant/conversion.py:1168: UserWarning: Binning discarded 12 last spike(s) of the input spiketrain\n",
      "  warnings.warn(\"Binning discarded {} last spike(s) of the \"\n",
      "/mnt/cube/earneodo/envs/pakhi/ceciestunepipe/lib/python3.8/site-packages/elephant/conversion.py:1168: UserWarning: Binning discarded 3 last spike(s) of the input spiketrain\n",
      "  warnings.warn(\"Binning discarded {} last spike(s) of the \"\n",
      "/mnt/cube/earneodo/envs/pakhi/ceciestunepipe/lib/python3.8/site-packages/elephant/conversion.py:1168: UserWarning: Binning discarded 22 last spike(s) of the input spiketrain\n",
      "  warnings.warn(\"Binning discarded {} last spike(s) of the \"\n",
      "/mnt/cube/earneodo/envs/pakhi/ceciestunepipe/lib/python3.8/site-packages/elephant/conversion.py:1168: UserWarning: Binning discarded 26 last spike(s) of the input spiketrain\n",
      "  warnings.warn(\"Binning discarded {} last spike(s) of the \"\n",
      "/mnt/cube/earneodo/envs/pakhi/ceciestunepipe/lib/python3.8/site-packages/elephant/conversion.py:1168: UserWarning: Binning discarded 21 last spike(s) of the input spiketrain\n",
      "  warnings.warn(\"Binning discarded {} last spike(s) of the \"\n",
      "/mnt/cube/earneodo/envs/pakhi/ceciestunepipe/lib/python3.8/site-packages/elephant/conversion.py:1168: UserWarning: Binning discarded 2 last spike(s) of the input spiketrain\n",
      "  warnings.warn(\"Binning discarded {} last spike(s) of the \"\n"
     ]
    },
    {
     "name": "stdout",
     "output_type": "stream",
     "text": [
      "Initializing parameters using factor analysis...\n",
      "\n",
      "Fitting GPFA model...\n"
     ]
    }
   ],
   "source": [
    "reload(gpfa)\n",
    "gpfa_model_dict = {}\n",
    "### for just the vocal part of the bouts\n",
    "for k, spk_train_kwargs in spk_train_kwargs_dict.items():\n",
    "    logger.info('Fitting for {}'.format(k))\n",
    "    df_key = 'spk_gpf-{}'.format(k)\n",
    "    gpfa_model_dict[k], bout_df[df_key] = gpfa.gpfa_for_bout(bout_df, bout_dict, \n",
    "                                                             bin_size_ms=bout_dict['gpfa_bin_ms'], \n",
    "                                                             x_dim=bout_dict['gpfa_xdim'], \n",
    "                                                             spk_train_kwargs=spk_train_kwargs)"
   ]
  },
  {
   "cell_type": "code",
   "execution_count": 61,
   "metadata": {},
   "outputs": [
    {
     "data": {
      "text/html": [
       "<div>\n",
       "<style scoped>\n",
       "    .dataframe tbody tr th:only-of-type {\n",
       "        vertical-align: middle;\n",
       "    }\n",
       "\n",
       "    .dataframe tbody tr th {\n",
       "        vertical-align: top;\n",
       "    }\n",
       "\n",
       "    .dataframe thead th {\n",
       "        text-align: right;\n",
       "    }\n",
       "</style>\n",
       "<table border=\"1\" class=\"dataframe\">\n",
       "  <thead>\n",
       "    <tr style=\"text-align: right;\">\n",
       "      <th></th>\n",
       "      <th>start_ms</th>\n",
       "      <th>end_ms</th>\n",
       "      <th>start_sample</th>\n",
       "      <th>end_sample</th>\n",
       "      <th>p_step</th>\n",
       "      <th>rms_p</th>\n",
       "      <th>peak_p</th>\n",
       "      <th>bout_check</th>\n",
       "      <th>file</th>\n",
       "      <th>len_ms</th>\n",
       "      <th>...</th>\n",
       "      <th>mic_arr</th>\n",
       "      <th>pre_arr</th>\n",
       "      <th>sxx</th>\n",
       "      <th>f_xx</th>\n",
       "      <th>t_xx</th>\n",
       "      <th>s_xx</th>\n",
       "      <th>clu_id_arr</th>\n",
       "      <th>spk_ms_arr</th>\n",
       "      <th>spk_train</th>\n",
       "      <th>spk_gpf</th>\n",
       "    </tr>\n",
       "  </thead>\n",
       "  <tbody>\n",
       "    <tr>\n",
       "      <th>0</th>\n",
       "      <td>7030588</td>\n",
       "      <td>7076633</td>\n",
       "      <td>281223520</td>\n",
       "      <td>283065320</td>\n",
       "      <td>[30.640637870961847, 171.05945798554023, 235.1...</td>\n",
       "      <td>22.795341</td>\n",
       "      <td>343.115205</td>\n",
       "      <td>True</td>\n",
       "      <td>/mnt/sphere/speech_bci/derived_data/s_b1555_22...</td>\n",
       "      <td>46045</td>\n",
       "      <td>...</td>\n",
       "      <td>[-9, -16, -15, -21, -8, -23, -7, -13, -10, -4,...</td>\n",
       "      <td>[10755, 10759, 10755, 10752, 10755, 10748, 107...</td>\n",
       "      <td>([156.25, 234.375, 312.5, 390.625, 468.75, 546...</td>\n",
       "      <td>[156.25, 234.375, 312.5, 390.625, 468.75, 546....</td>\n",
       "      <td>[0.0064, 0.0074, 0.0084, 0.0094, 0.0104, 0.011...</td>\n",
       "      <td>[[1.0, 1.0, 1.0, 1.0, 1.0, 1.0, 1.0, 1.0, 1.0,...</td>\n",
       "      <td>[160, 258, 337, 362, 366, 374, 422, 439, 446, ...</td>\n",
       "      <td>[[0.0, 0.0, 0.0, 0.0, 0.0, 0.0, 0.0, 0.0, 0.0,...</td>\n",
       "      <td>[[2.901754298732856 s, 4.212648711404069 s, 4....</td>\n",
       "      <td>[[0.3985299209723956, 0.3966731900493273, 0.39...</td>\n",
       "    </tr>\n",
       "    <tr>\n",
       "      <th>1</th>\n",
       "      <td>6925343</td>\n",
       "      <td>6969333</td>\n",
       "      <td>277013720</td>\n",
       "      <td>278773320</td>\n",
       "      <td>[7.024641161329186, 11.95176006766438, 9.44896...</td>\n",
       "      <td>22.795341</td>\n",
       "      <td>366.874254</td>\n",
       "      <td>True</td>\n",
       "      <td>/mnt/sphere/speech_bci/derived_data/s_b1555_22...</td>\n",
       "      <td>43990</td>\n",
       "      <td>...</td>\n",
       "      <td>[0, -20, -10, 11, -5, -2, -4, -2, -9, 9, 8, 7,...</td>\n",
       "      <td>[10631, 10627, 10624, 10635, 10639, 10638, 106...</td>\n",
       "      <td>([156.25, 234.375, 312.5, 390.625, 468.75, 546...</td>\n",
       "      <td>[156.25, 234.375, 312.5, 390.625, 468.75, 546....</td>\n",
       "      <td>[0.0064, 0.0074, 0.0084, 0.0094, 0.0104, 0.011...</td>\n",
       "      <td>[[1.0, 1.0, 1.0, 1.0, 1.0, 1.0, 1.0, 1.0, 1.0,...</td>\n",
       "      <td>[160, 258, 337, 362, 366, 374, 422, 439, 446, ...</td>\n",
       "      <td>[[0.0, 0.0, 0.0, 0.0, 0.0, 0.0, 0.0, 0.0, 0.0,...</td>\n",
       "      <td>[[0.016799928394901492 s, 7.399901793276471 s,...</td>\n",
       "      <td>[[0.2459066184485034, 0.25769210147970284, 0.2...</td>\n",
       "    </tr>\n",
       "  </tbody>\n",
       "</table>\n",
       "<p>2 rows × 37 columns</p>\n",
       "</div>"
      ],
      "text/plain": [
       "   start_ms   end_ms  start_sample  end_sample  \\\n",
       "0   7030588  7076633     281223520   283065320   \n",
       "1   6925343  6969333     277013720   278773320   \n",
       "\n",
       "                                              p_step      rms_p      peak_p  \\\n",
       "0  [30.640637870961847, 171.05945798554023, 235.1...  22.795341  343.115205   \n",
       "1  [7.024641161329186, 11.95176006766438, 9.44896...  22.795341  366.874254   \n",
       "\n",
       "   bout_check                                               file  len_ms  ...  \\\n",
       "0        True  /mnt/sphere/speech_bci/derived_data/s_b1555_22...   46045  ...   \n",
       "1        True  /mnt/sphere/speech_bci/derived_data/s_b1555_22...   43990  ...   \n",
       "\n",
       "                                             mic_arr  \\\n",
       "0  [-9, -16, -15, -21, -8, -23, -7, -13, -10, -4,...   \n",
       "1  [0, -20, -10, 11, -5, -2, -4, -2, -9, 9, 8, 7,...   \n",
       "\n",
       "                                             pre_arr  \\\n",
       "0  [10755, 10759, 10755, 10752, 10755, 10748, 107...   \n",
       "1  [10631, 10627, 10624, 10635, 10639, 10638, 106...   \n",
       "\n",
       "                                                 sxx  \\\n",
       "0  ([156.25, 234.375, 312.5, 390.625, 468.75, 546...   \n",
       "1  ([156.25, 234.375, 312.5, 390.625, 468.75, 546...   \n",
       "\n",
       "                                                f_xx  \\\n",
       "0  [156.25, 234.375, 312.5, 390.625, 468.75, 546....   \n",
       "1  [156.25, 234.375, 312.5, 390.625, 468.75, 546....   \n",
       "\n",
       "                                                t_xx  \\\n",
       "0  [0.0064, 0.0074, 0.0084, 0.0094, 0.0104, 0.011...   \n",
       "1  [0.0064, 0.0074, 0.0084, 0.0094, 0.0104, 0.011...   \n",
       "\n",
       "                                                s_xx  \\\n",
       "0  [[1.0, 1.0, 1.0, 1.0, 1.0, 1.0, 1.0, 1.0, 1.0,...   \n",
       "1  [[1.0, 1.0, 1.0, 1.0, 1.0, 1.0, 1.0, 1.0, 1.0,...   \n",
       "\n",
       "                                          clu_id_arr  \\\n",
       "0  [160, 258, 337, 362, 366, 374, 422, 439, 446, ...   \n",
       "1  [160, 258, 337, 362, 366, 374, 422, 439, 446, ...   \n",
       "\n",
       "                                          spk_ms_arr  \\\n",
       "0  [[0.0, 0.0, 0.0, 0.0, 0.0, 0.0, 0.0, 0.0, 0.0,...   \n",
       "1  [[0.0, 0.0, 0.0, 0.0, 0.0, 0.0, 0.0, 0.0, 0.0,...   \n",
       "\n",
       "                                           spk_train  \\\n",
       "0  [[2.901754298732856 s, 4.212648711404069 s, 4....   \n",
       "1  [[0.016799928394901492 s, 7.399901793276471 s,...   \n",
       "\n",
       "                                             spk_gpf  \n",
       "0  [[0.3985299209723956, 0.3966731900493273, 0.39...  \n",
       "1  [[0.2459066184485034, 0.25769210147970284, 0.2...  \n",
       "\n",
       "[2 rows x 37 columns]"
      ]
     },
     "execution_count": 61,
     "metadata": {},
     "output_type": "execute_result"
    }
   ],
   "source": [
    "bout_df.head(2)"
   ]
  },
  {
   "cell_type": "code",
   "execution_count": 62,
   "metadata": {},
   "outputs": [
    {
     "data": {
      "text/plain": [
       "(8, 1178)"
      ]
     },
     "execution_count": 62,
     "metadata": {},
     "output_type": "execute_result"
    }
   ],
   "source": [
    "bout_df.iloc[30]['spk_gpf'].shape"
   ]
  },
  {
   "cell_type": "code",
   "execution_count": 145,
   "metadata": {},
   "outputs": [
    {
     "data": {
      "text/plain": [
       "(8, 2215)"
      ]
     },
     "execution_count": 145,
     "metadata": {},
     "output_type": "execute_result"
    }
   ],
   "source": [
    "bout_df.iloc[30]['spk_gpf-full'].shape"
   ]
  },
  {
   "cell_type": "code",
   "execution_count": 146,
   "metadata": {},
   "outputs": [
    {
     "data": {
      "text/plain": [
       "(8, 1549)"
      ]
     },
     "execution_count": 146,
     "metadata": {},
     "output_type": "execute_result"
    }
   ],
   "source": [
    "bout_df.iloc[30]['spk_gpf-bout'].shape"
   ]
  },
  {
   "cell_type": "code",
   "execution_count": 153,
   "metadata": {},
   "outputs": [
    {
     "data": {
      "text/plain": [
       "(8, 333)"
      ]
     },
     "execution_count": 153,
     "metadata": {},
     "output_type": "execute_result"
    }
   ],
   "source": [
    "bout_df.iloc[30]['spk_gpf-post'].shape"
   ]
  },
  {
   "cell_type": "code",
   "execution_count": 158,
   "metadata": {},
   "outputs": [
    {
     "data": {
      "text/plain": [
       "(8, 666)"
      ]
     },
     "execution_count": 158,
     "metadata": {},
     "output_type": "execute_result"
    }
   ],
   "source": [
    "np.concatenate([bout_df.iloc[30]['spk_gpf-pre'], bout_df.iloc[30]['spk_gpf-post']], axis=1).shape"
   ]
  },
  {
   "cell_type": "code",
   "execution_count": 150,
   "metadata": {},
   "outputs": [],
   "source": [
    "# pad the post with zeros\n",
    "bout_df['spk_gpf-post'] = bout_df['spk_gpf-pre'].apply(lambda x: np.zeros_like(x))"
   ]
  },
  {
   "cell_type": "code",
   "execution_count": 159,
   "metadata": {},
   "outputs": [],
   "source": [
    "bout_df['spk_gpf-hyb'] = bout_df.apply(lambda x: np.concatenate([x['spk_gpf-pre'], x['spk_gpf-bout'], x['spk_gpf-post']], axis=1), axis=1)"
   ]
  },
  {
   "cell_type": "code",
   "execution_count": null,
   "metadata": {},
   "outputs": [],
   "source": [
    "reload(gpfa)\n",
    "pre_gpfa, prep_fit_list = gpfa.gpfa_for_bout(bout_df, bout_dict, bin_size_ms=15, x_dim=latent_dimensionality, spk_train_kwargs=spk_train_kwargs)"
   ]
  },
  {
   "cell_type": "code",
   "execution_count": null,
   "metadata": {},
   "outputs": [],
   "source": [
    "#### plot some"
   ]
  },
  {
   "cell_type": "code",
   "execution_count": 95,
   "metadata": {},
   "outputs": [],
   "source": [
    "### a better spectrogram\n",
    "def kozlov_averaging(spec, n_rows=2, n_cols=3):\n",
    "    '''\n",
    "    Average rows and columns of spectrogram according to Kozlov & Gentner 2016 \n",
    "    In Andrei's paper he averaged twice along rows(frequency bins) and three times\n",
    "    across columns (time bins).\n",
    "    n_rows specifies how many times to average rows pairwise, and n_cols specifies how many times\n",
    "    to average columsn pairwise.\n",
    "    '''\n",
    "    spec_c = np.copy(spec)\n",
    "\n",
    "    for idx in range(n_rows):\n",
    "        spec_c = avg_pairwise(spec_c, axis=0)\n",
    "\n",
    "    for idx in range(n_cols):\n",
    "        spec_c = avg_pairwise(spec_c, axis=1)\n",
    "\n",
    "    return spec_c\n",
    "\n",
    "def ms_spectrogram(x, s_f, n_window=512, step_ms=1, f_min=0, f_max=20000, \n",
    "                     ref_db=20, min_db=-30, avg_func=None):\n",
    "    \n",
    "    ### spectrogram\n",
    "    f, t, sxx = sp.ms_spectrogram(x, s_f, n_window=n_window, step_ms=step_ms, \n",
    "                                  f_min=f_min, f_max=f_max, cut_off=0)\n",
    "    \n",
    "    spec = 10*np.log10(np.maximum(1e-5, sxx[1:, :])) - ref_db\n",
    "    f = f[1:]\n",
    "    \n",
    "    # average, if specified\n",
    "    if avg_func is not None:\n",
    "        spec = avg_func(spec)\n",
    "\n",
    "    # normalize\n",
    "    spec = np.clip((spec - min_db) / (-1.0*min_db), 0, 1)\n",
    "    \n",
    "    spec[spec==np.nan] = 1\n",
    "    return f, t, spec\n",
    "\n",
    "bout_df['sxx'] = bout_df['mic_arr'].apply(lambda x: sp.ms_spectrogram(x.flatten(), bout_dict['s_f']))"
   ]
  },
  {
   "cell_type": "code",
   "execution_count": 63,
   "metadata": {},
   "outputs": [],
   "source": [
    "#### get the PC of the spectrogram.\n",
    "\n",
    "## cat all spectrogram to make a fit\n",
    "## project each pc\n",
    "\n",
    "from sklearn.decomposition import PCA\n",
    "\n",
    "pca = PCA(n_components=3, svd_solver='full')\n",
    "\n",
    "all_x = np.hstack(bout_df['sxx'].apply(lambda x: x[2]))\n",
    "all_x[all_x==np.nan] = 1 ### better do a zscore\n",
    "\n",
    "# fit all\n",
    "pca.fit(np.log(all_x.T))\n",
    "\n",
    "# project all\n",
    "bout_df['sxx_pc'] = bout_df['sxx'].apply(lambda x: pca.transform(np.log(x[2].T)))"
   ]
  },
  {
   "cell_type": "code",
   "execution_count": 64,
   "metadata": {},
   "outputs": [
    {
     "data": {
      "text/plain": [
       "[<matplotlib.lines.Line2D at 0x7f10290bdac0>]"
      ]
     },
     "execution_count": 64,
     "metadata": {},
     "output_type": "execute_result"
    },
    {
     "data": {
      "image/png": "[encoded data removed]",
      "text/plain": [
       "<Figure size 432x288 with 1 Axes>"
      ]
     },
     "metadata": {
      "needs_background": "light"
     },
     "output_type": "display_data"
    }
   ],
   "source": [
    "###filter the presure\n",
    "import scipy\n",
    "b, a = scipy.signal.butter(4, 1000, 'lp', fs=bout_dict['s_f'], output='ba')\n",
    "\n",
    "bout_df['pre_filt'] = bout_df['pre_arr'].apply(lambda x: signal.filtfilt(b, a, x))\n",
    "\n",
    "plt.plot(bout_df.iloc[55]['pre_arr'])\n",
    "plt.plot(bout_df.iloc[55]['pre_filt'], lw=1)"
   ]
  },
  {
   "cell_type": "code",
   "execution_count": 98,
   "metadata": {},
   "outputs": [],
   "source": [
    "%matplotlib inline"
   ]
  },
  {
   "cell_type": "code",
   "execution_count": 69,
   "metadata": {},
   "outputs": [
    {
     "data": {
      "text/plain": [
       "array([<AxesSubplot:>, <AxesSubplot:ylabel='sound amplitude (arb)'>,\n",
       "       <AxesSubplot:title={'center':'RA GPFA full bout'}>,\n",
       "       <AxesSubplot:title={'center':'RA GPFA prep activity'}>,\n",
       "       <AxesSubplot:title={'center':'pressure'}>], dtype=object)"
      ]
     },
     "execution_count": 69,
     "metadata": {},
     "output_type": "execute_result"
    },
    {
     "data": {
      "image/png": "[encoded data removed]",
      "text/plain": [
       "<Figure size 864x576 with 5 Axes>"
      ]
     },
     "metadata": {
      "needs_background": "light"
     },
     "output_type": "display_data"
    }
   ],
   "source": [
    "### se them together all for a bout now\n",
    "def plot_bout_projections(bout_series):\n",
    "    sxx_pc = bout_series['sxx_pc']\n",
    "    gpf = bout_series['spk_gpf']\n",
    "    #gpf_prep = bout_df['spk_gpf-prep']\n",
    "    pre_arr = bout_series['pre_filt']\n",
    "    mic_arr = bout_series['mic_arr']\n",
    "    \n",
    "    f, t, sxx = bout_series['sxx']\n",
    "    \n",
    "    fig, ax = plt.subplots(nrows=5, ncols=1, figsize=(12, 8));\n",
    "\n",
    "    ax[0].pcolormesh(t, f, np.log(sxx), cmap='inferno')\n",
    "    \n",
    "    ax[1].plot((np.abs(mic_arr)), 'k');\n",
    "    ax[1].set_ylabel('sound amplitude (arb)')\n",
    "\n",
    "    ax[2].set_title('RA GPFA full bout')\n",
    "    #ax[2].plot(sxx_pc, lw=1);\n",
    "    ax[2].plot(gpf[:2].T, lw=1);\n",
    "\n",
    "    ax[3].set_title('RA GPFA prep activity');\n",
    "    #ax[3].plot(bout_series['spk_gpf-hyb'][:2].T, lw=1);\n",
    "\n",
    "    ax[4].set_title('pressure');\n",
    "    ax[4].plot(pre_arr, lw=1);\n",
    "    \n",
    "    for ax_i in ax[1:]:\n",
    "        ax_i.set_xticks([])\n",
    "        ax_i.set_yticks([])\n",
    "    \n",
    "    return ax\n",
    "\n",
    "\n",
    "plot_bout_projections(bout_df.iloc[28])"
   ]
  },
  {
   "cell_type": "code",
   "execution_count": 1,
   "metadata": {},
   "outputs": [
    {
     "ename": "NameError",
     "evalue": "name 'plot_bout_projections' is not defined",
     "output_type": "error",
     "traceback": [
      "\u001b[0;31m---------------------------------------------------------------------------\u001b[0m",
      "\u001b[0;31mNameError\u001b[0m                                 Traceback (most recent call last)",
      "Input \u001b[0;32mIn [1]\u001b[0m, in \u001b[0;36m<cell line: 1>\u001b[0;34m()\u001b[0m\n\u001b[0;32m----> 1\u001b[0m \u001b[43mplot_bout_projections\u001b[49m(bout_df\u001b[38;5;241m.\u001b[39miloc[\u001b[38;5;241m27\u001b[39m])\n",
      "\u001b[0;31mNameError\u001b[0m: name 'plot_bout_projections' is not defined"
     ]
    }
   ],
   "source": [
    "plot_bout_projections(bout_df.iloc[27])"
   ]
  },
  {
   "cell_type": "code",
   "execution_count": null,
   "metadata": {},
   "outputs": [],
   "source": [
    "%matplotlib notebook"
   ]
  },
  {
   "cell_type": "code",
   "execution_count": null,
   "metadata": {},
   "outputs": [],
   "source": [
    "#bout_df.to_hdf(bout_df_path, 'gpfa')"
   ]
  },
  {
   "cell_type": "code",
   "execution_count": null,
   "metadata": {},
   "outputs": [],
   "source": [
    "### bring it dask because shit got big"
   ]
  },
  {
   "cell_type": "code",
   "execution_count": null,
   "metadata": {},
   "outputs": [],
   "source": [
    "bout_df['p_step'].values.shape"
   ]
  },
  {
   "cell_type": "code",
   "execution_count": null,
   "metadata": {},
   "outputs": [],
   "source": [
    "bout_df['s_xx'].values[2].shape"
   ]
  },
  {
   "cell_type": "code",
   "execution_count": null,
   "metadata": {},
   "outputs": [],
   "source": [
    "bout_df.loc[0]"
   ]
  },
  {
   "cell_type": "code",
   "execution_count": null,
   "metadata": {},
   "outputs": [],
   "source": [
    "bout_df.keys()"
   ]
  },
  {
   "cell_type": "code",
   "execution_count": null,
   "metadata": {},
   "outputs": [],
   "source": [
    "bout_dict.keys()"
   ]
  },
  {
   "cell_type": "code",
   "execution_count": 74,
   "metadata": {},
   "outputs": [],
   "source": [
    "import h5py\n",
    "from ceciestunepipe.util import h5util as h5u"
   ]
  },
  {
   "cell_type": "code",
   "execution_count": 75,
   "metadata": {},
   "outputs": [],
   "source": [
    "### save these bouts as an hdf5 file\n",
    "bout_df_path = os.path.join(exp_struct['folders']['processed'], 'bout_df_gpfa-15.h5')\n",
    "fu.makedirs(exp_struct['folders']['processed'])"
   ]
  },
  {
   "cell_type": "code",
   "execution_count": 76,
   "metadata": {},
   "outputs": [
    {
     "data": {
      "text/plain": [
       "Index(['start_ms', 'end_ms', 'start_sample', 'end_sample', 'p_step', 'rms_p',\n",
       "       'peak_p', 'bout_check', 'file', 'len_ms', 'syl_in', 'n_syl', 'peaks_p',\n",
       "       'n_peaks', 'l_p_ratio', 'waveform', 'confusing', 'valid_waveform',\n",
       "       'valid', 'spectrogram', 'is_call', 'start_ms_ap_0', 'start_sample_ap_0',\n",
       "       'start_sample_naive', 'len_sample_ap_0', 'end_sample_ap_0', 'spk_arr',\n",
       "       'mic_arr', 'pre_arr', 'sxx', 'f_xx', 't_xx', 's_xx', 'clu_id_arr',\n",
       "       'spk_ms_arr', 'spk_train', 'spk_gpf', 'sxx_pc', 'pre_filt'],\n",
       "      dtype='object')"
      ]
     },
     "execution_count": 76,
     "metadata": {},
     "output_type": "execute_result"
    }
   ],
   "source": [
    "bout_df.keys()"
   ]
  },
  {
   "cell_type": "code",
   "execution_count": 77,
   "metadata": {},
   "outputs": [
    {
     "name": "stderr",
     "output_type": "stream",
     "text": [
      "2023-02-15 15:17:54,435 root         INFO     Saving the gpfa, pca results onto an hdf5 file /mnt/sphere/speech_bci/processed_data/s_b1555_22/2022-10-12/sglx/1815_g0/bout_df_gpfa-15.h5\n",
      "2023-02-15 15:18:16,130 root         INFO     done\n"
     ]
    }
   ],
   "source": [
    "attr_keys = ['start_ms', 'end_ms', 'len_ms', \n",
    "             'start_sample', 'end_sample',\n",
    "             'start_ms_ap_0', 'start_sample_ap_0',\n",
    "             'start_sample_naive', 'len_sample_ap_0', 'end_sample_ap_0',\n",
    "             'bout_check', 'confusing', 'file']\n",
    "\n",
    "dset_keys = ['mic_arr', 'pre_arr', 'pre_filt', 'syl_in',\n",
    "             'f_xx', 't_xx', 's_xx', 'sxx_pc', \n",
    "             'spk_arr', 'spk_gpf']\n",
    "\n",
    "# extra dset_keys that will not necessarily always be there\n",
    "extra_dset_keys = ['spk_ms_arr']\n",
    "\n",
    "dict_keys = ['s_f', 's_f_nidq', 's_f_ap_0', 't_pre', 't_post', 'gpfa_bin_ms', 'gpfa_xdim']\n",
    "\n",
    "logger.info('Saving the gpfa, pca results onto an hdf5 file {}'.format(bout_df_path))\n",
    "h5u.bouts_to_h5(bout_df, bout_dict, dset_keys + extra_dset_keys, attr_keys, dict_keys, bout_df_path)\n",
    "logger.info('done')"
   ]
  },
  {
   "cell_type": "code",
   "execution_count": null,
   "metadata": {},
   "outputs": [],
   "source": []
  }
 ],
 "metadata": {
  "kernelspec": {
   "display_name": "ceciestunepipe (cube)",
   "language": "python",
   "name": "unepipe-cube"
  },
  "language_info": {
   "codemirror_mode": {
    "name": "ipython",
    "version": 3
   },
   "file_extension": ".py",
   "mimetype": "text/x-python",
   "name": "python",
   "nbconvert_exporter": "python",
   "pygments_lexer": "ipython3",
   "version": "3.8.11"
  }
 },
 "nbformat": 4,
 "nbformat_minor": 4
}
