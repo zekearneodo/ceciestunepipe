{
 "cells": [
  {
   "cell_type": "markdown",
   "metadata": {},
   "source": [
    "# Get sorted spikes and bouts and make rasters/gpfa\n",
    "\n",
    "For every run in the session:\n",
    " - Load the recordings\n",
    " - Get the sync events for the nidq, ap, lf sync channels -> to npy for further synching \n",
    " - Sort spikes\n",
    " - Get the bouts/mots and align them to the ap_0 time scale\n",
    " - make and view some 'bout rasters'\n",
    " \n",
    "\n",
    "Assumes that preprocessing has occured:\n",
    "- sglx_preprocess:\n",
    "    - extraction of microphone streams\n",
    "    - bout detections\n",
    "- curate_bouts-bird-plotly-ephys:\n",
    "    - manual curation of detected bouts\n",
    "- sort_raster_bout:\n",
    "    - syncrhonization of nidaq/ap time events\n",
    "    - spike sorting\n",
    "    - labeling of sorted units for their corresponding nucleus\n",
    "    - inspection of rasters\n",
    "    \n",
    "This notebook should not depend on the raw_data"
   ]
  },
  {
   "cell_type": "code",
   "execution_count": 1,
   "metadata": {},
   "outputs": [
    {
     "name": "stderr",
     "output_type": "stream",
     "text": [
      "2022-10-23 14:46:34,045 root         INFO     Running on pakhi.ucsd.edu\n"
     ]
    }
   ],
   "source": [
    "%matplotlib inline\n",
    "\n",
    "import os\n",
    "import glob\n",
    "import logging\n",
    "import pickle\n",
    "import socket\n",
    "import tempfile\n",
    "import multiprocessing\n",
    "import json\n",
    "\n",
    "import numpy as np\n",
    "import pandas as pd\n",
    "\n",
    "from scipy.io import wavfile\n",
    "from scipy import signal\n",
    "from matplotlib import pyplot as plt\n",
    "\n",
    "from importlib import reload\n",
    "from multiprocessing import Process\n",
    "\n",
    "\n",
    "logger = logging.getLogger()\n",
    "handler = logging.StreamHandler()\n",
    "formatter = logging.Formatter(\n",
    "        '%(asctime)s %(name)-12s %(levelname)-8s %(message)s')\n",
    "handler.setFormatter(formatter)\n",
    "logger.addHandler(handler)\n",
    "logger.setLevel(logging.INFO)\n",
    "\n",
    "N_JOBS_MAX = multiprocessing.cpu_count()\n",
    "\n",
    "logger.info('Running on {}'.format(socket.gethostname()))"
   ]
  },
  {
   "cell_type": "code",
   "execution_count": 3,
   "metadata": {},
   "outputs": [
    {
     "name": "stderr",
     "output_type": "stream",
     "text": [
      "2022-10-23 14:47:07,858 root         INFO     all modules loaded\n"
     ]
    }
   ],
   "source": [
    "from ceciestunepipe.file import bcistructure as et\n",
    "\n",
    "#from ceciestunepipe.util import sglxutil as sglu\n",
    "#from ceciestunepipe.util import sglxsync as sy\n",
    "\n",
    "from ceciestunepipe.util import oeutil as oeu\n",
    "from ceciestunepipe.util import stimutil as su\n",
    "from ceciestunepipe.util import plotutil as pu\n",
    "from ceciestunepipe.util import wavutil as wu\n",
    "from ceciestunepipe.util import fileutil as fu\n",
    "from ceciestunepipe.util.spike import kilosort as ks\n",
    "from ceciestunepipe.util.sound import spectral as sp\n",
    "#from ceciestunepipe.util.spikeextractors.extractors.spikeglxrecordingextractor import readSGLX as rsgl\n",
    "#from ceciestunepipe.util.spikeextractors.extractors.spikeglxrecordingextractor import spikeglxrecordingextractor as sglex\n",
    "\n",
    "from ceciestunepipe.pipeline import searchbout as sb\n",
    "\n",
    "import spikeinterface as si\n",
    "import spikeinterface.extractors as se\n",
    "import spikeinterface.toolkit as st\n",
    "import spikeinterface.sorters as ss\n",
    "import spikeinterface.comparison as sc\n",
    "import spikeinterface.widgets as sw\n",
    "logger.info('all modules loaded')"
   ]
  },
  {
   "cell_type": "markdown",
   "metadata": {},
   "source": [
    "### Session parameters"
   ]
  },
  {
   "cell_type": "code",
   "execution_count": 4,
   "metadata": {
    "tags": []
   },
   "outputs": [],
   "source": [
    "reload(et)\n",
    "\n",
    "bird = 's_b1555_22'\n",
    "all_bird_sess = et.list_sessions(bird)\n",
    "#all_bird_sess"
   ]
  },
  {
   "cell_type": "code",
   "execution_count": 5,
   "metadata": {},
   "outputs": [
    {
     "data": {
      "text/plain": [
       "['2022-08-17_12-38-44_550']"
      ]
     },
     "execution_count": 5,
     "metadata": {},
     "output_type": "execute_result"
    }
   ],
   "source": [
    "reload(et)\n",
    "\n",
    "sess_par = {'bird': bird,\n",
    "           'sess': '2022-08-17',\n",
    "            \n",
    "           'probe': 'probe_0',\n",
    "           'sort': 'sort_0',\n",
    "           'trial_tag_chan': 0, # what whas the tag channel in the stimulus wave (this should come from meta et. al)\n",
    "            'on_signal': 1, # whether singnal on is hi or lo\n",
    "            'ref_stream': 'ap_0', #what to syncrhonize everything to\n",
    "           'stim_sess': None, # if there was a stimulus epoch, where the stimuli were coming from\n",
    "           'mic_chan': 0, # where the microphone is in the wav_mic.npy array\n",
    "           'pre_chan': 0} # where the pressure is in the wav_adc.npy array\n",
    "\n",
    "\n",
    "exp_struct = et.get_exp_struct(sess_par['bird'], sess_par['sess'], sort=sess_par['sort'], ephys_software='oe')\n",
    "\n",
    "ksort_folder = exp_struct['folders']['ksort']\n",
    "raw_folder = exp_struct['folders']['oe']\n",
    "\n",
    "sess_epochs = oeu.list_oe_epochs(exp_struct)\n",
    "sess_epochs"
   ]
  },
  {
   "cell_type": "code",
   "execution_count": 6,
   "metadata": {},
   "outputs": [
    {
     "data": {
      "text/plain": [
       "{'folders': {'bird': '/mnt/sphere/speech_bci/raw_data/s_b1555_22',\n",
       "  'raw': '/mnt/sphere/speech_bci/raw_data/s_b1555_22/2022-08-17',\n",
       "  'oe': '/mnt/sphere/speech_bci/raw_data/s_b1555_22/2022-08-17/oe',\n",
       "  'kwik': '/scratch/earneodo/s_b1555_22/oe/kwik/2022-08-17',\n",
       "  'processed': '/mnt/sphere/speech_bci/processed_data/s_b1555_22/2022-08-17/oe',\n",
       "  'derived': '/mnt/sphere/speech_bci/derived_data/s_b1555_22/2022-08-17/oe',\n",
       "  'tmp': '/scratch/earneodo/tmp',\n",
       "  'msort': '/scratch/earneodo/s_b1555_22/oe/msort/2022-08-17',\n",
       "  'ksort': '/scratch/earneodo/s_b1555_22/oe/ksort/2022-08-17/sort_0',\n",
       "  'sort': '/mnt/sphere/speech_bci/derived_data/s_b1555_22/2022-08-17/oe/sort_0'},\n",
       " 'files': {'par': '/scratch/earneodo/s_b1555_22/oe/ksort/2022-08-17/sort_0/params.json',\n",
       "  'set': '/mnt/sphere/speech_bci/raw_data/s_b1555_22/2022-08-17/oe/settings.isf',\n",
       "  'rig': '/mnt/sphere/speech_bci/raw_data/s_b1555_22/2022-08-17/oe/rig.json',\n",
       "  'kwd': '/scratch/earneodo/s_b1555_22/oe/kwik/2022-08-17/stream.kwd',\n",
       "  'kwik': '/scratch/earneodo/s_b1555_22/oe/kwik/2022-08-17/sort_sort_0/spikes.kwik',\n",
       "  'kwe': '/scratch/earneodo/s_b1555_22/oe/kwik/2022-08-17/events.kwe',\n",
       "  'dat_mic': '/mnt/sphere/speech_bci/processed_data/s_b1555_22/2022-08-17/oe/dat_mic.mat',\n",
       "  'dat_ap': '/mnt/sphere/speech_bci/processed_data/s_b1555_22/2022-08-17/oe/dat_ap.mat',\n",
       "  'allevents': '/mnt/sphere/speech_bci/processed_data/s_b1555_22/2022-08-17/oe/dat_all.pkl',\n",
       "  'wav_mic': '/mnt/sphere/speech_bci/derived_data/s_b1555_22/2022-08-17/oe/wav_mic.wav',\n",
       "  'mda_raw': '/scratch/earneodo/s_b1555_22/oe/msort/2022-08-17/raw.mda',\n",
       "  'bin_raw': '/scratch/earneodo/s_b1555_22/oe/ksort/2022-08-17/sort_0/raw.bin'}}"
      ]
     },
     "execution_count": 6,
     "metadata": {},
     "output_type": "execute_result"
    }
   ],
   "source": [
    "exp_struct"
   ]
  },
  {
   "cell_type": "code",
   "execution_count": 35,
   "metadata": {},
   "outputs": [],
   "source": [
    "### pick a session, epoch\n",
    "reload(et)\n",
    "epoch = sess_epochs[0] # g2 is the shortest\n",
    "sess_par['epoch'] = epoch\n",
    "\n",
    "exp_struct = et.sgl_struct(sess_par, epoch, ephys_software='oe')\n",
    "\n",
    "\n",
    "derived_folder = exp_struct['folders']['derived']"
   ]
  },
  {
   "cell_type": "code",
   "execution_count": 36,
   "metadata": {},
   "outputs": [
    {
     "data": {
      "text/plain": [
       "{'folders': {'bird': '/mnt/sphere/speech_bci/raw_data/s_b1555_22/2022-08-17_12-38-44_550',\n",
       "  'raw': '/mnt/sphere/speech_bci/raw_data/s_b1555_22/2022-08-17/2022-08-17_12-38-44_550',\n",
       "  'oe': '/mnt/sphere/speech_bci/raw_data/s_b1555_22/2022-08-17/oe/2022-08-17_12-38-44_550',\n",
       "  'kwik': '/scratch/earneodo/s_b1555_22/oe/kwik/2022-08-17/2022-08-17_12-38-44_550',\n",
       "  'processed': '/mnt/sphere/speech_bci/processed_data/s_b1555_22/2022-08-17/oe/2022-08-17_12-38-44_550',\n",
       "  'derived': '/mnt/sphere/speech_bci/derived_data/s_b1555_22/2022-08-17/oe/2022-08-17_12-38-44_550',\n",
       "  'tmp': '/scratch/earneodo/tmp/2022-08-17_12-38-44_550',\n",
       "  'msort': '/scratch/earneodo/s_b1555_22/oe/msort/2022-08-17/2022-08-17_12-38-44_550',\n",
       "  'ksort': '/scratch/earneodo/s_b1555_22/oe/ksort/2022-08-17/2022-08-17_12-38-44_550/sort_0',\n",
       "  'sort': '/mnt/sphere/speech_bci/derived_data/s_b1555_22/2022-08-17/oe/2022-08-17_12-38-44_550/sort_0'},\n",
       " 'files': {'par': '/scratch/earneodo/s_b1555_22/oe/ksort/2022-08-17/2022-08-17_12-38-44_550/params.json',\n",
       "  'set': '/mnt/sphere/speech_bci/raw_data/s_b1555_22/2022-08-17/oe/settings.isf',\n",
       "  'rig': '/mnt/sphere/speech_bci/raw_data/s_b1555_22/2022-08-17/oe/rig.json',\n",
       "  'kwd': '/scratch/earneodo/s_b1555_22/oe/kwik/2022-08-17/2022-08-17_12-38-44_550/stream.kwd',\n",
       "  'kwik': '/scratch/earneodo/s_b1555_22/oe/kwik/2022-08-17/sort_/2022-08-17_12-38-44_550/sort_sort_0/spikes.kwik',\n",
       "  'kwe': '/scratch/earneodo/s_b1555_22/oe/kwik/2022-08-17/2022-08-17_12-38-44_550/events.kwe',\n",
       "  'dat_mic': '/mnt/sphere/speech_bci/processed_data/s_b1555_22/2022-08-17/oe/dat_mic.mat',\n",
       "  'dat_ap': '/mnt/sphere/speech_bci/processed_data/s_b1555_22/2022-08-17/oe/dat_ap.mat',\n",
       "  'allevents': '/mnt/sphere/speech_bci/processed_data/s_b1555_22/2022-08-17/oe/dat_all.pkl',\n",
       "  'wav_mic': '/mnt/sphere/speech_bci/derived_data/s_b1555_22/2022-08-17/oe/2022-08-17_12-38-44_550/wav_mic.wav',\n",
       "  'mda_raw': '/scratch/earneodo/s_b1555_22/oe/msort/2022-08-17/2022-08-17_12-38-44_550/raw.mda',\n",
       "  'bin_raw': '/scratch/earneodo/s_b1555_22/oe/ksort/2022-08-17/2022-08-17_12-38-44_550/raw.bin'}}"
      ]
     },
     "execution_count": 36,
     "metadata": {},
     "output_type": "execute_result"
    }
   ],
   "source": [
    "exp_struct"
   ]
  },
  {
   "cell_type": "code",
   "execution_count": 37,
   "metadata": {},
   "outputs": [
    {
     "data": {
      "text/plain": [
       "'/mnt/sphere/speech_bci/derived_data/s_b1555_22/2022-08-17/oe/2022-08-17_12-38-44_550'"
      ]
     },
     "execution_count": 37,
     "metadata": {},
     "output_type": "execute_result"
    }
   ],
   "source": [
    "derived_folder"
   ]
  },
  {
   "cell_type": "code",
   "execution_count": 11,
   "metadata": {},
   "outputs": [
    {
     "name": "stdout",
     "output_type": "stream",
     "text": [
      "bout_1_gpfa_sua.eps  bout_pd_oeb.pkl  mot_dict_oeb.pkl\tspk_df.pkl\r\n",
      "bout_1_gpfa_sua.png  bout_pd_oe.pkl   mot_dict.pkl\twav_mic.wav\r\n",
      "bout_dict_oe.pkl     clu_df.pkl       sort_0\r\n"
     ]
    }
   ],
   "source": [
    "!ls /mnt/sphere/speech_bci/derived_data/s_b1555_22/2022-08-17/oe/2022-08-17_12-38-44_550"
   ]
  },
  {
   "cell_type": "markdown",
   "metadata": {},
   "source": [
    "### load epoch files"
   ]
  },
  {
   "cell_type": "code",
   "execution_count": 34,
   "metadata": {},
   "outputs": [
    {
     "data": {
      "text/plain": [
       "'/mnt/sphere/speech_bci/derived_data/s_b1555_22/2022-08-17/oe/2022-08-17_12-38-44_550'"
      ]
     },
     "execution_count": 34,
     "metadata": {},
     "output_type": "execute_result"
    }
   ],
   "source": [
    "exp_struct['folders']['derived']"
   ]
  },
  {
   "cell_type": "code",
   "execution_count": 12,
   "metadata": {},
   "outputs": [
    {
     "name": "stderr",
     "output_type": "stream",
     "text": [
      "2022-10-23 15:03:35,395 root         INFO     Loading sort files from /mnt/sphere/speech_bci/derived_data/s_b1555_22/2022-08-17/oe/2022-08-17_12-38-44_550/sort_0\n",
      "2022-10-23 15:03:37,357 root         INFO     loading synced bout and dict and pandas dataframe from /mnt/sphere/speech_bci/derived_data/s_b1555_22/2022-08-17/oe/2022-08-17_12-38-44_550/bout_dict_oe.pkl, /mnt/sphere/speech_bci/derived_data/s_b1555_22/2022-08-17/oe/2022-08-17_12-38-44_550/bout_pd_oe.pkl\n"
     ]
    }
   ],
   "source": [
    "### get the spikes df, clu df, bouts and syncrhonization files\n",
    "\n",
    "## the sort\n",
    "sort_folder = os.path.join(exp_struct['folders']['derived'], sess_par['sort'])\n",
    "\n",
    "logger.info('Loading sort files from ' + sort_folder)\n",
    "\n",
    "clu_df_path = os.path.join(sort_folder, 'clu_df.pkl')\n",
    "clu_df = pd.read_pickle(clu_df_path)\n",
    "\n",
    "spk_df_path = os.path.join(sort_folder, 'spk_df.pkl')\n",
    "spk_df = pd.read_pickle(spk_df_path)\n",
    "\n",
    "\n",
    "## the bout/stim\n",
    "bout_dict_path = os.path.join(exp_struct['folders']['derived'], 'bout_dict_oe.pkl')\n",
    "bout_df_path = os.path.join(exp_struct['folders']['derived'], 'bout_pd_oe.pkl')\n",
    "\n",
    "logger.info('loading synced bout and dict and pandas dataframe from {}, {}'.format(bout_dict_path, bout_df_path))\n",
    "with open(bout_dict_path, 'rb') as handle:\n",
    "    bout_dict = pickle.load(handle)\n",
    "bout_df = pd.read_pickle(bout_df_path)\n",
    "\n",
    "\n",
    "#load the mic, pressure if any\n",
    "mic_path = os.path.join(exp_struct['folders']['derived'], 'wav_mic.wav')\n",
    "#adc_path = os.path.join(exp_struct['folders']['derived'], 'wav_adc.wav')\n",
    "\n",
    "s_f_wav, mic_stream = wu.read_wav_chan(exp_struct['files']['wav_mic'], sess_par['mic_chan'])\n",
    "#s_f_wav, pre_stream = wu.read_wav_chan(adc_path, sess_par['pre_chan'])\n",
    "\n",
    "ap_sf = bout_dict['s_f_ap_0']"
   ]
  },
  {
   "cell_type": "code",
   "execution_count": 13,
   "metadata": {},
   "outputs": [
    {
     "data": {
      "text/plain": [
       "'/mnt/sphere/speech_bci/derived_data/s_b1555_22/2022-08-17/oe/2022-08-17_12-38-44_550/bout_dict_oe.pkl'"
      ]
     },
     "execution_count": 13,
     "metadata": {},
     "output_type": "execute_result"
    }
   ],
   "source": [
    "bout_dict_path"
   ]
  },
  {
   "cell_type": "code",
   "execution_count": 14,
   "metadata": {},
   "outputs": [
    {
     "data": {
      "text/html": [
       "<div>\n",
       "<style scoped>\n",
       "    .dataframe tbody tr th:only-of-type {\n",
       "        vertical-align: middle;\n",
       "    }\n",
       "\n",
       "    .dataframe tbody tr th {\n",
       "        vertical-align: top;\n",
       "    }\n",
       "\n",
       "    .dataframe thead th {\n",
       "        text-align: right;\n",
       "    }\n",
       "</style>\n",
       "<table border=\"1\" class=\"dataframe\">\n",
       "  <thead>\n",
       "    <tr style=\"text-align: right;\">\n",
       "      <th></th>\n",
       "      <th>times</th>\n",
       "      <th>clusters</th>\n",
       "      <th>cluster_id</th>\n",
       "      <th>nucelus</th>\n",
       "      <th>main_chan</th>\n",
       "      <th>kslabel</th>\n",
       "    </tr>\n",
       "  </thead>\n",
       "  <tbody>\n",
       "    <tr>\n",
       "      <th>0</th>\n",
       "      <td>427</td>\n",
       "      <td>38</td>\n",
       "      <td>38</td>\n",
       "      <td>NaN</td>\n",
       "      <td>25</td>\n",
       "      <td>mua</td>\n",
       "    </tr>\n",
       "  </tbody>\n",
       "</table>\n",
       "</div>"
      ],
      "text/plain": [
       "   times  clusters  cluster_id  nucelus  main_chan kslabel\n",
       "0    427        38          38      NaN         25     mua"
      ]
     },
     "execution_count": 14,
     "metadata": {},
     "output_type": "execute_result"
    }
   ],
   "source": [
    "spk_df.head(1)"
   ]
  },
  {
   "cell_type": "code",
   "execution_count": 15,
   "metadata": {},
   "outputs": [
    {
     "data": {
      "text/html": [
       "<div>\n",
       "<style scoped>\n",
       "    .dataframe tbody tr th:only-of-type {\n",
       "        vertical-align: middle;\n",
       "    }\n",
       "\n",
       "    .dataframe tbody tr th {\n",
       "        vertical-align: top;\n",
       "    }\n",
       "\n",
       "    .dataframe thead th {\n",
       "        text-align: right;\n",
       "    }\n",
       "</style>\n",
       "<table border=\"1\" class=\"dataframe\">\n",
       "  <thead>\n",
       "    <tr style=\"text-align: right;\">\n",
       "      <th></th>\n",
       "      <th>id</th>\n",
       "      <th>Amplitude</th>\n",
       "      <th>ContamPct</th>\n",
       "      <th>KSLabel</th>\n",
       "      <th>amp</th>\n",
       "      <th>ch</th>\n",
       "      <th>depth</th>\n",
       "      <th>fr</th>\n",
       "      <th>group</th>\n",
       "      <th>n_spikes</th>\n",
       "      <th>...</th>\n",
       "      <th>isi_hist</th>\n",
       "      <th>violation_fraction</th>\n",
       "      <th>is_good</th>\n",
       "      <th>main_waveform</th>\n",
       "      <th>height</th>\n",
       "      <th>left_mh_x</th>\n",
       "      <th>right_mh_x</th>\n",
       "      <th>mh_width</th>\n",
       "      <th>mean_fr</th>\n",
       "      <th>mh_width_ms</th>\n",
       "    </tr>\n",
       "  </thead>\n",
       "  <tbody>\n",
       "    <tr>\n",
       "      <th>0</th>\n",
       "      <td>10</td>\n",
       "      <td>5259.8</td>\n",
       "      <td>100.0</td>\n",
       "      <td>mua</td>\n",
       "      <td>144.193878</td>\n",
       "      <td>12</td>\n",
       "      <td>20.0</td>\n",
       "      <td>1.434807</td>\n",
       "      <td>good</td>\n",
       "      <td>17672</td>\n",
       "      <td>...</td>\n",
       "      <td>([507, 515, 440, 437, 465, 488, 557, 612, 639,...</td>\n",
       "      <td>0.028689</td>\n",
       "      <td>True</td>\n",
       "      <td>[0.0, 0.0, 0.0, 0.0, 0.0, 0.0, 0.0, 0.0, 0.0, ...</td>\n",
       "      <td>0.566134</td>\n",
       "      <td>38</td>\n",
       "      <td>41</td>\n",
       "      <td>3</td>\n",
       "      <td>1.434807</td>\n",
       "      <td>90.0</td>\n",
       "    </tr>\n",
       "  </tbody>\n",
       "</table>\n",
       "<p>1 rows × 30 columns</p>\n",
       "</div>"
      ],
      "text/plain": [
       "   id  Amplitude  ContamPct KSLabel         amp  ch  depth        fr group  \\\n",
       "0  10     5259.8      100.0     mua  144.193878  12   20.0  1.434807  good   \n",
       "\n",
       "   n_spikes  ...                                           isi_hist  \\\n",
       "0     17672  ...  ([507, 515, 440, 437, 465, 488, 557, 612, 639,...   \n",
       "\n",
       "   violation_fraction is_good  \\\n",
       "0            0.028689    True   \n",
       "\n",
       "                                       main_waveform    height left_mh_x  \\\n",
       "0  [0.0, 0.0, 0.0, 0.0, 0.0, 0.0, 0.0, 0.0, 0.0, ...  0.566134        38   \n",
       "\n",
       "  right_mh_x mh_width   mean_fr mh_width_ms  \n",
       "0         41        3  1.434807        90.0  \n",
       "\n",
       "[1 rows x 30 columns]"
      ]
     },
     "execution_count": 15,
     "metadata": {},
     "output_type": "execute_result"
    }
   ],
   "source": [
    "clu_df.head(1)"
   ]
  },
  {
   "cell_type": "code",
   "execution_count": 16,
   "metadata": {},
   "outputs": [],
   "source": [
    "# #load the mic, pressure if any\n",
    "# mic_path = os.path.join(exp_struct['folders']['derived'], 'wav_mic.npy')\n",
    "# adc_path = os.path.join(exp_struct['folders']['derived'], 'wav_adc.npy')\n",
    "\n",
    "# mic_stream = np.memmap(adc_path)"
   ]
  },
  {
   "cell_type": "code",
   "execution_count": 17,
   "metadata": {},
   "outputs": [
    {
     "data": {
      "text/plain": [
       "Index(['start_ms', 'end_ms', 'start_sample', 'end_sample', 'p_step', 'rms_p',\n",
       "       'peak_p', 'bout_check', 'file', 'len_ms', 'syl_in', 'n_syl', 'peaks_p',\n",
       "       'n_peaks', 'l_p_ratio', 'waveform', 'confusing', 'valid_waveform',\n",
       "       'valid', 'spectrogram', 'is_call', 'bird', 'sess', 'epoch',\n",
       "       'start_sample_ap_0', 'start_sample_naive', 'start_ms_ap_0'],\n",
       "      dtype='object')"
      ]
     },
     "execution_count": 17,
     "metadata": {},
     "output_type": "execute_result"
    }
   ],
   "source": [
    "bout_df.keys()"
   ]
  },
  {
   "cell_type": "code",
   "execution_count": 18,
   "metadata": {},
   "outputs": [
    {
     "data": {
      "text/plain": [
       "dict_keys(['s_f', 's_f_nidq', 's_f_ap_0', 'start_ms', 'len_ms', 'start_sample_naive', 'start_sample_nidq', 'start_sample_wav', 'start_ms_ap_0', 'start_sample_ap_0'])"
      ]
     },
     "execution_count": 18,
     "metadata": {},
     "output_type": "execute_result"
    }
   ],
   "source": [
    "bout_dict.keys()"
   ]
  },
  {
   "cell_type": "markdown",
   "metadata": {},
   "source": [
    "### Visualize a bout together with the neural traces"
   ]
  },
  {
   "cell_type": "code",
   "execution_count": 19,
   "metadata": {},
   "outputs": [],
   "source": [
    "plt.rcParams['lines.linewidth'] = 0.1"
   ]
  },
  {
   "cell_type": "code",
   "execution_count": 20,
   "metadata": {},
   "outputs": [],
   "source": [
    "axes_pars = {'axes.labelpad': 5,\n",
    "             'axes.titlepad': 5,\n",
    "             'axes.titlesize': 'small',\n",
    "             'axes.grid': False,\n",
    "             'axes.xmargin': 0,\n",
    "             'axes.ymargin': 0}\n",
    "\n",
    "plt.rcParams.update(axes_pars)"
   ]
  },
  {
   "cell_type": "markdown",
   "metadata": {},
   "source": [
    "### collect all the bouts"
   ]
  },
  {
   "cell_type": "code",
   "execution_count": 21,
   "metadata": {},
   "outputs": [
    {
     "data": {
      "text/plain": [
       "{'s_f': 30000,\n",
       " 's_f_nidq': 30000.0,\n",
       " 's_f_ap_0': 30000.0,\n",
       " 'start_ms': array([ 7396079,  9588469,  7482809,  8699234,  6309826,  6039071,\n",
       "        10005551,  6188841,  8028629,  6683961,  6573616,  7173531,\n",
       "         9159904,  7890864,  7048151,  6754641,  7266466, 11610796,\n",
       "         7670599,  5958646,  4528748,  6481841,  7724489, 10549866,\n",
       "         9347599,  7965044,  6977746,  7785329,  9948701, 11550281,\n",
       "         5907571, 11303986,  7858574,  7106146,  5859571,  7617004,\n",
       "         6631636,  5791111,  7158706, 11530976,  8245669,  8676424,\n",
       "         6743616,  8268184,  8918739,  7038141,  7647009,  6969811,\n",
       "         5834666,  7149326,  6676751,  8667909,  7349131,  6303031]),\n",
       " 'len_ms': array([55615, 52120, 51495, 50660, 50430, 43845, 43745, 41935, 41795,\n",
       "        41790, 41420, 40005, 38590, 37855, 37710, 37515, 37150, 36970,\n",
       "        36345, 36200, 35725, 35685, 35005, 34360, 34140, 33975, 32310,\n",
       "        31995, 31885, 31805, 30200, 28755, 25895, 25370, 24985, 24310,\n",
       "        22595, 21885,  9920,  8985,  8930,  7370,  7335,  7085,  6765,\n",
       "         6590,  4680,  4270,  3910,  3770,  3575,  3480,  3110,  3045]),\n",
       " 'start_sample_naive': array([221882370, 287654070, 224484270, 260977020, 189294780, 181172130,\n",
       "        300166530, 185665230, 240858870, 200518830, 197208480, 215205930,\n",
       "        274797120, 236725920, 211444530, 202639230, 217993980, 348323880,\n",
       "        230117970, 178759380, 135862440, 194455230, 231734670, 316495980,\n",
       "        280427970, 238951320, 209332380, 233559870, 298461030, 346508430,\n",
       "        177227130, 339119580, 235757220, 213184380, 175787130, 228510120,\n",
       "        198949080, 173733330, 214761180, 345929280, 247370070, 260292720,\n",
       "        202308480, 248045520, 267562170, 211144230, 229410270, 209094330,\n",
       "        175039980, 214479780, 200302530, 260037270, 220473930, 189090930]),\n",
       " 'start_sample_nidq': array([221882370, 287654070, 224484270, 260977020, 189294780, 181172130,\n",
       "        300166530, 185665230, 240858870, 200518830, 197208480, 215205930,\n",
       "        274797120, 236725920, 211444530, 202639230, 217993980, 348323880,\n",
       "        230117970, 178759380, 135862440, 194455230, 231734670, 316495980,\n",
       "        280427970, 238951320, 209332380, 233559870, 298461030, 346508430,\n",
       "        177227130, 339119580, 235757220, 213184380, 175787130, 228510120,\n",
       "        198949080, 173733330, 214761180, 345929280, 247370070, 260292720,\n",
       "        202308480, 248045520, 267562170, 211144230, 229410270, 209094330,\n",
       "        175039980, 214479780, 200302530, 260037270, 220473930, 189090930]),\n",
       " 'start_sample_wav': array([221882370, 287654070, 224484270, 260977020, 189294780, 181172130,\n",
       "        300166530, 185665230, 240858870, 200518830, 197208480, 215205930,\n",
       "        274797120, 236725920, 211444530, 202639230, 217993980, 348323880,\n",
       "        230117970, 178759380, 135862440, 194455230, 231734670, 316495980,\n",
       "        280427970, 238951320, 209332380, 233559870, 298461030, 346508430,\n",
       "        177227130, 339119580, 235757220, 213184380, 175787130, 228510120,\n",
       "        198949080, 173733330, 214761180, 345929280, 247370070, 260292720,\n",
       "        202308480, 248045520, 267562170, 211144230, 229410270, 209094330,\n",
       "        175039980, 214479780, 200302530, 260037270, 220473930, 189090930]),\n",
       " 'start_ms_ap_0': array([ 7396079,  9588469,  7482809,  8699234,  6309826,  6039071,\n",
       "        10005551,  6188841,  8028629,  6683961,  6573616,  7173531,\n",
       "         9159904,  7890864,  7048151,  6754641,  7266466, 11610796,\n",
       "         7670599,  5958646,  4528748,  6481841,  7724489, 10549866,\n",
       "         9347599,  7965044,  6977746,  7785329,  9948701, 11550281,\n",
       "         5907571, 11303986,  7858574,  7106146,  5859571,  7617004,\n",
       "         6631636,  5791111,  7158706, 11530976,  8245669,  8676424,\n",
       "         6743616,  8268184,  8918739,  7038141,  7647009,  6969811,\n",
       "         5834666,  7149326,  6676751,  8667909,  7349131,  6303031]),\n",
       " 'start_sample_ap_0': array([221882370, 287654070, 224484270, 260977020, 189294780, 181172130,\n",
       "        300166530, 185665230, 240858870, 200518830, 197208480, 215205930,\n",
       "        274797120, 236725920, 211444530, 202639230, 217993980, 348323880,\n",
       "        230117970, 178759380, 135862440, 194455230, 231734670, 316495980,\n",
       "        280427970, 238951320, 209332380, 233559870, 298461030, 346508430,\n",
       "        177227130, 339119580, 235757220, 213184380, 175787130, 228510120,\n",
       "        198949080, 173733330, 214761180, 345929280, 247370070, 260292720,\n",
       "        202308480, 248045520, 267562170, 211144230, 229410270, 209094330,\n",
       "        175039980, 214479780, 200302530, 260037270, 220473930, 189090930])}"
      ]
     },
     "execution_count": 21,
     "metadata": {},
     "output_type": "execute_result"
    }
   ],
   "source": [
    "bout_dict"
   ]
  },
  {
   "cell_type": "code",
   "execution_count": 22,
   "metadata": {},
   "outputs": [
    {
     "data": {
      "text/plain": [
       "dict_keys(['s_f', 's_f_nidq', 's_f_ap_0', 'start_ms', 'len_ms', 'start_sample_naive', 'start_sample_nidq', 'start_sample_wav', 'start_ms_ap_0', 'start_sample_ap_0'])"
      ]
     },
     "execution_count": 22,
     "metadata": {},
     "output_type": "execute_result"
    }
   ],
   "source": [
    "bout_dict.keys()"
   ]
  },
  {
   "cell_type": "code",
   "execution_count": 23,
   "metadata": {},
   "outputs": [],
   "source": [
    "def collect_bouts_df(bout_df, bout_dict, spk_df, clu_list, mic_stream, pre_stream=None, t_pre=-2, t_post=2):\n",
    "    # get t_pre, t_post in samples for wav, ap\n",
    "    # tet start_end samples for each\n",
    "    # collect the spikes\n",
    "    # collect the streams\n",
    "    bout_dict['t_pre'] = t_pre\n",
    "    bout_dict['t_post'] = t_post\n",
    "    \n",
    "    sf_ap = bout_dict['s_f_ap_0']\n",
    "    sf = bout_dict['s_f']\n",
    "    \n",
    "    pre_ap, post_ap = [int(x * sf_ap) for x in [t_pre, t_post]]\n",
    "    pre_wav, post_wav = [int(x * sf) for x in [t_pre, t_post]]\n",
    "    \n",
    "    bout_df['len_sample_ap_0'] = (bout_df['len_ms'] * sf_ap * 0.001).astype(int)\n",
    "    bout_df['end_sample_ap_0'] = bout_df['start_sample_ap_0'] + bout_df['len_sample_ap_0']\n",
    "\n",
    "    bout_df['spk_arr'] = bout_df.apply(lambda x: ks.get_window_spikes(spk_df, clu_list, \n",
    "                                                                      x['start_sample_ap_0'] + pre_ap, \n",
    "                                                                      x['end_sample_ap_0'] + post_ap), \n",
    "                                       axis=1)\n",
    "\n",
    "    bout_df['mic_arr'] = bout_df.apply(lambda x: mic_stream[x['start_sample']+pre_wav: x['end_sample']+post_wav], \n",
    "                                       axis=1)\n",
    "    if pre_stream is not None:\n",
    "        bout_df['pre_arr'] = bout_df.apply(lambda x: pre_stream[x['start_sample']+pre_wav: x['end_sample']+post_wav],\n",
    "                                           axis=1)\n",
    "    else:\n",
    "        bout_df['pre_arr'] = bout_df['mic_arr']\n",
    "    \n",
    "    # while we are at it, compute the spectrograms (ms scale)\n",
    "    bout_df['sxx'] = bout_df['mic_arr'].apply(lambda x: sp.ms_spectrogram(x.flatten(), sf))\n",
    "    \n",
    "    # split the spectrogram to be able to work with hdf5 save/load.\n",
    "    # don't want to be saving tuples, rather arrays\n",
    "    bout_df[['f_xx', 't_xx', 's_xx']] = pd.DataFrame(bout_df['sxx'].tolist(), index=bout_df.index)\n",
    "    \n",
    "    bout_df['clu_id_arr'] = [clu_list for x in bout_df.index]\n",
    "    \n",
    "    return bout_df"
   ]
  },
  {
   "cell_type": "code",
   "execution_count": 24,
   "metadata": {},
   "outputs": [],
   "source": [
    "### one spk_arr\n",
    "# mot_idx = 0\n",
    "\n",
    "# start_ap = bout_df.loc[mot_idx, 'start_sample_ap_0']\n",
    "# end_ap = bout_df.loc[mot_idx, 'end_sample_ap_0']\n",
    "\n",
    "# spk_arr = ks.get_window_spikes(spk_df, clu_list, start_ap - 60000 , end_ap+60000)"
   ]
  },
  {
   "cell_type": "code",
   "execution_count": 25,
   "metadata": {},
   "outputs": [
    {
     "data": {
      "text/plain": [
       "array([ 1,  3,  5,  6,  7,  8,  9, 10, 11, 12, 13, 14, 16, 17, 18, 19, 20,\n",
       "       21, 22, 25, 26, 27, 28, 29, 30, 31, 32, 33, 34, 35, 36, 37, 38, 39,\n",
       "       40, 41, 42, 43, 44, 45, 46, 47, 49, 51, 52, 55, 56, 57, 58, 59, 60,\n",
       "       61, 62, 63, 64, 65, 66, 67, 70, 72, 73])"
      ]
     },
     "execution_count": 25,
     "metadata": {},
     "output_type": "execute_result"
    }
   ],
   "source": [
    "clu_list = np.unique(clu_df.loc[(clu_df['MSLabel'].isin(['good', 'mua'])) & (clu_df['nucleus'].isin(['hvc'])), \n",
    "                                'cluster_id'])\n",
    "clu_list"
   ]
  },
  {
   "cell_type": "code",
   "execution_count": 26,
   "metadata": {},
   "outputs": [
    {
     "name": "stderr",
     "output_type": "stream",
     "text": [
      "/mnt/cube/earneodo/repos/ceciestunepipe/ceciestunepipe/util/spike/kilosort.py:110: FutureWarning: Boolean inputs to the `inclusive` argument are deprecated in favour of `both` or `neither`.\n",
      "  spk_t = spk_df.loc[spk_df['times'].between(onset, offset, inclusive=False)]\n"
     ]
    }
   ],
   "source": [
    "t_pre = - 5\n",
    "t_post = 5\n",
    "\n",
    "bout_df = collect_bouts_df(bout_df, bout_dict, spk_df, clu_list, mic_stream, None, \n",
    "                           t_pre=t_pre, t_post=t_post)"
   ]
  },
  {
   "cell_type": "code",
   "execution_count": 27,
   "metadata": {},
   "outputs": [
    {
     "data": {
      "text/plain": [
       "54"
      ]
     },
     "execution_count": 27,
     "metadata": {},
     "output_type": "execute_result"
    }
   ],
   "source": [
    "bout_df.index.size"
   ]
  },
  {
   "cell_type": "markdown",
   "metadata": {},
   "source": [
    "##### sanity check, plot one of the bout-rasters"
   ]
  },
  {
   "cell_type": "code",
   "execution_count": 28,
   "metadata": {},
   "outputs": [
    {
     "data": {
      "image/png": "[encoded data removed]",
      "text/plain": [
       "<Figure size 720x1584 with 3 Axes>"
      ]
     },
     "metadata": {
      "needs_background": "light"
     },
     "output_type": "display_data"
    }
   ],
   "source": [
    "def plot_bout(bout_series, bout_dict):\n",
    "    # get the raster, the spectrogram and the pressure\n",
    "    \n",
    "    t_pre = bout_dict['t_pre']\n",
    "    s_f_ap = bout_dict['s_f_ap_0']\n",
    "    s_f = bout_dict['s_f']\n",
    "    \n",
    "    mic_arr = bout_series['mic_arr']\n",
    "    pre_arr = bout_series['pre_arr']\n",
    "    spk_arr = bout_series['spk_arr']\n",
    "    # plot\n",
    "    \n",
    "    fig, ax = plt.subplots(nrows=3, gridspec_kw={'height_ratios': [1, 1, 10]}, figsize=(10, 22))\n",
    "\n",
    "    f, t, sxx = sp.ms_spectrogram(mic_arr.flatten(), s_f)\n",
    "\n",
    "    #ax[0].plot(mic_arr.flatten())\n",
    "    ax[0].pcolormesh(t, f, np.log(sxx), cmap='inferno')\n",
    "    ax[1].plot(pre_arr.flatten());\n",
    "    pu.plot_as_raster(spk_arr, t_0=int(-t_pre*s_f_ap), ax=ax[2])\n",
    "    \n",
    "plot_bout(bout_df.iloc[0], bout_dict)"
   ]
  },
  {
   "cell_type": "code",
   "execution_count": 29,
   "metadata": {},
   "outputs": [
    {
     "data": {
      "text/plain": [
       "<AxesSubplot:>"
      ]
     },
     "execution_count": 29,
     "metadata": {},
     "output_type": "execute_result"
    },
    {
     "data": {
      "image/png": "[encoded data removed]",
      "text/plain": [
       "<Figure size 432x288 with 1 Axes>"
      ]
     },
     "metadata": {
      "needs_background": "light"
     },
     "output_type": "display_data"
    }
   ],
   "source": [
    "pu.plot_as_raster(bout_df.iloc[0]['spk_arr'])"
   ]
  },
  {
   "cell_type": "markdown",
   "metadata": {},
   "source": [
    "### get all the gpfa"
   ]
  },
  {
   "cell_type": "code",
   "execution_count": 30,
   "metadata": {},
   "outputs": [],
   "source": [
    "import neo\n",
    "import quantities as pq\n",
    "from elephant.gpfa import GPFA\n",
    "import viziphant as vp"
   ]
  },
  {
   "cell_type": "markdown",
   "metadata": {},
   "source": [
    "Elephant wants nested lists of SpikeTrain objects.\n",
    "[n_trials, n_spiketrains, n_spikes] (each spike is a time where a spike occurred)\n",
    "\n",
    "The strategy is to do all the spiketrains, do the fit, then project each array and store that in the pandas dataframe bout_df"
   ]
  },
  {
   "cell_type": "code",
   "execution_count": 31,
   "metadata": {},
   "outputs": [],
   "source": [
    "def spike_trains_from_spk_arr(spk_arr, s_f=30000):\n",
    "    # get the time of the spikes\n",
    "    # make a neo SpikeTrain for each cluster\n",
    "    t_stop = spk_arr.shape[1]/s_f\n",
    "    spk_train_list = [neo.SpikeTrain(times=np.where(x==1)[0]/s_f, units='sec', t_stop=t_stop) for x in spk_arr]\n",
    "    \n",
    "    return spk_train_list"
   ]
  },
  {
   "cell_type": "code",
   "execution_count": 32,
   "metadata": {},
   "outputs": [],
   "source": [
    "bout_df['spk_train'] = bout_df['spk_arr'].apply(lambda x: spike_trains_from_spk_arr(x, bout_dict['s_f_ap_0']))"
   ]
  },
  {
   "cell_type": "code",
   "execution_count": 33,
   "metadata": {},
   "outputs": [],
   "source": [
    "all_spk_train_list = list(bout_df['spk_train'])"
   ]
  },
  {
   "cell_type": "code",
   "execution_count": 95,
   "metadata": {},
   "outputs": [],
   "source": [
    "# specify fitting parameters\n",
    "bin_size = 15 * pq.ms\n",
    "latent_dimensionality = 8\n",
    "\n",
    "gpfa_2dim = GPFA(bin_size=bin_size, x_dim=latent_dimensionality)"
   ]
  },
  {
   "cell_type": "code",
   "execution_count": 96,
   "metadata": {
    "scrolled": true
   },
   "outputs": [
    {
     "name": "stderr",
     "output_type": "stream",
     "text": [
      "/home/earneodo/anaconda3/envs/unepipe/lib/python3.8/site-packages/elephant/conversion.py:1168: UserWarning: Binning discarded 1 last spike(s) of the input spiketrain\n",
      "  warnings.warn(\"Binning discarded {} last spike(s) of the \"\n",
      "/home/earneodo/anaconda3/envs/unepipe/lib/python3.8/site-packages/elephant/conversion.py:1168: UserWarning: Binning discarded 2 last spike(s) of the input spiketrain\n",
      "  warnings.warn(\"Binning discarded {} last spike(s) of the \"\n",
      "/home/earneodo/anaconda3/envs/unepipe/lib/python3.8/site-packages/elephant/conversion.py:1168: UserWarning: Binning discarded 3 last spike(s) of the input spiketrain\n",
      "  warnings.warn(\"Binning discarded {} last spike(s) of the \"\n",
      "/home/earneodo/anaconda3/envs/unepipe/lib/python3.8/site-packages/elephant/conversion.py:1168: UserWarning: Binning discarded 4 last spike(s) of the input spiketrain\n",
      "  warnings.warn(\"Binning discarded {} last spike(s) of the \"\n"
     ]
    },
    {
     "name": "stdout",
     "output_type": "stream",
     "text": [
      "Initializing parameters using factor analysis...\n",
      "\n",
      "Fitting GPFA model...\n"
     ]
    },
    {
     "name": "stderr",
     "output_type": "stream",
     "text": [
      "/home/earneodo/anaconda3/envs/unepipe/lib/python3.8/site-packages/elephant/conversion.py:1168: UserWarning: Binning discarded 1 last spike(s) of the input spiketrain\n",
      "  warnings.warn(\"Binning discarded {} last spike(s) of the \"\n",
      "/home/earneodo/anaconda3/envs/unepipe/lib/python3.8/site-packages/elephant/conversion.py:1168: UserWarning: Binning discarded 2 last spike(s) of the input spiketrain\n",
      "  warnings.warn(\"Binning discarded {} last spike(s) of the \"\n",
      "/home/earneodo/anaconda3/envs/unepipe/lib/python3.8/site-packages/elephant/conversion.py:1168: UserWarning: Binning discarded 3 last spike(s) of the input spiketrain\n",
      "  warnings.warn(\"Binning discarded {} last spike(s) of the \"\n",
      "/home/earneodo/anaconda3/envs/unepipe/lib/python3.8/site-packages/elephant/conversion.py:1168: UserWarning: Binning discarded 4 last spike(s) of the input spiketrain\n",
      "  warnings.warn(\"Binning discarded {} last spike(s) of the \"\n"
     ]
    },
    {
     "name": "stdout",
     "output_type": "stream",
     "text": [
      "dict_keys(['covType', 'gamma', 'eps', 'd', 'C', 'R', 'notes', 'Corth'])\n"
     ]
    }
   ],
   "source": [
    "## fit and project\n",
    "all_spk_train_list = list(bout_df['spk_train'])\n",
    "all_fit_list = gpfa_2dim.fit_transform(list(bout_df['spk_train']))\n",
    "bout_df['spk_gpf'] = all_fit_list\n",
    "\n",
    "print(gpfa_2dim.params_estimated.keys())"
   ]
  },
  {
   "cell_type": "code",
   "execution_count": 97,
   "metadata": {},
   "outputs": [],
   "source": [
    "### project \n",
    "#all_fit_list = gpfa_2dim.transform(all_spk_train_list)"
   ]
  },
  {
   "cell_type": "code",
   "execution_count": 98,
   "metadata": {},
   "outputs": [],
   "source": [
    "#### plot some"
   ]
  },
  {
   "cell_type": "code",
   "execution_count": 99,
   "metadata": {},
   "outputs": [],
   "source": [
    "### a better spectrogram\n",
    "def kozlov_averaging(spec, n_rows=2, n_cols=3):\n",
    "    '''\n",
    "    Average rows and columns of spectrogram according to Kozlov & Gentner 2016 \n",
    "    In Andrei's paper he averaged twice along rows(frequency bins) and three times\n",
    "    across columns (time bins).\n",
    "    n_rows specifies how many times to average rows pairwise, and n_cols specifies how many times\n",
    "    to average columsn pairwise.\n",
    "    '''\n",
    "    spec_c = np.copy(spec)\n",
    "\n",
    "    for idx in range(n_rows):\n",
    "        spec_c = avg_pairwise(spec_c, axis=0)\n",
    "\n",
    "    for idx in range(n_cols):\n",
    "        spec_c = avg_pairwise(spec_c, axis=1)\n",
    "\n",
    "    return spec_c\n",
    "\n",
    "def ms_spectrogram(x, s_f, n_window=512, step_ms=1, f_min=0, f_max=20000, \n",
    "                     ref_db=20, min_db=-30, avg_func=None):\n",
    "    \n",
    "    ### spectrogram\n",
    "    f, t, sxx = sp.ms_spectrogram(x, s_f, n_window=n_window, step_ms=step_ms, \n",
    "                                  f_min=f_min, f_max=f_max, cut_off=0)\n",
    "    \n",
    "    spec = 10*np.log10(np.maximum(1e-5, sxx[1:, :])) - ref_db\n",
    "    f = f[1:]\n",
    "    \n",
    "    # average, if specified\n",
    "    if avg_func is not None:\n",
    "        spec = avg_func(spec)\n",
    "\n",
    "    # normalize\n",
    "    spec = np.clip((spec - min_db) / (-1.0*min_db), 0, 1)\n",
    "    \n",
    "    spec[spec==np.nan] = 1\n",
    "    return f, t, spec\n",
    "\n",
    "bout_df['sxx'] = bout_df['mic_arr'].apply(lambda x: sp.ms_spectrogram(x.flatten(), bout_dict['s_f']))"
   ]
  },
  {
   "cell_type": "code",
   "execution_count": 100,
   "metadata": {},
   "outputs": [],
   "source": [
    "#### get the PC of the spectrogram.\n",
    "\n",
    "## cat all spectrogram to make a fit\n",
    "## project each pc\n",
    "\n",
    "from sklearn.decomposition import PCA\n",
    "\n",
    "pca = PCA(n_components=3, svd_solver='full')\n",
    "\n",
    "all_x = np.hstack(bout_df['sxx'].apply(lambda x: x[2]))\n",
    "all_x[all_x==np.nan] = 1 ### better do a zscore\n",
    "\n",
    "# fit all\n",
    "pca.fit(np.log(all_x.T))\n",
    "\n",
    "# project all\n",
    "bout_df['sxx_pc'] = bout_df['sxx'].apply(lambda x: pca.transform(np.log(x[2].T)))"
   ]
  },
  {
   "cell_type": "code",
   "execution_count": 101,
   "metadata": {},
   "outputs": [
    {
     "data": {
      "text/plain": [
       "[<matplotlib.lines.Line2D at 0x7f35b477b820>]"
      ]
     },
     "execution_count": 101,
     "metadata": {},
     "output_type": "execute_result"
    },
    {
     "data": {
      "image/png": "[encoded data removed]",
      "text/plain": [
       "<Figure size 432x288 with 1 Axes>"
      ]
     },
     "metadata": {
      "needs_background": "light"
     },
     "output_type": "display_data"
    }
   ],
   "source": [
    "###filter the presure\n",
    "import scipy\n",
    "b, a = scipy.signal.butter(4, 1000, 'lp', fs=bout_dict['s_f'], output='ba')\n",
    "\n",
    "bout_df['pre_filt'] = bout_df['pre_arr'].apply(lambda x: signal.filtfilt(b, a, x))\n",
    "\n",
    "plt.plot(bout_df.iloc[5]['pre_arr'])\n",
    "plt.plot(bout_df.iloc[5]['pre_filt'], lw=1)"
   ]
  },
  {
   "cell_type": "code",
   "execution_count": 102,
   "metadata": {},
   "outputs": [],
   "source": [
    "%matplotlib inline"
   ]
  },
  {
   "cell_type": "code",
   "execution_count": 38,
   "metadata": {},
   "outputs": [
    {
     "ename": "KeyError",
     "evalue": "'sxx_pc'",
     "output_type": "error",
     "traceback": [
      "\u001b[0;31m---------------------------------------------------------------------------\u001b[0m",
      "\u001b[0;31mKeyError\u001b[0m                                  Traceback (most recent call last)",
      "File \u001b[0;32m~/anaconda3/envs/unepipe/lib/python3.8/site-packages/pandas/core/indexes/base.py:3621\u001b[0m, in \u001b[0;36mIndex.get_loc\u001b[0;34m(self, key, method, tolerance)\u001b[0m\n\u001b[1;32m   3620\u001b[0m \u001b[38;5;28;01mtry\u001b[39;00m:\n\u001b[0;32m-> 3621\u001b[0m     \u001b[38;5;28;01mreturn\u001b[39;00m \u001b[38;5;28;43mself\u001b[39;49m\u001b[38;5;241;43m.\u001b[39;49m\u001b[43m_engine\u001b[49m\u001b[38;5;241;43m.\u001b[39;49m\u001b[43mget_loc\u001b[49m\u001b[43m(\u001b[49m\u001b[43mcasted_key\u001b[49m\u001b[43m)\u001b[49m\n\u001b[1;32m   3622\u001b[0m \u001b[38;5;28;01mexcept\u001b[39;00m \u001b[38;5;167;01mKeyError\u001b[39;00m \u001b[38;5;28;01mas\u001b[39;00m err:\n",
      "File \u001b[0;32m~/anaconda3/envs/unepipe/lib/python3.8/site-packages/pandas/_libs/index.pyx:136\u001b[0m, in \u001b[0;36mpandas._libs.index.IndexEngine.get_loc\u001b[0;34m()\u001b[0m\n",
      "File \u001b[0;32m~/anaconda3/envs/unepipe/lib/python3.8/site-packages/pandas/_libs/index.pyx:163\u001b[0m, in \u001b[0;36mpandas._libs.index.IndexEngine.get_loc\u001b[0;34m()\u001b[0m\n",
      "File \u001b[0;32mpandas/_libs/hashtable_class_helper.pxi:5198\u001b[0m, in \u001b[0;36mpandas._libs.hashtable.PyObjectHashTable.get_item\u001b[0;34m()\u001b[0m\n",
      "File \u001b[0;32mpandas/_libs/hashtable_class_helper.pxi:5206\u001b[0m, in \u001b[0;36mpandas._libs.hashtable.PyObjectHashTable.get_item\u001b[0;34m()\u001b[0m\n",
      "\u001b[0;31mKeyError\u001b[0m: 'sxx_pc'",
      "\nThe above exception was the direct cause of the following exception:\n",
      "\u001b[0;31mKeyError\u001b[0m                                  Traceback (most recent call last)",
      "Input \u001b[0;32mIn [38]\u001b[0m, in \u001b[0;36m<cell line: 34>\u001b[0;34m()\u001b[0m\n\u001b[1;32m     29\u001b[0m         ax_i\u001b[38;5;241m.\u001b[39mset_yticks([])\n\u001b[1;32m     31\u001b[0m     \u001b[38;5;28;01mreturn\u001b[39;00m ax\n\u001b[0;32m---> 34\u001b[0m ax \u001b[38;5;241m=\u001b[39m \u001b[43mplot_bout_projections\u001b[49m\u001b[43m(\u001b[49m\u001b[43mbout_df\u001b[49m\u001b[38;5;241;43m.\u001b[39;49m\u001b[43miloc\u001b[49m\u001b[43m[\u001b[49m\u001b[38;5;241;43m35\u001b[39;49m\u001b[43m]\u001b[49m\u001b[43m)\u001b[49m\n",
      "Input \u001b[0;32mIn [38]\u001b[0m, in \u001b[0;36mplot_bout_projections\u001b[0;34m(bout_series)\u001b[0m\n\u001b[1;32m      2\u001b[0m \u001b[38;5;28;01mdef\u001b[39;00m \u001b[38;5;21mplot_bout_projections\u001b[39m(bout_series):\n\u001b[0;32m----> 3\u001b[0m     sxx_pc \u001b[38;5;241m=\u001b[39m \u001b[43mbout_series\u001b[49m\u001b[43m[\u001b[49m\u001b[38;5;124;43m'\u001b[39;49m\u001b[38;5;124;43msxx_pc\u001b[39;49m\u001b[38;5;124;43m'\u001b[39;49m\u001b[43m]\u001b[49m\n\u001b[1;32m      4\u001b[0m     gpf \u001b[38;5;241m=\u001b[39m bout_series[\u001b[38;5;124m'\u001b[39m\u001b[38;5;124mspk_gpf\u001b[39m\u001b[38;5;124m'\u001b[39m]\n\u001b[1;32m      5\u001b[0m     pre_arr \u001b[38;5;241m=\u001b[39m bout_series[\u001b[38;5;124m'\u001b[39m\u001b[38;5;124mpre_filt\u001b[39m\u001b[38;5;124m'\u001b[39m]\n",
      "File \u001b[0;32m~/anaconda3/envs/unepipe/lib/python3.8/site-packages/pandas/core/series.py:958\u001b[0m, in \u001b[0;36mSeries.__getitem__\u001b[0;34m(self, key)\u001b[0m\n\u001b[1;32m    955\u001b[0m     \u001b[38;5;28;01mreturn\u001b[39;00m \u001b[38;5;28mself\u001b[39m\u001b[38;5;241m.\u001b[39m_values[key]\n\u001b[1;32m    957\u001b[0m \u001b[38;5;28;01melif\u001b[39;00m key_is_scalar:\n\u001b[0;32m--> 958\u001b[0m     \u001b[38;5;28;01mreturn\u001b[39;00m \u001b[38;5;28;43mself\u001b[39;49m\u001b[38;5;241;43m.\u001b[39;49m\u001b[43m_get_value\u001b[49m\u001b[43m(\u001b[49m\u001b[43mkey\u001b[49m\u001b[43m)\u001b[49m\n\u001b[1;32m    960\u001b[0m \u001b[38;5;28;01mif\u001b[39;00m is_hashable(key):\n\u001b[1;32m    961\u001b[0m     \u001b[38;5;66;03m# Otherwise index.get_value will raise InvalidIndexError\u001b[39;00m\n\u001b[1;32m    962\u001b[0m     \u001b[38;5;28;01mtry\u001b[39;00m:\n\u001b[1;32m    963\u001b[0m         \u001b[38;5;66;03m# For labels that don't resolve as scalars like tuples and frozensets\u001b[39;00m\n",
      "File \u001b[0;32m~/anaconda3/envs/unepipe/lib/python3.8/site-packages/pandas/core/series.py:1069\u001b[0m, in \u001b[0;36mSeries._get_value\u001b[0;34m(self, label, takeable)\u001b[0m\n\u001b[1;32m   1066\u001b[0m     \u001b[38;5;28;01mreturn\u001b[39;00m \u001b[38;5;28mself\u001b[39m\u001b[38;5;241m.\u001b[39m_values[label]\n\u001b[1;32m   1068\u001b[0m \u001b[38;5;66;03m# Similar to Index.get_value, but we do not fall back to positional\u001b[39;00m\n\u001b[0;32m-> 1069\u001b[0m loc \u001b[38;5;241m=\u001b[39m \u001b[38;5;28;43mself\u001b[39;49m\u001b[38;5;241;43m.\u001b[39;49m\u001b[43mindex\u001b[49m\u001b[38;5;241;43m.\u001b[39;49m\u001b[43mget_loc\u001b[49m\u001b[43m(\u001b[49m\u001b[43mlabel\u001b[49m\u001b[43m)\u001b[49m\n\u001b[1;32m   1070\u001b[0m \u001b[38;5;28;01mreturn\u001b[39;00m \u001b[38;5;28mself\u001b[39m\u001b[38;5;241m.\u001b[39mindex\u001b[38;5;241m.\u001b[39m_get_values_for_loc(\u001b[38;5;28mself\u001b[39m, loc, label)\n",
      "File \u001b[0;32m~/anaconda3/envs/unepipe/lib/python3.8/site-packages/pandas/core/indexes/base.py:3623\u001b[0m, in \u001b[0;36mIndex.get_loc\u001b[0;34m(self, key, method, tolerance)\u001b[0m\n\u001b[1;32m   3621\u001b[0m     \u001b[38;5;28;01mreturn\u001b[39;00m \u001b[38;5;28mself\u001b[39m\u001b[38;5;241m.\u001b[39m_engine\u001b[38;5;241m.\u001b[39mget_loc(casted_key)\n\u001b[1;32m   3622\u001b[0m \u001b[38;5;28;01mexcept\u001b[39;00m \u001b[38;5;167;01mKeyError\u001b[39;00m \u001b[38;5;28;01mas\u001b[39;00m err:\n\u001b[0;32m-> 3623\u001b[0m     \u001b[38;5;28;01mraise\u001b[39;00m \u001b[38;5;167;01mKeyError\u001b[39;00m(key) \u001b[38;5;28;01mfrom\u001b[39;00m \u001b[38;5;21;01merr\u001b[39;00m\n\u001b[1;32m   3624\u001b[0m \u001b[38;5;28;01mexcept\u001b[39;00m \u001b[38;5;167;01mTypeError\u001b[39;00m:\n\u001b[1;32m   3625\u001b[0m     \u001b[38;5;66;03m# If we have a listlike key, _check_indexing_error will raise\u001b[39;00m\n\u001b[1;32m   3626\u001b[0m     \u001b[38;5;66;03m#  InvalidIndexError. Otherwise we fall through and re-raise\u001b[39;00m\n\u001b[1;32m   3627\u001b[0m     \u001b[38;5;66;03m#  the TypeError.\u001b[39;00m\n\u001b[1;32m   3628\u001b[0m     \u001b[38;5;28mself\u001b[39m\u001b[38;5;241m.\u001b[39m_check_indexing_error(key)\n",
      "\u001b[0;31mKeyError\u001b[0m: 'sxx_pc'"
     ]
    }
   ],
   "source": [
    "### se them together all for a bout now\n",
    "def plot_bout_projections(bout_series):\n",
    "    sxx_pc = bout_series['sxx_pc']\n",
    "    gpf = bout_series['spk_gpf']\n",
    "    pre_arr = bout_series['pre_filt']\n",
    "    mic_arr = bout_series['mic_arr']\n",
    "    \n",
    "    f, t, sxx = bout_series['sxx']\n",
    "    \n",
    "    fig, ax = plt.subplots(nrows=5, ncols=1, figsize=(12, 8));\n",
    "\n",
    "    ax[0].pcolormesh(t, f, np.log(sxx), cmap='inferno', rasterized=True)\n",
    "    ax[0].set_xlabel('t (s)')\n",
    "    \n",
    "    ax[1].plot((np.abs(mic_arr)), 'k');\n",
    "    ax[1].set_ylabel('sound amplitude (arb)')\n",
    "\n",
    "    ax[2].set_title('spectrogram PC')\n",
    "    ax[2].plot(sxx_pc, lw=1);\n",
    "\n",
    "    ax[3].set_title('HVC GPFA');\n",
    "    ax[3].plot(gpf[:3].T, lw=1);\n",
    "\n",
    "    ax[4].set_title('sound pressure');\n",
    "    ax[4].plot(pre_arr, lw=1);\n",
    "    \n",
    "    for ax_i in ax[1:]:\n",
    "        ax_i.set_xticks([])\n",
    "        ax_i.set_yticks([])\n",
    "    \n",
    "    return ax\n",
    "\n",
    "\n",
    "ax = plot_bout_projections(bout_df.iloc[35])"
   ]
  },
  {
   "cell_type": "code",
   "execution_count": 115,
   "metadata": {},
   "outputs": [
    {
     "name": "stderr",
     "output_type": "stream",
     "text": [
      "2022-08-30 14:14:27,140 root         INFO     saved figures in /mnt/sphere/speech_bci/derived_data/s_b1555_22/2022-08-17/oe/2022-08-17_12-38-44_550/bout_1_gpfa_sua\n"
     ]
    }
   ],
   "source": [
    "fig = ax[0].get_figure()\n",
    "fig_path = os.path.join(exp_struct['folders']['derived'], 'bout_1_gpfa_sua')\n",
    "fig.savefig(fig_path+'.png')\n",
    "fig.savefig(fig_path+'.eps')\n",
    "logger.info('saved figures in ' + fig_path)"
   ]
  },
  {
   "cell_type": "code",
   "execution_count": 36,
   "metadata": {},
   "outputs": [],
   "source": [
    "%matplotlib notebook"
   ]
  },
  {
   "cell_type": "code",
   "execution_count": 37,
   "metadata": {},
   "outputs": [],
   "source": [
    "#bout_df.to_hdf(bout_df_path, 'gpfa')"
   ]
  },
  {
   "cell_type": "code",
   "execution_count": 38,
   "metadata": {},
   "outputs": [],
   "source": [
    "### bring it dask because shit got big"
   ]
  },
  {
   "cell_type": "code",
   "execution_count": null,
   "metadata": {},
   "outputs": [],
   "source": [
    "bout_df['p_step'].values.shape"
   ]
  },
  {
   "cell_type": "code",
   "execution_count": null,
   "metadata": {},
   "outputs": [],
   "source": [
    "bout_df['s_xx'].values[2].shape"
   ]
  },
  {
   "cell_type": "code",
   "execution_count": null,
   "metadata": {},
   "outputs": [],
   "source": [
    "bout_df.loc[0]"
   ]
  },
  {
   "cell_type": "code",
   "execution_count": null,
   "metadata": {},
   "outputs": [],
   "source": [
    "bout_df.keys()"
   ]
  },
  {
   "cell_type": "code",
   "execution_count": null,
   "metadata": {},
   "outputs": [],
   "source": [
    "bout_dict.keys()"
   ]
  },
  {
   "cell_type": "code",
   "execution_count": 116,
   "metadata": {},
   "outputs": [],
   "source": [
    "import h5py\n",
    "from ceciestunepipe.util import h5util as h5u"
   ]
  },
  {
   "cell_type": "code",
   "execution_count": 117,
   "metadata": {},
   "outputs": [],
   "source": [
    "def bouts_to_h5(bout_df: pd.DataFrame, bout_dict: dict, dset_keys: list, attr_keys: list, bout_dict_keys: list, \n",
    "                h5_path: str,\n",
    "               root_grp_name: str='bout_gpfa'):\n",
    "    \n",
    "    # make a h5 file.\n",
    "    # create a group for the dataframe\n",
    "    # append the bout metada dict keys to the group\n",
    "    # for each row (bout)\n",
    "        # create a group with the index of the bout\n",
    "        # apend attr_keys with values for the bout as attributes (mostly scalars)\n",
    "        # create datasets for all the long arrays that contain data over time\n",
    "\n",
    "    with h5py.File(bout_df_path,'w') as f:\n",
    "        df_grp = f.create_group(root_grp_name)\n",
    "        grp_attr_dict = {k:bout_dict[k] for k in bout_dict_keys}\n",
    "        h5u.append_atrributes(df_grp, grp_attr_dict)\n",
    "        #dset_keys = ['mic_arr', 'pre_arr']\n",
    "        \n",
    "        for idx, row in bout_df.iterrows():\n",
    "            bout_grp = df_grp.create_group(str(idx))\n",
    "            [bout_grp.create_dataset(k, data=row[k]) for k in dset_keys]\n",
    "\n",
    "            bout_attr_dict = {k:row[k] for k in attr_keys}\n",
    "            h5u.append_atrributes(bout_grp, bout_attr_dict)\n",
    "            "
   ]
  },
  {
   "cell_type": "code",
   "execution_count": 120,
   "metadata": {},
   "outputs": [
    {
     "data": {
      "text/plain": [
       "Index(['start_ms', 'end_ms', 'start_sample', 'end_sample', 'p_step', 'rms_p',\n",
       "       'peak_p', 'bout_check', 'file', 'len_ms', 'syl_in', 'n_syl', 'peaks_p',\n",
       "       'n_peaks', 'l_p_ratio', 'waveform', 'confusing', 'valid_waveform',\n",
       "       'valid', 'spectrogram', 'is_call', 'bird', 'sess', 'epoch',\n",
       "       'start_sample_ap_0', 'len_sample_ap_0', 'end_sample_ap_0', 'spk_arr',\n",
       "       'mic_arr', 'sxx', 'f_xx', 't_xx', 's_xx', 'clu_id_arr', 'pre_arr',\n",
       "       'spk_train', 'spk_gpf', 'sxx_pc', 'pre_filt'],\n",
       "      dtype='object')"
      ]
     },
     "execution_count": 120,
     "metadata": {},
     "output_type": "execute_result"
    }
   ],
   "source": [
    "bout_df.keys()"
   ]
  },
  {
   "cell_type": "code",
   "execution_count": 124,
   "metadata": {},
   "outputs": [
    {
     "name": "stderr",
     "output_type": "stream",
     "text": [
      "2022-09-01 11:09:47,518 root         INFO     Saving the gpfa, pca results onto an hdf5 file /mnt/sphere/speech_bci/processed_data/s_b1555_22/2022-08-17/oe/2022-08-17_12-38-44_550/bout_df_gpfa.h5\n",
      "2022-09-01 11:10:37,236 root         INFO     done\n"
     ]
    }
   ],
   "source": [
    "attr_keys = ['start_ms', 'end_ms', 'len_ms', \n",
    "             'start_sample', 'end_sample',\n",
    "             'start_ms_ap_0', 'start_sample_ap_0',\n",
    "             'start_sample_naive', 'len_sample_ap_0', 'end_sample_ap_0',\n",
    "             'bout_check', 'confusing', 'file']\n",
    "\n",
    "dset_keys = ['mic_arr', 'pre_arr', 'pre_filt', 'syl_in',\n",
    "             'f_xx', 't_xx', 's_xx', 'sxx_pc', \n",
    "             'spk_arr', 'spk_gpf']\n",
    "\n",
    "dict_keys = ['s_f', 's_f_nidq', 's_f_ap_0', 't_pre', 't_post']\n",
    "\n",
    "\n",
    "logger.info('Saving the gpfa, pca results onto an hdf5 file {}'.format(bout_df_path))\n",
    "bouts_to_h5(bout_df, bout_dict, dset_keys, attr_keys, dict_keys, bout_df_path)\n",
    "logger.info('done')"
   ]
  },
  {
   "cell_type": "code",
   "execution_count": null,
   "metadata": {},
   "outputs": [],
   "source": []
  }
 ],
 "metadata": {
  "kernelspec": {
   "display_name": "unepipe",
   "language": "python",
   "name": "unepipe"
  },
  "language_info": {
   "codemirror_mode": {
    "name": "ipython",
    "version": 3
   },
   "file_extension": ".py",
   "mimetype": "text/x-python",
   "name": "python",
   "nbconvert_exporter": "python",
   "pygments_lexer": "ipython3",
   "version": "3.8.11"
  }
 },
 "nbformat": 4,
 "nbformat_minor": 4
}
