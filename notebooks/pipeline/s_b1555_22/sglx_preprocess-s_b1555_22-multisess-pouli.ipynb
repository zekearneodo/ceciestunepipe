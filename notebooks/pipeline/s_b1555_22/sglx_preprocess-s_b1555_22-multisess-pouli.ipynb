{
 "cells": [
  {
   "cell_type": "markdown",
   "metadata": {},
   "source": [
    "# Pre-processing pipeline for spikeglx sessions, zebra finch\n",
    "- For every run in the session:\n",
    " - Load the recordings\n",
    " - Extract wav chan with micrhopohone and make a wav chan with the nidq syn signal\n",
    " - Get the sync events for the nidq sync channel\n",
    " \n",
    " - Do bout detection\n",
    " \n",
    "In another notebook, bout detection is curated\n",
    "- Left to decide where to:\n",
    "    - Sort spikes\n",
    "    - Sync the spikes/lfp/nidq\n",
    "    - make and plot 'bout rasters'"
   ]
  },
  {
   "cell_type": "code",
   "execution_count": 1,
   "metadata": {},
   "outputs": [],
   "source": [
    "%matplotlib inline\n",
    "import os\n",
    "import glob\n",
    "import logging\n",
    "import pickle\n",
    "import numpy as np\n",
    "import pandas as pd\n",
    "from scipy.io import wavfile\n",
    "from scipy import signal\n",
    "import traceback\n",
    "import warnings\n",
    "\n",
    "from matplotlib import pyplot as plt\n",
    "from importlib import reload\n",
    "\n",
    "logger = logging.getLogger()\n",
    "handler = logging.StreamHandler()\n",
    "formatter = logging.Formatter(\n",
    "        '%(asctime)s %(name)-12s %(levelname)-8s %(message)s')\n",
    "handler.setFormatter(formatter)\n",
    "logger.addHandler(handler)\n",
    "logger.setLevel(logging.INFO)\n"
   ]
  },
  {
   "cell_type": "code",
   "execution_count": 2,
   "metadata": {},
   "outputs": [],
   "source": [
    "from ceciestunepipe.file import bcistructure as et\n",
    "from ceciestunepipe.util import sglxutil as sglu\n",
    "from ceciestunepipe.util import rigutil as ru\n",
    "from ceciestunepipe.util import wavutil as wu\n",
    "from ceciestunepipe.util import syncutil as su\n",
    "\n",
    "from ceciestunepipe.util.sound import boutsearch as bs\n",
    "from ceciestunepipe.pipeline import searchbout as sb\n",
    "\n",
    "from ceciestunepipe.util.spikeextractors import preprocess as pre\n",
    "from ceciestunepipe.util.spikeextractors.extractors.spikeglxrecordingextractor import readSGLX as rsgl\n",
    "from ceciestunepipe.util.spikeextractors.extractors.spikeglxrecordingextractor import spikeglxrecordingextractor as sglex"
   ]
  },
  {
   "cell_type": "code",
   "execution_count": 3,
   "metadata": {},
   "outputs": [
    {
     "name": "stderr",
     "output_type": "stream",
     "text": [
      "2022-04-19 10:29:18,508 root         INFO     all modules loaded\n"
     ]
    }
   ],
   "source": [
    "import spikeinterface as si\n",
    "import spikeinterface.extractors as se\n",
    "import spikeinterface.toolkit as st\n",
    "import spikeinterface.sorters as ss\n",
    "import spikeinterface.comparison as sc\n",
    "import spikeinterface.widgets as sw\n",
    "logger.info('all modules loaded')"
   ]
  },
  {
   "cell_type": "markdown",
   "metadata": {},
   "source": [
    "## Session parameters and raw files"
   ]
  },
  {
   "cell_type": "markdown",
   "metadata": {},
   "source": [
    "#### list all the sessions for this bird"
   ]
  },
  {
   "cell_type": "code",
   "execution_count": 4,
   "metadata": {},
   "outputs": [
    {
     "name": "stderr",
     "output_type": "stream",
     "text": [
      "2022-04-19 10:29:23,452 root         INFO     all sessions for bird are ['2022-03-25', '2022-03-26', '2022-03-27', '2022-03-28', '2022-03-29', '2022-03-30', '2022-03-31', '2022-04-01', '2022-04-02', '2022-04-03', '2022-04-04', '2022-04-05', '2022-04-06', '2022-04-07', '2022-04-08', '2022-04-09', '2022-04-10', '2022-04-11', '2022-04-12', '2022-04-13', '2022-04-14', '2022-04-15', '2022-04-16', '2022-04-17', '2022-04-18', '2022-04-19']\n"
     ]
    }
   ],
   "source": [
    "bird = 's_b1555_22'\n",
    "all_bird_sess = et.list_sessions(bird)\n",
    "logger.info('all sessions for bird are {}'.format(all_bird_sess))"
   ]
  },
  {
   "cell_type": "markdown",
   "metadata": {},
   "source": [
    "### set up bird and sessions parameters\n",
    "this will define:\n",
    "- locations of files (for the bird)\n",
    "- signals and channels to look for in the metadata of the files and in the rig.json parameter file: Note that this have to exist in all of the sessions that will be processed\n",
    "- 'sess' is unimportant here, but it comes handy if there is need to debug usin a single session"
   ]
  },
  {
   "cell_type": "code",
   "execution_count": 5,
   "metadata": {},
   "outputs": [],
   "source": [
    "reload(et)\n",
    "# for one example session\n",
    "\n",
    "sess_par = {'bird': bird,\n",
    "           'sess': '2022-04-18',\n",
    "           'probes': [], #probes of interest\n",
    "           'mic_list': ['microphone_0'], #list of mics of interest, by signal name in rig.json\n",
    "           'adc_list': ['pressure'],\n",
    "           'nidq_ttl_list': ['wav_ttl'], # list of TTL signals form the nidq digital inputs to extract (besides the 'sync')\n",
    "           'sort': 2, #label for this sort instance\n",
    "           }\n",
    "\n",
    "exp_struct = et.get_exp_struct(sess_par['bird'], sess_par['sess'], sort=sess_par['sort'])\n",
    "\n",
    "ksort_folder = exp_struct['folders']['ksort']\n",
    "raw_folder = exp_struct['folders']['sglx']"
   ]
  },
  {
   "cell_type": "markdown",
   "metadata": {},
   "source": [
    "list all the epochs in a session, to check that it is finding what it has to find"
   ]
  },
  {
   "cell_type": "code",
   "execution_count": 6,
   "metadata": {},
   "outputs": [
    {
     "name": "stderr",
     "output_type": "stream",
     "text": [
      "2022-04-19 10:29:30,792 ceciestunepipe.file.bcistructure INFO     {'folders': {'bird': '/mnt/sphere/speech_bci/raw_data/s_b1555_22', 'raw': '/mnt/sphere/speech_bci/raw_data/s_b1555_22/2022-04-18', 'sglx': '/mnt/sphere/speech_bci/raw_data/s_b1555_22/2022-04-18/sglx', 'kwik': '/scratch/earneodo/s_b1555_22/sglx/kwik/2022-04-18', 'processed': '/mnt/sphere/speech_bci/processed_data/s_b1555_22/2022-04-18/sglx', 'derived': '/mnt/sphere/speech_bci/derived_data/s_b1555_22/2022-04-18/sglx', 'tmp': '/scratch/earneodo/tmp', 'msort': '/scratch/earneodo/s_b1555_22/sglx/msort/2022-04-18', 'ksort': '/scratch/earneodo/s_b1555_22/sglx/ksort/2022-04-18/2', 'sort': '/mnt/sphere/speech_bci/derived_data/s_b1555_22/2022-04-18/sglx/2'}, 'files': {'par': '/scratch/earneodo/s_b1555_22/sglx/ksort/2022-04-18/2/params.json', 'set': '/mnt/sphere/speech_bci/raw_data/s_b1555_22/2022-04-18/sglx/settings.isf', 'rig': '/mnt/sphere/speech_bci/raw_data/s_b1555_22/2022-04-18/sglx/rig.json', 'kwd': '/scratch/earneodo/s_b1555_22/sglx/kwik/2022-04-18/stream.kwd', 'kwik': '/scratch/earneodo/s_b1555_22/sglx/kwik/2022-04-18/sort_2/spikes.kwik', 'kwe': '/scratch/earneodo/s_b1555_22/sglx/kwik/2022-04-18/events.kwe', 'dat_mic': '/mnt/sphere/speech_bci/processed_data/s_b1555_22/2022-04-18/sglx/dat_mic.mat', 'dat_ap': '/mnt/sphere/speech_bci/processed_data/s_b1555_22/2022-04-18/sglx/dat_ap.mat', 'allevents': '/mnt/sphere/speech_bci/processed_data/s_b1555_22/2022-04-18/sglx/dat_all.pkl', 'wav_mic': '/mnt/sphere/speech_bci/derived_data/s_b1555_22/2022-04-18/sglx/wav_mic.wav', 'mda_raw': '/scratch/earneodo/s_b1555_22/sglx/msort/2022-04-18/raw.mda', 'bin_raw': '/scratch/earneodo/s_b1555_22/sglx/ksort/2022-04-18/2/raw.bin'}}\n"
     ]
    },
    {
     "data": {
      "text/plain": [
       "['0817_g0', '1207_g0', '1530_g0', '1834_g0']"
      ]
     },
     "execution_count": 6,
     "metadata": {},
     "output_type": "execute_result"
    }
   ],
   "source": [
    "sess_epochs = et.list_sgl_epochs(sess_par)\n",
    "sess_epochs"
   ]
  },
  {
   "cell_type": "markdown",
   "metadata": {},
   "source": [
    "#### define pre-processing steps for each epoch and for the session"
   ]
  },
  {
   "cell_type": "code",
   "execution_count": null,
   "metadata": {
    "tags": []
   },
   "outputs": [],
   "source": [
    "reload(pre)\n",
    "#one_epoch_dict = pre.preprocess_run(sess_par, exp_struct, sess_epochs[3])"
   ]
  },
  {
   "cell_type": "code",
   "execution_count": 7,
   "metadata": {
    "scrolled": false,
    "tags": []
   },
   "outputs": [
    {
     "name": "stderr",
     "output_type": "stream",
     "text": [
      "2022-04-19 10:29:40,161 root         INFO     pre-process all runs of sess 2022-04-18\n",
      "2022-04-19 10:29:40,162 ceciestunepipe.file.bcistructure INFO     {'folders': {'bird': '/mnt/sphere/speech_bci/raw_data/s_b1555_22', 'raw': '/mnt/sphere/speech_bci/raw_data/s_b1555_22/2022-04-18', 'sglx': '/mnt/sphere/speech_bci/raw_data/s_b1555_22/2022-04-18/sglx', 'kwik': '/scratch/earneodo/s_b1555_22/sglx/kwik/2022-04-18', 'processed': '/mnt/sphere/speech_bci/processed_data/s_b1555_22/2022-04-18/sglx', 'derived': '/mnt/sphere/speech_bci/derived_data/s_b1555_22/2022-04-18/sglx', 'tmp': '/scratch/earneodo/tmp', 'msort': '/scratch/earneodo/s_b1555_22/sglx/msort/2022-04-18', 'ksort': '/scratch/earneodo/s_b1555_22/sglx/ksort/2022-04-18/2', 'sort': '/mnt/sphere/speech_bci/derived_data/s_b1555_22/2022-04-18/sglx/2'}, 'files': {'par': '/scratch/earneodo/s_b1555_22/sglx/ksort/2022-04-18/2/params.json', 'set': '/mnt/sphere/speech_bci/raw_data/s_b1555_22/2022-04-18/sglx/settings.isf', 'rig': '/mnt/sphere/speech_bci/raw_data/s_b1555_22/2022-04-18/sglx/rig.json', 'kwd': '/scratch/earneodo/s_b1555_22/sglx/kwik/2022-04-18/stream.kwd', 'kwik': '/scratch/earneodo/s_b1555_22/sglx/kwik/2022-04-18/sort_2/spikes.kwik', 'kwe': '/scratch/earneodo/s_b1555_22/sglx/kwik/2022-04-18/events.kwe', 'dat_mic': '/mnt/sphere/speech_bci/processed_data/s_b1555_22/2022-04-18/sglx/dat_mic.mat', 'dat_ap': '/mnt/sphere/speech_bci/processed_data/s_b1555_22/2022-04-18/sglx/dat_ap.mat', 'allevents': '/mnt/sphere/speech_bci/processed_data/s_b1555_22/2022-04-18/sglx/dat_all.pkl', 'wav_mic': '/mnt/sphere/speech_bci/derived_data/s_b1555_22/2022-04-18/sglx/wav_mic.wav', 'mda_raw': '/scratch/earneodo/s_b1555_22/sglx/msort/2022-04-18/raw.mda', 'bin_raw': '/scratch/earneodo/s_b1555_22/sglx/ksort/2022-04-18/2/raw.bin'}}\n",
      "2022-04-19 10:29:40,164 root         INFO     found epochs: ['0817_g0', '1207_g0', '1530_g0', '1834_g0']\n",
      "2022-04-19 10:29:40,164 ceciestunepipe.util.spikeextractors.preprocess INFO     PREPROCESSING sess 2022-04-18 | epoch 0817_g0\n",
      "2022-04-19 10:29:40,165 ceciestunepipe.util.spikeextractors.preprocess INFO     getting extractors\n",
      "2022-04-19 10:29:40,171 ceciestunepipe.util.spikeextractors.preprocess INFO     Got sglx recordings for keys ['nidq']\n",
      "2022-04-19 10:29:40,172 ceciestunepipe.util.spikeextractors.preprocess INFO     Getting microphone channel(s) ['microphone_0']\n",
      "2022-04-19 10:29:40,172 ceciestunepipe.util.wavutil INFO     sampling rate 40000\n",
      "2022-04-19 10:29:40,173 ceciestunepipe.util.wavutil INFO     saving (1, 391135385)-shaped array as wav in /mnt/sphere/speech_bci/derived_data/s_b1555_22/2022-04-18/sglx/0817_g0/wav_mic.wav\n",
      "2022-04-19 10:29:42,019 ceciestunepipe.util.wavutil INFO     saving (1, 391135385)-shaped array as npy in /mnt/sphere/speech_bci/derived_data/s_b1555_22/2022-04-18/sglx/0817_g0/wav_mic.npy\n",
      "2022-04-19 10:29:49,611 ceciestunepipe.util.spikeextractors.preprocess INFO     Getting adc channel(s) ['pressure']\n",
      "2022-04-19 10:29:49,613 ceciestunepipe.util.wavutil INFO     sampling rate 40000\n",
      "2022-04-19 10:29:49,614 ceciestunepipe.util.wavutil INFO     saving (1, 391135385)-shaped array as wav in /mnt/sphere/speech_bci/derived_data/s_b1555_22/2022-04-18/sglx/0817_g0/wav_adc.wav\n",
      "2022-04-19 10:29:51,309 ceciestunepipe.util.wavutil INFO     saving (1, 391135385)-shaped array as npy in /mnt/sphere/speech_bci/derived_data/s_b1555_22/2022-04-18/sglx/0817_g0/wav_adc.npy\n",
      "2022-04-19 10:30:06,360 ceciestunepipe.util.spikeextractors.preprocess INFO     Getting sync channel(s) from nidaq streams: ['sync']\n",
      "2022-04-19 10:30:06,363 ceciestunepipe.util.spikeextractors.extractors.spikeglxrecordingextractor.spikeglxrecordingextractor INFO     getting ttl traces, chan [0 1 2 3 4 5 6 7]\n",
      "2022-04-19 10:30:12,606 ceciestunepipe.util.wavutil INFO     sampling rate 40000\n",
      "2022-04-19 10:30:12,607 ceciestunepipe.util.wavutil INFO     saving (1, 391135385)-shaped array as wav in /mnt/sphere/speech_bci/derived_data/s_b1555_22/2022-04-18/sglx/0817_g0/wav_sync.wav\n",
      "2022-04-19 10:30:13,734 ceciestunepipe.util.wavutil INFO     saving (1, 391135385)-shaped array as npy in /mnt/sphere/speech_bci/derived_data/s_b1555_22/2022-04-18/sglx/0817_g0/wav_sync.npy\n",
      "2022-04-19 10:30:14,819 ceciestunepipe.util.spikeextractors.preprocess INFO     Getting sync events from the wav sync channel\n",
      "2022-04-19 10:30:16,604 ceciestunepipe.util.spikeextractors.preprocess INFO     saving sync events of the wav channel to /mnt/sphere/speech_bci/derived_data/s_b1555_22/2022-04-18/sglx/0817_g0/wav_sync_evt.npy\n",
      "2022-04-19 10:30:16,606 ceciestunepipe.util.spikeextractors.preprocess INFO     saving t0 for wav channel to /mnt/sphere/speech_bci/derived_data/s_b1555_22/2022-04-18/sglx/0817_g0/wav_t0.npy\n",
      "2022-04-19 10:30:23,734 ceciestunepipe.util.spikeextractors.preprocess INFO     Will get 1 ttl signals\n",
      "2022-04-19 10:30:23,735 ceciestunepipe.util.spikeextractors.preprocess INFO     looking for signal wav_ttl in the nidaq channels\n",
      "2022-04-19 10:30:23,735 ceciestunepipe.util.spikeextractors.preprocess INFO     found in chan 2\n",
      "2022-04-19 10:30:23,736 ceciestunepipe.util.spikeextractors.extractors.spikeglxrecordingextractor.spikeglxrecordingextractor INFO     getting ttl events, chan 2\n",
      "2022-04-19 10:30:28,909 ceciestunepipe.util.spikeextractors.preprocess INFO     saving (0, 2)-shaped array as npy in /mnt/sphere/speech_bci/derived_data/s_b1555_22/2022-04-18/sglx/0817_g0/wav_ttl_evt.npy\n",
      "2022-04-19 10:30:28,965 ceciestunepipe.util.spikeextractors.preprocess INFO     saving sync nidaq dict to /mnt/sphere/speech_bci/derived_data/s_b1555_22/2022-04-18/sglx/0817_g0/wav_sync_dict.pkl\n",
      "2022-04-19 10:30:28,967 ceciestunepipe.util.spikeextractors.preprocess INFO     Getting sync signals for imec streams: []\n",
      "2022-04-19 10:30:28,968 ceciestunepipe.util.spikeextractors.preprocess INFO     getting syn patterns for nidq\n",
      "2022-04-19 10:30:28,969 ceciestunepipe.util.spikeextractors.preprocess INFO     loading syn_dict from /mnt/sphere/speech_bci/derived_data/s_b1555_22/2022-04-18/sglx/0817_g0/nidq_sync_dict.pkl\n",
      "2022-04-19 10:30:29,004 ceciestunepipe.util.spikeextractors.preprocess INFO     getting syn patterns for wav\n",
      "2022-04-19 10:30:29,004 ceciestunepipe.util.spikeextractors.preprocess INFO     loading syn_dict from /mnt/sphere/speech_bci/derived_data/s_b1555_22/2022-04-18/sglx/0817_g0/wav_sync_dict.pkl\n",
      "2022-04-19 10:31:05,266 ceciestunepipe.util.spikeextractors.preprocess INFO     saved epoch preprocessing parameters to /mnt/sphere/speech_bci/derived_data/s_b1555_22/2022-04-18/sglx/0817_g0/preprocess_par.pickle\n",
      "2022-04-19 10:31:05,272 ceciestunepipe.util.spikeextractors.preprocess INFO     PREPROCESSING sess 2022-04-18 | epoch 1207_g0\n",
      "2022-04-19 10:31:05,273 ceciestunepipe.util.spikeextractors.preprocess INFO     getting extractors\n",
      "2022-04-19 10:31:05,311 ceciestunepipe.util.spikeextractors.preprocess INFO     Got sglx recordings for keys ['nidq']\n",
      "2022-04-19 10:31:05,312 ceciestunepipe.util.spikeextractors.preprocess INFO     Getting microphone channel(s) ['microphone_0']\n",
      "2022-04-19 10:31:05,313 ceciestunepipe.util.wavutil INFO     sampling rate 40000\n",
      "2022-04-19 10:31:05,313 ceciestunepipe.util.wavutil INFO     saving (1, 244632116)-shaped array as wav in /mnt/sphere/speech_bci/derived_data/s_b1555_22/2022-04-18/sglx/1207_g0/wav_mic.wav\n",
      "2022-04-19 10:31:06,442 ceciestunepipe.util.wavutil INFO     saving (1, 244632116)-shaped array as npy in /mnt/sphere/speech_bci/derived_data/s_b1555_22/2022-04-18/sglx/1207_g0/wav_mic.npy\n",
      "2022-04-19 10:31:11,207 ceciestunepipe.util.spikeextractors.preprocess INFO     Getting adc channel(s) ['pressure']\n",
      "2022-04-19 10:31:11,208 ceciestunepipe.util.wavutil INFO     sampling rate 40000\n",
      "2022-04-19 10:31:11,209 ceciestunepipe.util.wavutil INFO     saving (1, 244632116)-shaped array as wav in /mnt/sphere/speech_bci/derived_data/s_b1555_22/2022-04-18/sglx/1207_g0/wav_adc.wav\n",
      "2022-04-19 10:31:12,378 ceciestunepipe.util.wavutil INFO     saving (1, 244632116)-shaped array as npy in /mnt/sphere/speech_bci/derived_data/s_b1555_22/2022-04-18/sglx/1207_g0/wav_adc.npy\n",
      "2022-04-19 10:31:21,794 ceciestunepipe.util.spikeextractors.preprocess INFO     Getting sync channel(s) from nidaq streams: ['sync']\n",
      "2022-04-19 10:31:21,795 ceciestunepipe.util.spikeextractors.extractors.spikeglxrecordingextractor.spikeglxrecordingextractor INFO     getting ttl traces, chan [0 1 2 3 4 5 6 7]\n"
     ]
    },
    {
     "name": "stderr",
     "output_type": "stream",
     "text": [
      "2022-04-19 10:31:26,743 ceciestunepipe.util.wavutil INFO     sampling rate 40000\n",
      "2022-04-19 10:31:26,745 ceciestunepipe.util.wavutil INFO     saving (1, 244632116)-shaped array as wav in /mnt/sphere/speech_bci/derived_data/s_b1555_22/2022-04-18/sglx/1207_g0/wav_sync.wav\n",
      "2022-04-19 10:31:27,662 ceciestunepipe.util.wavutil INFO     saving (1, 244632116)-shaped array as npy in /mnt/sphere/speech_bci/derived_data/s_b1555_22/2022-04-18/sglx/1207_g0/wav_sync.npy\n",
      "2022-04-19 10:31:28,558 ceciestunepipe.util.spikeextractors.preprocess INFO     Getting sync events from the wav sync channel\n",
      "2022-04-19 10:31:29,853 ceciestunepipe.util.spikeextractors.preprocess INFO     saving sync events of the wav channel to /mnt/sphere/speech_bci/derived_data/s_b1555_22/2022-04-18/sglx/1207_g0/wav_sync_evt.npy\n",
      "2022-04-19 10:31:29,856 ceciestunepipe.util.spikeextractors.preprocess INFO     saving t0 for wav channel to /mnt/sphere/speech_bci/derived_data/s_b1555_22/2022-04-18/sglx/1207_g0/wav_t0.npy\n",
      "2022-04-19 10:31:34,450 ceciestunepipe.util.spikeextractors.preprocess INFO     Will get 1 ttl signals\n",
      "2022-04-19 10:31:34,451 ceciestunepipe.util.spikeextractors.preprocess INFO     looking for signal wav_ttl in the nidaq channels\n",
      "2022-04-19 10:31:34,452 ceciestunepipe.util.spikeextractors.preprocess INFO     found in chan 2\n",
      "2022-04-19 10:31:34,452 ceciestunepipe.util.spikeextractors.extractors.spikeglxrecordingextractor.spikeglxrecordingextractor INFO     getting ttl events, chan 2\n",
      "2022-04-19 10:31:37,822 ceciestunepipe.util.spikeextractors.preprocess INFO     saving (0, 2)-shaped array as npy in /mnt/sphere/speech_bci/derived_data/s_b1555_22/2022-04-18/sglx/1207_g0/wav_ttl_evt.npy\n",
      "2022-04-19 10:31:37,825 ceciestunepipe.util.spikeextractors.preprocess INFO     saving sync nidaq dict to /mnt/sphere/speech_bci/derived_data/s_b1555_22/2022-04-18/sglx/1207_g0/wav_sync_dict.pkl\n",
      "2022-04-19 10:31:37,827 ceciestunepipe.util.spikeextractors.preprocess INFO     Getting sync signals for imec streams: []\n",
      "2022-04-19 10:31:37,827 ceciestunepipe.util.spikeextractors.preprocess INFO     getting syn patterns for nidq\n",
      "2022-04-19 10:31:37,828 ceciestunepipe.util.spikeextractors.preprocess INFO     loading syn_dict from /mnt/sphere/speech_bci/derived_data/s_b1555_22/2022-04-18/sglx/1207_g0/nidq_sync_dict.pkl\n",
      "2022-04-19 10:31:37,837 ceciestunepipe.util.spikeextractors.preprocess INFO     getting syn patterns for wav\n",
      "2022-04-19 10:31:37,838 ceciestunepipe.util.spikeextractors.preprocess INFO     loading syn_dict from /mnt/sphere/speech_bci/derived_data/s_b1555_22/2022-04-18/sglx/1207_g0/wav_sync_dict.pkl\n",
      "2022-04-19 10:32:01,439 ceciestunepipe.util.spikeextractors.preprocess INFO     saved epoch preprocessing parameters to /mnt/sphere/speech_bci/derived_data/s_b1555_22/2022-04-18/sglx/1207_g0/preprocess_par.pickle\n",
      "2022-04-19 10:32:01,443 ceciestunepipe.util.spikeextractors.preprocess INFO     PREPROCESSING sess 2022-04-18 | epoch 1530_g0\n",
      "2022-04-19 10:32:01,443 ceciestunepipe.util.spikeextractors.preprocess INFO     getting extractors\n",
      "2022-04-19 10:32:01,454 ceciestunepipe.util.spikeextractors.preprocess INFO     Got sglx recordings for keys ['nidq']\n",
      "2022-04-19 10:32:01,455 ceciestunepipe.util.spikeextractors.preprocess INFO     Getting microphone channel(s) ['microphone_0']\n",
      "2022-04-19 10:32:01,455 ceciestunepipe.util.wavutil INFO     sampling rate 40000\n",
      "2022-04-19 10:32:01,456 ceciestunepipe.util.wavutil INFO     saving (1, 420239309)-shaped array as wav in /mnt/sphere/speech_bci/derived_data/s_b1555_22/2022-04-18/sglx/1530_g0/wav_mic.wav\n",
      "2022-04-19 10:32:03,563 ceciestunepipe.util.wavutil INFO     saving (1, 420239309)-shaped array as npy in /mnt/sphere/speech_bci/derived_data/s_b1555_22/2022-04-18/sglx/1530_g0/wav_mic.npy\n",
      "2022-04-19 10:32:11,686 ceciestunepipe.util.spikeextractors.preprocess INFO     Getting adc channel(s) ['pressure']\n",
      "2022-04-19 10:32:11,687 ceciestunepipe.util.wavutil INFO     sampling rate 40000\n",
      "2022-04-19 10:32:11,688 ceciestunepipe.util.wavutil INFO     saving (1, 420239309)-shaped array as wav in /mnt/sphere/speech_bci/derived_data/s_b1555_22/2022-04-18/sglx/1530_g0/wav_adc.wav\n",
      "2022-04-19 10:32:13,772 ceciestunepipe.util.wavutil INFO     saving (1, 420239309)-shaped array as npy in /mnt/sphere/speech_bci/derived_data/s_b1555_22/2022-04-18/sglx/1530_g0/wav_adc.npy\n",
      "2022-04-19 10:32:30,078 ceciestunepipe.util.spikeextractors.preprocess INFO     Getting sync channel(s) from nidaq streams: ['sync']\n",
      "2022-04-19 10:32:30,079 ceciestunepipe.util.spikeextractors.extractors.spikeglxrecordingextractor.spikeglxrecordingextractor INFO     getting ttl traces, chan [0 1 2 3 4 5 6 7]\n",
      "2022-04-19 10:32:41,229 ceciestunepipe.util.wavutil INFO     sampling rate 40000\n",
      "2022-04-19 10:32:41,231 ceciestunepipe.util.wavutil INFO     saving (1, 420239309)-shaped array as wav in /mnt/sphere/speech_bci/derived_data/s_b1555_22/2022-04-18/sglx/1530_g0/wav_sync.wav\n",
      "2022-04-19 10:32:42,647 ceciestunepipe.util.wavutil INFO     saving (1, 420239309)-shaped array as npy in /mnt/sphere/speech_bci/derived_data/s_b1555_22/2022-04-18/sglx/1530_g0/wav_sync.npy\n",
      "2022-04-19 10:32:44,087 ceciestunepipe.util.spikeextractors.preprocess INFO     Getting sync events from the wav sync channel\n",
      "2022-04-19 10:32:46,305 ceciestunepipe.util.spikeextractors.preprocess INFO     saving sync events of the wav channel to /mnt/sphere/speech_bci/derived_data/s_b1555_22/2022-04-18/sglx/1530_g0/wav_sync_evt.npy\n",
      "2022-04-19 10:32:46,308 ceciestunepipe.util.spikeextractors.preprocess INFO     saving t0 for wav channel to /mnt/sphere/speech_bci/derived_data/s_b1555_22/2022-04-18/sglx/1530_g0/wav_t0.npy\n",
      "2022-04-19 10:32:54,185 ceciestunepipe.util.spikeextractors.preprocess INFO     Will get 1 ttl signals\n",
      "2022-04-19 10:32:54,185 ceciestunepipe.util.spikeextractors.preprocess INFO     looking for signal wav_ttl in the nidaq channels\n",
      "2022-04-19 10:32:54,186 ceciestunepipe.util.spikeextractors.preprocess INFO     found in chan 2\n",
      "2022-04-19 10:32:54,186 ceciestunepipe.util.spikeextractors.extractors.spikeglxrecordingextractor.spikeglxrecordingextractor INFO     getting ttl events, chan 2\n",
      "2022-04-19 10:32:59,948 ceciestunepipe.util.spikeextractors.preprocess INFO     saving (0, 2)-shaped array as npy in /mnt/sphere/speech_bci/derived_data/s_b1555_22/2022-04-18/sglx/1530_g0/wav_ttl_evt.npy\n",
      "2022-04-19 10:32:59,955 ceciestunepipe.util.spikeextractors.preprocess INFO     saving sync nidaq dict to /mnt/sphere/speech_bci/derived_data/s_b1555_22/2022-04-18/sglx/1530_g0/wav_sync_dict.pkl\n",
      "2022-04-19 10:32:59,957 ceciestunepipe.util.spikeextractors.preprocess INFO     Getting sync signals for imec streams: []\n",
      "2022-04-19 10:32:59,958 ceciestunepipe.util.spikeextractors.preprocess INFO     getting syn patterns for nidq\n",
      "2022-04-19 10:32:59,958 ceciestunepipe.util.spikeextractors.preprocess INFO     loading syn_dict from /mnt/sphere/speech_bci/derived_data/s_b1555_22/2022-04-18/sglx/1530_g0/nidq_sync_dict.pkl\n",
      "2022-04-19 10:32:59,963 ceciestunepipe.util.spikeextractors.preprocess INFO     getting syn patterns for wav\n",
      "2022-04-19 10:32:59,964 ceciestunepipe.util.spikeextractors.preprocess INFO     loading syn_dict from /mnt/sphere/speech_bci/derived_data/s_b1555_22/2022-04-18/sglx/1530_g0/wav_sync_dict.pkl\n",
      "2022-04-19 10:33:35,072 ceciestunepipe.util.spikeextractors.preprocess INFO     saved epoch preprocessing parameters to /mnt/sphere/speech_bci/derived_data/s_b1555_22/2022-04-18/sglx/1530_g0/preprocess_par.pickle\n",
      "2022-04-19 10:33:35,080 ceciestunepipe.util.spikeextractors.preprocess INFO     PREPROCESSING sess 2022-04-18 | epoch 1834_g0\n",
      "2022-04-19 10:33:35,081 ceciestunepipe.util.spikeextractors.preprocess INFO     getting extractors\n",
      "2022-04-19 10:33:35,102 ceciestunepipe.util.spikeextractors.preprocess INFO     Got sglx recordings for keys ['nidq']\n",
      "2022-04-19 10:33:35,103 ceciestunepipe.util.spikeextractors.preprocess INFO     Getting microphone channel(s) ['microphone_0']\n",
      "2022-04-19 10:33:35,104 ceciestunepipe.util.wavutil INFO     sampling rate 40000\n",
      "2022-04-19 10:33:35,105 ceciestunepipe.util.wavutil INFO     saving (1, 229851904)-shaped array as wav in /mnt/sphere/speech_bci/derived_data/s_b1555_22/2022-04-18/sglx/1834_g0/wav_mic.wav\n",
      "2022-04-19 10:33:36,251 ceciestunepipe.util.wavutil INFO     saving (1, 229851904)-shaped array as npy in /mnt/sphere/speech_bci/derived_data/s_b1555_22/2022-04-18/sglx/1834_g0/wav_mic.npy\n"
     ]
    },
    {
     "name": "stderr",
     "output_type": "stream",
     "text": [
      "2022-04-19 10:33:40,832 ceciestunepipe.util.spikeextractors.preprocess INFO     Getting adc channel(s) ['pressure']\n",
      "2022-04-19 10:33:40,837 ceciestunepipe.util.wavutil INFO     sampling rate 40000\n",
      "2022-04-19 10:33:40,838 ceciestunepipe.util.wavutil INFO     saving (1, 229851904)-shaped array as wav in /mnt/sphere/speech_bci/derived_data/s_b1555_22/2022-04-18/sglx/1834_g0/wav_adc.wav\n",
      "2022-04-19 10:33:41,882 ceciestunepipe.util.wavutil INFO     saving (1, 229851904)-shaped array as npy in /mnt/sphere/speech_bci/derived_data/s_b1555_22/2022-04-18/sglx/1834_g0/wav_adc.npy\n",
      "2022-04-19 10:33:50,954 ceciestunepipe.util.spikeextractors.preprocess INFO     Getting sync channel(s) from nidaq streams: ['sync']\n",
      "2022-04-19 10:33:50,958 ceciestunepipe.util.spikeextractors.extractors.spikeglxrecordingextractor.spikeglxrecordingextractor INFO     getting ttl traces, chan [0 1 2 3 4 5 6 7]\n",
      "2022-04-19 10:33:54,680 ceciestunepipe.util.wavutil INFO     sampling rate 40000\n",
      "2022-04-19 10:33:54,682 ceciestunepipe.util.wavutil INFO     saving (1, 229851904)-shaped array as wav in /mnt/sphere/speech_bci/derived_data/s_b1555_22/2022-04-18/sglx/1834_g0/wav_sync.wav\n",
      "2022-04-19 10:33:55,491 ceciestunepipe.util.wavutil INFO     saving (1, 229851904)-shaped array as npy in /mnt/sphere/speech_bci/derived_data/s_b1555_22/2022-04-18/sglx/1834_g0/wav_sync.npy\n",
      "2022-04-19 10:33:56,237 ceciestunepipe.util.spikeextractors.preprocess INFO     Getting sync events from the wav sync channel\n",
      "2022-04-19 10:33:57,232 ceciestunepipe.util.spikeextractors.preprocess INFO     saving sync events of the wav channel to /mnt/sphere/speech_bci/derived_data/s_b1555_22/2022-04-18/sglx/1834_g0/wav_sync_evt.npy\n",
      "2022-04-19 10:33:57,234 ceciestunepipe.util.spikeextractors.preprocess INFO     saving t0 for wav channel to /mnt/sphere/speech_bci/derived_data/s_b1555_22/2022-04-18/sglx/1834_g0/wav_t0.npy\n",
      "2022-04-19 10:34:00,825 ceciestunepipe.util.spikeextractors.preprocess INFO     Will get 1 ttl signals\n",
      "2022-04-19 10:34:00,826 ceciestunepipe.util.spikeextractors.preprocess INFO     looking for signal wav_ttl in the nidaq channels\n",
      "2022-04-19 10:34:00,827 ceciestunepipe.util.spikeextractors.preprocess INFO     found in chan 2\n",
      "2022-04-19 10:34:00,828 ceciestunepipe.util.spikeextractors.extractors.spikeglxrecordingextractor.spikeglxrecordingextractor INFO     getting ttl events, chan 2\n",
      "2022-04-19 10:34:02,690 ceciestunepipe.util.spikeextractors.preprocess INFO     saving (0, 2)-shaped array as npy in /mnt/sphere/speech_bci/derived_data/s_b1555_22/2022-04-18/sglx/1834_g0/wav_ttl_evt.npy\n",
      "2022-04-19 10:34:02,693 ceciestunepipe.util.spikeextractors.preprocess INFO     saving sync nidaq dict to /mnt/sphere/speech_bci/derived_data/s_b1555_22/2022-04-18/sglx/1834_g0/wav_sync_dict.pkl\n",
      "2022-04-19 10:34:02,694 ceciestunepipe.util.spikeextractors.preprocess INFO     Getting sync signals for imec streams: []\n",
      "2022-04-19 10:34:02,695 ceciestunepipe.util.spikeextractors.preprocess INFO     getting syn patterns for nidq\n",
      "2022-04-19 10:34:02,696 ceciestunepipe.util.spikeextractors.preprocess INFO     loading syn_dict from /mnt/sphere/speech_bci/derived_data/s_b1555_22/2022-04-18/sglx/1834_g0/nidq_sync_dict.pkl\n",
      "2022-04-19 10:34:02,700 ceciestunepipe.util.spikeextractors.preprocess INFO     getting syn patterns for wav\n",
      "2022-04-19 10:34:02,700 ceciestunepipe.util.spikeextractors.preprocess INFO     loading syn_dict from /mnt/sphere/speech_bci/derived_data/s_b1555_22/2022-04-18/sglx/1834_g0/wav_sync_dict.pkl\n",
      "2022-04-19 10:34:22,286 ceciestunepipe.util.spikeextractors.preprocess INFO     saved epoch preprocessing parameters to /mnt/sphere/speech_bci/derived_data/s_b1555_22/2022-04-18/sglx/1834_g0/preprocess_par.pickle\n"
     ]
    }
   ],
   "source": [
    "### sequentially process all runs of the sessions\n",
    "def preprocess_session(sess_par: dict):\n",
    "    logger.info('pre-process all runs of sess ' + sess_par['sess'])\n",
    "    # get exp struct\n",
    "    sess_struct = et.get_exp_struct(sess_par['bird'], sess_par['sess'], sort=sess_par['sort'])\n",
    "    # list the epochs\n",
    "    sess_epochs = et.list_sgl_epochs(sess_par)\n",
    "    logger.info('found epochs: {}'.format(sess_epochs))\n",
    "    # preprocess all epochs\n",
    "    epoch_dict_list = []\n",
    "    for i_ep, epoch in enumerate(sess_epochs):\n",
    "        try:\n",
    "            exp_struct = et.sgl_struct(sess_par, epoch)\n",
    "            one_epoch_dict = pre.preprocess_run(sess_par, exp_struct, epoch)\n",
    "            epoch_dict_list.append(one_epoch_dict)\n",
    "        except Exception as exc:\n",
    "            warnings.warn('Error in epoch {}'.format(epoch), UserWarning)\n",
    "            logger.info(traceback.format_exc)\n",
    "            logger.info(exc)\n",
    "            logger.info('Session {} epoch {} could not be preprocessed'.format(sess_par['sess'], epoch))\n",
    "            warnings.warn('Session {} epoch {} could not be preprocessed'.format(sess_par['sess'], epoch))\n",
    "        \n",
    "    return epoch_dict_list\n",
    "\n",
    "all_epoch_list = preprocess_session(sess_par)"
   ]
  },
  {
   "cell_type": "markdown",
   "metadata": {},
   "source": [
    "## Process multiple sessions"
   ]
  },
  {
   "cell_type": "code",
   "execution_count": null,
   "metadata": {
    "tags": []
   },
   "outputs": [],
   "source": [
    "sess_list = all_bird_sess\n",
    "# fist implant, right hemisphere\n",
    "#sess_list = ['2021-06-24', '2021-06-25', '2021-06-26', '2021-06-27', '2021-06-28', '2021-06-29', '2021-06-30']\n",
    "sess_list = ['2022-04-16']"
   ]
  },
  {
   "cell_type": "code",
   "execution_count": null,
   "metadata": {
    "tags": []
   },
   "outputs": [],
   "source": [
    "all_sess_dict = {}\n",
    "\n",
    "for one_sess in sess_list[:]:\n",
    "    sess_par['sess'] = one_sess\n",
    "    preprocess_session(sess_par)"
   ]
  },
  {
   "cell_type": "markdown",
   "metadata": {},
   "source": [
    "## search bouts for those sessions"
   ]
  },
  {
   "cell_type": "code",
   "execution_count": null,
   "metadata": {},
   "outputs": [],
   "source": [
    "hparams = { # default parameters work well for starling\n",
    "    # spectrogram\n",
    "    'num_freq':1024, #1024# how many channels to use in a spectrogram #\n",
    "    'preemphasis':0.97, \n",
    "    'frame_shift_ms':5, # step size for fft\n",
    "    'frame_length_ms':10, #128 # frame length for fft FRAME SAMPLES < NUM_FREQ!!!\n",
    "    'min_level_db':-55, # minimum threshold db for computing spe \n",
    "    'ref_level_db':110, # reference db for computing spec\n",
    "    'sample_rate':None, # sample rate of your data\n",
    "    \n",
    "    # spectrograms\n",
    "    'mel_filter': False, # should a mel filter be used?\n",
    "    'num_mels':1024, # how many channels to use in the mel-spectrogram\n",
    "    'fmin': 500, # low frequency cutoff for mel filter\n",
    "    'fmax': 12000, # high frequency cutoff for mel filter\n",
    "    \n",
    "    # spectrogram inversion\n",
    "    'max_iters':200,\n",
    "    'griffin_lim_iters':20,\n",
    "    'power':1.5,\n",
    "\n",
    "    # Added for the searching\n",
    "    'read_wav_fun': bs.read_wav_chan, # function for loading the wav_like_stream (has to returns fs, ndarray)\n",
    "    'file_order_fun': bs.sess_file_id, # function for extracting the file id within the session\n",
    "    'min_segment': 30, # Minimum length of supra_threshold to consider a 'syllable' (ms)\n",
    "    'min_silence': 3000, # Minmum distance between groups of syllables to consider separate bouts (ms)\n",
    "    'min_bout': 3000, # min bout duration (ms)\n",
    "    'peak_thresh_rms': 0.55, # threshold (rms) for peak acceptance,\n",
    "    'thresh_rms': 0.25, # threshold for detection of syllables\n",
    "    'mean_syl_rms_thresh': 0.3, #threshold for acceptance of mean rms across the syllable (relative to rms of the file)\n",
    "    'max_bout': 180000, #exclude bouts too long\n",
    "    'l_p_r_thresh': 100, # threshold for n of len_ms/peaks (typycally about 2-3 syllable spans\n",
    "    \n",
    "    'waveform_edges': 1000, #get number of ms before and after the edges of the bout for the waveform sample\n",
    "    \n",
    "    'bout_auto_file': 'bout_auto.pickle', # extension for saving the auto found files\n",
    "    'bout_curated_file': 'bout_checked.pickle', #extension for manually curated files (coming soon)\n",
    "    }"
   ]
  },
  {
   "cell_type": "code",
   "execution_count": null,
   "metadata": {
    "tags": []
   },
   "outputs": [],
   "source": [
    "all_sessions = sess_list[:]\n",
    "#all_sessions = ['2021-06-15']\n",
    "\n",
    "for sess in all_sessions:\n",
    "    sess_par['sess'] = sess\n",
    "    sess_bout_pd = sb.get_all_day_bouts(sess_par, hparams, n_jobs=1, ephys_software='sglx')\n",
    "    sb.save_auto_bouts(sess_bout_pd, sess_par, hparams, software='sglx')\n",
    "    #sess_bouts_folder = os.path.join(exp_struct['folders']['derived'], 'bouts')\n",
    "    #bouts_to_wavs(sess_bout_pd, sess_par, hparams, sess_bouts_folder)"
   ]
  },
  {
   "cell_type": "code",
   "execution_count": null,
   "metadata": {},
   "outputs": [],
   "source": [
    "sess_bout_pd.info()"
   ]
  },
  {
   "cell_type": "code",
   "execution_count": null,
   "metadata": {},
   "outputs": [],
   "source": [
    "np.unique(sess_bout_pd['start_ms']).size"
   ]
  },
  {
   "cell_type": "markdown",
   "metadata": {},
   "source": [
    "# debug"
   ]
  },
  {
   "cell_type": "markdown",
   "metadata": {},
   "source": [
    "## debug search_bout"
   ]
  },
  {
   "cell_type": "code",
   "execution_count": null,
   "metadata": {},
   "outputs": [],
   "source": [
    "## look for a single file\n",
    "sess = sess_list[0]\n",
    "\n",
    "exp_struct = et.get_exp_struct(sess_par['bird'], sess, ephys_software='sglx')\n",
    "source_folder = exp_struct['folders']['derived']\n",
    "wav_path_list = et.get_sgl_files_epochs(source_folder, file_filter='*wav_mic.wav')\n",
    "wav_path_list.sort()\n",
    "logger.info('Found {} files'.format(len(wav_path_list)))\n",
    "print(wav_path_list)"
   ]
  },
  {
   "cell_type": "code",
   "execution_count": null,
   "metadata": {},
   "outputs": [],
   "source": [
    "one_file = wav_path_list[0]"
   ]
  },
  {
   "cell_type": "code",
   "execution_count": null,
   "metadata": {},
   "outputs": [],
   "source": [
    "reload(bs)\n",
    "epoch_bout_pd, epoch_wav = bs.get_bouts_in_long_file(wav_path_list[0], hparams)"
   ]
  },
  {
   "cell_type": "code",
   "execution_count": null,
   "metadata": {},
   "outputs": [],
   "source": []
  }
 ],
 "metadata": {
  "kernelspec": {
   "display_name": "tuputapipe",
   "language": "python",
   "name": "ceciestunepipe"
  },
  "language_info": {
   "codemirror_mode": {
    "name": "ipython",
    "version": 3
   },
   "file_extension": ".py",
   "mimetype": "text/x-python",
   "name": "python",
   "nbconvert_exporter": "python",
   "pygments_lexer": "ipython3",
   "version": "3.8.11"
  }
 },
 "nbformat": 4,
 "nbformat_minor": 4
}
