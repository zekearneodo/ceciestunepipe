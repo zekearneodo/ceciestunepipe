{
 "cells": [
  {
   "cell_type": "markdown",
   "id": "intimate-coating",
   "metadata": {},
   "source": [
    "## Searching for bouts for a day of alsa recording"
   ]
  },
  {
   "cell_type": "code",
   "execution_count": 1,
   "id": "everyday-coating",
   "metadata": {},
   "outputs": [
    {
     "name": "stderr",
     "output_type": "stream",
     "text": [
      "2022-08-08 11:41:34,244 root         INFO     Running on pakhi\n"
     ]
    }
   ],
   "source": [
    "%matplotlib inline\n",
    "\n",
    "import os\n",
    "import glob\n",
    "import socket\n",
    "import logging\n",
    "import numpy as np\n",
    "import pandas as pd\n",
    "from scipy.io import wavfile\n",
    "from scipy import signal\n",
    "\n",
    "from matplotlib import pyplot as plt\n",
    "\n",
    "from importlib import reload\n",
    "\n",
    "logger = logging.getLogger()\n",
    "handler = logging.StreamHandler()\n",
    "formatter = logging.Formatter(\n",
    "        '%(asctime)s %(name)-12s %(levelname)-8s %(message)s')\n",
    "handler.setFormatter(formatter)\n",
    "logger.addHandler(handler)\n",
    "logger.setLevel(logging.INFO)\n",
    "\n",
    "logger.info('Running on {}'.format(socket.gethostname()))"
   ]
  },
  {
   "cell_type": "code",
   "execution_count": 2,
   "id": "emotional-macedonia",
   "metadata": {},
   "outputs": [],
   "source": [
    "from ceciestunepipe.file import bcistructure as et"
   ]
  },
  {
   "cell_type": "markdown",
   "id": "attended-geneva",
   "metadata": {},
   "source": [
    "### Get the file locations for a session (day) of recordings"
   ]
  },
  {
   "cell_type": "code",
   "execution_count": 3,
   "id": "better-quarterly",
   "metadata": {},
   "outputs": [],
   "source": [
    "reload(et)\n",
    "sess_par = {'bird': 's_b1444_22',\n",
    "           'sess': '2022-08-07'}\n",
    "\n",
    "\n",
    "exp_struct = et.get_exp_struct(sess_par['bird'], sess_par['sess'], ephys_software='alsa')\n",
    "\n",
    "raw_folder = exp_struct['folders']['alsa']"
   ]
  },
  {
   "cell_type": "code",
   "execution_count": 4,
   "id": "silver-pointer",
   "metadata": {},
   "outputs": [
    {
     "data": {
      "text/plain": [
       "{'bird': '/mnt/sphere/speech_bci/raw_data/s_b1444_22',\n",
       " 'raw': '/mnt/sphere/speech_bci/raw_data/s_b1444_22/2022-08-07',\n",
       " 'alsa': '/mnt/sphere/speech_bci/raw_data/s_b1444_22/2022-08-07/alsa',\n",
       " 'kwik': '/scratch/earneodo/s_b1444_22/alsa/kwik/2022-08-07',\n",
       " 'processed': '/mnt/sphere/speech_bci/processed_data/s_b1444_22/2022-08-07/alsa',\n",
       " 'derived': '/mnt/sphere/speech_bci/derived_data/s_b1444_22/2022-08-07/alsa',\n",
       " 'tmp': '/scratch/earneodo/tmp',\n",
       " 'msort': '/scratch/earneodo/s_b1444_22/alsa/msort/2022-08-07',\n",
       " 'ksort': '/scratch/earneodo/s_b1444_22/alsa/ksort/2022-08-07/',\n",
       " 'sort': '/mnt/sphere/speech_bci/derived_data/s_b1444_22/2022-08-07/alsa/'}"
      ]
     },
     "execution_count": 4,
     "metadata": {},
     "output_type": "execute_result"
    }
   ],
   "source": [
    "exp_struct['folders']"
   ]
  },
  {
   "cell_type": "markdown",
   "id": "historic-charger",
   "metadata": {},
   "source": [
    "#### search parameters\n",
    "Spectrograms are computed using librosa\n",
    "\n",
    "Additional parameters are for bout search criteria and functions to read the data"
   ]
  },
  {
   "cell_type": "code",
   "execution_count": 5,
   "id": "heard-botswana",
   "metadata": {},
   "outputs": [],
   "source": [
    "# function for getting one channel out of a wave file\n",
    "def read_wav_chan(wav_path: str, chan_id: int=0) -> tuple:\n",
    "    s_f, x = wavfile.read(wav_path, mmap=True) \n",
    "    return s_f, (x[:, chan_id]>>16).astype(np.int16)\n",
    "\n",
    "def sess_file_id(f_path):\n",
    "    n = int(os.path.split(f_path)[1].split('-')[-1].split('.wav')[0])\n",
    "    return n\n",
    "\n",
    "hparams = {\n",
    "    # spectrogram\n",
    "    'num_freq':1024, #1024# how many channels to use in a spectrogram #\n",
    "    'preemphasis':0.97, \n",
    "    'frame_shift_ms':5, # step size for fft\n",
    "    'frame_length_ms':10, #128 # frame length for fft FRAME SAMPLES < NUM_FREQ!!!\n",
    "    'min_level_db':-55, # minimum threshold db for computing spe \n",
    "    'ref_level_db':110, # reference db for computing spec\n",
    "    'sample_rate':None, # sample rate of your data\n",
    "    \n",
    "    # spectrograms\n",
    "    'mel_filter': False, # should a mel filter be used?\n",
    "    'num_mels':1024, # how many channels to use in the mel-spectrogram\n",
    "    'fmin': 500, # low frequency cutoff for mel filter\n",
    "    'fmax': 12000, # high frequency cutoff for mel filter\n",
    "    \n",
    "    # spectrogram inversion\n",
    "    'max_iters':200,\n",
    "    'griffin_lim_iters':20,\n",
    "    'power':1.5,\n",
    "\n",
    "    # Added for the searching\n",
    "    'read_wav_fun': read_wav_chan, # function for loading the wav_like_stream (has to returns fs, ndarray)\n",
    "    'file_order_fun': sess_file_id, # function for extracting the file id within the session\n",
    "    'min_segment': 30, # Minimum length of supra_threshold to consider a 'syllable' (ms)\n",
    "    'min_silence': 2000, # Minmum distance between groups of syllables to consider separate bouts (ms)\n",
    "    'min_bout': 5000, # min bout duration (ms)\n",
    "    'peak_thresh_rms': 0.55, # threshold (rms) for peak acceptance,\n",
    "    'thresh_rms': 0.25, # threshold for detection of syllables\n",
    "    'mean_syl_rms_thresh': 0.3, #threshold for acceptance of mean rms across the syllable (relative to rms of the file)\n",
    "    'max_bout': 120000, #exclude bouts too long\n",
    "    'l_p_r_thresh': 100, # threshold for n of len_ms/peaks (typycally about 2-3 syllable spans\n",
    "    \n",
    "    'waveform_edges': 1000, #get number of ms before and after the edges of the bout for the waveform sample\n",
    "    \n",
    "    'bout_auto_file': 'bout_auto.pickle', # extension for saving the auto found files\n",
    "    'bout_curated_file': 'bout_checked.pickle', #extension for manually curated files (coming soon)\n",
    "    }"
   ]
  },
  {
   "cell_type": "markdown",
   "id": "7951b85b",
   "metadata": {},
   "source": [
    "### debug the bout searching"
   ]
  },
  {
   "cell_type": "markdown",
   "id": "sought-board",
   "metadata": {},
   "source": [
    "#### Get one wave file"
   ]
  },
  {
   "cell_type": "code",
   "execution_count": 6,
   "id": "complimentary-parcel",
   "metadata": {},
   "outputs": [],
   "source": [
    "one_wav_path = os.path.join(exp_struct['folders']['alsa'], '08-00-01-02.wav')\n",
    "\n",
    "s_f, x = read_wav_chan(one_wav_path)\n",
    "\n",
    "hparams['sample_rate'] = s_f"
   ]
  },
  {
   "cell_type": "code",
   "execution_count": 7,
   "id": "correct-penetration",
   "metadata": {},
   "outputs": [
    {
     "data": {
      "text/plain": [
       "(81600000,)"
      ]
     },
     "execution_count": 7,
     "metadata": {},
     "output_type": "execute_result"
    }
   ],
   "source": [
    "x.shape"
   ]
  },
  {
   "cell_type": "code",
   "execution_count": 8,
   "id": "71942082",
   "metadata": {},
   "outputs": [
    {
     "data": {
      "text/plain": [
       "dtype('int16')"
      ]
     },
     "execution_count": 8,
     "metadata": {},
     "output_type": "execute_result"
    }
   ],
   "source": [
    "x.dtype"
   ]
  },
  {
   "cell_type": "code",
   "execution_count": 9,
   "id": "e3b70197",
   "metadata": {},
   "outputs": [
    {
     "data": {
      "text/plain": [
       "[<matplotlib.lines.Line2D at 0x7f8fae9886d0>]"
      ]
     },
     "execution_count": 9,
     "metadata": {},
     "output_type": "execute_result"
    },
    {
     "data": {
      "image/png": "[encoded data removed]",
      "text/plain": [
       "<Figure size 432x288 with 1 Axes>"
      ]
     },
     "metadata": {
      "needs_background": "light"
     },
     "output_type": "display_data"
    }
   ],
   "source": [
    "plt.plot(x[:50000])"
   ]
  },
  {
   "cell_type": "code",
   "execution_count": 13,
   "id": "accurate-reflection",
   "metadata": {},
   "outputs": [
    {
     "data": {
      "text/plain": [
       "[<matplotlib.lines.Line2D at 0x7f6c70e5afa0>]"
      ]
     },
     "execution_count": 13,
     "metadata": {},
     "output_type": "execute_result"
    },
    {
     "data": {
      "image/png": "[encoded data removed]",
      "text/plain": [
       "<Figure size 432x288 with 1 Axes>"
      ]
     },
     "metadata": {
      "needs_background": "light"
     },
     "output_type": "display_data"
    }
   ],
   "source": [
    "plt.plot(x[:50000])"
   ]
  },
  {
   "cell_type": "markdown",
   "id": "continued-intelligence",
   "metadata": {},
   "source": [
    "### try the function to search for bouts in the file"
   ]
  },
  {
   "cell_type": "code",
   "execution_count": 10,
   "id": "southeast-fellow",
   "metadata": {},
   "outputs": [],
   "source": [
    "from ceciestunepipe.util.sound import boutsearch as bs"
   ]
  },
  {
   "cell_type": "code",
   "execution_count": 11,
   "id": "28f0fb28",
   "metadata": {},
   "outputs": [],
   "source": [
    "bs.get_bouts_in_file??"
   ]
  },
  {
   "cell_type": "code",
   "execution_count": 12,
   "id": "706f5898",
   "metadata": {},
   "outputs": [
    {
     "name": "stderr",
     "output_type": "stream",
     "text": [
      "2022-08-08 11:42:09,876 ceciestunepipe.util.sound.boutsearch INFO     Getting bouts for file /mnt/sphere/speech_bci/raw_data/s_b1444_22/2022-08-07/alsa/08-00-01-02.wav\n"
     ]
    }
   ],
   "source": [
    "bpd, x, p = bs.get_bouts_in_file(one_wav_path, hparams)"
   ]
  },
  {
   "cell_type": "code",
   "execution_count": 13,
   "id": "5ace10d8",
   "metadata": {},
   "outputs": [
    {
     "data": {
      "text/plain": [
       "[<matplotlib.lines.Line2D at 0x7f8ffdaf02e0>]"
      ]
     },
     "execution_count": 13,
     "metadata": {},
     "output_type": "execute_result"
    },
    {
     "data": {
      "image/png": "[encoded data removed]",
      "text/plain": [
       "<Figure size 432x288 with 1 Axes>"
      ]
     },
     "metadata": {
      "needs_background": "light"
     },
     "output_type": "display_data"
    }
   ],
   "source": [
    "plt.plot(p[:50000])"
   ]
  },
  {
   "cell_type": "code",
   "execution_count": 24,
   "id": "4e60dc3f",
   "metadata": {},
   "outputs": [
    {
     "data": {
      "text/plain": [
       "[<matplotlib.lines.Line2D at 0x7f6ce7149610>]"
      ]
     },
     "execution_count": 24,
     "metadata": {},
     "output_type": "execute_result"
    },
    {
     "data": {
      "image/png": "[encoded data removed]",
      "text/plain": [
       "<Figure size 432x288 with 1 Axes>"
      ]
     },
     "metadata": {
      "needs_background": "light"
     },
     "output_type": "display_data"
    }
   ],
   "source": [
    "plt.plot(p[:50000])"
   ]
  },
  {
   "cell_type": "code",
   "execution_count": 26,
   "id": "eecea5a9",
   "metadata": {},
   "outputs": [],
   "source": [
    "from ceciestunepipe.util.sound import spectral as sp"
   ]
  },
  {
   "cell_type": "code",
   "execution_count": 27,
   "id": "9df8bb5c",
   "metadata": {},
   "outputs": [],
   "source": [
    "s = sp.rosa_spectrogram(x.flatten(), hparams)"
   ]
  },
  {
   "cell_type": "code",
   "execution_count": 28,
   "id": "ecc66d85",
   "metadata": {},
   "outputs": [
    {
     "data": {
      "text/plain": [
       "(1024, 340001)"
      ]
     },
     "execution_count": 28,
     "metadata": {},
     "output_type": "execute_result"
    }
   ],
   "source": [
    "s.shape"
   ]
  },
  {
   "cell_type": "code",
   "execution_count": 15,
   "id": "major-coordination",
   "metadata": {},
   "outputs": [
    {
     "data": {
      "text/plain": [
       "<module 'ceciestunepipe.util.sound.boutsearch' from '/mnt/cube/earneodo/repos/ceciestunepipe/ceciestunepipe/util/sound/boutsearch.py'>"
      ]
     },
     "execution_count": 15,
     "metadata": {},
     "output_type": "execute_result"
    }
   ],
   "source": [
    "reload(bs)"
   ]
  },
  {
   "cell_type": "code",
   "execution_count": 11,
   "id": "noble-shirt",
   "metadata": {
    "scrolled": true
   },
   "outputs": [],
   "source": [
    "#bpd, x, p = bs.get_bouts_in_file(one_wav_path, hparams)\n",
    "\n",
    "bouts_file_path = '/mnt/sphere/speech_bci/derived_data/s_b1253_21/2021-06-29/alsa/bouts_ceciestunepipe/bout_auto.pickle'"
   ]
  },
  {
   "cell_type": "code",
   "execution_count": 12,
   "id": "editorial-invitation",
   "metadata": {},
   "outputs": [],
   "source": [
    "bpd = pd.read_pickle(bouts_file_path)"
   ]
  },
  {
   "cell_type": "code",
   "execution_count": 13,
   "id": "reflected-academy",
   "metadata": {},
   "outputs": [
    {
     "data": {
      "text/plain": [
       "[<matplotlib.lines.Line2D at 0x7f729a887310>]"
      ]
     },
     "execution_count": 13,
     "metadata": {},
     "output_type": "execute_result"
    },
    {
     "data": {
      "image/png": "[encoded data removed]",
      "text/plain": [
       "<Figure size 432x288 with 1 Axes>"
      ]
     },
     "metadata": {
      "needs_background": "light"
     },
     "output_type": "display_data"
    }
   ],
   "source": [
    "plt.plot(bpd['waveform'].values[0])"
   ]
  },
  {
   "cell_type": "code",
   "execution_count": 14,
   "id": "respiratory-console",
   "metadata": {},
   "outputs": [
    {
     "data": {
      "text/html": [
       "<div>\n",
       "<style scoped>\n",
       "    .dataframe tbody tr th:only-of-type {\n",
       "        vertical-align: middle;\n",
       "    }\n",
       "\n",
       "    .dataframe tbody tr th {\n",
       "        vertical-align: top;\n",
       "    }\n",
       "\n",
       "    .dataframe thead th {\n",
       "        text-align: right;\n",
       "    }\n",
       "</style>\n",
       "<table border=\"1\" class=\"dataframe\">\n",
       "  <thead>\n",
       "    <tr style=\"text-align: right;\">\n",
       "      <th></th>\n",
       "      <th>start_ms</th>\n",
       "      <th>end_ms</th>\n",
       "      <th>start_sample</th>\n",
       "      <th>end_sample</th>\n",
       "      <th>p_step</th>\n",
       "      <th>rms_p</th>\n",
       "      <th>peak_p</th>\n",
       "      <th>bout_check</th>\n",
       "      <th>file</th>\n",
       "      <th>len_ms</th>\n",
       "      <th>syl_in</th>\n",
       "      <th>n_syl</th>\n",
       "      <th>peaks_p</th>\n",
       "      <th>n_peaks</th>\n",
       "      <th>l_p_ratio</th>\n",
       "      <th>waveform</th>\n",
       "      <th>spectrogram</th>\n",
       "    </tr>\n",
       "  </thead>\n",
       "  <tbody>\n",
       "    <tr>\n",
       "      <th>0</th>\n",
       "      <td>386220</td>\n",
       "      <td>403405</td>\n",
       "      <td>18538560</td>\n",
       "      <td>19363440</td>\n",
       "      <td>[1.184938257587107, 2.4208140006067325, 0.7952...</td>\n",
       "      <td>2.355654</td>\n",
       "      <td>55.925494</td>\n",
       "      <td>True</td>\n",
       "      <td>/mnt/sphere/speech_bci/raw_data/s_b1253_21/202...</td>\n",
       "      <td>17185</td>\n",
       "      <td>[[386220, 386565], [387645, 387860], [387945, ...</td>\n",
       "      <td>74</td>\n",
       "      <td>[6, 13, 24, 35, 45, 56, 64, 255, 287, 298, 305...</td>\n",
       "      <td>193</td>\n",
       "      <td>89.041451</td>\n",
       "      <td>[-5, -5, -4, -5, -5, -5, -4, -3, -4, -4, -4, -...</td>\n",
       "      <td>[[0.0, 0.0, 0.0, 0.0, 0.0, 0.0, 0.0, 0.0, 0.0,...</td>\n",
       "    </tr>\n",
       "    <tr>\n",
       "      <th>1</th>\n",
       "      <td>1374510</td>\n",
       "      <td>1417635</td>\n",
       "      <td>65976480</td>\n",
       "      <td>68046480</td>\n",
       "      <td>[1.162909673461553, 1.9454584380127675, 1.2650...</td>\n",
       "      <td>4.257527</td>\n",
       "      <td>173.941341</td>\n",
       "      <td>True</td>\n",
       "      <td>/mnt/sphere/speech_bci/raw_data/s_b1253_21/202...</td>\n",
       "      <td>43125</td>\n",
       "      <td>[[1374510, 1374720], [1374735, 1374810], [1376...</td>\n",
       "      <td>178</td>\n",
       "      <td>[10, 23, 41, 49, 56, 340, 348, 355, 373, 380, ...</td>\n",
       "      <td>605</td>\n",
       "      <td>71.280992</td>\n",
       "      <td>[7, 6, 6, 5, 5, 5, 5, 5, 3, 4, 5, 3, 4, 4, 4, ...</td>\n",
       "      <td>[[0.0, 0.0, 0.0, 0.0, 0.0, 0.0, 0.0, 0.0, 0.0,...</td>\n",
       "    </tr>\n",
       "    <tr>\n",
       "      <th>2</th>\n",
       "      <td>119310</td>\n",
       "      <td>124500</td>\n",
       "      <td>5726880</td>\n",
       "      <td>5976000</td>\n",
       "      <td>[24.402635779515865, 29.9121393129395, 25.7324...</td>\n",
       "      <td>3.657879</td>\n",
       "      <td>122.577027</td>\n",
       "      <td>True</td>\n",
       "      <td>/mnt/sphere/speech_bci/raw_data/s_b1253_21/202...</td>\n",
       "      <td>5190</td>\n",
       "      <td>[[119310, 119350], [120235, 120300], [120535, ...</td>\n",
       "      <td>10</td>\n",
       "      <td>[1, 14, 34, 185, 247, 255, 398, 446, 531, 544,...</td>\n",
       "      <td>20</td>\n",
       "      <td>259.500000</td>\n",
       "      <td>[-22, -20, -19, -17, -15, -14, -16, -15, -16, ...</td>\n",
       "      <td>[[0.0, 0.0, 0.0, 0.0, 0.0, 0.0, 0.0, 0.0, 0.0,...</td>\n",
       "    </tr>\n",
       "    <tr>\n",
       "      <th>3</th>\n",
       "      <td>823780</td>\n",
       "      <td>862245</td>\n",
       "      <td>39541440</td>\n",
       "      <td>41387760</td>\n",
       "      <td>[4.190658508647245, 6.408519407723347, 7.26849...</td>\n",
       "      <td>3.657879</td>\n",
       "      <td>175.715844</td>\n",
       "      <td>True</td>\n",
       "      <td>/mnt/sphere/speech_bci/raw_data/s_b1253_21/202...</td>\n",
       "      <td>38465</td>\n",
       "      <td>[[823780, 824115], [825590, 825945], [825955, ...</td>\n",
       "      <td>150</td>\n",
       "      <td>[4, 16, 26, 35, 48, 55, 62, 356, 363, 370, 377...</td>\n",
       "      <td>531</td>\n",
       "      <td>72.438795</td>\n",
       "      <td>[-2, -3, -2, -2, -1, -1, -1, -1, 0, 0, -1, -1,...</td>\n",
       "      <td>[[0.0, 0.0, 0.0, 0.0, 0.0, 0.0, 0.0, 0.0, 0.0,...</td>\n",
       "    </tr>\n",
       "    <tr>\n",
       "      <th>4</th>\n",
       "      <td>244295</td>\n",
       "      <td>295845</td>\n",
       "      <td>11726160</td>\n",
       "      <td>14200560</td>\n",
       "      <td>[3.927754416723628, 5.516490537116973, 5.05671...</td>\n",
       "      <td>8.273053</td>\n",
       "      <td>205.149649</td>\n",
       "      <td>True</td>\n",
       "      <td>/mnt/sphere/speech_bci/raw_data/s_b1253_21/202...</td>\n",
       "      <td>51550</td>\n",
       "      <td>[[244295, 244625], [246520, 246685], [246700, ...</td>\n",
       "      <td>153</td>\n",
       "      <td>[6, 14, 28, 39, 52, 60, 449, 456, 464, 473, 48...</td>\n",
       "      <td>578</td>\n",
       "      <td>89.186851</td>\n",
       "      <td>[-12, -12, -12, -11, -11, -10, -9, -10, -9, -9...</td>\n",
       "      <td>[[0.0, 0.0, 0.0, 0.0, 0.0, 0.0, 0.0, 0.0, 0.0,...</td>\n",
       "    </tr>\n",
       "    <tr>\n",
       "      <th>...</th>\n",
       "      <td>...</td>\n",
       "      <td>...</td>\n",
       "      <td>...</td>\n",
       "      <td>...</td>\n",
       "      <td>...</td>\n",
       "      <td>...</td>\n",
       "      <td>...</td>\n",
       "      <td>...</td>\n",
       "      <td>...</td>\n",
       "      <td>...</td>\n",
       "      <td>...</td>\n",
       "      <td>...</td>\n",
       "      <td>...</td>\n",
       "      <td>...</td>\n",
       "      <td>...</td>\n",
       "      <td>...</td>\n",
       "      <td>...</td>\n",
       "    </tr>\n",
       "    <tr>\n",
       "      <th>100</th>\n",
       "      <td>1640535</td>\n",
       "      <td>1652395</td>\n",
       "      <td>78745680</td>\n",
       "      <td>79314960</td>\n",
       "      <td>[82.13969134333, 62.61464610796436, 45.4542544...</td>\n",
       "      <td>2.703077</td>\n",
       "      <td>111.593736</td>\n",
       "      <td>True</td>\n",
       "      <td>/mnt/sphere/speech_bci/raw_data/s_b1253_21/202...</td>\n",
       "      <td>11860</td>\n",
       "      <td>[[1640535, 1640600], [1641115, 1641165], [1641...</td>\n",
       "      <td>20</td>\n",
       "      <td>[4, 52, 61, 116, 190, 199, 324, 478, 549, 619,...</td>\n",
       "      <td>37</td>\n",
       "      <td>320.540541</td>\n",
       "      <td>[-1, -1, 0, -1, -1, 0, 0, 0, -2, -1, 0, 0, -1,...</td>\n",
       "      <td>[[0.0, 0.0, 0.0, 0.0, 0.0, 0.0, 0.0, 0.0, 0.0,...</td>\n",
       "    </tr>\n",
       "    <tr>\n",
       "      <th>101</th>\n",
       "      <td>1774740</td>\n",
       "      <td>1781460</td>\n",
       "      <td>85187520</td>\n",
       "      <td>85510080</td>\n",
       "      <td>[70.67137314492564, 86.4128538871617, 60.78571...</td>\n",
       "      <td>2.703077</td>\n",
       "      <td>106.481450</td>\n",
       "      <td>True</td>\n",
       "      <td>/mnt/sphere/speech_bci/raw_data/s_b1253_21/202...</td>\n",
       "      <td>6720</td>\n",
       "      <td>[[1774740, 1774795], [1774985, 1775035], [1775...</td>\n",
       "      <td>12</td>\n",
       "      <td>[1, 49, 72, 107, 150, 163, 412, 530, 553, 570,...</td>\n",
       "      <td>22</td>\n",
       "      <td>305.454545</td>\n",
       "      <td>[7, 7, 7, 7, 7, 7, 7, 7, 7, 7, 6, 7, 7, 6, 7, ...</td>\n",
       "      <td>[[0.0, 0.0, 0.0, 0.0, 0.0, 0.0, 0.0, 0.0, 0.0,...</td>\n",
       "    </tr>\n",
       "    <tr>\n",
       "      <th>102</th>\n",
       "      <td>1793840</td>\n",
       "      <td>1798865</td>\n",
       "      <td>86104320</td>\n",
       "      <td>86345520</td>\n",
       "      <td>[13.498636366008258, 15.650307137330737, 18.98...</td>\n",
       "      <td>2.703077</td>\n",
       "      <td>113.578378</td>\n",
       "      <td>True</td>\n",
       "      <td>/mnt/sphere/speech_bci/raw_data/s_b1253_21/202...</td>\n",
       "      <td>5025</td>\n",
       "      <td>[[1793840, 1793870], [1794165, 1794205], [1794...</td>\n",
       "      <td>12</td>\n",
       "      <td>[2, 67, 142, 149, 221, 505, 747, 757, 766, 778...</td>\n",
       "      <td>19</td>\n",
       "      <td>264.473684</td>\n",
       "      <td>[3, 3, 4, 3, 3, 3, 4, 3, 2, 4, 4, 4, 4, 4, 3, ...</td>\n",
       "      <td>[[0.0, 0.0, 0.0, 0.0, 0.0, 0.0, 0.0, 0.0, 0.0,...</td>\n",
       "    </tr>\n",
       "    <tr>\n",
       "      <th>103</th>\n",
       "      <td>5045</td>\n",
       "      <td>10840</td>\n",
       "      <td>242160</td>\n",
       "      <td>520320</td>\n",
       "      <td>[50.71336751550965, 83.38786336067012, 72.7050...</td>\n",
       "      <td>3.247953</td>\n",
       "      <td>83.387863</td>\n",
       "      <td>True</td>\n",
       "      <td>/mnt/sphere/speech_bci/raw_data/s_b1253_21/202...</td>\n",
       "      <td>5795</td>\n",
       "      <td>[[5045, 5115], [5750, 5805], [7235, 7295], [75...</td>\n",
       "      <td>11</td>\n",
       "      <td>[1, 10, 145, 226, 264, 442, 504, 516, 599, 661...</td>\n",
       "      <td>18</td>\n",
       "      <td>321.944444</td>\n",
       "      <td>[3, 3, 3, 3, 2, 2, 2, 2, 2, 2, 2, 2, 1, 1, 2, ...</td>\n",
       "      <td>[[0.0, 0.0, 0.0, 0.0, 0.0, 0.0, 0.0, 0.0, 0.0,...</td>\n",
       "    </tr>\n",
       "    <tr>\n",
       "      <th>104</th>\n",
       "      <td>92715</td>\n",
       "      <td>99785</td>\n",
       "      <td>4450320</td>\n",
       "      <td>4789680</td>\n",
       "      <td>[1.272415945022137, 1.9503238440068555, 3.3144...</td>\n",
       "      <td>3.247953</td>\n",
       "      <td>47.655865</td>\n",
       "      <td>True</td>\n",
       "      <td>/mnt/sphere/speech_bci/raw_data/s_b1253_21/202...</td>\n",
       "      <td>7070</td>\n",
       "      <td>[[92715, 92880], [92895, 92955], [92965, 93020...</td>\n",
       "      <td>15</td>\n",
       "      <td>[8, 18, 26, 47, 54, 303, 335, 342, 413, 420, 4...</td>\n",
       "      <td>42</td>\n",
       "      <td>168.333333</td>\n",
       "      <td>[-1, 0, 0, 0, 0, 0, 2, 0, 0, 2, 2, 2, 2, 2, 3,...</td>\n",
       "      <td>[[0.0, 0.0, 0.0, 0.0, 0.0, 0.0, 0.0, 0.0, 0.0,...</td>\n",
       "    </tr>\n",
       "  </tbody>\n",
       "</table>\n",
       "<p>105 rows × 17 columns</p>\n",
       "</div>"
      ],
      "text/plain": [
       "     start_ms   end_ms  start_sample  end_sample  \\\n",
       "0      386220   403405      18538560    19363440   \n",
       "1     1374510  1417635      65976480    68046480   \n",
       "2      119310   124500       5726880     5976000   \n",
       "3      823780   862245      39541440    41387760   \n",
       "4      244295   295845      11726160    14200560   \n",
       "..        ...      ...           ...         ...   \n",
       "100   1640535  1652395      78745680    79314960   \n",
       "101   1774740  1781460      85187520    85510080   \n",
       "102   1793840  1798865      86104320    86345520   \n",
       "103      5045    10840        242160      520320   \n",
       "104     92715    99785       4450320     4789680   \n",
       "\n",
       "                                                p_step     rms_p      peak_p  \\\n",
       "0    [1.184938257587107, 2.4208140006067325, 0.7952...  2.355654   55.925494   \n",
       "1    [1.162909673461553, 1.9454584380127675, 1.2650...  4.257527  173.941341   \n",
       "2    [24.402635779515865, 29.9121393129395, 25.7324...  3.657879  122.577027   \n",
       "3    [4.190658508647245, 6.408519407723347, 7.26849...  3.657879  175.715844   \n",
       "4    [3.927754416723628, 5.516490537116973, 5.05671...  8.273053  205.149649   \n",
       "..                                                 ...       ...         ...   \n",
       "100  [82.13969134333, 62.61464610796436, 45.4542544...  2.703077  111.593736   \n",
       "101  [70.67137314492564, 86.4128538871617, 60.78571...  2.703077  106.481450   \n",
       "102  [13.498636366008258, 15.650307137330737, 18.98...  2.703077  113.578378   \n",
       "103  [50.71336751550965, 83.38786336067012, 72.7050...  3.247953   83.387863   \n",
       "104  [1.272415945022137, 1.9503238440068555, 3.3144...  3.247953   47.655865   \n",
       "\n",
       "     bout_check                                               file  len_ms  \\\n",
       "0          True  /mnt/sphere/speech_bci/raw_data/s_b1253_21/202...   17185   \n",
       "1          True  /mnt/sphere/speech_bci/raw_data/s_b1253_21/202...   43125   \n",
       "2          True  /mnt/sphere/speech_bci/raw_data/s_b1253_21/202...    5190   \n",
       "3          True  /mnt/sphere/speech_bci/raw_data/s_b1253_21/202...   38465   \n",
       "4          True  /mnt/sphere/speech_bci/raw_data/s_b1253_21/202...   51550   \n",
       "..          ...                                                ...     ...   \n",
       "100        True  /mnt/sphere/speech_bci/raw_data/s_b1253_21/202...   11860   \n",
       "101        True  /mnt/sphere/speech_bci/raw_data/s_b1253_21/202...    6720   \n",
       "102        True  /mnt/sphere/speech_bci/raw_data/s_b1253_21/202...    5025   \n",
       "103        True  /mnt/sphere/speech_bci/raw_data/s_b1253_21/202...    5795   \n",
       "104        True  /mnt/sphere/speech_bci/raw_data/s_b1253_21/202...    7070   \n",
       "\n",
       "                                                syl_in  n_syl  \\\n",
       "0    [[386220, 386565], [387645, 387860], [387945, ...     74   \n",
       "1    [[1374510, 1374720], [1374735, 1374810], [1376...    178   \n",
       "2    [[119310, 119350], [120235, 120300], [120535, ...     10   \n",
       "3    [[823780, 824115], [825590, 825945], [825955, ...    150   \n",
       "4    [[244295, 244625], [246520, 246685], [246700, ...    153   \n",
       "..                                                 ...    ...   \n",
       "100  [[1640535, 1640600], [1641115, 1641165], [1641...     20   \n",
       "101  [[1774740, 1774795], [1774985, 1775035], [1775...     12   \n",
       "102  [[1793840, 1793870], [1794165, 1794205], [1794...     12   \n",
       "103  [[5045, 5115], [5750, 5805], [7235, 7295], [75...     11   \n",
       "104  [[92715, 92880], [92895, 92955], [92965, 93020...     15   \n",
       "\n",
       "                                               peaks_p  n_peaks   l_p_ratio  \\\n",
       "0    [6, 13, 24, 35, 45, 56, 64, 255, 287, 298, 305...      193   89.041451   \n",
       "1    [10, 23, 41, 49, 56, 340, 348, 355, 373, 380, ...      605   71.280992   \n",
       "2    [1, 14, 34, 185, 247, 255, 398, 446, 531, 544,...       20  259.500000   \n",
       "3    [4, 16, 26, 35, 48, 55, 62, 356, 363, 370, 377...      531   72.438795   \n",
       "4    [6, 14, 28, 39, 52, 60, 449, 456, 464, 473, 48...      578   89.186851   \n",
       "..                                                 ...      ...         ...   \n",
       "100  [4, 52, 61, 116, 190, 199, 324, 478, 549, 619,...       37  320.540541   \n",
       "101  [1, 49, 72, 107, 150, 163, 412, 530, 553, 570,...       22  305.454545   \n",
       "102  [2, 67, 142, 149, 221, 505, 747, 757, 766, 778...       19  264.473684   \n",
       "103  [1, 10, 145, 226, 264, 442, 504, 516, 599, 661...       18  321.944444   \n",
       "104  [8, 18, 26, 47, 54, 303, 335, 342, 413, 420, 4...       42  168.333333   \n",
       "\n",
       "                                              waveform  \\\n",
       "0    [-5, -5, -4, -5, -5, -5, -4, -3, -4, -4, -4, -...   \n",
       "1    [7, 6, 6, 5, 5, 5, 5, 5, 3, 4, 5, 3, 4, 4, 4, ...   \n",
       "2    [-22, -20, -19, -17, -15, -14, -16, -15, -16, ...   \n",
       "3    [-2, -3, -2, -2, -1, -1, -1, -1, 0, 0, -1, -1,...   \n",
       "4    [-12, -12, -12, -11, -11, -10, -9, -10, -9, -9...   \n",
       "..                                                 ...   \n",
       "100  [-1, -1, 0, -1, -1, 0, 0, 0, -2, -1, 0, 0, -1,...   \n",
       "101  [7, 7, 7, 7, 7, 7, 7, 7, 7, 7, 6, 7, 7, 6, 7, ...   \n",
       "102  [3, 3, 4, 3, 3, 3, 4, 3, 2, 4, 4, 4, 4, 4, 3, ...   \n",
       "103  [3, 3, 3, 3, 2, 2, 2, 2, 2, 2, 2, 2, 1, 1, 2, ...   \n",
       "104  [-1, 0, 0, 0, 0, 0, 2, 0, 0, 2, 2, 2, 2, 2, 3,...   \n",
       "\n",
       "                                           spectrogram  \n",
       "0    [[0.0, 0.0, 0.0, 0.0, 0.0, 0.0, 0.0, 0.0, 0.0,...  \n",
       "1    [[0.0, 0.0, 0.0, 0.0, 0.0, 0.0, 0.0, 0.0, 0.0,...  \n",
       "2    [[0.0, 0.0, 0.0, 0.0, 0.0, 0.0, 0.0, 0.0, 0.0,...  \n",
       "3    [[0.0, 0.0, 0.0, 0.0, 0.0, 0.0, 0.0, 0.0, 0.0,...  \n",
       "4    [[0.0, 0.0, 0.0, 0.0, 0.0, 0.0, 0.0, 0.0, 0.0,...  \n",
       "..                                                 ...  \n",
       "100  [[0.0, 0.0, 0.0, 0.0, 0.0, 0.0, 0.0, 0.0, 0.0,...  \n",
       "101  [[0.0, 0.0, 0.0, 0.0, 0.0, 0.0, 0.0, 0.0, 0.0,...  \n",
       "102  [[0.0, 0.0, 0.0, 0.0, 0.0, 0.0, 0.0, 0.0, 0.0,...  \n",
       "103  [[0.0, 0.0, 0.0, 0.0, 0.0, 0.0, 0.0, 0.0, 0.0,...  \n",
       "104  [[0.0, 0.0, 0.0, 0.0, 0.0, 0.0, 0.0, 0.0, 0.0,...  \n",
       "\n",
       "[105 rows x 17 columns]"
      ]
     },
     "execution_count": 14,
     "metadata": {},
     "output_type": "execute_result"
    }
   ],
   "source": [
    "bpd"
   ]
  },
  {
   "cell_type": "markdown",
   "id": "hairy-advantage",
   "metadata": {},
   "source": [
    "### inspect the bouts and curate them"
   ]
  },
  {
   "cell_type": "markdown",
   "id": "religious-priest",
   "metadata": {},
   "source": [
    "#### visualize one bout"
   ]
  },
  {
   "cell_type": "code",
   "execution_count": 15,
   "id": "concrete-homework",
   "metadata": {},
   "outputs": [],
   "source": [
    "bpd['spectrogram'] = bpd['waveform'].apply(lambda x: bs.gimmepower(x, hparams)[2])"
   ]
  },
  {
   "cell_type": "code",
   "execution_count": 16,
   "id": "political-asset",
   "metadata": {},
   "outputs": [
    {
     "data": {
      "text/plain": [
       "start_ms                                                   386220\n",
       "end_ms                                                     403405\n",
       "start_sample                                             18538560\n",
       "end_sample                                               19363440\n",
       "p_step          [1.184938257587107, 2.4208140006067325, 0.7952...\n",
       "rms_p                                                    2.355654\n",
       "peak_p                                                  55.925494\n",
       "bout_check                                                   True\n",
       "file            /mnt/sphere/speech_bci/raw_data/s_b1253_21/202...\n",
       "len_ms                                                      17185\n",
       "syl_in          [[386220, 386565], [387645, 387860], [387945, ...\n",
       "n_syl                                                          74\n",
       "peaks_p         [6, 13, 24, 35, 45, 56, 64, 255, 287, 298, 305...\n",
       "n_peaks                                                       193\n",
       "l_p_ratio                                               89.041451\n",
       "waveform        [-5, -5, -4, -5, -5, -5, -4, -3, -4, -4, -4, -...\n",
       "spectrogram     [[0.0, 0.0, 0.0, 0.0, 0.0, 0.0, 0.0, 0.0, 0.0,...\n",
       "Name: 0, dtype: object"
      ]
     },
     "execution_count": 16,
     "metadata": {},
     "output_type": "execute_result"
    }
   ],
   "source": [
    "bpd.iloc[0]"
   ]
  },
  {
   "cell_type": "code",
   "execution_count": 17,
   "id": "painful-wales",
   "metadata": {},
   "outputs": [
    {
     "data": {
      "image/png": "[encoded data removed]",
      "text/plain": [
       "<Figure size 1440x216 with 2 Axes>"
      ]
     },
     "metadata": {
      "needs_background": "light"
     },
     "output_type": "display_data"
    }
   ],
   "source": [
    "def viz_bout(df: pd.Series, ax_arr=None, sub_sample=10):\n",
    "    # get the power and the spectrogram\n",
    "    sxx = df['spectrogram'][:, ::sub_sample]\n",
    "    x = df['waveform'][::sub_sample]\n",
    "    \n",
    "    if ax_arr is None:\n",
    "        fig, ax_arr = plt.subplots(nrows=2, figsize=(20, 4))\n",
    "    \n",
    "    ax_arr[0].imshow(np.sqrt(sxx[::-1]), aspect='auto', cmap='inferno')\n",
    "    ax_arr[1].plot(x)\n",
    "    \n",
    "fig, ax = plt.subplots(nrows=2, figsize=(20, 3))\n",
    "\n",
    "viz_bout(bpd.iloc[2], ax)"
   ]
  },
  {
   "cell_type": "markdown",
   "id": "forward-confidentiality",
   "metadata": {},
   "source": [
    "#### use it in a widget\n"
   ]
  },
  {
   "cell_type": "code",
   "execution_count": 18,
   "id": "laden-rebecca",
   "metadata": {},
   "outputs": [],
   "source": [
    "from IPython.display import display, clear_output"
   ]
  },
  {
   "cell_type": "code",
   "execution_count": 19,
   "id": "ongoing-comment",
   "metadata": {},
   "outputs": [],
   "source": [
    "import ipywidgets as widgets"
   ]
  },
  {
   "cell_type": "code",
   "execution_count": 20,
   "id": "vocational-daily",
   "metadata": {},
   "outputs": [],
   "source": [
    "from traitlets import CInt, link"
   ]
  },
  {
   "cell_type": "code",
   "execution_count": 21,
   "id": "medieval-internet",
   "metadata": {},
   "outputs": [],
   "source": [
    "class Counter(widgets.DOMWidget):\n",
    "    value = CInt(0)\n",
    "    value.tag(sync=True)"
   ]
  },
  {
   "cell_type": "code",
   "execution_count": 37,
   "id": "plain-treasure",
   "metadata": {
    "jupyter": {
     "source_hidden": true
    }
   },
   "outputs": [
    {
     "data": {
      "application/vnd.jupyter.widget-view+json": {
       "model_id": "06042756cba0475fbab0cc27b8b2f94b",
       "version_major": 2,
       "version_minor": 0
      },
      "text/plain": [
       "HBox(children=(VBox(children=(Button(button_style='warning', description='Prev', icon='minus', style=ButtonSty…"
      ]
     },
     "metadata": {},
     "output_type": "display_data"
    },
    {
     "data": {
      "application/vnd.jupyter.widget-view+json": {
       "model_id": "4242f1c9508f4c00acb7e04ffc5f8bd3",
       "version_major": 2,
       "version_minor": 0
      },
      "text/plain": [
       "IntSlider(value=0, description='MotCandidate', max=104)"
      ]
     },
     "metadata": {},
     "output_type": "display_data"
    },
    {
     "data": {
      "application/vnd.jupyter.widget-view+json": {
       "model_id": "9b67f1e4bf054cf79e0907ba66446ee5",
       "version_major": 2,
       "version_minor": 0
      },
      "text/plain": [
       "Checkbox(value=False, description='is bout')"
      ]
     },
     "metadata": {},
     "output_type": "display_data"
    },
    {
     "name": "stderr",
     "output_type": "stream",
     "text": [
      "2021-06-30 17:01:53,228 root         INFO     showing\n"
     ]
    },
    {
     "data": {
      "text/plain": [
       "<Figure size 432x288 with 0 Axes>"
      ]
     },
     "metadata": {},
     "output_type": "display_data"
    },
    {
     "name": "stderr",
     "output_type": "stream",
     "text": [
      "2021-06-30 17:01:55,851 root         INFO     slider changed\n",
      "2021-06-30 17:01:55,852 root         INFO     showing\n",
      "2021-06-30 17:01:56,659 root         INFO     slider changed\n",
      "2021-06-30 17:01:56,661 root         INFO     showing\n",
      "2021-06-30 17:01:57,139 root         INFO     slider changed\n",
      "2021-06-30 17:01:57,141 root         INFO     showing\n",
      "2021-06-30 17:01:57,350 root         INFO     slider changed\n",
      "2021-06-30 17:01:57,352 root         INFO     showing\n"
     ]
    }
   ],
   "source": [
    "class VizBout():\n",
    "    def __init__(self, hparams, bouts_pd):\n",
    "        self.bout = None\n",
    "        self.bouts_pd = bouts_pd\n",
    "        self.bout_series = None\n",
    "        self.is_bout = None\n",
    "        \n",
    "        self.bout_counter = None\n",
    "        self.bout_id = None\n",
    "        \n",
    "        self.buttons = {}\n",
    "        self.m_pick = None\n",
    "        \n",
    "        self.fig = None\n",
    "        self.fig_ax = {}\n",
    "        self.fig_width = 2\n",
    "        self.sub_sample = 10\n",
    "        \n",
    "        self.x = None\n",
    "        self.sxx = None\n",
    "        \n",
    "        self.init_widget()\n",
    "        self.init_fig()\n",
    "        \n",
    "    def init_fig(self):\n",
    "        self.fig = plt.figure()\n",
    "        self.fig_ax['waveform'] = self.fig.add_axes([0,0,self.fig_width,0.5])\n",
    "        self.fig_ax['spectrogram'] = self.fig.add_axes([0,.5,self.fig_width,0.5])\n",
    "        \n",
    "        for ax in self.fig_ax.values():\n",
    "            ax.xaxis.set_ticks([])\n",
    "            ax.yaxis.set_ticks([])\n",
    "        \n",
    "        self.show()\n",
    "\n",
    "    def init_widget(self):\n",
    "        \n",
    "        self.bout_counter = Counter()\n",
    "        self.is_bout = widgets.Checkbox(description='is bout')\n",
    "        \n",
    "        self.buttons['Next'] = widgets.Button(description=\"Next\", button_style='info',\n",
    "                                              icon='plus')   \n",
    "        self.buttons['Prev'] = widgets.Button(description=\"Prev\", button_style='warning',\n",
    "                                              icon='minus')\n",
    "        self.buttons['Check'] = widgets.Button(description=\"Check\", button_style='success', \n",
    "                                               icon='check')\n",
    "        self.buttons['Uncheck'] = widgets.Button(description=\"Uncheck\", button_style='danger',\n",
    "                                                 icon='wrong')\n",
    "        \n",
    "        [b.on_click(self.button_click) for b in self.buttons.values()]\n",
    "        \n",
    "        left_box = widgets.VBox([self.buttons['Prev'], self.buttons['Uncheck']])\n",
    "        right_box = widgets.VBox([self.buttons['Next'], self.buttons['Check']])\n",
    "        button_box = widgets.HBox([left_box, right_box])\n",
    "\n",
    "        self.m_pick = widgets.IntSlider(value=0, min=0, max=self.bouts_pd.index.size-1,step=1,\n",
    "                                  description=\"MotCandidate\")\n",
    "        link((self.m_pick, 'value'), (self.bout_counter, 'value'))\n",
    "\n",
    "        self.update_bout()\n",
    "                \n",
    "        display(button_box)\n",
    "        display(self.m_pick)\n",
    "        display(self.is_bout)\n",
    "        \n",
    "    def button_click(self, button):        \n",
    "        self.bout_id = self.bout_counter.value\n",
    "        curr_bout = self.bout_counter\n",
    "        if button.description == 'Next':\n",
    "            curr_bout.value += 1\n",
    "        elif button.description == 'Prev':\n",
    "            curr_bout.value -= 1\n",
    "        elif button.description == 'Check':\n",
    "            self.bouts_pd.set_value(self.bout_id, 'bout_check', True)\n",
    "            curr_bout.value += 1\n",
    "        elif button.description == 'Uncheck':\n",
    "            self.bouts_pd.set_value(self.bout_id, 'bout_check', False)\n",
    "            curr_bout.value += 1\n",
    "    \n",
    "    def slider_change(self, change):\n",
    "        logger.info('slider changed')\n",
    "        #self.bout_counter = change.new\n",
    "        #clear_output(True)\n",
    "        self.update_bout()\n",
    "        self.show()\n",
    "            \n",
    "    def bout_checked(self, bc):\n",
    "#         print \"bout checked\"\n",
    "#         print bc['new']\n",
    "#         print self.motiff\n",
    "        self.bouts_pd.set_value(self.bout_id, 'bout_check', bc['new'])\n",
    "    \n",
    "    def update_bout(self):\n",
    "        self.bout_id = self.bout_counter.value\n",
    "        self.bout_series = self.bouts_pd.iloc[self.bout_id]\n",
    "        self.x = self.bout_series['waveform'][::self.sub_sample]\n",
    "        self.sxx = self.bout_series['spectrogram'][::self.sub_sample]\n",
    "        \n",
    "    def show(self):\n",
    "        #self.fig.clf()\n",
    "        #self.init_fig()\n",
    "        # update\n",
    "#         self.update_bout()\n",
    "        #plot\n",
    "        logger.info('showing')\n",
    "        ax = self.fig_ax['spectrogram']\n",
    "        ax.imshow(self.sxx[::-1], cmap='inferno', aspect='auto')\n",
    "        ax.grid(False)\n",
    "\n",
    "        ax = self.fig_ax['waveform']\n",
    "        ax.plot(self.x)\n",
    "        self.fig.canvas.draw()\n",
    "        #display(self.fig)\n",
    "        #ax.canvas.draw()\n",
    "        self.is_bout.value = bool(self.bout_series['bout_check'])\n",
    "        self.is_bout.observe(self.bout_checked, names='value')\n",
    "        self.m_pick.observe(self.slider_change, names='value')\n",
    "        #display(self.fig)\n",
    "        plt.show()\n",
    "    \n",
    "ms = VizBout(hparams, bpd);"
   ]
  },
  {
   "cell_type": "code",
   "execution_count": 20,
   "id": "caring-pointer",
   "metadata": {},
   "outputs": [
    {
     "data": {
      "text/plain": [
       "<matplotlib.image.AxesImage at 0x7f066d87a970>"
      ]
     },
     "execution_count": 20,
     "metadata": {},
     "output_type": "execute_result"
    },
    {
     "data": {
      "image/png": "[encoded data removed]",
      "text/plain": [
       "<Figure size 1440x216 with 2 Axes>"
      ]
     },
     "metadata": {
      "needs_background": "light"
     },
     "output_type": "display_data"
    }
   ],
   "source": [
    "fig, ax_arr = plt.subplots(nrows=2, figsize=(20, 3))\n",
    "\n",
    "sxx = bpd.iloc[0]['spectrogram'][:, ::10]\n",
    "ax_arr[0].imshow(sxx[::-1], aspect='auto', cmap='inferno')"
   ]
  }
 ],
 "metadata": {
  "kernelspec": {
   "display_name": "unepipe",
   "language": "python",
   "name": "unepipe"
  },
  "language_info": {
   "codemirror_mode": {
    "name": "ipython",
    "version": 3
   },
   "file_extension": ".py",
   "mimetype": "text/x-python",
   "name": "python",
   "nbconvert_exporter": "python",
   "pygments_lexer": "ipython3",
   "version": "3.8.11"
  }
 },
 "nbformat": 4,
 "nbformat_minor": 5
}
