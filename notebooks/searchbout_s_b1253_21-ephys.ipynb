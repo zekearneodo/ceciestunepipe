{
 "cells": [
  {
   "cell_type": "markdown",
   "id": "senior-washer",
   "metadata": {},
   "source": [
    "## Searching for bouts for a day of ephys recording\n",
    "- Microhpone already extracted and left in derived_data as a wav file in sglx_pipe-dev-sort-bouts-s_b1253_21-20210614\n"
   ]
  },
  {
   "cell_type": "code",
   "execution_count": 24,
   "id": "affected-moldova",
   "metadata": {},
   "outputs": [
    {
     "name": "stderr",
     "output_type": "stream",
     "text": [
      "2021-09-14 15:48:28,920 root         INFO     Running on pakhi\n",
      "2021-09-14 15:48:28,920 root         INFO     Running on pakhi\n"
     ]
    }
   ],
   "source": [
    "%matplotlib inline\n",
    "import os\n",
    "import glob\n",
    "import socket\n",
    "import logging\n",
    "import numpy as np\n",
    "import pandas as pd\n",
    "from scipy.io import wavfile\n",
    "from scipy import signal\n",
    "\n",
    "from ceciestunepipe.util import sglxutil as sglu\n",
    "\n",
    "from matplotlib import pyplot as plt\n",
    "\n",
    "from importlib import reload\n",
    "\n",
    "logger = logging.getLogger()\n",
    "handler = logging.StreamHandler()\n",
    "formatter = logging.Formatter(\n",
    "        '%(asctime)s %(name)-12s %(levelname)-8s %(message)s')\n",
    "handler.setFormatter(formatter)\n",
    "logger.addHandler(handler)\n",
    "logger.setLevel(logging.INFO)\n",
    "\n",
    "logger.info('Running on {}'.format(socket.gethostname()))"
   ]
  },
  {
   "cell_type": "code",
   "execution_count": 25,
   "id": "public-founder",
   "metadata": {},
   "outputs": [],
   "source": [
    "from ceciestunepipe.file import bcistructure as et"
   ]
  },
  {
   "cell_type": "markdown",
   "id": "bronze-transparency",
   "metadata": {},
   "source": [
    "### Get the file locations for a session (day) of recordings"
   ]
  },
  {
   "cell_type": "code",
   "execution_count": 26,
   "id": "acceptable-oregon",
   "metadata": {},
   "outputs": [],
   "source": [
    "reload(et)\n",
    "sess_par = {'bird': 's_b1253_21',\n",
    "           'sess': '2021-07-17',\n",
    "           'sort': 2}\n",
    "\n",
    "\n",
    "exp_struct = et.get_exp_struct(sess_par['bird'], sess_par['sess'], ephys_software='sglx')\n",
    "\n",
    "raw_folder = exp_struct['folders']['sglx']"
   ]
  },
  {
   "cell_type": "code",
   "execution_count": 27,
   "id": "binding-client",
   "metadata": {},
   "outputs": [
    {
     "name": "stderr",
     "output_type": "stream",
     "text": [
      "2021-09-14 15:48:31,153 ceciestunepipe.file.bcistructure INFO     {'folders': {'bird': '/mnt/sphere/speech_bci/raw_data/s_b1253_21', 'raw': '/mnt/sphere/speech_bci/raw_data/s_b1253_21/2021-07-17', 'sglx': '/mnt/sphere/speech_bci/raw_data/s_b1253_21/2021-07-17/sglx', 'kwik': '/scratch/earneodo/s_b1253_21/sglx/kwik/2021-07-17', 'processed': '/mnt/sphere/speech_bci/processed_data/s_b1253_21/2021-07-17/sglx', 'derived': '/mnt/sphere/speech_bci/derived_data/s_b1253_21/2021-07-17/sglx', 'tmp': '/scratch/earneodo/tmp', 'msort': '/scratch/earneodo/s_b1253_21/sglx/msort/2021-07-17', 'ksort': '/scratch/earneodo/s_b1253_21/sglx/ksort/2021-07-17'}, 'files': {'par': '/scratch/earneodo/s_b1253_21/sglx/ksort/2021-07-17/params.json', 'set': '/mnt/sphere/speech_bci/raw_data/s_b1253_21/2021-07-17/sglx/settings.isf', 'rig': '/mnt/sphere/speech_bci/raw_data/s_b1253_21/2021-07-17/sglx/rig.json', 'kwd': '/scratch/earneodo/s_b1253_21/sglx/kwik/2021-07-17/stream.kwd', 'kwik': '/scratch/earneodo/s_b1253_21/sglx/kwik/2021-07-17/sort_2/spikes.kwik', 'kwe': '/scratch/earneodo/s_b1253_21/sglx/kwik/2021-07-17/events.kwe', 'dat_mic': '/mnt/sphere/speech_bci/processed_data/s_b1253_21/2021-07-17/sglx/dat_mic.mat', 'dat_ap': '/mnt/sphere/speech_bci/processed_data/s_b1253_21/2021-07-17/sglx/dat_ap.mat', 'allevents': '/mnt/sphere/speech_bci/processed_data/s_b1253_21/2021-07-17/sglx/dat_all.pkl', 'wav_mic': '/mnt/sphere/speech_bci/derived_data/s_b1253_21/2021-07-17/sglx/wav_mic.wav', 'mda_raw': '/scratch/earneodo/s_b1253_21/sglx/msort/2021-07-17/raw.mda', 'bin_raw': '/scratch/earneodo/s_b1253_21/sglx/ksort/2021-07-17/raw.bin'}}\n",
      "2021-09-14 15:48:31,153 ceciestunepipe.file.bcistructure INFO     {'folders': {'bird': '/mnt/sphere/speech_bci/raw_data/s_b1253_21', 'raw': '/mnt/sphere/speech_bci/raw_data/s_b1253_21/2021-07-17', 'sglx': '/mnt/sphere/speech_bci/raw_data/s_b1253_21/2021-07-17/sglx', 'kwik': '/scratch/earneodo/s_b1253_21/sglx/kwik/2021-07-17', 'processed': '/mnt/sphere/speech_bci/processed_data/s_b1253_21/2021-07-17/sglx', 'derived': '/mnt/sphere/speech_bci/derived_data/s_b1253_21/2021-07-17/sglx', 'tmp': '/scratch/earneodo/tmp', 'msort': '/scratch/earneodo/s_b1253_21/sglx/msort/2021-07-17', 'ksort': '/scratch/earneodo/s_b1253_21/sglx/ksort/2021-07-17'}, 'files': {'par': '/scratch/earneodo/s_b1253_21/sglx/ksort/2021-07-17/params.json', 'set': '/mnt/sphere/speech_bci/raw_data/s_b1253_21/2021-07-17/sglx/settings.isf', 'rig': '/mnt/sphere/speech_bci/raw_data/s_b1253_21/2021-07-17/sglx/rig.json', 'kwd': '/scratch/earneodo/s_b1253_21/sglx/kwik/2021-07-17/stream.kwd', 'kwik': '/scratch/earneodo/s_b1253_21/sglx/kwik/2021-07-17/sort_2/spikes.kwik', 'kwe': '/scratch/earneodo/s_b1253_21/sglx/kwik/2021-07-17/events.kwe', 'dat_mic': '/mnt/sphere/speech_bci/processed_data/s_b1253_21/2021-07-17/sglx/dat_mic.mat', 'dat_ap': '/mnt/sphere/speech_bci/processed_data/s_b1253_21/2021-07-17/sglx/dat_ap.mat', 'allevents': '/mnt/sphere/speech_bci/processed_data/s_b1253_21/2021-07-17/sglx/dat_all.pkl', 'wav_mic': '/mnt/sphere/speech_bci/derived_data/s_b1253_21/2021-07-17/sglx/wav_mic.wav', 'mda_raw': '/scratch/earneodo/s_b1253_21/sglx/msort/2021-07-17/raw.mda', 'bin_raw': '/scratch/earneodo/s_b1253_21/sglx/ksort/2021-07-17/raw.bin'}}\n"
     ]
    },
    {
     "data": {
      "text/plain": [
       "['0738_g0', '0957_g0', '1206_g0', '1648_g0']"
      ]
     },
     "execution_count": 27,
     "metadata": {},
     "output_type": "execute_result"
    }
   ],
   "source": [
    "sess_epochs = et.list_sgl_epochs(sess_par)\n",
    "sess_epochs"
   ]
  },
  {
   "cell_type": "code",
   "execution_count": 28,
   "id": "following-prairie",
   "metadata": {},
   "outputs": [],
   "source": [
    "### pick an epoch\n",
    "reload(et)\n",
    "reload(sglu)\n",
    "epoch = sess_epochs[0] # g2 is the shortest\n",
    "\n",
    "exp_struct = et.sgl_struct(sess_par, epoch)\n",
    "sgl_folders, sgl_files = sglu.sgl_file_struct(exp_struct['folders']['sglx'])"
   ]
  },
  {
   "cell_type": "code",
   "execution_count": 29,
   "id": "important-tuning",
   "metadata": {},
   "outputs": [
    {
     "data": {
      "text/plain": [
       "{'bird': '/mnt/sphere/speech_bci/raw_data/s_b1253_21/0738_g0',\n",
       " 'raw': '/mnt/sphere/speech_bci/raw_data/s_b1253_21/2021-07-17/0738_g0',\n",
       " 'sglx': '/mnt/sphere/speech_bci/raw_data/s_b1253_21/2021-07-17/sglx/0738_g0',\n",
       " 'kwik': '/scratch/earneodo/s_b1253_21/sglx/kwik/2021-07-17/0738_g0',\n",
       " 'processed': '/mnt/sphere/speech_bci/processed_data/s_b1253_21/2021-07-17/sglx/0738_g0',\n",
       " 'derived': '/mnt/sphere/speech_bci/derived_data/s_b1253_21/2021-07-17/sglx/0738_g0',\n",
       " 'tmp': '/scratch/earneodo/tmp/0738_g0',\n",
       " 'msort': '/scratch/earneodo/s_b1253_21/sglx/msort/2021-07-17/0738_g0',\n",
       " 'ksort': '/scratch/earneodo/s_b1253_21/sglx/ksort/2021-07-17/0738_g0'}"
      ]
     },
     "execution_count": 29,
     "metadata": {},
     "output_type": "execute_result"
    }
   ],
   "source": [
    "exp_struct['folders']"
   ]
  },
  {
   "cell_type": "code",
   "execution_count": 43,
   "id": "hundred-equivalent",
   "metadata": {},
   "outputs": [],
   "source": [
    "import librosa"
   ]
  },
  {
   "cell_type": "code",
   "execution_count": null,
   "id": "incorrect-subscription",
   "metadata": {},
   "outputs": [],
   "source": []
  },
  {
   "cell_type": "markdown",
   "id": "portuguese-essay",
   "metadata": {},
   "source": [
    "#### search parameters\n",
    "Spectrograms are computed using librosa\n",
    "\n",
    "Additional parameters are for bout search criteria and functions to read the data"
   ]
  },
  {
   "cell_type": "code",
   "execution_count": 30,
   "id": "activated-jamaica",
   "metadata": {},
   "outputs": [],
   "source": [
    "# function for getting one channel out of a wave file\n",
    "def read_wav_chan(wav_path: str, chan_id: int=0) -> tuple:\n",
    "    s_f, x = wavfile.read(wav_path, mmap=True)\n",
    "    if x.ndim==1:\n",
    "        if chan_id > 0:\n",
    "            raise ValueError('Wave file has only one channel, asking for channel {}'.format(chan_id))\n",
    "        x = x.reshape(-1, 1)\n",
    "    \n",
    "    return s_f, x[:, chan_id]\n",
    "\n",
    "def sess_file_id(f_path):\n",
    "    n = int(os.path.split(f_path)[1].split('-')[-1].split('.wav')[0])\n",
    "    return n\n",
    "\n",
    "hparams = {\n",
    "    # spectrogram\n",
    "    'num_freq':1024, #1024# how many channels to use in a spectrogram #\n",
    "    'preemphasis':0.97, \n",
    "    'frame_shift_ms':5, # step size for fft\n",
    "    'frame_length_ms':10, #128 # frame length for fft FRAME SAMPLES < NUM_FREQ!!!\n",
    "    'min_level_db':-55, # minimum threshold db for computing spe \n",
    "    'ref_level_db':110, # reference db for computing spec\n",
    "    'sample_rate':None, # sample rate of your data\n",
    "    \n",
    "    # spectrograms\n",
    "    'mel_filter': False, # should a mel filter be used?\n",
    "    'num_mels':1024, # how many channels to use in the mel-spectrogram\n",
    "    'fmin': 500, # low frequency cutoff for mel filter\n",
    "    'fmax': 12000, # high frequency cutoff for mel filter\n",
    "    \n",
    "    # spectrogram inversion\n",
    "    'max_iters':200,\n",
    "    'griffin_lim_iters':20,\n",
    "    'power':1.5,\n",
    "\n",
    "    # Added for the searching\n",
    "    'read_wav_fun': read_wav_chan, # function for loading the wav_like_stream (has to returns fs, ndarray)\n",
    "    'file_order_fun': sess_file_id, # function for extracting the file id within the session\n",
    "    'min_segment': 30, # Minimum length of supra_threshold to consider a 'syllable' (ms)\n",
    "    'min_silence': 2000, # Minmum distance between groups of syllables to consider separate bouts (ms)\n",
    "    'min_bout': 5000, # min bout duration (ms)\n",
    "    'peak_thresh_rms': 0.55, # threshold (rms) for peak acceptance,\n",
    "    'thresh_rms': 0.25, # threshold for detection of syllables\n",
    "    'mean_syl_rms_thresh': 0.3, #threshold for acceptance of mean rms across the syllable (relative to rms of the file)\n",
    "    'max_bout': 120000, #exclude bouts too long\n",
    "    'l_p_r_thresh': 100, # threshold for n of len_ms/peaks (typycally about 2-3 syllable spans\n",
    "    \n",
    "    'waveform_edges': 1000, #get number of ms before and after the edges of the bout for the waveform sample\n",
    "    \n",
    "    'bout_auto_file': 'bout_auto.pickle', # extension for saving the auto found files\n",
    "    'bout_curated_file': 'bout_checked.pickle', #extension for manually curated files (coming soon)\n",
    "    }"
   ]
  },
  {
   "cell_type": "markdown",
   "id": "starting-discretion",
   "metadata": {},
   "source": [
    "#### Get one wave file"
   ]
  },
  {
   "cell_type": "code",
   "execution_count": 31,
   "id": "persistent-cuisine",
   "metadata": {},
   "outputs": [
    {
     "data": {
      "text/plain": [
       "{'bird': '/mnt/sphere/speech_bci/raw_data/s_b1253_21/0738_g0',\n",
       " 'raw': '/mnt/sphere/speech_bci/raw_data/s_b1253_21/2021-07-17/0738_g0',\n",
       " 'sglx': '/mnt/sphere/speech_bci/raw_data/s_b1253_21/2021-07-17/sglx/0738_g0',\n",
       " 'kwik': '/scratch/earneodo/s_b1253_21/sglx/kwik/2021-07-17/0738_g0',\n",
       " 'processed': '/mnt/sphere/speech_bci/processed_data/s_b1253_21/2021-07-17/sglx/0738_g0',\n",
       " 'derived': '/mnt/sphere/speech_bci/derived_data/s_b1253_21/2021-07-17/sglx/0738_g0',\n",
       " 'tmp': '/scratch/earneodo/tmp/0738_g0',\n",
       " 'msort': '/scratch/earneodo/s_b1253_21/sglx/msort/2021-07-17/0738_g0',\n",
       " 'ksort': '/scratch/earneodo/s_b1253_21/sglx/ksort/2021-07-17/0738_g0'}"
      ]
     },
     "execution_count": 31,
     "metadata": {},
     "output_type": "execute_result"
    }
   ],
   "source": [
    "exp_struct['folders']"
   ]
  },
  {
   "cell_type": "code",
   "execution_count": 32,
   "id": "cellular-glenn",
   "metadata": {},
   "outputs": [],
   "source": [
    "one_wav_path = os.path.join(exp_struct['folders']['derived'], 'wav_mic.wav')\n",
    "\n",
    "s_f, x = read_wav_chan(one_wav_path)\n",
    "\n",
    "hparams['sample_rate'] = s_f"
   ]
  },
  {
   "cell_type": "code",
   "execution_count": 33,
   "id": "descending-translator",
   "metadata": {},
   "outputs": [
    {
     "data": {
      "text/plain": [
       "(207854592,)"
      ]
     },
     "execution_count": 33,
     "metadata": {},
     "output_type": "execute_result"
    }
   ],
   "source": [
    "x.shape"
   ]
  },
  {
   "cell_type": "code",
   "execution_count": 34,
   "id": "motivated-shanghai",
   "metadata": {},
   "outputs": [
    {
     "data": {
      "text/plain": [
       "[<matplotlib.lines.Line2D at 0x7fc64ac6cf70>]"
      ]
     },
     "execution_count": 34,
     "metadata": {},
     "output_type": "execute_result"
    },
    {
     "data": {
      "image/png": "[encoded data removed]",
      "text/plain": [
       "<Figure size 432x288 with 1 Axes>"
      ]
     },
     "metadata": {
      "needs_background": "light"
     },
     "output_type": "display_data"
    }
   ],
   "source": [
    "plt.plot(x[:50000])"
   ]
  },
  {
   "cell_type": "markdown",
   "id": "meaning-principal",
   "metadata": {},
   "source": [
    "### try the function to search for bouts in the file"
   ]
  },
  {
   "cell_type": "code",
   "execution_count": 35,
   "id": "excited-pressure",
   "metadata": {
    "scrolled": true
   },
   "outputs": [],
   "source": [
    "from ceciestunepipe.util.sound import boutsearch as bs\n",
    "from joblib import Parallel, delayed\n",
    "import pickle"
   ]
  },
  {
   "cell_type": "markdown",
   "id": "approved-immigration",
   "metadata": {},
   "source": [
    "### get all bouts of the day"
   ]
  },
  {
   "cell_type": "code",
   "execution_count": 36,
   "id": "moral-casting",
   "metadata": {},
   "outputs": [
    {
     "data": {
      "text/plain": [
       "<module 'ceciestunepipe.util.sound.boutsearch' from '/mnt/cube/earneodo/repos/ceciestunepipe/ceciestunepipe/util/sound/boutsearch.py'>"
      ]
     },
     "execution_count": 36,
     "metadata": {},
     "output_type": "execute_result"
    }
   ],
   "source": [
    "reload(bs)"
   ]
  },
  {
   "cell_type": "code",
   "execution_count": 37,
   "id": "civil-magnet",
   "metadata": {},
   "outputs": [
    {
     "data": {
      "text/plain": [
       "'/mnt/sphere/speech_bci/raw_data/s_b1253_21/2021-07-17/sglx/0738_g0'"
      ]
     },
     "execution_count": 37,
     "metadata": {},
     "output_type": "execute_result"
    }
   ],
   "source": [
    "exp_struct['folders']['sglx']"
   ]
  },
  {
   "cell_type": "code",
   "execution_count": 38,
   "id": "geological-segment",
   "metadata": {},
   "outputs": [
    {
     "data": {
      "text/plain": [
       "['/mnt/sphere/speech_bci/derived_data/s_b1253_21/2021-07-17/sglx/0738_g0/wav_mic.wav',\n",
       " '/mnt/sphere/speech_bci/derived_data/s_b1253_21/2021-07-17/sglx/0957_g0/wav_mic.wav',\n",
       " '/mnt/sphere/speech_bci/derived_data/s_b1253_21/2021-07-17/sglx/1206_g0/wav_mic.wav',\n",
       " '/mnt/sphere/speech_bci/derived_data/s_b1253_21/2021-07-17/sglx/1648_g0/wav_mic.wav']"
      ]
     },
     "execution_count": 38,
     "metadata": {},
     "output_type": "execute_result"
    }
   ],
   "source": [
    "derived_folder = os.path.split(exp_struct['folders']['derived'])[0]\n",
    "\n",
    "sess_files = et.get_sgl_files_epochs(derived_folder, file_filter='*mic.wav')\n",
    "sess_files"
   ]
  },
  {
   "cell_type": "code",
   "execution_count": 39,
   "id": "armed-billion",
   "metadata": {},
   "outputs": [
    {
     "data": {
      "text/plain": [
       "['/mnt/sphere/speech_bci/derived_data/s_b1253_21/2021-07-17/sglx/0738_g0/wav_mic.wav',\n",
       " '/mnt/sphere/speech_bci/derived_data/s_b1253_21/2021-07-17/sglx/0957_g0/wav_mic.wav',\n",
       " '/mnt/sphere/speech_bci/derived_data/s_b1253_21/2021-07-17/sglx/1206_g0/wav_mic.wav',\n",
       " '/mnt/sphere/speech_bci/derived_data/s_b1253_21/2021-07-17/sglx/1648_g0/wav_mic.wav']"
      ]
     },
     "execution_count": 39,
     "metadata": {},
     "output_type": "execute_result"
    }
   ],
   "source": [
    "sess_files"
   ]
  },
  {
   "cell_type": "code",
   "execution_count": 40,
   "id": "realistic-voice",
   "metadata": {},
   "outputs": [
    {
     "name": "stderr",
     "output_type": "stream",
     "text": [
      "2021-09-14 15:48:49,361 ceciestunepipe.util.sound.boutsearch INFO     Getting bouts for long file /mnt/sphere/speech_bci/derived_data/s_b1253_21/2021-07-17/sglx/0957_g0/wav_mic.wav\n",
      "2021-09-14 15:48:49,361 ceciestunepipe.util.sound.boutsearch INFO     Getting bouts for long file /mnt/sphere/speech_bci/derived_data/s_b1253_21/2021-07-17/sglx/0957_g0/wav_mic.wav\n"
     ]
    },
    {
     "name": "stdout",
     "output_type": "stream",
     "text": [
      "tu vieja file /mnt/sphere/speech_bci/derived_data/s_b1253_21/2021-07-17/sglx/0957_g0/wav_mic.wav\n"
     ]
    },
    {
     "name": "stderr",
     "output_type": "stream",
     "text": [
      "2021-09-14 15:48:50,607 ceciestunepipe.util.sound.boutsearch INFO     splitting file into 3 chunks\n",
      "2021-09-14 15:48:50,607 ceciestunepipe.util.sound.boutsearch INFO     splitting file into 3 chunks\n"
     ]
    },
    {
     "data": {
      "application/vnd.jupyter.widget-view+json": {
       "model_id": "8b980341f9fc4942848fbbb78b1f48e8",
       "version_major": 2,
       "version_minor": 0
      },
      "text/plain": [
       "  0%|          | 0/3 [00:00<?, ?it/s]"
      ]
     },
     "metadata": {},
     "output_type": "display_data"
    },
    {
     "name": "stderr",
     "output_type": "stream",
     "text": [
      "2021-09-14 15:53:17,004 root         INFO     saving bouts pandas to /mnt/sphere/speech_bci/derived_data/s_b1253_21/2021-07-17/sglx/0957_g0/bout_auto.pickle\n",
      "2021-09-14 15:53:17,004 root         INFO     saving bouts pandas to /mnt/sphere/speech_bci/derived_data/s_b1253_21/2021-07-17/sglx/0957_g0/bout_auto.pickle\n"
     ]
    }
   ],
   "source": [
    "### Force run and save for a single epoch\n",
    "one_wav_bout_pd = bs.get_bouts_in_long_file(sess_files[1], hparams)\n",
    "\n",
    "i_folder = os.path.split(sess_files[1])[0]\n",
    "epoch_bout_pd = one_wav_bout_pd[0]\n",
    "\n",
    "epoch_bouts_path = os.path.join(i_folder, hparams['bout_auto_file'])\n",
    "hparams_pickle_path = os.path.join(i_folder, 'bout_search_params.pickle')\n",
    "\n",
    "with open(hparams_pickle_path, 'wb') as fh:\n",
    "    save_param = hparams.copy()\n",
    "    save_param['read_wav_fun'] = save_param['read_wav_fun'].__name__\n",
    "    save_param['file_order_fun'] = save_param['file_order_fun'].__name__\n",
    "\n",
    "    pickle.dump(save_param, fh)\n",
    "\n",
    "logger.info('saving bouts pandas to ' + epoch_bouts_path)\n",
    "epoch_bout_pd.to_pickle(epoch_bouts_path)"
   ]
  },
  {
   "cell_type": "code",
   "execution_count": 41,
   "id": "increasing-bathroom",
   "metadata": {},
   "outputs": [
    {
     "data": {
      "text/plain": [
       "[<matplotlib.lines.Line2D at 0x7fc64e219550>]"
      ]
     },
     "execution_count": 41,
     "metadata": {},
     "output_type": "execute_result"
    },
    {
     "data": {
      "image/png": "[encoded data removed]",
      "text/plain": [
       "<Figure size 432x288 with 1 Axes>"
      ]
     },
     "metadata": {
      "needs_background": "light"
     },
     "output_type": "display_data"
    }
   ],
   "source": [
    "plt.plot(one_wav_bout_pd[0]['start_sample'].values)"
   ]
  },
  {
   "cell_type": "code",
   "execution_count": 42,
   "id": "pacific-pharmacy",
   "metadata": {},
   "outputs": [
    {
     "name": "stderr",
     "output_type": "stream",
     "text": [
      "2021-09-14 15:53:17,982 root         INFO     Will search for bouts through all session s_b1253_21, 2021-07-17\n",
      "2021-09-14 15:53:17,982 root         INFO     Will search for bouts through all session s_b1253_21, 2021-07-17\n",
      "2021-09-14 15:53:19,892 root         INFO     Found 4 files\n",
      "2021-09-14 15:53:19,892 root         INFO     Found 4 files\n"
     ]
    },
    {
     "name": "stdout",
     "output_type": "stream",
     "text": [
      "['/mnt/sphere/speech_bci/derived_data/s_b1253_21/2021-07-17/sglx/0738_g0/wav_mic.wav', '/mnt/sphere/speech_bci/derived_data/s_b1253_21/2021-07-17/sglx/0957_g0/wav_mic.wav', '/mnt/sphere/speech_bci/derived_data/s_b1253_21/2021-07-17/sglx/1206_g0/wav_mic.wav', '/mnt/sphere/speech_bci/derived_data/s_b1253_21/2021-07-17/sglx/1648_g0/wav_mic.wav']\n",
      "[Parallel(n_jobs=6)]: Using backend LokyBackend with 6 concurrent workers.\n",
      "[Parallel(n_jobs=6)]: Done   1 tasks      | elapsed: 14.5min\n",
      "[Parallel(n_jobs=6)]: Done   2 out of   4 | elapsed: 14.6min remaining: 14.6min\n",
      "[Parallel(n_jobs=6)]: Done   4 out of   4 | elapsed: 18.6min remaining:    0.0s\n",
      "[Parallel(n_jobs=6)]: Done   4 out of   4 | elapsed: 18.6min finished\n"
     ]
    }
   ],
   "source": [
    "def get_all_day_bouts(sess_par: dict, hparams:dict, n_jobs: int=28, ephys_software='sglx') -> pd.DataFrame:\n",
    "    \n",
    "    logger.info('Will search for bouts through all session {}, {}'.format(sess_par['bird'], sess_par['sess']))\n",
    "    exp_struct = et.get_exp_struct(sess_par['bird'], sess_par['sess'], ephys_software=ephys_software)\n",
    "\n",
    "    # get all the paths to the wav files of the epochs of the day   \n",
    "    source_folder = exp_struct['folders']['derived']\n",
    "    wav_path_list = et.get_sgl_files_epochs(source_folder, file_filter='*wav_mic.wav')\n",
    "    wav_path_list.sort()\n",
    "    logger.info('Found {} files'.format(len(wav_path_list)))\n",
    "    print(wav_path_list)\n",
    "    \n",
    "    def get_file_bouts(i_path):\n",
    "        epoch_bout_pd = bs.get_bouts_in_long_file(i_path, hparams)[0]\n",
    "        \n",
    "        i_folder = os.path.split(i_path)[0]\n",
    "        epoch_bouts_path = os.path.join(i_folder, hparams['bout_auto_file'])\n",
    "        hparams_pickle_path = os.path.join(i_folder, 'bout_search_params.pickle')\n",
    "\n",
    "        logger.info('saving bout detect parameters dict to ' + hparams_pickle_path)\n",
    "        with open(hparams_pickle_path, 'wb') as fh:\n",
    "            save_param = hparams.copy()\n",
    "            save_param['read_wav_fun'] = save_param['read_wav_fun'].__name__\n",
    "            save_param['file_order_fun'] = save_param['file_order_fun'].__name__\n",
    "            \n",
    "            pickle.dump(save_param, fh)\n",
    "        \n",
    "        logger.info('saving bouts pandas to ' + epoch_bouts_path)\n",
    "        epoch_bout_pd.to_pickle(epoch_bouts_path)\n",
    "\n",
    "        #epoch_bout_pd = pd.DataFrame()\n",
    "        return epoch_bout_pd\n",
    "    \n",
    "    # Go parallel through all the paths in the day, get a list of all the pandas dataframes for each file\n",
    "    sess_pd_list = Parallel(n_jobs=n_jobs, verbose=100, backend=None)(delayed(get_file_bouts)(i) for i in wav_path_list)\n",
    "    #sess_pd_list = [get_file_bouts(i) for i in wav_path_list]\n",
    "    \n",
    "    #concatenate the file and return it, eventually write to a pickle\n",
    "    sess_bout_pd = pd.concat(sess_pd_list)\n",
    "    return sess_bout_pd\n",
    "\n",
    "# for large files set n_jobs to 1\n",
    "sess_bout_pd = get_all_day_bouts(sess_par, hparams, n_jobs=6)"
   ]
  },
  {
   "cell_type": "code",
   "execution_count": 64,
   "id": "solar-above",
   "metadata": {
    "scrolled": true
   },
   "outputs": [
    {
     "data": {
      "text/plain": [
       "{'num_freq': 1024,\n",
       " 'preemphasis': 0.97,\n",
       " 'frame_shift_ms': 5,\n",
       " 'frame_length_ms': 10,\n",
       " 'min_level_db': -55,\n",
       " 'ref_level_db': 110,\n",
       " 'sample_rate': 25000,\n",
       " 'mel_filter': False,\n",
       " 'num_mels': 1024,\n",
       " 'fmin': 500,\n",
       " 'fmax': 12000,\n",
       " 'max_iters': 200,\n",
       " 'griffin_lim_iters': 20,\n",
       " 'power': 1.5,\n",
       " 'read_wav_fun': <function __main__.read_wav_chan(wav_path: str, chan_id: int = 0) -> tuple>,\n",
       " 'file_order_fun': <function __main__.sess_file_id(f_path)>,\n",
       " 'min_segment': 30,\n",
       " 'min_silence': 2000,\n",
       " 'min_bout': 5000,\n",
       " 'peak_thresh_rms': 0.55,\n",
       " 'thresh_rms': 0.25,\n",
       " 'mean_syl_rms_thresh': 0.3,\n",
       " 'max_bout': 120000,\n",
       " 'l_p_r_thresh': 100,\n",
       " 'waveform_edges': 1000,\n",
       " 'bout_auto_file': 'bout_auto.pickle',\n",
       " 'bout_curated_file': 'bout_checked.pickle'}"
      ]
     },
     "execution_count": 64,
     "metadata": {},
     "output_type": "execute_result"
    }
   ],
   "source": [
    "hparams"
   ]
  },
  {
   "cell_type": "code",
   "execution_count": null,
   "id": "harmful-failing",
   "metadata": {},
   "outputs": [],
   "source": [
    "sess_bout_pd.head()"
   ]
  },
  {
   "cell_type": "code",
   "execution_count": 52,
   "id": "impaired-jumping",
   "metadata": {},
   "outputs": [],
   "source": [
    "import sys\n",
    "sys.stdout.flush()"
   ]
  },
  {
   "cell_type": "code",
   "execution_count": 53,
   "id": "recovered-polymer",
   "metadata": {},
   "outputs": [
    {
     "data": {
      "text/plain": [
       "(98, 16)"
      ]
     },
     "execution_count": 53,
     "metadata": {},
     "output_type": "execute_result"
    }
   ],
   "source": [
    "sess_bout_pd.shape"
   ]
  },
  {
   "cell_type": "code",
   "execution_count": 1,
   "id": "vocational-learning",
   "metadata": {
    "collapsed": true
   },
   "outputs": [
    {
     "ename": "NameError",
     "evalue": "name 'sess_bout_pd' is not defined",
     "output_type": "error",
     "traceback": [
      "\u001b[0;31m---------------------------------------------------------------------------\u001b[0m",
      "\u001b[0;31mNameError\u001b[0m                                 Traceback (most recent call last)",
      "\u001b[0;32m<ipython-input-1-e4c90a7dbbb5>\u001b[0m in \u001b[0;36m<module>\u001b[0;34m\u001b[0m\n\u001b[0;32m----> 1\u001b[0;31m \u001b[0msess_bout_pd\u001b[0m\u001b[0;34m\u001b[0m\u001b[0;34m\u001b[0m\u001b[0m\n\u001b[0m",
      "\u001b[0;31mNameError\u001b[0m: name 'sess_bout_pd' is not defined"
     ]
    }
   ],
   "source": [
    "sess_bout_pd"
   ]
  },
  {
   "cell_type": "markdown",
   "id": "multiple-worth",
   "metadata": {},
   "source": [
    "### save the pandas for the day as a pickle"
   ]
  },
  {
   "cell_type": "code",
   "execution_count": 54,
   "id": "empirical-transsexual",
   "metadata": {},
   "outputs": [],
   "source": []
  },
  {
   "cell_type": "code",
   "execution_count": 62,
   "id": "sunrise-reach",
   "metadata": {},
   "outputs": [
    {
     "name": "stderr",
     "output_type": "stream",
     "text": [
      "2021-08-13 16:36:07,942 root         INFO     saving bouts pandas to /mnt/sphere/speech_bci/derived_data/s_b1253_21/2021-06-14/sglx/bouts_ceciestunepipe/bout_auto.pickle\n",
      "2021-08-13 16:36:13,238 root         INFO     saving bout detect parameters dict to /mnt/sphere/speech_bci/derived_data/s_b1253_21/2021-06-14/sglx/bouts_ceciestunepipe/bout_search_params.pickle\n"
     ]
    }
   ],
   "source": [
    "def save_auto_bouts(sess_bout_pd, sess_par, hparams):\n",
    "    exp_struct = et.get_exp_struct(sess_par['bird'], sess_par['sess'], ephys_software='sglx')\n",
    "    sess_bouts_dir = os.path.join(exp_struct['folders']['derived'], 'bouts_ceciestunepipe')\n",
    "\n",
    "    sess_bouts_path = os.path.join(sess_bouts_dir, hparams['bout_auto_file'])\n",
    "    hparams_pickle_path = os.path.join(sess_bouts_dir, 'bout_search_params.pickle')\n",
    "\n",
    "    os.makedirs(sess_bouts_dir, exist_ok=True)\n",
    "    logger.info('saving bouts pandas to ' + sess_bouts_path)\n",
    "    sess_bout_pd.to_pickle(sess_bouts_path)\n",
    "\n",
    "    logger.info('saving bout detect parameters dict to ' + hparams_pickle_path)\n",
    "    with open(hparams_pickle_path, 'wb') as fh:\n",
    "        pickle.dump(hparams, fh)\n",
    "        \n",
    "save_auto_bouts(sess_bout_pd, sess_par, hparams)"
   ]
  },
  {
   "cell_type": "code",
   "execution_count": 63,
   "id": "driving-looking",
   "metadata": {},
   "outputs": [
    {
     "data": {
      "text/html": [
       "<div>\n",
       "<style scoped>\n",
       "    .dataframe tbody tr th:only-of-type {\n",
       "        vertical-align: middle;\n",
       "    }\n",
       "\n",
       "    .dataframe tbody tr th {\n",
       "        vertical-align: top;\n",
       "    }\n",
       "\n",
       "    .dataframe thead th {\n",
       "        text-align: right;\n",
       "    }\n",
       "</style>\n",
       "<table border=\"1\" class=\"dataframe\">\n",
       "  <thead>\n",
       "    <tr style=\"text-align: right;\">\n",
       "      <th></th>\n",
       "      <th>start_ms</th>\n",
       "      <th>end_ms</th>\n",
       "      <th>start_sample</th>\n",
       "      <th>end_sample</th>\n",
       "      <th>p_step</th>\n",
       "      <th>rms_p</th>\n",
       "      <th>peak_p</th>\n",
       "      <th>bout_check</th>\n",
       "      <th>file</th>\n",
       "      <th>len_ms</th>\n",
       "      <th>syl_in</th>\n",
       "      <th>n_syl</th>\n",
       "      <th>peaks_p</th>\n",
       "      <th>n_peaks</th>\n",
       "      <th>l_p_ratio</th>\n",
       "      <th>waveform</th>\n",
       "    </tr>\n",
       "  </thead>\n",
       "  <tbody>\n",
       "    <tr>\n",
       "      <th>0</th>\n",
       "      <td>6340</td>\n",
       "      <td>12610</td>\n",
       "      <td>126800</td>\n",
       "      <td>252200</td>\n",
       "      <td>[279.1424913127069, 237.28552677964962, 154.69...</td>\n",
       "      <td>32.49787</td>\n",
       "      <td>318.396805</td>\n",
       "      <td>True</td>\n",
       "      <td>/mnt/sphere/speech_bci/derived_data/s_b1253_21...</td>\n",
       "      <td>6270</td>\n",
       "      <td>[[6340, 6385], [6560, 6605], [6695, 6740], [67...</td>\n",
       "      <td>14</td>\n",
       "      <td>[13, 20, 35, 45, 59, 72, 85, 103, 121, 133, 14...</td>\n",
       "      <td>50</td>\n",
       "      <td>125.4</td>\n",
       "      <td>[-1847, -1860, -1872, -1873, -1852, -1881, -19...</td>\n",
       "    </tr>\n",
       "  </tbody>\n",
       "</table>\n",
       "</div>"
      ],
      "text/plain": [
       "   start_ms  end_ms  start_sample  end_sample  \\\n",
       "0      6340   12610        126800      252200   \n",
       "\n",
       "                                              p_step     rms_p      peak_p  \\\n",
       "0  [279.1424913127069, 237.28552677964962, 154.69...  32.49787  318.396805   \n",
       "\n",
       "   bout_check                                               file  len_ms  \\\n",
       "0        True  /mnt/sphere/speech_bci/derived_data/s_b1253_21...    6270   \n",
       "\n",
       "                                              syl_in  n_syl  \\\n",
       "0  [[6340, 6385], [6560, 6605], [6695, 6740], [67...     14   \n",
       "\n",
       "                                             peaks_p  n_peaks  l_p_ratio  \\\n",
       "0  [13, 20, 35, 45, 59, 72, 85, 103, 121, 133, 14...       50      125.4   \n",
       "\n",
       "                                            waveform  \n",
       "0  [-1847, -1860, -1872, -1873, -1852, -1881, -19...  "
      ]
     },
     "execution_count": 63,
     "metadata": {},
     "output_type": "execute_result"
    }
   ],
   "source": [
    "sess_bout_pd.head(1)"
   ]
  },
  {
   "cell_type": "markdown",
   "id": "promising-royalty",
   "metadata": {},
   "source": [
    "### save the bouts of a pandas as wavs"
   ]
  },
  {
   "cell_type": "code",
   "execution_count": 57,
   "id": "opened-circus",
   "metadata": {},
   "outputs": [
    {
     "data": {
      "text/plain": [
       "'/mnt/sphere/speech_bci/processed_data/s_b1253_21/bouts_wav'"
      ]
     },
     "execution_count": 57,
     "metadata": {},
     "output_type": "execute_result"
    }
   ],
   "source": [
    "bird_bouts_folder = os.path.abspath('/mnt/sphere/speech_bci/processed_data/s_b1253_21/bouts_wav')\n",
    "bird_bouts_folder"
   ]
  },
  {
   "cell_type": "code",
   "execution_count": 58,
   "id": "pleased-genre",
   "metadata": {},
   "outputs": [],
   "source": [
    "os.makedirs(bird_bouts_folder, exist_ok=True)"
   ]
  },
  {
   "cell_type": "code",
   "execution_count": 59,
   "id": "spiritual-privacy",
   "metadata": {},
   "outputs": [],
   "source": [
    "a_bout = sess_bout_pd.iloc[0]"
   ]
  },
  {
   "cell_type": "code",
   "execution_count": 60,
   "id": "sharing-homeless",
   "metadata": {},
   "outputs": [
    {
     "data": {
      "text/plain": [
       "'/mnt/sphere/speech_bci/derived_data/s_b1253_21/2021-06-14/sglx/0712_g0/wav_mic.wav'"
      ]
     },
     "execution_count": 60,
     "metadata": {},
     "output_type": "execute_result"
    }
   ],
   "source": [
    "a_bout['file']"
   ]
  },
  {
   "cell_type": "code",
   "execution_count": 61,
   "id": "suffering-medline",
   "metadata": {},
   "outputs": [
    {
     "name": "stderr",
     "output_type": "stream",
     "text": [
      "2021-08-13 16:27:35,909 root         INFO     Saving all session bouts to folder /mnt/sphere/speech_bci/processed_data/s_b1253_21/bouts_wav\n",
      "2021-08-13 16:27:36,310 root         INFO     saving bout detect parameters dict to /mnt/sphere/speech_bci/processed_data/s_b1253_21/bouts_wav/bout_search_params_2021-06-14.pickle\n"
     ]
    }
   ],
   "source": [
    "def bout_to_wav(a_bout: pd.Series, sess_par, hparams, dest_dir):\n",
    "    file_name = '{}_{}_{}.wav'.format(sess_par['sess'],\n",
    "                                      os.path.split(a_bout['file'])[-1].split('.wav')[0],\n",
    "                                      a_bout['start_ms'])\n",
    "    file_path = os.path.join(dest_dir, file_name)\n",
    "    x = a_bout['waveform']\n",
    "    \n",
    "    wavfile.write(file_path, hparams['sample_rate'], x)\n",
    "    return file_path                                                      \n",
    "    \n",
    "def bouts_to_wavs(sess_bout_pd, sess_par, hparams, dest_dir):\n",
    "    # make the dest_dir if does not exist\n",
    "    logger.info('Saving all session bouts to folder ' + dest_dir)\n",
    "    os.makedirs(dest_dir, exist_ok=True)\n",
    "    # write all the motifs to wavs\n",
    "    sess_bout_pd.apply(lambda x: bout_to_wav(x, sess_par, hparams, dest_dir), axis=1)\n",
    "    # write the hparams as pickle\n",
    "    hparams_pickle_path = os.path.join(dest_dir, 'bout_search_params_{}.pickle'.format(sess_par['sess']))\n",
    "    \n",
    "    logger.info('saving bout detect parameters dict to ' + hparams_pickle_path)\n",
    "    with open(hparams_pickle_path, 'wb') as fh:\n",
    "        pickle.dump(hparams, fh)\n",
    "    \n",
    "# one example\n",
    "sess_bouts_folder = os.path.join(bird_bouts_folder, sess_par['sess'])\n",
    "os.makedirs(sess_bouts_folder, exist_ok=True)\n",
    "#bout_to_wav(a_bout, sess_par, hparams, bout_folder)\n",
    "\n",
    "# all the bouts in the sess\n",
    "bouts_to_wavs(sess_bout_pd, sess_par, hparams, bird_bouts_folder)"
   ]
  },
  {
   "cell_type": "markdown",
   "id": "expired-dress",
   "metadata": {},
   "source": [
    "## Run this for all sessions of the bird with alsa recordings"
   ]
  },
  {
   "cell_type": "markdown",
   "id": "mounted-pressure",
   "metadata": {},
   "source": [
    "#### list all sessions"
   ]
  },
  {
   "cell_type": "code",
   "execution_count": 44,
   "id": "disturbed-biotechnology",
   "metadata": {},
   "outputs": [
    {
     "data": {
      "text/plain": [
       "<module 'ceciestunepipe.file.bcistructure' from '/mnt/cube/earneodo/repos/ceciestunepipe/ceciestunepipe/file/bcistructure.py'>"
      ]
     },
     "execution_count": 44,
     "metadata": {},
     "output_type": "execute_result"
    }
   ],
   "source": [
    "reload(et)"
   ]
  },
  {
   "cell_type": "code",
   "execution_count": 82,
   "id": "lesser-michigan",
   "metadata": {
    "collapsed": true
   },
   "outputs": [
    {
     "data": {
      "text/plain": [
       "['2021-05-12',\n",
       " '2021-05-20',\n",
       " '2021-05-21',\n",
       " '2021-05-22',\n",
       " '2021-05-23',\n",
       " '2021-05-24',\n",
       " '2021-05-25',\n",
       " '2021-05-26',\n",
       " '2021-05-27',\n",
       " '2021-05-28',\n",
       " '2021-05-29',\n",
       " '2021-05-30',\n",
       " '2021-05-31',\n",
       " '2021-06-01',\n",
       " '2021-06-02',\n",
       " '2021-06-03',\n",
       " '2021-06-04',\n",
       " '2021-06-05',\n",
       " '2021-06-06',\n",
       " '2021-06-07',\n",
       " '2021-06-08',\n",
       " '2021-06-09',\n",
       " '2021-06-10',\n",
       " '2021-06-11',\n",
       " '2021-06-12',\n",
       " '2021-06-13',\n",
       " '2021-06-14',\n",
       " '2021-06-15',\n",
       " '2021-06-16',\n",
       " '2021-06-17',\n",
       " '2021-06-18',\n",
       " '2021-06-19',\n",
       " '2021-06-20',\n",
       " '2021-06-21',\n",
       " '2021-06-22',\n",
       " '2021-06-23',\n",
       " '2021-06-24',\n",
       " '2021-06-25',\n",
       " '2021-06-26',\n",
       " '2021-06-27',\n",
       " '2021-06-28',\n",
       " '2021-06-29',\n",
       " '2021-06-30',\n",
       " '2021-07-01',\n",
       " '2021-07-02',\n",
       " '2021-07-03',\n",
       " '2021-07-04',\n",
       " '2021-07-05',\n",
       " '2021-07-06',\n",
       " '2021-07-07',\n",
       " '2021-07-08',\n",
       " '2021-07-09',\n",
       " '2021-07-10',\n",
       " '2021-07-11',\n",
       " '2021-07-12',\n",
       " '2021-07-13',\n",
       " '2021-07-14',\n",
       " '2021-07-15',\n",
       " '2021-07-16',\n",
       " '2021-07-17',\n",
       " '2021-07-18',\n",
       " '2021-07-19',\n",
       " '2021-07-20',\n",
       " '2021-07-21',\n",
       " '2021-07-22',\n",
       " '2021-07-23',\n",
       " '2021-07-24',\n",
       " '2021-07-25',\n",
       " '2021-07-26',\n",
       " '2021-07-27',\n",
       " '2021-07-28',\n",
       " '2021-07-29',\n",
       " '2021-07-30',\n",
       " '2021-07-31',\n",
       " '2021-08-01',\n",
       " '2021-08-02',\n",
       " '2021-08-03',\n",
       " '2021-08-04',\n",
       " '2021-08-05',\n",
       " '2021-08-06']"
      ]
     },
     "execution_count": 82,
     "metadata": {},
     "output_type": "execute_result"
    }
   ],
   "source": [
    "all_sessions = et.list_sessions(sess_par['bird'], section='raw', ephys_software='alsa')\n",
    "all_sessions.sort()\n",
    "all_sessions"
   ]
  },
  {
   "cell_type": "code",
   "execution_count": 83,
   "id": "filled-tribune",
   "metadata": {},
   "outputs": [
    {
     "data": {
      "text/plain": [
       "['2021-08-03', '2021-08-04', '2021-08-05', '2021-08-06']"
      ]
     },
     "execution_count": 83,
     "metadata": {},
     "output_type": "execute_result"
    }
   ],
   "source": [
    "all_sessions[-4:]"
   ]
  },
  {
   "cell_type": "code",
   "execution_count": null,
   "id": "indie-difference",
   "metadata": {},
   "outputs": [],
   "source": []
  },
  {
   "cell_type": "code",
   "execution_count": 84,
   "id": "suspended-barcelona",
   "metadata": {
    "scrolled": true
   },
   "outputs": [
    {
     "name": "stderr",
     "output_type": "stream",
     "text": [
      "2021-08-06 08:58:12,932 root         INFO     Will search for bouts through all session s_b1253_21, 2021-08-04\n",
      "2021-08-06 08:58:12,980 root         INFO     Found 28 files\n"
     ]
    },
    {
     "name": "stdout",
     "output_type": "stream",
     "text": [
      "[Parallel(n_jobs=28)]: Using backend LokyBackend with 28 concurrent workers.\n",
      "[Parallel(n_jobs=28)]: Done   1 tasks      | elapsed: 19.9min\n",
      "[Parallel(n_jobs=28)]: Done   2 out of  28 | elapsed: 19.9min remaining: 259.1min\n",
      "[Parallel(n_jobs=28)]: Done   3 out of  28 | elapsed: 19.9min remaining: 166.1min\n",
      "[Parallel(n_jobs=28)]: Done   4 out of  28 | elapsed: 19.9min remaining: 119.6min\n",
      "[Parallel(n_jobs=28)]: Done   5 out of  28 | elapsed: 20.0min remaining: 91.8min\n",
      "[Parallel(n_jobs=28)]: Done   6 out of  28 | elapsed: 20.0min remaining: 73.2min\n",
      "[Parallel(n_jobs=28)]: Done   7 out of  28 | elapsed: 20.0min remaining: 59.9min\n",
      "[Parallel(n_jobs=28)]: Done   8 out of  28 | elapsed: 20.0min remaining: 49.9min\n",
      "[Parallel(n_jobs=28)]: Done   9 out of  28 | elapsed: 20.0min remaining: 42.3min\n",
      "[Parallel(n_jobs=28)]: Done  10 out of  28 | elapsed: 20.1min remaining: 36.1min\n",
      "[Parallel(n_jobs=28)]: Done  11 out of  28 | elapsed: 20.1min remaining: 31.0min\n",
      "[Parallel(n_jobs=28)]: Done  12 out of  28 | elapsed: 20.1min remaining: 26.8min\n",
      "[Parallel(n_jobs=28)]: Done  13 out of  28 | elapsed: 20.1min remaining: 23.2min\n",
      "[Parallel(n_jobs=28)]: Done  14 out of  28 | elapsed: 20.1min remaining: 20.1min\n",
      "[Parallel(n_jobs=28)]: Done  15 out of  28 | elapsed: 20.1min remaining: 17.5min\n",
      "[Parallel(n_jobs=28)]: Done  16 out of  28 | elapsed: 20.2min remaining: 15.1min\n",
      "[Parallel(n_jobs=28)]: Done  17 out of  28 | elapsed: 20.2min remaining: 13.0min\n",
      "[Parallel(n_jobs=28)]: Done  18 out of  28 | elapsed: 20.2min remaining: 11.2min\n",
      "[Parallel(n_jobs=28)]: Done  19 out of  28 | elapsed: 20.2min remaining:  9.6min\n",
      "[Parallel(n_jobs=28)]: Done  20 out of  28 | elapsed: 20.2min remaining:  8.1min\n",
      "[Parallel(n_jobs=28)]: Done  21 out of  28 | elapsed: 20.2min remaining:  6.7min\n",
      "[Parallel(n_jobs=28)]: Done  22 out of  28 | elapsed: 20.2min remaining:  5.5min\n",
      "[Parallel(n_jobs=28)]: Done  23 out of  28 | elapsed: 20.2min remaining:  4.4min\n",
      "[Parallel(n_jobs=28)]: Done  24 out of  28 | elapsed: 20.2min remaining:  3.4min\n",
      "[Parallel(n_jobs=28)]: Done  25 out of  28 | elapsed: 20.2min remaining:  2.4min\n",
      "[Parallel(n_jobs=28)]: Done  26 out of  28 | elapsed: 20.2min remaining:  1.6min\n"
     ]
    },
    {
     "name": "stderr",
     "output_type": "stream",
     "text": [
      "2021-08-06 09:18:28,164 root         INFO     Something went wrong in session 2021-08-04\n",
      "2021-08-06 09:18:28,164 root         INFO     Error <class 'PermissionError'>\n",
      "2021-08-06 09:18:28,165 root         INFO     Will search for bouts through all session s_b1253_21, 2021-08-05\n",
      "2021-08-06 09:18:28,205 root         INFO     Found 28 files\n"
     ]
    },
    {
     "name": "stdout",
     "output_type": "stream",
     "text": [
      "[Parallel(n_jobs=28)]: Done  28 out of  28 | elapsed: 20.3min remaining:    0.0s\n",
      "[Parallel(n_jobs=28)]: Done  28 out of  28 | elapsed: 20.3min finished\n",
      "[Parallel(n_jobs=28)]: Using backend LokyBackend with 28 concurrent workers.\n",
      "[Parallel(n_jobs=28)]: Done   1 tasks      | elapsed:  4.5min\n",
      "[Parallel(n_jobs=28)]: Done   2 out of  28 | elapsed:  4.5min remaining: 58.6min\n",
      "[Parallel(n_jobs=28)]: Done   3 out of  28 | elapsed:  4.5min remaining: 37.6min\n",
      "[Parallel(n_jobs=28)]: Done   4 out of  28 | elapsed:  4.5min remaining: 27.1min\n",
      "[Parallel(n_jobs=28)]: Done   5 out of  28 | elapsed:  4.5min remaining: 20.8min\n",
      "[Parallel(n_jobs=28)]: Done   6 out of  28 | elapsed:  4.5min remaining: 16.6min\n",
      "[Parallel(n_jobs=28)]: Done   7 out of  28 | elapsed:  4.5min remaining: 13.6min\n",
      "[Parallel(n_jobs=28)]: Done   8 out of  28 | elapsed:  4.6min remaining: 11.4min\n",
      "[Parallel(n_jobs=28)]: Done   9 out of  28 | elapsed:  4.6min remaining:  9.6min\n",
      "[Parallel(n_jobs=28)]: Done  10 out of  28 | elapsed:  4.6min remaining:  8.3min\n",
      "[Parallel(n_jobs=28)]: Done  11 out of  28 | elapsed:  4.6min remaining:  7.1min\n",
      "[Parallel(n_jobs=28)]: Done  12 out of  28 | elapsed:  4.6min remaining:  6.1min\n",
      "[Parallel(n_jobs=28)]: Done  13 out of  28 | elapsed:  4.6min remaining:  5.3min\n",
      "[Parallel(n_jobs=28)]: Done  14 out of  28 | elapsed:  4.6min remaining:  4.6min\n",
      "[Parallel(n_jobs=28)]: Done  15 out of  28 | elapsed:  4.6min remaining:  4.0min\n",
      "[Parallel(n_jobs=28)]: Done  16 out of  28 | elapsed:  4.6min remaining:  3.5min\n",
      "[Parallel(n_jobs=28)]: Done  17 out of  28 | elapsed:  4.6min remaining:  3.0min\n",
      "[Parallel(n_jobs=28)]: Done  18 out of  28 | elapsed:  4.6min remaining:  2.6min\n",
      "[Parallel(n_jobs=28)]: Done  19 out of  28 | elapsed:  4.7min remaining:  2.2min\n",
      "[Parallel(n_jobs=28)]: Done  20 out of  28 | elapsed:  4.7min remaining:  1.9min\n",
      "[Parallel(n_jobs=28)]: Done  21 out of  28 | elapsed:  4.7min remaining:  1.6min\n",
      "[Parallel(n_jobs=28)]: Done  22 out of  28 | elapsed:  4.7min remaining:  1.3min\n",
      "[Parallel(n_jobs=28)]: Done  23 out of  28 | elapsed:  4.7min remaining:  1.0min\n",
      "[Parallel(n_jobs=28)]: Done  24 out of  28 | elapsed:  4.7min remaining:   46.9s\n",
      "[Parallel(n_jobs=28)]: Done  25 out of  28 | elapsed:  4.7min remaining:   33.8s\n",
      "[Parallel(n_jobs=28)]: Done  26 out of  28 | elapsed:  4.7min remaining:   21.7s\n"
     ]
    },
    {
     "name": "stderr",
     "output_type": "stream",
     "text": [
      "2021-08-06 09:23:10,647 root         INFO     saving bouts pandas to /mnt/sphere/speech_bci/derived_data/s_b1253_21/2021-08-05/alsa/bouts_ceciestunepipe/bout_auto.pickle\n",
      "2021-08-06 09:23:10,781 root         INFO     saving bout detect parameters dict to /mnt/sphere/speech_bci/derived_data/s_b1253_21/2021-08-05/alsa/bouts_ceciestunepipe/bout_search_params.pickle\n",
      "2021-08-06 09:23:10,783 root         INFO     Saving all session bouts to folder /mnt/sphere/speech_bci/processed_data/s_b1253_21/bouts_wav/2021-08-05\n"
     ]
    },
    {
     "name": "stdout",
     "output_type": "stream",
     "text": [
      "[Parallel(n_jobs=28)]: Done  28 out of  28 | elapsed:  4.7min remaining:    0.0s\n",
      "[Parallel(n_jobs=28)]: Done  28 out of  28 | elapsed:  4.7min finished\n"
     ]
    },
    {
     "name": "stderr",
     "output_type": "stream",
     "text": [
      "2021-08-06 09:23:10,975 root         INFO     saving bout detect parameters dict to /mnt/sphere/speech_bci/processed_data/s_b1253_21/bouts_wav/2021-08-05/bout_search_params_2021-08-05.pickle\n",
      "2021-08-06 09:23:10,977 root         INFO     Will search for bouts through all session s_b1253_21, 2021-08-06\n",
      "2021-08-06 09:23:10,979 root         INFO     Found 4 files\n"
     ]
    },
    {
     "name": "stdout",
     "output_type": "stream",
     "text": [
      "[Parallel(n_jobs=28)]: Using backend LokyBackend with 28 concurrent workers.\n",
      "[Parallel(n_jobs=28)]: Done   1 tasks      | elapsed:   36.6s\n",
      "[Parallel(n_jobs=28)]: Done   2 out of   4 | elapsed:   36.6s remaining:   36.6s\n"
     ]
    },
    {
     "name": "stderr",
     "output_type": "stream",
     "text": [
      "2021-08-06 09:23:49,965 root         INFO     saving bouts pandas to /mnt/sphere/speech_bci/derived_data/s_b1253_21/2021-08-06/alsa/bouts_ceciestunepipe/bout_auto.pickle\n",
      "2021-08-06 09:23:49,972 root         INFO     saving bout detect parameters dict to /mnt/sphere/speech_bci/derived_data/s_b1253_21/2021-08-06/alsa/bouts_ceciestunepipe/bout_search_params.pickle\n",
      "2021-08-06 09:23:49,973 root         INFO     Saving all session bouts to folder /mnt/sphere/speech_bci/processed_data/s_b1253_21/bouts_wav/2021-08-06\n",
      "2021-08-06 09:23:49,981 root         INFO     saving bout detect parameters dict to /mnt/sphere/speech_bci/processed_data/s_b1253_21/bouts_wav/2021-08-06/bout_search_params_2021-08-06.pickle\n"
     ]
    },
    {
     "name": "stdout",
     "output_type": "stream",
     "text": [
      "[Parallel(n_jobs=28)]: Done   4 out of   4 | elapsed:   39.0s remaining:    0.0s\n",
      "[Parallel(n_jobs=28)]: Done   4 out of   4 | elapsed:   39.0s finished\n"
     ]
    }
   ],
   "source": [
    "for sess in all_sessions[-3:]:\n",
    "    try:\n",
    "        sess_par['sess'] = sess\n",
    "        sess_bout_pd = get_all_day_bouts(sess_par, hparams, n_jobs=28)\n",
    "        save_auto_bouts(sess_bout_pd, sess_par, hparams)\n",
    "        sess_bouts_folder = os.path.join(bird_bouts_folder, sess)\n",
    "        bouts_to_wavs(sess_bout_pd, sess_par, hparams, sess_bouts_folder)\n",
    "    except:\n",
    "        logger.info('Something went wrong in session ' + sess)\n",
    "        logger.info('Error {}'.format(sys.exc_info()[0]))\n",
    "        "
   ]
  },
  {
   "cell_type": "code",
   "execution_count": null,
   "id": "insured-trademark",
   "metadata": {},
   "outputs": [],
   "source": []
  }
 ],
 "metadata": {
  "kernelspec": {
   "display_name": "otrepipe",
   "language": "python",
   "name": "otrepipe"
  },
  "language_info": {
   "codemirror_mode": {
    "name": "ipython",
    "version": 3
   },
   "file_extension": ".py",
   "mimetype": "text/x-python",
   "name": "python",
   "nbconvert_exporter": "python",
   "pygments_lexer": "ipython3",
   "version": "3.8.3"
  }
 },
 "nbformat": 4,
 "nbformat_minor": 5
}
