{
 "cells": [
  {
   "cell_type": "markdown",
   "id": "49375420",
   "metadata": {},
   "source": [
    "## Look at and get metadata on parsed bouts (alsa/ephys)\n",
    "- load the bouts for a bird, session\n",
    "- make a summary of all the days that have manually curated bouts"
   ]
  },
  {
   "cell_type": "code",
   "execution_count": 1,
   "id": "4b1f4f57",
   "metadata": {},
   "outputs": [
    {
     "name": "stderr",
     "output_type": "stream",
     "text": [
      "2022-11-09 07:44:11,674 root         INFO     Running on pakhi.ucsd.edu\n"
     ]
    }
   ],
   "source": [
    "import os\n",
    "import glob\n",
    "import socket\n",
    "import logging\n",
    "import pickle\n",
    "import numpy as np\n",
    "import pandas as pd\n",
    "from scipy.io import wavfile\n",
    "from scipy import signal\n",
    "\n",
    "### Fuck matplotlib, I'm using poltly now\n",
    "from plotly.subplots import make_subplots\n",
    "import plotly.graph_objects as go\n",
    "\n",
    "from importlib import reload\n",
    "\n",
    "logger = logging.getLogger()\n",
    "handler = logging.StreamHandler()\n",
    "formatter = logging.Formatter(\n",
    "        '%(asctime)s %(name)-12s %(levelname)-8s %(message)s')\n",
    "handler.setFormatter(formatter)\n",
    "logger.addHandler(handler)\n",
    "logger.setLevel(logging.INFO)\n",
    "\n",
    "logger.info('Running on {}'.format(socket.gethostname()))"
   ]
  },
  {
   "cell_type": "code",
   "execution_count": 2,
   "id": "4e4c4dbb",
   "metadata": {},
   "outputs": [],
   "source": [
    "from ceciestunepipe.file import bcistructure as et"
   ]
  },
  {
   "cell_type": "markdown",
   "id": "3c33c66f",
   "metadata": {},
   "source": [
    "### set the session  file structure for a bird, day\n",
    "- ephys_software:\n",
    "                'alsa': the recordings using just the UMA-8 USB microphone\n",
    "                'sglx': the recordings with the ephys system (npx) using an earthworks microphone\n",
    "                'oe': the recordings with the ephys system (open-ephys/neuronexus) \n",
    "                        using an earthworks microphone"
   ]
  },
  {
   "cell_type": "code",
   "execution_count": 3,
   "id": "f62a32c1",
   "metadata": {},
   "outputs": [],
   "source": [
    "reload(et)\n",
    "sess_par = {'bird': 's_b1555_22',\n",
    "           'sess': '2022-11-06'}\n",
    "\n",
    "exp_struct = et.get_exp_struct(sess_par['bird'], sess_par['sess'], ephys_software='alsa')\n",
    "\n",
    "raw_folder = exp_struct['folders']['alsa']\n",
    "bouts_folder = os.path.join(exp_struct['folders']['derived'], 'bouts_ceciestunepipe')"
   ]
  },
  {
   "cell_type": "code",
   "execution_count": 6,
   "id": "c3eed1d2",
   "metadata": {},
   "outputs": [
    {
     "name": "stdout",
     "output_type": "stream",
     "text": [
      "\u001b[0m\u001b[01;32mbout_auto.pickle\u001b[0m*  bout_checked.pickle  \u001b[01;32mbout_search_params.pickle\u001b[0m*\r\n"
     ]
    }
   ],
   "source": [
    "ls $bouts_folder"
   ]
  },
  {
   "cell_type": "markdown",
   "id": "f7579568",
   "metadata": {},
   "source": [
    "### load the bouts for the session (day)\n",
    "- recording software: (same as ephys software in the get_exp_struct function)\n",
    "\n",
    "- curated:\n",
    "    True: will load the bout_checked.pickle (with the manual curation checks)\n",
    "    False: will load the bout_auto.pickle (just the auto bout detection)"
   ]
  },
  {
   "cell_type": "code",
   "execution_count": 8,
   "id": "09bdd2d9",
   "metadata": {},
   "outputs": [],
   "source": [
    "from ceciestunepipe.pipeline import searchbout as sb"
   ]
  },
  {
   "cell_type": "code",
   "execution_count": 21,
   "id": "4312cbc3",
   "metadata": {},
   "outputs": [],
   "source": [
    "hparams, bout_pd = sb.read_session_bouts(sess_par['bird'], sess_par['sess'], recording_software='alsa', curated=True)"
   ]
  },
  {
   "cell_type": "markdown",
   "id": "2d92a612",
   "metadata": {},
   "source": [
    "#### File details:\n",
    "bout_pd: pd.DataFrame\n",
    "    # start, end: start (in ms, samples) of the dectected bout in the raw file\n",
    "    waveform: np.array. The chunk of raw data\n",
    "    \n",
    "    MANUAL CURATION CHECKS (bool)\n",
    "    bout_check: bool. wether it was a bout (or noise)\n",
    "    is_call: bool. wheter it was a bout of calls\n",
    "    confusing: wheter the curator was confused about what it was (noise, calls, bout of song)\n",
    "    \n",
    "    other fields to be documented next\n",
    "    \n",
    "hparams: dict\n",
    "    # parameters for the spectrogram, amplitude, detection and extraction of the bouts\n",
    "    sample_rate: sample rate of the raw file (and the waveform in the corresponding bouts pandas DataFrame)\n",
    "    waveform_edges: how many samples before and after the onset/offset detection are included in the waveform in the corresponding bout pandas DataFrame)"
   ]
  },
  {
   "cell_type": "code",
   "execution_count": 12,
   "id": "739a51da",
   "metadata": {},
   "outputs": [
    {
     "data": {
      "text/plain": [
       "{'num_freq': 1024,\n",
       " 'preemphasis': 0.97,\n",
       " 'frame_shift_ms': 5,\n",
       " 'frame_length_ms': 10,\n",
       " 'min_level_db': -55,\n",
       " 'ref_level_db': 110,\n",
       " 'sample_rate': 48000,\n",
       " 'mel_filter': False,\n",
       " 'num_mels': 1024,\n",
       " 'fmin': 500,\n",
       " 'fmax': 12000,\n",
       " 'max_iters': 200,\n",
       " 'griffin_lim_iters': 20,\n",
       " 'power': 1.5,\n",
       " 'read_wav_fun': <function ceciestunepipe.util.sound.boutsearch.read_wav_chan(wav_path: str, chan_id: int = 0, return_int16=True) -> tuple>,\n",
       " 'file_order_fun': <function ceciestunepipe.util.sound.boutsearch.sess_file_id(f_path)>,\n",
       " 'min_segment': 30,\n",
       " 'min_silence': 3000,\n",
       " 'min_bout': 3000,\n",
       " 'peak_thresh_rms': 0.55,\n",
       " 'thresh_rms': 0.25,\n",
       " 'mean_syl_rms_thresh': 0.3,\n",
       " 'max_bout': 180000,\n",
       " 'l_p_r_thresh': 100,\n",
       " 'waveform_edges': 1000,\n",
       " 'bout_auto_file': 'bout_auto.pickle',\n",
       " 'bout_curated_file': 'bout_checked.pickle'}"
      ]
     },
     "execution_count": 12,
     "metadata": {},
     "output_type": "execute_result"
    }
   ],
   "source": [
    "hparams"
   ]
  },
  {
   "cell_type": "code",
   "execution_count": 22,
   "id": "1edabc3b",
   "metadata": {},
   "outputs": [
    {
     "data": {
      "text/html": [
       "<div>\n",
       "<style scoped>\n",
       "    .dataframe tbody tr th:only-of-type {\n",
       "        vertical-align: middle;\n",
       "    }\n",
       "\n",
       "    .dataframe tbody tr th {\n",
       "        vertical-align: top;\n",
       "    }\n",
       "\n",
       "    .dataframe thead th {\n",
       "        text-align: right;\n",
       "    }\n",
       "</style>\n",
       "<table border=\"1\" class=\"dataframe\">\n",
       "  <thead>\n",
       "    <tr style=\"text-align: right;\">\n",
       "      <th></th>\n",
       "      <th>start_ms</th>\n",
       "      <th>end_ms</th>\n",
       "      <th>start_sample</th>\n",
       "      <th>end_sample</th>\n",
       "      <th>p_step</th>\n",
       "      <th>rms_p</th>\n",
       "      <th>peak_p</th>\n",
       "      <th>bout_check</th>\n",
       "      <th>file</th>\n",
       "      <th>len_ms</th>\n",
       "      <th>...</th>\n",
       "      <th>n_syl</th>\n",
       "      <th>peaks_p</th>\n",
       "      <th>n_peaks</th>\n",
       "      <th>l_p_ratio</th>\n",
       "      <th>waveform</th>\n",
       "      <th>valid_waveform</th>\n",
       "      <th>valid</th>\n",
       "      <th>spectrogram</th>\n",
       "      <th>confusing</th>\n",
       "      <th>is_call</th>\n",
       "    </tr>\n",
       "  </thead>\n",
       "  <tbody>\n",
       "    <tr>\n",
       "      <th>0</th>\n",
       "      <td>1064325</td>\n",
       "      <td>1106785</td>\n",
       "      <td>51087600</td>\n",
       "      <td>53125680</td>\n",
       "      <td>[1.7835915647510105, 4.344083020852177, 4.3568...</td>\n",
       "      <td>1.546699</td>\n",
       "      <td>98.966014</td>\n",
       "      <td>True</td>\n",
       "      <td>/mnt/sphere/speech_bci/raw_data/s_b1555_22/202...</td>\n",
       "      <td>42460</td>\n",
       "      <td>...</td>\n",
       "      <td>96</td>\n",
       "      <td>[2, 203, 213, 606, 614, 630, 637, 644, 656, 66...</td>\n",
       "      <td>338</td>\n",
       "      <td>125.621302</td>\n",
       "      <td>[-5, 1, 3, 2, -2, -6, -3, 0, 0, -1, -1, 0, 2, ...</td>\n",
       "      <td>True</td>\n",
       "      <td>True</td>\n",
       "      <td>[[0.0, 0.0, 0.0, 0.0, 0.0, 0.0, 0.0, 0.0, 0.0,...</td>\n",
       "      <td>False</td>\n",
       "      <td>False</td>\n",
       "    </tr>\n",
       "    <tr>\n",
       "      <th>1</th>\n",
       "      <td>1080900</td>\n",
       "      <td>1117105</td>\n",
       "      <td>51883200</td>\n",
       "      <td>53621040</td>\n",
       "      <td>[1.5666338818639305, 1.5581686644532489, 2.367...</td>\n",
       "      <td>2.365829</td>\n",
       "      <td>82.393821</td>\n",
       "      <td>True</td>\n",
       "      <td>/mnt/sphere/speech_bci/raw_data/s_b1555_22/202...</td>\n",
       "      <td>36205</td>\n",
       "      <td>...</td>\n",
       "      <td>67</td>\n",
       "      <td>[7, 19, 69, 377, 393, 406, 418, 426, 434, 441,...</td>\n",
       "      <td>256</td>\n",
       "      <td>141.425781</td>\n",
       "      <td>[-1, -1, 1, 0, -1, 0, 1, 0, -1, 1, 0, 0, -1, -...</td>\n",
       "      <td>True</td>\n",
       "      <td>True</td>\n",
       "      <td>[[0.0, 0.0, 0.0, 0.0, 0.0, 0.0, 0.0, 0.0, 0.0,...</td>\n",
       "      <td>False</td>\n",
       "      <td>False</td>\n",
       "    </tr>\n",
       "  </tbody>\n",
       "</table>\n",
       "<p>2 rows × 21 columns</p>\n",
       "</div>"
      ],
      "text/plain": [
       "   start_ms   end_ms  start_sample  end_sample  \\\n",
       "0   1064325  1106785      51087600    53125680   \n",
       "1   1080900  1117105      51883200    53621040   \n",
       "\n",
       "                                              p_step     rms_p     peak_p  \\\n",
       "0  [1.7835915647510105, 4.344083020852177, 4.3568...  1.546699  98.966014   \n",
       "1  [1.5666338818639305, 1.5581686644532489, 2.367...  2.365829  82.393821   \n",
       "\n",
       "   bout_check                                               file  len_ms  ...  \\\n",
       "0        True  /mnt/sphere/speech_bci/raw_data/s_b1555_22/202...   42460  ...   \n",
       "1        True  /mnt/sphere/speech_bci/raw_data/s_b1555_22/202...   36205  ...   \n",
       "\n",
       "  n_syl                                            peaks_p n_peaks  \\\n",
       "0    96  [2, 203, 213, 606, 614, 630, 637, 644, 656, 66...     338   \n",
       "1    67  [7, 19, 69, 377, 393, 406, 418, 426, 434, 441,...     256   \n",
       "\n",
       "    l_p_ratio                                           waveform  \\\n",
       "0  125.621302  [-5, 1, 3, 2, -2, -6, -3, 0, 0, -1, -1, 0, 2, ...   \n",
       "1  141.425781  [-1, -1, 1, 0, -1, 0, 1, 0, -1, 1, 0, 0, -1, -...   \n",
       "\n",
       "  valid_waveform  valid                                        spectrogram  \\\n",
       "0           True   True  [[0.0, 0.0, 0.0, 0.0, 0.0, 0.0, 0.0, 0.0, 0.0,...   \n",
       "1           True   True  [[0.0, 0.0, 0.0, 0.0, 0.0, 0.0, 0.0, 0.0, 0.0,...   \n",
       "\n",
       "  confusing  is_call  \n",
       "0     False    False  \n",
       "1     False    False  \n",
       "\n",
       "[2 rows x 21 columns]"
      ]
     },
     "execution_count": 22,
     "metadata": {},
     "output_type": "execute_result"
    }
   ],
   "source": [
    "bout_pd.head(2)"
   ]
  },
  {
   "cell_type": "markdown",
   "id": "6890c097",
   "metadata": {},
   "source": [
    "#### Filter all bouts of song"
   ]
  },
  {
   "cell_type": "code",
   "execution_count": 23,
   "id": "3ef2e0c7",
   "metadata": {},
   "outputs": [],
   "source": [
    "bout_sel = (bout_pd['valid']==True) & (bout_pd['bout_check']==True) & (bout_pd['confusing']==False) & (bout_pd['is_call']==False)\n",
    "\n",
    "song_bout_pd = bout_pd.loc[bout_sel]"
   ]
  },
  {
   "cell_type": "markdown",
   "id": "2af753ba",
   "metadata": {},
   "source": [
    "### plot one bout of song"
   ]
  },
  {
   "cell_type": "code",
   "execution_count": 24,
   "id": "e0c37175",
   "metadata": {},
   "outputs": [],
   "source": [
    "import plotly.express as px\n",
    "import plotly.graph_objects as go\n",
    "\n",
    "from ipywidgets import widgets"
   ]
  },
  {
   "cell_type": "code",
   "execution_count": 25,
   "id": "ffe3f87e",
   "metadata": {},
   "outputs": [],
   "source": [
    "def viz_one_bout(df: pd.Series, sub_sample=1):\n",
    "    # get the power and the spectrogram\n",
    "    sxx = df['spectrogram'][:, ::sub_sample]\n",
    "    x = df['waveform'][::sub_sample]\n",
    "    \n",
    "    # the trace\n",
    "    tr_waveform = go.Scatter(y=x)\n",
    "    figwidg_waveform = go.FigureWidget(data=[tr_waveform],\n",
    "                                      layout= {'height': 300,'width':1000})\n",
    "\n",
    "    # the spectrogram\n",
    "    fig_spectrogram = px.imshow(sxx, \n",
    "                                     labels={}, \n",
    "                                     color_continuous_scale='Inferno',\n",
    "                                    aspect='auto')\n",
    "\n",
    "    fig_spectrogram.update_layout(width=1000, height=300, coloraxis_showscale=False)\n",
    "    fig_spectrogram.update_xaxes(showticklabels=False)\n",
    "    fig_spectrogram.update_yaxes(showticklabels=False)\n",
    "    \n",
    "    \n",
    "    figwidg_spectrogram = go.FigureWidget(fig_spectrogram)\n",
    "    \n",
    "    display(widgets.VBox([figwidg_waveform,\n",
    "              figwidg_spectrogram]))"
   ]
  },
  {
   "cell_type": "code",
   "execution_count": 26,
   "id": "72837b71",
   "metadata": {
    "scrolled": true
   },
   "outputs": [
    {
     "data": {
      "application/vnd.jupyter.widget-view+json": {
       "model_id": "0b653abb60644629aebe1aa102836d31",
       "version_major": 2,
       "version_minor": 0
      },
      "text/plain": [
       "VBox(children=(FigureWidget({\n",
       "    'data': [{'type': 'scatter',\n",
       "              'uid': '4ed5bb45-9ea4-479a-81e9-0…"
      ]
     },
     "metadata": {},
     "output_type": "display_data"
    }
   ],
   "source": [
    "viz_one_bout(song_bout_pd.loc[0])"
   ]
  },
  {
   "cell_type": "markdown",
   "id": "34ddce2b",
   "metadata": {},
   "source": [
    "### to do:\n",
    "- list all the sessions of a bird that have files of bouts (auto and curated)\n",
    "- get number of good bouts of song for each\n",
    "- make a dataframe of that metadata\n",
    "- plot statistics of bouts per day?"
   ]
  },
  {
   "cell_type": "code",
   "execution_count": null,
   "id": "3f5ee5cd",
   "metadata": {},
   "outputs": [],
   "source": []
  }
 ],
 "metadata": {
  "kernelspec": {
   "display_name": "ceciestunepipe (cube)",
   "language": "python",
   "name": "unepipe-cube"
  },
  "language_info": {
   "codemirror_mode": {
    "name": "ipython",
    "version": 3
   },
   "file_extension": ".py",
   "mimetype": "text/x-python",
   "name": "python",
   "nbconvert_exporter": "python",
   "pygments_lexer": "ipython3",
   "version": "3.8.11"
  }
 },
 "nbformat": 4,
 "nbformat_minor": 5
}
