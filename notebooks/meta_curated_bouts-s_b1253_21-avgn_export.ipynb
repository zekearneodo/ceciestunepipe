{
 "cells": [
  {
   "cell_type": "markdown",
   "id": "younger-harvest",
   "metadata": {},
   "source": [
    "### Do stuff with curated bouts\n",
    "- Get the wav files\n",
    "- Get out the pandas wiht the metadata\n",
    "- fore each bout make a json file compatible with the avgn repository"
   ]
  },
  {
   "cell_type": "code",
   "execution_count": 1,
   "id": "forced-ticket",
   "metadata": {},
   "outputs": [
    {
     "name": "stderr",
     "output_type": "stream",
     "text": [
      "2021-08-12 11:18:27,656 root         INFO     Running on pakhi\n"
     ]
    }
   ],
   "source": [
    "import os\n",
    "import glob\n",
    "import socket\n",
    "import logging\n",
    "import pickle\n",
    "import numpy as np\n",
    "import pandas as pd\n",
    "from scipy.io import wavfile\n",
    "from scipy import signal\n",
    "import json\n",
    "\n",
    "### Fuck matplotlib, I'm using poltly now\n",
    "from plotly.subplots import make_subplots\n",
    "import plotly.graph_objects as go\n",
    "\n",
    "from importlib import reload\n",
    "\n",
    "logger = logging.getLogger()\n",
    "handler = logging.StreamHandler()\n",
    "formatter = logging.Formatter(\n",
    "        '%(asctime)s %(name)-12s %(levelname)-8s %(message)s')\n",
    "handler.setFormatter(formatter)\n",
    "logger.addHandler(handler)\n",
    "logger.setLevel(logging.INFO)\n",
    "\n",
    "logger.info('Running on {}'.format(socket.gethostname()))"
   ]
  },
  {
   "cell_type": "code",
   "execution_count": 2,
   "id": "wicked-budget",
   "metadata": {},
   "outputs": [],
   "source": [
    "from ceciestunepipe.file import bcistructure as et\n",
    "\n",
    "reload(et)\n",
    "sess_par = {'bird': 's_b1253_21',\n",
    "           'sess': 'dummy',\n",
    "           'ephys_software': 'alsa',\n",
    "           'bouts_detector': 'bouts_ceciestunepipe',\n",
    "           'bouts_file': 'bout_checked.pickle'\n",
    "}\n",
    "\n",
    "\n",
    "bird_sessions = et.list_sessions(sess_par['bird'], ephys_software='alsa')"
   ]
  },
  {
   "cell_type": "markdown",
   "id": "technological-norway",
   "metadata": {},
   "source": [
    "### list bird sessions with curated bouts"
   ]
  },
  {
   "cell_type": "code",
   "execution_count": 3,
   "id": "featured-exposure",
   "metadata": {},
   "outputs": [],
   "source": [
    "def list_bird_bout_files(sess_par: dict):\n",
    "    # list all the sessions for the bird\n",
    "    bird_sessions = et.list_sessions(sess_par['bird'], ephys_software=sess_par['ephys_software'])\n",
    "    bird_sessions.sort()\n",
    "\n",
    "    \n",
    "    # for each session, look whether there is a bout_checked_file\n",
    "    all_bout_path = []\n",
    "    for sess in bird_sessions:\n",
    "        exp_struct = et.get_exp_struct(sess_par['bird'], sess, ephys_software=sess_par['ephys_software'])\n",
    "        \n",
    "        bouts_folder = os.path.join(exp_struct['folders']['derived'], sess_par['bouts_detector'])\n",
    "        bouts_file_path = os.path.join(bouts_folder, sess_par['bouts_file'])\n",
    "        #logger.info(bouts_file_path)\n",
    "        if os.path.isfile(bouts_file_path):\n",
    "            all_bout_path.append(bouts_file_path)\n",
    "    return all_bout_path\n",
    "            \n",
    "bird_bout_file_list = list_bird_bout_files(sess_par)\n",
    "        "
   ]
  },
  {
   "cell_type": "code",
   "execution_count": 4,
   "id": "revolutionary-leather",
   "metadata": {},
   "outputs": [
    {
     "data": {
      "text/plain": [
       "['/mnt/sphere/speech_bci/derived_data/s_b1253_21/2021-06-06/alsa/bouts_ceciestunepipe/bout_checked.pickle',\n",
       " '/mnt/sphere/speech_bci/derived_data/s_b1253_21/2021-06-09/alsa/bouts_ceciestunepipe/bout_checked.pickle',\n",
       " '/mnt/sphere/speech_bci/derived_data/s_b1253_21/2021-06-12/alsa/bouts_ceciestunepipe/bout_checked.pickle',\n",
       " '/mnt/sphere/speech_bci/derived_data/s_b1253_21/2021-06-13/alsa/bouts_ceciestunepipe/bout_checked.pickle',\n",
       " '/mnt/sphere/speech_bci/derived_data/s_b1253_21/2021-06-14/alsa/bouts_ceciestunepipe/bout_checked.pickle',\n",
       " '/mnt/sphere/speech_bci/derived_data/s_b1253_21/2021-06-15/alsa/bouts_ceciestunepipe/bout_checked.pickle',\n",
       " '/mnt/sphere/speech_bci/derived_data/s_b1253_21/2021-06-16/alsa/bouts_ceciestunepipe/bout_checked.pickle',\n",
       " '/mnt/sphere/speech_bci/derived_data/s_b1253_21/2021-06-17/alsa/bouts_ceciestunepipe/bout_checked.pickle',\n",
       " '/mnt/sphere/speech_bci/derived_data/s_b1253_21/2021-06-18/alsa/bouts_ceciestunepipe/bout_checked.pickle',\n",
       " '/mnt/sphere/speech_bci/derived_data/s_b1253_21/2021-06-29/alsa/bouts_ceciestunepipe/bout_checked.pickle',\n",
       " '/mnt/sphere/speech_bci/derived_data/s_b1253_21/2021-06-30/alsa/bouts_ceciestunepipe/bout_checked.pickle',\n",
       " '/mnt/sphere/speech_bci/derived_data/s_b1253_21/2021-07-02/alsa/bouts_ceciestunepipe/bout_checked.pickle',\n",
       " '/mnt/sphere/speech_bci/derived_data/s_b1253_21/2021-07-03/alsa/bouts_ceciestunepipe/bout_checked.pickle',\n",
       " '/mnt/sphere/speech_bci/derived_data/s_b1253_21/2021-07-11/alsa/bouts_ceciestunepipe/bout_checked.pickle',\n",
       " '/mnt/sphere/speech_bci/derived_data/s_b1253_21/2021-07-12/alsa/bouts_ceciestunepipe/bout_checked.pickle',\n",
       " '/mnt/sphere/speech_bci/derived_data/s_b1253_21/2021-07-16/alsa/bouts_ceciestunepipe/bout_checked.pickle',\n",
       " '/mnt/sphere/speech_bci/derived_data/s_b1253_21/2021-07-17/alsa/bouts_ceciestunepipe/bout_checked.pickle',\n",
       " '/mnt/sphere/speech_bci/derived_data/s_b1253_21/2021-07-18/alsa/bouts_ceciestunepipe/bout_checked.pickle',\n",
       " '/mnt/sphere/speech_bci/derived_data/s_b1253_21/2021-07-19/alsa/bouts_ceciestunepipe/bout_checked.pickle',\n",
       " '/mnt/sphere/speech_bci/derived_data/s_b1253_21/2021-07-20/alsa/bouts_ceciestunepipe/bout_checked.pickle',\n",
       " '/mnt/sphere/speech_bci/derived_data/s_b1253_21/2021-07-22/alsa/bouts_ceciestunepipe/bout_checked.pickle',\n",
       " '/mnt/sphere/speech_bci/derived_data/s_b1253_21/2021-07-23/alsa/bouts_ceciestunepipe/bout_checked.pickle',\n",
       " '/mnt/sphere/speech_bci/derived_data/s_b1253_21/2021-07-24/alsa/bouts_ceciestunepipe/bout_checked.pickle',\n",
       " '/mnt/sphere/speech_bci/derived_data/s_b1253_21/2021-07-25/alsa/bouts_ceciestunepipe/bout_checked.pickle',\n",
       " '/mnt/sphere/speech_bci/derived_data/s_b1253_21/2021-07-26/alsa/bouts_ceciestunepipe/bout_checked.pickle',\n",
       " '/mnt/sphere/speech_bci/derived_data/s_b1253_21/2021-07-27/alsa/bouts_ceciestunepipe/bout_checked.pickle',\n",
       " '/mnt/sphere/speech_bci/derived_data/s_b1253_21/2021-07-28/alsa/bouts_ceciestunepipe/bout_checked.pickle',\n",
       " '/mnt/sphere/speech_bci/derived_data/s_b1253_21/2021-07-29/alsa/bouts_ceciestunepipe/bout_checked.pickle',\n",
       " '/mnt/sphere/speech_bci/derived_data/s_b1253_21/2021-07-30/alsa/bouts_ceciestunepipe/bout_checked.pickle',\n",
       " '/mnt/sphere/speech_bci/derived_data/s_b1253_21/2021-07-31/alsa/bouts_ceciestunepipe/bout_checked.pickle']"
      ]
     },
     "execution_count": 4,
     "metadata": {},
     "output_type": "execute_result"
    }
   ],
   "source": [
    "bird_bout_file_list"
   ]
  },
  {
   "cell_type": "code",
   "execution_count": 5,
   "id": "alpha-collins",
   "metadata": {},
   "outputs": [],
   "source": [
    "from tqdm.notebook import trange, tqdm"
   ]
  },
  {
   "cell_type": "code",
   "execution_count": 6,
   "id": "organic-century",
   "metadata": {},
   "outputs": [
    {
     "name": "stderr",
     "output_type": "stream",
     "text": [
      "2021-08-12 11:18:52,055 root         INFO     loading all pandas bout_checked.pickle for bird s_b1253_21\n"
     ]
    },
    {
     "data": {
      "application/vnd.jupyter.widget-view+json": {
       "model_id": "51f680d93d464937875af9907a365f16",
       "version_major": 2,
       "version_minor": 0
      },
      "text/plain": [
       "  0%|          | 0/30 [00:00<?, ?it/s]"
      ]
     },
     "metadata": {},
     "output_type": "display_data"
    }
   ],
   "source": [
    "def load_all_bout_pandas(sess_par: dict):\n",
    "    # list all the bout files in the session\n",
    "    path_list = list_bird_bout_files(sess_par)\n",
    "    # load them all and concatenate into one single pandas dataframe\n",
    "    pd_list = []\n",
    "    logger.info('loading all pandas {} for bird {}'.format(sess_par['bouts_file'], sess_par['bird']))\n",
    "    for i_p, one_path in enumerate(tqdm(path_list)):\n",
    "        one_pd = pd.read_pickle(one_path)\n",
    "        pd_list.append(one_pd)\n",
    "    \n",
    "    return pd.concat(pd_list).reset_index(drop=True)\n",
    "\n",
    "bird_bout_pd = load_all_bout_pandas(sess_par)\n",
    "        "
   ]
  },
  {
   "cell_type": "code",
   "execution_count": 8,
   "id": "independent-theory",
   "metadata": {
    "scrolled": true
   },
   "outputs": [
    {
     "data": {
      "text/html": [
       "<div>\n",
       "<style scoped>\n",
       "    .dataframe tbody tr th:only-of-type {\n",
       "        vertical-align: middle;\n",
       "    }\n",
       "\n",
       "    .dataframe tbody tr th {\n",
       "        vertical-align: top;\n",
       "    }\n",
       "\n",
       "    .dataframe thead th {\n",
       "        text-align: right;\n",
       "    }\n",
       "</style>\n",
       "<table border=\"1\" class=\"dataframe\">\n",
       "  <thead>\n",
       "    <tr style=\"text-align: right;\">\n",
       "      <th></th>\n",
       "      <th>start_ms</th>\n",
       "      <th>end_ms</th>\n",
       "      <th>start_sample</th>\n",
       "      <th>end_sample</th>\n",
       "      <th>p_step</th>\n",
       "      <th>rms_p</th>\n",
       "      <th>peak_p</th>\n",
       "      <th>bout_check</th>\n",
       "      <th>file</th>\n",
       "      <th>len_ms</th>\n",
       "      <th>syl_in</th>\n",
       "      <th>n_syl</th>\n",
       "      <th>peaks_p</th>\n",
       "      <th>n_peaks</th>\n",
       "      <th>l_p_ratio</th>\n",
       "      <th>waveform</th>\n",
       "      <th>valid_waveform</th>\n",
       "      <th>valid</th>\n",
       "      <th>spectrogram</th>\n",
       "      <th>confusing</th>\n",
       "    </tr>\n",
       "  </thead>\n",
       "  <tbody>\n",
       "    <tr>\n",
       "      <th>0</th>\n",
       "      <td>224595.0</td>\n",
       "      <td>251655.0</td>\n",
       "      <td>10780560.0</td>\n",
       "      <td>12079440.0</td>\n",
       "      <td>[2.194746139749094, 3.850394476655695, 2.16753...</td>\n",
       "      <td>3.837231</td>\n",
       "      <td>104.672704</td>\n",
       "      <td>True</td>\n",
       "      <td>/mnt/sphere/speech_bci/raw_data/s_b1253_21/202...</td>\n",
       "      <td>27060.0</td>\n",
       "      <td>[[224595, 224700], [226320, 226465], [227510, ...</td>\n",
       "      <td>73.0</td>\n",
       "      <td>[1, 10, 18, 32, 41, 348, 356, 364, 373, 386, 3...</td>\n",
       "      <td>240.0</td>\n",
       "      <td>112.750000</td>\n",
       "      <td>[0, 0, 0, 0, 0, 0, 0, 0, 0, 0, -2, -2, -1, -1,...</td>\n",
       "      <td>True</td>\n",
       "      <td>True</td>\n",
       "      <td>[[0.0, 0.0, 0.0, 0.0, 0.0, 0.0, 0.0, 0.0, 0.0,...</td>\n",
       "      <td>False</td>\n",
       "    </tr>\n",
       "    <tr>\n",
       "      <th>1</th>\n",
       "      <td>924555.0</td>\n",
       "      <td>945395.0</td>\n",
       "      <td>44378640.0</td>\n",
       "      <td>45378960.0</td>\n",
       "      <td>[2.6427765346156753, 3.1863976015258806, 4.622...</td>\n",
       "      <td>3.837231</td>\n",
       "      <td>115.114813</td>\n",
       "      <td>True</td>\n",
       "      <td>/mnt/sphere/speech_bci/raw_data/s_b1253_21/202...</td>\n",
       "      <td>20840.0</td>\n",
       "      <td>[[924555, 924635], [925235, 925290], [925315, ...</td>\n",
       "      <td>82.0</td>\n",
       "      <td>[7, 14, 31, 76, 145, 155, 162, 173, 201, 239, ...</td>\n",
       "      <td>233.0</td>\n",
       "      <td>89.442060</td>\n",
       "      <td>[-5, -4, -4, -3, -4, -4, -4, -6, -4, -2, -3, -...</td>\n",
       "      <td>True</td>\n",
       "      <td>True</td>\n",
       "      <td>[[0.0, 0.0, 0.0, 0.0, 0.0, 0.0, 0.0, 0.0, 0.0,...</td>\n",
       "      <td>False</td>\n",
       "    </tr>\n",
       "    <tr>\n",
       "      <th>2</th>\n",
       "      <td>1041975.0</td>\n",
       "      <td>1071595.0</td>\n",
       "      <td>50014800.0</td>\n",
       "      <td>51436560.0</td>\n",
       "      <td>[26.3627577571065, 27.576856238944778, 24.7911...</td>\n",
       "      <td>3.837231</td>\n",
       "      <td>164.391799</td>\n",
       "      <td>True</td>\n",
       "      <td>/mnt/sphere/speech_bci/raw_data/s_b1253_21/202...</td>\n",
       "      <td>29620.0</td>\n",
       "      <td>[[1041975, 1042015], [1042045, 1042075], [1042...</td>\n",
       "      <td>93.0</td>\n",
       "      <td>[1, 16, 57, 126, 162, 170, 187, 232, 243, 293,...</td>\n",
       "      <td>324.0</td>\n",
       "      <td>91.419753</td>\n",
       "      <td>[3, 3, 1, 1, 2, 1, 1, 1, 3, 4, 3, 3, 2, 2, 1, ...</td>\n",
       "      <td>True</td>\n",
       "      <td>True</td>\n",
       "      <td>[[0.0, 0.0, 0.0, 0.0, 0.0, 0.0, 0.0, 0.0, 0.0,...</td>\n",
       "      <td>False</td>\n",
       "    </tr>\n",
       "  </tbody>\n",
       "</table>\n",
       "</div>"
      ],
      "text/plain": [
       "    start_ms     end_ms  start_sample  end_sample  \\\n",
       "0   224595.0   251655.0    10780560.0  12079440.0   \n",
       "1   924555.0   945395.0    44378640.0  45378960.0   \n",
       "2  1041975.0  1071595.0    50014800.0  51436560.0   \n",
       "\n",
       "                                              p_step     rms_p      peak_p  \\\n",
       "0  [2.194746139749094, 3.850394476655695, 2.16753...  3.837231  104.672704   \n",
       "1  [2.6427765346156753, 3.1863976015258806, 4.622...  3.837231  115.114813   \n",
       "2  [26.3627577571065, 27.576856238944778, 24.7911...  3.837231  164.391799   \n",
       "\n",
       "  bout_check                                               file   len_ms  \\\n",
       "0       True  /mnt/sphere/speech_bci/raw_data/s_b1253_21/202...  27060.0   \n",
       "1       True  /mnt/sphere/speech_bci/raw_data/s_b1253_21/202...  20840.0   \n",
       "2       True  /mnt/sphere/speech_bci/raw_data/s_b1253_21/202...  29620.0   \n",
       "\n",
       "                                              syl_in  n_syl  \\\n",
       "0  [[224595, 224700], [226320, 226465], [227510, ...   73.0   \n",
       "1  [[924555, 924635], [925235, 925290], [925315, ...   82.0   \n",
       "2  [[1041975, 1042015], [1042045, 1042075], [1042...   93.0   \n",
       "\n",
       "                                             peaks_p  n_peaks   l_p_ratio  \\\n",
       "0  [1, 10, 18, 32, 41, 348, 356, 364, 373, 386, 3...    240.0  112.750000   \n",
       "1  [7, 14, 31, 76, 145, 155, 162, 173, 201, 239, ...    233.0   89.442060   \n",
       "2  [1, 16, 57, 126, 162, 170, 187, 232, 243, 293,...    324.0   91.419753   \n",
       "\n",
       "                                            waveform valid_waveform valid  \\\n",
       "0  [0, 0, 0, 0, 0, 0, 0, 0, 0, 0, -2, -2, -1, -1,...           True  True   \n",
       "1  [-5, -4, -4, -3, -4, -4, -4, -6, -4, -2, -3, -...           True  True   \n",
       "2  [3, 3, 1, 1, 2, 1, 1, 1, 3, 4, 3, 3, 2, 2, 1, ...           True  True   \n",
       "\n",
       "                                         spectrogram confusing  \n",
       "0  [[0.0, 0.0, 0.0, 0.0, 0.0, 0.0, 0.0, 0.0, 0.0,...     False  \n",
       "1  [[0.0, 0.0, 0.0, 0.0, 0.0, 0.0, 0.0, 0.0, 0.0,...     False  \n",
       "2  [[0.0, 0.0, 0.0, 0.0, 0.0, 0.0, 0.0, 0.0, 0.0,...     False  "
      ]
     },
     "execution_count": 8,
     "metadata": {},
     "output_type": "execute_result"
    }
   ],
   "source": [
    "bird_bout_pd.head(3)"
   ]
  },
  {
   "cell_type": "markdown",
   "id": "czech-burst",
   "metadata": {},
   "source": [
    "##### remove all the 'confusing' or noise ('!bout_check')"
   ]
  },
  {
   "cell_type": "code",
   "execution_count": 9,
   "id": "radical-accident",
   "metadata": {},
   "outputs": [],
   "source": [
    "only_bout_pd = bird_bout_pd.drop(bird_bout_pd[(bird_bout_pd['confusing']==True) | (bird_bout_pd['bout_check']==False)].index)"
   ]
  },
  {
   "cell_type": "code",
   "execution_count": 10,
   "id": "healthy-metropolitan",
   "metadata": {},
   "outputs": [
    {
     "data": {
      "text/html": [
       "<div>\n",
       "<style scoped>\n",
       "    .dataframe tbody tr th:only-of-type {\n",
       "        vertical-align: middle;\n",
       "    }\n",
       "\n",
       "    .dataframe tbody tr th {\n",
       "        vertical-align: top;\n",
       "    }\n",
       "\n",
       "    .dataframe thead th {\n",
       "        text-align: right;\n",
       "    }\n",
       "</style>\n",
       "<table border=\"1\" class=\"dataframe\">\n",
       "  <thead>\n",
       "    <tr style=\"text-align: right;\">\n",
       "      <th></th>\n",
       "      <th>start_ms</th>\n",
       "      <th>end_ms</th>\n",
       "      <th>start_sample</th>\n",
       "      <th>end_sample</th>\n",
       "      <th>p_step</th>\n",
       "      <th>rms_p</th>\n",
       "      <th>peak_p</th>\n",
       "      <th>bout_check</th>\n",
       "      <th>file</th>\n",
       "      <th>len_ms</th>\n",
       "      <th>syl_in</th>\n",
       "      <th>n_syl</th>\n",
       "      <th>peaks_p</th>\n",
       "      <th>n_peaks</th>\n",
       "      <th>l_p_ratio</th>\n",
       "      <th>waveform</th>\n",
       "      <th>valid_waveform</th>\n",
       "      <th>valid</th>\n",
       "      <th>spectrogram</th>\n",
       "      <th>confusing</th>\n",
       "    </tr>\n",
       "  </thead>\n",
       "  <tbody>\n",
       "    <tr>\n",
       "      <th>0</th>\n",
       "      <td>224595.0</td>\n",
       "      <td>251655.0</td>\n",
       "      <td>10780560.0</td>\n",
       "      <td>12079440.0</td>\n",
       "      <td>[2.194746139749094, 3.850394476655695, 2.16753...</td>\n",
       "      <td>3.837231</td>\n",
       "      <td>104.672704</td>\n",
       "      <td>True</td>\n",
       "      <td>/mnt/sphere/speech_bci/raw_data/s_b1253_21/202...</td>\n",
       "      <td>27060.0</td>\n",
       "      <td>[[224595, 224700], [226320, 226465], [227510, ...</td>\n",
       "      <td>73.0</td>\n",
       "      <td>[1, 10, 18, 32, 41, 348, 356, 364, 373, 386, 3...</td>\n",
       "      <td>240.0</td>\n",
       "      <td>112.750000</td>\n",
       "      <td>[0, 0, 0, 0, 0, 0, 0, 0, 0, 0, -2, -2, -1, -1,...</td>\n",
       "      <td>True</td>\n",
       "      <td>True</td>\n",
       "      <td>[[0.0, 0.0, 0.0, 0.0, 0.0, 0.0, 0.0, 0.0, 0.0,...</td>\n",
       "      <td>False</td>\n",
       "    </tr>\n",
       "    <tr>\n",
       "      <th>1</th>\n",
       "      <td>924555.0</td>\n",
       "      <td>945395.0</td>\n",
       "      <td>44378640.0</td>\n",
       "      <td>45378960.0</td>\n",
       "      <td>[2.6427765346156753, 3.1863976015258806, 4.622...</td>\n",
       "      <td>3.837231</td>\n",
       "      <td>115.114813</td>\n",
       "      <td>True</td>\n",
       "      <td>/mnt/sphere/speech_bci/raw_data/s_b1253_21/202...</td>\n",
       "      <td>20840.0</td>\n",
       "      <td>[[924555, 924635], [925235, 925290], [925315, ...</td>\n",
       "      <td>82.0</td>\n",
       "      <td>[7, 14, 31, 76, 145, 155, 162, 173, 201, 239, ...</td>\n",
       "      <td>233.0</td>\n",
       "      <td>89.442060</td>\n",
       "      <td>[-5, -4, -4, -3, -4, -4, -4, -6, -4, -2, -3, -...</td>\n",
       "      <td>True</td>\n",
       "      <td>True</td>\n",
       "      <td>[[0.0, 0.0, 0.0, 0.0, 0.0, 0.0, 0.0, 0.0, 0.0,...</td>\n",
       "      <td>False</td>\n",
       "    </tr>\n",
       "    <tr>\n",
       "      <th>2</th>\n",
       "      <td>1041975.0</td>\n",
       "      <td>1071595.0</td>\n",
       "      <td>50014800.0</td>\n",
       "      <td>51436560.0</td>\n",
       "      <td>[26.3627577571065, 27.576856238944778, 24.7911...</td>\n",
       "      <td>3.837231</td>\n",
       "      <td>164.391799</td>\n",
       "      <td>True</td>\n",
       "      <td>/mnt/sphere/speech_bci/raw_data/s_b1253_21/202...</td>\n",
       "      <td>29620.0</td>\n",
       "      <td>[[1041975, 1042015], [1042045, 1042075], [1042...</td>\n",
       "      <td>93.0</td>\n",
       "      <td>[1, 16, 57, 126, 162, 170, 187, 232, 243, 293,...</td>\n",
       "      <td>324.0</td>\n",
       "      <td>91.419753</td>\n",
       "      <td>[3, 3, 1, 1, 2, 1, 1, 1, 3, 4, 3, 3, 2, 2, 1, ...</td>\n",
       "      <td>True</td>\n",
       "      <td>True</td>\n",
       "      <td>[[0.0, 0.0, 0.0, 0.0, 0.0, 0.0, 0.0, 0.0, 0.0,...</td>\n",
       "      <td>False</td>\n",
       "    </tr>\n",
       "  </tbody>\n",
       "</table>\n",
       "</div>"
      ],
      "text/plain": [
       "    start_ms     end_ms  start_sample  end_sample  \\\n",
       "0   224595.0   251655.0    10780560.0  12079440.0   \n",
       "1   924555.0   945395.0    44378640.0  45378960.0   \n",
       "2  1041975.0  1071595.0    50014800.0  51436560.0   \n",
       "\n",
       "                                              p_step     rms_p      peak_p  \\\n",
       "0  [2.194746139749094, 3.850394476655695, 2.16753...  3.837231  104.672704   \n",
       "1  [2.6427765346156753, 3.1863976015258806, 4.622...  3.837231  115.114813   \n",
       "2  [26.3627577571065, 27.576856238944778, 24.7911...  3.837231  164.391799   \n",
       "\n",
       "  bout_check                                               file   len_ms  \\\n",
       "0       True  /mnt/sphere/speech_bci/raw_data/s_b1253_21/202...  27060.0   \n",
       "1       True  /mnt/sphere/speech_bci/raw_data/s_b1253_21/202...  20840.0   \n",
       "2       True  /mnt/sphere/speech_bci/raw_data/s_b1253_21/202...  29620.0   \n",
       "\n",
       "                                              syl_in  n_syl  \\\n",
       "0  [[224595, 224700], [226320, 226465], [227510, ...   73.0   \n",
       "1  [[924555, 924635], [925235, 925290], [925315, ...   82.0   \n",
       "2  [[1041975, 1042015], [1042045, 1042075], [1042...   93.0   \n",
       "\n",
       "                                             peaks_p  n_peaks   l_p_ratio  \\\n",
       "0  [1, 10, 18, 32, 41, 348, 356, 364, 373, 386, 3...    240.0  112.750000   \n",
       "1  [7, 14, 31, 76, 145, 155, 162, 173, 201, 239, ...    233.0   89.442060   \n",
       "2  [1, 16, 57, 126, 162, 170, 187, 232, 243, 293,...    324.0   91.419753   \n",
       "\n",
       "                                            waveform valid_waveform valid  \\\n",
       "0  [0, 0, 0, 0, 0, 0, 0, 0, 0, 0, -2, -2, -1, -1,...           True  True   \n",
       "1  [-5, -4, -4, -3, -4, -4, -4, -6, -4, -2, -3, -...           True  True   \n",
       "2  [3, 3, 1, 1, 2, 1, 1, 1, 3, 4, 3, 3, 2, 2, 1, ...           True  True   \n",
       "\n",
       "                                         spectrogram confusing  \n",
       "0  [[0.0, 0.0, 0.0, 0.0, 0.0, 0.0, 0.0, 0.0, 0.0,...     False  \n",
       "1  [[0.0, 0.0, 0.0, 0.0, 0.0, 0.0, 0.0, 0.0, 0.0,...     False  \n",
       "2  [[0.0, 0.0, 0.0, 0.0, 0.0, 0.0, 0.0, 0.0, 0.0,...     False  "
      ]
     },
     "execution_count": 10,
     "metadata": {},
     "output_type": "execute_result"
    }
   ],
   "source": [
    "only_bout_pd.head(3)"
   ]
  },
  {
   "cell_type": "code",
   "execution_count": 52,
   "id": "loving-artist",
   "metadata": {},
   "outputs": [
    {
     "name": "stderr",
     "output_type": "stream",
     "text": [
      "2021-08-12 12:37:14,431 numexpr.utils INFO     Note: NumExpr detected 32 cores but \"NUMEXPR_MAX_THREADS\" not set, so enforcing safe limit of 8.\n",
      "2021-08-12 12:37:14,431 numexpr.utils INFO     NumExpr defaulting to 8 threads.\n"
     ]
    }
   ],
   "source": [
    "only_bout_pd.dropna(inplace=True)"
   ]
  },
  {
   "cell_type": "markdown",
   "id": "seeing-details",
   "metadata": {},
   "source": [
    "### save it somewhere"
   ]
  },
  {
   "cell_type": "code",
   "execution_count": 11,
   "id": "handed-milwaukee",
   "metadata": {},
   "outputs": [],
   "source": [
    "bout_folder = '/mnt/sphere/speech_bci/analysis/bout/s_b1253_21'\n",
    "bout_file = 'check_bouts.pickle'\n",
    "\n",
    "only_bout_pd.to_pickle(os.path.join(bout_folder, bout_file))"
   ]
  },
  {
   "cell_type": "code",
   "execution_count": 12,
   "id": "congressional-saturday",
   "metadata": {},
   "outputs": [
    {
     "data": {
      "text/plain": [
       "'/mnt/sphere/speech_bci/analysis/bout/s_b1253_21/check_bouts.pickle'"
      ]
     },
     "execution_count": 12,
     "metadata": {},
     "output_type": "execute_result"
    }
   ],
   "source": [
    "os.path.join(bout_folder, bout_file)"
   ]
  },
  {
   "cell_type": "markdown",
   "id": "stylish-mentor",
   "metadata": {},
   "source": [
    "### save each bout to a wav file"
   ]
  },
  {
   "cell_type": "code",
   "execution_count": 13,
   "id": "mental-cradle",
   "metadata": {},
   "outputs": [
    {
     "data": {
      "text/plain": [
       "start_ms                                                   224595.0\n",
       "end_ms                                                     251655.0\n",
       "start_sample                                             10780560.0\n",
       "end_sample                                               12079440.0\n",
       "p_step            [2.194746139749094, 3.850394476655695, 2.16753...\n",
       "rms_p                                                      3.837231\n",
       "peak_p                                                   104.672704\n",
       "bout_check                                                     True\n",
       "file              /mnt/sphere/speech_bci/raw_data/s_b1253_21/202...\n",
       "len_ms                                                      27060.0\n",
       "syl_in            [[224595, 224700], [226320, 226465], [227510, ...\n",
       "n_syl                                                          73.0\n",
       "peaks_p           [1, 10, 18, 32, 41, 348, 356, 364, 373, 386, 3...\n",
       "n_peaks                                                       240.0\n",
       "l_p_ratio                                                    112.75\n",
       "waveform          [0, 0, 0, 0, 0, 0, 0, 0, 0, 0, -2, -2, -1, -1,...\n",
       "valid_waveform                                                 True\n",
       "valid                                                          True\n",
       "spectrogram       [[0.0, 0.0, 0.0, 0.0, 0.0, 0.0, 0.0, 0.0, 0.0,...\n",
       "confusing                                                     False\n",
       "Name: 0, dtype: object"
      ]
     },
     "execution_count": 13,
     "metadata": {},
     "output_type": "execute_result"
    }
   ],
   "source": [
    "one_bout = only_bout_pd.iloc[0]\n",
    "one_bout"
   ]
  },
  {
   "cell_type": "code",
   "execution_count": 14,
   "id": "voluntary-mirror",
   "metadata": {},
   "outputs": [
    {
     "data": {
      "text/plain": [
       "(array([], dtype=int64),)"
      ]
     },
     "execution_count": 14,
     "metadata": {},
     "output_type": "execute_result"
    }
   ],
   "source": [
    "np.where(only_bout_pd['valid'] == False)"
   ]
  },
  {
   "cell_type": "code",
   "execution_count": 15,
   "id": "higher-columbia",
   "metadata": {},
   "outputs": [
    {
     "data": {
      "text/plain": [
       "Index(['start_ms', 'end_ms', 'start_sample', 'end_sample', 'p_step', 'rms_p',\n",
       "       'peak_p', 'bout_check', 'file', 'len_ms', 'syl_in', 'n_syl', 'peaks_p',\n",
       "       'n_peaks', 'l_p_ratio', 'waveform', 'valid_waveform', 'valid',\n",
       "       'spectrogram', 'confusing'],\n",
       "      dtype='object')"
      ]
     },
     "execution_count": 15,
     "metadata": {},
     "output_type": "execute_result"
    }
   ],
   "source": [
    "one_bout.index"
   ]
  },
  {
   "cell_type": "code",
   "execution_count": 16,
   "id": "spectacular-demographic",
   "metadata": {},
   "outputs": [
    {
     "data": {
      "text/plain": [
       "['',\n",
       " 'mnt',\n",
       " 'sphere',\n",
       " 'speech_bci',\n",
       " 'raw_data',\n",
       " 's_b1253_21',\n",
       " '2021-06-06',\n",
       " 'alsa']"
      ]
     },
     "execution_count": 16,
     "metadata": {},
     "output_type": "execute_result"
    }
   ],
   "source": [
    "fpath, fname = os.path.split(one_bout['file'])\n",
    "\n",
    "fpath.split(os.path.sep)"
   ]
  },
  {
   "cell_type": "code",
   "execution_count": 73,
   "id": "universal-cross",
   "metadata": {},
   "outputs": [],
   "source": [
    "wavfile.write?"
   ]
  },
  {
   "cell_type": "code",
   "execution_count": 21,
   "id": "reverse-decade",
   "metadata": {},
   "outputs": [],
   "source": [
    "def bout_to_json(bout_dict, json_path):\n",
    "    os.makedirs(os.path.split(json_path)[0], exist_ok=True)\n",
    "    with open(json_path, 'w') as json_file:\n",
    "        json.dump(bout_dict, json_file)"
   ]
  },
  {
   "cell_type": "code",
   "execution_count": 58,
   "id": "recognized-wholesale",
   "metadata": {},
   "outputs": [
    {
     "data": {
      "text/plain": [
       "'/mnt/sphere/speech_bci/analysis/bout/s_b1253_21/bout_wav/s_b1253_21-2021-06-06-07-00-01-01-10780560.wav'"
      ]
     },
     "execution_count": 58,
     "metadata": {},
     "output_type": "execute_result"
    }
   ],
   "source": [
    "bout_wav_folder = os.path.join(bout_folder, 'bout_wav')\n",
    "\n",
    "def bout_to_wav(bout_s: pd.Series, s_f=48000, border_ms=1000):\n",
    "    # trim the edges\n",
    "    border_samples = int(s_f * border_ms * 0.001)\n",
    "    # get the wav for the series (trim the edges)\n",
    "    #x = bout_s['waveform'][border_samples: -border_samples]\n",
    "    x = bout_s['waveform']\n",
    "    #define wav file\n",
    "    path_parts, path_name = os.path.split(bout_s['file'])\n",
    "    [bird, sess] = path_parts.split(os.path.sep)[5:7]\n",
    "    file = path_name.split('.wav')[0]\n",
    "    \n",
    "    out_fname = '{}-{}-{}-{}.wav'.format(bird, sess, file, int(bout_s['start_sample']))\n",
    "    \n",
    "    #save as wav\n",
    "    out_wav_path = os.path.join(bout_folder, 'bout_wav', out_fname)\n",
    "    os.makedirs(os.path.split(out_wav_path)[0], exist_ok=True)\n",
    "    #logger.info('saving to ' + out_wav_path)\n",
    "    wavfile.write(out_wav_path, s_f, x)\n",
    "    \n",
    "    # make the bout_dict for the json file\n",
    "    bout_len = x.size / s_f\n",
    "    bout_dict = {'lenght_s': bout_len,\n",
    "                'samplerate_hz': s_f,\n",
    "                'wav_loc': out_wav_path,\n",
    "                'indvs': {bird: 'European Starling'}}\n",
    "    json_fname = '{}-{}-{}-{}.json'.format(bird, sess, file, int(bout_s['start_sample']))\n",
    "    bout_json_path = os.path.join(bout_folder, 'bout_wav', json_fname)\n",
    "    bout_to_json(bout_dict, bout_json_path)\n",
    "    return out_wav_path\n",
    "    \n",
    "## these come from the params pickle file\n",
    "s_f = 48000\n",
    "border_ms = 900\n",
    "\n",
    "bout_to_wav(one_bout, s_f=s_f, border_ms=border_ms)\n"
   ]
  },
  {
   "cell_type": "code",
   "execution_count": 59,
   "id": "grand-space",
   "metadata": {},
   "outputs": [
    {
     "data": {
      "text/plain": [
       "0       /mnt/sphere/speech_bci/analysis/bout/s_b1253_2...\n",
       "1       /mnt/sphere/speech_bci/analysis/bout/s_b1253_2...\n",
       "2       /mnt/sphere/speech_bci/analysis/bout/s_b1253_2...\n",
       "3       /mnt/sphere/speech_bci/analysis/bout/s_b1253_2...\n",
       "4       /mnt/sphere/speech_bci/analysis/bout/s_b1253_2...\n",
       "                              ...                        \n",
       "2129    /mnt/sphere/speech_bci/analysis/bout/s_b1253_2...\n",
       "2130    /mnt/sphere/speech_bci/analysis/bout/s_b1253_2...\n",
       "2131    /mnt/sphere/speech_bci/analysis/bout/s_b1253_2...\n",
       "2132    /mnt/sphere/speech_bci/analysis/bout/s_b1253_2...\n",
       "2133    /mnt/sphere/speech_bci/analysis/bout/s_b1253_2...\n",
       "Length: 1847, dtype: object"
      ]
     },
     "execution_count": 59,
     "metadata": {},
     "output_type": "execute_result"
    }
   ],
   "source": [
    "## save all\n",
    "only_bout_pd.apply(lambda s: bout_to_wav(s, s_f=s_f, border_ms=border_ms), axis=1)"
   ]
  },
  {
   "cell_type": "code",
   "execution_count": null,
   "id": "blond-engagement",
   "metadata": {},
   "outputs": [],
   "source": []
  }
 ],
 "metadata": {
  "kernelspec": {
   "display_name": "otrepipe",
   "language": "python",
   "name": "otrepipe"
  },
  "language_info": {
   "codemirror_mode": {
    "name": "ipython",
    "version": 3
   },
   "file_extension": ".py",
   "mimetype": "text/x-python",
   "name": "python",
   "nbconvert_exporter": "python",
   "pygments_lexer": "ipython3",
   "version": "3.8.3"
  }
 },
 "nbformat": 4,
 "nbformat_minor": 5
}
